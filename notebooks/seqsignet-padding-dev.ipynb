{
 "cells": [
  {
   "cell_type": "code",
   "execution_count": 38,
   "id": "2a2ab372-fcac-4506-add6-2cfc51d61ab8",
   "metadata": {},
   "outputs": [],
   "source": [
    "seed = 2023\n",
    "from nlpsig_networks.scripts.seqsignet_functions import obtain_SeqSigNet_input\n",
    "from nlpsig_networks.scripts.swnu_network_functions import obtain_SWNUNetwork_input\n",
    "from nlpsig_networks.utils import obtain_paths_mask, obtain_signatures_mask"
   ]
  },
  {
   "cell_type": "code",
   "execution_count": 2,
   "id": "4a3f950d",
   "metadata": {},
   "outputs": [],
   "source": [
    "import os\n",
    "\n",
    "os.chdir(\"Rumours/\")"
   ]
  },
  {
   "cell_type": "markdown",
   "id": "4e0ad91f-9f08-419e-8119-c93715159d28",
   "metadata": {},
   "source": [
    "## Rumours"
   ]
  },
  {
   "cell_type": "code",
   "execution_count": 3,
   "id": "dff20ec3-c34b-4058-8ec5-ddf94d63e348",
   "metadata": {},
   "outputs": [],
   "source": [
    "%run load_sbert-embeddings.py"
   ]
  },
  {
   "cell_type": "code",
   "execution_count": 4,
   "id": "24fadcec-ab8d-4a2b-b7f5-e746c4ee1f8c",
   "metadata": {},
   "outputs": [
    {
     "data": {
      "text/html": [
       "<div>\n",
       "<style scoped>\n",
       "    .dataframe tbody tr th:only-of-type {\n",
       "        vertical-align: middle;\n",
       "    }\n",
       "\n",
       "    .dataframe tbody tr th {\n",
       "        vertical-align: top;\n",
       "    }\n",
       "\n",
       "    .dataframe thead th {\n",
       "        text-align: right;\n",
       "    }\n",
       "</style>\n",
       "<table border=\"1\" class=\"dataframe\">\n",
       "  <thead>\n",
       "    <tr style=\"text-align: right;\">\n",
       "      <th></th>\n",
       "      <th>id</th>\n",
       "      <th>label</th>\n",
       "      <th>datetime</th>\n",
       "      <th>text</th>\n",
       "      <th>timeline_id</th>\n",
       "      <th>set</th>\n",
       "    </tr>\n",
       "  </thead>\n",
       "  <tbody>\n",
       "    <tr>\n",
       "      <th>0</th>\n",
       "      <td>5.249902e+17</td>\n",
       "      <td>0</td>\n",
       "      <td>2014-10-22 18:26:23</td>\n",
       "      <td>Police have clarified that there were two shoo...</td>\n",
       "      <td>0</td>\n",
       "      <td>train</td>\n",
       "    </tr>\n",
       "    <tr>\n",
       "      <th>1</th>\n",
       "      <td>5.249906e+17</td>\n",
       "      <td>0</td>\n",
       "      <td>2014-10-22 18:27:58</td>\n",
       "      <td>@CTVNews you guys \"confirmed\" there were 3 sho...</td>\n",
       "      <td>0</td>\n",
       "      <td>train</td>\n",
       "    </tr>\n",
       "    <tr>\n",
       "      <th>2</th>\n",
       "      <td>5.249908e+17</td>\n",
       "      <td>1</td>\n",
       "      <td>2014-10-22 18:28:46</td>\n",
       "      <td>@CTVNews get it right. http://t.co/GHYxMuzPG9</td>\n",
       "      <td>0</td>\n",
       "      <td>train</td>\n",
       "    </tr>\n",
       "    <tr>\n",
       "      <th>3</th>\n",
       "      <td>5.249927e+17</td>\n",
       "      <td>1</td>\n",
       "      <td>2014-10-22 18:36:29</td>\n",
       "      <td>RT @CTVNews Police have clarified that there w...</td>\n",
       "      <td>0</td>\n",
       "      <td>train</td>\n",
       "    </tr>\n",
       "    <tr>\n",
       "      <th>4</th>\n",
       "      <td>5.250038e+17</td>\n",
       "      <td>1</td>\n",
       "      <td>2014-10-22 19:20:41</td>\n",
       "      <td>@CTVNews @ctvsaskatoon so what happened at Rid...</td>\n",
       "      <td>0</td>\n",
       "      <td>train</td>\n",
       "    </tr>\n",
       "  </tbody>\n",
       "</table>\n",
       "</div>"
      ],
      "text/plain": [
       "             id label            datetime  \\\n",
       "0  5.249902e+17     0 2014-10-22 18:26:23   \n",
       "1  5.249906e+17     0 2014-10-22 18:27:58   \n",
       "2  5.249908e+17     1 2014-10-22 18:28:46   \n",
       "3  5.249927e+17     1 2014-10-22 18:36:29   \n",
       "4  5.250038e+17     1 2014-10-22 19:20:41   \n",
       "\n",
       "                                                text timeline_id    set  \n",
       "0  Police have clarified that there were two shoo...           0  train  \n",
       "1  @CTVNews you guys \"confirmed\" there were 3 sho...           0  train  \n",
       "2      @CTVNews get it right. http://t.co/GHYxMuzPG9           0  train  \n",
       "3  RT @CTVNews Police have clarified that there w...           0  train  \n",
       "4  @CTVNews @ctvsaskatoon so what happened at Rid...           0  train  "
      ]
     },
     "execution_count": 4,
     "metadata": {},
     "output_type": "execute_result"
    }
   ],
   "source": [
    "df_rumours.head()"
   ]
  },
  {
   "cell_type": "code",
   "execution_count": 5,
   "id": "cd2259de",
   "metadata": {},
   "outputs": [
    {
     "data": {
      "text/plain": [
       "5568"
      ]
     },
     "execution_count": 5,
     "metadata": {},
     "output_type": "execute_result"
    }
   ],
   "source": [
    "len(df_rumours)"
   ]
  },
  {
   "cell_type": "code",
   "execution_count": 6,
   "id": "34d87e72",
   "metadata": {},
   "outputs": [],
   "source": [
    "shift = 3\n",
    "window_size = 5\n",
    "n = 11"
   ]
  },
  {
   "cell_type": "code",
   "execution_count": 96,
   "id": "e1908cc0-4b2b-4c1d-8b17-6c237ed1849a",
   "metadata": {
    "scrolled": true,
    "tags": []
   },
   "outputs": [
    {
     "name": "stdout",
     "output_type": "stream",
     "text": [
      "[INFO] Concatenating the embeddings to the dataframe...\n",
      "[INFO] - columns beginning with 'e' denote the full embddings.\n",
      "[INFO] - columns beginning with 'd' denote the dimension reduced embeddings.\n",
      "[INFO] Adding time feature columns into dataframe in `.df`.\n",
      "[INFO] Adding 'time_encoding' feature...\n",
      "[INFO] Adding 'time_diff' feature...\n",
      "[INFO] Adding 'timeline_index' feature...\n",
      "[INFO] Padding ids and storing in `.df_padded` and `.array_padded` attributes.\n"
     ]
    },
    {
     "data": {
      "application/vnd.jupyter.widget-view+json": {
       "model_id": "43da396971e94cb78d7d47f8839b9308",
       "version_major": 2,
       "version_minor": 0
      },
      "text/plain": [
       "  0%|          | 0/5568 [00:00<?, ?it/s]"
      ]
     },
     "metadata": {},
     "output_type": "display_data"
    },
    {
     "name": "stdout",
     "output_type": "stream",
     "text": [
      "[INFO] The path was created for each item in the dataframe, by looking at its history, so to include embeddings in the FFN input, we concatenate the embeddings for each sentence / text.\n"
     ]
    }
   ],
   "source": [
    "x_data = obtain_SWNUNetwork_input(\n",
    "    method=\"umap\",\n",
    "    dimension=3,\n",
    "    df=df_rumours,\n",
    "    id_column=\"timeline_id\",\n",
    "    label_column=\"label\",\n",
    "    embeddings=sbert_embeddings,\n",
    "    k=35,\n",
    "    features=[\"time_encoding\", \"timeline_index\"],\n",
    "    standardise_method=None,\n",
    "    add_features_in_path=False,\n",
    "    path_indices=[0, 1, 2, 3],\n",
    ")"
   ]
  },
  {
   "cell_type": "code",
   "execution_count": 97,
   "id": "10498f23",
   "metadata": {},
   "outputs": [],
   "source": [
    "x_data[\"x_data\"][\"path\"] = torch.stack(\n",
    "    [\n",
    "        x_data[\"x_data\"][\"path\"][:, (i * shift) : (i * shift + window_size), :]\n",
    "        for i in range(n)\n",
    "    ],\n",
    "    dim=1,\n",
    ")"
   ]
  },
  {
   "cell_type": "code",
   "execution_count": 75,
   "id": "63006582",
   "metadata": {},
   "outputs": [
    {
     "data": {
      "text/plain": [
       "dict_keys(['x_data', 'input_channels', 'embedding_dim', 'num_features'])"
      ]
     },
     "execution_count": 75,
     "metadata": {},
     "output_type": "execute_result"
    }
   ],
   "source": [
    "x_data.keys()"
   ]
  },
  {
   "cell_type": "code",
   "execution_count": 98,
   "id": "ecadb0dc",
   "metadata": {},
   "outputs": [
    {
     "data": {
      "text/plain": [
       "{'path': tensor([[[[-7.2296,  2.7356,  8.0972],\n",
       "           [ 0.0000,  0.0000,  0.0000],\n",
       "           [ 0.0000,  0.0000,  0.0000],\n",
       "           [ 0.0000,  0.0000,  0.0000],\n",
       "           [ 0.0000,  0.0000,  0.0000]],\n",
       " \n",
       "          [[ 0.0000,  0.0000,  0.0000],\n",
       "           [ 0.0000,  0.0000,  0.0000],\n",
       "           [ 0.0000,  0.0000,  0.0000],\n",
       "           [ 0.0000,  0.0000,  0.0000],\n",
       "           [ 0.0000,  0.0000,  0.0000]],\n",
       " \n",
       "          [[ 0.0000,  0.0000,  0.0000],\n",
       "           [ 0.0000,  0.0000,  0.0000],\n",
       "           [ 0.0000,  0.0000,  0.0000],\n",
       "           [ 0.0000,  0.0000,  0.0000],\n",
       "           [ 0.0000,  0.0000,  0.0000]],\n",
       " \n",
       "          [[ 0.0000,  0.0000,  0.0000],\n",
       "           [ 0.0000,  0.0000,  0.0000],\n",
       "           [ 0.0000,  0.0000,  0.0000],\n",
       "           [ 0.0000,  0.0000,  0.0000],\n",
       "           [ 0.0000,  0.0000,  0.0000]],\n",
       " \n",
       "          [[ 0.0000,  0.0000,  0.0000],\n",
       "           [ 0.0000,  0.0000,  0.0000],\n",
       "           [ 0.0000,  0.0000,  0.0000],\n",
       "           [ 0.0000,  0.0000,  0.0000],\n",
       "           [ 0.0000,  0.0000,  0.0000]],\n",
       " \n",
       "          [[ 0.0000,  0.0000,  0.0000],\n",
       "           [ 0.0000,  0.0000,  0.0000],\n",
       "           [ 0.0000,  0.0000,  0.0000],\n",
       "           [ 0.0000,  0.0000,  0.0000],\n",
       "           [ 0.0000,  0.0000,  0.0000]],\n",
       " \n",
       "          [[ 0.0000,  0.0000,  0.0000],\n",
       "           [ 0.0000,  0.0000,  0.0000],\n",
       "           [ 0.0000,  0.0000,  0.0000],\n",
       "           [ 0.0000,  0.0000,  0.0000],\n",
       "           [ 0.0000,  0.0000,  0.0000]],\n",
       " \n",
       "          [[ 0.0000,  0.0000,  0.0000],\n",
       "           [ 0.0000,  0.0000,  0.0000],\n",
       "           [ 0.0000,  0.0000,  0.0000],\n",
       "           [ 0.0000,  0.0000,  0.0000],\n",
       "           [ 0.0000,  0.0000,  0.0000]],\n",
       " \n",
       "          [[ 0.0000,  0.0000,  0.0000],\n",
       "           [ 0.0000,  0.0000,  0.0000],\n",
       "           [ 0.0000,  0.0000,  0.0000],\n",
       "           [ 0.0000,  0.0000,  0.0000],\n",
       "           [ 0.0000,  0.0000,  0.0000]],\n",
       " \n",
       "          [[ 0.0000,  0.0000,  0.0000],\n",
       "           [ 0.0000,  0.0000,  0.0000],\n",
       "           [ 0.0000,  0.0000,  0.0000],\n",
       "           [ 0.0000,  0.0000,  0.0000],\n",
       "           [ 0.0000,  0.0000,  0.0000]],\n",
       " \n",
       "          [[ 0.0000,  0.0000,  0.0000],\n",
       "           [ 0.0000,  0.0000,  0.0000],\n",
       "           [ 0.0000,  0.0000,  0.0000],\n",
       "           [ 0.0000,  0.0000,  0.0000],\n",
       "           [ 0.0000,  0.0000,  0.0000]]],\n",
       " \n",
       " \n",
       "         [[[-7.2296,  2.7356,  8.0972],\n",
       "           [-7.4468,  3.6928,  9.9551],\n",
       "           [ 0.0000,  0.0000,  0.0000],\n",
       "           [ 0.0000,  0.0000,  0.0000],\n",
       "           [ 0.0000,  0.0000,  0.0000]],\n",
       " \n",
       "          [[ 0.0000,  0.0000,  0.0000],\n",
       "           [ 0.0000,  0.0000,  0.0000],\n",
       "           [ 0.0000,  0.0000,  0.0000],\n",
       "           [ 0.0000,  0.0000,  0.0000],\n",
       "           [ 0.0000,  0.0000,  0.0000]],\n",
       " \n",
       "          [[ 0.0000,  0.0000,  0.0000],\n",
       "           [ 0.0000,  0.0000,  0.0000],\n",
       "           [ 0.0000,  0.0000,  0.0000],\n",
       "           [ 0.0000,  0.0000,  0.0000],\n",
       "           [ 0.0000,  0.0000,  0.0000]],\n",
       " \n",
       "          [[ 0.0000,  0.0000,  0.0000],\n",
       "           [ 0.0000,  0.0000,  0.0000],\n",
       "           [ 0.0000,  0.0000,  0.0000],\n",
       "           [ 0.0000,  0.0000,  0.0000],\n",
       "           [ 0.0000,  0.0000,  0.0000]],\n",
       " \n",
       "          [[ 0.0000,  0.0000,  0.0000],\n",
       "           [ 0.0000,  0.0000,  0.0000],\n",
       "           [ 0.0000,  0.0000,  0.0000],\n",
       "           [ 0.0000,  0.0000,  0.0000],\n",
       "           [ 0.0000,  0.0000,  0.0000]],\n",
       " \n",
       "          [[ 0.0000,  0.0000,  0.0000],\n",
       "           [ 0.0000,  0.0000,  0.0000],\n",
       "           [ 0.0000,  0.0000,  0.0000],\n",
       "           [ 0.0000,  0.0000,  0.0000],\n",
       "           [ 0.0000,  0.0000,  0.0000]],\n",
       " \n",
       "          [[ 0.0000,  0.0000,  0.0000],\n",
       "           [ 0.0000,  0.0000,  0.0000],\n",
       "           [ 0.0000,  0.0000,  0.0000],\n",
       "           [ 0.0000,  0.0000,  0.0000],\n",
       "           [ 0.0000,  0.0000,  0.0000]],\n",
       " \n",
       "          [[ 0.0000,  0.0000,  0.0000],\n",
       "           [ 0.0000,  0.0000,  0.0000],\n",
       "           [ 0.0000,  0.0000,  0.0000],\n",
       "           [ 0.0000,  0.0000,  0.0000],\n",
       "           [ 0.0000,  0.0000,  0.0000]],\n",
       " \n",
       "          [[ 0.0000,  0.0000,  0.0000],\n",
       "           [ 0.0000,  0.0000,  0.0000],\n",
       "           [ 0.0000,  0.0000,  0.0000],\n",
       "           [ 0.0000,  0.0000,  0.0000],\n",
       "           [ 0.0000,  0.0000,  0.0000]],\n",
       " \n",
       "          [[ 0.0000,  0.0000,  0.0000],\n",
       "           [ 0.0000,  0.0000,  0.0000],\n",
       "           [ 0.0000,  0.0000,  0.0000],\n",
       "           [ 0.0000,  0.0000,  0.0000],\n",
       "           [ 0.0000,  0.0000,  0.0000]],\n",
       " \n",
       "          [[ 0.0000,  0.0000,  0.0000],\n",
       "           [ 0.0000,  0.0000,  0.0000],\n",
       "           [ 0.0000,  0.0000,  0.0000],\n",
       "           [ 0.0000,  0.0000,  0.0000],\n",
       "           [ 0.0000,  0.0000,  0.0000]]],\n",
       " \n",
       " \n",
       "         [[[-7.2296,  2.7356,  8.0972],\n",
       "           [-7.4468,  3.6928,  9.9551],\n",
       "           [-9.0931, 12.8440,  9.0442],\n",
       "           [ 0.0000,  0.0000,  0.0000],\n",
       "           [ 0.0000,  0.0000,  0.0000]],\n",
       " \n",
       "          [[ 0.0000,  0.0000,  0.0000],\n",
       "           [ 0.0000,  0.0000,  0.0000],\n",
       "           [ 0.0000,  0.0000,  0.0000],\n",
       "           [ 0.0000,  0.0000,  0.0000],\n",
       "           [ 0.0000,  0.0000,  0.0000]],\n",
       " \n",
       "          [[ 0.0000,  0.0000,  0.0000],\n",
       "           [ 0.0000,  0.0000,  0.0000],\n",
       "           [ 0.0000,  0.0000,  0.0000],\n",
       "           [ 0.0000,  0.0000,  0.0000],\n",
       "           [ 0.0000,  0.0000,  0.0000]],\n",
       " \n",
       "          [[ 0.0000,  0.0000,  0.0000],\n",
       "           [ 0.0000,  0.0000,  0.0000],\n",
       "           [ 0.0000,  0.0000,  0.0000],\n",
       "           [ 0.0000,  0.0000,  0.0000],\n",
       "           [ 0.0000,  0.0000,  0.0000]],\n",
       " \n",
       "          [[ 0.0000,  0.0000,  0.0000],\n",
       "           [ 0.0000,  0.0000,  0.0000],\n",
       "           [ 0.0000,  0.0000,  0.0000],\n",
       "           [ 0.0000,  0.0000,  0.0000],\n",
       "           [ 0.0000,  0.0000,  0.0000]],\n",
       " \n",
       "          [[ 0.0000,  0.0000,  0.0000],\n",
       "           [ 0.0000,  0.0000,  0.0000],\n",
       "           [ 0.0000,  0.0000,  0.0000],\n",
       "           [ 0.0000,  0.0000,  0.0000],\n",
       "           [ 0.0000,  0.0000,  0.0000]],\n",
       " \n",
       "          [[ 0.0000,  0.0000,  0.0000],\n",
       "           [ 0.0000,  0.0000,  0.0000],\n",
       "           [ 0.0000,  0.0000,  0.0000],\n",
       "           [ 0.0000,  0.0000,  0.0000],\n",
       "           [ 0.0000,  0.0000,  0.0000]],\n",
       " \n",
       "          [[ 0.0000,  0.0000,  0.0000],\n",
       "           [ 0.0000,  0.0000,  0.0000],\n",
       "           [ 0.0000,  0.0000,  0.0000],\n",
       "           [ 0.0000,  0.0000,  0.0000],\n",
       "           [ 0.0000,  0.0000,  0.0000]],\n",
       " \n",
       "          [[ 0.0000,  0.0000,  0.0000],\n",
       "           [ 0.0000,  0.0000,  0.0000],\n",
       "           [ 0.0000,  0.0000,  0.0000],\n",
       "           [ 0.0000,  0.0000,  0.0000],\n",
       "           [ 0.0000,  0.0000,  0.0000]],\n",
       " \n",
       "          [[ 0.0000,  0.0000,  0.0000],\n",
       "           [ 0.0000,  0.0000,  0.0000],\n",
       "           [ 0.0000,  0.0000,  0.0000],\n",
       "           [ 0.0000,  0.0000,  0.0000],\n",
       "           [ 0.0000,  0.0000,  0.0000]],\n",
       " \n",
       "          [[ 0.0000,  0.0000,  0.0000],\n",
       "           [ 0.0000,  0.0000,  0.0000],\n",
       "           [ 0.0000,  0.0000,  0.0000],\n",
       "           [ 0.0000,  0.0000,  0.0000],\n",
       "           [ 0.0000,  0.0000,  0.0000]]],\n",
       " \n",
       " \n",
       "         [[[-7.2296,  2.7356,  8.0972],\n",
       "           [-7.4468,  3.6928,  9.9551],\n",
       "           [-9.0931, 12.8440,  9.0442],\n",
       "           [-6.7662,  2.6486,  8.3875],\n",
       "           [ 0.0000,  0.0000,  0.0000]],\n",
       " \n",
       "          [[-6.7662,  2.6486,  8.3875],\n",
       "           [ 0.0000,  0.0000,  0.0000],\n",
       "           [ 0.0000,  0.0000,  0.0000],\n",
       "           [ 0.0000,  0.0000,  0.0000],\n",
       "           [ 0.0000,  0.0000,  0.0000]],\n",
       " \n",
       "          [[ 0.0000,  0.0000,  0.0000],\n",
       "           [ 0.0000,  0.0000,  0.0000],\n",
       "           [ 0.0000,  0.0000,  0.0000],\n",
       "           [ 0.0000,  0.0000,  0.0000],\n",
       "           [ 0.0000,  0.0000,  0.0000]],\n",
       " \n",
       "          [[ 0.0000,  0.0000,  0.0000],\n",
       "           [ 0.0000,  0.0000,  0.0000],\n",
       "           [ 0.0000,  0.0000,  0.0000],\n",
       "           [ 0.0000,  0.0000,  0.0000],\n",
       "           [ 0.0000,  0.0000,  0.0000]],\n",
       " \n",
       "          [[ 0.0000,  0.0000,  0.0000],\n",
       "           [ 0.0000,  0.0000,  0.0000],\n",
       "           [ 0.0000,  0.0000,  0.0000],\n",
       "           [ 0.0000,  0.0000,  0.0000],\n",
       "           [ 0.0000,  0.0000,  0.0000]],\n",
       " \n",
       "          [[ 0.0000,  0.0000,  0.0000],\n",
       "           [ 0.0000,  0.0000,  0.0000],\n",
       "           [ 0.0000,  0.0000,  0.0000],\n",
       "           [ 0.0000,  0.0000,  0.0000],\n",
       "           [ 0.0000,  0.0000,  0.0000]],\n",
       " \n",
       "          [[ 0.0000,  0.0000,  0.0000],\n",
       "           [ 0.0000,  0.0000,  0.0000],\n",
       "           [ 0.0000,  0.0000,  0.0000],\n",
       "           [ 0.0000,  0.0000,  0.0000],\n",
       "           [ 0.0000,  0.0000,  0.0000]],\n",
       " \n",
       "          [[ 0.0000,  0.0000,  0.0000],\n",
       "           [ 0.0000,  0.0000,  0.0000],\n",
       "           [ 0.0000,  0.0000,  0.0000],\n",
       "           [ 0.0000,  0.0000,  0.0000],\n",
       "           [ 0.0000,  0.0000,  0.0000]],\n",
       " \n",
       "          [[ 0.0000,  0.0000,  0.0000],\n",
       "           [ 0.0000,  0.0000,  0.0000],\n",
       "           [ 0.0000,  0.0000,  0.0000],\n",
       "           [ 0.0000,  0.0000,  0.0000],\n",
       "           [ 0.0000,  0.0000,  0.0000]],\n",
       " \n",
       "          [[ 0.0000,  0.0000,  0.0000],\n",
       "           [ 0.0000,  0.0000,  0.0000],\n",
       "           [ 0.0000,  0.0000,  0.0000],\n",
       "           [ 0.0000,  0.0000,  0.0000],\n",
       "           [ 0.0000,  0.0000,  0.0000]],\n",
       " \n",
       "          [[ 0.0000,  0.0000,  0.0000],\n",
       "           [ 0.0000,  0.0000,  0.0000],\n",
       "           [ 0.0000,  0.0000,  0.0000],\n",
       "           [ 0.0000,  0.0000,  0.0000],\n",
       "           [ 0.0000,  0.0000,  0.0000]]]], dtype=torch.float64),\n",
       " 'features': tensor([[ 6.4823e-02,  9.3748e-03, -3.3364e-02,  ...,  1.8542e-03,\n",
       "           2.0148e+03,  1.0000e+00],\n",
       "         [-2.9260e-02, -5.3905e-02, -3.9863e-02,  ...,  9.3606e-02,\n",
       "           2.0148e+03,  2.0000e+00],\n",
       "         [-3.1863e-02,  5.5065e-02, -2.4028e-02,  ...,  9.3310e-02,\n",
       "           2.0148e+03,  3.0000e+00],\n",
       "         [ 5.3822e-02,  9.4921e-03, -9.6542e-03,  ...,  1.1833e-02,\n",
       "           2.0148e+03,  4.0000e+00]])}"
      ]
     },
     "execution_count": 98,
     "metadata": {},
     "output_type": "execute_result"
    }
   ],
   "source": [
    "x_data[\"x_data\"]"
   ]
  },
  {
   "cell_type": "code",
   "execution_count": 99,
   "id": "2abd7518",
   "metadata": {
    "scrolled": true
   },
   "outputs": [
    {
     "data": {
      "text/plain": [
       "torch.Size([4, 11, 5, 3])"
      ]
     },
     "execution_count": 99,
     "metadata": {},
     "output_type": "execute_result"
    }
   ],
   "source": [
    "x_data[\"x_data\"][\"path\"].shape"
   ]
  },
  {
   "cell_type": "code",
   "execution_count": 100,
   "id": "cdee30cb",
   "metadata": {},
   "outputs": [
    {
     "data": {
      "text/plain": [
       "tensor([[ 6.4823e-02,  9.3748e-03, -3.3364e-02,  ...,  1.8542e-03,\n",
       "          2.0148e+03,  1.0000e+00],\n",
       "        [-2.9260e-02, -5.3905e-02, -3.9863e-02,  ...,  9.3606e-02,\n",
       "          2.0148e+03,  2.0000e+00],\n",
       "        [-3.1863e-02,  5.5065e-02, -2.4028e-02,  ...,  9.3310e-02,\n",
       "          2.0148e+03,  3.0000e+00],\n",
       "        [ 5.3822e-02,  9.4921e-03, -9.6542e-03,  ...,  1.1833e-02,\n",
       "          2.0148e+03,  4.0000e+00]])"
      ]
     },
     "execution_count": 100,
     "metadata": {},
     "output_type": "execute_result"
    }
   ],
   "source": [
    "x_data[\"x_data\"][\"features\"]"
   ]
  },
  {
   "cell_type": "code",
   "execution_count": 101,
   "id": "9922416d",
   "metadata": {},
   "outputs": [
    {
     "data": {
      "text/plain": [
       "torch.Size([4, 386])"
      ]
     },
     "execution_count": 101,
     "metadata": {},
     "output_type": "execute_result"
    }
   ],
   "source": [
    "x_data[\"x_data\"][\"features\"].shape"
   ]
  },
  {
   "cell_type": "code",
   "execution_count": 80,
   "id": "65c266e5",
   "metadata": {},
   "outputs": [
    {
     "data": {
      "text/plain": [
       "3"
      ]
     },
     "execution_count": 80,
     "metadata": {},
     "output_type": "execute_result"
    }
   ],
   "source": [
    "x_data[\"input_channels\"]"
   ]
  },
  {
   "cell_type": "code",
   "execution_count": 81,
   "id": "20ebaf67",
   "metadata": {},
   "outputs": [
    {
     "data": {
      "text/plain": [
       "384"
      ]
     },
     "execution_count": 81,
     "metadata": {},
     "output_type": "execute_result"
    }
   ],
   "source": [
    "x_data[\"embedding_dim\"]"
   ]
  },
  {
   "cell_type": "code",
   "execution_count": 82,
   "id": "297955c3",
   "metadata": {},
   "outputs": [
    {
     "data": {
      "text/plain": [
       "2"
      ]
     },
     "execution_count": 82,
     "metadata": {},
     "output_type": "execute_result"
    }
   ],
   "source": [
    "x_data[\"num_features\"]"
   ]
  },
  {
   "cell_type": "code",
   "execution_count": 32,
   "id": "5acd4347",
   "metadata": {},
   "outputs": [
    {
     "data": {
      "text/plain": [
       "tensor([[-7.2296,  2.7356,  8.0972],\n",
       "        [ 0.0000,  0.0000,  0.0000],\n",
       "        [ 0.0000,  0.0000,  0.0000],\n",
       "        [ 0.0000,  0.0000,  0.0000],\n",
       "        [ 0.0000,  0.0000,  0.0000]], dtype=torch.float64)"
      ]
     },
     "execution_count": 32,
     "metadata": {},
     "output_type": "execute_result"
    }
   ],
   "source": [
    "x_data[\"x_data\"][\"path\"][0, 0, :, :]"
   ]
  },
  {
   "cell_type": "code",
   "execution_count": 83,
   "id": "ad8044c5",
   "metadata": {},
   "outputs": [],
   "source": [
    "path = x_data[\"x_data\"][\"path\"]"
   ]
  },
  {
   "cell_type": "code",
   "execution_count": 85,
   "id": "eb6ca35b",
   "metadata": {},
   "outputs": [
    {
     "data": {
      "text/plain": [
       "tensor([[-7.2296,  2.7356,  8.0972],\n",
       "        [ 0.0000,  0.0000,  0.0000],\n",
       "        [ 0.0000,  0.0000,  0.0000],\n",
       "        [ 0.0000,  0.0000,  0.0000],\n",
       "        [ 0.0000,  0.0000,  0.0000]], dtype=torch.float64)"
      ]
     },
     "execution_count": 85,
     "metadata": {},
     "output_type": "execute_result"
    }
   ],
   "source": [
    "path[0][0]"
   ]
  },
  {
   "cell_type": "code",
   "execution_count": 95,
   "id": "c1114e14",
   "metadata": {},
   "outputs": [
    {
     "data": {
      "text/plain": [
       "True"
      ]
     },
     "execution_count": 95,
     "metadata": {},
     "output_type": "execute_result"
    }
   ],
   "source": [
    "torch.equal(torch.sum(torch.sum(path, (2, 3)) != 0, 1), seq_lengths_prev)"
   ]
  },
  {
   "cell_type": "code",
   "execution_count": 50,
   "id": "e0eaafda",
   "metadata": {},
   "outputs": [],
   "source": [
    "seq_lengths_prev = torch.sum(torch.sum(torch.sum(path, 1) != 0, 1) != 0, 1)"
   ]
  },
  {
   "cell_type": "code",
   "execution_count": 71,
   "id": "5546346e",
   "metadata": {},
   "outputs": [
    {
     "data": {
      "text/plain": [
       "tensor([1, 1, 1,  ..., 8, 8, 8])"
      ]
     },
     "execution_count": 71,
     "metadata": {},
     "output_type": "execute_result"
    }
   ],
   "source": [
    "torch.sum(torch.sum(torch.sum(path, 1) != 0, 1) != 0, 1)"
   ]
  },
  {
   "cell_type": "code",
   "execution_count": 69,
   "id": "978fa2c1",
   "metadata": {},
   "outputs": [
    {
     "data": {
      "text/plain": [
       "tensor([1, 1, 1,  ..., 8, 8, 8])"
      ]
     },
     "execution_count": 69,
     "metadata": {},
     "output_type": "execute_result"
    }
   ],
   "source": [
    "seq_lengths_prev"
   ]
  },
  {
   "cell_type": "code",
   "execution_count": 51,
   "id": "5fc8aef7",
   "metadata": {},
   "outputs": [
    {
     "data": {
      "text/plain": [
       "torch.Size([5568])"
      ]
     },
     "execution_count": 51,
     "metadata": {},
     "output_type": "execute_result"
    }
   ],
   "source": [
    "seq_lengths_prev.shape"
   ]
  },
  {
   "cell_type": "code",
   "execution_count": 52,
   "id": "b14cad94",
   "metadata": {},
   "outputs": [
    {
     "data": {
      "text/plain": [
       "tensor([1, 1, 1, 2, 2, 1, 1, 1, 2, 1])"
      ]
     },
     "execution_count": 52,
     "metadata": {},
     "output_type": "execute_result"
    }
   ],
   "source": [
    "seq_lengths_prev[0:10]"
   ]
  },
  {
   "cell_type": "code",
   "execution_count": 105,
   "id": "44599406",
   "metadata": {},
   "outputs": [
    {
     "data": {
      "text/plain": [
       "tensor([[-7.2296,  2.7356,  8.0972],\n",
       "        [ 0.0000,  0.0000,  0.0000],\n",
       "        [ 0.0000,  0.0000,  0.0000],\n",
       "        [ 0.0000,  0.0000,  0.0000],\n",
       "        [ 0.0000,  0.0000,  0.0000]], dtype=torch.float64)"
      ]
     },
     "execution_count": 105,
     "metadata": {},
     "output_type": "execute_result"
    }
   ],
   "source": [
    "path[0][0]"
   ]
  },
  {
   "cell_type": "code",
   "execution_count": 106,
   "id": "8833b3a7",
   "metadata": {},
   "outputs": [
    {
     "data": {
      "text/plain": [
       "tensor([[0., 0., 0.],\n",
       "        [0., 0., 0.],\n",
       "        [0., 0., 0.],\n",
       "        [0., 0., 0.],\n",
       "        [0., 0., 0.]], dtype=torch.float64)"
      ]
     },
     "execution_count": 106,
     "metadata": {},
     "output_type": "execute_result"
    }
   ],
   "source": [
    "path[0][1]"
   ]
  },
  {
   "cell_type": "code",
   "execution_count": 114,
   "id": "80c3cb8a",
   "metadata": {},
   "outputs": [],
   "source": [
    "path_flat = path.view(-1, path.shape[2], path.shape[3])"
   ]
  },
  {
   "cell_type": "code",
   "execution_count": 115,
   "id": "79804662",
   "metadata": {},
   "outputs": [
    {
     "data": {
      "text/plain": [
       "True"
      ]
     },
     "execution_count": 115,
     "metadata": {},
     "output_type": "execute_result"
    }
   ],
   "source": [
    "torch.equal(path_flat, path_flattened)"
   ]
  },
  {
   "cell_type": "code",
   "execution_count": 107,
   "id": "c9f8780e",
   "metadata": {},
   "outputs": [
    {
     "data": {
      "text/plain": [
       "torch.Size([61248, 5, 3])"
      ]
     },
     "execution_count": 107,
     "metadata": {},
     "output_type": "execute_result"
    }
   ],
   "source": [
    "path_flattened = path.flatten(0, 1)\n",
    "path_flattened.shape"
   ]
  },
  {
   "cell_type": "code",
   "execution_count": 117,
   "id": "a3f84f81",
   "metadata": {},
   "outputs": [],
   "source": [
    "path_unflattened = path_flattened.unflatten(0, (path.shape[0], path.shape[1]))"
   ]
  },
  {
   "cell_type": "code",
   "execution_count": 118,
   "id": "dce8d4ab",
   "metadata": {},
   "outputs": [
    {
     "data": {
      "text/plain": [
       "True"
      ]
     },
     "execution_count": 118,
     "metadata": {},
     "output_type": "execute_result"
    }
   ],
   "source": [
    "torch.equal(path, path_unflattened)"
   ]
  }
 ],
 "metadata": {
  "kernelspec": {
   "display_name": "nlpsig-networks",
   "language": "python",
   "name": "python3"
  },
  "language_info": {
   "codemirror_mode": {
    "name": "ipython",
    "version": 3
   },
   "file_extension": ".py",
   "mimetype": "text/x-python",
   "name": "python",
   "nbconvert_exporter": "python",
   "pygments_lexer": "ipython3",
   "version": "3.8.16"
  }
 },
 "nbformat": 4,
 "nbformat_minor": 5
}
