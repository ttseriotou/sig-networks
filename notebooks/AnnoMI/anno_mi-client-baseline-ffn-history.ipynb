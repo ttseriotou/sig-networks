{
 "cells": [
  {
   "cell_type": "code",
   "execution_count": null,
   "id": "a983a5e8",
   "metadata": {},
   "outputs": [],
   "source": [
    "import numpy as np\n",
    "import pickle\n",
    "import os\n",
    "\n",
    "seed = 2023"
   ]
  },
  {
   "cell_type": "code",
   "execution_count": null,
   "id": "25b43a6f",
   "metadata": {},
   "outputs": [],
   "source": [
    "import torch\n",
    "\n",
    "# set device\n",
    "device = torch.device(\"cuda\" if torch.cuda.is_available() else \"cpu\")\n",
    "device"
   ]
  },
  {
   "cell_type": "code",
   "execution_count": null,
   "id": "e4e666cc",
   "metadata": {},
   "outputs": [],
   "source": [
    "from nlpsig_networks.scripts.ffn_baseline_functions import (\n",
    "    histories_baseline_hyperparameter_search,\n",
    ")"
   ]
  },
  {
   "cell_type": "code",
   "execution_count": null,
   "id": "193d632e",
   "metadata": {},
   "outputs": [],
   "source": [
    "output_dir = \"client_talk_type_output\"\n",
    "if not os.path.isdir(output_dir):\n",
    "    os.makedirs(output_dir)"
   ]
  },
  {
   "cell_type": "markdown",
   "id": "f7409a03",
   "metadata": {},
   "source": [
    "## AnnoMI"
   ]
  },
  {
   "cell_type": "code",
   "execution_count": null,
   "id": "f00bb922",
   "metadata": {},
   "outputs": [],
   "source": [
    "%run ../load_anno_mi.py"
   ]
  },
  {
   "cell_type": "code",
   "execution_count": null,
   "id": "720d820f",
   "metadata": {},
   "outputs": [],
   "source": [
    "anno_mi.head()"
   ]
  },
  {
   "cell_type": "code",
   "execution_count": null,
   "id": "1c672e12",
   "metadata": {},
   "outputs": [],
   "source": [
    "with open(\"../anno_mi_sbert.pkl\", \"rb\") as f:\n",
    "    sbert_embeddings = pickle.load(f)\n",
    "\n",
    "sbert_embeddings.shape"
   ]
  },
  {
   "cell_type": "markdown",
   "id": "8ad7a7e7",
   "metadata": {},
   "source": [
    "# Baseline: Averaging history and use FFN\n",
    "\n",
    "Here, we average the full history of a path and concatenate it the current embedding (the total number of features that are passed into the FFN is `2 * sbert_embeddings.shape[0]`).\n",
    "\n",
    "Here, we will run the hyperparameter search to implement the FFN with the same parameters as the standard FFN baseline on the sentence embeddings. Going to try out some variations (1 hidden layer, 2 hidden layers and 3 hidden layers - all of size 100)."
   ]
  },
  {
   "cell_type": "code",
   "execution_count": null,
   "id": "c783bd17",
   "metadata": {},
   "outputs": [],
   "source": [
    "num_epochs = 100\n",
    "hidden_dim_sizes = [[64, 64], [128, 128], [256, 256], [512, 512]]\n",
    "dropout_rates = [0.1]\n",
    "learning_rates = [1e-3, 5e-4, 1e-4]\n",
    "seeds = [1, 12, 123]\n",
    "loss = \"focal\"\n",
    "gamma = 2\n",
    "validation_metric = \"f1\"\n",
    "patience = 3"
   ]
  },
  {
   "cell_type": "code",
   "execution_count": null,
   "id": "8a46450c",
   "metadata": {},
   "outputs": [],
   "source": [
    "kwargs = {\n",
    "    \"num_epochs\": num_epochs,\n",
    "    \"df\": anno_mi,\n",
    "    \"id_column\": \"transcript_id\",\n",
    "    \"label_column\": \"client_talk_type\",\n",
    "    \"embeddings\": sbert_embeddings,\n",
    "    \"y_data\": y_data_client,\n",
    "    \"output_dim\": output_dim_client,\n",
    "    \"hidden_dim_sizes\": hidden_dim_sizes,\n",
    "    \"dropout_rates\": dropout_rates,\n",
    "    \"learning_rates\": learning_rates,\n",
    "    \"seeds\": seeds,\n",
    "    \"loss\": loss,\n",
    "    \"gamma\": gamma,\n",
    "    \"device\": device,\n",
    "    \"path_indices\": client_index,\n",
    "    \"split_ids\": client_transcript_id,\n",
    "    \"k_fold\": True,\n",
    "    \"patience\": patience,\n",
    "    \"validation_metric\": validation_metric,\n",
    "    \"verbose\": False,\n",
    "}"
   ]
  },
  {
   "cell_type": "code",
   "execution_count": null,
   "id": "e6e53879",
   "metadata": {},
   "outputs": [],
   "source": [
    "(\n",
    "    ffn_mean_history_kfold,\n",
    "    best_ffn_mean_history_kfold,\n",
    "    _,\n",
    "    __,\n",
    ") = histories_baseline_hyperparameter_search(\n",
    "    use_signatures=False,\n",
    "    results_output=f\"{output_dir}/ffn_mean_history_focal_{gamma}_kfold.csv\",\n",
    "    **kwargs,\n",
    ")"
   ]
  },
  {
   "cell_type": "code",
   "execution_count": null,
   "id": "191556f6",
   "metadata": {},
   "outputs": [],
   "source": [
    "ffn_mean_history_kfold"
   ]
  },
  {
   "cell_type": "code",
   "execution_count": null,
   "id": "8da9e646",
   "metadata": {},
   "outputs": [],
   "source": [
    "ffn_mean_history_kfold.groupby([\"hidden_dim\", \"dropout_rate\", \"learning_rate\"]).mean()"
   ]
  },
  {
   "cell_type": "code",
   "execution_count": null,
   "id": "58d0fd35",
   "metadata": {},
   "outputs": [],
   "source": [
    "best_ffn_mean_history_kfold"
   ]
  },
  {
   "cell_type": "code",
   "execution_count": null,
   "id": "a2e47c41",
   "metadata": {},
   "outputs": [],
   "source": [
    "best_ffn_mean_history_kfold[\"f1\"].mean()"
   ]
  },
  {
   "cell_type": "code",
   "execution_count": null,
   "id": "ecdc0b35",
   "metadata": {},
   "outputs": [],
   "source": [
    "best_ffn_mean_history_kfold[\"precision\"].mean()"
   ]
  },
  {
   "cell_type": "code",
   "execution_count": null,
   "id": "cbdd57ff",
   "metadata": {},
   "outputs": [],
   "source": [
    "best_ffn_mean_history_kfold[\"recall\"].mean()"
   ]
  },
  {
   "cell_type": "code",
   "execution_count": null,
   "id": "b0addfa4",
   "metadata": {},
   "outputs": [],
   "source": [
    "np.stack(best_ffn_mean_history_kfold[\"f1_scores\"]).mean(axis=0)"
   ]
  },
  {
   "cell_type": "code",
   "execution_count": null,
   "id": "605dd885",
   "metadata": {},
   "outputs": [],
   "source": [
    "np.stack(best_ffn_mean_history_kfold[\"precision_scores\"]).mean(axis=0)"
   ]
  },
  {
   "cell_type": "code",
   "execution_count": null,
   "id": "04ad1225",
   "metadata": {},
   "outputs": [],
   "source": [
    "np.stack(best_ffn_mean_history_kfold[\"recall_scores\"]).mean(axis=0)"
   ]
  }
 ],
 "metadata": {
  "kernelspec": {
   "display_name": "nlpsig-networks (Conda)",
   "language": "python",
   "name": "sys_nlpsig-networks"
  },
  "language_info": {
   "codemirror_mode": {
    "name": "ipython",
    "version": 3
   },
   "file_extension": ".py",
   "mimetype": "text/x-python",
   "name": "python",
   "nbconvert_exporter": "python",
   "pygments_lexer": "ipython3",
   "version": "3.8.17"
  }
 },
 "nbformat": 4,
 "nbformat_minor": 5
}
