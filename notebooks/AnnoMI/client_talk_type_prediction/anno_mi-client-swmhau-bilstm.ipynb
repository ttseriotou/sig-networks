{
 "cells": [
  {
   "cell_type": "code",
   "execution_count": 1,
   "id": "a983a5e8",
   "metadata": {},
   "outputs": [],
   "source": [
    "import numpy as np\n",
    "import pickle\n",
    "import os\n",
    "\n",
    "seed = 2023"
   ]
  },
  {
   "cell_type": "code",
   "execution_count": 2,
   "id": "31866562-4774-4b9e-9dab-1018ff28ae3e",
   "metadata": {},
   "outputs": [
    {
     "data": {
      "text/plain": [
       "device(type='cuda')"
      ]
     },
     "execution_count": 2,
     "metadata": {},
     "output_type": "execute_result"
    }
   ],
   "source": [
    "import torch\n",
    "\n",
    "# set device\n",
    "device = torch.device(\"cuda\" if torch.cuda.is_available() else \"cpu\")\n",
    "device"
   ]
  },
  {
   "cell_type": "code",
   "execution_count": 3,
   "id": "47c7fd57",
   "metadata": {},
   "outputs": [],
   "source": [
    "from nlpsig_networks.scripts.seqsignet_attention_functions import seqsignet_attention_hyperparameter_search"
   ]
  },
  {
   "cell_type": "code",
   "execution_count": 4,
   "id": "6e918dde",
   "metadata": {},
   "outputs": [],
   "source": [
    "output_dir = \"client_talk_type_output\"\n",
    "if not os.path.isdir(output_dir):\n",
    "    os.makedirs(output_dir)"
   ]
  },
  {
   "cell_type": "markdown",
   "id": "f7409a03",
   "metadata": {},
   "source": [
    "## AnnoMI"
   ]
  },
  {
   "cell_type": "code",
   "execution_count": 5,
   "id": "f00bb922",
   "metadata": {},
   "outputs": [],
   "source": [
    "%run ../load_anno_mi.py"
   ]
  },
  {
   "cell_type": "code",
   "execution_count": 6,
   "id": "720d820f",
   "metadata": {},
   "outputs": [
    {
     "data": {
      "text/html": [
       "<div>\n",
       "<style scoped>\n",
       "    .dataframe tbody tr th:only-of-type {\n",
       "        vertical-align: middle;\n",
       "    }\n",
       "\n",
       "    .dataframe tbody tr th {\n",
       "        vertical-align: top;\n",
       "    }\n",
       "\n",
       "    .dataframe thead th {\n",
       "        text-align: right;\n",
       "    }\n",
       "</style>\n",
       "<table border=\"1\" class=\"dataframe\">\n",
       "  <thead>\n",
       "    <tr style=\"text-align: right;\">\n",
       "      <th></th>\n",
       "      <th>mi_quality</th>\n",
       "      <th>transcript_id</th>\n",
       "      <th>topic</th>\n",
       "      <th>utterance_id</th>\n",
       "      <th>interlocutor</th>\n",
       "      <th>timestamp</th>\n",
       "      <th>utterance_text</th>\n",
       "      <th>annotator_id</th>\n",
       "      <th>therapist_input_exists</th>\n",
       "      <th>therapist_input_subtype</th>\n",
       "      <th>reflection_exists</th>\n",
       "      <th>reflection_subtype</th>\n",
       "      <th>question_exists</th>\n",
       "      <th>question_subtype</th>\n",
       "      <th>main_therapist_behaviour</th>\n",
       "      <th>client_talk_type</th>\n",
       "      <th>datetime</th>\n",
       "      <th>speaker</th>\n",
       "    </tr>\n",
       "  </thead>\n",
       "  <tbody>\n",
       "    <tr>\n",
       "      <th>0</th>\n",
       "      <td>high</td>\n",
       "      <td>0</td>\n",
       "      <td>reducing alcohol consumption</td>\n",
       "      <td>0</td>\n",
       "      <td>therapist</td>\n",
       "      <td>00:00:13</td>\n",
       "      <td>Thanks for filling it out. We give this form t...</td>\n",
       "      <td>3</td>\n",
       "      <td>False</td>\n",
       "      <td>NaN</td>\n",
       "      <td>False</td>\n",
       "      <td>NaN</td>\n",
       "      <td>True</td>\n",
       "      <td>open</td>\n",
       "      <td>question</td>\n",
       "      <td>NaN</td>\n",
       "      <td>2023-09-28 00:00:13</td>\n",
       "      <td>-1</td>\n",
       "    </tr>\n",
       "    <tr>\n",
       "      <th>1</th>\n",
       "      <td>high</td>\n",
       "      <td>0</td>\n",
       "      <td>reducing alcohol consumption</td>\n",
       "      <td>1</td>\n",
       "      <td>client</td>\n",
       "      <td>00:00:24</td>\n",
       "      <td>Sure.</td>\n",
       "      <td>3</td>\n",
       "      <td>NaN</td>\n",
       "      <td>NaN</td>\n",
       "      <td>NaN</td>\n",
       "      <td>NaN</td>\n",
       "      <td>NaN</td>\n",
       "      <td>NaN</td>\n",
       "      <td>NaN</td>\n",
       "      <td>neutral</td>\n",
       "      <td>2023-09-28 00:00:24</td>\n",
       "      <td>1</td>\n",
       "    </tr>\n",
       "    <tr>\n",
       "      <th>2</th>\n",
       "      <td>high</td>\n",
       "      <td>0</td>\n",
       "      <td>reducing alcohol consumption</td>\n",
       "      <td>2</td>\n",
       "      <td>therapist</td>\n",
       "      <td>00:00:25</td>\n",
       "      <td>So, let's see. It looks that you put-- You dri...</td>\n",
       "      <td>3</td>\n",
       "      <td>True</td>\n",
       "      <td>information</td>\n",
       "      <td>False</td>\n",
       "      <td>NaN</td>\n",
       "      <td>False</td>\n",
       "      <td>NaN</td>\n",
       "      <td>therapist_input</td>\n",
       "      <td>NaN</td>\n",
       "      <td>2023-09-28 00:00:25</td>\n",
       "      <td>-1</td>\n",
       "    </tr>\n",
       "    <tr>\n",
       "      <th>3</th>\n",
       "      <td>high</td>\n",
       "      <td>0</td>\n",
       "      <td>reducing alcohol consumption</td>\n",
       "      <td>3</td>\n",
       "      <td>client</td>\n",
       "      <td>00:00:34</td>\n",
       "      <td>Mm-hmm.</td>\n",
       "      <td>3</td>\n",
       "      <td>NaN</td>\n",
       "      <td>NaN</td>\n",
       "      <td>NaN</td>\n",
       "      <td>NaN</td>\n",
       "      <td>NaN</td>\n",
       "      <td>NaN</td>\n",
       "      <td>NaN</td>\n",
       "      <td>neutral</td>\n",
       "      <td>2023-09-28 00:00:34</td>\n",
       "      <td>1</td>\n",
       "    </tr>\n",
       "    <tr>\n",
       "      <th>4</th>\n",
       "      <td>high</td>\n",
       "      <td>0</td>\n",
       "      <td>reducing alcohol consumption</td>\n",
       "      <td>4</td>\n",
       "      <td>therapist</td>\n",
       "      <td>00:00:34</td>\n",
       "      <td>-and you usually have three to four drinks whe...</td>\n",
       "      <td>3</td>\n",
       "      <td>True</td>\n",
       "      <td>information</td>\n",
       "      <td>False</td>\n",
       "      <td>NaN</td>\n",
       "      <td>False</td>\n",
       "      <td>NaN</td>\n",
       "      <td>therapist_input</td>\n",
       "      <td>NaN</td>\n",
       "      <td>2023-09-28 00:00:34</td>\n",
       "      <td>-1</td>\n",
       "    </tr>\n",
       "  </tbody>\n",
       "</table>\n",
       "</div>"
      ],
      "text/plain": [
       "  mi_quality  transcript_id                         topic  utterance_id  \\\n",
       "0       high              0  reducing alcohol consumption             0   \n",
       "1       high              0  reducing alcohol consumption             1   \n",
       "2       high              0  reducing alcohol consumption             2   \n",
       "3       high              0  reducing alcohol consumption             3   \n",
       "4       high              0  reducing alcohol consumption             4   \n",
       "\n",
       "  interlocutor timestamp                                     utterance_text  \\\n",
       "0    therapist  00:00:13  Thanks for filling it out. We give this form t...   \n",
       "1       client  00:00:24                                              Sure.   \n",
       "2    therapist  00:00:25  So, let's see. It looks that you put-- You dri...   \n",
       "3       client  00:00:34                                            Mm-hmm.   \n",
       "4    therapist  00:00:34  -and you usually have three to four drinks whe...   \n",
       "\n",
       "   annotator_id therapist_input_exists therapist_input_subtype  \\\n",
       "0             3                  False                     NaN   \n",
       "1             3                    NaN                     NaN   \n",
       "2             3                   True             information   \n",
       "3             3                    NaN                     NaN   \n",
       "4             3                   True             information   \n",
       "\n",
       "  reflection_exists reflection_subtype question_exists question_subtype  \\\n",
       "0             False                NaN            True             open   \n",
       "1               NaN                NaN             NaN              NaN   \n",
       "2             False                NaN           False              NaN   \n",
       "3               NaN                NaN             NaN              NaN   \n",
       "4             False                NaN           False              NaN   \n",
       "\n",
       "  main_therapist_behaviour client_talk_type            datetime  speaker  \n",
       "0                 question              NaN 2023-09-28 00:00:13       -1  \n",
       "1                      NaN          neutral 2023-09-28 00:00:24        1  \n",
       "2          therapist_input              NaN 2023-09-28 00:00:25       -1  \n",
       "3                      NaN          neutral 2023-09-28 00:00:34        1  \n",
       "4          therapist_input              NaN 2023-09-28 00:00:34       -1  "
      ]
     },
     "execution_count": 6,
     "metadata": {},
     "output_type": "execute_result"
    }
   ],
   "source": [
    "anno_mi.head()"
   ]
  },
  {
   "cell_type": "code",
   "execution_count": 7,
   "id": "84d5594d",
   "metadata": {},
   "outputs": [
    {
     "data": {
      "text/plain": [
       "(9699, 384)"
      ]
     },
     "execution_count": 7,
     "metadata": {},
     "output_type": "execute_result"
    }
   ],
   "source": [
    "with open(\"../anno_mi_sbert.pkl\", \"rb\") as f:\n",
    "    sbert_embeddings = pickle.load(f)\n",
    "\n",
    "sbert_embeddings.shape"
   ]
  },
  {
   "cell_type": "code",
   "execution_count": 8,
   "id": "4daab8de",
   "metadata": {},
   "outputs": [],
   "source": [
    "features = [\"timeline_index\", \"speaker\"]\n",
    "standardise_method = [None, None]\n",
    "include_features_in_path = True\n",
    "include_features_in_input = False"
   ]
  },
  {
   "cell_type": "code",
   "execution_count": 10,
   "id": "1f5e3893",
   "metadata": {},
   "outputs": [],
   "source": [
    "num_epochs = 100\n",
    "dimensions = [15]  # [50, 15]\n",
    "swmhau_parameters = [(12, 3, 10), (8, 4, 6)]#, (8, 4, 12)]\n",
    "num_layers = [1]\n",
    "ffn_hidden_dim_sizes = [[256,256],[512,512]]\n",
    "dropout_rates = [0.1, 0.2]\n",
    "learning_rates = [1e-3, 1e-4, 5e-4]\n",
    "seeds = [1, 12, 123]\n",
    "loss = \"focal\"\n",
    "gamma = 2\n",
    "validation_metric = \"f1\"\n",
    "patience = 5"
   ]
  },
  {
   "cell_type": "markdown",
   "id": "4dbfefaa-f4c6-47f2-b159-d10b705de7ff",
   "metadata": {},
   "source": [
    "# history_length=11"
   ]
  },
  {
   "cell_type": "code",
   "execution_count": 11,
   "id": "d276859d-299b-48b1-a7cb-e0dc898498ab",
   "metadata": {},
   "outputs": [],
   "source": [
    "shift = 3\n",
    "window_size = 5\n",
    "n = 3"
   ]
  },
  {
   "cell_type": "code",
   "execution_count": null,
   "id": "aa2b936d-c59d-469e-a99b-2c18a2973da7",
   "metadata": {},
   "outputs": [
    {
     "data": {
      "application/vnd.jupyter.widget-view+json": {
       "model_id": "029e47a4a2b545f9aa81ab9014cf3aad",
       "version_major": 2,
       "version_minor": 0
      },
      "text/plain": [
       "  0%|          | 0/1 [00:00<?, ?it/s]"
      ]
     },
     "metadata": {},
     "output_type": "display_data"
    },
    {
     "data": {
      "application/vnd.jupyter.widget-view+json": {
       "model_id": "137bda8044b748d8a61320e1cabf5df7",
       "version_major": 2,
       "version_minor": 0
      },
      "text/plain": [
       "  0%|          | 0/1 [00:00<?, ?it/s]"
      ]
     },
     "metadata": {},
     "output_type": "display_data"
    },
    {
     "name": "stdout",
     "output_type": "stream",
     "text": [
      "\n",
      "##################################################\n",
      "dimension: 15 | method: umap\n",
      "given shift 3, window size 5 and n 3: history length = 11\n",
      "[INFO] Concatenating the embeddings to the dataframe...\n",
      "[INFO] - columns beginning with 'e' denote the full embddings.\n",
      "[INFO] - columns beginning with 'd' denote the dimension reduced embeddings.\n",
      "[INFO] Adding time feature columns into dataframe in `.df`.\n",
      "[INFO] Adding 'time_encoding' feature...\n",
      "[INFO] Adding 'time_diff' feature...\n",
      "[INFO] Adding 'timeline_index' feature...\n",
      "[INFO] Padding ids and storing in `.df_padded` and `.array_padded` attributes.\n"
     ]
    },
    {
     "data": {
      "application/vnd.jupyter.widget-view+json": {
       "model_id": "1f38b8fe1a1a4162809da7d9fa1f0b51",
       "version_major": 2,
       "version_minor": 0
      },
      "text/plain": [
       "  0%|          | 0/9699 [00:00<?, ?it/s]"
      ]
     },
     "metadata": {},
     "output_type": "display_data"
    },
    {
     "name": "stdout",
     "output_type": "stream",
     "text": [
      "[INFO] The path was created for each item in the dataframe, by looking at its history, so to include embeddings in the FFN input, we concatenate the embeddings for each sentence / text.\n"
     ]
    },
    {
     "data": {
      "application/vnd.jupyter.widget-view+json": {
       "model_id": "c49d6e2bd538491689b261931efaf56e",
       "version_major": 2,
       "version_minor": 0
      },
      "text/plain": [
       "  0%|          | 0/2 [00:00<?, ?it/s]"
      ]
     },
     "metadata": {},
     "output_type": "display_data"
    },
    {
     "data": {
      "application/vnd.jupyter.widget-view+json": {
       "model_id": "06d0a95e887642989ae3e8f938ca81b2",
       "version_major": 2,
       "version_minor": 0
      },
      "text/plain": [
       "  0%|          | 0/1 [00:00<?, ?it/s]"
      ]
     },
     "metadata": {},
     "output_type": "display_data"
    },
    {
     "data": {
      "application/vnd.jupyter.widget-view+json": {
       "model_id": "dd0ed9492bb445cd996792f325a759fd",
       "version_major": 2,
       "version_minor": 0
      },
      "text/plain": [
       "  0%|          | 0/2 [00:00<?, ?it/s]"
      ]
     },
     "metadata": {},
     "output_type": "display_data"
    },
    {
     "data": {
      "application/vnd.jupyter.widget-view+json": {
       "model_id": "d690c160c0624d99af973365a4aedbb6",
       "version_major": 2,
       "version_minor": 0
      },
      "text/plain": [
       "  0%|          | 0/2 [00:00<?, ?it/s]"
      ]
     },
     "metadata": {},
     "output_type": "display_data"
    },
    {
     "data": {
      "application/vnd.jupyter.widget-view+json": {
       "model_id": "31fb9326946047d28384b26e1f5a967c",
       "version_major": 2,
       "version_minor": 0
      },
      "text/plain": [
       "  0%|          | 0/3 [00:00<?, ?it/s]"
      ]
     },
     "metadata": {},
     "output_type": "display_data"
    },
    {
     "data": {
      "application/vnd.jupyter.widget-view+json": {
       "model_id": "381d433dff1d42898fa49530aaacbc62",
       "version_major": 2,
       "version_minor": 0
      },
      "text/plain": [
       "  0%|          | 0/3 [00:00<?, ?it/s]"
      ]
     },
     "metadata": {},
     "output_type": "display_data"
    },
    {
     "data": {
      "application/vnd.jupyter.widget-view+json": {
       "model_id": "f72f7836110c4abdbfd51b3f4959d9eb",
       "version_major": 2,
       "version_minor": 0
      },
      "text/plain": [
       "  0%|          | 0/2 [00:00<?, ?it/s]"
      ]
     },
     "metadata": {},
     "output_type": "display_data"
    },
    {
     "data": {
      "application/vnd.jupyter.widget-view+json": {
       "model_id": "bdeac895aa3441e5a0efb6e69eba16f3",
       "version_major": 2,
       "version_minor": 0
      },
      "text/plain": [
       "  0%|          | 0/3 [00:00<?, ?it/s]"
      ]
     },
     "metadata": {},
     "output_type": "display_data"
    },
    {
     "data": {
      "application/vnd.jupyter.widget-view+json": {
       "model_id": "12a9a9322b624cab971edbbc2d9a8542",
       "version_major": 2,
       "version_minor": 0
      },
      "text/plain": [
       "  0%|          | 0/3 [00:00<?, ?it/s]"
      ]
     },
     "metadata": {},
     "output_type": "display_data"
    },
    {
     "data": {
      "application/vnd.jupyter.widget-view+json": {
       "model_id": "c921c81c09a64044ae22a71d6bf7e7b3",
       "version_major": 2,
       "version_minor": 0
      },
      "text/plain": [
       "  0%|          | 0/1 [00:00<?, ?it/s]"
      ]
     },
     "metadata": {},
     "output_type": "display_data"
    },
    {
     "data": {
      "application/vnd.jupyter.widget-view+json": {
       "model_id": "1c9891715f4341ecae8d496d11591fe4",
       "version_major": 2,
       "version_minor": 0
      },
      "text/plain": [
       "  0%|          | 0/2 [00:00<?, ?it/s]"
      ]
     },
     "metadata": {},
     "output_type": "display_data"
    },
    {
     "data": {
      "application/vnd.jupyter.widget-view+json": {
       "model_id": "5e505a3d59564ad99ffab4555b4c0aae",
       "version_major": 2,
       "version_minor": 0
      },
      "text/plain": [
       "  0%|          | 0/2 [00:00<?, ?it/s]"
      ]
     },
     "metadata": {},
     "output_type": "display_data"
    },
    {
     "data": {
      "application/vnd.jupyter.widget-view+json": {
       "model_id": "db28cdd211064668a79ca2e36877586f",
       "version_major": 2,
       "version_minor": 0
      },
      "text/plain": [
       "  0%|          | 0/3 [00:00<?, ?it/s]"
      ]
     },
     "metadata": {},
     "output_type": "display_data"
    },
    {
     "data": {
      "application/vnd.jupyter.widget-view+json": {
       "model_id": "33b75e29d8c94e019340d6b351b260e9",
       "version_major": 2,
       "version_minor": 0
      },
      "text/plain": [
       "  0%|          | 0/3 [00:00<?, ?it/s]"
      ]
     },
     "metadata": {},
     "output_type": "display_data"
    },
    {
     "data": {
      "application/vnd.jupyter.widget-view+json": {
       "model_id": "63bab6e1ffbb498d991d34231b8026cd",
       "version_major": 2,
       "version_minor": 0
      },
      "text/plain": [
       "  0%|          | 0/2 [00:00<?, ?it/s]"
      ]
     },
     "metadata": {},
     "output_type": "display_data"
    },
    {
     "data": {
      "application/vnd.jupyter.widget-view+json": {
       "model_id": "25c76c4ed89f421fb67b3f174d4f6ad1",
       "version_major": 2,
       "version_minor": 0
      },
      "text/plain": [
       "  0%|          | 0/3 [00:00<?, ?it/s]"
      ]
     },
     "metadata": {},
     "output_type": "display_data"
    },
    {
     "data": {
      "application/vnd.jupyter.widget-view+json": {
       "model_id": "b5f3124d096a4ff792600936642c7e90",
       "version_major": 2,
       "version_minor": 0
      },
      "text/plain": [
       "  0%|          | 0/3 [00:00<?, ?it/s]"
      ]
     },
     "metadata": {},
     "output_type": "display_data"
    }
   ],
   "source": [
    "(\n",
    "    seqsignet_network_umap_kfold_11,\n",
    "    best_seqsignet_network_umap_kfold_11,\n",
    "    _,\n",
    "    __,\n",
    ") = seqsignet_attention_hyperparameter_search(\n",
    "    num_epochs=num_epochs,\n",
    "    df=anno_mi,\n",
    "    id_column=\"transcript_id\",\n",
    "    label_column=\"client_talk_type\",\n",
    "    embeddings=sbert_embeddings,\n",
    "    y_data=y_data_client,\n",
    "    output_dim=output_dim_client,\n",
    "    shift=shift,\n",
    "    window_size=window_size,\n",
    "    n=n,\n",
    "    dim_reduce_methods=[\"umap\"],\n",
    "    dimensions=dimensions,\n",
    "    log_signature=True,\n",
    "    swmhau_parameters=swmhau_parameters,\n",
    "    num_layers=num_layers,\n",
    "    ffn_hidden_dim_sizes=ffn_hidden_dim_sizes,\n",
    "    dropout_rates=dropout_rates,\n",
    "    learning_rates=learning_rates,\n",
    "    seeds=seeds,\n",
    "    loss=loss,\n",
    "    gamma=gamma,\n",
    "    device=device,\n",
    "    features=features,\n",
    "    standardise_method=standardise_method,\n",
    "    include_features_in_path=include_features_in_path,\n",
    "    include_features_in_input=include_features_in_input,\n",
    "    path_indices=client_index,\n",
    "    split_ids=client_transcript_id,\n",
    "    k_fold=True,\n",
    "    patience=patience,\n",
    "    validation_metric=validation_metric,\n",
    "    results_output=f\"{output_dir}/seqsignet_umap_focal_{gamma}_{shift}_{window_size}_{n}_kfold.csv\",\n",
    "    verbose=False,\n",
    ")"
   ]
  },
  {
   "cell_type": "code",
   "execution_count": null,
   "id": "82e7c137-64ae-4b99-adf1-73388c2055c7",
   "metadata": {},
   "outputs": [],
   "source": [
    "seqsignet_network_umap_kfold_11"
   ]
  },
  {
   "cell_type": "code",
   "execution_count": null,
   "id": "334f2a44-6a1e-40c4-a23c-9d10f359108d",
   "metadata": {},
   "outputs": [],
   "source": [
    "best_seqsignet_network_umap_kfold_11[\"f1\"].mean()"
   ]
  },
  {
   "cell_type": "code",
   "execution_count": null,
   "id": "f320e67d-3950-4ce5-a254-40661a13e26c",
   "metadata": {},
   "outputs": [],
   "source": [
    "best_seqsignet_network_umap_kfold_11[\"precision\"].mean()"
   ]
  },
  {
   "cell_type": "code",
   "execution_count": null,
   "id": "7be7a788-8b05-4ac8-89ee-5e6f86470c8f",
   "metadata": {},
   "outputs": [],
   "source": [
    "best_seqsignet_network_umap_kfold_11[\"recall\"].mean()"
   ]
  },
  {
   "cell_type": "code",
   "execution_count": null,
   "id": "9c6c851f-3c2d-4c89-8215-aaef16e00cb4",
   "metadata": {},
   "outputs": [],
   "source": [
    "np.stack(best_seqsignet_network_umap_kfold_11[\"f1_scores\"]).mean(axis=0)"
   ]
  },
  {
   "cell_type": "code",
   "execution_count": null,
   "id": "7fea245a-f937-4928-b857-f0157caa4859",
   "metadata": {},
   "outputs": [],
   "source": [
    "np.stack(best_seqsignet_network_umap_kfold_11[\"precision_scores\"]).mean(axis=0)"
   ]
  },
  {
   "cell_type": "code",
   "execution_count": null,
   "id": "3587e08c-8c30-426c-b5a2-b6f4752a496c",
   "metadata": {},
   "outputs": [],
   "source": [
    "np.stack(best_seqsignet_network_umap_kfold_11[\"recall_scores\"]).mean(axis=0)"
   ]
  },
  {
   "cell_type": "markdown",
   "id": "143024f5-2141-4474-8e9a-5fc9b5cfb967",
   "metadata": {},
   "source": [
    "## GRP"
   ]
  },
  {
   "cell_type": "code",
   "execution_count": null,
   "id": "6ac9ce58-e338-4f92-9d27-e41c18968f27",
   "metadata": {},
   "outputs": [],
   "source": [
    "(\n",
    "    seqsignet_network_grp_kfold_11,\n",
    "    best_seqsignet_network_grp_kfold_11,\n",
    "    _,\n",
    "    __,\n",
    ") = seqsignet_attention_hyperparameter_search(\n",
    "    num_epochs=num_epochs,\n",
    "    df=anno_mi,\n",
    "    id_column=\"transcript_id\",\n",
    "    label_column=\"client_talk_type\",\n",
    "    embeddings=sbert_embeddings,\n",
    "    y_data=y_data_client,\n",
    "    output_dim=output_dim_client,\n",
    "    shift=shift,\n",
    "    window_size=window_size,\n",
    "    n=n,\n",
    "    dim_reduce_methods=[\"gaussian_random_projection\"],\n",
    "    dimensions=dimensions,\n",
    "    log_signature=True,\n",
    "    swmhau_parameters=swmhau_parameters,\n",
    "    num_layers=num_layers,\n",
    "    ffn_hidden_dim_sizes=ffn_hidden_dim_sizes,\n",
    "    dropout_rates=dropout_rates,\n",
    "    learning_rates=learning_rates,\n",
    "    seeds=seeds,\n",
    "    loss=loss,\n",
    "    gamma=gamma,\n",
    "    device=device,\n",
    "    features=features,\n",
    "    standardise_method=standardise_method,\n",
    "    include_features_in_path=include_features_in_path,\n",
    "    include_features_in_input=include_features_in_input,\n",
    "    path_indices=client_index,\n",
    "    k_fold=True,\n",
    "    patience=patience,\n",
    "    split_ids=client_transcript_id,\n",
    "    validation_metric=validation_metric,\n",
    "    results_output=f\"{output_dir}/seqsignet_grp_focal_{gamma}_{shift}_{window_size}_{n}_kfold.csv\",\n",
    "    verbose=False,\n",
    ")"
   ]
  },
  {
   "cell_type": "code",
   "execution_count": null,
   "id": "36f8a786-08d0-4d9a-a52e-4c2414cee3fd",
   "metadata": {},
   "outputs": [],
   "source": [
    "seqsignet_network_grp_kfold_11"
   ]
  },
  {
   "cell_type": "code",
   "execution_count": null,
   "id": "45ca8250-608a-48eb-aab9-16773521050a",
   "metadata": {},
   "outputs": [],
   "source": [
    "best_seqsignet_network_grp_kfold_11[\"f1\"].mean()"
   ]
  },
  {
   "cell_type": "code",
   "execution_count": null,
   "id": "bed09511-e12a-4bed-93a5-8312dd8153f6",
   "metadata": {},
   "outputs": [],
   "source": [
    "best_seqsignet_network_grp_kfold_11[\"precision\"].mean()"
   ]
  },
  {
   "cell_type": "code",
   "execution_count": null,
   "id": "783b9d23-ed69-4d85-8f39-68837145ef0e",
   "metadata": {},
   "outputs": [],
   "source": [
    "best_seqsignet_network_grp_kfold_11[\"recall\"].mean()"
   ]
  },
  {
   "cell_type": "code",
   "execution_count": null,
   "id": "6ce382d7-fb4b-4f2f-940a-2af5f70b222a",
   "metadata": {},
   "outputs": [],
   "source": [
    "np.stack(best_seqsignet_network_grp_kfold_11[\"f1_scores\"]).mean(axis=0)"
   ]
  },
  {
   "cell_type": "code",
   "execution_count": null,
   "id": "143b8c68-175f-4a3f-bc90-5980c7ac0a02",
   "metadata": {},
   "outputs": [],
   "source": [
    "np.stack(best_seqsignet_network_grp_kfold_11[\"precision_scores\"]).mean(axis=0)"
   ]
  },
  {
   "cell_type": "code",
   "execution_count": null,
   "id": "cc0bd39d-9190-41ec-89a5-9b28e29daf93",
   "metadata": {},
   "outputs": [],
   "source": [
    "np.stack(best_seqsignet_network_grp_kfold_11[\"recall_scores\"]).mean(axis=0)"
   ]
  },
  {
   "cell_type": "markdown",
   "id": "de271d33-3a57-419a-8372-279af9a0a9bb",
   "metadata": {},
   "source": [
    "# history_length=20"
   ]
  },
  {
   "cell_type": "code",
   "execution_count": null,
   "id": "521165eb",
   "metadata": {},
   "outputs": [],
   "source": [
    "shift = 3\n",
    "window_size = 5\n",
    "n = 6"
   ]
  },
  {
   "cell_type": "code",
   "execution_count": null,
   "id": "e1ab36d1",
   "metadata": {},
   "outputs": [],
   "source": [
    "(\n",
    "    seqsignet_network_umap_kfold_20,\n",
    "    best_seqsignet_network_umap_kfold_20,\n",
    "    _,\n",
    "    __,\n",
    ") = seqsignet_attention_hyperparameter_search(\n",
    "    num_epochs=num_epochs,\n",
    "    df=anno_mi,\n",
    "    id_column=\"transcript_id\",\n",
    "    label_column=\"client_talk_type\",\n",
    "    embeddings=sbert_embeddings,\n",
    "    y_data=y_data_client,\n",
    "    output_dim=output_dim_client,\n",
    "    shift=shift,\n",
    "    window_size=window_size,\n",
    "    n=n,\n",
    "    dim_reduce_methods=[\"umap\"],\n",
    "    dimensions=dimensions,\n",
    "    log_signature=True,\n",
    "    swmhau_parameters=swmhau_parameters,\n",
    "    num_layers=num_layers,\n",
    "    ffn_hidden_dim_sizes=ffn_hidden_dim_sizes,\n",
    "    dropout_rates=dropout_rates,\n",
    "    learning_rates=learning_rates,\n",
    "    seeds=seeds,\n",
    "    loss=loss,\n",
    "    gamma=gamma,\n",
    "    device=device,\n",
    "    features=features,\n",
    "    standardise_method=standardise_method,\n",
    "    include_features_in_path=include_features_in_path,\n",
    "    include_features_in_input=include_features_in_input,\n",
    "    path_indices=client_index,\n",
    "    split_ids=client_transcript_id,\n",
    "    k_fold=True,\n",
    "    patience=patience,\n",
    "    validation_metric=validation_metric,\n",
    "    results_output=f\"{output_dir}/seqsignet_umap_focal_{gamma}_{shift}_{window_size}_{n}_kfold.csv\",\n",
    "    verbose=False,\n",
    ")"
   ]
  },
  {
   "cell_type": "code",
   "execution_count": null,
   "id": "df26388e",
   "metadata": {},
   "outputs": [],
   "source": [
    "seqsignet_network_umap_kfold_20"
   ]
  },
  {
   "cell_type": "code",
   "execution_count": null,
   "id": "afeead7d",
   "metadata": {},
   "outputs": [],
   "source": [
    "best_seqsignet_network_umap_kfold_20[\"f1\"].mean()"
   ]
  },
  {
   "cell_type": "code",
   "execution_count": null,
   "id": "a51f3dd2",
   "metadata": {},
   "outputs": [],
   "source": [
    "best_seqsignet_network_umap_kfold_20[\"precision\"].mean()"
   ]
  },
  {
   "cell_type": "code",
   "execution_count": null,
   "id": "ef127f1e",
   "metadata": {},
   "outputs": [],
   "source": [
    "best_seqsignet_network_umap_kfold_20[\"recall\"].mean()"
   ]
  },
  {
   "cell_type": "code",
   "execution_count": null,
   "id": "1584e0f2",
   "metadata": {},
   "outputs": [],
   "source": [
    "np.stack(best_seqsignet_network_umap_kfold_20[\"f1_scores\"]).mean(axis=0)"
   ]
  },
  {
   "cell_type": "code",
   "execution_count": null,
   "id": "7b4943be",
   "metadata": {},
   "outputs": [],
   "source": [
    "np.stack(best_seqsignet_network_umap_kfold_20[\"precision_scores\"]).mean(axis=0)"
   ]
  },
  {
   "cell_type": "code",
   "execution_count": null,
   "id": "15c89795",
   "metadata": {},
   "outputs": [],
   "source": [
    "np.stack(best_seqsignet_network_umap_kfold_20[\"recall_scores\"]).mean(axis=0)"
   ]
  },
  {
   "cell_type": "markdown",
   "id": "811a6de0",
   "metadata": {},
   "source": [
    "## GRP"
   ]
  },
  {
   "cell_type": "code",
   "execution_count": null,
   "id": "8b137f3c",
   "metadata": {},
   "outputs": [],
   "source": [
    "(\n",
    "    seqsignet_network_grp_kfold_20,\n",
    "    best_seqsignet_network_grp_kfold_20,\n",
    "    _,\n",
    "    __,\n",
    ") = seqsignet_attention_hyperparameter_search(\n",
    "    num_epochs=num_epochs,\n",
    "    df=anno_mi,\n",
    "    id_column=\"transcript_id\",\n",
    "    label_column=\"client_talk_type\",\n",
    "    embeddings=sbert_embeddings,\n",
    "    y_data=y_data_client,\n",
    "    output_dim=output_dim_client,\n",
    "    shift=shift,\n",
    "    window_size=window_size,\n",
    "    n=n,\n",
    "    dim_reduce_methods=[\"gaussian_random_projection\"],\n",
    "    dimensions=dimensions,\n",
    "    log_signature=True,\n",
    "    swmhau_parameters=swmhau_parameters,\n",
    "    num_layers=num_layers,\n",
    "    ffn_hidden_dim_sizes=ffn_hidden_dim_sizes,\n",
    "    dropout_rates=dropout_rates,\n",
    "    learning_rates=learning_rates,\n",
    "    seeds=seeds,\n",
    "    loss=loss,\n",
    "    gamma=gamma,\n",
    "    device=device,\n",
    "    features=features,\n",
    "    standardise_method=standardise_method,\n",
    "    include_features_in_path=include_features_in_path,\n",
    "    include_features_in_input=include_features_in_input,\n",
    "    path_indices=client_index,\n",
    "    k_fold=True,\n",
    "    patience=patience,\n",
    "    split_ids=client_transcript_id,\n",
    "    validation_metric=validation_metric,\n",
    "    results_output=f\"{output_dir}/seqsignet_grp_focal_{gamma}_{shift}_{window_size}_{n}_kfold.csv\",\n",
    "    verbose=False,\n",
    ")"
   ]
  },
  {
   "cell_type": "code",
   "execution_count": null,
   "id": "f3298f8c",
   "metadata": {},
   "outputs": [],
   "source": [
    "seqsignet_network_grp_kfold_20"
   ]
  },
  {
   "cell_type": "code",
   "execution_count": null,
   "id": "3a8e5ddb",
   "metadata": {},
   "outputs": [],
   "source": [
    "best_seqsignet_network_grp_kfold_20[\"f1\"].mean()"
   ]
  },
  {
   "cell_type": "code",
   "execution_count": null,
   "id": "9128727b",
   "metadata": {},
   "outputs": [],
   "source": [
    "best_seqsignet_network_grp_kfold_20[\"precision\"].mean()"
   ]
  },
  {
   "cell_type": "code",
   "execution_count": null,
   "id": "f6c7ed11",
   "metadata": {},
   "outputs": [],
   "source": [
    "best_seqsignet_network_grp_kfold_20[\"recall\"].mean()"
   ]
  },
  {
   "cell_type": "code",
   "execution_count": null,
   "id": "068fb365",
   "metadata": {},
   "outputs": [],
   "source": [
    "np.stack(best_seqsignet_network_grp_kfold_20[\"f1_scores\"]).mean(axis=0)"
   ]
  },
  {
   "cell_type": "code",
   "execution_count": null,
   "id": "778a6031",
   "metadata": {},
   "outputs": [],
   "source": [
    "np.stack(best_seqsignet_network_grp_kfold_20[\"precision_scores\"]).mean(axis=0)"
   ]
  },
  {
   "cell_type": "code",
   "execution_count": null,
   "id": "be4101c4",
   "metadata": {},
   "outputs": [],
   "source": [
    "np.stack(best_seqsignet_network_grp_kfold_20[\"recall_scores\"]).mean(axis=0)"
   ]
  },
  {
   "cell_type": "markdown",
   "id": "179dbb85-f360-4c16-a852-fb32cc0e01d6",
   "metadata": {},
   "source": [
    "# history_length=35"
   ]
  },
  {
   "cell_type": "code",
   "execution_count": null,
   "id": "af118561-2837-4bbb-b2df-59535f5e77be",
   "metadata": {},
   "outputs": [],
   "source": [
    "shift = 3\n",
    "window_size = 5\n",
    "n = 11"
   ]
  },
  {
   "cell_type": "code",
   "execution_count": null,
   "id": "9f88d24b-150e-44d2-8de8-63a823df9963",
   "metadata": {},
   "outputs": [],
   "source": [
    "(\n",
    "    seqsignet_network_umap_kfold_35,\n",
    "    best_seqsignet_network_umap_kfold_35,\n",
    "    _,\n",
    "    __,\n",
    ") = seqsignet_attention_hyperparameter_search(\n",
    "    num_epochs=num_epochs,\n",
    "    df=anno_mi,\n",
    "    id_column=\"transcript_id\",\n",
    "    label_column=\"client_talk_type\",\n",
    "    embeddings=sbert_embeddings,\n",
    "    y_data=y_data_client,\n",
    "    output_dim=output_dim_client,\n",
    "    shift=shift,\n",
    "    window_size=window_size,\n",
    "    n=n,\n",
    "    dim_reduce_methods=[\"umap\"],\n",
    "    dimensions=dimensions,\n",
    "    log_signature=True,\n",
    "    swmhau_parameters=swmhau_parameters,\n",
    "    num_layers=num_layers,\n",
    "    ffn_hidden_dim_sizes=ffn_hidden_dim_sizes,\n",
    "    dropout_rates=dropout_rates,\n",
    "    learning_rates=learning_rates,\n",
    "    seeds=seeds,\n",
    "    loss=loss,\n",
    "    gamma=gamma,\n",
    "    device=device,\n",
    "    features=features,\n",
    "    standardise_method=standardise_method,\n",
    "    include_features_in_path=include_features_in_path,\n",
    "    include_features_in_input=include_features_in_input,\n",
    "    path_indices=client_index,\n",
    "    split_ids=client_transcript_id,\n",
    "    k_fold=True,\n",
    "    patience=patience,\n",
    "    validation_metric=validation_metric,\n",
    "    results_output=f\"{output_dir}/seqsignet_umap_focal_{gamma}_{shift}_{window_size}_{n}_kfold.csv\",\n",
    "    verbose=False,\n",
    ")"
   ]
  },
  {
   "cell_type": "code",
   "execution_count": null,
   "id": "ba6da5ed-70bd-44e7-a693-9ed76551bc36",
   "metadata": {},
   "outputs": [],
   "source": [
    "seqsignet_network_umap_kfold_35"
   ]
  },
  {
   "cell_type": "code",
   "execution_count": null,
   "id": "9412b03d-b3b0-42c8-863e-f3093c1836c6",
   "metadata": {},
   "outputs": [],
   "source": [
    "best_seqsignet_network_umap_kfold_35[\"f1\"].mean()"
   ]
  },
  {
   "cell_type": "code",
   "execution_count": null,
   "id": "bdd71a23-3015-4f44-bec5-f889b061d685",
   "metadata": {},
   "outputs": [],
   "source": [
    "best_seqsignet_network_umap_kfold_35[\"precision\"].mean()"
   ]
  },
  {
   "cell_type": "code",
   "execution_count": null,
   "id": "2912d6da-5816-4665-89dc-fca245c067f3",
   "metadata": {},
   "outputs": [],
   "source": [
    "best_seqsignet_network_umap_kfold_35[\"recall\"].mean()"
   ]
  },
  {
   "cell_type": "code",
   "execution_count": null,
   "id": "3a6b34c4-92bb-497f-88d4-79a27b108c84",
   "metadata": {},
   "outputs": [],
   "source": [
    "np.stack(best_seqsignet_network_umap_kfold_35[\"f1_scores\"]).mean(axis=0)"
   ]
  },
  {
   "cell_type": "code",
   "execution_count": null,
   "id": "dfff40bf-1848-4450-8cf5-8f64abc09c40",
   "metadata": {},
   "outputs": [],
   "source": [
    "np.stack(best_seqsignet_network_umap_kfold_35[\"precision_scores\"]).mean(axis=0)"
   ]
  },
  {
   "cell_type": "code",
   "execution_count": null,
   "id": "a8d4e5a1-8463-4fd9-8a7f-8defe837d4e0",
   "metadata": {},
   "outputs": [],
   "source": [
    "np.stack(best_seqsignet_network_umap_kfold_35[\"recall_scores\"]).mean(axis=0)"
   ]
  },
  {
   "cell_type": "markdown",
   "id": "e112ad11-eb64-430b-82b4-1f139e5ea966",
   "metadata": {},
   "source": [
    "## GRP"
   ]
  },
  {
   "cell_type": "code",
   "execution_count": null,
   "id": "fd91977a-283f-4a43-b64c-63cba9cefb04",
   "metadata": {},
   "outputs": [],
   "source": [
    "(\n",
    "    seqsignet_network_grp_kfold_35,\n",
    "    best_seqsignet_network_grp_kfold_35,\n",
    "    _,\n",
    "    __,\n",
    ") = seqsignet_attention_hyperparameter_search(\n",
    "    num_epochs=num_epochs,\n",
    "    df=anno_mi,\n",
    "    id_column=\"transcript_id\",\n",
    "    label_column=\"client_talk_type\",\n",
    "    embeddings=sbert_embeddings,\n",
    "    y_data=y_data_client,\n",
    "    output_dim=output_dim_client,\n",
    "    shift=shift,\n",
    "    window_size=window_size,\n",
    "    n=n,\n",
    "    dim_reduce_methods=[\"gaussian_random_projection\"],\n",
    "    dimensions=dimensions,\n",
    "    log_signature=True,\n",
    "    swmhau_parameters=swmhau_parameters,\n",
    "    num_layers=num_layers,\n",
    "    ffn_hidden_dim_sizes=ffn_hidden_dim_sizes,\n",
    "    dropout_rates=dropout_rates,\n",
    "    learning_rates=learning_rates,\n",
    "    seeds=seeds,\n",
    "    loss=loss,\n",
    "    gamma=gamma,\n",
    "    device=device,\n",
    "    features=features,\n",
    "    standardise_method=standardise_method,\n",
    "    include_features_in_path=include_features_in_path,\n",
    "    include_features_in_input=include_features_in_input,\n",
    "    path_indices=client_index,\n",
    "    k_fold=True,\n",
    "    patience=patience,\n",
    "    split_ids=client_transcript_id,\n",
    "    validation_metric=validation_metric,\n",
    "    results_output=f\"{output_dir}/seqsignet_grp_focal_{gamma}_{shift}_{window_size}_{n}_kfold.csv\",\n",
    "    verbose=False,\n",
    ")"
   ]
  },
  {
   "cell_type": "code",
   "execution_count": null,
   "id": "a9f88aff-06c9-406b-96ed-47e372ac74a8",
   "metadata": {},
   "outputs": [],
   "source": [
    "seqsignet_network_grp_kfold_35"
   ]
  },
  {
   "cell_type": "code",
   "execution_count": null,
   "id": "db6dc8c8-28ef-4f8b-a371-4c7fb004ba85",
   "metadata": {},
   "outputs": [],
   "source": [
    "best_seqsignet_network_grp_kfold_35[\"f1\"].mean()"
   ]
  },
  {
   "cell_type": "code",
   "execution_count": null,
   "id": "5943b90f-b486-442f-9507-afca813c2d1e",
   "metadata": {},
   "outputs": [],
   "source": [
    "best_seqsignet_network_grp_kfold_35[\"precision\"].mean()"
   ]
  },
  {
   "cell_type": "code",
   "execution_count": null,
   "id": "fac42ec4-794d-452a-a26f-a33f38300957",
   "metadata": {},
   "outputs": [],
   "source": [
    "best_seqsignet_network_grp_kfold_35[\"recall\"].mean()"
   ]
  },
  {
   "cell_type": "code",
   "execution_count": null,
   "id": "6e41ae89-f184-4318-93c6-61b9bda05133",
   "metadata": {},
   "outputs": [],
   "source": [
    "np.stack(best_seqsignet_network_grp_kfold_35[\"f1_scores\"]).mean(axis=0)"
   ]
  },
  {
   "cell_type": "code",
   "execution_count": null,
   "id": "7aeeb599-9de6-411e-bd82-83c451b007f7",
   "metadata": {},
   "outputs": [],
   "source": [
    "np.stack(best_seqsignet_network_grp_kfold_35[\"precision_scores\"]).mean(axis=0)"
   ]
  },
  {
   "cell_type": "code",
   "execution_count": null,
   "id": "d1ea4021-566e-491b-a6d1-d17745b193f9",
   "metadata": {},
   "outputs": [],
   "source": [
    "np.stack(best_seqsignet_network_grp_kfold_35[\"recall_scores\"]).mean(axis=0)"
   ]
  }
 ],
 "metadata": {
  "kernelspec": {
   "display_name": "nlpsig-networks (Conda)",
   "language": "python",
   "name": "sys_nlpsig-networks"
  },
  "language_info": {
   "codemirror_mode": {
    "name": "ipython",
    "version": 3
   },
   "file_extension": ".py",
   "mimetype": "text/x-python",
   "name": "python",
   "nbconvert_exporter": "python",
   "pygments_lexer": "ipython3",
   "version": "3.8.17"
  }
 },
 "nbformat": 4,
 "nbformat_minor": 5
}
