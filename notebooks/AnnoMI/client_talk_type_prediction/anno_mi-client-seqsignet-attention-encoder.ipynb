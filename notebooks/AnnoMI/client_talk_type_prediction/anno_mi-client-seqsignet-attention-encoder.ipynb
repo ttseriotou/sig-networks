{
 "cells": [
  {
   "cell_type": "code",
   "execution_count": 1,
   "id": "a983a5e8",
   "metadata": {},
   "outputs": [],
   "source": [
    "import numpy as np\n",
    "import pickle\n",
    "import os\n",
    "\n",
    "seed = 2023"
   ]
  },
  {
   "cell_type": "code",
   "execution_count": 2,
   "id": "31866562-4774-4b9e-9dab-1018ff28ae3e",
   "metadata": {},
   "outputs": [
    {
     "data": {
      "text/plain": [
       "device(type='cuda')"
      ]
     },
     "execution_count": 2,
     "metadata": {},
     "output_type": "execute_result"
    }
   ],
   "source": [
    "import torch\n",
    "\n",
    "# set device\n",
    "device = torch.device(\"cuda\" if torch.cuda.is_available() else \"cpu\")\n",
    "device"
   ]
  },
  {
   "cell_type": "code",
   "execution_count": 3,
   "id": "47c7fd57",
   "metadata": {},
   "outputs": [],
   "source": [
    "from nlpsig_networks.scripts.seqsignet_attention_encoder_functions import (\n",
    "    seqsignet_attention_encoder_hyperparameter_search,\n",
    ")"
   ]
  },
  {
   "cell_type": "code",
   "execution_count": 4,
   "id": "6e918dde",
   "metadata": {},
   "outputs": [],
   "source": [
    "output_dir = \"client_talk_type_output\"\n",
    "if not os.path.isdir(output_dir):\n",
    "    os.makedirs(output_dir)"
   ]
  },
  {
   "cell_type": "markdown",
   "id": "f7409a03",
   "metadata": {},
   "source": [
    "## AnnoMI"
   ]
  },
  {
   "cell_type": "code",
   "execution_count": 5,
   "id": "f00bb922",
   "metadata": {},
   "outputs": [],
   "source": [
    "%run ../load_anno_mi.py"
   ]
  },
  {
   "cell_type": "code",
   "execution_count": 6,
   "id": "720d820f",
   "metadata": {},
   "outputs": [
    {
     "data": {
      "text/html": [
       "<div>\n",
       "<style scoped>\n",
       "    .dataframe tbody tr th:only-of-type {\n",
       "        vertical-align: middle;\n",
       "    }\n",
       "\n",
       "    .dataframe tbody tr th {\n",
       "        vertical-align: top;\n",
       "    }\n",
       "\n",
       "    .dataframe thead th {\n",
       "        text-align: right;\n",
       "    }\n",
       "</style>\n",
       "<table border=\"1\" class=\"dataframe\">\n",
       "  <thead>\n",
       "    <tr style=\"text-align: right;\">\n",
       "      <th></th>\n",
       "      <th>mi_quality</th>\n",
       "      <th>transcript_id</th>\n",
       "      <th>topic</th>\n",
       "      <th>utterance_id</th>\n",
       "      <th>interlocutor</th>\n",
       "      <th>timestamp</th>\n",
       "      <th>utterance_text</th>\n",
       "      <th>annotator_id</th>\n",
       "      <th>therapist_input_exists</th>\n",
       "      <th>therapist_input_subtype</th>\n",
       "      <th>reflection_exists</th>\n",
       "      <th>reflection_subtype</th>\n",
       "      <th>question_exists</th>\n",
       "      <th>question_subtype</th>\n",
       "      <th>main_therapist_behaviour</th>\n",
       "      <th>client_talk_type</th>\n",
       "      <th>datetime</th>\n",
       "      <th>speaker</th>\n",
       "    </tr>\n",
       "  </thead>\n",
       "  <tbody>\n",
       "    <tr>\n",
       "      <th>0</th>\n",
       "      <td>high</td>\n",
       "      <td>0</td>\n",
       "      <td>reducing alcohol consumption</td>\n",
       "      <td>0</td>\n",
       "      <td>therapist</td>\n",
       "      <td>00:00:13</td>\n",
       "      <td>Thanks for filling it out. We give this form t...</td>\n",
       "      <td>3</td>\n",
       "      <td>False</td>\n",
       "      <td>NaN</td>\n",
       "      <td>False</td>\n",
       "      <td>NaN</td>\n",
       "      <td>True</td>\n",
       "      <td>open</td>\n",
       "      <td>question</td>\n",
       "      <td>NaN</td>\n",
       "      <td>2023-11-06 00:00:13</td>\n",
       "      <td>-1</td>\n",
       "    </tr>\n",
       "    <tr>\n",
       "      <th>1</th>\n",
       "      <td>high</td>\n",
       "      <td>0</td>\n",
       "      <td>reducing alcohol consumption</td>\n",
       "      <td>1</td>\n",
       "      <td>client</td>\n",
       "      <td>00:00:24</td>\n",
       "      <td>Sure.</td>\n",
       "      <td>3</td>\n",
       "      <td>NaN</td>\n",
       "      <td>NaN</td>\n",
       "      <td>NaN</td>\n",
       "      <td>NaN</td>\n",
       "      <td>NaN</td>\n",
       "      <td>NaN</td>\n",
       "      <td>NaN</td>\n",
       "      <td>neutral</td>\n",
       "      <td>2023-11-06 00:00:24</td>\n",
       "      <td>1</td>\n",
       "    </tr>\n",
       "    <tr>\n",
       "      <th>2</th>\n",
       "      <td>high</td>\n",
       "      <td>0</td>\n",
       "      <td>reducing alcohol consumption</td>\n",
       "      <td>2</td>\n",
       "      <td>therapist</td>\n",
       "      <td>00:00:25</td>\n",
       "      <td>So, let's see. It looks that you put-- You dri...</td>\n",
       "      <td>3</td>\n",
       "      <td>True</td>\n",
       "      <td>information</td>\n",
       "      <td>False</td>\n",
       "      <td>NaN</td>\n",
       "      <td>False</td>\n",
       "      <td>NaN</td>\n",
       "      <td>therapist_input</td>\n",
       "      <td>NaN</td>\n",
       "      <td>2023-11-06 00:00:25</td>\n",
       "      <td>-1</td>\n",
       "    </tr>\n",
       "    <tr>\n",
       "      <th>3</th>\n",
       "      <td>high</td>\n",
       "      <td>0</td>\n",
       "      <td>reducing alcohol consumption</td>\n",
       "      <td>3</td>\n",
       "      <td>client</td>\n",
       "      <td>00:00:34</td>\n",
       "      <td>Mm-hmm.</td>\n",
       "      <td>3</td>\n",
       "      <td>NaN</td>\n",
       "      <td>NaN</td>\n",
       "      <td>NaN</td>\n",
       "      <td>NaN</td>\n",
       "      <td>NaN</td>\n",
       "      <td>NaN</td>\n",
       "      <td>NaN</td>\n",
       "      <td>neutral</td>\n",
       "      <td>2023-11-06 00:00:34</td>\n",
       "      <td>1</td>\n",
       "    </tr>\n",
       "    <tr>\n",
       "      <th>4</th>\n",
       "      <td>high</td>\n",
       "      <td>0</td>\n",
       "      <td>reducing alcohol consumption</td>\n",
       "      <td>4</td>\n",
       "      <td>therapist</td>\n",
       "      <td>00:00:34</td>\n",
       "      <td>-and you usually have three to four drinks whe...</td>\n",
       "      <td>3</td>\n",
       "      <td>True</td>\n",
       "      <td>information</td>\n",
       "      <td>False</td>\n",
       "      <td>NaN</td>\n",
       "      <td>False</td>\n",
       "      <td>NaN</td>\n",
       "      <td>therapist_input</td>\n",
       "      <td>NaN</td>\n",
       "      <td>2023-11-06 00:00:34</td>\n",
       "      <td>-1</td>\n",
       "    </tr>\n",
       "  </tbody>\n",
       "</table>\n",
       "</div>"
      ],
      "text/plain": [
       "  mi_quality  transcript_id                         topic  utterance_id  \\\n",
       "0       high              0  reducing alcohol consumption             0   \n",
       "1       high              0  reducing alcohol consumption             1   \n",
       "2       high              0  reducing alcohol consumption             2   \n",
       "3       high              0  reducing alcohol consumption             3   \n",
       "4       high              0  reducing alcohol consumption             4   \n",
       "\n",
       "  interlocutor timestamp                                     utterance_text  \\\n",
       "0    therapist  00:00:13  Thanks for filling it out. We give this form t...   \n",
       "1       client  00:00:24                                              Sure.   \n",
       "2    therapist  00:00:25  So, let's see. It looks that you put-- You dri...   \n",
       "3       client  00:00:34                                            Mm-hmm.   \n",
       "4    therapist  00:00:34  -and you usually have three to four drinks whe...   \n",
       "\n",
       "   annotator_id therapist_input_exists therapist_input_subtype  \\\n",
       "0             3                  False                     NaN   \n",
       "1             3                    NaN                     NaN   \n",
       "2             3                   True             information   \n",
       "3             3                    NaN                     NaN   \n",
       "4             3                   True             information   \n",
       "\n",
       "  reflection_exists reflection_subtype question_exists question_subtype  \\\n",
       "0             False                NaN            True             open   \n",
       "1               NaN                NaN             NaN              NaN   \n",
       "2             False                NaN           False              NaN   \n",
       "3               NaN                NaN             NaN              NaN   \n",
       "4             False                NaN           False              NaN   \n",
       "\n",
       "  main_therapist_behaviour client_talk_type            datetime  speaker  \n",
       "0                 question              NaN 2023-11-06 00:00:13       -1  \n",
       "1                      NaN          neutral 2023-11-06 00:00:24        1  \n",
       "2          therapist_input              NaN 2023-11-06 00:00:25       -1  \n",
       "3                      NaN          neutral 2023-11-06 00:00:34        1  \n",
       "4          therapist_input              NaN 2023-11-06 00:00:34       -1  "
      ]
     },
     "execution_count": 6,
     "metadata": {},
     "output_type": "execute_result"
    }
   ],
   "source": [
    "anno_mi.head()"
   ]
  },
  {
   "cell_type": "code",
   "execution_count": 7,
   "id": "84d5594d",
   "metadata": {},
   "outputs": [
    {
     "data": {
      "text/plain": [
       "(9699, 384)"
      ]
     },
     "execution_count": 7,
     "metadata": {},
     "output_type": "execute_result"
    }
   ],
   "source": [
    "with open(\"../anno_mi_sbert.pkl\", \"rb\") as f:\n",
    "    sbert_embeddings = pickle.load(f)\n",
    "\n",
    "sbert_embeddings.shape"
   ]
  },
  {
   "cell_type": "code",
   "execution_count": 8,
   "id": "4daab8de",
   "metadata": {},
   "outputs": [],
   "source": [
    "features = [\"time_encoding\", \"timeline_index\"]\n",
    "standardise_method = [\"z_score\", None]\n",
    "include_features_in_path = True\n",
    "include_features_in_input = True"
   ]
  },
  {
   "cell_type": "code",
   "execution_count": 9,
   "id": "1f5e3893",
   "metadata": {},
   "outputs": [],
   "source": [
    "num_epochs = 100\n",
    "dimensions = [15]  # [50, 15]\n",
    "swmhau_parameters = [(12, 3, 10), (8, 4, 6)]#, (8, 4, 12)]\n",
    "num_layers = [1]\n",
    "ffn_hidden_dim_sizes = [[256,256],[512,512]]\n",
    "dropout_rates = [0.1, 0.2]\n",
    "learning_rates = [1e-3, 1e-4, 5e-4]\n",
    "seeds = [1, 12, 123]\n",
    "loss = \"focal\"\n",
    "gamma = 2\n",
    "validation_metric = \"f1\"\n",
    "patience = 5"
   ]
  },
  {
   "cell_type": "code",
   "execution_count": 10,
   "id": "1c7c7a5c-8dc0-49c6-a43f-d2403bbbc057",
   "metadata": {},
   "outputs": [],
   "source": [
    "kwargs = {\n",
    "    \"num_epochs\": num_epochs,\n",
    "    \"df\": anno_mi,\n",
    "    \"id_column\": \"transcript_id\",\n",
    "    \"label_column\": \"client_talk_type\",\n",
    "    \"embeddings\": sbert_embeddings,\n",
    "    \"y_data\": y_data_client,\n",
    "    \"output_dim\": output_dim_client,\n",
    "    \"dimensions\": dimensions,\n",
    "    \"log_signature\": True,\n",
    "    \"pooling\": \"signature\",\n",
    "    \"transformer_encoder_layers\": 2,\n",
    "    \"swmhau_parameters\": swmhau_parameters,\n",
    "    \"num_layers\": num_layers,\n",
    "    \"ffn_hidden_dim_sizes\": ffn_hidden_dim_sizes,\n",
    "    \"dropout_rates\": dropout_rates,\n",
    "    \"learning_rates\": learning_rates,\n",
    "    \"seeds\": seeds,\n",
    "    \"loss\": loss,\n",
    "    \"gamma\": gamma,\n",
    "    \"device\": device,\n",
    "    \"features\": features,\n",
    "    \"standardise_method\": standardise_method,\n",
    "    \"include_features_in_path\": include_features_in_path,\n",
    "    \"include_features_in_input\": include_features_in_input,\n",
    "    \"path_indices\": client_index,\n",
    "    \"split_ids\": client_transcript_id,\n",
    "    \"k_fold\": True,\n",
    "    \"patience\": patience,\n",
    "    \"validation_metric\": validation_metric,\n",
    "    \"verbose\": False,\n",
    "}"
   ]
  },
  {
   "cell_type": "markdown",
   "id": "4dbfefaa-f4c6-47f2-b159-d10b705de7ff",
   "metadata": {
    "tags": []
   },
   "source": [
    "# history_length=11"
   ]
  },
  {
   "cell_type": "code",
   "execution_count": 11,
   "id": "d276859d-299b-48b1-a7cb-e0dc898498ab",
   "metadata": {},
   "outputs": [],
   "source": [
    "shift = 3\n",
    "window_size = 5\n",
    "n = 3"
   ]
  },
  {
   "cell_type": "code",
   "execution_count": 12,
   "id": "aa2b936d-c59d-469e-a99b-2c18a2973da7",
   "metadata": {
    "tags": []
   },
   "outputs": [
    {
     "data": {
      "application/vnd.jupyter.widget-view+json": {
       "model_id": "f1dc9707fcb74b72bb97d57894a2adea",
       "version_major": 2,
       "version_minor": 0
      },
      "text/plain": [
       "  0%|          | 0/1 [00:00<?, ?it/s]"
      ]
     },
     "metadata": {},
     "output_type": "display_data"
    },
    {
     "data": {
      "application/vnd.jupyter.widget-view+json": {
       "model_id": "f39df9f33cce493db5019cf985239ea3",
       "version_major": 2,
       "version_minor": 0
      },
      "text/plain": [
       "  0%|          | 0/1 [00:00<?, ?it/s]"
      ]
     },
     "metadata": {},
     "output_type": "display_data"
    },
    {
     "name": "stdout",
     "output_type": "stream",
     "text": [
      "\n",
      "##################################################\n",
      "dimension: 15 | method: umap\n",
      "given shift 3, window size 5 and n 3: history length = 11\n",
      "[INFO] Concatenating the embeddings to the dataframe...\n",
      "[INFO] - columns beginning with 'e' denote the full embddings.\n",
      "[INFO] - columns beginning with 'd' denote the dimension reduced embeddings.\n",
      "[INFO] Adding time feature columns into dataframe in `.df`.\n",
      "[INFO] Adding 'time_encoding' feature...\n",
      "[INFO] Adding 'time_diff' feature...\n",
      "[INFO] Adding 'timeline_index' feature...\n",
      "[INFO] Padding ids and storing in `.df_padded` and `.array_padded` attributes.\n"
     ]
    },
    {
     "data": {
      "application/vnd.jupyter.widget-view+json": {
       "model_id": "1c782116f613475e9372b85d6e018d93",
       "version_major": 2,
       "version_minor": 0
      },
      "text/plain": [
       "  0%|          | 0/9699 [00:00<?, ?it/s]"
      ]
     },
     "metadata": {},
     "output_type": "display_data"
    },
    {
     "name": "stdout",
     "output_type": "stream",
     "text": [
      "[INFO] The path was created for each item in the dataframe, by looking at its history, so to include embeddings in the FFN input, we concatenate the embeddings for each sentence / text.\n"
     ]
    },
    {
     "data": {
      "application/vnd.jupyter.widget-view+json": {
       "model_id": "9331e1419ea74d78bd2ce84792399c0a",
       "version_major": 2,
       "version_minor": 0
      },
      "text/plain": [
       "  0%|          | 0/2 [00:00<?, ?it/s]"
      ]
     },
     "metadata": {},
     "output_type": "display_data"
    },
    {
     "data": {
      "application/vnd.jupyter.widget-view+json": {
       "model_id": "3350c1cd24b74d2183e600cd55e85be6",
       "version_major": 2,
       "version_minor": 0
      },
      "text/plain": [
       "  0%|          | 0/1 [00:00<?, ?it/s]"
      ]
     },
     "metadata": {},
     "output_type": "display_data"
    },
    {
     "data": {
      "application/vnd.jupyter.widget-view+json": {
       "model_id": "992420385a9c48eb8c3fed1116eac8a6",
       "version_major": 2,
       "version_minor": 0
      },
      "text/plain": [
       "  0%|          | 0/2 [00:00<?, ?it/s]"
      ]
     },
     "metadata": {},
     "output_type": "display_data"
    },
    {
     "data": {
      "application/vnd.jupyter.widget-view+json": {
       "model_id": "b82443c2494d45f6985e503f0570fe78",
       "version_major": 2,
       "version_minor": 0
      },
      "text/plain": [
       "  0%|          | 0/2 [00:00<?, ?it/s]"
      ]
     },
     "metadata": {},
     "output_type": "display_data"
    },
    {
     "data": {
      "application/vnd.jupyter.widget-view+json": {
       "model_id": "d408877ab6f94b7cbcb8b0e17470aafb",
       "version_major": 2,
       "version_minor": 0
      },
      "text/plain": [
       "  0%|          | 0/3 [00:00<?, ?it/s]"
      ]
     },
     "metadata": {},
     "output_type": "display_data"
    },
    {
     "data": {
      "application/vnd.jupyter.widget-view+json": {
       "model_id": "010d77b5daee4a04b06efb8ecb0ab4fa",
       "version_major": 2,
       "version_minor": 0
      },
      "text/plain": [
       "  0%|          | 0/3 [00:00<?, ?it/s]"
      ]
     },
     "metadata": {},
     "output_type": "display_data"
    },
    {
     "data": {
      "application/vnd.jupyter.widget-view+json": {
       "model_id": "b75c4b5fbd5b40a58cca3c100480f00e",
       "version_major": 2,
       "version_minor": 0
      },
      "text/plain": [
       "  0%|          | 0/2 [00:00<?, ?it/s]"
      ]
     },
     "metadata": {},
     "output_type": "display_data"
    },
    {
     "data": {
      "application/vnd.jupyter.widget-view+json": {
       "model_id": "824bafd47c2d42e8be38d37a97094b1e",
       "version_major": 2,
       "version_minor": 0
      },
      "text/plain": [
       "  0%|          | 0/3 [00:00<?, ?it/s]"
      ]
     },
     "metadata": {},
     "output_type": "display_data"
    },
    {
     "data": {
      "application/vnd.jupyter.widget-view+json": {
       "model_id": "2751c43aa28c41a2bfc1dffa9c2d8c27",
       "version_major": 2,
       "version_minor": 0
      },
      "text/plain": [
       "  0%|          | 0/3 [00:00<?, ?it/s]"
      ]
     },
     "metadata": {},
     "output_type": "display_data"
    },
    {
     "data": {
      "application/vnd.jupyter.widget-view+json": {
       "model_id": "a0940eef22c049e9bac00d08f35f3fad",
       "version_major": 2,
       "version_minor": 0
      },
      "text/plain": [
       "  0%|          | 0/1 [00:00<?, ?it/s]"
      ]
     },
     "metadata": {},
     "output_type": "display_data"
    },
    {
     "data": {
      "application/vnd.jupyter.widget-view+json": {
       "model_id": "9e3eb222a03047b98a96ec48db3b78da",
       "version_major": 2,
       "version_minor": 0
      },
      "text/plain": [
       "  0%|          | 0/2 [00:00<?, ?it/s]"
      ]
     },
     "metadata": {},
     "output_type": "display_data"
    },
    {
     "data": {
      "application/vnd.jupyter.widget-view+json": {
       "model_id": "ada69e5f646f46d8896dd87739980491",
       "version_major": 2,
       "version_minor": 0
      },
      "text/plain": [
       "  0%|          | 0/2 [00:00<?, ?it/s]"
      ]
     },
     "metadata": {},
     "output_type": "display_data"
    },
    {
     "data": {
      "application/vnd.jupyter.widget-view+json": {
       "model_id": "4ed9029b53654e01ba49b9a4ac77bf2f",
       "version_major": 2,
       "version_minor": 0
      },
      "text/plain": [
       "  0%|          | 0/3 [00:00<?, ?it/s]"
      ]
     },
     "metadata": {},
     "output_type": "display_data"
    },
    {
     "data": {
      "application/vnd.jupyter.widget-view+json": {
       "model_id": "d0e1ee22ead44ffeabe86758a8504e1f",
       "version_major": 2,
       "version_minor": 0
      },
      "text/plain": [
       "  0%|          | 0/3 [00:00<?, ?it/s]"
      ]
     },
     "metadata": {},
     "output_type": "display_data"
    },
    {
     "data": {
      "application/vnd.jupyter.widget-view+json": {
       "model_id": "fb030c41e9f94a3ab1194f97bab55d6d",
       "version_major": 2,
       "version_minor": 0
      },
      "text/plain": [
       "  0%|          | 0/2 [00:00<?, ?it/s]"
      ]
     },
     "metadata": {},
     "output_type": "display_data"
    },
    {
     "data": {
      "application/vnd.jupyter.widget-view+json": {
       "model_id": "d83f57475592497eb271afc57e063763",
       "version_major": 2,
       "version_minor": 0
      },
      "text/plain": [
       "  0%|          | 0/3 [00:00<?, ?it/s]"
      ]
     },
     "metadata": {},
     "output_type": "display_data"
    },
    {
     "data": {
      "application/vnd.jupyter.widget-view+json": {
       "model_id": "1d16c55550e04480b52e16251ba469a8",
       "version_major": 2,
       "version_minor": 0
      },
      "text/plain": [
       "  0%|          | 0/3 [00:00<?, ?it/s]"
      ]
     },
     "metadata": {},
     "output_type": "display_data"
    },
    {
     "name": "stdout",
     "output_type": "stream",
     "text": [
      "given shift 3, window size 5 and n 3: history length = 11\n",
      "[INFO] Concatenating the embeddings to the dataframe...\n",
      "[INFO] - columns beginning with 'e' denote the full embddings.\n",
      "[INFO] - columns beginning with 'd' denote the dimension reduced embeddings.\n",
      "[INFO] Adding time feature columns into dataframe in `.df`.\n",
      "[INFO] Adding 'time_encoding' feature...\n",
      "[INFO] Adding 'time_diff' feature...\n",
      "[INFO] Adding 'timeline_index' feature...\n",
      "[INFO] Padding ids and storing in `.df_padded` and `.array_padded` attributes.\n"
     ]
    },
    {
     "data": {
      "application/vnd.jupyter.widget-view+json": {
       "model_id": "b6f777d1de204f36b6e2eb47caab4e3f",
       "version_major": 2,
       "version_minor": 0
      },
      "text/plain": [
       "  0%|          | 0/9699 [00:00<?, ?it/s]"
      ]
     },
     "metadata": {},
     "output_type": "display_data"
    },
    {
     "name": "stdout",
     "output_type": "stream",
     "text": [
      "[INFO] The path was created for each item in the dataframe, by looking at its history, so to include embeddings in the FFN input, we concatenate the embeddings for each sentence / text.\n",
      "saving results dataframe to CSV for this hyperparameter search in client_talk_type_output/seqsignet_attention_encoder_umap_focal_2_3_5_3_kfold.csv\n",
      "saving the best model results dataframe to CSV for this hyperparameter search in client_talk_type_output/seqsignet_attention_encoder_umap_focal_2_3_5_3_kfold_best_model.csv\n"
     ]
    }
   ],
   "source": [
    "(\n",
    "    seqsignet_attention_encoder_umap_kfold_11,\n",
    "    best_seqsignet_attention_encoder_umap_kfold_11,\n",
    "    _,\n",
    "    __,\n",
    ") = seqsignet_attention_encoder_hyperparameter_search(\n",
    "    shift=shift,\n",
    "    window_size=window_size,\n",
    "    n=n,\n",
    "    dim_reduce_methods=[\"umap\"],\n",
    "    results_output=f\"{output_dir}/seqsignet_attention_encoder_umap_focal_{gamma}_{shift}_{window_size}_{n}_kfold.csv\",\n",
    "    **kwargs,\n",
    ")"
   ]
  },
  {
   "cell_type": "code",
   "execution_count": 13,
   "id": "82e7c137-64ae-4b99-adf1-73388c2055c7",
   "metadata": {},
   "outputs": [
    {
     "data": {
      "text/html": [
       "<div>\n",
       "<style scoped>\n",
       "    .dataframe tbody tr th:only-of-type {\n",
       "        vertical-align: middle;\n",
       "    }\n",
       "\n",
       "    .dataframe tbody tr th {\n",
       "        vertical-align: top;\n",
       "    }\n",
       "\n",
       "    .dataframe thead th {\n",
       "        text-align: right;\n",
       "    }\n",
       "</style>\n",
       "<table border=\"1\" class=\"dataframe\">\n",
       "  <thead>\n",
       "    <tr style=\"text-align: right;\">\n",
       "      <th></th>\n",
       "      <th>loss</th>\n",
       "      <th>accuracy</th>\n",
       "      <th>f1</th>\n",
       "      <th>f1_scores</th>\n",
       "      <th>precision</th>\n",
       "      <th>precision_scores</th>\n",
       "      <th>recall</th>\n",
       "      <th>recall_scores</th>\n",
       "      <th>valid_loss</th>\n",
       "      <th>valid_accuracy</th>\n",
       "      <th>...</th>\n",
       "      <th>seed</th>\n",
       "      <th>loss_function</th>\n",
       "      <th>gamma</th>\n",
       "      <th>k_fold</th>\n",
       "      <th>n_splits</th>\n",
       "      <th>augmentation_type</th>\n",
       "      <th>hidden_dim_aug</th>\n",
       "      <th>comb_method</th>\n",
       "      <th>batch_size</th>\n",
       "      <th>model_id</th>\n",
       "    </tr>\n",
       "  </thead>\n",
       "  <tbody>\n",
       "    <tr>\n",
       "      <th>0</th>\n",
       "      <td>None</td>\n",
       "      <td>0.636207</td>\n",
       "      <td>0.517305</td>\n",
       "      <td>[0.7609110947832475, 0.4221453287197232, 0.368...</td>\n",
       "      <td>0.510939</td>\n",
       "      <td>[0.77352853301464, 0.44363636363636366, 0.3156...</td>\n",
       "      <td>0.531658</td>\n",
       "      <td>[0.7486986697513013, 0.40264026402640263, 0.44...</td>\n",
       "      <td>None</td>\n",
       "      <td>0.668433</td>\n",
       "      <td>...</td>\n",
       "      <td>1</td>\n",
       "      <td>focal</td>\n",
       "      <td>2</td>\n",
       "      <td>True</td>\n",
       "      <td>5</td>\n",
       "      <td>Conv1d</td>\n",
       "      <td>None</td>\n",
       "      <td>concatenation</td>\n",
       "      <td>64</td>\n",
       "      <td>0</td>\n",
       "    </tr>\n",
       "    <tr>\n",
       "      <th>0</th>\n",
       "      <td>None</td>\n",
       "      <td>0.652299</td>\n",
       "      <td>0.516845</td>\n",
       "      <td>[0.7754170825609582, 0.42781222320637735, 0.34...</td>\n",
       "      <td>0.518182</td>\n",
       "      <td>[0.7648382559774964, 0.46175908221797324, 0.32...</td>\n",
       "      <td>0.517966</td>\n",
       "      <td>[0.7862926547137074, 0.39851485148514854, 0.36...</td>\n",
       "      <td>None</td>\n",
       "      <td>0.678709</td>\n",
       "      <td>...</td>\n",
       "      <td>12</td>\n",
       "      <td>focal</td>\n",
       "      <td>2</td>\n",
       "      <td>True</td>\n",
       "      <td>5</td>\n",
       "      <td>Conv1d</td>\n",
       "      <td>None</td>\n",
       "      <td>concatenation</td>\n",
       "      <td>64</td>\n",
       "      <td>0</td>\n",
       "    </tr>\n",
       "    <tr>\n",
       "      <th>0</th>\n",
       "      <td>None</td>\n",
       "      <td>0.627586</td>\n",
       "      <td>0.488205</td>\n",
       "      <td>[0.7584423049288691, 0.3978590544157003, 0.308...</td>\n",
       "      <td>0.488003</td>\n",
       "      <td>[0.7537846329620108, 0.4330097087378641, 0.277...</td>\n",
       "      <td>0.492806</td>\n",
       "      <td>[0.7631578947368421, 0.367986798679868, 0.3472...</td>\n",
       "      <td>None</td>\n",
       "      <td>0.660405</td>\n",
       "      <td>...</td>\n",
       "      <td>123</td>\n",
       "      <td>focal</td>\n",
       "      <td>2</td>\n",
       "      <td>True</td>\n",
       "      <td>5</td>\n",
       "      <td>Conv1d</td>\n",
       "      <td>None</td>\n",
       "      <td>concatenation</td>\n",
       "      <td>64</td>\n",
       "      <td>0</td>\n",
       "    </tr>\n",
       "    <tr>\n",
       "      <th>0</th>\n",
       "      <td>None</td>\n",
       "      <td>0.633525</td>\n",
       "      <td>0.456989</td>\n",
       "      <td>[0.7681241184767279, 0.39461172741679873, 0.20...</td>\n",
       "      <td>0.480297</td>\n",
       "      <td>[0.7497246696035242, 0.3795731707317073, 0.311...</td>\n",
       "      <td>0.451568</td>\n",
       "      <td>[0.7874493927125507, 0.41089108910891087, 0.15...</td>\n",
       "      <td>None</td>\n",
       "      <td>0.640334</td>\n",
       "      <td>...</td>\n",
       "      <td>1</td>\n",
       "      <td>focal</td>\n",
       "      <td>2</td>\n",
       "      <td>True</td>\n",
       "      <td>5</td>\n",
       "      <td>Conv1d</td>\n",
       "      <td>None</td>\n",
       "      <td>concatenation</td>\n",
       "      <td>64</td>\n",
       "      <td>1</td>\n",
       "    </tr>\n",
       "    <tr>\n",
       "      <th>0</th>\n",
       "      <td>None</td>\n",
       "      <td>0.610345</td>\n",
       "      <td>0.435463</td>\n",
       "      <td>[0.7555053642010163, 0.34503171247357295, 0.20...</td>\n",
       "      <td>0.441052</td>\n",
       "      <td>[0.7380033094318809, 0.3538594969644406, 0.231...</td>\n",
       "      <td>0.431982</td>\n",
       "      <td>[0.7738577212261423, 0.33663366336633666, 0.18...</td>\n",
       "      <td>None</td>\n",
       "      <td>0.627007</td>\n",
       "      <td>...</td>\n",
       "      <td>12</td>\n",
       "      <td>focal</td>\n",
       "      <td>2</td>\n",
       "      <td>True</td>\n",
       "      <td>5</td>\n",
       "      <td>Conv1d</td>\n",
       "      <td>None</td>\n",
       "      <td>concatenation</td>\n",
       "      <td>64</td>\n",
       "      <td>1</td>\n",
       "    </tr>\n",
       "    <tr>\n",
       "      <th>...</th>\n",
       "      <td>...</td>\n",
       "      <td>...</td>\n",
       "      <td>...</td>\n",
       "      <td>...</td>\n",
       "      <td>...</td>\n",
       "      <td>...</td>\n",
       "      <td>...</td>\n",
       "      <td>...</td>\n",
       "      <td>...</td>\n",
       "      <td>...</td>\n",
       "      <td>...</td>\n",
       "      <td>...</td>\n",
       "      <td>...</td>\n",
       "      <td>...</td>\n",
       "      <td>...</td>\n",
       "      <td>...</td>\n",
       "      <td>...</td>\n",
       "      <td>...</td>\n",
       "      <td>...</td>\n",
       "      <td>...</td>\n",
       "      <td>...</td>\n",
       "    </tr>\n",
       "    <tr>\n",
       "      <th>0</th>\n",
       "      <td>None</td>\n",
       "      <td>0.654406</td>\n",
       "      <td>0.337919</td>\n",
       "      <td>[0.7927298988926337, 0.12396694214876032, 0.09...</td>\n",
       "      <td>0.435938</td>\n",
       "      <td>[0.6789690721649485, 0.375, 0.25384615384615383]</td>\n",
       "      <td>0.362181</td>\n",
       "      <td>[0.9522845575477155, 0.07425742574257425, 0.06]</td>\n",
       "      <td>None</td>\n",
       "      <td>0.644188</td>\n",
       "      <td>...</td>\n",
       "      <td>12</td>\n",
       "      <td>focal</td>\n",
       "      <td>2</td>\n",
       "      <td>True</td>\n",
       "      <td>5</td>\n",
       "      <td>Conv1d</td>\n",
       "      <td>None</td>\n",
       "      <td>concatenation</td>\n",
       "      <td>64</td>\n",
       "      <td>22</td>\n",
       "    </tr>\n",
       "    <tr>\n",
       "      <th>0</th>\n",
       "      <td>None</td>\n",
       "      <td>0.652490</td>\n",
       "      <td>0.401146</td>\n",
       "      <td>[0.784103935804356, 0.30220356768100737, 0.117...</td>\n",
       "      <td>0.472133</td>\n",
       "      <td>[0.7006601411336216, 0.414985590778098, 0.3007...</td>\n",
       "      <td>0.400154</td>\n",
       "      <td>[0.8901098901098901, 0.2376237623762376, 0.072...</td>\n",
       "      <td>None</td>\n",
       "      <td>0.646435</td>\n",
       "      <td>...</td>\n",
       "      <td>123</td>\n",
       "      <td>focal</td>\n",
       "      <td>2</td>\n",
       "      <td>True</td>\n",
       "      <td>5</td>\n",
       "      <td>Conv1d</td>\n",
       "      <td>None</td>\n",
       "      <td>concatenation</td>\n",
       "      <td>64</td>\n",
       "      <td>22</td>\n",
       "    </tr>\n",
       "    <tr>\n",
       "      <th>0</th>\n",
       "      <td>None</td>\n",
       "      <td>0.639847</td>\n",
       "      <td>0.497814</td>\n",
       "      <td>[0.7685854787387908, 0.4260692464358452, 0.298...</td>\n",
       "      <td>0.498889</td>\n",
       "      <td>[0.7688078703703703, 0.42075623491552694, 0.30...</td>\n",
       "      <td>0.496930</td>\n",
       "      <td>[0.7683632157316368, 0.4315181518151815, 0.290...</td>\n",
       "      <td>None</td>\n",
       "      <td>0.659281</td>\n",
       "      <td>...</td>\n",
       "      <td>1</td>\n",
       "      <td>focal</td>\n",
       "      <td>2</td>\n",
       "      <td>True</td>\n",
       "      <td>5</td>\n",
       "      <td>Conv1d</td>\n",
       "      <td>None</td>\n",
       "      <td>concatenation</td>\n",
       "      <td>64</td>\n",
       "      <td>23</td>\n",
       "    </tr>\n",
       "    <tr>\n",
       "      <th>0</th>\n",
       "      <td>None</td>\n",
       "      <td>0.641762</td>\n",
       "      <td>0.491691</td>\n",
       "      <td>[0.7743954480796585, 0.39695302581464237, 0.30...</td>\n",
       "      <td>0.496476</td>\n",
       "      <td>[0.7620380739081747, 0.40747176368375326, 0.31...</td>\n",
       "      <td>0.487738</td>\n",
       "      <td>[0.7871602082128398, 0.38696369636963696, 0.28...</td>\n",
       "      <td>None</td>\n",
       "      <td>0.667148</td>\n",
       "      <td>...</td>\n",
       "      <td>12</td>\n",
       "      <td>focal</td>\n",
       "      <td>2</td>\n",
       "      <td>True</td>\n",
       "      <td>5</td>\n",
       "      <td>Conv1d</td>\n",
       "      <td>None</td>\n",
       "      <td>concatenation</td>\n",
       "      <td>64</td>\n",
       "      <td>23</td>\n",
       "    </tr>\n",
       "    <tr>\n",
       "      <th>0</th>\n",
       "      <td>None</td>\n",
       "      <td>0.650766</td>\n",
       "      <td>0.492618</td>\n",
       "      <td>[0.7830096409109962, 0.3990566037735849, 0.295...</td>\n",
       "      <td>0.501316</td>\n",
       "      <td>[0.7575020275750203, 0.4658590308370044, 0.280...</td>\n",
       "      <td>0.490677</td>\n",
       "      <td>[0.810294968189705, 0.349009900990099, 0.31272...</td>\n",
       "      <td>None</td>\n",
       "      <td>0.655588</td>\n",
       "      <td>...</td>\n",
       "      <td>123</td>\n",
       "      <td>focal</td>\n",
       "      <td>2</td>\n",
       "      <td>True</td>\n",
       "      <td>5</td>\n",
       "      <td>Conv1d</td>\n",
       "      <td>None</td>\n",
       "      <td>concatenation</td>\n",
       "      <td>64</td>\n",
       "      <td>23</td>\n",
       "    </tr>\n",
       "  </tbody>\n",
       "</table>\n",
       "<p>72 rows × 49 columns</p>\n",
       "</div>"
      ],
      "text/plain": [
       "    loss  accuracy        f1  \\\n",
       "0   None  0.636207  0.517305   \n",
       "0   None  0.652299  0.516845   \n",
       "0   None  0.627586  0.488205   \n",
       "0   None  0.633525  0.456989   \n",
       "0   None  0.610345  0.435463   \n",
       "..   ...       ...       ...   \n",
       "0   None  0.654406  0.337919   \n",
       "0   None  0.652490  0.401146   \n",
       "0   None  0.639847  0.497814   \n",
       "0   None  0.641762  0.491691   \n",
       "0   None  0.650766  0.492618   \n",
       "\n",
       "                                            f1_scores  precision  \\\n",
       "0   [0.7609110947832475, 0.4221453287197232, 0.368...   0.510939   \n",
       "0   [0.7754170825609582, 0.42781222320637735, 0.34...   0.518182   \n",
       "0   [0.7584423049288691, 0.3978590544157003, 0.308...   0.488003   \n",
       "0   [0.7681241184767279, 0.39461172741679873, 0.20...   0.480297   \n",
       "0   [0.7555053642010163, 0.34503171247357295, 0.20...   0.441052   \n",
       "..                                                ...        ...   \n",
       "0   [0.7927298988926337, 0.12396694214876032, 0.09...   0.435938   \n",
       "0   [0.784103935804356, 0.30220356768100737, 0.117...   0.472133   \n",
       "0   [0.7685854787387908, 0.4260692464358452, 0.298...   0.498889   \n",
       "0   [0.7743954480796585, 0.39695302581464237, 0.30...   0.496476   \n",
       "0   [0.7830096409109962, 0.3990566037735849, 0.295...   0.501316   \n",
       "\n",
       "                                     precision_scores    recall  \\\n",
       "0   [0.77352853301464, 0.44363636363636366, 0.3156...  0.531658   \n",
       "0   [0.7648382559774964, 0.46175908221797324, 0.32...  0.517966   \n",
       "0   [0.7537846329620108, 0.4330097087378641, 0.277...  0.492806   \n",
       "0   [0.7497246696035242, 0.3795731707317073, 0.311...  0.451568   \n",
       "0   [0.7380033094318809, 0.3538594969644406, 0.231...  0.431982   \n",
       "..                                                ...       ...   \n",
       "0    [0.6789690721649485, 0.375, 0.25384615384615383]  0.362181   \n",
       "0   [0.7006601411336216, 0.414985590778098, 0.3007...  0.400154   \n",
       "0   [0.7688078703703703, 0.42075623491552694, 0.30...  0.496930   \n",
       "0   [0.7620380739081747, 0.40747176368375326, 0.31...  0.487738   \n",
       "0   [0.7575020275750203, 0.4658590308370044, 0.280...  0.490677   \n",
       "\n",
       "                                        recall_scores valid_loss  \\\n",
       "0   [0.7486986697513013, 0.40264026402640263, 0.44...       None   \n",
       "0   [0.7862926547137074, 0.39851485148514854, 0.36...       None   \n",
       "0   [0.7631578947368421, 0.367986798679868, 0.3472...       None   \n",
       "0   [0.7874493927125507, 0.41089108910891087, 0.15...       None   \n",
       "0   [0.7738577212261423, 0.33663366336633666, 0.18...       None   \n",
       "..                                                ...        ...   \n",
       "0     [0.9522845575477155, 0.07425742574257425, 0.06]       None   \n",
       "0   [0.8901098901098901, 0.2376237623762376, 0.072...       None   \n",
       "0   [0.7683632157316368, 0.4315181518151815, 0.290...       None   \n",
       "0   [0.7871602082128398, 0.38696369636963696, 0.28...       None   \n",
       "0   [0.810294968189705, 0.349009900990099, 0.31272...       None   \n",
       "\n",
       "    valid_accuracy  ...  seed loss_function  gamma k_fold  n_splits  \\\n",
       "0         0.668433  ...     1         focal      2   True         5   \n",
       "0         0.678709  ...    12         focal      2   True         5   \n",
       "0         0.660405  ...   123         focal      2   True         5   \n",
       "0         0.640334  ...     1         focal      2   True         5   \n",
       "0         0.627007  ...    12         focal      2   True         5   \n",
       "..             ...  ...   ...           ...    ...    ...       ...   \n",
       "0         0.644188  ...    12         focal      2   True         5   \n",
       "0         0.646435  ...   123         focal      2   True         5   \n",
       "0         0.659281  ...     1         focal      2   True         5   \n",
       "0         0.667148  ...    12         focal      2   True         5   \n",
       "0         0.655588  ...   123         focal      2   True         5   \n",
       "\n",
       "   augmentation_type  hidden_dim_aug    comb_method  batch_size  model_id  \n",
       "0             Conv1d            None  concatenation          64         0  \n",
       "0             Conv1d            None  concatenation          64         0  \n",
       "0             Conv1d            None  concatenation          64         0  \n",
       "0             Conv1d            None  concatenation          64         1  \n",
       "0             Conv1d            None  concatenation          64         1  \n",
       "..               ...             ...            ...         ...       ...  \n",
       "0             Conv1d            None  concatenation          64        22  \n",
       "0             Conv1d            None  concatenation          64        22  \n",
       "0             Conv1d            None  concatenation          64        23  \n",
       "0             Conv1d            None  concatenation          64        23  \n",
       "0             Conv1d            None  concatenation          64        23  \n",
       "\n",
       "[72 rows x 49 columns]"
      ]
     },
     "execution_count": 13,
     "metadata": {},
     "output_type": "execute_result"
    }
   ],
   "source": [
    "seqsignet_attention_encoder_umap_kfold_11"
   ]
  },
  {
   "cell_type": "code",
   "execution_count": 14,
   "id": "334f2a44-6a1e-40c4-a23c-9d10f359108d",
   "metadata": {},
   "outputs": [
    {
     "data": {
      "text/plain": [
       "0.5236556839152277"
      ]
     },
     "execution_count": 14,
     "metadata": {},
     "output_type": "execute_result"
    }
   ],
   "source": [
    "best_seqsignet_attention_encoder_umap_kfold_11[\"f1\"].mean()"
   ]
  },
  {
   "cell_type": "code",
   "execution_count": 15,
   "id": "f320e67d-3950-4ce5-a254-40661a13e26c",
   "metadata": {},
   "outputs": [
    {
     "data": {
      "text/plain": [
       "0.5202464466883728"
      ]
     },
     "execution_count": 15,
     "metadata": {},
     "output_type": "execute_result"
    }
   ],
   "source": [
    "best_seqsignet_attention_encoder_umap_kfold_11[\"precision\"].mean()"
   ]
  },
  {
   "cell_type": "code",
   "execution_count": 16,
   "id": "7be7a788-8b05-4ac8-89ee-5e6f86470c8f",
   "metadata": {},
   "outputs": [
    {
     "data": {
      "text/plain": [
       "0.5313548570974314"
      ]
     },
     "execution_count": 16,
     "metadata": {},
     "output_type": "execute_result"
    }
   ],
   "source": [
    "best_seqsignet_attention_encoder_umap_kfold_11[\"recall\"].mean()"
   ]
  },
  {
   "cell_type": "code",
   "execution_count": 17,
   "id": "9c6c851f-3c2d-4c89-8215-aaef16e00cb4",
   "metadata": {},
   "outputs": [
    {
     "data": {
      "text/plain": [
       "array([0.77424456, 0.43769494, 0.35902755])"
      ]
     },
     "execution_count": 17,
     "metadata": {},
     "output_type": "execute_result"
    }
   ],
   "source": [
    "np.stack(best_seqsignet_attention_encoder_umap_kfold_11[\"f1_scores\"]).mean(axis=0)"
   ]
  },
  {
   "cell_type": "code",
   "execution_count": 18,
   "id": "7fea245a-f937-4928-b857-f0157caa4859",
   "metadata": {},
   "outputs": [
    {
     "data": {
      "text/plain": [
       "array([0.77754646, 0.46120103, 0.32199185])"
      ]
     },
     "execution_count": 18,
     "metadata": {},
     "output_type": "execute_result"
    }
   ],
   "source": [
    "np.stack(best_seqsignet_attention_encoder_umap_kfold_11[\"precision_scores\"]).mean(\n",
    "    axis=0\n",
    ")"
   ]
  },
  {
   "cell_type": "code",
   "execution_count": 19,
   "id": "3587e08c-8c30-426c-b5a2-b6f4752a496c",
   "metadata": {},
   "outputs": [
    {
     "data": {
      "text/plain": [
       "array([0.77106227, 0.41694169, 0.40606061])"
      ]
     },
     "execution_count": 19,
     "metadata": {},
     "output_type": "execute_result"
    }
   ],
   "source": [
    "np.stack(best_seqsignet_attention_encoder_umap_kfold_11[\"recall_scores\"]).mean(axis=0)"
   ]
  },
  {
   "cell_type": "markdown",
   "id": "de271d33-3a57-419a-8372-279af9a0a9bb",
   "metadata": {
    "tags": []
   },
   "source": [
    "# history_length=20"
   ]
  },
  {
   "cell_type": "code",
   "execution_count": 20,
   "id": "521165eb",
   "metadata": {},
   "outputs": [],
   "source": [
    "shift = 3\n",
    "window_size = 5\n",
    "n = 6"
   ]
  },
  {
   "cell_type": "code",
   "execution_count": 21,
   "id": "e1ab36d1",
   "metadata": {},
   "outputs": [
    {
     "data": {
      "application/vnd.jupyter.widget-view+json": {
       "model_id": "eb809779c7b64c23aa818eaafe0b7d07",
       "version_major": 2,
       "version_minor": 0
      },
      "text/plain": [
       "  0%|          | 0/1 [00:00<?, ?it/s]"
      ]
     },
     "metadata": {},
     "output_type": "display_data"
    },
    {
     "data": {
      "application/vnd.jupyter.widget-view+json": {
       "model_id": "927f10b26a1f41fca0286ec4dc7990ee",
       "version_major": 2,
       "version_minor": 0
      },
      "text/plain": [
       "  0%|          | 0/1 [00:00<?, ?it/s]"
      ]
     },
     "metadata": {},
     "output_type": "display_data"
    },
    {
     "name": "stdout",
     "output_type": "stream",
     "text": [
      "\n",
      "##################################################\n",
      "dimension: 15 | method: umap\n",
      "given shift 3, window size 5 and n 6: history length = 20\n",
      "[INFO] Concatenating the embeddings to the dataframe...\n",
      "[INFO] - columns beginning with 'e' denote the full embddings.\n",
      "[INFO] - columns beginning with 'd' denote the dimension reduced embeddings.\n",
      "[INFO] Adding time feature columns into dataframe in `.df`.\n",
      "[INFO] Adding 'time_encoding' feature...\n",
      "[INFO] Adding 'time_diff' feature...\n",
      "[INFO] Adding 'timeline_index' feature...\n",
      "[INFO] Padding ids and storing in `.df_padded` and `.array_padded` attributes.\n"
     ]
    },
    {
     "data": {
      "application/vnd.jupyter.widget-view+json": {
       "model_id": "1801a12026404fd9b4dc503c302e51bb",
       "version_major": 2,
       "version_minor": 0
      },
      "text/plain": [
       "  0%|          | 0/9699 [00:00<?, ?it/s]"
      ]
     },
     "metadata": {},
     "output_type": "display_data"
    },
    {
     "name": "stdout",
     "output_type": "stream",
     "text": [
      "[INFO] The path was created for each item in the dataframe, by looking at its history, so to include embeddings in the FFN input, we concatenate the embeddings for each sentence / text.\n"
     ]
    },
    {
     "data": {
      "application/vnd.jupyter.widget-view+json": {
       "model_id": "4d377929378b41ea81a827b25b56cf0c",
       "version_major": 2,
       "version_minor": 0
      },
      "text/plain": [
       "  0%|          | 0/2 [00:00<?, ?it/s]"
      ]
     },
     "metadata": {},
     "output_type": "display_data"
    },
    {
     "data": {
      "application/vnd.jupyter.widget-view+json": {
       "model_id": "40fb45fa01b84409af920aeb82a77a68",
       "version_major": 2,
       "version_minor": 0
      },
      "text/plain": [
       "  0%|          | 0/1 [00:00<?, ?it/s]"
      ]
     },
     "metadata": {},
     "output_type": "display_data"
    },
    {
     "data": {
      "application/vnd.jupyter.widget-view+json": {
       "model_id": "1f15d04ceb2f4117a62c98b9577a9174",
       "version_major": 2,
       "version_minor": 0
      },
      "text/plain": [
       "  0%|          | 0/2 [00:00<?, ?it/s]"
      ]
     },
     "metadata": {},
     "output_type": "display_data"
    },
    {
     "data": {
      "application/vnd.jupyter.widget-view+json": {
       "model_id": "bde19e904e99485f90e3d8d1899e13c0",
       "version_major": 2,
       "version_minor": 0
      },
      "text/plain": [
       "  0%|          | 0/2 [00:00<?, ?it/s]"
      ]
     },
     "metadata": {},
     "output_type": "display_data"
    },
    {
     "data": {
      "application/vnd.jupyter.widget-view+json": {
       "model_id": "349eedb9f8384ea1b48d2ef03731b0fb",
       "version_major": 2,
       "version_minor": 0
      },
      "text/plain": [
       "  0%|          | 0/3 [00:00<?, ?it/s]"
      ]
     },
     "metadata": {},
     "output_type": "display_data"
    },
    {
     "data": {
      "application/vnd.jupyter.widget-view+json": {
       "model_id": "d416f966fc4b4a83bc0b03f589a8bc8d",
       "version_major": 2,
       "version_minor": 0
      },
      "text/plain": [
       "  0%|          | 0/3 [00:00<?, ?it/s]"
      ]
     },
     "metadata": {},
     "output_type": "display_data"
    },
    {
     "data": {
      "application/vnd.jupyter.widget-view+json": {
       "model_id": "d1484fdceb6d40349921f0c1c0a4d78e",
       "version_major": 2,
       "version_minor": 0
      },
      "text/plain": [
       "  0%|          | 0/2 [00:00<?, ?it/s]"
      ]
     },
     "metadata": {},
     "output_type": "display_data"
    },
    {
     "data": {
      "application/vnd.jupyter.widget-view+json": {
       "model_id": "9f07b88c05084c2d98b7ec43607e4064",
       "version_major": 2,
       "version_minor": 0
      },
      "text/plain": [
       "  0%|          | 0/3 [00:00<?, ?it/s]"
      ]
     },
     "metadata": {},
     "output_type": "display_data"
    },
    {
     "data": {
      "application/vnd.jupyter.widget-view+json": {
       "model_id": "5d5da7b996ad47be8c2ea525c7ad1d15",
       "version_major": 2,
       "version_minor": 0
      },
      "text/plain": [
       "  0%|          | 0/3 [00:00<?, ?it/s]"
      ]
     },
     "metadata": {},
     "output_type": "display_data"
    },
    {
     "data": {
      "application/vnd.jupyter.widget-view+json": {
       "model_id": "1c7c3b29fcd54210b3a1d4130997b236",
       "version_major": 2,
       "version_minor": 0
      },
      "text/plain": [
       "  0%|          | 0/1 [00:00<?, ?it/s]"
      ]
     },
     "metadata": {},
     "output_type": "display_data"
    },
    {
     "data": {
      "application/vnd.jupyter.widget-view+json": {
       "model_id": "bb6430e2b00d4e919b02e4a3f4f046db",
       "version_major": 2,
       "version_minor": 0
      },
      "text/plain": [
       "  0%|          | 0/2 [00:00<?, ?it/s]"
      ]
     },
     "metadata": {},
     "output_type": "display_data"
    },
    {
     "data": {
      "application/vnd.jupyter.widget-view+json": {
       "model_id": "9436f0a2a9024118b907ce9f9def8df4",
       "version_major": 2,
       "version_minor": 0
      },
      "text/plain": [
       "  0%|          | 0/2 [00:00<?, ?it/s]"
      ]
     },
     "metadata": {},
     "output_type": "display_data"
    },
    {
     "data": {
      "application/vnd.jupyter.widget-view+json": {
       "model_id": "297f9ccb098d4221aa407b3a6140b0fd",
       "version_major": 2,
       "version_minor": 0
      },
      "text/plain": [
       "  0%|          | 0/3 [00:00<?, ?it/s]"
      ]
     },
     "metadata": {},
     "output_type": "display_data"
    },
    {
     "data": {
      "application/vnd.jupyter.widget-view+json": {
       "model_id": "1d1ae13969954465b3712474f67dde62",
       "version_major": 2,
       "version_minor": 0
      },
      "text/plain": [
       "  0%|          | 0/3 [00:00<?, ?it/s]"
      ]
     },
     "metadata": {},
     "output_type": "display_data"
    },
    {
     "data": {
      "application/vnd.jupyter.widget-view+json": {
       "model_id": "6ffc69d84e6f4d3890f106eba4dd5a3e",
       "version_major": 2,
       "version_minor": 0
      },
      "text/plain": [
       "  0%|          | 0/2 [00:00<?, ?it/s]"
      ]
     },
     "metadata": {},
     "output_type": "display_data"
    },
    {
     "data": {
      "application/vnd.jupyter.widget-view+json": {
       "model_id": "89757e15bc3247a7883637bcfa9dac7a",
       "version_major": 2,
       "version_minor": 0
      },
      "text/plain": [
       "  0%|          | 0/3 [00:00<?, ?it/s]"
      ]
     },
     "metadata": {},
     "output_type": "display_data"
    },
    {
     "data": {
      "application/vnd.jupyter.widget-view+json": {
       "model_id": "77c8056aa0b34ead86e095c42ca49a19",
       "version_major": 2,
       "version_minor": 0
      },
      "text/plain": [
       "  0%|          | 0/3 [00:00<?, ?it/s]"
      ]
     },
     "metadata": {},
     "output_type": "display_data"
    },
    {
     "name": "stdout",
     "output_type": "stream",
     "text": [
      "given shift 3, window size 5 and n 6: history length = 20\n",
      "[INFO] Concatenating the embeddings to the dataframe...\n",
      "[INFO] - columns beginning with 'e' denote the full embddings.\n",
      "[INFO] - columns beginning with 'd' denote the dimension reduced embeddings.\n",
      "[INFO] Adding time feature columns into dataframe in `.df`.\n",
      "[INFO] Adding 'time_encoding' feature...\n",
      "[INFO] Adding 'time_diff' feature...\n",
      "[INFO] Adding 'timeline_index' feature...\n",
      "[INFO] Padding ids and storing in `.df_padded` and `.array_padded` attributes.\n"
     ]
    },
    {
     "data": {
      "application/vnd.jupyter.widget-view+json": {
       "model_id": "9047ef53215f49548ff5384c2ade43aa",
       "version_major": 2,
       "version_minor": 0
      },
      "text/plain": [
       "  0%|          | 0/9699 [00:00<?, ?it/s]"
      ]
     },
     "metadata": {},
     "output_type": "display_data"
    },
    {
     "name": "stdout",
     "output_type": "stream",
     "text": [
      "[INFO] The path was created for each item in the dataframe, by looking at its history, so to include embeddings in the FFN input, we concatenate the embeddings for each sentence / text.\n",
      "saving results dataframe to CSV for this hyperparameter search in client_talk_type_output/seqsignet_attention_encoder_umap_focal_2_3_5_6_kfold.csv\n",
      "saving the best model results dataframe to CSV for this hyperparameter search in client_talk_type_output/seqsignet_attention_encoder_umap_focal_2_3_5_6_kfold_best_model.csv\n"
     ]
    }
   ],
   "source": [
    "(\n",
    "    seqsignet_attention_encoder_umap_kfold_20,\n",
    "    best_seqsignet_attention_encoder_umap_kfold_20,\n",
    "    _,\n",
    "    __,\n",
    ") = seqsignet_attention_encoder_hyperparameter_search(\n",
    "    shift=shift,\n",
    "    window_size=window_size,\n",
    "    n=n,\n",
    "    dim_reduce_methods=[\"umap\"],\n",
    "    results_output=f\"{output_dir}/seqsignet_attention_encoder_umap_focal_{gamma}_{shift}_{window_size}_{n}_kfold.csv\",\n",
    "    **kwargs,\n",
    ")"
   ]
  },
  {
   "cell_type": "code",
   "execution_count": 22,
   "id": "df26388e",
   "metadata": {},
   "outputs": [
    {
     "data": {
      "text/html": [
       "<div>\n",
       "<style scoped>\n",
       "    .dataframe tbody tr th:only-of-type {\n",
       "        vertical-align: middle;\n",
       "    }\n",
       "\n",
       "    .dataframe tbody tr th {\n",
       "        vertical-align: top;\n",
       "    }\n",
       "\n",
       "    .dataframe thead th {\n",
       "        text-align: right;\n",
       "    }\n",
       "</style>\n",
       "<table border=\"1\" class=\"dataframe\">\n",
       "  <thead>\n",
       "    <tr style=\"text-align: right;\">\n",
       "      <th></th>\n",
       "      <th>loss</th>\n",
       "      <th>accuracy</th>\n",
       "      <th>f1</th>\n",
       "      <th>f1_scores</th>\n",
       "      <th>precision</th>\n",
       "      <th>precision_scores</th>\n",
       "      <th>recall</th>\n",
       "      <th>recall_scores</th>\n",
       "      <th>valid_loss</th>\n",
       "      <th>valid_accuracy</th>\n",
       "      <th>...</th>\n",
       "      <th>seed</th>\n",
       "      <th>loss_function</th>\n",
       "      <th>gamma</th>\n",
       "      <th>k_fold</th>\n",
       "      <th>n_splits</th>\n",
       "      <th>augmentation_type</th>\n",
       "      <th>hidden_dim_aug</th>\n",
       "      <th>comb_method</th>\n",
       "      <th>batch_size</th>\n",
       "      <th>model_id</th>\n",
       "    </tr>\n",
       "  </thead>\n",
       "  <tbody>\n",
       "    <tr>\n",
       "      <th>0</th>\n",
       "      <td>None</td>\n",
       "      <td>0.643103</td>\n",
       "      <td>0.520138</td>\n",
       "      <td>[0.7707562527749, 0.44472681067344344, 0.34493...</td>\n",
       "      <td>0.513862</td>\n",
       "      <td>[0.7893301000303122, 0.45691906005221933, 0.29...</td>\n",
       "      <td>0.533583</td>\n",
       "      <td>[0.7530364372469636, 0.43316831683168316, 0.41...</td>\n",
       "      <td>None</td>\n",
       "      <td>0.667630</td>\n",
       "      <td>...</td>\n",
       "      <td>1</td>\n",
       "      <td>focal</td>\n",
       "      <td>2</td>\n",
       "      <td>True</td>\n",
       "      <td>5</td>\n",
       "      <td>Conv1d</td>\n",
       "      <td>None</td>\n",
       "      <td>concatenation</td>\n",
       "      <td>64</td>\n",
       "      <td>0</td>\n",
       "    </tr>\n",
       "    <tr>\n",
       "      <th>0</th>\n",
       "      <td>None</td>\n",
       "      <td>0.642529</td>\n",
       "      <td>0.524507</td>\n",
       "      <td>[0.7667409057164067, 0.4487072560467056, 0.358...</td>\n",
       "      <td>0.516885</td>\n",
       "      <td>[0.7879157766249618, 0.4536256323777403, 0.309...</td>\n",
       "      <td>0.538674</td>\n",
       "      <td>[0.7466743782533256, 0.4438943894389439, 0.425...</td>\n",
       "      <td>None</td>\n",
       "      <td>0.670681</td>\n",
       "      <td>...</td>\n",
       "      <td>12</td>\n",
       "      <td>focal</td>\n",
       "      <td>2</td>\n",
       "      <td>True</td>\n",
       "      <td>5</td>\n",
       "      <td>Conv1d</td>\n",
       "      <td>None</td>\n",
       "      <td>concatenation</td>\n",
       "      <td>64</td>\n",
       "      <td>0</td>\n",
       "    </tr>\n",
       "    <tr>\n",
       "      <th>0</th>\n",
       "      <td>None</td>\n",
       "      <td>0.652874</td>\n",
       "      <td>0.526581</td>\n",
       "      <td>[0.7806940799066783, 0.4381560931081698, 0.360...</td>\n",
       "      <td>0.525368</td>\n",
       "      <td>[0.7873529411764706, 0.4902962206332993, 0.298...</td>\n",
       "      <td>0.542183</td>\n",
       "      <td>[0.7741469057258531, 0.39603960396039606, 0.45...</td>\n",
       "      <td>None</td>\n",
       "      <td>0.676622</td>\n",
       "      <td>...</td>\n",
       "      <td>123</td>\n",
       "      <td>focal</td>\n",
       "      <td>2</td>\n",
       "      <td>True</td>\n",
       "      <td>5</td>\n",
       "      <td>Conv1d</td>\n",
       "      <td>None</td>\n",
       "      <td>concatenation</td>\n",
       "      <td>64</td>\n",
       "      <td>0</td>\n",
       "    </tr>\n",
       "    <tr>\n",
       "      <th>0</th>\n",
       "      <td>None</td>\n",
       "      <td>0.615900</td>\n",
       "      <td>0.472097</td>\n",
       "      <td>[0.7499252168710738, 0.43003663003663, 0.23632...</td>\n",
       "      <td>0.472870</td>\n",
       "      <td>[0.7766418835192069, 0.38669301712779974, 0.25...</td>\n",
       "      <td>0.476436</td>\n",
       "      <td>[0.7249855407750144, 0.48432343234323433, 0.22]</td>\n",
       "      <td>None</td>\n",
       "      <td>0.637765</td>\n",
       "      <td>...</td>\n",
       "      <td>1</td>\n",
       "      <td>focal</td>\n",
       "      <td>2</td>\n",
       "      <td>True</td>\n",
       "      <td>5</td>\n",
       "      <td>Conv1d</td>\n",
       "      <td>None</td>\n",
       "      <td>concatenation</td>\n",
       "      <td>64</td>\n",
       "      <td>1</td>\n",
       "    </tr>\n",
       "    <tr>\n",
       "      <th>0</th>\n",
       "      <td>None</td>\n",
       "      <td>0.620690</td>\n",
       "      <td>0.436597</td>\n",
       "      <td>[0.7639674437853498, 0.32870577698163905, 0.21...</td>\n",
       "      <td>0.448256</td>\n",
       "      <td>[0.7304141387496703, 0.3594515181194907, 0.254...</td>\n",
       "      <td>0.430883</td>\n",
       "      <td>[0.8007518796992481, 0.3028052805280528, 0.189...</td>\n",
       "      <td>None</td>\n",
       "      <td>0.641779</td>\n",
       "      <td>...</td>\n",
       "      <td>12</td>\n",
       "      <td>focal</td>\n",
       "      <td>2</td>\n",
       "      <td>True</td>\n",
       "      <td>5</td>\n",
       "      <td>Conv1d</td>\n",
       "      <td>None</td>\n",
       "      <td>concatenation</td>\n",
       "      <td>64</td>\n",
       "      <td>1</td>\n",
       "    </tr>\n",
       "    <tr>\n",
       "      <th>...</th>\n",
       "      <td>...</td>\n",
       "      <td>...</td>\n",
       "      <td>...</td>\n",
       "      <td>...</td>\n",
       "      <td>...</td>\n",
       "      <td>...</td>\n",
       "      <td>...</td>\n",
       "      <td>...</td>\n",
       "      <td>...</td>\n",
       "      <td>...</td>\n",
       "      <td>...</td>\n",
       "      <td>...</td>\n",
       "      <td>...</td>\n",
       "      <td>...</td>\n",
       "      <td>...</td>\n",
       "      <td>...</td>\n",
       "      <td>...</td>\n",
       "      <td>...</td>\n",
       "      <td>...</td>\n",
       "      <td>...</td>\n",
       "      <td>...</td>\n",
       "    </tr>\n",
       "    <tr>\n",
       "      <th>0</th>\n",
       "      <td>None</td>\n",
       "      <td>0.657854</td>\n",
       "      <td>0.404757</td>\n",
       "      <td>[0.7887751232461131, 0.28879310344827586, 0.13...</td>\n",
       "      <td>0.496928</td>\n",
       "      <td>[0.7006512463507748, 0.4161490683229814, 0.373...</td>\n",
       "      <td>0.402338</td>\n",
       "      <td>[0.9022556390977443, 0.22112211221122113, 0.08...</td>\n",
       "      <td>None</td>\n",
       "      <td>0.653340</td>\n",
       "      <td>...</td>\n",
       "      <td>12</td>\n",
       "      <td>focal</td>\n",
       "      <td>2</td>\n",
       "      <td>True</td>\n",
       "      <td>5</td>\n",
       "      <td>Conv1d</td>\n",
       "      <td>None</td>\n",
       "      <td>concatenation</td>\n",
       "      <td>64</td>\n",
       "      <td>22</td>\n",
       "    </tr>\n",
       "    <tr>\n",
       "      <th>0</th>\n",
       "      <td>None</td>\n",
       "      <td>0.664176</td>\n",
       "      <td>0.313107</td>\n",
       "      <td>[0.7953658824920203, 0.1439552760307477, 0.0]</td>\n",
       "      <td>0.380995</td>\n",
       "      <td>[0.6726654669066187, 0.4703196347031963, 0.0]</td>\n",
       "      <td>0.352600</td>\n",
       "      <td>[0.9728166570271833, 0.08498349834983498, 0.0]</td>\n",
       "      <td>None</td>\n",
       "      <td>0.643224</td>\n",
       "      <td>...</td>\n",
       "      <td>123</td>\n",
       "      <td>focal</td>\n",
       "      <td>2</td>\n",
       "      <td>True</td>\n",
       "      <td>5</td>\n",
       "      <td>Conv1d</td>\n",
       "      <td>None</td>\n",
       "      <td>concatenation</td>\n",
       "      <td>64</td>\n",
       "      <td>22</td>\n",
       "    </tr>\n",
       "    <tr>\n",
       "      <th>0</th>\n",
       "      <td>None</td>\n",
       "      <td>0.651533</td>\n",
       "      <td>0.509709</td>\n",
       "      <td>[0.7789896670493685, 0.42976588628762546, 0.32...</td>\n",
       "      <td>0.511743</td>\n",
       "      <td>[0.7732193732193732, 0.43559322033898307, 0.32...</td>\n",
       "      <td>0.507828</td>\n",
       "      <td>[0.7848467322151532, 0.4240924092409241, 0.314...</td>\n",
       "      <td>None</td>\n",
       "      <td>0.662653</td>\n",
       "      <td>...</td>\n",
       "      <td>1</td>\n",
       "      <td>focal</td>\n",
       "      <td>2</td>\n",
       "      <td>True</td>\n",
       "      <td>5</td>\n",
       "      <td>Conv1d</td>\n",
       "      <td>None</td>\n",
       "      <td>concatenation</td>\n",
       "      <td>64</td>\n",
       "      <td>23</td>\n",
       "    </tr>\n",
       "    <tr>\n",
       "      <th>0</th>\n",
       "      <td>None</td>\n",
       "      <td>0.646552</td>\n",
       "      <td>0.482977</td>\n",
       "      <td>[0.7812630698452531, 0.38458008260670035, 0.28...</td>\n",
       "      <td>0.491261</td>\n",
       "      <td>[0.7542395693135936, 0.4332988624612203, 0.286...</td>\n",
       "      <td>0.478668</td>\n",
       "      <td>[0.810294968189705, 0.3457095709570957, 0.28]</td>\n",
       "      <td>None</td>\n",
       "      <td>0.668112</td>\n",
       "      <td>...</td>\n",
       "      <td>12</td>\n",
       "      <td>focal</td>\n",
       "      <td>2</td>\n",
       "      <td>True</td>\n",
       "      <td>5</td>\n",
       "      <td>Conv1d</td>\n",
       "      <td>None</td>\n",
       "      <td>concatenation</td>\n",
       "      <td>64</td>\n",
       "      <td>23</td>\n",
       "    </tr>\n",
       "    <tr>\n",
       "      <th>0</th>\n",
       "      <td>None</td>\n",
       "      <td>0.662644</td>\n",
       "      <td>0.507120</td>\n",
       "      <td>[0.7913769123783032, 0.40619136960600377, 0.32...</td>\n",
       "      <td>0.517213</td>\n",
       "      <td>[0.7623258306538049, 0.4706521739130435, 0.318...</td>\n",
       "      <td>0.503027</td>\n",
       "      <td>[0.8227299016772701, 0.3572607260726073, 0.329...</td>\n",
       "      <td>None</td>\n",
       "      <td>0.671002</td>\n",
       "      <td>...</td>\n",
       "      <td>123</td>\n",
       "      <td>focal</td>\n",
       "      <td>2</td>\n",
       "      <td>True</td>\n",
       "      <td>5</td>\n",
       "      <td>Conv1d</td>\n",
       "      <td>None</td>\n",
       "      <td>concatenation</td>\n",
       "      <td>64</td>\n",
       "      <td>23</td>\n",
       "    </tr>\n",
       "  </tbody>\n",
       "</table>\n",
       "<p>72 rows × 49 columns</p>\n",
       "</div>"
      ],
      "text/plain": [
       "    loss  accuracy        f1  \\\n",
       "0   None  0.643103  0.520138   \n",
       "0   None  0.642529  0.524507   \n",
       "0   None  0.652874  0.526581   \n",
       "0   None  0.615900  0.472097   \n",
       "0   None  0.620690  0.436597   \n",
       "..   ...       ...       ...   \n",
       "0   None  0.657854  0.404757   \n",
       "0   None  0.664176  0.313107   \n",
       "0   None  0.651533  0.509709   \n",
       "0   None  0.646552  0.482977   \n",
       "0   None  0.662644  0.507120   \n",
       "\n",
       "                                            f1_scores  precision  \\\n",
       "0   [0.7707562527749, 0.44472681067344344, 0.34493...   0.513862   \n",
       "0   [0.7667409057164067, 0.4487072560467056, 0.358...   0.516885   \n",
       "0   [0.7806940799066783, 0.4381560931081698, 0.360...   0.525368   \n",
       "0   [0.7499252168710738, 0.43003663003663, 0.23632...   0.472870   \n",
       "0   [0.7639674437853498, 0.32870577698163905, 0.21...   0.448256   \n",
       "..                                                ...        ...   \n",
       "0   [0.7887751232461131, 0.28879310344827586, 0.13...   0.496928   \n",
       "0       [0.7953658824920203, 0.1439552760307477, 0.0]   0.380995   \n",
       "0   [0.7789896670493685, 0.42976588628762546, 0.32...   0.511743   \n",
       "0   [0.7812630698452531, 0.38458008260670035, 0.28...   0.491261   \n",
       "0   [0.7913769123783032, 0.40619136960600377, 0.32...   0.517213   \n",
       "\n",
       "                                     precision_scores    recall  \\\n",
       "0   [0.7893301000303122, 0.45691906005221933, 0.29...  0.533583   \n",
       "0   [0.7879157766249618, 0.4536256323777403, 0.309...  0.538674   \n",
       "0   [0.7873529411764706, 0.4902962206332993, 0.298...  0.542183   \n",
       "0   [0.7766418835192069, 0.38669301712779974, 0.25...  0.476436   \n",
       "0   [0.7304141387496703, 0.3594515181194907, 0.254...  0.430883   \n",
       "..                                                ...       ...   \n",
       "0   [0.7006512463507748, 0.4161490683229814, 0.373...  0.402338   \n",
       "0       [0.6726654669066187, 0.4703196347031963, 0.0]  0.352600   \n",
       "0   [0.7732193732193732, 0.43559322033898307, 0.32...  0.507828   \n",
       "0   [0.7542395693135936, 0.4332988624612203, 0.286...  0.478668   \n",
       "0   [0.7623258306538049, 0.4706521739130435, 0.318...  0.503027   \n",
       "\n",
       "                                        recall_scores valid_loss  \\\n",
       "0   [0.7530364372469636, 0.43316831683168316, 0.41...       None   \n",
       "0   [0.7466743782533256, 0.4438943894389439, 0.425...       None   \n",
       "0   [0.7741469057258531, 0.39603960396039606, 0.45...       None   \n",
       "0     [0.7249855407750144, 0.48432343234323433, 0.22]       None   \n",
       "0   [0.8007518796992481, 0.3028052805280528, 0.189...       None   \n",
       "..                                                ...        ...   \n",
       "0   [0.9022556390977443, 0.22112211221122113, 0.08...       None   \n",
       "0      [0.9728166570271833, 0.08498349834983498, 0.0]       None   \n",
       "0   [0.7848467322151532, 0.4240924092409241, 0.314...       None   \n",
       "0       [0.810294968189705, 0.3457095709570957, 0.28]       None   \n",
       "0   [0.8227299016772701, 0.3572607260726073, 0.329...       None   \n",
       "\n",
       "    valid_accuracy  ...  seed loss_function  gamma k_fold  n_splits  \\\n",
       "0         0.667630  ...     1         focal      2   True         5   \n",
       "0         0.670681  ...    12         focal      2   True         5   \n",
       "0         0.676622  ...   123         focal      2   True         5   \n",
       "0         0.637765  ...     1         focal      2   True         5   \n",
       "0         0.641779  ...    12         focal      2   True         5   \n",
       "..             ...  ...   ...           ...    ...    ...       ...   \n",
       "0         0.653340  ...    12         focal      2   True         5   \n",
       "0         0.643224  ...   123         focal      2   True         5   \n",
       "0         0.662653  ...     1         focal      2   True         5   \n",
       "0         0.668112  ...    12         focal      2   True         5   \n",
       "0         0.671002  ...   123         focal      2   True         5   \n",
       "\n",
       "   augmentation_type  hidden_dim_aug    comb_method  batch_size  model_id  \n",
       "0             Conv1d            None  concatenation          64         0  \n",
       "0             Conv1d            None  concatenation          64         0  \n",
       "0             Conv1d            None  concatenation          64         0  \n",
       "0             Conv1d            None  concatenation          64         1  \n",
       "0             Conv1d            None  concatenation          64         1  \n",
       "..               ...             ...            ...         ...       ...  \n",
       "0             Conv1d            None  concatenation          64        22  \n",
       "0             Conv1d            None  concatenation          64        22  \n",
       "0             Conv1d            None  concatenation          64        23  \n",
       "0             Conv1d            None  concatenation          64        23  \n",
       "0             Conv1d            None  concatenation          64        23  \n",
       "\n",
       "[72 rows x 49 columns]"
      ]
     },
     "execution_count": 22,
     "metadata": {},
     "output_type": "execute_result"
    }
   ],
   "source": [
    "seqsignet_attention_encoder_umap_kfold_20"
   ]
  },
  {
   "cell_type": "code",
   "execution_count": 23,
   "id": "afeead7d",
   "metadata": {},
   "outputs": [
    {
     "data": {
      "text/plain": [
       "0.525800702456729"
      ]
     },
     "execution_count": 23,
     "metadata": {},
     "output_type": "execute_result"
    }
   ],
   "source": [
    "best_seqsignet_attention_encoder_umap_kfold_20[\"f1\"].mean()"
   ]
  },
  {
   "cell_type": "code",
   "execution_count": 24,
   "id": "a51f3dd2",
   "metadata": {},
   "outputs": [
    {
     "data": {
      "text/plain": [
       "0.5223519601756575"
      ]
     },
     "execution_count": 24,
     "metadata": {},
     "output_type": "execute_result"
    }
   ],
   "source": [
    "best_seqsignet_attention_encoder_umap_kfold_20[\"precision\"].mean()"
   ]
  },
  {
   "cell_type": "code",
   "execution_count": 25,
   "id": "ef127f1e",
   "metadata": {},
   "outputs": [
    {
     "data": {
      "text/plain": [
       "0.5344082661591781"
      ]
     },
     "execution_count": 25,
     "metadata": {},
     "output_type": "execute_result"
    }
   ],
   "source": [
    "best_seqsignet_attention_encoder_umap_kfold_20[\"recall\"].mean()"
   ]
  },
  {
   "cell_type": "code",
   "execution_count": 26,
   "id": "1584e0f2",
   "metadata": {},
   "outputs": [
    {
     "data": {
      "text/plain": [
       "array([0.77664131, 0.44586663, 0.35489417])"
      ]
     },
     "execution_count": 26,
     "metadata": {},
     "output_type": "execute_result"
    }
   ],
   "source": [
    "np.stack(best_seqsignet_attention_encoder_umap_kfold_20[\"f1_scores\"]).mean(axis=0)"
   ]
  },
  {
   "cell_type": "code",
   "execution_count": 27,
   "id": "7b4943be",
   "metadata": {},
   "outputs": [
    {
     "data": {
      "text/plain": [
       "array([0.78199726, 0.47006374, 0.31499488])"
      ]
     },
     "execution_count": 27,
     "metadata": {},
     "output_type": "execute_result"
    }
   ],
   "source": [
    "np.stack(best_seqsignet_attention_encoder_umap_kfold_20[\"precision_scores\"]).mean(\n",
    "    axis=0\n",
    ")"
   ]
  },
  {
   "cell_type": "code",
   "execution_count": 28,
   "id": "15c89795",
   "metadata": {},
   "outputs": [
    {
     "data": {
      "text/plain": [
       "array([0.77164064, 0.42491749, 0.40666667])"
      ]
     },
     "execution_count": 28,
     "metadata": {},
     "output_type": "execute_result"
    }
   ],
   "source": [
    "np.stack(best_seqsignet_attention_encoder_umap_kfold_20[\"recall_scores\"]).mean(axis=0)"
   ]
  },
  {
   "cell_type": "markdown",
   "id": "179dbb85-f360-4c16-a852-fb32cc0e01d6",
   "metadata": {
    "tags": []
   },
   "source": [
    "# history_length=35"
   ]
  },
  {
   "cell_type": "code",
   "execution_count": 29,
   "id": "af118561-2837-4bbb-b2df-59535f5e77be",
   "metadata": {},
   "outputs": [],
   "source": [
    "shift = 3\n",
    "window_size = 5\n",
    "n = 11"
   ]
  },
  {
   "cell_type": "code",
   "execution_count": null,
   "id": "9f88d24b-150e-44d2-8de8-63a823df9963",
   "metadata": {},
   "outputs": [
    {
     "data": {
      "application/vnd.jupyter.widget-view+json": {
       "model_id": "66ec6c4fab844972a6f4473c66136be3",
       "version_major": 2,
       "version_minor": 0
      },
      "text/plain": [
       "  0%|          | 0/1 [00:00<?, ?it/s]"
      ]
     },
     "metadata": {},
     "output_type": "display_data"
    },
    {
     "data": {
      "application/vnd.jupyter.widget-view+json": {
       "model_id": "5bc6c5bcc9944235ba03999e8c7762e2",
       "version_major": 2,
       "version_minor": 0
      },
      "text/plain": [
       "  0%|          | 0/1 [00:00<?, ?it/s]"
      ]
     },
     "metadata": {},
     "output_type": "display_data"
    },
    {
     "name": "stdout",
     "output_type": "stream",
     "text": [
      "\n",
      "##################################################\n",
      "dimension: 15 | method: umap\n",
      "given shift 3, window size 5 and n 11: history length = 35\n",
      "[INFO] Concatenating the embeddings to the dataframe...\n",
      "[INFO] - columns beginning with 'e' denote the full embddings.\n",
      "[INFO] - columns beginning with 'd' denote the dimension reduced embeddings.\n",
      "[INFO] Adding time feature columns into dataframe in `.df`.\n",
      "[INFO] Adding 'time_encoding' feature...\n",
      "[INFO] Adding 'time_diff' feature...\n",
      "[INFO] Adding 'timeline_index' feature...\n",
      "[INFO] Padding ids and storing in `.df_padded` and `.array_padded` attributes.\n"
     ]
    },
    {
     "data": {
      "application/vnd.jupyter.widget-view+json": {
       "model_id": "9b9e6cc17fdd4e2e81f2337d5cd3ad88",
       "version_major": 2,
       "version_minor": 0
      },
      "text/plain": [
       "  0%|          | 0/9699 [00:00<?, ?it/s]"
      ]
     },
     "metadata": {},
     "output_type": "display_data"
    },
    {
     "name": "stdout",
     "output_type": "stream",
     "text": [
      "[INFO] The path was created for each item in the dataframe, by looking at its history, so to include embeddings in the FFN input, we concatenate the embeddings for each sentence / text.\n"
     ]
    },
    {
     "data": {
      "application/vnd.jupyter.widget-view+json": {
       "model_id": "1bd591e904b14d65b6446df3310fbe60",
       "version_major": 2,
       "version_minor": 0
      },
      "text/plain": [
       "  0%|          | 0/2 [00:00<?, ?it/s]"
      ]
     },
     "metadata": {},
     "output_type": "display_data"
    },
    {
     "data": {
      "application/vnd.jupyter.widget-view+json": {
       "model_id": "7202092f6187469ab370acd4c437a394",
       "version_major": 2,
       "version_minor": 0
      },
      "text/plain": [
       "  0%|          | 0/1 [00:00<?, ?it/s]"
      ]
     },
     "metadata": {},
     "output_type": "display_data"
    },
    {
     "data": {
      "application/vnd.jupyter.widget-view+json": {
       "model_id": "19e12b22cf554c91983d2d2006a57ee2",
       "version_major": 2,
       "version_minor": 0
      },
      "text/plain": [
       "  0%|          | 0/2 [00:00<?, ?it/s]"
      ]
     },
     "metadata": {},
     "output_type": "display_data"
    },
    {
     "data": {
      "application/vnd.jupyter.widget-view+json": {
       "model_id": "fc6f1772c65a4556b0fdb0113626d866",
       "version_major": 2,
       "version_minor": 0
      },
      "text/plain": [
       "  0%|          | 0/2 [00:00<?, ?it/s]"
      ]
     },
     "metadata": {},
     "output_type": "display_data"
    },
    {
     "data": {
      "application/vnd.jupyter.widget-view+json": {
       "model_id": "98845a075803448b9384459d5d8c1c0a",
       "version_major": 2,
       "version_minor": 0
      },
      "text/plain": [
       "  0%|          | 0/3 [00:00<?, ?it/s]"
      ]
     },
     "metadata": {},
     "output_type": "display_data"
    },
    {
     "data": {
      "application/vnd.jupyter.widget-view+json": {
       "model_id": "fc3f6564072f44adabb5d41300f2b0bc",
       "version_major": 2,
       "version_minor": 0
      },
      "text/plain": [
       "  0%|          | 0/2 [00:00<?, ?it/s]"
      ]
     },
     "metadata": {},
     "output_type": "display_data"
    },
    {
     "data": {
      "application/vnd.jupyter.widget-view+json": {
       "model_id": "b521d3f9724148bdad056d4e18c3f83a",
       "version_major": 2,
       "version_minor": 0
      },
      "text/plain": [
       "  0%|          | 0/3 [00:00<?, ?it/s]"
      ]
     },
     "metadata": {},
     "output_type": "display_data"
    },
    {
     "data": {
      "application/vnd.jupyter.widget-view+json": {
       "model_id": "22289d33baae4f82841f8e3d06f44dfe",
       "version_major": 2,
       "version_minor": 0
      },
      "text/plain": [
       "  0%|          | 0/3 [00:00<?, ?it/s]"
      ]
     },
     "metadata": {},
     "output_type": "display_data"
    }
   ],
   "source": [
    "(\n",
    "    seqsignet_attention_encoder_umap_kfold_35,\n",
    "    best_seqsignet_attention_encoder_umap_kfold_35,\n",
    "    _,\n",
    "    __,\n",
    ") = seqsignet_attention_encoder_hyperparameter_search(\n",
    "    shift=shift,\n",
    "    window_size=window_size,\n",
    "    n=n,\n",
    "    dim_reduce_methods=[\"umap\"],\n",
    "    results_output=f\"{output_dir}/seqsignet_attention_encoder_umap_focal_{gamma}_{shift}_{window_size}_{n}_kfold.csv\",\n",
    "    **kwargs,\n",
    ")"
   ]
  },
  {
   "cell_type": "code",
   "execution_count": null,
   "id": "ba6da5ed-70bd-44e7-a693-9ed76551bc36",
   "metadata": {},
   "outputs": [],
   "source": [
    "seqsignet_attention_encoder_umap_kfold_35"
   ]
  },
  {
   "cell_type": "code",
   "execution_count": null,
   "id": "9412b03d-b3b0-42c8-863e-f3093c1836c6",
   "metadata": {},
   "outputs": [],
   "source": [
    "best_seqsignet_attention_encoder_umap_kfold_35[\"f1\"].mean()"
   ]
  },
  {
   "cell_type": "code",
   "execution_count": null,
   "id": "bdd71a23-3015-4f44-bec5-f889b061d685",
   "metadata": {},
   "outputs": [],
   "source": [
    "best_seqsignet_attention_encoder_umap_kfold_35[\"precision\"].mean()"
   ]
  },
  {
   "cell_type": "code",
   "execution_count": null,
   "id": "2912d6da-5816-4665-89dc-fca245c067f3",
   "metadata": {},
   "outputs": [],
   "source": [
    "best_seqsignet_attention_encoder_umap_kfold_35[\"recall\"].mean()"
   ]
  },
  {
   "cell_type": "code",
   "execution_count": null,
   "id": "3a6b34c4-92bb-497f-88d4-79a27b108c84",
   "metadata": {},
   "outputs": [],
   "source": [
    "np.stack(best_seqsignet_attention_encoder_umap_kfold_35[\"f1_scores\"]).mean(axis=0)"
   ]
  },
  {
   "cell_type": "code",
   "execution_count": null,
   "id": "dfff40bf-1848-4450-8cf5-8f64abc09c40",
   "metadata": {},
   "outputs": [],
   "source": [
    "np.stack(best_seqsignet_attention_encoder_umap_kfold_35[\"precision_scores\"]).mean(\n",
    "    axis=0\n",
    ")"
   ]
  },
  {
   "cell_type": "code",
   "execution_count": null,
   "id": "a8d4e5a1-8463-4fd9-8a7f-8defe837d4e0",
   "metadata": {},
   "outputs": [],
   "source": [
    "np.stack(best_seqsignet_attention_encoder_umap_kfold_35[\"recall_scores\"]).mean(axis=0)"
   ]
  },
  {
   "cell_type": "markdown",
   "id": "31b11d48-8d6f-4170-9c45-30723d301693",
   "metadata": {},
   "source": [
    "# history_length=80"
   ]
  },
  {
   "cell_type": "code",
   "execution_count": null,
   "id": "6a392114-8a3e-4543-98a4-a0b9fb7b7855",
   "metadata": {},
   "outputs": [],
   "source": [
    "shift = 3\n",
    "window_size = 5\n",
    "n = 26"
   ]
  },
  {
   "cell_type": "code",
   "execution_count": null,
   "id": "d2585d4e-a39c-4ba4-b71b-cb2f1e71fae0",
   "metadata": {},
   "outputs": [],
   "source": [
    "(\n",
    "    seqsignet_attention_encoder_umap_kfold_80,\n",
    "    best_seqsignet_attention_encoder_umap_kfold_80,\n",
    "    _,\n",
    "    __,\n",
    ") = seqsignet_attention_encoder_hyperparameter_search(\n",
    "    shift=shift,\n",
    "    window_size=window_size,\n",
    "    n=n,\n",
    "    dim_reduce_methods=[\"umap\"],\n",
    "    results_output=f\"{output_dir}/seqsignet_attention_encoder_umap_focal_{gamma}_{shift}_{window_size}_{n}_kfold.csv\",\n",
    "    **kwargs,\n",
    ")"
   ]
  },
  {
   "cell_type": "code",
   "execution_count": null,
   "id": "8be475f7-dad8-4abe-a171-474f25f7adb9",
   "metadata": {},
   "outputs": [],
   "source": [
    "seqsignet_attention_encoder_umap_kfold_80"
   ]
  },
  {
   "cell_type": "code",
   "execution_count": null,
   "id": "a8a9ed70-9a88-42e4-91c9-853726c4efd9",
   "metadata": {},
   "outputs": [],
   "source": [
    "best_seqsignet_attention_encoder_umap_kfold_80[\"f1\"].mean()"
   ]
  },
  {
   "cell_type": "code",
   "execution_count": null,
   "id": "0b7f5215-02dd-43d5-9e78-bda734e41f0f",
   "metadata": {},
   "outputs": [],
   "source": [
    "best_seqsignet_attention_encoder_umap_kfold_80[\"precision\"].mean()"
   ]
  },
  {
   "cell_type": "code",
   "execution_count": null,
   "id": "82d94892-b52c-48c6-adec-7dab7caa719e",
   "metadata": {},
   "outputs": [],
   "source": [
    "best_seqsignet_attention_encoder_umap_kfold_80[\"recall\"].mean()"
   ]
  },
  {
   "cell_type": "code",
   "execution_count": null,
   "id": "c349d5ee-1c4e-4c06-b4b5-7a69946cc1b2",
   "metadata": {},
   "outputs": [],
   "source": [
    "np.stack(best_seqsignet_attention_encoder_umap_kfold_80[\"f1_scores\"]).mean(axis=0)"
   ]
  },
  {
   "cell_type": "code",
   "execution_count": null,
   "id": "4a100c37-0475-4df1-ba04-b345c71e0e28",
   "metadata": {},
   "outputs": [],
   "source": [
    "np.stack(best_seqsignet_attention_encoder_umap_kfold_80[\"precision_scores\"]).mean(\n",
    "    axis=0\n",
    ")"
   ]
  },
  {
   "cell_type": "code",
   "execution_count": null,
   "id": "ddf6374f-6d5b-4cb8-8300-cf3f8b579815",
   "metadata": {},
   "outputs": [],
   "source": [
    "np.stack(best_seqsignet_attention_encoder_umap_kfold_80[\"recall_scores\"]).mean(axis=0)"
   ]
  },
  {
   "cell_type": "markdown",
   "id": "04e84860-a48b-4090-b415-38d874d2b344",
   "metadata": {},
   "source": [
    "# history_length=110"
   ]
  },
  {
   "cell_type": "code",
   "execution_count": null,
   "id": "c7d526aa-f264-45ec-b4e9-428d67fc845f",
   "metadata": {},
   "outputs": [],
   "source": [
    "shift = 3\n",
    "window_size = 5\n",
    "n = 36"
   ]
  },
  {
   "cell_type": "code",
   "execution_count": null,
   "id": "26967648-c4d0-4f2c-bfba-9c966a40b809",
   "metadata": {},
   "outputs": [],
   "source": [
    "(\n",
    "    seqsignet_attention_encoder_umap_kfold_110,\n",
    "    best_seqsignet_attention_encoder_umap_kfold_110,\n",
    "    _,\n",
    "    __,\n",
    ") = seqsignet_attention_encoder_hyperparameter_search(\n",
    "    shift=shift,\n",
    "    window_size=window_size,\n",
    "    n=n,\n",
    "    dim_reduce_methods=[\"umap\"],\n",
    "    results_output=f\"{output_dir}/seqsignet_attention_encoder_umap_focal_{gamma}_{shift}_{window_size}_{n}_kfold.csv\",\n",
    "    **kwargs,\n",
    ")"
   ]
  },
  {
   "cell_type": "code",
   "execution_count": null,
   "id": "54afda08-ad7f-4ab1-b108-e717a5d639cc",
   "metadata": {},
   "outputs": [],
   "source": [
    "seqsignet_attention_encoder_umap_kfold_110"
   ]
  },
  {
   "cell_type": "code",
   "execution_count": null,
   "id": "a840b608-2b98-4a5c-ae02-8d14c4b9684f",
   "metadata": {},
   "outputs": [],
   "source": [
    "best_seqsignet_attention_encoder_umap_kfold_110[\"f1\"].mean()"
   ]
  },
  {
   "cell_type": "code",
   "execution_count": null,
   "id": "3ca90171-5cac-47f1-9699-9510d9c927ce",
   "metadata": {},
   "outputs": [],
   "source": [
    "best_seqsignet_attention_encoder_umap_kfold_110[\"precision\"].mean()"
   ]
  },
  {
   "cell_type": "code",
   "execution_count": null,
   "id": "562c9aac-0404-4f9e-8a95-cf3d3df09776",
   "metadata": {},
   "outputs": [],
   "source": [
    "best_seqsignet_attention_encoder_umap_kfold_110[\"recall\"].mean()"
   ]
  },
  {
   "cell_type": "code",
   "execution_count": null,
   "id": "7b7a45f2-3ea9-488c-b14b-9f4c2cc4bcd4",
   "metadata": {},
   "outputs": [],
   "source": [
    "np.stack(best_seqsignet_attention_encoder_umap_kfold_110[\"f1_scores\"]).mean(axis=0)"
   ]
  },
  {
   "cell_type": "code",
   "execution_count": null,
   "id": "2ea44017-119a-4e69-a986-c4b48b129160",
   "metadata": {},
   "outputs": [],
   "source": [
    "np.stack(best_seqsignet_attention_encoder_umap_kfold_110[\"precision_scores\"]).mean(\n",
    "    axis=0\n",
    ")"
   ]
  },
  {
   "cell_type": "code",
   "execution_count": null,
   "id": "4ec484fc-c41c-4bf9-af9a-647bb0ef8f68",
   "metadata": {},
   "outputs": [],
   "source": [
    "np.stack(best_seqsignet_attention_encoder_umap_kfold_110[\"recall_scores\"]).mean(axis=0)"
   ]
  }
 ],
 "metadata": {
  "kernelspec": {
   "display_name": "nlpsig-networks (Conda)",
   "language": "python",
   "name": "sys_nlpsig-networks"
  },
  "language_info": {
   "codemirror_mode": {
    "name": "ipython",
    "version": 3
   },
   "file_extension": ".py",
   "mimetype": "text/x-python",
   "name": "python",
   "nbconvert_exporter": "python",
   "pygments_lexer": "ipython3",
   "version": "3.8.17"
  }
 },
 "nbformat": 4,
 "nbformat_minor": 5
}
