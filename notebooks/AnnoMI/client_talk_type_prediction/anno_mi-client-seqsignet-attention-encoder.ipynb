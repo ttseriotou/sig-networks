{
 "cells": [
  {
   "cell_type": "code",
   "execution_count": 1,
   "id": "a983a5e8",
   "metadata": {},
   "outputs": [],
   "source": [
    "import numpy as np\n",
    "import pickle\n",
    "import os\n",
    "\n",
    "seed = 2023"
   ]
  },
  {
   "cell_type": "code",
   "execution_count": 2,
   "id": "31866562-4774-4b9e-9dab-1018ff28ae3e",
   "metadata": {},
   "outputs": [
    {
     "data": {
      "text/plain": [
       "device(type='cuda')"
      ]
     },
     "execution_count": 2,
     "metadata": {},
     "output_type": "execute_result"
    }
   ],
   "source": [
    "import torch\n",
    "\n",
    "# set device\n",
    "device = torch.device(\"cuda\" if torch.cuda.is_available() else \"cpu\")\n",
    "device"
   ]
  },
  {
   "cell_type": "code",
   "execution_count": 3,
   "id": "47c7fd57",
   "metadata": {},
   "outputs": [],
   "source": [
    "from nlpsig_networks.scripts.seqsignet_attention_encoder_functions import (\n",
    "    seqsignet_attention_encoder_hyperparameter_search,\n",
    ")"
   ]
  },
  {
   "cell_type": "code",
   "execution_count": 4,
   "id": "6e918dde",
   "metadata": {},
   "outputs": [],
   "source": [
    "output_dir = \"client_talk_type_output\"\n",
    "if not os.path.isdir(output_dir):\n",
    "    os.makedirs(output_dir)"
   ]
  },
  {
   "cell_type": "markdown",
   "id": "f7409a03",
   "metadata": {},
   "source": [
    "## AnnoMI"
   ]
  },
  {
   "cell_type": "code",
   "execution_count": 5,
   "id": "f00bb922",
   "metadata": {},
   "outputs": [],
   "source": [
    "%run ../load_anno_mi.py"
   ]
  },
  {
   "cell_type": "code",
   "execution_count": 6,
   "id": "720d820f",
   "metadata": {},
   "outputs": [
    {
     "data": {
      "text/html": [
       "<div>\n",
       "<style scoped>\n",
       "    .dataframe tbody tr th:only-of-type {\n",
       "        vertical-align: middle;\n",
       "    }\n",
       "\n",
       "    .dataframe tbody tr th {\n",
       "        vertical-align: top;\n",
       "    }\n",
       "\n",
       "    .dataframe thead th {\n",
       "        text-align: right;\n",
       "    }\n",
       "</style>\n",
       "<table border=\"1\" class=\"dataframe\">\n",
       "  <thead>\n",
       "    <tr style=\"text-align: right;\">\n",
       "      <th></th>\n",
       "      <th>mi_quality</th>\n",
       "      <th>transcript_id</th>\n",
       "      <th>topic</th>\n",
       "      <th>utterance_id</th>\n",
       "      <th>interlocutor</th>\n",
       "      <th>timestamp</th>\n",
       "      <th>utterance_text</th>\n",
       "      <th>annotator_id</th>\n",
       "      <th>therapist_input_exists</th>\n",
       "      <th>therapist_input_subtype</th>\n",
       "      <th>reflection_exists</th>\n",
       "      <th>reflection_subtype</th>\n",
       "      <th>question_exists</th>\n",
       "      <th>question_subtype</th>\n",
       "      <th>main_therapist_behaviour</th>\n",
       "      <th>client_talk_type</th>\n",
       "      <th>datetime</th>\n",
       "      <th>speaker</th>\n",
       "    </tr>\n",
       "  </thead>\n",
       "  <tbody>\n",
       "    <tr>\n",
       "      <th>0</th>\n",
       "      <td>high</td>\n",
       "      <td>0</td>\n",
       "      <td>reducing alcohol consumption</td>\n",
       "      <td>0</td>\n",
       "      <td>therapist</td>\n",
       "      <td>00:00:13</td>\n",
       "      <td>Thanks for filling it out. We give this form t...</td>\n",
       "      <td>3</td>\n",
       "      <td>False</td>\n",
       "      <td>NaN</td>\n",
       "      <td>False</td>\n",
       "      <td>NaN</td>\n",
       "      <td>True</td>\n",
       "      <td>open</td>\n",
       "      <td>question</td>\n",
       "      <td>NaN</td>\n",
       "      <td>2023-11-10 00:00:13</td>\n",
       "      <td>-1</td>\n",
       "    </tr>\n",
       "    <tr>\n",
       "      <th>1</th>\n",
       "      <td>high</td>\n",
       "      <td>0</td>\n",
       "      <td>reducing alcohol consumption</td>\n",
       "      <td>1</td>\n",
       "      <td>client</td>\n",
       "      <td>00:00:24</td>\n",
       "      <td>Sure.</td>\n",
       "      <td>3</td>\n",
       "      <td>NaN</td>\n",
       "      <td>NaN</td>\n",
       "      <td>NaN</td>\n",
       "      <td>NaN</td>\n",
       "      <td>NaN</td>\n",
       "      <td>NaN</td>\n",
       "      <td>NaN</td>\n",
       "      <td>neutral</td>\n",
       "      <td>2023-11-10 00:00:24</td>\n",
       "      <td>1</td>\n",
       "    </tr>\n",
       "    <tr>\n",
       "      <th>2</th>\n",
       "      <td>high</td>\n",
       "      <td>0</td>\n",
       "      <td>reducing alcohol consumption</td>\n",
       "      <td>2</td>\n",
       "      <td>therapist</td>\n",
       "      <td>00:00:25</td>\n",
       "      <td>So, let's see. It looks that you put-- You dri...</td>\n",
       "      <td>3</td>\n",
       "      <td>True</td>\n",
       "      <td>information</td>\n",
       "      <td>False</td>\n",
       "      <td>NaN</td>\n",
       "      <td>False</td>\n",
       "      <td>NaN</td>\n",
       "      <td>therapist_input</td>\n",
       "      <td>NaN</td>\n",
       "      <td>2023-11-10 00:00:25</td>\n",
       "      <td>-1</td>\n",
       "    </tr>\n",
       "    <tr>\n",
       "      <th>3</th>\n",
       "      <td>high</td>\n",
       "      <td>0</td>\n",
       "      <td>reducing alcohol consumption</td>\n",
       "      <td>3</td>\n",
       "      <td>client</td>\n",
       "      <td>00:00:34</td>\n",
       "      <td>Mm-hmm.</td>\n",
       "      <td>3</td>\n",
       "      <td>NaN</td>\n",
       "      <td>NaN</td>\n",
       "      <td>NaN</td>\n",
       "      <td>NaN</td>\n",
       "      <td>NaN</td>\n",
       "      <td>NaN</td>\n",
       "      <td>NaN</td>\n",
       "      <td>neutral</td>\n",
       "      <td>2023-11-10 00:00:34</td>\n",
       "      <td>1</td>\n",
       "    </tr>\n",
       "    <tr>\n",
       "      <th>4</th>\n",
       "      <td>high</td>\n",
       "      <td>0</td>\n",
       "      <td>reducing alcohol consumption</td>\n",
       "      <td>4</td>\n",
       "      <td>therapist</td>\n",
       "      <td>00:00:34</td>\n",
       "      <td>-and you usually have three to four drinks whe...</td>\n",
       "      <td>3</td>\n",
       "      <td>True</td>\n",
       "      <td>information</td>\n",
       "      <td>False</td>\n",
       "      <td>NaN</td>\n",
       "      <td>False</td>\n",
       "      <td>NaN</td>\n",
       "      <td>therapist_input</td>\n",
       "      <td>NaN</td>\n",
       "      <td>2023-11-10 00:00:34</td>\n",
       "      <td>-1</td>\n",
       "    </tr>\n",
       "  </tbody>\n",
       "</table>\n",
       "</div>"
      ],
      "text/plain": [
       "  mi_quality  transcript_id                         topic  utterance_id  \\\n",
       "0       high              0  reducing alcohol consumption             0   \n",
       "1       high              0  reducing alcohol consumption             1   \n",
       "2       high              0  reducing alcohol consumption             2   \n",
       "3       high              0  reducing alcohol consumption             3   \n",
       "4       high              0  reducing alcohol consumption             4   \n",
       "\n",
       "  interlocutor timestamp                                     utterance_text  \\\n",
       "0    therapist  00:00:13  Thanks for filling it out. We give this form t...   \n",
       "1       client  00:00:24                                              Sure.   \n",
       "2    therapist  00:00:25  So, let's see. It looks that you put-- You dri...   \n",
       "3       client  00:00:34                                            Mm-hmm.   \n",
       "4    therapist  00:00:34  -and you usually have three to four drinks whe...   \n",
       "\n",
       "   annotator_id therapist_input_exists therapist_input_subtype  \\\n",
       "0             3                  False                     NaN   \n",
       "1             3                    NaN                     NaN   \n",
       "2             3                   True             information   \n",
       "3             3                    NaN                     NaN   \n",
       "4             3                   True             information   \n",
       "\n",
       "  reflection_exists reflection_subtype question_exists question_subtype  \\\n",
       "0             False                NaN            True             open   \n",
       "1               NaN                NaN             NaN              NaN   \n",
       "2             False                NaN           False              NaN   \n",
       "3               NaN                NaN             NaN              NaN   \n",
       "4             False                NaN           False              NaN   \n",
       "\n",
       "  main_therapist_behaviour client_talk_type            datetime  speaker  \n",
       "0                 question              NaN 2023-11-10 00:00:13       -1  \n",
       "1                      NaN          neutral 2023-11-10 00:00:24        1  \n",
       "2          therapist_input              NaN 2023-11-10 00:00:25       -1  \n",
       "3                      NaN          neutral 2023-11-10 00:00:34        1  \n",
       "4          therapist_input              NaN 2023-11-10 00:00:34       -1  "
      ]
     },
     "execution_count": 6,
     "metadata": {},
     "output_type": "execute_result"
    }
   ],
   "source": [
    "anno_mi.head()"
   ]
  },
  {
   "cell_type": "code",
   "execution_count": 7,
   "id": "84d5594d",
   "metadata": {},
   "outputs": [
    {
     "data": {
      "text/plain": [
       "(9699, 384)"
      ]
     },
     "execution_count": 7,
     "metadata": {},
     "output_type": "execute_result"
    }
   ],
   "source": [
    "with open(\"../anno_mi_sbert.pkl\", \"rb\") as f:\n",
    "    sbert_embeddings = pickle.load(f)\n",
    "\n",
    "sbert_embeddings.shape"
   ]
  },
  {
   "cell_type": "code",
   "execution_count": 8,
   "id": "4daab8de",
   "metadata": {},
   "outputs": [],
   "source": [
    "features = [\"time_encoding\", \"timeline_index\"]\n",
    "standardise_method = [\"z_score\", None]\n",
    "include_features_in_path = True\n",
    "include_features_in_input = True"
   ]
  },
  {
   "cell_type": "code",
   "execution_count": 9,
   "id": "1f5e3893",
   "metadata": {},
   "outputs": [],
   "source": [
    "num_epochs = 100\n",
    "dimensions = [15]\n",
    "# define swmhau parameters: (output_channels, sig_depth, num_heads)\n",
    "swmhau_parameters = [(12, 3, 10), (10, 3, 5)]\n",
    "num_layers = [1]\n",
    "ffn_hidden_dim_sizes = [[32,32], [128,128], [512,512]]\n",
    "dropout_rates = [0.1]\n",
    "learning_rates = [5e-4, 3e-4, 1e-4]\n",
    "seeds = [1, 12, 123]\n",
    "loss = \"focal\"\n",
    "gamma = 2\n",
    "validation_metric = \"f1\"\n",
    "patience = 3"
   ]
  },
  {
   "cell_type": "code",
   "execution_count": 10,
   "id": "1c7c7a5c-8dc0-49c6-a43f-d2403bbbc057",
   "metadata": {},
   "outputs": [],
   "source": [
    "kwargs = {\n",
    "    \"num_epochs\": num_epochs,\n",
    "    \"df\": anno_mi,\n",
    "    \"id_column\": \"transcript_id\",\n",
    "    \"label_column\": \"client_talk_type\",\n",
    "    \"embeddings\": sbert_embeddings,\n",
    "    \"y_data\": y_data_client,\n",
    "    \"output_dim\": output_dim_client,\n",
    "    \"dimensions\": dimensions,\n",
    "    \"log_signature\": True,\n",
    "    \"pooling\": \"signature\",\n",
    "    \"transformer_encoder_layers\": 2,\n",
    "    \"swmhau_parameters\": swmhau_parameters,\n",
    "    \"num_layers\": num_layers,\n",
    "    \"ffn_hidden_dim_sizes\": ffn_hidden_dim_sizes,\n",
    "    \"dropout_rates\": dropout_rates,\n",
    "    \"learning_rates\": learning_rates,\n",
    "    \"seeds\": seeds,\n",
    "    \"loss\": loss,\n",
    "    \"gamma\": gamma,\n",
    "    \"device\": device,\n",
    "    \"features\": features,\n",
    "    \"standardise_method\": standardise_method,\n",
    "    \"include_features_in_path\": include_features_in_path,\n",
    "    \"include_features_in_input\": include_features_in_input,\n",
    "    \"path_indices\": client_index,\n",
    "    \"split_ids\": client_transcript_id,\n",
    "    \"k_fold\": True,\n",
    "    \"patience\": patience,\n",
    "    \"validation_metric\": validation_metric,\n",
    "    \"verbose\": False,\n",
    "}"
   ]
  },
  {
   "cell_type": "markdown",
   "id": "4dbfefaa-f4c6-47f2-b159-d10b705de7ff",
   "metadata": {
    "tags": []
   },
   "source": [
    "# history_length=11"
   ]
  },
  {
   "cell_type": "code",
   "execution_count": 11,
   "id": "d276859d-299b-48b1-a7cb-e0dc898498ab",
   "metadata": {},
   "outputs": [],
   "source": [
    "shift = 3\n",
    "window_size = 5\n",
    "n = 3"
   ]
  },
  {
   "cell_type": "code",
   "execution_count": 12,
   "id": "aa2b936d-c59d-469e-a99b-2c18a2973da7",
   "metadata": {
    "tags": []
   },
   "outputs": [
    {
     "data": {
      "application/vnd.jupyter.widget-view+json": {
       "model_id": "69375efff25b4fbcbe452aa70a8fcebe",
       "version_major": 2,
       "version_minor": 0
      },
      "text/plain": [
       "  0%|          | 0/1 [00:00<?, ?it/s]"
      ]
     },
     "metadata": {},
     "output_type": "display_data"
    },
    {
     "data": {
      "application/vnd.jupyter.widget-view+json": {
       "model_id": "56a0909d28394d0da41763543abf8c78",
       "version_major": 2,
       "version_minor": 0
      },
      "text/plain": [
       "  0%|          | 0/1 [00:00<?, ?it/s]"
      ]
     },
     "metadata": {},
     "output_type": "display_data"
    },
    {
     "name": "stdout",
     "output_type": "stream",
     "text": [
      "\n",
      "##################################################\n",
      "dimension: 15 | method: umap\n",
      "given shift 3, window size 5 and n 3: history length = 11\n",
      "[INFO] Concatenating the embeddings to the dataframe...\n",
      "[INFO] - columns beginning with 'e' denote the full embddings.\n",
      "[INFO] - columns beginning with 'd' denote the dimension reduced embeddings.\n",
      "[INFO] Adding time feature columns into dataframe in `.df`.\n",
      "[INFO] Adding 'time_encoding' feature...\n",
      "[INFO] Adding 'time_diff' feature...\n",
      "[INFO] Adding 'timeline_index' feature...\n",
      "[INFO] Padding ids and storing in `.df_padded` and `.array_padded` attributes.\n"
     ]
    },
    {
     "data": {
      "application/vnd.jupyter.widget-view+json": {
       "model_id": "3cc72a81911c47219fb4c6e41021d7d9",
       "version_major": 2,
       "version_minor": 0
      },
      "text/plain": [
       "  0%|          | 0/9699 [00:00<?, ?it/s]"
      ]
     },
     "metadata": {},
     "output_type": "display_data"
    },
    {
     "name": "stdout",
     "output_type": "stream",
     "text": [
      "[INFO] The path was created for each item in the dataframe, by looking at its history, so to include embeddings in the FFN input, we concatenate the embeddings for each sentence / text.\n"
     ]
    },
    {
     "data": {
      "application/vnd.jupyter.widget-view+json": {
       "model_id": "a12f998bf0e54c578f210f29b1be38f5",
       "version_major": 2,
       "version_minor": 0
      },
      "text/plain": [
       "  0%|          | 0/2 [00:00<?, ?it/s]"
      ]
     },
     "metadata": {},
     "output_type": "display_data"
    },
    {
     "data": {
      "application/vnd.jupyter.widget-view+json": {
       "model_id": "9639bcb7ffcd4a80afc274e1a3c78e2a",
       "version_major": 2,
       "version_minor": 0
      },
      "text/plain": [
       "  0%|          | 0/1 [00:00<?, ?it/s]"
      ]
     },
     "metadata": {},
     "output_type": "display_data"
    },
    {
     "data": {
      "application/vnd.jupyter.widget-view+json": {
       "model_id": "237cf75b70654d4f8060c61254041d4f",
       "version_major": 2,
       "version_minor": 0
      },
      "text/plain": [
       "  0%|          | 0/3 [00:00<?, ?it/s]"
      ]
     },
     "metadata": {},
     "output_type": "display_data"
    },
    {
     "data": {
      "application/vnd.jupyter.widget-view+json": {
       "model_id": "f15856f0c17940ffbda43cc632b088d7",
       "version_major": 2,
       "version_minor": 0
      },
      "text/plain": [
       "  0%|          | 0/1 [00:00<?, ?it/s]"
      ]
     },
     "metadata": {},
     "output_type": "display_data"
    },
    {
     "data": {
      "application/vnd.jupyter.widget-view+json": {
       "model_id": "5cd0f0c57fdd4b24bb4ffc67b546129c",
       "version_major": 2,
       "version_minor": 0
      },
      "text/plain": [
       "  0%|          | 0/3 [00:00<?, ?it/s]"
      ]
     },
     "metadata": {},
     "output_type": "display_data"
    },
    {
     "data": {
      "application/vnd.jupyter.widget-view+json": {
       "model_id": "46510d9e75604083b3683631f7692369",
       "version_major": 2,
       "version_minor": 0
      },
      "text/plain": [
       "  0%|          | 0/1 [00:00<?, ?it/s]"
      ]
     },
     "metadata": {},
     "output_type": "display_data"
    },
    {
     "data": {
      "application/vnd.jupyter.widget-view+json": {
       "model_id": "086a7e932eaf4765a411f41365cc3cb4",
       "version_major": 2,
       "version_minor": 0
      },
      "text/plain": [
       "  0%|          | 0/3 [00:00<?, ?it/s]"
      ]
     },
     "metadata": {},
     "output_type": "display_data"
    },
    {
     "data": {
      "application/vnd.jupyter.widget-view+json": {
       "model_id": "4c86aac6eb6c49b38f9cda7c4b82e5d5",
       "version_major": 2,
       "version_minor": 0
      },
      "text/plain": [
       "  0%|          | 0/1 [00:00<?, ?it/s]"
      ]
     },
     "metadata": {},
     "output_type": "display_data"
    },
    {
     "data": {
      "application/vnd.jupyter.widget-view+json": {
       "model_id": "dc055f10a4da4f1188bb50bb24117775",
       "version_major": 2,
       "version_minor": 0
      },
      "text/plain": [
       "  0%|          | 0/3 [00:00<?, ?it/s]"
      ]
     },
     "metadata": {},
     "output_type": "display_data"
    },
    {
     "data": {
      "application/vnd.jupyter.widget-view+json": {
       "model_id": "aa6e0d49d6aa4d40b998efee7b3f43cd",
       "version_major": 2,
       "version_minor": 0
      },
      "text/plain": [
       "  0%|          | 0/1 [00:00<?, ?it/s]"
      ]
     },
     "metadata": {},
     "output_type": "display_data"
    },
    {
     "data": {
      "application/vnd.jupyter.widget-view+json": {
       "model_id": "13140ed1c3164f5db18a710251a68293",
       "version_major": 2,
       "version_minor": 0
      },
      "text/plain": [
       "  0%|          | 0/3 [00:00<?, ?it/s]"
      ]
     },
     "metadata": {},
     "output_type": "display_data"
    },
    {
     "data": {
      "application/vnd.jupyter.widget-view+json": {
       "model_id": "7ba0bcf7ad3e4c079d485ec5b43732a7",
       "version_major": 2,
       "version_minor": 0
      },
      "text/plain": [
       "  0%|          | 0/1 [00:00<?, ?it/s]"
      ]
     },
     "metadata": {},
     "output_type": "display_data"
    },
    {
     "data": {
      "application/vnd.jupyter.widget-view+json": {
       "model_id": "1c9ca5e4d735435384fc3b131e67896d",
       "version_major": 2,
       "version_minor": 0
      },
      "text/plain": [
       "  0%|          | 0/3 [00:00<?, ?it/s]"
      ]
     },
     "metadata": {},
     "output_type": "display_data"
    },
    {
     "data": {
      "application/vnd.jupyter.widget-view+json": {
       "model_id": "ffa1ea2b42184d15a495a72b1e48337b",
       "version_major": 2,
       "version_minor": 0
      },
      "text/plain": [
       "  0%|          | 0/1 [00:00<?, ?it/s]"
      ]
     },
     "metadata": {},
     "output_type": "display_data"
    },
    {
     "data": {
      "application/vnd.jupyter.widget-view+json": {
       "model_id": "5281970489cc4775aa53047021ab2855",
       "version_major": 2,
       "version_minor": 0
      },
      "text/plain": [
       "  0%|          | 0/3 [00:00<?, ?it/s]"
      ]
     },
     "metadata": {},
     "output_type": "display_data"
    },
    {
     "data": {
      "application/vnd.jupyter.widget-view+json": {
       "model_id": "0d1ea5f2a3584048832835cfe310fd3b",
       "version_major": 2,
       "version_minor": 0
      },
      "text/plain": [
       "  0%|          | 0/1 [00:00<?, ?it/s]"
      ]
     },
     "metadata": {},
     "output_type": "display_data"
    },
    {
     "data": {
      "application/vnd.jupyter.widget-view+json": {
       "model_id": "b3bf2a4eadcf4dc6a0765a728449c4df",
       "version_major": 2,
       "version_minor": 0
      },
      "text/plain": [
       "  0%|          | 0/3 [00:00<?, ?it/s]"
      ]
     },
     "metadata": {},
     "output_type": "display_data"
    },
    {
     "name": "stdout",
     "output_type": "stream",
     "text": [
      "given shift 3, window size 5 and n 3: history length = 11\n",
      "[INFO] Concatenating the embeddings to the dataframe...\n",
      "[INFO] - columns beginning with 'e' denote the full embddings.\n",
      "[INFO] - columns beginning with 'd' denote the dimension reduced embeddings.\n",
      "[INFO] Adding time feature columns into dataframe in `.df`.\n",
      "[INFO] Adding 'time_encoding' feature...\n",
      "[INFO] Adding 'time_diff' feature...\n",
      "[INFO] Adding 'timeline_index' feature...\n",
      "[INFO] Padding ids and storing in `.df_padded` and `.array_padded` attributes.\n"
     ]
    },
    {
     "data": {
      "application/vnd.jupyter.widget-view+json": {
       "model_id": "8b5dd698e0f74c729623442ff4c77d54",
       "version_major": 2,
       "version_minor": 0
      },
      "text/plain": [
       "  0%|          | 0/9699 [00:00<?, ?it/s]"
      ]
     },
     "metadata": {},
     "output_type": "display_data"
    },
    {
     "name": "stdout",
     "output_type": "stream",
     "text": [
      "[INFO] The path was created for each item in the dataframe, by looking at its history, so to include embeddings in the FFN input, we concatenate the embeddings for each sentence / text.\n",
      "saving results dataframe to CSV for this hyperparameter search in client_talk_type_output/seqsignet_attention_encoder_umap_focal_2_3_5_3_kfold.csv\n",
      "saving the best model results dataframe to CSV for this hyperparameter search in client_talk_type_output/seqsignet_attention_encoder_umap_focal_2_3_5_3_kfold_best_model.csv\n"
     ]
    }
   ],
   "source": [
    "(\n",
    "    seqsignet_attention_encoder_umap_kfold_11,\n",
    "    best_seqsignet_attention_encoder_umap_kfold_11,\n",
    "    _,\n",
    "    __,\n",
    ") = seqsignet_attention_encoder_hyperparameter_search(\n",
    "    shift=shift,\n",
    "    window_size=window_size,\n",
    "    n=n,\n",
    "    dim_reduce_methods=[\"umap\"],\n",
    "    results_output=f\"{output_dir}/seqsignet_attention_encoder_umap_focal_{gamma}_{shift}_{window_size}_{n}_kfold.csv\",\n",
    "    **kwargs,\n",
    ")"
   ]
  },
  {
   "cell_type": "code",
   "execution_count": 13,
   "id": "82e7c137-64ae-4b99-adf1-73388c2055c7",
   "metadata": {},
   "outputs": [
    {
     "data": {
      "text/html": [
       "<div>\n",
       "<style scoped>\n",
       "    .dataframe tbody tr th:only-of-type {\n",
       "        vertical-align: middle;\n",
       "    }\n",
       "\n",
       "    .dataframe tbody tr th {\n",
       "        vertical-align: top;\n",
       "    }\n",
       "\n",
       "    .dataframe thead th {\n",
       "        text-align: right;\n",
       "    }\n",
       "</style>\n",
       "<table border=\"1\" class=\"dataframe\">\n",
       "  <thead>\n",
       "    <tr style=\"text-align: right;\">\n",
       "      <th></th>\n",
       "      <th>loss</th>\n",
       "      <th>accuracy</th>\n",
       "      <th>f1</th>\n",
       "      <th>f1_scores</th>\n",
       "      <th>precision</th>\n",
       "      <th>precision_scores</th>\n",
       "      <th>recall</th>\n",
       "      <th>recall_scores</th>\n",
       "      <th>valid_loss</th>\n",
       "      <th>valid_accuracy</th>\n",
       "      <th>...</th>\n",
       "      <th>seed</th>\n",
       "      <th>loss_function</th>\n",
       "      <th>gamma</th>\n",
       "      <th>k_fold</th>\n",
       "      <th>n_splits</th>\n",
       "      <th>augmentation_type</th>\n",
       "      <th>hidden_dim_aug</th>\n",
       "      <th>comb_method</th>\n",
       "      <th>batch_size</th>\n",
       "      <th>model_id</th>\n",
       "    </tr>\n",
       "  </thead>\n",
       "  <tbody>\n",
       "    <tr>\n",
       "      <th>0</th>\n",
       "      <td>None</td>\n",
       "      <td>0.639272</td>\n",
       "      <td>0.379968</td>\n",
       "      <td>[0.781563126252505, 0.17167381974248927, 0.186...</td>\n",
       "      <td>0.434493</td>\n",
       "      <td>[0.68935041979673, 0.3341288782816229, 0.28]</td>\n",
       "      <td>0.385922</td>\n",
       "      <td>[0.9022556390977443, 0.11551155115511551, 0.14]</td>\n",
       "      <td>None</td>\n",
       "      <td>0.646114</td>\n",
       "      <td>...</td>\n",
       "      <td>1</td>\n",
       "      <td>focal</td>\n",
       "      <td>2</td>\n",
       "      <td>True</td>\n",
       "      <td>5</td>\n",
       "      <td>Conv1d</td>\n",
       "      <td>None</td>\n",
       "      <td>concatenation</td>\n",
       "      <td>64</td>\n",
       "      <td>0</td>\n",
       "    </tr>\n",
       "    <tr>\n",
       "      <th>0</th>\n",
       "      <td>None</td>\n",
       "      <td>0.646360</td>\n",
       "      <td>0.357379</td>\n",
       "      <td>[0.7850030731407499, 0.1751824817518248, 0.111...</td>\n",
       "      <td>0.449790</td>\n",
       "      <td>[0.6827025871285012, 0.3333333333333333, 0.333...</td>\n",
       "      <td>0.369817</td>\n",
       "      <td>[0.9233661075766338, 0.1188118811881188, 0.067...</td>\n",
       "      <td>None</td>\n",
       "      <td>0.653500</td>\n",
       "      <td>...</td>\n",
       "      <td>12</td>\n",
       "      <td>focal</td>\n",
       "      <td>2</td>\n",
       "      <td>True</td>\n",
       "      <td>5</td>\n",
       "      <td>Conv1d</td>\n",
       "      <td>None</td>\n",
       "      <td>concatenation</td>\n",
       "      <td>64</td>\n",
       "      <td>0</td>\n",
       "    </tr>\n",
       "    <tr>\n",
       "      <th>0</th>\n",
       "      <td>None</td>\n",
       "      <td>0.664368</td>\n",
       "      <td>0.429112</td>\n",
       "      <td>[0.7986339488995698, 0.24816625916870413, 0.24...</td>\n",
       "      <td>0.499625</td>\n",
       "      <td>[0.7097571942446043, 0.47877358490566035, 0.31...</td>\n",
       "      <td>0.425604</td>\n",
       "      <td>[0.9129554655870445, 0.1674917491749175, 0.196...</td>\n",
       "      <td>None</td>\n",
       "      <td>0.656872</td>\n",
       "      <td>...</td>\n",
       "      <td>123</td>\n",
       "      <td>focal</td>\n",
       "      <td>2</td>\n",
       "      <td>True</td>\n",
       "      <td>5</td>\n",
       "      <td>Conv1d</td>\n",
       "      <td>None</td>\n",
       "      <td>concatenation</td>\n",
       "      <td>64</td>\n",
       "      <td>0</td>\n",
       "    </tr>\n",
       "    <tr>\n",
       "      <th>0</th>\n",
       "      <td>None</td>\n",
       "      <td>0.660536</td>\n",
       "      <td>0.343206</td>\n",
       "      <td>[0.7958393807450411, 0.17963314358001262, 0.05...</td>\n",
       "      <td>0.486353</td>\n",
       "      <td>[0.683991683991684, 0.38482384823848237, 0.390...</td>\n",
       "      <td>0.365890</td>\n",
       "      <td>[0.951417004048583, 0.11716171617161716, 0.029...</td>\n",
       "      <td>None</td>\n",
       "      <td>0.648041</td>\n",
       "      <td>...</td>\n",
       "      <td>1</td>\n",
       "      <td>focal</td>\n",
       "      <td>2</td>\n",
       "      <td>True</td>\n",
       "      <td>5</td>\n",
       "      <td>Conv1d</td>\n",
       "      <td>None</td>\n",
       "      <td>concatenation</td>\n",
       "      <td>64</td>\n",
       "      <td>1</td>\n",
       "    </tr>\n",
       "    <tr>\n",
       "      <th>0</th>\n",
       "      <td>None</td>\n",
       "      <td>0.663793</td>\n",
       "      <td>0.342117</td>\n",
       "      <td>[0.7957196104364556, 0.18656229615133724, 0.04...</td>\n",
       "      <td>0.483829</td>\n",
       "      <td>[0.6810043218769294, 0.4454828660436137, 0.325]</td>\n",
       "      <td>0.366178</td>\n",
       "      <td>[0.9569115095430885, 0.11798679867986799, 0.02...</td>\n",
       "      <td>None</td>\n",
       "      <td>0.648362</td>\n",
       "      <td>...</td>\n",
       "      <td>12</td>\n",
       "      <td>focal</td>\n",
       "      <td>2</td>\n",
       "      <td>True</td>\n",
       "      <td>5</td>\n",
       "      <td>Conv1d</td>\n",
       "      <td>None</td>\n",
       "      <td>concatenation</td>\n",
       "      <td>64</td>\n",
       "      <td>1</td>\n",
       "    </tr>\n",
       "    <tr>\n",
       "      <th>0</th>\n",
       "      <td>None</td>\n",
       "      <td>0.661877</td>\n",
       "      <td>0.364149</td>\n",
       "      <td>[0.7981106939566428, 0.14555256064690025, 0.14...</td>\n",
       "      <td>0.477551</td>\n",
       "      <td>[0.686601375286518, 0.39705882352941174, 0.348...</td>\n",
       "      <td>0.378839</td>\n",
       "      <td>[0.9528629265471371, 0.0891089108910891, 0.094...</td>\n",
       "      <td>None</td>\n",
       "      <td>0.655267</td>\n",
       "      <td>...</td>\n",
       "      <td>123</td>\n",
       "      <td>focal</td>\n",
       "      <td>2</td>\n",
       "      <td>True</td>\n",
       "      <td>5</td>\n",
       "      <td>Conv1d</td>\n",
       "      <td>None</td>\n",
       "      <td>concatenation</td>\n",
       "      <td>64</td>\n",
       "      <td>1</td>\n",
       "    </tr>\n",
       "    <tr>\n",
       "      <th>0</th>\n",
       "      <td>None</td>\n",
       "      <td>0.650575</td>\n",
       "      <td>0.290410</td>\n",
       "      <td>[0.788422917897224, 0.08280701754385965, 0.0]</td>\n",
       "      <td>0.314487</td>\n",
       "      <td>[0.6664669462752147, 0.27699530516431925, 0.0]</td>\n",
       "      <td>0.337896</td>\n",
       "      <td>[0.9650086755349914, 0.04867986798679868, 0.0]</td>\n",
       "      <td>None</td>\n",
       "      <td>0.640013</td>\n",
       "      <td>...</td>\n",
       "      <td>1</td>\n",
       "      <td>focal</td>\n",
       "      <td>2</td>\n",
       "      <td>True</td>\n",
       "      <td>5</td>\n",
       "      <td>Conv1d</td>\n",
       "      <td>None</td>\n",
       "      <td>concatenation</td>\n",
       "      <td>64</td>\n",
       "      <td>2</td>\n",
       "    </tr>\n",
       "    <tr>\n",
       "      <th>0</th>\n",
       "      <td>None</td>\n",
       "      <td>0.635441</td>\n",
       "      <td>0.316496</td>\n",
       "      <td>[0.777133188300701, 0.10774410774410774, 0.064...</td>\n",
       "      <td>0.376182</td>\n",
       "      <td>[0.6675664451827242, 0.29304029304029305, 0.16...</td>\n",
       "      <td>0.345245</td>\n",
       "      <td>[0.9297281665702718, 0.066006600660066, 0.04]</td>\n",
       "      <td>None</td>\n",
       "      <td>0.631342</td>\n",
       "      <td>...</td>\n",
       "      <td>12</td>\n",
       "      <td>focal</td>\n",
       "      <td>2</td>\n",
       "      <td>True</td>\n",
       "      <td>5</td>\n",
       "      <td>Conv1d</td>\n",
       "      <td>None</td>\n",
       "      <td>concatenation</td>\n",
       "      <td>64</td>\n",
       "      <td>2</td>\n",
       "    </tr>\n",
       "    <tr>\n",
       "      <th>0</th>\n",
       "      <td>None</td>\n",
       "      <td>0.661877</td>\n",
       "      <td>0.314453</td>\n",
       "      <td>[0.793737397698968, 0.14962251201098148, 0.0]</td>\n",
       "      <td>0.372577</td>\n",
       "      <td>[0.6728332998190227, 0.4448979591836735, 0.0]</td>\n",
       "      <td>0.352515</td>\n",
       "      <td>[0.9676113360323887, 0.08993399339933994, 0.0]</td>\n",
       "      <td>None</td>\n",
       "      <td>0.642582</td>\n",
       "      <td>...</td>\n",
       "      <td>123</td>\n",
       "      <td>focal</td>\n",
       "      <td>2</td>\n",
       "      <td>True</td>\n",
       "      <td>5</td>\n",
       "      <td>Conv1d</td>\n",
       "      <td>None</td>\n",
       "      <td>concatenation</td>\n",
       "      <td>64</td>\n",
       "      <td>2</td>\n",
       "    </tr>\n",
       "    <tr>\n",
       "      <th>0</th>\n",
       "      <td>None</td>\n",
       "      <td>0.632759</td>\n",
       "      <td>0.497783</td>\n",
       "      <td>[0.7643330876934413, 0.42455043002345577, 0.30...</td>\n",
       "      <td>0.496033</td>\n",
       "      <td>[0.7793808235647731, 0.4034175334323923, 0.305...</td>\n",
       "      <td>0.500504</td>\n",
       "      <td>[0.7498554077501446, 0.44801980198019803, 0.30...</td>\n",
       "      <td>None</td>\n",
       "      <td>0.654785</td>\n",
       "      <td>...</td>\n",
       "      <td>1</td>\n",
       "      <td>focal</td>\n",
       "      <td>2</td>\n",
       "      <td>True</td>\n",
       "      <td>5</td>\n",
       "      <td>Conv1d</td>\n",
       "      <td>None</td>\n",
       "      <td>concatenation</td>\n",
       "      <td>64</td>\n",
       "      <td>3</td>\n",
       "    </tr>\n",
       "    <tr>\n",
       "      <th>0</th>\n",
       "      <td>None</td>\n",
       "      <td>0.655556</td>\n",
       "      <td>0.438385</td>\n",
       "      <td>[0.7834461218115566, 0.342451874366768, 0.1892...</td>\n",
       "      <td>0.491598</td>\n",
       "      <td>[0.7122574538570753, 0.4435695538057743, 0.318...</td>\n",
       "      <td>0.427956</td>\n",
       "      <td>[0.8704453441295547, 0.27887788778877887, 0.13...</td>\n",
       "      <td>None</td>\n",
       "      <td>0.662010</td>\n",
       "      <td>...</td>\n",
       "      <td>12</td>\n",
       "      <td>focal</td>\n",
       "      <td>2</td>\n",
       "      <td>True</td>\n",
       "      <td>5</td>\n",
       "      <td>Conv1d</td>\n",
       "      <td>None</td>\n",
       "      <td>concatenation</td>\n",
       "      <td>64</td>\n",
       "      <td>3</td>\n",
       "    </tr>\n",
       "    <tr>\n",
       "      <th>0</th>\n",
       "      <td>None</td>\n",
       "      <td>0.645977</td>\n",
       "      <td>0.524497</td>\n",
       "      <td>[0.7671355881472613, 0.4753086419753086, 0.331...</td>\n",
       "      <td>0.518221</td>\n",
       "      <td>[0.7949751861042184, 0.4463768115942029, 0.313...</td>\n",
       "      <td>0.533447</td>\n",
       "      <td>[0.7411798727588201, 0.5082508250825083, 0.350...</td>\n",
       "      <td>None</td>\n",
       "      <td>0.664740</td>\n",
       "      <td>...</td>\n",
       "      <td>123</td>\n",
       "      <td>focal</td>\n",
       "      <td>2</td>\n",
       "      <td>True</td>\n",
       "      <td>5</td>\n",
       "      <td>Conv1d</td>\n",
       "      <td>None</td>\n",
       "      <td>concatenation</td>\n",
       "      <td>64</td>\n",
       "      <td>3</td>\n",
       "    </tr>\n",
       "    <tr>\n",
       "      <th>0</th>\n",
       "      <td>None</td>\n",
       "      <td>0.644444</td>\n",
       "      <td>0.487543</td>\n",
       "      <td>[0.7734275618374556, 0.410958904109589, 0.2782...</td>\n",
       "      <td>0.499183</td>\n",
       "      <td>[0.7564279789881116, 0.41353383458646614, 0.32...</td>\n",
       "      <td>0.480481</td>\n",
       "      <td>[0.7912087912087912, 0.4084158415841584, 0.241...</td>\n",
       "      <td>None</td>\n",
       "      <td>0.669075</td>\n",
       "      <td>...</td>\n",
       "      <td>1</td>\n",
       "      <td>focal</td>\n",
       "      <td>2</td>\n",
       "      <td>True</td>\n",
       "      <td>5</td>\n",
       "      <td>Conv1d</td>\n",
       "      <td>None</td>\n",
       "      <td>concatenation</td>\n",
       "      <td>64</td>\n",
       "      <td>4</td>\n",
       "    </tr>\n",
       "    <tr>\n",
       "      <th>0</th>\n",
       "      <td>None</td>\n",
       "      <td>0.641571</td>\n",
       "      <td>0.443791</td>\n",
       "      <td>[0.7748947153919304, 0.3657487091222031, 0.190...</td>\n",
       "      <td>0.488045</td>\n",
       "      <td>[0.7307199590058929, 0.38219424460431656, 0.35...</td>\n",
       "      <td>0.435441</td>\n",
       "      <td>[0.8247541931752458, 0.35066006600660066, 0.13...</td>\n",
       "      <td>None</td>\n",
       "      <td>0.665382</td>\n",
       "      <td>...</td>\n",
       "      <td>12</td>\n",
       "      <td>focal</td>\n",
       "      <td>2</td>\n",
       "      <td>True</td>\n",
       "      <td>5</td>\n",
       "      <td>Conv1d</td>\n",
       "      <td>None</td>\n",
       "      <td>concatenation</td>\n",
       "      <td>64</td>\n",
       "      <td>4</td>\n",
       "    </tr>\n",
       "    <tr>\n",
       "      <th>0</th>\n",
       "      <td>None</td>\n",
       "      <td>0.662452</td>\n",
       "      <td>0.458258</td>\n",
       "      <td>[0.7900494920552227, 0.3338615953512942, 0.250...</td>\n",
       "      <td>0.508146</td>\n",
       "      <td>[0.7187203791469194, 0.46402349486049926, 0.34...</td>\n",
       "      <td>0.445335</td>\n",
       "      <td>[0.8770965876229034, 0.2607260726072607, 0.198...</td>\n",
       "      <td>None</td>\n",
       "      <td>0.658157</td>\n",
       "      <td>...</td>\n",
       "      <td>123</td>\n",
       "      <td>focal</td>\n",
       "      <td>2</td>\n",
       "      <td>True</td>\n",
       "      <td>5</td>\n",
       "      <td>Conv1d</td>\n",
       "      <td>None</td>\n",
       "      <td>concatenation</td>\n",
       "      <td>64</td>\n",
       "      <td>4</td>\n",
       "    </tr>\n",
       "    <tr>\n",
       "      <th>0</th>\n",
       "      <td>None</td>\n",
       "      <td>0.651916</td>\n",
       "      <td>0.355325</td>\n",
       "      <td>[0.7847256549678695, 0.24688561721404303, 0.03...</td>\n",
       "      <td>0.463718</td>\n",
       "      <td>[0.6851532153646958, 0.3935018050541516, 0.3125]</td>\n",
       "      <td>0.372070</td>\n",
       "      <td>[0.9181607865818392, 0.17986798679867988, 0.01...</td>\n",
       "      <td>None</td>\n",
       "      <td>0.641618</td>\n",
       "      <td>...</td>\n",
       "      <td>1</td>\n",
       "      <td>focal</td>\n",
       "      <td>2</td>\n",
       "      <td>True</td>\n",
       "      <td>5</td>\n",
       "      <td>Conv1d</td>\n",
       "      <td>None</td>\n",
       "      <td>concatenation</td>\n",
       "      <td>64</td>\n",
       "      <td>5</td>\n",
       "    </tr>\n",
       "    <tr>\n",
       "      <th>0</th>\n",
       "      <td>None</td>\n",
       "      <td>0.667433</td>\n",
       "      <td>0.310019</td>\n",
       "      <td>[0.7972782731112154, 0.12196914033798677, 0.01...</td>\n",
       "      <td>0.609264</td>\n",
       "      <td>[0.670746150809317, 0.5570469798657718, 0.6]</td>\n",
       "      <td>0.352195</td>\n",
       "      <td>[0.9826489300173511, 0.06848184818481848, 0.00...</td>\n",
       "      <td>None</td>\n",
       "      <td>0.644027</td>\n",
       "      <td>...</td>\n",
       "      <td>12</td>\n",
       "      <td>focal</td>\n",
       "      <td>2</td>\n",
       "      <td>True</td>\n",
       "      <td>5</td>\n",
       "      <td>Conv1d</td>\n",
       "      <td>None</td>\n",
       "      <td>concatenation</td>\n",
       "      <td>64</td>\n",
       "      <td>5</td>\n",
       "    </tr>\n",
       "    <tr>\n",
       "      <th>0</th>\n",
       "      <td>None</td>\n",
       "      <td>0.653831</td>\n",
       "      <td>0.298806</td>\n",
       "      <td>[0.7890255439924314, 0.10739191073919108, 0.0]</td>\n",
       "      <td>0.338105</td>\n",
       "      <td>[0.6674669867947179, 0.34684684684684686, 0.0]</td>\n",
       "      <td>0.342750</td>\n",
       "      <td>[0.9647194910352805, 0.06353135313531354, 0.0]</td>\n",
       "      <td>None</td>\n",
       "      <td>0.643545</td>\n",
       "      <td>...</td>\n",
       "      <td>123</td>\n",
       "      <td>focal</td>\n",
       "      <td>2</td>\n",
       "      <td>True</td>\n",
       "      <td>5</td>\n",
       "      <td>Conv1d</td>\n",
       "      <td>None</td>\n",
       "      <td>concatenation</td>\n",
       "      <td>64</td>\n",
       "      <td>5</td>\n",
       "    </tr>\n",
       "    <tr>\n",
       "      <th>0</th>\n",
       "      <td>None</td>\n",
       "      <td>0.640996</td>\n",
       "      <td>0.501633</td>\n",
       "      <td>[0.7728980063565443, 0.41081994928148774, 0.32...</td>\n",
       "      <td>0.500227</td>\n",
       "      <td>[0.7722286374133949, 0.42114384748700173, 0.30...</td>\n",
       "      <td>0.503641</td>\n",
       "      <td>[0.7735685367264314, 0.400990099009901, 0.3363...</td>\n",
       "      <td>None</td>\n",
       "      <td>0.662331</td>\n",
       "      <td>...</td>\n",
       "      <td>1</td>\n",
       "      <td>focal</td>\n",
       "      <td>2</td>\n",
       "      <td>True</td>\n",
       "      <td>5</td>\n",
       "      <td>Conv1d</td>\n",
       "      <td>None</td>\n",
       "      <td>concatenation</td>\n",
       "      <td>64</td>\n",
       "      <td>6</td>\n",
       "    </tr>\n",
       "    <tr>\n",
       "      <th>0</th>\n",
       "      <td>None</td>\n",
       "      <td>0.635824</td>\n",
       "      <td>0.483882</td>\n",
       "      <td>[0.7703430677629715, 0.38400702987697716, 0.29...</td>\n",
       "      <td>0.486973</td>\n",
       "      <td>[0.7555617352614016, 0.4107142857142857, 0.294...</td>\n",
       "      <td>0.482092</td>\n",
       "      <td>[0.7857142857142857, 0.36056105610561057, 0.3]</td>\n",
       "      <td>None</td>\n",
       "      <td>0.665382</td>\n",
       "      <td>...</td>\n",
       "      <td>12</td>\n",
       "      <td>focal</td>\n",
       "      <td>2</td>\n",
       "      <td>True</td>\n",
       "      <td>5</td>\n",
       "      <td>Conv1d</td>\n",
       "      <td>None</td>\n",
       "      <td>concatenation</td>\n",
       "      <td>64</td>\n",
       "      <td>6</td>\n",
       "    </tr>\n",
       "    <tr>\n",
       "      <th>0</th>\n",
       "      <td>None</td>\n",
       "      <td>0.643870</td>\n",
       "      <td>0.463159</td>\n",
       "      <td>[0.7765386204047914, 0.38260869565217387, 0.23...</td>\n",
       "      <td>0.484803</td>\n",
       "      <td>[0.7411300919842313, 0.40441176470588236, 0.30...</td>\n",
       "      <td>0.454058</td>\n",
       "      <td>[0.8155002891844997, 0.36303630363036304, 0.18...</td>\n",
       "      <td>None</td>\n",
       "      <td>0.652376</td>\n",
       "      <td>...</td>\n",
       "      <td>123</td>\n",
       "      <td>focal</td>\n",
       "      <td>2</td>\n",
       "      <td>True</td>\n",
       "      <td>5</td>\n",
       "      <td>Conv1d</td>\n",
       "      <td>None</td>\n",
       "      <td>concatenation</td>\n",
       "      <td>64</td>\n",
       "      <td>6</td>\n",
       "    </tr>\n",
       "    <tr>\n",
       "      <th>0</th>\n",
       "      <td>None</td>\n",
       "      <td>0.631418</td>\n",
       "      <td>0.480814</td>\n",
       "      <td>[0.7637568424085277, 0.40586603250099085, 0.27...</td>\n",
       "      <td>0.488130</td>\n",
       "      <td>[0.7609070034443168, 0.3905415713196034, 0.312...</td>\n",
       "      <td>0.476963</td>\n",
       "      <td>[0.7666281087333718, 0.42244224422442245, 0.24...</td>\n",
       "      <td>None</td>\n",
       "      <td>0.653019</td>\n",
       "      <td>...</td>\n",
       "      <td>1</td>\n",
       "      <td>focal</td>\n",
       "      <td>2</td>\n",
       "      <td>True</td>\n",
       "      <td>5</td>\n",
       "      <td>Conv1d</td>\n",
       "      <td>None</td>\n",
       "      <td>concatenation</td>\n",
       "      <td>64</td>\n",
       "      <td>7</td>\n",
       "    </tr>\n",
       "    <tr>\n",
       "      <th>0</th>\n",
       "      <td>None</td>\n",
       "      <td>0.614559</td>\n",
       "      <td>0.452164</td>\n",
       "      <td>[0.7449723112795104, 0.4165144318597004, 0.195...</td>\n",
       "      <td>0.468813</td>\n",
       "      <td>[0.7508813160987075, 0.3737704918032787, 0.281...</td>\n",
       "      <td>0.452848</td>\n",
       "      <td>[0.7391555812608445, 0.47029702970297027, 0.14...</td>\n",
       "      <td>None</td>\n",
       "      <td>0.630861</td>\n",
       "      <td>...</td>\n",
       "      <td>12</td>\n",
       "      <td>focal</td>\n",
       "      <td>2</td>\n",
       "      <td>True</td>\n",
       "      <td>5</td>\n",
       "      <td>Conv1d</td>\n",
       "      <td>None</td>\n",
       "      <td>concatenation</td>\n",
       "      <td>64</td>\n",
       "      <td>7</td>\n",
       "    </tr>\n",
       "    <tr>\n",
       "      <th>0</th>\n",
       "      <td>None</td>\n",
       "      <td>0.654789</td>\n",
       "      <td>0.450589</td>\n",
       "      <td>[0.7906170864987339, 0.3494387506100537, 0.211...</td>\n",
       "      <td>0.479692</td>\n",
       "      <td>[0.7332509270704574, 0.42771804062126645, 0.27...</td>\n",
       "      <td>0.441337</td>\n",
       "      <td>[0.8577212261422787, 0.2953795379537954, 0.170...</td>\n",
       "      <td>None</td>\n",
       "      <td>0.665864</td>\n",
       "      <td>...</td>\n",
       "      <td>123</td>\n",
       "      <td>focal</td>\n",
       "      <td>2</td>\n",
       "      <td>True</td>\n",
       "      <td>5</td>\n",
       "      <td>Conv1d</td>\n",
       "      <td>None</td>\n",
       "      <td>concatenation</td>\n",
       "      <td>64</td>\n",
       "      <td>7</td>\n",
       "    </tr>\n",
       "    <tr>\n",
       "      <th>0</th>\n",
       "      <td>None</td>\n",
       "      <td>0.647318</td>\n",
       "      <td>0.399375</td>\n",
       "      <td>[0.7825976338888183, 0.267590618336887, 0.1479...</td>\n",
       "      <td>0.472165</td>\n",
       "      <td>[0.6986145809675222, 0.37801204819277107, 0.33...</td>\n",
       "      <td>0.397058</td>\n",
       "      <td>[0.8895315211104685, 0.2070957095709571, 0.094...</td>\n",
       "      <td>None</td>\n",
       "      <td>0.648362</td>\n",
       "      <td>...</td>\n",
       "      <td>1</td>\n",
       "      <td>focal</td>\n",
       "      <td>2</td>\n",
       "      <td>True</td>\n",
       "      <td>5</td>\n",
       "      <td>Conv1d</td>\n",
       "      <td>None</td>\n",
       "      <td>concatenation</td>\n",
       "      <td>64</td>\n",
       "      <td>8</td>\n",
       "    </tr>\n",
       "    <tr>\n",
       "      <th>0</th>\n",
       "      <td>None</td>\n",
       "      <td>0.637165</td>\n",
       "      <td>0.396842</td>\n",
       "      <td>[0.7733094262295083, 0.26421052631578945, 0.15...</td>\n",
       "      <td>0.455514</td>\n",
       "      <td>[0.6940229885057472, 0.3648255813953488, 0.307...</td>\n",
       "      <td>0.393987</td>\n",
       "      <td>[0.873048004626952, 0.2070957095709571, 0.1018...</td>\n",
       "      <td>None</td>\n",
       "      <td>0.647399</td>\n",
       "      <td>...</td>\n",
       "      <td>12</td>\n",
       "      <td>focal</td>\n",
       "      <td>2</td>\n",
       "      <td>True</td>\n",
       "      <td>5</td>\n",
       "      <td>Conv1d</td>\n",
       "      <td>None</td>\n",
       "      <td>concatenation</td>\n",
       "      <td>64</td>\n",
       "      <td>8</td>\n",
       "    </tr>\n",
       "    <tr>\n",
       "      <th>0</th>\n",
       "      <td>None</td>\n",
       "      <td>0.666092</td>\n",
       "      <td>0.443397</td>\n",
       "      <td>[0.7932566649242028, 0.3720703125, 0.164864864...</td>\n",
       "      <td>0.500149</td>\n",
       "      <td>[0.723652837386743, 0.4557416267942584, 0.3210...</td>\n",
       "      <td>0.434313</td>\n",
       "      <td>[0.8776749566223251, 0.31435643564356436, 0.11...</td>\n",
       "      <td>None</td>\n",
       "      <td>0.652858</td>\n",
       "      <td>...</td>\n",
       "      <td>123</td>\n",
       "      <td>focal</td>\n",
       "      <td>2</td>\n",
       "      <td>True</td>\n",
       "      <td>5</td>\n",
       "      <td>Conv1d</td>\n",
       "      <td>None</td>\n",
       "      <td>concatenation</td>\n",
       "      <td>64</td>\n",
       "      <td>8</td>\n",
       "    </tr>\n",
       "    <tr>\n",
       "      <th>0</th>\n",
       "      <td>None</td>\n",
       "      <td>0.648659</td>\n",
       "      <td>0.519057</td>\n",
       "      <td>[0.7695522388059701, 0.47811695476278043, 0.30...</td>\n",
       "      <td>0.520655</td>\n",
       "      <td>[0.7951881554595929, 0.43132050431320507, 0.33...</td>\n",
       "      <td>0.523031</td>\n",
       "      <td>[0.7455176402544823, 0.5363036303630363, 0.287...</td>\n",
       "      <td>None</td>\n",
       "      <td>0.660244</td>\n",
       "      <td>...</td>\n",
       "      <td>1</td>\n",
       "      <td>focal</td>\n",
       "      <td>2</td>\n",
       "      <td>True</td>\n",
       "      <td>5</td>\n",
       "      <td>Conv1d</td>\n",
       "      <td>None</td>\n",
       "      <td>concatenation</td>\n",
       "      <td>64</td>\n",
       "      <td>9</td>\n",
       "    </tr>\n",
       "    <tr>\n",
       "      <th>0</th>\n",
       "      <td>None</td>\n",
       "      <td>0.654981</td>\n",
       "      <td>0.479685</td>\n",
       "      <td>[0.7842278203723987, 0.39274376417233564, 0.26...</td>\n",
       "      <td>0.500311</td>\n",
       "      <td>[0.7446697867914717, 0.43605236656596175, 0.32...</td>\n",
       "      <td>0.469101</td>\n",
       "      <td>[0.8282244071717756, 0.3572607260726073, 0.221...</td>\n",
       "      <td>None</td>\n",
       "      <td>0.659281</td>\n",
       "      <td>...</td>\n",
       "      <td>12</td>\n",
       "      <td>focal</td>\n",
       "      <td>2</td>\n",
       "      <td>True</td>\n",
       "      <td>5</td>\n",
       "      <td>Conv1d</td>\n",
       "      <td>None</td>\n",
       "      <td>concatenation</td>\n",
       "      <td>64</td>\n",
       "      <td>9</td>\n",
       "    </tr>\n",
       "    <tr>\n",
       "      <th>0</th>\n",
       "      <td>None</td>\n",
       "      <td>0.660536</td>\n",
       "      <td>0.478709</td>\n",
       "      <td>[0.7867727771679475, 0.41376380628717074, 0.23...</td>\n",
       "      <td>0.518014</td>\n",
       "      <td>[0.7485639686684074, 0.4264448336252189, 0.379...</td>\n",
       "      <td>0.467272</td>\n",
       "      <td>[0.8290919606709081, 0.4018151815181518, 0.170...</td>\n",
       "      <td>None</td>\n",
       "      <td>0.677746</td>\n",
       "      <td>...</td>\n",
       "      <td>123</td>\n",
       "      <td>focal</td>\n",
       "      <td>2</td>\n",
       "      <td>True</td>\n",
       "      <td>5</td>\n",
       "      <td>Conv1d</td>\n",
       "      <td>None</td>\n",
       "      <td>concatenation</td>\n",
       "      <td>64</td>\n",
       "      <td>9</td>\n",
       "    </tr>\n",
       "    <tr>\n",
       "      <th>0</th>\n",
       "      <td>None</td>\n",
       "      <td>0.645594</td>\n",
       "      <td>0.411617</td>\n",
       "      <td>[0.780550223928343, 0.267529665587918, 0.18677...</td>\n",
       "      <td>0.470703</td>\n",
       "      <td>[0.7000229515721828, 0.3862928348909657, 0.325...</td>\n",
       "      <td>0.405847</td>\n",
       "      <td>[0.8820127241179873, 0.20462046204620463, 0.13...</td>\n",
       "      <td>None</td>\n",
       "      <td>0.656230</td>\n",
       "      <td>...</td>\n",
       "      <td>1</td>\n",
       "      <td>focal</td>\n",
       "      <td>2</td>\n",
       "      <td>True</td>\n",
       "      <td>5</td>\n",
       "      <td>Conv1d</td>\n",
       "      <td>None</td>\n",
       "      <td>concatenation</td>\n",
       "      <td>64</td>\n",
       "      <td>10</td>\n",
       "    </tr>\n",
       "    <tr>\n",
       "      <th>0</th>\n",
       "      <td>None</td>\n",
       "      <td>0.658621</td>\n",
       "      <td>0.343342</td>\n",
       "      <td>[0.7903520526251675, 0.22901678657074337, 0.01...</td>\n",
       "      <td>0.444144</td>\n",
       "      <td>[0.6828036202904652, 0.41885964912280704, 0.23...</td>\n",
       "      <td>0.367053</td>\n",
       "      <td>[0.9381145170618855, 0.15759075907590758, 0.00...</td>\n",
       "      <td>None</td>\n",
       "      <td>0.648683</td>\n",
       "      <td>...</td>\n",
       "      <td>12</td>\n",
       "      <td>focal</td>\n",
       "      <td>2</td>\n",
       "      <td>True</td>\n",
       "      <td>5</td>\n",
       "      <td>Conv1d</td>\n",
       "      <td>None</td>\n",
       "      <td>concatenation</td>\n",
       "      <td>64</td>\n",
       "      <td>10</td>\n",
       "    </tr>\n",
       "    <tr>\n",
       "      <th>0</th>\n",
       "      <td>None</td>\n",
       "      <td>0.666475</td>\n",
       "      <td>0.464719</td>\n",
       "      <td>[0.8010009219017518, 0.32863849765258213, 0.26...</td>\n",
       "      <td>0.501974</td>\n",
       "      <td>[0.7354292623941959, 0.44680851063829785, 0.32...</td>\n",
       "      <td>0.454316</td>\n",
       "      <td>[0.8794100636205899, 0.2599009900990099, 0.223...</td>\n",
       "      <td>None</td>\n",
       "      <td>0.663777</td>\n",
       "      <td>...</td>\n",
       "      <td>123</td>\n",
       "      <td>focal</td>\n",
       "      <td>2</td>\n",
       "      <td>True</td>\n",
       "      <td>5</td>\n",
       "      <td>Conv1d</td>\n",
       "      <td>None</td>\n",
       "      <td>concatenation</td>\n",
       "      <td>64</td>\n",
       "      <td>10</td>\n",
       "    </tr>\n",
       "    <tr>\n",
       "      <th>0</th>\n",
       "      <td>None</td>\n",
       "      <td>0.643487</td>\n",
       "      <td>0.343670</td>\n",
       "      <td>[0.7791214215202369, 0.22158438576349027, 0.03...</td>\n",
       "      <td>0.416069</td>\n",
       "      <td>[0.6795092552733534, 0.3641509433962264, 0.204...</td>\n",
       "      <td>0.362853</td>\n",
       "      <td>[0.9129554655870445, 0.15924092409240925, 0.01...</td>\n",
       "      <td>None</td>\n",
       "      <td>0.645633</td>\n",
       "      <td>...</td>\n",
       "      <td>1</td>\n",
       "      <td>focal</td>\n",
       "      <td>2</td>\n",
       "      <td>True</td>\n",
       "      <td>5</td>\n",
       "      <td>Conv1d</td>\n",
       "      <td>None</td>\n",
       "      <td>concatenation</td>\n",
       "      <td>64</td>\n",
       "      <td>11</td>\n",
       "    </tr>\n",
       "    <tr>\n",
       "      <th>0</th>\n",
       "      <td>None</td>\n",
       "      <td>0.651341</td>\n",
       "      <td>0.323088</td>\n",
       "      <td>[0.7865437567341076, 0.13704206241519673, 0.04...</td>\n",
       "      <td>0.426270</td>\n",
       "      <td>[0.6710929519918284, 0.38549618320610685, 0.22...</td>\n",
       "      <td>0.352920</td>\n",
       "      <td>[0.949971081550029, 0.08333333333333333, 0.025...</td>\n",
       "      <td>None</td>\n",
       "      <td>0.635999</td>\n",
       "      <td>...</td>\n",
       "      <td>12</td>\n",
       "      <td>focal</td>\n",
       "      <td>2</td>\n",
       "      <td>True</td>\n",
       "      <td>5</td>\n",
       "      <td>Conv1d</td>\n",
       "      <td>None</td>\n",
       "      <td>concatenation</td>\n",
       "      <td>64</td>\n",
       "      <td>11</td>\n",
       "    </tr>\n",
       "    <tr>\n",
       "      <th>0</th>\n",
       "      <td>None</td>\n",
       "      <td>0.631992</td>\n",
       "      <td>0.316047</td>\n",
       "      <td>[0.775500184116853, 0.1628045157456922, 0.0098...</td>\n",
       "      <td>0.338192</td>\n",
       "      <td>[0.6737044145873321, 0.2908704883227176, 0.05]</td>\n",
       "      <td>0.344008</td>\n",
       "      <td>[0.9135338345864662, 0.11303630363036303, 0.00...</td>\n",
       "      <td>None</td>\n",
       "      <td>0.633109</td>\n",
       "      <td>...</td>\n",
       "      <td>123</td>\n",
       "      <td>focal</td>\n",
       "      <td>2</td>\n",
       "      <td>True</td>\n",
       "      <td>5</td>\n",
       "      <td>Conv1d</td>\n",
       "      <td>None</td>\n",
       "      <td>concatenation</td>\n",
       "      <td>64</td>\n",
       "      <td>11</td>\n",
       "    </tr>\n",
       "    <tr>\n",
       "      <th>0</th>\n",
       "      <td>None</td>\n",
       "      <td>0.654215</td>\n",
       "      <td>0.522968</td>\n",
       "      <td>[0.777142857142857, 0.4658085277554304, 0.3259...</td>\n",
       "      <td>0.519969</td>\n",
       "      <td>[0.7876447876447876, 0.45447409733124017, 0.31...</td>\n",
       "      <td>0.526395</td>\n",
       "      <td>[0.7669172932330827, 0.4777227722772277, 0.334...</td>\n",
       "      <td>None</td>\n",
       "      <td>0.661689</td>\n",
       "      <td>...</td>\n",
       "      <td>1</td>\n",
       "      <td>focal</td>\n",
       "      <td>2</td>\n",
       "      <td>True</td>\n",
       "      <td>5</td>\n",
       "      <td>Conv1d</td>\n",
       "      <td>None</td>\n",
       "      <td>concatenation</td>\n",
       "      <td>64</td>\n",
       "      <td>12</td>\n",
       "    </tr>\n",
       "    <tr>\n",
       "      <th>0</th>\n",
       "      <td>None</td>\n",
       "      <td>0.632950</td>\n",
       "      <td>0.463564</td>\n",
       "      <td>[0.7676046671242278, 0.34180790960451973, 0.28...</td>\n",
       "      <td>0.476693</td>\n",
       "      <td>[0.7305983799320617, 0.3980263157894737, 0.301...</td>\n",
       "      <td>0.457234</td>\n",
       "      <td>[0.8085598611914402, 0.2995049504950495, 0.263...</td>\n",
       "      <td>None</td>\n",
       "      <td>0.658960</td>\n",
       "      <td>...</td>\n",
       "      <td>12</td>\n",
       "      <td>focal</td>\n",
       "      <td>2</td>\n",
       "      <td>True</td>\n",
       "      <td>5</td>\n",
       "      <td>Conv1d</td>\n",
       "      <td>None</td>\n",
       "      <td>concatenation</td>\n",
       "      <td>64</td>\n",
       "      <td>12</td>\n",
       "    </tr>\n",
       "    <tr>\n",
       "      <th>0</th>\n",
       "      <td>None</td>\n",
       "      <td>0.638697</td>\n",
       "      <td>0.502305</td>\n",
       "      <td>[0.7702996092053843, 0.4075021312872975, 0.329...</td>\n",
       "      <td>0.499895</td>\n",
       "      <td>[0.771080846131556, 0.42151675485008816, 0.307...</td>\n",
       "      <td>0.506152</td>\n",
       "      <td>[0.7695199537304801, 0.3943894389438944, 0.354...</td>\n",
       "      <td>None</td>\n",
       "      <td>0.660726</td>\n",
       "      <td>...</td>\n",
       "      <td>123</td>\n",
       "      <td>focal</td>\n",
       "      <td>2</td>\n",
       "      <td>True</td>\n",
       "      <td>5</td>\n",
       "      <td>Conv1d</td>\n",
       "      <td>None</td>\n",
       "      <td>concatenation</td>\n",
       "      <td>64</td>\n",
       "      <td>12</td>\n",
       "    </tr>\n",
       "    <tr>\n",
       "      <th>0</th>\n",
       "      <td>None</td>\n",
       "      <td>0.653065</td>\n",
       "      <td>0.509337</td>\n",
       "      <td>[0.7795004306632214, 0.4400998336106489, 0.308...</td>\n",
       "      <td>0.511682</td>\n",
       "      <td>[0.773945267958951, 0.4437919463087248, 0.3173...</td>\n",
       "      <td>0.507202</td>\n",
       "      <td>[0.785135916714864, 0.43646864686468645, 0.3]</td>\n",
       "      <td>None</td>\n",
       "      <td>0.665382</td>\n",
       "      <td>...</td>\n",
       "      <td>1</td>\n",
       "      <td>focal</td>\n",
       "      <td>2</td>\n",
       "      <td>True</td>\n",
       "      <td>5</td>\n",
       "      <td>Conv1d</td>\n",
       "      <td>None</td>\n",
       "      <td>concatenation</td>\n",
       "      <td>64</td>\n",
       "      <td>13</td>\n",
       "    </tr>\n",
       "    <tr>\n",
       "      <th>0</th>\n",
       "      <td>None</td>\n",
       "      <td>0.629119</td>\n",
       "      <td>0.381939</td>\n",
       "      <td>[0.7754891864057673, 0.23188405797101447, 0.13...</td>\n",
       "      <td>0.415618</td>\n",
       "      <td>[0.6988399071925754, 0.3317972350230415, 0.216...</td>\n",
       "      <td>0.383687</td>\n",
       "      <td>[0.8710237131289763, 0.1782178217821782, 0.101...</td>\n",
       "      <td>None</td>\n",
       "      <td>0.651734</td>\n",
       "      <td>...</td>\n",
       "      <td>12</td>\n",
       "      <td>focal</td>\n",
       "      <td>2</td>\n",
       "      <td>True</td>\n",
       "      <td>5</td>\n",
       "      <td>Conv1d</td>\n",
       "      <td>None</td>\n",
       "      <td>concatenation</td>\n",
       "      <td>64</td>\n",
       "      <td>13</td>\n",
       "    </tr>\n",
       "    <tr>\n",
       "      <th>0</th>\n",
       "      <td>None</td>\n",
       "      <td>0.658429</td>\n",
       "      <td>0.511370</td>\n",
       "      <td>[0.7862108100439779, 0.425974025974026, 0.3219...</td>\n",
       "      <td>0.515807</td>\n",
       "      <td>[0.771651350598719, 0.44808743169398907, 0.327...</td>\n",
       "      <td>0.507878</td>\n",
       "      <td>[0.8013302486986698, 0.40594059405940597, 0.31...</td>\n",
       "      <td>None</td>\n",
       "      <td>0.667148</td>\n",
       "      <td>...</td>\n",
       "      <td>123</td>\n",
       "      <td>focal</td>\n",
       "      <td>2</td>\n",
       "      <td>True</td>\n",
       "      <td>5</td>\n",
       "      <td>Conv1d</td>\n",
       "      <td>None</td>\n",
       "      <td>concatenation</td>\n",
       "      <td>64</td>\n",
       "      <td>13</td>\n",
       "    </tr>\n",
       "    <tr>\n",
       "      <th>0</th>\n",
       "      <td>None</td>\n",
       "      <td>0.635824</td>\n",
       "      <td>0.438044</td>\n",
       "      <td>[0.7713393947618401, 0.34812580784144764, 0.19...</td>\n",
       "      <td>0.485320</td>\n",
       "      <td>[0.7266683712605472, 0.3642921550946799, 0.365]</td>\n",
       "      <td>0.429308</td>\n",
       "      <td>[0.8218623481781376, 0.3333333333333333, 0.132...</td>\n",
       "      <td>None</td>\n",
       "      <td>0.655106</td>\n",
       "      <td>...</td>\n",
       "      <td>1</td>\n",
       "      <td>focal</td>\n",
       "      <td>2</td>\n",
       "      <td>True</td>\n",
       "      <td>5</td>\n",
       "      <td>Conv1d</td>\n",
       "      <td>None</td>\n",
       "      <td>concatenation</td>\n",
       "      <td>64</td>\n",
       "      <td>14</td>\n",
       "    </tr>\n",
       "    <tr>\n",
       "      <th>0</th>\n",
       "      <td>None</td>\n",
       "      <td>0.654023</td>\n",
       "      <td>0.393501</td>\n",
       "      <td>[0.7848874189034474, 0.3099025141097999, 0.085...</td>\n",
       "      <td>0.482643</td>\n",
       "      <td>[0.7006586418351124, 0.4097693351424695, 0.3375]</td>\n",
       "      <td>0.396800</td>\n",
       "      <td>[0.8921341816078658, 0.24917491749174916, 0.04...</td>\n",
       "      <td>None</td>\n",
       "      <td>0.650289</td>\n",
       "      <td>...</td>\n",
       "      <td>12</td>\n",
       "      <td>focal</td>\n",
       "      <td>2</td>\n",
       "      <td>True</td>\n",
       "      <td>5</td>\n",
       "      <td>Conv1d</td>\n",
       "      <td>None</td>\n",
       "      <td>concatenation</td>\n",
       "      <td>64</td>\n",
       "      <td>14</td>\n",
       "    </tr>\n",
       "    <tr>\n",
       "      <th>0</th>\n",
       "      <td>None</td>\n",
       "      <td>0.641762</td>\n",
       "      <td>0.344658</td>\n",
       "      <td>[0.7809477164197379, 0.1633416458852868, 0.089...</td>\n",
       "      <td>0.421166</td>\n",
       "      <td>[0.6772138458271395, 0.33418367346938777, 0.25...</td>\n",
       "      <td>0.361614</td>\n",
       "      <td>[0.9222093695777906, 0.10808580858085809, 0.05...</td>\n",
       "      <td>None</td>\n",
       "      <td>0.646275</td>\n",
       "      <td>...</td>\n",
       "      <td>123</td>\n",
       "      <td>focal</td>\n",
       "      <td>2</td>\n",
       "      <td>True</td>\n",
       "      <td>5</td>\n",
       "      <td>Conv1d</td>\n",
       "      <td>None</td>\n",
       "      <td>concatenation</td>\n",
       "      <td>64</td>\n",
       "      <td>14</td>\n",
       "    </tr>\n",
       "    <tr>\n",
       "      <th>0</th>\n",
       "      <td>None</td>\n",
       "      <td>0.629502</td>\n",
       "      <td>0.469005</td>\n",
       "      <td>[0.7655811341942729, 0.36175710594315247, 0.27...</td>\n",
       "      <td>0.478435</td>\n",
       "      <td>[0.7438625204582652, 0.3783783783783784, 0.313...</td>\n",
       "      <td>0.462623</td>\n",
       "      <td>[0.7886061307113938, 0.3465346534653465, 0.252...</td>\n",
       "      <td>None</td>\n",
       "      <td>0.663937</td>\n",
       "      <td>...</td>\n",
       "      <td>1</td>\n",
       "      <td>focal</td>\n",
       "      <td>2</td>\n",
       "      <td>True</td>\n",
       "      <td>5</td>\n",
       "      <td>Conv1d</td>\n",
       "      <td>None</td>\n",
       "      <td>concatenation</td>\n",
       "      <td>64</td>\n",
       "      <td>15</td>\n",
       "    </tr>\n",
       "    <tr>\n",
       "      <th>0</th>\n",
       "      <td>None</td>\n",
       "      <td>0.651724</td>\n",
       "      <td>0.500679</td>\n",
       "      <td>[0.778815331010453, 0.39359267734553777, 0.329...</td>\n",
       "      <td>0.509821</td>\n",
       "      <td>[0.7516814635458703, 0.4419321685508736, 0.335...</td>\n",
       "      <td>0.495468</td>\n",
       "      <td>[0.8079814921920185, 0.3547854785478548, 0.323...</td>\n",
       "      <td>None</td>\n",
       "      <td>0.677425</td>\n",
       "      <td>...</td>\n",
       "      <td>12</td>\n",
       "      <td>focal</td>\n",
       "      <td>2</td>\n",
       "      <td>True</td>\n",
       "      <td>5</td>\n",
       "      <td>Conv1d</td>\n",
       "      <td>None</td>\n",
       "      <td>concatenation</td>\n",
       "      <td>64</td>\n",
       "      <td>15</td>\n",
       "    </tr>\n",
       "    <tr>\n",
       "      <th>0</th>\n",
       "      <td>None</td>\n",
       "      <td>0.656705</td>\n",
       "      <td>0.497497</td>\n",
       "      <td>[0.7857341877960433, 0.4110091743119265, 0.295...</td>\n",
       "      <td>0.507209</td>\n",
       "      <td>[0.7580645161290323, 0.4628099173553719, 0.300...</td>\n",
       "      <td>0.492015</td>\n",
       "      <td>[0.8155002891844997, 0.3696369636963696, 0.290...</td>\n",
       "      <td>None</td>\n",
       "      <td>0.667630</td>\n",
       "      <td>...</td>\n",
       "      <td>123</td>\n",
       "      <td>focal</td>\n",
       "      <td>2</td>\n",
       "      <td>True</td>\n",
       "      <td>5</td>\n",
       "      <td>Conv1d</td>\n",
       "      <td>None</td>\n",
       "      <td>concatenation</td>\n",
       "      <td>64</td>\n",
       "      <td>15</td>\n",
       "    </tr>\n",
       "    <tr>\n",
       "      <th>0</th>\n",
       "      <td>None</td>\n",
       "      <td>0.640805</td>\n",
       "      <td>0.459701</td>\n",
       "      <td>[0.7793235133660665, 0.3373831775700935, 0.262...</td>\n",
       "      <td>0.476772</td>\n",
       "      <td>[0.7374806401652039, 0.3890086206896552, 0.303...</td>\n",
       "      <td>0.451655</td>\n",
       "      <td>[0.8262001156737999, 0.2978547854785479, 0.230...</td>\n",
       "      <td>None</td>\n",
       "      <td>0.662331</td>\n",
       "      <td>...</td>\n",
       "      <td>1</td>\n",
       "      <td>focal</td>\n",
       "      <td>2</td>\n",
       "      <td>True</td>\n",
       "      <td>5</td>\n",
       "      <td>Conv1d</td>\n",
       "      <td>None</td>\n",
       "      <td>concatenation</td>\n",
       "      <td>64</td>\n",
       "      <td>16</td>\n",
       "    </tr>\n",
       "    <tr>\n",
       "      <th>0</th>\n",
       "      <td>None</td>\n",
       "      <td>0.620306</td>\n",
       "      <td>0.456276</td>\n",
       "      <td>[0.7695140954809462, 0.3260105448154657, 0.273...</td>\n",
       "      <td>0.458330</td>\n",
       "      <td>[0.7542349347403499, 0.34868421052631576, 0.27...</td>\n",
       "      <td>0.455359</td>\n",
       "      <td>[0.7854251012145749, 0.3061056105610561, 0.274...</td>\n",
       "      <td>None</td>\n",
       "      <td>0.660726</td>\n",
       "      <td>...</td>\n",
       "      <td>12</td>\n",
       "      <td>focal</td>\n",
       "      <td>2</td>\n",
       "      <td>True</td>\n",
       "      <td>5</td>\n",
       "      <td>Conv1d</td>\n",
       "      <td>None</td>\n",
       "      <td>concatenation</td>\n",
       "      <td>64</td>\n",
       "      <td>16</td>\n",
       "    </tr>\n",
       "    <tr>\n",
       "      <th>0</th>\n",
       "      <td>None</td>\n",
       "      <td>0.668008</td>\n",
       "      <td>0.421089</td>\n",
       "      <td>[0.7973938102994611, 0.26974063400576376, 0.19...</td>\n",
       "      <td>0.519660</td>\n",
       "      <td>[0.7035153659075835, 0.4474187380497132, 0.408...</td>\n",
       "      <td>0.414115</td>\n",
       "      <td>[0.9201850780798149, 0.19306930693069307, 0.12...</td>\n",
       "      <td>None</td>\n",
       "      <td>0.667148</td>\n",
       "      <td>...</td>\n",
       "      <td>123</td>\n",
       "      <td>focal</td>\n",
       "      <td>2</td>\n",
       "      <td>True</td>\n",
       "      <td>5</td>\n",
       "      <td>Conv1d</td>\n",
       "      <td>None</td>\n",
       "      <td>concatenation</td>\n",
       "      <td>64</td>\n",
       "      <td>16</td>\n",
       "    </tr>\n",
       "    <tr>\n",
       "      <th>0</th>\n",
       "      <td>None</td>\n",
       "      <td>0.648276</td>\n",
       "      <td>0.442242</td>\n",
       "      <td>[0.779321399946567, 0.3648960739030023, 0.1825...</td>\n",
       "      <td>0.479972</td>\n",
       "      <td>[0.724180734856008, 0.4144805876180483, 0.3012...</td>\n",
       "      <td>0.433456</td>\n",
       "      <td>[0.8435511856564488, 0.3259075907590759, 0.130...</td>\n",
       "      <td>None</td>\n",
       "      <td>0.652698</td>\n",
       "      <td>...</td>\n",
       "      <td>1</td>\n",
       "      <td>focal</td>\n",
       "      <td>2</td>\n",
       "      <td>True</td>\n",
       "      <td>5</td>\n",
       "      <td>Conv1d</td>\n",
       "      <td>None</td>\n",
       "      <td>concatenation</td>\n",
       "      <td>64</td>\n",
       "      <td>17</td>\n",
       "    </tr>\n",
       "    <tr>\n",
       "      <th>0</th>\n",
       "      <td>None</td>\n",
       "      <td>0.656130</td>\n",
       "      <td>0.457628</td>\n",
       "      <td>[0.7870282054775856, 0.40312771503040834, 0.18...</td>\n",
       "      <td>0.487666</td>\n",
       "      <td>[0.7441381087348622, 0.42568807339449544, 0.29...</td>\n",
       "      <td>0.450243</td>\n",
       "      <td>[0.8351648351648352, 0.38283828382838286, 0.13...</td>\n",
       "      <td>None</td>\n",
       "      <td>0.652216</td>\n",
       "      <td>...</td>\n",
       "      <td>12</td>\n",
       "      <td>focal</td>\n",
       "      <td>2</td>\n",
       "      <td>True</td>\n",
       "      <td>5</td>\n",
       "      <td>Conv1d</td>\n",
       "      <td>None</td>\n",
       "      <td>concatenation</td>\n",
       "      <td>64</td>\n",
       "      <td>17</td>\n",
       "    </tr>\n",
       "    <tr>\n",
       "      <th>0</th>\n",
       "      <td>None</td>\n",
       "      <td>0.639847</td>\n",
       "      <td>0.412263</td>\n",
       "      <td>[0.7738520576948525, 0.3403093721565059, 0.122...</td>\n",
       "      <td>0.467922</td>\n",
       "      <td>[0.7133447182239571, 0.3793103448275862, 0.311...</td>\n",
       "      <td>0.410173</td>\n",
       "      <td>[0.8455754771544245, 0.3085808580858086, 0.076...</td>\n",
       "      <td>None</td>\n",
       "      <td>0.651413</td>\n",
       "      <td>...</td>\n",
       "      <td>123</td>\n",
       "      <td>focal</td>\n",
       "      <td>2</td>\n",
       "      <td>True</td>\n",
       "      <td>5</td>\n",
       "      <td>Conv1d</td>\n",
       "      <td>None</td>\n",
       "      <td>concatenation</td>\n",
       "      <td>64</td>\n",
       "      <td>17</td>\n",
       "    </tr>\n",
       "  </tbody>\n",
       "</table>\n",
       "<p>54 rows × 49 columns</p>\n",
       "</div>"
      ],
      "text/plain": [
       "   loss  accuracy        f1  \\\n",
       "0  None  0.639272  0.379968   \n",
       "0  None  0.646360  0.357379   \n",
       "0  None  0.664368  0.429112   \n",
       "0  None  0.660536  0.343206   \n",
       "0  None  0.663793  0.342117   \n",
       "0  None  0.661877  0.364149   \n",
       "0  None  0.650575  0.290410   \n",
       "0  None  0.635441  0.316496   \n",
       "0  None  0.661877  0.314453   \n",
       "0  None  0.632759  0.497783   \n",
       "0  None  0.655556  0.438385   \n",
       "0  None  0.645977  0.524497   \n",
       "0  None  0.644444  0.487543   \n",
       "0  None  0.641571  0.443791   \n",
       "0  None  0.662452  0.458258   \n",
       "0  None  0.651916  0.355325   \n",
       "0  None  0.667433  0.310019   \n",
       "0  None  0.653831  0.298806   \n",
       "0  None  0.640996  0.501633   \n",
       "0  None  0.635824  0.483882   \n",
       "0  None  0.643870  0.463159   \n",
       "0  None  0.631418  0.480814   \n",
       "0  None  0.614559  0.452164   \n",
       "0  None  0.654789  0.450589   \n",
       "0  None  0.647318  0.399375   \n",
       "0  None  0.637165  0.396842   \n",
       "0  None  0.666092  0.443397   \n",
       "0  None  0.648659  0.519057   \n",
       "0  None  0.654981  0.479685   \n",
       "0  None  0.660536  0.478709   \n",
       "0  None  0.645594  0.411617   \n",
       "0  None  0.658621  0.343342   \n",
       "0  None  0.666475  0.464719   \n",
       "0  None  0.643487  0.343670   \n",
       "0  None  0.651341  0.323088   \n",
       "0  None  0.631992  0.316047   \n",
       "0  None  0.654215  0.522968   \n",
       "0  None  0.632950  0.463564   \n",
       "0  None  0.638697  0.502305   \n",
       "0  None  0.653065  0.509337   \n",
       "0  None  0.629119  0.381939   \n",
       "0  None  0.658429  0.511370   \n",
       "0  None  0.635824  0.438044   \n",
       "0  None  0.654023  0.393501   \n",
       "0  None  0.641762  0.344658   \n",
       "0  None  0.629502  0.469005   \n",
       "0  None  0.651724  0.500679   \n",
       "0  None  0.656705  0.497497   \n",
       "0  None  0.640805  0.459701   \n",
       "0  None  0.620306  0.456276   \n",
       "0  None  0.668008  0.421089   \n",
       "0  None  0.648276  0.442242   \n",
       "0  None  0.656130  0.457628   \n",
       "0  None  0.639847  0.412263   \n",
       "\n",
       "                                           f1_scores  precision  \\\n",
       "0  [0.781563126252505, 0.17167381974248927, 0.186...   0.434493   \n",
       "0  [0.7850030731407499, 0.1751824817518248, 0.111...   0.449790   \n",
       "0  [0.7986339488995698, 0.24816625916870413, 0.24...   0.499625   \n",
       "0  [0.7958393807450411, 0.17963314358001262, 0.05...   0.486353   \n",
       "0  [0.7957196104364556, 0.18656229615133724, 0.04...   0.483829   \n",
       "0  [0.7981106939566428, 0.14555256064690025, 0.14...   0.477551   \n",
       "0      [0.788422917897224, 0.08280701754385965, 0.0]   0.314487   \n",
       "0  [0.777133188300701, 0.10774410774410774, 0.064...   0.376182   \n",
       "0      [0.793737397698968, 0.14962251201098148, 0.0]   0.372577   \n",
       "0  [0.7643330876934413, 0.42455043002345577, 0.30...   0.496033   \n",
       "0  [0.7834461218115566, 0.342451874366768, 0.1892...   0.491598   \n",
       "0  [0.7671355881472613, 0.4753086419753086, 0.331...   0.518221   \n",
       "0  [0.7734275618374556, 0.410958904109589, 0.2782...   0.499183   \n",
       "0  [0.7748947153919304, 0.3657487091222031, 0.190...   0.488045   \n",
       "0  [0.7900494920552227, 0.3338615953512942, 0.250...   0.508146   \n",
       "0  [0.7847256549678695, 0.24688561721404303, 0.03...   0.463718   \n",
       "0  [0.7972782731112154, 0.12196914033798677, 0.01...   0.609264   \n",
       "0     [0.7890255439924314, 0.10739191073919108, 0.0]   0.338105   \n",
       "0  [0.7728980063565443, 0.41081994928148774, 0.32...   0.500227   \n",
       "0  [0.7703430677629715, 0.38400702987697716, 0.29...   0.486973   \n",
       "0  [0.7765386204047914, 0.38260869565217387, 0.23...   0.484803   \n",
       "0  [0.7637568424085277, 0.40586603250099085, 0.27...   0.488130   \n",
       "0  [0.7449723112795104, 0.4165144318597004, 0.195...   0.468813   \n",
       "0  [0.7906170864987339, 0.3494387506100537, 0.211...   0.479692   \n",
       "0  [0.7825976338888183, 0.267590618336887, 0.1479...   0.472165   \n",
       "0  [0.7733094262295083, 0.26421052631578945, 0.15...   0.455514   \n",
       "0  [0.7932566649242028, 0.3720703125, 0.164864864...   0.500149   \n",
       "0  [0.7695522388059701, 0.47811695476278043, 0.30...   0.520655   \n",
       "0  [0.7842278203723987, 0.39274376417233564, 0.26...   0.500311   \n",
       "0  [0.7867727771679475, 0.41376380628717074, 0.23...   0.518014   \n",
       "0  [0.780550223928343, 0.267529665587918, 0.18677...   0.470703   \n",
       "0  [0.7903520526251675, 0.22901678657074337, 0.01...   0.444144   \n",
       "0  [0.8010009219017518, 0.32863849765258213, 0.26...   0.501974   \n",
       "0  [0.7791214215202369, 0.22158438576349027, 0.03...   0.416069   \n",
       "0  [0.7865437567341076, 0.13704206241519673, 0.04...   0.426270   \n",
       "0  [0.775500184116853, 0.1628045157456922, 0.0098...   0.338192   \n",
       "0  [0.777142857142857, 0.4658085277554304, 0.3259...   0.519969   \n",
       "0  [0.7676046671242278, 0.34180790960451973, 0.28...   0.476693   \n",
       "0  [0.7702996092053843, 0.4075021312872975, 0.329...   0.499895   \n",
       "0  [0.7795004306632214, 0.4400998336106489, 0.308...   0.511682   \n",
       "0  [0.7754891864057673, 0.23188405797101447, 0.13...   0.415618   \n",
       "0  [0.7862108100439779, 0.425974025974026, 0.3219...   0.515807   \n",
       "0  [0.7713393947618401, 0.34812580784144764, 0.19...   0.485320   \n",
       "0  [0.7848874189034474, 0.3099025141097999, 0.085...   0.482643   \n",
       "0  [0.7809477164197379, 0.1633416458852868, 0.089...   0.421166   \n",
       "0  [0.7655811341942729, 0.36175710594315247, 0.27...   0.478435   \n",
       "0  [0.778815331010453, 0.39359267734553777, 0.329...   0.509821   \n",
       "0  [0.7857341877960433, 0.4110091743119265, 0.295...   0.507209   \n",
       "0  [0.7793235133660665, 0.3373831775700935, 0.262...   0.476772   \n",
       "0  [0.7695140954809462, 0.3260105448154657, 0.273...   0.458330   \n",
       "0  [0.7973938102994611, 0.26974063400576376, 0.19...   0.519660   \n",
       "0  [0.779321399946567, 0.3648960739030023, 0.1825...   0.479972   \n",
       "0  [0.7870282054775856, 0.40312771503040834, 0.18...   0.487666   \n",
       "0  [0.7738520576948525, 0.3403093721565059, 0.122...   0.467922   \n",
       "\n",
       "                                    precision_scores    recall  \\\n",
       "0       [0.68935041979673, 0.3341288782816229, 0.28]  0.385922   \n",
       "0  [0.6827025871285012, 0.3333333333333333, 0.333...  0.369817   \n",
       "0  [0.7097571942446043, 0.47877358490566035, 0.31...  0.425604   \n",
       "0  [0.683991683991684, 0.38482384823848237, 0.390...  0.365890   \n",
       "0    [0.6810043218769294, 0.4454828660436137, 0.325]  0.366178   \n",
       "0  [0.686601375286518, 0.39705882352941174, 0.348...  0.378839   \n",
       "0     [0.6664669462752147, 0.27699530516431925, 0.0]  0.337896   \n",
       "0  [0.6675664451827242, 0.29304029304029305, 0.16...  0.345245   \n",
       "0      [0.6728332998190227, 0.4448979591836735, 0.0]  0.352515   \n",
       "0  [0.7793808235647731, 0.4034175334323923, 0.305...  0.500504   \n",
       "0  [0.7122574538570753, 0.4435695538057743, 0.318...  0.427956   \n",
       "0  [0.7949751861042184, 0.4463768115942029, 0.313...  0.533447   \n",
       "0  [0.7564279789881116, 0.41353383458646614, 0.32...  0.480481   \n",
       "0  [0.7307199590058929, 0.38219424460431656, 0.35...  0.435441   \n",
       "0  [0.7187203791469194, 0.46402349486049926, 0.34...  0.445335   \n",
       "0   [0.6851532153646958, 0.3935018050541516, 0.3125]  0.372070   \n",
       "0       [0.670746150809317, 0.5570469798657718, 0.6]  0.352195   \n",
       "0     [0.6674669867947179, 0.34684684684684686, 0.0]  0.342750   \n",
       "0  [0.7722286374133949, 0.42114384748700173, 0.30...  0.503641   \n",
       "0  [0.7555617352614016, 0.4107142857142857, 0.294...  0.482092   \n",
       "0  [0.7411300919842313, 0.40441176470588236, 0.30...  0.454058   \n",
       "0  [0.7609070034443168, 0.3905415713196034, 0.312...  0.476963   \n",
       "0  [0.7508813160987075, 0.3737704918032787, 0.281...  0.452848   \n",
       "0  [0.7332509270704574, 0.42771804062126645, 0.27...  0.441337   \n",
       "0  [0.6986145809675222, 0.37801204819277107, 0.33...  0.397058   \n",
       "0  [0.6940229885057472, 0.3648255813953488, 0.307...  0.393987   \n",
       "0  [0.723652837386743, 0.4557416267942584, 0.3210...  0.434313   \n",
       "0  [0.7951881554595929, 0.43132050431320507, 0.33...  0.523031   \n",
       "0  [0.7446697867914717, 0.43605236656596175, 0.32...  0.469101   \n",
       "0  [0.7485639686684074, 0.4264448336252189, 0.379...  0.467272   \n",
       "0  [0.7000229515721828, 0.3862928348909657, 0.325...  0.405847   \n",
       "0  [0.6828036202904652, 0.41885964912280704, 0.23...  0.367053   \n",
       "0  [0.7354292623941959, 0.44680851063829785, 0.32...  0.454316   \n",
       "0  [0.6795092552733534, 0.3641509433962264, 0.204...  0.362853   \n",
       "0  [0.6710929519918284, 0.38549618320610685, 0.22...  0.352920   \n",
       "0     [0.6737044145873321, 0.2908704883227176, 0.05]  0.344008   \n",
       "0  [0.7876447876447876, 0.45447409733124017, 0.31...  0.526395   \n",
       "0  [0.7305983799320617, 0.3980263157894737, 0.301...  0.457234   \n",
       "0  [0.771080846131556, 0.42151675485008816, 0.307...  0.506152   \n",
       "0  [0.773945267958951, 0.4437919463087248, 0.3173...  0.507202   \n",
       "0  [0.6988399071925754, 0.3317972350230415, 0.216...  0.383687   \n",
       "0  [0.771651350598719, 0.44808743169398907, 0.327...  0.507878   \n",
       "0    [0.7266683712605472, 0.3642921550946799, 0.365]  0.429308   \n",
       "0   [0.7006586418351124, 0.4097693351424695, 0.3375]  0.396800   \n",
       "0  [0.6772138458271395, 0.33418367346938777, 0.25...  0.361614   \n",
       "0  [0.7438625204582652, 0.3783783783783784, 0.313...  0.462623   \n",
       "0  [0.7516814635458703, 0.4419321685508736, 0.335...  0.495468   \n",
       "0  [0.7580645161290323, 0.4628099173553719, 0.300...  0.492015   \n",
       "0  [0.7374806401652039, 0.3890086206896552, 0.303...  0.451655   \n",
       "0  [0.7542349347403499, 0.34868421052631576, 0.27...  0.455359   \n",
       "0  [0.7035153659075835, 0.4474187380497132, 0.408...  0.414115   \n",
       "0  [0.724180734856008, 0.4144805876180483, 0.3012...  0.433456   \n",
       "0  [0.7441381087348622, 0.42568807339449544, 0.29...  0.450243   \n",
       "0  [0.7133447182239571, 0.3793103448275862, 0.311...  0.410173   \n",
       "\n",
       "                                       recall_scores valid_loss  \\\n",
       "0    [0.9022556390977443, 0.11551155115511551, 0.14]       None   \n",
       "0  [0.9233661075766338, 0.1188118811881188, 0.067...       None   \n",
       "0  [0.9129554655870445, 0.1674917491749175, 0.196...       None   \n",
       "0  [0.951417004048583, 0.11716171617161716, 0.029...       None   \n",
       "0  [0.9569115095430885, 0.11798679867986799, 0.02...       None   \n",
       "0  [0.9528629265471371, 0.0891089108910891, 0.094...       None   \n",
       "0     [0.9650086755349914, 0.04867986798679868, 0.0]       None   \n",
       "0      [0.9297281665702718, 0.066006600660066, 0.04]       None   \n",
       "0     [0.9676113360323887, 0.08993399339933994, 0.0]       None   \n",
       "0  [0.7498554077501446, 0.44801980198019803, 0.30...       None   \n",
       "0  [0.8704453441295547, 0.27887788778877887, 0.13...       None   \n",
       "0  [0.7411798727588201, 0.5082508250825083, 0.350...       None   \n",
       "0  [0.7912087912087912, 0.4084158415841584, 0.241...       None   \n",
       "0  [0.8247541931752458, 0.35066006600660066, 0.13...       None   \n",
       "0  [0.8770965876229034, 0.2607260726072607, 0.198...       None   \n",
       "0  [0.9181607865818392, 0.17986798679867988, 0.01...       None   \n",
       "0  [0.9826489300173511, 0.06848184818481848, 0.00...       None   \n",
       "0     [0.9647194910352805, 0.06353135313531354, 0.0]       None   \n",
       "0  [0.7735685367264314, 0.400990099009901, 0.3363...       None   \n",
       "0     [0.7857142857142857, 0.36056105610561057, 0.3]       None   \n",
       "0  [0.8155002891844997, 0.36303630363036304, 0.18...       None   \n",
       "0  [0.7666281087333718, 0.42244224422442245, 0.24...       None   \n",
       "0  [0.7391555812608445, 0.47029702970297027, 0.14...       None   \n",
       "0  [0.8577212261422787, 0.2953795379537954, 0.170...       None   \n",
       "0  [0.8895315211104685, 0.2070957095709571, 0.094...       None   \n",
       "0  [0.873048004626952, 0.2070957095709571, 0.1018...       None   \n",
       "0  [0.8776749566223251, 0.31435643564356436, 0.11...       None   \n",
       "0  [0.7455176402544823, 0.5363036303630363, 0.287...       None   \n",
       "0  [0.8282244071717756, 0.3572607260726073, 0.221...       None   \n",
       "0  [0.8290919606709081, 0.4018151815181518, 0.170...       None   \n",
       "0  [0.8820127241179873, 0.20462046204620463, 0.13...       None   \n",
       "0  [0.9381145170618855, 0.15759075907590758, 0.00...       None   \n",
       "0  [0.8794100636205899, 0.2599009900990099, 0.223...       None   \n",
       "0  [0.9129554655870445, 0.15924092409240925, 0.01...       None   \n",
       "0  [0.949971081550029, 0.08333333333333333, 0.025...       None   \n",
       "0  [0.9135338345864662, 0.11303630363036303, 0.00...       None   \n",
       "0  [0.7669172932330827, 0.4777227722772277, 0.334...       None   \n",
       "0  [0.8085598611914402, 0.2995049504950495, 0.263...       None   \n",
       "0  [0.7695199537304801, 0.3943894389438944, 0.354...       None   \n",
       "0      [0.785135916714864, 0.43646864686468645, 0.3]       None   \n",
       "0  [0.8710237131289763, 0.1782178217821782, 0.101...       None   \n",
       "0  [0.8013302486986698, 0.40594059405940597, 0.31...       None   \n",
       "0  [0.8218623481781376, 0.3333333333333333, 0.132...       None   \n",
       "0  [0.8921341816078658, 0.24917491749174916, 0.04...       None   \n",
       "0  [0.9222093695777906, 0.10808580858085809, 0.05...       None   \n",
       "0  [0.7886061307113938, 0.3465346534653465, 0.252...       None   \n",
       "0  [0.8079814921920185, 0.3547854785478548, 0.323...       None   \n",
       "0  [0.8155002891844997, 0.3696369636963696, 0.290...       None   \n",
       "0  [0.8262001156737999, 0.2978547854785479, 0.230...       None   \n",
       "0  [0.7854251012145749, 0.3061056105610561, 0.274...       None   \n",
       "0  [0.9201850780798149, 0.19306930693069307, 0.12...       None   \n",
       "0  [0.8435511856564488, 0.3259075907590759, 0.130...       None   \n",
       "0  [0.8351648351648352, 0.38283828382838286, 0.13...       None   \n",
       "0  [0.8455754771544245, 0.3085808580858086, 0.076...       None   \n",
       "\n",
       "   valid_accuracy  ...  seed loss_function  gamma k_fold  n_splits  \\\n",
       "0        0.646114  ...     1         focal      2   True         5   \n",
       "0        0.653500  ...    12         focal      2   True         5   \n",
       "0        0.656872  ...   123         focal      2   True         5   \n",
       "0        0.648041  ...     1         focal      2   True         5   \n",
       "0        0.648362  ...    12         focal      2   True         5   \n",
       "0        0.655267  ...   123         focal      2   True         5   \n",
       "0        0.640013  ...     1         focal      2   True         5   \n",
       "0        0.631342  ...    12         focal      2   True         5   \n",
       "0        0.642582  ...   123         focal      2   True         5   \n",
       "0        0.654785  ...     1         focal      2   True         5   \n",
       "0        0.662010  ...    12         focal      2   True         5   \n",
       "0        0.664740  ...   123         focal      2   True         5   \n",
       "0        0.669075  ...     1         focal      2   True         5   \n",
       "0        0.665382  ...    12         focal      2   True         5   \n",
       "0        0.658157  ...   123         focal      2   True         5   \n",
       "0        0.641618  ...     1         focal      2   True         5   \n",
       "0        0.644027  ...    12         focal      2   True         5   \n",
       "0        0.643545  ...   123         focal      2   True         5   \n",
       "0        0.662331  ...     1         focal      2   True         5   \n",
       "0        0.665382  ...    12         focal      2   True         5   \n",
       "0        0.652376  ...   123         focal      2   True         5   \n",
       "0        0.653019  ...     1         focal      2   True         5   \n",
       "0        0.630861  ...    12         focal      2   True         5   \n",
       "0        0.665864  ...   123         focal      2   True         5   \n",
       "0        0.648362  ...     1         focal      2   True         5   \n",
       "0        0.647399  ...    12         focal      2   True         5   \n",
       "0        0.652858  ...   123         focal      2   True         5   \n",
       "0        0.660244  ...     1         focal      2   True         5   \n",
       "0        0.659281  ...    12         focal      2   True         5   \n",
       "0        0.677746  ...   123         focal      2   True         5   \n",
       "0        0.656230  ...     1         focal      2   True         5   \n",
       "0        0.648683  ...    12         focal      2   True         5   \n",
       "0        0.663777  ...   123         focal      2   True         5   \n",
       "0        0.645633  ...     1         focal      2   True         5   \n",
       "0        0.635999  ...    12         focal      2   True         5   \n",
       "0        0.633109  ...   123         focal      2   True         5   \n",
       "0        0.661689  ...     1         focal      2   True         5   \n",
       "0        0.658960  ...    12         focal      2   True         5   \n",
       "0        0.660726  ...   123         focal      2   True         5   \n",
       "0        0.665382  ...     1         focal      2   True         5   \n",
       "0        0.651734  ...    12         focal      2   True         5   \n",
       "0        0.667148  ...   123         focal      2   True         5   \n",
       "0        0.655106  ...     1         focal      2   True         5   \n",
       "0        0.650289  ...    12         focal      2   True         5   \n",
       "0        0.646275  ...   123         focal      2   True         5   \n",
       "0        0.663937  ...     1         focal      2   True         5   \n",
       "0        0.677425  ...    12         focal      2   True         5   \n",
       "0        0.667630  ...   123         focal      2   True         5   \n",
       "0        0.662331  ...     1         focal      2   True         5   \n",
       "0        0.660726  ...    12         focal      2   True         5   \n",
       "0        0.667148  ...   123         focal      2   True         5   \n",
       "0        0.652698  ...     1         focal      2   True         5   \n",
       "0        0.652216  ...    12         focal      2   True         5   \n",
       "0        0.651413  ...   123         focal      2   True         5   \n",
       "\n",
       "  augmentation_type  hidden_dim_aug    comb_method  batch_size  model_id  \n",
       "0            Conv1d            None  concatenation          64         0  \n",
       "0            Conv1d            None  concatenation          64         0  \n",
       "0            Conv1d            None  concatenation          64         0  \n",
       "0            Conv1d            None  concatenation          64         1  \n",
       "0            Conv1d            None  concatenation          64         1  \n",
       "0            Conv1d            None  concatenation          64         1  \n",
       "0            Conv1d            None  concatenation          64         2  \n",
       "0            Conv1d            None  concatenation          64         2  \n",
       "0            Conv1d            None  concatenation          64         2  \n",
       "0            Conv1d            None  concatenation          64         3  \n",
       "0            Conv1d            None  concatenation          64         3  \n",
       "0            Conv1d            None  concatenation          64         3  \n",
       "0            Conv1d            None  concatenation          64         4  \n",
       "0            Conv1d            None  concatenation          64         4  \n",
       "0            Conv1d            None  concatenation          64         4  \n",
       "0            Conv1d            None  concatenation          64         5  \n",
       "0            Conv1d            None  concatenation          64         5  \n",
       "0            Conv1d            None  concatenation          64         5  \n",
       "0            Conv1d            None  concatenation          64         6  \n",
       "0            Conv1d            None  concatenation          64         6  \n",
       "0            Conv1d            None  concatenation          64         6  \n",
       "0            Conv1d            None  concatenation          64         7  \n",
       "0            Conv1d            None  concatenation          64         7  \n",
       "0            Conv1d            None  concatenation          64         7  \n",
       "0            Conv1d            None  concatenation          64         8  \n",
       "0            Conv1d            None  concatenation          64         8  \n",
       "0            Conv1d            None  concatenation          64         8  \n",
       "0            Conv1d            None  concatenation          64         9  \n",
       "0            Conv1d            None  concatenation          64         9  \n",
       "0            Conv1d            None  concatenation          64         9  \n",
       "0            Conv1d            None  concatenation          64        10  \n",
       "0            Conv1d            None  concatenation          64        10  \n",
       "0            Conv1d            None  concatenation          64        10  \n",
       "0            Conv1d            None  concatenation          64        11  \n",
       "0            Conv1d            None  concatenation          64        11  \n",
       "0            Conv1d            None  concatenation          64        11  \n",
       "0            Conv1d            None  concatenation          64        12  \n",
       "0            Conv1d            None  concatenation          64        12  \n",
       "0            Conv1d            None  concatenation          64        12  \n",
       "0            Conv1d            None  concatenation          64        13  \n",
       "0            Conv1d            None  concatenation          64        13  \n",
       "0            Conv1d            None  concatenation          64        13  \n",
       "0            Conv1d            None  concatenation          64        14  \n",
       "0            Conv1d            None  concatenation          64        14  \n",
       "0            Conv1d            None  concatenation          64        14  \n",
       "0            Conv1d            None  concatenation          64        15  \n",
       "0            Conv1d            None  concatenation          64        15  \n",
       "0            Conv1d            None  concatenation          64        15  \n",
       "0            Conv1d            None  concatenation          64        16  \n",
       "0            Conv1d            None  concatenation          64        16  \n",
       "0            Conv1d            None  concatenation          64        16  \n",
       "0            Conv1d            None  concatenation          64        17  \n",
       "0            Conv1d            None  concatenation          64        17  \n",
       "0            Conv1d            None  concatenation          64        17  \n",
       "\n",
       "[54 rows x 49 columns]"
      ]
     },
     "execution_count": 13,
     "metadata": {},
     "output_type": "execute_result"
    }
   ],
   "source": [
    "seqsignet_attention_encoder_umap_kfold_11"
   ]
  },
  {
   "cell_type": "code",
   "execution_count": 14,
   "id": "334f2a44-6a1e-40c4-a23c-9d10f359108d",
   "metadata": {},
   "outputs": [
    {
     "data": {
      "text/plain": [
       "0.48906065803553905"
      ]
     },
     "execution_count": 14,
     "metadata": {},
     "output_type": "execute_result"
    }
   ],
   "source": [
    "best_seqsignet_attention_encoder_umap_kfold_11[\"f1\"].mean()"
   ]
  },
  {
   "cell_type": "code",
   "execution_count": 15,
   "id": "f320e67d-3950-4ce5-a254-40661a13e26c",
   "metadata": {},
   "outputs": [
    {
     "data": {
      "text/plain": [
       "0.4984881070870974"
      ]
     },
     "execution_count": 15,
     "metadata": {},
     "output_type": "execute_result"
    }
   ],
   "source": [
    "best_seqsignet_attention_encoder_umap_kfold_11[\"precision\"].mean()"
   ]
  },
  {
   "cell_type": "code",
   "execution_count": 16,
   "id": "7be7a788-8b05-4ac8-89ee-5e6f86470c8f",
   "metadata": {},
   "outputs": [
    {
     "data": {
      "text/plain": [
       "0.4833686372300234"
      ]
     },
     "execution_count": 16,
     "metadata": {},
     "output_type": "execute_result"
    }
   ],
   "source": [
    "best_seqsignet_attention_encoder_umap_kfold_11[\"recall\"].mean()"
   ]
  },
  {
   "cell_type": "code",
   "execution_count": 17,
   "id": "9c6c851f-3c2d-4c89-8215-aaef16e00cb4",
   "metadata": {},
   "outputs": [
    {
     "data": {
      "text/plain": [
       "array([0.77671022, 0.38878632, 0.30168544])"
      ]
     },
     "execution_count": 17,
     "metadata": {},
     "output_type": "execute_result"
    }
   ],
   "source": [
    "np.stack(best_seqsignet_attention_encoder_umap_kfold_11[\"f1_scores\"]).mean(axis=0)"
   ]
  },
  {
   "cell_type": "code",
   "execution_count": 18,
   "id": "7fea245a-f937-4928-b857-f0157caa4859",
   "metadata": {},
   "outputs": [
    {
     "data": {
      "text/plain": [
       "array([0.75120283, 0.42770682, 0.31655467])"
      ]
     },
     "execution_count": 18,
     "metadata": {},
     "output_type": "execute_result"
    }
   ],
   "source": [
    "np.stack(best_seqsignet_attention_encoder_umap_kfold_11[\"precision_scores\"]).mean(\n",
    "    axis=0\n",
    ")"
   ]
  },
  {
   "cell_type": "code",
   "execution_count": 19,
   "id": "3587e08c-8c30-426c-b5a2-b6f4752a496c",
   "metadata": {},
   "outputs": [
    {
     "data": {
      "text/plain": [
       "array([0.8040293 , 0.3569857 , 0.28909091])"
      ]
     },
     "execution_count": 19,
     "metadata": {},
     "output_type": "execute_result"
    }
   ],
   "source": [
    "np.stack(best_seqsignet_attention_encoder_umap_kfold_11[\"recall_scores\"]).mean(axis=0)"
   ]
  },
  {
   "cell_type": "markdown",
   "id": "de271d33-3a57-419a-8372-279af9a0a9bb",
   "metadata": {
    "tags": []
   },
   "source": [
    "# history_length=20"
   ]
  },
  {
   "cell_type": "code",
   "execution_count": 20,
   "id": "521165eb",
   "metadata": {},
   "outputs": [],
   "source": [
    "shift = 3\n",
    "window_size = 5\n",
    "n = 6"
   ]
  },
  {
   "cell_type": "code",
   "execution_count": null,
   "id": "e1ab36d1",
   "metadata": {},
   "outputs": [
    {
     "data": {
      "application/vnd.jupyter.widget-view+json": {
       "model_id": "f1f4b27e64e94b94a4a7c15f13d8a559",
       "version_major": 2,
       "version_minor": 0
      },
      "text/plain": [
       "  0%|          | 0/1 [00:00<?, ?it/s]"
      ]
     },
     "metadata": {},
     "output_type": "display_data"
    },
    {
     "data": {
      "application/vnd.jupyter.widget-view+json": {
       "model_id": "3ba3b503087c4b9bbf49521d53a4a750",
       "version_major": 2,
       "version_minor": 0
      },
      "text/plain": [
       "  0%|          | 0/1 [00:00<?, ?it/s]"
      ]
     },
     "metadata": {},
     "output_type": "display_data"
    },
    {
     "name": "stdout",
     "output_type": "stream",
     "text": [
      "\n",
      "##################################################\n",
      "dimension: 15 | method: umap\n",
      "given shift 3, window size 5 and n 6: history length = 20\n",
      "[INFO] Concatenating the embeddings to the dataframe...\n",
      "[INFO] - columns beginning with 'e' denote the full embddings.\n",
      "[INFO] - columns beginning with 'd' denote the dimension reduced embeddings.\n",
      "[INFO] Adding time feature columns into dataframe in `.df`.\n",
      "[INFO] Adding 'time_encoding' feature...\n",
      "[INFO] Adding 'time_diff' feature...\n",
      "[INFO] Adding 'timeline_index' feature...\n",
      "[INFO] Padding ids and storing in `.df_padded` and `.array_padded` attributes.\n"
     ]
    },
    {
     "data": {
      "application/vnd.jupyter.widget-view+json": {
       "model_id": "00923e45819d4ab7b9ff9b9ea04d024f",
       "version_major": 2,
       "version_minor": 0
      },
      "text/plain": [
       "  0%|          | 0/9699 [00:00<?, ?it/s]"
      ]
     },
     "metadata": {},
     "output_type": "display_data"
    },
    {
     "name": "stdout",
     "output_type": "stream",
     "text": [
      "[INFO] The path was created for each item in the dataframe, by looking at its history, so to include embeddings in the FFN input, we concatenate the embeddings for each sentence / text.\n"
     ]
    },
    {
     "data": {
      "application/vnd.jupyter.widget-view+json": {
       "model_id": "7f521b9764bd4228b0f762a6629718e4",
       "version_major": 2,
       "version_minor": 0
      },
      "text/plain": [
       "  0%|          | 0/2 [00:00<?, ?it/s]"
      ]
     },
     "metadata": {},
     "output_type": "display_data"
    },
    {
     "data": {
      "application/vnd.jupyter.widget-view+json": {
       "model_id": "1ea9ab7e81564e3eae96fb2acb40b888",
       "version_major": 2,
       "version_minor": 0
      },
      "text/plain": [
       "  0%|          | 0/1 [00:00<?, ?it/s]"
      ]
     },
     "metadata": {},
     "output_type": "display_data"
    },
    {
     "data": {
      "application/vnd.jupyter.widget-view+json": {
       "model_id": "b4288bba193945db8a6adb818a626942",
       "version_major": 2,
       "version_minor": 0
      },
      "text/plain": [
       "  0%|          | 0/3 [00:00<?, ?it/s]"
      ]
     },
     "metadata": {},
     "output_type": "display_data"
    },
    {
     "data": {
      "application/vnd.jupyter.widget-view+json": {
       "model_id": "1e906b875e4945c1866a18bd508f75ae",
       "version_major": 2,
       "version_minor": 0
      },
      "text/plain": [
       "  0%|          | 0/1 [00:00<?, ?it/s]"
      ]
     },
     "metadata": {},
     "output_type": "display_data"
    },
    {
     "data": {
      "application/vnd.jupyter.widget-view+json": {
       "model_id": "3c674d358fda44399a1c9d82b7c91506",
       "version_major": 2,
       "version_minor": 0
      },
      "text/plain": [
       "  0%|          | 0/3 [00:00<?, ?it/s]"
      ]
     },
     "metadata": {},
     "output_type": "display_data"
    },
    {
     "data": {
      "application/vnd.jupyter.widget-view+json": {
       "model_id": "e0ae92adcef243888df443fedd9b082f",
       "version_major": 2,
       "version_minor": 0
      },
      "text/plain": [
       "  0%|          | 0/1 [00:00<?, ?it/s]"
      ]
     },
     "metadata": {},
     "output_type": "display_data"
    },
    {
     "data": {
      "application/vnd.jupyter.widget-view+json": {
       "model_id": "6f8d20ae27e842369d7396385b9746ee",
       "version_major": 2,
       "version_minor": 0
      },
      "text/plain": [
       "  0%|          | 0/3 [00:00<?, ?it/s]"
      ]
     },
     "metadata": {},
     "output_type": "display_data"
    },
    {
     "data": {
      "application/vnd.jupyter.widget-view+json": {
       "model_id": "1156ec5e4d634ff7b327ad9ee5ff571f",
       "version_major": 2,
       "version_minor": 0
      },
      "text/plain": [
       "  0%|          | 0/1 [00:00<?, ?it/s]"
      ]
     },
     "metadata": {},
     "output_type": "display_data"
    },
    {
     "data": {
      "application/vnd.jupyter.widget-view+json": {
       "model_id": "e1b9b621b53d4b9e9a3e6d0e763cfe31",
       "version_major": 2,
       "version_minor": 0
      },
      "text/plain": [
       "  0%|          | 0/3 [00:00<?, ?it/s]"
      ]
     },
     "metadata": {},
     "output_type": "display_data"
    },
    {
     "data": {
      "application/vnd.jupyter.widget-view+json": {
       "model_id": "fa25eb0259e34b6f83c34e7ce0bceb22",
       "version_major": 2,
       "version_minor": 0
      },
      "text/plain": [
       "  0%|          | 0/1 [00:00<?, ?it/s]"
      ]
     },
     "metadata": {},
     "output_type": "display_data"
    },
    {
     "data": {
      "application/vnd.jupyter.widget-view+json": {
       "model_id": "c41b4f3caeff444b8b6ad6c74d41c5d5",
       "version_major": 2,
       "version_minor": 0
      },
      "text/plain": [
       "  0%|          | 0/3 [00:00<?, ?it/s]"
      ]
     },
     "metadata": {},
     "output_type": "display_data"
    },
    {
     "data": {
      "application/vnd.jupyter.widget-view+json": {
       "model_id": "a43affd50f344bb68ac3b9d1a4cda5d5",
       "version_major": 2,
       "version_minor": 0
      },
      "text/plain": [
       "  0%|          | 0/1 [00:00<?, ?it/s]"
      ]
     },
     "metadata": {},
     "output_type": "display_data"
    },
    {
     "data": {
      "application/vnd.jupyter.widget-view+json": {
       "model_id": "3bdcd5e1a2c345ecafbcafcee4fbcb28",
       "version_major": 2,
       "version_minor": 0
      },
      "text/plain": [
       "  0%|          | 0/3 [00:00<?, ?it/s]"
      ]
     },
     "metadata": {},
     "output_type": "display_data"
    }
   ],
   "source": [
    "(\n",
    "    seqsignet_attention_encoder_umap_kfold_20,\n",
    "    best_seqsignet_attention_encoder_umap_kfold_20,\n",
    "    _,\n",
    "    __,\n",
    ") = seqsignet_attention_encoder_hyperparameter_search(\n",
    "    shift=shift,\n",
    "    window_size=window_size,\n",
    "    n=n,\n",
    "    dim_reduce_methods=[\"umap\"],\n",
    "    results_output=f\"{output_dir}/seqsignet_attention_encoder_umap_focal_{gamma}_{shift}_{window_size}_{n}_kfold.csv\",\n",
    "    **kwargs,\n",
    ")"
   ]
  },
  {
   "cell_type": "code",
   "execution_count": null,
   "id": "df26388e",
   "metadata": {},
   "outputs": [],
   "source": [
    "seqsignet_attention_encoder_umap_kfold_20"
   ]
  },
  {
   "cell_type": "code",
   "execution_count": null,
   "id": "afeead7d",
   "metadata": {},
   "outputs": [],
   "source": [
    "best_seqsignet_attention_encoder_umap_kfold_20[\"f1\"].mean()"
   ]
  },
  {
   "cell_type": "code",
   "execution_count": null,
   "id": "a51f3dd2",
   "metadata": {},
   "outputs": [],
   "source": [
    "best_seqsignet_attention_encoder_umap_kfold_20[\"precision\"].mean()"
   ]
  },
  {
   "cell_type": "code",
   "execution_count": null,
   "id": "ef127f1e",
   "metadata": {},
   "outputs": [],
   "source": [
    "best_seqsignet_attention_encoder_umap_kfold_20[\"recall\"].mean()"
   ]
  },
  {
   "cell_type": "code",
   "execution_count": null,
   "id": "1584e0f2",
   "metadata": {},
   "outputs": [],
   "source": [
    "np.stack(best_seqsignet_attention_encoder_umap_kfold_20[\"f1_scores\"]).mean(axis=0)"
   ]
  },
  {
   "cell_type": "code",
   "execution_count": null,
   "id": "7b4943be",
   "metadata": {},
   "outputs": [],
   "source": [
    "np.stack(best_seqsignet_attention_encoder_umap_kfold_20[\"precision_scores\"]).mean(\n",
    "    axis=0\n",
    ")"
   ]
  },
  {
   "cell_type": "code",
   "execution_count": null,
   "id": "15c89795",
   "metadata": {},
   "outputs": [],
   "source": [
    "np.stack(best_seqsignet_attention_encoder_umap_kfold_20[\"recall_scores\"]).mean(axis=0)"
   ]
  },
  {
   "cell_type": "markdown",
   "id": "179dbb85-f360-4c16-a852-fb32cc0e01d6",
   "metadata": {
    "tags": []
   },
   "source": [
    "# history_length=35"
   ]
  },
  {
   "cell_type": "code",
   "execution_count": null,
   "id": "af118561-2837-4bbb-b2df-59535f5e77be",
   "metadata": {},
   "outputs": [],
   "source": [
    "shift = 3\n",
    "window_size = 5\n",
    "n = 11"
   ]
  },
  {
   "cell_type": "code",
   "execution_count": null,
   "id": "9f88d24b-150e-44d2-8de8-63a823df9963",
   "metadata": {},
   "outputs": [],
   "source": [
    "(\n",
    "    seqsignet_attention_encoder_umap_kfold_35,\n",
    "    best_seqsignet_attention_encoder_umap_kfold_35,\n",
    "    _,\n",
    "    __,\n",
    ") = seqsignet_attention_encoder_hyperparameter_search(\n",
    "    shift=shift,\n",
    "    window_size=window_size,\n",
    "    n=n,\n",
    "    dim_reduce_methods=[\"umap\"],\n",
    "    results_output=f\"{output_dir}/seqsignet_attention_encoder_umap_focal_{gamma}_{shift}_{window_size}_{n}_kfold.csv\",\n",
    "    **kwargs,\n",
    ")"
   ]
  },
  {
   "cell_type": "code",
   "execution_count": null,
   "id": "ba6da5ed-70bd-44e7-a693-9ed76551bc36",
   "metadata": {},
   "outputs": [],
   "source": [
    "seqsignet_attention_encoder_umap_kfold_35"
   ]
  },
  {
   "cell_type": "code",
   "execution_count": null,
   "id": "9412b03d-b3b0-42c8-863e-f3093c1836c6",
   "metadata": {},
   "outputs": [],
   "source": [
    "best_seqsignet_attention_encoder_umap_kfold_35[\"f1\"].mean()"
   ]
  },
  {
   "cell_type": "code",
   "execution_count": null,
   "id": "bdd71a23-3015-4f44-bec5-f889b061d685",
   "metadata": {},
   "outputs": [],
   "source": [
    "best_seqsignet_attention_encoder_umap_kfold_35[\"precision\"].mean()"
   ]
  },
  {
   "cell_type": "code",
   "execution_count": null,
   "id": "2912d6da-5816-4665-89dc-fca245c067f3",
   "metadata": {},
   "outputs": [],
   "source": [
    "best_seqsignet_attention_encoder_umap_kfold_35[\"recall\"].mean()"
   ]
  },
  {
   "cell_type": "code",
   "execution_count": null,
   "id": "3a6b34c4-92bb-497f-88d4-79a27b108c84",
   "metadata": {},
   "outputs": [],
   "source": [
    "np.stack(best_seqsignet_attention_encoder_umap_kfold_35[\"f1_scores\"]).mean(axis=0)"
   ]
  },
  {
   "cell_type": "code",
   "execution_count": null,
   "id": "dfff40bf-1848-4450-8cf5-8f64abc09c40",
   "metadata": {},
   "outputs": [],
   "source": [
    "np.stack(best_seqsignet_attention_encoder_umap_kfold_35[\"precision_scores\"]).mean(\n",
    "    axis=0\n",
    ")"
   ]
  },
  {
   "cell_type": "code",
   "execution_count": null,
   "id": "a8d4e5a1-8463-4fd9-8a7f-8defe837d4e0",
   "metadata": {},
   "outputs": [],
   "source": [
    "np.stack(best_seqsignet_attention_encoder_umap_kfold_35[\"recall_scores\"]).mean(axis=0)"
   ]
  },
  {
   "cell_type": "markdown",
   "id": "31b11d48-8d6f-4170-9c45-30723d301693",
   "metadata": {},
   "source": [
    "# history_length=80"
   ]
  },
  {
   "cell_type": "code",
   "execution_count": null,
   "id": "6a392114-8a3e-4543-98a4-a0b9fb7b7855",
   "metadata": {},
   "outputs": [],
   "source": [
    "shift = 3\n",
    "window_size = 5\n",
    "n = 26"
   ]
  },
  {
   "cell_type": "code",
   "execution_count": null,
   "id": "d2585d4e-a39c-4ba4-b71b-cb2f1e71fae0",
   "metadata": {},
   "outputs": [],
   "source": [
    "(\n",
    "    seqsignet_attention_encoder_umap_kfold_80,\n",
    "    best_seqsignet_attention_encoder_umap_kfold_80,\n",
    "    _,\n",
    "    __,\n",
    ") = seqsignet_attention_encoder_hyperparameter_search(\n",
    "    shift=shift,\n",
    "    window_size=window_size,\n",
    "    n=n,\n",
    "    dim_reduce_methods=[\"umap\"],\n",
    "    results_output=f\"{output_dir}/seqsignet_attention_encoder_umap_focal_{gamma}_{shift}_{window_size}_{n}_kfold.csv\",\n",
    "    **kwargs,\n",
    ")"
   ]
  },
  {
   "cell_type": "code",
   "execution_count": null,
   "id": "8be475f7-dad8-4abe-a171-474f25f7adb9",
   "metadata": {},
   "outputs": [],
   "source": [
    "seqsignet_attention_encoder_umap_kfold_80"
   ]
  },
  {
   "cell_type": "code",
   "execution_count": null,
   "id": "a8a9ed70-9a88-42e4-91c9-853726c4efd9",
   "metadata": {},
   "outputs": [],
   "source": [
    "best_seqsignet_attention_encoder_umap_kfold_80[\"f1\"].mean()"
   ]
  },
  {
   "cell_type": "code",
   "execution_count": null,
   "id": "0b7f5215-02dd-43d5-9e78-bda734e41f0f",
   "metadata": {},
   "outputs": [],
   "source": [
    "best_seqsignet_attention_encoder_umap_kfold_80[\"precision\"].mean()"
   ]
  },
  {
   "cell_type": "code",
   "execution_count": null,
   "id": "82d94892-b52c-48c6-adec-7dab7caa719e",
   "metadata": {},
   "outputs": [],
   "source": [
    "best_seqsignet_attention_encoder_umap_kfold_80[\"recall\"].mean()"
   ]
  },
  {
   "cell_type": "code",
   "execution_count": null,
   "id": "c349d5ee-1c4e-4c06-b4b5-7a69946cc1b2",
   "metadata": {},
   "outputs": [],
   "source": [
    "np.stack(best_seqsignet_attention_encoder_umap_kfold_80[\"f1_scores\"]).mean(axis=0)"
   ]
  },
  {
   "cell_type": "code",
   "execution_count": null,
   "id": "4a100c37-0475-4df1-ba04-b345c71e0e28",
   "metadata": {},
   "outputs": [],
   "source": [
    "np.stack(best_seqsignet_attention_encoder_umap_kfold_80[\"precision_scores\"]).mean(\n",
    "    axis=0\n",
    ")"
   ]
  },
  {
   "cell_type": "code",
   "execution_count": null,
   "id": "ddf6374f-6d5b-4cb8-8300-cf3f8b579815",
   "metadata": {},
   "outputs": [],
   "source": [
    "np.stack(best_seqsignet_attention_encoder_umap_kfold_80[\"recall_scores\"]).mean(axis=0)"
   ]
  },
  {
   "cell_type": "markdown",
   "id": "04e84860-a48b-4090-b415-38d874d2b344",
   "metadata": {},
   "source": [
    "# history_length=110"
   ]
  },
  {
   "cell_type": "code",
   "execution_count": null,
   "id": "c7d526aa-f264-45ec-b4e9-428d67fc845f",
   "metadata": {},
   "outputs": [],
   "source": [
    "shift = 3\n",
    "window_size = 5\n",
    "n = 36"
   ]
  },
  {
   "cell_type": "code",
   "execution_count": null,
   "id": "26967648-c4d0-4f2c-bfba-9c966a40b809",
   "metadata": {},
   "outputs": [],
   "source": [
    "(\n",
    "    seqsignet_attention_encoder_umap_kfold_110,\n",
    "    best_seqsignet_attention_encoder_umap_kfold_110,\n",
    "    _,\n",
    "    __,\n",
    ") = seqsignet_attention_encoder_hyperparameter_search(\n",
    "    shift=shift,\n",
    "    window_size=window_size,\n",
    "    n=n,\n",
    "    dim_reduce_methods=[\"umap\"],\n",
    "    results_output=f\"{output_dir}/seqsignet_attention_encoder_umap_focal_{gamma}_{shift}_{window_size}_{n}_kfold.csv\",\n",
    "    **kwargs,\n",
    ")"
   ]
  },
  {
   "cell_type": "code",
   "execution_count": null,
   "id": "54afda08-ad7f-4ab1-b108-e717a5d639cc",
   "metadata": {},
   "outputs": [],
   "source": [
    "seqsignet_attention_encoder_umap_kfold_110"
   ]
  },
  {
   "cell_type": "code",
   "execution_count": null,
   "id": "a840b608-2b98-4a5c-ae02-8d14c4b9684f",
   "metadata": {},
   "outputs": [],
   "source": [
    "best_seqsignet_attention_encoder_umap_kfold_110[\"f1\"].mean()"
   ]
  },
  {
   "cell_type": "code",
   "execution_count": null,
   "id": "3ca90171-5cac-47f1-9699-9510d9c927ce",
   "metadata": {},
   "outputs": [],
   "source": [
    "best_seqsignet_attention_encoder_umap_kfold_110[\"precision\"].mean()"
   ]
  },
  {
   "cell_type": "code",
   "execution_count": null,
   "id": "562c9aac-0404-4f9e-8a95-cf3d3df09776",
   "metadata": {},
   "outputs": [],
   "source": [
    "best_seqsignet_attention_encoder_umap_kfold_110[\"recall\"].mean()"
   ]
  },
  {
   "cell_type": "code",
   "execution_count": null,
   "id": "7b7a45f2-3ea9-488c-b14b-9f4c2cc4bcd4",
   "metadata": {},
   "outputs": [],
   "source": [
    "np.stack(best_seqsignet_attention_encoder_umap_kfold_110[\"f1_scores\"]).mean(axis=0)"
   ]
  },
  {
   "cell_type": "code",
   "execution_count": null,
   "id": "2ea44017-119a-4e69-a986-c4b48b129160",
   "metadata": {},
   "outputs": [],
   "source": [
    "np.stack(best_seqsignet_attention_encoder_umap_kfold_110[\"precision_scores\"]).mean(\n",
    "    axis=0\n",
    ")"
   ]
  },
  {
   "cell_type": "code",
   "execution_count": null,
   "id": "4ec484fc-c41c-4bf9-af9a-647bb0ef8f68",
   "metadata": {},
   "outputs": [],
   "source": [
    "np.stack(best_seqsignet_attention_encoder_umap_kfold_110[\"recall_scores\"]).mean(axis=0)"
   ]
  }
 ],
 "metadata": {
  "kernelspec": {
   "display_name": "nlpsig-networks (Conda)",
   "language": "python",
   "name": "sys_nlpsig-networks"
  },
  "language_info": {
   "codemirror_mode": {
    "name": "ipython",
    "version": 3
   },
   "file_extension": ".py",
   "mimetype": "text/x-python",
   "name": "python",
   "nbconvert_exporter": "python",
   "pygments_lexer": "ipython3",
   "version": "3.8.17"
  }
 },
 "nbformat": 4,
 "nbformat_minor": 5
}
