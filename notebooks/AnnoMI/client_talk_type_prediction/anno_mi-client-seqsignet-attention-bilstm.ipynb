{
 "cells": [
  {
   "cell_type": "code",
   "execution_count": 1,
   "id": "a983a5e8",
   "metadata": {},
   "outputs": [],
   "source": [
    "import numpy as np\n",
    "import pickle\n",
    "import os\n",
    "\n",
    "seed = 2023"
   ]
  },
  {
   "cell_type": "code",
   "execution_count": 2,
   "id": "31866562-4774-4b9e-9dab-1018ff28ae3e",
   "metadata": {},
   "outputs": [
    {
     "data": {
      "text/plain": [
       "device(type='cuda')"
      ]
     },
     "execution_count": 2,
     "metadata": {},
     "output_type": "execute_result"
    }
   ],
   "source": [
    "import torch\n",
    "\n",
    "# set device\n",
    "device = torch.device(\"cuda\" if torch.cuda.is_available() else \"cpu\")\n",
    "device"
   ]
  },
  {
   "cell_type": "code",
   "execution_count": 3,
   "id": "47c7fd57",
   "metadata": {},
   "outputs": [],
   "source": [
    "from nlpsig_networks.scripts.seqsignet_attention_bilstm_functions import (\n",
    "    seqsignet_attention_bilstm_hyperparameter_search,\n",
    ")"
   ]
  },
  {
   "cell_type": "code",
   "execution_count": 4,
   "id": "6e918dde",
   "metadata": {},
   "outputs": [],
   "source": [
    "output_dir = \"client_talk_type_output\"\n",
    "if not os.path.isdir(output_dir):\n",
    "    os.makedirs(output_dir)"
   ]
  },
  {
   "cell_type": "markdown",
   "id": "f7409a03",
   "metadata": {},
   "source": [
    "## AnnoMI"
   ]
  },
  {
   "cell_type": "code",
   "execution_count": 5,
   "id": "f00bb922",
   "metadata": {},
   "outputs": [],
   "source": [
    "%run ../load_anno_mi.py"
   ]
  },
  {
   "cell_type": "code",
   "execution_count": 6,
   "id": "720d820f",
   "metadata": {},
   "outputs": [
    {
     "data": {
      "text/html": [
       "<div>\n",
       "<style scoped>\n",
       "    .dataframe tbody tr th:only-of-type {\n",
       "        vertical-align: middle;\n",
       "    }\n",
       "\n",
       "    .dataframe tbody tr th {\n",
       "        vertical-align: top;\n",
       "    }\n",
       "\n",
       "    .dataframe thead th {\n",
       "        text-align: right;\n",
       "    }\n",
       "</style>\n",
       "<table border=\"1\" class=\"dataframe\">\n",
       "  <thead>\n",
       "    <tr style=\"text-align: right;\">\n",
       "      <th></th>\n",
       "      <th>mi_quality</th>\n",
       "      <th>transcript_id</th>\n",
       "      <th>topic</th>\n",
       "      <th>utterance_id</th>\n",
       "      <th>interlocutor</th>\n",
       "      <th>timestamp</th>\n",
       "      <th>utterance_text</th>\n",
       "      <th>annotator_id</th>\n",
       "      <th>therapist_input_exists</th>\n",
       "      <th>therapist_input_subtype</th>\n",
       "      <th>reflection_exists</th>\n",
       "      <th>reflection_subtype</th>\n",
       "      <th>question_exists</th>\n",
       "      <th>question_subtype</th>\n",
       "      <th>main_therapist_behaviour</th>\n",
       "      <th>client_talk_type</th>\n",
       "      <th>datetime</th>\n",
       "      <th>speaker</th>\n",
       "    </tr>\n",
       "  </thead>\n",
       "  <tbody>\n",
       "    <tr>\n",
       "      <th>0</th>\n",
       "      <td>high</td>\n",
       "      <td>0</td>\n",
       "      <td>reducing alcohol consumption</td>\n",
       "      <td>0</td>\n",
       "      <td>therapist</td>\n",
       "      <td>00:00:13</td>\n",
       "      <td>Thanks for filling it out. We give this form t...</td>\n",
       "      <td>3</td>\n",
       "      <td>False</td>\n",
       "      <td>NaN</td>\n",
       "      <td>False</td>\n",
       "      <td>NaN</td>\n",
       "      <td>True</td>\n",
       "      <td>open</td>\n",
       "      <td>question</td>\n",
       "      <td>NaN</td>\n",
       "      <td>2023-10-01 00:00:13</td>\n",
       "      <td>-1</td>\n",
       "    </tr>\n",
       "    <tr>\n",
       "      <th>1</th>\n",
       "      <td>high</td>\n",
       "      <td>0</td>\n",
       "      <td>reducing alcohol consumption</td>\n",
       "      <td>1</td>\n",
       "      <td>client</td>\n",
       "      <td>00:00:24</td>\n",
       "      <td>Sure.</td>\n",
       "      <td>3</td>\n",
       "      <td>NaN</td>\n",
       "      <td>NaN</td>\n",
       "      <td>NaN</td>\n",
       "      <td>NaN</td>\n",
       "      <td>NaN</td>\n",
       "      <td>NaN</td>\n",
       "      <td>NaN</td>\n",
       "      <td>neutral</td>\n",
       "      <td>2023-10-01 00:00:24</td>\n",
       "      <td>1</td>\n",
       "    </tr>\n",
       "    <tr>\n",
       "      <th>2</th>\n",
       "      <td>high</td>\n",
       "      <td>0</td>\n",
       "      <td>reducing alcohol consumption</td>\n",
       "      <td>2</td>\n",
       "      <td>therapist</td>\n",
       "      <td>00:00:25</td>\n",
       "      <td>So, let's see. It looks that you put-- You dri...</td>\n",
       "      <td>3</td>\n",
       "      <td>True</td>\n",
       "      <td>information</td>\n",
       "      <td>False</td>\n",
       "      <td>NaN</td>\n",
       "      <td>False</td>\n",
       "      <td>NaN</td>\n",
       "      <td>therapist_input</td>\n",
       "      <td>NaN</td>\n",
       "      <td>2023-10-01 00:00:25</td>\n",
       "      <td>-1</td>\n",
       "    </tr>\n",
       "    <tr>\n",
       "      <th>3</th>\n",
       "      <td>high</td>\n",
       "      <td>0</td>\n",
       "      <td>reducing alcohol consumption</td>\n",
       "      <td>3</td>\n",
       "      <td>client</td>\n",
       "      <td>00:00:34</td>\n",
       "      <td>Mm-hmm.</td>\n",
       "      <td>3</td>\n",
       "      <td>NaN</td>\n",
       "      <td>NaN</td>\n",
       "      <td>NaN</td>\n",
       "      <td>NaN</td>\n",
       "      <td>NaN</td>\n",
       "      <td>NaN</td>\n",
       "      <td>NaN</td>\n",
       "      <td>neutral</td>\n",
       "      <td>2023-10-01 00:00:34</td>\n",
       "      <td>1</td>\n",
       "    </tr>\n",
       "    <tr>\n",
       "      <th>4</th>\n",
       "      <td>high</td>\n",
       "      <td>0</td>\n",
       "      <td>reducing alcohol consumption</td>\n",
       "      <td>4</td>\n",
       "      <td>therapist</td>\n",
       "      <td>00:00:34</td>\n",
       "      <td>-and you usually have three to four drinks whe...</td>\n",
       "      <td>3</td>\n",
       "      <td>True</td>\n",
       "      <td>information</td>\n",
       "      <td>False</td>\n",
       "      <td>NaN</td>\n",
       "      <td>False</td>\n",
       "      <td>NaN</td>\n",
       "      <td>therapist_input</td>\n",
       "      <td>NaN</td>\n",
       "      <td>2023-10-01 00:00:34</td>\n",
       "      <td>-1</td>\n",
       "    </tr>\n",
       "  </tbody>\n",
       "</table>\n",
       "</div>"
      ],
      "text/plain": [
       "  mi_quality  transcript_id                         topic  utterance_id  \\\n",
       "0       high              0  reducing alcohol consumption             0   \n",
       "1       high              0  reducing alcohol consumption             1   \n",
       "2       high              0  reducing alcohol consumption             2   \n",
       "3       high              0  reducing alcohol consumption             3   \n",
       "4       high              0  reducing alcohol consumption             4   \n",
       "\n",
       "  interlocutor timestamp                                     utterance_text  \\\n",
       "0    therapist  00:00:13  Thanks for filling it out. We give this form t...   \n",
       "1       client  00:00:24                                              Sure.   \n",
       "2    therapist  00:00:25  So, let's see. It looks that you put-- You dri...   \n",
       "3       client  00:00:34                                            Mm-hmm.   \n",
       "4    therapist  00:00:34  -and you usually have three to four drinks whe...   \n",
       "\n",
       "   annotator_id therapist_input_exists therapist_input_subtype  \\\n",
       "0             3                  False                     NaN   \n",
       "1             3                    NaN                     NaN   \n",
       "2             3                   True             information   \n",
       "3             3                    NaN                     NaN   \n",
       "4             3                   True             information   \n",
       "\n",
       "  reflection_exists reflection_subtype question_exists question_subtype  \\\n",
       "0             False                NaN            True             open   \n",
       "1               NaN                NaN             NaN              NaN   \n",
       "2             False                NaN           False              NaN   \n",
       "3               NaN                NaN             NaN              NaN   \n",
       "4             False                NaN           False              NaN   \n",
       "\n",
       "  main_therapist_behaviour client_talk_type            datetime  speaker  \n",
       "0                 question              NaN 2023-10-01 00:00:13       -1  \n",
       "1                      NaN          neutral 2023-10-01 00:00:24        1  \n",
       "2          therapist_input              NaN 2023-10-01 00:00:25       -1  \n",
       "3                      NaN          neutral 2023-10-01 00:00:34        1  \n",
       "4          therapist_input              NaN 2023-10-01 00:00:34       -1  "
      ]
     },
     "execution_count": 6,
     "metadata": {},
     "output_type": "execute_result"
    }
   ],
   "source": [
    "anno_mi.head()"
   ]
  },
  {
   "cell_type": "code",
   "execution_count": 7,
   "id": "84d5594d",
   "metadata": {},
   "outputs": [
    {
     "data": {
      "text/plain": [
       "(9699, 384)"
      ]
     },
     "execution_count": 7,
     "metadata": {},
     "output_type": "execute_result"
    }
   ],
   "source": [
    "with open(\"../anno_mi_sbert.pkl\", \"rb\") as f:\n",
    "    sbert_embeddings = pickle.load(f)\n",
    "\n",
    "sbert_embeddings.shape"
   ]
  },
  {
   "cell_type": "code",
   "execution_count": 8,
   "id": "4daab8de",
   "metadata": {},
   "outputs": [],
   "source": [
    "features = [\"timeline_index\", \"speaker\"]\n",
    "standardise_method = [None, None]\n",
    "include_features_in_path = True\n",
    "include_features_in_input = False"
   ]
  },
  {
   "cell_type": "code",
   "execution_count": 9,
   "id": "1f5e3893",
   "metadata": {},
   "outputs": [],
   "source": [
    "num_epochs = 100\n",
    "dimensions = [15]\n",
    "swmhau_parameters = [(12, 3, 10), (8, 4, 6)]\n",
    "num_layers = [1]\n",
    "lstm_hidden_dim_sizes = [384]\n",
    "ffn_hidden_dim_sizes = [[256, 256], [512, 512]]\n",
    "dropout_rates = [0.1, 0.2]\n",
    "learning_rates = [1e-3, 1e-4, 5e-4]\n",
    "seeds = [1, 12, 123]\n",
    "loss = \"focal\"\n",
    "gamma = 2\n",
    "validation_metric = \"f1\"\n",
    "patience = 5"
   ]
  },
  {
   "cell_type": "code",
   "execution_count": null,
   "id": "1c7c7a5c-8dc0-49c6-a43f-d2403bbbc057",
   "metadata": {},
   "outputs": [],
   "source": [
    "kwargs = {\n",
    "    \"num_epochs\": num_epochs,\n",
    "    \"df\": anno_mi,\n",
    "    \"id_column\": \"transcript_id\",\n",
    "    \"label_column\": \"client_talk_type\",\n",
    "    \"embeddings\": sbert_embeddings,\n",
    "    \"y_data\": y_data_client,\n",
    "    \"output_dim\": output_dim_client,\n",
    "    \"dimensions\": dimensions,\n",
    "    \"log_signature\": True,\n",
    "    \"swmhau_parameters\": swmhau_parameters,\n",
    "    \"num_layers\": num_layers,\n",
    "    \"lstm_hidden_dim_sizes\": lstm_hidden_dim_sizes,\n",
    "    \"ffn_hidden_dim_sizes\": ffn_hidden_dim_sizes,\n",
    "    \"dropout_rates\": dropout_rates,\n",
    "    \"learning_rates\": learning_rates,\n",
    "    \"seeds\": seeds,\n",
    "    \"loss\": loss,\n",
    "    \"gamma\": gamma,\n",
    "    \"device\": device,\n",
    "    \"features\": features,\n",
    "    \"standardise_method\": standardise_method,\n",
    "    \"include_features_in_path\": include_features_in_path,\n",
    "    \"include_features_in_input\": include_features_in_input,\n",
    "    \"path_indices\": client_index,\n",
    "    \"split_ids\": client_transcript_id,\n",
    "    \"k_fold\": True,\n",
    "    \"patience\": patience,\n",
    "    \"validation_metric\": validation_metric,\n",
    "    \"verbose\": False,\n",
    "}"
   ]
  },
  {
   "cell_type": "markdown",
   "id": "4dbfefaa-f4c6-47f2-b159-d10b705de7ff",
   "metadata": {},
   "source": [
    "# history_length=11"
   ]
  },
  {
   "cell_type": "code",
   "execution_count": 10,
   "id": "d276859d-299b-48b1-a7cb-e0dc898498ab",
   "metadata": {},
   "outputs": [],
   "source": [
    "shift = 3\n",
    "window_size = 5\n",
    "n = 3"
   ]
  },
  {
   "cell_type": "code",
   "execution_count": 11,
   "id": "aa2b936d-c59d-469e-a99b-2c18a2973da7",
   "metadata": {
    "tags": []
   },
   "outputs": [
    {
     "data": {
      "application/vnd.jupyter.widget-view+json": {
       "model_id": "6b67dc5ce61b438dbc6a0db684d7e5a7",
       "version_major": 2,
       "version_minor": 0
      },
      "text/plain": [
       "  0%|          | 0/1 [00:00<?, ?it/s]"
      ]
     },
     "metadata": {},
     "output_type": "display_data"
    },
    {
     "data": {
      "application/vnd.jupyter.widget-view+json": {
       "model_id": "8eca832a69e941b089e4ec0372d55f12",
       "version_major": 2,
       "version_minor": 0
      },
      "text/plain": [
       "  0%|          | 0/1 [00:00<?, ?it/s]"
      ]
     },
     "metadata": {},
     "output_type": "display_data"
    },
    {
     "name": "stdout",
     "output_type": "stream",
     "text": [
      "\n",
      "##################################################\n",
      "dimension: 15 | method: umap\n",
      "given shift 3, window size 5 and n 3: history length = 11\n",
      "[INFO] Concatenating the embeddings to the dataframe...\n",
      "[INFO] - columns beginning with 'e' denote the full embddings.\n",
      "[INFO] - columns beginning with 'd' denote the dimension reduced embeddings.\n",
      "[INFO] Adding time feature columns into dataframe in `.df`.\n",
      "[INFO] Adding 'time_encoding' feature...\n",
      "[INFO] Adding 'time_diff' feature...\n",
      "[INFO] Adding 'timeline_index' feature...\n",
      "[INFO] Padding ids and storing in `.df_padded` and `.array_padded` attributes.\n"
     ]
    },
    {
     "data": {
      "application/vnd.jupyter.widget-view+json": {
       "model_id": "81141ab1027643a3b93efedc0a26d268",
       "version_major": 2,
       "version_minor": 0
      },
      "text/plain": [
       "  0%|          | 0/9699 [00:00<?, ?it/s]"
      ]
     },
     "metadata": {},
     "output_type": "display_data"
    },
    {
     "name": "stdout",
     "output_type": "stream",
     "text": [
      "[INFO] The path was created for each item in the dataframe, by looking at its history, so to include embeddings in the FFN input, we concatenate the embeddings for each sentence / text.\n"
     ]
    },
    {
     "data": {
      "application/vnd.jupyter.widget-view+json": {
       "model_id": "d16eedb9f64f467081504b54979f4714",
       "version_major": 2,
       "version_minor": 0
      },
      "text/plain": [
       "  0%|          | 0/2 [00:00<?, ?it/s]"
      ]
     },
     "metadata": {},
     "output_type": "display_data"
    },
    {
     "data": {
      "application/vnd.jupyter.widget-view+json": {
       "model_id": "244e6632173e41bb96edf419eee4c77e",
       "version_major": 2,
       "version_minor": 0
      },
      "text/plain": [
       "  0%|          | 0/1 [00:00<?, ?it/s]"
      ]
     },
     "metadata": {},
     "output_type": "display_data"
    },
    {
     "data": {
      "application/vnd.jupyter.widget-view+json": {
       "model_id": "9e3820fe10374047816783f9e4ea967c",
       "version_major": 2,
       "version_minor": 0
      },
      "text/plain": [
       "  0%|          | 0/1 [00:00<?, ?it/s]"
      ]
     },
     "metadata": {},
     "output_type": "display_data"
    },
    {
     "data": {
      "application/vnd.jupyter.widget-view+json": {
       "model_id": "ca68173c61f647029b11c2cb0cfc8547",
       "version_major": 2,
       "version_minor": 0
      },
      "text/plain": [
       "  0%|          | 0/2 [00:00<?, ?it/s]"
      ]
     },
     "metadata": {},
     "output_type": "display_data"
    },
    {
     "data": {
      "application/vnd.jupyter.widget-view+json": {
       "model_id": "f5f84ca8b535489eb930d63fc6dc4213",
       "version_major": 2,
       "version_minor": 0
      },
      "text/plain": [
       "  0%|          | 0/2 [00:00<?, ?it/s]"
      ]
     },
     "metadata": {},
     "output_type": "display_data"
    },
    {
     "data": {
      "application/vnd.jupyter.widget-view+json": {
       "model_id": "2b8ba3cb3c3a4058b59badbc5e9d8cc7",
       "version_major": 2,
       "version_minor": 0
      },
      "text/plain": [
       "  0%|          | 0/3 [00:00<?, ?it/s]"
      ]
     },
     "metadata": {},
     "output_type": "display_data"
    },
    {
     "data": {
      "application/vnd.jupyter.widget-view+json": {
       "model_id": "690b65d6144e4854b4f28883d768bb05",
       "version_major": 2,
       "version_minor": 0
      },
      "text/plain": [
       "  0%|          | 0/3 [00:00<?, ?it/s]"
      ]
     },
     "metadata": {},
     "output_type": "display_data"
    },
    {
     "data": {
      "application/vnd.jupyter.widget-view+json": {
       "model_id": "a7253ef34dfd4870ad94a29262c48b90",
       "version_major": 2,
       "version_minor": 0
      },
      "text/plain": [
       "  0%|          | 0/2 [00:00<?, ?it/s]"
      ]
     },
     "metadata": {},
     "output_type": "display_data"
    },
    {
     "data": {
      "application/vnd.jupyter.widget-view+json": {
       "model_id": "3b971a9b0ad944e09d1f3d43377db8d7",
       "version_major": 2,
       "version_minor": 0
      },
      "text/plain": [
       "  0%|          | 0/3 [00:00<?, ?it/s]"
      ]
     },
     "metadata": {},
     "output_type": "display_data"
    },
    {
     "data": {
      "application/vnd.jupyter.widget-view+json": {
       "model_id": "cf652d9093d34ba2bd0e924582efb37f",
       "version_major": 2,
       "version_minor": 0
      },
      "text/plain": [
       "  0%|          | 0/3 [00:00<?, ?it/s]"
      ]
     },
     "metadata": {},
     "output_type": "display_data"
    },
    {
     "data": {
      "application/vnd.jupyter.widget-view+json": {
       "model_id": "1286212377634221b2710f54dacb32bd",
       "version_major": 2,
       "version_minor": 0
      },
      "text/plain": [
       "  0%|          | 0/1 [00:00<?, ?it/s]"
      ]
     },
     "metadata": {},
     "output_type": "display_data"
    },
    {
     "data": {
      "application/vnd.jupyter.widget-view+json": {
       "model_id": "17e1dce6c0374996a9f94416214c5ccd",
       "version_major": 2,
       "version_minor": 0
      },
      "text/plain": [
       "  0%|          | 0/1 [00:00<?, ?it/s]"
      ]
     },
     "metadata": {},
     "output_type": "display_data"
    },
    {
     "data": {
      "application/vnd.jupyter.widget-view+json": {
       "model_id": "ac26447a52d14b9f87a18f9dacc5286b",
       "version_major": 2,
       "version_minor": 0
      },
      "text/plain": [
       "  0%|          | 0/2 [00:00<?, ?it/s]"
      ]
     },
     "metadata": {},
     "output_type": "display_data"
    },
    {
     "data": {
      "application/vnd.jupyter.widget-view+json": {
       "model_id": "66dce3ba58de41fda6f2302c28e1ddaf",
       "version_major": 2,
       "version_minor": 0
      },
      "text/plain": [
       "  0%|          | 0/2 [00:00<?, ?it/s]"
      ]
     },
     "metadata": {},
     "output_type": "display_data"
    },
    {
     "data": {
      "application/vnd.jupyter.widget-view+json": {
       "model_id": "756ff44b5a404556955555e1539da317",
       "version_major": 2,
       "version_minor": 0
      },
      "text/plain": [
       "  0%|          | 0/3 [00:00<?, ?it/s]"
      ]
     },
     "metadata": {},
     "output_type": "display_data"
    },
    {
     "data": {
      "application/vnd.jupyter.widget-view+json": {
       "model_id": "5e1924a3d7f849579109fe1f2f3c47df",
       "version_major": 2,
       "version_minor": 0
      },
      "text/plain": [
       "  0%|          | 0/3 [00:00<?, ?it/s]"
      ]
     },
     "metadata": {},
     "output_type": "display_data"
    },
    {
     "data": {
      "application/vnd.jupyter.widget-view+json": {
       "model_id": "a3f7489a5f8d47fa84e39fe2c22ea2eb",
       "version_major": 2,
       "version_minor": 0
      },
      "text/plain": [
       "  0%|          | 0/2 [00:00<?, ?it/s]"
      ]
     },
     "metadata": {},
     "output_type": "display_data"
    },
    {
     "data": {
      "application/vnd.jupyter.widget-view+json": {
       "model_id": "86ff6cdc583c4e41803fbd19df8b7c7d",
       "version_major": 2,
       "version_minor": 0
      },
      "text/plain": [
       "  0%|          | 0/3 [00:00<?, ?it/s]"
      ]
     },
     "metadata": {},
     "output_type": "display_data"
    },
    {
     "data": {
      "application/vnd.jupyter.widget-view+json": {
       "model_id": "9b058ba3aa8744639be914a1908560b4",
       "version_major": 2,
       "version_minor": 0
      },
      "text/plain": [
       "  0%|          | 0/3 [00:00<?, ?it/s]"
      ]
     },
     "metadata": {},
     "output_type": "display_data"
    },
    {
     "name": "stdout",
     "output_type": "stream",
     "text": [
      "given shift 3, window size 5 and n 3: history length = 11\n",
      "[INFO] Concatenating the embeddings to the dataframe...\n",
      "[INFO] - columns beginning with 'e' denote the full embddings.\n",
      "[INFO] - columns beginning with 'd' denote the dimension reduced embeddings.\n",
      "[INFO] Adding time feature columns into dataframe in `.df`.\n",
      "[INFO] Adding 'time_encoding' feature...\n",
      "[INFO] Adding 'time_diff' feature...\n",
      "[INFO] Adding 'timeline_index' feature...\n",
      "[INFO] Padding ids and storing in `.df_padded` and `.array_padded` attributes.\n"
     ]
    },
    {
     "data": {
      "application/vnd.jupyter.widget-view+json": {
       "model_id": "55ba788d9d724327a994db521c491405",
       "version_major": 2,
       "version_minor": 0
      },
      "text/plain": [
       "  0%|          | 0/9699 [00:00<?, ?it/s]"
      ]
     },
     "metadata": {},
     "output_type": "display_data"
    },
    {
     "name": "stdout",
     "output_type": "stream",
     "text": [
      "[INFO] The path was created for each item in the dataframe, by looking at its history, so to include embeddings in the FFN input, we concatenate the embeddings for each sentence / text.\n",
      "saving results dataframe to CSV for this hyperparameter search in client_talk_type_output/seqsignet_umap_focal_2_3_5_3_kfold.csv\n",
      "saving the best model results dataframe to CSV for this hyperparameter search in client_talk_type_output/seqsignet_umap_focal_2_3_5_3_kfold_best_model.csv\n"
     ]
    }
   ],
   "source": [
    "(\n",
    "    seqsignet_network_umap_kfold_11,\n",
    "    best_seqsignet_network_umap_kfold_11,\n",
    "    _,\n",
    "    __,\n",
    ") = seqsignet_attention_bilstm_hyperparameter_search(\n",
    "    shift=shift,\n",
    "    window_size=window_size,\n",
    "    n=n,\n",
    "    dim_reduce_methods=[\"umap\"],\n",
    "    results_output=f\"{output_dir}/seqsignet_attention_bilstm_umap_focal_{gamma}_{shift}_{window_size}_{n}_kfold.csv\",\n",
    "    **kwargs,\n",
    ")"
   ]
  },
  {
   "cell_type": "code",
   "execution_count": 12,
   "id": "82e7c137-64ae-4b99-adf1-73388c2055c7",
   "metadata": {},
   "outputs": [
    {
     "data": {
      "text/html": [
       "<div>\n",
       "<style scoped>\n",
       "    .dataframe tbody tr th:only-of-type {\n",
       "        vertical-align: middle;\n",
       "    }\n",
       "\n",
       "    .dataframe tbody tr th {\n",
       "        vertical-align: top;\n",
       "    }\n",
       "\n",
       "    .dataframe thead th {\n",
       "        text-align: right;\n",
       "    }\n",
       "</style>\n",
       "<table border=\"1\" class=\"dataframe\">\n",
       "  <thead>\n",
       "    <tr style=\"text-align: right;\">\n",
       "      <th></th>\n",
       "      <th>loss</th>\n",
       "      <th>accuracy</th>\n",
       "      <th>f1</th>\n",
       "      <th>f1_scores</th>\n",
       "      <th>precision</th>\n",
       "      <th>precision_scores</th>\n",
       "      <th>recall</th>\n",
       "      <th>recall_scores</th>\n",
       "      <th>valid_loss</th>\n",
       "      <th>valid_accuracy</th>\n",
       "      <th>...</th>\n",
       "      <th>seed</th>\n",
       "      <th>loss_function</th>\n",
       "      <th>gamma</th>\n",
       "      <th>k_fold</th>\n",
       "      <th>n_splits</th>\n",
       "      <th>augmentation_type</th>\n",
       "      <th>hidden_dim_aug</th>\n",
       "      <th>comb_method</th>\n",
       "      <th>batch_size</th>\n",
       "      <th>model_id</th>\n",
       "    </tr>\n",
       "  </thead>\n",
       "  <tbody>\n",
       "    <tr>\n",
       "      <th>0</th>\n",
       "      <td>None</td>\n",
       "      <td>0.648659</td>\n",
       "      <td>0.517767</td>\n",
       "      <td>[0.7772155558768252, 0.4223545579477783, 0.353...</td>\n",
       "      <td>0.517290</td>\n",
       "      <td>[0.777103209019948, 0.4747682801235839, 0.3]</td>\n",
       "      <td>0.529533</td>\n",
       "      <td>[0.7773279352226721, 0.3803630363036304, 0.430...</td>\n",
       "      <td>None</td>\n",
       "      <td>0.666346</td>\n",
       "      <td>...</td>\n",
       "      <td>1</td>\n",
       "      <td>focal</td>\n",
       "      <td>2</td>\n",
       "      <td>True</td>\n",
       "      <td>5</td>\n",
       "      <td>Conv1d</td>\n",
       "      <td>None</td>\n",
       "      <td>concatenation</td>\n",
       "      <td>64</td>\n",
       "      <td>0</td>\n",
       "    </tr>\n",
       "    <tr>\n",
       "      <th>0</th>\n",
       "      <td>None</td>\n",
       "      <td>0.615517</td>\n",
       "      <td>0.511053</td>\n",
       "      <td>[0.7432182490752158, 0.4442602569415665, 0.345...</td>\n",
       "      <td>0.503654</td>\n",
       "      <td>[0.7957095709570957, 0.4462947543713572, 0.268...</td>\n",
       "      <td>0.541035</td>\n",
       "      <td>[0.6972238288027762, 0.44224422442244227, 0.48...</td>\n",
       "      <td>None</td>\n",
       "      <td>0.652858</td>\n",
       "      <td>...</td>\n",
       "      <td>12</td>\n",
       "      <td>focal</td>\n",
       "      <td>2</td>\n",
       "      <td>True</td>\n",
       "      <td>5</td>\n",
       "      <td>Conv1d</td>\n",
       "      <td>None</td>\n",
       "      <td>concatenation</td>\n",
       "      <td>64</td>\n",
       "      <td>0</td>\n",
       "    </tr>\n",
       "    <tr>\n",
       "      <th>0</th>\n",
       "      <td>None</td>\n",
       "      <td>0.637356</td>\n",
       "      <td>0.515575</td>\n",
       "      <td>[0.7616253483937216, 0.43152454780361754, 0.35...</td>\n",
       "      <td>0.510153</td>\n",
       "      <td>[0.7728490622208991, 0.45135135135135135, 0.30...</td>\n",
       "      <td>0.527424</td>\n",
       "      <td>[0.7507229612492771, 0.41336633663366334, 0.41...</td>\n",
       "      <td>None</td>\n",
       "      <td>0.671805</td>\n",
       "      <td>...</td>\n",
       "      <td>123</td>\n",
       "      <td>focal</td>\n",
       "      <td>2</td>\n",
       "      <td>True</td>\n",
       "      <td>5</td>\n",
       "      <td>Conv1d</td>\n",
       "      <td>None</td>\n",
       "      <td>concatenation</td>\n",
       "      <td>64</td>\n",
       "      <td>0</td>\n",
       "    </tr>\n",
       "    <tr>\n",
       "      <th>0</th>\n",
       "      <td>None</td>\n",
       "      <td>0.617241</td>\n",
       "      <td>0.450167</td>\n",
       "      <td>[0.7559346126510306, 0.37090909090909085, 0.22...</td>\n",
       "      <td>0.460155</td>\n",
       "      <td>[0.7433603578417668, 0.36342042755344417, 0.27...</td>\n",
       "      <td>0.445582</td>\n",
       "      <td>[0.7689415847310584, 0.3787128712871287, 0.189...</td>\n",
       "      <td>None</td>\n",
       "      <td>0.655588</td>\n",
       "      <td>...</td>\n",
       "      <td>1</td>\n",
       "      <td>focal</td>\n",
       "      <td>2</td>\n",
       "      <td>True</td>\n",
       "      <td>5</td>\n",
       "      <td>Conv1d</td>\n",
       "      <td>None</td>\n",
       "      <td>concatenation</td>\n",
       "      <td>64</td>\n",
       "      <td>1</td>\n",
       "    </tr>\n",
       "    <tr>\n",
       "      <th>0</th>\n",
       "      <td>None</td>\n",
       "      <td>0.597126</td>\n",
       "      <td>0.461168</td>\n",
       "      <td>[0.7349540468425733, 0.3761538461538462, 0.272...</td>\n",
       "      <td>0.460052</td>\n",
       "      <td>[0.7539537712895377, 0.3523054755043228, 0.273...</td>\n",
       "      <td>0.463754</td>\n",
       "      <td>[0.7168883747831116, 0.4034653465346535, 0.270...</td>\n",
       "      <td>None</td>\n",
       "      <td>0.627810</td>\n",
       "      <td>...</td>\n",
       "      <td>12</td>\n",
       "      <td>focal</td>\n",
       "      <td>2</td>\n",
       "      <td>True</td>\n",
       "      <td>5</td>\n",
       "      <td>Conv1d</td>\n",
       "      <td>None</td>\n",
       "      <td>concatenation</td>\n",
       "      <td>64</td>\n",
       "      <td>1</td>\n",
       "    </tr>\n",
       "    <tr>\n",
       "      <th>...</th>\n",
       "      <td>...</td>\n",
       "      <td>...</td>\n",
       "      <td>...</td>\n",
       "      <td>...</td>\n",
       "      <td>...</td>\n",
       "      <td>...</td>\n",
       "      <td>...</td>\n",
       "      <td>...</td>\n",
       "      <td>...</td>\n",
       "      <td>...</td>\n",
       "      <td>...</td>\n",
       "      <td>...</td>\n",
       "      <td>...</td>\n",
       "      <td>...</td>\n",
       "      <td>...</td>\n",
       "      <td>...</td>\n",
       "      <td>...</td>\n",
       "      <td>...</td>\n",
       "      <td>...</td>\n",
       "      <td>...</td>\n",
       "      <td>...</td>\n",
       "    </tr>\n",
       "    <tr>\n",
       "      <th>0</th>\n",
       "      <td>None</td>\n",
       "      <td>0.587548</td>\n",
       "      <td>0.440304</td>\n",
       "      <td>[0.7296175511414172, 0.3670886075949367, 0.224...</td>\n",
       "      <td>0.443223</td>\n",
       "      <td>[0.7484793187347932, 0.3344640434192673, 0.246...</td>\n",
       "      <td>0.441301</td>\n",
       "      <td>[0.711683053788317, 0.4067656765676568, 0.2054...</td>\n",
       "      <td>None</td>\n",
       "      <td>0.627970</td>\n",
       "      <td>...</td>\n",
       "      <td>12</td>\n",
       "      <td>focal</td>\n",
       "      <td>2</td>\n",
       "      <td>True</td>\n",
       "      <td>5</td>\n",
       "      <td>Conv1d</td>\n",
       "      <td>None</td>\n",
       "      <td>concatenation</td>\n",
       "      <td>64</td>\n",
       "      <td>22</td>\n",
       "    </tr>\n",
       "    <tr>\n",
       "      <th>0</th>\n",
       "      <td>None</td>\n",
       "      <td>0.619923</td>\n",
       "      <td>0.447408</td>\n",
       "      <td>[0.76, 0.3348017621145375, 0.24742268041237114]</td>\n",
       "      <td>0.458681</td>\n",
       "      <td>[0.7311598075895244, 0.3591682419659735, 0.285...</td>\n",
       "      <td>0.440974</td>\n",
       "      <td>[0.7912087912087912, 0.31353135313531355, 0.21...</td>\n",
       "      <td>None</td>\n",
       "      <td>0.632948</td>\n",
       "      <td>...</td>\n",
       "      <td>123</td>\n",
       "      <td>focal</td>\n",
       "      <td>2</td>\n",
       "      <td>True</td>\n",
       "      <td>5</td>\n",
       "      <td>Conv1d</td>\n",
       "      <td>None</td>\n",
       "      <td>concatenation</td>\n",
       "      <td>64</td>\n",
       "      <td>22</td>\n",
       "    </tr>\n",
       "    <tr>\n",
       "      <th>0</th>\n",
       "      <td>None</td>\n",
       "      <td>0.627395</td>\n",
       "      <td>0.512006</td>\n",
       "      <td>[0.7545984746523104, 0.42966101694915254, 0.35...</td>\n",
       "      <td>0.504541</td>\n",
       "      <td>[0.7813564571074636, 0.4416376306620209, 0.290...</td>\n",
       "      <td>0.531128</td>\n",
       "      <td>[0.7296124927703875, 0.4183168316831683, 0.445...</td>\n",
       "      <td>None</td>\n",
       "      <td>0.657836</td>\n",
       "      <td>...</td>\n",
       "      <td>1</td>\n",
       "      <td>focal</td>\n",
       "      <td>2</td>\n",
       "      <td>True</td>\n",
       "      <td>5</td>\n",
       "      <td>Conv1d</td>\n",
       "      <td>None</td>\n",
       "      <td>concatenation</td>\n",
       "      <td>64</td>\n",
       "      <td>23</td>\n",
       "    </tr>\n",
       "    <tr>\n",
       "      <th>0</th>\n",
       "      <td>None</td>\n",
       "      <td>0.627203</td>\n",
       "      <td>0.514281</td>\n",
       "      <td>[0.7529091733413934, 0.44661776691116545, 0.34...</td>\n",
       "      <td>0.505567</td>\n",
       "      <td>[0.7885406774295664, 0.44122383252818037, 0.28...</td>\n",
       "      <td>0.533259</td>\n",
       "      <td>[0.7203585887796414, 0.4521452145214521, 0.427...</td>\n",
       "      <td>None</td>\n",
       "      <td>0.660726</td>\n",
       "      <td>...</td>\n",
       "      <td>12</td>\n",
       "      <td>focal</td>\n",
       "      <td>2</td>\n",
       "      <td>True</td>\n",
       "      <td>5</td>\n",
       "      <td>Conv1d</td>\n",
       "      <td>None</td>\n",
       "      <td>concatenation</td>\n",
       "      <td>64</td>\n",
       "      <td>23</td>\n",
       "    </tr>\n",
       "    <tr>\n",
       "      <th>0</th>\n",
       "      <td>None</td>\n",
       "      <td>0.629885</td>\n",
       "      <td>0.505598</td>\n",
       "      <td>[0.7609277430865298, 0.4276206322795341, 0.328...</td>\n",
       "      <td>0.499050</td>\n",
       "      <td>[0.783047735618115, 0.4312080536912752, 0.2828...</td>\n",
       "      <td>0.518342</td>\n",
       "      <td>[0.7400231347599768, 0.4240924092409241, 0.390...</td>\n",
       "      <td>None</td>\n",
       "      <td>0.667951</td>\n",
       "      <td>...</td>\n",
       "      <td>123</td>\n",
       "      <td>focal</td>\n",
       "      <td>2</td>\n",
       "      <td>True</td>\n",
       "      <td>5</td>\n",
       "      <td>Conv1d</td>\n",
       "      <td>None</td>\n",
       "      <td>concatenation</td>\n",
       "      <td>64</td>\n",
       "      <td>23</td>\n",
       "    </tr>\n",
       "  </tbody>\n",
       "</table>\n",
       "<p>72 rows × 48 columns</p>\n",
       "</div>"
      ],
      "text/plain": [
       "    loss  accuracy        f1  \\\n",
       "0   None  0.648659  0.517767   \n",
       "0   None  0.615517  0.511053   \n",
       "0   None  0.637356  0.515575   \n",
       "0   None  0.617241  0.450167   \n",
       "0   None  0.597126  0.461168   \n",
       "..   ...       ...       ...   \n",
       "0   None  0.587548  0.440304   \n",
       "0   None  0.619923  0.447408   \n",
       "0   None  0.627395  0.512006   \n",
       "0   None  0.627203  0.514281   \n",
       "0   None  0.629885  0.505598   \n",
       "\n",
       "                                            f1_scores  precision  \\\n",
       "0   [0.7772155558768252, 0.4223545579477783, 0.353...   0.517290   \n",
       "0   [0.7432182490752158, 0.4442602569415665, 0.345...   0.503654   \n",
       "0   [0.7616253483937216, 0.43152454780361754, 0.35...   0.510153   \n",
       "0   [0.7559346126510306, 0.37090909090909085, 0.22...   0.460155   \n",
       "0   [0.7349540468425733, 0.3761538461538462, 0.272...   0.460052   \n",
       "..                                                ...        ...   \n",
       "0   [0.7296175511414172, 0.3670886075949367, 0.224...   0.443223   \n",
       "0     [0.76, 0.3348017621145375, 0.24742268041237114]   0.458681   \n",
       "0   [0.7545984746523104, 0.42966101694915254, 0.35...   0.504541   \n",
       "0   [0.7529091733413934, 0.44661776691116545, 0.34...   0.505567   \n",
       "0   [0.7609277430865298, 0.4276206322795341, 0.328...   0.499050   \n",
       "\n",
       "                                     precision_scores    recall  \\\n",
       "0        [0.777103209019948, 0.4747682801235839, 0.3]  0.529533   \n",
       "0   [0.7957095709570957, 0.4462947543713572, 0.268...  0.541035   \n",
       "0   [0.7728490622208991, 0.45135135135135135, 0.30...  0.527424   \n",
       "0   [0.7433603578417668, 0.36342042755344417, 0.27...  0.445582   \n",
       "0   [0.7539537712895377, 0.3523054755043228, 0.273...  0.463754   \n",
       "..                                                ...       ...   \n",
       "0   [0.7484793187347932, 0.3344640434192673, 0.246...  0.441301   \n",
       "0   [0.7311598075895244, 0.3591682419659735, 0.285...  0.440974   \n",
       "0   [0.7813564571074636, 0.4416376306620209, 0.290...  0.531128   \n",
       "0   [0.7885406774295664, 0.44122383252818037, 0.28...  0.533259   \n",
       "0   [0.783047735618115, 0.4312080536912752, 0.2828...  0.518342   \n",
       "\n",
       "                                        recall_scores valid_loss  \\\n",
       "0   [0.7773279352226721, 0.3803630363036304, 0.430...       None   \n",
       "0   [0.6972238288027762, 0.44224422442244227, 0.48...       None   \n",
       "0   [0.7507229612492771, 0.41336633663366334, 0.41...       None   \n",
       "0   [0.7689415847310584, 0.3787128712871287, 0.189...       None   \n",
       "0   [0.7168883747831116, 0.4034653465346535, 0.270...       None   \n",
       "..                                                ...        ...   \n",
       "0   [0.711683053788317, 0.4067656765676568, 0.2054...       None   \n",
       "0   [0.7912087912087912, 0.31353135313531355, 0.21...       None   \n",
       "0   [0.7296124927703875, 0.4183168316831683, 0.445...       None   \n",
       "0   [0.7203585887796414, 0.4521452145214521, 0.427...       None   \n",
       "0   [0.7400231347599768, 0.4240924092409241, 0.390...       None   \n",
       "\n",
       "    valid_accuracy  ...  seed loss_function  gamma k_fold  n_splits  \\\n",
       "0         0.666346  ...     1         focal      2   True         5   \n",
       "0         0.652858  ...    12         focal      2   True         5   \n",
       "0         0.671805  ...   123         focal      2   True         5   \n",
       "0         0.655588  ...     1         focal      2   True         5   \n",
       "0         0.627810  ...    12         focal      2   True         5   \n",
       "..             ...  ...   ...           ...    ...    ...       ...   \n",
       "0         0.627970  ...    12         focal      2   True         5   \n",
       "0         0.632948  ...   123         focal      2   True         5   \n",
       "0         0.657836  ...     1         focal      2   True         5   \n",
       "0         0.660726  ...    12         focal      2   True         5   \n",
       "0         0.667951  ...   123         focal      2   True         5   \n",
       "\n",
       "   augmentation_type  hidden_dim_aug    comb_method  batch_size  model_id  \n",
       "0             Conv1d            None  concatenation          64         0  \n",
       "0             Conv1d            None  concatenation          64         0  \n",
       "0             Conv1d            None  concatenation          64         0  \n",
       "0             Conv1d            None  concatenation          64         1  \n",
       "0             Conv1d            None  concatenation          64         1  \n",
       "..               ...             ...            ...         ...       ...  \n",
       "0             Conv1d            None  concatenation          64        22  \n",
       "0             Conv1d            None  concatenation          64        22  \n",
       "0             Conv1d            None  concatenation          64        23  \n",
       "0             Conv1d            None  concatenation          64        23  \n",
       "0             Conv1d            None  concatenation          64        23  \n",
       "\n",
       "[72 rows x 48 columns]"
      ]
     },
     "execution_count": 12,
     "metadata": {},
     "output_type": "execute_result"
    }
   ],
   "source": [
    "seqsignet_network_umap_kfold_11"
   ]
  },
  {
   "cell_type": "code",
   "execution_count": 13,
   "id": "334f2a44-6a1e-40c4-a23c-9d10f359108d",
   "metadata": {},
   "outputs": [
    {
     "data": {
      "text/plain": [
       "0.5152682953388444"
      ]
     },
     "execution_count": 13,
     "metadata": {},
     "output_type": "execute_result"
    }
   ],
   "source": [
    "best_seqsignet_network_umap_kfold_11[\"f1\"].mean()"
   ]
  },
  {
   "cell_type": "code",
   "execution_count": 14,
   "id": "f320e67d-3950-4ce5-a254-40661a13e26c",
   "metadata": {},
   "outputs": [
    {
     "data": {
      "text/plain": [
       "0.5113237357910293"
      ]
     },
     "execution_count": 14,
     "metadata": {},
     "output_type": "execute_result"
    }
   ],
   "source": [
    "best_seqsignet_network_umap_kfold_11[\"precision\"].mean()"
   ]
  },
  {
   "cell_type": "code",
   "execution_count": 15,
   "id": "7be7a788-8b05-4ac8-89ee-5e6f86470c8f",
   "metadata": {},
   "outputs": [
    {
     "data": {
      "text/plain": [
       "0.529177068468366"
      ]
     },
     "execution_count": 15,
     "metadata": {},
     "output_type": "execute_result"
    }
   ],
   "source": [
    "best_seqsignet_network_umap_kfold_11[\"recall\"].mean()"
   ]
  },
  {
   "cell_type": "code",
   "execution_count": 16,
   "id": "9c6c851f-3c2d-4c89-8215-aaef16e00cb4",
   "metadata": {},
   "outputs": [
    {
     "data": {
      "text/plain": [
       "array([0.76634954, 0.43163664, 0.3478187 ])"
      ]
     },
     "execution_count": 16,
     "metadata": {},
     "output_type": "execute_result"
    }
   ],
   "source": [
    "np.stack(best_seqsignet_network_umap_kfold_11[\"f1_scores\"]).mean(axis=0)"
   ]
  },
  {
   "cell_type": "code",
   "execution_count": 17,
   "id": "7fea245a-f937-4928-b857-f0157caa4859",
   "metadata": {},
   "outputs": [
    {
     "data": {
      "text/plain": [
       "array([0.77823326, 0.46188991, 0.29384804])"
      ]
     },
     "execution_count": 17,
     "metadata": {},
     "output_type": "execute_result"
    }
   ],
   "source": [
    "np.stack(best_seqsignet_network_umap_kfold_11[\"precision_scores\"]).mean(axis=0)"
   ]
  },
  {
   "cell_type": "code",
   "execution_count": 18,
   "id": "3587e08c-8c30-426c-b5a2-b6f4752a496c",
   "metadata": {},
   "outputs": [
    {
     "data": {
      "text/plain": [
       "array([0.75486794, 0.40539054, 0.42727273])"
      ]
     },
     "execution_count": 18,
     "metadata": {},
     "output_type": "execute_result"
    }
   ],
   "source": [
    "np.stack(best_seqsignet_network_umap_kfold_11[\"recall_scores\"]).mean(axis=0)"
   ]
  },
  {
   "cell_type": "markdown",
   "id": "143024f5-2141-4474-8e9a-5fc9b5cfb967",
   "metadata": {},
   "source": [
    "## GRP"
   ]
  },
  {
   "cell_type": "code",
   "execution_count": 19,
   "id": "6ac9ce58-e338-4f92-9d27-e41c18968f27",
   "metadata": {},
   "outputs": [
    {
     "data": {
      "application/vnd.jupyter.widget-view+json": {
       "model_id": "52423497aa574cb6a434e1e793cb54bd",
       "version_major": 2,
       "version_minor": 0
      },
      "text/plain": [
       "  0%|          | 0/1 [00:00<?, ?it/s]"
      ]
     },
     "metadata": {},
     "output_type": "display_data"
    },
    {
     "data": {
      "application/vnd.jupyter.widget-view+json": {
       "model_id": "5477e0480f594338961c67aefe8f5d33",
       "version_major": 2,
       "version_minor": 0
      },
      "text/plain": [
       "  0%|          | 0/1 [00:00<?, ?it/s]"
      ]
     },
     "metadata": {},
     "output_type": "display_data"
    },
    {
     "name": "stdout",
     "output_type": "stream",
     "text": [
      "\n",
      "##################################################\n",
      "dimension: 15 | method: gaussian_random_projection\n",
      "given shift 3, window size 5 and n 3: history length = 11\n",
      "[INFO] Concatenating the embeddings to the dataframe...\n",
      "[INFO] - columns beginning with 'e' denote the full embddings.\n",
      "[INFO] - columns beginning with 'd' denote the dimension reduced embeddings.\n",
      "[INFO] Adding time feature columns into dataframe in `.df`.\n",
      "[INFO] Adding 'time_encoding' feature...\n",
      "[INFO] Adding 'time_diff' feature...\n",
      "[INFO] Adding 'timeline_index' feature...\n",
      "[INFO] Padding ids and storing in `.df_padded` and `.array_padded` attributes.\n"
     ]
    },
    {
     "data": {
      "application/vnd.jupyter.widget-view+json": {
       "model_id": "8207f255b4804d238c5e24a1762fd486",
       "version_major": 2,
       "version_minor": 0
      },
      "text/plain": [
       "  0%|          | 0/9699 [00:00<?, ?it/s]"
      ]
     },
     "metadata": {},
     "output_type": "display_data"
    },
    {
     "name": "stdout",
     "output_type": "stream",
     "text": [
      "[INFO] The path was created for each item in the dataframe, by looking at its history, so to include embeddings in the FFN input, we concatenate the embeddings for each sentence / text.\n"
     ]
    },
    {
     "data": {
      "application/vnd.jupyter.widget-view+json": {
       "model_id": "ecdb19cbe45547f3860e7ad448368671",
       "version_major": 2,
       "version_minor": 0
      },
      "text/plain": [
       "  0%|          | 0/2 [00:00<?, ?it/s]"
      ]
     },
     "metadata": {},
     "output_type": "display_data"
    },
    {
     "data": {
      "application/vnd.jupyter.widget-view+json": {
       "model_id": "062c3abae208440eb4de286668bc657b",
       "version_major": 2,
       "version_minor": 0
      },
      "text/plain": [
       "  0%|          | 0/1 [00:00<?, ?it/s]"
      ]
     },
     "metadata": {},
     "output_type": "display_data"
    },
    {
     "data": {
      "application/vnd.jupyter.widget-view+json": {
       "model_id": "5c77be9c8acc4558a8501d5794705f06",
       "version_major": 2,
       "version_minor": 0
      },
      "text/plain": [
       "  0%|          | 0/1 [00:00<?, ?it/s]"
      ]
     },
     "metadata": {},
     "output_type": "display_data"
    },
    {
     "data": {
      "application/vnd.jupyter.widget-view+json": {
       "model_id": "b6bb8f689ab347e18b4d9f67750940d6",
       "version_major": 2,
       "version_minor": 0
      },
      "text/plain": [
       "  0%|          | 0/2 [00:00<?, ?it/s]"
      ]
     },
     "metadata": {},
     "output_type": "display_data"
    },
    {
     "data": {
      "application/vnd.jupyter.widget-view+json": {
       "model_id": "dd96e31cd85248939aeb930da02b3f59",
       "version_major": 2,
       "version_minor": 0
      },
      "text/plain": [
       "  0%|          | 0/2 [00:00<?, ?it/s]"
      ]
     },
     "metadata": {},
     "output_type": "display_data"
    },
    {
     "data": {
      "application/vnd.jupyter.widget-view+json": {
       "model_id": "2e762743399948bfa7355d87c9c1f913",
       "version_major": 2,
       "version_minor": 0
      },
      "text/plain": [
       "  0%|          | 0/3 [00:00<?, ?it/s]"
      ]
     },
     "metadata": {},
     "output_type": "display_data"
    },
    {
     "data": {
      "application/vnd.jupyter.widget-view+json": {
       "model_id": "f14e17f72f6347ab875c63cb96819e6f",
       "version_major": 2,
       "version_minor": 0
      },
      "text/plain": [
       "  0%|          | 0/3 [00:00<?, ?it/s]"
      ]
     },
     "metadata": {},
     "output_type": "display_data"
    },
    {
     "data": {
      "application/vnd.jupyter.widget-view+json": {
       "model_id": "c6c9b89445be4a08bd0b8f7fff2efc08",
       "version_major": 2,
       "version_minor": 0
      },
      "text/plain": [
       "  0%|          | 0/2 [00:00<?, ?it/s]"
      ]
     },
     "metadata": {},
     "output_type": "display_data"
    },
    {
     "data": {
      "application/vnd.jupyter.widget-view+json": {
       "model_id": "4cf364dfb53c431ba716a5d4a6246861",
       "version_major": 2,
       "version_minor": 0
      },
      "text/plain": [
       "  0%|          | 0/3 [00:00<?, ?it/s]"
      ]
     },
     "metadata": {},
     "output_type": "display_data"
    },
    {
     "data": {
      "application/vnd.jupyter.widget-view+json": {
       "model_id": "c8a3cd474cdd4536953d0c6982d7100a",
       "version_major": 2,
       "version_minor": 0
      },
      "text/plain": [
       "  0%|          | 0/3 [00:00<?, ?it/s]"
      ]
     },
     "metadata": {},
     "output_type": "display_data"
    },
    {
     "data": {
      "application/vnd.jupyter.widget-view+json": {
       "model_id": "8cbc9cd799464d6fb670559f6187feda",
       "version_major": 2,
       "version_minor": 0
      },
      "text/plain": [
       "  0%|          | 0/1 [00:00<?, ?it/s]"
      ]
     },
     "metadata": {},
     "output_type": "display_data"
    },
    {
     "data": {
      "application/vnd.jupyter.widget-view+json": {
       "model_id": "00269328cf7e464bbab4765d8d9b1e3d",
       "version_major": 2,
       "version_minor": 0
      },
      "text/plain": [
       "  0%|          | 0/1 [00:00<?, ?it/s]"
      ]
     },
     "metadata": {},
     "output_type": "display_data"
    },
    {
     "data": {
      "application/vnd.jupyter.widget-view+json": {
       "model_id": "00055a98e0c74d59b3cc5550a947dfca",
       "version_major": 2,
       "version_minor": 0
      },
      "text/plain": [
       "  0%|          | 0/2 [00:00<?, ?it/s]"
      ]
     },
     "metadata": {},
     "output_type": "display_data"
    },
    {
     "data": {
      "application/vnd.jupyter.widget-view+json": {
       "model_id": "a631ce7e12274783a213a8960a759c19",
       "version_major": 2,
       "version_minor": 0
      },
      "text/plain": [
       "  0%|          | 0/2 [00:00<?, ?it/s]"
      ]
     },
     "metadata": {},
     "output_type": "display_data"
    },
    {
     "data": {
      "application/vnd.jupyter.widget-view+json": {
       "model_id": "428094f54ae94ae5a207f5e74bb861d0",
       "version_major": 2,
       "version_minor": 0
      },
      "text/plain": [
       "  0%|          | 0/3 [00:00<?, ?it/s]"
      ]
     },
     "metadata": {},
     "output_type": "display_data"
    },
    {
     "data": {
      "application/vnd.jupyter.widget-view+json": {
       "model_id": "81b642a76125473cb29b4b8b54becc08",
       "version_major": 2,
       "version_minor": 0
      },
      "text/plain": [
       "  0%|          | 0/3 [00:00<?, ?it/s]"
      ]
     },
     "metadata": {},
     "output_type": "display_data"
    },
    {
     "data": {
      "application/vnd.jupyter.widget-view+json": {
       "model_id": "5c3b68512b654f07bbf7541fcc904ec4",
       "version_major": 2,
       "version_minor": 0
      },
      "text/plain": [
       "  0%|          | 0/2 [00:00<?, ?it/s]"
      ]
     },
     "metadata": {},
     "output_type": "display_data"
    },
    {
     "data": {
      "application/vnd.jupyter.widget-view+json": {
       "model_id": "64578735a7c64f84b9868713e8f9d5e1",
       "version_major": 2,
       "version_minor": 0
      },
      "text/plain": [
       "  0%|          | 0/3 [00:00<?, ?it/s]"
      ]
     },
     "metadata": {},
     "output_type": "display_data"
    },
    {
     "data": {
      "application/vnd.jupyter.widget-view+json": {
       "model_id": "c2eba81133d34f9cb7f0b24331b34b66",
       "version_major": 2,
       "version_minor": 0
      },
      "text/plain": [
       "  0%|          | 0/3 [00:00<?, ?it/s]"
      ]
     },
     "metadata": {},
     "output_type": "display_data"
    },
    {
     "name": "stdout",
     "output_type": "stream",
     "text": [
      "given shift 3, window size 5 and n 3: history length = 11\n",
      "[INFO] Concatenating the embeddings to the dataframe...\n",
      "[INFO] - columns beginning with 'e' denote the full embddings.\n",
      "[INFO] - columns beginning with 'd' denote the dimension reduced embeddings.\n",
      "[INFO] Adding time feature columns into dataframe in `.df`.\n",
      "[INFO] Adding 'time_encoding' feature...\n",
      "[INFO] Adding 'time_diff' feature...\n",
      "[INFO] Adding 'timeline_index' feature...\n",
      "[INFO] Padding ids and storing in `.df_padded` and `.array_padded` attributes.\n"
     ]
    },
    {
     "data": {
      "application/vnd.jupyter.widget-view+json": {
       "model_id": "702965146921449785a70b25acb7ffbd",
       "version_major": 2,
       "version_minor": 0
      },
      "text/plain": [
       "  0%|          | 0/9699 [00:00<?, ?it/s]"
      ]
     },
     "metadata": {},
     "output_type": "display_data"
    },
    {
     "name": "stdout",
     "output_type": "stream",
     "text": [
      "[INFO] The path was created for each item in the dataframe, by looking at its history, so to include embeddings in the FFN input, we concatenate the embeddings for each sentence / text.\n",
      "saving results dataframe to CSV for this hyperparameter search in client_talk_type_output/seqsignet_grp_focal_2_3_5_3_kfold.csv\n",
      "saving the best model results dataframe to CSV for this hyperparameter search in client_talk_type_output/seqsignet_grp_focal_2_3_5_3_kfold_best_model.csv\n"
     ]
    }
   ],
   "source": [
    "(\n",
    "    seqsignet_network_grp_kfold_11,\n",
    "    best_seqsignet_network_grp_kfold_11,\n",
    "    _,\n",
    "    __,\n",
    ") = seqsignet_attention_bilstm_hyperparameter_search(\n",
    "    shift=shift,\n",
    "    window_size=window_size,\n",
    "    n=n,\n",
    "    dim_reduce_methods=[\"gaussian_random_projection\"],\n",
    "    results_output=f\"{output_dir}/seqsignet_attention_bilstm_grp_focal_{gamma}_{shift}_{window_size}_{n}_kfold.csv\",\n",
    "    **kwargs,\n",
    ")"
   ]
  },
  {
   "cell_type": "code",
   "execution_count": 20,
   "id": "36f8a786-08d0-4d9a-a52e-4c2414cee3fd",
   "metadata": {},
   "outputs": [
    {
     "data": {
      "text/html": [
       "<div>\n",
       "<style scoped>\n",
       "    .dataframe tbody tr th:only-of-type {\n",
       "        vertical-align: middle;\n",
       "    }\n",
       "\n",
       "    .dataframe tbody tr th {\n",
       "        vertical-align: top;\n",
       "    }\n",
       "\n",
       "    .dataframe thead th {\n",
       "        text-align: right;\n",
       "    }\n",
       "</style>\n",
       "<table border=\"1\" class=\"dataframe\">\n",
       "  <thead>\n",
       "    <tr style=\"text-align: right;\">\n",
       "      <th></th>\n",
       "      <th>loss</th>\n",
       "      <th>accuracy</th>\n",
       "      <th>f1</th>\n",
       "      <th>f1_scores</th>\n",
       "      <th>precision</th>\n",
       "      <th>precision_scores</th>\n",
       "      <th>recall</th>\n",
       "      <th>recall_scores</th>\n",
       "      <th>valid_loss</th>\n",
       "      <th>valid_accuracy</th>\n",
       "      <th>...</th>\n",
       "      <th>seed</th>\n",
       "      <th>loss_function</th>\n",
       "      <th>gamma</th>\n",
       "      <th>k_fold</th>\n",
       "      <th>n_splits</th>\n",
       "      <th>augmentation_type</th>\n",
       "      <th>hidden_dim_aug</th>\n",
       "      <th>comb_method</th>\n",
       "      <th>batch_size</th>\n",
       "      <th>model_id</th>\n",
       "    </tr>\n",
       "  </thead>\n",
       "  <tbody>\n",
       "    <tr>\n",
       "      <th>0</th>\n",
       "      <td>None</td>\n",
       "      <td>0.652299</td>\n",
       "      <td>0.518804</td>\n",
       "      <td>[0.7800057290174734, 0.42033898305084744, 0.35...</td>\n",
       "      <td>0.525227</td>\n",
       "      <td>[0.7727014755959137, 0.5087924970691676, 0.294...</td>\n",
       "      <td>0.532148</td>\n",
       "      <td>[0.7874493927125507, 0.3580858085808581, 0.450...</td>\n",
       "      <td>None</td>\n",
       "      <td>0.665222</td>\n",
       "      <td>...</td>\n",
       "      <td>1</td>\n",
       "      <td>focal</td>\n",
       "      <td>2</td>\n",
       "      <td>True</td>\n",
       "      <td>5</td>\n",
       "      <td>Conv1d</td>\n",
       "      <td>None</td>\n",
       "      <td>concatenation</td>\n",
       "      <td>64</td>\n",
       "      <td>0</td>\n",
       "    </tr>\n",
       "    <tr>\n",
       "      <th>0</th>\n",
       "      <td>None</td>\n",
       "      <td>0.632759</td>\n",
       "      <td>0.521371</td>\n",
       "      <td>[0.7591836734693879, 0.44646548160396854, 0.35...</td>\n",
       "      <td>0.512386</td>\n",
       "      <td>[0.7953753563509661, 0.44739022369511183, 0.29...</td>\n",
       "      <td>0.543290</td>\n",
       "      <td>[0.7261422787738577, 0.44554455445544555, 0.45...</td>\n",
       "      <td>None</td>\n",
       "      <td>0.655106</td>\n",
       "      <td>...</td>\n",
       "      <td>12</td>\n",
       "      <td>focal</td>\n",
       "      <td>2</td>\n",
       "      <td>True</td>\n",
       "      <td>5</td>\n",
       "      <td>Conv1d</td>\n",
       "      <td>None</td>\n",
       "      <td>concatenation</td>\n",
       "      <td>64</td>\n",
       "      <td>0</td>\n",
       "    </tr>\n",
       "    <tr>\n",
       "      <th>0</th>\n",
       "      <td>None</td>\n",
       "      <td>0.643487</td>\n",
       "      <td>0.516848</td>\n",
       "      <td>[0.7703272727272727, 0.4270172257479601, 0.353...</td>\n",
       "      <td>0.515151</td>\n",
       "      <td>[0.774948785484343, 0.4738430583501006, 0.2966...</td>\n",
       "      <td>0.530246</td>\n",
       "      <td>[0.7657605552342395, 0.3886138613861386, 0.436...</td>\n",
       "      <td>None</td>\n",
       "      <td>0.667309</td>\n",
       "      <td>...</td>\n",
       "      <td>123</td>\n",
       "      <td>focal</td>\n",
       "      <td>2</td>\n",
       "      <td>True</td>\n",
       "      <td>5</td>\n",
       "      <td>Conv1d</td>\n",
       "      <td>None</td>\n",
       "      <td>concatenation</td>\n",
       "      <td>64</td>\n",
       "      <td>0</td>\n",
       "    </tr>\n",
       "    <tr>\n",
       "      <th>0</th>\n",
       "      <td>None</td>\n",
       "      <td>0.641571</td>\n",
       "      <td>0.493559</td>\n",
       "      <td>[0.7721078573499565, 0.4323681078936929, 0.276...</td>\n",
       "      <td>0.496613</td>\n",
       "      <td>[0.7741279069767442, 0.4163483575248281, 0.299...</td>\n",
       "      <td>0.492044</td>\n",
       "      <td>[0.7700983227299016, 0.44966996699669964, 0.25...</td>\n",
       "      <td>None</td>\n",
       "      <td>0.667630</td>\n",
       "      <td>...</td>\n",
       "      <td>1</td>\n",
       "      <td>focal</td>\n",
       "      <td>2</td>\n",
       "      <td>True</td>\n",
       "      <td>5</td>\n",
       "      <td>Conv1d</td>\n",
       "      <td>None</td>\n",
       "      <td>concatenation</td>\n",
       "      <td>64</td>\n",
       "      <td>1</td>\n",
       "    </tr>\n",
       "    <tr>\n",
       "      <th>0</th>\n",
       "      <td>None</td>\n",
       "      <td>0.636398</td>\n",
       "      <td>0.489759</td>\n",
       "      <td>[0.764366156511695, 0.4210116731517509, 0.2838...</td>\n",
       "      <td>0.500582</td>\n",
       "      <td>[0.7632641291810842, 0.39837997054491897, 0.34...</td>\n",
       "      <td>0.485159</td>\n",
       "      <td>[0.7654713707345286, 0.44636963696369636, 0.24...</td>\n",
       "      <td>None</td>\n",
       "      <td>0.664740</td>\n",
       "      <td>...</td>\n",
       "      <td>12</td>\n",
       "      <td>focal</td>\n",
       "      <td>2</td>\n",
       "      <td>True</td>\n",
       "      <td>5</td>\n",
       "      <td>Conv1d</td>\n",
       "      <td>None</td>\n",
       "      <td>concatenation</td>\n",
       "      <td>64</td>\n",
       "      <td>1</td>\n",
       "    </tr>\n",
       "    <tr>\n",
       "      <th>...</th>\n",
       "      <td>...</td>\n",
       "      <td>...</td>\n",
       "      <td>...</td>\n",
       "      <td>...</td>\n",
       "      <td>...</td>\n",
       "      <td>...</td>\n",
       "      <td>...</td>\n",
       "      <td>...</td>\n",
       "      <td>...</td>\n",
       "      <td>...</td>\n",
       "      <td>...</td>\n",
       "      <td>...</td>\n",
       "      <td>...</td>\n",
       "      <td>...</td>\n",
       "      <td>...</td>\n",
       "      <td>...</td>\n",
       "      <td>...</td>\n",
       "      <td>...</td>\n",
       "      <td>...</td>\n",
       "      <td>...</td>\n",
       "      <td>...</td>\n",
       "    </tr>\n",
       "    <tr>\n",
       "      <th>0</th>\n",
       "      <td>None</td>\n",
       "      <td>0.625096</td>\n",
       "      <td>0.492728</td>\n",
       "      <td>[0.7554900515843773, 0.4189189189189189, 0.303...</td>\n",
       "      <td>0.489408</td>\n",
       "      <td>[0.7703636910129246, 0.4041411042944785, 0.293...</td>\n",
       "      <td>0.496848</td>\n",
       "      <td>[0.7411798727588201, 0.43481848184818483, 0.31...</td>\n",
       "      <td>None</td>\n",
       "      <td>0.659441</td>\n",
       "      <td>...</td>\n",
       "      <td>12</td>\n",
       "      <td>focal</td>\n",
       "      <td>2</td>\n",
       "      <td>True</td>\n",
       "      <td>5</td>\n",
       "      <td>Conv1d</td>\n",
       "      <td>None</td>\n",
       "      <td>concatenation</td>\n",
       "      <td>64</td>\n",
       "      <td>22</td>\n",
       "    </tr>\n",
       "    <tr>\n",
       "      <th>0</th>\n",
       "      <td>None</td>\n",
       "      <td>0.634100</td>\n",
       "      <td>0.501154</td>\n",
       "      <td>[0.7625941793470231, 0.43998425816607634, 0.30...</td>\n",
       "      <td>0.497748</td>\n",
       "      <td>[0.7795228027786167, 0.42061700526711815, 0.29...</td>\n",
       "      <td>0.505566</td>\n",
       "      <td>[0.7463851937536148, 0.4612211221122112, 0.309...</td>\n",
       "      <td>None</td>\n",
       "      <td>0.654785</td>\n",
       "      <td>...</td>\n",
       "      <td>123</td>\n",
       "      <td>focal</td>\n",
       "      <td>2</td>\n",
       "      <td>True</td>\n",
       "      <td>5</td>\n",
       "      <td>Conv1d</td>\n",
       "      <td>None</td>\n",
       "      <td>concatenation</td>\n",
       "      <td>64</td>\n",
       "      <td>22</td>\n",
       "    </tr>\n",
       "    <tr>\n",
       "      <th>0</th>\n",
       "      <td>None</td>\n",
       "      <td>0.636782</td>\n",
       "      <td>0.517590</td>\n",
       "      <td>[0.7622140221402214, 0.43686309260079753, 0.35...</td>\n",
       "      <td>0.513465</td>\n",
       "      <td>[0.7784142297256557, 0.4717703349282297, 0.290...</td>\n",
       "      <td>0.535389</td>\n",
       "      <td>[0.7466743782533256, 0.4067656765676568, 0.452...</td>\n",
       "      <td>None</td>\n",
       "      <td>0.652055</td>\n",
       "      <td>...</td>\n",
       "      <td>1</td>\n",
       "      <td>focal</td>\n",
       "      <td>2</td>\n",
       "      <td>True</td>\n",
       "      <td>5</td>\n",
       "      <td>Conv1d</td>\n",
       "      <td>None</td>\n",
       "      <td>concatenation</td>\n",
       "      <td>64</td>\n",
       "      <td>23</td>\n",
       "    </tr>\n",
       "    <tr>\n",
       "      <th>0</th>\n",
       "      <td>None</td>\n",
       "      <td>0.627778</td>\n",
       "      <td>0.520280</td>\n",
       "      <td>[0.7545440659844203, 0.450891007045172, 0.3554...</td>\n",
       "      <td>0.511788</td>\n",
       "      <td>[0.7996115247652962, 0.4529558701082431, 0.282...</td>\n",
       "      <td>0.547104</td>\n",
       "      <td>[0.7142857142857143, 0.44884488448844884, 0.47...</td>\n",
       "      <td>None</td>\n",
       "      <td>0.656551</td>\n",
       "      <td>...</td>\n",
       "      <td>12</td>\n",
       "      <td>focal</td>\n",
       "      <td>2</td>\n",
       "      <td>True</td>\n",
       "      <td>5</td>\n",
       "      <td>Conv1d</td>\n",
       "      <td>None</td>\n",
       "      <td>concatenation</td>\n",
       "      <td>64</td>\n",
       "      <td>23</td>\n",
       "    </tr>\n",
       "    <tr>\n",
       "      <th>0</th>\n",
       "      <td>None</td>\n",
       "      <td>0.634483</td>\n",
       "      <td>0.516413</td>\n",
       "      <td>[0.7618057618057619, 0.4324793747286148, 0.354...</td>\n",
       "      <td>0.510447</td>\n",
       "      <td>[0.782967032967033, 0.45646196150320806, 0.291...</td>\n",
       "      <td>0.535126</td>\n",
       "      <td>[0.7417582417582418, 0.41089108910891087, 0.45...</td>\n",
       "      <td>None</td>\n",
       "      <td>0.667470</td>\n",
       "      <td>...</td>\n",
       "      <td>123</td>\n",
       "      <td>focal</td>\n",
       "      <td>2</td>\n",
       "      <td>True</td>\n",
       "      <td>5</td>\n",
       "      <td>Conv1d</td>\n",
       "      <td>None</td>\n",
       "      <td>concatenation</td>\n",
       "      <td>64</td>\n",
       "      <td>23</td>\n",
       "    </tr>\n",
       "  </tbody>\n",
       "</table>\n",
       "<p>72 rows × 48 columns</p>\n",
       "</div>"
      ],
      "text/plain": [
       "    loss  accuracy        f1  \\\n",
       "0   None  0.652299  0.518804   \n",
       "0   None  0.632759  0.521371   \n",
       "0   None  0.643487  0.516848   \n",
       "0   None  0.641571  0.493559   \n",
       "0   None  0.636398  0.489759   \n",
       "..   ...       ...       ...   \n",
       "0   None  0.625096  0.492728   \n",
       "0   None  0.634100  0.501154   \n",
       "0   None  0.636782  0.517590   \n",
       "0   None  0.627778  0.520280   \n",
       "0   None  0.634483  0.516413   \n",
       "\n",
       "                                            f1_scores  precision  \\\n",
       "0   [0.7800057290174734, 0.42033898305084744, 0.35...   0.525227   \n",
       "0   [0.7591836734693879, 0.44646548160396854, 0.35...   0.512386   \n",
       "0   [0.7703272727272727, 0.4270172257479601, 0.353...   0.515151   \n",
       "0   [0.7721078573499565, 0.4323681078936929, 0.276...   0.496613   \n",
       "0   [0.764366156511695, 0.4210116731517509, 0.2838...   0.500582   \n",
       "..                                                ...        ...   \n",
       "0   [0.7554900515843773, 0.4189189189189189, 0.303...   0.489408   \n",
       "0   [0.7625941793470231, 0.43998425816607634, 0.30...   0.497748   \n",
       "0   [0.7622140221402214, 0.43686309260079753, 0.35...   0.513465   \n",
       "0   [0.7545440659844203, 0.450891007045172, 0.3554...   0.511788   \n",
       "0   [0.7618057618057619, 0.4324793747286148, 0.354...   0.510447   \n",
       "\n",
       "                                     precision_scores    recall  \\\n",
       "0   [0.7727014755959137, 0.5087924970691676, 0.294...  0.532148   \n",
       "0   [0.7953753563509661, 0.44739022369511183, 0.29...  0.543290   \n",
       "0   [0.774948785484343, 0.4738430583501006, 0.2966...  0.530246   \n",
       "0   [0.7741279069767442, 0.4163483575248281, 0.299...  0.492044   \n",
       "0   [0.7632641291810842, 0.39837997054491897, 0.34...  0.485159   \n",
       "..                                                ...       ...   \n",
       "0   [0.7703636910129246, 0.4041411042944785, 0.293...  0.496848   \n",
       "0   [0.7795228027786167, 0.42061700526711815, 0.29...  0.505566   \n",
       "0   [0.7784142297256557, 0.4717703349282297, 0.290...  0.535389   \n",
       "0   [0.7996115247652962, 0.4529558701082431, 0.282...  0.547104   \n",
       "0   [0.782967032967033, 0.45646196150320806, 0.291...  0.535126   \n",
       "\n",
       "                                        recall_scores valid_loss  \\\n",
       "0   [0.7874493927125507, 0.3580858085808581, 0.450...       None   \n",
       "0   [0.7261422787738577, 0.44554455445544555, 0.45...       None   \n",
       "0   [0.7657605552342395, 0.3886138613861386, 0.436...       None   \n",
       "0   [0.7700983227299016, 0.44966996699669964, 0.25...       None   \n",
       "0   [0.7654713707345286, 0.44636963696369636, 0.24...       None   \n",
       "..                                                ...        ...   \n",
       "0   [0.7411798727588201, 0.43481848184818483, 0.31...       None   \n",
       "0   [0.7463851937536148, 0.4612211221122112, 0.309...       None   \n",
       "0   [0.7466743782533256, 0.4067656765676568, 0.452...       None   \n",
       "0   [0.7142857142857143, 0.44884488448844884, 0.47...       None   \n",
       "0   [0.7417582417582418, 0.41089108910891087, 0.45...       None   \n",
       "\n",
       "    valid_accuracy  ...  seed loss_function  gamma k_fold  n_splits  \\\n",
       "0         0.665222  ...     1         focal      2   True         5   \n",
       "0         0.655106  ...    12         focal      2   True         5   \n",
       "0         0.667309  ...   123         focal      2   True         5   \n",
       "0         0.667630  ...     1         focal      2   True         5   \n",
       "0         0.664740  ...    12         focal      2   True         5   \n",
       "..             ...  ...   ...           ...    ...    ...       ...   \n",
       "0         0.659441  ...    12         focal      2   True         5   \n",
       "0         0.654785  ...   123         focal      2   True         5   \n",
       "0         0.652055  ...     1         focal      2   True         5   \n",
       "0         0.656551  ...    12         focal      2   True         5   \n",
       "0         0.667470  ...   123         focal      2   True         5   \n",
       "\n",
       "   augmentation_type  hidden_dim_aug    comb_method  batch_size  model_id  \n",
       "0             Conv1d            None  concatenation          64         0  \n",
       "0             Conv1d            None  concatenation          64         0  \n",
       "0             Conv1d            None  concatenation          64         0  \n",
       "0             Conv1d            None  concatenation          64         1  \n",
       "0             Conv1d            None  concatenation          64         1  \n",
       "..               ...             ...            ...         ...       ...  \n",
       "0             Conv1d            None  concatenation          64        22  \n",
       "0             Conv1d            None  concatenation          64        22  \n",
       "0             Conv1d            None  concatenation          64        23  \n",
       "0             Conv1d            None  concatenation          64        23  \n",
       "0             Conv1d            None  concatenation          64        23  \n",
       "\n",
       "[72 rows x 48 columns]"
      ]
     },
     "execution_count": 20,
     "metadata": {},
     "output_type": "execute_result"
    }
   ],
   "source": [
    "seqsignet_network_grp_kfold_11"
   ]
  },
  {
   "cell_type": "code",
   "execution_count": 21,
   "id": "45ca8250-608a-48eb-aab9-16773521050a",
   "metadata": {},
   "outputs": [
    {
     "data": {
      "text/plain": [
       "0.5147234162261934"
      ]
     },
     "execution_count": 21,
     "metadata": {},
     "output_type": "execute_result"
    }
   ],
   "source": [
    "best_seqsignet_network_grp_kfold_11[\"f1\"].mean()"
   ]
  },
  {
   "cell_type": "code",
   "execution_count": 22,
   "id": "bed09511-e12a-4bed-93a5-8312dd8153f6",
   "metadata": {},
   "outputs": [
    {
     "data": {
      "text/plain": [
       "0.5076724690123672"
      ]
     },
     "execution_count": 22,
     "metadata": {},
     "output_type": "execute_result"
    }
   ],
   "source": [
    "best_seqsignet_network_grp_kfold_11[\"precision\"].mean()"
   ]
  },
  {
   "cell_type": "code",
   "execution_count": 23,
   "id": "783b9d23-ed69-4d85-8f39-68837145ef0e",
   "metadata": {},
   "outputs": [
    {
     "data": {
      "text/plain": [
       "0.5290366044508827"
      ]
     },
     "execution_count": 23,
     "metadata": {},
     "output_type": "execute_result"
    }
   ],
   "source": [
    "best_seqsignet_network_grp_kfold_11[\"recall\"].mean()"
   ]
  },
  {
   "cell_type": "code",
   "execution_count": 24,
   "id": "6ce382d7-fb4b-4f2f-940a-2af5f70b222a",
   "metadata": {},
   "outputs": [
    {
     "data": {
      "text/plain": [
       "array([0.75824939, 0.44796599, 0.33795487])"
      ]
     },
     "execution_count": 24,
     "metadata": {},
     "output_type": "execute_result"
    }
   ],
   "source": [
    "np.stack(best_seqsignet_network_grp_kfold_11[\"f1_scores\"]).mean(axis=0)"
   ]
  },
  {
   "cell_type": "code",
   "execution_count": 25,
   "id": "143b8c68-175f-4a3f-bc90-5980c7ac0a02",
   "metadata": {},
   "outputs": [
    {
     "data": {
      "text/plain": [
       "array([0.78300825, 0.4497759 , 0.29023325])"
      ]
     },
     "execution_count": 25,
     "metadata": {},
     "output_type": "execute_result"
    }
   ],
   "source": [
    "np.stack(best_seqsignet_network_grp_kfold_11[\"precision_scores\"]).mean(axis=0)"
   ]
  },
  {
   "cell_type": "code",
   "execution_count": 26,
   "id": "cc0bd39d-9190-41ec-89a5-9b28e29daf93",
   "metadata": {},
   "outputs": [
    {
     "data": {
      "text/plain": [
       "array([0.7350106 , 0.44664466, 0.40545455])"
      ]
     },
     "execution_count": 26,
     "metadata": {},
     "output_type": "execute_result"
    }
   ],
   "source": [
    "np.stack(best_seqsignet_network_grp_kfold_11[\"recall_scores\"]).mean(axis=0)"
   ]
  },
  {
   "cell_type": "markdown",
   "id": "de271d33-3a57-419a-8372-279af9a0a9bb",
   "metadata": {},
   "source": [
    "# history_length=20"
   ]
  },
  {
   "cell_type": "code",
   "execution_count": 27,
   "id": "521165eb",
   "metadata": {},
   "outputs": [],
   "source": [
    "shift = 3\n",
    "window_size = 5\n",
    "n = 6"
   ]
  },
  {
   "cell_type": "code",
   "execution_count": 28,
   "id": "e1ab36d1",
   "metadata": {},
   "outputs": [
    {
     "data": {
      "application/vnd.jupyter.widget-view+json": {
       "model_id": "40504f9f50924decb80cd52cfba61dc7",
       "version_major": 2,
       "version_minor": 0
      },
      "text/plain": [
       "  0%|          | 0/1 [00:00<?, ?it/s]"
      ]
     },
     "metadata": {},
     "output_type": "display_data"
    },
    {
     "data": {
      "application/vnd.jupyter.widget-view+json": {
       "model_id": "834cdc7f667d40b0bbf4f180acb4b70e",
       "version_major": 2,
       "version_minor": 0
      },
      "text/plain": [
       "  0%|          | 0/1 [00:00<?, ?it/s]"
      ]
     },
     "metadata": {},
     "output_type": "display_data"
    },
    {
     "name": "stdout",
     "output_type": "stream",
     "text": [
      "\n",
      "##################################################\n",
      "dimension: 15 | method: umap\n",
      "given shift 3, window size 5 and n 6: history length = 20\n",
      "[INFO] Concatenating the embeddings to the dataframe...\n",
      "[INFO] - columns beginning with 'e' denote the full embddings.\n",
      "[INFO] - columns beginning with 'd' denote the dimension reduced embeddings.\n",
      "[INFO] Adding time feature columns into dataframe in `.df`.\n",
      "[INFO] Adding 'time_encoding' feature...\n",
      "[INFO] Adding 'time_diff' feature...\n",
      "[INFO] Adding 'timeline_index' feature...\n",
      "[INFO] Padding ids and storing in `.df_padded` and `.array_padded` attributes.\n"
     ]
    },
    {
     "data": {
      "application/vnd.jupyter.widget-view+json": {
       "model_id": "3882e783d90d42d2b1db6d06ce6a59bc",
       "version_major": 2,
       "version_minor": 0
      },
      "text/plain": [
       "  0%|          | 0/9699 [00:00<?, ?it/s]"
      ]
     },
     "metadata": {},
     "output_type": "display_data"
    },
    {
     "name": "stdout",
     "output_type": "stream",
     "text": [
      "[INFO] The path was created for each item in the dataframe, by looking at its history, so to include embeddings in the FFN input, we concatenate the embeddings for each sentence / text.\n"
     ]
    },
    {
     "data": {
      "application/vnd.jupyter.widget-view+json": {
       "model_id": "c5ad1ac8c79449de87d7982385a23e6a",
       "version_major": 2,
       "version_minor": 0
      },
      "text/plain": [
       "  0%|          | 0/2 [00:00<?, ?it/s]"
      ]
     },
     "metadata": {},
     "output_type": "display_data"
    },
    {
     "data": {
      "application/vnd.jupyter.widget-view+json": {
       "model_id": "9e311a8ecb53435da17af1611bb874ac",
       "version_major": 2,
       "version_minor": 0
      },
      "text/plain": [
       "  0%|          | 0/1 [00:00<?, ?it/s]"
      ]
     },
     "metadata": {},
     "output_type": "display_data"
    },
    {
     "data": {
      "application/vnd.jupyter.widget-view+json": {
       "model_id": "8de751f392e24a44b8e718f34150142f",
       "version_major": 2,
       "version_minor": 0
      },
      "text/plain": [
       "  0%|          | 0/1 [00:00<?, ?it/s]"
      ]
     },
     "metadata": {},
     "output_type": "display_data"
    },
    {
     "data": {
      "application/vnd.jupyter.widget-view+json": {
       "model_id": "191034716a87498eb0459171f96c5394",
       "version_major": 2,
       "version_minor": 0
      },
      "text/plain": [
       "  0%|          | 0/2 [00:00<?, ?it/s]"
      ]
     },
     "metadata": {},
     "output_type": "display_data"
    },
    {
     "data": {
      "application/vnd.jupyter.widget-view+json": {
       "model_id": "315eb8b89ca34c719a8f064ad4a12a1e",
       "version_major": 2,
       "version_minor": 0
      },
      "text/plain": [
       "  0%|          | 0/2 [00:00<?, ?it/s]"
      ]
     },
     "metadata": {},
     "output_type": "display_data"
    },
    {
     "data": {
      "application/vnd.jupyter.widget-view+json": {
       "model_id": "c334efc1fbd8476693425c74e47a4bc5",
       "version_major": 2,
       "version_minor": 0
      },
      "text/plain": [
       "  0%|          | 0/3 [00:00<?, ?it/s]"
      ]
     },
     "metadata": {},
     "output_type": "display_data"
    },
    {
     "data": {
      "application/vnd.jupyter.widget-view+json": {
       "model_id": "b772cc0c08c94ede9d9e798656cfe895",
       "version_major": 2,
       "version_minor": 0
      },
      "text/plain": [
       "  0%|          | 0/3 [00:00<?, ?it/s]"
      ]
     },
     "metadata": {},
     "output_type": "display_data"
    },
    {
     "data": {
      "application/vnd.jupyter.widget-view+json": {
       "model_id": "b545d71707104369b8999328754f4227",
       "version_major": 2,
       "version_minor": 0
      },
      "text/plain": [
       "  0%|          | 0/2 [00:00<?, ?it/s]"
      ]
     },
     "metadata": {},
     "output_type": "display_data"
    },
    {
     "data": {
      "application/vnd.jupyter.widget-view+json": {
       "model_id": "c610a5a73aaa493e854c0ba8fcdc04a8",
       "version_major": 2,
       "version_minor": 0
      },
      "text/plain": [
       "  0%|          | 0/3 [00:00<?, ?it/s]"
      ]
     },
     "metadata": {},
     "output_type": "display_data"
    },
    {
     "data": {
      "application/vnd.jupyter.widget-view+json": {
       "model_id": "046983b1147d41d29d1259201a0ab053",
       "version_major": 2,
       "version_minor": 0
      },
      "text/plain": [
       "  0%|          | 0/3 [00:00<?, ?it/s]"
      ]
     },
     "metadata": {},
     "output_type": "display_data"
    },
    {
     "data": {
      "application/vnd.jupyter.widget-view+json": {
       "model_id": "448506a29025478da92db0eda9403470",
       "version_major": 2,
       "version_minor": 0
      },
      "text/plain": [
       "  0%|          | 0/1 [00:00<?, ?it/s]"
      ]
     },
     "metadata": {},
     "output_type": "display_data"
    },
    {
     "data": {
      "application/vnd.jupyter.widget-view+json": {
       "model_id": "f983dc61d2ed45499c150ef3437a9c95",
       "version_major": 2,
       "version_minor": 0
      },
      "text/plain": [
       "  0%|          | 0/1 [00:00<?, ?it/s]"
      ]
     },
     "metadata": {},
     "output_type": "display_data"
    },
    {
     "data": {
      "application/vnd.jupyter.widget-view+json": {
       "model_id": "1d3a2ef54d9b462890cf5925f7bdcc22",
       "version_major": 2,
       "version_minor": 0
      },
      "text/plain": [
       "  0%|          | 0/2 [00:00<?, ?it/s]"
      ]
     },
     "metadata": {},
     "output_type": "display_data"
    },
    {
     "data": {
      "application/vnd.jupyter.widget-view+json": {
       "model_id": "45db31d968e04091bc5207343e4015ef",
       "version_major": 2,
       "version_minor": 0
      },
      "text/plain": [
       "  0%|          | 0/2 [00:00<?, ?it/s]"
      ]
     },
     "metadata": {},
     "output_type": "display_data"
    },
    {
     "data": {
      "application/vnd.jupyter.widget-view+json": {
       "model_id": "2e44aa3a7d664e2b9dfb6a41981a3960",
       "version_major": 2,
       "version_minor": 0
      },
      "text/plain": [
       "  0%|          | 0/3 [00:00<?, ?it/s]"
      ]
     },
     "metadata": {},
     "output_type": "display_data"
    },
    {
     "data": {
      "application/vnd.jupyter.widget-view+json": {
       "model_id": "62678bc1a1fa4eeaa4678ce6e9c4193a",
       "version_major": 2,
       "version_minor": 0
      },
      "text/plain": [
       "  0%|          | 0/3 [00:00<?, ?it/s]"
      ]
     },
     "metadata": {},
     "output_type": "display_data"
    },
    {
     "data": {
      "application/vnd.jupyter.widget-view+json": {
       "model_id": "cec182d02ec747f6a30a061a6575a3a3",
       "version_major": 2,
       "version_minor": 0
      },
      "text/plain": [
       "  0%|          | 0/2 [00:00<?, ?it/s]"
      ]
     },
     "metadata": {},
     "output_type": "display_data"
    },
    {
     "data": {
      "application/vnd.jupyter.widget-view+json": {
       "model_id": "3b7304b18be242719ae9162f91efb7c6",
       "version_major": 2,
       "version_minor": 0
      },
      "text/plain": [
       "  0%|          | 0/3 [00:00<?, ?it/s]"
      ]
     },
     "metadata": {},
     "output_type": "display_data"
    },
    {
     "data": {
      "application/vnd.jupyter.widget-view+json": {
       "model_id": "79276f5c5ba64fcb9ce54e8d8687fb5a",
       "version_major": 2,
       "version_minor": 0
      },
      "text/plain": [
       "  0%|          | 0/3 [00:00<?, ?it/s]"
      ]
     },
     "metadata": {},
     "output_type": "display_data"
    },
    {
     "name": "stdout",
     "output_type": "stream",
     "text": [
      "given shift 3, window size 5 and n 6: history length = 20\n",
      "[INFO] Concatenating the embeddings to the dataframe...\n",
      "[INFO] - columns beginning with 'e' denote the full embddings.\n",
      "[INFO] - columns beginning with 'd' denote the dimension reduced embeddings.\n",
      "[INFO] Adding time feature columns into dataframe in `.df`.\n",
      "[INFO] Adding 'time_encoding' feature...\n",
      "[INFO] Adding 'time_diff' feature...\n",
      "[INFO] Adding 'timeline_index' feature...\n",
      "[INFO] Padding ids and storing in `.df_padded` and `.array_padded` attributes.\n"
     ]
    },
    {
     "data": {
      "application/vnd.jupyter.widget-view+json": {
       "model_id": "2c37c858c3694532b8b55e113bd33371",
       "version_major": 2,
       "version_minor": 0
      },
      "text/plain": [
       "  0%|          | 0/9699 [00:00<?, ?it/s]"
      ]
     },
     "metadata": {},
     "output_type": "display_data"
    },
    {
     "name": "stdout",
     "output_type": "stream",
     "text": [
      "[INFO] The path was created for each item in the dataframe, by looking at its history, so to include embeddings in the FFN input, we concatenate the embeddings for each sentence / text.\n",
      "saving results dataframe to CSV for this hyperparameter search in client_talk_type_output/seqsignet_umap_focal_2_3_5_6_kfold.csv\n",
      "saving the best model results dataframe to CSV for this hyperparameter search in client_talk_type_output/seqsignet_umap_focal_2_3_5_6_kfold_best_model.csv\n"
     ]
    }
   ],
   "source": [
    "(\n",
    "    seqsignet_network_umap_kfold_20,\n",
    "    best_seqsignet_network_umap_kfold_20,\n",
    "    _,\n",
    "    __,\n",
    ") = seqsignet_attention_bilstm_hyperparameter_search(\n",
    "    shift=shift,\n",
    "    window_size=window_size,\n",
    "    n=n,\n",
    "    dim_reduce_methods=[\"umap\"],\n",
    "    results_output=f\"{output_dir}/seqsignet_attention_bilstm_umap_focal_{gamma}_{shift}_{window_size}_{n}_kfold.csv\",\n",
    "    **kwargs,\n",
    ")"
   ]
  },
  {
   "cell_type": "code",
   "execution_count": 29,
   "id": "df26388e",
   "metadata": {},
   "outputs": [
    {
     "data": {
      "text/html": [
       "<div>\n",
       "<style scoped>\n",
       "    .dataframe tbody tr th:only-of-type {\n",
       "        vertical-align: middle;\n",
       "    }\n",
       "\n",
       "    .dataframe tbody tr th {\n",
       "        vertical-align: top;\n",
       "    }\n",
       "\n",
       "    .dataframe thead th {\n",
       "        text-align: right;\n",
       "    }\n",
       "</style>\n",
       "<table border=\"1\" class=\"dataframe\">\n",
       "  <thead>\n",
       "    <tr style=\"text-align: right;\">\n",
       "      <th></th>\n",
       "      <th>loss</th>\n",
       "      <th>accuracy</th>\n",
       "      <th>f1</th>\n",
       "      <th>f1_scores</th>\n",
       "      <th>precision</th>\n",
       "      <th>precision_scores</th>\n",
       "      <th>recall</th>\n",
       "      <th>recall_scores</th>\n",
       "      <th>valid_loss</th>\n",
       "      <th>valid_accuracy</th>\n",
       "      <th>...</th>\n",
       "      <th>seed</th>\n",
       "      <th>loss_function</th>\n",
       "      <th>gamma</th>\n",
       "      <th>k_fold</th>\n",
       "      <th>n_splits</th>\n",
       "      <th>augmentation_type</th>\n",
       "      <th>hidden_dim_aug</th>\n",
       "      <th>comb_method</th>\n",
       "      <th>batch_size</th>\n",
       "      <th>model_id</th>\n",
       "    </tr>\n",
       "  </thead>\n",
       "  <tbody>\n",
       "    <tr>\n",
       "      <th>0</th>\n",
       "      <td>None</td>\n",
       "      <td>0.652107</td>\n",
       "      <td>0.522199</td>\n",
       "      <td>[0.7807347411050045, 0.4256314312441534, 0.360...</td>\n",
       "      <td>0.523550</td>\n",
       "      <td>[0.7809606481481481, 0.49136069114470843, 0.29...</td>\n",
       "      <td>0.536822</td>\n",
       "      <td>[0.780508964719491, 0.37541254125412543, 0.454...</td>\n",
       "      <td>None</td>\n",
       "      <td>0.672286</td>\n",
       "      <td>...</td>\n",
       "      <td>1</td>\n",
       "      <td>focal</td>\n",
       "      <td>2</td>\n",
       "      <td>True</td>\n",
       "      <td>5</td>\n",
       "      <td>Conv1d</td>\n",
       "      <td>None</td>\n",
       "      <td>concatenation</td>\n",
       "      <td>64</td>\n",
       "      <td>0</td>\n",
       "    </tr>\n",
       "    <tr>\n",
       "      <th>0</th>\n",
       "      <td>None</td>\n",
       "      <td>0.629694</td>\n",
       "      <td>0.518186</td>\n",
       "      <td>[0.7580423845098337, 0.4555921052631579, 0.340...</td>\n",
       "      <td>0.510175</td>\n",
       "      <td>[0.8016768784263141, 0.4540983606557377, 0.274...</td>\n",
       "      <td>0.541700</td>\n",
       "      <td>[0.7189126662810873, 0.4570957095709571, 0.449...</td>\n",
       "      <td>None</td>\n",
       "      <td>0.648362</td>\n",
       "      <td>...</td>\n",
       "      <td>12</td>\n",
       "      <td>focal</td>\n",
       "      <td>2</td>\n",
       "      <td>True</td>\n",
       "      <td>5</td>\n",
       "      <td>Conv1d</td>\n",
       "      <td>None</td>\n",
       "      <td>concatenation</td>\n",
       "      <td>64</td>\n",
       "      <td>0</td>\n",
       "    </tr>\n",
       "    <tr>\n",
       "      <th>0</th>\n",
       "      <td>None</td>\n",
       "      <td>0.636207</td>\n",
       "      <td>0.511797</td>\n",
       "      <td>[0.7632935631168066, 0.4327979712595097, 0.339...</td>\n",
       "      <td>0.506039</td>\n",
       "      <td>[0.7778444911438006, 0.4436741767764298, 0.296...</td>\n",
       "      <td>0.522694</td>\n",
       "      <td>[0.7492770387507229, 0.42244224422442245, 0.39...</td>\n",
       "      <td>None</td>\n",
       "      <td>0.668272</td>\n",
       "      <td>...</td>\n",
       "      <td>123</td>\n",
       "      <td>focal</td>\n",
       "      <td>2</td>\n",
       "      <td>True</td>\n",
       "      <td>5</td>\n",
       "      <td>Conv1d</td>\n",
       "      <td>None</td>\n",
       "      <td>concatenation</td>\n",
       "      <td>64</td>\n",
       "      <td>0</td>\n",
       "    </tr>\n",
       "    <tr>\n",
       "      <th>0</th>\n",
       "      <td>None</td>\n",
       "      <td>0.619349</td>\n",
       "      <td>0.459311</td>\n",
       "      <td>[0.7639348984588794, 0.3730355665839537, 0.240...</td>\n",
       "      <td>0.460229</td>\n",
       "      <td>[0.7609756097560976, 0.37396351575456055, 0.24...</td>\n",
       "      <td>0.458464</td>\n",
       "      <td>[0.7669172932330827, 0.3721122112211221, 0.236...</td>\n",
       "      <td>None</td>\n",
       "      <td>0.649005</td>\n",
       "      <td>...</td>\n",
       "      <td>1</td>\n",
       "      <td>focal</td>\n",
       "      <td>2</td>\n",
       "      <td>True</td>\n",
       "      <td>5</td>\n",
       "      <td>Conv1d</td>\n",
       "      <td>None</td>\n",
       "      <td>concatenation</td>\n",
       "      <td>64</td>\n",
       "      <td>1</td>\n",
       "    </tr>\n",
       "    <tr>\n",
       "      <th>0</th>\n",
       "      <td>None</td>\n",
       "      <td>0.594636</td>\n",
       "      <td>0.445205</td>\n",
       "      <td>[0.7374708624708625, 0.35980148883374685, 0.23...</td>\n",
       "      <td>0.443590</td>\n",
       "      <td>[0.7431004110393423, 0.36069651741293535, 0.22...</td>\n",
       "      <td>0.447249</td>\n",
       "      <td>[0.731925968768074, 0.3589108910891089, 0.2509...</td>\n",
       "      <td>None</td>\n",
       "      <td>0.638728</td>\n",
       "      <td>...</td>\n",
       "      <td>12</td>\n",
       "      <td>focal</td>\n",
       "      <td>2</td>\n",
       "      <td>True</td>\n",
       "      <td>5</td>\n",
       "      <td>Conv1d</td>\n",
       "      <td>None</td>\n",
       "      <td>concatenation</td>\n",
       "      <td>64</td>\n",
       "      <td>1</td>\n",
       "    </tr>\n",
       "    <tr>\n",
       "      <th>...</th>\n",
       "      <td>...</td>\n",
       "      <td>...</td>\n",
       "      <td>...</td>\n",
       "      <td>...</td>\n",
       "      <td>...</td>\n",
       "      <td>...</td>\n",
       "      <td>...</td>\n",
       "      <td>...</td>\n",
       "      <td>...</td>\n",
       "      <td>...</td>\n",
       "      <td>...</td>\n",
       "      <td>...</td>\n",
       "      <td>...</td>\n",
       "      <td>...</td>\n",
       "      <td>...</td>\n",
       "      <td>...</td>\n",
       "      <td>...</td>\n",
       "      <td>...</td>\n",
       "      <td>...</td>\n",
       "      <td>...</td>\n",
       "      <td>...</td>\n",
       "    </tr>\n",
       "    <tr>\n",
       "      <th>0</th>\n",
       "      <td>None</td>\n",
       "      <td>0.576820</td>\n",
       "      <td>0.440587</td>\n",
       "      <td>[0.7235142118863049, 0.3683431952662721, 0.229...</td>\n",
       "      <td>0.438489</td>\n",
       "      <td>[0.762576097404678, 0.33378016085790885, 0.219...</td>\n",
       "      <td>0.446989</td>\n",
       "      <td>[0.6882591093117408, 0.41089108910891087, 0.24...</td>\n",
       "      <td>None</td>\n",
       "      <td>0.634554</td>\n",
       "      <td>...</td>\n",
       "      <td>12</td>\n",
       "      <td>focal</td>\n",
       "      <td>2</td>\n",
       "      <td>True</td>\n",
       "      <td>5</td>\n",
       "      <td>Conv1d</td>\n",
       "      <td>None</td>\n",
       "      <td>concatenation</td>\n",
       "      <td>64</td>\n",
       "      <td>22</td>\n",
       "    </tr>\n",
       "    <tr>\n",
       "      <th>0</th>\n",
       "      <td>None</td>\n",
       "      <td>0.607088</td>\n",
       "      <td>0.437618</td>\n",
       "      <td>[0.7525471039776692, 0.30319148936170215, 0.25...</td>\n",
       "      <td>0.444726</td>\n",
       "      <td>[0.7272727272727273, 0.3275862068965517, 0.279...</td>\n",
       "      <td>0.433334</td>\n",
       "      <td>[0.7796414112203586, 0.28217821782178215, 0.23...</td>\n",
       "      <td>None</td>\n",
       "      <td>0.641940</td>\n",
       "      <td>...</td>\n",
       "      <td>123</td>\n",
       "      <td>focal</td>\n",
       "      <td>2</td>\n",
       "      <td>True</td>\n",
       "      <td>5</td>\n",
       "      <td>Conv1d</td>\n",
       "      <td>None</td>\n",
       "      <td>concatenation</td>\n",
       "      <td>64</td>\n",
       "      <td>22</td>\n",
       "    </tr>\n",
       "    <tr>\n",
       "      <th>0</th>\n",
       "      <td>None</td>\n",
       "      <td>0.631992</td>\n",
       "      <td>0.515900</td>\n",
       "      <td>[0.7598738549331732, 0.44557390936044045, 0.34...</td>\n",
       "      <td>0.509159</td>\n",
       "      <td>[0.7903780068728522, 0.4577893820713664, 0.279...</td>\n",
       "      <td>0.535816</td>\n",
       "      <td>[0.7316367842683632, 0.43399339933993397, 0.44...</td>\n",
       "      <td>None</td>\n",
       "      <td>0.659602</td>\n",
       "      <td>...</td>\n",
       "      <td>1</td>\n",
       "      <td>focal</td>\n",
       "      <td>2</td>\n",
       "      <td>True</td>\n",
       "      <td>5</td>\n",
       "      <td>Conv1d</td>\n",
       "      <td>None</td>\n",
       "      <td>concatenation</td>\n",
       "      <td>64</td>\n",
       "      <td>23</td>\n",
       "    </tr>\n",
       "    <tr>\n",
       "      <th>0</th>\n",
       "      <td>None</td>\n",
       "      <td>0.615517</td>\n",
       "      <td>0.514863</td>\n",
       "      <td>[0.7412849773331249, 0.4581049334377447, 0.345...</td>\n",
       "      <td>0.505450</td>\n",
       "      <td>[0.8067369853691732, 0.43591654247391953, 0.27...</td>\n",
       "      <td>0.545201</td>\n",
       "      <td>[0.6856564488143435, 0.48267326732673266, 0.46...</td>\n",
       "      <td>None</td>\n",
       "      <td>0.656551</td>\n",
       "      <td>...</td>\n",
       "      <td>12</td>\n",
       "      <td>focal</td>\n",
       "      <td>2</td>\n",
       "      <td>True</td>\n",
       "      <td>5</td>\n",
       "      <td>Conv1d</td>\n",
       "      <td>None</td>\n",
       "      <td>concatenation</td>\n",
       "      <td>64</td>\n",
       "      <td>23</td>\n",
       "    </tr>\n",
       "    <tr>\n",
       "      <th>0</th>\n",
       "      <td>None</td>\n",
       "      <td>0.636973</td>\n",
       "      <td>0.516142</td>\n",
       "      <td>[0.7641481481481481, 0.43225270157938483, 0.35...</td>\n",
       "      <td>0.508942</td>\n",
       "      <td>[0.7834143377885784, 0.4355108877721943, 0.307...</td>\n",
       "      <td>0.528586</td>\n",
       "      <td>[0.7458068247541931, 0.429042904290429, 0.4109...</td>\n",
       "      <td>None</td>\n",
       "      <td>0.666346</td>\n",
       "      <td>...</td>\n",
       "      <td>123</td>\n",
       "      <td>focal</td>\n",
       "      <td>2</td>\n",
       "      <td>True</td>\n",
       "      <td>5</td>\n",
       "      <td>Conv1d</td>\n",
       "      <td>None</td>\n",
       "      <td>concatenation</td>\n",
       "      <td>64</td>\n",
       "      <td>23</td>\n",
       "    </tr>\n",
       "  </tbody>\n",
       "</table>\n",
       "<p>72 rows × 48 columns</p>\n",
       "</div>"
      ],
      "text/plain": [
       "    loss  accuracy        f1  \\\n",
       "0   None  0.652107  0.522199   \n",
       "0   None  0.629694  0.518186   \n",
       "0   None  0.636207  0.511797   \n",
       "0   None  0.619349  0.459311   \n",
       "0   None  0.594636  0.445205   \n",
       "..   ...       ...       ...   \n",
       "0   None  0.576820  0.440587   \n",
       "0   None  0.607088  0.437618   \n",
       "0   None  0.631992  0.515900   \n",
       "0   None  0.615517  0.514863   \n",
       "0   None  0.636973  0.516142   \n",
       "\n",
       "                                            f1_scores  precision  \\\n",
       "0   [0.7807347411050045, 0.4256314312441534, 0.360...   0.523550   \n",
       "0   [0.7580423845098337, 0.4555921052631579, 0.340...   0.510175   \n",
       "0   [0.7632935631168066, 0.4327979712595097, 0.339...   0.506039   \n",
       "0   [0.7639348984588794, 0.3730355665839537, 0.240...   0.460229   \n",
       "0   [0.7374708624708625, 0.35980148883374685, 0.23...   0.443590   \n",
       "..                                                ...        ...   \n",
       "0   [0.7235142118863049, 0.3683431952662721, 0.229...   0.438489   \n",
       "0   [0.7525471039776692, 0.30319148936170215, 0.25...   0.444726   \n",
       "0   [0.7598738549331732, 0.44557390936044045, 0.34...   0.509159   \n",
       "0   [0.7412849773331249, 0.4581049334377447, 0.345...   0.505450   \n",
       "0   [0.7641481481481481, 0.43225270157938483, 0.35...   0.508942   \n",
       "\n",
       "                                     precision_scores    recall  \\\n",
       "0   [0.7809606481481481, 0.49136069114470843, 0.29...  0.536822   \n",
       "0   [0.8016768784263141, 0.4540983606557377, 0.274...  0.541700   \n",
       "0   [0.7778444911438006, 0.4436741767764298, 0.296...  0.522694   \n",
       "0   [0.7609756097560976, 0.37396351575456055, 0.24...  0.458464   \n",
       "0   [0.7431004110393423, 0.36069651741293535, 0.22...  0.447249   \n",
       "..                                                ...       ...   \n",
       "0   [0.762576097404678, 0.33378016085790885, 0.219...  0.446989   \n",
       "0   [0.7272727272727273, 0.3275862068965517, 0.279...  0.433334   \n",
       "0   [0.7903780068728522, 0.4577893820713664, 0.279...  0.535816   \n",
       "0   [0.8067369853691732, 0.43591654247391953, 0.27...  0.545201   \n",
       "0   [0.7834143377885784, 0.4355108877721943, 0.307...  0.528586   \n",
       "\n",
       "                                        recall_scores valid_loss  \\\n",
       "0   [0.780508964719491, 0.37541254125412543, 0.454...       None   \n",
       "0   [0.7189126662810873, 0.4570957095709571, 0.449...       None   \n",
       "0   [0.7492770387507229, 0.42244224422442245, 0.39...       None   \n",
       "0   [0.7669172932330827, 0.3721122112211221, 0.236...       None   \n",
       "0   [0.731925968768074, 0.3589108910891089, 0.2509...       None   \n",
       "..                                                ...        ...   \n",
       "0   [0.6882591093117408, 0.41089108910891087, 0.24...       None   \n",
       "0   [0.7796414112203586, 0.28217821782178215, 0.23...       None   \n",
       "0   [0.7316367842683632, 0.43399339933993397, 0.44...       None   \n",
       "0   [0.6856564488143435, 0.48267326732673266, 0.46...       None   \n",
       "0   [0.7458068247541931, 0.429042904290429, 0.4109...       None   \n",
       "\n",
       "    valid_accuracy  ...  seed loss_function  gamma k_fold  n_splits  \\\n",
       "0         0.672286  ...     1         focal      2   True         5   \n",
       "0         0.648362  ...    12         focal      2   True         5   \n",
       "0         0.668272  ...   123         focal      2   True         5   \n",
       "0         0.649005  ...     1         focal      2   True         5   \n",
       "0         0.638728  ...    12         focal      2   True         5   \n",
       "..             ...  ...   ...           ...    ...    ...       ...   \n",
       "0         0.634554  ...    12         focal      2   True         5   \n",
       "0         0.641940  ...   123         focal      2   True         5   \n",
       "0         0.659602  ...     1         focal      2   True         5   \n",
       "0         0.656551  ...    12         focal      2   True         5   \n",
       "0         0.666346  ...   123         focal      2   True         5   \n",
       "\n",
       "   augmentation_type  hidden_dim_aug    comb_method  batch_size  model_id  \n",
       "0             Conv1d            None  concatenation          64         0  \n",
       "0             Conv1d            None  concatenation          64         0  \n",
       "0             Conv1d            None  concatenation          64         0  \n",
       "0             Conv1d            None  concatenation          64         1  \n",
       "0             Conv1d            None  concatenation          64         1  \n",
       "..               ...             ...            ...         ...       ...  \n",
       "0             Conv1d            None  concatenation          64        22  \n",
       "0             Conv1d            None  concatenation          64        22  \n",
       "0             Conv1d            None  concatenation          64        23  \n",
       "0             Conv1d            None  concatenation          64        23  \n",
       "0             Conv1d            None  concatenation          64        23  \n",
       "\n",
       "[72 rows x 48 columns]"
      ]
     },
     "execution_count": 29,
     "metadata": {},
     "output_type": "execute_result"
    }
   ],
   "source": [
    "seqsignet_network_umap_kfold_20"
   ]
  },
  {
   "cell_type": "code",
   "execution_count": 30,
   "id": "afeead7d",
   "metadata": {},
   "outputs": [
    {
     "data": {
      "text/plain": [
       "0.5110348126431621"
      ]
     },
     "execution_count": 30,
     "metadata": {},
     "output_type": "execute_result"
    }
   ],
   "source": [
    "best_seqsignet_network_umap_kfold_20[\"f1\"].mean()"
   ]
  },
  {
   "cell_type": "code",
   "execution_count": 31,
   "id": "a51f3dd2",
   "metadata": {},
   "outputs": [
    {
     "data": {
      "text/plain": [
       "0.5054653302183464"
      ]
     },
     "execution_count": 31,
     "metadata": {},
     "output_type": "execute_result"
    }
   ],
   "source": [
    "best_seqsignet_network_umap_kfold_20[\"precision\"].mean()"
   ]
  },
  {
   "cell_type": "code",
   "execution_count": 32,
   "id": "ef127f1e",
   "metadata": {},
   "outputs": [
    {
     "data": {
      "text/plain": [
       "0.5227404566174759"
      ]
     },
     "execution_count": 32,
     "metadata": {},
     "output_type": "execute_result"
    }
   ],
   "source": [
    "best_seqsignet_network_umap_kfold_20[\"recall\"].mean()"
   ]
  },
  {
   "cell_type": "code",
   "execution_count": 33,
   "id": "1584e0f2",
   "metadata": {},
   "outputs": [
    {
     "data": {
      "text/plain": [
       "array([0.76300401, 0.43453073, 0.33556969])"
      ]
     },
     "execution_count": 33,
     "metadata": {},
     "output_type": "execute_result"
    }
   ],
   "source": [
    "np.stack(best_seqsignet_network_umap_kfold_20[\"f1_scores\"]).mean(axis=0)"
   ]
  },
  {
   "cell_type": "code",
   "execution_count": 34,
   "id": "7b4943be",
   "metadata": {},
   "outputs": [
    {
     "data": {
      "text/plain": [
       "array([0.78217366, 0.44060033, 0.29362201])"
      ]
     },
     "execution_count": 34,
     "metadata": {},
     "output_type": "execute_result"
    }
   ],
   "source": [
    "np.stack(best_seqsignet_network_umap_kfold_20[\"precision_scores\"]).mean(axis=0)"
   ]
  },
  {
   "cell_type": "code",
   "execution_count": 35,
   "id": "15c89795",
   "metadata": {},
   "outputs": [
    {
     "data": {
      "text/plain": [
       "array([0.74513206, 0.4309681 , 0.39212121])"
      ]
     },
     "execution_count": 35,
     "metadata": {},
     "output_type": "execute_result"
    }
   ],
   "source": [
    "np.stack(best_seqsignet_network_umap_kfold_20[\"recall_scores\"]).mean(axis=0)"
   ]
  },
  {
   "cell_type": "markdown",
   "id": "811a6de0",
   "metadata": {},
   "source": [
    "## GRP"
   ]
  },
  {
   "cell_type": "code",
   "execution_count": 36,
   "id": "8b137f3c",
   "metadata": {},
   "outputs": [
    {
     "data": {
      "application/vnd.jupyter.widget-view+json": {
       "model_id": "e0fad771d1af494db001281e07fb5498",
       "version_major": 2,
       "version_minor": 0
      },
      "text/plain": [
       "  0%|          | 0/1 [00:00<?, ?it/s]"
      ]
     },
     "metadata": {},
     "output_type": "display_data"
    },
    {
     "data": {
      "application/vnd.jupyter.widget-view+json": {
       "model_id": "9361b1d5898748dc881fc9b41b10e2c0",
       "version_major": 2,
       "version_minor": 0
      },
      "text/plain": [
       "  0%|          | 0/1 [00:00<?, ?it/s]"
      ]
     },
     "metadata": {},
     "output_type": "display_data"
    },
    {
     "name": "stdout",
     "output_type": "stream",
     "text": [
      "\n",
      "##################################################\n",
      "dimension: 15 | method: gaussian_random_projection\n",
      "given shift 3, window size 5 and n 6: history length = 20\n",
      "[INFO] Concatenating the embeddings to the dataframe...\n",
      "[INFO] - columns beginning with 'e' denote the full embddings.\n",
      "[INFO] - columns beginning with 'd' denote the dimension reduced embeddings.\n",
      "[INFO] Adding time feature columns into dataframe in `.df`.\n",
      "[INFO] Adding 'time_encoding' feature...\n",
      "[INFO] Adding 'time_diff' feature...\n",
      "[INFO] Adding 'timeline_index' feature...\n",
      "[INFO] Padding ids and storing in `.df_padded` and `.array_padded` attributes.\n"
     ]
    },
    {
     "data": {
      "application/vnd.jupyter.widget-view+json": {
       "model_id": "84cc47ff0d8e47ad9c8baf5472cf3c3e",
       "version_major": 2,
       "version_minor": 0
      },
      "text/plain": [
       "  0%|          | 0/9699 [00:00<?, ?it/s]"
      ]
     },
     "metadata": {},
     "output_type": "display_data"
    },
    {
     "name": "stdout",
     "output_type": "stream",
     "text": [
      "[INFO] The path was created for each item in the dataframe, by looking at its history, so to include embeddings in the FFN input, we concatenate the embeddings for each sentence / text.\n"
     ]
    },
    {
     "data": {
      "application/vnd.jupyter.widget-view+json": {
       "model_id": "87336f889c3a4ac69b5ca545984a6efd",
       "version_major": 2,
       "version_minor": 0
      },
      "text/plain": [
       "  0%|          | 0/2 [00:00<?, ?it/s]"
      ]
     },
     "metadata": {},
     "output_type": "display_data"
    },
    {
     "data": {
      "application/vnd.jupyter.widget-view+json": {
       "model_id": "7ee47569b14a4833871faf0c2dcc26d8",
       "version_major": 2,
       "version_minor": 0
      },
      "text/plain": [
       "  0%|          | 0/1 [00:00<?, ?it/s]"
      ]
     },
     "metadata": {},
     "output_type": "display_data"
    },
    {
     "data": {
      "application/vnd.jupyter.widget-view+json": {
       "model_id": "c81c166c63044475b5ce6ea04dc900bc",
       "version_major": 2,
       "version_minor": 0
      },
      "text/plain": [
       "  0%|          | 0/1 [00:00<?, ?it/s]"
      ]
     },
     "metadata": {},
     "output_type": "display_data"
    },
    {
     "data": {
      "application/vnd.jupyter.widget-view+json": {
       "model_id": "5291808bf56d432baf2338e745cc5bb0",
       "version_major": 2,
       "version_minor": 0
      },
      "text/plain": [
       "  0%|          | 0/2 [00:00<?, ?it/s]"
      ]
     },
     "metadata": {},
     "output_type": "display_data"
    },
    {
     "data": {
      "application/vnd.jupyter.widget-view+json": {
       "model_id": "119980496ed64a2591754f9f07ea918b",
       "version_major": 2,
       "version_minor": 0
      },
      "text/plain": [
       "  0%|          | 0/2 [00:00<?, ?it/s]"
      ]
     },
     "metadata": {},
     "output_type": "display_data"
    },
    {
     "data": {
      "application/vnd.jupyter.widget-view+json": {
       "model_id": "adfcba3c31d345ed9a488d2108a5b315",
       "version_major": 2,
       "version_minor": 0
      },
      "text/plain": [
       "  0%|          | 0/3 [00:00<?, ?it/s]"
      ]
     },
     "metadata": {},
     "output_type": "display_data"
    },
    {
     "data": {
      "application/vnd.jupyter.widget-view+json": {
       "model_id": "b3f78ccf24a7470b9d80a52a2505a1ee",
       "version_major": 2,
       "version_minor": 0
      },
      "text/plain": [
       "  0%|          | 0/3 [00:00<?, ?it/s]"
      ]
     },
     "metadata": {},
     "output_type": "display_data"
    },
    {
     "data": {
      "application/vnd.jupyter.widget-view+json": {
       "model_id": "f43cfce795634e7a9493d2a41d229318",
       "version_major": 2,
       "version_minor": 0
      },
      "text/plain": [
       "  0%|          | 0/2 [00:00<?, ?it/s]"
      ]
     },
     "metadata": {},
     "output_type": "display_data"
    },
    {
     "data": {
      "application/vnd.jupyter.widget-view+json": {
       "model_id": "b178756c8dd342e89e88bac539076743",
       "version_major": 2,
       "version_minor": 0
      },
      "text/plain": [
       "  0%|          | 0/3 [00:00<?, ?it/s]"
      ]
     },
     "metadata": {},
     "output_type": "display_data"
    },
    {
     "data": {
      "application/vnd.jupyter.widget-view+json": {
       "model_id": "631f3d089aac4915a7e53b0e5724a772",
       "version_major": 2,
       "version_minor": 0
      },
      "text/plain": [
       "  0%|          | 0/3 [00:00<?, ?it/s]"
      ]
     },
     "metadata": {},
     "output_type": "display_data"
    },
    {
     "data": {
      "application/vnd.jupyter.widget-view+json": {
       "model_id": "1efdd388c3224426ba9fdef38bea8104",
       "version_major": 2,
       "version_minor": 0
      },
      "text/plain": [
       "  0%|          | 0/1 [00:00<?, ?it/s]"
      ]
     },
     "metadata": {},
     "output_type": "display_data"
    },
    {
     "data": {
      "application/vnd.jupyter.widget-view+json": {
       "model_id": "6c547497c7d5450580ef578b4e70e1fb",
       "version_major": 2,
       "version_minor": 0
      },
      "text/plain": [
       "  0%|          | 0/1 [00:00<?, ?it/s]"
      ]
     },
     "metadata": {},
     "output_type": "display_data"
    },
    {
     "data": {
      "application/vnd.jupyter.widget-view+json": {
       "model_id": "da0489bbb5824dd2b3a7393de8950a23",
       "version_major": 2,
       "version_minor": 0
      },
      "text/plain": [
       "  0%|          | 0/2 [00:00<?, ?it/s]"
      ]
     },
     "metadata": {},
     "output_type": "display_data"
    },
    {
     "data": {
      "application/vnd.jupyter.widget-view+json": {
       "model_id": "0c1781ae314f437c93ff8bd2158e55b8",
       "version_major": 2,
       "version_minor": 0
      },
      "text/plain": [
       "  0%|          | 0/2 [00:00<?, ?it/s]"
      ]
     },
     "metadata": {},
     "output_type": "display_data"
    },
    {
     "data": {
      "application/vnd.jupyter.widget-view+json": {
       "model_id": "250b3b27b79b4bd5bcbbfd2bf470cb83",
       "version_major": 2,
       "version_minor": 0
      },
      "text/plain": [
       "  0%|          | 0/3 [00:00<?, ?it/s]"
      ]
     },
     "metadata": {},
     "output_type": "display_data"
    },
    {
     "data": {
      "application/vnd.jupyter.widget-view+json": {
       "model_id": "f03eb2d3fcfe45fd92f9cbce1c2beb12",
       "version_major": 2,
       "version_minor": 0
      },
      "text/plain": [
       "  0%|          | 0/3 [00:00<?, ?it/s]"
      ]
     },
     "metadata": {},
     "output_type": "display_data"
    },
    {
     "data": {
      "application/vnd.jupyter.widget-view+json": {
       "model_id": "cf0c44c972c44cf6b11a301e6ff2ad29",
       "version_major": 2,
       "version_minor": 0
      },
      "text/plain": [
       "  0%|          | 0/2 [00:00<?, ?it/s]"
      ]
     },
     "metadata": {},
     "output_type": "display_data"
    },
    {
     "data": {
      "application/vnd.jupyter.widget-view+json": {
       "model_id": "4a0cc89e4bc040d68ecc23fb899c0973",
       "version_major": 2,
       "version_minor": 0
      },
      "text/plain": [
       "  0%|          | 0/3 [00:00<?, ?it/s]"
      ]
     },
     "metadata": {},
     "output_type": "display_data"
    },
    {
     "data": {
      "application/vnd.jupyter.widget-view+json": {
       "model_id": "548ab517f66d4f06a7163a11a47156fa",
       "version_major": 2,
       "version_minor": 0
      },
      "text/plain": [
       "  0%|          | 0/3 [00:00<?, ?it/s]"
      ]
     },
     "metadata": {},
     "output_type": "display_data"
    },
    {
     "name": "stdout",
     "output_type": "stream",
     "text": [
      "given shift 3, window size 5 and n 6: history length = 20\n",
      "[INFO] Concatenating the embeddings to the dataframe...\n",
      "[INFO] - columns beginning with 'e' denote the full embddings.\n",
      "[INFO] - columns beginning with 'd' denote the dimension reduced embeddings.\n",
      "[INFO] Adding time feature columns into dataframe in `.df`.\n",
      "[INFO] Adding 'time_encoding' feature...\n",
      "[INFO] Adding 'time_diff' feature...\n",
      "[INFO] Adding 'timeline_index' feature...\n",
      "[INFO] Padding ids and storing in `.df_padded` and `.array_padded` attributes.\n"
     ]
    },
    {
     "data": {
      "application/vnd.jupyter.widget-view+json": {
       "model_id": "6a636ccdc4fb4e0fbacb4d2036fc3ed0",
       "version_major": 2,
       "version_minor": 0
      },
      "text/plain": [
       "  0%|          | 0/9699 [00:00<?, ?it/s]"
      ]
     },
     "metadata": {},
     "output_type": "display_data"
    },
    {
     "name": "stdout",
     "output_type": "stream",
     "text": [
      "[INFO] The path was created for each item in the dataframe, by looking at its history, so to include embeddings in the FFN input, we concatenate the embeddings for each sentence / text.\n",
      "saving results dataframe to CSV for this hyperparameter search in client_talk_type_output/seqsignet_grp_focal_2_3_5_6_kfold.csv\n",
      "saving the best model results dataframe to CSV for this hyperparameter search in client_talk_type_output/seqsignet_grp_focal_2_3_5_6_kfold_best_model.csv\n"
     ]
    }
   ],
   "source": [
    "(\n",
    "    seqsignet_network_grp_kfold_20,\n",
    "    best_seqsignet_network_grp_kfold_20,\n",
    "    _,\n",
    "    __,\n",
    ") = seqsignet_attention_bilstm_hyperparameter_search(\n",
    "    shift=shift,\n",
    "    window_size=window_size,\n",
    "    n=n,\n",
    "    dim_reduce_methods=[\"gaussian_random_projection\"],\n",
    "    results_output=f\"{output_dir}/seqsignet_attention_bilstm_grp_focal_{gamma}_{shift}_{window_size}_{n}_kfold.csv\",\n",
    "    **kwargs,\n",
    ")"
   ]
  },
  {
   "cell_type": "code",
   "execution_count": 37,
   "id": "f3298f8c",
   "metadata": {},
   "outputs": [
    {
     "data": {
      "text/html": [
       "<div>\n",
       "<style scoped>\n",
       "    .dataframe tbody tr th:only-of-type {\n",
       "        vertical-align: middle;\n",
       "    }\n",
       "\n",
       "    .dataframe tbody tr th {\n",
       "        vertical-align: top;\n",
       "    }\n",
       "\n",
       "    .dataframe thead th {\n",
       "        text-align: right;\n",
       "    }\n",
       "</style>\n",
       "<table border=\"1\" class=\"dataframe\">\n",
       "  <thead>\n",
       "    <tr style=\"text-align: right;\">\n",
       "      <th></th>\n",
       "      <th>loss</th>\n",
       "      <th>accuracy</th>\n",
       "      <th>f1</th>\n",
       "      <th>f1_scores</th>\n",
       "      <th>precision</th>\n",
       "      <th>precision_scores</th>\n",
       "      <th>recall</th>\n",
       "      <th>recall_scores</th>\n",
       "      <th>valid_loss</th>\n",
       "      <th>valid_accuracy</th>\n",
       "      <th>...</th>\n",
       "      <th>seed</th>\n",
       "      <th>loss_function</th>\n",
       "      <th>gamma</th>\n",
       "      <th>k_fold</th>\n",
       "      <th>n_splits</th>\n",
       "      <th>augmentation_type</th>\n",
       "      <th>hidden_dim_aug</th>\n",
       "      <th>comb_method</th>\n",
       "      <th>batch_size</th>\n",
       "      <th>model_id</th>\n",
       "    </tr>\n",
       "  </thead>\n",
       "  <tbody>\n",
       "    <tr>\n",
       "      <th>0</th>\n",
       "      <td>None</td>\n",
       "      <td>0.650575</td>\n",
       "      <td>0.515646</td>\n",
       "      <td>[0.7787661406025825, 0.42282507015902715, 0.34...</td>\n",
       "      <td>0.518339</td>\n",
       "      <td>[0.7727790432801822, 0.48812095032397407, 0.29...</td>\n",
       "      <td>0.525322</td>\n",
       "      <td>[0.7848467322151532, 0.37293729372937295, 0.41...</td>\n",
       "      <td>None</td>\n",
       "      <td>0.672929</td>\n",
       "      <td>...</td>\n",
       "      <td>1</td>\n",
       "      <td>focal</td>\n",
       "      <td>2</td>\n",
       "      <td>True</td>\n",
       "      <td>5</td>\n",
       "      <td>Conv1d</td>\n",
       "      <td>None</td>\n",
       "      <td>concatenation</td>\n",
       "      <td>64</td>\n",
       "      <td>0</td>\n",
       "    </tr>\n",
       "    <tr>\n",
       "      <th>0</th>\n",
       "      <td>None</td>\n",
       "      <td>0.628352</td>\n",
       "      <td>0.518639</td>\n",
       "      <td>[0.756256635825876, 0.43875838926174493, 0.360...</td>\n",
       "      <td>0.510206</td>\n",
       "      <td>[0.7952153110047847, 0.4462457337883959, 0.289...</td>\n",
       "      <td>0.544152</td>\n",
       "      <td>[0.7209369577790631, 0.4315181518151815, 0.48]</td>\n",
       "      <td>None</td>\n",
       "      <td>0.650771</td>\n",
       "      <td>...</td>\n",
       "      <td>12</td>\n",
       "      <td>focal</td>\n",
       "      <td>2</td>\n",
       "      <td>True</td>\n",
       "      <td>5</td>\n",
       "      <td>Conv1d</td>\n",
       "      <td>None</td>\n",
       "      <td>concatenation</td>\n",
       "      <td>64</td>\n",
       "      <td>0</td>\n",
       "    </tr>\n",
       "    <tr>\n",
       "      <th>0</th>\n",
       "      <td>None</td>\n",
       "      <td>0.633525</td>\n",
       "      <td>0.518490</td>\n",
       "      <td>[0.7588673621460507, 0.4384980578334053, 0.358...</td>\n",
       "      <td>0.511932</td>\n",
       "      <td>[0.7829028290282903, 0.4597285067873303, 0.293...</td>\n",
       "      <td>0.538469</td>\n",
       "      <td>[0.7362637362637363, 0.41914191419141916, 0.46]</td>\n",
       "      <td>None</td>\n",
       "      <td>0.662813</td>\n",
       "      <td>...</td>\n",
       "      <td>123</td>\n",
       "      <td>focal</td>\n",
       "      <td>2</td>\n",
       "      <td>True</td>\n",
       "      <td>5</td>\n",
       "      <td>Conv1d</td>\n",
       "      <td>None</td>\n",
       "      <td>concatenation</td>\n",
       "      <td>64</td>\n",
       "      <td>0</td>\n",
       "    </tr>\n",
       "    <tr>\n",
       "      <th>0</th>\n",
       "      <td>None</td>\n",
       "      <td>0.636015</td>\n",
       "      <td>0.486497</td>\n",
       "      <td>[0.7682594346391162, 0.40824742268041236, 0.28...</td>\n",
       "      <td>0.489642</td>\n",
       "      <td>[0.7624608373682712, 0.40807914262159933, 0.29...</td>\n",
       "      <td>0.483885</td>\n",
       "      <td>[0.7741469057258531, 0.4084158415841584, 0.269...</td>\n",
       "      <td>None</td>\n",
       "      <td>0.678388</td>\n",
       "      <td>...</td>\n",
       "      <td>1</td>\n",
       "      <td>focal</td>\n",
       "      <td>2</td>\n",
       "      <td>True</td>\n",
       "      <td>5</td>\n",
       "      <td>Conv1d</td>\n",
       "      <td>None</td>\n",
       "      <td>concatenation</td>\n",
       "      <td>64</td>\n",
       "      <td>1</td>\n",
       "    </tr>\n",
       "    <tr>\n",
       "      <th>0</th>\n",
       "      <td>None</td>\n",
       "      <td>0.622989</td>\n",
       "      <td>0.482590</td>\n",
       "      <td>[0.7575623432197137, 0.4174795161919625, 0.272...</td>\n",
       "      <td>0.480719</td>\n",
       "      <td>[0.7734257306417596, 0.3960029607698001, 0.272...</td>\n",
       "      <td>0.485494</td>\n",
       "      <td>[0.7423366107576634, 0.4414191419141914, 0.272...</td>\n",
       "      <td>None</td>\n",
       "      <td>0.662010</td>\n",
       "      <td>...</td>\n",
       "      <td>12</td>\n",
       "      <td>focal</td>\n",
       "      <td>2</td>\n",
       "      <td>True</td>\n",
       "      <td>5</td>\n",
       "      <td>Conv1d</td>\n",
       "      <td>None</td>\n",
       "      <td>concatenation</td>\n",
       "      <td>64</td>\n",
       "      <td>1</td>\n",
       "    </tr>\n",
       "    <tr>\n",
       "      <th>...</th>\n",
       "      <td>...</td>\n",
       "      <td>...</td>\n",
       "      <td>...</td>\n",
       "      <td>...</td>\n",
       "      <td>...</td>\n",
       "      <td>...</td>\n",
       "      <td>...</td>\n",
       "      <td>...</td>\n",
       "      <td>...</td>\n",
       "      <td>...</td>\n",
       "      <td>...</td>\n",
       "      <td>...</td>\n",
       "      <td>...</td>\n",
       "      <td>...</td>\n",
       "      <td>...</td>\n",
       "      <td>...</td>\n",
       "      <td>...</td>\n",
       "      <td>...</td>\n",
       "      <td>...</td>\n",
       "      <td>...</td>\n",
       "      <td>...</td>\n",
       "    </tr>\n",
       "    <tr>\n",
       "      <th>0</th>\n",
       "      <td>None</td>\n",
       "      <td>0.618966</td>\n",
       "      <td>0.491071</td>\n",
       "      <td>[0.7485154394299287, 0.42151394422310756, 0.30...</td>\n",
       "      <td>0.485891</td>\n",
       "      <td>[0.7690665039658329, 0.40755007704160245, 0.28...</td>\n",
       "      <td>0.498198</td>\n",
       "      <td>[0.7290341237709659, 0.43646864686468645, 0.32...</td>\n",
       "      <td>None</td>\n",
       "      <td>0.663937</td>\n",
       "      <td>...</td>\n",
       "      <td>12</td>\n",
       "      <td>focal</td>\n",
       "      <td>2</td>\n",
       "      <td>True</td>\n",
       "      <td>5</td>\n",
       "      <td>Conv1d</td>\n",
       "      <td>None</td>\n",
       "      <td>concatenation</td>\n",
       "      <td>64</td>\n",
       "      <td>22</td>\n",
       "    </tr>\n",
       "    <tr>\n",
       "      <th>0</th>\n",
       "      <td>None</td>\n",
       "      <td>0.627778</td>\n",
       "      <td>0.494648</td>\n",
       "      <td>[0.7560035576638008, 0.43534812547819435, 0.29...</td>\n",
       "      <td>0.493170</td>\n",
       "      <td>[0.7755474452554745, 0.405848787446505, 0.2981...</td>\n",
       "      <td>0.498055</td>\n",
       "      <td>[0.7374204742625795, 0.46947194719471946, 0.28...</td>\n",
       "      <td>None</td>\n",
       "      <td>0.676140</td>\n",
       "      <td>...</td>\n",
       "      <td>123</td>\n",
       "      <td>focal</td>\n",
       "      <td>2</td>\n",
       "      <td>True</td>\n",
       "      <td>5</td>\n",
       "      <td>Conv1d</td>\n",
       "      <td>None</td>\n",
       "      <td>concatenation</td>\n",
       "      <td>64</td>\n",
       "      <td>22</td>\n",
       "    </tr>\n",
       "    <tr>\n",
       "      <th>0</th>\n",
       "      <td>None</td>\n",
       "      <td>0.621648</td>\n",
       "      <td>0.509752</td>\n",
       "      <td>[0.7491995731056563, 0.4506927465362673, 0.329...</td>\n",
       "      <td>0.501845</td>\n",
       "      <td>[0.7923250564334086, 0.44524959742351045, 0.26...</td>\n",
       "      <td>0.531357</td>\n",
       "      <td>[0.7105263157894737, 0.45627062706270627, 0.42...</td>\n",
       "      <td>None</td>\n",
       "      <td>0.652858</td>\n",
       "      <td>...</td>\n",
       "      <td>1</td>\n",
       "      <td>focal</td>\n",
       "      <td>2</td>\n",
       "      <td>True</td>\n",
       "      <td>5</td>\n",
       "      <td>Conv1d</td>\n",
       "      <td>None</td>\n",
       "      <td>concatenation</td>\n",
       "      <td>64</td>\n",
       "      <td>23</td>\n",
       "    </tr>\n",
       "    <tr>\n",
       "      <th>0</th>\n",
       "      <td>None</td>\n",
       "      <td>0.623563</td>\n",
       "      <td>0.516679</td>\n",
       "      <td>[0.7492307692307693, 0.45714285714285713, 0.34...</td>\n",
       "      <td>0.507096</td>\n",
       "      <td>[0.8004602235371466, 0.44036697247706424, 0.28...</td>\n",
       "      <td>0.541016</td>\n",
       "      <td>[0.7041642567958357, 0.4752475247524752, 0.443...</td>\n",
       "      <td>None</td>\n",
       "      <td>0.651413</td>\n",
       "      <td>...</td>\n",
       "      <td>12</td>\n",
       "      <td>focal</td>\n",
       "      <td>2</td>\n",
       "      <td>True</td>\n",
       "      <td>5</td>\n",
       "      <td>Conv1d</td>\n",
       "      <td>None</td>\n",
       "      <td>concatenation</td>\n",
       "      <td>64</td>\n",
       "      <td>23</td>\n",
       "    </tr>\n",
       "    <tr>\n",
       "      <th>0</th>\n",
       "      <td>None</td>\n",
       "      <td>0.629885</td>\n",
       "      <td>0.514915</td>\n",
       "      <td>[0.756134051466188, 0.43718166383701185, 0.351...</td>\n",
       "      <td>0.507637</td>\n",
       "      <td>[0.7833230006199629, 0.45017482517482516, 0.28...</td>\n",
       "      <td>0.534320</td>\n",
       "      <td>[0.7307692307692307, 0.4249174917491749, 0.447...</td>\n",
       "      <td>None</td>\n",
       "      <td>0.671162</td>\n",
       "      <td>...</td>\n",
       "      <td>123</td>\n",
       "      <td>focal</td>\n",
       "      <td>2</td>\n",
       "      <td>True</td>\n",
       "      <td>5</td>\n",
       "      <td>Conv1d</td>\n",
       "      <td>None</td>\n",
       "      <td>concatenation</td>\n",
       "      <td>64</td>\n",
       "      <td>23</td>\n",
       "    </tr>\n",
       "  </tbody>\n",
       "</table>\n",
       "<p>72 rows × 48 columns</p>\n",
       "</div>"
      ],
      "text/plain": [
       "    loss  accuracy        f1  \\\n",
       "0   None  0.650575  0.515646   \n",
       "0   None  0.628352  0.518639   \n",
       "0   None  0.633525  0.518490   \n",
       "0   None  0.636015  0.486497   \n",
       "0   None  0.622989  0.482590   \n",
       "..   ...       ...       ...   \n",
       "0   None  0.618966  0.491071   \n",
       "0   None  0.627778  0.494648   \n",
       "0   None  0.621648  0.509752   \n",
       "0   None  0.623563  0.516679   \n",
       "0   None  0.629885  0.514915   \n",
       "\n",
       "                                            f1_scores  precision  \\\n",
       "0   [0.7787661406025825, 0.42282507015902715, 0.34...   0.518339   \n",
       "0   [0.756256635825876, 0.43875838926174493, 0.360...   0.510206   \n",
       "0   [0.7588673621460507, 0.4384980578334053, 0.358...   0.511932   \n",
       "0   [0.7682594346391162, 0.40824742268041236, 0.28...   0.489642   \n",
       "0   [0.7575623432197137, 0.4174795161919625, 0.272...   0.480719   \n",
       "..                                                ...        ...   \n",
       "0   [0.7485154394299287, 0.42151394422310756, 0.30...   0.485891   \n",
       "0   [0.7560035576638008, 0.43534812547819435, 0.29...   0.493170   \n",
       "0   [0.7491995731056563, 0.4506927465362673, 0.329...   0.501845   \n",
       "0   [0.7492307692307693, 0.45714285714285713, 0.34...   0.507096   \n",
       "0   [0.756134051466188, 0.43718166383701185, 0.351...   0.507637   \n",
       "\n",
       "                                     precision_scores    recall  \\\n",
       "0   [0.7727790432801822, 0.48812095032397407, 0.29...  0.525322   \n",
       "0   [0.7952153110047847, 0.4462457337883959, 0.289...  0.544152   \n",
       "0   [0.7829028290282903, 0.4597285067873303, 0.293...  0.538469   \n",
       "0   [0.7624608373682712, 0.40807914262159933, 0.29...  0.483885   \n",
       "0   [0.7734257306417596, 0.3960029607698001, 0.272...  0.485494   \n",
       "..                                                ...       ...   \n",
       "0   [0.7690665039658329, 0.40755007704160245, 0.28...  0.498198   \n",
       "0   [0.7755474452554745, 0.405848787446505, 0.2981...  0.498055   \n",
       "0   [0.7923250564334086, 0.44524959742351045, 0.26...  0.531357   \n",
       "0   [0.8004602235371466, 0.44036697247706424, 0.28...  0.541016   \n",
       "0   [0.7833230006199629, 0.45017482517482516, 0.28...  0.534320   \n",
       "\n",
       "                                        recall_scores valid_loss  \\\n",
       "0   [0.7848467322151532, 0.37293729372937295, 0.41...       None   \n",
       "0      [0.7209369577790631, 0.4315181518151815, 0.48]       None   \n",
       "0     [0.7362637362637363, 0.41914191419141916, 0.46]       None   \n",
       "0   [0.7741469057258531, 0.4084158415841584, 0.269...       None   \n",
       "0   [0.7423366107576634, 0.4414191419141914, 0.272...       None   \n",
       "..                                                ...        ...   \n",
       "0   [0.7290341237709659, 0.43646864686468645, 0.32...       None   \n",
       "0   [0.7374204742625795, 0.46947194719471946, 0.28...       None   \n",
       "0   [0.7105263157894737, 0.45627062706270627, 0.42...       None   \n",
       "0   [0.7041642567958357, 0.4752475247524752, 0.443...       None   \n",
       "0   [0.7307692307692307, 0.4249174917491749, 0.447...       None   \n",
       "\n",
       "    valid_accuracy  ...  seed loss_function  gamma k_fold  n_splits  \\\n",
       "0         0.672929  ...     1         focal      2   True         5   \n",
       "0         0.650771  ...    12         focal      2   True         5   \n",
       "0         0.662813  ...   123         focal      2   True         5   \n",
       "0         0.678388  ...     1         focal      2   True         5   \n",
       "0         0.662010  ...    12         focal      2   True         5   \n",
       "..             ...  ...   ...           ...    ...    ...       ...   \n",
       "0         0.663937  ...    12         focal      2   True         5   \n",
       "0         0.676140  ...   123         focal      2   True         5   \n",
       "0         0.652858  ...     1         focal      2   True         5   \n",
       "0         0.651413  ...    12         focal      2   True         5   \n",
       "0         0.671162  ...   123         focal      2   True         5   \n",
       "\n",
       "   augmentation_type  hidden_dim_aug    comb_method  batch_size  model_id  \n",
       "0             Conv1d            None  concatenation          64         0  \n",
       "0             Conv1d            None  concatenation          64         0  \n",
       "0             Conv1d            None  concatenation          64         0  \n",
       "0             Conv1d            None  concatenation          64         1  \n",
       "0             Conv1d            None  concatenation          64         1  \n",
       "..               ...             ...            ...         ...       ...  \n",
       "0             Conv1d            None  concatenation          64        22  \n",
       "0             Conv1d            None  concatenation          64        22  \n",
       "0             Conv1d            None  concatenation          64        23  \n",
       "0             Conv1d            None  concatenation          64        23  \n",
       "0             Conv1d            None  concatenation          64        23  \n",
       "\n",
       "[72 rows x 48 columns]"
      ]
     },
     "execution_count": 37,
     "metadata": {},
     "output_type": "execute_result"
    }
   ],
   "source": [
    "seqsignet_network_grp_kfold_20"
   ]
  },
  {
   "cell_type": "code",
   "execution_count": 38,
   "id": "3a8e5ddb",
   "metadata": {},
   "outputs": [
    {
     "data": {
      "text/plain": [
       "0.5086250178315498"
      ]
     },
     "execution_count": 38,
     "metadata": {},
     "output_type": "execute_result"
    }
   ],
   "source": [
    "best_seqsignet_network_grp_kfold_20[\"f1\"].mean()"
   ]
  },
  {
   "cell_type": "code",
   "execution_count": 39,
   "id": "9128727b",
   "metadata": {},
   "outputs": [
    {
     "data": {
      "text/plain": [
       "0.5022627929359947"
      ]
     },
     "execution_count": 39,
     "metadata": {},
     "output_type": "execute_result"
    }
   ],
   "source": [
    "best_seqsignet_network_grp_kfold_20[\"precision\"].mean()"
   ]
  },
  {
   "cell_type": "code",
   "execution_count": 40,
   "id": "f6c7ed11",
   "metadata": {},
   "outputs": [
    {
     "data": {
      "text/plain": [
       "0.5249572086570523"
      ]
     },
     "execution_count": 40,
     "metadata": {},
     "output_type": "execute_result"
    }
   ],
   "source": [
    "best_seqsignet_network_grp_kfold_20[\"recall\"].mean()"
   ]
  },
  {
   "cell_type": "code",
   "execution_count": 41,
   "id": "068fb365",
   "metadata": {},
   "outputs": [
    {
     "data": {
      "text/plain": [
       "array([0.75458885, 0.43588655, 0.33539966])"
      ]
     },
     "execution_count": 41,
     "metadata": {},
     "output_type": "execute_result"
    }
   ],
   "source": [
    "np.stack(best_seqsignet_network_grp_kfold_20[\"f1_scores\"]).mean(axis=0)"
   ]
  },
  {
   "cell_type": "code",
   "execution_count": 42,
   "id": "778a6031",
   "metadata": {},
   "outputs": [
    {
     "data": {
      "text/plain": [
       "array([0.78293591, 0.43796772, 0.28588475])"
      ]
     },
     "execution_count": 42,
     "metadata": {},
     "output_type": "execute_result"
    }
   ],
   "source": [
    "np.stack(best_seqsignet_network_grp_kfold_20[\"precision_scores\"]).mean(axis=0)"
   ]
  },
  {
   "cell_type": "code",
   "execution_count": 43,
   "id": "be4101c4",
   "metadata": {},
   "outputs": [
    {
     "data": {
      "text/plain": [
       "array([0.72826297, 0.43509351, 0.41151515])"
      ]
     },
     "execution_count": 43,
     "metadata": {},
     "output_type": "execute_result"
    }
   ],
   "source": [
    "np.stack(best_seqsignet_network_grp_kfold_20[\"recall_scores\"]).mean(axis=0)"
   ]
  },
  {
   "cell_type": "markdown",
   "id": "179dbb85-f360-4c16-a852-fb32cc0e01d6",
   "metadata": {},
   "source": [
    "# history_length=35"
   ]
  },
  {
   "cell_type": "code",
   "execution_count": 44,
   "id": "af118561-2837-4bbb-b2df-59535f5e77be",
   "metadata": {},
   "outputs": [],
   "source": [
    "shift = 3\n",
    "window_size = 5\n",
    "n = 11"
   ]
  },
  {
   "cell_type": "code",
   "execution_count": 45,
   "id": "9f88d24b-150e-44d2-8de8-63a823df9963",
   "metadata": {},
   "outputs": [
    {
     "data": {
      "application/vnd.jupyter.widget-view+json": {
       "model_id": "37e796be3f9747eeab7ab215a6fb556d",
       "version_major": 2,
       "version_minor": 0
      },
      "text/plain": [
       "  0%|          | 0/1 [00:00<?, ?it/s]"
      ]
     },
     "metadata": {},
     "output_type": "display_data"
    },
    {
     "data": {
      "application/vnd.jupyter.widget-view+json": {
       "model_id": "9a0291c7b48b4dcc95c3234c2aa667dd",
       "version_major": 2,
       "version_minor": 0
      },
      "text/plain": [
       "  0%|          | 0/1 [00:00<?, ?it/s]"
      ]
     },
     "metadata": {},
     "output_type": "display_data"
    },
    {
     "name": "stdout",
     "output_type": "stream",
     "text": [
      "\n",
      "##################################################\n",
      "dimension: 15 | method: umap\n",
      "given shift 3, window size 5 and n 11: history length = 35\n",
      "[INFO] Concatenating the embeddings to the dataframe...\n",
      "[INFO] - columns beginning with 'e' denote the full embddings.\n",
      "[INFO] - columns beginning with 'd' denote the dimension reduced embeddings.\n",
      "[INFO] Adding time feature columns into dataframe in `.df`.\n",
      "[INFO] Adding 'time_encoding' feature...\n",
      "[INFO] Adding 'time_diff' feature...\n",
      "[INFO] Adding 'timeline_index' feature...\n",
      "[INFO] Padding ids and storing in `.df_padded` and `.array_padded` attributes.\n"
     ]
    },
    {
     "data": {
      "application/vnd.jupyter.widget-view+json": {
       "model_id": "591e49ea02a4459db7b4272787f019f9",
       "version_major": 2,
       "version_minor": 0
      },
      "text/plain": [
       "  0%|          | 0/9699 [00:00<?, ?it/s]"
      ]
     },
     "metadata": {},
     "output_type": "display_data"
    },
    {
     "name": "stdout",
     "output_type": "stream",
     "text": [
      "[INFO] The path was created for each item in the dataframe, by looking at its history, so to include embeddings in the FFN input, we concatenate the embeddings for each sentence / text.\n"
     ]
    },
    {
     "data": {
      "application/vnd.jupyter.widget-view+json": {
       "model_id": "f3d8b767fb534c00bb749e580cb885c6",
       "version_major": 2,
       "version_minor": 0
      },
      "text/plain": [
       "  0%|          | 0/2 [00:00<?, ?it/s]"
      ]
     },
     "metadata": {},
     "output_type": "display_data"
    },
    {
     "data": {
      "application/vnd.jupyter.widget-view+json": {
       "model_id": "7d67eb688c7c4d99896f6f6ea64f354b",
       "version_major": 2,
       "version_minor": 0
      },
      "text/plain": [
       "  0%|          | 0/1 [00:00<?, ?it/s]"
      ]
     },
     "metadata": {},
     "output_type": "display_data"
    },
    {
     "data": {
      "application/vnd.jupyter.widget-view+json": {
       "model_id": "ada6e953d1754fd0ad0e74509f01a329",
       "version_major": 2,
       "version_minor": 0
      },
      "text/plain": [
       "  0%|          | 0/1 [00:00<?, ?it/s]"
      ]
     },
     "metadata": {},
     "output_type": "display_data"
    },
    {
     "data": {
      "application/vnd.jupyter.widget-view+json": {
       "model_id": "83e56445d9604cee90213d18abe4dc28",
       "version_major": 2,
       "version_minor": 0
      },
      "text/plain": [
       "  0%|          | 0/2 [00:00<?, ?it/s]"
      ]
     },
     "metadata": {},
     "output_type": "display_data"
    },
    {
     "data": {
      "application/vnd.jupyter.widget-view+json": {
       "model_id": "82ca525134fa4ec8be79d08c72b00a01",
       "version_major": 2,
       "version_minor": 0
      },
      "text/plain": [
       "  0%|          | 0/2 [00:00<?, ?it/s]"
      ]
     },
     "metadata": {},
     "output_type": "display_data"
    },
    {
     "data": {
      "application/vnd.jupyter.widget-view+json": {
       "model_id": "0461662b589e45e7bf49e5e23be8c05f",
       "version_major": 2,
       "version_minor": 0
      },
      "text/plain": [
       "  0%|          | 0/3 [00:00<?, ?it/s]"
      ]
     },
     "metadata": {},
     "output_type": "display_data"
    },
    {
     "data": {
      "application/vnd.jupyter.widget-view+json": {
       "model_id": "d1b97ec2b1a54c70883ca870d7c8bda2",
       "version_major": 2,
       "version_minor": 0
      },
      "text/plain": [
       "  0%|          | 0/3 [00:00<?, ?it/s]"
      ]
     },
     "metadata": {},
     "output_type": "display_data"
    },
    {
     "data": {
      "application/vnd.jupyter.widget-view+json": {
       "model_id": "f212bcc4ffb748f480cd5e9fc2f54edd",
       "version_major": 2,
       "version_minor": 0
      },
      "text/plain": [
       "  0%|          | 0/2 [00:00<?, ?it/s]"
      ]
     },
     "metadata": {},
     "output_type": "display_data"
    },
    {
     "data": {
      "application/vnd.jupyter.widget-view+json": {
       "model_id": "b5506072d4974fc89c200d46ab14aee3",
       "version_major": 2,
       "version_minor": 0
      },
      "text/plain": [
       "  0%|          | 0/3 [00:00<?, ?it/s]"
      ]
     },
     "metadata": {},
     "output_type": "display_data"
    },
    {
     "data": {
      "application/vnd.jupyter.widget-view+json": {
       "model_id": "a2560f9eb72246c5b4e600ed3c286091",
       "version_major": 2,
       "version_minor": 0
      },
      "text/plain": [
       "  0%|          | 0/3 [00:00<?, ?it/s]"
      ]
     },
     "metadata": {},
     "output_type": "display_data"
    },
    {
     "data": {
      "application/vnd.jupyter.widget-view+json": {
       "model_id": "b5d9fb6abf9b4bd09f27346dbf6789a9",
       "version_major": 2,
       "version_minor": 0
      },
      "text/plain": [
       "  0%|          | 0/1 [00:00<?, ?it/s]"
      ]
     },
     "metadata": {},
     "output_type": "display_data"
    },
    {
     "data": {
      "application/vnd.jupyter.widget-view+json": {
       "model_id": "5a79993633fe4454b51f9a92a57c1c63",
       "version_major": 2,
       "version_minor": 0
      },
      "text/plain": [
       "  0%|          | 0/1 [00:00<?, ?it/s]"
      ]
     },
     "metadata": {},
     "output_type": "display_data"
    },
    {
     "data": {
      "application/vnd.jupyter.widget-view+json": {
       "model_id": "846a0d1fedbc40c99b5c97837a409fd3",
       "version_major": 2,
       "version_minor": 0
      },
      "text/plain": [
       "  0%|          | 0/2 [00:00<?, ?it/s]"
      ]
     },
     "metadata": {},
     "output_type": "display_data"
    },
    {
     "data": {
      "application/vnd.jupyter.widget-view+json": {
       "model_id": "9aff6185f4164a8eb2669216c426b309",
       "version_major": 2,
       "version_minor": 0
      },
      "text/plain": [
       "  0%|          | 0/2 [00:00<?, ?it/s]"
      ]
     },
     "metadata": {},
     "output_type": "display_data"
    },
    {
     "data": {
      "application/vnd.jupyter.widget-view+json": {
       "model_id": "a460b444037b49fea5992462296f6ef3",
       "version_major": 2,
       "version_minor": 0
      },
      "text/plain": [
       "  0%|          | 0/3 [00:00<?, ?it/s]"
      ]
     },
     "metadata": {},
     "output_type": "display_data"
    },
    {
     "data": {
      "application/vnd.jupyter.widget-view+json": {
       "model_id": "fd10f07fa170433ab0df9da4fc1b0623",
       "version_major": 2,
       "version_minor": 0
      },
      "text/plain": [
       "  0%|          | 0/3 [00:00<?, ?it/s]"
      ]
     },
     "metadata": {},
     "output_type": "display_data"
    },
    {
     "data": {
      "application/vnd.jupyter.widget-view+json": {
       "model_id": "edf4d3a2e426447eb738aaecd67bdafb",
       "version_major": 2,
       "version_minor": 0
      },
      "text/plain": [
       "  0%|          | 0/2 [00:00<?, ?it/s]"
      ]
     },
     "metadata": {},
     "output_type": "display_data"
    },
    {
     "data": {
      "application/vnd.jupyter.widget-view+json": {
       "model_id": "43b8fe9b1e4a449caf809fea688be39c",
       "version_major": 2,
       "version_minor": 0
      },
      "text/plain": [
       "  0%|          | 0/3 [00:00<?, ?it/s]"
      ]
     },
     "metadata": {},
     "output_type": "display_data"
    },
    {
     "data": {
      "application/vnd.jupyter.widget-view+json": {
       "model_id": "aaed45b2569644bda795fcb3bd22150d",
       "version_major": 2,
       "version_minor": 0
      },
      "text/plain": [
       "  0%|          | 0/3 [00:00<?, ?it/s]"
      ]
     },
     "metadata": {},
     "output_type": "display_data"
    },
    {
     "name": "stdout",
     "output_type": "stream",
     "text": [
      "given shift 3, window size 5 and n 11: history length = 35\n",
      "[INFO] Concatenating the embeddings to the dataframe...\n",
      "[INFO] - columns beginning with 'e' denote the full embddings.\n",
      "[INFO] - columns beginning with 'd' denote the dimension reduced embeddings.\n",
      "[INFO] Adding time feature columns into dataframe in `.df`.\n",
      "[INFO] Adding 'time_encoding' feature...\n",
      "[INFO] Adding 'time_diff' feature...\n",
      "[INFO] Adding 'timeline_index' feature...\n",
      "[INFO] Padding ids and storing in `.df_padded` and `.array_padded` attributes.\n"
     ]
    },
    {
     "data": {
      "application/vnd.jupyter.widget-view+json": {
       "model_id": "92adf33cbc434d97ad4d75499d16352d",
       "version_major": 2,
       "version_minor": 0
      },
      "text/plain": [
       "  0%|          | 0/9699 [00:00<?, ?it/s]"
      ]
     },
     "metadata": {},
     "output_type": "display_data"
    },
    {
     "name": "stdout",
     "output_type": "stream",
     "text": [
      "[INFO] The path was created for each item in the dataframe, by looking at its history, so to include embeddings in the FFN input, we concatenate the embeddings for each sentence / text.\n",
      "saving results dataframe to CSV for this hyperparameter search in client_talk_type_output/seqsignet_umap_focal_2_3_5_11_kfold.csv\n",
      "saving the best model results dataframe to CSV for this hyperparameter search in client_talk_type_output/seqsignet_umap_focal_2_3_5_11_kfold_best_model.csv\n"
     ]
    }
   ],
   "source": [
    "(\n",
    "    seqsignet_network_umap_kfold_35,\n",
    "    best_seqsignet_network_umap_kfold_35,\n",
    "    _,\n",
    "    __,\n",
    ") = seqsignet_attention_bilstm_hyperparameter_search(\n",
    "    shift=shift,\n",
    "    window_size=window_size,\n",
    "    n=n,\n",
    "    dim_reduce_methods=[\"umap\"],\n",
    "    results_output=f\"{output_dir}/seqsignet_attention_bilstm_umap_focal_{gamma}_{shift}_{window_size}_{n}_kfold.csv\",\n",
    "    **kwargs,\n",
    ")"
   ]
  },
  {
   "cell_type": "code",
   "execution_count": 46,
   "id": "ba6da5ed-70bd-44e7-a693-9ed76551bc36",
   "metadata": {},
   "outputs": [
    {
     "data": {
      "text/html": [
       "<div>\n",
       "<style scoped>\n",
       "    .dataframe tbody tr th:only-of-type {\n",
       "        vertical-align: middle;\n",
       "    }\n",
       "\n",
       "    .dataframe tbody tr th {\n",
       "        vertical-align: top;\n",
       "    }\n",
       "\n",
       "    .dataframe thead th {\n",
       "        text-align: right;\n",
       "    }\n",
       "</style>\n",
       "<table border=\"1\" class=\"dataframe\">\n",
       "  <thead>\n",
       "    <tr style=\"text-align: right;\">\n",
       "      <th></th>\n",
       "      <th>loss</th>\n",
       "      <th>accuracy</th>\n",
       "      <th>f1</th>\n",
       "      <th>f1_scores</th>\n",
       "      <th>precision</th>\n",
       "      <th>precision_scores</th>\n",
       "      <th>recall</th>\n",
       "      <th>recall_scores</th>\n",
       "      <th>valid_loss</th>\n",
       "      <th>valid_accuracy</th>\n",
       "      <th>...</th>\n",
       "      <th>seed</th>\n",
       "      <th>loss_function</th>\n",
       "      <th>gamma</th>\n",
       "      <th>k_fold</th>\n",
       "      <th>n_splits</th>\n",
       "      <th>augmentation_type</th>\n",
       "      <th>hidden_dim_aug</th>\n",
       "      <th>comb_method</th>\n",
       "      <th>batch_size</th>\n",
       "      <th>model_id</th>\n",
       "    </tr>\n",
       "  </thead>\n",
       "  <tbody>\n",
       "    <tr>\n",
       "      <th>0</th>\n",
       "      <td>None</td>\n",
       "      <td>0.626437</td>\n",
       "      <td>0.507571</td>\n",
       "      <td>[0.7521470543920445, 0.4487079091620987, 0.321...</td>\n",
       "      <td>0.499894</td>\n",
       "      <td>[0.7851525636992766, 0.4269746646795827, 0.287...</td>\n",
       "      <td>0.520010</td>\n",
       "      <td>[0.7218045112781954, 0.47277227722772275, 0.36...</td>\n",
       "      <td>None</td>\n",
       "      <td>0.656069</td>\n",
       "      <td>...</td>\n",
       "      <td>1</td>\n",
       "      <td>focal</td>\n",
       "      <td>2</td>\n",
       "      <td>True</td>\n",
       "      <td>5</td>\n",
       "      <td>Conv1d</td>\n",
       "      <td>None</td>\n",
       "      <td>concatenation</td>\n",
       "      <td>64</td>\n",
       "      <td>0</td>\n",
       "    </tr>\n",
       "    <tr>\n",
       "      <th>0</th>\n",
       "      <td>None</td>\n",
       "      <td>0.627011</td>\n",
       "      <td>0.518118</td>\n",
       "      <td>[0.7534812547819434, 0.45809601301871444, 0.34...</td>\n",
       "      <td>0.509484</td>\n",
       "      <td>[0.8001299967500812, 0.4518459069020867, 0.276...</td>\n",
       "      <td>0.542468</td>\n",
       "      <td>[0.7119722382880278, 0.4645214521452145, 0.450...</td>\n",
       "      <td>None</td>\n",
       "      <td>0.658799</td>\n",
       "      <td>...</td>\n",
       "      <td>12</td>\n",
       "      <td>focal</td>\n",
       "      <td>2</td>\n",
       "      <td>True</td>\n",
       "      <td>5</td>\n",
       "      <td>Conv1d</td>\n",
       "      <td>None</td>\n",
       "      <td>concatenation</td>\n",
       "      <td>64</td>\n",
       "      <td>0</td>\n",
       "    </tr>\n",
       "    <tr>\n",
       "      <th>0</th>\n",
       "      <td>None</td>\n",
       "      <td>0.634291</td>\n",
       "      <td>0.514651</td>\n",
       "      <td>[0.7606673556769527, 0.428633784373636, 0.3546...</td>\n",
       "      <td>0.509175</td>\n",
       "      <td>[0.7770739064856712, 0.45505097312326226, 0.29...</td>\n",
       "      <td>0.531230</td>\n",
       "      <td>[0.7449392712550608, 0.4051155115511551, 0.443...</td>\n",
       "      <td>None</td>\n",
       "      <td>0.660886</td>\n",
       "      <td>...</td>\n",
       "      <td>123</td>\n",
       "      <td>focal</td>\n",
       "      <td>2</td>\n",
       "      <td>True</td>\n",
       "      <td>5</td>\n",
       "      <td>Conv1d</td>\n",
       "      <td>None</td>\n",
       "      <td>concatenation</td>\n",
       "      <td>64</td>\n",
       "      <td>0</td>\n",
       "    </tr>\n",
       "    <tr>\n",
       "      <th>0</th>\n",
       "      <td>None</td>\n",
       "      <td>0.595211</td>\n",
       "      <td>0.450426</td>\n",
       "      <td>[0.7335691128794576, 0.37205827418752335, 0.24...</td>\n",
       "      <td>0.456286</td>\n",
       "      <td>[0.7478966346153846, 0.33993174061433445, 0.28...</td>\n",
       "      <td>0.449618</td>\n",
       "      <td>[0.7197802197802198, 0.41089108910891087, 0.21...</td>\n",
       "      <td>None</td>\n",
       "      <td>0.647720</td>\n",
       "      <td>...</td>\n",
       "      <td>1</td>\n",
       "      <td>focal</td>\n",
       "      <td>2</td>\n",
       "      <td>True</td>\n",
       "      <td>5</td>\n",
       "      <td>Conv1d</td>\n",
       "      <td>None</td>\n",
       "      <td>concatenation</td>\n",
       "      <td>64</td>\n",
       "      <td>1</td>\n",
       "    </tr>\n",
       "    <tr>\n",
       "      <th>0</th>\n",
       "      <td>None</td>\n",
       "      <td>0.578927</td>\n",
       "      <td>0.437230</td>\n",
       "      <td>[0.7241582988777319, 0.3381947181710682, 0.249...</td>\n",
       "      <td>0.435450</td>\n",
       "      <td>[0.7398913699456849, 0.3237735849056604, 0.242...</td>\n",
       "      <td>0.439801</td>\n",
       "      <td>[0.7090803932909197, 0.35396039603960394, 0.25...</td>\n",
       "      <td>None</td>\n",
       "      <td>0.641779</td>\n",
       "      <td>...</td>\n",
       "      <td>12</td>\n",
       "      <td>focal</td>\n",
       "      <td>2</td>\n",
       "      <td>True</td>\n",
       "      <td>5</td>\n",
       "      <td>Conv1d</td>\n",
       "      <td>None</td>\n",
       "      <td>concatenation</td>\n",
       "      <td>64</td>\n",
       "      <td>1</td>\n",
       "    </tr>\n",
       "    <tr>\n",
       "      <th>...</th>\n",
       "      <td>...</td>\n",
       "      <td>...</td>\n",
       "      <td>...</td>\n",
       "      <td>...</td>\n",
       "      <td>...</td>\n",
       "      <td>...</td>\n",
       "      <td>...</td>\n",
       "      <td>...</td>\n",
       "      <td>...</td>\n",
       "      <td>...</td>\n",
       "      <td>...</td>\n",
       "      <td>...</td>\n",
       "      <td>...</td>\n",
       "      <td>...</td>\n",
       "      <td>...</td>\n",
       "      <td>...</td>\n",
       "      <td>...</td>\n",
       "      <td>...</td>\n",
       "      <td>...</td>\n",
       "      <td>...</td>\n",
       "      <td>...</td>\n",
       "    </tr>\n",
       "    <tr>\n",
       "      <th>0</th>\n",
       "      <td>None</td>\n",
       "      <td>0.570498</td>\n",
       "      <td>0.435795</td>\n",
       "      <td>[0.7167752689801485, 0.35642081617371774, 0.23...</td>\n",
       "      <td>0.433388</td>\n",
       "      <td>[0.7529449219993632, 0.32625085675119947, 0.22...</td>\n",
       "      <td>0.441917</td>\n",
       "      <td>[0.6839213418160787, 0.3927392739273927, 0.249...</td>\n",
       "      <td>None</td>\n",
       "      <td>0.629897</td>\n",
       "      <td>...</td>\n",
       "      <td>12</td>\n",
       "      <td>focal</td>\n",
       "      <td>2</td>\n",
       "      <td>True</td>\n",
       "      <td>5</td>\n",
       "      <td>Conv1d</td>\n",
       "      <td>None</td>\n",
       "      <td>concatenation</td>\n",
       "      <td>64</td>\n",
       "      <td>22</td>\n",
       "    </tr>\n",
       "    <tr>\n",
       "      <th>0</th>\n",
       "      <td>None</td>\n",
       "      <td>0.610345</td>\n",
       "      <td>0.448161</td>\n",
       "      <td>[0.7477863467580692, 0.3705195328231978, 0.226...</td>\n",
       "      <td>0.455767</td>\n",
       "      <td>[0.7387133182844243, 0.3619197482297404, 0.266...</td>\n",
       "      <td>0.444329</td>\n",
       "      <td>[0.757085020242915, 0.3795379537953795, 0.1963...</td>\n",
       "      <td>None</td>\n",
       "      <td>0.645472</td>\n",
       "      <td>...</td>\n",
       "      <td>123</td>\n",
       "      <td>focal</td>\n",
       "      <td>2</td>\n",
       "      <td>True</td>\n",
       "      <td>5</td>\n",
       "      <td>Conv1d</td>\n",
       "      <td>None</td>\n",
       "      <td>concatenation</td>\n",
       "      <td>64</td>\n",
       "      <td>22</td>\n",
       "    </tr>\n",
       "    <tr>\n",
       "      <th>0</th>\n",
       "      <td>None</td>\n",
       "      <td>0.633142</td>\n",
       "      <td>0.522410</td>\n",
       "      <td>[0.7560829077801141, 0.4459179444674679, 0.365...</td>\n",
       "      <td>0.513258</td>\n",
       "      <td>[0.7865625, 0.4479600333055787, 0.305250305250...</td>\n",
       "      <td>0.542106</td>\n",
       "      <td>[0.7278773857721226, 0.4438943894389439, 0.454...</td>\n",
       "      <td>None</td>\n",
       "      <td>0.662331</td>\n",
       "      <td>...</td>\n",
       "      <td>1</td>\n",
       "      <td>focal</td>\n",
       "      <td>2</td>\n",
       "      <td>True</td>\n",
       "      <td>5</td>\n",
       "      <td>Conv1d</td>\n",
       "      <td>None</td>\n",
       "      <td>concatenation</td>\n",
       "      <td>64</td>\n",
       "      <td>23</td>\n",
       "    </tr>\n",
       "    <tr>\n",
       "      <th>0</th>\n",
       "      <td>None</td>\n",
       "      <td>0.615134</td>\n",
       "      <td>0.510413</td>\n",
       "      <td>[0.7429986074578369, 0.445421831267493, 0.3428...</td>\n",
       "      <td>0.501446</td>\n",
       "      <td>[0.7990016638935108, 0.4321179208688906, 0.273...</td>\n",
       "      <td>0.537968</td>\n",
       "      <td>[0.694331983805668, 0.45957095709570955, 0.46]</td>\n",
       "      <td>None</td>\n",
       "      <td>0.649486</td>\n",
       "      <td>...</td>\n",
       "      <td>12</td>\n",
       "      <td>focal</td>\n",
       "      <td>2</td>\n",
       "      <td>True</td>\n",
       "      <td>5</td>\n",
       "      <td>Conv1d</td>\n",
       "      <td>None</td>\n",
       "      <td>concatenation</td>\n",
       "      <td>64</td>\n",
       "      <td>23</td>\n",
       "    </tr>\n",
       "    <tr>\n",
       "      <th>0</th>\n",
       "      <td>None</td>\n",
       "      <td>0.631992</td>\n",
       "      <td>0.506878</td>\n",
       "      <td>[0.7578356002365464, 0.43481748896911354, 0.32...</td>\n",
       "      <td>0.501614</td>\n",
       "      <td>[0.7752571082879612, 0.42310694769711166, 0.30...</td>\n",
       "      <td>0.513701</td>\n",
       "      <td>[0.7411798727588201, 0.4471947194719472, 0.352...</td>\n",
       "      <td>None</td>\n",
       "      <td>0.673732</td>\n",
       "      <td>...</td>\n",
       "      <td>123</td>\n",
       "      <td>focal</td>\n",
       "      <td>2</td>\n",
       "      <td>True</td>\n",
       "      <td>5</td>\n",
       "      <td>Conv1d</td>\n",
       "      <td>None</td>\n",
       "      <td>concatenation</td>\n",
       "      <td>64</td>\n",
       "      <td>23</td>\n",
       "    </tr>\n",
       "  </tbody>\n",
       "</table>\n",
       "<p>72 rows × 48 columns</p>\n",
       "</div>"
      ],
      "text/plain": [
       "    loss  accuracy        f1  \\\n",
       "0   None  0.626437  0.507571   \n",
       "0   None  0.627011  0.518118   \n",
       "0   None  0.634291  0.514651   \n",
       "0   None  0.595211  0.450426   \n",
       "0   None  0.578927  0.437230   \n",
       "..   ...       ...       ...   \n",
       "0   None  0.570498  0.435795   \n",
       "0   None  0.610345  0.448161   \n",
       "0   None  0.633142  0.522410   \n",
       "0   None  0.615134  0.510413   \n",
       "0   None  0.631992  0.506878   \n",
       "\n",
       "                                            f1_scores  precision  \\\n",
       "0   [0.7521470543920445, 0.4487079091620987, 0.321...   0.499894   \n",
       "0   [0.7534812547819434, 0.45809601301871444, 0.34...   0.509484   \n",
       "0   [0.7606673556769527, 0.428633784373636, 0.3546...   0.509175   \n",
       "0   [0.7335691128794576, 0.37205827418752335, 0.24...   0.456286   \n",
       "0   [0.7241582988777319, 0.3381947181710682, 0.249...   0.435450   \n",
       "..                                                ...        ...   \n",
       "0   [0.7167752689801485, 0.35642081617371774, 0.23...   0.433388   \n",
       "0   [0.7477863467580692, 0.3705195328231978, 0.226...   0.455767   \n",
       "0   [0.7560829077801141, 0.4459179444674679, 0.365...   0.513258   \n",
       "0   [0.7429986074578369, 0.445421831267493, 0.3428...   0.501446   \n",
       "0   [0.7578356002365464, 0.43481748896911354, 0.32...   0.501614   \n",
       "\n",
       "                                     precision_scores    recall  \\\n",
       "0   [0.7851525636992766, 0.4269746646795827, 0.287...  0.520010   \n",
       "0   [0.8001299967500812, 0.4518459069020867, 0.276...  0.542468   \n",
       "0   [0.7770739064856712, 0.45505097312326226, 0.29...  0.531230   \n",
       "0   [0.7478966346153846, 0.33993174061433445, 0.28...  0.449618   \n",
       "0   [0.7398913699456849, 0.3237735849056604, 0.242...  0.439801   \n",
       "..                                                ...       ...   \n",
       "0   [0.7529449219993632, 0.32625085675119947, 0.22...  0.441917   \n",
       "0   [0.7387133182844243, 0.3619197482297404, 0.266...  0.444329   \n",
       "0   [0.7865625, 0.4479600333055787, 0.305250305250...  0.542106   \n",
       "0   [0.7990016638935108, 0.4321179208688906, 0.273...  0.537968   \n",
       "0   [0.7752571082879612, 0.42310694769711166, 0.30...  0.513701   \n",
       "\n",
       "                                        recall_scores valid_loss  \\\n",
       "0   [0.7218045112781954, 0.47277227722772275, 0.36...       None   \n",
       "0   [0.7119722382880278, 0.4645214521452145, 0.450...       None   \n",
       "0   [0.7449392712550608, 0.4051155115511551, 0.443...       None   \n",
       "0   [0.7197802197802198, 0.41089108910891087, 0.21...       None   \n",
       "0   [0.7090803932909197, 0.35396039603960394, 0.25...       None   \n",
       "..                                                ...        ...   \n",
       "0   [0.6839213418160787, 0.3927392739273927, 0.249...       None   \n",
       "0   [0.757085020242915, 0.3795379537953795, 0.1963...       None   \n",
       "0   [0.7278773857721226, 0.4438943894389439, 0.454...       None   \n",
       "0      [0.694331983805668, 0.45957095709570955, 0.46]       None   \n",
       "0   [0.7411798727588201, 0.4471947194719472, 0.352...       None   \n",
       "\n",
       "    valid_accuracy  ...  seed loss_function  gamma k_fold  n_splits  \\\n",
       "0         0.656069  ...     1         focal      2   True         5   \n",
       "0         0.658799  ...    12         focal      2   True         5   \n",
       "0         0.660886  ...   123         focal      2   True         5   \n",
       "0         0.647720  ...     1         focal      2   True         5   \n",
       "0         0.641779  ...    12         focal      2   True         5   \n",
       "..             ...  ...   ...           ...    ...    ...       ...   \n",
       "0         0.629897  ...    12         focal      2   True         5   \n",
       "0         0.645472  ...   123         focal      2   True         5   \n",
       "0         0.662331  ...     1         focal      2   True         5   \n",
       "0         0.649486  ...    12         focal      2   True         5   \n",
       "0         0.673732  ...   123         focal      2   True         5   \n",
       "\n",
       "   augmentation_type  hidden_dim_aug    comb_method  batch_size  model_id  \n",
       "0             Conv1d            None  concatenation          64         0  \n",
       "0             Conv1d            None  concatenation          64         0  \n",
       "0             Conv1d            None  concatenation          64         0  \n",
       "0             Conv1d            None  concatenation          64         1  \n",
       "0             Conv1d            None  concatenation          64         1  \n",
       "..               ...             ...            ...         ...       ...  \n",
       "0             Conv1d            None  concatenation          64        22  \n",
       "0             Conv1d            None  concatenation          64        22  \n",
       "0             Conv1d            None  concatenation          64        23  \n",
       "0             Conv1d            None  concatenation          64        23  \n",
       "0             Conv1d            None  concatenation          64        23  \n",
       "\n",
       "[72 rows x 48 columns]"
      ]
     },
     "execution_count": 46,
     "metadata": {},
     "output_type": "execute_result"
    }
   ],
   "source": [
    "seqsignet_network_umap_kfold_35"
   ]
  },
  {
   "cell_type": "code",
   "execution_count": 47,
   "id": "9412b03d-b3b0-42c8-863e-f3093c1836c6",
   "metadata": {},
   "outputs": [
    {
     "data": {
      "text/plain": [
       "0.5051327142948336"
      ]
     },
     "execution_count": 47,
     "metadata": {},
     "output_type": "execute_result"
    }
   ],
   "source": [
    "best_seqsignet_network_umap_kfold_35[\"f1\"].mean()"
   ]
  },
  {
   "cell_type": "code",
   "execution_count": 48,
   "id": "bdd71a23-3015-4f44-bec5-f889b061d685",
   "metadata": {},
   "outputs": [
    {
     "data": {
      "text/plain": [
       "0.5001260035714683"
      ]
     },
     "execution_count": 48,
     "metadata": {},
     "output_type": "execute_result"
    }
   ],
   "source": [
    "best_seqsignet_network_umap_kfold_35[\"precision\"].mean()"
   ]
  },
  {
   "cell_type": "code",
   "execution_count": 49,
   "id": "2912d6da-5816-4665-89dc-fca245c067f3",
   "metadata": {},
   "outputs": [
    {
     "data": {
      "text/plain": [
       "0.5201368307256791"
      ]
     },
     "execution_count": 49,
     "metadata": {},
     "output_type": "execute_result"
    }
   ],
   "source": [
    "best_seqsignet_network_umap_kfold_35[\"recall\"].mean()"
   ]
  },
  {
   "cell_type": "code",
   "execution_count": 50,
   "id": "3a6b34c4-92bb-497f-88d4-79a27b108c84",
   "metadata": {},
   "outputs": [
    {
     "data": {
      "text/plain": [
       "array([0.76069323, 0.42301289, 0.33169203])"
      ]
     },
     "execution_count": 50,
     "metadata": {},
     "output_type": "execute_result"
    }
   ],
   "source": [
    "np.stack(best_seqsignet_network_umap_kfold_35[\"f1_scores\"]).mean(axis=0)"
   ]
  },
  {
   "cell_type": "code",
   "execution_count": 51,
   "id": "dfff40bf-1848-4450-8cf5-8f64abc09c40",
   "metadata": {},
   "outputs": [
    {
     "data": {
      "text/plain": [
       "array([0.78075721, 0.4408063 , 0.2788145 ])"
      ]
     },
     "execution_count": 51,
     "metadata": {},
     "output_type": "execute_result"
    }
   ],
   "source": [
    "np.stack(best_seqsignet_network_umap_kfold_35[\"precision_scores\"]).mean(axis=0)"
   ]
  },
  {
   "cell_type": "code",
   "execution_count": 52,
   "id": "a8d4e5a1-8463-4fd9-8a7f-8defe837d4e0",
   "metadata": {},
   "outputs": [
    {
     "data": {
      "text/plain": [
       "array([0.74185464, 0.4070407 , 0.41151515])"
      ]
     },
     "execution_count": 52,
     "metadata": {},
     "output_type": "execute_result"
    }
   ],
   "source": [
    "np.stack(best_seqsignet_network_umap_kfold_35[\"recall_scores\"]).mean(axis=0)"
   ]
  },
  {
   "cell_type": "markdown",
   "id": "e112ad11-eb64-430b-82b4-1f139e5ea966",
   "metadata": {},
   "source": [
    "## GRP"
   ]
  },
  {
   "cell_type": "code",
   "execution_count": 53,
   "id": "fd91977a-283f-4a43-b64c-63cba9cefb04",
   "metadata": {},
   "outputs": [
    {
     "data": {
      "application/vnd.jupyter.widget-view+json": {
       "model_id": "58d6dd679d1d4e7aaf292503dc74ed32",
       "version_major": 2,
       "version_minor": 0
      },
      "text/plain": [
       "  0%|          | 0/1 [00:00<?, ?it/s]"
      ]
     },
     "metadata": {},
     "output_type": "display_data"
    },
    {
     "data": {
      "application/vnd.jupyter.widget-view+json": {
       "model_id": "15459a29da294163b23bb1c0a822127b",
       "version_major": 2,
       "version_minor": 0
      },
      "text/plain": [
       "  0%|          | 0/1 [00:00<?, ?it/s]"
      ]
     },
     "metadata": {},
     "output_type": "display_data"
    },
    {
     "name": "stdout",
     "output_type": "stream",
     "text": [
      "\n",
      "##################################################\n",
      "dimension: 15 | method: gaussian_random_projection\n",
      "given shift 3, window size 5 and n 11: history length = 35\n",
      "[INFO] Concatenating the embeddings to the dataframe...\n",
      "[INFO] - columns beginning with 'e' denote the full embddings.\n",
      "[INFO] - columns beginning with 'd' denote the dimension reduced embeddings.\n",
      "[INFO] Adding time feature columns into dataframe in `.df`.\n",
      "[INFO] Adding 'time_encoding' feature...\n",
      "[INFO] Adding 'time_diff' feature...\n",
      "[INFO] Adding 'timeline_index' feature...\n",
      "[INFO] Padding ids and storing in `.df_padded` and `.array_padded` attributes.\n"
     ]
    },
    {
     "data": {
      "application/vnd.jupyter.widget-view+json": {
       "model_id": "9202bd7c29154b0681775471b7eb9e61",
       "version_major": 2,
       "version_minor": 0
      },
      "text/plain": [
       "  0%|          | 0/9699 [00:00<?, ?it/s]"
      ]
     },
     "metadata": {},
     "output_type": "display_data"
    },
    {
     "name": "stdout",
     "output_type": "stream",
     "text": [
      "[INFO] The path was created for each item in the dataframe, by looking at its history, so to include embeddings in the FFN input, we concatenate the embeddings for each sentence / text.\n"
     ]
    },
    {
     "data": {
      "application/vnd.jupyter.widget-view+json": {
       "model_id": "b90fa695038043e38bb3429a69bf2833",
       "version_major": 2,
       "version_minor": 0
      },
      "text/plain": [
       "  0%|          | 0/2 [00:00<?, ?it/s]"
      ]
     },
     "metadata": {},
     "output_type": "display_data"
    },
    {
     "data": {
      "application/vnd.jupyter.widget-view+json": {
       "model_id": "b89642fe857f4ca5a92e7bf73b77b98f",
       "version_major": 2,
       "version_minor": 0
      },
      "text/plain": [
       "  0%|          | 0/1 [00:00<?, ?it/s]"
      ]
     },
     "metadata": {},
     "output_type": "display_data"
    },
    {
     "data": {
      "application/vnd.jupyter.widget-view+json": {
       "model_id": "9e0cdaf9d84347bf8f474b9985f76c46",
       "version_major": 2,
       "version_minor": 0
      },
      "text/plain": [
       "  0%|          | 0/1 [00:00<?, ?it/s]"
      ]
     },
     "metadata": {},
     "output_type": "display_data"
    },
    {
     "data": {
      "application/vnd.jupyter.widget-view+json": {
       "model_id": "dad4e7260a534603b594435394fee786",
       "version_major": 2,
       "version_minor": 0
      },
      "text/plain": [
       "  0%|          | 0/2 [00:00<?, ?it/s]"
      ]
     },
     "metadata": {},
     "output_type": "display_data"
    },
    {
     "data": {
      "application/vnd.jupyter.widget-view+json": {
       "model_id": "cb586b32008746ad87921ccd7202f8c8",
       "version_major": 2,
       "version_minor": 0
      },
      "text/plain": [
       "  0%|          | 0/2 [00:00<?, ?it/s]"
      ]
     },
     "metadata": {},
     "output_type": "display_data"
    },
    {
     "data": {
      "application/vnd.jupyter.widget-view+json": {
       "model_id": "b09206759de444e987071fdf8a06d65c",
       "version_major": 2,
       "version_minor": 0
      },
      "text/plain": [
       "  0%|          | 0/3 [00:00<?, ?it/s]"
      ]
     },
     "metadata": {},
     "output_type": "display_data"
    },
    {
     "data": {
      "application/vnd.jupyter.widget-view+json": {
       "model_id": "96c1744fe41145cfa7999e23ea7134c2",
       "version_major": 2,
       "version_minor": 0
      },
      "text/plain": [
       "  0%|          | 0/3 [00:00<?, ?it/s]"
      ]
     },
     "metadata": {},
     "output_type": "display_data"
    },
    {
     "data": {
      "application/vnd.jupyter.widget-view+json": {
       "model_id": "7d651fff12d1489eb97437b330f22625",
       "version_major": 2,
       "version_minor": 0
      },
      "text/plain": [
       "  0%|          | 0/2 [00:00<?, ?it/s]"
      ]
     },
     "metadata": {},
     "output_type": "display_data"
    },
    {
     "data": {
      "application/vnd.jupyter.widget-view+json": {
       "model_id": "2124cadc67524bbc9c27c7d9f9451e67",
       "version_major": 2,
       "version_minor": 0
      },
      "text/plain": [
       "  0%|          | 0/3 [00:00<?, ?it/s]"
      ]
     },
     "metadata": {},
     "output_type": "display_data"
    },
    {
     "data": {
      "application/vnd.jupyter.widget-view+json": {
       "model_id": "970eb86e5bb04c5d9247b54bc67bf7f6",
       "version_major": 2,
       "version_minor": 0
      },
      "text/plain": [
       "  0%|          | 0/3 [00:00<?, ?it/s]"
      ]
     },
     "metadata": {},
     "output_type": "display_data"
    },
    {
     "data": {
      "application/vnd.jupyter.widget-view+json": {
       "model_id": "d76f959c55b8440d97d06f2a0246b0aa",
       "version_major": 2,
       "version_minor": 0
      },
      "text/plain": [
       "  0%|          | 0/1 [00:00<?, ?it/s]"
      ]
     },
     "metadata": {},
     "output_type": "display_data"
    },
    {
     "data": {
      "application/vnd.jupyter.widget-view+json": {
       "model_id": "a5db4c777f894c7187ccf86607884326",
       "version_major": 2,
       "version_minor": 0
      },
      "text/plain": [
       "  0%|          | 0/1 [00:00<?, ?it/s]"
      ]
     },
     "metadata": {},
     "output_type": "display_data"
    },
    {
     "data": {
      "application/vnd.jupyter.widget-view+json": {
       "model_id": "59f69cf5d165448a982594f92ac86d07",
       "version_major": 2,
       "version_minor": 0
      },
      "text/plain": [
       "  0%|          | 0/2 [00:00<?, ?it/s]"
      ]
     },
     "metadata": {},
     "output_type": "display_data"
    },
    {
     "data": {
      "application/vnd.jupyter.widget-view+json": {
       "model_id": "f46840fa1b794ba38c0f957578b752f8",
       "version_major": 2,
       "version_minor": 0
      },
      "text/plain": [
       "  0%|          | 0/2 [00:00<?, ?it/s]"
      ]
     },
     "metadata": {},
     "output_type": "display_data"
    },
    {
     "data": {
      "application/vnd.jupyter.widget-view+json": {
       "model_id": "3ae25623f2fd4145b9c0bb94d471d487",
       "version_major": 2,
       "version_minor": 0
      },
      "text/plain": [
       "  0%|          | 0/3 [00:00<?, ?it/s]"
      ]
     },
     "metadata": {},
     "output_type": "display_data"
    },
    {
     "data": {
      "application/vnd.jupyter.widget-view+json": {
       "model_id": "00d4a55db3f448c8a2ee70a1558a73db",
       "version_major": 2,
       "version_minor": 0
      },
      "text/plain": [
       "  0%|          | 0/3 [00:00<?, ?it/s]"
      ]
     },
     "metadata": {},
     "output_type": "display_data"
    },
    {
     "data": {
      "application/vnd.jupyter.widget-view+json": {
       "model_id": "7e7a0ad05e1a4e71b4d60982b5db51fb",
       "version_major": 2,
       "version_minor": 0
      },
      "text/plain": [
       "  0%|          | 0/2 [00:00<?, ?it/s]"
      ]
     },
     "metadata": {},
     "output_type": "display_data"
    },
    {
     "data": {
      "application/vnd.jupyter.widget-view+json": {
       "model_id": "267708c76b374919bca697c26b1e6419",
       "version_major": 2,
       "version_minor": 0
      },
      "text/plain": [
       "  0%|          | 0/3 [00:00<?, ?it/s]"
      ]
     },
     "metadata": {},
     "output_type": "display_data"
    },
    {
     "data": {
      "application/vnd.jupyter.widget-view+json": {
       "model_id": "4ee04669707d40748b75ab68a843e527",
       "version_major": 2,
       "version_minor": 0
      },
      "text/plain": [
       "  0%|          | 0/3 [00:00<?, ?it/s]"
      ]
     },
     "metadata": {},
     "output_type": "display_data"
    },
    {
     "name": "stdout",
     "output_type": "stream",
     "text": [
      "given shift 3, window size 5 and n 11: history length = 35\n",
      "[INFO] Concatenating the embeddings to the dataframe...\n",
      "[INFO] - columns beginning with 'e' denote the full embddings.\n",
      "[INFO] - columns beginning with 'd' denote the dimension reduced embeddings.\n",
      "[INFO] Adding time feature columns into dataframe in `.df`.\n",
      "[INFO] Adding 'time_encoding' feature...\n",
      "[INFO] Adding 'time_diff' feature...\n",
      "[INFO] Adding 'timeline_index' feature...\n",
      "[INFO] Padding ids and storing in `.df_padded` and `.array_padded` attributes.\n"
     ]
    },
    {
     "data": {
      "application/vnd.jupyter.widget-view+json": {
       "model_id": "69fee6311f0443b789b1714d84fa098e",
       "version_major": 2,
       "version_minor": 0
      },
      "text/plain": [
       "  0%|          | 0/9699 [00:00<?, ?it/s]"
      ]
     },
     "metadata": {},
     "output_type": "display_data"
    },
    {
     "name": "stdout",
     "output_type": "stream",
     "text": [
      "[INFO] The path was created for each item in the dataframe, by looking at its history, so to include embeddings in the FFN input, we concatenate the embeddings for each sentence / text.\n",
      "saving results dataframe to CSV for this hyperparameter search in client_talk_type_output/seqsignet_grp_focal_2_3_5_11_kfold.csv\n",
      "saving the best model results dataframe to CSV for this hyperparameter search in client_talk_type_output/seqsignet_grp_focal_2_3_5_11_kfold_best_model.csv\n"
     ]
    }
   ],
   "source": [
    "(\n",
    "    seqsignet_network_grp_kfold_35,\n",
    "    best_seqsignet_network_grp_kfold_35,\n",
    "    _,\n",
    "    __,\n",
    ") = seqsignet_attention_bilstm_hyperparameter_search(\n",
    "    shift=shift,\n",
    "    window_size=window_size,\n",
    "    n=n,\n",
    "    dim_reduce_methods=[\"gaussian_random_projection\"],\n",
    "    results_output=f\"{output_dir}/seqsignet_attention_bilstm_grp_focal_{gamma}_{shift}_{window_size}_{n}_kfold.csv\",\n",
    "    **kwargs,\n",
    ")"
   ]
  },
  {
   "cell_type": "code",
   "execution_count": 54,
   "id": "a9f88aff-06c9-406b-96ed-47e372ac74a8",
   "metadata": {},
   "outputs": [
    {
     "data": {
      "text/html": [
       "<div>\n",
       "<style scoped>\n",
       "    .dataframe tbody tr th:only-of-type {\n",
       "        vertical-align: middle;\n",
       "    }\n",
       "\n",
       "    .dataframe tbody tr th {\n",
       "        vertical-align: top;\n",
       "    }\n",
       "\n",
       "    .dataframe thead th {\n",
       "        text-align: right;\n",
       "    }\n",
       "</style>\n",
       "<table border=\"1\" class=\"dataframe\">\n",
       "  <thead>\n",
       "    <tr style=\"text-align: right;\">\n",
       "      <th></th>\n",
       "      <th>loss</th>\n",
       "      <th>accuracy</th>\n",
       "      <th>f1</th>\n",
       "      <th>f1_scores</th>\n",
       "      <th>precision</th>\n",
       "      <th>precision_scores</th>\n",
       "      <th>recall</th>\n",
       "      <th>recall_scores</th>\n",
       "      <th>valid_loss</th>\n",
       "      <th>valid_accuracy</th>\n",
       "      <th>...</th>\n",
       "      <th>seed</th>\n",
       "      <th>loss_function</th>\n",
       "      <th>gamma</th>\n",
       "      <th>k_fold</th>\n",
       "      <th>n_splits</th>\n",
       "      <th>augmentation_type</th>\n",
       "      <th>hidden_dim_aug</th>\n",
       "      <th>comb_method</th>\n",
       "      <th>batch_size</th>\n",
       "      <th>model_id</th>\n",
       "    </tr>\n",
       "  </thead>\n",
       "  <tbody>\n",
       "    <tr>\n",
       "      <th>0</th>\n",
       "      <td>None</td>\n",
       "      <td>0.638314</td>\n",
       "      <td>0.517802</td>\n",
       "      <td>[0.7665443873807777, 0.4102564102564103, 0.376...</td>\n",
       "      <td>0.512991</td>\n",
       "      <td>[0.7780756627941614, 0.45103857566765576, 0.30...</td>\n",
       "      <td>0.537196</td>\n",
       "      <td>[0.7553499132446501, 0.37623762376237624, 0.48]</td>\n",
       "      <td>None</td>\n",
       "      <td>0.677425</td>\n",
       "      <td>...</td>\n",
       "      <td>1</td>\n",
       "      <td>focal</td>\n",
       "      <td>2</td>\n",
       "      <td>True</td>\n",
       "      <td>5</td>\n",
       "      <td>Conv1d</td>\n",
       "      <td>None</td>\n",
       "      <td>concatenation</td>\n",
       "      <td>64</td>\n",
       "      <td>0</td>\n",
       "    </tr>\n",
       "    <tr>\n",
       "      <th>0</th>\n",
       "      <td>None</td>\n",
       "      <td>0.628352</td>\n",
       "      <td>0.513674</td>\n",
       "      <td>[0.7548602673147022, 0.4530820573223401, 0.333...</td>\n",
       "      <td>0.504792</td>\n",
       "      <td>[0.7949456174024312, 0.4322097378277154, 0.287...</td>\n",
       "      <td>0.530353</td>\n",
       "      <td>[0.7186234817813765, 0.4760726072607261, 0.396...</td>\n",
       "      <td>None</td>\n",
       "      <td>0.655106</td>\n",
       "      <td>...</td>\n",
       "      <td>12</td>\n",
       "      <td>focal</td>\n",
       "      <td>2</td>\n",
       "      <td>True</td>\n",
       "      <td>5</td>\n",
       "      <td>Conv1d</td>\n",
       "      <td>None</td>\n",
       "      <td>concatenation</td>\n",
       "      <td>64</td>\n",
       "      <td>0</td>\n",
       "    </tr>\n",
       "    <tr>\n",
       "      <th>0</th>\n",
       "      <td>None</td>\n",
       "      <td>0.630268</td>\n",
       "      <td>0.520610</td>\n",
       "      <td>[0.753048780487805, 0.46323240267400706, 0.345...</td>\n",
       "      <td>0.510768</td>\n",
       "      <td>[0.7962604771115409, 0.4425244177310293, 0.293...</td>\n",
       "      <td>0.540086</td>\n",
       "      <td>[0.7142857142857143, 0.485973597359736, 0.42]</td>\n",
       "      <td>None</td>\n",
       "      <td>0.664258</td>\n",
       "      <td>...</td>\n",
       "      <td>123</td>\n",
       "      <td>focal</td>\n",
       "      <td>2</td>\n",
       "      <td>True</td>\n",
       "      <td>5</td>\n",
       "      <td>Conv1d</td>\n",
       "      <td>None</td>\n",
       "      <td>concatenation</td>\n",
       "      <td>64</td>\n",
       "      <td>0</td>\n",
       "    </tr>\n",
       "    <tr>\n",
       "      <th>0</th>\n",
       "      <td>None</td>\n",
       "      <td>0.619732</td>\n",
       "      <td>0.472331</td>\n",
       "      <td>[0.75894155277697, 0.38498789346246975, 0.2730...</td>\n",
       "      <td>0.472363</td>\n",
       "      <td>[0.7631578947368421, 0.3767772511848341, 0.277...</td>\n",
       "      <td>0.472476</td>\n",
       "      <td>[0.7547715442452284, 0.3935643564356436, 0.269...</td>\n",
       "      <td>None</td>\n",
       "      <td>0.676943</td>\n",
       "      <td>...</td>\n",
       "      <td>1</td>\n",
       "      <td>focal</td>\n",
       "      <td>2</td>\n",
       "      <td>True</td>\n",
       "      <td>5</td>\n",
       "      <td>Conv1d</td>\n",
       "      <td>None</td>\n",
       "      <td>concatenation</td>\n",
       "      <td>64</td>\n",
       "      <td>1</td>\n",
       "    </tr>\n",
       "    <tr>\n",
       "      <th>0</th>\n",
       "      <td>None</td>\n",
       "      <td>0.621839</td>\n",
       "      <td>0.485408</td>\n",
       "      <td>[0.7557386698057681, 0.4020061728395061, 0.298...</td>\n",
       "      <td>0.486536</td>\n",
       "      <td>[0.7693229478729778, 0.377536231884058, 0.3127...</td>\n",
       "      <td>0.485983</td>\n",
       "      <td>[0.7426257952573742, 0.4298679867986799, 0.285...</td>\n",
       "      <td>None</td>\n",
       "      <td>0.666667</td>\n",
       "      <td>...</td>\n",
       "      <td>12</td>\n",
       "      <td>focal</td>\n",
       "      <td>2</td>\n",
       "      <td>True</td>\n",
       "      <td>5</td>\n",
       "      <td>Conv1d</td>\n",
       "      <td>None</td>\n",
       "      <td>concatenation</td>\n",
       "      <td>64</td>\n",
       "      <td>1</td>\n",
       "    </tr>\n",
       "    <tr>\n",
       "      <th>...</th>\n",
       "      <td>...</td>\n",
       "      <td>...</td>\n",
       "      <td>...</td>\n",
       "      <td>...</td>\n",
       "      <td>...</td>\n",
       "      <td>...</td>\n",
       "      <td>...</td>\n",
       "      <td>...</td>\n",
       "      <td>...</td>\n",
       "      <td>...</td>\n",
       "      <td>...</td>\n",
       "      <td>...</td>\n",
       "      <td>...</td>\n",
       "      <td>...</td>\n",
       "      <td>...</td>\n",
       "      <td>...</td>\n",
       "      <td>...</td>\n",
       "      <td>...</td>\n",
       "      <td>...</td>\n",
       "      <td>...</td>\n",
       "      <td>...</td>\n",
       "    </tr>\n",
       "    <tr>\n",
       "      <th>0</th>\n",
       "      <td>None</td>\n",
       "      <td>0.623180</td>\n",
       "      <td>0.490960</td>\n",
       "      <td>[0.7553967545034985, 0.4224598930481283, 0.295...</td>\n",
       "      <td>0.488489</td>\n",
       "      <td>[0.7784596501994476, 0.3933143669985775, 0.293...</td>\n",
       "      <td>0.495432</td>\n",
       "      <td>[0.7336610757663389, 0.45627062706270627, 0.29...</td>\n",
       "      <td>None</td>\n",
       "      <td>0.666667</td>\n",
       "      <td>...</td>\n",
       "      <td>12</td>\n",
       "      <td>focal</td>\n",
       "      <td>2</td>\n",
       "      <td>True</td>\n",
       "      <td>5</td>\n",
       "      <td>Conv1d</td>\n",
       "      <td>None</td>\n",
       "      <td>concatenation</td>\n",
       "      <td>64</td>\n",
       "      <td>22</td>\n",
       "    </tr>\n",
       "    <tr>\n",
       "      <th>0</th>\n",
       "      <td>None</td>\n",
       "      <td>0.611111</td>\n",
       "      <td>0.479441</td>\n",
       "      <td>[0.7473150357995226, 0.39923224568138194, 0.29...</td>\n",
       "      <td>0.476336</td>\n",
       "      <td>[0.7717190388170055, 0.37329504666188085, 0.28...</td>\n",
       "      <td>0.484483</td>\n",
       "      <td>[0.7244071717755928, 0.429042904290429, 0.3]</td>\n",
       "      <td>None</td>\n",
       "      <td>0.670681</td>\n",
       "      <td>...</td>\n",
       "      <td>123</td>\n",
       "      <td>focal</td>\n",
       "      <td>2</td>\n",
       "      <td>True</td>\n",
       "      <td>5</td>\n",
       "      <td>Conv1d</td>\n",
       "      <td>None</td>\n",
       "      <td>concatenation</td>\n",
       "      <td>64</td>\n",
       "      <td>22</td>\n",
       "    </tr>\n",
       "    <tr>\n",
       "      <th>0</th>\n",
       "      <td>None</td>\n",
       "      <td>0.611877</td>\n",
       "      <td>0.501858</td>\n",
       "      <td>[0.7398224670951944, 0.4348171701112878, 0.330...</td>\n",
       "      <td>0.493016</td>\n",
       "      <td>[0.7857607282184655, 0.419478527607362, 0.2738...</td>\n",
       "      <td>0.522820</td>\n",
       "      <td>[0.6989589358010411, 0.4513201320132013, 0.418...</td>\n",
       "      <td>None</td>\n",
       "      <td>0.663616</td>\n",
       "      <td>...</td>\n",
       "      <td>1</td>\n",
       "      <td>focal</td>\n",
       "      <td>2</td>\n",
       "      <td>True</td>\n",
       "      <td>5</td>\n",
       "      <td>Conv1d</td>\n",
       "      <td>None</td>\n",
       "      <td>concatenation</td>\n",
       "      <td>64</td>\n",
       "      <td>23</td>\n",
       "    </tr>\n",
       "    <tr>\n",
       "      <th>0</th>\n",
       "      <td>None</td>\n",
       "      <td>0.624521</td>\n",
       "      <td>0.519868</td>\n",
       "      <td>[0.7512721665381651, 0.4519230769230769, 0.356...</td>\n",
       "      <td>0.510013</td>\n",
       "      <td>[0.8047571853320119, 0.4392523364485981, 0.286...</td>\n",
       "      <td>0.547509</td>\n",
       "      <td>[0.7044534412955465, 0.46534653465346537, 0.47...</td>\n",
       "      <td>None</td>\n",
       "      <td>0.655588</td>\n",
       "      <td>...</td>\n",
       "      <td>12</td>\n",
       "      <td>focal</td>\n",
       "      <td>2</td>\n",
       "      <td>True</td>\n",
       "      <td>5</td>\n",
       "      <td>Conv1d</td>\n",
       "      <td>None</td>\n",
       "      <td>concatenation</td>\n",
       "      <td>64</td>\n",
       "      <td>23</td>\n",
       "    </tr>\n",
       "    <tr>\n",
       "      <th>0</th>\n",
       "      <td>None</td>\n",
       "      <td>0.629885</td>\n",
       "      <td>0.505956</td>\n",
       "      <td>[0.7578422749926708, 0.41412803532008824, 0.34...</td>\n",
       "      <td>0.501744</td>\n",
       "      <td>[0.7684304399524375, 0.4453941120607787, 0.291...</td>\n",
       "      <td>0.519987</td>\n",
       "      <td>[0.7475419317524581, 0.38696369636963696, 0.42...</td>\n",
       "      <td>None</td>\n",
       "      <td>0.672768</td>\n",
       "      <td>...</td>\n",
       "      <td>123</td>\n",
       "      <td>focal</td>\n",
       "      <td>2</td>\n",
       "      <td>True</td>\n",
       "      <td>5</td>\n",
       "      <td>Conv1d</td>\n",
       "      <td>None</td>\n",
       "      <td>concatenation</td>\n",
       "      <td>64</td>\n",
       "      <td>23</td>\n",
       "    </tr>\n",
       "  </tbody>\n",
       "</table>\n",
       "<p>72 rows × 48 columns</p>\n",
       "</div>"
      ],
      "text/plain": [
       "    loss  accuracy        f1  \\\n",
       "0   None  0.638314  0.517802   \n",
       "0   None  0.628352  0.513674   \n",
       "0   None  0.630268  0.520610   \n",
       "0   None  0.619732  0.472331   \n",
       "0   None  0.621839  0.485408   \n",
       "..   ...       ...       ...   \n",
       "0   None  0.623180  0.490960   \n",
       "0   None  0.611111  0.479441   \n",
       "0   None  0.611877  0.501858   \n",
       "0   None  0.624521  0.519868   \n",
       "0   None  0.629885  0.505956   \n",
       "\n",
       "                                            f1_scores  precision  \\\n",
       "0   [0.7665443873807777, 0.4102564102564103, 0.376...   0.512991   \n",
       "0   [0.7548602673147022, 0.4530820573223401, 0.333...   0.504792   \n",
       "0   [0.753048780487805, 0.46323240267400706, 0.345...   0.510768   \n",
       "0   [0.75894155277697, 0.38498789346246975, 0.2730...   0.472363   \n",
       "0   [0.7557386698057681, 0.4020061728395061, 0.298...   0.486536   \n",
       "..                                                ...        ...   \n",
       "0   [0.7553967545034985, 0.4224598930481283, 0.295...   0.488489   \n",
       "0   [0.7473150357995226, 0.39923224568138194, 0.29...   0.476336   \n",
       "0   [0.7398224670951944, 0.4348171701112878, 0.330...   0.493016   \n",
       "0   [0.7512721665381651, 0.4519230769230769, 0.356...   0.510013   \n",
       "0   [0.7578422749926708, 0.41412803532008824, 0.34...   0.501744   \n",
       "\n",
       "                                     precision_scores    recall  \\\n",
       "0   [0.7780756627941614, 0.45103857566765576, 0.30...  0.537196   \n",
       "0   [0.7949456174024312, 0.4322097378277154, 0.287...  0.530353   \n",
       "0   [0.7962604771115409, 0.4425244177310293, 0.293...  0.540086   \n",
       "0   [0.7631578947368421, 0.3767772511848341, 0.277...  0.472476   \n",
       "0   [0.7693229478729778, 0.377536231884058, 0.3127...  0.485983   \n",
       "..                                                ...       ...   \n",
       "0   [0.7784596501994476, 0.3933143669985775, 0.293...  0.495432   \n",
       "0   [0.7717190388170055, 0.37329504666188085, 0.28...  0.484483   \n",
       "0   [0.7857607282184655, 0.419478527607362, 0.2738...  0.522820   \n",
       "0   [0.8047571853320119, 0.4392523364485981, 0.286...  0.547509   \n",
       "0   [0.7684304399524375, 0.4453941120607787, 0.291...  0.519987   \n",
       "\n",
       "                                        recall_scores valid_loss  \\\n",
       "0     [0.7553499132446501, 0.37623762376237624, 0.48]       None   \n",
       "0   [0.7186234817813765, 0.4760726072607261, 0.396...       None   \n",
       "0       [0.7142857142857143, 0.485973597359736, 0.42]       None   \n",
       "0   [0.7547715442452284, 0.3935643564356436, 0.269...       None   \n",
       "0   [0.7426257952573742, 0.4298679867986799, 0.285...       None   \n",
       "..                                                ...        ...   \n",
       "0   [0.7336610757663389, 0.45627062706270627, 0.29...       None   \n",
       "0        [0.7244071717755928, 0.429042904290429, 0.3]       None   \n",
       "0   [0.6989589358010411, 0.4513201320132013, 0.418...       None   \n",
       "0   [0.7044534412955465, 0.46534653465346537, 0.47...       None   \n",
       "0   [0.7475419317524581, 0.38696369636963696, 0.42...       None   \n",
       "\n",
       "    valid_accuracy  ...  seed loss_function  gamma k_fold  n_splits  \\\n",
       "0         0.677425  ...     1         focal      2   True         5   \n",
       "0         0.655106  ...    12         focal      2   True         5   \n",
       "0         0.664258  ...   123         focal      2   True         5   \n",
       "0         0.676943  ...     1         focal      2   True         5   \n",
       "0         0.666667  ...    12         focal      2   True         5   \n",
       "..             ...  ...   ...           ...    ...    ...       ...   \n",
       "0         0.666667  ...    12         focal      2   True         5   \n",
       "0         0.670681  ...   123         focal      2   True         5   \n",
       "0         0.663616  ...     1         focal      2   True         5   \n",
       "0         0.655588  ...    12         focal      2   True         5   \n",
       "0         0.672768  ...   123         focal      2   True         5   \n",
       "\n",
       "   augmentation_type  hidden_dim_aug    comb_method  batch_size  model_id  \n",
       "0             Conv1d            None  concatenation          64         0  \n",
       "0             Conv1d            None  concatenation          64         0  \n",
       "0             Conv1d            None  concatenation          64         0  \n",
       "0             Conv1d            None  concatenation          64         1  \n",
       "0             Conv1d            None  concatenation          64         1  \n",
       "..               ...             ...            ...         ...       ...  \n",
       "0             Conv1d            None  concatenation          64        22  \n",
       "0             Conv1d            None  concatenation          64        22  \n",
       "0             Conv1d            None  concatenation          64        23  \n",
       "0             Conv1d            None  concatenation          64        23  \n",
       "0             Conv1d            None  concatenation          64        23  \n",
       "\n",
       "[72 rows x 48 columns]"
      ]
     },
     "execution_count": 54,
     "metadata": {},
     "output_type": "execute_result"
    }
   ],
   "source": [
    "seqsignet_network_grp_kfold_35"
   ]
  },
  {
   "cell_type": "code",
   "execution_count": 55,
   "id": "db6dc8c8-28ef-4f8b-a371-4c7fb004ba85",
   "metadata": {},
   "outputs": [
    {
     "data": {
      "text/plain": [
       "0.5048031299754757"
      ]
     },
     "execution_count": 55,
     "metadata": {},
     "output_type": "execute_result"
    }
   ],
   "source": [
    "best_seqsignet_network_grp_kfold_35[\"f1\"].mean()"
   ]
  },
  {
   "cell_type": "code",
   "execution_count": 56,
   "id": "5943b90f-b486-442f-9507-afca813c2d1e",
   "metadata": {},
   "outputs": [
    {
     "data": {
      "text/plain": [
       "0.4996885597712146"
      ]
     },
     "execution_count": 56,
     "metadata": {},
     "output_type": "execute_result"
    }
   ],
   "source": [
    "best_seqsignet_network_grp_kfold_35[\"precision\"].mean()"
   ]
  },
  {
   "cell_type": "code",
   "execution_count": 57,
   "id": "fac42ec4-794d-452a-a26f-a33f38300957",
   "metadata": {},
   "outputs": [
    {
     "data": {
      "text/plain": [
       "0.5193448527424557"
      ]
     },
     "execution_count": 57,
     "metadata": {},
     "output_type": "execute_result"
    }
   ],
   "source": [
    "best_seqsignet_network_grp_kfold_35[\"recall\"].mean()"
   ]
  },
  {
   "cell_type": "code",
   "execution_count": 58,
   "id": "6e41ae89-f184-4318-93c6-61b9bda05133",
   "metadata": {},
   "outputs": [
    {
     "data": {
      "text/plain": [
       "array([0.75848112, 0.41722529, 0.33870297])"
      ]
     },
     "execution_count": 58,
     "metadata": {},
     "output_type": "execute_result"
    }
   ],
   "source": [
    "np.stack(best_seqsignet_network_grp_kfold_35[\"f1_scores\"]).mean(axis=0)"
   ]
  },
  {
   "cell_type": "code",
   "execution_count": 59,
   "id": "7aeeb599-9de6-411e-bd82-83c451b007f7",
   "metadata": {},
   "outputs": [
    {
     "data": {
      "text/plain": [
       "array([0.77729726, 0.43406062, 0.2877078 ])"
      ]
     },
     "execution_count": 59,
     "metadata": {},
     "output_type": "execute_result"
    }
   ],
   "source": [
    "np.stack(best_seqsignet_network_grp_kfold_35[\"precision_scores\"]).mean(axis=0)"
   ]
  },
  {
   "cell_type": "code",
   "execution_count": 60,
   "id": "d1ea4021-566e-491b-a6d1-d17745b193f9",
   "metadata": {},
   "outputs": [
    {
     "data": {
      "text/plain": [
       "array([0.74117987, 0.40291529, 0.41393939])"
      ]
     },
     "execution_count": 60,
     "metadata": {},
     "output_type": "execute_result"
    }
   ],
   "source": [
    "np.stack(best_seqsignet_network_grp_kfold_35[\"recall_scores\"]).mean(axis=0)"
   ]
  },
  {
   "cell_type": "markdown",
   "id": "31b11d48-8d6f-4170-9c45-30723d301693",
   "metadata": {},
   "source": [
    "# history_length=80"
   ]
  },
  {
   "cell_type": "code",
   "execution_count": 61,
   "id": "6a392114-8a3e-4543-98a4-a0b9fb7b7855",
   "metadata": {},
   "outputs": [],
   "source": [
    "shift = 3\n",
    "window_size = 5\n",
    "n = 26"
   ]
  },
  {
   "cell_type": "code",
   "execution_count": 62,
   "id": "d2585d4e-a39c-4ba4-b71b-cb2f1e71fae0",
   "metadata": {},
   "outputs": [
    {
     "data": {
      "application/vnd.jupyter.widget-view+json": {
       "model_id": "699a371995c740e2a7070299e3ecd630",
       "version_major": 2,
       "version_minor": 0
      },
      "text/plain": [
       "  0%|          | 0/1 [00:00<?, ?it/s]"
      ]
     },
     "metadata": {},
     "output_type": "display_data"
    },
    {
     "data": {
      "application/vnd.jupyter.widget-view+json": {
       "model_id": "593fb4b993e949bca68f21d37cc905a7",
       "version_major": 2,
       "version_minor": 0
      },
      "text/plain": [
       "  0%|          | 0/1 [00:00<?, ?it/s]"
      ]
     },
     "metadata": {},
     "output_type": "display_data"
    },
    {
     "name": "stdout",
     "output_type": "stream",
     "text": [
      "\n",
      "##################################################\n",
      "dimension: 15 | method: umap\n",
      "given shift 3, window size 5 and n 26: history length = 80\n",
      "[INFO] Concatenating the embeddings to the dataframe...\n",
      "[INFO] - columns beginning with 'e' denote the full embddings.\n",
      "[INFO] - columns beginning with 'd' denote the dimension reduced embeddings.\n",
      "[INFO] Adding time feature columns into dataframe in `.df`.\n",
      "[INFO] Adding 'time_encoding' feature...\n",
      "[INFO] Adding 'time_diff' feature...\n",
      "[INFO] Adding 'timeline_index' feature...\n",
      "[INFO] Padding ids and storing in `.df_padded` and `.array_padded` attributes.\n"
     ]
    },
    {
     "data": {
      "application/vnd.jupyter.widget-view+json": {
       "model_id": "6ed98c0c11a14444ae951f307fa51f74",
       "version_major": 2,
       "version_minor": 0
      },
      "text/plain": [
       "  0%|          | 0/9699 [00:00<?, ?it/s]"
      ]
     },
     "metadata": {},
     "output_type": "display_data"
    },
    {
     "name": "stdout",
     "output_type": "stream",
     "text": [
      "[INFO] The path was created for each item in the dataframe, by looking at its history, so to include embeddings in the FFN input, we concatenate the embeddings for each sentence / text.\n"
     ]
    },
    {
     "data": {
      "application/vnd.jupyter.widget-view+json": {
       "model_id": "38f5c129f20d47d3850625ca14fb161f",
       "version_major": 2,
       "version_minor": 0
      },
      "text/plain": [
       "  0%|          | 0/2 [00:00<?, ?it/s]"
      ]
     },
     "metadata": {},
     "output_type": "display_data"
    },
    {
     "data": {
      "application/vnd.jupyter.widget-view+json": {
       "model_id": "aebf6c45a1034e0980808e7a4deb17e7",
       "version_major": 2,
       "version_minor": 0
      },
      "text/plain": [
       "  0%|          | 0/1 [00:00<?, ?it/s]"
      ]
     },
     "metadata": {},
     "output_type": "display_data"
    },
    {
     "data": {
      "application/vnd.jupyter.widget-view+json": {
       "model_id": "54429f9540ad41b6aa9c6027dc71b2bc",
       "version_major": 2,
       "version_minor": 0
      },
      "text/plain": [
       "  0%|          | 0/1 [00:00<?, ?it/s]"
      ]
     },
     "metadata": {},
     "output_type": "display_data"
    },
    {
     "data": {
      "application/vnd.jupyter.widget-view+json": {
       "model_id": "8cfdc3948c8c45069554a1777a0bf103",
       "version_major": 2,
       "version_minor": 0
      },
      "text/plain": [
       "  0%|          | 0/2 [00:00<?, ?it/s]"
      ]
     },
     "metadata": {},
     "output_type": "display_data"
    },
    {
     "data": {
      "application/vnd.jupyter.widget-view+json": {
       "model_id": "99c44365949344478b4127d9a0e7c85c",
       "version_major": 2,
       "version_minor": 0
      },
      "text/plain": [
       "  0%|          | 0/2 [00:00<?, ?it/s]"
      ]
     },
     "metadata": {},
     "output_type": "display_data"
    },
    {
     "data": {
      "application/vnd.jupyter.widget-view+json": {
       "model_id": "d91d69df783f407cb601d3b07ed71749",
       "version_major": 2,
       "version_minor": 0
      },
      "text/plain": [
       "  0%|          | 0/3 [00:00<?, ?it/s]"
      ]
     },
     "metadata": {},
     "output_type": "display_data"
    },
    {
     "data": {
      "application/vnd.jupyter.widget-view+json": {
       "model_id": "520d8bcf94794e3f8de03f9d886b6a32",
       "version_major": 2,
       "version_minor": 0
      },
      "text/plain": [
       "  0%|          | 0/3 [00:00<?, ?it/s]"
      ]
     },
     "metadata": {},
     "output_type": "display_data"
    },
    {
     "data": {
      "application/vnd.jupyter.widget-view+json": {
       "model_id": "26aa6eee12584c99a1578699dab983ba",
       "version_major": 2,
       "version_minor": 0
      },
      "text/plain": [
       "  0%|          | 0/2 [00:00<?, ?it/s]"
      ]
     },
     "metadata": {},
     "output_type": "display_data"
    },
    {
     "data": {
      "application/vnd.jupyter.widget-view+json": {
       "model_id": "6e0be113f436403fbd60a8cb5a93ba1e",
       "version_major": 2,
       "version_minor": 0
      },
      "text/plain": [
       "  0%|          | 0/3 [00:00<?, ?it/s]"
      ]
     },
     "metadata": {},
     "output_type": "display_data"
    },
    {
     "data": {
      "application/vnd.jupyter.widget-view+json": {
       "model_id": "43fd5f7045f84a229feccc7a6e962d29",
       "version_major": 2,
       "version_minor": 0
      },
      "text/plain": [
       "  0%|          | 0/3 [00:00<?, ?it/s]"
      ]
     },
     "metadata": {},
     "output_type": "display_data"
    },
    {
     "data": {
      "application/vnd.jupyter.widget-view+json": {
       "model_id": "c12022cab4c8498ba64ca5d38539b863",
       "version_major": 2,
       "version_minor": 0
      },
      "text/plain": [
       "  0%|          | 0/1 [00:00<?, ?it/s]"
      ]
     },
     "metadata": {},
     "output_type": "display_data"
    },
    {
     "data": {
      "application/vnd.jupyter.widget-view+json": {
       "model_id": "5bd9b4d68ffd43e7a3684cc3b6ff1635",
       "version_major": 2,
       "version_minor": 0
      },
      "text/plain": [
       "  0%|          | 0/1 [00:00<?, ?it/s]"
      ]
     },
     "metadata": {},
     "output_type": "display_data"
    },
    {
     "data": {
      "application/vnd.jupyter.widget-view+json": {
       "model_id": "0afd758c59dc4b0ead915ee03e65585c",
       "version_major": 2,
       "version_minor": 0
      },
      "text/plain": [
       "  0%|          | 0/2 [00:00<?, ?it/s]"
      ]
     },
     "metadata": {},
     "output_type": "display_data"
    },
    {
     "data": {
      "application/vnd.jupyter.widget-view+json": {
       "model_id": "25e34ee14a9d4fa2a096d4f289fdeea0",
       "version_major": 2,
       "version_minor": 0
      },
      "text/plain": [
       "  0%|          | 0/2 [00:00<?, ?it/s]"
      ]
     },
     "metadata": {},
     "output_type": "display_data"
    },
    {
     "data": {
      "application/vnd.jupyter.widget-view+json": {
       "model_id": "80737a5874404d088541d7fc81498b47",
       "version_major": 2,
       "version_minor": 0
      },
      "text/plain": [
       "  0%|          | 0/3 [00:00<?, ?it/s]"
      ]
     },
     "metadata": {},
     "output_type": "display_data"
    },
    {
     "data": {
      "application/vnd.jupyter.widget-view+json": {
       "model_id": "9dfa5d9a27b54d3394d8f2e867e2cb70",
       "version_major": 2,
       "version_minor": 0
      },
      "text/plain": [
       "  0%|          | 0/3 [00:00<?, ?it/s]"
      ]
     },
     "metadata": {},
     "output_type": "display_data"
    },
    {
     "data": {
      "application/vnd.jupyter.widget-view+json": {
       "model_id": "1e96ab24292f48fc875110b11132d7d0",
       "version_major": 2,
       "version_minor": 0
      },
      "text/plain": [
       "  0%|          | 0/2 [00:00<?, ?it/s]"
      ]
     },
     "metadata": {},
     "output_type": "display_data"
    },
    {
     "data": {
      "application/vnd.jupyter.widget-view+json": {
       "model_id": "ba8c6b2daf794084b78730ef7e7bea08",
       "version_major": 2,
       "version_minor": 0
      },
      "text/plain": [
       "  0%|          | 0/3 [00:00<?, ?it/s]"
      ]
     },
     "metadata": {},
     "output_type": "display_data"
    },
    {
     "data": {
      "application/vnd.jupyter.widget-view+json": {
       "model_id": "3e9edc0f1c4d4a149da044f8ba9feb8e",
       "version_major": 2,
       "version_minor": 0
      },
      "text/plain": [
       "  0%|          | 0/3 [00:00<?, ?it/s]"
      ]
     },
     "metadata": {},
     "output_type": "display_data"
    },
    {
     "name": "stdout",
     "output_type": "stream",
     "text": [
      "given shift 3, window size 5 and n 26: history length = 80\n",
      "[INFO] Concatenating the embeddings to the dataframe...\n",
      "[INFO] - columns beginning with 'e' denote the full embddings.\n",
      "[INFO] - columns beginning with 'd' denote the dimension reduced embeddings.\n",
      "[INFO] Adding time feature columns into dataframe in `.df`.\n",
      "[INFO] Adding 'time_encoding' feature...\n",
      "[INFO] Adding 'time_diff' feature...\n",
      "[INFO] Adding 'timeline_index' feature...\n",
      "[INFO] Padding ids and storing in `.df_padded` and `.array_padded` attributes.\n"
     ]
    },
    {
     "data": {
      "application/vnd.jupyter.widget-view+json": {
       "model_id": "7719634fcd57450e8c1cc938c062311b",
       "version_major": 2,
       "version_minor": 0
      },
      "text/plain": [
       "  0%|          | 0/9699 [00:00<?, ?it/s]"
      ]
     },
     "metadata": {},
     "output_type": "display_data"
    },
    {
     "name": "stdout",
     "output_type": "stream",
     "text": [
      "[INFO] The path was created for each item in the dataframe, by looking at its history, so to include embeddings in the FFN input, we concatenate the embeddings for each sentence / text.\n",
      "saving results dataframe to CSV for this hyperparameter search in client_talk_type_output/seqsignet_umap_focal_2_3_5_26_kfold.csv\n",
      "saving the best model results dataframe to CSV for this hyperparameter search in client_talk_type_output/seqsignet_umap_focal_2_3_5_26_kfold_best_model.csv\n"
     ]
    }
   ],
   "source": [
    "(\n",
    "    seqsignet_network_umap_kfold_80,\n",
    "    best_seqsignet_network_umap_kfold_80,\n",
    "    _,\n",
    "    __,\n",
    ") = seqsignet_attention_bilstm_hyperparameter_search(\n",
    "    shift=shift,\n",
    "    window_size=window_size,\n",
    "    n=n,\n",
    "    dim_reduce_methods=[\"umap\"],\n",
    "    results_output=f\"{output_dir}/seqsignet_attention_bilstm_umap_focal_{gamma}_{shift}_{window_size}_{n}_kfold.csv\",\n",
    "    **kwargs,\n",
    ")"
   ]
  },
  {
   "cell_type": "code",
   "execution_count": 63,
   "id": "8be475f7-dad8-4abe-a171-474f25f7adb9",
   "metadata": {},
   "outputs": [
    {
     "data": {
      "text/html": [
       "<div>\n",
       "<style scoped>\n",
       "    .dataframe tbody tr th:only-of-type {\n",
       "        vertical-align: middle;\n",
       "    }\n",
       "\n",
       "    .dataframe tbody tr th {\n",
       "        vertical-align: top;\n",
       "    }\n",
       "\n",
       "    .dataframe thead th {\n",
       "        text-align: right;\n",
       "    }\n",
       "</style>\n",
       "<table border=\"1\" class=\"dataframe\">\n",
       "  <thead>\n",
       "    <tr style=\"text-align: right;\">\n",
       "      <th></th>\n",
       "      <th>loss</th>\n",
       "      <th>accuracy</th>\n",
       "      <th>f1</th>\n",
       "      <th>f1_scores</th>\n",
       "      <th>precision</th>\n",
       "      <th>precision_scores</th>\n",
       "      <th>recall</th>\n",
       "      <th>recall_scores</th>\n",
       "      <th>valid_loss</th>\n",
       "      <th>valid_accuracy</th>\n",
       "      <th>...</th>\n",
       "      <th>seed</th>\n",
       "      <th>loss_function</th>\n",
       "      <th>gamma</th>\n",
       "      <th>k_fold</th>\n",
       "      <th>n_splits</th>\n",
       "      <th>augmentation_type</th>\n",
       "      <th>hidden_dim_aug</th>\n",
       "      <th>comb_method</th>\n",
       "      <th>batch_size</th>\n",
       "      <th>model_id</th>\n",
       "    </tr>\n",
       "  </thead>\n",
       "  <tbody>\n",
       "    <tr>\n",
       "      <th>0</th>\n",
       "      <td>None</td>\n",
       "      <td>0.614751</td>\n",
       "      <td>0.504572</td>\n",
       "      <td>[0.7456752655538694, 0.40692989524576956, 0.36...</td>\n",
       "      <td>0.494692</td>\n",
       "      <td>[0.7844827586206896, 0.39763779527559057, 0.30...</td>\n",
       "      <td>0.525428</td>\n",
       "      <td>[0.7105263157894737, 0.4166666666666667, 0.449...</td>\n",
       "      <td>None</td>\n",
       "      <td>0.671805</td>\n",
       "      <td>...</td>\n",
       "      <td>1</td>\n",
       "      <td>focal</td>\n",
       "      <td>2</td>\n",
       "      <td>True</td>\n",
       "      <td>5</td>\n",
       "      <td>Conv1d</td>\n",
       "      <td>None</td>\n",
       "      <td>concatenation</td>\n",
       "      <td>64</td>\n",
       "      <td>0</td>\n",
       "    </tr>\n",
       "    <tr>\n",
       "      <th>0</th>\n",
       "      <td>None</td>\n",
       "      <td>0.628161</td>\n",
       "      <td>0.513304</td>\n",
       "      <td>[0.7561453777710753, 0.43944353518821605, 0.34...</td>\n",
       "      <td>0.504775</td>\n",
       "      <td>[0.7901040025212732, 0.43587662337662336, 0.28...</td>\n",
       "      <td>0.531776</td>\n",
       "      <td>[0.7249855407750144, 0.4430693069306931, 0.427...</td>\n",
       "      <td>None</td>\n",
       "      <td>0.670841</td>\n",
       "      <td>...</td>\n",
       "      <td>12</td>\n",
       "      <td>focal</td>\n",
       "      <td>2</td>\n",
       "      <td>True</td>\n",
       "      <td>5</td>\n",
       "      <td>Conv1d</td>\n",
       "      <td>None</td>\n",
       "      <td>concatenation</td>\n",
       "      <td>64</td>\n",
       "      <td>0</td>\n",
       "    </tr>\n",
       "    <tr>\n",
       "      <th>0</th>\n",
       "      <td>None</td>\n",
       "      <td>0.622414</td>\n",
       "      <td>0.505098</td>\n",
       "      <td>[0.7480137910358267, 0.4344689378757515, 0.332...</td>\n",
       "      <td>0.497266</td>\n",
       "      <td>[0.7765328353563647, 0.4224473889321902, 0.292...</td>\n",
       "      <td>0.518055</td>\n",
       "      <td>[0.7215153267784846, 0.4471947194719472, 0.385...</td>\n",
       "      <td>None</td>\n",
       "      <td>0.670199</td>\n",
       "      <td>...</td>\n",
       "      <td>123</td>\n",
       "      <td>focal</td>\n",
       "      <td>2</td>\n",
       "      <td>True</td>\n",
       "      <td>5</td>\n",
       "      <td>Conv1d</td>\n",
       "      <td>None</td>\n",
       "      <td>concatenation</td>\n",
       "      <td>64</td>\n",
       "      <td>0</td>\n",
       "    </tr>\n",
       "    <tr>\n",
       "      <th>0</th>\n",
       "      <td>None</td>\n",
       "      <td>0.585824</td>\n",
       "      <td>0.444541</td>\n",
       "      <td>[0.7340236686390532, 0.34236453201970446, 0.25...</td>\n",
       "      <td>0.440866</td>\n",
       "      <td>[0.7513628104179285, 0.34068627450980393, 0.23...</td>\n",
       "      <td>0.450812</td>\n",
       "      <td>[0.7174667437825333, 0.34405940594059403, 0.29...</td>\n",
       "      <td>None</td>\n",
       "      <td>0.667470</td>\n",
       "      <td>...</td>\n",
       "      <td>1</td>\n",
       "      <td>focal</td>\n",
       "      <td>2</td>\n",
       "      <td>True</td>\n",
       "      <td>5</td>\n",
       "      <td>Conv1d</td>\n",
       "      <td>None</td>\n",
       "      <td>concatenation</td>\n",
       "      <td>64</td>\n",
       "      <td>1</td>\n",
       "    </tr>\n",
       "    <tr>\n",
       "      <th>0</th>\n",
       "      <td>None</td>\n",
       "      <td>0.588697</td>\n",
       "      <td>0.433771</td>\n",
       "      <td>[0.7303206997084547, 0.3580582524271845, 0.212...</td>\n",
       "      <td>0.436574</td>\n",
       "      <td>[0.736331569664903, 0.33822450476889215, 0.235...</td>\n",
       "      <td>0.433105</td>\n",
       "      <td>[0.7244071717755928, 0.3803630363036304, 0.194...</td>\n",
       "      <td>None</td>\n",
       "      <td>0.654143</td>\n",
       "      <td>...</td>\n",
       "      <td>12</td>\n",
       "      <td>focal</td>\n",
       "      <td>2</td>\n",
       "      <td>True</td>\n",
       "      <td>5</td>\n",
       "      <td>Conv1d</td>\n",
       "      <td>None</td>\n",
       "      <td>concatenation</td>\n",
       "      <td>64</td>\n",
       "      <td>1</td>\n",
       "    </tr>\n",
       "    <tr>\n",
       "      <th>...</th>\n",
       "      <td>...</td>\n",
       "      <td>...</td>\n",
       "      <td>...</td>\n",
       "      <td>...</td>\n",
       "      <td>...</td>\n",
       "      <td>...</td>\n",
       "      <td>...</td>\n",
       "      <td>...</td>\n",
       "      <td>...</td>\n",
       "      <td>...</td>\n",
       "      <td>...</td>\n",
       "      <td>...</td>\n",
       "      <td>...</td>\n",
       "      <td>...</td>\n",
       "      <td>...</td>\n",
       "      <td>...</td>\n",
       "      <td>...</td>\n",
       "      <td>...</td>\n",
       "      <td>...</td>\n",
       "      <td>...</td>\n",
       "      <td>...</td>\n",
       "    </tr>\n",
       "    <tr>\n",
       "      <th>0</th>\n",
       "      <td>None</td>\n",
       "      <td>0.543678</td>\n",
       "      <td>0.424076</td>\n",
       "      <td>[0.6924676155445386, 0.35852142623487077, 0.22...</td>\n",
       "      <td>0.429045</td>\n",
       "      <td>[0.774597495527728, 0.2970189701897019, 0.2155...</td>\n",
       "      <td>0.435167</td>\n",
       "      <td>[0.6260844418739155, 0.4521452145214521, 0.227...</td>\n",
       "      <td>None</td>\n",
       "      <td>0.644027</td>\n",
       "      <td>...</td>\n",
       "      <td>12</td>\n",
       "      <td>focal</td>\n",
       "      <td>2</td>\n",
       "      <td>True</td>\n",
       "      <td>5</td>\n",
       "      <td>Conv1d</td>\n",
       "      <td>None</td>\n",
       "      <td>concatenation</td>\n",
       "      <td>64</td>\n",
       "      <td>22</td>\n",
       "    </tr>\n",
       "    <tr>\n",
       "      <th>0</th>\n",
       "      <td>None</td>\n",
       "      <td>0.584291</td>\n",
       "      <td>0.442262</td>\n",
       "      <td>[0.7277330950253201, 0.36322188449848025, 0.23...</td>\n",
       "      <td>0.441353</td>\n",
       "      <td>[0.7503071253071253, 0.33661971830985915, 0.23...</td>\n",
       "      <td>0.445138</td>\n",
       "      <td>[0.7064777327935222, 0.3943894389438944, 0.234...</td>\n",
       "      <td>None</td>\n",
       "      <td>0.663777</td>\n",
       "      <td>...</td>\n",
       "      <td>123</td>\n",
       "      <td>focal</td>\n",
       "      <td>2</td>\n",
       "      <td>True</td>\n",
       "      <td>5</td>\n",
       "      <td>Conv1d</td>\n",
       "      <td>None</td>\n",
       "      <td>concatenation</td>\n",
       "      <td>64</td>\n",
       "      <td>22</td>\n",
       "    </tr>\n",
       "    <tr>\n",
       "      <th>0</th>\n",
       "      <td>None</td>\n",
       "      <td>0.610536</td>\n",
       "      <td>0.498548</td>\n",
       "      <td>[0.7398386360176586, 0.42319999999999997, 0.33...</td>\n",
       "      <td>0.489841</td>\n",
       "      <td>[0.781099324975892, 0.4107142857142857, 0.2777...</td>\n",
       "      <td>0.517911</td>\n",
       "      <td>[0.7027183342972817, 0.43646864686468645, 0.41...</td>\n",
       "      <td>None</td>\n",
       "      <td>0.668433</td>\n",
       "      <td>...</td>\n",
       "      <td>1</td>\n",
       "      <td>focal</td>\n",
       "      <td>2</td>\n",
       "      <td>True</td>\n",
       "      <td>5</td>\n",
       "      <td>Conv1d</td>\n",
       "      <td>None</td>\n",
       "      <td>concatenation</td>\n",
       "      <td>64</td>\n",
       "      <td>23</td>\n",
       "    </tr>\n",
       "    <tr>\n",
       "      <th>0</th>\n",
       "      <td>None</td>\n",
       "      <td>0.620115</td>\n",
       "      <td>0.508205</td>\n",
       "      <td>[0.7476522265980006, 0.4328297264189465, 0.344...</td>\n",
       "      <td>0.499435</td>\n",
       "      <td>[0.7849872773536896, 0.4284559417946645, 0.284...</td>\n",
       "      <td>0.528516</td>\n",
       "      <td>[0.7137073452862926, 0.4372937293729373, 0.434...</td>\n",
       "      <td>None</td>\n",
       "      <td>0.670360</td>\n",
       "      <td>...</td>\n",
       "      <td>12</td>\n",
       "      <td>focal</td>\n",
       "      <td>2</td>\n",
       "      <td>True</td>\n",
       "      <td>5</td>\n",
       "      <td>Conv1d</td>\n",
       "      <td>None</td>\n",
       "      <td>concatenation</td>\n",
       "      <td>64</td>\n",
       "      <td>23</td>\n",
       "    </tr>\n",
       "    <tr>\n",
       "      <th>0</th>\n",
       "      <td>None</td>\n",
       "      <td>0.629885</td>\n",
       "      <td>0.508994</td>\n",
       "      <td>[0.7544221698113208, 0.4277310924369747, 0.344...</td>\n",
       "      <td>0.502737</td>\n",
       "      <td>[0.7693926638604931, 0.4357876712328767, 0.303...</td>\n",
       "      <td>0.519997</td>\n",
       "      <td>[0.7400231347599768, 0.41996699669966997, 0.4]</td>\n",
       "      <td>None</td>\n",
       "      <td>0.683365</td>\n",
       "      <td>...</td>\n",
       "      <td>123</td>\n",
       "      <td>focal</td>\n",
       "      <td>2</td>\n",
       "      <td>True</td>\n",
       "      <td>5</td>\n",
       "      <td>Conv1d</td>\n",
       "      <td>None</td>\n",
       "      <td>concatenation</td>\n",
       "      <td>64</td>\n",
       "      <td>23</td>\n",
       "    </tr>\n",
       "  </tbody>\n",
       "</table>\n",
       "<p>72 rows × 48 columns</p>\n",
       "</div>"
      ],
      "text/plain": [
       "    loss  accuracy        f1  \\\n",
       "0   None  0.614751  0.504572   \n",
       "0   None  0.628161  0.513304   \n",
       "0   None  0.622414  0.505098   \n",
       "0   None  0.585824  0.444541   \n",
       "0   None  0.588697  0.433771   \n",
       "..   ...       ...       ...   \n",
       "0   None  0.543678  0.424076   \n",
       "0   None  0.584291  0.442262   \n",
       "0   None  0.610536  0.498548   \n",
       "0   None  0.620115  0.508205   \n",
       "0   None  0.629885  0.508994   \n",
       "\n",
       "                                            f1_scores  precision  \\\n",
       "0   [0.7456752655538694, 0.40692989524576956, 0.36...   0.494692   \n",
       "0   [0.7561453777710753, 0.43944353518821605, 0.34...   0.504775   \n",
       "0   [0.7480137910358267, 0.4344689378757515, 0.332...   0.497266   \n",
       "0   [0.7340236686390532, 0.34236453201970446, 0.25...   0.440866   \n",
       "0   [0.7303206997084547, 0.3580582524271845, 0.212...   0.436574   \n",
       "..                                                ...        ...   \n",
       "0   [0.6924676155445386, 0.35852142623487077, 0.22...   0.429045   \n",
       "0   [0.7277330950253201, 0.36322188449848025, 0.23...   0.441353   \n",
       "0   [0.7398386360176586, 0.42319999999999997, 0.33...   0.489841   \n",
       "0   [0.7476522265980006, 0.4328297264189465, 0.344...   0.499435   \n",
       "0   [0.7544221698113208, 0.4277310924369747, 0.344...   0.502737   \n",
       "\n",
       "                                     precision_scores    recall  \\\n",
       "0   [0.7844827586206896, 0.39763779527559057, 0.30...  0.525428   \n",
       "0   [0.7901040025212732, 0.43587662337662336, 0.28...  0.531776   \n",
       "0   [0.7765328353563647, 0.4224473889321902, 0.292...  0.518055   \n",
       "0   [0.7513628104179285, 0.34068627450980393, 0.23...  0.450812   \n",
       "0   [0.736331569664903, 0.33822450476889215, 0.235...  0.433105   \n",
       "..                                                ...       ...   \n",
       "0   [0.774597495527728, 0.2970189701897019, 0.2155...  0.435167   \n",
       "0   [0.7503071253071253, 0.33661971830985915, 0.23...  0.445138   \n",
       "0   [0.781099324975892, 0.4107142857142857, 0.2777...  0.517911   \n",
       "0   [0.7849872773536896, 0.4284559417946645, 0.284...  0.528516   \n",
       "0   [0.7693926638604931, 0.4357876712328767, 0.303...  0.519997   \n",
       "\n",
       "                                        recall_scores valid_loss  \\\n",
       "0   [0.7105263157894737, 0.4166666666666667, 0.449...       None   \n",
       "0   [0.7249855407750144, 0.4430693069306931, 0.427...       None   \n",
       "0   [0.7215153267784846, 0.4471947194719472, 0.385...       None   \n",
       "0   [0.7174667437825333, 0.34405940594059403, 0.29...       None   \n",
       "0   [0.7244071717755928, 0.3803630363036304, 0.194...       None   \n",
       "..                                                ...        ...   \n",
       "0   [0.6260844418739155, 0.4521452145214521, 0.227...       None   \n",
       "0   [0.7064777327935222, 0.3943894389438944, 0.234...       None   \n",
       "0   [0.7027183342972817, 0.43646864686468645, 0.41...       None   \n",
       "0   [0.7137073452862926, 0.4372937293729373, 0.434...       None   \n",
       "0      [0.7400231347599768, 0.41996699669966997, 0.4]       None   \n",
       "\n",
       "    valid_accuracy  ...  seed loss_function  gamma k_fold  n_splits  \\\n",
       "0         0.671805  ...     1         focal      2   True         5   \n",
       "0         0.670841  ...    12         focal      2   True         5   \n",
       "0         0.670199  ...   123         focal      2   True         5   \n",
       "0         0.667470  ...     1         focal      2   True         5   \n",
       "0         0.654143  ...    12         focal      2   True         5   \n",
       "..             ...  ...   ...           ...    ...    ...       ...   \n",
       "0         0.644027  ...    12         focal      2   True         5   \n",
       "0         0.663777  ...   123         focal      2   True         5   \n",
       "0         0.668433  ...     1         focal      2   True         5   \n",
       "0         0.670360  ...    12         focal      2   True         5   \n",
       "0         0.683365  ...   123         focal      2   True         5   \n",
       "\n",
       "   augmentation_type  hidden_dim_aug    comb_method  batch_size  model_id  \n",
       "0             Conv1d            None  concatenation          64         0  \n",
       "0             Conv1d            None  concatenation          64         0  \n",
       "0             Conv1d            None  concatenation          64         0  \n",
       "0             Conv1d            None  concatenation          64         1  \n",
       "0             Conv1d            None  concatenation          64         1  \n",
       "..               ...             ...            ...         ...       ...  \n",
       "0             Conv1d            None  concatenation          64        22  \n",
       "0             Conv1d            None  concatenation          64        22  \n",
       "0             Conv1d            None  concatenation          64        23  \n",
       "0             Conv1d            None  concatenation          64        23  \n",
       "0             Conv1d            None  concatenation          64        23  \n",
       "\n",
       "[72 rows x 48 columns]"
      ]
     },
     "execution_count": 63,
     "metadata": {},
     "output_type": "execute_result"
    }
   ],
   "source": [
    "seqsignet_network_umap_kfold_80"
   ]
  },
  {
   "cell_type": "code",
   "execution_count": 64,
   "id": "a8a9ed70-9a88-42e4-91c9-853726c4efd9",
   "metadata": {},
   "outputs": [
    {
     "data": {
      "text/plain": [
       "0.5055488929971662"
      ]
     },
     "execution_count": 64,
     "metadata": {},
     "output_type": "execute_result"
    }
   ],
   "source": [
    "best_seqsignet_network_umap_kfold_80[\"f1\"].mean()"
   ]
  },
  {
   "cell_type": "code",
   "execution_count": 65,
   "id": "0b7f5215-02dd-43d5-9e78-bda734e41f0f",
   "metadata": {},
   "outputs": [
    {
     "data": {
      "text/plain": [
       "0.5005151478442117"
      ]
     },
     "execution_count": 65,
     "metadata": {},
     "output_type": "execute_result"
    }
   ],
   "source": [
    "best_seqsignet_network_umap_kfold_80[\"precision\"].mean()"
   ]
  },
  {
   "cell_type": "code",
   "execution_count": 66,
   "id": "82d94892-b52c-48c6-adec-7dab7caa719e",
   "metadata": {},
   "outputs": [
    {
     "data": {
      "text/plain": [
       "0.5126134242496931"
      ]
     },
     "execution_count": 66,
     "metadata": {},
     "output_type": "execute_result"
    }
   ],
   "source": [
    "best_seqsignet_network_umap_kfold_80[\"recall\"].mean()"
   ]
  },
  {
   "cell_type": "code",
   "execution_count": 67,
   "id": "c349d5ee-1c4e-4c06-b4b5-7a69946cc1b2",
   "metadata": {},
   "outputs": [
    {
     "data": {
      "text/plain": [
       "array([0.76133442, 0.41532917, 0.33998309])"
      ]
     },
     "execution_count": 67,
     "metadata": {},
     "output_type": "execute_result"
    }
   ],
   "source": [
    "np.stack(best_seqsignet_network_umap_kfold_80[\"f1_scores\"]).mean(axis=0)"
   ]
  },
  {
   "cell_type": "code",
   "execution_count": 68,
   "id": "4a100c37-0475-4df1-ba04-b345c71e0e28",
   "metadata": {},
   "outputs": [
    {
     "data": {
      "text/plain": [
       "array([0.77503627, 0.41158203, 0.31492714])"
      ]
     },
     "execution_count": 68,
     "metadata": {},
     "output_type": "execute_result"
    }
   ],
   "source": [
    "np.stack(best_seqsignet_network_umap_kfold_80[\"precision_scores\"]).mean(axis=0)"
   ]
  },
  {
   "cell_type": "code",
   "execution_count": 69,
   "id": "ddf6374f-6d5b-4cb8-8300-cf3f8b579815",
   "metadata": {},
   "outputs": [
    {
     "data": {
      "text/plain": [
       "array([0.7481203 , 0.41941694, 0.37030303])"
      ]
     },
     "execution_count": 69,
     "metadata": {},
     "output_type": "execute_result"
    }
   ],
   "source": [
    "np.stack(best_seqsignet_network_umap_kfold_80[\"recall_scores\"]).mean(axis=0)"
   ]
  },
  {
   "cell_type": "markdown",
   "id": "df973f5c-c93f-470e-9d22-4c75b5a4ded8",
   "metadata": {},
   "source": [
    "## GRP"
   ]
  },
  {
   "cell_type": "code",
   "execution_count": 70,
   "id": "00450c54-13e9-4015-9c7d-c469c492fedd",
   "metadata": {},
   "outputs": [
    {
     "data": {
      "application/vnd.jupyter.widget-view+json": {
       "model_id": "e4d4c5c9612b45f7833c64c2a8454cdd",
       "version_major": 2,
       "version_minor": 0
      },
      "text/plain": [
       "  0%|          | 0/1 [00:00<?, ?it/s]"
      ]
     },
     "metadata": {},
     "output_type": "display_data"
    },
    {
     "data": {
      "application/vnd.jupyter.widget-view+json": {
       "model_id": "09b2dfef2fcc47ab95c01be5503ac9c3",
       "version_major": 2,
       "version_minor": 0
      },
      "text/plain": [
       "  0%|          | 0/1 [00:00<?, ?it/s]"
      ]
     },
     "metadata": {},
     "output_type": "display_data"
    },
    {
     "name": "stdout",
     "output_type": "stream",
     "text": [
      "\n",
      "##################################################\n",
      "dimension: 15 | method: gaussian_random_projection\n",
      "given shift 3, window size 5 and n 26: history length = 80\n",
      "[INFO] Concatenating the embeddings to the dataframe...\n",
      "[INFO] - columns beginning with 'e' denote the full embddings.\n",
      "[INFO] - columns beginning with 'd' denote the dimension reduced embeddings.\n",
      "[INFO] Adding time feature columns into dataframe in `.df`.\n",
      "[INFO] Adding 'time_encoding' feature...\n",
      "[INFO] Adding 'time_diff' feature...\n",
      "[INFO] Adding 'timeline_index' feature...\n",
      "[INFO] Padding ids and storing in `.df_padded` and `.array_padded` attributes.\n"
     ]
    },
    {
     "data": {
      "application/vnd.jupyter.widget-view+json": {
       "model_id": "90c4e47361b14d21b49c9f0f73cf6a79",
       "version_major": 2,
       "version_minor": 0
      },
      "text/plain": [
       "  0%|          | 0/9699 [00:00<?, ?it/s]"
      ]
     },
     "metadata": {},
     "output_type": "display_data"
    },
    {
     "name": "stdout",
     "output_type": "stream",
     "text": [
      "[INFO] The path was created for each item in the dataframe, by looking at its history, so to include embeddings in the FFN input, we concatenate the embeddings for each sentence / text.\n"
     ]
    },
    {
     "data": {
      "application/vnd.jupyter.widget-view+json": {
       "model_id": "9f5888b376b54491ad4a50b8ea636c77",
       "version_major": 2,
       "version_minor": 0
      },
      "text/plain": [
       "  0%|          | 0/2 [00:00<?, ?it/s]"
      ]
     },
     "metadata": {},
     "output_type": "display_data"
    },
    {
     "data": {
      "application/vnd.jupyter.widget-view+json": {
       "model_id": "423bfef42cc54afa91b41e92f74e9ccc",
       "version_major": 2,
       "version_minor": 0
      },
      "text/plain": [
       "  0%|          | 0/1 [00:00<?, ?it/s]"
      ]
     },
     "metadata": {},
     "output_type": "display_data"
    },
    {
     "data": {
      "application/vnd.jupyter.widget-view+json": {
       "model_id": "6abd6f2d250e495cb46b7004997c6388",
       "version_major": 2,
       "version_minor": 0
      },
      "text/plain": [
       "  0%|          | 0/1 [00:00<?, ?it/s]"
      ]
     },
     "metadata": {},
     "output_type": "display_data"
    },
    {
     "data": {
      "application/vnd.jupyter.widget-view+json": {
       "model_id": "357b914dccde4b2f9b24244601e306f3",
       "version_major": 2,
       "version_minor": 0
      },
      "text/plain": [
       "  0%|          | 0/2 [00:00<?, ?it/s]"
      ]
     },
     "metadata": {},
     "output_type": "display_data"
    },
    {
     "data": {
      "application/vnd.jupyter.widget-view+json": {
       "model_id": "2ff4a9a34cd04caea06a34ede6570b8b",
       "version_major": 2,
       "version_minor": 0
      },
      "text/plain": [
       "  0%|          | 0/2 [00:00<?, ?it/s]"
      ]
     },
     "metadata": {},
     "output_type": "display_data"
    },
    {
     "data": {
      "application/vnd.jupyter.widget-view+json": {
       "model_id": "2c876a57974c4b1180dcebdfdf9b6acb",
       "version_major": 2,
       "version_minor": 0
      },
      "text/plain": [
       "  0%|          | 0/3 [00:00<?, ?it/s]"
      ]
     },
     "metadata": {},
     "output_type": "display_data"
    },
    {
     "data": {
      "application/vnd.jupyter.widget-view+json": {
       "model_id": "9199ee36207841e993f6062dc4d776db",
       "version_major": 2,
       "version_minor": 0
      },
      "text/plain": [
       "  0%|          | 0/3 [00:00<?, ?it/s]"
      ]
     },
     "metadata": {},
     "output_type": "display_data"
    },
    {
     "data": {
      "application/vnd.jupyter.widget-view+json": {
       "model_id": "433bc0d4ef2f49be913525c9b29d154c",
       "version_major": 2,
       "version_minor": 0
      },
      "text/plain": [
       "  0%|          | 0/2 [00:00<?, ?it/s]"
      ]
     },
     "metadata": {},
     "output_type": "display_data"
    },
    {
     "data": {
      "application/vnd.jupyter.widget-view+json": {
       "model_id": "4ec5d4565fff42428ed7eb2c3513077f",
       "version_major": 2,
       "version_minor": 0
      },
      "text/plain": [
       "  0%|          | 0/3 [00:00<?, ?it/s]"
      ]
     },
     "metadata": {},
     "output_type": "display_data"
    },
    {
     "data": {
      "application/vnd.jupyter.widget-view+json": {
       "model_id": "143ff8a532a1413fa7132c54bb361425",
       "version_major": 2,
       "version_minor": 0
      },
      "text/plain": [
       "  0%|          | 0/3 [00:00<?, ?it/s]"
      ]
     },
     "metadata": {},
     "output_type": "display_data"
    },
    {
     "data": {
      "application/vnd.jupyter.widget-view+json": {
       "model_id": "47fcadbba0784dd1aecd04ee98927a94",
       "version_major": 2,
       "version_minor": 0
      },
      "text/plain": [
       "  0%|          | 0/1 [00:00<?, ?it/s]"
      ]
     },
     "metadata": {},
     "output_type": "display_data"
    },
    {
     "data": {
      "application/vnd.jupyter.widget-view+json": {
       "model_id": "09cf2704b68c47b59dde48f9db8c145b",
       "version_major": 2,
       "version_minor": 0
      },
      "text/plain": [
       "  0%|          | 0/1 [00:00<?, ?it/s]"
      ]
     },
     "metadata": {},
     "output_type": "display_data"
    },
    {
     "data": {
      "application/vnd.jupyter.widget-view+json": {
       "model_id": "0d794c43009d4d54bb843864703877a7",
       "version_major": 2,
       "version_minor": 0
      },
      "text/plain": [
       "  0%|          | 0/2 [00:00<?, ?it/s]"
      ]
     },
     "metadata": {},
     "output_type": "display_data"
    },
    {
     "data": {
      "application/vnd.jupyter.widget-view+json": {
       "model_id": "30a6fd2a4ed14a09a885f70a32a3f1c8",
       "version_major": 2,
       "version_minor": 0
      },
      "text/plain": [
       "  0%|          | 0/2 [00:00<?, ?it/s]"
      ]
     },
     "metadata": {},
     "output_type": "display_data"
    },
    {
     "data": {
      "application/vnd.jupyter.widget-view+json": {
       "model_id": "6a993d600b9c4a4e91f27ced670c2d09",
       "version_major": 2,
       "version_minor": 0
      },
      "text/plain": [
       "  0%|          | 0/3 [00:00<?, ?it/s]"
      ]
     },
     "metadata": {},
     "output_type": "display_data"
    },
    {
     "data": {
      "application/vnd.jupyter.widget-view+json": {
       "model_id": "75b2e3c7a96f425b937373c9fd900504",
       "version_major": 2,
       "version_minor": 0
      },
      "text/plain": [
       "  0%|          | 0/3 [00:00<?, ?it/s]"
      ]
     },
     "metadata": {},
     "output_type": "display_data"
    },
    {
     "data": {
      "application/vnd.jupyter.widget-view+json": {
       "model_id": "5a4e1cab9b5143588762d39f90e66db9",
       "version_major": 2,
       "version_minor": 0
      },
      "text/plain": [
       "  0%|          | 0/2 [00:00<?, ?it/s]"
      ]
     },
     "metadata": {},
     "output_type": "display_data"
    },
    {
     "data": {
      "application/vnd.jupyter.widget-view+json": {
       "model_id": "89cbdbc93a094b4586e2a4c4608aa597",
       "version_major": 2,
       "version_minor": 0
      },
      "text/plain": [
       "  0%|          | 0/3 [00:00<?, ?it/s]"
      ]
     },
     "metadata": {},
     "output_type": "display_data"
    },
    {
     "data": {
      "application/vnd.jupyter.widget-view+json": {
       "model_id": "b2d28bc54c1e47ae878f99ce71c3ebd9",
       "version_major": 2,
       "version_minor": 0
      },
      "text/plain": [
       "  0%|          | 0/3 [00:00<?, ?it/s]"
      ]
     },
     "metadata": {},
     "output_type": "display_data"
    },
    {
     "name": "stdout",
     "output_type": "stream",
     "text": [
      "given shift 3, window size 5 and n 26: history length = 80\n",
      "[INFO] Concatenating the embeddings to the dataframe...\n",
      "[INFO] - columns beginning with 'e' denote the full embddings.\n",
      "[INFO] - columns beginning with 'd' denote the dimension reduced embeddings.\n",
      "[INFO] Adding time feature columns into dataframe in `.df`.\n",
      "[INFO] Adding 'time_encoding' feature...\n",
      "[INFO] Adding 'time_diff' feature...\n",
      "[INFO] Adding 'timeline_index' feature...\n",
      "[INFO] Padding ids and storing in `.df_padded` and `.array_padded` attributes.\n"
     ]
    },
    {
     "data": {
      "application/vnd.jupyter.widget-view+json": {
       "model_id": "739e1c60a30d43bea97b95505caa660c",
       "version_major": 2,
       "version_minor": 0
      },
      "text/plain": [
       "  0%|          | 0/9699 [00:00<?, ?it/s]"
      ]
     },
     "metadata": {},
     "output_type": "display_data"
    },
    {
     "name": "stdout",
     "output_type": "stream",
     "text": [
      "[INFO] The path was created for each item in the dataframe, by looking at its history, so to include embeddings in the FFN input, we concatenate the embeddings for each sentence / text.\n",
      "saving results dataframe to CSV for this hyperparameter search in client_talk_type_output/seqsignet_grp_focal_2_3_5_26_kfold.csv\n",
      "saving the best model results dataframe to CSV for this hyperparameter search in client_talk_type_output/seqsignet_grp_focal_2_3_5_26_kfold_best_model.csv\n"
     ]
    }
   ],
   "source": [
    "(\n",
    "    seqsignet_network_grp_kfold_80,\n",
    "    best_seqsignet_network_grp_kfold_80,\n",
    "    _,\n",
    "    __,\n",
    ") = seqsignet_attention_bilstm_hyperparameter_search(\n",
    "    shift=shift,\n",
    "    window_size=window_size,\n",
    "    n=n,\n",
    "    dim_reduce_methods=[\"gaussian_random_projection\"],\n",
    "    results_output=f\"{output_dir}/seqsignet_attention_bilstm_grp_focal_{gamma}_{shift}_{window_size}_{n}_kfold.csv\",\n",
    "    **kwargs,\n",
    ")"
   ]
  },
  {
   "cell_type": "code",
   "execution_count": 71,
   "id": "7f54bbc1-0d41-4b0d-8a35-275e690a7516",
   "metadata": {},
   "outputs": [
    {
     "data": {
      "text/html": [
       "<div>\n",
       "<style scoped>\n",
       "    .dataframe tbody tr th:only-of-type {\n",
       "        vertical-align: middle;\n",
       "    }\n",
       "\n",
       "    .dataframe tbody tr th {\n",
       "        vertical-align: top;\n",
       "    }\n",
       "\n",
       "    .dataframe thead th {\n",
       "        text-align: right;\n",
       "    }\n",
       "</style>\n",
       "<table border=\"1\" class=\"dataframe\">\n",
       "  <thead>\n",
       "    <tr style=\"text-align: right;\">\n",
       "      <th></th>\n",
       "      <th>loss</th>\n",
       "      <th>accuracy</th>\n",
       "      <th>f1</th>\n",
       "      <th>f1_scores</th>\n",
       "      <th>precision</th>\n",
       "      <th>precision_scores</th>\n",
       "      <th>recall</th>\n",
       "      <th>recall_scores</th>\n",
       "      <th>valid_loss</th>\n",
       "      <th>valid_accuracy</th>\n",
       "      <th>...</th>\n",
       "      <th>seed</th>\n",
       "      <th>loss_function</th>\n",
       "      <th>gamma</th>\n",
       "      <th>k_fold</th>\n",
       "      <th>n_splits</th>\n",
       "      <th>augmentation_type</th>\n",
       "      <th>hidden_dim_aug</th>\n",
       "      <th>comb_method</th>\n",
       "      <th>batch_size</th>\n",
       "      <th>model_id</th>\n",
       "    </tr>\n",
       "  </thead>\n",
       "  <tbody>\n",
       "    <tr>\n",
       "      <th>0</th>\n",
       "      <td>None</td>\n",
       "      <td>0.597893</td>\n",
       "      <td>0.491474</td>\n",
       "      <td>[0.7277182235834609, 0.4052718286655684, 0.341...</td>\n",
       "      <td>0.483167</td>\n",
       "      <td>[0.7734375, 0.40460526315789475, 0.27145922746...</td>\n",
       "      <td>0.517681</td>\n",
       "      <td>[0.6871023713128976, 0.40594059405940597, 0.46]</td>\n",
       "      <td>None</td>\n",
       "      <td>0.676301</td>\n",
       "      <td>...</td>\n",
       "      <td>1</td>\n",
       "      <td>focal</td>\n",
       "      <td>2</td>\n",
       "      <td>True</td>\n",
       "      <td>5</td>\n",
       "      <td>Conv1d</td>\n",
       "      <td>None</td>\n",
       "      <td>concatenation</td>\n",
       "      <td>64</td>\n",
       "      <td>0</td>\n",
       "    </tr>\n",
       "    <tr>\n",
       "      <th>0</th>\n",
       "      <td>None</td>\n",
       "      <td>0.618008</td>\n",
       "      <td>0.504033</td>\n",
       "      <td>[0.7487054523301858, 0.4375510204081633, 0.325...</td>\n",
       "      <td>0.496422</td>\n",
       "      <td>[0.7908622908622909, 0.43295638126009695, 0.26...</td>\n",
       "      <td>0.524959</td>\n",
       "      <td>[0.7108155002891845, 0.44224422442244227, 0.42...</td>\n",
       "      <td>None</td>\n",
       "      <td>0.671805</td>\n",
       "      <td>...</td>\n",
       "      <td>12</td>\n",
       "      <td>focal</td>\n",
       "      <td>2</td>\n",
       "      <td>True</td>\n",
       "      <td>5</td>\n",
       "      <td>Conv1d</td>\n",
       "      <td>None</td>\n",
       "      <td>concatenation</td>\n",
       "      <td>64</td>\n",
       "      <td>0</td>\n",
       "    </tr>\n",
       "    <tr>\n",
       "      <th>0</th>\n",
       "      <td>None</td>\n",
       "      <td>0.622605</td>\n",
       "      <td>0.503981</td>\n",
       "      <td>[0.746742549048974, 0.440221694378464, 0.32497...</td>\n",
       "      <td>0.496725</td>\n",
       "      <td>[0.7744641192917054, 0.4231354642313546, 0.292...</td>\n",
       "      <td>0.515046</td>\n",
       "      <td>[0.7209369577790631, 0.45874587458745875, 0.36...</td>\n",
       "      <td>None</td>\n",
       "      <td>0.677264</td>\n",
       "      <td>...</td>\n",
       "      <td>123</td>\n",
       "      <td>focal</td>\n",
       "      <td>2</td>\n",
       "      <td>True</td>\n",
       "      <td>5</td>\n",
       "      <td>Conv1d</td>\n",
       "      <td>None</td>\n",
       "      <td>concatenation</td>\n",
       "      <td>64</td>\n",
       "      <td>0</td>\n",
       "    </tr>\n",
       "    <tr>\n",
       "      <th>0</th>\n",
       "      <td>None</td>\n",
       "      <td>0.588889</td>\n",
       "      <td>0.453034</td>\n",
       "      <td>[0.73224043715847, 0.34405144694533757, 0.2828...</td>\n",
       "      <td>0.449449</td>\n",
       "      <td>[0.7482644129188047, 0.335423197492163, 0.2646...</td>\n",
       "      <td>0.457887</td>\n",
       "      <td>[0.7168883747831116, 0.35313531353135313, 0.30...</td>\n",
       "      <td>None</td>\n",
       "      <td>0.692197</td>\n",
       "      <td>...</td>\n",
       "      <td>1</td>\n",
       "      <td>focal</td>\n",
       "      <td>2</td>\n",
       "      <td>True</td>\n",
       "      <td>5</td>\n",
       "      <td>Conv1d</td>\n",
       "      <td>None</td>\n",
       "      <td>concatenation</td>\n",
       "      <td>64</td>\n",
       "      <td>1</td>\n",
       "    </tr>\n",
       "    <tr>\n",
       "      <th>0</th>\n",
       "      <td>None</td>\n",
       "      <td>0.600958</td>\n",
       "      <td>0.461330</td>\n",
       "      <td>[0.7425742574257426, 0.3440501043841336, 0.297...</td>\n",
       "      <td>0.458392</td>\n",
       "      <td>[0.7478005865102639, 0.34826711749788675, 0.27...</td>\n",
       "      <td>0.465179</td>\n",
       "      <td>[0.7374204742625795, 0.33993399339933994, 0.31...</td>\n",
       "      <td>None</td>\n",
       "      <td>0.684971</td>\n",
       "      <td>...</td>\n",
       "      <td>12</td>\n",
       "      <td>focal</td>\n",
       "      <td>2</td>\n",
       "      <td>True</td>\n",
       "      <td>5</td>\n",
       "      <td>Conv1d</td>\n",
       "      <td>None</td>\n",
       "      <td>concatenation</td>\n",
       "      <td>64</td>\n",
       "      <td>1</td>\n",
       "    </tr>\n",
       "    <tr>\n",
       "      <th>...</th>\n",
       "      <td>...</td>\n",
       "      <td>...</td>\n",
       "      <td>...</td>\n",
       "      <td>...</td>\n",
       "      <td>...</td>\n",
       "      <td>...</td>\n",
       "      <td>...</td>\n",
       "      <td>...</td>\n",
       "      <td>...</td>\n",
       "      <td>...</td>\n",
       "      <td>...</td>\n",
       "      <td>...</td>\n",
       "      <td>...</td>\n",
       "      <td>...</td>\n",
       "      <td>...</td>\n",
       "      <td>...</td>\n",
       "      <td>...</td>\n",
       "      <td>...</td>\n",
       "      <td>...</td>\n",
       "      <td>...</td>\n",
       "      <td>...</td>\n",
       "    </tr>\n",
       "    <tr>\n",
       "      <th>0</th>\n",
       "      <td>None</td>\n",
       "      <td>0.611877</td>\n",
       "      <td>0.477272</td>\n",
       "      <td>[0.7495575221238937, 0.38652050345107586, 0.29...</td>\n",
       "      <td>0.472989</td>\n",
       "      <td>[0.7649006622516556, 0.38049560351718625, 0.27...</td>\n",
       "      <td>0.483125</td>\n",
       "      <td>[0.7348178137651822, 0.3927392739273927, 0.321...</td>\n",
       "      <td>None</td>\n",
       "      <td>0.699743</td>\n",
       "      <td>...</td>\n",
       "      <td>12</td>\n",
       "      <td>focal</td>\n",
       "      <td>2</td>\n",
       "      <td>True</td>\n",
       "      <td>5</td>\n",
       "      <td>Conv1d</td>\n",
       "      <td>None</td>\n",
       "      <td>concatenation</td>\n",
       "      <td>64</td>\n",
       "      <td>22</td>\n",
       "    </tr>\n",
       "    <tr>\n",
       "      <th>0</th>\n",
       "      <td>None</td>\n",
       "      <td>0.587165</td>\n",
       "      <td>0.473785</td>\n",
       "      <td>[0.7168601099572389, 0.3901569186875891, 0.314...</td>\n",
       "      <td>0.473661</td>\n",
       "      <td>[0.7595469255663431, 0.3435929648241206, 0.317...</td>\n",
       "      <td>0.480315</td>\n",
       "      <td>[0.678716020821284, 0.4513201320132013, 0.3109...</td>\n",
       "      <td>None</td>\n",
       "      <td>0.692357</td>\n",
       "      <td>...</td>\n",
       "      <td>123</td>\n",
       "      <td>focal</td>\n",
       "      <td>2</td>\n",
       "      <td>True</td>\n",
       "      <td>5</td>\n",
       "      <td>Conv1d</td>\n",
       "      <td>None</td>\n",
       "      <td>concatenation</td>\n",
       "      <td>64</td>\n",
       "      <td>22</td>\n",
       "    </tr>\n",
       "    <tr>\n",
       "      <th>0</th>\n",
       "      <td>None</td>\n",
       "      <td>0.626437</td>\n",
       "      <td>0.513548</td>\n",
       "      <td>[0.750488795307565, 0.4412840308817554, 0.3488...</td>\n",
       "      <td>0.504690</td>\n",
       "      <td>[0.7818865559385773, 0.4347477982385909, 0.297...</td>\n",
       "      <td>0.530451</td>\n",
       "      <td>[0.7215153267784846, 0.44801980198019803, 0.42...</td>\n",
       "      <td>None</td>\n",
       "      <td>0.681118</td>\n",
       "      <td>...</td>\n",
       "      <td>1</td>\n",
       "      <td>focal</td>\n",
       "      <td>2</td>\n",
       "      <td>True</td>\n",
       "      <td>5</td>\n",
       "      <td>Conv1d</td>\n",
       "      <td>None</td>\n",
       "      <td>concatenation</td>\n",
       "      <td>64</td>\n",
       "      <td>23</td>\n",
       "    </tr>\n",
       "    <tr>\n",
       "      <th>0</th>\n",
       "      <td>None</td>\n",
       "      <td>0.613985</td>\n",
       "      <td>0.494078</td>\n",
       "      <td>[0.7439831528279182, 0.4302229562345169, 0.308...</td>\n",
       "      <td>0.487710</td>\n",
       "      <td>[0.7752351097178684, 0.4305785123966942, 0.257...</td>\n",
       "      <td>0.509553</td>\n",
       "      <td>[0.7151532677848468, 0.4298679867986799, 0.383...</td>\n",
       "      <td>None</td>\n",
       "      <td>0.678709</td>\n",
       "      <td>...</td>\n",
       "      <td>12</td>\n",
       "      <td>focal</td>\n",
       "      <td>2</td>\n",
       "      <td>True</td>\n",
       "      <td>5</td>\n",
       "      <td>Conv1d</td>\n",
       "      <td>None</td>\n",
       "      <td>concatenation</td>\n",
       "      <td>64</td>\n",
       "      <td>23</td>\n",
       "    </tr>\n",
       "    <tr>\n",
       "      <th>0</th>\n",
       "      <td>None</td>\n",
       "      <td>0.620881</td>\n",
       "      <td>0.508549</td>\n",
       "      <td>[0.7429091460640073, 0.4494036167756829, 0.333...</td>\n",
       "      <td>0.500076</td>\n",
       "      <td>[0.7811802232854864, 0.42105263157894735, 0.29...</td>\n",
       "      <td>0.522748</td>\n",
       "      <td>[0.7082128397917872, 0.48184818481848185, 0.37...</td>\n",
       "      <td>None</td>\n",
       "      <td>0.679030</td>\n",
       "      <td>...</td>\n",
       "      <td>123</td>\n",
       "      <td>focal</td>\n",
       "      <td>2</td>\n",
       "      <td>True</td>\n",
       "      <td>5</td>\n",
       "      <td>Conv1d</td>\n",
       "      <td>None</td>\n",
       "      <td>concatenation</td>\n",
       "      <td>64</td>\n",
       "      <td>23</td>\n",
       "    </tr>\n",
       "  </tbody>\n",
       "</table>\n",
       "<p>72 rows × 48 columns</p>\n",
       "</div>"
      ],
      "text/plain": [
       "    loss  accuracy        f1  \\\n",
       "0   None  0.597893  0.491474   \n",
       "0   None  0.618008  0.504033   \n",
       "0   None  0.622605  0.503981   \n",
       "0   None  0.588889  0.453034   \n",
       "0   None  0.600958  0.461330   \n",
       "..   ...       ...       ...   \n",
       "0   None  0.611877  0.477272   \n",
       "0   None  0.587165  0.473785   \n",
       "0   None  0.626437  0.513548   \n",
       "0   None  0.613985  0.494078   \n",
       "0   None  0.620881  0.508549   \n",
       "\n",
       "                                            f1_scores  precision  \\\n",
       "0   [0.7277182235834609, 0.4052718286655684, 0.341...   0.483167   \n",
       "0   [0.7487054523301858, 0.4375510204081633, 0.325...   0.496422   \n",
       "0   [0.746742549048974, 0.440221694378464, 0.32497...   0.496725   \n",
       "0   [0.73224043715847, 0.34405144694533757, 0.2828...   0.449449   \n",
       "0   [0.7425742574257426, 0.3440501043841336, 0.297...   0.458392   \n",
       "..                                                ...        ...   \n",
       "0   [0.7495575221238937, 0.38652050345107586, 0.29...   0.472989   \n",
       "0   [0.7168601099572389, 0.3901569186875891, 0.314...   0.473661   \n",
       "0   [0.750488795307565, 0.4412840308817554, 0.3488...   0.504690   \n",
       "0   [0.7439831528279182, 0.4302229562345169, 0.308...   0.487710   \n",
       "0   [0.7429091460640073, 0.4494036167756829, 0.333...   0.500076   \n",
       "\n",
       "                                     precision_scores    recall  \\\n",
       "0   [0.7734375, 0.40460526315789475, 0.27145922746...  0.517681   \n",
       "0   [0.7908622908622909, 0.43295638126009695, 0.26...  0.524959   \n",
       "0   [0.7744641192917054, 0.4231354642313546, 0.292...  0.515046   \n",
       "0   [0.7482644129188047, 0.335423197492163, 0.2646...  0.457887   \n",
       "0   [0.7478005865102639, 0.34826711749788675, 0.27...  0.465179   \n",
       "..                                                ...       ...   \n",
       "0   [0.7649006622516556, 0.38049560351718625, 0.27...  0.483125   \n",
       "0   [0.7595469255663431, 0.3435929648241206, 0.317...  0.480315   \n",
       "0   [0.7818865559385773, 0.4347477982385909, 0.297...  0.530451   \n",
       "0   [0.7752351097178684, 0.4305785123966942, 0.257...  0.509553   \n",
       "0   [0.7811802232854864, 0.42105263157894735, 0.29...  0.522748   \n",
       "\n",
       "                                        recall_scores valid_loss  \\\n",
       "0     [0.6871023713128976, 0.40594059405940597, 0.46]       None   \n",
       "0   [0.7108155002891845, 0.44224422442244227, 0.42...       None   \n",
       "0   [0.7209369577790631, 0.45874587458745875, 0.36...       None   \n",
       "0   [0.7168883747831116, 0.35313531353135313, 0.30...       None   \n",
       "0   [0.7374204742625795, 0.33993399339933994, 0.31...       None   \n",
       "..                                                ...        ...   \n",
       "0   [0.7348178137651822, 0.3927392739273927, 0.321...       None   \n",
       "0   [0.678716020821284, 0.4513201320132013, 0.3109...       None   \n",
       "0   [0.7215153267784846, 0.44801980198019803, 0.42...       None   \n",
       "0   [0.7151532677848468, 0.4298679867986799, 0.383...       None   \n",
       "0   [0.7082128397917872, 0.48184818481848185, 0.37...       None   \n",
       "\n",
       "    valid_accuracy  ...  seed loss_function  gamma k_fold  n_splits  \\\n",
       "0         0.676301  ...     1         focal      2   True         5   \n",
       "0         0.671805  ...    12         focal      2   True         5   \n",
       "0         0.677264  ...   123         focal      2   True         5   \n",
       "0         0.692197  ...     1         focal      2   True         5   \n",
       "0         0.684971  ...    12         focal      2   True         5   \n",
       "..             ...  ...   ...           ...    ...    ...       ...   \n",
       "0         0.699743  ...    12         focal      2   True         5   \n",
       "0         0.692357  ...   123         focal      2   True         5   \n",
       "0         0.681118  ...     1         focal      2   True         5   \n",
       "0         0.678709  ...    12         focal      2   True         5   \n",
       "0         0.679030  ...   123         focal      2   True         5   \n",
       "\n",
       "   augmentation_type  hidden_dim_aug    comb_method  batch_size  model_id  \n",
       "0             Conv1d            None  concatenation          64         0  \n",
       "0             Conv1d            None  concatenation          64         0  \n",
       "0             Conv1d            None  concatenation          64         0  \n",
       "0             Conv1d            None  concatenation          64         1  \n",
       "0             Conv1d            None  concatenation          64         1  \n",
       "..               ...             ...            ...         ...       ...  \n",
       "0             Conv1d            None  concatenation          64        22  \n",
       "0             Conv1d            None  concatenation          64        22  \n",
       "0             Conv1d            None  concatenation          64        23  \n",
       "0             Conv1d            None  concatenation          64        23  \n",
       "0             Conv1d            None  concatenation          64        23  \n",
       "\n",
       "[72 rows x 48 columns]"
      ]
     },
     "execution_count": 71,
     "metadata": {},
     "output_type": "execute_result"
    }
   ],
   "source": [
    "seqsignet_network_grp_kfold_80"
   ]
  },
  {
   "cell_type": "code",
   "execution_count": 72,
   "id": "5d0aa088-9edc-4719-8704-5d11f0a26bea",
   "metadata": {},
   "outputs": [
    {
     "data": {
      "text/plain": [
       "0.4878311051069672"
      ]
     },
     "execution_count": 72,
     "metadata": {},
     "output_type": "execute_result"
    }
   ],
   "source": [
    "best_seqsignet_network_grp_kfold_80[\"f1\"].mean()"
   ]
  },
  {
   "cell_type": "code",
   "execution_count": 73,
   "id": "2bcd67a5-262b-4ad8-9920-dc409fef734f",
   "metadata": {},
   "outputs": [
    {
     "data": {
      "text/plain": [
       "0.4839229244125589"
      ]
     },
     "execution_count": 73,
     "metadata": {},
     "output_type": "execute_result"
    }
   ],
   "source": [
    "best_seqsignet_network_grp_kfold_80[\"precision\"].mean()"
   ]
  },
  {
   "cell_type": "code",
   "execution_count": 74,
   "id": "06861332-e421-4c40-8611-31ee38de3047",
   "metadata": {},
   "outputs": [
    {
     "data": {
      "text/plain": [
       "0.49595292477001696"
      ]
     },
     "execution_count": 74,
     "metadata": {},
     "output_type": "execute_result"
    }
   ],
   "source": [
    "best_seqsignet_network_grp_kfold_80[\"recall\"].mean()"
   ]
  },
  {
   "cell_type": "code",
   "execution_count": 75,
   "id": "7e0732ea-ae1a-4539-a74f-3cac1a6c4aef",
   "metadata": {},
   "outputs": [
    {
     "data": {
      "text/plain": [
       "array([0.73329414, 0.40732229, 0.32287689])"
      ]
     },
     "execution_count": 75,
     "metadata": {},
     "output_type": "execute_result"
    }
   ],
   "source": [
    "np.stack(best_seqsignet_network_grp_kfold_80[\"f1_scores\"]).mean(axis=0)"
   ]
  },
  {
   "cell_type": "code",
   "execution_count": 76,
   "id": "2484addf-1561-445e-a31c-c5f6238f0032",
   "metadata": {},
   "outputs": [
    {
     "data": {
      "text/plain": [
       "array([0.7668082 , 0.37424093, 0.31071964])"
      ]
     },
     "execution_count": 76,
     "metadata": {},
     "output_type": "execute_result"
    }
   ],
   "source": [
    "np.stack(best_seqsignet_network_grp_kfold_80[\"precision_scores\"]).mean(axis=0)"
   ]
  },
  {
   "cell_type": "code",
   "execution_count": 77,
   "id": "d6ba0e98-7a0b-46ef-a127-4d2ed37bd036",
   "metadata": {},
   "outputs": [
    {
     "data": {
      "text/plain": [
       "array([0.70320031, 0.44829483, 0.33636364])"
      ]
     },
     "execution_count": 77,
     "metadata": {},
     "output_type": "execute_result"
    }
   ],
   "source": [
    "np.stack(best_seqsignet_network_grp_kfold_80[\"recall_scores\"]).mean(axis=0)"
   ]
  },
  {
   "cell_type": "markdown",
   "id": "04e84860-a48b-4090-b415-38d874d2b344",
   "metadata": {},
   "source": [
    "# history_length=110"
   ]
  },
  {
   "cell_type": "code",
   "execution_count": 78,
   "id": "c7d526aa-f264-45ec-b4e9-428d67fc845f",
   "metadata": {},
   "outputs": [],
   "source": [
    "shift = 3\n",
    "window_size = 5\n",
    "n = 36"
   ]
  },
  {
   "cell_type": "code",
   "execution_count": 79,
   "id": "26967648-c4d0-4f2c-bfba-9c966a40b809",
   "metadata": {},
   "outputs": [
    {
     "data": {
      "application/vnd.jupyter.widget-view+json": {
       "model_id": "d2be53c7a1864f9b8042ca864755010e",
       "version_major": 2,
       "version_minor": 0
      },
      "text/plain": [
       "  0%|          | 0/1 [00:00<?, ?it/s]"
      ]
     },
     "metadata": {},
     "output_type": "display_data"
    },
    {
     "data": {
      "application/vnd.jupyter.widget-view+json": {
       "model_id": "7cac8f52927a44c0a9ab98ed1222b1c4",
       "version_major": 2,
       "version_minor": 0
      },
      "text/plain": [
       "  0%|          | 0/1 [00:00<?, ?it/s]"
      ]
     },
     "metadata": {},
     "output_type": "display_data"
    },
    {
     "name": "stdout",
     "output_type": "stream",
     "text": [
      "\n",
      "##################################################\n",
      "dimension: 15 | method: umap\n",
      "given shift 3, window size 5 and n 36: history length = 110\n",
      "[INFO] Concatenating the embeddings to the dataframe...\n",
      "[INFO] - columns beginning with 'e' denote the full embddings.\n",
      "[INFO] - columns beginning with 'd' denote the dimension reduced embeddings.\n",
      "[INFO] Adding time feature columns into dataframe in `.df`.\n",
      "[INFO] Adding 'time_encoding' feature...\n",
      "[INFO] Adding 'time_diff' feature...\n",
      "[INFO] Adding 'timeline_index' feature...\n",
      "[INFO] Padding ids and storing in `.df_padded` and `.array_padded` attributes.\n"
     ]
    },
    {
     "data": {
      "application/vnd.jupyter.widget-view+json": {
       "model_id": "aa08ca1676234d76a2d8d782246b92b1",
       "version_major": 2,
       "version_minor": 0
      },
      "text/plain": [
       "  0%|          | 0/9699 [00:00<?, ?it/s]"
      ]
     },
     "metadata": {},
     "output_type": "display_data"
    },
    {
     "name": "stdout",
     "output_type": "stream",
     "text": [
      "[INFO] The path was created for each item in the dataframe, by looking at its history, so to include embeddings in the FFN input, we concatenate the embeddings for each sentence / text.\n"
     ]
    },
    {
     "data": {
      "application/vnd.jupyter.widget-view+json": {
       "model_id": "872dbf3b103d4b3c84a730b09b059d8a",
       "version_major": 2,
       "version_minor": 0
      },
      "text/plain": [
       "  0%|          | 0/2 [00:00<?, ?it/s]"
      ]
     },
     "metadata": {},
     "output_type": "display_data"
    },
    {
     "data": {
      "application/vnd.jupyter.widget-view+json": {
       "model_id": "03ca1969c07047418dacd21fed8f770b",
       "version_major": 2,
       "version_minor": 0
      },
      "text/plain": [
       "  0%|          | 0/1 [00:00<?, ?it/s]"
      ]
     },
     "metadata": {},
     "output_type": "display_data"
    },
    {
     "data": {
      "application/vnd.jupyter.widget-view+json": {
       "model_id": "6ca240a3c1484c4aa8bd30396e288824",
       "version_major": 2,
       "version_minor": 0
      },
      "text/plain": [
       "  0%|          | 0/1 [00:00<?, ?it/s]"
      ]
     },
     "metadata": {},
     "output_type": "display_data"
    },
    {
     "data": {
      "application/vnd.jupyter.widget-view+json": {
       "model_id": "a2c197d3c1f44426a5c1f9873e77cba1",
       "version_major": 2,
       "version_minor": 0
      },
      "text/plain": [
       "  0%|          | 0/2 [00:00<?, ?it/s]"
      ]
     },
     "metadata": {},
     "output_type": "display_data"
    },
    {
     "data": {
      "application/vnd.jupyter.widget-view+json": {
       "model_id": "d9d753a5e9d64cb7937e9b70df674b47",
       "version_major": 2,
       "version_minor": 0
      },
      "text/plain": [
       "  0%|          | 0/2 [00:00<?, ?it/s]"
      ]
     },
     "metadata": {},
     "output_type": "display_data"
    },
    {
     "data": {
      "application/vnd.jupyter.widget-view+json": {
       "model_id": "fc8cc9f306974a34ac26a258655c2cac",
       "version_major": 2,
       "version_minor": 0
      },
      "text/plain": [
       "  0%|          | 0/3 [00:00<?, ?it/s]"
      ]
     },
     "metadata": {},
     "output_type": "display_data"
    },
    {
     "data": {
      "application/vnd.jupyter.widget-view+json": {
       "model_id": "dc5aac5e9f404ecc9209de5aa2f40b90",
       "version_major": 2,
       "version_minor": 0
      },
      "text/plain": [
       "  0%|          | 0/3 [00:00<?, ?it/s]"
      ]
     },
     "metadata": {},
     "output_type": "display_data"
    },
    {
     "data": {
      "application/vnd.jupyter.widget-view+json": {
       "model_id": "182fe62426df4d488cb518dcc46731d0",
       "version_major": 2,
       "version_minor": 0
      },
      "text/plain": [
       "  0%|          | 0/2 [00:00<?, ?it/s]"
      ]
     },
     "metadata": {},
     "output_type": "display_data"
    },
    {
     "data": {
      "application/vnd.jupyter.widget-view+json": {
       "model_id": "29527bb78cef47eb9b78244a45fd7ac7",
       "version_major": 2,
       "version_minor": 0
      },
      "text/plain": [
       "  0%|          | 0/3 [00:00<?, ?it/s]"
      ]
     },
     "metadata": {},
     "output_type": "display_data"
    },
    {
     "data": {
      "application/vnd.jupyter.widget-view+json": {
       "model_id": "fef59ce4289e4a5584e965df25b419fa",
       "version_major": 2,
       "version_minor": 0
      },
      "text/plain": [
       "  0%|          | 0/3 [00:00<?, ?it/s]"
      ]
     },
     "metadata": {},
     "output_type": "display_data"
    },
    {
     "data": {
      "application/vnd.jupyter.widget-view+json": {
       "model_id": "d02a05b1ccaf435fa71b635036dc552c",
       "version_major": 2,
       "version_minor": 0
      },
      "text/plain": [
       "  0%|          | 0/1 [00:00<?, ?it/s]"
      ]
     },
     "metadata": {},
     "output_type": "display_data"
    },
    {
     "data": {
      "application/vnd.jupyter.widget-view+json": {
       "model_id": "d19223f300004d649d81c76367ffe8f7",
       "version_major": 2,
       "version_minor": 0
      },
      "text/plain": [
       "  0%|          | 0/1 [00:00<?, ?it/s]"
      ]
     },
     "metadata": {},
     "output_type": "display_data"
    },
    {
     "data": {
      "application/vnd.jupyter.widget-view+json": {
       "model_id": "879875d4dc6944e59fba2d3c911466de",
       "version_major": 2,
       "version_minor": 0
      },
      "text/plain": [
       "  0%|          | 0/2 [00:00<?, ?it/s]"
      ]
     },
     "metadata": {},
     "output_type": "display_data"
    },
    {
     "data": {
      "application/vnd.jupyter.widget-view+json": {
       "model_id": "29f9372e624f494ba924ddf0954972ff",
       "version_major": 2,
       "version_minor": 0
      },
      "text/plain": [
       "  0%|          | 0/2 [00:00<?, ?it/s]"
      ]
     },
     "metadata": {},
     "output_type": "display_data"
    },
    {
     "data": {
      "application/vnd.jupyter.widget-view+json": {
       "model_id": "1b98c66379d04970ab738a2e533a4c11",
       "version_major": 2,
       "version_minor": 0
      },
      "text/plain": [
       "  0%|          | 0/3 [00:00<?, ?it/s]"
      ]
     },
     "metadata": {},
     "output_type": "display_data"
    },
    {
     "data": {
      "application/vnd.jupyter.widget-view+json": {
       "model_id": "ade37d2c49d848148f6a7eceddb95124",
       "version_major": 2,
       "version_minor": 0
      },
      "text/plain": [
       "  0%|          | 0/3 [00:00<?, ?it/s]"
      ]
     },
     "metadata": {},
     "output_type": "display_data"
    },
    {
     "data": {
      "application/vnd.jupyter.widget-view+json": {
       "model_id": "efc89e355ff44bb690f0147f82320109",
       "version_major": 2,
       "version_minor": 0
      },
      "text/plain": [
       "  0%|          | 0/2 [00:00<?, ?it/s]"
      ]
     },
     "metadata": {},
     "output_type": "display_data"
    },
    {
     "data": {
      "application/vnd.jupyter.widget-view+json": {
       "model_id": "de06ee80157c4b56ba313baca1a516d1",
       "version_major": 2,
       "version_minor": 0
      },
      "text/plain": [
       "  0%|          | 0/3 [00:00<?, ?it/s]"
      ]
     },
     "metadata": {},
     "output_type": "display_data"
    },
    {
     "data": {
      "application/vnd.jupyter.widget-view+json": {
       "model_id": "00fcca69ab9e4ce08cee46d143607655",
       "version_major": 2,
       "version_minor": 0
      },
      "text/plain": [
       "  0%|          | 0/3 [00:00<?, ?it/s]"
      ]
     },
     "metadata": {},
     "output_type": "display_data"
    },
    {
     "name": "stdout",
     "output_type": "stream",
     "text": [
      "given shift 3, window size 5 and n 36: history length = 110\n",
      "[INFO] Concatenating the embeddings to the dataframe...\n",
      "[INFO] - columns beginning with 'e' denote the full embddings.\n",
      "[INFO] - columns beginning with 'd' denote the dimension reduced embeddings.\n",
      "[INFO] Adding time feature columns into dataframe in `.df`.\n",
      "[INFO] Adding 'time_encoding' feature...\n",
      "[INFO] Adding 'time_diff' feature...\n",
      "[INFO] Adding 'timeline_index' feature...\n",
      "[INFO] Padding ids and storing in `.df_padded` and `.array_padded` attributes.\n"
     ]
    },
    {
     "data": {
      "application/vnd.jupyter.widget-view+json": {
       "model_id": "fa4e6a224c8e4b938e7fe6ebf22f187d",
       "version_major": 2,
       "version_minor": 0
      },
      "text/plain": [
       "  0%|          | 0/9699 [00:00<?, ?it/s]"
      ]
     },
     "metadata": {},
     "output_type": "display_data"
    },
    {
     "name": "stdout",
     "output_type": "stream",
     "text": [
      "[INFO] The path was created for each item in the dataframe, by looking at its history, so to include embeddings in the FFN input, we concatenate the embeddings for each sentence / text.\n",
      "saving results dataframe to CSV for this hyperparameter search in client_talk_type_output/seqsignet_umap_focal_2_3_5_36_kfold.csv\n",
      "saving the best model results dataframe to CSV for this hyperparameter search in client_talk_type_output/seqsignet_umap_focal_2_3_5_36_kfold_best_model.csv\n"
     ]
    }
   ],
   "source": [
    "(\n",
    "    seqsignet_network_umap_kfold_110,\n",
    "    best_seqsignet_network_umap_kfold_110,\n",
    "    _,\n",
    "    __,\n",
    ") = seqsignet_attention_bilstm_hyperparameter_search(\n",
    "    shift=shift,\n",
    "    window_size=window_size,\n",
    "    n=n,\n",
    "    dim_reduce_methods=[\"umap\"],\n",
    "    results_output=f\"{output_dir}/seqsignet_attention_bilstm_umap_focal_{gamma}_{shift}_{window_size}_{n}_kfold.csv\",\n",
    "    **kwargs,\n",
    ")"
   ]
  },
  {
   "cell_type": "code",
   "execution_count": 80,
   "id": "54afda08-ad7f-4ab1-b108-e717a5d639cc",
   "metadata": {},
   "outputs": [
    {
     "data": {
      "text/html": [
       "<div>\n",
       "<style scoped>\n",
       "    .dataframe tbody tr th:only-of-type {\n",
       "        vertical-align: middle;\n",
       "    }\n",
       "\n",
       "    .dataframe tbody tr th {\n",
       "        vertical-align: top;\n",
       "    }\n",
       "\n",
       "    .dataframe thead th {\n",
       "        text-align: right;\n",
       "    }\n",
       "</style>\n",
       "<table border=\"1\" class=\"dataframe\">\n",
       "  <thead>\n",
       "    <tr style=\"text-align: right;\">\n",
       "      <th></th>\n",
       "      <th>loss</th>\n",
       "      <th>accuracy</th>\n",
       "      <th>f1</th>\n",
       "      <th>f1_scores</th>\n",
       "      <th>precision</th>\n",
       "      <th>precision_scores</th>\n",
       "      <th>recall</th>\n",
       "      <th>recall_scores</th>\n",
       "      <th>valid_loss</th>\n",
       "      <th>valid_accuracy</th>\n",
       "      <th>...</th>\n",
       "      <th>seed</th>\n",
       "      <th>loss_function</th>\n",
       "      <th>gamma</th>\n",
       "      <th>k_fold</th>\n",
       "      <th>n_splits</th>\n",
       "      <th>augmentation_type</th>\n",
       "      <th>hidden_dim_aug</th>\n",
       "      <th>comb_method</th>\n",
       "      <th>batch_size</th>\n",
       "      <th>model_id</th>\n",
       "    </tr>\n",
       "  </thead>\n",
       "  <tbody>\n",
       "    <tr>\n",
       "      <th>0</th>\n",
       "      <td>None</td>\n",
       "      <td>0.604215</td>\n",
       "      <td>0.501087</td>\n",
       "      <td>[0.7355613737871554, 0.40611724723874254, 0.36...</td>\n",
       "      <td>0.493837</td>\n",
       "      <td>[0.7868204283360791, 0.4185639229422067, 0.276...</td>\n",
       "      <td>0.536199</td>\n",
       "      <td>[0.6905725853094274, 0.3943894389438944, 0.523...</td>\n",
       "      <td>None</td>\n",
       "      <td>0.660405</td>\n",
       "      <td>...</td>\n",
       "      <td>1</td>\n",
       "      <td>focal</td>\n",
       "      <td>2</td>\n",
       "      <td>True</td>\n",
       "      <td>5</td>\n",
       "      <td>Conv1d</td>\n",
       "      <td>None</td>\n",
       "      <td>concatenation</td>\n",
       "      <td>64</td>\n",
       "      <td>0</td>\n",
       "    </tr>\n",
       "    <tr>\n",
       "      <th>0</th>\n",
       "      <td>None</td>\n",
       "      <td>0.615134</td>\n",
       "      <td>0.508203</td>\n",
       "      <td>[0.7396377034080441, 0.44902816342721147, 0.33...</td>\n",
       "      <td>0.498900</td>\n",
       "      <td>[0.7882853403141361, 0.43239113827349124, 0.27...</td>\n",
       "      <td>0.530911</td>\n",
       "      <td>[0.6966454598033546, 0.466996699669967, 0.4290...</td>\n",
       "      <td>None</td>\n",
       "      <td>0.661850</td>\n",
       "      <td>...</td>\n",
       "      <td>12</td>\n",
       "      <td>focal</td>\n",
       "      <td>2</td>\n",
       "      <td>True</td>\n",
       "      <td>5</td>\n",
       "      <td>Conv1d</td>\n",
       "      <td>None</td>\n",
       "      <td>concatenation</td>\n",
       "      <td>64</td>\n",
       "      <td>0</td>\n",
       "    </tr>\n",
       "    <tr>\n",
       "      <th>0</th>\n",
       "      <td>None</td>\n",
       "      <td>0.624330</td>\n",
       "      <td>0.505234</td>\n",
       "      <td>[0.7500746491489997, 0.4328238133547868, 0.332...</td>\n",
       "      <td>0.497878</td>\n",
       "      <td>[0.7753086419753087, 0.42229199372056514, 0.29...</td>\n",
       "      <td>0.516775</td>\n",
       "      <td>[0.7264314632735686, 0.4438943894389439, 0.38]</td>\n",
       "      <td>None</td>\n",
       "      <td>0.670039</td>\n",
       "      <td>...</td>\n",
       "      <td>123</td>\n",
       "      <td>focal</td>\n",
       "      <td>2</td>\n",
       "      <td>True</td>\n",
       "      <td>5</td>\n",
       "      <td>Conv1d</td>\n",
       "      <td>None</td>\n",
       "      <td>concatenation</td>\n",
       "      <td>64</td>\n",
       "      <td>0</td>\n",
       "    </tr>\n",
       "    <tr>\n",
       "      <th>0</th>\n",
       "      <td>None</td>\n",
       "      <td>0.580651</td>\n",
       "      <td>0.444679</td>\n",
       "      <td>[0.7257083518765762, 0.3352781019058732, 0.273...</td>\n",
       "      <td>0.442877</td>\n",
       "      <td>[0.7450502589095339, 0.31714495952906546, 0.26...</td>\n",
       "      <td>0.447652</td>\n",
       "      <td>[0.7073452862926547, 0.3556105610561056, 0.28]</td>\n",
       "      <td>None</td>\n",
       "      <td>0.677585</td>\n",
       "      <td>...</td>\n",
       "      <td>1</td>\n",
       "      <td>focal</td>\n",
       "      <td>2</td>\n",
       "      <td>True</td>\n",
       "      <td>5</td>\n",
       "      <td>Conv1d</td>\n",
       "      <td>None</td>\n",
       "      <td>concatenation</td>\n",
       "      <td>64</td>\n",
       "      <td>1</td>\n",
       "    </tr>\n",
       "    <tr>\n",
       "      <th>0</th>\n",
       "      <td>None</td>\n",
       "      <td>0.584483</td>\n",
       "      <td>0.435600</td>\n",
       "      <td>[0.7240579710144928, 0.3381379041682898, 0.244...</td>\n",
       "      <td>0.442453</td>\n",
       "      <td>[0.725740848343986, 0.3202952029520295, 0.2813...</td>\n",
       "      <td>0.432277</td>\n",
       "      <td>[0.7223828802776171, 0.3580858085808581, 0.216...</td>\n",
       "      <td>None</td>\n",
       "      <td>0.671805</td>\n",
       "      <td>...</td>\n",
       "      <td>12</td>\n",
       "      <td>focal</td>\n",
       "      <td>2</td>\n",
       "      <td>True</td>\n",
       "      <td>5</td>\n",
       "      <td>Conv1d</td>\n",
       "      <td>None</td>\n",
       "      <td>concatenation</td>\n",
       "      <td>64</td>\n",
       "      <td>1</td>\n",
       "    </tr>\n",
       "    <tr>\n",
       "      <th>...</th>\n",
       "      <td>...</td>\n",
       "      <td>...</td>\n",
       "      <td>...</td>\n",
       "      <td>...</td>\n",
       "      <td>...</td>\n",
       "      <td>...</td>\n",
       "      <td>...</td>\n",
       "      <td>...</td>\n",
       "      <td>...</td>\n",
       "      <td>...</td>\n",
       "      <td>...</td>\n",
       "      <td>...</td>\n",
       "      <td>...</td>\n",
       "      <td>...</td>\n",
       "      <td>...</td>\n",
       "      <td>...</td>\n",
       "      <td>...</td>\n",
       "      <td>...</td>\n",
       "      <td>...</td>\n",
       "      <td>...</td>\n",
       "      <td>...</td>\n",
       "    </tr>\n",
       "    <tr>\n",
       "      <th>0</th>\n",
       "      <td>None</td>\n",
       "      <td>0.533525</td>\n",
       "      <td>0.414881</td>\n",
       "      <td>[0.6863456985003946, 0.3322499097146985, 0.226...</td>\n",
       "      <td>0.414400</td>\n",
       "      <td>[0.7556482446993396, 0.29543994861913936, 0.19...</td>\n",
       "      <td>0.427590</td>\n",
       "      <td>[0.6286871023713129, 0.3795379537953795, 0.274...</td>\n",
       "      <td>None</td>\n",
       "      <td>0.652216</td>\n",
       "      <td>...</td>\n",
       "      <td>12</td>\n",
       "      <td>focal</td>\n",
       "      <td>2</td>\n",
       "      <td>True</td>\n",
       "      <td>5</td>\n",
       "      <td>Conv1d</td>\n",
       "      <td>None</td>\n",
       "      <td>concatenation</td>\n",
       "      <td>64</td>\n",
       "      <td>22</td>\n",
       "    </tr>\n",
       "    <tr>\n",
       "      <th>0</th>\n",
       "      <td>None</td>\n",
       "      <td>0.584100</td>\n",
       "      <td>0.437649</td>\n",
       "      <td>[0.7245868070791281, 0.34749034749034746, 0.24...</td>\n",
       "      <td>0.441039</td>\n",
       "      <td>[0.7330571174903817, 0.3265602322206096, 0.263...</td>\n",
       "      <td>0.436472</td>\n",
       "      <td>[0.71631000578369, 0.3712871287128713, 0.22181...</td>\n",
       "      <td>None</td>\n",
       "      <td>0.665382</td>\n",
       "      <td>...</td>\n",
       "      <td>123</td>\n",
       "      <td>focal</td>\n",
       "      <td>2</td>\n",
       "      <td>True</td>\n",
       "      <td>5</td>\n",
       "      <td>Conv1d</td>\n",
       "      <td>None</td>\n",
       "      <td>concatenation</td>\n",
       "      <td>64</td>\n",
       "      <td>22</td>\n",
       "    </tr>\n",
       "    <tr>\n",
       "      <th>0</th>\n",
       "      <td>None</td>\n",
       "      <td>0.598659</td>\n",
       "      <td>0.502962</td>\n",
       "      <td>[0.72234409276089, 0.4301484583174724, 0.35639...</td>\n",
       "      <td>0.492347</td>\n",
       "      <td>[0.7883036935704515, 0.3992932862190813, 0.289...</td>\n",
       "      <td>0.532126</td>\n",
       "      <td>[0.6665702718334298, 0.4661716171617162, 0.463...</td>\n",
       "      <td>None</td>\n",
       "      <td>0.665864</td>\n",
       "      <td>...</td>\n",
       "      <td>1</td>\n",
       "      <td>focal</td>\n",
       "      <td>2</td>\n",
       "      <td>True</td>\n",
       "      <td>5</td>\n",
       "      <td>Conv1d</td>\n",
       "      <td>None</td>\n",
       "      <td>concatenation</td>\n",
       "      <td>64</td>\n",
       "      <td>23</td>\n",
       "    </tr>\n",
       "    <tr>\n",
       "      <th>0</th>\n",
       "      <td>None</td>\n",
       "      <td>0.600192</td>\n",
       "      <td>0.489759</td>\n",
       "      <td>[0.7299757281553398, 0.395882818685669, 0.3434...</td>\n",
       "      <td>0.480756</td>\n",
       "      <td>[0.7677089980855137, 0.380517503805175, 0.2940...</td>\n",
       "      <td>0.507015</td>\n",
       "      <td>[0.6957779063042221, 0.41254125412541254, 0.41...</td>\n",
       "      <td>None</td>\n",
       "      <td>0.678388</td>\n",
       "      <td>...</td>\n",
       "      <td>12</td>\n",
       "      <td>focal</td>\n",
       "      <td>2</td>\n",
       "      <td>True</td>\n",
       "      <td>5</td>\n",
       "      <td>Conv1d</td>\n",
       "      <td>None</td>\n",
       "      <td>concatenation</td>\n",
       "      <td>64</td>\n",
       "      <td>23</td>\n",
       "    </tr>\n",
       "    <tr>\n",
       "      <th>0</th>\n",
       "      <td>None</td>\n",
       "      <td>0.630843</td>\n",
       "      <td>0.503434</td>\n",
       "      <td>[0.760673830961371, 0.39069359086918354, 0.358...</td>\n",
       "      <td>0.498959</td>\n",
       "      <td>[0.7640023337222871, 0.4174484052532833, 0.315...</td>\n",
       "      <td>0.513633</td>\n",
       "      <td>[0.7573742047426258, 0.36716171617161714, 0.41...</td>\n",
       "      <td>None</td>\n",
       "      <td>0.686416</td>\n",
       "      <td>...</td>\n",
       "      <td>123</td>\n",
       "      <td>focal</td>\n",
       "      <td>2</td>\n",
       "      <td>True</td>\n",
       "      <td>5</td>\n",
       "      <td>Conv1d</td>\n",
       "      <td>None</td>\n",
       "      <td>concatenation</td>\n",
       "      <td>64</td>\n",
       "      <td>23</td>\n",
       "    </tr>\n",
       "  </tbody>\n",
       "</table>\n",
       "<p>72 rows × 48 columns</p>\n",
       "</div>"
      ],
      "text/plain": [
       "    loss  accuracy        f1  \\\n",
       "0   None  0.604215  0.501087   \n",
       "0   None  0.615134  0.508203   \n",
       "0   None  0.624330  0.505234   \n",
       "0   None  0.580651  0.444679   \n",
       "0   None  0.584483  0.435600   \n",
       "..   ...       ...       ...   \n",
       "0   None  0.533525  0.414881   \n",
       "0   None  0.584100  0.437649   \n",
       "0   None  0.598659  0.502962   \n",
       "0   None  0.600192  0.489759   \n",
       "0   None  0.630843  0.503434   \n",
       "\n",
       "                                            f1_scores  precision  \\\n",
       "0   [0.7355613737871554, 0.40611724723874254, 0.36...   0.493837   \n",
       "0   [0.7396377034080441, 0.44902816342721147, 0.33...   0.498900   \n",
       "0   [0.7500746491489997, 0.4328238133547868, 0.332...   0.497878   \n",
       "0   [0.7257083518765762, 0.3352781019058732, 0.273...   0.442877   \n",
       "0   [0.7240579710144928, 0.3381379041682898, 0.244...   0.442453   \n",
       "..                                                ...        ...   \n",
       "0   [0.6863456985003946, 0.3322499097146985, 0.226...   0.414400   \n",
       "0   [0.7245868070791281, 0.34749034749034746, 0.24...   0.441039   \n",
       "0   [0.72234409276089, 0.4301484583174724, 0.35639...   0.492347   \n",
       "0   [0.7299757281553398, 0.395882818685669, 0.3434...   0.480756   \n",
       "0   [0.760673830961371, 0.39069359086918354, 0.358...   0.498959   \n",
       "\n",
       "                                     precision_scores    recall  \\\n",
       "0   [0.7868204283360791, 0.4185639229422067, 0.276...  0.536199   \n",
       "0   [0.7882853403141361, 0.43239113827349124, 0.27...  0.530911   \n",
       "0   [0.7753086419753087, 0.42229199372056514, 0.29...  0.516775   \n",
       "0   [0.7450502589095339, 0.31714495952906546, 0.26...  0.447652   \n",
       "0   [0.725740848343986, 0.3202952029520295, 0.2813...  0.432277   \n",
       "..                                                ...       ...   \n",
       "0   [0.7556482446993396, 0.29543994861913936, 0.19...  0.427590   \n",
       "0   [0.7330571174903817, 0.3265602322206096, 0.263...  0.436472   \n",
       "0   [0.7883036935704515, 0.3992932862190813, 0.289...  0.532126   \n",
       "0   [0.7677089980855137, 0.380517503805175, 0.2940...  0.507015   \n",
       "0   [0.7640023337222871, 0.4174484052532833, 0.315...  0.513633   \n",
       "\n",
       "                                        recall_scores valid_loss  \\\n",
       "0   [0.6905725853094274, 0.3943894389438944, 0.523...       None   \n",
       "0   [0.6966454598033546, 0.466996699669967, 0.4290...       None   \n",
       "0      [0.7264314632735686, 0.4438943894389439, 0.38]       None   \n",
       "0      [0.7073452862926547, 0.3556105610561056, 0.28]       None   \n",
       "0   [0.7223828802776171, 0.3580858085808581, 0.216...       None   \n",
       "..                                                ...        ...   \n",
       "0   [0.6286871023713129, 0.3795379537953795, 0.274...       None   \n",
       "0   [0.71631000578369, 0.3712871287128713, 0.22181...       None   \n",
       "0   [0.6665702718334298, 0.4661716171617162, 0.463...       None   \n",
       "0   [0.6957779063042221, 0.41254125412541254, 0.41...       None   \n",
       "0   [0.7573742047426258, 0.36716171617161714, 0.41...       None   \n",
       "\n",
       "    valid_accuracy  ...  seed loss_function  gamma k_fold  n_splits  \\\n",
       "0         0.660405  ...     1         focal      2   True         5   \n",
       "0         0.661850  ...    12         focal      2   True         5   \n",
       "0         0.670039  ...   123         focal      2   True         5   \n",
       "0         0.677585  ...     1         focal      2   True         5   \n",
       "0         0.671805  ...    12         focal      2   True         5   \n",
       "..             ...  ...   ...           ...    ...    ...       ...   \n",
       "0         0.652216  ...    12         focal      2   True         5   \n",
       "0         0.665382  ...   123         focal      2   True         5   \n",
       "0         0.665864  ...     1         focal      2   True         5   \n",
       "0         0.678388  ...    12         focal      2   True         5   \n",
       "0         0.686416  ...   123         focal      2   True         5   \n",
       "\n",
       "   augmentation_type  hidden_dim_aug    comb_method  batch_size  model_id  \n",
       "0             Conv1d            None  concatenation          64         0  \n",
       "0             Conv1d            None  concatenation          64         0  \n",
       "0             Conv1d            None  concatenation          64         0  \n",
       "0             Conv1d            None  concatenation          64         1  \n",
       "0             Conv1d            None  concatenation          64         1  \n",
       "..               ...             ...            ...         ...       ...  \n",
       "0             Conv1d            None  concatenation          64        22  \n",
       "0             Conv1d            None  concatenation          64        22  \n",
       "0             Conv1d            None  concatenation          64        23  \n",
       "0             Conv1d            None  concatenation          64        23  \n",
       "0             Conv1d            None  concatenation          64        23  \n",
       "\n",
       "[72 rows x 48 columns]"
      ]
     },
     "execution_count": 80,
     "metadata": {},
     "output_type": "execute_result"
    }
   ],
   "source": [
    "seqsignet_network_umap_kfold_110"
   ]
  },
  {
   "cell_type": "code",
   "execution_count": 81,
   "id": "a840b608-2b98-4a5c-ae02-8d14c4b9684f",
   "metadata": {},
   "outputs": [
    {
     "data": {
      "text/plain": [
       "0.49081927717515156"
      ]
     },
     "execution_count": 81,
     "metadata": {},
     "output_type": "execute_result"
    }
   ],
   "source": [
    "best_seqsignet_network_umap_kfold_110[\"f1\"].mean()"
   ]
  },
  {
   "cell_type": "code",
   "execution_count": 82,
   "id": "3ca90171-5cac-47f1-9699-9510d9c927ce",
   "metadata": {},
   "outputs": [
    {
     "data": {
      "text/plain": [
       "0.48350598532179806"
      ]
     },
     "execution_count": 82,
     "metadata": {},
     "output_type": "execute_result"
    }
   ],
   "source": [
    "best_seqsignet_network_umap_kfold_110[\"precision\"].mean()"
   ]
  },
  {
   "cell_type": "code",
   "execution_count": 83,
   "id": "562c9aac-0404-4f9e-8a95-cf3d3df09776",
   "metadata": {},
   "outputs": [
    {
     "data": {
      "text/plain": [
       "0.5042405439695695"
      ]
     },
     "execution_count": 83,
     "metadata": {},
     "output_type": "execute_result"
    }
   ],
   "source": [
    "best_seqsignet_network_umap_kfold_110[\"recall\"].mean()"
   ]
  },
  {
   "cell_type": "code",
   "execution_count": 84,
   "id": "7b7a45f2-3ea9-488c-b14b-9f4c2cc4bcd4",
   "metadata": {},
   "outputs": [
    {
     "data": {
      "text/plain": [
       "array([0.74390267, 0.40526383, 0.32329133])"
      ]
     },
     "execution_count": 84,
     "metadata": {},
     "output_type": "execute_result"
    }
   ],
   "source": [
    "np.stack(best_seqsignet_network_umap_kfold_110[\"f1_scores\"]).mean(axis=0)"
   ]
  },
  {
   "cell_type": "code",
   "execution_count": 85,
   "id": "2ea44017-119a-4e69-a986-c4b48b129160",
   "metadata": {},
   "outputs": [
    {
     "data": {
      "text/plain": [
       "array([0.77683306, 0.39075906, 0.28292584])"
      ]
     },
     "execution_count": 85,
     "metadata": {},
     "output_type": "execute_result"
    }
   ],
   "source": [
    "np.stack(best_seqsignet_network_umap_kfold_110[\"precision_scores\"]).mean(axis=0)"
   ]
  },
  {
   "cell_type": "code",
   "execution_count": 86,
   "id": "4ec484fc-c41c-4bf9-af9a-647bb0ef8f68",
   "metadata": {},
   "outputs": [
    {
     "data": {
      "text/plain": [
       "array([0.71380374, 0.42134213, 0.37757576])"
      ]
     },
     "execution_count": 86,
     "metadata": {},
     "output_type": "execute_result"
    }
   ],
   "source": [
    "np.stack(best_seqsignet_network_umap_kfold_110[\"recall_scores\"]).mean(axis=0)"
   ]
  },
  {
   "cell_type": "markdown",
   "id": "68f2f91a-b5f2-419b-9858-73495116c613",
   "metadata": {},
   "source": [
    "## GRP"
   ]
  },
  {
   "cell_type": "code",
   "execution_count": 87,
   "id": "5af369ba-acdf-483c-85b7-cfaf7f49d6c8",
   "metadata": {},
   "outputs": [
    {
     "data": {
      "application/vnd.jupyter.widget-view+json": {
       "model_id": "a59b1df660094105b11d9bce96fa9b97",
       "version_major": 2,
       "version_minor": 0
      },
      "text/plain": [
       "  0%|          | 0/1 [00:00<?, ?it/s]"
      ]
     },
     "metadata": {},
     "output_type": "display_data"
    },
    {
     "data": {
      "application/vnd.jupyter.widget-view+json": {
       "model_id": "453cd914b64e4db08e167c459c189a55",
       "version_major": 2,
       "version_minor": 0
      },
      "text/plain": [
       "  0%|          | 0/1 [00:00<?, ?it/s]"
      ]
     },
     "metadata": {},
     "output_type": "display_data"
    },
    {
     "name": "stdout",
     "output_type": "stream",
     "text": [
      "\n",
      "##################################################\n",
      "dimension: 15 | method: gaussian_random_projection\n",
      "given shift 3, window size 5 and n 36: history length = 110\n",
      "[INFO] Concatenating the embeddings to the dataframe...\n",
      "[INFO] - columns beginning with 'e' denote the full embddings.\n",
      "[INFO] - columns beginning with 'd' denote the dimension reduced embeddings.\n",
      "[INFO] Adding time feature columns into dataframe in `.df`.\n",
      "[INFO] Adding 'time_encoding' feature...\n",
      "[INFO] Adding 'time_diff' feature...\n",
      "[INFO] Adding 'timeline_index' feature...\n",
      "[INFO] Padding ids and storing in `.df_padded` and `.array_padded` attributes.\n"
     ]
    },
    {
     "data": {
      "application/vnd.jupyter.widget-view+json": {
       "model_id": "c4aef58c4a7e42888d58c19a6bd32512",
       "version_major": 2,
       "version_minor": 0
      },
      "text/plain": [
       "  0%|          | 0/9699 [00:00<?, ?it/s]"
      ]
     },
     "metadata": {},
     "output_type": "display_data"
    },
    {
     "name": "stdout",
     "output_type": "stream",
     "text": [
      "[INFO] The path was created for each item in the dataframe, by looking at its history, so to include embeddings in the FFN input, we concatenate the embeddings for each sentence / text.\n"
     ]
    },
    {
     "data": {
      "application/vnd.jupyter.widget-view+json": {
       "model_id": "d8440b3f3d9047fcbd14d4eba31b007a",
       "version_major": 2,
       "version_minor": 0
      },
      "text/plain": [
       "  0%|          | 0/2 [00:00<?, ?it/s]"
      ]
     },
     "metadata": {},
     "output_type": "display_data"
    },
    {
     "data": {
      "application/vnd.jupyter.widget-view+json": {
       "model_id": "9e67bbc715124947b45a1860d414211b",
       "version_major": 2,
       "version_minor": 0
      },
      "text/plain": [
       "  0%|          | 0/1 [00:00<?, ?it/s]"
      ]
     },
     "metadata": {},
     "output_type": "display_data"
    },
    {
     "data": {
      "application/vnd.jupyter.widget-view+json": {
       "model_id": "9860c9ba4fe94643a3b7592d6fe599a3",
       "version_major": 2,
       "version_minor": 0
      },
      "text/plain": [
       "  0%|          | 0/1 [00:00<?, ?it/s]"
      ]
     },
     "metadata": {},
     "output_type": "display_data"
    },
    {
     "data": {
      "application/vnd.jupyter.widget-view+json": {
       "model_id": "3c9f5fdddb63427c8903bd03776e2708",
       "version_major": 2,
       "version_minor": 0
      },
      "text/plain": [
       "  0%|          | 0/2 [00:00<?, ?it/s]"
      ]
     },
     "metadata": {},
     "output_type": "display_data"
    },
    {
     "data": {
      "application/vnd.jupyter.widget-view+json": {
       "model_id": "1c28fb3cba7b4293987dcea4e1f3c2a1",
       "version_major": 2,
       "version_minor": 0
      },
      "text/plain": [
       "  0%|          | 0/2 [00:00<?, ?it/s]"
      ]
     },
     "metadata": {},
     "output_type": "display_data"
    },
    {
     "data": {
      "application/vnd.jupyter.widget-view+json": {
       "model_id": "e310f7cda67042b98c08d1f4c05bce2e",
       "version_major": 2,
       "version_minor": 0
      },
      "text/plain": [
       "  0%|          | 0/3 [00:00<?, ?it/s]"
      ]
     },
     "metadata": {},
     "output_type": "display_data"
    },
    {
     "data": {
      "application/vnd.jupyter.widget-view+json": {
       "model_id": "308bacdee5924ed1b983fe099a76e9a6",
       "version_major": 2,
       "version_minor": 0
      },
      "text/plain": [
       "  0%|          | 0/3 [00:00<?, ?it/s]"
      ]
     },
     "metadata": {},
     "output_type": "display_data"
    },
    {
     "data": {
      "application/vnd.jupyter.widget-view+json": {
       "model_id": "887b06079f934d3691d4a09051d0c241",
       "version_major": 2,
       "version_minor": 0
      },
      "text/plain": [
       "  0%|          | 0/2 [00:00<?, ?it/s]"
      ]
     },
     "metadata": {},
     "output_type": "display_data"
    },
    {
     "data": {
      "application/vnd.jupyter.widget-view+json": {
       "model_id": "889074319c194cb79130aa9d77bbe9eb",
       "version_major": 2,
       "version_minor": 0
      },
      "text/plain": [
       "  0%|          | 0/3 [00:00<?, ?it/s]"
      ]
     },
     "metadata": {},
     "output_type": "display_data"
    },
    {
     "data": {
      "application/vnd.jupyter.widget-view+json": {
       "model_id": "8d5a02d2fe7745dc8a3f26f5515edb0b",
       "version_major": 2,
       "version_minor": 0
      },
      "text/plain": [
       "  0%|          | 0/3 [00:00<?, ?it/s]"
      ]
     },
     "metadata": {},
     "output_type": "display_data"
    },
    {
     "data": {
      "application/vnd.jupyter.widget-view+json": {
       "model_id": "0f74963a2bcc47a5b7c0805f721d9645",
       "version_major": 2,
       "version_minor": 0
      },
      "text/plain": [
       "  0%|          | 0/1 [00:00<?, ?it/s]"
      ]
     },
     "metadata": {},
     "output_type": "display_data"
    },
    {
     "data": {
      "application/vnd.jupyter.widget-view+json": {
       "model_id": "f545208069f6491ab35f5fa02ee8f88b",
       "version_major": 2,
       "version_minor": 0
      },
      "text/plain": [
       "  0%|          | 0/1 [00:00<?, ?it/s]"
      ]
     },
     "metadata": {},
     "output_type": "display_data"
    },
    {
     "data": {
      "application/vnd.jupyter.widget-view+json": {
       "model_id": "e03ee809f6bb4837ab4e08878276b6e7",
       "version_major": 2,
       "version_minor": 0
      },
      "text/plain": [
       "  0%|          | 0/2 [00:00<?, ?it/s]"
      ]
     },
     "metadata": {},
     "output_type": "display_data"
    },
    {
     "data": {
      "application/vnd.jupyter.widget-view+json": {
       "model_id": "25960b03c5e543dba1988c4c53018311",
       "version_major": 2,
       "version_minor": 0
      },
      "text/plain": [
       "  0%|          | 0/2 [00:00<?, ?it/s]"
      ]
     },
     "metadata": {},
     "output_type": "display_data"
    },
    {
     "data": {
      "application/vnd.jupyter.widget-view+json": {
       "model_id": "e9d8242b895148769e7c5315fa2a1920",
       "version_major": 2,
       "version_minor": 0
      },
      "text/plain": [
       "  0%|          | 0/3 [00:00<?, ?it/s]"
      ]
     },
     "metadata": {},
     "output_type": "display_data"
    },
    {
     "data": {
      "application/vnd.jupyter.widget-view+json": {
       "model_id": "92d6a9756ed8458283f9845e59ae6d94",
       "version_major": 2,
       "version_minor": 0
      },
      "text/plain": [
       "  0%|          | 0/3 [00:00<?, ?it/s]"
      ]
     },
     "metadata": {},
     "output_type": "display_data"
    },
    {
     "data": {
      "application/vnd.jupyter.widget-view+json": {
       "model_id": "dc1bc3a8ca6f475ead389f175db250ba",
       "version_major": 2,
       "version_minor": 0
      },
      "text/plain": [
       "  0%|          | 0/2 [00:00<?, ?it/s]"
      ]
     },
     "metadata": {},
     "output_type": "display_data"
    },
    {
     "data": {
      "application/vnd.jupyter.widget-view+json": {
       "model_id": "784b62e53a834dcc9e8122ecc60cf94a",
       "version_major": 2,
       "version_minor": 0
      },
      "text/plain": [
       "  0%|          | 0/3 [00:00<?, ?it/s]"
      ]
     },
     "metadata": {},
     "output_type": "display_data"
    },
    {
     "data": {
      "application/vnd.jupyter.widget-view+json": {
       "model_id": "14b913e387af4124884a872a2a1305b6",
       "version_major": 2,
       "version_minor": 0
      },
      "text/plain": [
       "  0%|          | 0/3 [00:00<?, ?it/s]"
      ]
     },
     "metadata": {},
     "output_type": "display_data"
    },
    {
     "name": "stdout",
     "output_type": "stream",
     "text": [
      "given shift 3, window size 5 and n 36: history length = 110\n",
      "[INFO] Concatenating the embeddings to the dataframe...\n",
      "[INFO] - columns beginning with 'e' denote the full embddings.\n",
      "[INFO] - columns beginning with 'd' denote the dimension reduced embeddings.\n",
      "[INFO] Adding time feature columns into dataframe in `.df`.\n",
      "[INFO] Adding 'time_encoding' feature...\n",
      "[INFO] Adding 'time_diff' feature...\n",
      "[INFO] Adding 'timeline_index' feature...\n",
      "[INFO] Padding ids and storing in `.df_padded` and `.array_padded` attributes.\n"
     ]
    },
    {
     "data": {
      "application/vnd.jupyter.widget-view+json": {
       "model_id": "e9e022a91a1f4e0d8a65b0caf7f1be71",
       "version_major": 2,
       "version_minor": 0
      },
      "text/plain": [
       "  0%|          | 0/9699 [00:00<?, ?it/s]"
      ]
     },
     "metadata": {},
     "output_type": "display_data"
    },
    {
     "name": "stdout",
     "output_type": "stream",
     "text": [
      "[INFO] The path was created for each item in the dataframe, by looking at its history, so to include embeddings in the FFN input, we concatenate the embeddings for each sentence / text.\n",
      "saving results dataframe to CSV for this hyperparameter search in client_talk_type_output/seqsignet_grp_focal_2_3_5_36_kfold.csv\n",
      "saving the best model results dataframe to CSV for this hyperparameter search in client_talk_type_output/seqsignet_grp_focal_2_3_5_36_kfold_best_model.csv\n"
     ]
    }
   ],
   "source": [
    "(\n",
    "    seqsignet_network_grp_kfold_110,\n",
    "    best_seqsignet_network_grp_kfold_110,\n",
    "    _,\n",
    "    __,\n",
    ") = seqsignet_attention_bilstm_hyperparameter_search(\n",
    "    shift=shift,\n",
    "    window_size=window_size,\n",
    "    n=n,\n",
    "    dim_reduce_methods=[\"gaussian_random_projection\"],\n",
    "    results_output=f\"{output_dir}/seqsignet_attention_bilstm_grp_focal_{gamma}_{shift}_{window_size}_{n}_kfold.csv\",\n",
    "    **kwargs,\n",
    ")"
   ]
  },
  {
   "cell_type": "code",
   "execution_count": 88,
   "id": "d30459a8-72c6-4920-bdba-21813692c980",
   "metadata": {},
   "outputs": [
    {
     "data": {
      "text/html": [
       "<div>\n",
       "<style scoped>\n",
       "    .dataframe tbody tr th:only-of-type {\n",
       "        vertical-align: middle;\n",
       "    }\n",
       "\n",
       "    .dataframe tbody tr th {\n",
       "        vertical-align: top;\n",
       "    }\n",
       "\n",
       "    .dataframe thead th {\n",
       "        text-align: right;\n",
       "    }\n",
       "</style>\n",
       "<table border=\"1\" class=\"dataframe\">\n",
       "  <thead>\n",
       "    <tr style=\"text-align: right;\">\n",
       "      <th></th>\n",
       "      <th>loss</th>\n",
       "      <th>accuracy</th>\n",
       "      <th>f1</th>\n",
       "      <th>f1_scores</th>\n",
       "      <th>precision</th>\n",
       "      <th>precision_scores</th>\n",
       "      <th>recall</th>\n",
       "      <th>recall_scores</th>\n",
       "      <th>valid_loss</th>\n",
       "      <th>valid_accuracy</th>\n",
       "      <th>...</th>\n",
       "      <th>seed</th>\n",
       "      <th>loss_function</th>\n",
       "      <th>gamma</th>\n",
       "      <th>k_fold</th>\n",
       "      <th>n_splits</th>\n",
       "      <th>augmentation_type</th>\n",
       "      <th>hidden_dim_aug</th>\n",
       "      <th>comb_method</th>\n",
       "      <th>batch_size</th>\n",
       "      <th>model_id</th>\n",
       "    </tr>\n",
       "  </thead>\n",
       "  <tbody>\n",
       "    <tr>\n",
       "      <th>0</th>\n",
       "      <td>None</td>\n",
       "      <td>0.607471</td>\n",
       "      <td>0.488389</td>\n",
       "      <td>[0.740829825616356, 0.4006554690700532, 0.3236...</td>\n",
       "      <td>0.480952</td>\n",
       "      <td>[0.7714464621164684, 0.39788445890968266, 0.27...</td>\n",
       "      <td>0.504127</td>\n",
       "      <td>[0.7125506072874493, 0.4034653465346535, 0.396...</td>\n",
       "      <td>None</td>\n",
       "      <td>0.675658</td>\n",
       "      <td>...</td>\n",
       "      <td>1</td>\n",
       "      <td>focal</td>\n",
       "      <td>2</td>\n",
       "      <td>True</td>\n",
       "      <td>5</td>\n",
       "      <td>Conv1d</td>\n",
       "      <td>None</td>\n",
       "      <td>concatenation</td>\n",
       "      <td>64</td>\n",
       "      <td>0</td>\n",
       "    </tr>\n",
       "    <tr>\n",
       "      <th>0</th>\n",
       "      <td>None</td>\n",
       "      <td>0.636207</td>\n",
       "      <td>0.519660</td>\n",
       "      <td>[0.7644938419945929, 0.4437113402061856, 0.350...</td>\n",
       "      <td>0.511253</td>\n",
       "      <td>[0.7953125, 0.44352844187963725, 0.29491945477...</td>\n",
       "      <td>0.537532</td>\n",
       "      <td>[0.7359745517640255, 0.4438943894389439, 0.432...</td>\n",
       "      <td>None</td>\n",
       "      <td>0.669075</td>\n",
       "      <td>...</td>\n",
       "      <td>12</td>\n",
       "      <td>focal</td>\n",
       "      <td>2</td>\n",
       "      <td>True</td>\n",
       "      <td>5</td>\n",
       "      <td>Conv1d</td>\n",
       "      <td>None</td>\n",
       "      <td>concatenation</td>\n",
       "      <td>64</td>\n",
       "      <td>0</td>\n",
       "    </tr>\n",
       "    <tr>\n",
       "      <th>0</th>\n",
       "      <td>None</td>\n",
       "      <td>0.622797</td>\n",
       "      <td>0.504287</td>\n",
       "      <td>[0.7494774559570021, 0.42637540453074435, 0.33...</td>\n",
       "      <td>0.496723</td>\n",
       "      <td>[0.7746913580246914, 0.41825396825396827, 0.29...</td>\n",
       "      <td>0.516587</td>\n",
       "      <td>[0.7258530942741469, 0.43481848184818483, 0.38...</td>\n",
       "      <td>None</td>\n",
       "      <td>0.673732</td>\n",
       "      <td>...</td>\n",
       "      <td>123</td>\n",
       "      <td>focal</td>\n",
       "      <td>2</td>\n",
       "      <td>True</td>\n",
       "      <td>5</td>\n",
       "      <td>Conv1d</td>\n",
       "      <td>None</td>\n",
       "      <td>concatenation</td>\n",
       "      <td>64</td>\n",
       "      <td>0</td>\n",
       "    </tr>\n",
       "    <tr>\n",
       "      <th>0</th>\n",
       "      <td>None</td>\n",
       "      <td>0.590038</td>\n",
       "      <td>0.459997</td>\n",
       "      <td>[0.7294787297783103, 0.37402190923317685, 0.27...</td>\n",
       "      <td>0.455378</td>\n",
       "      <td>[0.7566811684275948, 0.3556547619047619, 0.253...</td>\n",
       "      <td>0.467397</td>\n",
       "      <td>[0.7041642567958357, 0.3943894389438944, 0.303...</td>\n",
       "      <td>None</td>\n",
       "      <td>0.693160</td>\n",
       "      <td>...</td>\n",
       "      <td>1</td>\n",
       "      <td>focal</td>\n",
       "      <td>2</td>\n",
       "      <td>True</td>\n",
       "      <td>5</td>\n",
       "      <td>Conv1d</td>\n",
       "      <td>None</td>\n",
       "      <td>concatenation</td>\n",
       "      <td>64</td>\n",
       "      <td>1</td>\n",
       "    </tr>\n",
       "    <tr>\n",
       "      <th>0</th>\n",
       "      <td>None</td>\n",
       "      <td>0.604789</td>\n",
       "      <td>0.463068</td>\n",
       "      <td>[0.7422801112249378, 0.3736780258519389, 0.273...</td>\n",
       "      <td>0.464275</td>\n",
       "      <td>[0.7514074074074074, 0.35570469798657717, 0.28...</td>\n",
       "      <td>0.462918</td>\n",
       "      <td>[0.7333718912666282, 0.3935643564356436, 0.261...</td>\n",
       "      <td>None</td>\n",
       "      <td>0.683365</td>\n",
       "      <td>...</td>\n",
       "      <td>12</td>\n",
       "      <td>focal</td>\n",
       "      <td>2</td>\n",
       "      <td>True</td>\n",
       "      <td>5</td>\n",
       "      <td>Conv1d</td>\n",
       "      <td>None</td>\n",
       "      <td>concatenation</td>\n",
       "      <td>64</td>\n",
       "      <td>1</td>\n",
       "    </tr>\n",
       "    <tr>\n",
       "      <th>...</th>\n",
       "      <td>...</td>\n",
       "      <td>...</td>\n",
       "      <td>...</td>\n",
       "      <td>...</td>\n",
       "      <td>...</td>\n",
       "      <td>...</td>\n",
       "      <td>...</td>\n",
       "      <td>...</td>\n",
       "      <td>...</td>\n",
       "      <td>...</td>\n",
       "      <td>...</td>\n",
       "      <td>...</td>\n",
       "      <td>...</td>\n",
       "      <td>...</td>\n",
       "      <td>...</td>\n",
       "      <td>...</td>\n",
       "      <td>...</td>\n",
       "      <td>...</td>\n",
       "      <td>...</td>\n",
       "      <td>...</td>\n",
       "      <td>...</td>\n",
       "    </tr>\n",
       "    <tr>\n",
       "      <th>0</th>\n",
       "      <td>None</td>\n",
       "      <td>0.603448</td>\n",
       "      <td>0.477844</td>\n",
       "      <td>[0.7385954381752701, 0.39625585023400933, 0.29...</td>\n",
       "      <td>0.472259</td>\n",
       "      <td>[0.7676232064878353, 0.3757396449704142, 0.273...</td>\n",
       "      <td>0.486639</td>\n",
       "      <td>[0.711683053788317, 0.41914191419141916, 0.329...</td>\n",
       "      <td>None</td>\n",
       "      <td>0.691875</td>\n",
       "      <td>...</td>\n",
       "      <td>12</td>\n",
       "      <td>focal</td>\n",
       "      <td>2</td>\n",
       "      <td>True</td>\n",
       "      <td>5</td>\n",
       "      <td>Conv1d</td>\n",
       "      <td>None</td>\n",
       "      <td>concatenation</td>\n",
       "      <td>64</td>\n",
       "      <td>22</td>\n",
       "    </tr>\n",
       "    <tr>\n",
       "      <th>0</th>\n",
       "      <td>None</td>\n",
       "      <td>0.568965</td>\n",
       "      <td>0.459021</td>\n",
       "      <td>[0.7009375, 0.38762886597938145, 0.28849557522...</td>\n",
       "      <td>0.458532</td>\n",
       "      <td>[0.7624065261726717, 0.3321554770318021, 0.281...</td>\n",
       "      <td>0.470117</td>\n",
       "      <td>[0.6486408328513592, 0.46534653465346537, 0.29...</td>\n",
       "      <td>None</td>\n",
       "      <td>0.689788</td>\n",
       "      <td>...</td>\n",
       "      <td>123</td>\n",
       "      <td>focal</td>\n",
       "      <td>2</td>\n",
       "      <td>True</td>\n",
       "      <td>5</td>\n",
       "      <td>Conv1d</td>\n",
       "      <td>None</td>\n",
       "      <td>concatenation</td>\n",
       "      <td>64</td>\n",
       "      <td>22</td>\n",
       "    </tr>\n",
       "    <tr>\n",
       "      <th>0</th>\n",
       "      <td>None</td>\n",
       "      <td>0.602682</td>\n",
       "      <td>0.495795</td>\n",
       "      <td>[0.7282192619813199, 0.4260731319554849, 0.333...</td>\n",
       "      <td>0.486696</td>\n",
       "      <td>[0.7738366417181907, 0.4110429447852761, 0.275...</td>\n",
       "      <td>0.517248</td>\n",
       "      <td>[0.6876807403123193, 0.44224422442244227, 0.42...</td>\n",
       "      <td>None</td>\n",
       "      <td>0.681920</td>\n",
       "      <td>...</td>\n",
       "      <td>1</td>\n",
       "      <td>focal</td>\n",
       "      <td>2</td>\n",
       "      <td>True</td>\n",
       "      <td>5</td>\n",
       "      <td>Conv1d</td>\n",
       "      <td>None</td>\n",
       "      <td>concatenation</td>\n",
       "      <td>64</td>\n",
       "      <td>23</td>\n",
       "    </tr>\n",
       "    <tr>\n",
       "      <th>0</th>\n",
       "      <td>None</td>\n",
       "      <td>0.613027</td>\n",
       "      <td>0.502581</td>\n",
       "      <td>[0.7385751654100631, 0.44402985074626866, 0.32...</td>\n",
       "      <td>0.494285</td>\n",
       "      <td>[0.7892140743176587, 0.4053133514986376, 0.288...</td>\n",
       "      <td>0.519231</td>\n",
       "      <td>[0.6940427993059572, 0.4909240924092409, 0.372...</td>\n",
       "      <td>None</td>\n",
       "      <td>0.677264</td>\n",
       "      <td>...</td>\n",
       "      <td>12</td>\n",
       "      <td>focal</td>\n",
       "      <td>2</td>\n",
       "      <td>True</td>\n",
       "      <td>5</td>\n",
       "      <td>Conv1d</td>\n",
       "      <td>None</td>\n",
       "      <td>concatenation</td>\n",
       "      <td>64</td>\n",
       "      <td>23</td>\n",
       "    </tr>\n",
       "    <tr>\n",
       "      <th>0</th>\n",
       "      <td>None</td>\n",
       "      <td>0.620881</td>\n",
       "      <td>0.512262</td>\n",
       "      <td>[0.7462277091906722, 0.4390243902439024, 0.351...</td>\n",
       "      <td>0.502355</td>\n",
       "      <td>[0.7889139542378344, 0.4195488721804511, 0.298...</td>\n",
       "      <td>0.531864</td>\n",
       "      <td>[0.7079236552920763, 0.4603960396039604, 0.427...</td>\n",
       "      <td>None</td>\n",
       "      <td>0.672608</td>\n",
       "      <td>...</td>\n",
       "      <td>123</td>\n",
       "      <td>focal</td>\n",
       "      <td>2</td>\n",
       "      <td>True</td>\n",
       "      <td>5</td>\n",
       "      <td>Conv1d</td>\n",
       "      <td>None</td>\n",
       "      <td>concatenation</td>\n",
       "      <td>64</td>\n",
       "      <td>23</td>\n",
       "    </tr>\n",
       "  </tbody>\n",
       "</table>\n",
       "<p>72 rows × 48 columns</p>\n",
       "</div>"
      ],
      "text/plain": [
       "    loss  accuracy        f1  \\\n",
       "0   None  0.607471  0.488389   \n",
       "0   None  0.636207  0.519660   \n",
       "0   None  0.622797  0.504287   \n",
       "0   None  0.590038  0.459997   \n",
       "0   None  0.604789  0.463068   \n",
       "..   ...       ...       ...   \n",
       "0   None  0.603448  0.477844   \n",
       "0   None  0.568965  0.459021   \n",
       "0   None  0.602682  0.495795   \n",
       "0   None  0.613027  0.502581   \n",
       "0   None  0.620881  0.512262   \n",
       "\n",
       "                                            f1_scores  precision  \\\n",
       "0   [0.740829825616356, 0.4006554690700532, 0.3236...   0.480952   \n",
       "0   [0.7644938419945929, 0.4437113402061856, 0.350...   0.511253   \n",
       "0   [0.7494774559570021, 0.42637540453074435, 0.33...   0.496723   \n",
       "0   [0.7294787297783103, 0.37402190923317685, 0.27...   0.455378   \n",
       "0   [0.7422801112249378, 0.3736780258519389, 0.273...   0.464275   \n",
       "..                                                ...        ...   \n",
       "0   [0.7385954381752701, 0.39625585023400933, 0.29...   0.472259   \n",
       "0   [0.7009375, 0.38762886597938145, 0.28849557522...   0.458532   \n",
       "0   [0.7282192619813199, 0.4260731319554849, 0.333...   0.486696   \n",
       "0   [0.7385751654100631, 0.44402985074626866, 0.32...   0.494285   \n",
       "0   [0.7462277091906722, 0.4390243902439024, 0.351...   0.502355   \n",
       "\n",
       "                                     precision_scores    recall  \\\n",
       "0   [0.7714464621164684, 0.39788445890968266, 0.27...  0.504127   \n",
       "0   [0.7953125, 0.44352844187963725, 0.29491945477...  0.537532   \n",
       "0   [0.7746913580246914, 0.41825396825396827, 0.29...  0.516587   \n",
       "0   [0.7566811684275948, 0.3556547619047619, 0.253...  0.467397   \n",
       "0   [0.7514074074074074, 0.35570469798657717, 0.28...  0.462918   \n",
       "..                                                ...       ...   \n",
       "0   [0.7676232064878353, 0.3757396449704142, 0.273...  0.486639   \n",
       "0   [0.7624065261726717, 0.3321554770318021, 0.281...  0.470117   \n",
       "0   [0.7738366417181907, 0.4110429447852761, 0.275...  0.517248   \n",
       "0   [0.7892140743176587, 0.4053133514986376, 0.288...  0.519231   \n",
       "0   [0.7889139542378344, 0.4195488721804511, 0.298...  0.531864   \n",
       "\n",
       "                                        recall_scores valid_loss  \\\n",
       "0   [0.7125506072874493, 0.4034653465346535, 0.396...       None   \n",
       "0   [0.7359745517640255, 0.4438943894389439, 0.432...       None   \n",
       "0   [0.7258530942741469, 0.43481848184818483, 0.38...       None   \n",
       "0   [0.7041642567958357, 0.3943894389438944, 0.303...       None   \n",
       "0   [0.7333718912666282, 0.3935643564356436, 0.261...       None   \n",
       "..                                                ...        ...   \n",
       "0   [0.711683053788317, 0.41914191419141916, 0.329...       None   \n",
       "0   [0.6486408328513592, 0.46534653465346537, 0.29...       None   \n",
       "0   [0.6876807403123193, 0.44224422442244227, 0.42...       None   \n",
       "0   [0.6940427993059572, 0.4909240924092409, 0.372...       None   \n",
       "0   [0.7079236552920763, 0.4603960396039604, 0.427...       None   \n",
       "\n",
       "    valid_accuracy  ...  seed loss_function  gamma k_fold  n_splits  \\\n",
       "0         0.675658  ...     1         focal      2   True         5   \n",
       "0         0.669075  ...    12         focal      2   True         5   \n",
       "0         0.673732  ...   123         focal      2   True         5   \n",
       "0         0.693160  ...     1         focal      2   True         5   \n",
       "0         0.683365  ...    12         focal      2   True         5   \n",
       "..             ...  ...   ...           ...    ...    ...       ...   \n",
       "0         0.691875  ...    12         focal      2   True         5   \n",
       "0         0.689788  ...   123         focal      2   True         5   \n",
       "0         0.681920  ...     1         focal      2   True         5   \n",
       "0         0.677264  ...    12         focal      2   True         5   \n",
       "0         0.672608  ...   123         focal      2   True         5   \n",
       "\n",
       "   augmentation_type  hidden_dim_aug    comb_method  batch_size  model_id  \n",
       "0             Conv1d            None  concatenation          64         0  \n",
       "0             Conv1d            None  concatenation          64         0  \n",
       "0             Conv1d            None  concatenation          64         0  \n",
       "0             Conv1d            None  concatenation          64         1  \n",
       "0             Conv1d            None  concatenation          64         1  \n",
       "..               ...             ...            ...         ...       ...  \n",
       "0             Conv1d            None  concatenation          64        22  \n",
       "0             Conv1d            None  concatenation          64        22  \n",
       "0             Conv1d            None  concatenation          64        23  \n",
       "0             Conv1d            None  concatenation          64        23  \n",
       "0             Conv1d            None  concatenation          64        23  \n",
       "\n",
       "[72 rows x 48 columns]"
      ]
     },
     "execution_count": 88,
     "metadata": {},
     "output_type": "execute_result"
    }
   ],
   "source": [
    "seqsignet_network_grp_kfold_110"
   ]
  },
  {
   "cell_type": "code",
   "execution_count": 89,
   "id": "23639eef-74d3-497b-8cdb-fda370f1e3ee",
   "metadata": {},
   "outputs": [
    {
     "data": {
      "text/plain": [
       "0.4853650377820397"
      ]
     },
     "execution_count": 89,
     "metadata": {},
     "output_type": "execute_result"
    }
   ],
   "source": [
    "best_seqsignet_network_grp_kfold_110[\"f1\"].mean()"
   ]
  },
  {
   "cell_type": "code",
   "execution_count": 90,
   "id": "00e2b934-acb2-4667-a90a-744d3926faba",
   "metadata": {},
   "outputs": [
    {
     "data": {
      "text/plain": [
       "0.482020830253151"
      ]
     },
     "execution_count": 90,
     "metadata": {},
     "output_type": "execute_result"
    }
   ],
   "source": [
    "best_seqsignet_network_grp_kfold_110[\"precision\"].mean()"
   ]
  },
  {
   "cell_type": "code",
   "execution_count": 91,
   "id": "222ad090-3776-4d06-9b33-b094b7ad1aae",
   "metadata": {},
   "outputs": [
    {
     "data": {
      "text/plain": [
       "0.4912060974749875"
      ]
     },
     "execution_count": 91,
     "metadata": {},
     "output_type": "execute_result"
    }
   ],
   "source": [
    "best_seqsignet_network_grp_kfold_110[\"recall\"].mean()"
   ]
  },
  {
   "cell_type": "code",
   "execution_count": 92,
   "id": "c9816f4e-9f8f-45f1-857e-414794aba8b5",
   "metadata": {},
   "outputs": [
    {
     "data": {
      "text/plain": [
       "array([0.74312434, 0.41178784, 0.30118293])"
      ]
     },
     "execution_count": 92,
     "metadata": {},
     "output_type": "execute_result"
    }
   ],
   "source": [
    "np.stack(best_seqsignet_network_grp_kfold_110[\"f1_scores\"]).mean(axis=0)"
   ]
  },
  {
   "cell_type": "code",
   "execution_count": 93,
   "id": "cebb0e47-e3df-4d39-82e2-86952711b19d",
   "metadata": {},
   "outputs": [
    {
     "data": {
      "text/plain": [
       "array([0.76869562, 0.38353809, 0.29382878])"
      ]
     },
     "execution_count": 93,
     "metadata": {},
     "output_type": "execute_result"
    }
   ],
   "source": [
    "np.stack(best_seqsignet_network_grp_kfold_110[\"precision_scores\"]).mean(axis=0)"
   ]
  },
  {
   "cell_type": "code",
   "execution_count": 94,
   "id": "61ed5e83-647d-4b51-86f1-850de4661d57",
   "metadata": {},
   "outputs": [
    {
     "data": {
      "text/plain": [
       "array([0.71920185, 0.44471947, 0.30969697])"
      ]
     },
     "execution_count": 94,
     "metadata": {},
     "output_type": "execute_result"
    }
   ],
   "source": [
    "np.stack(best_seqsignet_network_grp_kfold_110[\"recall_scores\"]).mean(axis=0)"
   ]
  }
 ],
 "metadata": {
  "kernelspec": {
   "display_name": "nlpsig-networks (Conda)",
   "language": "python",
   "name": "sys_nlpsig-networks"
  },
  "language_info": {
   "codemirror_mode": {
    "name": "ipython",
    "version": 3
   },
   "file_extension": ".py",
   "mimetype": "text/x-python",
   "name": "python",
   "nbconvert_exporter": "python",
   "pygments_lexer": "ipython3",
   "version": "3.8.17"
  }
 },
 "nbformat": 4,
 "nbformat_minor": 5
}
