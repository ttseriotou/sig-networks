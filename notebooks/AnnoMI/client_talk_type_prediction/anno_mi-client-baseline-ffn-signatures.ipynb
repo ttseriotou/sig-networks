{
 "cells": [
  {
   "cell_type": "code",
   "execution_count": 1,
   "id": "a983a5e8",
   "metadata": {},
   "outputs": [],
   "source": [
    "import numpy as np\n",
    "import pickle\n",
    "import os\n",
    "\n",
    "seed = 2023"
   ]
  },
  {
   "cell_type": "code",
   "execution_count": 2,
   "id": "e4e666cc",
   "metadata": {},
   "outputs": [],
   "source": [
    "from nlpsig_networks.scripts.ffn_baseline_functions import (\n",
    "    histories_baseline_hyperparameter_search,\n",
    ")"
   ]
  },
  {
   "cell_type": "code",
   "execution_count": 3,
   "id": "6e918dde",
   "metadata": {},
   "outputs": [],
   "source": [
    "output_dir = \"client_talk_type_output\"\n",
    "if not os.path.isdir(output_dir):\n",
    "    os.makedirs(output_dir)"
   ]
  },
  {
   "cell_type": "markdown",
   "id": "f7409a03",
   "metadata": {},
   "source": [
    "## AnnoMI"
   ]
  },
  {
   "cell_type": "code",
   "execution_count": 4,
   "id": "f00bb922",
   "metadata": {},
   "outputs": [],
   "source": [
    "%run ../load_anno_mi.py"
   ]
  },
  {
   "cell_type": "code",
   "execution_count": 5,
   "id": "720d820f",
   "metadata": {},
   "outputs": [
    {
     "data": {
      "text/html": [
       "<div>\n",
       "<style scoped>\n",
       "    .dataframe tbody tr th:only-of-type {\n",
       "        vertical-align: middle;\n",
       "    }\n",
       "\n",
       "    .dataframe tbody tr th {\n",
       "        vertical-align: top;\n",
       "    }\n",
       "\n",
       "    .dataframe thead th {\n",
       "        text-align: right;\n",
       "    }\n",
       "</style>\n",
       "<table border=\"1\" class=\"dataframe\">\n",
       "  <thead>\n",
       "    <tr style=\"text-align: right;\">\n",
       "      <th></th>\n",
       "      <th>mi_quality</th>\n",
       "      <th>transcript_id</th>\n",
       "      <th>topic</th>\n",
       "      <th>utterance_id</th>\n",
       "      <th>interlocutor</th>\n",
       "      <th>timestamp</th>\n",
       "      <th>utterance_text</th>\n",
       "      <th>annotator_id</th>\n",
       "      <th>therapist_input_exists</th>\n",
       "      <th>therapist_input_subtype</th>\n",
       "      <th>reflection_exists</th>\n",
       "      <th>reflection_subtype</th>\n",
       "      <th>question_exists</th>\n",
       "      <th>question_subtype</th>\n",
       "      <th>main_therapist_behaviour</th>\n",
       "      <th>client_talk_type</th>\n",
       "      <th>datetime</th>\n",
       "    </tr>\n",
       "  </thead>\n",
       "  <tbody>\n",
       "    <tr>\n",
       "      <th>0</th>\n",
       "      <td>high</td>\n",
       "      <td>0</td>\n",
       "      <td>reducing alcohol consumption</td>\n",
       "      <td>0</td>\n",
       "      <td>therapist</td>\n",
       "      <td>00:00:13</td>\n",
       "      <td>Thanks for filling it out. We give this form t...</td>\n",
       "      <td>3</td>\n",
       "      <td>False</td>\n",
       "      <td>NaN</td>\n",
       "      <td>False</td>\n",
       "      <td>NaN</td>\n",
       "      <td>True</td>\n",
       "      <td>open</td>\n",
       "      <td>question</td>\n",
       "      <td>NaN</td>\n",
       "      <td>2023-08-18 00:00:13</td>\n",
       "    </tr>\n",
       "    <tr>\n",
       "      <th>1</th>\n",
       "      <td>high</td>\n",
       "      <td>0</td>\n",
       "      <td>reducing alcohol consumption</td>\n",
       "      <td>1</td>\n",
       "      <td>client</td>\n",
       "      <td>00:00:24</td>\n",
       "      <td>Sure.</td>\n",
       "      <td>3</td>\n",
       "      <td>NaN</td>\n",
       "      <td>NaN</td>\n",
       "      <td>NaN</td>\n",
       "      <td>NaN</td>\n",
       "      <td>NaN</td>\n",
       "      <td>NaN</td>\n",
       "      <td>NaN</td>\n",
       "      <td>neutral</td>\n",
       "      <td>2023-08-18 00:00:24</td>\n",
       "    </tr>\n",
       "    <tr>\n",
       "      <th>2</th>\n",
       "      <td>high</td>\n",
       "      <td>0</td>\n",
       "      <td>reducing alcohol consumption</td>\n",
       "      <td>2</td>\n",
       "      <td>therapist</td>\n",
       "      <td>00:00:25</td>\n",
       "      <td>So, let's see. It looks that you put-- You dri...</td>\n",
       "      <td>3</td>\n",
       "      <td>True</td>\n",
       "      <td>information</td>\n",
       "      <td>False</td>\n",
       "      <td>NaN</td>\n",
       "      <td>False</td>\n",
       "      <td>NaN</td>\n",
       "      <td>therapist_input</td>\n",
       "      <td>NaN</td>\n",
       "      <td>2023-08-18 00:00:25</td>\n",
       "    </tr>\n",
       "    <tr>\n",
       "      <th>3</th>\n",
       "      <td>high</td>\n",
       "      <td>0</td>\n",
       "      <td>reducing alcohol consumption</td>\n",
       "      <td>3</td>\n",
       "      <td>client</td>\n",
       "      <td>00:00:34</td>\n",
       "      <td>Mm-hmm.</td>\n",
       "      <td>3</td>\n",
       "      <td>NaN</td>\n",
       "      <td>NaN</td>\n",
       "      <td>NaN</td>\n",
       "      <td>NaN</td>\n",
       "      <td>NaN</td>\n",
       "      <td>NaN</td>\n",
       "      <td>NaN</td>\n",
       "      <td>neutral</td>\n",
       "      <td>2023-08-18 00:00:34</td>\n",
       "    </tr>\n",
       "    <tr>\n",
       "      <th>4</th>\n",
       "      <td>high</td>\n",
       "      <td>0</td>\n",
       "      <td>reducing alcohol consumption</td>\n",
       "      <td>4</td>\n",
       "      <td>therapist</td>\n",
       "      <td>00:00:34</td>\n",
       "      <td>-and you usually have three to four drinks whe...</td>\n",
       "      <td>3</td>\n",
       "      <td>True</td>\n",
       "      <td>information</td>\n",
       "      <td>False</td>\n",
       "      <td>NaN</td>\n",
       "      <td>False</td>\n",
       "      <td>NaN</td>\n",
       "      <td>therapist_input</td>\n",
       "      <td>NaN</td>\n",
       "      <td>2023-08-18 00:00:34</td>\n",
       "    </tr>\n",
       "  </tbody>\n",
       "</table>\n",
       "</div>"
      ],
      "text/plain": [
       "  mi_quality  transcript_id                         topic  utterance_id  \\\n",
       "0       high              0  reducing alcohol consumption             0   \n",
       "1       high              0  reducing alcohol consumption             1   \n",
       "2       high              0  reducing alcohol consumption             2   \n",
       "3       high              0  reducing alcohol consumption             3   \n",
       "4       high              0  reducing alcohol consumption             4   \n",
       "\n",
       "  interlocutor timestamp                                     utterance_text  \\\n",
       "0    therapist  00:00:13  Thanks for filling it out. We give this form t...   \n",
       "1       client  00:00:24                                              Sure.   \n",
       "2    therapist  00:00:25  So, let's see. It looks that you put-- You dri...   \n",
       "3       client  00:00:34                                            Mm-hmm.   \n",
       "4    therapist  00:00:34  -and you usually have three to four drinks whe...   \n",
       "\n",
       "   annotator_id therapist_input_exists therapist_input_subtype  \\\n",
       "0             3                  False                     NaN   \n",
       "1             3                    NaN                     NaN   \n",
       "2             3                   True             information   \n",
       "3             3                    NaN                     NaN   \n",
       "4             3                   True             information   \n",
       "\n",
       "  reflection_exists reflection_subtype question_exists question_subtype  \\\n",
       "0             False                NaN            True             open   \n",
       "1               NaN                NaN             NaN              NaN   \n",
       "2             False                NaN           False              NaN   \n",
       "3               NaN                NaN             NaN              NaN   \n",
       "4             False                NaN           False              NaN   \n",
       "\n",
       "  main_therapist_behaviour client_talk_type            datetime  \n",
       "0                 question              NaN 2023-08-18 00:00:13  \n",
       "1                      NaN          neutral 2023-08-18 00:00:24  \n",
       "2          therapist_input              NaN 2023-08-18 00:00:25  \n",
       "3                      NaN          neutral 2023-08-18 00:00:34  \n",
       "4          therapist_input              NaN 2023-08-18 00:00:34  "
      ]
     },
     "execution_count": 5,
     "metadata": {},
     "output_type": "execute_result"
    }
   ],
   "source": [
    "anno_mi.head()"
   ]
  },
  {
   "cell_type": "code",
   "execution_count": 6,
   "id": "84d5594d",
   "metadata": {},
   "outputs": [
    {
     "data": {
      "text/plain": [
       "(9699, 384)"
      ]
     },
     "execution_count": 6,
     "metadata": {},
     "output_type": "execute_result"
    }
   ],
   "source": [
    "with open(\"../anno_mi_sbert.pkl\", \"rb\") as f:\n",
    "    sbert_embeddings = pickle.load(f)\n",
    "\n",
    "sbert_embeddings.shape"
   ]
  },
  {
   "cell_type": "markdown",
   "id": "0cf51402",
   "metadata": {},
   "source": [
    "# Baseline: FFN using signatures\n",
    "\n",
    "First, we dimension reduce these and then take signatures. We use the path signature as input to the FFN for classification.\n",
    "\n",
    "We want to choose a dimension and signature depth such that the number of terms in the signature is _roughly_ 384 so that it is comparable to the number of features that we used for the previous baseline where we computed the mean of the history. Again, we are concatenating the features we obtain with the current utterance embedding."
   ]
  },
  {
   "cell_type": "code",
   "execution_count": 7,
   "id": "f691b640",
   "metadata": {},
   "outputs": [],
   "source": [
    "num_epochs = 100\n",
    "hidden_dim_sizes = [[64, 64], [128, 128], [256, 256], [512, 512]]\n",
    "dropout_rates = [0.5, 0.1]\n",
    "learning_rates = [1e-3, 1e-4, 5e-4]\n",
    "seeds = [1, 12, 123]\n",
    "loss = \"focal\"\n",
    "gamma = 2\n",
    "validation_metric = \"f1\"\n",
    "patience = 5"
   ]
  },
  {
   "cell_type": "markdown",
   "id": "871fe909",
   "metadata": {},
   "source": [
    "## Using log signature"
   ]
  },
  {
   "cell_type": "code",
   "execution_count": 8,
   "id": "08de59af",
   "metadata": {},
   "outputs": [],
   "source": [
    "log_signature_dimensions_and_sig_depths = [(28, 2), (10, 3), (6, 4)]"
   ]
  },
  {
   "cell_type": "code",
   "execution_count": 9,
   "id": "b5480b5f",
   "metadata": {},
   "outputs": [
    {
     "data": {
      "text/plain": [
       "[406, 385, 406]"
      ]
     },
     "execution_count": 9,
     "metadata": {},
     "output_type": "execute_result"
    }
   ],
   "source": [
    "import signatory\n",
    "\n",
    "[\n",
    "    signatory.logsignature_channels(channels, depth)\n",
    "    for (channels, depth) in log_signature_dimensions_and_sig_depths\n",
    "]"
   ]
  },
  {
   "cell_type": "markdown",
   "id": "9ae2ba07",
   "metadata": {},
   "source": [
    "### Using UMAP"
   ]
  },
  {
   "cell_type": "code",
   "execution_count": 10,
   "id": "b9cd8cf0",
   "metadata": {},
   "outputs": [
    {
     "data": {
      "application/vnd.jupyter.widget-view+json": {
       "model_id": "3d289163289545fa8280e63b390641dc",
       "version_major": 2,
       "version_minor": 0
      },
      "text/plain": [
       "  0%|          | 0/3 [00:00<?, ?it/s]"
      ]
     },
     "metadata": {},
     "output_type": "display_data"
    },
    {
     "data": {
      "application/vnd.jupyter.widget-view+json": {
       "model_id": "530a9744b9ad465d9cd429bd59c984bf",
       "version_major": 2,
       "version_minor": 0
      },
      "text/plain": [
       "  0%|          | 0/1 [00:00<?, ?it/s]"
      ]
     },
     "metadata": {},
     "output_type": "display_data"
    },
    {
     "name": "stdout",
     "output_type": "stream",
     "text": [
      "[INFO] Concatenating the embeddings to the dataframe...\n",
      "[INFO] - columns beginning with 'e' denote the full embddings.\n",
      "[INFO] - columns beginning with 'd' denote the dimension reduced embeddings.\n",
      "[INFO] Adding time feature columns into dataframe in `.df`.\n",
      "[INFO] Adding 'time_encoding' feature...\n",
      "[INFO] Adding 'time_diff' feature...\n",
      "[INFO] Adding 'timeline_index' feature...\n",
      "[INFO] Padding ids and storing in `.df_padded` and `.array_padded` attributes.\n"
     ]
    },
    {
     "data": {
      "application/vnd.jupyter.widget-view+json": {
       "model_id": "371cbf5d0221431abcd61c8bb636c3b4",
       "version_major": 2,
       "version_minor": 0
      },
      "text/plain": [
       "  0%|          | 0/9699 [00:00<?, ?it/s]"
      ]
     },
     "metadata": {},
     "output_type": "display_data"
    },
    {
     "data": {
      "application/vnd.jupyter.widget-view+json": {
       "model_id": "1db47d2b98814b17ac51f192cf034cac",
       "version_major": 2,
       "version_minor": 0
      },
      "text/plain": [
       "  0%|          | 0/4 [00:00<?, ?it/s]"
      ]
     },
     "metadata": {},
     "output_type": "display_data"
    },
    {
     "data": {
      "application/vnd.jupyter.widget-view+json": {
       "model_id": "b17f6ae07b604a16858f3b43e637a307",
       "version_major": 2,
       "version_minor": 0
      },
      "text/plain": [
       "  0%|          | 0/2 [00:00<?, ?it/s]"
      ]
     },
     "metadata": {},
     "output_type": "display_data"
    },
    {
     "data": {
      "application/vnd.jupyter.widget-view+json": {
       "model_id": "a332b57aa6e44c6794642178a4dd1e31",
       "version_major": 2,
       "version_minor": 0
      },
      "text/plain": [
       "  0%|          | 0/3 [00:00<?, ?it/s]"
      ]
     },
     "metadata": {},
     "output_type": "display_data"
    },
    {
     "data": {
      "application/vnd.jupyter.widget-view+json": {
       "model_id": "0ea730bedac2478cbe954f46c3c4c25d",
       "version_major": 2,
       "version_minor": 0
      },
      "text/plain": [
       "  0%|          | 0/3 [00:00<?, ?it/s]"
      ]
     },
     "metadata": {},
     "output_type": "display_data"
    },
    {
     "data": {
      "application/vnd.jupyter.widget-view+json": {
       "model_id": "d1184454a2484e14ae4dc2d062685292",
       "version_major": 2,
       "version_minor": 0
      },
      "text/plain": [
       "  0%|          | 0/2 [00:00<?, ?it/s]"
      ]
     },
     "metadata": {},
     "output_type": "display_data"
    },
    {
     "data": {
      "application/vnd.jupyter.widget-view+json": {
       "model_id": "eea3bf7e82ac4d3a983afb6a0bab68a4",
       "version_major": 2,
       "version_minor": 0
      },
      "text/plain": [
       "  0%|          | 0/3 [00:00<?, ?it/s]"
      ]
     },
     "metadata": {},
     "output_type": "display_data"
    },
    {
     "data": {
      "application/vnd.jupyter.widget-view+json": {
       "model_id": "8d29cc50a76e489f82504206bdd68894",
       "version_major": 2,
       "version_minor": 0
      },
      "text/plain": [
       "  0%|          | 0/3 [00:00<?, ?it/s]"
      ]
     },
     "metadata": {},
     "output_type": "display_data"
    },
    {
     "data": {
      "application/vnd.jupyter.widget-view+json": {
       "model_id": "cb0dee4d7aa3454eb236d0a2efa47d2f",
       "version_major": 2,
       "version_minor": 0
      },
      "text/plain": [
       "  0%|          | 0/2 [00:00<?, ?it/s]"
      ]
     },
     "metadata": {},
     "output_type": "display_data"
    },
    {
     "data": {
      "application/vnd.jupyter.widget-view+json": {
       "model_id": "8fb375d27d49463f8f76bd93a0c514ba",
       "version_major": 2,
       "version_minor": 0
      },
      "text/plain": [
       "  0%|          | 0/3 [00:00<?, ?it/s]"
      ]
     },
     "metadata": {},
     "output_type": "display_data"
    },
    {
     "data": {
      "application/vnd.jupyter.widget-view+json": {
       "model_id": "1eea5bad5c7a4fa48dcaa73fd31ae8a8",
       "version_major": 2,
       "version_minor": 0
      },
      "text/plain": [
       "  0%|          | 0/3 [00:00<?, ?it/s]"
      ]
     },
     "metadata": {},
     "output_type": "display_data"
    },
    {
     "data": {
      "application/vnd.jupyter.widget-view+json": {
       "model_id": "b80a38786d464ec99f80df07f1e30d5f",
       "version_major": 2,
       "version_minor": 0
      },
      "text/plain": [
       "  0%|          | 0/2 [00:00<?, ?it/s]"
      ]
     },
     "metadata": {},
     "output_type": "display_data"
    },
    {
     "data": {
      "application/vnd.jupyter.widget-view+json": {
       "model_id": "a49f46d2369c44c99c2cc20f72114d31",
       "version_major": 2,
       "version_minor": 0
      },
      "text/plain": [
       "  0%|          | 0/3 [00:00<?, ?it/s]"
      ]
     },
     "metadata": {},
     "output_type": "display_data"
    },
    {
     "data": {
      "application/vnd.jupyter.widget-view+json": {
       "model_id": "4cb55b1f74f147ac808a9a3d4a0084ad",
       "version_major": 2,
       "version_minor": 0
      },
      "text/plain": [
       "  0%|          | 0/3 [00:00<?, ?it/s]"
      ]
     },
     "metadata": {},
     "output_type": "display_data"
    },
    {
     "data": {
      "application/vnd.jupyter.widget-view+json": {
       "model_id": "2e34bcf1ff4743b281b1cd3bbe2bc918",
       "version_major": 2,
       "version_minor": 0
      },
      "text/plain": [
       "  0%|          | 0/1 [00:00<?, ?it/s]"
      ]
     },
     "metadata": {},
     "output_type": "display_data"
    },
    {
     "name": "stdout",
     "output_type": "stream",
     "text": [
      "[INFO] Concatenating the embeddings to the dataframe...\n",
      "[INFO] - columns beginning with 'e' denote the full embddings.\n",
      "[INFO] - columns beginning with 'd' denote the dimension reduced embeddings.\n",
      "[INFO] Adding time feature columns into dataframe in `.df`.\n",
      "[INFO] Adding 'time_encoding' feature...\n",
      "[INFO] Adding 'time_diff' feature...\n",
      "[INFO] Adding 'timeline_index' feature...\n",
      "[INFO] Padding ids and storing in `.df_padded` and `.array_padded` attributes.\n"
     ]
    },
    {
     "data": {
      "application/vnd.jupyter.widget-view+json": {
       "model_id": "ad5d1a4f22db4346a0754f1803451a0e",
       "version_major": 2,
       "version_minor": 0
      },
      "text/plain": [
       "  0%|          | 0/9699 [00:00<?, ?it/s]"
      ]
     },
     "metadata": {},
     "output_type": "display_data"
    },
    {
     "data": {
      "application/vnd.jupyter.widget-view+json": {
       "model_id": "35a2bfa671974210afed4c058972be09",
       "version_major": 2,
       "version_minor": 0
      },
      "text/plain": [
       "  0%|          | 0/4 [00:00<?, ?it/s]"
      ]
     },
     "metadata": {},
     "output_type": "display_data"
    },
    {
     "data": {
      "application/vnd.jupyter.widget-view+json": {
       "model_id": "8314020139444e71968e0123578969ab",
       "version_major": 2,
       "version_minor": 0
      },
      "text/plain": [
       "  0%|          | 0/2 [00:00<?, ?it/s]"
      ]
     },
     "metadata": {},
     "output_type": "display_data"
    },
    {
     "data": {
      "application/vnd.jupyter.widget-view+json": {
       "model_id": "b8598d89400946099277aeb7faf1d8eb",
       "version_major": 2,
       "version_minor": 0
      },
      "text/plain": [
       "  0%|          | 0/3 [00:00<?, ?it/s]"
      ]
     },
     "metadata": {},
     "output_type": "display_data"
    },
    {
     "data": {
      "application/vnd.jupyter.widget-view+json": {
       "model_id": "c08394db26164ce0b323cf4b9adee8fc",
       "version_major": 2,
       "version_minor": 0
      },
      "text/plain": [
       "  0%|          | 0/3 [00:00<?, ?it/s]"
      ]
     },
     "metadata": {},
     "output_type": "display_data"
    },
    {
     "data": {
      "application/vnd.jupyter.widget-view+json": {
       "model_id": "7b4681c86d1c42808ed0f8a2721226cf",
       "version_major": 2,
       "version_minor": 0
      },
      "text/plain": [
       "  0%|          | 0/2 [00:00<?, ?it/s]"
      ]
     },
     "metadata": {},
     "output_type": "display_data"
    },
    {
     "data": {
      "application/vnd.jupyter.widget-view+json": {
       "model_id": "da00fec8cc5e4ddfa81ed6bc442c0454",
       "version_major": 2,
       "version_minor": 0
      },
      "text/plain": [
       "  0%|          | 0/3 [00:00<?, ?it/s]"
      ]
     },
     "metadata": {},
     "output_type": "display_data"
    },
    {
     "data": {
      "application/vnd.jupyter.widget-view+json": {
       "model_id": "d6f0053aaad04548bd8fbd21a4d48293",
       "version_major": 2,
       "version_minor": 0
      },
      "text/plain": [
       "  0%|          | 0/3 [00:00<?, ?it/s]"
      ]
     },
     "metadata": {},
     "output_type": "display_data"
    },
    {
     "data": {
      "application/vnd.jupyter.widget-view+json": {
       "model_id": "09e7422c632744d78de64e850f97aa75",
       "version_major": 2,
       "version_minor": 0
      },
      "text/plain": [
       "  0%|          | 0/2 [00:00<?, ?it/s]"
      ]
     },
     "metadata": {},
     "output_type": "display_data"
    },
    {
     "data": {
      "application/vnd.jupyter.widget-view+json": {
       "model_id": "e8cb87f1760047debc30d4d7bbeaf706",
       "version_major": 2,
       "version_minor": 0
      },
      "text/plain": [
       "  0%|          | 0/3 [00:00<?, ?it/s]"
      ]
     },
     "metadata": {},
     "output_type": "display_data"
    },
    {
     "data": {
      "application/vnd.jupyter.widget-view+json": {
       "model_id": "e3d7b7c83b3f4a1faff213f1ae939647",
       "version_major": 2,
       "version_minor": 0
      },
      "text/plain": [
       "  0%|          | 0/3 [00:00<?, ?it/s]"
      ]
     },
     "metadata": {},
     "output_type": "display_data"
    },
    {
     "data": {
      "application/vnd.jupyter.widget-view+json": {
       "model_id": "69d802ba65e14306b704dc0f8991cc39",
       "version_major": 2,
       "version_minor": 0
      },
      "text/plain": [
       "  0%|          | 0/2 [00:00<?, ?it/s]"
      ]
     },
     "metadata": {},
     "output_type": "display_data"
    },
    {
     "data": {
      "application/vnd.jupyter.widget-view+json": {
       "model_id": "468cbb31af0a4a62ad53c62c5e9f7024",
       "version_major": 2,
       "version_minor": 0
      },
      "text/plain": [
       "  0%|          | 0/3 [00:00<?, ?it/s]"
      ]
     },
     "metadata": {},
     "output_type": "display_data"
    },
    {
     "data": {
      "application/vnd.jupyter.widget-view+json": {
       "model_id": "cfdd91d891d74e75b1723fe1919551ec",
       "version_major": 2,
       "version_minor": 0
      },
      "text/plain": [
       "  0%|          | 0/3 [00:00<?, ?it/s]"
      ]
     },
     "metadata": {},
     "output_type": "display_data"
    },
    {
     "data": {
      "application/vnd.jupyter.widget-view+json": {
       "model_id": "e818ad1fa46141e3a4b1b3ede81ef9b0",
       "version_major": 2,
       "version_minor": 0
      },
      "text/plain": [
       "  0%|          | 0/1 [00:00<?, ?it/s]"
      ]
     },
     "metadata": {},
     "output_type": "display_data"
    },
    {
     "name": "stdout",
     "output_type": "stream",
     "text": [
      "[INFO] Concatenating the embeddings to the dataframe...\n",
      "[INFO] - columns beginning with 'e' denote the full embddings.\n",
      "[INFO] - columns beginning with 'd' denote the dimension reduced embeddings.\n",
      "[INFO] Adding time feature columns into dataframe in `.df`.\n",
      "[INFO] Adding 'time_encoding' feature...\n",
      "[INFO] Adding 'time_diff' feature...\n",
      "[INFO] Adding 'timeline_index' feature...\n",
      "[INFO] Padding ids and storing in `.df_padded` and `.array_padded` attributes.\n"
     ]
    },
    {
     "data": {
      "application/vnd.jupyter.widget-view+json": {
       "model_id": "ffeae24d69704dc29329f110f6b1dde7",
       "version_major": 2,
       "version_minor": 0
      },
      "text/plain": [
       "  0%|          | 0/9699 [00:00<?, ?it/s]"
      ]
     },
     "metadata": {},
     "output_type": "display_data"
    },
    {
     "data": {
      "application/vnd.jupyter.widget-view+json": {
       "model_id": "935ce3e3f8b442bcb8b8f77e14c22367",
       "version_major": 2,
       "version_minor": 0
      },
      "text/plain": [
       "  0%|          | 0/4 [00:00<?, ?it/s]"
      ]
     },
     "metadata": {},
     "output_type": "display_data"
    },
    {
     "data": {
      "application/vnd.jupyter.widget-view+json": {
       "model_id": "5ec8d56d12404cf689a020636718f76a",
       "version_major": 2,
       "version_minor": 0
      },
      "text/plain": [
       "  0%|          | 0/2 [00:00<?, ?it/s]"
      ]
     },
     "metadata": {},
     "output_type": "display_data"
    },
    {
     "data": {
      "application/vnd.jupyter.widget-view+json": {
       "model_id": "4e67794bcd994487aeaa53cd1dce0806",
       "version_major": 2,
       "version_minor": 0
      },
      "text/plain": [
       "  0%|          | 0/3 [00:00<?, ?it/s]"
      ]
     },
     "metadata": {},
     "output_type": "display_data"
    },
    {
     "data": {
      "application/vnd.jupyter.widget-view+json": {
       "model_id": "2b774edab73e446486e1fd1eb4afc021",
       "version_major": 2,
       "version_minor": 0
      },
      "text/plain": [
       "  0%|          | 0/3 [00:00<?, ?it/s]"
      ]
     },
     "metadata": {},
     "output_type": "display_data"
    },
    {
     "data": {
      "application/vnd.jupyter.widget-view+json": {
       "model_id": "3e9f6da4b64b4691a7e66ab31b106790",
       "version_major": 2,
       "version_minor": 0
      },
      "text/plain": [
       "  0%|          | 0/2 [00:00<?, ?it/s]"
      ]
     },
     "metadata": {},
     "output_type": "display_data"
    },
    {
     "data": {
      "application/vnd.jupyter.widget-view+json": {
       "model_id": "98e4c29f64c94434bf2bada839f9c576",
       "version_major": 2,
       "version_minor": 0
      },
      "text/plain": [
       "  0%|          | 0/3 [00:00<?, ?it/s]"
      ]
     },
     "metadata": {},
     "output_type": "display_data"
    },
    {
     "data": {
      "application/vnd.jupyter.widget-view+json": {
       "model_id": "129a53a1ecfd4646aedc3b022d4c6f10",
       "version_major": 2,
       "version_minor": 0
      },
      "text/plain": [
       "  0%|          | 0/3 [00:00<?, ?it/s]"
      ]
     },
     "metadata": {},
     "output_type": "display_data"
    },
    {
     "data": {
      "application/vnd.jupyter.widget-view+json": {
       "model_id": "f300ab793f704f039cb5fc47a92f299b",
       "version_major": 2,
       "version_minor": 0
      },
      "text/plain": [
       "  0%|          | 0/2 [00:00<?, ?it/s]"
      ]
     },
     "metadata": {},
     "output_type": "display_data"
    },
    {
     "data": {
      "application/vnd.jupyter.widget-view+json": {
       "model_id": "26d72dca517e4f0c8392cbf49364324d",
       "version_major": 2,
       "version_minor": 0
      },
      "text/plain": [
       "  0%|          | 0/3 [00:00<?, ?it/s]"
      ]
     },
     "metadata": {},
     "output_type": "display_data"
    },
    {
     "data": {
      "application/vnd.jupyter.widget-view+json": {
       "model_id": "e17f6d3559ad40b6b6065931f78d1705",
       "version_major": 2,
       "version_minor": 0
      },
      "text/plain": [
       "  0%|          | 0/3 [00:00<?, ?it/s]"
      ]
     },
     "metadata": {},
     "output_type": "display_data"
    },
    {
     "data": {
      "application/vnd.jupyter.widget-view+json": {
       "model_id": "bbe4018f50414b5d9cc643e5486d6cba",
       "version_major": 2,
       "version_minor": 0
      },
      "text/plain": [
       "  0%|          | 0/2 [00:00<?, ?it/s]"
      ]
     },
     "metadata": {},
     "output_type": "display_data"
    },
    {
     "data": {
      "application/vnd.jupyter.widget-view+json": {
       "model_id": "b4db60d3dcb448ac9802c68ea3d21ce9",
       "version_major": 2,
       "version_minor": 0
      },
      "text/plain": [
       "  0%|          | 0/3 [00:00<?, ?it/s]"
      ]
     },
     "metadata": {},
     "output_type": "display_data"
    },
    {
     "data": {
      "application/vnd.jupyter.widget-view+json": {
       "model_id": "e2faaf654f714760aa37234cf5c9ad1a",
       "version_major": 2,
       "version_minor": 0
      },
      "text/plain": [
       "  0%|          | 0/3 [00:00<?, ?it/s]"
      ]
     },
     "metadata": {},
     "output_type": "display_data"
    },
    {
     "name": "stdout",
     "output_type": "stream",
     "text": [
      "[INFO] Concatenating the embeddings to the dataframe...\n",
      "[INFO] - columns beginning with 'e' denote the full embddings.\n",
      "[INFO] - columns beginning with 'd' denote the dimension reduced embeddings.\n",
      "[INFO] Adding time feature columns into dataframe in `.df`.\n",
      "[INFO] Adding 'time_encoding' feature...\n",
      "[INFO] Adding 'time_diff' feature...\n",
      "[INFO] Adding 'timeline_index' feature...\n",
      "[INFO] Padding ids and storing in `.df_padded` and `.array_padded` attributes.\n"
     ]
    },
    {
     "data": {
      "application/vnd.jupyter.widget-view+json": {
       "model_id": "385fc1184d3e4d76aa47ffb1bafbc08f",
       "version_major": 2,
       "version_minor": 0
      },
      "text/plain": [
       "  0%|          | 0/9699 [00:00<?, ?it/s]"
      ]
     },
     "metadata": {},
     "output_type": "display_data"
    },
    {
     "name": "stdout",
     "output_type": "stream",
     "text": [
      "saving results dataframe to CSV for this hyperparameter search in client_talk_type_output/ffn_logsignature_umap_focal_2_kfold.csv\n",
      "saving the best model results dataframe to CSV for this hyperparameter search in client_talk_type_output/ffn_logsignature_umap_focal_2_kfold_best_model.csv\n"
     ]
    }
   ],
   "source": [
    "(\n",
    "    ffn_logsignature_umap_kfold,\n",
    "    best_ffn_logsignature_umap_kfold,\n",
    "    _,\n",
    "    __,\n",
    ") = histories_baseline_hyperparameter_search(\n",
    "    num_epochs=num_epochs,\n",
    "    df=anno_mi,\n",
    "    id_column=\"transcript_id\",\n",
    "    label_column=\"client_talk_type\",\n",
    "    embeddings=sbert_embeddings,\n",
    "    y_data=y_data_client,\n",
    "    output_dim=output_dim_client,\n",
    "    hidden_dim_sizes=hidden_dim_sizes,\n",
    "    dropout_rates=dropout_rates,\n",
    "    learning_rates=learning_rates,\n",
    "    use_signatures=True,\n",
    "    seeds=seeds,\n",
    "    loss=loss,\n",
    "    gamma=gamma,\n",
    "    log_signature=True,\n",
    "    dim_reduce_methods=[\"umap\"],\n",
    "    dimension_and_sig_depths=log_signature_dimensions_and_sig_depths,\n",
    "    path_indices=client_index,\n",
    "    split_ids=client_transcript_id,\n",
    "    k_fold=True,\n",
    "    patience=patience,\n",
    "    validation_metric=validation_metric,\n",
    "    results_output=f\"{output_dir}/ffn_logsignature_umap_focal_{gamma}_kfold.csv\",\n",
    "    verbose=False,\n",
    ")"
   ]
  },
  {
   "cell_type": "code",
   "execution_count": 11,
   "id": "f8b363bd",
   "metadata": {},
   "outputs": [
    {
     "name": "stderr",
     "output_type": "stream",
     "text": [
      "/tmp/ipykernel_1995930/3138393360.py:1: FutureWarning: The default value of numeric_only in DataFrameGroupBy.mean is deprecated. In a future version, numeric_only will default to False. Either specify numeric_only or select only columns which should be valid for the function.\n",
      "  ffn_logsignature_umap_kfold.groupby([\"dimension\", \"sig_depth\", \"hidden_dim\", \"dropout_rate\", \"learning_rate\"]).mean()\n"
     ]
    },
    {
     "data": {
      "text/html": [
       "<div>\n",
       "<style scoped>\n",
       "    .dataframe tbody tr th:only-of-type {\n",
       "        vertical-align: middle;\n",
       "    }\n",
       "\n",
       "    .dataframe tbody tr th {\n",
       "        vertical-align: top;\n",
       "    }\n",
       "\n",
       "    .dataframe thead th {\n",
       "        text-align: right;\n",
       "    }\n",
       "</style>\n",
       "<table border=\"1\" class=\"dataframe\">\n",
       "  <thead>\n",
       "    <tr style=\"text-align: right;\">\n",
       "      <th></th>\n",
       "      <th></th>\n",
       "      <th></th>\n",
       "      <th></th>\n",
       "      <th></th>\n",
       "      <th>accuracy</th>\n",
       "      <th>f1</th>\n",
       "      <th>precision</th>\n",
       "      <th>recall</th>\n",
       "      <th>valid_accuracy</th>\n",
       "      <th>valid_f1</th>\n",
       "      <th>valid_precision</th>\n",
       "      <th>valid_recall</th>\n",
       "      <th>seed</th>\n",
       "      <th>gamma</th>\n",
       "      <th>k_fold</th>\n",
       "      <th>n_splits</th>\n",
       "      <th>batch_size</th>\n",
       "      <th>model_id</th>\n",
       "      <th>input_dim</th>\n",
       "      <th>log_signature</th>\n",
       "    </tr>\n",
       "    <tr>\n",
       "      <th>dimension</th>\n",
       "      <th>sig_depth</th>\n",
       "      <th>hidden_dim</th>\n",
       "      <th>dropout_rate</th>\n",
       "      <th>learning_rate</th>\n",
       "      <th></th>\n",
       "      <th></th>\n",
       "      <th></th>\n",
       "      <th></th>\n",
       "      <th></th>\n",
       "      <th></th>\n",
       "      <th></th>\n",
       "      <th></th>\n",
       "      <th></th>\n",
       "      <th></th>\n",
       "      <th></th>\n",
       "      <th></th>\n",
       "      <th></th>\n",
       "      <th></th>\n",
       "      <th></th>\n",
       "      <th></th>\n",
       "    </tr>\n",
       "  </thead>\n",
       "  <tbody>\n",
       "    <tr>\n",
       "      <th rowspan=\"5\" valign=\"top\">6</th>\n",
       "      <th rowspan=\"5\" valign=\"top\">4</th>\n",
       "      <th rowspan=\"5\" valign=\"top\">(64, 64)</th>\n",
       "      <th rowspan=\"3\" valign=\"top\">0.1</th>\n",
       "      <th>0.0001</th>\n",
       "      <td>0.495466</td>\n",
       "      <td>0.357446</td>\n",
       "      <td>0.359312</td>\n",
       "      <td>0.363922</td>\n",
       "      <td>0.630700</td>\n",
       "      <td>0.520120</td>\n",
       "      <td>0.517516</td>\n",
       "      <td>0.524090</td>\n",
       "      <td>45.333333</td>\n",
       "      <td>2.0</td>\n",
       "      <td>1.0</td>\n",
       "      <td>5.0</td>\n",
       "      <td>64.0</td>\n",
       "      <td>2.40</td>\n",
       "      <td>790.0</td>\n",
       "      <td>1.0</td>\n",
       "    </tr>\n",
       "    <tr>\n",
       "      <th>0.0005</th>\n",
       "      <td>0.522861</td>\n",
       "      <td>0.352421</td>\n",
       "      <td>0.353064</td>\n",
       "      <td>0.354108</td>\n",
       "      <td>0.651252</td>\n",
       "      <td>0.518398</td>\n",
       "      <td>0.537078</td>\n",
       "      <td>0.507344</td>\n",
       "      <td>45.333333</td>\n",
       "      <td>2.0</td>\n",
       "      <td>1.0</td>\n",
       "      <td>5.0</td>\n",
       "      <td>64.0</td>\n",
       "      <td>2.50</td>\n",
       "      <td>790.0</td>\n",
       "      <td>1.0</td>\n",
       "    </tr>\n",
       "    <tr>\n",
       "      <th>0.0010</th>\n",
       "      <td>0.537739</td>\n",
       "      <td>0.362463</td>\n",
       "      <td>0.363349</td>\n",
       "      <td>0.363620</td>\n",
       "      <td>0.653233</td>\n",
       "      <td>0.505898</td>\n",
       "      <td>0.539641</td>\n",
       "      <td>0.490847</td>\n",
       "      <td>45.333333</td>\n",
       "      <td>2.0</td>\n",
       "      <td>1.0</td>\n",
       "      <td>5.0</td>\n",
       "      <td>64.0</td>\n",
       "      <td>2.30</td>\n",
       "      <td>790.0</td>\n",
       "      <td>1.0</td>\n",
       "    </tr>\n",
       "    <tr>\n",
       "      <th rowspan=\"2\" valign=\"top\">0.5</th>\n",
       "      <th>0.0001</th>\n",
       "      <td>0.567114</td>\n",
       "      <td>0.346219</td>\n",
       "      <td>0.352506</td>\n",
       "      <td>0.348930</td>\n",
       "      <td>0.641244</td>\n",
       "      <td>0.421580</td>\n",
       "      <td>0.493729</td>\n",
       "      <td>0.417160</td>\n",
       "      <td>45.333333</td>\n",
       "      <td>2.0</td>\n",
       "      <td>1.0</td>\n",
       "      <td>5.0</td>\n",
       "      <td>64.0</td>\n",
       "      <td>2.10</td>\n",
       "      <td>790.0</td>\n",
       "      <td>1.0</td>\n",
       "    </tr>\n",
       "    <tr>\n",
       "      <th>0.0005</th>\n",
       "      <td>0.598978</td>\n",
       "      <td>0.334396</td>\n",
       "      <td>0.351271</td>\n",
       "      <td>0.345770</td>\n",
       "      <td>0.638247</td>\n",
       "      <td>0.366334</td>\n",
       "      <td>0.497126</td>\n",
       "      <td>0.380318</td>\n",
       "      <td>45.333333</td>\n",
       "      <td>2.0</td>\n",
       "      <td>1.0</td>\n",
       "      <td>5.0</td>\n",
       "      <td>64.0</td>\n",
       "      <td>2.20</td>\n",
       "      <td>790.0</td>\n",
       "      <td>1.0</td>\n",
       "    </tr>\n",
       "    <tr>\n",
       "      <th>...</th>\n",
       "      <th>...</th>\n",
       "      <th>...</th>\n",
       "      <th>...</th>\n",
       "      <th>...</th>\n",
       "      <td>...</td>\n",
       "      <td>...</td>\n",
       "      <td>...</td>\n",
       "      <td>...</td>\n",
       "      <td>...</td>\n",
       "      <td>...</td>\n",
       "      <td>...</td>\n",
       "      <td>...</td>\n",
       "      <td>...</td>\n",
       "      <td>...</td>\n",
       "      <td>...</td>\n",
       "      <td>...</td>\n",
       "      <td>...</td>\n",
       "      <td>...</td>\n",
       "      <td>...</td>\n",
       "      <td>...</td>\n",
       "    </tr>\n",
       "    <tr>\n",
       "      <th rowspan=\"5\" valign=\"top\">28</th>\n",
       "      <th rowspan=\"5\" valign=\"top\">2</th>\n",
       "      <th rowspan=\"5\" valign=\"top\">(512, 512)</th>\n",
       "      <th rowspan=\"2\" valign=\"top\">0.1</th>\n",
       "      <th>0.0005</th>\n",
       "      <td>0.573499</td>\n",
       "      <td>0.421227</td>\n",
       "      <td>0.421875</td>\n",
       "      <td>0.422968</td>\n",
       "      <td>0.687005</td>\n",
       "      <td>0.585431</td>\n",
       "      <td>0.581646</td>\n",
       "      <td>0.592459</td>\n",
       "      <td>45.333333</td>\n",
       "      <td>2.0</td>\n",
       "      <td>1.0</td>\n",
       "      <td>5.0</td>\n",
       "      <td>64.0</td>\n",
       "      <td>0.23</td>\n",
       "      <td>790.0</td>\n",
       "      <td>1.0</td>\n",
       "    </tr>\n",
       "    <tr>\n",
       "      <th>0.0010</th>\n",
       "      <td>0.559387</td>\n",
       "      <td>0.415112</td>\n",
       "      <td>0.413325</td>\n",
       "      <td>0.423332</td>\n",
       "      <td>0.678602</td>\n",
       "      <td>0.576137</td>\n",
       "      <td>0.571505</td>\n",
       "      <td>0.584441</td>\n",
       "      <td>45.333333</td>\n",
       "      <td>2.0</td>\n",
       "      <td>1.0</td>\n",
       "      <td>5.0</td>\n",
       "      <td>64.0</td>\n",
       "      <td>0.21</td>\n",
       "      <td>790.0</td>\n",
       "      <td>1.0</td>\n",
       "    </tr>\n",
       "    <tr>\n",
       "      <th rowspan=\"3\" valign=\"top\">0.5</th>\n",
       "      <th>0.0001</th>\n",
       "      <td>0.574457</td>\n",
       "      <td>0.421726</td>\n",
       "      <td>0.421256</td>\n",
       "      <td>0.422888</td>\n",
       "      <td>0.692571</td>\n",
       "      <td>0.598719</td>\n",
       "      <td>0.590924</td>\n",
       "      <td>0.608833</td>\n",
       "      <td>45.333333</td>\n",
       "      <td>2.0</td>\n",
       "      <td>1.0</td>\n",
       "      <td>5.0</td>\n",
       "      <td>64.0</td>\n",
       "      <td>0.19</td>\n",
       "      <td>790.0</td>\n",
       "      <td>1.0</td>\n",
       "    </tr>\n",
       "    <tr>\n",
       "      <th>0.0005</th>\n",
       "      <td>0.580013</td>\n",
       "      <td>0.425165</td>\n",
       "      <td>0.424744</td>\n",
       "      <td>0.425732</td>\n",
       "      <td>0.684061</td>\n",
       "      <td>0.582189</td>\n",
       "      <td>0.577481</td>\n",
       "      <td>0.588120</td>\n",
       "      <td>45.333333</td>\n",
       "      <td>2.0</td>\n",
       "      <td>1.0</td>\n",
       "      <td>5.0</td>\n",
       "      <td>64.0</td>\n",
       "      <td>0.20</td>\n",
       "      <td>790.0</td>\n",
       "      <td>1.0</td>\n",
       "    </tr>\n",
       "    <tr>\n",
       "      <th>0.0010</th>\n",
       "      <td>0.568646</td>\n",
       "      <td>0.407322</td>\n",
       "      <td>0.409513</td>\n",
       "      <td>0.414361</td>\n",
       "      <td>0.674802</td>\n",
       "      <td>0.567250</td>\n",
       "      <td>0.566852</td>\n",
       "      <td>0.572872</td>\n",
       "      <td>45.333333</td>\n",
       "      <td>2.0</td>\n",
       "      <td>1.0</td>\n",
       "      <td>5.0</td>\n",
       "      <td>64.0</td>\n",
       "      <td>0.18</td>\n",
       "      <td>790.0</td>\n",
       "      <td>1.0</td>\n",
       "    </tr>\n",
       "  </tbody>\n",
       "</table>\n",
       "<p>72 rows × 16 columns</p>\n",
       "</div>"
      ],
      "text/plain": [
       "                                                           accuracy        f1  \\\n",
       "dimension sig_depth hidden_dim dropout_rate learning_rate                       \n",
       "6         4         (64, 64)   0.1          0.0001         0.495466  0.357446   \n",
       "                                            0.0005         0.522861  0.352421   \n",
       "                                            0.0010         0.537739  0.362463   \n",
       "                               0.5          0.0001         0.567114  0.346219   \n",
       "                                            0.0005         0.598978  0.334396   \n",
       "...                                                             ...       ...   \n",
       "28        2         (512, 512) 0.1          0.0005         0.573499  0.421227   \n",
       "                                            0.0010         0.559387  0.415112   \n",
       "                               0.5          0.0001         0.574457  0.421726   \n",
       "                                            0.0005         0.580013  0.425165   \n",
       "                                            0.0010         0.568646  0.407322   \n",
       "\n",
       "                                                           precision  \\\n",
       "dimension sig_depth hidden_dim dropout_rate learning_rate              \n",
       "6         4         (64, 64)   0.1          0.0001          0.359312   \n",
       "                                            0.0005          0.353064   \n",
       "                                            0.0010          0.363349   \n",
       "                               0.5          0.0001          0.352506   \n",
       "                                            0.0005          0.351271   \n",
       "...                                                              ...   \n",
       "28        2         (512, 512) 0.1          0.0005          0.421875   \n",
       "                                            0.0010          0.413325   \n",
       "                               0.5          0.0001          0.421256   \n",
       "                                            0.0005          0.424744   \n",
       "                                            0.0010          0.409513   \n",
       "\n",
       "                                                             recall  \\\n",
       "dimension sig_depth hidden_dim dropout_rate learning_rate             \n",
       "6         4         (64, 64)   0.1          0.0001         0.363922   \n",
       "                                            0.0005         0.354108   \n",
       "                                            0.0010         0.363620   \n",
       "                               0.5          0.0001         0.348930   \n",
       "                                            0.0005         0.345770   \n",
       "...                                                             ...   \n",
       "28        2         (512, 512) 0.1          0.0005         0.422968   \n",
       "                                            0.0010         0.423332   \n",
       "                               0.5          0.0001         0.422888   \n",
       "                                            0.0005         0.425732   \n",
       "                                            0.0010         0.414361   \n",
       "\n",
       "                                                           valid_accuracy  \\\n",
       "dimension sig_depth hidden_dim dropout_rate learning_rate                   \n",
       "6         4         (64, 64)   0.1          0.0001               0.630700   \n",
       "                                            0.0005               0.651252   \n",
       "                                            0.0010               0.653233   \n",
       "                               0.5          0.0001               0.641244   \n",
       "                                            0.0005               0.638247   \n",
       "...                                                                   ...   \n",
       "28        2         (512, 512) 0.1          0.0005               0.687005   \n",
       "                                            0.0010               0.678602   \n",
       "                               0.5          0.0001               0.692571   \n",
       "                                            0.0005               0.684061   \n",
       "                                            0.0010               0.674802   \n",
       "\n",
       "                                                           valid_f1  \\\n",
       "dimension sig_depth hidden_dim dropout_rate learning_rate             \n",
       "6         4         (64, 64)   0.1          0.0001         0.520120   \n",
       "                                            0.0005         0.518398   \n",
       "                                            0.0010         0.505898   \n",
       "                               0.5          0.0001         0.421580   \n",
       "                                            0.0005         0.366334   \n",
       "...                                                             ...   \n",
       "28        2         (512, 512) 0.1          0.0005         0.585431   \n",
       "                                            0.0010         0.576137   \n",
       "                               0.5          0.0001         0.598719   \n",
       "                                            0.0005         0.582189   \n",
       "                                            0.0010         0.567250   \n",
       "\n",
       "                                                           valid_precision  \\\n",
       "dimension sig_depth hidden_dim dropout_rate learning_rate                    \n",
       "6         4         (64, 64)   0.1          0.0001                0.517516   \n",
       "                                            0.0005                0.537078   \n",
       "                                            0.0010                0.539641   \n",
       "                               0.5          0.0001                0.493729   \n",
       "                                            0.0005                0.497126   \n",
       "...                                                                    ...   \n",
       "28        2         (512, 512) 0.1          0.0005                0.581646   \n",
       "                                            0.0010                0.571505   \n",
       "                               0.5          0.0001                0.590924   \n",
       "                                            0.0005                0.577481   \n",
       "                                            0.0010                0.566852   \n",
       "\n",
       "                                                           valid_recall  \\\n",
       "dimension sig_depth hidden_dim dropout_rate learning_rate                 \n",
       "6         4         (64, 64)   0.1          0.0001             0.524090   \n",
       "                                            0.0005             0.507344   \n",
       "                                            0.0010             0.490847   \n",
       "                               0.5          0.0001             0.417160   \n",
       "                                            0.0005             0.380318   \n",
       "...                                                                 ...   \n",
       "28        2         (512, 512) 0.1          0.0005             0.592459   \n",
       "                                            0.0010             0.584441   \n",
       "                               0.5          0.0001             0.608833   \n",
       "                                            0.0005             0.588120   \n",
       "                                            0.0010             0.572872   \n",
       "\n",
       "                                                                seed  gamma  \\\n",
       "dimension sig_depth hidden_dim dropout_rate learning_rate                     \n",
       "6         4         (64, 64)   0.1          0.0001         45.333333    2.0   \n",
       "                                            0.0005         45.333333    2.0   \n",
       "                                            0.0010         45.333333    2.0   \n",
       "                               0.5          0.0001         45.333333    2.0   \n",
       "                                            0.0005         45.333333    2.0   \n",
       "...                                                              ...    ...   \n",
       "28        2         (512, 512) 0.1          0.0005         45.333333    2.0   \n",
       "                                            0.0010         45.333333    2.0   \n",
       "                               0.5          0.0001         45.333333    2.0   \n",
       "                                            0.0005         45.333333    2.0   \n",
       "                                            0.0010         45.333333    2.0   \n",
       "\n",
       "                                                           k_fold  n_splits  \\\n",
       "dimension sig_depth hidden_dim dropout_rate learning_rate                     \n",
       "6         4         (64, 64)   0.1          0.0001            1.0       5.0   \n",
       "                                            0.0005            1.0       5.0   \n",
       "                                            0.0010            1.0       5.0   \n",
       "                               0.5          0.0001            1.0       5.0   \n",
       "                                            0.0005            1.0       5.0   \n",
       "...                                                           ...       ...   \n",
       "28        2         (512, 512) 0.1          0.0005            1.0       5.0   \n",
       "                                            0.0010            1.0       5.0   \n",
       "                               0.5          0.0001            1.0       5.0   \n",
       "                                            0.0005            1.0       5.0   \n",
       "                                            0.0010            1.0       5.0   \n",
       "\n",
       "                                                           batch_size  \\\n",
       "dimension sig_depth hidden_dim dropout_rate learning_rate               \n",
       "6         4         (64, 64)   0.1          0.0001               64.0   \n",
       "                                            0.0005               64.0   \n",
       "                                            0.0010               64.0   \n",
       "                               0.5          0.0001               64.0   \n",
       "                                            0.0005               64.0   \n",
       "...                                                               ...   \n",
       "28        2         (512, 512) 0.1          0.0005               64.0   \n",
       "                                            0.0010               64.0   \n",
       "                               0.5          0.0001               64.0   \n",
       "                                            0.0005               64.0   \n",
       "                                            0.0010               64.0   \n",
       "\n",
       "                                                           model_id  \\\n",
       "dimension sig_depth hidden_dim dropout_rate learning_rate             \n",
       "6         4         (64, 64)   0.1          0.0001             2.40   \n",
       "                                            0.0005             2.50   \n",
       "                                            0.0010             2.30   \n",
       "                               0.5          0.0001             2.10   \n",
       "                                            0.0005             2.20   \n",
       "...                                                             ...   \n",
       "28        2         (512, 512) 0.1          0.0005             0.23   \n",
       "                                            0.0010             0.21   \n",
       "                               0.5          0.0001             0.19   \n",
       "                                            0.0005             0.20   \n",
       "                                            0.0010             0.18   \n",
       "\n",
       "                                                           input_dim  \\\n",
       "dimension sig_depth hidden_dim dropout_rate learning_rate              \n",
       "6         4         (64, 64)   0.1          0.0001             790.0   \n",
       "                                            0.0005             790.0   \n",
       "                                            0.0010             790.0   \n",
       "                               0.5          0.0001             790.0   \n",
       "                                            0.0005             790.0   \n",
       "...                                                              ...   \n",
       "28        2         (512, 512) 0.1          0.0005             790.0   \n",
       "                                            0.0010             790.0   \n",
       "                               0.5          0.0001             790.0   \n",
       "                                            0.0005             790.0   \n",
       "                                            0.0010             790.0   \n",
       "\n",
       "                                                           log_signature  \n",
       "dimension sig_depth hidden_dim dropout_rate learning_rate                 \n",
       "6         4         (64, 64)   0.1          0.0001                   1.0  \n",
       "                                            0.0005                   1.0  \n",
       "                                            0.0010                   1.0  \n",
       "                               0.5          0.0001                   1.0  \n",
       "                                            0.0005                   1.0  \n",
       "...                                                                  ...  \n",
       "28        2         (512, 512) 0.1          0.0005                   1.0  \n",
       "                                            0.0010                   1.0  \n",
       "                               0.5          0.0001                   1.0  \n",
       "                                            0.0005                   1.0  \n",
       "                                            0.0010                   1.0  \n",
       "\n",
       "[72 rows x 16 columns]"
      ]
     },
     "execution_count": 11,
     "metadata": {},
     "output_type": "execute_result"
    }
   ],
   "source": [
    "ffn_logsignature_umap_kfold.groupby(\n",
    "    [\"dimension\", \"sig_depth\", \"hidden_dim\", \"dropout_rate\", \"learning_rate\"]\n",
    ").mean()"
   ]
  },
  {
   "cell_type": "code",
   "execution_count": 12,
   "id": "d1ea8817",
   "metadata": {},
   "outputs": [
    {
     "data": {
      "text/html": [
       "<div>\n",
       "<style scoped>\n",
       "    .dataframe tbody tr th:only-of-type {\n",
       "        vertical-align: middle;\n",
       "    }\n",
       "\n",
       "    .dataframe tbody tr th {\n",
       "        vertical-align: top;\n",
       "    }\n",
       "\n",
       "    .dataframe thead th {\n",
       "        text-align: right;\n",
       "    }\n",
       "</style>\n",
       "<table border=\"1\" class=\"dataframe\">\n",
       "  <thead>\n",
       "    <tr style=\"text-align: right;\">\n",
       "      <th></th>\n",
       "      <th>loss</th>\n",
       "      <th>accuracy</th>\n",
       "      <th>f1</th>\n",
       "      <th>f1_scores</th>\n",
       "      <th>precision</th>\n",
       "      <th>precision_scores</th>\n",
       "      <th>recall</th>\n",
       "      <th>recall_scores</th>\n",
       "      <th>valid_loss</th>\n",
       "      <th>valid_accuracy</th>\n",
       "      <th>...</th>\n",
       "      <th>loss_function</th>\n",
       "      <th>gamma</th>\n",
       "      <th>k_fold</th>\n",
       "      <th>n_splits</th>\n",
       "      <th>batch_size</th>\n",
       "      <th>input_dim</th>\n",
       "      <th>dimension</th>\n",
       "      <th>sig_depth</th>\n",
       "      <th>method</th>\n",
       "      <th>log_signature</th>\n",
       "    </tr>\n",
       "  </thead>\n",
       "  <tbody>\n",
       "    <tr>\n",
       "      <th>0</th>\n",
       "      <td>None</td>\n",
       "      <td>0.577778</td>\n",
       "      <td>0.432522</td>\n",
       "      <td>[0.717744316504281, 0.3567362428842505, 0.2230...</td>\n",
       "      <td>0.434162</td>\n",
       "      <td>[0.7331121833534379, 0.3302881236823612, 0.239...</td>\n",
       "      <td>0.433296</td>\n",
       "      <td>[0.7030075187969925, 0.38778877887788776, 0.20...</td>\n",
       "      <td>None</td>\n",
       "      <td>0.695568</td>\n",
       "      <td>...</td>\n",
       "      <td>focal</td>\n",
       "      <td>2</td>\n",
       "      <td>True</td>\n",
       "      <td>5</td>\n",
       "      <td>64</td>\n",
       "      <td>790</td>\n",
       "      <td>28</td>\n",
       "      <td>2</td>\n",
       "      <td>umap</td>\n",
       "      <td>True</td>\n",
       "    </tr>\n",
       "    <tr>\n",
       "      <th>0</th>\n",
       "      <td>None</td>\n",
       "      <td>0.587165</td>\n",
       "      <td>0.430103</td>\n",
       "      <td>[0.7317073170731707, 0.3303303303303304, 0.228...</td>\n",
       "      <td>0.430284</td>\n",
       "      <td>[0.7260820045558086, 0.34405719392314565, 0.22...</td>\n",
       "      <td>0.430480</td>\n",
       "      <td>[0.7374204742625795, 0.31765676567656764, 0.23...</td>\n",
       "      <td>None</td>\n",
       "      <td>0.700385</td>\n",
       "      <td>...</td>\n",
       "      <td>focal</td>\n",
       "      <td>2</td>\n",
       "      <td>True</td>\n",
       "      <td>5</td>\n",
       "      <td>64</td>\n",
       "      <td>790</td>\n",
       "      <td>28</td>\n",
       "      <td>2</td>\n",
       "      <td>umap</td>\n",
       "      <td>True</td>\n",
       "    </tr>\n",
       "    <tr>\n",
       "      <th>0</th>\n",
       "      <td>None</td>\n",
       "      <td>0.569349</td>\n",
       "      <td>0.420508</td>\n",
       "      <td>[0.7186629526462396, 0.31574708014498587, 0.22...</td>\n",
       "      <td>0.419123</td>\n",
       "      <td>[0.7288135593220338, 0.3084185680566483, 0.220...</td>\n",
       "      <td>0.422256</td>\n",
       "      <td>[0.7087912087912088, 0.3234323432343234, 0.234...</td>\n",
       "      <td>None</td>\n",
       "      <td>0.699743</td>\n",
       "      <td>...</td>\n",
       "      <td>focal</td>\n",
       "      <td>2</td>\n",
       "      <td>True</td>\n",
       "      <td>5</td>\n",
       "      <td>64</td>\n",
       "      <td>790</td>\n",
       "      <td>28</td>\n",
       "      <td>2</td>\n",
       "      <td>umap</td>\n",
       "      <td>True</td>\n",
       "    </tr>\n",
       "  </tbody>\n",
       "</table>\n",
       "<p>3 rows × 30 columns</p>\n",
       "</div>"
      ],
      "text/plain": [
       "   loss  accuracy        f1  \\\n",
       "0  None  0.577778  0.432522   \n",
       "0  None  0.587165  0.430103   \n",
       "0  None  0.569349  0.420508   \n",
       "\n",
       "                                           f1_scores  precision  \\\n",
       "0  [0.717744316504281, 0.3567362428842505, 0.2230...   0.434162   \n",
       "0  [0.7317073170731707, 0.3303303303303304, 0.228...   0.430284   \n",
       "0  [0.7186629526462396, 0.31574708014498587, 0.22...   0.419123   \n",
       "\n",
       "                                    precision_scores    recall  \\\n",
       "0  [0.7331121833534379, 0.3302881236823612, 0.239...  0.433296   \n",
       "0  [0.7260820045558086, 0.34405719392314565, 0.22...  0.430480   \n",
       "0  [0.7288135593220338, 0.3084185680566483, 0.220...  0.422256   \n",
       "\n",
       "                                       recall_scores valid_loss  \\\n",
       "0  [0.7030075187969925, 0.38778877887788776, 0.20...       None   \n",
       "0  [0.7374204742625795, 0.31765676567656764, 0.23...       None   \n",
       "0  [0.7087912087912088, 0.3234323432343234, 0.234...       None   \n",
       "\n",
       "   valid_accuracy  ...  loss_function gamma  k_fold n_splits  batch_size  \\\n",
       "0        0.695568  ...          focal     2    True        5          64   \n",
       "0        0.700385  ...          focal     2    True        5          64   \n",
       "0        0.699743  ...          focal     2    True        5          64   \n",
       "\n",
       "  input_dim dimension  sig_depth  method  log_signature  \n",
       "0       790        28          2    umap           True  \n",
       "0       790        28          2    umap           True  \n",
       "0       790        28          2    umap           True  \n",
       "\n",
       "[3 rows x 30 columns]"
      ]
     },
     "execution_count": 12,
     "metadata": {},
     "output_type": "execute_result"
    }
   ],
   "source": [
    "best_ffn_logsignature_umap_kfold"
   ]
  },
  {
   "cell_type": "code",
   "execution_count": 13,
   "id": "db662960",
   "metadata": {},
   "outputs": [
    {
     "data": {
      "text/plain": [
       "0.42771063470837545"
      ]
     },
     "execution_count": 13,
     "metadata": {},
     "output_type": "execute_result"
    }
   ],
   "source": [
    "best_ffn_logsignature_umap_kfold[\"f1\"].mean()"
   ]
  },
  {
   "cell_type": "code",
   "execution_count": 14,
   "id": "266373f0",
   "metadata": {},
   "outputs": [
    {
     "data": {
      "text/plain": [
       "0.4278562737505666"
      ]
     },
     "execution_count": 14,
     "metadata": {},
     "output_type": "execute_result"
    }
   ],
   "source": [
    "best_ffn_logsignature_umap_kfold[\"precision\"].mean()"
   ]
  },
  {
   "cell_type": "code",
   "execution_count": 15,
   "id": "11064150",
   "metadata": {},
   "outputs": [
    {
     "data": {
      "text/plain": [
       "0.4286774544043956"
      ]
     },
     "execution_count": 15,
     "metadata": {},
     "output_type": "execute_result"
    }
   ],
   "source": [
    "best_ffn_logsignature_umap_kfold[\"recall\"].mean()"
   ]
  },
  {
   "cell_type": "code",
   "execution_count": 16,
   "id": "f9d8a18b",
   "metadata": {},
   "outputs": [
    {
     "data": {
      "text/plain": [
       "array([0.72270486, 0.33427122, 0.22615582])"
      ]
     },
     "execution_count": 16,
     "metadata": {},
     "output_type": "execute_result"
    }
   ],
   "source": [
    "np.stack(best_ffn_logsignature_umap_kfold[\"f1_scores\"]).mean(axis=0)"
   ]
  },
  {
   "cell_type": "code",
   "execution_count": 17,
   "id": "28d6b708",
   "metadata": {},
   "outputs": [
    {
     "data": {
      "text/plain": [
       "array([0.72933592, 0.32758796, 0.22664494])"
      ]
     },
     "execution_count": 17,
     "metadata": {},
     "output_type": "execute_result"
    }
   ],
   "source": [
    "np.stack(best_ffn_logsignature_umap_kfold[\"precision_scores\"]).mean(axis=0)"
   ]
  },
  {
   "cell_type": "code",
   "execution_count": 18,
   "id": "4f57cc89",
   "metadata": {},
   "outputs": [
    {
     "data": {
      "text/plain": [
       "array([0.7164064 , 0.3429593 , 0.22666667])"
      ]
     },
     "execution_count": 18,
     "metadata": {},
     "output_type": "execute_result"
    }
   ],
   "source": [
    "np.stack(best_ffn_logsignature_umap_kfold[\"recall_scores\"]).mean(axis=0)"
   ]
  },
  {
   "cell_type": "markdown",
   "id": "0de6f338",
   "metadata": {},
   "source": [
    "### Using random projections"
   ]
  },
  {
   "cell_type": "code",
   "execution_count": 19,
   "id": "bcf5003d",
   "metadata": {},
   "outputs": [
    {
     "data": {
      "application/vnd.jupyter.widget-view+json": {
       "model_id": "8e4da8e0f0e74567a7618678f7fcc530",
       "version_major": 2,
       "version_minor": 0
      },
      "text/plain": [
       "  0%|          | 0/3 [00:00<?, ?it/s]"
      ]
     },
     "metadata": {},
     "output_type": "display_data"
    },
    {
     "data": {
      "application/vnd.jupyter.widget-view+json": {
       "model_id": "b2d7a694d9e645f6aae9704ea1ede4d9",
       "version_major": 2,
       "version_minor": 0
      },
      "text/plain": [
       "  0%|          | 0/1 [00:00<?, ?it/s]"
      ]
     },
     "metadata": {},
     "output_type": "display_data"
    },
    {
     "name": "stdout",
     "output_type": "stream",
     "text": [
      "[INFO] Concatenating the embeddings to the dataframe...\n",
      "[INFO] - columns beginning with 'e' denote the full embddings.\n",
      "[INFO] - columns beginning with 'd' denote the dimension reduced embeddings.\n",
      "[INFO] Adding time feature columns into dataframe in `.df`.\n",
      "[INFO] Adding 'time_encoding' feature...\n",
      "[INFO] Adding 'time_diff' feature...\n",
      "[INFO] Adding 'timeline_index' feature...\n",
      "[INFO] Padding ids and storing in `.df_padded` and `.array_padded` attributes.\n"
     ]
    },
    {
     "data": {
      "application/vnd.jupyter.widget-view+json": {
       "model_id": "752ee199fa6b47ea994a2ae14d8e4eb2",
       "version_major": 2,
       "version_minor": 0
      },
      "text/plain": [
       "  0%|          | 0/9699 [00:00<?, ?it/s]"
      ]
     },
     "metadata": {},
     "output_type": "display_data"
    },
    {
     "data": {
      "application/vnd.jupyter.widget-view+json": {
       "model_id": "7422581238e8450f8bbce8be7e76b382",
       "version_major": 2,
       "version_minor": 0
      },
      "text/plain": [
       "  0%|          | 0/4 [00:00<?, ?it/s]"
      ]
     },
     "metadata": {},
     "output_type": "display_data"
    },
    {
     "data": {
      "application/vnd.jupyter.widget-view+json": {
       "model_id": "81d9ded5950d4d09a3ed333784d24a40",
       "version_major": 2,
       "version_minor": 0
      },
      "text/plain": [
       "  0%|          | 0/2 [00:00<?, ?it/s]"
      ]
     },
     "metadata": {},
     "output_type": "display_data"
    },
    {
     "data": {
      "application/vnd.jupyter.widget-view+json": {
       "model_id": "78d5549c950c4d50b17d7503ecfc8ebf",
       "version_major": 2,
       "version_minor": 0
      },
      "text/plain": [
       "  0%|          | 0/3 [00:00<?, ?it/s]"
      ]
     },
     "metadata": {},
     "output_type": "display_data"
    },
    {
     "data": {
      "application/vnd.jupyter.widget-view+json": {
       "model_id": "c29217efe8244dc49c8313a3b0b68d12",
       "version_major": 2,
       "version_minor": 0
      },
      "text/plain": [
       "  0%|          | 0/3 [00:00<?, ?it/s]"
      ]
     },
     "metadata": {},
     "output_type": "display_data"
    },
    {
     "data": {
      "application/vnd.jupyter.widget-view+json": {
       "model_id": "f35dfc1203914a1482ed27e90830387c",
       "version_major": 2,
       "version_minor": 0
      },
      "text/plain": [
       "  0%|          | 0/2 [00:00<?, ?it/s]"
      ]
     },
     "metadata": {},
     "output_type": "display_data"
    },
    {
     "data": {
      "application/vnd.jupyter.widget-view+json": {
       "model_id": "0634ef94ae094471a16e73fc1e02054e",
       "version_major": 2,
       "version_minor": 0
      },
      "text/plain": [
       "  0%|          | 0/3 [00:00<?, ?it/s]"
      ]
     },
     "metadata": {},
     "output_type": "display_data"
    },
    {
     "data": {
      "application/vnd.jupyter.widget-view+json": {
       "model_id": "f9d72f70129b415dbe83e8a3ecc7bba8",
       "version_major": 2,
       "version_minor": 0
      },
      "text/plain": [
       "  0%|          | 0/3 [00:00<?, ?it/s]"
      ]
     },
     "metadata": {},
     "output_type": "display_data"
    },
    {
     "data": {
      "application/vnd.jupyter.widget-view+json": {
       "model_id": "69f11df5459a4083a054fedc41fe155a",
       "version_major": 2,
       "version_minor": 0
      },
      "text/plain": [
       "  0%|          | 0/2 [00:00<?, ?it/s]"
      ]
     },
     "metadata": {},
     "output_type": "display_data"
    },
    {
     "data": {
      "application/vnd.jupyter.widget-view+json": {
       "model_id": "a17d4762715a4b6e9d0ed0398367f285",
       "version_major": 2,
       "version_minor": 0
      },
      "text/plain": [
       "  0%|          | 0/3 [00:00<?, ?it/s]"
      ]
     },
     "metadata": {},
     "output_type": "display_data"
    },
    {
     "data": {
      "application/vnd.jupyter.widget-view+json": {
       "model_id": "ab1bb68d590a4c949df87d3be37c6ac9",
       "version_major": 2,
       "version_minor": 0
      },
      "text/plain": [
       "  0%|          | 0/3 [00:00<?, ?it/s]"
      ]
     },
     "metadata": {},
     "output_type": "display_data"
    },
    {
     "data": {
      "application/vnd.jupyter.widget-view+json": {
       "model_id": "5af6a32043f44f9782b3cb703bd1a8a6",
       "version_major": 2,
       "version_minor": 0
      },
      "text/plain": [
       "  0%|          | 0/2 [00:00<?, ?it/s]"
      ]
     },
     "metadata": {},
     "output_type": "display_data"
    },
    {
     "data": {
      "application/vnd.jupyter.widget-view+json": {
       "model_id": "34661e93971f475f948900889de7107c",
       "version_major": 2,
       "version_minor": 0
      },
      "text/plain": [
       "  0%|          | 0/3 [00:00<?, ?it/s]"
      ]
     },
     "metadata": {},
     "output_type": "display_data"
    },
    {
     "data": {
      "application/vnd.jupyter.widget-view+json": {
       "model_id": "627d865df574489e8637694af0937286",
       "version_major": 2,
       "version_minor": 0
      },
      "text/plain": [
       "  0%|          | 0/3 [00:00<?, ?it/s]"
      ]
     },
     "metadata": {},
     "output_type": "display_data"
    },
    {
     "data": {
      "application/vnd.jupyter.widget-view+json": {
       "model_id": "2e2b8475f4b04631a2936d9fe0c0dbda",
       "version_major": 2,
       "version_minor": 0
      },
      "text/plain": [
       "  0%|          | 0/1 [00:00<?, ?it/s]"
      ]
     },
     "metadata": {},
     "output_type": "display_data"
    },
    {
     "name": "stdout",
     "output_type": "stream",
     "text": [
      "[INFO] Concatenating the embeddings to the dataframe...\n",
      "[INFO] - columns beginning with 'e' denote the full embddings.\n",
      "[INFO] - columns beginning with 'd' denote the dimension reduced embeddings.\n",
      "[INFO] Adding time feature columns into dataframe in `.df`.\n",
      "[INFO] Adding 'time_encoding' feature...\n",
      "[INFO] Adding 'time_diff' feature...\n",
      "[INFO] Adding 'timeline_index' feature...\n",
      "[INFO] Padding ids and storing in `.df_padded` and `.array_padded` attributes.\n"
     ]
    },
    {
     "data": {
      "application/vnd.jupyter.widget-view+json": {
       "model_id": "5276bc5cf7fd42649dacb73cc38660b6",
       "version_major": 2,
       "version_minor": 0
      },
      "text/plain": [
       "  0%|          | 0/9699 [00:00<?, ?it/s]"
      ]
     },
     "metadata": {},
     "output_type": "display_data"
    },
    {
     "data": {
      "application/vnd.jupyter.widget-view+json": {
       "model_id": "51635a4075aa409c8e2781baacf04fbc",
       "version_major": 2,
       "version_minor": 0
      },
      "text/plain": [
       "  0%|          | 0/4 [00:00<?, ?it/s]"
      ]
     },
     "metadata": {},
     "output_type": "display_data"
    },
    {
     "data": {
      "application/vnd.jupyter.widget-view+json": {
       "model_id": "3e45aaed36c349b2bb8b3aa2fecb46c0",
       "version_major": 2,
       "version_minor": 0
      },
      "text/plain": [
       "  0%|          | 0/2 [00:00<?, ?it/s]"
      ]
     },
     "metadata": {},
     "output_type": "display_data"
    },
    {
     "data": {
      "application/vnd.jupyter.widget-view+json": {
       "model_id": "17515182a5524f68bf2b2ee7321bf910",
       "version_major": 2,
       "version_minor": 0
      },
      "text/plain": [
       "  0%|          | 0/3 [00:00<?, ?it/s]"
      ]
     },
     "metadata": {},
     "output_type": "display_data"
    },
    {
     "data": {
      "application/vnd.jupyter.widget-view+json": {
       "model_id": "7ec0801324d94161a58f3880945b3330",
       "version_major": 2,
       "version_minor": 0
      },
      "text/plain": [
       "  0%|          | 0/3 [00:00<?, ?it/s]"
      ]
     },
     "metadata": {},
     "output_type": "display_data"
    },
    {
     "data": {
      "application/vnd.jupyter.widget-view+json": {
       "model_id": "1a4aa3095a5549fd94cba5a5a82817d8",
       "version_major": 2,
       "version_minor": 0
      },
      "text/plain": [
       "  0%|          | 0/2 [00:00<?, ?it/s]"
      ]
     },
     "metadata": {},
     "output_type": "display_data"
    },
    {
     "data": {
      "application/vnd.jupyter.widget-view+json": {
       "model_id": "66723eb2b5e54174ad670339738dde0c",
       "version_major": 2,
       "version_minor": 0
      },
      "text/plain": [
       "  0%|          | 0/3 [00:00<?, ?it/s]"
      ]
     },
     "metadata": {},
     "output_type": "display_data"
    },
    {
     "data": {
      "application/vnd.jupyter.widget-view+json": {
       "model_id": "3bdd9585778d4b3396a95e4d7247db36",
       "version_major": 2,
       "version_minor": 0
      },
      "text/plain": [
       "  0%|          | 0/3 [00:00<?, ?it/s]"
      ]
     },
     "metadata": {},
     "output_type": "display_data"
    },
    {
     "data": {
      "application/vnd.jupyter.widget-view+json": {
       "model_id": "f558f428c0774212ba67f527e0710d22",
       "version_major": 2,
       "version_minor": 0
      },
      "text/plain": [
       "  0%|          | 0/2 [00:00<?, ?it/s]"
      ]
     },
     "metadata": {},
     "output_type": "display_data"
    },
    {
     "data": {
      "application/vnd.jupyter.widget-view+json": {
       "model_id": "ad70f1977c2d4206a2d48f1a909d9201",
       "version_major": 2,
       "version_minor": 0
      },
      "text/plain": [
       "  0%|          | 0/3 [00:00<?, ?it/s]"
      ]
     },
     "metadata": {},
     "output_type": "display_data"
    },
    {
     "data": {
      "application/vnd.jupyter.widget-view+json": {
       "model_id": "1d565ff0f05a43e7b2a673002564ec60",
       "version_major": 2,
       "version_minor": 0
      },
      "text/plain": [
       "  0%|          | 0/3 [00:00<?, ?it/s]"
      ]
     },
     "metadata": {},
     "output_type": "display_data"
    },
    {
     "data": {
      "application/vnd.jupyter.widget-view+json": {
       "model_id": "999d75ff73b84bb387ee442422bcca30",
       "version_major": 2,
       "version_minor": 0
      },
      "text/plain": [
       "  0%|          | 0/2 [00:00<?, ?it/s]"
      ]
     },
     "metadata": {},
     "output_type": "display_data"
    },
    {
     "data": {
      "application/vnd.jupyter.widget-view+json": {
       "model_id": "4e6373f7596440d4b93ed782c3ce0399",
       "version_major": 2,
       "version_minor": 0
      },
      "text/plain": [
       "  0%|          | 0/3 [00:00<?, ?it/s]"
      ]
     },
     "metadata": {},
     "output_type": "display_data"
    },
    {
     "data": {
      "application/vnd.jupyter.widget-view+json": {
       "model_id": "7b76776fe752446a85bcd982dcb007ab",
       "version_major": 2,
       "version_minor": 0
      },
      "text/plain": [
       "  0%|          | 0/3 [00:00<?, ?it/s]"
      ]
     },
     "metadata": {},
     "output_type": "display_data"
    },
    {
     "data": {
      "application/vnd.jupyter.widget-view+json": {
       "model_id": "3ca268dffb664257821fd48f34b70a88",
       "version_major": 2,
       "version_minor": 0
      },
      "text/plain": [
       "  0%|          | 0/1 [00:00<?, ?it/s]"
      ]
     },
     "metadata": {},
     "output_type": "display_data"
    },
    {
     "name": "stdout",
     "output_type": "stream",
     "text": [
      "[INFO] Concatenating the embeddings to the dataframe...\n",
      "[INFO] - columns beginning with 'e' denote the full embddings.\n",
      "[INFO] - columns beginning with 'd' denote the dimension reduced embeddings.\n",
      "[INFO] Adding time feature columns into dataframe in `.df`.\n",
      "[INFO] Adding 'time_encoding' feature...\n",
      "[INFO] Adding 'time_diff' feature...\n",
      "[INFO] Adding 'timeline_index' feature...\n",
      "[INFO] Padding ids and storing in `.df_padded` and `.array_padded` attributes.\n"
     ]
    },
    {
     "data": {
      "application/vnd.jupyter.widget-view+json": {
       "model_id": "e143e6d964bf43e985d35c820af71cee",
       "version_major": 2,
       "version_minor": 0
      },
      "text/plain": [
       "  0%|          | 0/9699 [00:00<?, ?it/s]"
      ]
     },
     "metadata": {},
     "output_type": "display_data"
    },
    {
     "data": {
      "application/vnd.jupyter.widget-view+json": {
       "model_id": "a00f3fae71404b0da288848a7603dfcf",
       "version_major": 2,
       "version_minor": 0
      },
      "text/plain": [
       "  0%|          | 0/4 [00:00<?, ?it/s]"
      ]
     },
     "metadata": {},
     "output_type": "display_data"
    },
    {
     "data": {
      "application/vnd.jupyter.widget-view+json": {
       "model_id": "f40406604a404371955a58f56299fbff",
       "version_major": 2,
       "version_minor": 0
      },
      "text/plain": [
       "  0%|          | 0/2 [00:00<?, ?it/s]"
      ]
     },
     "metadata": {},
     "output_type": "display_data"
    },
    {
     "data": {
      "application/vnd.jupyter.widget-view+json": {
       "model_id": "08b6d7a3fdf74fee9bb680580b36ffb0",
       "version_major": 2,
       "version_minor": 0
      },
      "text/plain": [
       "  0%|          | 0/3 [00:00<?, ?it/s]"
      ]
     },
     "metadata": {},
     "output_type": "display_data"
    },
    {
     "data": {
      "application/vnd.jupyter.widget-view+json": {
       "model_id": "d83fb42745a241b78abf01f8b9085acc",
       "version_major": 2,
       "version_minor": 0
      },
      "text/plain": [
       "  0%|          | 0/3 [00:00<?, ?it/s]"
      ]
     },
     "metadata": {},
     "output_type": "display_data"
    },
    {
     "data": {
      "application/vnd.jupyter.widget-view+json": {
       "model_id": "474ccb85256d44658d538726f8ce20fc",
       "version_major": 2,
       "version_minor": 0
      },
      "text/plain": [
       "  0%|          | 0/2 [00:00<?, ?it/s]"
      ]
     },
     "metadata": {},
     "output_type": "display_data"
    },
    {
     "data": {
      "application/vnd.jupyter.widget-view+json": {
       "model_id": "5691ab5bd2094f7897235110471bc07b",
       "version_major": 2,
       "version_minor": 0
      },
      "text/plain": [
       "  0%|          | 0/3 [00:00<?, ?it/s]"
      ]
     },
     "metadata": {},
     "output_type": "display_data"
    },
    {
     "data": {
      "application/vnd.jupyter.widget-view+json": {
       "model_id": "55d4c7164f6d4ea58daf462a7cbd9e05",
       "version_major": 2,
       "version_minor": 0
      },
      "text/plain": [
       "  0%|          | 0/3 [00:00<?, ?it/s]"
      ]
     },
     "metadata": {},
     "output_type": "display_data"
    },
    {
     "data": {
      "application/vnd.jupyter.widget-view+json": {
       "model_id": "567f3395f9d04723bffb74db9c16df60",
       "version_major": 2,
       "version_minor": 0
      },
      "text/plain": [
       "  0%|          | 0/2 [00:00<?, ?it/s]"
      ]
     },
     "metadata": {},
     "output_type": "display_data"
    },
    {
     "data": {
      "application/vnd.jupyter.widget-view+json": {
       "model_id": "bd35b4c6ca224588b43465aeceb0c96e",
       "version_major": 2,
       "version_minor": 0
      },
      "text/plain": [
       "  0%|          | 0/3 [00:00<?, ?it/s]"
      ]
     },
     "metadata": {},
     "output_type": "display_data"
    },
    {
     "data": {
      "application/vnd.jupyter.widget-view+json": {
       "model_id": "c608cd8d3a8c4c818b337fb14ecba226",
       "version_major": 2,
       "version_minor": 0
      },
      "text/plain": [
       "  0%|          | 0/3 [00:00<?, ?it/s]"
      ]
     },
     "metadata": {},
     "output_type": "display_data"
    },
    {
     "data": {
      "application/vnd.jupyter.widget-view+json": {
       "model_id": "f72cb0ebaf6449e8bcb8fd636acff0b5",
       "version_major": 2,
       "version_minor": 0
      },
      "text/plain": [
       "  0%|          | 0/2 [00:00<?, ?it/s]"
      ]
     },
     "metadata": {},
     "output_type": "display_data"
    },
    {
     "data": {
      "application/vnd.jupyter.widget-view+json": {
       "model_id": "033bf7dd6bc9455db8203131f7fc051c",
       "version_major": 2,
       "version_minor": 0
      },
      "text/plain": [
       "  0%|          | 0/3 [00:00<?, ?it/s]"
      ]
     },
     "metadata": {},
     "output_type": "display_data"
    },
    {
     "data": {
      "application/vnd.jupyter.widget-view+json": {
       "model_id": "32ad821faab14e48a80ac421dbf96147",
       "version_major": 2,
       "version_minor": 0
      },
      "text/plain": [
       "  0%|          | 0/3 [00:00<?, ?it/s]"
      ]
     },
     "metadata": {},
     "output_type": "display_data"
    },
    {
     "name": "stdout",
     "output_type": "stream",
     "text": [
      "[INFO] Concatenating the embeddings to the dataframe...\n",
      "[INFO] - columns beginning with 'e' denote the full embddings.\n",
      "[INFO] - columns beginning with 'd' denote the dimension reduced embeddings.\n",
      "[INFO] Adding time feature columns into dataframe in `.df`.\n",
      "[INFO] Adding 'time_encoding' feature...\n",
      "[INFO] Adding 'time_diff' feature...\n",
      "[INFO] Adding 'timeline_index' feature...\n",
      "[INFO] Padding ids and storing in `.df_padded` and `.array_padded` attributes.\n"
     ]
    },
    {
     "data": {
      "application/vnd.jupyter.widget-view+json": {
       "model_id": "dc95a6bbfaf74f29bb29e4a0cc1f9c1d",
       "version_major": 2,
       "version_minor": 0
      },
      "text/plain": [
       "  0%|          | 0/9699 [00:00<?, ?it/s]"
      ]
     },
     "metadata": {},
     "output_type": "display_data"
    },
    {
     "name": "stdout",
     "output_type": "stream",
     "text": [
      "saving results dataframe to CSV for this hyperparameter search in client_talk_type_output/ffn_logsignature_grp_focal_2_kfold.csv\n",
      "saving the best model results dataframe to CSV for this hyperparameter search in client_talk_type_output/ffn_logsignature_grp_focal_2_kfold_best_model.csv\n"
     ]
    }
   ],
   "source": [
    "(\n",
    "    ffn_logsignature_grp_kfold,\n",
    "    best_ffn_logsignature_grp_kfold,\n",
    "    _,\n",
    "    __,\n",
    ") = histories_baseline_hyperparameter_search(\n",
    "    num_epochs=num_epochs,\n",
    "    df=anno_mi,\n",
    "    id_column=\"transcript_id\",\n",
    "    label_column=\"client_talk_type\",\n",
    "    embeddings=sbert_embeddings,\n",
    "    y_data=y_data_client,\n",
    "    output_dim=output_dim_client,\n",
    "    hidden_dim_sizes=hidden_dim_sizes,\n",
    "    dropout_rates=dropout_rates,\n",
    "    learning_rates=learning_rates,\n",
    "    use_signatures=True,\n",
    "    seeds=seeds,\n",
    "    loss=loss,\n",
    "    gamma=gamma,\n",
    "    log_signature=True,\n",
    "    dim_reduce_methods=[\"gaussian_random_projection\"],\n",
    "    dimension_and_sig_depths=log_signature_dimensions_and_sig_depths,\n",
    "    path_indices=client_index,\n",
    "    split_ids=client_transcript_id,\n",
    "    k_fold=True,\n",
    "    patience=patience,\n",
    "    validation_metric=validation_metric,\n",
    "    results_output=f\"{output_dir}/ffn_logsignature_grp_focal_{gamma}_kfold.csv\",\n",
    "    verbose=False,\n",
    ")"
   ]
  },
  {
   "cell_type": "code",
   "execution_count": 20,
   "id": "9c137d34",
   "metadata": {},
   "outputs": [
    {
     "name": "stderr",
     "output_type": "stream",
     "text": [
      "/tmp/ipykernel_1995930/2536377135.py:1: FutureWarning: The default value of numeric_only in DataFrameGroupBy.mean is deprecated. In a future version, numeric_only will default to False. Either specify numeric_only or select only columns which should be valid for the function.\n",
      "  ffn_logsignature_grp_kfold.groupby([\"dimension\", \"sig_depth\", \"hidden_dim\", \"dropout_rate\", \"learning_rate\"]).mean()\n"
     ]
    },
    {
     "data": {
      "text/html": [
       "<div>\n",
       "<style scoped>\n",
       "    .dataframe tbody tr th:only-of-type {\n",
       "        vertical-align: middle;\n",
       "    }\n",
       "\n",
       "    .dataframe tbody tr th {\n",
       "        vertical-align: top;\n",
       "    }\n",
       "\n",
       "    .dataframe thead th {\n",
       "        text-align: right;\n",
       "    }\n",
       "</style>\n",
       "<table border=\"1\" class=\"dataframe\">\n",
       "  <thead>\n",
       "    <tr style=\"text-align: right;\">\n",
       "      <th></th>\n",
       "      <th></th>\n",
       "      <th></th>\n",
       "      <th></th>\n",
       "      <th></th>\n",
       "      <th>accuracy</th>\n",
       "      <th>f1</th>\n",
       "      <th>precision</th>\n",
       "      <th>recall</th>\n",
       "      <th>valid_accuracy</th>\n",
       "      <th>valid_f1</th>\n",
       "      <th>valid_precision</th>\n",
       "      <th>valid_recall</th>\n",
       "      <th>seed</th>\n",
       "      <th>gamma</th>\n",
       "      <th>k_fold</th>\n",
       "      <th>n_splits</th>\n",
       "      <th>batch_size</th>\n",
       "      <th>model_id</th>\n",
       "      <th>input_dim</th>\n",
       "      <th>log_signature</th>\n",
       "    </tr>\n",
       "    <tr>\n",
       "      <th>dimension</th>\n",
       "      <th>sig_depth</th>\n",
       "      <th>hidden_dim</th>\n",
       "      <th>dropout_rate</th>\n",
       "      <th>learning_rate</th>\n",
       "      <th></th>\n",
       "      <th></th>\n",
       "      <th></th>\n",
       "      <th></th>\n",
       "      <th></th>\n",
       "      <th></th>\n",
       "      <th></th>\n",
       "      <th></th>\n",
       "      <th></th>\n",
       "      <th></th>\n",
       "      <th></th>\n",
       "      <th></th>\n",
       "      <th></th>\n",
       "      <th></th>\n",
       "      <th></th>\n",
       "      <th></th>\n",
       "    </tr>\n",
       "  </thead>\n",
       "  <tbody>\n",
       "    <tr>\n",
       "      <th rowspan=\"5\" valign=\"top\">6</th>\n",
       "      <th rowspan=\"5\" valign=\"top\">4</th>\n",
       "      <th rowspan=\"5\" valign=\"top\">(64, 64)</th>\n",
       "      <th rowspan=\"3\" valign=\"top\">0.1</th>\n",
       "      <th>0.0001</th>\n",
       "      <td>0.597893</td>\n",
       "      <td>0.491853</td>\n",
       "      <td>0.486613</td>\n",
       "      <td>0.503523</td>\n",
       "      <td>0.714783</td>\n",
       "      <td>0.621405</td>\n",
       "      <td>0.613190</td>\n",
       "      <td>0.632403</td>\n",
       "      <td>45.333333</td>\n",
       "      <td>2.0</td>\n",
       "      <td>1.0</td>\n",
       "      <td>5.0</td>\n",
       "      <td>64.0</td>\n",
       "      <td>2.40</td>\n",
       "      <td>790.0</td>\n",
       "      <td>1.0</td>\n",
       "    </tr>\n",
       "    <tr>\n",
       "      <th>0.0005</th>\n",
       "      <td>0.600128</td>\n",
       "      <td>0.498375</td>\n",
       "      <td>0.491002</td>\n",
       "      <td>0.513577</td>\n",
       "      <td>0.710233</td>\n",
       "      <td>0.619603</td>\n",
       "      <td>0.609907</td>\n",
       "      <td>0.635199</td>\n",
       "      <td>45.333333</td>\n",
       "      <td>2.0</td>\n",
       "      <td>1.0</td>\n",
       "      <td>5.0</td>\n",
       "      <td>64.0</td>\n",
       "      <td>2.50</td>\n",
       "      <td>790.0</td>\n",
       "      <td>1.0</td>\n",
       "    </tr>\n",
       "    <tr>\n",
       "      <th>0.0010</th>\n",
       "      <td>0.602043</td>\n",
       "      <td>0.503431</td>\n",
       "      <td>0.494401</td>\n",
       "      <td>0.522275</td>\n",
       "      <td>0.704078</td>\n",
       "      <td>0.618091</td>\n",
       "      <td>0.606093</td>\n",
       "      <td>0.638646</td>\n",
       "      <td>45.333333</td>\n",
       "      <td>2.0</td>\n",
       "      <td>1.0</td>\n",
       "      <td>5.0</td>\n",
       "      <td>64.0</td>\n",
       "      <td>2.30</td>\n",
       "      <td>790.0</td>\n",
       "      <td>1.0</td>\n",
       "    </tr>\n",
       "    <tr>\n",
       "      <th rowspan=\"2\" valign=\"top\">0.5</th>\n",
       "      <th>0.0001</th>\n",
       "      <td>0.608301</td>\n",
       "      <td>0.492738</td>\n",
       "      <td>0.491095</td>\n",
       "      <td>0.499376</td>\n",
       "      <td>0.713177</td>\n",
       "      <td>0.618569</td>\n",
       "      <td>0.610689</td>\n",
       "      <td>0.628727</td>\n",
       "      <td>45.333333</td>\n",
       "      <td>2.0</td>\n",
       "      <td>1.0</td>\n",
       "      <td>5.0</td>\n",
       "      <td>64.0</td>\n",
       "      <td>2.10</td>\n",
       "      <td>790.0</td>\n",
       "      <td>1.0</td>\n",
       "    </tr>\n",
       "    <tr>\n",
       "      <th>0.0005</th>\n",
       "      <td>0.605109</td>\n",
       "      <td>0.498546</td>\n",
       "      <td>0.492358</td>\n",
       "      <td>0.510995</td>\n",
       "      <td>0.708574</td>\n",
       "      <td>0.617851</td>\n",
       "      <td>0.608265</td>\n",
       "      <td>0.632883</td>\n",
       "      <td>45.333333</td>\n",
       "      <td>2.0</td>\n",
       "      <td>1.0</td>\n",
       "      <td>5.0</td>\n",
       "      <td>64.0</td>\n",
       "      <td>2.20</td>\n",
       "      <td>790.0</td>\n",
       "      <td>1.0</td>\n",
       "    </tr>\n",
       "    <tr>\n",
       "      <th>...</th>\n",
       "      <th>...</th>\n",
       "      <th>...</th>\n",
       "      <th>...</th>\n",
       "      <th>...</th>\n",
       "      <td>...</td>\n",
       "      <td>...</td>\n",
       "      <td>...</td>\n",
       "      <td>...</td>\n",
       "      <td>...</td>\n",
       "      <td>...</td>\n",
       "      <td>...</td>\n",
       "      <td>...</td>\n",
       "      <td>...</td>\n",
       "      <td>...</td>\n",
       "      <td>...</td>\n",
       "      <td>...</td>\n",
       "      <td>...</td>\n",
       "      <td>...</td>\n",
       "      <td>...</td>\n",
       "      <td>...</td>\n",
       "    </tr>\n",
       "    <tr>\n",
       "      <th rowspan=\"5\" valign=\"top\">28</th>\n",
       "      <th rowspan=\"5\" valign=\"top\">2</th>\n",
       "      <th rowspan=\"5\" valign=\"top\">(512, 512)</th>\n",
       "      <th rowspan=\"2\" valign=\"top\">0.1</th>\n",
       "      <th>0.0005</th>\n",
       "      <td>0.591188</td>\n",
       "      <td>0.469971</td>\n",
       "      <td>0.465819</td>\n",
       "      <td>0.480186</td>\n",
       "      <td>0.718315</td>\n",
       "      <td>0.639543</td>\n",
       "      <td>0.626690</td>\n",
       "      <td>0.660186</td>\n",
       "      <td>45.333333</td>\n",
       "      <td>2.0</td>\n",
       "      <td>1.0</td>\n",
       "      <td>5.0</td>\n",
       "      <td>64.0</td>\n",
       "      <td>0.23</td>\n",
       "      <td>790.0</td>\n",
       "      <td>1.0</td>\n",
       "    </tr>\n",
       "    <tr>\n",
       "      <th>0.0010</th>\n",
       "      <td>0.568391</td>\n",
       "      <td>0.466581</td>\n",
       "      <td>0.459939</td>\n",
       "      <td>0.488989</td>\n",
       "      <td>0.710447</td>\n",
       "      <td>0.633605</td>\n",
       "      <td>0.619188</td>\n",
       "      <td>0.656865</td>\n",
       "      <td>45.333333</td>\n",
       "      <td>2.0</td>\n",
       "      <td>1.0</td>\n",
       "      <td>5.0</td>\n",
       "      <td>64.0</td>\n",
       "      <td>0.21</td>\n",
       "      <td>790.0</td>\n",
       "      <td>1.0</td>\n",
       "    </tr>\n",
       "    <tr>\n",
       "      <th rowspan=\"3\" valign=\"top\">0.5</th>\n",
       "      <th>0.0001</th>\n",
       "      <td>0.607152</td>\n",
       "      <td>0.475061</td>\n",
       "      <td>0.474691</td>\n",
       "      <td>0.476326</td>\n",
       "      <td>0.734746</td>\n",
       "      <td>0.655362</td>\n",
       "      <td>0.643974</td>\n",
       "      <td>0.670453</td>\n",
       "      <td>45.333333</td>\n",
       "      <td>2.0</td>\n",
       "      <td>1.0</td>\n",
       "      <td>5.0</td>\n",
       "      <td>64.0</td>\n",
       "      <td>0.19</td>\n",
       "      <td>790.0</td>\n",
       "      <td>1.0</td>\n",
       "    </tr>\n",
       "    <tr>\n",
       "      <th>0.0005</th>\n",
       "      <td>0.578416</td>\n",
       "      <td>0.466988</td>\n",
       "      <td>0.460236</td>\n",
       "      <td>0.481219</td>\n",
       "      <td>0.724791</td>\n",
       "      <td>0.648857</td>\n",
       "      <td>0.634442</td>\n",
       "      <td>0.670966</td>\n",
       "      <td>45.333333</td>\n",
       "      <td>2.0</td>\n",
       "      <td>1.0</td>\n",
       "      <td>5.0</td>\n",
       "      <td>64.0</td>\n",
       "      <td>0.20</td>\n",
       "      <td>790.0</td>\n",
       "      <td>1.0</td>\n",
       "    </tr>\n",
       "    <tr>\n",
       "      <th>0.0010</th>\n",
       "      <td>0.563665</td>\n",
       "      <td>0.457007</td>\n",
       "      <td>0.449914</td>\n",
       "      <td>0.477119</td>\n",
       "      <td>0.718422</td>\n",
       "      <td>0.642885</td>\n",
       "      <td>0.628698</td>\n",
       "      <td>0.666012</td>\n",
       "      <td>45.333333</td>\n",
       "      <td>2.0</td>\n",
       "      <td>1.0</td>\n",
       "      <td>5.0</td>\n",
       "      <td>64.0</td>\n",
       "      <td>0.18</td>\n",
       "      <td>790.0</td>\n",
       "      <td>1.0</td>\n",
       "    </tr>\n",
       "  </tbody>\n",
       "</table>\n",
       "<p>72 rows × 16 columns</p>\n",
       "</div>"
      ],
      "text/plain": [
       "                                                           accuracy        f1  \\\n",
       "dimension sig_depth hidden_dim dropout_rate learning_rate                       \n",
       "6         4         (64, 64)   0.1          0.0001         0.597893  0.491853   \n",
       "                                            0.0005         0.600128  0.498375   \n",
       "                                            0.0010         0.602043  0.503431   \n",
       "                               0.5          0.0001         0.608301  0.492738   \n",
       "                                            0.0005         0.605109  0.498546   \n",
       "...                                                             ...       ...   \n",
       "28        2         (512, 512) 0.1          0.0005         0.591188  0.469971   \n",
       "                                            0.0010         0.568391  0.466581   \n",
       "                               0.5          0.0001         0.607152  0.475061   \n",
       "                                            0.0005         0.578416  0.466988   \n",
       "                                            0.0010         0.563665  0.457007   \n",
       "\n",
       "                                                           precision  \\\n",
       "dimension sig_depth hidden_dim dropout_rate learning_rate              \n",
       "6         4         (64, 64)   0.1          0.0001          0.486613   \n",
       "                                            0.0005          0.491002   \n",
       "                                            0.0010          0.494401   \n",
       "                               0.5          0.0001          0.491095   \n",
       "                                            0.0005          0.492358   \n",
       "...                                                              ...   \n",
       "28        2         (512, 512) 0.1          0.0005          0.465819   \n",
       "                                            0.0010          0.459939   \n",
       "                               0.5          0.0001          0.474691   \n",
       "                                            0.0005          0.460236   \n",
       "                                            0.0010          0.449914   \n",
       "\n",
       "                                                             recall  \\\n",
       "dimension sig_depth hidden_dim dropout_rate learning_rate             \n",
       "6         4         (64, 64)   0.1          0.0001         0.503523   \n",
       "                                            0.0005         0.513577   \n",
       "                                            0.0010         0.522275   \n",
       "                               0.5          0.0001         0.499376   \n",
       "                                            0.0005         0.510995   \n",
       "...                                                             ...   \n",
       "28        2         (512, 512) 0.1          0.0005         0.480186   \n",
       "                                            0.0010         0.488989   \n",
       "                               0.5          0.0001         0.476326   \n",
       "                                            0.0005         0.481219   \n",
       "                                            0.0010         0.477119   \n",
       "\n",
       "                                                           valid_accuracy  \\\n",
       "dimension sig_depth hidden_dim dropout_rate learning_rate                   \n",
       "6         4         (64, 64)   0.1          0.0001               0.714783   \n",
       "                                            0.0005               0.710233   \n",
       "                                            0.0010               0.704078   \n",
       "                               0.5          0.0001               0.713177   \n",
       "                                            0.0005               0.708574   \n",
       "...                                                                   ...   \n",
       "28        2         (512, 512) 0.1          0.0005               0.718315   \n",
       "                                            0.0010               0.710447   \n",
       "                               0.5          0.0001               0.734746   \n",
       "                                            0.0005               0.724791   \n",
       "                                            0.0010               0.718422   \n",
       "\n",
       "                                                           valid_f1  \\\n",
       "dimension sig_depth hidden_dim dropout_rate learning_rate             \n",
       "6         4         (64, 64)   0.1          0.0001         0.621405   \n",
       "                                            0.0005         0.619603   \n",
       "                                            0.0010         0.618091   \n",
       "                               0.5          0.0001         0.618569   \n",
       "                                            0.0005         0.617851   \n",
       "...                                                             ...   \n",
       "28        2         (512, 512) 0.1          0.0005         0.639543   \n",
       "                                            0.0010         0.633605   \n",
       "                               0.5          0.0001         0.655362   \n",
       "                                            0.0005         0.648857   \n",
       "                                            0.0010         0.642885   \n",
       "\n",
       "                                                           valid_precision  \\\n",
       "dimension sig_depth hidden_dim dropout_rate learning_rate                    \n",
       "6         4         (64, 64)   0.1          0.0001                0.613190   \n",
       "                                            0.0005                0.609907   \n",
       "                                            0.0010                0.606093   \n",
       "                               0.5          0.0001                0.610689   \n",
       "                                            0.0005                0.608265   \n",
       "...                                                                    ...   \n",
       "28        2         (512, 512) 0.1          0.0005                0.626690   \n",
       "                                            0.0010                0.619188   \n",
       "                               0.5          0.0001                0.643974   \n",
       "                                            0.0005                0.634442   \n",
       "                                            0.0010                0.628698   \n",
       "\n",
       "                                                           valid_recall  \\\n",
       "dimension sig_depth hidden_dim dropout_rate learning_rate                 \n",
       "6         4         (64, 64)   0.1          0.0001             0.632403   \n",
       "                                            0.0005             0.635199   \n",
       "                                            0.0010             0.638646   \n",
       "                               0.5          0.0001             0.628727   \n",
       "                                            0.0005             0.632883   \n",
       "...                                                                 ...   \n",
       "28        2         (512, 512) 0.1          0.0005             0.660186   \n",
       "                                            0.0010             0.656865   \n",
       "                               0.5          0.0001             0.670453   \n",
       "                                            0.0005             0.670966   \n",
       "                                            0.0010             0.666012   \n",
       "\n",
       "                                                                seed  gamma  \\\n",
       "dimension sig_depth hidden_dim dropout_rate learning_rate                     \n",
       "6         4         (64, 64)   0.1          0.0001         45.333333    2.0   \n",
       "                                            0.0005         45.333333    2.0   \n",
       "                                            0.0010         45.333333    2.0   \n",
       "                               0.5          0.0001         45.333333    2.0   \n",
       "                                            0.0005         45.333333    2.0   \n",
       "...                                                              ...    ...   \n",
       "28        2         (512, 512) 0.1          0.0005         45.333333    2.0   \n",
       "                                            0.0010         45.333333    2.0   \n",
       "                               0.5          0.0001         45.333333    2.0   \n",
       "                                            0.0005         45.333333    2.0   \n",
       "                                            0.0010         45.333333    2.0   \n",
       "\n",
       "                                                           k_fold  n_splits  \\\n",
       "dimension sig_depth hidden_dim dropout_rate learning_rate                     \n",
       "6         4         (64, 64)   0.1          0.0001            1.0       5.0   \n",
       "                                            0.0005            1.0       5.0   \n",
       "                                            0.0010            1.0       5.0   \n",
       "                               0.5          0.0001            1.0       5.0   \n",
       "                                            0.0005            1.0       5.0   \n",
       "...                                                           ...       ...   \n",
       "28        2         (512, 512) 0.1          0.0005            1.0       5.0   \n",
       "                                            0.0010            1.0       5.0   \n",
       "                               0.5          0.0001            1.0       5.0   \n",
       "                                            0.0005            1.0       5.0   \n",
       "                                            0.0010            1.0       5.0   \n",
       "\n",
       "                                                           batch_size  \\\n",
       "dimension sig_depth hidden_dim dropout_rate learning_rate               \n",
       "6         4         (64, 64)   0.1          0.0001               64.0   \n",
       "                                            0.0005               64.0   \n",
       "                                            0.0010               64.0   \n",
       "                               0.5          0.0001               64.0   \n",
       "                                            0.0005               64.0   \n",
       "...                                                               ...   \n",
       "28        2         (512, 512) 0.1          0.0005               64.0   \n",
       "                                            0.0010               64.0   \n",
       "                               0.5          0.0001               64.0   \n",
       "                                            0.0005               64.0   \n",
       "                                            0.0010               64.0   \n",
       "\n",
       "                                                           model_id  \\\n",
       "dimension sig_depth hidden_dim dropout_rate learning_rate             \n",
       "6         4         (64, 64)   0.1          0.0001             2.40   \n",
       "                                            0.0005             2.50   \n",
       "                                            0.0010             2.30   \n",
       "                               0.5          0.0001             2.10   \n",
       "                                            0.0005             2.20   \n",
       "...                                                             ...   \n",
       "28        2         (512, 512) 0.1          0.0005             0.23   \n",
       "                                            0.0010             0.21   \n",
       "                               0.5          0.0001             0.19   \n",
       "                                            0.0005             0.20   \n",
       "                                            0.0010             0.18   \n",
       "\n",
       "                                                           input_dim  \\\n",
       "dimension sig_depth hidden_dim dropout_rate learning_rate              \n",
       "6         4         (64, 64)   0.1          0.0001             790.0   \n",
       "                                            0.0005             790.0   \n",
       "                                            0.0010             790.0   \n",
       "                               0.5          0.0001             790.0   \n",
       "                                            0.0005             790.0   \n",
       "...                                                              ...   \n",
       "28        2         (512, 512) 0.1          0.0005             790.0   \n",
       "                                            0.0010             790.0   \n",
       "                               0.5          0.0001             790.0   \n",
       "                                            0.0005             790.0   \n",
       "                                            0.0010             790.0   \n",
       "\n",
       "                                                           log_signature  \n",
       "dimension sig_depth hidden_dim dropout_rate learning_rate                 \n",
       "6         4         (64, 64)   0.1          0.0001                   1.0  \n",
       "                                            0.0005                   1.0  \n",
       "                                            0.0010                   1.0  \n",
       "                               0.5          0.0001                   1.0  \n",
       "                                            0.0005                   1.0  \n",
       "...                                                                  ...  \n",
       "28        2         (512, 512) 0.1          0.0005                   1.0  \n",
       "                                            0.0010                   1.0  \n",
       "                               0.5          0.0001                   1.0  \n",
       "                                            0.0005                   1.0  \n",
       "                                            0.0010                   1.0  \n",
       "\n",
       "[72 rows x 16 columns]"
      ]
     },
     "execution_count": 20,
     "metadata": {},
     "output_type": "execute_result"
    }
   ],
   "source": [
    "ffn_logsignature_grp_kfold.groupby(\n",
    "    [\"dimension\", \"sig_depth\", \"hidden_dim\", \"dropout_rate\", \"learning_rate\"]\n",
    ").mean()"
   ]
  },
  {
   "cell_type": "code",
   "execution_count": 21,
   "id": "3fc8b08d",
   "metadata": {},
   "outputs": [
    {
     "data": {
      "text/html": [
       "<div>\n",
       "<style scoped>\n",
       "    .dataframe tbody tr th:only-of-type {\n",
       "        vertical-align: middle;\n",
       "    }\n",
       "\n",
       "    .dataframe tbody tr th {\n",
       "        vertical-align: top;\n",
       "    }\n",
       "\n",
       "    .dataframe thead th {\n",
       "        text-align: right;\n",
       "    }\n",
       "</style>\n",
       "<table border=\"1\" class=\"dataframe\">\n",
       "  <thead>\n",
       "    <tr style=\"text-align: right;\">\n",
       "      <th></th>\n",
       "      <th>loss</th>\n",
       "      <th>accuracy</th>\n",
       "      <th>f1</th>\n",
       "      <th>f1_scores</th>\n",
       "      <th>precision</th>\n",
       "      <th>precision_scores</th>\n",
       "      <th>recall</th>\n",
       "      <th>recall_scores</th>\n",
       "      <th>valid_loss</th>\n",
       "      <th>valid_accuracy</th>\n",
       "      <th>...</th>\n",
       "      <th>loss_function</th>\n",
       "      <th>gamma</th>\n",
       "      <th>k_fold</th>\n",
       "      <th>n_splits</th>\n",
       "      <th>batch_size</th>\n",
       "      <th>input_dim</th>\n",
       "      <th>dimension</th>\n",
       "      <th>sig_depth</th>\n",
       "      <th>method</th>\n",
       "      <th>log_signature</th>\n",
       "    </tr>\n",
       "  </thead>\n",
       "  <tbody>\n",
       "    <tr>\n",
       "      <th>0</th>\n",
       "      <td>None</td>\n",
       "      <td>0.609770</td>\n",
       "      <td>0.475558</td>\n",
       "      <td>[0.7417550058892814, 0.39578454332552687, 0.28...</td>\n",
       "      <td>0.474672</td>\n",
       "      <td>[0.7555488902219556, 0.37555555555555553, 0.29...</td>\n",
       "      <td>0.477409</td>\n",
       "      <td>[0.7284557547715442, 0.4183168316831683, 0.285...</td>\n",
       "      <td>None</td>\n",
       "      <td>0.731214</td>\n",
       "      <td>...</td>\n",
       "      <td>focal</td>\n",
       "      <td>2</td>\n",
       "      <td>True</td>\n",
       "      <td>5</td>\n",
       "      <td>64</td>\n",
       "      <td>790</td>\n",
       "      <td>28</td>\n",
       "      <td>2</td>\n",
       "      <td>gaussian_random_projection</td>\n",
       "      <td>True</td>\n",
       "    </tr>\n",
       "    <tr>\n",
       "      <th>0</th>\n",
       "      <td>None</td>\n",
       "      <td>0.612069</td>\n",
       "      <td>0.476802</td>\n",
       "      <td>[0.7418648766963374, 0.3940965297167929, 0.294...</td>\n",
       "      <td>0.476738</td>\n",
       "      <td>[0.7487481590574374, 0.38146718146718145, 0.3]</td>\n",
       "      <td>0.477263</td>\n",
       "      <td>[0.735106998264893, 0.4075907590759076, 0.2890...</td>\n",
       "      <td>None</td>\n",
       "      <td>0.736191</td>\n",
       "      <td>...</td>\n",
       "      <td>focal</td>\n",
       "      <td>2</td>\n",
       "      <td>True</td>\n",
       "      <td>5</td>\n",
       "      <td>64</td>\n",
       "      <td>790</td>\n",
       "      <td>28</td>\n",
       "      <td>2</td>\n",
       "      <td>gaussian_random_projection</td>\n",
       "      <td>True</td>\n",
       "    </tr>\n",
       "    <tr>\n",
       "      <th>0</th>\n",
       "      <td>None</td>\n",
       "      <td>0.599617</td>\n",
       "      <td>0.472822</td>\n",
       "      <td>[0.7317577548005908, 0.37374517374517374, 0.31...</td>\n",
       "      <td>0.472663</td>\n",
       "      <td>[0.7478864734299517, 0.35123367198838895, 0.31...</td>\n",
       "      <td>0.474308</td>\n",
       "      <td>[0.71631000578369, 0.39933993399339934, 0.3072...</td>\n",
       "      <td>None</td>\n",
       "      <td>0.736834</td>\n",
       "      <td>...</td>\n",
       "      <td>focal</td>\n",
       "      <td>2</td>\n",
       "      <td>True</td>\n",
       "      <td>5</td>\n",
       "      <td>64</td>\n",
       "      <td>790</td>\n",
       "      <td>28</td>\n",
       "      <td>2</td>\n",
       "      <td>gaussian_random_projection</td>\n",
       "      <td>True</td>\n",
       "    </tr>\n",
       "  </tbody>\n",
       "</table>\n",
       "<p>3 rows × 30 columns</p>\n",
       "</div>"
      ],
      "text/plain": [
       "   loss  accuracy        f1  \\\n",
       "0  None  0.609770  0.475558   \n",
       "0  None  0.612069  0.476802   \n",
       "0  None  0.599617  0.472822   \n",
       "\n",
       "                                           f1_scores  precision  \\\n",
       "0  [0.7417550058892814, 0.39578454332552687, 0.28...   0.474672   \n",
       "0  [0.7418648766963374, 0.3940965297167929, 0.294...   0.476738   \n",
       "0  [0.7317577548005908, 0.37374517374517374, 0.31...   0.472663   \n",
       "\n",
       "                                    precision_scores    recall  \\\n",
       "0  [0.7555488902219556, 0.37555555555555553, 0.29...  0.477409   \n",
       "0     [0.7487481590574374, 0.38146718146718145, 0.3]  0.477263   \n",
       "0  [0.7478864734299517, 0.35123367198838895, 0.31...  0.474308   \n",
       "\n",
       "                                       recall_scores valid_loss  \\\n",
       "0  [0.7284557547715442, 0.4183168316831683, 0.285...       None   \n",
       "0  [0.735106998264893, 0.4075907590759076, 0.2890...       None   \n",
       "0  [0.71631000578369, 0.39933993399339934, 0.3072...       None   \n",
       "\n",
       "   valid_accuracy  ...  loss_function gamma  k_fold n_splits  batch_size  \\\n",
       "0        0.731214  ...          focal     2    True        5          64   \n",
       "0        0.736191  ...          focal     2    True        5          64   \n",
       "0        0.736834  ...          focal     2    True        5          64   \n",
       "\n",
       "  input_dim dimension  sig_depth                      method  log_signature  \n",
       "0       790        28          2  gaussian_random_projection           True  \n",
       "0       790        28          2  gaussian_random_projection           True  \n",
       "0       790        28          2  gaussian_random_projection           True  \n",
       "\n",
       "[3 rows x 30 columns]"
      ]
     },
     "execution_count": 21,
     "metadata": {},
     "output_type": "execute_result"
    }
   ],
   "source": [
    "best_ffn_logsignature_grp_kfold"
   ]
  },
  {
   "cell_type": "code",
   "execution_count": 22,
   "id": "0ff79def",
   "metadata": {},
   "outputs": [
    {
     "data": {
      "text/plain": [
       "0.4750606366540911"
      ]
     },
     "execution_count": 22,
     "metadata": {},
     "output_type": "execute_result"
    }
   ],
   "source": [
    "best_ffn_logsignature_grp_kfold[\"f1\"].mean()"
   ]
  },
  {
   "cell_type": "code",
   "execution_count": 23,
   "id": "5d58b6c4",
   "metadata": {},
   "outputs": [
    {
     "data": {
      "text/plain": [
       "0.474690922667774"
      ]
     },
     "execution_count": 23,
     "metadata": {},
     "output_type": "execute_result"
    }
   ],
   "source": [
    "best_ffn_logsignature_grp_kfold[\"precision\"].mean()"
   ]
  },
  {
   "cell_type": "code",
   "execution_count": 24,
   "id": "65de0ee4",
   "metadata": {},
   "outputs": [
    {
     "data": {
      "text/plain": [
       "0.47632649615453154"
      ]
     },
     "execution_count": 24,
     "metadata": {},
     "output_type": "execute_result"
    }
   ],
   "source": [
    "best_ffn_logsignature_grp_kfold[\"recall\"].mean()"
   ]
  },
  {
   "cell_type": "code",
   "execution_count": 25,
   "id": "d0301fcf",
   "metadata": {},
   "outputs": [
    {
     "data": {
      "text/plain": [
       "array([0.73845921, 0.38787542, 0.29884728])"
      ]
     },
     "execution_count": 25,
     "metadata": {},
     "output_type": "execute_result"
    }
   ],
   "source": [
    "np.stack(best_ffn_logsignature_grp_kfold[\"f1_scores\"]).mean(axis=0)"
   ]
  },
  {
   "cell_type": "code",
   "execution_count": 26,
   "id": "ee0738ae",
   "metadata": {},
   "outputs": [
    {
     "data": {
      "text/plain": [
       "array([0.75072784, 0.3694188 , 0.30392612])"
      ]
     },
     "execution_count": 26,
     "metadata": {},
     "output_type": "execute_result"
    }
   ],
   "source": [
    "np.stack(best_ffn_logsignature_grp_kfold[\"precision_scores\"]).mean(axis=0)"
   ]
  },
  {
   "cell_type": "code",
   "execution_count": 27,
   "id": "7d4bd7ed",
   "metadata": {},
   "outputs": [
    {
     "data": {
      "text/plain": [
       "array([0.72662425, 0.40841584, 0.29393939])"
      ]
     },
     "execution_count": 27,
     "metadata": {},
     "output_type": "execute_result"
    }
   ],
   "source": [
    "np.stack(best_ffn_logsignature_grp_kfold[\"recall_scores\"]).mean(axis=0)"
   ]
  }
 ],
 "metadata": {
  "kernelspec": {
   "display_name": "nlpsig-networks (Conda)",
   "language": "python",
   "name": "sys_nlpsig-networks"
  },
  "language_info": {
   "codemirror_mode": {
    "name": "ipython",
    "version": 3
   },
   "file_extension": ".py",
   "mimetype": "text/x-python",
   "name": "python",
   "nbconvert_exporter": "python",
   "pygments_lexer": "ipython3",
   "version": "3.8.17"
  }
 },
 "nbformat": 4,
 "nbformat_minor": 5
}
