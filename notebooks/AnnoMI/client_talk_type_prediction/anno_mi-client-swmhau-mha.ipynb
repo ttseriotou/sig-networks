{
 "cells": [
  {
   "cell_type": "code",
   "execution_count": 1,
   "id": "a983a5e8",
   "metadata": {},
   "outputs": [],
   "source": [
    "import numpy as np\n",
    "import pickle\n",
    "import os\n",
    "\n",
    "seed = 2023"
   ]
  },
  {
   "cell_type": "code",
   "execution_count": 2,
   "id": "31866562-4774-4b9e-9dab-1018ff28ae3e",
   "metadata": {},
   "outputs": [
    {
     "data": {
      "text/plain": [
       "device(type='cuda')"
      ]
     },
     "execution_count": 2,
     "metadata": {},
     "output_type": "execute_result"
    }
   ],
   "source": [
    "import torch\n",
    "\n",
    "# set device\n",
    "device = torch.device(\"cuda\" if torch.cuda.is_available() else \"cpu\")\n",
    "device"
   ]
  },
  {
   "cell_type": "code",
   "execution_count": 3,
   "id": "47c7fd57",
   "metadata": {},
   "outputs": [],
   "source": [
    "from nlpsig_networks.scripts.seqsignet_full_attention_functions import seqsignet_full_attention_hyperparameter_search"
   ]
  },
  {
   "cell_type": "code",
   "execution_count": 4,
   "id": "6e918dde",
   "metadata": {},
   "outputs": [],
   "source": [
    "output_dir = \"client_talk_type_output\"\n",
    "if not os.path.isdir(output_dir):\n",
    "    os.makedirs(output_dir)"
   ]
  },
  {
   "cell_type": "markdown",
   "id": "f7409a03",
   "metadata": {},
   "source": [
    "## AnnoMI"
   ]
  },
  {
   "cell_type": "code",
   "execution_count": 5,
   "id": "f00bb922",
   "metadata": {},
   "outputs": [],
   "source": [
    "%run ../load_anno_mi.py"
   ]
  },
  {
   "cell_type": "code",
   "execution_count": 6,
   "id": "720d820f",
   "metadata": {},
   "outputs": [
    {
     "data": {
      "text/html": [
       "<div>\n",
       "<style scoped>\n",
       "    .dataframe tbody tr th:only-of-type {\n",
       "        vertical-align: middle;\n",
       "    }\n",
       "\n",
       "    .dataframe tbody tr th {\n",
       "        vertical-align: top;\n",
       "    }\n",
       "\n",
       "    .dataframe thead th {\n",
       "        text-align: right;\n",
       "    }\n",
       "</style>\n",
       "<table border=\"1\" class=\"dataframe\">\n",
       "  <thead>\n",
       "    <tr style=\"text-align: right;\">\n",
       "      <th></th>\n",
       "      <th>mi_quality</th>\n",
       "      <th>transcript_id</th>\n",
       "      <th>topic</th>\n",
       "      <th>utterance_id</th>\n",
       "      <th>interlocutor</th>\n",
       "      <th>timestamp</th>\n",
       "      <th>utterance_text</th>\n",
       "      <th>annotator_id</th>\n",
       "      <th>therapist_input_exists</th>\n",
       "      <th>therapist_input_subtype</th>\n",
       "      <th>reflection_exists</th>\n",
       "      <th>reflection_subtype</th>\n",
       "      <th>question_exists</th>\n",
       "      <th>question_subtype</th>\n",
       "      <th>main_therapist_behaviour</th>\n",
       "      <th>client_talk_type</th>\n",
       "      <th>datetime</th>\n",
       "      <th>speaker</th>\n",
       "    </tr>\n",
       "  </thead>\n",
       "  <tbody>\n",
       "    <tr>\n",
       "      <th>0</th>\n",
       "      <td>high</td>\n",
       "      <td>0</td>\n",
       "      <td>reducing alcohol consumption</td>\n",
       "      <td>0</td>\n",
       "      <td>therapist</td>\n",
       "      <td>00:00:13</td>\n",
       "      <td>Thanks for filling it out. We give this form t...</td>\n",
       "      <td>3</td>\n",
       "      <td>False</td>\n",
       "      <td>NaN</td>\n",
       "      <td>False</td>\n",
       "      <td>NaN</td>\n",
       "      <td>True</td>\n",
       "      <td>open</td>\n",
       "      <td>question</td>\n",
       "      <td>NaN</td>\n",
       "      <td>2023-10-03 00:00:13</td>\n",
       "      <td>-1</td>\n",
       "    </tr>\n",
       "    <tr>\n",
       "      <th>1</th>\n",
       "      <td>high</td>\n",
       "      <td>0</td>\n",
       "      <td>reducing alcohol consumption</td>\n",
       "      <td>1</td>\n",
       "      <td>client</td>\n",
       "      <td>00:00:24</td>\n",
       "      <td>Sure.</td>\n",
       "      <td>3</td>\n",
       "      <td>NaN</td>\n",
       "      <td>NaN</td>\n",
       "      <td>NaN</td>\n",
       "      <td>NaN</td>\n",
       "      <td>NaN</td>\n",
       "      <td>NaN</td>\n",
       "      <td>NaN</td>\n",
       "      <td>neutral</td>\n",
       "      <td>2023-10-03 00:00:24</td>\n",
       "      <td>1</td>\n",
       "    </tr>\n",
       "    <tr>\n",
       "      <th>2</th>\n",
       "      <td>high</td>\n",
       "      <td>0</td>\n",
       "      <td>reducing alcohol consumption</td>\n",
       "      <td>2</td>\n",
       "      <td>therapist</td>\n",
       "      <td>00:00:25</td>\n",
       "      <td>So, let's see. It looks that you put-- You dri...</td>\n",
       "      <td>3</td>\n",
       "      <td>True</td>\n",
       "      <td>information</td>\n",
       "      <td>False</td>\n",
       "      <td>NaN</td>\n",
       "      <td>False</td>\n",
       "      <td>NaN</td>\n",
       "      <td>therapist_input</td>\n",
       "      <td>NaN</td>\n",
       "      <td>2023-10-03 00:00:25</td>\n",
       "      <td>-1</td>\n",
       "    </tr>\n",
       "    <tr>\n",
       "      <th>3</th>\n",
       "      <td>high</td>\n",
       "      <td>0</td>\n",
       "      <td>reducing alcohol consumption</td>\n",
       "      <td>3</td>\n",
       "      <td>client</td>\n",
       "      <td>00:00:34</td>\n",
       "      <td>Mm-hmm.</td>\n",
       "      <td>3</td>\n",
       "      <td>NaN</td>\n",
       "      <td>NaN</td>\n",
       "      <td>NaN</td>\n",
       "      <td>NaN</td>\n",
       "      <td>NaN</td>\n",
       "      <td>NaN</td>\n",
       "      <td>NaN</td>\n",
       "      <td>neutral</td>\n",
       "      <td>2023-10-03 00:00:34</td>\n",
       "      <td>1</td>\n",
       "    </tr>\n",
       "    <tr>\n",
       "      <th>4</th>\n",
       "      <td>high</td>\n",
       "      <td>0</td>\n",
       "      <td>reducing alcohol consumption</td>\n",
       "      <td>4</td>\n",
       "      <td>therapist</td>\n",
       "      <td>00:00:34</td>\n",
       "      <td>-and you usually have three to four drinks whe...</td>\n",
       "      <td>3</td>\n",
       "      <td>True</td>\n",
       "      <td>information</td>\n",
       "      <td>False</td>\n",
       "      <td>NaN</td>\n",
       "      <td>False</td>\n",
       "      <td>NaN</td>\n",
       "      <td>therapist_input</td>\n",
       "      <td>NaN</td>\n",
       "      <td>2023-10-03 00:00:34</td>\n",
       "      <td>-1</td>\n",
       "    </tr>\n",
       "  </tbody>\n",
       "</table>\n",
       "</div>"
      ],
      "text/plain": [
       "  mi_quality  transcript_id                         topic  utterance_id  \\\n",
       "0       high              0  reducing alcohol consumption             0   \n",
       "1       high              0  reducing alcohol consumption             1   \n",
       "2       high              0  reducing alcohol consumption             2   \n",
       "3       high              0  reducing alcohol consumption             3   \n",
       "4       high              0  reducing alcohol consumption             4   \n",
       "\n",
       "  interlocutor timestamp                                     utterance_text  \\\n",
       "0    therapist  00:00:13  Thanks for filling it out. We give this form t...   \n",
       "1       client  00:00:24                                              Sure.   \n",
       "2    therapist  00:00:25  So, let's see. It looks that you put-- You dri...   \n",
       "3       client  00:00:34                                            Mm-hmm.   \n",
       "4    therapist  00:00:34  -and you usually have three to four drinks whe...   \n",
       "\n",
       "   annotator_id therapist_input_exists therapist_input_subtype  \\\n",
       "0             3                  False                     NaN   \n",
       "1             3                    NaN                     NaN   \n",
       "2             3                   True             information   \n",
       "3             3                    NaN                     NaN   \n",
       "4             3                   True             information   \n",
       "\n",
       "  reflection_exists reflection_subtype question_exists question_subtype  \\\n",
       "0             False                NaN            True             open   \n",
       "1               NaN                NaN             NaN              NaN   \n",
       "2             False                NaN           False              NaN   \n",
       "3               NaN                NaN             NaN              NaN   \n",
       "4             False                NaN           False              NaN   \n",
       "\n",
       "  main_therapist_behaviour client_talk_type            datetime  speaker  \n",
       "0                 question              NaN 2023-10-03 00:00:13       -1  \n",
       "1                      NaN          neutral 2023-10-03 00:00:24        1  \n",
       "2          therapist_input              NaN 2023-10-03 00:00:25       -1  \n",
       "3                      NaN          neutral 2023-10-03 00:00:34        1  \n",
       "4          therapist_input              NaN 2023-10-03 00:00:34       -1  "
      ]
     },
     "execution_count": 6,
     "metadata": {},
     "output_type": "execute_result"
    }
   ],
   "source": [
    "anno_mi.head()"
   ]
  },
  {
   "cell_type": "code",
   "execution_count": 7,
   "id": "84d5594d",
   "metadata": {},
   "outputs": [
    {
     "data": {
      "text/plain": [
       "(9699, 384)"
      ]
     },
     "execution_count": 7,
     "metadata": {},
     "output_type": "execute_result"
    }
   ],
   "source": [
    "with open(\"../anno_mi_sbert.pkl\", \"rb\") as f:\n",
    "    sbert_embeddings = pickle.load(f)\n",
    "\n",
    "sbert_embeddings.shape"
   ]
  },
  {
   "cell_type": "code",
   "execution_count": 8,
   "id": "4daab8de",
   "metadata": {},
   "outputs": [],
   "source": [
    "features = [\"timeline_index\", \"speaker\"]\n",
    "standardise_method = [None, None]\n",
    "include_features_in_path = True\n",
    "include_features_in_input = False"
   ]
  },
  {
   "cell_type": "code",
   "execution_count": 9,
   "id": "1f5e3893",
   "metadata": {},
   "outputs": [],
   "source": [
    "num_epochs = 100\n",
    "dimensions = [15]  # [50, 15]\n",
    "swmhau_parameters = [(12, 3, 10), (8, 4, 6)]#, (8, 4, 12)]\n",
    "num_layers = [1]\n",
    "ffn_hidden_dim_sizes = [[256,256],[512,512]]\n",
    "dropout_rates = [0.1, 0.2]\n",
    "learning_rates = [1e-3, 1e-4, 5e-4]\n",
    "seeds = [1, 12, 123]\n",
    "loss = \"focal\"\n",
    "gamma = 2\n",
    "validation_metric = \"f1\"\n",
    "patience = 5"
   ]
  },
  {
   "cell_type": "code",
   "execution_count": 10,
   "id": "1c7c7a5c-8dc0-49c6-a43f-d2403bbbc057",
   "metadata": {},
   "outputs": [],
   "source": [
    "kwargs = {\n",
    "    \"num_epochs\": num_epochs,\n",
    "    \"df\": anno_mi,\n",
    "    \"id_column\": \"transcript_id\",\n",
    "    \"label_column\": \"client_talk_type\",\n",
    "    \"embeddings\": sbert_embeddings,\n",
    "    \"y_data\": y_data_client,\n",
    "    \"output_dim\": output_dim_client,\n",
    "    \"dimensions\": dimensions,\n",
    "    \"log_signature\": True,\n",
    "    \"swmhau_parameters\": swmhau_parameters,\n",
    "    \"num_layers\": num_layers,\n",
    "    \"ffn_hidden_dim_sizes\": ffn_hidden_dim_sizes,\n",
    "    \"dropout_rates\": dropout_rates,\n",
    "    \"learning_rates\": learning_rates,\n",
    "    \"seeds\": seeds,\n",
    "    \"loss\": loss,\n",
    "    \"gamma\": gamma,\n",
    "    \"device\": device,\n",
    "    \"features\": features,\n",
    "    \"standardise_method\": standardise_method,\n",
    "    \"include_features_in_path\": include_features_in_path,\n",
    "    \"include_features_in_input\": include_features_in_input,\n",
    "    \"path_indices\": client_index,\n",
    "    \"split_ids\": client_transcript_id,\n",
    "    \"k_fold\": True,\n",
    "    \"patience\": patience,\n",
    "    \"validation_metric\": validation_metric,\n",
    "    \"verbose\": False,\n",
    "}"
   ]
  },
  {
   "cell_type": "markdown",
   "id": "4dbfefaa-f4c6-47f2-b159-d10b705de7ff",
   "metadata": {
    "jp-MarkdownHeadingCollapsed": true,
    "tags": []
   },
   "source": [
    "# history_length=11"
   ]
  },
  {
   "cell_type": "code",
   "execution_count": 11,
   "id": "d276859d-299b-48b1-a7cb-e0dc898498ab",
   "metadata": {},
   "outputs": [],
   "source": [
    "shift = 3\n",
    "window_size = 5\n",
    "n = 3"
   ]
  },
  {
   "cell_type": "code",
   "execution_count": 12,
   "id": "aa2b936d-c59d-469e-a99b-2c18a2973da7",
   "metadata": {
    "tags": []
   },
   "outputs": [
    {
     "data": {
      "application/vnd.jupyter.widget-view+json": {
       "model_id": "68576eb1a94444f689f698da6dcf97ce",
       "version_major": 2,
       "version_minor": 0
      },
      "text/plain": [
       "  0%|          | 0/1 [00:00<?, ?it/s]"
      ]
     },
     "metadata": {},
     "output_type": "display_data"
    },
    {
     "data": {
      "application/vnd.jupyter.widget-view+json": {
       "model_id": "b57c0a3e5eaf45db9bb6c9fddcac2a2e",
       "version_major": 2,
       "version_minor": 0
      },
      "text/plain": [
       "  0%|          | 0/1 [00:00<?, ?it/s]"
      ]
     },
     "metadata": {},
     "output_type": "display_data"
    },
    {
     "name": "stdout",
     "output_type": "stream",
     "text": [
      "\n",
      "##################################################\n",
      "dimension: 15 | method: umap\n",
      "given shift 3, window size 5 and n 3: history length = 11\n",
      "[INFO] Concatenating the embeddings to the dataframe...\n",
      "[INFO] - columns beginning with 'e' denote the full embddings.\n",
      "[INFO] - columns beginning with 'd' denote the dimension reduced embeddings.\n",
      "[INFO] Adding time feature columns into dataframe in `.df`.\n",
      "[INFO] Adding 'time_encoding' feature...\n",
      "[INFO] Adding 'time_diff' feature...\n",
      "[INFO] Adding 'timeline_index' feature...\n",
      "[INFO] Padding ids and storing in `.df_padded` and `.array_padded` attributes.\n"
     ]
    },
    {
     "data": {
      "application/vnd.jupyter.widget-view+json": {
       "model_id": "51fd1ff1ef2c45699eaf9ad1c58e4c7b",
       "version_major": 2,
       "version_minor": 0
      },
      "text/plain": [
       "  0%|          | 0/9699 [00:00<?, ?it/s]"
      ]
     },
     "metadata": {},
     "output_type": "display_data"
    },
    {
     "name": "stdout",
     "output_type": "stream",
     "text": [
      "[INFO] The path was created for each item in the dataframe, by looking at its history, so to include embeddings in the FFN input, we concatenate the embeddings for each sentence / text.\n"
     ]
    },
    {
     "data": {
      "application/vnd.jupyter.widget-view+json": {
       "model_id": "56878b5135e1415c8276ed537b6699c0",
       "version_major": 2,
       "version_minor": 0
      },
      "text/plain": [
       "  0%|          | 0/2 [00:00<?, ?it/s]"
      ]
     },
     "metadata": {},
     "output_type": "display_data"
    },
    {
     "data": {
      "application/vnd.jupyter.widget-view+json": {
       "model_id": "76ba9b06307f4b7d93df12ac0476b90d",
       "version_major": 2,
       "version_minor": 0
      },
      "text/plain": [
       "  0%|          | 0/1 [00:00<?, ?it/s]"
      ]
     },
     "metadata": {},
     "output_type": "display_data"
    },
    {
     "data": {
      "application/vnd.jupyter.widget-view+json": {
       "model_id": "d68d4788d48640ca8d2e878595919cc6",
       "version_major": 2,
       "version_minor": 0
      },
      "text/plain": [
       "  0%|          | 0/2 [00:00<?, ?it/s]"
      ]
     },
     "metadata": {},
     "output_type": "display_data"
    },
    {
     "data": {
      "application/vnd.jupyter.widget-view+json": {
       "model_id": "67c64db5e2734986b0a9214866d9a2ca",
       "version_major": 2,
       "version_minor": 0
      },
      "text/plain": [
       "  0%|          | 0/2 [00:00<?, ?it/s]"
      ]
     },
     "metadata": {},
     "output_type": "display_data"
    },
    {
     "data": {
      "application/vnd.jupyter.widget-view+json": {
       "model_id": "fd19fb02d3b24b53952309ec2aebc2be",
       "version_major": 2,
       "version_minor": 0
      },
      "text/plain": [
       "  0%|          | 0/3 [00:00<?, ?it/s]"
      ]
     },
     "metadata": {},
     "output_type": "display_data"
    },
    {
     "data": {
      "application/vnd.jupyter.widget-view+json": {
       "model_id": "028ec3af49f24252a0fb599f5d4adf29",
       "version_major": 2,
       "version_minor": 0
      },
      "text/plain": [
       "  0%|          | 0/3 [00:00<?, ?it/s]"
      ]
     },
     "metadata": {},
     "output_type": "display_data"
    },
    {
     "data": {
      "application/vnd.jupyter.widget-view+json": {
       "model_id": "1892e346783b41879fb995782fe6ddd6",
       "version_major": 2,
       "version_minor": 0
      },
      "text/plain": [
       "  0%|          | 0/2 [00:00<?, ?it/s]"
      ]
     },
     "metadata": {},
     "output_type": "display_data"
    },
    {
     "data": {
      "application/vnd.jupyter.widget-view+json": {
       "model_id": "41fff374857141a690fac7702ef5589b",
       "version_major": 2,
       "version_minor": 0
      },
      "text/plain": [
       "  0%|          | 0/3 [00:00<?, ?it/s]"
      ]
     },
     "metadata": {},
     "output_type": "display_data"
    },
    {
     "data": {
      "application/vnd.jupyter.widget-view+json": {
       "model_id": "596079851da34131934a8552f4b7b1ee",
       "version_major": 2,
       "version_minor": 0
      },
      "text/plain": [
       "  0%|          | 0/3 [00:00<?, ?it/s]"
      ]
     },
     "metadata": {},
     "output_type": "display_data"
    },
    {
     "data": {
      "application/vnd.jupyter.widget-view+json": {
       "model_id": "25efd16e9ed34f1a8a3f7fc490e0c7ff",
       "version_major": 2,
       "version_minor": 0
      },
      "text/plain": [
       "  0%|          | 0/1 [00:00<?, ?it/s]"
      ]
     },
     "metadata": {},
     "output_type": "display_data"
    },
    {
     "data": {
      "application/vnd.jupyter.widget-view+json": {
       "model_id": "763d3336665c4971a4540375af89d07b",
       "version_major": 2,
       "version_minor": 0
      },
      "text/plain": [
       "  0%|          | 0/2 [00:00<?, ?it/s]"
      ]
     },
     "metadata": {},
     "output_type": "display_data"
    },
    {
     "data": {
      "application/vnd.jupyter.widget-view+json": {
       "model_id": "fafed253766c46b3993e99b6d777f175",
       "version_major": 2,
       "version_minor": 0
      },
      "text/plain": [
       "  0%|          | 0/2 [00:00<?, ?it/s]"
      ]
     },
     "metadata": {},
     "output_type": "display_data"
    },
    {
     "data": {
      "application/vnd.jupyter.widget-view+json": {
       "model_id": "2d7d942d12854947a6faef35452b9afd",
       "version_major": 2,
       "version_minor": 0
      },
      "text/plain": [
       "  0%|          | 0/3 [00:00<?, ?it/s]"
      ]
     },
     "metadata": {},
     "output_type": "display_data"
    },
    {
     "data": {
      "application/vnd.jupyter.widget-view+json": {
       "model_id": "7e8de91feee64d20b6499ec39bced838",
       "version_major": 2,
       "version_minor": 0
      },
      "text/plain": [
       "  0%|          | 0/3 [00:00<?, ?it/s]"
      ]
     },
     "metadata": {},
     "output_type": "display_data"
    },
    {
     "data": {
      "application/vnd.jupyter.widget-view+json": {
       "model_id": "afc2a891e6f1435f8743f5961462bf28",
       "version_major": 2,
       "version_minor": 0
      },
      "text/plain": [
       "  0%|          | 0/2 [00:00<?, ?it/s]"
      ]
     },
     "metadata": {},
     "output_type": "display_data"
    },
    {
     "data": {
      "application/vnd.jupyter.widget-view+json": {
       "model_id": "b621e4f601e442a3981cbcc2728a90b8",
       "version_major": 2,
       "version_minor": 0
      },
      "text/plain": [
       "  0%|          | 0/3 [00:00<?, ?it/s]"
      ]
     },
     "metadata": {},
     "output_type": "display_data"
    },
    {
     "data": {
      "application/vnd.jupyter.widget-view+json": {
       "model_id": "b73deb6f73ac461a90a575e43719115d",
       "version_major": 2,
       "version_minor": 0
      },
      "text/plain": [
       "  0%|          | 0/3 [00:00<?, ?it/s]"
      ]
     },
     "metadata": {},
     "output_type": "display_data"
    },
    {
     "name": "stdout",
     "output_type": "stream",
     "text": [
      "given shift 3, window size 5 and n 3: history length = 11\n",
      "[INFO] Concatenating the embeddings to the dataframe...\n",
      "[INFO] - columns beginning with 'e' denote the full embddings.\n",
      "[INFO] - columns beginning with 'd' denote the dimension reduced embeddings.\n",
      "[INFO] Adding time feature columns into dataframe in `.df`.\n",
      "[INFO] Adding 'time_encoding' feature...\n",
      "[INFO] Adding 'time_diff' feature...\n",
      "[INFO] Adding 'timeline_index' feature...\n",
      "[INFO] Padding ids and storing in `.df_padded` and `.array_padded` attributes.\n"
     ]
    },
    {
     "data": {
      "application/vnd.jupyter.widget-view+json": {
       "model_id": "dd759aeb14ee44b6b145073d22708961",
       "version_major": 2,
       "version_minor": 0
      },
      "text/plain": [
       "  0%|          | 0/9699 [00:00<?, ?it/s]"
      ]
     },
     "metadata": {},
     "output_type": "display_data"
    },
    {
     "name": "stdout",
     "output_type": "stream",
     "text": [
      "[INFO] The path was created for each item in the dataframe, by looking at its history, so to include embeddings in the FFN input, we concatenate the embeddings for each sentence / text.\n",
      "saving results dataframe to CSV for this hyperparameter search in client_talk_type_output/seqsignet_attention_mha_umap_focal_2_3_5_3_kfold.csv\n",
      "saving the best model results dataframe to CSV for this hyperparameter search in client_talk_type_output/seqsignet_attention_mha_umap_focal_2_3_5_3_kfold_best_model.csv\n"
     ]
    }
   ],
   "source": [
    "(\n",
    "    seqsignet_attention_mha_umap_kfold_11,\n",
    "    best_seqsignet_attention_mha_umap_kfold_11,\n",
    "    _,\n",
    "    __,\n",
    ") = seqsignet_full_attention_hyperparameter_search(\n",
    "    shift=shift,\n",
    "    window_size=window_size,\n",
    "    n=n,\n",
    "    dim_reduce_methods=[\"umap\"],\n",
    "    results_output=f\"{output_dir}/seqsignet_attention_mha_umap_focal_{gamma}_{shift}_{window_size}_{n}_kfold.csv\",\n",
    "    **kwargs,\n",
    ")"
   ]
  },
  {
   "cell_type": "code",
   "execution_count": 13,
   "id": "82e7c137-64ae-4b99-adf1-73388c2055c7",
   "metadata": {},
   "outputs": [
    {
     "data": {
      "text/html": [
       "<div>\n",
       "<style scoped>\n",
       "    .dataframe tbody tr th:only-of-type {\n",
       "        vertical-align: middle;\n",
       "    }\n",
       "\n",
       "    .dataframe tbody tr th {\n",
       "        vertical-align: top;\n",
       "    }\n",
       "\n",
       "    .dataframe thead th {\n",
       "        text-align: right;\n",
       "    }\n",
       "</style>\n",
       "<table border=\"1\" class=\"dataframe\">\n",
       "  <thead>\n",
       "    <tr style=\"text-align: right;\">\n",
       "      <th></th>\n",
       "      <th>loss</th>\n",
       "      <th>accuracy</th>\n",
       "      <th>f1</th>\n",
       "      <th>f1_scores</th>\n",
       "      <th>precision</th>\n",
       "      <th>precision_scores</th>\n",
       "      <th>recall</th>\n",
       "      <th>recall_scores</th>\n",
       "      <th>valid_loss</th>\n",
       "      <th>valid_accuracy</th>\n",
       "      <th>...</th>\n",
       "      <th>seed</th>\n",
       "      <th>loss_function</th>\n",
       "      <th>gamma</th>\n",
       "      <th>k_fold</th>\n",
       "      <th>n_splits</th>\n",
       "      <th>augmentation_type</th>\n",
       "      <th>hidden_dim_aug</th>\n",
       "      <th>comb_method</th>\n",
       "      <th>batch_size</th>\n",
       "      <th>model_id</th>\n",
       "    </tr>\n",
       "  </thead>\n",
       "  <tbody>\n",
       "    <tr>\n",
       "      <th>0</th>\n",
       "      <td>None</td>\n",
       "      <td>0.645594</td>\n",
       "      <td>0.515260</td>\n",
       "      <td>[0.7709431751611013, 0.4511840465309514, 0.323...</td>\n",
       "      <td>0.511037</td>\n",
       "      <td>[0.7810089020771513, 0.45439330543933054, 0.29...</td>\n",
       "      <td>0.521233</td>\n",
       "      <td>[0.7611336032388664, 0.44801980198019803, 0.35...</td>\n",
       "      <td>None</td>\n",
       "      <td>0.658478</td>\n",
       "      <td>...</td>\n",
       "      <td>1</td>\n",
       "      <td>focal</td>\n",
       "      <td>2</td>\n",
       "      <td>True</td>\n",
       "      <td>5</td>\n",
       "      <td>Conv1d</td>\n",
       "      <td>None</td>\n",
       "      <td>concatenation</td>\n",
       "      <td>64</td>\n",
       "      <td>0</td>\n",
       "    </tr>\n",
       "    <tr>\n",
       "      <th>0</th>\n",
       "      <td>None</td>\n",
       "      <td>0.641188</td>\n",
       "      <td>0.517020</td>\n",
       "      <td>[0.7687997640813918, 0.4445414847161572, 0.337...</td>\n",
       "      <td>0.512954</td>\n",
       "      <td>[0.7842960288808665, 0.47217068645640076, 0.28...</td>\n",
       "      <td>0.531290</td>\n",
       "      <td>[0.753903990746096, 0.41996699669966997, 0.42]</td>\n",
       "      <td>None</td>\n",
       "      <td>0.667148</td>\n",
       "      <td>...</td>\n",
       "      <td>12</td>\n",
       "      <td>focal</td>\n",
       "      <td>2</td>\n",
       "      <td>True</td>\n",
       "      <td>5</td>\n",
       "      <td>Conv1d</td>\n",
       "      <td>None</td>\n",
       "      <td>concatenation</td>\n",
       "      <td>64</td>\n",
       "      <td>0</td>\n",
       "    </tr>\n",
       "    <tr>\n",
       "      <th>0</th>\n",
       "      <td>None</td>\n",
       "      <td>0.649808</td>\n",
       "      <td>0.517789</td>\n",
       "      <td>[0.775892334698654, 0.453377538334024, 0.32409...</td>\n",
       "      <td>0.513875</td>\n",
       "      <td>[0.7850799289520426, 0.45545378850957535, 0.30...</td>\n",
       "      <td>0.523049</td>\n",
       "      <td>[0.7669172932330827, 0.4513201320132013, 0.350...</td>\n",
       "      <td>None</td>\n",
       "      <td>0.669236</td>\n",
       "      <td>...</td>\n",
       "      <td>123</td>\n",
       "      <td>focal</td>\n",
       "      <td>2</td>\n",
       "      <td>True</td>\n",
       "      <td>5</td>\n",
       "      <td>Conv1d</td>\n",
       "      <td>None</td>\n",
       "      <td>concatenation</td>\n",
       "      <td>64</td>\n",
       "      <td>0</td>\n",
       "    </tr>\n",
       "    <tr>\n",
       "      <th>0</th>\n",
       "      <td>None</td>\n",
       "      <td>0.620881</td>\n",
       "      <td>0.442699</td>\n",
       "      <td>[0.7602836879432624, 0.3857949959644875, 0.182...</td>\n",
       "      <td>0.450984</td>\n",
       "      <td>[0.7461024498886414, 0.37756714060031593, 0.22...</td>\n",
       "      <td>0.440104</td>\n",
       "      <td>[0.7750144592249856, 0.3943894389438944, 0.150...</td>\n",
       "      <td>None</td>\n",
       "      <td>0.644348</td>\n",
       "      <td>...</td>\n",
       "      <td>1</td>\n",
       "      <td>focal</td>\n",
       "      <td>2</td>\n",
       "      <td>True</td>\n",
       "      <td>5</td>\n",
       "      <td>Conv1d</td>\n",
       "      <td>None</td>\n",
       "      <td>concatenation</td>\n",
       "      <td>64</td>\n",
       "      <td>1</td>\n",
       "    </tr>\n",
       "    <tr>\n",
       "      <th>0</th>\n",
       "      <td>None</td>\n",
       "      <td>0.602682</td>\n",
       "      <td>0.444819</td>\n",
       "      <td>[0.7475183426845058, 0.34862385321100914, 0.23...</td>\n",
       "      <td>0.445505</td>\n",
       "      <td>[0.743773260807329, 0.3524451939291737, 0.2402...</td>\n",
       "      <td>0.444183</td>\n",
       "      <td>[0.7513013302486987, 0.3448844884488449, 0.236...</td>\n",
       "      <td>None</td>\n",
       "      <td>0.628934</td>\n",
       "      <td>...</td>\n",
       "      <td>12</td>\n",
       "      <td>focal</td>\n",
       "      <td>2</td>\n",
       "      <td>True</td>\n",
       "      <td>5</td>\n",
       "      <td>Conv1d</td>\n",
       "      <td>None</td>\n",
       "      <td>concatenation</td>\n",
       "      <td>64</td>\n",
       "      <td>1</td>\n",
       "    </tr>\n",
       "    <tr>\n",
       "      <th>...</th>\n",
       "      <td>...</td>\n",
       "      <td>...</td>\n",
       "      <td>...</td>\n",
       "      <td>...</td>\n",
       "      <td>...</td>\n",
       "      <td>...</td>\n",
       "      <td>...</td>\n",
       "      <td>...</td>\n",
       "      <td>...</td>\n",
       "      <td>...</td>\n",
       "      <td>...</td>\n",
       "      <td>...</td>\n",
       "      <td>...</td>\n",
       "      <td>...</td>\n",
       "      <td>...</td>\n",
       "      <td>...</td>\n",
       "      <td>...</td>\n",
       "      <td>...</td>\n",
       "      <td>...</td>\n",
       "      <td>...</td>\n",
       "      <td>...</td>\n",
       "    </tr>\n",
       "    <tr>\n",
       "      <th>0</th>\n",
       "      <td>None</td>\n",
       "      <td>0.588123</td>\n",
       "      <td>0.453424</td>\n",
       "      <td>[0.7287290312830588, 0.38890970400899216, 0.24...</td>\n",
       "      <td>0.450405</td>\n",
       "      <td>[0.7632162076606521, 0.3562113932738504, 0.231...</td>\n",
       "      <td>0.459996</td>\n",
       "      <td>[0.6972238288027762, 0.4282178217821782, 0.254...</td>\n",
       "      <td>None</td>\n",
       "      <td>0.621066</td>\n",
       "      <td>...</td>\n",
       "      <td>12</td>\n",
       "      <td>focal</td>\n",
       "      <td>2</td>\n",
       "      <td>True</td>\n",
       "      <td>5</td>\n",
       "      <td>Conv1d</td>\n",
       "      <td>None</td>\n",
       "      <td>concatenation</td>\n",
       "      <td>64</td>\n",
       "      <td>22</td>\n",
       "    </tr>\n",
       "    <tr>\n",
       "      <th>0</th>\n",
       "      <td>None</td>\n",
       "      <td>0.616858</td>\n",
       "      <td>0.458677</td>\n",
       "      <td>[0.7562018819503848, 0.35914065666801775, 0.26...</td>\n",
       "      <td>0.468131</td>\n",
       "      <td>[0.7457817772778402, 0.3529880478087649, 0.305...</td>\n",
       "      <td>0.453234</td>\n",
       "      <td>[0.7669172932330827, 0.3655115511551155, 0.227...</td>\n",
       "      <td>None</td>\n",
       "      <td>0.642100</td>\n",
       "      <td>...</td>\n",
       "      <td>123</td>\n",
       "      <td>focal</td>\n",
       "      <td>2</td>\n",
       "      <td>True</td>\n",
       "      <td>5</td>\n",
       "      <td>Conv1d</td>\n",
       "      <td>None</td>\n",
       "      <td>concatenation</td>\n",
       "      <td>64</td>\n",
       "      <td>22</td>\n",
       "    </tr>\n",
       "    <tr>\n",
       "      <th>0</th>\n",
       "      <td>None</td>\n",
       "      <td>0.642146</td>\n",
       "      <td>0.504475</td>\n",
       "      <td>[0.7761925349473987, 0.40241075567918405, 0.33...</td>\n",
       "      <td>0.505421</td>\n",
       "      <td>[0.7736282677391554, 0.45925925925925926, 0.28...</td>\n",
       "      <td>0.515317</td>\n",
       "      <td>[0.7787738577212261, 0.3580858085808581, 0.409...</td>\n",
       "      <td>None</td>\n",
       "      <td>0.669236</td>\n",
       "      <td>...</td>\n",
       "      <td>1</td>\n",
       "      <td>focal</td>\n",
       "      <td>2</td>\n",
       "      <td>True</td>\n",
       "      <td>5</td>\n",
       "      <td>Conv1d</td>\n",
       "      <td>None</td>\n",
       "      <td>concatenation</td>\n",
       "      <td>64</td>\n",
       "      <td>23</td>\n",
       "    </tr>\n",
       "    <tr>\n",
       "      <th>0</th>\n",
       "      <td>None</td>\n",
       "      <td>0.646552</td>\n",
       "      <td>0.521250</td>\n",
       "      <td>[0.7721592560302238, 0.4274120829576195, 0.364...</td>\n",
       "      <td>0.518676</td>\n",
       "      <td>[0.7759929906542056, 0.4711729622266402, 0.308...</td>\n",
       "      <td>0.534363</td>\n",
       "      <td>[0.7683632157316368, 0.3910891089108911, 0.443...</td>\n",
       "      <td>None</td>\n",
       "      <td>0.662653</td>\n",
       "      <td>...</td>\n",
       "      <td>12</td>\n",
       "      <td>focal</td>\n",
       "      <td>2</td>\n",
       "      <td>True</td>\n",
       "      <td>5</td>\n",
       "      <td>Conv1d</td>\n",
       "      <td>None</td>\n",
       "      <td>concatenation</td>\n",
       "      <td>64</td>\n",
       "      <td>23</td>\n",
       "    </tr>\n",
       "    <tr>\n",
       "      <th>0</th>\n",
       "      <td>None</td>\n",
       "      <td>0.633908</td>\n",
       "      <td>0.504613</td>\n",
       "      <td>[0.7688442211055276, 0.41965811965811967, 0.32...</td>\n",
       "      <td>0.499448</td>\n",
       "      <td>[0.7862756952841596, 0.4352836879432624, 0.276...</td>\n",
       "      <td>0.517277</td>\n",
       "      <td>[0.7521688837478311, 0.4051155115511551, 0.394...</td>\n",
       "      <td>None</td>\n",
       "      <td>0.658317</td>\n",
       "      <td>...</td>\n",
       "      <td>123</td>\n",
       "      <td>focal</td>\n",
       "      <td>2</td>\n",
       "      <td>True</td>\n",
       "      <td>5</td>\n",
       "      <td>Conv1d</td>\n",
       "      <td>None</td>\n",
       "      <td>concatenation</td>\n",
       "      <td>64</td>\n",
       "      <td>23</td>\n",
       "    </tr>\n",
       "  </tbody>\n",
       "</table>\n",
       "<p>72 rows × 47 columns</p>\n",
       "</div>"
      ],
      "text/plain": [
       "    loss  accuracy        f1  \\\n",
       "0   None  0.645594  0.515260   \n",
       "0   None  0.641188  0.517020   \n",
       "0   None  0.649808  0.517789   \n",
       "0   None  0.620881  0.442699   \n",
       "0   None  0.602682  0.444819   \n",
       "..   ...       ...       ...   \n",
       "0   None  0.588123  0.453424   \n",
       "0   None  0.616858  0.458677   \n",
       "0   None  0.642146  0.504475   \n",
       "0   None  0.646552  0.521250   \n",
       "0   None  0.633908  0.504613   \n",
       "\n",
       "                                            f1_scores  precision  \\\n",
       "0   [0.7709431751611013, 0.4511840465309514, 0.323...   0.511037   \n",
       "0   [0.7687997640813918, 0.4445414847161572, 0.337...   0.512954   \n",
       "0   [0.775892334698654, 0.453377538334024, 0.32409...   0.513875   \n",
       "0   [0.7602836879432624, 0.3857949959644875, 0.182...   0.450984   \n",
       "0   [0.7475183426845058, 0.34862385321100914, 0.23...   0.445505   \n",
       "..                                                ...        ...   \n",
       "0   [0.7287290312830588, 0.38890970400899216, 0.24...   0.450405   \n",
       "0   [0.7562018819503848, 0.35914065666801775, 0.26...   0.468131   \n",
       "0   [0.7761925349473987, 0.40241075567918405, 0.33...   0.505421   \n",
       "0   [0.7721592560302238, 0.4274120829576195, 0.364...   0.518676   \n",
       "0   [0.7688442211055276, 0.41965811965811967, 0.32...   0.499448   \n",
       "\n",
       "                                     precision_scores    recall  \\\n",
       "0   [0.7810089020771513, 0.45439330543933054, 0.29...  0.521233   \n",
       "0   [0.7842960288808665, 0.47217068645640076, 0.28...  0.531290   \n",
       "0   [0.7850799289520426, 0.45545378850957535, 0.30...  0.523049   \n",
       "0   [0.7461024498886414, 0.37756714060031593, 0.22...  0.440104   \n",
       "0   [0.743773260807329, 0.3524451939291737, 0.2402...  0.444183   \n",
       "..                                                ...       ...   \n",
       "0   [0.7632162076606521, 0.3562113932738504, 0.231...  0.459996   \n",
       "0   [0.7457817772778402, 0.3529880478087649, 0.305...  0.453234   \n",
       "0   [0.7736282677391554, 0.45925925925925926, 0.28...  0.515317   \n",
       "0   [0.7759929906542056, 0.4711729622266402, 0.308...  0.534363   \n",
       "0   [0.7862756952841596, 0.4352836879432624, 0.276...  0.517277   \n",
       "\n",
       "                                        recall_scores valid_loss  \\\n",
       "0   [0.7611336032388664, 0.44801980198019803, 0.35...       None   \n",
       "0      [0.753903990746096, 0.41996699669966997, 0.42]       None   \n",
       "0   [0.7669172932330827, 0.4513201320132013, 0.350...       None   \n",
       "0   [0.7750144592249856, 0.3943894389438944, 0.150...       None   \n",
       "0   [0.7513013302486987, 0.3448844884488449, 0.236...       None   \n",
       "..                                                ...        ...   \n",
       "0   [0.6972238288027762, 0.4282178217821782, 0.254...       None   \n",
       "0   [0.7669172932330827, 0.3655115511551155, 0.227...       None   \n",
       "0   [0.7787738577212261, 0.3580858085808581, 0.409...       None   \n",
       "0   [0.7683632157316368, 0.3910891089108911, 0.443...       None   \n",
       "0   [0.7521688837478311, 0.4051155115511551, 0.394...       None   \n",
       "\n",
       "    valid_accuracy  ...  seed loss_function  gamma k_fold  n_splits  \\\n",
       "0         0.658478  ...     1         focal      2   True         5   \n",
       "0         0.667148  ...    12         focal      2   True         5   \n",
       "0         0.669236  ...   123         focal      2   True         5   \n",
       "0         0.644348  ...     1         focal      2   True         5   \n",
       "0         0.628934  ...    12         focal      2   True         5   \n",
       "..             ...  ...   ...           ...    ...    ...       ...   \n",
       "0         0.621066  ...    12         focal      2   True         5   \n",
       "0         0.642100  ...   123         focal      2   True         5   \n",
       "0         0.669236  ...     1         focal      2   True         5   \n",
       "0         0.662653  ...    12         focal      2   True         5   \n",
       "0         0.658317  ...   123         focal      2   True         5   \n",
       "\n",
       "   augmentation_type  hidden_dim_aug    comb_method  batch_size  model_id  \n",
       "0             Conv1d            None  concatenation          64         0  \n",
       "0             Conv1d            None  concatenation          64         0  \n",
       "0             Conv1d            None  concatenation          64         0  \n",
       "0             Conv1d            None  concatenation          64         1  \n",
       "0             Conv1d            None  concatenation          64         1  \n",
       "..               ...             ...            ...         ...       ...  \n",
       "0             Conv1d            None  concatenation          64        22  \n",
       "0             Conv1d            None  concatenation          64        22  \n",
       "0             Conv1d            None  concatenation          64        23  \n",
       "0             Conv1d            None  concatenation          64        23  \n",
       "0             Conv1d            None  concatenation          64        23  \n",
       "\n",
       "[72 rows x 47 columns]"
      ]
     },
     "execution_count": 13,
     "metadata": {},
     "output_type": "execute_result"
    }
   ],
   "source": [
    "seqsignet_attention_mha_umap_kfold_11"
   ]
  },
  {
   "cell_type": "code",
   "execution_count": 14,
   "id": "334f2a44-6a1e-40c4-a23c-9d10f359108d",
   "metadata": {},
   "outputs": [
    {
     "data": {
      "text/plain": [
       "0.5011317343319162"
      ]
     },
     "execution_count": 14,
     "metadata": {},
     "output_type": "execute_result"
    }
   ],
   "source": [
    "best_seqsignet_attention_mha_umap_kfold_11[\"f1\"].mean()"
   ]
  },
  {
   "cell_type": "code",
   "execution_count": 15,
   "id": "f320e67d-3950-4ce5-a254-40661a13e26c",
   "metadata": {},
   "outputs": [
    {
     "data": {
      "text/plain": [
       "0.501423817705441"
      ]
     },
     "execution_count": 15,
     "metadata": {},
     "output_type": "execute_result"
    }
   ],
   "source": [
    "best_seqsignet_attention_mha_umap_kfold_11[\"precision\"].mean()"
   ]
  },
  {
   "cell_type": "code",
   "execution_count": 16,
   "id": "7be7a788-8b05-4ac8-89ee-5e6f86470c8f",
   "metadata": {},
   "outputs": [
    {
     "data": {
      "text/plain": [
       "0.5073380601989252"
      ]
     },
     "execution_count": 16,
     "metadata": {},
     "output_type": "execute_result"
    }
   ],
   "source": [
    "best_seqsignet_attention_mha_umap_kfold_11[\"recall\"].mean()"
   ]
  },
  {
   "cell_type": "code",
   "execution_count": 17,
   "id": "9c6c851f-3c2d-4c89-8215-aaef16e00cb4",
   "metadata": {},
   "outputs": [
    {
     "data": {
      "text/plain": [
       "array([0.76704038, 0.41825766, 0.31809716])"
      ]
     },
     "execution_count": 17,
     "metadata": {},
     "output_type": "execute_result"
    }
   ],
   "source": [
    "np.stack(best_seqsignet_attention_mha_umap_kfold_11[\"f1_scores\"]).mean(axis=0)"
   ]
  },
  {
   "cell_type": "code",
   "execution_count": 18,
   "id": "7fea245a-f937-4928-b857-f0157caa4859",
   "metadata": {},
   "outputs": [
    {
     "data": {
      "text/plain": [
       "array([0.76868738, 0.44003164, 0.29555244])"
      ]
     },
     "execution_count": 18,
     "metadata": {},
     "output_type": "execute_result"
    }
   ],
   "source": [
    "np.stack(best_seqsignet_attention_mha_umap_kfold_11[\"precision_scores\"]).mean(axis=0)"
   ]
  },
  {
   "cell_type": "code",
   "execution_count": 19,
   "id": "3587e08c-8c30-426c-b5a2-b6f4752a496c",
   "metadata": {},
   "outputs": [
    {
     "data": {
      "text/plain": [
       "array([0.76576056, 0.39988999, 0.35636364])"
      ]
     },
     "execution_count": 19,
     "metadata": {},
     "output_type": "execute_result"
    }
   ],
   "source": [
    "np.stack(best_seqsignet_attention_mha_umap_kfold_11[\"recall_scores\"]).mean(axis=0)"
   ]
  },
  {
   "cell_type": "markdown",
   "id": "143024f5-2141-4474-8e9a-5fc9b5cfb967",
   "metadata": {},
   "source": [
    "## GRP"
   ]
  },
  {
   "cell_type": "code",
   "execution_count": 20,
   "id": "6ac9ce58-e338-4f92-9d27-e41c18968f27",
   "metadata": {},
   "outputs": [
    {
     "data": {
      "application/vnd.jupyter.widget-view+json": {
       "model_id": "feb7aca1a327466bae5be6818a9fbe3d",
       "version_major": 2,
       "version_minor": 0
      },
      "text/plain": [
       "  0%|          | 0/1 [00:00<?, ?it/s]"
      ]
     },
     "metadata": {},
     "output_type": "display_data"
    },
    {
     "data": {
      "application/vnd.jupyter.widget-view+json": {
       "model_id": "c8cb5a581f7c4cf18c5de47964103de4",
       "version_major": 2,
       "version_minor": 0
      },
      "text/plain": [
       "  0%|          | 0/1 [00:00<?, ?it/s]"
      ]
     },
     "metadata": {},
     "output_type": "display_data"
    },
    {
     "name": "stdout",
     "output_type": "stream",
     "text": [
      "\n",
      "##################################################\n",
      "dimension: 15 | method: gaussian_random_projection\n",
      "given shift 3, window size 5 and n 3: history length = 11\n",
      "[INFO] Concatenating the embeddings to the dataframe...\n",
      "[INFO] - columns beginning with 'e' denote the full embddings.\n",
      "[INFO] - columns beginning with 'd' denote the dimension reduced embeddings.\n",
      "[INFO] Adding time feature columns into dataframe in `.df`.\n",
      "[INFO] Adding 'time_encoding' feature...\n",
      "[INFO] Adding 'time_diff' feature...\n",
      "[INFO] Adding 'timeline_index' feature...\n",
      "[INFO] Padding ids and storing in `.df_padded` and `.array_padded` attributes.\n"
     ]
    },
    {
     "data": {
      "application/vnd.jupyter.widget-view+json": {
       "model_id": "bd9e1ca49c6a47039f80a19787047c37",
       "version_major": 2,
       "version_minor": 0
      },
      "text/plain": [
       "  0%|          | 0/9699 [00:00<?, ?it/s]"
      ]
     },
     "metadata": {},
     "output_type": "display_data"
    },
    {
     "name": "stdout",
     "output_type": "stream",
     "text": [
      "[INFO] The path was created for each item in the dataframe, by looking at its history, so to include embeddings in the FFN input, we concatenate the embeddings for each sentence / text.\n"
     ]
    },
    {
     "data": {
      "application/vnd.jupyter.widget-view+json": {
       "model_id": "4d5ceb195846429e873f6bfb07324387",
       "version_major": 2,
       "version_minor": 0
      },
      "text/plain": [
       "  0%|          | 0/2 [00:00<?, ?it/s]"
      ]
     },
     "metadata": {},
     "output_type": "display_data"
    },
    {
     "data": {
      "application/vnd.jupyter.widget-view+json": {
       "model_id": "43e84acbfcb94a77a861bbe179d8a210",
       "version_major": 2,
       "version_minor": 0
      },
      "text/plain": [
       "  0%|          | 0/1 [00:00<?, ?it/s]"
      ]
     },
     "metadata": {},
     "output_type": "display_data"
    },
    {
     "data": {
      "application/vnd.jupyter.widget-view+json": {
       "model_id": "2e85391502ac4818a0e13e65f696bdca",
       "version_major": 2,
       "version_minor": 0
      },
      "text/plain": [
       "  0%|          | 0/2 [00:00<?, ?it/s]"
      ]
     },
     "metadata": {},
     "output_type": "display_data"
    },
    {
     "data": {
      "application/vnd.jupyter.widget-view+json": {
       "model_id": "34cc5cc368544081bc0207e815076efe",
       "version_major": 2,
       "version_minor": 0
      },
      "text/plain": [
       "  0%|          | 0/2 [00:00<?, ?it/s]"
      ]
     },
     "metadata": {},
     "output_type": "display_data"
    },
    {
     "data": {
      "application/vnd.jupyter.widget-view+json": {
       "model_id": "60cb65a279ba4110a634e7833dba9eeb",
       "version_major": 2,
       "version_minor": 0
      },
      "text/plain": [
       "  0%|          | 0/3 [00:00<?, ?it/s]"
      ]
     },
     "metadata": {},
     "output_type": "display_data"
    },
    {
     "data": {
      "application/vnd.jupyter.widget-view+json": {
       "model_id": "cd7906cd1c4845a49ce15e27ab90892c",
       "version_major": 2,
       "version_minor": 0
      },
      "text/plain": [
       "  0%|          | 0/3 [00:00<?, ?it/s]"
      ]
     },
     "metadata": {},
     "output_type": "display_data"
    },
    {
     "data": {
      "application/vnd.jupyter.widget-view+json": {
       "model_id": "2c4011cc2e8a407b83c511e3556f9fe8",
       "version_major": 2,
       "version_minor": 0
      },
      "text/plain": [
       "  0%|          | 0/2 [00:00<?, ?it/s]"
      ]
     },
     "metadata": {},
     "output_type": "display_data"
    },
    {
     "data": {
      "application/vnd.jupyter.widget-view+json": {
       "model_id": "f6efddd4c24d49429aec498deb0a7f4c",
       "version_major": 2,
       "version_minor": 0
      },
      "text/plain": [
       "  0%|          | 0/3 [00:00<?, ?it/s]"
      ]
     },
     "metadata": {},
     "output_type": "display_data"
    },
    {
     "data": {
      "application/vnd.jupyter.widget-view+json": {
       "model_id": "3bf992d89e5d4dcbaefc22b987394bf0",
       "version_major": 2,
       "version_minor": 0
      },
      "text/plain": [
       "  0%|          | 0/3 [00:00<?, ?it/s]"
      ]
     },
     "metadata": {},
     "output_type": "display_data"
    },
    {
     "data": {
      "application/vnd.jupyter.widget-view+json": {
       "model_id": "867b3aafa1ff431ab836b81a8235bab1",
       "version_major": 2,
       "version_minor": 0
      },
      "text/plain": [
       "  0%|          | 0/1 [00:00<?, ?it/s]"
      ]
     },
     "metadata": {},
     "output_type": "display_data"
    },
    {
     "data": {
      "application/vnd.jupyter.widget-view+json": {
       "model_id": "c010094f4f4849b6a6443d141aa917f8",
       "version_major": 2,
       "version_minor": 0
      },
      "text/plain": [
       "  0%|          | 0/2 [00:00<?, ?it/s]"
      ]
     },
     "metadata": {},
     "output_type": "display_data"
    },
    {
     "data": {
      "application/vnd.jupyter.widget-view+json": {
       "model_id": "9016a60efd9346a4a8236274d273c4c5",
       "version_major": 2,
       "version_minor": 0
      },
      "text/plain": [
       "  0%|          | 0/2 [00:00<?, ?it/s]"
      ]
     },
     "metadata": {},
     "output_type": "display_data"
    },
    {
     "data": {
      "application/vnd.jupyter.widget-view+json": {
       "model_id": "59794f02c65741ce88dad7641fd33264",
       "version_major": 2,
       "version_minor": 0
      },
      "text/plain": [
       "  0%|          | 0/3 [00:00<?, ?it/s]"
      ]
     },
     "metadata": {},
     "output_type": "display_data"
    },
    {
     "data": {
      "application/vnd.jupyter.widget-view+json": {
       "model_id": "c92c993d340f4b9bb49bef07c26e5f16",
       "version_major": 2,
       "version_minor": 0
      },
      "text/plain": [
       "  0%|          | 0/3 [00:00<?, ?it/s]"
      ]
     },
     "metadata": {},
     "output_type": "display_data"
    },
    {
     "data": {
      "application/vnd.jupyter.widget-view+json": {
       "model_id": "8b19b4b816104f7ca87bec20b68365e4",
       "version_major": 2,
       "version_minor": 0
      },
      "text/plain": [
       "  0%|          | 0/2 [00:00<?, ?it/s]"
      ]
     },
     "metadata": {},
     "output_type": "display_data"
    },
    {
     "data": {
      "application/vnd.jupyter.widget-view+json": {
       "model_id": "4443a238c169489abeb085491f8aace1",
       "version_major": 2,
       "version_minor": 0
      },
      "text/plain": [
       "  0%|          | 0/3 [00:00<?, ?it/s]"
      ]
     },
     "metadata": {},
     "output_type": "display_data"
    },
    {
     "data": {
      "application/vnd.jupyter.widget-view+json": {
       "model_id": "73d8383ceae44fd28c94b96d4103a354",
       "version_major": 2,
       "version_minor": 0
      },
      "text/plain": [
       "  0%|          | 0/3 [00:00<?, ?it/s]"
      ]
     },
     "metadata": {},
     "output_type": "display_data"
    },
    {
     "name": "stdout",
     "output_type": "stream",
     "text": [
      "given shift 3, window size 5 and n 3: history length = 11\n",
      "[INFO] Concatenating the embeddings to the dataframe...\n",
      "[INFO] - columns beginning with 'e' denote the full embddings.\n",
      "[INFO] - columns beginning with 'd' denote the dimension reduced embeddings.\n",
      "[INFO] Adding time feature columns into dataframe in `.df`.\n",
      "[INFO] Adding 'time_encoding' feature...\n",
      "[INFO] Adding 'time_diff' feature...\n",
      "[INFO] Adding 'timeline_index' feature...\n",
      "[INFO] Padding ids and storing in `.df_padded` and `.array_padded` attributes.\n"
     ]
    },
    {
     "data": {
      "application/vnd.jupyter.widget-view+json": {
       "model_id": "deaa8558dfd049ae8c1a233c83fe9f92",
       "version_major": 2,
       "version_minor": 0
      },
      "text/plain": [
       "  0%|          | 0/9699 [00:00<?, ?it/s]"
      ]
     },
     "metadata": {},
     "output_type": "display_data"
    },
    {
     "name": "stdout",
     "output_type": "stream",
     "text": [
      "[INFO] The path was created for each item in the dataframe, by looking at its history, so to include embeddings in the FFN input, we concatenate the embeddings for each sentence / text.\n",
      "saving results dataframe to CSV for this hyperparameter search in client_talk_type_output/seqsignet_attention_mha_grp_focal_2_3_5_3_kfold.csv\n",
      "saving the best model results dataframe to CSV for this hyperparameter search in client_talk_type_output/seqsignet_attention_mha_grp_focal_2_3_5_3_kfold_best_model.csv\n"
     ]
    }
   ],
   "source": [
    "(\n",
    "    seqsignet_attention_mha_grp_kfold_11,\n",
    "    best_seqsignet_attention_mha_grp_kfold_11,\n",
    "    _,\n",
    "    __,\n",
    ") = seqsignet_full_attention_hyperparameter_search(\n",
    "    shift=shift,\n",
    "    window_size=window_size,\n",
    "    n=n,\n",
    "    dim_reduce_methods=[\"gaussian_random_projection\"],\n",
    "    results_output=f\"{output_dir}/seqsignet_attention_mha_grp_focal_{gamma}_{shift}_{window_size}_{n}_kfold.csv\",\n",
    "    **kwargs,\n",
    ")"
   ]
  },
  {
   "cell_type": "code",
   "execution_count": 21,
   "id": "36f8a786-08d0-4d9a-a52e-4c2414cee3fd",
   "metadata": {},
   "outputs": [
    {
     "data": {
      "text/html": [
       "<div>\n",
       "<style scoped>\n",
       "    .dataframe tbody tr th:only-of-type {\n",
       "        vertical-align: middle;\n",
       "    }\n",
       "\n",
       "    .dataframe tbody tr th {\n",
       "        vertical-align: top;\n",
       "    }\n",
       "\n",
       "    .dataframe thead th {\n",
       "        text-align: right;\n",
       "    }\n",
       "</style>\n",
       "<table border=\"1\" class=\"dataframe\">\n",
       "  <thead>\n",
       "    <tr style=\"text-align: right;\">\n",
       "      <th></th>\n",
       "      <th>loss</th>\n",
       "      <th>accuracy</th>\n",
       "      <th>f1</th>\n",
       "      <th>f1_scores</th>\n",
       "      <th>precision</th>\n",
       "      <th>precision_scores</th>\n",
       "      <th>recall</th>\n",
       "      <th>recall_scores</th>\n",
       "      <th>valid_loss</th>\n",
       "      <th>valid_accuracy</th>\n",
       "      <th>...</th>\n",
       "      <th>seed</th>\n",
       "      <th>loss_function</th>\n",
       "      <th>gamma</th>\n",
       "      <th>k_fold</th>\n",
       "      <th>n_splits</th>\n",
       "      <th>augmentation_type</th>\n",
       "      <th>hidden_dim_aug</th>\n",
       "      <th>comb_method</th>\n",
       "      <th>batch_size</th>\n",
       "      <th>model_id</th>\n",
       "    </tr>\n",
       "  </thead>\n",
       "  <tbody>\n",
       "    <tr>\n",
       "      <th>0</th>\n",
       "      <td>None</td>\n",
       "      <td>0.635057</td>\n",
       "      <td>0.518282</td>\n",
       "      <td>[0.7630833457581632, 0.437609841827768, 0.3541...</td>\n",
       "      <td>0.513375</td>\n",
       "      <td>[0.7876269621421976, 0.4680451127819549, 0.284...</td>\n",
       "      <td>0.540002</td>\n",
       "      <td>[0.7400231347599768, 0.41089108910891087, 0.46...</td>\n",
       "      <td>None</td>\n",
       "      <td>0.655588</td>\n",
       "      <td>...</td>\n",
       "      <td>1</td>\n",
       "      <td>focal</td>\n",
       "      <td>2</td>\n",
       "      <td>True</td>\n",
       "      <td>5</td>\n",
       "      <td>Conv1d</td>\n",
       "      <td>None</td>\n",
       "      <td>concatenation</td>\n",
       "      <td>64</td>\n",
       "      <td>0</td>\n",
       "    </tr>\n",
       "    <tr>\n",
       "      <th>0</th>\n",
       "      <td>None</td>\n",
       "      <td>0.633908</td>\n",
       "      <td>0.514896</td>\n",
       "      <td>[0.7631931024230713, 0.4353680430879712, 0.346...</td>\n",
       "      <td>0.512495</td>\n",
       "      <td>[0.7852554297950444, 0.47736220472440943, 0.27...</td>\n",
       "      <td>0.536591</td>\n",
       "      <td>[0.7423366107576634, 0.40016501650165015, 0.46...</td>\n",
       "      <td>None</td>\n",
       "      <td>0.659441</td>\n",
       "      <td>...</td>\n",
       "      <td>12</td>\n",
       "      <td>focal</td>\n",
       "      <td>2</td>\n",
       "      <td>True</td>\n",
       "      <td>5</td>\n",
       "      <td>Conv1d</td>\n",
       "      <td>None</td>\n",
       "      <td>concatenation</td>\n",
       "      <td>64</td>\n",
       "      <td>0</td>\n",
       "    </tr>\n",
       "    <tr>\n",
       "      <th>0</th>\n",
       "      <td>None</td>\n",
       "      <td>0.640805</td>\n",
       "      <td>0.514914</td>\n",
       "      <td>[0.7685103892303191, 0.43027888446215135, 0.34...</td>\n",
       "      <td>0.511458</td>\n",
       "      <td>[0.7778436018957346, 0.46418338108882523, 0.29...</td>\n",
       "      <td>0.528008</td>\n",
       "      <td>[0.7593984962406015, 0.400990099009901, 0.4236...</td>\n",
       "      <td>None</td>\n",
       "      <td>0.667148</td>\n",
       "      <td>...</td>\n",
       "      <td>123</td>\n",
       "      <td>focal</td>\n",
       "      <td>2</td>\n",
       "      <td>True</td>\n",
       "      <td>5</td>\n",
       "      <td>Conv1d</td>\n",
       "      <td>None</td>\n",
       "      <td>concatenation</td>\n",
       "      <td>64</td>\n",
       "      <td>0</td>\n",
       "    </tr>\n",
       "    <tr>\n",
       "      <th>0</th>\n",
       "      <td>None</td>\n",
       "      <td>0.624904</td>\n",
       "      <td>0.457209</td>\n",
       "      <td>[0.7601874201334659, 0.38722554890219557, 0.22...</td>\n",
       "      <td>0.471406</td>\n",
       "      <td>[0.7467224546722455, 0.3750966744006187, 0.292...</td>\n",
       "      <td>0.452043</td>\n",
       "      <td>[0.7741469057258531, 0.40016501650165015, 0.18...</td>\n",
       "      <td>None</td>\n",
       "      <td>0.657514</td>\n",
       "      <td>...</td>\n",
       "      <td>1</td>\n",
       "      <td>focal</td>\n",
       "      <td>2</td>\n",
       "      <td>True</td>\n",
       "      <td>5</td>\n",
       "      <td>Conv1d</td>\n",
       "      <td>None</td>\n",
       "      <td>concatenation</td>\n",
       "      <td>64</td>\n",
       "      <td>1</td>\n",
       "    </tr>\n",
       "    <tr>\n",
       "      <th>0</th>\n",
       "      <td>None</td>\n",
       "      <td>0.631801</td>\n",
       "      <td>0.480894</td>\n",
       "      <td>[0.7631238314396663, 0.4079522862823061, 0.271...</td>\n",
       "      <td>0.488529</td>\n",
       "      <td>[0.7590844062947067, 0.39370683039140447, 0.31...</td>\n",
       "      <td>0.476825</td>\n",
       "      <td>[0.7672064777327935, 0.42326732673267325, 0.24]</td>\n",
       "      <td>None</td>\n",
       "      <td>0.665061</td>\n",
       "      <td>...</td>\n",
       "      <td>12</td>\n",
       "      <td>focal</td>\n",
       "      <td>2</td>\n",
       "      <td>True</td>\n",
       "      <td>5</td>\n",
       "      <td>Conv1d</td>\n",
       "      <td>None</td>\n",
       "      <td>concatenation</td>\n",
       "      <td>64</td>\n",
       "      <td>1</td>\n",
       "    </tr>\n",
       "    <tr>\n",
       "      <th>...</th>\n",
       "      <td>...</td>\n",
       "      <td>...</td>\n",
       "      <td>...</td>\n",
       "      <td>...</td>\n",
       "      <td>...</td>\n",
       "      <td>...</td>\n",
       "      <td>...</td>\n",
       "      <td>...</td>\n",
       "      <td>...</td>\n",
       "      <td>...</td>\n",
       "      <td>...</td>\n",
       "      <td>...</td>\n",
       "      <td>...</td>\n",
       "      <td>...</td>\n",
       "      <td>...</td>\n",
       "      <td>...</td>\n",
       "      <td>...</td>\n",
       "      <td>...</td>\n",
       "      <td>...</td>\n",
       "      <td>...</td>\n",
       "      <td>...</td>\n",
       "    </tr>\n",
       "    <tr>\n",
       "      <th>0</th>\n",
       "      <td>None</td>\n",
       "      <td>0.628352</td>\n",
       "      <td>0.479312</td>\n",
       "      <td>[0.7651869158878505, 0.4085603112840467, 0.264...</td>\n",
       "      <td>0.481825</td>\n",
       "      <td>[0.7728613569321534, 0.3865979381443299, 0.286...</td>\n",
       "      <td>0.478762</td>\n",
       "      <td>[0.7576633892423366, 0.43316831683168316, 0.24...</td>\n",
       "      <td>None</td>\n",
       "      <td>0.655267</td>\n",
       "      <td>...</td>\n",
       "      <td>12</td>\n",
       "      <td>focal</td>\n",
       "      <td>2</td>\n",
       "      <td>True</td>\n",
       "      <td>5</td>\n",
       "      <td>Conv1d</td>\n",
       "      <td>None</td>\n",
       "      <td>concatenation</td>\n",
       "      <td>64</td>\n",
       "      <td>22</td>\n",
       "    </tr>\n",
       "    <tr>\n",
       "      <th>0</th>\n",
       "      <td>None</td>\n",
       "      <td>0.600192</td>\n",
       "      <td>0.438723</td>\n",
       "      <td>[0.7411627227578147, 0.37676842889054357, 0.19...</td>\n",
       "      <td>0.447833</td>\n",
       "      <td>[0.7488193624557261, 0.34328358208955223, 0.25...</td>\n",
       "      <td>0.438263</td>\n",
       "      <td>[0.7336610757663389, 0.4174917491749175, 0.163...</td>\n",
       "      <td>None</td>\n",
       "      <td>0.651252</td>\n",
       "      <td>...</td>\n",
       "      <td>123</td>\n",
       "      <td>focal</td>\n",
       "      <td>2</td>\n",
       "      <td>True</td>\n",
       "      <td>5</td>\n",
       "      <td>Conv1d</td>\n",
       "      <td>None</td>\n",
       "      <td>concatenation</td>\n",
       "      <td>64</td>\n",
       "      <td>22</td>\n",
       "    </tr>\n",
       "    <tr>\n",
       "      <th>0</th>\n",
       "      <td>None</td>\n",
       "      <td>0.634674</td>\n",
       "      <td>0.520512</td>\n",
       "      <td>[0.7608662729062547, 0.45924132364810333, 0.34...</td>\n",
       "      <td>0.511650</td>\n",
       "      <td>[0.7987281399046104, 0.44944707740916273, 0.28...</td>\n",
       "      <td>0.539241</td>\n",
       "      <td>[0.7264314632735686, 0.46947194719471946, 0.42...</td>\n",
       "      <td>None</td>\n",
       "      <td>0.655267</td>\n",
       "      <td>...</td>\n",
       "      <td>1</td>\n",
       "      <td>focal</td>\n",
       "      <td>2</td>\n",
       "      <td>True</td>\n",
       "      <td>5</td>\n",
       "      <td>Conv1d</td>\n",
       "      <td>None</td>\n",
       "      <td>concatenation</td>\n",
       "      <td>64</td>\n",
       "      <td>23</td>\n",
       "    </tr>\n",
       "    <tr>\n",
       "      <th>0</th>\n",
       "      <td>None</td>\n",
       "      <td>0.645019</td>\n",
       "      <td>0.518685</td>\n",
       "      <td>[0.7718890663569045, 0.4218678815489749, 0.362...</td>\n",
       "      <td>0.516872</td>\n",
       "      <td>[0.7751531058617673, 0.47100712105798576, 0.30...</td>\n",
       "      <td>0.532646</td>\n",
       "      <td>[0.7686524002313476, 0.382013201320132, 0.4472...</td>\n",
       "      <td>None</td>\n",
       "      <td>0.665864</td>\n",
       "      <td>...</td>\n",
       "      <td>12</td>\n",
       "      <td>focal</td>\n",
       "      <td>2</td>\n",
       "      <td>True</td>\n",
       "      <td>5</td>\n",
       "      <td>Conv1d</td>\n",
       "      <td>None</td>\n",
       "      <td>concatenation</td>\n",
       "      <td>64</td>\n",
       "      <td>23</td>\n",
       "    </tr>\n",
       "    <tr>\n",
       "      <th>0</th>\n",
       "      <td>None</td>\n",
       "      <td>0.639080</td>\n",
       "      <td>0.517955</td>\n",
       "      <td>[0.7649851632047476, 0.44771104577908444, 0.34...</td>\n",
       "      <td>0.511343</td>\n",
       "      <td>[0.785496648385131, 0.455945252352438, 0.29258...</td>\n",
       "      <td>0.531459</td>\n",
       "      <td>[0.7455176402544823, 0.4397689768976898, 0.409...</td>\n",
       "      <td>None</td>\n",
       "      <td>0.661850</td>\n",
       "      <td>...</td>\n",
       "      <td>123</td>\n",
       "      <td>focal</td>\n",
       "      <td>2</td>\n",
       "      <td>True</td>\n",
       "      <td>5</td>\n",
       "      <td>Conv1d</td>\n",
       "      <td>None</td>\n",
       "      <td>concatenation</td>\n",
       "      <td>64</td>\n",
       "      <td>23</td>\n",
       "    </tr>\n",
       "  </tbody>\n",
       "</table>\n",
       "<p>72 rows × 47 columns</p>\n",
       "</div>"
      ],
      "text/plain": [
       "    loss  accuracy        f1  \\\n",
       "0   None  0.635057  0.518282   \n",
       "0   None  0.633908  0.514896   \n",
       "0   None  0.640805  0.514914   \n",
       "0   None  0.624904  0.457209   \n",
       "0   None  0.631801  0.480894   \n",
       "..   ...       ...       ...   \n",
       "0   None  0.628352  0.479312   \n",
       "0   None  0.600192  0.438723   \n",
       "0   None  0.634674  0.520512   \n",
       "0   None  0.645019  0.518685   \n",
       "0   None  0.639080  0.517955   \n",
       "\n",
       "                                            f1_scores  precision  \\\n",
       "0   [0.7630833457581632, 0.437609841827768, 0.3541...   0.513375   \n",
       "0   [0.7631931024230713, 0.4353680430879712, 0.346...   0.512495   \n",
       "0   [0.7685103892303191, 0.43027888446215135, 0.34...   0.511458   \n",
       "0   [0.7601874201334659, 0.38722554890219557, 0.22...   0.471406   \n",
       "0   [0.7631238314396663, 0.4079522862823061, 0.271...   0.488529   \n",
       "..                                                ...        ...   \n",
       "0   [0.7651869158878505, 0.4085603112840467, 0.264...   0.481825   \n",
       "0   [0.7411627227578147, 0.37676842889054357, 0.19...   0.447833   \n",
       "0   [0.7608662729062547, 0.45924132364810333, 0.34...   0.511650   \n",
       "0   [0.7718890663569045, 0.4218678815489749, 0.362...   0.516872   \n",
       "0   [0.7649851632047476, 0.44771104577908444, 0.34...   0.511343   \n",
       "\n",
       "                                     precision_scores    recall  \\\n",
       "0   [0.7876269621421976, 0.4680451127819549, 0.284...  0.540002   \n",
       "0   [0.7852554297950444, 0.47736220472440943, 0.27...  0.536591   \n",
       "0   [0.7778436018957346, 0.46418338108882523, 0.29...  0.528008   \n",
       "0   [0.7467224546722455, 0.3750966744006187, 0.292...  0.452043   \n",
       "0   [0.7590844062947067, 0.39370683039140447, 0.31...  0.476825   \n",
       "..                                                ...       ...   \n",
       "0   [0.7728613569321534, 0.3865979381443299, 0.286...  0.478762   \n",
       "0   [0.7488193624557261, 0.34328358208955223, 0.25...  0.438263   \n",
       "0   [0.7987281399046104, 0.44944707740916273, 0.28...  0.539241   \n",
       "0   [0.7751531058617673, 0.47100712105798576, 0.30...  0.532646   \n",
       "0   [0.785496648385131, 0.455945252352438, 0.29258...  0.531459   \n",
       "\n",
       "                                        recall_scores valid_loss  \\\n",
       "0   [0.7400231347599768, 0.41089108910891087, 0.46...       None   \n",
       "0   [0.7423366107576634, 0.40016501650165015, 0.46...       None   \n",
       "0   [0.7593984962406015, 0.400990099009901, 0.4236...       None   \n",
       "0   [0.7741469057258531, 0.40016501650165015, 0.18...       None   \n",
       "0     [0.7672064777327935, 0.42326732673267325, 0.24]       None   \n",
       "..                                                ...        ...   \n",
       "0   [0.7576633892423366, 0.43316831683168316, 0.24...       None   \n",
       "0   [0.7336610757663389, 0.4174917491749175, 0.163...       None   \n",
       "0   [0.7264314632735686, 0.46947194719471946, 0.42...       None   \n",
       "0   [0.7686524002313476, 0.382013201320132, 0.4472...       None   \n",
       "0   [0.7455176402544823, 0.4397689768976898, 0.409...       None   \n",
       "\n",
       "    valid_accuracy  ...  seed loss_function  gamma k_fold  n_splits  \\\n",
       "0         0.655588  ...     1         focal      2   True         5   \n",
       "0         0.659441  ...    12         focal      2   True         5   \n",
       "0         0.667148  ...   123         focal      2   True         5   \n",
       "0         0.657514  ...     1         focal      2   True         5   \n",
       "0         0.665061  ...    12         focal      2   True         5   \n",
       "..             ...  ...   ...           ...    ...    ...       ...   \n",
       "0         0.655267  ...    12         focal      2   True         5   \n",
       "0         0.651252  ...   123         focal      2   True         5   \n",
       "0         0.655267  ...     1         focal      2   True         5   \n",
       "0         0.665864  ...    12         focal      2   True         5   \n",
       "0         0.661850  ...   123         focal      2   True         5   \n",
       "\n",
       "   augmentation_type  hidden_dim_aug    comb_method  batch_size  model_id  \n",
       "0             Conv1d            None  concatenation          64         0  \n",
       "0             Conv1d            None  concatenation          64         0  \n",
       "0             Conv1d            None  concatenation          64         0  \n",
       "0             Conv1d            None  concatenation          64         1  \n",
       "0             Conv1d            None  concatenation          64         1  \n",
       "..               ...             ...            ...         ...       ...  \n",
       "0             Conv1d            None  concatenation          64        22  \n",
       "0             Conv1d            None  concatenation          64        22  \n",
       "0             Conv1d            None  concatenation          64        23  \n",
       "0             Conv1d            None  concatenation          64        23  \n",
       "0             Conv1d            None  concatenation          64        23  \n",
       "\n",
       "[72 rows x 47 columns]"
      ]
     },
     "execution_count": 21,
     "metadata": {},
     "output_type": "execute_result"
    }
   ],
   "source": [
    "seqsignet_attention_mha_grp_kfold_11"
   ]
  },
  {
   "cell_type": "code",
   "execution_count": 22,
   "id": "45ca8250-608a-48eb-aab9-16773521050a",
   "metadata": {},
   "outputs": [
    {
     "data": {
      "text/plain": [
       "0.5132267886107895"
      ]
     },
     "execution_count": 22,
     "metadata": {},
     "output_type": "execute_result"
    }
   ],
   "source": [
    "best_seqsignet_attention_mha_grp_kfold_11[\"f1\"].mean()"
   ]
  },
  {
   "cell_type": "code",
   "execution_count": 23,
   "id": "bed09511-e12a-4bed-93a5-8312dd8153f6",
   "metadata": {},
   "outputs": [
    {
     "data": {
      "text/plain": [
       "0.5087124344063694"
      ]
     },
     "execution_count": 23,
     "metadata": {},
     "output_type": "execute_result"
    }
   ],
   "source": [
    "best_seqsignet_attention_mha_grp_kfold_11[\"precision\"].mean()"
   ]
  },
  {
   "cell_type": "code",
   "execution_count": 24,
   "id": "783b9d23-ed69-4d85-8f39-68837145ef0e",
   "metadata": {},
   "outputs": [
    {
     "data": {
      "text/plain": [
       "0.5236764343486594"
      ]
     },
     "execution_count": 24,
     "metadata": {},
     "output_type": "execute_result"
    }
   ],
   "source": [
    "best_seqsignet_attention_mha_grp_kfold_11[\"recall\"].mean()"
   ]
  },
  {
   "cell_type": "code",
   "execution_count": 25,
   "id": "6ce382d7-fb4b-4f2f-940a-2af5f70b222a",
   "metadata": {},
   "outputs": [
    {
     "data": {
      "text/plain": [
       "array([0.76442744, 0.44165738, 0.33359554])"
      ]
     },
     "execution_count": 25,
     "metadata": {},
     "output_type": "execute_result"
    }
   ],
   "source": [
    "np.stack(best_seqsignet_attention_mha_grp_kfold_11[\"f1_scores\"]).mean(axis=0)"
   ]
  },
  {
   "cell_type": "code",
   "execution_count": 26,
   "id": "143b8c68-175f-4a3f-bc90-5980c7ac0a02",
   "metadata": {},
   "outputs": [
    {
     "data": {
      "text/plain": [
       "array([0.77840999, 0.4535798 , 0.29414751])"
      ]
     },
     "execution_count": 26,
     "metadata": {},
     "output_type": "execute_result"
    }
   ],
   "source": [
    "np.stack(best_seqsignet_attention_mha_grp_kfold_11[\"precision_scores\"]).mean(axis=0)"
   ]
  },
  {
   "cell_type": "code",
   "execution_count": 27,
   "id": "cc0bd39d-9190-41ec-89a5-9b28e29daf93",
   "metadata": {},
   "outputs": [
    {
     "data": {
      "text/plain": [
       "array([0.75130133, 0.43124312, 0.38848485])"
      ]
     },
     "execution_count": 27,
     "metadata": {},
     "output_type": "execute_result"
    }
   ],
   "source": [
    "np.stack(best_seqsignet_attention_mha_grp_kfold_11[\"recall_scores\"]).mean(axis=0)"
   ]
  },
  {
   "cell_type": "markdown",
   "id": "de271d33-3a57-419a-8372-279af9a0a9bb",
   "metadata": {
    "jp-MarkdownHeadingCollapsed": true,
    "tags": []
   },
   "source": [
    "# history_length=20"
   ]
  },
  {
   "cell_type": "code",
   "execution_count": 28,
   "id": "521165eb",
   "metadata": {},
   "outputs": [],
   "source": [
    "shift = 3\n",
    "window_size = 5\n",
    "n = 6"
   ]
  },
  {
   "cell_type": "code",
   "execution_count": 29,
   "id": "e1ab36d1",
   "metadata": {},
   "outputs": [
    {
     "data": {
      "application/vnd.jupyter.widget-view+json": {
       "model_id": "70f1aaae94f342b58d52ee15e904a4a0",
       "version_major": 2,
       "version_minor": 0
      },
      "text/plain": [
       "  0%|          | 0/1 [00:00<?, ?it/s]"
      ]
     },
     "metadata": {},
     "output_type": "display_data"
    },
    {
     "data": {
      "application/vnd.jupyter.widget-view+json": {
       "model_id": "48a471f55d824691accc8707d2e95c32",
       "version_major": 2,
       "version_minor": 0
      },
      "text/plain": [
       "  0%|          | 0/1 [00:00<?, ?it/s]"
      ]
     },
     "metadata": {},
     "output_type": "display_data"
    },
    {
     "name": "stdout",
     "output_type": "stream",
     "text": [
      "\n",
      "##################################################\n",
      "dimension: 15 | method: umap\n",
      "given shift 3, window size 5 and n 6: history length = 20\n",
      "[INFO] Concatenating the embeddings to the dataframe...\n",
      "[INFO] - columns beginning with 'e' denote the full embddings.\n",
      "[INFO] - columns beginning with 'd' denote the dimension reduced embeddings.\n",
      "[INFO] Adding time feature columns into dataframe in `.df`.\n",
      "[INFO] Adding 'time_encoding' feature...\n",
      "[INFO] Adding 'time_diff' feature...\n",
      "[INFO] Adding 'timeline_index' feature...\n",
      "[INFO] Padding ids and storing in `.df_padded` and `.array_padded` attributes.\n"
     ]
    },
    {
     "data": {
      "application/vnd.jupyter.widget-view+json": {
       "model_id": "9e33eadfe42e4174826d83b7c28b7ec7",
       "version_major": 2,
       "version_minor": 0
      },
      "text/plain": [
       "  0%|          | 0/9699 [00:00<?, ?it/s]"
      ]
     },
     "metadata": {},
     "output_type": "display_data"
    },
    {
     "name": "stdout",
     "output_type": "stream",
     "text": [
      "[INFO] The path was created for each item in the dataframe, by looking at its history, so to include embeddings in the FFN input, we concatenate the embeddings for each sentence / text.\n"
     ]
    },
    {
     "data": {
      "application/vnd.jupyter.widget-view+json": {
       "model_id": "b23e7dd250a6425090dfa98b1c51d968",
       "version_major": 2,
       "version_minor": 0
      },
      "text/plain": [
       "  0%|          | 0/2 [00:00<?, ?it/s]"
      ]
     },
     "metadata": {},
     "output_type": "display_data"
    },
    {
     "data": {
      "application/vnd.jupyter.widget-view+json": {
       "model_id": "e451243cefaa4423bcbd1fc3ad7af882",
       "version_major": 2,
       "version_minor": 0
      },
      "text/plain": [
       "  0%|          | 0/1 [00:00<?, ?it/s]"
      ]
     },
     "metadata": {},
     "output_type": "display_data"
    },
    {
     "data": {
      "application/vnd.jupyter.widget-view+json": {
       "model_id": "3fba0bc4f8c74e34b0cfbefb3b1b81c8",
       "version_major": 2,
       "version_minor": 0
      },
      "text/plain": [
       "  0%|          | 0/2 [00:00<?, ?it/s]"
      ]
     },
     "metadata": {},
     "output_type": "display_data"
    },
    {
     "data": {
      "application/vnd.jupyter.widget-view+json": {
       "model_id": "bafe2d5403fe401dab30dd499a7b8be6",
       "version_major": 2,
       "version_minor": 0
      },
      "text/plain": [
       "  0%|          | 0/2 [00:00<?, ?it/s]"
      ]
     },
     "metadata": {},
     "output_type": "display_data"
    },
    {
     "data": {
      "application/vnd.jupyter.widget-view+json": {
       "model_id": "f927d30c7d554a76905af2758e38f832",
       "version_major": 2,
       "version_minor": 0
      },
      "text/plain": [
       "  0%|          | 0/3 [00:00<?, ?it/s]"
      ]
     },
     "metadata": {},
     "output_type": "display_data"
    },
    {
     "data": {
      "application/vnd.jupyter.widget-view+json": {
       "model_id": "f3d712002dfb4dcc837b91aba9104e89",
       "version_major": 2,
       "version_minor": 0
      },
      "text/plain": [
       "  0%|          | 0/3 [00:00<?, ?it/s]"
      ]
     },
     "metadata": {},
     "output_type": "display_data"
    },
    {
     "data": {
      "application/vnd.jupyter.widget-view+json": {
       "model_id": "a23e18bb6573459cb6b8cfb58fe76872",
       "version_major": 2,
       "version_minor": 0
      },
      "text/plain": [
       "  0%|          | 0/2 [00:00<?, ?it/s]"
      ]
     },
     "metadata": {},
     "output_type": "display_data"
    },
    {
     "data": {
      "application/vnd.jupyter.widget-view+json": {
       "model_id": "2729b52c65ef43a89568b0b776f49a4a",
       "version_major": 2,
       "version_minor": 0
      },
      "text/plain": [
       "  0%|          | 0/3 [00:00<?, ?it/s]"
      ]
     },
     "metadata": {},
     "output_type": "display_data"
    },
    {
     "data": {
      "application/vnd.jupyter.widget-view+json": {
       "model_id": "d573a5dddd57466b9ee839ba87813f74",
       "version_major": 2,
       "version_minor": 0
      },
      "text/plain": [
       "  0%|          | 0/3 [00:00<?, ?it/s]"
      ]
     },
     "metadata": {},
     "output_type": "display_data"
    },
    {
     "data": {
      "application/vnd.jupyter.widget-view+json": {
       "model_id": "4b36764af27d4f418557660316e8143b",
       "version_major": 2,
       "version_minor": 0
      },
      "text/plain": [
       "  0%|          | 0/1 [00:00<?, ?it/s]"
      ]
     },
     "metadata": {},
     "output_type": "display_data"
    },
    {
     "data": {
      "application/vnd.jupyter.widget-view+json": {
       "model_id": "1256fd43b923455d9ad75adfbfae8e7f",
       "version_major": 2,
       "version_minor": 0
      },
      "text/plain": [
       "  0%|          | 0/2 [00:00<?, ?it/s]"
      ]
     },
     "metadata": {},
     "output_type": "display_data"
    },
    {
     "data": {
      "application/vnd.jupyter.widget-view+json": {
       "model_id": "5c482c93e74543a6984595153caaa363",
       "version_major": 2,
       "version_minor": 0
      },
      "text/plain": [
       "  0%|          | 0/2 [00:00<?, ?it/s]"
      ]
     },
     "metadata": {},
     "output_type": "display_data"
    },
    {
     "data": {
      "application/vnd.jupyter.widget-view+json": {
       "model_id": "e409eab4eb2e4311a3d20c8ead7430b3",
       "version_major": 2,
       "version_minor": 0
      },
      "text/plain": [
       "  0%|          | 0/3 [00:00<?, ?it/s]"
      ]
     },
     "metadata": {},
     "output_type": "display_data"
    },
    {
     "data": {
      "application/vnd.jupyter.widget-view+json": {
       "model_id": "f726a7e95e1c43ce8f57dda568473183",
       "version_major": 2,
       "version_minor": 0
      },
      "text/plain": [
       "  0%|          | 0/3 [00:00<?, ?it/s]"
      ]
     },
     "metadata": {},
     "output_type": "display_data"
    },
    {
     "data": {
      "application/vnd.jupyter.widget-view+json": {
       "model_id": "2bd7b3c647c841adb5dbcd932eba2e9b",
       "version_major": 2,
       "version_minor": 0
      },
      "text/plain": [
       "  0%|          | 0/2 [00:00<?, ?it/s]"
      ]
     },
     "metadata": {},
     "output_type": "display_data"
    },
    {
     "data": {
      "application/vnd.jupyter.widget-view+json": {
       "model_id": "640fabdee0cb492c89dcda139e8ba240",
       "version_major": 2,
       "version_minor": 0
      },
      "text/plain": [
       "  0%|          | 0/3 [00:00<?, ?it/s]"
      ]
     },
     "metadata": {},
     "output_type": "display_data"
    },
    {
     "data": {
      "application/vnd.jupyter.widget-view+json": {
       "model_id": "23dd4541e1bb4504b369105dfe462e6a",
       "version_major": 2,
       "version_minor": 0
      },
      "text/plain": [
       "  0%|          | 0/3 [00:00<?, ?it/s]"
      ]
     },
     "metadata": {},
     "output_type": "display_data"
    },
    {
     "name": "stdout",
     "output_type": "stream",
     "text": [
      "given shift 3, window size 5 and n 6: history length = 20\n",
      "[INFO] Concatenating the embeddings to the dataframe...\n",
      "[INFO] - columns beginning with 'e' denote the full embddings.\n",
      "[INFO] - columns beginning with 'd' denote the dimension reduced embeddings.\n",
      "[INFO] Adding time feature columns into dataframe in `.df`.\n",
      "[INFO] Adding 'time_encoding' feature...\n",
      "[INFO] Adding 'time_diff' feature...\n",
      "[INFO] Adding 'timeline_index' feature...\n",
      "[INFO] Padding ids and storing in `.df_padded` and `.array_padded` attributes.\n"
     ]
    },
    {
     "data": {
      "application/vnd.jupyter.widget-view+json": {
       "model_id": "7a376852508d4af495d9ae6791f0b0c3",
       "version_major": 2,
       "version_minor": 0
      },
      "text/plain": [
       "  0%|          | 0/9699 [00:00<?, ?it/s]"
      ]
     },
     "metadata": {},
     "output_type": "display_data"
    },
    {
     "name": "stdout",
     "output_type": "stream",
     "text": [
      "[INFO] The path was created for each item in the dataframe, by looking at its history, so to include embeddings in the FFN input, we concatenate the embeddings for each sentence / text.\n",
      "saving results dataframe to CSV for this hyperparameter search in client_talk_type_output/seqsignet_attention_mha_umap_focal_2_3_5_6_kfold.csv\n",
      "saving the best model results dataframe to CSV for this hyperparameter search in client_talk_type_output/seqsignet_attention_mha_umap_focal_2_3_5_6_kfold_best_model.csv\n"
     ]
    }
   ],
   "source": [
    "(\n",
    "    seqsignet_attention_mha_umap_kfold_20,\n",
    "    best_seqsignet_attention_mha_umap_kfold_20,\n",
    "    _,\n",
    "    __,\n",
    ") = seqsignet_full_attention_hyperparameter_search(\n",
    "    shift=shift,\n",
    "    window_size=window_size,\n",
    "    n=n,\n",
    "    dim_reduce_methods=[\"umap\"],\n",
    "    results_output=f\"{output_dir}/seqsignet_attention_mha_umap_focal_{gamma}_{shift}_{window_size}_{n}_kfold.csv\",\n",
    "    **kwargs,\n",
    ")"
   ]
  },
  {
   "cell_type": "code",
   "execution_count": 30,
   "id": "df26388e",
   "metadata": {},
   "outputs": [
    {
     "data": {
      "text/html": [
       "<div>\n",
       "<style scoped>\n",
       "    .dataframe tbody tr th:only-of-type {\n",
       "        vertical-align: middle;\n",
       "    }\n",
       "\n",
       "    .dataframe tbody tr th {\n",
       "        vertical-align: top;\n",
       "    }\n",
       "\n",
       "    .dataframe thead th {\n",
       "        text-align: right;\n",
       "    }\n",
       "</style>\n",
       "<table border=\"1\" class=\"dataframe\">\n",
       "  <thead>\n",
       "    <tr style=\"text-align: right;\">\n",
       "      <th></th>\n",
       "      <th>loss</th>\n",
       "      <th>accuracy</th>\n",
       "      <th>f1</th>\n",
       "      <th>f1_scores</th>\n",
       "      <th>precision</th>\n",
       "      <th>precision_scores</th>\n",
       "      <th>recall</th>\n",
       "      <th>recall_scores</th>\n",
       "      <th>valid_loss</th>\n",
       "      <th>valid_accuracy</th>\n",
       "      <th>...</th>\n",
       "      <th>seed</th>\n",
       "      <th>loss_function</th>\n",
       "      <th>gamma</th>\n",
       "      <th>k_fold</th>\n",
       "      <th>n_splits</th>\n",
       "      <th>augmentation_type</th>\n",
       "      <th>hidden_dim_aug</th>\n",
       "      <th>comb_method</th>\n",
       "      <th>batch_size</th>\n",
       "      <th>model_id</th>\n",
       "    </tr>\n",
       "  </thead>\n",
       "  <tbody>\n",
       "    <tr>\n",
       "      <th>0</th>\n",
       "      <td>None</td>\n",
       "      <td>0.637356</td>\n",
       "      <td>0.516129</td>\n",
       "      <td>[0.7654650645304851, 0.44117647058823534, 0.34...</td>\n",
       "      <td>0.510886</td>\n",
       "      <td>[0.7858665854401462, 0.4636363636363636, 0.283...</td>\n",
       "      <td>0.532599</td>\n",
       "      <td>[0.746096009253904, 0.4207920792079208, 0.4309...</td>\n",
       "      <td>None</td>\n",
       "      <td>0.668433</td>\n",
       "      <td>...</td>\n",
       "      <td>1</td>\n",
       "      <td>focal</td>\n",
       "      <td>2</td>\n",
       "      <td>True</td>\n",
       "      <td>5</td>\n",
       "      <td>Conv1d</td>\n",
       "      <td>None</td>\n",
       "      <td>concatenation</td>\n",
       "      <td>64</td>\n",
       "      <td>0</td>\n",
       "    </tr>\n",
       "    <tr>\n",
       "      <th>0</th>\n",
       "      <td>None</td>\n",
       "      <td>0.636782</td>\n",
       "      <td>0.513819</td>\n",
       "      <td>[0.7676232523914643, 0.4186691312384473, 0.355...</td>\n",
       "      <td>0.513291</td>\n",
       "      <td>[0.7815403056637699, 0.47584033613445376, 0.28...</td>\n",
       "      <td>0.535379</td>\n",
       "      <td>[0.7541931752458069, 0.37376237623762376, 0.47...</td>\n",
       "      <td>None</td>\n",
       "      <td>0.660405</td>\n",
       "      <td>...</td>\n",
       "      <td>12</td>\n",
       "      <td>focal</td>\n",
       "      <td>2</td>\n",
       "      <td>True</td>\n",
       "      <td>5</td>\n",
       "      <td>Conv1d</td>\n",
       "      <td>None</td>\n",
       "      <td>concatenation</td>\n",
       "      <td>64</td>\n",
       "      <td>0</td>\n",
       "    </tr>\n",
       "    <tr>\n",
       "      <th>0</th>\n",
       "      <td>None</td>\n",
       "      <td>0.637356</td>\n",
       "      <td>0.515270</td>\n",
       "      <td>[0.7667109340416113, 0.4293429342934293, 0.349...</td>\n",
       "      <td>0.512624</td>\n",
       "      <td>[0.7827658933413679, 0.47227722772277225, 0.28...</td>\n",
       "      <td>0.534349</td>\n",
       "      <td>[0.7513013302486987, 0.3935643564356436, 0.458...</td>\n",
       "      <td>None</td>\n",
       "      <td>0.661207</td>\n",
       "      <td>...</td>\n",
       "      <td>123</td>\n",
       "      <td>focal</td>\n",
       "      <td>2</td>\n",
       "      <td>True</td>\n",
       "      <td>5</td>\n",
       "      <td>Conv1d</td>\n",
       "      <td>None</td>\n",
       "      <td>concatenation</td>\n",
       "      <td>64</td>\n",
       "      <td>0</td>\n",
       "    </tr>\n",
       "    <tr>\n",
       "      <th>0</th>\n",
       "      <td>None</td>\n",
       "      <td>0.597126</td>\n",
       "      <td>0.432631</td>\n",
       "      <td>[0.7443189938545091, 0.33028286189683853, 0.22...</td>\n",
       "      <td>0.435358</td>\n",
       "      <td>[0.7358010737496468, 0.33305369127516776, 0.23...</td>\n",
       "      <td>0.430501</td>\n",
       "      <td>[0.7530364372469636, 0.32755775577557755, 0.21...</td>\n",
       "      <td>None</td>\n",
       "      <td>0.635838</td>\n",
       "      <td>...</td>\n",
       "      <td>1</td>\n",
       "      <td>focal</td>\n",
       "      <td>2</td>\n",
       "      <td>True</td>\n",
       "      <td>5</td>\n",
       "      <td>Conv1d</td>\n",
       "      <td>None</td>\n",
       "      <td>concatenation</td>\n",
       "      <td>64</td>\n",
       "      <td>1</td>\n",
       "    </tr>\n",
       "    <tr>\n",
       "      <th>0</th>\n",
       "      <td>None</td>\n",
       "      <td>0.597701</td>\n",
       "      <td>0.451603</td>\n",
       "      <td>[0.7373244641537325, 0.3819628647214854, 0.235...</td>\n",
       "      <td>0.452792</td>\n",
       "      <td>[0.7541578469912307, 0.35318850735809393, 0.25...</td>\n",
       "      <td>0.452962</td>\n",
       "      <td>[0.7212261422787739, 0.4158415841584158, 0.221...</td>\n",
       "      <td>None</td>\n",
       "      <td>0.640013</td>\n",
       "      <td>...</td>\n",
       "      <td>12</td>\n",
       "      <td>focal</td>\n",
       "      <td>2</td>\n",
       "      <td>True</td>\n",
       "      <td>5</td>\n",
       "      <td>Conv1d</td>\n",
       "      <td>None</td>\n",
       "      <td>concatenation</td>\n",
       "      <td>64</td>\n",
       "      <td>1</td>\n",
       "    </tr>\n",
       "    <tr>\n",
       "      <th>...</th>\n",
       "      <td>...</td>\n",
       "      <td>...</td>\n",
       "      <td>...</td>\n",
       "      <td>...</td>\n",
       "      <td>...</td>\n",
       "      <td>...</td>\n",
       "      <td>...</td>\n",
       "      <td>...</td>\n",
       "      <td>...</td>\n",
       "      <td>...</td>\n",
       "      <td>...</td>\n",
       "      <td>...</td>\n",
       "      <td>...</td>\n",
       "      <td>...</td>\n",
       "      <td>...</td>\n",
       "      <td>...</td>\n",
       "      <td>...</td>\n",
       "      <td>...</td>\n",
       "      <td>...</td>\n",
       "      <td>...</td>\n",
       "      <td>...</td>\n",
       "    </tr>\n",
       "    <tr>\n",
       "      <th>0</th>\n",
       "      <td>None</td>\n",
       "      <td>0.615709</td>\n",
       "      <td>0.460318</td>\n",
       "      <td>[0.7609350351355227, 0.35045317220543803, 0.26...</td>\n",
       "      <td>0.460173</td>\n",
       "      <td>[0.7547652916073969, 0.36742081447963804, 0.25...</td>\n",
       "      <td>0.461336</td>\n",
       "      <td>[0.7672064777327935, 0.334983498349835, 0.2818...</td>\n",
       "      <td>None</td>\n",
       "      <td>0.664258</td>\n",
       "      <td>...</td>\n",
       "      <td>12</td>\n",
       "      <td>focal</td>\n",
       "      <td>2</td>\n",
       "      <td>True</td>\n",
       "      <td>5</td>\n",
       "      <td>Conv1d</td>\n",
       "      <td>None</td>\n",
       "      <td>concatenation</td>\n",
       "      <td>64</td>\n",
       "      <td>22</td>\n",
       "    </tr>\n",
       "    <tr>\n",
       "      <th>0</th>\n",
       "      <td>None</td>\n",
       "      <td>0.624138</td>\n",
       "      <td>0.454414</td>\n",
       "      <td>[0.7642140468227424, 0.34387527839643656, 0.25...</td>\n",
       "      <td>0.462783</td>\n",
       "      <td>[0.7374932759548144, 0.3736689254598258, 0.277...</td>\n",
       "      <td>0.449263</td>\n",
       "      <td>[0.7929438982070561, 0.3184818481848185, 0.236...</td>\n",
       "      <td>None</td>\n",
       "      <td>0.662813</td>\n",
       "      <td>...</td>\n",
       "      <td>123</td>\n",
       "      <td>focal</td>\n",
       "      <td>2</td>\n",
       "      <td>True</td>\n",
       "      <td>5</td>\n",
       "      <td>Conv1d</td>\n",
       "      <td>None</td>\n",
       "      <td>concatenation</td>\n",
       "      <td>64</td>\n",
       "      <td>22</td>\n",
       "    </tr>\n",
       "    <tr>\n",
       "      <th>0</th>\n",
       "      <td>None</td>\n",
       "      <td>0.653831</td>\n",
       "      <td>0.508982</td>\n",
       "      <td>[0.7829787234042553, 0.41834862385321103, 0.32...</td>\n",
       "      <td>0.512644</td>\n",
       "      <td>[0.7683741648106904, 0.47107438016528924, 0.29...</td>\n",
       "      <td>0.510856</td>\n",
       "      <td>[0.7981492192018508, 0.37623762376237624, 0.35...</td>\n",
       "      <td>None</td>\n",
       "      <td>0.664740</td>\n",
       "      <td>...</td>\n",
       "      <td>1</td>\n",
       "      <td>focal</td>\n",
       "      <td>2</td>\n",
       "      <td>True</td>\n",
       "      <td>5</td>\n",
       "      <td>Conv1d</td>\n",
       "      <td>None</td>\n",
       "      <td>concatenation</td>\n",
       "      <td>64</td>\n",
       "      <td>23</td>\n",
       "    </tr>\n",
       "    <tr>\n",
       "      <th>0</th>\n",
       "      <td>None</td>\n",
       "      <td>0.641379</td>\n",
       "      <td>0.520587</td>\n",
       "      <td>[0.7706666666666666, 0.4329718004338395, 0.358...</td>\n",
       "      <td>0.514548</td>\n",
       "      <td>[0.790097205346294, 0.4565416285452882, 0.2970...</td>\n",
       "      <td>0.538265</td>\n",
       "      <td>[0.7521688837478311, 0.41171617161716173, 0.45...</td>\n",
       "      <td>None</td>\n",
       "      <td>0.663134</td>\n",
       "      <td>...</td>\n",
       "      <td>12</td>\n",
       "      <td>focal</td>\n",
       "      <td>2</td>\n",
       "      <td>True</td>\n",
       "      <td>5</td>\n",
       "      <td>Conv1d</td>\n",
       "      <td>None</td>\n",
       "      <td>concatenation</td>\n",
       "      <td>64</td>\n",
       "      <td>23</td>\n",
       "    </tr>\n",
       "    <tr>\n",
       "      <th>0</th>\n",
       "      <td>None</td>\n",
       "      <td>0.645977</td>\n",
       "      <td>0.518378</td>\n",
       "      <td>[0.7734352042315604, 0.4468085106382979, 0.334...</td>\n",
       "      <td>0.513464</td>\n",
       "      <td>[0.7861409796893668, 0.46133567662565905, 0.29...</td>\n",
       "      <td>0.528404</td>\n",
       "      <td>[0.7611336032388664, 0.43316831683168316, 0.39...</td>\n",
       "      <td>None</td>\n",
       "      <td>0.662974</td>\n",
       "      <td>...</td>\n",
       "      <td>123</td>\n",
       "      <td>focal</td>\n",
       "      <td>2</td>\n",
       "      <td>True</td>\n",
       "      <td>5</td>\n",
       "      <td>Conv1d</td>\n",
       "      <td>None</td>\n",
       "      <td>concatenation</td>\n",
       "      <td>64</td>\n",
       "      <td>23</td>\n",
       "    </tr>\n",
       "  </tbody>\n",
       "</table>\n",
       "<p>72 rows × 47 columns</p>\n",
       "</div>"
      ],
      "text/plain": [
       "    loss  accuracy        f1  \\\n",
       "0   None  0.637356  0.516129   \n",
       "0   None  0.636782  0.513819   \n",
       "0   None  0.637356  0.515270   \n",
       "0   None  0.597126  0.432631   \n",
       "0   None  0.597701  0.451603   \n",
       "..   ...       ...       ...   \n",
       "0   None  0.615709  0.460318   \n",
       "0   None  0.624138  0.454414   \n",
       "0   None  0.653831  0.508982   \n",
       "0   None  0.641379  0.520587   \n",
       "0   None  0.645977  0.518378   \n",
       "\n",
       "                                            f1_scores  precision  \\\n",
       "0   [0.7654650645304851, 0.44117647058823534, 0.34...   0.510886   \n",
       "0   [0.7676232523914643, 0.4186691312384473, 0.355...   0.513291   \n",
       "0   [0.7667109340416113, 0.4293429342934293, 0.349...   0.512624   \n",
       "0   [0.7443189938545091, 0.33028286189683853, 0.22...   0.435358   \n",
       "0   [0.7373244641537325, 0.3819628647214854, 0.235...   0.452792   \n",
       "..                                                ...        ...   \n",
       "0   [0.7609350351355227, 0.35045317220543803, 0.26...   0.460173   \n",
       "0   [0.7642140468227424, 0.34387527839643656, 0.25...   0.462783   \n",
       "0   [0.7829787234042553, 0.41834862385321103, 0.32...   0.512644   \n",
       "0   [0.7706666666666666, 0.4329718004338395, 0.358...   0.514548   \n",
       "0   [0.7734352042315604, 0.4468085106382979, 0.334...   0.513464   \n",
       "\n",
       "                                     precision_scores    recall  \\\n",
       "0   [0.7858665854401462, 0.4636363636363636, 0.283...  0.532599   \n",
       "0   [0.7815403056637699, 0.47584033613445376, 0.28...  0.535379   \n",
       "0   [0.7827658933413679, 0.47227722772277225, 0.28...  0.534349   \n",
       "0   [0.7358010737496468, 0.33305369127516776, 0.23...  0.430501   \n",
       "0   [0.7541578469912307, 0.35318850735809393, 0.25...  0.452962   \n",
       "..                                                ...       ...   \n",
       "0   [0.7547652916073969, 0.36742081447963804, 0.25...  0.461336   \n",
       "0   [0.7374932759548144, 0.3736689254598258, 0.277...  0.449263   \n",
       "0   [0.7683741648106904, 0.47107438016528924, 0.29...  0.510856   \n",
       "0   [0.790097205346294, 0.4565416285452882, 0.2970...  0.538265   \n",
       "0   [0.7861409796893668, 0.46133567662565905, 0.29...  0.528404   \n",
       "\n",
       "                                        recall_scores valid_loss  \\\n",
       "0   [0.746096009253904, 0.4207920792079208, 0.4309...       None   \n",
       "0   [0.7541931752458069, 0.37376237623762376, 0.47...       None   \n",
       "0   [0.7513013302486987, 0.3935643564356436, 0.458...       None   \n",
       "0   [0.7530364372469636, 0.32755775577557755, 0.21...       None   \n",
       "0   [0.7212261422787739, 0.4158415841584158, 0.221...       None   \n",
       "..                                                ...        ...   \n",
       "0   [0.7672064777327935, 0.334983498349835, 0.2818...       None   \n",
       "0   [0.7929438982070561, 0.3184818481848185, 0.236...       None   \n",
       "0   [0.7981492192018508, 0.37623762376237624, 0.35...       None   \n",
       "0   [0.7521688837478311, 0.41171617161716173, 0.45...       None   \n",
       "0   [0.7611336032388664, 0.43316831683168316, 0.39...       None   \n",
       "\n",
       "    valid_accuracy  ...  seed loss_function  gamma k_fold  n_splits  \\\n",
       "0         0.668433  ...     1         focal      2   True         5   \n",
       "0         0.660405  ...    12         focal      2   True         5   \n",
       "0         0.661207  ...   123         focal      2   True         5   \n",
       "0         0.635838  ...     1         focal      2   True         5   \n",
       "0         0.640013  ...    12         focal      2   True         5   \n",
       "..             ...  ...   ...           ...    ...    ...       ...   \n",
       "0         0.664258  ...    12         focal      2   True         5   \n",
       "0         0.662813  ...   123         focal      2   True         5   \n",
       "0         0.664740  ...     1         focal      2   True         5   \n",
       "0         0.663134  ...    12         focal      2   True         5   \n",
       "0         0.662974  ...   123         focal      2   True         5   \n",
       "\n",
       "   augmentation_type  hidden_dim_aug    comb_method  batch_size  model_id  \n",
       "0             Conv1d            None  concatenation          64         0  \n",
       "0             Conv1d            None  concatenation          64         0  \n",
       "0             Conv1d            None  concatenation          64         0  \n",
       "0             Conv1d            None  concatenation          64         1  \n",
       "0             Conv1d            None  concatenation          64         1  \n",
       "..               ...             ...            ...         ...       ...  \n",
       "0             Conv1d            None  concatenation          64        22  \n",
       "0             Conv1d            None  concatenation          64        22  \n",
       "0             Conv1d            None  concatenation          64        23  \n",
       "0             Conv1d            None  concatenation          64        23  \n",
       "0             Conv1d            None  concatenation          64        23  \n",
       "\n",
       "[72 rows x 47 columns]"
      ]
     },
     "execution_count": 30,
     "metadata": {},
     "output_type": "execute_result"
    }
   ],
   "source": [
    "seqsignet_attention_mha_umap_kfold_20"
   ]
  },
  {
   "cell_type": "code",
   "execution_count": 31,
   "id": "afeead7d",
   "metadata": {},
   "outputs": [
    {
     "data": {
      "text/plain": [
       "0.5043913067188163"
      ]
     },
     "execution_count": 31,
     "metadata": {},
     "output_type": "execute_result"
    }
   ],
   "source": [
    "best_seqsignet_attention_mha_umap_kfold_20[\"f1\"].mean()"
   ]
  },
  {
   "cell_type": "code",
   "execution_count": 32,
   "id": "a51f3dd2",
   "metadata": {},
   "outputs": [
    {
     "data": {
      "text/plain": [
       "0.4963152847177106"
      ]
     },
     "execution_count": 32,
     "metadata": {},
     "output_type": "execute_result"
    }
   ],
   "source": [
    "best_seqsignet_attention_mha_umap_kfold_20[\"precision\"].mean()"
   ]
  },
  {
   "cell_type": "code",
   "execution_count": 33,
   "id": "ef127f1e",
   "metadata": {},
   "outputs": [
    {
     "data": {
      "text/plain": [
       "0.5235104559231708"
      ]
     },
     "execution_count": 33,
     "metadata": {},
     "output_type": "execute_result"
    }
   ],
   "source": [
    "best_seqsignet_attention_mha_umap_kfold_20[\"recall\"].mean()"
   ]
  },
  {
   "cell_type": "code",
   "execution_count": 34,
   "id": "1584e0f2",
   "metadata": {},
   "outputs": [
    {
     "data": {
      "text/plain": [
       "array([0.74594372, 0.44552708, 0.32170312])"
      ]
     },
     "execution_count": 34,
     "metadata": {},
     "output_type": "execute_result"
    }
   ],
   "source": [
    "np.stack(best_seqsignet_attention_mha_umap_kfold_20[\"f1_scores\"]).mean(axis=0)"
   ]
  },
  {
   "cell_type": "code",
   "execution_count": 35,
   "id": "7b4943be",
   "metadata": {},
   "outputs": [
    {
     "data": {
      "text/plain": [
       "array([0.79084425, 0.42861956, 0.26948205])"
      ]
     },
     "execution_count": 35,
     "metadata": {},
     "output_type": "execute_result"
    }
   ],
   "source": [
    "np.stack(best_seqsignet_attention_mha_umap_kfold_20[\"precision_scores\"]).mean(axis=0)"
   ]
  },
  {
   "cell_type": "code",
   "execution_count": 36,
   "id": "15c89795",
   "metadata": {},
   "outputs": [
    {
     "data": {
      "text/plain": [
       "array([0.70628494, 0.46424642, 0.4       ])"
      ]
     },
     "execution_count": 36,
     "metadata": {},
     "output_type": "execute_result"
    }
   ],
   "source": [
    "np.stack(best_seqsignet_attention_mha_umap_kfold_20[\"recall_scores\"]).mean(axis=0)"
   ]
  },
  {
   "cell_type": "markdown",
   "id": "811a6de0",
   "metadata": {},
   "source": [
    "## GRP"
   ]
  },
  {
   "cell_type": "code",
   "execution_count": 37,
   "id": "8b137f3c",
   "metadata": {},
   "outputs": [
    {
     "data": {
      "application/vnd.jupyter.widget-view+json": {
       "model_id": "25927587413d4350ad7905cca7b1a828",
       "version_major": 2,
       "version_minor": 0
      },
      "text/plain": [
       "  0%|          | 0/1 [00:00<?, ?it/s]"
      ]
     },
     "metadata": {},
     "output_type": "display_data"
    },
    {
     "data": {
      "application/vnd.jupyter.widget-view+json": {
       "model_id": "5d38e36468db461d9e7ad3b0d3a88167",
       "version_major": 2,
       "version_minor": 0
      },
      "text/plain": [
       "  0%|          | 0/1 [00:00<?, ?it/s]"
      ]
     },
     "metadata": {},
     "output_type": "display_data"
    },
    {
     "name": "stdout",
     "output_type": "stream",
     "text": [
      "\n",
      "##################################################\n",
      "dimension: 15 | method: gaussian_random_projection\n",
      "given shift 3, window size 5 and n 6: history length = 20\n",
      "[INFO] Concatenating the embeddings to the dataframe...\n",
      "[INFO] - columns beginning with 'e' denote the full embddings.\n",
      "[INFO] - columns beginning with 'd' denote the dimension reduced embeddings.\n",
      "[INFO] Adding time feature columns into dataframe in `.df`.\n",
      "[INFO] Adding 'time_encoding' feature...\n",
      "[INFO] Adding 'time_diff' feature...\n",
      "[INFO] Adding 'timeline_index' feature...\n",
      "[INFO] Padding ids and storing in `.df_padded` and `.array_padded` attributes.\n"
     ]
    },
    {
     "data": {
      "application/vnd.jupyter.widget-view+json": {
       "model_id": "7021200b945b4bc9ae97dcc918b96113",
       "version_major": 2,
       "version_minor": 0
      },
      "text/plain": [
       "  0%|          | 0/9699 [00:00<?, ?it/s]"
      ]
     },
     "metadata": {},
     "output_type": "display_data"
    },
    {
     "name": "stdout",
     "output_type": "stream",
     "text": [
      "[INFO] The path was created for each item in the dataframe, by looking at its history, so to include embeddings in the FFN input, we concatenate the embeddings for each sentence / text.\n"
     ]
    },
    {
     "data": {
      "application/vnd.jupyter.widget-view+json": {
       "model_id": "36e6776f933144f988183eda5532bc0f",
       "version_major": 2,
       "version_minor": 0
      },
      "text/plain": [
       "  0%|          | 0/2 [00:00<?, ?it/s]"
      ]
     },
     "metadata": {},
     "output_type": "display_data"
    },
    {
     "data": {
      "application/vnd.jupyter.widget-view+json": {
       "model_id": "6cbf6c3ca1a64ae9999ac1170b84102c",
       "version_major": 2,
       "version_minor": 0
      },
      "text/plain": [
       "  0%|          | 0/1 [00:00<?, ?it/s]"
      ]
     },
     "metadata": {},
     "output_type": "display_data"
    },
    {
     "data": {
      "application/vnd.jupyter.widget-view+json": {
       "model_id": "6296944e49894c36b20d6d1c5f306979",
       "version_major": 2,
       "version_minor": 0
      },
      "text/plain": [
       "  0%|          | 0/2 [00:00<?, ?it/s]"
      ]
     },
     "metadata": {},
     "output_type": "display_data"
    },
    {
     "data": {
      "application/vnd.jupyter.widget-view+json": {
       "model_id": "db80df8ec243446eb6eb4247a2964eaa",
       "version_major": 2,
       "version_minor": 0
      },
      "text/plain": [
       "  0%|          | 0/2 [00:00<?, ?it/s]"
      ]
     },
     "metadata": {},
     "output_type": "display_data"
    },
    {
     "data": {
      "application/vnd.jupyter.widget-view+json": {
       "model_id": "bbe96619cc854877aca20b8b19f73097",
       "version_major": 2,
       "version_minor": 0
      },
      "text/plain": [
       "  0%|          | 0/3 [00:00<?, ?it/s]"
      ]
     },
     "metadata": {},
     "output_type": "display_data"
    },
    {
     "data": {
      "application/vnd.jupyter.widget-view+json": {
       "model_id": "ab1ec59f4ae543019221f747d6676e96",
       "version_major": 2,
       "version_minor": 0
      },
      "text/plain": [
       "  0%|          | 0/3 [00:00<?, ?it/s]"
      ]
     },
     "metadata": {},
     "output_type": "display_data"
    },
    {
     "data": {
      "application/vnd.jupyter.widget-view+json": {
       "model_id": "d47338b4599144b59ece441b7058bad9",
       "version_major": 2,
       "version_minor": 0
      },
      "text/plain": [
       "  0%|          | 0/2 [00:00<?, ?it/s]"
      ]
     },
     "metadata": {},
     "output_type": "display_data"
    },
    {
     "data": {
      "application/vnd.jupyter.widget-view+json": {
       "model_id": "98007f4b04ac421ba86bc8f2b32a704f",
       "version_major": 2,
       "version_minor": 0
      },
      "text/plain": [
       "  0%|          | 0/3 [00:00<?, ?it/s]"
      ]
     },
     "metadata": {},
     "output_type": "display_data"
    },
    {
     "data": {
      "application/vnd.jupyter.widget-view+json": {
       "model_id": "46b4314139b24c01b0dfe6dd356478d3",
       "version_major": 2,
       "version_minor": 0
      },
      "text/plain": [
       "  0%|          | 0/3 [00:00<?, ?it/s]"
      ]
     },
     "metadata": {},
     "output_type": "display_data"
    },
    {
     "data": {
      "application/vnd.jupyter.widget-view+json": {
       "model_id": "23a7d155757b47118093bd43613fce9c",
       "version_major": 2,
       "version_minor": 0
      },
      "text/plain": [
       "  0%|          | 0/1 [00:00<?, ?it/s]"
      ]
     },
     "metadata": {},
     "output_type": "display_data"
    },
    {
     "data": {
      "application/vnd.jupyter.widget-view+json": {
       "model_id": "dcbbb3d272cb40c3a0d20faffcdbfe41",
       "version_major": 2,
       "version_minor": 0
      },
      "text/plain": [
       "  0%|          | 0/2 [00:00<?, ?it/s]"
      ]
     },
     "metadata": {},
     "output_type": "display_data"
    },
    {
     "data": {
      "application/vnd.jupyter.widget-view+json": {
       "model_id": "3bbae20d51bc43ae92274a1dec4c53cb",
       "version_major": 2,
       "version_minor": 0
      },
      "text/plain": [
       "  0%|          | 0/2 [00:00<?, ?it/s]"
      ]
     },
     "metadata": {},
     "output_type": "display_data"
    },
    {
     "data": {
      "application/vnd.jupyter.widget-view+json": {
       "model_id": "86ec12a857444dff94ed734ef2b4396f",
       "version_major": 2,
       "version_minor": 0
      },
      "text/plain": [
       "  0%|          | 0/3 [00:00<?, ?it/s]"
      ]
     },
     "metadata": {},
     "output_type": "display_data"
    },
    {
     "data": {
      "application/vnd.jupyter.widget-view+json": {
       "model_id": "8ce723a8de624551988736c4c61aeded",
       "version_major": 2,
       "version_minor": 0
      },
      "text/plain": [
       "  0%|          | 0/3 [00:00<?, ?it/s]"
      ]
     },
     "metadata": {},
     "output_type": "display_data"
    },
    {
     "data": {
      "application/vnd.jupyter.widget-view+json": {
       "model_id": "01a9bb5fb1cf49879b78e7541f4059b9",
       "version_major": 2,
       "version_minor": 0
      },
      "text/plain": [
       "  0%|          | 0/2 [00:00<?, ?it/s]"
      ]
     },
     "metadata": {},
     "output_type": "display_data"
    },
    {
     "data": {
      "application/vnd.jupyter.widget-view+json": {
       "model_id": "804e7ff8ab534bcfa0f2a3649cf54288",
       "version_major": 2,
       "version_minor": 0
      },
      "text/plain": [
       "  0%|          | 0/3 [00:00<?, ?it/s]"
      ]
     },
     "metadata": {},
     "output_type": "display_data"
    },
    {
     "data": {
      "application/vnd.jupyter.widget-view+json": {
       "model_id": "aa718649a7b048e7bcd0f0e4fad334a5",
       "version_major": 2,
       "version_minor": 0
      },
      "text/plain": [
       "  0%|          | 0/3 [00:00<?, ?it/s]"
      ]
     },
     "metadata": {},
     "output_type": "display_data"
    },
    {
     "name": "stdout",
     "output_type": "stream",
     "text": [
      "given shift 3, window size 5 and n 6: history length = 20\n",
      "[INFO] Concatenating the embeddings to the dataframe...\n",
      "[INFO] - columns beginning with 'e' denote the full embddings.\n",
      "[INFO] - columns beginning with 'd' denote the dimension reduced embeddings.\n",
      "[INFO] Adding time feature columns into dataframe in `.df`.\n",
      "[INFO] Adding 'time_encoding' feature...\n",
      "[INFO] Adding 'time_diff' feature...\n",
      "[INFO] Adding 'timeline_index' feature...\n",
      "[INFO] Padding ids and storing in `.df_padded` and `.array_padded` attributes.\n"
     ]
    },
    {
     "data": {
      "application/vnd.jupyter.widget-view+json": {
       "model_id": "865d0935322f4979a659854f07d05d24",
       "version_major": 2,
       "version_minor": 0
      },
      "text/plain": [
       "  0%|          | 0/9699 [00:00<?, ?it/s]"
      ]
     },
     "metadata": {},
     "output_type": "display_data"
    },
    {
     "name": "stdout",
     "output_type": "stream",
     "text": [
      "[INFO] The path was created for each item in the dataframe, by looking at its history, so to include embeddings in the FFN input, we concatenate the embeddings for each sentence / text.\n",
      "saving results dataframe to CSV for this hyperparameter search in client_talk_type_output/seqsignet_attention_mha_grp_focal_2_3_5_6_kfold.csv\n",
      "saving the best model results dataframe to CSV for this hyperparameter search in client_talk_type_output/seqsignet_attention_mha_grp_focal_2_3_5_6_kfold_best_model.csv\n"
     ]
    }
   ],
   "source": [
    "(\n",
    "    seqsignet_attention_mha_grp_kfold_20,\n",
    "    best_seqsignet_attention_mha_grp_kfold_20,\n",
    "    _,\n",
    "    __,\n",
    ") = seqsignet_full_attention_hyperparameter_search(\n",
    "    shift=shift,\n",
    "    window_size=window_size,\n",
    "    n=n,\n",
    "    dim_reduce_methods=[\"gaussian_random_projection\"],\n",
    "    results_output=f\"{output_dir}/seqsignet_attention_mha_grp_focal_{gamma}_{shift}_{window_size}_{n}_kfold.csv\",\n",
    "    **kwargs,\n",
    ")"
   ]
  },
  {
   "cell_type": "code",
   "execution_count": 38,
   "id": "f3298f8c",
   "metadata": {},
   "outputs": [
    {
     "data": {
      "text/html": [
       "<div>\n",
       "<style scoped>\n",
       "    .dataframe tbody tr th:only-of-type {\n",
       "        vertical-align: middle;\n",
       "    }\n",
       "\n",
       "    .dataframe tbody tr th {\n",
       "        vertical-align: top;\n",
       "    }\n",
       "\n",
       "    .dataframe thead th {\n",
       "        text-align: right;\n",
       "    }\n",
       "</style>\n",
       "<table border=\"1\" class=\"dataframe\">\n",
       "  <thead>\n",
       "    <tr style=\"text-align: right;\">\n",
       "      <th></th>\n",
       "      <th>loss</th>\n",
       "      <th>accuracy</th>\n",
       "      <th>f1</th>\n",
       "      <th>f1_scores</th>\n",
       "      <th>precision</th>\n",
       "      <th>precision_scores</th>\n",
       "      <th>recall</th>\n",
       "      <th>recall_scores</th>\n",
       "      <th>valid_loss</th>\n",
       "      <th>valid_accuracy</th>\n",
       "      <th>...</th>\n",
       "      <th>seed</th>\n",
       "      <th>loss_function</th>\n",
       "      <th>gamma</th>\n",
       "      <th>k_fold</th>\n",
       "      <th>n_splits</th>\n",
       "      <th>augmentation_type</th>\n",
       "      <th>hidden_dim_aug</th>\n",
       "      <th>comb_method</th>\n",
       "      <th>batch_size</th>\n",
       "      <th>model_id</th>\n",
       "    </tr>\n",
       "  </thead>\n",
       "  <tbody>\n",
       "    <tr>\n",
       "      <th>0</th>\n",
       "      <td>None</td>\n",
       "      <td>0.643295</td>\n",
       "      <td>0.518670</td>\n",
       "      <td>[0.7702484198147875, 0.4408834993503681, 0.344...</td>\n",
       "      <td>0.513865</td>\n",
       "      <td>[0.7832585949177877, 0.4639927073837739, 0.294...</td>\n",
       "      <td>0.531331</td>\n",
       "      <td>[0.7576633892423366, 0.41996699669966997, 0.41...</td>\n",
       "      <td>None</td>\n",
       "      <td>0.667951</td>\n",
       "      <td>...</td>\n",
       "      <td>1</td>\n",
       "      <td>focal</td>\n",
       "      <td>2</td>\n",
       "      <td>True</td>\n",
       "      <td>5</td>\n",
       "      <td>Conv1d</td>\n",
       "      <td>None</td>\n",
       "      <td>concatenation</td>\n",
       "      <td>64</td>\n",
       "      <td>0</td>\n",
       "    </tr>\n",
       "    <tr>\n",
       "      <th>0</th>\n",
       "      <td>None</td>\n",
       "      <td>0.637548</td>\n",
       "      <td>0.507900</td>\n",
       "      <td>[0.7676974937710686, 0.4297520661157025, 0.326...</td>\n",
       "      <td>0.504239</td>\n",
       "      <td>[0.7783060921248143, 0.45446182152713893, 0.27...</td>\n",
       "      <td>0.518625</td>\n",
       "      <td>[0.7573742047426258, 0.4075907590759076, 0.390...</td>\n",
       "      <td>None</td>\n",
       "      <td>0.664258</td>\n",
       "      <td>...</td>\n",
       "      <td>12</td>\n",
       "      <td>focal</td>\n",
       "      <td>2</td>\n",
       "      <td>True</td>\n",
       "      <td>5</td>\n",
       "      <td>Conv1d</td>\n",
       "      <td>None</td>\n",
       "      <td>concatenation</td>\n",
       "      <td>64</td>\n",
       "      <td>0</td>\n",
       "    </tr>\n",
       "    <tr>\n",
       "      <th>0</th>\n",
       "      <td>None</td>\n",
       "      <td>0.638697</td>\n",
       "      <td>0.525275</td>\n",
       "      <td>[0.760179640718563, 0.46192259675405745, 0.353...</td>\n",
       "      <td>0.517138</td>\n",
       "      <td>[0.7880198634388579, 0.4659949622166247, 0.297...</td>\n",
       "      <td>0.542841</td>\n",
       "      <td>[0.7342394447657605, 0.45792079207920794, 0.43...</td>\n",
       "      <td>None</td>\n",
       "      <td>0.661529</td>\n",
       "      <td>...</td>\n",
       "      <td>123</td>\n",
       "      <td>focal</td>\n",
       "      <td>2</td>\n",
       "      <td>True</td>\n",
       "      <td>5</td>\n",
       "      <td>Conv1d</td>\n",
       "      <td>None</td>\n",
       "      <td>concatenation</td>\n",
       "      <td>64</td>\n",
       "      <td>0</td>\n",
       "    </tr>\n",
       "    <tr>\n",
       "      <th>0</th>\n",
       "      <td>None</td>\n",
       "      <td>0.615326</td>\n",
       "      <td>0.471926</td>\n",
       "      <td>[0.7521994134897361, 0.3912037037037037, 0.272...</td>\n",
       "      <td>0.474406</td>\n",
       "      <td>[0.762938726948245, 0.3673913043478261, 0.2928...</td>\n",
       "      <td>0.471540</td>\n",
       "      <td>[0.7417582417582418, 0.4183168316831683, 0.254...</td>\n",
       "      <td>None</td>\n",
       "      <td>0.664098</td>\n",
       "      <td>...</td>\n",
       "      <td>1</td>\n",
       "      <td>focal</td>\n",
       "      <td>2</td>\n",
       "      <td>True</td>\n",
       "      <td>5</td>\n",
       "      <td>Conv1d</td>\n",
       "      <td>None</td>\n",
       "      <td>concatenation</td>\n",
       "      <td>64</td>\n",
       "      <td>1</td>\n",
       "    </tr>\n",
       "    <tr>\n",
       "      <th>0</th>\n",
       "      <td>None</td>\n",
       "      <td>0.629119</td>\n",
       "      <td>0.489164</td>\n",
       "      <td>[0.7648866130212143, 0.4071515644047135, 0.295...</td>\n",
       "      <td>0.486564</td>\n",
       "      <td>[0.7740598164050932, 0.4011208967173739, 0.284...</td>\n",
       "      <td>0.492189</td>\n",
       "      <td>[0.7559282822440717, 0.41336633663366334, 0.30...</td>\n",
       "      <td>None</td>\n",
       "      <td>0.667791</td>\n",
       "      <td>...</td>\n",
       "      <td>12</td>\n",
       "      <td>focal</td>\n",
       "      <td>2</td>\n",
       "      <td>True</td>\n",
       "      <td>5</td>\n",
       "      <td>Conv1d</td>\n",
       "      <td>None</td>\n",
       "      <td>concatenation</td>\n",
       "      <td>64</td>\n",
       "      <td>1</td>\n",
       "    </tr>\n",
       "    <tr>\n",
       "      <th>...</th>\n",
       "      <td>...</td>\n",
       "      <td>...</td>\n",
       "      <td>...</td>\n",
       "      <td>...</td>\n",
       "      <td>...</td>\n",
       "      <td>...</td>\n",
       "      <td>...</td>\n",
       "      <td>...</td>\n",
       "      <td>...</td>\n",
       "      <td>...</td>\n",
       "      <td>...</td>\n",
       "      <td>...</td>\n",
       "      <td>...</td>\n",
       "      <td>...</td>\n",
       "      <td>...</td>\n",
       "      <td>...</td>\n",
       "      <td>...</td>\n",
       "      <td>...</td>\n",
       "      <td>...</td>\n",
       "      <td>...</td>\n",
       "      <td>...</td>\n",
       "    </tr>\n",
       "    <tr>\n",
       "      <th>0</th>\n",
       "      <td>None</td>\n",
       "      <td>0.634674</td>\n",
       "      <td>0.486503</td>\n",
       "      <td>[0.7690763052208835, 0.39797211660329534, 0.29...</td>\n",
       "      <td>0.487645</td>\n",
       "      <td>[0.7629482071713147, 0.4077922077922078, 0.292...</td>\n",
       "      <td>0.485548</td>\n",
       "      <td>[0.7753036437246964, 0.3886138613861386, 0.292...</td>\n",
       "      <td>None</td>\n",
       "      <td>0.679994</td>\n",
       "      <td>...</td>\n",
       "      <td>12</td>\n",
       "      <td>focal</td>\n",
       "      <td>2</td>\n",
       "      <td>True</td>\n",
       "      <td>5</td>\n",
       "      <td>Conv1d</td>\n",
       "      <td>None</td>\n",
       "      <td>concatenation</td>\n",
       "      <td>64</td>\n",
       "      <td>22</td>\n",
       "    </tr>\n",
       "    <tr>\n",
       "      <th>0</th>\n",
       "      <td>None</td>\n",
       "      <td>0.603831</td>\n",
       "      <td>0.483467</td>\n",
       "      <td>[0.7378141083863153, 0.4019870080244554, 0.310...</td>\n",
       "      <td>0.477293</td>\n",
       "      <td>[0.7741423125794155, 0.37437722419928826, 0.28...</td>\n",
       "      <td>0.494124</td>\n",
       "      <td>[0.7047426257952574, 0.43399339933993397, 0.34...</td>\n",
       "      <td>None</td>\n",
       "      <td>0.656872</td>\n",
       "      <td>...</td>\n",
       "      <td>123</td>\n",
       "      <td>focal</td>\n",
       "      <td>2</td>\n",
       "      <td>True</td>\n",
       "      <td>5</td>\n",
       "      <td>Conv1d</td>\n",
       "      <td>None</td>\n",
       "      <td>concatenation</td>\n",
       "      <td>64</td>\n",
       "      <td>22</td>\n",
       "    </tr>\n",
       "    <tr>\n",
       "      <th>0</th>\n",
       "      <td>None</td>\n",
       "      <td>0.633716</td>\n",
       "      <td>0.519062</td>\n",
       "      <td>[0.7587659894657637, 0.44899598393574297, 0.34...</td>\n",
       "      <td>0.510138</td>\n",
       "      <td>[0.79102604330091, 0.43740219092331767, 0.3019...</td>\n",
       "      <td>0.534934</td>\n",
       "      <td>[0.7290341237709659, 0.4612211221122112, 0.414...</td>\n",
       "      <td>None</td>\n",
       "      <td>0.663455</td>\n",
       "      <td>...</td>\n",
       "      <td>1</td>\n",
       "      <td>focal</td>\n",
       "      <td>2</td>\n",
       "      <td>True</td>\n",
       "      <td>5</td>\n",
       "      <td>Conv1d</td>\n",
       "      <td>None</td>\n",
       "      <td>concatenation</td>\n",
       "      <td>64</td>\n",
       "      <td>23</td>\n",
       "    </tr>\n",
       "    <tr>\n",
       "      <th>0</th>\n",
       "      <td>None</td>\n",
       "      <td>0.605556</td>\n",
       "      <td>0.501166</td>\n",
       "      <td>[0.7358693978130294, 0.4101346001583532, 0.357...</td>\n",
       "      <td>0.490995</td>\n",
       "      <td>[0.787149917627677, 0.3942161339421613, 0.2916...</td>\n",
       "      <td>0.526691</td>\n",
       "      <td>[0.6908617698091383, 0.4273927392739274, 0.461...</td>\n",
       "      <td>None</td>\n",
       "      <td>0.643385</td>\n",
       "      <td>...</td>\n",
       "      <td>12</td>\n",
       "      <td>focal</td>\n",
       "      <td>2</td>\n",
       "      <td>True</td>\n",
       "      <td>5</td>\n",
       "      <td>Conv1d</td>\n",
       "      <td>None</td>\n",
       "      <td>concatenation</td>\n",
       "      <td>64</td>\n",
       "      <td>23</td>\n",
       "    </tr>\n",
       "    <tr>\n",
       "      <th>0</th>\n",
       "      <td>None</td>\n",
       "      <td>0.645402</td>\n",
       "      <td>0.503277</td>\n",
       "      <td>[0.7764169752207348, 0.4022140221402214, 0.3312]</td>\n",
       "      <td>0.505551</td>\n",
       "      <td>[0.7648709315375982, 0.4560669456066946, 0.295...</td>\n",
       "      <td>0.508139</td>\n",
       "      <td>[0.788316946211683, 0.35973597359735976, 0.376...</td>\n",
       "      <td>None</td>\n",
       "      <td>0.666988</td>\n",
       "      <td>...</td>\n",
       "      <td>123</td>\n",
       "      <td>focal</td>\n",
       "      <td>2</td>\n",
       "      <td>True</td>\n",
       "      <td>5</td>\n",
       "      <td>Conv1d</td>\n",
       "      <td>None</td>\n",
       "      <td>concatenation</td>\n",
       "      <td>64</td>\n",
       "      <td>23</td>\n",
       "    </tr>\n",
       "  </tbody>\n",
       "</table>\n",
       "<p>72 rows × 47 columns</p>\n",
       "</div>"
      ],
      "text/plain": [
       "    loss  accuracy        f1  \\\n",
       "0   None  0.643295  0.518670   \n",
       "0   None  0.637548  0.507900   \n",
       "0   None  0.638697  0.525275   \n",
       "0   None  0.615326  0.471926   \n",
       "0   None  0.629119  0.489164   \n",
       "..   ...       ...       ...   \n",
       "0   None  0.634674  0.486503   \n",
       "0   None  0.603831  0.483467   \n",
       "0   None  0.633716  0.519062   \n",
       "0   None  0.605556  0.501166   \n",
       "0   None  0.645402  0.503277   \n",
       "\n",
       "                                            f1_scores  precision  \\\n",
       "0   [0.7702484198147875, 0.4408834993503681, 0.344...   0.513865   \n",
       "0   [0.7676974937710686, 0.4297520661157025, 0.326...   0.504239   \n",
       "0   [0.760179640718563, 0.46192259675405745, 0.353...   0.517138   \n",
       "0   [0.7521994134897361, 0.3912037037037037, 0.272...   0.474406   \n",
       "0   [0.7648866130212143, 0.4071515644047135, 0.295...   0.486564   \n",
       "..                                                ...        ...   \n",
       "0   [0.7690763052208835, 0.39797211660329534, 0.29...   0.487645   \n",
       "0   [0.7378141083863153, 0.4019870080244554, 0.310...   0.477293   \n",
       "0   [0.7587659894657637, 0.44899598393574297, 0.34...   0.510138   \n",
       "0   [0.7358693978130294, 0.4101346001583532, 0.357...   0.490995   \n",
       "0    [0.7764169752207348, 0.4022140221402214, 0.3312]   0.505551   \n",
       "\n",
       "                                     precision_scores    recall  \\\n",
       "0   [0.7832585949177877, 0.4639927073837739, 0.294...  0.531331   \n",
       "0   [0.7783060921248143, 0.45446182152713893, 0.27...  0.518625   \n",
       "0   [0.7880198634388579, 0.4659949622166247, 0.297...  0.542841   \n",
       "0   [0.762938726948245, 0.3673913043478261, 0.2928...  0.471540   \n",
       "0   [0.7740598164050932, 0.4011208967173739, 0.284...  0.492189   \n",
       "..                                                ...       ...   \n",
       "0   [0.7629482071713147, 0.4077922077922078, 0.292...  0.485548   \n",
       "0   [0.7741423125794155, 0.37437722419928826, 0.28...  0.494124   \n",
       "0   [0.79102604330091, 0.43740219092331767, 0.3019...  0.534934   \n",
       "0   [0.787149917627677, 0.3942161339421613, 0.2916...  0.526691   \n",
       "0   [0.7648709315375982, 0.4560669456066946, 0.295...  0.508139   \n",
       "\n",
       "                                        recall_scores valid_loss  \\\n",
       "0   [0.7576633892423366, 0.41996699669966997, 0.41...       None   \n",
       "0   [0.7573742047426258, 0.4075907590759076, 0.390...       None   \n",
       "0   [0.7342394447657605, 0.45792079207920794, 0.43...       None   \n",
       "0   [0.7417582417582418, 0.4183168316831683, 0.254...       None   \n",
       "0   [0.7559282822440717, 0.41336633663366334, 0.30...       None   \n",
       "..                                                ...        ...   \n",
       "0   [0.7753036437246964, 0.3886138613861386, 0.292...       None   \n",
       "0   [0.7047426257952574, 0.43399339933993397, 0.34...       None   \n",
       "0   [0.7290341237709659, 0.4612211221122112, 0.414...       None   \n",
       "0   [0.6908617698091383, 0.4273927392739274, 0.461...       None   \n",
       "0   [0.788316946211683, 0.35973597359735976, 0.376...       None   \n",
       "\n",
       "    valid_accuracy  ...  seed loss_function  gamma k_fold  n_splits  \\\n",
       "0         0.667951  ...     1         focal      2   True         5   \n",
       "0         0.664258  ...    12         focal      2   True         5   \n",
       "0         0.661529  ...   123         focal      2   True         5   \n",
       "0         0.664098  ...     1         focal      2   True         5   \n",
       "0         0.667791  ...    12         focal      2   True         5   \n",
       "..             ...  ...   ...           ...    ...    ...       ...   \n",
       "0         0.679994  ...    12         focal      2   True         5   \n",
       "0         0.656872  ...   123         focal      2   True         5   \n",
       "0         0.663455  ...     1         focal      2   True         5   \n",
       "0         0.643385  ...    12         focal      2   True         5   \n",
       "0         0.666988  ...   123         focal      2   True         5   \n",
       "\n",
       "   augmentation_type  hidden_dim_aug    comb_method  batch_size  model_id  \n",
       "0             Conv1d            None  concatenation          64         0  \n",
       "0             Conv1d            None  concatenation          64         0  \n",
       "0             Conv1d            None  concatenation          64         0  \n",
       "0             Conv1d            None  concatenation          64         1  \n",
       "0             Conv1d            None  concatenation          64         1  \n",
       "..               ...             ...            ...         ...       ...  \n",
       "0             Conv1d            None  concatenation          64        22  \n",
       "0             Conv1d            None  concatenation          64        22  \n",
       "0             Conv1d            None  concatenation          64        23  \n",
       "0             Conv1d            None  concatenation          64        23  \n",
       "0             Conv1d            None  concatenation          64        23  \n",
       "\n",
       "[72 rows x 47 columns]"
      ]
     },
     "execution_count": 38,
     "metadata": {},
     "output_type": "execute_result"
    }
   ],
   "source": [
    "seqsignet_attention_mha_grp_kfold_20"
   ]
  },
  {
   "cell_type": "code",
   "execution_count": 39,
   "id": "3a8e5ddb",
   "metadata": {},
   "outputs": [
    {
     "data": {
      "text/plain": [
       "0.5033058602955406"
      ]
     },
     "execution_count": 39,
     "metadata": {},
     "output_type": "execute_result"
    }
   ],
   "source": [
    "best_seqsignet_attention_mha_grp_kfold_20[\"f1\"].mean()"
   ]
  },
  {
   "cell_type": "code",
   "execution_count": 40,
   "id": "9128727b",
   "metadata": {},
   "outputs": [
    {
     "data": {
      "text/plain": [
       "0.4993054531774514"
      ]
     },
     "execution_count": 40,
     "metadata": {},
     "output_type": "execute_result"
    }
   ],
   "source": [
    "best_seqsignet_attention_mha_grp_kfold_20[\"precision\"].mean()"
   ]
  },
  {
   "cell_type": "code",
   "execution_count": 41,
   "id": "f6c7ed11",
   "metadata": {},
   "outputs": [
    {
     "data": {
      "text/plain": [
       "0.5093960878640399"
      ]
     },
     "execution_count": 41,
     "metadata": {},
     "output_type": "execute_result"
    }
   ],
   "source": [
    "best_seqsignet_attention_mha_grp_kfold_20[\"recall\"].mean()"
   ]
  },
  {
   "cell_type": "code",
   "execution_count": 42,
   "id": "068fb365",
   "metadata": {},
   "outputs": [
    {
     "data": {
      "text/plain": [
       "array([0.76246417, 0.42082179, 0.32663162])"
      ]
     },
     "execution_count": 42,
     "metadata": {},
     "output_type": "execute_result"
    }
   ],
   "source": [
    "np.stack(best_seqsignet_attention_mha_grp_kfold_20[\"f1_scores\"]).mean(axis=0)"
   ]
  },
  {
   "cell_type": "code",
   "execution_count": 43,
   "id": "778a6031",
   "metadata": {},
   "outputs": [
    {
     "data": {
      "text/plain": [
       "array([0.77152897, 0.42556551, 0.30082188])"
      ]
     },
     "execution_count": 43,
     "metadata": {},
     "output_type": "execute_result"
    }
   ],
   "source": [
    "np.stack(best_seqsignet_attention_mha_grp_kfold_20[\"precision_scores\"]).mean(axis=0)"
   ]
  },
  {
   "cell_type": "code",
   "execution_count": 44,
   "id": "be4101c4",
   "metadata": {},
   "outputs": [
    {
     "data": {
      "text/plain": [
       "array([0.75361481, 0.41639164, 0.35818182])"
      ]
     },
     "execution_count": 44,
     "metadata": {},
     "output_type": "execute_result"
    }
   ],
   "source": [
    "np.stack(best_seqsignet_attention_mha_grp_kfold_20[\"recall_scores\"]).mean(axis=0)"
   ]
  },
  {
   "cell_type": "markdown",
   "id": "179dbb85-f360-4c16-a852-fb32cc0e01d6",
   "metadata": {
    "tags": []
   },
   "source": [
    "# history_length=35"
   ]
  },
  {
   "cell_type": "code",
   "execution_count": 45,
   "id": "af118561-2837-4bbb-b2df-59535f5e77be",
   "metadata": {},
   "outputs": [],
   "source": [
    "shift = 3\n",
    "window_size = 5\n",
    "n = 11"
   ]
  },
  {
   "cell_type": "code",
   "execution_count": 46,
   "id": "9f88d24b-150e-44d2-8de8-63a823df9963",
   "metadata": {},
   "outputs": [
    {
     "data": {
      "application/vnd.jupyter.widget-view+json": {
       "model_id": "ffe57d3ad98f4290a090316c8a25461b",
       "version_major": 2,
       "version_minor": 0
      },
      "text/plain": [
       "  0%|          | 0/1 [00:00<?, ?it/s]"
      ]
     },
     "metadata": {},
     "output_type": "display_data"
    },
    {
     "data": {
      "application/vnd.jupyter.widget-view+json": {
       "model_id": "48abaddde4f74540b5c7aa408351c9f8",
       "version_major": 2,
       "version_minor": 0
      },
      "text/plain": [
       "  0%|          | 0/1 [00:00<?, ?it/s]"
      ]
     },
     "metadata": {},
     "output_type": "display_data"
    },
    {
     "name": "stdout",
     "output_type": "stream",
     "text": [
      "\n",
      "##################################################\n",
      "dimension: 15 | method: umap\n",
      "given shift 3, window size 5 and n 11: history length = 35\n",
      "[INFO] Concatenating the embeddings to the dataframe...\n",
      "[INFO] - columns beginning with 'e' denote the full embddings.\n",
      "[INFO] - columns beginning with 'd' denote the dimension reduced embeddings.\n",
      "[INFO] Adding time feature columns into dataframe in `.df`.\n",
      "[INFO] Adding 'time_encoding' feature...\n",
      "[INFO] Adding 'time_diff' feature...\n",
      "[INFO] Adding 'timeline_index' feature...\n",
      "[INFO] Padding ids and storing in `.df_padded` and `.array_padded` attributes.\n"
     ]
    },
    {
     "data": {
      "application/vnd.jupyter.widget-view+json": {
       "model_id": "5c420fa583ad4bb983fbe1bbb7730de1",
       "version_major": 2,
       "version_minor": 0
      },
      "text/plain": [
       "  0%|          | 0/9699 [00:00<?, ?it/s]"
      ]
     },
     "metadata": {},
     "output_type": "display_data"
    },
    {
     "name": "stdout",
     "output_type": "stream",
     "text": [
      "[INFO] The path was created for each item in the dataframe, by looking at its history, so to include embeddings in the FFN input, we concatenate the embeddings for each sentence / text.\n"
     ]
    },
    {
     "data": {
      "application/vnd.jupyter.widget-view+json": {
       "model_id": "f41169d181914a3dbc48d31d5b64a60b",
       "version_major": 2,
       "version_minor": 0
      },
      "text/plain": [
       "  0%|          | 0/2 [00:00<?, ?it/s]"
      ]
     },
     "metadata": {},
     "output_type": "display_data"
    },
    {
     "data": {
      "application/vnd.jupyter.widget-view+json": {
       "model_id": "743cc7851d1d4ef0959319b15d0f7d45",
       "version_major": 2,
       "version_minor": 0
      },
      "text/plain": [
       "  0%|          | 0/1 [00:00<?, ?it/s]"
      ]
     },
     "metadata": {},
     "output_type": "display_data"
    },
    {
     "data": {
      "application/vnd.jupyter.widget-view+json": {
       "model_id": "19eaf60c294344dbbddae7d2e0083a10",
       "version_major": 2,
       "version_minor": 0
      },
      "text/plain": [
       "  0%|          | 0/2 [00:00<?, ?it/s]"
      ]
     },
     "metadata": {},
     "output_type": "display_data"
    },
    {
     "data": {
      "application/vnd.jupyter.widget-view+json": {
       "model_id": "06abdbce9ce547afb5bddffb8706994f",
       "version_major": 2,
       "version_minor": 0
      },
      "text/plain": [
       "  0%|          | 0/2 [00:00<?, ?it/s]"
      ]
     },
     "metadata": {},
     "output_type": "display_data"
    },
    {
     "data": {
      "application/vnd.jupyter.widget-view+json": {
       "model_id": "6162896697a542c693570d51c859e126",
       "version_major": 2,
       "version_minor": 0
      },
      "text/plain": [
       "  0%|          | 0/3 [00:00<?, ?it/s]"
      ]
     },
     "metadata": {},
     "output_type": "display_data"
    },
    {
     "data": {
      "application/vnd.jupyter.widget-view+json": {
       "model_id": "75081cc4b02b4165a3d5292b7beab4fe",
       "version_major": 2,
       "version_minor": 0
      },
      "text/plain": [
       "  0%|          | 0/3 [00:00<?, ?it/s]"
      ]
     },
     "metadata": {},
     "output_type": "display_data"
    },
    {
     "data": {
      "application/vnd.jupyter.widget-view+json": {
       "model_id": "79107e2fcdb94bdbac7e299b6356496a",
       "version_major": 2,
       "version_minor": 0
      },
      "text/plain": [
       "  0%|          | 0/2 [00:00<?, ?it/s]"
      ]
     },
     "metadata": {},
     "output_type": "display_data"
    },
    {
     "data": {
      "application/vnd.jupyter.widget-view+json": {
       "model_id": "c96408ce7d3f4b009311365abd4c7489",
       "version_major": 2,
       "version_minor": 0
      },
      "text/plain": [
       "  0%|          | 0/3 [00:00<?, ?it/s]"
      ]
     },
     "metadata": {},
     "output_type": "display_data"
    },
    {
     "data": {
      "application/vnd.jupyter.widget-view+json": {
       "model_id": "41c11b6cab474d6ca253363bfa9caf55",
       "version_major": 2,
       "version_minor": 0
      },
      "text/plain": [
       "  0%|          | 0/3 [00:00<?, ?it/s]"
      ]
     },
     "metadata": {},
     "output_type": "display_data"
    },
    {
     "data": {
      "application/vnd.jupyter.widget-view+json": {
       "model_id": "b10924745564485fa57f1fcfffbe85a9",
       "version_major": 2,
       "version_minor": 0
      },
      "text/plain": [
       "  0%|          | 0/1 [00:00<?, ?it/s]"
      ]
     },
     "metadata": {},
     "output_type": "display_data"
    },
    {
     "data": {
      "application/vnd.jupyter.widget-view+json": {
       "model_id": "11dca58b249b4ad293cde11175e9120f",
       "version_major": 2,
       "version_minor": 0
      },
      "text/plain": [
       "  0%|          | 0/2 [00:00<?, ?it/s]"
      ]
     },
     "metadata": {},
     "output_type": "display_data"
    },
    {
     "data": {
      "application/vnd.jupyter.widget-view+json": {
       "model_id": "def5540481ba4aa9a130b5968460309f",
       "version_major": 2,
       "version_minor": 0
      },
      "text/plain": [
       "  0%|          | 0/2 [00:00<?, ?it/s]"
      ]
     },
     "metadata": {},
     "output_type": "display_data"
    },
    {
     "data": {
      "application/vnd.jupyter.widget-view+json": {
       "model_id": "e1eb3da0696a4e8da9e0c01b0ff961d6",
       "version_major": 2,
       "version_minor": 0
      },
      "text/plain": [
       "  0%|          | 0/3 [00:00<?, ?it/s]"
      ]
     },
     "metadata": {},
     "output_type": "display_data"
    },
    {
     "data": {
      "application/vnd.jupyter.widget-view+json": {
       "model_id": "d7b80efbb425408b8bc5c4987fd0ca33",
       "version_major": 2,
       "version_minor": 0
      },
      "text/plain": [
       "  0%|          | 0/3 [00:00<?, ?it/s]"
      ]
     },
     "metadata": {},
     "output_type": "display_data"
    },
    {
     "data": {
      "application/vnd.jupyter.widget-view+json": {
       "model_id": "ddcf391f6aab40fa8fef94a6bcf02691",
       "version_major": 2,
       "version_minor": 0
      },
      "text/plain": [
       "  0%|          | 0/2 [00:00<?, ?it/s]"
      ]
     },
     "metadata": {},
     "output_type": "display_data"
    },
    {
     "data": {
      "application/vnd.jupyter.widget-view+json": {
       "model_id": "b2991b4d9f1d47da8ad548294937d7f4",
       "version_major": 2,
       "version_minor": 0
      },
      "text/plain": [
       "  0%|          | 0/3 [00:00<?, ?it/s]"
      ]
     },
     "metadata": {},
     "output_type": "display_data"
    },
    {
     "data": {
      "application/vnd.jupyter.widget-view+json": {
       "model_id": "cfc98879b3164118851d462d157e724e",
       "version_major": 2,
       "version_minor": 0
      },
      "text/plain": [
       "  0%|          | 0/3 [00:00<?, ?it/s]"
      ]
     },
     "metadata": {},
     "output_type": "display_data"
    },
    {
     "name": "stdout",
     "output_type": "stream",
     "text": [
      "given shift 3, window size 5 and n 11: history length = 35\n",
      "[INFO] Concatenating the embeddings to the dataframe...\n",
      "[INFO] - columns beginning with 'e' denote the full embddings.\n",
      "[INFO] - columns beginning with 'd' denote the dimension reduced embeddings.\n",
      "[INFO] Adding time feature columns into dataframe in `.df`.\n",
      "[INFO] Adding 'time_encoding' feature...\n",
      "[INFO] Adding 'time_diff' feature...\n",
      "[INFO] Adding 'timeline_index' feature...\n",
      "[INFO] Padding ids and storing in `.df_padded` and `.array_padded` attributes.\n"
     ]
    },
    {
     "data": {
      "application/vnd.jupyter.widget-view+json": {
       "model_id": "feaad4ad0d394da084a575c20b4c7058",
       "version_major": 2,
       "version_minor": 0
      },
      "text/plain": [
       "  0%|          | 0/9699 [00:00<?, ?it/s]"
      ]
     },
     "metadata": {},
     "output_type": "display_data"
    },
    {
     "name": "stdout",
     "output_type": "stream",
     "text": [
      "[INFO] The path was created for each item in the dataframe, by looking at its history, so to include embeddings in the FFN input, we concatenate the embeddings for each sentence / text.\n",
      "saving results dataframe to CSV for this hyperparameter search in client_talk_type_output/seqsignet_attention_mha_umap_focal_2_3_5_11_kfold.csv\n",
      "saving the best model results dataframe to CSV for this hyperparameter search in client_talk_type_output/seqsignet_attention_mha_umap_focal_2_3_5_11_kfold_best_model.csv\n"
     ]
    }
   ],
   "source": [
    "(\n",
    "    seqsignet_attention_mha_umap_kfold_35,\n",
    "    best_seqsignet_attention_mha_umap_kfold_35,\n",
    "    _,\n",
    "    __,\n",
    ") = seqsignet_full_attention_hyperparameter_search(\n",
    "    shift=shift,\n",
    "    window_size=window_size,\n",
    "    n=n,\n",
    "    dim_reduce_methods=[\"umap\"],\n",
    "    results_output=f\"{output_dir}/seqsignet_attention_mha_umap_focal_{gamma}_{shift}_{window_size}_{n}_kfold.csv\",\n",
    "    **kwargs,\n",
    ")"
   ]
  },
  {
   "cell_type": "code",
   "execution_count": 47,
   "id": "ba6da5ed-70bd-44e7-a693-9ed76551bc36",
   "metadata": {},
   "outputs": [
    {
     "data": {
      "text/html": [
       "<div>\n",
       "<style scoped>\n",
       "    .dataframe tbody tr th:only-of-type {\n",
       "        vertical-align: middle;\n",
       "    }\n",
       "\n",
       "    .dataframe tbody tr th {\n",
       "        vertical-align: top;\n",
       "    }\n",
       "\n",
       "    .dataframe thead th {\n",
       "        text-align: right;\n",
       "    }\n",
       "</style>\n",
       "<table border=\"1\" class=\"dataframe\">\n",
       "  <thead>\n",
       "    <tr style=\"text-align: right;\">\n",
       "      <th></th>\n",
       "      <th>loss</th>\n",
       "      <th>accuracy</th>\n",
       "      <th>f1</th>\n",
       "      <th>f1_scores</th>\n",
       "      <th>precision</th>\n",
       "      <th>precision_scores</th>\n",
       "      <th>recall</th>\n",
       "      <th>recall_scores</th>\n",
       "      <th>valid_loss</th>\n",
       "      <th>valid_accuracy</th>\n",
       "      <th>...</th>\n",
       "      <th>seed</th>\n",
       "      <th>loss_function</th>\n",
       "      <th>gamma</th>\n",
       "      <th>k_fold</th>\n",
       "      <th>n_splits</th>\n",
       "      <th>augmentation_type</th>\n",
       "      <th>hidden_dim_aug</th>\n",
       "      <th>comb_method</th>\n",
       "      <th>batch_size</th>\n",
       "      <th>model_id</th>\n",
       "    </tr>\n",
       "  </thead>\n",
       "  <tbody>\n",
       "    <tr>\n",
       "      <th>0</th>\n",
       "      <td>None</td>\n",
       "      <td>0.628927</td>\n",
       "      <td>0.514185</td>\n",
       "      <td>[0.7564954682779456, 0.45226130653266333, 0.33...</td>\n",
       "      <td>0.507354</td>\n",
       "      <td>[0.7919038583175205, 0.45918367346938777, 0.27...</td>\n",
       "      <td>0.534736</td>\n",
       "      <td>[0.7241179872758821, 0.44554455445544555, 0.43...</td>\n",
       "      <td>None</td>\n",
       "      <td>0.655267</td>\n",
       "      <td>...</td>\n",
       "      <td>1</td>\n",
       "      <td>focal</td>\n",
       "      <td>2</td>\n",
       "      <td>True</td>\n",
       "      <td>5</td>\n",
       "      <td>Conv1d</td>\n",
       "      <td>None</td>\n",
       "      <td>concatenation</td>\n",
       "      <td>64</td>\n",
       "      <td>0</td>\n",
       "    </tr>\n",
       "    <tr>\n",
       "      <th>0</th>\n",
       "      <td>None</td>\n",
       "      <td>0.640805</td>\n",
       "      <td>0.505663</td>\n",
       "      <td>[0.7727730608720678, 0.39704524469067404, 0.34...</td>\n",
       "      <td>0.505543</td>\n",
       "      <td>[0.7691205958178172, 0.45073375262054505, 0.29...</td>\n",
       "      <td>0.516476</td>\n",
       "      <td>[0.7764603817235396, 0.3547854785478548, 0.418...</td>\n",
       "      <td>None</td>\n",
       "      <td>0.664900</td>\n",
       "      <td>...</td>\n",
       "      <td>12</td>\n",
       "      <td>focal</td>\n",
       "      <td>2</td>\n",
       "      <td>True</td>\n",
       "      <td>5</td>\n",
       "      <td>Conv1d</td>\n",
       "      <td>None</td>\n",
       "      <td>concatenation</td>\n",
       "      <td>64</td>\n",
       "      <td>0</td>\n",
       "    </tr>\n",
       "    <tr>\n",
       "      <th>0</th>\n",
       "      <td>None</td>\n",
       "      <td>0.637548</td>\n",
       "      <td>0.507873</td>\n",
       "      <td>[0.7660690861390468, 0.4252315835906484, 0.332...</td>\n",
       "      <td>0.505074</td>\n",
       "      <td>[0.772259770790479, 0.45687203791469194, 0.286...</td>\n",
       "      <td>0.518010</td>\n",
       "      <td>[0.7599768652400232, 0.3976897689768977, 0.396...</td>\n",
       "      <td>None</td>\n",
       "      <td>0.666988</td>\n",
       "      <td>...</td>\n",
       "      <td>123</td>\n",
       "      <td>focal</td>\n",
       "      <td>2</td>\n",
       "      <td>True</td>\n",
       "      <td>5</td>\n",
       "      <td>Conv1d</td>\n",
       "      <td>None</td>\n",
       "      <td>concatenation</td>\n",
       "      <td>64</td>\n",
       "      <td>0</td>\n",
       "    </tr>\n",
       "    <tr>\n",
       "      <th>0</th>\n",
       "      <td>None</td>\n",
       "      <td>0.592912</td>\n",
       "      <td>0.445793</td>\n",
       "      <td>[0.7361029842012873, 0.3535514764565044, 0.247...</td>\n",
       "      <td>0.445115</td>\n",
       "      <td>[0.7448194197750148, 0.34234930448222567, 0.24...</td>\n",
       "      <td>0.446791</td>\n",
       "      <td>[0.7275882012724117, 0.3655115511551155, 0.247...</td>\n",
       "      <td>None</td>\n",
       "      <td>0.639210</td>\n",
       "      <td>...</td>\n",
       "      <td>1</td>\n",
       "      <td>focal</td>\n",
       "      <td>2</td>\n",
       "      <td>True</td>\n",
       "      <td>5</td>\n",
       "      <td>Conv1d</td>\n",
       "      <td>None</td>\n",
       "      <td>concatenation</td>\n",
       "      <td>64</td>\n",
       "      <td>1</td>\n",
       "    </tr>\n",
       "    <tr>\n",
       "      <th>0</th>\n",
       "      <td>None</td>\n",
       "      <td>0.581034</td>\n",
       "      <td>0.442933</td>\n",
       "      <td>[0.7201820940819423, 0.3887303851640514, 0.219...</td>\n",
       "      <td>0.443951</td>\n",
       "      <td>[0.7576628352490421, 0.34233668341708545, 0.23...</td>\n",
       "      <td>0.448332</td>\n",
       "      <td>[0.6862348178137652, 0.44966996699669964, 0.20...</td>\n",
       "      <td>None</td>\n",
       "      <td>0.642421</td>\n",
       "      <td>...</td>\n",
       "      <td>12</td>\n",
       "      <td>focal</td>\n",
       "      <td>2</td>\n",
       "      <td>True</td>\n",
       "      <td>5</td>\n",
       "      <td>Conv1d</td>\n",
       "      <td>None</td>\n",
       "      <td>concatenation</td>\n",
       "      <td>64</td>\n",
       "      <td>1</td>\n",
       "    </tr>\n",
       "    <tr>\n",
       "      <th>...</th>\n",
       "      <td>...</td>\n",
       "      <td>...</td>\n",
       "      <td>...</td>\n",
       "      <td>...</td>\n",
       "      <td>...</td>\n",
       "      <td>...</td>\n",
       "      <td>...</td>\n",
       "      <td>...</td>\n",
       "      <td>...</td>\n",
       "      <td>...</td>\n",
       "      <td>...</td>\n",
       "      <td>...</td>\n",
       "      <td>...</td>\n",
       "      <td>...</td>\n",
       "      <td>...</td>\n",
       "      <td>...</td>\n",
       "      <td>...</td>\n",
       "      <td>...</td>\n",
       "      <td>...</td>\n",
       "      <td>...</td>\n",
       "      <td>...</td>\n",
       "    </tr>\n",
       "    <tr>\n",
       "      <th>0</th>\n",
       "      <td>None</td>\n",
       "      <td>0.592912</td>\n",
       "      <td>0.451721</td>\n",
       "      <td>[0.7363568773234199, 0.36880522474068383, 0.25]</td>\n",
       "      <td>0.450096</td>\n",
       "      <td>[0.7578818487909397, 0.34507548526240117, 0.24...</td>\n",
       "      <td>0.454929</td>\n",
       "      <td>[0.7160208212839791, 0.39603960396039606, 0.25...</td>\n",
       "      <td>None</td>\n",
       "      <td>0.652698</td>\n",
       "      <td>...</td>\n",
       "      <td>12</td>\n",
       "      <td>focal</td>\n",
       "      <td>2</td>\n",
       "      <td>True</td>\n",
       "      <td>5</td>\n",
       "      <td>Conv1d</td>\n",
       "      <td>None</td>\n",
       "      <td>concatenation</td>\n",
       "      <td>64</td>\n",
       "      <td>22</td>\n",
       "    </tr>\n",
       "    <tr>\n",
       "      <th>0</th>\n",
       "      <td>None</td>\n",
       "      <td>0.602490</td>\n",
       "      <td>0.454492</td>\n",
       "      <td>[0.7497792169561377, 0.35833657209483094, 0.25...</td>\n",
       "      <td>0.454720</td>\n",
       "      <td>[0.7634892086330936, 0.3387215282880235, 0.261...</td>\n",
       "      <td>0.455336</td>\n",
       "      <td>[0.736552920763447, 0.3803630363036304, 0.2490...</td>\n",
       "      <td>None</td>\n",
       "      <td>0.647238</td>\n",
       "      <td>...</td>\n",
       "      <td>123</td>\n",
       "      <td>focal</td>\n",
       "      <td>2</td>\n",
       "      <td>True</td>\n",
       "      <td>5</td>\n",
       "      <td>Conv1d</td>\n",
       "      <td>None</td>\n",
       "      <td>concatenation</td>\n",
       "      <td>64</td>\n",
       "      <td>22</td>\n",
       "    </tr>\n",
       "    <tr>\n",
       "      <th>0</th>\n",
       "      <td>None</td>\n",
       "      <td>0.633333</td>\n",
       "      <td>0.510547</td>\n",
       "      <td>[0.7560644869670031, 0.46907020872865274, 0.30...</td>\n",
       "      <td>0.504393</td>\n",
       "      <td>[0.7892418999685435, 0.4342937456078707, 0.289...</td>\n",
       "      <td>0.520306</td>\n",
       "      <td>[0.7255639097744361, 0.5099009900990099, 0.325...</td>\n",
       "      <td>None</td>\n",
       "      <td>0.662653</td>\n",
       "      <td>...</td>\n",
       "      <td>1</td>\n",
       "      <td>focal</td>\n",
       "      <td>2</td>\n",
       "      <td>True</td>\n",
       "      <td>5</td>\n",
       "      <td>Conv1d</td>\n",
       "      <td>None</td>\n",
       "      <td>concatenation</td>\n",
       "      <td>64</td>\n",
       "      <td>23</td>\n",
       "    </tr>\n",
       "    <tr>\n",
       "      <th>0</th>\n",
       "      <td>None</td>\n",
       "      <td>0.614368</td>\n",
       "      <td>0.496748</td>\n",
       "      <td>[0.7503819126183928, 0.4233055885850179, 0.316...</td>\n",
       "      <td>0.488990</td>\n",
       "      <td>[0.7953367875647669, 0.4073226544622426, 0.264...</td>\n",
       "      <td>0.515126</td>\n",
       "      <td>[0.7102371312897628, 0.4405940594059406, 0.394...</td>\n",
       "      <td>None</td>\n",
       "      <td>0.645633</td>\n",
       "      <td>...</td>\n",
       "      <td>12</td>\n",
       "      <td>focal</td>\n",
       "      <td>2</td>\n",
       "      <td>True</td>\n",
       "      <td>5</td>\n",
       "      <td>Conv1d</td>\n",
       "      <td>None</td>\n",
       "      <td>concatenation</td>\n",
       "      <td>64</td>\n",
       "      <td>23</td>\n",
       "    </tr>\n",
       "    <tr>\n",
       "      <th>0</th>\n",
       "      <td>None</td>\n",
       "      <td>0.644828</td>\n",
       "      <td>0.518233</td>\n",
       "      <td>[0.7724198765069098, 0.44919319668556473, 0.33...</td>\n",
       "      <td>0.514586</td>\n",
       "      <td>[0.7855861244019139, 0.47641073080481033, 0.28...</td>\n",
       "      <td>0.530626</td>\n",
       "      <td>[0.7596876807403123, 0.4249174917491749, 0.407...</td>\n",
       "      <td>None</td>\n",
       "      <td>0.670841</td>\n",
       "      <td>...</td>\n",
       "      <td>123</td>\n",
       "      <td>focal</td>\n",
       "      <td>2</td>\n",
       "      <td>True</td>\n",
       "      <td>5</td>\n",
       "      <td>Conv1d</td>\n",
       "      <td>None</td>\n",
       "      <td>concatenation</td>\n",
       "      <td>64</td>\n",
       "      <td>23</td>\n",
       "    </tr>\n",
       "  </tbody>\n",
       "</table>\n",
       "<p>72 rows × 47 columns</p>\n",
       "</div>"
      ],
      "text/plain": [
       "    loss  accuracy        f1  \\\n",
       "0   None  0.628927  0.514185   \n",
       "0   None  0.640805  0.505663   \n",
       "0   None  0.637548  0.507873   \n",
       "0   None  0.592912  0.445793   \n",
       "0   None  0.581034  0.442933   \n",
       "..   ...       ...       ...   \n",
       "0   None  0.592912  0.451721   \n",
       "0   None  0.602490  0.454492   \n",
       "0   None  0.633333  0.510547   \n",
       "0   None  0.614368  0.496748   \n",
       "0   None  0.644828  0.518233   \n",
       "\n",
       "                                            f1_scores  precision  \\\n",
       "0   [0.7564954682779456, 0.45226130653266333, 0.33...   0.507354   \n",
       "0   [0.7727730608720678, 0.39704524469067404, 0.34...   0.505543   \n",
       "0   [0.7660690861390468, 0.4252315835906484, 0.332...   0.505074   \n",
       "0   [0.7361029842012873, 0.3535514764565044, 0.247...   0.445115   \n",
       "0   [0.7201820940819423, 0.3887303851640514, 0.219...   0.443951   \n",
       "..                                                ...        ...   \n",
       "0     [0.7363568773234199, 0.36880522474068383, 0.25]   0.450096   \n",
       "0   [0.7497792169561377, 0.35833657209483094, 0.25...   0.454720   \n",
       "0   [0.7560644869670031, 0.46907020872865274, 0.30...   0.504393   \n",
       "0   [0.7503819126183928, 0.4233055885850179, 0.316...   0.488990   \n",
       "0   [0.7724198765069098, 0.44919319668556473, 0.33...   0.514586   \n",
       "\n",
       "                                     precision_scores    recall  \\\n",
       "0   [0.7919038583175205, 0.45918367346938777, 0.27...  0.534736   \n",
       "0   [0.7691205958178172, 0.45073375262054505, 0.29...  0.516476   \n",
       "0   [0.772259770790479, 0.45687203791469194, 0.286...  0.518010   \n",
       "0   [0.7448194197750148, 0.34234930448222567, 0.24...  0.446791   \n",
       "0   [0.7576628352490421, 0.34233668341708545, 0.23...  0.448332   \n",
       "..                                                ...       ...   \n",
       "0   [0.7578818487909397, 0.34507548526240117, 0.24...  0.454929   \n",
       "0   [0.7634892086330936, 0.3387215282880235, 0.261...  0.455336   \n",
       "0   [0.7892418999685435, 0.4342937456078707, 0.289...  0.520306   \n",
       "0   [0.7953367875647669, 0.4073226544622426, 0.264...  0.515126   \n",
       "0   [0.7855861244019139, 0.47641073080481033, 0.28...  0.530626   \n",
       "\n",
       "                                        recall_scores valid_loss  \\\n",
       "0   [0.7241179872758821, 0.44554455445544555, 0.43...       None   \n",
       "0   [0.7764603817235396, 0.3547854785478548, 0.418...       None   \n",
       "0   [0.7599768652400232, 0.3976897689768977, 0.396...       None   \n",
       "0   [0.7275882012724117, 0.3655115511551155, 0.247...       None   \n",
       "0   [0.6862348178137652, 0.44966996699669964, 0.20...       None   \n",
       "..                                                ...        ...   \n",
       "0   [0.7160208212839791, 0.39603960396039606, 0.25...       None   \n",
       "0   [0.736552920763447, 0.3803630363036304, 0.2490...       None   \n",
       "0   [0.7255639097744361, 0.5099009900990099, 0.325...       None   \n",
       "0   [0.7102371312897628, 0.4405940594059406, 0.394...       None   \n",
       "0   [0.7596876807403123, 0.4249174917491749, 0.407...       None   \n",
       "\n",
       "    valid_accuracy  ...  seed loss_function  gamma k_fold  n_splits  \\\n",
       "0         0.655267  ...     1         focal      2   True         5   \n",
       "0         0.664900  ...    12         focal      2   True         5   \n",
       "0         0.666988  ...   123         focal      2   True         5   \n",
       "0         0.639210  ...     1         focal      2   True         5   \n",
       "0         0.642421  ...    12         focal      2   True         5   \n",
       "..             ...  ...   ...           ...    ...    ...       ...   \n",
       "0         0.652698  ...    12         focal      2   True         5   \n",
       "0         0.647238  ...   123         focal      2   True         5   \n",
       "0         0.662653  ...     1         focal      2   True         5   \n",
       "0         0.645633  ...    12         focal      2   True         5   \n",
       "0         0.670841  ...   123         focal      2   True         5   \n",
       "\n",
       "   augmentation_type  hidden_dim_aug    comb_method  batch_size  model_id  \n",
       "0             Conv1d            None  concatenation          64         0  \n",
       "0             Conv1d            None  concatenation          64         0  \n",
       "0             Conv1d            None  concatenation          64         0  \n",
       "0             Conv1d            None  concatenation          64         1  \n",
       "0             Conv1d            None  concatenation          64         1  \n",
       "..               ...             ...            ...         ...       ...  \n",
       "0             Conv1d            None  concatenation          64        22  \n",
       "0             Conv1d            None  concatenation          64        22  \n",
       "0             Conv1d            None  concatenation          64        23  \n",
       "0             Conv1d            None  concatenation          64        23  \n",
       "0             Conv1d            None  concatenation          64        23  \n",
       "\n",
       "[72 rows x 47 columns]"
      ]
     },
     "execution_count": 47,
     "metadata": {},
     "output_type": "execute_result"
    }
   ],
   "source": [
    "seqsignet_attention_mha_umap_kfold_35"
   ]
  },
  {
   "cell_type": "code",
   "execution_count": 48,
   "id": "9412b03d-b3b0-42c8-863e-f3093c1836c6",
   "metadata": {},
   "outputs": [
    {
     "data": {
      "text/plain": [
       "0.5139245284076588"
      ]
     },
     "execution_count": 48,
     "metadata": {},
     "output_type": "execute_result"
    }
   ],
   "source": [
    "best_seqsignet_attention_mha_umap_kfold_35[\"f1\"].mean()"
   ]
  },
  {
   "cell_type": "code",
   "execution_count": 49,
   "id": "bdd71a23-3015-4f44-bec5-f889b061d685",
   "metadata": {},
   "outputs": [
    {
     "data": {
      "text/plain": [
       "0.5074300394809725"
      ]
     },
     "execution_count": 49,
     "metadata": {},
     "output_type": "execute_result"
    }
   ],
   "source": [
    "best_seqsignet_attention_mha_umap_kfold_35[\"precision\"].mean()"
   ]
  },
  {
   "cell_type": "code",
   "execution_count": 50,
   "id": "2912d6da-5816-4665-89dc-fca245c067f3",
   "metadata": {},
   "outputs": [
    {
     "data": {
      "text/plain": [
       "0.5323878132945356"
      ]
     },
     "execution_count": 50,
     "metadata": {},
     "output_type": "execute_result"
    }
   ],
   "source": [
    "best_seqsignet_attention_mha_umap_kfold_35[\"recall\"].mean()"
   ]
  },
  {
   "cell_type": "code",
   "execution_count": 51,
   "id": "3a6b34c4-92bb-497f-88d4-79a27b108c84",
   "metadata": {},
   "outputs": [
    {
     "data": {
      "text/plain": [
       "array([0.75719447, 0.44867743, 0.33590168])"
      ]
     },
     "execution_count": 51,
     "metadata": {},
     "output_type": "execute_result"
    }
   ],
   "source": [
    "np.stack(best_seqsignet_attention_mha_umap_kfold_35[\"f1_scores\"]).mean(axis=0)"
   ]
  },
  {
   "cell_type": "code",
   "execution_count": 52,
   "id": "dfff40bf-1848-4450-8cf5-8f64abc09c40",
   "metadata": {},
   "outputs": [
    {
     "data": {
      "text/plain": [
       "array([0.7946156 , 0.44311686, 0.28455766])"
      ]
     },
     "execution_count": 52,
     "metadata": {},
     "output_type": "execute_result"
    }
   ],
   "source": [
    "np.stack(best_seqsignet_attention_mha_umap_kfold_35[\"precision_scores\"]).mean(axis=0)"
   ]
  },
  {
   "cell_type": "code",
   "execution_count": 53,
   "id": "a8d4e5a1-8463-4fd9-8a7f-8defe837d4e0",
   "metadata": {},
   "outputs": [
    {
     "data": {
      "text/plain": [
       "array([0.72315404, 0.45764576, 0.41636364])"
      ]
     },
     "execution_count": 53,
     "metadata": {},
     "output_type": "execute_result"
    }
   ],
   "source": [
    "np.stack(best_seqsignet_attention_mha_umap_kfold_35[\"recall_scores\"]).mean(axis=0)"
   ]
  },
  {
   "cell_type": "markdown",
   "id": "e112ad11-eb64-430b-82b4-1f139e5ea966",
   "metadata": {},
   "source": [
    "## GRP"
   ]
  },
  {
   "cell_type": "code",
   "execution_count": 54,
   "id": "fd91977a-283f-4a43-b64c-63cba9cefb04",
   "metadata": {},
   "outputs": [
    {
     "data": {
      "application/vnd.jupyter.widget-view+json": {
       "model_id": "6a363b6d21a04e4da096bcd72baa816f",
       "version_major": 2,
       "version_minor": 0
      },
      "text/plain": [
       "  0%|          | 0/1 [00:00<?, ?it/s]"
      ]
     },
     "metadata": {},
     "output_type": "display_data"
    },
    {
     "data": {
      "application/vnd.jupyter.widget-view+json": {
       "model_id": "ed47982af7a147039679f930b53100da",
       "version_major": 2,
       "version_minor": 0
      },
      "text/plain": [
       "  0%|          | 0/1 [00:00<?, ?it/s]"
      ]
     },
     "metadata": {},
     "output_type": "display_data"
    },
    {
     "name": "stdout",
     "output_type": "stream",
     "text": [
      "\n",
      "##################################################\n",
      "dimension: 15 | method: gaussian_random_projection\n",
      "given shift 3, window size 5 and n 11: history length = 35\n",
      "[INFO] Concatenating the embeddings to the dataframe...\n",
      "[INFO] - columns beginning with 'e' denote the full embddings.\n",
      "[INFO] - columns beginning with 'd' denote the dimension reduced embeddings.\n",
      "[INFO] Adding time feature columns into dataframe in `.df`.\n",
      "[INFO] Adding 'time_encoding' feature...\n",
      "[INFO] Adding 'time_diff' feature...\n",
      "[INFO] Adding 'timeline_index' feature...\n",
      "[INFO] Padding ids and storing in `.df_padded` and `.array_padded` attributes.\n"
     ]
    },
    {
     "data": {
      "application/vnd.jupyter.widget-view+json": {
       "model_id": "0991eab7cb454eb49cf0518cf9224408",
       "version_major": 2,
       "version_minor": 0
      },
      "text/plain": [
       "  0%|          | 0/9699 [00:00<?, ?it/s]"
      ]
     },
     "metadata": {},
     "output_type": "display_data"
    },
    {
     "name": "stdout",
     "output_type": "stream",
     "text": [
      "[INFO] The path was created for each item in the dataframe, by looking at its history, so to include embeddings in the FFN input, we concatenate the embeddings for each sentence / text.\n"
     ]
    },
    {
     "data": {
      "application/vnd.jupyter.widget-view+json": {
       "model_id": "2049bb0e451249fdb89928e626613908",
       "version_major": 2,
       "version_minor": 0
      },
      "text/plain": [
       "  0%|          | 0/2 [00:00<?, ?it/s]"
      ]
     },
     "metadata": {},
     "output_type": "display_data"
    },
    {
     "data": {
      "application/vnd.jupyter.widget-view+json": {
       "model_id": "ca01c12858844e1cb0387a451808a546",
       "version_major": 2,
       "version_minor": 0
      },
      "text/plain": [
       "  0%|          | 0/1 [00:00<?, ?it/s]"
      ]
     },
     "metadata": {},
     "output_type": "display_data"
    },
    {
     "data": {
      "application/vnd.jupyter.widget-view+json": {
       "model_id": "cd886ca73aae40ef8a64e73d3df3bc32",
       "version_major": 2,
       "version_minor": 0
      },
      "text/plain": [
       "  0%|          | 0/2 [00:00<?, ?it/s]"
      ]
     },
     "metadata": {},
     "output_type": "display_data"
    },
    {
     "data": {
      "application/vnd.jupyter.widget-view+json": {
       "model_id": "d59c602d80704e80b01ba7224e9cc82a",
       "version_major": 2,
       "version_minor": 0
      },
      "text/plain": [
       "  0%|          | 0/2 [00:00<?, ?it/s]"
      ]
     },
     "metadata": {},
     "output_type": "display_data"
    },
    {
     "data": {
      "application/vnd.jupyter.widget-view+json": {
       "model_id": "36fb465861584659a5a653fd9675c5f9",
       "version_major": 2,
       "version_minor": 0
      },
      "text/plain": [
       "  0%|          | 0/3 [00:00<?, ?it/s]"
      ]
     },
     "metadata": {},
     "output_type": "display_data"
    },
    {
     "data": {
      "application/vnd.jupyter.widget-view+json": {
       "model_id": "8001c5b19b094308b72a5c0a3fbfbcb0",
       "version_major": 2,
       "version_minor": 0
      },
      "text/plain": [
       "  0%|          | 0/3 [00:00<?, ?it/s]"
      ]
     },
     "metadata": {},
     "output_type": "display_data"
    },
    {
     "data": {
      "application/vnd.jupyter.widget-view+json": {
       "model_id": "5c28e2f192cb465aac800f14d12c8d75",
       "version_major": 2,
       "version_minor": 0
      },
      "text/plain": [
       "  0%|          | 0/2 [00:00<?, ?it/s]"
      ]
     },
     "metadata": {},
     "output_type": "display_data"
    },
    {
     "data": {
      "application/vnd.jupyter.widget-view+json": {
       "model_id": "7c9c70b52c9d4d84baaa4d08de2c38a6",
       "version_major": 2,
       "version_minor": 0
      },
      "text/plain": [
       "  0%|          | 0/3 [00:00<?, ?it/s]"
      ]
     },
     "metadata": {},
     "output_type": "display_data"
    },
    {
     "data": {
      "application/vnd.jupyter.widget-view+json": {
       "model_id": "98c0f2ca8d2140b9829f894952043f00",
       "version_major": 2,
       "version_minor": 0
      },
      "text/plain": [
       "  0%|          | 0/3 [00:00<?, ?it/s]"
      ]
     },
     "metadata": {},
     "output_type": "display_data"
    },
    {
     "data": {
      "application/vnd.jupyter.widget-view+json": {
       "model_id": "87f360ad1ebb40e9ad0501541149c358",
       "version_major": 2,
       "version_minor": 0
      },
      "text/plain": [
       "  0%|          | 0/1 [00:00<?, ?it/s]"
      ]
     },
     "metadata": {},
     "output_type": "display_data"
    },
    {
     "data": {
      "application/vnd.jupyter.widget-view+json": {
       "model_id": "c4849d90691f49e4b46b028914bf2ae3",
       "version_major": 2,
       "version_minor": 0
      },
      "text/plain": [
       "  0%|          | 0/2 [00:00<?, ?it/s]"
      ]
     },
     "metadata": {},
     "output_type": "display_data"
    },
    {
     "data": {
      "application/vnd.jupyter.widget-view+json": {
       "model_id": "914b7155cc3949bfa6c5ba218f656ac1",
       "version_major": 2,
       "version_minor": 0
      },
      "text/plain": [
       "  0%|          | 0/2 [00:00<?, ?it/s]"
      ]
     },
     "metadata": {},
     "output_type": "display_data"
    },
    {
     "data": {
      "application/vnd.jupyter.widget-view+json": {
       "model_id": "64f7cb6e8d834e619eb7b6a72a9cdfaf",
       "version_major": 2,
       "version_minor": 0
      },
      "text/plain": [
       "  0%|          | 0/3 [00:00<?, ?it/s]"
      ]
     },
     "metadata": {},
     "output_type": "display_data"
    },
    {
     "data": {
      "application/vnd.jupyter.widget-view+json": {
       "model_id": "f194ca0691e84d9c8ba4c38184d2d860",
       "version_major": 2,
       "version_minor": 0
      },
      "text/plain": [
       "  0%|          | 0/3 [00:00<?, ?it/s]"
      ]
     },
     "metadata": {},
     "output_type": "display_data"
    },
    {
     "data": {
      "application/vnd.jupyter.widget-view+json": {
       "model_id": "0cd2563bec5a45a2bdab4f4aa7e2b412",
       "version_major": 2,
       "version_minor": 0
      },
      "text/plain": [
       "  0%|          | 0/2 [00:00<?, ?it/s]"
      ]
     },
     "metadata": {},
     "output_type": "display_data"
    },
    {
     "data": {
      "application/vnd.jupyter.widget-view+json": {
       "model_id": "68104abdd5cd47399baf385031845f5b",
       "version_major": 2,
       "version_minor": 0
      },
      "text/plain": [
       "  0%|          | 0/3 [00:00<?, ?it/s]"
      ]
     },
     "metadata": {},
     "output_type": "display_data"
    },
    {
     "data": {
      "application/vnd.jupyter.widget-view+json": {
       "model_id": "27329b8c129c423b8ea2d817947a4aa1",
       "version_major": 2,
       "version_minor": 0
      },
      "text/plain": [
       "  0%|          | 0/3 [00:00<?, ?it/s]"
      ]
     },
     "metadata": {},
     "output_type": "display_data"
    },
    {
     "name": "stdout",
     "output_type": "stream",
     "text": [
      "given shift 3, window size 5 and n 11: history length = 35\n",
      "[INFO] Concatenating the embeddings to the dataframe...\n",
      "[INFO] - columns beginning with 'e' denote the full embddings.\n",
      "[INFO] - columns beginning with 'd' denote the dimension reduced embeddings.\n",
      "[INFO] Adding time feature columns into dataframe in `.df`.\n",
      "[INFO] Adding 'time_encoding' feature...\n",
      "[INFO] Adding 'time_diff' feature...\n",
      "[INFO] Adding 'timeline_index' feature...\n",
      "[INFO] Padding ids and storing in `.df_padded` and `.array_padded` attributes.\n"
     ]
    },
    {
     "data": {
      "application/vnd.jupyter.widget-view+json": {
       "model_id": "9b03cbbba90143ed9a076d4051bcf5f1",
       "version_major": 2,
       "version_minor": 0
      },
      "text/plain": [
       "  0%|          | 0/9699 [00:00<?, ?it/s]"
      ]
     },
     "metadata": {},
     "output_type": "display_data"
    },
    {
     "name": "stdout",
     "output_type": "stream",
     "text": [
      "[INFO] The path was created for each item in the dataframe, by looking at its history, so to include embeddings in the FFN input, we concatenate the embeddings for each sentence / text.\n",
      "saving results dataframe to CSV for this hyperparameter search in client_talk_type_output/seqsignet_attention_mha_grp_focal_2_3_5_11_kfold.csv\n",
      "saving the best model results dataframe to CSV for this hyperparameter search in client_talk_type_output/seqsignet_attention_mha_grp_focal_2_3_5_11_kfold_best_model.csv\n"
     ]
    }
   ],
   "source": [
    "(\n",
    "    seqsignet_attention_mha_grp_kfold_35,\n",
    "    best_seqsignet_attention_mha_grp_kfold_35,\n",
    "    _,\n",
    "    __,\n",
    ") = seqsignet_full_attention_hyperparameter_search(\n",
    "    shift=shift,\n",
    "    window_size=window_size,\n",
    "    n=n,\n",
    "    dim_reduce_methods=[\"gaussian_random_projection\"],\n",
    "    results_output=f\"{output_dir}/seqsignet_attention_mha_grp_focal_{gamma}_{shift}_{window_size}_{n}_kfold.csv\",\n",
    "    **kwargs,\n",
    ")"
   ]
  },
  {
   "cell_type": "code",
   "execution_count": 55,
   "id": "a9f88aff-06c9-406b-96ed-47e372ac74a8",
   "metadata": {},
   "outputs": [
    {
     "data": {
      "text/html": [
       "<div>\n",
       "<style scoped>\n",
       "    .dataframe tbody tr th:only-of-type {\n",
       "        vertical-align: middle;\n",
       "    }\n",
       "\n",
       "    .dataframe tbody tr th {\n",
       "        vertical-align: top;\n",
       "    }\n",
       "\n",
       "    .dataframe thead th {\n",
       "        text-align: right;\n",
       "    }\n",
       "</style>\n",
       "<table border=\"1\" class=\"dataframe\">\n",
       "  <thead>\n",
       "    <tr style=\"text-align: right;\">\n",
       "      <th></th>\n",
       "      <th>loss</th>\n",
       "      <th>accuracy</th>\n",
       "      <th>f1</th>\n",
       "      <th>f1_scores</th>\n",
       "      <th>precision</th>\n",
       "      <th>precision_scores</th>\n",
       "      <th>recall</th>\n",
       "      <th>recall_scores</th>\n",
       "      <th>valid_loss</th>\n",
       "      <th>valid_accuracy</th>\n",
       "      <th>...</th>\n",
       "      <th>seed</th>\n",
       "      <th>loss_function</th>\n",
       "      <th>gamma</th>\n",
       "      <th>k_fold</th>\n",
       "      <th>n_splits</th>\n",
       "      <th>augmentation_type</th>\n",
       "      <th>hidden_dim_aug</th>\n",
       "      <th>comb_method</th>\n",
       "      <th>batch_size</th>\n",
       "      <th>model_id</th>\n",
       "    </tr>\n",
       "  </thead>\n",
       "  <tbody>\n",
       "    <tr>\n",
       "      <th>0</th>\n",
       "      <td>None</td>\n",
       "      <td>0.642720</td>\n",
       "      <td>0.515170</td>\n",
       "      <td>[0.7744117647058822, 0.4314765694076039, 0.339...</td>\n",
       "      <td>0.511741</td>\n",
       "      <td>[0.7878515858767206, 0.46476190476190476, 0.28...</td>\n",
       "      <td>0.529839</td>\n",
       "      <td>[0.7614227877385772, 0.40264026402640263, 0.42...</td>\n",
       "      <td>None</td>\n",
       "      <td>0.660886</td>\n",
       "      <td>...</td>\n",
       "      <td>1</td>\n",
       "      <td>focal</td>\n",
       "      <td>2</td>\n",
       "      <td>True</td>\n",
       "      <td>5</td>\n",
       "      <td>Conv1d</td>\n",
       "      <td>None</td>\n",
       "      <td>concatenation</td>\n",
       "      <td>64</td>\n",
       "      <td>0</td>\n",
       "    </tr>\n",
       "    <tr>\n",
       "      <th>0</th>\n",
       "      <td>None</td>\n",
       "      <td>0.649042</td>\n",
       "      <td>0.523271</td>\n",
       "      <td>[0.7753368482718218, 0.44658493870402804, 0.34...</td>\n",
       "      <td>0.519374</td>\n",
       "      <td>[0.785459940652819, 0.47574626865671643, 0.296...</td>\n",
       "      <td>0.535421</td>\n",
       "      <td>[0.7654713707345286, 0.4207920792079208, 0.42]</td>\n",
       "      <td>None</td>\n",
       "      <td>0.664900</td>\n",
       "      <td>...</td>\n",
       "      <td>12</td>\n",
       "      <td>focal</td>\n",
       "      <td>2</td>\n",
       "      <td>True</td>\n",
       "      <td>5</td>\n",
       "      <td>Conv1d</td>\n",
       "      <td>None</td>\n",
       "      <td>concatenation</td>\n",
       "      <td>64</td>\n",
       "      <td>0</td>\n",
       "    </tr>\n",
       "    <tr>\n",
       "      <th>0</th>\n",
       "      <td>None</td>\n",
       "      <td>0.639464</td>\n",
       "      <td>0.513681</td>\n",
       "      <td>[0.7644444444444445, 0.4490118577075099, 0.327...</td>\n",
       "      <td>0.508717</td>\n",
       "      <td>[0.7837181044957473, 0.4309559939301973, 0.311...</td>\n",
       "      <td>0.520066</td>\n",
       "      <td>[0.746096009253904, 0.46864686468646866, 0.345...</td>\n",
       "      <td>None</td>\n",
       "      <td>0.661047</td>\n",
       "      <td>...</td>\n",
       "      <td>123</td>\n",
       "      <td>focal</td>\n",
       "      <td>2</td>\n",
       "      <td>True</td>\n",
       "      <td>5</td>\n",
       "      <td>Conv1d</td>\n",
       "      <td>None</td>\n",
       "      <td>concatenation</td>\n",
       "      <td>64</td>\n",
       "      <td>0</td>\n",
       "    </tr>\n",
       "    <tr>\n",
       "      <th>0</th>\n",
       "      <td>None</td>\n",
       "      <td>0.619157</td>\n",
       "      <td>0.484846</td>\n",
       "      <td>[0.7585596221959859, 0.3886606409202958, 0.307...</td>\n",
       "      <td>0.479858</td>\n",
       "      <td>[0.7745629897528632, 0.38707037643207853, 0.27...</td>\n",
       "      <td>0.492368</td>\n",
       "      <td>[0.7432041642567958, 0.39026402640264024, 0.34...</td>\n",
       "      <td>None</td>\n",
       "      <td>0.672608</td>\n",
       "      <td>...</td>\n",
       "      <td>1</td>\n",
       "      <td>focal</td>\n",
       "      <td>2</td>\n",
       "      <td>True</td>\n",
       "      <td>5</td>\n",
       "      <td>Conv1d</td>\n",
       "      <td>None</td>\n",
       "      <td>concatenation</td>\n",
       "      <td>64</td>\n",
       "      <td>1</td>\n",
       "    </tr>\n",
       "    <tr>\n",
       "      <th>0</th>\n",
       "      <td>None</td>\n",
       "      <td>0.634674</td>\n",
       "      <td>0.493259</td>\n",
       "      <td>[0.7648177959900483, 0.4251908396946565, 0.289...</td>\n",
       "      <td>0.499017</td>\n",
       "      <td>[0.7742222222222223, 0.3955965909090909, 0.327...</td>\n",
       "      <td>0.491737</td>\n",
       "      <td>[0.7556390977443609, 0.45957095709570955, 0.26]</td>\n",
       "      <td>None</td>\n",
       "      <td>0.662974</td>\n",
       "      <td>...</td>\n",
       "      <td>12</td>\n",
       "      <td>focal</td>\n",
       "      <td>2</td>\n",
       "      <td>True</td>\n",
       "      <td>5</td>\n",
       "      <td>Conv1d</td>\n",
       "      <td>None</td>\n",
       "      <td>concatenation</td>\n",
       "      <td>64</td>\n",
       "      <td>1</td>\n",
       "    </tr>\n",
       "    <tr>\n",
       "      <th>...</th>\n",
       "      <td>...</td>\n",
       "      <td>...</td>\n",
       "      <td>...</td>\n",
       "      <td>...</td>\n",
       "      <td>...</td>\n",
       "      <td>...</td>\n",
       "      <td>...</td>\n",
       "      <td>...</td>\n",
       "      <td>...</td>\n",
       "      <td>...</td>\n",
       "      <td>...</td>\n",
       "      <td>...</td>\n",
       "      <td>...</td>\n",
       "      <td>...</td>\n",
       "      <td>...</td>\n",
       "      <td>...</td>\n",
       "      <td>...</td>\n",
       "      <td>...</td>\n",
       "      <td>...</td>\n",
       "      <td>...</td>\n",
       "      <td>...</td>\n",
       "    </tr>\n",
       "    <tr>\n",
       "      <th>0</th>\n",
       "      <td>None</td>\n",
       "      <td>0.635441</td>\n",
       "      <td>0.497213</td>\n",
       "      <td>[0.7609567671965533, 0.4575018477457502, 0.273...</td>\n",
       "      <td>0.499738</td>\n",
       "      <td>[0.7824625725633975, 0.4143239625167336, 0.302...</td>\n",
       "      <td>0.500139</td>\n",
       "      <td>[0.7406015037593985, 0.5107260726072608, 0.249...</td>\n",
       "      <td>None</td>\n",
       "      <td>0.672608</td>\n",
       "      <td>...</td>\n",
       "      <td>12</td>\n",
       "      <td>focal</td>\n",
       "      <td>2</td>\n",
       "      <td>True</td>\n",
       "      <td>5</td>\n",
       "      <td>Conv1d</td>\n",
       "      <td>None</td>\n",
       "      <td>concatenation</td>\n",
       "      <td>64</td>\n",
       "      <td>22</td>\n",
       "    </tr>\n",
       "    <tr>\n",
       "      <th>0</th>\n",
       "      <td>None</td>\n",
       "      <td>0.618582</td>\n",
       "      <td>0.492300</td>\n",
       "      <td>[0.7552238805970148, 0.3984095427435387, 0.323...</td>\n",
       "      <td>0.486071</td>\n",
       "      <td>[0.7803824799506478, 0.3844973138910207, 0.293...</td>\n",
       "      <td>0.501668</td>\n",
       "      <td>[0.7316367842683632, 0.41336633663366334, 0.36]</td>\n",
       "      <td>None</td>\n",
       "      <td>0.681599</td>\n",
       "      <td>...</td>\n",
       "      <td>123</td>\n",
       "      <td>focal</td>\n",
       "      <td>2</td>\n",
       "      <td>True</td>\n",
       "      <td>5</td>\n",
       "      <td>Conv1d</td>\n",
       "      <td>None</td>\n",
       "      <td>concatenation</td>\n",
       "      <td>64</td>\n",
       "      <td>22</td>\n",
       "    </tr>\n",
       "    <tr>\n",
       "      <th>0</th>\n",
       "      <td>None</td>\n",
       "      <td>0.618582</td>\n",
       "      <td>0.480782</td>\n",
       "      <td>[0.7558960492714436, 0.4207811348563007, 0.265...</td>\n",
       "      <td>0.480086</td>\n",
       "      <td>[0.7864957799312285, 0.3801597869507324, 0.273...</td>\n",
       "      <td>0.485631</td>\n",
       "      <td>[0.7275882012724117, 0.47112211221122113, 0.25...</td>\n",
       "      <td>None</td>\n",
       "      <td>0.645311</td>\n",
       "      <td>...</td>\n",
       "      <td>1</td>\n",
       "      <td>focal</td>\n",
       "      <td>2</td>\n",
       "      <td>True</td>\n",
       "      <td>5</td>\n",
       "      <td>Conv1d</td>\n",
       "      <td>None</td>\n",
       "      <td>concatenation</td>\n",
       "      <td>64</td>\n",
       "      <td>23</td>\n",
       "    </tr>\n",
       "    <tr>\n",
       "      <th>0</th>\n",
       "      <td>None</td>\n",
       "      <td>0.629119</td>\n",
       "      <td>0.505617</td>\n",
       "      <td>[0.7606635071090048, 0.416452442159383, 0.3397...</td>\n",
       "      <td>0.499608</td>\n",
       "      <td>[0.7795992714025501, 0.43315508021390375, 0.28...</td>\n",
       "      <td>0.520599</td>\n",
       "      <td>[0.7426257952573742, 0.400990099009901, 0.4181...</td>\n",
       "      <td>None</td>\n",
       "      <td>0.650771</td>\n",
       "      <td>...</td>\n",
       "      <td>12</td>\n",
       "      <td>focal</td>\n",
       "      <td>2</td>\n",
       "      <td>True</td>\n",
       "      <td>5</td>\n",
       "      <td>Conv1d</td>\n",
       "      <td>None</td>\n",
       "      <td>concatenation</td>\n",
       "      <td>64</td>\n",
       "      <td>23</td>\n",
       "    </tr>\n",
       "    <tr>\n",
       "      <th>0</th>\n",
       "      <td>None</td>\n",
       "      <td>0.640421</td>\n",
       "      <td>0.511515</td>\n",
       "      <td>[0.7691636363636364, 0.42086330935251803, 0.34...</td>\n",
       "      <td>0.509421</td>\n",
       "      <td>[0.7737781679836113, 0.4624505928853755, 0.292...</td>\n",
       "      <td>0.523581</td>\n",
       "      <td>[0.7646038172353962, 0.38613861386138615, 0.42]</td>\n",
       "      <td>None</td>\n",
       "      <td>0.660886</td>\n",
       "      <td>...</td>\n",
       "      <td>123</td>\n",
       "      <td>focal</td>\n",
       "      <td>2</td>\n",
       "      <td>True</td>\n",
       "      <td>5</td>\n",
       "      <td>Conv1d</td>\n",
       "      <td>None</td>\n",
       "      <td>concatenation</td>\n",
       "      <td>64</td>\n",
       "      <td>23</td>\n",
       "    </tr>\n",
       "  </tbody>\n",
       "</table>\n",
       "<p>72 rows × 47 columns</p>\n",
       "</div>"
      ],
      "text/plain": [
       "    loss  accuracy        f1  \\\n",
       "0   None  0.642720  0.515170   \n",
       "0   None  0.649042  0.523271   \n",
       "0   None  0.639464  0.513681   \n",
       "0   None  0.619157  0.484846   \n",
       "0   None  0.634674  0.493259   \n",
       "..   ...       ...       ...   \n",
       "0   None  0.635441  0.497213   \n",
       "0   None  0.618582  0.492300   \n",
       "0   None  0.618582  0.480782   \n",
       "0   None  0.629119  0.505617   \n",
       "0   None  0.640421  0.511515   \n",
       "\n",
       "                                            f1_scores  precision  \\\n",
       "0   [0.7744117647058822, 0.4314765694076039, 0.339...   0.511741   \n",
       "0   [0.7753368482718218, 0.44658493870402804, 0.34...   0.519374   \n",
       "0   [0.7644444444444445, 0.4490118577075099, 0.327...   0.508717   \n",
       "0   [0.7585596221959859, 0.3886606409202958, 0.307...   0.479858   \n",
       "0   [0.7648177959900483, 0.4251908396946565, 0.289...   0.499017   \n",
       "..                                                ...        ...   \n",
       "0   [0.7609567671965533, 0.4575018477457502, 0.273...   0.499738   \n",
       "0   [0.7552238805970148, 0.3984095427435387, 0.323...   0.486071   \n",
       "0   [0.7558960492714436, 0.4207811348563007, 0.265...   0.480086   \n",
       "0   [0.7606635071090048, 0.416452442159383, 0.3397...   0.499608   \n",
       "0   [0.7691636363636364, 0.42086330935251803, 0.34...   0.509421   \n",
       "\n",
       "                                     precision_scores    recall  \\\n",
       "0   [0.7878515858767206, 0.46476190476190476, 0.28...  0.529839   \n",
       "0   [0.785459940652819, 0.47574626865671643, 0.296...  0.535421   \n",
       "0   [0.7837181044957473, 0.4309559939301973, 0.311...  0.520066   \n",
       "0   [0.7745629897528632, 0.38707037643207853, 0.27...  0.492368   \n",
       "0   [0.7742222222222223, 0.3955965909090909, 0.327...  0.491737   \n",
       "..                                                ...       ...   \n",
       "0   [0.7824625725633975, 0.4143239625167336, 0.302...  0.500139   \n",
       "0   [0.7803824799506478, 0.3844973138910207, 0.293...  0.501668   \n",
       "0   [0.7864957799312285, 0.3801597869507324, 0.273...  0.485631   \n",
       "0   [0.7795992714025501, 0.43315508021390375, 0.28...  0.520599   \n",
       "0   [0.7737781679836113, 0.4624505928853755, 0.292...  0.523581   \n",
       "\n",
       "                                        recall_scores valid_loss  \\\n",
       "0   [0.7614227877385772, 0.40264026402640263, 0.42...       None   \n",
       "0      [0.7654713707345286, 0.4207920792079208, 0.42]       None   \n",
       "0   [0.746096009253904, 0.46864686468646866, 0.345...       None   \n",
       "0   [0.7432041642567958, 0.39026402640264024, 0.34...       None   \n",
       "0     [0.7556390977443609, 0.45957095709570955, 0.26]       None   \n",
       "..                                                ...        ...   \n",
       "0   [0.7406015037593985, 0.5107260726072608, 0.249...       None   \n",
       "0     [0.7316367842683632, 0.41336633663366334, 0.36]       None   \n",
       "0   [0.7275882012724117, 0.47112211221122113, 0.25...       None   \n",
       "0   [0.7426257952573742, 0.400990099009901, 0.4181...       None   \n",
       "0     [0.7646038172353962, 0.38613861386138615, 0.42]       None   \n",
       "\n",
       "    valid_accuracy  ...  seed loss_function  gamma k_fold  n_splits  \\\n",
       "0         0.660886  ...     1         focal      2   True         5   \n",
       "0         0.664900  ...    12         focal      2   True         5   \n",
       "0         0.661047  ...   123         focal      2   True         5   \n",
       "0         0.672608  ...     1         focal      2   True         5   \n",
       "0         0.662974  ...    12         focal      2   True         5   \n",
       "..             ...  ...   ...           ...    ...    ...       ...   \n",
       "0         0.672608  ...    12         focal      2   True         5   \n",
       "0         0.681599  ...   123         focal      2   True         5   \n",
       "0         0.645311  ...     1         focal      2   True         5   \n",
       "0         0.650771  ...    12         focal      2   True         5   \n",
       "0         0.660886  ...   123         focal      2   True         5   \n",
       "\n",
       "   augmentation_type  hidden_dim_aug    comb_method  batch_size  model_id  \n",
       "0             Conv1d            None  concatenation          64         0  \n",
       "0             Conv1d            None  concatenation          64         0  \n",
       "0             Conv1d            None  concatenation          64         0  \n",
       "0             Conv1d            None  concatenation          64         1  \n",
       "0             Conv1d            None  concatenation          64         1  \n",
       "..               ...             ...            ...         ...       ...  \n",
       "0             Conv1d            None  concatenation          64        22  \n",
       "0             Conv1d            None  concatenation          64        22  \n",
       "0             Conv1d            None  concatenation          64        23  \n",
       "0             Conv1d            None  concatenation          64        23  \n",
       "0             Conv1d            None  concatenation          64        23  \n",
       "\n",
       "[72 rows x 47 columns]"
      ]
     },
     "execution_count": 55,
     "metadata": {},
     "output_type": "execute_result"
    }
   ],
   "source": [
    "seqsignet_attention_mha_grp_kfold_35"
   ]
  },
  {
   "cell_type": "code",
   "execution_count": 56,
   "id": "db6dc8c8-28ef-4f8b-a371-4c7fb004ba85",
   "metadata": {},
   "outputs": [
    {
     "data": {
      "text/plain": [
       "0.5040143830156835"
      ]
     },
     "execution_count": 56,
     "metadata": {},
     "output_type": "execute_result"
    }
   ],
   "source": [
    "best_seqsignet_attention_mha_grp_kfold_35[\"f1\"].mean()"
   ]
  },
  {
   "cell_type": "code",
   "execution_count": 57,
   "id": "5943b90f-b486-442f-9507-afca813c2d1e",
   "metadata": {},
   "outputs": [
    {
     "data": {
      "text/plain": [
       "0.4997326393070261"
      ]
     },
     "execution_count": 57,
     "metadata": {},
     "output_type": "execute_result"
    }
   ],
   "source": [
    "best_seqsignet_attention_mha_grp_kfold_35[\"precision\"].mean()"
   ]
  },
  {
   "cell_type": "code",
   "execution_count": 58,
   "id": "fac42ec4-794d-452a-a26f-a33f38300957",
   "metadata": {},
   "outputs": [
    {
     "data": {
      "text/plain": [
       "0.5098287852691188"
      ]
     },
     "execution_count": 58,
     "metadata": {},
     "output_type": "execute_result"
    }
   ],
   "source": [
    "best_seqsignet_attention_mha_grp_kfold_35[\"recall\"].mean()"
   ]
  },
  {
   "cell_type": "code",
   "execution_count": 59,
   "id": "6e41ae89-f184-4318-93c6-61b9bda05133",
   "metadata": {},
   "outputs": [
    {
     "data": {
      "text/plain": [
       "array([0.76211721, 0.42877463, 0.32115131])"
      ]
     },
     "execution_count": 59,
     "metadata": {},
     "output_type": "execute_result"
    }
   ],
   "source": [
    "np.stack(best_seqsignet_attention_mha_grp_kfold_35[\"f1_scores\"]).mean(axis=0)"
   ]
  },
  {
   "cell_type": "code",
   "execution_count": 60,
   "id": "7aeeb599-9de6-411e-bd82-83c451b007f7",
   "metadata": {},
   "outputs": [
    {
     "data": {
      "text/plain": [
       "array([0.77753087, 0.41798238, 0.30368467])"
      ]
     },
     "execution_count": 60,
     "metadata": {},
     "output_type": "execute_result"
    }
   ],
   "source": [
    "np.stack(best_seqsignet_attention_mha_grp_kfold_35[\"precision_scores\"]).mean(axis=0)"
   ]
  },
  {
   "cell_type": "code",
   "execution_count": 61,
   "id": "d1ea4021-566e-491b-a6d1-d17745b193f9",
   "metadata": {},
   "outputs": [
    {
     "data": {
      "text/plain": [
       "array([0.74734914, 0.44031903, 0.34181818])"
      ]
     },
     "execution_count": 61,
     "metadata": {},
     "output_type": "execute_result"
    }
   ],
   "source": [
    "np.stack(best_seqsignet_attention_mha_grp_kfold_35[\"recall_scores\"]).mean(axis=0)"
   ]
  },
  {
   "cell_type": "markdown",
   "id": "31b11d48-8d6f-4170-9c45-30723d301693",
   "metadata": {},
   "source": [
    "# history_length=80"
   ]
  },
  {
   "cell_type": "code",
   "execution_count": 11,
   "id": "6a392114-8a3e-4543-98a4-a0b9fb7b7855",
   "metadata": {},
   "outputs": [],
   "source": [
    "shift = 3\n",
    "window_size = 5\n",
    "n = 26"
   ]
  },
  {
   "cell_type": "code",
   "execution_count": 63,
   "id": "d2585d4e-a39c-4ba4-b71b-cb2f1e71fae0",
   "metadata": {},
   "outputs": [
    {
     "data": {
      "application/vnd.jupyter.widget-view+json": {
       "model_id": "7d79c1dda79547329c2031c917859fe6",
       "version_major": 2,
       "version_minor": 0
      },
      "text/plain": [
       "  0%|          | 0/1 [00:00<?, ?it/s]"
      ]
     },
     "metadata": {},
     "output_type": "display_data"
    },
    {
     "data": {
      "application/vnd.jupyter.widget-view+json": {
       "model_id": "d181622e4e9e47c882f5c87ab5c4499d",
       "version_major": 2,
       "version_minor": 0
      },
      "text/plain": [
       "  0%|          | 0/1 [00:00<?, ?it/s]"
      ]
     },
     "metadata": {},
     "output_type": "display_data"
    },
    {
     "name": "stdout",
     "output_type": "stream",
     "text": [
      "\n",
      "##################################################\n",
      "dimension: 15 | method: umap\n",
      "given shift 3, window size 5 and n 26: history length = 80\n",
      "[INFO] Concatenating the embeddings to the dataframe...\n",
      "[INFO] - columns beginning with 'e' denote the full embddings.\n",
      "[INFO] - columns beginning with 'd' denote the dimension reduced embeddings.\n",
      "[INFO] Adding time feature columns into dataframe in `.df`.\n",
      "[INFO] Adding 'time_encoding' feature...\n",
      "[INFO] Adding 'time_diff' feature...\n",
      "[INFO] Adding 'timeline_index' feature...\n",
      "[INFO] Padding ids and storing in `.df_padded` and `.array_padded` attributes.\n"
     ]
    },
    {
     "data": {
      "application/vnd.jupyter.widget-view+json": {
       "model_id": "1d568f638f37475b912d2a793241d5b0",
       "version_major": 2,
       "version_minor": 0
      },
      "text/plain": [
       "  0%|          | 0/9699 [00:00<?, ?it/s]"
      ]
     },
     "metadata": {},
     "output_type": "display_data"
    },
    {
     "name": "stdout",
     "output_type": "stream",
     "text": [
      "[INFO] The path was created for each item in the dataframe, by looking at its history, so to include embeddings in the FFN input, we concatenate the embeddings for each sentence / text.\n"
     ]
    },
    {
     "data": {
      "application/vnd.jupyter.widget-view+json": {
       "model_id": "42b2606e4c434e12aa8a5dc11725d156",
       "version_major": 2,
       "version_minor": 0
      },
      "text/plain": [
       "  0%|          | 0/2 [00:00<?, ?it/s]"
      ]
     },
     "metadata": {},
     "output_type": "display_data"
    },
    {
     "data": {
      "application/vnd.jupyter.widget-view+json": {
       "model_id": "727627d1c890437f97255c4108ceddc0",
       "version_major": 2,
       "version_minor": 0
      },
      "text/plain": [
       "  0%|          | 0/1 [00:00<?, ?it/s]"
      ]
     },
     "metadata": {},
     "output_type": "display_data"
    },
    {
     "data": {
      "application/vnd.jupyter.widget-view+json": {
       "model_id": "4d471fdb9a664391abd77ff6377f55e8",
       "version_major": 2,
       "version_minor": 0
      },
      "text/plain": [
       "  0%|          | 0/2 [00:00<?, ?it/s]"
      ]
     },
     "metadata": {},
     "output_type": "display_data"
    },
    {
     "data": {
      "application/vnd.jupyter.widget-view+json": {
       "model_id": "a73ab7c7670f4bb59d1733051b8abf2c",
       "version_major": 2,
       "version_minor": 0
      },
      "text/plain": [
       "  0%|          | 0/2 [00:00<?, ?it/s]"
      ]
     },
     "metadata": {},
     "output_type": "display_data"
    },
    {
     "data": {
      "application/vnd.jupyter.widget-view+json": {
       "model_id": "ea0bb538e2164ddfa0bf1b0d10e5728a",
       "version_major": 2,
       "version_minor": 0
      },
      "text/plain": [
       "  0%|          | 0/3 [00:00<?, ?it/s]"
      ]
     },
     "metadata": {},
     "output_type": "display_data"
    },
    {
     "data": {
      "application/vnd.jupyter.widget-view+json": {
       "model_id": "36cb09db45694334b3a6a5873bc5c442",
       "version_major": 2,
       "version_minor": 0
      },
      "text/plain": [
       "  0%|          | 0/3 [00:00<?, ?it/s]"
      ]
     },
     "metadata": {},
     "output_type": "display_data"
    },
    {
     "data": {
      "application/vnd.jupyter.widget-view+json": {
       "model_id": "53a327b68bcb4a93a375fdc070aee40a",
       "version_major": 2,
       "version_minor": 0
      },
      "text/plain": [
       "  0%|          | 0/2 [00:00<?, ?it/s]"
      ]
     },
     "metadata": {},
     "output_type": "display_data"
    },
    {
     "data": {
      "application/vnd.jupyter.widget-view+json": {
       "model_id": "6540708ebcfe411894441f5e9759805a",
       "version_major": 2,
       "version_minor": 0
      },
      "text/plain": [
       "  0%|          | 0/3 [00:00<?, ?it/s]"
      ]
     },
     "metadata": {},
     "output_type": "display_data"
    },
    {
     "data": {
      "application/vnd.jupyter.widget-view+json": {
       "model_id": "f361de12216645f58c96e446e553ffa5",
       "version_major": 2,
       "version_minor": 0
      },
      "text/plain": [
       "  0%|          | 0/3 [00:00<?, ?it/s]"
      ]
     },
     "metadata": {},
     "output_type": "display_data"
    },
    {
     "data": {
      "application/vnd.jupyter.widget-view+json": {
       "model_id": "b525a288b4b04a1398e370be2e04cce1",
       "version_major": 2,
       "version_minor": 0
      },
      "text/plain": [
       "  0%|          | 0/1 [00:00<?, ?it/s]"
      ]
     },
     "metadata": {},
     "output_type": "display_data"
    },
    {
     "data": {
      "application/vnd.jupyter.widget-view+json": {
       "model_id": "6a0e52e692e74bde9e4ab14be0efcc1c",
       "version_major": 2,
       "version_minor": 0
      },
      "text/plain": [
       "  0%|          | 0/2 [00:00<?, ?it/s]"
      ]
     },
     "metadata": {},
     "output_type": "display_data"
    },
    {
     "data": {
      "application/vnd.jupyter.widget-view+json": {
       "model_id": "472ae51fe2064b15965f470a8f5d4e8a",
       "version_major": 2,
       "version_minor": 0
      },
      "text/plain": [
       "  0%|          | 0/2 [00:00<?, ?it/s]"
      ]
     },
     "metadata": {},
     "output_type": "display_data"
    },
    {
     "data": {
      "application/vnd.jupyter.widget-view+json": {
       "model_id": "174e3f3399cc4d3bbb65f26178b515ec",
       "version_major": 2,
       "version_minor": 0
      },
      "text/plain": [
       "  0%|          | 0/3 [00:00<?, ?it/s]"
      ]
     },
     "metadata": {},
     "output_type": "display_data"
    },
    {
     "data": {
      "application/vnd.jupyter.widget-view+json": {
       "model_id": "252e17eb1071479cbd49e68be27c9737",
       "version_major": 2,
       "version_minor": 0
      },
      "text/plain": [
       "  0%|          | 0/3 [00:00<?, ?it/s]"
      ]
     },
     "metadata": {},
     "output_type": "display_data"
    },
    {
     "data": {
      "application/vnd.jupyter.widget-view+json": {
       "model_id": "627ead346ad94a38b1f05aa19d53bb0d",
       "version_major": 2,
       "version_minor": 0
      },
      "text/plain": [
       "  0%|          | 0/2 [00:00<?, ?it/s]"
      ]
     },
     "metadata": {},
     "output_type": "display_data"
    },
    {
     "data": {
      "application/vnd.jupyter.widget-view+json": {
       "model_id": "f0e250ad518148a5a01eeb9a42bd049d",
       "version_major": 2,
       "version_minor": 0
      },
      "text/plain": [
       "  0%|          | 0/3 [00:00<?, ?it/s]"
      ]
     },
     "metadata": {},
     "output_type": "display_data"
    },
    {
     "data": {
      "application/vnd.jupyter.widget-view+json": {
       "model_id": "9607e9db257346e4bbe7eda2435ae758",
       "version_major": 2,
       "version_minor": 0
      },
      "text/plain": [
       "  0%|          | 0/3 [00:00<?, ?it/s]"
      ]
     },
     "metadata": {},
     "output_type": "display_data"
    },
    {
     "name": "stdout",
     "output_type": "stream",
     "text": [
      "given shift 3, window size 5 and n 26: history length = 80\n",
      "[INFO] Concatenating the embeddings to the dataframe...\n",
      "[INFO] - columns beginning with 'e' denote the full embddings.\n",
      "[INFO] - columns beginning with 'd' denote the dimension reduced embeddings.\n",
      "[INFO] Adding time feature columns into dataframe in `.df`.\n",
      "[INFO] Adding 'time_encoding' feature...\n",
      "[INFO] Adding 'time_diff' feature...\n",
      "[INFO] Adding 'timeline_index' feature...\n",
      "[INFO] Padding ids and storing in `.df_padded` and `.array_padded` attributes.\n"
     ]
    },
    {
     "data": {
      "application/vnd.jupyter.widget-view+json": {
       "model_id": "d36af3417ade4e6a8176c9e2b9e02540",
       "version_major": 2,
       "version_minor": 0
      },
      "text/plain": [
       "  0%|          | 0/9699 [00:00<?, ?it/s]"
      ]
     },
     "metadata": {},
     "output_type": "display_data"
    },
    {
     "name": "stdout",
     "output_type": "stream",
     "text": [
      "[INFO] The path was created for each item in the dataframe, by looking at its history, so to include embeddings in the FFN input, we concatenate the embeddings for each sentence / text.\n",
      "saving results dataframe to CSV for this hyperparameter search in client_talk_type_output/seqsignet_attention_mha_umap_focal_2_3_5_26_kfold.csv\n",
      "saving the best model results dataframe to CSV for this hyperparameter search in client_talk_type_output/seqsignet_attention_mha_umap_focal_2_3_5_26_kfold_best_model.csv\n"
     ]
    }
   ],
   "source": [
    "(\n",
    "    seqsignet_attention_mha_umap_kfold_80,\n",
    "    best_seqsignet_attention_mha_umap_kfold_80,\n",
    "    _,\n",
    "    __,\n",
    ") = seqsignet_full_attention_hyperparameter_search(\n",
    "    shift=shift,\n",
    "    window_size=window_size,\n",
    "    n=n,\n",
    "    dim_reduce_methods=[\"umap\"],\n",
    "    results_output=f\"{output_dir}/seqsignet_attention_mha_umap_focal_{gamma}_{shift}_{window_size}_{n}_kfold.csv\",\n",
    "    **kwargs,\n",
    ")"
   ]
  },
  {
   "cell_type": "code",
   "execution_count": 64,
   "id": "8be475f7-dad8-4abe-a171-474f25f7adb9",
   "metadata": {},
   "outputs": [
    {
     "data": {
      "text/html": [
       "<div>\n",
       "<style scoped>\n",
       "    .dataframe tbody tr th:only-of-type {\n",
       "        vertical-align: middle;\n",
       "    }\n",
       "\n",
       "    .dataframe tbody tr th {\n",
       "        vertical-align: top;\n",
       "    }\n",
       "\n",
       "    .dataframe thead th {\n",
       "        text-align: right;\n",
       "    }\n",
       "</style>\n",
       "<table border=\"1\" class=\"dataframe\">\n",
       "  <thead>\n",
       "    <tr style=\"text-align: right;\">\n",
       "      <th></th>\n",
       "      <th>loss</th>\n",
       "      <th>accuracy</th>\n",
       "      <th>f1</th>\n",
       "      <th>f1_scores</th>\n",
       "      <th>precision</th>\n",
       "      <th>precision_scores</th>\n",
       "      <th>recall</th>\n",
       "      <th>recall_scores</th>\n",
       "      <th>valid_loss</th>\n",
       "      <th>valid_accuracy</th>\n",
       "      <th>...</th>\n",
       "      <th>seed</th>\n",
       "      <th>loss_function</th>\n",
       "      <th>gamma</th>\n",
       "      <th>k_fold</th>\n",
       "      <th>n_splits</th>\n",
       "      <th>augmentation_type</th>\n",
       "      <th>hidden_dim_aug</th>\n",
       "      <th>comb_method</th>\n",
       "      <th>batch_size</th>\n",
       "      <th>model_id</th>\n",
       "    </tr>\n",
       "  </thead>\n",
       "  <tbody>\n",
       "    <tr>\n",
       "      <th>0</th>\n",
       "      <td>None</td>\n",
       "      <td>0.642146</td>\n",
       "      <td>0.517118</td>\n",
       "      <td>[0.768294493097818, 0.4563977180114099, 0.3266...</td>\n",
       "      <td>0.510665</td>\n",
       "      <td>[0.7892650198231168, 0.45088566827697263, 0.29...</td>\n",
       "      <td>0.527122</td>\n",
       "      <td>[0.7484094852515906, 0.46204620462046203, 0.37...</td>\n",
       "      <td>None</td>\n",
       "      <td>0.662492</td>\n",
       "      <td>...</td>\n",
       "      <td>1</td>\n",
       "      <td>focal</td>\n",
       "      <td>2</td>\n",
       "      <td>True</td>\n",
       "      <td>5</td>\n",
       "      <td>Conv1d</td>\n",
       "      <td>None</td>\n",
       "      <td>concatenation</td>\n",
       "      <td>64</td>\n",
       "      <td>0</td>\n",
       "    </tr>\n",
       "    <tr>\n",
       "      <th>0</th>\n",
       "      <td>None</td>\n",
       "      <td>0.625862</td>\n",
       "      <td>0.511835</td>\n",
       "      <td>[0.7565938206480783, 0.43412908930150307, 0.34...</td>\n",
       "      <td>0.508516</td>\n",
       "      <td>[0.7900535096002518, 0.4676190476190476, 0.267...</td>\n",
       "      <td>0.538202</td>\n",
       "      <td>[0.7258530942741469, 0.4051155115511551, 0.483...</td>\n",
       "      <td>None</td>\n",
       "      <td>0.659120</td>\n",
       "      <td>...</td>\n",
       "      <td>12</td>\n",
       "      <td>focal</td>\n",
       "      <td>2</td>\n",
       "      <td>True</td>\n",
       "      <td>5</td>\n",
       "      <td>Conv1d</td>\n",
       "      <td>None</td>\n",
       "      <td>concatenation</td>\n",
       "      <td>64</td>\n",
       "      <td>0</td>\n",
       "    </tr>\n",
       "    <tr>\n",
       "      <th>0</th>\n",
       "      <td>None</td>\n",
       "      <td>0.632759</td>\n",
       "      <td>0.508760</td>\n",
       "      <td>[0.76156897311591, 0.4218540080609046, 0.34285...</td>\n",
       "      <td>0.505876</td>\n",
       "      <td>[0.7739623768289041, 0.46131243878550443, 0.28...</td>\n",
       "      <td>0.524848</td>\n",
       "      <td>[0.7495662232504338, 0.3886138613861386, 0.436...</td>\n",
       "      <td>None</td>\n",
       "      <td>0.653500</td>\n",
       "      <td>...</td>\n",
       "      <td>123</td>\n",
       "      <td>focal</td>\n",
       "      <td>2</td>\n",
       "      <td>True</td>\n",
       "      <td>5</td>\n",
       "      <td>Conv1d</td>\n",
       "      <td>None</td>\n",
       "      <td>concatenation</td>\n",
       "      <td>64</td>\n",
       "      <td>0</td>\n",
       "    </tr>\n",
       "    <tr>\n",
       "      <th>0</th>\n",
       "      <td>None</td>\n",
       "      <td>0.594636</td>\n",
       "      <td>0.430982</td>\n",
       "      <td>[0.7464688257954061, 0.31009830205540667, 0.23...</td>\n",
       "      <td>0.431395</td>\n",
       "      <td>[0.7366938890453394, 0.3382066276803119, 0.219...</td>\n",
       "      <td>0.433058</td>\n",
       "      <td>[0.7565066512434934, 0.2863036303630363, 0.256...</td>\n",
       "      <td>None</td>\n",
       "      <td>0.662653</td>\n",
       "      <td>...</td>\n",
       "      <td>1</td>\n",
       "      <td>focal</td>\n",
       "      <td>2</td>\n",
       "      <td>True</td>\n",
       "      <td>5</td>\n",
       "      <td>Conv1d</td>\n",
       "      <td>None</td>\n",
       "      <td>concatenation</td>\n",
       "      <td>64</td>\n",
       "      <td>1</td>\n",
       "    </tr>\n",
       "    <tr>\n",
       "      <th>0</th>\n",
       "      <td>None</td>\n",
       "      <td>0.591379</td>\n",
       "      <td>0.458480</td>\n",
       "      <td>[0.7251655629139072, 0.3969410050983248, 0.253...</td>\n",
       "      <td>0.459134</td>\n",
       "      <td>[0.756120527306968, 0.35528031290743156, 0.266]</td>\n",
       "      <td>0.462711</td>\n",
       "      <td>[0.6966454598033546, 0.44966996699669964, 0.24...</td>\n",
       "      <td>None</td>\n",
       "      <td>0.662813</td>\n",
       "      <td>...</td>\n",
       "      <td>12</td>\n",
       "      <td>focal</td>\n",
       "      <td>2</td>\n",
       "      <td>True</td>\n",
       "      <td>5</td>\n",
       "      <td>Conv1d</td>\n",
       "      <td>None</td>\n",
       "      <td>concatenation</td>\n",
       "      <td>64</td>\n",
       "      <td>1</td>\n",
       "    </tr>\n",
       "    <tr>\n",
       "      <th>...</th>\n",
       "      <td>...</td>\n",
       "      <td>...</td>\n",
       "      <td>...</td>\n",
       "      <td>...</td>\n",
       "      <td>...</td>\n",
       "      <td>...</td>\n",
       "      <td>...</td>\n",
       "      <td>...</td>\n",
       "      <td>...</td>\n",
       "      <td>...</td>\n",
       "      <td>...</td>\n",
       "      <td>...</td>\n",
       "      <td>...</td>\n",
       "      <td>...</td>\n",
       "      <td>...</td>\n",
       "      <td>...</td>\n",
       "      <td>...</td>\n",
       "      <td>...</td>\n",
       "      <td>...</td>\n",
       "      <td>...</td>\n",
       "      <td>...</td>\n",
       "    </tr>\n",
       "    <tr>\n",
       "      <th>0</th>\n",
       "      <td>None</td>\n",
       "      <td>0.572605</td>\n",
       "      <td>0.444621</td>\n",
       "      <td>[0.7224018475750578, 0.3563926113726911, 0.255...</td>\n",
       "      <td>0.442756</td>\n",
       "      <td>[0.7724728350345736, 0.31762427372498386, 0.23...</td>\n",
       "      <td>0.452971</td>\n",
       "      <td>[0.6784268363215732, 0.40594059405940597, 0.27...</td>\n",
       "      <td>None</td>\n",
       "      <td>0.663616</td>\n",
       "      <td>...</td>\n",
       "      <td>12</td>\n",
       "      <td>focal</td>\n",
       "      <td>2</td>\n",
       "      <td>True</td>\n",
       "      <td>5</td>\n",
       "      <td>Conv1d</td>\n",
       "      <td>None</td>\n",
       "      <td>concatenation</td>\n",
       "      <td>64</td>\n",
       "      <td>22</td>\n",
       "    </tr>\n",
       "    <tr>\n",
       "      <th>0</th>\n",
       "      <td>None</td>\n",
       "      <td>0.573755</td>\n",
       "      <td>0.443745</td>\n",
       "      <td>[0.7237921604375569, 0.34314100114635077, 0.26...</td>\n",
       "      <td>0.439798</td>\n",
       "      <td>[0.762483994878361, 0.3195729537366548, 0.2373...</td>\n",
       "      <td>0.452494</td>\n",
       "      <td>[0.6888374783111625, 0.3704620462046205, 0.298...</td>\n",
       "      <td>None</td>\n",
       "      <td>0.648523</td>\n",
       "      <td>...</td>\n",
       "      <td>123</td>\n",
       "      <td>focal</td>\n",
       "      <td>2</td>\n",
       "      <td>True</td>\n",
       "      <td>5</td>\n",
       "      <td>Conv1d</td>\n",
       "      <td>None</td>\n",
       "      <td>concatenation</td>\n",
       "      <td>64</td>\n",
       "      <td>22</td>\n",
       "    </tr>\n",
       "    <tr>\n",
       "      <th>0</th>\n",
       "      <td>None</td>\n",
       "      <td>0.619732</td>\n",
       "      <td>0.496147</td>\n",
       "      <td>[0.7490568884864948, 0.4351116155883466, 0.304...</td>\n",
       "      <td>0.490709</td>\n",
       "      <td>[0.7832123698327548, 0.4018169112508735, 0.287...</td>\n",
       "      <td>0.505272</td>\n",
       "      <td>[0.7177559282822441, 0.4744224422442244, 0.323...</td>\n",
       "      <td>None</td>\n",
       "      <td>0.668593</td>\n",
       "      <td>...</td>\n",
       "      <td>1</td>\n",
       "      <td>focal</td>\n",
       "      <td>2</td>\n",
       "      <td>True</td>\n",
       "      <td>5</td>\n",
       "      <td>Conv1d</td>\n",
       "      <td>None</td>\n",
       "      <td>concatenation</td>\n",
       "      <td>64</td>\n",
       "      <td>23</td>\n",
       "    </tr>\n",
       "    <tr>\n",
       "      <th>0</th>\n",
       "      <td>None</td>\n",
       "      <td>0.639655</td>\n",
       "      <td>0.486469</td>\n",
       "      <td>[0.7691015952980689, 0.39013035381750466, 0.30...</td>\n",
       "      <td>0.493786</td>\n",
       "      <td>[0.745119305856833, 0.44764957264957267, 0.288...</td>\n",
       "      <td>0.484372</td>\n",
       "      <td>[0.794679005205321, 0.3457095709570957, 0.3127...</td>\n",
       "      <td>None</td>\n",
       "      <td>0.667951</td>\n",
       "      <td>...</td>\n",
       "      <td>12</td>\n",
       "      <td>focal</td>\n",
       "      <td>2</td>\n",
       "      <td>True</td>\n",
       "      <td>5</td>\n",
       "      <td>Conv1d</td>\n",
       "      <td>None</td>\n",
       "      <td>concatenation</td>\n",
       "      <td>64</td>\n",
       "      <td>23</td>\n",
       "    </tr>\n",
       "    <tr>\n",
       "      <th>0</th>\n",
       "      <td>None</td>\n",
       "      <td>0.634100</td>\n",
       "      <td>0.510006</td>\n",
       "      <td>[0.7621027621027621, 0.4403292181069958, 0.327...</td>\n",
       "      <td>0.503465</td>\n",
       "      <td>[0.7832722832722833, 0.43924466338259444, 0.28...</td>\n",
       "      <td>0.521156</td>\n",
       "      <td>[0.7420474262579526, 0.4414191419141914, 0.38]</td>\n",
       "      <td>None</td>\n",
       "      <td>0.673892</td>\n",
       "      <td>...</td>\n",
       "      <td>123</td>\n",
       "      <td>focal</td>\n",
       "      <td>2</td>\n",
       "      <td>True</td>\n",
       "      <td>5</td>\n",
       "      <td>Conv1d</td>\n",
       "      <td>None</td>\n",
       "      <td>concatenation</td>\n",
       "      <td>64</td>\n",
       "      <td>23</td>\n",
       "    </tr>\n",
       "  </tbody>\n",
       "</table>\n",
       "<p>72 rows × 47 columns</p>\n",
       "</div>"
      ],
      "text/plain": [
       "    loss  accuracy        f1  \\\n",
       "0   None  0.642146  0.517118   \n",
       "0   None  0.625862  0.511835   \n",
       "0   None  0.632759  0.508760   \n",
       "0   None  0.594636  0.430982   \n",
       "0   None  0.591379  0.458480   \n",
       "..   ...       ...       ...   \n",
       "0   None  0.572605  0.444621   \n",
       "0   None  0.573755  0.443745   \n",
       "0   None  0.619732  0.496147   \n",
       "0   None  0.639655  0.486469   \n",
       "0   None  0.634100  0.510006   \n",
       "\n",
       "                                            f1_scores  precision  \\\n",
       "0   [0.768294493097818, 0.4563977180114099, 0.3266...   0.510665   \n",
       "0   [0.7565938206480783, 0.43412908930150307, 0.34...   0.508516   \n",
       "0   [0.76156897311591, 0.4218540080609046, 0.34285...   0.505876   \n",
       "0   [0.7464688257954061, 0.31009830205540667, 0.23...   0.431395   \n",
       "0   [0.7251655629139072, 0.3969410050983248, 0.253...   0.459134   \n",
       "..                                                ...        ...   \n",
       "0   [0.7224018475750578, 0.3563926113726911, 0.255...   0.442756   \n",
       "0   [0.7237921604375569, 0.34314100114635077, 0.26...   0.439798   \n",
       "0   [0.7490568884864948, 0.4351116155883466, 0.304...   0.490709   \n",
       "0   [0.7691015952980689, 0.39013035381750466, 0.30...   0.493786   \n",
       "0   [0.7621027621027621, 0.4403292181069958, 0.327...   0.503465   \n",
       "\n",
       "                                     precision_scores    recall  \\\n",
       "0   [0.7892650198231168, 0.45088566827697263, 0.29...  0.527122   \n",
       "0   [0.7900535096002518, 0.4676190476190476, 0.267...  0.538202   \n",
       "0   [0.7739623768289041, 0.46131243878550443, 0.28...  0.524848   \n",
       "0   [0.7366938890453394, 0.3382066276803119, 0.219...  0.433058   \n",
       "0     [0.756120527306968, 0.35528031290743156, 0.266]  0.462711   \n",
       "..                                                ...       ...   \n",
       "0   [0.7724728350345736, 0.31762427372498386, 0.23...  0.452971   \n",
       "0   [0.762483994878361, 0.3195729537366548, 0.2373...  0.452494   \n",
       "0   [0.7832123698327548, 0.4018169112508735, 0.287...  0.505272   \n",
       "0   [0.745119305856833, 0.44764957264957267, 0.288...  0.484372   \n",
       "0   [0.7832722832722833, 0.43924466338259444, 0.28...  0.521156   \n",
       "\n",
       "                                        recall_scores valid_loss  \\\n",
       "0   [0.7484094852515906, 0.46204620462046203, 0.37...       None   \n",
       "0   [0.7258530942741469, 0.4051155115511551, 0.483...       None   \n",
       "0   [0.7495662232504338, 0.3886138613861386, 0.436...       None   \n",
       "0   [0.7565066512434934, 0.2863036303630363, 0.256...       None   \n",
       "0   [0.6966454598033546, 0.44966996699669964, 0.24...       None   \n",
       "..                                                ...        ...   \n",
       "0   [0.6784268363215732, 0.40594059405940597, 0.27...       None   \n",
       "0   [0.6888374783111625, 0.3704620462046205, 0.298...       None   \n",
       "0   [0.7177559282822441, 0.4744224422442244, 0.323...       None   \n",
       "0   [0.794679005205321, 0.3457095709570957, 0.3127...       None   \n",
       "0      [0.7420474262579526, 0.4414191419141914, 0.38]       None   \n",
       "\n",
       "    valid_accuracy  ...  seed loss_function  gamma k_fold  n_splits  \\\n",
       "0         0.662492  ...     1         focal      2   True         5   \n",
       "0         0.659120  ...    12         focal      2   True         5   \n",
       "0         0.653500  ...   123         focal      2   True         5   \n",
       "0         0.662653  ...     1         focal      2   True         5   \n",
       "0         0.662813  ...    12         focal      2   True         5   \n",
       "..             ...  ...   ...           ...    ...    ...       ...   \n",
       "0         0.663616  ...    12         focal      2   True         5   \n",
       "0         0.648523  ...   123         focal      2   True         5   \n",
       "0         0.668593  ...     1         focal      2   True         5   \n",
       "0         0.667951  ...    12         focal      2   True         5   \n",
       "0         0.673892  ...   123         focal      2   True         5   \n",
       "\n",
       "   augmentation_type  hidden_dim_aug    comb_method  batch_size  model_id  \n",
       "0             Conv1d            None  concatenation          64         0  \n",
       "0             Conv1d            None  concatenation          64         0  \n",
       "0             Conv1d            None  concatenation          64         0  \n",
       "0             Conv1d            None  concatenation          64         1  \n",
       "0             Conv1d            None  concatenation          64         1  \n",
       "..               ...             ...            ...         ...       ...  \n",
       "0             Conv1d            None  concatenation          64        22  \n",
       "0             Conv1d            None  concatenation          64        22  \n",
       "0             Conv1d            None  concatenation          64        23  \n",
       "0             Conv1d            None  concatenation          64        23  \n",
       "0             Conv1d            None  concatenation          64        23  \n",
       "\n",
       "[72 rows x 47 columns]"
      ]
     },
     "execution_count": 64,
     "metadata": {},
     "output_type": "execute_result"
    }
   ],
   "source": [
    "seqsignet_attention_mha_umap_kfold_80"
   ]
  },
  {
   "cell_type": "code",
   "execution_count": 65,
   "id": "a8a9ed70-9a88-42e4-91c9-853726c4efd9",
   "metadata": {},
   "outputs": [
    {
     "data": {
      "text/plain": [
       "0.4993284496130104"
      ]
     },
     "execution_count": 65,
     "metadata": {},
     "output_type": "execute_result"
    }
   ],
   "source": [
    "best_seqsignet_attention_mha_umap_kfold_80[\"f1\"].mean()"
   ]
  },
  {
   "cell_type": "code",
   "execution_count": 66,
   "id": "0b7f5215-02dd-43d5-9e78-bda734e41f0f",
   "metadata": {},
   "outputs": [
    {
     "data": {
      "text/plain": [
       "0.4933308735861121"
      ]
     },
     "execution_count": 66,
     "metadata": {},
     "output_type": "execute_result"
    }
   ],
   "source": [
    "best_seqsignet_attention_mha_umap_kfold_80[\"precision\"].mean()"
   ]
  },
  {
   "cell_type": "code",
   "execution_count": 67,
   "id": "82d94892-b52c-48c6-adec-7dab7caa719e",
   "metadata": {},
   "outputs": [
    {
     "data": {
      "text/plain": [
       "0.5126887375454338"
      ]
     },
     "execution_count": 67,
     "metadata": {},
     "output_type": "execute_result"
    }
   ],
   "source": [
    "best_seqsignet_attention_mha_umap_kfold_80[\"recall\"].mean()"
   ]
  },
  {
   "cell_type": "code",
   "execution_count": 68,
   "id": "c349d5ee-1c4e-4c06-b4b5-7a69946cc1b2",
   "metadata": {},
   "outputs": [
    {
     "data": {
      "text/plain": [
       "array([0.75471268, 0.41193288, 0.33133979])"
      ]
     },
     "execution_count": 68,
     "metadata": {},
     "output_type": "execute_result"
    }
   ],
   "source": [
    "np.stack(best_seqsignet_attention_mha_umap_kfold_80[\"f1_scores\"]).mean(axis=0)"
   ]
  },
  {
   "cell_type": "code",
   "execution_count": 69,
   "id": "4a100c37-0475-4df1-ba04-b345c71e0e28",
   "metadata": {},
   "outputs": [
    {
     "data": {
      "text/plain": [
       "array([0.77653191, 0.41468024, 0.28878048])"
      ]
     },
     "execution_count": 69,
     "metadata": {},
     "output_type": "execute_result"
    }
   ],
   "source": [
    "np.stack(best_seqsignet_attention_mha_umap_kfold_80[\"precision_scores\"]).mean(axis=0)"
   ]
  },
  {
   "cell_type": "code",
   "execution_count": 70,
   "id": "ddf6374f-6d5b-4cb8-8300-cf3f8b579815",
   "metadata": {},
   "outputs": [
    {
     "data": {
      "text/plain": [
       "array([0.73433584, 0.40979098, 0.39393939])"
      ]
     },
     "execution_count": 70,
     "metadata": {},
     "output_type": "execute_result"
    }
   ],
   "source": [
    "np.stack(best_seqsignet_attention_mha_umap_kfold_80[\"recall_scores\"]).mean(axis=0)"
   ]
  },
  {
   "cell_type": "markdown",
   "id": "df973f5c-c93f-470e-9d22-4c75b5a4ded8",
   "metadata": {},
   "source": [
    "## GRP"
   ]
  },
  {
   "cell_type": "code",
   "execution_count": 12,
   "id": "00450c54-13e9-4015-9c7d-c469c492fedd",
   "metadata": {},
   "outputs": [
    {
     "data": {
      "application/vnd.jupyter.widget-view+json": {
       "model_id": "c19c5c85896b41839e73b85f2b03d28f",
       "version_major": 2,
       "version_minor": 0
      },
      "text/plain": [
       "  0%|          | 0/1 [00:00<?, ?it/s]"
      ]
     },
     "metadata": {},
     "output_type": "display_data"
    },
    {
     "data": {
      "application/vnd.jupyter.widget-view+json": {
       "model_id": "1294dfff9158468b9761ab42f0e59016",
       "version_major": 2,
       "version_minor": 0
      },
      "text/plain": [
       "  0%|          | 0/1 [00:00<?, ?it/s]"
      ]
     },
     "metadata": {},
     "output_type": "display_data"
    },
    {
     "name": "stdout",
     "output_type": "stream",
     "text": [
      "\n",
      "##################################################\n",
      "dimension: 15 | method: gaussian_random_projection\n",
      "given shift 3, window size 5 and n 26: history length = 80\n",
      "[INFO] Concatenating the embeddings to the dataframe...\n",
      "[INFO] - columns beginning with 'e' denote the full embddings.\n",
      "[INFO] - columns beginning with 'd' denote the dimension reduced embeddings.\n",
      "[INFO] Adding time feature columns into dataframe in `.df`.\n",
      "[INFO] Adding 'time_encoding' feature...\n",
      "[INFO] Adding 'time_diff' feature...\n",
      "[INFO] Adding 'timeline_index' feature...\n",
      "[INFO] Padding ids and storing in `.df_padded` and `.array_padded` attributes.\n"
     ]
    },
    {
     "data": {
      "application/vnd.jupyter.widget-view+json": {
       "model_id": "de46222b01e54eca805715b090375631",
       "version_major": 2,
       "version_minor": 0
      },
      "text/plain": [
       "  0%|          | 0/9699 [00:00<?, ?it/s]"
      ]
     },
     "metadata": {},
     "output_type": "display_data"
    },
    {
     "name": "stdout",
     "output_type": "stream",
     "text": [
      "[INFO] The path was created for each item in the dataframe, by looking at its history, so to include embeddings in the FFN input, we concatenate the embeddings for each sentence / text.\n"
     ]
    },
    {
     "data": {
      "application/vnd.jupyter.widget-view+json": {
       "model_id": "7c33cc93947b45f7ac7befc72b0c85e7",
       "version_major": 2,
       "version_minor": 0
      },
      "text/plain": [
       "  0%|          | 0/2 [00:00<?, ?it/s]"
      ]
     },
     "metadata": {},
     "output_type": "display_data"
    },
    {
     "data": {
      "application/vnd.jupyter.widget-view+json": {
       "model_id": "f4c3dfa4ec88448d81e2c6e5821991ef",
       "version_major": 2,
       "version_minor": 0
      },
      "text/plain": [
       "  0%|          | 0/1 [00:00<?, ?it/s]"
      ]
     },
     "metadata": {},
     "output_type": "display_data"
    },
    {
     "data": {
      "application/vnd.jupyter.widget-view+json": {
       "model_id": "3698561a99d142b8997b62701b2df44e",
       "version_major": 2,
       "version_minor": 0
      },
      "text/plain": [
       "  0%|          | 0/2 [00:00<?, ?it/s]"
      ]
     },
     "metadata": {},
     "output_type": "display_data"
    },
    {
     "data": {
      "application/vnd.jupyter.widget-view+json": {
       "model_id": "21fff2f1b1114ca1bbd2e1d15daa3d4b",
       "version_major": 2,
       "version_minor": 0
      },
      "text/plain": [
       "  0%|          | 0/2 [00:00<?, ?it/s]"
      ]
     },
     "metadata": {},
     "output_type": "display_data"
    },
    {
     "data": {
      "application/vnd.jupyter.widget-view+json": {
       "model_id": "188f91e9620d400c8b170f46326e3705",
       "version_major": 2,
       "version_minor": 0
      },
      "text/plain": [
       "  0%|          | 0/3 [00:00<?, ?it/s]"
      ]
     },
     "metadata": {},
     "output_type": "display_data"
    },
    {
     "data": {
      "application/vnd.jupyter.widget-view+json": {
       "model_id": "79fbfef97e604b12ac8879978f155e8c",
       "version_major": 2,
       "version_minor": 0
      },
      "text/plain": [
       "  0%|          | 0/3 [00:00<?, ?it/s]"
      ]
     },
     "metadata": {},
     "output_type": "display_data"
    },
    {
     "data": {
      "application/vnd.jupyter.widget-view+json": {
       "model_id": "d347b3376de442b5804c8eb54dfae106",
       "version_major": 2,
       "version_minor": 0
      },
      "text/plain": [
       "  0%|          | 0/2 [00:00<?, ?it/s]"
      ]
     },
     "metadata": {},
     "output_type": "display_data"
    },
    {
     "data": {
      "application/vnd.jupyter.widget-view+json": {
       "model_id": "ecee2416b8424592bf37a3111ec10bad",
       "version_major": 2,
       "version_minor": 0
      },
      "text/plain": [
       "  0%|          | 0/3 [00:00<?, ?it/s]"
      ]
     },
     "metadata": {},
     "output_type": "display_data"
    },
    {
     "data": {
      "application/vnd.jupyter.widget-view+json": {
       "model_id": "c12943c31ca7461ab79a669448c27b7c",
       "version_major": 2,
       "version_minor": 0
      },
      "text/plain": [
       "  0%|          | 0/3 [00:00<?, ?it/s]"
      ]
     },
     "metadata": {},
     "output_type": "display_data"
    },
    {
     "data": {
      "application/vnd.jupyter.widget-view+json": {
       "model_id": "b6066f6a2ed84810952489a97476d967",
       "version_major": 2,
       "version_minor": 0
      },
      "text/plain": [
       "  0%|          | 0/1 [00:00<?, ?it/s]"
      ]
     },
     "metadata": {},
     "output_type": "display_data"
    },
    {
     "data": {
      "application/vnd.jupyter.widget-view+json": {
       "model_id": "09cb77085e2244eca9664bfa38551f49",
       "version_major": 2,
       "version_minor": 0
      },
      "text/plain": [
       "  0%|          | 0/2 [00:00<?, ?it/s]"
      ]
     },
     "metadata": {},
     "output_type": "display_data"
    },
    {
     "data": {
      "application/vnd.jupyter.widget-view+json": {
       "model_id": "01cfe7ef0e484668a997aee55908dee8",
       "version_major": 2,
       "version_minor": 0
      },
      "text/plain": [
       "  0%|          | 0/2 [00:00<?, ?it/s]"
      ]
     },
     "metadata": {},
     "output_type": "display_data"
    },
    {
     "data": {
      "application/vnd.jupyter.widget-view+json": {
       "model_id": "fa3e235906394f1e97d5b25dc3abd8b6",
       "version_major": 2,
       "version_minor": 0
      },
      "text/plain": [
       "  0%|          | 0/3 [00:00<?, ?it/s]"
      ]
     },
     "metadata": {},
     "output_type": "display_data"
    },
    {
     "data": {
      "application/vnd.jupyter.widget-view+json": {
       "model_id": "2a9578c7a7cf488db62a1882f7057f12",
       "version_major": 2,
       "version_minor": 0
      },
      "text/plain": [
       "  0%|          | 0/3 [00:00<?, ?it/s]"
      ]
     },
     "metadata": {},
     "output_type": "display_data"
    },
    {
     "data": {
      "application/vnd.jupyter.widget-view+json": {
       "model_id": "bd32f58892ee47029b3ab3a177b6ec38",
       "version_major": 2,
       "version_minor": 0
      },
      "text/plain": [
       "  0%|          | 0/2 [00:00<?, ?it/s]"
      ]
     },
     "metadata": {},
     "output_type": "display_data"
    },
    {
     "data": {
      "application/vnd.jupyter.widget-view+json": {
       "model_id": "ebeebdd820a64a5d924919e543001cee",
       "version_major": 2,
       "version_minor": 0
      },
      "text/plain": [
       "  0%|          | 0/3 [00:00<?, ?it/s]"
      ]
     },
     "metadata": {},
     "output_type": "display_data"
    },
    {
     "data": {
      "application/vnd.jupyter.widget-view+json": {
       "model_id": "7ad2a5b8a8454f25a93b312f3f92b6ea",
       "version_major": 2,
       "version_minor": 0
      },
      "text/plain": [
       "  0%|          | 0/3 [00:00<?, ?it/s]"
      ]
     },
     "metadata": {},
     "output_type": "display_data"
    },
    {
     "name": "stdout",
     "output_type": "stream",
     "text": [
      "given shift 3, window size 5 and n 26: history length = 80\n",
      "[INFO] Concatenating the embeddings to the dataframe...\n",
      "[INFO] - columns beginning with 'e' denote the full embddings.\n",
      "[INFO] - columns beginning with 'd' denote the dimension reduced embeddings.\n",
      "[INFO] Adding time feature columns into dataframe in `.df`.\n",
      "[INFO] Adding 'time_encoding' feature...\n",
      "[INFO] Adding 'time_diff' feature...\n",
      "[INFO] Adding 'timeline_index' feature...\n",
      "[INFO] Padding ids and storing in `.df_padded` and `.array_padded` attributes.\n"
     ]
    },
    {
     "data": {
      "application/vnd.jupyter.widget-view+json": {
       "model_id": "1f3e0565703d4461a035ce450510c064",
       "version_major": 2,
       "version_minor": 0
      },
      "text/plain": [
       "  0%|          | 0/9699 [00:00<?, ?it/s]"
      ]
     },
     "metadata": {},
     "output_type": "display_data"
    },
    {
     "name": "stdout",
     "output_type": "stream",
     "text": [
      "[INFO] The path was created for each item in the dataframe, by looking at its history, so to include embeddings in the FFN input, we concatenate the embeddings for each sentence / text.\n",
      "saving results dataframe to CSV for this hyperparameter search in client_talk_type_output/seqsignet_attention_mha_grp_focal_2_3_5_26_kfold.csv\n",
      "saving the best model results dataframe to CSV for this hyperparameter search in client_talk_type_output/seqsignet_attention_mha_grp_focal_2_3_5_26_kfold_best_model.csv\n"
     ]
    }
   ],
   "source": [
    "(\n",
    "    seqsignet_attention_mha_grp_kfold_80,\n",
    "    best_seqsignet_attention_mha_grp_kfold_80,\n",
    "    _,\n",
    "    __,\n",
    ") = seqsignet_full_attention_hyperparameter_search(\n",
    "    shift=shift,\n",
    "    window_size=window_size,\n",
    "    n=n,\n",
    "    dim_reduce_methods=[\"gaussian_random_projection\"],\n",
    "    results_output=f\"{output_dir}/seqsignet_attention_mha_grp_focal_{gamma}_{shift}_{window_size}_{n}_kfold.csv\",\n",
    "    **kwargs,\n",
    ")"
   ]
  },
  {
   "cell_type": "code",
   "execution_count": 13,
   "id": "7f54bbc1-0d41-4b0d-8a35-275e690a7516",
   "metadata": {},
   "outputs": [
    {
     "data": {
      "text/html": [
       "<div>\n",
       "<style scoped>\n",
       "    .dataframe tbody tr th:only-of-type {\n",
       "        vertical-align: middle;\n",
       "    }\n",
       "\n",
       "    .dataframe tbody tr th {\n",
       "        vertical-align: top;\n",
       "    }\n",
       "\n",
       "    .dataframe thead th {\n",
       "        text-align: right;\n",
       "    }\n",
       "</style>\n",
       "<table border=\"1\" class=\"dataframe\">\n",
       "  <thead>\n",
       "    <tr style=\"text-align: right;\">\n",
       "      <th></th>\n",
       "      <th>loss</th>\n",
       "      <th>accuracy</th>\n",
       "      <th>f1</th>\n",
       "      <th>f1_scores</th>\n",
       "      <th>precision</th>\n",
       "      <th>precision_scores</th>\n",
       "      <th>recall</th>\n",
       "      <th>recall_scores</th>\n",
       "      <th>valid_loss</th>\n",
       "      <th>valid_accuracy</th>\n",
       "      <th>...</th>\n",
       "      <th>seed</th>\n",
       "      <th>loss_function</th>\n",
       "      <th>gamma</th>\n",
       "      <th>k_fold</th>\n",
       "      <th>n_splits</th>\n",
       "      <th>augmentation_type</th>\n",
       "      <th>hidden_dim_aug</th>\n",
       "      <th>comb_method</th>\n",
       "      <th>batch_size</th>\n",
       "      <th>model_id</th>\n",
       "    </tr>\n",
       "  </thead>\n",
       "  <tbody>\n",
       "    <tr>\n",
       "      <th>0</th>\n",
       "      <td>None</td>\n",
       "      <td>0.630268</td>\n",
       "      <td>0.508910</td>\n",
       "      <td>[0.7621597501115572, 0.4240561896400351, 0.340...</td>\n",
       "      <td>0.504457</td>\n",
       "      <td>[0.7846860643185298, 0.4530956848030019, 0.275...</td>\n",
       "      <td>0.528287</td>\n",
       "      <td>[0.7408906882591093, 0.39851485148514854, 0.44...</td>\n",
       "      <td>None</td>\n",
       "      <td>0.677264</td>\n",
       "      <td>...</td>\n",
       "      <td>1</td>\n",
       "      <td>focal</td>\n",
       "      <td>2</td>\n",
       "      <td>True</td>\n",
       "      <td>5</td>\n",
       "      <td>Conv1d</td>\n",
       "      <td>None</td>\n",
       "      <td>concatenation</td>\n",
       "      <td>64</td>\n",
       "      <td>0</td>\n",
       "    </tr>\n",
       "    <tr>\n",
       "      <th>0</th>\n",
       "      <td>None</td>\n",
       "      <td>0.613985</td>\n",
       "      <td>0.505207</td>\n",
       "      <td>[0.7441646191646192, 0.4340080971659919, 0.337...</td>\n",
       "      <td>0.496795</td>\n",
       "      <td>[0.7933857236411264, 0.4260731319554849, 0.270...</td>\n",
       "      <td>0.530070</td>\n",
       "      <td>[0.7006940427993059, 0.44224422442244227, 0.44...</td>\n",
       "      <td>None</td>\n",
       "      <td>0.648523</td>\n",
       "      <td>...</td>\n",
       "      <td>12</td>\n",
       "      <td>focal</td>\n",
       "      <td>2</td>\n",
       "      <td>True</td>\n",
       "      <td>5</td>\n",
       "      <td>Conv1d</td>\n",
       "      <td>None</td>\n",
       "      <td>concatenation</td>\n",
       "      <td>64</td>\n",
       "      <td>0</td>\n",
       "    </tr>\n",
       "    <tr>\n",
       "      <th>0</th>\n",
       "      <td>None</td>\n",
       "      <td>0.636590</td>\n",
       "      <td>0.516778</td>\n",
       "      <td>[0.7631151174818974, 0.4347826086956521, 0.352...</td>\n",
       "      <td>0.511955</td>\n",
       "      <td>[0.7802961619824721, 0.4647887323943662, 0.290...</td>\n",
       "      <td>0.534121</td>\n",
       "      <td>[0.7466743782533256, 0.4084158415841584, 0.447...</td>\n",
       "      <td>None</td>\n",
       "      <td>0.662492</td>\n",
       "      <td>...</td>\n",
       "      <td>123</td>\n",
       "      <td>focal</td>\n",
       "      <td>2</td>\n",
       "      <td>True</td>\n",
       "      <td>5</td>\n",
       "      <td>Conv1d</td>\n",
       "      <td>None</td>\n",
       "      <td>concatenation</td>\n",
       "      <td>64</td>\n",
       "      <td>0</td>\n",
       "    </tr>\n",
       "    <tr>\n",
       "      <th>0</th>\n",
       "      <td>None</td>\n",
       "      <td>0.600000</td>\n",
       "      <td>0.472438</td>\n",
       "      <td>[0.7364945978391355, 0.39464356045687277, 0.28...</td>\n",
       "      <td>0.466875</td>\n",
       "      <td>[0.7654398003742982, 0.3775433308214017, 0.257...</td>\n",
       "      <td>0.481614</td>\n",
       "      <td>[0.7096587622903412, 0.41336633663366334, 0.32...</td>\n",
       "      <td>None</td>\n",
       "      <td>0.692678</td>\n",
       "      <td>...</td>\n",
       "      <td>1</td>\n",
       "      <td>focal</td>\n",
       "      <td>2</td>\n",
       "      <td>True</td>\n",
       "      <td>5</td>\n",
       "      <td>Conv1d</td>\n",
       "      <td>None</td>\n",
       "      <td>concatenation</td>\n",
       "      <td>64</td>\n",
       "      <td>1</td>\n",
       "    </tr>\n",
       "    <tr>\n",
       "      <th>0</th>\n",
       "      <td>None</td>\n",
       "      <td>0.609004</td>\n",
       "      <td>0.469126</td>\n",
       "      <td>[0.7442485808186435, 0.40785169029443835, 0.25...</td>\n",
       "      <td>0.473231</td>\n",
       "      <td>[0.7697775030902348, 0.3645224171539961, 0.285...</td>\n",
       "      <td>0.471380</td>\n",
       "      <td>[0.7203585887796414, 0.4628712871287129, 0.230...</td>\n",
       "      <td>None</td>\n",
       "      <td>0.683365</td>\n",
       "      <td>...</td>\n",
       "      <td>12</td>\n",
       "      <td>focal</td>\n",
       "      <td>2</td>\n",
       "      <td>True</td>\n",
       "      <td>5</td>\n",
       "      <td>Conv1d</td>\n",
       "      <td>None</td>\n",
       "      <td>concatenation</td>\n",
       "      <td>64</td>\n",
       "      <td>1</td>\n",
       "    </tr>\n",
       "    <tr>\n",
       "      <th>...</th>\n",
       "      <td>...</td>\n",
       "      <td>...</td>\n",
       "      <td>...</td>\n",
       "      <td>...</td>\n",
       "      <td>...</td>\n",
       "      <td>...</td>\n",
       "      <td>...</td>\n",
       "      <td>...</td>\n",
       "      <td>...</td>\n",
       "      <td>...</td>\n",
       "      <td>...</td>\n",
       "      <td>...</td>\n",
       "      <td>...</td>\n",
       "      <td>...</td>\n",
       "      <td>...</td>\n",
       "      <td>...</td>\n",
       "      <td>...</td>\n",
       "      <td>...</td>\n",
       "      <td>...</td>\n",
       "      <td>...</td>\n",
       "      <td>...</td>\n",
       "    </tr>\n",
       "    <tr>\n",
       "      <th>0</th>\n",
       "      <td>None</td>\n",
       "      <td>0.617433</td>\n",
       "      <td>0.486651</td>\n",
       "      <td>[0.7539964476021314, 0.3944805194805195, 0.311...</td>\n",
       "      <td>0.481349</td>\n",
       "      <td>[0.7722862340812614, 0.38817891373801916, 0.28...</td>\n",
       "      <td>0.494333</td>\n",
       "      <td>[0.736552920763447, 0.400990099009901, 0.34545...</td>\n",
       "      <td>None</td>\n",
       "      <td>0.692518</td>\n",
       "      <td>...</td>\n",
       "      <td>12</td>\n",
       "      <td>focal</td>\n",
       "      <td>2</td>\n",
       "      <td>True</td>\n",
       "      <td>5</td>\n",
       "      <td>Conv1d</td>\n",
       "      <td>None</td>\n",
       "      <td>concatenation</td>\n",
       "      <td>64</td>\n",
       "      <td>22</td>\n",
       "    </tr>\n",
       "    <tr>\n",
       "      <th>0</th>\n",
       "      <td>None</td>\n",
       "      <td>0.601724</td>\n",
       "      <td>0.476767</td>\n",
       "      <td>[0.7348711803475134, 0.39386973180076634, 0.30...</td>\n",
       "      <td>0.472674</td>\n",
       "      <td>[0.7622747047855811, 0.3676680972818312, 0.288...</td>\n",
       "      <td>0.483275</td>\n",
       "      <td>[0.7093695777906304, 0.4240924092409241, 0.316...</td>\n",
       "      <td>None</td>\n",
       "      <td>0.686416</td>\n",
       "      <td>...</td>\n",
       "      <td>123</td>\n",
       "      <td>focal</td>\n",
       "      <td>2</td>\n",
       "      <td>True</td>\n",
       "      <td>5</td>\n",
       "      <td>Conv1d</td>\n",
       "      <td>None</td>\n",
       "      <td>concatenation</td>\n",
       "      <td>64</td>\n",
       "      <td>22</td>\n",
       "    </tr>\n",
       "    <tr>\n",
       "      <th>0</th>\n",
       "      <td>None</td>\n",
       "      <td>0.629885</td>\n",
       "      <td>0.500164</td>\n",
       "      <td>[0.7668621700879764, 0.3877005347593583, 0.345...</td>\n",
       "      <td>0.495819</td>\n",
       "      <td>[0.7778108268887567, 0.42151162790697677, 0.28...</td>\n",
       "      <td>0.515952</td>\n",
       "      <td>[0.7562174667437825, 0.3589108910891089, 0.432...</td>\n",
       "      <td>None</td>\n",
       "      <td>0.666346</td>\n",
       "      <td>...</td>\n",
       "      <td>1</td>\n",
       "      <td>focal</td>\n",
       "      <td>2</td>\n",
       "      <td>True</td>\n",
       "      <td>5</td>\n",
       "      <td>Conv1d</td>\n",
       "      <td>None</td>\n",
       "      <td>concatenation</td>\n",
       "      <td>64</td>\n",
       "      <td>23</td>\n",
       "    </tr>\n",
       "    <tr>\n",
       "      <th>0</th>\n",
       "      <td>None</td>\n",
       "      <td>0.600958</td>\n",
       "      <td>0.487241</td>\n",
       "      <td>[0.728066074489637, 0.43860255966793493, 0.295...</td>\n",
       "      <td>0.484668</td>\n",
       "      <td>[0.7894558972625887, 0.3776057176891007, 0.286...</td>\n",
       "      <td>0.500758</td>\n",
       "      <td>[0.675534991324465, 0.523102310231023, 0.30363...</td>\n",
       "      <td>None</td>\n",
       "      <td>0.632145</td>\n",
       "      <td>...</td>\n",
       "      <td>12</td>\n",
       "      <td>focal</td>\n",
       "      <td>2</td>\n",
       "      <td>True</td>\n",
       "      <td>5</td>\n",
       "      <td>Conv1d</td>\n",
       "      <td>None</td>\n",
       "      <td>concatenation</td>\n",
       "      <td>64</td>\n",
       "      <td>23</td>\n",
       "    </tr>\n",
       "    <tr>\n",
       "      <th>0</th>\n",
       "      <td>None</td>\n",
       "      <td>0.645594</td>\n",
       "      <td>0.510738</td>\n",
       "      <td>[0.7745931153679966, 0.41600000000000004, 0.34...</td>\n",
       "      <td>0.509352</td>\n",
       "      <td>[0.7715925394548063, 0.4508670520231214, 0.305...</td>\n",
       "      <td>0.517009</td>\n",
       "      <td>[0.7776171197223829, 0.38613861386138615, 0.38...</td>\n",
       "      <td>None</td>\n",
       "      <td>0.674855</td>\n",
       "      <td>...</td>\n",
       "      <td>123</td>\n",
       "      <td>focal</td>\n",
       "      <td>2</td>\n",
       "      <td>True</td>\n",
       "      <td>5</td>\n",
       "      <td>Conv1d</td>\n",
       "      <td>None</td>\n",
       "      <td>concatenation</td>\n",
       "      <td>64</td>\n",
       "      <td>23</td>\n",
       "    </tr>\n",
       "  </tbody>\n",
       "</table>\n",
       "<p>72 rows × 47 columns</p>\n",
       "</div>"
      ],
      "text/plain": [
       "    loss  accuracy        f1  \\\n",
       "0   None  0.630268  0.508910   \n",
       "0   None  0.613985  0.505207   \n",
       "0   None  0.636590  0.516778   \n",
       "0   None  0.600000  0.472438   \n",
       "0   None  0.609004  0.469126   \n",
       "..   ...       ...       ...   \n",
       "0   None  0.617433  0.486651   \n",
       "0   None  0.601724  0.476767   \n",
       "0   None  0.629885  0.500164   \n",
       "0   None  0.600958  0.487241   \n",
       "0   None  0.645594  0.510738   \n",
       "\n",
       "                                            f1_scores  precision  \\\n",
       "0   [0.7621597501115572, 0.4240561896400351, 0.340...   0.504457   \n",
       "0   [0.7441646191646192, 0.4340080971659919, 0.337...   0.496795   \n",
       "0   [0.7631151174818974, 0.4347826086956521, 0.352...   0.511955   \n",
       "0   [0.7364945978391355, 0.39464356045687277, 0.28...   0.466875   \n",
       "0   [0.7442485808186435, 0.40785169029443835, 0.25...   0.473231   \n",
       "..                                                ...        ...   \n",
       "0   [0.7539964476021314, 0.3944805194805195, 0.311...   0.481349   \n",
       "0   [0.7348711803475134, 0.39386973180076634, 0.30...   0.472674   \n",
       "0   [0.7668621700879764, 0.3877005347593583, 0.345...   0.495819   \n",
       "0   [0.728066074489637, 0.43860255966793493, 0.295...   0.484668   \n",
       "0   [0.7745931153679966, 0.41600000000000004, 0.34...   0.509352   \n",
       "\n",
       "                                     precision_scores    recall  \\\n",
       "0   [0.7846860643185298, 0.4530956848030019, 0.275...  0.528287   \n",
       "0   [0.7933857236411264, 0.4260731319554849, 0.270...  0.530070   \n",
       "0   [0.7802961619824721, 0.4647887323943662, 0.290...  0.534121   \n",
       "0   [0.7654398003742982, 0.3775433308214017, 0.257...  0.481614   \n",
       "0   [0.7697775030902348, 0.3645224171539961, 0.285...  0.471380   \n",
       "..                                                ...       ...   \n",
       "0   [0.7722862340812614, 0.38817891373801916, 0.28...  0.494333   \n",
       "0   [0.7622747047855811, 0.3676680972818312, 0.288...  0.483275   \n",
       "0   [0.7778108268887567, 0.42151162790697677, 0.28...  0.515952   \n",
       "0   [0.7894558972625887, 0.3776057176891007, 0.286...  0.500758   \n",
       "0   [0.7715925394548063, 0.4508670520231214, 0.305...  0.517009   \n",
       "\n",
       "                                        recall_scores valid_loss  \\\n",
       "0   [0.7408906882591093, 0.39851485148514854, 0.44...       None   \n",
       "0   [0.7006940427993059, 0.44224422442244227, 0.44...       None   \n",
       "0   [0.7466743782533256, 0.4084158415841584, 0.447...       None   \n",
       "0   [0.7096587622903412, 0.41336633663366334, 0.32...       None   \n",
       "0   [0.7203585887796414, 0.4628712871287129, 0.230...       None   \n",
       "..                                                ...        ...   \n",
       "0   [0.736552920763447, 0.400990099009901, 0.34545...       None   \n",
       "0   [0.7093695777906304, 0.4240924092409241, 0.316...       None   \n",
       "0   [0.7562174667437825, 0.3589108910891089, 0.432...       None   \n",
       "0   [0.675534991324465, 0.523102310231023, 0.30363...       None   \n",
       "0   [0.7776171197223829, 0.38613861386138615, 0.38...       None   \n",
       "\n",
       "    valid_accuracy  ...  seed loss_function  gamma k_fold  n_splits  \\\n",
       "0         0.677264  ...     1         focal      2   True         5   \n",
       "0         0.648523  ...    12         focal      2   True         5   \n",
       "0         0.662492  ...   123         focal      2   True         5   \n",
       "0         0.692678  ...     1         focal      2   True         5   \n",
       "0         0.683365  ...    12         focal      2   True         5   \n",
       "..             ...  ...   ...           ...    ...    ...       ...   \n",
       "0         0.692518  ...    12         focal      2   True         5   \n",
       "0         0.686416  ...   123         focal      2   True         5   \n",
       "0         0.666346  ...     1         focal      2   True         5   \n",
       "0         0.632145  ...    12         focal      2   True         5   \n",
       "0         0.674855  ...   123         focal      2   True         5   \n",
       "\n",
       "   augmentation_type  hidden_dim_aug    comb_method  batch_size  model_id  \n",
       "0             Conv1d            None  concatenation          64         0  \n",
       "0             Conv1d            None  concatenation          64         0  \n",
       "0             Conv1d            None  concatenation          64         0  \n",
       "0             Conv1d            None  concatenation          64         1  \n",
       "0             Conv1d            None  concatenation          64         1  \n",
       "..               ...             ...            ...         ...       ...  \n",
       "0             Conv1d            None  concatenation          64        22  \n",
       "0             Conv1d            None  concatenation          64        22  \n",
       "0             Conv1d            None  concatenation          64        23  \n",
       "0             Conv1d            None  concatenation          64        23  \n",
       "0             Conv1d            None  concatenation          64        23  \n",
       "\n",
       "[72 rows x 47 columns]"
      ]
     },
     "execution_count": 13,
     "metadata": {},
     "output_type": "execute_result"
    }
   ],
   "source": [
    "seqsignet_attention_mha_grp_kfold_80"
   ]
  },
  {
   "cell_type": "code",
   "execution_count": 14,
   "id": "5d0aa088-9edc-4719-8704-5d11f0a26bea",
   "metadata": {},
   "outputs": [
    {
     "data": {
      "text/plain": [
       "0.49920963635111076"
      ]
     },
     "execution_count": 14,
     "metadata": {},
     "output_type": "execute_result"
    }
   ],
   "source": [
    "best_seqsignet_attention_mha_grp_kfold_80[\"f1\"].mean()"
   ]
  },
  {
   "cell_type": "code",
   "execution_count": 15,
   "id": "2bcd67a5-262b-4ad8-9920-dc409fef734f",
   "metadata": {},
   "outputs": [
    {
     "data": {
      "text/plain": [
       "0.49420823827128735"
      ]
     },
     "execution_count": 15,
     "metadata": {},
     "output_type": "execute_result"
    }
   ],
   "source": [
    "best_seqsignet_attention_mha_grp_kfold_80[\"precision\"].mean()"
   ]
  },
  {
   "cell_type": "code",
   "execution_count": 16,
   "id": "06861332-e421-4c40-8611-31ee38de3047",
   "metadata": {},
   "outputs": [
    {
     "data": {
      "text/plain": [
       "0.5070538850684759"
      ]
     },
     "execution_count": 16,
     "metadata": {},
     "output_type": "execute_result"
    }
   ],
   "source": [
    "best_seqsignet_attention_mha_grp_kfold_80[\"recall\"].mean()"
   ]
  },
  {
   "cell_type": "code",
   "execution_count": 17,
   "id": "7e0732ea-ae1a-4539-a74f-3cac1a6c4aef",
   "metadata": {},
   "outputs": [
    {
     "data": {
      "text/plain": [
       "array([0.75277997, 0.41648313, 0.32836581])"
      ]
     },
     "execution_count": 17,
     "metadata": {},
     "output_type": "execute_result"
    }
   ],
   "source": [
    "np.stack(best_seqsignet_attention_mha_grp_kfold_80[\"f1_scores\"]).mean(axis=0)"
   ]
  },
  {
   "cell_type": "code",
   "execution_count": 18,
   "id": "2484addf-1561-445e-a31c-c5f6238f0032",
   "metadata": {},
   "outputs": [
    {
     "data": {
      "text/plain": [
       "array([0.77609221, 0.39747913, 0.30905338])"
      ]
     },
     "execution_count": 18,
     "metadata": {},
     "output_type": "execute_result"
    }
   ],
   "source": [
    "np.stack(best_seqsignet_attention_mha_grp_kfold_80[\"precision_scores\"]).mean(axis=0)"
   ]
  },
  {
   "cell_type": "code",
   "execution_count": 19,
   "id": "d6ba0e98-7a0b-46ef-a127-4d2ed37bd036",
   "metadata": {},
   "outputs": [
    {
     "data": {
      "text/plain": [
       "array([0.73086563, 0.43756876, 0.35272727])"
      ]
     },
     "execution_count": 19,
     "metadata": {},
     "output_type": "execute_result"
    }
   ],
   "source": [
    "np.stack(best_seqsignet_attention_mha_grp_kfold_80[\"recall_scores\"]).mean(axis=0)"
   ]
  },
  {
   "cell_type": "markdown",
   "id": "04e84860-a48b-4090-b415-38d874d2b344",
   "metadata": {},
   "source": [
    "# history_length=110"
   ]
  },
  {
   "cell_type": "code",
   "execution_count": 20,
   "id": "c7d526aa-f264-45ec-b4e9-428d67fc845f",
   "metadata": {},
   "outputs": [],
   "source": [
    "shift = 3\n",
    "window_size = 5\n",
    "n = 36"
   ]
  },
  {
   "cell_type": "code",
   "execution_count": 21,
   "id": "26967648-c4d0-4f2c-bfba-9c966a40b809",
   "metadata": {},
   "outputs": [
    {
     "data": {
      "application/vnd.jupyter.widget-view+json": {
       "model_id": "5e4f762af7ed43e6b59f144737716ca6",
       "version_major": 2,
       "version_minor": 0
      },
      "text/plain": [
       "  0%|          | 0/1 [00:00<?, ?it/s]"
      ]
     },
     "metadata": {},
     "output_type": "display_data"
    },
    {
     "data": {
      "application/vnd.jupyter.widget-view+json": {
       "model_id": "7c5559f2f52742fbb462adeee661ecaa",
       "version_major": 2,
       "version_minor": 0
      },
      "text/plain": [
       "  0%|          | 0/1 [00:00<?, ?it/s]"
      ]
     },
     "metadata": {},
     "output_type": "display_data"
    },
    {
     "name": "stdout",
     "output_type": "stream",
     "text": [
      "\n",
      "##################################################\n",
      "dimension: 15 | method: umap\n",
      "given shift 3, window size 5 and n 36: history length = 110\n",
      "[INFO] Concatenating the embeddings to the dataframe...\n",
      "[INFO] - columns beginning with 'e' denote the full embddings.\n",
      "[INFO] - columns beginning with 'd' denote the dimension reduced embeddings.\n",
      "[INFO] Adding time feature columns into dataframe in `.df`.\n",
      "[INFO] Adding 'time_encoding' feature...\n",
      "[INFO] Adding 'time_diff' feature...\n",
      "[INFO] Adding 'timeline_index' feature...\n",
      "[INFO] Padding ids and storing in `.df_padded` and `.array_padded` attributes.\n"
     ]
    },
    {
     "data": {
      "application/vnd.jupyter.widget-view+json": {
       "model_id": "88cd670b98ce471e9c955a5b017e409d",
       "version_major": 2,
       "version_minor": 0
      },
      "text/plain": [
       "  0%|          | 0/9699 [00:00<?, ?it/s]"
      ]
     },
     "metadata": {},
     "output_type": "display_data"
    },
    {
     "name": "stdout",
     "output_type": "stream",
     "text": [
      "[INFO] The path was created for each item in the dataframe, by looking at its history, so to include embeddings in the FFN input, we concatenate the embeddings for each sentence / text.\n"
     ]
    },
    {
     "data": {
      "application/vnd.jupyter.widget-view+json": {
       "model_id": "61b9ea3c067c4ddb9d2592d59568be9c",
       "version_major": 2,
       "version_minor": 0
      },
      "text/plain": [
       "  0%|          | 0/2 [00:00<?, ?it/s]"
      ]
     },
     "metadata": {},
     "output_type": "display_data"
    },
    {
     "data": {
      "application/vnd.jupyter.widget-view+json": {
       "model_id": "267eb92a42fe43a988ede8dcabfbd971",
       "version_major": 2,
       "version_minor": 0
      },
      "text/plain": [
       "  0%|          | 0/1 [00:00<?, ?it/s]"
      ]
     },
     "metadata": {},
     "output_type": "display_data"
    },
    {
     "data": {
      "application/vnd.jupyter.widget-view+json": {
       "model_id": "16b1c1fca59b41fa84598a7436ce7e3d",
       "version_major": 2,
       "version_minor": 0
      },
      "text/plain": [
       "  0%|          | 0/2 [00:00<?, ?it/s]"
      ]
     },
     "metadata": {},
     "output_type": "display_data"
    },
    {
     "data": {
      "application/vnd.jupyter.widget-view+json": {
       "model_id": "0954ab20aa5f4bfea267cc59d5a7c49a",
       "version_major": 2,
       "version_minor": 0
      },
      "text/plain": [
       "  0%|          | 0/2 [00:00<?, ?it/s]"
      ]
     },
     "metadata": {},
     "output_type": "display_data"
    },
    {
     "data": {
      "application/vnd.jupyter.widget-view+json": {
       "model_id": "04cfed8e96e3460fa061f2400731e2b6",
       "version_major": 2,
       "version_minor": 0
      },
      "text/plain": [
       "  0%|          | 0/3 [00:00<?, ?it/s]"
      ]
     },
     "metadata": {},
     "output_type": "display_data"
    },
    {
     "data": {
      "application/vnd.jupyter.widget-view+json": {
       "model_id": "740d7b05ef084896ac6307435204fd4d",
       "version_major": 2,
       "version_minor": 0
      },
      "text/plain": [
       "  0%|          | 0/3 [00:00<?, ?it/s]"
      ]
     },
     "metadata": {},
     "output_type": "display_data"
    },
    {
     "data": {
      "application/vnd.jupyter.widget-view+json": {
       "model_id": "8b3baa75a30849fd942e243629c0cba4",
       "version_major": 2,
       "version_minor": 0
      },
      "text/plain": [
       "  0%|          | 0/2 [00:00<?, ?it/s]"
      ]
     },
     "metadata": {},
     "output_type": "display_data"
    },
    {
     "data": {
      "application/vnd.jupyter.widget-view+json": {
       "model_id": "0bc702646d2248b3a67ca9008974a917",
       "version_major": 2,
       "version_minor": 0
      },
      "text/plain": [
       "  0%|          | 0/3 [00:00<?, ?it/s]"
      ]
     },
     "metadata": {},
     "output_type": "display_data"
    },
    {
     "data": {
      "application/vnd.jupyter.widget-view+json": {
       "model_id": "eb39b948f19c4ed7b42831dd3d865d1c",
       "version_major": 2,
       "version_minor": 0
      },
      "text/plain": [
       "  0%|          | 0/3 [00:00<?, ?it/s]"
      ]
     },
     "metadata": {},
     "output_type": "display_data"
    },
    {
     "data": {
      "application/vnd.jupyter.widget-view+json": {
       "model_id": "a7aa98f0357d4ba293320aa4d7b45e72",
       "version_major": 2,
       "version_minor": 0
      },
      "text/plain": [
       "  0%|          | 0/1 [00:00<?, ?it/s]"
      ]
     },
     "metadata": {},
     "output_type": "display_data"
    },
    {
     "data": {
      "application/vnd.jupyter.widget-view+json": {
       "model_id": "d60a9f6af4864b149731ea5b640ac570",
       "version_major": 2,
       "version_minor": 0
      },
      "text/plain": [
       "  0%|          | 0/2 [00:00<?, ?it/s]"
      ]
     },
     "metadata": {},
     "output_type": "display_data"
    },
    {
     "data": {
      "application/vnd.jupyter.widget-view+json": {
       "model_id": "1be08a08485b4d2c8969ce37663e6a45",
       "version_major": 2,
       "version_minor": 0
      },
      "text/plain": [
       "  0%|          | 0/2 [00:00<?, ?it/s]"
      ]
     },
     "metadata": {},
     "output_type": "display_data"
    },
    {
     "data": {
      "application/vnd.jupyter.widget-view+json": {
       "model_id": "b932914eeb2f4a7996e65aea8a298741",
       "version_major": 2,
       "version_minor": 0
      },
      "text/plain": [
       "  0%|          | 0/3 [00:00<?, ?it/s]"
      ]
     },
     "metadata": {},
     "output_type": "display_data"
    },
    {
     "data": {
      "application/vnd.jupyter.widget-view+json": {
       "model_id": "00ae302f08b54ff9a232b2f76310d51c",
       "version_major": 2,
       "version_minor": 0
      },
      "text/plain": [
       "  0%|          | 0/3 [00:00<?, ?it/s]"
      ]
     },
     "metadata": {},
     "output_type": "display_data"
    },
    {
     "data": {
      "application/vnd.jupyter.widget-view+json": {
       "model_id": "1bbab60fd6f247b78122e42e5e98b715",
       "version_major": 2,
       "version_minor": 0
      },
      "text/plain": [
       "  0%|          | 0/2 [00:00<?, ?it/s]"
      ]
     },
     "metadata": {},
     "output_type": "display_data"
    },
    {
     "data": {
      "application/vnd.jupyter.widget-view+json": {
       "model_id": "e67c0c8ee53c47749a8da3f5fae661b5",
       "version_major": 2,
       "version_minor": 0
      },
      "text/plain": [
       "  0%|          | 0/3 [00:00<?, ?it/s]"
      ]
     },
     "metadata": {},
     "output_type": "display_data"
    },
    {
     "data": {
      "application/vnd.jupyter.widget-view+json": {
       "model_id": "617b1a6a81ef44799b4621f3e50d96cd",
       "version_major": 2,
       "version_minor": 0
      },
      "text/plain": [
       "  0%|          | 0/3 [00:00<?, ?it/s]"
      ]
     },
     "metadata": {},
     "output_type": "display_data"
    },
    {
     "name": "stdout",
     "output_type": "stream",
     "text": [
      "given shift 3, window size 5 and n 36: history length = 110\n",
      "[INFO] Concatenating the embeddings to the dataframe...\n",
      "[INFO] - columns beginning with 'e' denote the full embddings.\n",
      "[INFO] - columns beginning with 'd' denote the dimension reduced embeddings.\n",
      "[INFO] Adding time feature columns into dataframe in `.df`.\n",
      "[INFO] Adding 'time_encoding' feature...\n",
      "[INFO] Adding 'time_diff' feature...\n",
      "[INFO] Adding 'timeline_index' feature...\n",
      "[INFO] Padding ids and storing in `.df_padded` and `.array_padded` attributes.\n"
     ]
    },
    {
     "data": {
      "application/vnd.jupyter.widget-view+json": {
       "model_id": "074e61ddae274056920f0b2b81e45ca4",
       "version_major": 2,
       "version_minor": 0
      },
      "text/plain": [
       "  0%|          | 0/9699 [00:00<?, ?it/s]"
      ]
     },
     "metadata": {},
     "output_type": "display_data"
    },
    {
     "name": "stdout",
     "output_type": "stream",
     "text": [
      "[INFO] The path was created for each item in the dataframe, by looking at its history, so to include embeddings in the FFN input, we concatenate the embeddings for each sentence / text.\n",
      "saving results dataframe to CSV for this hyperparameter search in client_talk_type_output/seqsignet_attention_mha_umap_focal_2_3_5_36_kfold.csv\n",
      "saving the best model results dataframe to CSV for this hyperparameter search in client_talk_type_output/seqsignet_attention_mha_umap_focal_2_3_5_36_kfold_best_model.csv\n"
     ]
    }
   ],
   "source": [
    "(\n",
    "    seqsignet_attention_mha_umap_kfold_110,\n",
    "    best_seqsignet_attention_mha_umap_kfold_110,\n",
    "    _,\n",
    "    __,\n",
    ") = seqsignet_full_attention_hyperparameter_search(\n",
    "    shift=shift,\n",
    "    window_size=window_size,\n",
    "    n=n,\n",
    "    dim_reduce_methods=[\"umap\"],\n",
    "    results_output=f\"{output_dir}/seqsignet_attention_mha_umap_focal_{gamma}_{shift}_{window_size}_{n}_kfold.csv\",\n",
    "    **kwargs,\n",
    ")"
   ]
  },
  {
   "cell_type": "code",
   "execution_count": 22,
   "id": "54afda08-ad7f-4ab1-b108-e717a5d639cc",
   "metadata": {},
   "outputs": [
    {
     "data": {
      "text/html": [
       "<div>\n",
       "<style scoped>\n",
       "    .dataframe tbody tr th:only-of-type {\n",
       "        vertical-align: middle;\n",
       "    }\n",
       "\n",
       "    .dataframe tbody tr th {\n",
       "        vertical-align: top;\n",
       "    }\n",
       "\n",
       "    .dataframe thead th {\n",
       "        text-align: right;\n",
       "    }\n",
       "</style>\n",
       "<table border=\"1\" class=\"dataframe\">\n",
       "  <thead>\n",
       "    <tr style=\"text-align: right;\">\n",
       "      <th></th>\n",
       "      <th>loss</th>\n",
       "      <th>accuracy</th>\n",
       "      <th>f1</th>\n",
       "      <th>f1_scores</th>\n",
       "      <th>precision</th>\n",
       "      <th>precision_scores</th>\n",
       "      <th>recall</th>\n",
       "      <th>recall_scores</th>\n",
       "      <th>valid_loss</th>\n",
       "      <th>valid_accuracy</th>\n",
       "      <th>...</th>\n",
       "      <th>seed</th>\n",
       "      <th>loss_function</th>\n",
       "      <th>gamma</th>\n",
       "      <th>k_fold</th>\n",
       "      <th>n_splits</th>\n",
       "      <th>augmentation_type</th>\n",
       "      <th>hidden_dim_aug</th>\n",
       "      <th>comb_method</th>\n",
       "      <th>batch_size</th>\n",
       "      <th>model_id</th>\n",
       "    </tr>\n",
       "  </thead>\n",
       "  <tbody>\n",
       "    <tr>\n",
       "      <th>0</th>\n",
       "      <td>None</td>\n",
       "      <td>0.653257</td>\n",
       "      <td>0.523732</td>\n",
       "      <td>[0.778003482298317, 0.450378282153983, 0.34281...</td>\n",
       "      <td>0.522183</td>\n",
       "      <td>[0.7807221898660455, 0.4888888888888889, 0.296...</td>\n",
       "      <td>0.532750</td>\n",
       "      <td>[0.7753036437246964, 0.4174917491749175, 0.405...</td>\n",
       "      <td>None</td>\n",
       "      <td>0.675658</td>\n",
       "      <td>...</td>\n",
       "      <td>1</td>\n",
       "      <td>focal</td>\n",
       "      <td>2</td>\n",
       "      <td>True</td>\n",
       "      <td>5</td>\n",
       "      <td>Conv1d</td>\n",
       "      <td>None</td>\n",
       "      <td>concatenation</td>\n",
       "      <td>64</td>\n",
       "      <td>0</td>\n",
       "    </tr>\n",
       "    <tr>\n",
       "      <th>0</th>\n",
       "      <td>None</td>\n",
       "      <td>0.628544</td>\n",
       "      <td>0.512789</td>\n",
       "      <td>[0.7565938206480783, 0.4426162073220896, 0.339...</td>\n",
       "      <td>0.504722</td>\n",
       "      <td>[0.7900535096002518, 0.4413453650533224, 0.282...</td>\n",
       "      <td>0.531128</td>\n",
       "      <td>[0.7258530942741469, 0.4438943894389439, 0.423...</td>\n",
       "      <td>None</td>\n",
       "      <td>0.664579</td>\n",
       "      <td>...</td>\n",
       "      <td>12</td>\n",
       "      <td>focal</td>\n",
       "      <td>2</td>\n",
       "      <td>True</td>\n",
       "      <td>5</td>\n",
       "      <td>Conv1d</td>\n",
       "      <td>None</td>\n",
       "      <td>concatenation</td>\n",
       "      <td>64</td>\n",
       "      <td>0</td>\n",
       "    </tr>\n",
       "    <tr>\n",
       "      <th>0</th>\n",
       "      <td>None</td>\n",
       "      <td>0.626437</td>\n",
       "      <td>0.507183</td>\n",
       "      <td>[0.7601255417725303, 0.4200542005420054, 0.341...</td>\n",
       "      <td>0.505546</td>\n",
       "      <td>[0.7865759356634705, 0.46407185628742514, 0.26...</td>\n",
       "      <td>0.531808</td>\n",
       "      <td>[0.7353961827646038, 0.38366336633663367, 0.47...</td>\n",
       "      <td>None</td>\n",
       "      <td>0.658960</td>\n",
       "      <td>...</td>\n",
       "      <td>123</td>\n",
       "      <td>focal</td>\n",
       "      <td>2</td>\n",
       "      <td>True</td>\n",
       "      <td>5</td>\n",
       "      <td>Conv1d</td>\n",
       "      <td>None</td>\n",
       "      <td>concatenation</td>\n",
       "      <td>64</td>\n",
       "      <td>0</td>\n",
       "    </tr>\n",
       "    <tr>\n",
       "      <th>0</th>\n",
       "      <td>None</td>\n",
       "      <td>0.565709</td>\n",
       "      <td>0.433717</td>\n",
       "      <td>[0.7083589428395821, 0.373931623931624, 0.2188...</td>\n",
       "      <td>0.432990</td>\n",
       "      <td>[0.7557377049180328, 0.32894736842105265, 0.21...</td>\n",
       "      <td>0.441125</td>\n",
       "      <td>[0.6665702718334298, 0.43316831683168316, 0.22...</td>\n",
       "      <td>None</td>\n",
       "      <td>0.658157</td>\n",
       "      <td>...</td>\n",
       "      <td>1</td>\n",
       "      <td>focal</td>\n",
       "      <td>2</td>\n",
       "      <td>True</td>\n",
       "      <td>5</td>\n",
       "      <td>Conv1d</td>\n",
       "      <td>None</td>\n",
       "      <td>concatenation</td>\n",
       "      <td>64</td>\n",
       "      <td>1</td>\n",
       "    </tr>\n",
       "    <tr>\n",
       "      <th>0</th>\n",
       "      <td>None</td>\n",
       "      <td>0.574521</td>\n",
       "      <td>0.447132</td>\n",
       "      <td>[0.7120467117393977, 0.38920454545454547, 0.24...</td>\n",
       "      <td>0.446022</td>\n",
       "      <td>[0.759672131147541, 0.341645885286783, 0.23674...</td>\n",
       "      <td>0.455274</td>\n",
       "      <td>[0.6700404858299596, 0.4521452145214521, 0.243...</td>\n",
       "      <td>None</td>\n",
       "      <td>0.661529</td>\n",
       "      <td>...</td>\n",
       "      <td>12</td>\n",
       "      <td>focal</td>\n",
       "      <td>2</td>\n",
       "      <td>True</td>\n",
       "      <td>5</td>\n",
       "      <td>Conv1d</td>\n",
       "      <td>None</td>\n",
       "      <td>concatenation</td>\n",
       "      <td>64</td>\n",
       "      <td>1</td>\n",
       "    </tr>\n",
       "    <tr>\n",
       "      <th>...</th>\n",
       "      <td>...</td>\n",
       "      <td>...</td>\n",
       "      <td>...</td>\n",
       "      <td>...</td>\n",
       "      <td>...</td>\n",
       "      <td>...</td>\n",
       "      <td>...</td>\n",
       "      <td>...</td>\n",
       "      <td>...</td>\n",
       "      <td>...</td>\n",
       "      <td>...</td>\n",
       "      <td>...</td>\n",
       "      <td>...</td>\n",
       "      <td>...</td>\n",
       "      <td>...</td>\n",
       "      <td>...</td>\n",
       "      <td>...</td>\n",
       "      <td>...</td>\n",
       "      <td>...</td>\n",
       "      <td>...</td>\n",
       "      <td>...</td>\n",
       "    </tr>\n",
       "    <tr>\n",
       "      <th>0</th>\n",
       "      <td>None</td>\n",
       "      <td>0.581609</td>\n",
       "      <td>0.460526</td>\n",
       "      <td>[0.7260045489006822, 0.3461988304093567, 0.309...</td>\n",
       "      <td>0.454181</td>\n",
       "      <td>[0.7631495058973542, 0.328159645232816, 0.2712...</td>\n",
       "      <td>0.472881</td>\n",
       "      <td>[0.6923076923076923, 0.36633663366336633, 0.36]</td>\n",
       "      <td>None</td>\n",
       "      <td>0.682402</td>\n",
       "      <td>...</td>\n",
       "      <td>12</td>\n",
       "      <td>focal</td>\n",
       "      <td>2</td>\n",
       "      <td>True</td>\n",
       "      <td>5</td>\n",
       "      <td>Conv1d</td>\n",
       "      <td>None</td>\n",
       "      <td>concatenation</td>\n",
       "      <td>64</td>\n",
       "      <td>22</td>\n",
       "    </tr>\n",
       "    <tr>\n",
       "      <th>0</th>\n",
       "      <td>None</td>\n",
       "      <td>0.569732</td>\n",
       "      <td>0.439547</td>\n",
       "      <td>[0.7192224622030238, 0.370757180156658, 0.2286...</td>\n",
       "      <td>0.436661</td>\n",
       "      <td>[0.7708333333333334, 0.33832539142273654, 0.20...</td>\n",
       "      <td>0.449870</td>\n",
       "      <td>[0.6740890688259109, 0.41006600660066006, 0.26...</td>\n",
       "      <td>None</td>\n",
       "      <td>0.658157</td>\n",
       "      <td>...</td>\n",
       "      <td>123</td>\n",
       "      <td>focal</td>\n",
       "      <td>2</td>\n",
       "      <td>True</td>\n",
       "      <td>5</td>\n",
       "      <td>Conv1d</td>\n",
       "      <td>None</td>\n",
       "      <td>concatenation</td>\n",
       "      <td>64</td>\n",
       "      <td>22</td>\n",
       "    </tr>\n",
       "    <tr>\n",
       "      <th>0</th>\n",
       "      <td>None</td>\n",
       "      <td>0.609962</td>\n",
       "      <td>0.503577</td>\n",
       "      <td>[0.739392069125135, 0.4348527632109722, 0.3364...</td>\n",
       "      <td>0.495249</td>\n",
       "      <td>[0.7925901422428051, 0.425414364640884, 0.2677...</td>\n",
       "      <td>0.530111</td>\n",
       "      <td>[0.6928860613071139, 0.44471947194719474, 0.45...</td>\n",
       "      <td>None</td>\n",
       "      <td>0.665222</td>\n",
       "      <td>...</td>\n",
       "      <td>1</td>\n",
       "      <td>focal</td>\n",
       "      <td>2</td>\n",
       "      <td>True</td>\n",
       "      <td>5</td>\n",
       "      <td>Conv1d</td>\n",
       "      <td>None</td>\n",
       "      <td>concatenation</td>\n",
       "      <td>64</td>\n",
       "      <td>23</td>\n",
       "    </tr>\n",
       "    <tr>\n",
       "      <th>0</th>\n",
       "      <td>None</td>\n",
       "      <td>0.622222</td>\n",
       "      <td>0.503489</td>\n",
       "      <td>[0.7563909774436092, 0.4229765013054831, 0.331...</td>\n",
       "      <td>0.499210</td>\n",
       "      <td>[0.7879072681704261, 0.44751381215469616, 0.26...</td>\n",
       "      <td>0.525793</td>\n",
       "      <td>[0.727299016772701, 0.400990099009901, 0.44909...</td>\n",
       "      <td>None</td>\n",
       "      <td>0.675658</td>\n",
       "      <td>...</td>\n",
       "      <td>12</td>\n",
       "      <td>focal</td>\n",
       "      <td>2</td>\n",
       "      <td>True</td>\n",
       "      <td>5</td>\n",
       "      <td>Conv1d</td>\n",
       "      <td>None</td>\n",
       "      <td>concatenation</td>\n",
       "      <td>64</td>\n",
       "      <td>23</td>\n",
       "    </tr>\n",
       "    <tr>\n",
       "      <th>0</th>\n",
       "      <td>None</td>\n",
       "      <td>0.621456</td>\n",
       "      <td>0.506919</td>\n",
       "      <td>[0.7499621842383907, 0.4329979879275654, 0.337...</td>\n",
       "      <td>0.498251</td>\n",
       "      <td>[0.7862353314303837, 0.422623723487824, 0.2858...</td>\n",
       "      <td>0.524503</td>\n",
       "      <td>[0.7168883747831116, 0.4438943894389439, 0.412...</td>\n",
       "      <td>None</td>\n",
       "      <td>0.665222</td>\n",
       "      <td>...</td>\n",
       "      <td>123</td>\n",
       "      <td>focal</td>\n",
       "      <td>2</td>\n",
       "      <td>True</td>\n",
       "      <td>5</td>\n",
       "      <td>Conv1d</td>\n",
       "      <td>None</td>\n",
       "      <td>concatenation</td>\n",
       "      <td>64</td>\n",
       "      <td>23</td>\n",
       "    </tr>\n",
       "  </tbody>\n",
       "</table>\n",
       "<p>72 rows × 47 columns</p>\n",
       "</div>"
      ],
      "text/plain": [
       "    loss  accuracy        f1  \\\n",
       "0   None  0.653257  0.523732   \n",
       "0   None  0.628544  0.512789   \n",
       "0   None  0.626437  0.507183   \n",
       "0   None  0.565709  0.433717   \n",
       "0   None  0.574521  0.447132   \n",
       "..   ...       ...       ...   \n",
       "0   None  0.581609  0.460526   \n",
       "0   None  0.569732  0.439547   \n",
       "0   None  0.609962  0.503577   \n",
       "0   None  0.622222  0.503489   \n",
       "0   None  0.621456  0.506919   \n",
       "\n",
       "                                            f1_scores  precision  \\\n",
       "0   [0.778003482298317, 0.450378282153983, 0.34281...   0.522183   \n",
       "0   [0.7565938206480783, 0.4426162073220896, 0.339...   0.504722   \n",
       "0   [0.7601255417725303, 0.4200542005420054, 0.341...   0.505546   \n",
       "0   [0.7083589428395821, 0.373931623931624, 0.2188...   0.432990   \n",
       "0   [0.7120467117393977, 0.38920454545454547, 0.24...   0.446022   \n",
       "..                                                ...        ...   \n",
       "0   [0.7260045489006822, 0.3461988304093567, 0.309...   0.454181   \n",
       "0   [0.7192224622030238, 0.370757180156658, 0.2286...   0.436661   \n",
       "0   [0.739392069125135, 0.4348527632109722, 0.3364...   0.495249   \n",
       "0   [0.7563909774436092, 0.4229765013054831, 0.331...   0.499210   \n",
       "0   [0.7499621842383907, 0.4329979879275654, 0.337...   0.498251   \n",
       "\n",
       "                                     precision_scores    recall  \\\n",
       "0   [0.7807221898660455, 0.4888888888888889, 0.296...  0.532750   \n",
       "0   [0.7900535096002518, 0.4413453650533224, 0.282...  0.531128   \n",
       "0   [0.7865759356634705, 0.46407185628742514, 0.26...  0.531808   \n",
       "0   [0.7557377049180328, 0.32894736842105265, 0.21...  0.441125   \n",
       "0   [0.759672131147541, 0.341645885286783, 0.23674...  0.455274   \n",
       "..                                                ...       ...   \n",
       "0   [0.7631495058973542, 0.328159645232816, 0.2712...  0.472881   \n",
       "0   [0.7708333333333334, 0.33832539142273654, 0.20...  0.449870   \n",
       "0   [0.7925901422428051, 0.425414364640884, 0.2677...  0.530111   \n",
       "0   [0.7879072681704261, 0.44751381215469616, 0.26...  0.525793   \n",
       "0   [0.7862353314303837, 0.422623723487824, 0.2858...  0.524503   \n",
       "\n",
       "                                        recall_scores valid_loss  \\\n",
       "0   [0.7753036437246964, 0.4174917491749175, 0.405...       None   \n",
       "0   [0.7258530942741469, 0.4438943894389439, 0.423...       None   \n",
       "0   [0.7353961827646038, 0.38366336633663367, 0.47...       None   \n",
       "0   [0.6665702718334298, 0.43316831683168316, 0.22...       None   \n",
       "0   [0.6700404858299596, 0.4521452145214521, 0.243...       None   \n",
       "..                                                ...        ...   \n",
       "0     [0.6923076923076923, 0.36633663366336633, 0.36]       None   \n",
       "0   [0.6740890688259109, 0.41006600660066006, 0.26...       None   \n",
       "0   [0.6928860613071139, 0.44471947194719474, 0.45...       None   \n",
       "0   [0.727299016772701, 0.400990099009901, 0.44909...       None   \n",
       "0   [0.7168883747831116, 0.4438943894389439, 0.412...       None   \n",
       "\n",
       "    valid_accuracy  ...  seed loss_function  gamma k_fold  n_splits  \\\n",
       "0         0.675658  ...     1         focal      2   True         5   \n",
       "0         0.664579  ...    12         focal      2   True         5   \n",
       "0         0.658960  ...   123         focal      2   True         5   \n",
       "0         0.658157  ...     1         focal      2   True         5   \n",
       "0         0.661529  ...    12         focal      2   True         5   \n",
       "..             ...  ...   ...           ...    ...    ...       ...   \n",
       "0         0.682402  ...    12         focal      2   True         5   \n",
       "0         0.658157  ...   123         focal      2   True         5   \n",
       "0         0.665222  ...     1         focal      2   True         5   \n",
       "0         0.675658  ...    12         focal      2   True         5   \n",
       "0         0.665222  ...   123         focal      2   True         5   \n",
       "\n",
       "   augmentation_type  hidden_dim_aug    comb_method  batch_size  model_id  \n",
       "0             Conv1d            None  concatenation          64         0  \n",
       "0             Conv1d            None  concatenation          64         0  \n",
       "0             Conv1d            None  concatenation          64         0  \n",
       "0             Conv1d            None  concatenation          64         1  \n",
       "0             Conv1d            None  concatenation          64         1  \n",
       "..               ...             ...            ...         ...       ...  \n",
       "0             Conv1d            None  concatenation          64        22  \n",
       "0             Conv1d            None  concatenation          64        22  \n",
       "0             Conv1d            None  concatenation          64        23  \n",
       "0             Conv1d            None  concatenation          64        23  \n",
       "0             Conv1d            None  concatenation          64        23  \n",
       "\n",
       "[72 rows x 47 columns]"
      ]
     },
     "execution_count": 22,
     "metadata": {},
     "output_type": "execute_result"
    }
   ],
   "source": [
    "seqsignet_attention_mha_umap_kfold_110"
   ]
  },
  {
   "cell_type": "code",
   "execution_count": 23,
   "id": "a840b608-2b98-4a5c-ae02-8d14c4b9684f",
   "metadata": {},
   "outputs": [
    {
     "data": {
      "text/plain": [
       "0.5000366546431735"
      ]
     },
     "execution_count": 23,
     "metadata": {},
     "output_type": "execute_result"
    }
   ],
   "source": [
    "best_seqsignet_attention_mha_umap_kfold_110[\"f1\"].mean()"
   ]
  },
  {
   "cell_type": "code",
   "execution_count": 24,
   "id": "3ca90171-5cac-47f1-9699-9510d9c927ce",
   "metadata": {},
   "outputs": [
    {
     "data": {
      "text/plain": [
       "0.4950095452721604"
      ]
     },
     "execution_count": 24,
     "metadata": {},
     "output_type": "execute_result"
    }
   ],
   "source": [
    "best_seqsignet_attention_mha_umap_kfold_110[\"precision\"].mean()"
   ]
  },
  {
   "cell_type": "code",
   "execution_count": 25,
   "id": "562c9aac-0404-4f9e-8a95-cf3d3df09776",
   "metadata": {},
   "outputs": [
    {
     "data": {
      "text/plain": [
       "0.516300748254891"
      ]
     },
     "execution_count": 25,
     "metadata": {},
     "output_type": "execute_result"
    }
   ],
   "source": [
    "best_seqsignet_attention_mha_umap_kfold_110[\"recall\"].mean()"
   ]
  },
  {
   "cell_type": "code",
   "execution_count": 26,
   "id": "7b7a45f2-3ea9-488c-b14b-9f4c2cc4bcd4",
   "metadata": {},
   "outputs": [
    {
     "data": {
      "text/plain": [
       "array([0.75517386, 0.4064685 , 0.3384676 ])"
      ]
     },
     "execution_count": 26,
     "metadata": {},
     "output_type": "execute_result"
    }
   ],
   "source": [
    "np.stack(best_seqsignet_attention_mha_umap_kfold_110[\"f1_scores\"]).mean(axis=0)"
   ]
  },
  {
   "cell_type": "code",
   "execution_count": 27,
   "id": "2ea44017-119a-4e69-a986-c4b48b129160",
   "metadata": {},
   "outputs": [
    {
     "data": {
      "text/plain": [
       "array([0.77258417, 0.43001749, 0.28242698])"
      ]
     },
     "execution_count": 27,
     "metadata": {},
     "output_type": "execute_result"
    }
   ],
   "source": [
    "np.stack(best_seqsignet_attention_mha_umap_kfold_110[\"precision_scores\"]).mean(axis=0)"
   ]
  },
  {
   "cell_type": "code",
   "execution_count": 28,
   "id": "4ec484fc-c41c-4bf9-af9a-647bb0ef8f68",
   "metadata": {},
   "outputs": [
    {
     "data": {
      "text/plain": [
       "array([0.73857721, 0.38668867, 0.42363636])"
      ]
     },
     "execution_count": 28,
     "metadata": {},
     "output_type": "execute_result"
    }
   ],
   "source": [
    "np.stack(best_seqsignet_attention_mha_umap_kfold_110[\"recall_scores\"]).mean(axis=0)"
   ]
  },
  {
   "cell_type": "markdown",
   "id": "68f2f91a-b5f2-419b-9858-73495116c613",
   "metadata": {},
   "source": [
    "## GRP"
   ]
  },
  {
   "cell_type": "code",
   "execution_count": 29,
   "id": "5af369ba-acdf-483c-85b7-cfaf7f49d6c8",
   "metadata": {},
   "outputs": [
    {
     "data": {
      "application/vnd.jupyter.widget-view+json": {
       "model_id": "88506090edac48218a7e9e2d2269af4c",
       "version_major": 2,
       "version_minor": 0
      },
      "text/plain": [
       "  0%|          | 0/1 [00:00<?, ?it/s]"
      ]
     },
     "metadata": {},
     "output_type": "display_data"
    },
    {
     "data": {
      "application/vnd.jupyter.widget-view+json": {
       "model_id": "08d59ce7a2b0485eae7c14dd8e2fc2e4",
       "version_major": 2,
       "version_minor": 0
      },
      "text/plain": [
       "  0%|          | 0/1 [00:00<?, ?it/s]"
      ]
     },
     "metadata": {},
     "output_type": "display_data"
    },
    {
     "name": "stdout",
     "output_type": "stream",
     "text": [
      "\n",
      "##################################################\n",
      "dimension: 15 | method: gaussian_random_projection\n",
      "given shift 3, window size 5 and n 36: history length = 110\n",
      "[INFO] Concatenating the embeddings to the dataframe...\n",
      "[INFO] - columns beginning with 'e' denote the full embddings.\n",
      "[INFO] - columns beginning with 'd' denote the dimension reduced embeddings.\n",
      "[INFO] Adding time feature columns into dataframe in `.df`.\n",
      "[INFO] Adding 'time_encoding' feature...\n",
      "[INFO] Adding 'time_diff' feature...\n",
      "[INFO] Adding 'timeline_index' feature...\n",
      "[INFO] Padding ids and storing in `.df_padded` and `.array_padded` attributes.\n"
     ]
    },
    {
     "data": {
      "application/vnd.jupyter.widget-view+json": {
       "model_id": "6c224d640dcd4f7a892653651f6f7e17",
       "version_major": 2,
       "version_minor": 0
      },
      "text/plain": [
       "  0%|          | 0/9699 [00:00<?, ?it/s]"
      ]
     },
     "metadata": {},
     "output_type": "display_data"
    },
    {
     "name": "stdout",
     "output_type": "stream",
     "text": [
      "[INFO] The path was created for each item in the dataframe, by looking at its history, so to include embeddings in the FFN input, we concatenate the embeddings for each sentence / text.\n"
     ]
    },
    {
     "data": {
      "application/vnd.jupyter.widget-view+json": {
       "model_id": "8dc8873ee5d245debc8fd6e719e3a800",
       "version_major": 2,
       "version_minor": 0
      },
      "text/plain": [
       "  0%|          | 0/2 [00:00<?, ?it/s]"
      ]
     },
     "metadata": {},
     "output_type": "display_data"
    },
    {
     "data": {
      "application/vnd.jupyter.widget-view+json": {
       "model_id": "a7ae89a9c3cb42ef9dcca8ebebcdbb9c",
       "version_major": 2,
       "version_minor": 0
      },
      "text/plain": [
       "  0%|          | 0/1 [00:00<?, ?it/s]"
      ]
     },
     "metadata": {},
     "output_type": "display_data"
    },
    {
     "data": {
      "application/vnd.jupyter.widget-view+json": {
       "model_id": "954c555912294f0a8aa6e6de13c8bdbb",
       "version_major": 2,
       "version_minor": 0
      },
      "text/plain": [
       "  0%|          | 0/2 [00:00<?, ?it/s]"
      ]
     },
     "metadata": {},
     "output_type": "display_data"
    },
    {
     "data": {
      "application/vnd.jupyter.widget-view+json": {
       "model_id": "e277d2b5bd0e415298c424463025750a",
       "version_major": 2,
       "version_minor": 0
      },
      "text/plain": [
       "  0%|          | 0/2 [00:00<?, ?it/s]"
      ]
     },
     "metadata": {},
     "output_type": "display_data"
    },
    {
     "data": {
      "application/vnd.jupyter.widget-view+json": {
       "model_id": "c933a94771454a489da7ef8b0bf6a8c9",
       "version_major": 2,
       "version_minor": 0
      },
      "text/plain": [
       "  0%|          | 0/3 [00:00<?, ?it/s]"
      ]
     },
     "metadata": {},
     "output_type": "display_data"
    },
    {
     "data": {
      "application/vnd.jupyter.widget-view+json": {
       "model_id": "fd67f7e7e8ce4cdf898741abc68750f6",
       "version_major": 2,
       "version_minor": 0
      },
      "text/plain": [
       "  0%|          | 0/3 [00:00<?, ?it/s]"
      ]
     },
     "metadata": {},
     "output_type": "display_data"
    },
    {
     "data": {
      "application/vnd.jupyter.widget-view+json": {
       "model_id": "b314ea7c9e994887b5bc6f79a2acbac0",
       "version_major": 2,
       "version_minor": 0
      },
      "text/plain": [
       "  0%|          | 0/2 [00:00<?, ?it/s]"
      ]
     },
     "metadata": {},
     "output_type": "display_data"
    },
    {
     "data": {
      "application/vnd.jupyter.widget-view+json": {
       "model_id": "97523bd033f24cc4b731e53ca23a374c",
       "version_major": 2,
       "version_minor": 0
      },
      "text/plain": [
       "  0%|          | 0/3 [00:00<?, ?it/s]"
      ]
     },
     "metadata": {},
     "output_type": "display_data"
    },
    {
     "data": {
      "application/vnd.jupyter.widget-view+json": {
       "model_id": "29f14b17292d436390024f4de6de86ce",
       "version_major": 2,
       "version_minor": 0
      },
      "text/plain": [
       "  0%|          | 0/3 [00:00<?, ?it/s]"
      ]
     },
     "metadata": {},
     "output_type": "display_data"
    },
    {
     "data": {
      "application/vnd.jupyter.widget-view+json": {
       "model_id": "b3fce77202cc4d648686139acc7104c7",
       "version_major": 2,
       "version_minor": 0
      },
      "text/plain": [
       "  0%|          | 0/1 [00:00<?, ?it/s]"
      ]
     },
     "metadata": {},
     "output_type": "display_data"
    },
    {
     "data": {
      "application/vnd.jupyter.widget-view+json": {
       "model_id": "3a8bced29afb4d018431215f30eb178b",
       "version_major": 2,
       "version_minor": 0
      },
      "text/plain": [
       "  0%|          | 0/2 [00:00<?, ?it/s]"
      ]
     },
     "metadata": {},
     "output_type": "display_data"
    },
    {
     "data": {
      "application/vnd.jupyter.widget-view+json": {
       "model_id": "83f9951ad56e41d8857cea68c82123c0",
       "version_major": 2,
       "version_minor": 0
      },
      "text/plain": [
       "  0%|          | 0/2 [00:00<?, ?it/s]"
      ]
     },
     "metadata": {},
     "output_type": "display_data"
    },
    {
     "data": {
      "application/vnd.jupyter.widget-view+json": {
       "model_id": "5623a63c4377457b8e99e9a5611c90d8",
       "version_major": 2,
       "version_minor": 0
      },
      "text/plain": [
       "  0%|          | 0/3 [00:00<?, ?it/s]"
      ]
     },
     "metadata": {},
     "output_type": "display_data"
    },
    {
     "data": {
      "application/vnd.jupyter.widget-view+json": {
       "model_id": "e866bd70daaa4af587966340171dcac4",
       "version_major": 2,
       "version_minor": 0
      },
      "text/plain": [
       "  0%|          | 0/3 [00:00<?, ?it/s]"
      ]
     },
     "metadata": {},
     "output_type": "display_data"
    },
    {
     "data": {
      "application/vnd.jupyter.widget-view+json": {
       "model_id": "b5bd4b8e0e8f40f4a93a2651c31d5426",
       "version_major": 2,
       "version_minor": 0
      },
      "text/plain": [
       "  0%|          | 0/2 [00:00<?, ?it/s]"
      ]
     },
     "metadata": {},
     "output_type": "display_data"
    },
    {
     "data": {
      "application/vnd.jupyter.widget-view+json": {
       "model_id": "a74ab535b0e24498bedcb2754bc4239b",
       "version_major": 2,
       "version_minor": 0
      },
      "text/plain": [
       "  0%|          | 0/3 [00:00<?, ?it/s]"
      ]
     },
     "metadata": {},
     "output_type": "display_data"
    },
    {
     "data": {
      "application/vnd.jupyter.widget-view+json": {
       "model_id": "200f4730543f4fcd84298f791c4e7899",
       "version_major": 2,
       "version_minor": 0
      },
      "text/plain": [
       "  0%|          | 0/3 [00:00<?, ?it/s]"
      ]
     },
     "metadata": {},
     "output_type": "display_data"
    },
    {
     "name": "stdout",
     "output_type": "stream",
     "text": [
      "given shift 3, window size 5 and n 36: history length = 110\n",
      "[INFO] Concatenating the embeddings to the dataframe...\n",
      "[INFO] - columns beginning with 'e' denote the full embddings.\n",
      "[INFO] - columns beginning with 'd' denote the dimension reduced embeddings.\n",
      "[INFO] Adding time feature columns into dataframe in `.df`.\n",
      "[INFO] Adding 'time_encoding' feature...\n",
      "[INFO] Adding 'time_diff' feature...\n",
      "[INFO] Adding 'timeline_index' feature...\n",
      "[INFO] Padding ids and storing in `.df_padded` and `.array_padded` attributes.\n"
     ]
    },
    {
     "data": {
      "application/vnd.jupyter.widget-view+json": {
       "model_id": "8aef99914fb84583b770cb72b3726555",
       "version_major": 2,
       "version_minor": 0
      },
      "text/plain": [
       "  0%|          | 0/9699 [00:00<?, ?it/s]"
      ]
     },
     "metadata": {},
     "output_type": "display_data"
    },
    {
     "name": "stdout",
     "output_type": "stream",
     "text": [
      "[INFO] The path was created for each item in the dataframe, by looking at its history, so to include embeddings in the FFN input, we concatenate the embeddings for each sentence / text.\n",
      "saving results dataframe to CSV for this hyperparameter search in client_talk_type_output/seqsignet_attention_mha_grp_focal_2_3_5_36_kfold.csv\n",
      "saving the best model results dataframe to CSV for this hyperparameter search in client_talk_type_output/seqsignet_attention_mha_grp_focal_2_3_5_36_kfold_best_model.csv\n"
     ]
    }
   ],
   "source": [
    "(\n",
    "    seqsignet_attention_mha_grp_kfold_110,\n",
    "    best_seqsignet_attention_mha_grp_kfold_110,\n",
    "    _,\n",
    "    __,\n",
    ") = seqsignet_full_attention_hyperparameter_search(\n",
    "    shift=shift,\n",
    "    window_size=window_size,\n",
    "    n=n,\n",
    "    dim_reduce_methods=[\"gaussian_random_projection\"],\n",
    "    results_output=f\"{output_dir}/seqsignet_attention_mha_grp_focal_{gamma}_{shift}_{window_size}_{n}_kfold.csv\",\n",
    "    **kwargs,\n",
    ")"
   ]
  },
  {
   "cell_type": "code",
   "execution_count": 30,
   "id": "d30459a8-72c6-4920-bdba-21813692c980",
   "metadata": {},
   "outputs": [
    {
     "data": {
      "text/html": [
       "<div>\n",
       "<style scoped>\n",
       "    .dataframe tbody tr th:only-of-type {\n",
       "        vertical-align: middle;\n",
       "    }\n",
       "\n",
       "    .dataframe tbody tr th {\n",
       "        vertical-align: top;\n",
       "    }\n",
       "\n",
       "    .dataframe thead th {\n",
       "        text-align: right;\n",
       "    }\n",
       "</style>\n",
       "<table border=\"1\" class=\"dataframe\">\n",
       "  <thead>\n",
       "    <tr style=\"text-align: right;\">\n",
       "      <th></th>\n",
       "      <th>loss</th>\n",
       "      <th>accuracy</th>\n",
       "      <th>f1</th>\n",
       "      <th>f1_scores</th>\n",
       "      <th>precision</th>\n",
       "      <th>precision_scores</th>\n",
       "      <th>recall</th>\n",
       "      <th>recall_scores</th>\n",
       "      <th>valid_loss</th>\n",
       "      <th>valid_accuracy</th>\n",
       "      <th>...</th>\n",
       "      <th>seed</th>\n",
       "      <th>loss_function</th>\n",
       "      <th>gamma</th>\n",
       "      <th>k_fold</th>\n",
       "      <th>n_splits</th>\n",
       "      <th>augmentation_type</th>\n",
       "      <th>hidden_dim_aug</th>\n",
       "      <th>comb_method</th>\n",
       "      <th>batch_size</th>\n",
       "      <th>model_id</th>\n",
       "    </tr>\n",
       "  </thead>\n",
       "  <tbody>\n",
       "    <tr>\n",
       "      <th>0</th>\n",
       "      <td>None</td>\n",
       "      <td>0.635824</td>\n",
       "      <td>0.508797</td>\n",
       "      <td>[0.7639760618887753, 0.4242424242424242, 0.338...</td>\n",
       "      <td>0.507388</td>\n",
       "      <td>[0.7712938402593575, 0.4694694694694695, 0.281...</td>\n",
       "      <td>0.522465</td>\n",
       "      <td>[0.7567958357432042, 0.38696369636963696, 0.42...</td>\n",
       "      <td>None</td>\n",
       "      <td>0.675819</td>\n",
       "      <td>...</td>\n",
       "      <td>1</td>\n",
       "      <td>focal</td>\n",
       "      <td>2</td>\n",
       "      <td>True</td>\n",
       "      <td>5</td>\n",
       "      <td>Conv1d</td>\n",
       "      <td>None</td>\n",
       "      <td>concatenation</td>\n",
       "      <td>64</td>\n",
       "      <td>0</td>\n",
       "    </tr>\n",
       "    <tr>\n",
       "      <th>0</th>\n",
       "      <td>None</td>\n",
       "      <td>0.631034</td>\n",
       "      <td>0.514329</td>\n",
       "      <td>[0.7607196401799101, 0.43474540008557977, 0.34...</td>\n",
       "      <td>0.507800</td>\n",
       "      <td>[0.7898505603985057, 0.45155555555555554, 0.28...</td>\n",
       "      <td>0.535177</td>\n",
       "      <td>[0.7336610757663389, 0.41914191419141916, 0.45...</td>\n",
       "      <td>None</td>\n",
       "      <td>0.654143</td>\n",
       "      <td>...</td>\n",
       "      <td>12</td>\n",
       "      <td>focal</td>\n",
       "      <td>2</td>\n",
       "      <td>True</td>\n",
       "      <td>5</td>\n",
       "      <td>Conv1d</td>\n",
       "      <td>None</td>\n",
       "      <td>concatenation</td>\n",
       "      <td>64</td>\n",
       "      <td>0</td>\n",
       "    </tr>\n",
       "    <tr>\n",
       "      <th>0</th>\n",
       "      <td>None</td>\n",
       "      <td>0.625670</td>\n",
       "      <td>0.516982</td>\n",
       "      <td>[0.7487775061124694, 0.4594807238394965, 0.342...</td>\n",
       "      <td>0.507188</td>\n",
       "      <td>[0.7939079714841218, 0.43909774436090226, 0.28...</td>\n",
       "      <td>0.537389</td>\n",
       "      <td>[0.708502024291498, 0.48184818481848185, 0.421...</td>\n",
       "      <td>None</td>\n",
       "      <td>0.657836</td>\n",
       "      <td>...</td>\n",
       "      <td>123</td>\n",
       "      <td>focal</td>\n",
       "      <td>2</td>\n",
       "      <td>True</td>\n",
       "      <td>5</td>\n",
       "      <td>Conv1d</td>\n",
       "      <td>None</td>\n",
       "      <td>concatenation</td>\n",
       "      <td>64</td>\n",
       "      <td>0</td>\n",
       "    </tr>\n",
       "    <tr>\n",
       "      <th>0</th>\n",
       "      <td>None</td>\n",
       "      <td>0.598084</td>\n",
       "      <td>0.465473</td>\n",
       "      <td>[0.7368264806293604, 0.37138389366692726, 0.28...</td>\n",
       "      <td>0.462382</td>\n",
       "      <td>[0.7569380908813663, 0.35289747399702825, 0.27...</td>\n",
       "      <td>0.469890</td>\n",
       "      <td>[0.7177559282822441, 0.3919141914191419, 0.3]</td>\n",
       "      <td>None</td>\n",
       "      <td>0.693802</td>\n",
       "      <td>...</td>\n",
       "      <td>1</td>\n",
       "      <td>focal</td>\n",
       "      <td>2</td>\n",
       "      <td>True</td>\n",
       "      <td>5</td>\n",
       "      <td>Conv1d</td>\n",
       "      <td>None</td>\n",
       "      <td>concatenation</td>\n",
       "      <td>64</td>\n",
       "      <td>1</td>\n",
       "    </tr>\n",
       "    <tr>\n",
       "      <th>0</th>\n",
       "      <td>None</td>\n",
       "      <td>0.617816</td>\n",
       "      <td>0.467523</td>\n",
       "      <td>[0.7565293093441672, 0.37725701114099114, 0.26...</td>\n",
       "      <td>0.477892</td>\n",
       "      <td>[0.7591729761211415, 0.35298346513299783, 0.32...</td>\n",
       "      <td>0.463310</td>\n",
       "      <td>[0.753903990746096, 0.4051155115511551, 0.2309...</td>\n",
       "      <td>None</td>\n",
       "      <td>0.694605</td>\n",
       "      <td>...</td>\n",
       "      <td>12</td>\n",
       "      <td>focal</td>\n",
       "      <td>2</td>\n",
       "      <td>True</td>\n",
       "      <td>5</td>\n",
       "      <td>Conv1d</td>\n",
       "      <td>None</td>\n",
       "      <td>concatenation</td>\n",
       "      <td>64</td>\n",
       "      <td>1</td>\n",
       "    </tr>\n",
       "    <tr>\n",
       "      <th>...</th>\n",
       "      <td>...</td>\n",
       "      <td>...</td>\n",
       "      <td>...</td>\n",
       "      <td>...</td>\n",
       "      <td>...</td>\n",
       "      <td>...</td>\n",
       "      <td>...</td>\n",
       "      <td>...</td>\n",
       "      <td>...</td>\n",
       "      <td>...</td>\n",
       "      <td>...</td>\n",
       "      <td>...</td>\n",
       "      <td>...</td>\n",
       "      <td>...</td>\n",
       "      <td>...</td>\n",
       "      <td>...</td>\n",
       "      <td>...</td>\n",
       "      <td>...</td>\n",
       "      <td>...</td>\n",
       "      <td>...</td>\n",
       "      <td>...</td>\n",
       "    </tr>\n",
       "    <tr>\n",
       "      <th>0</th>\n",
       "      <td>None</td>\n",
       "      <td>0.633333</td>\n",
       "      <td>0.489539</td>\n",
       "      <td>[0.7692972350230415, 0.38879456706281834, 0.31...</td>\n",
       "      <td>0.488852</td>\n",
       "      <td>[0.7662076878944348, 0.40034965034965037, 0.3]</td>\n",
       "      <td>0.490706</td>\n",
       "      <td>[0.7724117987275883, 0.3778877887788779, 0.321...</td>\n",
       "      <td>None</td>\n",
       "      <td>0.693642</td>\n",
       "      <td>...</td>\n",
       "      <td>12</td>\n",
       "      <td>focal</td>\n",
       "      <td>2</td>\n",
       "      <td>True</td>\n",
       "      <td>5</td>\n",
       "      <td>Conv1d</td>\n",
       "      <td>None</td>\n",
       "      <td>concatenation</td>\n",
       "      <td>64</td>\n",
       "      <td>22</td>\n",
       "    </tr>\n",
       "    <tr>\n",
       "      <th>0</th>\n",
       "      <td>None</td>\n",
       "      <td>0.608621</td>\n",
       "      <td>0.471848</td>\n",
       "      <td>[0.7453325554259044, 0.3671811535337124, 0.303...</td>\n",
       "      <td>0.470239</td>\n",
       "      <td>[0.7519128899352561, 0.3616, 0.2972027972027972]</td>\n",
       "      <td>0.473632</td>\n",
       "      <td>[0.7388663967611336, 0.37293729372937295, 0.30...</td>\n",
       "      <td>None</td>\n",
       "      <td>0.699101</td>\n",
       "      <td>...</td>\n",
       "      <td>123</td>\n",
       "      <td>focal</td>\n",
       "      <td>2</td>\n",
       "      <td>True</td>\n",
       "      <td>5</td>\n",
       "      <td>Conv1d</td>\n",
       "      <td>None</td>\n",
       "      <td>concatenation</td>\n",
       "      <td>64</td>\n",
       "      <td>22</td>\n",
       "    </tr>\n",
       "    <tr>\n",
       "      <th>0</th>\n",
       "      <td>None</td>\n",
       "      <td>0.637548</td>\n",
       "      <td>0.486681</td>\n",
       "      <td>[0.7714041095890412, 0.4019055868341273, 0.286...</td>\n",
       "      <td>0.488453</td>\n",
       "      <td>[0.7614084507042254, 0.422971741112124, 0.2809...</td>\n",
       "      <td>0.485744</td>\n",
       "      <td>[0.7816657027183342, 0.38283828382838286, 0.29...</td>\n",
       "      <td>None</td>\n",
       "      <td>0.672768</td>\n",
       "      <td>...</td>\n",
       "      <td>1</td>\n",
       "      <td>focal</td>\n",
       "      <td>2</td>\n",
       "      <td>True</td>\n",
       "      <td>5</td>\n",
       "      <td>Conv1d</td>\n",
       "      <td>None</td>\n",
       "      <td>concatenation</td>\n",
       "      <td>64</td>\n",
       "      <td>23</td>\n",
       "    </tr>\n",
       "    <tr>\n",
       "      <th>0</th>\n",
       "      <td>None</td>\n",
       "      <td>0.638314</td>\n",
       "      <td>0.507621</td>\n",
       "      <td>[0.7690036900369003, 0.4336569579288026, 0.320...</td>\n",
       "      <td>0.502597</td>\n",
       "      <td>[0.7853482062104311, 0.4253968253968254, 0.297...</td>\n",
       "      <td>0.514281</td>\n",
       "      <td>[0.7533256217466744, 0.44224422442244227, 0.34...</td>\n",
       "      <td>None</td>\n",
       "      <td>0.666988</td>\n",
       "      <td>...</td>\n",
       "      <td>12</td>\n",
       "      <td>focal</td>\n",
       "      <td>2</td>\n",
       "      <td>True</td>\n",
       "      <td>5</td>\n",
       "      <td>Conv1d</td>\n",
       "      <td>None</td>\n",
       "      <td>concatenation</td>\n",
       "      <td>64</td>\n",
       "      <td>23</td>\n",
       "    </tr>\n",
       "    <tr>\n",
       "      <th>0</th>\n",
       "      <td>None</td>\n",
       "      <td>0.648276</td>\n",
       "      <td>0.519003</td>\n",
       "      <td>[0.7788125727590222, 0.41987466427931963, 0.35...</td>\n",
       "      <td>0.515861</td>\n",
       "      <td>[0.7838312829525483, 0.4589041095890411, 0.304...</td>\n",
       "      <td>0.531789</td>\n",
       "      <td>[0.7738577212261423, 0.38696369636963696, 0.43...</td>\n",
       "      <td>None</td>\n",
       "      <td>0.670681</td>\n",
       "      <td>...</td>\n",
       "      <td>123</td>\n",
       "      <td>focal</td>\n",
       "      <td>2</td>\n",
       "      <td>True</td>\n",
       "      <td>5</td>\n",
       "      <td>Conv1d</td>\n",
       "      <td>None</td>\n",
       "      <td>concatenation</td>\n",
       "      <td>64</td>\n",
       "      <td>23</td>\n",
       "    </tr>\n",
       "  </tbody>\n",
       "</table>\n",
       "<p>72 rows × 47 columns</p>\n",
       "</div>"
      ],
      "text/plain": [
       "    loss  accuracy        f1  \\\n",
       "0   None  0.635824  0.508797   \n",
       "0   None  0.631034  0.514329   \n",
       "0   None  0.625670  0.516982   \n",
       "0   None  0.598084  0.465473   \n",
       "0   None  0.617816  0.467523   \n",
       "..   ...       ...       ...   \n",
       "0   None  0.633333  0.489539   \n",
       "0   None  0.608621  0.471848   \n",
       "0   None  0.637548  0.486681   \n",
       "0   None  0.638314  0.507621   \n",
       "0   None  0.648276  0.519003   \n",
       "\n",
       "                                            f1_scores  precision  \\\n",
       "0   [0.7639760618887753, 0.4242424242424242, 0.338...   0.507388   \n",
       "0   [0.7607196401799101, 0.43474540008557977, 0.34...   0.507800   \n",
       "0   [0.7487775061124694, 0.4594807238394965, 0.342...   0.507188   \n",
       "0   [0.7368264806293604, 0.37138389366692726, 0.28...   0.462382   \n",
       "0   [0.7565293093441672, 0.37725701114099114, 0.26...   0.477892   \n",
       "..                                                ...        ...   \n",
       "0   [0.7692972350230415, 0.38879456706281834, 0.31...   0.488852   \n",
       "0   [0.7453325554259044, 0.3671811535337124, 0.303...   0.470239   \n",
       "0   [0.7714041095890412, 0.4019055868341273, 0.286...   0.488453   \n",
       "0   [0.7690036900369003, 0.4336569579288026, 0.320...   0.502597   \n",
       "0   [0.7788125727590222, 0.41987466427931963, 0.35...   0.515861   \n",
       "\n",
       "                                     precision_scores    recall  \\\n",
       "0   [0.7712938402593575, 0.4694694694694695, 0.281...  0.522465   \n",
       "0   [0.7898505603985057, 0.45155555555555554, 0.28...  0.535177   \n",
       "0   [0.7939079714841218, 0.43909774436090226, 0.28...  0.537389   \n",
       "0   [0.7569380908813663, 0.35289747399702825, 0.27...  0.469890   \n",
       "0   [0.7591729761211415, 0.35298346513299783, 0.32...  0.463310   \n",
       "..                                                ...       ...   \n",
       "0      [0.7662076878944348, 0.40034965034965037, 0.3]  0.490706   \n",
       "0    [0.7519128899352561, 0.3616, 0.2972027972027972]  0.473632   \n",
       "0   [0.7614084507042254, 0.422971741112124, 0.2809...  0.485744   \n",
       "0   [0.7853482062104311, 0.4253968253968254, 0.297...  0.514281   \n",
       "0   [0.7838312829525483, 0.4589041095890411, 0.304...  0.531789   \n",
       "\n",
       "                                        recall_scores valid_loss  \\\n",
       "0   [0.7567958357432042, 0.38696369636963696, 0.42...       None   \n",
       "0   [0.7336610757663389, 0.41914191419141916, 0.45...       None   \n",
       "0   [0.708502024291498, 0.48184818481848185, 0.421...       None   \n",
       "0       [0.7177559282822441, 0.3919141914191419, 0.3]       None   \n",
       "0   [0.753903990746096, 0.4051155115511551, 0.2309...       None   \n",
       "..                                                ...        ...   \n",
       "0   [0.7724117987275883, 0.3778877887788779, 0.321...       None   \n",
       "0   [0.7388663967611336, 0.37293729372937295, 0.30...       None   \n",
       "0   [0.7816657027183342, 0.38283828382838286, 0.29...       None   \n",
       "0   [0.7533256217466744, 0.44224422442244227, 0.34...       None   \n",
       "0   [0.7738577212261423, 0.38696369636963696, 0.43...       None   \n",
       "\n",
       "    valid_accuracy  ...  seed loss_function  gamma k_fold  n_splits  \\\n",
       "0         0.675819  ...     1         focal      2   True         5   \n",
       "0         0.654143  ...    12         focal      2   True         5   \n",
       "0         0.657836  ...   123         focal      2   True         5   \n",
       "0         0.693802  ...     1         focal      2   True         5   \n",
       "0         0.694605  ...    12         focal      2   True         5   \n",
       "..             ...  ...   ...           ...    ...    ...       ...   \n",
       "0         0.693642  ...    12         focal      2   True         5   \n",
       "0         0.699101  ...   123         focal      2   True         5   \n",
       "0         0.672768  ...     1         focal      2   True         5   \n",
       "0         0.666988  ...    12         focal      2   True         5   \n",
       "0         0.670681  ...   123         focal      2   True         5   \n",
       "\n",
       "   augmentation_type  hidden_dim_aug    comb_method  batch_size  model_id  \n",
       "0             Conv1d            None  concatenation          64         0  \n",
       "0             Conv1d            None  concatenation          64         0  \n",
       "0             Conv1d            None  concatenation          64         0  \n",
       "0             Conv1d            None  concatenation          64         1  \n",
       "0             Conv1d            None  concatenation          64         1  \n",
       "..               ...             ...            ...         ...       ...  \n",
       "0             Conv1d            None  concatenation          64        22  \n",
       "0             Conv1d            None  concatenation          64        22  \n",
       "0             Conv1d            None  concatenation          64        23  \n",
       "0             Conv1d            None  concatenation          64        23  \n",
       "0             Conv1d            None  concatenation          64        23  \n",
       "\n",
       "[72 rows x 47 columns]"
      ]
     },
     "execution_count": 30,
     "metadata": {},
     "output_type": "execute_result"
    }
   ],
   "source": [
    "seqsignet_attention_mha_grp_kfold_110"
   ]
  },
  {
   "cell_type": "code",
   "execution_count": 31,
   "id": "23639eef-74d3-497b-8cdb-fda370f1e3ee",
   "metadata": {},
   "outputs": [
    {
     "data": {
      "text/plain": [
       "0.5012734570184637"
      ]
     },
     "execution_count": 31,
     "metadata": {},
     "output_type": "execute_result"
    }
   ],
   "source": [
    "best_seqsignet_attention_mha_grp_kfold_110[\"f1\"].mean()"
   ]
  },
  {
   "cell_type": "code",
   "execution_count": 32,
   "id": "00e2b934-acb2-4667-a90a-744d3926faba",
   "metadata": {},
   "outputs": [
    {
     "data": {
      "text/plain": [
       "0.49600739458541393"
      ]
     },
     "execution_count": 32,
     "metadata": {},
     "output_type": "execute_result"
    }
   ],
   "source": [
    "best_seqsignet_attention_mha_grp_kfold_110[\"precision\"].mean()"
   ]
  },
  {
   "cell_type": "code",
   "execution_count": 33,
   "id": "222ad090-3776-4d06-9b33-b094b7ad1aae",
   "metadata": {},
   "outputs": [
    {
     "data": {
      "text/plain": [
       "0.5104409000761269"
      ]
     },
     "execution_count": 33,
     "metadata": {},
     "output_type": "execute_result"
    }
   ],
   "source": [
    "best_seqsignet_attention_mha_grp_kfold_110[\"recall\"].mean()"
   ]
  },
  {
   "cell_type": "code",
   "execution_count": 34,
   "id": "c9816f4e-9f8f-45f1-857e-414794aba8b5",
   "metadata": {},
   "outputs": [
    {
     "data": {
      "text/plain": [
       "array([0.74955195, 0.42238012, 0.3318883 ])"
      ]
     },
     "execution_count": 34,
     "metadata": {},
     "output_type": "execute_result"
    }
   ],
   "source": [
    "np.stack(best_seqsignet_attention_mha_grp_kfold_110[\"f1_scores\"]).mean(axis=0)"
   ]
  },
  {
   "cell_type": "code",
   "execution_count": 35,
   "id": "cebb0e47-e3df-4d39-82e2-86952711b19d",
   "metadata": {},
   "outputs": [
    {
     "data": {
      "text/plain": [
       "array([0.77881209, 0.39856527, 0.31064482])"
      ]
     },
     "execution_count": 35,
     "metadata": {},
     "output_type": "execute_result"
    }
   ],
   "source": [
    "np.stack(best_seqsignet_attention_mha_grp_kfold_110[\"precision_scores\"]).mean(axis=0)"
   ]
  },
  {
   "cell_type": "code",
   "execution_count": 36,
   "id": "61ed5e83-647d-4b51-86f1-850de4661d57",
   "metadata": {},
   "outputs": [
    {
     "data": {
      "text/plain": [
       "array([0.72286485, 0.44966997, 0.35878788])"
      ]
     },
     "execution_count": 36,
     "metadata": {},
     "output_type": "execute_result"
    }
   ],
   "source": [
    "np.stack(best_seqsignet_attention_mha_grp_kfold_110[\"recall_scores\"]).mean(axis=0)"
   ]
  }
 ],
 "metadata": {
  "kernelspec": {
   "display_name": "nlpsig-networks (Conda)",
   "language": "python",
   "name": "sys_nlpsig-networks"
  },
  "language_info": {
   "codemirror_mode": {
    "name": "ipython",
    "version": 3
   },
   "file_extension": ".py",
   "mimetype": "text/x-python",
   "name": "python",
   "nbconvert_exporter": "python",
   "pygments_lexer": "ipython3",
   "version": "3.8.17"
  }
 },
 "nbformat": 4,
 "nbformat_minor": 5
}
