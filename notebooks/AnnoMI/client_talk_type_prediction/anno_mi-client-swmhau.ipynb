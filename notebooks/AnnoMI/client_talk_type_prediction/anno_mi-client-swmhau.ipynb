{
 "cells": [
  {
   "cell_type": "code",
   "execution_count": 1,
   "id": "a983a5e8",
   "metadata": {},
   "outputs": [],
   "source": [
    "import numpy as np\n",
    "import pickle\n",
    "import os\n",
    "\n",
    "seed = 2023"
   ]
  },
  {
   "cell_type": "code",
   "execution_count": 2,
   "id": "e4e666cc",
   "metadata": {},
   "outputs": [],
   "source": [
    "from nlpsig_networks.scripts.swmhau_network_functions import (\n",
    "    swmhau_network_hyperparameter_search\n",
    ")"
   ]
  },
  {
   "cell_type": "code",
   "execution_count": 3,
   "id": "6e918dde",
   "metadata": {},
   "outputs": [],
   "source": [
    "output_dir = \"client_talk_type_output\"\n",
    "if not os.path.isdir(output_dir):\n",
    "    os.makedirs(output_dir)"
   ]
  },
  {
   "cell_type": "markdown",
   "id": "f7409a03",
   "metadata": {},
   "source": [
    "## AnnoMI"
   ]
  },
  {
   "cell_type": "code",
   "execution_count": 4,
   "id": "f00bb922",
   "metadata": {},
   "outputs": [],
   "source": [
    "%run ../load_anno_mi.py"
   ]
  },
  {
   "cell_type": "code",
   "execution_count": 5,
   "id": "720d820f",
   "metadata": {},
   "outputs": [
    {
     "data": {
      "text/html": [
       "<div>\n",
       "<style scoped>\n",
       "    .dataframe tbody tr th:only-of-type {\n",
       "        vertical-align: middle;\n",
       "    }\n",
       "\n",
       "    .dataframe tbody tr th {\n",
       "        vertical-align: top;\n",
       "    }\n",
       "\n",
       "    .dataframe thead th {\n",
       "        text-align: right;\n",
       "    }\n",
       "</style>\n",
       "<table border=\"1\" class=\"dataframe\">\n",
       "  <thead>\n",
       "    <tr style=\"text-align: right;\">\n",
       "      <th></th>\n",
       "      <th>mi_quality</th>\n",
       "      <th>transcript_id</th>\n",
       "      <th>topic</th>\n",
       "      <th>utterance_id</th>\n",
       "      <th>interlocutor</th>\n",
       "      <th>timestamp</th>\n",
       "      <th>utterance_text</th>\n",
       "      <th>annotator_id</th>\n",
       "      <th>therapist_input_exists</th>\n",
       "      <th>therapist_input_subtype</th>\n",
       "      <th>reflection_exists</th>\n",
       "      <th>reflection_subtype</th>\n",
       "      <th>question_exists</th>\n",
       "      <th>question_subtype</th>\n",
       "      <th>main_therapist_behaviour</th>\n",
       "      <th>client_talk_type</th>\n",
       "      <th>datetime</th>\n",
       "    </tr>\n",
       "  </thead>\n",
       "  <tbody>\n",
       "    <tr>\n",
       "      <th>0</th>\n",
       "      <td>high</td>\n",
       "      <td>0</td>\n",
       "      <td>reducing alcohol consumption</td>\n",
       "      <td>0</td>\n",
       "      <td>therapist</td>\n",
       "      <td>00:00:13</td>\n",
       "      <td>Thanks for filling it out. We give this form t...</td>\n",
       "      <td>3</td>\n",
       "      <td>False</td>\n",
       "      <td>NaN</td>\n",
       "      <td>False</td>\n",
       "      <td>NaN</td>\n",
       "      <td>True</td>\n",
       "      <td>open</td>\n",
       "      <td>question</td>\n",
       "      <td>NaN</td>\n",
       "      <td>2023-08-30 00:00:13</td>\n",
       "    </tr>\n",
       "    <tr>\n",
       "      <th>1</th>\n",
       "      <td>high</td>\n",
       "      <td>0</td>\n",
       "      <td>reducing alcohol consumption</td>\n",
       "      <td>1</td>\n",
       "      <td>client</td>\n",
       "      <td>00:00:24</td>\n",
       "      <td>Sure.</td>\n",
       "      <td>3</td>\n",
       "      <td>NaN</td>\n",
       "      <td>NaN</td>\n",
       "      <td>NaN</td>\n",
       "      <td>NaN</td>\n",
       "      <td>NaN</td>\n",
       "      <td>NaN</td>\n",
       "      <td>NaN</td>\n",
       "      <td>neutral</td>\n",
       "      <td>2023-08-30 00:00:24</td>\n",
       "    </tr>\n",
       "    <tr>\n",
       "      <th>2</th>\n",
       "      <td>high</td>\n",
       "      <td>0</td>\n",
       "      <td>reducing alcohol consumption</td>\n",
       "      <td>2</td>\n",
       "      <td>therapist</td>\n",
       "      <td>00:00:25</td>\n",
       "      <td>So, let's see. It looks that you put-- You dri...</td>\n",
       "      <td>3</td>\n",
       "      <td>True</td>\n",
       "      <td>information</td>\n",
       "      <td>False</td>\n",
       "      <td>NaN</td>\n",
       "      <td>False</td>\n",
       "      <td>NaN</td>\n",
       "      <td>therapist_input</td>\n",
       "      <td>NaN</td>\n",
       "      <td>2023-08-30 00:00:25</td>\n",
       "    </tr>\n",
       "    <tr>\n",
       "      <th>3</th>\n",
       "      <td>high</td>\n",
       "      <td>0</td>\n",
       "      <td>reducing alcohol consumption</td>\n",
       "      <td>3</td>\n",
       "      <td>client</td>\n",
       "      <td>00:00:34</td>\n",
       "      <td>Mm-hmm.</td>\n",
       "      <td>3</td>\n",
       "      <td>NaN</td>\n",
       "      <td>NaN</td>\n",
       "      <td>NaN</td>\n",
       "      <td>NaN</td>\n",
       "      <td>NaN</td>\n",
       "      <td>NaN</td>\n",
       "      <td>NaN</td>\n",
       "      <td>neutral</td>\n",
       "      <td>2023-08-30 00:00:34</td>\n",
       "    </tr>\n",
       "    <tr>\n",
       "      <th>4</th>\n",
       "      <td>high</td>\n",
       "      <td>0</td>\n",
       "      <td>reducing alcohol consumption</td>\n",
       "      <td>4</td>\n",
       "      <td>therapist</td>\n",
       "      <td>00:00:34</td>\n",
       "      <td>-and you usually have three to four drinks whe...</td>\n",
       "      <td>3</td>\n",
       "      <td>True</td>\n",
       "      <td>information</td>\n",
       "      <td>False</td>\n",
       "      <td>NaN</td>\n",
       "      <td>False</td>\n",
       "      <td>NaN</td>\n",
       "      <td>therapist_input</td>\n",
       "      <td>NaN</td>\n",
       "      <td>2023-08-30 00:00:34</td>\n",
       "    </tr>\n",
       "  </tbody>\n",
       "</table>\n",
       "</div>"
      ],
      "text/plain": [
       "  mi_quality  transcript_id                         topic  utterance_id  \\\n",
       "0       high              0  reducing alcohol consumption             0   \n",
       "1       high              0  reducing alcohol consumption             1   \n",
       "2       high              0  reducing alcohol consumption             2   \n",
       "3       high              0  reducing alcohol consumption             3   \n",
       "4       high              0  reducing alcohol consumption             4   \n",
       "\n",
       "  interlocutor timestamp                                     utterance_text  \\\n",
       "0    therapist  00:00:13  Thanks for filling it out. We give this form t...   \n",
       "1       client  00:00:24                                              Sure.   \n",
       "2    therapist  00:00:25  So, let's see. It looks that you put-- You dri...   \n",
       "3       client  00:00:34                                            Mm-hmm.   \n",
       "4    therapist  00:00:34  -and you usually have three to four drinks whe...   \n",
       "\n",
       "   annotator_id therapist_input_exists therapist_input_subtype  \\\n",
       "0             3                  False                     NaN   \n",
       "1             3                    NaN                     NaN   \n",
       "2             3                   True             information   \n",
       "3             3                    NaN                     NaN   \n",
       "4             3                   True             information   \n",
       "\n",
       "  reflection_exists reflection_subtype question_exists question_subtype  \\\n",
       "0             False                NaN            True             open   \n",
       "1               NaN                NaN             NaN              NaN   \n",
       "2             False                NaN           False              NaN   \n",
       "3               NaN                NaN             NaN              NaN   \n",
       "4             False                NaN           False              NaN   \n",
       "\n",
       "  main_therapist_behaviour client_talk_type            datetime  \n",
       "0                 question              NaN 2023-08-30 00:00:13  \n",
       "1                      NaN          neutral 2023-08-30 00:00:24  \n",
       "2          therapist_input              NaN 2023-08-30 00:00:25  \n",
       "3                      NaN          neutral 2023-08-30 00:00:34  \n",
       "4          therapist_input              NaN 2023-08-30 00:00:34  "
      ]
     },
     "execution_count": 5,
     "metadata": {},
     "output_type": "execute_result"
    }
   ],
   "source": [
    "anno_mi.head()"
   ]
  },
  {
   "cell_type": "code",
   "execution_count": 6,
   "id": "84d5594d",
   "metadata": {},
   "outputs": [
    {
     "data": {
      "text/plain": [
       "(9699, 384)"
      ]
     },
     "execution_count": 6,
     "metadata": {},
     "output_type": "execute_result"
    }
   ],
   "source": [
    "with open(\"../anno_mi_sbert.pkl\", \"rb\") as f:\n",
    "    sbert_embeddings = pickle.load(f)\n",
    "    \n",
    "sbert_embeddings.shape"
   ]
  },
  {
   "cell_type": "markdown",
   "id": "da4ff92d",
   "metadata": {},
   "source": [
    "# swmhau Network"
   ]
  },
  {
   "cell_type": "markdown",
   "id": "32ae1a72",
   "metadata": {},
   "source": [
    "## Obtaining path by looking at post history\n",
    "\n",
    "We can obtain a path by looking at the history of each post. Here we look at the last 10 posts (and pad with vectors of zeros if there are less than 10 posts) including the current post.\n",
    "\n",
    "We only want to consider paths that correspond to a client's utterance as we want to model a change in mood at that time. Their history will still contain the therapist's utterances too."
   ]
  },
  {
   "cell_type": "code",
   "execution_count": 7,
   "id": "90bfd87c",
   "metadata": {},
   "outputs": [],
   "source": [
    "features = [\"timeline_index\"]\n",
    "standardise_method = [None]\n",
    "include_features_in_path = True"
   ]
  },
  {
   "cell_type": "code",
   "execution_count": 8,
   "id": "9e9bee3b",
   "metadata": {},
   "outputs": [],
   "source": [
    "num_epochs = 100\n",
    "dimensions = [15] # [50, 15]\n",
    "# define swmhau parameters: (output_channels, sig_depth, num_heads)\n",
    "swmhau_parameters = [(12, 3, 10), (8, 4, 6), (8, 4, 12)]\n",
    "num_layers = [1]\n",
    "ffn_hidden_dim_sizes = [[128,128],[256,256],[512,512]]\n",
    "dropout_rates = [0.5, 0.1]\n",
    "learning_rates = [1e-3, 1e-4, 5e-4]\n",
    "seeds = [1, 12, 123]\n",
    "loss = \"focal\"\n",
    "gamma = 2\n",
    "validation_metric = \"f1\"\n",
    "patience = 5"
   ]
  },
  {
   "cell_type": "markdown",
   "id": "89a4bcc6-f9e4-4763-9bdf-b21003d5d257",
   "metadata": {},
   "source": [
    "## UMAP"
   ]
  },
  {
   "cell_type": "code",
   "execution_count": 9,
   "id": "3739e09a",
   "metadata": {},
   "outputs": [
    {
     "data": {
      "application/vnd.jupyter.widget-view+json": {
       "model_id": "0d2b2ca81dc24bb799a094bf6ba4e6cc",
       "version_major": 2,
       "version_minor": 0
      },
      "text/plain": [
       "  0%|          | 0/1 [00:00<?, ?it/s]"
      ]
     },
     "metadata": {},
     "output_type": "display_data"
    },
    {
     "data": {
      "application/vnd.jupyter.widget-view+json": {
       "model_id": "6f651272a78b483c97fb6197163f3e5c",
       "version_major": 2,
       "version_minor": 0
      },
      "text/plain": [
       "  0%|          | 0/1 [00:00<?, ?it/s]"
      ]
     },
     "metadata": {},
     "output_type": "display_data"
    },
    {
     "data": {
      "application/vnd.jupyter.widget-view+json": {
       "model_id": "b72f3545a3c441f9a4bd5f2641152ca1",
       "version_major": 2,
       "version_minor": 0
      },
      "text/plain": [
       "  0%|          | 0/1 [00:00<?, ?it/s]"
      ]
     },
     "metadata": {},
     "output_type": "display_data"
    },
    {
     "name": "stdout",
     "output_type": "stream",
     "text": [
      "\n",
      "##################################################\n",
      "dimension: 15 | method: umap\n",
      "[INFO] Concatenating the embeddings to the dataframe...\n",
      "[INFO] - columns beginning with 'e' denote the full embddings.\n",
      "[INFO] - columns beginning with 'd' denote the dimension reduced embeddings.\n",
      "[INFO] Adding time feature columns into dataframe in `.df`.\n",
      "[INFO] Adding 'time_encoding' feature...\n",
      "[INFO] Adding 'time_diff' feature...\n",
      "[INFO] Adding 'timeline_index' feature...\n",
      "[INFO] Padding ids and storing in `.df_padded` and `.array_padded` attributes.\n"
     ]
    },
    {
     "data": {
      "application/vnd.jupyter.widget-view+json": {
       "model_id": "bde6f5d4b06e4b74b1c29163ecb5a32a",
       "version_major": 2,
       "version_minor": 0
      },
      "text/plain": [
       "  0%|          | 0/9699 [00:00<?, ?it/s]"
      ]
     },
     "metadata": {},
     "output_type": "display_data"
    },
    {
     "name": "stdout",
     "output_type": "stream",
     "text": [
      "[INFO] The path was created for each item in the dataframe, by looking at its history, so to include embeddings in the FFN input, we concatenate the embeddings for each sentence / text.\n"
     ]
    },
    {
     "data": {
      "application/vnd.jupyter.widget-view+json": {
       "model_id": "03735f6b55704abc963a7f8f19ddd184",
       "version_major": 2,
       "version_minor": 0
      },
      "text/plain": [
       "  0%|          | 0/3 [00:00<?, ?it/s]"
      ]
     },
     "metadata": {},
     "output_type": "display_data"
    },
    {
     "data": {
      "application/vnd.jupyter.widget-view+json": {
       "model_id": "0b43906a236b4c0aba84a968a3c43638",
       "version_major": 2,
       "version_minor": 0
      },
      "text/plain": [
       "  0%|          | 0/1 [00:00<?, ?it/s]"
      ]
     },
     "metadata": {},
     "output_type": "display_data"
    },
    {
     "data": {
      "application/vnd.jupyter.widget-view+json": {
       "model_id": "ffd970c2531e4666b9b01b4a883d7c12",
       "version_major": 2,
       "version_minor": 0
      },
      "text/plain": [
       "  0%|          | 0/2 [00:00<?, ?it/s]"
      ]
     },
     "metadata": {},
     "output_type": "display_data"
    },
    {
     "data": {
      "application/vnd.jupyter.widget-view+json": {
       "model_id": "9d1bc49cb9c0411eb959998c0d717107",
       "version_major": 2,
       "version_minor": 0
      },
      "text/plain": [
       "  0%|          | 0/2 [00:00<?, ?it/s]"
      ]
     },
     "metadata": {},
     "output_type": "display_data"
    },
    {
     "data": {
      "application/vnd.jupyter.widget-view+json": {
       "model_id": "ffe62aa320fd4c859c88d3cba2580560",
       "version_major": 2,
       "version_minor": 0
      },
      "text/plain": [
       "  0%|          | 0/3 [00:00<?, ?it/s]"
      ]
     },
     "metadata": {},
     "output_type": "display_data"
    },
    {
     "data": {
      "application/vnd.jupyter.widget-view+json": {
       "model_id": "3be9aebcb48a44f68e206a827a3ab9cd",
       "version_major": 2,
       "version_minor": 0
      },
      "text/plain": [
       "  0%|          | 0/3 [00:00<?, ?it/s]"
      ]
     },
     "metadata": {},
     "output_type": "display_data"
    },
    {
     "data": {
      "application/vnd.jupyter.widget-view+json": {
       "model_id": "fa5ede504b8440edbe97081bfb528830",
       "version_major": 2,
       "version_minor": 0
      },
      "text/plain": [
       "  0%|          | 0/2 [00:00<?, ?it/s]"
      ]
     },
     "metadata": {},
     "output_type": "display_data"
    },
    {
     "data": {
      "application/vnd.jupyter.widget-view+json": {
       "model_id": "a810f18b1ef04406b37267663292a93e",
       "version_major": 2,
       "version_minor": 0
      },
      "text/plain": [
       "  0%|          | 0/3 [00:00<?, ?it/s]"
      ]
     },
     "metadata": {},
     "output_type": "display_data"
    },
    {
     "data": {
      "application/vnd.jupyter.widget-view+json": {
       "model_id": "da1c9445f2664df785bdc203f1ef6045",
       "version_major": 2,
       "version_minor": 0
      },
      "text/plain": [
       "  0%|          | 0/3 [00:00<?, ?it/s]"
      ]
     },
     "metadata": {},
     "output_type": "display_data"
    },
    {
     "data": {
      "application/vnd.jupyter.widget-view+json": {
       "model_id": "b46a648d5c0b41938ad4e52db064d694",
       "version_major": 2,
       "version_minor": 0
      },
      "text/plain": [
       "  0%|          | 0/1 [00:00<?, ?it/s]"
      ]
     },
     "metadata": {},
     "output_type": "display_data"
    },
    {
     "data": {
      "application/vnd.jupyter.widget-view+json": {
       "model_id": "899875487ec1459aafca7d330f20cebe",
       "version_major": 2,
       "version_minor": 0
      },
      "text/plain": [
       "  0%|          | 0/2 [00:00<?, ?it/s]"
      ]
     },
     "metadata": {},
     "output_type": "display_data"
    },
    {
     "data": {
      "application/vnd.jupyter.widget-view+json": {
       "model_id": "fe659b3363204d9983f73b8ead78878b",
       "version_major": 2,
       "version_minor": 0
      },
      "text/plain": [
       "  0%|          | 0/2 [00:00<?, ?it/s]"
      ]
     },
     "metadata": {},
     "output_type": "display_data"
    },
    {
     "data": {
      "application/vnd.jupyter.widget-view+json": {
       "model_id": "cde3f71fdef040bebe3f344cdf755446",
       "version_major": 2,
       "version_minor": 0
      },
      "text/plain": [
       "  0%|          | 0/3 [00:00<?, ?it/s]"
      ]
     },
     "metadata": {},
     "output_type": "display_data"
    },
    {
     "data": {
      "application/vnd.jupyter.widget-view+json": {
       "model_id": "dcb01e7600854523974f45445e491556",
       "version_major": 2,
       "version_minor": 0
      },
      "text/plain": [
       "  0%|          | 0/3 [00:00<?, ?it/s]"
      ]
     },
     "metadata": {},
     "output_type": "display_data"
    },
    {
     "data": {
      "application/vnd.jupyter.widget-view+json": {
       "model_id": "30000ce8e4e5453891b9d52ed35e2022",
       "version_major": 2,
       "version_minor": 0
      },
      "text/plain": [
       "  0%|          | 0/2 [00:00<?, ?it/s]"
      ]
     },
     "metadata": {},
     "output_type": "display_data"
    },
    {
     "data": {
      "application/vnd.jupyter.widget-view+json": {
       "model_id": "a6935f1086b0488ba0a749db79edf89a",
       "version_major": 2,
       "version_minor": 0
      },
      "text/plain": [
       "  0%|          | 0/3 [00:00<?, ?it/s]"
      ]
     },
     "metadata": {},
     "output_type": "display_data"
    },
    {
     "data": {
      "application/vnd.jupyter.widget-view+json": {
       "model_id": "e12476ada7a04398ba5bb5f050c3e31e",
       "version_major": 2,
       "version_minor": 0
      },
      "text/plain": [
       "  0%|          | 0/3 [00:00<?, ?it/s]"
      ]
     },
     "metadata": {},
     "output_type": "display_data"
    },
    {
     "data": {
      "application/vnd.jupyter.widget-view+json": {
       "model_id": "f6b056bfa63643f2a91af7d421bd6160",
       "version_major": 2,
       "version_minor": 0
      },
      "text/plain": [
       "  0%|          | 0/1 [00:00<?, ?it/s]"
      ]
     },
     "metadata": {},
     "output_type": "display_data"
    },
    {
     "data": {
      "application/vnd.jupyter.widget-view+json": {
       "model_id": "f489bbb2a5d04b29a790b802684c613c",
       "version_major": 2,
       "version_minor": 0
      },
      "text/plain": [
       "  0%|          | 0/2 [00:00<?, ?it/s]"
      ]
     },
     "metadata": {},
     "output_type": "display_data"
    },
    {
     "data": {
      "application/vnd.jupyter.widget-view+json": {
       "model_id": "d1898ddfc5ec48b0ac25e11d316af7fd",
       "version_major": 2,
       "version_minor": 0
      },
      "text/plain": [
       "  0%|          | 0/2 [00:00<?, ?it/s]"
      ]
     },
     "metadata": {},
     "output_type": "display_data"
    },
    {
     "data": {
      "application/vnd.jupyter.widget-view+json": {
       "model_id": "2754a4f4f4264f4092aef7dff947b8b0",
       "version_major": 2,
       "version_minor": 0
      },
      "text/plain": [
       "  0%|          | 0/3 [00:00<?, ?it/s]"
      ]
     },
     "metadata": {},
     "output_type": "display_data"
    },
    {
     "data": {
      "application/vnd.jupyter.widget-view+json": {
       "model_id": "ab873997797442deb047f7f86b6ae90a",
       "version_major": 2,
       "version_minor": 0
      },
      "text/plain": [
       "  0%|          | 0/3 [00:00<?, ?it/s]"
      ]
     },
     "metadata": {},
     "output_type": "display_data"
    },
    {
     "data": {
      "application/vnd.jupyter.widget-view+json": {
       "model_id": "e799a109264b472f852597e4cbd2d12f",
       "version_major": 2,
       "version_minor": 0
      },
      "text/plain": [
       "  0%|          | 0/2 [00:00<?, ?it/s]"
      ]
     },
     "metadata": {},
     "output_type": "display_data"
    },
    {
     "data": {
      "application/vnd.jupyter.widget-view+json": {
       "model_id": "307c7ae41b3448b7b3db3c26b0c72513",
       "version_major": 2,
       "version_minor": 0
      },
      "text/plain": [
       "  0%|          | 0/3 [00:00<?, ?it/s]"
      ]
     },
     "metadata": {},
     "output_type": "display_data"
    },
    {
     "data": {
      "application/vnd.jupyter.widget-view+json": {
       "model_id": "a9ffe291d0ba470782741e3a7eff5b74",
       "version_major": 2,
       "version_minor": 0
      },
      "text/plain": [
       "  0%|          | 0/3 [00:00<?, ?it/s]"
      ]
     },
     "metadata": {},
     "output_type": "display_data"
    },
    {
     "name": "stdout",
     "output_type": "stream",
     "text": [
      "[INFO] Concatenating the embeddings to the dataframe...\n",
      "[INFO] - columns beginning with 'e' denote the full embddings.\n",
      "[INFO] - columns beginning with 'd' denote the dimension reduced embeddings.\n",
      "[INFO] Adding time feature columns into dataframe in `.df`.\n",
      "[INFO] Adding 'time_encoding' feature...\n",
      "[INFO] Adding 'time_diff' feature...\n",
      "[INFO] Adding 'timeline_index' feature...\n",
      "[INFO] Padding ids and storing in `.df_padded` and `.array_padded` attributes.\n"
     ]
    },
    {
     "data": {
      "application/vnd.jupyter.widget-view+json": {
       "model_id": "11ba7c50580d4bb382d7642cda1c1094",
       "version_major": 2,
       "version_minor": 0
      },
      "text/plain": [
       "  0%|          | 0/9699 [00:00<?, ?it/s]"
      ]
     },
     "metadata": {},
     "output_type": "display_data"
    },
    {
     "name": "stdout",
     "output_type": "stream",
     "text": [
      "[INFO] The path was created for each item in the dataframe, by looking at its history, so to include embeddings in the FFN input, we concatenate the embeddings for each sentence / text.\n",
      "saving results dataframe to CSV for this hyperparameter search in client_talk_type_output/swmhau_network_umap_focal_2_20_kfold.csv\n",
      "saving the best model results dataframe to CSV for this hyperparameter search in client_talk_type_output/swmhau_network_umap_focal_2_20_kfold_best_model.csv\n"
     ]
    }
   ],
   "source": [
    "size = 20\n",
    "swmhau_network_umap_kfold_20, best_swmhau_network_umap_kfold_20, _, __ = swmhau_network_hyperparameter_search(\n",
    "    num_epochs=num_epochs,\n",
    "    df=anno_mi,\n",
    "    id_column=\"transcript_id\",\n",
    "    label_column=\"client_talk_type\",\n",
    "    embeddings=sbert_embeddings,\n",
    "    y_data=y_data_client,\n",
    "    output_dim=output_dim_client,\n",
    "    history_lengths=[size],\n",
    "    dim_reduce_methods=[\"umap\"],\n",
    "    dimensions=dimensions,\n",
    "    log_signature=True,\n",
    "    swmhau_parameters=swmhau_parameters,\n",
    "    num_layers=num_layers,\n",
    "    ffn_hidden_dim_sizes=ffn_hidden_dim_sizes,\n",
    "    dropout_rates=dropout_rates,\n",
    "    learning_rates=learning_rates,\n",
    "    seeds=seeds,\n",
    "    loss=loss,\n",
    "    gamma=gamma,\n",
    "    features=features,\n",
    "    standardise_method=standardise_method,\n",
    "    include_features_in_path=include_features_in_path,\n",
    "    path_indices=client_index,\n",
    "    k_fold=True,\n",
    "    patience=patience,\n",
    "    validation_metric=validation_metric,\n",
    "    results_output=f\"{output_dir}/swmhau_network_umap_focal_{gamma}_{size}_kfold.csv\",\n",
    "    verbose=False\n",
    ")"
   ]
  },
  {
   "cell_type": "code",
   "execution_count": 10,
   "id": "db912cd7-e74a-4893-987b-037b69c1fec8",
   "metadata": {},
   "outputs": [
    {
     "name": "stderr",
     "output_type": "stream",
     "text": [
      "/tmp/ipykernel_3280226/767646728.py:1: FutureWarning: The default value of numeric_only in DataFrameGroupBy.mean is deprecated. In a future version, numeric_only will default to False. Either specify numeric_only or select only columns which should be valid for the function.\n",
      "  swmhau_network_umap_kfold_20.groupby([\"dimensions\",\n"
     ]
    },
    {
     "data": {
      "text/html": [
       "<div>\n",
       "<style scoped>\n",
       "    .dataframe tbody tr th:only-of-type {\n",
       "        vertical-align: middle;\n",
       "    }\n",
       "\n",
       "    .dataframe tbody tr th {\n",
       "        vertical-align: top;\n",
       "    }\n",
       "\n",
       "    .dataframe thead th {\n",
       "        text-align: right;\n",
       "    }\n",
       "</style>\n",
       "<table border=\"1\" class=\"dataframe\">\n",
       "  <thead>\n",
       "    <tr style=\"text-align: right;\">\n",
       "      <th></th>\n",
       "      <th></th>\n",
       "      <th></th>\n",
       "      <th></th>\n",
       "      <th></th>\n",
       "      <th></th>\n",
       "      <th></th>\n",
       "      <th>accuracy</th>\n",
       "      <th>f1</th>\n",
       "      <th>precision</th>\n",
       "      <th>recall</th>\n",
       "      <th>valid_accuracy</th>\n",
       "      <th>valid_f1</th>\n",
       "      <th>valid_precision</th>\n",
       "      <th>valid_recall</th>\n",
       "      <th>k</th>\n",
       "      <th>input_channels</th>\n",
       "      <th>...</th>\n",
       "      <th>embedding_dim</th>\n",
       "      <th>num_features</th>\n",
       "      <th>log_signature</th>\n",
       "      <th>dropout_rate</th>\n",
       "      <th>seed</th>\n",
       "      <th>gamma</th>\n",
       "      <th>k_fold</th>\n",
       "      <th>n_splits</th>\n",
       "      <th>batch_size</th>\n",
       "      <th>model_id</th>\n",
       "    </tr>\n",
       "    <tr>\n",
       "      <th>dimensions</th>\n",
       "      <th>output_channels</th>\n",
       "      <th>sig_depth</th>\n",
       "      <th>num_heads</th>\n",
       "      <th>num_layers</th>\n",
       "      <th>ffn_hidden_dim</th>\n",
       "      <th>learning_rate</th>\n",
       "      <th></th>\n",
       "      <th></th>\n",
       "      <th></th>\n",
       "      <th></th>\n",
       "      <th></th>\n",
       "      <th></th>\n",
       "      <th></th>\n",
       "      <th></th>\n",
       "      <th></th>\n",
       "      <th></th>\n",
       "      <th></th>\n",
       "      <th></th>\n",
       "      <th></th>\n",
       "      <th></th>\n",
       "      <th></th>\n",
       "      <th></th>\n",
       "      <th></th>\n",
       "      <th></th>\n",
       "      <th></th>\n",
       "      <th></th>\n",
       "      <th></th>\n",
       "    </tr>\n",
       "  </thead>\n",
       "  <tbody>\n",
       "    <tr>\n",
       "      <th rowspan=\"18\" valign=\"top\">15</th>\n",
       "      <th rowspan=\"12\" valign=\"top\">8</th>\n",
       "      <th rowspan=\"12\" valign=\"top\">4</th>\n",
       "      <th rowspan=\"6\" valign=\"top\">6</th>\n",
       "      <th rowspan=\"6\" valign=\"top\">1</th>\n",
       "      <th rowspan=\"3\" valign=\"top\">(256, 256)</th>\n",
       "      <th>0.0001</th>\n",
       "      <td>0.626842</td>\n",
       "      <td>0.416762</td>\n",
       "      <td>0.469544</td>\n",
       "      <td>0.413642</td>\n",
       "      <td>0.631158</td>\n",
       "      <td>0.427250</td>\n",
       "      <td>0.479681</td>\n",
       "      <td>0.422077</td>\n",
       "      <td>20.0</td>\n",
       "      <td>16.0</td>\n",
       "      <td>...</td>\n",
       "      <td>384.0</td>\n",
       "      <td>1.0</td>\n",
       "      <td>1.0</td>\n",
       "      <td>0.3</td>\n",
       "      <td>45.333333</td>\n",
       "      <td>2.0</td>\n",
       "      <td>1.0</td>\n",
       "      <td>5.0</td>\n",
       "      <td>64.0</td>\n",
       "      <td>14.5</td>\n",
       "    </tr>\n",
       "    <tr>\n",
       "      <th>0.0005</th>\n",
       "      <td>0.666840</td>\n",
       "      <td>0.547235</td>\n",
       "      <td>0.548670</td>\n",
       "      <td>0.547242</td>\n",
       "      <td>0.660037</td>\n",
       "      <td>0.538696</td>\n",
       "      <td>0.539429</td>\n",
       "      <td>0.539555</td>\n",
       "      <td>20.0</td>\n",
       "      <td>16.0</td>\n",
       "      <td>...</td>\n",
       "      <td>384.0</td>\n",
       "      <td>1.0</td>\n",
       "      <td>1.0</td>\n",
       "      <td>0.3</td>\n",
       "      <td>45.333333</td>\n",
       "      <td>2.0</td>\n",
       "      <td>1.0</td>\n",
       "      <td>5.0</td>\n",
       "      <td>64.0</td>\n",
       "      <td>15.5</td>\n",
       "    </tr>\n",
       "    <tr>\n",
       "      <th>0.0010</th>\n",
       "      <td>0.666909</td>\n",
       "      <td>0.536207</td>\n",
       "      <td>0.541250</td>\n",
       "      <td>0.533024</td>\n",
       "      <td>0.668422</td>\n",
       "      <td>0.541138</td>\n",
       "      <td>0.545882</td>\n",
       "      <td>0.538058</td>\n",
       "      <td>20.0</td>\n",
       "      <td>16.0</td>\n",
       "      <td>...</td>\n",
       "      <td>384.0</td>\n",
       "      <td>1.0</td>\n",
       "      <td>1.0</td>\n",
       "      <td>0.3</td>\n",
       "      <td>45.333333</td>\n",
       "      <td>2.0</td>\n",
       "      <td>1.0</td>\n",
       "      <td>5.0</td>\n",
       "      <td>64.0</td>\n",
       "      <td>13.5</td>\n",
       "    </tr>\n",
       "    <tr>\n",
       "      <th rowspan=\"3\" valign=\"top\">(512, 512)</th>\n",
       "      <th>0.0001</th>\n",
       "      <td>0.610650</td>\n",
       "      <td>0.414155</td>\n",
       "      <td>0.458861</td>\n",
       "      <td>0.412930</td>\n",
       "      <td>0.617715</td>\n",
       "      <td>0.430324</td>\n",
       "      <td>0.483052</td>\n",
       "      <td>0.425473</td>\n",
       "      <td>20.0</td>\n",
       "      <td>16.0</td>\n",
       "      <td>...</td>\n",
       "      <td>384.0</td>\n",
       "      <td>1.0</td>\n",
       "      <td>1.0</td>\n",
       "      <td>0.3</td>\n",
       "      <td>45.333333</td>\n",
       "      <td>2.0</td>\n",
       "      <td>1.0</td>\n",
       "      <td>5.0</td>\n",
       "      <td>64.0</td>\n",
       "      <td>20.5</td>\n",
       "    </tr>\n",
       "    <tr>\n",
       "      <th>0.0005</th>\n",
       "      <td>0.673829</td>\n",
       "      <td>0.546260</td>\n",
       "      <td>0.553666</td>\n",
       "      <td>0.542294</td>\n",
       "      <td>0.668920</td>\n",
       "      <td>0.539847</td>\n",
       "      <td>0.546144</td>\n",
       "      <td>0.536655</td>\n",
       "      <td>20.0</td>\n",
       "      <td>16.0</td>\n",
       "      <td>...</td>\n",
       "      <td>384.0</td>\n",
       "      <td>1.0</td>\n",
       "      <td>1.0</td>\n",
       "      <td>0.3</td>\n",
       "      <td>45.333333</td>\n",
       "      <td>2.0</td>\n",
       "      <td>1.0</td>\n",
       "      <td>5.0</td>\n",
       "      <td>64.0</td>\n",
       "      <td>21.5</td>\n",
       "    </tr>\n",
       "    <tr>\n",
       "      <th>0.0010</th>\n",
       "      <td>0.669296</td>\n",
       "      <td>0.537901</td>\n",
       "      <td>0.547462</td>\n",
       "      <td>0.533345</td>\n",
       "      <td>0.666640</td>\n",
       "      <td>0.532808</td>\n",
       "      <td>0.543323</td>\n",
       "      <td>0.527860</td>\n",
       "      <td>20.0</td>\n",
       "      <td>16.0</td>\n",
       "      <td>...</td>\n",
       "      <td>384.0</td>\n",
       "      <td>1.0</td>\n",
       "      <td>1.0</td>\n",
       "      <td>0.3</td>\n",
       "      <td>45.333333</td>\n",
       "      <td>2.0</td>\n",
       "      <td>1.0</td>\n",
       "      <td>5.0</td>\n",
       "      <td>64.0</td>\n",
       "      <td>19.5</td>\n",
       "    </tr>\n",
       "    <tr>\n",
       "      <th rowspan=\"6\" valign=\"top\">12</th>\n",
       "      <th rowspan=\"6\" valign=\"top\">1</th>\n",
       "      <th rowspan=\"3\" valign=\"top\">(256, 256)</th>\n",
       "      <th>0.0001</th>\n",
       "      <td>0.623209</td>\n",
       "      <td>0.411720</td>\n",
       "      <td>0.465753</td>\n",
       "      <td>0.410728</td>\n",
       "      <td>0.625681</td>\n",
       "      <td>0.419451</td>\n",
       "      <td>0.473053</td>\n",
       "      <td>0.416381</td>\n",
       "      <td>20.0</td>\n",
       "      <td>16.0</td>\n",
       "      <td>...</td>\n",
       "      <td>384.0</td>\n",
       "      <td>1.0</td>\n",
       "      <td>1.0</td>\n",
       "      <td>0.3</td>\n",
       "      <td>45.333333</td>\n",
       "      <td>2.0</td>\n",
       "      <td>1.0</td>\n",
       "      <td>5.0</td>\n",
       "      <td>64.0</td>\n",
       "      <td>26.5</td>\n",
       "    </tr>\n",
       "    <tr>\n",
       "      <th>0.0005</th>\n",
       "      <td>0.665663</td>\n",
       "      <td>0.546419</td>\n",
       "      <td>0.547402</td>\n",
       "      <td>0.546030</td>\n",
       "      <td>0.663103</td>\n",
       "      <td>0.540740</td>\n",
       "      <td>0.541667</td>\n",
       "      <td>0.540434</td>\n",
       "      <td>20.0</td>\n",
       "      <td>16.0</td>\n",
       "      <td>...</td>\n",
       "      <td>384.0</td>\n",
       "      <td>1.0</td>\n",
       "      <td>1.0</td>\n",
       "      <td>0.3</td>\n",
       "      <td>45.333333</td>\n",
       "      <td>2.0</td>\n",
       "      <td>1.0</td>\n",
       "      <td>5.0</td>\n",
       "      <td>64.0</td>\n",
       "      <td>27.5</td>\n",
       "    </tr>\n",
       "    <tr>\n",
       "      <th>0.0010</th>\n",
       "      <td>0.671649</td>\n",
       "      <td>0.544120</td>\n",
       "      <td>0.551032</td>\n",
       "      <td>0.540663</td>\n",
       "      <td>0.667977</td>\n",
       "      <td>0.538050</td>\n",
       "      <td>0.545075</td>\n",
       "      <td>0.534143</td>\n",
       "      <td>20.0</td>\n",
       "      <td>16.0</td>\n",
       "      <td>...</td>\n",
       "      <td>384.0</td>\n",
       "      <td>1.0</td>\n",
       "      <td>1.0</td>\n",
       "      <td>0.3</td>\n",
       "      <td>45.333333</td>\n",
       "      <td>2.0</td>\n",
       "      <td>1.0</td>\n",
       "      <td>5.0</td>\n",
       "      <td>64.0</td>\n",
       "      <td>25.5</td>\n",
       "    </tr>\n",
       "    <tr>\n",
       "      <th rowspan=\"3\" valign=\"top\">(512, 512)</th>\n",
       "      <th>0.0001</th>\n",
       "      <td>0.609819</td>\n",
       "      <td>0.428064</td>\n",
       "      <td>0.465025</td>\n",
       "      <td>0.424453</td>\n",
       "      <td>0.614387</td>\n",
       "      <td>0.438854</td>\n",
       "      <td>0.478136</td>\n",
       "      <td>0.433298</td>\n",
       "      <td>20.0</td>\n",
       "      <td>16.0</td>\n",
       "      <td>...</td>\n",
       "      <td>384.0</td>\n",
       "      <td>1.0</td>\n",
       "      <td>1.0</td>\n",
       "      <td>0.3</td>\n",
       "      <td>45.333333</td>\n",
       "      <td>2.0</td>\n",
       "      <td>1.0</td>\n",
       "      <td>5.0</td>\n",
       "      <td>64.0</td>\n",
       "      <td>32.5</td>\n",
       "    </tr>\n",
       "    <tr>\n",
       "      <th>0.0005</th>\n",
       "      <td>0.667808</td>\n",
       "      <td>0.547320</td>\n",
       "      <td>0.549776</td>\n",
       "      <td>0.546244</td>\n",
       "      <td>0.662369</td>\n",
       "      <td>0.539429</td>\n",
       "      <td>0.541563</td>\n",
       "      <td>0.538886</td>\n",
       "      <td>20.0</td>\n",
       "      <td>16.0</td>\n",
       "      <td>...</td>\n",
       "      <td>384.0</td>\n",
       "      <td>1.0</td>\n",
       "      <td>1.0</td>\n",
       "      <td>0.3</td>\n",
       "      <td>45.333333</td>\n",
       "      <td>2.0</td>\n",
       "      <td>1.0</td>\n",
       "      <td>5.0</td>\n",
       "      <td>64.0</td>\n",
       "      <td>33.5</td>\n",
       "    </tr>\n",
       "    <tr>\n",
       "      <th>0.0010</th>\n",
       "      <td>0.672791</td>\n",
       "      <td>0.537426</td>\n",
       "      <td>0.549217</td>\n",
       "      <td>0.530664</td>\n",
       "      <td>0.667898</td>\n",
       "      <td>0.529775</td>\n",
       "      <td>0.541095</td>\n",
       "      <td>0.523357</td>\n",
       "      <td>20.0</td>\n",
       "      <td>16.0</td>\n",
       "      <td>...</td>\n",
       "      <td>384.0</td>\n",
       "      <td>1.0</td>\n",
       "      <td>1.0</td>\n",
       "      <td>0.3</td>\n",
       "      <td>45.333333</td>\n",
       "      <td>2.0</td>\n",
       "      <td>1.0</td>\n",
       "      <td>5.0</td>\n",
       "      <td>64.0</td>\n",
       "      <td>31.5</td>\n",
       "    </tr>\n",
       "    <tr>\n",
       "      <th rowspan=\"6\" valign=\"top\">12</th>\n",
       "      <th rowspan=\"6\" valign=\"top\">3</th>\n",
       "      <th rowspan=\"6\" valign=\"top\">10</th>\n",
       "      <th rowspan=\"6\" valign=\"top\">1</th>\n",
       "      <th rowspan=\"3\" valign=\"top\">(256, 256)</th>\n",
       "      <th>0.0001</th>\n",
       "      <td>0.630129</td>\n",
       "      <td>0.449359</td>\n",
       "      <td>0.486545</td>\n",
       "      <td>0.441535</td>\n",
       "      <td>0.633202</td>\n",
       "      <td>0.454290</td>\n",
       "      <td>0.488965</td>\n",
       "      <td>0.446477</td>\n",
       "      <td>20.0</td>\n",
       "      <td>16.0</td>\n",
       "      <td>...</td>\n",
       "      <td>384.0</td>\n",
       "      <td>1.0</td>\n",
       "      <td>1.0</td>\n",
       "      <td>0.3</td>\n",
       "      <td>45.333333</td>\n",
       "      <td>2.0</td>\n",
       "      <td>1.0</td>\n",
       "      <td>5.0</td>\n",
       "      <td>64.0</td>\n",
       "      <td>2.5</td>\n",
       "    </tr>\n",
       "    <tr>\n",
       "      <th>0.0005</th>\n",
       "      <td>0.653380</td>\n",
       "      <td>0.527399</td>\n",
       "      <td>0.531723</td>\n",
       "      <td>0.526207</td>\n",
       "      <td>0.648742</td>\n",
       "      <td>0.522757</td>\n",
       "      <td>0.525490</td>\n",
       "      <td>0.523404</td>\n",
       "      <td>20.0</td>\n",
       "      <td>16.0</td>\n",
       "      <td>...</td>\n",
       "      <td>384.0</td>\n",
       "      <td>1.0</td>\n",
       "      <td>1.0</td>\n",
       "      <td>0.3</td>\n",
       "      <td>45.333333</td>\n",
       "      <td>2.0</td>\n",
       "      <td>1.0</td>\n",
       "      <td>5.0</td>\n",
       "      <td>64.0</td>\n",
       "      <td>3.5</td>\n",
       "    </tr>\n",
       "    <tr>\n",
       "      <th>0.0010</th>\n",
       "      <td>0.675905</td>\n",
       "      <td>0.544527</td>\n",
       "      <td>0.555882</td>\n",
       "      <td>0.540226</td>\n",
       "      <td>0.670231</td>\n",
       "      <td>0.535626</td>\n",
       "      <td>0.546768</td>\n",
       "      <td>0.531435</td>\n",
       "      <td>20.0</td>\n",
       "      <td>16.0</td>\n",
       "      <td>...</td>\n",
       "      <td>384.0</td>\n",
       "      <td>1.0</td>\n",
       "      <td>1.0</td>\n",
       "      <td>0.3</td>\n",
       "      <td>45.333333</td>\n",
       "      <td>2.0</td>\n",
       "      <td>1.0</td>\n",
       "      <td>5.0</td>\n",
       "      <td>64.0</td>\n",
       "      <td>1.5</td>\n",
       "    </tr>\n",
       "    <tr>\n",
       "      <th rowspan=\"3\" valign=\"top\">(512, 512)</th>\n",
       "      <th>0.0001</th>\n",
       "      <td>0.621756</td>\n",
       "      <td>0.456652</td>\n",
       "      <td>0.483635</td>\n",
       "      <td>0.451384</td>\n",
       "      <td>0.623532</td>\n",
       "      <td>0.461026</td>\n",
       "      <td>0.486118</td>\n",
       "      <td>0.455734</td>\n",
       "      <td>20.0</td>\n",
       "      <td>16.0</td>\n",
       "      <td>...</td>\n",
       "      <td>384.0</td>\n",
       "      <td>1.0</td>\n",
       "      <td>1.0</td>\n",
       "      <td>0.3</td>\n",
       "      <td>45.333333</td>\n",
       "      <td>2.0</td>\n",
       "      <td>1.0</td>\n",
       "      <td>5.0</td>\n",
       "      <td>64.0</td>\n",
       "      <td>8.5</td>\n",
       "    </tr>\n",
       "    <tr>\n",
       "      <th>0.0005</th>\n",
       "      <td>0.656045</td>\n",
       "      <td>0.515646</td>\n",
       "      <td>0.529025</td>\n",
       "      <td>0.509722</td>\n",
       "      <td>0.654481</td>\n",
       "      <td>0.515273</td>\n",
       "      <td>0.527738</td>\n",
       "      <td>0.509848</td>\n",
       "      <td>20.0</td>\n",
       "      <td>16.0</td>\n",
       "      <td>...</td>\n",
       "      <td>384.0</td>\n",
       "      <td>1.0</td>\n",
       "      <td>1.0</td>\n",
       "      <td>0.3</td>\n",
       "      <td>45.333333</td>\n",
       "      <td>2.0</td>\n",
       "      <td>1.0</td>\n",
       "      <td>5.0</td>\n",
       "      <td>64.0</td>\n",
       "      <td>9.5</td>\n",
       "    </tr>\n",
       "    <tr>\n",
       "      <th>0.0010</th>\n",
       "      <td>0.664383</td>\n",
       "      <td>0.539384</td>\n",
       "      <td>0.543928</td>\n",
       "      <td>0.537044</td>\n",
       "      <td>0.660482</td>\n",
       "      <td>0.533055</td>\n",
       "      <td>0.537234</td>\n",
       "      <td>0.530694</td>\n",
       "      <td>20.0</td>\n",
       "      <td>16.0</td>\n",
       "      <td>...</td>\n",
       "      <td>384.0</td>\n",
       "      <td>1.0</td>\n",
       "      <td>1.0</td>\n",
       "      <td>0.3</td>\n",
       "      <td>45.333333</td>\n",
       "      <td>2.0</td>\n",
       "      <td>1.0</td>\n",
       "      <td>5.0</td>\n",
       "      <td>64.0</td>\n",
       "      <td>7.5</td>\n",
       "    </tr>\n",
       "  </tbody>\n",
       "</table>\n",
       "<p>18 rows × 21 columns</p>\n",
       "</div>"
      ],
      "text/plain": [
       "                                                                                        accuracy  \\\n",
       "dimensions output_channels sig_depth num_heads num_layers ffn_hidden_dim learning_rate             \n",
       "15         8               4         6         1          (256, 256)     0.0001         0.626842   \n",
       "                                                                         0.0005         0.666840   \n",
       "                                                                         0.0010         0.666909   \n",
       "                                                          (512, 512)     0.0001         0.610650   \n",
       "                                                                         0.0005         0.673829   \n",
       "                                                                         0.0010         0.669296   \n",
       "                                     12        1          (256, 256)     0.0001         0.623209   \n",
       "                                                                         0.0005         0.665663   \n",
       "                                                                         0.0010         0.671649   \n",
       "                                                          (512, 512)     0.0001         0.609819   \n",
       "                                                                         0.0005         0.667808   \n",
       "                                                                         0.0010         0.672791   \n",
       "           12              3         10        1          (256, 256)     0.0001         0.630129   \n",
       "                                                                         0.0005         0.653380   \n",
       "                                                                         0.0010         0.675905   \n",
       "                                                          (512, 512)     0.0001         0.621756   \n",
       "                                                                         0.0005         0.656045   \n",
       "                                                                         0.0010         0.664383   \n",
       "\n",
       "                                                                                              f1  \\\n",
       "dimensions output_channels sig_depth num_heads num_layers ffn_hidden_dim learning_rate             \n",
       "15         8               4         6         1          (256, 256)     0.0001         0.416762   \n",
       "                                                                         0.0005         0.547235   \n",
       "                                                                         0.0010         0.536207   \n",
       "                                                          (512, 512)     0.0001         0.414155   \n",
       "                                                                         0.0005         0.546260   \n",
       "                                                                         0.0010         0.537901   \n",
       "                                     12        1          (256, 256)     0.0001         0.411720   \n",
       "                                                                         0.0005         0.546419   \n",
       "                                                                         0.0010         0.544120   \n",
       "                                                          (512, 512)     0.0001         0.428064   \n",
       "                                                                         0.0005         0.547320   \n",
       "                                                                         0.0010         0.537426   \n",
       "           12              3         10        1          (256, 256)     0.0001         0.449359   \n",
       "                                                                         0.0005         0.527399   \n",
       "                                                                         0.0010         0.544527   \n",
       "                                                          (512, 512)     0.0001         0.456652   \n",
       "                                                                         0.0005         0.515646   \n",
       "                                                                         0.0010         0.539384   \n",
       "\n",
       "                                                                                        precision  \\\n",
       "dimensions output_channels sig_depth num_heads num_layers ffn_hidden_dim learning_rate              \n",
       "15         8               4         6         1          (256, 256)     0.0001          0.469544   \n",
       "                                                                         0.0005          0.548670   \n",
       "                                                                         0.0010          0.541250   \n",
       "                                                          (512, 512)     0.0001          0.458861   \n",
       "                                                                         0.0005          0.553666   \n",
       "                                                                         0.0010          0.547462   \n",
       "                                     12        1          (256, 256)     0.0001          0.465753   \n",
       "                                                                         0.0005          0.547402   \n",
       "                                                                         0.0010          0.551032   \n",
       "                                                          (512, 512)     0.0001          0.465025   \n",
       "                                                                         0.0005          0.549776   \n",
       "                                                                         0.0010          0.549217   \n",
       "           12              3         10        1          (256, 256)     0.0001          0.486545   \n",
       "                                                                         0.0005          0.531723   \n",
       "                                                                         0.0010          0.555882   \n",
       "                                                          (512, 512)     0.0001          0.483635   \n",
       "                                                                         0.0005          0.529025   \n",
       "                                                                         0.0010          0.543928   \n",
       "\n",
       "                                                                                          recall  \\\n",
       "dimensions output_channels sig_depth num_heads num_layers ffn_hidden_dim learning_rate             \n",
       "15         8               4         6         1          (256, 256)     0.0001         0.413642   \n",
       "                                                                         0.0005         0.547242   \n",
       "                                                                         0.0010         0.533024   \n",
       "                                                          (512, 512)     0.0001         0.412930   \n",
       "                                                                         0.0005         0.542294   \n",
       "                                                                         0.0010         0.533345   \n",
       "                                     12        1          (256, 256)     0.0001         0.410728   \n",
       "                                                                         0.0005         0.546030   \n",
       "                                                                         0.0010         0.540663   \n",
       "                                                          (512, 512)     0.0001         0.424453   \n",
       "                                                                         0.0005         0.546244   \n",
       "                                                                         0.0010         0.530664   \n",
       "           12              3         10        1          (256, 256)     0.0001         0.441535   \n",
       "                                                                         0.0005         0.526207   \n",
       "                                                                         0.0010         0.540226   \n",
       "                                                          (512, 512)     0.0001         0.451384   \n",
       "                                                                         0.0005         0.509722   \n",
       "                                                                         0.0010         0.537044   \n",
       "\n",
       "                                                                                        valid_accuracy  \\\n",
       "dimensions output_channels sig_depth num_heads num_layers ffn_hidden_dim learning_rate                   \n",
       "15         8               4         6         1          (256, 256)     0.0001               0.631158   \n",
       "                                                                         0.0005               0.660037   \n",
       "                                                                         0.0010               0.668422   \n",
       "                                                          (512, 512)     0.0001               0.617715   \n",
       "                                                                         0.0005               0.668920   \n",
       "                                                                         0.0010               0.666640   \n",
       "                                     12        1          (256, 256)     0.0001               0.625681   \n",
       "                                                                         0.0005               0.663103   \n",
       "                                                                         0.0010               0.667977   \n",
       "                                                          (512, 512)     0.0001               0.614387   \n",
       "                                                                         0.0005               0.662369   \n",
       "                                                                         0.0010               0.667898   \n",
       "           12              3         10        1          (256, 256)     0.0001               0.633202   \n",
       "                                                                         0.0005               0.648742   \n",
       "                                                                         0.0010               0.670231   \n",
       "                                                          (512, 512)     0.0001               0.623532   \n",
       "                                                                         0.0005               0.654481   \n",
       "                                                                         0.0010               0.660482   \n",
       "\n",
       "                                                                                        valid_f1  \\\n",
       "dimensions output_channels sig_depth num_heads num_layers ffn_hidden_dim learning_rate             \n",
       "15         8               4         6         1          (256, 256)     0.0001         0.427250   \n",
       "                                                                         0.0005         0.538696   \n",
       "                                                                         0.0010         0.541138   \n",
       "                                                          (512, 512)     0.0001         0.430324   \n",
       "                                                                         0.0005         0.539847   \n",
       "                                                                         0.0010         0.532808   \n",
       "                                     12        1          (256, 256)     0.0001         0.419451   \n",
       "                                                                         0.0005         0.540740   \n",
       "                                                                         0.0010         0.538050   \n",
       "                                                          (512, 512)     0.0001         0.438854   \n",
       "                                                                         0.0005         0.539429   \n",
       "                                                                         0.0010         0.529775   \n",
       "           12              3         10        1          (256, 256)     0.0001         0.454290   \n",
       "                                                                         0.0005         0.522757   \n",
       "                                                                         0.0010         0.535626   \n",
       "                                                          (512, 512)     0.0001         0.461026   \n",
       "                                                                         0.0005         0.515273   \n",
       "                                                                         0.0010         0.533055   \n",
       "\n",
       "                                                                                        valid_precision  \\\n",
       "dimensions output_channels sig_depth num_heads num_layers ffn_hidden_dim learning_rate                    \n",
       "15         8               4         6         1          (256, 256)     0.0001                0.479681   \n",
       "                                                                         0.0005                0.539429   \n",
       "                                                                         0.0010                0.545882   \n",
       "                                                          (512, 512)     0.0001                0.483052   \n",
       "                                                                         0.0005                0.546144   \n",
       "                                                                         0.0010                0.543323   \n",
       "                                     12        1          (256, 256)     0.0001                0.473053   \n",
       "                                                                         0.0005                0.541667   \n",
       "                                                                         0.0010                0.545075   \n",
       "                                                          (512, 512)     0.0001                0.478136   \n",
       "                                                                         0.0005                0.541563   \n",
       "                                                                         0.0010                0.541095   \n",
       "           12              3         10        1          (256, 256)     0.0001                0.488965   \n",
       "                                                                         0.0005                0.525490   \n",
       "                                                                         0.0010                0.546768   \n",
       "                                                          (512, 512)     0.0001                0.486118   \n",
       "                                                                         0.0005                0.527738   \n",
       "                                                                         0.0010                0.537234   \n",
       "\n",
       "                                                                                        valid_recall  \\\n",
       "dimensions output_channels sig_depth num_heads num_layers ffn_hidden_dim learning_rate                 \n",
       "15         8               4         6         1          (256, 256)     0.0001             0.422077   \n",
       "                                                                         0.0005             0.539555   \n",
       "                                                                         0.0010             0.538058   \n",
       "                                                          (512, 512)     0.0001             0.425473   \n",
       "                                                                         0.0005             0.536655   \n",
       "                                                                         0.0010             0.527860   \n",
       "                                     12        1          (256, 256)     0.0001             0.416381   \n",
       "                                                                         0.0005             0.540434   \n",
       "                                                                         0.0010             0.534143   \n",
       "                                                          (512, 512)     0.0001             0.433298   \n",
       "                                                                         0.0005             0.538886   \n",
       "                                                                         0.0010             0.523357   \n",
       "           12              3         10        1          (256, 256)     0.0001             0.446477   \n",
       "                                                                         0.0005             0.523404   \n",
       "                                                                         0.0010             0.531435   \n",
       "                                                          (512, 512)     0.0001             0.455734   \n",
       "                                                                         0.0005             0.509848   \n",
       "                                                                         0.0010             0.530694   \n",
       "\n",
       "                                                                                           k  \\\n",
       "dimensions output_channels sig_depth num_heads num_layers ffn_hidden_dim learning_rate         \n",
       "15         8               4         6         1          (256, 256)     0.0001         20.0   \n",
       "                                                                         0.0005         20.0   \n",
       "                                                                         0.0010         20.0   \n",
       "                                                          (512, 512)     0.0001         20.0   \n",
       "                                                                         0.0005         20.0   \n",
       "                                                                         0.0010         20.0   \n",
       "                                     12        1          (256, 256)     0.0001         20.0   \n",
       "                                                                         0.0005         20.0   \n",
       "                                                                         0.0010         20.0   \n",
       "                                                          (512, 512)     0.0001         20.0   \n",
       "                                                                         0.0005         20.0   \n",
       "                                                                         0.0010         20.0   \n",
       "           12              3         10        1          (256, 256)     0.0001         20.0   \n",
       "                                                                         0.0005         20.0   \n",
       "                                                                         0.0010         20.0   \n",
       "                                                          (512, 512)     0.0001         20.0   \n",
       "                                                                         0.0005         20.0   \n",
       "                                                                         0.0010         20.0   \n",
       "\n",
       "                                                                                        input_channels  \\\n",
       "dimensions output_channels sig_depth num_heads num_layers ffn_hidden_dim learning_rate                   \n",
       "15         8               4         6         1          (256, 256)     0.0001                   16.0   \n",
       "                                                                         0.0005                   16.0   \n",
       "                                                                         0.0010                   16.0   \n",
       "                                                          (512, 512)     0.0001                   16.0   \n",
       "                                                                         0.0005                   16.0   \n",
       "                                                                         0.0010                   16.0   \n",
       "                                     12        1          (256, 256)     0.0001                   16.0   \n",
       "                                                                         0.0005                   16.0   \n",
       "                                                                         0.0010                   16.0   \n",
       "                                                          (512, 512)     0.0001                   16.0   \n",
       "                                                                         0.0005                   16.0   \n",
       "                                                                         0.0010                   16.0   \n",
       "           12              3         10        1          (256, 256)     0.0001                   16.0   \n",
       "                                                                         0.0005                   16.0   \n",
       "                                                                         0.0010                   16.0   \n",
       "                                                          (512, 512)     0.0001                   16.0   \n",
       "                                                                         0.0005                   16.0   \n",
       "                                                                         0.0010                   16.0   \n",
       "\n",
       "                                                                                        ...  \\\n",
       "dimensions output_channels sig_depth num_heads num_layers ffn_hidden_dim learning_rate  ...   \n",
       "15         8               4         6         1          (256, 256)     0.0001         ...   \n",
       "                                                                         0.0005         ...   \n",
       "                                                                         0.0010         ...   \n",
       "                                                          (512, 512)     0.0001         ...   \n",
       "                                                                         0.0005         ...   \n",
       "                                                                         0.0010         ...   \n",
       "                                     12        1          (256, 256)     0.0001         ...   \n",
       "                                                                         0.0005         ...   \n",
       "                                                                         0.0010         ...   \n",
       "                                                          (512, 512)     0.0001         ...   \n",
       "                                                                         0.0005         ...   \n",
       "                                                                         0.0010         ...   \n",
       "           12              3         10        1          (256, 256)     0.0001         ...   \n",
       "                                                                         0.0005         ...   \n",
       "                                                                         0.0010         ...   \n",
       "                                                          (512, 512)     0.0001         ...   \n",
       "                                                                         0.0005         ...   \n",
       "                                                                         0.0010         ...   \n",
       "\n",
       "                                                                                        embedding_dim  \\\n",
       "dimensions output_channels sig_depth num_heads num_layers ffn_hidden_dim learning_rate                  \n",
       "15         8               4         6         1          (256, 256)     0.0001                 384.0   \n",
       "                                                                         0.0005                 384.0   \n",
       "                                                                         0.0010                 384.0   \n",
       "                                                          (512, 512)     0.0001                 384.0   \n",
       "                                                                         0.0005                 384.0   \n",
       "                                                                         0.0010                 384.0   \n",
       "                                     12        1          (256, 256)     0.0001                 384.0   \n",
       "                                                                         0.0005                 384.0   \n",
       "                                                                         0.0010                 384.0   \n",
       "                                                          (512, 512)     0.0001                 384.0   \n",
       "                                                                         0.0005                 384.0   \n",
       "                                                                         0.0010                 384.0   \n",
       "           12              3         10        1          (256, 256)     0.0001                 384.0   \n",
       "                                                                         0.0005                 384.0   \n",
       "                                                                         0.0010                 384.0   \n",
       "                                                          (512, 512)     0.0001                 384.0   \n",
       "                                                                         0.0005                 384.0   \n",
       "                                                                         0.0010                 384.0   \n",
       "\n",
       "                                                                                        num_features  \\\n",
       "dimensions output_channels sig_depth num_heads num_layers ffn_hidden_dim learning_rate                 \n",
       "15         8               4         6         1          (256, 256)     0.0001                  1.0   \n",
       "                                                                         0.0005                  1.0   \n",
       "                                                                         0.0010                  1.0   \n",
       "                                                          (512, 512)     0.0001                  1.0   \n",
       "                                                                         0.0005                  1.0   \n",
       "                                                                         0.0010                  1.0   \n",
       "                                     12        1          (256, 256)     0.0001                  1.0   \n",
       "                                                                         0.0005                  1.0   \n",
       "                                                                         0.0010                  1.0   \n",
       "                                                          (512, 512)     0.0001                  1.0   \n",
       "                                                                         0.0005                  1.0   \n",
       "                                                                         0.0010                  1.0   \n",
       "           12              3         10        1          (256, 256)     0.0001                  1.0   \n",
       "                                                                         0.0005                  1.0   \n",
       "                                                                         0.0010                  1.0   \n",
       "                                                          (512, 512)     0.0001                  1.0   \n",
       "                                                                         0.0005                  1.0   \n",
       "                                                                         0.0010                  1.0   \n",
       "\n",
       "                                                                                        log_signature  \\\n",
       "dimensions output_channels sig_depth num_heads num_layers ffn_hidden_dim learning_rate                  \n",
       "15         8               4         6         1          (256, 256)     0.0001                   1.0   \n",
       "                                                                         0.0005                   1.0   \n",
       "                                                                         0.0010                   1.0   \n",
       "                                                          (512, 512)     0.0001                   1.0   \n",
       "                                                                         0.0005                   1.0   \n",
       "                                                                         0.0010                   1.0   \n",
       "                                     12        1          (256, 256)     0.0001                   1.0   \n",
       "                                                                         0.0005                   1.0   \n",
       "                                                                         0.0010                   1.0   \n",
       "                                                          (512, 512)     0.0001                   1.0   \n",
       "                                                                         0.0005                   1.0   \n",
       "                                                                         0.0010                   1.0   \n",
       "           12              3         10        1          (256, 256)     0.0001                   1.0   \n",
       "                                                                         0.0005                   1.0   \n",
       "                                                                         0.0010                   1.0   \n",
       "                                                          (512, 512)     0.0001                   1.0   \n",
       "                                                                         0.0005                   1.0   \n",
       "                                                                         0.0010                   1.0   \n",
       "\n",
       "                                                                                        dropout_rate  \\\n",
       "dimensions output_channels sig_depth num_heads num_layers ffn_hidden_dim learning_rate                 \n",
       "15         8               4         6         1          (256, 256)     0.0001                  0.3   \n",
       "                                                                         0.0005                  0.3   \n",
       "                                                                         0.0010                  0.3   \n",
       "                                                          (512, 512)     0.0001                  0.3   \n",
       "                                                                         0.0005                  0.3   \n",
       "                                                                         0.0010                  0.3   \n",
       "                                     12        1          (256, 256)     0.0001                  0.3   \n",
       "                                                                         0.0005                  0.3   \n",
       "                                                                         0.0010                  0.3   \n",
       "                                                          (512, 512)     0.0001                  0.3   \n",
       "                                                                         0.0005                  0.3   \n",
       "                                                                         0.0010                  0.3   \n",
       "           12              3         10        1          (256, 256)     0.0001                  0.3   \n",
       "                                                                         0.0005                  0.3   \n",
       "                                                                         0.0010                  0.3   \n",
       "                                                          (512, 512)     0.0001                  0.3   \n",
       "                                                                         0.0005                  0.3   \n",
       "                                                                         0.0010                  0.3   \n",
       "\n",
       "                                                                                             seed  \\\n",
       "dimensions output_channels sig_depth num_heads num_layers ffn_hidden_dim learning_rate              \n",
       "15         8               4         6         1          (256, 256)     0.0001         45.333333   \n",
       "                                                                         0.0005         45.333333   \n",
       "                                                                         0.0010         45.333333   \n",
       "                                                          (512, 512)     0.0001         45.333333   \n",
       "                                                                         0.0005         45.333333   \n",
       "                                                                         0.0010         45.333333   \n",
       "                                     12        1          (256, 256)     0.0001         45.333333   \n",
       "                                                                         0.0005         45.333333   \n",
       "                                                                         0.0010         45.333333   \n",
       "                                                          (512, 512)     0.0001         45.333333   \n",
       "                                                                         0.0005         45.333333   \n",
       "                                                                         0.0010         45.333333   \n",
       "           12              3         10        1          (256, 256)     0.0001         45.333333   \n",
       "                                                                         0.0005         45.333333   \n",
       "                                                                         0.0010         45.333333   \n",
       "                                                          (512, 512)     0.0001         45.333333   \n",
       "                                                                         0.0005         45.333333   \n",
       "                                                                         0.0010         45.333333   \n",
       "\n",
       "                                                                                        gamma  \\\n",
       "dimensions output_channels sig_depth num_heads num_layers ffn_hidden_dim learning_rate          \n",
       "15         8               4         6         1          (256, 256)     0.0001           2.0   \n",
       "                                                                         0.0005           2.0   \n",
       "                                                                         0.0010           2.0   \n",
       "                                                          (512, 512)     0.0001           2.0   \n",
       "                                                                         0.0005           2.0   \n",
       "                                                                         0.0010           2.0   \n",
       "                                     12        1          (256, 256)     0.0001           2.0   \n",
       "                                                                         0.0005           2.0   \n",
       "                                                                         0.0010           2.0   \n",
       "                                                          (512, 512)     0.0001           2.0   \n",
       "                                                                         0.0005           2.0   \n",
       "                                                                         0.0010           2.0   \n",
       "           12              3         10        1          (256, 256)     0.0001           2.0   \n",
       "                                                                         0.0005           2.0   \n",
       "                                                                         0.0010           2.0   \n",
       "                                                          (512, 512)     0.0001           2.0   \n",
       "                                                                         0.0005           2.0   \n",
       "                                                                         0.0010           2.0   \n",
       "\n",
       "                                                                                        k_fold  \\\n",
       "dimensions output_channels sig_depth num_heads num_layers ffn_hidden_dim learning_rate           \n",
       "15         8               4         6         1          (256, 256)     0.0001            1.0   \n",
       "                                                                         0.0005            1.0   \n",
       "                                                                         0.0010            1.0   \n",
       "                                                          (512, 512)     0.0001            1.0   \n",
       "                                                                         0.0005            1.0   \n",
       "                                                                         0.0010            1.0   \n",
       "                                     12        1          (256, 256)     0.0001            1.0   \n",
       "                                                                         0.0005            1.0   \n",
       "                                                                         0.0010            1.0   \n",
       "                                                          (512, 512)     0.0001            1.0   \n",
       "                                                                         0.0005            1.0   \n",
       "                                                                         0.0010            1.0   \n",
       "           12              3         10        1          (256, 256)     0.0001            1.0   \n",
       "                                                                         0.0005            1.0   \n",
       "                                                                         0.0010            1.0   \n",
       "                                                          (512, 512)     0.0001            1.0   \n",
       "                                                                         0.0005            1.0   \n",
       "                                                                         0.0010            1.0   \n",
       "\n",
       "                                                                                        n_splits  \\\n",
       "dimensions output_channels sig_depth num_heads num_layers ffn_hidden_dim learning_rate             \n",
       "15         8               4         6         1          (256, 256)     0.0001              5.0   \n",
       "                                                                         0.0005              5.0   \n",
       "                                                                         0.0010              5.0   \n",
       "                                                          (512, 512)     0.0001              5.0   \n",
       "                                                                         0.0005              5.0   \n",
       "                                                                         0.0010              5.0   \n",
       "                                     12        1          (256, 256)     0.0001              5.0   \n",
       "                                                                         0.0005              5.0   \n",
       "                                                                         0.0010              5.0   \n",
       "                                                          (512, 512)     0.0001              5.0   \n",
       "                                                                         0.0005              5.0   \n",
       "                                                                         0.0010              5.0   \n",
       "           12              3         10        1          (256, 256)     0.0001              5.0   \n",
       "                                                                         0.0005              5.0   \n",
       "                                                                         0.0010              5.0   \n",
       "                                                          (512, 512)     0.0001              5.0   \n",
       "                                                                         0.0005              5.0   \n",
       "                                                                         0.0010              5.0   \n",
       "\n",
       "                                                                                        batch_size  \\\n",
       "dimensions output_channels sig_depth num_heads num_layers ffn_hidden_dim learning_rate               \n",
       "15         8               4         6         1          (256, 256)     0.0001               64.0   \n",
       "                                                                         0.0005               64.0   \n",
       "                                                                         0.0010               64.0   \n",
       "                                                          (512, 512)     0.0001               64.0   \n",
       "                                                                         0.0005               64.0   \n",
       "                                                                         0.0010               64.0   \n",
       "                                     12        1          (256, 256)     0.0001               64.0   \n",
       "                                                                         0.0005               64.0   \n",
       "                                                                         0.0010               64.0   \n",
       "                                                          (512, 512)     0.0001               64.0   \n",
       "                                                                         0.0005               64.0   \n",
       "                                                                         0.0010               64.0   \n",
       "           12              3         10        1          (256, 256)     0.0001               64.0   \n",
       "                                                                         0.0005               64.0   \n",
       "                                                                         0.0010               64.0   \n",
       "                                                          (512, 512)     0.0001               64.0   \n",
       "                                                                         0.0005               64.0   \n",
       "                                                                         0.0010               64.0   \n",
       "\n",
       "                                                                                        model_id  \n",
       "dimensions output_channels sig_depth num_heads num_layers ffn_hidden_dim learning_rate            \n",
       "15         8               4         6         1          (256, 256)     0.0001             14.5  \n",
       "                                                                         0.0005             15.5  \n",
       "                                                                         0.0010             13.5  \n",
       "                                                          (512, 512)     0.0001             20.5  \n",
       "                                                                         0.0005             21.5  \n",
       "                                                                         0.0010             19.5  \n",
       "                                     12        1          (256, 256)     0.0001             26.5  \n",
       "                                                                         0.0005             27.5  \n",
       "                                                                         0.0010             25.5  \n",
       "                                                          (512, 512)     0.0001             32.5  \n",
       "                                                                         0.0005             33.5  \n",
       "                                                                         0.0010             31.5  \n",
       "           12              3         10        1          (256, 256)     0.0001              2.5  \n",
       "                                                                         0.0005              3.5  \n",
       "                                                                         0.0010              1.5  \n",
       "                                                          (512, 512)     0.0001              8.5  \n",
       "                                                                         0.0005              9.5  \n",
       "                                                                         0.0010              7.5  \n",
       "\n",
       "[18 rows x 21 columns]"
      ]
     },
     "execution_count": 10,
     "metadata": {},
     "output_type": "execute_result"
    }
   ],
   "source": [
    "swmhau_network_umap_kfold_20.groupby([\"dimensions\",\n",
    "                                     \"output_channels\",\n",
    "                                     \"sig_depth\",\n",
    "                                     \"num_heads\",\n",
    "                                     \"num_layers\",\n",
    "                                     \"ffn_hidden_dim\",\n",
    "                                     \"learning_rate\"]).mean()"
   ]
  },
  {
   "cell_type": "code",
   "execution_count": 11,
   "id": "089e89fa-e2bc-4bd2-a063-d9c7d35ba390",
   "metadata": {},
   "outputs": [
    {
     "data": {
      "text/html": [
       "<div>\n",
       "<style scoped>\n",
       "    .dataframe tbody tr th:only-of-type {\n",
       "        vertical-align: middle;\n",
       "    }\n",
       "\n",
       "    .dataframe tbody tr th {\n",
       "        vertical-align: top;\n",
       "    }\n",
       "\n",
       "    .dataframe thead th {\n",
       "        text-align: right;\n",
       "    }\n",
       "</style>\n",
       "<table border=\"1\" class=\"dataframe\">\n",
       "  <thead>\n",
       "    <tr style=\"text-align: right;\">\n",
       "      <th></th>\n",
       "      <th>loss</th>\n",
       "      <th>accuracy</th>\n",
       "      <th>f1</th>\n",
       "      <th>f1_scores</th>\n",
       "      <th>precision</th>\n",
       "      <th>precision_scores</th>\n",
       "      <th>recall</th>\n",
       "      <th>recall_scores</th>\n",
       "      <th>valid_loss</th>\n",
       "      <th>valid_accuracy</th>\n",
       "      <th>...</th>\n",
       "      <th>learning_rate</th>\n",
       "      <th>seed</th>\n",
       "      <th>loss_function</th>\n",
       "      <th>gamma</th>\n",
       "      <th>k_fold</th>\n",
       "      <th>n_splits</th>\n",
       "      <th>augmentation_type</th>\n",
       "      <th>hidden_dim_aug</th>\n",
       "      <th>comb_method</th>\n",
       "      <th>batch_size</th>\n",
       "    </tr>\n",
       "  </thead>\n",
       "  <tbody>\n",
       "    <tr>\n",
       "      <th>0</th>\n",
       "      <td>None</td>\n",
       "      <td>0.668673</td>\n",
       "      <td>0.543704</td>\n",
       "      <td>[0.7868748008920038, 0.49107531562908147, 0.35...</td>\n",
       "      <td>0.546952</td>\n",
       "      <td>[0.777218376337319, 0.5040214477211796, 0.3596...</td>\n",
       "      <td>0.540830</td>\n",
       "      <td>[0.7967741935483871, 0.47877758913412566, 0.34...</td>\n",
       "      <td>None</td>\n",
       "      <td>0.663522</td>\n",
       "      <td>...</td>\n",
       "      <td>0.0005</td>\n",
       "      <td>1</td>\n",
       "      <td>focal</td>\n",
       "      <td>2</td>\n",
       "      <td>True</td>\n",
       "      <td>5</td>\n",
       "      <td>Conv1d</td>\n",
       "      <td>None</td>\n",
       "      <td>concatenation</td>\n",
       "      <td>64</td>\n",
       "    </tr>\n",
       "    <tr>\n",
       "      <th>0</th>\n",
       "      <td>None</td>\n",
       "      <td>0.682998</td>\n",
       "      <td>0.563479</td>\n",
       "      <td>[0.7959705788295491, 0.518041237113402, 0.3764...</td>\n",
       "      <td>0.566490</td>\n",
       "      <td>[0.7891566265060241, 0.5243478260869565, 0.385...</td>\n",
       "      <td>0.560712</td>\n",
       "      <td>[0.8029032258064516, 0.5118845500848896, 0.367...</td>\n",
       "      <td>None</td>\n",
       "      <td>0.670283</td>\n",
       "      <td>...</td>\n",
       "      <td>0.0005</td>\n",
       "      <td>12</td>\n",
       "      <td>focal</td>\n",
       "      <td>2</td>\n",
       "      <td>True</td>\n",
       "      <td>5</td>\n",
       "      <td>Conv1d</td>\n",
       "      <td>None</td>\n",
       "      <td>concatenation</td>\n",
       "      <td>64</td>\n",
       "    </tr>\n",
       "    <tr>\n",
       "      <th>0</th>\n",
       "      <td>None</td>\n",
       "      <td>0.662861</td>\n",
       "      <td>0.546156</td>\n",
       "      <td>[0.7787087235091179, 0.5161550888529887, 0.343...</td>\n",
       "      <td>0.543866</td>\n",
       "      <td>[0.7934382323401407, 0.49229583975346686, 0.34...</td>\n",
       "      <td>0.549445</td>\n",
       "      <td>[0.7645161290322581, 0.5424448217317487, 0.341...</td>\n",
       "      <td>None</td>\n",
       "      <td>0.666981</td>\n",
       "      <td>...</td>\n",
       "      <td>0.0005</td>\n",
       "      <td>123</td>\n",
       "      <td>focal</td>\n",
       "      <td>2</td>\n",
       "      <td>True</td>\n",
       "      <td>5</td>\n",
       "      <td>Conv1d</td>\n",
       "      <td>None</td>\n",
       "      <td>concatenation</td>\n",
       "      <td>64</td>\n",
       "    </tr>\n",
       "  </tbody>\n",
       "</table>\n",
       "<p>3 rows × 42 columns</p>\n",
       "</div>"
      ],
      "text/plain": [
       "   loss  accuracy        f1  \\\n",
       "0  None  0.668673  0.543704   \n",
       "0  None  0.682998  0.563479   \n",
       "0  None  0.662861  0.546156   \n",
       "\n",
       "                                           f1_scores  precision  \\\n",
       "0  [0.7868748008920038, 0.49107531562908147, 0.35...   0.546952   \n",
       "0  [0.7959705788295491, 0.518041237113402, 0.3764...   0.566490   \n",
       "0  [0.7787087235091179, 0.5161550888529887, 0.343...   0.543866   \n",
       "\n",
       "                                    precision_scores    recall  \\\n",
       "0  [0.777218376337319, 0.5040214477211796, 0.3596...  0.540830   \n",
       "0  [0.7891566265060241, 0.5243478260869565, 0.385...  0.560712   \n",
       "0  [0.7934382323401407, 0.49229583975346686, 0.34...  0.549445   \n",
       "\n",
       "                                       recall_scores valid_loss  \\\n",
       "0  [0.7967741935483871, 0.47877758913412566, 0.34...       None   \n",
       "0  [0.8029032258064516, 0.5118845500848896, 0.367...       None   \n",
       "0  [0.7645161290322581, 0.5424448217317487, 0.341...       None   \n",
       "\n",
       "   valid_accuracy  ...  learning_rate seed  loss_function gamma  k_fold  \\\n",
       "0        0.663522  ...         0.0005    1          focal     2    True   \n",
       "0        0.670283  ...         0.0005   12          focal     2    True   \n",
       "0        0.666981  ...         0.0005  123          focal     2    True   \n",
       "\n",
       "  n_splits  augmentation_type  hidden_dim_aug    comb_method batch_size  \n",
       "0        5             Conv1d            None  concatenation         64  \n",
       "0        5             Conv1d            None  concatenation         64  \n",
       "0        5             Conv1d            None  concatenation         64  \n",
       "\n",
       "[3 rows x 42 columns]"
      ]
     },
     "execution_count": 11,
     "metadata": {},
     "output_type": "execute_result"
    }
   ],
   "source": [
    "best_swmhau_network_umap_kfold_20"
   ]
  },
  {
   "cell_type": "code",
   "execution_count": 12,
   "id": "78b1127f-0371-40b9-a521-14f6f38f150f",
   "metadata": {},
   "outputs": [
    {
     "data": {
      "text/plain": [
       "0.5511132300345984"
      ]
     },
     "execution_count": 12,
     "metadata": {},
     "output_type": "execute_result"
    }
   ],
   "source": [
    "best_swmhau_network_umap_kfold_20[\"f1\"].mean()"
   ]
  },
  {
   "cell_type": "code",
   "execution_count": 13,
   "id": "500a7f96-d4df-44c0-93dc-60e3f38b5e7e",
   "metadata": {},
   "outputs": [
    {
     "data": {
      "text/plain": [
       "0.5524359230328121"
      ]
     },
     "execution_count": 13,
     "metadata": {},
     "output_type": "execute_result"
    }
   ],
   "source": [
    "best_swmhau_network_umap_kfold_20[\"precision\"].mean()"
   ]
  },
  {
   "cell_type": "code",
   "execution_count": 14,
   "id": "eb46a36b-60fd-4ff8-9c44-301db7b1c806",
   "metadata": {},
   "outputs": [
    {
     "data": {
      "text/plain": [
       "0.5503287929361177"
      ]
     },
     "execution_count": 14,
     "metadata": {},
     "output_type": "execute_result"
    }
   ],
   "source": [
    "best_swmhau_network_umap_kfold_20[\"recall\"].mean()"
   ]
  },
  {
   "cell_type": "code",
   "execution_count": 15,
   "id": "088a2cba-e1ee-45f3-9ebf-950d6828c9b6",
   "metadata": {},
   "outputs": [
    {
     "data": {
      "text/plain": [
       "array([0.7871847 , 0.50842388, 0.35773111])"
      ]
     },
     "execution_count": 15,
     "metadata": {},
     "output_type": "execute_result"
    }
   ],
   "source": [
    "np.stack(best_swmhau_network_umap_kfold_20[\"f1_scores\"]).mean(axis=0)"
   ]
  },
  {
   "cell_type": "code",
   "execution_count": 16,
   "id": "7fe395fe-9dfe-441c-bda8-e2304f3710db",
   "metadata": {},
   "outputs": [
    {
     "data": {
      "text/plain": [
       "array([0.78660441, 0.50688837, 0.36381499])"
      ]
     },
     "execution_count": 16,
     "metadata": {},
     "output_type": "execute_result"
    }
   ],
   "source": [
    "np.stack(best_swmhau_network_umap_kfold_20[\"precision_scores\"]).mean(axis=0)"
   ]
  },
  {
   "cell_type": "code",
   "execution_count": 17,
   "id": "6a62f0f1-1ba4-432e-a9c5-537150ea3a59",
   "metadata": {},
   "outputs": [
    {
     "data": {
      "text/plain": [
       "array([0.78806452, 0.51103565, 0.35188621])"
      ]
     },
     "execution_count": 17,
     "metadata": {},
     "output_type": "execute_result"
    }
   ],
   "source": [
    "np.stack(best_swmhau_network_umap_kfold_20[\"recall_scores\"]).mean(axis=0)"
   ]
  },
  {
   "cell_type": "markdown",
   "id": "f0787150-8266-48ee-97f5-5f711ce899c7",
   "metadata": {},
   "source": [
    "## Random Projections"
   ]
  },
  {
   "cell_type": "code",
   "execution_count": null,
   "id": "13a67a66",
   "metadata": {},
   "outputs": [
    {
     "data": {
      "application/vnd.jupyter.widget-view+json": {
       "model_id": "6bfdfa4661d2464d9658ecc5842e6b98",
       "version_major": 2,
       "version_minor": 0
      },
      "text/plain": [
       "  0%|          | 0/1 [00:00<?, ?it/s]"
      ]
     },
     "metadata": {},
     "output_type": "display_data"
    },
    {
     "data": {
      "application/vnd.jupyter.widget-view+json": {
       "model_id": "8580606257974a31843ea9f98b445446",
       "version_major": 2,
       "version_minor": 0
      },
      "text/plain": [
       "  0%|          | 0/1 [00:00<?, ?it/s]"
      ]
     },
     "metadata": {},
     "output_type": "display_data"
    },
    {
     "data": {
      "application/vnd.jupyter.widget-view+json": {
       "model_id": "e903f4672fc94b92b1a426fb75f3e143",
       "version_major": 2,
       "version_minor": 0
      },
      "text/plain": [
       "  0%|          | 0/1 [00:00<?, ?it/s]"
      ]
     },
     "metadata": {},
     "output_type": "display_data"
    },
    {
     "name": "stdout",
     "output_type": "stream",
     "text": [
      "\n",
      "##################################################\n",
      "dimension: 15 | method: gaussian_random_projection\n",
      "[INFO] Concatenating the embeddings to the dataframe...\n",
      "[INFO] - columns beginning with 'e' denote the full embddings.\n",
      "[INFO] - columns beginning with 'd' denote the dimension reduced embeddings.\n",
      "[INFO] Adding time feature columns into dataframe in `.df`.\n",
      "[INFO] Adding 'time_encoding' feature...\n",
      "[INFO] Adding 'time_diff' feature...\n",
      "[INFO] Adding 'timeline_index' feature...\n",
      "[INFO] Padding ids and storing in `.df_padded` and `.array_padded` attributes.\n"
     ]
    },
    {
     "data": {
      "application/vnd.jupyter.widget-view+json": {
       "model_id": "4ab79113fb0e4d2b83bdaf7dfee7eace",
       "version_major": 2,
       "version_minor": 0
      },
      "text/plain": [
       "  0%|          | 0/9699 [00:00<?, ?it/s]"
      ]
     },
     "metadata": {},
     "output_type": "display_data"
    },
    {
     "name": "stdout",
     "output_type": "stream",
     "text": [
      "[INFO] The path was created for each item in the dataframe, by looking at its history, so to include embeddings in the FFN input, we concatenate the embeddings for each sentence / text.\n"
     ]
    },
    {
     "data": {
      "application/vnd.jupyter.widget-view+json": {
       "model_id": "ffa2945597464eee9d68c9568b77cad0",
       "version_major": 2,
       "version_minor": 0
      },
      "text/plain": [
       "  0%|          | 0/3 [00:00<?, ?it/s]"
      ]
     },
     "metadata": {},
     "output_type": "display_data"
    },
    {
     "data": {
      "application/vnd.jupyter.widget-view+json": {
       "model_id": "545f888149a44a21a1b76b4f9b47acdc",
       "version_major": 2,
       "version_minor": 0
      },
      "text/plain": [
       "  0%|          | 0/1 [00:00<?, ?it/s]"
      ]
     },
     "metadata": {},
     "output_type": "display_data"
    },
    {
     "data": {
      "application/vnd.jupyter.widget-view+json": {
       "model_id": "7d70c4755dba4357be17ea4e910729cb",
       "version_major": 2,
       "version_minor": 0
      },
      "text/plain": [
       "  0%|          | 0/3 [00:00<?, ?it/s]"
      ]
     },
     "metadata": {},
     "output_type": "display_data"
    },
    {
     "data": {
      "application/vnd.jupyter.widget-view+json": {
       "model_id": "21fcf6dae6b549839bb30a9c23b846bd",
       "version_major": 2,
       "version_minor": 0
      },
      "text/plain": [
       "  0%|          | 0/2 [00:00<?, ?it/s]"
      ]
     },
     "metadata": {},
     "output_type": "display_data"
    },
    {
     "data": {
      "application/vnd.jupyter.widget-view+json": {
       "model_id": "c35427fb1f824d2498c20937eae9dbe1",
       "version_major": 2,
       "version_minor": 0
      },
      "text/plain": [
       "  0%|          | 0/3 [00:00<?, ?it/s]"
      ]
     },
     "metadata": {},
     "output_type": "display_data"
    },
    {
     "data": {
      "application/vnd.jupyter.widget-view+json": {
       "model_id": "0062bd9db71443bdb4c89ac2e3fe69ca",
       "version_major": 2,
       "version_minor": 0
      },
      "text/plain": [
       "  0%|          | 0/3 [00:00<?, ?it/s]"
      ]
     },
     "metadata": {},
     "output_type": "display_data"
    },
    {
     "data": {
      "application/vnd.jupyter.widget-view+json": {
       "model_id": "caf773eac3b94a1d999f195d9108b24c",
       "version_major": 2,
       "version_minor": 0
      },
      "text/plain": [
       "  0%|          | 0/2 [00:00<?, ?it/s]"
      ]
     },
     "metadata": {},
     "output_type": "display_data"
    },
    {
     "data": {
      "application/vnd.jupyter.widget-view+json": {
       "model_id": "fc6ab59aab5243e684cae6b91972de7f",
       "version_major": 2,
       "version_minor": 0
      },
      "text/plain": [
       "  0%|          | 0/3 [00:00<?, ?it/s]"
      ]
     },
     "metadata": {},
     "output_type": "display_data"
    },
    {
     "data": {
      "application/vnd.jupyter.widget-view+json": {
       "model_id": "7018aa6a10d045cba4be3c7c851f95f4",
       "version_major": 2,
       "version_minor": 0
      },
      "text/plain": [
       "  0%|          | 0/3 [00:00<?, ?it/s]"
      ]
     },
     "metadata": {},
     "output_type": "display_data"
    },
    {
     "data": {
      "application/vnd.jupyter.widget-view+json": {
       "model_id": "cf818c3bda5946d28d908f1a1159f7fd",
       "version_major": 2,
       "version_minor": 0
      },
      "text/plain": [
       "  0%|          | 0/2 [00:00<?, ?it/s]"
      ]
     },
     "metadata": {},
     "output_type": "display_data"
    },
    {
     "data": {
      "application/vnd.jupyter.widget-view+json": {
       "model_id": "35594002ea924debb7fd45ffb8deb593",
       "version_major": 2,
       "version_minor": 0
      },
      "text/plain": [
       "  0%|          | 0/3 [00:00<?, ?it/s]"
      ]
     },
     "metadata": {},
     "output_type": "display_data"
    },
    {
     "data": {
      "application/vnd.jupyter.widget-view+json": {
       "model_id": "23a716d337994c87993314ad52db51fa",
       "version_major": 2,
       "version_minor": 0
      },
      "text/plain": [
       "  0%|          | 0/3 [00:00<?, ?it/s]"
      ]
     },
     "metadata": {},
     "output_type": "display_data"
    },
    {
     "data": {
      "application/vnd.jupyter.widget-view+json": {
       "model_id": "a5122536d5184f268bfc1e3a01ac9c9a",
       "version_major": 2,
       "version_minor": 0
      },
      "text/plain": [
       "  0%|          | 0/1 [00:00<?, ?it/s]"
      ]
     },
     "metadata": {},
     "output_type": "display_data"
    },
    {
     "data": {
      "application/vnd.jupyter.widget-view+json": {
       "model_id": "012296d1a2434a8d8659ec615678aefc",
       "version_major": 2,
       "version_minor": 0
      },
      "text/plain": [
       "  0%|          | 0/3 [00:00<?, ?it/s]"
      ]
     },
     "metadata": {},
     "output_type": "display_data"
    },
    {
     "data": {
      "application/vnd.jupyter.widget-view+json": {
       "model_id": "d2aca8104a33482aa2171cb43f2d49b7",
       "version_major": 2,
       "version_minor": 0
      },
      "text/plain": [
       "  0%|          | 0/2 [00:00<?, ?it/s]"
      ]
     },
     "metadata": {},
     "output_type": "display_data"
    },
    {
     "data": {
      "application/vnd.jupyter.widget-view+json": {
       "model_id": "98fe76e961194f3a944389d99caed8d2",
       "version_major": 2,
       "version_minor": 0
      },
      "text/plain": [
       "  0%|          | 0/3 [00:00<?, ?it/s]"
      ]
     },
     "metadata": {},
     "output_type": "display_data"
    },
    {
     "data": {
      "application/vnd.jupyter.widget-view+json": {
       "model_id": "1e3701d0abde42788fb19467c30f2f58",
       "version_major": 2,
       "version_minor": 0
      },
      "text/plain": [
       "  0%|          | 0/3 [00:00<?, ?it/s]"
      ]
     },
     "metadata": {},
     "output_type": "display_data"
    },
    {
     "data": {
      "application/vnd.jupyter.widget-view+json": {
       "model_id": "05481f6ed7124a6e92ac21941ace8d5e",
       "version_major": 2,
       "version_minor": 0
      },
      "text/plain": [
       "  0%|          | 0/2 [00:00<?, ?it/s]"
      ]
     },
     "metadata": {},
     "output_type": "display_data"
    },
    {
     "data": {
      "application/vnd.jupyter.widget-view+json": {
       "model_id": "873137b5c3c74fa0a8de390548ea1685",
       "version_major": 2,
       "version_minor": 0
      },
      "text/plain": [
       "  0%|          | 0/3 [00:00<?, ?it/s]"
      ]
     },
     "metadata": {},
     "output_type": "display_data"
    },
    {
     "data": {
      "application/vnd.jupyter.widget-view+json": {
       "model_id": "516bf5db9f144372b09132c0f07de742",
       "version_major": 2,
       "version_minor": 0
      },
      "text/plain": [
       "  0%|          | 0/3 [00:00<?, ?it/s]"
      ]
     },
     "metadata": {},
     "output_type": "display_data"
    },
    {
     "data": {
      "application/vnd.jupyter.widget-view+json": {
       "model_id": "116832c0049c4903b09724d4b864453e",
       "version_major": 2,
       "version_minor": 0
      },
      "text/plain": [
       "  0%|          | 0/2 [00:00<?, ?it/s]"
      ]
     },
     "metadata": {},
     "output_type": "display_data"
    },
    {
     "data": {
      "application/vnd.jupyter.widget-view+json": {
       "model_id": "f3e215f8c6b441c4be05a46f3ee4f281",
       "version_major": 2,
       "version_minor": 0
      },
      "text/plain": [
       "  0%|          | 0/3 [00:00<?, ?it/s]"
      ]
     },
     "metadata": {},
     "output_type": "display_data"
    },
    {
     "data": {
      "application/vnd.jupyter.widget-view+json": {
       "model_id": "69174288326e4d14aec1e3bc71ba5947",
       "version_major": 2,
       "version_minor": 0
      },
      "text/plain": [
       "  0%|          | 0/3 [00:00<?, ?it/s]"
      ]
     },
     "metadata": {},
     "output_type": "display_data"
    },
    {
     "data": {
      "application/vnd.jupyter.widget-view+json": {
       "model_id": "5af0cdd3bf1c4db999509a8a1e7cbf41",
       "version_major": 2,
       "version_minor": 0
      },
      "text/plain": [
       "  0%|          | 0/1 [00:00<?, ?it/s]"
      ]
     },
     "metadata": {},
     "output_type": "display_data"
    },
    {
     "data": {
      "application/vnd.jupyter.widget-view+json": {
       "model_id": "ef74bd081d4042bfb6d760a575ac8cb3",
       "version_major": 2,
       "version_minor": 0
      },
      "text/plain": [
       "  0%|          | 0/3 [00:00<?, ?it/s]"
      ]
     },
     "metadata": {},
     "output_type": "display_data"
    },
    {
     "data": {
      "application/vnd.jupyter.widget-view+json": {
       "model_id": "3fb35949df3743c091647c148229fe34",
       "version_major": 2,
       "version_minor": 0
      },
      "text/plain": [
       "  0%|          | 0/2 [00:00<?, ?it/s]"
      ]
     },
     "metadata": {},
     "output_type": "display_data"
    },
    {
     "data": {
      "application/vnd.jupyter.widget-view+json": {
       "model_id": "9090f8db9b964b21ad35f7eed0f7223f",
       "version_major": 2,
       "version_minor": 0
      },
      "text/plain": [
       "  0%|          | 0/3 [00:00<?, ?it/s]"
      ]
     },
     "metadata": {},
     "output_type": "display_data"
    },
    {
     "data": {
      "application/vnd.jupyter.widget-view+json": {
       "model_id": "a53c67eb2d1045bc9b640168b68e373f",
       "version_major": 2,
       "version_minor": 0
      },
      "text/plain": [
       "  0%|          | 0/3 [00:00<?, ?it/s]"
      ]
     },
     "metadata": {},
     "output_type": "display_data"
    },
    {
     "data": {
      "application/vnd.jupyter.widget-view+json": {
       "model_id": "e6195c7ebf044b1e9b652f0065a096c1",
       "version_major": 2,
       "version_minor": 0
      },
      "text/plain": [
       "  0%|          | 0/2 [00:00<?, ?it/s]"
      ]
     },
     "metadata": {},
     "output_type": "display_data"
    },
    {
     "data": {
      "application/vnd.jupyter.widget-view+json": {
       "model_id": "0de25eef832247a9ae2be4e8fe53cd36",
       "version_major": 2,
       "version_minor": 0
      },
      "text/plain": [
       "  0%|          | 0/3 [00:00<?, ?it/s]"
      ]
     },
     "metadata": {},
     "output_type": "display_data"
    },
    {
     "data": {
      "application/vnd.jupyter.widget-view+json": {
       "model_id": "6184aa05481d41588ca8f4f58b487774",
       "version_major": 2,
       "version_minor": 0
      },
      "text/plain": [
       "  0%|          | 0/3 [00:00<?, ?it/s]"
      ]
     },
     "metadata": {},
     "output_type": "display_data"
    },
    {
     "data": {
      "application/vnd.jupyter.widget-view+json": {
       "model_id": "b8443eec3b664f3dab0364438b4f2864",
       "version_major": 2,
       "version_minor": 0
      },
      "text/plain": [
       "  0%|          | 0/2 [00:00<?, ?it/s]"
      ]
     },
     "metadata": {},
     "output_type": "display_data"
    },
    {
     "data": {
      "application/vnd.jupyter.widget-view+json": {
       "model_id": "648459719ae642d887b177b193b243a4",
       "version_major": 2,
       "version_minor": 0
      },
      "text/plain": [
       "  0%|          | 0/3 [00:00<?, ?it/s]"
      ]
     },
     "metadata": {},
     "output_type": "display_data"
    },
    {
     "data": {
      "application/vnd.jupyter.widget-view+json": {
       "model_id": "00f4bfaeb75e4c4894968ecf59c69922",
       "version_major": 2,
       "version_minor": 0
      },
      "text/plain": [
       "  0%|          | 0/3 [00:00<?, ?it/s]"
      ]
     },
     "metadata": {},
     "output_type": "display_data"
    },
    {
     "name": "stdout",
     "output_type": "stream",
     "text": [
      "[INFO] Concatenating the embeddings to the dataframe...\n",
      "[INFO] - columns beginning with 'e' denote the full embddings.\n",
      "[INFO] - columns beginning with 'd' denote the dimension reduced embeddings.\n",
      "[INFO] Adding time feature columns into dataframe in `.df`.\n",
      "[INFO] Adding 'time_encoding' feature...\n",
      "[INFO] Adding 'time_diff' feature...\n",
      "[INFO] Adding 'timeline_index' feature...\n",
      "[INFO] Padding ids and storing in `.df_padded` and `.array_padded` attributes.\n"
     ]
    },
    {
     "data": {
      "application/vnd.jupyter.widget-view+json": {
       "model_id": "cf2df93668a042bd8b67bd9af5793a19",
       "version_major": 2,
       "version_minor": 0
      },
      "text/plain": [
       "  0%|          | 0/9699 [00:00<?, ?it/s]"
      ]
     },
     "metadata": {},
     "output_type": "display_data"
    },
    {
     "name": "stdout",
     "output_type": "stream",
     "text": [
      "[INFO] The path was created for each item in the dataframe, by looking at its history, so to include embeddings in the FFN input, we concatenate the embeddings for each sentence / text.\n"
     ]
    }
   ],
   "source": [
    "size = 20\n",
    "swmhau_network_grp_kfold_20, best_swmhau_network_grp_kfold_20, _, __ = swmhau_network_hyperparameter_search(\n",
    "    num_epochs=num_epochs,\n",
    "    df=anno_mi,\n",
    "    id_column=\"transcript_id\",\n",
    "    label_column=\"client_talk_type\",\n",
    "    embeddings=sbert_embeddings,\n",
    "    y_data=y_data_client,\n",
    "    output_dim=output_dim_client,\n",
    "    history_lengths=[size],\n",
    "    dim_reduce_methods=[\"gaussian_random_projection\"],\n",
    "    dimensions=dimensions,\n",
    "    log_signature=True,\n",
    "    swmhau_parameters=swmhau_parameters,\n",
    "    num_layers=num_layers,\n",
    "    ffn_hidden_dim_sizes=ffn_hidden_dim_sizes,\n",
    "    dropout_rates=dropout_rates,\n",
    "    learning_rates=learning_rates,\n",
    "    seeds=seeds,\n",
    "    loss=loss,\n",
    "    gamma=gamma,\n",
    "    features=features,\n",
    "    standardise_method=standardise_method,\n",
    "    include_features_in_path=include_features_in_path,\n",
    "    path_indices=client_index,\n",
    "    k_fold=True,\n",
    "    patience=patience,\n",
    "    validation_metric=validation_metric,\n",
    "    results_output=f\"{output_dir}/swmhau_network_grp_focal_{gamma}_{size}_kfold.csv\",\n",
    "    verbose=False\n",
    ")"
   ]
  },
  {
   "cell_type": "code",
   "execution_count": null,
   "id": "0ec7c660",
   "metadata": {},
   "outputs": [],
   "source": [
    "swmhau_network_grp_kfold_20.groupby([\"dimensions\",\n",
    "                                     \"output_channels\",\n",
    "                                     \"sig_depth\",\n",
    "                                     \"num_heads\",\n",
    "                                     \"num_layers\",\n",
    "                                     \"ffn_hidden_dim\",\n",
    "                                     \"dropout_rate\",\n",
    "                                     \"learning_rate\"]).mean()"
   ]
  },
  {
   "cell_type": "code",
   "execution_count": null,
   "id": "603dee18",
   "metadata": {},
   "outputs": [],
   "source": [
    "best_swmhau_network_grp_kfold_20"
   ]
  },
  {
   "cell_type": "code",
   "execution_count": null,
   "id": "e9d503c3",
   "metadata": {},
   "outputs": [],
   "source": [
    "best_swmhau_network_grp_kfold_20[\"f1\"].mean()"
   ]
  },
  {
   "cell_type": "code",
   "execution_count": null,
   "id": "f3079077",
   "metadata": {},
   "outputs": [],
   "source": [
    "best_swmhau_network_grp_kfold_20[\"precision\"].mean()"
   ]
  },
  {
   "cell_type": "code",
   "execution_count": null,
   "id": "eb2894ed",
   "metadata": {},
   "outputs": [],
   "source": [
    "best_swmhau_network_grp_kfold_20[\"recall\"].mean()"
   ]
  },
  {
   "cell_type": "code",
   "execution_count": null,
   "id": "a3e8bbc5",
   "metadata": {},
   "outputs": [],
   "source": [
    "np.stack(best_swmhau_network_grp_kfold_20[\"f1_scores\"]).mean(axis=0)"
   ]
  },
  {
   "cell_type": "code",
   "execution_count": null,
   "id": "4601b7f2",
   "metadata": {},
   "outputs": [],
   "source": [
    "np.stack(best_swmhau_network_grp_kfold_20[\"precision_scores\"]).mean(axis=0)"
   ]
  },
  {
   "cell_type": "code",
   "execution_count": null,
   "id": "a3201dd5",
   "metadata": {},
   "outputs": [],
   "source": [
    "np.stack(best_swmhau_network_grp_kfold_20[\"recall_scores\"]).mean(axis=0)"
   ]
  }
 ],
 "metadata": {
  "kernelspec": {
   "display_name": "nlpsig-networks (Conda)",
   "language": "python",
   "name": "sys_nlpsig-networks"
  },
  "language_info": {
   "codemirror_mode": {
    "name": "ipython",
    "version": 3
   },
   "file_extension": ".py",
   "mimetype": "text/x-python",
   "name": "python",
   "nbconvert_exporter": "python",
   "pygments_lexer": "ipython3",
   "version": "3.8.17"
  }
 },
 "nbformat": 4,
 "nbformat_minor": 5
}
