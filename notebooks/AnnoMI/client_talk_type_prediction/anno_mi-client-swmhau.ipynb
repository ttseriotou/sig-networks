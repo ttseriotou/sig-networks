{
 "cells": [
  {
   "cell_type": "code",
   "execution_count": 1,
   "id": "a983a5e8",
   "metadata": {},
   "outputs": [],
   "source": [
    "import numpy as np\n",
    "import pickle\n",
    "import os\n",
    "from tqdm.notebook import tqdm\n",
    "\n",
    "seed = 2023"
   ]
  },
  {
   "cell_type": "code",
   "execution_count": 2,
   "id": "90c6b0be-804e-4176-bf0b-8ccf2298b3c3",
   "metadata": {},
   "outputs": [
    {
     "data": {
      "text/plain": [
       "device(type='cuda')"
      ]
     },
     "execution_count": 2,
     "metadata": {},
     "output_type": "execute_result"
    }
   ],
   "source": [
    "import torch\n",
    "\n",
    "# set device\n",
    "device = torch.device(\"cuda\" if torch.cuda.is_available() else \"cpu\")\n",
    "device"
   ]
  },
  {
   "cell_type": "code",
   "execution_count": 3,
   "id": "e4e666cc",
   "metadata": {},
   "outputs": [],
   "source": [
    "from nlpsig_networks.scripts.swmhau_network_functions import (\n",
    "    swmhau_network_hyperparameter_search,\n",
    ")"
   ]
  },
  {
   "cell_type": "code",
   "execution_count": 4,
   "id": "6e918dde",
   "metadata": {},
   "outputs": [],
   "source": [
    "output_dir = \"client_talk_type_output\"\n",
    "if not os.path.isdir(output_dir):\n",
    "    os.makedirs(output_dir)"
   ]
  },
  {
   "cell_type": "markdown",
   "id": "f7409a03",
   "metadata": {},
   "source": [
    "## AnnoMI"
   ]
  },
  {
   "cell_type": "code",
   "execution_count": 5,
   "id": "f00bb922",
   "metadata": {},
   "outputs": [],
   "source": [
    "%run ../load_anno_mi.py"
   ]
  },
  {
   "cell_type": "code",
   "execution_count": 6,
   "id": "720d820f",
   "metadata": {},
   "outputs": [
    {
     "data": {
      "text/html": [
       "<div>\n",
       "<style scoped>\n",
       "    .dataframe tbody tr th:only-of-type {\n",
       "        vertical-align: middle;\n",
       "    }\n",
       "\n",
       "    .dataframe tbody tr th {\n",
       "        vertical-align: top;\n",
       "    }\n",
       "\n",
       "    .dataframe thead th {\n",
       "        text-align: right;\n",
       "    }\n",
       "</style>\n",
       "<table border=\"1\" class=\"dataframe\">\n",
       "  <thead>\n",
       "    <tr style=\"text-align: right;\">\n",
       "      <th></th>\n",
       "      <th>mi_quality</th>\n",
       "      <th>transcript_id</th>\n",
       "      <th>topic</th>\n",
       "      <th>utterance_id</th>\n",
       "      <th>interlocutor</th>\n",
       "      <th>timestamp</th>\n",
       "      <th>utterance_text</th>\n",
       "      <th>annotator_id</th>\n",
       "      <th>therapist_input_exists</th>\n",
       "      <th>therapist_input_subtype</th>\n",
       "      <th>reflection_exists</th>\n",
       "      <th>reflection_subtype</th>\n",
       "      <th>question_exists</th>\n",
       "      <th>question_subtype</th>\n",
       "      <th>main_therapist_behaviour</th>\n",
       "      <th>client_talk_type</th>\n",
       "      <th>datetime</th>\n",
       "      <th>speaker</th>\n",
       "    </tr>\n",
       "  </thead>\n",
       "  <tbody>\n",
       "    <tr>\n",
       "      <th>0</th>\n",
       "      <td>high</td>\n",
       "      <td>0</td>\n",
       "      <td>reducing alcohol consumption</td>\n",
       "      <td>0</td>\n",
       "      <td>therapist</td>\n",
       "      <td>00:00:13</td>\n",
       "      <td>Thanks for filling it out. We give this form t...</td>\n",
       "      <td>3</td>\n",
       "      <td>False</td>\n",
       "      <td>NaN</td>\n",
       "      <td>False</td>\n",
       "      <td>NaN</td>\n",
       "      <td>True</td>\n",
       "      <td>open</td>\n",
       "      <td>question</td>\n",
       "      <td>NaN</td>\n",
       "      <td>2023-10-04 00:00:13</td>\n",
       "      <td>-1</td>\n",
       "    </tr>\n",
       "    <tr>\n",
       "      <th>1</th>\n",
       "      <td>high</td>\n",
       "      <td>0</td>\n",
       "      <td>reducing alcohol consumption</td>\n",
       "      <td>1</td>\n",
       "      <td>client</td>\n",
       "      <td>00:00:24</td>\n",
       "      <td>Sure.</td>\n",
       "      <td>3</td>\n",
       "      <td>NaN</td>\n",
       "      <td>NaN</td>\n",
       "      <td>NaN</td>\n",
       "      <td>NaN</td>\n",
       "      <td>NaN</td>\n",
       "      <td>NaN</td>\n",
       "      <td>NaN</td>\n",
       "      <td>neutral</td>\n",
       "      <td>2023-10-04 00:00:24</td>\n",
       "      <td>1</td>\n",
       "    </tr>\n",
       "    <tr>\n",
       "      <th>2</th>\n",
       "      <td>high</td>\n",
       "      <td>0</td>\n",
       "      <td>reducing alcohol consumption</td>\n",
       "      <td>2</td>\n",
       "      <td>therapist</td>\n",
       "      <td>00:00:25</td>\n",
       "      <td>So, let's see. It looks that you put-- You dri...</td>\n",
       "      <td>3</td>\n",
       "      <td>True</td>\n",
       "      <td>information</td>\n",
       "      <td>False</td>\n",
       "      <td>NaN</td>\n",
       "      <td>False</td>\n",
       "      <td>NaN</td>\n",
       "      <td>therapist_input</td>\n",
       "      <td>NaN</td>\n",
       "      <td>2023-10-04 00:00:25</td>\n",
       "      <td>-1</td>\n",
       "    </tr>\n",
       "    <tr>\n",
       "      <th>3</th>\n",
       "      <td>high</td>\n",
       "      <td>0</td>\n",
       "      <td>reducing alcohol consumption</td>\n",
       "      <td>3</td>\n",
       "      <td>client</td>\n",
       "      <td>00:00:34</td>\n",
       "      <td>Mm-hmm.</td>\n",
       "      <td>3</td>\n",
       "      <td>NaN</td>\n",
       "      <td>NaN</td>\n",
       "      <td>NaN</td>\n",
       "      <td>NaN</td>\n",
       "      <td>NaN</td>\n",
       "      <td>NaN</td>\n",
       "      <td>NaN</td>\n",
       "      <td>neutral</td>\n",
       "      <td>2023-10-04 00:00:34</td>\n",
       "      <td>1</td>\n",
       "    </tr>\n",
       "    <tr>\n",
       "      <th>4</th>\n",
       "      <td>high</td>\n",
       "      <td>0</td>\n",
       "      <td>reducing alcohol consumption</td>\n",
       "      <td>4</td>\n",
       "      <td>therapist</td>\n",
       "      <td>00:00:34</td>\n",
       "      <td>-and you usually have three to four drinks whe...</td>\n",
       "      <td>3</td>\n",
       "      <td>True</td>\n",
       "      <td>information</td>\n",
       "      <td>False</td>\n",
       "      <td>NaN</td>\n",
       "      <td>False</td>\n",
       "      <td>NaN</td>\n",
       "      <td>therapist_input</td>\n",
       "      <td>NaN</td>\n",
       "      <td>2023-10-04 00:00:34</td>\n",
       "      <td>-1</td>\n",
       "    </tr>\n",
       "  </tbody>\n",
       "</table>\n",
       "</div>"
      ],
      "text/plain": [
       "  mi_quality  transcript_id                         topic  utterance_id  \\\n",
       "0       high              0  reducing alcohol consumption             0   \n",
       "1       high              0  reducing alcohol consumption             1   \n",
       "2       high              0  reducing alcohol consumption             2   \n",
       "3       high              0  reducing alcohol consumption             3   \n",
       "4       high              0  reducing alcohol consumption             4   \n",
       "\n",
       "  interlocutor timestamp                                     utterance_text  \\\n",
       "0    therapist  00:00:13  Thanks for filling it out. We give this form t...   \n",
       "1       client  00:00:24                                              Sure.   \n",
       "2    therapist  00:00:25  So, let's see. It looks that you put-- You dri...   \n",
       "3       client  00:00:34                                            Mm-hmm.   \n",
       "4    therapist  00:00:34  -and you usually have three to four drinks whe...   \n",
       "\n",
       "   annotator_id therapist_input_exists therapist_input_subtype  \\\n",
       "0             3                  False                     NaN   \n",
       "1             3                    NaN                     NaN   \n",
       "2             3                   True             information   \n",
       "3             3                    NaN                     NaN   \n",
       "4             3                   True             information   \n",
       "\n",
       "  reflection_exists reflection_subtype question_exists question_subtype  \\\n",
       "0             False                NaN            True             open   \n",
       "1               NaN                NaN             NaN              NaN   \n",
       "2             False                NaN           False              NaN   \n",
       "3               NaN                NaN             NaN              NaN   \n",
       "4             False                NaN           False              NaN   \n",
       "\n",
       "  main_therapist_behaviour client_talk_type            datetime  speaker  \n",
       "0                 question              NaN 2023-10-04 00:00:13       -1  \n",
       "1                      NaN          neutral 2023-10-04 00:00:24        1  \n",
       "2          therapist_input              NaN 2023-10-04 00:00:25       -1  \n",
       "3                      NaN          neutral 2023-10-04 00:00:34        1  \n",
       "4          therapist_input              NaN 2023-10-04 00:00:34       -1  "
      ]
     },
     "execution_count": 6,
     "metadata": {},
     "output_type": "execute_result"
    }
   ],
   "source": [
    "anno_mi.head()"
   ]
  },
  {
   "cell_type": "code",
   "execution_count": 7,
   "id": "84d5594d",
   "metadata": {},
   "outputs": [
    {
     "data": {
      "text/plain": [
       "(9699, 384)"
      ]
     },
     "execution_count": 7,
     "metadata": {},
     "output_type": "execute_result"
    }
   ],
   "source": [
    "with open(\"../anno_mi_sbert.pkl\", \"rb\") as f:\n",
    "    sbert_embeddings = pickle.load(f)\n",
    "\n",
    "sbert_embeddings.shape"
   ]
  },
  {
   "cell_type": "markdown",
   "id": "da4ff92d",
   "metadata": {},
   "source": [
    "# swmhau Network"
   ]
  },
  {
   "cell_type": "markdown",
   "id": "32ae1a72",
   "metadata": {},
   "source": [
    "## Obtaining path by looking at post history\n",
    "\n",
    "We can obtain a path by looking at the history of each post. Here we look at the last 10 posts (and pad with vectors of zeros if there are less than 10 posts) including the current post.\n",
    "\n",
    "We only want to consider paths that correspond to a client's utterance as we want to model a change in mood at that time. Their history will still contain the therapist's utterances too."
   ]
  },
  {
   "cell_type": "code",
   "execution_count": 8,
   "id": "90bfd87c",
   "metadata": {},
   "outputs": [],
   "source": [
    "features = [\"timeline_index\", \"speaker\"]\n",
    "standardise_method = [None, None]\n",
    "include_features_in_path = True\n",
    "include_features_in_input = False"
   ]
  },
  {
   "cell_type": "code",
   "execution_count": 9,
   "id": "9e9bee3b",
   "metadata": {},
   "outputs": [],
   "source": [
    "num_epochs = 100\n",
    "dimensions = [15]\n",
    "# define swmhau parameters: (output_channels, sig_depth, num_heads)\n",
    "swmhau_parameters = [(12, 3, 10), (8, 4, 6)]\n",
    "num_layers = [1]\n",
    "ffn_hidden_dim_sizes = [[256, 256], [512, 512]]\n",
    "dropout_rates = [0.1, 0.2]\n",
    "learning_rates = [1e-3, 1e-4, 5e-4]\n",
    "seeds = [1, 12, 123]\n",
    "loss = \"focal\"\n",
    "gamma = 2\n",
    "validation_metric = \"f1\"\n",
    "patience = 5"
   ]
  },
  {
   "cell_type": "code",
   "execution_count": 10,
   "id": "e7bfd9fe",
   "metadata": {},
   "outputs": [],
   "source": [
    "kwargs = {\n",
    "    \"num_epochs\": num_epochs,\n",
    "    \"df\": anno_mi,\n",
    "    \"id_column\": \"transcript_id\",\n",
    "    \"label_column\": \"client_talk_type\",\n",
    "    \"embeddings\": sbert_embeddings,\n",
    "    \"y_data\": y_data_client,\n",
    "    \"output_dim\": output_dim_client,\n",
    "    \"dimensions\": dimensions,\n",
    "    \"log_signature\": True,\n",
    "    \"pooling\": \"signature\",\n",
    "    \"swmhau_parameters\": swmhau_parameters,\n",
    "    \"num_layers\": num_layers,\n",
    "    \"ffn_hidden_dim_sizes\": ffn_hidden_dim_sizes,\n",
    "    \"dropout_rates\": dropout_rates,\n",
    "    \"learning_rates\": learning_rates,\n",
    "    \"seeds\": seeds,\n",
    "    \"loss\": loss,\n",
    "    \"gamma\": gamma,\n",
    "    \"device\": device,\n",
    "    \"features\": features,\n",
    "    \"standardise_method\": standardise_method,\n",
    "    \"include_features_in_path\": include_features_in_path,\n",
    "    \"include_features_in_input\": include_features_in_input,\n",
    "    \"path_indices\": client_index,\n",
    "    \"split_ids\": client_transcript_id,\n",
    "    \"k_fold\": True,\n",
    "    \"patience\": patience,\n",
    "    \"validation_metric\": validation_metric,\n",
    "    \"verbose\": False,\n",
    "}"
   ]
  },
  {
   "cell_type": "markdown",
   "id": "60b17594-c534-4167-b9ab-f22610eb24fd",
   "metadata": {
    "tags": []
   },
   "source": [
    "# w=5"
   ]
  },
  {
   "cell_type": "code",
   "execution_count": 11,
   "id": "335bebc1-a48e-4551-ba19-d5a86e9a8779",
   "metadata": {},
   "outputs": [],
   "source": [
    "size = 5"
   ]
  },
  {
   "cell_type": "markdown",
   "id": "89a4bcc6-f9e4-4763-9bdf-b21003d5d257",
   "metadata": {},
   "source": [
    "## UMAP"
   ]
  },
  {
   "cell_type": "code",
   "execution_count": null,
   "id": "3739e09a",
   "metadata": {},
   "outputs": [
    {
     "data": {
      "application/vnd.jupyter.widget-view+json": {
       "model_id": "4f5098beb29346ef8061c6a39601ca4d",
       "version_major": 2,
       "version_minor": 0
      },
      "text/plain": [
       "  0%|          | 0/1 [00:00<?, ?it/s]"
      ]
     },
     "metadata": {},
     "output_type": "display_data"
    },
    {
     "data": {
      "application/vnd.jupyter.widget-view+json": {
       "model_id": "872de908dd1c4aab9573431804a2946a",
       "version_major": 2,
       "version_minor": 0
      },
      "text/plain": [
       "  0%|          | 0/1 [00:00<?, ?it/s]"
      ]
     },
     "metadata": {},
     "output_type": "display_data"
    },
    {
     "data": {
      "application/vnd.jupyter.widget-view+json": {
       "model_id": "a3683805fab74a2ea89b36362f7da028",
       "version_major": 2,
       "version_minor": 0
      },
      "text/plain": [
       "  0%|          | 0/1 [00:00<?, ?it/s]"
      ]
     },
     "metadata": {},
     "output_type": "display_data"
    },
    {
     "name": "stdout",
     "output_type": "stream",
     "text": [
      "\n",
      "##################################################\n",
      "dimension: 15 | method: umap\n",
      "[INFO] Concatenating the embeddings to the dataframe...\n",
      "[INFO] - columns beginning with 'e' denote the full embddings.\n",
      "[INFO] - columns beginning with 'd' denote the dimension reduced embeddings.\n",
      "[INFO] Adding time feature columns into dataframe in `.df`.\n",
      "[INFO] Adding 'time_encoding' feature...\n",
      "[INFO] Adding 'time_diff' feature...\n",
      "[INFO] Adding 'timeline_index' feature...\n",
      "[INFO] Padding ids and storing in `.df_padded` and `.array_padded` attributes.\n"
     ]
    },
    {
     "data": {
      "application/vnd.jupyter.widget-view+json": {
       "model_id": "0c060104383b424bbef05153ae06ac32",
       "version_major": 2,
       "version_minor": 0
      },
      "text/plain": [
       "  0%|          | 0/9699 [00:00<?, ?it/s]"
      ]
     },
     "metadata": {},
     "output_type": "display_data"
    },
    {
     "name": "stdout",
     "output_type": "stream",
     "text": [
      "[INFO] The path was created for each item in the dataframe, by looking at its history, so to include embeddings in the FFN input, we concatenate the embeddings for each sentence / text.\n"
     ]
    },
    {
     "data": {
      "application/vnd.jupyter.widget-view+json": {
       "model_id": "bac55b93258941e884b48151603e2dc9",
       "version_major": 2,
       "version_minor": 0
      },
      "text/plain": [
       "  0%|          | 0/2 [00:00<?, ?it/s]"
      ]
     },
     "metadata": {},
     "output_type": "display_data"
    },
    {
     "data": {
      "application/vnd.jupyter.widget-view+json": {
       "model_id": "fe724bd7bff84441b8eb4a0812da590d",
       "version_major": 2,
       "version_minor": 0
      },
      "text/plain": [
       "  0%|          | 0/1 [00:00<?, ?it/s]"
      ]
     },
     "metadata": {},
     "output_type": "display_data"
    },
    {
     "data": {
      "application/vnd.jupyter.widget-view+json": {
       "model_id": "a4e9fc75136e4f818db2b695c4e81273",
       "version_major": 2,
       "version_minor": 0
      },
      "text/plain": [
       "  0%|          | 0/2 [00:00<?, ?it/s]"
      ]
     },
     "metadata": {},
     "output_type": "display_data"
    },
    {
     "data": {
      "application/vnd.jupyter.widget-view+json": {
       "model_id": "7627e4753fcf4e158233b6ed21227810",
       "version_major": 2,
       "version_minor": 0
      },
      "text/plain": [
       "  0%|          | 0/2 [00:00<?, ?it/s]"
      ]
     },
     "metadata": {},
     "output_type": "display_data"
    },
    {
     "data": {
      "application/vnd.jupyter.widget-view+json": {
       "model_id": "60f3df613b7446868f4cc8afea965844",
       "version_major": 2,
       "version_minor": 0
      },
      "text/plain": [
       "  0%|          | 0/3 [00:00<?, ?it/s]"
      ]
     },
     "metadata": {},
     "output_type": "display_data"
    }
   ],
   "source": [
    "(\n",
    "    swmhau_network_umap_kfold_5,\n",
    "    best_swmhau_network_umap_kfold_5,\n",
    "    _,\n",
    "    __,\n",
    ") = swmhau_network_hyperparameter_search(\n",
    "    history_lengths=[size],\n",
    "    dim_reduce_methods=[\"umap\"],\n",
    "    results_output=f\"{output_dir}/swmhau_network_umap_focal_{gamma}_{size}_kfold.csv\",\n",
    "    **kwargs,\n",
    ")"
   ]
  },
  {
   "cell_type": "code",
   "execution_count": null,
   "id": "db912cd7-e74a-4893-987b-037b69c1fec8",
   "metadata": {},
   "outputs": [],
   "source": [
    "swmhau_network_umap_kfold_5.groupby(\n",
    "    [\n",
    "        \"dimensions\",\n",
    "        \"output_channels\",\n",
    "        \"sig_depth\",\n",
    "        \"num_heads\",\n",
    "        \"num_layers\",\n",
    "        \"ffn_hidden_dim\",\n",
    "        \"learning_rate\",\n",
    "    ]\n",
    ").mean()"
   ]
  },
  {
   "cell_type": "code",
   "execution_count": null,
   "id": "089e89fa-e2bc-4bd2-a063-d9c7d35ba390",
   "metadata": {},
   "outputs": [],
   "source": [
    "best_swmhau_network_umap_kfold_5"
   ]
  },
  {
   "cell_type": "code",
   "execution_count": null,
   "id": "78b1127f-0371-40b9-a521-14f6f38f150f",
   "metadata": {},
   "outputs": [],
   "source": [
    "best_swmhau_network_umap_kfold_5[\"f1\"].mean()"
   ]
  },
  {
   "cell_type": "code",
   "execution_count": null,
   "id": "500a7f96-d4df-44c0-93dc-60e3f38b5e7e",
   "metadata": {},
   "outputs": [],
   "source": [
    "best_swmhau_network_umap_kfold_5[\"precision\"].mean()"
   ]
  },
  {
   "cell_type": "code",
   "execution_count": null,
   "id": "eb46a36b-60fd-4ff8-9c44-301db7b1c806",
   "metadata": {},
   "outputs": [],
   "source": [
    "best_swmhau_network_umap_kfold_5[\"recall\"].mean()"
   ]
  },
  {
   "cell_type": "code",
   "execution_count": null,
   "id": "088a2cba-e1ee-45f3-9ebf-950d6828c9b6",
   "metadata": {},
   "outputs": [],
   "source": [
    "np.stack(best_swmhau_network_umap_kfold_5[\"f1_scores\"]).mean(axis=0)"
   ]
  },
  {
   "cell_type": "code",
   "execution_count": null,
   "id": "7fe395fe-9dfe-441c-bda8-e2304f3710db",
   "metadata": {},
   "outputs": [],
   "source": [
    "np.stack(best_swmhau_network_umap_kfold_5[\"precision_scores\"]).mean(axis=0)"
   ]
  },
  {
   "cell_type": "code",
   "execution_count": null,
   "id": "6a62f0f1-1ba4-432e-a9c5-537150ea3a59",
   "metadata": {},
   "outputs": [],
   "source": [
    "np.stack(best_swmhau_network_umap_kfold_5[\"recall_scores\"]).mean(axis=0)"
   ]
  },
  {
   "cell_type": "markdown",
   "id": "f0787150-8266-48ee-97f5-5f711ce899c7",
   "metadata": {},
   "source": [
    "## Random Projections"
   ]
  },
  {
   "cell_type": "code",
   "execution_count": null,
   "id": "13a67a66",
   "metadata": {},
   "outputs": [],
   "source": [
    "(\n",
    "    swmhau_network_grp_kfold_5,\n",
    "    best_swmhau_network_grp_kfold_5,\n",
    "    _,\n",
    "    __,\n",
    ") = swmhau_network_hyperparameter_search(\n",
    "    history_lengths=[size],\n",
    "    dim_reduce_methods=[\"gaussian_random_projection\"],\n",
    "    results_output=f\"{output_dir}/swmhau_network_grp_focal_{gamma}_{size}_kfold.csv\",\n",
    "    **kwargs,\n",
    ")"
   ]
  },
  {
   "cell_type": "code",
   "execution_count": null,
   "id": "0ec7c660",
   "metadata": {},
   "outputs": [],
   "source": [
    "swmhau_network_grp_kfold_5.groupby(\n",
    "    [\n",
    "        \"dimensions\",\n",
    "        \"output_channels\",\n",
    "        \"sig_depth\",\n",
    "        \"num_heads\",\n",
    "        \"num_layers\",\n",
    "        \"ffn_hidden_dim\",\n",
    "        \"dropout_rate\",\n",
    "        \"learning_rate\",\n",
    "    ]\n",
    ").mean()"
   ]
  },
  {
   "cell_type": "code",
   "execution_count": null,
   "id": "603dee18",
   "metadata": {},
   "outputs": [],
   "source": [
    "best_swmhau_network_grp_kfold_5"
   ]
  },
  {
   "cell_type": "code",
   "execution_count": null,
   "id": "e9d503c3",
   "metadata": {},
   "outputs": [],
   "source": [
    "best_swmhau_network_grp_kfold_5[\"f1\"].mean()"
   ]
  },
  {
   "cell_type": "code",
   "execution_count": null,
   "id": "f3079077",
   "metadata": {},
   "outputs": [],
   "source": [
    "best_swmhau_network_grp_kfold_5[\"precision\"].mean()"
   ]
  },
  {
   "cell_type": "code",
   "execution_count": null,
   "id": "eb2894ed",
   "metadata": {},
   "outputs": [],
   "source": [
    "best_swmhau_network_grp_kfold_5[\"recall\"].mean()"
   ]
  },
  {
   "cell_type": "code",
   "execution_count": null,
   "id": "a3e8bbc5",
   "metadata": {},
   "outputs": [],
   "source": [
    "np.stack(best_swmhau_network_grp_kfold_5[\"f1_scores\"]).mean(axis=0)"
   ]
  },
  {
   "cell_type": "code",
   "execution_count": null,
   "id": "4601b7f2",
   "metadata": {},
   "outputs": [],
   "source": [
    "np.stack(best_swmhau_network_grp_kfold_5[\"precision_scores\"]).mean(axis=0)"
   ]
  },
  {
   "cell_type": "code",
   "execution_count": null,
   "id": "a3201dd5",
   "metadata": {},
   "outputs": [],
   "source": [
    "np.stack(best_swmhau_network_grp_kfold_5[\"recall_scores\"]).mean(axis=0)"
   ]
  },
  {
   "cell_type": "markdown",
   "id": "e1431c13-2914-49f7-abb1-24c5afeba251",
   "metadata": {
    "jp-MarkdownHeadingCollapsed": true,
    "tags": []
   },
   "source": [
    "# w=11"
   ]
  },
  {
   "cell_type": "code",
   "execution_count": null,
   "id": "aa851ce9-ccfe-4fa2-ab4b-f3f37d85aa39",
   "metadata": {},
   "outputs": [],
   "source": [
    "size = 11"
   ]
  },
  {
   "cell_type": "markdown",
   "id": "81f15cd5-ae6d-4da5-8d9b-0d193894837d",
   "metadata": {},
   "source": [
    "## UMAP"
   ]
  },
  {
   "cell_type": "code",
   "execution_count": null,
   "id": "01603875-0ccd-4c4f-a413-d83bf73f41a7",
   "metadata": {},
   "outputs": [],
   "source": [
    "(\n",
    "    swmhau_network_umap_kfold_11,\n",
    "    best_swmhau_network_umap_kfold_11,\n",
    "    _,\n",
    "    __,\n",
    ") = swmhau_network_hyperparameter_search(\n",
    "    history_lengths=[size],\n",
    "    dim_reduce_methods=[\"umap\"],\n",
    "    results_output=f\"{output_dir}/swmhau_network_umap_focal_{gamma}_{size}_kfold.csv\",\n",
    "    **kwargs,\n",
    ")"
   ]
  },
  {
   "cell_type": "code",
   "execution_count": null,
   "id": "fc3f1c7b-b58b-4028-8e9b-36e776b2d7bc",
   "metadata": {},
   "outputs": [],
   "source": [
    "swmhau_network_umap_kfold_11.groupby(\n",
    "    [\n",
    "        \"dimensions\",\n",
    "        \"output_channels\",\n",
    "        \"sig_depth\",\n",
    "        \"num_heads\",\n",
    "        \"num_layers\",\n",
    "        \"ffn_hidden_dim\",\n",
    "        \"learning_rate\",\n",
    "    ]\n",
    ").mean()"
   ]
  },
  {
   "cell_type": "code",
   "execution_count": null,
   "id": "d3e6be90-11bb-439b-9534-13b843560ecc",
   "metadata": {},
   "outputs": [],
   "source": [
    "best_swmhau_network_umap_kfold_11"
   ]
  },
  {
   "cell_type": "code",
   "execution_count": null,
   "id": "3847c7cd-c774-45f9-a5c3-715d05f5846b",
   "metadata": {},
   "outputs": [],
   "source": [
    "best_swmhau_network_umap_kfold_11[\"f1\"].mean()"
   ]
  },
  {
   "cell_type": "code",
   "execution_count": null,
   "id": "0260e77a-d8ff-45e1-af7a-94423ccfd36e",
   "metadata": {},
   "outputs": [],
   "source": [
    "best_swmhau_network_umap_kfold_11[\"precision\"].mean()"
   ]
  },
  {
   "cell_type": "code",
   "execution_count": null,
   "id": "c66a4727-55f0-4a33-9879-09923cf90c17",
   "metadata": {},
   "outputs": [],
   "source": [
    "best_swmhau_network_umap_kfold_11[\"recall\"].mean()"
   ]
  },
  {
   "cell_type": "code",
   "execution_count": null,
   "id": "eab5a1d8-b0e1-4839-a69b-8f8b057f149f",
   "metadata": {},
   "outputs": [],
   "source": [
    "np.stack(best_swmhau_network_umap_kfold_11[\"f1_scores\"]).mean(axis=0)"
   ]
  },
  {
   "cell_type": "code",
   "execution_count": null,
   "id": "54b796ed-7160-448a-8ed4-a7d14fa7e107",
   "metadata": {},
   "outputs": [],
   "source": [
    "np.stack(best_swmhau_network_umap_kfold_11[\"precision_scores\"]).mean(axis=0)"
   ]
  },
  {
   "cell_type": "code",
   "execution_count": null,
   "id": "5de85881-75f4-4141-a692-8264fd53fba0",
   "metadata": {},
   "outputs": [],
   "source": [
    "np.stack(best_swmhau_network_umap_kfold_11[\"recall_scores\"]).mean(axis=0)"
   ]
  },
  {
   "cell_type": "markdown",
   "id": "8e1e81bc-c856-4b2b-bd60-a4480c855a0f",
   "metadata": {},
   "source": [
    "## Random Projections"
   ]
  },
  {
   "cell_type": "code",
   "execution_count": null,
   "id": "b69aae1a-b85c-4daf-bfd4-3ec6f8b779c1",
   "metadata": {},
   "outputs": [],
   "source": [
    "(\n",
    "    swmhau_network_grp_kfold_11,\n",
    "    best_swmhau_network_grp_kfold_11,\n",
    "    _,\n",
    "    __,\n",
    ") = swmhau_network_hyperparameter_search(\n",
    "    history_lengths=[size],\n",
    "    dim_reduce_methods=[\"gaussian_random_projection\"],\n",
    "    results_output=f\"{output_dir}/swmhau_network_grp_focal_{gamma}_{size}_kfold.csv\",\n",
    "    **kwargs,\n",
    ")"
   ]
  },
  {
   "cell_type": "code",
   "execution_count": null,
   "id": "cc2639bd-5381-4de1-909d-bda139bd5445",
   "metadata": {},
   "outputs": [],
   "source": [
    "swmhau_network_grp_kfold_11.groupby(\n",
    "    [\n",
    "        \"dimensions\",\n",
    "        \"output_channels\",\n",
    "        \"sig_depth\",\n",
    "        \"num_heads\",\n",
    "        \"num_layers\",\n",
    "        \"ffn_hidden_dim\",\n",
    "        \"dropout_rate\",\n",
    "        \"learning_rate\",\n",
    "    ]\n",
    ").mean()"
   ]
  },
  {
   "cell_type": "code",
   "execution_count": null,
   "id": "df4bb13b-e9aa-452e-aab1-01812ab0c9d1",
   "metadata": {},
   "outputs": [],
   "source": [
    "best_swmhau_network_grp_kfold_11"
   ]
  },
  {
   "cell_type": "code",
   "execution_count": null,
   "id": "a0aa7272-32d2-43f4-b59c-133b884f9ad5",
   "metadata": {},
   "outputs": [],
   "source": [
    "best_swmhau_network_grp_kfold_11[\"f1\"].mean()"
   ]
  },
  {
   "cell_type": "code",
   "execution_count": null,
   "id": "3cee0991-fe8e-424a-9669-6520a001fe54",
   "metadata": {},
   "outputs": [],
   "source": [
    "best_swmhau_network_grp_kfold_11[\"precision\"].mean()"
   ]
  },
  {
   "cell_type": "code",
   "execution_count": null,
   "id": "23ec51e4-3b62-445a-8c30-9a0a4cbba213",
   "metadata": {},
   "outputs": [],
   "source": [
    "best_swmhau_network_grp_kfold_11[\"recall\"].mean()"
   ]
  },
  {
   "cell_type": "code",
   "execution_count": null,
   "id": "3771a618-4a97-4e60-8eaa-a1b1dea07f97",
   "metadata": {},
   "outputs": [],
   "source": [
    "np.stack(best_swmhau_network_grp_kfold_11[\"f1_scores\"]).mean(axis=0)"
   ]
  },
  {
   "cell_type": "code",
   "execution_count": null,
   "id": "a720d58b-3db5-40fe-93b8-deb92d0bb2da",
   "metadata": {},
   "outputs": [],
   "source": [
    "np.stack(best_swmhau_network_grp_kfold_11[\"precision_scores\"]).mean(axis=0)"
   ]
  },
  {
   "cell_type": "code",
   "execution_count": null,
   "id": "3b780ee0-6d49-42f8-b230-adde72389ef1",
   "metadata": {},
   "outputs": [],
   "source": [
    "np.stack(best_swmhau_network_grp_kfold_11[\"recall_scores\"]).mean(axis=0)"
   ]
  },
  {
   "cell_type": "markdown",
   "id": "4a699ee2-1323-46bb-beee-f7995a33a275",
   "metadata": {
    "jp-MarkdownHeadingCollapsed": true,
    "tags": []
   },
   "source": [
    "# w=20"
   ]
  },
  {
   "cell_type": "code",
   "execution_count": null,
   "id": "38875513-9858-48c1-88a5-e4c494705700",
   "metadata": {},
   "outputs": [],
   "source": [
    "size = 20"
   ]
  },
  {
   "cell_type": "markdown",
   "id": "42e0ccac-5674-4ebe-93f6-e87afedd8079",
   "metadata": {},
   "source": [
    "## UMAP"
   ]
  },
  {
   "cell_type": "code",
   "execution_count": null,
   "id": "271b5e80-2c6a-4529-861d-ed0aaa8f66d8",
   "metadata": {},
   "outputs": [],
   "source": [
    "(\n",
    "    swmhau_network_umap_kfold_20,\n",
    "    best_swmhau_network_umap_kfold_20,\n",
    "    _,\n",
    "    __,\n",
    ") = swmhau_network_hyperparameter_search(\n",
    "    history_lengths=[size],\n",
    "    dim_reduce_methods=[\"umap\"],\n",
    "    results_output=f\"{output_dir}/swmhau_network_umap_focal_{gamma}_{size}_kfold.csv\",\n",
    "    **kwargs,\n",
    ")"
   ]
  },
  {
   "cell_type": "code",
   "execution_count": null,
   "id": "20da8a96-a4f6-463e-bcd1-fdd772805816",
   "metadata": {},
   "outputs": [],
   "source": [
    "swmhau_network_umap_kfold_20.groupby(\n",
    "    [\n",
    "        \"dimensions\",\n",
    "        \"output_channels\",\n",
    "        \"sig_depth\",\n",
    "        \"num_heads\",\n",
    "        \"num_layers\",\n",
    "        \"ffn_hidden_dim\",\n",
    "        \"learning_rate\",\n",
    "    ]\n",
    ").mean()"
   ]
  },
  {
   "cell_type": "code",
   "execution_count": null,
   "id": "51d62e05-8f5b-4e3e-a6c0-b656f6ace26f",
   "metadata": {},
   "outputs": [],
   "source": [
    "best_swmhau_network_umap_kfold_20"
   ]
  },
  {
   "cell_type": "code",
   "execution_count": null,
   "id": "f4d98e3e-1e17-496f-8c94-b0fce2c18c07",
   "metadata": {},
   "outputs": [],
   "source": [
    "best_swmhau_network_umap_kfold_20[\"f1\"].mean()"
   ]
  },
  {
   "cell_type": "code",
   "execution_count": null,
   "id": "1eeae923-3cac-41cc-baa7-21c0042106bf",
   "metadata": {},
   "outputs": [],
   "source": [
    "best_swmhau_network_umap_kfold_20[\"precision\"].mean()"
   ]
  },
  {
   "cell_type": "code",
   "execution_count": null,
   "id": "ad9a07dc-e4a4-4c20-bfc6-d5b51b4e6dad",
   "metadata": {},
   "outputs": [],
   "source": [
    "best_swmhau_network_umap_kfold_20[\"recall\"].mean()"
   ]
  },
  {
   "cell_type": "code",
   "execution_count": null,
   "id": "7ce3bc4e-2881-4105-8f4c-6553d361e09b",
   "metadata": {},
   "outputs": [],
   "source": [
    "np.stack(best_swmhau_network_umap_kfold_20[\"f1_scores\"]).mean(axis=0)"
   ]
  },
  {
   "cell_type": "code",
   "execution_count": null,
   "id": "7fca41f0-837c-4a55-8ea7-5b4932cbd4a3",
   "metadata": {},
   "outputs": [],
   "source": [
    "np.stack(best_swmhau_network_umap_kfold_20[\"precision_scores\"]).mean(axis=0)"
   ]
  },
  {
   "cell_type": "code",
   "execution_count": null,
   "id": "096cfd46-6507-45e0-b5b2-a5ff0612b1df",
   "metadata": {},
   "outputs": [],
   "source": [
    "np.stack(best_swmhau_network_umap_kfold_20[\"recall_scores\"]).mean(axis=0)"
   ]
  },
  {
   "cell_type": "markdown",
   "id": "2d13d71d-eb75-4526-8eef-ccb3571a5168",
   "metadata": {},
   "source": [
    "## Random Projections"
   ]
  },
  {
   "cell_type": "code",
   "execution_count": null,
   "id": "aa298ca7-86bb-4634-ac07-fbb5d131cf15",
   "metadata": {},
   "outputs": [],
   "source": [
    "(\n",
    "    swmhau_network_grp_kfold_20,\n",
    "    best_swmhau_network_grp_kfold_20,\n",
    "    _,\n",
    "    __,\n",
    ") = swmhau_network_hyperparameter_search(\n",
    "    history_lengths=[size],\n",
    "    dim_reduce_methods=[\"gaussian_random_projection\"],\n",
    "    results_output=f\"{output_dir}/swmhau_network_grp_focal_{gamma}_{size}_kfold.csv\",\n",
    "    **kwargs,\n",
    ")"
   ]
  },
  {
   "cell_type": "code",
   "execution_count": null,
   "id": "a1290304-41e6-43bc-a8e4-0b35f21adbfe",
   "metadata": {},
   "outputs": [],
   "source": [
    "swmhau_network_grp_kfold_20.groupby(\n",
    "    [\n",
    "        \"dimensions\",\n",
    "        \"output_channels\",\n",
    "        \"sig_depth\",\n",
    "        \"num_heads\",\n",
    "        \"num_layers\",\n",
    "        \"ffn_hidden_dim\",\n",
    "        \"dropout_rate\",\n",
    "        \"learning_rate\",\n",
    "    ]\n",
    ").mean()"
   ]
  },
  {
   "cell_type": "code",
   "execution_count": null,
   "id": "bbdef514-1dbc-4d0c-8a5e-246d1bc31b31",
   "metadata": {},
   "outputs": [],
   "source": [
    "best_swmhau_network_grp_kfold_20"
   ]
  },
  {
   "cell_type": "code",
   "execution_count": null,
   "id": "741d75da-d105-409d-a47c-1029792b4231",
   "metadata": {},
   "outputs": [],
   "source": [
    "best_swmhau_network_grp_kfold_20[\"f1\"].mean()"
   ]
  },
  {
   "cell_type": "code",
   "execution_count": null,
   "id": "1ef82d79-afa6-4b49-800a-ca762399ca66",
   "metadata": {},
   "outputs": [],
   "source": [
    "best_swmhau_network_grp_kfold_20[\"precision\"].mean()"
   ]
  },
  {
   "cell_type": "code",
   "execution_count": null,
   "id": "7de9c64a-15ad-47a1-beb0-97d26a1f514a",
   "metadata": {},
   "outputs": [],
   "source": [
    "best_swmhau_network_grp_kfold_20[\"recall\"].mean()"
   ]
  },
  {
   "cell_type": "code",
   "execution_count": null,
   "id": "900eeb94-36db-49a8-b69d-eb1da911bf5d",
   "metadata": {},
   "outputs": [],
   "source": [
    "np.stack(best_swmhau_network_grp_kfold_20[\"f1_scores\"]).mean(axis=0)"
   ]
  },
  {
   "cell_type": "code",
   "execution_count": null,
   "id": "928086c0-f0c0-4ceb-bf24-49a4b34c8d17",
   "metadata": {},
   "outputs": [],
   "source": [
    "np.stack(best_swmhau_network_grp_kfold_20[\"precision_scores\"]).mean(axis=0)"
   ]
  },
  {
   "cell_type": "code",
   "execution_count": null,
   "id": "62d9ab06-8b11-42a6-8aab-30f70ce845fb",
   "metadata": {},
   "outputs": [],
   "source": [
    "np.stack(best_swmhau_network_grp_kfold_20[\"recall_scores\"]).mean(axis=0)"
   ]
  },
  {
   "cell_type": "markdown",
   "id": "9387d218-6df1-41bc-b5b8-33829aa7c961",
   "metadata": {
    "jp-MarkdownHeadingCollapsed": true,
    "tags": []
   },
   "source": [
    "# w=35"
   ]
  },
  {
   "cell_type": "code",
   "execution_count": null,
   "id": "92617418-575e-41de-88dc-1166bf297801",
   "metadata": {},
   "outputs": [],
   "source": [
    "size = 35"
   ]
  },
  {
   "cell_type": "markdown",
   "id": "75fead20-765d-430b-aadf-b7baef6f94bf",
   "metadata": {},
   "source": [
    "## UMAP"
   ]
  },
  {
   "cell_type": "code",
   "execution_count": null,
   "id": "17e282c3-2cbd-4990-950a-dff95f97e58a",
   "metadata": {},
   "outputs": [],
   "source": [
    "(\n",
    "    swmhau_network_umap_kfold_35,\n",
    "    best_swmhau_network_umap_kfold_35,\n",
    "    _,\n",
    "    __,\n",
    ") = swmhau_network_hyperparameter_search(\n",
    "    history_lengths=[size],\n",
    "    dim_reduce_methods=[\"umap\"],\n",
    "    results_output=f\"{output_dir}/swmhau_network_umap_focal_{gamma}_{size}_kfold.csv\",\n",
    "    **kwargs,\n",
    ")"
   ]
  },
  {
   "cell_type": "code",
   "execution_count": null,
   "id": "034840d9-19b8-468b-aff9-0149f433782f",
   "metadata": {},
   "outputs": [],
   "source": [
    "swmhau_network_umap_kfold_35.groupby(\n",
    "    [\n",
    "        \"dimensions\",\n",
    "        \"output_channels\",\n",
    "        \"sig_depth\",\n",
    "        \"num_heads\",\n",
    "        \"num_layers\",\n",
    "        \"ffn_hidden_dim\",\n",
    "        \"learning_rate\",\n",
    "    ]\n",
    ").mean()"
   ]
  },
  {
   "cell_type": "code",
   "execution_count": null,
   "id": "672cbdf1-68d3-49dd-9c63-7d7d893d5027",
   "metadata": {},
   "outputs": [],
   "source": [
    "best_swmhau_network_umap_kfold_35"
   ]
  },
  {
   "cell_type": "code",
   "execution_count": null,
   "id": "4e805020-5b5f-4e04-97e9-7e378d5ebd9f",
   "metadata": {},
   "outputs": [],
   "source": [
    "best_swmhau_network_umap_kfold_35[\"f1\"].mean()"
   ]
  },
  {
   "cell_type": "code",
   "execution_count": null,
   "id": "a3367c1e-f6bc-4934-a8d0-d42b5ac69ea5",
   "metadata": {},
   "outputs": [],
   "source": [
    "best_swmhau_network_umap_kfold_35[\"precision\"].mean()"
   ]
  },
  {
   "cell_type": "code",
   "execution_count": null,
   "id": "6ff62c63-d76e-42f4-8c9a-e4d74ee8b968",
   "metadata": {},
   "outputs": [],
   "source": [
    "best_swmhau_network_umap_kfold_35[\"recall\"].mean()"
   ]
  },
  {
   "cell_type": "code",
   "execution_count": null,
   "id": "7137d800-9938-45c7-ba6c-12dae6efbe36",
   "metadata": {},
   "outputs": [],
   "source": [
    "np.stack(best_swmhau_network_umap_kfold_35[\"f1_scores\"]).mean(axis=0)"
   ]
  },
  {
   "cell_type": "code",
   "execution_count": null,
   "id": "1305b2d3-0312-4ba3-8b4b-ea245ab76e48",
   "metadata": {},
   "outputs": [],
   "source": [
    "np.stack(best_swmhau_network_umap_kfold_35[\"precision_scores\"]).mean(axis=0)"
   ]
  },
  {
   "cell_type": "code",
   "execution_count": null,
   "id": "98e1481a-729f-48a6-b317-856f75fa3d3b",
   "metadata": {},
   "outputs": [],
   "source": [
    "np.stack(best_swmhau_network_umap_kfold_35[\"recall_scores\"]).mean(axis=0)"
   ]
  },
  {
   "cell_type": "markdown",
   "id": "3974e06c-a795-4704-b86d-97aa8863190f",
   "metadata": {
    "tags": []
   },
   "source": [
    "## Random Projections"
   ]
  },
  {
   "cell_type": "code",
   "execution_count": null,
   "id": "44a57233-a0b2-4a0b-9255-9d449cedde2b",
   "metadata": {},
   "outputs": [],
   "source": [
    "(\n",
    "    swmhau_network_grp_kfold_35,\n",
    "    best_swmhau_network_grp_kfold_35,\n",
    "    _,\n",
    "    __,\n",
    ") = swmhau_network_hyperparameter_search(\n",
    "    history_lengths=[size],\n",
    "    dim_reduce_methods=[\"gaussian_random_projection\"],\n",
    "    results_output=f\"{output_dir}/swmhau_network_grp_focal_{gamma}_{size}_kfold.csv\",\n",
    "    **kwargs,\n",
    ")"
   ]
  },
  {
   "cell_type": "code",
   "execution_count": null,
   "id": "f1f25da7-9415-4fe3-9184-b16356aa7fe2",
   "metadata": {},
   "outputs": [],
   "source": [
    "swmhau_network_grp_kfold_35.groupby(\n",
    "    [\n",
    "        \"dimensions\",\n",
    "        \"output_channels\",\n",
    "        \"sig_depth\",\n",
    "        \"num_heads\",\n",
    "        \"num_layers\",\n",
    "        \"ffn_hidden_dim\",\n",
    "        \"dropout_rate\",\n",
    "        \"learning_rate\",\n",
    "    ]\n",
    ").mean()"
   ]
  },
  {
   "cell_type": "code",
   "execution_count": null,
   "id": "8241866e-398e-45c6-913b-7cd44690a52d",
   "metadata": {},
   "outputs": [],
   "source": [
    "best_swmhau_network_grp_kfold_35"
   ]
  },
  {
   "cell_type": "code",
   "execution_count": null,
   "id": "3f4be056-6bbf-40c0-86d5-ea9ab5f65aa3",
   "metadata": {},
   "outputs": [],
   "source": [
    "best_swmhau_network_grp_kfold_35[\"f1\"].mean()"
   ]
  },
  {
   "cell_type": "code",
   "execution_count": null,
   "id": "a4fa98a7-ad6a-4923-a350-3c9d884fef7b",
   "metadata": {},
   "outputs": [],
   "source": [
    "best_swmhau_network_grp_kfold_35[\"precision\"].mean()"
   ]
  },
  {
   "cell_type": "code",
   "execution_count": null,
   "id": "db757488-e4e7-4e4c-b1dc-467ca8516202",
   "metadata": {},
   "outputs": [],
   "source": [
    "best_swmhau_network_grp_kfold_35[\"recall\"].mean()"
   ]
  },
  {
   "cell_type": "code",
   "execution_count": null,
   "id": "078f25af-2abc-46a0-ad62-9761703c0540",
   "metadata": {},
   "outputs": [],
   "source": [
    "np.stack(best_swmhau_network_grp_kfold_35[\"f1_scores\"]).mean(axis=0)"
   ]
  },
  {
   "cell_type": "code",
   "execution_count": null,
   "id": "832dd0d2-2f11-420d-8347-ee388e3c4ddc",
   "metadata": {},
   "outputs": [],
   "source": [
    "np.stack(best_swmhau_network_grp_kfold_35[\"precision_scores\"]).mean(axis=0)"
   ]
  },
  {
   "cell_type": "code",
   "execution_count": null,
   "id": "6a95b9e6-0ad3-4739-a1da-305d582a609f",
   "metadata": {},
   "outputs": [],
   "source": [
    "np.stack(best_swmhau_network_grp_kfold_35[\"recall_scores\"]).mean(axis=0)"
   ]
  },
  {
   "cell_type": "markdown",
   "id": "4d238a9a-412d-4636-bed8-4f4177f0b7a2",
   "metadata": {
    "tags": []
   },
   "source": [
    "# w=80"
   ]
  },
  {
   "cell_type": "code",
   "execution_count": null,
   "id": "17f54364-89a4-4523-be6e-0e8360d3e6a8",
   "metadata": {},
   "outputs": [],
   "source": [
    "size = 80"
   ]
  },
  {
   "cell_type": "markdown",
   "id": "448e429e-1ff6-4956-8480-036c5fae2cb7",
   "metadata": {},
   "source": [
    "## UMAP"
   ]
  },
  {
   "cell_type": "code",
   "execution_count": null,
   "id": "a46b182f-9c46-4d3d-acac-4bb81ccf416d",
   "metadata": {},
   "outputs": [],
   "source": [
    "(\n",
    "    swmhau_network_umap_kfold_80,\n",
    "    best_swmhau_network_umap_kfold_80,\n",
    "    _,\n",
    "    __,\n",
    ") = swmhau_network_hyperparameter_search(\n",
    "    history_lengths=[size],\n",
    "    dim_reduce_methods=[\"umap\"],\n",
    "    results_output=f\"{output_dir}/swmhau_network_umap_focal_{gamma}_{size}_kfold.csv\",\n",
    "    **kwargs,\n",
    ")"
   ]
  },
  {
   "cell_type": "code",
   "execution_count": null,
   "id": "eeb92e56-5c5d-426e-9614-0633d7398a9a",
   "metadata": {},
   "outputs": [],
   "source": [
    "swmhau_network_umap_kfold_80.groupby(\n",
    "    [\n",
    "        \"dimensions\",\n",
    "        \"output_channels\",\n",
    "        \"sig_depth\",\n",
    "        \"num_heads\",\n",
    "        \"num_layers\",\n",
    "        \"ffn_hidden_dim\",\n",
    "        \"learning_rate\",\n",
    "    ]\n",
    ").mean()"
   ]
  },
  {
   "cell_type": "code",
   "execution_count": null,
   "id": "2393a351-f28d-4438-875f-9975da059478",
   "metadata": {},
   "outputs": [],
   "source": [
    "best_swmhau_network_umap_kfold_80"
   ]
  },
  {
   "cell_type": "code",
   "execution_count": null,
   "id": "c7abb269-4251-4026-9d4f-5c8aa9e9d58a",
   "metadata": {},
   "outputs": [],
   "source": [
    "best_swmhau_network_umap_kfold_80[\"f1\"].mean()"
   ]
  },
  {
   "cell_type": "code",
   "execution_count": null,
   "id": "dde91ba9-fb52-4474-8216-1a11d1ef07a8",
   "metadata": {},
   "outputs": [],
   "source": [
    "best_swmhau_network_umap_kfold_80[\"precision\"].mean()"
   ]
  },
  {
   "cell_type": "code",
   "execution_count": null,
   "id": "c9fab9c4-7cd8-4b24-9b81-f9c6357176de",
   "metadata": {},
   "outputs": [],
   "source": [
    "best_swmhau_network_umap_kfold_80[\"recall\"].mean()"
   ]
  },
  {
   "cell_type": "code",
   "execution_count": null,
   "id": "53973272-ef5c-485f-a1b1-118d5ce758aa",
   "metadata": {},
   "outputs": [],
   "source": [
    "np.stack(best_swmhau_network_umap_kfold_80[\"f1_scores\"]).mean(axis=0)"
   ]
  },
  {
   "cell_type": "code",
   "execution_count": null,
   "id": "b38f4ad3-a8f1-46af-b803-11f74fe97d0a",
   "metadata": {},
   "outputs": [],
   "source": [
    "np.stack(best_swmhau_network_umap_kfold_80[\"precision_scores\"]).mean(axis=0)"
   ]
  },
  {
   "cell_type": "code",
   "execution_count": null,
   "id": "5191459a-d20a-492d-b9c7-4ae139973105",
   "metadata": {},
   "outputs": [],
   "source": [
    "np.stack(best_swmhau_network_umap_kfold_80[\"recall_scores\"]).mean(axis=0)"
   ]
  },
  {
   "cell_type": "markdown",
   "id": "d03ebc14-9626-4de9-927a-c03c694b48b0",
   "metadata": {},
   "source": [
    "## Random Projections"
   ]
  },
  {
   "cell_type": "code",
   "execution_count": null,
   "id": "8f347b9b-9b03-4943-92cf-60a4efdd3aae",
   "metadata": {},
   "outputs": [],
   "source": [
    "(\n",
    "    swmhau_network_grp_kfold_80,\n",
    "    best_swmhau_network_grp_kfold_80,\n",
    "    _,\n",
    "    __,\n",
    ") = swmhau_network_hyperparameter_search(\n",
    "    history_lengths=[size],\n",
    "    dim_reduce_methods=[\"gaussian_random_projection\"],\n",
    "    results_output=f\"{output_dir}/swmhau_network_grp_focal_{gamma}_{size}_kfold.csv\",\n",
    "    **kwargs,\n",
    ")"
   ]
  },
  {
   "cell_type": "code",
   "execution_count": null,
   "id": "4fb2809b-c9eb-4d8e-a93c-f735ffa86d4a",
   "metadata": {},
   "outputs": [],
   "source": [
    "swmhau_network_grp_kfold_80.groupby(\n",
    "    [\n",
    "        \"dimensions\",\n",
    "        \"output_channels\",\n",
    "        \"sig_depth\",\n",
    "        \"num_heads\",\n",
    "        \"num_layers\",\n",
    "        \"ffn_hidden_dim\",\n",
    "        \"dropout_rate\",\n",
    "        \"learning_rate\",\n",
    "    ]\n",
    ").mean()"
   ]
  },
  {
   "cell_type": "code",
   "execution_count": null,
   "id": "67b21286-a4a6-4f85-a60d-e49d231a695b",
   "metadata": {},
   "outputs": [],
   "source": [
    "best_swmhau_network_grp_kfold_80"
   ]
  },
  {
   "cell_type": "code",
   "execution_count": null,
   "id": "4bf343c9-e5cf-4f57-ac94-2bbb2e289805",
   "metadata": {},
   "outputs": [],
   "source": [
    "best_swmhau_network_grp_kfold_80[\"f1\"].mean()"
   ]
  },
  {
   "cell_type": "code",
   "execution_count": null,
   "id": "dbdac3b6-2e84-4678-9aac-f6e84401dd09",
   "metadata": {},
   "outputs": [],
   "source": [
    "best_swmhau_network_grp_kfold_80[\"precision\"].mean()"
   ]
  },
  {
   "cell_type": "code",
   "execution_count": null,
   "id": "b88902fb-9937-47ef-b203-c08ce3dbe330",
   "metadata": {},
   "outputs": [],
   "source": [
    "best_swmhau_network_grp_kfold_80[\"recall\"].mean()"
   ]
  },
  {
   "cell_type": "code",
   "execution_count": null,
   "id": "6b436604-993a-46f8-82a0-2271f38f90e1",
   "metadata": {},
   "outputs": [],
   "source": [
    "np.stack(best_swmhau_network_grp_kfold_80[\"f1_scores\"]).mean(axis=0)"
   ]
  },
  {
   "cell_type": "code",
   "execution_count": null,
   "id": "7ec6bbfa-03d9-4bb5-8c70-b5226b645644",
   "metadata": {},
   "outputs": [],
   "source": [
    "np.stack(best_swmhau_network_grp_kfold_80[\"precision_scores\"]).mean(axis=0)"
   ]
  },
  {
   "cell_type": "code",
   "execution_count": null,
   "id": "441f60aa-bf0a-46d6-8dda-95da5ce5bcd4",
   "metadata": {},
   "outputs": [],
   "source": [
    "np.stack(best_swmhau_network_grp_kfold_80[\"recall_scores\"]).mean(axis=0)"
   ]
  },
  {
   "cell_type": "markdown",
   "id": "75e20aba-f768-4d35-9180-e5598257b23e",
   "metadata": {},
   "source": [
    "## w=110"
   ]
  },
  {
   "cell_type": "code",
   "execution_count": null,
   "id": "083a9f80-ca4a-469e-96c4-746063c6ee68",
   "metadata": {},
   "outputs": [],
   "source": [
    "size = 110"
   ]
  },
  {
   "cell_type": "markdown",
   "id": "2572fdae-a5f0-4efd-9e59-c1f6b8615481",
   "metadata": {},
   "source": [
    "## UMAP"
   ]
  },
  {
   "cell_type": "code",
   "execution_count": null,
   "id": "0847ca2d-1bc1-4612-bee3-3ee8ba7ca87b",
   "metadata": {},
   "outputs": [],
   "source": [
    "(\n",
    "    swmhau_network_umap_kfold_110,\n",
    "    best_swmhau_network_umap_kfold_110,\n",
    "    _,\n",
    "    __,\n",
    ") = swmhau_network_hyperparameter_search(\n",
    "    history_lengths=[size],\n",
    "    dim_reduce_methods=[\"umap\"],\n",
    "    results_output=f\"{output_dir}/swmhau_network_umap_focal_{gamma}_{size}_kfold.csv\",\n",
    "    **kwargs,\n",
    ")"
   ]
  },
  {
   "cell_type": "code",
   "execution_count": null,
   "id": "4cdba92e-a991-4026-8349-6380ae55ed96",
   "metadata": {},
   "outputs": [],
   "source": [
    "swmhau_network_umap_kfold_110.groupby(\n",
    "    [\n",
    "        \"dimensions\",\n",
    "        \"output_channels\",\n",
    "        \"sig_depth\",\n",
    "        \"num_heads\",\n",
    "        \"num_layers\",\n",
    "        \"ffn_hidden_dim\",\n",
    "        \"learning_rate\",\n",
    "    ]\n",
    ").mean()"
   ]
  },
  {
   "cell_type": "code",
   "execution_count": null,
   "id": "f5f3b64b-e0da-4f49-a3dd-75c77efd6ed3",
   "metadata": {},
   "outputs": [],
   "source": [
    "best_swmhau_network_umap_kfold_110"
   ]
  },
  {
   "cell_type": "code",
   "execution_count": null,
   "id": "5ac399b4-8083-48f0-80e0-bd0151fb38eb",
   "metadata": {},
   "outputs": [],
   "source": [
    "best_swmhau_network_umap_kfold_110[\"f1\"].mean()"
   ]
  },
  {
   "cell_type": "code",
   "execution_count": null,
   "id": "b86f18c0-eb2f-48df-9b2c-6617f4596660",
   "metadata": {},
   "outputs": [],
   "source": [
    "best_swmhau_network_umap_kfold_110[\"precision\"].mean()"
   ]
  },
  {
   "cell_type": "code",
   "execution_count": null,
   "id": "e76274d2-2297-4de0-8bfa-a5b127b5d7a2",
   "metadata": {},
   "outputs": [],
   "source": [
    "best_swmhau_network_umap_kfold_110[\"recall\"].mean()"
   ]
  },
  {
   "cell_type": "code",
   "execution_count": null,
   "id": "eebf5385-b1b5-46ee-b400-609b7d972e32",
   "metadata": {},
   "outputs": [],
   "source": [
    "np.stack(best_swmhau_network_umap_kfold_110[\"f1_scores\"]).mean(axis=0)"
   ]
  },
  {
   "cell_type": "code",
   "execution_count": null,
   "id": "a17d79f3-1129-4274-826d-f341d45ca97a",
   "metadata": {},
   "outputs": [],
   "source": [
    "np.stack(best_swmhau_network_umap_kfold_110[\"precision_scores\"]).mean(axis=0)"
   ]
  },
  {
   "cell_type": "code",
   "execution_count": null,
   "id": "daf21267-0d65-4bc3-be0a-a9126750ac9e",
   "metadata": {},
   "outputs": [],
   "source": [
    "np.stack(best_swmhau_network_umap_kfold_110[\"recall_scores\"]).mean(axis=0)"
   ]
  },
  {
   "cell_type": "markdown",
   "id": "b084b3ff-a738-4742-a72b-33a794e418a3",
   "metadata": {},
   "source": [
    "## Random Projections"
   ]
  },
  {
   "cell_type": "code",
   "execution_count": null,
   "id": "1b364409-d905-4857-99cb-ed06a451fca1",
   "metadata": {},
   "outputs": [],
   "source": [
    "(\n",
    "    swmhau_network_grp_kfold_110,\n",
    "    best_swmhau_network_grp_kfold_110,\n",
    "    _,\n",
    "    __,\n",
    ") = swmhau_network_hyperparameter_search(\n",
    "    history_lengths=[size],\n",
    "    dim_reduce_methods=[\"gaussian_random_projection\"],\n",
    "    results_output=f\"{output_dir}/swmhau_network_grp_focal_{gamma}_{size}_kfold.csv\",\n",
    "    **kwargs,\n",
    ")"
   ]
  },
  {
   "cell_type": "code",
   "execution_count": null,
   "id": "2b3b4cb3-de13-4f0a-8bfd-049a043d648b",
   "metadata": {},
   "outputs": [],
   "source": [
    "swmhau_network_grp_kfold_5.groupby(\n",
    "    [\n",
    "        \"dimensions\",\n",
    "        \"output_channels\",\n",
    "        \"sig_depth\",\n",
    "        \"num_heads\",\n",
    "        \"num_layers\",\n",
    "        \"ffn_hidden_dim\",\n",
    "        \"dropout_rate\",\n",
    "        \"learning_rate\",\n",
    "    ]\n",
    ").mean()"
   ]
  },
  {
   "cell_type": "code",
   "execution_count": null,
   "id": "0c15deb9-587b-42e7-9661-42e07f752ee3",
   "metadata": {},
   "outputs": [],
   "source": [
    "best_swmhau_network_grp_kfold_20"
   ]
  },
  {
   "cell_type": "code",
   "execution_count": 62,
   "id": "741d75da-d105-409d-a47c-1029792b4231",
   "metadata": {},
   "outputs": [
    {
     "data": {
      "text/plain": [
       "0.48470926457915864"
      ]
     },
     "execution_count": 62,
     "metadata": {},
     "output_type": "execute_result"
    }
   ],
   "source": [
    "best_swmhau_network_grp_kfold_20[\"f1\"].mean()"
   ]
  },
  {
   "cell_type": "code",
   "execution_count": 63,
   "id": "1ef82d79-afa6-4b49-800a-ca762399ca66",
   "metadata": {},
   "outputs": [
    {
     "data": {
      "text/plain": [
       "0.48288163634738"
      ]
     },
     "execution_count": 63,
     "metadata": {},
     "output_type": "execute_result"
    }
   ],
   "source": [
    "best_swmhau_network_grp_kfold_20[\"precision\"].mean()"
   ]
  },
  {
   "cell_type": "code",
   "execution_count": 64,
   "id": "7de9c64a-15ad-47a1-beb0-97d26a1f514a",
   "metadata": {},
   "outputs": [
    {
     "data": {
      "text/plain": [
       "0.48735577008635894"
      ]
     },
     "execution_count": 64,
     "metadata": {},
     "output_type": "execute_result"
    }
   ],
   "source": [
    "best_swmhau_network_grp_kfold_20[\"recall\"].mean()"
   ]
  },
  {
   "cell_type": "code",
   "execution_count": 65,
   "id": "900eeb94-36db-49a8-b69d-eb1da911bf5d",
   "metadata": {},
   "outputs": [
    {
     "data": {
      "text/plain": [
       "array([0.75505381, 0.39767772, 0.30139626])"
      ]
     },
     "execution_count": 65,
     "metadata": {},
     "output_type": "execute_result"
    }
   ],
   "source": [
    "np.stack(best_swmhau_network_grp_kfold_20[\"f1_scores\"]).mean(axis=0)"
   ]
  },
  {
   "cell_type": "code",
   "execution_count": 66,
   "id": "928086c0-f0c0-4ceb-bf24-49a4b34c8d17",
   "metadata": {},
   "outputs": [
    {
     "data": {
      "text/plain": [
       "array([0.76263008, 0.39263368, 0.29338114])"
      ]
     },
     "execution_count": 66,
     "metadata": {},
     "output_type": "execute_result"
    }
   ],
   "source": [
    "np.stack(best_swmhau_network_grp_kfold_20[\"precision_scores\"]).mean(axis=0)"
   ]
  },
  {
   "cell_type": "code",
   "execution_count": 67,
   "id": "62d9ab06-8b11-42a6-8aab-30f70ce845fb",
   "metadata": {},
   "outputs": [
    {
     "data": {
      "text/plain": [
       "array([0.74802391, 0.40374037, 0.31030303])"
      ]
     },
     "execution_count": 67,
     "metadata": {},
     "output_type": "execute_result"
    }
   ],
   "source": [
    "np.stack(best_swmhau_network_grp_kfold_20[\"recall_scores\"]).mean(axis=0)"
   ]
  },
  {
   "cell_type": "markdown",
   "id": "9387d218-6df1-41bc-b5b8-33829aa7c961",
   "metadata": {
    "tags": []
   },
   "source": [
    "# w=35"
   ]
  },
  {
   "cell_type": "code",
   "execution_count": 68,
   "id": "92617418-575e-41de-88dc-1166bf297801",
   "metadata": {},
   "outputs": [],
   "source": [
    "size = 35"
   ]
  },
  {
   "cell_type": "markdown",
   "id": "75fead20-765d-430b-aadf-b7baef6f94bf",
   "metadata": {},
   "source": [
    "## UMAP"
   ]
  },
  {
   "cell_type": "code",
   "execution_count": 69,
   "id": "17e282c3-2cbd-4990-950a-dff95f97e58a",
   "metadata": {},
   "outputs": [
    {
     "data": {
      "application/vnd.jupyter.widget-view+json": {
       "model_id": "5721e24c7b994933a0ff8cea8144c6c8",
       "version_major": 2,
       "version_minor": 0
      },
      "text/plain": [
       "  0%|          | 0/1 [00:00<?, ?it/s]"
      ]
     },
     "metadata": {},
     "output_type": "display_data"
    },
    {
     "data": {
      "application/vnd.jupyter.widget-view+json": {
       "model_id": "1a1d11e3c1d74eb7937df19002129435",
       "version_major": 2,
       "version_minor": 0
      },
      "text/plain": [
       "  0%|          | 0/1 [00:00<?, ?it/s]"
      ]
     },
     "metadata": {},
     "output_type": "display_data"
    },
    {
     "data": {
      "application/vnd.jupyter.widget-view+json": {
       "model_id": "ec212202309a459fb297278a444a55d9",
       "version_major": 2,
       "version_minor": 0
      },
      "text/plain": [
       "  0%|          | 0/1 [00:00<?, ?it/s]"
      ]
     },
     "metadata": {},
     "output_type": "display_data"
    },
    {
     "name": "stdout",
     "output_type": "stream",
     "text": [
      "\n",
      "##################################################\n",
      "dimension: 15 | method: umap\n",
      "[INFO] Concatenating the embeddings to the dataframe...\n",
      "[INFO] - columns beginning with 'e' denote the full embddings.\n",
      "[INFO] - columns beginning with 'd' denote the dimension reduced embeddings.\n",
      "[INFO] Adding time feature columns into dataframe in `.df`.\n",
      "[INFO] Adding 'time_encoding' feature...\n",
      "[INFO] Adding 'time_diff' feature...\n",
      "[INFO] Adding 'timeline_index' feature...\n",
      "[INFO] Padding ids and storing in `.df_padded` and `.array_padded` attributes.\n"
     ]
    },
    {
     "data": {
      "application/vnd.jupyter.widget-view+json": {
       "model_id": "8a96940da2ae4d428945add5b4decafe",
       "version_major": 2,
       "version_minor": 0
      },
      "text/plain": [
       "  0%|          | 0/9699 [00:00<?, ?it/s]"
      ]
     },
     "metadata": {},
     "output_type": "display_data"
    },
    {
     "name": "stdout",
     "output_type": "stream",
     "text": [
      "[INFO] The path was created for each item in the dataframe, by looking at its history, so to include embeddings in the FFN input, we concatenate the embeddings for each sentence / text.\n"
     ]
    },
    {
     "data": {
      "application/vnd.jupyter.widget-view+json": {
       "model_id": "0d01f190180e4579b60559693c1650ca",
       "version_major": 2,
       "version_minor": 0
      },
      "text/plain": [
       "  0%|          | 0/2 [00:00<?, ?it/s]"
      ]
     },
     "metadata": {},
     "output_type": "display_data"
    },
    {
     "data": {
      "application/vnd.jupyter.widget-view+json": {
       "model_id": "98f569f1ac5e4883b6dc804a18f45210",
       "version_major": 2,
       "version_minor": 0
      },
      "text/plain": [
       "  0%|          | 0/1 [00:00<?, ?it/s]"
      ]
     },
     "metadata": {},
     "output_type": "display_data"
    },
    {
     "data": {
      "application/vnd.jupyter.widget-view+json": {
       "model_id": "4e3084ca113f4d1282f0a3dba081d3e6",
       "version_major": 2,
       "version_minor": 0
      },
      "text/plain": [
       "  0%|          | 0/2 [00:00<?, ?it/s]"
      ]
     },
     "metadata": {},
     "output_type": "display_data"
    },
    {
     "data": {
      "application/vnd.jupyter.widget-view+json": {
       "model_id": "a83531a9d8e8490e8faf22c9ffc0592b",
       "version_major": 2,
       "version_minor": 0
      },
      "text/plain": [
       "  0%|          | 0/2 [00:00<?, ?it/s]"
      ]
     },
     "metadata": {},
     "output_type": "display_data"
    },
    {
     "data": {
      "application/vnd.jupyter.widget-view+json": {
       "model_id": "ee03ad9947ff4477a89b97b75de81fdc",
       "version_major": 2,
       "version_minor": 0
      },
      "text/plain": [
       "  0%|          | 0/3 [00:00<?, ?it/s]"
      ]
     },
     "metadata": {},
     "output_type": "display_data"
    },
    {
     "data": {
      "application/vnd.jupyter.widget-view+json": {
       "model_id": "6f2761fddebe4b5890154567b17981f2",
       "version_major": 2,
       "version_minor": 0
      },
      "text/plain": [
       "  0%|          | 0/3 [00:00<?, ?it/s]"
      ]
     },
     "metadata": {},
     "output_type": "display_data"
    },
    {
     "data": {
      "application/vnd.jupyter.widget-view+json": {
       "model_id": "a742027edd92476a95e876427e9b3b79",
       "version_major": 2,
       "version_minor": 0
      },
      "text/plain": [
       "  0%|          | 0/2 [00:00<?, ?it/s]"
      ]
     },
     "metadata": {},
     "output_type": "display_data"
    },
    {
     "data": {
      "application/vnd.jupyter.widget-view+json": {
       "model_id": "c845e50cc38646119c4cd580d28266c9",
       "version_major": 2,
       "version_minor": 0
      },
      "text/plain": [
       "  0%|          | 0/3 [00:00<?, ?it/s]"
      ]
     },
     "metadata": {},
     "output_type": "display_data"
    },
    {
     "data": {
      "application/vnd.jupyter.widget-view+json": {
       "model_id": "94758c4429d44c3c9df138d0446f27fe",
       "version_major": 2,
       "version_minor": 0
      },
      "text/plain": [
       "  0%|          | 0/3 [00:00<?, ?it/s]"
      ]
     },
     "metadata": {},
     "output_type": "display_data"
    },
    {
     "data": {
      "application/vnd.jupyter.widget-view+json": {
       "model_id": "e283e7c4705d4fdbad706bf3881925c8",
       "version_major": 2,
       "version_minor": 0
      },
      "text/plain": [
       "  0%|          | 0/1 [00:00<?, ?it/s]"
      ]
     },
     "metadata": {},
     "output_type": "display_data"
    },
    {
     "data": {
      "application/vnd.jupyter.widget-view+json": {
       "model_id": "26055235ebc24fc9aea9a0764c868f30",
       "version_major": 2,
       "version_minor": 0
      },
      "text/plain": [
       "  0%|          | 0/2 [00:00<?, ?it/s]"
      ]
     },
     "metadata": {},
     "output_type": "display_data"
    },
    {
     "data": {
      "application/vnd.jupyter.widget-view+json": {
       "model_id": "74ef0956affe4a2db53d47ed26aa7301",
       "version_major": 2,
       "version_minor": 0
      },
      "text/plain": [
       "  0%|          | 0/2 [00:00<?, ?it/s]"
      ]
     },
     "metadata": {},
     "output_type": "display_data"
    },
    {
     "data": {
      "application/vnd.jupyter.widget-view+json": {
       "model_id": "dd03f82efd804be2a2292237a9e49af9",
       "version_major": 2,
       "version_minor": 0
      },
      "text/plain": [
       "  0%|          | 0/3 [00:00<?, ?it/s]"
      ]
     },
     "metadata": {},
     "output_type": "display_data"
    },
    {
     "data": {
      "application/vnd.jupyter.widget-view+json": {
       "model_id": "8130d74b71da43ef9565520809c192e8",
       "version_major": 2,
       "version_minor": 0
      },
      "text/plain": [
       "  0%|          | 0/3 [00:00<?, ?it/s]"
      ]
     },
     "metadata": {},
     "output_type": "display_data"
    },
    {
     "data": {
      "application/vnd.jupyter.widget-view+json": {
       "model_id": "21bc62d5a930416491d6a49dfeedcb8f",
       "version_major": 2,
       "version_minor": 0
      },
      "text/plain": [
       "  0%|          | 0/2 [00:00<?, ?it/s]"
      ]
     },
     "metadata": {},
     "output_type": "display_data"
    },
    {
     "data": {
      "application/vnd.jupyter.widget-view+json": {
       "model_id": "a543d7ed466142d79a595045f58270e6",
       "version_major": 2,
       "version_minor": 0
      },
      "text/plain": [
       "  0%|          | 0/3 [00:00<?, ?it/s]"
      ]
     },
     "metadata": {},
     "output_type": "display_data"
    },
    {
     "data": {
      "application/vnd.jupyter.widget-view+json": {
       "model_id": "ed2e002c89e4441bba3df1078e547261",
       "version_major": 2,
       "version_minor": 0
      },
      "text/plain": [
       "  0%|          | 0/3 [00:00<?, ?it/s]"
      ]
     },
     "metadata": {},
     "output_type": "display_data"
    },
    {
     "name": "stdout",
     "output_type": "stream",
     "text": [
      "[INFO] Concatenating the embeddings to the dataframe...\n",
      "[INFO] - columns beginning with 'e' denote the full embddings.\n",
      "[INFO] - columns beginning with 'd' denote the dimension reduced embeddings.\n",
      "[INFO] Adding time feature columns into dataframe in `.df`.\n",
      "[INFO] Adding 'time_encoding' feature...\n",
      "[INFO] Adding 'time_diff' feature...\n",
      "[INFO] Adding 'timeline_index' feature...\n",
      "[INFO] Padding ids and storing in `.df_padded` and `.array_padded` attributes.\n"
     ]
    },
    {
     "data": {
      "application/vnd.jupyter.widget-view+json": {
       "model_id": "bcf0a3daa6564abe8f1f054308508f5d",
       "version_major": 2,
       "version_minor": 0
      },
      "text/plain": [
       "  0%|          | 0/9699 [00:00<?, ?it/s]"
      ]
     },
     "metadata": {},
     "output_type": "display_data"
    },
    {
     "name": "stdout",
     "output_type": "stream",
     "text": [
      "[INFO] The path was created for each item in the dataframe, by looking at its history, so to include embeddings in the FFN input, we concatenate the embeddings for each sentence / text.\n",
      "saving results dataframe to CSV for this hyperparameter search in client_talk_type_output/swmhau_network_umap_focal_2_35_kfold.csv\n",
      "saving the best model results dataframe to CSV for this hyperparameter search in client_talk_type_output/swmhau_network_umap_focal_2_35_kfold_best_model.csv\n"
     ]
    }
   ],
   "source": [
    "(\n",
    "    swmhau_network_umap_kfold_35,\n",
    "    best_swmhau_network_umap_kfold_35,\n",
    "    _,\n",
    "    __,\n",
    ") = swmhau_network_hyperparameter_search(\n",
    "    history_lengths=[size],\n",
    "    dim_reduce_methods=[\"umap\"],\n",
    "    results_output=f\"{output_dir}/swmhau_network_umap_focal_{gamma}_{size}_kfold.csv\",\n",
    "    **kwargs,\n",
    ")"
   ]
  },
  {
   "cell_type": "code",
   "execution_count": 70,
   "id": "034840d9-19b8-468b-aff9-0149f433782f",
   "metadata": {},
   "outputs": [
    {
     "name": "stderr",
     "output_type": "stream",
     "text": [
      "/tmp/ipykernel_2005997/548979897.py:1: FutureWarning: The default value of numeric_only in DataFrameGroupBy.mean is deprecated. In a future version, numeric_only will default to False. Either specify numeric_only or select only columns which should be valid for the function.\n",
      "  swmhau_network_umap_kfold_35.groupby(\n"
     ]
    },
    {
     "data": {
      "text/html": [
       "<div>\n",
       "<style scoped>\n",
       "    .dataframe tbody tr th:only-of-type {\n",
       "        vertical-align: middle;\n",
       "    }\n",
       "\n",
       "    .dataframe tbody tr th {\n",
       "        vertical-align: top;\n",
       "    }\n",
       "\n",
       "    .dataframe thead th {\n",
       "        text-align: right;\n",
       "    }\n",
       "</style>\n",
       "<table border=\"1\" class=\"dataframe\">\n",
       "  <thead>\n",
       "    <tr style=\"text-align: right;\">\n",
       "      <th></th>\n",
       "      <th></th>\n",
       "      <th></th>\n",
       "      <th></th>\n",
       "      <th></th>\n",
       "      <th></th>\n",
       "      <th></th>\n",
       "      <th>accuracy</th>\n",
       "      <th>f1</th>\n",
       "      <th>precision</th>\n",
       "      <th>recall</th>\n",
       "      <th>valid_accuracy</th>\n",
       "      <th>valid_f1</th>\n",
       "      <th>valid_precision</th>\n",
       "      <th>valid_recall</th>\n",
       "      <th>k</th>\n",
       "      <th>input_channels</th>\n",
       "      <th>...</th>\n",
       "      <th>embedding_dim</th>\n",
       "      <th>num_features</th>\n",
       "      <th>log_signature</th>\n",
       "      <th>dropout_rate</th>\n",
       "      <th>seed</th>\n",
       "      <th>gamma</th>\n",
       "      <th>k_fold</th>\n",
       "      <th>n_splits</th>\n",
       "      <th>batch_size</th>\n",
       "      <th>model_id</th>\n",
       "    </tr>\n",
       "    <tr>\n",
       "      <th>dimensions</th>\n",
       "      <th>output_channels</th>\n",
       "      <th>sig_depth</th>\n",
       "      <th>num_heads</th>\n",
       "      <th>num_layers</th>\n",
       "      <th>ffn_hidden_dim</th>\n",
       "      <th>learning_rate</th>\n",
       "      <th></th>\n",
       "      <th></th>\n",
       "      <th></th>\n",
       "      <th></th>\n",
       "      <th></th>\n",
       "      <th></th>\n",
       "      <th></th>\n",
       "      <th></th>\n",
       "      <th></th>\n",
       "      <th></th>\n",
       "      <th></th>\n",
       "      <th></th>\n",
       "      <th></th>\n",
       "      <th></th>\n",
       "      <th></th>\n",
       "      <th></th>\n",
       "      <th></th>\n",
       "      <th></th>\n",
       "      <th></th>\n",
       "      <th></th>\n",
       "      <th></th>\n",
       "    </tr>\n",
       "  </thead>\n",
       "  <tbody>\n",
       "    <tr>\n",
       "      <th rowspan=\"12\" valign=\"top\">15</th>\n",
       "      <th rowspan=\"6\" valign=\"top\">8</th>\n",
       "      <th rowspan=\"6\" valign=\"top\">4</th>\n",
       "      <th rowspan=\"6\" valign=\"top\">6</th>\n",
       "      <th rowspan=\"6\" valign=\"top\">1</th>\n",
       "      <th rowspan=\"3\" valign=\"top\">(256, 256)</th>\n",
       "      <th>0.0001</th>\n",
       "      <td>0.593934</td>\n",
       "      <td>0.390413</td>\n",
       "      <td>0.405132</td>\n",
       "      <td>0.388177</td>\n",
       "      <td>0.624893</td>\n",
       "      <td>0.467994</td>\n",
       "      <td>0.492008</td>\n",
       "      <td>0.459386</td>\n",
       "      <td>35.0</td>\n",
       "      <td>17.0</td>\n",
       "      <td>...</td>\n",
       "      <td>384.0</td>\n",
       "      <td>0.0</td>\n",
       "      <td>1.0</td>\n",
       "      <td>0.15</td>\n",
       "      <td>45.333333</td>\n",
       "      <td>2.0</td>\n",
       "      <td>1.0</td>\n",
       "      <td>5.0</td>\n",
       "      <td>64.0</td>\n",
       "      <td>14.5</td>\n",
       "    </tr>\n",
       "    <tr>\n",
       "      <th>0.0005</th>\n",
       "      <td>0.627427</td>\n",
       "      <td>0.507085</td>\n",
       "      <td>0.500641</td>\n",
       "      <td>0.521223</td>\n",
       "      <td>0.668647</td>\n",
       "      <td>0.568031</td>\n",
       "      <td>0.562570</td>\n",
       "      <td>0.578532</td>\n",
       "      <td>35.0</td>\n",
       "      <td>17.0</td>\n",
       "      <td>...</td>\n",
       "      <td>384.0</td>\n",
       "      <td>0.0</td>\n",
       "      <td>1.0</td>\n",
       "      <td>0.15</td>\n",
       "      <td>45.333333</td>\n",
       "      <td>2.0</td>\n",
       "      <td>1.0</td>\n",
       "      <td>5.0</td>\n",
       "      <td>64.0</td>\n",
       "      <td>15.5</td>\n",
       "    </tr>\n",
       "    <tr>\n",
       "      <th>0.0010</th>\n",
       "      <td>0.632950</td>\n",
       "      <td>0.518019</td>\n",
       "      <td>0.511158</td>\n",
       "      <td>0.539056</td>\n",
       "      <td>0.659441</td>\n",
       "      <td>0.557407</td>\n",
       "      <td>0.552831</td>\n",
       "      <td>0.571963</td>\n",
       "      <td>35.0</td>\n",
       "      <td>17.0</td>\n",
       "      <td>...</td>\n",
       "      <td>384.0</td>\n",
       "      <td>0.0</td>\n",
       "      <td>1.0</td>\n",
       "      <td>0.15</td>\n",
       "      <td>45.333333</td>\n",
       "      <td>2.0</td>\n",
       "      <td>1.0</td>\n",
       "      <td>5.0</td>\n",
       "      <td>64.0</td>\n",
       "      <td>13.5</td>\n",
       "    </tr>\n",
       "    <tr>\n",
       "      <th rowspan=\"3\" valign=\"top\">(512, 512)</th>\n",
       "      <th>0.0001</th>\n",
       "      <td>0.599617</td>\n",
       "      <td>0.415420</td>\n",
       "      <td>0.427870</td>\n",
       "      <td>0.411759</td>\n",
       "      <td>0.644750</td>\n",
       "      <td>0.502729</td>\n",
       "      <td>0.523496</td>\n",
       "      <td>0.493059</td>\n",
       "      <td>35.0</td>\n",
       "      <td>17.0</td>\n",
       "      <td>...</td>\n",
       "      <td>384.0</td>\n",
       "      <td>0.0</td>\n",
       "      <td>1.0</td>\n",
       "      <td>0.15</td>\n",
       "      <td>45.333333</td>\n",
       "      <td>2.0</td>\n",
       "      <td>1.0</td>\n",
       "      <td>5.0</td>\n",
       "      <td>64.0</td>\n",
       "      <td>20.5</td>\n",
       "    </tr>\n",
       "    <tr>\n",
       "      <th>0.0005</th>\n",
       "      <td>0.632727</td>\n",
       "      <td>0.511531</td>\n",
       "      <td>0.504813</td>\n",
       "      <td>0.524705</td>\n",
       "      <td>0.669236</td>\n",
       "      <td>0.565557</td>\n",
       "      <td>0.561159</td>\n",
       "      <td>0.574789</td>\n",
       "      <td>35.0</td>\n",
       "      <td>17.0</td>\n",
       "      <td>...</td>\n",
       "      <td>384.0</td>\n",
       "      <td>0.0</td>\n",
       "      <td>1.0</td>\n",
       "      <td>0.15</td>\n",
       "      <td>45.333333</td>\n",
       "      <td>2.0</td>\n",
       "      <td>1.0</td>\n",
       "      <td>5.0</td>\n",
       "      <td>64.0</td>\n",
       "      <td>21.5</td>\n",
       "    </tr>\n",
       "    <tr>\n",
       "      <th>0.0010</th>\n",
       "      <td>0.632024</td>\n",
       "      <td>0.513059</td>\n",
       "      <td>0.507141</td>\n",
       "      <td>0.530492</td>\n",
       "      <td>0.663241</td>\n",
       "      <td>0.558510</td>\n",
       "      <td>0.554846</td>\n",
       "      <td>0.570513</td>\n",
       "      <td>35.0</td>\n",
       "      <td>17.0</td>\n",
       "      <td>...</td>\n",
       "      <td>384.0</td>\n",
       "      <td>0.0</td>\n",
       "      <td>1.0</td>\n",
       "      <td>0.15</td>\n",
       "      <td>45.333333</td>\n",
       "      <td>2.0</td>\n",
       "      <td>1.0</td>\n",
       "      <td>5.0</td>\n",
       "      <td>64.0</td>\n",
       "      <td>19.5</td>\n",
       "    </tr>\n",
       "    <tr>\n",
       "      <th rowspan=\"6\" valign=\"top\">12</th>\n",
       "      <th rowspan=\"6\" valign=\"top\">3</th>\n",
       "      <th rowspan=\"6\" valign=\"top\">10</th>\n",
       "      <th rowspan=\"6\" valign=\"top\">1</th>\n",
       "      <th rowspan=\"3\" valign=\"top\">(256, 256)</th>\n",
       "      <th>0.0001</th>\n",
       "      <td>0.588985</td>\n",
       "      <td>0.422396</td>\n",
       "      <td>0.426169</td>\n",
       "      <td>0.420402</td>\n",
       "      <td>0.650289</td>\n",
       "      <td>0.529671</td>\n",
       "      <td>0.534794</td>\n",
       "      <td>0.525990</td>\n",
       "      <td>35.0</td>\n",
       "      <td>17.0</td>\n",
       "      <td>...</td>\n",
       "      <td>384.0</td>\n",
       "      <td>0.0</td>\n",
       "      <td>1.0</td>\n",
       "      <td>0.15</td>\n",
       "      <td>45.333333</td>\n",
       "      <td>2.0</td>\n",
       "      <td>1.0</td>\n",
       "      <td>5.0</td>\n",
       "      <td>64.0</td>\n",
       "      <td>2.5</td>\n",
       "    </tr>\n",
       "    <tr>\n",
       "      <th>0.0005</th>\n",
       "      <td>0.619891</td>\n",
       "      <td>0.494118</td>\n",
       "      <td>0.487869</td>\n",
       "      <td>0.504966</td>\n",
       "      <td>0.668808</td>\n",
       "      <td>0.570752</td>\n",
       "      <td>0.563475</td>\n",
       "      <td>0.583636</td>\n",
       "      <td>35.0</td>\n",
       "      <td>17.0</td>\n",
       "      <td>...</td>\n",
       "      <td>384.0</td>\n",
       "      <td>0.0</td>\n",
       "      <td>1.0</td>\n",
       "      <td>0.15</td>\n",
       "      <td>45.333333</td>\n",
       "      <td>2.0</td>\n",
       "      <td>1.0</td>\n",
       "      <td>5.0</td>\n",
       "      <td>64.0</td>\n",
       "      <td>3.5</td>\n",
       "    </tr>\n",
       "    <tr>\n",
       "      <th>0.0010</th>\n",
       "      <td>0.625798</td>\n",
       "      <td>0.510472</td>\n",
       "      <td>0.503684</td>\n",
       "      <td>0.531417</td>\n",
       "      <td>0.664017</td>\n",
       "      <td>0.564540</td>\n",
       "      <td>0.559682</td>\n",
       "      <td>0.580481</td>\n",
       "      <td>35.0</td>\n",
       "      <td>17.0</td>\n",
       "      <td>...</td>\n",
       "      <td>384.0</td>\n",
       "      <td>0.0</td>\n",
       "      <td>1.0</td>\n",
       "      <td>0.15</td>\n",
       "      <td>45.333333</td>\n",
       "      <td>2.0</td>\n",
       "      <td>1.0</td>\n",
       "      <td>5.0</td>\n",
       "      <td>64.0</td>\n",
       "      <td>1.5</td>\n",
       "    </tr>\n",
       "    <tr>\n",
       "      <th rowspan=\"3\" valign=\"top\">(512, 512)</th>\n",
       "      <th>0.0001</th>\n",
       "      <td>0.591028</td>\n",
       "      <td>0.440987</td>\n",
       "      <td>0.442288</td>\n",
       "      <td>0.441462</td>\n",
       "      <td>0.650557</td>\n",
       "      <td>0.538340</td>\n",
       "      <td>0.539255</td>\n",
       "      <td>0.539141</td>\n",
       "      <td>35.0</td>\n",
       "      <td>17.0</td>\n",
       "      <td>...</td>\n",
       "      <td>384.0</td>\n",
       "      <td>0.0</td>\n",
       "      <td>1.0</td>\n",
       "      <td>0.15</td>\n",
       "      <td>45.333333</td>\n",
       "      <td>2.0</td>\n",
       "      <td>1.0</td>\n",
       "      <td>5.0</td>\n",
       "      <td>64.0</td>\n",
       "      <td>8.5</td>\n",
       "    </tr>\n",
       "    <tr>\n",
       "      <th>0.0005</th>\n",
       "      <td>0.613027</td>\n",
       "      <td>0.490600</td>\n",
       "      <td>0.485265</td>\n",
       "      <td>0.506107</td>\n",
       "      <td>0.663215</td>\n",
       "      <td>0.563435</td>\n",
       "      <td>0.558034</td>\n",
       "      <td>0.577671</td>\n",
       "      <td>35.0</td>\n",
       "      <td>17.0</td>\n",
       "      <td>...</td>\n",
       "      <td>384.0</td>\n",
       "      <td>0.0</td>\n",
       "      <td>1.0</td>\n",
       "      <td>0.15</td>\n",
       "      <td>45.333333</td>\n",
       "      <td>2.0</td>\n",
       "      <td>1.0</td>\n",
       "      <td>5.0</td>\n",
       "      <td>64.0</td>\n",
       "      <td>9.5</td>\n",
       "    </tr>\n",
       "    <tr>\n",
       "      <th>0.0010</th>\n",
       "      <td>0.631450</td>\n",
       "      <td>0.512296</td>\n",
       "      <td>0.506414</td>\n",
       "      <td>0.528088</td>\n",
       "      <td>0.663616</td>\n",
       "      <td>0.557590</td>\n",
       "      <td>0.554090</td>\n",
       "      <td>0.567679</td>\n",
       "      <td>35.0</td>\n",
       "      <td>17.0</td>\n",
       "      <td>...</td>\n",
       "      <td>384.0</td>\n",
       "      <td>0.0</td>\n",
       "      <td>1.0</td>\n",
       "      <td>0.15</td>\n",
       "      <td>45.333333</td>\n",
       "      <td>2.0</td>\n",
       "      <td>1.0</td>\n",
       "      <td>5.0</td>\n",
       "      <td>64.0</td>\n",
       "      <td>7.5</td>\n",
       "    </tr>\n",
       "  </tbody>\n",
       "</table>\n",
       "<p>12 rows × 22 columns</p>\n",
       "</div>"
      ],
      "text/plain": [
       "                                                                                        accuracy  \\\n",
       "dimensions output_channels sig_depth num_heads num_layers ffn_hidden_dim learning_rate             \n",
       "15         8               4         6         1          (256, 256)     0.0001         0.593934   \n",
       "                                                                         0.0005         0.627427   \n",
       "                                                                         0.0010         0.632950   \n",
       "                                                          (512, 512)     0.0001         0.599617   \n",
       "                                                                         0.0005         0.632727   \n",
       "                                                                         0.0010         0.632024   \n",
       "           12              3         10        1          (256, 256)     0.0001         0.588985   \n",
       "                                                                         0.0005         0.619891   \n",
       "                                                                         0.0010         0.625798   \n",
       "                                                          (512, 512)     0.0001         0.591028   \n",
       "                                                                         0.0005         0.613027   \n",
       "                                                                         0.0010         0.631450   \n",
       "\n",
       "                                                                                              f1  \\\n",
       "dimensions output_channels sig_depth num_heads num_layers ffn_hidden_dim learning_rate             \n",
       "15         8               4         6         1          (256, 256)     0.0001         0.390413   \n",
       "                                                                         0.0005         0.507085   \n",
       "                                                                         0.0010         0.518019   \n",
       "                                                          (512, 512)     0.0001         0.415420   \n",
       "                                                                         0.0005         0.511531   \n",
       "                                                                         0.0010         0.513059   \n",
       "           12              3         10        1          (256, 256)     0.0001         0.422396   \n",
       "                                                                         0.0005         0.494118   \n",
       "                                                                         0.0010         0.510472   \n",
       "                                                          (512, 512)     0.0001         0.440987   \n",
       "                                                                         0.0005         0.490600   \n",
       "                                                                         0.0010         0.512296   \n",
       "\n",
       "                                                                                        precision  \\\n",
       "dimensions output_channels sig_depth num_heads num_layers ffn_hidden_dim learning_rate              \n",
       "15         8               4         6         1          (256, 256)     0.0001          0.405132   \n",
       "                                                                         0.0005          0.500641   \n",
       "                                                                         0.0010          0.511158   \n",
       "                                                          (512, 512)     0.0001          0.427870   \n",
       "                                                                         0.0005          0.504813   \n",
       "                                                                         0.0010          0.507141   \n",
       "           12              3         10        1          (256, 256)     0.0001          0.426169   \n",
       "                                                                         0.0005          0.487869   \n",
       "                                                                         0.0010          0.503684   \n",
       "                                                          (512, 512)     0.0001          0.442288   \n",
       "                                                                         0.0005          0.485265   \n",
       "                                                                         0.0010          0.506414   \n",
       "\n",
       "                                                                                          recall  \\\n",
       "dimensions output_channels sig_depth num_heads num_layers ffn_hidden_dim learning_rate             \n",
       "15         8               4         6         1          (256, 256)     0.0001         0.388177   \n",
       "                                                                         0.0005         0.521223   \n",
       "                                                                         0.0010         0.539056   \n",
       "                                                          (512, 512)     0.0001         0.411759   \n",
       "                                                                         0.0005         0.524705   \n",
       "                                                                         0.0010         0.530492   \n",
       "           12              3         10        1          (256, 256)     0.0001         0.420402   \n",
       "                                                                         0.0005         0.504966   \n",
       "                                                                         0.0010         0.531417   \n",
       "                                                          (512, 512)     0.0001         0.441462   \n",
       "                                                                         0.0005         0.506107   \n",
       "                                                                         0.0010         0.528088   \n",
       "\n",
       "                                                                                        valid_accuracy  \\\n",
       "dimensions output_channels sig_depth num_heads num_layers ffn_hidden_dim learning_rate                   \n",
       "15         8               4         6         1          (256, 256)     0.0001               0.624893   \n",
       "                                                                         0.0005               0.668647   \n",
       "                                                                         0.0010               0.659441   \n",
       "                                                          (512, 512)     0.0001               0.644750   \n",
       "                                                                         0.0005               0.669236   \n",
       "                                                                         0.0010               0.663241   \n",
       "           12              3         10        1          (256, 256)     0.0001               0.650289   \n",
       "                                                                         0.0005               0.668808   \n",
       "                                                                         0.0010               0.664017   \n",
       "                                                          (512, 512)     0.0001               0.650557   \n",
       "                                                                         0.0005               0.663215   \n",
       "                                                                         0.0010               0.663616   \n",
       "\n",
       "                                                                                        valid_f1  \\\n",
       "dimensions output_channels sig_depth num_heads num_layers ffn_hidden_dim learning_rate             \n",
       "15         8               4         6         1          (256, 256)     0.0001         0.467994   \n",
       "                                                                         0.0005         0.568031   \n",
       "                                                                         0.0010         0.557407   \n",
       "                                                          (512, 512)     0.0001         0.502729   \n",
       "                                                                         0.0005         0.565557   \n",
       "                                                                         0.0010         0.558510   \n",
       "           12              3         10        1          (256, 256)     0.0001         0.529671   \n",
       "                                                                         0.0005         0.570752   \n",
       "                                                                         0.0010         0.564540   \n",
       "                                                          (512, 512)     0.0001         0.538340   \n",
       "                                                                         0.0005         0.563435   \n",
       "                                                                         0.0010         0.557590   \n",
       "\n",
       "                                                                                        valid_precision  \\\n",
       "dimensions output_channels sig_depth num_heads num_layers ffn_hidden_dim learning_rate                    \n",
       "15         8               4         6         1          (256, 256)     0.0001                0.492008   \n",
       "                                                                         0.0005                0.562570   \n",
       "                                                                         0.0010                0.552831   \n",
       "                                                          (512, 512)     0.0001                0.523496   \n",
       "                                                                         0.0005                0.561159   \n",
       "                                                                         0.0010                0.554846   \n",
       "           12              3         10        1          (256, 256)     0.0001                0.534794   \n",
       "                                                                         0.0005                0.563475   \n",
       "                                                                         0.0010                0.559682   \n",
       "                                                          (512, 512)     0.0001                0.539255   \n",
       "                                                                         0.0005                0.558034   \n",
       "                                                                         0.0010                0.554090   \n",
       "\n",
       "                                                                                        valid_recall  \\\n",
       "dimensions output_channels sig_depth num_heads num_layers ffn_hidden_dim learning_rate                 \n",
       "15         8               4         6         1          (256, 256)     0.0001             0.459386   \n",
       "                                                                         0.0005             0.578532   \n",
       "                                                                         0.0010             0.571963   \n",
       "                                                          (512, 512)     0.0001             0.493059   \n",
       "                                                                         0.0005             0.574789   \n",
       "                                                                         0.0010             0.570513   \n",
       "           12              3         10        1          (256, 256)     0.0001             0.525990   \n",
       "                                                                         0.0005             0.583636   \n",
       "                                                                         0.0010             0.580481   \n",
       "                                                          (512, 512)     0.0001             0.539141   \n",
       "                                                                         0.0005             0.577671   \n",
       "                                                                         0.0010             0.567679   \n",
       "\n",
       "                                                                                           k  \\\n",
       "dimensions output_channels sig_depth num_heads num_layers ffn_hidden_dim learning_rate         \n",
       "15         8               4         6         1          (256, 256)     0.0001         35.0   \n",
       "                                                                         0.0005         35.0   \n",
       "                                                                         0.0010         35.0   \n",
       "                                                          (512, 512)     0.0001         35.0   \n",
       "                                                                         0.0005         35.0   \n",
       "                                                                         0.0010         35.0   \n",
       "           12              3         10        1          (256, 256)     0.0001         35.0   \n",
       "                                                                         0.0005         35.0   \n",
       "                                                                         0.0010         35.0   \n",
       "                                                          (512, 512)     0.0001         35.0   \n",
       "                                                                         0.0005         35.0   \n",
       "                                                                         0.0010         35.0   \n",
       "\n",
       "                                                                                        input_channels  \\\n",
       "dimensions output_channels sig_depth num_heads num_layers ffn_hidden_dim learning_rate                   \n",
       "15         8               4         6         1          (256, 256)     0.0001                   17.0   \n",
       "                                                                         0.0005                   17.0   \n",
       "                                                                         0.0010                   17.0   \n",
       "                                                          (512, 512)     0.0001                   17.0   \n",
       "                                                                         0.0005                   17.0   \n",
       "                                                                         0.0010                   17.0   \n",
       "           12              3         10        1          (256, 256)     0.0001                   17.0   \n",
       "                                                                         0.0005                   17.0   \n",
       "                                                                         0.0010                   17.0   \n",
       "                                                          (512, 512)     0.0001                   17.0   \n",
       "                                                                         0.0005                   17.0   \n",
       "                                                                         0.0010                   17.0   \n",
       "\n",
       "                                                                                        ...  \\\n",
       "dimensions output_channels sig_depth num_heads num_layers ffn_hidden_dim learning_rate  ...   \n",
       "15         8               4         6         1          (256, 256)     0.0001         ...   \n",
       "                                                                         0.0005         ...   \n",
       "                                                                         0.0010         ...   \n",
       "                                                          (512, 512)     0.0001         ...   \n",
       "                                                                         0.0005         ...   \n",
       "                                                                         0.0010         ...   \n",
       "           12              3         10        1          (256, 256)     0.0001         ...   \n",
       "                                                                         0.0005         ...   \n",
       "                                                                         0.0010         ...   \n",
       "                                                          (512, 512)     0.0001         ...   \n",
       "                                                                         0.0005         ...   \n",
       "                                                                         0.0010         ...   \n",
       "\n",
       "                                                                                        embedding_dim  \\\n",
       "dimensions output_channels sig_depth num_heads num_layers ffn_hidden_dim learning_rate                  \n",
       "15         8               4         6         1          (256, 256)     0.0001                 384.0   \n",
       "                                                                         0.0005                 384.0   \n",
       "                                                                         0.0010                 384.0   \n",
       "                                                          (512, 512)     0.0001                 384.0   \n",
       "                                                                         0.0005                 384.0   \n",
       "                                                                         0.0010                 384.0   \n",
       "           12              3         10        1          (256, 256)     0.0001                 384.0   \n",
       "                                                                         0.0005                 384.0   \n",
       "                                                                         0.0010                 384.0   \n",
       "                                                          (512, 512)     0.0001                 384.0   \n",
       "                                                                         0.0005                 384.0   \n",
       "                                                                         0.0010                 384.0   \n",
       "\n",
       "                                                                                        num_features  \\\n",
       "dimensions output_channels sig_depth num_heads num_layers ffn_hidden_dim learning_rate                 \n",
       "15         8               4         6         1          (256, 256)     0.0001                  0.0   \n",
       "                                                                         0.0005                  0.0   \n",
       "                                                                         0.0010                  0.0   \n",
       "                                                          (512, 512)     0.0001                  0.0   \n",
       "                                                                         0.0005                  0.0   \n",
       "                                                                         0.0010                  0.0   \n",
       "           12              3         10        1          (256, 256)     0.0001                  0.0   \n",
       "                                                                         0.0005                  0.0   \n",
       "                                                                         0.0010                  0.0   \n",
       "                                                          (512, 512)     0.0001                  0.0   \n",
       "                                                                         0.0005                  0.0   \n",
       "                                                                         0.0010                  0.0   \n",
       "\n",
       "                                                                                        log_signature  \\\n",
       "dimensions output_channels sig_depth num_heads num_layers ffn_hidden_dim learning_rate                  \n",
       "15         8               4         6         1          (256, 256)     0.0001                   1.0   \n",
       "                                                                         0.0005                   1.0   \n",
       "                                                                         0.0010                   1.0   \n",
       "                                                          (512, 512)     0.0001                   1.0   \n",
       "                                                                         0.0005                   1.0   \n",
       "                                                                         0.0010                   1.0   \n",
       "           12              3         10        1          (256, 256)     0.0001                   1.0   \n",
       "                                                                         0.0005                   1.0   \n",
       "                                                                         0.0010                   1.0   \n",
       "                                                          (512, 512)     0.0001                   1.0   \n",
       "                                                                         0.0005                   1.0   \n",
       "                                                                         0.0010                   1.0   \n",
       "\n",
       "                                                                                        dropout_rate  \\\n",
       "dimensions output_channels sig_depth num_heads num_layers ffn_hidden_dim learning_rate                 \n",
       "15         8               4         6         1          (256, 256)     0.0001                 0.15   \n",
       "                                                                         0.0005                 0.15   \n",
       "                                                                         0.0010                 0.15   \n",
       "                                                          (512, 512)     0.0001                 0.15   \n",
       "                                                                         0.0005                 0.15   \n",
       "                                                                         0.0010                 0.15   \n",
       "           12              3         10        1          (256, 256)     0.0001                 0.15   \n",
       "                                                                         0.0005                 0.15   \n",
       "                                                                         0.0010                 0.15   \n",
       "                                                          (512, 512)     0.0001                 0.15   \n",
       "                                                                         0.0005                 0.15   \n",
       "                                                                         0.0010                 0.15   \n",
       "\n",
       "                                                                                             seed  \\\n",
       "dimensions output_channels sig_depth num_heads num_layers ffn_hidden_dim learning_rate              \n",
       "15         8               4         6         1          (256, 256)     0.0001         45.333333   \n",
       "                                                                         0.0005         45.333333   \n",
       "                                                                         0.0010         45.333333   \n",
       "                                                          (512, 512)     0.0001         45.333333   \n",
       "                                                                         0.0005         45.333333   \n",
       "                                                                         0.0010         45.333333   \n",
       "           12              3         10        1          (256, 256)     0.0001         45.333333   \n",
       "                                                                         0.0005         45.333333   \n",
       "                                                                         0.0010         45.333333   \n",
       "                                                          (512, 512)     0.0001         45.333333   \n",
       "                                                                         0.0005         45.333333   \n",
       "                                                                         0.0010         45.333333   \n",
       "\n",
       "                                                                                        gamma  \\\n",
       "dimensions output_channels sig_depth num_heads num_layers ffn_hidden_dim learning_rate          \n",
       "15         8               4         6         1          (256, 256)     0.0001           2.0   \n",
       "                                                                         0.0005           2.0   \n",
       "                                                                         0.0010           2.0   \n",
       "                                                          (512, 512)     0.0001           2.0   \n",
       "                                                                         0.0005           2.0   \n",
       "                                                                         0.0010           2.0   \n",
       "           12              3         10        1          (256, 256)     0.0001           2.0   \n",
       "                                                                         0.0005           2.0   \n",
       "                                                                         0.0010           2.0   \n",
       "                                                          (512, 512)     0.0001           2.0   \n",
       "                                                                         0.0005           2.0   \n",
       "                                                                         0.0010           2.0   \n",
       "\n",
       "                                                                                        k_fold  \\\n",
       "dimensions output_channels sig_depth num_heads num_layers ffn_hidden_dim learning_rate           \n",
       "15         8               4         6         1          (256, 256)     0.0001            1.0   \n",
       "                                                                         0.0005            1.0   \n",
       "                                                                         0.0010            1.0   \n",
       "                                                          (512, 512)     0.0001            1.0   \n",
       "                                                                         0.0005            1.0   \n",
       "                                                                         0.0010            1.0   \n",
       "           12              3         10        1          (256, 256)     0.0001            1.0   \n",
       "                                                                         0.0005            1.0   \n",
       "                                                                         0.0010            1.0   \n",
       "                                                          (512, 512)     0.0001            1.0   \n",
       "                                                                         0.0005            1.0   \n",
       "                                                                         0.0010            1.0   \n",
       "\n",
       "                                                                                        n_splits  \\\n",
       "dimensions output_channels sig_depth num_heads num_layers ffn_hidden_dim learning_rate             \n",
       "15         8               4         6         1          (256, 256)     0.0001              5.0   \n",
       "                                                                         0.0005              5.0   \n",
       "                                                                         0.0010              5.0   \n",
       "                                                          (512, 512)     0.0001              5.0   \n",
       "                                                                         0.0005              5.0   \n",
       "                                                                         0.0010              5.0   \n",
       "           12              3         10        1          (256, 256)     0.0001              5.0   \n",
       "                                                                         0.0005              5.0   \n",
       "                                                                         0.0010              5.0   \n",
       "                                                          (512, 512)     0.0001              5.0   \n",
       "                                                                         0.0005              5.0   \n",
       "                                                                         0.0010              5.0   \n",
       "\n",
       "                                                                                        batch_size  \\\n",
       "dimensions output_channels sig_depth num_heads num_layers ffn_hidden_dim learning_rate               \n",
       "15         8               4         6         1          (256, 256)     0.0001               64.0   \n",
       "                                                                         0.0005               64.0   \n",
       "                                                                         0.0010               64.0   \n",
       "                                                          (512, 512)     0.0001               64.0   \n",
       "                                                                         0.0005               64.0   \n",
       "                                                                         0.0010               64.0   \n",
       "           12              3         10        1          (256, 256)     0.0001               64.0   \n",
       "                                                                         0.0005               64.0   \n",
       "                                                                         0.0010               64.0   \n",
       "                                                          (512, 512)     0.0001               64.0   \n",
       "                                                                         0.0005               64.0   \n",
       "                                                                         0.0010               64.0   \n",
       "\n",
       "                                                                                        model_id  \n",
       "dimensions output_channels sig_depth num_heads num_layers ffn_hidden_dim learning_rate            \n",
       "15         8               4         6         1          (256, 256)     0.0001             14.5  \n",
       "                                                                         0.0005             15.5  \n",
       "                                                                         0.0010             13.5  \n",
       "                                                          (512, 512)     0.0001             20.5  \n",
       "                                                                         0.0005             21.5  \n",
       "                                                                         0.0010             19.5  \n",
       "           12              3         10        1          (256, 256)     0.0001              2.5  \n",
       "                                                                         0.0005              3.5  \n",
       "                                                                         0.0010              1.5  \n",
       "                                                          (512, 512)     0.0001              8.5  \n",
       "                                                                         0.0005              9.5  \n",
       "                                                                         0.0010              7.5  \n",
       "\n",
       "[12 rows x 22 columns]"
      ]
     },
     "execution_count": 70,
     "metadata": {},
     "output_type": "execute_result"
    }
   ],
   "source": [
    "swmhau_network_umap_kfold_35.groupby(\n",
    "    [\n",
    "        \"dimensions\",\n",
    "        \"output_channels\",\n",
    "        \"sig_depth\",\n",
    "        \"num_heads\",\n",
    "        \"num_layers\",\n",
    "        \"ffn_hidden_dim\",\n",
    "        \"learning_rate\",\n",
    "    ]\n",
    ").mean()"
   ]
  },
  {
   "cell_type": "code",
   "execution_count": 71,
   "id": "672cbdf1-68d3-49dd-9c63-7d7d893d5027",
   "metadata": {},
   "outputs": [
    {
     "data": {
      "text/html": [
       "<div>\n",
       "<style scoped>\n",
       "    .dataframe tbody tr th:only-of-type {\n",
       "        vertical-align: middle;\n",
       "    }\n",
       "\n",
       "    .dataframe tbody tr th {\n",
       "        vertical-align: top;\n",
       "    }\n",
       "\n",
       "    .dataframe thead th {\n",
       "        text-align: right;\n",
       "    }\n",
       "</style>\n",
       "<table border=\"1\" class=\"dataframe\">\n",
       "  <thead>\n",
       "    <tr style=\"text-align: right;\">\n",
       "      <th></th>\n",
       "      <th>loss</th>\n",
       "      <th>accuracy</th>\n",
       "      <th>f1</th>\n",
       "      <th>f1_scores</th>\n",
       "      <th>precision</th>\n",
       "      <th>precision_scores</th>\n",
       "      <th>recall</th>\n",
       "      <th>recall_scores</th>\n",
       "      <th>valid_loss</th>\n",
       "      <th>valid_accuracy</th>\n",
       "      <th>...</th>\n",
       "      <th>learning_rate</th>\n",
       "      <th>seed</th>\n",
       "      <th>loss_function</th>\n",
       "      <th>gamma</th>\n",
       "      <th>k_fold</th>\n",
       "      <th>n_splits</th>\n",
       "      <th>augmentation_type</th>\n",
       "      <th>hidden_dim_aug</th>\n",
       "      <th>comb_method</th>\n",
       "      <th>batch_size</th>\n",
       "    </tr>\n",
       "  </thead>\n",
       "  <tbody>\n",
       "    <tr>\n",
       "      <th>0</th>\n",
       "      <td>None</td>\n",
       "      <td>0.615900</td>\n",
       "      <td>0.470222</td>\n",
       "      <td>[0.7566293459045375, 0.4083640836408364, 0.245...</td>\n",
       "      <td>0.467258</td>\n",
       "      <td>[0.7711711711711712, 0.4058679706601467, 0.224...</td>\n",
       "      <td>0.474809</td>\n",
       "      <td>[0.7426257952573742, 0.41089108910891087, 0.27...</td>\n",
       "      <td>None</td>\n",
       "      <td>0.675979</td>\n",
       "      <td>...</td>\n",
       "      <td>0.0005</td>\n",
       "      <td>1</td>\n",
       "      <td>focal</td>\n",
       "      <td>2</td>\n",
       "      <td>True</td>\n",
       "      <td>5</td>\n",
       "      <td>Conv1d</td>\n",
       "      <td>None</td>\n",
       "      <td>concatenation</td>\n",
       "      <td>64</td>\n",
       "    </tr>\n",
       "    <tr>\n",
       "      <th>0</th>\n",
       "      <td>None</td>\n",
       "      <td>0.620115</td>\n",
       "      <td>0.505004</td>\n",
       "      <td>[0.7494343038165636, 0.4261224489795919, 0.339...</td>\n",
       "      <td>0.496610</td>\n",
       "      <td>[0.783349101229896, 0.42164781906300486, 0.284...</td>\n",
       "      <td>0.523009</td>\n",
       "      <td>[0.7183342972816658, 0.4306930693069307, 0.42]</td>\n",
       "      <td>None</td>\n",
       "      <td>0.669236</td>\n",
       "      <td>...</td>\n",
       "      <td>0.0005</td>\n",
       "      <td>12</td>\n",
       "      <td>focal</td>\n",
       "      <td>2</td>\n",
       "      <td>True</td>\n",
       "      <td>5</td>\n",
       "      <td>Conv1d</td>\n",
       "      <td>None</td>\n",
       "      <td>concatenation</td>\n",
       "      <td>64</td>\n",
       "    </tr>\n",
       "    <tr>\n",
       "      <th>0</th>\n",
       "      <td>None</td>\n",
       "      <td>0.618966</td>\n",
       "      <td>0.501638</td>\n",
       "      <td>[0.7480777928539123, 0.42376856919468336, 0.33...</td>\n",
       "      <td>0.493887</td>\n",
       "      <td>[0.7814173228346457, 0.4026745913818722, 0.297...</td>\n",
       "      <td>0.514281</td>\n",
       "      <td>[0.7174667437825333, 0.4471947194719472, 0.378...</td>\n",
       "      <td>None</td>\n",
       "      <td>0.665703</td>\n",
       "      <td>...</td>\n",
       "      <td>0.0005</td>\n",
       "      <td>123</td>\n",
       "      <td>focal</td>\n",
       "      <td>2</td>\n",
       "      <td>True</td>\n",
       "      <td>5</td>\n",
       "      <td>Conv1d</td>\n",
       "      <td>None</td>\n",
       "      <td>concatenation</td>\n",
       "      <td>64</td>\n",
       "    </tr>\n",
       "  </tbody>\n",
       "</table>\n",
       "<p>3 rows × 43 columns</p>\n",
       "</div>"
      ],
      "text/plain": [
       "   loss  accuracy        f1  \\\n",
       "0  None  0.615900  0.470222   \n",
       "0  None  0.620115  0.505004   \n",
       "0  None  0.618966  0.501638   \n",
       "\n",
       "                                           f1_scores  precision  \\\n",
       "0  [0.7566293459045375, 0.4083640836408364, 0.245...   0.467258   \n",
       "0  [0.7494343038165636, 0.4261224489795919, 0.339...   0.496610   \n",
       "0  [0.7480777928539123, 0.42376856919468336, 0.33...   0.493887   \n",
       "\n",
       "                                    precision_scores    recall  \\\n",
       "0  [0.7711711711711712, 0.4058679706601467, 0.224...  0.474809   \n",
       "0  [0.783349101229896, 0.42164781906300486, 0.284...  0.523009   \n",
       "0  [0.7814173228346457, 0.4026745913818722, 0.297...  0.514281   \n",
       "\n",
       "                                       recall_scores valid_loss  \\\n",
       "0  [0.7426257952573742, 0.41089108910891087, 0.27...       None   \n",
       "0     [0.7183342972816658, 0.4306930693069307, 0.42]       None   \n",
       "0  [0.7174667437825333, 0.4471947194719472, 0.378...       None   \n",
       "\n",
       "   valid_accuracy  ...  learning_rate seed  loss_function gamma  k_fold  \\\n",
       "0        0.675979  ...         0.0005    1          focal     2    True   \n",
       "0        0.669236  ...         0.0005   12          focal     2    True   \n",
       "0        0.665703  ...         0.0005  123          focal     2    True   \n",
       "\n",
       "  n_splits  augmentation_type  hidden_dim_aug    comb_method batch_size  \n",
       "0        5             Conv1d            None  concatenation         64  \n",
       "0        5             Conv1d            None  concatenation         64  \n",
       "0        5             Conv1d            None  concatenation         64  \n",
       "\n",
       "[3 rows x 43 columns]"
      ]
     },
     "execution_count": 71,
     "metadata": {},
     "output_type": "execute_result"
    }
   ],
   "source": [
    "best_swmhau_network_umap_kfold_35"
   ]
  },
  {
   "cell_type": "code",
   "execution_count": 72,
   "id": "4e805020-5b5f-4e04-97e9-7e378d5ebd9f",
   "metadata": {},
   "outputs": [
    {
     "data": {
      "text/plain": [
       "0.4922879075088247"
      ]
     },
     "execution_count": 72,
     "metadata": {},
     "output_type": "execute_result"
    }
   ],
   "source": [
    "best_swmhau_network_umap_kfold_35[\"f1\"].mean()"
   ]
  },
  {
   "cell_type": "code",
   "execution_count": 73,
   "id": "a3367c1e-f6bc-4934-a8d0-d42b5ac69ea5",
   "metadata": {},
   "outputs": [
    {
     "data": {
      "text/plain": [
       "0.48591839085193883"
      ]
     },
     "execution_count": 73,
     "metadata": {},
     "output_type": "execute_result"
    }
   ],
   "source": [
    "best_swmhau_network_umap_kfold_35[\"precision\"].mean()"
   ]
  },
  {
   "cell_type": "code",
   "execution_count": 74,
   "id": "6ff62c63-d76e-42f4-8c9a-e4d74ee8b968",
   "metadata": {},
   "outputs": [
    {
     "data": {
      "text/plain": [
       "0.5040329581444746"
      ]
     },
     "execution_count": 74,
     "metadata": {},
     "output_type": "execute_result"
    }
   ],
   "source": [
    "best_swmhau_network_umap_kfold_35[\"recall\"].mean()"
   ]
  },
  {
   "cell_type": "code",
   "execution_count": 75,
   "id": "7137d800-9938-45c7-ba6c-12dae6efbe36",
   "metadata": {},
   "outputs": [
    {
     "data": {
      "text/plain": [
       "array([0.75138048, 0.41941837, 0.30606487])"
      ]
     },
     "execution_count": 75,
     "metadata": {},
     "output_type": "execute_result"
    }
   ],
   "source": [
    "np.stack(best_swmhau_network_umap_kfold_35[\"f1_scores\"]).mean(axis=0)"
   ]
  },
  {
   "cell_type": "code",
   "execution_count": 76,
   "id": "1305b2d3-0312-4ba3-8b4b-ea245ab76e48",
   "metadata": {},
   "outputs": [
    {
     "data": {
      "text/plain": [
       "array([0.77864587, 0.41006346, 0.26904585])"
      ]
     },
     "execution_count": 76,
     "metadata": {},
     "output_type": "execute_result"
    }
   ],
   "source": [
    "np.stack(best_swmhau_network_umap_kfold_35[\"precision_scores\"]).mean(axis=0)"
   ]
  },
  {
   "cell_type": "code",
   "execution_count": 77,
   "id": "98e1481a-729f-48a6-b317-856f75fa3d3b",
   "metadata": {},
   "outputs": [
    {
     "data": {
      "text/plain": [
       "array([0.72614228, 0.42959296, 0.35636364])"
      ]
     },
     "execution_count": 77,
     "metadata": {},
     "output_type": "execute_result"
    }
   ],
   "source": [
    "np.stack(best_swmhau_network_umap_kfold_35[\"recall_scores\"]).mean(axis=0)"
   ]
  },
  {
   "cell_type": "markdown",
   "id": "3974e06c-a795-4704-b86d-97aa8863190f",
   "metadata": {
    "tags": []
   },
   "source": [
    "## Random Projections"
   ]
  },
  {
   "cell_type": "code",
   "execution_count": 78,
   "id": "44a57233-a0b2-4a0b-9255-9d449cedde2b",
   "metadata": {},
   "outputs": [
    {
     "data": {
      "application/vnd.jupyter.widget-view+json": {
       "model_id": "a839a34f0b5044d3a098b2f844e2e6f7",
       "version_major": 2,
       "version_minor": 0
      },
      "text/plain": [
       "  0%|          | 0/1 [00:00<?, ?it/s]"
      ]
     },
     "metadata": {},
     "output_type": "display_data"
    },
    {
     "data": {
      "application/vnd.jupyter.widget-view+json": {
       "model_id": "e6f96cf777d4495192195363ab89a48a",
       "version_major": 2,
       "version_minor": 0
      },
      "text/plain": [
       "  0%|          | 0/1 [00:00<?, ?it/s]"
      ]
     },
     "metadata": {},
     "output_type": "display_data"
    },
    {
     "data": {
      "application/vnd.jupyter.widget-view+json": {
       "model_id": "0cfbb33a07084617ac21d22419a4c6de",
       "version_major": 2,
       "version_minor": 0
      },
      "text/plain": [
       "  0%|          | 0/1 [00:00<?, ?it/s]"
      ]
     },
     "metadata": {},
     "output_type": "display_data"
    },
    {
     "name": "stdout",
     "output_type": "stream",
     "text": [
      "\n",
      "##################################################\n",
      "dimension: 15 | method: gaussian_random_projection\n",
      "[INFO] Concatenating the embeddings to the dataframe...\n",
      "[INFO] - columns beginning with 'e' denote the full embddings.\n",
      "[INFO] - columns beginning with 'd' denote the dimension reduced embeddings.\n",
      "[INFO] Adding time feature columns into dataframe in `.df`.\n",
      "[INFO] Adding 'time_encoding' feature...\n",
      "[INFO] Adding 'time_diff' feature...\n",
      "[INFO] Adding 'timeline_index' feature...\n",
      "[INFO] Padding ids and storing in `.df_padded` and `.array_padded` attributes.\n"
     ]
    },
    {
     "data": {
      "application/vnd.jupyter.widget-view+json": {
       "model_id": "0980e77d204d4d43a0a9543de623752f",
       "version_major": 2,
       "version_minor": 0
      },
      "text/plain": [
       "  0%|          | 0/9699 [00:00<?, ?it/s]"
      ]
     },
     "metadata": {},
     "output_type": "display_data"
    },
    {
     "name": "stdout",
     "output_type": "stream",
     "text": [
      "[INFO] The path was created for each item in the dataframe, by looking at its history, so to include embeddings in the FFN input, we concatenate the embeddings for each sentence / text.\n"
     ]
    },
    {
     "data": {
      "application/vnd.jupyter.widget-view+json": {
       "model_id": "e3bb910e4fc74300a38957da1fdc3cca",
       "version_major": 2,
       "version_minor": 0
      },
      "text/plain": [
       "  0%|          | 0/2 [00:00<?, ?it/s]"
      ]
     },
     "metadata": {},
     "output_type": "display_data"
    },
    {
     "data": {
      "application/vnd.jupyter.widget-view+json": {
       "model_id": "b16f1ebe40084d7fb93ad9b1dd2a17c9",
       "version_major": 2,
       "version_minor": 0
      },
      "text/plain": [
       "  0%|          | 0/1 [00:00<?, ?it/s]"
      ]
     },
     "metadata": {},
     "output_type": "display_data"
    },
    {
     "data": {
      "application/vnd.jupyter.widget-view+json": {
       "model_id": "989d19c9b7494f80ab6910667627e673",
       "version_major": 2,
       "version_minor": 0
      },
      "text/plain": [
       "  0%|          | 0/2 [00:00<?, ?it/s]"
      ]
     },
     "metadata": {},
     "output_type": "display_data"
    },
    {
     "data": {
      "application/vnd.jupyter.widget-view+json": {
       "model_id": "7bf94d4a74c84945a15c1f6399134f23",
       "version_major": 2,
       "version_minor": 0
      },
      "text/plain": [
       "  0%|          | 0/2 [00:00<?, ?it/s]"
      ]
     },
     "metadata": {},
     "output_type": "display_data"
    },
    {
     "data": {
      "application/vnd.jupyter.widget-view+json": {
       "model_id": "ccc35890a8414b48865c431093b3ffef",
       "version_major": 2,
       "version_minor": 0
      },
      "text/plain": [
       "  0%|          | 0/3 [00:00<?, ?it/s]"
      ]
     },
     "metadata": {},
     "output_type": "display_data"
    },
    {
     "data": {
      "application/vnd.jupyter.widget-view+json": {
       "model_id": "75896e64e049431fbd6090461e7baa56",
       "version_major": 2,
       "version_minor": 0
      },
      "text/plain": [
       "  0%|          | 0/3 [00:00<?, ?it/s]"
      ]
     },
     "metadata": {},
     "output_type": "display_data"
    },
    {
     "data": {
      "application/vnd.jupyter.widget-view+json": {
       "model_id": "798c88006a884f4281d0e2292bcb2ae0",
       "version_major": 2,
       "version_minor": 0
      },
      "text/plain": [
       "  0%|          | 0/2 [00:00<?, ?it/s]"
      ]
     },
     "metadata": {},
     "output_type": "display_data"
    },
    {
     "data": {
      "application/vnd.jupyter.widget-view+json": {
       "model_id": "7523679ed6434b6bbf36838f82150ecd",
       "version_major": 2,
       "version_minor": 0
      },
      "text/plain": [
       "  0%|          | 0/3 [00:00<?, ?it/s]"
      ]
     },
     "metadata": {},
     "output_type": "display_data"
    },
    {
     "data": {
      "application/vnd.jupyter.widget-view+json": {
       "model_id": "975f2b2a330d438fab6839c8cb165670",
       "version_major": 2,
       "version_minor": 0
      },
      "text/plain": [
       "  0%|          | 0/3 [00:00<?, ?it/s]"
      ]
     },
     "metadata": {},
     "output_type": "display_data"
    },
    {
     "data": {
      "application/vnd.jupyter.widget-view+json": {
       "model_id": "884ffe72954245bcba3dddba70a9d7db",
       "version_major": 2,
       "version_minor": 0
      },
      "text/plain": [
       "  0%|          | 0/1 [00:00<?, ?it/s]"
      ]
     },
     "metadata": {},
     "output_type": "display_data"
    },
    {
     "data": {
      "application/vnd.jupyter.widget-view+json": {
       "model_id": "45b02ee819704b8fb21e56e120e41bd8",
       "version_major": 2,
       "version_minor": 0
      },
      "text/plain": [
       "  0%|          | 0/2 [00:00<?, ?it/s]"
      ]
     },
     "metadata": {},
     "output_type": "display_data"
    },
    {
     "data": {
      "application/vnd.jupyter.widget-view+json": {
       "model_id": "61065fa71226483c824ee249201c0e2a",
       "version_major": 2,
       "version_minor": 0
      },
      "text/plain": [
       "  0%|          | 0/2 [00:00<?, ?it/s]"
      ]
     },
     "metadata": {},
     "output_type": "display_data"
    },
    {
     "data": {
      "application/vnd.jupyter.widget-view+json": {
       "model_id": "1b6ee5f658c348a4bc72830ead084b57",
       "version_major": 2,
       "version_minor": 0
      },
      "text/plain": [
       "  0%|          | 0/3 [00:00<?, ?it/s]"
      ]
     },
     "metadata": {},
     "output_type": "display_data"
    },
    {
     "data": {
      "application/vnd.jupyter.widget-view+json": {
       "model_id": "27c340706a744382a16cdc39210a8c99",
       "version_major": 2,
       "version_minor": 0
      },
      "text/plain": [
       "  0%|          | 0/3 [00:00<?, ?it/s]"
      ]
     },
     "metadata": {},
     "output_type": "display_data"
    },
    {
     "data": {
      "application/vnd.jupyter.widget-view+json": {
       "model_id": "db63ec1b75f94a21ac3a360768a1be99",
       "version_major": 2,
       "version_minor": 0
      },
      "text/plain": [
       "  0%|          | 0/2 [00:00<?, ?it/s]"
      ]
     },
     "metadata": {},
     "output_type": "display_data"
    },
    {
     "data": {
      "application/vnd.jupyter.widget-view+json": {
       "model_id": "b0560f762cd84ab5b740c81d25a55b78",
       "version_major": 2,
       "version_minor": 0
      },
      "text/plain": [
       "  0%|          | 0/3 [00:00<?, ?it/s]"
      ]
     },
     "metadata": {},
     "output_type": "display_data"
    },
    {
     "data": {
      "application/vnd.jupyter.widget-view+json": {
       "model_id": "896d4b467ed64e488d5bfeb4dcf1cd24",
       "version_major": 2,
       "version_minor": 0
      },
      "text/plain": [
       "  0%|          | 0/3 [00:00<?, ?it/s]"
      ]
     },
     "metadata": {},
     "output_type": "display_data"
    },
    {
     "name": "stdout",
     "output_type": "stream",
     "text": [
      "[INFO] Concatenating the embeddings to the dataframe...\n",
      "[INFO] - columns beginning with 'e' denote the full embddings.\n",
      "[INFO] - columns beginning with 'd' denote the dimension reduced embeddings.\n",
      "[INFO] Adding time feature columns into dataframe in `.df`.\n",
      "[INFO] Adding 'time_encoding' feature...\n",
      "[INFO] Adding 'time_diff' feature...\n",
      "[INFO] Adding 'timeline_index' feature...\n",
      "[INFO] Padding ids and storing in `.df_padded` and `.array_padded` attributes.\n"
     ]
    },
    {
     "data": {
      "application/vnd.jupyter.widget-view+json": {
       "model_id": "c82ea6ac33d84970b90740992831c5f0",
       "version_major": 2,
       "version_minor": 0
      },
      "text/plain": [
       "  0%|          | 0/9699 [00:00<?, ?it/s]"
      ]
     },
     "metadata": {},
     "output_type": "display_data"
    },
    {
     "name": "stdout",
     "output_type": "stream",
     "text": [
      "[INFO] The path was created for each item in the dataframe, by looking at its history, so to include embeddings in the FFN input, we concatenate the embeddings for each sentence / text.\n",
      "saving results dataframe to CSV for this hyperparameter search in client_talk_type_output/swmhau_network_grp_focal_2_35_kfold.csv\n",
      "saving the best model results dataframe to CSV for this hyperparameter search in client_talk_type_output/swmhau_network_grp_focal_2_35_kfold_best_model.csv\n"
     ]
    }
   ],
   "source": [
    "(\n",
    "    swmhau_network_grp_kfold_35,\n",
    "    best_swmhau_network_grp_kfold_35,\n",
    "    _,\n",
    "    __,\n",
    ") = swmhau_network_hyperparameter_search(\n",
    "    history_lengths=[size],\n",
    "    dim_reduce_methods=[\"gaussian_random_projection\"],\n",
    "    results_output=f\"{output_dir}/swmhau_network_grp_focal_{gamma}_{size}_kfold.csv\",\n",
    "    **kwargs,\n",
    ")"
   ]
  },
  {
   "cell_type": "code",
   "execution_count": 79,
   "id": "f1f25da7-9415-4fe3-9184-b16356aa7fe2",
   "metadata": {},
   "outputs": [
    {
     "name": "stderr",
     "output_type": "stream",
     "text": [
      "/tmp/ipykernel_2005997/2891164155.py:1: FutureWarning: The default value of numeric_only in DataFrameGroupBy.mean is deprecated. In a future version, numeric_only will default to False. Either specify numeric_only or select only columns which should be valid for the function.\n",
      "  swmhau_network_grp_kfold_35.groupby(\n"
     ]
    },
    {
     "data": {
      "text/html": [
       "<div>\n",
       "<style scoped>\n",
       "    .dataframe tbody tr th:only-of-type {\n",
       "        vertical-align: middle;\n",
       "    }\n",
       "\n",
       "    .dataframe tbody tr th {\n",
       "        vertical-align: top;\n",
       "    }\n",
       "\n",
       "    .dataframe thead th {\n",
       "        text-align: right;\n",
       "    }\n",
       "</style>\n",
       "<table border=\"1\" class=\"dataframe\">\n",
       "  <thead>\n",
       "    <tr style=\"text-align: right;\">\n",
       "      <th></th>\n",
       "      <th></th>\n",
       "      <th></th>\n",
       "      <th></th>\n",
       "      <th></th>\n",
       "      <th></th>\n",
       "      <th></th>\n",
       "      <th></th>\n",
       "      <th>accuracy</th>\n",
       "      <th>f1</th>\n",
       "      <th>precision</th>\n",
       "      <th>recall</th>\n",
       "      <th>valid_accuracy</th>\n",
       "      <th>valid_f1</th>\n",
       "      <th>valid_precision</th>\n",
       "      <th>valid_recall</th>\n",
       "      <th>k</th>\n",
       "      <th>input_channels</th>\n",
       "      <th>...</th>\n",
       "      <th>include_features_in_input</th>\n",
       "      <th>embedding_dim</th>\n",
       "      <th>num_features</th>\n",
       "      <th>log_signature</th>\n",
       "      <th>seed</th>\n",
       "      <th>gamma</th>\n",
       "      <th>k_fold</th>\n",
       "      <th>n_splits</th>\n",
       "      <th>batch_size</th>\n",
       "      <th>model_id</th>\n",
       "    </tr>\n",
       "    <tr>\n",
       "      <th>dimensions</th>\n",
       "      <th>output_channels</th>\n",
       "      <th>sig_depth</th>\n",
       "      <th>num_heads</th>\n",
       "      <th>num_layers</th>\n",
       "      <th>ffn_hidden_dim</th>\n",
       "      <th>dropout_rate</th>\n",
       "      <th>learning_rate</th>\n",
       "      <th></th>\n",
       "      <th></th>\n",
       "      <th></th>\n",
       "      <th></th>\n",
       "      <th></th>\n",
       "      <th></th>\n",
       "      <th></th>\n",
       "      <th></th>\n",
       "      <th></th>\n",
       "      <th></th>\n",
       "      <th></th>\n",
       "      <th></th>\n",
       "      <th></th>\n",
       "      <th></th>\n",
       "      <th></th>\n",
       "      <th></th>\n",
       "      <th></th>\n",
       "      <th></th>\n",
       "      <th></th>\n",
       "      <th></th>\n",
       "      <th></th>\n",
       "    </tr>\n",
       "  </thead>\n",
       "  <tbody>\n",
       "    <tr>\n",
       "      <th rowspan=\"24\" valign=\"top\">15</th>\n",
       "      <th rowspan=\"12\" valign=\"top\">8</th>\n",
       "      <th rowspan=\"12\" valign=\"top\">4</th>\n",
       "      <th rowspan=\"12\" valign=\"top\">6</th>\n",
       "      <th rowspan=\"12\" valign=\"top\">1</th>\n",
       "      <th rowspan=\"6\" valign=\"top\">(256, 256)</th>\n",
       "      <th rowspan=\"3\" valign=\"top\">0.1</th>\n",
       "      <th>0.0001</th>\n",
       "      <td>0.598851</td>\n",
       "      <td>0.445935</td>\n",
       "      <td>0.451781</td>\n",
       "      <td>0.446037</td>\n",
       "      <td>0.666453</td>\n",
       "      <td>0.552459</td>\n",
       "      <td>0.558434</td>\n",
       "      <td>0.550350</td>\n",
       "      <td>35.0</td>\n",
       "      <td>17.0</td>\n",
       "      <td>...</td>\n",
       "      <td>0.0</td>\n",
       "      <td>384.0</td>\n",
       "      <td>0.0</td>\n",
       "      <td>1.0</td>\n",
       "      <td>45.333333</td>\n",
       "      <td>2.0</td>\n",
       "      <td>1.0</td>\n",
       "      <td>5.0</td>\n",
       "      <td>64.0</td>\n",
       "      <td>13.0</td>\n",
       "    </tr>\n",
       "    <tr>\n",
       "      <th>0.0005</th>\n",
       "      <td>0.634930</td>\n",
       "      <td>0.520999</td>\n",
       "      <td>0.512857</td>\n",
       "      <td>0.539227</td>\n",
       "      <td>0.660993</td>\n",
       "      <td>0.560001</td>\n",
       "      <td>0.554175</td>\n",
       "      <td>0.572632</td>\n",
       "      <td>35.0</td>\n",
       "      <td>17.0</td>\n",
       "      <td>...</td>\n",
       "      <td>0.0</td>\n",
       "      <td>384.0</td>\n",
       "      <td>0.0</td>\n",
       "      <td>1.0</td>\n",
       "      <td>45.333333</td>\n",
       "      <td>2.0</td>\n",
       "      <td>1.0</td>\n",
       "      <td>5.0</td>\n",
       "      <td>64.0</td>\n",
       "      <td>14.0</td>\n",
       "    </tr>\n",
       "    <tr>\n",
       "      <th>0.0010</th>\n",
       "      <td>0.639847</td>\n",
       "      <td>0.521835</td>\n",
       "      <td>0.515521</td>\n",
       "      <td>0.539942</td>\n",
       "      <td>0.660726</td>\n",
       "      <td>0.554257</td>\n",
       "      <td>0.551584</td>\n",
       "      <td>0.567557</td>\n",
       "      <td>35.0</td>\n",
       "      <td>17.0</td>\n",
       "      <td>...</td>\n",
       "      <td>0.0</td>\n",
       "      <td>384.0</td>\n",
       "      <td>0.0</td>\n",
       "      <td>1.0</td>\n",
       "      <td>45.333333</td>\n",
       "      <td>2.0</td>\n",
       "      <td>1.0</td>\n",
       "      <td>5.0</td>\n",
       "      <td>64.0</td>\n",
       "      <td>12.0</td>\n",
       "    </tr>\n",
       "    <tr>\n",
       "      <th rowspan=\"3\" valign=\"top\">0.2</th>\n",
       "      <th>0.0001</th>\n",
       "      <td>0.614049</td>\n",
       "      <td>0.460678</td>\n",
       "      <td>0.464105</td>\n",
       "      <td>0.459631</td>\n",
       "      <td>0.669022</td>\n",
       "      <td>0.554524</td>\n",
       "      <td>0.558627</td>\n",
       "      <td>0.552302</td>\n",
       "      <td>35.0</td>\n",
       "      <td>17.0</td>\n",
       "      <td>...</td>\n",
       "      <td>0.0</td>\n",
       "      <td>384.0</td>\n",
       "      <td>0.0</td>\n",
       "      <td>1.0</td>\n",
       "      <td>45.333333</td>\n",
       "      <td>2.0</td>\n",
       "      <td>1.0</td>\n",
       "      <td>5.0</td>\n",
       "      <td>64.0</td>\n",
       "      <td>16.0</td>\n",
       "    </tr>\n",
       "    <tr>\n",
       "      <th>0.0005</th>\n",
       "      <td>0.625415</td>\n",
       "      <td>0.512821</td>\n",
       "      <td>0.503762</td>\n",
       "      <td>0.530308</td>\n",
       "      <td>0.658264</td>\n",
       "      <td>0.557771</td>\n",
       "      <td>0.550263</td>\n",
       "      <td>0.570238</td>\n",
       "      <td>35.0</td>\n",
       "      <td>17.0</td>\n",
       "      <td>...</td>\n",
       "      <td>0.0</td>\n",
       "      <td>384.0</td>\n",
       "      <td>0.0</td>\n",
       "      <td>1.0</td>\n",
       "      <td>45.333333</td>\n",
       "      <td>2.0</td>\n",
       "      <td>1.0</td>\n",
       "      <td>5.0</td>\n",
       "      <td>64.0</td>\n",
       "      <td>17.0</td>\n",
       "    </tr>\n",
       "    <tr>\n",
       "      <th>0.0010</th>\n",
       "      <td>0.626309</td>\n",
       "      <td>0.514044</td>\n",
       "      <td>0.507312</td>\n",
       "      <td>0.536573</td>\n",
       "      <td>0.654785</td>\n",
       "      <td>0.555781</td>\n",
       "      <td>0.550570</td>\n",
       "      <td>0.573629</td>\n",
       "      <td>35.0</td>\n",
       "      <td>17.0</td>\n",
       "      <td>...</td>\n",
       "      <td>0.0</td>\n",
       "      <td>384.0</td>\n",
       "      <td>0.0</td>\n",
       "      <td>1.0</td>\n",
       "      <td>45.333333</td>\n",
       "      <td>2.0</td>\n",
       "      <td>1.0</td>\n",
       "      <td>5.0</td>\n",
       "      <td>64.0</td>\n",
       "      <td>15.0</td>\n",
       "    </tr>\n",
       "    <tr>\n",
       "      <th rowspan=\"6\" valign=\"top\">(512, 512)</th>\n",
       "      <th rowspan=\"3\" valign=\"top\">0.1</th>\n",
       "      <th>0.0001</th>\n",
       "      <td>0.619860</td>\n",
       "      <td>0.475734</td>\n",
       "      <td>0.476638</td>\n",
       "      <td>0.476553</td>\n",
       "      <td>0.676568</td>\n",
       "      <td>0.569205</td>\n",
       "      <td>0.569288</td>\n",
       "      <td>0.570004</td>\n",
       "      <td>35.0</td>\n",
       "      <td>17.0</td>\n",
       "      <td>...</td>\n",
       "      <td>0.0</td>\n",
       "      <td>384.0</td>\n",
       "      <td>0.0</td>\n",
       "      <td>1.0</td>\n",
       "      <td>45.333333</td>\n",
       "      <td>2.0</td>\n",
       "      <td>1.0</td>\n",
       "      <td>5.0</td>\n",
       "      <td>64.0</td>\n",
       "      <td>19.0</td>\n",
       "    </tr>\n",
       "    <tr>\n",
       "      <th>0.0005</th>\n",
       "      <td>0.629119</td>\n",
       "      <td>0.515756</td>\n",
       "      <td>0.507618</td>\n",
       "      <td>0.535731</td>\n",
       "      <td>0.659655</td>\n",
       "      <td>0.559380</td>\n",
       "      <td>0.553281</td>\n",
       "      <td>0.573832</td>\n",
       "      <td>35.0</td>\n",
       "      <td>17.0</td>\n",
       "      <td>...</td>\n",
       "      <td>0.0</td>\n",
       "      <td>384.0</td>\n",
       "      <td>0.0</td>\n",
       "      <td>1.0</td>\n",
       "      <td>45.333333</td>\n",
       "      <td>2.0</td>\n",
       "      <td>1.0</td>\n",
       "      <td>5.0</td>\n",
       "      <td>64.0</td>\n",
       "      <td>20.0</td>\n",
       "    </tr>\n",
       "    <tr>\n",
       "      <th>0.0010</th>\n",
       "      <td>0.635568</td>\n",
       "      <td>0.514624</td>\n",
       "      <td>0.509591</td>\n",
       "      <td>0.530594</td>\n",
       "      <td>0.664472</td>\n",
       "      <td>0.558523</td>\n",
       "      <td>0.555962</td>\n",
       "      <td>0.569974</td>\n",
       "      <td>35.0</td>\n",
       "      <td>17.0</td>\n",
       "      <td>...</td>\n",
       "      <td>0.0</td>\n",
       "      <td>384.0</td>\n",
       "      <td>0.0</td>\n",
       "      <td>1.0</td>\n",
       "      <td>45.333333</td>\n",
       "      <td>2.0</td>\n",
       "      <td>1.0</td>\n",
       "      <td>5.0</td>\n",
       "      <td>64.0</td>\n",
       "      <td>18.0</td>\n",
       "    </tr>\n",
       "    <tr>\n",
       "      <th rowspan=\"3\" valign=\"top\">0.2</th>\n",
       "      <th>0.0001</th>\n",
       "      <td>0.608748</td>\n",
       "      <td>0.473618</td>\n",
       "      <td>0.470726</td>\n",
       "      <td>0.478821</td>\n",
       "      <td>0.669289</td>\n",
       "      <td>0.569295</td>\n",
       "      <td>0.564518</td>\n",
       "      <td>0.575477</td>\n",
       "      <td>35.0</td>\n",
       "      <td>17.0</td>\n",
       "      <td>...</td>\n",
       "      <td>0.0</td>\n",
       "      <td>384.0</td>\n",
       "      <td>0.0</td>\n",
       "      <td>1.0</td>\n",
       "      <td>45.333333</td>\n",
       "      <td>2.0</td>\n",
       "      <td>1.0</td>\n",
       "      <td>5.0</td>\n",
       "      <td>64.0</td>\n",
       "      <td>22.0</td>\n",
       "    </tr>\n",
       "    <tr>\n",
       "      <th>0.0005</th>\n",
       "      <td>0.631418</td>\n",
       "      <td>0.515476</td>\n",
       "      <td>0.508249</td>\n",
       "      <td>0.534201</td>\n",
       "      <td>0.664633</td>\n",
       "      <td>0.563543</td>\n",
       "      <td>0.558432</td>\n",
       "      <td>0.576441</td>\n",
       "      <td>35.0</td>\n",
       "      <td>17.0</td>\n",
       "      <td>...</td>\n",
       "      <td>0.0</td>\n",
       "      <td>384.0</td>\n",
       "      <td>0.0</td>\n",
       "      <td>1.0</td>\n",
       "      <td>45.333333</td>\n",
       "      <td>2.0</td>\n",
       "      <td>1.0</td>\n",
       "      <td>5.0</td>\n",
       "      <td>64.0</td>\n",
       "      <td>23.0</td>\n",
       "    </tr>\n",
       "    <tr>\n",
       "      <th>0.0010</th>\n",
       "      <td>0.634738</td>\n",
       "      <td>0.513348</td>\n",
       "      <td>0.508882</td>\n",
       "      <td>0.530222</td>\n",
       "      <td>0.662064</td>\n",
       "      <td>0.552800</td>\n",
       "      <td>0.551208</td>\n",
       "      <td>0.562959</td>\n",
       "      <td>35.0</td>\n",
       "      <td>17.0</td>\n",
       "      <td>...</td>\n",
       "      <td>0.0</td>\n",
       "      <td>384.0</td>\n",
       "      <td>0.0</td>\n",
       "      <td>1.0</td>\n",
       "      <td>45.333333</td>\n",
       "      <td>2.0</td>\n",
       "      <td>1.0</td>\n",
       "      <td>5.0</td>\n",
       "      <td>64.0</td>\n",
       "      <td>21.0</td>\n",
       "    </tr>\n",
       "    <tr>\n",
       "      <th rowspan=\"12\" valign=\"top\">12</th>\n",
       "      <th rowspan=\"12\" valign=\"top\">3</th>\n",
       "      <th rowspan=\"12\" valign=\"top\">10</th>\n",
       "      <th rowspan=\"12\" valign=\"top\">1</th>\n",
       "      <th rowspan=\"6\" valign=\"top\">(256, 256)</th>\n",
       "      <th rowspan=\"3\" valign=\"top\">0.1</th>\n",
       "      <th>0.0001</th>\n",
       "      <td>0.604151</td>\n",
       "      <td>0.459792</td>\n",
       "      <td>0.463422</td>\n",
       "      <td>0.459400</td>\n",
       "      <td>0.672715</td>\n",
       "      <td>0.569024</td>\n",
       "      <td>0.571534</td>\n",
       "      <td>0.568618</td>\n",
       "      <td>35.0</td>\n",
       "      <td>17.0</td>\n",
       "      <td>...</td>\n",
       "      <td>0.0</td>\n",
       "      <td>384.0</td>\n",
       "      <td>0.0</td>\n",
       "      <td>1.0</td>\n",
       "      <td>45.333333</td>\n",
       "      <td>2.0</td>\n",
       "      <td>1.0</td>\n",
       "      <td>5.0</td>\n",
       "      <td>64.0</td>\n",
       "      <td>1.0</td>\n",
       "    </tr>\n",
       "    <tr>\n",
       "      <th>0.0005</th>\n",
       "      <td>0.623499</td>\n",
       "      <td>0.510862</td>\n",
       "      <td>0.502177</td>\n",
       "      <td>0.530110</td>\n",
       "      <td>0.666774</td>\n",
       "      <td>0.573679</td>\n",
       "      <td>0.565215</td>\n",
       "      <td>0.591935</td>\n",
       "      <td>35.0</td>\n",
       "      <td>17.0</td>\n",
       "      <td>...</td>\n",
       "      <td>0.0</td>\n",
       "      <td>384.0</td>\n",
       "      <td>0.0</td>\n",
       "      <td>1.0</td>\n",
       "      <td>45.333333</td>\n",
       "      <td>2.0</td>\n",
       "      <td>1.0</td>\n",
       "      <td>5.0</td>\n",
       "      <td>64.0</td>\n",
       "      <td>2.0</td>\n",
       "    </tr>\n",
       "    <tr>\n",
       "      <th>0.0010</th>\n",
       "      <td>0.639974</td>\n",
       "      <td>0.519281</td>\n",
       "      <td>0.513373</td>\n",
       "      <td>0.534146</td>\n",
       "      <td>0.663937</td>\n",
       "      <td>0.556572</td>\n",
       "      <td>0.554712</td>\n",
       "      <td>0.566113</td>\n",
       "      <td>35.0</td>\n",
       "      <td>17.0</td>\n",
       "      <td>...</td>\n",
       "      <td>0.0</td>\n",
       "      <td>384.0</td>\n",
       "      <td>0.0</td>\n",
       "      <td>1.0</td>\n",
       "      <td>45.333333</td>\n",
       "      <td>2.0</td>\n",
       "      <td>1.0</td>\n",
       "      <td>5.0</td>\n",
       "      <td>64.0</td>\n",
       "      <td>0.0</td>\n",
       "    </tr>\n",
       "    <tr>\n",
       "      <th rowspan=\"3\" valign=\"top\">0.2</th>\n",
       "      <th>0.0001</th>\n",
       "      <td>0.609706</td>\n",
       "      <td>0.459012</td>\n",
       "      <td>0.465649</td>\n",
       "      <td>0.456954</td>\n",
       "      <td>0.674320</td>\n",
       "      <td>0.566362</td>\n",
       "      <td>0.571001</td>\n",
       "      <td>0.564147</td>\n",
       "      <td>35.0</td>\n",
       "      <td>17.0</td>\n",
       "      <td>...</td>\n",
       "      <td>0.0</td>\n",
       "      <td>384.0</td>\n",
       "      <td>0.0</td>\n",
       "      <td>1.0</td>\n",
       "      <td>45.333333</td>\n",
       "      <td>2.0</td>\n",
       "      <td>1.0</td>\n",
       "      <td>5.0</td>\n",
       "      <td>64.0</td>\n",
       "      <td>4.0</td>\n",
       "    </tr>\n",
       "    <tr>\n",
       "      <th>0.0005</th>\n",
       "      <td>0.624840</td>\n",
       "      <td>0.510328</td>\n",
       "      <td>0.502521</td>\n",
       "      <td>0.526733</td>\n",
       "      <td>0.669129</td>\n",
       "      <td>0.573922</td>\n",
       "      <td>0.566232</td>\n",
       "      <td>0.589064</td>\n",
       "      <td>35.0</td>\n",
       "      <td>17.0</td>\n",
       "      <td>...</td>\n",
       "      <td>0.0</td>\n",
       "      <td>384.0</td>\n",
       "      <td>0.0</td>\n",
       "      <td>1.0</td>\n",
       "      <td>45.333333</td>\n",
       "      <td>2.0</td>\n",
       "      <td>1.0</td>\n",
       "      <td>5.0</td>\n",
       "      <td>64.0</td>\n",
       "      <td>5.0</td>\n",
       "    </tr>\n",
       "    <tr>\n",
       "      <th>0.0010</th>\n",
       "      <td>0.637548</td>\n",
       "      <td>0.517860</td>\n",
       "      <td>0.512661</td>\n",
       "      <td>0.535999</td>\n",
       "      <td>0.667523</td>\n",
       "      <td>0.561671</td>\n",
       "      <td>0.559623</td>\n",
       "      <td>0.573426</td>\n",
       "      <td>35.0</td>\n",
       "      <td>17.0</td>\n",
       "      <td>...</td>\n",
       "      <td>0.0</td>\n",
       "      <td>384.0</td>\n",
       "      <td>0.0</td>\n",
       "      <td>1.0</td>\n",
       "      <td>45.333333</td>\n",
       "      <td>2.0</td>\n",
       "      <td>1.0</td>\n",
       "      <td>5.0</td>\n",
       "      <td>64.0</td>\n",
       "      <td>3.0</td>\n",
       "    </tr>\n",
       "    <tr>\n",
       "      <th rowspan=\"6\" valign=\"top\">(512, 512)</th>\n",
       "      <th rowspan=\"3\" valign=\"top\">0.1</th>\n",
       "      <th>0.0001</th>\n",
       "      <td>0.609195</td>\n",
       "      <td>0.475247</td>\n",
       "      <td>0.474735</td>\n",
       "      <td>0.478297</td>\n",
       "      <td>0.677478</td>\n",
       "      <td>0.580971</td>\n",
       "      <td>0.577622</td>\n",
       "      <td>0.585664</td>\n",
       "      <td>35.0</td>\n",
       "      <td>17.0</td>\n",
       "      <td>...</td>\n",
       "      <td>0.0</td>\n",
       "      <td>384.0</td>\n",
       "      <td>0.0</td>\n",
       "      <td>1.0</td>\n",
       "      <td>45.333333</td>\n",
       "      <td>2.0</td>\n",
       "      <td>1.0</td>\n",
       "      <td>5.0</td>\n",
       "      <td>64.0</td>\n",
       "      <td>7.0</td>\n",
       "    </tr>\n",
       "    <tr>\n",
       "      <th>0.0005</th>\n",
       "      <td>0.629502</td>\n",
       "      <td>0.514388</td>\n",
       "      <td>0.507008</td>\n",
       "      <td>0.532577</td>\n",
       "      <td>0.661314</td>\n",
       "      <td>0.563421</td>\n",
       "      <td>0.556633</td>\n",
       "      <td>0.579309</td>\n",
       "      <td>35.0</td>\n",
       "      <td>17.0</td>\n",
       "      <td>...</td>\n",
       "      <td>0.0</td>\n",
       "      <td>384.0</td>\n",
       "      <td>0.0</td>\n",
       "      <td>1.0</td>\n",
       "      <td>45.333333</td>\n",
       "      <td>2.0</td>\n",
       "      <td>1.0</td>\n",
       "      <td>5.0</td>\n",
       "      <td>64.0</td>\n",
       "      <td>8.0</td>\n",
       "    </tr>\n",
       "    <tr>\n",
       "      <th>0.0010</th>\n",
       "      <td>0.627969</td>\n",
       "      <td>0.513075</td>\n",
       "      <td>0.505981</td>\n",
       "      <td>0.531678</td>\n",
       "      <td>0.659923</td>\n",
       "      <td>0.558429</td>\n",
       "      <td>0.552830</td>\n",
       "      <td>0.572494</td>\n",
       "      <td>35.0</td>\n",
       "      <td>17.0</td>\n",
       "      <td>...</td>\n",
       "      <td>0.0</td>\n",
       "      <td>384.0</td>\n",
       "      <td>0.0</td>\n",
       "      <td>1.0</td>\n",
       "      <td>45.333333</td>\n",
       "      <td>2.0</td>\n",
       "      <td>1.0</td>\n",
       "      <td>5.0</td>\n",
       "      <td>64.0</td>\n",
       "      <td>6.0</td>\n",
       "    </tr>\n",
       "    <tr>\n",
       "      <th rowspan=\"3\" valign=\"top\">0.2</th>\n",
       "      <th>0.0001</th>\n",
       "      <td>0.611622</td>\n",
       "      <td>0.477785</td>\n",
       "      <td>0.476225</td>\n",
       "      <td>0.480992</td>\n",
       "      <td>0.678870</td>\n",
       "      <td>0.580176</td>\n",
       "      <td>0.576911</td>\n",
       "      <td>0.584298</td>\n",
       "      <td>35.0</td>\n",
       "      <td>17.0</td>\n",
       "      <td>...</td>\n",
       "      <td>0.0</td>\n",
       "      <td>384.0</td>\n",
       "      <td>0.0</td>\n",
       "      <td>1.0</td>\n",
       "      <td>45.333333</td>\n",
       "      <td>2.0</td>\n",
       "      <td>1.0</td>\n",
       "      <td>5.0</td>\n",
       "      <td>64.0</td>\n",
       "      <td>10.0</td>\n",
       "    </tr>\n",
       "    <tr>\n",
       "      <th>0.0005</th>\n",
       "      <td>0.620243</td>\n",
       "      <td>0.507331</td>\n",
       "      <td>0.498962</td>\n",
       "      <td>0.525543</td>\n",
       "      <td>0.662278</td>\n",
       "      <td>0.566528</td>\n",
       "      <td>0.558319</td>\n",
       "      <td>0.581384</td>\n",
       "      <td>35.0</td>\n",
       "      <td>17.0</td>\n",
       "      <td>...</td>\n",
       "      <td>0.0</td>\n",
       "      <td>384.0</td>\n",
       "      <td>0.0</td>\n",
       "      <td>1.0</td>\n",
       "      <td>45.333333</td>\n",
       "      <td>2.0</td>\n",
       "      <td>1.0</td>\n",
       "      <td>5.0</td>\n",
       "      <td>64.0</td>\n",
       "      <td>11.0</td>\n",
       "    </tr>\n",
       "    <tr>\n",
       "      <th>0.0010</th>\n",
       "      <td>0.635249</td>\n",
       "      <td>0.511754</td>\n",
       "      <td>0.506961</td>\n",
       "      <td>0.523731</td>\n",
       "      <td>0.666399</td>\n",
       "      <td>0.557062</td>\n",
       "      <td>0.555670</td>\n",
       "      <td>0.564272</td>\n",
       "      <td>35.0</td>\n",
       "      <td>17.0</td>\n",
       "      <td>...</td>\n",
       "      <td>0.0</td>\n",
       "      <td>384.0</td>\n",
       "      <td>0.0</td>\n",
       "      <td>1.0</td>\n",
       "      <td>45.333333</td>\n",
       "      <td>2.0</td>\n",
       "      <td>1.0</td>\n",
       "      <td>5.0</td>\n",
       "      <td>64.0</td>\n",
       "      <td>9.0</td>\n",
       "    </tr>\n",
       "  </tbody>\n",
       "</table>\n",
       "<p>24 rows × 21 columns</p>\n",
       "</div>"
      ],
      "text/plain": [
       "                                                                                                     accuracy  \\\n",
       "dimensions output_channels sig_depth num_heads num_layers ffn_hidden_dim dropout_rate learning_rate             \n",
       "15         8               4         6         1          (256, 256)     0.1          0.0001         0.598851   \n",
       "                                                                                      0.0005         0.634930   \n",
       "                                                                                      0.0010         0.639847   \n",
       "                                                                         0.2          0.0001         0.614049   \n",
       "                                                                                      0.0005         0.625415   \n",
       "                                                                                      0.0010         0.626309   \n",
       "                                                          (512, 512)     0.1          0.0001         0.619860   \n",
       "                                                                                      0.0005         0.629119   \n",
       "                                                                                      0.0010         0.635568   \n",
       "                                                                         0.2          0.0001         0.608748   \n",
       "                                                                                      0.0005         0.631418   \n",
       "                                                                                      0.0010         0.634738   \n",
       "           12              3         10        1          (256, 256)     0.1          0.0001         0.604151   \n",
       "                                                                                      0.0005         0.623499   \n",
       "                                                                                      0.0010         0.639974   \n",
       "                                                                         0.2          0.0001         0.609706   \n",
       "                                                                                      0.0005         0.624840   \n",
       "                                                                                      0.0010         0.637548   \n",
       "                                                          (512, 512)     0.1          0.0001         0.609195   \n",
       "                                                                                      0.0005         0.629502   \n",
       "                                                                                      0.0010         0.627969   \n",
       "                                                                         0.2          0.0001         0.611622   \n",
       "                                                                                      0.0005         0.620243   \n",
       "                                                                                      0.0010         0.635249   \n",
       "\n",
       "                                                                                                           f1  \\\n",
       "dimensions output_channels sig_depth num_heads num_layers ffn_hidden_dim dropout_rate learning_rate             \n",
       "15         8               4         6         1          (256, 256)     0.1          0.0001         0.445935   \n",
       "                                                                                      0.0005         0.520999   \n",
       "                                                                                      0.0010         0.521835   \n",
       "                                                                         0.2          0.0001         0.460678   \n",
       "                                                                                      0.0005         0.512821   \n",
       "                                                                                      0.0010         0.514044   \n",
       "                                                          (512, 512)     0.1          0.0001         0.475734   \n",
       "                                                                                      0.0005         0.515756   \n",
       "                                                                                      0.0010         0.514624   \n",
       "                                                                         0.2          0.0001         0.473618   \n",
       "                                                                                      0.0005         0.515476   \n",
       "                                                                                      0.0010         0.513348   \n",
       "           12              3         10        1          (256, 256)     0.1          0.0001         0.459792   \n",
       "                                                                                      0.0005         0.510862   \n",
       "                                                                                      0.0010         0.519281   \n",
       "                                                                         0.2          0.0001         0.459012   \n",
       "                                                                                      0.0005         0.510328   \n",
       "                                                                                      0.0010         0.517860   \n",
       "                                                          (512, 512)     0.1          0.0001         0.475247   \n",
       "                                                                                      0.0005         0.514388   \n",
       "                                                                                      0.0010         0.513075   \n",
       "                                                                         0.2          0.0001         0.477785   \n",
       "                                                                                      0.0005         0.507331   \n",
       "                                                                                      0.0010         0.511754   \n",
       "\n",
       "                                                                                                     precision  \\\n",
       "dimensions output_channels sig_depth num_heads num_layers ffn_hidden_dim dropout_rate learning_rate              \n",
       "15         8               4         6         1          (256, 256)     0.1          0.0001          0.451781   \n",
       "                                                                                      0.0005          0.512857   \n",
       "                                                                                      0.0010          0.515521   \n",
       "                                                                         0.2          0.0001          0.464105   \n",
       "                                                                                      0.0005          0.503762   \n",
       "                                                                                      0.0010          0.507312   \n",
       "                                                          (512, 512)     0.1          0.0001          0.476638   \n",
       "                                                                                      0.0005          0.507618   \n",
       "                                                                                      0.0010          0.509591   \n",
       "                                                                         0.2          0.0001          0.470726   \n",
       "                                                                                      0.0005          0.508249   \n",
       "                                                                                      0.0010          0.508882   \n",
       "           12              3         10        1          (256, 256)     0.1          0.0001          0.463422   \n",
       "                                                                                      0.0005          0.502177   \n",
       "                                                                                      0.0010          0.513373   \n",
       "                                                                         0.2          0.0001          0.465649   \n",
       "                                                                                      0.0005          0.502521   \n",
       "                                                                                      0.0010          0.512661   \n",
       "                                                          (512, 512)     0.1          0.0001          0.474735   \n",
       "                                                                                      0.0005          0.507008   \n",
       "                                                                                      0.0010          0.505981   \n",
       "                                                                         0.2          0.0001          0.476225   \n",
       "                                                                                      0.0005          0.498962   \n",
       "                                                                                      0.0010          0.506961   \n",
       "\n",
       "                                                                                                       recall  \\\n",
       "dimensions output_channels sig_depth num_heads num_layers ffn_hidden_dim dropout_rate learning_rate             \n",
       "15         8               4         6         1          (256, 256)     0.1          0.0001         0.446037   \n",
       "                                                                                      0.0005         0.539227   \n",
       "                                                                                      0.0010         0.539942   \n",
       "                                                                         0.2          0.0001         0.459631   \n",
       "                                                                                      0.0005         0.530308   \n",
       "                                                                                      0.0010         0.536573   \n",
       "                                                          (512, 512)     0.1          0.0001         0.476553   \n",
       "                                                                                      0.0005         0.535731   \n",
       "                                                                                      0.0010         0.530594   \n",
       "                                                                         0.2          0.0001         0.478821   \n",
       "                                                                                      0.0005         0.534201   \n",
       "                                                                                      0.0010         0.530222   \n",
       "           12              3         10        1          (256, 256)     0.1          0.0001         0.459400   \n",
       "                                                                                      0.0005         0.530110   \n",
       "                                                                                      0.0010         0.534146   \n",
       "                                                                         0.2          0.0001         0.456954   \n",
       "                                                                                      0.0005         0.526733   \n",
       "                                                                                      0.0010         0.535999   \n",
       "                                                          (512, 512)     0.1          0.0001         0.478297   \n",
       "                                                                                      0.0005         0.532577   \n",
       "                                                                                      0.0010         0.531678   \n",
       "                                                                         0.2          0.0001         0.480992   \n",
       "                                                                                      0.0005         0.525543   \n",
       "                                                                                      0.0010         0.523731   \n",
       "\n",
       "                                                                                                     valid_accuracy  \\\n",
       "dimensions output_channels sig_depth num_heads num_layers ffn_hidden_dim dropout_rate learning_rate                   \n",
       "15         8               4         6         1          (256, 256)     0.1          0.0001               0.666453   \n",
       "                                                                                      0.0005               0.660993   \n",
       "                                                                                      0.0010               0.660726   \n",
       "                                                                         0.2          0.0001               0.669022   \n",
       "                                                                                      0.0005               0.658264   \n",
       "                                                                                      0.0010               0.654785   \n",
       "                                                          (512, 512)     0.1          0.0001               0.676568   \n",
       "                                                                                      0.0005               0.659655   \n",
       "                                                                                      0.0010               0.664472   \n",
       "                                                                         0.2          0.0001               0.669289   \n",
       "                                                                                      0.0005               0.664633   \n",
       "                                                                                      0.0010               0.662064   \n",
       "           12              3         10        1          (256, 256)     0.1          0.0001               0.672715   \n",
       "                                                                                      0.0005               0.666774   \n",
       "                                                                                      0.0010               0.663937   \n",
       "                                                                         0.2          0.0001               0.674320   \n",
       "                                                                                      0.0005               0.669129   \n",
       "                                                                                      0.0010               0.667523   \n",
       "                                                          (512, 512)     0.1          0.0001               0.677478   \n",
       "                                                                                      0.0005               0.661314   \n",
       "                                                                                      0.0010               0.659923   \n",
       "                                                                         0.2          0.0001               0.678870   \n",
       "                                                                                      0.0005               0.662278   \n",
       "                                                                                      0.0010               0.666399   \n",
       "\n",
       "                                                                                                     valid_f1  \\\n",
       "dimensions output_channels sig_depth num_heads num_layers ffn_hidden_dim dropout_rate learning_rate             \n",
       "15         8               4         6         1          (256, 256)     0.1          0.0001         0.552459   \n",
       "                                                                                      0.0005         0.560001   \n",
       "                                                                                      0.0010         0.554257   \n",
       "                                                                         0.2          0.0001         0.554524   \n",
       "                                                                                      0.0005         0.557771   \n",
       "                                                                                      0.0010         0.555781   \n",
       "                                                          (512, 512)     0.1          0.0001         0.569205   \n",
       "                                                                                      0.0005         0.559380   \n",
       "                                                                                      0.0010         0.558523   \n",
       "                                                                         0.2          0.0001         0.569295   \n",
       "                                                                                      0.0005         0.563543   \n",
       "                                                                                      0.0010         0.552800   \n",
       "           12              3         10        1          (256, 256)     0.1          0.0001         0.569024   \n",
       "                                                                                      0.0005         0.573679   \n",
       "                                                                                      0.0010         0.556572   \n",
       "                                                                         0.2          0.0001         0.566362   \n",
       "                                                                                      0.0005         0.573922   \n",
       "                                                                                      0.0010         0.561671   \n",
       "                                                          (512, 512)     0.1          0.0001         0.580971   \n",
       "                                                                                      0.0005         0.563421   \n",
       "                                                                                      0.0010         0.558429   \n",
       "                                                                         0.2          0.0001         0.580176   \n",
       "                                                                                      0.0005         0.566528   \n",
       "                                                                                      0.0010         0.557062   \n",
       "\n",
       "                                                                                                     valid_precision  \\\n",
       "dimensions output_channels sig_depth num_heads num_layers ffn_hidden_dim dropout_rate learning_rate                    \n",
       "15         8               4         6         1          (256, 256)     0.1          0.0001                0.558434   \n",
       "                                                                                      0.0005                0.554175   \n",
       "                                                                                      0.0010                0.551584   \n",
       "                                                                         0.2          0.0001                0.558627   \n",
       "                                                                                      0.0005                0.550263   \n",
       "                                                                                      0.0010                0.550570   \n",
       "                                                          (512, 512)     0.1          0.0001                0.569288   \n",
       "                                                                                      0.0005                0.553281   \n",
       "                                                                                      0.0010                0.555962   \n",
       "                                                                         0.2          0.0001                0.564518   \n",
       "                                                                                      0.0005                0.558432   \n",
       "                                                                                      0.0010                0.551208   \n",
       "           12              3         10        1          (256, 256)     0.1          0.0001                0.571534   \n",
       "                                                                                      0.0005                0.565215   \n",
       "                                                                                      0.0010                0.554712   \n",
       "                                                                         0.2          0.0001                0.571001   \n",
       "                                                                                      0.0005                0.566232   \n",
       "                                                                                      0.0010                0.559623   \n",
       "                                                          (512, 512)     0.1          0.0001                0.577622   \n",
       "                                                                                      0.0005                0.556633   \n",
       "                                                                                      0.0010                0.552830   \n",
       "                                                                         0.2          0.0001                0.576911   \n",
       "                                                                                      0.0005                0.558319   \n",
       "                                                                                      0.0010                0.555670   \n",
       "\n",
       "                                                                                                     valid_recall  \\\n",
       "dimensions output_channels sig_depth num_heads num_layers ffn_hidden_dim dropout_rate learning_rate                 \n",
       "15         8               4         6         1          (256, 256)     0.1          0.0001             0.550350   \n",
       "                                                                                      0.0005             0.572632   \n",
       "                                                                                      0.0010             0.567557   \n",
       "                                                                         0.2          0.0001             0.552302   \n",
       "                                                                                      0.0005             0.570238   \n",
       "                                                                                      0.0010             0.573629   \n",
       "                                                          (512, 512)     0.1          0.0001             0.570004   \n",
       "                                                                                      0.0005             0.573832   \n",
       "                                                                                      0.0010             0.569974   \n",
       "                                                                         0.2          0.0001             0.575477   \n",
       "                                                                                      0.0005             0.576441   \n",
       "                                                                                      0.0010             0.562959   \n",
       "           12              3         10        1          (256, 256)     0.1          0.0001             0.568618   \n",
       "                                                                                      0.0005             0.591935   \n",
       "                                                                                      0.0010             0.566113   \n",
       "                                                                         0.2          0.0001             0.564147   \n",
       "                                                                                      0.0005             0.589064   \n",
       "                                                                                      0.0010             0.573426   \n",
       "                                                          (512, 512)     0.1          0.0001             0.585664   \n",
       "                                                                                      0.0005             0.579309   \n",
       "                                                                                      0.0010             0.572494   \n",
       "                                                                         0.2          0.0001             0.584298   \n",
       "                                                                                      0.0005             0.581384   \n",
       "                                                                                      0.0010             0.564272   \n",
       "\n",
       "                                                                                                        k  \\\n",
       "dimensions output_channels sig_depth num_heads num_layers ffn_hidden_dim dropout_rate learning_rate         \n",
       "15         8               4         6         1          (256, 256)     0.1          0.0001         35.0   \n",
       "                                                                                      0.0005         35.0   \n",
       "                                                                                      0.0010         35.0   \n",
       "                                                                         0.2          0.0001         35.0   \n",
       "                                                                                      0.0005         35.0   \n",
       "                                                                                      0.0010         35.0   \n",
       "                                                          (512, 512)     0.1          0.0001         35.0   \n",
       "                                                                                      0.0005         35.0   \n",
       "                                                                                      0.0010         35.0   \n",
       "                                                                         0.2          0.0001         35.0   \n",
       "                                                                                      0.0005         35.0   \n",
       "                                                                                      0.0010         35.0   \n",
       "           12              3         10        1          (256, 256)     0.1          0.0001         35.0   \n",
       "                                                                                      0.0005         35.0   \n",
       "                                                                                      0.0010         35.0   \n",
       "                                                                         0.2          0.0001         35.0   \n",
       "                                                                                      0.0005         35.0   \n",
       "                                                                                      0.0010         35.0   \n",
       "                                                          (512, 512)     0.1          0.0001         35.0   \n",
       "                                                                                      0.0005         35.0   \n",
       "                                                                                      0.0010         35.0   \n",
       "                                                                         0.2          0.0001         35.0   \n",
       "                                                                                      0.0005         35.0   \n",
       "                                                                                      0.0010         35.0   \n",
       "\n",
       "                                                                                                     input_channels  \\\n",
       "dimensions output_channels sig_depth num_heads num_layers ffn_hidden_dim dropout_rate learning_rate                   \n",
       "15         8               4         6         1          (256, 256)     0.1          0.0001                   17.0   \n",
       "                                                                                      0.0005                   17.0   \n",
       "                                                                                      0.0010                   17.0   \n",
       "                                                                         0.2          0.0001                   17.0   \n",
       "                                                                                      0.0005                   17.0   \n",
       "                                                                                      0.0010                   17.0   \n",
       "                                                          (512, 512)     0.1          0.0001                   17.0   \n",
       "                                                                                      0.0005                   17.0   \n",
       "                                                                                      0.0010                   17.0   \n",
       "                                                                         0.2          0.0001                   17.0   \n",
       "                                                                                      0.0005                   17.0   \n",
       "                                                                                      0.0010                   17.0   \n",
       "           12              3         10        1          (256, 256)     0.1          0.0001                   17.0   \n",
       "                                                                                      0.0005                   17.0   \n",
       "                                                                                      0.0010                   17.0   \n",
       "                                                                         0.2          0.0001                   17.0   \n",
       "                                                                                      0.0005                   17.0   \n",
       "                                                                                      0.0010                   17.0   \n",
       "                                                          (512, 512)     0.1          0.0001                   17.0   \n",
       "                                                                                      0.0005                   17.0   \n",
       "                                                                                      0.0010                   17.0   \n",
       "                                                                         0.2          0.0001                   17.0   \n",
       "                                                                                      0.0005                   17.0   \n",
       "                                                                                      0.0010                   17.0   \n",
       "\n",
       "                                                                                                     ...  \\\n",
       "dimensions output_channels sig_depth num_heads num_layers ffn_hidden_dim dropout_rate learning_rate  ...   \n",
       "15         8               4         6         1          (256, 256)     0.1          0.0001         ...   \n",
       "                                                                                      0.0005         ...   \n",
       "                                                                                      0.0010         ...   \n",
       "                                                                         0.2          0.0001         ...   \n",
       "                                                                                      0.0005         ...   \n",
       "                                                                                      0.0010         ...   \n",
       "                                                          (512, 512)     0.1          0.0001         ...   \n",
       "                                                                                      0.0005         ...   \n",
       "                                                                                      0.0010         ...   \n",
       "                                                                         0.2          0.0001         ...   \n",
       "                                                                                      0.0005         ...   \n",
       "                                                                                      0.0010         ...   \n",
       "           12              3         10        1          (256, 256)     0.1          0.0001         ...   \n",
       "                                                                                      0.0005         ...   \n",
       "                                                                                      0.0010         ...   \n",
       "                                                                         0.2          0.0001         ...   \n",
       "                                                                                      0.0005         ...   \n",
       "                                                                                      0.0010         ...   \n",
       "                                                          (512, 512)     0.1          0.0001         ...   \n",
       "                                                                                      0.0005         ...   \n",
       "                                                                                      0.0010         ...   \n",
       "                                                                         0.2          0.0001         ...   \n",
       "                                                                                      0.0005         ...   \n",
       "                                                                                      0.0010         ...   \n",
       "\n",
       "                                                                                                     include_features_in_input  \\\n",
       "dimensions output_channels sig_depth num_heads num_layers ffn_hidden_dim dropout_rate learning_rate                              \n",
       "15         8               4         6         1          (256, 256)     0.1          0.0001                               0.0   \n",
       "                                                                                      0.0005                               0.0   \n",
       "                                                                                      0.0010                               0.0   \n",
       "                                                                         0.2          0.0001                               0.0   \n",
       "                                                                                      0.0005                               0.0   \n",
       "                                                                                      0.0010                               0.0   \n",
       "                                                          (512, 512)     0.1          0.0001                               0.0   \n",
       "                                                                                      0.0005                               0.0   \n",
       "                                                                                      0.0010                               0.0   \n",
       "                                                                         0.2          0.0001                               0.0   \n",
       "                                                                                      0.0005                               0.0   \n",
       "                                                                                      0.0010                               0.0   \n",
       "           12              3         10        1          (256, 256)     0.1          0.0001                               0.0   \n",
       "                                                                                      0.0005                               0.0   \n",
       "                                                                                      0.0010                               0.0   \n",
       "                                                                         0.2          0.0001                               0.0   \n",
       "                                                                                      0.0005                               0.0   \n",
       "                                                                                      0.0010                               0.0   \n",
       "                                                          (512, 512)     0.1          0.0001                               0.0   \n",
       "                                                                                      0.0005                               0.0   \n",
       "                                                                                      0.0010                               0.0   \n",
       "                                                                         0.2          0.0001                               0.0   \n",
       "                                                                                      0.0005                               0.0   \n",
       "                                                                                      0.0010                               0.0   \n",
       "\n",
       "                                                                                                     embedding_dim  \\\n",
       "dimensions output_channels sig_depth num_heads num_layers ffn_hidden_dim dropout_rate learning_rate                  \n",
       "15         8               4         6         1          (256, 256)     0.1          0.0001                 384.0   \n",
       "                                                                                      0.0005                 384.0   \n",
       "                                                                                      0.0010                 384.0   \n",
       "                                                                         0.2          0.0001                 384.0   \n",
       "                                                                                      0.0005                 384.0   \n",
       "                                                                                      0.0010                 384.0   \n",
       "                                                          (512, 512)     0.1          0.0001                 384.0   \n",
       "                                                                                      0.0005                 384.0   \n",
       "                                                                                      0.0010                 384.0   \n",
       "                                                                         0.2          0.0001                 384.0   \n",
       "                                                                                      0.0005                 384.0   \n",
       "                                                                                      0.0010                 384.0   \n",
       "           12              3         10        1          (256, 256)     0.1          0.0001                 384.0   \n",
       "                                                                                      0.0005                 384.0   \n",
       "                                                                                      0.0010                 384.0   \n",
       "                                                                         0.2          0.0001                 384.0   \n",
       "                                                                                      0.0005                 384.0   \n",
       "                                                                                      0.0010                 384.0   \n",
       "                                                          (512, 512)     0.1          0.0001                 384.0   \n",
       "                                                                                      0.0005                 384.0   \n",
       "                                                                                      0.0010                 384.0   \n",
       "                                                                         0.2          0.0001                 384.0   \n",
       "                                                                                      0.0005                 384.0   \n",
       "                                                                                      0.0010                 384.0   \n",
       "\n",
       "                                                                                                     num_features  \\\n",
       "dimensions output_channels sig_depth num_heads num_layers ffn_hidden_dim dropout_rate learning_rate                 \n",
       "15         8               4         6         1          (256, 256)     0.1          0.0001                  0.0   \n",
       "                                                                                      0.0005                  0.0   \n",
       "                                                                                      0.0010                  0.0   \n",
       "                                                                         0.2          0.0001                  0.0   \n",
       "                                                                                      0.0005                  0.0   \n",
       "                                                                                      0.0010                  0.0   \n",
       "                                                          (512, 512)     0.1          0.0001                  0.0   \n",
       "                                                                                      0.0005                  0.0   \n",
       "                                                                                      0.0010                  0.0   \n",
       "                                                                         0.2          0.0001                  0.0   \n",
       "                                                                                      0.0005                  0.0   \n",
       "                                                                                      0.0010                  0.0   \n",
       "           12              3         10        1          (256, 256)     0.1          0.0001                  0.0   \n",
       "                                                                                      0.0005                  0.0   \n",
       "                                                                                      0.0010                  0.0   \n",
       "                                                                         0.2          0.0001                  0.0   \n",
       "                                                                                      0.0005                  0.0   \n",
       "                                                                                      0.0010                  0.0   \n",
       "                                                          (512, 512)     0.1          0.0001                  0.0   \n",
       "                                                                                      0.0005                  0.0   \n",
       "                                                                                      0.0010                  0.0   \n",
       "                                                                         0.2          0.0001                  0.0   \n",
       "                                                                                      0.0005                  0.0   \n",
       "                                                                                      0.0010                  0.0   \n",
       "\n",
       "                                                                                                     log_signature  \\\n",
       "dimensions output_channels sig_depth num_heads num_layers ffn_hidden_dim dropout_rate learning_rate                  \n",
       "15         8               4         6         1          (256, 256)     0.1          0.0001                   1.0   \n",
       "                                                                                      0.0005                   1.0   \n",
       "                                                                                      0.0010                   1.0   \n",
       "                                                                         0.2          0.0001                   1.0   \n",
       "                                                                                      0.0005                   1.0   \n",
       "                                                                                      0.0010                   1.0   \n",
       "                                                          (512, 512)     0.1          0.0001                   1.0   \n",
       "                                                                                      0.0005                   1.0   \n",
       "                                                                                      0.0010                   1.0   \n",
       "                                                                         0.2          0.0001                   1.0   \n",
       "                                                                                      0.0005                   1.0   \n",
       "                                                                                      0.0010                   1.0   \n",
       "           12              3         10        1          (256, 256)     0.1          0.0001                   1.0   \n",
       "                                                                                      0.0005                   1.0   \n",
       "                                                                                      0.0010                   1.0   \n",
       "                                                                         0.2          0.0001                   1.0   \n",
       "                                                                                      0.0005                   1.0   \n",
       "                                                                                      0.0010                   1.0   \n",
       "                                                          (512, 512)     0.1          0.0001                   1.0   \n",
       "                                                                                      0.0005                   1.0   \n",
       "                                                                                      0.0010                   1.0   \n",
       "                                                                         0.2          0.0001                   1.0   \n",
       "                                                                                      0.0005                   1.0   \n",
       "                                                                                      0.0010                   1.0   \n",
       "\n",
       "                                                                                                          seed  \\\n",
       "dimensions output_channels sig_depth num_heads num_layers ffn_hidden_dim dropout_rate learning_rate              \n",
       "15         8               4         6         1          (256, 256)     0.1          0.0001         45.333333   \n",
       "                                                                                      0.0005         45.333333   \n",
       "                                                                                      0.0010         45.333333   \n",
       "                                                                         0.2          0.0001         45.333333   \n",
       "                                                                                      0.0005         45.333333   \n",
       "                                                                                      0.0010         45.333333   \n",
       "                                                          (512, 512)     0.1          0.0001         45.333333   \n",
       "                                                                                      0.0005         45.333333   \n",
       "                                                                                      0.0010         45.333333   \n",
       "                                                                         0.2          0.0001         45.333333   \n",
       "                                                                                      0.0005         45.333333   \n",
       "                                                                                      0.0010         45.333333   \n",
       "           12              3         10        1          (256, 256)     0.1          0.0001         45.333333   \n",
       "                                                                                      0.0005         45.333333   \n",
       "                                                                                      0.0010         45.333333   \n",
       "                                                                         0.2          0.0001         45.333333   \n",
       "                                                                                      0.0005         45.333333   \n",
       "                                                                                      0.0010         45.333333   \n",
       "                                                          (512, 512)     0.1          0.0001         45.333333   \n",
       "                                                                                      0.0005         45.333333   \n",
       "                                                                                      0.0010         45.333333   \n",
       "                                                                         0.2          0.0001         45.333333   \n",
       "                                                                                      0.0005         45.333333   \n",
       "                                                                                      0.0010         45.333333   \n",
       "\n",
       "                                                                                                     gamma  \\\n",
       "dimensions output_channels sig_depth num_heads num_layers ffn_hidden_dim dropout_rate learning_rate          \n",
       "15         8               4         6         1          (256, 256)     0.1          0.0001           2.0   \n",
       "                                                                                      0.0005           2.0   \n",
       "                                                                                      0.0010           2.0   \n",
       "                                                                         0.2          0.0001           2.0   \n",
       "                                                                                      0.0005           2.0   \n",
       "                                                                                      0.0010           2.0   \n",
       "                                                          (512, 512)     0.1          0.0001           2.0   \n",
       "                                                                                      0.0005           2.0   \n",
       "                                                                                      0.0010           2.0   \n",
       "                                                                         0.2          0.0001           2.0   \n",
       "                                                                                      0.0005           2.0   \n",
       "                                                                                      0.0010           2.0   \n",
       "           12              3         10        1          (256, 256)     0.1          0.0001           2.0   \n",
       "                                                                                      0.0005           2.0   \n",
       "                                                                                      0.0010           2.0   \n",
       "                                                                         0.2          0.0001           2.0   \n",
       "                                                                                      0.0005           2.0   \n",
       "                                                                                      0.0010           2.0   \n",
       "                                                          (512, 512)     0.1          0.0001           2.0   \n",
       "                                                                                      0.0005           2.0   \n",
       "                                                                                      0.0010           2.0   \n",
       "                                                                         0.2          0.0001           2.0   \n",
       "                                                                                      0.0005           2.0   \n",
       "                                                                                      0.0010           2.0   \n",
       "\n",
       "                                                                                                     k_fold  \\\n",
       "dimensions output_channels sig_depth num_heads num_layers ffn_hidden_dim dropout_rate learning_rate           \n",
       "15         8               4         6         1          (256, 256)     0.1          0.0001            1.0   \n",
       "                                                                                      0.0005            1.0   \n",
       "                                                                                      0.0010            1.0   \n",
       "                                                                         0.2          0.0001            1.0   \n",
       "                                                                                      0.0005            1.0   \n",
       "                                                                                      0.0010            1.0   \n",
       "                                                          (512, 512)     0.1          0.0001            1.0   \n",
       "                                                                                      0.0005            1.0   \n",
       "                                                                                      0.0010            1.0   \n",
       "                                                                         0.2          0.0001            1.0   \n",
       "                                                                                      0.0005            1.0   \n",
       "                                                                                      0.0010            1.0   \n",
       "           12              3         10        1          (256, 256)     0.1          0.0001            1.0   \n",
       "                                                                                      0.0005            1.0   \n",
       "                                                                                      0.0010            1.0   \n",
       "                                                                         0.2          0.0001            1.0   \n",
       "                                                                                      0.0005            1.0   \n",
       "                                                                                      0.0010            1.0   \n",
       "                                                          (512, 512)     0.1          0.0001            1.0   \n",
       "                                                                                      0.0005            1.0   \n",
       "                                                                                      0.0010            1.0   \n",
       "                                                                         0.2          0.0001            1.0   \n",
       "                                                                                      0.0005            1.0   \n",
       "                                                                                      0.0010            1.0   \n",
       "\n",
       "                                                                                                     n_splits  \\\n",
       "dimensions output_channels sig_depth num_heads num_layers ffn_hidden_dim dropout_rate learning_rate             \n",
       "15         8               4         6         1          (256, 256)     0.1          0.0001              5.0   \n",
       "                                                                                      0.0005              5.0   \n",
       "                                                                                      0.0010              5.0   \n",
       "                                                                         0.2          0.0001              5.0   \n",
       "                                                                                      0.0005              5.0   \n",
       "                                                                                      0.0010              5.0   \n",
       "                                                          (512, 512)     0.1          0.0001              5.0   \n",
       "                                                                                      0.0005              5.0   \n",
       "                                                                                      0.0010              5.0   \n",
       "                                                                         0.2          0.0001              5.0   \n",
       "                                                                                      0.0005              5.0   \n",
       "                                                                                      0.0010              5.0   \n",
       "           12              3         10        1          (256, 256)     0.1          0.0001              5.0   \n",
       "                                                                                      0.0005              5.0   \n",
       "                                                                                      0.0010              5.0   \n",
       "                                                                         0.2          0.0001              5.0   \n",
       "                                                                                      0.0005              5.0   \n",
       "                                                                                      0.0010              5.0   \n",
       "                                                          (512, 512)     0.1          0.0001              5.0   \n",
       "                                                                                      0.0005              5.0   \n",
       "                                                                                      0.0010              5.0   \n",
       "                                                                         0.2          0.0001              5.0   \n",
       "                                                                                      0.0005              5.0   \n",
       "                                                                                      0.0010              5.0   \n",
       "\n",
       "                                                                                                     batch_size  \\\n",
       "dimensions output_channels sig_depth num_heads num_layers ffn_hidden_dim dropout_rate learning_rate               \n",
       "15         8               4         6         1          (256, 256)     0.1          0.0001               64.0   \n",
       "                                                                                      0.0005               64.0   \n",
       "                                                                                      0.0010               64.0   \n",
       "                                                                         0.2          0.0001               64.0   \n",
       "                                                                                      0.0005               64.0   \n",
       "                                                                                      0.0010               64.0   \n",
       "                                                          (512, 512)     0.1          0.0001               64.0   \n",
       "                                                                                      0.0005               64.0   \n",
       "                                                                                      0.0010               64.0   \n",
       "                                                                         0.2          0.0001               64.0   \n",
       "                                                                                      0.0005               64.0   \n",
       "                                                                                      0.0010               64.0   \n",
       "           12              3         10        1          (256, 256)     0.1          0.0001               64.0   \n",
       "                                                                                      0.0005               64.0   \n",
       "                                                                                      0.0010               64.0   \n",
       "                                                                         0.2          0.0001               64.0   \n",
       "                                                                                      0.0005               64.0   \n",
       "                                                                                      0.0010               64.0   \n",
       "                                                          (512, 512)     0.1          0.0001               64.0   \n",
       "                                                                                      0.0005               64.0   \n",
       "                                                                                      0.0010               64.0   \n",
       "                                                                         0.2          0.0001               64.0   \n",
       "                                                                                      0.0005               64.0   \n",
       "                                                                                      0.0010               64.0   \n",
       "\n",
       "                                                                                                     model_id  \n",
       "dimensions output_channels sig_depth num_heads num_layers ffn_hidden_dim dropout_rate learning_rate            \n",
       "15         8               4         6         1          (256, 256)     0.1          0.0001             13.0  \n",
       "                                                                                      0.0005             14.0  \n",
       "                                                                                      0.0010             12.0  \n",
       "                                                                         0.2          0.0001             16.0  \n",
       "                                                                                      0.0005             17.0  \n",
       "                                                                                      0.0010             15.0  \n",
       "                                                          (512, 512)     0.1          0.0001             19.0  \n",
       "                                                                                      0.0005             20.0  \n",
       "                                                                                      0.0010             18.0  \n",
       "                                                                         0.2          0.0001             22.0  \n",
       "                                                                                      0.0005             23.0  \n",
       "                                                                                      0.0010             21.0  \n",
       "           12              3         10        1          (256, 256)     0.1          0.0001              1.0  \n",
       "                                                                                      0.0005              2.0  \n",
       "                                                                                      0.0010              0.0  \n",
       "                                                                         0.2          0.0001              4.0  \n",
       "                                                                                      0.0005              5.0  \n",
       "                                                                                      0.0010              3.0  \n",
       "                                                          (512, 512)     0.1          0.0001              7.0  \n",
       "                                                                                      0.0005              8.0  \n",
       "                                                                                      0.0010              6.0  \n",
       "                                                                         0.2          0.0001             10.0  \n",
       "                                                                                      0.0005             11.0  \n",
       "                                                                                      0.0010              9.0  \n",
       "\n",
       "[24 rows x 21 columns]"
      ]
     },
     "execution_count": 79,
     "metadata": {},
     "output_type": "execute_result"
    }
   ],
   "source": [
    "swmhau_network_grp_kfold_35.groupby(\n",
    "    [\n",
    "        \"dimensions\",\n",
    "        \"output_channels\",\n",
    "        \"sig_depth\",\n",
    "        \"num_heads\",\n",
    "        \"num_layers\",\n",
    "        \"ffn_hidden_dim\",\n",
    "        \"dropout_rate\",\n",
    "        \"learning_rate\",\n",
    "    ]\n",
    ").mean()"
   ]
  },
  {
   "cell_type": "code",
   "execution_count": 80,
   "id": "8241866e-398e-45c6-913b-7cd44690a52d",
   "metadata": {},
   "outputs": [
    {
     "data": {
      "text/html": [
       "<div>\n",
       "<style scoped>\n",
       "    .dataframe tbody tr th:only-of-type {\n",
       "        vertical-align: middle;\n",
       "    }\n",
       "\n",
       "    .dataframe tbody tr th {\n",
       "        vertical-align: top;\n",
       "    }\n",
       "\n",
       "    .dataframe thead th {\n",
       "        text-align: right;\n",
       "    }\n",
       "</style>\n",
       "<table border=\"1\" class=\"dataframe\">\n",
       "  <thead>\n",
       "    <tr style=\"text-align: right;\">\n",
       "      <th></th>\n",
       "      <th>loss</th>\n",
       "      <th>accuracy</th>\n",
       "      <th>f1</th>\n",
       "      <th>f1_scores</th>\n",
       "      <th>precision</th>\n",
       "      <th>precision_scores</th>\n",
       "      <th>recall</th>\n",
       "      <th>recall_scores</th>\n",
       "      <th>valid_loss</th>\n",
       "      <th>valid_accuracy</th>\n",
       "      <th>...</th>\n",
       "      <th>learning_rate</th>\n",
       "      <th>seed</th>\n",
       "      <th>loss_function</th>\n",
       "      <th>gamma</th>\n",
       "      <th>k_fold</th>\n",
       "      <th>n_splits</th>\n",
       "      <th>augmentation_type</th>\n",
       "      <th>hidden_dim_aug</th>\n",
       "      <th>comb_method</th>\n",
       "      <th>batch_size</th>\n",
       "    </tr>\n",
       "  </thead>\n",
       "  <tbody>\n",
       "    <tr>\n",
       "      <th>0</th>\n",
       "      <td>None</td>\n",
       "      <td>0.591379</td>\n",
       "      <td>0.466577</td>\n",
       "      <td>[0.7259013425856087, 0.3855243722304284, 0.288...</td>\n",
       "      <td>0.465068</td>\n",
       "      <td>[0.7587511825922422, 0.34893048128342247, 0.28...</td>\n",
       "      <td>0.471854</td>\n",
       "      <td>[0.6957779063042221, 0.4306930693069307, 0.289...</td>\n",
       "      <td>None</td>\n",
       "      <td>0.677906</td>\n",
       "      <td>...</td>\n",
       "      <td>0.0001</td>\n",
       "      <td>1</td>\n",
       "      <td>focal</td>\n",
       "      <td>2</td>\n",
       "      <td>True</td>\n",
       "      <td>5</td>\n",
       "      <td>Conv1d</td>\n",
       "      <td>None</td>\n",
       "      <td>concatenation</td>\n",
       "      <td>64</td>\n",
       "    </tr>\n",
       "    <tr>\n",
       "      <th>0</th>\n",
       "      <td>None</td>\n",
       "      <td>0.612644</td>\n",
       "      <td>0.467092</td>\n",
       "      <td>[0.7468224981738496, 0.3958171959721146, 0.258...</td>\n",
       "      <td>0.470193</td>\n",
       "      <td>[0.7546501328609388, 0.372992700729927, 0.2829...</td>\n",
       "      <td>0.466318</td>\n",
       "      <td>[0.7391555812608445, 0.42161716171617164, 0.23...</td>\n",
       "      <td>None</td>\n",
       "      <td>0.672929</td>\n",
       "      <td>...</td>\n",
       "      <td>0.0001</td>\n",
       "      <td>12</td>\n",
       "      <td>focal</td>\n",
       "      <td>2</td>\n",
       "      <td>True</td>\n",
       "      <td>5</td>\n",
       "      <td>Conv1d</td>\n",
       "      <td>None</td>\n",
       "      <td>concatenation</td>\n",
       "      <td>64</td>\n",
       "    </tr>\n",
       "    <tr>\n",
       "      <th>0</th>\n",
       "      <td>None</td>\n",
       "      <td>0.623563</td>\n",
       "      <td>0.492072</td>\n",
       "      <td>[0.7555687555687556, 0.4196670538133953, 0.300...</td>\n",
       "      <td>0.488943</td>\n",
       "      <td>[0.7765567765567766, 0.3953318745441284, 0.294...</td>\n",
       "      <td>0.496718</td>\n",
       "      <td>[0.7356853672643147, 0.4471947194719472, 0.307...</td>\n",
       "      <td>None</td>\n",
       "      <td>0.681599</td>\n",
       "      <td>...</td>\n",
       "      <td>0.0001</td>\n",
       "      <td>123</td>\n",
       "      <td>focal</td>\n",
       "      <td>2</td>\n",
       "      <td>True</td>\n",
       "      <td>5</td>\n",
       "      <td>Conv1d</td>\n",
       "      <td>None</td>\n",
       "      <td>concatenation</td>\n",
       "      <td>64</td>\n",
       "    </tr>\n",
       "  </tbody>\n",
       "</table>\n",
       "<p>3 rows × 43 columns</p>\n",
       "</div>"
      ],
      "text/plain": [
       "   loss  accuracy        f1  \\\n",
       "0  None  0.591379  0.466577   \n",
       "0  None  0.612644  0.467092   \n",
       "0  None  0.623563  0.492072   \n",
       "\n",
       "                                           f1_scores  precision  \\\n",
       "0  [0.7259013425856087, 0.3855243722304284, 0.288...   0.465068   \n",
       "0  [0.7468224981738496, 0.3958171959721146, 0.258...   0.470193   \n",
       "0  [0.7555687555687556, 0.4196670538133953, 0.300...   0.488943   \n",
       "\n",
       "                                    precision_scores    recall  \\\n",
       "0  [0.7587511825922422, 0.34893048128342247, 0.28...  0.471854   \n",
       "0  [0.7546501328609388, 0.372992700729927, 0.2829...  0.466318   \n",
       "0  [0.7765567765567766, 0.3953318745441284, 0.294...  0.496718   \n",
       "\n",
       "                                       recall_scores valid_loss  \\\n",
       "0  [0.6957779063042221, 0.4306930693069307, 0.289...       None   \n",
       "0  [0.7391555812608445, 0.42161716171617164, 0.23...       None   \n",
       "0  [0.7356853672643147, 0.4471947194719472, 0.307...       None   \n",
       "\n",
       "   valid_accuracy  ...  learning_rate seed  loss_function gamma  k_fold  \\\n",
       "0        0.677906  ...         0.0001    1          focal     2    True   \n",
       "0        0.672929  ...         0.0001   12          focal     2    True   \n",
       "0        0.681599  ...         0.0001  123          focal     2    True   \n",
       "\n",
       "  n_splits  augmentation_type  hidden_dim_aug    comb_method batch_size  \n",
       "0        5             Conv1d            None  concatenation         64  \n",
       "0        5             Conv1d            None  concatenation         64  \n",
       "0        5             Conv1d            None  concatenation         64  \n",
       "\n",
       "[3 rows x 43 columns]"
      ]
     },
     "execution_count": 80,
     "metadata": {},
     "output_type": "execute_result"
    }
   ],
   "source": [
    "best_swmhau_network_grp_kfold_35"
   ]
  },
  {
   "cell_type": "code",
   "execution_count": 81,
   "id": "3f4be056-6bbf-40c0-86d5-ea9ab5f65aa3",
   "metadata": {},
   "outputs": [
    {
     "data": {
      "text/plain": [
       "0.4752470078906279"
      ]
     },
     "execution_count": 81,
     "metadata": {},
     "output_type": "execute_result"
    }
   ],
   "source": [
    "best_swmhau_network_grp_kfold_35[\"f1\"].mean()"
   ]
  },
  {
   "cell_type": "code",
   "execution_count": 82,
   "id": "a4fa98a7-ad6a-4923-a350-3c9d884fef7b",
   "metadata": {},
   "outputs": [
    {
     "data": {
      "text/plain": [
       "0.474734670614678"
      ]
     },
     "execution_count": 82,
     "metadata": {},
     "output_type": "execute_result"
    }
   ],
   "source": [
    "best_swmhau_network_grp_kfold_35[\"precision\"].mean()"
   ]
  },
  {
   "cell_type": "code",
   "execution_count": 83,
   "id": "db757488-e4e7-4e4c-b1dc-467ca8516202",
   "metadata": {},
   "outputs": [
    {
     "data": {
      "text/plain": [
       "0.4782965844299873"
      ]
     },
     "execution_count": 83,
     "metadata": {},
     "output_type": "execute_result"
    }
   ],
   "source": [
    "best_swmhau_network_grp_kfold_35[\"recall\"].mean()"
   ]
  },
  {
   "cell_type": "code",
   "execution_count": 84,
   "id": "078f25af-2abc-46a0-ad62-9761703c0540",
   "metadata": {},
   "outputs": [
    {
     "data": {
      "text/plain": [
       "array([0.7427642 , 0.40033621, 0.28264062])"
      ]
     },
     "execution_count": 84,
     "metadata": {},
     "output_type": "execute_result"
    }
   ],
   "source": [
    "np.stack(best_swmhau_network_grp_kfold_35[\"f1_scores\"]).mean(axis=0)"
   ]
  },
  {
   "cell_type": "code",
   "execution_count": 85,
   "id": "832dd0d2-2f11-420d-8347-ee388e3c4ddc",
   "metadata": {},
   "outputs": [
    {
     "data": {
      "text/plain": [
       "array([0.76331936, 0.37241835, 0.2884663 ])"
      ]
     },
     "execution_count": 85,
     "metadata": {},
     "output_type": "execute_result"
    }
   ],
   "source": [
    "np.stack(best_swmhau_network_grp_kfold_35[\"precision_scores\"]).mean(axis=0)"
   ]
  },
  {
   "cell_type": "code",
   "execution_count": 86,
   "id": "6a95b9e6-0ad3-4739-a1da-305d582a609f",
   "metadata": {},
   "outputs": [
    {
     "data": {
      "text/plain": [
       "array([0.72353962, 0.43316832, 0.27818182])"
      ]
     },
     "execution_count": 86,
     "metadata": {},
     "output_type": "execute_result"
    }
   ],
   "source": [
    "np.stack(best_swmhau_network_grp_kfold_35[\"recall_scores\"]).mean(axis=0)"
   ]
  },
  {
   "cell_type": "markdown",
   "id": "4d238a9a-412d-4636-bed8-4f4177f0b7a2",
   "metadata": {
    "tags": []
   },
   "source": [
    "# w=80"
   ]
  },
  {
   "cell_type": "code",
   "execution_count": 87,
   "id": "17f54364-89a4-4523-be6e-0e8360d3e6a8",
   "metadata": {},
   "outputs": [],
   "source": [
    "size = 80"
   ]
  },
  {
   "cell_type": "markdown",
   "id": "448e429e-1ff6-4956-8480-036c5fae2cb7",
   "metadata": {},
   "source": [
    "## UMAP"
   ]
  },
  {
   "cell_type": "code",
   "execution_count": null,
   "id": "a46b182f-9c46-4d3d-acac-4bb81ccf416d",
   "metadata": {},
   "outputs": [],
   "source": [
    "(\n",
    "    swmhau_network_umap_kfold_80,\n",
    "    best_swmhau_network_umap_kfold_80,\n",
    "    _,\n",
    "    __,\n",
    ") = swmhau_network_hyperparameter_search(\n",
    "    history_lengths=[size],\n",
    "    dim_reduce_methods=[\"umap\"],\n",
    "    results_output=f\"{output_dir}/swmhau_network_umap_focal_{gamma}_{size}_kfold.csv\",\n",
    "    **kwargs,\n",
    ")"
   ]
  },
  {
   "cell_type": "code",
   "execution_count": null,
   "id": "eeb92e56-5c5d-426e-9614-0633d7398a9a",
   "metadata": {},
   "outputs": [],
   "source": [
    "swmhau_network_umap_kfold_80.groupby(\n",
    "    [\n",
    "        \"dimensions\",\n",
    "        \"output_channels\",\n",
    "        \"sig_depth\",\n",
    "        \"num_heads\",\n",
    "        \"num_layers\",\n",
    "        \"ffn_hidden_dim\",\n",
    "        \"learning_rate\",\n",
    "    ]\n",
    ").mean()"
   ]
  },
  {
   "cell_type": "code",
   "execution_count": null,
   "id": "2393a351-f28d-4438-875f-9975da059478",
   "metadata": {},
   "outputs": [],
   "source": [
    "best_swmhau_network_umap_kfold_80"
   ]
  },
  {
   "cell_type": "code",
   "execution_count": null,
   "id": "c7abb269-4251-4026-9d4f-5c8aa9e9d58a",
   "metadata": {},
   "outputs": [],
   "source": [
    "best_swmhau_network_umap_kfold_80[\"f1\"].mean()"
   ]
  },
  {
   "cell_type": "code",
   "execution_count": null,
   "id": "dde91ba9-fb52-4474-8216-1a11d1ef07a8",
   "metadata": {},
   "outputs": [],
   "source": [
    "best_swmhau_network_umap_kfold_80[\"precision\"].mean()"
   ]
  },
  {
   "cell_type": "code",
   "execution_count": null,
   "id": "c9fab9c4-7cd8-4b24-9b81-f9c6357176de",
   "metadata": {},
   "outputs": [],
   "source": [
    "best_swmhau_network_umap_kfold_80[\"recall\"].mean()"
   ]
  },
  {
   "cell_type": "code",
   "execution_count": null,
   "id": "53973272-ef5c-485f-a1b1-118d5ce758aa",
   "metadata": {},
   "outputs": [],
   "source": [
    "np.stack(best_swmhau_network_umap_kfold_80[\"f1_scores\"]).mean(axis=0)"
   ]
  },
  {
   "cell_type": "code",
   "execution_count": null,
   "id": "b38f4ad3-a8f1-46af-b803-11f74fe97d0a",
   "metadata": {},
   "outputs": [],
   "source": [
    "np.stack(best_swmhau_network_umap_kfold_80[\"precision_scores\"]).mean(axis=0)"
   ]
  },
  {
   "cell_type": "code",
   "execution_count": null,
   "id": "5191459a-d20a-492d-b9c7-4ae139973105",
   "metadata": {},
   "outputs": [],
   "source": [
    "np.stack(best_swmhau_network_umap_kfold_80[\"recall_scores\"]).mean(axis=0)"
   ]
  },
  {
   "cell_type": "markdown",
   "id": "d03ebc14-9626-4de9-927a-c03c694b48b0",
   "metadata": {},
   "source": [
    "## Random Projections"
   ]
  },
  {
   "cell_type": "code",
   "execution_count": null,
   "id": "8f347b9b-9b03-4943-92cf-60a4efdd3aae",
   "metadata": {},
   "outputs": [],
   "source": [
    "(\n",
    "    swmhau_network_grp_kfold_80,\n",
    "    best_swmhau_network_grp_kfold_80,\n",
    "    _,\n",
    "    __,\n",
    ") = swmhau_network_hyperparameter_search(\n",
    "    history_lengths=[size],\n",
    "    dim_reduce_methods=[\"gaussian_random_projection\"],\n",
    "    results_output=f\"{output_dir}/swmhau_network_grp_focal_{gamma}_{size}_kfold.csv\",\n",
    "    **kwargs,\n",
    ")"
   ]
  },
  {
   "cell_type": "code",
   "execution_count": null,
   "id": "4fb2809b-c9eb-4d8e-a93c-f735ffa86d4a",
   "metadata": {},
   "outputs": [],
   "source": [
    "swmhau_network_grp_kfold_80.groupby(\n",
    "    [\n",
    "        \"dimensions\",\n",
    "        \"output_channels\",\n",
    "        \"sig_depth\",\n",
    "        \"num_heads\",\n",
    "        \"num_layers\",\n",
    "        \"ffn_hidden_dim\",\n",
    "        \"dropout_rate\",\n",
    "        \"learning_rate\",\n",
    "    ]\n",
    ").mean()"
   ]
  },
  {
   "cell_type": "code",
   "execution_count": null,
   "id": "67b21286-a4a6-4f85-a60d-e49d231a695b",
   "metadata": {},
   "outputs": [],
   "source": [
    "best_swmhau_network_grp_kfold_80"
   ]
  },
  {
   "cell_type": "code",
   "execution_count": null,
   "id": "4bf343c9-e5cf-4f57-ac94-2bbb2e289805",
   "metadata": {},
   "outputs": [],
   "source": [
    "best_swmhau_network_grp_kfold_80[\"f1\"].mean()"
   ]
  },
  {
   "cell_type": "code",
   "execution_count": null,
   "id": "dbdac3b6-2e84-4678-9aac-f6e84401dd09",
   "metadata": {},
   "outputs": [],
   "source": [
    "best_swmhau_network_grp_kfold_80[\"precision\"].mean()"
   ]
  },
  {
   "cell_type": "code",
   "execution_count": null,
   "id": "b88902fb-9937-47ef-b203-c08ce3dbe330",
   "metadata": {},
   "outputs": [],
   "source": [
    "best_swmhau_network_grp_kfold_80[\"recall\"].mean()"
   ]
  },
  {
   "cell_type": "code",
   "execution_count": null,
   "id": "6b436604-993a-46f8-82a0-2271f38f90e1",
   "metadata": {},
   "outputs": [],
   "source": [
    "np.stack(best_swmhau_network_grp_kfold_80[\"f1_scores\"]).mean(axis=0)"
   ]
  },
  {
   "cell_type": "code",
   "execution_count": null,
   "id": "7ec6bbfa-03d9-4bb5-8c70-b5226b645644",
   "metadata": {},
   "outputs": [],
   "source": [
    "np.stack(best_swmhau_network_grp_kfold_80[\"precision_scores\"]).mean(axis=0)"
   ]
  },
  {
   "cell_type": "code",
   "execution_count": null,
   "id": "441f60aa-bf0a-46d6-8dda-95da5ce5bcd4",
   "metadata": {},
   "outputs": [],
   "source": [
    "np.stack(best_swmhau_network_grp_kfold_80[\"recall_scores\"]).mean(axis=0)"
   ]
  },
  {
   "cell_type": "markdown",
   "id": "75e20aba-f768-4d35-9180-e5598257b23e",
   "metadata": {},
   "source": [
    "## w=110"
   ]
  },
  {
   "cell_type": "code",
   "execution_count": null,
   "id": "083a9f80-ca4a-469e-96c4-746063c6ee68",
   "metadata": {},
   "outputs": [],
   "source": [
    "size = 110"
   ]
  },
  {
   "cell_type": "markdown",
   "id": "2572fdae-a5f0-4efd-9e59-c1f6b8615481",
   "metadata": {},
   "source": [
    "## UMAP"
   ]
  },
  {
   "cell_type": "code",
   "execution_count": null,
   "id": "0847ca2d-1bc1-4612-bee3-3ee8ba7ca87b",
   "metadata": {},
   "outputs": [],
   "source": [
    "(\n",
    "    swmhau_network_umap_kfold_110,\n",
    "    best_swmhau_network_umap_kfold_110,\n",
    "    _,\n",
    "    __,\n",
    ") = swmhau_network_hyperparameter_search(\n",
    "    history_lengths=[size],\n",
    "    dim_reduce_methods=[\"umap\"],\n",
    "    results_output=f\"{output_dir}/swmhau_network_umap_focal_{gamma}_{size}_kfold.csv\",\n",
    "    **kwargs,\n",
    ")"
   ]
  },
  {
   "cell_type": "code",
   "execution_count": null,
   "id": "4cdba92e-a991-4026-8349-6380ae55ed96",
   "metadata": {},
   "outputs": [],
   "source": [
    "swmhau_network_umap_kfold_110.groupby(\n",
    "    [\n",
    "        \"dimensions\",\n",
    "        \"output_channels\",\n",
    "        \"sig_depth\",\n",
    "        \"num_heads\",\n",
    "        \"num_layers\",\n",
    "        \"ffn_hidden_dim\",\n",
    "        \"learning_rate\",\n",
    "    ]\n",
    ").mean()"
   ]
  },
  {
   "cell_type": "code",
   "execution_count": null,
   "id": "f5f3b64b-e0da-4f49-a3dd-75c77efd6ed3",
   "metadata": {},
   "outputs": [],
   "source": [
    "best_swmhau_network_umap_kfold_110"
   ]
  },
  {
   "cell_type": "code",
   "execution_count": null,
   "id": "5ac399b4-8083-48f0-80e0-bd0151fb38eb",
   "metadata": {},
   "outputs": [],
   "source": [
    "best_swmhau_network_umap_kfold_110[\"f1\"].mean()"
   ]
  },
  {
   "cell_type": "code",
   "execution_count": null,
   "id": "b86f18c0-eb2f-48df-9b2c-6617f4596660",
   "metadata": {},
   "outputs": [],
   "source": [
    "best_swmhau_network_umap_kfold_110[\"precision\"].mean()"
   ]
  },
  {
   "cell_type": "code",
   "execution_count": null,
   "id": "e76274d2-2297-4de0-8bfa-a5b127b5d7a2",
   "metadata": {},
   "outputs": [],
   "source": [
    "best_swmhau_network_umap_kfold_110[\"recall\"].mean()"
   ]
  },
  {
   "cell_type": "code",
   "execution_count": null,
   "id": "eebf5385-b1b5-46ee-b400-609b7d972e32",
   "metadata": {},
   "outputs": [],
   "source": [
    "np.stack(best_swmhau_network_umap_kfold_110[\"f1_scores\"]).mean(axis=0)"
   ]
  },
  {
   "cell_type": "code",
   "execution_count": null,
   "id": "a17d79f3-1129-4274-826d-f341d45ca97a",
   "metadata": {},
   "outputs": [],
   "source": [
    "np.stack(best_swmhau_network_umap_kfold_110[\"precision_scores\"]).mean(axis=0)"
   ]
  },
  {
   "cell_type": "code",
   "execution_count": null,
   "id": "daf21267-0d65-4bc3-be0a-a9126750ac9e",
   "metadata": {},
   "outputs": [],
   "source": [
    "np.stack(best_swmhau_network_umap_kfold_110[\"recall_scores\"]).mean(axis=0)"
   ]
  },
  {
   "cell_type": "markdown",
   "id": "b084b3ff-a738-4742-a72b-33a794e418a3",
   "metadata": {},
   "source": [
    "## Random Projections"
   ]
  },
  {
   "cell_type": "code",
   "execution_count": null,
   "id": "1b364409-d905-4857-99cb-ed06a451fca1",
   "metadata": {},
   "outputs": [],
   "source": [
    "(\n",
    "    swmhau_network_grp_kfold_110,\n",
    "    best_swmhau_network_grp_kfold_110,\n",
    "    _,\n",
    "    __,\n",
    ") = swmhau_network_hyperparameter_search(\n",
    "    history_lengths=[size],\n",
    "    dim_reduce_methods=[\"gaussian_random_projection\"],\n",
    "    results_output=f\"{output_dir}/swmhau_network_grp_focal_{gamma}_{size}_kfold.csv\",\n",
    "    **kwargs,\n",
    ")"
   ]
  },
  {
   "cell_type": "code",
   "execution_count": null,
   "id": "2b3b4cb3-de13-4f0a-8bfd-049a043d648b",
   "metadata": {},
   "outputs": [],
   "source": [
    "swmhau_network_grp_kfold_110.groupby(\n",
    "    [\n",
    "        \"dimensions\",\n",
    "        \"output_channels\",\n",
    "        \"sig_depth\",\n",
    "        \"num_heads\",\n",
    "        \"num_layers\",\n",
    "        \"ffn_hidden_dim\",\n",
    "        \"dropout_rate\",\n",
    "        \"learning_rate\",\n",
    "    ]\n",
    ").mean()"
   ]
  },
  {
   "cell_type": "code",
   "execution_count": null,
   "id": "0c15deb9-587b-42e7-9661-42e07f752ee3",
   "metadata": {},
   "outputs": [],
   "source": [
    "best_swmhau_network_grp_kfold_110"
   ]
  },
  {
   "cell_type": "code",
   "execution_count": null,
   "id": "fb268cd9-db43-4b7e-9b68-b64149a740a7",
   "metadata": {},
   "outputs": [],
   "source": [
    "best_swmhau_network_grp_kfold_110[\"f1\"].mean()"
   ]
  },
  {
   "cell_type": "code",
   "execution_count": null,
   "id": "c060aae5-1b21-43c2-8444-5f16a16434af",
   "metadata": {},
   "outputs": [],
   "source": [
    "best_swmhau_network_grp_kfold_110[\"precision\"].mean()"
   ]
  },
  {
   "cell_type": "code",
   "execution_count": null,
   "id": "6d37a972-5fca-417d-9b38-bdf6f2890662",
   "metadata": {},
   "outputs": [],
   "source": [
    "best_swmhau_network_grp_kfold_110[\"recall\"].mean()"
   ]
  },
  {
   "cell_type": "code",
   "execution_count": null,
   "id": "52429a92-dc35-4b93-aaa8-72e8d51c6646",
   "metadata": {},
   "outputs": [],
   "source": [
    "np.stack(best_swmhau_network_grp_kfold_110[\"f1_scores\"]).mean(axis=0)"
   ]
  },
  {
   "cell_type": "code",
   "execution_count": null,
   "id": "bae002d6-3194-4253-8336-19283bee3f65",
   "metadata": {},
   "outputs": [],
   "source": [
    "np.stack(best_swmhau_network_grp_kfold_110[\"precision_scores\"]).mean(axis=0)"
   ]
  },
  {
   "cell_type": "code",
   "execution_count": null,
   "id": "33a6abc5-e339-4b83-923d-6e033397694b",
   "metadata": {},
   "outputs": [],
   "source": [
    "np.stack(best_swmhau_network_grp_kfold_110[\"recall_scores\"]).mean(axis=0)"
   ]
  }
 ],
 "metadata": {
  "kernelspec": {
   "display_name": "nlpsig-networks (Conda)",
   "language": "python",
   "name": "sys_nlpsig-networks"
  },
  "language_info": {
   "codemirror_mode": {
    "name": "ipython",
    "version": 3
   },
   "file_extension": ".py",
   "mimetype": "text/x-python",
   "name": "python",
   "nbconvert_exporter": "python",
   "pygments_lexer": "ipython3",
   "version": "3.8.17"
  }
 },
 "nbformat": 4,
 "nbformat_minor": 5
}
