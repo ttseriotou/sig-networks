{
 "cells": [
  {
   "cell_type": "code",
   "execution_count": 1,
   "id": "a983a5e8",
   "metadata": {},
   "outputs": [],
   "source": [
    "import numpy as np\n",
    "import pickle\n",
    "import os\n",
    "from tqdm.notebook import tqdm\n",
    "\n",
    "seed = 2023"
   ]
  },
  {
   "cell_type": "code",
   "execution_count": 2,
   "id": "90c6b0be-804e-4176-bf0b-8ccf2298b3c3",
   "metadata": {},
   "outputs": [
    {
     "data": {
      "text/plain": [
       "device(type='cuda')"
      ]
     },
     "execution_count": 2,
     "metadata": {},
     "output_type": "execute_result"
    }
   ],
   "source": [
    "import torch\n",
    "\n",
    "# set device\n",
    "device = torch.device(\"cuda\" if torch.cuda.is_available() else \"cpu\")\n",
    "device"
   ]
  },
  {
   "cell_type": "code",
   "execution_count": 3,
   "id": "e4e666cc",
   "metadata": {},
   "outputs": [],
   "source": [
    "from nlpsig_networks.scripts.swmhau_network_functions import (\n",
    "    swmhau_network_hyperparameter_search,\n",
    ")"
   ]
  },
  {
   "cell_type": "code",
   "execution_count": 4,
   "id": "6e918dde",
   "metadata": {},
   "outputs": [],
   "source": [
    "output_dir = \"client_talk_type_output\"\n",
    "if not os.path.isdir(output_dir):\n",
    "    os.makedirs(output_dir)"
   ]
  },
  {
   "cell_type": "markdown",
   "id": "f7409a03",
   "metadata": {},
   "source": [
    "## AnnoMI"
   ]
  },
  {
   "cell_type": "code",
   "execution_count": 5,
   "id": "f00bb922",
   "metadata": {},
   "outputs": [],
   "source": [
    "%run ../load_anno_mi.py"
   ]
  },
  {
   "cell_type": "code",
   "execution_count": 6,
   "id": "720d820f",
   "metadata": {},
   "outputs": [
    {
     "data": {
      "text/html": [
       "<div>\n",
       "<style scoped>\n",
       "    .dataframe tbody tr th:only-of-type {\n",
       "        vertical-align: middle;\n",
       "    }\n",
       "\n",
       "    .dataframe tbody tr th {\n",
       "        vertical-align: top;\n",
       "    }\n",
       "\n",
       "    .dataframe thead th {\n",
       "        text-align: right;\n",
       "    }\n",
       "</style>\n",
       "<table border=\"1\" class=\"dataframe\">\n",
       "  <thead>\n",
       "    <tr style=\"text-align: right;\">\n",
       "      <th></th>\n",
       "      <th>mi_quality</th>\n",
       "      <th>transcript_id</th>\n",
       "      <th>topic</th>\n",
       "      <th>utterance_id</th>\n",
       "      <th>interlocutor</th>\n",
       "      <th>timestamp</th>\n",
       "      <th>utterance_text</th>\n",
       "      <th>annotator_id</th>\n",
       "      <th>therapist_input_exists</th>\n",
       "      <th>therapist_input_subtype</th>\n",
       "      <th>reflection_exists</th>\n",
       "      <th>reflection_subtype</th>\n",
       "      <th>question_exists</th>\n",
       "      <th>question_subtype</th>\n",
       "      <th>main_therapist_behaviour</th>\n",
       "      <th>client_talk_type</th>\n",
       "      <th>datetime</th>\n",
       "      <th>speaker</th>\n",
       "    </tr>\n",
       "  </thead>\n",
       "  <tbody>\n",
       "    <tr>\n",
       "      <th>0</th>\n",
       "      <td>high</td>\n",
       "      <td>0</td>\n",
       "      <td>reducing alcohol consumption</td>\n",
       "      <td>0</td>\n",
       "      <td>therapist</td>\n",
       "      <td>00:00:13</td>\n",
       "      <td>Thanks for filling it out. We give this form t...</td>\n",
       "      <td>3</td>\n",
       "      <td>False</td>\n",
       "      <td>NaN</td>\n",
       "      <td>False</td>\n",
       "      <td>NaN</td>\n",
       "      <td>True</td>\n",
       "      <td>open</td>\n",
       "      <td>question</td>\n",
       "      <td>NaN</td>\n",
       "      <td>2023-11-02 00:00:13</td>\n",
       "      <td>-1</td>\n",
       "    </tr>\n",
       "    <tr>\n",
       "      <th>1</th>\n",
       "      <td>high</td>\n",
       "      <td>0</td>\n",
       "      <td>reducing alcohol consumption</td>\n",
       "      <td>1</td>\n",
       "      <td>client</td>\n",
       "      <td>00:00:24</td>\n",
       "      <td>Sure.</td>\n",
       "      <td>3</td>\n",
       "      <td>NaN</td>\n",
       "      <td>NaN</td>\n",
       "      <td>NaN</td>\n",
       "      <td>NaN</td>\n",
       "      <td>NaN</td>\n",
       "      <td>NaN</td>\n",
       "      <td>NaN</td>\n",
       "      <td>neutral</td>\n",
       "      <td>2023-11-02 00:00:24</td>\n",
       "      <td>1</td>\n",
       "    </tr>\n",
       "    <tr>\n",
       "      <th>2</th>\n",
       "      <td>high</td>\n",
       "      <td>0</td>\n",
       "      <td>reducing alcohol consumption</td>\n",
       "      <td>2</td>\n",
       "      <td>therapist</td>\n",
       "      <td>00:00:25</td>\n",
       "      <td>So, let's see. It looks that you put-- You dri...</td>\n",
       "      <td>3</td>\n",
       "      <td>True</td>\n",
       "      <td>information</td>\n",
       "      <td>False</td>\n",
       "      <td>NaN</td>\n",
       "      <td>False</td>\n",
       "      <td>NaN</td>\n",
       "      <td>therapist_input</td>\n",
       "      <td>NaN</td>\n",
       "      <td>2023-11-02 00:00:25</td>\n",
       "      <td>-1</td>\n",
       "    </tr>\n",
       "    <tr>\n",
       "      <th>3</th>\n",
       "      <td>high</td>\n",
       "      <td>0</td>\n",
       "      <td>reducing alcohol consumption</td>\n",
       "      <td>3</td>\n",
       "      <td>client</td>\n",
       "      <td>00:00:34</td>\n",
       "      <td>Mm-hmm.</td>\n",
       "      <td>3</td>\n",
       "      <td>NaN</td>\n",
       "      <td>NaN</td>\n",
       "      <td>NaN</td>\n",
       "      <td>NaN</td>\n",
       "      <td>NaN</td>\n",
       "      <td>NaN</td>\n",
       "      <td>NaN</td>\n",
       "      <td>neutral</td>\n",
       "      <td>2023-11-02 00:00:34</td>\n",
       "      <td>1</td>\n",
       "    </tr>\n",
       "    <tr>\n",
       "      <th>4</th>\n",
       "      <td>high</td>\n",
       "      <td>0</td>\n",
       "      <td>reducing alcohol consumption</td>\n",
       "      <td>4</td>\n",
       "      <td>therapist</td>\n",
       "      <td>00:00:34</td>\n",
       "      <td>-and you usually have three to four drinks whe...</td>\n",
       "      <td>3</td>\n",
       "      <td>True</td>\n",
       "      <td>information</td>\n",
       "      <td>False</td>\n",
       "      <td>NaN</td>\n",
       "      <td>False</td>\n",
       "      <td>NaN</td>\n",
       "      <td>therapist_input</td>\n",
       "      <td>NaN</td>\n",
       "      <td>2023-11-02 00:00:34</td>\n",
       "      <td>-1</td>\n",
       "    </tr>\n",
       "  </tbody>\n",
       "</table>\n",
       "</div>"
      ],
      "text/plain": [
       "  mi_quality  transcript_id                         topic  utterance_id  \\\n",
       "0       high              0  reducing alcohol consumption             0   \n",
       "1       high              0  reducing alcohol consumption             1   \n",
       "2       high              0  reducing alcohol consumption             2   \n",
       "3       high              0  reducing alcohol consumption             3   \n",
       "4       high              0  reducing alcohol consumption             4   \n",
       "\n",
       "  interlocutor timestamp                                     utterance_text  \\\n",
       "0    therapist  00:00:13  Thanks for filling it out. We give this form t...   \n",
       "1       client  00:00:24                                              Sure.   \n",
       "2    therapist  00:00:25  So, let's see. It looks that you put-- You dri...   \n",
       "3       client  00:00:34                                            Mm-hmm.   \n",
       "4    therapist  00:00:34  -and you usually have three to four drinks whe...   \n",
       "\n",
       "   annotator_id therapist_input_exists therapist_input_subtype  \\\n",
       "0             3                  False                     NaN   \n",
       "1             3                    NaN                     NaN   \n",
       "2             3                   True             information   \n",
       "3             3                    NaN                     NaN   \n",
       "4             3                   True             information   \n",
       "\n",
       "  reflection_exists reflection_subtype question_exists question_subtype  \\\n",
       "0             False                NaN            True             open   \n",
       "1               NaN                NaN             NaN              NaN   \n",
       "2             False                NaN           False              NaN   \n",
       "3               NaN                NaN             NaN              NaN   \n",
       "4             False                NaN           False              NaN   \n",
       "\n",
       "  main_therapist_behaviour client_talk_type            datetime  speaker  \n",
       "0                 question              NaN 2023-11-02 00:00:13       -1  \n",
       "1                      NaN          neutral 2023-11-02 00:00:24        1  \n",
       "2          therapist_input              NaN 2023-11-02 00:00:25       -1  \n",
       "3                      NaN          neutral 2023-11-02 00:00:34        1  \n",
       "4          therapist_input              NaN 2023-11-02 00:00:34       -1  "
      ]
     },
     "execution_count": 6,
     "metadata": {},
     "output_type": "execute_result"
    }
   ],
   "source": [
    "anno_mi.head()"
   ]
  },
  {
   "cell_type": "code",
   "execution_count": 7,
   "id": "84d5594d",
   "metadata": {},
   "outputs": [
    {
     "data": {
      "text/plain": [
       "(9699, 384)"
      ]
     },
     "execution_count": 7,
     "metadata": {},
     "output_type": "execute_result"
    }
   ],
   "source": [
    "with open(\"../anno_mi_sbert.pkl\", \"rb\") as f:\n",
    "    sbert_embeddings = pickle.load(f)\n",
    "\n",
    "sbert_embeddings.shape"
   ]
  },
  {
   "cell_type": "markdown",
   "id": "da4ff92d",
   "metadata": {},
   "source": [
    "# swmhau Network"
   ]
  },
  {
   "cell_type": "markdown",
   "id": "32ae1a72",
   "metadata": {},
   "source": [
    "## Obtaining path by looking at post history\n",
    "\n",
    "We can obtain a path by looking at the history of each post. Here we look at the last 10 posts (and pad with vectors of zeros if there are less than 10 posts) including the current post.\n",
    "\n",
    "We only want to consider paths that correspond to a client's utterance as we want to model a change in mood at that time. Their history will still contain the therapist's utterances too."
   ]
  },
  {
   "cell_type": "code",
   "execution_count": 8,
   "id": "90bfd87c",
   "metadata": {},
   "outputs": [],
   "source": [
    "features = [\"time_encoding\", \"timeline_index\"]\n",
    "standardise_method = [\"z_score\", None]\n",
    "include_features_in_path = True\n",
    "include_features_in_input = True"
   ]
  },
  {
   "cell_type": "code",
   "execution_count": 9,
   "id": "9e9bee3b",
   "metadata": {},
   "outputs": [],
   "source": [
    "num_epochs = 100\n",
    "dimensions = [15]\n",
    "# define swmhau parameters: (output_channels, sig_depth, num_heads)\n",
    "swmhau_parameters = [(12, 3, 10), (8, 4, 6)]\n",
    "num_layers = [1]\n",
    "ffn_hidden_dim_sizes = [[256, 256], [512, 512]]\n",
    "dropout_rates = [0.1, 0.2]\n",
    "learning_rates = [1e-3, 1e-4, 5e-4]\n",
    "seeds = [1, 12, 123]\n",
    "loss = \"focal\"\n",
    "gamma = 2\n",
    "validation_metric = \"f1\"\n",
    "patience = 5"
   ]
  },
  {
   "cell_type": "code",
   "execution_count": 10,
   "id": "e7bfd9fe",
   "metadata": {},
   "outputs": [],
   "source": [
    "kwargs = {\n",
    "    \"num_epochs\": num_epochs,\n",
    "    \"df\": anno_mi,\n",
    "    \"id_column\": \"transcript_id\",\n",
    "    \"label_column\": \"client_talk_type\",\n",
    "    \"embeddings\": sbert_embeddings,\n",
    "    \"y_data\": y_data_client,\n",
    "    \"output_dim\": output_dim_client,\n",
    "    \"dimensions\": dimensions,\n",
    "    \"log_signature\": True,\n",
    "    \"pooling\": \"signature\",\n",
    "    \"swmhau_parameters\": swmhau_parameters,\n",
    "    \"num_layers\": num_layers,\n",
    "    \"ffn_hidden_dim_sizes\": ffn_hidden_dim_sizes,\n",
    "    \"dropout_rates\": dropout_rates,\n",
    "    \"learning_rates\": learning_rates,\n",
    "    \"seeds\": seeds,\n",
    "    \"loss\": loss,\n",
    "    \"gamma\": gamma,\n",
    "    \"device\": device,\n",
    "    \"features\": features,\n",
    "    \"standardise_method\": standardise_method,\n",
    "    \"include_features_in_path\": include_features_in_path,\n",
    "    \"include_features_in_input\": include_features_in_input,\n",
    "    \"path_indices\": client_index,\n",
    "    \"split_ids\": client_transcript_id,\n",
    "    \"k_fold\": True,\n",
    "    \"patience\": patience,\n",
    "    \"validation_metric\": validation_metric,\n",
    "    \"verbose\": False,\n",
    "}"
   ]
  },
  {
   "cell_type": "markdown",
   "id": "60b17594-c534-4167-b9ab-f22610eb24fd",
   "metadata": {
    "tags": []
   },
   "source": [
    "# w=5"
   ]
  },
  {
   "cell_type": "code",
   "execution_count": 11,
   "id": "335bebc1-a48e-4551-ba19-d5a86e9a8779",
   "metadata": {},
   "outputs": [],
   "source": [
    "size = 5"
   ]
  },
  {
   "cell_type": "markdown",
   "id": "f0787150-8266-48ee-97f5-5f711ce899c7",
   "metadata": {},
   "source": [
    "## Random Projections"
   ]
  },
  {
   "cell_type": "code",
   "execution_count": 12,
   "id": "13a67a66",
   "metadata": {},
   "outputs": [
    {
     "data": {
      "application/vnd.jupyter.widget-view+json": {
       "model_id": "d68f83add8694fa4977fc09f60ede29d",
       "version_major": 2,
       "version_minor": 0
      },
      "text/plain": [
       "  0%|          | 0/1 [00:00<?, ?it/s]"
      ]
     },
     "metadata": {},
     "output_type": "display_data"
    },
    {
     "data": {
      "application/vnd.jupyter.widget-view+json": {
       "model_id": "486a4f7613f44273b2124003687ad619",
       "version_major": 2,
       "version_minor": 0
      },
      "text/plain": [
       "  0%|          | 0/1 [00:00<?, ?it/s]"
      ]
     },
     "metadata": {},
     "output_type": "display_data"
    },
    {
     "data": {
      "application/vnd.jupyter.widget-view+json": {
       "model_id": "16b91eb95ffc441dba1a04bf89f13b9e",
       "version_major": 2,
       "version_minor": 0
      },
      "text/plain": [
       "  0%|          | 0/1 [00:00<?, ?it/s]"
      ]
     },
     "metadata": {},
     "output_type": "display_data"
    },
    {
     "name": "stdout",
     "output_type": "stream",
     "text": [
      "\n",
      "##################################################\n",
      "dimension: 15 | method: gaussian_random_projection\n",
      "[INFO] Concatenating the embeddings to the dataframe...\n",
      "[INFO] - columns beginning with 'e' denote the full embddings.\n",
      "[INFO] - columns beginning with 'd' denote the dimension reduced embeddings.\n",
      "[INFO] Adding time feature columns into dataframe in `.df`.\n",
      "[INFO] Adding 'time_encoding' feature...\n",
      "[INFO] Adding 'time_diff' feature...\n",
      "[INFO] Adding 'timeline_index' feature...\n",
      "[INFO] Padding ids and storing in `.df_padded` and `.array_padded` attributes.\n"
     ]
    },
    {
     "data": {
      "application/vnd.jupyter.widget-view+json": {
       "model_id": "e41e53d4a0584f438099cae9ed8d8d9f",
       "version_major": 2,
       "version_minor": 0
      },
      "text/plain": [
       "  0%|          | 0/9699 [00:00<?, ?it/s]"
      ]
     },
     "metadata": {},
     "output_type": "display_data"
    },
    {
     "name": "stdout",
     "output_type": "stream",
     "text": [
      "[INFO] The path was created for each item in the dataframe, by looking at its history, so to include embeddings in the FFN input, we concatenate the embeddings for each sentence / text.\n"
     ]
    },
    {
     "data": {
      "application/vnd.jupyter.widget-view+json": {
       "model_id": "782531708d1f4df8bf21e00bc89c01e8",
       "version_major": 2,
       "version_minor": 0
      },
      "text/plain": [
       "  0%|          | 0/2 [00:00<?, ?it/s]"
      ]
     },
     "metadata": {},
     "output_type": "display_data"
    },
    {
     "data": {
      "application/vnd.jupyter.widget-view+json": {
       "model_id": "eb77a9371ec34d0c96a591a2650b4839",
       "version_major": 2,
       "version_minor": 0
      },
      "text/plain": [
       "  0%|          | 0/1 [00:00<?, ?it/s]"
      ]
     },
     "metadata": {},
     "output_type": "display_data"
    },
    {
     "data": {
      "application/vnd.jupyter.widget-view+json": {
       "model_id": "2784d9631491419b945bcf5755736c25",
       "version_major": 2,
       "version_minor": 0
      },
      "text/plain": [
       "  0%|          | 0/2 [00:00<?, ?it/s]"
      ]
     },
     "metadata": {},
     "output_type": "display_data"
    },
    {
     "data": {
      "application/vnd.jupyter.widget-view+json": {
       "model_id": "bb2b10553bcb4f939df1f5e97656b16a",
       "version_major": 2,
       "version_minor": 0
      },
      "text/plain": [
       "  0%|          | 0/2 [00:00<?, ?it/s]"
      ]
     },
     "metadata": {},
     "output_type": "display_data"
    },
    {
     "data": {
      "application/vnd.jupyter.widget-view+json": {
       "model_id": "cc451b71f5b64f2885a9412012786553",
       "version_major": 2,
       "version_minor": 0
      },
      "text/plain": [
       "  0%|          | 0/3 [00:00<?, ?it/s]"
      ]
     },
     "metadata": {},
     "output_type": "display_data"
    },
    {
     "data": {
      "application/vnd.jupyter.widget-view+json": {
       "model_id": "a0d16dd800c241758842b840e33feb3c",
       "version_major": 2,
       "version_minor": 0
      },
      "text/plain": [
       "  0%|          | 0/3 [00:00<?, ?it/s]"
      ]
     },
     "metadata": {},
     "output_type": "display_data"
    },
    {
     "data": {
      "application/vnd.jupyter.widget-view+json": {
       "model_id": "9f8dd2fc08c64d47a662b6977f7e9b5a",
       "version_major": 2,
       "version_minor": 0
      },
      "text/plain": [
       "  0%|          | 0/2 [00:00<?, ?it/s]"
      ]
     },
     "metadata": {},
     "output_type": "display_data"
    },
    {
     "data": {
      "application/vnd.jupyter.widget-view+json": {
       "model_id": "3928e862eb2d4bcfb4e94d7c8e3215c0",
       "version_major": 2,
       "version_minor": 0
      },
      "text/plain": [
       "  0%|          | 0/3 [00:00<?, ?it/s]"
      ]
     },
     "metadata": {},
     "output_type": "display_data"
    },
    {
     "data": {
      "application/vnd.jupyter.widget-view+json": {
       "model_id": "7066b1e22dc644c5a0d736e6f15f9712",
       "version_major": 2,
       "version_minor": 0
      },
      "text/plain": [
       "  0%|          | 0/3 [00:00<?, ?it/s]"
      ]
     },
     "metadata": {},
     "output_type": "display_data"
    },
    {
     "data": {
      "application/vnd.jupyter.widget-view+json": {
       "model_id": "ac52485174e04c558058a07cfb687c9a",
       "version_major": 2,
       "version_minor": 0
      },
      "text/plain": [
       "  0%|          | 0/1 [00:00<?, ?it/s]"
      ]
     },
     "metadata": {},
     "output_type": "display_data"
    },
    {
     "data": {
      "application/vnd.jupyter.widget-view+json": {
       "model_id": "81c69115775e4771b4a7a54136013720",
       "version_major": 2,
       "version_minor": 0
      },
      "text/plain": [
       "  0%|          | 0/2 [00:00<?, ?it/s]"
      ]
     },
     "metadata": {},
     "output_type": "display_data"
    },
    {
     "data": {
      "application/vnd.jupyter.widget-view+json": {
       "model_id": "f61d37e0d6194ba5b472636629d30db6",
       "version_major": 2,
       "version_minor": 0
      },
      "text/plain": [
       "  0%|          | 0/2 [00:00<?, ?it/s]"
      ]
     },
     "metadata": {},
     "output_type": "display_data"
    },
    {
     "data": {
      "application/vnd.jupyter.widget-view+json": {
       "model_id": "6701c11126134be1a71ee902cc14285b",
       "version_major": 2,
       "version_minor": 0
      },
      "text/plain": [
       "  0%|          | 0/3 [00:00<?, ?it/s]"
      ]
     },
     "metadata": {},
     "output_type": "display_data"
    },
    {
     "data": {
      "application/vnd.jupyter.widget-view+json": {
       "model_id": "f34c4a46f37b4d4cad0409effad96438",
       "version_major": 2,
       "version_minor": 0
      },
      "text/plain": [
       "  0%|          | 0/3 [00:00<?, ?it/s]"
      ]
     },
     "metadata": {},
     "output_type": "display_data"
    },
    {
     "data": {
      "application/vnd.jupyter.widget-view+json": {
       "model_id": "edff6f34691349a18b355ca43132c211",
       "version_major": 2,
       "version_minor": 0
      },
      "text/plain": [
       "  0%|          | 0/2 [00:00<?, ?it/s]"
      ]
     },
     "metadata": {},
     "output_type": "display_data"
    },
    {
     "data": {
      "application/vnd.jupyter.widget-view+json": {
       "model_id": "2fca348450144f2daea93017484cd6cd",
       "version_major": 2,
       "version_minor": 0
      },
      "text/plain": [
       "  0%|          | 0/3 [00:00<?, ?it/s]"
      ]
     },
     "metadata": {},
     "output_type": "display_data"
    },
    {
     "data": {
      "application/vnd.jupyter.widget-view+json": {
       "model_id": "b66a4b0fd51e4063b1955892b8acbd39",
       "version_major": 2,
       "version_minor": 0
      },
      "text/plain": [
       "  0%|          | 0/3 [00:00<?, ?it/s]"
      ]
     },
     "metadata": {},
     "output_type": "display_data"
    },
    {
     "name": "stdout",
     "output_type": "stream",
     "text": [
      "[INFO] Concatenating the embeddings to the dataframe...\n",
      "[INFO] - columns beginning with 'e' denote the full embddings.\n",
      "[INFO] - columns beginning with 'd' denote the dimension reduced embeddings.\n",
      "[INFO] Adding time feature columns into dataframe in `.df`.\n",
      "[INFO] Adding 'time_encoding' feature...\n",
      "[INFO] Adding 'time_diff' feature...\n",
      "[INFO] Adding 'timeline_index' feature...\n",
      "[INFO] Padding ids and storing in `.df_padded` and `.array_padded` attributes.\n"
     ]
    },
    {
     "data": {
      "application/vnd.jupyter.widget-view+json": {
       "model_id": "aa2291f833b64b1ea47496a72463e666",
       "version_major": 2,
       "version_minor": 0
      },
      "text/plain": [
       "  0%|          | 0/9699 [00:00<?, ?it/s]"
      ]
     },
     "metadata": {},
     "output_type": "display_data"
    },
    {
     "name": "stdout",
     "output_type": "stream",
     "text": [
      "[INFO] The path was created for each item in the dataframe, by looking at its history, so to include embeddings in the FFN input, we concatenate the embeddings for each sentence / text.\n",
      "saving results dataframe to CSV for this hyperparameter search in client_talk_type_output/swmhau_network_grp_focal_2_5_kfold.csv\n",
      "saving the best model results dataframe to CSV for this hyperparameter search in client_talk_type_output/swmhau_network_grp_focal_2_5_kfold_best_model.csv\n"
     ]
    }
   ],
   "source": [
    "(\n",
    "    swmhau_network_grp_kfold_5,\n",
    "    best_swmhau_network_grp_kfold_5,\n",
    "    _,\n",
    "    __,\n",
    ") = swmhau_network_hyperparameter_search(\n",
    "    history_lengths=[size],\n",
    "    dim_reduce_methods=[\"gaussian_random_projection\"],\n",
    "    results_output=f\"{output_dir}/swmhau_network_grp_focal_{gamma}_{size}_kfold.csv\",\n",
    "    **kwargs,\n",
    ")"
   ]
  },
  {
   "cell_type": "code",
   "execution_count": 13,
   "id": "0ec7c660",
   "metadata": {},
   "outputs": [
    {
     "name": "stderr",
     "output_type": "stream",
     "text": [
      "/tmp/ipykernel_1815314/572217191.py:1: FutureWarning: The default value of numeric_only in DataFrameGroupBy.mean is deprecated. In a future version, numeric_only will default to False. Either specify numeric_only or select only columns which should be valid for the function.\n",
      "  swmhau_network_grp_kfold_5.groupby(\n"
     ]
    },
    {
     "data": {
      "text/html": [
       "<div>\n",
       "<style scoped>\n",
       "    .dataframe tbody tr th:only-of-type {\n",
       "        vertical-align: middle;\n",
       "    }\n",
       "\n",
       "    .dataframe tbody tr th {\n",
       "        vertical-align: top;\n",
       "    }\n",
       "\n",
       "    .dataframe thead th {\n",
       "        text-align: right;\n",
       "    }\n",
       "</style>\n",
       "<table border=\"1\" class=\"dataframe\">\n",
       "  <thead>\n",
       "    <tr style=\"text-align: right;\">\n",
       "      <th></th>\n",
       "      <th></th>\n",
       "      <th></th>\n",
       "      <th></th>\n",
       "      <th></th>\n",
       "      <th></th>\n",
       "      <th></th>\n",
       "      <th></th>\n",
       "      <th>accuracy</th>\n",
       "      <th>f1</th>\n",
       "      <th>precision</th>\n",
       "      <th>recall</th>\n",
       "      <th>valid_accuracy</th>\n",
       "      <th>valid_f1</th>\n",
       "      <th>valid_precision</th>\n",
       "      <th>valid_recall</th>\n",
       "      <th>k</th>\n",
       "      <th>input_channels</th>\n",
       "      <th>...</th>\n",
       "      <th>include_features_in_input</th>\n",
       "      <th>embedding_dim</th>\n",
       "      <th>num_features</th>\n",
       "      <th>log_signature</th>\n",
       "      <th>seed</th>\n",
       "      <th>gamma</th>\n",
       "      <th>k_fold</th>\n",
       "      <th>n_splits</th>\n",
       "      <th>batch_size</th>\n",
       "      <th>model_id</th>\n",
       "    </tr>\n",
       "    <tr>\n",
       "      <th>dimensions</th>\n",
       "      <th>output_channels</th>\n",
       "      <th>sig_depth</th>\n",
       "      <th>num_heads</th>\n",
       "      <th>num_layers</th>\n",
       "      <th>ffn_hidden_dim</th>\n",
       "      <th>dropout_rate</th>\n",
       "      <th>learning_rate</th>\n",
       "      <th></th>\n",
       "      <th></th>\n",
       "      <th></th>\n",
       "      <th></th>\n",
       "      <th></th>\n",
       "      <th></th>\n",
       "      <th></th>\n",
       "      <th></th>\n",
       "      <th></th>\n",
       "      <th></th>\n",
       "      <th></th>\n",
       "      <th></th>\n",
       "      <th></th>\n",
       "      <th></th>\n",
       "      <th></th>\n",
       "      <th></th>\n",
       "      <th></th>\n",
       "      <th></th>\n",
       "      <th></th>\n",
       "      <th></th>\n",
       "      <th></th>\n",
       "    </tr>\n",
       "  </thead>\n",
       "  <tbody>\n",
       "    <tr>\n",
       "      <th rowspan=\"24\" valign=\"top\">15</th>\n",
       "      <th rowspan=\"12\" valign=\"top\">8</th>\n",
       "      <th rowspan=\"12\" valign=\"top\">4</th>\n",
       "      <th rowspan=\"12\" valign=\"top\">6</th>\n",
       "      <th rowspan=\"12\" valign=\"top\">1</th>\n",
       "      <th rowspan=\"6\" valign=\"top\">(256, 256)</th>\n",
       "      <th rowspan=\"3\" valign=\"top\">0.1</th>\n",
       "      <th>0.0001</th>\n",
       "      <td>0.639591</td>\n",
       "      <td>0.487949</td>\n",
       "      <td>0.493511</td>\n",
       "      <td>0.484449</td>\n",
       "      <td>0.662546</td>\n",
       "      <td>0.526784</td>\n",
       "      <td>0.534557</td>\n",
       "      <td>0.521920</td>\n",
       "      <td>5.0</td>\n",
       "      <td>17.0</td>\n",
       "      <td>...</td>\n",
       "      <td>1.0</td>\n",
       "      <td>384.0</td>\n",
       "      <td>2.0</td>\n",
       "      <td>1.0</td>\n",
       "      <td>45.333333</td>\n",
       "      <td>2.0</td>\n",
       "      <td>1.0</td>\n",
       "      <td>5.0</td>\n",
       "      <td>64.0</td>\n",
       "      <td>13.0</td>\n",
       "    </tr>\n",
       "    <tr>\n",
       "      <th>0.0005</th>\n",
       "      <td>0.633844</td>\n",
       "      <td>0.516875</td>\n",
       "      <td>0.509551</td>\n",
       "      <td>0.528787</td>\n",
       "      <td>0.662653</td>\n",
       "      <td>0.557252</td>\n",
       "      <td>0.552261</td>\n",
       "      <td>0.564375</td>\n",
       "      <td>5.0</td>\n",
       "      <td>17.0</td>\n",
       "      <td>...</td>\n",
       "      <td>1.0</td>\n",
       "      <td>384.0</td>\n",
       "      <td>2.0</td>\n",
       "      <td>1.0</td>\n",
       "      <td>45.333333</td>\n",
       "      <td>2.0</td>\n",
       "      <td>1.0</td>\n",
       "      <td>5.0</td>\n",
       "      <td>64.0</td>\n",
       "      <td>14.0</td>\n",
       "    </tr>\n",
       "    <tr>\n",
       "      <th>0.0010</th>\n",
       "      <td>0.636143</td>\n",
       "      <td>0.519909</td>\n",
       "      <td>0.514326</td>\n",
       "      <td>0.529877</td>\n",
       "      <td>0.659441</td>\n",
       "      <td>0.552007</td>\n",
       "      <td>0.549603</td>\n",
       "      <td>0.557330</td>\n",
       "      <td>5.0</td>\n",
       "      <td>17.0</td>\n",
       "      <td>...</td>\n",
       "      <td>1.0</td>\n",
       "      <td>384.0</td>\n",
       "      <td>2.0</td>\n",
       "      <td>1.0</td>\n",
       "      <td>45.333333</td>\n",
       "      <td>2.0</td>\n",
       "      <td>1.0</td>\n",
       "      <td>5.0</td>\n",
       "      <td>64.0</td>\n",
       "      <td>12.0</td>\n",
       "    </tr>\n",
       "    <tr>\n",
       "      <th rowspan=\"3\" valign=\"top\">0.2</th>\n",
       "      <th>0.0001</th>\n",
       "      <td>0.638378</td>\n",
       "      <td>0.502046</td>\n",
       "      <td>0.500899</td>\n",
       "      <td>0.504344</td>\n",
       "      <td>0.660672</td>\n",
       "      <td>0.536895</td>\n",
       "      <td>0.537290</td>\n",
       "      <td>0.537349</td>\n",
       "      <td>5.0</td>\n",
       "      <td>17.0</td>\n",
       "      <td>...</td>\n",
       "      <td>1.0</td>\n",
       "      <td>384.0</td>\n",
       "      <td>2.0</td>\n",
       "      <td>1.0</td>\n",
       "      <td>45.333333</td>\n",
       "      <td>2.0</td>\n",
       "      <td>1.0</td>\n",
       "      <td>5.0</td>\n",
       "      <td>64.0</td>\n",
       "      <td>16.0</td>\n",
       "    </tr>\n",
       "    <tr>\n",
       "      <th>0.0005</th>\n",
       "      <td>0.634866</td>\n",
       "      <td>0.515103</td>\n",
       "      <td>0.509087</td>\n",
       "      <td>0.527151</td>\n",
       "      <td>0.664954</td>\n",
       "      <td>0.556988</td>\n",
       "      <td>0.553115</td>\n",
       "      <td>0.563232</td>\n",
       "      <td>5.0</td>\n",
       "      <td>17.0</td>\n",
       "      <td>...</td>\n",
       "      <td>1.0</td>\n",
       "      <td>384.0</td>\n",
       "      <td>2.0</td>\n",
       "      <td>1.0</td>\n",
       "      <td>45.333333</td>\n",
       "      <td>2.0</td>\n",
       "      <td>1.0</td>\n",
       "      <td>5.0</td>\n",
       "      <td>64.0</td>\n",
       "      <td>17.0</td>\n",
       "    </tr>\n",
       "    <tr>\n",
       "      <th>0.0010</th>\n",
       "      <td>0.628416</td>\n",
       "      <td>0.508531</td>\n",
       "      <td>0.501989</td>\n",
       "      <td>0.518660</td>\n",
       "      <td>0.661475</td>\n",
       "      <td>0.556436</td>\n",
       "      <td>0.551960</td>\n",
       "      <td>0.562757</td>\n",
       "      <td>5.0</td>\n",
       "      <td>17.0</td>\n",
       "      <td>...</td>\n",
       "      <td>1.0</td>\n",
       "      <td>384.0</td>\n",
       "      <td>2.0</td>\n",
       "      <td>1.0</td>\n",
       "      <td>45.333333</td>\n",
       "      <td>2.0</td>\n",
       "      <td>1.0</td>\n",
       "      <td>5.0</td>\n",
       "      <td>64.0</td>\n",
       "      <td>15.0</td>\n",
       "    </tr>\n",
       "    <tr>\n",
       "      <th rowspan=\"6\" valign=\"top\">(512, 512)</th>\n",
       "      <th rowspan=\"3\" valign=\"top\">0.1</th>\n",
       "      <th>0.0001</th>\n",
       "      <td>0.624968</td>\n",
       "      <td>0.495681</td>\n",
       "      <td>0.492665</td>\n",
       "      <td>0.500327</td>\n",
       "      <td>0.656230</td>\n",
       "      <td>0.532287</td>\n",
       "      <td>0.533223</td>\n",
       "      <td>0.532697</td>\n",
       "      <td>5.0</td>\n",
       "      <td>17.0</td>\n",
       "      <td>...</td>\n",
       "      <td>1.0</td>\n",
       "      <td>384.0</td>\n",
       "      <td>2.0</td>\n",
       "      <td>1.0</td>\n",
       "      <td>45.333333</td>\n",
       "      <td>2.0</td>\n",
       "      <td>1.0</td>\n",
       "      <td>5.0</td>\n",
       "      <td>64.0</td>\n",
       "      <td>19.0</td>\n",
       "    </tr>\n",
       "    <tr>\n",
       "      <th>0.0005</th>\n",
       "      <td>0.631928</td>\n",
       "      <td>0.513005</td>\n",
       "      <td>0.507524</td>\n",
       "      <td>0.528325</td>\n",
       "      <td>0.657729</td>\n",
       "      <td>0.548575</td>\n",
       "      <td>0.545736</td>\n",
       "      <td>0.554849</td>\n",
       "      <td>5.0</td>\n",
       "      <td>17.0</td>\n",
       "      <td>...</td>\n",
       "      <td>1.0</td>\n",
       "      <td>384.0</td>\n",
       "      <td>2.0</td>\n",
       "      <td>1.0</td>\n",
       "      <td>45.333333</td>\n",
       "      <td>2.0</td>\n",
       "      <td>1.0</td>\n",
       "      <td>5.0</td>\n",
       "      <td>64.0</td>\n",
       "      <td>20.0</td>\n",
       "    </tr>\n",
       "    <tr>\n",
       "      <th>0.0010</th>\n",
       "      <td>0.617816</td>\n",
       "      <td>0.503552</td>\n",
       "      <td>0.495830</td>\n",
       "      <td>0.517092</td>\n",
       "      <td>0.656123</td>\n",
       "      <td>0.552712</td>\n",
       "      <td>0.546187</td>\n",
       "      <td>0.562588</td>\n",
       "      <td>5.0</td>\n",
       "      <td>17.0</td>\n",
       "      <td>...</td>\n",
       "      <td>1.0</td>\n",
       "      <td>384.0</td>\n",
       "      <td>2.0</td>\n",
       "      <td>1.0</td>\n",
       "      <td>45.333333</td>\n",
       "      <td>2.0</td>\n",
       "      <td>1.0</td>\n",
       "      <td>5.0</td>\n",
       "      <td>64.0</td>\n",
       "      <td>18.0</td>\n",
       "    </tr>\n",
       "    <tr>\n",
       "      <th rowspan=\"3\" valign=\"top\">0.2</th>\n",
       "      <th>0.0001</th>\n",
       "      <td>0.627905</td>\n",
       "      <td>0.498160</td>\n",
       "      <td>0.493944</td>\n",
       "      <td>0.505343</td>\n",
       "      <td>0.659548</td>\n",
       "      <td>0.540827</td>\n",
       "      <td>0.539318</td>\n",
       "      <td>0.543244</td>\n",
       "      <td>5.0</td>\n",
       "      <td>17.0</td>\n",
       "      <td>...</td>\n",
       "      <td>1.0</td>\n",
       "      <td>384.0</td>\n",
       "      <td>2.0</td>\n",
       "      <td>1.0</td>\n",
       "      <td>45.333333</td>\n",
       "      <td>2.0</td>\n",
       "      <td>1.0</td>\n",
       "      <td>5.0</td>\n",
       "      <td>64.0</td>\n",
       "      <td>22.0</td>\n",
       "    </tr>\n",
       "    <tr>\n",
       "      <th>0.0005</th>\n",
       "      <td>0.642273</td>\n",
       "      <td>0.520125</td>\n",
       "      <td>0.515120</td>\n",
       "      <td>0.528747</td>\n",
       "      <td>0.664740</td>\n",
       "      <td>0.554807</td>\n",
       "      <td>0.551971</td>\n",
       "      <td>0.559197</td>\n",
       "      <td>5.0</td>\n",
       "      <td>17.0</td>\n",
       "      <td>...</td>\n",
       "      <td>1.0</td>\n",
       "      <td>384.0</td>\n",
       "      <td>2.0</td>\n",
       "      <td>1.0</td>\n",
       "      <td>45.333333</td>\n",
       "      <td>2.0</td>\n",
       "      <td>1.0</td>\n",
       "      <td>5.0</td>\n",
       "      <td>64.0</td>\n",
       "      <td>23.0</td>\n",
       "    </tr>\n",
       "    <tr>\n",
       "      <th>0.0010</th>\n",
       "      <td>0.630396</td>\n",
       "      <td>0.509024</td>\n",
       "      <td>0.505368</td>\n",
       "      <td>0.515230</td>\n",
       "      <td>0.661529</td>\n",
       "      <td>0.549209</td>\n",
       "      <td>0.548623</td>\n",
       "      <td>0.551419</td>\n",
       "      <td>5.0</td>\n",
       "      <td>17.0</td>\n",
       "      <td>...</td>\n",
       "      <td>1.0</td>\n",
       "      <td>384.0</td>\n",
       "      <td>2.0</td>\n",
       "      <td>1.0</td>\n",
       "      <td>45.333333</td>\n",
       "      <td>2.0</td>\n",
       "      <td>1.0</td>\n",
       "      <td>5.0</td>\n",
       "      <td>64.0</td>\n",
       "      <td>21.0</td>\n",
       "    </tr>\n",
       "    <tr>\n",
       "      <th rowspan=\"12\" valign=\"top\">12</th>\n",
       "      <th rowspan=\"12\" valign=\"top\">3</th>\n",
       "      <th rowspan=\"12\" valign=\"top\">10</th>\n",
       "      <th rowspan=\"12\" valign=\"top\">1</th>\n",
       "      <th rowspan=\"6\" valign=\"top\">(256, 256)</th>\n",
       "      <th rowspan=\"3\" valign=\"top\">0.1</th>\n",
       "      <th>0.0001</th>\n",
       "      <td>0.639017</td>\n",
       "      <td>0.473656</td>\n",
       "      <td>0.487958</td>\n",
       "      <td>0.468145</td>\n",
       "      <td>0.653768</td>\n",
       "      <td>0.500769</td>\n",
       "      <td>0.516888</td>\n",
       "      <td>0.494324</td>\n",
       "      <td>5.0</td>\n",
       "      <td>17.0</td>\n",
       "      <td>...</td>\n",
       "      <td>1.0</td>\n",
       "      <td>384.0</td>\n",
       "      <td>2.0</td>\n",
       "      <td>1.0</td>\n",
       "      <td>45.333333</td>\n",
       "      <td>2.0</td>\n",
       "      <td>1.0</td>\n",
       "      <td>5.0</td>\n",
       "      <td>64.0</td>\n",
       "      <td>1.0</td>\n",
       "    </tr>\n",
       "    <tr>\n",
       "      <th>0.0005</th>\n",
       "      <td>0.613857</td>\n",
       "      <td>0.504610</td>\n",
       "      <td>0.497141</td>\n",
       "      <td>0.519676</td>\n",
       "      <td>0.655052</td>\n",
       "      <td>0.552976</td>\n",
       "      <td>0.547259</td>\n",
       "      <td>0.562759</td>\n",
       "      <td>5.0</td>\n",
       "      <td>17.0</td>\n",
       "      <td>...</td>\n",
       "      <td>1.0</td>\n",
       "      <td>384.0</td>\n",
       "      <td>2.0</td>\n",
       "      <td>1.0</td>\n",
       "      <td>45.333333</td>\n",
       "      <td>2.0</td>\n",
       "      <td>1.0</td>\n",
       "      <td>5.0</td>\n",
       "      <td>64.0</td>\n",
       "      <td>2.0</td>\n",
       "    </tr>\n",
       "    <tr>\n",
       "      <th>0.0010</th>\n",
       "      <td>0.629374</td>\n",
       "      <td>0.508145</td>\n",
       "      <td>0.503880</td>\n",
       "      <td>0.517907</td>\n",
       "      <td>0.661207</td>\n",
       "      <td>0.550263</td>\n",
       "      <td>0.549151</td>\n",
       "      <td>0.554040</td>\n",
       "      <td>5.0</td>\n",
       "      <td>17.0</td>\n",
       "      <td>...</td>\n",
       "      <td>1.0</td>\n",
       "      <td>384.0</td>\n",
       "      <td>2.0</td>\n",
       "      <td>1.0</td>\n",
       "      <td>45.333333</td>\n",
       "      <td>2.0</td>\n",
       "      <td>1.0</td>\n",
       "      <td>5.0</td>\n",
       "      <td>64.0</td>\n",
       "      <td>0.0</td>\n",
       "    </tr>\n",
       "    <tr>\n",
       "      <th rowspan=\"3\" valign=\"top\">0.2</th>\n",
       "      <th>0.0001</th>\n",
       "      <td>0.624968</td>\n",
       "      <td>0.471813</td>\n",
       "      <td>0.476710</td>\n",
       "      <td>0.471063</td>\n",
       "      <td>0.654945</td>\n",
       "      <td>0.515909</td>\n",
       "      <td>0.523835</td>\n",
       "      <td>0.511352</td>\n",
       "      <td>5.0</td>\n",
       "      <td>17.0</td>\n",
       "      <td>...</td>\n",
       "      <td>1.0</td>\n",
       "      <td>384.0</td>\n",
       "      <td>2.0</td>\n",
       "      <td>1.0</td>\n",
       "      <td>45.333333</td>\n",
       "      <td>2.0</td>\n",
       "      <td>1.0</td>\n",
       "      <td>5.0</td>\n",
       "      <td>64.0</td>\n",
       "      <td>4.0</td>\n",
       "    </tr>\n",
       "    <tr>\n",
       "      <th>0.0005</th>\n",
       "      <td>0.631928</td>\n",
       "      <td>0.509182</td>\n",
       "      <td>0.504438</td>\n",
       "      <td>0.515247</td>\n",
       "      <td>0.666613</td>\n",
       "      <td>0.555543</td>\n",
       "      <td>0.553434</td>\n",
       "      <td>0.558133</td>\n",
       "      <td>5.0</td>\n",
       "      <td>17.0</td>\n",
       "      <td>...</td>\n",
       "      <td>1.0</td>\n",
       "      <td>384.0</td>\n",
       "      <td>2.0</td>\n",
       "      <td>1.0</td>\n",
       "      <td>45.333333</td>\n",
       "      <td>2.0</td>\n",
       "      <td>1.0</td>\n",
       "      <td>5.0</td>\n",
       "      <td>64.0</td>\n",
       "      <td>5.0</td>\n",
       "    </tr>\n",
       "    <tr>\n",
       "      <th>0.0010</th>\n",
       "      <td>0.622925</td>\n",
       "      <td>0.507299</td>\n",
       "      <td>0.499418</td>\n",
       "      <td>0.523155</td>\n",
       "      <td>0.657086</td>\n",
       "      <td>0.552268</td>\n",
       "      <td>0.546763</td>\n",
       "      <td>0.561374</td>\n",
       "      <td>5.0</td>\n",
       "      <td>17.0</td>\n",
       "      <td>...</td>\n",
       "      <td>1.0</td>\n",
       "      <td>384.0</td>\n",
       "      <td>2.0</td>\n",
       "      <td>1.0</td>\n",
       "      <td>45.333333</td>\n",
       "      <td>2.0</td>\n",
       "      <td>1.0</td>\n",
       "      <td>5.0</td>\n",
       "      <td>64.0</td>\n",
       "      <td>3.0</td>\n",
       "    </tr>\n",
       "    <tr>\n",
       "      <th rowspan=\"6\" valign=\"top\">(512, 512)</th>\n",
       "      <th rowspan=\"3\" valign=\"top\">0.1</th>\n",
       "      <th>0.0001</th>\n",
       "      <td>0.623435</td>\n",
       "      <td>0.483888</td>\n",
       "      <td>0.488846</td>\n",
       "      <td>0.483940</td>\n",
       "      <td>0.649807</td>\n",
       "      <td>0.512741</td>\n",
       "      <td>0.519377</td>\n",
       "      <td>0.511501</td>\n",
       "      <td>5.0</td>\n",
       "      <td>17.0</td>\n",
       "      <td>...</td>\n",
       "      <td>1.0</td>\n",
       "      <td>384.0</td>\n",
       "      <td>2.0</td>\n",
       "      <td>1.0</td>\n",
       "      <td>45.333333</td>\n",
       "      <td>2.0</td>\n",
       "      <td>1.0</td>\n",
       "      <td>5.0</td>\n",
       "      <td>64.0</td>\n",
       "      <td>7.0</td>\n",
       "    </tr>\n",
       "    <tr>\n",
       "      <th>0.0005</th>\n",
       "      <td>0.633333</td>\n",
       "      <td>0.511516</td>\n",
       "      <td>0.505315</td>\n",
       "      <td>0.521942</td>\n",
       "      <td>0.656872</td>\n",
       "      <td>0.546906</td>\n",
       "      <td>0.542954</td>\n",
       "      <td>0.552785</td>\n",
       "      <td>5.0</td>\n",
       "      <td>17.0</td>\n",
       "      <td>...</td>\n",
       "      <td>1.0</td>\n",
       "      <td>384.0</td>\n",
       "      <td>2.0</td>\n",
       "      <td>1.0</td>\n",
       "      <td>45.333333</td>\n",
       "      <td>2.0</td>\n",
       "      <td>1.0</td>\n",
       "      <td>5.0</td>\n",
       "      <td>64.0</td>\n",
       "      <td>8.0</td>\n",
       "    </tr>\n",
       "    <tr>\n",
       "      <th>0.0010</th>\n",
       "      <td>0.629438</td>\n",
       "      <td>0.513649</td>\n",
       "      <td>0.511375</td>\n",
       "      <td>0.522361</td>\n",
       "      <td>0.652912</td>\n",
       "      <td>0.544782</td>\n",
       "      <td>0.543741</td>\n",
       "      <td>0.549088</td>\n",
       "      <td>5.0</td>\n",
       "      <td>17.0</td>\n",
       "      <td>...</td>\n",
       "      <td>1.0</td>\n",
       "      <td>384.0</td>\n",
       "      <td>2.0</td>\n",
       "      <td>1.0</td>\n",
       "      <td>45.333333</td>\n",
       "      <td>2.0</td>\n",
       "      <td>1.0</td>\n",
       "      <td>5.0</td>\n",
       "      <td>64.0</td>\n",
       "      <td>6.0</td>\n",
       "    </tr>\n",
       "    <tr>\n",
       "      <th rowspan=\"3\" valign=\"top\">0.2</th>\n",
       "      <th>0.0001</th>\n",
       "      <td>0.632439</td>\n",
       "      <td>0.471955</td>\n",
       "      <td>0.482584</td>\n",
       "      <td>0.466577</td>\n",
       "      <td>0.657140</td>\n",
       "      <td>0.510997</td>\n",
       "      <td>0.523983</td>\n",
       "      <td>0.504633</td>\n",
       "      <td>5.0</td>\n",
       "      <td>17.0</td>\n",
       "      <td>...</td>\n",
       "      <td>1.0</td>\n",
       "      <td>384.0</td>\n",
       "      <td>2.0</td>\n",
       "      <td>1.0</td>\n",
       "      <td>45.333333</td>\n",
       "      <td>2.0</td>\n",
       "      <td>1.0</td>\n",
       "      <td>5.0</td>\n",
       "      <td>64.0</td>\n",
       "      <td>10.0</td>\n",
       "    </tr>\n",
       "    <tr>\n",
       "      <th>0.0005</th>\n",
       "      <td>0.634355</td>\n",
       "      <td>0.506192</td>\n",
       "      <td>0.502936</td>\n",
       "      <td>0.511445</td>\n",
       "      <td>0.664258</td>\n",
       "      <td>0.548284</td>\n",
       "      <td>0.547324</td>\n",
       "      <td>0.550411</td>\n",
       "      <td>5.0</td>\n",
       "      <td>17.0</td>\n",
       "      <td>...</td>\n",
       "      <td>1.0</td>\n",
       "      <td>384.0</td>\n",
       "      <td>2.0</td>\n",
       "      <td>1.0</td>\n",
       "      <td>45.333333</td>\n",
       "      <td>2.0</td>\n",
       "      <td>1.0</td>\n",
       "      <td>5.0</td>\n",
       "      <td>64.0</td>\n",
       "      <td>11.0</td>\n",
       "    </tr>\n",
       "    <tr>\n",
       "      <th>0.0010</th>\n",
       "      <td>0.636909</td>\n",
       "      <td>0.501972</td>\n",
       "      <td>0.506955</td>\n",
       "      <td>0.502932</td>\n",
       "      <td>0.664312</td>\n",
       "      <td>0.540436</td>\n",
       "      <td>0.546799</td>\n",
       "      <td>0.539355</td>\n",
       "      <td>5.0</td>\n",
       "      <td>17.0</td>\n",
       "      <td>...</td>\n",
       "      <td>1.0</td>\n",
       "      <td>384.0</td>\n",
       "      <td>2.0</td>\n",
       "      <td>1.0</td>\n",
       "      <td>45.333333</td>\n",
       "      <td>2.0</td>\n",
       "      <td>1.0</td>\n",
       "      <td>5.0</td>\n",
       "      <td>64.0</td>\n",
       "      <td>9.0</td>\n",
       "    </tr>\n",
       "  </tbody>\n",
       "</table>\n",
       "<p>24 rows × 21 columns</p>\n",
       "</div>"
      ],
      "text/plain": [
       "                                                                                                     accuracy  \\\n",
       "dimensions output_channels sig_depth num_heads num_layers ffn_hidden_dim dropout_rate learning_rate             \n",
       "15         8               4         6         1          (256, 256)     0.1          0.0001         0.639591   \n",
       "                                                                                      0.0005         0.633844   \n",
       "                                                                                      0.0010         0.636143   \n",
       "                                                                         0.2          0.0001         0.638378   \n",
       "                                                                                      0.0005         0.634866   \n",
       "                                                                                      0.0010         0.628416   \n",
       "                                                          (512, 512)     0.1          0.0001         0.624968   \n",
       "                                                                                      0.0005         0.631928   \n",
       "                                                                                      0.0010         0.617816   \n",
       "                                                                         0.2          0.0001         0.627905   \n",
       "                                                                                      0.0005         0.642273   \n",
       "                                                                                      0.0010         0.630396   \n",
       "           12              3         10        1          (256, 256)     0.1          0.0001         0.639017   \n",
       "                                                                                      0.0005         0.613857   \n",
       "                                                                                      0.0010         0.629374   \n",
       "                                                                         0.2          0.0001         0.624968   \n",
       "                                                                                      0.0005         0.631928   \n",
       "                                                                                      0.0010         0.622925   \n",
       "                                                          (512, 512)     0.1          0.0001         0.623435   \n",
       "                                                                                      0.0005         0.633333   \n",
       "                                                                                      0.0010         0.629438   \n",
       "                                                                         0.2          0.0001         0.632439   \n",
       "                                                                                      0.0005         0.634355   \n",
       "                                                                                      0.0010         0.636909   \n",
       "\n",
       "                                                                                                           f1  \\\n",
       "dimensions output_channels sig_depth num_heads num_layers ffn_hidden_dim dropout_rate learning_rate             \n",
       "15         8               4         6         1          (256, 256)     0.1          0.0001         0.487949   \n",
       "                                                                                      0.0005         0.516875   \n",
       "                                                                                      0.0010         0.519909   \n",
       "                                                                         0.2          0.0001         0.502046   \n",
       "                                                                                      0.0005         0.515103   \n",
       "                                                                                      0.0010         0.508531   \n",
       "                                                          (512, 512)     0.1          0.0001         0.495681   \n",
       "                                                                                      0.0005         0.513005   \n",
       "                                                                                      0.0010         0.503552   \n",
       "                                                                         0.2          0.0001         0.498160   \n",
       "                                                                                      0.0005         0.520125   \n",
       "                                                                                      0.0010         0.509024   \n",
       "           12              3         10        1          (256, 256)     0.1          0.0001         0.473656   \n",
       "                                                                                      0.0005         0.504610   \n",
       "                                                                                      0.0010         0.508145   \n",
       "                                                                         0.2          0.0001         0.471813   \n",
       "                                                                                      0.0005         0.509182   \n",
       "                                                                                      0.0010         0.507299   \n",
       "                                                          (512, 512)     0.1          0.0001         0.483888   \n",
       "                                                                                      0.0005         0.511516   \n",
       "                                                                                      0.0010         0.513649   \n",
       "                                                                         0.2          0.0001         0.471955   \n",
       "                                                                                      0.0005         0.506192   \n",
       "                                                                                      0.0010         0.501972   \n",
       "\n",
       "                                                                                                     precision  \\\n",
       "dimensions output_channels sig_depth num_heads num_layers ffn_hidden_dim dropout_rate learning_rate              \n",
       "15         8               4         6         1          (256, 256)     0.1          0.0001          0.493511   \n",
       "                                                                                      0.0005          0.509551   \n",
       "                                                                                      0.0010          0.514326   \n",
       "                                                                         0.2          0.0001          0.500899   \n",
       "                                                                                      0.0005          0.509087   \n",
       "                                                                                      0.0010          0.501989   \n",
       "                                                          (512, 512)     0.1          0.0001          0.492665   \n",
       "                                                                                      0.0005          0.507524   \n",
       "                                                                                      0.0010          0.495830   \n",
       "                                                                         0.2          0.0001          0.493944   \n",
       "                                                                                      0.0005          0.515120   \n",
       "                                                                                      0.0010          0.505368   \n",
       "           12              3         10        1          (256, 256)     0.1          0.0001          0.487958   \n",
       "                                                                                      0.0005          0.497141   \n",
       "                                                                                      0.0010          0.503880   \n",
       "                                                                         0.2          0.0001          0.476710   \n",
       "                                                                                      0.0005          0.504438   \n",
       "                                                                                      0.0010          0.499418   \n",
       "                                                          (512, 512)     0.1          0.0001          0.488846   \n",
       "                                                                                      0.0005          0.505315   \n",
       "                                                                                      0.0010          0.511375   \n",
       "                                                                         0.2          0.0001          0.482584   \n",
       "                                                                                      0.0005          0.502936   \n",
       "                                                                                      0.0010          0.506955   \n",
       "\n",
       "                                                                                                       recall  \\\n",
       "dimensions output_channels sig_depth num_heads num_layers ffn_hidden_dim dropout_rate learning_rate             \n",
       "15         8               4         6         1          (256, 256)     0.1          0.0001         0.484449   \n",
       "                                                                                      0.0005         0.528787   \n",
       "                                                                                      0.0010         0.529877   \n",
       "                                                                         0.2          0.0001         0.504344   \n",
       "                                                                                      0.0005         0.527151   \n",
       "                                                                                      0.0010         0.518660   \n",
       "                                                          (512, 512)     0.1          0.0001         0.500327   \n",
       "                                                                                      0.0005         0.528325   \n",
       "                                                                                      0.0010         0.517092   \n",
       "                                                                         0.2          0.0001         0.505343   \n",
       "                                                                                      0.0005         0.528747   \n",
       "                                                                                      0.0010         0.515230   \n",
       "           12              3         10        1          (256, 256)     0.1          0.0001         0.468145   \n",
       "                                                                                      0.0005         0.519676   \n",
       "                                                                                      0.0010         0.517907   \n",
       "                                                                         0.2          0.0001         0.471063   \n",
       "                                                                                      0.0005         0.515247   \n",
       "                                                                                      0.0010         0.523155   \n",
       "                                                          (512, 512)     0.1          0.0001         0.483940   \n",
       "                                                                                      0.0005         0.521942   \n",
       "                                                                                      0.0010         0.522361   \n",
       "                                                                         0.2          0.0001         0.466577   \n",
       "                                                                                      0.0005         0.511445   \n",
       "                                                                                      0.0010         0.502932   \n",
       "\n",
       "                                                                                                     valid_accuracy  \\\n",
       "dimensions output_channels sig_depth num_heads num_layers ffn_hidden_dim dropout_rate learning_rate                   \n",
       "15         8               4         6         1          (256, 256)     0.1          0.0001               0.662546   \n",
       "                                                                                      0.0005               0.662653   \n",
       "                                                                                      0.0010               0.659441   \n",
       "                                                                         0.2          0.0001               0.660672   \n",
       "                                                                                      0.0005               0.664954   \n",
       "                                                                                      0.0010               0.661475   \n",
       "                                                          (512, 512)     0.1          0.0001               0.656230   \n",
       "                                                                                      0.0005               0.657729   \n",
       "                                                                                      0.0010               0.656123   \n",
       "                                                                         0.2          0.0001               0.659548   \n",
       "                                                                                      0.0005               0.664740   \n",
       "                                                                                      0.0010               0.661529   \n",
       "           12              3         10        1          (256, 256)     0.1          0.0001               0.653768   \n",
       "                                                                                      0.0005               0.655052   \n",
       "                                                                                      0.0010               0.661207   \n",
       "                                                                         0.2          0.0001               0.654945   \n",
       "                                                                                      0.0005               0.666613   \n",
       "                                                                                      0.0010               0.657086   \n",
       "                                                          (512, 512)     0.1          0.0001               0.649807   \n",
       "                                                                                      0.0005               0.656872   \n",
       "                                                                                      0.0010               0.652912   \n",
       "                                                                         0.2          0.0001               0.657140   \n",
       "                                                                                      0.0005               0.664258   \n",
       "                                                                                      0.0010               0.664312   \n",
       "\n",
       "                                                                                                     valid_f1  \\\n",
       "dimensions output_channels sig_depth num_heads num_layers ffn_hidden_dim dropout_rate learning_rate             \n",
       "15         8               4         6         1          (256, 256)     0.1          0.0001         0.526784   \n",
       "                                                                                      0.0005         0.557252   \n",
       "                                                                                      0.0010         0.552007   \n",
       "                                                                         0.2          0.0001         0.536895   \n",
       "                                                                                      0.0005         0.556988   \n",
       "                                                                                      0.0010         0.556436   \n",
       "                                                          (512, 512)     0.1          0.0001         0.532287   \n",
       "                                                                                      0.0005         0.548575   \n",
       "                                                                                      0.0010         0.552712   \n",
       "                                                                         0.2          0.0001         0.540827   \n",
       "                                                                                      0.0005         0.554807   \n",
       "                                                                                      0.0010         0.549209   \n",
       "           12              3         10        1          (256, 256)     0.1          0.0001         0.500769   \n",
       "                                                                                      0.0005         0.552976   \n",
       "                                                                                      0.0010         0.550263   \n",
       "                                                                         0.2          0.0001         0.515909   \n",
       "                                                                                      0.0005         0.555543   \n",
       "                                                                                      0.0010         0.552268   \n",
       "                                                          (512, 512)     0.1          0.0001         0.512741   \n",
       "                                                                                      0.0005         0.546906   \n",
       "                                                                                      0.0010         0.544782   \n",
       "                                                                         0.2          0.0001         0.510997   \n",
       "                                                                                      0.0005         0.548284   \n",
       "                                                                                      0.0010         0.540436   \n",
       "\n",
       "                                                                                                     valid_precision  \\\n",
       "dimensions output_channels sig_depth num_heads num_layers ffn_hidden_dim dropout_rate learning_rate                    \n",
       "15         8               4         6         1          (256, 256)     0.1          0.0001                0.534557   \n",
       "                                                                                      0.0005                0.552261   \n",
       "                                                                                      0.0010                0.549603   \n",
       "                                                                         0.2          0.0001                0.537290   \n",
       "                                                                                      0.0005                0.553115   \n",
       "                                                                                      0.0010                0.551960   \n",
       "                                                          (512, 512)     0.1          0.0001                0.533223   \n",
       "                                                                                      0.0005                0.545736   \n",
       "                                                                                      0.0010                0.546187   \n",
       "                                                                         0.2          0.0001                0.539318   \n",
       "                                                                                      0.0005                0.551971   \n",
       "                                                                                      0.0010                0.548623   \n",
       "           12              3         10        1          (256, 256)     0.1          0.0001                0.516888   \n",
       "                                                                                      0.0005                0.547259   \n",
       "                                                                                      0.0010                0.549151   \n",
       "                                                                         0.2          0.0001                0.523835   \n",
       "                                                                                      0.0005                0.553434   \n",
       "                                                                                      0.0010                0.546763   \n",
       "                                                          (512, 512)     0.1          0.0001                0.519377   \n",
       "                                                                                      0.0005                0.542954   \n",
       "                                                                                      0.0010                0.543741   \n",
       "                                                                         0.2          0.0001                0.523983   \n",
       "                                                                                      0.0005                0.547324   \n",
       "                                                                                      0.0010                0.546799   \n",
       "\n",
       "                                                                                                     valid_recall  \\\n",
       "dimensions output_channels sig_depth num_heads num_layers ffn_hidden_dim dropout_rate learning_rate                 \n",
       "15         8               4         6         1          (256, 256)     0.1          0.0001             0.521920   \n",
       "                                                                                      0.0005             0.564375   \n",
       "                                                                                      0.0010             0.557330   \n",
       "                                                                         0.2          0.0001             0.537349   \n",
       "                                                                                      0.0005             0.563232   \n",
       "                                                                                      0.0010             0.562757   \n",
       "                                                          (512, 512)     0.1          0.0001             0.532697   \n",
       "                                                                                      0.0005             0.554849   \n",
       "                                                                                      0.0010             0.562588   \n",
       "                                                                         0.2          0.0001             0.543244   \n",
       "                                                                                      0.0005             0.559197   \n",
       "                                                                                      0.0010             0.551419   \n",
       "           12              3         10        1          (256, 256)     0.1          0.0001             0.494324   \n",
       "                                                                                      0.0005             0.562759   \n",
       "                                                                                      0.0010             0.554040   \n",
       "                                                                         0.2          0.0001             0.511352   \n",
       "                                                                                      0.0005             0.558133   \n",
       "                                                                                      0.0010             0.561374   \n",
       "                                                          (512, 512)     0.1          0.0001             0.511501   \n",
       "                                                                                      0.0005             0.552785   \n",
       "                                                                                      0.0010             0.549088   \n",
       "                                                                         0.2          0.0001             0.504633   \n",
       "                                                                                      0.0005             0.550411   \n",
       "                                                                                      0.0010             0.539355   \n",
       "\n",
       "                                                                                                       k  \\\n",
       "dimensions output_channels sig_depth num_heads num_layers ffn_hidden_dim dropout_rate learning_rate        \n",
       "15         8               4         6         1          (256, 256)     0.1          0.0001         5.0   \n",
       "                                                                                      0.0005         5.0   \n",
       "                                                                                      0.0010         5.0   \n",
       "                                                                         0.2          0.0001         5.0   \n",
       "                                                                                      0.0005         5.0   \n",
       "                                                                                      0.0010         5.0   \n",
       "                                                          (512, 512)     0.1          0.0001         5.0   \n",
       "                                                                                      0.0005         5.0   \n",
       "                                                                                      0.0010         5.0   \n",
       "                                                                         0.2          0.0001         5.0   \n",
       "                                                                                      0.0005         5.0   \n",
       "                                                                                      0.0010         5.0   \n",
       "           12              3         10        1          (256, 256)     0.1          0.0001         5.0   \n",
       "                                                                                      0.0005         5.0   \n",
       "                                                                                      0.0010         5.0   \n",
       "                                                                         0.2          0.0001         5.0   \n",
       "                                                                                      0.0005         5.0   \n",
       "                                                                                      0.0010         5.0   \n",
       "                                                          (512, 512)     0.1          0.0001         5.0   \n",
       "                                                                                      0.0005         5.0   \n",
       "                                                                                      0.0010         5.0   \n",
       "                                                                         0.2          0.0001         5.0   \n",
       "                                                                                      0.0005         5.0   \n",
       "                                                                                      0.0010         5.0   \n",
       "\n",
       "                                                                                                     input_channels  \\\n",
       "dimensions output_channels sig_depth num_heads num_layers ffn_hidden_dim dropout_rate learning_rate                   \n",
       "15         8               4         6         1          (256, 256)     0.1          0.0001                   17.0   \n",
       "                                                                                      0.0005                   17.0   \n",
       "                                                                                      0.0010                   17.0   \n",
       "                                                                         0.2          0.0001                   17.0   \n",
       "                                                                                      0.0005                   17.0   \n",
       "                                                                                      0.0010                   17.0   \n",
       "                                                          (512, 512)     0.1          0.0001                   17.0   \n",
       "                                                                                      0.0005                   17.0   \n",
       "                                                                                      0.0010                   17.0   \n",
       "                                                                         0.2          0.0001                   17.0   \n",
       "                                                                                      0.0005                   17.0   \n",
       "                                                                                      0.0010                   17.0   \n",
       "           12              3         10        1          (256, 256)     0.1          0.0001                   17.0   \n",
       "                                                                                      0.0005                   17.0   \n",
       "                                                                                      0.0010                   17.0   \n",
       "                                                                         0.2          0.0001                   17.0   \n",
       "                                                                                      0.0005                   17.0   \n",
       "                                                                                      0.0010                   17.0   \n",
       "                                                          (512, 512)     0.1          0.0001                   17.0   \n",
       "                                                                                      0.0005                   17.0   \n",
       "                                                                                      0.0010                   17.0   \n",
       "                                                                         0.2          0.0001                   17.0   \n",
       "                                                                                      0.0005                   17.0   \n",
       "                                                                                      0.0010                   17.0   \n",
       "\n",
       "                                                                                                     ...  \\\n",
       "dimensions output_channels sig_depth num_heads num_layers ffn_hidden_dim dropout_rate learning_rate  ...   \n",
       "15         8               4         6         1          (256, 256)     0.1          0.0001         ...   \n",
       "                                                                                      0.0005         ...   \n",
       "                                                                                      0.0010         ...   \n",
       "                                                                         0.2          0.0001         ...   \n",
       "                                                                                      0.0005         ...   \n",
       "                                                                                      0.0010         ...   \n",
       "                                                          (512, 512)     0.1          0.0001         ...   \n",
       "                                                                                      0.0005         ...   \n",
       "                                                                                      0.0010         ...   \n",
       "                                                                         0.2          0.0001         ...   \n",
       "                                                                                      0.0005         ...   \n",
       "                                                                                      0.0010         ...   \n",
       "           12              3         10        1          (256, 256)     0.1          0.0001         ...   \n",
       "                                                                                      0.0005         ...   \n",
       "                                                                                      0.0010         ...   \n",
       "                                                                         0.2          0.0001         ...   \n",
       "                                                                                      0.0005         ...   \n",
       "                                                                                      0.0010         ...   \n",
       "                                                          (512, 512)     0.1          0.0001         ...   \n",
       "                                                                                      0.0005         ...   \n",
       "                                                                                      0.0010         ...   \n",
       "                                                                         0.2          0.0001         ...   \n",
       "                                                                                      0.0005         ...   \n",
       "                                                                                      0.0010         ...   \n",
       "\n",
       "                                                                                                     include_features_in_input  \\\n",
       "dimensions output_channels sig_depth num_heads num_layers ffn_hidden_dim dropout_rate learning_rate                              \n",
       "15         8               4         6         1          (256, 256)     0.1          0.0001                               1.0   \n",
       "                                                                                      0.0005                               1.0   \n",
       "                                                                                      0.0010                               1.0   \n",
       "                                                                         0.2          0.0001                               1.0   \n",
       "                                                                                      0.0005                               1.0   \n",
       "                                                                                      0.0010                               1.0   \n",
       "                                                          (512, 512)     0.1          0.0001                               1.0   \n",
       "                                                                                      0.0005                               1.0   \n",
       "                                                                                      0.0010                               1.0   \n",
       "                                                                         0.2          0.0001                               1.0   \n",
       "                                                                                      0.0005                               1.0   \n",
       "                                                                                      0.0010                               1.0   \n",
       "           12              3         10        1          (256, 256)     0.1          0.0001                               1.0   \n",
       "                                                                                      0.0005                               1.0   \n",
       "                                                                                      0.0010                               1.0   \n",
       "                                                                         0.2          0.0001                               1.0   \n",
       "                                                                                      0.0005                               1.0   \n",
       "                                                                                      0.0010                               1.0   \n",
       "                                                          (512, 512)     0.1          0.0001                               1.0   \n",
       "                                                                                      0.0005                               1.0   \n",
       "                                                                                      0.0010                               1.0   \n",
       "                                                                         0.2          0.0001                               1.0   \n",
       "                                                                                      0.0005                               1.0   \n",
       "                                                                                      0.0010                               1.0   \n",
       "\n",
       "                                                                                                     embedding_dim  \\\n",
       "dimensions output_channels sig_depth num_heads num_layers ffn_hidden_dim dropout_rate learning_rate                  \n",
       "15         8               4         6         1          (256, 256)     0.1          0.0001                 384.0   \n",
       "                                                                                      0.0005                 384.0   \n",
       "                                                                                      0.0010                 384.0   \n",
       "                                                                         0.2          0.0001                 384.0   \n",
       "                                                                                      0.0005                 384.0   \n",
       "                                                                                      0.0010                 384.0   \n",
       "                                                          (512, 512)     0.1          0.0001                 384.0   \n",
       "                                                                                      0.0005                 384.0   \n",
       "                                                                                      0.0010                 384.0   \n",
       "                                                                         0.2          0.0001                 384.0   \n",
       "                                                                                      0.0005                 384.0   \n",
       "                                                                                      0.0010                 384.0   \n",
       "           12              3         10        1          (256, 256)     0.1          0.0001                 384.0   \n",
       "                                                                                      0.0005                 384.0   \n",
       "                                                                                      0.0010                 384.0   \n",
       "                                                                         0.2          0.0001                 384.0   \n",
       "                                                                                      0.0005                 384.0   \n",
       "                                                                                      0.0010                 384.0   \n",
       "                                                          (512, 512)     0.1          0.0001                 384.0   \n",
       "                                                                                      0.0005                 384.0   \n",
       "                                                                                      0.0010                 384.0   \n",
       "                                                                         0.2          0.0001                 384.0   \n",
       "                                                                                      0.0005                 384.0   \n",
       "                                                                                      0.0010                 384.0   \n",
       "\n",
       "                                                                                                     num_features  \\\n",
       "dimensions output_channels sig_depth num_heads num_layers ffn_hidden_dim dropout_rate learning_rate                 \n",
       "15         8               4         6         1          (256, 256)     0.1          0.0001                  2.0   \n",
       "                                                                                      0.0005                  2.0   \n",
       "                                                                                      0.0010                  2.0   \n",
       "                                                                         0.2          0.0001                  2.0   \n",
       "                                                                                      0.0005                  2.0   \n",
       "                                                                                      0.0010                  2.0   \n",
       "                                                          (512, 512)     0.1          0.0001                  2.0   \n",
       "                                                                                      0.0005                  2.0   \n",
       "                                                                                      0.0010                  2.0   \n",
       "                                                                         0.2          0.0001                  2.0   \n",
       "                                                                                      0.0005                  2.0   \n",
       "                                                                                      0.0010                  2.0   \n",
       "           12              3         10        1          (256, 256)     0.1          0.0001                  2.0   \n",
       "                                                                                      0.0005                  2.0   \n",
       "                                                                                      0.0010                  2.0   \n",
       "                                                                         0.2          0.0001                  2.0   \n",
       "                                                                                      0.0005                  2.0   \n",
       "                                                                                      0.0010                  2.0   \n",
       "                                                          (512, 512)     0.1          0.0001                  2.0   \n",
       "                                                                                      0.0005                  2.0   \n",
       "                                                                                      0.0010                  2.0   \n",
       "                                                                         0.2          0.0001                  2.0   \n",
       "                                                                                      0.0005                  2.0   \n",
       "                                                                                      0.0010                  2.0   \n",
       "\n",
       "                                                                                                     log_signature  \\\n",
       "dimensions output_channels sig_depth num_heads num_layers ffn_hidden_dim dropout_rate learning_rate                  \n",
       "15         8               4         6         1          (256, 256)     0.1          0.0001                   1.0   \n",
       "                                                                                      0.0005                   1.0   \n",
       "                                                                                      0.0010                   1.0   \n",
       "                                                                         0.2          0.0001                   1.0   \n",
       "                                                                                      0.0005                   1.0   \n",
       "                                                                                      0.0010                   1.0   \n",
       "                                                          (512, 512)     0.1          0.0001                   1.0   \n",
       "                                                                                      0.0005                   1.0   \n",
       "                                                                                      0.0010                   1.0   \n",
       "                                                                         0.2          0.0001                   1.0   \n",
       "                                                                                      0.0005                   1.0   \n",
       "                                                                                      0.0010                   1.0   \n",
       "           12              3         10        1          (256, 256)     0.1          0.0001                   1.0   \n",
       "                                                                                      0.0005                   1.0   \n",
       "                                                                                      0.0010                   1.0   \n",
       "                                                                         0.2          0.0001                   1.0   \n",
       "                                                                                      0.0005                   1.0   \n",
       "                                                                                      0.0010                   1.0   \n",
       "                                                          (512, 512)     0.1          0.0001                   1.0   \n",
       "                                                                                      0.0005                   1.0   \n",
       "                                                                                      0.0010                   1.0   \n",
       "                                                                         0.2          0.0001                   1.0   \n",
       "                                                                                      0.0005                   1.0   \n",
       "                                                                                      0.0010                   1.0   \n",
       "\n",
       "                                                                                                          seed  \\\n",
       "dimensions output_channels sig_depth num_heads num_layers ffn_hidden_dim dropout_rate learning_rate              \n",
       "15         8               4         6         1          (256, 256)     0.1          0.0001         45.333333   \n",
       "                                                                                      0.0005         45.333333   \n",
       "                                                                                      0.0010         45.333333   \n",
       "                                                                         0.2          0.0001         45.333333   \n",
       "                                                                                      0.0005         45.333333   \n",
       "                                                                                      0.0010         45.333333   \n",
       "                                                          (512, 512)     0.1          0.0001         45.333333   \n",
       "                                                                                      0.0005         45.333333   \n",
       "                                                                                      0.0010         45.333333   \n",
       "                                                                         0.2          0.0001         45.333333   \n",
       "                                                                                      0.0005         45.333333   \n",
       "                                                                                      0.0010         45.333333   \n",
       "           12              3         10        1          (256, 256)     0.1          0.0001         45.333333   \n",
       "                                                                                      0.0005         45.333333   \n",
       "                                                                                      0.0010         45.333333   \n",
       "                                                                         0.2          0.0001         45.333333   \n",
       "                                                                                      0.0005         45.333333   \n",
       "                                                                                      0.0010         45.333333   \n",
       "                                                          (512, 512)     0.1          0.0001         45.333333   \n",
       "                                                                                      0.0005         45.333333   \n",
       "                                                                                      0.0010         45.333333   \n",
       "                                                                         0.2          0.0001         45.333333   \n",
       "                                                                                      0.0005         45.333333   \n",
       "                                                                                      0.0010         45.333333   \n",
       "\n",
       "                                                                                                     gamma  \\\n",
       "dimensions output_channels sig_depth num_heads num_layers ffn_hidden_dim dropout_rate learning_rate          \n",
       "15         8               4         6         1          (256, 256)     0.1          0.0001           2.0   \n",
       "                                                                                      0.0005           2.0   \n",
       "                                                                                      0.0010           2.0   \n",
       "                                                                         0.2          0.0001           2.0   \n",
       "                                                                                      0.0005           2.0   \n",
       "                                                                                      0.0010           2.0   \n",
       "                                                          (512, 512)     0.1          0.0001           2.0   \n",
       "                                                                                      0.0005           2.0   \n",
       "                                                                                      0.0010           2.0   \n",
       "                                                                         0.2          0.0001           2.0   \n",
       "                                                                                      0.0005           2.0   \n",
       "                                                                                      0.0010           2.0   \n",
       "           12              3         10        1          (256, 256)     0.1          0.0001           2.0   \n",
       "                                                                                      0.0005           2.0   \n",
       "                                                                                      0.0010           2.0   \n",
       "                                                                         0.2          0.0001           2.0   \n",
       "                                                                                      0.0005           2.0   \n",
       "                                                                                      0.0010           2.0   \n",
       "                                                          (512, 512)     0.1          0.0001           2.0   \n",
       "                                                                                      0.0005           2.0   \n",
       "                                                                                      0.0010           2.0   \n",
       "                                                                         0.2          0.0001           2.0   \n",
       "                                                                                      0.0005           2.0   \n",
       "                                                                                      0.0010           2.0   \n",
       "\n",
       "                                                                                                     k_fold  \\\n",
       "dimensions output_channels sig_depth num_heads num_layers ffn_hidden_dim dropout_rate learning_rate           \n",
       "15         8               4         6         1          (256, 256)     0.1          0.0001            1.0   \n",
       "                                                                                      0.0005            1.0   \n",
       "                                                                                      0.0010            1.0   \n",
       "                                                                         0.2          0.0001            1.0   \n",
       "                                                                                      0.0005            1.0   \n",
       "                                                                                      0.0010            1.0   \n",
       "                                                          (512, 512)     0.1          0.0001            1.0   \n",
       "                                                                                      0.0005            1.0   \n",
       "                                                                                      0.0010            1.0   \n",
       "                                                                         0.2          0.0001            1.0   \n",
       "                                                                                      0.0005            1.0   \n",
       "                                                                                      0.0010            1.0   \n",
       "           12              3         10        1          (256, 256)     0.1          0.0001            1.0   \n",
       "                                                                                      0.0005            1.0   \n",
       "                                                                                      0.0010            1.0   \n",
       "                                                                         0.2          0.0001            1.0   \n",
       "                                                                                      0.0005            1.0   \n",
       "                                                                                      0.0010            1.0   \n",
       "                                                          (512, 512)     0.1          0.0001            1.0   \n",
       "                                                                                      0.0005            1.0   \n",
       "                                                                                      0.0010            1.0   \n",
       "                                                                         0.2          0.0001            1.0   \n",
       "                                                                                      0.0005            1.0   \n",
       "                                                                                      0.0010            1.0   \n",
       "\n",
       "                                                                                                     n_splits  \\\n",
       "dimensions output_channels sig_depth num_heads num_layers ffn_hidden_dim dropout_rate learning_rate             \n",
       "15         8               4         6         1          (256, 256)     0.1          0.0001              5.0   \n",
       "                                                                                      0.0005              5.0   \n",
       "                                                                                      0.0010              5.0   \n",
       "                                                                         0.2          0.0001              5.0   \n",
       "                                                                                      0.0005              5.0   \n",
       "                                                                                      0.0010              5.0   \n",
       "                                                          (512, 512)     0.1          0.0001              5.0   \n",
       "                                                                                      0.0005              5.0   \n",
       "                                                                                      0.0010              5.0   \n",
       "                                                                         0.2          0.0001              5.0   \n",
       "                                                                                      0.0005              5.0   \n",
       "                                                                                      0.0010              5.0   \n",
       "           12              3         10        1          (256, 256)     0.1          0.0001              5.0   \n",
       "                                                                                      0.0005              5.0   \n",
       "                                                                                      0.0010              5.0   \n",
       "                                                                         0.2          0.0001              5.0   \n",
       "                                                                                      0.0005              5.0   \n",
       "                                                                                      0.0010              5.0   \n",
       "                                                          (512, 512)     0.1          0.0001              5.0   \n",
       "                                                                                      0.0005              5.0   \n",
       "                                                                                      0.0010              5.0   \n",
       "                                                                         0.2          0.0001              5.0   \n",
       "                                                                                      0.0005              5.0   \n",
       "                                                                                      0.0010              5.0   \n",
       "\n",
       "                                                                                                     batch_size  \\\n",
       "dimensions output_channels sig_depth num_heads num_layers ffn_hidden_dim dropout_rate learning_rate               \n",
       "15         8               4         6         1          (256, 256)     0.1          0.0001               64.0   \n",
       "                                                                                      0.0005               64.0   \n",
       "                                                                                      0.0010               64.0   \n",
       "                                                                         0.2          0.0001               64.0   \n",
       "                                                                                      0.0005               64.0   \n",
       "                                                                                      0.0010               64.0   \n",
       "                                                          (512, 512)     0.1          0.0001               64.0   \n",
       "                                                                                      0.0005               64.0   \n",
       "                                                                                      0.0010               64.0   \n",
       "                                                                         0.2          0.0001               64.0   \n",
       "                                                                                      0.0005               64.0   \n",
       "                                                                                      0.0010               64.0   \n",
       "           12              3         10        1          (256, 256)     0.1          0.0001               64.0   \n",
       "                                                                                      0.0005               64.0   \n",
       "                                                                                      0.0010               64.0   \n",
       "                                                                         0.2          0.0001               64.0   \n",
       "                                                                                      0.0005               64.0   \n",
       "                                                                                      0.0010               64.0   \n",
       "                                                          (512, 512)     0.1          0.0001               64.0   \n",
       "                                                                                      0.0005               64.0   \n",
       "                                                                                      0.0010               64.0   \n",
       "                                                                         0.2          0.0001               64.0   \n",
       "                                                                                      0.0005               64.0   \n",
       "                                                                                      0.0010               64.0   \n",
       "\n",
       "                                                                                                     model_id  \n",
       "dimensions output_channels sig_depth num_heads num_layers ffn_hidden_dim dropout_rate learning_rate            \n",
       "15         8               4         6         1          (256, 256)     0.1          0.0001             13.0  \n",
       "                                                                                      0.0005             14.0  \n",
       "                                                                                      0.0010             12.0  \n",
       "                                                                         0.2          0.0001             16.0  \n",
       "                                                                                      0.0005             17.0  \n",
       "                                                                                      0.0010             15.0  \n",
       "                                                          (512, 512)     0.1          0.0001             19.0  \n",
       "                                                                                      0.0005             20.0  \n",
       "                                                                                      0.0010             18.0  \n",
       "                                                                         0.2          0.0001             22.0  \n",
       "                                                                                      0.0005             23.0  \n",
       "                                                                                      0.0010             21.0  \n",
       "           12              3         10        1          (256, 256)     0.1          0.0001              1.0  \n",
       "                                                                                      0.0005              2.0  \n",
       "                                                                                      0.0010              0.0  \n",
       "                                                                         0.2          0.0001              4.0  \n",
       "                                                                                      0.0005              5.0  \n",
       "                                                                                      0.0010              3.0  \n",
       "                                                          (512, 512)     0.1          0.0001              7.0  \n",
       "                                                                                      0.0005              8.0  \n",
       "                                                                                      0.0010              6.0  \n",
       "                                                                         0.2          0.0001             10.0  \n",
       "                                                                                      0.0005             11.0  \n",
       "                                                                                      0.0010              9.0  \n",
       "\n",
       "[24 rows x 21 columns]"
      ]
     },
     "execution_count": 13,
     "metadata": {},
     "output_type": "execute_result"
    }
   ],
   "source": [
    "swmhau_network_grp_kfold_5.groupby(\n",
    "    [\n",
    "        \"dimensions\",\n",
    "        \"output_channels\",\n",
    "        \"sig_depth\",\n",
    "        \"num_heads\",\n",
    "        \"num_layers\",\n",
    "        \"ffn_hidden_dim\",\n",
    "        \"dropout_rate\",\n",
    "        \"learning_rate\",\n",
    "    ]\n",
    ").mean()"
   ]
  },
  {
   "cell_type": "code",
   "execution_count": 14,
   "id": "603dee18",
   "metadata": {},
   "outputs": [
    {
     "data": {
      "text/html": [
       "<div>\n",
       "<style scoped>\n",
       "    .dataframe tbody tr th:only-of-type {\n",
       "        vertical-align: middle;\n",
       "    }\n",
       "\n",
       "    .dataframe tbody tr th {\n",
       "        vertical-align: top;\n",
       "    }\n",
       "\n",
       "    .dataframe thead th {\n",
       "        text-align: right;\n",
       "    }\n",
       "</style>\n",
       "<table border=\"1\" class=\"dataframe\">\n",
       "  <thead>\n",
       "    <tr style=\"text-align: right;\">\n",
       "      <th></th>\n",
       "      <th>loss</th>\n",
       "      <th>accuracy</th>\n",
       "      <th>f1</th>\n",
       "      <th>f1_scores</th>\n",
       "      <th>precision</th>\n",
       "      <th>precision_scores</th>\n",
       "      <th>recall</th>\n",
       "      <th>recall_scores</th>\n",
       "      <th>valid_loss</th>\n",
       "      <th>valid_accuracy</th>\n",
       "      <th>...</th>\n",
       "      <th>learning_rate</th>\n",
       "      <th>seed</th>\n",
       "      <th>loss_function</th>\n",
       "      <th>gamma</th>\n",
       "      <th>k_fold</th>\n",
       "      <th>n_splits</th>\n",
       "      <th>augmentation_type</th>\n",
       "      <th>hidden_dim_aug</th>\n",
       "      <th>comb_method</th>\n",
       "      <th>batch_size</th>\n",
       "    </tr>\n",
       "  </thead>\n",
       "  <tbody>\n",
       "    <tr>\n",
       "      <th>0</th>\n",
       "      <td>None</td>\n",
       "      <td>0.630077</td>\n",
       "      <td>0.516690</td>\n",
       "      <td>[0.7516192197620124, 0.448870164687859, 0.3495...</td>\n",
       "      <td>0.509405</td>\n",
       "      <td>[0.7843445457403332, 0.41887062187276625, 0.325]</td>\n",
       "      <td>0.527732</td>\n",
       "      <td>[0.7215153267784846, 0.4834983498349835, 0.378...</td>\n",
       "      <td>None</td>\n",
       "      <td>0.660726</td>\n",
       "      <td>...</td>\n",
       "      <td>0.0005</td>\n",
       "      <td>1</td>\n",
       "      <td>focal</td>\n",
       "      <td>2</td>\n",
       "      <td>True</td>\n",
       "      <td>5</td>\n",
       "      <td>Conv1d</td>\n",
       "      <td>None</td>\n",
       "      <td>concatenation</td>\n",
       "      <td>64</td>\n",
       "    </tr>\n",
       "    <tr>\n",
       "      <th>0</th>\n",
       "      <td>None</td>\n",
       "      <td>0.634100</td>\n",
       "      <td>0.518451</td>\n",
       "      <td>[0.7567890182035213, 0.447443762781186, 0.3511...</td>\n",
       "      <td>0.510301</td>\n",
       "      <td>[0.781750924784217, 0.44363341443633414, 0.305...</td>\n",
       "      <td>0.532473</td>\n",
       "      <td>[0.7333718912666282, 0.4513201320132013, 0.412...</td>\n",
       "      <td>None</td>\n",
       "      <td>0.661850</td>\n",
       "      <td>...</td>\n",
       "      <td>0.0005</td>\n",
       "      <td>12</td>\n",
       "      <td>focal</td>\n",
       "      <td>2</td>\n",
       "      <td>True</td>\n",
       "      <td>5</td>\n",
       "      <td>Conv1d</td>\n",
       "      <td>None</td>\n",
       "      <td>concatenation</td>\n",
       "      <td>64</td>\n",
       "    </tr>\n",
       "    <tr>\n",
       "      <th>0</th>\n",
       "      <td>None</td>\n",
       "      <td>0.637356</td>\n",
       "      <td>0.515483</td>\n",
       "      <td>[0.762341117351463, 0.44048112816258816, 0.343...</td>\n",
       "      <td>0.508947</td>\n",
       "      <td>[0.7796251511487303, 0.44286905754795663, 0.30...</td>\n",
       "      <td>0.526157</td>\n",
       "      <td>[0.7458068247541931, 0.4381188118811881, 0.394...</td>\n",
       "      <td>None</td>\n",
       "      <td>0.665382</td>\n",
       "      <td>...</td>\n",
       "      <td>0.0005</td>\n",
       "      <td>123</td>\n",
       "      <td>focal</td>\n",
       "      <td>2</td>\n",
       "      <td>True</td>\n",
       "      <td>5</td>\n",
       "      <td>Conv1d</td>\n",
       "      <td>None</td>\n",
       "      <td>concatenation</td>\n",
       "      <td>64</td>\n",
       "    </tr>\n",
       "  </tbody>\n",
       "</table>\n",
       "<p>3 rows × 44 columns</p>\n",
       "</div>"
      ],
      "text/plain": [
       "   loss  accuracy        f1  \\\n",
       "0  None  0.630077  0.516690   \n",
       "0  None  0.634100  0.518451   \n",
       "0  None  0.637356  0.515483   \n",
       "\n",
       "                                           f1_scores  precision  \\\n",
       "0  [0.7516192197620124, 0.448870164687859, 0.3495...   0.509405   \n",
       "0  [0.7567890182035213, 0.447443762781186, 0.3511...   0.510301   \n",
       "0  [0.762341117351463, 0.44048112816258816, 0.343...   0.508947   \n",
       "\n",
       "                                    precision_scores    recall  \\\n",
       "0   [0.7843445457403332, 0.41887062187276625, 0.325]  0.527732   \n",
       "0  [0.781750924784217, 0.44363341443633414, 0.305...  0.532473   \n",
       "0  [0.7796251511487303, 0.44286905754795663, 0.30...  0.526157   \n",
       "\n",
       "                                       recall_scores valid_loss  \\\n",
       "0  [0.7215153267784846, 0.4834983498349835, 0.378...       None   \n",
       "0  [0.7333718912666282, 0.4513201320132013, 0.412...       None   \n",
       "0  [0.7458068247541931, 0.4381188118811881, 0.394...       None   \n",
       "\n",
       "   valid_accuracy  ...  learning_rate seed  loss_function gamma  k_fold  \\\n",
       "0        0.660726  ...         0.0005    1          focal     2    True   \n",
       "0        0.661850  ...         0.0005   12          focal     2    True   \n",
       "0        0.665382  ...         0.0005  123          focal     2    True   \n",
       "\n",
       "  n_splits  augmentation_type  hidden_dim_aug    comb_method batch_size  \n",
       "0        5             Conv1d            None  concatenation         64  \n",
       "0        5             Conv1d            None  concatenation         64  \n",
       "0        5             Conv1d            None  concatenation         64  \n",
       "\n",
       "[3 rows x 44 columns]"
      ]
     },
     "execution_count": 14,
     "metadata": {},
     "output_type": "execute_result"
    }
   ],
   "source": [
    "best_swmhau_network_grp_kfold_5"
   ]
  },
  {
   "cell_type": "markdown",
   "id": "a66f7074-3654-4f69-8e20-1466b21d84cf",
   "metadata": {},
   "source": [
    "in path (with speaker): 0.5210764081829135 (2:22)\n",
    "\n",
    "in path (no speaker): 0.5207288898117722 (2:30)\n",
    "\n",
    "in input (no speaker): 0.5142427437088648 (2:40)\n",
    "\n",
    "both (no speaker): 0.5129526518731312 (3:40)\n",
    "\n",
    "(w/ time_encoding) in path (with speaker): 0.520978678702496\n",
    "\n",
    "(w/ time_encoding) in path (no speaker): 0.5201665510110508\n",
    "\n",
    "(w/ time_encoding) in input (no speaker): 0.5190188331551432\n",
    "\n",
    "(w/ time_encoding) both (no speaker): 0.5091037146573926"
   ]
  },
  {
   "cell_type": "code",
   "execution_count": 15,
   "id": "e9d503c3",
   "metadata": {},
   "outputs": [
    {
     "data": {
      "text/plain": [
       "0.5168746613941936"
      ]
     },
     "execution_count": 15,
     "metadata": {},
     "output_type": "execute_result"
    }
   ],
   "source": [
    "# with speaker in path\n",
    "best_swmhau_network_grp_kfold_5[\"f1\"].mean()"
   ]
  },
  {
   "cell_type": "code",
   "execution_count": 16,
   "id": "930ab117-30a0-4b3d-a983-69061983abd0",
   "metadata": {},
   "outputs": [
    {
     "data": {
      "text/plain": [
       "0.5168746613941936"
      ]
     },
     "execution_count": 16,
     "metadata": {},
     "output_type": "execute_result"
    }
   ],
   "source": [
    "# no speaker in path\n",
    "best_swmhau_network_grp_kfold_5[\"f1\"].mean()"
   ]
  },
  {
   "cell_type": "code",
   "execution_count": 17,
   "id": "b743861c-b311-4676-bf02-e791a46e8a73",
   "metadata": {},
   "outputs": [
    {
     "data": {
      "text/plain": [
       "0.5168746613941936"
      ]
     },
     "execution_count": 17,
     "metadata": {},
     "output_type": "execute_result"
    }
   ],
   "source": [
    "# no speaker in input\n",
    "best_swmhau_network_grp_kfold_5[\"f1\"].mean()"
   ]
  },
  {
   "cell_type": "code",
   "execution_count": 18,
   "id": "2508cf97-3cbe-4af2-bdce-4e93b6e51a72",
   "metadata": {},
   "outputs": [
    {
     "data": {
      "text/plain": [
       "0.5168746613941936"
      ]
     },
     "execution_count": 18,
     "metadata": {},
     "output_type": "execute_result"
    }
   ],
   "source": [
    "# no speaker both\n",
    "best_swmhau_network_grp_kfold_5[\"f1\"].mean()"
   ]
  },
  {
   "cell_type": "code",
   "execution_count": 19,
   "id": "f3079077",
   "metadata": {},
   "outputs": [
    {
     "data": {
      "text/plain": [
       "0.5095510790222296"
      ]
     },
     "execution_count": 19,
     "metadata": {},
     "output_type": "execute_result"
    }
   ],
   "source": [
    "best_swmhau_network_grp_kfold_5[\"precision\"].mean()"
   ]
  },
  {
   "cell_type": "code",
   "execution_count": 20,
   "id": "eb2894ed",
   "metadata": {},
   "outputs": [
    {
     "data": {
      "text/plain": [
       "0.5287873202203582"
      ]
     },
     "execution_count": 20,
     "metadata": {},
     "output_type": "execute_result"
    }
   ],
   "source": [
    "best_swmhau_network_grp_kfold_5[\"recall\"].mean()"
   ]
  },
  {
   "cell_type": "code",
   "execution_count": 21,
   "id": "a3e8bbc5",
   "metadata": {},
   "outputs": [
    {
     "data": {
      "text/plain": [
       "array([0.75691645, 0.44559835, 0.34810918])"
      ]
     },
     "execution_count": 21,
     "metadata": {},
     "output_type": "execute_result"
    }
   ],
   "source": [
    "np.stack(best_swmhau_network_grp_kfold_5[\"f1_scores\"]).mean(axis=0)"
   ]
  },
  {
   "cell_type": "code",
   "execution_count": 22,
   "id": "4601b7f2",
   "metadata": {},
   "outputs": [
    {
     "data": {
      "text/plain": [
       "array([0.78190687, 0.43512436, 0.311622  ])"
      ]
     },
     "execution_count": 22,
     "metadata": {},
     "output_type": "execute_result"
    }
   ],
   "source": [
    "np.stack(best_swmhau_network_grp_kfold_5[\"precision_scores\"]).mean(axis=0)"
   ]
  },
  {
   "cell_type": "code",
   "execution_count": 23,
   "id": "a3201dd5",
   "metadata": {},
   "outputs": [
    {
     "data": {
      "text/plain": [
       "array([0.73356468, 0.45764576, 0.39515152])"
      ]
     },
     "execution_count": 23,
     "metadata": {},
     "output_type": "execute_result"
    }
   ],
   "source": [
    "np.stack(best_swmhau_network_grp_kfold_5[\"recall_scores\"]).mean(axis=0)"
   ]
  },
  {
   "cell_type": "markdown",
   "id": "e1431c13-2914-49f7-abb1-24c5afeba251",
   "metadata": {
    "tags": []
   },
   "source": [
    "# w=11"
   ]
  },
  {
   "cell_type": "code",
   "execution_count": 24,
   "id": "aa851ce9-ccfe-4fa2-ab4b-f3f37d85aa39",
   "metadata": {},
   "outputs": [],
   "source": [
    "size = 11"
   ]
  },
  {
   "cell_type": "markdown",
   "id": "8e1e81bc-c856-4b2b-bd60-a4480c855a0f",
   "metadata": {},
   "source": [
    "## Random Projections"
   ]
  },
  {
   "cell_type": "code",
   "execution_count": null,
   "id": "b69aae1a-b85c-4daf-bfd4-3ec6f8b779c1",
   "metadata": {},
   "outputs": [
    {
     "data": {
      "application/vnd.jupyter.widget-view+json": {
       "model_id": "e257dd45597b4cc89ccb3519e229220b",
       "version_major": 2,
       "version_minor": 0
      },
      "text/plain": [
       "  0%|          | 0/1 [00:00<?, ?it/s]"
      ]
     },
     "metadata": {},
     "output_type": "display_data"
    },
    {
     "data": {
      "application/vnd.jupyter.widget-view+json": {
       "model_id": "72f068600b4b4489a2d83a32d6f8e8c0",
       "version_major": 2,
       "version_minor": 0
      },
      "text/plain": [
       "  0%|          | 0/1 [00:00<?, ?it/s]"
      ]
     },
     "metadata": {},
     "output_type": "display_data"
    },
    {
     "data": {
      "application/vnd.jupyter.widget-view+json": {
       "model_id": "84287a226a9146b3989bfaa67e3d163f",
       "version_major": 2,
       "version_minor": 0
      },
      "text/plain": [
       "  0%|          | 0/1 [00:00<?, ?it/s]"
      ]
     },
     "metadata": {},
     "output_type": "display_data"
    },
    {
     "name": "stdout",
     "output_type": "stream",
     "text": [
      "\n",
      "##################################################\n",
      "dimension: 15 | method: gaussian_random_projection\n",
      "[INFO] Concatenating the embeddings to the dataframe...\n",
      "[INFO] - columns beginning with 'e' denote the full embddings.\n",
      "[INFO] - columns beginning with 'd' denote the dimension reduced embeddings.\n",
      "[INFO] Adding time feature columns into dataframe in `.df`.\n",
      "[INFO] Adding 'time_encoding' feature...\n",
      "[INFO] Adding 'time_diff' feature...\n",
      "[INFO] Adding 'timeline_index' feature...\n",
      "[INFO] Padding ids and storing in `.df_padded` and `.array_padded` attributes.\n"
     ]
    },
    {
     "data": {
      "application/vnd.jupyter.widget-view+json": {
       "model_id": "4a9225cda8554e41bbfb76c86ea0ca16",
       "version_major": 2,
       "version_minor": 0
      },
      "text/plain": [
       "  0%|          | 0/9699 [00:00<?, ?it/s]"
      ]
     },
     "metadata": {},
     "output_type": "display_data"
    },
    {
     "name": "stdout",
     "output_type": "stream",
     "text": [
      "[INFO] The path was created for each item in the dataframe, by looking at its history, so to include embeddings in the FFN input, we concatenate the embeddings for each sentence / text.\n"
     ]
    },
    {
     "data": {
      "application/vnd.jupyter.widget-view+json": {
       "model_id": "2691479609ad45b7b7b81374dd6b7e9f",
       "version_major": 2,
       "version_minor": 0
      },
      "text/plain": [
       "  0%|          | 0/2 [00:00<?, ?it/s]"
      ]
     },
     "metadata": {},
     "output_type": "display_data"
    },
    {
     "data": {
      "application/vnd.jupyter.widget-view+json": {
       "model_id": "9e24451792474e1f905d01d8e66cd603",
       "version_major": 2,
       "version_minor": 0
      },
      "text/plain": [
       "  0%|          | 0/1 [00:00<?, ?it/s]"
      ]
     },
     "metadata": {},
     "output_type": "display_data"
    },
    {
     "data": {
      "application/vnd.jupyter.widget-view+json": {
       "model_id": "0bc7838afa6843b8845a503f52e53b7e",
       "version_major": 2,
       "version_minor": 0
      },
      "text/plain": [
       "  0%|          | 0/2 [00:00<?, ?it/s]"
      ]
     },
     "metadata": {},
     "output_type": "display_data"
    },
    {
     "data": {
      "application/vnd.jupyter.widget-view+json": {
       "model_id": "01752e785b7d4eab9cc76bbc9c9acb63",
       "version_major": 2,
       "version_minor": 0
      },
      "text/plain": [
       "  0%|          | 0/2 [00:00<?, ?it/s]"
      ]
     },
     "metadata": {},
     "output_type": "display_data"
    },
    {
     "data": {
      "application/vnd.jupyter.widget-view+json": {
       "model_id": "5f6a214efbda404f8ff9fa1dcf7c4258",
       "version_major": 2,
       "version_minor": 0
      },
      "text/plain": [
       "  0%|          | 0/3 [00:00<?, ?it/s]"
      ]
     },
     "metadata": {},
     "output_type": "display_data"
    },
    {
     "data": {
      "application/vnd.jupyter.widget-view+json": {
       "model_id": "5859a90a657a4e3f87f87b63d1bc311a",
       "version_major": 2,
       "version_minor": 0
      },
      "text/plain": [
       "  0%|          | 0/3 [00:00<?, ?it/s]"
      ]
     },
     "metadata": {},
     "output_type": "display_data"
    },
    {
     "data": {
      "application/vnd.jupyter.widget-view+json": {
       "model_id": "e7901f8b4b054dcdbf69f5bc9a633ca3",
       "version_major": 2,
       "version_minor": 0
      },
      "text/plain": [
       "  0%|          | 0/2 [00:00<?, ?it/s]"
      ]
     },
     "metadata": {},
     "output_type": "display_data"
    },
    {
     "data": {
      "application/vnd.jupyter.widget-view+json": {
       "model_id": "f35afb69a56242abacb6c2c2d59e6183",
       "version_major": 2,
       "version_minor": 0
      },
      "text/plain": [
       "  0%|          | 0/3 [00:00<?, ?it/s]"
      ]
     },
     "metadata": {},
     "output_type": "display_data"
    }
   ],
   "source": [
    "(\n",
    "    swmhau_network_grp_kfold_11,\n",
    "    best_swmhau_network_grp_kfold_11,\n",
    "    _,\n",
    "    __,\n",
    ") = swmhau_network_hyperparameter_search(\n",
    "    history_lengths=[size],\n",
    "    dim_reduce_methods=[\"gaussian_random_projection\"],\n",
    "    results_output=f\"{output_dir}/swmhau_network_grp_focal_{gamma}_{size}_kfold.csv\",\n",
    "    **kwargs,\n",
    ")"
   ]
  },
  {
   "cell_type": "code",
   "execution_count": null,
   "id": "cc2639bd-5381-4de1-909d-bda139bd5445",
   "metadata": {},
   "outputs": [],
   "source": [
    "swmhau_network_grp_kfold_11.groupby(\n",
    "    [\n",
    "        \"dimensions\",\n",
    "        \"output_channels\",\n",
    "        \"sig_depth\",\n",
    "        \"num_heads\",\n",
    "        \"num_layers\",\n",
    "        \"ffn_hidden_dim\",\n",
    "        \"dropout_rate\",\n",
    "        \"learning_rate\",\n",
    "    ]\n",
    ").mean()"
   ]
  },
  {
   "cell_type": "code",
   "execution_count": null,
   "id": "df4bb13b-e9aa-452e-aab1-01812ab0c9d1",
   "metadata": {},
   "outputs": [],
   "source": [
    "best_swmhau_network_grp_kfold_11"
   ]
  },
  {
   "cell_type": "code",
   "execution_count": null,
   "id": "a0aa7272-32d2-43f4-b59c-133b884f9ad5",
   "metadata": {},
   "outputs": [],
   "source": [
    "best_swmhau_network_grp_kfold_11[\"f1\"].mean()"
   ]
  },
  {
   "cell_type": "code",
   "execution_count": null,
   "id": "3cee0991-fe8e-424a-9669-6520a001fe54",
   "metadata": {},
   "outputs": [],
   "source": [
    "best_swmhau_network_grp_kfold_11[\"precision\"].mean()"
   ]
  },
  {
   "cell_type": "code",
   "execution_count": null,
   "id": "23ec51e4-3b62-445a-8c30-9a0a4cbba213",
   "metadata": {},
   "outputs": [],
   "source": [
    "best_swmhau_network_grp_kfold_11[\"recall\"].mean()"
   ]
  },
  {
   "cell_type": "code",
   "execution_count": null,
   "id": "3771a618-4a97-4e60-8eaa-a1b1dea07f97",
   "metadata": {},
   "outputs": [],
   "source": [
    "np.stack(best_swmhau_network_grp_kfold_11[\"f1_scores\"]).mean(axis=0)"
   ]
  },
  {
   "cell_type": "code",
   "execution_count": null,
   "id": "a720d58b-3db5-40fe-93b8-deb92d0bb2da",
   "metadata": {},
   "outputs": [],
   "source": [
    "np.stack(best_swmhau_network_grp_kfold_11[\"precision_scores\"]).mean(axis=0)"
   ]
  },
  {
   "cell_type": "code",
   "execution_count": null,
   "id": "3b780ee0-6d49-42f8-b230-adde72389ef1",
   "metadata": {},
   "outputs": [],
   "source": [
    "np.stack(best_swmhau_network_grp_kfold_11[\"recall_scores\"]).mean(axis=0)"
   ]
  },
  {
   "cell_type": "markdown",
   "id": "4a699ee2-1323-46bb-beee-f7995a33a275",
   "metadata": {
    "tags": []
   },
   "source": [
    "# w=20"
   ]
  },
  {
   "cell_type": "code",
   "execution_count": null,
   "id": "38875513-9858-48c1-88a5-e4c494705700",
   "metadata": {},
   "outputs": [],
   "source": [
    "size = 20"
   ]
  },
  {
   "cell_type": "markdown",
   "id": "2d13d71d-eb75-4526-8eef-ccb3571a5168",
   "metadata": {},
   "source": [
    "## Random Projections"
   ]
  },
  {
   "cell_type": "code",
   "execution_count": null,
   "id": "aa298ca7-86bb-4634-ac07-fbb5d131cf15",
   "metadata": {},
   "outputs": [],
   "source": [
    "(\n",
    "    swmhau_network_grp_kfold_20,\n",
    "    best_swmhau_network_grp_kfold_20,\n",
    "    _,\n",
    "    __,\n",
    ") = swmhau_network_hyperparameter_search(\n",
    "    history_lengths=[size],\n",
    "    dim_reduce_methods=[\"gaussian_random_projection\"],\n",
    "    results_output=f\"{output_dir}/swmhau_network_grp_focal_{gamma}_{size}_kfold.csv\",\n",
    "    **kwargs,\n",
    ")"
   ]
  },
  {
   "cell_type": "code",
   "execution_count": null,
   "id": "a1290304-41e6-43bc-a8e4-0b35f21adbfe",
   "metadata": {},
   "outputs": [],
   "source": [
    "swmhau_network_grp_kfold_20.groupby(\n",
    "    [\n",
    "        \"dimensions\",\n",
    "        \"output_channels\",\n",
    "        \"sig_depth\",\n",
    "        \"num_heads\",\n",
    "        \"num_layers\",\n",
    "        \"ffn_hidden_dim\",\n",
    "        \"dropout_rate\",\n",
    "        \"learning_rate\",\n",
    "    ]\n",
    ").mean()"
   ]
  },
  {
   "cell_type": "code",
   "execution_count": null,
   "id": "bbdef514-1dbc-4d0c-8a5e-246d1bc31b31",
   "metadata": {},
   "outputs": [],
   "source": [
    "best_swmhau_network_grp_kfold_20"
   ]
  },
  {
   "cell_type": "code",
   "execution_count": null,
   "id": "741d75da-d105-409d-a47c-1029792b4231",
   "metadata": {},
   "outputs": [],
   "source": [
    "best_swmhau_network_grp_kfold_20[\"f1\"].mean()"
   ]
  },
  {
   "cell_type": "code",
   "execution_count": null,
   "id": "1ef82d79-afa6-4b49-800a-ca762399ca66",
   "metadata": {},
   "outputs": [],
   "source": [
    "best_swmhau_network_grp_kfold_20[\"precision\"].mean()"
   ]
  },
  {
   "cell_type": "code",
   "execution_count": null,
   "id": "7de9c64a-15ad-47a1-beb0-97d26a1f514a",
   "metadata": {},
   "outputs": [],
   "source": [
    "best_swmhau_network_grp_kfold_20[\"recall\"].mean()"
   ]
  },
  {
   "cell_type": "code",
   "execution_count": null,
   "id": "900eeb94-36db-49a8-b69d-eb1da911bf5d",
   "metadata": {},
   "outputs": [],
   "source": [
    "np.stack(best_swmhau_network_grp_kfold_20[\"f1_scores\"]).mean(axis=0)"
   ]
  },
  {
   "cell_type": "code",
   "execution_count": null,
   "id": "928086c0-f0c0-4ceb-bf24-49a4b34c8d17",
   "metadata": {},
   "outputs": [],
   "source": [
    "np.stack(best_swmhau_network_grp_kfold_20[\"precision_scores\"]).mean(axis=0)"
   ]
  },
  {
   "cell_type": "code",
   "execution_count": null,
   "id": "62d9ab06-8b11-42a6-8aab-30f70ce845fb",
   "metadata": {},
   "outputs": [],
   "source": [
    "np.stack(best_swmhau_network_grp_kfold_20[\"recall_scores\"]).mean(axis=0)"
   ]
  },
  {
   "cell_type": "markdown",
   "id": "9387d218-6df1-41bc-b5b8-33829aa7c961",
   "metadata": {
    "tags": []
   },
   "source": [
    "# w=35"
   ]
  },
  {
   "cell_type": "code",
   "execution_count": null,
   "id": "92617418-575e-41de-88dc-1166bf297801",
   "metadata": {},
   "outputs": [],
   "source": [
    "size = 35"
   ]
  },
  {
   "cell_type": "markdown",
   "id": "3974e06c-a795-4704-b86d-97aa8863190f",
   "metadata": {
    "tags": []
   },
   "source": [
    "## Random Projections"
   ]
  },
  {
   "cell_type": "code",
   "execution_count": null,
   "id": "44a57233-a0b2-4a0b-9255-9d449cedde2b",
   "metadata": {},
   "outputs": [],
   "source": [
    "(\n",
    "    swmhau_network_grp_kfold_35,\n",
    "    best_swmhau_network_grp_kfold_35,\n",
    "    _,\n",
    "    __,\n",
    ") = swmhau_network_hyperparameter_search(\n",
    "    history_lengths=[size],\n",
    "    dim_reduce_methods=[\"gaussian_random_projection\"],\n",
    "    results_output=f\"{output_dir}/swmhau_network_grp_focal_{gamma}_{size}_kfold.csv\",\n",
    "    **kwargs,\n",
    ")"
   ]
  },
  {
   "cell_type": "code",
   "execution_count": null,
   "id": "f1f25da7-9415-4fe3-9184-b16356aa7fe2",
   "metadata": {},
   "outputs": [],
   "source": [
    "swmhau_network_grp_kfold_35.groupby(\n",
    "    [\n",
    "        \"dimensions\",\n",
    "        \"output_channels\",\n",
    "        \"sig_depth\",\n",
    "        \"num_heads\",\n",
    "        \"num_layers\",\n",
    "        \"ffn_hidden_dim\",\n",
    "        \"dropout_rate\",\n",
    "        \"learning_rate\",\n",
    "    ]\n",
    ").mean()"
   ]
  },
  {
   "cell_type": "code",
   "execution_count": null,
   "id": "8241866e-398e-45c6-913b-7cd44690a52d",
   "metadata": {},
   "outputs": [],
   "source": [
    "best_swmhau_network_grp_kfold_35"
   ]
  },
  {
   "cell_type": "code",
   "execution_count": null,
   "id": "3f4be056-6bbf-40c0-86d5-ea9ab5f65aa3",
   "metadata": {},
   "outputs": [],
   "source": [
    "best_swmhau_network_grp_kfold_35[\"f1\"].mean()"
   ]
  },
  {
   "cell_type": "code",
   "execution_count": null,
   "id": "a4fa98a7-ad6a-4923-a350-3c9d884fef7b",
   "metadata": {},
   "outputs": [],
   "source": [
    "best_swmhau_network_grp_kfold_35[\"precision\"].mean()"
   ]
  },
  {
   "cell_type": "code",
   "execution_count": null,
   "id": "db757488-e4e7-4e4c-b1dc-467ca8516202",
   "metadata": {},
   "outputs": [],
   "source": [
    "best_swmhau_network_grp_kfold_35[\"recall\"].mean()"
   ]
  },
  {
   "cell_type": "code",
   "execution_count": null,
   "id": "078f25af-2abc-46a0-ad62-9761703c0540",
   "metadata": {},
   "outputs": [],
   "source": [
    "np.stack(best_swmhau_network_grp_kfold_35[\"f1_scores\"]).mean(axis=0)"
   ]
  },
  {
   "cell_type": "code",
   "execution_count": null,
   "id": "832dd0d2-2f11-420d-8347-ee388e3c4ddc",
   "metadata": {},
   "outputs": [],
   "source": [
    "np.stack(best_swmhau_network_grp_kfold_35[\"precision_scores\"]).mean(axis=0)"
   ]
  },
  {
   "cell_type": "code",
   "execution_count": null,
   "id": "6a95b9e6-0ad3-4739-a1da-305d582a609f",
   "metadata": {},
   "outputs": [],
   "source": [
    "np.stack(best_swmhau_network_grp_kfold_35[\"recall_scores\"]).mean(axis=0)"
   ]
  },
  {
   "cell_type": "markdown",
   "id": "4d238a9a-412d-4636-bed8-4f4177f0b7a2",
   "metadata": {
    "tags": []
   },
   "source": [
    "# w=80"
   ]
  },
  {
   "cell_type": "code",
   "execution_count": null,
   "id": "17f54364-89a4-4523-be6e-0e8360d3e6a8",
   "metadata": {},
   "outputs": [],
   "source": [
    "size = 80"
   ]
  },
  {
   "cell_type": "markdown",
   "id": "d03ebc14-9626-4de9-927a-c03c694b48b0",
   "metadata": {},
   "source": [
    "## Random Projections"
   ]
  },
  {
   "cell_type": "code",
   "execution_count": null,
   "id": "8f347b9b-9b03-4943-92cf-60a4efdd3aae",
   "metadata": {},
   "outputs": [],
   "source": [
    "(\n",
    "    swmhau_network_grp_kfold_80,\n",
    "    best_swmhau_network_grp_kfold_80,\n",
    "    _,\n",
    "    __,\n",
    ") = swmhau_network_hyperparameter_search(\n",
    "    history_lengths=[size],\n",
    "    dim_reduce_methods=[\"gaussian_random_projection\"],\n",
    "    results_output=f\"{output_dir}/swmhau_network_grp_focal_{gamma}_{size}_kfold.csv\",\n",
    "    **kwargs,\n",
    ")"
   ]
  },
  {
   "cell_type": "code",
   "execution_count": null,
   "id": "4fb2809b-c9eb-4d8e-a93c-f735ffa86d4a",
   "metadata": {},
   "outputs": [],
   "source": [
    "swmhau_network_grp_kfold_80.groupby(\n",
    "    [\n",
    "        \"dimensions\",\n",
    "        \"output_channels\",\n",
    "        \"sig_depth\",\n",
    "        \"num_heads\",\n",
    "        \"num_layers\",\n",
    "        \"ffn_hidden_dim\",\n",
    "        \"dropout_rate\",\n",
    "        \"learning_rate\",\n",
    "    ]\n",
    ").mean()"
   ]
  },
  {
   "cell_type": "code",
   "execution_count": null,
   "id": "67b21286-a4a6-4f85-a60d-e49d231a695b",
   "metadata": {},
   "outputs": [],
   "source": [
    "best_swmhau_network_grp_kfold_80"
   ]
  },
  {
   "cell_type": "code",
   "execution_count": null,
   "id": "4bf343c9-e5cf-4f57-ac94-2bbb2e289805",
   "metadata": {},
   "outputs": [],
   "source": [
    "best_swmhau_network_grp_kfold_80[\"f1\"].mean()"
   ]
  },
  {
   "cell_type": "code",
   "execution_count": null,
   "id": "dbdac3b6-2e84-4678-9aac-f6e84401dd09",
   "metadata": {},
   "outputs": [],
   "source": [
    "best_swmhau_network_grp_kfold_80[\"precision\"].mean()"
   ]
  },
  {
   "cell_type": "code",
   "execution_count": null,
   "id": "b88902fb-9937-47ef-b203-c08ce3dbe330",
   "metadata": {},
   "outputs": [],
   "source": [
    "best_swmhau_network_grp_kfold_80[\"recall\"].mean()"
   ]
  },
  {
   "cell_type": "code",
   "execution_count": null,
   "id": "6b436604-993a-46f8-82a0-2271f38f90e1",
   "metadata": {},
   "outputs": [],
   "source": [
    "np.stack(best_swmhau_network_grp_kfold_80[\"f1_scores\"]).mean(axis=0)"
   ]
  },
  {
   "cell_type": "code",
   "execution_count": null,
   "id": "7ec6bbfa-03d9-4bb5-8c70-b5226b645644",
   "metadata": {},
   "outputs": [],
   "source": [
    "np.stack(best_swmhau_network_grp_kfold_80[\"precision_scores\"]).mean(axis=0)"
   ]
  },
  {
   "cell_type": "code",
   "execution_count": null,
   "id": "441f60aa-bf0a-46d6-8dda-95da5ce5bcd4",
   "metadata": {},
   "outputs": [],
   "source": [
    "np.stack(best_swmhau_network_grp_kfold_80[\"recall_scores\"]).mean(axis=0)"
   ]
  },
  {
   "cell_type": "markdown",
   "id": "75e20aba-f768-4d35-9180-e5598257b23e",
   "metadata": {},
   "source": [
    "## w=110"
   ]
  },
  {
   "cell_type": "code",
   "execution_count": null,
   "id": "083a9f80-ca4a-469e-96c4-746063c6ee68",
   "metadata": {},
   "outputs": [],
   "source": [
    "size = 110"
   ]
  },
  {
   "cell_type": "markdown",
   "id": "b084b3ff-a738-4742-a72b-33a794e418a3",
   "metadata": {},
   "source": [
    "## Random Projections"
   ]
  },
  {
   "cell_type": "code",
   "execution_count": null,
   "id": "1b364409-d905-4857-99cb-ed06a451fca1",
   "metadata": {},
   "outputs": [],
   "source": [
    "(\n",
    "    swmhau_network_grp_kfold_110,\n",
    "    best_swmhau_network_grp_kfold_110,\n",
    "    _,\n",
    "    __,\n",
    ") = swmhau_network_hyperparameter_search(\n",
    "    history_lengths=[size],\n",
    "    dim_reduce_methods=[\"gaussian_random_projection\"],\n",
    "    results_output=f\"{output_dir}/swmhau_network_grp_focal_{gamma}_{size}_kfold.csv\",\n",
    "    **kwargs,\n",
    ")"
   ]
  },
  {
   "cell_type": "code",
   "execution_count": null,
   "id": "2b3b4cb3-de13-4f0a-8bfd-049a043d648b",
   "metadata": {},
   "outputs": [],
   "source": [
    "swmhau_network_grp_kfold_5.groupby(\n",
    "    [\n",
    "        \"dimensions\",\n",
    "        \"output_channels\",\n",
    "        \"sig_depth\",\n",
    "        \"num_heads\",\n",
    "        \"num_layers\",\n",
    "        \"ffn_hidden_dim\",\n",
    "        \"dropout_rate\",\n",
    "        \"learning_rate\",\n",
    "    ]\n",
    ").mean()"
   ]
  },
  {
   "cell_type": "code",
   "execution_count": null,
   "id": "0c15deb9-587b-42e7-9661-42e07f752ee3",
   "metadata": {},
   "outputs": [],
   "source": [
    "best_swmhau_network_grp_kfold_20"
   ]
  },
  {
   "cell_type": "code",
   "execution_count": null,
   "id": "9c3e5332",
   "metadata": {},
   "outputs": [],
   "source": [
    "best_swmhau_network_grp_kfold_20[\"f1\"].mean()"
   ]
  },
  {
   "cell_type": "code",
   "execution_count": null,
   "id": "4eb28d48",
   "metadata": {},
   "outputs": [],
   "source": [
    "best_swmhau_network_grp_kfold_20[\"precision\"].mean()"
   ]
  },
  {
   "cell_type": "code",
   "execution_count": null,
   "id": "acd1ee14",
   "metadata": {},
   "outputs": [],
   "source": [
    "best_swmhau_network_grp_kfold_20[\"recall\"].mean()"
   ]
  },
  {
   "cell_type": "code",
   "execution_count": null,
   "id": "2892ffc8",
   "metadata": {},
   "outputs": [],
   "source": [
    "np.stack(best_swmhau_network_grp_kfold_20[\"f1_scores\"]).mean(axis=0)"
   ]
  },
  {
   "cell_type": "code",
   "execution_count": null,
   "id": "45030445",
   "metadata": {},
   "outputs": [],
   "source": [
    "np.stack(best_swmhau_network_grp_kfold_20[\"precision_scores\"]).mean(axis=0)"
   ]
  },
  {
   "cell_type": "code",
   "execution_count": null,
   "id": "d39413fe",
   "metadata": {},
   "outputs": [],
   "source": [
    "np.stack(best_swmhau_network_grp_kfold_20[\"recall_scores\"]).mean(axis=0)"
   ]
  }
 ],
 "metadata": {
  "kernelspec": {
   "display_name": "nlpsig-networks (Conda)",
   "language": "python",
   "name": "sys_nlpsig-networks"
  },
  "language_info": {
   "codemirror_mode": {
    "name": "ipython",
    "version": 3
   },
   "file_extension": ".py",
   "mimetype": "text/x-python",
   "name": "python",
   "nbconvert_exporter": "python",
   "pygments_lexer": "ipython3",
   "version": "3.8.17"
  }
 },
 "nbformat": 4,
 "nbformat_minor": 5
}
