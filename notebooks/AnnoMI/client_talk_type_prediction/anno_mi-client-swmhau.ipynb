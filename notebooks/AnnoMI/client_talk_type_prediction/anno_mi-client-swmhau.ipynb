{
 "cells": [
  {
   "cell_type": "code",
   "execution_count": 1,
   "id": "a983a5e8",
   "metadata": {},
   "outputs": [],
   "source": [
    "import numpy as np\n",
    "import pickle\n",
    "import os\n",
    "from tqdm.notebook import tqdm\n",
    "\n",
    "seed = 2023"
   ]
  },
  {
   "cell_type": "code",
   "execution_count": 2,
   "id": "90c6b0be-804e-4176-bf0b-8ccf2298b3c3",
   "metadata": {},
   "outputs": [
    {
     "data": {
      "text/plain": [
       "device(type='cuda')"
      ]
     },
     "execution_count": 2,
     "metadata": {},
     "output_type": "execute_result"
    }
   ],
   "source": [
    "import torch\n",
    "\n",
    "# set device\n",
    "device = torch.device(\"cuda\" if torch.cuda.is_available() else \"cpu\")\n",
    "device"
   ]
  },
  {
   "cell_type": "code",
   "execution_count": 3,
   "id": "e4e666cc",
   "metadata": {},
   "outputs": [],
   "source": [
    "from nlpsig_networks.scripts.swmhau_network_functions import (\n",
    "    swmhau_network_hyperparameter_search,\n",
    ")"
   ]
  },
  {
   "cell_type": "code",
   "execution_count": 4,
   "id": "6e918dde",
   "metadata": {},
   "outputs": [],
   "source": [
    "output_dir = \"client_talk_type_output\"\n",
    "if not os.path.isdir(output_dir):\n",
    "    os.makedirs(output_dir)"
   ]
  },
  {
   "cell_type": "markdown",
   "id": "f7409a03",
   "metadata": {},
   "source": [
    "## AnnoMI"
   ]
  },
  {
   "cell_type": "code",
   "execution_count": 5,
   "id": "f00bb922",
   "metadata": {},
   "outputs": [],
   "source": [
    "%run ../load_anno_mi.py"
   ]
  },
  {
   "cell_type": "code",
   "execution_count": 6,
   "id": "720d820f",
   "metadata": {},
   "outputs": [
    {
     "data": {
      "text/html": [
       "<div>\n",
       "<style scoped>\n",
       "    .dataframe tbody tr th:only-of-type {\n",
       "        vertical-align: middle;\n",
       "    }\n",
       "\n",
       "    .dataframe tbody tr th {\n",
       "        vertical-align: top;\n",
       "    }\n",
       "\n",
       "    .dataframe thead th {\n",
       "        text-align: right;\n",
       "    }\n",
       "</style>\n",
       "<table border=\"1\" class=\"dataframe\">\n",
       "  <thead>\n",
       "    <tr style=\"text-align: right;\">\n",
       "      <th></th>\n",
       "      <th>mi_quality</th>\n",
       "      <th>transcript_id</th>\n",
       "      <th>topic</th>\n",
       "      <th>utterance_id</th>\n",
       "      <th>interlocutor</th>\n",
       "      <th>timestamp</th>\n",
       "      <th>utterance_text</th>\n",
       "      <th>annotator_id</th>\n",
       "      <th>therapist_input_exists</th>\n",
       "      <th>therapist_input_subtype</th>\n",
       "      <th>reflection_exists</th>\n",
       "      <th>reflection_subtype</th>\n",
       "      <th>question_exists</th>\n",
       "      <th>question_subtype</th>\n",
       "      <th>main_therapist_behaviour</th>\n",
       "      <th>client_talk_type</th>\n",
       "      <th>datetime</th>\n",
       "      <th>speaker</th>\n",
       "    </tr>\n",
       "  </thead>\n",
       "  <tbody>\n",
       "    <tr>\n",
       "      <th>0</th>\n",
       "      <td>high</td>\n",
       "      <td>0</td>\n",
       "      <td>reducing alcohol consumption</td>\n",
       "      <td>0</td>\n",
       "      <td>therapist</td>\n",
       "      <td>00:00:13</td>\n",
       "      <td>Thanks for filling it out. We give this form t...</td>\n",
       "      <td>3</td>\n",
       "      <td>False</td>\n",
       "      <td>NaN</td>\n",
       "      <td>False</td>\n",
       "      <td>NaN</td>\n",
       "      <td>True</td>\n",
       "      <td>open</td>\n",
       "      <td>question</td>\n",
       "      <td>NaN</td>\n",
       "      <td>2023-11-09 00:00:13</td>\n",
       "      <td>-1</td>\n",
       "    </tr>\n",
       "    <tr>\n",
       "      <th>1</th>\n",
       "      <td>high</td>\n",
       "      <td>0</td>\n",
       "      <td>reducing alcohol consumption</td>\n",
       "      <td>1</td>\n",
       "      <td>client</td>\n",
       "      <td>00:00:24</td>\n",
       "      <td>Sure.</td>\n",
       "      <td>3</td>\n",
       "      <td>NaN</td>\n",
       "      <td>NaN</td>\n",
       "      <td>NaN</td>\n",
       "      <td>NaN</td>\n",
       "      <td>NaN</td>\n",
       "      <td>NaN</td>\n",
       "      <td>NaN</td>\n",
       "      <td>neutral</td>\n",
       "      <td>2023-11-09 00:00:24</td>\n",
       "      <td>1</td>\n",
       "    </tr>\n",
       "    <tr>\n",
       "      <th>2</th>\n",
       "      <td>high</td>\n",
       "      <td>0</td>\n",
       "      <td>reducing alcohol consumption</td>\n",
       "      <td>2</td>\n",
       "      <td>therapist</td>\n",
       "      <td>00:00:25</td>\n",
       "      <td>So, let's see. It looks that you put-- You dri...</td>\n",
       "      <td>3</td>\n",
       "      <td>True</td>\n",
       "      <td>information</td>\n",
       "      <td>False</td>\n",
       "      <td>NaN</td>\n",
       "      <td>False</td>\n",
       "      <td>NaN</td>\n",
       "      <td>therapist_input</td>\n",
       "      <td>NaN</td>\n",
       "      <td>2023-11-09 00:00:25</td>\n",
       "      <td>-1</td>\n",
       "    </tr>\n",
       "    <tr>\n",
       "      <th>3</th>\n",
       "      <td>high</td>\n",
       "      <td>0</td>\n",
       "      <td>reducing alcohol consumption</td>\n",
       "      <td>3</td>\n",
       "      <td>client</td>\n",
       "      <td>00:00:34</td>\n",
       "      <td>Mm-hmm.</td>\n",
       "      <td>3</td>\n",
       "      <td>NaN</td>\n",
       "      <td>NaN</td>\n",
       "      <td>NaN</td>\n",
       "      <td>NaN</td>\n",
       "      <td>NaN</td>\n",
       "      <td>NaN</td>\n",
       "      <td>NaN</td>\n",
       "      <td>neutral</td>\n",
       "      <td>2023-11-09 00:00:34</td>\n",
       "      <td>1</td>\n",
       "    </tr>\n",
       "    <tr>\n",
       "      <th>4</th>\n",
       "      <td>high</td>\n",
       "      <td>0</td>\n",
       "      <td>reducing alcohol consumption</td>\n",
       "      <td>4</td>\n",
       "      <td>therapist</td>\n",
       "      <td>00:00:34</td>\n",
       "      <td>-and you usually have three to four drinks whe...</td>\n",
       "      <td>3</td>\n",
       "      <td>True</td>\n",
       "      <td>information</td>\n",
       "      <td>False</td>\n",
       "      <td>NaN</td>\n",
       "      <td>False</td>\n",
       "      <td>NaN</td>\n",
       "      <td>therapist_input</td>\n",
       "      <td>NaN</td>\n",
       "      <td>2023-11-09 00:00:34</td>\n",
       "      <td>-1</td>\n",
       "    </tr>\n",
       "  </tbody>\n",
       "</table>\n",
       "</div>"
      ],
      "text/plain": [
       "  mi_quality  transcript_id                         topic  utterance_id  \\\n",
       "0       high              0  reducing alcohol consumption             0   \n",
       "1       high              0  reducing alcohol consumption             1   \n",
       "2       high              0  reducing alcohol consumption             2   \n",
       "3       high              0  reducing alcohol consumption             3   \n",
       "4       high              0  reducing alcohol consumption             4   \n",
       "\n",
       "  interlocutor timestamp                                     utterance_text  \\\n",
       "0    therapist  00:00:13  Thanks for filling it out. We give this form t...   \n",
       "1       client  00:00:24                                              Sure.   \n",
       "2    therapist  00:00:25  So, let's see. It looks that you put-- You dri...   \n",
       "3       client  00:00:34                                            Mm-hmm.   \n",
       "4    therapist  00:00:34  -and you usually have three to four drinks whe...   \n",
       "\n",
       "   annotator_id therapist_input_exists therapist_input_subtype  \\\n",
       "0             3                  False                     NaN   \n",
       "1             3                    NaN                     NaN   \n",
       "2             3                   True             information   \n",
       "3             3                    NaN                     NaN   \n",
       "4             3                   True             information   \n",
       "\n",
       "  reflection_exists reflection_subtype question_exists question_subtype  \\\n",
       "0             False                NaN            True             open   \n",
       "1               NaN                NaN             NaN              NaN   \n",
       "2             False                NaN           False              NaN   \n",
       "3               NaN                NaN             NaN              NaN   \n",
       "4             False                NaN           False              NaN   \n",
       "\n",
       "  main_therapist_behaviour client_talk_type            datetime  speaker  \n",
       "0                 question              NaN 2023-11-09 00:00:13       -1  \n",
       "1                      NaN          neutral 2023-11-09 00:00:24        1  \n",
       "2          therapist_input              NaN 2023-11-09 00:00:25       -1  \n",
       "3                      NaN          neutral 2023-11-09 00:00:34        1  \n",
       "4          therapist_input              NaN 2023-11-09 00:00:34       -1  "
      ]
     },
     "execution_count": 6,
     "metadata": {},
     "output_type": "execute_result"
    }
   ],
   "source": [
    "anno_mi.head()"
   ]
  },
  {
   "cell_type": "code",
   "execution_count": 7,
   "id": "84d5594d",
   "metadata": {},
   "outputs": [
    {
     "data": {
      "text/plain": [
       "(9699, 384)"
      ]
     },
     "execution_count": 7,
     "metadata": {},
     "output_type": "execute_result"
    }
   ],
   "source": [
    "with open(\"../anno_mi_sbert.pkl\", \"rb\") as f:\n",
    "    sbert_embeddings = pickle.load(f)\n",
    "\n",
    "sbert_embeddings.shape"
   ]
  },
  {
   "cell_type": "markdown",
   "id": "da4ff92d",
   "metadata": {},
   "source": [
    "# swmhau Network"
   ]
  },
  {
   "cell_type": "markdown",
   "id": "32ae1a72",
   "metadata": {},
   "source": [
    "## Obtaining path by looking at post history\n",
    "\n",
    "We can obtain a path by looking at the history of each post. Here we look at the last 10 posts (and pad with vectors of zeros if there are less than 10 posts) including the current post.\n",
    "\n",
    "We only want to consider paths that correspond to a client's utterance as we want to model a change in mood at that time. Their history will still contain the therapist's utterances too."
   ]
  },
  {
   "cell_type": "code",
   "execution_count": 8,
   "id": "90bfd87c",
   "metadata": {},
   "outputs": [],
   "source": [
    "features = [\"time_encoding\", \"timeline_index\"]\n",
    "standardise_method = [\"z_score\", None]\n",
    "include_features_in_path = True\n",
    "include_features_in_input = True"
   ]
  },
  {
   "cell_type": "code",
   "execution_count": 9,
   "id": "9e9bee3b",
   "metadata": {},
   "outputs": [],
   "source": [
    "num_epochs = 100\n",
    "dimensions = [15]\n",
    "# define swmhau parameters: (output_channels, sig_depth, num_heads)\n",
    "swmhau_parameters = [(12, 3, 10), (10, 3, 5)]\n",
    "num_layers = [1]\n",
    "ffn_hidden_dim_sizes = [[32,32], [128,128], [512,512]]\n",
    "dropout_rates = [0.1]\n",
    "learning_rates = [5e-4, 3e-4, 1e-4]\n",
    "seeds = [1, 12, 123]\n",
    "loss = \"focal\"\n",
    "gamma = 2\n",
    "validation_metric = \"f1\"\n",
    "patience = 3"
   ]
  },
  {
   "cell_type": "code",
   "execution_count": 10,
   "id": "e7bfd9fe",
   "metadata": {},
   "outputs": [],
   "source": [
    "kwargs = {\n",
    "    \"num_epochs\": num_epochs,\n",
    "    \"df\": anno_mi,\n",
    "    \"id_column\": \"transcript_id\",\n",
    "    \"label_column\": \"client_talk_type\",\n",
    "    \"embeddings\": sbert_embeddings,\n",
    "    \"y_data\": y_data_client,\n",
    "    \"output_dim\": output_dim_client,\n",
    "    \"dimensions\": dimensions,\n",
    "    \"log_signature\": True,\n",
    "    \"pooling\": \"signature\",\n",
    "    \"swmhau_parameters\": swmhau_parameters,\n",
    "    \"num_layers\": num_layers,\n",
    "    \"ffn_hidden_dim_sizes\": ffn_hidden_dim_sizes,\n",
    "    \"dropout_rates\": dropout_rates,\n",
    "    \"learning_rates\": learning_rates,\n",
    "    \"seeds\": seeds,\n",
    "    \"loss\": loss,\n",
    "    \"gamma\": gamma,\n",
    "    \"device\": device,\n",
    "    \"features\": features,\n",
    "    \"standardise_method\": standardise_method,\n",
    "    \"include_features_in_path\": include_features_in_path,\n",
    "    \"include_features_in_input\": include_features_in_input,\n",
    "    \"path_indices\": client_index,\n",
    "    \"split_ids\": client_transcript_id,\n",
    "    \"k_fold\": True,\n",
    "    \"patience\": patience,\n",
    "    \"validation_metric\": validation_metric,\n",
    "    \"verbose\": False,\n",
    "}"
   ]
  },
  {
   "cell_type": "markdown",
   "id": "60b17594-c534-4167-b9ab-f22610eb24fd",
   "metadata": {
    "tags": []
   },
   "source": [
    "# w=5"
   ]
  },
  {
   "cell_type": "code",
   "execution_count": 11,
   "id": "335bebc1-a48e-4551-ba19-d5a86e9a8779",
   "metadata": {},
   "outputs": [],
   "source": [
    "size = 5"
   ]
  },
  {
   "cell_type": "markdown",
   "id": "f0787150-8266-48ee-97f5-5f711ce899c7",
   "metadata": {},
   "source": [
    "## umap"
   ]
  },
  {
   "cell_type": "code",
   "execution_count": 12,
   "id": "13a67a66",
   "metadata": {},
   "outputs": [
    {
     "data": {
      "application/vnd.jupyter.widget-view+json": {
       "model_id": "37fee62447e54107b4502c3152d96e7d",
       "version_major": 2,
       "version_minor": 0
      },
      "text/plain": [
       "  0%|          | 0/1 [00:00<?, ?it/s]"
      ]
     },
     "metadata": {},
     "output_type": "display_data"
    },
    {
     "data": {
      "application/vnd.jupyter.widget-view+json": {
       "model_id": "891a2a67c20246129bd0a7500e015bea",
       "version_major": 2,
       "version_minor": 0
      },
      "text/plain": [
       "  0%|          | 0/1 [00:00<?, ?it/s]"
      ]
     },
     "metadata": {},
     "output_type": "display_data"
    },
    {
     "data": {
      "application/vnd.jupyter.widget-view+json": {
       "model_id": "f90a4db8cd15471493c44c1ca85a38bd",
       "version_major": 2,
       "version_minor": 0
      },
      "text/plain": [
       "  0%|          | 0/1 [00:00<?, ?it/s]"
      ]
     },
     "metadata": {},
     "output_type": "display_data"
    },
    {
     "name": "stdout",
     "output_type": "stream",
     "text": [
      "\n",
      "##################################################\n",
      "dimension: 15 | method: umap\n",
      "[INFO] Concatenating the embeddings to the dataframe...\n",
      "[INFO] - columns beginning with 'e' denote the full embddings.\n",
      "[INFO] - columns beginning with 'd' denote the dimension reduced embeddings.\n",
      "[INFO] Adding time feature columns into dataframe in `.df`.\n",
      "[INFO] Adding 'time_encoding' feature...\n",
      "[INFO] Adding 'time_diff' feature...\n",
      "[INFO] Adding 'timeline_index' feature...\n",
      "[INFO] Padding ids and storing in `.df_padded` and `.array_padded` attributes.\n"
     ]
    },
    {
     "data": {
      "application/vnd.jupyter.widget-view+json": {
       "model_id": "a78de0dd3f27429aa1100947bcd25daa",
       "version_major": 2,
       "version_minor": 0
      },
      "text/plain": [
       "  0%|          | 0/9699 [00:00<?, ?it/s]"
      ]
     },
     "metadata": {},
     "output_type": "display_data"
    },
    {
     "name": "stdout",
     "output_type": "stream",
     "text": [
      "[INFO] The path was created for each item in the dataframe, by looking at its history, so to include embeddings in the FFN input, we concatenate the embeddings for each sentence / text.\n"
     ]
    },
    {
     "data": {
      "application/vnd.jupyter.widget-view+json": {
       "model_id": "deeb64f9bf9644658c9466bdc6050907",
       "version_major": 2,
       "version_minor": 0
      },
      "text/plain": [
       "  0%|          | 0/2 [00:00<?, ?it/s]"
      ]
     },
     "metadata": {},
     "output_type": "display_data"
    },
    {
     "data": {
      "application/vnd.jupyter.widget-view+json": {
       "model_id": "c07272e07c3346428e3eb50d364ae9f6",
       "version_major": 2,
       "version_minor": 0
      },
      "text/plain": [
       "  0%|          | 0/1 [00:00<?, ?it/s]"
      ]
     },
     "metadata": {},
     "output_type": "display_data"
    },
    {
     "data": {
      "application/vnd.jupyter.widget-view+json": {
       "model_id": "ee80a7cde42b4d27ab91aeba62bb995c",
       "version_major": 2,
       "version_minor": 0
      },
      "text/plain": [
       "  0%|          | 0/3 [00:00<?, ?it/s]"
      ]
     },
     "metadata": {},
     "output_type": "display_data"
    },
    {
     "data": {
      "application/vnd.jupyter.widget-view+json": {
       "model_id": "1df808266e194085b9159fe01f232505",
       "version_major": 2,
       "version_minor": 0
      },
      "text/plain": [
       "  0%|          | 0/1 [00:00<?, ?it/s]"
      ]
     },
     "metadata": {},
     "output_type": "display_data"
    },
    {
     "data": {
      "application/vnd.jupyter.widget-view+json": {
       "model_id": "1bae4ee1b80846dca014a4c45716e316",
       "version_major": 2,
       "version_minor": 0
      },
      "text/plain": [
       "  0%|          | 0/3 [00:00<?, ?it/s]"
      ]
     },
     "metadata": {},
     "output_type": "display_data"
    },
    {
     "data": {
      "application/vnd.jupyter.widget-view+json": {
       "model_id": "f5a3c7fa1cc64249b6bf3863f9287489",
       "version_major": 2,
       "version_minor": 0
      },
      "text/plain": [
       "  0%|          | 0/1 [00:00<?, ?it/s]"
      ]
     },
     "metadata": {},
     "output_type": "display_data"
    },
    {
     "data": {
      "application/vnd.jupyter.widget-view+json": {
       "model_id": "2067d473cb3c43d9b1cc9331ebe6f40a",
       "version_major": 2,
       "version_minor": 0
      },
      "text/plain": [
       "  0%|          | 0/3 [00:00<?, ?it/s]"
      ]
     },
     "metadata": {},
     "output_type": "display_data"
    },
    {
     "data": {
      "application/vnd.jupyter.widget-view+json": {
       "model_id": "4c015723540b44bcad95804aa4e2a21c",
       "version_major": 2,
       "version_minor": 0
      },
      "text/plain": [
       "  0%|          | 0/1 [00:00<?, ?it/s]"
      ]
     },
     "metadata": {},
     "output_type": "display_data"
    },
    {
     "data": {
      "application/vnd.jupyter.widget-view+json": {
       "model_id": "3784840a595d4a239b49798f19ddd7d9",
       "version_major": 2,
       "version_minor": 0
      },
      "text/plain": [
       "  0%|          | 0/3 [00:00<?, ?it/s]"
      ]
     },
     "metadata": {},
     "output_type": "display_data"
    },
    {
     "data": {
      "application/vnd.jupyter.widget-view+json": {
       "model_id": "364b996868cc4f95b95e4da925f4f769",
       "version_major": 2,
       "version_minor": 0
      },
      "text/plain": [
       "  0%|          | 0/1 [00:00<?, ?it/s]"
      ]
     },
     "metadata": {},
     "output_type": "display_data"
    },
    {
     "data": {
      "application/vnd.jupyter.widget-view+json": {
       "model_id": "e78e0bd4bd5c46c4b48bca38227ff25f",
       "version_major": 2,
       "version_minor": 0
      },
      "text/plain": [
       "  0%|          | 0/3 [00:00<?, ?it/s]"
      ]
     },
     "metadata": {},
     "output_type": "display_data"
    },
    {
     "data": {
      "application/vnd.jupyter.widget-view+json": {
       "model_id": "507e85d4443c49e0a7e8e210ee03f562",
       "version_major": 2,
       "version_minor": 0
      },
      "text/plain": [
       "  0%|          | 0/1 [00:00<?, ?it/s]"
      ]
     },
     "metadata": {},
     "output_type": "display_data"
    },
    {
     "data": {
      "application/vnd.jupyter.widget-view+json": {
       "model_id": "1c8353026c204dabb94688cb8739ea1f",
       "version_major": 2,
       "version_minor": 0
      },
      "text/plain": [
       "  0%|          | 0/3 [00:00<?, ?it/s]"
      ]
     },
     "metadata": {},
     "output_type": "display_data"
    },
    {
     "data": {
      "application/vnd.jupyter.widget-view+json": {
       "model_id": "6a8a5b693fd04369b4b883cfa6dca919",
       "version_major": 2,
       "version_minor": 0
      },
      "text/plain": [
       "  0%|          | 0/1 [00:00<?, ?it/s]"
      ]
     },
     "metadata": {},
     "output_type": "display_data"
    },
    {
     "data": {
      "application/vnd.jupyter.widget-view+json": {
       "model_id": "c97dcfc7a32a48e494b43ace53abedb9",
       "version_major": 2,
       "version_minor": 0
      },
      "text/plain": [
       "  0%|          | 0/3 [00:00<?, ?it/s]"
      ]
     },
     "metadata": {},
     "output_type": "display_data"
    },
    {
     "data": {
      "application/vnd.jupyter.widget-view+json": {
       "model_id": "2bc9baf55b7342dd8077da13242aa3a2",
       "version_major": 2,
       "version_minor": 0
      },
      "text/plain": [
       "  0%|          | 0/1 [00:00<?, ?it/s]"
      ]
     },
     "metadata": {},
     "output_type": "display_data"
    },
    {
     "data": {
      "application/vnd.jupyter.widget-view+json": {
       "model_id": "55b4ff8a89634719967ec2ea8ef2b57b",
       "version_major": 2,
       "version_minor": 0
      },
      "text/plain": [
       "  0%|          | 0/3 [00:00<?, ?it/s]"
      ]
     },
     "metadata": {},
     "output_type": "display_data"
    },
    {
     "name": "stdout",
     "output_type": "stream",
     "text": [
      "[INFO] Concatenating the embeddings to the dataframe...\n",
      "[INFO] - columns beginning with 'e' denote the full embddings.\n",
      "[INFO] - columns beginning with 'd' denote the dimension reduced embeddings.\n",
      "[INFO] Adding time feature columns into dataframe in `.df`.\n",
      "[INFO] Adding 'time_encoding' feature...\n",
      "[INFO] Adding 'time_diff' feature...\n",
      "[INFO] Adding 'timeline_index' feature...\n",
      "[INFO] Padding ids and storing in `.df_padded` and `.array_padded` attributes.\n"
     ]
    },
    {
     "data": {
      "application/vnd.jupyter.widget-view+json": {
       "model_id": "76137aa2caad4ce998b4d93fbaaea9c7",
       "version_major": 2,
       "version_minor": 0
      },
      "text/plain": [
       "  0%|          | 0/9699 [00:00<?, ?it/s]"
      ]
     },
     "metadata": {},
     "output_type": "display_data"
    },
    {
     "name": "stdout",
     "output_type": "stream",
     "text": [
      "[INFO] The path was created for each item in the dataframe, by looking at its history, so to include embeddings in the FFN input, we concatenate the embeddings for each sentence / text.\n",
      "saving results dataframe to CSV for this hyperparameter search in client_talk_type_output/swmhau_network_umap_focal_2_5_kfold.csv\n",
      "saving the best model results dataframe to CSV for this hyperparameter search in client_talk_type_output/swmhau_network_umap_focal_2_5_kfold_best_model.csv\n"
     ]
    }
   ],
   "source": [
    "(\n",
    "    swmhau_network_umap_kfold_5,\n",
    "    best_swmhau_network_umap_kfold_5,\n",
    "    _,\n",
    "    __,\n",
    ") = swmhau_network_hyperparameter_search(\n",
    "    history_lengths=[size],\n",
    "    dim_reduce_methods=[\"umap\"],\n",
    "    results_output=f\"{output_dir}/swmhau_network_umap_focal_{gamma}_{size}_kfold.csv\",\n",
    "    **kwargs,\n",
    ")"
   ]
  },
  {
   "cell_type": "code",
   "execution_count": 13,
   "id": "0ec7c660",
   "metadata": {},
   "outputs": [
    {
     "name": "stderr",
     "output_type": "stream",
     "text": [
      "/tmp/ipykernel_2582605/2619527520.py:1: FutureWarning: The default value of numeric_only in DataFrameGroupBy.mean is deprecated. In a future version, numeric_only will default to False. Either specify numeric_only or select only columns which should be valid for the function.\n",
      "  swmhau_network_umap_kfold_5.groupby(\n"
     ]
    },
    {
     "data": {
      "text/html": [
       "<div>\n",
       "<style scoped>\n",
       "    .dataframe tbody tr th:only-of-type {\n",
       "        vertical-align: middle;\n",
       "    }\n",
       "\n",
       "    .dataframe tbody tr th {\n",
       "        vertical-align: top;\n",
       "    }\n",
       "\n",
       "    .dataframe thead th {\n",
       "        text-align: right;\n",
       "    }\n",
       "</style>\n",
       "<table border=\"1\" class=\"dataframe\">\n",
       "  <thead>\n",
       "    <tr style=\"text-align: right;\">\n",
       "      <th></th>\n",
       "      <th></th>\n",
       "      <th></th>\n",
       "      <th></th>\n",
       "      <th></th>\n",
       "      <th></th>\n",
       "      <th></th>\n",
       "      <th></th>\n",
       "      <th>accuracy</th>\n",
       "      <th>f1</th>\n",
       "      <th>precision</th>\n",
       "      <th>recall</th>\n",
       "      <th>valid_accuracy</th>\n",
       "      <th>valid_f1</th>\n",
       "      <th>valid_precision</th>\n",
       "      <th>valid_recall</th>\n",
       "      <th>k</th>\n",
       "      <th>input_channels</th>\n",
       "      <th>...</th>\n",
       "      <th>include_features_in_input</th>\n",
       "      <th>embedding_dim</th>\n",
       "      <th>num_features</th>\n",
       "      <th>log_signature</th>\n",
       "      <th>seed</th>\n",
       "      <th>gamma</th>\n",
       "      <th>k_fold</th>\n",
       "      <th>n_splits</th>\n",
       "      <th>batch_size</th>\n",
       "      <th>model_id</th>\n",
       "    </tr>\n",
       "    <tr>\n",
       "      <th>dimensions</th>\n",
       "      <th>output_channels</th>\n",
       "      <th>sig_depth</th>\n",
       "      <th>num_heads</th>\n",
       "      <th>num_layers</th>\n",
       "      <th>ffn_hidden_dim</th>\n",
       "      <th>dropout_rate</th>\n",
       "      <th>learning_rate</th>\n",
       "      <th></th>\n",
       "      <th></th>\n",
       "      <th></th>\n",
       "      <th></th>\n",
       "      <th></th>\n",
       "      <th></th>\n",
       "      <th></th>\n",
       "      <th></th>\n",
       "      <th></th>\n",
       "      <th></th>\n",
       "      <th></th>\n",
       "      <th></th>\n",
       "      <th></th>\n",
       "      <th></th>\n",
       "      <th></th>\n",
       "      <th></th>\n",
       "      <th></th>\n",
       "      <th></th>\n",
       "      <th></th>\n",
       "      <th></th>\n",
       "      <th></th>\n",
       "    </tr>\n",
       "  </thead>\n",
       "  <tbody>\n",
       "    <tr>\n",
       "      <th rowspan=\"18\" valign=\"top\">15</th>\n",
       "      <th rowspan=\"9\" valign=\"top\">10</th>\n",
       "      <th rowspan=\"9\" valign=\"top\">3</th>\n",
       "      <th rowspan=\"9\" valign=\"top\">5</th>\n",
       "      <th rowspan=\"9\" valign=\"top\">1</th>\n",
       "      <th rowspan=\"3\" valign=\"top\">(32, 32)</th>\n",
       "      <th rowspan=\"3\" valign=\"top\">0.1</th>\n",
       "      <th>0.0001</th>\n",
       "      <td>0.640294</td>\n",
       "      <td>0.358926</td>\n",
       "      <td>0.445976</td>\n",
       "      <td>0.369726</td>\n",
       "      <td>0.649754</td>\n",
       "      <td>0.390754</td>\n",
       "      <td>0.501673</td>\n",
       "      <td>0.398048</td>\n",
       "      <td>5.0</td>\n",
       "      <td>17.0</td>\n",
       "      <td>...</td>\n",
       "      <td>1.0</td>\n",
       "      <td>384.0</td>\n",
       "      <td>2.0</td>\n",
       "      <td>1.0</td>\n",
       "      <td>45.333333</td>\n",
       "      <td>2.0</td>\n",
       "      <td>1.0</td>\n",
       "      <td>5.0</td>\n",
       "      <td>64.0</td>\n",
       "      <td>11.0</td>\n",
       "    </tr>\n",
       "    <tr>\n",
       "      <th>0.0003</th>\n",
       "      <td>0.624649</td>\n",
       "      <td>0.479885</td>\n",
       "      <td>0.480749</td>\n",
       "      <td>0.481221</td>\n",
       "      <td>0.652162</td>\n",
       "      <td>0.521862</td>\n",
       "      <td>0.524897</td>\n",
       "      <td>0.521223</td>\n",
       "      <td>5.0</td>\n",
       "      <td>17.0</td>\n",
       "      <td>...</td>\n",
       "      <td>1.0</td>\n",
       "      <td>384.0</td>\n",
       "      <td>2.0</td>\n",
       "      <td>1.0</td>\n",
       "      <td>45.333333</td>\n",
       "      <td>2.0</td>\n",
       "      <td>1.0</td>\n",
       "      <td>5.0</td>\n",
       "      <td>64.0</td>\n",
       "      <td>10.0</td>\n",
       "    </tr>\n",
       "    <tr>\n",
       "      <th>0.0005</th>\n",
       "      <td>0.630460</td>\n",
       "      <td>0.489851</td>\n",
       "      <td>0.489849</td>\n",
       "      <td>0.492665</td>\n",
       "      <td>0.662117</td>\n",
       "      <td>0.537211</td>\n",
       "      <td>0.540923</td>\n",
       "      <td>0.536692</td>\n",
       "      <td>5.0</td>\n",
       "      <td>17.0</td>\n",
       "      <td>...</td>\n",
       "      <td>1.0</td>\n",
       "      <td>384.0</td>\n",
       "      <td>2.0</td>\n",
       "      <td>1.0</td>\n",
       "      <td>45.333333</td>\n",
       "      <td>2.0</td>\n",
       "      <td>1.0</td>\n",
       "      <td>5.0</td>\n",
       "      <td>64.0</td>\n",
       "      <td>9.0</td>\n",
       "    </tr>\n",
       "    <tr>\n",
       "      <th rowspan=\"3\" valign=\"top\">(128, 128)</th>\n",
       "      <th rowspan=\"3\" valign=\"top\">0.1</th>\n",
       "      <th>0.0001</th>\n",
       "      <td>0.629183</td>\n",
       "      <td>0.451741</td>\n",
       "      <td>0.470953</td>\n",
       "      <td>0.443360</td>\n",
       "      <td>0.654089</td>\n",
       "      <td>0.489552</td>\n",
       "      <td>0.514113</td>\n",
       "      <td>0.479682</td>\n",
       "      <td>5.0</td>\n",
       "      <td>17.0</td>\n",
       "      <td>...</td>\n",
       "      <td>1.0</td>\n",
       "      <td>384.0</td>\n",
       "      <td>2.0</td>\n",
       "      <td>1.0</td>\n",
       "      <td>45.333333</td>\n",
       "      <td>2.0</td>\n",
       "      <td>1.0</td>\n",
       "      <td>5.0</td>\n",
       "      <td>64.0</td>\n",
       "      <td>14.0</td>\n",
       "    </tr>\n",
       "    <tr>\n",
       "      <th>0.0003</th>\n",
       "      <td>0.624266</td>\n",
       "      <td>0.483085</td>\n",
       "      <td>0.482493</td>\n",
       "      <td>0.485988</td>\n",
       "      <td>0.656712</td>\n",
       "      <td>0.530855</td>\n",
       "      <td>0.533727</td>\n",
       "      <td>0.530334</td>\n",
       "      <td>5.0</td>\n",
       "      <td>17.0</td>\n",
       "      <td>...</td>\n",
       "      <td>1.0</td>\n",
       "      <td>384.0</td>\n",
       "      <td>2.0</td>\n",
       "      <td>1.0</td>\n",
       "      <td>45.333333</td>\n",
       "      <td>2.0</td>\n",
       "      <td>1.0</td>\n",
       "      <td>5.0</td>\n",
       "      <td>64.0</td>\n",
       "      <td>13.0</td>\n",
       "    </tr>\n",
       "    <tr>\n",
       "      <th>0.0005</th>\n",
       "      <td>0.628544</td>\n",
       "      <td>0.493772</td>\n",
       "      <td>0.490005</td>\n",
       "      <td>0.501843</td>\n",
       "      <td>0.656658</td>\n",
       "      <td>0.540201</td>\n",
       "      <td>0.538103</td>\n",
       "      <td>0.544642</td>\n",
       "      <td>5.0</td>\n",
       "      <td>17.0</td>\n",
       "      <td>...</td>\n",
       "      <td>1.0</td>\n",
       "      <td>384.0</td>\n",
       "      <td>2.0</td>\n",
       "      <td>1.0</td>\n",
       "      <td>45.333333</td>\n",
       "      <td>2.0</td>\n",
       "      <td>1.0</td>\n",
       "      <td>5.0</td>\n",
       "      <td>64.0</td>\n",
       "      <td>12.0</td>\n",
       "    </tr>\n",
       "    <tr>\n",
       "      <th rowspan=\"3\" valign=\"top\">(512, 512)</th>\n",
       "      <th rowspan=\"3\" valign=\"top\">0.1</th>\n",
       "      <th>0.0001</th>\n",
       "      <td>0.625990</td>\n",
       "      <td>0.471417</td>\n",
       "      <td>0.480383</td>\n",
       "      <td>0.468365</td>\n",
       "      <td>0.656016</td>\n",
       "      <td>0.507477</td>\n",
       "      <td>0.521226</td>\n",
       "      <td>0.501581</td>\n",
       "      <td>5.0</td>\n",
       "      <td>17.0</td>\n",
       "      <td>...</td>\n",
       "      <td>1.0</td>\n",
       "      <td>384.0</td>\n",
       "      <td>2.0</td>\n",
       "      <td>1.0</td>\n",
       "      <td>45.333333</td>\n",
       "      <td>2.0</td>\n",
       "      <td>1.0</td>\n",
       "      <td>5.0</td>\n",
       "      <td>64.0</td>\n",
       "      <td>17.0</td>\n",
       "    </tr>\n",
       "    <tr>\n",
       "      <th>0.0003</th>\n",
       "      <td>0.635568</td>\n",
       "      <td>0.499255</td>\n",
       "      <td>0.499636</td>\n",
       "      <td>0.500602</td>\n",
       "      <td>0.656176</td>\n",
       "      <td>0.528656</td>\n",
       "      <td>0.533894</td>\n",
       "      <td>0.525156</td>\n",
       "      <td>5.0</td>\n",
       "      <td>17.0</td>\n",
       "      <td>...</td>\n",
       "      <td>1.0</td>\n",
       "      <td>384.0</td>\n",
       "      <td>2.0</td>\n",
       "      <td>1.0</td>\n",
       "      <td>45.333333</td>\n",
       "      <td>2.0</td>\n",
       "      <td>1.0</td>\n",
       "      <td>5.0</td>\n",
       "      <td>64.0</td>\n",
       "      <td>16.0</td>\n",
       "    </tr>\n",
       "    <tr>\n",
       "      <th>0.0005</th>\n",
       "      <td>0.635377</td>\n",
       "      <td>0.504804</td>\n",
       "      <td>0.502289</td>\n",
       "      <td>0.512099</td>\n",
       "      <td>0.658478</td>\n",
       "      <td>0.541250</td>\n",
       "      <td>0.541668</td>\n",
       "      <td>0.543887</td>\n",
       "      <td>5.0</td>\n",
       "      <td>17.0</td>\n",
       "      <td>...</td>\n",
       "      <td>1.0</td>\n",
       "      <td>384.0</td>\n",
       "      <td>2.0</td>\n",
       "      <td>1.0</td>\n",
       "      <td>45.333333</td>\n",
       "      <td>2.0</td>\n",
       "      <td>1.0</td>\n",
       "      <td>5.0</td>\n",
       "      <td>64.0</td>\n",
       "      <td>15.0</td>\n",
       "    </tr>\n",
       "    <tr>\n",
       "      <th rowspan=\"9\" valign=\"top\">12</th>\n",
       "      <th rowspan=\"9\" valign=\"top\">3</th>\n",
       "      <th rowspan=\"9\" valign=\"top\">10</th>\n",
       "      <th rowspan=\"9\" valign=\"top\">1</th>\n",
       "      <th rowspan=\"3\" valign=\"top\">(32, 32)</th>\n",
       "      <th rowspan=\"3\" valign=\"top\">0.1</th>\n",
       "      <th>0.0001</th>\n",
       "      <td>0.628289</td>\n",
       "      <td>0.355086</td>\n",
       "      <td>0.422907</td>\n",
       "      <td>0.366816</td>\n",
       "      <td>0.637337</td>\n",
       "      <td>0.388144</td>\n",
       "      <td>0.468734</td>\n",
       "      <td>0.396447</td>\n",
       "      <td>5.0</td>\n",
       "      <td>17.0</td>\n",
       "      <td>...</td>\n",
       "      <td>1.0</td>\n",
       "      <td>384.0</td>\n",
       "      <td>2.0</td>\n",
       "      <td>1.0</td>\n",
       "      <td>45.333333</td>\n",
       "      <td>2.0</td>\n",
       "      <td>1.0</td>\n",
       "      <td>5.0</td>\n",
       "      <td>64.0</td>\n",
       "      <td>2.0</td>\n",
       "    </tr>\n",
       "    <tr>\n",
       "      <th>0.0003</th>\n",
       "      <td>0.631481</td>\n",
       "      <td>0.438192</td>\n",
       "      <td>0.464217</td>\n",
       "      <td>0.431239</td>\n",
       "      <td>0.656123</td>\n",
       "      <td>0.483202</td>\n",
       "      <td>0.514276</td>\n",
       "      <td>0.473759</td>\n",
       "      <td>5.0</td>\n",
       "      <td>17.0</td>\n",
       "      <td>...</td>\n",
       "      <td>1.0</td>\n",
       "      <td>384.0</td>\n",
       "      <td>2.0</td>\n",
       "      <td>1.0</td>\n",
       "      <td>45.333333</td>\n",
       "      <td>2.0</td>\n",
       "      <td>1.0</td>\n",
       "      <td>5.0</td>\n",
       "      <td>64.0</td>\n",
       "      <td>1.0</td>\n",
       "    </tr>\n",
       "    <tr>\n",
       "      <th>0.0005</th>\n",
       "      <td>0.643295</td>\n",
       "      <td>0.500161</td>\n",
       "      <td>0.503954</td>\n",
       "      <td>0.498414</td>\n",
       "      <td>0.668968</td>\n",
       "      <td>0.539871</td>\n",
       "      <td>0.545654</td>\n",
       "      <td>0.536015</td>\n",
       "      <td>5.0</td>\n",
       "      <td>17.0</td>\n",
       "      <td>...</td>\n",
       "      <td>1.0</td>\n",
       "      <td>384.0</td>\n",
       "      <td>2.0</td>\n",
       "      <td>1.0</td>\n",
       "      <td>45.333333</td>\n",
       "      <td>2.0</td>\n",
       "      <td>1.0</td>\n",
       "      <td>5.0</td>\n",
       "      <td>64.0</td>\n",
       "      <td>0.0</td>\n",
       "    </tr>\n",
       "    <tr>\n",
       "      <th rowspan=\"3\" valign=\"top\">(128, 128)</th>\n",
       "      <th rowspan=\"3\" valign=\"top\">0.1</th>\n",
       "      <th>0.0001</th>\n",
       "      <td>0.619540</td>\n",
       "      <td>0.390658</td>\n",
       "      <td>0.434107</td>\n",
       "      <td>0.393719</td>\n",
       "      <td>0.633965</td>\n",
       "      <td>0.418123</td>\n",
       "      <td>0.471356</td>\n",
       "      <td>0.419054</td>\n",
       "      <td>5.0</td>\n",
       "      <td>17.0</td>\n",
       "      <td>...</td>\n",
       "      <td>1.0</td>\n",
       "      <td>384.0</td>\n",
       "      <td>2.0</td>\n",
       "      <td>1.0</td>\n",
       "      <td>45.333333</td>\n",
       "      <td>2.0</td>\n",
       "      <td>1.0</td>\n",
       "      <td>5.0</td>\n",
       "      <td>64.0</td>\n",
       "      <td>5.0</td>\n",
       "    </tr>\n",
       "    <tr>\n",
       "      <th>0.0003</th>\n",
       "      <td>0.614176</td>\n",
       "      <td>0.477015</td>\n",
       "      <td>0.478900</td>\n",
       "      <td>0.478884</td>\n",
       "      <td>0.654143</td>\n",
       "      <td>0.530705</td>\n",
       "      <td>0.534721</td>\n",
       "      <td>0.531377</td>\n",
       "      <td>5.0</td>\n",
       "      <td>17.0</td>\n",
       "      <td>...</td>\n",
       "      <td>1.0</td>\n",
       "      <td>384.0</td>\n",
       "      <td>2.0</td>\n",
       "      <td>1.0</td>\n",
       "      <td>45.333333</td>\n",
       "      <td>2.0</td>\n",
       "      <td>1.0</td>\n",
       "      <td>5.0</td>\n",
       "      <td>64.0</td>\n",
       "      <td>4.0</td>\n",
       "    </tr>\n",
       "    <tr>\n",
       "      <th>0.0005</th>\n",
       "      <td>0.629757</td>\n",
       "      <td>0.503583</td>\n",
       "      <td>0.499224</td>\n",
       "      <td>0.514396</td>\n",
       "      <td>0.659281</td>\n",
       "      <td>0.548311</td>\n",
       "      <td>0.545773</td>\n",
       "      <td>0.553948</td>\n",
       "      <td>5.0</td>\n",
       "      <td>17.0</td>\n",
       "      <td>...</td>\n",
       "      <td>1.0</td>\n",
       "      <td>384.0</td>\n",
       "      <td>2.0</td>\n",
       "      <td>1.0</td>\n",
       "      <td>45.333333</td>\n",
       "      <td>2.0</td>\n",
       "      <td>1.0</td>\n",
       "      <td>5.0</td>\n",
       "      <td>64.0</td>\n",
       "      <td>3.0</td>\n",
       "    </tr>\n",
       "    <tr>\n",
       "      <th rowspan=\"3\" valign=\"top\">(512, 512)</th>\n",
       "      <th rowspan=\"3\" valign=\"top\">0.1</th>\n",
       "      <th>0.0001</th>\n",
       "      <td>0.618455</td>\n",
       "      <td>0.450303</td>\n",
       "      <td>0.464932</td>\n",
       "      <td>0.446430</td>\n",
       "      <td>0.646275</td>\n",
       "      <td>0.490049</td>\n",
       "      <td>0.509688</td>\n",
       "      <td>0.483489</td>\n",
       "      <td>5.0</td>\n",
       "      <td>17.0</td>\n",
       "      <td>...</td>\n",
       "      <td>1.0</td>\n",
       "      <td>384.0</td>\n",
       "      <td>2.0</td>\n",
       "      <td>1.0</td>\n",
       "      <td>45.333333</td>\n",
       "      <td>2.0</td>\n",
       "      <td>1.0</td>\n",
       "      <td>5.0</td>\n",
       "      <td>64.0</td>\n",
       "      <td>8.0</td>\n",
       "    </tr>\n",
       "    <tr>\n",
       "      <th>0.0003</th>\n",
       "      <td>0.622797</td>\n",
       "      <td>0.494615</td>\n",
       "      <td>0.492535</td>\n",
       "      <td>0.499952</td>\n",
       "      <td>0.653340</td>\n",
       "      <td>0.536411</td>\n",
       "      <td>0.535712</td>\n",
       "      <td>0.538666</td>\n",
       "      <td>5.0</td>\n",
       "      <td>17.0</td>\n",
       "      <td>...</td>\n",
       "      <td>1.0</td>\n",
       "      <td>384.0</td>\n",
       "      <td>2.0</td>\n",
       "      <td>1.0</td>\n",
       "      <td>45.333333</td>\n",
       "      <td>2.0</td>\n",
       "      <td>1.0</td>\n",
       "      <td>5.0</td>\n",
       "      <td>64.0</td>\n",
       "      <td>7.0</td>\n",
       "    </tr>\n",
       "    <tr>\n",
       "      <th>0.0005</th>\n",
       "      <td>0.630651</td>\n",
       "      <td>0.508722</td>\n",
       "      <td>0.504524</td>\n",
       "      <td>0.520468</td>\n",
       "      <td>0.654143</td>\n",
       "      <td>0.540972</td>\n",
       "      <td>0.539446</td>\n",
       "      <td>0.545672</td>\n",
       "      <td>5.0</td>\n",
       "      <td>17.0</td>\n",
       "      <td>...</td>\n",
       "      <td>1.0</td>\n",
       "      <td>384.0</td>\n",
       "      <td>2.0</td>\n",
       "      <td>1.0</td>\n",
       "      <td>45.333333</td>\n",
       "      <td>2.0</td>\n",
       "      <td>1.0</td>\n",
       "      <td>5.0</td>\n",
       "      <td>64.0</td>\n",
       "      <td>6.0</td>\n",
       "    </tr>\n",
       "  </tbody>\n",
       "</table>\n",
       "<p>18 rows × 21 columns</p>\n",
       "</div>"
      ],
      "text/plain": [
       "                                                                                                     accuracy  \\\n",
       "dimensions output_channels sig_depth num_heads num_layers ffn_hidden_dim dropout_rate learning_rate             \n",
       "15         10              3         5         1          (32, 32)       0.1          0.0001         0.640294   \n",
       "                                                                                      0.0003         0.624649   \n",
       "                                                                                      0.0005         0.630460   \n",
       "                                                          (128, 128)     0.1          0.0001         0.629183   \n",
       "                                                                                      0.0003         0.624266   \n",
       "                                                                                      0.0005         0.628544   \n",
       "                                                          (512, 512)     0.1          0.0001         0.625990   \n",
       "                                                                                      0.0003         0.635568   \n",
       "                                                                                      0.0005         0.635377   \n",
       "           12              3         10        1          (32, 32)       0.1          0.0001         0.628289   \n",
       "                                                                                      0.0003         0.631481   \n",
       "                                                                                      0.0005         0.643295   \n",
       "                                                          (128, 128)     0.1          0.0001         0.619540   \n",
       "                                                                                      0.0003         0.614176   \n",
       "                                                                                      0.0005         0.629757   \n",
       "                                                          (512, 512)     0.1          0.0001         0.618455   \n",
       "                                                                                      0.0003         0.622797   \n",
       "                                                                                      0.0005         0.630651   \n",
       "\n",
       "                                                                                                           f1  \\\n",
       "dimensions output_channels sig_depth num_heads num_layers ffn_hidden_dim dropout_rate learning_rate             \n",
       "15         10              3         5         1          (32, 32)       0.1          0.0001         0.358926   \n",
       "                                                                                      0.0003         0.479885   \n",
       "                                                                                      0.0005         0.489851   \n",
       "                                                          (128, 128)     0.1          0.0001         0.451741   \n",
       "                                                                                      0.0003         0.483085   \n",
       "                                                                                      0.0005         0.493772   \n",
       "                                                          (512, 512)     0.1          0.0001         0.471417   \n",
       "                                                                                      0.0003         0.499255   \n",
       "                                                                                      0.0005         0.504804   \n",
       "           12              3         10        1          (32, 32)       0.1          0.0001         0.355086   \n",
       "                                                                                      0.0003         0.438192   \n",
       "                                                                                      0.0005         0.500161   \n",
       "                                                          (128, 128)     0.1          0.0001         0.390658   \n",
       "                                                                                      0.0003         0.477015   \n",
       "                                                                                      0.0005         0.503583   \n",
       "                                                          (512, 512)     0.1          0.0001         0.450303   \n",
       "                                                                                      0.0003         0.494615   \n",
       "                                                                                      0.0005         0.508722   \n",
       "\n",
       "                                                                                                     precision  \\\n",
       "dimensions output_channels sig_depth num_heads num_layers ffn_hidden_dim dropout_rate learning_rate              \n",
       "15         10              3         5         1          (32, 32)       0.1          0.0001          0.445976   \n",
       "                                                                                      0.0003          0.480749   \n",
       "                                                                                      0.0005          0.489849   \n",
       "                                                          (128, 128)     0.1          0.0001          0.470953   \n",
       "                                                                                      0.0003          0.482493   \n",
       "                                                                                      0.0005          0.490005   \n",
       "                                                          (512, 512)     0.1          0.0001          0.480383   \n",
       "                                                                                      0.0003          0.499636   \n",
       "                                                                                      0.0005          0.502289   \n",
       "           12              3         10        1          (32, 32)       0.1          0.0001          0.422907   \n",
       "                                                                                      0.0003          0.464217   \n",
       "                                                                                      0.0005          0.503954   \n",
       "                                                          (128, 128)     0.1          0.0001          0.434107   \n",
       "                                                                                      0.0003          0.478900   \n",
       "                                                                                      0.0005          0.499224   \n",
       "                                                          (512, 512)     0.1          0.0001          0.464932   \n",
       "                                                                                      0.0003          0.492535   \n",
       "                                                                                      0.0005          0.504524   \n",
       "\n",
       "                                                                                                       recall  \\\n",
       "dimensions output_channels sig_depth num_heads num_layers ffn_hidden_dim dropout_rate learning_rate             \n",
       "15         10              3         5         1          (32, 32)       0.1          0.0001         0.369726   \n",
       "                                                                                      0.0003         0.481221   \n",
       "                                                                                      0.0005         0.492665   \n",
       "                                                          (128, 128)     0.1          0.0001         0.443360   \n",
       "                                                                                      0.0003         0.485988   \n",
       "                                                                                      0.0005         0.501843   \n",
       "                                                          (512, 512)     0.1          0.0001         0.468365   \n",
       "                                                                                      0.0003         0.500602   \n",
       "                                                                                      0.0005         0.512099   \n",
       "           12              3         10        1          (32, 32)       0.1          0.0001         0.366816   \n",
       "                                                                                      0.0003         0.431239   \n",
       "                                                                                      0.0005         0.498414   \n",
       "                                                          (128, 128)     0.1          0.0001         0.393719   \n",
       "                                                                                      0.0003         0.478884   \n",
       "                                                                                      0.0005         0.514396   \n",
       "                                                          (512, 512)     0.1          0.0001         0.446430   \n",
       "                                                                                      0.0003         0.499952   \n",
       "                                                                                      0.0005         0.520468   \n",
       "\n",
       "                                                                                                     valid_accuracy  \\\n",
       "dimensions output_channels sig_depth num_heads num_layers ffn_hidden_dim dropout_rate learning_rate                   \n",
       "15         10              3         5         1          (32, 32)       0.1          0.0001               0.649754   \n",
       "                                                                                      0.0003               0.652162   \n",
       "                                                                                      0.0005               0.662117   \n",
       "                                                          (128, 128)     0.1          0.0001               0.654089   \n",
       "                                                                                      0.0003               0.656712   \n",
       "                                                                                      0.0005               0.656658   \n",
       "                                                          (512, 512)     0.1          0.0001               0.656016   \n",
       "                                                                                      0.0003               0.656176   \n",
       "                                                                                      0.0005               0.658478   \n",
       "           12              3         10        1          (32, 32)       0.1          0.0001               0.637337   \n",
       "                                                                                      0.0003               0.656123   \n",
       "                                                                                      0.0005               0.668968   \n",
       "                                                          (128, 128)     0.1          0.0001               0.633965   \n",
       "                                                                                      0.0003               0.654143   \n",
       "                                                                                      0.0005               0.659281   \n",
       "                                                          (512, 512)     0.1          0.0001               0.646275   \n",
       "                                                                                      0.0003               0.653340   \n",
       "                                                                                      0.0005               0.654143   \n",
       "\n",
       "                                                                                                     valid_f1  \\\n",
       "dimensions output_channels sig_depth num_heads num_layers ffn_hidden_dim dropout_rate learning_rate             \n",
       "15         10              3         5         1          (32, 32)       0.1          0.0001         0.390754   \n",
       "                                                                                      0.0003         0.521862   \n",
       "                                                                                      0.0005         0.537211   \n",
       "                                                          (128, 128)     0.1          0.0001         0.489552   \n",
       "                                                                                      0.0003         0.530855   \n",
       "                                                                                      0.0005         0.540201   \n",
       "                                                          (512, 512)     0.1          0.0001         0.507477   \n",
       "                                                                                      0.0003         0.528656   \n",
       "                                                                                      0.0005         0.541250   \n",
       "           12              3         10        1          (32, 32)       0.1          0.0001         0.388144   \n",
       "                                                                                      0.0003         0.483202   \n",
       "                                                                                      0.0005         0.539871   \n",
       "                                                          (128, 128)     0.1          0.0001         0.418123   \n",
       "                                                                                      0.0003         0.530705   \n",
       "                                                                                      0.0005         0.548311   \n",
       "                                                          (512, 512)     0.1          0.0001         0.490049   \n",
       "                                                                                      0.0003         0.536411   \n",
       "                                                                                      0.0005         0.540972   \n",
       "\n",
       "                                                                                                     valid_precision  \\\n",
       "dimensions output_channels sig_depth num_heads num_layers ffn_hidden_dim dropout_rate learning_rate                    \n",
       "15         10              3         5         1          (32, 32)       0.1          0.0001                0.501673   \n",
       "                                                                                      0.0003                0.524897   \n",
       "                                                                                      0.0005                0.540923   \n",
       "                                                          (128, 128)     0.1          0.0001                0.514113   \n",
       "                                                                                      0.0003                0.533727   \n",
       "                                                                                      0.0005                0.538103   \n",
       "                                                          (512, 512)     0.1          0.0001                0.521226   \n",
       "                                                                                      0.0003                0.533894   \n",
       "                                                                                      0.0005                0.541668   \n",
       "           12              3         10        1          (32, 32)       0.1          0.0001                0.468734   \n",
       "                                                                                      0.0003                0.514276   \n",
       "                                                                                      0.0005                0.545654   \n",
       "                                                          (128, 128)     0.1          0.0001                0.471356   \n",
       "                                                                                      0.0003                0.534721   \n",
       "                                                                                      0.0005                0.545773   \n",
       "                                                          (512, 512)     0.1          0.0001                0.509688   \n",
       "                                                                                      0.0003                0.535712   \n",
       "                                                                                      0.0005                0.539446   \n",
       "\n",
       "                                                                                                     valid_recall  \\\n",
       "dimensions output_channels sig_depth num_heads num_layers ffn_hidden_dim dropout_rate learning_rate                 \n",
       "15         10              3         5         1          (32, 32)       0.1          0.0001             0.398048   \n",
       "                                                                                      0.0003             0.521223   \n",
       "                                                                                      0.0005             0.536692   \n",
       "                                                          (128, 128)     0.1          0.0001             0.479682   \n",
       "                                                                                      0.0003             0.530334   \n",
       "                                                                                      0.0005             0.544642   \n",
       "                                                          (512, 512)     0.1          0.0001             0.501581   \n",
       "                                                                                      0.0003             0.525156   \n",
       "                                                                                      0.0005             0.543887   \n",
       "           12              3         10        1          (32, 32)       0.1          0.0001             0.396447   \n",
       "                                                                                      0.0003             0.473759   \n",
       "                                                                                      0.0005             0.536015   \n",
       "                                                          (128, 128)     0.1          0.0001             0.419054   \n",
       "                                                                                      0.0003             0.531377   \n",
       "                                                                                      0.0005             0.553948   \n",
       "                                                          (512, 512)     0.1          0.0001             0.483489   \n",
       "                                                                                      0.0003             0.538666   \n",
       "                                                                                      0.0005             0.545672   \n",
       "\n",
       "                                                                                                       k  \\\n",
       "dimensions output_channels sig_depth num_heads num_layers ffn_hidden_dim dropout_rate learning_rate        \n",
       "15         10              3         5         1          (32, 32)       0.1          0.0001         5.0   \n",
       "                                                                                      0.0003         5.0   \n",
       "                                                                                      0.0005         5.0   \n",
       "                                                          (128, 128)     0.1          0.0001         5.0   \n",
       "                                                                                      0.0003         5.0   \n",
       "                                                                                      0.0005         5.0   \n",
       "                                                          (512, 512)     0.1          0.0001         5.0   \n",
       "                                                                                      0.0003         5.0   \n",
       "                                                                                      0.0005         5.0   \n",
       "           12              3         10        1          (32, 32)       0.1          0.0001         5.0   \n",
       "                                                                                      0.0003         5.0   \n",
       "                                                                                      0.0005         5.0   \n",
       "                                                          (128, 128)     0.1          0.0001         5.0   \n",
       "                                                                                      0.0003         5.0   \n",
       "                                                                                      0.0005         5.0   \n",
       "                                                          (512, 512)     0.1          0.0001         5.0   \n",
       "                                                                                      0.0003         5.0   \n",
       "                                                                                      0.0005         5.0   \n",
       "\n",
       "                                                                                                     input_channels  \\\n",
       "dimensions output_channels sig_depth num_heads num_layers ffn_hidden_dim dropout_rate learning_rate                   \n",
       "15         10              3         5         1          (32, 32)       0.1          0.0001                   17.0   \n",
       "                                                                                      0.0003                   17.0   \n",
       "                                                                                      0.0005                   17.0   \n",
       "                                                          (128, 128)     0.1          0.0001                   17.0   \n",
       "                                                                                      0.0003                   17.0   \n",
       "                                                                                      0.0005                   17.0   \n",
       "                                                          (512, 512)     0.1          0.0001                   17.0   \n",
       "                                                                                      0.0003                   17.0   \n",
       "                                                                                      0.0005                   17.0   \n",
       "           12              3         10        1          (32, 32)       0.1          0.0001                   17.0   \n",
       "                                                                                      0.0003                   17.0   \n",
       "                                                                                      0.0005                   17.0   \n",
       "                                                          (128, 128)     0.1          0.0001                   17.0   \n",
       "                                                                                      0.0003                   17.0   \n",
       "                                                                                      0.0005                   17.0   \n",
       "                                                          (512, 512)     0.1          0.0001                   17.0   \n",
       "                                                                                      0.0003                   17.0   \n",
       "                                                                                      0.0005                   17.0   \n",
       "\n",
       "                                                                                                     ...  \\\n",
       "dimensions output_channels sig_depth num_heads num_layers ffn_hidden_dim dropout_rate learning_rate  ...   \n",
       "15         10              3         5         1          (32, 32)       0.1          0.0001         ...   \n",
       "                                                                                      0.0003         ...   \n",
       "                                                                                      0.0005         ...   \n",
       "                                                          (128, 128)     0.1          0.0001         ...   \n",
       "                                                                                      0.0003         ...   \n",
       "                                                                                      0.0005         ...   \n",
       "                                                          (512, 512)     0.1          0.0001         ...   \n",
       "                                                                                      0.0003         ...   \n",
       "                                                                                      0.0005         ...   \n",
       "           12              3         10        1          (32, 32)       0.1          0.0001         ...   \n",
       "                                                                                      0.0003         ...   \n",
       "                                                                                      0.0005         ...   \n",
       "                                                          (128, 128)     0.1          0.0001         ...   \n",
       "                                                                                      0.0003         ...   \n",
       "                                                                                      0.0005         ...   \n",
       "                                                          (512, 512)     0.1          0.0001         ...   \n",
       "                                                                                      0.0003         ...   \n",
       "                                                                                      0.0005         ...   \n",
       "\n",
       "                                                                                                     include_features_in_input  \\\n",
       "dimensions output_channels sig_depth num_heads num_layers ffn_hidden_dim dropout_rate learning_rate                              \n",
       "15         10              3         5         1          (32, 32)       0.1          0.0001                               1.0   \n",
       "                                                                                      0.0003                               1.0   \n",
       "                                                                                      0.0005                               1.0   \n",
       "                                                          (128, 128)     0.1          0.0001                               1.0   \n",
       "                                                                                      0.0003                               1.0   \n",
       "                                                                                      0.0005                               1.0   \n",
       "                                                          (512, 512)     0.1          0.0001                               1.0   \n",
       "                                                                                      0.0003                               1.0   \n",
       "                                                                                      0.0005                               1.0   \n",
       "           12              3         10        1          (32, 32)       0.1          0.0001                               1.0   \n",
       "                                                                                      0.0003                               1.0   \n",
       "                                                                                      0.0005                               1.0   \n",
       "                                                          (128, 128)     0.1          0.0001                               1.0   \n",
       "                                                                                      0.0003                               1.0   \n",
       "                                                                                      0.0005                               1.0   \n",
       "                                                          (512, 512)     0.1          0.0001                               1.0   \n",
       "                                                                                      0.0003                               1.0   \n",
       "                                                                                      0.0005                               1.0   \n",
       "\n",
       "                                                                                                     embedding_dim  \\\n",
       "dimensions output_channels sig_depth num_heads num_layers ffn_hidden_dim dropout_rate learning_rate                  \n",
       "15         10              3         5         1          (32, 32)       0.1          0.0001                 384.0   \n",
       "                                                                                      0.0003                 384.0   \n",
       "                                                                                      0.0005                 384.0   \n",
       "                                                          (128, 128)     0.1          0.0001                 384.0   \n",
       "                                                                                      0.0003                 384.0   \n",
       "                                                                                      0.0005                 384.0   \n",
       "                                                          (512, 512)     0.1          0.0001                 384.0   \n",
       "                                                                                      0.0003                 384.0   \n",
       "                                                                                      0.0005                 384.0   \n",
       "           12              3         10        1          (32, 32)       0.1          0.0001                 384.0   \n",
       "                                                                                      0.0003                 384.0   \n",
       "                                                                                      0.0005                 384.0   \n",
       "                                                          (128, 128)     0.1          0.0001                 384.0   \n",
       "                                                                                      0.0003                 384.0   \n",
       "                                                                                      0.0005                 384.0   \n",
       "                                                          (512, 512)     0.1          0.0001                 384.0   \n",
       "                                                                                      0.0003                 384.0   \n",
       "                                                                                      0.0005                 384.0   \n",
       "\n",
       "                                                                                                     num_features  \\\n",
       "dimensions output_channels sig_depth num_heads num_layers ffn_hidden_dim dropout_rate learning_rate                 \n",
       "15         10              3         5         1          (32, 32)       0.1          0.0001                  2.0   \n",
       "                                                                                      0.0003                  2.0   \n",
       "                                                                                      0.0005                  2.0   \n",
       "                                                          (128, 128)     0.1          0.0001                  2.0   \n",
       "                                                                                      0.0003                  2.0   \n",
       "                                                                                      0.0005                  2.0   \n",
       "                                                          (512, 512)     0.1          0.0001                  2.0   \n",
       "                                                                                      0.0003                  2.0   \n",
       "                                                                                      0.0005                  2.0   \n",
       "           12              3         10        1          (32, 32)       0.1          0.0001                  2.0   \n",
       "                                                                                      0.0003                  2.0   \n",
       "                                                                                      0.0005                  2.0   \n",
       "                                                          (128, 128)     0.1          0.0001                  2.0   \n",
       "                                                                                      0.0003                  2.0   \n",
       "                                                                                      0.0005                  2.0   \n",
       "                                                          (512, 512)     0.1          0.0001                  2.0   \n",
       "                                                                                      0.0003                  2.0   \n",
       "                                                                                      0.0005                  2.0   \n",
       "\n",
       "                                                                                                     log_signature  \\\n",
       "dimensions output_channels sig_depth num_heads num_layers ffn_hidden_dim dropout_rate learning_rate                  \n",
       "15         10              3         5         1          (32, 32)       0.1          0.0001                   1.0   \n",
       "                                                                                      0.0003                   1.0   \n",
       "                                                                                      0.0005                   1.0   \n",
       "                                                          (128, 128)     0.1          0.0001                   1.0   \n",
       "                                                                                      0.0003                   1.0   \n",
       "                                                                                      0.0005                   1.0   \n",
       "                                                          (512, 512)     0.1          0.0001                   1.0   \n",
       "                                                                                      0.0003                   1.0   \n",
       "                                                                                      0.0005                   1.0   \n",
       "           12              3         10        1          (32, 32)       0.1          0.0001                   1.0   \n",
       "                                                                                      0.0003                   1.0   \n",
       "                                                                                      0.0005                   1.0   \n",
       "                                                          (128, 128)     0.1          0.0001                   1.0   \n",
       "                                                                                      0.0003                   1.0   \n",
       "                                                                                      0.0005                   1.0   \n",
       "                                                          (512, 512)     0.1          0.0001                   1.0   \n",
       "                                                                                      0.0003                   1.0   \n",
       "                                                                                      0.0005                   1.0   \n",
       "\n",
       "                                                                                                          seed  \\\n",
       "dimensions output_channels sig_depth num_heads num_layers ffn_hidden_dim dropout_rate learning_rate              \n",
       "15         10              3         5         1          (32, 32)       0.1          0.0001         45.333333   \n",
       "                                                                                      0.0003         45.333333   \n",
       "                                                                                      0.0005         45.333333   \n",
       "                                                          (128, 128)     0.1          0.0001         45.333333   \n",
       "                                                                                      0.0003         45.333333   \n",
       "                                                                                      0.0005         45.333333   \n",
       "                                                          (512, 512)     0.1          0.0001         45.333333   \n",
       "                                                                                      0.0003         45.333333   \n",
       "                                                                                      0.0005         45.333333   \n",
       "           12              3         10        1          (32, 32)       0.1          0.0001         45.333333   \n",
       "                                                                                      0.0003         45.333333   \n",
       "                                                                                      0.0005         45.333333   \n",
       "                                                          (128, 128)     0.1          0.0001         45.333333   \n",
       "                                                                                      0.0003         45.333333   \n",
       "                                                                                      0.0005         45.333333   \n",
       "                                                          (512, 512)     0.1          0.0001         45.333333   \n",
       "                                                                                      0.0003         45.333333   \n",
       "                                                                                      0.0005         45.333333   \n",
       "\n",
       "                                                                                                     gamma  \\\n",
       "dimensions output_channels sig_depth num_heads num_layers ffn_hidden_dim dropout_rate learning_rate          \n",
       "15         10              3         5         1          (32, 32)       0.1          0.0001           2.0   \n",
       "                                                                                      0.0003           2.0   \n",
       "                                                                                      0.0005           2.0   \n",
       "                                                          (128, 128)     0.1          0.0001           2.0   \n",
       "                                                                                      0.0003           2.0   \n",
       "                                                                                      0.0005           2.0   \n",
       "                                                          (512, 512)     0.1          0.0001           2.0   \n",
       "                                                                                      0.0003           2.0   \n",
       "                                                                                      0.0005           2.0   \n",
       "           12              3         10        1          (32, 32)       0.1          0.0001           2.0   \n",
       "                                                                                      0.0003           2.0   \n",
       "                                                                                      0.0005           2.0   \n",
       "                                                          (128, 128)     0.1          0.0001           2.0   \n",
       "                                                                                      0.0003           2.0   \n",
       "                                                                                      0.0005           2.0   \n",
       "                                                          (512, 512)     0.1          0.0001           2.0   \n",
       "                                                                                      0.0003           2.0   \n",
       "                                                                                      0.0005           2.0   \n",
       "\n",
       "                                                                                                     k_fold  \\\n",
       "dimensions output_channels sig_depth num_heads num_layers ffn_hidden_dim dropout_rate learning_rate           \n",
       "15         10              3         5         1          (32, 32)       0.1          0.0001            1.0   \n",
       "                                                                                      0.0003            1.0   \n",
       "                                                                                      0.0005            1.0   \n",
       "                                                          (128, 128)     0.1          0.0001            1.0   \n",
       "                                                                                      0.0003            1.0   \n",
       "                                                                                      0.0005            1.0   \n",
       "                                                          (512, 512)     0.1          0.0001            1.0   \n",
       "                                                                                      0.0003            1.0   \n",
       "                                                                                      0.0005            1.0   \n",
       "           12              3         10        1          (32, 32)       0.1          0.0001            1.0   \n",
       "                                                                                      0.0003            1.0   \n",
       "                                                                                      0.0005            1.0   \n",
       "                                                          (128, 128)     0.1          0.0001            1.0   \n",
       "                                                                                      0.0003            1.0   \n",
       "                                                                                      0.0005            1.0   \n",
       "                                                          (512, 512)     0.1          0.0001            1.0   \n",
       "                                                                                      0.0003            1.0   \n",
       "                                                                                      0.0005            1.0   \n",
       "\n",
       "                                                                                                     n_splits  \\\n",
       "dimensions output_channels sig_depth num_heads num_layers ffn_hidden_dim dropout_rate learning_rate             \n",
       "15         10              3         5         1          (32, 32)       0.1          0.0001              5.0   \n",
       "                                                                                      0.0003              5.0   \n",
       "                                                                                      0.0005              5.0   \n",
       "                                                          (128, 128)     0.1          0.0001              5.0   \n",
       "                                                                                      0.0003              5.0   \n",
       "                                                                                      0.0005              5.0   \n",
       "                                                          (512, 512)     0.1          0.0001              5.0   \n",
       "                                                                                      0.0003              5.0   \n",
       "                                                                                      0.0005              5.0   \n",
       "           12              3         10        1          (32, 32)       0.1          0.0001              5.0   \n",
       "                                                                                      0.0003              5.0   \n",
       "                                                                                      0.0005              5.0   \n",
       "                                                          (128, 128)     0.1          0.0001              5.0   \n",
       "                                                                                      0.0003              5.0   \n",
       "                                                                                      0.0005              5.0   \n",
       "                                                          (512, 512)     0.1          0.0001              5.0   \n",
       "                                                                                      0.0003              5.0   \n",
       "                                                                                      0.0005              5.0   \n",
       "\n",
       "                                                                                                     batch_size  \\\n",
       "dimensions output_channels sig_depth num_heads num_layers ffn_hidden_dim dropout_rate learning_rate               \n",
       "15         10              3         5         1          (32, 32)       0.1          0.0001               64.0   \n",
       "                                                                                      0.0003               64.0   \n",
       "                                                                                      0.0005               64.0   \n",
       "                                                          (128, 128)     0.1          0.0001               64.0   \n",
       "                                                                                      0.0003               64.0   \n",
       "                                                                                      0.0005               64.0   \n",
       "                                                          (512, 512)     0.1          0.0001               64.0   \n",
       "                                                                                      0.0003               64.0   \n",
       "                                                                                      0.0005               64.0   \n",
       "           12              3         10        1          (32, 32)       0.1          0.0001               64.0   \n",
       "                                                                                      0.0003               64.0   \n",
       "                                                                                      0.0005               64.0   \n",
       "                                                          (128, 128)     0.1          0.0001               64.0   \n",
       "                                                                                      0.0003               64.0   \n",
       "                                                                                      0.0005               64.0   \n",
       "                                                          (512, 512)     0.1          0.0001               64.0   \n",
       "                                                                                      0.0003               64.0   \n",
       "                                                                                      0.0005               64.0   \n",
       "\n",
       "                                                                                                     model_id  \n",
       "dimensions output_channels sig_depth num_heads num_layers ffn_hidden_dim dropout_rate learning_rate            \n",
       "15         10              3         5         1          (32, 32)       0.1          0.0001             11.0  \n",
       "                                                                                      0.0003             10.0  \n",
       "                                                                                      0.0005              9.0  \n",
       "                                                          (128, 128)     0.1          0.0001             14.0  \n",
       "                                                                                      0.0003             13.0  \n",
       "                                                                                      0.0005             12.0  \n",
       "                                                          (512, 512)     0.1          0.0001             17.0  \n",
       "                                                                                      0.0003             16.0  \n",
       "                                                                                      0.0005             15.0  \n",
       "           12              3         10        1          (32, 32)       0.1          0.0001              2.0  \n",
       "                                                                                      0.0003              1.0  \n",
       "                                                                                      0.0005              0.0  \n",
       "                                                          (128, 128)     0.1          0.0001              5.0  \n",
       "                                                                                      0.0003              4.0  \n",
       "                                                                                      0.0005              3.0  \n",
       "                                                          (512, 512)     0.1          0.0001              8.0  \n",
       "                                                                                      0.0003              7.0  \n",
       "                                                                                      0.0005              6.0  \n",
       "\n",
       "[18 rows x 21 columns]"
      ]
     },
     "execution_count": 13,
     "metadata": {},
     "output_type": "execute_result"
    }
   ],
   "source": [
    "swmhau_network_umap_kfold_5.groupby(\n",
    "    [\n",
    "        \"dimensions\",\n",
    "        \"output_channels\",\n",
    "        \"sig_depth\",\n",
    "        \"num_heads\",\n",
    "        \"num_layers\",\n",
    "        \"ffn_hidden_dim\",\n",
    "        \"dropout_rate\",\n",
    "        \"learning_rate\",\n",
    "    ]\n",
    ").mean()"
   ]
  },
  {
   "cell_type": "code",
   "execution_count": 14,
   "id": "603dee18",
   "metadata": {},
   "outputs": [
    {
     "data": {
      "text/html": [
       "<div>\n",
       "<style scoped>\n",
       "    .dataframe tbody tr th:only-of-type {\n",
       "        vertical-align: middle;\n",
       "    }\n",
       "\n",
       "    .dataframe tbody tr th {\n",
       "        vertical-align: top;\n",
       "    }\n",
       "\n",
       "    .dataframe thead th {\n",
       "        text-align: right;\n",
       "    }\n",
       "</style>\n",
       "<table border=\"1\" class=\"dataframe\">\n",
       "  <thead>\n",
       "    <tr style=\"text-align: right;\">\n",
       "      <th></th>\n",
       "      <th>loss</th>\n",
       "      <th>accuracy</th>\n",
       "      <th>f1</th>\n",
       "      <th>f1_scores</th>\n",
       "      <th>precision</th>\n",
       "      <th>precision_scores</th>\n",
       "      <th>recall</th>\n",
       "      <th>recall_scores</th>\n",
       "      <th>valid_loss</th>\n",
       "      <th>valid_accuracy</th>\n",
       "      <th>...</th>\n",
       "      <th>learning_rate</th>\n",
       "      <th>seed</th>\n",
       "      <th>loss_function</th>\n",
       "      <th>gamma</th>\n",
       "      <th>k_fold</th>\n",
       "      <th>n_splits</th>\n",
       "      <th>augmentation_type</th>\n",
       "      <th>hidden_dim_aug</th>\n",
       "      <th>comb_method</th>\n",
       "      <th>batch_size</th>\n",
       "    </tr>\n",
       "  </thead>\n",
       "  <tbody>\n",
       "    <tr>\n",
       "      <th>0</th>\n",
       "      <td>None</td>\n",
       "      <td>0.640996</td>\n",
       "      <td>0.505014</td>\n",
       "      <td>[0.7728579643473261, 0.3967168262653898, 0.345...</td>\n",
       "      <td>0.504270</td>\n",
       "      <td>[0.7684391080617495, 0.4434250764525994, 0.300...</td>\n",
       "      <td>0.513898</td>\n",
       "      <td>[0.7773279352226721, 0.3589108910891089, 0.405...</td>\n",
       "      <td>None</td>\n",
       "      <td>0.672447</td>\n",
       "      <td>...</td>\n",
       "      <td>0.0005</td>\n",
       "      <td>1</td>\n",
       "      <td>focal</td>\n",
       "      <td>2</td>\n",
       "      <td>True</td>\n",
       "      <td>5</td>\n",
       "      <td>Conv1d</td>\n",
       "      <td>None</td>\n",
       "      <td>concatenation</td>\n",
       "      <td>64</td>\n",
       "    </tr>\n",
       "    <tr>\n",
       "      <th>0</th>\n",
       "      <td>None</td>\n",
       "      <td>0.618582</td>\n",
       "      <td>0.504578</td>\n",
       "      <td>[0.7410590943975441, 0.4588492352512746, 0.313...</td>\n",
       "      <td>0.498157</td>\n",
       "      <td>[0.7896630683676807, 0.4106910039113429, 0.294...</td>\n",
       "      <td>0.518086</td>\n",
       "      <td>[0.6980913823019086, 0.5198019801980198, 0.336...</td>\n",
       "      <td>None</td>\n",
       "      <td>0.646114</td>\n",
       "      <td>...</td>\n",
       "      <td>0.0005</td>\n",
       "      <td>12</td>\n",
       "      <td>focal</td>\n",
       "      <td>2</td>\n",
       "      <td>True</td>\n",
       "      <td>5</td>\n",
       "      <td>Conv1d</td>\n",
       "      <td>None</td>\n",
       "      <td>concatenation</td>\n",
       "      <td>64</td>\n",
       "    </tr>\n",
       "    <tr>\n",
       "      <th>0</th>\n",
       "      <td>None</td>\n",
       "      <td>0.629694</td>\n",
       "      <td>0.501158</td>\n",
       "      <td>[0.7637864936596874, 0.4063545150501673, 0.333...</td>\n",
       "      <td>0.495246</td>\n",
       "      <td>[0.7791817087845969, 0.411864406779661, 0.2946...</td>\n",
       "      <td>0.511205</td>\n",
       "      <td>[0.7489878542510121, 0.400990099009901, 0.3836...</td>\n",
       "      <td>None</td>\n",
       "      <td>0.659281</td>\n",
       "      <td>...</td>\n",
       "      <td>0.0005</td>\n",
       "      <td>123</td>\n",
       "      <td>focal</td>\n",
       "      <td>2</td>\n",
       "      <td>True</td>\n",
       "      <td>5</td>\n",
       "      <td>Conv1d</td>\n",
       "      <td>None</td>\n",
       "      <td>concatenation</td>\n",
       "      <td>64</td>\n",
       "    </tr>\n",
       "  </tbody>\n",
       "</table>\n",
       "<p>3 rows × 44 columns</p>\n",
       "</div>"
      ],
      "text/plain": [
       "   loss  accuracy        f1  \\\n",
       "0  None  0.640996  0.505014   \n",
       "0  None  0.618582  0.504578   \n",
       "0  None  0.629694  0.501158   \n",
       "\n",
       "                                           f1_scores  precision  \\\n",
       "0  [0.7728579643473261, 0.3967168262653898, 0.345...   0.504270   \n",
       "0  [0.7410590943975441, 0.4588492352512746, 0.313...   0.498157   \n",
       "0  [0.7637864936596874, 0.4063545150501673, 0.333...   0.495246   \n",
       "\n",
       "                                    precision_scores    recall  \\\n",
       "0  [0.7684391080617495, 0.4434250764525994, 0.300...  0.513898   \n",
       "0  [0.7896630683676807, 0.4106910039113429, 0.294...  0.518086   \n",
       "0  [0.7791817087845969, 0.411864406779661, 0.2946...  0.511205   \n",
       "\n",
       "                                       recall_scores valid_loss  \\\n",
       "0  [0.7773279352226721, 0.3589108910891089, 0.405...       None   \n",
       "0  [0.6980913823019086, 0.5198019801980198, 0.336...       None   \n",
       "0  [0.7489878542510121, 0.400990099009901, 0.3836...       None   \n",
       "\n",
       "   valid_accuracy  ...  learning_rate seed  loss_function gamma  k_fold  \\\n",
       "0        0.672447  ...         0.0005    1          focal     2    True   \n",
       "0        0.646114  ...         0.0005   12          focal     2    True   \n",
       "0        0.659281  ...         0.0005  123          focal     2    True   \n",
       "\n",
       "  n_splits  augmentation_type  hidden_dim_aug    comb_method batch_size  \n",
       "0        5             Conv1d            None  concatenation         64  \n",
       "0        5             Conv1d            None  concatenation         64  \n",
       "0        5             Conv1d            None  concatenation         64  \n",
       "\n",
       "[3 rows x 44 columns]"
      ]
     },
     "execution_count": 14,
     "metadata": {},
     "output_type": "execute_result"
    }
   ],
   "source": [
    "best_swmhau_network_umap_kfold_5"
   ]
  },
  {
   "cell_type": "code",
   "execution_count": 15,
   "id": "e9d503c3",
   "metadata": {},
   "outputs": [
    {
     "data": {
      "text/plain": [
       "0.50358348521465"
      ]
     },
     "execution_count": 15,
     "metadata": {},
     "output_type": "execute_result"
    }
   ],
   "source": [
    "best_swmhau_network_umap_kfold_5[\"f1\"].mean()"
   ]
  },
  {
   "cell_type": "code",
   "execution_count": 19,
   "id": "f3079077",
   "metadata": {},
   "outputs": [
    {
     "data": {
      "text/plain": [
       "0.49922438069026037"
      ]
     },
     "execution_count": 19,
     "metadata": {},
     "output_type": "execute_result"
    }
   ],
   "source": [
    "best_swmhau_network_umap_kfold_5[\"precision\"].mean()"
   ]
  },
  {
   "cell_type": "code",
   "execution_count": 20,
   "id": "eb2894ed",
   "metadata": {},
   "outputs": [
    {
     "data": {
      "text/plain": [
       "0.5143960763919075"
      ]
     },
     "execution_count": 20,
     "metadata": {},
     "output_type": "execute_result"
    }
   ],
   "source": [
    "best_swmhau_network_umap_kfold_5[\"recall\"].mean()"
   ]
  },
  {
   "cell_type": "code",
   "execution_count": 21,
   "id": "a3e8bbc5",
   "metadata": {},
   "outputs": [
    {
     "data": {
      "text/plain": [
       "array([0.75923452, 0.42064019, 0.33087575])"
      ]
     },
     "execution_count": 21,
     "metadata": {},
     "output_type": "execute_result"
    }
   ],
   "source": [
    "np.stack(best_swmhau_network_umap_kfold_5[\"f1_scores\"]).mean(axis=0)"
   ]
  },
  {
   "cell_type": "code",
   "execution_count": 22,
   "id": "4601b7f2",
   "metadata": {},
   "outputs": [
    {
     "data": {
      "text/plain": [
       "array([0.77909463, 0.4219935 , 0.29658502])"
      ]
     },
     "execution_count": 22,
     "metadata": {},
     "output_type": "execute_result"
    }
   ],
   "source": [
    "np.stack(best_swmhau_network_umap_kfold_5[\"precision_scores\"]).mean(axis=0)"
   ]
  },
  {
   "cell_type": "code",
   "execution_count": 23,
   "id": "a3201dd5",
   "metadata": {},
   "outputs": [
    {
     "data": {
      "text/plain": [
       "array([0.74146906, 0.42656766, 0.37515152])"
      ]
     },
     "execution_count": 23,
     "metadata": {},
     "output_type": "execute_result"
    }
   ],
   "source": [
    "np.stack(best_swmhau_network_umap_kfold_5[\"recall_scores\"]).mean(axis=0)"
   ]
  },
  {
   "cell_type": "markdown",
   "id": "e1431c13-2914-49f7-abb1-24c5afeba251",
   "metadata": {
    "tags": []
   },
   "source": [
    "# w=11"
   ]
  },
  {
   "cell_type": "code",
   "execution_count": 24,
   "id": "aa851ce9-ccfe-4fa2-ab4b-f3f37d85aa39",
   "metadata": {},
   "outputs": [],
   "source": [
    "size = 11"
   ]
  },
  {
   "cell_type": "markdown",
   "id": "8e1e81bc-c856-4b2b-bd60-a4480c855a0f",
   "metadata": {},
   "source": [
    "## umap"
   ]
  },
  {
   "cell_type": "code",
   "execution_count": 25,
   "id": "b69aae1a-b85c-4daf-bfd4-3ec6f8b779c1",
   "metadata": {},
   "outputs": [
    {
     "data": {
      "application/vnd.jupyter.widget-view+json": {
       "model_id": "b5e7cc6e698f4a00978629e531e0ad08",
       "version_major": 2,
       "version_minor": 0
      },
      "text/plain": [
       "  0%|          | 0/1 [00:00<?, ?it/s]"
      ]
     },
     "metadata": {},
     "output_type": "display_data"
    },
    {
     "data": {
      "application/vnd.jupyter.widget-view+json": {
       "model_id": "2c2b90add84647aeb699c43826860790",
       "version_major": 2,
       "version_minor": 0
      },
      "text/plain": [
       "  0%|          | 0/1 [00:00<?, ?it/s]"
      ]
     },
     "metadata": {},
     "output_type": "display_data"
    },
    {
     "data": {
      "application/vnd.jupyter.widget-view+json": {
       "model_id": "630c16f2bd8c4956bfbbecc8ea676168",
       "version_major": 2,
       "version_minor": 0
      },
      "text/plain": [
       "  0%|          | 0/1 [00:00<?, ?it/s]"
      ]
     },
     "metadata": {},
     "output_type": "display_data"
    },
    {
     "name": "stdout",
     "output_type": "stream",
     "text": [
      "\n",
      "##################################################\n",
      "dimension: 15 | method: umap\n",
      "[INFO] Concatenating the embeddings to the dataframe...\n",
      "[INFO] - columns beginning with 'e' denote the full embddings.\n",
      "[INFO] - columns beginning with 'd' denote the dimension reduced embeddings.\n",
      "[INFO] Adding time feature columns into dataframe in `.df`.\n",
      "[INFO] Adding 'time_encoding' feature...\n",
      "[INFO] Adding 'time_diff' feature...\n",
      "[INFO] Adding 'timeline_index' feature...\n",
      "[INFO] Padding ids and storing in `.df_padded` and `.array_padded` attributes.\n"
     ]
    },
    {
     "data": {
      "application/vnd.jupyter.widget-view+json": {
       "model_id": "423522587278473086c64f83e27fe130",
       "version_major": 2,
       "version_minor": 0
      },
      "text/plain": [
       "  0%|          | 0/9699 [00:00<?, ?it/s]"
      ]
     },
     "metadata": {},
     "output_type": "display_data"
    },
    {
     "name": "stdout",
     "output_type": "stream",
     "text": [
      "[INFO] The path was created for each item in the dataframe, by looking at its history, so to include embeddings in the FFN input, we concatenate the embeddings for each sentence / text.\n"
     ]
    },
    {
     "data": {
      "application/vnd.jupyter.widget-view+json": {
       "model_id": "b005d4acf3354d3abf932f66db64bbf2",
       "version_major": 2,
       "version_minor": 0
      },
      "text/plain": [
       "  0%|          | 0/2 [00:00<?, ?it/s]"
      ]
     },
     "metadata": {},
     "output_type": "display_data"
    },
    {
     "data": {
      "application/vnd.jupyter.widget-view+json": {
       "model_id": "b5eae9e3bb8a4e99b0d34b75b4908c65",
       "version_major": 2,
       "version_minor": 0
      },
      "text/plain": [
       "  0%|          | 0/1 [00:00<?, ?it/s]"
      ]
     },
     "metadata": {},
     "output_type": "display_data"
    },
    {
     "data": {
      "application/vnd.jupyter.widget-view+json": {
       "model_id": "43ee8c26d84b465a94d8fbeb41c4ceb9",
       "version_major": 2,
       "version_minor": 0
      },
      "text/plain": [
       "  0%|          | 0/3 [00:00<?, ?it/s]"
      ]
     },
     "metadata": {},
     "output_type": "display_data"
    },
    {
     "data": {
      "application/vnd.jupyter.widget-view+json": {
       "model_id": "df4503ea53ce4a42b67b5ee8ea4bf255",
       "version_major": 2,
       "version_minor": 0
      },
      "text/plain": [
       "  0%|          | 0/1 [00:00<?, ?it/s]"
      ]
     },
     "metadata": {},
     "output_type": "display_data"
    },
    {
     "data": {
      "application/vnd.jupyter.widget-view+json": {
       "model_id": "524397eb27ad4ceabd1a67d4e1ee11e1",
       "version_major": 2,
       "version_minor": 0
      },
      "text/plain": [
       "  0%|          | 0/3 [00:00<?, ?it/s]"
      ]
     },
     "metadata": {},
     "output_type": "display_data"
    },
    {
     "data": {
      "application/vnd.jupyter.widget-view+json": {
       "model_id": "346b5d24267344ed8da09c3e106b7d4e",
       "version_major": 2,
       "version_minor": 0
      },
      "text/plain": [
       "  0%|          | 0/1 [00:00<?, ?it/s]"
      ]
     },
     "metadata": {},
     "output_type": "display_data"
    },
    {
     "data": {
      "application/vnd.jupyter.widget-view+json": {
       "model_id": "299684f218ea4779bbaa2fc3a277824f",
       "version_major": 2,
       "version_minor": 0
      },
      "text/plain": [
       "  0%|          | 0/3 [00:00<?, ?it/s]"
      ]
     },
     "metadata": {},
     "output_type": "display_data"
    },
    {
     "data": {
      "application/vnd.jupyter.widget-view+json": {
       "model_id": "5d74139bc630480a868f7e966dd598f1",
       "version_major": 2,
       "version_minor": 0
      },
      "text/plain": [
       "  0%|          | 0/1 [00:00<?, ?it/s]"
      ]
     },
     "metadata": {},
     "output_type": "display_data"
    },
    {
     "data": {
      "application/vnd.jupyter.widget-view+json": {
       "model_id": "cfb9d392f40a4f5881d96cd8109685ee",
       "version_major": 2,
       "version_minor": 0
      },
      "text/plain": [
       "  0%|          | 0/3 [00:00<?, ?it/s]"
      ]
     },
     "metadata": {},
     "output_type": "display_data"
    },
    {
     "data": {
      "application/vnd.jupyter.widget-view+json": {
       "model_id": "55c64e30446f4def9d56aa4c28ae26ac",
       "version_major": 2,
       "version_minor": 0
      },
      "text/plain": [
       "  0%|          | 0/1 [00:00<?, ?it/s]"
      ]
     },
     "metadata": {},
     "output_type": "display_data"
    },
    {
     "data": {
      "application/vnd.jupyter.widget-view+json": {
       "model_id": "4cf5eec9ff584b2a8833aee5beede8fb",
       "version_major": 2,
       "version_minor": 0
      },
      "text/plain": [
       "  0%|          | 0/3 [00:00<?, ?it/s]"
      ]
     },
     "metadata": {},
     "output_type": "display_data"
    },
    {
     "data": {
      "application/vnd.jupyter.widget-view+json": {
       "model_id": "15c75540331b478bae483f5e70ea74bd",
       "version_major": 2,
       "version_minor": 0
      },
      "text/plain": [
       "  0%|          | 0/1 [00:00<?, ?it/s]"
      ]
     },
     "metadata": {},
     "output_type": "display_data"
    },
    {
     "data": {
      "application/vnd.jupyter.widget-view+json": {
       "model_id": "e4c44fcc9b024e1eb0906b015b0dc321",
       "version_major": 2,
       "version_minor": 0
      },
      "text/plain": [
       "  0%|          | 0/3 [00:00<?, ?it/s]"
      ]
     },
     "metadata": {},
     "output_type": "display_data"
    },
    {
     "data": {
      "application/vnd.jupyter.widget-view+json": {
       "model_id": "4f5a6baa423d48b0be0eb55e9b391fd5",
       "version_major": 2,
       "version_minor": 0
      },
      "text/plain": [
       "  0%|          | 0/1 [00:00<?, ?it/s]"
      ]
     },
     "metadata": {},
     "output_type": "display_data"
    },
    {
     "data": {
      "application/vnd.jupyter.widget-view+json": {
       "model_id": "96025f95611c4e8190ed4ad1293d365f",
       "version_major": 2,
       "version_minor": 0
      },
      "text/plain": [
       "  0%|          | 0/3 [00:00<?, ?it/s]"
      ]
     },
     "metadata": {},
     "output_type": "display_data"
    },
    {
     "data": {
      "application/vnd.jupyter.widget-view+json": {
       "model_id": "6e0726c788264d118ecb7ba39bee95d6",
       "version_major": 2,
       "version_minor": 0
      },
      "text/plain": [
       "  0%|          | 0/1 [00:00<?, ?it/s]"
      ]
     },
     "metadata": {},
     "output_type": "display_data"
    },
    {
     "data": {
      "application/vnd.jupyter.widget-view+json": {
       "model_id": "0acd2f27b5d1415aa1e1586b484d8727",
       "version_major": 2,
       "version_minor": 0
      },
      "text/plain": [
       "  0%|          | 0/3 [00:00<?, ?it/s]"
      ]
     },
     "metadata": {},
     "output_type": "display_data"
    },
    {
     "name": "stdout",
     "output_type": "stream",
     "text": [
      "[INFO] Concatenating the embeddings to the dataframe...\n",
      "[INFO] - columns beginning with 'e' denote the full embddings.\n",
      "[INFO] - columns beginning with 'd' denote the dimension reduced embeddings.\n",
      "[INFO] Adding time feature columns into dataframe in `.df`.\n",
      "[INFO] Adding 'time_encoding' feature...\n",
      "[INFO] Adding 'time_diff' feature...\n",
      "[INFO] Adding 'timeline_index' feature...\n",
      "[INFO] Padding ids and storing in `.df_padded` and `.array_padded` attributes.\n"
     ]
    },
    {
     "data": {
      "application/vnd.jupyter.widget-view+json": {
       "model_id": "d757c2ae78654be8b69c7afa0ba19817",
       "version_major": 2,
       "version_minor": 0
      },
      "text/plain": [
       "  0%|          | 0/9699 [00:00<?, ?it/s]"
      ]
     },
     "metadata": {},
     "output_type": "display_data"
    },
    {
     "name": "stdout",
     "output_type": "stream",
     "text": [
      "[INFO] The path was created for each item in the dataframe, by looking at its history, so to include embeddings in the FFN input, we concatenate the embeddings for each sentence / text.\n",
      "saving results dataframe to CSV for this hyperparameter search in client_talk_type_output/swmhau_network_umap_focal_2_11_kfold.csv\n",
      "saving the best model results dataframe to CSV for this hyperparameter search in client_talk_type_output/swmhau_network_umap_focal_2_11_kfold_best_model.csv\n"
     ]
    }
   ],
   "source": [
    "(\n",
    "    swmhau_network_umap_kfold_11,\n",
    "    best_swmhau_network_umap_kfold_11,\n",
    "    _,\n",
    "    __,\n",
    ") = swmhau_network_hyperparameter_search(\n",
    "    history_lengths=[size],\n",
    "    dim_reduce_methods=[\"umap\"],\n",
    "    results_output=f\"{output_dir}/swmhau_network_umap_focal_{gamma}_{size}_kfold.csv\",\n",
    "    **kwargs,\n",
    ")"
   ]
  },
  {
   "cell_type": "code",
   "execution_count": 26,
   "id": "cc2639bd-5381-4de1-909d-bda139bd5445",
   "metadata": {},
   "outputs": [
    {
     "name": "stderr",
     "output_type": "stream",
     "text": [
      "/tmp/ipykernel_2582605/404807304.py:1: FutureWarning: The default value of numeric_only in DataFrameGroupBy.mean is deprecated. In a future version, numeric_only will default to False. Either specify numeric_only or select only columns which should be valid for the function.\n",
      "  swmhau_network_umap_kfold_11.groupby(\n"
     ]
    },
    {
     "data": {
      "text/html": [
       "<div>\n",
       "<style scoped>\n",
       "    .dataframe tbody tr th:only-of-type {\n",
       "        vertical-align: middle;\n",
       "    }\n",
       "\n",
       "    .dataframe tbody tr th {\n",
       "        vertical-align: top;\n",
       "    }\n",
       "\n",
       "    .dataframe thead th {\n",
       "        text-align: right;\n",
       "    }\n",
       "</style>\n",
       "<table border=\"1\" class=\"dataframe\">\n",
       "  <thead>\n",
       "    <tr style=\"text-align: right;\">\n",
       "      <th></th>\n",
       "      <th></th>\n",
       "      <th></th>\n",
       "      <th></th>\n",
       "      <th></th>\n",
       "      <th></th>\n",
       "      <th></th>\n",
       "      <th></th>\n",
       "      <th>accuracy</th>\n",
       "      <th>f1</th>\n",
       "      <th>precision</th>\n",
       "      <th>recall</th>\n",
       "      <th>valid_accuracy</th>\n",
       "      <th>valid_f1</th>\n",
       "      <th>valid_precision</th>\n",
       "      <th>valid_recall</th>\n",
       "      <th>k</th>\n",
       "      <th>input_channels</th>\n",
       "      <th>...</th>\n",
       "      <th>include_features_in_input</th>\n",
       "      <th>embedding_dim</th>\n",
       "      <th>num_features</th>\n",
       "      <th>log_signature</th>\n",
       "      <th>seed</th>\n",
       "      <th>gamma</th>\n",
       "      <th>k_fold</th>\n",
       "      <th>n_splits</th>\n",
       "      <th>batch_size</th>\n",
       "      <th>model_id</th>\n",
       "    </tr>\n",
       "    <tr>\n",
       "      <th>dimensions</th>\n",
       "      <th>output_channels</th>\n",
       "      <th>sig_depth</th>\n",
       "      <th>num_heads</th>\n",
       "      <th>num_layers</th>\n",
       "      <th>ffn_hidden_dim</th>\n",
       "      <th>dropout_rate</th>\n",
       "      <th>learning_rate</th>\n",
       "      <th></th>\n",
       "      <th></th>\n",
       "      <th></th>\n",
       "      <th></th>\n",
       "      <th></th>\n",
       "      <th></th>\n",
       "      <th></th>\n",
       "      <th></th>\n",
       "      <th></th>\n",
       "      <th></th>\n",
       "      <th></th>\n",
       "      <th></th>\n",
       "      <th></th>\n",
       "      <th></th>\n",
       "      <th></th>\n",
       "      <th></th>\n",
       "      <th></th>\n",
       "      <th></th>\n",
       "      <th></th>\n",
       "      <th></th>\n",
       "      <th></th>\n",
       "    </tr>\n",
       "  </thead>\n",
       "  <tbody>\n",
       "    <tr>\n",
       "      <th rowspan=\"18\" valign=\"top\">15</th>\n",
       "      <th rowspan=\"9\" valign=\"top\">10</th>\n",
       "      <th rowspan=\"9\" valign=\"top\">3</th>\n",
       "      <th rowspan=\"9\" valign=\"top\">5</th>\n",
       "      <th rowspan=\"9\" valign=\"top\">1</th>\n",
       "      <th rowspan=\"3\" valign=\"top\">(32, 32)</th>\n",
       "      <th rowspan=\"3\" valign=\"top\">0.1</th>\n",
       "      <th>0.0001</th>\n",
       "      <td>0.624840</td>\n",
       "      <td>0.375354</td>\n",
       "      <td>0.420256</td>\n",
       "      <td>0.378450</td>\n",
       "      <td>0.636480</td>\n",
       "      <td>0.414675</td>\n",
       "      <td>0.484190</td>\n",
       "      <td>0.412647</td>\n",
       "      <td>11.0</td>\n",
       "      <td>17.0</td>\n",
       "      <td>...</td>\n",
       "      <td>1.0</td>\n",
       "      <td>384.0</td>\n",
       "      <td>2.0</td>\n",
       "      <td>1.0</td>\n",
       "      <td>45.333333</td>\n",
       "      <td>2.0</td>\n",
       "      <td>1.0</td>\n",
       "      <td>5.0</td>\n",
       "      <td>64.0</td>\n",
       "      <td>11.0</td>\n",
       "    </tr>\n",
       "    <tr>\n",
       "      <th>0.0003</th>\n",
       "      <td>0.617369</td>\n",
       "      <td>0.450537</td>\n",
       "      <td>0.461442</td>\n",
       "      <td>0.446540</td>\n",
       "      <td>0.646650</td>\n",
       "      <td>0.507987</td>\n",
       "      <td>0.520169</td>\n",
       "      <td>0.501764</td>\n",
       "      <td>11.0</td>\n",
       "      <td>17.0</td>\n",
       "      <td>...</td>\n",
       "      <td>1.0</td>\n",
       "      <td>384.0</td>\n",
       "      <td>2.0</td>\n",
       "      <td>1.0</td>\n",
       "      <td>45.333333</td>\n",
       "      <td>2.0</td>\n",
       "      <td>1.0</td>\n",
       "      <td>5.0</td>\n",
       "      <td>64.0</td>\n",
       "      <td>10.0</td>\n",
       "    </tr>\n",
       "    <tr>\n",
       "      <th>0.0005</th>\n",
       "      <td>0.627395</td>\n",
       "      <td>0.482031</td>\n",
       "      <td>0.483114</td>\n",
       "      <td>0.481586</td>\n",
       "      <td>0.662010</td>\n",
       "      <td>0.537340</td>\n",
       "      <td>0.539799</td>\n",
       "      <td>0.535462</td>\n",
       "      <td>11.0</td>\n",
       "      <td>17.0</td>\n",
       "      <td>...</td>\n",
       "      <td>1.0</td>\n",
       "      <td>384.0</td>\n",
       "      <td>2.0</td>\n",
       "      <td>1.0</td>\n",
       "      <td>45.333333</td>\n",
       "      <td>2.0</td>\n",
       "      <td>1.0</td>\n",
       "      <td>5.0</td>\n",
       "      <td>64.0</td>\n",
       "      <td>9.0</td>\n",
       "    </tr>\n",
       "    <tr>\n",
       "      <th rowspan=\"3\" valign=\"top\">(128, 128)</th>\n",
       "      <th rowspan=\"3\" valign=\"top\">0.1</th>\n",
       "      <th>0.0001</th>\n",
       "      <td>0.616858</td>\n",
       "      <td>0.436992</td>\n",
       "      <td>0.450383</td>\n",
       "      <td>0.433451</td>\n",
       "      <td>0.635356</td>\n",
       "      <td>0.480344</td>\n",
       "      <td>0.496716</td>\n",
       "      <td>0.474985</td>\n",
       "      <td>11.0</td>\n",
       "      <td>17.0</td>\n",
       "      <td>...</td>\n",
       "      <td>1.0</td>\n",
       "      <td>384.0</td>\n",
       "      <td>2.0</td>\n",
       "      <td>1.0</td>\n",
       "      <td>45.333333</td>\n",
       "      <td>2.0</td>\n",
       "      <td>1.0</td>\n",
       "      <td>5.0</td>\n",
       "      <td>64.0</td>\n",
       "      <td>14.0</td>\n",
       "    </tr>\n",
       "    <tr>\n",
       "      <th>0.0003</th>\n",
       "      <td>0.624521</td>\n",
       "      <td>0.474755</td>\n",
       "      <td>0.480115</td>\n",
       "      <td>0.474407</td>\n",
       "      <td>0.648148</td>\n",
       "      <td>0.517653</td>\n",
       "      <td>0.523702</td>\n",
       "      <td>0.516102</td>\n",
       "      <td>11.0</td>\n",
       "      <td>17.0</td>\n",
       "      <td>...</td>\n",
       "      <td>1.0</td>\n",
       "      <td>384.0</td>\n",
       "      <td>2.0</td>\n",
       "      <td>1.0</td>\n",
       "      <td>45.333333</td>\n",
       "      <td>2.0</td>\n",
       "      <td>1.0</td>\n",
       "      <td>5.0</td>\n",
       "      <td>64.0</td>\n",
       "      <td>13.0</td>\n",
       "    </tr>\n",
       "    <tr>\n",
       "      <th>0.0005</th>\n",
       "      <td>0.627650</td>\n",
       "      <td>0.509560</td>\n",
       "      <td>0.503509</td>\n",
       "      <td>0.521507</td>\n",
       "      <td>0.659388</td>\n",
       "      <td>0.551974</td>\n",
       "      <td>0.548254</td>\n",
       "      <td>0.557536</td>\n",
       "      <td>11.0</td>\n",
       "      <td>17.0</td>\n",
       "      <td>...</td>\n",
       "      <td>1.0</td>\n",
       "      <td>384.0</td>\n",
       "      <td>2.0</td>\n",
       "      <td>1.0</td>\n",
       "      <td>45.333333</td>\n",
       "      <td>2.0</td>\n",
       "      <td>1.0</td>\n",
       "      <td>5.0</td>\n",
       "      <td>64.0</td>\n",
       "      <td>12.0</td>\n",
       "    </tr>\n",
       "    <tr>\n",
       "      <th rowspan=\"3\" valign=\"top\">(512, 512)</th>\n",
       "      <th rowspan=\"3\" valign=\"top\">0.1</th>\n",
       "      <th>0.0001</th>\n",
       "      <td>0.612899</td>\n",
       "      <td>0.465875</td>\n",
       "      <td>0.471020</td>\n",
       "      <td>0.464608</td>\n",
       "      <td>0.646114</td>\n",
       "      <td>0.515116</td>\n",
       "      <td>0.521732</td>\n",
       "      <td>0.512496</td>\n",
       "      <td>11.0</td>\n",
       "      <td>17.0</td>\n",
       "      <td>...</td>\n",
       "      <td>1.0</td>\n",
       "      <td>384.0</td>\n",
       "      <td>2.0</td>\n",
       "      <td>1.0</td>\n",
       "      <td>45.333333</td>\n",
       "      <td>2.0</td>\n",
       "      <td>1.0</td>\n",
       "      <td>5.0</td>\n",
       "      <td>64.0</td>\n",
       "      <td>17.0</td>\n",
       "    </tr>\n",
       "    <tr>\n",
       "      <th>0.0003</th>\n",
       "      <td>0.611814</td>\n",
       "      <td>0.487970</td>\n",
       "      <td>0.485863</td>\n",
       "      <td>0.494569</td>\n",
       "      <td>0.651627</td>\n",
       "      <td>0.536563</td>\n",
       "      <td>0.536111</td>\n",
       "      <td>0.538910</td>\n",
       "      <td>11.0</td>\n",
       "      <td>17.0</td>\n",
       "      <td>...</td>\n",
       "      <td>1.0</td>\n",
       "      <td>384.0</td>\n",
       "      <td>2.0</td>\n",
       "      <td>1.0</td>\n",
       "      <td>45.333333</td>\n",
       "      <td>2.0</td>\n",
       "      <td>1.0</td>\n",
       "      <td>5.0</td>\n",
       "      <td>64.0</td>\n",
       "      <td>16.0</td>\n",
       "    </tr>\n",
       "    <tr>\n",
       "      <th>0.0005</th>\n",
       "      <td>0.633142</td>\n",
       "      <td>0.503375</td>\n",
       "      <td>0.501060</td>\n",
       "      <td>0.508753</td>\n",
       "      <td>0.657140</td>\n",
       "      <td>0.541858</td>\n",
       "      <td>0.540305</td>\n",
       "      <td>0.544854</td>\n",
       "      <td>11.0</td>\n",
       "      <td>17.0</td>\n",
       "      <td>...</td>\n",
       "      <td>1.0</td>\n",
       "      <td>384.0</td>\n",
       "      <td>2.0</td>\n",
       "      <td>1.0</td>\n",
       "      <td>45.333333</td>\n",
       "      <td>2.0</td>\n",
       "      <td>1.0</td>\n",
       "      <td>5.0</td>\n",
       "      <td>64.0</td>\n",
       "      <td>15.0</td>\n",
       "    </tr>\n",
       "    <tr>\n",
       "      <th rowspan=\"9\" valign=\"top\">12</th>\n",
       "      <th rowspan=\"9\" valign=\"top\">3</th>\n",
       "      <th rowspan=\"9\" valign=\"top\">10</th>\n",
       "      <th rowspan=\"9\" valign=\"top\">1</th>\n",
       "      <th rowspan=\"3\" valign=\"top\">(32, 32)</th>\n",
       "      <th rowspan=\"3\" valign=\"top\">0.1</th>\n",
       "      <th>0.0001</th>\n",
       "      <td>0.614623</td>\n",
       "      <td>0.365546</td>\n",
       "      <td>0.405257</td>\n",
       "      <td>0.373497</td>\n",
       "      <td>0.629790</td>\n",
       "      <td>0.413939</td>\n",
       "      <td>0.475510</td>\n",
       "      <td>0.415510</td>\n",
       "      <td>11.0</td>\n",
       "      <td>17.0</td>\n",
       "      <td>...</td>\n",
       "      <td>1.0</td>\n",
       "      <td>384.0</td>\n",
       "      <td>2.0</td>\n",
       "      <td>1.0</td>\n",
       "      <td>45.333333</td>\n",
       "      <td>2.0</td>\n",
       "      <td>1.0</td>\n",
       "      <td>5.0</td>\n",
       "      <td>64.0</td>\n",
       "      <td>2.0</td>\n",
       "    </tr>\n",
       "    <tr>\n",
       "      <th>0.0003</th>\n",
       "      <td>0.616284</td>\n",
       "      <td>0.422264</td>\n",
       "      <td>0.444457</td>\n",
       "      <td>0.419978</td>\n",
       "      <td>0.642421</td>\n",
       "      <td>0.472514</td>\n",
       "      <td>0.500561</td>\n",
       "      <td>0.465170</td>\n",
       "      <td>11.0</td>\n",
       "      <td>17.0</td>\n",
       "      <td>...</td>\n",
       "      <td>1.0</td>\n",
       "      <td>384.0</td>\n",
       "      <td>2.0</td>\n",
       "      <td>1.0</td>\n",
       "      <td>45.333333</td>\n",
       "      <td>2.0</td>\n",
       "      <td>1.0</td>\n",
       "      <td>5.0</td>\n",
       "      <td>64.0</td>\n",
       "      <td>1.0</td>\n",
       "    </tr>\n",
       "    <tr>\n",
       "      <th>0.0005</th>\n",
       "      <td>0.617050</td>\n",
       "      <td>0.483115</td>\n",
       "      <td>0.482451</td>\n",
       "      <td>0.486339</td>\n",
       "      <td>0.661796</td>\n",
       "      <td>0.548486</td>\n",
       "      <td>0.548074</td>\n",
       "      <td>0.550277</td>\n",
       "      <td>11.0</td>\n",
       "      <td>17.0</td>\n",
       "      <td>...</td>\n",
       "      <td>1.0</td>\n",
       "      <td>384.0</td>\n",
       "      <td>2.0</td>\n",
       "      <td>1.0</td>\n",
       "      <td>45.333333</td>\n",
       "      <td>2.0</td>\n",
       "      <td>1.0</td>\n",
       "      <td>5.0</td>\n",
       "      <td>64.0</td>\n",
       "      <td>0.0</td>\n",
       "    </tr>\n",
       "    <tr>\n",
       "      <th rowspan=\"3\" valign=\"top\">(128, 128)</th>\n",
       "      <th rowspan=\"3\" valign=\"top\">0.1</th>\n",
       "      <th>0.0001</th>\n",
       "      <td>0.623308</td>\n",
       "      <td>0.380603</td>\n",
       "      <td>0.419605</td>\n",
       "      <td>0.382553</td>\n",
       "      <td>0.634286</td>\n",
       "      <td>0.421186</td>\n",
       "      <td>0.474422</td>\n",
       "      <td>0.418387</td>\n",
       "      <td>11.0</td>\n",
       "      <td>17.0</td>\n",
       "      <td>...</td>\n",
       "      <td>1.0</td>\n",
       "      <td>384.0</td>\n",
       "      <td>2.0</td>\n",
       "      <td>1.0</td>\n",
       "      <td>45.333333</td>\n",
       "      <td>2.0</td>\n",
       "      <td>1.0</td>\n",
       "      <td>5.0</td>\n",
       "      <td>64.0</td>\n",
       "      <td>5.0</td>\n",
       "    </tr>\n",
       "    <tr>\n",
       "      <th>0.0003</th>\n",
       "      <td>0.620434</td>\n",
       "      <td>0.462209</td>\n",
       "      <td>0.475572</td>\n",
       "      <td>0.462789</td>\n",
       "      <td>0.651466</td>\n",
       "      <td>0.508236</td>\n",
       "      <td>0.526278</td>\n",
       "      <td>0.506824</td>\n",
       "      <td>11.0</td>\n",
       "      <td>17.0</td>\n",
       "      <td>...</td>\n",
       "      <td>1.0</td>\n",
       "      <td>384.0</td>\n",
       "      <td>2.0</td>\n",
       "      <td>1.0</td>\n",
       "      <td>45.333333</td>\n",
       "      <td>2.0</td>\n",
       "      <td>1.0</td>\n",
       "      <td>5.0</td>\n",
       "      <td>64.0</td>\n",
       "      <td>4.0</td>\n",
       "    </tr>\n",
       "    <tr>\n",
       "      <th>0.0005</th>\n",
       "      <td>0.627139</td>\n",
       "      <td>0.496839</td>\n",
       "      <td>0.492065</td>\n",
       "      <td>0.505192</td>\n",
       "      <td>0.660405</td>\n",
       "      <td>0.552239</td>\n",
       "      <td>0.547137</td>\n",
       "      <td>0.559487</td>\n",
       "      <td>11.0</td>\n",
       "      <td>17.0</td>\n",
       "      <td>...</td>\n",
       "      <td>1.0</td>\n",
       "      <td>384.0</td>\n",
       "      <td>2.0</td>\n",
       "      <td>1.0</td>\n",
       "      <td>45.333333</td>\n",
       "      <td>2.0</td>\n",
       "      <td>1.0</td>\n",
       "      <td>5.0</td>\n",
       "      <td>64.0</td>\n",
       "      <td>3.0</td>\n",
       "    </tr>\n",
       "    <tr>\n",
       "      <th rowspan=\"3\" valign=\"top\">(512, 512)</th>\n",
       "      <th rowspan=\"3\" valign=\"top\">0.1</th>\n",
       "      <th>0.0001</th>\n",
       "      <td>0.614751</td>\n",
       "      <td>0.440870</td>\n",
       "      <td>0.453916</td>\n",
       "      <td>0.438789</td>\n",
       "      <td>0.640441</td>\n",
       "      <td>0.482025</td>\n",
       "      <td>0.505917</td>\n",
       "      <td>0.475937</td>\n",
       "      <td>11.0</td>\n",
       "      <td>17.0</td>\n",
       "      <td>...</td>\n",
       "      <td>1.0</td>\n",
       "      <td>384.0</td>\n",
       "      <td>2.0</td>\n",
       "      <td>1.0</td>\n",
       "      <td>45.333333</td>\n",
       "      <td>2.0</td>\n",
       "      <td>1.0</td>\n",
       "      <td>5.0</td>\n",
       "      <td>64.0</td>\n",
       "      <td>8.0</td>\n",
       "    </tr>\n",
       "    <tr>\n",
       "      <th>0.0003</th>\n",
       "      <td>0.626309</td>\n",
       "      <td>0.470740</td>\n",
       "      <td>0.477265</td>\n",
       "      <td>0.468195</td>\n",
       "      <td>0.656069</td>\n",
       "      <td>0.521618</td>\n",
       "      <td>0.530341</td>\n",
       "      <td>0.517943</td>\n",
       "      <td>11.0</td>\n",
       "      <td>17.0</td>\n",
       "      <td>...</td>\n",
       "      <td>1.0</td>\n",
       "      <td>384.0</td>\n",
       "      <td>2.0</td>\n",
       "      <td>1.0</td>\n",
       "      <td>45.333333</td>\n",
       "      <td>2.0</td>\n",
       "      <td>1.0</td>\n",
       "      <td>5.0</td>\n",
       "      <td>64.0</td>\n",
       "      <td>7.0</td>\n",
       "    </tr>\n",
       "    <tr>\n",
       "      <th>0.0005</th>\n",
       "      <td>0.632120</td>\n",
       "      <td>0.496380</td>\n",
       "      <td>0.498358</td>\n",
       "      <td>0.499782</td>\n",
       "      <td>0.660298</td>\n",
       "      <td>0.540699</td>\n",
       "      <td>0.543626</td>\n",
       "      <td>0.540834</td>\n",
       "      <td>11.0</td>\n",
       "      <td>17.0</td>\n",
       "      <td>...</td>\n",
       "      <td>1.0</td>\n",
       "      <td>384.0</td>\n",
       "      <td>2.0</td>\n",
       "      <td>1.0</td>\n",
       "      <td>45.333333</td>\n",
       "      <td>2.0</td>\n",
       "      <td>1.0</td>\n",
       "      <td>5.0</td>\n",
       "      <td>64.0</td>\n",
       "      <td>6.0</td>\n",
       "    </tr>\n",
       "  </tbody>\n",
       "</table>\n",
       "<p>18 rows × 21 columns</p>\n",
       "</div>"
      ],
      "text/plain": [
       "                                                                                                     accuracy  \\\n",
       "dimensions output_channels sig_depth num_heads num_layers ffn_hidden_dim dropout_rate learning_rate             \n",
       "15         10              3         5         1          (32, 32)       0.1          0.0001         0.624840   \n",
       "                                                                                      0.0003         0.617369   \n",
       "                                                                                      0.0005         0.627395   \n",
       "                                                          (128, 128)     0.1          0.0001         0.616858   \n",
       "                                                                                      0.0003         0.624521   \n",
       "                                                                                      0.0005         0.627650   \n",
       "                                                          (512, 512)     0.1          0.0001         0.612899   \n",
       "                                                                                      0.0003         0.611814   \n",
       "                                                                                      0.0005         0.633142   \n",
       "           12              3         10        1          (32, 32)       0.1          0.0001         0.614623   \n",
       "                                                                                      0.0003         0.616284   \n",
       "                                                                                      0.0005         0.617050   \n",
       "                                                          (128, 128)     0.1          0.0001         0.623308   \n",
       "                                                                                      0.0003         0.620434   \n",
       "                                                                                      0.0005         0.627139   \n",
       "                                                          (512, 512)     0.1          0.0001         0.614751   \n",
       "                                                                                      0.0003         0.626309   \n",
       "                                                                                      0.0005         0.632120   \n",
       "\n",
       "                                                                                                           f1  \\\n",
       "dimensions output_channels sig_depth num_heads num_layers ffn_hidden_dim dropout_rate learning_rate             \n",
       "15         10              3         5         1          (32, 32)       0.1          0.0001         0.375354   \n",
       "                                                                                      0.0003         0.450537   \n",
       "                                                                                      0.0005         0.482031   \n",
       "                                                          (128, 128)     0.1          0.0001         0.436992   \n",
       "                                                                                      0.0003         0.474755   \n",
       "                                                                                      0.0005         0.509560   \n",
       "                                                          (512, 512)     0.1          0.0001         0.465875   \n",
       "                                                                                      0.0003         0.487970   \n",
       "                                                                                      0.0005         0.503375   \n",
       "           12              3         10        1          (32, 32)       0.1          0.0001         0.365546   \n",
       "                                                                                      0.0003         0.422264   \n",
       "                                                                                      0.0005         0.483115   \n",
       "                                                          (128, 128)     0.1          0.0001         0.380603   \n",
       "                                                                                      0.0003         0.462209   \n",
       "                                                                                      0.0005         0.496839   \n",
       "                                                          (512, 512)     0.1          0.0001         0.440870   \n",
       "                                                                                      0.0003         0.470740   \n",
       "                                                                                      0.0005         0.496380   \n",
       "\n",
       "                                                                                                     precision  \\\n",
       "dimensions output_channels sig_depth num_heads num_layers ffn_hidden_dim dropout_rate learning_rate              \n",
       "15         10              3         5         1          (32, 32)       0.1          0.0001          0.420256   \n",
       "                                                                                      0.0003          0.461442   \n",
       "                                                                                      0.0005          0.483114   \n",
       "                                                          (128, 128)     0.1          0.0001          0.450383   \n",
       "                                                                                      0.0003          0.480115   \n",
       "                                                                                      0.0005          0.503509   \n",
       "                                                          (512, 512)     0.1          0.0001          0.471020   \n",
       "                                                                                      0.0003          0.485863   \n",
       "                                                                                      0.0005          0.501060   \n",
       "           12              3         10        1          (32, 32)       0.1          0.0001          0.405257   \n",
       "                                                                                      0.0003          0.444457   \n",
       "                                                                                      0.0005          0.482451   \n",
       "                                                          (128, 128)     0.1          0.0001          0.419605   \n",
       "                                                                                      0.0003          0.475572   \n",
       "                                                                                      0.0005          0.492065   \n",
       "                                                          (512, 512)     0.1          0.0001          0.453916   \n",
       "                                                                                      0.0003          0.477265   \n",
       "                                                                                      0.0005          0.498358   \n",
       "\n",
       "                                                                                                       recall  \\\n",
       "dimensions output_channels sig_depth num_heads num_layers ffn_hidden_dim dropout_rate learning_rate             \n",
       "15         10              3         5         1          (32, 32)       0.1          0.0001         0.378450   \n",
       "                                                                                      0.0003         0.446540   \n",
       "                                                                                      0.0005         0.481586   \n",
       "                                                          (128, 128)     0.1          0.0001         0.433451   \n",
       "                                                                                      0.0003         0.474407   \n",
       "                                                                                      0.0005         0.521507   \n",
       "                                                          (512, 512)     0.1          0.0001         0.464608   \n",
       "                                                                                      0.0003         0.494569   \n",
       "                                                                                      0.0005         0.508753   \n",
       "           12              3         10        1          (32, 32)       0.1          0.0001         0.373497   \n",
       "                                                                                      0.0003         0.419978   \n",
       "                                                                                      0.0005         0.486339   \n",
       "                                                          (128, 128)     0.1          0.0001         0.382553   \n",
       "                                                                                      0.0003         0.462789   \n",
       "                                                                                      0.0005         0.505192   \n",
       "                                                          (512, 512)     0.1          0.0001         0.438789   \n",
       "                                                                                      0.0003         0.468195   \n",
       "                                                                                      0.0005         0.499782   \n",
       "\n",
       "                                                                                                     valid_accuracy  \\\n",
       "dimensions output_channels sig_depth num_heads num_layers ffn_hidden_dim dropout_rate learning_rate                   \n",
       "15         10              3         5         1          (32, 32)       0.1          0.0001               0.636480   \n",
       "                                                                                      0.0003               0.646650   \n",
       "                                                                                      0.0005               0.662010   \n",
       "                                                          (128, 128)     0.1          0.0001               0.635356   \n",
       "                                                                                      0.0003               0.648148   \n",
       "                                                                                      0.0005               0.659388   \n",
       "                                                          (512, 512)     0.1          0.0001               0.646114   \n",
       "                                                                                      0.0003               0.651627   \n",
       "                                                                                      0.0005               0.657140   \n",
       "           12              3         10        1          (32, 32)       0.1          0.0001               0.629790   \n",
       "                                                                                      0.0003               0.642421   \n",
       "                                                                                      0.0005               0.661796   \n",
       "                                                          (128, 128)     0.1          0.0001               0.634286   \n",
       "                                                                                      0.0003               0.651466   \n",
       "                                                                                      0.0005               0.660405   \n",
       "                                                          (512, 512)     0.1          0.0001               0.640441   \n",
       "                                                                                      0.0003               0.656069   \n",
       "                                                                                      0.0005               0.660298   \n",
       "\n",
       "                                                                                                     valid_f1  \\\n",
       "dimensions output_channels sig_depth num_heads num_layers ffn_hidden_dim dropout_rate learning_rate             \n",
       "15         10              3         5         1          (32, 32)       0.1          0.0001         0.414675   \n",
       "                                                                                      0.0003         0.507987   \n",
       "                                                                                      0.0005         0.537340   \n",
       "                                                          (128, 128)     0.1          0.0001         0.480344   \n",
       "                                                                                      0.0003         0.517653   \n",
       "                                                                                      0.0005         0.551974   \n",
       "                                                          (512, 512)     0.1          0.0001         0.515116   \n",
       "                                                                                      0.0003         0.536563   \n",
       "                                                                                      0.0005         0.541858   \n",
       "           12              3         10        1          (32, 32)       0.1          0.0001         0.413939   \n",
       "                                                                                      0.0003         0.472514   \n",
       "                                                                                      0.0005         0.548486   \n",
       "                                                          (128, 128)     0.1          0.0001         0.421186   \n",
       "                                                                                      0.0003         0.508236   \n",
       "                                                                                      0.0005         0.552239   \n",
       "                                                          (512, 512)     0.1          0.0001         0.482025   \n",
       "                                                                                      0.0003         0.521618   \n",
       "                                                                                      0.0005         0.540699   \n",
       "\n",
       "                                                                                                     valid_precision  \\\n",
       "dimensions output_channels sig_depth num_heads num_layers ffn_hidden_dim dropout_rate learning_rate                    \n",
       "15         10              3         5         1          (32, 32)       0.1          0.0001                0.484190   \n",
       "                                                                                      0.0003                0.520169   \n",
       "                                                                                      0.0005                0.539799   \n",
       "                                                          (128, 128)     0.1          0.0001                0.496716   \n",
       "                                                                                      0.0003                0.523702   \n",
       "                                                                                      0.0005                0.548254   \n",
       "                                                          (512, 512)     0.1          0.0001                0.521732   \n",
       "                                                                                      0.0003                0.536111   \n",
       "                                                                                      0.0005                0.540305   \n",
       "           12              3         10        1          (32, 32)       0.1          0.0001                0.475510   \n",
       "                                                                                      0.0003                0.500561   \n",
       "                                                                                      0.0005                0.548074   \n",
       "                                                          (128, 128)     0.1          0.0001                0.474422   \n",
       "                                                                                      0.0003                0.526278   \n",
       "                                                                                      0.0005                0.547137   \n",
       "                                                          (512, 512)     0.1          0.0001                0.505917   \n",
       "                                                                                      0.0003                0.530341   \n",
       "                                                                                      0.0005                0.543626   \n",
       "\n",
       "                                                                                                     valid_recall  \\\n",
       "dimensions output_channels sig_depth num_heads num_layers ffn_hidden_dim dropout_rate learning_rate                 \n",
       "15         10              3         5         1          (32, 32)       0.1          0.0001             0.412647   \n",
       "                                                                                      0.0003             0.501764   \n",
       "                                                                                      0.0005             0.535462   \n",
       "                                                          (128, 128)     0.1          0.0001             0.474985   \n",
       "                                                                                      0.0003             0.516102   \n",
       "                                                                                      0.0005             0.557536   \n",
       "                                                          (512, 512)     0.1          0.0001             0.512496   \n",
       "                                                                                      0.0003             0.538910   \n",
       "                                                                                      0.0005             0.544854   \n",
       "           12              3         10        1          (32, 32)       0.1          0.0001             0.415510   \n",
       "                                                                                      0.0003             0.465170   \n",
       "                                                                                      0.0005             0.550277   \n",
       "                                                          (128, 128)     0.1          0.0001             0.418387   \n",
       "                                                                                      0.0003             0.506824   \n",
       "                                                                                      0.0005             0.559487   \n",
       "                                                          (512, 512)     0.1          0.0001             0.475937   \n",
       "                                                                                      0.0003             0.517943   \n",
       "                                                                                      0.0005             0.540834   \n",
       "\n",
       "                                                                                                        k  \\\n",
       "dimensions output_channels sig_depth num_heads num_layers ffn_hidden_dim dropout_rate learning_rate         \n",
       "15         10              3         5         1          (32, 32)       0.1          0.0001         11.0   \n",
       "                                                                                      0.0003         11.0   \n",
       "                                                                                      0.0005         11.0   \n",
       "                                                          (128, 128)     0.1          0.0001         11.0   \n",
       "                                                                                      0.0003         11.0   \n",
       "                                                                                      0.0005         11.0   \n",
       "                                                          (512, 512)     0.1          0.0001         11.0   \n",
       "                                                                                      0.0003         11.0   \n",
       "                                                                                      0.0005         11.0   \n",
       "           12              3         10        1          (32, 32)       0.1          0.0001         11.0   \n",
       "                                                                                      0.0003         11.0   \n",
       "                                                                                      0.0005         11.0   \n",
       "                                                          (128, 128)     0.1          0.0001         11.0   \n",
       "                                                                                      0.0003         11.0   \n",
       "                                                                                      0.0005         11.0   \n",
       "                                                          (512, 512)     0.1          0.0001         11.0   \n",
       "                                                                                      0.0003         11.0   \n",
       "                                                                                      0.0005         11.0   \n",
       "\n",
       "                                                                                                     input_channels  \\\n",
       "dimensions output_channels sig_depth num_heads num_layers ffn_hidden_dim dropout_rate learning_rate                   \n",
       "15         10              3         5         1          (32, 32)       0.1          0.0001                   17.0   \n",
       "                                                                                      0.0003                   17.0   \n",
       "                                                                                      0.0005                   17.0   \n",
       "                                                          (128, 128)     0.1          0.0001                   17.0   \n",
       "                                                                                      0.0003                   17.0   \n",
       "                                                                                      0.0005                   17.0   \n",
       "                                                          (512, 512)     0.1          0.0001                   17.0   \n",
       "                                                                                      0.0003                   17.0   \n",
       "                                                                                      0.0005                   17.0   \n",
       "           12              3         10        1          (32, 32)       0.1          0.0001                   17.0   \n",
       "                                                                                      0.0003                   17.0   \n",
       "                                                                                      0.0005                   17.0   \n",
       "                                                          (128, 128)     0.1          0.0001                   17.0   \n",
       "                                                                                      0.0003                   17.0   \n",
       "                                                                                      0.0005                   17.0   \n",
       "                                                          (512, 512)     0.1          0.0001                   17.0   \n",
       "                                                                                      0.0003                   17.0   \n",
       "                                                                                      0.0005                   17.0   \n",
       "\n",
       "                                                                                                     ...  \\\n",
       "dimensions output_channels sig_depth num_heads num_layers ffn_hidden_dim dropout_rate learning_rate  ...   \n",
       "15         10              3         5         1          (32, 32)       0.1          0.0001         ...   \n",
       "                                                                                      0.0003         ...   \n",
       "                                                                                      0.0005         ...   \n",
       "                                                          (128, 128)     0.1          0.0001         ...   \n",
       "                                                                                      0.0003         ...   \n",
       "                                                                                      0.0005         ...   \n",
       "                                                          (512, 512)     0.1          0.0001         ...   \n",
       "                                                                                      0.0003         ...   \n",
       "                                                                                      0.0005         ...   \n",
       "           12              3         10        1          (32, 32)       0.1          0.0001         ...   \n",
       "                                                                                      0.0003         ...   \n",
       "                                                                                      0.0005         ...   \n",
       "                                                          (128, 128)     0.1          0.0001         ...   \n",
       "                                                                                      0.0003         ...   \n",
       "                                                                                      0.0005         ...   \n",
       "                                                          (512, 512)     0.1          0.0001         ...   \n",
       "                                                                                      0.0003         ...   \n",
       "                                                                                      0.0005         ...   \n",
       "\n",
       "                                                                                                     include_features_in_input  \\\n",
       "dimensions output_channels sig_depth num_heads num_layers ffn_hidden_dim dropout_rate learning_rate                              \n",
       "15         10              3         5         1          (32, 32)       0.1          0.0001                               1.0   \n",
       "                                                                                      0.0003                               1.0   \n",
       "                                                                                      0.0005                               1.0   \n",
       "                                                          (128, 128)     0.1          0.0001                               1.0   \n",
       "                                                                                      0.0003                               1.0   \n",
       "                                                                                      0.0005                               1.0   \n",
       "                                                          (512, 512)     0.1          0.0001                               1.0   \n",
       "                                                                                      0.0003                               1.0   \n",
       "                                                                                      0.0005                               1.0   \n",
       "           12              3         10        1          (32, 32)       0.1          0.0001                               1.0   \n",
       "                                                                                      0.0003                               1.0   \n",
       "                                                                                      0.0005                               1.0   \n",
       "                                                          (128, 128)     0.1          0.0001                               1.0   \n",
       "                                                                                      0.0003                               1.0   \n",
       "                                                                                      0.0005                               1.0   \n",
       "                                                          (512, 512)     0.1          0.0001                               1.0   \n",
       "                                                                                      0.0003                               1.0   \n",
       "                                                                                      0.0005                               1.0   \n",
       "\n",
       "                                                                                                     embedding_dim  \\\n",
       "dimensions output_channels sig_depth num_heads num_layers ffn_hidden_dim dropout_rate learning_rate                  \n",
       "15         10              3         5         1          (32, 32)       0.1          0.0001                 384.0   \n",
       "                                                                                      0.0003                 384.0   \n",
       "                                                                                      0.0005                 384.0   \n",
       "                                                          (128, 128)     0.1          0.0001                 384.0   \n",
       "                                                                                      0.0003                 384.0   \n",
       "                                                                                      0.0005                 384.0   \n",
       "                                                          (512, 512)     0.1          0.0001                 384.0   \n",
       "                                                                                      0.0003                 384.0   \n",
       "                                                                                      0.0005                 384.0   \n",
       "           12              3         10        1          (32, 32)       0.1          0.0001                 384.0   \n",
       "                                                                                      0.0003                 384.0   \n",
       "                                                                                      0.0005                 384.0   \n",
       "                                                          (128, 128)     0.1          0.0001                 384.0   \n",
       "                                                                                      0.0003                 384.0   \n",
       "                                                                                      0.0005                 384.0   \n",
       "                                                          (512, 512)     0.1          0.0001                 384.0   \n",
       "                                                                                      0.0003                 384.0   \n",
       "                                                                                      0.0005                 384.0   \n",
       "\n",
       "                                                                                                     num_features  \\\n",
       "dimensions output_channels sig_depth num_heads num_layers ffn_hidden_dim dropout_rate learning_rate                 \n",
       "15         10              3         5         1          (32, 32)       0.1          0.0001                  2.0   \n",
       "                                                                                      0.0003                  2.0   \n",
       "                                                                                      0.0005                  2.0   \n",
       "                                                          (128, 128)     0.1          0.0001                  2.0   \n",
       "                                                                                      0.0003                  2.0   \n",
       "                                                                                      0.0005                  2.0   \n",
       "                                                          (512, 512)     0.1          0.0001                  2.0   \n",
       "                                                                                      0.0003                  2.0   \n",
       "                                                                                      0.0005                  2.0   \n",
       "           12              3         10        1          (32, 32)       0.1          0.0001                  2.0   \n",
       "                                                                                      0.0003                  2.0   \n",
       "                                                                                      0.0005                  2.0   \n",
       "                                                          (128, 128)     0.1          0.0001                  2.0   \n",
       "                                                                                      0.0003                  2.0   \n",
       "                                                                                      0.0005                  2.0   \n",
       "                                                          (512, 512)     0.1          0.0001                  2.0   \n",
       "                                                                                      0.0003                  2.0   \n",
       "                                                                                      0.0005                  2.0   \n",
       "\n",
       "                                                                                                     log_signature  \\\n",
       "dimensions output_channels sig_depth num_heads num_layers ffn_hidden_dim dropout_rate learning_rate                  \n",
       "15         10              3         5         1          (32, 32)       0.1          0.0001                   1.0   \n",
       "                                                                                      0.0003                   1.0   \n",
       "                                                                                      0.0005                   1.0   \n",
       "                                                          (128, 128)     0.1          0.0001                   1.0   \n",
       "                                                                                      0.0003                   1.0   \n",
       "                                                                                      0.0005                   1.0   \n",
       "                                                          (512, 512)     0.1          0.0001                   1.0   \n",
       "                                                                                      0.0003                   1.0   \n",
       "                                                                                      0.0005                   1.0   \n",
       "           12              3         10        1          (32, 32)       0.1          0.0001                   1.0   \n",
       "                                                                                      0.0003                   1.0   \n",
       "                                                                                      0.0005                   1.0   \n",
       "                                                          (128, 128)     0.1          0.0001                   1.0   \n",
       "                                                                                      0.0003                   1.0   \n",
       "                                                                                      0.0005                   1.0   \n",
       "                                                          (512, 512)     0.1          0.0001                   1.0   \n",
       "                                                                                      0.0003                   1.0   \n",
       "                                                                                      0.0005                   1.0   \n",
       "\n",
       "                                                                                                          seed  \\\n",
       "dimensions output_channels sig_depth num_heads num_layers ffn_hidden_dim dropout_rate learning_rate              \n",
       "15         10              3         5         1          (32, 32)       0.1          0.0001         45.333333   \n",
       "                                                                                      0.0003         45.333333   \n",
       "                                                                                      0.0005         45.333333   \n",
       "                                                          (128, 128)     0.1          0.0001         45.333333   \n",
       "                                                                                      0.0003         45.333333   \n",
       "                                                                                      0.0005         45.333333   \n",
       "                                                          (512, 512)     0.1          0.0001         45.333333   \n",
       "                                                                                      0.0003         45.333333   \n",
       "                                                                                      0.0005         45.333333   \n",
       "           12              3         10        1          (32, 32)       0.1          0.0001         45.333333   \n",
       "                                                                                      0.0003         45.333333   \n",
       "                                                                                      0.0005         45.333333   \n",
       "                                                          (128, 128)     0.1          0.0001         45.333333   \n",
       "                                                                                      0.0003         45.333333   \n",
       "                                                                                      0.0005         45.333333   \n",
       "                                                          (512, 512)     0.1          0.0001         45.333333   \n",
       "                                                                                      0.0003         45.333333   \n",
       "                                                                                      0.0005         45.333333   \n",
       "\n",
       "                                                                                                     gamma  \\\n",
       "dimensions output_channels sig_depth num_heads num_layers ffn_hidden_dim dropout_rate learning_rate          \n",
       "15         10              3         5         1          (32, 32)       0.1          0.0001           2.0   \n",
       "                                                                                      0.0003           2.0   \n",
       "                                                                                      0.0005           2.0   \n",
       "                                                          (128, 128)     0.1          0.0001           2.0   \n",
       "                                                                                      0.0003           2.0   \n",
       "                                                                                      0.0005           2.0   \n",
       "                                                          (512, 512)     0.1          0.0001           2.0   \n",
       "                                                                                      0.0003           2.0   \n",
       "                                                                                      0.0005           2.0   \n",
       "           12              3         10        1          (32, 32)       0.1          0.0001           2.0   \n",
       "                                                                                      0.0003           2.0   \n",
       "                                                                                      0.0005           2.0   \n",
       "                                                          (128, 128)     0.1          0.0001           2.0   \n",
       "                                                                                      0.0003           2.0   \n",
       "                                                                                      0.0005           2.0   \n",
       "                                                          (512, 512)     0.1          0.0001           2.0   \n",
       "                                                                                      0.0003           2.0   \n",
       "                                                                                      0.0005           2.0   \n",
       "\n",
       "                                                                                                     k_fold  \\\n",
       "dimensions output_channels sig_depth num_heads num_layers ffn_hidden_dim dropout_rate learning_rate           \n",
       "15         10              3         5         1          (32, 32)       0.1          0.0001            1.0   \n",
       "                                                                                      0.0003            1.0   \n",
       "                                                                                      0.0005            1.0   \n",
       "                                                          (128, 128)     0.1          0.0001            1.0   \n",
       "                                                                                      0.0003            1.0   \n",
       "                                                                                      0.0005            1.0   \n",
       "                                                          (512, 512)     0.1          0.0001            1.0   \n",
       "                                                                                      0.0003            1.0   \n",
       "                                                                                      0.0005            1.0   \n",
       "           12              3         10        1          (32, 32)       0.1          0.0001            1.0   \n",
       "                                                                                      0.0003            1.0   \n",
       "                                                                                      0.0005            1.0   \n",
       "                                                          (128, 128)     0.1          0.0001            1.0   \n",
       "                                                                                      0.0003            1.0   \n",
       "                                                                                      0.0005            1.0   \n",
       "                                                          (512, 512)     0.1          0.0001            1.0   \n",
       "                                                                                      0.0003            1.0   \n",
       "                                                                                      0.0005            1.0   \n",
       "\n",
       "                                                                                                     n_splits  \\\n",
       "dimensions output_channels sig_depth num_heads num_layers ffn_hidden_dim dropout_rate learning_rate             \n",
       "15         10              3         5         1          (32, 32)       0.1          0.0001              5.0   \n",
       "                                                                                      0.0003              5.0   \n",
       "                                                                                      0.0005              5.0   \n",
       "                                                          (128, 128)     0.1          0.0001              5.0   \n",
       "                                                                                      0.0003              5.0   \n",
       "                                                                                      0.0005              5.0   \n",
       "                                                          (512, 512)     0.1          0.0001              5.0   \n",
       "                                                                                      0.0003              5.0   \n",
       "                                                                                      0.0005              5.0   \n",
       "           12              3         10        1          (32, 32)       0.1          0.0001              5.0   \n",
       "                                                                                      0.0003              5.0   \n",
       "                                                                                      0.0005              5.0   \n",
       "                                                          (128, 128)     0.1          0.0001              5.0   \n",
       "                                                                                      0.0003              5.0   \n",
       "                                                                                      0.0005              5.0   \n",
       "                                                          (512, 512)     0.1          0.0001              5.0   \n",
       "                                                                                      0.0003              5.0   \n",
       "                                                                                      0.0005              5.0   \n",
       "\n",
       "                                                                                                     batch_size  \\\n",
       "dimensions output_channels sig_depth num_heads num_layers ffn_hidden_dim dropout_rate learning_rate               \n",
       "15         10              3         5         1          (32, 32)       0.1          0.0001               64.0   \n",
       "                                                                                      0.0003               64.0   \n",
       "                                                                                      0.0005               64.0   \n",
       "                                                          (128, 128)     0.1          0.0001               64.0   \n",
       "                                                                                      0.0003               64.0   \n",
       "                                                                                      0.0005               64.0   \n",
       "                                                          (512, 512)     0.1          0.0001               64.0   \n",
       "                                                                                      0.0003               64.0   \n",
       "                                                                                      0.0005               64.0   \n",
       "           12              3         10        1          (32, 32)       0.1          0.0001               64.0   \n",
       "                                                                                      0.0003               64.0   \n",
       "                                                                                      0.0005               64.0   \n",
       "                                                          (128, 128)     0.1          0.0001               64.0   \n",
       "                                                                                      0.0003               64.0   \n",
       "                                                                                      0.0005               64.0   \n",
       "                                                          (512, 512)     0.1          0.0001               64.0   \n",
       "                                                                                      0.0003               64.0   \n",
       "                                                                                      0.0005               64.0   \n",
       "\n",
       "                                                                                                     model_id  \n",
       "dimensions output_channels sig_depth num_heads num_layers ffn_hidden_dim dropout_rate learning_rate            \n",
       "15         10              3         5         1          (32, 32)       0.1          0.0001             11.0  \n",
       "                                                                                      0.0003             10.0  \n",
       "                                                                                      0.0005              9.0  \n",
       "                                                          (128, 128)     0.1          0.0001             14.0  \n",
       "                                                                                      0.0003             13.0  \n",
       "                                                                                      0.0005             12.0  \n",
       "                                                          (512, 512)     0.1          0.0001             17.0  \n",
       "                                                                                      0.0003             16.0  \n",
       "                                                                                      0.0005             15.0  \n",
       "           12              3         10        1          (32, 32)       0.1          0.0001              2.0  \n",
       "                                                                                      0.0003              1.0  \n",
       "                                                                                      0.0005              0.0  \n",
       "                                                          (128, 128)     0.1          0.0001              5.0  \n",
       "                                                                                      0.0003              4.0  \n",
       "                                                                                      0.0005              3.0  \n",
       "                                                          (512, 512)     0.1          0.0001              8.0  \n",
       "                                                                                      0.0003              7.0  \n",
       "                                                                                      0.0005              6.0  \n",
       "\n",
       "[18 rows x 21 columns]"
      ]
     },
     "execution_count": 26,
     "metadata": {},
     "output_type": "execute_result"
    }
   ],
   "source": [
    "swmhau_network_umap_kfold_11.groupby(\n",
    "    [\n",
    "        \"dimensions\",\n",
    "        \"output_channels\",\n",
    "        \"sig_depth\",\n",
    "        \"num_heads\",\n",
    "        \"num_layers\",\n",
    "        \"ffn_hidden_dim\",\n",
    "        \"dropout_rate\",\n",
    "        \"learning_rate\",\n",
    "    ]\n",
    ").mean()"
   ]
  },
  {
   "cell_type": "code",
   "execution_count": 27,
   "id": "df4bb13b-e9aa-452e-aab1-01812ab0c9d1",
   "metadata": {},
   "outputs": [
    {
     "data": {
      "text/html": [
       "<div>\n",
       "<style scoped>\n",
       "    .dataframe tbody tr th:only-of-type {\n",
       "        vertical-align: middle;\n",
       "    }\n",
       "\n",
       "    .dataframe tbody tr th {\n",
       "        vertical-align: top;\n",
       "    }\n",
       "\n",
       "    .dataframe thead th {\n",
       "        text-align: right;\n",
       "    }\n",
       "</style>\n",
       "<table border=\"1\" class=\"dataframe\">\n",
       "  <thead>\n",
       "    <tr style=\"text-align: right;\">\n",
       "      <th></th>\n",
       "      <th>loss</th>\n",
       "      <th>accuracy</th>\n",
       "      <th>f1</th>\n",
       "      <th>f1_scores</th>\n",
       "      <th>precision</th>\n",
       "      <th>precision_scores</th>\n",
       "      <th>recall</th>\n",
       "      <th>recall_scores</th>\n",
       "      <th>valid_loss</th>\n",
       "      <th>valid_accuracy</th>\n",
       "      <th>...</th>\n",
       "      <th>learning_rate</th>\n",
       "      <th>seed</th>\n",
       "      <th>loss_function</th>\n",
       "      <th>gamma</th>\n",
       "      <th>k_fold</th>\n",
       "      <th>n_splits</th>\n",
       "      <th>augmentation_type</th>\n",
       "      <th>hidden_dim_aug</th>\n",
       "      <th>comb_method</th>\n",
       "      <th>batch_size</th>\n",
       "    </tr>\n",
       "  </thead>\n",
       "  <tbody>\n",
       "    <tr>\n",
       "      <th>0</th>\n",
       "      <td>None</td>\n",
       "      <td>0.631992</td>\n",
       "      <td>0.508518</td>\n",
       "      <td>[0.7619188628960617, 0.42144638403990026, 0.34...</td>\n",
       "      <td>0.501755</td>\n",
       "      <td>[0.7806432038834952, 0.42462311557788945, 0.3]</td>\n",
       "      <td>0.520190</td>\n",
       "      <td>[0.7440717177559283, 0.4183168316831683, 0.398...</td>\n",
       "      <td>None</td>\n",
       "      <td>0.664258</td>\n",
       "      <td>...</td>\n",
       "      <td>0.0005</td>\n",
       "      <td>1</td>\n",
       "      <td>focal</td>\n",
       "      <td>2</td>\n",
       "      <td>True</td>\n",
       "      <td>5</td>\n",
       "      <td>Conv1d</td>\n",
       "      <td>None</td>\n",
       "      <td>concatenation</td>\n",
       "      <td>64</td>\n",
       "    </tr>\n",
       "    <tr>\n",
       "      <th>0</th>\n",
       "      <td>None</td>\n",
       "      <td>0.618774</td>\n",
       "      <td>0.489979</td>\n",
       "      <td>[0.7500373524577917, 0.4262295081967213, 0.293...</td>\n",
       "      <td>0.484783</td>\n",
       "      <td>[0.7758887171561051, 0.40444444444444444, 0.27...</td>\n",
       "      <td>0.497571</td>\n",
       "      <td>[0.7258530942741469, 0.4504950495049505, 0.316...</td>\n",
       "      <td>None</td>\n",
       "      <td>0.661368</td>\n",
       "      <td>...</td>\n",
       "      <td>0.0005</td>\n",
       "      <td>12</td>\n",
       "      <td>focal</td>\n",
       "      <td>2</td>\n",
       "      <td>True</td>\n",
       "      <td>5</td>\n",
       "      <td>Conv1d</td>\n",
       "      <td>None</td>\n",
       "      <td>concatenation</td>\n",
       "      <td>64</td>\n",
       "    </tr>\n",
       "    <tr>\n",
       "      <th>0</th>\n",
       "      <td>None</td>\n",
       "      <td>0.630651</td>\n",
       "      <td>0.492020</td>\n",
       "      <td>[0.7653105545099175, 0.39547038327526124, 0.31...</td>\n",
       "      <td>0.489657</td>\n",
       "      <td>[0.7663090750942302, 0.4188191881918819, 0.283...</td>\n",
       "      <td>0.497816</td>\n",
       "      <td>[0.7643146327356853, 0.37458745874587457, 0.35...</td>\n",
       "      <td>None</td>\n",
       "      <td>0.655588</td>\n",
       "      <td>...</td>\n",
       "      <td>0.0005</td>\n",
       "      <td>123</td>\n",
       "      <td>focal</td>\n",
       "      <td>2</td>\n",
       "      <td>True</td>\n",
       "      <td>5</td>\n",
       "      <td>Conv1d</td>\n",
       "      <td>None</td>\n",
       "      <td>concatenation</td>\n",
       "      <td>64</td>\n",
       "    </tr>\n",
       "  </tbody>\n",
       "</table>\n",
       "<p>3 rows × 44 columns</p>\n",
       "</div>"
      ],
      "text/plain": [
       "   loss  accuracy        f1  \\\n",
       "0  None  0.631992  0.508518   \n",
       "0  None  0.618774  0.489979   \n",
       "0  None  0.630651  0.492020   \n",
       "\n",
       "                                           f1_scores  precision  \\\n",
       "0  [0.7619188628960617, 0.42144638403990026, 0.34...   0.501755   \n",
       "0  [0.7500373524577917, 0.4262295081967213, 0.293...   0.484783   \n",
       "0  [0.7653105545099175, 0.39547038327526124, 0.31...   0.489657   \n",
       "\n",
       "                                    precision_scores    recall  \\\n",
       "0     [0.7806432038834952, 0.42462311557788945, 0.3]  0.520190   \n",
       "0  [0.7758887171561051, 0.40444444444444444, 0.27...  0.497571   \n",
       "0  [0.7663090750942302, 0.4188191881918819, 0.283...  0.497816   \n",
       "\n",
       "                                       recall_scores valid_loss  \\\n",
       "0  [0.7440717177559283, 0.4183168316831683, 0.398...       None   \n",
       "0  [0.7258530942741469, 0.4504950495049505, 0.316...       None   \n",
       "0  [0.7643146327356853, 0.37458745874587457, 0.35...       None   \n",
       "\n",
       "   valid_accuracy  ...  learning_rate seed  loss_function gamma  k_fold  \\\n",
       "0        0.664258  ...         0.0005    1          focal     2    True   \n",
       "0        0.661368  ...         0.0005   12          focal     2    True   \n",
       "0        0.655588  ...         0.0005  123          focal     2    True   \n",
       "\n",
       "  n_splits  augmentation_type  hidden_dim_aug    comb_method batch_size  \n",
       "0        5             Conv1d            None  concatenation         64  \n",
       "0        5             Conv1d            None  concatenation         64  \n",
       "0        5             Conv1d            None  concatenation         64  \n",
       "\n",
       "[3 rows x 44 columns]"
      ]
     },
     "execution_count": 27,
     "metadata": {},
     "output_type": "execute_result"
    }
   ],
   "source": [
    "best_swmhau_network_umap_kfold_11"
   ]
  },
  {
   "cell_type": "code",
   "execution_count": 28,
   "id": "a0aa7272-32d2-43f4-b59c-133b884f9ad5",
   "metadata": {},
   "outputs": [
    {
     "data": {
      "text/plain": [
       "0.49683892577972094"
      ]
     },
     "execution_count": 28,
     "metadata": {},
     "output_type": "execute_result"
    }
   ],
   "source": [
    "best_swmhau_network_umap_kfold_11[\"f1\"].mean()"
   ]
  },
  {
   "cell_type": "code",
   "execution_count": 29,
   "id": "3cee0991-fe8e-424a-9669-6520a001fe54",
   "metadata": {},
   "outputs": [
    {
     "data": {
      "text/plain": [
       "0.49206514301548526"
      ]
     },
     "execution_count": 29,
     "metadata": {},
     "output_type": "execute_result"
    }
   ],
   "source": [
    "best_swmhau_network_umap_kfold_11[\"precision\"].mean()"
   ]
  },
  {
   "cell_type": "code",
   "execution_count": 30,
   "id": "23ec51e4-3b62-445a-8c30-9a0a4cbba213",
   "metadata": {},
   "outputs": [
    {
     "data": {
      "text/plain": [
       "0.5051921881989626"
      ]
     },
     "execution_count": 30,
     "metadata": {},
     "output_type": "execute_result"
    }
   ],
   "source": [
    "best_swmhau_network_umap_kfold_11[\"recall\"].mean()"
   ]
  },
  {
   "cell_type": "code",
   "execution_count": 31,
   "id": "3771a618-4a97-4e60-8eaa-a1b1dea07f97",
   "metadata": {},
   "outputs": [
    {
     "data": {
      "text/plain": [
       "array([0.75908892, 0.41438209, 0.31704576])"
      ]
     },
     "execution_count": 31,
     "metadata": {},
     "output_type": "execute_result"
    }
   ],
   "source": [
    "np.stack(best_swmhau_network_umap_kfold_11[\"f1_scores\"]).mean(axis=0)"
   ]
  },
  {
   "cell_type": "code",
   "execution_count": 32,
   "id": "a720d58b-3db5-40fe-93b8-deb92d0bb2da",
   "metadata": {},
   "outputs": [
    {
     "data": {
      "text/plain": [
       "array([0.77428033, 0.41596225, 0.28595285])"
      ]
     },
     "execution_count": 32,
     "metadata": {},
     "output_type": "execute_result"
    }
   ],
   "source": [
    "np.stack(best_swmhau_network_umap_kfold_11[\"precision_scores\"]).mean(axis=0)"
   ]
  },
  {
   "cell_type": "code",
   "execution_count": 33,
   "id": "3b780ee0-6d49-42f8-b230-adde72389ef1",
   "metadata": {},
   "outputs": [
    {
     "data": {
      "text/plain": [
       "array([0.74474648, 0.41446645, 0.35636364])"
      ]
     },
     "execution_count": 33,
     "metadata": {},
     "output_type": "execute_result"
    }
   ],
   "source": [
    "np.stack(best_swmhau_network_umap_kfold_11[\"recall_scores\"]).mean(axis=0)"
   ]
  },
  {
   "cell_type": "markdown",
   "id": "4a699ee2-1323-46bb-beee-f7995a33a275",
   "metadata": {
    "tags": []
   },
   "source": [
    "# w=20"
   ]
  },
  {
   "cell_type": "code",
   "execution_count": 34,
   "id": "38875513-9858-48c1-88a5-e4c494705700",
   "metadata": {},
   "outputs": [],
   "source": [
    "size = 20"
   ]
  },
  {
   "cell_type": "markdown",
   "id": "2d13d71d-eb75-4526-8eef-ccb3571a5168",
   "metadata": {},
   "source": [
    "## umap"
   ]
  },
  {
   "cell_type": "code",
   "execution_count": null,
   "id": "aa298ca7-86bb-4634-ac07-fbb5d131cf15",
   "metadata": {},
   "outputs": [
    {
     "data": {
      "application/vnd.jupyter.widget-view+json": {
       "model_id": "93e1f83b2ad64fdf9b0c834916c01474",
       "version_major": 2,
       "version_minor": 0
      },
      "text/plain": [
       "  0%|          | 0/1 [00:00<?, ?it/s]"
      ]
     },
     "metadata": {},
     "output_type": "display_data"
    },
    {
     "data": {
      "application/vnd.jupyter.widget-view+json": {
       "model_id": "29dc723686fe457bb5cfa51f3b04d686",
       "version_major": 2,
       "version_minor": 0
      },
      "text/plain": [
       "  0%|          | 0/1 [00:00<?, ?it/s]"
      ]
     },
     "metadata": {},
     "output_type": "display_data"
    },
    {
     "data": {
      "application/vnd.jupyter.widget-view+json": {
       "model_id": "e3a81dc1d6364fd48c97e84f7563b00a",
       "version_major": 2,
       "version_minor": 0
      },
      "text/plain": [
       "  0%|          | 0/1 [00:00<?, ?it/s]"
      ]
     },
     "metadata": {},
     "output_type": "display_data"
    },
    {
     "name": "stdout",
     "output_type": "stream",
     "text": [
      "\n",
      "##################################################\n",
      "dimension: 15 | method: umap\n",
      "[INFO] Concatenating the embeddings to the dataframe...\n",
      "[INFO] - columns beginning with 'e' denote the full embddings.\n",
      "[INFO] - columns beginning with 'd' denote the dimension reduced embeddings.\n",
      "[INFO] Adding time feature columns into dataframe in `.df`.\n",
      "[INFO] Adding 'time_encoding' feature...\n",
      "[INFO] Adding 'time_diff' feature...\n",
      "[INFO] Adding 'timeline_index' feature...\n",
      "[INFO] Padding ids and storing in `.df_padded` and `.array_padded` attributes.\n"
     ]
    },
    {
     "data": {
      "application/vnd.jupyter.widget-view+json": {
       "model_id": "6aaa2a46cadd47dd8f8899e20d7c6ac6",
       "version_major": 2,
       "version_minor": 0
      },
      "text/plain": [
       "  0%|          | 0/9699 [00:00<?, ?it/s]"
      ]
     },
     "metadata": {},
     "output_type": "display_data"
    },
    {
     "name": "stdout",
     "output_type": "stream",
     "text": [
      "[INFO] The path was created for each item in the dataframe, by looking at its history, so to include embeddings in the FFN input, we concatenate the embeddings for each sentence / text.\n"
     ]
    },
    {
     "data": {
      "application/vnd.jupyter.widget-view+json": {
       "model_id": "7399ba9c77634f84a51c30417183b58d",
       "version_major": 2,
       "version_minor": 0
      },
      "text/plain": [
       "  0%|          | 0/2 [00:00<?, ?it/s]"
      ]
     },
     "metadata": {},
     "output_type": "display_data"
    },
    {
     "data": {
      "application/vnd.jupyter.widget-view+json": {
       "model_id": "3f1d168cce774d478d469e66ae36e865",
       "version_major": 2,
       "version_minor": 0
      },
      "text/plain": [
       "  0%|          | 0/1 [00:00<?, ?it/s]"
      ]
     },
     "metadata": {},
     "output_type": "display_data"
    },
    {
     "data": {
      "application/vnd.jupyter.widget-view+json": {
       "model_id": "4d6c0c0d860945dd84451ba9b59f23d5",
       "version_major": 2,
       "version_minor": 0
      },
      "text/plain": [
       "  0%|          | 0/3 [00:00<?, ?it/s]"
      ]
     },
     "metadata": {},
     "output_type": "display_data"
    },
    {
     "data": {
      "application/vnd.jupyter.widget-view+json": {
       "model_id": "0ac75270d70649ee82a341249f691a74",
       "version_major": 2,
       "version_minor": 0
      },
      "text/plain": [
       "  0%|          | 0/1 [00:00<?, ?it/s]"
      ]
     },
     "metadata": {},
     "output_type": "display_data"
    },
    {
     "data": {
      "application/vnd.jupyter.widget-view+json": {
       "model_id": "dafb4369c93341d8b1fb0879916b2a05",
       "version_major": 2,
       "version_minor": 0
      },
      "text/plain": [
       "  0%|          | 0/3 [00:00<?, ?it/s]"
      ]
     },
     "metadata": {},
     "output_type": "display_data"
    },
    {
     "data": {
      "application/vnd.jupyter.widget-view+json": {
       "model_id": "06c8b03b972c4b4598e05dc70984e901",
       "version_major": 2,
       "version_minor": 0
      },
      "text/plain": [
       "  0%|          | 0/1 [00:00<?, ?it/s]"
      ]
     },
     "metadata": {},
     "output_type": "display_data"
    },
    {
     "data": {
      "application/vnd.jupyter.widget-view+json": {
       "model_id": "da31f7b8fb6144a6a1a56e7e98a0d1c1",
       "version_major": 2,
       "version_minor": 0
      },
      "text/plain": [
       "  0%|          | 0/3 [00:00<?, ?it/s]"
      ]
     },
     "metadata": {},
     "output_type": "display_data"
    },
    {
     "data": {
      "application/vnd.jupyter.widget-view+json": {
       "model_id": "2b7bf5cdd6c44887bc3f32c9b444aa4d",
       "version_major": 2,
       "version_minor": 0
      },
      "text/plain": [
       "  0%|          | 0/1 [00:00<?, ?it/s]"
      ]
     },
     "metadata": {},
     "output_type": "display_data"
    },
    {
     "data": {
      "application/vnd.jupyter.widget-view+json": {
       "model_id": "2f7c25afa849429db9dc7628c59e7e47",
       "version_major": 2,
       "version_minor": 0
      },
      "text/plain": [
       "  0%|          | 0/3 [00:00<?, ?it/s]"
      ]
     },
     "metadata": {},
     "output_type": "display_data"
    },
    {
     "data": {
      "application/vnd.jupyter.widget-view+json": {
       "model_id": "79aa375f9b8e44d3bb28480aa7143e2e",
       "version_major": 2,
       "version_minor": 0
      },
      "text/plain": [
       "  0%|          | 0/1 [00:00<?, ?it/s]"
      ]
     },
     "metadata": {},
     "output_type": "display_data"
    },
    {
     "data": {
      "application/vnd.jupyter.widget-view+json": {
       "model_id": "643a3fc2a3954120a79e212cdf37aece",
       "version_major": 2,
       "version_minor": 0
      },
      "text/plain": [
       "  0%|          | 0/3 [00:00<?, ?it/s]"
      ]
     },
     "metadata": {},
     "output_type": "display_data"
    },
    {
     "data": {
      "application/vnd.jupyter.widget-view+json": {
       "model_id": "35853efda2e445549d0d84fe56948a54",
       "version_major": 2,
       "version_minor": 0
      },
      "text/plain": [
       "  0%|          | 0/1 [00:00<?, ?it/s]"
      ]
     },
     "metadata": {},
     "output_type": "display_data"
    },
    {
     "data": {
      "application/vnd.jupyter.widget-view+json": {
       "model_id": "44ee778af63b4b26aa7e6e7a25965ef7",
       "version_major": 2,
       "version_minor": 0
      },
      "text/plain": [
       "  0%|          | 0/3 [00:00<?, ?it/s]"
      ]
     },
     "metadata": {},
     "output_type": "display_data"
    },
    {
     "data": {
      "application/vnd.jupyter.widget-view+json": {
       "model_id": "d45b20510f2541f88f80b11786e8dcb4",
       "version_major": 2,
       "version_minor": 0
      },
      "text/plain": [
       "  0%|          | 0/1 [00:00<?, ?it/s]"
      ]
     },
     "metadata": {},
     "output_type": "display_data"
    },
    {
     "data": {
      "application/vnd.jupyter.widget-view+json": {
       "model_id": "8bd105d3603542beb1ea94b82514f0ca",
       "version_major": 2,
       "version_minor": 0
      },
      "text/plain": [
       "  0%|          | 0/3 [00:00<?, ?it/s]"
      ]
     },
     "metadata": {},
     "output_type": "display_data"
    },
    {
     "data": {
      "application/vnd.jupyter.widget-view+json": {
       "model_id": "427124859c8c4bb092df4c20c4025289",
       "version_major": 2,
       "version_minor": 0
      },
      "text/plain": [
       "  0%|          | 0/1 [00:00<?, ?it/s]"
      ]
     },
     "metadata": {},
     "output_type": "display_data"
    },
    {
     "data": {
      "application/vnd.jupyter.widget-view+json": {
       "model_id": "d532be5d2d194aa3a3ebc17abaa6dfc8",
       "version_major": 2,
       "version_minor": 0
      },
      "text/plain": [
       "  0%|          | 0/3 [00:00<?, ?it/s]"
      ]
     },
     "metadata": {},
     "output_type": "display_data"
    },
    {
     "name": "stdout",
     "output_type": "stream",
     "text": [
      "[INFO] Concatenating the embeddings to the dataframe...\n",
      "[INFO] - columns beginning with 'e' denote the full embddings.\n",
      "[INFO] - columns beginning with 'd' denote the dimension reduced embeddings.\n",
      "[INFO] Adding time feature columns into dataframe in `.df`.\n",
      "[INFO] Adding 'time_encoding' feature...\n",
      "[INFO] Adding 'time_diff' feature...\n",
      "[INFO] Adding 'timeline_index' feature...\n",
      "[INFO] Padding ids and storing in `.df_padded` and `.array_padded` attributes.\n"
     ]
    },
    {
     "data": {
      "application/vnd.jupyter.widget-view+json": {
       "model_id": "2fcccd09c06a49f994d1ce63537d56ea",
       "version_major": 2,
       "version_minor": 0
      },
      "text/plain": [
       "  0%|          | 0/9699 [00:00<?, ?it/s]"
      ]
     },
     "metadata": {},
     "output_type": "display_data"
    },
    {
     "name": "stdout",
     "output_type": "stream",
     "text": [
      "[INFO] The path was created for each item in the dataframe, by looking at its history, so to include embeddings in the FFN input, we concatenate the embeddings for each sentence / text.\n"
     ]
    }
   ],
   "source": [
    "(\n",
    "    swmhau_network_umap_kfold_20,\n",
    "    best_swmhau_network_umap_kfold_20,\n",
    "    _,\n",
    "    __,\n",
    ") = swmhau_network_hyperparameter_search(\n",
    "    history_lengths=[size],\n",
    "    dim_reduce_methods=[\"umap\"],\n",
    "    results_output=f\"{output_dir}/swmhau_network_umap_focal_{gamma}_{size}_kfold.csv\",\n",
    "    **kwargs,\n",
    ")"
   ]
  },
  {
   "cell_type": "code",
   "execution_count": null,
   "id": "a1290304-41e6-43bc-a8e4-0b35f21adbfe",
   "metadata": {},
   "outputs": [],
   "source": [
    "swmhau_network_umap_kfold_20.groupby(\n",
    "    [\n",
    "        \"dimensions\",\n",
    "        \"output_channels\",\n",
    "        \"sig_depth\",\n",
    "        \"num_heads\",\n",
    "        \"num_layers\",\n",
    "        \"ffn_hidden_dim\",\n",
    "        \"dropout_rate\",\n",
    "        \"learning_rate\",\n",
    "    ]\n",
    ").mean()"
   ]
  },
  {
   "cell_type": "code",
   "execution_count": null,
   "id": "bbdef514-1dbc-4d0c-8a5e-246d1bc31b31",
   "metadata": {},
   "outputs": [],
   "source": [
    "best_swmhau_network_umap_kfold_20"
   ]
  },
  {
   "cell_type": "code",
   "execution_count": null,
   "id": "741d75da-d105-409d-a47c-1029792b4231",
   "metadata": {},
   "outputs": [],
   "source": [
    "best_swmhau_network_umap_kfold_20[\"f1\"].mean()"
   ]
  },
  {
   "cell_type": "code",
   "execution_count": null,
   "id": "1ef82d79-afa6-4b49-800a-ca762399ca66",
   "metadata": {},
   "outputs": [],
   "source": [
    "best_swmhau_network_umap_kfold_20[\"precision\"].mean()"
   ]
  },
  {
   "cell_type": "code",
   "execution_count": null,
   "id": "7de9c64a-15ad-47a1-beb0-97d26a1f514a",
   "metadata": {},
   "outputs": [],
   "source": [
    "best_swmhau_network_umap_kfold_20[\"recall\"].mean()"
   ]
  },
  {
   "cell_type": "code",
   "execution_count": null,
   "id": "900eeb94-36db-49a8-b69d-eb1da911bf5d",
   "metadata": {},
   "outputs": [],
   "source": [
    "np.stack(best_swmhau_network_umap_kfold_20[\"f1_scores\"]).mean(axis=0)"
   ]
  },
  {
   "cell_type": "code",
   "execution_count": null,
   "id": "928086c0-f0c0-4ceb-bf24-49a4b34c8d17",
   "metadata": {},
   "outputs": [],
   "source": [
    "np.stack(best_swmhau_network_umap_kfold_20[\"precision_scores\"]).mean(axis=0)"
   ]
  },
  {
   "cell_type": "code",
   "execution_count": null,
   "id": "62d9ab06-8b11-42a6-8aab-30f70ce845fb",
   "metadata": {},
   "outputs": [],
   "source": [
    "np.stack(best_swmhau_network_umap_kfold_20[\"recall_scores\"]).mean(axis=0)"
   ]
  },
  {
   "cell_type": "markdown",
   "id": "9387d218-6df1-41bc-b5b8-33829aa7c961",
   "metadata": {
    "tags": []
   },
   "source": [
    "# w=35"
   ]
  },
  {
   "cell_type": "code",
   "execution_count": null,
   "id": "92617418-575e-41de-88dc-1166bf297801",
   "metadata": {},
   "outputs": [],
   "source": [
    "size = 35"
   ]
  },
  {
   "cell_type": "markdown",
   "id": "3974e06c-a795-4704-b86d-97aa8863190f",
   "metadata": {
    "tags": []
   },
   "source": [
    "## umap"
   ]
  },
  {
   "cell_type": "code",
   "execution_count": null,
   "id": "44a57233-a0b2-4a0b-9255-9d449cedde2b",
   "metadata": {},
   "outputs": [],
   "source": [
    "(\n",
    "    swmhau_network_umap_kfold_35,\n",
    "    best_swmhau_network_umap_kfold_35,\n",
    "    _,\n",
    "    __,\n",
    ") = swmhau_network_hyperparameter_search(\n",
    "    history_lengths=[size],\n",
    "    dim_reduce_methods=[\"umap\"],\n",
    "    results_output=f\"{output_dir}/swmhau_network_umap_focal_{gamma}_{size}_kfold.csv\",\n",
    "    **kwargs,\n",
    ")"
   ]
  },
  {
   "cell_type": "code",
   "execution_count": null,
   "id": "f1f25da7-9415-4fe3-9184-b16356aa7fe2",
   "metadata": {},
   "outputs": [],
   "source": [
    "swmhau_network_umap_kfold_35.groupby(\n",
    "    [\n",
    "        \"dimensions\",\n",
    "        \"output_channels\",\n",
    "        \"sig_depth\",\n",
    "        \"num_heads\",\n",
    "        \"num_layers\",\n",
    "        \"ffn_hidden_dim\",\n",
    "        \"dropout_rate\",\n",
    "        \"learning_rate\",\n",
    "    ]\n",
    ").mean()"
   ]
  },
  {
   "cell_type": "code",
   "execution_count": null,
   "id": "8241866e-398e-45c6-913b-7cd44690a52d",
   "metadata": {},
   "outputs": [],
   "source": [
    "best_swmhau_network_umap_kfold_35"
   ]
  },
  {
   "cell_type": "code",
   "execution_count": null,
   "id": "3f4be056-6bbf-40c0-86d5-ea9ab5f65aa3",
   "metadata": {},
   "outputs": [],
   "source": [
    "best_swmhau_network_umap_kfold_35[\"f1\"].mean()"
   ]
  },
  {
   "cell_type": "code",
   "execution_count": null,
   "id": "a4fa98a7-ad6a-4923-a350-3c9d884fef7b",
   "metadata": {},
   "outputs": [],
   "source": [
    "best_swmhau_network_umap_kfold_35[\"precision\"].mean()"
   ]
  },
  {
   "cell_type": "code",
   "execution_count": null,
   "id": "db757488-e4e7-4e4c-b1dc-467ca8516202",
   "metadata": {},
   "outputs": [],
   "source": [
    "best_swmhau_network_umap_kfold_35[\"recall\"].mean()"
   ]
  },
  {
   "cell_type": "code",
   "execution_count": null,
   "id": "078f25af-2abc-46a0-ad62-9761703c0540",
   "metadata": {},
   "outputs": [],
   "source": [
    "np.stack(best_swmhau_network_umap_kfold_35[\"f1_scores\"]).mean(axis=0)"
   ]
  },
  {
   "cell_type": "code",
   "execution_count": null,
   "id": "832dd0d2-2f11-420d-8347-ee388e3c4ddc",
   "metadata": {},
   "outputs": [],
   "source": [
    "np.stack(best_swmhau_network_umap_kfold_35[\"precision_scores\"]).mean(axis=0)"
   ]
  },
  {
   "cell_type": "code",
   "execution_count": null,
   "id": "6a95b9e6-0ad3-4739-a1da-305d582a609f",
   "metadata": {},
   "outputs": [],
   "source": [
    "np.stack(best_swmhau_network_umap_kfold_35[\"recall_scores\"]).mean(axis=0)"
   ]
  },
  {
   "cell_type": "markdown",
   "id": "4d238a9a-412d-4636-bed8-4f4177f0b7a2",
   "metadata": {
    "tags": []
   },
   "source": [
    "# w=80"
   ]
  },
  {
   "cell_type": "code",
   "execution_count": null,
   "id": "17f54364-89a4-4523-be6e-0e8360d3e6a8",
   "metadata": {},
   "outputs": [],
   "source": [
    "size = 80"
   ]
  },
  {
   "cell_type": "markdown",
   "id": "d03ebc14-9626-4de9-927a-c03c694b48b0",
   "metadata": {},
   "source": [
    "## umap"
   ]
  },
  {
   "cell_type": "code",
   "execution_count": null,
   "id": "8f347b9b-9b03-4943-92cf-60a4efdd3aae",
   "metadata": {},
   "outputs": [],
   "source": [
    "(\n",
    "    swmhau_network_umap_kfold_80,\n",
    "    best_swmhau_network_umap_kfold_80,\n",
    "    _,\n",
    "    __,\n",
    ") = swmhau_network_hyperparameter_search(\n",
    "    history_lengths=[size],\n",
    "    dim_reduce_methods=[\"umap\"],\n",
    "    results_output=f\"{output_dir}/swmhau_network_umap_focal_{gamma}_{size}_kfold.csv\",\n",
    "    **kwargs,\n",
    ")"
   ]
  },
  {
   "cell_type": "code",
   "execution_count": null,
   "id": "4fb2809b-c9eb-4d8e-a93c-f735ffa86d4a",
   "metadata": {},
   "outputs": [],
   "source": [
    "swmhau_network_umap_kfold_80.groupby(\n",
    "    [\n",
    "        \"dimensions\",\n",
    "        \"output_channels\",\n",
    "        \"sig_depth\",\n",
    "        \"num_heads\",\n",
    "        \"num_layers\",\n",
    "        \"ffn_hidden_dim\",\n",
    "        \"dropout_rate\",\n",
    "        \"learning_rate\",\n",
    "    ]\n",
    ").mean()"
   ]
  },
  {
   "cell_type": "code",
   "execution_count": null,
   "id": "67b21286-a4a6-4f85-a60d-e49d231a695b",
   "metadata": {},
   "outputs": [],
   "source": [
    "best_swmhau_network_umap_kfold_80"
   ]
  },
  {
   "cell_type": "code",
   "execution_count": null,
   "id": "4bf343c9-e5cf-4f57-ac94-2bbb2e289805",
   "metadata": {},
   "outputs": [],
   "source": [
    "best_swmhau_network_umap_kfold_80[\"f1\"].mean()"
   ]
  },
  {
   "cell_type": "code",
   "execution_count": null,
   "id": "dbdac3b6-2e84-4678-9aac-f6e84401dd09",
   "metadata": {},
   "outputs": [],
   "source": [
    "best_swmhau_network_umap_kfold_80[\"precision\"].mean()"
   ]
  },
  {
   "cell_type": "code",
   "execution_count": null,
   "id": "b88902fb-9937-47ef-b203-c08ce3dbe330",
   "metadata": {},
   "outputs": [],
   "source": [
    "best_swmhau_network_umap_kfold_80[\"recall\"].mean()"
   ]
  },
  {
   "cell_type": "code",
   "execution_count": null,
   "id": "6b436604-993a-46f8-82a0-2271f38f90e1",
   "metadata": {},
   "outputs": [],
   "source": [
    "np.stack(best_swmhau_network_umap_kfold_80[\"f1_scores\"]).mean(axis=0)"
   ]
  },
  {
   "cell_type": "code",
   "execution_count": null,
   "id": "7ec6bbfa-03d9-4bb5-8c70-b5226b645644",
   "metadata": {},
   "outputs": [],
   "source": [
    "np.stack(best_swmhau_network_umap_kfold_80[\"precision_scores\"]).mean(axis=0)"
   ]
  },
  {
   "cell_type": "code",
   "execution_count": null,
   "id": "441f60aa-bf0a-46d6-8dda-95da5ce5bcd4",
   "metadata": {},
   "outputs": [],
   "source": [
    "np.stack(best_swmhau_network_umap_kfold_80[\"recall_scores\"]).mean(axis=0)"
   ]
  },
  {
   "cell_type": "markdown",
   "id": "75e20aba-f768-4d35-9180-e5598257b23e",
   "metadata": {},
   "source": [
    "## w=110"
   ]
  },
  {
   "cell_type": "code",
   "execution_count": null,
   "id": "083a9f80-ca4a-469e-96c4-746063c6ee68",
   "metadata": {},
   "outputs": [],
   "source": [
    "size = 110"
   ]
  },
  {
   "cell_type": "markdown",
   "id": "b084b3ff-a738-4742-a72b-33a794e418a3",
   "metadata": {},
   "source": [
    "## umap"
   ]
  },
  {
   "cell_type": "code",
   "execution_count": null,
   "id": "1b364409-d905-4857-99cb-ed06a451fca1",
   "metadata": {},
   "outputs": [],
   "source": [
    "(\n",
    "    swmhau_network_umap_kfold_110,\n",
    "    best_swmhau_network_umap_kfold_110,\n",
    "    _,\n",
    "    __,\n",
    ") = swmhau_network_hyperparameter_search(\n",
    "    history_lengths=[size],\n",
    "    dim_reduce_methods=[\"umap\"],\n",
    "    results_output=f\"{output_dir}/swmhau_network_umap_focal_{gamma}_{size}_kfold.csv\",\n",
    "    **kwargs,\n",
    ")"
   ]
  },
  {
   "cell_type": "code",
   "execution_count": null,
   "id": "2b3b4cb3-de13-4f0a-8bfd-049a043d648b",
   "metadata": {},
   "outputs": [],
   "source": [
    "swmhau_network_umap_kfold_5.groupby(\n",
    "    [\n",
    "        \"dimensions\",\n",
    "        \"output_channels\",\n",
    "        \"sig_depth\",\n",
    "        \"num_heads\",\n",
    "        \"num_layers\",\n",
    "        \"ffn_hidden_dim\",\n",
    "        \"dropout_rate\",\n",
    "        \"learning_rate\",\n",
    "    ]\n",
    ").mean()"
   ]
  },
  {
   "cell_type": "code",
   "execution_count": null,
   "id": "0c15deb9-587b-42e7-9661-42e07f752ee3",
   "metadata": {},
   "outputs": [],
   "source": [
    "best_swmhau_network_umap_kfold_20"
   ]
  },
  {
   "cell_type": "code",
   "execution_count": null,
   "id": "9c3e5332",
   "metadata": {},
   "outputs": [],
   "source": [
    "best_swmhau_network_umap_kfold_20[\"f1\"].mean()"
   ]
  },
  {
   "cell_type": "code",
   "execution_count": null,
   "id": "4eb28d48",
   "metadata": {},
   "outputs": [],
   "source": [
    "best_swmhau_network_umap_kfold_20[\"precision\"].mean()"
   ]
  },
  {
   "cell_type": "code",
   "execution_count": null,
   "id": "acd1ee14",
   "metadata": {},
   "outputs": [],
   "source": [
    "best_swmhau_network_umap_kfold_20[\"recall\"].mean()"
   ]
  },
  {
   "cell_type": "code",
   "execution_count": null,
   "id": "2892ffc8",
   "metadata": {},
   "outputs": [],
   "source": [
    "np.stack(best_swmhau_network_umap_kfold_20[\"f1_scores\"]).mean(axis=0)"
   ]
  },
  {
   "cell_type": "code",
   "execution_count": null,
   "id": "45030445",
   "metadata": {},
   "outputs": [],
   "source": [
    "np.stack(best_swmhau_network_umap_kfold_20[\"precision_scores\"]).mean(axis=0)"
   ]
  },
  {
   "cell_type": "code",
   "execution_count": null,
   "id": "d39413fe",
   "metadata": {},
   "outputs": [],
   "source": [
    "np.stack(best_swmhau_network_umap_kfold_20[\"recall_scores\"]).mean(axis=0)"
   ]
  }
 ],
 "metadata": {
  "kernelspec": {
   "display_name": "nlpsig-networks (Conda)",
   "language": "python",
   "name": "sys_nlpsig-networks"
  },
  "language_info": {
   "codemirror_mode": {
    "name": "ipython",
    "version": 3
   },
   "file_extension": ".py",
   "mimetype": "text/x-python",
   "name": "python",
   "nbconvert_exporter": "python",
   "pygments_lexer": "ipython3",
   "version": "3.8.17"
  }
 },
 "nbformat": 4,
 "nbformat_minor": 5
}
