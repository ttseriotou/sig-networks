{
 "cells": [
  {
   "cell_type": "code",
   "execution_count": 1,
   "id": "a983a5e8",
   "metadata": {},
   "outputs": [],
   "source": [
    "import numpy as np\n",
    "import pickle\n",
    "import os\n",
    "\n",
    "seed = 2023"
   ]
  },
  {
   "cell_type": "code",
   "execution_count": 2,
   "id": "e4e666cc",
   "metadata": {},
   "outputs": [],
   "source": [
    "from nlpsig_networks.scripts.swmhau_network_functions import (\n",
    "    swmhau_network_hyperparameter_search\n",
    ")"
   ]
  },
  {
   "cell_type": "code",
   "execution_count": 3,
   "id": "6e918dde",
   "metadata": {},
   "outputs": [],
   "source": [
    "output_dir = \"client_talk_type_output\"\n",
    "if not os.path.isdir(output_dir):\n",
    "    os.makedirs(output_dir)"
   ]
  },
  {
   "cell_type": "markdown",
   "id": "f7409a03",
   "metadata": {},
   "source": [
    "## AnnoMI"
   ]
  },
  {
   "cell_type": "code",
   "execution_count": 4,
   "id": "f00bb922",
   "metadata": {},
   "outputs": [],
   "source": [
    "%run ../load_anno_mi.py"
   ]
  },
  {
   "cell_type": "code",
   "execution_count": 5,
   "id": "720d820f",
   "metadata": {},
   "outputs": [
    {
     "data": {
      "text/html": [
       "<div>\n",
       "<style scoped>\n",
       "    .dataframe tbody tr th:only-of-type {\n",
       "        vertical-align: middle;\n",
       "    }\n",
       "\n",
       "    .dataframe tbody tr th {\n",
       "        vertical-align: top;\n",
       "    }\n",
       "\n",
       "    .dataframe thead th {\n",
       "        text-align: right;\n",
       "    }\n",
       "</style>\n",
       "<table border=\"1\" class=\"dataframe\">\n",
       "  <thead>\n",
       "    <tr style=\"text-align: right;\">\n",
       "      <th></th>\n",
       "      <th>mi_quality</th>\n",
       "      <th>transcript_id</th>\n",
       "      <th>topic</th>\n",
       "      <th>utterance_id</th>\n",
       "      <th>interlocutor</th>\n",
       "      <th>timestamp</th>\n",
       "      <th>utterance_text</th>\n",
       "      <th>annotator_id</th>\n",
       "      <th>therapist_input_exists</th>\n",
       "      <th>therapist_input_subtype</th>\n",
       "      <th>reflection_exists</th>\n",
       "      <th>reflection_subtype</th>\n",
       "      <th>question_exists</th>\n",
       "      <th>question_subtype</th>\n",
       "      <th>main_therapist_behaviour</th>\n",
       "      <th>client_talk_type</th>\n",
       "      <th>datetime</th>\n",
       "    </tr>\n",
       "  </thead>\n",
       "  <tbody>\n",
       "    <tr>\n",
       "      <th>0</th>\n",
       "      <td>high</td>\n",
       "      <td>0</td>\n",
       "      <td>reducing alcohol consumption</td>\n",
       "      <td>0</td>\n",
       "      <td>therapist</td>\n",
       "      <td>00:00:13</td>\n",
       "      <td>Thanks for filling it out. We give this form t...</td>\n",
       "      <td>3</td>\n",
       "      <td>False</td>\n",
       "      <td>NaN</td>\n",
       "      <td>False</td>\n",
       "      <td>NaN</td>\n",
       "      <td>True</td>\n",
       "      <td>open</td>\n",
       "      <td>question</td>\n",
       "      <td>NaN</td>\n",
       "      <td>2023-08-17 00:00:13</td>\n",
       "    </tr>\n",
       "    <tr>\n",
       "      <th>1</th>\n",
       "      <td>high</td>\n",
       "      <td>0</td>\n",
       "      <td>reducing alcohol consumption</td>\n",
       "      <td>1</td>\n",
       "      <td>client</td>\n",
       "      <td>00:00:24</td>\n",
       "      <td>Sure.</td>\n",
       "      <td>3</td>\n",
       "      <td>NaN</td>\n",
       "      <td>NaN</td>\n",
       "      <td>NaN</td>\n",
       "      <td>NaN</td>\n",
       "      <td>NaN</td>\n",
       "      <td>NaN</td>\n",
       "      <td>NaN</td>\n",
       "      <td>neutral</td>\n",
       "      <td>2023-08-17 00:00:24</td>\n",
       "    </tr>\n",
       "    <tr>\n",
       "      <th>2</th>\n",
       "      <td>high</td>\n",
       "      <td>0</td>\n",
       "      <td>reducing alcohol consumption</td>\n",
       "      <td>2</td>\n",
       "      <td>therapist</td>\n",
       "      <td>00:00:25</td>\n",
       "      <td>So, let's see. It looks that you put-- You dri...</td>\n",
       "      <td>3</td>\n",
       "      <td>True</td>\n",
       "      <td>information</td>\n",
       "      <td>False</td>\n",
       "      <td>NaN</td>\n",
       "      <td>False</td>\n",
       "      <td>NaN</td>\n",
       "      <td>therapist_input</td>\n",
       "      <td>NaN</td>\n",
       "      <td>2023-08-17 00:00:25</td>\n",
       "    </tr>\n",
       "    <tr>\n",
       "      <th>3</th>\n",
       "      <td>high</td>\n",
       "      <td>0</td>\n",
       "      <td>reducing alcohol consumption</td>\n",
       "      <td>3</td>\n",
       "      <td>client</td>\n",
       "      <td>00:00:34</td>\n",
       "      <td>Mm-hmm.</td>\n",
       "      <td>3</td>\n",
       "      <td>NaN</td>\n",
       "      <td>NaN</td>\n",
       "      <td>NaN</td>\n",
       "      <td>NaN</td>\n",
       "      <td>NaN</td>\n",
       "      <td>NaN</td>\n",
       "      <td>NaN</td>\n",
       "      <td>neutral</td>\n",
       "      <td>2023-08-17 00:00:34</td>\n",
       "    </tr>\n",
       "    <tr>\n",
       "      <th>4</th>\n",
       "      <td>high</td>\n",
       "      <td>0</td>\n",
       "      <td>reducing alcohol consumption</td>\n",
       "      <td>4</td>\n",
       "      <td>therapist</td>\n",
       "      <td>00:00:34</td>\n",
       "      <td>-and you usually have three to four drinks whe...</td>\n",
       "      <td>3</td>\n",
       "      <td>True</td>\n",
       "      <td>information</td>\n",
       "      <td>False</td>\n",
       "      <td>NaN</td>\n",
       "      <td>False</td>\n",
       "      <td>NaN</td>\n",
       "      <td>therapist_input</td>\n",
       "      <td>NaN</td>\n",
       "      <td>2023-08-17 00:00:34</td>\n",
       "    </tr>\n",
       "  </tbody>\n",
       "</table>\n",
       "</div>"
      ],
      "text/plain": [
       "  mi_quality  transcript_id                         topic  utterance_id  \\\n",
       "0       high              0  reducing alcohol consumption             0   \n",
       "1       high              0  reducing alcohol consumption             1   \n",
       "2       high              0  reducing alcohol consumption             2   \n",
       "3       high              0  reducing alcohol consumption             3   \n",
       "4       high              0  reducing alcohol consumption             4   \n",
       "\n",
       "  interlocutor timestamp                                     utterance_text  \\\n",
       "0    therapist  00:00:13  Thanks for filling it out. We give this form t...   \n",
       "1       client  00:00:24                                              Sure.   \n",
       "2    therapist  00:00:25  So, let's see. It looks that you put-- You dri...   \n",
       "3       client  00:00:34                                            Mm-hmm.   \n",
       "4    therapist  00:00:34  -and you usually have three to four drinks whe...   \n",
       "\n",
       "   annotator_id therapist_input_exists therapist_input_subtype  \\\n",
       "0             3                  False                     NaN   \n",
       "1             3                    NaN                     NaN   \n",
       "2             3                   True             information   \n",
       "3             3                    NaN                     NaN   \n",
       "4             3                   True             information   \n",
       "\n",
       "  reflection_exists reflection_subtype question_exists question_subtype  \\\n",
       "0             False                NaN            True             open   \n",
       "1               NaN                NaN             NaN              NaN   \n",
       "2             False                NaN           False              NaN   \n",
       "3               NaN                NaN             NaN              NaN   \n",
       "4             False                NaN           False              NaN   \n",
       "\n",
       "  main_therapist_behaviour client_talk_type            datetime  \n",
       "0                 question              NaN 2023-08-17 00:00:13  \n",
       "1                      NaN          neutral 2023-08-17 00:00:24  \n",
       "2          therapist_input              NaN 2023-08-17 00:00:25  \n",
       "3                      NaN          neutral 2023-08-17 00:00:34  \n",
       "4          therapist_input              NaN 2023-08-17 00:00:34  "
      ]
     },
     "execution_count": 5,
     "metadata": {},
     "output_type": "execute_result"
    }
   ],
   "source": [
    "anno_mi.head()"
   ]
  },
  {
   "cell_type": "code",
   "execution_count": 6,
   "id": "84d5594d",
   "metadata": {},
   "outputs": [
    {
     "data": {
      "text/plain": [
       "(9699, 384)"
      ]
     },
     "execution_count": 6,
     "metadata": {},
     "output_type": "execute_result"
    }
   ],
   "source": [
    "with open(\"../anno_mi_sbert.pkl\", \"rb\") as f:\n",
    "    sbert_embeddings = pickle.load(f)\n",
    "    \n",
    "sbert_embeddings.shape"
   ]
  },
  {
   "cell_type": "markdown",
   "id": "da4ff92d",
   "metadata": {},
   "source": [
    "# swmhau Network"
   ]
  },
  {
   "cell_type": "markdown",
   "id": "32ae1a72",
   "metadata": {},
   "source": [
    "## Obtaining path by looking at post history\n",
    "\n",
    "We can obtain a path by looking at the history of each post. Here we look at the last 10 posts (and pad with vectors of zeros if there are less than 10 posts) including the current post.\n",
    "\n",
    "We only want to consider paths that correspond to a client's utterance as we want to model a change in mood at that time. Their history will still contain the therapist's utterances too."
   ]
  },
  {
   "cell_type": "code",
   "execution_count": 7,
   "id": "90bfd87c",
   "metadata": {},
   "outputs": [],
   "source": [
    "time_features = [\"time_encoding\", \"timeline_index\"]\n",
    "standardise_method = [\"minmax\", None]\n",
    "num_features = len(time_features)\n",
    "add_time_in_path = True"
   ]
  },
  {
   "cell_type": "code",
   "execution_count": 8,
   "id": "9e9bee3b",
   "metadata": {},
   "outputs": [],
   "source": [
    "num_epochs = 100\n",
    "embedding_dim = 384\n",
    "dimensions = [15] # [50, 15]\n",
    "# define swmhau parameters: (output_channels, sig_depth, num_heads)\n",
    "swmhau_parameters = [(12, 3, 10), (8, 4, 6), (8, 4, 12)]\n",
    "num_layers = [1]\n",
    "ffn_hidden_dim_sizes = [[64,64],[256,256],[512,512]]\n",
    "dropout_rates = [0.5, 0.1]\n",
    "learning_rates = [1e-3, 1e-4, 5e-4]\n",
    "seeds = [1, 12, 123]\n",
    "loss = \"focal\"\n",
    "gamma = 2\n",
    "validation_metric = \"f1\"\n",
    "patience = 5"
   ]
  },
  {
   "cell_type": "code",
   "execution_count": 9,
   "id": "3739e09a",
   "metadata": {
    "scrolled": false
   },
   "outputs": [],
   "source": [
    "# size = 20\n",
    "# swmhau_network_umap_kfold_20, best_swmhau_network_umap_kfold_20, _, __ = swmhau_network_hyperparameter_search(\n",
    "#     num_epochs=num_epochs,\n",
    "#     df=anno_mi,\n",
    "#     id_column=\"transcript_id\",\n",
    "#     label_column=\"client_talk_type\",\n",
    "#     embeddings=sbert_embeddings,\n",
    "#     y_data=y_data_client,\n",
    "#     embedding_dim=embedding_dim,\n",
    "#     output_dim=output_dim_client,\n",
    "#     history_lengths=[size],\n",
    "#     dim_reduce_methods=[\"umap\"],\n",
    "#     dimensions=dimensions,\n",
    "#     log_signature=True,\n",
    "#     swmhau_parameters=swmhau_parameters,\n",
    "#     num_layers=num_layers,\n",
    "#     ffn_hidden_dim_sizes=ffn_hidden_dim_sizes,\n",
    "#     dropout_rates=dropout_rates,\n",
    "#     learning_rates=learning_rates,\n",
    "#     seeds=seeds,\n",
    "#     loss=loss,\n",
    "#     gamma=gamma,\n",
    "#     features=time_features,\n",
    "#     standardise_method=standardise_method,\n",
    "#     add_time_in_path=add_time_in_path,\n",
    "#     path_indices=client_index,\n",
    "#     k_fold=True,\n",
    "#     patience=patience,\n",
    "#     validation_metric=validation_metric,\n",
    "#     results_output=f\"{output_dir}/swmhau_network_umap_focal_{gamma}_{size}_kfold.csv\",\n",
    "#     verbose=False\n",
    "# )"
   ]
  },
  {
   "cell_type": "code",
   "execution_count": 10,
   "id": "13a67a66",
   "metadata": {
    "scrolled": false
   },
   "outputs": [
    {
     "data": {
      "application/vnd.jupyter.widget-view+json": {
       "model_id": "ede55f40546b4d33865335ce9cb62f4a",
       "version_major": 2,
       "version_minor": 0
      },
      "text/plain": [
       "  0%|          | 0/1 [00:00<?, ?it/s]"
      ]
     },
     "metadata": {},
     "output_type": "display_data"
    },
    {
     "data": {
      "application/vnd.jupyter.widget-view+json": {
       "model_id": "b3e4b8e486ec4a16871ea5645dedee54",
       "version_major": 2,
       "version_minor": 0
      },
      "text/plain": [
       "  0%|          | 0/1 [00:00<?, ?it/s]"
      ]
     },
     "metadata": {},
     "output_type": "display_data"
    },
    {
     "data": {
      "application/vnd.jupyter.widget-view+json": {
       "model_id": "f99d9c0d9b1f455a8f58eae85185be28",
       "version_major": 2,
       "version_minor": 0
      },
      "text/plain": [
       "  0%|          | 0/1 [00:00<?, ?it/s]"
      ]
     },
     "metadata": {},
     "output_type": "display_data"
    },
    {
     "name": "stdout",
     "output_type": "stream",
     "text": [
      "\n",
      "##################################################\n",
      "dimension: 15 | method: gaussian_random_projection\n",
      "[INFO] Concatenating the embeddings to the dataframe...\n",
      "[INFO] - columns beginning with 'e' denote the full embddings.\n",
      "[INFO] - columns beginning with 'd' denote the dimension reduced embeddings.\n",
      "[INFO] Adding time feature columns into dataframe in `.df`.\n",
      "[INFO] Adding 'time_encoding' feature...\n",
      "[INFO] Adding 'time_diff' feature...\n",
      "[INFO] Adding 'timeline_index' feature...\n",
      "[INFO] Padding ids and storing in `.df_padded` and `.array_padded` attributes.\n"
     ]
    },
    {
     "data": {
      "application/vnd.jupyter.widget-view+json": {
       "model_id": "e719d11c9b3f41c0803ba60c3bcff9ef",
       "version_major": 2,
       "version_minor": 0
      },
      "text/plain": [
       "  0%|          | 0/9699 [00:00<?, ?it/s]"
      ]
     },
     "metadata": {},
     "output_type": "display_data"
    },
    {
     "name": "stdout",
     "output_type": "stream",
     "text": [
      "[INFO] The path was created for each item in the dataframe, by looking at its history, so to include embeddings in the FFN input, we concatenate the embeddings for each sentence / text.\n"
     ]
    },
    {
     "data": {
      "application/vnd.jupyter.widget-view+json": {
       "model_id": "ade9cc8b56c64d238d2119c2ed7cacc6",
       "version_major": 2,
       "version_minor": 0
      },
      "text/plain": [
       "  0%|          | 0/1 [00:00<?, ?it/s]"
      ]
     },
     "metadata": {},
     "output_type": "display_data"
    },
    {
     "data": {
      "application/vnd.jupyter.widget-view+json": {
       "model_id": "8b6c7a202f354ae49d0ef5d4e73625b6",
       "version_major": 2,
       "version_minor": 0
      },
      "text/plain": [
       "  0%|          | 0/1 [00:00<?, ?it/s]"
      ]
     },
     "metadata": {},
     "output_type": "display_data"
    },
    {
     "data": {
      "application/vnd.jupyter.widget-view+json": {
       "model_id": "0108efc3b1fa4e28a74d51f31a26304b",
       "version_major": 2,
       "version_minor": 0
      },
      "text/plain": [
       "  0%|          | 0/3 [00:00<?, ?it/s]"
      ]
     },
     "metadata": {},
     "output_type": "display_data"
    },
    {
     "data": {
      "application/vnd.jupyter.widget-view+json": {
       "model_id": "fc0b4b6483a94d6a8ceee5183745b1dd",
       "version_major": 2,
       "version_minor": 0
      },
      "text/plain": [
       "  0%|          | 0/2 [00:00<?, ?it/s]"
      ]
     },
     "metadata": {},
     "output_type": "display_data"
    },
    {
     "data": {
      "application/vnd.jupyter.widget-view+json": {
       "model_id": "74de7c286190461f909e4e8ba336a97c",
       "version_major": 2,
       "version_minor": 0
      },
      "text/plain": [
       "  0%|          | 0/3 [00:00<?, ?it/s]"
      ]
     },
     "metadata": {},
     "output_type": "display_data"
    },
    {
     "data": {
      "application/vnd.jupyter.widget-view+json": {
       "model_id": "f3dfb039a55f483cae6619a85faca87f",
       "version_major": 2,
       "version_minor": 0
      },
      "text/plain": [
       "  0%|          | 0/3 [00:00<?, ?it/s]"
      ]
     },
     "metadata": {},
     "output_type": "display_data"
    },
    {
     "data": {
      "application/vnd.jupyter.widget-view+json": {
       "model_id": "80618493a65047faa474b1072745108e",
       "version_major": 2,
       "version_minor": 0
      },
      "text/plain": [
       "  0%|          | 0/2 [00:00<?, ?it/s]"
      ]
     },
     "metadata": {},
     "output_type": "display_data"
    },
    {
     "data": {
      "application/vnd.jupyter.widget-view+json": {
       "model_id": "dc268379ac774ae7b8799c65c8e7dfc6",
       "version_major": 2,
       "version_minor": 0
      },
      "text/plain": [
       "  0%|          | 0/3 [00:00<?, ?it/s]"
      ]
     },
     "metadata": {},
     "output_type": "display_data"
    },
    {
     "data": {
      "application/vnd.jupyter.widget-view+json": {
       "model_id": "aa02d978f6e047109244823bd2a5f99d",
       "version_major": 2,
       "version_minor": 0
      },
      "text/plain": [
       "  0%|          | 0/3 [00:00<?, ?it/s]"
      ]
     },
     "metadata": {},
     "output_type": "display_data"
    },
    {
     "data": {
      "application/vnd.jupyter.widget-view+json": {
       "model_id": "a78b849c7e764077b101eb40aaa0ac2a",
       "version_major": 2,
       "version_minor": 0
      },
      "text/plain": [
       "  0%|          | 0/2 [00:00<?, ?it/s]"
      ]
     },
     "metadata": {},
     "output_type": "display_data"
    },
    {
     "data": {
      "application/vnd.jupyter.widget-view+json": {
       "model_id": "2f245d2536594e1abbe96800c95b3528",
       "version_major": 2,
       "version_minor": 0
      },
      "text/plain": [
       "  0%|          | 0/3 [00:00<?, ?it/s]"
      ]
     },
     "metadata": {},
     "output_type": "display_data"
    },
    {
     "data": {
      "application/vnd.jupyter.widget-view+json": {
       "model_id": "a24db673deb348e99a607d1e434db0d2",
       "version_major": 2,
       "version_minor": 0
      },
      "text/plain": [
       "  0%|          | 0/3 [00:00<?, ?it/s]"
      ]
     },
     "metadata": {},
     "output_type": "display_data"
    },
    {
     "name": "stdout",
     "output_type": "stream",
     "text": [
      "[INFO] Concatenating the embeddings to the dataframe...\n",
      "[INFO] - columns beginning with 'e' denote the full embddings.\n",
      "[INFO] - columns beginning with 'd' denote the dimension reduced embeddings.\n",
      "[INFO] Adding time feature columns into dataframe in `.df`.\n",
      "[INFO] Adding 'time_encoding' feature...\n",
      "[INFO] Adding 'time_diff' feature...\n",
      "[INFO] Adding 'timeline_index' feature...\n",
      "[INFO] Padding ids and storing in `.df_padded` and `.array_padded` attributes.\n"
     ]
    },
    {
     "data": {
      "application/vnd.jupyter.widget-view+json": {
       "model_id": "f3228d730d454f7f8a70e332c12e426e",
       "version_major": 2,
       "version_minor": 0
      },
      "text/plain": [
       "  0%|          | 0/9699 [00:00<?, ?it/s]"
      ]
     },
     "metadata": {},
     "output_type": "display_data"
    },
    {
     "name": "stdout",
     "output_type": "stream",
     "text": [
      "[INFO] The path was created for each item in the dataframe, by looking at its history, so to include embeddings in the FFN input, we concatenate the embeddings for each sentence / text.\n",
      "saving results dataframe to CSV for this hyperparameter search in client_talk_type_output/swmhau_network_grp_focal_2_20_kfold.csv\n"
     ]
    }
   ],
   "source": [
    "size = 20\n",
    "swmhau_network_grp_kfold_20, best_swmhau_network_grp_kfold_20, _, __ = swmhau_network_hyperparameter_search(\n",
    "    num_epochs=num_epochs,\n",
    "    df=anno_mi,\n",
    "    id_column=\"transcript_id\",\n",
    "    label_column=\"client_talk_type\",\n",
    "    embeddings=sbert_embeddings,\n",
    "    y_data=y_data_client,\n",
    "    embedding_dim=embedding_dim,\n",
    "    output_dim=output_dim_client,\n",
    "    history_lengths=[size],\n",
    "    dim_reduce_methods=[\"gaussian_random_projection\"],\n",
    "    dimensions=dimensions,\n",
    "    log_signature=True,\n",
    "    swmhau_parameters=swmhau_parameters,\n",
    "    num_layers=num_layers,\n",
    "    ffn_hidden_dim_sizes=ffn_hidden_dim_sizes,\n",
    "    dropout_rates=dropout_rates,\n",
    "    learning_rates=learning_rates,\n",
    "    seeds=seeds,\n",
    "    loss=loss,\n",
    "    gamma=gamma,\n",
    "    features=time_features,\n",
    "    standardise_method=standardise_method,\n",
    "    path_indices=client_index,\n",
    "    k_fold=True,\n",
    "    patience=patience,\n",
    "    validation_metric=validation_metric,\n",
    "    results_output=f\"{output_dir}/swmhau_network_grp_focal_{gamma}_{size}_kfold.csv\",\n",
    "    verbose=False\n",
    ")"
   ]
  },
  {
   "cell_type": "code",
   "execution_count": 22,
   "id": "0ec7c660",
   "metadata": {},
   "outputs": [
    {
     "name": "stderr",
     "output_type": "stream",
     "text": [
      "/var/folders/l7/bnn1j6bs3bqfskq2jlq55yh80000gr/T/ipykernel_7649/809976104.py:1: FutureWarning: The default value of numeric_only in DataFrameGroupBy.mean is deprecated. In a future version, numeric_only will default to False. Either specify numeric_only or select only columns which should be valid for the function.\n",
      "  swmhau_network_grp_kfold_20.groupby([\"dimensions\",\n"
     ]
    },
    {
     "data": {
      "text/html": [
       "<div>\n",
       "<style scoped>\n",
       "    .dataframe tbody tr th:only-of-type {\n",
       "        vertical-align: middle;\n",
       "    }\n",
       "\n",
       "    .dataframe tbody tr th {\n",
       "        vertical-align: top;\n",
       "    }\n",
       "\n",
       "    .dataframe thead th {\n",
       "        text-align: right;\n",
       "    }\n",
       "</style>\n",
       "<table border=\"1\" class=\"dataframe\">\n",
       "  <thead>\n",
       "    <tr style=\"text-align: right;\">\n",
       "      <th></th>\n",
       "      <th></th>\n",
       "      <th></th>\n",
       "      <th></th>\n",
       "      <th></th>\n",
       "      <th></th>\n",
       "      <th></th>\n",
       "      <th>accuracy</th>\n",
       "      <th>f1</th>\n",
       "      <th>precision</th>\n",
       "      <th>recall</th>\n",
       "      <th>valid_accuracy</th>\n",
       "      <th>valid_f1</th>\n",
       "      <th>valid_precision</th>\n",
       "      <th>valid_recall</th>\n",
       "      <th>k</th>\n",
       "      <th>input_channels</th>\n",
       "      <th>...</th>\n",
       "      <th>num_features</th>\n",
       "      <th>embedding_dim</th>\n",
       "      <th>log_signature</th>\n",
       "      <th>dropout_rate</th>\n",
       "      <th>seed</th>\n",
       "      <th>gamma</th>\n",
       "      <th>k_fold</th>\n",
       "      <th>n_splits</th>\n",
       "      <th>batch_size</th>\n",
       "      <th>model_id</th>\n",
       "    </tr>\n",
       "    <tr>\n",
       "      <th>dimensions</th>\n",
       "      <th>output_channels</th>\n",
       "      <th>sig_depth</th>\n",
       "      <th>num_heads</th>\n",
       "      <th>num_layers</th>\n",
       "      <th>ffn_hidden_dim</th>\n",
       "      <th>learning_rate</th>\n",
       "      <th></th>\n",
       "      <th></th>\n",
       "      <th></th>\n",
       "      <th></th>\n",
       "      <th></th>\n",
       "      <th></th>\n",
       "      <th></th>\n",
       "      <th></th>\n",
       "      <th></th>\n",
       "      <th></th>\n",
       "      <th></th>\n",
       "      <th></th>\n",
       "      <th></th>\n",
       "      <th></th>\n",
       "      <th></th>\n",
       "      <th></th>\n",
       "      <th></th>\n",
       "      <th></th>\n",
       "      <th></th>\n",
       "      <th></th>\n",
       "      <th></th>\n",
       "    </tr>\n",
       "  </thead>\n",
       "  <tbody>\n",
       "    <tr>\n",
       "      <th rowspan=\"9\" valign=\"top\">15</th>\n",
       "      <th rowspan=\"9\" valign=\"top\">12</th>\n",
       "      <th rowspan=\"9\" valign=\"top\">3</th>\n",
       "      <th rowspan=\"9\" valign=\"top\">10</th>\n",
       "      <th rowspan=\"9\" valign=\"top\">1</th>\n",
       "      <th rowspan=\"3\" valign=\"top\">(64, 64)</th>\n",
       "      <th>0.0001</th>\n",
       "      <td>0.673552</td>\n",
       "      <td>0.552367</td>\n",
       "      <td>0.552802</td>\n",
       "      <td>0.554272</td>\n",
       "      <td>0.667138</td>\n",
       "      <td>0.542442</td>\n",
       "      <td>0.543002</td>\n",
       "      <td>0.543412</td>\n",
       "      <td>20.0</td>\n",
       "      <td>15.0</td>\n",
       "      <td>...</td>\n",
       "      <td>2.0</td>\n",
       "      <td>384.0</td>\n",
       "      <td>1.0</td>\n",
       "      <td>0.3</td>\n",
       "      <td>1.0</td>\n",
       "      <td>2.0</td>\n",
       "      <td>1.0</td>\n",
       "      <td>5.0</td>\n",
       "      <td>64.0</td>\n",
       "      <td>2.5</td>\n",
       "    </tr>\n",
       "    <tr>\n",
       "      <th>0.0005</th>\n",
       "      <td>0.674071</td>\n",
       "      <td>0.553772</td>\n",
       "      <td>0.554085</td>\n",
       "      <td>0.554241</td>\n",
       "      <td>0.669104</td>\n",
       "      <td>0.545040</td>\n",
       "      <td>0.545441</td>\n",
       "      <td>0.545069</td>\n",
       "      <td>20.0</td>\n",
       "      <td>15.0</td>\n",
       "      <td>...</td>\n",
       "      <td>2.0</td>\n",
       "      <td>384.0</td>\n",
       "      <td>1.0</td>\n",
       "      <td>0.3</td>\n",
       "      <td>1.0</td>\n",
       "      <td>2.0</td>\n",
       "      <td>1.0</td>\n",
       "      <td>5.0</td>\n",
       "      <td>64.0</td>\n",
       "      <td>3.5</td>\n",
       "    </tr>\n",
       "    <tr>\n",
       "      <th>0.0010</th>\n",
       "      <td>0.674901</td>\n",
       "      <td>0.549297</td>\n",
       "      <td>0.556696</td>\n",
       "      <td>0.546562</td>\n",
       "      <td>0.672720</td>\n",
       "      <td>0.542126</td>\n",
       "      <td>0.550166</td>\n",
       "      <td>0.539543</td>\n",
       "      <td>20.0</td>\n",
       "      <td>15.0</td>\n",
       "      <td>...</td>\n",
       "      <td>2.0</td>\n",
       "      <td>384.0</td>\n",
       "      <td>1.0</td>\n",
       "      <td>0.3</td>\n",
       "      <td>1.0</td>\n",
       "      <td>2.0</td>\n",
       "      <td>1.0</td>\n",
       "      <td>5.0</td>\n",
       "      <td>64.0</td>\n",
       "      <td>1.5</td>\n",
       "    </tr>\n",
       "    <tr>\n",
       "      <th rowspan=\"3\" valign=\"top\">(256, 256)</th>\n",
       "      <th>0.0001</th>\n",
       "      <td>0.661408</td>\n",
       "      <td>0.535620</td>\n",
       "      <td>0.539904</td>\n",
       "      <td>0.537865</td>\n",
       "      <td>0.659827</td>\n",
       "      <td>0.531835</td>\n",
       "      <td>0.536802</td>\n",
       "      <td>0.533413</td>\n",
       "      <td>20.0</td>\n",
       "      <td>15.0</td>\n",
       "      <td>...</td>\n",
       "      <td>2.0</td>\n",
       "      <td>384.0</td>\n",
       "      <td>1.0</td>\n",
       "      <td>0.3</td>\n",
       "      <td>1.0</td>\n",
       "      <td>2.0</td>\n",
       "      <td>1.0</td>\n",
       "      <td>5.0</td>\n",
       "      <td>64.0</td>\n",
       "      <td>8.5</td>\n",
       "    </tr>\n",
       "    <tr>\n",
       "      <th>0.0005</th>\n",
       "      <td>0.673241</td>\n",
       "      <td>0.552635</td>\n",
       "      <td>0.555711</td>\n",
       "      <td>0.553691</td>\n",
       "      <td>0.668475</td>\n",
       "      <td>0.543437</td>\n",
       "      <td>0.546513</td>\n",
       "      <td>0.543846</td>\n",
       "      <td>20.0</td>\n",
       "      <td>15.0</td>\n",
       "      <td>...</td>\n",
       "      <td>2.0</td>\n",
       "      <td>384.0</td>\n",
       "      <td>1.0</td>\n",
       "      <td>0.3</td>\n",
       "      <td>1.0</td>\n",
       "      <td>2.0</td>\n",
       "      <td>1.0</td>\n",
       "      <td>5.0</td>\n",
       "      <td>64.0</td>\n",
       "      <td>9.5</td>\n",
       "    </tr>\n",
       "    <tr>\n",
       "      <th>0.0010</th>\n",
       "      <td>0.671995</td>\n",
       "      <td>0.545499</td>\n",
       "      <td>0.553019</td>\n",
       "      <td>0.541510</td>\n",
       "      <td>0.663915</td>\n",
       "      <td>0.531859</td>\n",
       "      <td>0.538252</td>\n",
       "      <td>0.528837</td>\n",
       "      <td>20.0</td>\n",
       "      <td>15.0</td>\n",
       "      <td>...</td>\n",
       "      <td>2.0</td>\n",
       "      <td>384.0</td>\n",
       "      <td>1.0</td>\n",
       "      <td>0.3</td>\n",
       "      <td>1.0</td>\n",
       "      <td>2.0</td>\n",
       "      <td>1.0</td>\n",
       "      <td>5.0</td>\n",
       "      <td>64.0</td>\n",
       "      <td>7.5</td>\n",
       "    </tr>\n",
       "    <tr>\n",
       "      <th rowspan=\"3\" valign=\"top\">(512, 512)</th>\n",
       "      <th>0.0001</th>\n",
       "      <td>0.665456</td>\n",
       "      <td>0.532737</td>\n",
       "      <td>0.537866</td>\n",
       "      <td>0.529081</td>\n",
       "      <td>0.660535</td>\n",
       "      <td>0.525997</td>\n",
       "      <td>0.530502</td>\n",
       "      <td>0.523086</td>\n",
       "      <td>20.0</td>\n",
       "      <td>15.0</td>\n",
       "      <td>...</td>\n",
       "      <td>2.0</td>\n",
       "      <td>384.0</td>\n",
       "      <td>1.0</td>\n",
       "      <td>0.3</td>\n",
       "      <td>1.0</td>\n",
       "      <td>2.0</td>\n",
       "      <td>1.0</td>\n",
       "      <td>5.0</td>\n",
       "      <td>64.0</td>\n",
       "      <td>14.5</td>\n",
       "    </tr>\n",
       "    <tr>\n",
       "      <th>0.0005</th>\n",
       "      <td>0.663484</td>\n",
       "      <td>0.547324</td>\n",
       "      <td>0.548569</td>\n",
       "      <td>0.547360</td>\n",
       "      <td>0.657311</td>\n",
       "      <td>0.530834</td>\n",
       "      <td>0.533833</td>\n",
       "      <td>0.529706</td>\n",
       "      <td>20.0</td>\n",
       "      <td>15.0</td>\n",
       "      <td>...</td>\n",
       "      <td>2.0</td>\n",
       "      <td>384.0</td>\n",
       "      <td>1.0</td>\n",
       "      <td>0.3</td>\n",
       "      <td>1.0</td>\n",
       "      <td>2.0</td>\n",
       "      <td>1.0</td>\n",
       "      <td>5.0</td>\n",
       "      <td>64.0</td>\n",
       "      <td>15.5</td>\n",
       "    </tr>\n",
       "    <tr>\n",
       "      <th>0.0010</th>\n",
       "      <td>0.667843</td>\n",
       "      <td>0.533039</td>\n",
       "      <td>0.544581</td>\n",
       "      <td>0.525120</td>\n",
       "      <td>0.666588</td>\n",
       "      <td>0.528432</td>\n",
       "      <td>0.540134</td>\n",
       "      <td>0.520631</td>\n",
       "      <td>20.0</td>\n",
       "      <td>15.0</td>\n",
       "      <td>...</td>\n",
       "      <td>2.0</td>\n",
       "      <td>384.0</td>\n",
       "      <td>1.0</td>\n",
       "      <td>0.3</td>\n",
       "      <td>1.0</td>\n",
       "      <td>2.0</td>\n",
       "      <td>1.0</td>\n",
       "      <td>5.0</td>\n",
       "      <td>64.0</td>\n",
       "      <td>13.5</td>\n",
       "    </tr>\n",
       "  </tbody>\n",
       "</table>\n",
       "<p>9 rows × 21 columns</p>\n",
       "</div>"
      ],
      "text/plain": [
       "                                                                                        accuracy  \\\n",
       "dimensions output_channels sig_depth num_heads num_layers ffn_hidden_dim learning_rate             \n",
       "15         12              3         10        1          (64, 64)       0.0001         0.673552   \n",
       "                                                                         0.0005         0.674071   \n",
       "                                                                         0.0010         0.674901   \n",
       "                                                          (256, 256)     0.0001         0.661408   \n",
       "                                                                         0.0005         0.673241   \n",
       "                                                                         0.0010         0.671995   \n",
       "                                                          (512, 512)     0.0001         0.665456   \n",
       "                                                                         0.0005         0.663484   \n",
       "                                                                         0.0010         0.667843   \n",
       "\n",
       "                                                                                              f1  \\\n",
       "dimensions output_channels sig_depth num_heads num_layers ffn_hidden_dim learning_rate             \n",
       "15         12              3         10        1          (64, 64)       0.0001         0.552367   \n",
       "                                                                         0.0005         0.553772   \n",
       "                                                                         0.0010         0.549297   \n",
       "                                                          (256, 256)     0.0001         0.535620   \n",
       "                                                                         0.0005         0.552635   \n",
       "                                                                         0.0010         0.545499   \n",
       "                                                          (512, 512)     0.0001         0.532737   \n",
       "                                                                         0.0005         0.547324   \n",
       "                                                                         0.0010         0.533039   \n",
       "\n",
       "                                                                                        precision  \\\n",
       "dimensions output_channels sig_depth num_heads num_layers ffn_hidden_dim learning_rate              \n",
       "15         12              3         10        1          (64, 64)       0.0001          0.552802   \n",
       "                                                                         0.0005          0.554085   \n",
       "                                                                         0.0010          0.556696   \n",
       "                                                          (256, 256)     0.0001          0.539904   \n",
       "                                                                         0.0005          0.555711   \n",
       "                                                                         0.0010          0.553019   \n",
       "                                                          (512, 512)     0.0001          0.537866   \n",
       "                                                                         0.0005          0.548569   \n",
       "                                                                         0.0010          0.544581   \n",
       "\n",
       "                                                                                          recall  \\\n",
       "dimensions output_channels sig_depth num_heads num_layers ffn_hidden_dim learning_rate             \n",
       "15         12              3         10        1          (64, 64)       0.0001         0.554272   \n",
       "                                                                         0.0005         0.554241   \n",
       "                                                                         0.0010         0.546562   \n",
       "                                                          (256, 256)     0.0001         0.537865   \n",
       "                                                                         0.0005         0.553691   \n",
       "                                                                         0.0010         0.541510   \n",
       "                                                          (512, 512)     0.0001         0.529081   \n",
       "                                                                         0.0005         0.547360   \n",
       "                                                                         0.0010         0.525120   \n",
       "\n",
       "                                                                                        valid_accuracy  \\\n",
       "dimensions output_channels sig_depth num_heads num_layers ffn_hidden_dim learning_rate                   \n",
       "15         12              3         10        1          (64, 64)       0.0001               0.667138   \n",
       "                                                                         0.0005               0.669104   \n",
       "                                                                         0.0010               0.672720   \n",
       "                                                          (256, 256)     0.0001               0.659827   \n",
       "                                                                         0.0005               0.668475   \n",
       "                                                                         0.0010               0.663915   \n",
       "                                                          (512, 512)     0.0001               0.660535   \n",
       "                                                                         0.0005               0.657311   \n",
       "                                                                         0.0010               0.666588   \n",
       "\n",
       "                                                                                        valid_f1  \\\n",
       "dimensions output_channels sig_depth num_heads num_layers ffn_hidden_dim learning_rate             \n",
       "15         12              3         10        1          (64, 64)       0.0001         0.542442   \n",
       "                                                                         0.0005         0.545040   \n",
       "                                                                         0.0010         0.542126   \n",
       "                                                          (256, 256)     0.0001         0.531835   \n",
       "                                                                         0.0005         0.543437   \n",
       "                                                                         0.0010         0.531859   \n",
       "                                                          (512, 512)     0.0001         0.525997   \n",
       "                                                                         0.0005         0.530834   \n",
       "                                                                         0.0010         0.528432   \n",
       "\n",
       "                                                                                        valid_precision  \\\n",
       "dimensions output_channels sig_depth num_heads num_layers ffn_hidden_dim learning_rate                    \n",
       "15         12              3         10        1          (64, 64)       0.0001                0.543002   \n",
       "                                                                         0.0005                0.545441   \n",
       "                                                                         0.0010                0.550166   \n",
       "                                                          (256, 256)     0.0001                0.536802   \n",
       "                                                                         0.0005                0.546513   \n",
       "                                                                         0.0010                0.538252   \n",
       "                                                          (512, 512)     0.0001                0.530502   \n",
       "                                                                         0.0005                0.533833   \n",
       "                                                                         0.0010                0.540134   \n",
       "\n",
       "                                                                                        valid_recall  \\\n",
       "dimensions output_channels sig_depth num_heads num_layers ffn_hidden_dim learning_rate                 \n",
       "15         12              3         10        1          (64, 64)       0.0001             0.543412   \n",
       "                                                                         0.0005             0.545069   \n",
       "                                                                         0.0010             0.539543   \n",
       "                                                          (256, 256)     0.0001             0.533413   \n",
       "                                                                         0.0005             0.543846   \n",
       "                                                                         0.0010             0.528837   \n",
       "                                                          (512, 512)     0.0001             0.523086   \n",
       "                                                                         0.0005             0.529706   \n",
       "                                                                         0.0010             0.520631   \n",
       "\n",
       "                                                                                           k  \\\n",
       "dimensions output_channels sig_depth num_heads num_layers ffn_hidden_dim learning_rate         \n",
       "15         12              3         10        1          (64, 64)       0.0001         20.0   \n",
       "                                                                         0.0005         20.0   \n",
       "                                                                         0.0010         20.0   \n",
       "                                                          (256, 256)     0.0001         20.0   \n",
       "                                                                         0.0005         20.0   \n",
       "                                                                         0.0010         20.0   \n",
       "                                                          (512, 512)     0.0001         20.0   \n",
       "                                                                         0.0005         20.0   \n",
       "                                                                         0.0010         20.0   \n",
       "\n",
       "                                                                                        input_channels  \\\n",
       "dimensions output_channels sig_depth num_heads num_layers ffn_hidden_dim learning_rate                   \n",
       "15         12              3         10        1          (64, 64)       0.0001                   15.0   \n",
       "                                                                         0.0005                   15.0   \n",
       "                                                                         0.0010                   15.0   \n",
       "                                                          (256, 256)     0.0001                   15.0   \n",
       "                                                                         0.0005                   15.0   \n",
       "                                                                         0.0010                   15.0   \n",
       "                                                          (512, 512)     0.0001                   15.0   \n",
       "                                                                         0.0005                   15.0   \n",
       "                                                                         0.0010                   15.0   \n",
       "\n",
       "                                                                                        ...  \\\n",
       "dimensions output_channels sig_depth num_heads num_layers ffn_hidden_dim learning_rate  ...   \n",
       "15         12              3         10        1          (64, 64)       0.0001         ...   \n",
       "                                                                         0.0005         ...   \n",
       "                                                                         0.0010         ...   \n",
       "                                                          (256, 256)     0.0001         ...   \n",
       "                                                                         0.0005         ...   \n",
       "                                                                         0.0010         ...   \n",
       "                                                          (512, 512)     0.0001         ...   \n",
       "                                                                         0.0005         ...   \n",
       "                                                                         0.0010         ...   \n",
       "\n",
       "                                                                                        num_features  \\\n",
       "dimensions output_channels sig_depth num_heads num_layers ffn_hidden_dim learning_rate                 \n",
       "15         12              3         10        1          (64, 64)       0.0001                  2.0   \n",
       "                                                                         0.0005                  2.0   \n",
       "                                                                         0.0010                  2.0   \n",
       "                                                          (256, 256)     0.0001                  2.0   \n",
       "                                                                         0.0005                  2.0   \n",
       "                                                                         0.0010                  2.0   \n",
       "                                                          (512, 512)     0.0001                  2.0   \n",
       "                                                                         0.0005                  2.0   \n",
       "                                                                         0.0010                  2.0   \n",
       "\n",
       "                                                                                        embedding_dim  \\\n",
       "dimensions output_channels sig_depth num_heads num_layers ffn_hidden_dim learning_rate                  \n",
       "15         12              3         10        1          (64, 64)       0.0001                 384.0   \n",
       "                                                                         0.0005                 384.0   \n",
       "                                                                         0.0010                 384.0   \n",
       "                                                          (256, 256)     0.0001                 384.0   \n",
       "                                                                         0.0005                 384.0   \n",
       "                                                                         0.0010                 384.0   \n",
       "                                                          (512, 512)     0.0001                 384.0   \n",
       "                                                                         0.0005                 384.0   \n",
       "                                                                         0.0010                 384.0   \n",
       "\n",
       "                                                                                        log_signature  \\\n",
       "dimensions output_channels sig_depth num_heads num_layers ffn_hidden_dim learning_rate                  \n",
       "15         12              3         10        1          (64, 64)       0.0001                   1.0   \n",
       "                                                                         0.0005                   1.0   \n",
       "                                                                         0.0010                   1.0   \n",
       "                                                          (256, 256)     0.0001                   1.0   \n",
       "                                                                         0.0005                   1.0   \n",
       "                                                                         0.0010                   1.0   \n",
       "                                                          (512, 512)     0.0001                   1.0   \n",
       "                                                                         0.0005                   1.0   \n",
       "                                                                         0.0010                   1.0   \n",
       "\n",
       "                                                                                        dropout_rate  \\\n",
       "dimensions output_channels sig_depth num_heads num_layers ffn_hidden_dim learning_rate                 \n",
       "15         12              3         10        1          (64, 64)       0.0001                  0.3   \n",
       "                                                                         0.0005                  0.3   \n",
       "                                                                         0.0010                  0.3   \n",
       "                                                          (256, 256)     0.0001                  0.3   \n",
       "                                                                         0.0005                  0.3   \n",
       "                                                                         0.0010                  0.3   \n",
       "                                                          (512, 512)     0.0001                  0.3   \n",
       "                                                                         0.0005                  0.3   \n",
       "                                                                         0.0010                  0.3   \n",
       "\n",
       "                                                                                        seed  \\\n",
       "dimensions output_channels sig_depth num_heads num_layers ffn_hidden_dim learning_rate         \n",
       "15         12              3         10        1          (64, 64)       0.0001          1.0   \n",
       "                                                                         0.0005          1.0   \n",
       "                                                                         0.0010          1.0   \n",
       "                                                          (256, 256)     0.0001          1.0   \n",
       "                                                                         0.0005          1.0   \n",
       "                                                                         0.0010          1.0   \n",
       "                                                          (512, 512)     0.0001          1.0   \n",
       "                                                                         0.0005          1.0   \n",
       "                                                                         0.0010          1.0   \n",
       "\n",
       "                                                                                        gamma  \\\n",
       "dimensions output_channels sig_depth num_heads num_layers ffn_hidden_dim learning_rate          \n",
       "15         12              3         10        1          (64, 64)       0.0001           2.0   \n",
       "                                                                         0.0005           2.0   \n",
       "                                                                         0.0010           2.0   \n",
       "                                                          (256, 256)     0.0001           2.0   \n",
       "                                                                         0.0005           2.0   \n",
       "                                                                         0.0010           2.0   \n",
       "                                                          (512, 512)     0.0001           2.0   \n",
       "                                                                         0.0005           2.0   \n",
       "                                                                         0.0010           2.0   \n",
       "\n",
       "                                                                                        k_fold  \\\n",
       "dimensions output_channels sig_depth num_heads num_layers ffn_hidden_dim learning_rate           \n",
       "15         12              3         10        1          (64, 64)       0.0001            1.0   \n",
       "                                                                         0.0005            1.0   \n",
       "                                                                         0.0010            1.0   \n",
       "                                                          (256, 256)     0.0001            1.0   \n",
       "                                                                         0.0005            1.0   \n",
       "                                                                         0.0010            1.0   \n",
       "                                                          (512, 512)     0.0001            1.0   \n",
       "                                                                         0.0005            1.0   \n",
       "                                                                         0.0010            1.0   \n",
       "\n",
       "                                                                                        n_splits  \\\n",
       "dimensions output_channels sig_depth num_heads num_layers ffn_hidden_dim learning_rate             \n",
       "15         12              3         10        1          (64, 64)       0.0001              5.0   \n",
       "                                                                         0.0005              5.0   \n",
       "                                                                         0.0010              5.0   \n",
       "                                                          (256, 256)     0.0001              5.0   \n",
       "                                                                         0.0005              5.0   \n",
       "                                                                         0.0010              5.0   \n",
       "                                                          (512, 512)     0.0001              5.0   \n",
       "                                                                         0.0005              5.0   \n",
       "                                                                         0.0010              5.0   \n",
       "\n",
       "                                                                                        batch_size  \\\n",
       "dimensions output_channels sig_depth num_heads num_layers ffn_hidden_dim learning_rate               \n",
       "15         12              3         10        1          (64, 64)       0.0001               64.0   \n",
       "                                                                         0.0005               64.0   \n",
       "                                                                         0.0010               64.0   \n",
       "                                                          (256, 256)     0.0001               64.0   \n",
       "                                                                         0.0005               64.0   \n",
       "                                                                         0.0010               64.0   \n",
       "                                                          (512, 512)     0.0001               64.0   \n",
       "                                                                         0.0005               64.0   \n",
       "                                                                         0.0010               64.0   \n",
       "\n",
       "                                                                                        model_id  \n",
       "dimensions output_channels sig_depth num_heads num_layers ffn_hidden_dim learning_rate            \n",
       "15         12              3         10        1          (64, 64)       0.0001              2.5  \n",
       "                                                                         0.0005              3.5  \n",
       "                                                                         0.0010              1.5  \n",
       "                                                          (256, 256)     0.0001              8.5  \n",
       "                                                                         0.0005              9.5  \n",
       "                                                                         0.0010              7.5  \n",
       "                                                          (512, 512)     0.0001             14.5  \n",
       "                                                                         0.0005             15.5  \n",
       "                                                                         0.0010             13.5  \n",
       "\n",
       "[9 rows x 21 columns]"
      ]
     },
     "execution_count": 22,
     "metadata": {},
     "output_type": "execute_result"
    }
   ],
   "source": [
    "swmhau_network_grp_kfold_20.groupby([\"dimensions\",\n",
    "                                     \"output_channels\",\n",
    "                                     \"sig_depth\",\n",
    "                                     \"num_heads\",\n",
    "                                     \"num_layers\",\n",
    "                                     \"ffn_hidden_dim\",\n",
    "                                     \"learning_rate\"]).mean()"
   ]
  },
  {
   "cell_type": "code",
   "execution_count": 25,
   "id": "603dee18",
   "metadata": {},
   "outputs": [
    {
     "data": {
      "text/html": [
       "<div>\n",
       "<style scoped>\n",
       "    .dataframe tbody tr th:only-of-type {\n",
       "        vertical-align: middle;\n",
       "    }\n",
       "\n",
       "    .dataframe tbody tr th {\n",
       "        vertical-align: top;\n",
       "    }\n",
       "\n",
       "    .dataframe thead th {\n",
       "        text-align: right;\n",
       "    }\n",
       "</style>\n",
       "<table border=\"1\" class=\"dataframe\">\n",
       "  <thead>\n",
       "    <tr style=\"text-align: right;\">\n",
       "      <th></th>\n",
       "      <th>loss</th>\n",
       "      <th>accuracy</th>\n",
       "      <th>f1</th>\n",
       "      <th>f1_scores</th>\n",
       "      <th>precision</th>\n",
       "      <th>precision_scores</th>\n",
       "      <th>recall</th>\n",
       "      <th>recall_scores</th>\n",
       "      <th>valid_loss</th>\n",
       "      <th>valid_accuracy</th>\n",
       "      <th>...</th>\n",
       "      <th>learning_rate</th>\n",
       "      <th>seed</th>\n",
       "      <th>loss_function</th>\n",
       "      <th>gamma</th>\n",
       "      <th>k_fold</th>\n",
       "      <th>n_splits</th>\n",
       "      <th>augmentation_type</th>\n",
       "      <th>hidden_dim_aug</th>\n",
       "      <th>comb_method</th>\n",
       "      <th>batch_size</th>\n",
       "    </tr>\n",
       "  </thead>\n",
       "  <tbody>\n",
       "    <tr>\n",
       "      <th>0</th>\n",
       "      <td>None</td>\n",
       "      <td>0.674486</td>\n",
       "      <td>0.55747</td>\n",
       "      <td>[0.7887233701745956, 0.5045672031317964, 0.379...</td>\n",
       "      <td>0.558348</td>\n",
       "      <td>[0.7833280305440662, 0.5173951828724354, 0.374...</td>\n",
       "      <td>0.556866</td>\n",
       "      <td>[0.7941935483870968, 0.4923599320882852, 0.384...</td>\n",
       "      <td>None</td>\n",
       "      <td>0.670912</td>\n",
       "      <td>...</td>\n",
       "      <td>0.001</td>\n",
       "      <td>1</td>\n",
       "      <td>focal</td>\n",
       "      <td>2</td>\n",
       "      <td>True</td>\n",
       "      <td>5</td>\n",
       "      <td>Conv1d</td>\n",
       "      <td>None</td>\n",
       "      <td>concatenation</td>\n",
       "      <td>64</td>\n",
       "    </tr>\n",
       "  </tbody>\n",
       "</table>\n",
       "<p>1 rows × 42 columns</p>\n",
       "</div>"
      ],
      "text/plain": [
       "   loss  accuracy       f1                                          f1_scores  \\\n",
       "0  None  0.674486  0.55747  [0.7887233701745956, 0.5045672031317964, 0.379...   \n",
       "\n",
       "   precision                                   precision_scores    recall  \\\n",
       "0   0.558348  [0.7833280305440662, 0.5173951828724354, 0.374...  0.556866   \n",
       "\n",
       "                                       recall_scores valid_loss  \\\n",
       "0  [0.7941935483870968, 0.4923599320882852, 0.384...       None   \n",
       "\n",
       "   valid_accuracy  ...  learning_rate seed  loss_function gamma  k_fold  \\\n",
       "0        0.670912  ...          0.001    1          focal     2    True   \n",
       "\n",
       "  n_splits  augmentation_type  hidden_dim_aug    comb_method batch_size  \n",
       "0        5             Conv1d            None  concatenation         64  \n",
       "\n",
       "[1 rows x 42 columns]"
      ]
     },
     "execution_count": 25,
     "metadata": {},
     "output_type": "execute_result"
    }
   ],
   "source": [
    "best_swmhau_network_grp_kfold_20"
   ]
  },
  {
   "cell_type": "code",
   "execution_count": 13,
   "id": "e9d503c3",
   "metadata": {},
   "outputs": [
    {
     "data": {
      "text/plain": [
       "0.5574704841424237"
      ]
     },
     "execution_count": 13,
     "metadata": {},
     "output_type": "execute_result"
    }
   ],
   "source": [
    "best_swmhau_network_grp_kfold_20[\"f1\"].mean()"
   ]
  },
  {
   "cell_type": "code",
   "execution_count": 14,
   "id": "f3079077",
   "metadata": {},
   "outputs": [
    {
     "data": {
      "text/plain": [
       "0.5583483646891653"
      ]
     },
     "execution_count": 14,
     "metadata": {},
     "output_type": "execute_result"
    }
   ],
   "source": [
    "best_swmhau_network_grp_kfold_20[\"precision\"].mean()"
   ]
  },
  {
   "cell_type": "code",
   "execution_count": 15,
   "id": "eb2894ed",
   "metadata": {},
   "outputs": [
    {
     "data": {
      "text/plain": [
       "0.5568660024590172"
      ]
     },
     "execution_count": 15,
     "metadata": {},
     "output_type": "execute_result"
    }
   ],
   "source": [
    "best_swmhau_network_grp_kfold_20[\"recall\"].mean()"
   ]
  },
  {
   "cell_type": "code",
   "execution_count": 16,
   "id": "a3e8bbc5",
   "metadata": {},
   "outputs": [
    {
     "data": {
      "text/plain": [
       "array([0.78872337, 0.5045672 , 0.37912088])"
      ]
     },
     "execution_count": 16,
     "metadata": {},
     "output_type": "execute_result"
    }
   ],
   "source": [
    "np.stack(best_swmhau_network_grp_kfold_20[\"f1_scores\"]).mean(axis=0)"
   ]
  },
  {
   "cell_type": "code",
   "execution_count": 17,
   "id": "4601b7f2",
   "metadata": {},
   "outputs": [
    {
     "data": {
      "text/plain": [
       "array([0.78332803, 0.51739518, 0.37432188])"
      ]
     },
     "execution_count": 17,
     "metadata": {},
     "output_type": "execute_result"
    }
   ],
   "source": [
    "np.stack(best_swmhau_network_grp_kfold_20[\"precision_scores\"]).mean(axis=0)"
   ]
  },
  {
   "cell_type": "code",
   "execution_count": 18,
   "id": "a3201dd5",
   "metadata": {},
   "outputs": [
    {
     "data": {
      "text/plain": [
       "array([0.79419355, 0.49235993, 0.38404453])"
      ]
     },
     "execution_count": 18,
     "metadata": {},
     "output_type": "execute_result"
    }
   ],
   "source": [
    "np.stack(best_swmhau_network_grp_kfold_20[\"recall_scores\"]).mean(axis=0)"
   ]
  }
 ],
 "metadata": {
  "kernelspec": {
   "display_name": "nlpsig-networks",
   "language": "python",
   "name": "python3"
  },
  "language_info": {
   "codemirror_mode": {
    "name": "ipython",
    "version": 3
   },
   "file_extension": ".py",
   "mimetype": "text/x-python",
   "name": "python",
   "nbconvert_exporter": "python",
   "pygments_lexer": "ipython3",
   "version": "3.8.16"
  }
 },
 "nbformat": 4,
 "nbformat_minor": 5
}
