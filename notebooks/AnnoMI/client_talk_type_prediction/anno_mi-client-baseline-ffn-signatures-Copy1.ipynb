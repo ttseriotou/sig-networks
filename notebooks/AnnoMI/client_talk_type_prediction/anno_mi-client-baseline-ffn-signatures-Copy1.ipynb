{
 "cells": [
  {
   "cell_type": "code",
   "execution_count": 1,
   "id": "a983a5e8",
   "metadata": {},
   "outputs": [],
   "source": [
    "import numpy as np\n",
    "import pickle\n",
    "import os\n",
    "\n",
    "seed = 2023"
   ]
  },
  {
   "cell_type": "code",
   "execution_count": 2,
   "id": "e4e666cc",
   "metadata": {},
   "outputs": [],
   "source": [
    "from nlpsig_networks.scripts.ffn_baseline_functions import (\n",
    "    histories_baseline_hyperparameter_search\n",
    ")"
   ]
  },
  {
   "cell_type": "code",
   "execution_count": 3,
   "id": "6e918dde",
   "metadata": {},
   "outputs": [],
   "source": [
    "output_dir = \"client_talk_type_output\"\n",
    "if not os.path.isdir(output_dir):\n",
    "    os.makedirs(output_dir)"
   ]
  },
  {
   "cell_type": "markdown",
   "id": "f7409a03",
   "metadata": {},
   "source": [
    "## AnnoMI"
   ]
  },
  {
   "cell_type": "code",
   "execution_count": 4,
   "id": "f00bb922",
   "metadata": {},
   "outputs": [],
   "source": [
    "%run ../load_anno_mi.py"
   ]
  },
  {
   "cell_type": "code",
   "execution_count": 5,
   "id": "720d820f",
   "metadata": {},
   "outputs": [
    {
     "data": {
      "text/html": [
       "<div>\n",
       "<style scoped>\n",
       "    .dataframe tbody tr th:only-of-type {\n",
       "        vertical-align: middle;\n",
       "    }\n",
       "\n",
       "    .dataframe tbody tr th {\n",
       "        vertical-align: top;\n",
       "    }\n",
       "\n",
       "    .dataframe thead th {\n",
       "        text-align: right;\n",
       "    }\n",
       "</style>\n",
       "<table border=\"1\" class=\"dataframe\">\n",
       "  <thead>\n",
       "    <tr style=\"text-align: right;\">\n",
       "      <th></th>\n",
       "      <th>mi_quality</th>\n",
       "      <th>transcript_id</th>\n",
       "      <th>topic</th>\n",
       "      <th>utterance_id</th>\n",
       "      <th>interlocutor</th>\n",
       "      <th>timestamp</th>\n",
       "      <th>utterance_text</th>\n",
       "      <th>annotator_id</th>\n",
       "      <th>therapist_input_exists</th>\n",
       "      <th>therapist_input_subtype</th>\n",
       "      <th>reflection_exists</th>\n",
       "      <th>reflection_subtype</th>\n",
       "      <th>question_exists</th>\n",
       "      <th>question_subtype</th>\n",
       "      <th>main_therapist_behaviour</th>\n",
       "      <th>client_talk_type</th>\n",
       "      <th>datetime</th>\n",
       "    </tr>\n",
       "  </thead>\n",
       "  <tbody>\n",
       "    <tr>\n",
       "      <th>0</th>\n",
       "      <td>high</td>\n",
       "      <td>0</td>\n",
       "      <td>reducing alcohol consumption</td>\n",
       "      <td>0</td>\n",
       "      <td>therapist</td>\n",
       "      <td>00:00:13</td>\n",
       "      <td>Thanks for filling it out. We give this form t...</td>\n",
       "      <td>3</td>\n",
       "      <td>False</td>\n",
       "      <td>NaN</td>\n",
       "      <td>False</td>\n",
       "      <td>NaN</td>\n",
       "      <td>True</td>\n",
       "      <td>open</td>\n",
       "      <td>question</td>\n",
       "      <td>NaN</td>\n",
       "      <td>2023-07-12 00:00:13</td>\n",
       "    </tr>\n",
       "    <tr>\n",
       "      <th>1</th>\n",
       "      <td>high</td>\n",
       "      <td>0</td>\n",
       "      <td>reducing alcohol consumption</td>\n",
       "      <td>1</td>\n",
       "      <td>client</td>\n",
       "      <td>00:00:24</td>\n",
       "      <td>Sure.</td>\n",
       "      <td>3</td>\n",
       "      <td>NaN</td>\n",
       "      <td>NaN</td>\n",
       "      <td>NaN</td>\n",
       "      <td>NaN</td>\n",
       "      <td>NaN</td>\n",
       "      <td>NaN</td>\n",
       "      <td>NaN</td>\n",
       "      <td>neutral</td>\n",
       "      <td>2023-07-12 00:00:24</td>\n",
       "    </tr>\n",
       "    <tr>\n",
       "      <th>2</th>\n",
       "      <td>high</td>\n",
       "      <td>0</td>\n",
       "      <td>reducing alcohol consumption</td>\n",
       "      <td>2</td>\n",
       "      <td>therapist</td>\n",
       "      <td>00:00:25</td>\n",
       "      <td>So, let's see. It looks that you put-- You dri...</td>\n",
       "      <td>3</td>\n",
       "      <td>True</td>\n",
       "      <td>information</td>\n",
       "      <td>False</td>\n",
       "      <td>NaN</td>\n",
       "      <td>False</td>\n",
       "      <td>NaN</td>\n",
       "      <td>therapist_input</td>\n",
       "      <td>NaN</td>\n",
       "      <td>2023-07-12 00:00:25</td>\n",
       "    </tr>\n",
       "    <tr>\n",
       "      <th>3</th>\n",
       "      <td>high</td>\n",
       "      <td>0</td>\n",
       "      <td>reducing alcohol consumption</td>\n",
       "      <td>3</td>\n",
       "      <td>client</td>\n",
       "      <td>00:00:34</td>\n",
       "      <td>Mm-hmm.</td>\n",
       "      <td>3</td>\n",
       "      <td>NaN</td>\n",
       "      <td>NaN</td>\n",
       "      <td>NaN</td>\n",
       "      <td>NaN</td>\n",
       "      <td>NaN</td>\n",
       "      <td>NaN</td>\n",
       "      <td>NaN</td>\n",
       "      <td>neutral</td>\n",
       "      <td>2023-07-12 00:00:34</td>\n",
       "    </tr>\n",
       "    <tr>\n",
       "      <th>4</th>\n",
       "      <td>high</td>\n",
       "      <td>0</td>\n",
       "      <td>reducing alcohol consumption</td>\n",
       "      <td>4</td>\n",
       "      <td>therapist</td>\n",
       "      <td>00:00:34</td>\n",
       "      <td>-and you usually have three to four drinks whe...</td>\n",
       "      <td>3</td>\n",
       "      <td>True</td>\n",
       "      <td>information</td>\n",
       "      <td>False</td>\n",
       "      <td>NaN</td>\n",
       "      <td>False</td>\n",
       "      <td>NaN</td>\n",
       "      <td>therapist_input</td>\n",
       "      <td>NaN</td>\n",
       "      <td>2023-07-12 00:00:34</td>\n",
       "    </tr>\n",
       "  </tbody>\n",
       "</table>\n",
       "</div>"
      ],
      "text/plain": [
       "  mi_quality  transcript_id                         topic  utterance_id  \\\n",
       "0       high              0  reducing alcohol consumption             0   \n",
       "1       high              0  reducing alcohol consumption             1   \n",
       "2       high              0  reducing alcohol consumption             2   \n",
       "3       high              0  reducing alcohol consumption             3   \n",
       "4       high              0  reducing alcohol consumption             4   \n",
       "\n",
       "  interlocutor timestamp                                     utterance_text  \\\n",
       "0    therapist  00:00:13  Thanks for filling it out. We give this form t...   \n",
       "1       client  00:00:24                                              Sure.   \n",
       "2    therapist  00:00:25  So, let's see. It looks that you put-- You dri...   \n",
       "3       client  00:00:34                                            Mm-hmm.   \n",
       "4    therapist  00:00:34  -and you usually have three to four drinks whe...   \n",
       "\n",
       "   annotator_id therapist_input_exists therapist_input_subtype  \\\n",
       "0             3                  False                     NaN   \n",
       "1             3                    NaN                     NaN   \n",
       "2             3                   True             information   \n",
       "3             3                    NaN                     NaN   \n",
       "4             3                   True             information   \n",
       "\n",
       "  reflection_exists reflection_subtype question_exists question_subtype  \\\n",
       "0             False                NaN            True             open   \n",
       "1               NaN                NaN             NaN              NaN   \n",
       "2             False                NaN           False              NaN   \n",
       "3               NaN                NaN             NaN              NaN   \n",
       "4             False                NaN           False              NaN   \n",
       "\n",
       "  main_therapist_behaviour client_talk_type            datetime  \n",
       "0                 question              NaN 2023-07-12 00:00:13  \n",
       "1                      NaN          neutral 2023-07-12 00:00:24  \n",
       "2          therapist_input              NaN 2023-07-12 00:00:25  \n",
       "3                      NaN          neutral 2023-07-12 00:00:34  \n",
       "4          therapist_input              NaN 2023-07-12 00:00:34  "
      ]
     },
     "execution_count": 5,
     "metadata": {},
     "output_type": "execute_result"
    }
   ],
   "source": [
    "anno_mi.head()"
   ]
  },
  {
   "cell_type": "code",
   "execution_count": 6,
   "id": "84d5594d",
   "metadata": {},
   "outputs": [
    {
     "data": {
      "text/plain": [
       "(13551, 384)"
      ]
     },
     "execution_count": 6,
     "metadata": {},
     "output_type": "execute_result"
    }
   ],
   "source": [
    "with open(\"../anno_mi_sbert.pkl\", \"rb\") as f:\n",
    "    sbert_embeddings = pickle.load(f)\n",
    "    \n",
    "sbert_embeddings.shape"
   ]
  },
  {
   "cell_type": "markdown",
   "id": "0cf51402",
   "metadata": {},
   "source": [
    "# Baseline: FFN using signatures\n",
    "\n",
    "First, we dimension reduce these and then take signatures. We use the path signature as input to the FFN for classification.\n",
    "\n",
    "We want to choose a dimension and signature depth such that the number of terms in the signature is _roughly_ 384 so that it is comparable to the number of features that we used for the previous baseline where we computed the mean of the history. Again, we are concatenating the features we obtain with the current utterance embedding."
   ]
  },
  {
   "cell_type": "code",
   "execution_count": 7,
   "id": "f691b640",
   "metadata": {},
   "outputs": [],
   "source": [
    "num_epochs = 100\n",
    "hidden_dim_sizes = [[128,128],[256,256],[512,512]]\n",
    "dropout_rates = [0.5, 0.2, 0.1]\n",
    "learning_rates = [1e-3, 1e-4, 5e-4]\n",
    "seeds = [0, 1, 12, 123, 1234]\n",
    "loss = \"focal\"\n",
    "gamma = 2\n",
    "validation_metric = \"f1\"\n",
    "patience = 5"
   ]
  },
  {
   "cell_type": "code",
   "execution_count": 8,
   "id": "aa98763b",
   "metadata": {},
   "outputs": [],
   "source": [
    "dim_reduce_methods = [\"gaussian_random_projection\", \"umap\"]"
   ]
  },
  {
   "cell_type": "markdown",
   "id": "871fe909",
   "metadata": {},
   "source": [
    "## Using log signature"
   ]
  },
  {
   "cell_type": "code",
   "execution_count": 9,
   "id": "08de59af",
   "metadata": {},
   "outputs": [],
   "source": [
    "log_signature_dimensions_and_sig_depths = [(28, 2), (10, 3), (6, 4)]"
   ]
  },
  {
   "cell_type": "code",
   "execution_count": 10,
   "id": "b5480b5f",
   "metadata": {},
   "outputs": [
    {
     "data": {
      "text/plain": [
       "[406, 385, 406]"
      ]
     },
     "execution_count": 10,
     "metadata": {},
     "output_type": "execute_result"
    }
   ],
   "source": [
    "import signatory\n",
    "\n",
    "[signatory.logsignature_channels(channels, depth)\n",
    " for (channels, depth) in log_signature_dimensions_and_sig_depths]"
   ]
  },
  {
   "cell_type": "markdown",
   "id": "9ae2ba07",
   "metadata": {},
   "source": [
    "### Using UMAP"
   ]
  },
  {
   "cell_type": "code",
   "execution_count": 11,
   "id": "b9cd8cf0",
   "metadata": {
    "scrolled": false
   },
   "outputs": [
    {
     "data": {
      "application/vnd.jupyter.widget-view+json": {
       "model_id": "c41a838f17b847028370a9579b1957b4",
       "version_major": 2,
       "version_minor": 0
      },
      "text/plain": [
       "  0%|          | 0/3 [00:00<?, ?it/s]"
      ]
     },
     "metadata": {},
     "output_type": "display_data"
    },
    {
     "data": {
      "application/vnd.jupyter.widget-view+json": {
       "model_id": "acf4f6922a5c4fcd8f731021e2ac9d0d",
       "version_major": 2,
       "version_minor": 0
      },
      "text/plain": [
       "  0%|          | 0/1 [00:00<?, ?it/s]"
      ]
     },
     "metadata": {},
     "output_type": "display_data"
    },
    {
     "name": "stdout",
     "output_type": "stream",
     "text": [
      "[INFO] Concatenating the embeddings to the dataframe...\n",
      "[INFO] - columns beginning with 'e' denote the full embddings.\n",
      "[INFO] - columns beginning with 'd' denote the dimension reduced embeddings.\n",
      "[INFO] Adding time feature columns into dataframe in `.df`.\n",
      "[INFO] Adding 'time_encoding' and feature...\n",
      "[INFO] Adding 'time_diff' and feature...\n",
      "[INFO] Adding 'timeline_index' feature...\n",
      "[INFO] Padding ids and storing in `.df_padded` and `.array_padded` attributes.\n"
     ]
    },
    {
     "data": {
      "application/vnd.jupyter.widget-view+json": {
       "model_id": "51487e8b009a4edfa0af44fe0d8419c7",
       "version_major": 2,
       "version_minor": 0
      },
      "text/plain": [
       "  0%|          | 0/13551 [00:00<?, ?it/s]"
      ]
     },
     "metadata": {},
     "output_type": "display_data"
    },
    {
     "data": {
      "application/vnd.jupyter.widget-view+json": {
       "model_id": "d415adaa05534b43b30ec5347aedb39d",
       "version_major": 2,
       "version_minor": 0
      },
      "text/plain": [
       "  0%|          | 0/3 [00:00<?, ?it/s]"
      ]
     },
     "metadata": {},
     "output_type": "display_data"
    },
    {
     "data": {
      "application/vnd.jupyter.widget-view+json": {
       "model_id": "005271dedec34a92945ba304259a6e80",
       "version_major": 2,
       "version_minor": 0
      },
      "text/plain": [
       "  0%|          | 0/3 [00:00<?, ?it/s]"
      ]
     },
     "metadata": {},
     "output_type": "display_data"
    },
    {
     "data": {
      "application/vnd.jupyter.widget-view+json": {
       "model_id": "0394fbe40bf64f36955a49d5176130c6",
       "version_major": 2,
       "version_minor": 0
      },
      "text/plain": [
       "  0%|          | 0/3 [00:00<?, ?it/s]"
      ]
     },
     "metadata": {},
     "output_type": "display_data"
    },
    {
     "data": {
      "application/vnd.jupyter.widget-view+json": {
       "model_id": "5627b1e410354a018b706cfb6f304595",
       "version_major": 2,
       "version_minor": 0
      },
      "text/plain": [
       "  0%|          | 0/3 [00:00<?, ?it/s]"
      ]
     },
     "metadata": {},
     "output_type": "display_data"
    },
    {
     "data": {
      "application/vnd.jupyter.widget-view+json": {
       "model_id": "e9716e78839146fbbc85f4fe5ac507f8",
       "version_major": 2,
       "version_minor": 0
      },
      "text/plain": [
       "  0%|          | 0/3 [00:00<?, ?it/s]"
      ]
     },
     "metadata": {},
     "output_type": "display_data"
    },
    {
     "data": {
      "application/vnd.jupyter.widget-view+json": {
       "model_id": "f99efa1369dc4fe8a7aa74575c8eb957",
       "version_major": 2,
       "version_minor": 0
      },
      "text/plain": [
       "  0%|          | 0/3 [00:00<?, ?it/s]"
      ]
     },
     "metadata": {},
     "output_type": "display_data"
    },
    {
     "data": {
      "application/vnd.jupyter.widget-view+json": {
       "model_id": "595ddf1aa69e46b3a6e0fa16a25a4269",
       "version_major": 2,
       "version_minor": 0
      },
      "text/plain": [
       "  0%|          | 0/3 [00:00<?, ?it/s]"
      ]
     },
     "metadata": {},
     "output_type": "display_data"
    },
    {
     "data": {
      "application/vnd.jupyter.widget-view+json": {
       "model_id": "4de759bd14114514b55700ca5a8703d3",
       "version_major": 2,
       "version_minor": 0
      },
      "text/plain": [
       "  0%|          | 0/3 [00:00<?, ?it/s]"
      ]
     },
     "metadata": {},
     "output_type": "display_data"
    },
    {
     "data": {
      "application/vnd.jupyter.widget-view+json": {
       "model_id": "659972ebe0eb4c70b18c3abb50b02559",
       "version_major": 2,
       "version_minor": 0
      },
      "text/plain": [
       "  0%|          | 0/3 [00:00<?, ?it/s]"
      ]
     },
     "metadata": {},
     "output_type": "display_data"
    },
    {
     "data": {
      "application/vnd.jupyter.widget-view+json": {
       "model_id": "8f2b7d22c7ca453f958b278d2f05dc91",
       "version_major": 2,
       "version_minor": 0
      },
      "text/plain": [
       "  0%|          | 0/3 [00:00<?, ?it/s]"
      ]
     },
     "metadata": {},
     "output_type": "display_data"
    },
    {
     "data": {
      "application/vnd.jupyter.widget-view+json": {
       "model_id": "ad9e5ad092934bd98cd6858b65a5bad7",
       "version_major": 2,
       "version_minor": 0
      },
      "text/plain": [
       "  0%|          | 0/3 [00:00<?, ?it/s]"
      ]
     },
     "metadata": {},
     "output_type": "display_data"
    },
    {
     "data": {
      "application/vnd.jupyter.widget-view+json": {
       "model_id": "5b41d024df4d411bba44a814a17122a6",
       "version_major": 2,
       "version_minor": 0
      },
      "text/plain": [
       "  0%|          | 0/3 [00:00<?, ?it/s]"
      ]
     },
     "metadata": {},
     "output_type": "display_data"
    },
    {
     "data": {
      "application/vnd.jupyter.widget-view+json": {
       "model_id": "f9e77973713849e0bf71a72859cc4cc0",
       "version_major": 2,
       "version_minor": 0
      },
      "text/plain": [
       "  0%|          | 0/3 [00:00<?, ?it/s]"
      ]
     },
     "metadata": {},
     "output_type": "display_data"
    },
    {
     "data": {
      "application/vnd.jupyter.widget-view+json": {
       "model_id": "24fbf01949f047708c5feb06be42486d",
       "version_major": 2,
       "version_minor": 0
      },
      "text/plain": [
       "  0%|          | 0/1 [00:00<?, ?it/s]"
      ]
     },
     "metadata": {},
     "output_type": "display_data"
    },
    {
     "name": "stdout",
     "output_type": "stream",
     "text": [
      "[INFO] Concatenating the embeddings to the dataframe...\n",
      "[INFO] - columns beginning with 'e' denote the full embddings.\n",
      "[INFO] - columns beginning with 'd' denote the dimension reduced embeddings.\n",
      "[INFO] Adding time feature columns into dataframe in `.df`.\n",
      "[INFO] Adding 'time_encoding' and feature...\n",
      "[INFO] Adding 'time_diff' and feature...\n",
      "[INFO] Adding 'timeline_index' feature...\n",
      "[INFO] Padding ids and storing in `.df_padded` and `.array_padded` attributes.\n"
     ]
    },
    {
     "data": {
      "application/vnd.jupyter.widget-view+json": {
       "model_id": "66dedd8a0c5c48ecaca6269d205f3663",
       "version_major": 2,
       "version_minor": 0
      },
      "text/plain": [
       "  0%|          | 0/13551 [00:00<?, ?it/s]"
      ]
     },
     "metadata": {},
     "output_type": "display_data"
    },
    {
     "data": {
      "application/vnd.jupyter.widget-view+json": {
       "model_id": "8c55d6eb59b7418d9e501a646188d611",
       "version_major": 2,
       "version_minor": 0
      },
      "text/plain": [
       "  0%|          | 0/3 [00:00<?, ?it/s]"
      ]
     },
     "metadata": {},
     "output_type": "display_data"
    },
    {
     "data": {
      "application/vnd.jupyter.widget-view+json": {
       "model_id": "c236300431b1440484c530b807e1fbc3",
       "version_major": 2,
       "version_minor": 0
      },
      "text/plain": [
       "  0%|          | 0/3 [00:00<?, ?it/s]"
      ]
     },
     "metadata": {},
     "output_type": "display_data"
    },
    {
     "data": {
      "application/vnd.jupyter.widget-view+json": {
       "model_id": "6cba7a3ccf494a348657b51902d4dbc4",
       "version_major": 2,
       "version_minor": 0
      },
      "text/plain": [
       "  0%|          | 0/3 [00:00<?, ?it/s]"
      ]
     },
     "metadata": {},
     "output_type": "display_data"
    },
    {
     "data": {
      "application/vnd.jupyter.widget-view+json": {
       "model_id": "991eff5de002427a8133e4751e49cc83",
       "version_major": 2,
       "version_minor": 0
      },
      "text/plain": [
       "  0%|          | 0/3 [00:00<?, ?it/s]"
      ]
     },
     "metadata": {},
     "output_type": "display_data"
    },
    {
     "data": {
      "application/vnd.jupyter.widget-view+json": {
       "model_id": "a4f44dfb2d7847c2bcb82f8dccc98766",
       "version_major": 2,
       "version_minor": 0
      },
      "text/plain": [
       "  0%|          | 0/3 [00:00<?, ?it/s]"
      ]
     },
     "metadata": {},
     "output_type": "display_data"
    },
    {
     "data": {
      "application/vnd.jupyter.widget-view+json": {
       "model_id": "d84aabb1d8e142b8bdccb11f08c5950f",
       "version_major": 2,
       "version_minor": 0
      },
      "text/plain": [
       "  0%|          | 0/3 [00:00<?, ?it/s]"
      ]
     },
     "metadata": {},
     "output_type": "display_data"
    },
    {
     "data": {
      "application/vnd.jupyter.widget-view+json": {
       "model_id": "1b727b71cd0a4573b1bbb2bee7c5bd54",
       "version_major": 2,
       "version_minor": 0
      },
      "text/plain": [
       "  0%|          | 0/3 [00:00<?, ?it/s]"
      ]
     },
     "metadata": {},
     "output_type": "display_data"
    },
    {
     "data": {
      "application/vnd.jupyter.widget-view+json": {
       "model_id": "c3647aa9051b476d8200605dd4a5463e",
       "version_major": 2,
       "version_minor": 0
      },
      "text/plain": [
       "  0%|          | 0/3 [00:00<?, ?it/s]"
      ]
     },
     "metadata": {},
     "output_type": "display_data"
    },
    {
     "data": {
      "application/vnd.jupyter.widget-view+json": {
       "model_id": "b87ae76c62f842f8aa5434b67d3e992e",
       "version_major": 2,
       "version_minor": 0
      },
      "text/plain": [
       "  0%|          | 0/3 [00:00<?, ?it/s]"
      ]
     },
     "metadata": {},
     "output_type": "display_data"
    },
    {
     "data": {
      "application/vnd.jupyter.widget-view+json": {
       "model_id": "87be58b0101649ee8eacddf758e89d27",
       "version_major": 2,
       "version_minor": 0
      },
      "text/plain": [
       "  0%|          | 0/3 [00:00<?, ?it/s]"
      ]
     },
     "metadata": {},
     "output_type": "display_data"
    },
    {
     "data": {
      "application/vnd.jupyter.widget-view+json": {
       "model_id": "2f89bfffc3f24a31b661cd53c034dd66",
       "version_major": 2,
       "version_minor": 0
      },
      "text/plain": [
       "  0%|          | 0/3 [00:00<?, ?it/s]"
      ]
     },
     "metadata": {},
     "output_type": "display_data"
    },
    {
     "data": {
      "application/vnd.jupyter.widget-view+json": {
       "model_id": "a958ef3e696e4beaa82a8ece15e38d97",
       "version_major": 2,
       "version_minor": 0
      },
      "text/plain": [
       "  0%|          | 0/3 [00:00<?, ?it/s]"
      ]
     },
     "metadata": {},
     "output_type": "display_data"
    },
    {
     "data": {
      "application/vnd.jupyter.widget-view+json": {
       "model_id": "2ea14cb4e19f418f82ffe73c7e0a08ee",
       "version_major": 2,
       "version_minor": 0
      },
      "text/plain": [
       "  0%|          | 0/3 [00:00<?, ?it/s]"
      ]
     },
     "metadata": {},
     "output_type": "display_data"
    },
    {
     "data": {
      "application/vnd.jupyter.widget-view+json": {
       "model_id": "ae23013c91e14b158397676346e2a464",
       "version_major": 2,
       "version_minor": 0
      },
      "text/plain": [
       "  0%|          | 0/1 [00:00<?, ?it/s]"
      ]
     },
     "metadata": {},
     "output_type": "display_data"
    },
    {
     "name": "stdout",
     "output_type": "stream",
     "text": [
      "[INFO] Concatenating the embeddings to the dataframe...\n",
      "[INFO] - columns beginning with 'e' denote the full embddings.\n",
      "[INFO] - columns beginning with 'd' denote the dimension reduced embeddings.\n",
      "[INFO] Adding time feature columns into dataframe in `.df`.\n",
      "[INFO] Adding 'time_encoding' and feature...\n",
      "[INFO] Adding 'time_diff' and feature...\n",
      "[INFO] Adding 'timeline_index' feature...\n",
      "[INFO] Padding ids and storing in `.df_padded` and `.array_padded` attributes.\n"
     ]
    },
    {
     "data": {
      "application/vnd.jupyter.widget-view+json": {
       "model_id": "b4e7e95322ab46d6b6a35fce14a1e3a2",
       "version_major": 2,
       "version_minor": 0
      },
      "text/plain": [
       "  0%|          | 0/13551 [00:00<?, ?it/s]"
      ]
     },
     "metadata": {},
     "output_type": "display_data"
    },
    {
     "data": {
      "application/vnd.jupyter.widget-view+json": {
       "model_id": "8a8f0b22a6fb44eca4734c9cfd5c22a0",
       "version_major": 2,
       "version_minor": 0
      },
      "text/plain": [
       "  0%|          | 0/3 [00:00<?, ?it/s]"
      ]
     },
     "metadata": {},
     "output_type": "display_data"
    },
    {
     "data": {
      "application/vnd.jupyter.widget-view+json": {
       "model_id": "982a9a54dca5491590c3f75d5c33cb1d",
       "version_major": 2,
       "version_minor": 0
      },
      "text/plain": [
       "  0%|          | 0/3 [00:00<?, ?it/s]"
      ]
     },
     "metadata": {},
     "output_type": "display_data"
    },
    {
     "data": {
      "application/vnd.jupyter.widget-view+json": {
       "model_id": "055b3a5ae19d4dca81c753fd43365be8",
       "version_major": 2,
       "version_minor": 0
      },
      "text/plain": [
       "  0%|          | 0/3 [00:00<?, ?it/s]"
      ]
     },
     "metadata": {},
     "output_type": "display_data"
    },
    {
     "data": {
      "application/vnd.jupyter.widget-view+json": {
       "model_id": "5d96f4834a324b22bf683647dbea875d",
       "version_major": 2,
       "version_minor": 0
      },
      "text/plain": [
       "  0%|          | 0/3 [00:00<?, ?it/s]"
      ]
     },
     "metadata": {},
     "output_type": "display_data"
    },
    {
     "data": {
      "application/vnd.jupyter.widget-view+json": {
       "model_id": "69cb43879a394116997ebd3610e77977",
       "version_major": 2,
       "version_minor": 0
      },
      "text/plain": [
       "  0%|          | 0/3 [00:00<?, ?it/s]"
      ]
     },
     "metadata": {},
     "output_type": "display_data"
    },
    {
     "data": {
      "application/vnd.jupyter.widget-view+json": {
       "model_id": "099a165f8e8f470a914cfb9fa9823c56",
       "version_major": 2,
       "version_minor": 0
      },
      "text/plain": [
       "  0%|          | 0/3 [00:00<?, ?it/s]"
      ]
     },
     "metadata": {},
     "output_type": "display_data"
    },
    {
     "data": {
      "application/vnd.jupyter.widget-view+json": {
       "model_id": "3a600794390f40f0a2409a2a7a11c30b",
       "version_major": 2,
       "version_minor": 0
      },
      "text/plain": [
       "  0%|          | 0/3 [00:00<?, ?it/s]"
      ]
     },
     "metadata": {},
     "output_type": "display_data"
    },
    {
     "data": {
      "application/vnd.jupyter.widget-view+json": {
       "model_id": "40fa33321ab64c939174bc8c09f82c29",
       "version_major": 2,
       "version_minor": 0
      },
      "text/plain": [
       "  0%|          | 0/3 [00:00<?, ?it/s]"
      ]
     },
     "metadata": {},
     "output_type": "display_data"
    },
    {
     "data": {
      "application/vnd.jupyter.widget-view+json": {
       "model_id": "772223ab4a444173b83b838180d857f3",
       "version_major": 2,
       "version_minor": 0
      },
      "text/plain": [
       "  0%|          | 0/3 [00:00<?, ?it/s]"
      ]
     },
     "metadata": {},
     "output_type": "display_data"
    },
    {
     "data": {
      "application/vnd.jupyter.widget-view+json": {
       "model_id": "fb056ec05372428d883579e4d33ffbae",
       "version_major": 2,
       "version_minor": 0
      },
      "text/plain": [
       "  0%|          | 0/3 [00:00<?, ?it/s]"
      ]
     },
     "metadata": {},
     "output_type": "display_data"
    },
    {
     "data": {
      "application/vnd.jupyter.widget-view+json": {
       "model_id": "9a094cb228c54db682f8aeb6b198cc08",
       "version_major": 2,
       "version_minor": 0
      },
      "text/plain": [
       "  0%|          | 0/3 [00:00<?, ?it/s]"
      ]
     },
     "metadata": {},
     "output_type": "display_data"
    },
    {
     "data": {
      "application/vnd.jupyter.widget-view+json": {
       "model_id": "98b36793202045d5871892e56319c916",
       "version_major": 2,
       "version_minor": 0
      },
      "text/plain": [
       "  0%|          | 0/3 [00:00<?, ?it/s]"
      ]
     },
     "metadata": {},
     "output_type": "display_data"
    },
    {
     "data": {
      "application/vnd.jupyter.widget-view+json": {
       "model_id": "0861a5cbee024081a891c2715d98bc64",
       "version_major": 2,
       "version_minor": 0
      },
      "text/plain": [
       "  0%|          | 0/3 [00:00<?, ?it/s]"
      ]
     },
     "metadata": {},
     "output_type": "display_data"
    },
    {
     "name": "stdout",
     "output_type": "stream",
     "text": [
      "[INFO] Concatenating the embeddings to the dataframe...\n",
      "[INFO] - columns beginning with 'e' denote the full embddings.\n",
      "[INFO] - columns beginning with 'd' denote the dimension reduced embeddings.\n",
      "[INFO] Adding time feature columns into dataframe in `.df`.\n",
      "[INFO] Adding 'time_encoding' and feature...\n",
      "[INFO] Adding 'time_diff' and feature...\n",
      "[INFO] Adding 'timeline_index' feature...\n",
      "[INFO] Padding ids and storing in `.df_padded` and `.array_padded` attributes.\n"
     ]
    },
    {
     "data": {
      "application/vnd.jupyter.widget-view+json": {
       "model_id": "d7fbbf8c8c7c47b986de3506db3d6860",
       "version_major": 2,
       "version_minor": 0
      },
      "text/plain": [
       "  0%|          | 0/13551 [00:00<?, ?it/s]"
      ]
     },
     "metadata": {},
     "output_type": "display_data"
    },
    {
     "name": "stdout",
     "output_type": "stream",
     "text": [
      "saving results dataframe to CSV for this hyperparameter search in client_talk_type_output/ffn_logsignature_umap_focal_2_kfold_min_dist_099_n_neighbours_50.csv\n",
      "saving the best model results dataframe to CSV for this hyperparameter search in client_talk_type_output/ffn_logsignature_umap_focal_2_kfold_min_dist_099_n_neighbours_50_best_model.csv\n"
     ]
    }
   ],
   "source": [
    "ffn_logsignature_umap_kfold, best_ffn_logsignature_umap_kfold, _, __ = histories_baseline_hyperparameter_search(\n",
    "    num_epochs=num_epochs,\n",
    "    df=anno_mi,\n",
    "    id_column=\"transcript_id\",\n",
    "    label_column=\"client_talk_type\",\n",
    "    embeddings=sbert_embeddings,\n",
    "    y_data=y_data_client,\n",
    "    output_dim=output_dim_client,\n",
    "    hidden_dim_sizes=hidden_dim_sizes,\n",
    "    dropout_rates=dropout_rates,\n",
    "    learning_rates=learning_rates,\n",
    "    use_signatures=True,\n",
    "    seeds=seeds,\n",
    "    loss=loss,\n",
    "    gamma=gamma,\n",
    "    log_signature=True,\n",
    "    dim_reduce_methods=[\"umap\"],\n",
    "    dimension_and_sig_depths=log_signature_dimensions_and_sig_depths,\n",
    "    path_indices=client_index,\n",
    "    k_fold=True,\n",
    "    patience=patience,\n",
    "    validation_metric=validation_metric,\n",
    "    results_output=f\"{output_dir}/ffn_logsignature_umap_focal_{gamma}_kfold_min_dist_099_n_neighbours_50.csv\",\n",
    "    verbose=False\n",
    ")"
   ]
  },
  {
   "cell_type": "code",
   "execution_count": 12,
   "id": "f8b363bd",
   "metadata": {},
   "outputs": [
    {
     "name": "stderr",
     "output_type": "stream",
     "text": [
      "/var/folders/l7/bnn1j6bs3bqfskq2jlq55yh80000gr/T/ipykernel_60951/3138393360.py:1: FutureWarning: The default value of numeric_only in DataFrameGroupBy.mean is deprecated. In a future version, numeric_only will default to False. Either specify numeric_only or select only columns which should be valid for the function.\n",
      "  ffn_logsignature_umap_kfold.groupby([\"dimension\", \"sig_depth\", \"hidden_dim\", \"dropout_rate\", \"learning_rate\"]).mean()\n"
     ]
    },
    {
     "data": {
      "text/html": [
       "<div>\n",
       "<style scoped>\n",
       "    .dataframe tbody tr th:only-of-type {\n",
       "        vertical-align: middle;\n",
       "    }\n",
       "\n",
       "    .dataframe tbody tr th {\n",
       "        vertical-align: top;\n",
       "    }\n",
       "\n",
       "    .dataframe thead th {\n",
       "        text-align: right;\n",
       "    }\n",
       "</style>\n",
       "<table border=\"1\" class=\"dataframe\">\n",
       "  <thead>\n",
       "    <tr style=\"text-align: right;\">\n",
       "      <th></th>\n",
       "      <th></th>\n",
       "      <th></th>\n",
       "      <th></th>\n",
       "      <th></th>\n",
       "      <th>accuracy</th>\n",
       "      <th>f1</th>\n",
       "      <th>precision</th>\n",
       "      <th>recall</th>\n",
       "      <th>valid_accuracy</th>\n",
       "      <th>valid_f1</th>\n",
       "      <th>valid_precision</th>\n",
       "      <th>valid_recall</th>\n",
       "      <th>seed</th>\n",
       "      <th>gamma</th>\n",
       "      <th>k_fold</th>\n",
       "      <th>n_splits</th>\n",
       "      <th>batch_size</th>\n",
       "      <th>model_id</th>\n",
       "      <th>input_dim</th>\n",
       "      <th>log_signature</th>\n",
       "    </tr>\n",
       "    <tr>\n",
       "      <th>dimension</th>\n",
       "      <th>sig_depth</th>\n",
       "      <th>hidden_dim</th>\n",
       "      <th>dropout_rate</th>\n",
       "      <th>learning_rate</th>\n",
       "      <th></th>\n",
       "      <th></th>\n",
       "      <th></th>\n",
       "      <th></th>\n",
       "      <th></th>\n",
       "      <th></th>\n",
       "      <th></th>\n",
       "      <th></th>\n",
       "      <th></th>\n",
       "      <th></th>\n",
       "      <th></th>\n",
       "      <th></th>\n",
       "      <th></th>\n",
       "      <th></th>\n",
       "      <th></th>\n",
       "      <th></th>\n",
       "    </tr>\n",
       "  </thead>\n",
       "  <tbody>\n",
       "    <tr>\n",
       "      <th rowspan=\"5\" valign=\"top\">6</th>\n",
       "      <th rowspan=\"5\" valign=\"top\">4</th>\n",
       "      <th rowspan=\"5\" valign=\"top\">(128, 128)</th>\n",
       "      <th rowspan=\"3\" valign=\"top\">0.1</th>\n",
       "      <th>0.0001</th>\n",
       "      <td>0.668937</td>\n",
       "      <td>0.593474</td>\n",
       "      <td>0.584959</td>\n",
       "      <td>0.605465</td>\n",
       "      <td>0.670338</td>\n",
       "      <td>0.593549</td>\n",
       "      <td>0.584128</td>\n",
       "      <td>0.607525</td>\n",
       "      <td>274.0</td>\n",
       "      <td>2.0</td>\n",
       "      <td>1.0</td>\n",
       "      <td>5.0</td>\n",
       "      <td>64.0</td>\n",
       "      <td>2.70</td>\n",
       "      <td>790.0</td>\n",
       "      <td>1.0</td>\n",
       "    </tr>\n",
       "    <tr>\n",
       "      <th>0.0005</th>\n",
       "      <td>0.673963</td>\n",
       "      <td>0.593186</td>\n",
       "      <td>0.589686</td>\n",
       "      <td>0.598471</td>\n",
       "      <td>0.675450</td>\n",
       "      <td>0.593970</td>\n",
       "      <td>0.589086</td>\n",
       "      <td>0.600900</td>\n",
       "      <td>274.0</td>\n",
       "      <td>2.0</td>\n",
       "      <td>1.0</td>\n",
       "      <td>5.0</td>\n",
       "      <td>64.0</td>\n",
       "      <td>2.80</td>\n",
       "      <td>790.0</td>\n",
       "      <td>1.0</td>\n",
       "    </tr>\n",
       "    <tr>\n",
       "      <th>0.0010</th>\n",
       "      <td>0.670097</td>\n",
       "      <td>0.580967</td>\n",
       "      <td>0.585125</td>\n",
       "      <td>0.579193</td>\n",
       "      <td>0.674910</td>\n",
       "      <td>0.583468</td>\n",
       "      <td>0.587105</td>\n",
       "      <td>0.582090</td>\n",
       "      <td>274.0</td>\n",
       "      <td>2.0</td>\n",
       "      <td>1.0</td>\n",
       "      <td>5.0</td>\n",
       "      <td>64.0</td>\n",
       "      <td>2.60</td>\n",
       "      <td>790.0</td>\n",
       "      <td>1.0</td>\n",
       "    </tr>\n",
       "    <tr>\n",
       "      <th rowspan=\"2\" valign=\"top\">0.2</th>\n",
       "      <th>0.0001</th>\n",
       "      <td>0.664119</td>\n",
       "      <td>0.582986</td>\n",
       "      <td>0.579044</td>\n",
       "      <td>0.591532</td>\n",
       "      <td>0.667207</td>\n",
       "      <td>0.584354</td>\n",
       "      <td>0.579593</td>\n",
       "      <td>0.594044</td>\n",
       "      <td>274.0</td>\n",
       "      <td>2.0</td>\n",
       "      <td>1.0</td>\n",
       "      <td>5.0</td>\n",
       "      <td>64.0</td>\n",
       "      <td>2.40</td>\n",
       "      <td>790.0</td>\n",
       "      <td>1.0</td>\n",
       "    </tr>\n",
       "    <tr>\n",
       "      <th>0.0005</th>\n",
       "      <td>0.665993</td>\n",
       "      <td>0.572468</td>\n",
       "      <td>0.581978</td>\n",
       "      <td>0.567244</td>\n",
       "      <td>0.666577</td>\n",
       "      <td>0.570399</td>\n",
       "      <td>0.579145</td>\n",
       "      <td>0.566057</td>\n",
       "      <td>274.0</td>\n",
       "      <td>2.0</td>\n",
       "      <td>1.0</td>\n",
       "      <td>5.0</td>\n",
       "      <td>64.0</td>\n",
       "      <td>2.50</td>\n",
       "      <td>790.0</td>\n",
       "      <td>1.0</td>\n",
       "    </tr>\n",
       "    <tr>\n",
       "      <th>...</th>\n",
       "      <th>...</th>\n",
       "      <th>...</th>\n",
       "      <th>...</th>\n",
       "      <th>...</th>\n",
       "      <td>...</td>\n",
       "      <td>...</td>\n",
       "      <td>...</td>\n",
       "      <td>...</td>\n",
       "      <td>...</td>\n",
       "      <td>...</td>\n",
       "      <td>...</td>\n",
       "      <td>...</td>\n",
       "      <td>...</td>\n",
       "      <td>...</td>\n",
       "      <td>...</td>\n",
       "      <td>...</td>\n",
       "      <td>...</td>\n",
       "      <td>...</td>\n",
       "      <td>...</td>\n",
       "      <td>...</td>\n",
       "    </tr>\n",
       "    <tr>\n",
       "      <th rowspan=\"5\" valign=\"top\">28</th>\n",
       "      <th rowspan=\"5\" valign=\"top\">2</th>\n",
       "      <th rowspan=\"5\" valign=\"top\">(512, 512)</th>\n",
       "      <th rowspan=\"2\" valign=\"top\">0.2</th>\n",
       "      <th>0.0005</th>\n",
       "      <td>0.689219</td>\n",
       "      <td>0.610864</td>\n",
       "      <td>0.603542</td>\n",
       "      <td>0.620701</td>\n",
       "      <td>0.690923</td>\n",
       "      <td>0.609976</td>\n",
       "      <td>0.602467</td>\n",
       "      <td>0.620018</td>\n",
       "      <td>274.0</td>\n",
       "      <td>2.0</td>\n",
       "      <td>1.0</td>\n",
       "      <td>5.0</td>\n",
       "      <td>64.0</td>\n",
       "      <td>0.23</td>\n",
       "      <td>790.0</td>\n",
       "      <td>1.0</td>\n",
       "    </tr>\n",
       "    <tr>\n",
       "      <th>0.0010</th>\n",
       "      <td>0.688268</td>\n",
       "      <td>0.608980</td>\n",
       "      <td>0.602928</td>\n",
       "      <td>0.617252</td>\n",
       "      <td>0.684099</td>\n",
       "      <td>0.599215</td>\n",
       "      <td>0.593194</td>\n",
       "      <td>0.607201</td>\n",
       "      <td>274.0</td>\n",
       "      <td>2.0</td>\n",
       "      <td>1.0</td>\n",
       "      <td>5.0</td>\n",
       "      <td>64.0</td>\n",
       "      <td>0.21</td>\n",
       "      <td>790.0</td>\n",
       "      <td>1.0</td>\n",
       "    </tr>\n",
       "    <tr>\n",
       "      <th rowspan=\"3\" valign=\"top\">0.5</th>\n",
       "      <th>0.0001</th>\n",
       "      <td>0.701442</td>\n",
       "      <td>0.628646</td>\n",
       "      <td>0.619392</td>\n",
       "      <td>0.641227</td>\n",
       "      <td>0.700743</td>\n",
       "      <td>0.626316</td>\n",
       "      <td>0.616393</td>\n",
       "      <td>0.640131</td>\n",
       "      <td>274.0</td>\n",
       "      <td>2.0</td>\n",
       "      <td>1.0</td>\n",
       "      <td>5.0</td>\n",
       "      <td>64.0</td>\n",
       "      <td>0.19</td>\n",
       "      <td>790.0</td>\n",
       "      <td>1.0</td>\n",
       "    </tr>\n",
       "    <tr>\n",
       "      <th>0.0005</th>\n",
       "      <td>0.700223</td>\n",
       "      <td>0.615804</td>\n",
       "      <td>0.614364</td>\n",
       "      <td>0.618774</td>\n",
       "      <td>0.696306</td>\n",
       "      <td>0.608938</td>\n",
       "      <td>0.606197</td>\n",
       "      <td>0.613489</td>\n",
       "      <td>274.0</td>\n",
       "      <td>2.0</td>\n",
       "      <td>1.0</td>\n",
       "      <td>5.0</td>\n",
       "      <td>64.0</td>\n",
       "      <td>0.20</td>\n",
       "      <td>790.0</td>\n",
       "      <td>1.0</td>\n",
       "    </tr>\n",
       "    <tr>\n",
       "      <th>0.0010</th>\n",
       "      <td>0.691926</td>\n",
       "      <td>0.591098</td>\n",
       "      <td>0.603088</td>\n",
       "      <td>0.583870</td>\n",
       "      <td>0.689640</td>\n",
       "      <td>0.585843</td>\n",
       "      <td>0.596490</td>\n",
       "      <td>0.579171</td>\n",
       "      <td>274.0</td>\n",
       "      <td>2.0</td>\n",
       "      <td>1.0</td>\n",
       "      <td>5.0</td>\n",
       "      <td>64.0</td>\n",
       "      <td>0.18</td>\n",
       "      <td>790.0</td>\n",
       "      <td>1.0</td>\n",
       "    </tr>\n",
       "  </tbody>\n",
       "</table>\n",
       "<p>81 rows × 16 columns</p>\n",
       "</div>"
      ],
      "text/plain": [
       "                                                           accuracy        f1  \\\n",
       "dimension sig_depth hidden_dim dropout_rate learning_rate                       \n",
       "6         4         (128, 128) 0.1          0.0001         0.668937  0.593474   \n",
       "                                            0.0005         0.673963  0.593186   \n",
       "                                            0.0010         0.670097  0.580967   \n",
       "                               0.2          0.0001         0.664119  0.582986   \n",
       "                                            0.0005         0.665993  0.572468   \n",
       "...                                                             ...       ...   \n",
       "28        2         (512, 512) 0.2          0.0005         0.689219  0.610864   \n",
       "                                            0.0010         0.688268  0.608980   \n",
       "                               0.5          0.0001         0.701442  0.628646   \n",
       "                                            0.0005         0.700223  0.615804   \n",
       "                                            0.0010         0.691926  0.591098   \n",
       "\n",
       "                                                           precision  \\\n",
       "dimension sig_depth hidden_dim dropout_rate learning_rate              \n",
       "6         4         (128, 128) 0.1          0.0001          0.584959   \n",
       "                                            0.0005          0.589686   \n",
       "                                            0.0010          0.585125   \n",
       "                               0.2          0.0001          0.579044   \n",
       "                                            0.0005          0.581978   \n",
       "...                                                              ...   \n",
       "28        2         (512, 512) 0.2          0.0005          0.603542   \n",
       "                                            0.0010          0.602928   \n",
       "                               0.5          0.0001          0.619392   \n",
       "                                            0.0005          0.614364   \n",
       "                                            0.0010          0.603088   \n",
       "\n",
       "                                                             recall  \\\n",
       "dimension sig_depth hidden_dim dropout_rate learning_rate             \n",
       "6         4         (128, 128) 0.1          0.0001         0.605465   \n",
       "                                            0.0005         0.598471   \n",
       "                                            0.0010         0.579193   \n",
       "                               0.2          0.0001         0.591532   \n",
       "                                            0.0005         0.567244   \n",
       "...                                                             ...   \n",
       "28        2         (512, 512) 0.2          0.0005         0.620701   \n",
       "                                            0.0010         0.617252   \n",
       "                               0.5          0.0001         0.641227   \n",
       "                                            0.0005         0.618774   \n",
       "                                            0.0010         0.583870   \n",
       "\n",
       "                                                           valid_accuracy  \\\n",
       "dimension sig_depth hidden_dim dropout_rate learning_rate                   \n",
       "6         4         (128, 128) 0.1          0.0001               0.670338   \n",
       "                                            0.0005               0.675450   \n",
       "                                            0.0010               0.674910   \n",
       "                               0.2          0.0001               0.667207   \n",
       "                                            0.0005               0.666577   \n",
       "...                                                                   ...   \n",
       "28        2         (512, 512) 0.2          0.0005               0.690923   \n",
       "                                            0.0010               0.684099   \n",
       "                               0.5          0.0001               0.700743   \n",
       "                                            0.0005               0.696306   \n",
       "                                            0.0010               0.689640   \n",
       "\n",
       "                                                           valid_f1  \\\n",
       "dimension sig_depth hidden_dim dropout_rate learning_rate             \n",
       "6         4         (128, 128) 0.1          0.0001         0.593549   \n",
       "                                            0.0005         0.593970   \n",
       "                                            0.0010         0.583468   \n",
       "                               0.2          0.0001         0.584354   \n",
       "                                            0.0005         0.570399   \n",
       "...                                                             ...   \n",
       "28        2         (512, 512) 0.2          0.0005         0.609976   \n",
       "                                            0.0010         0.599215   \n",
       "                               0.5          0.0001         0.626316   \n",
       "                                            0.0005         0.608938   \n",
       "                                            0.0010         0.585843   \n",
       "\n",
       "                                                           valid_precision  \\\n",
       "dimension sig_depth hidden_dim dropout_rate learning_rate                    \n",
       "6         4         (128, 128) 0.1          0.0001                0.584128   \n",
       "                                            0.0005                0.589086   \n",
       "                                            0.0010                0.587105   \n",
       "                               0.2          0.0001                0.579593   \n",
       "                                            0.0005                0.579145   \n",
       "...                                                                    ...   \n",
       "28        2         (512, 512) 0.2          0.0005                0.602467   \n",
       "                                            0.0010                0.593194   \n",
       "                               0.5          0.0001                0.616393   \n",
       "                                            0.0005                0.606197   \n",
       "                                            0.0010                0.596490   \n",
       "\n",
       "                                                           valid_recall  \\\n",
       "dimension sig_depth hidden_dim dropout_rate learning_rate                 \n",
       "6         4         (128, 128) 0.1          0.0001             0.607525   \n",
       "                                            0.0005             0.600900   \n",
       "                                            0.0010             0.582090   \n",
       "                               0.2          0.0001             0.594044   \n",
       "                                            0.0005             0.566057   \n",
       "...                                                                 ...   \n",
       "28        2         (512, 512) 0.2          0.0005             0.620018   \n",
       "                                            0.0010             0.607201   \n",
       "                               0.5          0.0001             0.640131   \n",
       "                                            0.0005             0.613489   \n",
       "                                            0.0010             0.579171   \n",
       "\n",
       "                                                            seed  gamma  \\\n",
       "dimension sig_depth hidden_dim dropout_rate learning_rate                 \n",
       "6         4         (128, 128) 0.1          0.0001         274.0    2.0   \n",
       "                                            0.0005         274.0    2.0   \n",
       "                                            0.0010         274.0    2.0   \n",
       "                               0.2          0.0001         274.0    2.0   \n",
       "                                            0.0005         274.0    2.0   \n",
       "...                                                          ...    ...   \n",
       "28        2         (512, 512) 0.2          0.0005         274.0    2.0   \n",
       "                                            0.0010         274.0    2.0   \n",
       "                               0.5          0.0001         274.0    2.0   \n",
       "                                            0.0005         274.0    2.0   \n",
       "                                            0.0010         274.0    2.0   \n",
       "\n",
       "                                                           k_fold  n_splits  \\\n",
       "dimension sig_depth hidden_dim dropout_rate learning_rate                     \n",
       "6         4         (128, 128) 0.1          0.0001            1.0       5.0   \n",
       "                                            0.0005            1.0       5.0   \n",
       "                                            0.0010            1.0       5.0   \n",
       "                               0.2          0.0001            1.0       5.0   \n",
       "                                            0.0005            1.0       5.0   \n",
       "...                                                           ...       ...   \n",
       "28        2         (512, 512) 0.2          0.0005            1.0       5.0   \n",
       "                                            0.0010            1.0       5.0   \n",
       "                               0.5          0.0001            1.0       5.0   \n",
       "                                            0.0005            1.0       5.0   \n",
       "                                            0.0010            1.0       5.0   \n",
       "\n",
       "                                                           batch_size  \\\n",
       "dimension sig_depth hidden_dim dropout_rate learning_rate               \n",
       "6         4         (128, 128) 0.1          0.0001               64.0   \n",
       "                                            0.0005               64.0   \n",
       "                                            0.0010               64.0   \n",
       "                               0.2          0.0001               64.0   \n",
       "                                            0.0005               64.0   \n",
       "...                                                               ...   \n",
       "28        2         (512, 512) 0.2          0.0005               64.0   \n",
       "                                            0.0010               64.0   \n",
       "                               0.5          0.0001               64.0   \n",
       "                                            0.0005               64.0   \n",
       "                                            0.0010               64.0   \n",
       "\n",
       "                                                           model_id  \\\n",
       "dimension sig_depth hidden_dim dropout_rate learning_rate             \n",
       "6         4         (128, 128) 0.1          0.0001             2.70   \n",
       "                                            0.0005             2.80   \n",
       "                                            0.0010             2.60   \n",
       "                               0.2          0.0001             2.40   \n",
       "                                            0.0005             2.50   \n",
       "...                                                             ...   \n",
       "28        2         (512, 512) 0.2          0.0005             0.23   \n",
       "                                            0.0010             0.21   \n",
       "                               0.5          0.0001             0.19   \n",
       "                                            0.0005             0.20   \n",
       "                                            0.0010             0.18   \n",
       "\n",
       "                                                           input_dim  \\\n",
       "dimension sig_depth hidden_dim dropout_rate learning_rate              \n",
       "6         4         (128, 128) 0.1          0.0001             790.0   \n",
       "                                            0.0005             790.0   \n",
       "                                            0.0010             790.0   \n",
       "                               0.2          0.0001             790.0   \n",
       "                                            0.0005             790.0   \n",
       "...                                                              ...   \n",
       "28        2         (512, 512) 0.2          0.0005             790.0   \n",
       "                                            0.0010             790.0   \n",
       "                               0.5          0.0001             790.0   \n",
       "                                            0.0005             790.0   \n",
       "                                            0.0010             790.0   \n",
       "\n",
       "                                                           log_signature  \n",
       "dimension sig_depth hidden_dim dropout_rate learning_rate                 \n",
       "6         4         (128, 128) 0.1          0.0001                   1.0  \n",
       "                                            0.0005                   1.0  \n",
       "                                            0.0010                   1.0  \n",
       "                               0.2          0.0001                   1.0  \n",
       "                                            0.0005                   1.0  \n",
       "...                                                                  ...  \n",
       "28        2         (512, 512) 0.2          0.0005                   1.0  \n",
       "                                            0.0010                   1.0  \n",
       "                               0.5          0.0001                   1.0  \n",
       "                                            0.0005                   1.0  \n",
       "                                            0.0010                   1.0  \n",
       "\n",
       "[81 rows x 16 columns]"
      ]
     },
     "execution_count": 12,
     "metadata": {},
     "output_type": "execute_result"
    }
   ],
   "source": [
    "ffn_logsignature_umap_kfold.groupby([\"dimension\",\"sig_depth\", \"hidden_dim\", \"dropout_rate\", \"learning_rate\"]).mean()"
   ]
  },
  {
   "cell_type": "code",
   "execution_count": 13,
   "id": "7ba18cf7",
   "metadata": {},
   "outputs": [
    {
     "data": {
      "text/html": [
       "<div>\n",
       "<style scoped>\n",
       "    .dataframe tbody tr th:only-of-type {\n",
       "        vertical-align: middle;\n",
       "    }\n",
       "\n",
       "    .dataframe tbody tr th {\n",
       "        vertical-align: top;\n",
       "    }\n",
       "\n",
       "    .dataframe thead th {\n",
       "        text-align: right;\n",
       "    }\n",
       "</style>\n",
       "<table border=\"1\" class=\"dataframe\">\n",
       "  <thead>\n",
       "    <tr style=\"text-align: right;\">\n",
       "      <th></th>\n",
       "      <th>loss</th>\n",
       "      <th>accuracy</th>\n",
       "      <th>f1</th>\n",
       "      <th>f1_scores</th>\n",
       "      <th>precision</th>\n",
       "      <th>precision_scores</th>\n",
       "      <th>recall</th>\n",
       "      <th>recall_scores</th>\n",
       "      <th>valid_loss</th>\n",
       "      <th>valid_accuracy</th>\n",
       "      <th>...</th>\n",
       "      <th>loss_function</th>\n",
       "      <th>gamma</th>\n",
       "      <th>k_fold</th>\n",
       "      <th>n_splits</th>\n",
       "      <th>batch_size</th>\n",
       "      <th>input_dim</th>\n",
       "      <th>dimension</th>\n",
       "      <th>sig_depth</th>\n",
       "      <th>method</th>\n",
       "      <th>log_signature</th>\n",
       "    </tr>\n",
       "  </thead>\n",
       "  <tbody>\n",
       "    <tr>\n",
       "      <th>0</th>\n",
       "      <td>None</td>\n",
       "      <td>0.702751</td>\n",
       "      <td>0.633733</td>\n",
       "      <td>[0.7893248062968884, 0.6066101199181047, 0.505...</td>\n",
       "      <td>0.621647</td>\n",
       "      <td>[0.8198773633111905, 0.5922330097087378, 0.452...</td>\n",
       "      <td>0.651366</td>\n",
       "      <td>[0.7609675124496087, 0.6217026378896883, 0.571...</td>\n",
       "      <td>None</td>\n",
       "      <td>0.705518</td>\n",
       "      <td>...</td>\n",
       "      <td>focal</td>\n",
       "      <td>2</td>\n",
       "      <td>True</td>\n",
       "      <td>5</td>\n",
       "      <td>64</td>\n",
       "      <td>790</td>\n",
       "      <td>28</td>\n",
       "      <td>2</td>\n",
       "      <td>umap</td>\n",
       "      <td>True</td>\n",
       "    </tr>\n",
       "    <tr>\n",
       "      <th>0</th>\n",
       "      <td>None</td>\n",
       "      <td>0.703197</td>\n",
       "      <td>0.625713</td>\n",
       "      <td>[0.7921368765926465, 0.6062554808535515, 0.478...</td>\n",
       "      <td>0.618056</td>\n",
       "      <td>[0.8111332007952287, 0.5915573302909298, 0.451...</td>\n",
       "      <td>0.635079</td>\n",
       "      <td>[0.7740099596869813, 0.6217026378896883, 0.509...</td>\n",
       "      <td>None</td>\n",
       "      <td>0.709572</td>\n",
       "      <td>...</td>\n",
       "      <td>focal</td>\n",
       "      <td>2</td>\n",
       "      <td>True</td>\n",
       "      <td>5</td>\n",
       "      <td>64</td>\n",
       "      <td>790</td>\n",
       "      <td>28</td>\n",
       "      <td>2</td>\n",
       "      <td>umap</td>\n",
       "      <td>True</td>\n",
       "    </tr>\n",
       "    <tr>\n",
       "      <th>0</th>\n",
       "      <td>None</td>\n",
       "      <td>0.706320</td>\n",
       "      <td>0.630052</td>\n",
       "      <td>[0.7946924004825091, 0.5972141613464887, 0.498...</td>\n",
       "      <td>0.625346</td>\n",
       "      <td>[0.8087404861281611, 0.5787401574803149, 0.488...</td>\n",
       "      <td>0.635455</td>\n",
       "      <td>[0.7811240218164572, 0.6169064748201439, 0.508...</td>\n",
       "      <td>None</td>\n",
       "      <td>0.713176</td>\n",
       "      <td>...</td>\n",
       "      <td>focal</td>\n",
       "      <td>2</td>\n",
       "      <td>True</td>\n",
       "      <td>5</td>\n",
       "      <td>64</td>\n",
       "      <td>790</td>\n",
       "      <td>28</td>\n",
       "      <td>2</td>\n",
       "      <td>umap</td>\n",
       "      <td>True</td>\n",
       "    </tr>\n",
       "    <tr>\n",
       "      <th>0</th>\n",
       "      <td>None</td>\n",
       "      <td>0.711822</td>\n",
       "      <td>0.630503</td>\n",
       "      <td>[0.8011750881316098, 0.587138863000932, 0.5031...</td>\n",
       "      <td>0.631618</td>\n",
       "      <td>[0.7940833915676683, 0.6092843326885881, 0.491...</td>\n",
       "      <td>0.630139</td>\n",
       "      <td>[0.8083945933127816, 0.5665467625899281, 0.515...</td>\n",
       "      <td>None</td>\n",
       "      <td>0.716667</td>\n",
       "      <td>...</td>\n",
       "      <td>focal</td>\n",
       "      <td>2</td>\n",
       "      <td>True</td>\n",
       "      <td>5</td>\n",
       "      <td>64</td>\n",
       "      <td>790</td>\n",
       "      <td>28</td>\n",
       "      <td>2</td>\n",
       "      <td>umap</td>\n",
       "      <td>True</td>\n",
       "    </tr>\n",
       "    <tr>\n",
       "      <th>0</th>\n",
       "      <td>None</td>\n",
       "      <td>0.708253</td>\n",
       "      <td>0.630953</td>\n",
       "      <td>[0.7972044824677672, 0.6068633353401566, 0.488...</td>\n",
       "      <td>0.623930</td>\n",
       "      <td>[0.8103870651641353, 0.6094316807738815, 0.451...</td>\n",
       "      <td>0.640301</td>\n",
       "      <td>[0.7844439174768792, 0.60431654676259, 0.53214...</td>\n",
       "      <td>None</td>\n",
       "      <td>0.708333</td>\n",
       "      <td>...</td>\n",
       "      <td>focal</td>\n",
       "      <td>2</td>\n",
       "      <td>True</td>\n",
       "      <td>5</td>\n",
       "      <td>64</td>\n",
       "      <td>790</td>\n",
       "      <td>28</td>\n",
       "      <td>2</td>\n",
       "      <td>umap</td>\n",
       "      <td>True</td>\n",
       "    </tr>\n",
       "  </tbody>\n",
       "</table>\n",
       "<p>5 rows × 30 columns</p>\n",
       "</div>"
      ],
      "text/plain": [
       "   loss  accuracy        f1  \\\n",
       "0  None  0.702751  0.633733   \n",
       "0  None  0.703197  0.625713   \n",
       "0  None  0.706320  0.630052   \n",
       "0  None  0.711822  0.630503   \n",
       "0  None  0.708253  0.630953   \n",
       "\n",
       "                                           f1_scores  precision  \\\n",
       "0  [0.7893248062968884, 0.6066101199181047, 0.505...   0.621647   \n",
       "0  [0.7921368765926465, 0.6062554808535515, 0.478...   0.618056   \n",
       "0  [0.7946924004825091, 0.5972141613464887, 0.498...   0.625346   \n",
       "0  [0.8011750881316098, 0.587138863000932, 0.5031...   0.631618   \n",
       "0  [0.7972044824677672, 0.6068633353401566, 0.488...   0.623930   \n",
       "\n",
       "                                    precision_scores    recall  \\\n",
       "0  [0.8198773633111905, 0.5922330097087378, 0.452...  0.651366   \n",
       "0  [0.8111332007952287, 0.5915573302909298, 0.451...  0.635079   \n",
       "0  [0.8087404861281611, 0.5787401574803149, 0.488...  0.635455   \n",
       "0  [0.7940833915676683, 0.6092843326885881, 0.491...  0.630139   \n",
       "0  [0.8103870651641353, 0.6094316807738815, 0.451...  0.640301   \n",
       "\n",
       "                                       recall_scores valid_loss  \\\n",
       "0  [0.7609675124496087, 0.6217026378896883, 0.571...       None   \n",
       "0  [0.7740099596869813, 0.6217026378896883, 0.509...       None   \n",
       "0  [0.7811240218164572, 0.6169064748201439, 0.508...       None   \n",
       "0  [0.8083945933127816, 0.5665467625899281, 0.515...       None   \n",
       "0  [0.7844439174768792, 0.60431654676259, 0.53214...       None   \n",
       "\n",
       "   valid_accuracy  ...  loss_function gamma  k_fold n_splits  batch_size  \\\n",
       "0        0.705518  ...          focal     2    True        5          64   \n",
       "0        0.709572  ...          focal     2    True        5          64   \n",
       "0        0.713176  ...          focal     2    True        5          64   \n",
       "0        0.716667  ...          focal     2    True        5          64   \n",
       "0        0.708333  ...          focal     2    True        5          64   \n",
       "\n",
       "  input_dim dimension  sig_depth  method  log_signature  \n",
       "0       790        28          2    umap           True  \n",
       "0       790        28          2    umap           True  \n",
       "0       790        28          2    umap           True  \n",
       "0       790        28          2    umap           True  \n",
       "0       790        28          2    umap           True  \n",
       "\n",
       "[5 rows x 30 columns]"
      ]
     },
     "execution_count": 13,
     "metadata": {},
     "output_type": "execute_result"
    }
   ],
   "source": [
    "best_ffn_logsignature_umap_kfold"
   ]
  },
  {
   "cell_type": "code",
   "execution_count": 14,
   "id": "db662960",
   "metadata": {},
   "outputs": [
    {
     "data": {
      "text/plain": [
       "0.6301908793348754"
      ]
     },
     "execution_count": 14,
     "metadata": {},
     "output_type": "execute_result"
    }
   ],
   "source": [
    "best_ffn_logsignature_umap_kfold[\"f1\"].mean()"
   ]
  },
  {
   "cell_type": "code",
   "execution_count": 15,
   "id": "0a4e1f49",
   "metadata": {},
   "outputs": [
    {
     "data": {
      "text/plain": [
       "0.6241194658310414"
      ]
     },
     "execution_count": 15,
     "metadata": {},
     "output_type": "execute_result"
    }
   ],
   "source": [
    "best_ffn_logsignature_umap_kfold[\"precision\"].mean()"
   ]
  },
  {
   "cell_type": "code",
   "execution_count": 16,
   "id": "51e0bbc2",
   "metadata": {},
   "outputs": [
    {
     "data": {
      "text/plain": [
       "0.6384679884399672"
      ]
     },
     "execution_count": 16,
     "metadata": {},
     "output_type": "execute_result"
    }
   ],
   "source": [
    "best_ffn_logsignature_umap_kfold[\"recall\"].mean()"
   ]
  },
  {
   "cell_type": "code",
   "execution_count": 17,
   "id": "f9d8a18b",
   "metadata": {},
   "outputs": [
    {
     "data": {
      "text/plain": [
       "array([0.79490673, 0.60081639, 0.49484952])"
      ]
     },
     "execution_count": 17,
     "metadata": {},
     "output_type": "execute_result"
    }
   ],
   "source": [
    "np.stack(best_ffn_logsignature_umap_kfold[\"f1_scores\"]).mean(axis=0)"
   ]
  },
  {
   "cell_type": "code",
   "execution_count": 18,
   "id": "13964c54",
   "metadata": {},
   "outputs": [
    {
     "data": {
      "text/plain": [
       "array([0.8088443 , 0.5962493 , 0.46726479])"
      ]
     },
     "execution_count": 18,
     "metadata": {},
     "output_type": "execute_result"
    }
   ],
   "source": [
    "np.stack(best_ffn_logsignature_umap_kfold[\"precision_scores\"]).mean(axis=0)"
   ]
  },
  {
   "cell_type": "code",
   "execution_count": 19,
   "id": "81899f08",
   "metadata": {},
   "outputs": [
    {
     "data": {
      "text/plain": [
       "array([0.781788  , 0.60623501, 0.52738095])"
      ]
     },
     "execution_count": 19,
     "metadata": {},
     "output_type": "execute_result"
    }
   ],
   "source": [
    "np.stack(best_ffn_logsignature_umap_kfold[\"recall_scores\"]).mean(axis=0)"
   ]
  },
  {
   "cell_type": "markdown",
   "id": "0de6f338",
   "metadata": {},
   "source": [
    "### Using random projections"
   ]
  },
  {
   "cell_type": "code",
   "execution_count": 20,
   "id": "bcf5003d",
   "metadata": {
    "scrolled": false
   },
   "outputs": [
    {
     "data": {
      "application/vnd.jupyter.widget-view+json": {
       "model_id": "c81d17b892cf4e10a2e6fdcdaac8f2ed",
       "version_major": 2,
       "version_minor": 0
      },
      "text/plain": [
       "  0%|          | 0/3 [00:00<?, ?it/s]"
      ]
     },
     "metadata": {},
     "output_type": "display_data"
    },
    {
     "data": {
      "application/vnd.jupyter.widget-view+json": {
       "model_id": "b0dd791f55064bb4a333cd99ab05f1cb",
       "version_major": 2,
       "version_minor": 0
      },
      "text/plain": [
       "  0%|          | 0/1 [00:00<?, ?it/s]"
      ]
     },
     "metadata": {},
     "output_type": "display_data"
    },
    {
     "name": "stdout",
     "output_type": "stream",
     "text": [
      "[INFO] Concatenating the embeddings to the dataframe...\n",
      "[INFO] - columns beginning with 'e' denote the full embddings.\n",
      "[INFO] - columns beginning with 'd' denote the dimension reduced embeddings.\n",
      "[INFO] Adding time feature columns into dataframe in `.df`.\n",
      "[INFO] Adding 'time_encoding' and feature...\n",
      "[INFO] Adding 'time_diff' and feature...\n",
      "[INFO] Adding 'timeline_index' feature...\n",
      "[INFO] Padding ids and storing in `.df_padded` and `.array_padded` attributes.\n"
     ]
    },
    {
     "data": {
      "application/vnd.jupyter.widget-view+json": {
       "model_id": "c42f92b5d9874b178ac73fb239b69d9b",
       "version_major": 2,
       "version_minor": 0
      },
      "text/plain": [
       "  0%|          | 0/13551 [00:00<?, ?it/s]"
      ]
     },
     "metadata": {},
     "output_type": "display_data"
    },
    {
     "data": {
      "application/vnd.jupyter.widget-view+json": {
       "model_id": "382551c187894701a04115a99af78f0f",
       "version_major": 2,
       "version_minor": 0
      },
      "text/plain": [
       "  0%|          | 0/3 [00:00<?, ?it/s]"
      ]
     },
     "metadata": {},
     "output_type": "display_data"
    },
    {
     "data": {
      "application/vnd.jupyter.widget-view+json": {
       "model_id": "a215d96928724bf785a25ef9b0f12223",
       "version_major": 2,
       "version_minor": 0
      },
      "text/plain": [
       "  0%|          | 0/3 [00:00<?, ?it/s]"
      ]
     },
     "metadata": {},
     "output_type": "display_data"
    },
    {
     "data": {
      "application/vnd.jupyter.widget-view+json": {
       "model_id": "32da8a6cc16b4388968bed00ee57b6a9",
       "version_major": 2,
       "version_minor": 0
      },
      "text/plain": [
       "  0%|          | 0/3 [00:00<?, ?it/s]"
      ]
     },
     "metadata": {},
     "output_type": "display_data"
    },
    {
     "data": {
      "application/vnd.jupyter.widget-view+json": {
       "model_id": "ec96ecd2453f45be881837284f019eaa",
       "version_major": 2,
       "version_minor": 0
      },
      "text/plain": [
       "  0%|          | 0/3 [00:00<?, ?it/s]"
      ]
     },
     "metadata": {},
     "output_type": "display_data"
    },
    {
     "data": {
      "application/vnd.jupyter.widget-view+json": {
       "model_id": "bc7cdc8d93b340179eea3e9c3161fd6c",
       "version_major": 2,
       "version_minor": 0
      },
      "text/plain": [
       "  0%|          | 0/3 [00:00<?, ?it/s]"
      ]
     },
     "metadata": {},
     "output_type": "display_data"
    },
    {
     "data": {
      "application/vnd.jupyter.widget-view+json": {
       "model_id": "fe5796db050c47dca55847eb5280a163",
       "version_major": 2,
       "version_minor": 0
      },
      "text/plain": [
       "  0%|          | 0/3 [00:00<?, ?it/s]"
      ]
     },
     "metadata": {},
     "output_type": "display_data"
    },
    {
     "data": {
      "application/vnd.jupyter.widget-view+json": {
       "model_id": "2c4d23d1760b4238a7f7060f89356a22",
       "version_major": 2,
       "version_minor": 0
      },
      "text/plain": [
       "  0%|          | 0/3 [00:00<?, ?it/s]"
      ]
     },
     "metadata": {},
     "output_type": "display_data"
    },
    {
     "data": {
      "application/vnd.jupyter.widget-view+json": {
       "model_id": "087fbf2be8714c08b890b00bee9c7ee8",
       "version_major": 2,
       "version_minor": 0
      },
      "text/plain": [
       "  0%|          | 0/3 [00:00<?, ?it/s]"
      ]
     },
     "metadata": {},
     "output_type": "display_data"
    },
    {
     "data": {
      "application/vnd.jupyter.widget-view+json": {
       "model_id": "c7a63b8033494b45afad38578544515d",
       "version_major": 2,
       "version_minor": 0
      },
      "text/plain": [
       "  0%|          | 0/3 [00:00<?, ?it/s]"
      ]
     },
     "metadata": {},
     "output_type": "display_data"
    },
    {
     "data": {
      "application/vnd.jupyter.widget-view+json": {
       "model_id": "8907146ff03044309116bd0a8adf25d5",
       "version_major": 2,
       "version_minor": 0
      },
      "text/plain": [
       "  0%|          | 0/3 [00:00<?, ?it/s]"
      ]
     },
     "metadata": {},
     "output_type": "display_data"
    },
    {
     "data": {
      "application/vnd.jupyter.widget-view+json": {
       "model_id": "360e5fe620744536af8a5c3732088b8b",
       "version_major": 2,
       "version_minor": 0
      },
      "text/plain": [
       "  0%|          | 0/3 [00:00<?, ?it/s]"
      ]
     },
     "metadata": {},
     "output_type": "display_data"
    },
    {
     "data": {
      "application/vnd.jupyter.widget-view+json": {
       "model_id": "4c4d3dc20da34a0b83d220b17a511f35",
       "version_major": 2,
       "version_minor": 0
      },
      "text/plain": [
       "  0%|          | 0/3 [00:00<?, ?it/s]"
      ]
     },
     "metadata": {},
     "output_type": "display_data"
    },
    {
     "data": {
      "application/vnd.jupyter.widget-view+json": {
       "model_id": "0cec50db3d5649f594a6e08bb97ffcfd",
       "version_major": 2,
       "version_minor": 0
      },
      "text/plain": [
       "  0%|          | 0/3 [00:00<?, ?it/s]"
      ]
     },
     "metadata": {},
     "output_type": "display_data"
    },
    {
     "data": {
      "application/vnd.jupyter.widget-view+json": {
       "model_id": "9f165ed4f3274f3bae73122b93cfd54e",
       "version_major": 2,
       "version_minor": 0
      },
      "text/plain": [
       "  0%|          | 0/1 [00:00<?, ?it/s]"
      ]
     },
     "metadata": {},
     "output_type": "display_data"
    },
    {
     "name": "stdout",
     "output_type": "stream",
     "text": [
      "[INFO] Concatenating the embeddings to the dataframe...\n",
      "[INFO] - columns beginning with 'e' denote the full embddings.\n",
      "[INFO] - columns beginning with 'd' denote the dimension reduced embeddings.\n",
      "[INFO] Adding time feature columns into dataframe in `.df`.\n",
      "[INFO] Adding 'time_encoding' and feature...\n",
      "[INFO] Adding 'time_diff' and feature...\n",
      "[INFO] Adding 'timeline_index' feature...\n",
      "[INFO] Padding ids and storing in `.df_padded` and `.array_padded` attributes.\n"
     ]
    },
    {
     "data": {
      "application/vnd.jupyter.widget-view+json": {
       "model_id": "e4c93a1a81784381bca239746c900432",
       "version_major": 2,
       "version_minor": 0
      },
      "text/plain": [
       "  0%|          | 0/13551 [00:00<?, ?it/s]"
      ]
     },
     "metadata": {},
     "output_type": "display_data"
    },
    {
     "data": {
      "application/vnd.jupyter.widget-view+json": {
       "model_id": "8e7894be9fac4dcdb2fc3f074be4e9f1",
       "version_major": 2,
       "version_minor": 0
      },
      "text/plain": [
       "  0%|          | 0/3 [00:00<?, ?it/s]"
      ]
     },
     "metadata": {},
     "output_type": "display_data"
    },
    {
     "data": {
      "application/vnd.jupyter.widget-view+json": {
       "model_id": "6941c6a6124940cdab0e0c7e81b5e6e3",
       "version_major": 2,
       "version_minor": 0
      },
      "text/plain": [
       "  0%|          | 0/3 [00:00<?, ?it/s]"
      ]
     },
     "metadata": {},
     "output_type": "display_data"
    },
    {
     "data": {
      "application/vnd.jupyter.widget-view+json": {
       "model_id": "b3b40a281c9648089df2449c220a9431",
       "version_major": 2,
       "version_minor": 0
      },
      "text/plain": [
       "  0%|          | 0/3 [00:00<?, ?it/s]"
      ]
     },
     "metadata": {},
     "output_type": "display_data"
    },
    {
     "data": {
      "application/vnd.jupyter.widget-view+json": {
       "model_id": "7cc63a6a416047bb81bcad5b5de6f2ce",
       "version_major": 2,
       "version_minor": 0
      },
      "text/plain": [
       "  0%|          | 0/3 [00:00<?, ?it/s]"
      ]
     },
     "metadata": {},
     "output_type": "display_data"
    },
    {
     "data": {
      "application/vnd.jupyter.widget-view+json": {
       "model_id": "58022d4258254d1591765302afce30ef",
       "version_major": 2,
       "version_minor": 0
      },
      "text/plain": [
       "  0%|          | 0/3 [00:00<?, ?it/s]"
      ]
     },
     "metadata": {},
     "output_type": "display_data"
    },
    {
     "data": {
      "application/vnd.jupyter.widget-view+json": {
       "model_id": "e9e6ea596e3243178fbc85bec8d9ea55",
       "version_major": 2,
       "version_minor": 0
      },
      "text/plain": [
       "  0%|          | 0/3 [00:00<?, ?it/s]"
      ]
     },
     "metadata": {},
     "output_type": "display_data"
    },
    {
     "data": {
      "application/vnd.jupyter.widget-view+json": {
       "model_id": "45430670b47d4764a355f449e40f373a",
       "version_major": 2,
       "version_minor": 0
      },
      "text/plain": [
       "  0%|          | 0/3 [00:00<?, ?it/s]"
      ]
     },
     "metadata": {},
     "output_type": "display_data"
    },
    {
     "data": {
      "application/vnd.jupyter.widget-view+json": {
       "model_id": "c04f161b9858446ebb1a177d9ec7bb41",
       "version_major": 2,
       "version_minor": 0
      },
      "text/plain": [
       "  0%|          | 0/3 [00:00<?, ?it/s]"
      ]
     },
     "metadata": {},
     "output_type": "display_data"
    },
    {
     "data": {
      "application/vnd.jupyter.widget-view+json": {
       "model_id": "c5c041f60ef24284bf694340e61c02cb",
       "version_major": 2,
       "version_minor": 0
      },
      "text/plain": [
       "  0%|          | 0/3 [00:00<?, ?it/s]"
      ]
     },
     "metadata": {},
     "output_type": "display_data"
    },
    {
     "data": {
      "application/vnd.jupyter.widget-view+json": {
       "model_id": "d1383ded89a4488c9fb5d2316b89df46",
       "version_major": 2,
       "version_minor": 0
      },
      "text/plain": [
       "  0%|          | 0/3 [00:00<?, ?it/s]"
      ]
     },
     "metadata": {},
     "output_type": "display_data"
    },
    {
     "data": {
      "application/vnd.jupyter.widget-view+json": {
       "model_id": "cb8e313da15447678e9dc9c890062a7d",
       "version_major": 2,
       "version_minor": 0
      },
      "text/plain": [
       "  0%|          | 0/3 [00:00<?, ?it/s]"
      ]
     },
     "metadata": {},
     "output_type": "display_data"
    },
    {
     "data": {
      "application/vnd.jupyter.widget-view+json": {
       "model_id": "9abfe5d47bc34cbe863c685deea48552",
       "version_major": 2,
       "version_minor": 0
      },
      "text/plain": [
       "  0%|          | 0/3 [00:00<?, ?it/s]"
      ]
     },
     "metadata": {},
     "output_type": "display_data"
    },
    {
     "data": {
      "application/vnd.jupyter.widget-view+json": {
       "model_id": "d5012710707a4fc18c4485041bd8c925",
       "version_major": 2,
       "version_minor": 0
      },
      "text/plain": [
       "  0%|          | 0/3 [00:00<?, ?it/s]"
      ]
     },
     "metadata": {},
     "output_type": "display_data"
    },
    {
     "data": {
      "application/vnd.jupyter.widget-view+json": {
       "model_id": "61ad2a2342534c5a85cdd8077b4917a8",
       "version_major": 2,
       "version_minor": 0
      },
      "text/plain": [
       "  0%|          | 0/1 [00:00<?, ?it/s]"
      ]
     },
     "metadata": {},
     "output_type": "display_data"
    },
    {
     "name": "stdout",
     "output_type": "stream",
     "text": [
      "[INFO] Concatenating the embeddings to the dataframe...\n",
      "[INFO] - columns beginning with 'e' denote the full embddings.\n",
      "[INFO] - columns beginning with 'd' denote the dimension reduced embeddings.\n",
      "[INFO] Adding time feature columns into dataframe in `.df`.\n",
      "[INFO] Adding 'time_encoding' and feature...\n",
      "[INFO] Adding 'time_diff' and feature...\n",
      "[INFO] Adding 'timeline_index' feature...\n",
      "[INFO] Padding ids and storing in `.df_padded` and `.array_padded` attributes.\n"
     ]
    },
    {
     "data": {
      "application/vnd.jupyter.widget-view+json": {
       "model_id": "058d0af8fd984481b70b51470ca7b3c7",
       "version_major": 2,
       "version_minor": 0
      },
      "text/plain": [
       "  0%|          | 0/13551 [00:00<?, ?it/s]"
      ]
     },
     "metadata": {},
     "output_type": "display_data"
    },
    {
     "data": {
      "application/vnd.jupyter.widget-view+json": {
       "model_id": "500ee8a5903b47cfb06ff1a59c8fc0cb",
       "version_major": 2,
       "version_minor": 0
      },
      "text/plain": [
       "  0%|          | 0/3 [00:00<?, ?it/s]"
      ]
     },
     "metadata": {},
     "output_type": "display_data"
    },
    {
     "data": {
      "application/vnd.jupyter.widget-view+json": {
       "model_id": "02ad59e564304e639d3164566733a5c1",
       "version_major": 2,
       "version_minor": 0
      },
      "text/plain": [
       "  0%|          | 0/3 [00:00<?, ?it/s]"
      ]
     },
     "metadata": {},
     "output_type": "display_data"
    },
    {
     "data": {
      "application/vnd.jupyter.widget-view+json": {
       "model_id": "6e14642ca1b146288ab0c5a9c42349df",
       "version_major": 2,
       "version_minor": 0
      },
      "text/plain": [
       "  0%|          | 0/3 [00:00<?, ?it/s]"
      ]
     },
     "metadata": {},
     "output_type": "display_data"
    },
    {
     "data": {
      "application/vnd.jupyter.widget-view+json": {
       "model_id": "9e2c88ca82eb47a6bf70338ef605b569",
       "version_major": 2,
       "version_minor": 0
      },
      "text/plain": [
       "  0%|          | 0/3 [00:00<?, ?it/s]"
      ]
     },
     "metadata": {},
     "output_type": "display_data"
    },
    {
     "data": {
      "application/vnd.jupyter.widget-view+json": {
       "model_id": "a867634431cb4cde8875c048192af72e",
       "version_major": 2,
       "version_minor": 0
      },
      "text/plain": [
       "  0%|          | 0/3 [00:00<?, ?it/s]"
      ]
     },
     "metadata": {},
     "output_type": "display_data"
    },
    {
     "data": {
      "application/vnd.jupyter.widget-view+json": {
       "model_id": "b3e55534e2a24efdbe3cfb21211e70b7",
       "version_major": 2,
       "version_minor": 0
      },
      "text/plain": [
       "  0%|          | 0/3 [00:00<?, ?it/s]"
      ]
     },
     "metadata": {},
     "output_type": "display_data"
    },
    {
     "data": {
      "application/vnd.jupyter.widget-view+json": {
       "model_id": "e474814517b54dc588d2137ab06ec945",
       "version_major": 2,
       "version_minor": 0
      },
      "text/plain": [
       "  0%|          | 0/3 [00:00<?, ?it/s]"
      ]
     },
     "metadata": {},
     "output_type": "display_data"
    },
    {
     "data": {
      "application/vnd.jupyter.widget-view+json": {
       "model_id": "e2e6b91b95104ebe88bd2bf172ce25e0",
       "version_major": 2,
       "version_minor": 0
      },
      "text/plain": [
       "  0%|          | 0/3 [00:00<?, ?it/s]"
      ]
     },
     "metadata": {},
     "output_type": "display_data"
    },
    {
     "data": {
      "application/vnd.jupyter.widget-view+json": {
       "model_id": "0d1b7b35b6644314bea4b67e0ad6433d",
       "version_major": 2,
       "version_minor": 0
      },
      "text/plain": [
       "  0%|          | 0/3 [00:00<?, ?it/s]"
      ]
     },
     "metadata": {},
     "output_type": "display_data"
    },
    {
     "data": {
      "application/vnd.jupyter.widget-view+json": {
       "model_id": "88df488fb3a24d4485f4b4062605ba74",
       "version_major": 2,
       "version_minor": 0
      },
      "text/plain": [
       "  0%|          | 0/3 [00:00<?, ?it/s]"
      ]
     },
     "metadata": {},
     "output_type": "display_data"
    },
    {
     "data": {
      "application/vnd.jupyter.widget-view+json": {
       "model_id": "8764fdae57b34f57b1df7ab2cb383a19",
       "version_major": 2,
       "version_minor": 0
      },
      "text/plain": [
       "  0%|          | 0/3 [00:00<?, ?it/s]"
      ]
     },
     "metadata": {},
     "output_type": "display_data"
    },
    {
     "data": {
      "application/vnd.jupyter.widget-view+json": {
       "model_id": "81dc9725157348d3a302e4ca343433a4",
       "version_major": 2,
       "version_minor": 0
      },
      "text/plain": [
       "  0%|          | 0/3 [00:00<?, ?it/s]"
      ]
     },
     "metadata": {},
     "output_type": "display_data"
    },
    {
     "data": {
      "application/vnd.jupyter.widget-view+json": {
       "model_id": "463c97b311a641dc84442d1d2c43d610",
       "version_major": 2,
       "version_minor": 0
      },
      "text/plain": [
       "  0%|          | 0/3 [00:00<?, ?it/s]"
      ]
     },
     "metadata": {},
     "output_type": "display_data"
    },
    {
     "name": "stdout",
     "output_type": "stream",
     "text": [
      "[INFO] Concatenating the embeddings to the dataframe...\n",
      "[INFO] - columns beginning with 'e' denote the full embddings.\n",
      "[INFO] - columns beginning with 'd' denote the dimension reduced embeddings.\n",
      "[INFO] Adding time feature columns into dataframe in `.df`.\n",
      "[INFO] Adding 'time_encoding' and feature...\n",
      "[INFO] Adding 'time_diff' and feature...\n",
      "[INFO] Adding 'timeline_index' feature...\n",
      "[INFO] Padding ids and storing in `.df_padded` and `.array_padded` attributes.\n"
     ]
    },
    {
     "data": {
      "application/vnd.jupyter.widget-view+json": {
       "model_id": "048f5b10d2ac4086827e9c7478d8127b",
       "version_major": 2,
       "version_minor": 0
      },
      "text/plain": [
       "  0%|          | 0/13551 [00:00<?, ?it/s]"
      ]
     },
     "metadata": {},
     "output_type": "display_data"
    },
    {
     "name": "stdout",
     "output_type": "stream",
     "text": [
      "saving results dataframe to CSV for this hyperparameter search in client_talk_type_output/ffn_logsignature_grp_focal_2_kfold.csv\n",
      "saving the best model results dataframe to CSV for this hyperparameter search in client_talk_type_output/ffn_logsignature_grp_focal_2_kfold_best_model.csv\n"
     ]
    }
   ],
   "source": [
    "ffn_logsignature_grp_kfold, best_ffn_logsignature_grp_kfold, _, __ = histories_baseline_hyperparameter_search(\n",
    "    num_epochs=num_epochs,\n",
    "    df=anno_mi,\n",
    "    id_column=\"transcript_id\",\n",
    "    label_column=\"client_talk_type\",\n",
    "    embeddings=sbert_embeddings,\n",
    "    y_data=y_data_client,\n",
    "    output_dim=output_dim_client,\n",
    "    hidden_dim_sizes=hidden_dim_sizes,\n",
    "    dropout_rates=dropout_rates,\n",
    "    learning_rates=learning_rates,\n",
    "    use_signatures=True,\n",
    "    seeds=seeds,\n",
    "    loss=loss,\n",
    "    gamma=gamma,\n",
    "    log_signature=True,\n",
    "    dim_reduce_methods=[\"gaussian_random_projection\"],\n",
    "    dimension_and_sig_depths=log_signature_dimensions_and_sig_depths,\n",
    "    path_indices=client_index,\n",
    "    k_fold=True,\n",
    "    patience=patience,\n",
    "    validation_metric=validation_metric,\n",
    "    results_output=f\"{output_dir}/ffn_logsignature_grp_focal_{gamma}_kfold.csv\",\n",
    "    verbose=False\n",
    ")"
   ]
  },
  {
   "cell_type": "code",
   "execution_count": 21,
   "id": "9c137d34",
   "metadata": {},
   "outputs": [
    {
     "name": "stderr",
     "output_type": "stream",
     "text": [
      "/var/folders/l7/bnn1j6bs3bqfskq2jlq55yh80000gr/T/ipykernel_8227/2536377135.py:1: FutureWarning: The default value of numeric_only in DataFrameGroupBy.mean is deprecated. In a future version, numeric_only will default to False. Either specify numeric_only or select only columns which should be valid for the function.\n",
      "  ffn_logsignature_grp_kfold.groupby([\"dimension\", \"sig_depth\", \"hidden_dim\", \"dropout_rate\", \"learning_rate\"]).mean()\n"
     ]
    },
    {
     "data": {
      "text/html": [
       "<div>\n",
       "<style scoped>\n",
       "    .dataframe tbody tr th:only-of-type {\n",
       "        vertical-align: middle;\n",
       "    }\n",
       "\n",
       "    .dataframe tbody tr th {\n",
       "        vertical-align: top;\n",
       "    }\n",
       "\n",
       "    .dataframe thead th {\n",
       "        text-align: right;\n",
       "    }\n",
       "</style>\n",
       "<table border=\"1\" class=\"dataframe\">\n",
       "  <thead>\n",
       "    <tr style=\"text-align: right;\">\n",
       "      <th></th>\n",
       "      <th></th>\n",
       "      <th></th>\n",
       "      <th></th>\n",
       "      <th></th>\n",
       "      <th>accuracy</th>\n",
       "      <th>f1</th>\n",
       "      <th>precision</th>\n",
       "      <th>recall</th>\n",
       "      <th>valid_accuracy</th>\n",
       "      <th>valid_f1</th>\n",
       "      <th>valid_precision</th>\n",
       "      <th>valid_recall</th>\n",
       "      <th>seed</th>\n",
       "      <th>gamma</th>\n",
       "      <th>k_fold</th>\n",
       "      <th>n_splits</th>\n",
       "      <th>batch_size</th>\n",
       "      <th>model_id</th>\n",
       "      <th>input_dim</th>\n",
       "      <th>log_signature</th>\n",
       "    </tr>\n",
       "    <tr>\n",
       "      <th>dimension</th>\n",
       "      <th>sig_depth</th>\n",
       "      <th>hidden_dim</th>\n",
       "      <th>dropout_rate</th>\n",
       "      <th>learning_rate</th>\n",
       "      <th></th>\n",
       "      <th></th>\n",
       "      <th></th>\n",
       "      <th></th>\n",
       "      <th></th>\n",
       "      <th></th>\n",
       "      <th></th>\n",
       "      <th></th>\n",
       "      <th></th>\n",
       "      <th></th>\n",
       "      <th></th>\n",
       "      <th></th>\n",
       "      <th></th>\n",
       "      <th></th>\n",
       "      <th></th>\n",
       "      <th></th>\n",
       "    </tr>\n",
       "  </thead>\n",
       "  <tbody>\n",
       "    <tr>\n",
       "      <th rowspan=\"5\" valign=\"top\">6</th>\n",
       "      <th rowspan=\"5\" valign=\"top\">4</th>\n",
       "      <th rowspan=\"5\" valign=\"top\">(128, 128)</th>\n",
       "      <th rowspan=\"3\" valign=\"top\">0.1</th>\n",
       "      <th>0.0001</th>\n",
       "      <td>0.719792</td>\n",
       "      <td>0.651365</td>\n",
       "      <td>0.641685</td>\n",
       "      <td>0.665781</td>\n",
       "      <td>0.726059</td>\n",
       "      <td>0.657176</td>\n",
       "      <td>0.647079</td>\n",
       "      <td>0.671225</td>\n",
       "      <td>274.0</td>\n",
       "      <td>2.0</td>\n",
       "      <td>1.0</td>\n",
       "      <td>5.0</td>\n",
       "      <td>64.0</td>\n",
       "      <td>2.70</td>\n",
       "      <td>790.0</td>\n",
       "      <td>1.0</td>\n",
       "    </tr>\n",
       "    <tr>\n",
       "      <th>0.0005</th>\n",
       "      <td>0.712595</td>\n",
       "      <td>0.647273</td>\n",
       "      <td>0.634828</td>\n",
       "      <td>0.668674</td>\n",
       "      <td>0.718514</td>\n",
       "      <td>0.653252</td>\n",
       "      <td>0.639734</td>\n",
       "      <td>0.676041</td>\n",
       "      <td>274.0</td>\n",
       "      <td>2.0</td>\n",
       "      <td>1.0</td>\n",
       "      <td>5.0</td>\n",
       "      <td>64.0</td>\n",
       "      <td>2.80</td>\n",
       "      <td>790.0</td>\n",
       "      <td>1.0</td>\n",
       "    </tr>\n",
       "    <tr>\n",
       "      <th>0.0010</th>\n",
       "      <td>0.709651</td>\n",
       "      <td>0.641849</td>\n",
       "      <td>0.629609</td>\n",
       "      <td>0.662427</td>\n",
       "      <td>0.716306</td>\n",
       "      <td>0.650999</td>\n",
       "      <td>0.637169</td>\n",
       "      <td>0.673915</td>\n",
       "      <td>274.0</td>\n",
       "      <td>2.0</td>\n",
       "      <td>1.0</td>\n",
       "      <td>5.0</td>\n",
       "      <td>64.0</td>\n",
       "      <td>2.60</td>\n",
       "      <td>790.0</td>\n",
       "      <td>1.0</td>\n",
       "    </tr>\n",
       "    <tr>\n",
       "      <th rowspan=\"2\" valign=\"top\">0.2</th>\n",
       "      <th>0.0001</th>\n",
       "      <td>0.720208</td>\n",
       "      <td>0.652678</td>\n",
       "      <td>0.642415</td>\n",
       "      <td>0.667355</td>\n",
       "      <td>0.728378</td>\n",
       "      <td>0.660672</td>\n",
       "      <td>0.649750</td>\n",
       "      <td>0.675675</td>\n",
       "      <td>274.0</td>\n",
       "      <td>2.0</td>\n",
       "      <td>1.0</td>\n",
       "      <td>5.0</td>\n",
       "      <td>64.0</td>\n",
       "      <td>2.40</td>\n",
       "      <td>790.0</td>\n",
       "      <td>1.0</td>\n",
       "    </tr>\n",
       "    <tr>\n",
       "      <th>0.0005</th>\n",
       "      <td>0.712922</td>\n",
       "      <td>0.646207</td>\n",
       "      <td>0.634773</td>\n",
       "      <td>0.665586</td>\n",
       "      <td>0.720968</td>\n",
       "      <td>0.654731</td>\n",
       "      <td>0.641635</td>\n",
       "      <td>0.675585</td>\n",
       "      <td>274.0</td>\n",
       "      <td>2.0</td>\n",
       "      <td>1.0</td>\n",
       "      <td>5.0</td>\n",
       "      <td>64.0</td>\n",
       "      <td>2.50</td>\n",
       "      <td>790.0</td>\n",
       "      <td>1.0</td>\n",
       "    </tr>\n",
       "    <tr>\n",
       "      <th>...</th>\n",
       "      <th>...</th>\n",
       "      <th>...</th>\n",
       "      <th>...</th>\n",
       "      <th>...</th>\n",
       "      <td>...</td>\n",
       "      <td>...</td>\n",
       "      <td>...</td>\n",
       "      <td>...</td>\n",
       "      <td>...</td>\n",
       "      <td>...</td>\n",
       "      <td>...</td>\n",
       "      <td>...</td>\n",
       "      <td>...</td>\n",
       "      <td>...</td>\n",
       "      <td>...</td>\n",
       "      <td>...</td>\n",
       "      <td>...</td>\n",
       "      <td>...</td>\n",
       "      <td>...</td>\n",
       "      <td>...</td>\n",
       "    </tr>\n",
       "    <tr>\n",
       "      <th rowspan=\"5\" valign=\"top\">28</th>\n",
       "      <th rowspan=\"5\" valign=\"top\">2</th>\n",
       "      <th rowspan=\"5\" valign=\"top\">(512, 512)</th>\n",
       "      <th rowspan=\"2\" valign=\"top\">0.2</th>\n",
       "      <th>0.0005</th>\n",
       "      <td>0.720565</td>\n",
       "      <td>0.658076</td>\n",
       "      <td>0.644177</td>\n",
       "      <td>0.678371</td>\n",
       "      <td>0.724302</td>\n",
       "      <td>0.661219</td>\n",
       "      <td>0.646518</td>\n",
       "      <td>0.682787</td>\n",
       "      <td>274.0</td>\n",
       "      <td>2.0</td>\n",
       "      <td>1.0</td>\n",
       "      <td>5.0</td>\n",
       "      <td>64.0</td>\n",
       "      <td>0.23</td>\n",
       "      <td>790.0</td>\n",
       "      <td>1.0</td>\n",
       "    </tr>\n",
       "    <tr>\n",
       "      <th>0.0010</th>\n",
       "      <td>0.720922</td>\n",
       "      <td>0.654281</td>\n",
       "      <td>0.642935</td>\n",
       "      <td>0.669841</td>\n",
       "      <td>0.723694</td>\n",
       "      <td>0.655460</td>\n",
       "      <td>0.643979</td>\n",
       "      <td>0.671184</td>\n",
       "      <td>274.0</td>\n",
       "      <td>2.0</td>\n",
       "      <td>1.0</td>\n",
       "      <td>5.0</td>\n",
       "      <td>64.0</td>\n",
       "      <td>0.21</td>\n",
       "      <td>790.0</td>\n",
       "      <td>1.0</td>\n",
       "    </tr>\n",
       "    <tr>\n",
       "      <th rowspan=\"3\" valign=\"top\">0.5</th>\n",
       "      <th>0.0001</th>\n",
       "      <td>0.733859</td>\n",
       "      <td>0.669734</td>\n",
       "      <td>0.659195</td>\n",
       "      <td>0.684078</td>\n",
       "      <td>0.736622</td>\n",
       "      <td>0.671519</td>\n",
       "      <td>0.660211</td>\n",
       "      <td>0.686719</td>\n",
       "      <td>274.0</td>\n",
       "      <td>2.0</td>\n",
       "      <td>1.0</td>\n",
       "      <td>5.0</td>\n",
       "      <td>64.0</td>\n",
       "      <td>0.19</td>\n",
       "      <td>790.0</td>\n",
       "      <td>1.0</td>\n",
       "    </tr>\n",
       "    <tr>\n",
       "      <th>0.0005</th>\n",
       "      <td>0.729338</td>\n",
       "      <td>0.665236</td>\n",
       "      <td>0.654031</td>\n",
       "      <td>0.681416</td>\n",
       "      <td>0.731644</td>\n",
       "      <td>0.667673</td>\n",
       "      <td>0.655386</td>\n",
       "      <td>0.685292</td>\n",
       "      <td>274.0</td>\n",
       "      <td>2.0</td>\n",
       "      <td>1.0</td>\n",
       "      <td>5.0</td>\n",
       "      <td>64.0</td>\n",
       "      <td>0.20</td>\n",
       "      <td>790.0</td>\n",
       "      <td>1.0</td>\n",
       "    </tr>\n",
       "    <tr>\n",
       "      <th>0.0010</th>\n",
       "      <td>0.725978</td>\n",
       "      <td>0.659365</td>\n",
       "      <td>0.649071</td>\n",
       "      <td>0.673067</td>\n",
       "      <td>0.729775</td>\n",
       "      <td>0.662350</td>\n",
       "      <td>0.651540</td>\n",
       "      <td>0.676721</td>\n",
       "      <td>274.0</td>\n",
       "      <td>2.0</td>\n",
       "      <td>1.0</td>\n",
       "      <td>5.0</td>\n",
       "      <td>64.0</td>\n",
       "      <td>0.18</td>\n",
       "      <td>790.0</td>\n",
       "      <td>1.0</td>\n",
       "    </tr>\n",
       "  </tbody>\n",
       "</table>\n",
       "<p>81 rows × 16 columns</p>\n",
       "</div>"
      ],
      "text/plain": [
       "                                                           accuracy        f1  \\\n",
       "dimension sig_depth hidden_dim dropout_rate learning_rate                       \n",
       "6         4         (128, 128) 0.1          0.0001         0.719792  0.651365   \n",
       "                                            0.0005         0.712595  0.647273   \n",
       "                                            0.0010         0.709651  0.641849   \n",
       "                               0.2          0.0001         0.720208  0.652678   \n",
       "                                            0.0005         0.712922  0.646207   \n",
       "...                                                             ...       ...   \n",
       "28        2         (512, 512) 0.2          0.0005         0.720565  0.658076   \n",
       "                                            0.0010         0.720922  0.654281   \n",
       "                               0.5          0.0001         0.733859  0.669734   \n",
       "                                            0.0005         0.729338  0.665236   \n",
       "                                            0.0010         0.725978  0.659365   \n",
       "\n",
       "                                                           precision  \\\n",
       "dimension sig_depth hidden_dim dropout_rate learning_rate              \n",
       "6         4         (128, 128) 0.1          0.0001          0.641685   \n",
       "                                            0.0005          0.634828   \n",
       "                                            0.0010          0.629609   \n",
       "                               0.2          0.0001          0.642415   \n",
       "                                            0.0005          0.634773   \n",
       "...                                                              ...   \n",
       "28        2         (512, 512) 0.2          0.0005          0.644177   \n",
       "                                            0.0010          0.642935   \n",
       "                               0.5          0.0001          0.659195   \n",
       "                                            0.0005          0.654031   \n",
       "                                            0.0010          0.649071   \n",
       "\n",
       "                                                             recall  \\\n",
       "dimension sig_depth hidden_dim dropout_rate learning_rate             \n",
       "6         4         (128, 128) 0.1          0.0001         0.665781   \n",
       "                                            0.0005         0.668674   \n",
       "                                            0.0010         0.662427   \n",
       "                               0.2          0.0001         0.667355   \n",
       "                                            0.0005         0.665586   \n",
       "...                                                             ...   \n",
       "28        2         (512, 512) 0.2          0.0005         0.678371   \n",
       "                                            0.0010         0.669841   \n",
       "                               0.5          0.0001         0.684078   \n",
       "                                            0.0005         0.681416   \n",
       "                                            0.0010         0.673067   \n",
       "\n",
       "                                                           valid_accuracy  \\\n",
       "dimension sig_depth hidden_dim dropout_rate learning_rate                   \n",
       "6         4         (128, 128) 0.1          0.0001               0.726059   \n",
       "                                            0.0005               0.718514   \n",
       "                                            0.0010               0.716306   \n",
       "                               0.2          0.0001               0.728378   \n",
       "                                            0.0005               0.720968   \n",
       "...                                                                   ...   \n",
       "28        2         (512, 512) 0.2          0.0005               0.724302   \n",
       "                                            0.0010               0.723694   \n",
       "                               0.5          0.0001               0.736622   \n",
       "                                            0.0005               0.731644   \n",
       "                                            0.0010               0.729775   \n",
       "\n",
       "                                                           valid_f1  \\\n",
       "dimension sig_depth hidden_dim dropout_rate learning_rate             \n",
       "6         4         (128, 128) 0.1          0.0001         0.657176   \n",
       "                                            0.0005         0.653252   \n",
       "                                            0.0010         0.650999   \n",
       "                               0.2          0.0001         0.660672   \n",
       "                                            0.0005         0.654731   \n",
       "...                                                             ...   \n",
       "28        2         (512, 512) 0.2          0.0005         0.661219   \n",
       "                                            0.0010         0.655460   \n",
       "                               0.5          0.0001         0.671519   \n",
       "                                            0.0005         0.667673   \n",
       "                                            0.0010         0.662350   \n",
       "\n",
       "                                                           valid_precision  \\\n",
       "dimension sig_depth hidden_dim dropout_rate learning_rate                    \n",
       "6         4         (128, 128) 0.1          0.0001                0.647079   \n",
       "                                            0.0005                0.639734   \n",
       "                                            0.0010                0.637169   \n",
       "                               0.2          0.0001                0.649750   \n",
       "                                            0.0005                0.641635   \n",
       "...                                                                    ...   \n",
       "28        2         (512, 512) 0.2          0.0005                0.646518   \n",
       "                                            0.0010                0.643979   \n",
       "                               0.5          0.0001                0.660211   \n",
       "                                            0.0005                0.655386   \n",
       "                                            0.0010                0.651540   \n",
       "\n",
       "                                                           valid_recall  \\\n",
       "dimension sig_depth hidden_dim dropout_rate learning_rate                 \n",
       "6         4         (128, 128) 0.1          0.0001             0.671225   \n",
       "                                            0.0005             0.676041   \n",
       "                                            0.0010             0.673915   \n",
       "                               0.2          0.0001             0.675675   \n",
       "                                            0.0005             0.675585   \n",
       "...                                                                 ...   \n",
       "28        2         (512, 512) 0.2          0.0005             0.682787   \n",
       "                                            0.0010             0.671184   \n",
       "                               0.5          0.0001             0.686719   \n",
       "                                            0.0005             0.685292   \n",
       "                                            0.0010             0.676721   \n",
       "\n",
       "                                                            seed  gamma  \\\n",
       "dimension sig_depth hidden_dim dropout_rate learning_rate                 \n",
       "6         4         (128, 128) 0.1          0.0001         274.0    2.0   \n",
       "                                            0.0005         274.0    2.0   \n",
       "                                            0.0010         274.0    2.0   \n",
       "                               0.2          0.0001         274.0    2.0   \n",
       "                                            0.0005         274.0    2.0   \n",
       "...                                                          ...    ...   \n",
       "28        2         (512, 512) 0.2          0.0005         274.0    2.0   \n",
       "                                            0.0010         274.0    2.0   \n",
       "                               0.5          0.0001         274.0    2.0   \n",
       "                                            0.0005         274.0    2.0   \n",
       "                                            0.0010         274.0    2.0   \n",
       "\n",
       "                                                           k_fold  n_splits  \\\n",
       "dimension sig_depth hidden_dim dropout_rate learning_rate                     \n",
       "6         4         (128, 128) 0.1          0.0001            1.0       5.0   \n",
       "                                            0.0005            1.0       5.0   \n",
       "                                            0.0010            1.0       5.0   \n",
       "                               0.2          0.0001            1.0       5.0   \n",
       "                                            0.0005            1.0       5.0   \n",
       "...                                                           ...       ...   \n",
       "28        2         (512, 512) 0.2          0.0005            1.0       5.0   \n",
       "                                            0.0010            1.0       5.0   \n",
       "                               0.5          0.0001            1.0       5.0   \n",
       "                                            0.0005            1.0       5.0   \n",
       "                                            0.0010            1.0       5.0   \n",
       "\n",
       "                                                           batch_size  \\\n",
       "dimension sig_depth hidden_dim dropout_rate learning_rate               \n",
       "6         4         (128, 128) 0.1          0.0001               64.0   \n",
       "                                            0.0005               64.0   \n",
       "                                            0.0010               64.0   \n",
       "                               0.2          0.0001               64.0   \n",
       "                                            0.0005               64.0   \n",
       "...                                                               ...   \n",
       "28        2         (512, 512) 0.2          0.0005               64.0   \n",
       "                                            0.0010               64.0   \n",
       "                               0.5          0.0001               64.0   \n",
       "                                            0.0005               64.0   \n",
       "                                            0.0010               64.0   \n",
       "\n",
       "                                                           model_id  \\\n",
       "dimension sig_depth hidden_dim dropout_rate learning_rate             \n",
       "6         4         (128, 128) 0.1          0.0001             2.70   \n",
       "                                            0.0005             2.80   \n",
       "                                            0.0010             2.60   \n",
       "                               0.2          0.0001             2.40   \n",
       "                                            0.0005             2.50   \n",
       "...                                                             ...   \n",
       "28        2         (512, 512) 0.2          0.0005             0.23   \n",
       "                                            0.0010             0.21   \n",
       "                               0.5          0.0001             0.19   \n",
       "                                            0.0005             0.20   \n",
       "                                            0.0010             0.18   \n",
       "\n",
       "                                                           input_dim  \\\n",
       "dimension sig_depth hidden_dim dropout_rate learning_rate              \n",
       "6         4         (128, 128) 0.1          0.0001             790.0   \n",
       "                                            0.0005             790.0   \n",
       "                                            0.0010             790.0   \n",
       "                               0.2          0.0001             790.0   \n",
       "                                            0.0005             790.0   \n",
       "...                                                              ...   \n",
       "28        2         (512, 512) 0.2          0.0005             790.0   \n",
       "                                            0.0010             790.0   \n",
       "                               0.5          0.0001             790.0   \n",
       "                                            0.0005             790.0   \n",
       "                                            0.0010             790.0   \n",
       "\n",
       "                                                           log_signature  \n",
       "dimension sig_depth hidden_dim dropout_rate learning_rate                 \n",
       "6         4         (128, 128) 0.1          0.0001                   1.0  \n",
       "                                            0.0005                   1.0  \n",
       "                                            0.0010                   1.0  \n",
       "                               0.2          0.0001                   1.0  \n",
       "                                            0.0005                   1.0  \n",
       "...                                                                  ...  \n",
       "28        2         (512, 512) 0.2          0.0005                   1.0  \n",
       "                                            0.0010                   1.0  \n",
       "                               0.5          0.0001                   1.0  \n",
       "                                            0.0005                   1.0  \n",
       "                                            0.0010                   1.0  \n",
       "\n",
       "[81 rows x 16 columns]"
      ]
     },
     "execution_count": 21,
     "metadata": {},
     "output_type": "execute_result"
    }
   ],
   "source": [
    "ffn_logsignature_grp_kfold.groupby([\"dimension\", \"sig_depth\", \"hidden_dim\", \"dropout_rate\", \"learning_rate\"]).mean()"
   ]
  },
  {
   "cell_type": "code",
   "execution_count": 22,
   "id": "012f6fd3",
   "metadata": {},
   "outputs": [
    {
     "data": {
      "text/html": [
       "<div>\n",
       "<style scoped>\n",
       "    .dataframe tbody tr th:only-of-type {\n",
       "        vertical-align: middle;\n",
       "    }\n",
       "\n",
       "    .dataframe tbody tr th {\n",
       "        vertical-align: top;\n",
       "    }\n",
       "\n",
       "    .dataframe thead th {\n",
       "        text-align: right;\n",
       "    }\n",
       "</style>\n",
       "<table border=\"1\" class=\"dataframe\">\n",
       "  <thead>\n",
       "    <tr style=\"text-align: right;\">\n",
       "      <th></th>\n",
       "      <th>loss</th>\n",
       "      <th>accuracy</th>\n",
       "      <th>f1</th>\n",
       "      <th>f1_scores</th>\n",
       "      <th>precision</th>\n",
       "      <th>precision_scores</th>\n",
       "      <th>recall</th>\n",
       "      <th>recall_scores</th>\n",
       "      <th>valid_loss</th>\n",
       "      <th>valid_accuracy</th>\n",
       "      <th>...</th>\n",
       "      <th>loss_function</th>\n",
       "      <th>gamma</th>\n",
       "      <th>k_fold</th>\n",
       "      <th>n_splits</th>\n",
       "      <th>batch_size</th>\n",
       "      <th>input_dim</th>\n",
       "      <th>dimension</th>\n",
       "      <th>sig_depth</th>\n",
       "      <th>method</th>\n",
       "      <th>log_signature</th>\n",
       "    </tr>\n",
       "  </thead>\n",
       "  <tbody>\n",
       "    <tr>\n",
       "      <th>0</th>\n",
       "      <td>None</td>\n",
       "      <td>0.736654</td>\n",
       "      <td>0.669513</td>\n",
       "      <td>[0.817209470015623, 0.6320267395928288, 0.5593...</td>\n",
       "      <td>0.661426</td>\n",
       "      <td>[0.8284600389863548, 0.640788662969809, 0.5150...</td>\n",
       "      <td>0.680555</td>\n",
       "      <td>[0.8062603746739389, 0.6235011990407674, 0.611...</td>\n",
       "      <td>None</td>\n",
       "      <td>0.739077</td>\n",
       "      <td>...</td>\n",
       "      <td>focal</td>\n",
       "      <td>2</td>\n",
       "      <td>True</td>\n",
       "      <td>5</td>\n",
       "      <td>64</td>\n",
       "      <td>790</td>\n",
       "      <td>28</td>\n",
       "      <td>2</td>\n",
       "      <td>gaussian_random_projection</td>\n",
       "      <td>True</td>\n",
       "    </tr>\n",
       "    <tr>\n",
       "      <th>0</th>\n",
       "      <td>None</td>\n",
       "      <td>0.734870</td>\n",
       "      <td>0.670863</td>\n",
       "      <td>[0.8141528800869461, 0.6308113035551504, 0.567...</td>\n",
       "      <td>0.660841</td>\n",
       "      <td>[0.8294783464566929, 0.6395563770794824, 0.513...</td>\n",
       "      <td>0.685403</td>\n",
       "      <td>[0.7993834479487788, 0.6223021582733813, 0.634...</td>\n",
       "      <td>None</td>\n",
       "      <td>0.736937</td>\n",
       "      <td>...</td>\n",
       "      <td>focal</td>\n",
       "      <td>2</td>\n",
       "      <td>True</td>\n",
       "      <td>5</td>\n",
       "      <td>64</td>\n",
       "      <td>790</td>\n",
       "      <td>28</td>\n",
       "      <td>2</td>\n",
       "      <td>gaussian_random_projection</td>\n",
       "      <td>True</td>\n",
       "    </tr>\n",
       "    <tr>\n",
       "      <th>0</th>\n",
       "      <td>None</td>\n",
       "      <td>0.735465</td>\n",
       "      <td>0.673377</td>\n",
       "      <td>[0.8128420284567675, 0.6390708755211436, 0.568...</td>\n",
       "      <td>0.661732</td>\n",
       "      <td>[0.8342486270594108, 0.6349112426035503, 0.516...</td>\n",
       "      <td>0.689312</td>\n",
       "      <td>[0.7925065212236186, 0.6432853717026379, 0.632...</td>\n",
       "      <td>None</td>\n",
       "      <td>0.738063</td>\n",
       "      <td>...</td>\n",
       "      <td>focal</td>\n",
       "      <td>2</td>\n",
       "      <td>True</td>\n",
       "      <td>5</td>\n",
       "      <td>64</td>\n",
       "      <td>790</td>\n",
       "      <td>28</td>\n",
       "      <td>2</td>\n",
       "      <td>gaussian_random_projection</td>\n",
       "      <td>True</td>\n",
       "    </tr>\n",
       "    <tr>\n",
       "      <th>0</th>\n",
       "      <td>None</td>\n",
       "      <td>0.732342</td>\n",
       "      <td>0.669212</td>\n",
       "      <td>[0.8109555690809496, 0.6342469790745653, 0.562...</td>\n",
       "      <td>0.657967</td>\n",
       "      <td>[0.8331665832916458, 0.623768115942029, 0.5169...</td>\n",
       "      <td>0.683883</td>\n",
       "      <td>[0.7898980317761441, 0.645083932853717, 0.6166...</td>\n",
       "      <td>None</td>\n",
       "      <td>0.736937</td>\n",
       "      <td>...</td>\n",
       "      <td>focal</td>\n",
       "      <td>2</td>\n",
       "      <td>True</td>\n",
       "      <td>5</td>\n",
       "      <td>64</td>\n",
       "      <td>790</td>\n",
       "      <td>28</td>\n",
       "      <td>2</td>\n",
       "      <td>gaussian_random_projection</td>\n",
       "      <td>True</td>\n",
       "    </tr>\n",
       "    <tr>\n",
       "      <th>0</th>\n",
       "      <td>None</td>\n",
       "      <td>0.729963</td>\n",
       "      <td>0.665707</td>\n",
       "      <td>[0.8094249786350872, 0.63556338028169, 0.55213...</td>\n",
       "      <td>0.654009</td>\n",
       "      <td>[0.8341721187720181, 0.6224137931034482, 0.505...</td>\n",
       "      <td>0.681239</td>\n",
       "      <td>[0.7861038653070903, 0.6492805755395683, 0.608...</td>\n",
       "      <td>None</td>\n",
       "      <td>0.732095</td>\n",
       "      <td>...</td>\n",
       "      <td>focal</td>\n",
       "      <td>2</td>\n",
       "      <td>True</td>\n",
       "      <td>5</td>\n",
       "      <td>64</td>\n",
       "      <td>790</td>\n",
       "      <td>28</td>\n",
       "      <td>2</td>\n",
       "      <td>gaussian_random_projection</td>\n",
       "      <td>True</td>\n",
       "    </tr>\n",
       "  </tbody>\n",
       "</table>\n",
       "<p>5 rows × 30 columns</p>\n",
       "</div>"
      ],
      "text/plain": [
       "   loss  accuracy        f1  \\\n",
       "0  None  0.736654  0.669513   \n",
       "0  None  0.734870  0.670863   \n",
       "0  None  0.735465  0.673377   \n",
       "0  None  0.732342  0.669212   \n",
       "0  None  0.729963  0.665707   \n",
       "\n",
       "                                           f1_scores  precision  \\\n",
       "0  [0.817209470015623, 0.6320267395928288, 0.5593...   0.661426   \n",
       "0  [0.8141528800869461, 0.6308113035551504, 0.567...   0.660841   \n",
       "0  [0.8128420284567675, 0.6390708755211436, 0.568...   0.661732   \n",
       "0  [0.8109555690809496, 0.6342469790745653, 0.562...   0.657967   \n",
       "0  [0.8094249786350872, 0.63556338028169, 0.55213...   0.654009   \n",
       "\n",
       "                                    precision_scores    recall  \\\n",
       "0  [0.8284600389863548, 0.640788662969809, 0.5150...  0.680555   \n",
       "0  [0.8294783464566929, 0.6395563770794824, 0.513...  0.685403   \n",
       "0  [0.8342486270594108, 0.6349112426035503, 0.516...  0.689312   \n",
       "0  [0.8331665832916458, 0.623768115942029, 0.5169...  0.683883   \n",
       "0  [0.8341721187720181, 0.6224137931034482, 0.505...  0.681239   \n",
       "\n",
       "                                       recall_scores valid_loss  \\\n",
       "0  [0.8062603746739389, 0.6235011990407674, 0.611...       None   \n",
       "0  [0.7993834479487788, 0.6223021582733813, 0.634...       None   \n",
       "0  [0.7925065212236186, 0.6432853717026379, 0.632...       None   \n",
       "0  [0.7898980317761441, 0.645083932853717, 0.6166...       None   \n",
       "0  [0.7861038653070903, 0.6492805755395683, 0.608...       None   \n",
       "\n",
       "   valid_accuracy  ...  loss_function gamma  k_fold n_splits  batch_size  \\\n",
       "0        0.739077  ...          focal     2    True        5          64   \n",
       "0        0.736937  ...          focal     2    True        5          64   \n",
       "0        0.738063  ...          focal     2    True        5          64   \n",
       "0        0.736937  ...          focal     2    True        5          64   \n",
       "0        0.732095  ...          focal     2    True        5          64   \n",
       "\n",
       "  input_dim dimension  sig_depth                      method  log_signature  \n",
       "0       790        28          2  gaussian_random_projection           True  \n",
       "0       790        28          2  gaussian_random_projection           True  \n",
       "0       790        28          2  gaussian_random_projection           True  \n",
       "0       790        28          2  gaussian_random_projection           True  \n",
       "0       790        28          2  gaussian_random_projection           True  \n",
       "\n",
       "[5 rows x 30 columns]"
      ]
     },
     "execution_count": 22,
     "metadata": {},
     "output_type": "execute_result"
    }
   ],
   "source": [
    "best_ffn_logsignature_grp_kfold"
   ]
  },
  {
   "cell_type": "code",
   "execution_count": 23,
   "id": "0ff79def",
   "metadata": {},
   "outputs": [
    {
     "data": {
      "text/plain": [
       "0.6697344898298014"
      ]
     },
     "execution_count": 23,
     "metadata": {},
     "output_type": "execute_result"
    }
   ],
   "source": [
    "best_ffn_logsignature_grp_kfold[\"f1\"].mean()"
   ]
  },
  {
   "cell_type": "code",
   "execution_count": 24,
   "id": "5c831580",
   "metadata": {},
   "outputs": [
    {
     "data": {
      "text/plain": [
       "0.6591948435897377"
      ]
     },
     "execution_count": 24,
     "metadata": {},
     "output_type": "execute_result"
    }
   ],
   "source": [
    "best_ffn_logsignature_grp_kfold[\"precision\"].mean()"
   ]
  },
  {
   "cell_type": "code",
   "execution_count": 25,
   "id": "2ce127cf",
   "metadata": {},
   "outputs": [
    {
     "data": {
      "text/plain": [
       "0.6840784604607382"
      ]
     },
     "execution_count": 25,
     "metadata": {},
     "output_type": "execute_result"
    }
   ],
   "source": [
    "best_ffn_logsignature_grp_kfold[\"recall\"].mean()"
   ]
  },
  {
   "cell_type": "code",
   "execution_count": 26,
   "id": "9d3b43a0",
   "metadata": {},
   "outputs": [
    {
     "data": {
      "text/plain": [
       "array([0.81291699, 0.63434386, 0.56194263])"
      ]
     },
     "execution_count": 26,
     "metadata": {},
     "output_type": "execute_result"
    }
   ],
   "source": [
    "np.stack(best_ffn_logsignature_grp_kfold[\"f1_scores\"]).mean(axis=0)"
   ]
  },
  {
   "cell_type": "code",
   "execution_count": 27,
   "id": "e5363973",
   "metadata": {},
   "outputs": [
    {
     "data": {
      "text/plain": [
       "array([0.83190514, 0.63228764, 0.51339175])"
      ]
     },
     "execution_count": 27,
     "metadata": {},
     "output_type": "execute_result"
    }
   ],
   "source": [
    "np.stack(best_ffn_logsignature_grp_kfold[\"precision_scores\"]).mean(axis=0)"
   ]
  },
  {
   "cell_type": "code",
   "execution_count": 28,
   "id": "7d4bd7ed",
   "metadata": {},
   "outputs": [
    {
     "data": {
      "text/plain": [
       "array([0.79483045, 0.63669065, 0.62071429])"
      ]
     },
     "execution_count": 28,
     "metadata": {},
     "output_type": "execute_result"
    }
   ],
   "source": [
    "np.stack(best_ffn_logsignature_grp_kfold[\"recall_scores\"]).mean(axis=0)"
   ]
  }
 ],
 "metadata": {
  "kernelspec": {
   "display_name": "nlpsig-networks",
   "language": "python",
   "name": "nlpsig-networks"
  },
  "language_info": {
   "codemirror_mode": {
    "name": "ipython",
    "version": 3
   },
   "file_extension": ".py",
   "mimetype": "text/x-python",
   "name": "python",
   "nbconvert_exporter": "python",
   "pygments_lexer": "ipython3",
   "version": "3.8.16"
  }
 },
 "nbformat": 4,
 "nbformat_minor": 5
}
