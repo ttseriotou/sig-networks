{
 "cells": [
  {
   "cell_type": "code",
   "execution_count": 1,
   "id": "a983a5e8",
   "metadata": {},
   "outputs": [],
   "source": [
    "import numpy as np\n",
    "import pickle\n",
    "import os\n",
    "from tqdm.notebook import tqdm\n",
    "\n",
    "seed = 2023"
   ]
  },
  {
   "cell_type": "code",
   "execution_count": 2,
   "id": "4b9c102c-13dd-4701-8781-91ec0d6ffe68",
   "metadata": {},
   "outputs": [
    {
     "data": {
      "text/plain": [
       "device(type='cuda')"
      ]
     },
     "execution_count": 2,
     "metadata": {},
     "output_type": "execute_result"
    }
   ],
   "source": [
    "import torch\n",
    "\n",
    "# set device\n",
    "device = torch.device(\"cuda\" if torch.cuda.is_available() else \"cpu\")\n",
    "device"
   ]
  },
  {
   "cell_type": "code",
   "execution_count": 3,
   "id": "e4e666cc",
   "metadata": {},
   "outputs": [],
   "source": [
    "from nlpsig_networks.scripts.swnu_network_functions import (\n",
    "    swnu_network_hyperparameter_search,\n",
    ")"
   ]
  },
  {
   "cell_type": "code",
   "execution_count": 4,
   "id": "6e918dde",
   "metadata": {},
   "outputs": [],
   "source": [
    "output_dir = \"client_talk_type_output\"\n",
    "if not os.path.isdir(output_dir):\n",
    "    os.makedirs(output_dir)"
   ]
  },
  {
   "cell_type": "markdown",
   "id": "f7409a03",
   "metadata": {},
   "source": [
    "## AnnoMI"
   ]
  },
  {
   "cell_type": "code",
   "execution_count": 5,
   "id": "f00bb922",
   "metadata": {},
   "outputs": [],
   "source": [
    "%run ../load_anno_mi.py"
   ]
  },
  {
   "cell_type": "code",
   "execution_count": 6,
   "id": "720d820f",
   "metadata": {},
   "outputs": [
    {
     "data": {
      "text/html": [
       "<div>\n",
       "<style scoped>\n",
       "    .dataframe tbody tr th:only-of-type {\n",
       "        vertical-align: middle;\n",
       "    }\n",
       "\n",
       "    .dataframe tbody tr th {\n",
       "        vertical-align: top;\n",
       "    }\n",
       "\n",
       "    .dataframe thead th {\n",
       "        text-align: right;\n",
       "    }\n",
       "</style>\n",
       "<table border=\"1\" class=\"dataframe\">\n",
       "  <thead>\n",
       "    <tr style=\"text-align: right;\">\n",
       "      <th></th>\n",
       "      <th>mi_quality</th>\n",
       "      <th>transcript_id</th>\n",
       "      <th>topic</th>\n",
       "      <th>utterance_id</th>\n",
       "      <th>interlocutor</th>\n",
       "      <th>timestamp</th>\n",
       "      <th>utterance_text</th>\n",
       "      <th>annotator_id</th>\n",
       "      <th>therapist_input_exists</th>\n",
       "      <th>therapist_input_subtype</th>\n",
       "      <th>reflection_exists</th>\n",
       "      <th>reflection_subtype</th>\n",
       "      <th>question_exists</th>\n",
       "      <th>question_subtype</th>\n",
       "      <th>main_therapist_behaviour</th>\n",
       "      <th>client_talk_type</th>\n",
       "      <th>datetime</th>\n",
       "      <th>speaker</th>\n",
       "    </tr>\n",
       "  </thead>\n",
       "  <tbody>\n",
       "    <tr>\n",
       "      <th>0</th>\n",
       "      <td>high</td>\n",
       "      <td>0</td>\n",
       "      <td>reducing alcohol consumption</td>\n",
       "      <td>0</td>\n",
       "      <td>therapist</td>\n",
       "      <td>00:00:13</td>\n",
       "      <td>Thanks for filling it out. We give this form t...</td>\n",
       "      <td>3</td>\n",
       "      <td>False</td>\n",
       "      <td>NaN</td>\n",
       "      <td>False</td>\n",
       "      <td>NaN</td>\n",
       "      <td>True</td>\n",
       "      <td>open</td>\n",
       "      <td>question</td>\n",
       "      <td>NaN</td>\n",
       "      <td>2023-10-04 00:00:13</td>\n",
       "      <td>-1</td>\n",
       "    </tr>\n",
       "    <tr>\n",
       "      <th>1</th>\n",
       "      <td>high</td>\n",
       "      <td>0</td>\n",
       "      <td>reducing alcohol consumption</td>\n",
       "      <td>1</td>\n",
       "      <td>client</td>\n",
       "      <td>00:00:24</td>\n",
       "      <td>Sure.</td>\n",
       "      <td>3</td>\n",
       "      <td>NaN</td>\n",
       "      <td>NaN</td>\n",
       "      <td>NaN</td>\n",
       "      <td>NaN</td>\n",
       "      <td>NaN</td>\n",
       "      <td>NaN</td>\n",
       "      <td>NaN</td>\n",
       "      <td>neutral</td>\n",
       "      <td>2023-10-04 00:00:24</td>\n",
       "      <td>1</td>\n",
       "    </tr>\n",
       "    <tr>\n",
       "      <th>2</th>\n",
       "      <td>high</td>\n",
       "      <td>0</td>\n",
       "      <td>reducing alcohol consumption</td>\n",
       "      <td>2</td>\n",
       "      <td>therapist</td>\n",
       "      <td>00:00:25</td>\n",
       "      <td>So, let's see. It looks that you put-- You dri...</td>\n",
       "      <td>3</td>\n",
       "      <td>True</td>\n",
       "      <td>information</td>\n",
       "      <td>False</td>\n",
       "      <td>NaN</td>\n",
       "      <td>False</td>\n",
       "      <td>NaN</td>\n",
       "      <td>therapist_input</td>\n",
       "      <td>NaN</td>\n",
       "      <td>2023-10-04 00:00:25</td>\n",
       "      <td>-1</td>\n",
       "    </tr>\n",
       "    <tr>\n",
       "      <th>3</th>\n",
       "      <td>high</td>\n",
       "      <td>0</td>\n",
       "      <td>reducing alcohol consumption</td>\n",
       "      <td>3</td>\n",
       "      <td>client</td>\n",
       "      <td>00:00:34</td>\n",
       "      <td>Mm-hmm.</td>\n",
       "      <td>3</td>\n",
       "      <td>NaN</td>\n",
       "      <td>NaN</td>\n",
       "      <td>NaN</td>\n",
       "      <td>NaN</td>\n",
       "      <td>NaN</td>\n",
       "      <td>NaN</td>\n",
       "      <td>NaN</td>\n",
       "      <td>neutral</td>\n",
       "      <td>2023-10-04 00:00:34</td>\n",
       "      <td>1</td>\n",
       "    </tr>\n",
       "    <tr>\n",
       "      <th>4</th>\n",
       "      <td>high</td>\n",
       "      <td>0</td>\n",
       "      <td>reducing alcohol consumption</td>\n",
       "      <td>4</td>\n",
       "      <td>therapist</td>\n",
       "      <td>00:00:34</td>\n",
       "      <td>-and you usually have three to four drinks whe...</td>\n",
       "      <td>3</td>\n",
       "      <td>True</td>\n",
       "      <td>information</td>\n",
       "      <td>False</td>\n",
       "      <td>NaN</td>\n",
       "      <td>False</td>\n",
       "      <td>NaN</td>\n",
       "      <td>therapist_input</td>\n",
       "      <td>NaN</td>\n",
       "      <td>2023-10-04 00:00:34</td>\n",
       "      <td>-1</td>\n",
       "    </tr>\n",
       "  </tbody>\n",
       "</table>\n",
       "</div>"
      ],
      "text/plain": [
       "  mi_quality  transcript_id                         topic  utterance_id  \\\n",
       "0       high              0  reducing alcohol consumption             0   \n",
       "1       high              0  reducing alcohol consumption             1   \n",
       "2       high              0  reducing alcohol consumption             2   \n",
       "3       high              0  reducing alcohol consumption             3   \n",
       "4       high              0  reducing alcohol consumption             4   \n",
       "\n",
       "  interlocutor timestamp                                     utterance_text  \\\n",
       "0    therapist  00:00:13  Thanks for filling it out. We give this form t...   \n",
       "1       client  00:00:24                                              Sure.   \n",
       "2    therapist  00:00:25  So, let's see. It looks that you put-- You dri...   \n",
       "3       client  00:00:34                                            Mm-hmm.   \n",
       "4    therapist  00:00:34  -and you usually have three to four drinks whe...   \n",
       "\n",
       "   annotator_id therapist_input_exists therapist_input_subtype  \\\n",
       "0             3                  False                     NaN   \n",
       "1             3                    NaN                     NaN   \n",
       "2             3                   True             information   \n",
       "3             3                    NaN                     NaN   \n",
       "4             3                   True             information   \n",
       "\n",
       "  reflection_exists reflection_subtype question_exists question_subtype  \\\n",
       "0             False                NaN            True             open   \n",
       "1               NaN                NaN             NaN              NaN   \n",
       "2             False                NaN           False              NaN   \n",
       "3               NaN                NaN             NaN              NaN   \n",
       "4             False                NaN           False              NaN   \n",
       "\n",
       "  main_therapist_behaviour client_talk_type            datetime  speaker  \n",
       "0                 question              NaN 2023-10-04 00:00:13       -1  \n",
       "1                      NaN          neutral 2023-10-04 00:00:24        1  \n",
       "2          therapist_input              NaN 2023-10-04 00:00:25       -1  \n",
       "3                      NaN          neutral 2023-10-04 00:00:34        1  \n",
       "4          therapist_input              NaN 2023-10-04 00:00:34       -1  "
      ]
     },
     "execution_count": 6,
     "metadata": {},
     "output_type": "execute_result"
    }
   ],
   "source": [
    "anno_mi.head()"
   ]
  },
  {
   "cell_type": "code",
   "execution_count": 7,
   "id": "84d5594d",
   "metadata": {},
   "outputs": [
    {
     "data": {
      "text/plain": [
       "(9699, 384)"
      ]
     },
     "execution_count": 7,
     "metadata": {},
     "output_type": "execute_result"
    }
   ],
   "source": [
    "with open(\"../anno_mi_sbert.pkl\", \"rb\") as f:\n",
    "    sbert_embeddings = pickle.load(f)\n",
    "\n",
    "sbert_embeddings.shape"
   ]
  },
  {
   "cell_type": "markdown",
   "id": "da4ff92d",
   "metadata": {},
   "source": [
    "# SWNU Network"
   ]
  },
  {
   "cell_type": "markdown",
   "id": "32ae1a72",
   "metadata": {
    "tags": []
   },
   "source": [
    "## Obtaining path by looking at post history\n",
    "\n",
    "We can obtain a path by looking at the history of each post. Here we look at the last 10 posts (and pad with vectors of zeros if there are less than 10 posts) including the current post.\n",
    "\n",
    "We only want to consider paths that correspond to a client's utterance as we want to model a change in mood at that time. Their history will still contain the therapist's utterances too."
   ]
  },
  {
   "cell_type": "code",
   "execution_count": 8,
   "id": "90bfd87c",
   "metadata": {},
   "outputs": [],
   "source": [
    "features = [\"timeline_index\", \"speaker\"]\n",
    "standardise_method = [None, None]\n",
    "include_features_in_path = True\n",
    "include_features_in_input = False"
   ]
  },
  {
   "cell_type": "code",
   "execution_count": 9,
   "id": "9e9bee3b",
   "metadata": {},
   "outputs": [],
   "source": [
    "num_epochs = 100\n",
    "dimensions = [15]\n",
    "swnu_hidden_dim_sizes_and_sig_depths = [([12], 3), ([10], 4)]\n",
    "ffn_hidden_dim_sizes = [[256, 256], [512, 512]]\n",
    "dropout_rates = [0.1, 0.2]\n",
    "learning_rates = [1e-3, 1e-4, 5e-4]\n",
    "seeds = [1, 12, 123]\n",
    "loss = \"focal\"\n",
    "gamma = 2\n",
    "validation_metric = \"f1\"\n",
    "patience = 5"
   ]
  },
  {
   "cell_type": "code",
   "execution_count": 10,
   "id": "9fab6942",
   "metadata": {},
   "outputs": [],
   "source": [
    "kwargs = {\n",
    "    \"num_epochs\": num_epochs,\n",
    "    \"df\": anno_mi,\n",
    "    \"id_column\": \"transcript_id\",\n",
    "    \"label_column\": \"client_talk_type\",\n",
    "    \"embeddings\": sbert_embeddings,\n",
    "    \"y_data\": y_data_client,\n",
    "    \"output_dim\": output_dim_client,\n",
    "    \"dimensions\": dimensions,\n",
    "    \"log_signature\": True,\n",
    "    \"pooling\": \"signature\",\n",
    "    \"swnu_hidden_dim_sizes_and_sig_depths\": swnu_hidden_dim_sizes_and_sig_depths,\n",
    "    \"ffn_hidden_dim_sizes\": ffn_hidden_dim_sizes,\n",
    "    \"dropout_rates\": dropout_rates,\n",
    "    \"learning_rates\": learning_rates,\n",
    "    \"BiLSTM\": True,\n",
    "    \"seeds\": seeds,\n",
    "    \"loss\": loss,\n",
    "    \"gamma\": gamma,\n",
    "    \"device\": device,\n",
    "    \"features\": features,\n",
    "    \"standardise_method\": standardise_method,\n",
    "    \"include_features_in_path\": include_features_in_path,\n",
    "    \"include_features_in_input\": include_features_in_input,\n",
    "    \"path_indices\": client_index,\n",
    "    \"split_ids\": client_transcript_id,\n",
    "    \"k_fold\": True,\n",
    "    \"patience\": patience,\n",
    "    \"validation_metric\": validation_metric,\n",
    "    \"verbose\": False,\n",
    "}"
   ]
  },
  {
   "cell_type": "markdown",
   "id": "cc094df3-8db5-433a-81f1-b15049bbc387",
   "metadata": {
    "tags": []
   },
   "source": [
    "# w=5"
   ]
  },
  {
   "cell_type": "code",
   "execution_count": 11,
   "id": "8ab8093d-a703-4753-979d-1863d6169428",
   "metadata": {},
   "outputs": [],
   "source": [
    "size = 5"
   ]
  },
  {
   "cell_type": "markdown",
   "id": "0aa0d7d0-93ec-440d-9192-0427774bfae1",
   "metadata": {},
   "source": [
    "## UMAP"
   ]
  },
  {
   "cell_type": "code",
   "execution_count": 12,
   "id": "3739e09a",
   "metadata": {
    "tags": []
   },
   "outputs": [
    {
     "data": {
      "application/vnd.jupyter.widget-view+json": {
       "model_id": "53dac1da6aac4244b276206fd024220b",
       "version_major": 2,
       "version_minor": 0
      },
      "text/plain": [
       "  0%|          | 0/1 [00:00<?, ?it/s]"
      ]
     },
     "metadata": {},
     "output_type": "display_data"
    },
    {
     "data": {
      "application/vnd.jupyter.widget-view+json": {
       "model_id": "4d8e587a0c45472f91f48d3a31995135",
       "version_major": 2,
       "version_minor": 0
      },
      "text/plain": [
       "  0%|          | 0/1 [00:00<?, ?it/s]"
      ]
     },
     "metadata": {},
     "output_type": "display_data"
    },
    {
     "data": {
      "application/vnd.jupyter.widget-view+json": {
       "model_id": "ee3e9a49def841f2bc423274dfdea0ac",
       "version_major": 2,
       "version_minor": 0
      },
      "text/plain": [
       "  0%|          | 0/1 [00:00<?, ?it/s]"
      ]
     },
     "metadata": {},
     "output_type": "display_data"
    },
    {
     "name": "stdout",
     "output_type": "stream",
     "text": [
      "\n",
      "##################################################\n",
      "dimension: 15 | method: umap\n",
      "[INFO] Concatenating the embeddings to the dataframe...\n",
      "[INFO] - columns beginning with 'e' denote the full embddings.\n",
      "[INFO] - columns beginning with 'd' denote the dimension reduced embeddings.\n",
      "[INFO] Adding time feature columns into dataframe in `.df`.\n",
      "[INFO] Adding 'time_encoding' feature...\n",
      "[INFO] Adding 'time_diff' feature...\n",
      "[INFO] Adding 'timeline_index' feature...\n",
      "[INFO] Padding ids and storing in `.df_padded` and `.array_padded` attributes.\n"
     ]
    },
    {
     "data": {
      "application/vnd.jupyter.widget-view+json": {
       "model_id": "12dbfddb55cf4bf6a5e24e7af1d7d592",
       "version_major": 2,
       "version_minor": 0
      },
      "text/plain": [
       "  0%|          | 0/9699 [00:00<?, ?it/s]"
      ]
     },
     "metadata": {},
     "output_type": "display_data"
    },
    {
     "name": "stdout",
     "output_type": "stream",
     "text": [
      "[INFO] The path was created for each item in the dataframe, by looking at its history, so to include embeddings in the FFN input, we concatenate the embeddings for each sentence / text.\n"
     ]
    },
    {
     "data": {
      "application/vnd.jupyter.widget-view+json": {
       "model_id": "25c8c7b236454a95aac7e1ce33be8132",
       "version_major": 2,
       "version_minor": 0
      },
      "text/plain": [
       "  0%|          | 0/2 [00:00<?, ?it/s]"
      ]
     },
     "metadata": {},
     "output_type": "display_data"
    },
    {
     "data": {
      "application/vnd.jupyter.widget-view+json": {
       "model_id": "e586581b437e4aa7a63dddb264cac42b",
       "version_major": 2,
       "version_minor": 0
      },
      "text/plain": [
       "  0%|          | 0/2 [00:00<?, ?it/s]"
      ]
     },
     "metadata": {},
     "output_type": "display_data"
    },
    {
     "data": {
      "application/vnd.jupyter.widget-view+json": {
       "model_id": "414342110e91428aa00478c5160b2d99",
       "version_major": 2,
       "version_minor": 0
      },
      "text/plain": [
       "  0%|          | 0/1 [00:00<?, ?it/s]"
      ]
     },
     "metadata": {},
     "output_type": "display_data"
    },
    {
     "data": {
      "application/vnd.jupyter.widget-view+json": {
       "model_id": "1f0bf9d8f924418e8730ae43b8569440",
       "version_major": 2,
       "version_minor": 0
      },
      "text/plain": [
       "  0%|          | 0/2 [00:00<?, ?it/s]"
      ]
     },
     "metadata": {},
     "output_type": "display_data"
    },
    {
     "data": {
      "application/vnd.jupyter.widget-view+json": {
       "model_id": "1cbc088fdbd04329a7ed37aef046e52d",
       "version_major": 2,
       "version_minor": 0
      },
      "text/plain": [
       "  0%|          | 0/3 [00:00<?, ?it/s]"
      ]
     },
     "metadata": {},
     "output_type": "display_data"
    },
    {
     "ename": "AttributeError",
     "evalue": "'SWNU' object has no attribute 'output_dim'",
     "output_type": "error",
     "traceback": [
      "\u001b[0;31m---------------------------------------------------------------------------\u001b[0m",
      "\u001b[0;31mAttributeError\u001b[0m                            Traceback (most recent call last)",
      "Cell \u001b[0;32mIn[12], line 6\u001b[0m\n\u001b[1;32m      1\u001b[0m (\n\u001b[1;32m      2\u001b[0m     swnu_network_umap_kfold_5,\n\u001b[1;32m      3\u001b[0m     best_swnu_network_umap_kfold_5,\n\u001b[1;32m      4\u001b[0m     _,\n\u001b[1;32m      5\u001b[0m     __,\n\u001b[0;32m----> 6\u001b[0m ) \u001b[38;5;241m=\u001b[39m \u001b[43mswnu_network_hyperparameter_search\u001b[49m\u001b[43m(\u001b[49m\n\u001b[1;32m      7\u001b[0m \u001b[43m    \u001b[49m\u001b[43mhistory_lengths\u001b[49m\u001b[38;5;241;43m=\u001b[39;49m\u001b[43m[\u001b[49m\u001b[43msize\u001b[49m\u001b[43m]\u001b[49m\u001b[43m,\u001b[49m\n\u001b[1;32m      8\u001b[0m \u001b[43m    \u001b[49m\u001b[43mdim_reduce_methods\u001b[49m\u001b[38;5;241;43m=\u001b[39;49m\u001b[43m[\u001b[49m\u001b[38;5;124;43m\"\u001b[39;49m\u001b[38;5;124;43mumap\u001b[39;49m\u001b[38;5;124;43m\"\u001b[39;49m\u001b[43m]\u001b[49m\u001b[43m,\u001b[49m\n\u001b[1;32m      9\u001b[0m \u001b[43m    \u001b[49m\u001b[43mresults_output\u001b[49m\u001b[38;5;241;43m=\u001b[39;49m\u001b[38;5;124;43mf\u001b[39;49m\u001b[38;5;124;43m\"\u001b[39;49m\u001b[38;5;132;43;01m{\u001b[39;49;00m\u001b[43moutput_dir\u001b[49m\u001b[38;5;132;43;01m}\u001b[39;49;00m\u001b[38;5;124;43m/swnu_network_umap_focal_\u001b[39;49m\u001b[38;5;132;43;01m{\u001b[39;49;00m\u001b[43mgamma\u001b[49m\u001b[38;5;132;43;01m}\u001b[39;49;00m\u001b[38;5;124;43m_\u001b[39;49m\u001b[38;5;132;43;01m{\u001b[39;49;00m\u001b[43msize\u001b[49m\u001b[38;5;132;43;01m}\u001b[39;49;00m\u001b[38;5;124;43m_kfold.csv\u001b[39;49m\u001b[38;5;124;43m\"\u001b[39;49m\u001b[43m,\u001b[49m\n\u001b[1;32m     10\u001b[0m \u001b[43m    \u001b[49m\u001b[38;5;241;43m*\u001b[39;49m\u001b[38;5;241;43m*\u001b[39;49m\u001b[43mkwargs\u001b[49m\u001b[43m,\u001b[49m\n\u001b[1;32m     11\u001b[0m \u001b[43m)\u001b[49m\n",
      "File \u001b[0;32m/bask/projects/v/vjgo8416-rough-paths/nlpsig-networks/nlpsig_networks/scripts/swnu_network_functions.py:286\u001b[0m, in \u001b[0;36mswnu_network_hyperparameter_search\u001b[0;34m(num_epochs, df, id_column, label_column, embeddings, y_data, output_dim, history_lengths, dim_reduce_methods, dimensions, log_signature, pooling, swnu_hidden_dim_sizes_and_sig_depths, ffn_hidden_dim_sizes, dropout_rates, learning_rates, BiLSTM, seeds, loss, gamma, device, batch_size, features, standardise_method, include_features_in_path, include_features_in_input, conv_output_channels, augmentation_type, hidden_dim_aug, comb_method, path_indices, data_split_seed, split_ids, split_indices, k_fold, n_splits, patience, validation_metric, results_output, verbose)\u001b[0m\n\u001b[1;32m    284\u001b[0m verbose_model \u001b[38;5;241m=\u001b[39m verbose\n\u001b[1;32m    285\u001b[0m \u001b[38;5;28;01mfor\u001b[39;00m seed \u001b[38;5;129;01min\u001b[39;00m seeds:\n\u001b[0;32m--> 286\u001b[0m     _, results \u001b[38;5;241m=\u001b[39m \u001b[43mimplement_swnu_network\u001b[49m\u001b[43m(\u001b[49m\n\u001b[1;32m    287\u001b[0m \u001b[43m        \u001b[49m\u001b[43mnum_epochs\u001b[49m\u001b[38;5;241;43m=\u001b[39;49m\u001b[43mnum_epochs\u001b[49m\u001b[43m,\u001b[49m\n\u001b[1;32m    288\u001b[0m \u001b[43m        \u001b[49m\u001b[43mx_data\u001b[49m\u001b[38;5;241;43m=\u001b[39;49m\u001b[38;5;28;43minput\u001b[39;49m\u001b[43m[\u001b[49m\u001b[38;5;124;43m\"\u001b[39;49m\u001b[38;5;124;43mx_data\u001b[39;49m\u001b[38;5;124;43m\"\u001b[39;49m\u001b[43m]\u001b[49m\u001b[43m,\u001b[49m\n\u001b[1;32m    289\u001b[0m \u001b[43m        \u001b[49m\u001b[43my_data\u001b[49m\u001b[38;5;241;43m=\u001b[39;49m\u001b[43my_data\u001b[49m\u001b[43m,\u001b[49m\n\u001b[1;32m    290\u001b[0m \u001b[43m        \u001b[49m\u001b[43minput_channels\u001b[49m\u001b[38;5;241;43m=\u001b[39;49m\u001b[38;5;28;43minput\u001b[39;49m\u001b[43m[\u001b[49m\u001b[38;5;124;43m\"\u001b[39;49m\u001b[38;5;124;43minput_channels\u001b[39;49m\u001b[38;5;124;43m\"\u001b[39;49m\u001b[43m]\u001b[49m\u001b[43m,\u001b[49m\n\u001b[1;32m    291\u001b[0m \u001b[43m        \u001b[49m\u001b[43moutput_channels\u001b[49m\u001b[38;5;241;43m=\u001b[39;49m\u001b[43moutput_channels\u001b[49m\u001b[43m,\u001b[49m\n\u001b[1;32m    292\u001b[0m \u001b[43m        \u001b[49m\u001b[43membedding_dim\u001b[49m\u001b[38;5;241;43m=\u001b[39;49m\u001b[38;5;28;43minput\u001b[39;49m\u001b[43m[\u001b[49m\u001b[38;5;124;43m\"\u001b[39;49m\u001b[38;5;124;43membedding_dim\u001b[39;49m\u001b[38;5;124;43m\"\u001b[39;49m\u001b[43m]\u001b[49m\u001b[43m,\u001b[49m\n\u001b[1;32m    293\u001b[0m \u001b[43m        \u001b[49m\u001b[43mnum_features\u001b[49m\u001b[38;5;241;43m=\u001b[39;49m\u001b[38;5;28;43minput\u001b[39;49m\u001b[43m[\u001b[49m\u001b[38;5;124;43m\"\u001b[39;49m\u001b[38;5;124;43mnum_features\u001b[39;49m\u001b[38;5;124;43m\"\u001b[39;49m\u001b[43m]\u001b[49m\u001b[43m,\u001b[49m\n\u001b[1;32m    294\u001b[0m \u001b[43m        \u001b[49m\u001b[43mlog_signature\u001b[49m\u001b[38;5;241;43m=\u001b[39;49m\u001b[43mlog_signature\u001b[49m\u001b[43m,\u001b[49m\n\u001b[1;32m    295\u001b[0m \u001b[43m        \u001b[49m\u001b[43msig_depth\u001b[49m\u001b[38;5;241;43m=\u001b[39;49m\u001b[43msig_depth\u001b[49m\u001b[43m,\u001b[49m\n\u001b[1;32m    296\u001b[0m \u001b[43m        \u001b[49m\u001b[43mpooling\u001b[49m\u001b[38;5;241;43m=\u001b[39;49m\u001b[43mpooling\u001b[49m\u001b[43m,\u001b[49m\n\u001b[1;32m    297\u001b[0m \u001b[43m        \u001b[49m\u001b[43mswnu_hidden_dim\u001b[49m\u001b[38;5;241;43m=\u001b[39;49m\u001b[43mswnu_hidden_dim\u001b[49m\u001b[43m,\u001b[49m\n\u001b[1;32m    298\u001b[0m \u001b[43m        \u001b[49m\u001b[43mffn_hidden_dim\u001b[49m\u001b[38;5;241;43m=\u001b[39;49m\u001b[43mffn_hidden_dim\u001b[49m\u001b[43m,\u001b[49m\n\u001b[1;32m    299\u001b[0m \u001b[43m        \u001b[49m\u001b[43moutput_dim\u001b[49m\u001b[38;5;241;43m=\u001b[39;49m\u001b[43moutput_dim\u001b[49m\u001b[43m,\u001b[49m\n\u001b[1;32m    300\u001b[0m \u001b[43m        \u001b[49m\u001b[43mBiLSTM\u001b[49m\u001b[38;5;241;43m=\u001b[39;49m\u001b[43mBiLSTM\u001b[49m\u001b[43m,\u001b[49m\n\u001b[1;32m    301\u001b[0m \u001b[43m        \u001b[49m\u001b[43mdropout_rate\u001b[49m\u001b[38;5;241;43m=\u001b[39;49m\u001b[43mdropout\u001b[49m\u001b[43m,\u001b[49m\n\u001b[1;32m    302\u001b[0m \u001b[43m        \u001b[49m\u001b[43mlearning_rate\u001b[49m\u001b[38;5;241;43m=\u001b[39;49m\u001b[43mlr\u001b[49m\u001b[43m,\u001b[49m\n\u001b[1;32m    303\u001b[0m \u001b[43m        \u001b[49m\u001b[43mseed\u001b[49m\u001b[38;5;241;43m=\u001b[39;49m\u001b[43mseed\u001b[49m\u001b[43m,\u001b[49m\n\u001b[1;32m    304\u001b[0m \u001b[43m        \u001b[49m\u001b[43mloss\u001b[49m\u001b[38;5;241;43m=\u001b[39;49m\u001b[43mloss\u001b[49m\u001b[43m,\u001b[49m\n\u001b[1;32m    305\u001b[0m \u001b[43m        \u001b[49m\u001b[43mgamma\u001b[49m\u001b[38;5;241;43m=\u001b[39;49m\u001b[43mgamma\u001b[49m\u001b[43m,\u001b[49m\n\u001b[1;32m    306\u001b[0m \u001b[43m        \u001b[49m\u001b[43mdevice\u001b[49m\u001b[38;5;241;43m=\u001b[39;49m\u001b[43mdevice\u001b[49m\u001b[43m,\u001b[49m\n\u001b[1;32m    307\u001b[0m \u001b[43m        \u001b[49m\u001b[43mbatch_size\u001b[49m\u001b[38;5;241;43m=\u001b[39;49m\u001b[43mbatch_size\u001b[49m\u001b[43m,\u001b[49m\n\u001b[1;32m    308\u001b[0m \u001b[43m        \u001b[49m\u001b[43maugmentation_type\u001b[49m\u001b[38;5;241;43m=\u001b[39;49m\u001b[43maugmentation_type\u001b[49m\u001b[43m,\u001b[49m\n\u001b[1;32m    309\u001b[0m \u001b[43m        \u001b[49m\u001b[43mhidden_dim_aug\u001b[49m\u001b[38;5;241;43m=\u001b[39;49m\u001b[43mhidden_dim_aug\u001b[49m\u001b[43m,\u001b[49m\n\u001b[1;32m    310\u001b[0m \u001b[43m        \u001b[49m\u001b[43mcomb_method\u001b[49m\u001b[38;5;241;43m=\u001b[39;49m\u001b[43mcomb_method\u001b[49m\u001b[43m,\u001b[49m\n\u001b[1;32m    311\u001b[0m \u001b[43m        \u001b[49m\u001b[43mdata_split_seed\u001b[49m\u001b[38;5;241;43m=\u001b[39;49m\u001b[43mdata_split_seed\u001b[49m\u001b[43m,\u001b[49m\n\u001b[1;32m    312\u001b[0m \u001b[43m        \u001b[49m\u001b[43msplit_ids\u001b[49m\u001b[38;5;241;43m=\u001b[39;49m\u001b[43msplit_ids\u001b[49m\u001b[43m,\u001b[49m\n\u001b[1;32m    313\u001b[0m \u001b[43m        \u001b[49m\u001b[43msplit_indices\u001b[49m\u001b[38;5;241;43m=\u001b[39;49m\u001b[43msplit_indices\u001b[49m\u001b[43m,\u001b[49m\n\u001b[1;32m    314\u001b[0m \u001b[43m        \u001b[49m\u001b[43mk_fold\u001b[49m\u001b[38;5;241;43m=\u001b[39;49m\u001b[43mk_fold\u001b[49m\u001b[43m,\u001b[49m\n\u001b[1;32m    315\u001b[0m \u001b[43m        \u001b[49m\u001b[43mn_splits\u001b[49m\u001b[38;5;241;43m=\u001b[39;49m\u001b[43mn_splits\u001b[49m\u001b[43m,\u001b[49m\n\u001b[1;32m    316\u001b[0m \u001b[43m        \u001b[49m\u001b[43mpatience\u001b[49m\u001b[38;5;241;43m=\u001b[39;49m\u001b[43mpatience\u001b[49m\u001b[43m,\u001b[49m\n\u001b[1;32m    317\u001b[0m \u001b[43m        \u001b[49m\u001b[43mverbose_results\u001b[49m\u001b[38;5;241;43m=\u001b[39;49m\u001b[43mverbose\u001b[49m\u001b[43m,\u001b[49m\n\u001b[1;32m    318\u001b[0m \u001b[43m        \u001b[49m\u001b[43mverbose_model\u001b[49m\u001b[38;5;241;43m=\u001b[39;49m\u001b[43mverbose_model\u001b[49m\u001b[43m,\u001b[49m\n\u001b[1;32m    319\u001b[0m \u001b[43m    \u001b[49m\u001b[43m)\u001b[49m\n\u001b[1;32m    320\u001b[0m     \u001b[38;5;66;03m# save metric that we want to validate on\u001b[39;00m\n\u001b[1;32m    321\u001b[0m     \u001b[38;5;66;03m# take mean of performance on the folds\u001b[39;00m\n\u001b[1;32m    322\u001b[0m     \u001b[38;5;66;03m# if k_fold=False, return performance for seed\u001b[39;00m\n\u001b[1;32m    323\u001b[0m     scores\u001b[38;5;241m.\u001b[39mappend(\n\u001b[1;32m    324\u001b[0m         results[\u001b[38;5;124mf\u001b[39m\u001b[38;5;124m\"\u001b[39m\u001b[38;5;124mvalid_\u001b[39m\u001b[38;5;132;01m{\u001b[39;00mvalidation_metric\u001b[38;5;132;01m}\u001b[39;00m\u001b[38;5;124m\"\u001b[39m]\u001b[38;5;241m.\u001b[39mmean()\n\u001b[1;32m    325\u001b[0m     )\n",
      "File \u001b[0;32m/bask/projects/v/vjgo8416-rough-paths/nlpsig-networks/nlpsig_networks/scripts/swnu_network_functions.py:132\u001b[0m, in \u001b[0;36mimplement_swnu_network\u001b[0;34m(num_epochs, x_data, y_data, input_channels, num_features, embedding_dim, log_signature, sig_depth, pooling, swnu_hidden_dim, ffn_hidden_dim, output_dim, BiLSTM, dropout_rate, learning_rate, seed, loss, gamma, device, batch_size, output_channels, augmentation_type, hidden_dim_aug, comb_method, data_split_seed, split_ids, split_indices, k_fold, n_splits, patience, verbose_training, verbose_results, verbose_model)\u001b[0m\n\u001b[1;32m    114\u001b[0m \u001b[38;5;66;03m# initialise SWNUNetwork\u001b[39;00m\n\u001b[1;32m    115\u001b[0m SWNUNetwork_args \u001b[38;5;241m=\u001b[39m {\n\u001b[1;32m    116\u001b[0m     \u001b[38;5;124m\"\u001b[39m\u001b[38;5;124minput_channels\u001b[39m\u001b[38;5;124m\"\u001b[39m: input_channels,\n\u001b[1;32m    117\u001b[0m     \u001b[38;5;124m\"\u001b[39m\u001b[38;5;124membedding_dim\u001b[39m\u001b[38;5;124m\"\u001b[39m: embedding_dim,\n\u001b[0;32m   (...)\u001b[0m\n\u001b[1;32m    130\u001b[0m     \u001b[38;5;124m\"\u001b[39m\u001b[38;5;124mcomb_method\u001b[39m\u001b[38;5;124m\"\u001b[39m: comb_method,\n\u001b[1;32m    131\u001b[0m }\n\u001b[0;32m--> 132\u001b[0m swnu_network_model \u001b[38;5;241m=\u001b[39m \u001b[43mSWNUNetwork\u001b[49m\u001b[43m(\u001b[49m\u001b[38;5;241;43m*\u001b[39;49m\u001b[38;5;241;43m*\u001b[39;49m\u001b[43mSWNUNetwork_args\u001b[49m\u001b[43m)\u001b[49m\n\u001b[1;32m    134\u001b[0m \u001b[38;5;28;01mif\u001b[39;00m verbose_model:\n\u001b[1;32m    135\u001b[0m     \u001b[38;5;28mprint\u001b[39m(swnu_network_model)\n",
      "File \u001b[0;32m/bask/projects/v/vjgo8416-rough-paths/nlpsig-networks/nlpsig_networks/swnu_network.py:120\u001b[0m, in \u001b[0;36mSWNUNetwork.__init__\u001b[0;34m(self, input_channels, num_features, embedding_dim, log_signature, sig_depth, pooling, hidden_dim_swnu, hidden_dim_ffn, output_dim, dropout_rate, reverse_path, output_channels, augmentation_type, hidden_dim_aug, BiLSTM, comb_method)\u001b[0m\n\u001b[1;32m    117\u001b[0m \u001b[38;5;28mself\u001b[39m\u001b[38;5;241m.\u001b[39mnum_features \u001b[38;5;241m=\u001b[39m num_features\n\u001b[1;32m    118\u001b[0m \u001b[38;5;28mself\u001b[39m\u001b[38;5;241m.\u001b[39mcomb_method \u001b[38;5;241m=\u001b[39m comb_method\n\u001b[1;32m    119\u001b[0m \u001b[38;5;28mself\u001b[39m\u001b[38;5;241m.\u001b[39mfeature_concat \u001b[38;5;241m=\u001b[39m FeatureConcatenation(\n\u001b[0;32m--> 120\u001b[0m     input_dim\u001b[38;5;241m=\u001b[39m\u001b[38;5;28;43mself\u001b[39;49m\u001b[38;5;241;43m.\u001b[39;49m\u001b[43mswnu\u001b[49m\u001b[38;5;241;43m.\u001b[39;49m\u001b[43moutput_dim\u001b[49m,\n\u001b[1;32m    121\u001b[0m     num_features\u001b[38;5;241m=\u001b[39m\u001b[38;5;28mself\u001b[39m\u001b[38;5;241m.\u001b[39mnum_features,\n\u001b[1;32m    122\u001b[0m     embedding_dim\u001b[38;5;241m=\u001b[39m\u001b[38;5;28mself\u001b[39m\u001b[38;5;241m.\u001b[39membedding_dim,\n\u001b[1;32m    123\u001b[0m     comb_method\u001b[38;5;241m=\u001b[39m\u001b[38;5;28mself\u001b[39m\u001b[38;5;241m.\u001b[39mcomb_method,\n\u001b[1;32m    124\u001b[0m )\n\u001b[1;32m    126\u001b[0m \u001b[38;5;66;03m# FFN for classification\u001b[39;00m\n\u001b[1;32m    127\u001b[0m \u001b[38;5;66;03m# make sure hidden_dim_ffn a list of integers\u001b[39;00m\n\u001b[1;32m    128\u001b[0m \u001b[38;5;28;01mif\u001b[39;00m \u001b[38;5;28misinstance\u001b[39m(hidden_dim_ffn, \u001b[38;5;28mint\u001b[39m):\n",
      "File \u001b[0;32m/bask/projects/v/vjgo8416-rough-paths/envs/nlpsig-networks/lib/python3.8/site-packages/torch/nn/modules/module.py:1130\u001b[0m, in \u001b[0;36mModule.__getattr__\u001b[0;34m(self, name)\u001b[0m\n\u001b[1;32m   1128\u001b[0m     \u001b[38;5;28;01mif\u001b[39;00m name \u001b[38;5;129;01min\u001b[39;00m modules:\n\u001b[1;32m   1129\u001b[0m         \u001b[38;5;28;01mreturn\u001b[39;00m modules[name]\n\u001b[0;32m-> 1130\u001b[0m \u001b[38;5;28;01mraise\u001b[39;00m \u001b[38;5;167;01mAttributeError\u001b[39;00m(\u001b[38;5;124m\"\u001b[39m\u001b[38;5;124m'\u001b[39m\u001b[38;5;132;01m{}\u001b[39;00m\u001b[38;5;124m'\u001b[39m\u001b[38;5;124m object has no attribute \u001b[39m\u001b[38;5;124m'\u001b[39m\u001b[38;5;132;01m{}\u001b[39;00m\u001b[38;5;124m'\u001b[39m\u001b[38;5;124m\"\u001b[39m\u001b[38;5;241m.\u001b[39mformat(\n\u001b[1;32m   1131\u001b[0m     \u001b[38;5;28mtype\u001b[39m(\u001b[38;5;28mself\u001b[39m)\u001b[38;5;241m.\u001b[39m\u001b[38;5;18m__name__\u001b[39m, name))\n",
      "\u001b[0;31mAttributeError\u001b[0m: 'SWNU' object has no attribute 'output_dim'"
     ]
    }
   ],
   "source": [
    "(\n",
    "    swnu_network_umap_kfold_5,\n",
    "    best_swnu_network_umap_kfold_5,\n",
    "    _,\n",
    "    __,\n",
    ") = swnu_network_hyperparameter_search(\n",
    "    history_lengths=[size],\n",
    "    dim_reduce_methods=[\"umap\"],\n",
    "    results_output=f\"{output_dir}/swnu_network_umap_focal_{gamma}_{size}_kfold.csv\",\n",
    "    **kwargs,\n",
    ")"
   ]
  },
  {
   "cell_type": "code",
   "execution_count": null,
   "id": "7fbe2178-4ae1-4163-8908-c4860e4cfce2",
   "metadata": {},
   "outputs": [],
   "source": [
    "swnu_network_umap_kfold_5.groupby(\n",
    "    [\"dimensions\", \"swnu_hidden_dim\", \"ffn_hidden_dim\", \"dropout_rate\", \"learning_rate\"]\n",
    ").mean()"
   ]
  },
  {
   "cell_type": "code",
   "execution_count": null,
   "id": "37afb0ff-1eed-4ff8-afdc-2387e93c5a3b",
   "metadata": {},
   "outputs": [],
   "source": [
    "best_swnu_network_umap_kfold_5"
   ]
  },
  {
   "cell_type": "code",
   "execution_count": null,
   "id": "2d8e978d-4989-4cc6-8d37-5b314ed0e5df",
   "metadata": {},
   "outputs": [],
   "source": [
    "best_swnu_network_umap_kfold_5[\"f1\"].mean()"
   ]
  },
  {
   "cell_type": "code",
   "execution_count": null,
   "id": "561ea9ca-9b3d-43ee-b987-016124ec580b",
   "metadata": {},
   "outputs": [],
   "source": [
    "best_swnu_network_umap_kfold_5[\"precision\"].mean()"
   ]
  },
  {
   "cell_type": "code",
   "execution_count": null,
   "id": "82603dd8-b062-4f94-a2c5-c0c7d6b0eecc",
   "metadata": {},
   "outputs": [],
   "source": [
    "best_swnu_network_umap_kfold_5[\"recall\"].mean()"
   ]
  },
  {
   "cell_type": "code",
   "execution_count": null,
   "id": "62f65124-e30c-4a25-8c5a-75ea771658ff",
   "metadata": {},
   "outputs": [],
   "source": [
    "np.stack(best_swnu_network_umap_kfold_5[\"f1_scores\"]).mean(axis=0)"
   ]
  },
  {
   "cell_type": "code",
   "execution_count": null,
   "id": "c81b3be2-b983-4a17-a49c-0b0c863cf52f",
   "metadata": {},
   "outputs": [],
   "source": [
    "np.stack(best_swnu_network_umap_kfold_5[\"precision_scores\"]).mean(axis=0)"
   ]
  },
  {
   "cell_type": "code",
   "execution_count": null,
   "id": "ec27ebec-fb90-49bc-8a09-46280cf135e6",
   "metadata": {},
   "outputs": [],
   "source": [
    "np.stack(best_swnu_network_umap_kfold_5[\"recall_scores\"]).mean(axis=0)"
   ]
  },
  {
   "cell_type": "markdown",
   "id": "ca16968a-188a-44de-8ae3-eaf7015c44d4",
   "metadata": {},
   "source": [
    "## GRP"
   ]
  },
  {
   "cell_type": "code",
   "execution_count": null,
   "id": "13a67a66",
   "metadata": {},
   "outputs": [],
   "source": [
    "(\n",
    "    swnu_network_grp_kfold_5,\n",
    "    best_swnu_network_grp_kfold_5,\n",
    "    _,\n",
    "    __,\n",
    ") = swnu_network_hyperparameter_search(\n",
    "    history_lengths=[size],\n",
    "    dim_reduce_methods=[\"gaussian_random_projection\"],\n",
    "    results_output=f\"{output_dir}/swnu_network_grp_focal_{gamma}_{size}_kfold.csv\",\n",
    "    **kwargs,\n",
    ")"
   ]
  },
  {
   "cell_type": "code",
   "execution_count": null,
   "id": "d6d7bd37",
   "metadata": {},
   "outputs": [],
   "source": [
    "swnu_network_grp_kfold_5.groupby(\n",
    "    [\"dimensions\", \"swnu_hidden_dim\", \"ffn_hidden_dim\", \"dropout_rate\", \"learning_rate\"]\n",
    ").mean()"
   ]
  },
  {
   "cell_type": "code",
   "execution_count": null,
   "id": "cf1b9e17-2294-4596-9647-a2346f4e1145",
   "metadata": {
    "tags": []
   },
   "outputs": [],
   "source": [
    "swnu_network_grp_kfold_5.groupby(\n",
    "    [\"dimensions\", \"swnu_hidden_dim\", \"ffn_hidden_dim\", \"dropout_rate\", \"learning_rate\"]\n",
    ").mean()"
   ]
  },
  {
   "cell_type": "code",
   "execution_count": null,
   "id": "35a96c62-33c6-4c92-908c-0cf1806374f7",
   "metadata": {
    "tags": []
   },
   "outputs": [],
   "source": [
    "best_swnu_network_grp_kfold_5"
   ]
  },
  {
   "cell_type": "code",
   "execution_count": null,
   "id": "20586dde-cce0-4e7d-9f67-aa6442d015dd",
   "metadata": {},
   "outputs": [],
   "source": [
    "best_swnu_network_grp_kfold_5[\"f1\"].mean()"
   ]
  },
  {
   "cell_type": "code",
   "execution_count": null,
   "id": "791c4f96-b800-4d6b-b2ac-1b901614d604",
   "metadata": {},
   "outputs": [],
   "source": [
    "best_swnu_network_grp_kfold_5[\"precision\"].mean()"
   ]
  },
  {
   "cell_type": "code",
   "execution_count": null,
   "id": "5e72409a-46a7-46e0-a6df-4e2bb7d88593",
   "metadata": {},
   "outputs": [],
   "source": [
    "best_swnu_network_grp_kfold_5[\"recall\"].mean()"
   ]
  },
  {
   "cell_type": "code",
   "execution_count": null,
   "id": "d0e6d0bc-8dc0-4ab8-b6f1-7554e2272af1",
   "metadata": {},
   "outputs": [],
   "source": [
    "np.stack(best_swnu_network_grp_kfold_5[\"f1_scores\"]).mean(axis=0)"
   ]
  },
  {
   "cell_type": "code",
   "execution_count": null,
   "id": "68a6812d-fed0-41c4-b463-0718358ea8af",
   "metadata": {},
   "outputs": [],
   "source": [
    "np.stack(best_swnu_network_grp_kfold_5[\"precision_scores\"]).mean(axis=0)"
   ]
  },
  {
   "cell_type": "code",
   "execution_count": null,
   "id": "f0aa889d-b23a-432a-a96a-c2a8fb2dc1c4",
   "metadata": {},
   "outputs": [],
   "source": [
    "np.stack(best_swnu_network_grp_kfold_5[\"recall_scores\"]).mean(axis=0)"
   ]
  },
  {
   "cell_type": "markdown",
   "id": "208eb136-7382-4ae6-a79e-940cbb55d089",
   "metadata": {
    "tags": []
   },
   "source": [
    "# w=11"
   ]
  },
  {
   "cell_type": "code",
   "execution_count": null,
   "id": "4bffc99b-873f-4ac6-8456-8626bcbb9633",
   "metadata": {},
   "outputs": [],
   "source": [
    "size = 11"
   ]
  },
  {
   "cell_type": "markdown",
   "id": "a17ff14d-7fec-46f0-bc90-5d2a1a78e44c",
   "metadata": {},
   "source": [
    "## UMAP"
   ]
  },
  {
   "cell_type": "code",
   "execution_count": null,
   "id": "df750ca6-4809-44ab-a6b0-403212e05b42",
   "metadata": {
    "tags": []
   },
   "outputs": [],
   "source": [
    "(\n",
    "    swnu_network_umap_kfold_11,\n",
    "    best_swnu_network_umap_kfold_11,\n",
    "    _,\n",
    "    __,\n",
    ") = swnu_network_hyperparameter_search(\n",
    "    history_lengths=[size],\n",
    "    dim_reduce_methods=[\"umap\"],\n",
    "    results_output=f\"{output_dir}/swnu_network_umap_focal_{gamma}_{size}_kfold.csv\",\n",
    "    **kwargs,\n",
    ")"
   ]
  },
  {
   "cell_type": "code",
   "execution_count": null,
   "id": "1266f65a-c709-443c-a11f-18746e805daa",
   "metadata": {},
   "outputs": [],
   "source": [
    "swnu_network_umap_kfold_11.groupby(\n",
    "    [\"dimensions\", \"swnu_hidden_dim\", \"ffn_hidden_dim\", \"dropout_rate\", \"learning_rate\"]\n",
    ").mean()"
   ]
  },
  {
   "cell_type": "code",
   "execution_count": null,
   "id": "386de357-1f4c-4263-8027-7d86ec977826",
   "metadata": {},
   "outputs": [],
   "source": [
    "best_swnu_network_umap_kfold_11"
   ]
  },
  {
   "cell_type": "code",
   "execution_count": null,
   "id": "d2bf5eb2-ee33-4443-bf6a-5883cdfd0766",
   "metadata": {},
   "outputs": [],
   "source": [
    "best_swnu_network_umap_kfold_11[\"f1\"].mean()"
   ]
  },
  {
   "cell_type": "code",
   "execution_count": null,
   "id": "b3d8f7fd-1d3d-4fe5-b9d9-a64eece01dbf",
   "metadata": {},
   "outputs": [],
   "source": [
    "best_swnu_network_umap_kfold_11[\"precision\"].mean()"
   ]
  },
  {
   "cell_type": "code",
   "execution_count": null,
   "id": "3297087f-a04d-4355-85b0-2fd29d81a4f5",
   "metadata": {},
   "outputs": [],
   "source": [
    "best_swnu_network_umap_kfold_11[\"recall\"].mean()"
   ]
  },
  {
   "cell_type": "code",
   "execution_count": null,
   "id": "681f591d-95de-483f-a973-fce68aaddef3",
   "metadata": {},
   "outputs": [],
   "source": [
    "np.stack(best_swnu_network_umap_kfold_11[\"f1_scores\"]).mean(axis=0)"
   ]
  },
  {
   "cell_type": "code",
   "execution_count": null,
   "id": "78f80c79-e3c8-4025-8471-f0ce5b2b8df0",
   "metadata": {},
   "outputs": [],
   "source": [
    "np.stack(best_swnu_network_umap_kfold_11[\"precision_scores\"]).mean(axis=0)"
   ]
  },
  {
   "cell_type": "code",
   "execution_count": null,
   "id": "5ec04802-2571-4cfb-8644-26e7ff1238f8",
   "metadata": {},
   "outputs": [],
   "source": [
    "np.stack(best_swnu_network_umap_kfold_11[\"recall_scores\"]).mean(axis=0)"
   ]
  },
  {
   "cell_type": "markdown",
   "id": "3173a3d3-81e8-40de-8a72-5f2b0b47fdab",
   "metadata": {},
   "source": [
    "## GRP"
   ]
  },
  {
   "cell_type": "code",
   "execution_count": null,
   "id": "16bafe9d-e7ff-47a7-9460-605fed0216b0",
   "metadata": {},
   "outputs": [],
   "source": [
    "(\n",
    "    swnu_network_grp_kfold_11,\n",
    "    best_swnu_network_grp_kfold_11,\n",
    "    _,\n",
    "    __,\n",
    ") = swnu_network_hyperparameter_search(\n",
    "    history_lengths=[size],\n",
    "    dim_reduce_methods=[\"gaussian_random_projection\"],\n",
    "    results_output=f\"{output_dir}/swnu_network_grp_focal_{gamma}_{size}_kfold.csv\",\n",
    "    **kwargs,\n",
    ")"
   ]
  },
  {
   "cell_type": "code",
   "execution_count": null,
   "id": "daaa5212-dfca-4ea0-a3c8-baa9f6b337b4",
   "metadata": {},
   "outputs": [],
   "source": [
    "swnu_network_grp_kfold_11.groupby(\n",
    "    [\"dimensions\", \"swnu_hidden_dim\", \"ffn_hidden_dim\", \"dropout_rate\", \"learning_rate\"]\n",
    ").mean()"
   ]
  },
  {
   "cell_type": "code",
   "execution_count": null,
   "id": "7360fa6f-1b27-4a98-a343-79ede9bdf7ac",
   "metadata": {
    "tags": []
   },
   "outputs": [],
   "source": [
    "swnu_network_grp_kfold_11.groupby(\n",
    "    [\"dimensions\", \"swnu_hidden_dim\", \"ffn_hidden_dim\", \"dropout_rate\", \"learning_rate\"]\n",
    ").mean()"
   ]
  },
  {
   "cell_type": "code",
   "execution_count": null,
   "id": "58958e41-7123-4749-9879-320d168236c7",
   "metadata": {
    "tags": []
   },
   "outputs": [],
   "source": [
    "best_swnu_network_grp_kfold_11"
   ]
  },
  {
   "cell_type": "code",
   "execution_count": null,
   "id": "0c183414-63b5-49c3-af8b-2e2e64a3f509",
   "metadata": {},
   "outputs": [],
   "source": [
    "best_swnu_network_grp_kfold_11[\"f1\"].mean()"
   ]
  },
  {
   "cell_type": "code",
   "execution_count": null,
   "id": "5decf7ef-eb02-4a48-9120-c98b4adcba1d",
   "metadata": {},
   "outputs": [],
   "source": [
    "best_swnu_network_grp_kfold_11[\"precision\"].mean()"
   ]
  },
  {
   "cell_type": "code",
   "execution_count": null,
   "id": "6392b991-5844-4a92-96a8-9a54e2d053fc",
   "metadata": {},
   "outputs": [],
   "source": [
    "best_swnu_network_grp_kfold_11[\"recall\"].mean()"
   ]
  },
  {
   "cell_type": "code",
   "execution_count": null,
   "id": "986502a0-a93f-447b-83b9-b3b8f3d01002",
   "metadata": {},
   "outputs": [],
   "source": [
    "np.stack(best_swnu_network_grp_kfold_11[\"f1_scores\"]).mean(axis=0)"
   ]
  },
  {
   "cell_type": "code",
   "execution_count": null,
   "id": "e89ddd93-77e8-4ce4-9123-9c0d3508eb23",
   "metadata": {},
   "outputs": [],
   "source": [
    "np.stack(best_swnu_network_grp_kfold_11[\"precision_scores\"]).mean(axis=0)"
   ]
  },
  {
   "cell_type": "code",
   "execution_count": null,
   "id": "01bd26f2-feba-4567-b85b-74bc34875492",
   "metadata": {},
   "outputs": [],
   "source": [
    "np.stack(best_swnu_network_grp_kfold_11[\"recall_scores\"]).mean(axis=0)"
   ]
  },
  {
   "cell_type": "markdown",
   "id": "7393820a-f3cc-4db9-b439-2ade1f02e142",
   "metadata": {
    "jp-MarkdownHeadingCollapsed": true,
    "tags": []
   },
   "source": [
    "# w=20"
   ]
  },
  {
   "cell_type": "code",
   "execution_count": null,
   "id": "9e5e8c26-e13c-4a96-bcb9-700981ae085d",
   "metadata": {},
   "outputs": [],
   "source": [
    "size = 20"
   ]
  },
  {
   "cell_type": "markdown",
   "id": "e3534731-225e-4c6e-a1f9-c3759ab4943f",
   "metadata": {},
   "source": [
    "## UMAP"
   ]
  },
  {
   "cell_type": "code",
   "execution_count": null,
   "id": "3625d792-18bf-44bc-b5fe-56143e2e2092",
   "metadata": {
    "tags": []
   },
   "outputs": [],
   "source": [
    "(\n",
    "    swnu_network_umap_kfold_20,\n",
    "    best_swnu_network_umap_kfold_20,\n",
    "    _,\n",
    "    __,\n",
    ") = swnu_network_hyperparameter_search(\n",
    "    history_lengths=[size],\n",
    "    dim_reduce_methods=[\"umap\"],\n",
    "    results_output=f\"{output_dir}/swnu_network_umap_focal_{gamma}_{size}_kfold.csv\",\n",
    "    **kwargs,\n",
    ")"
   ]
  },
  {
   "cell_type": "code",
   "execution_count": null,
   "id": "a9c29f99-43d4-44f9-a718-d763e80d9f8a",
   "metadata": {},
   "outputs": [],
   "source": [
    "swnu_network_umap_kfold_20.groupby(\n",
    "    [\"dimensions\", \"swnu_hidden_dim\", \"ffn_hidden_dim\", \"dropout_rate\", \"learning_rate\"]\n",
    ").mean()"
   ]
  },
  {
   "cell_type": "code",
   "execution_count": null,
   "id": "65b1f3da-aa75-42ad-a379-bb618992ec2f",
   "metadata": {},
   "outputs": [],
   "source": [
    "best_swnu_network_umap_kfold_20"
   ]
  },
  {
   "cell_type": "code",
   "execution_count": null,
   "id": "cd992403-72d8-4af8-a46d-36920cc60119",
   "metadata": {},
   "outputs": [],
   "source": [
    "best_swnu_network_umap_kfold_20[\"f1\"].mean()"
   ]
  },
  {
   "cell_type": "code",
   "execution_count": null,
   "id": "1aa3fe21-eff5-4d97-976e-47e2eba998e5",
   "metadata": {},
   "outputs": [],
   "source": [
    "best_swnu_network_umap_kfold_20[\"precision\"].mean()"
   ]
  },
  {
   "cell_type": "code",
   "execution_count": null,
   "id": "c0c38e21-152b-4e9b-9faf-b5a3d418acf6",
   "metadata": {},
   "outputs": [],
   "source": [
    "best_swnu_network_umap_kfold_20[\"recall\"].mean()"
   ]
  },
  {
   "cell_type": "code",
   "execution_count": null,
   "id": "ebb2809e-527b-4d15-9ae8-94d277b44002",
   "metadata": {},
   "outputs": [],
   "source": [
    "np.stack(best_swnu_network_umap_kfold_20[\"f1_scores\"]).mean(axis=0)"
   ]
  },
  {
   "cell_type": "code",
   "execution_count": null,
   "id": "fedfaa47-e24e-417e-8a76-c461399c849d",
   "metadata": {},
   "outputs": [],
   "source": [
    "np.stack(best_swnu_network_umap_kfold_20[\"precision_scores\"]).mean(axis=0)"
   ]
  },
  {
   "cell_type": "code",
   "execution_count": null,
   "id": "f2108b06-4044-483a-bb55-ef7dc4a18121",
   "metadata": {},
   "outputs": [],
   "source": [
    "np.stack(best_swnu_network_umap_kfold_20[\"recall_scores\"]).mean(axis=0)"
   ]
  },
  {
   "cell_type": "markdown",
   "id": "819819b1-53be-47e5-b7bf-d48335ee6710",
   "metadata": {},
   "source": [
    "## GRP"
   ]
  },
  {
   "cell_type": "code",
   "execution_count": null,
   "id": "5c044bf7-9115-4765-a819-499c47714e6a",
   "metadata": {},
   "outputs": [],
   "source": [
    "(\n",
    "    swnu_network_grp_kfold_20,\n",
    "    best_swnu_network_grp_kfold_20,\n",
    "    _,\n",
    "    __,\n",
    ") = swnu_network_hyperparameter_search(\n",
    "    history_lengths=[size],\n",
    "    dim_reduce_methods=[\"gaussian_random_projection\"],\n",
    "    results_output=f\"{output_dir}/swnu_network_grp_focal_{gamma}_{size}_kfold.csv\",\n",
    "    **kwargs,\n",
    ")"
   ]
  },
  {
   "cell_type": "code",
   "execution_count": null,
   "id": "84980e3c-3288-4c0d-b99c-f9b514b8e49d",
   "metadata": {},
   "outputs": [],
   "source": [
    "swnu_network_grp_kfold_20.groupby(\n",
    "    [\"dimensions\", \"swnu_hidden_dim\", \"ffn_hidden_dim\", \"dropout_rate\", \"learning_rate\"]\n",
    ").mean()"
   ]
  },
  {
   "cell_type": "code",
   "execution_count": null,
   "id": "fb52cea4-67a4-427c-9974-9661a8e81b56",
   "metadata": {
    "tags": []
   },
   "outputs": [],
   "source": [
    "swnu_network_grp_kfold_20.groupby(\n",
    "    [\"dimensions\", \"swnu_hidden_dim\", \"ffn_hidden_dim\", \"dropout_rate\", \"learning_rate\"]\n",
    ").mean()"
   ]
  },
  {
   "cell_type": "code",
   "execution_count": null,
   "id": "7ef581ea-82dd-44f3-b6ce-64bab12212a8",
   "metadata": {
    "tags": []
   },
   "outputs": [],
   "source": [
    "best_swnu_network_grp_kfold_20"
   ]
  },
  {
   "cell_type": "code",
   "execution_count": null,
   "id": "345f1cc1-04c8-4efd-997b-694205594701",
   "metadata": {},
   "outputs": [],
   "source": [
    "best_swnu_network_grp_kfold_20[\"f1\"].mean()"
   ]
  },
  {
   "cell_type": "code",
   "execution_count": null,
   "id": "ae495025-6762-41a2-aacf-c6e8539bb483",
   "metadata": {},
   "outputs": [],
   "source": [
    "best_swnu_network_grp_kfold_20[\"precision\"].mean()"
   ]
  },
  {
   "cell_type": "code",
   "execution_count": null,
   "id": "c17d5087-3508-45ce-b721-1bf4f1489907",
   "metadata": {},
   "outputs": [],
   "source": [
    "best_swnu_network_grp_kfold_20[\"recall\"].mean()"
   ]
  },
  {
   "cell_type": "code",
   "execution_count": null,
   "id": "c1c7ab7e-70fa-4ae7-8917-8ee785d45440",
   "metadata": {},
   "outputs": [],
   "source": [
    "np.stack(best_swnu_network_grp_kfold_20[\"f1_scores\"]).mean(axis=0)"
   ]
  },
  {
   "cell_type": "code",
   "execution_count": null,
   "id": "b77c82c9-c527-47cf-a1cc-becf1a9e3caf",
   "metadata": {},
   "outputs": [],
   "source": [
    "np.stack(best_swnu_network_grp_kfold_20[\"precision_scores\"]).mean(axis=0)"
   ]
  },
  {
   "cell_type": "code",
   "execution_count": null,
   "id": "d82a968a-b587-4679-8c1f-98c900a83fba",
   "metadata": {},
   "outputs": [],
   "source": [
    "np.stack(best_swnu_network_grp_kfold_20[\"recall_scores\"]).mean(axis=0)"
   ]
  },
  {
   "cell_type": "markdown",
   "id": "021867d0-a530-4e47-a733-31fcdd43789b",
   "metadata": {
    "jp-MarkdownHeadingCollapsed": true,
    "tags": []
   },
   "source": [
    "# w=35"
   ]
  },
  {
   "cell_type": "code",
   "execution_count": null,
   "id": "6603d2a7-df14-468d-bff4-886fa65cc9ca",
   "metadata": {},
   "outputs": [],
   "source": [
    "size = 35"
   ]
  },
  {
   "cell_type": "markdown",
   "id": "61ce5b77-f19f-4acd-85f6-74b8d999b1ec",
   "metadata": {},
   "source": [
    "## UMAP"
   ]
  },
  {
   "cell_type": "code",
   "execution_count": null,
   "id": "f6acc589-294e-445f-95dd-0b3404822dd5",
   "metadata": {
    "tags": []
   },
   "outputs": [],
   "source": [
    "(\n",
    "    swnu_network_umap_kfold_35,\n",
    "    best_swnu_network_umap_kfold_35,\n",
    "    _,\n",
    "    __,\n",
    ") = swnu_network_hyperparameter_search(\n",
    "    history_lengths=[size],\n",
    "    dim_reduce_methods=[\"umap\"],\n",
    "    results_output=f\"{output_dir}/swnu_network_umap_focal_{gamma}_{size}_kfold.csv\",\n",
    "    **kwargs,\n",
    ")"
   ]
  },
  {
   "cell_type": "code",
   "execution_count": null,
   "id": "3a2cf96c-e6e7-4bb6-9985-2f9075df995a",
   "metadata": {},
   "outputs": [],
   "source": [
    "swnu_network_umap_kfold_35.groupby(\n",
    "    [\"dimensions\", \"swnu_hidden_dim\", \"ffn_hidden_dim\", \"dropout_rate\", \"learning_rate\"]\n",
    ").mean()"
   ]
  },
  {
   "cell_type": "code",
   "execution_count": null,
   "id": "1c82d3dd-5a36-4b47-af81-7ed66f034882",
   "metadata": {},
   "outputs": [],
   "source": [
    "best_swnu_network_umap_kfold_35"
   ]
  },
  {
   "cell_type": "code",
   "execution_count": null,
   "id": "e31bd0a5-c00a-4353-8926-846bad8f9c8d",
   "metadata": {},
   "outputs": [],
   "source": [
    "best_swnu_network_umap_kfold_35[\"f1\"].mean()"
   ]
  },
  {
   "cell_type": "code",
   "execution_count": null,
   "id": "ae33ca78-a784-49ff-8c87-416e9e9a56e1",
   "metadata": {},
   "outputs": [],
   "source": [
    "best_swnu_network_umap_kfold_35[\"precision\"].mean()"
   ]
  },
  {
   "cell_type": "code",
   "execution_count": null,
   "id": "55ee7ee8-ada9-47f0-9c93-79566f23c872",
   "metadata": {},
   "outputs": [],
   "source": [
    "best_swnu_network_umap_kfold_35[\"recall\"].mean()"
   ]
  },
  {
   "cell_type": "code",
   "execution_count": null,
   "id": "a3422ea0-28f2-4c44-88ad-d6aeec2ad708",
   "metadata": {},
   "outputs": [],
   "source": [
    "np.stack(best_swnu_network_umap_kfold_35[\"f1_scores\"]).mean(axis=0)"
   ]
  },
  {
   "cell_type": "code",
   "execution_count": null,
   "id": "0253c57d-366a-458e-afc2-ebbf8cca2750",
   "metadata": {},
   "outputs": [],
   "source": [
    "np.stack(best_swnu_network_umap_kfold_35[\"precision_scores\"]).mean(axis=0)"
   ]
  },
  {
   "cell_type": "code",
   "execution_count": null,
   "id": "d3dafe3e-7ed2-4497-8fce-7a17f12cd30e",
   "metadata": {},
   "outputs": [],
   "source": [
    "np.stack(best_swnu_network_umap_kfold_35[\"recall_scores\"]).mean(axis=0)"
   ]
  },
  {
   "cell_type": "markdown",
   "id": "874cccb9-df14-4675-8906-c48eb90109ae",
   "metadata": {},
   "source": [
    "## GRP"
   ]
  },
  {
   "cell_type": "code",
   "execution_count": null,
   "id": "4b676102-e773-4d5a-a523-61f54b4545ac",
   "metadata": {},
   "outputs": [],
   "source": [
    "(\n",
    "    swnu_network_grp_kfold_35,\n",
    "    best_swnu_network_grp_kfold_35,\n",
    "    _,\n",
    "    __,\n",
    ") = swnu_network_hyperparameter_search(\n",
    "    history_lengths=[size],\n",
    "    dim_reduce_methods=[\"gaussian_random_projection\"],\n",
    "    results_output=f\"{output_dir}/swnu_network_grp_focal_{gamma}_{size}_kfold.csv\",\n",
    "    **kwargs,\n",
    ")"
   ]
  },
  {
   "cell_type": "code",
   "execution_count": null,
   "id": "ff48159e-cd48-4ef6-8f23-98efb6963de5",
   "metadata": {},
   "outputs": [],
   "source": [
    "swnu_network_grp_kfold_35.groupby(\n",
    "    [\"dimensions\", \"swnu_hidden_dim\", \"ffn_hidden_dim\", \"dropout_rate\", \"learning_rate\"]\n",
    ").mean()"
   ]
  },
  {
   "cell_type": "code",
   "execution_count": null,
   "id": "58ed707f-dd99-4049-8d33-9dde3686aafa",
   "metadata": {
    "tags": []
   },
   "outputs": [],
   "source": [
    "swnu_network_grp_kfold_35.groupby(\n",
    "    [\"dimensions\", \"swnu_hidden_dim\", \"ffn_hidden_dim\", \"dropout_rate\", \"learning_rate\"]\n",
    ").mean()"
   ]
  },
  {
   "cell_type": "code",
   "execution_count": null,
   "id": "247cd1aa-25f8-4935-acdf-02eef41fad8b",
   "metadata": {
    "tags": []
   },
   "outputs": [],
   "source": [
    "best_swnu_network_grp_kfold_35"
   ]
  },
  {
   "cell_type": "code",
   "execution_count": null,
   "id": "114642d6-2a22-4563-bba7-3c82f886a17c",
   "metadata": {},
   "outputs": [],
   "source": [
    "best_swnu_network_grp_kfold_35[\"f1\"].mean()"
   ]
  },
  {
   "cell_type": "code",
   "execution_count": null,
   "id": "22429fdf-3270-485a-ab4e-67aeee766833",
   "metadata": {},
   "outputs": [],
   "source": [
    "best_swnu_network_grp_kfold_35[\"precision\"].mean()"
   ]
  },
  {
   "cell_type": "code",
   "execution_count": null,
   "id": "b7c11365-0139-4d1d-870f-bcf46b697df9",
   "metadata": {},
   "outputs": [],
   "source": [
    "best_swnu_network_grp_kfold_35[\"recall\"].mean()"
   ]
  },
  {
   "cell_type": "code",
   "execution_count": null,
   "id": "fe65c914-6ebf-40ef-b126-ccac8f2f83a3",
   "metadata": {},
   "outputs": [],
   "source": [
    "np.stack(best_swnu_network_grp_kfold_35[\"f1_scores\"]).mean(axis=0)"
   ]
  },
  {
   "cell_type": "code",
   "execution_count": null,
   "id": "4a1d2077-9873-4c4a-9a27-a18345150581",
   "metadata": {},
   "outputs": [],
   "source": [
    "np.stack(best_swnu_network_grp_kfold_35[\"precision_scores\"]).mean(axis=0)"
   ]
  },
  {
   "cell_type": "markdown",
   "id": "cb1f089a-a87c-4cef-93ef-de2d0cd7e796",
   "metadata": {
    "jp-MarkdownHeadingCollapsed": true,
    "tags": []
   },
   "source": [
    "# w=80"
   ]
  },
  {
   "cell_type": "code",
   "execution_count": null,
   "id": "894f7641-39e6-45e8-b90d-2c590ee16c78",
   "metadata": {},
   "outputs": [],
   "source": [
    "size = 80"
   ]
  },
  {
   "cell_type": "markdown",
   "id": "96a039e9-2751-412d-acb6-5972259203c3",
   "metadata": {},
   "source": [
    "## UMAP"
   ]
  },
  {
   "cell_type": "code",
   "execution_count": null,
   "id": "88bde3ee-4fc3-4170-ba66-33f8b819c286",
   "metadata": {
    "tags": []
   },
   "outputs": [],
   "source": [
    "(\n",
    "    swnu_network_umap_kfold_80,\n",
    "    best_swnu_network_umap_kfold_80,\n",
    "    _,\n",
    "    __,\n",
    ") = swnu_network_hyperparameter_search(\n",
    "    history_lengths=[size],\n",
    "    dim_reduce_methods=[\"umap\"],\n",
    "    results_output=f\"{output_dir}/swnu_network_umap_focal_{gamma}_{size}_kfold.csv\",\n",
    "    **kwargs,\n",
    ")"
   ]
  },
  {
   "cell_type": "code",
   "execution_count": null,
   "id": "e33e367b-a9f2-4084-9297-bcbf53ced731",
   "metadata": {},
   "outputs": [],
   "source": [
    "swnu_network_umap_kfold_80.groupby(\n",
    "    [\"dimensions\", \"swnu_hidden_dim\", \"ffn_hidden_dim\", \"dropout_rate\", \"learning_rate\"]\n",
    ").mean()"
   ]
  },
  {
   "cell_type": "code",
   "execution_count": null,
   "id": "d7b9623c-1323-4242-8a86-6a9d48147eee",
   "metadata": {},
   "outputs": [],
   "source": [
    "best_swnu_network_umap_kfold_80"
   ]
  },
  {
   "cell_type": "code",
   "execution_count": null,
   "id": "7c03bc09-595d-454a-ae53-490a16c6c6f6",
   "metadata": {},
   "outputs": [],
   "source": [
    "best_swnu_network_umap_kfold_80[\"f1\"].mean()"
   ]
  },
  {
   "cell_type": "code",
   "execution_count": null,
   "id": "f6642814-5f03-4b88-8022-c9fc6ab5c4ed",
   "metadata": {},
   "outputs": [],
   "source": [
    "best_swnu_network_umap_kfold_80[\"precision\"].mean()"
   ]
  },
  {
   "cell_type": "code",
   "execution_count": null,
   "id": "f9b381a6-7993-491e-bb9f-a4ce6d6d2366",
   "metadata": {},
   "outputs": [],
   "source": [
    "best_swnu_network_umap_kfold_80[\"recall\"].mean()"
   ]
  },
  {
   "cell_type": "code",
   "execution_count": null,
   "id": "895ad15c-4cc8-4ced-b4a3-cf4dcea6fa7c",
   "metadata": {},
   "outputs": [],
   "source": [
    "np.stack(best_swnu_network_umap_kfold_80[\"f1_scores\"]).mean(axis=0)"
   ]
  },
  {
   "cell_type": "code",
   "execution_count": null,
   "id": "49fc3ec8-8be9-4e51-9ec6-fc9f62b803b7",
   "metadata": {},
   "outputs": [],
   "source": [
    "np.stack(best_swnu_network_umap_kfold_80[\"precision_scores\"]).mean(axis=0)"
   ]
  },
  {
   "cell_type": "code",
   "execution_count": null,
   "id": "8bbb45e4-4032-4e78-90e4-4c2b57dcf11d",
   "metadata": {},
   "outputs": [],
   "source": [
    "np.stack(best_swnu_network_umap_kfold_80[\"recall_scores\"]).mean(axis=0)"
   ]
  },
  {
   "cell_type": "markdown",
   "id": "88418495-0a38-4064-8453-5a9963e47d9e",
   "metadata": {},
   "source": [
    "## GRP"
   ]
  },
  {
   "cell_type": "code",
   "execution_count": null,
   "id": "ab4ef222-16ea-4680-91d8-301db87dff42",
   "metadata": {},
   "outputs": [],
   "source": [
    "(\n",
    "    swnu_network_grp_kfold_80,\n",
    "    best_swnu_network_grp_kfold_80,\n",
    "    _,\n",
    "    __,\n",
    ") = swnu_network_hyperparameter_search(\n",
    "    history_lengths=[size],\n",
    "    dim_reduce_methods=[\"gaussian_random_projection\"],\n",
    "    results_output=f\"{output_dir}/swnu_network_grp_focal_{gamma}_{size}_kfold.csv\",\n",
    "    **kwargs,\n",
    ")"
   ]
  },
  {
   "cell_type": "code",
   "execution_count": null,
   "id": "dbdfa9d1-f848-46a8-8681-d3c4e906460a",
   "metadata": {},
   "outputs": [],
   "source": [
    "swnu_network_grp_kfold_80.groupby(\n",
    "    [\"dimensions\", \"swnu_hidden_dim\", \"ffn_hidden_dim\", \"dropout_rate\", \"learning_rate\"]\n",
    ").mean()"
   ]
  },
  {
   "cell_type": "code",
   "execution_count": null,
   "id": "17879253-8067-43c4-9393-bc349b00a954",
   "metadata": {
    "tags": []
   },
   "outputs": [],
   "source": [
    "swnu_network_grp_kfold_80.groupby(\n",
    "    [\"dimensions\", \"swnu_hidden_dim\", \"ffn_hidden_dim\", \"dropout_rate\", \"learning_rate\"]\n",
    ").mean()"
   ]
  },
  {
   "cell_type": "code",
   "execution_count": null,
   "id": "428b1d63-464b-4251-b3fd-1d6571aebfdf",
   "metadata": {
    "tags": []
   },
   "outputs": [],
   "source": [
    "best_swnu_network_grp_kfold_80"
   ]
  },
  {
   "cell_type": "code",
   "execution_count": null,
   "id": "6388ea33-75fe-417f-ad55-c6775601dadb",
   "metadata": {},
   "outputs": [],
   "source": [
    "best_swnu_network_grp_kfold_80[\"f1\"].mean()"
   ]
  },
  {
   "cell_type": "code",
   "execution_count": null,
   "id": "66010cee-d7bc-4d00-8a5f-7c9a737d30ec",
   "metadata": {},
   "outputs": [],
   "source": [
    "best_swnu_network_grp_kfold_80[\"precision\"].mean()"
   ]
  },
  {
   "cell_type": "code",
   "execution_count": null,
   "id": "9a721ac6-bbae-4ed8-9a41-e69ed872a0de",
   "metadata": {},
   "outputs": [],
   "source": [
    "best_swnu_network_grp_kfold_80[\"recall\"].mean()"
   ]
  },
  {
   "cell_type": "code",
   "execution_count": null,
   "id": "0cd4a482-c0e4-4ce1-ad5f-9c3fd6e56e78",
   "metadata": {},
   "outputs": [],
   "source": [
    "np.stack(best_swnu_network_grp_kfold_80[\"f1_scores\"]).mean(axis=0)"
   ]
  },
  {
   "cell_type": "code",
   "execution_count": null,
   "id": "ace0c2da-7bd6-40bc-9006-155f1e66f7b4",
   "metadata": {},
   "outputs": [],
   "source": [
    "np.stack(best_swnu_network_grp_kfold_80[\"precision_scores\"]).mean(axis=0)"
   ]
  },
  {
   "cell_type": "code",
   "execution_count": null,
   "id": "3178e6c4-e69e-46d4-bc49-806435193691",
   "metadata": {},
   "outputs": [],
   "source": [
    "np.stack(best_swnu_network_grp_kfold_80[\"recall_scores\"]).mean(axis=0)"
   ]
  },
  {
   "cell_type": "markdown",
   "id": "e7998a2a-880b-4213-ba9f-de5662ffe29e",
   "metadata": {
    "tags": []
   },
   "source": [
    "# w=110"
   ]
  },
  {
   "cell_type": "code",
   "execution_count": null,
   "id": "fbd4c458-1df4-4e44-ab23-83111ad467b1",
   "metadata": {},
   "outputs": [],
   "source": [
    "size = 110"
   ]
  },
  {
   "cell_type": "markdown",
   "id": "f5d50b19-8e31-4082-aae1-898843d7f5e7",
   "metadata": {},
   "source": [
    "## UMAP"
   ]
  },
  {
   "cell_type": "code",
   "execution_count": null,
   "id": "cf06bdc8-ed5c-4412-96ec-fe20272eab68",
   "metadata": {
    "tags": []
   },
   "outputs": [],
   "source": [
    "(\n",
    "    swnu_network_umap_kfold_110,\n",
    "    best_swnu_network_umap_kfold_110,\n",
    "    _,\n",
    "    __,\n",
    ") = swnu_network_hyperparameter_search(\n",
    "    history_lengths=[size],\n",
    "    dim_reduce_methods=[\"umap\"],\n",
    "    results_output=f\"{output_dir}/swnu_network_umap_focal_{gamma}_{size}_kfold.csv\",\n",
    "    **kwargs,\n",
    ")"
   ]
  },
  {
   "cell_type": "code",
   "execution_count": null,
   "id": "e4a25f4f-b66b-4e00-ab60-5db287ed4602",
   "metadata": {},
   "outputs": [],
   "source": [
    "swnu_network_umap_kfold_110.groupby(\n",
    "    [\"dimensions\", \"swnu_hidden_dim\", \"ffn_hidden_dim\", \"dropout_rate\", \"learning_rate\"]\n",
    ").mean()"
   ]
  },
  {
   "cell_type": "code",
   "execution_count": null,
   "id": "14a7f8f6-f1ad-4b37-a978-5f5ed8f96c76",
   "metadata": {},
   "outputs": [],
   "source": [
    "best_swnu_network_umap_kfold_110"
   ]
  },
  {
   "cell_type": "code",
   "execution_count": null,
   "id": "5e85ec12-dc2b-4e6f-9bbc-f0087b513329",
   "metadata": {},
   "outputs": [],
   "source": [
    "best_swnu_network_umap_kfold_110[\"f1\"].mean()"
   ]
  },
  {
   "cell_type": "code",
   "execution_count": null,
   "id": "d7b39e4a-cacc-4a1b-82eb-9d1490363fe1",
   "metadata": {},
   "outputs": [],
   "source": [
    "best_swnu_network_umap_kfold_110[\"precision\"].mean()"
   ]
  },
  {
   "cell_type": "code",
   "execution_count": null,
   "id": "3ac8cb3b-ab72-4e54-8202-5dfd08495fe9",
   "metadata": {},
   "outputs": [],
   "source": [
    "best_swnu_network_umap_kfold_110[\"recall\"].mean()"
   ]
  },
  {
   "cell_type": "code",
   "execution_count": null,
   "id": "8b8c6486-f7ec-4082-88f7-1caa57efc3c7",
   "metadata": {},
   "outputs": [],
   "source": [
    "np.stack(best_swnu_network_umap_kfold_110[\"f1_scores\"]).mean(axis=0)"
   ]
  },
  {
   "cell_type": "code",
   "execution_count": null,
   "id": "a60c01bb-acb4-4eae-8aed-3e7084dd7dc8",
   "metadata": {},
   "outputs": [],
   "source": [
    "np.stack(best_swnu_network_umap_kfold_110[\"precision_scores\"]).mean(axis=0)"
   ]
  },
  {
   "cell_type": "code",
   "execution_count": null,
   "id": "e6ebb5d0-6abe-46a6-93c0-5bcf1b9353b3",
   "metadata": {},
   "outputs": [],
   "source": [
    "np.stack(best_swnu_network_umap_kfold_110[\"recall_scores\"]).mean(axis=0)"
   ]
  },
  {
   "cell_type": "markdown",
   "id": "a9fd09c4-da7c-48b3-8a89-f1036b5a02f3",
   "metadata": {},
   "source": [
    "## GRP"
   ]
  },
  {
   "cell_type": "code",
   "execution_count": null,
   "id": "320dcddf-cb14-4f3e-a061-b5eac1db0b43",
   "metadata": {},
   "outputs": [],
   "source": [
    "(\n",
    "    swnu_network_grp_kfold_110,\n",
    "    best_swnu_network_grp_kfold_110,\n",
    "    _,\n",
    "    __,\n",
    ") = swnu_network_hyperparameter_search(\n",
    "    history_lengths=[size],\n",
    "    dim_reduce_methods=[\"gaussian_random_projection\"],\n",
    "    results_output=f\"{output_dir}/swnu_network_grp_focal_{gamma}_{size}_kfold.csv\",\n",
    "    **kwargs,\n",
    ")"
   ]
  },
  {
   "cell_type": "code",
   "execution_count": null,
   "id": "ef24c8af-bd5c-4128-a47f-d074cacdfdc0",
   "metadata": {},
   "outputs": [],
   "source": [
    "swnu_network_grp_kfold_110.groupby(\n",
    "    [\"dimensions\", \"swnu_hidden_dim\", \"ffn_hidden_dim\", \"dropout_rate\", \"learning_rate\"]\n",
    ").mean()"
   ]
  },
  {
   "cell_type": "code",
   "execution_count": null,
   "id": "ca1330ef-d726-4cdc-bd3b-4eeac5f7ab22",
   "metadata": {
    "tags": []
   },
   "outputs": [],
   "source": [
    "swnu_network_grp_kfold_110.groupby(\n",
    "    [\"dimensions\", \"swnu_hidden_dim\", \"ffn_hidden_dim\", \"dropout_rate\", \"learning_rate\"]\n",
    ").mean()"
   ]
  },
  {
   "cell_type": "code",
   "execution_count": null,
   "id": "70313b88-33ed-4b53-ba5b-3bea1ec151ad",
   "metadata": {
    "tags": []
   },
   "outputs": [],
   "source": [
    "best_swnu_network_grp_kfold_110"
   ]
  },
  {
   "cell_type": "code",
   "execution_count": null,
   "id": "8200d502-0498-4040-b7f4-5df32465afd2",
   "metadata": {},
   "outputs": [],
   "source": [
    "best_swnu_network_grp_kfold_110[\"f1\"].mean()"
   ]
  },
  {
   "cell_type": "code",
   "execution_count": null,
   "id": "369d0963-6110-41b2-bdd0-06a75793a26f",
   "metadata": {},
   "outputs": [],
   "source": [
    "best_swnu_network_grp_kfold_110[\"precision\"].mean()"
   ]
  },
  {
   "cell_type": "code",
   "execution_count": null,
   "id": "68c602da-71e7-4c13-8209-fbcce8064dd7",
   "metadata": {},
   "outputs": [],
   "source": [
    "best_swnu_network_grp_kfold_110[\"recall\"].mean()"
   ]
  },
  {
   "cell_type": "code",
   "execution_count": null,
   "id": "ff170dc2-b154-4011-a252-9b86ba94b481",
   "metadata": {},
   "outputs": [],
   "source": [
    "np.stack(best_swnu_network_grp_kfold_110[\"f1_scores\"]).mean(axis=0)"
   ]
  },
  {
   "cell_type": "code",
   "execution_count": null,
   "id": "ad504118-4b47-4b5d-82da-710f17b870b8",
   "metadata": {},
   "outputs": [],
   "source": [
    "np.stack(best_swnu_network_grp_kfold_110[\"precision_scores\"]).mean(axis=0)"
   ]
  },
  {
   "cell_type": "code",
   "execution_count": null,
   "id": "eb63951b-97bc-4afb-a979-8ac39ef47eae",
   "metadata": {},
   "outputs": [],
   "source": [
    "np.stack(best_swnu_network_grp_kfold_110[\"recall_scores\"]).mean(axis=0)"
   ]
  }
 ],
 "metadata": {
  "kernelspec": {
   "display_name": "nlpsig-networks (Conda)",
   "language": "python",
   "name": "sys_nlpsig-networks"
  },
  "language_info": {
   "codemirror_mode": {
    "name": "ipython",
    "version": 3
   },
   "file_extension": ".py",
   "mimetype": "text/x-python",
   "name": "python",
   "nbconvert_exporter": "python",
   "pygments_lexer": "ipython3",
   "version": "3.8.17"
  }
 },
 "nbformat": 4,
 "nbformat_minor": 5
}
