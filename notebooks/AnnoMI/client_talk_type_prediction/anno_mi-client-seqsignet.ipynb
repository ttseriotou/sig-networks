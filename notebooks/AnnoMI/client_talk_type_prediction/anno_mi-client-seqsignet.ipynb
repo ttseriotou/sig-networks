{
 "cells": [
  {
   "cell_type": "code",
   "execution_count": 1,
   "id": "a983a5e8",
   "metadata": {},
   "outputs": [],
   "source": [
    "import numpy as np\n",
    "import pickle\n",
    "import os\n",
    "\n",
    "seed = 2023"
   ]
  },
  {
   "cell_type": "code",
   "execution_count": 2,
   "id": "31866562-4774-4b9e-9dab-1018ff28ae3e",
   "metadata": {},
   "outputs": [
    {
     "data": {
      "text/plain": [
       "device(type='cuda')"
      ]
     },
     "execution_count": 2,
     "metadata": {},
     "output_type": "execute_result"
    }
   ],
   "source": [
    "import torch\n",
    "\n",
    "# set device\n",
    "device = torch.device(\"cuda\" if torch.cuda.is_available() else \"cpu\")\n",
    "device"
   ]
  },
  {
   "cell_type": "code",
   "execution_count": 3,
   "id": "47c7fd57",
   "metadata": {},
   "outputs": [],
   "source": [
    "from nlpsig_networks.scripts.seqsignet_functions import seqsignet_hyperparameter_search"
   ]
  },
  {
   "cell_type": "code",
   "execution_count": 4,
   "id": "6e918dde",
   "metadata": {},
   "outputs": [],
   "source": [
    "output_dir = \"client_talk_type_output\"\n",
    "if not os.path.isdir(output_dir):\n",
    "    os.makedirs(output_dir)"
   ]
  },
  {
   "cell_type": "markdown",
   "id": "f7409a03",
   "metadata": {},
   "source": [
    "## AnnoMI"
   ]
  },
  {
   "cell_type": "code",
   "execution_count": 5,
   "id": "f00bb922",
   "metadata": {},
   "outputs": [],
   "source": [
    "%run ../load_anno_mi.py"
   ]
  },
  {
   "cell_type": "code",
   "execution_count": 6,
   "id": "720d820f",
   "metadata": {},
   "outputs": [
    {
     "data": {
      "text/html": [
       "<div>\n",
       "<style scoped>\n",
       "    .dataframe tbody tr th:only-of-type {\n",
       "        vertical-align: middle;\n",
       "    }\n",
       "\n",
       "    .dataframe tbody tr th {\n",
       "        vertical-align: top;\n",
       "    }\n",
       "\n",
       "    .dataframe thead th {\n",
       "        text-align: right;\n",
       "    }\n",
       "</style>\n",
       "<table border=\"1\" class=\"dataframe\">\n",
       "  <thead>\n",
       "    <tr style=\"text-align: right;\">\n",
       "      <th></th>\n",
       "      <th>mi_quality</th>\n",
       "      <th>transcript_id</th>\n",
       "      <th>topic</th>\n",
       "      <th>utterance_id</th>\n",
       "      <th>interlocutor</th>\n",
       "      <th>timestamp</th>\n",
       "      <th>utterance_text</th>\n",
       "      <th>annotator_id</th>\n",
       "      <th>therapist_input_exists</th>\n",
       "      <th>therapist_input_subtype</th>\n",
       "      <th>reflection_exists</th>\n",
       "      <th>reflection_subtype</th>\n",
       "      <th>question_exists</th>\n",
       "      <th>question_subtype</th>\n",
       "      <th>main_therapist_behaviour</th>\n",
       "      <th>client_talk_type</th>\n",
       "      <th>datetime</th>\n",
       "      <th>speaker</th>\n",
       "    </tr>\n",
       "  </thead>\n",
       "  <tbody>\n",
       "    <tr>\n",
       "      <th>0</th>\n",
       "      <td>high</td>\n",
       "      <td>0</td>\n",
       "      <td>reducing alcohol consumption</td>\n",
       "      <td>0</td>\n",
       "      <td>therapist</td>\n",
       "      <td>00:00:13</td>\n",
       "      <td>Thanks for filling it out. We give this form t...</td>\n",
       "      <td>3</td>\n",
       "      <td>False</td>\n",
       "      <td>NaN</td>\n",
       "      <td>False</td>\n",
       "      <td>NaN</td>\n",
       "      <td>True</td>\n",
       "      <td>open</td>\n",
       "      <td>question</td>\n",
       "      <td>NaN</td>\n",
       "      <td>2023-11-02 00:00:13</td>\n",
       "      <td>-1</td>\n",
       "    </tr>\n",
       "    <tr>\n",
       "      <th>1</th>\n",
       "      <td>high</td>\n",
       "      <td>0</td>\n",
       "      <td>reducing alcohol consumption</td>\n",
       "      <td>1</td>\n",
       "      <td>client</td>\n",
       "      <td>00:00:24</td>\n",
       "      <td>Sure.</td>\n",
       "      <td>3</td>\n",
       "      <td>NaN</td>\n",
       "      <td>NaN</td>\n",
       "      <td>NaN</td>\n",
       "      <td>NaN</td>\n",
       "      <td>NaN</td>\n",
       "      <td>NaN</td>\n",
       "      <td>NaN</td>\n",
       "      <td>neutral</td>\n",
       "      <td>2023-11-02 00:00:24</td>\n",
       "      <td>1</td>\n",
       "    </tr>\n",
       "    <tr>\n",
       "      <th>2</th>\n",
       "      <td>high</td>\n",
       "      <td>0</td>\n",
       "      <td>reducing alcohol consumption</td>\n",
       "      <td>2</td>\n",
       "      <td>therapist</td>\n",
       "      <td>00:00:25</td>\n",
       "      <td>So, let's see. It looks that you put-- You dri...</td>\n",
       "      <td>3</td>\n",
       "      <td>True</td>\n",
       "      <td>information</td>\n",
       "      <td>False</td>\n",
       "      <td>NaN</td>\n",
       "      <td>False</td>\n",
       "      <td>NaN</td>\n",
       "      <td>therapist_input</td>\n",
       "      <td>NaN</td>\n",
       "      <td>2023-11-02 00:00:25</td>\n",
       "      <td>-1</td>\n",
       "    </tr>\n",
       "    <tr>\n",
       "      <th>3</th>\n",
       "      <td>high</td>\n",
       "      <td>0</td>\n",
       "      <td>reducing alcohol consumption</td>\n",
       "      <td>3</td>\n",
       "      <td>client</td>\n",
       "      <td>00:00:34</td>\n",
       "      <td>Mm-hmm.</td>\n",
       "      <td>3</td>\n",
       "      <td>NaN</td>\n",
       "      <td>NaN</td>\n",
       "      <td>NaN</td>\n",
       "      <td>NaN</td>\n",
       "      <td>NaN</td>\n",
       "      <td>NaN</td>\n",
       "      <td>NaN</td>\n",
       "      <td>neutral</td>\n",
       "      <td>2023-11-02 00:00:34</td>\n",
       "      <td>1</td>\n",
       "    </tr>\n",
       "    <tr>\n",
       "      <th>4</th>\n",
       "      <td>high</td>\n",
       "      <td>0</td>\n",
       "      <td>reducing alcohol consumption</td>\n",
       "      <td>4</td>\n",
       "      <td>therapist</td>\n",
       "      <td>00:00:34</td>\n",
       "      <td>-and you usually have three to four drinks whe...</td>\n",
       "      <td>3</td>\n",
       "      <td>True</td>\n",
       "      <td>information</td>\n",
       "      <td>False</td>\n",
       "      <td>NaN</td>\n",
       "      <td>False</td>\n",
       "      <td>NaN</td>\n",
       "      <td>therapist_input</td>\n",
       "      <td>NaN</td>\n",
       "      <td>2023-11-02 00:00:34</td>\n",
       "      <td>-1</td>\n",
       "    </tr>\n",
       "  </tbody>\n",
       "</table>\n",
       "</div>"
      ],
      "text/plain": [
       "  mi_quality  transcript_id                         topic  utterance_id  \\\n",
       "0       high              0  reducing alcohol consumption             0   \n",
       "1       high              0  reducing alcohol consumption             1   \n",
       "2       high              0  reducing alcohol consumption             2   \n",
       "3       high              0  reducing alcohol consumption             3   \n",
       "4       high              0  reducing alcohol consumption             4   \n",
       "\n",
       "  interlocutor timestamp                                     utterance_text  \\\n",
       "0    therapist  00:00:13  Thanks for filling it out. We give this form t...   \n",
       "1       client  00:00:24                                              Sure.   \n",
       "2    therapist  00:00:25  So, let's see. It looks that you put-- You dri...   \n",
       "3       client  00:00:34                                            Mm-hmm.   \n",
       "4    therapist  00:00:34  -and you usually have three to four drinks whe...   \n",
       "\n",
       "   annotator_id therapist_input_exists therapist_input_subtype  \\\n",
       "0             3                  False                     NaN   \n",
       "1             3                    NaN                     NaN   \n",
       "2             3                   True             information   \n",
       "3             3                    NaN                     NaN   \n",
       "4             3                   True             information   \n",
       "\n",
       "  reflection_exists reflection_subtype question_exists question_subtype  \\\n",
       "0             False                NaN            True             open   \n",
       "1               NaN                NaN             NaN              NaN   \n",
       "2             False                NaN           False              NaN   \n",
       "3               NaN                NaN             NaN              NaN   \n",
       "4             False                NaN           False              NaN   \n",
       "\n",
       "  main_therapist_behaviour client_talk_type            datetime  speaker  \n",
       "0                 question              NaN 2023-11-02 00:00:13       -1  \n",
       "1                      NaN          neutral 2023-11-02 00:00:24        1  \n",
       "2          therapist_input              NaN 2023-11-02 00:00:25       -1  \n",
       "3                      NaN          neutral 2023-11-02 00:00:34        1  \n",
       "4          therapist_input              NaN 2023-11-02 00:00:34       -1  "
      ]
     },
     "execution_count": 6,
     "metadata": {},
     "output_type": "execute_result"
    }
   ],
   "source": [
    "anno_mi.head()"
   ]
  },
  {
   "cell_type": "code",
   "execution_count": 7,
   "id": "84d5594d",
   "metadata": {},
   "outputs": [
    {
     "data": {
      "text/plain": [
       "(9699, 384)"
      ]
     },
     "execution_count": 7,
     "metadata": {},
     "output_type": "execute_result"
    }
   ],
   "source": [
    "with open(\"../anno_mi_sbert.pkl\", \"rb\") as f:\n",
    "    sbert_embeddings = pickle.load(f)\n",
    "\n",
    "sbert_embeddings.shape"
   ]
  },
  {
   "cell_type": "code",
   "execution_count": 8,
   "id": "4daab8de",
   "metadata": {},
   "outputs": [],
   "source": [
    "features = [\"time_encoding\", \"timeline_index\"]\n",
    "standardise_method = [\"z_score\", None]\n",
    "include_features_in_path = True\n",
    "include_features_in_input = True"
   ]
  },
  {
   "cell_type": "code",
   "execution_count": 9,
   "id": "1f5e3893",
   "metadata": {},
   "outputs": [],
   "source": [
    "num_epochs = 100\n",
    "dimensions = [15]\n",
    "swnu_hidden_dim_sizes_and_sig_depths = [([12], 3), ([10], 4)]\n",
    "lstm_hidden_dim_sizes = [384]\n",
    "ffn_hidden_dim_sizes = [[256, 256], [512, 512]]\n",
    "dropout_rates = [0.1, 0.2]\n",
    "learning_rates = [1e-3, 1e-4, 5e-4]\n",
    "seeds = [1, 12, 123]\n",
    "loss = \"focal\"\n",
    "gamma = 2\n",
    "validation_metric = \"f1\"\n",
    "patience = 5"
   ]
  },
  {
   "cell_type": "code",
   "execution_count": 10,
   "id": "a124a68c",
   "metadata": {},
   "outputs": [],
   "source": [
    "kwargs = {\n",
    "    \"num_epochs\": num_epochs,\n",
    "    \"df\": anno_mi,\n",
    "    \"id_column\": \"transcript_id\",\n",
    "    \"label_column\": \"client_talk_type\",\n",
    "    \"embeddings\": sbert_embeddings,\n",
    "    \"y_data\": y_data_client,\n",
    "    \"output_dim\": output_dim_client,\n",
    "    \"dimensions\": dimensions,\n",
    "    \"log_signature\": True,\n",
    "    \"pooling\": \"signature\",\n",
    "    \"swnu_hidden_dim_sizes_and_sig_depths\": swnu_hidden_dim_sizes_and_sig_depths,\n",
    "    \"lstm_hidden_dim_sizes\": lstm_hidden_dim_sizes,\n",
    "    \"ffn_hidden_dim_sizes\": ffn_hidden_dim_sizes,\n",
    "    \"dropout_rates\": dropout_rates,\n",
    "    \"learning_rates\": learning_rates,\n",
    "    \"BiLSTM\": True,\n",
    "    \"seeds\": seeds,\n",
    "    \"loss\": loss,\n",
    "    \"gamma\": gamma,\n",
    "    \"device\": device,\n",
    "    \"features\": features,\n",
    "    \"standardise_method\": standardise_method,\n",
    "    \"include_features_in_path\": include_features_in_path,\n",
    "    \"include_features_in_input\": include_features_in_input,\n",
    "    \"path_indices\": client_index,\n",
    "    \"split_ids\": client_transcript_id,\n",
    "    \"k_fold\": True,\n",
    "    \"patience\": patience,\n",
    "    \"validation_metric\": validation_metric,\n",
    "    \"verbose\": False,\n",
    "}"
   ]
  },
  {
   "cell_type": "markdown",
   "id": "4dbfefaa-f4c6-47f2-b159-d10b705de7ff",
   "metadata": {
    "tags": []
   },
   "source": [
    "# history_length=11"
   ]
  },
  {
   "cell_type": "code",
   "execution_count": 11,
   "id": "d276859d-299b-48b1-a7cb-e0dc898498ab",
   "metadata": {},
   "outputs": [],
   "source": [
    "shift = 3\n",
    "window_size = 5\n",
    "n = 3"
   ]
  },
  {
   "cell_type": "markdown",
   "id": "143024f5-2141-4474-8e9a-5fc9b5cfb967",
   "metadata": {},
   "source": [
    "## GRP"
   ]
  },
  {
   "cell_type": "code",
   "execution_count": 12,
   "id": "6ac9ce58-e338-4f92-9d27-e41c18968f27",
   "metadata": {},
   "outputs": [
    {
     "data": {
      "application/vnd.jupyter.widget-view+json": {
       "model_id": "a92f6929901e40ed9dc900e3823d2588",
       "version_major": 2,
       "version_minor": 0
      },
      "text/plain": [
       "  0%|          | 0/1 [00:00<?, ?it/s]"
      ]
     },
     "metadata": {},
     "output_type": "display_data"
    },
    {
     "data": {
      "application/vnd.jupyter.widget-view+json": {
       "model_id": "d255980eb5fc41139f20b89f736b1370",
       "version_major": 2,
       "version_minor": 0
      },
      "text/plain": [
       "  0%|          | 0/1 [00:00<?, ?it/s]"
      ]
     },
     "metadata": {},
     "output_type": "display_data"
    },
    {
     "name": "stdout",
     "output_type": "stream",
     "text": [
      "\n",
      "##################################################\n",
      "dimension: 15 | method: gaussian_random_projection\n",
      "given shift 3, window size 5 and n 3: history length = 11\n",
      "[INFO] Concatenating the embeddings to the dataframe...\n",
      "[INFO] - columns beginning with 'e' denote the full embddings.\n",
      "[INFO] - columns beginning with 'd' denote the dimension reduced embeddings.\n",
      "[INFO] Adding time feature columns into dataframe in `.df`.\n",
      "[INFO] Adding 'time_encoding' feature...\n",
      "[INFO] Adding 'time_diff' feature...\n",
      "[INFO] Adding 'timeline_index' feature...\n",
      "[INFO] Padding ids and storing in `.df_padded` and `.array_padded` attributes.\n"
     ]
    },
    {
     "data": {
      "application/vnd.jupyter.widget-view+json": {
       "model_id": "1fa9f4e40918496ea54157b761991a66",
       "version_major": 2,
       "version_minor": 0
      },
      "text/plain": [
       "  0%|          | 0/9699 [00:00<?, ?it/s]"
      ]
     },
     "metadata": {},
     "output_type": "display_data"
    },
    {
     "name": "stdout",
     "output_type": "stream",
     "text": [
      "[INFO] The path was created for each item in the dataframe, by looking at its history, so to include embeddings in the FFN input, we concatenate the embeddings for each sentence / text.\n"
     ]
    },
    {
     "data": {
      "application/vnd.jupyter.widget-view+json": {
       "model_id": "2968935a6e7447f78716d90a7383a36f",
       "version_major": 2,
       "version_minor": 0
      },
      "text/plain": [
       "  0%|          | 0/2 [00:00<?, ?it/s]"
      ]
     },
     "metadata": {},
     "output_type": "display_data"
    },
    {
     "data": {
      "application/vnd.jupyter.widget-view+json": {
       "model_id": "31a283a0e0654646be5b110ba4ff29aa",
       "version_major": 2,
       "version_minor": 0
      },
      "text/plain": [
       "  0%|          | 0/1 [00:00<?, ?it/s]"
      ]
     },
     "metadata": {},
     "output_type": "display_data"
    },
    {
     "data": {
      "application/vnd.jupyter.widget-view+json": {
       "model_id": "e3a4ece1942e40828a84237996d914a3",
       "version_major": 2,
       "version_minor": 0
      },
      "text/plain": [
       "  0%|          | 0/2 [00:00<?, ?it/s]"
      ]
     },
     "metadata": {},
     "output_type": "display_data"
    },
    {
     "data": {
      "application/vnd.jupyter.widget-view+json": {
       "model_id": "c677cc2584f443f7af84e4025b8fbd07",
       "version_major": 2,
       "version_minor": 0
      },
      "text/plain": [
       "  0%|          | 0/1 [00:00<?, ?it/s]"
      ]
     },
     "metadata": {},
     "output_type": "display_data"
    },
    {
     "data": {
      "application/vnd.jupyter.widget-view+json": {
       "model_id": "8455c7e199ab4ef49b966c37319ae2d8",
       "version_major": 2,
       "version_minor": 0
      },
      "text/plain": [
       "  0%|          | 0/2 [00:00<?, ?it/s]"
      ]
     },
     "metadata": {},
     "output_type": "display_data"
    },
    {
     "data": {
      "application/vnd.jupyter.widget-view+json": {
       "model_id": "a8177390d8364df884eb0c19ef68623f",
       "version_major": 2,
       "version_minor": 0
      },
      "text/plain": [
       "  0%|          | 0/3 [00:00<?, ?it/s]"
      ]
     },
     "metadata": {},
     "output_type": "display_data"
    },
    {
     "data": {
      "application/vnd.jupyter.widget-view+json": {
       "model_id": "de236d9bb4df45978ba77b2352d6f112",
       "version_major": 2,
       "version_minor": 0
      },
      "text/plain": [
       "  0%|          | 0/3 [00:00<?, ?it/s]"
      ]
     },
     "metadata": {},
     "output_type": "display_data"
    },
    {
     "data": {
      "application/vnd.jupyter.widget-view+json": {
       "model_id": "458fe4b51d854d27bf1d77ebf284d07e",
       "version_major": 2,
       "version_minor": 0
      },
      "text/plain": [
       "  0%|          | 0/1 [00:00<?, ?it/s]"
      ]
     },
     "metadata": {},
     "output_type": "display_data"
    },
    {
     "data": {
      "application/vnd.jupyter.widget-view+json": {
       "model_id": "8fc6ccdc54e246c38de0b82c8bfcdb52",
       "version_major": 2,
       "version_minor": 0
      },
      "text/plain": [
       "  0%|          | 0/2 [00:00<?, ?it/s]"
      ]
     },
     "metadata": {},
     "output_type": "display_data"
    },
    {
     "data": {
      "application/vnd.jupyter.widget-view+json": {
       "model_id": "b913af372a98406ca6c61ecc1b83caba",
       "version_major": 2,
       "version_minor": 0
      },
      "text/plain": [
       "  0%|          | 0/3 [00:00<?, ?it/s]"
      ]
     },
     "metadata": {},
     "output_type": "display_data"
    },
    {
     "data": {
      "application/vnd.jupyter.widget-view+json": {
       "model_id": "eb974e1e3b06451f964caba0865bdf49",
       "version_major": 2,
       "version_minor": 0
      },
      "text/plain": [
       "  0%|          | 0/3 [00:00<?, ?it/s]"
      ]
     },
     "metadata": {},
     "output_type": "display_data"
    },
    {
     "data": {
      "application/vnd.jupyter.widget-view+json": {
       "model_id": "200a350cef7f4d1bbad2e19caea975f7",
       "version_major": 2,
       "version_minor": 0
      },
      "text/plain": [
       "  0%|          | 0/1 [00:00<?, ?it/s]"
      ]
     },
     "metadata": {},
     "output_type": "display_data"
    },
    {
     "data": {
      "application/vnd.jupyter.widget-view+json": {
       "model_id": "cd6f28ead0314f4084ecabd018e4c124",
       "version_major": 2,
       "version_minor": 0
      },
      "text/plain": [
       "  0%|          | 0/2 [00:00<?, ?it/s]"
      ]
     },
     "metadata": {},
     "output_type": "display_data"
    },
    {
     "data": {
      "application/vnd.jupyter.widget-view+json": {
       "model_id": "f6d9c9aa835b4904a1513f03bba96dbf",
       "version_major": 2,
       "version_minor": 0
      },
      "text/plain": [
       "  0%|          | 0/1 [00:00<?, ?it/s]"
      ]
     },
     "metadata": {},
     "output_type": "display_data"
    },
    {
     "data": {
      "application/vnd.jupyter.widget-view+json": {
       "model_id": "8ffad7ee42c348e684e34ab9fef84914",
       "version_major": 2,
       "version_minor": 0
      },
      "text/plain": [
       "  0%|          | 0/2 [00:00<?, ?it/s]"
      ]
     },
     "metadata": {},
     "output_type": "display_data"
    },
    {
     "data": {
      "application/vnd.jupyter.widget-view+json": {
       "model_id": "1252f0517d6347a5b2772bd2594a1c97",
       "version_major": 2,
       "version_minor": 0
      },
      "text/plain": [
       "  0%|          | 0/3 [00:00<?, ?it/s]"
      ]
     },
     "metadata": {},
     "output_type": "display_data"
    },
    {
     "data": {
      "application/vnd.jupyter.widget-view+json": {
       "model_id": "d6149fd633b04788931636c47ada2bd6",
       "version_major": 2,
       "version_minor": 0
      },
      "text/plain": [
       "  0%|          | 0/3 [00:00<?, ?it/s]"
      ]
     },
     "metadata": {},
     "output_type": "display_data"
    },
    {
     "data": {
      "application/vnd.jupyter.widget-view+json": {
       "model_id": "ff2ba6a22eff4c269719fa48936e9220",
       "version_major": 2,
       "version_minor": 0
      },
      "text/plain": [
       "  0%|          | 0/1 [00:00<?, ?it/s]"
      ]
     },
     "metadata": {},
     "output_type": "display_data"
    },
    {
     "data": {
      "application/vnd.jupyter.widget-view+json": {
       "model_id": "190ccecb43414a8ab94544f11f56b983",
       "version_major": 2,
       "version_minor": 0
      },
      "text/plain": [
       "  0%|          | 0/2 [00:00<?, ?it/s]"
      ]
     },
     "metadata": {},
     "output_type": "display_data"
    },
    {
     "data": {
      "application/vnd.jupyter.widget-view+json": {
       "model_id": "b47ed15b5167458ea59ac5372de8df11",
       "version_major": 2,
       "version_minor": 0
      },
      "text/plain": [
       "  0%|          | 0/3 [00:00<?, ?it/s]"
      ]
     },
     "metadata": {},
     "output_type": "display_data"
    },
    {
     "data": {
      "application/vnd.jupyter.widget-view+json": {
       "model_id": "7f68967cfd294515923686b775d54195",
       "version_major": 2,
       "version_minor": 0
      },
      "text/plain": [
       "  0%|          | 0/3 [00:00<?, ?it/s]"
      ]
     },
     "metadata": {},
     "output_type": "display_data"
    },
    {
     "name": "stdout",
     "output_type": "stream",
     "text": [
      "given shift 3, window size 5 and n 3: history length = 11\n",
      "[INFO] Concatenating the embeddings to the dataframe...\n",
      "[INFO] - columns beginning with 'e' denote the full embddings.\n",
      "[INFO] - columns beginning with 'd' denote the dimension reduced embeddings.\n",
      "[INFO] Adding time feature columns into dataframe in `.df`.\n",
      "[INFO] Adding 'time_encoding' feature...\n",
      "[INFO] Adding 'time_diff' feature...\n",
      "[INFO] Adding 'timeline_index' feature...\n",
      "[INFO] Padding ids and storing in `.df_padded` and `.array_padded` attributes.\n"
     ]
    },
    {
     "data": {
      "application/vnd.jupyter.widget-view+json": {
       "model_id": "7c2ad6fbc4c14ca299a2a76c24435c2d",
       "version_major": 2,
       "version_minor": 0
      },
      "text/plain": [
       "  0%|          | 0/9699 [00:00<?, ?it/s]"
      ]
     },
     "metadata": {},
     "output_type": "display_data"
    },
    {
     "name": "stdout",
     "output_type": "stream",
     "text": [
      "[INFO] The path was created for each item in the dataframe, by looking at its history, so to include embeddings in the FFN input, we concatenate the embeddings for each sentence / text.\n",
      "saving results dataframe to CSV for this hyperparameter search in client_talk_type_output/seqsignet_grp_focal_2_3_5_3_kfold.csv\n",
      "saving the best model results dataframe to CSV for this hyperparameter search in client_talk_type_output/seqsignet_grp_focal_2_3_5_3_kfold_best_model.csv\n"
     ]
    }
   ],
   "source": [
    "(\n",
    "    seqsignet_network_grp_kfold_11,\n",
    "    best_seqsignet_network_grp_kfold_11,\n",
    "    _,\n",
    "    __,\n",
    ") = seqsignet_hyperparameter_search(\n",
    "    shift=shift,\n",
    "    window_size=window_size,\n",
    "    n=n,\n",
    "    dim_reduce_methods=[\"gaussian_random_projection\"],\n",
    "    results_output=f\"{output_dir}/seqsignet_grp_focal_{gamma}_{shift}_{window_size}_{n}_kfold.csv\",\n",
    "    **kwargs,\n",
    ")"
   ]
  },
  {
   "cell_type": "code",
   "execution_count": 13,
   "id": "36f8a786-08d0-4d9a-a52e-4c2414cee3fd",
   "metadata": {},
   "outputs": [
    {
     "data": {
      "text/html": [
       "<div>\n",
       "<style scoped>\n",
       "    .dataframe tbody tr th:only-of-type {\n",
       "        vertical-align: middle;\n",
       "    }\n",
       "\n",
       "    .dataframe tbody tr th {\n",
       "        vertical-align: top;\n",
       "    }\n",
       "\n",
       "    .dataframe thead th {\n",
       "        text-align: right;\n",
       "    }\n",
       "</style>\n",
       "<table border=\"1\" class=\"dataframe\">\n",
       "  <thead>\n",
       "    <tr style=\"text-align: right;\">\n",
       "      <th></th>\n",
       "      <th>loss</th>\n",
       "      <th>accuracy</th>\n",
       "      <th>f1</th>\n",
       "      <th>f1_scores</th>\n",
       "      <th>precision</th>\n",
       "      <th>precision_scores</th>\n",
       "      <th>recall</th>\n",
       "      <th>recall_scores</th>\n",
       "      <th>valid_loss</th>\n",
       "      <th>valid_accuracy</th>\n",
       "      <th>...</th>\n",
       "      <th>BiLSTM</th>\n",
       "      <th>loss_function</th>\n",
       "      <th>gamma</th>\n",
       "      <th>k_fold</th>\n",
       "      <th>n_splits</th>\n",
       "      <th>augmentation_type</th>\n",
       "      <th>hidden_dim_aug</th>\n",
       "      <th>comb_method</th>\n",
       "      <th>batch_size</th>\n",
       "      <th>model_id</th>\n",
       "    </tr>\n",
       "  </thead>\n",
       "  <tbody>\n",
       "    <tr>\n",
       "      <th>0</th>\n",
       "      <td>None</td>\n",
       "      <td>0.627778</td>\n",
       "      <td>0.492208</td>\n",
       "      <td>[0.757208765859285, 0.39842726081258195, 0.320...</td>\n",
       "      <td>0.490554</td>\n",
       "      <td>[0.7550316273720529, 0.4233983286908078, 0.293...</td>\n",
       "      <td>0.496727</td>\n",
       "      <td>[0.7593984962406015, 0.37623762376237624, 0.35...</td>\n",
       "      <td>None</td>\n",
       "      <td>0.664740</td>\n",
       "      <td>...</td>\n",
       "      <td>True</td>\n",
       "      <td>focal</td>\n",
       "      <td>2</td>\n",
       "      <td>True</td>\n",
       "      <td>5</td>\n",
       "      <td>Conv1d</td>\n",
       "      <td>None</td>\n",
       "      <td>concatenation</td>\n",
       "      <td>64</td>\n",
       "      <td>0</td>\n",
       "    </tr>\n",
       "    <tr>\n",
       "      <th>0</th>\n",
       "      <td>None</td>\n",
       "      <td>0.621839</td>\n",
       "      <td>0.506363</td>\n",
       "      <td>[0.744645799011532, 0.43302180685358255, 0.341...</td>\n",
       "      <td>0.499533</td>\n",
       "      <td>[0.7722895309102206, 0.41002949852507375, 0.31...</td>\n",
       "      <td>0.516189</td>\n",
       "      <td>[0.7189126662810873, 0.45874587458745875, 0.37...</td>\n",
       "      <td>None</td>\n",
       "      <td>0.658157</td>\n",
       "      <td>...</td>\n",
       "      <td>True</td>\n",
       "      <td>focal</td>\n",
       "      <td>2</td>\n",
       "      <td>True</td>\n",
       "      <td>5</td>\n",
       "      <td>Conv1d</td>\n",
       "      <td>None</td>\n",
       "      <td>concatenation</td>\n",
       "      <td>64</td>\n",
       "      <td>0</td>\n",
       "    </tr>\n",
       "    <tr>\n",
       "      <th>0</th>\n",
       "      <td>None</td>\n",
       "      <td>0.618966</td>\n",
       "      <td>0.501558</td>\n",
       "      <td>[0.7406066093254866, 0.4389713871785585, 0.325...</td>\n",
       "      <td>0.502078</td>\n",
       "      <td>[0.7743767750078889, 0.39122014202711425, 0.34...</td>\n",
       "      <td>0.506856</td>\n",
       "      <td>[0.7096587622903412, 0.5, 0.3109090909090909]</td>\n",
       "      <td>None</td>\n",
       "      <td>0.657996</td>\n",
       "      <td>...</td>\n",
       "      <td>True</td>\n",
       "      <td>focal</td>\n",
       "      <td>2</td>\n",
       "      <td>True</td>\n",
       "      <td>5</td>\n",
       "      <td>Conv1d</td>\n",
       "      <td>None</td>\n",
       "      <td>concatenation</td>\n",
       "      <td>64</td>\n",
       "      <td>0</td>\n",
       "    </tr>\n",
       "    <tr>\n",
       "      <th>0</th>\n",
       "      <td>None</td>\n",
       "      <td>0.644061</td>\n",
       "      <td>0.519033</td>\n",
       "      <td>[0.7743740795287188, 0.4280821917808219, 0.354...</td>\n",
       "      <td>0.512943</td>\n",
       "      <td>[0.789015606242497, 0.44483985765124556, 0.304...</td>\n",
       "      <td>0.532148</td>\n",
       "      <td>[0.760266049739734, 0.41254125412541254, 0.423...</td>\n",
       "      <td>None</td>\n",
       "      <td>0.665061</td>\n",
       "      <td>...</td>\n",
       "      <td>True</td>\n",
       "      <td>focal</td>\n",
       "      <td>2</td>\n",
       "      <td>True</td>\n",
       "      <td>5</td>\n",
       "      <td>Conv1d</td>\n",
       "      <td>None</td>\n",
       "      <td>concatenation</td>\n",
       "      <td>64</td>\n",
       "      <td>1</td>\n",
       "    </tr>\n",
       "    <tr>\n",
       "      <th>0</th>\n",
       "      <td>None</td>\n",
       "      <td>0.636398</td>\n",
       "      <td>0.512537</td>\n",
       "      <td>[0.7630296766573158, 0.4324765401876785, 0.342...</td>\n",
       "      <td>0.506521</td>\n",
       "      <td>[0.7794871794871795, 0.42776432606941084, 0.31...</td>\n",
       "      <td>0.520909</td>\n",
       "      <td>[0.7472527472527473, 0.4372937293729373, 0.378...</td>\n",
       "      <td>None</td>\n",
       "      <td>0.671644</td>\n",
       "      <td>...</td>\n",
       "      <td>True</td>\n",
       "      <td>focal</td>\n",
       "      <td>2</td>\n",
       "      <td>True</td>\n",
       "      <td>5</td>\n",
       "      <td>Conv1d</td>\n",
       "      <td>None</td>\n",
       "      <td>concatenation</td>\n",
       "      <td>64</td>\n",
       "      <td>1</td>\n",
       "    </tr>\n",
       "    <tr>\n",
       "      <th>...</th>\n",
       "      <td>...</td>\n",
       "      <td>...</td>\n",
       "      <td>...</td>\n",
       "      <td>...</td>\n",
       "      <td>...</td>\n",
       "      <td>...</td>\n",
       "      <td>...</td>\n",
       "      <td>...</td>\n",
       "      <td>...</td>\n",
       "      <td>...</td>\n",
       "      <td>...</td>\n",
       "      <td>...</td>\n",
       "      <td>...</td>\n",
       "      <td>...</td>\n",
       "      <td>...</td>\n",
       "      <td>...</td>\n",
       "      <td>...</td>\n",
       "      <td>...</td>\n",
       "      <td>...</td>\n",
       "      <td>...</td>\n",
       "      <td>...</td>\n",
       "    </tr>\n",
       "    <tr>\n",
       "      <th>0</th>\n",
       "      <td>None</td>\n",
       "      <td>0.633142</td>\n",
       "      <td>0.496426</td>\n",
       "      <td>[0.7675191446322784, 0.38869257950530034, 0.33...</td>\n",
       "      <td>0.493890</td>\n",
       "      <td>[0.7669650591972278, 0.41825095057034223, 0.29...</td>\n",
       "      <td>0.503703</td>\n",
       "      <td>[0.768074031231926, 0.36303630363036304, 0.38]</td>\n",
       "      <td>None</td>\n",
       "      <td>0.663777</td>\n",
       "      <td>...</td>\n",
       "      <td>True</td>\n",
       "      <td>focal</td>\n",
       "      <td>2</td>\n",
       "      <td>True</td>\n",
       "      <td>5</td>\n",
       "      <td>Conv1d</td>\n",
       "      <td>None</td>\n",
       "      <td>concatenation</td>\n",
       "      <td>64</td>\n",
       "      <td>22</td>\n",
       "    </tr>\n",
       "    <tr>\n",
       "      <th>0</th>\n",
       "      <td>None</td>\n",
       "      <td>0.631034</td>\n",
       "      <td>0.496051</td>\n",
       "      <td>[0.7602759413624604, 0.38957710380179417, 0.33...</td>\n",
       "      <td>0.495392</td>\n",
       "      <td>[0.7557142857142857, 0.4038972542072631, 0.326...</td>\n",
       "      <td>0.497347</td>\n",
       "      <td>[0.764893001735107, 0.37623762376237624, 0.350...</td>\n",
       "      <td>None</td>\n",
       "      <td>0.672447</td>\n",
       "      <td>...</td>\n",
       "      <td>True</td>\n",
       "      <td>focal</td>\n",
       "      <td>2</td>\n",
       "      <td>True</td>\n",
       "      <td>5</td>\n",
       "      <td>Conv1d</td>\n",
       "      <td>None</td>\n",
       "      <td>concatenation</td>\n",
       "      <td>64</td>\n",
       "      <td>22</td>\n",
       "    </tr>\n",
       "    <tr>\n",
       "      <th>0</th>\n",
       "      <td>None</td>\n",
       "      <td>0.640230</td>\n",
       "      <td>0.525272</td>\n",
       "      <td>[0.7610752365220004, 0.46522593320235756, 0.34...</td>\n",
       "      <td>0.516869</td>\n",
       "      <td>[0.7916276163698844, 0.4441110277569392, 0.314...</td>\n",
       "      <td>0.537990</td>\n",
       "      <td>[0.7327935222672065, 0.4884488448844885, 0.392...</td>\n",
       "      <td>None</td>\n",
       "      <td>0.654303</td>\n",
       "      <td>...</td>\n",
       "      <td>True</td>\n",
       "      <td>focal</td>\n",
       "      <td>2</td>\n",
       "      <td>True</td>\n",
       "      <td>5</td>\n",
       "      <td>Conv1d</td>\n",
       "      <td>None</td>\n",
       "      <td>concatenation</td>\n",
       "      <td>64</td>\n",
       "      <td>23</td>\n",
       "    </tr>\n",
       "    <tr>\n",
       "      <th>0</th>\n",
       "      <td>None</td>\n",
       "      <td>0.648467</td>\n",
       "      <td>0.510863</td>\n",
       "      <td>[0.7789173789173789, 0.39284032030146016, 0.36...</td>\n",
       "      <td>0.512846</td>\n",
       "      <td>[0.7675463222908478, 0.45773874862788144, 0.31...</td>\n",
       "      <td>0.520048</td>\n",
       "      <td>[0.7906304222093696, 0.34405940594059403, 0.42...</td>\n",
       "      <td>None</td>\n",
       "      <td>0.666988</td>\n",
       "      <td>...</td>\n",
       "      <td>True</td>\n",
       "      <td>focal</td>\n",
       "      <td>2</td>\n",
       "      <td>True</td>\n",
       "      <td>5</td>\n",
       "      <td>Conv1d</td>\n",
       "      <td>None</td>\n",
       "      <td>concatenation</td>\n",
       "      <td>64</td>\n",
       "      <td>23</td>\n",
       "    </tr>\n",
       "    <tr>\n",
       "      <th>0</th>\n",
       "      <td>None</td>\n",
       "      <td>0.628927</td>\n",
       "      <td>0.504016</td>\n",
       "      <td>[0.7672247740405986, 0.3897849462365591, 0.355...</td>\n",
       "      <td>0.499363</td>\n",
       "      <td>[0.7866909753874203, 0.4264705882352941, 0.284...</td>\n",
       "      <td>0.526173</td>\n",
       "      <td>[0.7486986697513013, 0.3589108910891089, 0.470...</td>\n",
       "      <td>None</td>\n",
       "      <td>0.651895</td>\n",
       "      <td>...</td>\n",
       "      <td>True</td>\n",
       "      <td>focal</td>\n",
       "      <td>2</td>\n",
       "      <td>True</td>\n",
       "      <td>5</td>\n",
       "      <td>Conv1d</td>\n",
       "      <td>None</td>\n",
       "      <td>concatenation</td>\n",
       "      <td>64</td>\n",
       "      <td>23</td>\n",
       "    </tr>\n",
       "  </tbody>\n",
       "</table>\n",
       "<p>72 rows × 49 columns</p>\n",
       "</div>"
      ],
      "text/plain": [
       "    loss  accuracy        f1  \\\n",
       "0   None  0.627778  0.492208   \n",
       "0   None  0.621839  0.506363   \n",
       "0   None  0.618966  0.501558   \n",
       "0   None  0.644061  0.519033   \n",
       "0   None  0.636398  0.512537   \n",
       "..   ...       ...       ...   \n",
       "0   None  0.633142  0.496426   \n",
       "0   None  0.631034  0.496051   \n",
       "0   None  0.640230  0.525272   \n",
       "0   None  0.648467  0.510863   \n",
       "0   None  0.628927  0.504016   \n",
       "\n",
       "                                            f1_scores  precision  \\\n",
       "0   [0.757208765859285, 0.39842726081258195, 0.320...   0.490554   \n",
       "0   [0.744645799011532, 0.43302180685358255, 0.341...   0.499533   \n",
       "0   [0.7406066093254866, 0.4389713871785585, 0.325...   0.502078   \n",
       "0   [0.7743740795287188, 0.4280821917808219, 0.354...   0.512943   \n",
       "0   [0.7630296766573158, 0.4324765401876785, 0.342...   0.506521   \n",
       "..                                                ...        ...   \n",
       "0   [0.7675191446322784, 0.38869257950530034, 0.33...   0.493890   \n",
       "0   [0.7602759413624604, 0.38957710380179417, 0.33...   0.495392   \n",
       "0   [0.7610752365220004, 0.46522593320235756, 0.34...   0.516869   \n",
       "0   [0.7789173789173789, 0.39284032030146016, 0.36...   0.512846   \n",
       "0   [0.7672247740405986, 0.3897849462365591, 0.355...   0.499363   \n",
       "\n",
       "                                     precision_scores    recall  \\\n",
       "0   [0.7550316273720529, 0.4233983286908078, 0.293...  0.496727   \n",
       "0   [0.7722895309102206, 0.41002949852507375, 0.31...  0.516189   \n",
       "0   [0.7743767750078889, 0.39122014202711425, 0.34...  0.506856   \n",
       "0   [0.789015606242497, 0.44483985765124556, 0.304...  0.532148   \n",
       "0   [0.7794871794871795, 0.42776432606941084, 0.31...  0.520909   \n",
       "..                                                ...       ...   \n",
       "0   [0.7669650591972278, 0.41825095057034223, 0.29...  0.503703   \n",
       "0   [0.7557142857142857, 0.4038972542072631, 0.326...  0.497347   \n",
       "0   [0.7916276163698844, 0.4441110277569392, 0.314...  0.537990   \n",
       "0   [0.7675463222908478, 0.45773874862788144, 0.31...  0.520048   \n",
       "0   [0.7866909753874203, 0.4264705882352941, 0.284...  0.526173   \n",
       "\n",
       "                                        recall_scores valid_loss  \\\n",
       "0   [0.7593984962406015, 0.37623762376237624, 0.35...       None   \n",
       "0   [0.7189126662810873, 0.45874587458745875, 0.37...       None   \n",
       "0       [0.7096587622903412, 0.5, 0.3109090909090909]       None   \n",
       "0   [0.760266049739734, 0.41254125412541254, 0.423...       None   \n",
       "0   [0.7472527472527473, 0.4372937293729373, 0.378...       None   \n",
       "..                                                ...        ...   \n",
       "0      [0.768074031231926, 0.36303630363036304, 0.38]       None   \n",
       "0   [0.764893001735107, 0.37623762376237624, 0.350...       None   \n",
       "0   [0.7327935222672065, 0.4884488448844885, 0.392...       None   \n",
       "0   [0.7906304222093696, 0.34405940594059403, 0.42...       None   \n",
       "0   [0.7486986697513013, 0.3589108910891089, 0.470...       None   \n",
       "\n",
       "    valid_accuracy  ...  BiLSTM loss_function  gamma k_fold  n_splits  \\\n",
       "0         0.664740  ...    True         focal      2   True         5   \n",
       "0         0.658157  ...    True         focal      2   True         5   \n",
       "0         0.657996  ...    True         focal      2   True         5   \n",
       "0         0.665061  ...    True         focal      2   True         5   \n",
       "0         0.671644  ...    True         focal      2   True         5   \n",
       "..             ...  ...     ...           ...    ...    ...       ...   \n",
       "0         0.663777  ...    True         focal      2   True         5   \n",
       "0         0.672447  ...    True         focal      2   True         5   \n",
       "0         0.654303  ...    True         focal      2   True         5   \n",
       "0         0.666988  ...    True         focal      2   True         5   \n",
       "0         0.651895  ...    True         focal      2   True         5   \n",
       "\n",
       "   augmentation_type  hidden_dim_aug    comb_method  batch_size  model_id  \n",
       "0             Conv1d            None  concatenation          64         0  \n",
       "0             Conv1d            None  concatenation          64         0  \n",
       "0             Conv1d            None  concatenation          64         0  \n",
       "0             Conv1d            None  concatenation          64         1  \n",
       "0             Conv1d            None  concatenation          64         1  \n",
       "..               ...             ...            ...         ...       ...  \n",
       "0             Conv1d            None  concatenation          64        22  \n",
       "0             Conv1d            None  concatenation          64        22  \n",
       "0             Conv1d            None  concatenation          64        23  \n",
       "0             Conv1d            None  concatenation          64        23  \n",
       "0             Conv1d            None  concatenation          64        23  \n",
       "\n",
       "[72 rows x 49 columns]"
      ]
     },
     "execution_count": 13,
     "metadata": {},
     "output_type": "execute_result"
    }
   ],
   "source": [
    "seqsignet_network_grp_kfold_11"
   ]
  },
  {
   "cell_type": "code",
   "execution_count": 14,
   "id": "45ca8250-608a-48eb-aab9-16773521050a",
   "metadata": {},
   "outputs": [
    {
     "data": {
      "text/plain": [
       "0.5123820701801569"
      ]
     },
     "execution_count": 14,
     "metadata": {},
     "output_type": "execute_result"
    }
   ],
   "source": [
    "best_seqsignet_network_grp_kfold_11[\"f1\"].mean()"
   ]
  },
  {
   "cell_type": "code",
   "execution_count": 15,
   "id": "bed09511-e12a-4bed-93a5-8312dd8153f6",
   "metadata": {},
   "outputs": [
    {
     "data": {
      "text/plain": [
       "0.5101369231220637"
      ]
     },
     "execution_count": 15,
     "metadata": {},
     "output_type": "execute_result"
    }
   ],
   "source": [
    "best_seqsignet_network_grp_kfold_11[\"precision\"].mean()"
   ]
  },
  {
   "cell_type": "code",
   "execution_count": 16,
   "id": "783b9d23-ed69-4d85-8f39-68837145ef0e",
   "metadata": {},
   "outputs": [
    {
     "data": {
      "text/plain": [
       "0.5205559152406468"
      ]
     },
     "execution_count": 16,
     "metadata": {},
     "output_type": "execute_result"
    }
   ],
   "source": [
    "best_seqsignet_network_grp_kfold_11[\"recall\"].mean()"
   ]
  },
  {
   "cell_type": "code",
   "execution_count": 17,
   "id": "6ce382d7-fb4b-4f2f-940a-2af5f70b222a",
   "metadata": {},
   "outputs": [
    {
     "data": {
      "text/plain": [
       "array([0.76515619, 0.42276003, 0.34922999])"
      ]
     },
     "execution_count": 17,
     "metadata": {},
     "output_type": "execute_result"
    }
   ],
   "source": [
    "np.stack(best_seqsignet_network_grp_kfold_11[\"f1_scores\"]).mean(axis=0)"
   ]
  },
  {
   "cell_type": "code",
   "execution_count": 18,
   "id": "143b8c68-175f-4a3f-bc90-5980c7ac0a02",
   "metadata": {},
   "outputs": [
    {
     "data": {
      "text/plain": [
       "array([0.76767588, 0.45053642, 0.31219847])"
      ]
     },
     "execution_count": 18,
     "metadata": {},
     "output_type": "execute_result"
    }
   ],
   "source": [
    "np.stack(best_seqsignet_network_grp_kfold_11[\"precision_scores\"]).mean(axis=0)"
   ]
  },
  {
   "cell_type": "code",
   "execution_count": 19,
   "id": "cc0bd39d-9190-41ec-89a5-9b28e29daf93",
   "metadata": {},
   "outputs": [
    {
     "data": {
      "text/plain": [
       "array([0.76315789, 0.40154015, 0.3969697 ])"
      ]
     },
     "execution_count": 19,
     "metadata": {},
     "output_type": "execute_result"
    }
   ],
   "source": [
    "np.stack(best_seqsignet_network_grp_kfold_11[\"recall_scores\"]).mean(axis=0)"
   ]
  },
  {
   "cell_type": "markdown",
   "id": "de271d33-3a57-419a-8372-279af9a0a9bb",
   "metadata": {
    "tags": []
   },
   "source": [
    "# history_length=20"
   ]
  },
  {
   "cell_type": "code",
   "execution_count": 20,
   "id": "521165eb",
   "metadata": {},
   "outputs": [],
   "source": [
    "shift = 3\n",
    "window_size = 5\n",
    "n = 6"
   ]
  },
  {
   "cell_type": "markdown",
   "id": "811a6de0",
   "metadata": {},
   "source": [
    "## GRP"
   ]
  },
  {
   "cell_type": "code",
   "execution_count": 21,
   "id": "8b137f3c",
   "metadata": {},
   "outputs": [
    {
     "data": {
      "application/vnd.jupyter.widget-view+json": {
       "model_id": "ac2993a46a3c458c9b8d4dba18d7d7fb",
       "version_major": 2,
       "version_minor": 0
      },
      "text/plain": [
       "  0%|          | 0/1 [00:00<?, ?it/s]"
      ]
     },
     "metadata": {},
     "output_type": "display_data"
    },
    {
     "data": {
      "application/vnd.jupyter.widget-view+json": {
       "model_id": "170b3faef2b54119ba6865717260400e",
       "version_major": 2,
       "version_minor": 0
      },
      "text/plain": [
       "  0%|          | 0/1 [00:00<?, ?it/s]"
      ]
     },
     "metadata": {},
     "output_type": "display_data"
    },
    {
     "name": "stdout",
     "output_type": "stream",
     "text": [
      "\n",
      "##################################################\n",
      "dimension: 15 | method: gaussian_random_projection\n",
      "given shift 3, window size 5 and n 6: history length = 20\n",
      "[INFO] Concatenating the embeddings to the dataframe...\n",
      "[INFO] - columns beginning with 'e' denote the full embddings.\n",
      "[INFO] - columns beginning with 'd' denote the dimension reduced embeddings.\n",
      "[INFO] Adding time feature columns into dataframe in `.df`.\n",
      "[INFO] Adding 'time_encoding' feature...\n",
      "[INFO] Adding 'time_diff' feature...\n",
      "[INFO] Adding 'timeline_index' feature...\n",
      "[INFO] Padding ids and storing in `.df_padded` and `.array_padded` attributes.\n"
     ]
    },
    {
     "data": {
      "application/vnd.jupyter.widget-view+json": {
       "model_id": "b499535eb6744fff857693c28a4c189f",
       "version_major": 2,
       "version_minor": 0
      },
      "text/plain": [
       "  0%|          | 0/9699 [00:00<?, ?it/s]"
      ]
     },
     "metadata": {},
     "output_type": "display_data"
    },
    {
     "name": "stdout",
     "output_type": "stream",
     "text": [
      "[INFO] The path was created for each item in the dataframe, by looking at its history, so to include embeddings in the FFN input, we concatenate the embeddings for each sentence / text.\n"
     ]
    },
    {
     "data": {
      "application/vnd.jupyter.widget-view+json": {
       "model_id": "4f3c536df6f84d5e931853f53b317e6d",
       "version_major": 2,
       "version_minor": 0
      },
      "text/plain": [
       "  0%|          | 0/2 [00:00<?, ?it/s]"
      ]
     },
     "metadata": {},
     "output_type": "display_data"
    },
    {
     "data": {
      "application/vnd.jupyter.widget-view+json": {
       "model_id": "0a485bcc5e144f28b45cfdae4cb2fa2d",
       "version_major": 2,
       "version_minor": 0
      },
      "text/plain": [
       "  0%|          | 0/1 [00:00<?, ?it/s]"
      ]
     },
     "metadata": {},
     "output_type": "display_data"
    },
    {
     "data": {
      "application/vnd.jupyter.widget-view+json": {
       "model_id": "99184c7c1107444fb59ca77b56f922da",
       "version_major": 2,
       "version_minor": 0
      },
      "text/plain": [
       "  0%|          | 0/2 [00:00<?, ?it/s]"
      ]
     },
     "metadata": {},
     "output_type": "display_data"
    },
    {
     "data": {
      "application/vnd.jupyter.widget-view+json": {
       "model_id": "0e2bbc37ab464e56867a0efdcff6af99",
       "version_major": 2,
       "version_minor": 0
      },
      "text/plain": [
       "  0%|          | 0/1 [00:00<?, ?it/s]"
      ]
     },
     "metadata": {},
     "output_type": "display_data"
    },
    {
     "data": {
      "application/vnd.jupyter.widget-view+json": {
       "model_id": "f75231a34b604df7a186ca4489e9a77e",
       "version_major": 2,
       "version_minor": 0
      },
      "text/plain": [
       "  0%|          | 0/2 [00:00<?, ?it/s]"
      ]
     },
     "metadata": {},
     "output_type": "display_data"
    },
    {
     "data": {
      "application/vnd.jupyter.widget-view+json": {
       "model_id": "a3ef7bb70a5e4e14a0e1d8a66f80eee7",
       "version_major": 2,
       "version_minor": 0
      },
      "text/plain": [
       "  0%|          | 0/3 [00:00<?, ?it/s]"
      ]
     },
     "metadata": {},
     "output_type": "display_data"
    },
    {
     "data": {
      "application/vnd.jupyter.widget-view+json": {
       "model_id": "c5955f9cc10f4478add4b8115c247b29",
       "version_major": 2,
       "version_minor": 0
      },
      "text/plain": [
       "  0%|          | 0/3 [00:00<?, ?it/s]"
      ]
     },
     "metadata": {},
     "output_type": "display_data"
    },
    {
     "data": {
      "application/vnd.jupyter.widget-view+json": {
       "model_id": "13353e84ed674d23b2bf8461eb2f0f32",
       "version_major": 2,
       "version_minor": 0
      },
      "text/plain": [
       "  0%|          | 0/1 [00:00<?, ?it/s]"
      ]
     },
     "metadata": {},
     "output_type": "display_data"
    },
    {
     "data": {
      "application/vnd.jupyter.widget-view+json": {
       "model_id": "9237ff875010476d8cdaa2eefe536618",
       "version_major": 2,
       "version_minor": 0
      },
      "text/plain": [
       "  0%|          | 0/2 [00:00<?, ?it/s]"
      ]
     },
     "metadata": {},
     "output_type": "display_data"
    },
    {
     "data": {
      "application/vnd.jupyter.widget-view+json": {
       "model_id": "ce5187a7477343239ab6d02253eb5042",
       "version_major": 2,
       "version_minor": 0
      },
      "text/plain": [
       "  0%|          | 0/3 [00:00<?, ?it/s]"
      ]
     },
     "metadata": {},
     "output_type": "display_data"
    },
    {
     "data": {
      "application/vnd.jupyter.widget-view+json": {
       "model_id": "031f61ca5b564b9a90d321b3925db7eb",
       "version_major": 2,
       "version_minor": 0
      },
      "text/plain": [
       "  0%|          | 0/3 [00:00<?, ?it/s]"
      ]
     },
     "metadata": {},
     "output_type": "display_data"
    },
    {
     "data": {
      "application/vnd.jupyter.widget-view+json": {
       "model_id": "3fd9dc5330c043d29ffd781c56d51642",
       "version_major": 2,
       "version_minor": 0
      },
      "text/plain": [
       "  0%|          | 0/1 [00:00<?, ?it/s]"
      ]
     },
     "metadata": {},
     "output_type": "display_data"
    },
    {
     "data": {
      "application/vnd.jupyter.widget-view+json": {
       "model_id": "d00874ffb0b642fd84893b4951327015",
       "version_major": 2,
       "version_minor": 0
      },
      "text/plain": [
       "  0%|          | 0/2 [00:00<?, ?it/s]"
      ]
     },
     "metadata": {},
     "output_type": "display_data"
    },
    {
     "data": {
      "application/vnd.jupyter.widget-view+json": {
       "model_id": "3e735165f8fe428c92f9d1d4f6b4edcd",
       "version_major": 2,
       "version_minor": 0
      },
      "text/plain": [
       "  0%|          | 0/1 [00:00<?, ?it/s]"
      ]
     },
     "metadata": {},
     "output_type": "display_data"
    },
    {
     "data": {
      "application/vnd.jupyter.widget-view+json": {
       "model_id": "55a1681a68614074818f1d29e2437ffa",
       "version_major": 2,
       "version_minor": 0
      },
      "text/plain": [
       "  0%|          | 0/2 [00:00<?, ?it/s]"
      ]
     },
     "metadata": {},
     "output_type": "display_data"
    },
    {
     "data": {
      "application/vnd.jupyter.widget-view+json": {
       "model_id": "520d9db55a3746d589bb5e5ba7a1fb4b",
       "version_major": 2,
       "version_minor": 0
      },
      "text/plain": [
       "  0%|          | 0/3 [00:00<?, ?it/s]"
      ]
     },
     "metadata": {},
     "output_type": "display_data"
    },
    {
     "data": {
      "application/vnd.jupyter.widget-view+json": {
       "model_id": "343b4b6d2dac42e69e71106bcfe1bce7",
       "version_major": 2,
       "version_minor": 0
      },
      "text/plain": [
       "  0%|          | 0/3 [00:00<?, ?it/s]"
      ]
     },
     "metadata": {},
     "output_type": "display_data"
    },
    {
     "data": {
      "application/vnd.jupyter.widget-view+json": {
       "model_id": "b415d8196f98407f89bd1146f9190095",
       "version_major": 2,
       "version_minor": 0
      },
      "text/plain": [
       "  0%|          | 0/1 [00:00<?, ?it/s]"
      ]
     },
     "metadata": {},
     "output_type": "display_data"
    },
    {
     "data": {
      "application/vnd.jupyter.widget-view+json": {
       "model_id": "2c7374e628ff4f7dbfcf6bbe92e1ee6f",
       "version_major": 2,
       "version_minor": 0
      },
      "text/plain": [
       "  0%|          | 0/2 [00:00<?, ?it/s]"
      ]
     },
     "metadata": {},
     "output_type": "display_data"
    },
    {
     "data": {
      "application/vnd.jupyter.widget-view+json": {
       "model_id": "9513180de6b24cdbbab37e06e7491bf9",
       "version_major": 2,
       "version_minor": 0
      },
      "text/plain": [
       "  0%|          | 0/3 [00:00<?, ?it/s]"
      ]
     },
     "metadata": {},
     "output_type": "display_data"
    },
    {
     "data": {
      "application/vnd.jupyter.widget-view+json": {
       "model_id": "4a0390506fe543978adaaf122ac52e31",
       "version_major": 2,
       "version_minor": 0
      },
      "text/plain": [
       "  0%|          | 0/3 [00:00<?, ?it/s]"
      ]
     },
     "metadata": {},
     "output_type": "display_data"
    },
    {
     "name": "stdout",
     "output_type": "stream",
     "text": [
      "given shift 3, window size 5 and n 6: history length = 20\n",
      "[INFO] Concatenating the embeddings to the dataframe...\n",
      "[INFO] - columns beginning with 'e' denote the full embddings.\n",
      "[INFO] - columns beginning with 'd' denote the dimension reduced embeddings.\n",
      "[INFO] Adding time feature columns into dataframe in `.df`.\n",
      "[INFO] Adding 'time_encoding' feature...\n",
      "[INFO] Adding 'time_diff' feature...\n",
      "[INFO] Adding 'timeline_index' feature...\n",
      "[INFO] Padding ids and storing in `.df_padded` and `.array_padded` attributes.\n"
     ]
    },
    {
     "data": {
      "application/vnd.jupyter.widget-view+json": {
       "model_id": "6b904ae8824d4e3e9db79450cf73a3df",
       "version_major": 2,
       "version_minor": 0
      },
      "text/plain": [
       "  0%|          | 0/9699 [00:00<?, ?it/s]"
      ]
     },
     "metadata": {},
     "output_type": "display_data"
    },
    {
     "name": "stdout",
     "output_type": "stream",
     "text": [
      "[INFO] The path was created for each item in the dataframe, by looking at its history, so to include embeddings in the FFN input, we concatenate the embeddings for each sentence / text.\n",
      "saving results dataframe to CSV for this hyperparameter search in client_talk_type_output/seqsignet_grp_focal_2_3_5_6_kfold.csv\n",
      "saving the best model results dataframe to CSV for this hyperparameter search in client_talk_type_output/seqsignet_grp_focal_2_3_5_6_kfold_best_model.csv\n"
     ]
    }
   ],
   "source": [
    "(\n",
    "    seqsignet_network_grp_kfold_20,\n",
    "    best_seqsignet_network_grp_kfold_20,\n",
    "    _,\n",
    "    __,\n",
    ") = seqsignet_hyperparameter_search(\n",
    "    shift=shift,\n",
    "    window_size=window_size,\n",
    "    n=n,\n",
    "    dim_reduce_methods=[\"gaussian_random_projection\"],\n",
    "    results_output=f\"{output_dir}/seqsignet_grp_focal_{gamma}_{shift}_{window_size}_{n}_kfold.csv\",\n",
    "    **kwargs,\n",
    ")"
   ]
  },
  {
   "cell_type": "code",
   "execution_count": 22,
   "id": "f3298f8c",
   "metadata": {},
   "outputs": [
    {
     "data": {
      "text/html": [
       "<div>\n",
       "<style scoped>\n",
       "    .dataframe tbody tr th:only-of-type {\n",
       "        vertical-align: middle;\n",
       "    }\n",
       "\n",
       "    .dataframe tbody tr th {\n",
       "        vertical-align: top;\n",
       "    }\n",
       "\n",
       "    .dataframe thead th {\n",
       "        text-align: right;\n",
       "    }\n",
       "</style>\n",
       "<table border=\"1\" class=\"dataframe\">\n",
       "  <thead>\n",
       "    <tr style=\"text-align: right;\">\n",
       "      <th></th>\n",
       "      <th>loss</th>\n",
       "      <th>accuracy</th>\n",
       "      <th>f1</th>\n",
       "      <th>f1_scores</th>\n",
       "      <th>precision</th>\n",
       "      <th>precision_scores</th>\n",
       "      <th>recall</th>\n",
       "      <th>recall_scores</th>\n",
       "      <th>valid_loss</th>\n",
       "      <th>valid_accuracy</th>\n",
       "      <th>...</th>\n",
       "      <th>BiLSTM</th>\n",
       "      <th>loss_function</th>\n",
       "      <th>gamma</th>\n",
       "      <th>k_fold</th>\n",
       "      <th>n_splits</th>\n",
       "      <th>augmentation_type</th>\n",
       "      <th>hidden_dim_aug</th>\n",
       "      <th>comb_method</th>\n",
       "      <th>batch_size</th>\n",
       "      <th>model_id</th>\n",
       "    </tr>\n",
       "  </thead>\n",
       "  <tbody>\n",
       "    <tr>\n",
       "      <th>0</th>\n",
       "      <td>None</td>\n",
       "      <td>0.614176</td>\n",
       "      <td>0.499474</td>\n",
       "      <td>[0.7403065825067628, 0.4195083267248216, 0.338...</td>\n",
       "      <td>0.491396</td>\n",
       "      <td>[0.7706508135168961, 0.40381679389312974, 0.29...</td>\n",
       "      <td>0.512607</td>\n",
       "      <td>[0.7122614227877386, 0.43646864686468645, 0.38...</td>\n",
       "      <td>None</td>\n",
       "      <td>0.656712</td>\n",
       "      <td>...</td>\n",
       "      <td>True</td>\n",
       "      <td>focal</td>\n",
       "      <td>2</td>\n",
       "      <td>True</td>\n",
       "      <td>5</td>\n",
       "      <td>Conv1d</td>\n",
       "      <td>None</td>\n",
       "      <td>concatenation</td>\n",
       "      <td>64</td>\n",
       "      <td>0</td>\n",
       "    </tr>\n",
       "    <tr>\n",
       "      <th>0</th>\n",
       "      <td>None</td>\n",
       "      <td>0.620306</td>\n",
       "      <td>0.500980</td>\n",
       "      <td>[0.7498523331364442, 0.3909090909090909, 0.362...</td>\n",
       "      <td>0.493827</td>\n",
       "      <td>[0.7661436330718165, 0.39155629139072845, 0.32...</td>\n",
       "      <td>0.511804</td>\n",
       "      <td>[0.7342394447657605, 0.39026402640264024, 0.41...</td>\n",
       "      <td>None</td>\n",
       "      <td>0.660726</td>\n",
       "      <td>...</td>\n",
       "      <td>True</td>\n",
       "      <td>focal</td>\n",
       "      <td>2</td>\n",
       "      <td>True</td>\n",
       "      <td>5</td>\n",
       "      <td>Conv1d</td>\n",
       "      <td>None</td>\n",
       "      <td>concatenation</td>\n",
       "      <td>64</td>\n",
       "      <td>0</td>\n",
       "    </tr>\n",
       "    <tr>\n",
       "      <th>0</th>\n",
       "      <td>None</td>\n",
       "      <td>0.640230</td>\n",
       "      <td>0.512249</td>\n",
       "      <td>[0.7625349213350978, 0.4493496255419787, 0.324...</td>\n",
       "      <td>0.510038</td>\n",
       "      <td>[0.7756506132216572, 0.43018867924528303, 0.32...</td>\n",
       "      <td>0.515202</td>\n",
       "      <td>[0.7498554077501446, 0.47029702970297027, 0.32...</td>\n",
       "      <td>None</td>\n",
       "      <td>0.668593</td>\n",
       "      <td>...</td>\n",
       "      <td>True</td>\n",
       "      <td>focal</td>\n",
       "      <td>2</td>\n",
       "      <td>True</td>\n",
       "      <td>5</td>\n",
       "      <td>Conv1d</td>\n",
       "      <td>None</td>\n",
       "      <td>concatenation</td>\n",
       "      <td>64</td>\n",
       "      <td>0</td>\n",
       "    </tr>\n",
       "    <tr>\n",
       "      <th>0</th>\n",
       "      <td>None</td>\n",
       "      <td>0.645785</td>\n",
       "      <td>0.521459</td>\n",
       "      <td>[0.772306335440247, 0.43828715365239296, 0.353...</td>\n",
       "      <td>0.515466</td>\n",
       "      <td>[0.7853512705530643, 0.4461538461538462, 0.314...</td>\n",
       "      <td>0.531339</td>\n",
       "      <td>[0.7596876807403123, 0.4306930693069307, 0.403...</td>\n",
       "      <td>None</td>\n",
       "      <td>0.665703</td>\n",
       "      <td>...</td>\n",
       "      <td>True</td>\n",
       "      <td>focal</td>\n",
       "      <td>2</td>\n",
       "      <td>True</td>\n",
       "      <td>5</td>\n",
       "      <td>Conv1d</td>\n",
       "      <td>None</td>\n",
       "      <td>concatenation</td>\n",
       "      <td>64</td>\n",
       "      <td>1</td>\n",
       "    </tr>\n",
       "    <tr>\n",
       "      <th>0</th>\n",
       "      <td>None</td>\n",
       "      <td>0.643870</td>\n",
       "      <td>0.517084</td>\n",
       "      <td>[0.7687114763721751, 0.43953394937725987, 0.34...</td>\n",
       "      <td>0.513646</td>\n",
       "      <td>[0.7803933253873659, 0.4283476898981989, 0.332...</td>\n",
       "      <td>0.521080</td>\n",
       "      <td>[0.7573742047426258, 0.4513201320132013, 0.354...</td>\n",
       "      <td>None</td>\n",
       "      <td>0.674213</td>\n",
       "      <td>...</td>\n",
       "      <td>True</td>\n",
       "      <td>focal</td>\n",
       "      <td>2</td>\n",
       "      <td>True</td>\n",
       "      <td>5</td>\n",
       "      <td>Conv1d</td>\n",
       "      <td>None</td>\n",
       "      <td>concatenation</td>\n",
       "      <td>64</td>\n",
       "      <td>1</td>\n",
       "    </tr>\n",
       "    <tr>\n",
       "      <th>...</th>\n",
       "      <td>...</td>\n",
       "      <td>...</td>\n",
       "      <td>...</td>\n",
       "      <td>...</td>\n",
       "      <td>...</td>\n",
       "      <td>...</td>\n",
       "      <td>...</td>\n",
       "      <td>...</td>\n",
       "      <td>...</td>\n",
       "      <td>...</td>\n",
       "      <td>...</td>\n",
       "      <td>...</td>\n",
       "      <td>...</td>\n",
       "      <td>...</td>\n",
       "      <td>...</td>\n",
       "      <td>...</td>\n",
       "      <td>...</td>\n",
       "      <td>...</td>\n",
       "      <td>...</td>\n",
       "      <td>...</td>\n",
       "      <td>...</td>\n",
       "    </tr>\n",
       "    <tr>\n",
       "      <th>0</th>\n",
       "      <td>None</td>\n",
       "      <td>0.645019</td>\n",
       "      <td>0.504332</td>\n",
       "      <td>[0.7800518881522053, 0.4020933275185347, 0.330...</td>\n",
       "      <td>0.502511</td>\n",
       "      <td>[0.7775862068965518, 0.42645698427382056, 0.30...</td>\n",
       "      <td>0.508844</td>\n",
       "      <td>[0.7825332562174667, 0.3803630363036304, 0.363...</td>\n",
       "      <td>None</td>\n",
       "      <td>0.672929</td>\n",
       "      <td>...</td>\n",
       "      <td>True</td>\n",
       "      <td>focal</td>\n",
       "      <td>2</td>\n",
       "      <td>True</td>\n",
       "      <td>5</td>\n",
       "      <td>Conv1d</td>\n",
       "      <td>None</td>\n",
       "      <td>concatenation</td>\n",
       "      <td>64</td>\n",
       "      <td>22</td>\n",
       "    </tr>\n",
       "    <tr>\n",
       "      <th>0</th>\n",
       "      <td>None</td>\n",
       "      <td>0.641954</td>\n",
       "      <td>0.501703</td>\n",
       "      <td>[0.7712287712287713, 0.4014084507042254, 0.332...</td>\n",
       "      <td>0.502469</td>\n",
       "      <td>[0.7613412228796844, 0.43018867924528303, 0.31...</td>\n",
       "      <td>0.502841</td>\n",
       "      <td>[0.7813765182186235, 0.37623762376237624, 0.35...</td>\n",
       "      <td>None</td>\n",
       "      <td>0.676140</td>\n",
       "      <td>...</td>\n",
       "      <td>True</td>\n",
       "      <td>focal</td>\n",
       "      <td>2</td>\n",
       "      <td>True</td>\n",
       "      <td>5</td>\n",
       "      <td>Conv1d</td>\n",
       "      <td>None</td>\n",
       "      <td>concatenation</td>\n",
       "      <td>64</td>\n",
       "      <td>22</td>\n",
       "    </tr>\n",
       "    <tr>\n",
       "      <th>0</th>\n",
       "      <td>None</td>\n",
       "      <td>0.637739</td>\n",
       "      <td>0.528412</td>\n",
       "      <td>[0.757543593631539, 0.46435379336637445, 0.363...</td>\n",
       "      <td>0.519423</td>\n",
       "      <td>[0.7963021995537137, 0.4316087880935507, 0.330...</td>\n",
       "      <td>0.542831</td>\n",
       "      <td>[0.7223828802776171, 0.5024752475247525, 0.403...</td>\n",
       "      <td>None</td>\n",
       "      <td>0.649807</td>\n",
       "      <td>...</td>\n",
       "      <td>True</td>\n",
       "      <td>focal</td>\n",
       "      <td>2</td>\n",
       "      <td>True</td>\n",
       "      <td>5</td>\n",
       "      <td>Conv1d</td>\n",
       "      <td>None</td>\n",
       "      <td>concatenation</td>\n",
       "      <td>64</td>\n",
       "      <td>23</td>\n",
       "    </tr>\n",
       "    <tr>\n",
       "      <th>0</th>\n",
       "      <td>None</td>\n",
       "      <td>0.648467</td>\n",
       "      <td>0.518340</td>\n",
       "      <td>[0.7726416461382408, 0.434928631402183, 0.3474...</td>\n",
       "      <td>0.516065</td>\n",
       "      <td>[0.7743247168167295, 0.4427350427350427, 0.331...</td>\n",
       "      <td>0.521271</td>\n",
       "      <td>[0.7709658762290341, 0.4273927392739274, 0.365...</td>\n",
       "      <td>None</td>\n",
       "      <td>0.669236</td>\n",
       "      <td>...</td>\n",
       "      <td>True</td>\n",
       "      <td>focal</td>\n",
       "      <td>2</td>\n",
       "      <td>True</td>\n",
       "      <td>5</td>\n",
       "      <td>Conv1d</td>\n",
       "      <td>None</td>\n",
       "      <td>concatenation</td>\n",
       "      <td>64</td>\n",
       "      <td>23</td>\n",
       "    </tr>\n",
       "    <tr>\n",
       "      <th>0</th>\n",
       "      <td>None</td>\n",
       "      <td>0.631226</td>\n",
       "      <td>0.505460</td>\n",
       "      <td>[0.7662337662337662, 0.3972950126796281, 0.352...</td>\n",
       "      <td>0.498609</td>\n",
       "      <td>[0.7823990355635925, 0.4072790294627383, 0.306...</td>\n",
       "      <td>0.518292</td>\n",
       "      <td>[0.7507229612492771, 0.38778877887788776, 0.41...</td>\n",
       "      <td>None</td>\n",
       "      <td>0.660726</td>\n",
       "      <td>...</td>\n",
       "      <td>True</td>\n",
       "      <td>focal</td>\n",
       "      <td>2</td>\n",
       "      <td>True</td>\n",
       "      <td>5</td>\n",
       "      <td>Conv1d</td>\n",
       "      <td>None</td>\n",
       "      <td>concatenation</td>\n",
       "      <td>64</td>\n",
       "      <td>23</td>\n",
       "    </tr>\n",
       "  </tbody>\n",
       "</table>\n",
       "<p>72 rows × 49 columns</p>\n",
       "</div>"
      ],
      "text/plain": [
       "    loss  accuracy        f1  \\\n",
       "0   None  0.614176  0.499474   \n",
       "0   None  0.620306  0.500980   \n",
       "0   None  0.640230  0.512249   \n",
       "0   None  0.645785  0.521459   \n",
       "0   None  0.643870  0.517084   \n",
       "..   ...       ...       ...   \n",
       "0   None  0.645019  0.504332   \n",
       "0   None  0.641954  0.501703   \n",
       "0   None  0.637739  0.528412   \n",
       "0   None  0.648467  0.518340   \n",
       "0   None  0.631226  0.505460   \n",
       "\n",
       "                                            f1_scores  precision  \\\n",
       "0   [0.7403065825067628, 0.4195083267248216, 0.338...   0.491396   \n",
       "0   [0.7498523331364442, 0.3909090909090909, 0.362...   0.493827   \n",
       "0   [0.7625349213350978, 0.4493496255419787, 0.324...   0.510038   \n",
       "0   [0.772306335440247, 0.43828715365239296, 0.353...   0.515466   \n",
       "0   [0.7687114763721751, 0.43953394937725987, 0.34...   0.513646   \n",
       "..                                                ...        ...   \n",
       "0   [0.7800518881522053, 0.4020933275185347, 0.330...   0.502511   \n",
       "0   [0.7712287712287713, 0.4014084507042254, 0.332...   0.502469   \n",
       "0   [0.757543593631539, 0.46435379336637445, 0.363...   0.519423   \n",
       "0   [0.7726416461382408, 0.434928631402183, 0.3474...   0.516065   \n",
       "0   [0.7662337662337662, 0.3972950126796281, 0.352...   0.498609   \n",
       "\n",
       "                                     precision_scores    recall  \\\n",
       "0   [0.7706508135168961, 0.40381679389312974, 0.29...  0.512607   \n",
       "0   [0.7661436330718165, 0.39155629139072845, 0.32...  0.511804   \n",
       "0   [0.7756506132216572, 0.43018867924528303, 0.32...  0.515202   \n",
       "0   [0.7853512705530643, 0.4461538461538462, 0.314...  0.531339   \n",
       "0   [0.7803933253873659, 0.4283476898981989, 0.332...  0.521080   \n",
       "..                                                ...       ...   \n",
       "0   [0.7775862068965518, 0.42645698427382056, 0.30...  0.508844   \n",
       "0   [0.7613412228796844, 0.43018867924528303, 0.31...  0.502841   \n",
       "0   [0.7963021995537137, 0.4316087880935507, 0.330...  0.542831   \n",
       "0   [0.7743247168167295, 0.4427350427350427, 0.331...  0.521271   \n",
       "0   [0.7823990355635925, 0.4072790294627383, 0.306...  0.518292   \n",
       "\n",
       "                                        recall_scores valid_loss  \\\n",
       "0   [0.7122614227877386, 0.43646864686468645, 0.38...       None   \n",
       "0   [0.7342394447657605, 0.39026402640264024, 0.41...       None   \n",
       "0   [0.7498554077501446, 0.47029702970297027, 0.32...       None   \n",
       "0   [0.7596876807403123, 0.4306930693069307, 0.403...       None   \n",
       "0   [0.7573742047426258, 0.4513201320132013, 0.354...       None   \n",
       "..                                                ...        ...   \n",
       "0   [0.7825332562174667, 0.3803630363036304, 0.363...       None   \n",
       "0   [0.7813765182186235, 0.37623762376237624, 0.35...       None   \n",
       "0   [0.7223828802776171, 0.5024752475247525, 0.403...       None   \n",
       "0   [0.7709658762290341, 0.4273927392739274, 0.365...       None   \n",
       "0   [0.7507229612492771, 0.38778877887788776, 0.41...       None   \n",
       "\n",
       "    valid_accuracy  ...  BiLSTM loss_function  gamma k_fold  n_splits  \\\n",
       "0         0.656712  ...    True         focal      2   True         5   \n",
       "0         0.660726  ...    True         focal      2   True         5   \n",
       "0         0.668593  ...    True         focal      2   True         5   \n",
       "0         0.665703  ...    True         focal      2   True         5   \n",
       "0         0.674213  ...    True         focal      2   True         5   \n",
       "..             ...  ...     ...           ...    ...    ...       ...   \n",
       "0         0.672929  ...    True         focal      2   True         5   \n",
       "0         0.676140  ...    True         focal      2   True         5   \n",
       "0         0.649807  ...    True         focal      2   True         5   \n",
       "0         0.669236  ...    True         focal      2   True         5   \n",
       "0         0.660726  ...    True         focal      2   True         5   \n",
       "\n",
       "   augmentation_type  hidden_dim_aug    comb_method  batch_size  model_id  \n",
       "0             Conv1d            None  concatenation          64         0  \n",
       "0             Conv1d            None  concatenation          64         0  \n",
       "0             Conv1d            None  concatenation          64         0  \n",
       "0             Conv1d            None  concatenation          64         1  \n",
       "0             Conv1d            None  concatenation          64         1  \n",
       "..               ...             ...            ...         ...       ...  \n",
       "0             Conv1d            None  concatenation          64        22  \n",
       "0             Conv1d            None  concatenation          64        22  \n",
       "0             Conv1d            None  concatenation          64        23  \n",
       "0             Conv1d            None  concatenation          64        23  \n",
       "0             Conv1d            None  concatenation          64        23  \n",
       "\n",
       "[72 rows x 49 columns]"
      ]
     },
     "execution_count": 22,
     "metadata": {},
     "output_type": "execute_result"
    }
   ],
   "source": [
    "seqsignet_network_grp_kfold_20"
   ]
  },
  {
   "cell_type": "code",
   "execution_count": 23,
   "id": "3a8e5ddb",
   "metadata": {},
   "outputs": [
    {
     "data": {
      "text/plain": [
       "0.5032739316970518"
      ]
     },
     "execution_count": 23,
     "metadata": {},
     "output_type": "execute_result"
    }
   ],
   "source": [
    "best_seqsignet_network_grp_kfold_20[\"f1\"].mean()"
   ]
  },
  {
   "cell_type": "code",
   "execution_count": 24,
   "id": "9128727b",
   "metadata": {},
   "outputs": [
    {
     "data": {
      "text/plain": [
       "0.4974416296564994"
      ]
     },
     "execution_count": 24,
     "metadata": {},
     "output_type": "execute_result"
    }
   ],
   "source": [
    "best_seqsignet_network_grp_kfold_20[\"precision\"].mean()"
   ]
  },
  {
   "cell_type": "code",
   "execution_count": 25,
   "id": "f6c7ed11",
   "metadata": {},
   "outputs": [
    {
     "data": {
      "text/plain": [
       "0.5146013683689556"
      ]
     },
     "execution_count": 25,
     "metadata": {},
     "output_type": "execute_result"
    }
   ],
   "source": [
    "best_seqsignet_network_grp_kfold_20[\"recall\"].mean()"
   ]
  },
  {
   "cell_type": "code",
   "execution_count": 26,
   "id": "068fb365",
   "metadata": {},
   "outputs": [
    {
     "data": {
      "text/plain": [
       "array([0.75211517, 0.41411823, 0.34358839])"
      ]
     },
     "execution_count": 26,
     "metadata": {},
     "output_type": "execute_result"
    }
   ],
   "source": [
    "np.stack(best_seqsignet_network_grp_kfold_20[\"f1_scores\"]).mean(axis=0)"
   ]
  },
  {
   "cell_type": "code",
   "execution_count": 27,
   "id": "778a6031",
   "metadata": {},
   "outputs": [
    {
     "data": {
      "text/plain": [
       "array([0.7696442 , 0.41834931, 0.30433137])"
      ]
     },
     "execution_count": 27,
     "metadata": {},
     "output_type": "execute_result"
    }
   ],
   "source": [
    "np.stack(best_seqsignet_network_grp_kfold_20[\"precision_scores\"]).mean(axis=0)"
   ]
  },
  {
   "cell_type": "code",
   "execution_count": 28,
   "id": "be4101c4",
   "metadata": {},
   "outputs": [
    {
     "data": {
      "text/plain": [
       "array([0.73616734, 0.41309131, 0.39454545])"
      ]
     },
     "execution_count": 28,
     "metadata": {},
     "output_type": "execute_result"
    }
   ],
   "source": [
    "np.stack(best_seqsignet_network_grp_kfold_20[\"recall_scores\"]).mean(axis=0)"
   ]
  },
  {
   "cell_type": "markdown",
   "id": "179dbb85-f360-4c16-a852-fb32cc0e01d6",
   "metadata": {
    "tags": []
   },
   "source": [
    "# history_length=35"
   ]
  },
  {
   "cell_type": "code",
   "execution_count": 29,
   "id": "af118561-2837-4bbb-b2df-59535f5e77be",
   "metadata": {},
   "outputs": [],
   "source": [
    "shift = 3\n",
    "window_size = 5\n",
    "n = 11"
   ]
  },
  {
   "cell_type": "markdown",
   "id": "e112ad11-eb64-430b-82b4-1f139e5ea966",
   "metadata": {},
   "source": [
    "## GRP"
   ]
  },
  {
   "cell_type": "code",
   "execution_count": 30,
   "id": "fd91977a-283f-4a43-b64c-63cba9cefb04",
   "metadata": {},
   "outputs": [
    {
     "data": {
      "application/vnd.jupyter.widget-view+json": {
       "model_id": "da5afa3c6e5e4e4f958801a9fb7aee1c",
       "version_major": 2,
       "version_minor": 0
      },
      "text/plain": [
       "  0%|          | 0/1 [00:00<?, ?it/s]"
      ]
     },
     "metadata": {},
     "output_type": "display_data"
    },
    {
     "data": {
      "application/vnd.jupyter.widget-view+json": {
       "model_id": "8887e64e408240f6855beb5badd34c48",
       "version_major": 2,
       "version_minor": 0
      },
      "text/plain": [
       "  0%|          | 0/1 [00:00<?, ?it/s]"
      ]
     },
     "metadata": {},
     "output_type": "display_data"
    },
    {
     "name": "stdout",
     "output_type": "stream",
     "text": [
      "\n",
      "##################################################\n",
      "dimension: 15 | method: gaussian_random_projection\n",
      "given shift 3, window size 5 and n 11: history length = 35\n",
      "[INFO] Concatenating the embeddings to the dataframe...\n",
      "[INFO] - columns beginning with 'e' denote the full embddings.\n",
      "[INFO] - columns beginning with 'd' denote the dimension reduced embeddings.\n",
      "[INFO] Adding time feature columns into dataframe in `.df`.\n",
      "[INFO] Adding 'time_encoding' feature...\n",
      "[INFO] Adding 'time_diff' feature...\n",
      "[INFO] Adding 'timeline_index' feature...\n",
      "[INFO] Padding ids and storing in `.df_padded` and `.array_padded` attributes.\n"
     ]
    },
    {
     "data": {
      "application/vnd.jupyter.widget-view+json": {
       "model_id": "4ec288b200e1463ea79825bb64fd77d2",
       "version_major": 2,
       "version_minor": 0
      },
      "text/plain": [
       "  0%|          | 0/9699 [00:00<?, ?it/s]"
      ]
     },
     "metadata": {},
     "output_type": "display_data"
    },
    {
     "name": "stdout",
     "output_type": "stream",
     "text": [
      "[INFO] The path was created for each item in the dataframe, by looking at its history, so to include embeddings in the FFN input, we concatenate the embeddings for each sentence / text.\n"
     ]
    },
    {
     "data": {
      "application/vnd.jupyter.widget-view+json": {
       "model_id": "30b1aff62eb84daf822d0c5e35ce5fe6",
       "version_major": 2,
       "version_minor": 0
      },
      "text/plain": [
       "  0%|          | 0/2 [00:00<?, ?it/s]"
      ]
     },
     "metadata": {},
     "output_type": "display_data"
    },
    {
     "data": {
      "application/vnd.jupyter.widget-view+json": {
       "model_id": "aabfa08bee374876b9ad1bdf63500926",
       "version_major": 2,
       "version_minor": 0
      },
      "text/plain": [
       "  0%|          | 0/1 [00:00<?, ?it/s]"
      ]
     },
     "metadata": {},
     "output_type": "display_data"
    },
    {
     "data": {
      "application/vnd.jupyter.widget-view+json": {
       "model_id": "1d7f0f55daac4052b14f7d279f964cc0",
       "version_major": 2,
       "version_minor": 0
      },
      "text/plain": [
       "  0%|          | 0/2 [00:00<?, ?it/s]"
      ]
     },
     "metadata": {},
     "output_type": "display_data"
    },
    {
     "data": {
      "application/vnd.jupyter.widget-view+json": {
       "model_id": "4dfc6e1e570541f68de410e2d62a96b4",
       "version_major": 2,
       "version_minor": 0
      },
      "text/plain": [
       "  0%|          | 0/1 [00:00<?, ?it/s]"
      ]
     },
     "metadata": {},
     "output_type": "display_data"
    },
    {
     "data": {
      "application/vnd.jupyter.widget-view+json": {
       "model_id": "a506306a56df4cdeb795cd7c29641cb2",
       "version_major": 2,
       "version_minor": 0
      },
      "text/plain": [
       "  0%|          | 0/2 [00:00<?, ?it/s]"
      ]
     },
     "metadata": {},
     "output_type": "display_data"
    },
    {
     "data": {
      "application/vnd.jupyter.widget-view+json": {
       "model_id": "77506184226847229dda879c61a53be2",
       "version_major": 2,
       "version_minor": 0
      },
      "text/plain": [
       "  0%|          | 0/3 [00:00<?, ?it/s]"
      ]
     },
     "metadata": {},
     "output_type": "display_data"
    },
    {
     "data": {
      "application/vnd.jupyter.widget-view+json": {
       "model_id": "22b26726d25445a688f21a014ab9be50",
       "version_major": 2,
       "version_minor": 0
      },
      "text/plain": [
       "  0%|          | 0/3 [00:00<?, ?it/s]"
      ]
     },
     "metadata": {},
     "output_type": "display_data"
    },
    {
     "data": {
      "application/vnd.jupyter.widget-view+json": {
       "model_id": "6fc4280f292f4a9fa22696bfdff90d37",
       "version_major": 2,
       "version_minor": 0
      },
      "text/plain": [
       "  0%|          | 0/1 [00:00<?, ?it/s]"
      ]
     },
     "metadata": {},
     "output_type": "display_data"
    },
    {
     "data": {
      "application/vnd.jupyter.widget-view+json": {
       "model_id": "c9c281e9868f410193433dff15bc85fe",
       "version_major": 2,
       "version_minor": 0
      },
      "text/plain": [
       "  0%|          | 0/2 [00:00<?, ?it/s]"
      ]
     },
     "metadata": {},
     "output_type": "display_data"
    },
    {
     "data": {
      "application/vnd.jupyter.widget-view+json": {
       "model_id": "36f30b6322944000a31daf3e12012a74",
       "version_major": 2,
       "version_minor": 0
      },
      "text/plain": [
       "  0%|          | 0/3 [00:00<?, ?it/s]"
      ]
     },
     "metadata": {},
     "output_type": "display_data"
    },
    {
     "data": {
      "application/vnd.jupyter.widget-view+json": {
       "model_id": "0597cac976294312b59771f8df2d985b",
       "version_major": 2,
       "version_minor": 0
      },
      "text/plain": [
       "  0%|          | 0/3 [00:00<?, ?it/s]"
      ]
     },
     "metadata": {},
     "output_type": "display_data"
    },
    {
     "data": {
      "application/vnd.jupyter.widget-view+json": {
       "model_id": "71f017bccd36401f8f89a96a798e6c68",
       "version_major": 2,
       "version_minor": 0
      },
      "text/plain": [
       "  0%|          | 0/1 [00:00<?, ?it/s]"
      ]
     },
     "metadata": {},
     "output_type": "display_data"
    },
    {
     "data": {
      "application/vnd.jupyter.widget-view+json": {
       "model_id": "1fb33340ffa44745b6e659394e7b84b8",
       "version_major": 2,
       "version_minor": 0
      },
      "text/plain": [
       "  0%|          | 0/2 [00:00<?, ?it/s]"
      ]
     },
     "metadata": {},
     "output_type": "display_data"
    },
    {
     "data": {
      "application/vnd.jupyter.widget-view+json": {
       "model_id": "19769c4cc6b64ed9aa8d69ff997cabfe",
       "version_major": 2,
       "version_minor": 0
      },
      "text/plain": [
       "  0%|          | 0/1 [00:00<?, ?it/s]"
      ]
     },
     "metadata": {},
     "output_type": "display_data"
    },
    {
     "data": {
      "application/vnd.jupyter.widget-view+json": {
       "model_id": "0322f680a48144668785c81e88df6705",
       "version_major": 2,
       "version_minor": 0
      },
      "text/plain": [
       "  0%|          | 0/2 [00:00<?, ?it/s]"
      ]
     },
     "metadata": {},
     "output_type": "display_data"
    },
    {
     "data": {
      "application/vnd.jupyter.widget-view+json": {
       "model_id": "06c37d7e358647e18ac49ac3e5692e44",
       "version_major": 2,
       "version_minor": 0
      },
      "text/plain": [
       "  0%|          | 0/3 [00:00<?, ?it/s]"
      ]
     },
     "metadata": {},
     "output_type": "display_data"
    },
    {
     "data": {
      "application/vnd.jupyter.widget-view+json": {
       "model_id": "64bc9118476f4fd29058252d1b7c626b",
       "version_major": 2,
       "version_minor": 0
      },
      "text/plain": [
       "  0%|          | 0/3 [00:00<?, ?it/s]"
      ]
     },
     "metadata": {},
     "output_type": "display_data"
    },
    {
     "data": {
      "application/vnd.jupyter.widget-view+json": {
       "model_id": "1859913722e4482c8d42fd6befbdd08b",
       "version_major": 2,
       "version_minor": 0
      },
      "text/plain": [
       "  0%|          | 0/1 [00:00<?, ?it/s]"
      ]
     },
     "metadata": {},
     "output_type": "display_data"
    },
    {
     "data": {
      "application/vnd.jupyter.widget-view+json": {
       "model_id": "2b0bb77a0686446ba966d52ff6495364",
       "version_major": 2,
       "version_minor": 0
      },
      "text/plain": [
       "  0%|          | 0/2 [00:00<?, ?it/s]"
      ]
     },
     "metadata": {},
     "output_type": "display_data"
    },
    {
     "data": {
      "application/vnd.jupyter.widget-view+json": {
       "model_id": "cd709ddd0cf34def8f71be800fbfb30a",
       "version_major": 2,
       "version_minor": 0
      },
      "text/plain": [
       "  0%|          | 0/3 [00:00<?, ?it/s]"
      ]
     },
     "metadata": {},
     "output_type": "display_data"
    },
    {
     "data": {
      "application/vnd.jupyter.widget-view+json": {
       "model_id": "3da9f0cb62ec4df2a0addc2caaf8b920",
       "version_major": 2,
       "version_minor": 0
      },
      "text/plain": [
       "  0%|          | 0/3 [00:00<?, ?it/s]"
      ]
     },
     "metadata": {},
     "output_type": "display_data"
    },
    {
     "name": "stdout",
     "output_type": "stream",
     "text": [
      "given shift 3, window size 5 and n 11: history length = 35\n",
      "[INFO] Concatenating the embeddings to the dataframe...\n",
      "[INFO] - columns beginning with 'e' denote the full embddings.\n",
      "[INFO] - columns beginning with 'd' denote the dimension reduced embeddings.\n",
      "[INFO] Adding time feature columns into dataframe in `.df`.\n",
      "[INFO] Adding 'time_encoding' feature...\n",
      "[INFO] Adding 'time_diff' feature...\n",
      "[INFO] Adding 'timeline_index' feature...\n",
      "[INFO] Padding ids and storing in `.df_padded` and `.array_padded` attributes.\n"
     ]
    },
    {
     "data": {
      "application/vnd.jupyter.widget-view+json": {
       "model_id": "7a20d4489988451b8b4e8c3b72d227c7",
       "version_major": 2,
       "version_minor": 0
      },
      "text/plain": [
       "  0%|          | 0/9699 [00:00<?, ?it/s]"
      ]
     },
     "metadata": {},
     "output_type": "display_data"
    },
    {
     "name": "stdout",
     "output_type": "stream",
     "text": [
      "[INFO] The path was created for each item in the dataframe, by looking at its history, so to include embeddings in the FFN input, we concatenate the embeddings for each sentence / text.\n",
      "saving results dataframe to CSV for this hyperparameter search in client_talk_type_output/seqsignet_grp_focal_2_3_5_11_kfold.csv\n",
      "saving the best model results dataframe to CSV for this hyperparameter search in client_talk_type_output/seqsignet_grp_focal_2_3_5_11_kfold_best_model.csv\n"
     ]
    }
   ],
   "source": [
    "(\n",
    "    seqsignet_network_grp_kfold_35,\n",
    "    best_seqsignet_network_grp_kfold_35,\n",
    "    _,\n",
    "    __,\n",
    ") = seqsignet_hyperparameter_search(\n",
    "    shift=shift,\n",
    "    window_size=window_size,\n",
    "    n=n,\n",
    "    dim_reduce_methods=[\"gaussian_random_projection\"],\n",
    "    results_output=f\"{output_dir}/seqsignet_grp_focal_{gamma}_{shift}_{window_size}_{n}_kfold.csv\",\n",
    "    **kwargs,\n",
    ")"
   ]
  },
  {
   "cell_type": "code",
   "execution_count": 31,
   "id": "a9f88aff-06c9-406b-96ed-47e372ac74a8",
   "metadata": {},
   "outputs": [
    {
     "data": {
      "text/html": [
       "<div>\n",
       "<style scoped>\n",
       "    .dataframe tbody tr th:only-of-type {\n",
       "        vertical-align: middle;\n",
       "    }\n",
       "\n",
       "    .dataframe tbody tr th {\n",
       "        vertical-align: top;\n",
       "    }\n",
       "\n",
       "    .dataframe thead th {\n",
       "        text-align: right;\n",
       "    }\n",
       "</style>\n",
       "<table border=\"1\" class=\"dataframe\">\n",
       "  <thead>\n",
       "    <tr style=\"text-align: right;\">\n",
       "      <th></th>\n",
       "      <th>loss</th>\n",
       "      <th>accuracy</th>\n",
       "      <th>f1</th>\n",
       "      <th>f1_scores</th>\n",
       "      <th>precision</th>\n",
       "      <th>precision_scores</th>\n",
       "      <th>recall</th>\n",
       "      <th>recall_scores</th>\n",
       "      <th>valid_loss</th>\n",
       "      <th>valid_accuracy</th>\n",
       "      <th>...</th>\n",
       "      <th>BiLSTM</th>\n",
       "      <th>loss_function</th>\n",
       "      <th>gamma</th>\n",
       "      <th>k_fold</th>\n",
       "      <th>n_splits</th>\n",
       "      <th>augmentation_type</th>\n",
       "      <th>hidden_dim_aug</th>\n",
       "      <th>comb_method</th>\n",
       "      <th>batch_size</th>\n",
       "      <th>model_id</th>\n",
       "    </tr>\n",
       "  </thead>\n",
       "  <tbody>\n",
       "    <tr>\n",
       "      <th>0</th>\n",
       "      <td>None</td>\n",
       "      <td>0.645594</td>\n",
       "      <td>0.517672</td>\n",
       "      <td>[0.767187271931105, 0.4480519480519481, 0.3377...</td>\n",
       "      <td>0.515288</td>\n",
       "      <td>[0.7745358090185677, 0.44089456869009586, 0.33...</td>\n",
       "      <td>0.520292</td>\n",
       "      <td>[0.7599768652400232, 0.45544554455445546, 0.34...</td>\n",
       "      <td>None</td>\n",
       "      <td>0.668433</td>\n",
       "      <td>...</td>\n",
       "      <td>True</td>\n",
       "      <td>focal</td>\n",
       "      <td>2</td>\n",
       "      <td>True</td>\n",
       "      <td>5</td>\n",
       "      <td>Conv1d</td>\n",
       "      <td>None</td>\n",
       "      <td>concatenation</td>\n",
       "      <td>64</td>\n",
       "      <td>0</td>\n",
       "    </tr>\n",
       "    <tr>\n",
       "      <th>0</th>\n",
       "      <td>None</td>\n",
       "      <td>0.628927</td>\n",
       "      <td>0.513232</td>\n",
       "      <td>[0.7494308696312035, 0.4638755094479437, 0.326...</td>\n",
       "      <td>0.507280</td>\n",
       "      <td>[0.7885659533695305, 0.4209818426361802, 0.312...</td>\n",
       "      <td>0.524105</td>\n",
       "      <td>[0.7139965297860035, 0.5165016501650165, 0.341...</td>\n",
       "      <td>None</td>\n",
       "      <td>0.662010</td>\n",
       "      <td>...</td>\n",
       "      <td>True</td>\n",
       "      <td>focal</td>\n",
       "      <td>2</td>\n",
       "      <td>True</td>\n",
       "      <td>5</td>\n",
       "      <td>Conv1d</td>\n",
       "      <td>None</td>\n",
       "      <td>concatenation</td>\n",
       "      <td>64</td>\n",
       "      <td>0</td>\n",
       "    </tr>\n",
       "    <tr>\n",
       "      <th>0</th>\n",
       "      <td>None</td>\n",
       "      <td>0.653831</td>\n",
       "      <td>0.515296</td>\n",
       "      <td>[0.7756956274843839, 0.4305010893246187, 0.339...</td>\n",
       "      <td>0.519125</td>\n",
       "      <td>[0.7618516452872282, 0.45614035087719296, 0.33...</td>\n",
       "      <td>0.512548</td>\n",
       "      <td>[0.790052053209948, 0.4075907590759076, 0.34]</td>\n",
       "      <td>None</td>\n",
       "      <td>0.668915</td>\n",
       "      <td>...</td>\n",
       "      <td>True</td>\n",
       "      <td>focal</td>\n",
       "      <td>2</td>\n",
       "      <td>True</td>\n",
       "      <td>5</td>\n",
       "      <td>Conv1d</td>\n",
       "      <td>None</td>\n",
       "      <td>concatenation</td>\n",
       "      <td>64</td>\n",
       "      <td>0</td>\n",
       "    </tr>\n",
       "    <tr>\n",
       "      <th>0</th>\n",
       "      <td>None</td>\n",
       "      <td>0.651724</td>\n",
       "      <td>0.521622</td>\n",
       "      <td>[0.774850822296609, 0.4524207011686144, 0.3375...</td>\n",
       "      <td>0.518515</td>\n",
       "      <td>[0.7799589803691767, 0.4577702702702703, 0.317...</td>\n",
       "      <td>0.525668</td>\n",
       "      <td>[0.7698091382301908, 0.4471947194719472, 0.36]</td>\n",
       "      <td>None</td>\n",
       "      <td>0.670841</td>\n",
       "      <td>...</td>\n",
       "      <td>True</td>\n",
       "      <td>focal</td>\n",
       "      <td>2</td>\n",
       "      <td>True</td>\n",
       "      <td>5</td>\n",
       "      <td>Conv1d</td>\n",
       "      <td>None</td>\n",
       "      <td>concatenation</td>\n",
       "      <td>64</td>\n",
       "      <td>1</td>\n",
       "    </tr>\n",
       "    <tr>\n",
       "      <th>0</th>\n",
       "      <td>None</td>\n",
       "      <td>0.633908</td>\n",
       "      <td>0.509552</td>\n",
       "      <td>[0.7614705882352941, 0.41885245901639345, 0.34...</td>\n",
       "      <td>0.504116</td>\n",
       "      <td>[0.774685816876122, 0.4161237785016287, 0.3215...</td>\n",
       "      <td>0.516772</td>\n",
       "      <td>[0.7486986697513013, 0.42161716171617164, 0.38]</td>\n",
       "      <td>None</td>\n",
       "      <td>0.671002</td>\n",
       "      <td>...</td>\n",
       "      <td>True</td>\n",
       "      <td>focal</td>\n",
       "      <td>2</td>\n",
       "      <td>True</td>\n",
       "      <td>5</td>\n",
       "      <td>Conv1d</td>\n",
       "      <td>None</td>\n",
       "      <td>concatenation</td>\n",
       "      <td>64</td>\n",
       "      <td>1</td>\n",
       "    </tr>\n",
       "    <tr>\n",
       "      <th>...</th>\n",
       "      <td>...</td>\n",
       "      <td>...</td>\n",
       "      <td>...</td>\n",
       "      <td>...</td>\n",
       "      <td>...</td>\n",
       "      <td>...</td>\n",
       "      <td>...</td>\n",
       "      <td>...</td>\n",
       "      <td>...</td>\n",
       "      <td>...</td>\n",
       "      <td>...</td>\n",
       "      <td>...</td>\n",
       "      <td>...</td>\n",
       "      <td>...</td>\n",
       "      <td>...</td>\n",
       "      <td>...</td>\n",
       "      <td>...</td>\n",
       "      <td>...</td>\n",
       "      <td>...</td>\n",
       "      <td>...</td>\n",
       "      <td>...</td>\n",
       "    </tr>\n",
       "    <tr>\n",
       "      <th>0</th>\n",
       "      <td>None</td>\n",
       "      <td>0.635632</td>\n",
       "      <td>0.496297</td>\n",
       "      <td>[0.7721683784174742, 0.3899261832392531, 0.326...</td>\n",
       "      <td>0.493596</td>\n",
       "      <td>[0.7725036179450072, 0.41154903758020167, 0.29...</td>\n",
       "      <td>0.501977</td>\n",
       "      <td>[0.7718334297281666, 0.3704620462046205, 0.363...</td>\n",
       "      <td>None</td>\n",
       "      <td>0.666185</td>\n",
       "      <td>...</td>\n",
       "      <td>True</td>\n",
       "      <td>focal</td>\n",
       "      <td>2</td>\n",
       "      <td>True</td>\n",
       "      <td>5</td>\n",
       "      <td>Conv1d</td>\n",
       "      <td>None</td>\n",
       "      <td>concatenation</td>\n",
       "      <td>64</td>\n",
       "      <td>22</td>\n",
       "    </tr>\n",
       "    <tr>\n",
       "      <th>0</th>\n",
       "      <td>None</td>\n",
       "      <td>0.645211</td>\n",
       "      <td>0.514415</td>\n",
       "      <td>[0.7684700407213496, 0.4414414414414415, 0.333...</td>\n",
       "      <td>0.512700</td>\n",
       "      <td>[0.7729666471620831, 0.43821138211382116, 0.32...</td>\n",
       "      <td>0.516248</td>\n",
       "      <td>[0.7640254482359745, 0.44471947194719474, 0.34]</td>\n",
       "      <td>None</td>\n",
       "      <td>0.671805</td>\n",
       "      <td>...</td>\n",
       "      <td>True</td>\n",
       "      <td>focal</td>\n",
       "      <td>2</td>\n",
       "      <td>True</td>\n",
       "      <td>5</td>\n",
       "      <td>Conv1d</td>\n",
       "      <td>None</td>\n",
       "      <td>concatenation</td>\n",
       "      <td>64</td>\n",
       "      <td>22</td>\n",
       "    </tr>\n",
       "    <tr>\n",
       "      <th>0</th>\n",
       "      <td>None</td>\n",
       "      <td>0.607088</td>\n",
       "      <td>0.497649</td>\n",
       "      <td>[0.7371290127195639, 0.3964329144710174, 0.359...</td>\n",
       "      <td>0.487896</td>\n",
       "      <td>[0.7736808645899556, 0.3896414342629482, 0.300...</td>\n",
       "      <td>0.518204</td>\n",
       "      <td>[0.7038750722961249, 0.4034653465346535, 0.447...</td>\n",
       "      <td>None</td>\n",
       "      <td>0.653661</td>\n",
       "      <td>...</td>\n",
       "      <td>True</td>\n",
       "      <td>focal</td>\n",
       "      <td>2</td>\n",
       "      <td>True</td>\n",
       "      <td>5</td>\n",
       "      <td>Conv1d</td>\n",
       "      <td>None</td>\n",
       "      <td>concatenation</td>\n",
       "      <td>64</td>\n",
       "      <td>23</td>\n",
       "    </tr>\n",
       "    <tr>\n",
       "      <th>0</th>\n",
       "      <td>None</td>\n",
       "      <td>0.630077</td>\n",
       "      <td>0.512236</td>\n",
       "      <td>[0.7537479590322101, 0.42942345924453285, 0.35...</td>\n",
       "      <td>0.505968</td>\n",
       "      <td>[0.7743214394632509, 0.41442824251726784, 0.32...</td>\n",
       "      <td>0.520534</td>\n",
       "      <td>[0.7342394447657605, 0.44554455445544555, 0.38...</td>\n",
       "      <td>None</td>\n",
       "      <td>0.665543</td>\n",
       "      <td>...</td>\n",
       "      <td>True</td>\n",
       "      <td>focal</td>\n",
       "      <td>2</td>\n",
       "      <td>True</td>\n",
       "      <td>5</td>\n",
       "      <td>Conv1d</td>\n",
       "      <td>None</td>\n",
       "      <td>concatenation</td>\n",
       "      <td>64</td>\n",
       "      <td>23</td>\n",
       "    </tr>\n",
       "    <tr>\n",
       "      <th>0</th>\n",
       "      <td>None</td>\n",
       "      <td>0.630460</td>\n",
       "      <td>0.497892</td>\n",
       "      <td>[0.7616430431009547, 0.3903719912472648, 0.341...</td>\n",
       "      <td>0.494774</td>\n",
       "      <td>[0.7618634259259259, 0.41565703634669154, 0.30...</td>\n",
       "      <td>0.504955</td>\n",
       "      <td>[0.7614227877385772, 0.367986798679868, 0.3854...</td>\n",
       "      <td>None</td>\n",
       "      <td>0.661047</td>\n",
       "      <td>...</td>\n",
       "      <td>True</td>\n",
       "      <td>focal</td>\n",
       "      <td>2</td>\n",
       "      <td>True</td>\n",
       "      <td>5</td>\n",
       "      <td>Conv1d</td>\n",
       "      <td>None</td>\n",
       "      <td>concatenation</td>\n",
       "      <td>64</td>\n",
       "      <td>23</td>\n",
       "    </tr>\n",
       "  </tbody>\n",
       "</table>\n",
       "<p>72 rows × 49 columns</p>\n",
       "</div>"
      ],
      "text/plain": [
       "    loss  accuracy        f1  \\\n",
       "0   None  0.645594  0.517672   \n",
       "0   None  0.628927  0.513232   \n",
       "0   None  0.653831  0.515296   \n",
       "0   None  0.651724  0.521622   \n",
       "0   None  0.633908  0.509552   \n",
       "..   ...       ...       ...   \n",
       "0   None  0.635632  0.496297   \n",
       "0   None  0.645211  0.514415   \n",
       "0   None  0.607088  0.497649   \n",
       "0   None  0.630077  0.512236   \n",
       "0   None  0.630460  0.497892   \n",
       "\n",
       "                                            f1_scores  precision  \\\n",
       "0   [0.767187271931105, 0.4480519480519481, 0.3377...   0.515288   \n",
       "0   [0.7494308696312035, 0.4638755094479437, 0.326...   0.507280   \n",
       "0   [0.7756956274843839, 0.4305010893246187, 0.339...   0.519125   \n",
       "0   [0.774850822296609, 0.4524207011686144, 0.3375...   0.518515   \n",
       "0   [0.7614705882352941, 0.41885245901639345, 0.34...   0.504116   \n",
       "..                                                ...        ...   \n",
       "0   [0.7721683784174742, 0.3899261832392531, 0.326...   0.493596   \n",
       "0   [0.7684700407213496, 0.4414414414414415, 0.333...   0.512700   \n",
       "0   [0.7371290127195639, 0.3964329144710174, 0.359...   0.487896   \n",
       "0   [0.7537479590322101, 0.42942345924453285, 0.35...   0.505968   \n",
       "0   [0.7616430431009547, 0.3903719912472648, 0.341...   0.494774   \n",
       "\n",
       "                                     precision_scores    recall  \\\n",
       "0   [0.7745358090185677, 0.44089456869009586, 0.33...  0.520292   \n",
       "0   [0.7885659533695305, 0.4209818426361802, 0.312...  0.524105   \n",
       "0   [0.7618516452872282, 0.45614035087719296, 0.33...  0.512548   \n",
       "0   [0.7799589803691767, 0.4577702702702703, 0.317...  0.525668   \n",
       "0   [0.774685816876122, 0.4161237785016287, 0.3215...  0.516772   \n",
       "..                                                ...       ...   \n",
       "0   [0.7725036179450072, 0.41154903758020167, 0.29...  0.501977   \n",
       "0   [0.7729666471620831, 0.43821138211382116, 0.32...  0.516248   \n",
       "0   [0.7736808645899556, 0.3896414342629482, 0.300...  0.518204   \n",
       "0   [0.7743214394632509, 0.41442824251726784, 0.32...  0.520534   \n",
       "0   [0.7618634259259259, 0.41565703634669154, 0.30...  0.504955   \n",
       "\n",
       "                                        recall_scores valid_loss  \\\n",
       "0   [0.7599768652400232, 0.45544554455445546, 0.34...       None   \n",
       "0   [0.7139965297860035, 0.5165016501650165, 0.341...       None   \n",
       "0       [0.790052053209948, 0.4075907590759076, 0.34]       None   \n",
       "0      [0.7698091382301908, 0.4471947194719472, 0.36]       None   \n",
       "0     [0.7486986697513013, 0.42161716171617164, 0.38]       None   \n",
       "..                                                ...        ...   \n",
       "0   [0.7718334297281666, 0.3704620462046205, 0.363...       None   \n",
       "0     [0.7640254482359745, 0.44471947194719474, 0.34]       None   \n",
       "0   [0.7038750722961249, 0.4034653465346535, 0.447...       None   \n",
       "0   [0.7342394447657605, 0.44554455445544555, 0.38...       None   \n",
       "0   [0.7614227877385772, 0.367986798679868, 0.3854...       None   \n",
       "\n",
       "    valid_accuracy  ...  BiLSTM loss_function  gamma k_fold  n_splits  \\\n",
       "0         0.668433  ...    True         focal      2   True         5   \n",
       "0         0.662010  ...    True         focal      2   True         5   \n",
       "0         0.668915  ...    True         focal      2   True         5   \n",
       "0         0.670841  ...    True         focal      2   True         5   \n",
       "0         0.671002  ...    True         focal      2   True         5   \n",
       "..             ...  ...     ...           ...    ...    ...       ...   \n",
       "0         0.666185  ...    True         focal      2   True         5   \n",
       "0         0.671805  ...    True         focal      2   True         5   \n",
       "0         0.653661  ...    True         focal      2   True         5   \n",
       "0         0.665543  ...    True         focal      2   True         5   \n",
       "0         0.661047  ...    True         focal      2   True         5   \n",
       "\n",
       "   augmentation_type  hidden_dim_aug    comb_method  batch_size  model_id  \n",
       "0             Conv1d            None  concatenation          64         0  \n",
       "0             Conv1d            None  concatenation          64         0  \n",
       "0             Conv1d            None  concatenation          64         0  \n",
       "0             Conv1d            None  concatenation          64         1  \n",
       "0             Conv1d            None  concatenation          64         1  \n",
       "..               ...             ...            ...         ...       ...  \n",
       "0             Conv1d            None  concatenation          64        22  \n",
       "0             Conv1d            None  concatenation          64        22  \n",
       "0             Conv1d            None  concatenation          64        23  \n",
       "0             Conv1d            None  concatenation          64        23  \n",
       "0             Conv1d            None  concatenation          64        23  \n",
       "\n",
       "[72 rows x 49 columns]"
      ]
     },
     "execution_count": 31,
     "metadata": {},
     "output_type": "execute_result"
    }
   ],
   "source": [
    "seqsignet_network_grp_kfold_35"
   ]
  },
  {
   "cell_type": "markdown",
   "id": "cf0e9e74-4bdb-4aa8-816c-8ed625fdc003",
   "metadata": {
    "jp-MarkdownHeadingCollapsed": true,
    "tags": []
   },
   "source": [
    "best_seqsignet_network_grp_kfold_35[\"f1\"].mean()"
   ]
  },
  {
   "cell_type": "code",
   "execution_count": 32,
   "id": "5943b90f-b486-442f-9507-afca813c2d1e",
   "metadata": {},
   "outputs": [
    {
     "data": {
      "text/plain": [
       "0.5067860229271276"
      ]
     },
     "execution_count": 32,
     "metadata": {},
     "output_type": "execute_result"
    }
   ],
   "source": [
    "best_seqsignet_network_grp_kfold_35[\"precision\"].mean()"
   ]
  },
  {
   "cell_type": "code",
   "execution_count": 33,
   "id": "fac42ec4-794d-452a-a26f-a33f38300957",
   "metadata": {},
   "outputs": [
    {
     "data": {
      "text/plain": [
       "0.5253365384735891"
      ]
     },
     "execution_count": 33,
     "metadata": {},
     "output_type": "execute_result"
    }
   ],
   "source": [
    "best_seqsignet_network_grp_kfold_35[\"recall\"].mean()"
   ]
  },
  {
   "cell_type": "code",
   "execution_count": 34,
   "id": "6e41ae89-f184-4318-93c6-61b9bda05133",
   "metadata": {},
   "outputs": [
    {
     "data": {
      "text/plain": [
       "array([0.75975717, 0.42584103, 0.35191066])"
      ]
     },
     "execution_count": 34,
     "metadata": {},
     "output_type": "execute_result"
    }
   ],
   "source": [
    "np.stack(best_seqsignet_network_grp_kfold_35[\"f1_scores\"]).mean(axis=0)"
   ]
  },
  {
   "cell_type": "code",
   "execution_count": 35,
   "id": "7aeeb599-9de6-411e-bd82-83c451b007f7",
   "metadata": {},
   "outputs": [
    {
     "data": {
      "text/plain": [
       "array([0.77404948, 0.44261133, 0.30369726])"
      ]
     },
     "execution_count": 35,
     "metadata": {},
     "output_type": "execute_result"
    }
   ],
   "source": [
    "np.stack(best_seqsignet_network_grp_kfold_35[\"precision_scores\"]).mean(axis=0)"
   ]
  },
  {
   "cell_type": "code",
   "execution_count": 36,
   "id": "d1ea4021-566e-491b-a6d1-d17745b193f9",
   "metadata": {},
   "outputs": [
    {
     "data": {
      "text/plain": [
       "array([0.74599961, 0.41061606, 0.41939394])"
      ]
     },
     "execution_count": 36,
     "metadata": {},
     "output_type": "execute_result"
    }
   ],
   "source": [
    "np.stack(best_seqsignet_network_grp_kfold_35[\"recall_scores\"]).mean(axis=0)"
   ]
  },
  {
   "cell_type": "markdown",
   "id": "b4862174-6963-4547-9795-646a4bf61512",
   "metadata": {
    "tags": []
   },
   "source": [
    "# history_length=80"
   ]
  },
  {
   "cell_type": "code",
   "execution_count": 37,
   "id": "0feac599-fdfa-4283-819c-38f927b10ae8",
   "metadata": {},
   "outputs": [],
   "source": [
    "shift = 3\n",
    "window_size = 5\n",
    "n = 26"
   ]
  },
  {
   "cell_type": "markdown",
   "id": "71d553c9-de53-4a4d-867a-33cd7c970181",
   "metadata": {},
   "source": [
    "## GRP"
   ]
  },
  {
   "cell_type": "code",
   "execution_count": null,
   "id": "f8d2c1b4-aa57-402f-be19-b4debdab9f96",
   "metadata": {},
   "outputs": [
    {
     "data": {
      "application/vnd.jupyter.widget-view+json": {
       "model_id": "1b3f373df2d740afaaf10e9e6526521a",
       "version_major": 2,
       "version_minor": 0
      },
      "text/plain": [
       "  0%|          | 0/1 [00:00<?, ?it/s]"
      ]
     },
     "metadata": {},
     "output_type": "display_data"
    },
    {
     "data": {
      "application/vnd.jupyter.widget-view+json": {
       "model_id": "8be917b7545f4337b2d0b135b25711cf",
       "version_major": 2,
       "version_minor": 0
      },
      "text/plain": [
       "  0%|          | 0/1 [00:00<?, ?it/s]"
      ]
     },
     "metadata": {},
     "output_type": "display_data"
    },
    {
     "name": "stdout",
     "output_type": "stream",
     "text": [
      "\n",
      "##################################################\n",
      "dimension: 15 | method: gaussian_random_projection\n",
      "given shift 3, window size 5 and n 26: history length = 80\n",
      "[INFO] Concatenating the embeddings to the dataframe...\n",
      "[INFO] - columns beginning with 'e' denote the full embddings.\n",
      "[INFO] - columns beginning with 'd' denote the dimension reduced embeddings.\n",
      "[INFO] Adding time feature columns into dataframe in `.df`.\n",
      "[INFO] Adding 'time_encoding' feature...\n",
      "[INFO] Adding 'time_diff' feature...\n",
      "[INFO] Adding 'timeline_index' feature...\n",
      "[INFO] Padding ids and storing in `.df_padded` and `.array_padded` attributes.\n"
     ]
    },
    {
     "data": {
      "application/vnd.jupyter.widget-view+json": {
       "model_id": "92e85783f41b409fb6efebfc051347a0",
       "version_major": 2,
       "version_minor": 0
      },
      "text/plain": [
       "  0%|          | 0/9699 [00:00<?, ?it/s]"
      ]
     },
     "metadata": {},
     "output_type": "display_data"
    },
    {
     "name": "stdout",
     "output_type": "stream",
     "text": [
      "[INFO] The path was created for each item in the dataframe, by looking at its history, so to include embeddings in the FFN input, we concatenate the embeddings for each sentence / text.\n"
     ]
    },
    {
     "data": {
      "application/vnd.jupyter.widget-view+json": {
       "model_id": "9a072d4cf0754e498d113641177cbf11",
       "version_major": 2,
       "version_minor": 0
      },
      "text/plain": [
       "  0%|          | 0/2 [00:00<?, ?it/s]"
      ]
     },
     "metadata": {},
     "output_type": "display_data"
    },
    {
     "data": {
      "application/vnd.jupyter.widget-view+json": {
       "model_id": "03506098664b4821924312bbe7ef338b",
       "version_major": 2,
       "version_minor": 0
      },
      "text/plain": [
       "  0%|          | 0/1 [00:00<?, ?it/s]"
      ]
     },
     "metadata": {},
     "output_type": "display_data"
    },
    {
     "data": {
      "application/vnd.jupyter.widget-view+json": {
       "model_id": "87be7b7f48134740ac3926a23835d3e8",
       "version_major": 2,
       "version_minor": 0
      },
      "text/plain": [
       "  0%|          | 0/2 [00:00<?, ?it/s]"
      ]
     },
     "metadata": {},
     "output_type": "display_data"
    },
    {
     "data": {
      "application/vnd.jupyter.widget-view+json": {
       "model_id": "bbd06c9ba0714eedb0b268c405b9d10b",
       "version_major": 2,
       "version_minor": 0
      },
      "text/plain": [
       "  0%|          | 0/1 [00:00<?, ?it/s]"
      ]
     },
     "metadata": {},
     "output_type": "display_data"
    },
    {
     "data": {
      "application/vnd.jupyter.widget-view+json": {
       "model_id": "4d86027652f84afdb2434feab73c831c",
       "version_major": 2,
       "version_minor": 0
      },
      "text/plain": [
       "  0%|          | 0/2 [00:00<?, ?it/s]"
      ]
     },
     "metadata": {},
     "output_type": "display_data"
    },
    {
     "data": {
      "application/vnd.jupyter.widget-view+json": {
       "model_id": "50f3d208933d4ed89d6e274dde8c9527",
       "version_major": 2,
       "version_minor": 0
      },
      "text/plain": [
       "  0%|          | 0/3 [00:00<?, ?it/s]"
      ]
     },
     "metadata": {},
     "output_type": "display_data"
    },
    {
     "data": {
      "application/vnd.jupyter.widget-view+json": {
       "model_id": "79f5ce0dd1a8448babd705d2f81e98c1",
       "version_major": 2,
       "version_minor": 0
      },
      "text/plain": [
       "  0%|          | 0/3 [00:00<?, ?it/s]"
      ]
     },
     "metadata": {},
     "output_type": "display_data"
    },
    {
     "data": {
      "application/vnd.jupyter.widget-view+json": {
       "model_id": "8f3a63b3918849819a2a49d95ace8f7b",
       "version_major": 2,
       "version_minor": 0
      },
      "text/plain": [
       "  0%|          | 0/1 [00:00<?, ?it/s]"
      ]
     },
     "metadata": {},
     "output_type": "display_data"
    },
    {
     "data": {
      "application/vnd.jupyter.widget-view+json": {
       "model_id": "8c0578f16dc946f4808ca4de416b5e61",
       "version_major": 2,
       "version_minor": 0
      },
      "text/plain": [
       "  0%|          | 0/2 [00:00<?, ?it/s]"
      ]
     },
     "metadata": {},
     "output_type": "display_data"
    },
    {
     "data": {
      "application/vnd.jupyter.widget-view+json": {
       "model_id": "56cb9548011a47efab1a575013e7df6b",
       "version_major": 2,
       "version_minor": 0
      },
      "text/plain": [
       "  0%|          | 0/3 [00:00<?, ?it/s]"
      ]
     },
     "metadata": {},
     "output_type": "display_data"
    },
    {
     "data": {
      "application/vnd.jupyter.widget-view+json": {
       "model_id": "0539c4be9ff34b4d823fd6383c395720",
       "version_major": 2,
       "version_minor": 0
      },
      "text/plain": [
       "  0%|          | 0/3 [00:00<?, ?it/s]"
      ]
     },
     "metadata": {},
     "output_type": "display_data"
    },
    {
     "data": {
      "application/vnd.jupyter.widget-view+json": {
       "model_id": "5df96ff6b445408982e3c30ffd907683",
       "version_major": 2,
       "version_minor": 0
      },
      "text/plain": [
       "  0%|          | 0/1 [00:00<?, ?it/s]"
      ]
     },
     "metadata": {},
     "output_type": "display_data"
    },
    {
     "data": {
      "application/vnd.jupyter.widget-view+json": {
       "model_id": "37fc6c4444374ddcadf7b697d7452926",
       "version_major": 2,
       "version_minor": 0
      },
      "text/plain": [
       "  0%|          | 0/2 [00:00<?, ?it/s]"
      ]
     },
     "metadata": {},
     "output_type": "display_data"
    },
    {
     "data": {
      "application/vnd.jupyter.widget-view+json": {
       "model_id": "7c06570a82824bf885dea8caf29cc1d7",
       "version_major": 2,
       "version_minor": 0
      },
      "text/plain": [
       "  0%|          | 0/1 [00:00<?, ?it/s]"
      ]
     },
     "metadata": {},
     "output_type": "display_data"
    },
    {
     "data": {
      "application/vnd.jupyter.widget-view+json": {
       "model_id": "dd71fbfe6f984acb85beaf04af272c54",
       "version_major": 2,
       "version_minor": 0
      },
      "text/plain": [
       "  0%|          | 0/2 [00:00<?, ?it/s]"
      ]
     },
     "metadata": {},
     "output_type": "display_data"
    },
    {
     "data": {
      "application/vnd.jupyter.widget-view+json": {
       "model_id": "b3b81627aa1a40869c703f4c9d0b8d50",
       "version_major": 2,
       "version_minor": 0
      },
      "text/plain": [
       "  0%|          | 0/3 [00:00<?, ?it/s]"
      ]
     },
     "metadata": {},
     "output_type": "display_data"
    }
   ],
   "source": [
    "(\n",
    "    seqsignet_network_grp_kfold_80,\n",
    "    best_seqsignet_network_grp_kfold_80,\n",
    "    _,\n",
    "    __,\n",
    ") = seqsignet_hyperparameter_search(\n",
    "    shift=shift,\n",
    "    window_size=window_size,\n",
    "    n=n,\n",
    "    dim_reduce_methods=[\"gaussian_random_projection\"],\n",
    "    results_output=f\"{output_dir}/seqsignet_grp_focal_{gamma}_{shift}_{window_size}_{n}_kfold.csv\",\n",
    "    **kwargs,\n",
    ")"
   ]
  },
  {
   "cell_type": "code",
   "execution_count": null,
   "id": "0de315a3-bbf1-495a-86a2-e4540037bd41",
   "metadata": {},
   "outputs": [],
   "source": [
    "seqsignet_network_grp_kfold_80"
   ]
  },
  {
   "cell_type": "code",
   "execution_count": null,
   "id": "43200b94-4e08-45bb-839e-c80a600174b1",
   "metadata": {},
   "outputs": [],
   "source": [
    "best_seqsignet_network_grp_kfold_80[\"f1\"].mean()"
   ]
  },
  {
   "cell_type": "code",
   "execution_count": null,
   "id": "aa75f720-8090-4a5d-a99e-5a2e5b99f402",
   "metadata": {},
   "outputs": [],
   "source": [
    "best_seqsignet_network_grp_kfold_80[\"precision\"].mean()"
   ]
  },
  {
   "cell_type": "code",
   "execution_count": null,
   "id": "d2ebc726-007a-4de2-a954-4f5be6259863",
   "metadata": {},
   "outputs": [],
   "source": [
    "best_seqsignet_network_grp_kfold_80[\"recall\"].mean()"
   ]
  },
  {
   "cell_type": "code",
   "execution_count": null,
   "id": "6279ca44-a628-4a72-a719-48df8e950351",
   "metadata": {},
   "outputs": [],
   "source": [
    "np.stack(best_seqsignet_network_grp_kfold_80[\"f1_scores\"]).mean(axis=0)"
   ]
  },
  {
   "cell_type": "code",
   "execution_count": null,
   "id": "e1b35f91-c765-4161-80ab-8567a820fa8b",
   "metadata": {},
   "outputs": [],
   "source": [
    "np.stack(best_seqsignet_network_grp_kfold_80[\"precision_scores\"]).mean(axis=0)"
   ]
  },
  {
   "cell_type": "code",
   "execution_count": null,
   "id": "461e0520-5655-42c2-9709-f4d834892bdb",
   "metadata": {},
   "outputs": [],
   "source": [
    "np.stack(best_seqsignet_network_grp_kfold_80[\"recall_scores\"]).mean(axis=0)"
   ]
  },
  {
   "cell_type": "markdown",
   "id": "77c8f0fe-5030-49e1-99ba-e70752021922",
   "metadata": {
    "tags": []
   },
   "source": [
    "# history_length=110"
   ]
  },
  {
   "cell_type": "code",
   "execution_count": null,
   "id": "fbb8e3c9-83fd-4437-83d5-f5ee66c93d6d",
   "metadata": {},
   "outputs": [],
   "source": [
    "shift = 3\n",
    "window_size = 5\n",
    "n = 36"
   ]
  },
  {
   "cell_type": "markdown",
   "id": "3ae3d91b-f61e-4544-bc9b-d23ff080f022",
   "metadata": {},
   "source": [
    "## GRP"
   ]
  },
  {
   "cell_type": "code",
   "execution_count": null,
   "id": "ac973b09-e88f-412a-be90-5edc61f9bf0c",
   "metadata": {},
   "outputs": [],
   "source": [
    "(\n",
    "    seqsignet_network_grp_kfold_110,\n",
    "    best_seqsignet_network_grp_kfold_110,\n",
    "    _,\n",
    "    __,\n",
    ") = seqsignet_hyperparameter_search(\n",
    "    shift=shift,\n",
    "    window_size=window_size,\n",
    "    n=n,\n",
    "    dim_reduce_methods=[\"gaussian_random_projection\"],\n",
    "    results_output=f\"{output_dir}/seqsignet_grp_focal_{gamma}_{shift}_{window_size}_{n}_kfold.csv\",\n",
    "    **kwargs,\n",
    ")"
   ]
  },
  {
   "cell_type": "code",
   "execution_count": null,
   "id": "69b67871-14bb-42eb-98e9-85858626a2f5",
   "metadata": {},
   "outputs": [],
   "source": [
    "seqsignet_network_grp_kfold_110"
   ]
  },
  {
   "cell_type": "code",
   "execution_count": null,
   "id": "d87112b4-fdef-44f4-8e10-86223985d629",
   "metadata": {},
   "outputs": [],
   "source": [
    "best_seqsignet_network_grp_kfold_110[\"f1\"].mean()"
   ]
  },
  {
   "cell_type": "code",
   "execution_count": null,
   "id": "3d54c6ee-3bd5-49b8-8a74-86c4ec71e7b8",
   "metadata": {},
   "outputs": [],
   "source": [
    "best_seqsignet_network_grp_kfold_110[\"precision\"].mean()"
   ]
  },
  {
   "cell_type": "code",
   "execution_count": null,
   "id": "ab9620a8-3139-483c-83dd-23f63996a9e7",
   "metadata": {},
   "outputs": [],
   "source": [
    "best_seqsignet_network_grp_kfold_110[\"recall\"].mean()"
   ]
  },
  {
   "cell_type": "code",
   "execution_count": null,
   "id": "4a238191-0b83-4b20-901e-bc58e6a7d330",
   "metadata": {},
   "outputs": [],
   "source": [
    "np.stack(best_seqsignet_network_grp_kfold_110[\"f1_scores\"]).mean(axis=0)"
   ]
  },
  {
   "cell_type": "code",
   "execution_count": null,
   "id": "403c82eb-63a4-4965-8d3b-81418a90c636",
   "metadata": {},
   "outputs": [],
   "source": [
    "np.stack(best_seqsignet_network_grp_kfold_110[\"precision_scores\"]).mean(axis=0)"
   ]
  },
  {
   "cell_type": "code",
   "execution_count": null,
   "id": "7fb49c25-80a3-4112-823b-c926981d5cd5",
   "metadata": {},
   "outputs": [],
   "source": [
    "np.stack(best_seqsignet_network_grp_kfold_110[\"recall_scores\"]).mean(axis=0)"
   ]
  }
 ],
 "metadata": {
  "kernelspec": {
   "display_name": "nlpsig-networks (Conda)",
   "language": "python",
   "name": "sys_nlpsig-networks"
  },
  "language_info": {
   "codemirror_mode": {
    "name": "ipython",
    "version": 3
   },
   "file_extension": ".py",
   "mimetype": "text/x-python",
   "name": "python",
   "nbconvert_exporter": "python",
   "pygments_lexer": "ipython3",
   "version": "3.8.17"
  }
 },
 "nbformat": 4,
 "nbformat_minor": 5
}
