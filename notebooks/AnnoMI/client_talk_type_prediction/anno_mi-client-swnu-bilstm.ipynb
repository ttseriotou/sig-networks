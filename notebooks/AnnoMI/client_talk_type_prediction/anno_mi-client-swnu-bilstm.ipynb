{
 "cells": [
  {
   "cell_type": "code",
   "execution_count": 1,
   "id": "a983a5e8",
   "metadata": {},
   "outputs": [],
   "source": [
    "import numpy as np\n",
    "import pickle\n",
    "import os\n",
    "\n",
    "seed = 2023"
   ]
  },
  {
   "cell_type": "code",
   "execution_count": 2,
   "id": "31866562-4774-4b9e-9dab-1018ff28ae3e",
   "metadata": {},
   "outputs": [
    {
     "data": {
      "text/plain": [
       "device(type='cuda')"
      ]
     },
     "execution_count": 2,
     "metadata": {},
     "output_type": "execute_result"
    }
   ],
   "source": [
    "import torch\n",
    "\n",
    "# set device\n",
    "device = torch.device(\"cuda\" if torch.cuda.is_available() else \"cpu\")\n",
    "device"
   ]
  },
  {
   "cell_type": "code",
   "execution_count": 3,
   "id": "47c7fd57",
   "metadata": {},
   "outputs": [],
   "source": [
    "from nlpsig_networks.scripts.seqsignet_functions import seqsignet_hyperparameter_search"
   ]
  },
  {
   "cell_type": "code",
   "execution_count": 4,
   "id": "6e918dde",
   "metadata": {},
   "outputs": [],
   "source": [
    "output_dir = \"client_talk_type_output\"\n",
    "if not os.path.isdir(output_dir):\n",
    "    os.makedirs(output_dir)"
   ]
  },
  {
   "cell_type": "markdown",
   "id": "f7409a03",
   "metadata": {},
   "source": [
    "## AnnoMI"
   ]
  },
  {
   "cell_type": "code",
   "execution_count": 5,
   "id": "f00bb922",
   "metadata": {},
   "outputs": [],
   "source": [
    "%run ../load_anno_mi.py"
   ]
  },
  {
   "cell_type": "code",
   "execution_count": 6,
   "id": "720d820f",
   "metadata": {},
   "outputs": [
    {
     "data": {
      "text/html": [
       "<div>\n",
       "<style scoped>\n",
       "    .dataframe tbody tr th:only-of-type {\n",
       "        vertical-align: middle;\n",
       "    }\n",
       "\n",
       "    .dataframe tbody tr th {\n",
       "        vertical-align: top;\n",
       "    }\n",
       "\n",
       "    .dataframe thead th {\n",
       "        text-align: right;\n",
       "    }\n",
       "</style>\n",
       "<table border=\"1\" class=\"dataframe\">\n",
       "  <thead>\n",
       "    <tr style=\"text-align: right;\">\n",
       "      <th></th>\n",
       "      <th>mi_quality</th>\n",
       "      <th>transcript_id</th>\n",
       "      <th>topic</th>\n",
       "      <th>utterance_id</th>\n",
       "      <th>interlocutor</th>\n",
       "      <th>timestamp</th>\n",
       "      <th>utterance_text</th>\n",
       "      <th>annotator_id</th>\n",
       "      <th>therapist_input_exists</th>\n",
       "      <th>therapist_input_subtype</th>\n",
       "      <th>reflection_exists</th>\n",
       "      <th>reflection_subtype</th>\n",
       "      <th>question_exists</th>\n",
       "      <th>question_subtype</th>\n",
       "      <th>main_therapist_behaviour</th>\n",
       "      <th>client_talk_type</th>\n",
       "      <th>datetime</th>\n",
       "      <th>speaker</th>\n",
       "    </tr>\n",
       "  </thead>\n",
       "  <tbody>\n",
       "    <tr>\n",
       "      <th>0</th>\n",
       "      <td>high</td>\n",
       "      <td>0</td>\n",
       "      <td>reducing alcohol consumption</td>\n",
       "      <td>0</td>\n",
       "      <td>therapist</td>\n",
       "      <td>00:00:13</td>\n",
       "      <td>Thanks for filling it out. We give this form t...</td>\n",
       "      <td>3</td>\n",
       "      <td>False</td>\n",
       "      <td>NaN</td>\n",
       "      <td>False</td>\n",
       "      <td>NaN</td>\n",
       "      <td>True</td>\n",
       "      <td>open</td>\n",
       "      <td>question</td>\n",
       "      <td>NaN</td>\n",
       "      <td>2023-09-26 00:00:13</td>\n",
       "      <td>-1</td>\n",
       "    </tr>\n",
       "    <tr>\n",
       "      <th>1</th>\n",
       "      <td>high</td>\n",
       "      <td>0</td>\n",
       "      <td>reducing alcohol consumption</td>\n",
       "      <td>1</td>\n",
       "      <td>client</td>\n",
       "      <td>00:00:24</td>\n",
       "      <td>Sure.</td>\n",
       "      <td>3</td>\n",
       "      <td>NaN</td>\n",
       "      <td>NaN</td>\n",
       "      <td>NaN</td>\n",
       "      <td>NaN</td>\n",
       "      <td>NaN</td>\n",
       "      <td>NaN</td>\n",
       "      <td>NaN</td>\n",
       "      <td>neutral</td>\n",
       "      <td>2023-09-26 00:00:24</td>\n",
       "      <td>1</td>\n",
       "    </tr>\n",
       "    <tr>\n",
       "      <th>2</th>\n",
       "      <td>high</td>\n",
       "      <td>0</td>\n",
       "      <td>reducing alcohol consumption</td>\n",
       "      <td>2</td>\n",
       "      <td>therapist</td>\n",
       "      <td>00:00:25</td>\n",
       "      <td>So, let's see. It looks that you put-- You dri...</td>\n",
       "      <td>3</td>\n",
       "      <td>True</td>\n",
       "      <td>information</td>\n",
       "      <td>False</td>\n",
       "      <td>NaN</td>\n",
       "      <td>False</td>\n",
       "      <td>NaN</td>\n",
       "      <td>therapist_input</td>\n",
       "      <td>NaN</td>\n",
       "      <td>2023-09-26 00:00:25</td>\n",
       "      <td>-1</td>\n",
       "    </tr>\n",
       "    <tr>\n",
       "      <th>3</th>\n",
       "      <td>high</td>\n",
       "      <td>0</td>\n",
       "      <td>reducing alcohol consumption</td>\n",
       "      <td>3</td>\n",
       "      <td>client</td>\n",
       "      <td>00:00:34</td>\n",
       "      <td>Mm-hmm.</td>\n",
       "      <td>3</td>\n",
       "      <td>NaN</td>\n",
       "      <td>NaN</td>\n",
       "      <td>NaN</td>\n",
       "      <td>NaN</td>\n",
       "      <td>NaN</td>\n",
       "      <td>NaN</td>\n",
       "      <td>NaN</td>\n",
       "      <td>neutral</td>\n",
       "      <td>2023-09-26 00:00:34</td>\n",
       "      <td>1</td>\n",
       "    </tr>\n",
       "    <tr>\n",
       "      <th>4</th>\n",
       "      <td>high</td>\n",
       "      <td>0</td>\n",
       "      <td>reducing alcohol consumption</td>\n",
       "      <td>4</td>\n",
       "      <td>therapist</td>\n",
       "      <td>00:00:34</td>\n",
       "      <td>-and you usually have three to four drinks whe...</td>\n",
       "      <td>3</td>\n",
       "      <td>True</td>\n",
       "      <td>information</td>\n",
       "      <td>False</td>\n",
       "      <td>NaN</td>\n",
       "      <td>False</td>\n",
       "      <td>NaN</td>\n",
       "      <td>therapist_input</td>\n",
       "      <td>NaN</td>\n",
       "      <td>2023-09-26 00:00:34</td>\n",
       "      <td>-1</td>\n",
       "    </tr>\n",
       "  </tbody>\n",
       "</table>\n",
       "</div>"
      ],
      "text/plain": [
       "  mi_quality  transcript_id                         topic  utterance_id  \\\n",
       "0       high              0  reducing alcohol consumption             0   \n",
       "1       high              0  reducing alcohol consumption             1   \n",
       "2       high              0  reducing alcohol consumption             2   \n",
       "3       high              0  reducing alcohol consumption             3   \n",
       "4       high              0  reducing alcohol consumption             4   \n",
       "\n",
       "  interlocutor timestamp                                     utterance_text  \\\n",
       "0    therapist  00:00:13  Thanks for filling it out. We give this form t...   \n",
       "1       client  00:00:24                                              Sure.   \n",
       "2    therapist  00:00:25  So, let's see. It looks that you put-- You dri...   \n",
       "3       client  00:00:34                                            Mm-hmm.   \n",
       "4    therapist  00:00:34  -and you usually have three to four drinks whe...   \n",
       "\n",
       "   annotator_id therapist_input_exists therapist_input_subtype  \\\n",
       "0             3                  False                     NaN   \n",
       "1             3                    NaN                     NaN   \n",
       "2             3                   True             information   \n",
       "3             3                    NaN                     NaN   \n",
       "4             3                   True             information   \n",
       "\n",
       "  reflection_exists reflection_subtype question_exists question_subtype  \\\n",
       "0             False                NaN            True             open   \n",
       "1               NaN                NaN             NaN              NaN   \n",
       "2             False                NaN           False              NaN   \n",
       "3               NaN                NaN             NaN              NaN   \n",
       "4             False                NaN           False              NaN   \n",
       "\n",
       "  main_therapist_behaviour client_talk_type            datetime  speaker  \n",
       "0                 question              NaN 2023-09-26 00:00:13       -1  \n",
       "1                      NaN          neutral 2023-09-26 00:00:24        1  \n",
       "2          therapist_input              NaN 2023-09-26 00:00:25       -1  \n",
       "3                      NaN          neutral 2023-09-26 00:00:34        1  \n",
       "4          therapist_input              NaN 2023-09-26 00:00:34       -1  "
      ]
     },
     "execution_count": 6,
     "metadata": {},
     "output_type": "execute_result"
    }
   ],
   "source": [
    "anno_mi.head()"
   ]
  },
  {
   "cell_type": "code",
   "execution_count": 7,
   "id": "84d5594d",
   "metadata": {},
   "outputs": [
    {
     "data": {
      "text/plain": [
       "(9699, 384)"
      ]
     },
     "execution_count": 7,
     "metadata": {},
     "output_type": "execute_result"
    }
   ],
   "source": [
    "with open(\"../anno_mi_sbert.pkl\", \"rb\") as f:\n",
    "    sbert_embeddings = pickle.load(f)\n",
    "\n",
    "sbert_embeddings.shape"
   ]
  },
  {
   "cell_type": "code",
   "execution_count": 8,
   "id": "4daab8de",
   "metadata": {},
   "outputs": [],
   "source": [
    "features = [\"timeline_index\", \"speaker\"]\n",
    "standardise_method = [None, None]\n",
    "include_features_in_path = True\n",
    "include_features_in_input = False"
   ]
  },
  {
   "cell_type": "code",
   "execution_count": 9,
   "id": "1f5e3893",
   "metadata": {},
   "outputs": [],
   "source": [
    "num_epochs = 100\n",
    "dimensions = [15]  # [50, 15]\n",
    "swnu_hidden_dim_sizes_and_sig_depths = [([12], 3), ([10], 4)]\n",
    "lstm_hidden_dim_sizes = [384]\n",
    "ffn_hidden_dim_sizes = [[256,256],[512,512]]\n",
    "dropout_rates = [0.1, 0.2]\n",
    "learning_rates = [1e-3, 1e-4, 5e-4]\n",
    "seeds = [1, 12, 123]\n",
    "loss = \"focal\"\n",
    "gamma = 2\n",
    "validation_metric = \"f1\"\n",
    "patience = 5"
   ]
  },
  {
   "cell_type": "markdown",
   "id": "4dbfefaa-f4c6-47f2-b159-d10b705de7ff",
   "metadata": {},
   "source": [
    "# history_length=11"
   ]
  },
  {
   "cell_type": "code",
   "execution_count": 14,
   "id": "d276859d-299b-48b1-a7cb-e0dc898498ab",
   "metadata": {},
   "outputs": [],
   "source": [
    "shift = 3\n",
    "window_size = 5\n",
    "n = 3"
   ]
  },
  {
   "cell_type": "code",
   "execution_count": 15,
   "id": "aa2b936d-c59d-469e-a99b-2c18a2973da7",
   "metadata": {
    "tags": []
   },
   "outputs": [
    {
     "data": {
      "application/vnd.jupyter.widget-view+json": {
       "model_id": "650220a9bf534162b890a3e7e59ad054",
       "version_major": 2,
       "version_minor": 0
      },
      "text/plain": [
       "  0%|          | 0/1 [00:00<?, ?it/s]"
      ]
     },
     "metadata": {},
     "output_type": "display_data"
    },
    {
     "data": {
      "application/vnd.jupyter.widget-view+json": {
       "model_id": "7bef09fa6d4a4baa87cd60d81c7623d8",
       "version_major": 2,
       "version_minor": 0
      },
      "text/plain": [
       "  0%|          | 0/1 [00:00<?, ?it/s]"
      ]
     },
     "metadata": {},
     "output_type": "display_data"
    },
    {
     "name": "stdout",
     "output_type": "stream",
     "text": [
      "\n",
      "##################################################\n",
      "dimension: 15 | method: umap\n",
      "given shift 3, window size 5 and n 3: history length = 11\n",
      "[INFO] Concatenating the embeddings to the dataframe...\n",
      "[INFO] - columns beginning with 'e' denote the full embddings.\n",
      "[INFO] - columns beginning with 'd' denote the dimension reduced embeddings.\n",
      "[INFO] Adding time feature columns into dataframe in `.df`.\n",
      "[INFO] Adding 'time_encoding' feature...\n",
      "[INFO] Adding 'time_diff' feature...\n",
      "[INFO] Adding 'timeline_index' feature...\n",
      "[INFO] Padding ids and storing in `.df_padded` and `.array_padded` attributes.\n"
     ]
    },
    {
     "data": {
      "application/vnd.jupyter.widget-view+json": {
       "model_id": "599dc33fe20444adb844bce30b4e2661",
       "version_major": 2,
       "version_minor": 0
      },
      "text/plain": [
       "  0%|          | 0/9699 [00:00<?, ?it/s]"
      ]
     },
     "metadata": {},
     "output_type": "display_data"
    },
    {
     "name": "stdout",
     "output_type": "stream",
     "text": [
      "[INFO] The path was created for each item in the dataframe, by looking at its history, so to include embeddings in the FFN input, we concatenate the embeddings for each sentence / text.\n"
     ]
    },
    {
     "data": {
      "application/vnd.jupyter.widget-view+json": {
       "model_id": "90447b2096e549a7a137f6553779ef93",
       "version_major": 2,
       "version_minor": 0
      },
      "text/plain": [
       "  0%|          | 0/2 [00:00<?, ?it/s]"
      ]
     },
     "metadata": {},
     "output_type": "display_data"
    },
    {
     "data": {
      "application/vnd.jupyter.widget-view+json": {
       "model_id": "4a30dc32edde4e7d849442cdaec9e769",
       "version_major": 2,
       "version_minor": 0
      },
      "text/plain": [
       "  0%|          | 0/1 [00:00<?, ?it/s]"
      ]
     },
     "metadata": {},
     "output_type": "display_data"
    },
    {
     "data": {
      "application/vnd.jupyter.widget-view+json": {
       "model_id": "b3487352a5b544039c3cf2269b36a5a4",
       "version_major": 2,
       "version_minor": 0
      },
      "text/plain": [
       "  0%|          | 0/2 [00:00<?, ?it/s]"
      ]
     },
     "metadata": {},
     "output_type": "display_data"
    },
    {
     "data": {
      "application/vnd.jupyter.widget-view+json": {
       "model_id": "3535c15688e943248bb034f09055b11d",
       "version_major": 2,
       "version_minor": 0
      },
      "text/plain": [
       "  0%|          | 0/1 [00:00<?, ?it/s]"
      ]
     },
     "metadata": {},
     "output_type": "display_data"
    },
    {
     "data": {
      "application/vnd.jupyter.widget-view+json": {
       "model_id": "df33f96fda7f4ae4a59b4fe4157b2e3c",
       "version_major": 2,
       "version_minor": 0
      },
      "text/plain": [
       "  0%|          | 0/2 [00:00<?, ?it/s]"
      ]
     },
     "metadata": {},
     "output_type": "display_data"
    },
    {
     "data": {
      "application/vnd.jupyter.widget-view+json": {
       "model_id": "7a6ab8a68bb44ec18c203913380ba532",
       "version_major": 2,
       "version_minor": 0
      },
      "text/plain": [
       "  0%|          | 0/3 [00:00<?, ?it/s]"
      ]
     },
     "metadata": {},
     "output_type": "display_data"
    },
    {
     "data": {
      "application/vnd.jupyter.widget-view+json": {
       "model_id": "35b361d2c8c64bc5842fcca0b6f464bd",
       "version_major": 2,
       "version_minor": 0
      },
      "text/plain": [
       "  0%|          | 0/3 [00:00<?, ?it/s]"
      ]
     },
     "metadata": {},
     "output_type": "display_data"
    },
    {
     "data": {
      "application/vnd.jupyter.widget-view+json": {
       "model_id": "696ef513b41f4c78a92dcd5cb91051e9",
       "version_major": 2,
       "version_minor": 0
      },
      "text/plain": [
       "  0%|          | 0/1 [00:00<?, ?it/s]"
      ]
     },
     "metadata": {},
     "output_type": "display_data"
    },
    {
     "data": {
      "application/vnd.jupyter.widget-view+json": {
       "model_id": "54b6731602544314ba2e2da997642969",
       "version_major": 2,
       "version_minor": 0
      },
      "text/plain": [
       "  0%|          | 0/2 [00:00<?, ?it/s]"
      ]
     },
     "metadata": {},
     "output_type": "display_data"
    },
    {
     "data": {
      "application/vnd.jupyter.widget-view+json": {
       "model_id": "6a3c8eedebee48a7829fde9fe94fb63d",
       "version_major": 2,
       "version_minor": 0
      },
      "text/plain": [
       "  0%|          | 0/3 [00:00<?, ?it/s]"
      ]
     },
     "metadata": {},
     "output_type": "display_data"
    },
    {
     "data": {
      "application/vnd.jupyter.widget-view+json": {
       "model_id": "a92c78428e7c435bac2bdbf27f7d4f1b",
       "version_major": 2,
       "version_minor": 0
      },
      "text/plain": [
       "  0%|          | 0/3 [00:00<?, ?it/s]"
      ]
     },
     "metadata": {},
     "output_type": "display_data"
    },
    {
     "data": {
      "application/vnd.jupyter.widget-view+json": {
       "model_id": "8fdbe8542db548e8be13aa842c974192",
       "version_major": 2,
       "version_minor": 0
      },
      "text/plain": [
       "  0%|          | 0/1 [00:00<?, ?it/s]"
      ]
     },
     "metadata": {},
     "output_type": "display_data"
    },
    {
     "data": {
      "application/vnd.jupyter.widget-view+json": {
       "model_id": "f58abe1732fb4afc998a3275b18fb691",
       "version_major": 2,
       "version_minor": 0
      },
      "text/plain": [
       "  0%|          | 0/2 [00:00<?, ?it/s]"
      ]
     },
     "metadata": {},
     "output_type": "display_data"
    },
    {
     "data": {
      "application/vnd.jupyter.widget-view+json": {
       "model_id": "0033467c03054911887992a5ee57286d",
       "version_major": 2,
       "version_minor": 0
      },
      "text/plain": [
       "  0%|          | 0/1 [00:00<?, ?it/s]"
      ]
     },
     "metadata": {},
     "output_type": "display_data"
    },
    {
     "data": {
      "application/vnd.jupyter.widget-view+json": {
       "model_id": "98b115f1bf9c4977a44d08c680eb4dc6",
       "version_major": 2,
       "version_minor": 0
      },
      "text/plain": [
       "  0%|          | 0/2 [00:00<?, ?it/s]"
      ]
     },
     "metadata": {},
     "output_type": "display_data"
    },
    {
     "data": {
      "application/vnd.jupyter.widget-view+json": {
       "model_id": "1ad9d098936d49c38561f76831df63f6",
       "version_major": 2,
       "version_minor": 0
      },
      "text/plain": [
       "  0%|          | 0/3 [00:00<?, ?it/s]"
      ]
     },
     "metadata": {},
     "output_type": "display_data"
    },
    {
     "data": {
      "application/vnd.jupyter.widget-view+json": {
       "model_id": "739d88904c304d8885d781d0d198afb4",
       "version_major": 2,
       "version_minor": 0
      },
      "text/plain": [
       "  0%|          | 0/3 [00:00<?, ?it/s]"
      ]
     },
     "metadata": {},
     "output_type": "display_data"
    },
    {
     "data": {
      "application/vnd.jupyter.widget-view+json": {
       "model_id": "cf3948ed22be479e8c7beebd0014bee4",
       "version_major": 2,
       "version_minor": 0
      },
      "text/plain": [
       "  0%|          | 0/1 [00:00<?, ?it/s]"
      ]
     },
     "metadata": {},
     "output_type": "display_data"
    },
    {
     "data": {
      "application/vnd.jupyter.widget-view+json": {
       "model_id": "2944f54c1b424ac1ba28f7bd9460719d",
       "version_major": 2,
       "version_minor": 0
      },
      "text/plain": [
       "  0%|          | 0/2 [00:00<?, ?it/s]"
      ]
     },
     "metadata": {},
     "output_type": "display_data"
    },
    {
     "data": {
      "application/vnd.jupyter.widget-view+json": {
       "model_id": "e1377e474fef42ee8cc9e8a445c1872f",
       "version_major": 2,
       "version_minor": 0
      },
      "text/plain": [
       "  0%|          | 0/3 [00:00<?, ?it/s]"
      ]
     },
     "metadata": {},
     "output_type": "display_data"
    },
    {
     "data": {
      "application/vnd.jupyter.widget-view+json": {
       "model_id": "dd56d7ac19f44c89ad963b0721b46b94",
       "version_major": 2,
       "version_minor": 0
      },
      "text/plain": [
       "  0%|          | 0/3 [00:00<?, ?it/s]"
      ]
     },
     "metadata": {},
     "output_type": "display_data"
    },
    {
     "name": "stdout",
     "output_type": "stream",
     "text": [
      "given shift 3, window size 5 and n 3: history length = 11\n",
      "[INFO] Concatenating the embeddings to the dataframe...\n",
      "[INFO] - columns beginning with 'e' denote the full embddings.\n",
      "[INFO] - columns beginning with 'd' denote the dimension reduced embeddings.\n",
      "[INFO] Adding time feature columns into dataframe in `.df`.\n",
      "[INFO] Adding 'time_encoding' feature...\n",
      "[INFO] Adding 'time_diff' feature...\n",
      "[INFO] Adding 'timeline_index' feature...\n",
      "[INFO] Padding ids and storing in `.df_padded` and `.array_padded` attributes.\n"
     ]
    },
    {
     "data": {
      "application/vnd.jupyter.widget-view+json": {
       "model_id": "7a81ecf8b57e444c9a5683bbb9a262b8",
       "version_major": 2,
       "version_minor": 0
      },
      "text/plain": [
       "  0%|          | 0/9699 [00:00<?, ?it/s]"
      ]
     },
     "metadata": {},
     "output_type": "display_data"
    },
    {
     "name": "stdout",
     "output_type": "stream",
     "text": [
      "[INFO] The path was created for each item in the dataframe, by looking at its history, so to include embeddings in the FFN input, we concatenate the embeddings for each sentence / text.\n",
      "saving results dataframe to CSV for this hyperparameter search in client_talk_type_output/seqsignet_umap_focal_2_3_5_3_kfold.csv\n",
      "saving the best model results dataframe to CSV for this hyperparameter search in client_talk_type_output/seqsignet_umap_focal_2_3_5_3_kfold_best_model.csv\n"
     ]
    }
   ],
   "source": [
    "(\n",
    "    seqsignet_network_umap_kfold_11,\n",
    "    best_seqsignet_network_umap_kfold_11,\n",
    "    _,\n",
    "    __,\n",
    ") = seqsignet_hyperparameter_search(\n",
    "    num_epochs=num_epochs,\n",
    "    df=anno_mi,\n",
    "    id_column=\"transcript_id\",\n",
    "    label_column=\"client_talk_type\",\n",
    "    embeddings=sbert_embeddings,\n",
    "    y_data=y_data_client,\n",
    "    output_dim=output_dim_client,\n",
    "    shift=shift,\n",
    "    window_size=window_size,\n",
    "    n=n,\n",
    "    dim_reduce_methods=[\"umap\"],\n",
    "    dimensions=dimensions,\n",
    "    log_signature=True,\n",
    "    swnu_hidden_dim_sizes_and_sig_depths=swnu_hidden_dim_sizes_and_sig_depths,\n",
    "    lstm_hidden_dim_sizes=lstm_hidden_dim_sizes,\n",
    "    ffn_hidden_dim_sizes=ffn_hidden_dim_sizes,\n",
    "    dropout_rates=dropout_rates,\n",
    "    learning_rates=learning_rates,\n",
    "    BiLSTM=True,\n",
    "    seeds=seeds,\n",
    "    loss=loss,\n",
    "    gamma=gamma,\n",
    "    device=device,\n",
    "    features=features,\n",
    "    standardise_method=standardise_method,\n",
    "    include_features_in_path=include_features_in_path,\n",
    "    include_features_in_input=include_features_in_input,\n",
    "    path_indices=client_index,\n",
    "    split_ids=client_transcript_id,\n",
    "    k_fold=True,\n",
    "    patience=patience,\n",
    "    validation_metric=validation_metric,\n",
    "    results_output=f\"{output_dir}/seqsignet_umap_focal_{gamma}_{shift}_{window_size}_{n}_kfold.csv\",\n",
    "    verbose=False,\n",
    ")"
   ]
  },
  {
   "cell_type": "code",
   "execution_count": 16,
   "id": "82e7c137-64ae-4b99-adf1-73388c2055c7",
   "metadata": {},
   "outputs": [
    {
     "data": {
      "text/html": [
       "<div>\n",
       "<style scoped>\n",
       "    .dataframe tbody tr th:only-of-type {\n",
       "        vertical-align: middle;\n",
       "    }\n",
       "\n",
       "    .dataframe tbody tr th {\n",
       "        vertical-align: top;\n",
       "    }\n",
       "\n",
       "    .dataframe thead th {\n",
       "        text-align: right;\n",
       "    }\n",
       "</style>\n",
       "<table border=\"1\" class=\"dataframe\">\n",
       "  <thead>\n",
       "    <tr style=\"text-align: right;\">\n",
       "      <th></th>\n",
       "      <th>loss</th>\n",
       "      <th>accuracy</th>\n",
       "      <th>f1</th>\n",
       "      <th>f1_scores</th>\n",
       "      <th>precision</th>\n",
       "      <th>precision_scores</th>\n",
       "      <th>recall</th>\n",
       "      <th>recall_scores</th>\n",
       "      <th>valid_loss</th>\n",
       "      <th>valid_accuracy</th>\n",
       "      <th>...</th>\n",
       "      <th>BiLSTM</th>\n",
       "      <th>loss_function</th>\n",
       "      <th>gamma</th>\n",
       "      <th>k_fold</th>\n",
       "      <th>n_splits</th>\n",
       "      <th>augmentation_type</th>\n",
       "      <th>hidden_dim_aug</th>\n",
       "      <th>comb_method</th>\n",
       "      <th>batch_size</th>\n",
       "      <th>model_id</th>\n",
       "    </tr>\n",
       "  </thead>\n",
       "  <tbody>\n",
       "    <tr>\n",
       "      <th>0</th>\n",
       "      <td>None</td>\n",
       "      <td>0.638889</td>\n",
       "      <td>0.508545</td>\n",
       "      <td>[0.7702565589215828, 0.40689325035902346, 0.34...</td>\n",
       "      <td>0.512418</td>\n",
       "      <td>[0.7721592560302237, 0.4846066134549601, 0.280...</td>\n",
       "      <td>0.526341</td>\n",
       "      <td>[0.7683632157316368, 0.35066006600660066, 0.46]</td>\n",
       "      <td>None</td>\n",
       "      <td>0.666346</td>\n",
       "      <td>...</td>\n",
       "      <td>True</td>\n",
       "      <td>focal</td>\n",
       "      <td>2</td>\n",
       "      <td>True</td>\n",
       "      <td>5</td>\n",
       "      <td>Conv1d</td>\n",
       "      <td>None</td>\n",
       "      <td>concatenation</td>\n",
       "      <td>64</td>\n",
       "      <td>0</td>\n",
       "    </tr>\n",
       "    <tr>\n",
       "      <th>0</th>\n",
       "      <td>None</td>\n",
       "      <td>0.607854</td>\n",
       "      <td>0.508247</td>\n",
       "      <td>[0.7381772627622926, 0.4333199839807769, 0.353...</td>\n",
       "      <td>0.499695</td>\n",
       "      <td>[0.8049863387978142, 0.421011673151751, 0.2730...</td>\n",
       "      <td>0.542659</td>\n",
       "      <td>[0.6816078658183922, 0.44636963696369636, 0.5]</td>\n",
       "      <td>None</td>\n",
       "      <td>0.644188</td>\n",
       "      <td>...</td>\n",
       "      <td>True</td>\n",
       "      <td>focal</td>\n",
       "      <td>2</td>\n",
       "      <td>True</td>\n",
       "      <td>5</td>\n",
       "      <td>Conv1d</td>\n",
       "      <td>None</td>\n",
       "      <td>concatenation</td>\n",
       "      <td>64</td>\n",
       "      <td>0</td>\n",
       "    </tr>\n",
       "    <tr>\n",
       "      <th>0</th>\n",
       "      <td>None</td>\n",
       "      <td>0.634866</td>\n",
       "      <td>0.512799</td>\n",
       "      <td>[0.7605220706848511, 0.42493415276558383, 0.35...</td>\n",
       "      <td>0.508132</td>\n",
       "      <td>[0.771496578399286, 0.4540337711069418, 0.2988...</td>\n",
       "      <td>0.526701</td>\n",
       "      <td>[0.7498554077501446, 0.39933993399339934, 0.43...</td>\n",
       "      <td>None</td>\n",
       "      <td>0.670520</td>\n",
       "      <td>...</td>\n",
       "      <td>True</td>\n",
       "      <td>focal</td>\n",
       "      <td>2</td>\n",
       "      <td>True</td>\n",
       "      <td>5</td>\n",
       "      <td>Conv1d</td>\n",
       "      <td>None</td>\n",
       "      <td>concatenation</td>\n",
       "      <td>64</td>\n",
       "      <td>0</td>\n",
       "    </tr>\n",
       "    <tr>\n",
       "      <th>0</th>\n",
       "      <td>None</td>\n",
       "      <td>0.632759</td>\n",
       "      <td>0.525914</td>\n",
       "      <td>[0.7523186863311541, 0.46548323471400394, 0.35...</td>\n",
       "      <td>0.515452</td>\n",
       "      <td>[0.7932029496633536, 0.4459561602418745, 0.307...</td>\n",
       "      <td>0.545596</td>\n",
       "      <td>[0.7154424522845575, 0.4867986798679868, 0.434...</td>\n",
       "      <td>None</td>\n",
       "      <td>0.667470</td>\n",
       "      <td>...</td>\n",
       "      <td>True</td>\n",
       "      <td>focal</td>\n",
       "      <td>2</td>\n",
       "      <td>True</td>\n",
       "      <td>5</td>\n",
       "      <td>Conv1d</td>\n",
       "      <td>None</td>\n",
       "      <td>concatenation</td>\n",
       "      <td>64</td>\n",
       "      <td>1</td>\n",
       "    </tr>\n",
       "    <tr>\n",
       "      <th>0</th>\n",
       "      <td>None</td>\n",
       "      <td>0.628544</td>\n",
       "      <td>0.511676</td>\n",
       "      <td>[0.7561487702459508, 0.42851516345017715, 0.35...</td>\n",
       "      <td>0.503852</td>\n",
       "      <td>[0.7853582554517134, 0.40994724943481536, 0.31...</td>\n",
       "      <td>0.523535</td>\n",
       "      <td>[0.7290341237709659, 0.44884488448844884, 0.39...</td>\n",
       "      <td>None</td>\n",
       "      <td>0.663777</td>\n",
       "      <td>...</td>\n",
       "      <td>True</td>\n",
       "      <td>focal</td>\n",
       "      <td>2</td>\n",
       "      <td>True</td>\n",
       "      <td>5</td>\n",
       "      <td>Conv1d</td>\n",
       "      <td>None</td>\n",
       "      <td>concatenation</td>\n",
       "      <td>64</td>\n",
       "      <td>1</td>\n",
       "    </tr>\n",
       "    <tr>\n",
       "      <th>...</th>\n",
       "      <td>...</td>\n",
       "      <td>...</td>\n",
       "      <td>...</td>\n",
       "      <td>...</td>\n",
       "      <td>...</td>\n",
       "      <td>...</td>\n",
       "      <td>...</td>\n",
       "      <td>...</td>\n",
       "      <td>...</td>\n",
       "      <td>...</td>\n",
       "      <td>...</td>\n",
       "      <td>...</td>\n",
       "      <td>...</td>\n",
       "      <td>...</td>\n",
       "      <td>...</td>\n",
       "      <td>...</td>\n",
       "      <td>...</td>\n",
       "      <td>...</td>\n",
       "      <td>...</td>\n",
       "      <td>...</td>\n",
       "      <td>...</td>\n",
       "    </tr>\n",
       "    <tr>\n",
       "      <th>0</th>\n",
       "      <td>None</td>\n",
       "      <td>0.646935</td>\n",
       "      <td>0.525294</td>\n",
       "      <td>[0.769569687178734, 0.4446280991735537, 0.3616...</td>\n",
       "      <td>0.519512</td>\n",
       "      <td>[0.7818561623396001, 0.445364238410596, 0.3313...</td>\n",
       "      <td>0.533247</td>\n",
       "      <td>[0.7576633892423366, 0.4438943894389439, 0.398...</td>\n",
       "      <td>None</td>\n",
       "      <td>0.667791</td>\n",
       "      <td>...</td>\n",
       "      <td>True</td>\n",
       "      <td>focal</td>\n",
       "      <td>2</td>\n",
       "      <td>True</td>\n",
       "      <td>5</td>\n",
       "      <td>Conv1d</td>\n",
       "      <td>None</td>\n",
       "      <td>concatenation</td>\n",
       "      <td>64</td>\n",
       "      <td>22</td>\n",
       "    </tr>\n",
       "    <tr>\n",
       "      <th>0</th>\n",
       "      <td>None</td>\n",
       "      <td>0.633716</td>\n",
       "      <td>0.514062</td>\n",
       "      <td>[0.7607434944237919, 0.4357262103505843, 0.345...</td>\n",
       "      <td>0.506783</td>\n",
       "      <td>[0.7829813284358739, 0.4408783783783784, 0.296...</td>\n",
       "      <td>0.528324</td>\n",
       "      <td>[0.739733950260266, 0.4306930693069307, 0.4145...</td>\n",
       "      <td>None</td>\n",
       "      <td>0.672768</td>\n",
       "      <td>...</td>\n",
       "      <td>True</td>\n",
       "      <td>focal</td>\n",
       "      <td>2</td>\n",
       "      <td>True</td>\n",
       "      <td>5</td>\n",
       "      <td>Conv1d</td>\n",
       "      <td>None</td>\n",
       "      <td>concatenation</td>\n",
       "      <td>64</td>\n",
       "      <td>22</td>\n",
       "    </tr>\n",
       "    <tr>\n",
       "      <th>0</th>\n",
       "      <td>None</td>\n",
       "      <td>0.636015</td>\n",
       "      <td>0.517543</td>\n",
       "      <td>[0.7628957930726922, 0.44041450777202074, 0.34...</td>\n",
       "      <td>0.511661</td>\n",
       "      <td>[0.7849495258488834, 0.46195652173913043, 0.28...</td>\n",
       "      <td>0.535492</td>\n",
       "      <td>[0.7420474262579526, 0.4207920792079208, 0.443...</td>\n",
       "      <td>None</td>\n",
       "      <td>0.662171</td>\n",
       "      <td>...</td>\n",
       "      <td>True</td>\n",
       "      <td>focal</td>\n",
       "      <td>2</td>\n",
       "      <td>True</td>\n",
       "      <td>5</td>\n",
       "      <td>Conv1d</td>\n",
       "      <td>None</td>\n",
       "      <td>concatenation</td>\n",
       "      <td>64</td>\n",
       "      <td>23</td>\n",
       "    </tr>\n",
       "    <tr>\n",
       "      <th>0</th>\n",
       "      <td>None</td>\n",
       "      <td>0.625479</td>\n",
       "      <td>0.518182</td>\n",
       "      <td>[0.7538626281168731, 0.4445371142618849, 0.356...</td>\n",
       "      <td>0.510099</td>\n",
       "      <td>[0.8002598246183826, 0.4494097807757167, 0.280...</td>\n",
       "      <td>0.546531</td>\n",
       "      <td>[0.7125506072874493, 0.4397689768976898, 0.487...</td>\n",
       "      <td>None</td>\n",
       "      <td>0.648523</td>\n",
       "      <td>...</td>\n",
       "      <td>True</td>\n",
       "      <td>focal</td>\n",
       "      <td>2</td>\n",
       "      <td>True</td>\n",
       "      <td>5</td>\n",
       "      <td>Conv1d</td>\n",
       "      <td>None</td>\n",
       "      <td>concatenation</td>\n",
       "      <td>64</td>\n",
       "      <td>23</td>\n",
       "    </tr>\n",
       "    <tr>\n",
       "      <th>0</th>\n",
       "      <td>None</td>\n",
       "      <td>0.636015</td>\n",
       "      <td>0.516211</td>\n",
       "      <td>[0.7623529411764706, 0.41953772350632357, 0.36...</td>\n",
       "      <td>0.510151</td>\n",
       "      <td>[0.7755834829443446, 0.44495837187789083, 0.30...</td>\n",
       "      <td>0.531841</td>\n",
       "      <td>[0.7495662232504338, 0.39686468646864687, 0.44...</td>\n",
       "      <td>None</td>\n",
       "      <td>0.663455</td>\n",
       "      <td>...</td>\n",
       "      <td>True</td>\n",
       "      <td>focal</td>\n",
       "      <td>2</td>\n",
       "      <td>True</td>\n",
       "      <td>5</td>\n",
       "      <td>Conv1d</td>\n",
       "      <td>None</td>\n",
       "      <td>concatenation</td>\n",
       "      <td>64</td>\n",
       "      <td>23</td>\n",
       "    </tr>\n",
       "  </tbody>\n",
       "</table>\n",
       "<p>72 rows × 48 columns</p>\n",
       "</div>"
      ],
      "text/plain": [
       "    loss  accuracy        f1  \\\n",
       "0   None  0.638889  0.508545   \n",
       "0   None  0.607854  0.508247   \n",
       "0   None  0.634866  0.512799   \n",
       "0   None  0.632759  0.525914   \n",
       "0   None  0.628544  0.511676   \n",
       "..   ...       ...       ...   \n",
       "0   None  0.646935  0.525294   \n",
       "0   None  0.633716  0.514062   \n",
       "0   None  0.636015  0.517543   \n",
       "0   None  0.625479  0.518182   \n",
       "0   None  0.636015  0.516211   \n",
       "\n",
       "                                            f1_scores  precision  \\\n",
       "0   [0.7702565589215828, 0.40689325035902346, 0.34...   0.512418   \n",
       "0   [0.7381772627622926, 0.4333199839807769, 0.353...   0.499695   \n",
       "0   [0.7605220706848511, 0.42493415276558383, 0.35...   0.508132   \n",
       "0   [0.7523186863311541, 0.46548323471400394, 0.35...   0.515452   \n",
       "0   [0.7561487702459508, 0.42851516345017715, 0.35...   0.503852   \n",
       "..                                                ...        ...   \n",
       "0   [0.769569687178734, 0.4446280991735537, 0.3616...   0.519512   \n",
       "0   [0.7607434944237919, 0.4357262103505843, 0.345...   0.506783   \n",
       "0   [0.7628957930726922, 0.44041450777202074, 0.34...   0.511661   \n",
       "0   [0.7538626281168731, 0.4445371142618849, 0.356...   0.510099   \n",
       "0   [0.7623529411764706, 0.41953772350632357, 0.36...   0.510151   \n",
       "\n",
       "                                     precision_scores    recall  \\\n",
       "0   [0.7721592560302237, 0.4846066134549601, 0.280...  0.526341   \n",
       "0   [0.8049863387978142, 0.421011673151751, 0.2730...  0.542659   \n",
       "0   [0.771496578399286, 0.4540337711069418, 0.2988...  0.526701   \n",
       "0   [0.7932029496633536, 0.4459561602418745, 0.307...  0.545596   \n",
       "0   [0.7853582554517134, 0.40994724943481536, 0.31...  0.523535   \n",
       "..                                                ...       ...   \n",
       "0   [0.7818561623396001, 0.445364238410596, 0.3313...  0.533247   \n",
       "0   [0.7829813284358739, 0.4408783783783784, 0.296...  0.528324   \n",
       "0   [0.7849495258488834, 0.46195652173913043, 0.28...  0.535492   \n",
       "0   [0.8002598246183826, 0.4494097807757167, 0.280...  0.546531   \n",
       "0   [0.7755834829443446, 0.44495837187789083, 0.30...  0.531841   \n",
       "\n",
       "                                        recall_scores valid_loss  \\\n",
       "0     [0.7683632157316368, 0.35066006600660066, 0.46]       None   \n",
       "0      [0.6816078658183922, 0.44636963696369636, 0.5]       None   \n",
       "0   [0.7498554077501446, 0.39933993399339934, 0.43...       None   \n",
       "0   [0.7154424522845575, 0.4867986798679868, 0.434...       None   \n",
       "0   [0.7290341237709659, 0.44884488448844884, 0.39...       None   \n",
       "..                                                ...        ...   \n",
       "0   [0.7576633892423366, 0.4438943894389439, 0.398...       None   \n",
       "0   [0.739733950260266, 0.4306930693069307, 0.4145...       None   \n",
       "0   [0.7420474262579526, 0.4207920792079208, 0.443...       None   \n",
       "0   [0.7125506072874493, 0.4397689768976898, 0.487...       None   \n",
       "0   [0.7495662232504338, 0.39686468646864687, 0.44...       None   \n",
       "\n",
       "    valid_accuracy  ...  BiLSTM loss_function  gamma k_fold  n_splits  \\\n",
       "0         0.666346  ...    True         focal      2   True         5   \n",
       "0         0.644188  ...    True         focal      2   True         5   \n",
       "0         0.670520  ...    True         focal      2   True         5   \n",
       "0         0.667470  ...    True         focal      2   True         5   \n",
       "0         0.663777  ...    True         focal      2   True         5   \n",
       "..             ...  ...     ...           ...    ...    ...       ...   \n",
       "0         0.667791  ...    True         focal      2   True         5   \n",
       "0         0.672768  ...    True         focal      2   True         5   \n",
       "0         0.662171  ...    True         focal      2   True         5   \n",
       "0         0.648523  ...    True         focal      2   True         5   \n",
       "0         0.663455  ...    True         focal      2   True         5   \n",
       "\n",
       "   augmentation_type  hidden_dim_aug    comb_method  batch_size  model_id  \n",
       "0             Conv1d            None  concatenation          64         0  \n",
       "0             Conv1d            None  concatenation          64         0  \n",
       "0             Conv1d            None  concatenation          64         0  \n",
       "0             Conv1d            None  concatenation          64         1  \n",
       "0             Conv1d            None  concatenation          64         1  \n",
       "..               ...             ...            ...         ...       ...  \n",
       "0             Conv1d            None  concatenation          64        22  \n",
       "0             Conv1d            None  concatenation          64        22  \n",
       "0             Conv1d            None  concatenation          64        23  \n",
       "0             Conv1d            None  concatenation          64        23  \n",
       "0             Conv1d            None  concatenation          64        23  \n",
       "\n",
       "[72 rows x 48 columns]"
      ]
     },
     "execution_count": 16,
     "metadata": {},
     "output_type": "execute_result"
    }
   ],
   "source": [
    "seqsignet_network_umap_kfold_11"
   ]
  },
  {
   "cell_type": "code",
   "execution_count": 17,
   "id": "334f2a44-6a1e-40c4-a23c-9d10f359108d",
   "metadata": {},
   "outputs": [
    {
     "data": {
      "text/plain": [
       "0.5207346518508088"
      ]
     },
     "execution_count": 17,
     "metadata": {},
     "output_type": "execute_result"
    }
   ],
   "source": [
    "best_seqsignet_network_umap_kfold_11[\"f1\"].mean()"
   ]
  },
  {
   "cell_type": "code",
   "execution_count": 18,
   "id": "f320e67d-3950-4ce5-a254-40661a13e26c",
   "metadata": {},
   "outputs": [
    {
     "data": {
      "text/plain": [
       "0.5127868034452244"
      ]
     },
     "execution_count": 18,
     "metadata": {},
     "output_type": "execute_result"
    }
   ],
   "source": [
    "best_seqsignet_network_umap_kfold_11[\"precision\"].mean()"
   ]
  },
  {
   "cell_type": "code",
   "execution_count": 19,
   "id": "7be7a788-8b05-4ac8-89ee-5e6f86470c8f",
   "metadata": {},
   "outputs": [
    {
     "data": {
      "text/plain": [
       "0.5373551744995205"
      ]
     },
     "execution_count": 19,
     "metadata": {},
     "output_type": "execute_result"
    }
   ],
   "source": [
    "best_seqsignet_network_umap_kfold_11[\"recall\"].mean()"
   ]
  },
  {
   "cell_type": "code",
   "execution_count": 20,
   "id": "9c6c851f-3c2d-4c89-8215-aaef16e00cb4",
   "metadata": {},
   "outputs": [
    {
     "data": {
      "text/plain": [
       "array([0.75825457, 0.44574979, 0.3581996 ])"
      ]
     },
     "execution_count": 20,
     "metadata": {},
     "output_type": "execute_result"
    }
   ],
   "source": [
    "np.stack(best_seqsignet_network_umap_kfold_11[\"f1_scores\"]).mean(axis=0)"
   ]
  },
  {
   "cell_type": "code",
   "execution_count": 21,
   "id": "7fea245a-f937-4928-b857-f0157caa4859",
   "metadata": {},
   "outputs": [
    {
     "data": {
      "text/plain": [
       "array([0.78626238, 0.444712  , 0.30738603])"
      ]
     },
     "execution_count": 21,
     "metadata": {},
     "output_type": "execute_result"
    }
   ],
   "source": [
    "np.stack(best_seqsignet_network_umap_kfold_11[\"precision_scores\"]).mean(axis=0)"
   ]
  },
  {
   "cell_type": "code",
   "execution_count": 22,
   "id": "3587e08c-8c30-426c-b5a2-b6f4752a496c",
   "metadata": {},
   "outputs": [
    {
     "data": {
      "text/plain": [
       "array([0.73231155, 0.44884488, 0.43090909])"
      ]
     },
     "execution_count": 22,
     "metadata": {},
     "output_type": "execute_result"
    }
   ],
   "source": [
    "np.stack(best_seqsignet_network_umap_kfold_11[\"recall_scores\"]).mean(axis=0)"
   ]
  },
  {
   "cell_type": "markdown",
   "id": "143024f5-2141-4474-8e9a-5fc9b5cfb967",
   "metadata": {},
   "source": [
    "## GRP"
   ]
  },
  {
   "cell_type": "code",
   "execution_count": 23,
   "id": "6ac9ce58-e338-4f92-9d27-e41c18968f27",
   "metadata": {},
   "outputs": [
    {
     "data": {
      "application/vnd.jupyter.widget-view+json": {
       "model_id": "ae38b794ee93401aa7d585bf6c1e184b",
       "version_major": 2,
       "version_minor": 0
      },
      "text/plain": [
       "  0%|          | 0/1 [00:00<?, ?it/s]"
      ]
     },
     "metadata": {},
     "output_type": "display_data"
    },
    {
     "data": {
      "application/vnd.jupyter.widget-view+json": {
       "model_id": "90b794ec5882491eb82ed4b42053e493",
       "version_major": 2,
       "version_minor": 0
      },
      "text/plain": [
       "  0%|          | 0/1 [00:00<?, ?it/s]"
      ]
     },
     "metadata": {},
     "output_type": "display_data"
    },
    {
     "name": "stdout",
     "output_type": "stream",
     "text": [
      "\n",
      "##################################################\n",
      "dimension: 15 | method: gaussian_random_projection\n",
      "given shift 3, window size 5 and n 3: history length = 11\n",
      "[INFO] Concatenating the embeddings to the dataframe...\n",
      "[INFO] - columns beginning with 'e' denote the full embddings.\n",
      "[INFO] - columns beginning with 'd' denote the dimension reduced embeddings.\n",
      "[INFO] Adding time feature columns into dataframe in `.df`.\n",
      "[INFO] Adding 'time_encoding' feature...\n",
      "[INFO] Adding 'time_diff' feature...\n",
      "[INFO] Adding 'timeline_index' feature...\n",
      "[INFO] Padding ids and storing in `.df_padded` and `.array_padded` attributes.\n"
     ]
    },
    {
     "data": {
      "application/vnd.jupyter.widget-view+json": {
       "model_id": "3d54a484b27b404da2563ca4cd1ba1d3",
       "version_major": 2,
       "version_minor": 0
      },
      "text/plain": [
       "  0%|          | 0/9699 [00:00<?, ?it/s]"
      ]
     },
     "metadata": {},
     "output_type": "display_data"
    },
    {
     "name": "stdout",
     "output_type": "stream",
     "text": [
      "[INFO] The path was created for each item in the dataframe, by looking at its history, so to include embeddings in the FFN input, we concatenate the embeddings for each sentence / text.\n"
     ]
    },
    {
     "data": {
      "application/vnd.jupyter.widget-view+json": {
       "model_id": "d6d72b4529ce4d18b1f121335cf7999a",
       "version_major": 2,
       "version_minor": 0
      },
      "text/plain": [
       "  0%|          | 0/2 [00:00<?, ?it/s]"
      ]
     },
     "metadata": {},
     "output_type": "display_data"
    },
    {
     "data": {
      "application/vnd.jupyter.widget-view+json": {
       "model_id": "5fc81347da0946719a41f1c84eadc39c",
       "version_major": 2,
       "version_minor": 0
      },
      "text/plain": [
       "  0%|          | 0/1 [00:00<?, ?it/s]"
      ]
     },
     "metadata": {},
     "output_type": "display_data"
    },
    {
     "data": {
      "application/vnd.jupyter.widget-view+json": {
       "model_id": "2c8cd29fb5f44eeeb2f8327b80b97e08",
       "version_major": 2,
       "version_minor": 0
      },
      "text/plain": [
       "  0%|          | 0/2 [00:00<?, ?it/s]"
      ]
     },
     "metadata": {},
     "output_type": "display_data"
    },
    {
     "data": {
      "application/vnd.jupyter.widget-view+json": {
       "model_id": "10b360a7494949cc89f5847f73accd2a",
       "version_major": 2,
       "version_minor": 0
      },
      "text/plain": [
       "  0%|          | 0/1 [00:00<?, ?it/s]"
      ]
     },
     "metadata": {},
     "output_type": "display_data"
    },
    {
     "data": {
      "application/vnd.jupyter.widget-view+json": {
       "model_id": "7a6cf6e8102d404f9bf83ff9504eded2",
       "version_major": 2,
       "version_minor": 0
      },
      "text/plain": [
       "  0%|          | 0/2 [00:00<?, ?it/s]"
      ]
     },
     "metadata": {},
     "output_type": "display_data"
    },
    {
     "data": {
      "application/vnd.jupyter.widget-view+json": {
       "model_id": "bda64d56cacc4dbea0e191892e6471fe",
       "version_major": 2,
       "version_minor": 0
      },
      "text/plain": [
       "  0%|          | 0/3 [00:00<?, ?it/s]"
      ]
     },
     "metadata": {},
     "output_type": "display_data"
    },
    {
     "data": {
      "application/vnd.jupyter.widget-view+json": {
       "model_id": "799d1850e2484114af0e910a02f8478f",
       "version_major": 2,
       "version_minor": 0
      },
      "text/plain": [
       "  0%|          | 0/3 [00:00<?, ?it/s]"
      ]
     },
     "metadata": {},
     "output_type": "display_data"
    },
    {
     "data": {
      "application/vnd.jupyter.widget-view+json": {
       "model_id": "7188371b137046ea8f1d0de3e985df5e",
       "version_major": 2,
       "version_minor": 0
      },
      "text/plain": [
       "  0%|          | 0/1 [00:00<?, ?it/s]"
      ]
     },
     "metadata": {},
     "output_type": "display_data"
    },
    {
     "data": {
      "application/vnd.jupyter.widget-view+json": {
       "model_id": "7a7777bb8456408794498b137a183a1f",
       "version_major": 2,
       "version_minor": 0
      },
      "text/plain": [
       "  0%|          | 0/2 [00:00<?, ?it/s]"
      ]
     },
     "metadata": {},
     "output_type": "display_data"
    },
    {
     "data": {
      "application/vnd.jupyter.widget-view+json": {
       "model_id": "7854325ab6fe46efac6836f5098e35e6",
       "version_major": 2,
       "version_minor": 0
      },
      "text/plain": [
       "  0%|          | 0/3 [00:00<?, ?it/s]"
      ]
     },
     "metadata": {},
     "output_type": "display_data"
    },
    {
     "data": {
      "application/vnd.jupyter.widget-view+json": {
       "model_id": "f9be615be4a04d84bfa63b3d0983e2cf",
       "version_major": 2,
       "version_minor": 0
      },
      "text/plain": [
       "  0%|          | 0/3 [00:00<?, ?it/s]"
      ]
     },
     "metadata": {},
     "output_type": "display_data"
    },
    {
     "data": {
      "application/vnd.jupyter.widget-view+json": {
       "model_id": "3e55299e8b6d43819439096bb2a01045",
       "version_major": 2,
       "version_minor": 0
      },
      "text/plain": [
       "  0%|          | 0/1 [00:00<?, ?it/s]"
      ]
     },
     "metadata": {},
     "output_type": "display_data"
    },
    {
     "data": {
      "application/vnd.jupyter.widget-view+json": {
       "model_id": "ea18ce9440b04a58aaeca367f3089bc4",
       "version_major": 2,
       "version_minor": 0
      },
      "text/plain": [
       "  0%|          | 0/2 [00:00<?, ?it/s]"
      ]
     },
     "metadata": {},
     "output_type": "display_data"
    },
    {
     "data": {
      "application/vnd.jupyter.widget-view+json": {
       "model_id": "d06cab5c1bc94aee802048d8b05492c2",
       "version_major": 2,
       "version_minor": 0
      },
      "text/plain": [
       "  0%|          | 0/1 [00:00<?, ?it/s]"
      ]
     },
     "metadata": {},
     "output_type": "display_data"
    },
    {
     "data": {
      "application/vnd.jupyter.widget-view+json": {
       "model_id": "896645987b2740169f51006871641751",
       "version_major": 2,
       "version_minor": 0
      },
      "text/plain": [
       "  0%|          | 0/2 [00:00<?, ?it/s]"
      ]
     },
     "metadata": {},
     "output_type": "display_data"
    },
    {
     "data": {
      "application/vnd.jupyter.widget-view+json": {
       "model_id": "05219418b9714916a7bf6714f2a7fbe8",
       "version_major": 2,
       "version_minor": 0
      },
      "text/plain": [
       "  0%|          | 0/3 [00:00<?, ?it/s]"
      ]
     },
     "metadata": {},
     "output_type": "display_data"
    },
    {
     "data": {
      "application/vnd.jupyter.widget-view+json": {
       "model_id": "8587290f83ab45c8bd3f61eff8d2102a",
       "version_major": 2,
       "version_minor": 0
      },
      "text/plain": [
       "  0%|          | 0/3 [00:00<?, ?it/s]"
      ]
     },
     "metadata": {},
     "output_type": "display_data"
    },
    {
     "data": {
      "application/vnd.jupyter.widget-view+json": {
       "model_id": "de7aed8fb3624e42872a7cf8b5409235",
       "version_major": 2,
       "version_minor": 0
      },
      "text/plain": [
       "  0%|          | 0/1 [00:00<?, ?it/s]"
      ]
     },
     "metadata": {},
     "output_type": "display_data"
    },
    {
     "data": {
      "application/vnd.jupyter.widget-view+json": {
       "model_id": "27d29c5a10d84389b177929da760f8cc",
       "version_major": 2,
       "version_minor": 0
      },
      "text/plain": [
       "  0%|          | 0/2 [00:00<?, ?it/s]"
      ]
     },
     "metadata": {},
     "output_type": "display_data"
    },
    {
     "data": {
      "application/vnd.jupyter.widget-view+json": {
       "model_id": "e6961fec37884a8aa539e893d37532d6",
       "version_major": 2,
       "version_minor": 0
      },
      "text/plain": [
       "  0%|          | 0/3 [00:00<?, ?it/s]"
      ]
     },
     "metadata": {},
     "output_type": "display_data"
    },
    {
     "data": {
      "application/vnd.jupyter.widget-view+json": {
       "model_id": "390bb6935db94ca1b6bd0cd865929363",
       "version_major": 2,
       "version_minor": 0
      },
      "text/plain": [
       "  0%|          | 0/3 [00:00<?, ?it/s]"
      ]
     },
     "metadata": {},
     "output_type": "display_data"
    },
    {
     "name": "stdout",
     "output_type": "stream",
     "text": [
      "given shift 3, window size 5 and n 3: history length = 11\n",
      "[INFO] Concatenating the embeddings to the dataframe...\n",
      "[INFO] - columns beginning with 'e' denote the full embddings.\n",
      "[INFO] - columns beginning with 'd' denote the dimension reduced embeddings.\n",
      "[INFO] Adding time feature columns into dataframe in `.df`.\n",
      "[INFO] Adding 'time_encoding' feature...\n",
      "[INFO] Adding 'time_diff' feature...\n",
      "[INFO] Adding 'timeline_index' feature...\n",
      "[INFO] Padding ids and storing in `.df_padded` and `.array_padded` attributes.\n"
     ]
    },
    {
     "data": {
      "application/vnd.jupyter.widget-view+json": {
       "model_id": "dc2c71e783594a09a372274b4b8367ea",
       "version_major": 2,
       "version_minor": 0
      },
      "text/plain": [
       "  0%|          | 0/9699 [00:00<?, ?it/s]"
      ]
     },
     "metadata": {},
     "output_type": "display_data"
    },
    {
     "name": "stdout",
     "output_type": "stream",
     "text": [
      "[INFO] The path was created for each item in the dataframe, by looking at its history, so to include embeddings in the FFN input, we concatenate the embeddings for each sentence / text.\n",
      "saving results dataframe to CSV for this hyperparameter search in client_talk_type_output/seqsignet_grp_focal_2_3_5_3_kfold.csv\n",
      "saving the best model results dataframe to CSV for this hyperparameter search in client_talk_type_output/seqsignet_grp_focal_2_3_5_3_kfold_best_model.csv\n"
     ]
    }
   ],
   "source": [
    "(\n",
    "    seqsignet_network_grp_kfold_11,\n",
    "    best_seqsignet_network_grp_kfold_11,\n",
    "    _,\n",
    "    __,\n",
    ") = seqsignet_hyperparameter_search(\n",
    "    num_epochs=num_epochs,\n",
    "    df=anno_mi,\n",
    "    id_column=\"transcript_id\",\n",
    "    label_column=\"client_talk_type\",\n",
    "    embeddings=sbert_embeddings,\n",
    "    y_data=y_data_client,\n",
    "    output_dim=output_dim_client,\n",
    "    shift=shift,\n",
    "    window_size=window_size,\n",
    "    n=n,\n",
    "    dim_reduce_methods=[\"gaussian_random_projection\"],\n",
    "    dimensions=dimensions,\n",
    "    log_signature=True,\n",
    "    swnu_hidden_dim_sizes_and_sig_depths=swnu_hidden_dim_sizes_and_sig_depths,\n",
    "    lstm_hidden_dim_sizes=lstm_hidden_dim_sizes,\n",
    "    ffn_hidden_dim_sizes=ffn_hidden_dim_sizes,\n",
    "    dropout_rates=dropout_rates,\n",
    "    learning_rates=learning_rates,\n",
    "    BiLSTM=True,\n",
    "    seeds=seeds,\n",
    "    loss=loss,\n",
    "    gamma=gamma,\n",
    "    device=device,\n",
    "    features=features,\n",
    "    standardise_method=standardise_method,\n",
    "    include_features_in_path=include_features_in_path,\n",
    "    include_features_in_input=include_features_in_input,\n",
    "    path_indices=client_index,\n",
    "    k_fold=True,\n",
    "    patience=patience,\n",
    "    split_ids=client_transcript_id,\n",
    "    validation_metric=validation_metric,\n",
    "    results_output=f\"{output_dir}/seqsignet_grp_focal_{gamma}_{shift}_{window_size}_{n}_kfold.csv\",\n",
    "    verbose=False,\n",
    ")"
   ]
  },
  {
   "cell_type": "code",
   "execution_count": 24,
   "id": "36f8a786-08d0-4d9a-a52e-4c2414cee3fd",
   "metadata": {},
   "outputs": [
    {
     "data": {
      "text/html": [
       "<div>\n",
       "<style scoped>\n",
       "    .dataframe tbody tr th:only-of-type {\n",
       "        vertical-align: middle;\n",
       "    }\n",
       "\n",
       "    .dataframe tbody tr th {\n",
       "        vertical-align: top;\n",
       "    }\n",
       "\n",
       "    .dataframe thead th {\n",
       "        text-align: right;\n",
       "    }\n",
       "</style>\n",
       "<table border=\"1\" class=\"dataframe\">\n",
       "  <thead>\n",
       "    <tr style=\"text-align: right;\">\n",
       "      <th></th>\n",
       "      <th>loss</th>\n",
       "      <th>accuracy</th>\n",
       "      <th>f1</th>\n",
       "      <th>f1_scores</th>\n",
       "      <th>precision</th>\n",
       "      <th>precision_scores</th>\n",
       "      <th>recall</th>\n",
       "      <th>recall_scores</th>\n",
       "      <th>valid_loss</th>\n",
       "      <th>valid_accuracy</th>\n",
       "      <th>...</th>\n",
       "      <th>BiLSTM</th>\n",
       "      <th>loss_function</th>\n",
       "      <th>gamma</th>\n",
       "      <th>k_fold</th>\n",
       "      <th>n_splits</th>\n",
       "      <th>augmentation_type</th>\n",
       "      <th>hidden_dim_aug</th>\n",
       "      <th>comb_method</th>\n",
       "      <th>batch_size</th>\n",
       "      <th>model_id</th>\n",
       "    </tr>\n",
       "  </thead>\n",
       "  <tbody>\n",
       "    <tr>\n",
       "      <th>0</th>\n",
       "      <td>None</td>\n",
       "      <td>0.638506</td>\n",
       "      <td>0.511102</td>\n",
       "      <td>[0.768158047646717, 0.4081055607917059, 0.3570...</td>\n",
       "      <td>0.512387</td>\n",
       "      <td>[0.7717454757734968, 0.4758241758241758, 0.289...</td>\n",
       "      <td>0.529106</td>\n",
       "      <td>[0.7646038172353962, 0.3572607260726073, 0.465...</td>\n",
       "      <td>None</td>\n",
       "      <td>0.662813</td>\n",
       "      <td>...</td>\n",
       "      <td>True</td>\n",
       "      <td>focal</td>\n",
       "      <td>2</td>\n",
       "      <td>True</td>\n",
       "      <td>5</td>\n",
       "      <td>Conv1d</td>\n",
       "      <td>None</td>\n",
       "      <td>concatenation</td>\n",
       "      <td>64</td>\n",
       "      <td>0</td>\n",
       "    </tr>\n",
       "    <tr>\n",
       "      <th>0</th>\n",
       "      <td>None</td>\n",
       "      <td>0.610920</td>\n",
       "      <td>0.508169</td>\n",
       "      <td>[0.737459484488347, 0.42924159499609066, 0.357...</td>\n",
       "      <td>0.497643</td>\n",
       "      <td>[0.7907977490897053, 0.4078751857355126, 0.294...</td>\n",
       "      <td>0.533399</td>\n",
       "      <td>[0.6908617698091383, 0.452970297029703, 0.4563...</td>\n",
       "      <td>None</td>\n",
       "      <td>0.653500</td>\n",
       "      <td>...</td>\n",
       "      <td>True</td>\n",
       "      <td>focal</td>\n",
       "      <td>2</td>\n",
       "      <td>True</td>\n",
       "      <td>5</td>\n",
       "      <td>Conv1d</td>\n",
       "      <td>None</td>\n",
       "      <td>concatenation</td>\n",
       "      <td>64</td>\n",
       "      <td>0</td>\n",
       "    </tr>\n",
       "    <tr>\n",
       "      <th>0</th>\n",
       "      <td>None</td>\n",
       "      <td>0.635441</td>\n",
       "      <td>0.518679</td>\n",
       "      <td>[0.7595684941628491, 0.42942686056458507, 0.36...</td>\n",
       "      <td>0.511533</td>\n",
       "      <td>[0.7766696887277122, 0.44582593250444047, 0.31...</td>\n",
       "      <td>0.534283</td>\n",
       "      <td>[0.7432041642567958, 0.4141914191419142, 0.445...</td>\n",
       "      <td>None</td>\n",
       "      <td>0.665382</td>\n",
       "      <td>...</td>\n",
       "      <td>True</td>\n",
       "      <td>focal</td>\n",
       "      <td>2</td>\n",
       "      <td>True</td>\n",
       "      <td>5</td>\n",
       "      <td>Conv1d</td>\n",
       "      <td>None</td>\n",
       "      <td>concatenation</td>\n",
       "      <td>64</td>\n",
       "      <td>0</td>\n",
       "    </tr>\n",
       "    <tr>\n",
       "      <th>0</th>\n",
       "      <td>None</td>\n",
       "      <td>0.633908</td>\n",
       "      <td>0.515753</td>\n",
       "      <td>[0.7583135391923991, 0.4389837567680134, 0.349...</td>\n",
       "      <td>0.508384</td>\n",
       "      <td>[0.7791336180597925, 0.4432296047098402, 0.302...</td>\n",
       "      <td>0.529314</td>\n",
       "      <td>[0.7385772122614228, 0.43481848184818483, 0.41...</td>\n",
       "      <td>None</td>\n",
       "      <td>0.669236</td>\n",
       "      <td>...</td>\n",
       "      <td>True</td>\n",
       "      <td>focal</td>\n",
       "      <td>2</td>\n",
       "      <td>True</td>\n",
       "      <td>5</td>\n",
       "      <td>Conv1d</td>\n",
       "      <td>None</td>\n",
       "      <td>concatenation</td>\n",
       "      <td>64</td>\n",
       "      <td>1</td>\n",
       "    </tr>\n",
       "    <tr>\n",
       "      <th>0</th>\n",
       "      <td>None</td>\n",
       "      <td>0.638314</td>\n",
       "      <td>0.516771</td>\n",
       "      <td>[0.7636256794476275, 0.4289383561643835, 0.357...</td>\n",
       "      <td>0.510786</td>\n",
       "      <td>[0.7760525530008958, 0.445729537366548, 0.3105...</td>\n",
       "      <td>0.528925</td>\n",
       "      <td>[0.7515905147484094, 0.41336633663366334, 0.42...</td>\n",
       "      <td>None</td>\n",
       "      <td>0.671805</td>\n",
       "      <td>...</td>\n",
       "      <td>True</td>\n",
       "      <td>focal</td>\n",
       "      <td>2</td>\n",
       "      <td>True</td>\n",
       "      <td>5</td>\n",
       "      <td>Conv1d</td>\n",
       "      <td>None</td>\n",
       "      <td>concatenation</td>\n",
       "      <td>64</td>\n",
       "      <td>1</td>\n",
       "    </tr>\n",
       "    <tr>\n",
       "      <th>...</th>\n",
       "      <td>...</td>\n",
       "      <td>...</td>\n",
       "      <td>...</td>\n",
       "      <td>...</td>\n",
       "      <td>...</td>\n",
       "      <td>...</td>\n",
       "      <td>...</td>\n",
       "      <td>...</td>\n",
       "      <td>...</td>\n",
       "      <td>...</td>\n",
       "      <td>...</td>\n",
       "      <td>...</td>\n",
       "      <td>...</td>\n",
       "      <td>...</td>\n",
       "      <td>...</td>\n",
       "      <td>...</td>\n",
       "      <td>...</td>\n",
       "      <td>...</td>\n",
       "      <td>...</td>\n",
       "      <td>...</td>\n",
       "      <td>...</td>\n",
       "    </tr>\n",
       "    <tr>\n",
       "      <th>0</th>\n",
       "      <td>None</td>\n",
       "      <td>0.620306</td>\n",
       "      <td>0.508861</td>\n",
       "      <td>[0.7464042392127176, 0.43509906995551967, 0.34...</td>\n",
       "      <td>0.499780</td>\n",
       "      <td>[0.7832856688910073, 0.42664551942902457, 0.28...</td>\n",
       "      <td>0.528002</td>\n",
       "      <td>[0.7128397917871602, 0.4438943894389439, 0.427...</td>\n",
       "      <td>None</td>\n",
       "      <td>0.662171</td>\n",
       "      <td>...</td>\n",
       "      <td>True</td>\n",
       "      <td>focal</td>\n",
       "      <td>2</td>\n",
       "      <td>True</td>\n",
       "      <td>5</td>\n",
       "      <td>Conv1d</td>\n",
       "      <td>None</td>\n",
       "      <td>concatenation</td>\n",
       "      <td>64</td>\n",
       "      <td>22</td>\n",
       "    </tr>\n",
       "    <tr>\n",
       "      <th>0</th>\n",
       "      <td>None</td>\n",
       "      <td>0.637739</td>\n",
       "      <td>0.515208</td>\n",
       "      <td>[0.7623820754716981, 0.4396155453405766, 0.343...</td>\n",
       "      <td>0.509081</td>\n",
       "      <td>[0.777510523150932, 0.445385266723116, 0.30434...</td>\n",
       "      <td>0.525457</td>\n",
       "      <td>[0.7478311162521689, 0.43399339933993397, 0.39...</td>\n",
       "      <td>None</td>\n",
       "      <td>0.671805</td>\n",
       "      <td>...</td>\n",
       "      <td>True</td>\n",
       "      <td>focal</td>\n",
       "      <td>2</td>\n",
       "      <td>True</td>\n",
       "      <td>5</td>\n",
       "      <td>Conv1d</td>\n",
       "      <td>None</td>\n",
       "      <td>concatenation</td>\n",
       "      <td>64</td>\n",
       "      <td>22</td>\n",
       "    </tr>\n",
       "    <tr>\n",
       "      <th>0</th>\n",
       "      <td>None</td>\n",
       "      <td>0.628352</td>\n",
       "      <td>0.503916</td>\n",
       "      <td>[0.7560046865846515, 0.41318681318681316, 0.34...</td>\n",
       "      <td>0.499666</td>\n",
       "      <td>[0.7658753709198813, 0.44214487300094074, 0.29...</td>\n",
       "      <td>0.516846</td>\n",
       "      <td>[0.7463851937536148, 0.38778877887788776, 0.41...</td>\n",
       "      <td>None</td>\n",
       "      <td>0.664900</td>\n",
       "      <td>...</td>\n",
       "      <td>True</td>\n",
       "      <td>focal</td>\n",
       "      <td>2</td>\n",
       "      <td>True</td>\n",
       "      <td>5</td>\n",
       "      <td>Conv1d</td>\n",
       "      <td>None</td>\n",
       "      <td>concatenation</td>\n",
       "      <td>64</td>\n",
       "      <td>23</td>\n",
       "    </tr>\n",
       "    <tr>\n",
       "      <th>0</th>\n",
       "      <td>None</td>\n",
       "      <td>0.627011</td>\n",
       "      <td>0.519737</td>\n",
       "      <td>[0.7545440659844203, 0.44472049689440996, 0.35...</td>\n",
       "      <td>0.510878</td>\n",
       "      <td>[0.7996115247652962, 0.4463840399002494, 0.286...</td>\n",
       "      <td>0.546997</td>\n",
       "      <td>[0.7142857142857143, 0.4430693069306931, 0.483...</td>\n",
       "      <td>None</td>\n",
       "      <td>0.655427</td>\n",
       "      <td>...</td>\n",
       "      <td>True</td>\n",
       "      <td>focal</td>\n",
       "      <td>2</td>\n",
       "      <td>True</td>\n",
       "      <td>5</td>\n",
       "      <td>Conv1d</td>\n",
       "      <td>None</td>\n",
       "      <td>concatenation</td>\n",
       "      <td>64</td>\n",
       "      <td>23</td>\n",
       "    </tr>\n",
       "    <tr>\n",
       "      <th>0</th>\n",
       "      <td>None</td>\n",
       "      <td>0.640230</td>\n",
       "      <td>0.521198</td>\n",
       "      <td>[0.7640746729384095, 0.43413566739606124, 0.36...</td>\n",
       "      <td>0.515739</td>\n",
       "      <td>[0.7769805680119581, 0.46225535880708296, 0.30...</td>\n",
       "      <td>0.536641</td>\n",
       "      <td>[0.7515905147484094, 0.40924092409240925, 0.44...</td>\n",
       "      <td>None</td>\n",
       "      <td>0.666185</td>\n",
       "      <td>...</td>\n",
       "      <td>True</td>\n",
       "      <td>focal</td>\n",
       "      <td>2</td>\n",
       "      <td>True</td>\n",
       "      <td>5</td>\n",
       "      <td>Conv1d</td>\n",
       "      <td>None</td>\n",
       "      <td>concatenation</td>\n",
       "      <td>64</td>\n",
       "      <td>23</td>\n",
       "    </tr>\n",
       "  </tbody>\n",
       "</table>\n",
       "<p>72 rows × 48 columns</p>\n",
       "</div>"
      ],
      "text/plain": [
       "    loss  accuracy        f1  \\\n",
       "0   None  0.638506  0.511102   \n",
       "0   None  0.610920  0.508169   \n",
       "0   None  0.635441  0.518679   \n",
       "0   None  0.633908  0.515753   \n",
       "0   None  0.638314  0.516771   \n",
       "..   ...       ...       ...   \n",
       "0   None  0.620306  0.508861   \n",
       "0   None  0.637739  0.515208   \n",
       "0   None  0.628352  0.503916   \n",
       "0   None  0.627011  0.519737   \n",
       "0   None  0.640230  0.521198   \n",
       "\n",
       "                                            f1_scores  precision  \\\n",
       "0   [0.768158047646717, 0.4081055607917059, 0.3570...   0.512387   \n",
       "0   [0.737459484488347, 0.42924159499609066, 0.357...   0.497643   \n",
       "0   [0.7595684941628491, 0.42942686056458507, 0.36...   0.511533   \n",
       "0   [0.7583135391923991, 0.4389837567680134, 0.349...   0.508384   \n",
       "0   [0.7636256794476275, 0.4289383561643835, 0.357...   0.510786   \n",
       "..                                                ...        ...   \n",
       "0   [0.7464042392127176, 0.43509906995551967, 0.34...   0.499780   \n",
       "0   [0.7623820754716981, 0.4396155453405766, 0.343...   0.509081   \n",
       "0   [0.7560046865846515, 0.41318681318681316, 0.34...   0.499666   \n",
       "0   [0.7545440659844203, 0.44472049689440996, 0.35...   0.510878   \n",
       "0   [0.7640746729384095, 0.43413566739606124, 0.36...   0.515739   \n",
       "\n",
       "                                     precision_scores    recall  \\\n",
       "0   [0.7717454757734968, 0.4758241758241758, 0.289...  0.529106   \n",
       "0   [0.7907977490897053, 0.4078751857355126, 0.294...  0.533399   \n",
       "0   [0.7766696887277122, 0.44582593250444047, 0.31...  0.534283   \n",
       "0   [0.7791336180597925, 0.4432296047098402, 0.302...  0.529314   \n",
       "0   [0.7760525530008958, 0.445729537366548, 0.3105...  0.528925   \n",
       "..                                                ...       ...   \n",
       "0   [0.7832856688910073, 0.42664551942902457, 0.28...  0.528002   \n",
       "0   [0.777510523150932, 0.445385266723116, 0.30434...  0.525457   \n",
       "0   [0.7658753709198813, 0.44214487300094074, 0.29...  0.516846   \n",
       "0   [0.7996115247652962, 0.4463840399002494, 0.286...  0.546997   \n",
       "0   [0.7769805680119581, 0.46225535880708296, 0.30...  0.536641   \n",
       "\n",
       "                                        recall_scores valid_loss  \\\n",
       "0   [0.7646038172353962, 0.3572607260726073, 0.465...       None   \n",
       "0   [0.6908617698091383, 0.452970297029703, 0.4563...       None   \n",
       "0   [0.7432041642567958, 0.4141914191419142, 0.445...       None   \n",
       "0   [0.7385772122614228, 0.43481848184818483, 0.41...       None   \n",
       "0   [0.7515905147484094, 0.41336633663366334, 0.42...       None   \n",
       "..                                                ...        ...   \n",
       "0   [0.7128397917871602, 0.4438943894389439, 0.427...       None   \n",
       "0   [0.7478311162521689, 0.43399339933993397, 0.39...       None   \n",
       "0   [0.7463851937536148, 0.38778877887788776, 0.41...       None   \n",
       "0   [0.7142857142857143, 0.4430693069306931, 0.483...       None   \n",
       "0   [0.7515905147484094, 0.40924092409240925, 0.44...       None   \n",
       "\n",
       "    valid_accuracy  ...  BiLSTM loss_function  gamma k_fold  n_splits  \\\n",
       "0         0.662813  ...    True         focal      2   True         5   \n",
       "0         0.653500  ...    True         focal      2   True         5   \n",
       "0         0.665382  ...    True         focal      2   True         5   \n",
       "0         0.669236  ...    True         focal      2   True         5   \n",
       "0         0.671805  ...    True         focal      2   True         5   \n",
       "..             ...  ...     ...           ...    ...    ...       ...   \n",
       "0         0.662171  ...    True         focal      2   True         5   \n",
       "0         0.671805  ...    True         focal      2   True         5   \n",
       "0         0.664900  ...    True         focal      2   True         5   \n",
       "0         0.655427  ...    True         focal      2   True         5   \n",
       "0         0.666185  ...    True         focal      2   True         5   \n",
       "\n",
       "   augmentation_type  hidden_dim_aug    comb_method  batch_size  model_id  \n",
       "0             Conv1d            None  concatenation          64         0  \n",
       "0             Conv1d            None  concatenation          64         0  \n",
       "0             Conv1d            None  concatenation          64         0  \n",
       "0             Conv1d            None  concatenation          64         1  \n",
       "0             Conv1d            None  concatenation          64         1  \n",
       "..               ...             ...            ...         ...       ...  \n",
       "0             Conv1d            None  concatenation          64        22  \n",
       "0             Conv1d            None  concatenation          64        22  \n",
       "0             Conv1d            None  concatenation          64        23  \n",
       "0             Conv1d            None  concatenation          64        23  \n",
       "0             Conv1d            None  concatenation          64        23  \n",
       "\n",
       "[72 rows x 48 columns]"
      ]
     },
     "execution_count": 24,
     "metadata": {},
     "output_type": "execute_result"
    }
   ],
   "source": [
    "seqsignet_network_grp_kfold_11"
   ]
  },
  {
   "cell_type": "code",
   "execution_count": 25,
   "id": "45ca8250-608a-48eb-aab9-16773521050a",
   "metadata": {},
   "outputs": [
    {
     "data": {
      "text/plain": [
       "0.5190070840121788"
      ]
     },
     "execution_count": 25,
     "metadata": {},
     "output_type": "execute_result"
    }
   ],
   "source": [
    "best_seqsignet_network_grp_kfold_11[\"f1\"].mean()"
   ]
  },
  {
   "cell_type": "code",
   "execution_count": 26,
   "id": "bed09511-e12a-4bed-93a5-8312dd8153f6",
   "metadata": {},
   "outputs": [
    {
     "data": {
      "text/plain": [
       "0.5109347779258603"
      ]
     },
     "execution_count": 26,
     "metadata": {},
     "output_type": "execute_result"
    }
   ],
   "source": [
    "best_seqsignet_network_grp_kfold_11[\"precision\"].mean()"
   ]
  },
  {
   "cell_type": "code",
   "execution_count": 27,
   "id": "783b9d23-ed69-4d85-8f39-68837145ef0e",
   "metadata": {},
   "outputs": [
    {
     "data": {
      "text/plain": [
       "0.5351426692698188"
      ]
     },
     "execution_count": 27,
     "metadata": {},
     "output_type": "execute_result"
    }
   ],
   "source": [
    "best_seqsignet_network_grp_kfold_11[\"recall\"].mean()"
   ]
  },
  {
   "cell_type": "code",
   "execution_count": 28,
   "id": "6ce382d7-fb4b-4f2f-940a-2af5f70b222a",
   "metadata": {},
   "outputs": [
    {
     "data": {
      "text/plain": [
       "array([0.75771302, 0.44357586, 0.35573237])"
      ]
     },
     "execution_count": 28,
     "metadata": {},
     "output_type": "execute_result"
    }
   ],
   "source": [
    "np.stack(best_seqsignet_network_grp_kfold_11[\"f1_scores\"]).mean(axis=0)"
   ]
  },
  {
   "cell_type": "code",
   "execution_count": 29,
   "id": "143b8c68-175f-4a3f-bc90-5980c7ac0a02",
   "metadata": {},
   "outputs": [
    {
     "data": {
      "text/plain": [
       "array([0.78620464, 0.43984308, 0.30675661])"
      ]
     },
     "execution_count": 29,
     "metadata": {},
     "output_type": "execute_result"
    }
   ],
   "source": [
    "np.stack(best_seqsignet_network_grp_kfold_11[\"precision_scores\"]).mean(axis=0)"
   ]
  },
  {
   "cell_type": "code",
   "execution_count": 30,
   "id": "cc0bd39d-9190-41ec-89a5-9b28e29daf93",
   "metadata": {},
   "outputs": [
    {
     "data": {
      "text/plain": [
       "array([0.7313476 , 0.4480198 , 0.42606061])"
      ]
     },
     "execution_count": 30,
     "metadata": {},
     "output_type": "execute_result"
    }
   ],
   "source": [
    "np.stack(best_seqsignet_network_grp_kfold_11[\"recall_scores\"]).mean(axis=0)"
   ]
  },
  {
   "cell_type": "markdown",
   "id": "de271d33-3a57-419a-8372-279af9a0a9bb",
   "metadata": {},
   "source": [
    "# history_length=20"
   ]
  },
  {
   "cell_type": "code",
   "execution_count": 10,
   "id": "521165eb",
   "metadata": {},
   "outputs": [],
   "source": [
    "shift = 3\n",
    "window_size = 5\n",
    "n = 6"
   ]
  },
  {
   "cell_type": "code",
   "execution_count": 32,
   "id": "e1ab36d1",
   "metadata": {},
   "outputs": [
    {
     "data": {
      "application/vnd.jupyter.widget-view+json": {
       "model_id": "3abd4da0fb9848ce85be58ad1ee5fc7f",
       "version_major": 2,
       "version_minor": 0
      },
      "text/plain": [
       "  0%|          | 0/1 [00:00<?, ?it/s]"
      ]
     },
     "metadata": {},
     "output_type": "display_data"
    },
    {
     "data": {
      "application/vnd.jupyter.widget-view+json": {
       "model_id": "541a8c48d0b34cf3805a4111cc9b472c",
       "version_major": 2,
       "version_minor": 0
      },
      "text/plain": [
       "  0%|          | 0/1 [00:00<?, ?it/s]"
      ]
     },
     "metadata": {},
     "output_type": "display_data"
    },
    {
     "name": "stdout",
     "output_type": "stream",
     "text": [
      "\n",
      "##################################################\n",
      "dimension: 15 | method: umap\n",
      "given shift 3, window size 5 and n 6: history length = 20\n",
      "[INFO] Concatenating the embeddings to the dataframe...\n",
      "[INFO] - columns beginning with 'e' denote the full embddings.\n",
      "[INFO] - columns beginning with 'd' denote the dimension reduced embeddings.\n",
      "[INFO] Adding time feature columns into dataframe in `.df`.\n",
      "[INFO] Adding 'time_encoding' feature...\n",
      "[INFO] Adding 'time_diff' feature...\n",
      "[INFO] Adding 'timeline_index' feature...\n",
      "[INFO] Padding ids and storing in `.df_padded` and `.array_padded` attributes.\n"
     ]
    },
    {
     "data": {
      "application/vnd.jupyter.widget-view+json": {
       "model_id": "a76080eb706e4ca8b33c10faef027b7a",
       "version_major": 2,
       "version_minor": 0
      },
      "text/plain": [
       "  0%|          | 0/9699 [00:00<?, ?it/s]"
      ]
     },
     "metadata": {},
     "output_type": "display_data"
    },
    {
     "name": "stdout",
     "output_type": "stream",
     "text": [
      "[INFO] The path was created for each item in the dataframe, by looking at its history, so to include embeddings in the FFN input, we concatenate the embeddings for each sentence / text.\n"
     ]
    },
    {
     "data": {
      "application/vnd.jupyter.widget-view+json": {
       "model_id": "af0e6e8107c74c96be830bfbc9bf8af3",
       "version_major": 2,
       "version_minor": 0
      },
      "text/plain": [
       "  0%|          | 0/2 [00:00<?, ?it/s]"
      ]
     },
     "metadata": {},
     "output_type": "display_data"
    },
    {
     "data": {
      "application/vnd.jupyter.widget-view+json": {
       "model_id": "1027efede52c410b94d2bd269b791bd2",
       "version_major": 2,
       "version_minor": 0
      },
      "text/plain": [
       "  0%|          | 0/1 [00:00<?, ?it/s]"
      ]
     },
     "metadata": {},
     "output_type": "display_data"
    },
    {
     "data": {
      "application/vnd.jupyter.widget-view+json": {
       "model_id": "7a00b43837544285a415d1ff2541d19d",
       "version_major": 2,
       "version_minor": 0
      },
      "text/plain": [
       "  0%|          | 0/2 [00:00<?, ?it/s]"
      ]
     },
     "metadata": {},
     "output_type": "display_data"
    },
    {
     "data": {
      "application/vnd.jupyter.widget-view+json": {
       "model_id": "a395e450ee0149e48fe745be26b23e0f",
       "version_major": 2,
       "version_minor": 0
      },
      "text/plain": [
       "  0%|          | 0/1 [00:00<?, ?it/s]"
      ]
     },
     "metadata": {},
     "output_type": "display_data"
    },
    {
     "data": {
      "application/vnd.jupyter.widget-view+json": {
       "model_id": "7aa89f75c5c84606b0a8787f00c45c99",
       "version_major": 2,
       "version_minor": 0
      },
      "text/plain": [
       "  0%|          | 0/2 [00:00<?, ?it/s]"
      ]
     },
     "metadata": {},
     "output_type": "display_data"
    },
    {
     "data": {
      "application/vnd.jupyter.widget-view+json": {
       "model_id": "fc3bee17de004be6987a54c8fb57eecb",
       "version_major": 2,
       "version_minor": 0
      },
      "text/plain": [
       "  0%|          | 0/3 [00:00<?, ?it/s]"
      ]
     },
     "metadata": {},
     "output_type": "display_data"
    },
    {
     "data": {
      "application/vnd.jupyter.widget-view+json": {
       "model_id": "015d18ac8f3c45fd82266578f34138f7",
       "version_major": 2,
       "version_minor": 0
      },
      "text/plain": [
       "  0%|          | 0/3 [00:00<?, ?it/s]"
      ]
     },
     "metadata": {},
     "output_type": "display_data"
    },
    {
     "data": {
      "application/vnd.jupyter.widget-view+json": {
       "model_id": "5ec4ee0950284540a542c3457673fa60",
       "version_major": 2,
       "version_minor": 0
      },
      "text/plain": [
       "  0%|          | 0/1 [00:00<?, ?it/s]"
      ]
     },
     "metadata": {},
     "output_type": "display_data"
    },
    {
     "data": {
      "application/vnd.jupyter.widget-view+json": {
       "model_id": "f48c1c3ac59e4bafb75f04cb1b41fa20",
       "version_major": 2,
       "version_minor": 0
      },
      "text/plain": [
       "  0%|          | 0/2 [00:00<?, ?it/s]"
      ]
     },
     "metadata": {},
     "output_type": "display_data"
    },
    {
     "data": {
      "application/vnd.jupyter.widget-view+json": {
       "model_id": "a3653ddb619542649ebb30a4102a0a75",
       "version_major": 2,
       "version_minor": 0
      },
      "text/plain": [
       "  0%|          | 0/3 [00:00<?, ?it/s]"
      ]
     },
     "metadata": {},
     "output_type": "display_data"
    },
    {
     "data": {
      "application/vnd.jupyter.widget-view+json": {
       "model_id": "6bfe7abe5f08433b925d76088ba0ce9c",
       "version_major": 2,
       "version_minor": 0
      },
      "text/plain": [
       "  0%|          | 0/3 [00:00<?, ?it/s]"
      ]
     },
     "metadata": {},
     "output_type": "display_data"
    },
    {
     "data": {
      "application/vnd.jupyter.widget-view+json": {
       "model_id": "059429b25a914ed28b90445ce3178eda",
       "version_major": 2,
       "version_minor": 0
      },
      "text/plain": [
       "  0%|          | 0/1 [00:00<?, ?it/s]"
      ]
     },
     "metadata": {},
     "output_type": "display_data"
    },
    {
     "data": {
      "application/vnd.jupyter.widget-view+json": {
       "model_id": "670f52be891749f0914a2e5399b21166",
       "version_major": 2,
       "version_minor": 0
      },
      "text/plain": [
       "  0%|          | 0/2 [00:00<?, ?it/s]"
      ]
     },
     "metadata": {},
     "output_type": "display_data"
    },
    {
     "data": {
      "application/vnd.jupyter.widget-view+json": {
       "model_id": "cdcc88eaa9db4dc7a21132e08228735c",
       "version_major": 2,
       "version_minor": 0
      },
      "text/plain": [
       "  0%|          | 0/1 [00:00<?, ?it/s]"
      ]
     },
     "metadata": {},
     "output_type": "display_data"
    },
    {
     "data": {
      "application/vnd.jupyter.widget-view+json": {
       "model_id": "3565d79da4a2433a8f29906b32af7130",
       "version_major": 2,
       "version_minor": 0
      },
      "text/plain": [
       "  0%|          | 0/2 [00:00<?, ?it/s]"
      ]
     },
     "metadata": {},
     "output_type": "display_data"
    },
    {
     "data": {
      "application/vnd.jupyter.widget-view+json": {
       "model_id": "4eb3e8a6ed3245cc8ee200af390685f2",
       "version_major": 2,
       "version_minor": 0
      },
      "text/plain": [
       "  0%|          | 0/3 [00:00<?, ?it/s]"
      ]
     },
     "metadata": {},
     "output_type": "display_data"
    },
    {
     "data": {
      "application/vnd.jupyter.widget-view+json": {
       "model_id": "69da63a28ecd4d32990b8a06be8faaff",
       "version_major": 2,
       "version_minor": 0
      },
      "text/plain": [
       "  0%|          | 0/3 [00:00<?, ?it/s]"
      ]
     },
     "metadata": {},
     "output_type": "display_data"
    },
    {
     "data": {
      "application/vnd.jupyter.widget-view+json": {
       "model_id": "061ea0182cdf40718dd205dd7cc38ffb",
       "version_major": 2,
       "version_minor": 0
      },
      "text/plain": [
       "  0%|          | 0/1 [00:00<?, ?it/s]"
      ]
     },
     "metadata": {},
     "output_type": "display_data"
    },
    {
     "data": {
      "application/vnd.jupyter.widget-view+json": {
       "model_id": "4a8b5fce0fc1459591a65d0b9b2abdb8",
       "version_major": 2,
       "version_minor": 0
      },
      "text/plain": [
       "  0%|          | 0/2 [00:00<?, ?it/s]"
      ]
     },
     "metadata": {},
     "output_type": "display_data"
    },
    {
     "data": {
      "application/vnd.jupyter.widget-view+json": {
       "model_id": "7afbf1db51744dfba7ed2efb27b4decc",
       "version_major": 2,
       "version_minor": 0
      },
      "text/plain": [
       "  0%|          | 0/3 [00:00<?, ?it/s]"
      ]
     },
     "metadata": {},
     "output_type": "display_data"
    },
    {
     "data": {
      "application/vnd.jupyter.widget-view+json": {
       "model_id": "cb811fe5037a4b2da112650ca741d506",
       "version_major": 2,
       "version_minor": 0
      },
      "text/plain": [
       "  0%|          | 0/3 [00:00<?, ?it/s]"
      ]
     },
     "metadata": {},
     "output_type": "display_data"
    },
    {
     "name": "stdout",
     "output_type": "stream",
     "text": [
      "given shift 3, window size 5 and n 6: history length = 20\n",
      "[INFO] Concatenating the embeddings to the dataframe...\n",
      "[INFO] - columns beginning with 'e' denote the full embddings.\n",
      "[INFO] - columns beginning with 'd' denote the dimension reduced embeddings.\n",
      "[INFO] Adding time feature columns into dataframe in `.df`.\n",
      "[INFO] Adding 'time_encoding' feature...\n",
      "[INFO] Adding 'time_diff' feature...\n",
      "[INFO] Adding 'timeline_index' feature...\n",
      "[INFO] Padding ids and storing in `.df_padded` and `.array_padded` attributes.\n"
     ]
    },
    {
     "data": {
      "application/vnd.jupyter.widget-view+json": {
       "model_id": "1beec11bdf6b40c694efa915d7957722",
       "version_major": 2,
       "version_minor": 0
      },
      "text/plain": [
       "  0%|          | 0/9699 [00:00<?, ?it/s]"
      ]
     },
     "metadata": {},
     "output_type": "display_data"
    },
    {
     "name": "stdout",
     "output_type": "stream",
     "text": [
      "[INFO] The path was created for each item in the dataframe, by looking at its history, so to include embeddings in the FFN input, we concatenate the embeddings for each sentence / text.\n",
      "saving results dataframe to CSV for this hyperparameter search in client_talk_type_output/seqsignet_umap_focal_2_3_5_6_kfold.csv\n",
      "saving the best model results dataframe to CSV for this hyperparameter search in client_talk_type_output/seqsignet_umap_focal_2_3_5_6_kfold_best_model.csv\n"
     ]
    }
   ],
   "source": [
    "(\n",
    "    seqsignet_network_umap_kfold_20,\n",
    "    best_seqsignet_network_umap_kfold_20,\n",
    "    _,\n",
    "    __,\n",
    ") = seqsignet_hyperparameter_search(\n",
    "    num_epochs=num_epochs,\n",
    "    df=anno_mi,\n",
    "    id_column=\"transcript_id\",\n",
    "    label_column=\"client_talk_type\",\n",
    "    embeddings=sbert_embeddings,\n",
    "    y_data=y_data_client,\n",
    "    output_dim=output_dim_client,\n",
    "    shift=shift,\n",
    "    window_size=window_size,\n",
    "    n=n,\n",
    "    dim_reduce_methods=[\"umap\"],\n",
    "    dimensions=dimensions,\n",
    "    log_signature=True,\n",
    "    swnu_hidden_dim_sizes_and_sig_depths=swnu_hidden_dim_sizes_and_sig_depths,\n",
    "    lstm_hidden_dim_sizes=lstm_hidden_dim_sizes,\n",
    "    ffn_hidden_dim_sizes=ffn_hidden_dim_sizes,\n",
    "    dropout_rates=dropout_rates,\n",
    "    learning_rates=learning_rates,\n",
    "    BiLSTM=True,\n",
    "    seeds=seeds,\n",
    "    loss=loss,\n",
    "    gamma=gamma,\n",
    "    device=device,\n",
    "    features=features,\n",
    "    standardise_method=standardise_method,\n",
    "    include_features_in_path=include_features_in_path,\n",
    "    include_features_in_input=include_features_in_input,\n",
    "    path_indices=client_index,\n",
    "    split_ids=client_transcript_id,\n",
    "    k_fold=True,\n",
    "    patience=patience,\n",
    "    validation_metric=validation_metric,\n",
    "    results_output=f\"{output_dir}/seqsignet_umap_focal_{gamma}_{shift}_{window_size}_{n}_kfold.csv\",\n",
    "    verbose=False,\n",
    ")"
   ]
  },
  {
   "cell_type": "code",
   "execution_count": 33,
   "id": "df26388e",
   "metadata": {},
   "outputs": [
    {
     "data": {
      "text/html": [
       "<div>\n",
       "<style scoped>\n",
       "    .dataframe tbody tr th:only-of-type {\n",
       "        vertical-align: middle;\n",
       "    }\n",
       "\n",
       "    .dataframe tbody tr th {\n",
       "        vertical-align: top;\n",
       "    }\n",
       "\n",
       "    .dataframe thead th {\n",
       "        text-align: right;\n",
       "    }\n",
       "</style>\n",
       "<table border=\"1\" class=\"dataframe\">\n",
       "  <thead>\n",
       "    <tr style=\"text-align: right;\">\n",
       "      <th></th>\n",
       "      <th>loss</th>\n",
       "      <th>accuracy</th>\n",
       "      <th>f1</th>\n",
       "      <th>f1_scores</th>\n",
       "      <th>precision</th>\n",
       "      <th>precision_scores</th>\n",
       "      <th>recall</th>\n",
       "      <th>recall_scores</th>\n",
       "      <th>valid_loss</th>\n",
       "      <th>valid_accuracy</th>\n",
       "      <th>...</th>\n",
       "      <th>BiLSTM</th>\n",
       "      <th>loss_function</th>\n",
       "      <th>gamma</th>\n",
       "      <th>k_fold</th>\n",
       "      <th>n_splits</th>\n",
       "      <th>augmentation_type</th>\n",
       "      <th>hidden_dim_aug</th>\n",
       "      <th>comb_method</th>\n",
       "      <th>batch_size</th>\n",
       "      <th>model_id</th>\n",
       "    </tr>\n",
       "  </thead>\n",
       "  <tbody>\n",
       "    <tr>\n",
       "      <th>0</th>\n",
       "      <td>None</td>\n",
       "      <td>0.645594</td>\n",
       "      <td>0.517765</td>\n",
       "      <td>[0.7717375630857967, 0.41417910447761197, 0.36...</td>\n",
       "      <td>0.518095</td>\n",
       "      <td>[0.7696289905090595, 0.47639484978540775, 0.30...</td>\n",
       "      <td>0.531580</td>\n",
       "      <td>[0.7738577212261423, 0.36633663366336633, 0.45...</td>\n",
       "      <td>None</td>\n",
       "      <td>0.671162</td>\n",
       "      <td>...</td>\n",
       "      <td>True</td>\n",
       "      <td>focal</td>\n",
       "      <td>2</td>\n",
       "      <td>True</td>\n",
       "      <td>5</td>\n",
       "      <td>Conv1d</td>\n",
       "      <td>None</td>\n",
       "      <td>concatenation</td>\n",
       "      <td>64</td>\n",
       "      <td>0</td>\n",
       "    </tr>\n",
       "    <tr>\n",
       "      <th>0</th>\n",
       "      <td>None</td>\n",
       "      <td>0.617433</td>\n",
       "      <td>0.508190</td>\n",
       "      <td>[0.7477380769820579, 0.43321299638989175, 0.34...</td>\n",
       "      <td>0.499059</td>\n",
       "      <td>[0.7959516813581456, 0.4215456674473068, 0.279...</td>\n",
       "      <td>0.532010</td>\n",
       "      <td>[0.7050318102949682, 0.44554455445544555, 0.44...</td>\n",
       "      <td>None</td>\n",
       "      <td>0.658157</td>\n",
       "      <td>...</td>\n",
       "      <td>True</td>\n",
       "      <td>focal</td>\n",
       "      <td>2</td>\n",
       "      <td>True</td>\n",
       "      <td>5</td>\n",
       "      <td>Conv1d</td>\n",
       "      <td>None</td>\n",
       "      <td>concatenation</td>\n",
       "      <td>64</td>\n",
       "      <td>0</td>\n",
       "    </tr>\n",
       "    <tr>\n",
       "      <th>0</th>\n",
       "      <td>None</td>\n",
       "      <td>0.637931</td>\n",
       "      <td>0.517992</td>\n",
       "      <td>[0.7646972152644762, 0.42429501084598703, 0.36...</td>\n",
       "      <td>0.511726</td>\n",
       "      <td>[0.7795133673775909, 0.4473924977127173, 0.308...</td>\n",
       "      <td>0.533724</td>\n",
       "      <td>[0.7504337767495662, 0.4034653465346535, 0.447...</td>\n",
       "      <td>None</td>\n",
       "      <td>0.666185</td>\n",
       "      <td>...</td>\n",
       "      <td>True</td>\n",
       "      <td>focal</td>\n",
       "      <td>2</td>\n",
       "      <td>True</td>\n",
       "      <td>5</td>\n",
       "      <td>Conv1d</td>\n",
       "      <td>None</td>\n",
       "      <td>concatenation</td>\n",
       "      <td>64</td>\n",
       "      <td>0</td>\n",
       "    </tr>\n",
       "    <tr>\n",
       "      <th>0</th>\n",
       "      <td>None</td>\n",
       "      <td>0.632950</td>\n",
       "      <td>0.520069</td>\n",
       "      <td>[0.7534391534391535, 0.46549707602339185, 0.34...</td>\n",
       "      <td>0.511139</td>\n",
       "      <td>[0.7893569844789357, 0.44124168514412415, 0.30...</td>\n",
       "      <td>0.534710</td>\n",
       "      <td>[0.7206477732793523, 0.49257425742574257, 0.39...</td>\n",
       "      <td>None</td>\n",
       "      <td>0.673089</td>\n",
       "      <td>...</td>\n",
       "      <td>True</td>\n",
       "      <td>focal</td>\n",
       "      <td>2</td>\n",
       "      <td>True</td>\n",
       "      <td>5</td>\n",
       "      <td>Conv1d</td>\n",
       "      <td>None</td>\n",
       "      <td>concatenation</td>\n",
       "      <td>64</td>\n",
       "      <td>1</td>\n",
       "    </tr>\n",
       "    <tr>\n",
       "      <th>0</th>\n",
       "      <td>None</td>\n",
       "      <td>0.632184</td>\n",
       "      <td>0.518627</td>\n",
       "      <td>[0.7546205860255446, 0.4435082343929529, 0.357...</td>\n",
       "      <td>0.511943</td>\n",
       "      <td>[0.7854238348451673, 0.413867047891351, 0.3365...</td>\n",
       "      <td>0.528561</td>\n",
       "      <td>[0.7261422787738577, 0.4777227722772277, 0.381...</td>\n",
       "      <td>None</td>\n",
       "      <td>0.671965</td>\n",
       "      <td>...</td>\n",
       "      <td>True</td>\n",
       "      <td>focal</td>\n",
       "      <td>2</td>\n",
       "      <td>True</td>\n",
       "      <td>5</td>\n",
       "      <td>Conv1d</td>\n",
       "      <td>None</td>\n",
       "      <td>concatenation</td>\n",
       "      <td>64</td>\n",
       "      <td>1</td>\n",
       "    </tr>\n",
       "    <tr>\n",
       "      <th>...</th>\n",
       "      <td>...</td>\n",
       "      <td>...</td>\n",
       "      <td>...</td>\n",
       "      <td>...</td>\n",
       "      <td>...</td>\n",
       "      <td>...</td>\n",
       "      <td>...</td>\n",
       "      <td>...</td>\n",
       "      <td>...</td>\n",
       "      <td>...</td>\n",
       "      <td>...</td>\n",
       "      <td>...</td>\n",
       "      <td>...</td>\n",
       "      <td>...</td>\n",
       "      <td>...</td>\n",
       "      <td>...</td>\n",
       "      <td>...</td>\n",
       "      <td>...</td>\n",
       "      <td>...</td>\n",
       "      <td>...</td>\n",
       "      <td>...</td>\n",
       "    </tr>\n",
       "    <tr>\n",
       "      <th>0</th>\n",
       "      <td>None</td>\n",
       "      <td>0.642146</td>\n",
       "      <td>0.515077</td>\n",
       "      <td>[0.7689614935822638, 0.4226415094339622, 0.353...</td>\n",
       "      <td>0.510691</td>\n",
       "      <td>[0.7757504414361389, 0.4296675191815857, 0.326...</td>\n",
       "      <td>0.521195</td>\n",
       "      <td>[0.7622903412377097, 0.4158415841584158, 0.385...</td>\n",
       "      <td>None</td>\n",
       "      <td>0.674374</td>\n",
       "      <td>...</td>\n",
       "      <td>True</td>\n",
       "      <td>focal</td>\n",
       "      <td>2</td>\n",
       "      <td>True</td>\n",
       "      <td>5</td>\n",
       "      <td>Conv1d</td>\n",
       "      <td>None</td>\n",
       "      <td>concatenation</td>\n",
       "      <td>64</td>\n",
       "      <td>22</td>\n",
       "    </tr>\n",
       "    <tr>\n",
       "      <th>0</th>\n",
       "      <td>None</td>\n",
       "      <td>0.637548</td>\n",
       "      <td>0.518798</td>\n",
       "      <td>[0.764128494943486, 0.4386989157631359, 0.3535...</td>\n",
       "      <td>0.511161</td>\n",
       "      <td>[0.786589099816289, 0.44350758853288363, 0.303...</td>\n",
       "      <td>0.533515</td>\n",
       "      <td>[0.742914979757085, 0.43399339933993397, 0.423...</td>\n",
       "      <td>None</td>\n",
       "      <td>0.668593</td>\n",
       "      <td>...</td>\n",
       "      <td>True</td>\n",
       "      <td>focal</td>\n",
       "      <td>2</td>\n",
       "      <td>True</td>\n",
       "      <td>5</td>\n",
       "      <td>Conv1d</td>\n",
       "      <td>None</td>\n",
       "      <td>concatenation</td>\n",
       "      <td>64</td>\n",
       "      <td>22</td>\n",
       "    </tr>\n",
       "    <tr>\n",
       "      <th>0</th>\n",
       "      <td>None</td>\n",
       "      <td>0.625670</td>\n",
       "      <td>0.520733</td>\n",
       "      <td>[0.7467315293402251, 0.4520884520884521, 0.363...</td>\n",
       "      <td>0.510837</td>\n",
       "      <td>[0.7871794871794872, 0.44878048780487806, 0.29...</td>\n",
       "      <td>0.544925</td>\n",
       "      <td>[0.7102371312897628, 0.45544554455445546, 0.46...</td>\n",
       "      <td>None</td>\n",
       "      <td>0.655267</td>\n",
       "      <td>...</td>\n",
       "      <td>True</td>\n",
       "      <td>focal</td>\n",
       "      <td>2</td>\n",
       "      <td>True</td>\n",
       "      <td>5</td>\n",
       "      <td>Conv1d</td>\n",
       "      <td>None</td>\n",
       "      <td>concatenation</td>\n",
       "      <td>64</td>\n",
       "      <td>23</td>\n",
       "    </tr>\n",
       "    <tr>\n",
       "      <th>0</th>\n",
       "      <td>None</td>\n",
       "      <td>0.625096</td>\n",
       "      <td>0.518500</td>\n",
       "      <td>[0.7538626281168731, 0.4389632107023411, 0.362...</td>\n",
       "      <td>0.510098</td>\n",
       "      <td>[0.8002598246183826, 0.4449152542372881, 0.285...</td>\n",
       "      <td>0.547967</td>\n",
       "      <td>[0.7125506072874493, 0.43316831683168316, 0.49...</td>\n",
       "      <td>None</td>\n",
       "      <td>0.656069</td>\n",
       "      <td>...</td>\n",
       "      <td>True</td>\n",
       "      <td>focal</td>\n",
       "      <td>2</td>\n",
       "      <td>True</td>\n",
       "      <td>5</td>\n",
       "      <td>Conv1d</td>\n",
       "      <td>None</td>\n",
       "      <td>concatenation</td>\n",
       "      <td>64</td>\n",
       "      <td>23</td>\n",
       "    </tr>\n",
       "    <tr>\n",
       "      <th>0</th>\n",
       "      <td>None</td>\n",
       "      <td>0.638506</td>\n",
       "      <td>0.519125</td>\n",
       "      <td>[0.7631230701367447, 0.4281398359948209, 0.366...</td>\n",
       "      <td>0.512863</td>\n",
       "      <td>[0.7762488782530661, 0.448868778280543, 0.3134...</td>\n",
       "      <td>0.533225</td>\n",
       "      <td>[0.7504337767495662, 0.40924092409240925, 0.44]</td>\n",
       "      <td>None</td>\n",
       "      <td>0.669557</td>\n",
       "      <td>...</td>\n",
       "      <td>True</td>\n",
       "      <td>focal</td>\n",
       "      <td>2</td>\n",
       "      <td>True</td>\n",
       "      <td>5</td>\n",
       "      <td>Conv1d</td>\n",
       "      <td>None</td>\n",
       "      <td>concatenation</td>\n",
       "      <td>64</td>\n",
       "      <td>23</td>\n",
       "    </tr>\n",
       "  </tbody>\n",
       "</table>\n",
       "<p>72 rows × 48 columns</p>\n",
       "</div>"
      ],
      "text/plain": [
       "    loss  accuracy        f1  \\\n",
       "0   None  0.645594  0.517765   \n",
       "0   None  0.617433  0.508190   \n",
       "0   None  0.637931  0.517992   \n",
       "0   None  0.632950  0.520069   \n",
       "0   None  0.632184  0.518627   \n",
       "..   ...       ...       ...   \n",
       "0   None  0.642146  0.515077   \n",
       "0   None  0.637548  0.518798   \n",
       "0   None  0.625670  0.520733   \n",
       "0   None  0.625096  0.518500   \n",
       "0   None  0.638506  0.519125   \n",
       "\n",
       "                                            f1_scores  precision  \\\n",
       "0   [0.7717375630857967, 0.41417910447761197, 0.36...   0.518095   \n",
       "0   [0.7477380769820579, 0.43321299638989175, 0.34...   0.499059   \n",
       "0   [0.7646972152644762, 0.42429501084598703, 0.36...   0.511726   \n",
       "0   [0.7534391534391535, 0.46549707602339185, 0.34...   0.511139   \n",
       "0   [0.7546205860255446, 0.4435082343929529, 0.357...   0.511943   \n",
       "..                                                ...        ...   \n",
       "0   [0.7689614935822638, 0.4226415094339622, 0.353...   0.510691   \n",
       "0   [0.764128494943486, 0.4386989157631359, 0.3535...   0.511161   \n",
       "0   [0.7467315293402251, 0.4520884520884521, 0.363...   0.510837   \n",
       "0   [0.7538626281168731, 0.4389632107023411, 0.362...   0.510098   \n",
       "0   [0.7631230701367447, 0.4281398359948209, 0.366...   0.512863   \n",
       "\n",
       "                                     precision_scores    recall  \\\n",
       "0   [0.7696289905090595, 0.47639484978540775, 0.30...  0.531580   \n",
       "0   [0.7959516813581456, 0.4215456674473068, 0.279...  0.532010   \n",
       "0   [0.7795133673775909, 0.4473924977127173, 0.308...  0.533724   \n",
       "0   [0.7893569844789357, 0.44124168514412415, 0.30...  0.534710   \n",
       "0   [0.7854238348451673, 0.413867047891351, 0.3365...  0.528561   \n",
       "..                                                ...       ...   \n",
       "0   [0.7757504414361389, 0.4296675191815857, 0.326...  0.521195   \n",
       "0   [0.786589099816289, 0.44350758853288363, 0.303...  0.533515   \n",
       "0   [0.7871794871794872, 0.44878048780487806, 0.29...  0.544925   \n",
       "0   [0.8002598246183826, 0.4449152542372881, 0.285...  0.547967   \n",
       "0   [0.7762488782530661, 0.448868778280543, 0.3134...  0.533225   \n",
       "\n",
       "                                        recall_scores valid_loss  \\\n",
       "0   [0.7738577212261423, 0.36633663366336633, 0.45...       None   \n",
       "0   [0.7050318102949682, 0.44554455445544555, 0.44...       None   \n",
       "0   [0.7504337767495662, 0.4034653465346535, 0.447...       None   \n",
       "0   [0.7206477732793523, 0.49257425742574257, 0.39...       None   \n",
       "0   [0.7261422787738577, 0.4777227722772277, 0.381...       None   \n",
       "..                                                ...        ...   \n",
       "0   [0.7622903412377097, 0.4158415841584158, 0.385...       None   \n",
       "0   [0.742914979757085, 0.43399339933993397, 0.423...       None   \n",
       "0   [0.7102371312897628, 0.45544554455445546, 0.46...       None   \n",
       "0   [0.7125506072874493, 0.43316831683168316, 0.49...       None   \n",
       "0     [0.7504337767495662, 0.40924092409240925, 0.44]       None   \n",
       "\n",
       "    valid_accuracy  ...  BiLSTM loss_function  gamma k_fold  n_splits  \\\n",
       "0         0.671162  ...    True         focal      2   True         5   \n",
       "0         0.658157  ...    True         focal      2   True         5   \n",
       "0         0.666185  ...    True         focal      2   True         5   \n",
       "0         0.673089  ...    True         focal      2   True         5   \n",
       "0         0.671965  ...    True         focal      2   True         5   \n",
       "..             ...  ...     ...           ...    ...    ...       ...   \n",
       "0         0.674374  ...    True         focal      2   True         5   \n",
       "0         0.668593  ...    True         focal      2   True         5   \n",
       "0         0.655267  ...    True         focal      2   True         5   \n",
       "0         0.656069  ...    True         focal      2   True         5   \n",
       "0         0.669557  ...    True         focal      2   True         5   \n",
       "\n",
       "   augmentation_type  hidden_dim_aug    comb_method  batch_size  model_id  \n",
       "0             Conv1d            None  concatenation          64         0  \n",
       "0             Conv1d            None  concatenation          64         0  \n",
       "0             Conv1d            None  concatenation          64         0  \n",
       "0             Conv1d            None  concatenation          64         1  \n",
       "0             Conv1d            None  concatenation          64         1  \n",
       "..               ...             ...            ...         ...       ...  \n",
       "0             Conv1d            None  concatenation          64        22  \n",
       "0             Conv1d            None  concatenation          64        22  \n",
       "0             Conv1d            None  concatenation          64        23  \n",
       "0             Conv1d            None  concatenation          64        23  \n",
       "0             Conv1d            None  concatenation          64        23  \n",
       "\n",
       "[72 rows x 48 columns]"
      ]
     },
     "execution_count": 33,
     "metadata": {},
     "output_type": "execute_result"
    }
   ],
   "source": [
    "seqsignet_network_umap_kfold_20"
   ]
  },
  {
   "cell_type": "code",
   "execution_count": 34,
   "id": "afeead7d",
   "metadata": {},
   "outputs": [
    {
     "data": {
      "text/plain": [
       "0.5164772721152695"
      ]
     },
     "execution_count": 34,
     "metadata": {},
     "output_type": "execute_result"
    }
   ],
   "source": [
    "best_seqsignet_network_umap_kfold_20[\"f1\"].mean()"
   ]
  },
  {
   "cell_type": "code",
   "execution_count": 35,
   "id": "a51f3dd2",
   "metadata": {},
   "outputs": [
    {
     "data": {
      "text/plain": [
       "0.5081440744623626"
      ]
     },
     "execution_count": 35,
     "metadata": {},
     "output_type": "execute_result"
    }
   ],
   "source": [
    "best_seqsignet_network_umap_kfold_20[\"precision\"].mean()"
   ]
  },
  {
   "cell_type": "code",
   "execution_count": 36,
   "id": "ef127f1e",
   "metadata": {},
   "outputs": [
    {
     "data": {
      "text/plain": [
       "0.5342635294954211"
      ]
     },
     "execution_count": 36,
     "metadata": {},
     "output_type": "execute_result"
    }
   ],
   "source": [
    "best_seqsignet_network_umap_kfold_20[\"recall\"].mean()"
   ]
  },
  {
   "cell_type": "code",
   "execution_count": 37,
   "id": "1584e0f2",
   "metadata": {},
   "outputs": [
    {
     "data": {
      "text/plain": [
       "array([0.7576027 , 0.43787008, 0.35395904])"
      ]
     },
     "execution_count": 37,
     "metadata": {},
     "output_type": "execute_result"
    }
   ],
   "source": [
    "np.stack(best_seqsignet_network_umap_kfold_20[\"f1_scores\"]).mean(axis=0)"
   ]
  },
  {
   "cell_type": "code",
   "execution_count": 38,
   "id": "7b4943be",
   "metadata": {},
   "outputs": [
    {
     "data": {
      "text/plain": [
       "array([0.78616118, 0.4405165 , 0.29775454])"
      ]
     },
     "execution_count": 38,
     "metadata": {},
     "output_type": "execute_result"
    }
   ],
   "source": [
    "np.stack(best_seqsignet_network_umap_kfold_20[\"precision_scores\"]).mean(axis=0)"
   ]
  },
  {
   "cell_type": "code",
   "execution_count": 39,
   "id": "15c89795",
   "metadata": {},
   "outputs": [
    {
     "data": {
      "text/plain": [
       "array([0.73105842, 0.43536854, 0.43636364])"
      ]
     },
     "execution_count": 39,
     "metadata": {},
     "output_type": "execute_result"
    }
   ],
   "source": [
    "np.stack(best_seqsignet_network_umap_kfold_20[\"recall_scores\"]).mean(axis=0)"
   ]
  },
  {
   "cell_type": "markdown",
   "id": "811a6de0",
   "metadata": {},
   "source": [
    "## GRP"
   ]
  },
  {
   "cell_type": "code",
   "execution_count": null,
   "id": "8b137f3c",
   "metadata": {},
   "outputs": [
    {
     "data": {
      "application/vnd.jupyter.widget-view+json": {
       "model_id": "e43266a4515c466d8c4ea2623f1f0204",
       "version_major": 2,
       "version_minor": 0
      },
      "text/plain": [
       "  0%|          | 0/1 [00:00<?, ?it/s]"
      ]
     },
     "metadata": {},
     "output_type": "display_data"
    },
    {
     "data": {
      "application/vnd.jupyter.widget-view+json": {
       "model_id": "d885b65688d04c66a2a0b6fdb8661641",
       "version_major": 2,
       "version_minor": 0
      },
      "text/plain": [
       "  0%|          | 0/1 [00:00<?, ?it/s]"
      ]
     },
     "metadata": {},
     "output_type": "display_data"
    },
    {
     "name": "stdout",
     "output_type": "stream",
     "text": [
      "\n",
      "##################################################\n",
      "dimension: 15 | method: gaussian_random_projection\n",
      "given shift 3, window size 5 and n 6: history length = 20\n",
      "[INFO] Concatenating the embeddings to the dataframe...\n",
      "[INFO] - columns beginning with 'e' denote the full embddings.\n",
      "[INFO] - columns beginning with 'd' denote the dimension reduced embeddings.\n",
      "[INFO] Adding time feature columns into dataframe in `.df`.\n",
      "[INFO] Adding 'time_encoding' feature...\n",
      "[INFO] Adding 'time_diff' feature...\n",
      "[INFO] Adding 'timeline_index' feature...\n",
      "[INFO] Padding ids and storing in `.df_padded` and `.array_padded` attributes.\n"
     ]
    },
    {
     "data": {
      "application/vnd.jupyter.widget-view+json": {
       "model_id": "8d34492b1bb7433dbc3369629789b0c4",
       "version_major": 2,
       "version_minor": 0
      },
      "text/plain": [
       "  0%|          | 0/9699 [00:00<?, ?it/s]"
      ]
     },
     "metadata": {},
     "output_type": "display_data"
    },
    {
     "name": "stdout",
     "output_type": "stream",
     "text": [
      "[INFO] The path was created for each item in the dataframe, by looking at its history, so to include embeddings in the FFN input, we concatenate the embeddings for each sentence / text.\n"
     ]
    },
    {
     "data": {
      "application/vnd.jupyter.widget-view+json": {
       "model_id": "b67abbef29fa46c0b529b6a4dbb40951",
       "version_major": 2,
       "version_minor": 0
      },
      "text/plain": [
       "  0%|          | 0/2 [00:00<?, ?it/s]"
      ]
     },
     "metadata": {},
     "output_type": "display_data"
    },
    {
     "data": {
      "application/vnd.jupyter.widget-view+json": {
       "model_id": "f7e6705049c74f5c8f8e48f907cb1c16",
       "version_major": 2,
       "version_minor": 0
      },
      "text/plain": [
       "  0%|          | 0/1 [00:00<?, ?it/s]"
      ]
     },
     "metadata": {},
     "output_type": "display_data"
    },
    {
     "data": {
      "application/vnd.jupyter.widget-view+json": {
       "model_id": "2dbe71d1f1f6410ea66b1996be626d1d",
       "version_major": 2,
       "version_minor": 0
      },
      "text/plain": [
       "  0%|          | 0/2 [00:00<?, ?it/s]"
      ]
     },
     "metadata": {},
     "output_type": "display_data"
    },
    {
     "data": {
      "application/vnd.jupyter.widget-view+json": {
       "model_id": "dcb4d289d11a4b64be1e97875df87d76",
       "version_major": 2,
       "version_minor": 0
      },
      "text/plain": [
       "  0%|          | 0/1 [00:00<?, ?it/s]"
      ]
     },
     "metadata": {},
     "output_type": "display_data"
    },
    {
     "data": {
      "application/vnd.jupyter.widget-view+json": {
       "model_id": "f92c3298a6514dfcb33e7bf91421a7df",
       "version_major": 2,
       "version_minor": 0
      },
      "text/plain": [
       "  0%|          | 0/2 [00:00<?, ?it/s]"
      ]
     },
     "metadata": {},
     "output_type": "display_data"
    },
    {
     "data": {
      "application/vnd.jupyter.widget-view+json": {
       "model_id": "26d85fe2546a476ca58f594c83d0a93e",
       "version_major": 2,
       "version_minor": 0
      },
      "text/plain": [
       "  0%|          | 0/3 [00:00<?, ?it/s]"
      ]
     },
     "metadata": {},
     "output_type": "display_data"
    },
    {
     "data": {
      "application/vnd.jupyter.widget-view+json": {
       "model_id": "d2905c4a49434083bd7fd74ab619dc88",
       "version_major": 2,
       "version_minor": 0
      },
      "text/plain": [
       "  0%|          | 0/3 [00:00<?, ?it/s]"
      ]
     },
     "metadata": {},
     "output_type": "display_data"
    },
    {
     "data": {
      "application/vnd.jupyter.widget-view+json": {
       "model_id": "4dfea1113860463fb978220e1f2746f0",
       "version_major": 2,
       "version_minor": 0
      },
      "text/plain": [
       "  0%|          | 0/1 [00:00<?, ?it/s]"
      ]
     },
     "metadata": {},
     "output_type": "display_data"
    },
    {
     "data": {
      "application/vnd.jupyter.widget-view+json": {
       "model_id": "79e0681940544be1b25acc7d6249c92b",
       "version_major": 2,
       "version_minor": 0
      },
      "text/plain": [
       "  0%|          | 0/2 [00:00<?, ?it/s]"
      ]
     },
     "metadata": {},
     "output_type": "display_data"
    },
    {
     "data": {
      "application/vnd.jupyter.widget-view+json": {
       "model_id": "6a8d9c60b7c144c9927d3ae1afaa7a87",
       "version_major": 2,
       "version_minor": 0
      },
      "text/plain": [
       "  0%|          | 0/3 [00:00<?, ?it/s]"
      ]
     },
     "metadata": {},
     "output_type": "display_data"
    },
    {
     "data": {
      "application/vnd.jupyter.widget-view+json": {
       "model_id": "4f42e35ac5164a4ca1292423268c2a75",
       "version_major": 2,
       "version_minor": 0
      },
      "text/plain": [
       "  0%|          | 0/3 [00:00<?, ?it/s]"
      ]
     },
     "metadata": {},
     "output_type": "display_data"
    },
    {
     "data": {
      "application/vnd.jupyter.widget-view+json": {
       "model_id": "067b51c9983543af8d2f74e272b40b1b",
       "version_major": 2,
       "version_minor": 0
      },
      "text/plain": [
       "  0%|          | 0/1 [00:00<?, ?it/s]"
      ]
     },
     "metadata": {},
     "output_type": "display_data"
    },
    {
     "data": {
      "application/vnd.jupyter.widget-view+json": {
       "model_id": "b715d953d6bf425c85573788e75bdc68",
       "version_major": 2,
       "version_minor": 0
      },
      "text/plain": [
       "  0%|          | 0/2 [00:00<?, ?it/s]"
      ]
     },
     "metadata": {},
     "output_type": "display_data"
    },
    {
     "data": {
      "application/vnd.jupyter.widget-view+json": {
       "model_id": "a68f1172c35045dfa0bc204539a3c84e",
       "version_major": 2,
       "version_minor": 0
      },
      "text/plain": [
       "  0%|          | 0/1 [00:00<?, ?it/s]"
      ]
     },
     "metadata": {},
     "output_type": "display_data"
    },
    {
     "data": {
      "application/vnd.jupyter.widget-view+json": {
       "model_id": "ee165bd69a02475796581ed66d5ab6f8",
       "version_major": 2,
       "version_minor": 0
      },
      "text/plain": [
       "  0%|          | 0/2 [00:00<?, ?it/s]"
      ]
     },
     "metadata": {},
     "output_type": "display_data"
    },
    {
     "data": {
      "application/vnd.jupyter.widget-view+json": {
       "model_id": "35660b17b76f48228e6b5e6bec9119cf",
       "version_major": 2,
       "version_minor": 0
      },
      "text/plain": [
       "  0%|          | 0/3 [00:00<?, ?it/s]"
      ]
     },
     "metadata": {},
     "output_type": "display_data"
    }
   ],
   "source": [
    "(\n",
    "    seqsignet_network_grp_kfold_20,\n",
    "    best_seqsignet_network_grp_kfold_20,\n",
    "    _,\n",
    "    __,\n",
    ") = seqsignet_hyperparameter_search(\n",
    "    num_epochs=num_epochs,\n",
    "    df=anno_mi,\n",
    "    id_column=\"transcript_id\",\n",
    "    label_column=\"client_talk_type\",\n",
    "    embeddings=sbert_embeddings,\n",
    "    y_data=y_data_client,\n",
    "    output_dim=output_dim_client,\n",
    "    shift=shift,\n",
    "    window_size=window_size,\n",
    "    n=n,\n",
    "    dim_reduce_methods=[\"gaussian_random_projection\"],\n",
    "    dimensions=dimensions,\n",
    "    log_signature=True,\n",
    "    swnu_hidden_dim_sizes_and_sig_depths=swnu_hidden_dim_sizes_and_sig_depths,\n",
    "    lstm_hidden_dim_sizes=lstm_hidden_dim_sizes,\n",
    "    ffn_hidden_dim_sizes=ffn_hidden_dim_sizes,\n",
    "    dropout_rates=dropout_rates,\n",
    "    learning_rates=learning_rates,\n",
    "    BiLSTM=True,\n",
    "    seeds=seeds,\n",
    "    loss=loss,\n",
    "    gamma=gamma,\n",
    "    device=device,\n",
    "    features=features,\n",
    "    standardise_method=standardise_method,\n",
    "    include_features_in_path=include_features_in_path,\n",
    "    include_features_in_input=include_features_in_input,\n",
    "    path_indices=client_index,\n",
    "    k_fold=True,\n",
    "    patience=patience,\n",
    "    split_ids=client_transcript_id,\n",
    "    validation_metric=validation_metric,\n",
    "    results_output=f\"{output_dir}/seqsignet_grp_focal_{gamma}_{shift}_{window_size}_{n}_kfold.csv\",\n",
    "    verbose=False,\n",
    ")"
   ]
  },
  {
   "cell_type": "code",
   "execution_count": null,
   "id": "f3298f8c",
   "metadata": {},
   "outputs": [],
   "source": [
    "seqsignet_network_grp_kfold_20"
   ]
  },
  {
   "cell_type": "code",
   "execution_count": null,
   "id": "3a8e5ddb",
   "metadata": {},
   "outputs": [],
   "source": [
    "best_seqsignet_network_grp_kfold_20[\"f1\"].mean()"
   ]
  },
  {
   "cell_type": "code",
   "execution_count": null,
   "id": "9128727b",
   "metadata": {},
   "outputs": [],
   "source": [
    "best_seqsignet_network_grp_kfold_20[\"precision\"].mean()"
   ]
  },
  {
   "cell_type": "code",
   "execution_count": null,
   "id": "f6c7ed11",
   "metadata": {},
   "outputs": [],
   "source": [
    "best_seqsignet_network_grp_kfold_20[\"recall\"].mean()"
   ]
  },
  {
   "cell_type": "code",
   "execution_count": null,
   "id": "068fb365",
   "metadata": {},
   "outputs": [],
   "source": [
    "np.stack(best_seqsignet_network_grp_kfold_20[\"f1_scores\"]).mean(axis=0)"
   ]
  },
  {
   "cell_type": "code",
   "execution_count": null,
   "id": "778a6031",
   "metadata": {},
   "outputs": [],
   "source": [
    "np.stack(best_seqsignet_network_grp_kfold_20[\"precision_scores\"]).mean(axis=0)"
   ]
  },
  {
   "cell_type": "code",
   "execution_count": null,
   "id": "be4101c4",
   "metadata": {},
   "outputs": [],
   "source": [
    "np.stack(best_seqsignet_network_grp_kfold_20[\"recall_scores\"]).mean(axis=0)"
   ]
  },
  {
   "cell_type": "markdown",
   "id": "179dbb85-f360-4c16-a852-fb32cc0e01d6",
   "metadata": {},
   "source": [
    "# history_length=35"
   ]
  },
  {
   "cell_type": "code",
   "execution_count": null,
   "id": "af118561-2837-4bbb-b2df-59535f5e77be",
   "metadata": {},
   "outputs": [],
   "source": [
    "shift = 3\n",
    "window_size = 5\n",
    "n = 11"
   ]
  },
  {
   "cell_type": "code",
   "execution_count": null,
   "id": "9f88d24b-150e-44d2-8de8-63a823df9963",
   "metadata": {},
   "outputs": [],
   "source": [
    "(\n",
    "    seqsignet_network_umap_kfold_35,\n",
    "    best_seqsignet_network_umap_kfold_35,\n",
    "    _,\n",
    "    __,\n",
    ") = seqsignet_hyperparameter_search(\n",
    "    num_epochs=num_epochs,\n",
    "    df=anno_mi,\n",
    "    id_column=\"transcript_id\",\n",
    "    label_column=\"client_talk_type\",\n",
    "    embeddings=sbert_embeddings,\n",
    "    y_data=y_data_client,\n",
    "    output_dim=output_dim_client,\n",
    "    shift=shift,\n",
    "    window_size=window_size,\n",
    "    n=n,\n",
    "    dim_reduce_methods=[\"umap\"],\n",
    "    dimensions=dimensions,\n",
    "    log_signature=True,\n",
    "    swnu_hidden_dim_sizes_and_sig_depths=swnu_hidden_dim_sizes_and_sig_depths,\n",
    "    lstm_hidden_dim_sizes=lstm_hidden_dim_sizes,\n",
    "    ffn_hidden_dim_sizes=ffn_hidden_dim_sizes,\n",
    "    dropout_rates=dropout_rates,\n",
    "    learning_rates=learning_rates,\n",
    "    BiLSTM=True,\n",
    "    seeds=seeds,\n",
    "    loss=loss,\n",
    "    gamma=gamma,\n",
    "    device=device,\n",
    "    features=features,\n",
    "    standardise_method=standardise_method,\n",
    "    include_features_in_path=include_features_in_path,\n",
    "    include_features_in_input=include_features_in_input,\n",
    "    path_indices=client_index,\n",
    "    split_ids=client_transcript_id,\n",
    "    k_fold=True,\n",
    "    patience=patience,\n",
    "    validation_metric=validation_metric,\n",
    "    results_output=f\"{output_dir}/seqsignet_umap_focal_{gamma}_{shift}_{window_size}_{n}_kfold.csv\",\n",
    "    verbose=False,\n",
    ")"
   ]
  },
  {
   "cell_type": "code",
   "execution_count": null,
   "id": "ba6da5ed-70bd-44e7-a693-9ed76551bc36",
   "metadata": {},
   "outputs": [],
   "source": [
    "seqsignet_network_umap_kfold_35"
   ]
  },
  {
   "cell_type": "code",
   "execution_count": null,
   "id": "9412b03d-b3b0-42c8-863e-f3093c1836c6",
   "metadata": {},
   "outputs": [],
   "source": [
    "best_seqsignet_network_umap_kfold_35[\"f1\"].mean()"
   ]
  },
  {
   "cell_type": "code",
   "execution_count": null,
   "id": "bdd71a23-3015-4f44-bec5-f889b061d685",
   "metadata": {},
   "outputs": [],
   "source": [
    "best_seqsignet_network_umap_kfold_35[\"precision\"].mean()"
   ]
  },
  {
   "cell_type": "code",
   "execution_count": null,
   "id": "2912d6da-5816-4665-89dc-fca245c067f3",
   "metadata": {},
   "outputs": [],
   "source": [
    "best_seqsignet_network_umap_kfold_35[\"recall\"].mean()"
   ]
  },
  {
   "cell_type": "code",
   "execution_count": null,
   "id": "3a6b34c4-92bb-497f-88d4-79a27b108c84",
   "metadata": {},
   "outputs": [],
   "source": [
    "np.stack(best_seqsignet_network_umap_kfold_35[\"f1_scores\"]).mean(axis=0)"
   ]
  },
  {
   "cell_type": "code",
   "execution_count": null,
   "id": "dfff40bf-1848-4450-8cf5-8f64abc09c40",
   "metadata": {},
   "outputs": [],
   "source": [
    "np.stack(best_seqsignet_network_umap_kfold_35[\"precision_scores\"]).mean(axis=0)"
   ]
  },
  {
   "cell_type": "code",
   "execution_count": null,
   "id": "a8d4e5a1-8463-4fd9-8a7f-8defe837d4e0",
   "metadata": {},
   "outputs": [],
   "source": [
    "np.stack(best_seqsignet_network_umap_kfold_35[\"recall_scores\"]).mean(axis=0)"
   ]
  },
  {
   "cell_type": "markdown",
   "id": "e112ad11-eb64-430b-82b4-1f139e5ea966",
   "metadata": {},
   "source": [
    "## GRP"
   ]
  },
  {
   "cell_type": "code",
   "execution_count": null,
   "id": "fd91977a-283f-4a43-b64c-63cba9cefb04",
   "metadata": {},
   "outputs": [],
   "source": [
    "(\n",
    "    seqsignet_network_grp_kfold_35,\n",
    "    best_seqsignet_network_grp_kfold_35,\n",
    "    _,\n",
    "    __,\n",
    ") = seqsignet_hyperparameter_search(\n",
    "    num_epochs=num_epochs,\n",
    "    df=anno_mi,\n",
    "    id_column=\"transcript_id\",\n",
    "    label_column=\"client_talk_type\",\n",
    "    embeddings=sbert_embeddings,\n",
    "    y_data=y_data_client,\n",
    "    output_dim=output_dim_client,\n",
    "    shift=shift,\n",
    "    window_size=window_size,\n",
    "    n=n,\n",
    "    dim_reduce_methods=[\"gaussian_random_projection\"],\n",
    "    dimensions=dimensions,\n",
    "    log_signature=True,\n",
    "    swnu_hidden_dim_sizes_and_sig_depths=swnu_hidden_dim_sizes_and_sig_depths,\n",
    "    lstm_hidden_dim_sizes=lstm_hidden_dim_sizes,\n",
    "    ffn_hidden_dim_sizes=ffn_hidden_dim_sizes,\n",
    "    dropout_rates=dropout_rates,\n",
    "    learning_rates=learning_rates,\n",
    "    BiLSTM=True,\n",
    "    seeds=seeds,\n",
    "    loss=loss,\n",
    "    gamma=gamma,\n",
    "    device=device,\n",
    "    features=features,\n",
    "    standardise_method=standardise_method,\n",
    "    include_features_in_path=include_features_in_path,\n",
    "    include_features_in_input=include_features_in_input,\n",
    "    path_indices=client_index,\n",
    "    k_fold=True,\n",
    "    patience=patience,\n",
    "    split_ids=client_transcript_id,\n",
    "    validation_metric=validation_metric,\n",
    "    results_output=f\"{output_dir}/seqsignet_grp_focal_{gamma}_{shift}_{window_size}_{n}_kfold.csv\",\n",
    "    verbose=False,\n",
    ")"
   ]
  },
  {
   "cell_type": "code",
   "execution_count": null,
   "id": "a9f88aff-06c9-406b-96ed-47e372ac74a8",
   "metadata": {},
   "outputs": [],
   "source": [
    "seqsignet_network_grp_kfold_35"
   ]
  },
  {
   "cell_type": "code",
   "execution_count": null,
   "id": "db6dc8c8-28ef-4f8b-a371-4c7fb004ba85",
   "metadata": {},
   "outputs": [],
   "source": [
    "best_seqsignet_network_grp_kfold_35[\"f1\"].mean()"
   ]
  },
  {
   "cell_type": "code",
   "execution_count": null,
   "id": "5943b90f-b486-442f-9507-afca813c2d1e",
   "metadata": {},
   "outputs": [],
   "source": [
    "best_seqsignet_network_grp_kfold_35[\"precision\"].mean()"
   ]
  },
  {
   "cell_type": "code",
   "execution_count": null,
   "id": "fac42ec4-794d-452a-a26f-a33f38300957",
   "metadata": {},
   "outputs": [],
   "source": [
    "best_seqsignet_network_grp_kfold_35[\"recall\"].mean()"
   ]
  },
  {
   "cell_type": "code",
   "execution_count": null,
   "id": "6e41ae89-f184-4318-93c6-61b9bda05133",
   "metadata": {},
   "outputs": [],
   "source": [
    "np.stack(best_seqsignet_network_grp_kfold_35[\"f1_scores\"]).mean(axis=0)"
   ]
  },
  {
   "cell_type": "code",
   "execution_count": null,
   "id": "7aeeb599-9de6-411e-bd82-83c451b007f7",
   "metadata": {},
   "outputs": [],
   "source": [
    "np.stack(best_seqsignet_network_grp_kfold_35[\"precision_scores\"]).mean(axis=0)"
   ]
  },
  {
   "cell_type": "code",
   "execution_count": null,
   "id": "d1ea4021-566e-491b-a6d1-d17745b193f9",
   "metadata": {},
   "outputs": [],
   "source": [
    "np.stack(best_seqsignet_network_grp_kfold_35[\"recall_scores\"]).mean(axis=0)"
   ]
  }
 ],
 "metadata": {
  "kernelspec": {
   "display_name": "nlpsig-networks (Conda)",
   "language": "python",
   "name": "sys_nlpsig-networks"
  },
  "language_info": {
   "codemirror_mode": {
    "name": "ipython",
    "version": 3
   },
   "file_extension": ".py",
   "mimetype": "text/x-python",
   "name": "python",
   "nbconvert_exporter": "python",
   "pygments_lexer": "ipython3",
   "version": "3.8.17"
  }
 },
 "nbformat": 4,
 "nbformat_minor": 5
}
