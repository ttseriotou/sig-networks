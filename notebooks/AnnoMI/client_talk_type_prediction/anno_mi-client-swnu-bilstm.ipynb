{
 "cells": [
  {
   "cell_type": "code",
   "execution_count": 1,
   "id": "a983a5e8",
   "metadata": {},
   "outputs": [],
   "source": [
    "import numpy as np\n",
    "import pickle\n",
    "import os\n",
    "\n",
    "seed = 2023"
   ]
  },
  {
   "cell_type": "code",
   "execution_count": 2,
   "id": "a9df37a5",
   "metadata": {},
   "outputs": [],
   "source": [
    "from nlpsig_networks.scripts.seqsignet_functions import (\n",
    "    seqsignet_hyperparameter_search\n",
    ")"
   ]
  },
  {
   "cell_type": "code",
   "execution_count": 3,
   "id": "6e918dde",
   "metadata": {},
   "outputs": [],
   "source": [
    "output_dir = \"client_talk_type_output\"\n",
    "if not os.path.isdir(output_dir):\n",
    "    os.makedirs(output_dir)"
   ]
  },
  {
   "cell_type": "markdown",
   "id": "f7409a03",
   "metadata": {},
   "source": [
    "## AnnoMI"
   ]
  },
  {
   "cell_type": "code",
   "execution_count": 4,
   "id": "f00bb922",
   "metadata": {},
   "outputs": [],
   "source": [
    "%run ../load_anno_mi.py"
   ]
  },
  {
   "cell_type": "code",
   "execution_count": 5,
   "id": "720d820f",
   "metadata": {},
   "outputs": [
    {
     "data": {
      "text/html": [
       "<div>\n",
       "<style scoped>\n",
       "    .dataframe tbody tr th:only-of-type {\n",
       "        vertical-align: middle;\n",
       "    }\n",
       "\n",
       "    .dataframe tbody tr th {\n",
       "        vertical-align: top;\n",
       "    }\n",
       "\n",
       "    .dataframe thead th {\n",
       "        text-align: right;\n",
       "    }\n",
       "</style>\n",
       "<table border=\"1\" class=\"dataframe\">\n",
       "  <thead>\n",
       "    <tr style=\"text-align: right;\">\n",
       "      <th></th>\n",
       "      <th>mi_quality</th>\n",
       "      <th>transcript_id</th>\n",
       "      <th>topic</th>\n",
       "      <th>utterance_id</th>\n",
       "      <th>interlocutor</th>\n",
       "      <th>timestamp</th>\n",
       "      <th>utterance_text</th>\n",
       "      <th>annotator_id</th>\n",
       "      <th>therapist_input_exists</th>\n",
       "      <th>therapist_input_subtype</th>\n",
       "      <th>reflection_exists</th>\n",
       "      <th>reflection_subtype</th>\n",
       "      <th>question_exists</th>\n",
       "      <th>question_subtype</th>\n",
       "      <th>main_therapist_behaviour</th>\n",
       "      <th>client_talk_type</th>\n",
       "      <th>datetime</th>\n",
       "    </tr>\n",
       "  </thead>\n",
       "  <tbody>\n",
       "    <tr>\n",
       "      <th>0</th>\n",
       "      <td>high</td>\n",
       "      <td>0</td>\n",
       "      <td>reducing alcohol consumption</td>\n",
       "      <td>0</td>\n",
       "      <td>therapist</td>\n",
       "      <td>00:00:13</td>\n",
       "      <td>Thanks for filling it out. We give this form t...</td>\n",
       "      <td>3</td>\n",
       "      <td>False</td>\n",
       "      <td>NaN</td>\n",
       "      <td>False</td>\n",
       "      <td>NaN</td>\n",
       "      <td>True</td>\n",
       "      <td>open</td>\n",
       "      <td>question</td>\n",
       "      <td>NaN</td>\n",
       "      <td>2023-07-14 00:00:13</td>\n",
       "    </tr>\n",
       "    <tr>\n",
       "      <th>1</th>\n",
       "      <td>high</td>\n",
       "      <td>0</td>\n",
       "      <td>reducing alcohol consumption</td>\n",
       "      <td>1</td>\n",
       "      <td>client</td>\n",
       "      <td>00:00:24</td>\n",
       "      <td>Sure.</td>\n",
       "      <td>3</td>\n",
       "      <td>NaN</td>\n",
       "      <td>NaN</td>\n",
       "      <td>NaN</td>\n",
       "      <td>NaN</td>\n",
       "      <td>NaN</td>\n",
       "      <td>NaN</td>\n",
       "      <td>NaN</td>\n",
       "      <td>neutral</td>\n",
       "      <td>2023-07-14 00:00:24</td>\n",
       "    </tr>\n",
       "    <tr>\n",
       "      <th>2</th>\n",
       "      <td>high</td>\n",
       "      <td>0</td>\n",
       "      <td>reducing alcohol consumption</td>\n",
       "      <td>2</td>\n",
       "      <td>therapist</td>\n",
       "      <td>00:00:25</td>\n",
       "      <td>So, let's see. It looks that you put-- You dri...</td>\n",
       "      <td>3</td>\n",
       "      <td>True</td>\n",
       "      <td>information</td>\n",
       "      <td>False</td>\n",
       "      <td>NaN</td>\n",
       "      <td>False</td>\n",
       "      <td>NaN</td>\n",
       "      <td>therapist_input</td>\n",
       "      <td>NaN</td>\n",
       "      <td>2023-07-14 00:00:25</td>\n",
       "    </tr>\n",
       "    <tr>\n",
       "      <th>3</th>\n",
       "      <td>high</td>\n",
       "      <td>0</td>\n",
       "      <td>reducing alcohol consumption</td>\n",
       "      <td>3</td>\n",
       "      <td>client</td>\n",
       "      <td>00:00:34</td>\n",
       "      <td>Mm-hmm.</td>\n",
       "      <td>3</td>\n",
       "      <td>NaN</td>\n",
       "      <td>NaN</td>\n",
       "      <td>NaN</td>\n",
       "      <td>NaN</td>\n",
       "      <td>NaN</td>\n",
       "      <td>NaN</td>\n",
       "      <td>NaN</td>\n",
       "      <td>neutral</td>\n",
       "      <td>2023-07-14 00:00:34</td>\n",
       "    </tr>\n",
       "    <tr>\n",
       "      <th>4</th>\n",
       "      <td>high</td>\n",
       "      <td>0</td>\n",
       "      <td>reducing alcohol consumption</td>\n",
       "      <td>4</td>\n",
       "      <td>therapist</td>\n",
       "      <td>00:00:34</td>\n",
       "      <td>-and you usually have three to four drinks whe...</td>\n",
       "      <td>3</td>\n",
       "      <td>True</td>\n",
       "      <td>information</td>\n",
       "      <td>False</td>\n",
       "      <td>NaN</td>\n",
       "      <td>False</td>\n",
       "      <td>NaN</td>\n",
       "      <td>therapist_input</td>\n",
       "      <td>NaN</td>\n",
       "      <td>2023-07-14 00:00:34</td>\n",
       "    </tr>\n",
       "  </tbody>\n",
       "</table>\n",
       "</div>"
      ],
      "text/plain": [
       "  mi_quality  transcript_id                         topic  utterance_id  \\\n",
       "0       high              0  reducing alcohol consumption             0   \n",
       "1       high              0  reducing alcohol consumption             1   \n",
       "2       high              0  reducing alcohol consumption             2   \n",
       "3       high              0  reducing alcohol consumption             3   \n",
       "4       high              0  reducing alcohol consumption             4   \n",
       "\n",
       "  interlocutor timestamp                                     utterance_text  \\\n",
       "0    therapist  00:00:13  Thanks for filling it out. We give this form t...   \n",
       "1       client  00:00:24                                              Sure.   \n",
       "2    therapist  00:00:25  So, let's see. It looks that you put-- You dri...   \n",
       "3       client  00:00:34                                            Mm-hmm.   \n",
       "4    therapist  00:00:34  -and you usually have three to four drinks whe...   \n",
       "\n",
       "   annotator_id therapist_input_exists therapist_input_subtype  \\\n",
       "0             3                  False                     NaN   \n",
       "1             3                    NaN                     NaN   \n",
       "2             3                   True             information   \n",
       "3             3                    NaN                     NaN   \n",
       "4             3                   True             information   \n",
       "\n",
       "  reflection_exists reflection_subtype question_exists question_subtype  \\\n",
       "0             False                NaN            True             open   \n",
       "1               NaN                NaN             NaN              NaN   \n",
       "2             False                NaN           False              NaN   \n",
       "3               NaN                NaN             NaN              NaN   \n",
       "4             False                NaN           False              NaN   \n",
       "\n",
       "  main_therapist_behaviour client_talk_type            datetime  \n",
       "0                 question              NaN 2023-07-14 00:00:13  \n",
       "1                      NaN          neutral 2023-07-14 00:00:24  \n",
       "2          therapist_input              NaN 2023-07-14 00:00:25  \n",
       "3                      NaN          neutral 2023-07-14 00:00:34  \n",
       "4          therapist_input              NaN 2023-07-14 00:00:34  "
      ]
     },
     "execution_count": 5,
     "metadata": {},
     "output_type": "execute_result"
    }
   ],
   "source": [
    "anno_mi.head()"
   ]
  },
  {
   "cell_type": "code",
   "execution_count": 6,
   "id": "84d5594d",
   "metadata": {},
   "outputs": [
    {
     "data": {
      "text/plain": [
       "(13551, 384)"
      ]
     },
     "execution_count": 6,
     "metadata": {},
     "output_type": "execute_result"
    }
   ],
   "source": [
    "with open(\"../anno_mi_sbert.pkl\", \"rb\") as f:\n",
    "    sbert_embeddings = pickle.load(f)\n",
    "    \n",
    "sbert_embeddings.shape"
   ]
  },
  {
   "cell_type": "code",
   "execution_count": 7,
   "id": "4daab8de",
   "metadata": {},
   "outputs": [],
   "source": [
    "time_features = [\"time_encoding\", \"timeline_index\"]\n",
    "standardise_method = [\"minmax\", None]\n",
    "num_time_features = len(time_features)\n",
    "add_time_in_path = True"
   ]
  },
  {
   "cell_type": "code",
   "execution_count": 8,
   "id": "97b62255",
   "metadata": {},
   "outputs": [],
   "source": [
    "num_epochs = 100\n",
    "embedding_dim = 384\n",
    "dimensions = [15] # [50, 15]\n",
    "conv_output_channels = [12]#, 10]\n",
    "swnu_hidden_dim_sizes_and_sig_depths = [([12], 3)]#, ([10], 3), ([10], 4)]\n",
    "lstm_hidden_dim_sizes = [300] # [200, 300]\n",
    "ffn_hidden_dim_sizes = [[512,512]] # [[64,64],[256,256],[512,512]]\n",
    "dropout_rates = [0.2, 0.1] # [0.5, 0.2, 0.1]\n",
    "learning_rates = [1e-3, 1e-4, 5e-4]\n",
    "seeds = [0, 1]#, 12, 123, 1234]\n",
    "loss = \"focal\"\n",
    "gamma = 2\n",
    "validation_metric = \"f1\"\n",
    "patience = 5"
   ]
  },
  {
   "cell_type": "code",
   "execution_count": 9,
   "id": "506b690c",
   "metadata": {},
   "outputs": [],
   "source": [
    "shift = 3\n",
    "window_size = 5\n",
    "n = 6"
   ]
  },
  {
   "cell_type": "code",
   "execution_count": 10,
   "id": "238d506a",
   "metadata": {
    "scrolled": false
   },
   "outputs": [
    {
     "data": {
      "application/vnd.jupyter.widget-view+json": {
       "model_id": "cdcd6564e65248658de631576804fc5e",
       "version_major": 2,
       "version_minor": 0
      },
      "text/plain": [
       "  0%|          | 0/1 [00:00<?, ?it/s]"
      ]
     },
     "metadata": {},
     "output_type": "display_data"
    },
    {
     "data": {
      "application/vnd.jupyter.widget-view+json": {
       "model_id": "c28462983e2540b6bbc6c6472a988fe7",
       "version_major": 2,
       "version_minor": 0
      },
      "text/plain": [
       "  0%|          | 0/1 [00:00<?, ?it/s]"
      ]
     },
     "metadata": {},
     "output_type": "display_data"
    },
    {
     "name": "stdout",
     "output_type": "stream",
     "text": [
      "\n",
      "##################################################\n",
      "dimension: 15 | method: umap\n",
      "given shift 3, window size 5 and n 6: history length = 20\n",
      "[INFO] Concatenating the embeddings to the dataframe...\n",
      "[INFO] - columns beginning with 'e' denote the full embddings.\n",
      "[INFO] - columns beginning with 'd' denote the dimension reduced embeddings.\n",
      "[INFO] Adding time feature columns into dataframe in `.df`.\n",
      "[INFO] Adding 'time_encoding' and feature...\n",
      "[INFO] Adding 'time_diff' and feature...\n",
      "[INFO] Adding 'timeline_index' feature...\n",
      "[INFO] Padding ids and storing in `.df_padded` and `.array_padded` attributes.\n"
     ]
    },
    {
     "data": {
      "application/vnd.jupyter.widget-view+json": {
       "model_id": "72e949eb78c542eb82c4b9173a3ef2f1",
       "version_major": 2,
       "version_minor": 0
      },
      "text/plain": [
       "  0%|          | 0/13551 [00:00<?, ?it/s]"
      ]
     },
     "metadata": {},
     "output_type": "display_data"
    },
    {
     "name": "stdout",
     "output_type": "stream",
     "text": [
      "[INFO] The path was created for each item in the dataframe, by looking at its history, so to include embeddings in the FFN input, we concatenate the embeddings for each sentence / text.\n"
     ]
    },
    {
     "data": {
      "application/vnd.jupyter.widget-view+json": {
       "model_id": "713c8904d8694552b7c653a77c487b57",
       "version_major": 2,
       "version_minor": 0
      },
      "text/plain": [
       "  0%|          | 0/1 [00:00<?, ?it/s]"
      ]
     },
     "metadata": {},
     "output_type": "display_data"
    },
    {
     "data": {
      "application/vnd.jupyter.widget-view+json": {
       "model_id": "5741201080574046b2a6ac382f96a891",
       "version_major": 2,
       "version_minor": 0
      },
      "text/plain": [
       "  0%|          | 0/1 [00:00<?, ?it/s]"
      ]
     },
     "metadata": {},
     "output_type": "display_data"
    },
    {
     "data": {
      "application/vnd.jupyter.widget-view+json": {
       "model_id": "240f6596075348c2b41403ad619bfdcd",
       "version_major": 2,
       "version_minor": 0
      },
      "text/plain": [
       "  0%|          | 0/1 [00:00<?, ?it/s]"
      ]
     },
     "metadata": {},
     "output_type": "display_data"
    },
    {
     "data": {
      "application/vnd.jupyter.widget-view+json": {
       "model_id": "ae6feda08884421eb0f2919cb16f8917",
       "version_major": 2,
       "version_minor": 0
      },
      "text/plain": [
       "  0%|          | 0/1 [00:00<?, ?it/s]"
      ]
     },
     "metadata": {},
     "output_type": "display_data"
    },
    {
     "data": {
      "application/vnd.jupyter.widget-view+json": {
       "model_id": "25beace9cffe408d9455e1a0028328c4",
       "version_major": 2,
       "version_minor": 0
      },
      "text/plain": [
       "  0%|          | 0/2 [00:00<?, ?it/s]"
      ]
     },
     "metadata": {},
     "output_type": "display_data"
    },
    {
     "data": {
      "application/vnd.jupyter.widget-view+json": {
       "model_id": "863db214cfd34151b14d52016e9b68f5",
       "version_major": 2,
       "version_minor": 0
      },
      "text/plain": [
       "  0%|          | 0/3 [00:00<?, ?it/s]"
      ]
     },
     "metadata": {},
     "output_type": "display_data"
    },
    {
     "data": {
      "application/vnd.jupyter.widget-view+json": {
       "model_id": "48ef34e4ae8746f4b68c8dec9a6d09fd",
       "version_major": 2,
       "version_minor": 0
      },
      "text/plain": [
       "  0%|          | 0/3 [00:00<?, ?it/s]"
      ]
     },
     "metadata": {},
     "output_type": "display_data"
    },
    {
     "name": "stdout",
     "output_type": "stream",
     "text": [
      "given shift 3, window size 5 and n 6: history length = 20\n",
      "[INFO] Concatenating the embeddings to the dataframe...\n",
      "[INFO] - columns beginning with 'e' denote the full embddings.\n",
      "[INFO] - columns beginning with 'd' denote the dimension reduced embeddings.\n",
      "[INFO] Adding time feature columns into dataframe in `.df`.\n",
      "[INFO] Adding 'time_encoding' and feature...\n",
      "[INFO] Adding 'time_diff' and feature...\n",
      "[INFO] Adding 'timeline_index' feature...\n",
      "[INFO] Padding ids and storing in `.df_padded` and `.array_padded` attributes.\n"
     ]
    },
    {
     "data": {
      "application/vnd.jupyter.widget-view+json": {
       "model_id": "bc17c4dbf47c46608e35e1e61c5b6284",
       "version_major": 2,
       "version_minor": 0
      },
      "text/plain": [
       "  0%|          | 0/13551 [00:00<?, ?it/s]"
      ]
     },
     "metadata": {},
     "output_type": "display_data"
    },
    {
     "name": "stdout",
     "output_type": "stream",
     "text": [
      "[INFO] The path was created for each item in the dataframe, by looking at its history, so to include embeddings in the FFN input, we concatenate the embeddings for each sentence / text.\n",
      "saving results dataframe to CSV for this hyperparameter search in client_talk_type_output/seqsignet_umap_focal_2_20_kfold.csv\n"
     ]
    }
   ],
   "source": [
    "size = 20\n",
    "seqsignet_network_umap_kfold_20, best_seqsignet_network_umap_kfold_20, _, __ = seqsignet_hyperparameter_search(\n",
    "    num_epochs=num_epochs,\n",
    "    df=anno_mi,\n",
    "    id_column=\"transcript_id\",\n",
    "    label_column=\"client_talk_type\",\n",
    "    embeddings=sbert_embeddings,\n",
    "    y_data=y_data_client,\n",
    "    embedding_dim=embedding_dim,\n",
    "    output_dim=output_dim_client,\n",
    "    shift=shift,\n",
    "    window_size=window_size,\n",
    "    n=n,\n",
    "    dim_reduce_methods=[\"umap\"],\n",
    "    dimensions=dimensions,\n",
    "    log_signature=True,\n",
    "    conv_output_channels=conv_output_channels,\n",
    "    swnu_hidden_dim_sizes_and_sig_depths=swnu_hidden_dim_sizes_and_sig_depths,\n",
    "    lstm_hidden_dim_sizes=lstm_hidden_dim_sizes,\n",
    "    ffn_hidden_dim_sizes=ffn_hidden_dim_sizes,\n",
    "    dropout_rates=dropout_rates,\n",
    "    learning_rates=learning_rates,\n",
    "    BiLSTM=False,\n",
    "    seeds=seeds,\n",
    "    loss=loss,\n",
    "    gamma=gamma,\n",
    "    time_feature=time_features,\n",
    "    standardise_method=standardise_method,\n",
    "    add_time_in_path=add_time_in_path,\n",
    "    path_indices=client_index,\n",
    "    k_fold=True,\n",
    "    patience=patience,\n",
    "    validation_metric=validation_metric,\n",
    "    results_output=f\"{output_dir}/seqsignet_umap_focal_{gamma}_{size}_kfold.csv\",\n",
    "    verbose=False\n",
    ")"
   ]
  },
  {
   "cell_type": "code",
   "execution_count": 12,
   "id": "bf245316",
   "metadata": {},
   "outputs": [
    {
     "data": {
      "text/html": [
       "<div>\n",
       "<style scoped>\n",
       "    .dataframe tbody tr th:only-of-type {\n",
       "        vertical-align: middle;\n",
       "    }\n",
       "\n",
       "    .dataframe tbody tr th {\n",
       "        vertical-align: top;\n",
       "    }\n",
       "\n",
       "    .dataframe thead th {\n",
       "        text-align: right;\n",
       "    }\n",
       "</style>\n",
       "<table border=\"1\" class=\"dataframe\">\n",
       "  <thead>\n",
       "    <tr style=\"text-align: right;\">\n",
       "      <th></th>\n",
       "      <th>loss</th>\n",
       "      <th>accuracy</th>\n",
       "      <th>f1</th>\n",
       "      <th>f1_scores</th>\n",
       "      <th>precision</th>\n",
       "      <th>precision_scores</th>\n",
       "      <th>recall</th>\n",
       "      <th>recall_scores</th>\n",
       "      <th>valid_loss</th>\n",
       "      <th>valid_accuracy</th>\n",
       "      <th>...</th>\n",
       "      <th>BiLSTM</th>\n",
       "      <th>loss_function</th>\n",
       "      <th>gamma</th>\n",
       "      <th>k_fold</th>\n",
       "      <th>n_splits</th>\n",
       "      <th>augmentation_type</th>\n",
       "      <th>hidden_dim_aug</th>\n",
       "      <th>comb_method</th>\n",
       "      <th>batch_size</th>\n",
       "      <th>model_id</th>\n",
       "    </tr>\n",
       "  </thead>\n",
       "  <tbody>\n",
       "    <tr>\n",
       "      <th>0</th>\n",
       "      <td>None</td>\n",
       "      <td>0.625576</td>\n",
       "      <td>0.513856</td>\n",
       "      <td>[0.7521683820978374, 0.4063745019920319, 0.383...</td>\n",
       "      <td>0.516705</td>\n",
       "      <td>[0.7340857787810384, 0.45535714285714285, 0.36...</td>\n",
       "      <td>0.515468</td>\n",
       "      <td>[0.7711643348351909, 0.3669064748201439, 0.408...</td>\n",
       "      <td>None</td>\n",
       "      <td>0.630405</td>\n",
       "      <td>...</td>\n",
       "      <td>False</td>\n",
       "      <td>focal</td>\n",
       "      <td>2</td>\n",
       "      <td>True</td>\n",
       "      <td>5</td>\n",
       "      <td>Conv1d</td>\n",
       "      <td>None</td>\n",
       "      <td>concatenation</td>\n",
       "      <td>64</td>\n",
       "      <td>0</td>\n",
       "    </tr>\n",
       "    <tr>\n",
       "      <th>0</th>\n",
       "      <td>None</td>\n",
       "      <td>0.641041</td>\n",
       "      <td>0.482950</td>\n",
       "      <td>[0.7756458355665129, 0.33561123766135154, 0.33...</td>\n",
       "      <td>0.517749</td>\n",
       "      <td>[0.7077464788732394, 0.4575569358178054, 0.387...</td>\n",
       "      <td>0.473918</td>\n",
       "      <td>[0.8579558928147972, 0.26498800959232616, 0.29...</td>\n",
       "      <td>None</td>\n",
       "      <td>0.644932</td>\n",
       "      <td>...</td>\n",
       "      <td>False</td>\n",
       "      <td>focal</td>\n",
       "      <td>2</td>\n",
       "      <td>True</td>\n",
       "      <td>5</td>\n",
       "      <td>Conv1d</td>\n",
       "      <td>None</td>\n",
       "      <td>concatenation</td>\n",
       "      <td>64</td>\n",
       "      <td>0</td>\n",
       "    </tr>\n",
       "    <tr>\n",
       "      <th>0</th>\n",
       "      <td>None</td>\n",
       "      <td>0.654721</td>\n",
       "      <td>0.533085</td>\n",
       "      <td>[0.7814494074749316, 0.4336254462836741, 0.384...</td>\n",
       "      <td>0.543755</td>\n",
       "      <td>[0.7521386268918623, 0.4727530077848549, 0.406...</td>\n",
       "      <td>0.525968</td>\n",
       "      <td>[0.8131373013990989, 0.40047961630695444, 0.36...</td>\n",
       "      <td>None</td>\n",
       "      <td>0.654842</td>\n",
       "      <td>...</td>\n",
       "      <td>False</td>\n",
       "      <td>focal</td>\n",
       "      <td>2</td>\n",
       "      <td>True</td>\n",
       "      <td>5</td>\n",
       "      <td>Conv1d</td>\n",
       "      <td>None</td>\n",
       "      <td>concatenation</td>\n",
       "      <td>64</td>\n",
       "      <td>1</td>\n",
       "    </tr>\n",
       "    <tr>\n",
       "      <th>0</th>\n",
       "      <td>None</td>\n",
       "      <td>0.656952</td>\n",
       "      <td>0.541935</td>\n",
       "      <td>[0.7813284638210454, 0.4308420696652012, 0.413...</td>\n",
       "      <td>0.549704</td>\n",
       "      <td>[0.7531353135313531, 0.49418153607447635, 0.40...</td>\n",
       "      <td>0.539933</td>\n",
       "      <td>[0.8117144889732038, 0.38189448441247004, 0.42...</td>\n",
       "      <td>None</td>\n",
       "      <td>0.660248</td>\n",
       "      <td>...</td>\n",
       "      <td>False</td>\n",
       "      <td>focal</td>\n",
       "      <td>2</td>\n",
       "      <td>True</td>\n",
       "      <td>5</td>\n",
       "      <td>Conv1d</td>\n",
       "      <td>None</td>\n",
       "      <td>concatenation</td>\n",
       "      <td>64</td>\n",
       "      <td>1</td>\n",
       "    </tr>\n",
       "    <tr>\n",
       "      <th>0</th>\n",
       "      <td>None</td>\n",
       "      <td>0.624981</td>\n",
       "      <td>0.535579</td>\n",
       "      <td>[0.7397124442240952, 0.48173636844891476, 0.38...</td>\n",
       "      <td>0.536865</td>\n",
       "      <td>[0.7748636717735653, 0.4312796208530806, 0.404...</td>\n",
       "      <td>0.540344</td>\n",
       "      <td>[0.7076120464785393, 0.5455635491606715, 0.367...</td>\n",
       "      <td>None</td>\n",
       "      <td>0.633221</td>\n",
       "      <td>...</td>\n",
       "      <td>False</td>\n",
       "      <td>focal</td>\n",
       "      <td>2</td>\n",
       "      <td>True</td>\n",
       "      <td>5</td>\n",
       "      <td>Conv1d</td>\n",
       "      <td>None</td>\n",
       "      <td>concatenation</td>\n",
       "      <td>64</td>\n",
       "      <td>2</td>\n",
       "    </tr>\n",
       "    <tr>\n",
       "      <th>0</th>\n",
       "      <td>None</td>\n",
       "      <td>0.635539</td>\n",
       "      <td>0.537836</td>\n",
       "      <td>[0.7513089005235603, 0.46319464649403547, 0.39...</td>\n",
       "      <td>0.540466</td>\n",
       "      <td>[0.7540004776689754, 0.4499717354437535, 0.417...</td>\n",
       "      <td>0.535999</td>\n",
       "      <td>[0.7486364714251837, 0.47721822541966424, 0.38...</td>\n",
       "      <td>None</td>\n",
       "      <td>0.641216</td>\n",
       "      <td>...</td>\n",
       "      <td>False</td>\n",
       "      <td>focal</td>\n",
       "      <td>2</td>\n",
       "      <td>True</td>\n",
       "      <td>5</td>\n",
       "      <td>Conv1d</td>\n",
       "      <td>None</td>\n",
       "      <td>concatenation</td>\n",
       "      <td>64</td>\n",
       "      <td>2</td>\n",
       "    </tr>\n",
       "    <tr>\n",
       "      <th>0</th>\n",
       "      <td>None</td>\n",
       "      <td>0.633755</td>\n",
       "      <td>0.532209</td>\n",
       "      <td>[0.7583845063769484, 0.4318630678077683, 0.406...</td>\n",
       "      <td>0.530658</td>\n",
       "      <td>[0.7553516819571865, 0.47883211678832116, 0.35...</td>\n",
       "      <td>0.541655</td>\n",
       "      <td>[0.7614417832582404, 0.3932853717026379, 0.470...</td>\n",
       "      <td>None</td>\n",
       "      <td>0.644032</td>\n",
       "      <td>...</td>\n",
       "      <td>False</td>\n",
       "      <td>focal</td>\n",
       "      <td>2</td>\n",
       "      <td>True</td>\n",
       "      <td>5</td>\n",
       "      <td>Conv1d</td>\n",
       "      <td>None</td>\n",
       "      <td>concatenation</td>\n",
       "      <td>64</td>\n",
       "      <td>3</td>\n",
       "    </tr>\n",
       "    <tr>\n",
       "      <th>0</th>\n",
       "      <td>None</td>\n",
       "      <td>0.646543</td>\n",
       "      <td>0.545971</td>\n",
       "      <td>[0.7667899320052487, 0.4715976331360947, 0.399...</td>\n",
       "      <td>0.544965</td>\n",
       "      <td>[0.771483437349976, 0.4655373831775701, 0.3978...</td>\n",
       "      <td>0.547054</td>\n",
       "      <td>[0.762153189471188, 0.47781774580335734, 0.401...</td>\n",
       "      <td>None</td>\n",
       "      <td>0.649212</td>\n",
       "      <td>...</td>\n",
       "      <td>False</td>\n",
       "      <td>focal</td>\n",
       "      <td>2</td>\n",
       "      <td>True</td>\n",
       "      <td>5</td>\n",
       "      <td>Conv1d</td>\n",
       "      <td>None</td>\n",
       "      <td>concatenation</td>\n",
       "      <td>64</td>\n",
       "      <td>3</td>\n",
       "    </tr>\n",
       "    <tr>\n",
       "      <th>0</th>\n",
       "      <td>None</td>\n",
       "      <td>0.640000</td>\n",
       "      <td>0.541019</td>\n",
       "      <td>[0.7614335706528296, 0.46992054483541434, 0.39...</td>\n",
       "      <td>0.541019</td>\n",
       "      <td>[0.7751842751842751, 0.44612068965517243, 0.40...</td>\n",
       "      <td>0.542236</td>\n",
       "      <td>[0.748162200616552, 0.49640287769784175, 0.382...</td>\n",
       "      <td>None</td>\n",
       "      <td>0.647973</td>\n",
       "      <td>...</td>\n",
       "      <td>False</td>\n",
       "      <td>focal</td>\n",
       "      <td>2</td>\n",
       "      <td>True</td>\n",
       "      <td>5</td>\n",
       "      <td>Conv1d</td>\n",
       "      <td>None</td>\n",
       "      <td>concatenation</td>\n",
       "      <td>64</td>\n",
       "      <td>4</td>\n",
       "    </tr>\n",
       "    <tr>\n",
       "      <th>0</th>\n",
       "      <td>None</td>\n",
       "      <td>0.657100</td>\n",
       "      <td>0.541533</td>\n",
       "      <td>[0.7785542444724481, 0.4558292282430214, 0.390...</td>\n",
       "      <td>0.549415</td>\n",
       "      <td>[0.7531028368794326, 0.5039941902687001, 0.391...</td>\n",
       "      <td>0.537046</td>\n",
       "      <td>[0.8057861038653071, 0.41606714628297364, 0.38...</td>\n",
       "      <td>None</td>\n",
       "      <td>0.664752</td>\n",
       "      <td>...</td>\n",
       "      <td>False</td>\n",
       "      <td>focal</td>\n",
       "      <td>2</td>\n",
       "      <td>True</td>\n",
       "      <td>5</td>\n",
       "      <td>Conv1d</td>\n",
       "      <td>None</td>\n",
       "      <td>concatenation</td>\n",
       "      <td>64</td>\n",
       "      <td>4</td>\n",
       "    </tr>\n",
       "    <tr>\n",
       "      <th>0</th>\n",
       "      <td>None</td>\n",
       "      <td>0.630781</td>\n",
       "      <td>0.533922</td>\n",
       "      <td>[0.750984369406992, 0.44664863240156294, 0.404...</td>\n",
       "      <td>0.531289</td>\n",
       "      <td>[0.7557636887608069, 0.4478601567209162, 0.390...</td>\n",
       "      <td>0.536919</td>\n",
       "      <td>[0.7462651173820252, 0.44544364508393286, 0.41...</td>\n",
       "      <td>None</td>\n",
       "      <td>0.638401</td>\n",
       "      <td>...</td>\n",
       "      <td>False</td>\n",
       "      <td>focal</td>\n",
       "      <td>2</td>\n",
       "      <td>True</td>\n",
       "      <td>5</td>\n",
       "      <td>Conv1d</td>\n",
       "      <td>None</td>\n",
       "      <td>concatenation</td>\n",
       "      <td>64</td>\n",
       "      <td>5</td>\n",
       "    </tr>\n",
       "    <tr>\n",
       "      <th>0</th>\n",
       "      <td>None</td>\n",
       "      <td>0.650706</td>\n",
       "      <td>0.552728</td>\n",
       "      <td>[0.7669616519174042, 0.46920458062519343, 0.42...</td>\n",
       "      <td>0.551771</td>\n",
       "      <td>[0.7632691404415218, 0.4849648112603967, 0.407...</td>\n",
       "      <td>0.554407</td>\n",
       "      <td>[0.7706900640265592, 0.45443645083932854, 0.43...</td>\n",
       "      <td>None</td>\n",
       "      <td>0.651914</td>\n",
       "      <td>...</td>\n",
       "      <td>False</td>\n",
       "      <td>focal</td>\n",
       "      <td>2</td>\n",
       "      <td>True</td>\n",
       "      <td>5</td>\n",
       "      <td>Conv1d</td>\n",
       "      <td>None</td>\n",
       "      <td>concatenation</td>\n",
       "      <td>64</td>\n",
       "      <td>5</td>\n",
       "    </tr>\n",
       "  </tbody>\n",
       "</table>\n",
       "<p>12 rows × 47 columns</p>\n",
       "</div>"
      ],
      "text/plain": [
       "   loss  accuracy        f1  \\\n",
       "0  None  0.625576  0.513856   \n",
       "0  None  0.641041  0.482950   \n",
       "0  None  0.654721  0.533085   \n",
       "0  None  0.656952  0.541935   \n",
       "0  None  0.624981  0.535579   \n",
       "0  None  0.635539  0.537836   \n",
       "0  None  0.633755  0.532209   \n",
       "0  None  0.646543  0.545971   \n",
       "0  None  0.640000  0.541019   \n",
       "0  None  0.657100  0.541533   \n",
       "0  None  0.630781  0.533922   \n",
       "0  None  0.650706  0.552728   \n",
       "\n",
       "                                           f1_scores  precision  \\\n",
       "0  [0.7521683820978374, 0.4063745019920319, 0.383...   0.516705   \n",
       "0  [0.7756458355665129, 0.33561123766135154, 0.33...   0.517749   \n",
       "0  [0.7814494074749316, 0.4336254462836741, 0.384...   0.543755   \n",
       "0  [0.7813284638210454, 0.4308420696652012, 0.413...   0.549704   \n",
       "0  [0.7397124442240952, 0.48173636844891476, 0.38...   0.536865   \n",
       "0  [0.7513089005235603, 0.46319464649403547, 0.39...   0.540466   \n",
       "0  [0.7583845063769484, 0.4318630678077683, 0.406...   0.530658   \n",
       "0  [0.7667899320052487, 0.4715976331360947, 0.399...   0.544965   \n",
       "0  [0.7614335706528296, 0.46992054483541434, 0.39...   0.541019   \n",
       "0  [0.7785542444724481, 0.4558292282430214, 0.390...   0.549415   \n",
       "0  [0.750984369406992, 0.44664863240156294, 0.404...   0.531289   \n",
       "0  [0.7669616519174042, 0.46920458062519343, 0.42...   0.551771   \n",
       "\n",
       "                                    precision_scores    recall  \\\n",
       "0  [0.7340857787810384, 0.45535714285714285, 0.36...  0.515468   \n",
       "0  [0.7077464788732394, 0.4575569358178054, 0.387...  0.473918   \n",
       "0  [0.7521386268918623, 0.4727530077848549, 0.406...  0.525968   \n",
       "0  [0.7531353135313531, 0.49418153607447635, 0.40...  0.539933   \n",
       "0  [0.7748636717735653, 0.4312796208530806, 0.404...  0.540344   \n",
       "0  [0.7540004776689754, 0.4499717354437535, 0.417...  0.535999   \n",
       "0  [0.7553516819571865, 0.47883211678832116, 0.35...  0.541655   \n",
       "0  [0.771483437349976, 0.4655373831775701, 0.3978...  0.547054   \n",
       "0  [0.7751842751842751, 0.44612068965517243, 0.40...  0.542236   \n",
       "0  [0.7531028368794326, 0.5039941902687001, 0.391...  0.537046   \n",
       "0  [0.7557636887608069, 0.4478601567209162, 0.390...  0.536919   \n",
       "0  [0.7632691404415218, 0.4849648112603967, 0.407...  0.554407   \n",
       "\n",
       "                                       recall_scores valid_loss  \\\n",
       "0  [0.7711643348351909, 0.3669064748201439, 0.408...       None   \n",
       "0  [0.8579558928147972, 0.26498800959232616, 0.29...       None   \n",
       "0  [0.8131373013990989, 0.40047961630695444, 0.36...       None   \n",
       "0  [0.8117144889732038, 0.38189448441247004, 0.42...       None   \n",
       "0  [0.7076120464785393, 0.5455635491606715, 0.367...       None   \n",
       "0  [0.7486364714251837, 0.47721822541966424, 0.38...       None   \n",
       "0  [0.7614417832582404, 0.3932853717026379, 0.470...       None   \n",
       "0  [0.762153189471188, 0.47781774580335734, 0.401...       None   \n",
       "0  [0.748162200616552, 0.49640287769784175, 0.382...       None   \n",
       "0  [0.8057861038653071, 0.41606714628297364, 0.38...       None   \n",
       "0  [0.7462651173820252, 0.44544364508393286, 0.41...       None   \n",
       "0  [0.7706900640265592, 0.45443645083932854, 0.43...       None   \n",
       "\n",
       "   valid_accuracy  ...  BiLSTM loss_function  gamma k_fold  n_splits  \\\n",
       "0        0.630405  ...   False         focal      2   True         5   \n",
       "0        0.644932  ...   False         focal      2   True         5   \n",
       "0        0.654842  ...   False         focal      2   True         5   \n",
       "0        0.660248  ...   False         focal      2   True         5   \n",
       "0        0.633221  ...   False         focal      2   True         5   \n",
       "0        0.641216  ...   False         focal      2   True         5   \n",
       "0        0.644032  ...   False         focal      2   True         5   \n",
       "0        0.649212  ...   False         focal      2   True         5   \n",
       "0        0.647973  ...   False         focal      2   True         5   \n",
       "0        0.664752  ...   False         focal      2   True         5   \n",
       "0        0.638401  ...   False         focal      2   True         5   \n",
       "0        0.651914  ...   False         focal      2   True         5   \n",
       "\n",
       "  augmentation_type  hidden_dim_aug    comb_method  batch_size  model_id  \n",
       "0            Conv1d            None  concatenation          64         0  \n",
       "0            Conv1d            None  concatenation          64         0  \n",
       "0            Conv1d            None  concatenation          64         1  \n",
       "0            Conv1d            None  concatenation          64         1  \n",
       "0            Conv1d            None  concatenation          64         2  \n",
       "0            Conv1d            None  concatenation          64         2  \n",
       "0            Conv1d            None  concatenation          64         3  \n",
       "0            Conv1d            None  concatenation          64         3  \n",
       "0            Conv1d            None  concatenation          64         4  \n",
       "0            Conv1d            None  concatenation          64         4  \n",
       "0            Conv1d            None  concatenation          64         5  \n",
       "0            Conv1d            None  concatenation          64         5  \n",
       "\n",
       "[12 rows x 47 columns]"
      ]
     },
     "execution_count": 12,
     "metadata": {},
     "output_type": "execute_result"
    }
   ],
   "source": [
    "seqsignet_network_umap_kfold_20"
   ]
  },
  {
   "cell_type": "code",
   "execution_count": 15,
   "id": "2c4a21ef",
   "metadata": {},
   "outputs": [
    {
     "data": {
      "text/plain": [
       "0.5412757738023036"
      ]
     },
     "execution_count": 15,
     "metadata": {},
     "output_type": "execute_result"
    }
   ],
   "source": [
    "best_seqsignet_network_umap_kfold_20[\"f1\"].mean()"
   ]
  },
  {
   "cell_type": "code",
   "execution_count": 16,
   "id": "9d53d5cc",
   "metadata": {},
   "outputs": [
    {
     "data": {
      "text/plain": [
       "0.5452170845973715"
      ]
     },
     "execution_count": 16,
     "metadata": {},
     "output_type": "execute_result"
    }
   ],
   "source": [
    "best_seqsignet_network_umap_kfold_20[\"precision\"].mean()"
   ]
  },
  {
   "cell_type": "code",
   "execution_count": 17,
   "id": "9f7c1817",
   "metadata": {},
   "outputs": [
    {
     "data": {
      "text/plain": [
       "0.5396411499818743"
      ]
     },
     "execution_count": 17,
     "metadata": {},
     "output_type": "execute_result"
    }
   ],
   "source": [
    "best_seqsignet_network_umap_kfold_20[\"recall\"].mean()"
   ]
  },
  {
   "cell_type": "code",
   "execution_count": 18,
   "id": "7d9d8077",
   "metadata": {},
   "outputs": [
    {
     "data": {
      "text/plain": [
       "array([0.76999391, 0.46287489, 0.39095853])"
      ]
     },
     "execution_count": 18,
     "metadata": {},
     "output_type": "execute_result"
    }
   ],
   "source": [
    "np.stack(best_seqsignet_network_umap_kfold_20[\"f1_scores\"]).mean(axis=0)"
   ]
  },
  {
   "cell_type": "code",
   "execution_count": 19,
   "id": "0f9014e9",
   "metadata": {},
   "outputs": [
    {
     "data": {
      "text/plain": [
       "array([0.76414356, 0.47505744, 0.39645026])"
      ]
     },
     "execution_count": 19,
     "metadata": {},
     "output_type": "execute_result"
    }
   ],
   "source": [
    "np.stack(best_seqsignet_network_umap_kfold_20[\"precision_scores\"]).mean(axis=0)"
   ]
  },
  {
   "cell_type": "code",
   "execution_count": 20,
   "id": "046ee141",
   "metadata": {},
   "outputs": [
    {
     "data": {
      "text/plain": [
       "array([0.77697415, 0.45623501, 0.38571429])"
      ]
     },
     "execution_count": 20,
     "metadata": {},
     "output_type": "execute_result"
    }
   ],
   "source": [
    "np.stack(best_seqsignet_network_umap_kfold_20[\"recall_scores\"]).mean(axis=0)"
   ]
  },
  {
   "cell_type": "markdown",
   "id": "ac0cde21",
   "metadata": {},
   "source": [
    "## GRP"
   ]
  },
  {
   "cell_type": "code",
   "execution_count": null,
   "id": "b7516622",
   "metadata": {},
   "outputs": [
    {
     "data": {
      "application/vnd.jupyter.widget-view+json": {
       "model_id": "e0454d14d6a444d3bbabc276890f7b49",
       "version_major": 2,
       "version_minor": 0
      },
      "text/plain": [
       "  0%|          | 0/1 [00:00<?, ?it/s]"
      ]
     },
     "metadata": {},
     "output_type": "display_data"
    },
    {
     "data": {
      "application/vnd.jupyter.widget-view+json": {
       "model_id": "6c789255cf164349aebf6a838e0c0643",
       "version_major": 2,
       "version_minor": 0
      },
      "text/plain": [
       "  0%|          | 0/1 [00:00<?, ?it/s]"
      ]
     },
     "metadata": {},
     "output_type": "display_data"
    },
    {
     "name": "stdout",
     "output_type": "stream",
     "text": [
      "\n",
      "##################################################\n",
      "dimension: 15 | method: gaussian_random_projection\n",
      "given shift 3, window size 5 and n 6: history length = 20\n",
      "[INFO] Concatenating the embeddings to the dataframe...\n",
      "[INFO] - columns beginning with 'e' denote the full embddings.\n",
      "[INFO] - columns beginning with 'd' denote the dimension reduced embeddings.\n",
      "[INFO] Adding time feature columns into dataframe in `.df`.\n",
      "[INFO] Adding 'time_encoding' and feature...\n",
      "[INFO] Adding 'time_diff' and feature...\n",
      "[INFO] Adding 'timeline_index' feature...\n",
      "[INFO] Padding ids and storing in `.df_padded` and `.array_padded` attributes.\n"
     ]
    },
    {
     "data": {
      "application/vnd.jupyter.widget-view+json": {
       "model_id": "b7cb0f11f4f44c098ab6b3d65a4d1f72",
       "version_major": 2,
       "version_minor": 0
      },
      "text/plain": [
       "  0%|          | 0/13551 [00:00<?, ?it/s]"
      ]
     },
     "metadata": {},
     "output_type": "display_data"
    },
    {
     "name": "stdout",
     "output_type": "stream",
     "text": [
      "[INFO] The path was created for each item in the dataframe, by looking at its history, so to include embeddings in the FFN input, we concatenate the embeddings for each sentence / text.\n"
     ]
    },
    {
     "data": {
      "application/vnd.jupyter.widget-view+json": {
       "model_id": "9f83e36b86f041dd9ebe3d8b6b880f4b",
       "version_major": 2,
       "version_minor": 0
      },
      "text/plain": [
       "  0%|          | 0/1 [00:00<?, ?it/s]"
      ]
     },
     "metadata": {},
     "output_type": "display_data"
    },
    {
     "data": {
      "application/vnd.jupyter.widget-view+json": {
       "model_id": "7a926a82d7604d81b175c931c89b8367",
       "version_major": 2,
       "version_minor": 0
      },
      "text/plain": [
       "  0%|          | 0/1 [00:00<?, ?it/s]"
      ]
     },
     "metadata": {},
     "output_type": "display_data"
    },
    {
     "data": {
      "application/vnd.jupyter.widget-view+json": {
       "model_id": "61d61f2609c941ffa25d7e8563a98220",
       "version_major": 2,
       "version_minor": 0
      },
      "text/plain": [
       "  0%|          | 0/1 [00:00<?, ?it/s]"
      ]
     },
     "metadata": {},
     "output_type": "display_data"
    },
    {
     "data": {
      "application/vnd.jupyter.widget-view+json": {
       "model_id": "4a73bf4bb8974788892d1800139ca585",
       "version_major": 2,
       "version_minor": 0
      },
      "text/plain": [
       "  0%|          | 0/1 [00:00<?, ?it/s]"
      ]
     },
     "metadata": {},
     "output_type": "display_data"
    },
    {
     "data": {
      "application/vnd.jupyter.widget-view+json": {
       "model_id": "4c2bc543b0244ba1853708dfebaf2e9e",
       "version_major": 2,
       "version_minor": 0
      },
      "text/plain": [
       "  0%|          | 0/2 [00:00<?, ?it/s]"
      ]
     },
     "metadata": {},
     "output_type": "display_data"
    },
    {
     "data": {
      "application/vnd.jupyter.widget-view+json": {
       "model_id": "27cda7a85ccf49f2b275adc472e918b3",
       "version_major": 2,
       "version_minor": 0
      },
      "text/plain": [
       "  0%|          | 0/3 [00:00<?, ?it/s]"
      ]
     },
     "metadata": {},
     "output_type": "display_data"
    }
   ],
   "source": [
    "size = 20\n",
    "seqsignet_network_grp_kfold_20, best_seqsignet_network_grp_kfold_20, _, __ = seqsignet_hyperparameter_search(\n",
    "    num_epochs=num_epochs,\n",
    "    df=anno_mi,\n",
    "    id_column=\"transcript_id\",\n",
    "    label_column=\"client_talk_type\",\n",
    "    embeddings=sbert_embeddings,\n",
    "    y_data=y_data_client,\n",
    "    embedding_dim=embedding_dim,\n",
    "    output_dim=output_dim_client,\n",
    "    shift=shift,\n",
    "    window_size=window_size,\n",
    "    n=n,\n",
    "    dim_reduce_methods=[\"gaussian_random_projection\"],\n",
    "    dimensions=dimensions,\n",
    "    log_signature=True,\n",
    "    conv_output_channels=conv_output_channels,\n",
    "    swnu_hidden_dim_sizes_and_sig_depths=swnu_hidden_dim_sizes_and_sig_depths,\n",
    "    lstm_hidden_dim_sizes=lstm_hidden_dim_sizes,\n",
    "    ffn_hidden_dim_sizes=ffn_hidden_dim_sizes,\n",
    "    dropout_rates=dropout_rates,\n",
    "    learning_rates=learning_rates,\n",
    "    BiLSTM=False,\n",
    "    seeds=seeds,\n",
    "    loss=loss,\n",
    "    gamma=gamma,\n",
    "    time_feature=time_features,\n",
    "    standardise_method=standardise_method,\n",
    "    add_time_in_path=add_time_in_path,\n",
    "    path_indices=client_index,\n",
    "    k_fold=True,\n",
    "    patience=patience,\n",
    "    validation_metric=validation_metric,\n",
    "    results_output=f\"{output_dir}/seqsignet_grp_focal_{gamma}_{size}_kfold.csv\",\n",
    "    verbose=False\n",
    ")"
   ]
  },
  {
   "cell_type": "code",
   "execution_count": null,
   "id": "8020be6d",
   "metadata": {},
   "outputs": [],
   "source": []
  },
  {
   "cell_type": "code",
   "execution_count": null,
   "id": "fbd30d93",
   "metadata": {},
   "outputs": [],
   "source": []
  }
 ],
 "metadata": {
  "kernelspec": {
   "display_name": "Python 3 (ipykernel)",
   "language": "python",
   "name": "python3"
  },
  "language_info": {
   "codemirror_mode": {
    "name": "ipython",
    "version": 3
   },
   "file_extension": ".py",
   "mimetype": "text/x-python",
   "name": "python",
   "nbconvert_exporter": "python",
   "pygments_lexer": "ipython3",
   "version": "3.8.16"
  }
 },
 "nbformat": 4,
 "nbformat_minor": 5
}
