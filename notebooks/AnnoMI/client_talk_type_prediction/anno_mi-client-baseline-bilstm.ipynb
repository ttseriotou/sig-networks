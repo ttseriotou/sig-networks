{
 "cells": [
  {
   "cell_type": "code",
   "execution_count": 1,
   "id": "a983a5e8",
   "metadata": {},
   "outputs": [],
   "source": [
    "import numpy as np\n",
    "import pickle\n",
    "import os\n",
    "\n",
    "seed = 2023"
   ]
  },
  {
   "cell_type": "code",
   "execution_count": 2,
   "id": "6034028a-d84a-4eb3-9411-bb1ce319a7fc",
   "metadata": {},
   "outputs": [
    {
     "data": {
      "text/plain": [
       "device(type='cuda')"
      ]
     },
     "execution_count": 2,
     "metadata": {},
     "output_type": "execute_result"
    }
   ],
   "source": [
    "import torch\n",
    "\n",
    "# set device\n",
    "device = torch.device(\"cuda\" if torch.cuda.is_available() else \"cpu\")\n",
    "device"
   ]
  },
  {
   "cell_type": "code",
   "execution_count": 3,
   "id": "e4e666cc",
   "metadata": {},
   "outputs": [],
   "source": [
    "from nlpsig_networks.scripts.lstm_baseline_functions import (\n",
    "    lstm_hyperparameter_search,\n",
    "    obtain_path,\n",
    ")"
   ]
  },
  {
   "cell_type": "code",
   "execution_count": 4,
   "id": "6e918dde",
   "metadata": {},
   "outputs": [],
   "source": [
    "output_dir = \"client_talk_type_output\"\n",
    "if not os.path.isdir(output_dir):\n",
    "    os.makedirs(output_dir)"
   ]
  },
  {
   "cell_type": "markdown",
   "id": "f7409a03",
   "metadata": {},
   "source": [
    "## AnnoMI"
   ]
  },
  {
   "cell_type": "code",
   "execution_count": 5,
   "id": "f00bb922",
   "metadata": {},
   "outputs": [],
   "source": [
    "%run ../load_anno_mi.py"
   ]
  },
  {
   "cell_type": "code",
   "execution_count": 6,
   "id": "720d820f",
   "metadata": {},
   "outputs": [
    {
     "data": {
      "text/html": [
       "<div>\n",
       "<style scoped>\n",
       "    .dataframe tbody tr th:only-of-type {\n",
       "        vertical-align: middle;\n",
       "    }\n",
       "\n",
       "    .dataframe tbody tr th {\n",
       "        vertical-align: top;\n",
       "    }\n",
       "\n",
       "    .dataframe thead th {\n",
       "        text-align: right;\n",
       "    }\n",
       "</style>\n",
       "<table border=\"1\" class=\"dataframe\">\n",
       "  <thead>\n",
       "    <tr style=\"text-align: right;\">\n",
       "      <th></th>\n",
       "      <th>mi_quality</th>\n",
       "      <th>transcript_id</th>\n",
       "      <th>topic</th>\n",
       "      <th>utterance_id</th>\n",
       "      <th>interlocutor</th>\n",
       "      <th>timestamp</th>\n",
       "      <th>utterance_text</th>\n",
       "      <th>annotator_id</th>\n",
       "      <th>therapist_input_exists</th>\n",
       "      <th>therapist_input_subtype</th>\n",
       "      <th>reflection_exists</th>\n",
       "      <th>reflection_subtype</th>\n",
       "      <th>question_exists</th>\n",
       "      <th>question_subtype</th>\n",
       "      <th>main_therapist_behaviour</th>\n",
       "      <th>client_talk_type</th>\n",
       "      <th>datetime</th>\n",
       "      <th>speaker</th>\n",
       "    </tr>\n",
       "  </thead>\n",
       "  <tbody>\n",
       "    <tr>\n",
       "      <th>0</th>\n",
       "      <td>high</td>\n",
       "      <td>0</td>\n",
       "      <td>reducing alcohol consumption</td>\n",
       "      <td>0</td>\n",
       "      <td>therapist</td>\n",
       "      <td>00:00:13</td>\n",
       "      <td>Thanks for filling it out. We give this form t...</td>\n",
       "      <td>3</td>\n",
       "      <td>False</td>\n",
       "      <td>NaN</td>\n",
       "      <td>False</td>\n",
       "      <td>NaN</td>\n",
       "      <td>True</td>\n",
       "      <td>open</td>\n",
       "      <td>question</td>\n",
       "      <td>NaN</td>\n",
       "      <td>2023-10-02 00:00:13</td>\n",
       "      <td>-1</td>\n",
       "    </tr>\n",
       "    <tr>\n",
       "      <th>1</th>\n",
       "      <td>high</td>\n",
       "      <td>0</td>\n",
       "      <td>reducing alcohol consumption</td>\n",
       "      <td>1</td>\n",
       "      <td>client</td>\n",
       "      <td>00:00:24</td>\n",
       "      <td>Sure.</td>\n",
       "      <td>3</td>\n",
       "      <td>NaN</td>\n",
       "      <td>NaN</td>\n",
       "      <td>NaN</td>\n",
       "      <td>NaN</td>\n",
       "      <td>NaN</td>\n",
       "      <td>NaN</td>\n",
       "      <td>NaN</td>\n",
       "      <td>neutral</td>\n",
       "      <td>2023-10-02 00:00:24</td>\n",
       "      <td>1</td>\n",
       "    </tr>\n",
       "    <tr>\n",
       "      <th>2</th>\n",
       "      <td>high</td>\n",
       "      <td>0</td>\n",
       "      <td>reducing alcohol consumption</td>\n",
       "      <td>2</td>\n",
       "      <td>therapist</td>\n",
       "      <td>00:00:25</td>\n",
       "      <td>So, let's see. It looks that you put-- You dri...</td>\n",
       "      <td>3</td>\n",
       "      <td>True</td>\n",
       "      <td>information</td>\n",
       "      <td>False</td>\n",
       "      <td>NaN</td>\n",
       "      <td>False</td>\n",
       "      <td>NaN</td>\n",
       "      <td>therapist_input</td>\n",
       "      <td>NaN</td>\n",
       "      <td>2023-10-02 00:00:25</td>\n",
       "      <td>-1</td>\n",
       "    </tr>\n",
       "    <tr>\n",
       "      <th>3</th>\n",
       "      <td>high</td>\n",
       "      <td>0</td>\n",
       "      <td>reducing alcohol consumption</td>\n",
       "      <td>3</td>\n",
       "      <td>client</td>\n",
       "      <td>00:00:34</td>\n",
       "      <td>Mm-hmm.</td>\n",
       "      <td>3</td>\n",
       "      <td>NaN</td>\n",
       "      <td>NaN</td>\n",
       "      <td>NaN</td>\n",
       "      <td>NaN</td>\n",
       "      <td>NaN</td>\n",
       "      <td>NaN</td>\n",
       "      <td>NaN</td>\n",
       "      <td>neutral</td>\n",
       "      <td>2023-10-02 00:00:34</td>\n",
       "      <td>1</td>\n",
       "    </tr>\n",
       "    <tr>\n",
       "      <th>4</th>\n",
       "      <td>high</td>\n",
       "      <td>0</td>\n",
       "      <td>reducing alcohol consumption</td>\n",
       "      <td>4</td>\n",
       "      <td>therapist</td>\n",
       "      <td>00:00:34</td>\n",
       "      <td>-and you usually have three to four drinks whe...</td>\n",
       "      <td>3</td>\n",
       "      <td>True</td>\n",
       "      <td>information</td>\n",
       "      <td>False</td>\n",
       "      <td>NaN</td>\n",
       "      <td>False</td>\n",
       "      <td>NaN</td>\n",
       "      <td>therapist_input</td>\n",
       "      <td>NaN</td>\n",
       "      <td>2023-10-02 00:00:34</td>\n",
       "      <td>-1</td>\n",
       "    </tr>\n",
       "  </tbody>\n",
       "</table>\n",
       "</div>"
      ],
      "text/plain": [
       "  mi_quality  transcript_id                         topic  utterance_id  \\\n",
       "0       high              0  reducing alcohol consumption             0   \n",
       "1       high              0  reducing alcohol consumption             1   \n",
       "2       high              0  reducing alcohol consumption             2   \n",
       "3       high              0  reducing alcohol consumption             3   \n",
       "4       high              0  reducing alcohol consumption             4   \n",
       "\n",
       "  interlocutor timestamp                                     utterance_text  \\\n",
       "0    therapist  00:00:13  Thanks for filling it out. We give this form t...   \n",
       "1       client  00:00:24                                              Sure.   \n",
       "2    therapist  00:00:25  So, let's see. It looks that you put-- You dri...   \n",
       "3       client  00:00:34                                            Mm-hmm.   \n",
       "4    therapist  00:00:34  -and you usually have three to four drinks whe...   \n",
       "\n",
       "   annotator_id therapist_input_exists therapist_input_subtype  \\\n",
       "0             3                  False                     NaN   \n",
       "1             3                    NaN                     NaN   \n",
       "2             3                   True             information   \n",
       "3             3                    NaN                     NaN   \n",
       "4             3                   True             information   \n",
       "\n",
       "  reflection_exists reflection_subtype question_exists question_subtype  \\\n",
       "0             False                NaN            True             open   \n",
       "1               NaN                NaN             NaN              NaN   \n",
       "2             False                NaN           False              NaN   \n",
       "3               NaN                NaN             NaN              NaN   \n",
       "4             False                NaN           False              NaN   \n",
       "\n",
       "  main_therapist_behaviour client_talk_type            datetime  speaker  \n",
       "0                 question              NaN 2023-10-02 00:00:13       -1  \n",
       "1                      NaN          neutral 2023-10-02 00:00:24        1  \n",
       "2          therapist_input              NaN 2023-10-02 00:00:25       -1  \n",
       "3                      NaN          neutral 2023-10-02 00:00:34        1  \n",
       "4          therapist_input              NaN 2023-10-02 00:00:34       -1  "
      ]
     },
     "execution_count": 6,
     "metadata": {},
     "output_type": "execute_result"
    }
   ],
   "source": [
    "anno_mi.head()"
   ]
  },
  {
   "cell_type": "code",
   "execution_count": 7,
   "id": "84d5594d",
   "metadata": {},
   "outputs": [
    {
     "data": {
      "text/plain": [
       "(9699, 384)"
      ]
     },
     "execution_count": 7,
     "metadata": {},
     "output_type": "execute_result"
    }
   ],
   "source": [
    "with open(\"../anno_mi_sbert.pkl\", \"rb\") as f:\n",
    "    sbert_embeddings = pickle.load(f)\n",
    "\n",
    "sbert_embeddings.shape"
   ]
  },
  {
   "cell_type": "markdown",
   "id": "3a710eb3",
   "metadata": {},
   "source": [
    "# Baseline: LSTM classification"
   ]
  },
  {
   "cell_type": "code",
   "execution_count": 10,
   "id": "38d81c7c",
   "metadata": {},
   "outputs": [],
   "source": [
    "num_epochs = 100\n",
    "hidden_dim_sizes = [200, 300, 384]\n",
    "num_layers = 1\n",
    "bidirectional = True\n",
    "dropout_rates = [0.1, 0.2]\n",
    "learning_rates = [1e-3, 1e-4, 5e-4]\n",
    "seeds = [1, 12, 123]\n",
    "loss = \"focal\"\n",
    "gamma = 2\n",
    "validation_metric = \"f1\"\n",
    "patience = 5"
   ]
  },
  {
   "cell_type": "code",
   "execution_count": 11,
   "id": "a9f82325-3816-46c0-a473-5a6757c7dfc0",
   "metadata": {},
   "outputs": [],
   "source": [
    "kwargs = {\n",
    "    \"num_epochs\": num_epochs,\n",
    "    \"df\": anno_mi,\n",
    "    \"id_column\": \"transcript_id\",\n",
    "    \"label_column\": \"client_talk_type\",\n",
    "    \"embeddings\": sbert_embeddings,\n",
    "    \"y_data\": y_data_client,\n",
    "    \"output_dim\": output_dim_client,\n",
    "    \"hidden_dim_sizes\": hidden_dim_sizes,\n",
    "    \"num_layers\": num_layers,\n",
    "    \"bidirectional\": bidirectional,\n",
    "    \"dropout_rates\": dropout_rates,\n",
    "    \"learning_rates\": learning_rates,\n",
    "    \"seeds\": seeds,\n",
    "    \"loss\": loss,\n",
    "    \"gamma\": gamma,\n",
    "    \"device\": device,\n",
    "    \"path_indices\": client_index,\n",
    "    \"split_ids\": client_transcript_id,\n",
    "    \"k_fold\": True,\n",
    "    \"patience\": patience,\n",
    "    \"validation_metric\": validation_metric,\n",
    "    \"verbose\": False,\n",
    "}"
   ]
  },
  {
   "cell_type": "markdown",
   "id": "3ed43d57",
   "metadata": {
    "tags": []
   },
   "source": [
    "## history_length=5"
   ]
  },
  {
   "cell_type": "code",
   "execution_count": 12,
   "id": "fe7a6ea2-d3b6-4ba2-8868-7ac245114050",
   "metadata": {},
   "outputs": [],
   "source": [
    "size = 5"
   ]
  },
  {
   "cell_type": "code",
   "execution_count": 13,
   "id": "b1fed6b4",
   "metadata": {},
   "outputs": [
    {
     "data": {
      "application/vnd.jupyter.widget-view+json": {
       "model_id": "a49d9633bf0048678347c9c474645542",
       "version_major": 2,
       "version_minor": 0
      },
      "text/plain": [
       "  0%|          | 0/1 [00:00<?, ?it/s]"
      ]
     },
     "metadata": {},
     "output_type": "display_data"
    },
    {
     "name": "stdout",
     "output_type": "stream",
     "text": [
      "[INFO] Concatenating the embeddings to the dataframe...\n",
      "[INFO] - columns beginning with 'e' denote the full embddings.\n",
      "[INFO] Adding time feature columns into dataframe in `.df`.\n",
      "[INFO] Adding 'time_encoding' feature...\n",
      "[INFO] Adding 'time_diff' feature...\n",
      "[INFO] Adding 'timeline_index' feature...\n",
      "[INFO] Padding ids and storing in `.df_padded` and `.array_padded` attributes.\n"
     ]
    },
    {
     "data": {
      "application/vnd.jupyter.widget-view+json": {
       "model_id": "21c05aadf4954f60ae1b0cbcab042ebb",
       "version_major": 2,
       "version_minor": 0
      },
      "text/plain": [
       "  0%|          | 0/9699 [00:00<?, ?it/s]"
      ]
     },
     "metadata": {},
     "output_type": "display_data"
    },
    {
     "data": {
      "application/vnd.jupyter.widget-view+json": {
       "model_id": "fcf631ab7c6b485f844ccd2196e0d458",
       "version_major": 2,
       "version_minor": 0
      },
      "text/plain": [
       "  0%|          | 0/3 [00:00<?, ?it/s]"
      ]
     },
     "metadata": {},
     "output_type": "display_data"
    },
    {
     "data": {
      "application/vnd.jupyter.widget-view+json": {
       "model_id": "765166c16e664d1baec214a3394e9bb3",
       "version_major": 2,
       "version_minor": 0
      },
      "text/plain": [
       "  0%|          | 0/2 [00:00<?, ?it/s]"
      ]
     },
     "metadata": {},
     "output_type": "display_data"
    },
    {
     "data": {
      "application/vnd.jupyter.widget-view+json": {
       "model_id": "a12901415ae249b39dbade6b4c11b8fe",
       "version_major": 2,
       "version_minor": 0
      },
      "text/plain": [
       "  0%|          | 0/3 [00:00<?, ?it/s]"
      ]
     },
     "metadata": {},
     "output_type": "display_data"
    },
    {
     "data": {
      "application/vnd.jupyter.widget-view+json": {
       "model_id": "23bde5f62fc04229a52eb73a5c0c719c",
       "version_major": 2,
       "version_minor": 0
      },
      "text/plain": [
       "  0%|          | 0/3 [00:00<?, ?it/s]"
      ]
     },
     "metadata": {},
     "output_type": "display_data"
    },
    {
     "data": {
      "application/vnd.jupyter.widget-view+json": {
       "model_id": "31d8ce5cf56a4784bfb044bcc82c9617",
       "version_major": 2,
       "version_minor": 0
      },
      "text/plain": [
       "  0%|          | 0/2 [00:00<?, ?it/s]"
      ]
     },
     "metadata": {},
     "output_type": "display_data"
    },
    {
     "data": {
      "application/vnd.jupyter.widget-view+json": {
       "model_id": "ca8851d921674f45800a5fb7c78e05a1",
       "version_major": 2,
       "version_minor": 0
      },
      "text/plain": [
       "  0%|          | 0/3 [00:00<?, ?it/s]"
      ]
     },
     "metadata": {},
     "output_type": "display_data"
    },
    {
     "data": {
      "application/vnd.jupyter.widget-view+json": {
       "model_id": "115e467b9ef04cf8b634d44bd6ffdf7a",
       "version_major": 2,
       "version_minor": 0
      },
      "text/plain": [
       "  0%|          | 0/3 [00:00<?, ?it/s]"
      ]
     },
     "metadata": {},
     "output_type": "display_data"
    },
    {
     "data": {
      "application/vnd.jupyter.widget-view+json": {
       "model_id": "d474f20824ba426a86b41ee65e9fa75c",
       "version_major": 2,
       "version_minor": 0
      },
      "text/plain": [
       "  0%|          | 0/2 [00:00<?, ?it/s]"
      ]
     },
     "metadata": {},
     "output_type": "display_data"
    },
    {
     "data": {
      "application/vnd.jupyter.widget-view+json": {
       "model_id": "1e70b06db5054c07ba18031c34b702b4",
       "version_major": 2,
       "version_minor": 0
      },
      "text/plain": [
       "  0%|          | 0/3 [00:00<?, ?it/s]"
      ]
     },
     "metadata": {},
     "output_type": "display_data"
    },
    {
     "data": {
      "application/vnd.jupyter.widget-view+json": {
       "model_id": "a4e6e6ebac55424ca03b6bece5dab428",
       "version_major": 2,
       "version_minor": 0
      },
      "text/plain": [
       "  0%|          | 0/3 [00:00<?, ?it/s]"
      ]
     },
     "metadata": {},
     "output_type": "display_data"
    },
    {
     "name": "stdout",
     "output_type": "stream",
     "text": [
      "saving results dataframe to CSV for this hyperparameter search in client_talk_type_output/lstm_history_5_focal_2_kfold.csv\n",
      "saving the best model results dataframe to CSV for this hyperparameter search in client_talk_type_output/lstm_history_5_focal_2_kfold_best_model.csv\n"
     ]
    }
   ],
   "source": [
    "(\n",
    "    bilstm_history_5_kfold,\n",
    "    best_bilstm_history_5_kfold,\n",
    "    _,\n",
    "    __,\n",
    ") = lstm_hyperparameter_search(\n",
    "    history_lengths=[size],\n",
    "    results_output=f\"{output_dir}/lstm_history_{size}_focal_{gamma}_kfold.csv\",\n",
    "    **kwargs,\n",
    ")"
   ]
  },
  {
   "cell_type": "code",
   "execution_count": 14,
   "id": "9ffb417f",
   "metadata": {},
   "outputs": [
    {
     "name": "stderr",
     "output_type": "stream",
     "text": [
      "/tmp/ipykernel_3407032/3415036038.py:1: FutureWarning: The default value of numeric_only in DataFrameGroupBy.mean is deprecated. In a future version, numeric_only will default to False. Either specify numeric_only or select only columns which should be valid for the function.\n",
      "  bilstm_history_5_kfold.groupby([\"hidden_dim\", \"dropout_rate\", \"learning_rate\"]).mean()\n"
     ]
    },
    {
     "data": {
      "text/html": [
       "<div>\n",
       "<style scoped>\n",
       "    .dataframe tbody tr th:only-of-type {\n",
       "        vertical-align: middle;\n",
       "    }\n",
       "\n",
       "    .dataframe tbody tr th {\n",
       "        vertical-align: top;\n",
       "    }\n",
       "\n",
       "    .dataframe thead th {\n",
       "        text-align: right;\n",
       "    }\n",
       "</style>\n",
       "<table border=\"1\" class=\"dataframe\">\n",
       "  <thead>\n",
       "    <tr style=\"text-align: right;\">\n",
       "      <th></th>\n",
       "      <th></th>\n",
       "      <th></th>\n",
       "      <th>accuracy</th>\n",
       "      <th>f1</th>\n",
       "      <th>precision</th>\n",
       "      <th>recall</th>\n",
       "      <th>valid_accuracy</th>\n",
       "      <th>valid_f1</th>\n",
       "      <th>valid_precision</th>\n",
       "      <th>valid_recall</th>\n",
       "      <th>k</th>\n",
       "      <th>num_layers</th>\n",
       "      <th>bidirectional</th>\n",
       "      <th>seed</th>\n",
       "      <th>gamma</th>\n",
       "      <th>k_fold</th>\n",
       "      <th>n_splits</th>\n",
       "      <th>batch_size</th>\n",
       "      <th>model_id</th>\n",
       "    </tr>\n",
       "    <tr>\n",
       "      <th>hidden_dim</th>\n",
       "      <th>dropout_rate</th>\n",
       "      <th>learning_rate</th>\n",
       "      <th></th>\n",
       "      <th></th>\n",
       "      <th></th>\n",
       "      <th></th>\n",
       "      <th></th>\n",
       "      <th></th>\n",
       "      <th></th>\n",
       "      <th></th>\n",
       "      <th></th>\n",
       "      <th></th>\n",
       "      <th></th>\n",
       "      <th></th>\n",
       "      <th></th>\n",
       "      <th></th>\n",
       "      <th></th>\n",
       "      <th></th>\n",
       "      <th></th>\n",
       "    </tr>\n",
       "  </thead>\n",
       "  <tbody>\n",
       "    <tr>\n",
       "      <th rowspan=\"6\" valign=\"top\">200</th>\n",
       "      <th rowspan=\"3\" valign=\"top\">0.1</th>\n",
       "      <th>0.0001</th>\n",
       "      <td>0.634547</td>\n",
       "      <td>0.519613</td>\n",
       "      <td>0.512197</td>\n",
       "      <td>0.536266</td>\n",
       "      <td>0.665382</td>\n",
       "      <td>0.563706</td>\n",
       "      <td>0.558355</td>\n",
       "      <td>0.574355</td>\n",
       "      <td>5.0</td>\n",
       "      <td>1.0</td>\n",
       "      <td>1.0</td>\n",
       "      <td>45.333333</td>\n",
       "      <td>2.0</td>\n",
       "      <td>1.0</td>\n",
       "      <td>5.0</td>\n",
       "      <td>64.0</td>\n",
       "      <td>1.0</td>\n",
       "    </tr>\n",
       "    <tr>\n",
       "      <th>0.0005</th>\n",
       "      <td>0.628544</td>\n",
       "      <td>0.519520</td>\n",
       "      <td>0.510432</td>\n",
       "      <td>0.540885</td>\n",
       "      <td>0.667737</td>\n",
       "      <td>0.570114</td>\n",
       "      <td>0.562542</td>\n",
       "      <td>0.583625</td>\n",
       "      <td>5.0</td>\n",
       "      <td>1.0</td>\n",
       "      <td>1.0</td>\n",
       "      <td>45.333333</td>\n",
       "      <td>2.0</td>\n",
       "      <td>1.0</td>\n",
       "      <td>5.0</td>\n",
       "      <td>64.0</td>\n",
       "      <td>2.0</td>\n",
       "    </tr>\n",
       "    <tr>\n",
       "      <th>0.0010</th>\n",
       "      <td>0.622222</td>\n",
       "      <td>0.515454</td>\n",
       "      <td>0.506094</td>\n",
       "      <td>0.539096</td>\n",
       "      <td>0.662331</td>\n",
       "      <td>0.569553</td>\n",
       "      <td>0.560306</td>\n",
       "      <td>0.586769</td>\n",
       "      <td>5.0</td>\n",
       "      <td>1.0</td>\n",
       "      <td>1.0</td>\n",
       "      <td>45.333333</td>\n",
       "      <td>2.0</td>\n",
       "      <td>1.0</td>\n",
       "      <td>5.0</td>\n",
       "      <td>64.0</td>\n",
       "      <td>0.0</td>\n",
       "    </tr>\n",
       "    <tr>\n",
       "      <th rowspan=\"3\" valign=\"top\">0.2</th>\n",
       "      <th>0.0001</th>\n",
       "      <td>0.636079</td>\n",
       "      <td>0.519779</td>\n",
       "      <td>0.512261</td>\n",
       "      <td>0.534982</td>\n",
       "      <td>0.666131</td>\n",
       "      <td>0.563174</td>\n",
       "      <td>0.558015</td>\n",
       "      <td>0.572297</td>\n",
       "      <td>5.0</td>\n",
       "      <td>1.0</td>\n",
       "      <td>1.0</td>\n",
       "      <td>45.333333</td>\n",
       "      <td>2.0</td>\n",
       "      <td>1.0</td>\n",
       "      <td>5.0</td>\n",
       "      <td>64.0</td>\n",
       "      <td>4.0</td>\n",
       "    </tr>\n",
       "    <tr>\n",
       "      <th>0.0005</th>\n",
       "      <td>0.629694</td>\n",
       "      <td>0.520027</td>\n",
       "      <td>0.510934</td>\n",
       "      <td>0.540139</td>\n",
       "      <td>0.668058</td>\n",
       "      <td>0.569780</td>\n",
       "      <td>0.562439</td>\n",
       "      <td>0.582488</td>\n",
       "      <td>5.0</td>\n",
       "      <td>1.0</td>\n",
       "      <td>1.0</td>\n",
       "      <td>45.333333</td>\n",
       "      <td>2.0</td>\n",
       "      <td>1.0</td>\n",
       "      <td>5.0</td>\n",
       "      <td>64.0</td>\n",
       "      <td>5.0</td>\n",
       "    </tr>\n",
       "    <tr>\n",
       "      <th>0.0010</th>\n",
       "      <td>0.627714</td>\n",
       "      <td>0.517222</td>\n",
       "      <td>0.509453</td>\n",
       "      <td>0.539868</td>\n",
       "      <td>0.664793</td>\n",
       "      <td>0.570238</td>\n",
       "      <td>0.562381</td>\n",
       "      <td>0.586919</td>\n",
       "      <td>5.0</td>\n",
       "      <td>1.0</td>\n",
       "      <td>1.0</td>\n",
       "      <td>45.333333</td>\n",
       "      <td>2.0</td>\n",
       "      <td>1.0</td>\n",
       "      <td>5.0</td>\n",
       "      <td>64.0</td>\n",
       "      <td>3.0</td>\n",
       "    </tr>\n",
       "    <tr>\n",
       "      <th rowspan=\"6\" valign=\"top\">300</th>\n",
       "      <th rowspan=\"3\" valign=\"top\">0.1</th>\n",
       "      <th>0.0001</th>\n",
       "      <td>0.632759</td>\n",
       "      <td>0.519478</td>\n",
       "      <td>0.511447</td>\n",
       "      <td>0.538203</td>\n",
       "      <td>0.667255</td>\n",
       "      <td>0.566536</td>\n",
       "      <td>0.560477</td>\n",
       "      <td>0.577860</td>\n",
       "      <td>5.0</td>\n",
       "      <td>1.0</td>\n",
       "      <td>1.0</td>\n",
       "      <td>45.333333</td>\n",
       "      <td>2.0</td>\n",
       "      <td>1.0</td>\n",
       "      <td>5.0</td>\n",
       "      <td>64.0</td>\n",
       "      <td>7.0</td>\n",
       "    </tr>\n",
       "    <tr>\n",
       "      <th>0.0005</th>\n",
       "      <td>0.621711</td>\n",
       "      <td>0.515842</td>\n",
       "      <td>0.507247</td>\n",
       "      <td>0.539732</td>\n",
       "      <td>0.662653</td>\n",
       "      <td>0.567789</td>\n",
       "      <td>0.559548</td>\n",
       "      <td>0.584586</td>\n",
       "      <td>5.0</td>\n",
       "      <td>1.0</td>\n",
       "      <td>1.0</td>\n",
       "      <td>45.333333</td>\n",
       "      <td>2.0</td>\n",
       "      <td>1.0</td>\n",
       "      <td>5.0</td>\n",
       "      <td>64.0</td>\n",
       "      <td>8.0</td>\n",
       "    </tr>\n",
       "    <tr>\n",
       "      <th>0.0010</th>\n",
       "      <td>0.629502</td>\n",
       "      <td>0.516911</td>\n",
       "      <td>0.509068</td>\n",
       "      <td>0.535622</td>\n",
       "      <td>0.668219</td>\n",
       "      <td>0.572684</td>\n",
       "      <td>0.565082</td>\n",
       "      <td>0.586446</td>\n",
       "      <td>5.0</td>\n",
       "      <td>1.0</td>\n",
       "      <td>1.0</td>\n",
       "      <td>45.333333</td>\n",
       "      <td>2.0</td>\n",
       "      <td>1.0</td>\n",
       "      <td>5.0</td>\n",
       "      <td>64.0</td>\n",
       "      <td>6.0</td>\n",
       "    </tr>\n",
       "    <tr>\n",
       "      <th rowspan=\"3\" valign=\"top\">0.2</th>\n",
       "      <th>0.0001</th>\n",
       "      <td>0.633014</td>\n",
       "      <td>0.518748</td>\n",
       "      <td>0.511068</td>\n",
       "      <td>0.537209</td>\n",
       "      <td>0.666881</td>\n",
       "      <td>0.565415</td>\n",
       "      <td>0.559704</td>\n",
       "      <td>0.576238</td>\n",
       "      <td>5.0</td>\n",
       "      <td>1.0</td>\n",
       "      <td>1.0</td>\n",
       "      <td>45.333333</td>\n",
       "      <td>2.0</td>\n",
       "      <td>1.0</td>\n",
       "      <td>5.0</td>\n",
       "      <td>64.0</td>\n",
       "      <td>10.0</td>\n",
       "    </tr>\n",
       "    <tr>\n",
       "      <th>0.0005</th>\n",
       "      <td>0.624840</td>\n",
       "      <td>0.518100</td>\n",
       "      <td>0.509662</td>\n",
       "      <td>0.541077</td>\n",
       "      <td>0.664900</td>\n",
       "      <td>0.568798</td>\n",
       "      <td>0.561221</td>\n",
       "      <td>0.584541</td>\n",
       "      <td>5.0</td>\n",
       "      <td>1.0</td>\n",
       "      <td>1.0</td>\n",
       "      <td>45.333333</td>\n",
       "      <td>2.0</td>\n",
       "      <td>1.0</td>\n",
       "      <td>5.0</td>\n",
       "      <td>64.0</td>\n",
       "      <td>11.0</td>\n",
       "    </tr>\n",
       "    <tr>\n",
       "      <th>0.0010</th>\n",
       "      <td>0.629183</td>\n",
       "      <td>0.517299</td>\n",
       "      <td>0.508492</td>\n",
       "      <td>0.534887</td>\n",
       "      <td>0.670039</td>\n",
       "      <td>0.573476</td>\n",
       "      <td>0.565575</td>\n",
       "      <td>0.585785</td>\n",
       "      <td>5.0</td>\n",
       "      <td>1.0</td>\n",
       "      <td>1.0</td>\n",
       "      <td>45.333333</td>\n",
       "      <td>2.0</td>\n",
       "      <td>1.0</td>\n",
       "      <td>5.0</td>\n",
       "      <td>64.0</td>\n",
       "      <td>9.0</td>\n",
       "    </tr>\n",
       "    <tr>\n",
       "      <th rowspan=\"6\" valign=\"top\">384</th>\n",
       "      <th rowspan=\"3\" valign=\"top\">0.1</th>\n",
       "      <th>0.0001</th>\n",
       "      <td>0.634547</td>\n",
       "      <td>0.515277</td>\n",
       "      <td>0.509226</td>\n",
       "      <td>0.531036</td>\n",
       "      <td>0.668861</td>\n",
       "      <td>0.564392</td>\n",
       "      <td>0.560358</td>\n",
       "      <td>0.573340</td>\n",
       "      <td>5.0</td>\n",
       "      <td>1.0</td>\n",
       "      <td>1.0</td>\n",
       "      <td>45.333333</td>\n",
       "      <td>2.0</td>\n",
       "      <td>1.0</td>\n",
       "      <td>5.0</td>\n",
       "      <td>64.0</td>\n",
       "      <td>13.0</td>\n",
       "    </tr>\n",
       "    <tr>\n",
       "      <th>0.0005</th>\n",
       "      <td>0.627203</td>\n",
       "      <td>0.516900</td>\n",
       "      <td>0.510293</td>\n",
       "      <td>0.539552</td>\n",
       "      <td>0.663937</td>\n",
       "      <td>0.567264</td>\n",
       "      <td>0.560725</td>\n",
       "      <td>0.582827</td>\n",
       "      <td>5.0</td>\n",
       "      <td>1.0</td>\n",
       "      <td>1.0</td>\n",
       "      <td>45.333333</td>\n",
       "      <td>2.0</td>\n",
       "      <td>1.0</td>\n",
       "      <td>5.0</td>\n",
       "      <td>64.0</td>\n",
       "      <td>14.0</td>\n",
       "    </tr>\n",
       "    <tr>\n",
       "      <th>0.0010</th>\n",
       "      <td>0.647254</td>\n",
       "      <td>0.522685</td>\n",
       "      <td>0.518117</td>\n",
       "      <td>0.532861</td>\n",
       "      <td>0.677639</td>\n",
       "      <td>0.571178</td>\n",
       "      <td>0.568890</td>\n",
       "      <td>0.576399</td>\n",
       "      <td>5.0</td>\n",
       "      <td>1.0</td>\n",
       "      <td>1.0</td>\n",
       "      <td>45.333333</td>\n",
       "      <td>2.0</td>\n",
       "      <td>1.0</td>\n",
       "      <td>5.0</td>\n",
       "      <td>64.0</td>\n",
       "      <td>12.0</td>\n",
       "    </tr>\n",
       "    <tr>\n",
       "      <th rowspan=\"3\" valign=\"top\">0.2</th>\n",
       "      <th>0.0001</th>\n",
       "      <td>0.634483</td>\n",
       "      <td>0.515202</td>\n",
       "      <td>0.509171</td>\n",
       "      <td>0.530733</td>\n",
       "      <td>0.669236</td>\n",
       "      <td>0.564509</td>\n",
       "      <td>0.560754</td>\n",
       "      <td>0.573214</td>\n",
       "      <td>5.0</td>\n",
       "      <td>1.0</td>\n",
       "      <td>1.0</td>\n",
       "      <td>45.333333</td>\n",
       "      <td>2.0</td>\n",
       "      <td>1.0</td>\n",
       "      <td>5.0</td>\n",
       "      <td>64.0</td>\n",
       "      <td>16.0</td>\n",
       "    </tr>\n",
       "    <tr>\n",
       "      <th>0.0005</th>\n",
       "      <td>0.629055</td>\n",
       "      <td>0.518017</td>\n",
       "      <td>0.510911</td>\n",
       "      <td>0.539540</td>\n",
       "      <td>0.663562</td>\n",
       "      <td>0.564704</td>\n",
       "      <td>0.558823</td>\n",
       "      <td>0.578551</td>\n",
       "      <td>5.0</td>\n",
       "      <td>1.0</td>\n",
       "      <td>1.0</td>\n",
       "      <td>45.333333</td>\n",
       "      <td>2.0</td>\n",
       "      <td>1.0</td>\n",
       "      <td>5.0</td>\n",
       "      <td>64.0</td>\n",
       "      <td>17.0</td>\n",
       "    </tr>\n",
       "    <tr>\n",
       "      <th>0.0010</th>\n",
       "      <td>0.629821</td>\n",
       "      <td>0.516384</td>\n",
       "      <td>0.508506</td>\n",
       "      <td>0.534401</td>\n",
       "      <td>0.665061</td>\n",
       "      <td>0.568381</td>\n",
       "      <td>0.560967</td>\n",
       "      <td>0.582082</td>\n",
       "      <td>5.0</td>\n",
       "      <td>1.0</td>\n",
       "      <td>1.0</td>\n",
       "      <td>45.333333</td>\n",
       "      <td>2.0</td>\n",
       "      <td>1.0</td>\n",
       "      <td>5.0</td>\n",
       "      <td>64.0</td>\n",
       "      <td>15.0</td>\n",
       "    </tr>\n",
       "  </tbody>\n",
       "</table>\n",
       "</div>"
      ],
      "text/plain": [
       "                                       accuracy        f1  precision  \\\n",
       "hidden_dim dropout_rate learning_rate                                  \n",
       "200        0.1          0.0001         0.634547  0.519613   0.512197   \n",
       "                        0.0005         0.628544  0.519520   0.510432   \n",
       "                        0.0010         0.622222  0.515454   0.506094   \n",
       "           0.2          0.0001         0.636079  0.519779   0.512261   \n",
       "                        0.0005         0.629694  0.520027   0.510934   \n",
       "                        0.0010         0.627714  0.517222   0.509453   \n",
       "300        0.1          0.0001         0.632759  0.519478   0.511447   \n",
       "                        0.0005         0.621711  0.515842   0.507247   \n",
       "                        0.0010         0.629502  0.516911   0.509068   \n",
       "           0.2          0.0001         0.633014  0.518748   0.511068   \n",
       "                        0.0005         0.624840  0.518100   0.509662   \n",
       "                        0.0010         0.629183  0.517299   0.508492   \n",
       "384        0.1          0.0001         0.634547  0.515277   0.509226   \n",
       "                        0.0005         0.627203  0.516900   0.510293   \n",
       "                        0.0010         0.647254  0.522685   0.518117   \n",
       "           0.2          0.0001         0.634483  0.515202   0.509171   \n",
       "                        0.0005         0.629055  0.518017   0.510911   \n",
       "                        0.0010         0.629821  0.516384   0.508506   \n",
       "\n",
       "                                         recall  valid_accuracy  valid_f1  \\\n",
       "hidden_dim dropout_rate learning_rate                                       \n",
       "200        0.1          0.0001         0.536266        0.665382  0.563706   \n",
       "                        0.0005         0.540885        0.667737  0.570114   \n",
       "                        0.0010         0.539096        0.662331  0.569553   \n",
       "           0.2          0.0001         0.534982        0.666131  0.563174   \n",
       "                        0.0005         0.540139        0.668058  0.569780   \n",
       "                        0.0010         0.539868        0.664793  0.570238   \n",
       "300        0.1          0.0001         0.538203        0.667255  0.566536   \n",
       "                        0.0005         0.539732        0.662653  0.567789   \n",
       "                        0.0010         0.535622        0.668219  0.572684   \n",
       "           0.2          0.0001         0.537209        0.666881  0.565415   \n",
       "                        0.0005         0.541077        0.664900  0.568798   \n",
       "                        0.0010         0.534887        0.670039  0.573476   \n",
       "384        0.1          0.0001         0.531036        0.668861  0.564392   \n",
       "                        0.0005         0.539552        0.663937  0.567264   \n",
       "                        0.0010         0.532861        0.677639  0.571178   \n",
       "           0.2          0.0001         0.530733        0.669236  0.564509   \n",
       "                        0.0005         0.539540        0.663562  0.564704   \n",
       "                        0.0010         0.534401        0.665061  0.568381   \n",
       "\n",
       "                                       valid_precision  valid_recall    k  \\\n",
       "hidden_dim dropout_rate learning_rate                                       \n",
       "200        0.1          0.0001                0.558355      0.574355  5.0   \n",
       "                        0.0005                0.562542      0.583625  5.0   \n",
       "                        0.0010                0.560306      0.586769  5.0   \n",
       "           0.2          0.0001                0.558015      0.572297  5.0   \n",
       "                        0.0005                0.562439      0.582488  5.0   \n",
       "                        0.0010                0.562381      0.586919  5.0   \n",
       "300        0.1          0.0001                0.560477      0.577860  5.0   \n",
       "                        0.0005                0.559548      0.584586  5.0   \n",
       "                        0.0010                0.565082      0.586446  5.0   \n",
       "           0.2          0.0001                0.559704      0.576238  5.0   \n",
       "                        0.0005                0.561221      0.584541  5.0   \n",
       "                        0.0010                0.565575      0.585785  5.0   \n",
       "384        0.1          0.0001                0.560358      0.573340  5.0   \n",
       "                        0.0005                0.560725      0.582827  5.0   \n",
       "                        0.0010                0.568890      0.576399  5.0   \n",
       "           0.2          0.0001                0.560754      0.573214  5.0   \n",
       "                        0.0005                0.558823      0.578551  5.0   \n",
       "                        0.0010                0.560967      0.582082  5.0   \n",
       "\n",
       "                                       num_layers  bidirectional       seed  \\\n",
       "hidden_dim dropout_rate learning_rate                                         \n",
       "200        0.1          0.0001                1.0            1.0  45.333333   \n",
       "                        0.0005                1.0            1.0  45.333333   \n",
       "                        0.0010                1.0            1.0  45.333333   \n",
       "           0.2          0.0001                1.0            1.0  45.333333   \n",
       "                        0.0005                1.0            1.0  45.333333   \n",
       "                        0.0010                1.0            1.0  45.333333   \n",
       "300        0.1          0.0001                1.0            1.0  45.333333   \n",
       "                        0.0005                1.0            1.0  45.333333   \n",
       "                        0.0010                1.0            1.0  45.333333   \n",
       "           0.2          0.0001                1.0            1.0  45.333333   \n",
       "                        0.0005                1.0            1.0  45.333333   \n",
       "                        0.0010                1.0            1.0  45.333333   \n",
       "384        0.1          0.0001                1.0            1.0  45.333333   \n",
       "                        0.0005                1.0            1.0  45.333333   \n",
       "                        0.0010                1.0            1.0  45.333333   \n",
       "           0.2          0.0001                1.0            1.0  45.333333   \n",
       "                        0.0005                1.0            1.0  45.333333   \n",
       "                        0.0010                1.0            1.0  45.333333   \n",
       "\n",
       "                                       gamma  k_fold  n_splits  batch_size  \\\n",
       "hidden_dim dropout_rate learning_rate                                        \n",
       "200        0.1          0.0001           2.0     1.0       5.0        64.0   \n",
       "                        0.0005           2.0     1.0       5.0        64.0   \n",
       "                        0.0010           2.0     1.0       5.0        64.0   \n",
       "           0.2          0.0001           2.0     1.0       5.0        64.0   \n",
       "                        0.0005           2.0     1.0       5.0        64.0   \n",
       "                        0.0010           2.0     1.0       5.0        64.0   \n",
       "300        0.1          0.0001           2.0     1.0       5.0        64.0   \n",
       "                        0.0005           2.0     1.0       5.0        64.0   \n",
       "                        0.0010           2.0     1.0       5.0        64.0   \n",
       "           0.2          0.0001           2.0     1.0       5.0        64.0   \n",
       "                        0.0005           2.0     1.0       5.0        64.0   \n",
       "                        0.0010           2.0     1.0       5.0        64.0   \n",
       "384        0.1          0.0001           2.0     1.0       5.0        64.0   \n",
       "                        0.0005           2.0     1.0       5.0        64.0   \n",
       "                        0.0010           2.0     1.0       5.0        64.0   \n",
       "           0.2          0.0001           2.0     1.0       5.0        64.0   \n",
       "                        0.0005           2.0     1.0       5.0        64.0   \n",
       "                        0.0010           2.0     1.0       5.0        64.0   \n",
       "\n",
       "                                       model_id  \n",
       "hidden_dim dropout_rate learning_rate            \n",
       "200        0.1          0.0001              1.0  \n",
       "                        0.0005              2.0  \n",
       "                        0.0010              0.0  \n",
       "           0.2          0.0001              4.0  \n",
       "                        0.0005              5.0  \n",
       "                        0.0010              3.0  \n",
       "300        0.1          0.0001              7.0  \n",
       "                        0.0005              8.0  \n",
       "                        0.0010              6.0  \n",
       "           0.2          0.0001             10.0  \n",
       "                        0.0005             11.0  \n",
       "                        0.0010              9.0  \n",
       "384        0.1          0.0001             13.0  \n",
       "                        0.0005             14.0  \n",
       "                        0.0010             12.0  \n",
       "           0.2          0.0001             16.0  \n",
       "                        0.0005             17.0  \n",
       "                        0.0010             15.0  "
      ]
     },
     "execution_count": 14,
     "metadata": {},
     "output_type": "execute_result"
    }
   ],
   "source": [
    "bilstm_history_5_kfold.groupby([\"hidden_dim\", \"dropout_rate\", \"learning_rate\"]).mean()"
   ]
  },
  {
   "cell_type": "code",
   "execution_count": 15,
   "id": "8c1e8d48",
   "metadata": {},
   "outputs": [
    {
     "data": {
      "text/html": [
       "<div>\n",
       "<style scoped>\n",
       "    .dataframe tbody tr th:only-of-type {\n",
       "        vertical-align: middle;\n",
       "    }\n",
       "\n",
       "    .dataframe tbody tr th {\n",
       "        vertical-align: top;\n",
       "    }\n",
       "\n",
       "    .dataframe thead th {\n",
       "        text-align: right;\n",
       "    }\n",
       "</style>\n",
       "<table border=\"1\" class=\"dataframe\">\n",
       "  <thead>\n",
       "    <tr style=\"text-align: right;\">\n",
       "      <th></th>\n",
       "      <th>loss</th>\n",
       "      <th>accuracy</th>\n",
       "      <th>f1</th>\n",
       "      <th>f1_scores</th>\n",
       "      <th>precision</th>\n",
       "      <th>precision_scores</th>\n",
       "      <th>recall</th>\n",
       "      <th>recall_scores</th>\n",
       "      <th>valid_loss</th>\n",
       "      <th>valid_accuracy</th>\n",
       "      <th>...</th>\n",
       "      <th>bidirectional</th>\n",
       "      <th>hidden_dim</th>\n",
       "      <th>dropout_rate</th>\n",
       "      <th>learning_rate</th>\n",
       "      <th>seed</th>\n",
       "      <th>loss_function</th>\n",
       "      <th>gamma</th>\n",
       "      <th>k_fold</th>\n",
       "      <th>n_splits</th>\n",
       "      <th>batch_size</th>\n",
       "    </tr>\n",
       "  </thead>\n",
       "  <tbody>\n",
       "    <tr>\n",
       "      <th>0</th>\n",
       "      <td>None</td>\n",
       "      <td>0.630843</td>\n",
       "      <td>0.516468</td>\n",
       "      <td>[0.7559266438049799, 0.42970379641218187, 0.36...</td>\n",
       "      <td>0.508000</td>\n",
       "      <td>[0.7802400738688827, 0.4345991561181435, 0.309...</td>\n",
       "      <td>0.533273</td>\n",
       "      <td>[0.7330827067669173, 0.4249174917491749, 0.441...</td>\n",
       "      <td>None</td>\n",
       "      <td>0.678227</td>\n",
       "      <td>...</td>\n",
       "      <td>True</td>\n",
       "      <td>300</td>\n",
       "      <td>0.2</td>\n",
       "      <td>0.001</td>\n",
       "      <td>1</td>\n",
       "      <td>focal</td>\n",
       "      <td>2</td>\n",
       "      <td>True</td>\n",
       "      <td>5</td>\n",
       "      <td>64</td>\n",
       "    </tr>\n",
       "    <tr>\n",
       "      <th>0</th>\n",
       "      <td>None</td>\n",
       "      <td>0.625862</td>\n",
       "      <td>0.517632</td>\n",
       "      <td>[0.7482302246845183, 0.4744838332684067, 0.330...</td>\n",
       "      <td>0.508090</td>\n",
       "      <td>[0.7996710526315789, 0.44944649446494467, 0.27...</td>\n",
       "      <td>0.539403</td>\n",
       "      <td>[0.7030075187969925, 0.5024752475247525, 0.412...</td>\n",
       "      <td>None</td>\n",
       "      <td>0.664258</td>\n",
       "      <td>...</td>\n",
       "      <td>True</td>\n",
       "      <td>300</td>\n",
       "      <td>0.2</td>\n",
       "      <td>0.001</td>\n",
       "      <td>12</td>\n",
       "      <td>focal</td>\n",
       "      <td>2</td>\n",
       "      <td>True</td>\n",
       "      <td>5</td>\n",
       "      <td>64</td>\n",
       "    </tr>\n",
       "    <tr>\n",
       "      <th>0</th>\n",
       "      <td>None</td>\n",
       "      <td>0.630843</td>\n",
       "      <td>0.517798</td>\n",
       "      <td>[0.750037397157816, 0.4557988645579887, 0.3475...</td>\n",
       "      <td>0.509387</td>\n",
       "      <td>[0.7768825534552216, 0.4481658692185008, 0.303...</td>\n",
       "      <td>0.531985</td>\n",
       "      <td>[0.7249855407750144, 0.4636963696369637, 0.407...</td>\n",
       "      <td>None</td>\n",
       "      <td>0.667630</td>\n",
       "      <td>...</td>\n",
       "      <td>True</td>\n",
       "      <td>300</td>\n",
       "      <td>0.2</td>\n",
       "      <td>0.001</td>\n",
       "      <td>123</td>\n",
       "      <td>focal</td>\n",
       "      <td>2</td>\n",
       "      <td>True</td>\n",
       "      <td>5</td>\n",
       "      <td>64</td>\n",
       "    </tr>\n",
       "  </tbody>\n",
       "</table>\n",
       "<p>3 rows × 27 columns</p>\n",
       "</div>"
      ],
      "text/plain": [
       "   loss  accuracy        f1  \\\n",
       "0  None  0.630843  0.516468   \n",
       "0  None  0.625862  0.517632   \n",
       "0  None  0.630843  0.517798   \n",
       "\n",
       "                                           f1_scores  precision  \\\n",
       "0  [0.7559266438049799, 0.42970379641218187, 0.36...   0.508000   \n",
       "0  [0.7482302246845183, 0.4744838332684067, 0.330...   0.508090   \n",
       "0  [0.750037397157816, 0.4557988645579887, 0.3475...   0.509387   \n",
       "\n",
       "                                    precision_scores    recall  \\\n",
       "0  [0.7802400738688827, 0.4345991561181435, 0.309...  0.533273   \n",
       "0  [0.7996710526315789, 0.44944649446494467, 0.27...  0.539403   \n",
       "0  [0.7768825534552216, 0.4481658692185008, 0.303...  0.531985   \n",
       "\n",
       "                                       recall_scores valid_loss  \\\n",
       "0  [0.7330827067669173, 0.4249174917491749, 0.441...       None   \n",
       "0  [0.7030075187969925, 0.5024752475247525, 0.412...       None   \n",
       "0  [0.7249855407750144, 0.4636963696369637, 0.407...       None   \n",
       "\n",
       "   valid_accuracy  ...  bidirectional hidden_dim  dropout_rate learning_rate  \\\n",
       "0        0.678227  ...           True        300           0.2         0.001   \n",
       "0        0.664258  ...           True        300           0.2         0.001   \n",
       "0        0.667630  ...           True        300           0.2         0.001   \n",
       "\n",
       "   seed loss_function  gamma  k_fold  n_splits  batch_size  \n",
       "0     1         focal      2    True         5          64  \n",
       "0    12         focal      2    True         5          64  \n",
       "0   123         focal      2    True         5          64  \n",
       "\n",
       "[3 rows x 27 columns]"
      ]
     },
     "execution_count": 15,
     "metadata": {},
     "output_type": "execute_result"
    }
   ],
   "source": [
    "best_bilstm_history_5_kfold"
   ]
  },
  {
   "cell_type": "code",
   "execution_count": 16,
   "id": "45262587",
   "metadata": {},
   "outputs": [
    {
     "data": {
      "text/plain": [
       "0.5172990309232012"
      ]
     },
     "execution_count": 16,
     "metadata": {},
     "output_type": "execute_result"
    }
   ],
   "source": [
    "best_bilstm_history_5_kfold[\"f1\"].mean()"
   ]
  },
  {
   "cell_type": "code",
   "execution_count": 17,
   "id": "14eb79a3",
   "metadata": {},
   "outputs": [
    {
     "data": {
      "text/plain": [
       "0.5084921482433392"
      ]
     },
     "execution_count": 17,
     "metadata": {},
     "output_type": "execute_result"
    }
   ],
   "source": [
    "best_bilstm_history_5_kfold[\"precision\"].mean()"
   ]
  },
  {
   "cell_type": "code",
   "execution_count": 18,
   "id": "c79cae56",
   "metadata": {},
   "outputs": [
    {
     "data": {
      "text/plain": [
       "0.5348870063408886"
      ]
     },
     "execution_count": 18,
     "metadata": {},
     "output_type": "execute_result"
    }
   ],
   "source": [
    "best_bilstm_history_5_kfold[\"recall\"].mean()"
   ]
  },
  {
   "cell_type": "code",
   "execution_count": 19,
   "id": "50b12a82",
   "metadata": {
    "scrolled": true
   },
   "outputs": [
    {
     "data": {
      "text/plain": [
       "array([0.75139809, 0.45332883, 0.34717017])"
      ]
     },
     "execution_count": 19,
     "metadata": {},
     "output_type": "execute_result"
    }
   ],
   "source": [
    "np.stack(best_bilstm_history_5_kfold[\"f1_scores\"]).mean(axis=0)"
   ]
  },
  {
   "cell_type": "code",
   "execution_count": 20,
   "id": "0ab08d48",
   "metadata": {},
   "outputs": [
    {
     "data": {
      "text/plain": [
       "array([0.78559789, 0.44407051, 0.29580804])"
      ]
     },
     "execution_count": 20,
     "metadata": {},
     "output_type": "execute_result"
    }
   ],
   "source": [
    "np.stack(best_bilstm_history_5_kfold[\"precision_scores\"]).mean(axis=0)"
   ]
  },
  {
   "cell_type": "code",
   "execution_count": 21,
   "id": "cdae8626",
   "metadata": {},
   "outputs": [
    {
     "data": {
      "text/plain": [
       "array([0.72035859, 0.46369637, 0.42060606])"
      ]
     },
     "execution_count": 21,
     "metadata": {},
     "output_type": "execute_result"
    }
   ],
   "source": [
    "np.stack(best_bilstm_history_5_kfold[\"recall_scores\"]).mean(axis=0)"
   ]
  },
  {
   "cell_type": "markdown",
   "id": "f1c3d414",
   "metadata": {},
   "source": [
    "## history_length=11"
   ]
  },
  {
   "cell_type": "code",
   "execution_count": 22,
   "id": "e42defb1-3385-4403-a959-6988ff56f5de",
   "metadata": {},
   "outputs": [],
   "source": [
    "size = 11"
   ]
  },
  {
   "cell_type": "code",
   "execution_count": 23,
   "id": "4d4c5c9b",
   "metadata": {},
   "outputs": [
    {
     "data": {
      "application/vnd.jupyter.widget-view+json": {
       "model_id": "f9621010a3824f3dab612d41f339e9c5",
       "version_major": 2,
       "version_minor": 0
      },
      "text/plain": [
       "  0%|          | 0/1 [00:00<?, ?it/s]"
      ]
     },
     "metadata": {},
     "output_type": "display_data"
    },
    {
     "name": "stdout",
     "output_type": "stream",
     "text": [
      "[INFO] Concatenating the embeddings to the dataframe...\n",
      "[INFO] - columns beginning with 'e' denote the full embddings.\n",
      "[INFO] Adding time feature columns into dataframe in `.df`.\n",
      "[INFO] Adding 'time_encoding' feature...\n",
      "[INFO] Adding 'time_diff' feature...\n",
      "[INFO] Adding 'timeline_index' feature...\n",
      "[INFO] Padding ids and storing in `.df_padded` and `.array_padded` attributes.\n"
     ]
    },
    {
     "data": {
      "application/vnd.jupyter.widget-view+json": {
       "model_id": "0268aa1787ef40a6a263ff58857f41c1",
       "version_major": 2,
       "version_minor": 0
      },
      "text/plain": [
       "  0%|          | 0/9699 [00:00<?, ?it/s]"
      ]
     },
     "metadata": {},
     "output_type": "display_data"
    },
    {
     "data": {
      "application/vnd.jupyter.widget-view+json": {
       "model_id": "9fd8e34712514b2b87fb771a45a328d6",
       "version_major": 2,
       "version_minor": 0
      },
      "text/plain": [
       "  0%|          | 0/3 [00:00<?, ?it/s]"
      ]
     },
     "metadata": {},
     "output_type": "display_data"
    },
    {
     "data": {
      "application/vnd.jupyter.widget-view+json": {
       "model_id": "a8029286000047e8bea7b62caaaaebcb",
       "version_major": 2,
       "version_minor": 0
      },
      "text/plain": [
       "  0%|          | 0/2 [00:00<?, ?it/s]"
      ]
     },
     "metadata": {},
     "output_type": "display_data"
    },
    {
     "data": {
      "application/vnd.jupyter.widget-view+json": {
       "model_id": "6d0fd00005cb42109d2c0bb677dba87c",
       "version_major": 2,
       "version_minor": 0
      },
      "text/plain": [
       "  0%|          | 0/3 [00:00<?, ?it/s]"
      ]
     },
     "metadata": {},
     "output_type": "display_data"
    },
    {
     "data": {
      "application/vnd.jupyter.widget-view+json": {
       "model_id": "7905592b77f94779af4540d46d76f1d3",
       "version_major": 2,
       "version_minor": 0
      },
      "text/plain": [
       "  0%|          | 0/3 [00:00<?, ?it/s]"
      ]
     },
     "metadata": {},
     "output_type": "display_data"
    },
    {
     "data": {
      "application/vnd.jupyter.widget-view+json": {
       "model_id": "35e0ad594df447a5961674384f88f23a",
       "version_major": 2,
       "version_minor": 0
      },
      "text/plain": [
       "  0%|          | 0/2 [00:00<?, ?it/s]"
      ]
     },
     "metadata": {},
     "output_type": "display_data"
    },
    {
     "data": {
      "application/vnd.jupyter.widget-view+json": {
       "model_id": "37beb34c728141a9b220fa3ea611d5ed",
       "version_major": 2,
       "version_minor": 0
      },
      "text/plain": [
       "  0%|          | 0/3 [00:00<?, ?it/s]"
      ]
     },
     "metadata": {},
     "output_type": "display_data"
    },
    {
     "data": {
      "application/vnd.jupyter.widget-view+json": {
       "model_id": "33e924bfdd4f4999bae4cc4a3498c9b7",
       "version_major": 2,
       "version_minor": 0
      },
      "text/plain": [
       "  0%|          | 0/3 [00:00<?, ?it/s]"
      ]
     },
     "metadata": {},
     "output_type": "display_data"
    },
    {
     "data": {
      "application/vnd.jupyter.widget-view+json": {
       "model_id": "cc6018be47084af68bb0ecf56cb742b2",
       "version_major": 2,
       "version_minor": 0
      },
      "text/plain": [
       "  0%|          | 0/2 [00:00<?, ?it/s]"
      ]
     },
     "metadata": {},
     "output_type": "display_data"
    },
    {
     "data": {
      "application/vnd.jupyter.widget-view+json": {
       "model_id": "8cd772a0a2c0486d9b74984a8f998db9",
       "version_major": 2,
       "version_minor": 0
      },
      "text/plain": [
       "  0%|          | 0/3 [00:00<?, ?it/s]"
      ]
     },
     "metadata": {},
     "output_type": "display_data"
    },
    {
     "data": {
      "application/vnd.jupyter.widget-view+json": {
       "model_id": "869e72791a6e4d7d85cbafcf680b6f2c",
       "version_major": 2,
       "version_minor": 0
      },
      "text/plain": [
       "  0%|          | 0/3 [00:00<?, ?it/s]"
      ]
     },
     "metadata": {},
     "output_type": "display_data"
    },
    {
     "name": "stdout",
     "output_type": "stream",
     "text": [
      "saving results dataframe to CSV for this hyperparameter search in client_talk_type_output/lstm_history_11_focal_2_kfold.csv\n",
      "saving the best model results dataframe to CSV for this hyperparameter search in client_talk_type_output/lstm_history_11_focal_2_kfold_best_model.csv\n"
     ]
    }
   ],
   "source": [
    "(\n",
    "    bilstm_history_11_kfold,\n",
    "    best_bilstm_history_11_kfold,\n",
    "    _,\n",
    "    __,\n",
    ") = lstm_hyperparameter_search(\n",
    "    history_lengths=[size],\n",
    "    results_output=f\"{output_dir}/lstm_history_{size}_focal_{gamma}_kfold.csv\",\n",
    "    **kwargs,\n",
    ")"
   ]
  },
  {
   "cell_type": "code",
   "execution_count": 24,
   "id": "dac6c4f4",
   "metadata": {},
   "outputs": [
    {
     "name": "stderr",
     "output_type": "stream",
     "text": [
      "/tmp/ipykernel_3407032/2392464154.py:1: FutureWarning: The default value of numeric_only in DataFrameGroupBy.mean is deprecated. In a future version, numeric_only will default to False. Either specify numeric_only or select only columns which should be valid for the function.\n",
      "  bilstm_history_11_kfold.groupby([\"hidden_dim\", \"dropout_rate\", \"learning_rate\"]).mean()\n"
     ]
    },
    {
     "data": {
      "text/html": [
       "<div>\n",
       "<style scoped>\n",
       "    .dataframe tbody tr th:only-of-type {\n",
       "        vertical-align: middle;\n",
       "    }\n",
       "\n",
       "    .dataframe tbody tr th {\n",
       "        vertical-align: top;\n",
       "    }\n",
       "\n",
       "    .dataframe thead th {\n",
       "        text-align: right;\n",
       "    }\n",
       "</style>\n",
       "<table border=\"1\" class=\"dataframe\">\n",
       "  <thead>\n",
       "    <tr style=\"text-align: right;\">\n",
       "      <th></th>\n",
       "      <th></th>\n",
       "      <th></th>\n",
       "      <th>accuracy</th>\n",
       "      <th>f1</th>\n",
       "      <th>precision</th>\n",
       "      <th>recall</th>\n",
       "      <th>valid_accuracy</th>\n",
       "      <th>valid_f1</th>\n",
       "      <th>valid_precision</th>\n",
       "      <th>valid_recall</th>\n",
       "      <th>k</th>\n",
       "      <th>num_layers</th>\n",
       "      <th>bidirectional</th>\n",
       "      <th>seed</th>\n",
       "      <th>gamma</th>\n",
       "      <th>k_fold</th>\n",
       "      <th>n_splits</th>\n",
       "      <th>batch_size</th>\n",
       "      <th>model_id</th>\n",
       "    </tr>\n",
       "    <tr>\n",
       "      <th>hidden_dim</th>\n",
       "      <th>dropout_rate</th>\n",
       "      <th>learning_rate</th>\n",
       "      <th></th>\n",
       "      <th></th>\n",
       "      <th></th>\n",
       "      <th></th>\n",
       "      <th></th>\n",
       "      <th></th>\n",
       "      <th></th>\n",
       "      <th></th>\n",
       "      <th></th>\n",
       "      <th></th>\n",
       "      <th></th>\n",
       "      <th></th>\n",
       "      <th></th>\n",
       "      <th></th>\n",
       "      <th></th>\n",
       "      <th></th>\n",
       "      <th></th>\n",
       "    </tr>\n",
       "  </thead>\n",
       "  <tbody>\n",
       "    <tr>\n",
       "      <th rowspan=\"6\" valign=\"top\">200</th>\n",
       "      <th rowspan=\"3\" valign=\"top\">0.1</th>\n",
       "      <th>0.0001</th>\n",
       "      <td>0.627842</td>\n",
       "      <td>0.509209</td>\n",
       "      <td>0.502304</td>\n",
       "      <td>0.522968</td>\n",
       "      <td>0.674160</td>\n",
       "      <td>0.578283</td>\n",
       "      <td>0.571189</td>\n",
       "      <td>0.589550</td>\n",
       "      <td>11.0</td>\n",
       "      <td>1.0</td>\n",
       "      <td>1.0</td>\n",
       "      <td>45.333333</td>\n",
       "      <td>2.0</td>\n",
       "      <td>1.0</td>\n",
       "      <td>5.0</td>\n",
       "      <td>64.0</td>\n",
       "      <td>1.0</td>\n",
       "    </tr>\n",
       "    <tr>\n",
       "      <th>0.0005</th>\n",
       "      <td>0.641890</td>\n",
       "      <td>0.527023</td>\n",
       "      <td>0.519033</td>\n",
       "      <td>0.539136</td>\n",
       "      <td>0.686630</td>\n",
       "      <td>0.589028</td>\n",
       "      <td>0.583319</td>\n",
       "      <td>0.596243</td>\n",
       "      <td>11.0</td>\n",
       "      <td>1.0</td>\n",
       "      <td>1.0</td>\n",
       "      <td>45.333333</td>\n",
       "      <td>2.0</td>\n",
       "      <td>1.0</td>\n",
       "      <td>5.0</td>\n",
       "      <td>64.0</td>\n",
       "      <td>2.0</td>\n",
       "    </tr>\n",
       "    <tr>\n",
       "      <th>0.0010</th>\n",
       "      <td>0.630779</td>\n",
       "      <td>0.521670</td>\n",
       "      <td>0.513013</td>\n",
       "      <td>0.541516</td>\n",
       "      <td>0.678977</td>\n",
       "      <td>0.584832</td>\n",
       "      <td>0.576708</td>\n",
       "      <td>0.598811</td>\n",
       "      <td>11.0</td>\n",
       "      <td>1.0</td>\n",
       "      <td>1.0</td>\n",
       "      <td>45.333333</td>\n",
       "      <td>2.0</td>\n",
       "      <td>1.0</td>\n",
       "      <td>5.0</td>\n",
       "      <td>64.0</td>\n",
       "      <td>0.0</td>\n",
       "    </tr>\n",
       "    <tr>\n",
       "      <th rowspan=\"3\" valign=\"top\">0.2</th>\n",
       "      <th>0.0001</th>\n",
       "      <td>0.627714</td>\n",
       "      <td>0.509671</td>\n",
       "      <td>0.503125</td>\n",
       "      <td>0.522303</td>\n",
       "      <td>0.674695</td>\n",
       "      <td>0.577582</td>\n",
       "      <td>0.571247</td>\n",
       "      <td>0.587586</td>\n",
       "      <td>11.0</td>\n",
       "      <td>1.0</td>\n",
       "      <td>1.0</td>\n",
       "      <td>45.333333</td>\n",
       "      <td>2.0</td>\n",
       "      <td>1.0</td>\n",
       "      <td>5.0</td>\n",
       "      <td>64.0</td>\n",
       "      <td>4.0</td>\n",
       "    </tr>\n",
       "    <tr>\n",
       "      <th>0.0005</th>\n",
       "      <td>0.637931</td>\n",
       "      <td>0.524105</td>\n",
       "      <td>0.515574</td>\n",
       "      <td>0.537357</td>\n",
       "      <td>0.684650</td>\n",
       "      <td>0.591363</td>\n",
       "      <td>0.583466</td>\n",
       "      <td>0.601750</td>\n",
       "      <td>11.0</td>\n",
       "      <td>1.0</td>\n",
       "      <td>1.0</td>\n",
       "      <td>45.333333</td>\n",
       "      <td>2.0</td>\n",
       "      <td>1.0</td>\n",
       "      <td>5.0</td>\n",
       "      <td>64.0</td>\n",
       "      <td>5.0</td>\n",
       "    </tr>\n",
       "    <tr>\n",
       "      <th>0.0010</th>\n",
       "      <td>0.627011</td>\n",
       "      <td>0.521863</td>\n",
       "      <td>0.512302</td>\n",
       "      <td>0.546282</td>\n",
       "      <td>0.672875</td>\n",
       "      <td>0.583264</td>\n",
       "      <td>0.573307</td>\n",
       "      <td>0.602862</td>\n",
       "      <td>11.0</td>\n",
       "      <td>1.0</td>\n",
       "      <td>1.0</td>\n",
       "      <td>45.333333</td>\n",
       "      <td>2.0</td>\n",
       "      <td>1.0</td>\n",
       "      <td>5.0</td>\n",
       "      <td>64.0</td>\n",
       "      <td>3.0</td>\n",
       "    </tr>\n",
       "    <tr>\n",
       "      <th rowspan=\"6\" valign=\"top\">300</th>\n",
       "      <th rowspan=\"3\" valign=\"top\">0.1</th>\n",
       "      <th>0.0001</th>\n",
       "      <td>0.618455</td>\n",
       "      <td>0.505811</td>\n",
       "      <td>0.497620</td>\n",
       "      <td>0.522941</td>\n",
       "      <td>0.669343</td>\n",
       "      <td>0.575946</td>\n",
       "      <td>0.567465</td>\n",
       "      <td>0.590168</td>\n",
       "      <td>11.0</td>\n",
       "      <td>1.0</td>\n",
       "      <td>1.0</td>\n",
       "      <td>45.333333</td>\n",
       "      <td>2.0</td>\n",
       "      <td>1.0</td>\n",
       "      <td>5.0</td>\n",
       "      <td>64.0</td>\n",
       "      <td>7.0</td>\n",
       "    </tr>\n",
       "    <tr>\n",
       "      <th>0.0005</th>\n",
       "      <td>0.626373</td>\n",
       "      <td>0.517695</td>\n",
       "      <td>0.508733</td>\n",
       "      <td>0.536579</td>\n",
       "      <td>0.682777</td>\n",
       "      <td>0.591319</td>\n",
       "      <td>0.582535</td>\n",
       "      <td>0.606281</td>\n",
       "      <td>11.0</td>\n",
       "      <td>1.0</td>\n",
       "      <td>1.0</td>\n",
       "      <td>45.333333</td>\n",
       "      <td>2.0</td>\n",
       "      <td>1.0</td>\n",
       "      <td>5.0</td>\n",
       "      <td>64.0</td>\n",
       "      <td>8.0</td>\n",
       "    </tr>\n",
       "    <tr>\n",
       "      <th>0.0010</th>\n",
       "      <td>0.636782</td>\n",
       "      <td>0.524299</td>\n",
       "      <td>0.515492</td>\n",
       "      <td>0.541142</td>\n",
       "      <td>0.679994</td>\n",
       "      <td>0.583077</td>\n",
       "      <td>0.575536</td>\n",
       "      <td>0.594472</td>\n",
       "      <td>11.0</td>\n",
       "      <td>1.0</td>\n",
       "      <td>1.0</td>\n",
       "      <td>45.333333</td>\n",
       "      <td>2.0</td>\n",
       "      <td>1.0</td>\n",
       "      <td>5.0</td>\n",
       "      <td>64.0</td>\n",
       "      <td>6.0</td>\n",
       "    </tr>\n",
       "    <tr>\n",
       "      <th rowspan=\"3\" valign=\"top\">0.2</th>\n",
       "      <th>0.0001</th>\n",
       "      <td>0.622222</td>\n",
       "      <td>0.505860</td>\n",
       "      <td>0.498380</td>\n",
       "      <td>0.521759</td>\n",
       "      <td>0.670146</td>\n",
       "      <td>0.575205</td>\n",
       "      <td>0.567670</td>\n",
       "      <td>0.588211</td>\n",
       "      <td>11.0</td>\n",
       "      <td>1.0</td>\n",
       "      <td>1.0</td>\n",
       "      <td>45.333333</td>\n",
       "      <td>2.0</td>\n",
       "      <td>1.0</td>\n",
       "      <td>5.0</td>\n",
       "      <td>64.0</td>\n",
       "      <td>10.0</td>\n",
       "    </tr>\n",
       "    <tr>\n",
       "      <th>0.0005</th>\n",
       "      <td>0.631545</td>\n",
       "      <td>0.520904</td>\n",
       "      <td>0.511746</td>\n",
       "      <td>0.537220</td>\n",
       "      <td>0.684811</td>\n",
       "      <td>0.591994</td>\n",
       "      <td>0.583229</td>\n",
       "      <td>0.604981</td>\n",
       "      <td>11.0</td>\n",
       "      <td>1.0</td>\n",
       "      <td>1.0</td>\n",
       "      <td>45.333333</td>\n",
       "      <td>2.0</td>\n",
       "      <td>1.0</td>\n",
       "      <td>5.0</td>\n",
       "      <td>64.0</td>\n",
       "      <td>11.0</td>\n",
       "    </tr>\n",
       "    <tr>\n",
       "      <th>0.0010</th>\n",
       "      <td>0.640868</td>\n",
       "      <td>0.525830</td>\n",
       "      <td>0.517928</td>\n",
       "      <td>0.541096</td>\n",
       "      <td>0.681760</td>\n",
       "      <td>0.584626</td>\n",
       "      <td>0.577672</td>\n",
       "      <td>0.595171</td>\n",
       "      <td>11.0</td>\n",
       "      <td>1.0</td>\n",
       "      <td>1.0</td>\n",
       "      <td>45.333333</td>\n",
       "      <td>2.0</td>\n",
       "      <td>1.0</td>\n",
       "      <td>5.0</td>\n",
       "      <td>64.0</td>\n",
       "      <td>9.0</td>\n",
       "    </tr>\n",
       "    <tr>\n",
       "      <th rowspan=\"6\" valign=\"top\">384</th>\n",
       "      <th rowspan=\"3\" valign=\"top\">0.1</th>\n",
       "      <th>0.0001</th>\n",
       "      <td>0.621392</td>\n",
       "      <td>0.509592</td>\n",
       "      <td>0.500969</td>\n",
       "      <td>0.525201</td>\n",
       "      <td>0.672554</td>\n",
       "      <td>0.579264</td>\n",
       "      <td>0.570733</td>\n",
       "      <td>0.591528</td>\n",
       "      <td>11.0</td>\n",
       "      <td>1.0</td>\n",
       "      <td>1.0</td>\n",
       "      <td>45.333333</td>\n",
       "      <td>2.0</td>\n",
       "      <td>1.0</td>\n",
       "      <td>5.0</td>\n",
       "      <td>64.0</td>\n",
       "      <td>13.0</td>\n",
       "    </tr>\n",
       "    <tr>\n",
       "      <th>0.0005</th>\n",
       "      <td>0.633333</td>\n",
       "      <td>0.521875</td>\n",
       "      <td>0.513666</td>\n",
       "      <td>0.541770</td>\n",
       "      <td>0.682509</td>\n",
       "      <td>0.588698</td>\n",
       "      <td>0.580557</td>\n",
       "      <td>0.602358</td>\n",
       "      <td>11.0</td>\n",
       "      <td>1.0</td>\n",
       "      <td>1.0</td>\n",
       "      <td>45.333333</td>\n",
       "      <td>2.0</td>\n",
       "      <td>1.0</td>\n",
       "      <td>5.0</td>\n",
       "      <td>64.0</td>\n",
       "      <td>14.0</td>\n",
       "    </tr>\n",
       "    <tr>\n",
       "      <th>0.0010</th>\n",
       "      <td>0.639144</td>\n",
       "      <td>0.519695</td>\n",
       "      <td>0.513112</td>\n",
       "      <td>0.531444</td>\n",
       "      <td>0.681225</td>\n",
       "      <td>0.579072</td>\n",
       "      <td>0.574450</td>\n",
       "      <td>0.585970</td>\n",
       "      <td>11.0</td>\n",
       "      <td>1.0</td>\n",
       "      <td>1.0</td>\n",
       "      <td>45.333333</td>\n",
       "      <td>2.0</td>\n",
       "      <td>1.0</td>\n",
       "      <td>5.0</td>\n",
       "      <td>64.0</td>\n",
       "      <td>12.0</td>\n",
       "    </tr>\n",
       "    <tr>\n",
       "      <th rowspan=\"3\" valign=\"top\">0.2</th>\n",
       "      <th>0.0001</th>\n",
       "      <td>0.617816</td>\n",
       "      <td>0.506212</td>\n",
       "      <td>0.497928</td>\n",
       "      <td>0.524696</td>\n",
       "      <td>0.669985</td>\n",
       "      <td>0.577806</td>\n",
       "      <td>0.568874</td>\n",
       "      <td>0.592988</td>\n",
       "      <td>11.0</td>\n",
       "      <td>1.0</td>\n",
       "      <td>1.0</td>\n",
       "      <td>45.333333</td>\n",
       "      <td>2.0</td>\n",
       "      <td>1.0</td>\n",
       "      <td>5.0</td>\n",
       "      <td>64.0</td>\n",
       "      <td>16.0</td>\n",
       "    </tr>\n",
       "    <tr>\n",
       "      <th>0.0005</th>\n",
       "      <td>0.640805</td>\n",
       "      <td>0.525211</td>\n",
       "      <td>0.518076</td>\n",
       "      <td>0.540040</td>\n",
       "      <td>0.687968</td>\n",
       "      <td>0.590499</td>\n",
       "      <td>0.584596</td>\n",
       "      <td>0.599714</td>\n",
       "      <td>11.0</td>\n",
       "      <td>1.0</td>\n",
       "      <td>1.0</td>\n",
       "      <td>45.333333</td>\n",
       "      <td>2.0</td>\n",
       "      <td>1.0</td>\n",
       "      <td>5.0</td>\n",
       "      <td>64.0</td>\n",
       "      <td>17.0</td>\n",
       "    </tr>\n",
       "    <tr>\n",
       "      <th>0.0010</th>\n",
       "      <td>0.643103</td>\n",
       "      <td>0.523372</td>\n",
       "      <td>0.516826</td>\n",
       "      <td>0.534166</td>\n",
       "      <td>0.683098</td>\n",
       "      <td>0.581563</td>\n",
       "      <td>0.576354</td>\n",
       "      <td>0.588982</td>\n",
       "      <td>11.0</td>\n",
       "      <td>1.0</td>\n",
       "      <td>1.0</td>\n",
       "      <td>45.333333</td>\n",
       "      <td>2.0</td>\n",
       "      <td>1.0</td>\n",
       "      <td>5.0</td>\n",
       "      <td>64.0</td>\n",
       "      <td>15.0</td>\n",
       "    </tr>\n",
       "  </tbody>\n",
       "</table>\n",
       "</div>"
      ],
      "text/plain": [
       "                                       accuracy        f1  precision  \\\n",
       "hidden_dim dropout_rate learning_rate                                  \n",
       "200        0.1          0.0001         0.627842  0.509209   0.502304   \n",
       "                        0.0005         0.641890  0.527023   0.519033   \n",
       "                        0.0010         0.630779  0.521670   0.513013   \n",
       "           0.2          0.0001         0.627714  0.509671   0.503125   \n",
       "                        0.0005         0.637931  0.524105   0.515574   \n",
       "                        0.0010         0.627011  0.521863   0.512302   \n",
       "300        0.1          0.0001         0.618455  0.505811   0.497620   \n",
       "                        0.0005         0.626373  0.517695   0.508733   \n",
       "                        0.0010         0.636782  0.524299   0.515492   \n",
       "           0.2          0.0001         0.622222  0.505860   0.498380   \n",
       "                        0.0005         0.631545  0.520904   0.511746   \n",
       "                        0.0010         0.640868  0.525830   0.517928   \n",
       "384        0.1          0.0001         0.621392  0.509592   0.500969   \n",
       "                        0.0005         0.633333  0.521875   0.513666   \n",
       "                        0.0010         0.639144  0.519695   0.513112   \n",
       "           0.2          0.0001         0.617816  0.506212   0.497928   \n",
       "                        0.0005         0.640805  0.525211   0.518076   \n",
       "                        0.0010         0.643103  0.523372   0.516826   \n",
       "\n",
       "                                         recall  valid_accuracy  valid_f1  \\\n",
       "hidden_dim dropout_rate learning_rate                                       \n",
       "200        0.1          0.0001         0.522968        0.674160  0.578283   \n",
       "                        0.0005         0.539136        0.686630  0.589028   \n",
       "                        0.0010         0.541516        0.678977  0.584832   \n",
       "           0.2          0.0001         0.522303        0.674695  0.577582   \n",
       "                        0.0005         0.537357        0.684650  0.591363   \n",
       "                        0.0010         0.546282        0.672875  0.583264   \n",
       "300        0.1          0.0001         0.522941        0.669343  0.575946   \n",
       "                        0.0005         0.536579        0.682777  0.591319   \n",
       "                        0.0010         0.541142        0.679994  0.583077   \n",
       "           0.2          0.0001         0.521759        0.670146  0.575205   \n",
       "                        0.0005         0.537220        0.684811  0.591994   \n",
       "                        0.0010         0.541096        0.681760  0.584626   \n",
       "384        0.1          0.0001         0.525201        0.672554  0.579264   \n",
       "                        0.0005         0.541770        0.682509  0.588698   \n",
       "                        0.0010         0.531444        0.681225  0.579072   \n",
       "           0.2          0.0001         0.524696        0.669985  0.577806   \n",
       "                        0.0005         0.540040        0.687968  0.590499   \n",
       "                        0.0010         0.534166        0.683098  0.581563   \n",
       "\n",
       "                                       valid_precision  valid_recall     k  \\\n",
       "hidden_dim dropout_rate learning_rate                                        \n",
       "200        0.1          0.0001                0.571189      0.589550  11.0   \n",
       "                        0.0005                0.583319      0.596243  11.0   \n",
       "                        0.0010                0.576708      0.598811  11.0   \n",
       "           0.2          0.0001                0.571247      0.587586  11.0   \n",
       "                        0.0005                0.583466      0.601750  11.0   \n",
       "                        0.0010                0.573307      0.602862  11.0   \n",
       "300        0.1          0.0001                0.567465      0.590168  11.0   \n",
       "                        0.0005                0.582535      0.606281  11.0   \n",
       "                        0.0010                0.575536      0.594472  11.0   \n",
       "           0.2          0.0001                0.567670      0.588211  11.0   \n",
       "                        0.0005                0.583229      0.604981  11.0   \n",
       "                        0.0010                0.577672      0.595171  11.0   \n",
       "384        0.1          0.0001                0.570733      0.591528  11.0   \n",
       "                        0.0005                0.580557      0.602358  11.0   \n",
       "                        0.0010                0.574450      0.585970  11.0   \n",
       "           0.2          0.0001                0.568874      0.592988  11.0   \n",
       "                        0.0005                0.584596      0.599714  11.0   \n",
       "                        0.0010                0.576354      0.588982  11.0   \n",
       "\n",
       "                                       num_layers  bidirectional       seed  \\\n",
       "hidden_dim dropout_rate learning_rate                                         \n",
       "200        0.1          0.0001                1.0            1.0  45.333333   \n",
       "                        0.0005                1.0            1.0  45.333333   \n",
       "                        0.0010                1.0            1.0  45.333333   \n",
       "           0.2          0.0001                1.0            1.0  45.333333   \n",
       "                        0.0005                1.0            1.0  45.333333   \n",
       "                        0.0010                1.0            1.0  45.333333   \n",
       "300        0.1          0.0001                1.0            1.0  45.333333   \n",
       "                        0.0005                1.0            1.0  45.333333   \n",
       "                        0.0010                1.0            1.0  45.333333   \n",
       "           0.2          0.0001                1.0            1.0  45.333333   \n",
       "                        0.0005                1.0            1.0  45.333333   \n",
       "                        0.0010                1.0            1.0  45.333333   \n",
       "384        0.1          0.0001                1.0            1.0  45.333333   \n",
       "                        0.0005                1.0            1.0  45.333333   \n",
       "                        0.0010                1.0            1.0  45.333333   \n",
       "           0.2          0.0001                1.0            1.0  45.333333   \n",
       "                        0.0005                1.0            1.0  45.333333   \n",
       "                        0.0010                1.0            1.0  45.333333   \n",
       "\n",
       "                                       gamma  k_fold  n_splits  batch_size  \\\n",
       "hidden_dim dropout_rate learning_rate                                        \n",
       "200        0.1          0.0001           2.0     1.0       5.0        64.0   \n",
       "                        0.0005           2.0     1.0       5.0        64.0   \n",
       "                        0.0010           2.0     1.0       5.0        64.0   \n",
       "           0.2          0.0001           2.0     1.0       5.0        64.0   \n",
       "                        0.0005           2.0     1.0       5.0        64.0   \n",
       "                        0.0010           2.0     1.0       5.0        64.0   \n",
       "300        0.1          0.0001           2.0     1.0       5.0        64.0   \n",
       "                        0.0005           2.0     1.0       5.0        64.0   \n",
       "                        0.0010           2.0     1.0       5.0        64.0   \n",
       "           0.2          0.0001           2.0     1.0       5.0        64.0   \n",
       "                        0.0005           2.0     1.0       5.0        64.0   \n",
       "                        0.0010           2.0     1.0       5.0        64.0   \n",
       "384        0.1          0.0001           2.0     1.0       5.0        64.0   \n",
       "                        0.0005           2.0     1.0       5.0        64.0   \n",
       "                        0.0010           2.0     1.0       5.0        64.0   \n",
       "           0.2          0.0001           2.0     1.0       5.0        64.0   \n",
       "                        0.0005           2.0     1.0       5.0        64.0   \n",
       "                        0.0010           2.0     1.0       5.0        64.0   \n",
       "\n",
       "                                       model_id  \n",
       "hidden_dim dropout_rate learning_rate            \n",
       "200        0.1          0.0001              1.0  \n",
       "                        0.0005              2.0  \n",
       "                        0.0010              0.0  \n",
       "           0.2          0.0001              4.0  \n",
       "                        0.0005              5.0  \n",
       "                        0.0010              3.0  \n",
       "300        0.1          0.0001              7.0  \n",
       "                        0.0005              8.0  \n",
       "                        0.0010              6.0  \n",
       "           0.2          0.0001             10.0  \n",
       "                        0.0005             11.0  \n",
       "                        0.0010              9.0  \n",
       "384        0.1          0.0001             13.0  \n",
       "                        0.0005             14.0  \n",
       "                        0.0010             12.0  \n",
       "           0.2          0.0001             16.0  \n",
       "                        0.0005             17.0  \n",
       "                        0.0010             15.0  "
      ]
     },
     "execution_count": 24,
     "metadata": {},
     "output_type": "execute_result"
    }
   ],
   "source": [
    "bilstm_history_11_kfold.groupby([\"hidden_dim\", \"dropout_rate\", \"learning_rate\"]).mean()"
   ]
  },
  {
   "cell_type": "code",
   "execution_count": 25,
   "id": "86b9a028",
   "metadata": {},
   "outputs": [
    {
     "data": {
      "text/html": [
       "<div>\n",
       "<style scoped>\n",
       "    .dataframe tbody tr th:only-of-type {\n",
       "        vertical-align: middle;\n",
       "    }\n",
       "\n",
       "    .dataframe tbody tr th {\n",
       "        vertical-align: top;\n",
       "    }\n",
       "\n",
       "    .dataframe thead th {\n",
       "        text-align: right;\n",
       "    }\n",
       "</style>\n",
       "<table border=\"1\" class=\"dataframe\">\n",
       "  <thead>\n",
       "    <tr style=\"text-align: right;\">\n",
       "      <th></th>\n",
       "      <th>loss</th>\n",
       "      <th>accuracy</th>\n",
       "      <th>f1</th>\n",
       "      <th>f1_scores</th>\n",
       "      <th>precision</th>\n",
       "      <th>precision_scores</th>\n",
       "      <th>recall</th>\n",
       "      <th>recall_scores</th>\n",
       "      <th>valid_loss</th>\n",
       "      <th>valid_accuracy</th>\n",
       "      <th>...</th>\n",
       "      <th>bidirectional</th>\n",
       "      <th>hidden_dim</th>\n",
       "      <th>dropout_rate</th>\n",
       "      <th>learning_rate</th>\n",
       "      <th>seed</th>\n",
       "      <th>loss_function</th>\n",
       "      <th>gamma</th>\n",
       "      <th>k_fold</th>\n",
       "      <th>n_splits</th>\n",
       "      <th>batch_size</th>\n",
       "    </tr>\n",
       "  </thead>\n",
       "  <tbody>\n",
       "    <tr>\n",
       "      <th>0</th>\n",
       "      <td>None</td>\n",
       "      <td>0.633908</td>\n",
       "      <td>0.521452</td>\n",
       "      <td>[0.7566034920161169, 0.4368098159509203, 0.370...</td>\n",
       "      <td>0.512451</td>\n",
       "      <td>[0.7816836262719704, 0.43309002433090027, 0.32...</td>\n",
       "      <td>0.536680</td>\n",
       "      <td>[0.7330827067669173, 0.4405940594059406, 0.436...</td>\n",
       "      <td>None</td>\n",
       "      <td>0.689306</td>\n",
       "      <td>...</td>\n",
       "      <td>True</td>\n",
       "      <td>300</td>\n",
       "      <td>0.2</td>\n",
       "      <td>0.0005</td>\n",
       "      <td>1</td>\n",
       "      <td>focal</td>\n",
       "      <td>2</td>\n",
       "      <td>True</td>\n",
       "      <td>5</td>\n",
       "      <td>64</td>\n",
       "    </tr>\n",
       "    <tr>\n",
       "      <th>0</th>\n",
       "      <td>None</td>\n",
       "      <td>0.637739</td>\n",
       "      <td>0.523214</td>\n",
       "      <td>[0.7608308605341246, 0.435436690346845, 0.3733...</td>\n",
       "      <td>0.514902</td>\n",
       "      <td>[0.7812309567336989, 0.441151566469094, 0.3223...</td>\n",
       "      <td>0.538324</td>\n",
       "      <td>[0.741469057258531, 0.4298679867986799, 0.4436...</td>\n",
       "      <td>None</td>\n",
       "      <td>0.690430</td>\n",
       "      <td>...</td>\n",
       "      <td>True</td>\n",
       "      <td>300</td>\n",
       "      <td>0.2</td>\n",
       "      <td>0.0005</td>\n",
       "      <td>12</td>\n",
       "      <td>focal</td>\n",
       "      <td>2</td>\n",
       "      <td>True</td>\n",
       "      <td>5</td>\n",
       "      <td>64</td>\n",
       "    </tr>\n",
       "    <tr>\n",
       "      <th>0</th>\n",
       "      <td>None</td>\n",
       "      <td>0.622989</td>\n",
       "      <td>0.518045</td>\n",
       "      <td>[0.7429970916883514, 0.4544414792222646, 0.356...</td>\n",
       "      <td>0.507884</td>\n",
       "      <td>[0.7892682926829269, 0.4223954642097803, 0.311...</td>\n",
       "      <td>0.536655</td>\n",
       "      <td>[0.7018507807981492, 0.49174917491749176, 0.41...</td>\n",
       "      <td>None</td>\n",
       "      <td>0.674695</td>\n",
       "      <td>...</td>\n",
       "      <td>True</td>\n",
       "      <td>300</td>\n",
       "      <td>0.2</td>\n",
       "      <td>0.0005</td>\n",
       "      <td>123</td>\n",
       "      <td>focal</td>\n",
       "      <td>2</td>\n",
       "      <td>True</td>\n",
       "      <td>5</td>\n",
       "      <td>64</td>\n",
       "    </tr>\n",
       "  </tbody>\n",
       "</table>\n",
       "<p>3 rows × 27 columns</p>\n",
       "</div>"
      ],
      "text/plain": [
       "   loss  accuracy        f1  \\\n",
       "0  None  0.633908  0.521452   \n",
       "0  None  0.637739  0.523214   \n",
       "0  None  0.622989  0.518045   \n",
       "\n",
       "                                           f1_scores  precision  \\\n",
       "0  [0.7566034920161169, 0.4368098159509203, 0.370...   0.512451   \n",
       "0  [0.7608308605341246, 0.435436690346845, 0.3733...   0.514902   \n",
       "0  [0.7429970916883514, 0.4544414792222646, 0.356...   0.507884   \n",
       "\n",
       "                                    precision_scores    recall  \\\n",
       "0  [0.7816836262719704, 0.43309002433090027, 0.32...  0.536680   \n",
       "0  [0.7812309567336989, 0.441151566469094, 0.3223...  0.538324   \n",
       "0  [0.7892682926829269, 0.4223954642097803, 0.311...  0.536655   \n",
       "\n",
       "                                       recall_scores valid_loss  \\\n",
       "0  [0.7330827067669173, 0.4405940594059406, 0.436...       None   \n",
       "0  [0.741469057258531, 0.4298679867986799, 0.4436...       None   \n",
       "0  [0.7018507807981492, 0.49174917491749176, 0.41...       None   \n",
       "\n",
       "   valid_accuracy  ...  bidirectional hidden_dim  dropout_rate learning_rate  \\\n",
       "0        0.689306  ...           True        300           0.2        0.0005   \n",
       "0        0.690430  ...           True        300           0.2        0.0005   \n",
       "0        0.674695  ...           True        300           0.2        0.0005   \n",
       "\n",
       "   seed loss_function  gamma  k_fold  n_splits  batch_size  \n",
       "0     1         focal      2    True         5          64  \n",
       "0    12         focal      2    True         5          64  \n",
       "0   123         focal      2    True         5          64  \n",
       "\n",
       "[3 rows x 27 columns]"
      ]
     },
     "execution_count": 25,
     "metadata": {},
     "output_type": "execute_result"
    }
   ],
   "source": [
    "best_bilstm_history_11_kfold"
   ]
  },
  {
   "cell_type": "code",
   "execution_count": 26,
   "id": "d97ec1c8",
   "metadata": {},
   "outputs": [
    {
     "data": {
      "text/plain": [
       "0.5209038001451615"
      ]
     },
     "execution_count": 26,
     "metadata": {},
     "output_type": "execute_result"
    }
   ],
   "source": [
    "best_bilstm_history_11_kfold[\"f1\"].mean()"
   ]
  },
  {
   "cell_type": "code",
   "execution_count": 27,
   "id": "6a574666",
   "metadata": {},
   "outputs": [
    {
     "data": {
      "text/plain": [
       "0.511746071516889"
      ]
     },
     "execution_count": 27,
     "metadata": {},
     "output_type": "execute_result"
    }
   ],
   "source": [
    "best_bilstm_history_11_kfold[\"precision\"].mean()"
   ]
  },
  {
   "cell_type": "code",
   "execution_count": 28,
   "id": "0fc99397",
   "metadata": {},
   "outputs": [
    {
     "data": {
      "text/plain": [
       "0.5372197113677051"
      ]
     },
     "execution_count": 28,
     "metadata": {},
     "output_type": "execute_result"
    }
   ],
   "source": [
    "best_bilstm_history_11_kfold[\"recall\"].mean()"
   ]
  },
  {
   "cell_type": "code",
   "execution_count": 29,
   "id": "e64ad310",
   "metadata": {
    "scrolled": true
   },
   "outputs": [
    {
     "data": {
      "text/plain": [
       "array([0.75347715, 0.44222933, 0.36700492])"
      ]
     },
     "execution_count": 29,
     "metadata": {},
     "output_type": "execute_result"
    }
   ],
   "source": [
    "np.stack(best_bilstm_history_11_kfold[\"f1_scores\"]).mean(axis=0)"
   ]
  },
  {
   "cell_type": "code",
   "execution_count": 30,
   "id": "4daab8de",
   "metadata": {},
   "outputs": [
    {
     "data": {
      "text/plain": [
       "array([0.78406096, 0.43221235, 0.3189649 ])"
      ]
     },
     "execution_count": 30,
     "metadata": {},
     "output_type": "execute_result"
    }
   ],
   "source": [
    "np.stack(best_bilstm_history_11_kfold[\"precision_scores\"]).mean(axis=0)"
   ]
  },
  {
   "cell_type": "code",
   "execution_count": 31,
   "id": "d0f31438",
   "metadata": {},
   "outputs": [
    {
     "data": {
      "text/plain": [
       "array([0.72546751, 0.45407041, 0.43212121])"
      ]
     },
     "execution_count": 31,
     "metadata": {},
     "output_type": "execute_result"
    }
   ],
   "source": [
    "np.stack(best_bilstm_history_11_kfold[\"recall_scores\"]).mean(axis=0)"
   ]
  },
  {
   "cell_type": "markdown",
   "id": "39766900-d308-4286-8122-3fa39f3116c8",
   "metadata": {
    "tags": []
   },
   "source": [
    "## history_length=20"
   ]
  },
  {
   "cell_type": "code",
   "execution_count": 32,
   "id": "b224f5bf-d7cb-41af-917a-7ddb45d7517a",
   "metadata": {},
   "outputs": [],
   "source": [
    "size = 20"
   ]
  },
  {
   "cell_type": "code",
   "execution_count": 33,
   "id": "b109dc82-12ba-447a-9398-1b085c34d9d8",
   "metadata": {},
   "outputs": [
    {
     "data": {
      "application/vnd.jupyter.widget-view+json": {
       "model_id": "34eafca3033f4477acb01667af2af453",
       "version_major": 2,
       "version_minor": 0
      },
      "text/plain": [
       "  0%|          | 0/1 [00:00<?, ?it/s]"
      ]
     },
     "metadata": {},
     "output_type": "display_data"
    },
    {
     "name": "stdout",
     "output_type": "stream",
     "text": [
      "[INFO] Concatenating the embeddings to the dataframe...\n",
      "[INFO] - columns beginning with 'e' denote the full embddings.\n",
      "[INFO] Adding time feature columns into dataframe in `.df`.\n",
      "[INFO] Adding 'time_encoding' feature...\n",
      "[INFO] Adding 'time_diff' feature...\n",
      "[INFO] Adding 'timeline_index' feature...\n",
      "[INFO] Padding ids and storing in `.df_padded` and `.array_padded` attributes.\n"
     ]
    },
    {
     "data": {
      "application/vnd.jupyter.widget-view+json": {
       "model_id": "af4a3a0f345d4fb2a915459e38a0079b",
       "version_major": 2,
       "version_minor": 0
      },
      "text/plain": [
       "  0%|          | 0/9699 [00:00<?, ?it/s]"
      ]
     },
     "metadata": {},
     "output_type": "display_data"
    },
    {
     "data": {
      "application/vnd.jupyter.widget-view+json": {
       "model_id": "9baa85144a2e4d9f992503a072024c2a",
       "version_major": 2,
       "version_minor": 0
      },
      "text/plain": [
       "  0%|          | 0/3 [00:00<?, ?it/s]"
      ]
     },
     "metadata": {},
     "output_type": "display_data"
    },
    {
     "data": {
      "application/vnd.jupyter.widget-view+json": {
       "model_id": "c99c2f3e141a406e8fffad02dc62e68c",
       "version_major": 2,
       "version_minor": 0
      },
      "text/plain": [
       "  0%|          | 0/2 [00:00<?, ?it/s]"
      ]
     },
     "metadata": {},
     "output_type": "display_data"
    },
    {
     "data": {
      "application/vnd.jupyter.widget-view+json": {
       "model_id": "210346222df14f6c80efc0df9ed0881d",
       "version_major": 2,
       "version_minor": 0
      },
      "text/plain": [
       "  0%|          | 0/3 [00:00<?, ?it/s]"
      ]
     },
     "metadata": {},
     "output_type": "display_data"
    },
    {
     "data": {
      "application/vnd.jupyter.widget-view+json": {
       "model_id": "4f5411d49fcd4cd596b4650e756a1be4",
       "version_major": 2,
       "version_minor": 0
      },
      "text/plain": [
       "  0%|          | 0/3 [00:00<?, ?it/s]"
      ]
     },
     "metadata": {},
     "output_type": "display_data"
    },
    {
     "data": {
      "application/vnd.jupyter.widget-view+json": {
       "model_id": "968794026a7e4300b947f2310ac06bee",
       "version_major": 2,
       "version_minor": 0
      },
      "text/plain": [
       "  0%|          | 0/2 [00:00<?, ?it/s]"
      ]
     },
     "metadata": {},
     "output_type": "display_data"
    },
    {
     "data": {
      "application/vnd.jupyter.widget-view+json": {
       "model_id": "1f57334e792e425cb1084b791dccc291",
       "version_major": 2,
       "version_minor": 0
      },
      "text/plain": [
       "  0%|          | 0/3 [00:00<?, ?it/s]"
      ]
     },
     "metadata": {},
     "output_type": "display_data"
    },
    {
     "data": {
      "application/vnd.jupyter.widget-view+json": {
       "model_id": "d3e0c3deaa2a499c81002f7eee54ef65",
       "version_major": 2,
       "version_minor": 0
      },
      "text/plain": [
       "  0%|          | 0/3 [00:00<?, ?it/s]"
      ]
     },
     "metadata": {},
     "output_type": "display_data"
    },
    {
     "data": {
      "application/vnd.jupyter.widget-view+json": {
       "model_id": "999a5431b8f94da083ac7eb0a25cbf79",
       "version_major": 2,
       "version_minor": 0
      },
      "text/plain": [
       "  0%|          | 0/2 [00:00<?, ?it/s]"
      ]
     },
     "metadata": {},
     "output_type": "display_data"
    },
    {
     "data": {
      "application/vnd.jupyter.widget-view+json": {
       "model_id": "92bb2ece2019499da4ce2390d26310e3",
       "version_major": 2,
       "version_minor": 0
      },
      "text/plain": [
       "  0%|          | 0/3 [00:00<?, ?it/s]"
      ]
     },
     "metadata": {},
     "output_type": "display_data"
    },
    {
     "data": {
      "application/vnd.jupyter.widget-view+json": {
       "model_id": "0558082575734ff1825b36174b5b0201",
       "version_major": 2,
       "version_minor": 0
      },
      "text/plain": [
       "  0%|          | 0/3 [00:00<?, ?it/s]"
      ]
     },
     "metadata": {},
     "output_type": "display_data"
    },
    {
     "name": "stdout",
     "output_type": "stream",
     "text": [
      "saving results dataframe to CSV for this hyperparameter search in client_talk_type_output/lstm_history_20_focal_2_kfold.csv\n",
      "saving the best model results dataframe to CSV for this hyperparameter search in client_talk_type_output/lstm_history_20_focal_2_kfold_best_model.csv\n"
     ]
    }
   ],
   "source": [
    "(\n",
    "    bilstm_history_20_kfold,\n",
    "    best_bilstm_history_20_kfold,\n",
    "    _,\n",
    "    __,\n",
    ") = lstm_hyperparameter_search(\n",
    "    history_lengths=[size],\n",
    "    results_output=f\"{output_dir}/lstm_history_{size}_focal_{gamma}_kfold.csv\",\n",
    "    **kwargs,\n",
    ")"
   ]
  },
  {
   "cell_type": "code",
   "execution_count": 34,
   "id": "70080fb6-a828-45fd-800c-21d2e6a936f5",
   "metadata": {},
   "outputs": [
    {
     "name": "stderr",
     "output_type": "stream",
     "text": [
      "/tmp/ipykernel_3407032/3632055421.py:1: FutureWarning: The default value of numeric_only in DataFrameGroupBy.mean is deprecated. In a future version, numeric_only will default to False. Either specify numeric_only or select only columns which should be valid for the function.\n",
      "  bilstm_history_20_kfold.groupby([\"hidden_dim\", \"dropout_rate\", \"learning_rate\"]).mean()\n"
     ]
    },
    {
     "data": {
      "text/html": [
       "<div>\n",
       "<style scoped>\n",
       "    .dataframe tbody tr th:only-of-type {\n",
       "        vertical-align: middle;\n",
       "    }\n",
       "\n",
       "    .dataframe tbody tr th {\n",
       "        vertical-align: top;\n",
       "    }\n",
       "\n",
       "    .dataframe thead th {\n",
       "        text-align: right;\n",
       "    }\n",
       "</style>\n",
       "<table border=\"1\" class=\"dataframe\">\n",
       "  <thead>\n",
       "    <tr style=\"text-align: right;\">\n",
       "      <th></th>\n",
       "      <th></th>\n",
       "      <th></th>\n",
       "      <th>accuracy</th>\n",
       "      <th>f1</th>\n",
       "      <th>precision</th>\n",
       "      <th>recall</th>\n",
       "      <th>valid_accuracy</th>\n",
       "      <th>valid_f1</th>\n",
       "      <th>valid_precision</th>\n",
       "      <th>valid_recall</th>\n",
       "      <th>k</th>\n",
       "      <th>num_layers</th>\n",
       "      <th>bidirectional</th>\n",
       "      <th>seed</th>\n",
       "      <th>gamma</th>\n",
       "      <th>k_fold</th>\n",
       "      <th>n_splits</th>\n",
       "      <th>batch_size</th>\n",
       "      <th>model_id</th>\n",
       "    </tr>\n",
       "    <tr>\n",
       "      <th>hidden_dim</th>\n",
       "      <th>dropout_rate</th>\n",
       "      <th>learning_rate</th>\n",
       "      <th></th>\n",
       "      <th></th>\n",
       "      <th></th>\n",
       "      <th></th>\n",
       "      <th></th>\n",
       "      <th></th>\n",
       "      <th></th>\n",
       "      <th></th>\n",
       "      <th></th>\n",
       "      <th></th>\n",
       "      <th></th>\n",
       "      <th></th>\n",
       "      <th></th>\n",
       "      <th></th>\n",
       "      <th></th>\n",
       "      <th></th>\n",
       "      <th></th>\n",
       "    </tr>\n",
       "  </thead>\n",
       "  <tbody>\n",
       "    <tr>\n",
       "      <th rowspan=\"6\" valign=\"top\">200</th>\n",
       "      <th rowspan=\"3\" valign=\"top\">0.1</th>\n",
       "      <th>0.0001</th>\n",
       "      <td>0.625607</td>\n",
       "      <td>0.500227</td>\n",
       "      <td>0.495526</td>\n",
       "      <td>0.510305</td>\n",
       "      <td>0.682830</td>\n",
       "      <td>0.591810</td>\n",
       "      <td>0.583534</td>\n",
       "      <td>0.606088</td>\n",
       "      <td>20.0</td>\n",
       "      <td>1.0</td>\n",
       "      <td>1.0</td>\n",
       "      <td>45.333333</td>\n",
       "      <td>2.0</td>\n",
       "      <td>1.0</td>\n",
       "      <td>5.0</td>\n",
       "      <td>64.0</td>\n",
       "      <td>1.0</td>\n",
       "    </tr>\n",
       "    <tr>\n",
       "      <th>0.0005</th>\n",
       "      <td>0.631098</td>\n",
       "      <td>0.505785</td>\n",
       "      <td>0.500874</td>\n",
       "      <td>0.513946</td>\n",
       "      <td>0.703008</td>\n",
       "      <td>0.608725</td>\n",
       "      <td>0.602743</td>\n",
       "      <td>0.617818</td>\n",
       "      <td>20.0</td>\n",
       "      <td>1.0</td>\n",
       "      <td>1.0</td>\n",
       "      <td>45.333333</td>\n",
       "      <td>2.0</td>\n",
       "      <td>1.0</td>\n",
       "      <td>5.0</td>\n",
       "      <td>64.0</td>\n",
       "      <td>2.0</td>\n",
       "    </tr>\n",
       "    <tr>\n",
       "      <th>0.0010</th>\n",
       "      <td>0.631865</td>\n",
       "      <td>0.512402</td>\n",
       "      <td>0.506024</td>\n",
       "      <td>0.525695</td>\n",
       "      <td>0.700707</td>\n",
       "      <td>0.606729</td>\n",
       "      <td>0.601194</td>\n",
       "      <td>0.617765</td>\n",
       "      <td>20.0</td>\n",
       "      <td>1.0</td>\n",
       "      <td>1.0</td>\n",
       "      <td>45.333333</td>\n",
       "      <td>2.0</td>\n",
       "      <td>1.0</td>\n",
       "      <td>5.0</td>\n",
       "      <td>64.0</td>\n",
       "      <td>0.0</td>\n",
       "    </tr>\n",
       "    <tr>\n",
       "      <th rowspan=\"3\" valign=\"top\">0.2</th>\n",
       "      <th>0.0001</th>\n",
       "      <td>0.627650</td>\n",
       "      <td>0.500478</td>\n",
       "      <td>0.495652</td>\n",
       "      <td>0.508388</td>\n",
       "      <td>0.685185</td>\n",
       "      <td>0.591662</td>\n",
       "      <td>0.584310</td>\n",
       "      <td>0.601949</td>\n",
       "      <td>20.0</td>\n",
       "      <td>1.0</td>\n",
       "      <td>1.0</td>\n",
       "      <td>45.333333</td>\n",
       "      <td>2.0</td>\n",
       "      <td>1.0</td>\n",
       "      <td>5.0</td>\n",
       "      <td>64.0</td>\n",
       "      <td>4.0</td>\n",
       "    </tr>\n",
       "    <tr>\n",
       "      <th>0.0005</th>\n",
       "      <td>0.635824</td>\n",
       "      <td>0.513603</td>\n",
       "      <td>0.508320</td>\n",
       "      <td>0.523969</td>\n",
       "      <td>0.699850</td>\n",
       "      <td>0.607165</td>\n",
       "      <td>0.600870</td>\n",
       "      <td>0.618188</td>\n",
       "      <td>20.0</td>\n",
       "      <td>1.0</td>\n",
       "      <td>1.0</td>\n",
       "      <td>45.333333</td>\n",
       "      <td>2.0</td>\n",
       "      <td>1.0</td>\n",
       "      <td>5.0</td>\n",
       "      <td>64.0</td>\n",
       "      <td>5.0</td>\n",
       "    </tr>\n",
       "    <tr>\n",
       "      <th>0.0010</th>\n",
       "      <td>0.631354</td>\n",
       "      <td>0.510471</td>\n",
       "      <td>0.504968</td>\n",
       "      <td>0.521105</td>\n",
       "      <td>0.700546</td>\n",
       "      <td>0.605222</td>\n",
       "      <td>0.600391</td>\n",
       "      <td>0.614423</td>\n",
       "      <td>20.0</td>\n",
       "      <td>1.0</td>\n",
       "      <td>1.0</td>\n",
       "      <td>45.333333</td>\n",
       "      <td>2.0</td>\n",
       "      <td>1.0</td>\n",
       "      <td>5.0</td>\n",
       "      <td>64.0</td>\n",
       "      <td>3.0</td>\n",
       "    </tr>\n",
       "    <tr>\n",
       "      <th rowspan=\"6\" valign=\"top\">300</th>\n",
       "      <th rowspan=\"3\" valign=\"top\">0.1</th>\n",
       "      <th>0.0001</th>\n",
       "      <td>0.622669</td>\n",
       "      <td>0.489332</td>\n",
       "      <td>0.486488</td>\n",
       "      <td>0.494841</td>\n",
       "      <td>0.681974</td>\n",
       "      <td>0.586046</td>\n",
       "      <td>0.580353</td>\n",
       "      <td>0.595187</td>\n",
       "      <td>20.0</td>\n",
       "      <td>1.0</td>\n",
       "      <td>1.0</td>\n",
       "      <td>45.333333</td>\n",
       "      <td>2.0</td>\n",
       "      <td>1.0</td>\n",
       "      <td>5.0</td>\n",
       "      <td>64.0</td>\n",
       "      <td>7.0</td>\n",
       "    </tr>\n",
       "    <tr>\n",
       "      <th>0.0005</th>\n",
       "      <td>0.618902</td>\n",
       "      <td>0.500839</td>\n",
       "      <td>0.494087</td>\n",
       "      <td>0.514720</td>\n",
       "      <td>0.698726</td>\n",
       "      <td>0.608464</td>\n",
       "      <td>0.601007</td>\n",
       "      <td>0.622986</td>\n",
       "      <td>20.0</td>\n",
       "      <td>1.0</td>\n",
       "      <td>1.0</td>\n",
       "      <td>45.333333</td>\n",
       "      <td>2.0</td>\n",
       "      <td>1.0</td>\n",
       "      <td>5.0</td>\n",
       "      <td>64.0</td>\n",
       "      <td>8.0</td>\n",
       "    </tr>\n",
       "    <tr>\n",
       "      <th>0.0010</th>\n",
       "      <td>0.635824</td>\n",
       "      <td>0.519582</td>\n",
       "      <td>0.513267</td>\n",
       "      <td>0.531842</td>\n",
       "      <td>0.696050</td>\n",
       "      <td>0.604557</td>\n",
       "      <td>0.598354</td>\n",
       "      <td>0.615786</td>\n",
       "      <td>20.0</td>\n",
       "      <td>1.0</td>\n",
       "      <td>1.0</td>\n",
       "      <td>45.333333</td>\n",
       "      <td>2.0</td>\n",
       "      <td>1.0</td>\n",
       "      <td>5.0</td>\n",
       "      <td>64.0</td>\n",
       "      <td>6.0</td>\n",
       "    </tr>\n",
       "    <tr>\n",
       "      <th rowspan=\"3\" valign=\"top\">0.2</th>\n",
       "      <th>0.0001</th>\n",
       "      <td>0.620179</td>\n",
       "      <td>0.487010</td>\n",
       "      <td>0.484201</td>\n",
       "      <td>0.492358</td>\n",
       "      <td>0.681171</td>\n",
       "      <td>0.587028</td>\n",
       "      <td>0.580736</td>\n",
       "      <td>0.596820</td>\n",
       "      <td>20.0</td>\n",
       "      <td>1.0</td>\n",
       "      <td>1.0</td>\n",
       "      <td>45.333333</td>\n",
       "      <td>2.0</td>\n",
       "      <td>1.0</td>\n",
       "      <td>5.0</td>\n",
       "      <td>64.0</td>\n",
       "      <td>10.0</td>\n",
       "    </tr>\n",
       "    <tr>\n",
       "      <th>0.0005</th>\n",
       "      <td>0.627905</td>\n",
       "      <td>0.509933</td>\n",
       "      <td>0.503023</td>\n",
       "      <td>0.520357</td>\n",
       "      <td>0.697602</td>\n",
       "      <td>0.607885</td>\n",
       "      <td>0.599711</td>\n",
       "      <td>0.618578</td>\n",
       "      <td>20.0</td>\n",
       "      <td>1.0</td>\n",
       "      <td>1.0</td>\n",
       "      <td>45.333333</td>\n",
       "      <td>2.0</td>\n",
       "      <td>1.0</td>\n",
       "      <td>5.0</td>\n",
       "      <td>64.0</td>\n",
       "      <td>11.0</td>\n",
       "    </tr>\n",
       "    <tr>\n",
       "      <th>0.0010</th>\n",
       "      <td>0.634547</td>\n",
       "      <td>0.513422</td>\n",
       "      <td>0.506910</td>\n",
       "      <td>0.524070</td>\n",
       "      <td>0.703918</td>\n",
       "      <td>0.610539</td>\n",
       "      <td>0.604447</td>\n",
       "      <td>0.619270</td>\n",
       "      <td>20.0</td>\n",
       "      <td>1.0</td>\n",
       "      <td>1.0</td>\n",
       "      <td>45.333333</td>\n",
       "      <td>2.0</td>\n",
       "      <td>1.0</td>\n",
       "      <td>5.0</td>\n",
       "      <td>64.0</td>\n",
       "      <td>9.0</td>\n",
       "    </tr>\n",
       "    <tr>\n",
       "      <th rowspan=\"6\" valign=\"top\">384</th>\n",
       "      <th rowspan=\"3\" valign=\"top\">0.1</th>\n",
       "      <th>0.0001</th>\n",
       "      <td>0.630843</td>\n",
       "      <td>0.492849</td>\n",
       "      <td>0.491799</td>\n",
       "      <td>0.495258</td>\n",
       "      <td>0.687647</td>\n",
       "      <td>0.588180</td>\n",
       "      <td>0.585212</td>\n",
       "      <td>0.592946</td>\n",
       "      <td>20.0</td>\n",
       "      <td>1.0</td>\n",
       "      <td>1.0</td>\n",
       "      <td>45.333333</td>\n",
       "      <td>2.0</td>\n",
       "      <td>1.0</td>\n",
       "      <td>5.0</td>\n",
       "      <td>64.0</td>\n",
       "      <td>13.0</td>\n",
       "    </tr>\n",
       "    <tr>\n",
       "      <th>0.0005</th>\n",
       "      <td>0.631801</td>\n",
       "      <td>0.509516</td>\n",
       "      <td>0.504556</td>\n",
       "      <td>0.521559</td>\n",
       "      <td>0.703757</td>\n",
       "      <td>0.610964</td>\n",
       "      <td>0.606289</td>\n",
       "      <td>0.621142</td>\n",
       "      <td>20.0</td>\n",
       "      <td>1.0</td>\n",
       "      <td>1.0</td>\n",
       "      <td>45.333333</td>\n",
       "      <td>2.0</td>\n",
       "      <td>1.0</td>\n",
       "      <td>5.0</td>\n",
       "      <td>64.0</td>\n",
       "      <td>14.0</td>\n",
       "    </tr>\n",
       "    <tr>\n",
       "      <th>0.0010</th>\n",
       "      <td>0.643295</td>\n",
       "      <td>0.520820</td>\n",
       "      <td>0.516710</td>\n",
       "      <td>0.528449</td>\n",
       "      <td>0.699101</td>\n",
       "      <td>0.601823</td>\n",
       "      <td>0.599429</td>\n",
       "      <td>0.606523</td>\n",
       "      <td>20.0</td>\n",
       "      <td>1.0</td>\n",
       "      <td>1.0</td>\n",
       "      <td>45.333333</td>\n",
       "      <td>2.0</td>\n",
       "      <td>1.0</td>\n",
       "      <td>5.0</td>\n",
       "      <td>64.0</td>\n",
       "      <td>12.0</td>\n",
       "    </tr>\n",
       "    <tr>\n",
       "      <th rowspan=\"3\" valign=\"top\">0.2</th>\n",
       "      <th>0.0001</th>\n",
       "      <td>0.631801</td>\n",
       "      <td>0.491318</td>\n",
       "      <td>0.492104</td>\n",
       "      <td>0.492008</td>\n",
       "      <td>0.687219</td>\n",
       "      <td>0.585090</td>\n",
       "      <td>0.584122</td>\n",
       "      <td>0.588150</td>\n",
       "      <td>20.0</td>\n",
       "      <td>1.0</td>\n",
       "      <td>1.0</td>\n",
       "      <td>45.333333</td>\n",
       "      <td>2.0</td>\n",
       "      <td>1.0</td>\n",
       "      <td>5.0</td>\n",
       "      <td>64.0</td>\n",
       "      <td>16.0</td>\n",
       "    </tr>\n",
       "    <tr>\n",
       "      <th>0.0005</th>\n",
       "      <td>0.623946</td>\n",
       "      <td>0.510162</td>\n",
       "      <td>0.502698</td>\n",
       "      <td>0.528475</td>\n",
       "      <td>0.694230</td>\n",
       "      <td>0.606304</td>\n",
       "      <td>0.597067</td>\n",
       "      <td>0.623600</td>\n",
       "      <td>20.0</td>\n",
       "      <td>1.0</td>\n",
       "      <td>1.0</td>\n",
       "      <td>45.333333</td>\n",
       "      <td>2.0</td>\n",
       "      <td>1.0</td>\n",
       "      <td>5.0</td>\n",
       "      <td>64.0</td>\n",
       "      <td>17.0</td>\n",
       "    </tr>\n",
       "    <tr>\n",
       "      <th>0.0010</th>\n",
       "      <td>0.640741</td>\n",
       "      <td>0.522711</td>\n",
       "      <td>0.515627</td>\n",
       "      <td>0.534646</td>\n",
       "      <td>0.699743</td>\n",
       "      <td>0.606358</td>\n",
       "      <td>0.600956</td>\n",
       "      <td>0.613814</td>\n",
       "      <td>20.0</td>\n",
       "      <td>1.0</td>\n",
       "      <td>1.0</td>\n",
       "      <td>45.333333</td>\n",
       "      <td>2.0</td>\n",
       "      <td>1.0</td>\n",
       "      <td>5.0</td>\n",
       "      <td>64.0</td>\n",
       "      <td>15.0</td>\n",
       "    </tr>\n",
       "  </tbody>\n",
       "</table>\n",
       "</div>"
      ],
      "text/plain": [
       "                                       accuracy        f1  precision  \\\n",
       "hidden_dim dropout_rate learning_rate                                  \n",
       "200        0.1          0.0001         0.625607  0.500227   0.495526   \n",
       "                        0.0005         0.631098  0.505785   0.500874   \n",
       "                        0.0010         0.631865  0.512402   0.506024   \n",
       "           0.2          0.0001         0.627650  0.500478   0.495652   \n",
       "                        0.0005         0.635824  0.513603   0.508320   \n",
       "                        0.0010         0.631354  0.510471   0.504968   \n",
       "300        0.1          0.0001         0.622669  0.489332   0.486488   \n",
       "                        0.0005         0.618902  0.500839   0.494087   \n",
       "                        0.0010         0.635824  0.519582   0.513267   \n",
       "           0.2          0.0001         0.620179  0.487010   0.484201   \n",
       "                        0.0005         0.627905  0.509933   0.503023   \n",
       "                        0.0010         0.634547  0.513422   0.506910   \n",
       "384        0.1          0.0001         0.630843  0.492849   0.491799   \n",
       "                        0.0005         0.631801  0.509516   0.504556   \n",
       "                        0.0010         0.643295  0.520820   0.516710   \n",
       "           0.2          0.0001         0.631801  0.491318   0.492104   \n",
       "                        0.0005         0.623946  0.510162   0.502698   \n",
       "                        0.0010         0.640741  0.522711   0.515627   \n",
       "\n",
       "                                         recall  valid_accuracy  valid_f1  \\\n",
       "hidden_dim dropout_rate learning_rate                                       \n",
       "200        0.1          0.0001         0.510305        0.682830  0.591810   \n",
       "                        0.0005         0.513946        0.703008  0.608725   \n",
       "                        0.0010         0.525695        0.700707  0.606729   \n",
       "           0.2          0.0001         0.508388        0.685185  0.591662   \n",
       "                        0.0005         0.523969        0.699850  0.607165   \n",
       "                        0.0010         0.521105        0.700546  0.605222   \n",
       "300        0.1          0.0001         0.494841        0.681974  0.586046   \n",
       "                        0.0005         0.514720        0.698726  0.608464   \n",
       "                        0.0010         0.531842        0.696050  0.604557   \n",
       "           0.2          0.0001         0.492358        0.681171  0.587028   \n",
       "                        0.0005         0.520357        0.697602  0.607885   \n",
       "                        0.0010         0.524070        0.703918  0.610539   \n",
       "384        0.1          0.0001         0.495258        0.687647  0.588180   \n",
       "                        0.0005         0.521559        0.703757  0.610964   \n",
       "                        0.0010         0.528449        0.699101  0.601823   \n",
       "           0.2          0.0001         0.492008        0.687219  0.585090   \n",
       "                        0.0005         0.528475        0.694230  0.606304   \n",
       "                        0.0010         0.534646        0.699743  0.606358   \n",
       "\n",
       "                                       valid_precision  valid_recall     k  \\\n",
       "hidden_dim dropout_rate learning_rate                                        \n",
       "200        0.1          0.0001                0.583534      0.606088  20.0   \n",
       "                        0.0005                0.602743      0.617818  20.0   \n",
       "                        0.0010                0.601194      0.617765  20.0   \n",
       "           0.2          0.0001                0.584310      0.601949  20.0   \n",
       "                        0.0005                0.600870      0.618188  20.0   \n",
       "                        0.0010                0.600391      0.614423  20.0   \n",
       "300        0.1          0.0001                0.580353      0.595187  20.0   \n",
       "                        0.0005                0.601007      0.622986  20.0   \n",
       "                        0.0010                0.598354      0.615786  20.0   \n",
       "           0.2          0.0001                0.580736      0.596820  20.0   \n",
       "                        0.0005                0.599711      0.618578  20.0   \n",
       "                        0.0010                0.604447      0.619270  20.0   \n",
       "384        0.1          0.0001                0.585212      0.592946  20.0   \n",
       "                        0.0005                0.606289      0.621142  20.0   \n",
       "                        0.0010                0.599429      0.606523  20.0   \n",
       "           0.2          0.0001                0.584122      0.588150  20.0   \n",
       "                        0.0005                0.597067      0.623600  20.0   \n",
       "                        0.0010                0.600956      0.613814  20.0   \n",
       "\n",
       "                                       num_layers  bidirectional       seed  \\\n",
       "hidden_dim dropout_rate learning_rate                                         \n",
       "200        0.1          0.0001                1.0            1.0  45.333333   \n",
       "                        0.0005                1.0            1.0  45.333333   \n",
       "                        0.0010                1.0            1.0  45.333333   \n",
       "           0.2          0.0001                1.0            1.0  45.333333   \n",
       "                        0.0005                1.0            1.0  45.333333   \n",
       "                        0.0010                1.0            1.0  45.333333   \n",
       "300        0.1          0.0001                1.0            1.0  45.333333   \n",
       "                        0.0005                1.0            1.0  45.333333   \n",
       "                        0.0010                1.0            1.0  45.333333   \n",
       "           0.2          0.0001                1.0            1.0  45.333333   \n",
       "                        0.0005                1.0            1.0  45.333333   \n",
       "                        0.0010                1.0            1.0  45.333333   \n",
       "384        0.1          0.0001                1.0            1.0  45.333333   \n",
       "                        0.0005                1.0            1.0  45.333333   \n",
       "                        0.0010                1.0            1.0  45.333333   \n",
       "           0.2          0.0001                1.0            1.0  45.333333   \n",
       "                        0.0005                1.0            1.0  45.333333   \n",
       "                        0.0010                1.0            1.0  45.333333   \n",
       "\n",
       "                                       gamma  k_fold  n_splits  batch_size  \\\n",
       "hidden_dim dropout_rate learning_rate                                        \n",
       "200        0.1          0.0001           2.0     1.0       5.0        64.0   \n",
       "                        0.0005           2.0     1.0       5.0        64.0   \n",
       "                        0.0010           2.0     1.0       5.0        64.0   \n",
       "           0.2          0.0001           2.0     1.0       5.0        64.0   \n",
       "                        0.0005           2.0     1.0       5.0        64.0   \n",
       "                        0.0010           2.0     1.0       5.0        64.0   \n",
       "300        0.1          0.0001           2.0     1.0       5.0        64.0   \n",
       "                        0.0005           2.0     1.0       5.0        64.0   \n",
       "                        0.0010           2.0     1.0       5.0        64.0   \n",
       "           0.2          0.0001           2.0     1.0       5.0        64.0   \n",
       "                        0.0005           2.0     1.0       5.0        64.0   \n",
       "                        0.0010           2.0     1.0       5.0        64.0   \n",
       "384        0.1          0.0001           2.0     1.0       5.0        64.0   \n",
       "                        0.0005           2.0     1.0       5.0        64.0   \n",
       "                        0.0010           2.0     1.0       5.0        64.0   \n",
       "           0.2          0.0001           2.0     1.0       5.0        64.0   \n",
       "                        0.0005           2.0     1.0       5.0        64.0   \n",
       "                        0.0010           2.0     1.0       5.0        64.0   \n",
       "\n",
       "                                       model_id  \n",
       "hidden_dim dropout_rate learning_rate            \n",
       "200        0.1          0.0001              1.0  \n",
       "                        0.0005              2.0  \n",
       "                        0.0010              0.0  \n",
       "           0.2          0.0001              4.0  \n",
       "                        0.0005              5.0  \n",
       "                        0.0010              3.0  \n",
       "300        0.1          0.0001              7.0  \n",
       "                        0.0005              8.0  \n",
       "                        0.0010              6.0  \n",
       "           0.2          0.0001             10.0  \n",
       "                        0.0005             11.0  \n",
       "                        0.0010              9.0  \n",
       "384        0.1          0.0001             13.0  \n",
       "                        0.0005             14.0  \n",
       "                        0.0010             12.0  \n",
       "           0.2          0.0001             16.0  \n",
       "                        0.0005             17.0  \n",
       "                        0.0010             15.0  "
      ]
     },
     "execution_count": 34,
     "metadata": {},
     "output_type": "execute_result"
    }
   ],
   "source": [
    "bilstm_history_20_kfold.groupby([\"hidden_dim\", \"dropout_rate\", \"learning_rate\"]).mean()"
   ]
  },
  {
   "cell_type": "code",
   "execution_count": 35,
   "id": "764c7e29-7ee5-4d07-b0ab-85619498fcad",
   "metadata": {},
   "outputs": [
    {
     "data": {
      "text/html": [
       "<div>\n",
       "<style scoped>\n",
       "    .dataframe tbody tr th:only-of-type {\n",
       "        vertical-align: middle;\n",
       "    }\n",
       "\n",
       "    .dataframe tbody tr th {\n",
       "        vertical-align: top;\n",
       "    }\n",
       "\n",
       "    .dataframe thead th {\n",
       "        text-align: right;\n",
       "    }\n",
       "</style>\n",
       "<table border=\"1\" class=\"dataframe\">\n",
       "  <thead>\n",
       "    <tr style=\"text-align: right;\">\n",
       "      <th></th>\n",
       "      <th>loss</th>\n",
       "      <th>accuracy</th>\n",
       "      <th>f1</th>\n",
       "      <th>f1_scores</th>\n",
       "      <th>precision</th>\n",
       "      <th>precision_scores</th>\n",
       "      <th>recall</th>\n",
       "      <th>recall_scores</th>\n",
       "      <th>valid_loss</th>\n",
       "      <th>valid_accuracy</th>\n",
       "      <th>...</th>\n",
       "      <th>bidirectional</th>\n",
       "      <th>hidden_dim</th>\n",
       "      <th>dropout_rate</th>\n",
       "      <th>learning_rate</th>\n",
       "      <th>seed</th>\n",
       "      <th>loss_function</th>\n",
       "      <th>gamma</th>\n",
       "      <th>k_fold</th>\n",
       "      <th>n_splits</th>\n",
       "      <th>batch_size</th>\n",
       "    </tr>\n",
       "  </thead>\n",
       "  <tbody>\n",
       "    <tr>\n",
       "      <th>0</th>\n",
       "      <td>None</td>\n",
       "      <td>0.645019</td>\n",
       "      <td>0.516117</td>\n",
       "      <td>[0.7666178623718888, 0.45491143317230276, 0.32...</td>\n",
       "      <td>0.513340</td>\n",
       "      <td>[0.7763938315539739, 0.4441823899371069, 0.319...</td>\n",
       "      <td>0.519267</td>\n",
       "      <td>[0.757085020242915, 0.4661716171617162, 0.3345...</td>\n",
       "      <td>None</td>\n",
       "      <td>0.707932</td>\n",
       "      <td>...</td>\n",
       "      <td>True</td>\n",
       "      <td>384</td>\n",
       "      <td>0.1</td>\n",
       "      <td>0.0005</td>\n",
       "      <td>1</td>\n",
       "      <td>focal</td>\n",
       "      <td>2</td>\n",
       "      <td>True</td>\n",
       "      <td>5</td>\n",
       "      <td>64</td>\n",
       "    </tr>\n",
       "    <tr>\n",
       "      <th>0</th>\n",
       "      <td>None</td>\n",
       "      <td>0.625096</td>\n",
       "      <td>0.504480</td>\n",
       "      <td>[0.753204172876304, 0.4363016616957819, 0.3239...</td>\n",
       "      <td>0.499023</td>\n",
       "      <td>[0.777060270602706, 0.4511013215859031, 0.2689...</td>\n",
       "      <td>0.520161</td>\n",
       "      <td>[0.7307692307692307, 0.42244224422442245, 0.40...</td>\n",
       "      <td>None</td>\n",
       "      <td>0.701509</td>\n",
       "      <td>...</td>\n",
       "      <td>True</td>\n",
       "      <td>384</td>\n",
       "      <td>0.1</td>\n",
       "      <td>0.0005</td>\n",
       "      <td>12</td>\n",
       "      <td>focal</td>\n",
       "      <td>2</td>\n",
       "      <td>True</td>\n",
       "      <td>5</td>\n",
       "      <td>64</td>\n",
       "    </tr>\n",
       "    <tr>\n",
       "      <th>0</th>\n",
       "      <td>None</td>\n",
       "      <td>0.625287</td>\n",
       "      <td>0.507951</td>\n",
       "      <td>[0.7521214828048235, 0.42680324370465217, 0.34...</td>\n",
       "      <td>0.501306</td>\n",
       "      <td>[0.7750843817121816, 0.4420866489832007, 0.286...</td>\n",
       "      <td>0.525250</td>\n",
       "      <td>[0.7304800462695199, 0.41254125412541254, 0.43...</td>\n",
       "      <td>None</td>\n",
       "      <td>0.701830</td>\n",
       "      <td>...</td>\n",
       "      <td>True</td>\n",
       "      <td>384</td>\n",
       "      <td>0.1</td>\n",
       "      <td>0.0005</td>\n",
       "      <td>123</td>\n",
       "      <td>focal</td>\n",
       "      <td>2</td>\n",
       "      <td>True</td>\n",
       "      <td>5</td>\n",
       "      <td>64</td>\n",
       "    </tr>\n",
       "  </tbody>\n",
       "</table>\n",
       "<p>3 rows × 27 columns</p>\n",
       "</div>"
      ],
      "text/plain": [
       "   loss  accuracy        f1  \\\n",
       "0  None  0.645019  0.516117   \n",
       "0  None  0.625096  0.504480   \n",
       "0  None  0.625287  0.507951   \n",
       "\n",
       "                                           f1_scores  precision  \\\n",
       "0  [0.7666178623718888, 0.45491143317230276, 0.32...   0.513340   \n",
       "0  [0.753204172876304, 0.4363016616957819, 0.3239...   0.499023   \n",
       "0  [0.7521214828048235, 0.42680324370465217, 0.34...   0.501306   \n",
       "\n",
       "                                    precision_scores    recall  \\\n",
       "0  [0.7763938315539739, 0.4441823899371069, 0.319...  0.519267   \n",
       "0  [0.777060270602706, 0.4511013215859031, 0.2689...  0.520161   \n",
       "0  [0.7750843817121816, 0.4420866489832007, 0.286...  0.525250   \n",
       "\n",
       "                                       recall_scores valid_loss  \\\n",
       "0  [0.757085020242915, 0.4661716171617162, 0.3345...       None   \n",
       "0  [0.7307692307692307, 0.42244224422442245, 0.40...       None   \n",
       "0  [0.7304800462695199, 0.41254125412541254, 0.43...       None   \n",
       "\n",
       "   valid_accuracy  ...  bidirectional hidden_dim  dropout_rate learning_rate  \\\n",
       "0        0.707932  ...           True        384           0.1        0.0005   \n",
       "0        0.701509  ...           True        384           0.1        0.0005   \n",
       "0        0.701830  ...           True        384           0.1        0.0005   \n",
       "\n",
       "   seed loss_function  gamma  k_fold  n_splits  batch_size  \n",
       "0     1         focal      2    True         5          64  \n",
       "0    12         focal      2    True         5          64  \n",
       "0   123         focal      2    True         5          64  \n",
       "\n",
       "[3 rows x 27 columns]"
      ]
     },
     "execution_count": 35,
     "metadata": {},
     "output_type": "execute_result"
    }
   ],
   "source": [
    "best_bilstm_history_20_kfold"
   ]
  },
  {
   "cell_type": "code",
   "execution_count": 36,
   "id": "508edfeb-375e-4c89-917c-77f76ca9102e",
   "metadata": {},
   "outputs": [
    {
     "data": {
      "text/plain": [
       "0.5095157194124188"
      ]
     },
     "execution_count": 36,
     "metadata": {},
     "output_type": "execute_result"
    }
   ],
   "source": [
    "best_bilstm_history_20_kfold[\"f1\"].mean()"
   ]
  },
  {
   "cell_type": "code",
   "execution_count": 37,
   "id": "ea0f5905-0a51-4aa4-a631-9e8c69803ddd",
   "metadata": {},
   "outputs": [
    {
     "data": {
      "text/plain": [
       "0.5045564266440593"
      ]
     },
     "execution_count": 37,
     "metadata": {},
     "output_type": "execute_result"
    }
   ],
   "source": [
    "best_bilstm_history_20_kfold[\"precision\"].mean()"
   ]
  },
  {
   "cell_type": "code",
   "execution_count": 38,
   "id": "9f3c7415-1020-4508-9a15-3a71a3bde078",
   "metadata": {},
   "outputs": [
    {
     "data": {
      "text/plain": [
       "0.5215594297042968"
      ]
     },
     "execution_count": 38,
     "metadata": {},
     "output_type": "execute_result"
    }
   ],
   "source": [
    "best_bilstm_history_20_kfold[\"recall\"].mean()"
   ]
  },
  {
   "cell_type": "code",
   "execution_count": 39,
   "id": "180807e1-2c41-41de-80b9-7b3d9e75b871",
   "metadata": {
    "scrolled": true
   },
   "outputs": [
    {
     "data": {
      "text/plain": [
       "array([0.75731451, 0.43933878, 0.33189387])"
      ]
     },
     "execution_count": 39,
     "metadata": {},
     "output_type": "execute_result"
    }
   ],
   "source": [
    "np.stack(best_bilstm_history_20_kfold[\"f1_scores\"]).mean(axis=0)"
   ]
  },
  {
   "cell_type": "code",
   "execution_count": 40,
   "id": "4606f3de-e1a5-4945-8eef-f17b8abc63c5",
   "metadata": {},
   "outputs": [
    {
     "data": {
      "text/plain": [
       "array([0.77617949, 0.44579012, 0.29169967])"
      ]
     },
     "execution_count": 40,
     "metadata": {},
     "output_type": "execute_result"
    }
   ],
   "source": [
    "np.stack(best_bilstm_history_20_kfold[\"precision_scores\"]).mean(axis=0)"
   ]
  },
  {
   "cell_type": "code",
   "execution_count": 41,
   "id": "b105112c-83fb-464a-8c3a-dfbda3cadd1b",
   "metadata": {},
   "outputs": [
    {
     "data": {
      "text/plain": [
       "array([0.73944477, 0.43371837, 0.39151515])"
      ]
     },
     "execution_count": 41,
     "metadata": {},
     "output_type": "execute_result"
    }
   ],
   "source": [
    "np.stack(best_bilstm_history_20_kfold[\"recall_scores\"]).mean(axis=0)"
   ]
  },
  {
   "cell_type": "markdown",
   "id": "6b0b6d53-a1cb-4fc7-811a-76cc590045d6",
   "metadata": {},
   "source": [
    "## history_length=35"
   ]
  },
  {
   "cell_type": "code",
   "execution_count": 42,
   "id": "f4487954-a5fe-4da6-ac33-315051ad62f7",
   "metadata": {},
   "outputs": [],
   "source": [
    "size = 35"
   ]
  },
  {
   "cell_type": "code",
   "execution_count": 43,
   "id": "1ff2e1b4-b966-4a35-82b6-b7bf99a19e90",
   "metadata": {},
   "outputs": [
    {
     "data": {
      "application/vnd.jupyter.widget-view+json": {
       "model_id": "8afcb839207644d0a582f3636100340a",
       "version_major": 2,
       "version_minor": 0
      },
      "text/plain": [
       "  0%|          | 0/1 [00:00<?, ?it/s]"
      ]
     },
     "metadata": {},
     "output_type": "display_data"
    },
    {
     "name": "stdout",
     "output_type": "stream",
     "text": [
      "[INFO] Concatenating the embeddings to the dataframe...\n",
      "[INFO] - columns beginning with 'e' denote the full embddings.\n",
      "[INFO] Adding time feature columns into dataframe in `.df`.\n",
      "[INFO] Adding 'time_encoding' feature...\n",
      "[INFO] Adding 'time_diff' feature...\n",
      "[INFO] Adding 'timeline_index' feature...\n",
      "[INFO] Padding ids and storing in `.df_padded` and `.array_padded` attributes.\n"
     ]
    },
    {
     "data": {
      "application/vnd.jupyter.widget-view+json": {
       "model_id": "248b48dc4043402791430fce7ce495ae",
       "version_major": 2,
       "version_minor": 0
      },
      "text/plain": [
       "  0%|          | 0/9699 [00:00<?, ?it/s]"
      ]
     },
     "metadata": {},
     "output_type": "display_data"
    },
    {
     "data": {
      "application/vnd.jupyter.widget-view+json": {
       "model_id": "0fe072d6f5a5458b8fee9f76bd47b805",
       "version_major": 2,
       "version_minor": 0
      },
      "text/plain": [
       "  0%|          | 0/3 [00:00<?, ?it/s]"
      ]
     },
     "metadata": {},
     "output_type": "display_data"
    },
    {
     "data": {
      "application/vnd.jupyter.widget-view+json": {
       "model_id": "57ac8ba4295e43828eb856297d923083",
       "version_major": 2,
       "version_minor": 0
      },
      "text/plain": [
       "  0%|          | 0/2 [00:00<?, ?it/s]"
      ]
     },
     "metadata": {},
     "output_type": "display_data"
    },
    {
     "data": {
      "application/vnd.jupyter.widget-view+json": {
       "model_id": "6ae9b1563375426d8800e3155f000af6",
       "version_major": 2,
       "version_minor": 0
      },
      "text/plain": [
       "  0%|          | 0/3 [00:00<?, ?it/s]"
      ]
     },
     "metadata": {},
     "output_type": "display_data"
    },
    {
     "data": {
      "application/vnd.jupyter.widget-view+json": {
       "model_id": "0e46a5881ee549fd92fac90c6c4ba17e",
       "version_major": 2,
       "version_minor": 0
      },
      "text/plain": [
       "  0%|          | 0/3 [00:00<?, ?it/s]"
      ]
     },
     "metadata": {},
     "output_type": "display_data"
    },
    {
     "data": {
      "application/vnd.jupyter.widget-view+json": {
       "model_id": "aa5ebf29299b43ba831519fa83614567",
       "version_major": 2,
       "version_minor": 0
      },
      "text/plain": [
       "  0%|          | 0/2 [00:00<?, ?it/s]"
      ]
     },
     "metadata": {},
     "output_type": "display_data"
    },
    {
     "data": {
      "application/vnd.jupyter.widget-view+json": {
       "model_id": "b7f649f95a8641ec99e72cc3e40d2f39",
       "version_major": 2,
       "version_minor": 0
      },
      "text/plain": [
       "  0%|          | 0/3 [00:00<?, ?it/s]"
      ]
     },
     "metadata": {},
     "output_type": "display_data"
    },
    {
     "data": {
      "application/vnd.jupyter.widget-view+json": {
       "model_id": "79d6a6484b734f60a55d84f3c4f65791",
       "version_major": 2,
       "version_minor": 0
      },
      "text/plain": [
       "  0%|          | 0/3 [00:00<?, ?it/s]"
      ]
     },
     "metadata": {},
     "output_type": "display_data"
    },
    {
     "data": {
      "application/vnd.jupyter.widget-view+json": {
       "model_id": "1538aa0365d04f65b37d1f44b6da89ff",
       "version_major": 2,
       "version_minor": 0
      },
      "text/plain": [
       "  0%|          | 0/2 [00:00<?, ?it/s]"
      ]
     },
     "metadata": {},
     "output_type": "display_data"
    },
    {
     "data": {
      "application/vnd.jupyter.widget-view+json": {
       "model_id": "790d37ee259f45ed8c85966ea3eb72e9",
       "version_major": 2,
       "version_minor": 0
      },
      "text/plain": [
       "  0%|          | 0/3 [00:00<?, ?it/s]"
      ]
     },
     "metadata": {},
     "output_type": "display_data"
    },
    {
     "data": {
      "application/vnd.jupyter.widget-view+json": {
       "model_id": "7b4884d19a4c47d6afc8e8842855dfc3",
       "version_major": 2,
       "version_minor": 0
      },
      "text/plain": [
       "  0%|          | 0/3 [00:00<?, ?it/s]"
      ]
     },
     "metadata": {},
     "output_type": "display_data"
    },
    {
     "name": "stdout",
     "output_type": "stream",
     "text": [
      "saving results dataframe to CSV for this hyperparameter search in client_talk_type_output/lstm_history_35_focal_2_kfold.csv\n",
      "saving the best model results dataframe to CSV for this hyperparameter search in client_talk_type_output/lstm_history_35_focal_2_kfold_best_model.csv\n"
     ]
    }
   ],
   "source": [
    "(\n",
    "    bilstm_history_35_kfold,\n",
    "    best_bilstm_history_35_kfold,\n",
    "    _,\n",
    "    __,\n",
    ") = lstm_hyperparameter_search(\n",
    "    history_lengths=[size],\n",
    "    results_output=f\"{output_dir}/lstm_history_{size}_focal_{gamma}_kfold.csv\",\n",
    "    **kwargs,\n",
    ")"
   ]
  },
  {
   "cell_type": "code",
   "execution_count": 44,
   "id": "199bae92-3be4-44e7-9fe4-22071baef7ac",
   "metadata": {},
   "outputs": [
    {
     "name": "stderr",
     "output_type": "stream",
     "text": [
      "/tmp/ipykernel_3407032/2047737328.py:1: FutureWarning: The default value of numeric_only in DataFrameGroupBy.mean is deprecated. In a future version, numeric_only will default to False. Either specify numeric_only or select only columns which should be valid for the function.\n",
      "  bilstm_history_35_kfold.groupby([\"hidden_dim\", \"dropout_rate\", \"learning_rate\"]).mean()\n"
     ]
    },
    {
     "data": {
      "text/html": [
       "<div>\n",
       "<style scoped>\n",
       "    .dataframe tbody tr th:only-of-type {\n",
       "        vertical-align: middle;\n",
       "    }\n",
       "\n",
       "    .dataframe tbody tr th {\n",
       "        vertical-align: top;\n",
       "    }\n",
       "\n",
       "    .dataframe thead th {\n",
       "        text-align: right;\n",
       "    }\n",
       "</style>\n",
       "<table border=\"1\" class=\"dataframe\">\n",
       "  <thead>\n",
       "    <tr style=\"text-align: right;\">\n",
       "      <th></th>\n",
       "      <th></th>\n",
       "      <th></th>\n",
       "      <th>accuracy</th>\n",
       "      <th>f1</th>\n",
       "      <th>precision</th>\n",
       "      <th>recall</th>\n",
       "      <th>valid_accuracy</th>\n",
       "      <th>valid_f1</th>\n",
       "      <th>valid_precision</th>\n",
       "      <th>valid_recall</th>\n",
       "      <th>k</th>\n",
       "      <th>num_layers</th>\n",
       "      <th>bidirectional</th>\n",
       "      <th>seed</th>\n",
       "      <th>gamma</th>\n",
       "      <th>k_fold</th>\n",
       "      <th>n_splits</th>\n",
       "      <th>batch_size</th>\n",
       "      <th>model_id</th>\n",
       "    </tr>\n",
       "    <tr>\n",
       "      <th>hidden_dim</th>\n",
       "      <th>dropout_rate</th>\n",
       "      <th>learning_rate</th>\n",
       "      <th></th>\n",
       "      <th></th>\n",
       "      <th></th>\n",
       "      <th></th>\n",
       "      <th></th>\n",
       "      <th></th>\n",
       "      <th></th>\n",
       "      <th></th>\n",
       "      <th></th>\n",
       "      <th></th>\n",
       "      <th></th>\n",
       "      <th></th>\n",
       "      <th></th>\n",
       "      <th></th>\n",
       "      <th></th>\n",
       "      <th></th>\n",
       "      <th></th>\n",
       "    </tr>\n",
       "  </thead>\n",
       "  <tbody>\n",
       "    <tr>\n",
       "      <th rowspan=\"6\" valign=\"top\">200</th>\n",
       "      <th rowspan=\"3\" valign=\"top\">0.1</th>\n",
       "      <th>0.0001</th>\n",
       "      <td>0.629566</td>\n",
       "      <td>0.503715</td>\n",
       "      <td>0.499511</td>\n",
       "      <td>0.510487</td>\n",
       "      <td>0.693320</td>\n",
       "      <td>0.604055</td>\n",
       "      <td>0.596114</td>\n",
       "      <td>0.616842</td>\n",
       "      <td>35.0</td>\n",
       "      <td>1.0</td>\n",
       "      <td>1.0</td>\n",
       "      <td>45.333333</td>\n",
       "      <td>2.0</td>\n",
       "      <td>1.0</td>\n",
       "      <td>5.0</td>\n",
       "      <td>64.0</td>\n",
       "      <td>1.0</td>\n",
       "    </tr>\n",
       "    <tr>\n",
       "      <th>0.0005</th>\n",
       "      <td>0.637292</td>\n",
       "      <td>0.513575</td>\n",
       "      <td>0.508597</td>\n",
       "      <td>0.520569</td>\n",
       "      <td>0.714515</td>\n",
       "      <td>0.624851</td>\n",
       "      <td>0.619403</td>\n",
       "      <td>0.631615</td>\n",
       "      <td>35.0</td>\n",
       "      <td>1.0</td>\n",
       "      <td>1.0</td>\n",
       "      <td>45.333333</td>\n",
       "      <td>2.0</td>\n",
       "      <td>1.0</td>\n",
       "      <td>5.0</td>\n",
       "      <td>64.0</td>\n",
       "      <td>2.0</td>\n",
       "    </tr>\n",
       "    <tr>\n",
       "      <th>0.0010</th>\n",
       "      <td>0.619540</td>\n",
       "      <td>0.513413</td>\n",
       "      <td>0.503854</td>\n",
       "      <td>0.531017</td>\n",
       "      <td>0.700760</td>\n",
       "      <td>0.618480</td>\n",
       "      <td>0.606910</td>\n",
       "      <td>0.636674</td>\n",
       "      <td>35.0</td>\n",
       "      <td>1.0</td>\n",
       "      <td>1.0</td>\n",
       "      <td>45.333333</td>\n",
       "      <td>2.0</td>\n",
       "      <td>1.0</td>\n",
       "      <td>5.0</td>\n",
       "      <td>64.0</td>\n",
       "      <td>0.0</td>\n",
       "    </tr>\n",
       "    <tr>\n",
       "      <th rowspan=\"3\" valign=\"top\">0.2</th>\n",
       "      <th>0.0001</th>\n",
       "      <td>0.625798</td>\n",
       "      <td>0.501180</td>\n",
       "      <td>0.496242</td>\n",
       "      <td>0.508335</td>\n",
       "      <td>0.694337</td>\n",
       "      <td>0.608344</td>\n",
       "      <td>0.599110</td>\n",
       "      <td>0.623013</td>\n",
       "      <td>35.0</td>\n",
       "      <td>1.0</td>\n",
       "      <td>1.0</td>\n",
       "      <td>45.333333</td>\n",
       "      <td>2.0</td>\n",
       "      <td>1.0</td>\n",
       "      <td>5.0</td>\n",
       "      <td>64.0</td>\n",
       "      <td>4.0</td>\n",
       "    </tr>\n",
       "    <tr>\n",
       "      <th>0.0005</th>\n",
       "      <td>0.632631</td>\n",
       "      <td>0.514610</td>\n",
       "      <td>0.508108</td>\n",
       "      <td>0.523968</td>\n",
       "      <td>0.708949</td>\n",
       "      <td>0.621544</td>\n",
       "      <td>0.613405</td>\n",
       "      <td>0.632151</td>\n",
       "      <td>35.0</td>\n",
       "      <td>1.0</td>\n",
       "      <td>1.0</td>\n",
       "      <td>45.333333</td>\n",
       "      <td>2.0</td>\n",
       "      <td>1.0</td>\n",
       "      <td>5.0</td>\n",
       "      <td>64.0</td>\n",
       "      <td>5.0</td>\n",
       "    </tr>\n",
       "    <tr>\n",
       "      <th>0.0010</th>\n",
       "      <td>0.636973</td>\n",
       "      <td>0.517218</td>\n",
       "      <td>0.511948</td>\n",
       "      <td>0.527635</td>\n",
       "      <td>0.709270</td>\n",
       "      <td>0.620284</td>\n",
       "      <td>0.614130</td>\n",
       "      <td>0.630522</td>\n",
       "      <td>35.0</td>\n",
       "      <td>1.0</td>\n",
       "      <td>1.0</td>\n",
       "      <td>45.333333</td>\n",
       "      <td>2.0</td>\n",
       "      <td>1.0</td>\n",
       "      <td>5.0</td>\n",
       "      <td>64.0</td>\n",
       "      <td>3.0</td>\n",
       "    </tr>\n",
       "    <tr>\n",
       "      <th rowspan=\"6\" valign=\"top\">300</th>\n",
       "      <th rowspan=\"3\" valign=\"top\">0.1</th>\n",
       "      <th>0.0001</th>\n",
       "      <td>0.618902</td>\n",
       "      <td>0.491224</td>\n",
       "      <td>0.486417</td>\n",
       "      <td>0.497987</td>\n",
       "      <td>0.688289</td>\n",
       "      <td>0.603881</td>\n",
       "      <td>0.593414</td>\n",
       "      <td>0.619771</td>\n",
       "      <td>35.0</td>\n",
       "      <td>1.0</td>\n",
       "      <td>1.0</td>\n",
       "      <td>45.333333</td>\n",
       "      <td>2.0</td>\n",
       "      <td>1.0</td>\n",
       "      <td>5.0</td>\n",
       "      <td>64.0</td>\n",
       "      <td>7.0</td>\n",
       "    </tr>\n",
       "    <tr>\n",
       "      <th>0.0005</th>\n",
       "      <td>0.629502</td>\n",
       "      <td>0.506252</td>\n",
       "      <td>0.501758</td>\n",
       "      <td>0.514649</td>\n",
       "      <td>0.713712</td>\n",
       "      <td>0.625239</td>\n",
       "      <td>0.619764</td>\n",
       "      <td>0.634425</td>\n",
       "      <td>35.0</td>\n",
       "      <td>1.0</td>\n",
       "      <td>1.0</td>\n",
       "      <td>45.333333</td>\n",
       "      <td>2.0</td>\n",
       "      <td>1.0</td>\n",
       "      <td>5.0</td>\n",
       "      <td>64.0</td>\n",
       "      <td>8.0</td>\n",
       "    </tr>\n",
       "    <tr>\n",
       "      <th>0.0010</th>\n",
       "      <td>0.635313</td>\n",
       "      <td>0.516430</td>\n",
       "      <td>0.509901</td>\n",
       "      <td>0.526153</td>\n",
       "      <td>0.706487</td>\n",
       "      <td>0.614457</td>\n",
       "      <td>0.608454</td>\n",
       "      <td>0.622430</td>\n",
       "      <td>35.0</td>\n",
       "      <td>1.0</td>\n",
       "      <td>1.0</td>\n",
       "      <td>45.333333</td>\n",
       "      <td>2.0</td>\n",
       "      <td>1.0</td>\n",
       "      <td>5.0</td>\n",
       "      <td>64.0</td>\n",
       "      <td>6.0</td>\n",
       "    </tr>\n",
       "    <tr>\n",
       "      <th rowspan=\"3\" valign=\"top\">0.2</th>\n",
       "      <th>0.0001</th>\n",
       "      <td>0.611814</td>\n",
       "      <td>0.487290</td>\n",
       "      <td>0.481483</td>\n",
       "      <td>0.496647</td>\n",
       "      <td>0.684811</td>\n",
       "      <td>0.601920</td>\n",
       "      <td>0.590758</td>\n",
       "      <td>0.620907</td>\n",
       "      <td>35.0</td>\n",
       "      <td>1.0</td>\n",
       "      <td>1.0</td>\n",
       "      <td>45.333333</td>\n",
       "      <td>2.0</td>\n",
       "      <td>1.0</td>\n",
       "      <td>5.0</td>\n",
       "      <td>64.0</td>\n",
       "      <td>10.0</td>\n",
       "    </tr>\n",
       "    <tr>\n",
       "      <th>0.0005</th>\n",
       "      <td>0.625607</td>\n",
       "      <td>0.503214</td>\n",
       "      <td>0.497926</td>\n",
       "      <td>0.514115</td>\n",
       "      <td>0.713177</td>\n",
       "      <td>0.624450</td>\n",
       "      <td>0.618876</td>\n",
       "      <td>0.635300</td>\n",
       "      <td>35.0</td>\n",
       "      <td>1.0</td>\n",
       "      <td>1.0</td>\n",
       "      <td>45.333333</td>\n",
       "      <td>2.0</td>\n",
       "      <td>1.0</td>\n",
       "      <td>5.0</td>\n",
       "      <td>64.0</td>\n",
       "      <td>11.0</td>\n",
       "    </tr>\n",
       "    <tr>\n",
       "      <th>0.0010</th>\n",
       "      <td>0.629630</td>\n",
       "      <td>0.515571</td>\n",
       "      <td>0.507766</td>\n",
       "      <td>0.529638</td>\n",
       "      <td>0.702901</td>\n",
       "      <td>0.617538</td>\n",
       "      <td>0.607979</td>\n",
       "      <td>0.632034</td>\n",
       "      <td>35.0</td>\n",
       "      <td>1.0</td>\n",
       "      <td>1.0</td>\n",
       "      <td>45.333333</td>\n",
       "      <td>2.0</td>\n",
       "      <td>1.0</td>\n",
       "      <td>5.0</td>\n",
       "      <td>64.0</td>\n",
       "      <td>9.0</td>\n",
       "    </tr>\n",
       "    <tr>\n",
       "      <th rowspan=\"6\" valign=\"top\">384</th>\n",
       "      <th rowspan=\"3\" valign=\"top\">0.1</th>\n",
       "      <th>0.0001</th>\n",
       "      <td>0.622478</td>\n",
       "      <td>0.490690</td>\n",
       "      <td>0.487602</td>\n",
       "      <td>0.495186</td>\n",
       "      <td>0.692999</td>\n",
       "      <td>0.604149</td>\n",
       "      <td>0.596630</td>\n",
       "      <td>0.615850</td>\n",
       "      <td>35.0</td>\n",
       "      <td>1.0</td>\n",
       "      <td>1.0</td>\n",
       "      <td>45.333333</td>\n",
       "      <td>2.0</td>\n",
       "      <td>1.0</td>\n",
       "      <td>5.0</td>\n",
       "      <td>64.0</td>\n",
       "      <td>13.0</td>\n",
       "    </tr>\n",
       "    <tr>\n",
       "      <th>0.0005</th>\n",
       "      <td>0.626373</td>\n",
       "      <td>0.510425</td>\n",
       "      <td>0.505682</td>\n",
       "      <td>0.519992</td>\n",
       "      <td>0.709270</td>\n",
       "      <td>0.622619</td>\n",
       "      <td>0.616256</td>\n",
       "      <td>0.633224</td>\n",
       "      <td>35.0</td>\n",
       "      <td>1.0</td>\n",
       "      <td>1.0</td>\n",
       "      <td>45.333333</td>\n",
       "      <td>2.0</td>\n",
       "      <td>1.0</td>\n",
       "      <td>5.0</td>\n",
       "      <td>64.0</td>\n",
       "      <td>14.0</td>\n",
       "    </tr>\n",
       "    <tr>\n",
       "      <th>0.0010</th>\n",
       "      <td>0.624904</td>\n",
       "      <td>0.516900</td>\n",
       "      <td>0.508704</td>\n",
       "      <td>0.532443</td>\n",
       "      <td>0.697870</td>\n",
       "      <td>0.613894</td>\n",
       "      <td>0.603762</td>\n",
       "      <td>0.629376</td>\n",
       "      <td>35.0</td>\n",
       "      <td>1.0</td>\n",
       "      <td>1.0</td>\n",
       "      <td>45.333333</td>\n",
       "      <td>2.0</td>\n",
       "      <td>1.0</td>\n",
       "      <td>5.0</td>\n",
       "      <td>64.0</td>\n",
       "      <td>12.0</td>\n",
       "    </tr>\n",
       "    <tr>\n",
       "      <th rowspan=\"3\" valign=\"top\">0.2</th>\n",
       "      <th>0.0001</th>\n",
       "      <td>0.620370</td>\n",
       "      <td>0.493991</td>\n",
       "      <td>0.489109</td>\n",
       "      <td>0.500910</td>\n",
       "      <td>0.692197</td>\n",
       "      <td>0.604282</td>\n",
       "      <td>0.595610</td>\n",
       "      <td>0.617023</td>\n",
       "      <td>35.0</td>\n",
       "      <td>1.0</td>\n",
       "      <td>1.0</td>\n",
       "      <td>45.333333</td>\n",
       "      <td>2.0</td>\n",
       "      <td>1.0</td>\n",
       "      <td>5.0</td>\n",
       "      <td>64.0</td>\n",
       "      <td>16.0</td>\n",
       "    </tr>\n",
       "    <tr>\n",
       "      <th>0.0005</th>\n",
       "      <td>0.614559</td>\n",
       "      <td>0.501053</td>\n",
       "      <td>0.492936</td>\n",
       "      <td>0.515355</td>\n",
       "      <td>0.705416</td>\n",
       "      <td>0.624108</td>\n",
       "      <td>0.612034</td>\n",
       "      <td>0.641945</td>\n",
       "      <td>35.0</td>\n",
       "      <td>1.0</td>\n",
       "      <td>1.0</td>\n",
       "      <td>45.333333</td>\n",
       "      <td>2.0</td>\n",
       "      <td>1.0</td>\n",
       "      <td>5.0</td>\n",
       "      <td>64.0</td>\n",
       "      <td>17.0</td>\n",
       "    </tr>\n",
       "    <tr>\n",
       "      <th>0.0010</th>\n",
       "      <td>0.630651</td>\n",
       "      <td>0.514022</td>\n",
       "      <td>0.510017</td>\n",
       "      <td>0.522963</td>\n",
       "      <td>0.702259</td>\n",
       "      <td>0.611604</td>\n",
       "      <td>0.606902</td>\n",
       "      <td>0.619940</td>\n",
       "      <td>35.0</td>\n",
       "      <td>1.0</td>\n",
       "      <td>1.0</td>\n",
       "      <td>45.333333</td>\n",
       "      <td>2.0</td>\n",
       "      <td>1.0</td>\n",
       "      <td>5.0</td>\n",
       "      <td>64.0</td>\n",
       "      <td>15.0</td>\n",
       "    </tr>\n",
       "  </tbody>\n",
       "</table>\n",
       "</div>"
      ],
      "text/plain": [
       "                                       accuracy        f1  precision  \\\n",
       "hidden_dim dropout_rate learning_rate                                  \n",
       "200        0.1          0.0001         0.629566  0.503715   0.499511   \n",
       "                        0.0005         0.637292  0.513575   0.508597   \n",
       "                        0.0010         0.619540  0.513413   0.503854   \n",
       "           0.2          0.0001         0.625798  0.501180   0.496242   \n",
       "                        0.0005         0.632631  0.514610   0.508108   \n",
       "                        0.0010         0.636973  0.517218   0.511948   \n",
       "300        0.1          0.0001         0.618902  0.491224   0.486417   \n",
       "                        0.0005         0.629502  0.506252   0.501758   \n",
       "                        0.0010         0.635313  0.516430   0.509901   \n",
       "           0.2          0.0001         0.611814  0.487290   0.481483   \n",
       "                        0.0005         0.625607  0.503214   0.497926   \n",
       "                        0.0010         0.629630  0.515571   0.507766   \n",
       "384        0.1          0.0001         0.622478  0.490690   0.487602   \n",
       "                        0.0005         0.626373  0.510425   0.505682   \n",
       "                        0.0010         0.624904  0.516900   0.508704   \n",
       "           0.2          0.0001         0.620370  0.493991   0.489109   \n",
       "                        0.0005         0.614559  0.501053   0.492936   \n",
       "                        0.0010         0.630651  0.514022   0.510017   \n",
       "\n",
       "                                         recall  valid_accuracy  valid_f1  \\\n",
       "hidden_dim dropout_rate learning_rate                                       \n",
       "200        0.1          0.0001         0.510487        0.693320  0.604055   \n",
       "                        0.0005         0.520569        0.714515  0.624851   \n",
       "                        0.0010         0.531017        0.700760  0.618480   \n",
       "           0.2          0.0001         0.508335        0.694337  0.608344   \n",
       "                        0.0005         0.523968        0.708949  0.621544   \n",
       "                        0.0010         0.527635        0.709270  0.620284   \n",
       "300        0.1          0.0001         0.497987        0.688289  0.603881   \n",
       "                        0.0005         0.514649        0.713712  0.625239   \n",
       "                        0.0010         0.526153        0.706487  0.614457   \n",
       "           0.2          0.0001         0.496647        0.684811  0.601920   \n",
       "                        0.0005         0.514115        0.713177  0.624450   \n",
       "                        0.0010         0.529638        0.702901  0.617538   \n",
       "384        0.1          0.0001         0.495186        0.692999  0.604149   \n",
       "                        0.0005         0.519992        0.709270  0.622619   \n",
       "                        0.0010         0.532443        0.697870  0.613894   \n",
       "           0.2          0.0001         0.500910        0.692197  0.604282   \n",
       "                        0.0005         0.515355        0.705416  0.624108   \n",
       "                        0.0010         0.522963        0.702259  0.611604   \n",
       "\n",
       "                                       valid_precision  valid_recall     k  \\\n",
       "hidden_dim dropout_rate learning_rate                                        \n",
       "200        0.1          0.0001                0.596114      0.616842  35.0   \n",
       "                        0.0005                0.619403      0.631615  35.0   \n",
       "                        0.0010                0.606910      0.636674  35.0   \n",
       "           0.2          0.0001                0.599110      0.623013  35.0   \n",
       "                        0.0005                0.613405      0.632151  35.0   \n",
       "                        0.0010                0.614130      0.630522  35.0   \n",
       "300        0.1          0.0001                0.593414      0.619771  35.0   \n",
       "                        0.0005                0.619764      0.634425  35.0   \n",
       "                        0.0010                0.608454      0.622430  35.0   \n",
       "           0.2          0.0001                0.590758      0.620907  35.0   \n",
       "                        0.0005                0.618876      0.635300  35.0   \n",
       "                        0.0010                0.607979      0.632034  35.0   \n",
       "384        0.1          0.0001                0.596630      0.615850  35.0   \n",
       "                        0.0005                0.616256      0.633224  35.0   \n",
       "                        0.0010                0.603762      0.629376  35.0   \n",
       "           0.2          0.0001                0.595610      0.617023  35.0   \n",
       "                        0.0005                0.612034      0.641945  35.0   \n",
       "                        0.0010                0.606902      0.619940  35.0   \n",
       "\n",
       "                                       num_layers  bidirectional       seed  \\\n",
       "hidden_dim dropout_rate learning_rate                                         \n",
       "200        0.1          0.0001                1.0            1.0  45.333333   \n",
       "                        0.0005                1.0            1.0  45.333333   \n",
       "                        0.0010                1.0            1.0  45.333333   \n",
       "           0.2          0.0001                1.0            1.0  45.333333   \n",
       "                        0.0005                1.0            1.0  45.333333   \n",
       "                        0.0010                1.0            1.0  45.333333   \n",
       "300        0.1          0.0001                1.0            1.0  45.333333   \n",
       "                        0.0005                1.0            1.0  45.333333   \n",
       "                        0.0010                1.0            1.0  45.333333   \n",
       "           0.2          0.0001                1.0            1.0  45.333333   \n",
       "                        0.0005                1.0            1.0  45.333333   \n",
       "                        0.0010                1.0            1.0  45.333333   \n",
       "384        0.1          0.0001                1.0            1.0  45.333333   \n",
       "                        0.0005                1.0            1.0  45.333333   \n",
       "                        0.0010                1.0            1.0  45.333333   \n",
       "           0.2          0.0001                1.0            1.0  45.333333   \n",
       "                        0.0005                1.0            1.0  45.333333   \n",
       "                        0.0010                1.0            1.0  45.333333   \n",
       "\n",
       "                                       gamma  k_fold  n_splits  batch_size  \\\n",
       "hidden_dim dropout_rate learning_rate                                        \n",
       "200        0.1          0.0001           2.0     1.0       5.0        64.0   \n",
       "                        0.0005           2.0     1.0       5.0        64.0   \n",
       "                        0.0010           2.0     1.0       5.0        64.0   \n",
       "           0.2          0.0001           2.0     1.0       5.0        64.0   \n",
       "                        0.0005           2.0     1.0       5.0        64.0   \n",
       "                        0.0010           2.0     1.0       5.0        64.0   \n",
       "300        0.1          0.0001           2.0     1.0       5.0        64.0   \n",
       "                        0.0005           2.0     1.0       5.0        64.0   \n",
       "                        0.0010           2.0     1.0       5.0        64.0   \n",
       "           0.2          0.0001           2.0     1.0       5.0        64.0   \n",
       "                        0.0005           2.0     1.0       5.0        64.0   \n",
       "                        0.0010           2.0     1.0       5.0        64.0   \n",
       "384        0.1          0.0001           2.0     1.0       5.0        64.0   \n",
       "                        0.0005           2.0     1.0       5.0        64.0   \n",
       "                        0.0010           2.0     1.0       5.0        64.0   \n",
       "           0.2          0.0001           2.0     1.0       5.0        64.0   \n",
       "                        0.0005           2.0     1.0       5.0        64.0   \n",
       "                        0.0010           2.0     1.0       5.0        64.0   \n",
       "\n",
       "                                       model_id  \n",
       "hidden_dim dropout_rate learning_rate            \n",
       "200        0.1          0.0001              1.0  \n",
       "                        0.0005              2.0  \n",
       "                        0.0010              0.0  \n",
       "           0.2          0.0001              4.0  \n",
       "                        0.0005              5.0  \n",
       "                        0.0010              3.0  \n",
       "300        0.1          0.0001              7.0  \n",
       "                        0.0005              8.0  \n",
       "                        0.0010              6.0  \n",
       "           0.2          0.0001             10.0  \n",
       "                        0.0005             11.0  \n",
       "                        0.0010              9.0  \n",
       "384        0.1          0.0001             13.0  \n",
       "                        0.0005             14.0  \n",
       "                        0.0010             12.0  \n",
       "           0.2          0.0001             16.0  \n",
       "                        0.0005             17.0  \n",
       "                        0.0010             15.0  "
      ]
     },
     "execution_count": 44,
     "metadata": {},
     "output_type": "execute_result"
    }
   ],
   "source": [
    "bilstm_history_35_kfold.groupby([\"hidden_dim\", \"dropout_rate\", \"learning_rate\"]).mean()"
   ]
  },
  {
   "cell_type": "code",
   "execution_count": 45,
   "id": "b56e3ae4-0521-4f08-85fc-14f403855fc3",
   "metadata": {},
   "outputs": [
    {
     "data": {
      "text/html": [
       "<div>\n",
       "<style scoped>\n",
       "    .dataframe tbody tr th:only-of-type {\n",
       "        vertical-align: middle;\n",
       "    }\n",
       "\n",
       "    .dataframe tbody tr th {\n",
       "        vertical-align: top;\n",
       "    }\n",
       "\n",
       "    .dataframe thead th {\n",
       "        text-align: right;\n",
       "    }\n",
       "</style>\n",
       "<table border=\"1\" class=\"dataframe\">\n",
       "  <thead>\n",
       "    <tr style=\"text-align: right;\">\n",
       "      <th></th>\n",
       "      <th>loss</th>\n",
       "      <th>accuracy</th>\n",
       "      <th>f1</th>\n",
       "      <th>f1_scores</th>\n",
       "      <th>precision</th>\n",
       "      <th>precision_scores</th>\n",
       "      <th>recall</th>\n",
       "      <th>recall_scores</th>\n",
       "      <th>valid_loss</th>\n",
       "      <th>valid_accuracy</th>\n",
       "      <th>...</th>\n",
       "      <th>bidirectional</th>\n",
       "      <th>hidden_dim</th>\n",
       "      <th>dropout_rate</th>\n",
       "      <th>learning_rate</th>\n",
       "      <th>seed</th>\n",
       "      <th>loss_function</th>\n",
       "      <th>gamma</th>\n",
       "      <th>k_fold</th>\n",
       "      <th>n_splits</th>\n",
       "      <th>batch_size</th>\n",
       "    </tr>\n",
       "  </thead>\n",
       "  <tbody>\n",
       "    <tr>\n",
       "      <th>0</th>\n",
       "      <td>None</td>\n",
       "      <td>0.628927</td>\n",
       "      <td>0.508679</td>\n",
       "      <td>[0.7518529498962349, 0.43203125000000003, 0.34...</td>\n",
       "      <td>0.504573</td>\n",
       "      <td>[0.7712895377128953, 0.4102373887240356, 0.332...</td>\n",
       "      <td>0.514123</td>\n",
       "      <td>[0.7333718912666282, 0.45627062706270627, 0.35...</td>\n",
       "      <td>None</td>\n",
       "      <td>0.715318</td>\n",
       "      <td>...</td>\n",
       "      <td>True</td>\n",
       "      <td>300</td>\n",
       "      <td>0.1</td>\n",
       "      <td>0.0005</td>\n",
       "      <td>1</td>\n",
       "      <td>focal</td>\n",
       "      <td>2</td>\n",
       "      <td>True</td>\n",
       "      <td>5</td>\n",
       "      <td>64</td>\n",
       "    </tr>\n",
       "    <tr>\n",
       "      <th>0</th>\n",
       "      <td>None</td>\n",
       "      <td>0.632950</td>\n",
       "      <td>0.506217</td>\n",
       "      <td>[0.7599183197199534, 0.4195680916703393, 0.339...</td>\n",
       "      <td>0.502821</td>\n",
       "      <td>[0.7666274278987639, 0.4503311258278146, 0.291...</td>\n",
       "      <td>0.517173</td>\n",
       "      <td>[0.7533256217466744, 0.3927392739273927, 0.405...</td>\n",
       "      <td>None</td>\n",
       "      <td>0.711946</td>\n",
       "      <td>...</td>\n",
       "      <td>True</td>\n",
       "      <td>300</td>\n",
       "      <td>0.1</td>\n",
       "      <td>0.0005</td>\n",
       "      <td>12</td>\n",
       "      <td>focal</td>\n",
       "      <td>2</td>\n",
       "      <td>True</td>\n",
       "      <td>5</td>\n",
       "      <td>64</td>\n",
       "    </tr>\n",
       "    <tr>\n",
       "      <th>0</th>\n",
       "      <td>None</td>\n",
       "      <td>0.626628</td>\n",
       "      <td>0.503861</td>\n",
       "      <td>[0.7521771217712178, 0.424989724619811, 0.3344...</td>\n",
       "      <td>0.497880</td>\n",
       "      <td>[0.7681640036177269, 0.42342342342342343, 0.30...</td>\n",
       "      <td>0.512652</td>\n",
       "      <td>[0.7368421052631579, 0.4265676567656766, 0.374...</td>\n",
       "      <td>None</td>\n",
       "      <td>0.713873</td>\n",
       "      <td>...</td>\n",
       "      <td>True</td>\n",
       "      <td>300</td>\n",
       "      <td>0.1</td>\n",
       "      <td>0.0005</td>\n",
       "      <td>123</td>\n",
       "      <td>focal</td>\n",
       "      <td>2</td>\n",
       "      <td>True</td>\n",
       "      <td>5</td>\n",
       "      <td>64</td>\n",
       "    </tr>\n",
       "  </tbody>\n",
       "</table>\n",
       "<p>3 rows × 27 columns</p>\n",
       "</div>"
      ],
      "text/plain": [
       "   loss  accuracy        f1  \\\n",
       "0  None  0.628927  0.508679   \n",
       "0  None  0.632950  0.506217   \n",
       "0  None  0.626628  0.503861   \n",
       "\n",
       "                                           f1_scores  precision  \\\n",
       "0  [0.7518529498962349, 0.43203125000000003, 0.34...   0.504573   \n",
       "0  [0.7599183197199534, 0.4195680916703393, 0.339...   0.502821   \n",
       "0  [0.7521771217712178, 0.424989724619811, 0.3344...   0.497880   \n",
       "\n",
       "                                    precision_scores    recall  \\\n",
       "0  [0.7712895377128953, 0.4102373887240356, 0.332...  0.514123   \n",
       "0  [0.7666274278987639, 0.4503311258278146, 0.291...  0.517173   \n",
       "0  [0.7681640036177269, 0.42342342342342343, 0.30...  0.512652   \n",
       "\n",
       "                                       recall_scores valid_loss  \\\n",
       "0  [0.7333718912666282, 0.45627062706270627, 0.35...       None   \n",
       "0  [0.7533256217466744, 0.3927392739273927, 0.405...       None   \n",
       "0  [0.7368421052631579, 0.4265676567656766, 0.374...       None   \n",
       "\n",
       "   valid_accuracy  ...  bidirectional hidden_dim  dropout_rate learning_rate  \\\n",
       "0        0.715318  ...           True        300           0.1        0.0005   \n",
       "0        0.711946  ...           True        300           0.1        0.0005   \n",
       "0        0.713873  ...           True        300           0.1        0.0005   \n",
       "\n",
       "   seed loss_function  gamma  k_fold  n_splits  batch_size  \n",
       "0     1         focal      2    True         5          64  \n",
       "0    12         focal      2    True         5          64  \n",
       "0   123         focal      2    True         5          64  \n",
       "\n",
       "[3 rows x 27 columns]"
      ]
     },
     "execution_count": 45,
     "metadata": {},
     "output_type": "execute_result"
    }
   ],
   "source": [
    "best_bilstm_history_35_kfold"
   ]
  },
  {
   "cell_type": "code",
   "execution_count": 46,
   "id": "53b13893-07ce-4029-9135-4c87a8f73365",
   "metadata": {},
   "outputs": [
    {
     "data": {
      "text/plain": [
       "0.5062520239641121"
      ]
     },
     "execution_count": 46,
     "metadata": {},
     "output_type": "execute_result"
    }
   ],
   "source": [
    "best_bilstm_history_35_kfold[\"f1\"].mean()"
   ]
  },
  {
   "cell_type": "code",
   "execution_count": 47,
   "id": "8ae1d30b-cdd3-4749-813e-f828e1f149f6",
   "metadata": {},
   "outputs": [
    {
     "data": {
      "text/plain": [
       "0.5017578602137986"
      ]
     },
     "execution_count": 47,
     "metadata": {},
     "output_type": "execute_result"
    }
   ],
   "source": [
    "best_bilstm_history_35_kfold[\"precision\"].mean()"
   ]
  },
  {
   "cell_type": "code",
   "execution_count": 48,
   "id": "a5c8ab29-6836-4275-89e0-574adee08bad",
   "metadata": {},
   "outputs": [
    {
     "data": {
      "text/plain": [
       "0.514649383195501"
      ]
     },
     "execution_count": 48,
     "metadata": {},
     "output_type": "execute_result"
    }
   ],
   "source": [
    "best_bilstm_history_35_kfold[\"recall\"].mean()"
   ]
  },
  {
   "cell_type": "code",
   "execution_count": 49,
   "id": "74920682-2a59-4c43-b27f-98cb83f76d4a",
   "metadata": {
    "scrolled": true
   },
   "outputs": [
    {
     "data": {
      "text/plain": [
       "array([0.75464946, 0.42552969, 0.33857692])"
      ]
     },
     "execution_count": 49,
     "metadata": {},
     "output_type": "execute_result"
    }
   ],
   "source": [
    "np.stack(best_bilstm_history_35_kfold[\"f1_scores\"]).mean(axis=0)"
   ]
  },
  {
   "cell_type": "code",
   "execution_count": 50,
   "id": "41d1b5fe-9c37-48f1-a02a-55dba9c54630",
   "metadata": {},
   "outputs": [
    {
     "data": {
      "text/plain": [
       "array([0.76869366, 0.42799731, 0.30858261])"
      ]
     },
     "execution_count": 50,
     "metadata": {},
     "output_type": "execute_result"
    }
   ],
   "source": [
    "np.stack(best_bilstm_history_35_kfold[\"precision_scores\"]).mean(axis=0)"
   ]
  },
  {
   "cell_type": "code",
   "execution_count": 51,
   "id": "e3213232-3798-402f-b3d5-a1f9ba56ec06",
   "metadata": {},
   "outputs": [
    {
     "data": {
      "text/plain": [
       "array([0.74117987, 0.42519252, 0.37757576])"
      ]
     },
     "execution_count": 51,
     "metadata": {},
     "output_type": "execute_result"
    }
   ],
   "source": [
    "np.stack(best_bilstm_history_35_kfold[\"recall_scores\"]).mean(axis=0)"
   ]
  },
  {
   "cell_type": "markdown",
   "id": "038eaa34-7636-47a0-ae2a-9317cb0218e9",
   "metadata": {},
   "source": [
    "## history_length=80"
   ]
  },
  {
   "cell_type": "code",
   "execution_count": 52,
   "id": "d4068002-0ca3-4d16-b6a2-3af9f580295b",
   "metadata": {},
   "outputs": [],
   "source": [
    "size = 80"
   ]
  },
  {
   "cell_type": "code",
   "execution_count": 53,
   "id": "f5721883-46fb-4447-a411-02c95cb638ac",
   "metadata": {},
   "outputs": [
    {
     "data": {
      "application/vnd.jupyter.widget-view+json": {
       "model_id": "787b0efe06e94426a7e7734441f87ca4",
       "version_major": 2,
       "version_minor": 0
      },
      "text/plain": [
       "  0%|          | 0/1 [00:00<?, ?it/s]"
      ]
     },
     "metadata": {},
     "output_type": "display_data"
    },
    {
     "name": "stdout",
     "output_type": "stream",
     "text": [
      "[INFO] Concatenating the embeddings to the dataframe...\n",
      "[INFO] - columns beginning with 'e' denote the full embddings.\n",
      "[INFO] Adding time feature columns into dataframe in `.df`.\n",
      "[INFO] Adding 'time_encoding' feature...\n",
      "[INFO] Adding 'time_diff' feature...\n",
      "[INFO] Adding 'timeline_index' feature...\n",
      "[INFO] Padding ids and storing in `.df_padded` and `.array_padded` attributes.\n"
     ]
    },
    {
     "data": {
      "application/vnd.jupyter.widget-view+json": {
       "model_id": "e4af22a4e4cc4d908ec790a6ba8ffc92",
       "version_major": 2,
       "version_minor": 0
      },
      "text/plain": [
       "  0%|          | 0/9699 [00:00<?, ?it/s]"
      ]
     },
     "metadata": {},
     "output_type": "display_data"
    },
    {
     "data": {
      "application/vnd.jupyter.widget-view+json": {
       "model_id": "af3d73684c6a447cb965eb225d98470a",
       "version_major": 2,
       "version_minor": 0
      },
      "text/plain": [
       "  0%|          | 0/3 [00:00<?, ?it/s]"
      ]
     },
     "metadata": {},
     "output_type": "display_data"
    },
    {
     "data": {
      "application/vnd.jupyter.widget-view+json": {
       "model_id": "5ad56ff155204b37b5f8bd23441789a8",
       "version_major": 2,
       "version_minor": 0
      },
      "text/plain": [
       "  0%|          | 0/2 [00:00<?, ?it/s]"
      ]
     },
     "metadata": {},
     "output_type": "display_data"
    },
    {
     "data": {
      "application/vnd.jupyter.widget-view+json": {
       "model_id": "f7777d781e4949f686a541512687f594",
       "version_major": 2,
       "version_minor": 0
      },
      "text/plain": [
       "  0%|          | 0/3 [00:00<?, ?it/s]"
      ]
     },
     "metadata": {},
     "output_type": "display_data"
    },
    {
     "data": {
      "application/vnd.jupyter.widget-view+json": {
       "model_id": "ffa581256f34461f8817818b334cba71",
       "version_major": 2,
       "version_minor": 0
      },
      "text/plain": [
       "  0%|          | 0/3 [00:00<?, ?it/s]"
      ]
     },
     "metadata": {},
     "output_type": "display_data"
    },
    {
     "data": {
      "application/vnd.jupyter.widget-view+json": {
       "model_id": "e26ed786776241baba36df90d7c4739d",
       "version_major": 2,
       "version_minor": 0
      },
      "text/plain": [
       "  0%|          | 0/2 [00:00<?, ?it/s]"
      ]
     },
     "metadata": {},
     "output_type": "display_data"
    },
    {
     "data": {
      "application/vnd.jupyter.widget-view+json": {
       "model_id": "773ce34fd5524d56b879a99dbe3484b3",
       "version_major": 2,
       "version_minor": 0
      },
      "text/plain": [
       "  0%|          | 0/3 [00:00<?, ?it/s]"
      ]
     },
     "metadata": {},
     "output_type": "display_data"
    },
    {
     "data": {
      "application/vnd.jupyter.widget-view+json": {
       "model_id": "5285fa2f8b9f45a782a41f15c3416dd0",
       "version_major": 2,
       "version_minor": 0
      },
      "text/plain": [
       "  0%|          | 0/3 [00:00<?, ?it/s]"
      ]
     },
     "metadata": {},
     "output_type": "display_data"
    },
    {
     "data": {
      "application/vnd.jupyter.widget-view+json": {
       "model_id": "8dfba3bc2e84477a86d6303b412640c7",
       "version_major": 2,
       "version_minor": 0
      },
      "text/plain": [
       "  0%|          | 0/2 [00:00<?, ?it/s]"
      ]
     },
     "metadata": {},
     "output_type": "display_data"
    },
    {
     "data": {
      "application/vnd.jupyter.widget-view+json": {
       "model_id": "41bd0574ed6a4f37a96567b53fad9c8d",
       "version_major": 2,
       "version_minor": 0
      },
      "text/plain": [
       "  0%|          | 0/3 [00:00<?, ?it/s]"
      ]
     },
     "metadata": {},
     "output_type": "display_data"
    },
    {
     "data": {
      "application/vnd.jupyter.widget-view+json": {
       "model_id": "b3309c81352a4d88a5e924cfaca7bdff",
       "version_major": 2,
       "version_minor": 0
      },
      "text/plain": [
       "  0%|          | 0/3 [00:00<?, ?it/s]"
      ]
     },
     "metadata": {},
     "output_type": "display_data"
    },
    {
     "name": "stdout",
     "output_type": "stream",
     "text": [
      "saving results dataframe to CSV for this hyperparameter search in client_talk_type_output/lstm_history_80_focal_2_kfold.csv\n",
      "saving the best model results dataframe to CSV for this hyperparameter search in client_talk_type_output/lstm_history_80_focal_2_kfold_best_model.csv\n"
     ]
    }
   ],
   "source": [
    "(\n",
    "    bilstm_history_80_kfold,\n",
    "    best_bilstm_history_80_kfold,\n",
    "    _,\n",
    "    __,\n",
    ") = lstm_hyperparameter_search(\n",
    "    history_lengths=[size],\n",
    "    results_output=f\"{output_dir}/lstm_history_{size}_focal_{gamma}_kfold.csv\",\n",
    "    **kwargs,\n",
    ")"
   ]
  },
  {
   "cell_type": "code",
   "execution_count": 54,
   "id": "85bb1d09-7602-42c6-af05-55023d93ab37",
   "metadata": {},
   "outputs": [
    {
     "name": "stderr",
     "output_type": "stream",
     "text": [
      "/tmp/ipykernel_3407032/4119866568.py:1: FutureWarning: The default value of numeric_only in DataFrameGroupBy.mean is deprecated. In a future version, numeric_only will default to False. Either specify numeric_only or select only columns which should be valid for the function.\n",
      "  bilstm_history_80_kfold.groupby([\"hidden_dim\", \"dropout_rate\", \"learning_rate\"]).mean()\n"
     ]
    },
    {
     "data": {
      "text/html": [
       "<div>\n",
       "<style scoped>\n",
       "    .dataframe tbody tr th:only-of-type {\n",
       "        vertical-align: middle;\n",
       "    }\n",
       "\n",
       "    .dataframe tbody tr th {\n",
       "        vertical-align: top;\n",
       "    }\n",
       "\n",
       "    .dataframe thead th {\n",
       "        text-align: right;\n",
       "    }\n",
       "</style>\n",
       "<table border=\"1\" class=\"dataframe\">\n",
       "  <thead>\n",
       "    <tr style=\"text-align: right;\">\n",
       "      <th></th>\n",
       "      <th></th>\n",
       "      <th></th>\n",
       "      <th>accuracy</th>\n",
       "      <th>f1</th>\n",
       "      <th>precision</th>\n",
       "      <th>recall</th>\n",
       "      <th>valid_accuracy</th>\n",
       "      <th>valid_f1</th>\n",
       "      <th>valid_precision</th>\n",
       "      <th>valid_recall</th>\n",
       "      <th>k</th>\n",
       "      <th>num_layers</th>\n",
       "      <th>bidirectional</th>\n",
       "      <th>seed</th>\n",
       "      <th>gamma</th>\n",
       "      <th>k_fold</th>\n",
       "      <th>n_splits</th>\n",
       "      <th>batch_size</th>\n",
       "      <th>model_id</th>\n",
       "    </tr>\n",
       "    <tr>\n",
       "      <th>hidden_dim</th>\n",
       "      <th>dropout_rate</th>\n",
       "      <th>learning_rate</th>\n",
       "      <th></th>\n",
       "      <th></th>\n",
       "      <th></th>\n",
       "      <th></th>\n",
       "      <th></th>\n",
       "      <th></th>\n",
       "      <th></th>\n",
       "      <th></th>\n",
       "      <th></th>\n",
       "      <th></th>\n",
       "      <th></th>\n",
       "      <th></th>\n",
       "      <th></th>\n",
       "      <th></th>\n",
       "      <th></th>\n",
       "      <th></th>\n",
       "      <th></th>\n",
       "    </tr>\n",
       "  </thead>\n",
       "  <tbody>\n",
       "    <tr>\n",
       "      <th rowspan=\"6\" valign=\"top\">200</th>\n",
       "      <th rowspan=\"3\" valign=\"top\">0.1</th>\n",
       "      <th>0.0001</th>\n",
       "      <td>0.618199</td>\n",
       "      <td>0.489772</td>\n",
       "      <td>0.485513</td>\n",
       "      <td>0.495856</td>\n",
       "      <td>0.703704</td>\n",
       "      <td>0.615138</td>\n",
       "      <td>0.605951</td>\n",
       "      <td>0.630238</td>\n",
       "      <td>80.0</td>\n",
       "      <td>1.0</td>\n",
       "      <td>1.0</td>\n",
       "      <td>45.333333</td>\n",
       "      <td>2.0</td>\n",
       "      <td>1.0</td>\n",
       "      <td>5.0</td>\n",
       "      <td>64.0</td>\n",
       "      <td>1.0</td>\n",
       "    </tr>\n",
       "    <tr>\n",
       "      <th>0.0005</th>\n",
       "      <td>0.635121</td>\n",
       "      <td>0.511993</td>\n",
       "      <td>0.506233</td>\n",
       "      <td>0.522438</td>\n",
       "      <td>0.715371</td>\n",
       "      <td>0.628382</td>\n",
       "      <td>0.619434</td>\n",
       "      <td>0.642100</td>\n",
       "      <td>80.0</td>\n",
       "      <td>1.0</td>\n",
       "      <td>1.0</td>\n",
       "      <td>45.333333</td>\n",
       "      <td>2.0</td>\n",
       "      <td>1.0</td>\n",
       "      <td>5.0</td>\n",
       "      <td>64.0</td>\n",
       "      <td>2.0</td>\n",
       "    </tr>\n",
       "    <tr>\n",
       "      <th>0.0010</th>\n",
       "      <td>0.633397</td>\n",
       "      <td>0.512416</td>\n",
       "      <td>0.505254</td>\n",
       "      <td>0.523776</td>\n",
       "      <td>0.717405</td>\n",
       "      <td>0.630219</td>\n",
       "      <td>0.621073</td>\n",
       "      <td>0.642260</td>\n",
       "      <td>80.0</td>\n",
       "      <td>1.0</td>\n",
       "      <td>1.0</td>\n",
       "      <td>45.333333</td>\n",
       "      <td>2.0</td>\n",
       "      <td>1.0</td>\n",
       "      <td>5.0</td>\n",
       "      <td>64.0</td>\n",
       "      <td>0.0</td>\n",
       "    </tr>\n",
       "    <tr>\n",
       "      <th rowspan=\"3\" valign=\"top\">0.2</th>\n",
       "      <th>0.0001</th>\n",
       "      <td>0.618646</td>\n",
       "      <td>0.492372</td>\n",
       "      <td>0.487854</td>\n",
       "      <td>0.498960</td>\n",
       "      <td>0.703329</td>\n",
       "      <td>0.615831</td>\n",
       "      <td>0.606449</td>\n",
       "      <td>0.630949</td>\n",
       "      <td>80.0</td>\n",
       "      <td>1.0</td>\n",
       "      <td>1.0</td>\n",
       "      <td>45.333333</td>\n",
       "      <td>2.0</td>\n",
       "      <td>1.0</td>\n",
       "      <td>5.0</td>\n",
       "      <td>64.0</td>\n",
       "      <td>4.0</td>\n",
       "    </tr>\n",
       "    <tr>\n",
       "      <th>0.0005</th>\n",
       "      <td>0.640358</td>\n",
       "      <td>0.516488</td>\n",
       "      <td>0.509973</td>\n",
       "      <td>0.526178</td>\n",
       "      <td>0.716495</td>\n",
       "      <td>0.629176</td>\n",
       "      <td>0.619664</td>\n",
       "      <td>0.642842</td>\n",
       "      <td>80.0</td>\n",
       "      <td>1.0</td>\n",
       "      <td>1.0</td>\n",
       "      <td>45.333333</td>\n",
       "      <td>2.0</td>\n",
       "      <td>1.0</td>\n",
       "      <td>5.0</td>\n",
       "      <td>64.0</td>\n",
       "      <td>5.0</td>\n",
       "    </tr>\n",
       "    <tr>\n",
       "      <th>0.0010</th>\n",
       "      <td>0.638633</td>\n",
       "      <td>0.515572</td>\n",
       "      <td>0.510480</td>\n",
       "      <td>0.524212</td>\n",
       "      <td>0.718636</td>\n",
       "      <td>0.630154</td>\n",
       "      <td>0.623194</td>\n",
       "      <td>0.640097</td>\n",
       "      <td>80.0</td>\n",
       "      <td>1.0</td>\n",
       "      <td>1.0</td>\n",
       "      <td>45.333333</td>\n",
       "      <td>2.0</td>\n",
       "      <td>1.0</td>\n",
       "      <td>5.0</td>\n",
       "      <td>64.0</td>\n",
       "      <td>3.0</td>\n",
       "    </tr>\n",
       "    <tr>\n",
       "      <th rowspan=\"6\" valign=\"top\">300</th>\n",
       "      <th rowspan=\"3\" valign=\"top\">0.1</th>\n",
       "      <th>0.0001</th>\n",
       "      <td>0.617241</td>\n",
       "      <td>0.480904</td>\n",
       "      <td>0.478451</td>\n",
       "      <td>0.484699</td>\n",
       "      <td>0.702954</td>\n",
       "      <td>0.612209</td>\n",
       "      <td>0.605451</td>\n",
       "      <td>0.623961</td>\n",
       "      <td>80.0</td>\n",
       "      <td>1.0</td>\n",
       "      <td>1.0</td>\n",
       "      <td>45.333333</td>\n",
       "      <td>2.0</td>\n",
       "      <td>1.0</td>\n",
       "      <td>5.0</td>\n",
       "      <td>64.0</td>\n",
       "      <td>7.0</td>\n",
       "    </tr>\n",
       "    <tr>\n",
       "      <th>0.0005</th>\n",
       "      <td>0.643167</td>\n",
       "      <td>0.519468</td>\n",
       "      <td>0.513193</td>\n",
       "      <td>0.528569</td>\n",
       "      <td>0.721312</td>\n",
       "      <td>0.631887</td>\n",
       "      <td>0.624819</td>\n",
       "      <td>0.641549</td>\n",
       "      <td>80.0</td>\n",
       "      <td>1.0</td>\n",
       "      <td>1.0</td>\n",
       "      <td>45.333333</td>\n",
       "      <td>2.0</td>\n",
       "      <td>1.0</td>\n",
       "      <td>5.0</td>\n",
       "      <td>64.0</td>\n",
       "      <td>8.0</td>\n",
       "    </tr>\n",
       "    <tr>\n",
       "      <th>0.0010</th>\n",
       "      <td>0.624457</td>\n",
       "      <td>0.511588</td>\n",
       "      <td>0.503399</td>\n",
       "      <td>0.527395</td>\n",
       "      <td>0.708895</td>\n",
       "      <td>0.626457</td>\n",
       "      <td>0.614179</td>\n",
       "      <td>0.645780</td>\n",
       "      <td>80.0</td>\n",
       "      <td>1.0</td>\n",
       "      <td>1.0</td>\n",
       "      <td>45.333333</td>\n",
       "      <td>2.0</td>\n",
       "      <td>1.0</td>\n",
       "      <td>5.0</td>\n",
       "      <td>64.0</td>\n",
       "      <td>6.0</td>\n",
       "    </tr>\n",
       "    <tr>\n",
       "      <th rowspan=\"3\" valign=\"top\">0.2</th>\n",
       "      <th>0.0001</th>\n",
       "      <td>0.616220</td>\n",
       "      <td>0.482043</td>\n",
       "      <td>0.479728</td>\n",
       "      <td>0.485999</td>\n",
       "      <td>0.704239</td>\n",
       "      <td>0.614374</td>\n",
       "      <td>0.606147</td>\n",
       "      <td>0.626161</td>\n",
       "      <td>80.0</td>\n",
       "      <td>1.0</td>\n",
       "      <td>1.0</td>\n",
       "      <td>45.333333</td>\n",
       "      <td>2.0</td>\n",
       "      <td>1.0</td>\n",
       "      <td>5.0</td>\n",
       "      <td>64.0</td>\n",
       "      <td>10.0</td>\n",
       "    </tr>\n",
       "    <tr>\n",
       "      <th>0.0005</th>\n",
       "      <td>0.637612</td>\n",
       "      <td>0.513946</td>\n",
       "      <td>0.507676</td>\n",
       "      <td>0.524185</td>\n",
       "      <td>0.715639</td>\n",
       "      <td>0.625178</td>\n",
       "      <td>0.617358</td>\n",
       "      <td>0.638099</td>\n",
       "      <td>80.0</td>\n",
       "      <td>1.0</td>\n",
       "      <td>1.0</td>\n",
       "      <td>45.333333</td>\n",
       "      <td>2.0</td>\n",
       "      <td>1.0</td>\n",
       "      <td>5.0</td>\n",
       "      <td>64.0</td>\n",
       "      <td>11.0</td>\n",
       "    </tr>\n",
       "    <tr>\n",
       "      <th>0.0010</th>\n",
       "      <td>0.630843</td>\n",
       "      <td>0.512402</td>\n",
       "      <td>0.505059</td>\n",
       "      <td>0.524285</td>\n",
       "      <td>0.711732</td>\n",
       "      <td>0.624470</td>\n",
       "      <td>0.614823</td>\n",
       "      <td>0.638480</td>\n",
       "      <td>80.0</td>\n",
       "      <td>1.0</td>\n",
       "      <td>1.0</td>\n",
       "      <td>45.333333</td>\n",
       "      <td>2.0</td>\n",
       "      <td>1.0</td>\n",
       "      <td>5.0</td>\n",
       "      <td>64.0</td>\n",
       "      <td>9.0</td>\n",
       "    </tr>\n",
       "    <tr>\n",
       "      <th rowspan=\"6\" valign=\"top\">384</th>\n",
       "      <th rowspan=\"3\" valign=\"top\">0.1</th>\n",
       "      <th>0.0001</th>\n",
       "      <td>0.625351</td>\n",
       "      <td>0.490370</td>\n",
       "      <td>0.487170</td>\n",
       "      <td>0.494524</td>\n",
       "      <td>0.701830</td>\n",
       "      <td>0.612391</td>\n",
       "      <td>0.604534</td>\n",
       "      <td>0.625794</td>\n",
       "      <td>80.0</td>\n",
       "      <td>1.0</td>\n",
       "      <td>1.0</td>\n",
       "      <td>45.333333</td>\n",
       "      <td>2.0</td>\n",
       "      <td>1.0</td>\n",
       "      <td>5.0</td>\n",
       "      <td>64.0</td>\n",
       "      <td>13.0</td>\n",
       "    </tr>\n",
       "    <tr>\n",
       "      <th>0.0005</th>\n",
       "      <td>0.634802</td>\n",
       "      <td>0.512558</td>\n",
       "      <td>0.506649</td>\n",
       "      <td>0.523330</td>\n",
       "      <td>0.713873</td>\n",
       "      <td>0.625344</td>\n",
       "      <td>0.617181</td>\n",
       "      <td>0.638088</td>\n",
       "      <td>80.0</td>\n",
       "      <td>1.0</td>\n",
       "      <td>1.0</td>\n",
       "      <td>45.333333</td>\n",
       "      <td>2.0</td>\n",
       "      <td>1.0</td>\n",
       "      <td>5.0</td>\n",
       "      <td>64.0</td>\n",
       "      <td>14.0</td>\n",
       "    </tr>\n",
       "    <tr>\n",
       "      <th>0.0010</th>\n",
       "      <td>0.635632</td>\n",
       "      <td>0.518136</td>\n",
       "      <td>0.511147</td>\n",
       "      <td>0.531585</td>\n",
       "      <td>0.711678</td>\n",
       "      <td>0.624109</td>\n",
       "      <td>0.615271</td>\n",
       "      <td>0.637045</td>\n",
       "      <td>80.0</td>\n",
       "      <td>1.0</td>\n",
       "      <td>1.0</td>\n",
       "      <td>45.333333</td>\n",
       "      <td>2.0</td>\n",
       "      <td>1.0</td>\n",
       "      <td>5.0</td>\n",
       "      <td>64.0</td>\n",
       "      <td>12.0</td>\n",
       "    </tr>\n",
       "    <tr>\n",
       "      <th rowspan=\"3\" valign=\"top\">0.2</th>\n",
       "      <th>0.0001</th>\n",
       "      <td>0.619732</td>\n",
       "      <td>0.486327</td>\n",
       "      <td>0.482560</td>\n",
       "      <td>0.491455</td>\n",
       "      <td>0.704667</td>\n",
       "      <td>0.614073</td>\n",
       "      <td>0.605862</td>\n",
       "      <td>0.626962</td>\n",
       "      <td>80.0</td>\n",
       "      <td>1.0</td>\n",
       "      <td>1.0</td>\n",
       "      <td>45.333333</td>\n",
       "      <td>2.0</td>\n",
       "      <td>1.0</td>\n",
       "      <td>5.0</td>\n",
       "      <td>64.0</td>\n",
       "      <td>16.0</td>\n",
       "    </tr>\n",
       "    <tr>\n",
       "      <th>0.0005</th>\n",
       "      <td>0.637484</td>\n",
       "      <td>0.518413</td>\n",
       "      <td>0.511096</td>\n",
       "      <td>0.530359</td>\n",
       "      <td>0.708574</td>\n",
       "      <td>0.620274</td>\n",
       "      <td>0.610741</td>\n",
       "      <td>0.634498</td>\n",
       "      <td>80.0</td>\n",
       "      <td>1.0</td>\n",
       "      <td>1.0</td>\n",
       "      <td>45.333333</td>\n",
       "      <td>2.0</td>\n",
       "      <td>1.0</td>\n",
       "      <td>5.0</td>\n",
       "      <td>64.0</td>\n",
       "      <td>17.0</td>\n",
       "    </tr>\n",
       "    <tr>\n",
       "      <th>0.0010</th>\n",
       "      <td>0.641890</td>\n",
       "      <td>0.517125</td>\n",
       "      <td>0.511762</td>\n",
       "      <td>0.526974</td>\n",
       "      <td>0.712802</td>\n",
       "      <td>0.623425</td>\n",
       "      <td>0.615626</td>\n",
       "      <td>0.636419</td>\n",
       "      <td>80.0</td>\n",
       "      <td>1.0</td>\n",
       "      <td>1.0</td>\n",
       "      <td>45.333333</td>\n",
       "      <td>2.0</td>\n",
       "      <td>1.0</td>\n",
       "      <td>5.0</td>\n",
       "      <td>64.0</td>\n",
       "      <td>15.0</td>\n",
       "    </tr>\n",
       "  </tbody>\n",
       "</table>\n",
       "</div>"
      ],
      "text/plain": [
       "                                       accuracy        f1  precision  \\\n",
       "hidden_dim dropout_rate learning_rate                                  \n",
       "200        0.1          0.0001         0.618199  0.489772   0.485513   \n",
       "                        0.0005         0.635121  0.511993   0.506233   \n",
       "                        0.0010         0.633397  0.512416   0.505254   \n",
       "           0.2          0.0001         0.618646  0.492372   0.487854   \n",
       "                        0.0005         0.640358  0.516488   0.509973   \n",
       "                        0.0010         0.638633  0.515572   0.510480   \n",
       "300        0.1          0.0001         0.617241  0.480904   0.478451   \n",
       "                        0.0005         0.643167  0.519468   0.513193   \n",
       "                        0.0010         0.624457  0.511588   0.503399   \n",
       "           0.2          0.0001         0.616220  0.482043   0.479728   \n",
       "                        0.0005         0.637612  0.513946   0.507676   \n",
       "                        0.0010         0.630843  0.512402   0.505059   \n",
       "384        0.1          0.0001         0.625351  0.490370   0.487170   \n",
       "                        0.0005         0.634802  0.512558   0.506649   \n",
       "                        0.0010         0.635632  0.518136   0.511147   \n",
       "           0.2          0.0001         0.619732  0.486327   0.482560   \n",
       "                        0.0005         0.637484  0.518413   0.511096   \n",
       "                        0.0010         0.641890  0.517125   0.511762   \n",
       "\n",
       "                                         recall  valid_accuracy  valid_f1  \\\n",
       "hidden_dim dropout_rate learning_rate                                       \n",
       "200        0.1          0.0001         0.495856        0.703704  0.615138   \n",
       "                        0.0005         0.522438        0.715371  0.628382   \n",
       "                        0.0010         0.523776        0.717405  0.630219   \n",
       "           0.2          0.0001         0.498960        0.703329  0.615831   \n",
       "                        0.0005         0.526178        0.716495  0.629176   \n",
       "                        0.0010         0.524212        0.718636  0.630154   \n",
       "300        0.1          0.0001         0.484699        0.702954  0.612209   \n",
       "                        0.0005         0.528569        0.721312  0.631887   \n",
       "                        0.0010         0.527395        0.708895  0.626457   \n",
       "           0.2          0.0001         0.485999        0.704239  0.614374   \n",
       "                        0.0005         0.524185        0.715639  0.625178   \n",
       "                        0.0010         0.524285        0.711732  0.624470   \n",
       "384        0.1          0.0001         0.494524        0.701830  0.612391   \n",
       "                        0.0005         0.523330        0.713873  0.625344   \n",
       "                        0.0010         0.531585        0.711678  0.624109   \n",
       "           0.2          0.0001         0.491455        0.704667  0.614073   \n",
       "                        0.0005         0.530359        0.708574  0.620274   \n",
       "                        0.0010         0.526974        0.712802  0.623425   \n",
       "\n",
       "                                       valid_precision  valid_recall     k  \\\n",
       "hidden_dim dropout_rate learning_rate                                        \n",
       "200        0.1          0.0001                0.605951      0.630238  80.0   \n",
       "                        0.0005                0.619434      0.642100  80.0   \n",
       "                        0.0010                0.621073      0.642260  80.0   \n",
       "           0.2          0.0001                0.606449      0.630949  80.0   \n",
       "                        0.0005                0.619664      0.642842  80.0   \n",
       "                        0.0010                0.623194      0.640097  80.0   \n",
       "300        0.1          0.0001                0.605451      0.623961  80.0   \n",
       "                        0.0005                0.624819      0.641549  80.0   \n",
       "                        0.0010                0.614179      0.645780  80.0   \n",
       "           0.2          0.0001                0.606147      0.626161  80.0   \n",
       "                        0.0005                0.617358      0.638099  80.0   \n",
       "                        0.0010                0.614823      0.638480  80.0   \n",
       "384        0.1          0.0001                0.604534      0.625794  80.0   \n",
       "                        0.0005                0.617181      0.638088  80.0   \n",
       "                        0.0010                0.615271      0.637045  80.0   \n",
       "           0.2          0.0001                0.605862      0.626962  80.0   \n",
       "                        0.0005                0.610741      0.634498  80.0   \n",
       "                        0.0010                0.615626      0.636419  80.0   \n",
       "\n",
       "                                       num_layers  bidirectional       seed  \\\n",
       "hidden_dim dropout_rate learning_rate                                         \n",
       "200        0.1          0.0001                1.0            1.0  45.333333   \n",
       "                        0.0005                1.0            1.0  45.333333   \n",
       "                        0.0010                1.0            1.0  45.333333   \n",
       "           0.2          0.0001                1.0            1.0  45.333333   \n",
       "                        0.0005                1.0            1.0  45.333333   \n",
       "                        0.0010                1.0            1.0  45.333333   \n",
       "300        0.1          0.0001                1.0            1.0  45.333333   \n",
       "                        0.0005                1.0            1.0  45.333333   \n",
       "                        0.0010                1.0            1.0  45.333333   \n",
       "           0.2          0.0001                1.0            1.0  45.333333   \n",
       "                        0.0005                1.0            1.0  45.333333   \n",
       "                        0.0010                1.0            1.0  45.333333   \n",
       "384        0.1          0.0001                1.0            1.0  45.333333   \n",
       "                        0.0005                1.0            1.0  45.333333   \n",
       "                        0.0010                1.0            1.0  45.333333   \n",
       "           0.2          0.0001                1.0            1.0  45.333333   \n",
       "                        0.0005                1.0            1.0  45.333333   \n",
       "                        0.0010                1.0            1.0  45.333333   \n",
       "\n",
       "                                       gamma  k_fold  n_splits  batch_size  \\\n",
       "hidden_dim dropout_rate learning_rate                                        \n",
       "200        0.1          0.0001           2.0     1.0       5.0        64.0   \n",
       "                        0.0005           2.0     1.0       5.0        64.0   \n",
       "                        0.0010           2.0     1.0       5.0        64.0   \n",
       "           0.2          0.0001           2.0     1.0       5.0        64.0   \n",
       "                        0.0005           2.0     1.0       5.0        64.0   \n",
       "                        0.0010           2.0     1.0       5.0        64.0   \n",
       "300        0.1          0.0001           2.0     1.0       5.0        64.0   \n",
       "                        0.0005           2.0     1.0       5.0        64.0   \n",
       "                        0.0010           2.0     1.0       5.0        64.0   \n",
       "           0.2          0.0001           2.0     1.0       5.0        64.0   \n",
       "                        0.0005           2.0     1.0       5.0        64.0   \n",
       "                        0.0010           2.0     1.0       5.0        64.0   \n",
       "384        0.1          0.0001           2.0     1.0       5.0        64.0   \n",
       "                        0.0005           2.0     1.0       5.0        64.0   \n",
       "                        0.0010           2.0     1.0       5.0        64.0   \n",
       "           0.2          0.0001           2.0     1.0       5.0        64.0   \n",
       "                        0.0005           2.0     1.0       5.0        64.0   \n",
       "                        0.0010           2.0     1.0       5.0        64.0   \n",
       "\n",
       "                                       model_id  \n",
       "hidden_dim dropout_rate learning_rate            \n",
       "200        0.1          0.0001              1.0  \n",
       "                        0.0005              2.0  \n",
       "                        0.0010              0.0  \n",
       "           0.2          0.0001              4.0  \n",
       "                        0.0005              5.0  \n",
       "                        0.0010              3.0  \n",
       "300        0.1          0.0001              7.0  \n",
       "                        0.0005              8.0  \n",
       "                        0.0010              6.0  \n",
       "           0.2          0.0001             10.0  \n",
       "                        0.0005             11.0  \n",
       "                        0.0010              9.0  \n",
       "384        0.1          0.0001             13.0  \n",
       "                        0.0005             14.0  \n",
       "                        0.0010             12.0  \n",
       "           0.2          0.0001             16.0  \n",
       "                        0.0005             17.0  \n",
       "                        0.0010             15.0  "
      ]
     },
     "execution_count": 54,
     "metadata": {},
     "output_type": "execute_result"
    }
   ],
   "source": [
    "bilstm_history_80_kfold.groupby([\"hidden_dim\", \"dropout_rate\", \"learning_rate\"]).mean()"
   ]
  },
  {
   "cell_type": "code",
   "execution_count": 55,
   "id": "46509ae8-5d0c-4fb3-ac4b-010fc8a8e5ac",
   "metadata": {},
   "outputs": [
    {
     "data": {
      "text/html": [
       "<div>\n",
       "<style scoped>\n",
       "    .dataframe tbody tr th:only-of-type {\n",
       "        vertical-align: middle;\n",
       "    }\n",
       "\n",
       "    .dataframe tbody tr th {\n",
       "        vertical-align: top;\n",
       "    }\n",
       "\n",
       "    .dataframe thead th {\n",
       "        text-align: right;\n",
       "    }\n",
       "</style>\n",
       "<table border=\"1\" class=\"dataframe\">\n",
       "  <thead>\n",
       "    <tr style=\"text-align: right;\">\n",
       "      <th></th>\n",
       "      <th>loss</th>\n",
       "      <th>accuracy</th>\n",
       "      <th>f1</th>\n",
       "      <th>f1_scores</th>\n",
       "      <th>precision</th>\n",
       "      <th>precision_scores</th>\n",
       "      <th>recall</th>\n",
       "      <th>recall_scores</th>\n",
       "      <th>valid_loss</th>\n",
       "      <th>valid_accuracy</th>\n",
       "      <th>...</th>\n",
       "      <th>bidirectional</th>\n",
       "      <th>hidden_dim</th>\n",
       "      <th>dropout_rate</th>\n",
       "      <th>learning_rate</th>\n",
       "      <th>seed</th>\n",
       "      <th>loss_function</th>\n",
       "      <th>gamma</th>\n",
       "      <th>k_fold</th>\n",
       "      <th>n_splits</th>\n",
       "      <th>batch_size</th>\n",
       "    </tr>\n",
       "  </thead>\n",
       "  <tbody>\n",
       "    <tr>\n",
       "      <th>0</th>\n",
       "      <td>None</td>\n",
       "      <td>0.648276</td>\n",
       "      <td>0.523103</td>\n",
       "      <td>[0.7725055432372506, 0.46400658165364056, 0.33...</td>\n",
       "      <td>0.517029</td>\n",
       "      <td>[0.790142122769882, 0.46267432321575064, 0.298...</td>\n",
       "      <td>0.532450</td>\n",
       "      <td>[0.7556390977443609, 0.46534653465346537, 0.37...</td>\n",
       "      <td>None</td>\n",
       "      <td>0.724952</td>\n",
       "      <td>...</td>\n",
       "      <td>True</td>\n",
       "      <td>300</td>\n",
       "      <td>0.1</td>\n",
       "      <td>0.0005</td>\n",
       "      <td>1</td>\n",
       "      <td>focal</td>\n",
       "      <td>2</td>\n",
       "      <td>True</td>\n",
       "      <td>5</td>\n",
       "      <td>64</td>\n",
       "    </tr>\n",
       "    <tr>\n",
       "      <th>0</th>\n",
       "      <td>None</td>\n",
       "      <td>0.644061</td>\n",
       "      <td>0.522721</td>\n",
       "      <td>[0.7648818426562968, 0.4753014391287436, 0.327...</td>\n",
       "      <td>0.516068</td>\n",
       "      <td>[0.7921313506815365, 0.4495952906548933, 0.306...</td>\n",
       "      <td>0.532099</td>\n",
       "      <td>[0.7394447657605553, 0.5041254125412541, 0.352...</td>\n",
       "      <td>None</td>\n",
       "      <td>0.719974</td>\n",
       "      <td>...</td>\n",
       "      <td>True</td>\n",
       "      <td>300</td>\n",
       "      <td>0.1</td>\n",
       "      <td>0.0005</td>\n",
       "      <td>12</td>\n",
       "      <td>focal</td>\n",
       "      <td>2</td>\n",
       "      <td>True</td>\n",
       "      <td>5</td>\n",
       "      <td>64</td>\n",
       "    </tr>\n",
       "    <tr>\n",
       "      <th>0</th>\n",
       "      <td>None</td>\n",
       "      <td>0.637165</td>\n",
       "      <td>0.512580</td>\n",
       "      <td>[0.7610513739545998, 0.4625, 0.3141891891891892]</td>\n",
       "      <td>0.506483</td>\n",
       "      <td>[0.7869054972205065, 0.4391691394658754, 0.293...</td>\n",
       "      <td>0.521158</td>\n",
       "      <td>[0.7368421052631579, 0.4884488448844885, 0.338...</td>\n",
       "      <td>None</td>\n",
       "      <td>0.719011</td>\n",
       "      <td>...</td>\n",
       "      <td>True</td>\n",
       "      <td>300</td>\n",
       "      <td>0.1</td>\n",
       "      <td>0.0005</td>\n",
       "      <td>123</td>\n",
       "      <td>focal</td>\n",
       "      <td>2</td>\n",
       "      <td>True</td>\n",
       "      <td>5</td>\n",
       "      <td>64</td>\n",
       "    </tr>\n",
       "  </tbody>\n",
       "</table>\n",
       "<p>3 rows × 27 columns</p>\n",
       "</div>"
      ],
      "text/plain": [
       "   loss  accuracy        f1  \\\n",
       "0  None  0.648276  0.523103   \n",
       "0  None  0.644061  0.522721   \n",
       "0  None  0.637165  0.512580   \n",
       "\n",
       "                                           f1_scores  precision  \\\n",
       "0  [0.7725055432372506, 0.46400658165364056, 0.33...   0.517029   \n",
       "0  [0.7648818426562968, 0.4753014391287436, 0.327...   0.516068   \n",
       "0   [0.7610513739545998, 0.4625, 0.3141891891891892]   0.506483   \n",
       "\n",
       "                                    precision_scores    recall  \\\n",
       "0  [0.790142122769882, 0.46267432321575064, 0.298...  0.532450   \n",
       "0  [0.7921313506815365, 0.4495952906548933, 0.306...  0.532099   \n",
       "0  [0.7869054972205065, 0.4391691394658754, 0.293...  0.521158   \n",
       "\n",
       "                                       recall_scores valid_loss  \\\n",
       "0  [0.7556390977443609, 0.46534653465346537, 0.37...       None   \n",
       "0  [0.7394447657605553, 0.5041254125412541, 0.352...       None   \n",
       "0  [0.7368421052631579, 0.4884488448844885, 0.338...       None   \n",
       "\n",
       "   valid_accuracy  ...  bidirectional hidden_dim  dropout_rate learning_rate  \\\n",
       "0        0.724952  ...           True        300           0.1        0.0005   \n",
       "0        0.719974  ...           True        300           0.1        0.0005   \n",
       "0        0.719011  ...           True        300           0.1        0.0005   \n",
       "\n",
       "   seed loss_function  gamma  k_fold  n_splits  batch_size  \n",
       "0     1         focal      2    True         5          64  \n",
       "0    12         focal      2    True         5          64  \n",
       "0   123         focal      2    True         5          64  \n",
       "\n",
       "[3 rows x 27 columns]"
      ]
     },
     "execution_count": 55,
     "metadata": {},
     "output_type": "execute_result"
    }
   ],
   "source": [
    "best_bilstm_history_80_kfold"
   ]
  },
  {
   "cell_type": "code",
   "execution_count": 56,
   "id": "18ec43f8-f64b-4df1-a7cf-4dd1148aa65e",
   "metadata": {},
   "outputs": [
    {
     "data": {
      "text/plain": [
       "0.519468123340839"
      ]
     },
     "execution_count": 56,
     "metadata": {},
     "output_type": "execute_result"
    }
   ],
   "source": [
    "best_bilstm_history_80_kfold[\"f1\"].mean()"
   ]
  },
  {
   "cell_type": "code",
   "execution_count": 57,
   "id": "20cff30e-2c90-49e1-b764-c04476491d2c",
   "metadata": {},
   "outputs": [
    {
     "data": {
      "text/plain": [
       "0.5131934561009911"
      ]
     },
     "execution_count": 57,
     "metadata": {},
     "output_type": "execute_result"
    }
   ],
   "source": [
    "best_bilstm_history_80_kfold[\"precision\"].mean()"
   ]
  },
  {
   "cell_type": "code",
   "execution_count": 58,
   "id": "32232398-c881-4b08-9b22-6dbcead594d5",
   "metadata": {},
   "outputs": [
    {
     "data": {
      "text/plain": [
       "0.5285688320133344"
      ]
     },
     "execution_count": 58,
     "metadata": {},
     "output_type": "execute_result"
    }
   ],
   "source": [
    "best_bilstm_history_80_kfold[\"recall\"].mean()"
   ]
  },
  {
   "cell_type": "code",
   "execution_count": 59,
   "id": "62d2547d-c5df-49f4-b9f4-885b72e39e79",
   "metadata": {
    "scrolled": true
   },
   "outputs": [
    {
     "data": {
      "text/plain": [
       "array([0.76614625, 0.46726934, 0.32498878])"
      ]
     },
     "execution_count": 59,
     "metadata": {},
     "output_type": "execute_result"
    }
   ],
   "source": [
    "np.stack(best_bilstm_history_80_kfold[\"f1_scores\"]).mean(axis=0)"
   ]
  },
  {
   "cell_type": "code",
   "execution_count": 60,
   "id": "2e2f35a3-37a9-4009-b63b-a1fc3f02b152",
   "metadata": {},
   "outputs": [
    {
     "data": {
      "text/plain": [
       "array([0.78972632, 0.45047958, 0.29937446])"
      ]
     },
     "execution_count": 60,
     "metadata": {},
     "output_type": "execute_result"
    }
   ],
   "source": [
    "np.stack(best_bilstm_history_80_kfold[\"precision_scores\"]).mean(axis=0)"
   ]
  },
  {
   "cell_type": "code",
   "execution_count": 61,
   "id": "b6ee16a6-a91c-4b9c-a4b1-caa9eda26553",
   "metadata": {},
   "outputs": [
    {
     "data": {
      "text/plain": [
       "array([0.74397532, 0.4859736 , 0.35575758])"
      ]
     },
     "execution_count": 61,
     "metadata": {},
     "output_type": "execute_result"
    }
   ],
   "source": [
    "np.stack(best_bilstm_history_80_kfold[\"recall_scores\"]).mean(axis=0)"
   ]
  },
  {
   "cell_type": "markdown",
   "id": "a13c7d0e-4f10-4bb8-8ef1-8d0c03871eb7",
   "metadata": {},
   "source": [
    "## history_length=110"
   ]
  },
  {
   "cell_type": "code",
   "execution_count": 62,
   "id": "10a396a5-9e8e-48f7-9c9a-bba774fa1695",
   "metadata": {},
   "outputs": [],
   "source": [
    "size = 110"
   ]
  },
  {
   "cell_type": "code",
   "execution_count": 63,
   "id": "913b9bd9-56ef-48dc-bc0a-649c9f37edd6",
   "metadata": {},
   "outputs": [
    {
     "data": {
      "application/vnd.jupyter.widget-view+json": {
       "model_id": "e05f768bb08a4d50b60d50633195cd1f",
       "version_major": 2,
       "version_minor": 0
      },
      "text/plain": [
       "  0%|          | 0/1 [00:00<?, ?it/s]"
      ]
     },
     "metadata": {},
     "output_type": "display_data"
    },
    {
     "name": "stdout",
     "output_type": "stream",
     "text": [
      "[INFO] Concatenating the embeddings to the dataframe...\n",
      "[INFO] - columns beginning with 'e' denote the full embddings.\n",
      "[INFO] Adding time feature columns into dataframe in `.df`.\n",
      "[INFO] Adding 'time_encoding' feature...\n",
      "[INFO] Adding 'time_diff' feature...\n",
      "[INFO] Adding 'timeline_index' feature...\n",
      "[INFO] Padding ids and storing in `.df_padded` and `.array_padded` attributes.\n"
     ]
    },
    {
     "data": {
      "application/vnd.jupyter.widget-view+json": {
       "model_id": "e81cfefb824c44edaf73fd1b2e9450a4",
       "version_major": 2,
       "version_minor": 0
      },
      "text/plain": [
       "  0%|          | 0/9699 [00:00<?, ?it/s]"
      ]
     },
     "metadata": {},
     "output_type": "display_data"
    },
    {
     "data": {
      "application/vnd.jupyter.widget-view+json": {
       "model_id": "0b152f55b1954daca6cd15b8d53b9807",
       "version_major": 2,
       "version_minor": 0
      },
      "text/plain": [
       "  0%|          | 0/3 [00:00<?, ?it/s]"
      ]
     },
     "metadata": {},
     "output_type": "display_data"
    },
    {
     "data": {
      "application/vnd.jupyter.widget-view+json": {
       "model_id": "cfce3149305045babdd6794382765df7",
       "version_major": 2,
       "version_minor": 0
      },
      "text/plain": [
       "  0%|          | 0/2 [00:00<?, ?it/s]"
      ]
     },
     "metadata": {},
     "output_type": "display_data"
    },
    {
     "data": {
      "application/vnd.jupyter.widget-view+json": {
       "model_id": "be70324a50a148baa9aa6431266f86c4",
       "version_major": 2,
       "version_minor": 0
      },
      "text/plain": [
       "  0%|          | 0/3 [00:00<?, ?it/s]"
      ]
     },
     "metadata": {},
     "output_type": "display_data"
    },
    {
     "data": {
      "application/vnd.jupyter.widget-view+json": {
       "model_id": "5b7e2f965b4346fdac4ffd3c998ba879",
       "version_major": 2,
       "version_minor": 0
      },
      "text/plain": [
       "  0%|          | 0/3 [00:00<?, ?it/s]"
      ]
     },
     "metadata": {},
     "output_type": "display_data"
    },
    {
     "data": {
      "application/vnd.jupyter.widget-view+json": {
       "model_id": "fd3d177eb5694073a21c785800091fba",
       "version_major": 2,
       "version_minor": 0
      },
      "text/plain": [
       "  0%|          | 0/2 [00:00<?, ?it/s]"
      ]
     },
     "metadata": {},
     "output_type": "display_data"
    },
    {
     "data": {
      "application/vnd.jupyter.widget-view+json": {
       "model_id": "4172685467484f8f9ca9f69db7b4ad0c",
       "version_major": 2,
       "version_minor": 0
      },
      "text/plain": [
       "  0%|          | 0/3 [00:00<?, ?it/s]"
      ]
     },
     "metadata": {},
     "output_type": "display_data"
    },
    {
     "data": {
      "application/vnd.jupyter.widget-view+json": {
       "model_id": "aacb6a00d3e64b539a0a003760a747b9",
       "version_major": 2,
       "version_minor": 0
      },
      "text/plain": [
       "  0%|          | 0/3 [00:00<?, ?it/s]"
      ]
     },
     "metadata": {},
     "output_type": "display_data"
    },
    {
     "data": {
      "application/vnd.jupyter.widget-view+json": {
       "model_id": "8e8767f3727644b3b530c5e81f330aee",
       "version_major": 2,
       "version_minor": 0
      },
      "text/plain": [
       "  0%|          | 0/2 [00:00<?, ?it/s]"
      ]
     },
     "metadata": {},
     "output_type": "display_data"
    },
    {
     "data": {
      "application/vnd.jupyter.widget-view+json": {
       "model_id": "a7133668edc347f6a4b38324b3852d7c",
       "version_major": 2,
       "version_minor": 0
      },
      "text/plain": [
       "  0%|          | 0/3 [00:00<?, ?it/s]"
      ]
     },
     "metadata": {},
     "output_type": "display_data"
    },
    {
     "data": {
      "application/vnd.jupyter.widget-view+json": {
       "model_id": "779e33bab8dc495faa2a946a317f3397",
       "version_major": 2,
       "version_minor": 0
      },
      "text/plain": [
       "  0%|          | 0/3 [00:00<?, ?it/s]"
      ]
     },
     "metadata": {},
     "output_type": "display_data"
    },
    {
     "name": "stdout",
     "output_type": "stream",
     "text": [
      "saving results dataframe to CSV for this hyperparameter search in client_talk_type_output/lstm_history_110_focal_2_kfold.csv\n",
      "saving the best model results dataframe to CSV for this hyperparameter search in client_talk_type_output/lstm_history_110_focal_2_kfold_best_model.csv\n"
     ]
    }
   ],
   "source": [
    "(\n",
    "    bilstm_history_110_kfold,\n",
    "    best_bilstm_history_110_kfold,\n",
    "    _,\n",
    "    __,\n",
    ") = lstm_hyperparameter_search(\n",
    "    history_lengths=[size],\n",
    "    results_output=f\"{output_dir}/lstm_history_{size}_focal_{gamma}_kfold.csv\",\n",
    "    **kwargs,\n",
    ")"
   ]
  },
  {
   "cell_type": "code",
   "execution_count": 64,
   "id": "6cdd178f-ab2e-4d89-88e9-c73af9d613a6",
   "metadata": {},
   "outputs": [
    {
     "name": "stderr",
     "output_type": "stream",
     "text": [
      "/tmp/ipykernel_3407032/44427206.py:1: FutureWarning: The default value of numeric_only in DataFrameGroupBy.mean is deprecated. In a future version, numeric_only will default to False. Either specify numeric_only or select only columns which should be valid for the function.\n",
      "  bilstm_history_110_kfold.groupby([\"hidden_dim\", \"dropout_rate\", \"learning_rate\"]).mean()\n"
     ]
    },
    {
     "data": {
      "text/html": [
       "<div>\n",
       "<style scoped>\n",
       "    .dataframe tbody tr th:only-of-type {\n",
       "        vertical-align: middle;\n",
       "    }\n",
       "\n",
       "    .dataframe tbody tr th {\n",
       "        vertical-align: top;\n",
       "    }\n",
       "\n",
       "    .dataframe thead th {\n",
       "        text-align: right;\n",
       "    }\n",
       "</style>\n",
       "<table border=\"1\" class=\"dataframe\">\n",
       "  <thead>\n",
       "    <tr style=\"text-align: right;\">\n",
       "      <th></th>\n",
       "      <th></th>\n",
       "      <th></th>\n",
       "      <th>accuracy</th>\n",
       "      <th>f1</th>\n",
       "      <th>precision</th>\n",
       "      <th>recall</th>\n",
       "      <th>valid_accuracy</th>\n",
       "      <th>valid_f1</th>\n",
       "      <th>valid_precision</th>\n",
       "      <th>valid_recall</th>\n",
       "      <th>k</th>\n",
       "      <th>num_layers</th>\n",
       "      <th>bidirectional</th>\n",
       "      <th>seed</th>\n",
       "      <th>gamma</th>\n",
       "      <th>k_fold</th>\n",
       "      <th>n_splits</th>\n",
       "      <th>batch_size</th>\n",
       "      <th>model_id</th>\n",
       "    </tr>\n",
       "    <tr>\n",
       "      <th>hidden_dim</th>\n",
       "      <th>dropout_rate</th>\n",
       "      <th>learning_rate</th>\n",
       "      <th></th>\n",
       "      <th></th>\n",
       "      <th></th>\n",
       "      <th></th>\n",
       "      <th></th>\n",
       "      <th></th>\n",
       "      <th></th>\n",
       "      <th></th>\n",
       "      <th></th>\n",
       "      <th></th>\n",
       "      <th></th>\n",
       "      <th></th>\n",
       "      <th></th>\n",
       "      <th></th>\n",
       "      <th></th>\n",
       "      <th></th>\n",
       "      <th></th>\n",
       "    </tr>\n",
       "  </thead>\n",
       "  <tbody>\n",
       "    <tr>\n",
       "      <th rowspan=\"6\" valign=\"top\">200</th>\n",
       "      <th rowspan=\"3\" valign=\"top\">0.1</th>\n",
       "      <th>0.0001</th>\n",
       "      <td>0.639527</td>\n",
       "      <td>0.504573</td>\n",
       "      <td>0.503890</td>\n",
       "      <td>0.505913</td>\n",
       "      <td>0.706969</td>\n",
       "      <td>0.614750</td>\n",
       "      <td>0.608730</td>\n",
       "      <td>0.624734</td>\n",
       "      <td>110.0</td>\n",
       "      <td>1.0</td>\n",
       "      <td>1.0</td>\n",
       "      <td>45.333333</td>\n",
       "      <td>2.0</td>\n",
       "      <td>1.0</td>\n",
       "      <td>5.0</td>\n",
       "      <td>64.0</td>\n",
       "      <td>1.0</td>\n",
       "    </tr>\n",
       "    <tr>\n",
       "      <th>0.0005</th>\n",
       "      <td>0.644828</td>\n",
       "      <td>0.523575</td>\n",
       "      <td>0.516469</td>\n",
       "      <td>0.534660</td>\n",
       "      <td>0.714355</td>\n",
       "      <td>0.628064</td>\n",
       "      <td>0.617569</td>\n",
       "      <td>0.644999</td>\n",
       "      <td>110.0</td>\n",
       "      <td>1.0</td>\n",
       "      <td>1.0</td>\n",
       "      <td>45.333333</td>\n",
       "      <td>2.0</td>\n",
       "      <td>1.0</td>\n",
       "      <td>5.0</td>\n",
       "      <td>64.0</td>\n",
       "      <td>2.0</td>\n",
       "    </tr>\n",
       "    <tr>\n",
       "      <th>0.0010</th>\n",
       "      <td>0.639591</td>\n",
       "      <td>0.521153</td>\n",
       "      <td>0.513820</td>\n",
       "      <td>0.533705</td>\n",
       "      <td>0.716442</td>\n",
       "      <td>0.628107</td>\n",
       "      <td>0.618759</td>\n",
       "      <td>0.641657</td>\n",
       "      <td>110.0</td>\n",
       "      <td>1.0</td>\n",
       "      <td>1.0</td>\n",
       "      <td>45.333333</td>\n",
       "      <td>2.0</td>\n",
       "      <td>1.0</td>\n",
       "      <td>5.0</td>\n",
       "      <td>64.0</td>\n",
       "      <td>0.0</td>\n",
       "    </tr>\n",
       "    <tr>\n",
       "      <th rowspan=\"3\" valign=\"top\">0.2</th>\n",
       "      <th>0.0001</th>\n",
       "      <td>0.640358</td>\n",
       "      <td>0.506326</td>\n",
       "      <td>0.504700</td>\n",
       "      <td>0.508787</td>\n",
       "      <td>0.706166</td>\n",
       "      <td>0.614747</td>\n",
       "      <td>0.608298</td>\n",
       "      <td>0.625635</td>\n",
       "      <td>110.0</td>\n",
       "      <td>1.0</td>\n",
       "      <td>1.0</td>\n",
       "      <td>45.333333</td>\n",
       "      <td>2.0</td>\n",
       "      <td>1.0</td>\n",
       "      <td>5.0</td>\n",
       "      <td>64.0</td>\n",
       "      <td>4.0</td>\n",
       "    </tr>\n",
       "    <tr>\n",
       "      <th>0.0005</th>\n",
       "      <td>0.643167</td>\n",
       "      <td>0.524389</td>\n",
       "      <td>0.516718</td>\n",
       "      <td>0.537347</td>\n",
       "      <td>0.712214</td>\n",
       "      <td>0.626349</td>\n",
       "      <td>0.615002</td>\n",
       "      <td>0.644966</td>\n",
       "      <td>110.0</td>\n",
       "      <td>1.0</td>\n",
       "      <td>1.0</td>\n",
       "      <td>45.333333</td>\n",
       "      <td>2.0</td>\n",
       "      <td>1.0</td>\n",
       "      <td>5.0</td>\n",
       "      <td>64.0</td>\n",
       "      <td>5.0</td>\n",
       "    </tr>\n",
       "    <tr>\n",
       "      <th>0.0010</th>\n",
       "      <td>0.648787</td>\n",
       "      <td>0.525656</td>\n",
       "      <td>0.520571</td>\n",
       "      <td>0.534001</td>\n",
       "      <td>0.722008</td>\n",
       "      <td>0.630155</td>\n",
       "      <td>0.623518</td>\n",
       "      <td>0.639415</td>\n",
       "      <td>110.0</td>\n",
       "      <td>1.0</td>\n",
       "      <td>1.0</td>\n",
       "      <td>45.333333</td>\n",
       "      <td>2.0</td>\n",
       "      <td>1.0</td>\n",
       "      <td>5.0</td>\n",
       "      <td>64.0</td>\n",
       "      <td>3.0</td>\n",
       "    </tr>\n",
       "    <tr>\n",
       "      <th rowspan=\"6\" valign=\"top\">300</th>\n",
       "      <th rowspan=\"3\" valign=\"top\">0.1</th>\n",
       "      <th>0.0001</th>\n",
       "      <td>0.628416</td>\n",
       "      <td>0.499976</td>\n",
       "      <td>0.495022</td>\n",
       "      <td>0.507195</td>\n",
       "      <td>0.701937</td>\n",
       "      <td>0.614302</td>\n",
       "      <td>0.604295</td>\n",
       "      <td>0.630552</td>\n",
       "      <td>110.0</td>\n",
       "      <td>1.0</td>\n",
       "      <td>1.0</td>\n",
       "      <td>45.333333</td>\n",
       "      <td>2.0</td>\n",
       "      <td>1.0</td>\n",
       "      <td>5.0</td>\n",
       "      <td>64.0</td>\n",
       "      <td>7.0</td>\n",
       "    </tr>\n",
       "    <tr>\n",
       "      <th>0.0005</th>\n",
       "      <td>0.637676</td>\n",
       "      <td>0.517376</td>\n",
       "      <td>0.511956</td>\n",
       "      <td>0.528478</td>\n",
       "      <td>0.716228</td>\n",
       "      <td>0.628222</td>\n",
       "      <td>0.618468</td>\n",
       "      <td>0.642221</td>\n",
       "      <td>110.0</td>\n",
       "      <td>1.0</td>\n",
       "      <td>1.0</td>\n",
       "      <td>45.333333</td>\n",
       "      <td>2.0</td>\n",
       "      <td>1.0</td>\n",
       "      <td>5.0</td>\n",
       "      <td>64.0</td>\n",
       "      <td>8.0</td>\n",
       "    </tr>\n",
       "    <tr>\n",
       "      <th>0.0010</th>\n",
       "      <td>0.636718</td>\n",
       "      <td>0.519812</td>\n",
       "      <td>0.511526</td>\n",
       "      <td>0.534093</td>\n",
       "      <td>0.710822</td>\n",
       "      <td>0.621957</td>\n",
       "      <td>0.612125</td>\n",
       "      <td>0.635398</td>\n",
       "      <td>110.0</td>\n",
       "      <td>1.0</td>\n",
       "      <td>1.0</td>\n",
       "      <td>45.333333</td>\n",
       "      <td>2.0</td>\n",
       "      <td>1.0</td>\n",
       "      <td>5.0</td>\n",
       "      <td>64.0</td>\n",
       "      <td>6.0</td>\n",
       "    </tr>\n",
       "    <tr>\n",
       "      <th rowspan=\"3\" valign=\"top\">0.2</th>\n",
       "      <th>0.0001</th>\n",
       "      <td>0.634355</td>\n",
       "      <td>0.504146</td>\n",
       "      <td>0.501033</td>\n",
       "      <td>0.509318</td>\n",
       "      <td>0.704453</td>\n",
       "      <td>0.614193</td>\n",
       "      <td>0.605690</td>\n",
       "      <td>0.627543</td>\n",
       "      <td>110.0</td>\n",
       "      <td>1.0</td>\n",
       "      <td>1.0</td>\n",
       "      <td>45.333333</td>\n",
       "      <td>2.0</td>\n",
       "      <td>1.0</td>\n",
       "      <td>5.0</td>\n",
       "      <td>64.0</td>\n",
       "      <td>10.0</td>\n",
       "    </tr>\n",
       "    <tr>\n",
       "      <th>0.0005</th>\n",
       "      <td>0.635441</td>\n",
       "      <td>0.517309</td>\n",
       "      <td>0.509548</td>\n",
       "      <td>0.530631</td>\n",
       "      <td>0.712963</td>\n",
       "      <td>0.626762</td>\n",
       "      <td>0.615929</td>\n",
       "      <td>0.645193</td>\n",
       "      <td>110.0</td>\n",
       "      <td>1.0</td>\n",
       "      <td>1.0</td>\n",
       "      <td>45.333333</td>\n",
       "      <td>2.0</td>\n",
       "      <td>1.0</td>\n",
       "      <td>5.0</td>\n",
       "      <td>64.0</td>\n",
       "      <td>11.0</td>\n",
       "    </tr>\n",
       "    <tr>\n",
       "      <th>0.0010</th>\n",
       "      <td>0.645466</td>\n",
       "      <td>0.523115</td>\n",
       "      <td>0.517474</td>\n",
       "      <td>0.531461</td>\n",
       "      <td>0.714943</td>\n",
       "      <td>0.625680</td>\n",
       "      <td>0.617264</td>\n",
       "      <td>0.636816</td>\n",
       "      <td>110.0</td>\n",
       "      <td>1.0</td>\n",
       "      <td>1.0</td>\n",
       "      <td>45.333333</td>\n",
       "      <td>2.0</td>\n",
       "      <td>1.0</td>\n",
       "      <td>5.0</td>\n",
       "      <td>64.0</td>\n",
       "      <td>9.0</td>\n",
       "    </tr>\n",
       "    <tr>\n",
       "      <th rowspan=\"6\" valign=\"top\">384</th>\n",
       "      <th rowspan=\"3\" valign=\"top\">0.1</th>\n",
       "      <th>0.0001</th>\n",
       "      <td>0.644508</td>\n",
       "      <td>0.510684</td>\n",
       "      <td>0.508823</td>\n",
       "      <td>0.513999</td>\n",
       "      <td>0.706273</td>\n",
       "      <td>0.615035</td>\n",
       "      <td>0.607750</td>\n",
       "      <td>0.624673</td>\n",
       "      <td>110.0</td>\n",
       "      <td>1.0</td>\n",
       "      <td>1.0</td>\n",
       "      <td>45.333333</td>\n",
       "      <td>2.0</td>\n",
       "      <td>1.0</td>\n",
       "      <td>5.0</td>\n",
       "      <td>64.0</td>\n",
       "      <td>13.0</td>\n",
       "    </tr>\n",
       "    <tr>\n",
       "      <th>0.0005</th>\n",
       "      <td>0.646616</td>\n",
       "      <td>0.525977</td>\n",
       "      <td>0.519497</td>\n",
       "      <td>0.535767</td>\n",
       "      <td>0.714783</td>\n",
       "      <td>0.626320</td>\n",
       "      <td>0.617420</td>\n",
       "      <td>0.639307</td>\n",
       "      <td>110.0</td>\n",
       "      <td>1.0</td>\n",
       "      <td>1.0</td>\n",
       "      <td>45.333333</td>\n",
       "      <td>2.0</td>\n",
       "      <td>1.0</td>\n",
       "      <td>5.0</td>\n",
       "      <td>64.0</td>\n",
       "      <td>14.0</td>\n",
       "    </tr>\n",
       "    <tr>\n",
       "      <th>0.0010</th>\n",
       "      <td>0.645658</td>\n",
       "      <td>0.528133</td>\n",
       "      <td>0.521665</td>\n",
       "      <td>0.544569</td>\n",
       "      <td>0.711732</td>\n",
       "      <td>0.621671</td>\n",
       "      <td>0.613386</td>\n",
       "      <td>0.636852</td>\n",
       "      <td>110.0</td>\n",
       "      <td>1.0</td>\n",
       "      <td>1.0</td>\n",
       "      <td>45.333333</td>\n",
       "      <td>2.0</td>\n",
       "      <td>1.0</td>\n",
       "      <td>5.0</td>\n",
       "      <td>64.0</td>\n",
       "      <td>12.0</td>\n",
       "    </tr>\n",
       "    <tr>\n",
       "      <th rowspan=\"3\" valign=\"top\">0.2</th>\n",
       "      <th>0.0001</th>\n",
       "      <td>0.640741</td>\n",
       "      <td>0.507691</td>\n",
       "      <td>0.504829</td>\n",
       "      <td>0.511504</td>\n",
       "      <td>0.704453</td>\n",
       "      <td>0.613448</td>\n",
       "      <td>0.605303</td>\n",
       "      <td>0.625604</td>\n",
       "      <td>110.0</td>\n",
       "      <td>1.0</td>\n",
       "      <td>1.0</td>\n",
       "      <td>45.333333</td>\n",
       "      <td>2.0</td>\n",
       "      <td>1.0</td>\n",
       "      <td>5.0</td>\n",
       "      <td>64.0</td>\n",
       "      <td>16.0</td>\n",
       "    </tr>\n",
       "    <tr>\n",
       "      <th>0.0005</th>\n",
       "      <td>0.648787</td>\n",
       "      <td>0.521850</td>\n",
       "      <td>0.517352</td>\n",
       "      <td>0.528465</td>\n",
       "      <td>0.721955</td>\n",
       "      <td>0.630890</td>\n",
       "      <td>0.624245</td>\n",
       "      <td>0.639660</td>\n",
       "      <td>110.0</td>\n",
       "      <td>1.0</td>\n",
       "      <td>1.0</td>\n",
       "      <td>45.333333</td>\n",
       "      <td>2.0</td>\n",
       "      <td>1.0</td>\n",
       "      <td>5.0</td>\n",
       "      <td>64.0</td>\n",
       "      <td>17.0</td>\n",
       "    </tr>\n",
       "    <tr>\n",
       "      <th>0.0010</th>\n",
       "      <td>0.637995</td>\n",
       "      <td>0.520256</td>\n",
       "      <td>0.513561</td>\n",
       "      <td>0.532807</td>\n",
       "      <td>0.710822</td>\n",
       "      <td>0.620847</td>\n",
       "      <td>0.612904</td>\n",
       "      <td>0.633323</td>\n",
       "      <td>110.0</td>\n",
       "      <td>1.0</td>\n",
       "      <td>1.0</td>\n",
       "      <td>45.333333</td>\n",
       "      <td>2.0</td>\n",
       "      <td>1.0</td>\n",
       "      <td>5.0</td>\n",
       "      <td>64.0</td>\n",
       "      <td>15.0</td>\n",
       "    </tr>\n",
       "  </tbody>\n",
       "</table>\n",
       "</div>"
      ],
      "text/plain": [
       "                                       accuracy        f1  precision  \\\n",
       "hidden_dim dropout_rate learning_rate                                  \n",
       "200        0.1          0.0001         0.639527  0.504573   0.503890   \n",
       "                        0.0005         0.644828  0.523575   0.516469   \n",
       "                        0.0010         0.639591  0.521153   0.513820   \n",
       "           0.2          0.0001         0.640358  0.506326   0.504700   \n",
       "                        0.0005         0.643167  0.524389   0.516718   \n",
       "                        0.0010         0.648787  0.525656   0.520571   \n",
       "300        0.1          0.0001         0.628416  0.499976   0.495022   \n",
       "                        0.0005         0.637676  0.517376   0.511956   \n",
       "                        0.0010         0.636718  0.519812   0.511526   \n",
       "           0.2          0.0001         0.634355  0.504146   0.501033   \n",
       "                        0.0005         0.635441  0.517309   0.509548   \n",
       "                        0.0010         0.645466  0.523115   0.517474   \n",
       "384        0.1          0.0001         0.644508  0.510684   0.508823   \n",
       "                        0.0005         0.646616  0.525977   0.519497   \n",
       "                        0.0010         0.645658  0.528133   0.521665   \n",
       "           0.2          0.0001         0.640741  0.507691   0.504829   \n",
       "                        0.0005         0.648787  0.521850   0.517352   \n",
       "                        0.0010         0.637995  0.520256   0.513561   \n",
       "\n",
       "                                         recall  valid_accuracy  valid_f1  \\\n",
       "hidden_dim dropout_rate learning_rate                                       \n",
       "200        0.1          0.0001         0.505913        0.706969  0.614750   \n",
       "                        0.0005         0.534660        0.714355  0.628064   \n",
       "                        0.0010         0.533705        0.716442  0.628107   \n",
       "           0.2          0.0001         0.508787        0.706166  0.614747   \n",
       "                        0.0005         0.537347        0.712214  0.626349   \n",
       "                        0.0010         0.534001        0.722008  0.630155   \n",
       "300        0.1          0.0001         0.507195        0.701937  0.614302   \n",
       "                        0.0005         0.528478        0.716228  0.628222   \n",
       "                        0.0010         0.534093        0.710822  0.621957   \n",
       "           0.2          0.0001         0.509318        0.704453  0.614193   \n",
       "                        0.0005         0.530631        0.712963  0.626762   \n",
       "                        0.0010         0.531461        0.714943  0.625680   \n",
       "384        0.1          0.0001         0.513999        0.706273  0.615035   \n",
       "                        0.0005         0.535767        0.714783  0.626320   \n",
       "                        0.0010         0.544569        0.711732  0.621671   \n",
       "           0.2          0.0001         0.511504        0.704453  0.613448   \n",
       "                        0.0005         0.528465        0.721955  0.630890   \n",
       "                        0.0010         0.532807        0.710822  0.620847   \n",
       "\n",
       "                                       valid_precision  valid_recall      k  \\\n",
       "hidden_dim dropout_rate learning_rate                                         \n",
       "200        0.1          0.0001                0.608730      0.624734  110.0   \n",
       "                        0.0005                0.617569      0.644999  110.0   \n",
       "                        0.0010                0.618759      0.641657  110.0   \n",
       "           0.2          0.0001                0.608298      0.625635  110.0   \n",
       "                        0.0005                0.615002      0.644966  110.0   \n",
       "                        0.0010                0.623518      0.639415  110.0   \n",
       "300        0.1          0.0001                0.604295      0.630552  110.0   \n",
       "                        0.0005                0.618468      0.642221  110.0   \n",
       "                        0.0010                0.612125      0.635398  110.0   \n",
       "           0.2          0.0001                0.605690      0.627543  110.0   \n",
       "                        0.0005                0.615929      0.645193  110.0   \n",
       "                        0.0010                0.617264      0.636816  110.0   \n",
       "384        0.1          0.0001                0.607750      0.624673  110.0   \n",
       "                        0.0005                0.617420      0.639307  110.0   \n",
       "                        0.0010                0.613386      0.636852  110.0   \n",
       "           0.2          0.0001                0.605303      0.625604  110.0   \n",
       "                        0.0005                0.624245      0.639660  110.0   \n",
       "                        0.0010                0.612904      0.633323  110.0   \n",
       "\n",
       "                                       num_layers  bidirectional       seed  \\\n",
       "hidden_dim dropout_rate learning_rate                                         \n",
       "200        0.1          0.0001                1.0            1.0  45.333333   \n",
       "                        0.0005                1.0            1.0  45.333333   \n",
       "                        0.0010                1.0            1.0  45.333333   \n",
       "           0.2          0.0001                1.0            1.0  45.333333   \n",
       "                        0.0005                1.0            1.0  45.333333   \n",
       "                        0.0010                1.0            1.0  45.333333   \n",
       "300        0.1          0.0001                1.0            1.0  45.333333   \n",
       "                        0.0005                1.0            1.0  45.333333   \n",
       "                        0.0010                1.0            1.0  45.333333   \n",
       "           0.2          0.0001                1.0            1.0  45.333333   \n",
       "                        0.0005                1.0            1.0  45.333333   \n",
       "                        0.0010                1.0            1.0  45.333333   \n",
       "384        0.1          0.0001                1.0            1.0  45.333333   \n",
       "                        0.0005                1.0            1.0  45.333333   \n",
       "                        0.0010                1.0            1.0  45.333333   \n",
       "           0.2          0.0001                1.0            1.0  45.333333   \n",
       "                        0.0005                1.0            1.0  45.333333   \n",
       "                        0.0010                1.0            1.0  45.333333   \n",
       "\n",
       "                                       gamma  k_fold  n_splits  batch_size  \\\n",
       "hidden_dim dropout_rate learning_rate                                        \n",
       "200        0.1          0.0001           2.0     1.0       5.0        64.0   \n",
       "                        0.0005           2.0     1.0       5.0        64.0   \n",
       "                        0.0010           2.0     1.0       5.0        64.0   \n",
       "           0.2          0.0001           2.0     1.0       5.0        64.0   \n",
       "                        0.0005           2.0     1.0       5.0        64.0   \n",
       "                        0.0010           2.0     1.0       5.0        64.0   \n",
       "300        0.1          0.0001           2.0     1.0       5.0        64.0   \n",
       "                        0.0005           2.0     1.0       5.0        64.0   \n",
       "                        0.0010           2.0     1.0       5.0        64.0   \n",
       "           0.2          0.0001           2.0     1.0       5.0        64.0   \n",
       "                        0.0005           2.0     1.0       5.0        64.0   \n",
       "                        0.0010           2.0     1.0       5.0        64.0   \n",
       "384        0.1          0.0001           2.0     1.0       5.0        64.0   \n",
       "                        0.0005           2.0     1.0       5.0        64.0   \n",
       "                        0.0010           2.0     1.0       5.0        64.0   \n",
       "           0.2          0.0001           2.0     1.0       5.0        64.0   \n",
       "                        0.0005           2.0     1.0       5.0        64.0   \n",
       "                        0.0010           2.0     1.0       5.0        64.0   \n",
       "\n",
       "                                       model_id  \n",
       "hidden_dim dropout_rate learning_rate            \n",
       "200        0.1          0.0001              1.0  \n",
       "                        0.0005              2.0  \n",
       "                        0.0010              0.0  \n",
       "           0.2          0.0001              4.0  \n",
       "                        0.0005              5.0  \n",
       "                        0.0010              3.0  \n",
       "300        0.1          0.0001              7.0  \n",
       "                        0.0005              8.0  \n",
       "                        0.0010              6.0  \n",
       "           0.2          0.0001             10.0  \n",
       "                        0.0005             11.0  \n",
       "                        0.0010              9.0  \n",
       "384        0.1          0.0001             13.0  \n",
       "                        0.0005             14.0  \n",
       "                        0.0010             12.0  \n",
       "           0.2          0.0001             16.0  \n",
       "                        0.0005             17.0  \n",
       "                        0.0010             15.0  "
      ]
     },
     "execution_count": 64,
     "metadata": {},
     "output_type": "execute_result"
    }
   ],
   "source": [
    "bilstm_history_110_kfold.groupby([\"hidden_dim\", \"dropout_rate\", \"learning_rate\"]).mean()"
   ]
  },
  {
   "cell_type": "code",
   "execution_count": 65,
   "id": "5c69ac00-a12d-4e97-b034-d7dcbc06865d",
   "metadata": {},
   "outputs": [
    {
     "data": {
      "text/html": [
       "<div>\n",
       "<style scoped>\n",
       "    .dataframe tbody tr th:only-of-type {\n",
       "        vertical-align: middle;\n",
       "    }\n",
       "\n",
       "    .dataframe tbody tr th {\n",
       "        vertical-align: top;\n",
       "    }\n",
       "\n",
       "    .dataframe thead th {\n",
       "        text-align: right;\n",
       "    }\n",
       "</style>\n",
       "<table border=\"1\" class=\"dataframe\">\n",
       "  <thead>\n",
       "    <tr style=\"text-align: right;\">\n",
       "      <th></th>\n",
       "      <th>loss</th>\n",
       "      <th>accuracy</th>\n",
       "      <th>f1</th>\n",
       "      <th>f1_scores</th>\n",
       "      <th>precision</th>\n",
       "      <th>precision_scores</th>\n",
       "      <th>recall</th>\n",
       "      <th>recall_scores</th>\n",
       "      <th>valid_loss</th>\n",
       "      <th>valid_accuracy</th>\n",
       "      <th>...</th>\n",
       "      <th>bidirectional</th>\n",
       "      <th>hidden_dim</th>\n",
       "      <th>dropout_rate</th>\n",
       "      <th>learning_rate</th>\n",
       "      <th>seed</th>\n",
       "      <th>loss_function</th>\n",
       "      <th>gamma</th>\n",
       "      <th>k_fold</th>\n",
       "      <th>n_splits</th>\n",
       "      <th>batch_size</th>\n",
       "    </tr>\n",
       "  </thead>\n",
       "  <tbody>\n",
       "    <tr>\n",
       "      <th>0</th>\n",
       "      <td>None</td>\n",
       "      <td>0.653640</td>\n",
       "      <td>0.522396</td>\n",
       "      <td>[0.7735682819383258, 0.47458952306489444, 0.31...</td>\n",
       "      <td>0.521451</td>\n",
       "      <td>[0.785799522673031, 0.4509658246656761, 0.3275...</td>\n",
       "      <td>0.524482</td>\n",
       "      <td>[0.761711972238288, 0.5008250825082509, 0.3109...</td>\n",
       "      <td>None</td>\n",
       "      <td>0.729448</td>\n",
       "      <td>...</td>\n",
       "      <td>True</td>\n",
       "      <td>384</td>\n",
       "      <td>0.2</td>\n",
       "      <td>0.0005</td>\n",
       "      <td>1</td>\n",
       "      <td>focal</td>\n",
       "      <td>2</td>\n",
       "      <td>True</td>\n",
       "      <td>5</td>\n",
       "      <td>64</td>\n",
       "    </tr>\n",
       "    <tr>\n",
       "      <th>0</th>\n",
       "      <td>None</td>\n",
       "      <td>0.650958</td>\n",
       "      <td>0.525885</td>\n",
       "      <td>[0.7750036933077263, 0.4638628011433238, 0.338...</td>\n",
       "      <td>0.519806</td>\n",
       "      <td>[0.7922077922077922, 0.45917542441390463, 0.30...</td>\n",
       "      <td>0.534514</td>\n",
       "      <td>[0.758530942741469, 0.46864686468646866, 0.376...</td>\n",
       "      <td>None</td>\n",
       "      <td>0.717405</td>\n",
       "      <td>...</td>\n",
       "      <td>True</td>\n",
       "      <td>384</td>\n",
       "      <td>0.2</td>\n",
       "      <td>0.0005</td>\n",
       "      <td>12</td>\n",
       "      <td>focal</td>\n",
       "      <td>2</td>\n",
       "      <td>True</td>\n",
       "      <td>5</td>\n",
       "      <td>64</td>\n",
       "    </tr>\n",
       "    <tr>\n",
       "      <th>0</th>\n",
       "      <td>None</td>\n",
       "      <td>0.641762</td>\n",
       "      <td>0.517269</td>\n",
       "      <td>[0.7667807709480577, 0.45994420087684335, 0.32...</td>\n",
       "      <td>0.510799</td>\n",
       "      <td>[0.7899417356639068, 0.4448727833461835, 0.297...</td>\n",
       "      <td>0.526398</td>\n",
       "      <td>[0.7449392712550608, 0.4760726072607261, 0.358...</td>\n",
       "      <td>None</td>\n",
       "      <td>0.719011</td>\n",
       "      <td>...</td>\n",
       "      <td>True</td>\n",
       "      <td>384</td>\n",
       "      <td>0.2</td>\n",
       "      <td>0.0005</td>\n",
       "      <td>123</td>\n",
       "      <td>focal</td>\n",
       "      <td>2</td>\n",
       "      <td>True</td>\n",
       "      <td>5</td>\n",
       "      <td>64</td>\n",
       "    </tr>\n",
       "  </tbody>\n",
       "</table>\n",
       "<p>3 rows × 27 columns</p>\n",
       "</div>"
      ],
      "text/plain": [
       "   loss  accuracy        f1  \\\n",
       "0  None  0.653640  0.522396   \n",
       "0  None  0.650958  0.525885   \n",
       "0  None  0.641762  0.517269   \n",
       "\n",
       "                                           f1_scores  precision  \\\n",
       "0  [0.7735682819383258, 0.47458952306489444, 0.31...   0.521451   \n",
       "0  [0.7750036933077263, 0.4638628011433238, 0.338...   0.519806   \n",
       "0  [0.7667807709480577, 0.45994420087684335, 0.32...   0.510799   \n",
       "\n",
       "                                    precision_scores    recall  \\\n",
       "0  [0.785799522673031, 0.4509658246656761, 0.3275...  0.524482   \n",
       "0  [0.7922077922077922, 0.45917542441390463, 0.30...  0.534514   \n",
       "0  [0.7899417356639068, 0.4448727833461835, 0.297...  0.526398   \n",
       "\n",
       "                                       recall_scores valid_loss  \\\n",
       "0  [0.761711972238288, 0.5008250825082509, 0.3109...       None   \n",
       "0  [0.758530942741469, 0.46864686468646866, 0.376...       None   \n",
       "0  [0.7449392712550608, 0.4760726072607261, 0.358...       None   \n",
       "\n",
       "   valid_accuracy  ...  bidirectional hidden_dim  dropout_rate learning_rate  \\\n",
       "0        0.729448  ...           True        384           0.2        0.0005   \n",
       "0        0.717405  ...           True        384           0.2        0.0005   \n",
       "0        0.719011  ...           True        384           0.2        0.0005   \n",
       "\n",
       "   seed loss_function  gamma  k_fold  n_splits  batch_size  \n",
       "0     1         focal      2    True         5          64  \n",
       "0    12         focal      2    True         5          64  \n",
       "0   123         focal      2    True         5          64  \n",
       "\n",
       "[3 rows x 27 columns]"
      ]
     },
     "execution_count": 65,
     "metadata": {},
     "output_type": "execute_result"
    }
   ],
   "source": [
    "best_bilstm_history_110_kfold"
   ]
  },
  {
   "cell_type": "code",
   "execution_count": 66,
   "id": "30f75adb-0d7c-400d-a45b-e00808bf770d",
   "metadata": {},
   "outputs": [
    {
     "data": {
      "text/plain": [
       "0.5218500556644478"
      ]
     },
     "execution_count": 66,
     "metadata": {},
     "output_type": "execute_result"
    }
   ],
   "source": [
    "best_bilstm_history_110_kfold[\"f1\"].mean()"
   ]
  },
  {
   "cell_type": "code",
   "execution_count": 67,
   "id": "0207bd76-6823-49b8-938f-63514cf695d5",
   "metadata": {},
   "outputs": [
    {
     "data": {
      "text/plain": [
       "0.5173520095248619"
      ]
     },
     "execution_count": 67,
     "metadata": {},
     "output_type": "execute_result"
    }
   ],
   "source": [
    "best_bilstm_history_110_kfold[\"precision\"].mean()"
   ]
  },
  {
   "cell_type": "code",
   "execution_count": 68,
   "id": "1ac50c2b-c9cc-4ed8-9eef-4891c34b6fae",
   "metadata": {},
   "outputs": [
    {
     "data": {
      "text/plain": [
       "0.5284645873494233"
      ]
     },
     "execution_count": 68,
     "metadata": {},
     "output_type": "execute_result"
    }
   ],
   "source": [
    "best_bilstm_history_110_kfold[\"recall\"].mean()"
   ]
  },
  {
   "cell_type": "code",
   "execution_count": 69,
   "id": "c3028a78-515c-47f3-8329-5284182e7048",
   "metadata": {
    "scrolled": true
   },
   "outputs": [
    {
     "data": {
      "text/plain": [
       "array([0.77178425, 0.46613218, 0.32763374])"
      ]
     },
     "execution_count": 69,
     "metadata": {},
     "output_type": "execute_result"
    }
   ],
   "source": [
    "np.stack(best_bilstm_history_110_kfold[\"f1_scores\"]).mean(axis=0)"
   ]
  },
  {
   "cell_type": "code",
   "execution_count": 70,
   "id": "87aed13d-6e26-49b8-8d47-8cb0d642a2a5",
   "metadata": {},
   "outputs": [
    {
     "data": {
      "text/plain": [
       "array([0.78931635, 0.45167134, 0.31106833])"
      ]
     },
     "execution_count": 70,
     "metadata": {},
     "output_type": "execute_result"
    }
   ],
   "source": [
    "np.stack(best_bilstm_history_110_kfold[\"precision_scores\"]).mean(axis=0)"
   ]
  },
  {
   "cell_type": "code",
   "execution_count": 71,
   "id": "93eca57f-58ab-457a-aa7d-947b4e79b651",
   "metadata": {},
   "outputs": [
    {
     "data": {
      "text/plain": [
       "array([0.75506073, 0.48184818, 0.34848485])"
      ]
     },
     "execution_count": 71,
     "metadata": {},
     "output_type": "execute_result"
    }
   ],
   "source": [
    "np.stack(best_bilstm_history_110_kfold[\"recall_scores\"]).mean(axis=0)"
   ]
  }
 ],
 "metadata": {
  "kernelspec": {
   "display_name": "nlpsig-networks (Conda)",
   "language": "python",
   "name": "sys_nlpsig-networks"
  },
  "language_info": {
   "codemirror_mode": {
    "name": "ipython",
    "version": 3
   },
   "file_extension": ".py",
   "mimetype": "text/x-python",
   "name": "python",
   "nbconvert_exporter": "python",
   "pygments_lexer": "ipython3",
   "version": "3.8.17"
  }
 },
 "nbformat": 4,
 "nbformat_minor": 5
}
