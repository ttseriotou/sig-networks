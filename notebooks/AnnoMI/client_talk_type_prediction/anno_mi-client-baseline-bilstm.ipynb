{
 "cells": [
  {
   "cell_type": "code",
   "execution_count": 1,
   "id": "a983a5e8",
   "metadata": {},
   "outputs": [],
   "source": [
    "import numpy as np\n",
    "import pickle\n",
    "import os\n",
    "\n",
    "seed = 2023"
   ]
  },
  {
   "cell_type": "code",
   "execution_count": 2,
   "id": "e4e666cc",
   "metadata": {},
   "outputs": [],
   "source": [
    "from nlpsig_networks.scripts.lstm_baseline_functions import (\n",
    "    lstm_hyperparameter_search,\n",
    "    obtain_path,\n",
    ")"
   ]
  },
  {
   "cell_type": "code",
   "execution_count": 3,
   "id": "6e918dde",
   "metadata": {},
   "outputs": [],
   "source": [
    "output_dir = \"client_talk_type_output\"\n",
    "if not os.path.isdir(output_dir):\n",
    "    os.makedirs(output_dir)"
   ]
  },
  {
   "cell_type": "markdown",
   "id": "f7409a03",
   "metadata": {},
   "source": [
    "## AnnoMI"
   ]
  },
  {
   "cell_type": "code",
   "execution_count": 4,
   "id": "f00bb922",
   "metadata": {},
   "outputs": [],
   "source": [
    "%run ../load_anno_mi.py"
   ]
  },
  {
   "cell_type": "code",
   "execution_count": 5,
   "id": "720d820f",
   "metadata": {},
   "outputs": [
    {
     "data": {
      "text/html": [
       "<div>\n",
       "<style scoped>\n",
       "    .dataframe tbody tr th:only-of-type {\n",
       "        vertical-align: middle;\n",
       "    }\n",
       "\n",
       "    .dataframe tbody tr th {\n",
       "        vertical-align: top;\n",
       "    }\n",
       "\n",
       "    .dataframe thead th {\n",
       "        text-align: right;\n",
       "    }\n",
       "</style>\n",
       "<table border=\"1\" class=\"dataframe\">\n",
       "  <thead>\n",
       "    <tr style=\"text-align: right;\">\n",
       "      <th></th>\n",
       "      <th>mi_quality</th>\n",
       "      <th>transcript_id</th>\n",
       "      <th>topic</th>\n",
       "      <th>utterance_id</th>\n",
       "      <th>interlocutor</th>\n",
       "      <th>timestamp</th>\n",
       "      <th>utterance_text</th>\n",
       "      <th>annotator_id</th>\n",
       "      <th>therapist_input_exists</th>\n",
       "      <th>therapist_input_subtype</th>\n",
       "      <th>reflection_exists</th>\n",
       "      <th>reflection_subtype</th>\n",
       "      <th>question_exists</th>\n",
       "      <th>question_subtype</th>\n",
       "      <th>main_therapist_behaviour</th>\n",
       "      <th>client_talk_type</th>\n",
       "      <th>datetime</th>\n",
       "    </tr>\n",
       "  </thead>\n",
       "  <tbody>\n",
       "    <tr>\n",
       "      <th>0</th>\n",
       "      <td>high</td>\n",
       "      <td>0</td>\n",
       "      <td>reducing alcohol consumption</td>\n",
       "      <td>0</td>\n",
       "      <td>therapist</td>\n",
       "      <td>00:00:13</td>\n",
       "      <td>Thanks for filling it out. We give this form t...</td>\n",
       "      <td>3</td>\n",
       "      <td>False</td>\n",
       "      <td>NaN</td>\n",
       "      <td>False</td>\n",
       "      <td>NaN</td>\n",
       "      <td>True</td>\n",
       "      <td>open</td>\n",
       "      <td>question</td>\n",
       "      <td>NaN</td>\n",
       "      <td>2023-08-22 00:00:13</td>\n",
       "    </tr>\n",
       "    <tr>\n",
       "      <th>1</th>\n",
       "      <td>high</td>\n",
       "      <td>0</td>\n",
       "      <td>reducing alcohol consumption</td>\n",
       "      <td>1</td>\n",
       "      <td>client</td>\n",
       "      <td>00:00:24</td>\n",
       "      <td>Sure.</td>\n",
       "      <td>3</td>\n",
       "      <td>NaN</td>\n",
       "      <td>NaN</td>\n",
       "      <td>NaN</td>\n",
       "      <td>NaN</td>\n",
       "      <td>NaN</td>\n",
       "      <td>NaN</td>\n",
       "      <td>NaN</td>\n",
       "      <td>neutral</td>\n",
       "      <td>2023-08-22 00:00:24</td>\n",
       "    </tr>\n",
       "    <tr>\n",
       "      <th>2</th>\n",
       "      <td>high</td>\n",
       "      <td>0</td>\n",
       "      <td>reducing alcohol consumption</td>\n",
       "      <td>2</td>\n",
       "      <td>therapist</td>\n",
       "      <td>00:00:25</td>\n",
       "      <td>So, let's see. It looks that you put-- You dri...</td>\n",
       "      <td>3</td>\n",
       "      <td>True</td>\n",
       "      <td>information</td>\n",
       "      <td>False</td>\n",
       "      <td>NaN</td>\n",
       "      <td>False</td>\n",
       "      <td>NaN</td>\n",
       "      <td>therapist_input</td>\n",
       "      <td>NaN</td>\n",
       "      <td>2023-08-22 00:00:25</td>\n",
       "    </tr>\n",
       "    <tr>\n",
       "      <th>3</th>\n",
       "      <td>high</td>\n",
       "      <td>0</td>\n",
       "      <td>reducing alcohol consumption</td>\n",
       "      <td>3</td>\n",
       "      <td>client</td>\n",
       "      <td>00:00:34</td>\n",
       "      <td>Mm-hmm.</td>\n",
       "      <td>3</td>\n",
       "      <td>NaN</td>\n",
       "      <td>NaN</td>\n",
       "      <td>NaN</td>\n",
       "      <td>NaN</td>\n",
       "      <td>NaN</td>\n",
       "      <td>NaN</td>\n",
       "      <td>NaN</td>\n",
       "      <td>neutral</td>\n",
       "      <td>2023-08-22 00:00:34</td>\n",
       "    </tr>\n",
       "    <tr>\n",
       "      <th>4</th>\n",
       "      <td>high</td>\n",
       "      <td>0</td>\n",
       "      <td>reducing alcohol consumption</td>\n",
       "      <td>4</td>\n",
       "      <td>therapist</td>\n",
       "      <td>00:00:34</td>\n",
       "      <td>-and you usually have three to four drinks whe...</td>\n",
       "      <td>3</td>\n",
       "      <td>True</td>\n",
       "      <td>information</td>\n",
       "      <td>False</td>\n",
       "      <td>NaN</td>\n",
       "      <td>False</td>\n",
       "      <td>NaN</td>\n",
       "      <td>therapist_input</td>\n",
       "      <td>NaN</td>\n",
       "      <td>2023-08-22 00:00:34</td>\n",
       "    </tr>\n",
       "  </tbody>\n",
       "</table>\n",
       "</div>"
      ],
      "text/plain": [
       "  mi_quality  transcript_id                         topic  utterance_id  \\\n",
       "0       high              0  reducing alcohol consumption             0   \n",
       "1       high              0  reducing alcohol consumption             1   \n",
       "2       high              0  reducing alcohol consumption             2   \n",
       "3       high              0  reducing alcohol consumption             3   \n",
       "4       high              0  reducing alcohol consumption             4   \n",
       "\n",
       "  interlocutor timestamp                                     utterance_text  \\\n",
       "0    therapist  00:00:13  Thanks for filling it out. We give this form t...   \n",
       "1       client  00:00:24                                              Sure.   \n",
       "2    therapist  00:00:25  So, let's see. It looks that you put-- You dri...   \n",
       "3       client  00:00:34                                            Mm-hmm.   \n",
       "4    therapist  00:00:34  -and you usually have three to four drinks whe...   \n",
       "\n",
       "   annotator_id therapist_input_exists therapist_input_subtype  \\\n",
       "0             3                  False                     NaN   \n",
       "1             3                    NaN                     NaN   \n",
       "2             3                   True             information   \n",
       "3             3                    NaN                     NaN   \n",
       "4             3                   True             information   \n",
       "\n",
       "  reflection_exists reflection_subtype question_exists question_subtype  \\\n",
       "0             False                NaN            True             open   \n",
       "1               NaN                NaN             NaN              NaN   \n",
       "2             False                NaN           False              NaN   \n",
       "3               NaN                NaN             NaN              NaN   \n",
       "4             False                NaN           False              NaN   \n",
       "\n",
       "  main_therapist_behaviour client_talk_type            datetime  \n",
       "0                 question              NaN 2023-08-22 00:00:13  \n",
       "1                      NaN          neutral 2023-08-22 00:00:24  \n",
       "2          therapist_input              NaN 2023-08-22 00:00:25  \n",
       "3                      NaN          neutral 2023-08-22 00:00:34  \n",
       "4          therapist_input              NaN 2023-08-22 00:00:34  "
      ]
     },
     "execution_count": 5,
     "metadata": {},
     "output_type": "execute_result"
    }
   ],
   "source": [
    "anno_mi.head()"
   ]
  },
  {
   "cell_type": "code",
   "execution_count": 6,
   "id": "84d5594d",
   "metadata": {},
   "outputs": [
    {
     "data": {
      "text/plain": [
       "(9699, 384)"
      ]
     },
     "execution_count": 6,
     "metadata": {},
     "output_type": "execute_result"
    }
   ],
   "source": [
    "with open(\"../anno_mi_sbert.pkl\", \"rb\") as f:\n",
    "    sbert_embeddings = pickle.load(f)\n",
    "\n",
    "sbert_embeddings.shape"
   ]
  },
  {
   "cell_type": "markdown",
   "id": "3a710eb3",
   "metadata": {},
   "source": [
    "# Baseline: LSTM classification"
   ]
  },
  {
   "cell_type": "code",
   "execution_count": 7,
   "id": "38d81c7c",
   "metadata": {},
   "outputs": [],
   "source": [
    "num_epochs = 100\n",
    "hidden_dim_sizes = [100, 200, 300, 384]\n",
    "num_layers = 1\n",
    "bidirectional = True\n",
    "dropout_rates = [0.5, 0.1]\n",
    "learning_rates = [1e-3, 1e-4, 5e-4]\n",
    "seeds = [1, 12, 123]\n",
    "loss = \"focal\"\n",
    "gamma = 2\n",
    "validation_metric = \"f1\""
   ]
  },
  {
   "cell_type": "markdown",
   "id": "3ed43d57",
   "metadata": {},
   "source": [
    "## `history_length=20`"
   ]
  },
  {
   "cell_type": "code",
   "execution_count": 8,
   "id": "b1fed6b4",
   "metadata": {},
   "outputs": [
    {
     "data": {
      "application/vnd.jupyter.widget-view+json": {
       "model_id": "771b5b9ee69b402da2f68710d1cc6a22",
       "version_major": 2,
       "version_minor": 0
      },
      "text/plain": [
       "  0%|          | 0/1 [00:00<?, ?it/s]"
      ]
     },
     "metadata": {},
     "output_type": "display_data"
    },
    {
     "name": "stdout",
     "output_type": "stream",
     "text": [
      "[INFO] Concatenating the embeddings to the dataframe...\n",
      "[INFO] - columns beginning with 'e' denote the full embddings.\n",
      "[INFO] Adding time feature columns into dataframe in `.df`.\n",
      "[INFO] Adding 'time_encoding' feature...\n",
      "[INFO] Adding 'time_diff' feature...\n",
      "[INFO] Adding 'timeline_index' feature...\n",
      "[INFO] Padding ids and storing in `.df_padded` and `.array_padded` attributes.\n"
     ]
    },
    {
     "data": {
      "application/vnd.jupyter.widget-view+json": {
       "model_id": "ac581e434c284ad9b107be914e66a0af",
       "version_major": 2,
       "version_minor": 0
      },
      "text/plain": [
       "  0%|          | 0/9699 [00:00<?, ?it/s]"
      ]
     },
     "metadata": {},
     "output_type": "display_data"
    },
    {
     "data": {
      "application/vnd.jupyter.widget-view+json": {
       "model_id": "2ec29498f1c144a3a282702ac04f09f9",
       "version_major": 2,
       "version_minor": 0
      },
      "text/plain": [
       "  0%|          | 0/4 [00:00<?, ?it/s]"
      ]
     },
     "metadata": {},
     "output_type": "display_data"
    },
    {
     "data": {
      "application/vnd.jupyter.widget-view+json": {
       "model_id": "c55883f5333b4c91818e6268d83d9514",
       "version_major": 2,
       "version_minor": 0
      },
      "text/plain": [
       "  0%|          | 0/2 [00:00<?, ?it/s]"
      ]
     },
     "metadata": {},
     "output_type": "display_data"
    },
    {
     "data": {
      "application/vnd.jupyter.widget-view+json": {
       "model_id": "6f87e89d93e448d191de1bea2b202221",
       "version_major": 2,
       "version_minor": 0
      },
      "text/plain": [
       "  0%|          | 0/3 [00:00<?, ?it/s]"
      ]
     },
     "metadata": {},
     "output_type": "display_data"
    },
    {
     "data": {
      "application/vnd.jupyter.widget-view+json": {
       "model_id": "c27a0989a42d4f90911a6eda8e4fc6d2",
       "version_major": 2,
       "version_minor": 0
      },
      "text/plain": [
       "  0%|          | 0/3 [00:00<?, ?it/s]"
      ]
     },
     "metadata": {},
     "output_type": "display_data"
    },
    {
     "data": {
      "application/vnd.jupyter.widget-view+json": {
       "model_id": "ee5dee2ceb2641e38660ba053161cf32",
       "version_major": 2,
       "version_minor": 0
      },
      "text/plain": [
       "  0%|          | 0/2 [00:00<?, ?it/s]"
      ]
     },
     "metadata": {},
     "output_type": "display_data"
    },
    {
     "data": {
      "application/vnd.jupyter.widget-view+json": {
       "model_id": "b99358347e41453a9e0d84adf35d9bcf",
       "version_major": 2,
       "version_minor": 0
      },
      "text/plain": [
       "  0%|          | 0/3 [00:00<?, ?it/s]"
      ]
     },
     "metadata": {},
     "output_type": "display_data"
    },
    {
     "data": {
      "application/vnd.jupyter.widget-view+json": {
       "model_id": "f8218eb136b047b4a9f5f042696e8546",
       "version_major": 2,
       "version_minor": 0
      },
      "text/plain": [
       "  0%|          | 0/3 [00:00<?, ?it/s]"
      ]
     },
     "metadata": {},
     "output_type": "display_data"
    },
    {
     "data": {
      "application/vnd.jupyter.widget-view+json": {
       "model_id": "33c3bd64322a44aca8ef18476523e310",
       "version_major": 2,
       "version_minor": 0
      },
      "text/plain": [
       "  0%|          | 0/2 [00:00<?, ?it/s]"
      ]
     },
     "metadata": {},
     "output_type": "display_data"
    },
    {
     "data": {
      "application/vnd.jupyter.widget-view+json": {
       "model_id": "498db874c0d6479d96b3f9873510103d",
       "version_major": 2,
       "version_minor": 0
      },
      "text/plain": [
       "  0%|          | 0/3 [00:00<?, ?it/s]"
      ]
     },
     "metadata": {},
     "output_type": "display_data"
    },
    {
     "data": {
      "application/vnd.jupyter.widget-view+json": {
       "model_id": "58673333ac624b15860b7fbbded32867",
       "version_major": 2,
       "version_minor": 0
      },
      "text/plain": [
       "  0%|          | 0/3 [00:00<?, ?it/s]"
      ]
     },
     "metadata": {},
     "output_type": "display_data"
    },
    {
     "data": {
      "application/vnd.jupyter.widget-view+json": {
       "model_id": "a200eb74cfbb47549a2e4bb0acb35714",
       "version_major": 2,
       "version_minor": 0
      },
      "text/plain": [
       "  0%|          | 0/2 [00:00<?, ?it/s]"
      ]
     },
     "metadata": {},
     "output_type": "display_data"
    },
    {
     "data": {
      "application/vnd.jupyter.widget-view+json": {
       "model_id": "9570ce4fbdb34161975a1898b4519513",
       "version_major": 2,
       "version_minor": 0
      },
      "text/plain": [
       "  0%|          | 0/3 [00:00<?, ?it/s]"
      ]
     },
     "metadata": {},
     "output_type": "display_data"
    },
    {
     "data": {
      "application/vnd.jupyter.widget-view+json": {
       "model_id": "70877271d24c4c88aa2a00a83487bbb1",
       "version_major": 2,
       "version_minor": 0
      },
      "text/plain": [
       "  0%|          | 0/3 [00:00<?, ?it/s]"
      ]
     },
     "metadata": {},
     "output_type": "display_data"
    },
    {
     "name": "stdout",
     "output_type": "stream",
     "text": [
      "saving results dataframe to CSV for this hyperparameter search in client_talk_type_output/lstm_history_20_focal_2_kfold.csv\n",
      "saving the best model results dataframe to CSV for this hyperparameter search in client_talk_type_output/lstm_history_20_focal_2_kfold_best_model.csv\n"
     ]
    }
   ],
   "source": [
    "size = 20\n",
    "(\n",
    "    bilstm_history_20_kfold,\n",
    "    best_bilstm_history_20_kfold,\n",
    "    _,\n",
    "    __,\n",
    ") = lstm_hyperparameter_search(\n",
    "    num_epochs=num_epochs,\n",
    "    df=anno_mi,\n",
    "    id_column=\"transcript_id\",\n",
    "    label_column=\"client_talk_type\",\n",
    "    embeddings=sbert_embeddings,\n",
    "    y_data=y_data_client,\n",
    "    output_dim=output_dim_client,\n",
    "    history_lengths=[size],\n",
    "    hidden_dim_sizes=hidden_dim_sizes,\n",
    "    num_layers=num_layers,\n",
    "    bidirectional=bidirectional,\n",
    "    dropout_rates=dropout_rates,\n",
    "    learning_rates=learning_rates,\n",
    "    seeds=seeds,\n",
    "    loss=loss,\n",
    "    gamma=gamma,\n",
    "    path_indices=client_index,\n",
    "    split_ids=client_transcript_id,\n",
    "    k_fold=True,\n",
    "    validation_metric=validation_metric,\n",
    "    results_output=f\"{output_dir}/lstm_history_{size}_focal_{gamma}_kfold.csv\",\n",
    "    verbose=False,\n",
    ")"
   ]
  },
  {
   "cell_type": "code",
   "execution_count": 9,
   "id": "9ffb417f",
   "metadata": {},
   "outputs": [
    {
     "name": "stderr",
     "output_type": "stream",
     "text": [
      "/tmp/ipykernel_4145866/3632055421.py:1: FutureWarning: The default value of numeric_only in DataFrameGroupBy.mean is deprecated. In a future version, numeric_only will default to False. Either specify numeric_only or select only columns which should be valid for the function.\n",
      "  bilstm_history_20_kfold.groupby([\"hidden_dim\", \"dropout_rate\", \"learning_rate\"]).mean()\n"
     ]
    },
    {
     "data": {
      "text/html": [
       "<div>\n",
       "<style scoped>\n",
       "    .dataframe tbody tr th:only-of-type {\n",
       "        vertical-align: middle;\n",
       "    }\n",
       "\n",
       "    .dataframe tbody tr th {\n",
       "        vertical-align: top;\n",
       "    }\n",
       "\n",
       "    .dataframe thead th {\n",
       "        text-align: right;\n",
       "    }\n",
       "</style>\n",
       "<table border=\"1\" class=\"dataframe\">\n",
       "  <thead>\n",
       "    <tr style=\"text-align: right;\">\n",
       "      <th></th>\n",
       "      <th></th>\n",
       "      <th></th>\n",
       "      <th>accuracy</th>\n",
       "      <th>f1</th>\n",
       "      <th>precision</th>\n",
       "      <th>recall</th>\n",
       "      <th>valid_accuracy</th>\n",
       "      <th>valid_f1</th>\n",
       "      <th>valid_precision</th>\n",
       "      <th>valid_recall</th>\n",
       "      <th>k</th>\n",
       "      <th>num_layers</th>\n",
       "      <th>bidirectional</th>\n",
       "      <th>seed</th>\n",
       "      <th>gamma</th>\n",
       "      <th>k_fold</th>\n",
       "      <th>n_splits</th>\n",
       "      <th>batch_size</th>\n",
       "      <th>model_id</th>\n",
       "    </tr>\n",
       "    <tr>\n",
       "      <th>hidden_dim</th>\n",
       "      <th>dropout_rate</th>\n",
       "      <th>learning_rate</th>\n",
       "      <th></th>\n",
       "      <th></th>\n",
       "      <th></th>\n",
       "      <th></th>\n",
       "      <th></th>\n",
       "      <th></th>\n",
       "      <th></th>\n",
       "      <th></th>\n",
       "      <th></th>\n",
       "      <th></th>\n",
       "      <th></th>\n",
       "      <th></th>\n",
       "      <th></th>\n",
       "      <th></th>\n",
       "      <th></th>\n",
       "      <th></th>\n",
       "      <th></th>\n",
       "    </tr>\n",
       "  </thead>\n",
       "  <tbody>\n",
       "    <tr>\n",
       "      <th rowspan=\"6\" valign=\"top\">100</th>\n",
       "      <th rowspan=\"3\" valign=\"top\">0.1</th>\n",
       "      <th>0.0001</th>\n",
       "      <td>0.623499</td>\n",
       "      <td>0.498372</td>\n",
       "      <td>0.492719</td>\n",
       "      <td>0.507305</td>\n",
       "      <td>0.690484</td>\n",
       "      <td>0.597729</td>\n",
       "      <td>0.590598</td>\n",
       "      <td>0.608157</td>\n",
       "      <td>20.0</td>\n",
       "      <td>1.0</td>\n",
       "      <td>1.0</td>\n",
       "      <td>45.333333</td>\n",
       "      <td>2.0</td>\n",
       "      <td>1.0</td>\n",
       "      <td>5.0</td>\n",
       "      <td>64.0</td>\n",
       "      <td>4.0</td>\n",
       "    </tr>\n",
       "    <tr>\n",
       "      <th>0.0005</th>\n",
       "      <td>0.624074</td>\n",
       "      <td>0.510865</td>\n",
       "      <td>0.502274</td>\n",
       "      <td>0.525589</td>\n",
       "      <td>0.697977</td>\n",
       "      <td>0.612504</td>\n",
       "      <td>0.601428</td>\n",
       "      <td>0.629671</td>\n",
       "      <td>20.0</td>\n",
       "      <td>1.0</td>\n",
       "      <td>1.0</td>\n",
       "      <td>45.333333</td>\n",
       "      <td>2.0</td>\n",
       "      <td>1.0</td>\n",
       "      <td>5.0</td>\n",
       "      <td>64.0</td>\n",
       "      <td>5.0</td>\n",
       "    </tr>\n",
       "    <tr>\n",
       "      <th>0.0010</th>\n",
       "      <td>0.632120</td>\n",
       "      <td>0.520844</td>\n",
       "      <td>0.512226</td>\n",
       "      <td>0.536112</td>\n",
       "      <td>0.705095</td>\n",
       "      <td>0.617691</td>\n",
       "      <td>0.608909</td>\n",
       "      <td>0.630678</td>\n",
       "      <td>20.0</td>\n",
       "      <td>1.0</td>\n",
       "      <td>1.0</td>\n",
       "      <td>45.333333</td>\n",
       "      <td>2.0</td>\n",
       "      <td>1.0</td>\n",
       "      <td>5.0</td>\n",
       "      <td>64.0</td>\n",
       "      <td>3.0</td>\n",
       "    </tr>\n",
       "    <tr>\n",
       "      <th rowspan=\"3\" valign=\"top\">0.5</th>\n",
       "      <th>0.0001</th>\n",
       "      <td>0.625990</td>\n",
       "      <td>0.500738</td>\n",
       "      <td>0.495681</td>\n",
       "      <td>0.510106</td>\n",
       "      <td>0.690537</td>\n",
       "      <td>0.598539</td>\n",
       "      <td>0.591833</td>\n",
       "      <td>0.609659</td>\n",
       "      <td>20.0</td>\n",
       "      <td>1.0</td>\n",
       "      <td>1.0</td>\n",
       "      <td>45.333333</td>\n",
       "      <td>2.0</td>\n",
       "      <td>1.0</td>\n",
       "      <td>5.0</td>\n",
       "      <td>64.0</td>\n",
       "      <td>1.0</td>\n",
       "    </tr>\n",
       "    <tr>\n",
       "      <th>0.0005</th>\n",
       "      <td>0.630651</td>\n",
       "      <td>0.510996</td>\n",
       "      <td>0.504654</td>\n",
       "      <td>0.521998</td>\n",
       "      <td>0.697923</td>\n",
       "      <td>0.609338</td>\n",
       "      <td>0.600683</td>\n",
       "      <td>0.622852</td>\n",
       "      <td>20.0</td>\n",
       "      <td>1.0</td>\n",
       "      <td>1.0</td>\n",
       "      <td>45.333333</td>\n",
       "      <td>2.0</td>\n",
       "      <td>1.0</td>\n",
       "      <td>5.0</td>\n",
       "      <td>64.0</td>\n",
       "      <td>2.0</td>\n",
       "    </tr>\n",
       "    <tr>\n",
       "      <th>0.0010</th>\n",
       "      <td>0.628608</td>\n",
       "      <td>0.511775</td>\n",
       "      <td>0.504322</td>\n",
       "      <td>0.524911</td>\n",
       "      <td>0.705738</td>\n",
       "      <td>0.617899</td>\n",
       "      <td>0.609360</td>\n",
       "      <td>0.631657</td>\n",
       "      <td>20.0</td>\n",
       "      <td>1.0</td>\n",
       "      <td>1.0</td>\n",
       "      <td>45.333333</td>\n",
       "      <td>2.0</td>\n",
       "      <td>1.0</td>\n",
       "      <td>5.0</td>\n",
       "      <td>64.0</td>\n",
       "      <td>0.0</td>\n",
       "    </tr>\n",
       "    <tr>\n",
       "      <th rowspan=\"6\" valign=\"top\">200</th>\n",
       "      <th rowspan=\"3\" valign=\"top\">0.1</th>\n",
       "      <th>0.0001</th>\n",
       "      <td>0.619029</td>\n",
       "      <td>0.497316</td>\n",
       "      <td>0.490970</td>\n",
       "      <td>0.510467</td>\n",
       "      <td>0.683954</td>\n",
       "      <td>0.596391</td>\n",
       "      <td>0.586357</td>\n",
       "      <td>0.613731</td>\n",
       "      <td>20.0</td>\n",
       "      <td>1.0</td>\n",
       "      <td>1.0</td>\n",
       "      <td>45.333333</td>\n",
       "      <td>2.0</td>\n",
       "      <td>1.0</td>\n",
       "      <td>5.0</td>\n",
       "      <td>64.0</td>\n",
       "      <td>10.0</td>\n",
       "    </tr>\n",
       "    <tr>\n",
       "      <th>0.0005</th>\n",
       "      <td>0.633269</td>\n",
       "      <td>0.513856</td>\n",
       "      <td>0.508516</td>\n",
       "      <td>0.521770</td>\n",
       "      <td>0.703061</td>\n",
       "      <td>0.609532</td>\n",
       "      <td>0.604679</td>\n",
       "      <td>0.616152</td>\n",
       "      <td>20.0</td>\n",
       "      <td>1.0</td>\n",
       "      <td>1.0</td>\n",
       "      <td>45.333333</td>\n",
       "      <td>2.0</td>\n",
       "      <td>1.0</td>\n",
       "      <td>5.0</td>\n",
       "      <td>64.0</td>\n",
       "      <td>11.0</td>\n",
       "    </tr>\n",
       "    <tr>\n",
       "      <th>0.0010</th>\n",
       "      <td>0.634227</td>\n",
       "      <td>0.518882</td>\n",
       "      <td>0.511307</td>\n",
       "      <td>0.533320</td>\n",
       "      <td>0.699261</td>\n",
       "      <td>0.609502</td>\n",
       "      <td>0.601913</td>\n",
       "      <td>0.621359</td>\n",
       "      <td>20.0</td>\n",
       "      <td>1.0</td>\n",
       "      <td>1.0</td>\n",
       "      <td>45.333333</td>\n",
       "      <td>2.0</td>\n",
       "      <td>1.0</td>\n",
       "      <td>5.0</td>\n",
       "      <td>64.0</td>\n",
       "      <td>9.0</td>\n",
       "    </tr>\n",
       "    <tr>\n",
       "      <th rowspan=\"3\" valign=\"top\">0.5</th>\n",
       "      <th>0.0001</th>\n",
       "      <td>0.621967</td>\n",
       "      <td>0.496306</td>\n",
       "      <td>0.491251</td>\n",
       "      <td>0.507546</td>\n",
       "      <td>0.684168</td>\n",
       "      <td>0.594199</td>\n",
       "      <td>0.585669</td>\n",
       "      <td>0.609403</td>\n",
       "      <td>20.0</td>\n",
       "      <td>1.0</td>\n",
       "      <td>1.0</td>\n",
       "      <td>45.333333</td>\n",
       "      <td>2.0</td>\n",
       "      <td>1.0</td>\n",
       "      <td>5.0</td>\n",
       "      <td>64.0</td>\n",
       "      <td>7.0</td>\n",
       "    </tr>\n",
       "    <tr>\n",
       "      <th>0.0005</th>\n",
       "      <td>0.634163</td>\n",
       "      <td>0.508090</td>\n",
       "      <td>0.504510</td>\n",
       "      <td>0.513276</td>\n",
       "      <td>0.701616</td>\n",
       "      <td>0.605546</td>\n",
       "      <td>0.601120</td>\n",
       "      <td>0.611176</td>\n",
       "      <td>20.0</td>\n",
       "      <td>1.0</td>\n",
       "      <td>1.0</td>\n",
       "      <td>45.333333</td>\n",
       "      <td>2.0</td>\n",
       "      <td>1.0</td>\n",
       "      <td>5.0</td>\n",
       "      <td>64.0</td>\n",
       "      <td>8.0</td>\n",
       "    </tr>\n",
       "    <tr>\n",
       "      <th>0.0010</th>\n",
       "      <td>0.627395</td>\n",
       "      <td>0.512362</td>\n",
       "      <td>0.505527</td>\n",
       "      <td>0.525577</td>\n",
       "      <td>0.701295</td>\n",
       "      <td>0.610416</td>\n",
       "      <td>0.603907</td>\n",
       "      <td>0.621321</td>\n",
       "      <td>20.0</td>\n",
       "      <td>1.0</td>\n",
       "      <td>1.0</td>\n",
       "      <td>45.333333</td>\n",
       "      <td>2.0</td>\n",
       "      <td>1.0</td>\n",
       "      <td>5.0</td>\n",
       "      <td>64.0</td>\n",
       "      <td>6.0</td>\n",
       "    </tr>\n",
       "    <tr>\n",
       "      <th rowspan=\"6\" valign=\"top\">300</th>\n",
       "      <th rowspan=\"3\" valign=\"top\">0.1</th>\n",
       "      <th>0.0001</th>\n",
       "      <td>0.616731</td>\n",
       "      <td>0.485105</td>\n",
       "      <td>0.481334</td>\n",
       "      <td>0.492711</td>\n",
       "      <td>0.681760</td>\n",
       "      <td>0.586885</td>\n",
       "      <td>0.580250</td>\n",
       "      <td>0.598746</td>\n",
       "      <td>20.0</td>\n",
       "      <td>1.0</td>\n",
       "      <td>1.0</td>\n",
       "      <td>45.333333</td>\n",
       "      <td>2.0</td>\n",
       "      <td>1.0</td>\n",
       "      <td>5.0</td>\n",
       "      <td>64.0</td>\n",
       "      <td>16.0</td>\n",
       "    </tr>\n",
       "    <tr>\n",
       "      <th>0.0005</th>\n",
       "      <td>0.632950</td>\n",
       "      <td>0.511090</td>\n",
       "      <td>0.505064</td>\n",
       "      <td>0.522295</td>\n",
       "      <td>0.704025</td>\n",
       "      <td>0.612297</td>\n",
       "      <td>0.605861</td>\n",
       "      <td>0.622183</td>\n",
       "      <td>20.0</td>\n",
       "      <td>1.0</td>\n",
       "      <td>1.0</td>\n",
       "      <td>45.333333</td>\n",
       "      <td>2.0</td>\n",
       "      <td>1.0</td>\n",
       "      <td>5.0</td>\n",
       "      <td>64.0</td>\n",
       "      <td>17.0</td>\n",
       "    </tr>\n",
       "    <tr>\n",
       "      <th>0.0010</th>\n",
       "      <td>0.638250</td>\n",
       "      <td>0.519328</td>\n",
       "      <td>0.512058</td>\n",
       "      <td>0.530822</td>\n",
       "      <td>0.699368</td>\n",
       "      <td>0.604042</td>\n",
       "      <td>0.598358</td>\n",
       "      <td>0.612199</td>\n",
       "      <td>20.0</td>\n",
       "      <td>1.0</td>\n",
       "      <td>1.0</td>\n",
       "      <td>45.333333</td>\n",
       "      <td>2.0</td>\n",
       "      <td>1.0</td>\n",
       "      <td>5.0</td>\n",
       "      <td>64.0</td>\n",
       "      <td>15.0</td>\n",
       "    </tr>\n",
       "    <tr>\n",
       "      <th rowspan=\"3\" valign=\"top\">0.5</th>\n",
       "      <th>0.0001</th>\n",
       "      <td>0.611622</td>\n",
       "      <td>0.482630</td>\n",
       "      <td>0.478692</td>\n",
       "      <td>0.492761</td>\n",
       "      <td>0.678174</td>\n",
       "      <td>0.588629</td>\n",
       "      <td>0.580701</td>\n",
       "      <td>0.605283</td>\n",
       "      <td>20.0</td>\n",
       "      <td>1.0</td>\n",
       "      <td>1.0</td>\n",
       "      <td>45.333333</td>\n",
       "      <td>2.0</td>\n",
       "      <td>1.0</td>\n",
       "      <td>5.0</td>\n",
       "      <td>64.0</td>\n",
       "      <td>13.0</td>\n",
       "    </tr>\n",
       "    <tr>\n",
       "      <th>0.0005</th>\n",
       "      <td>0.635057</td>\n",
       "      <td>0.512306</td>\n",
       "      <td>0.508137</td>\n",
       "      <td>0.519012</td>\n",
       "      <td>0.702633</td>\n",
       "      <td>0.608073</td>\n",
       "      <td>0.603647</td>\n",
       "      <td>0.613553</td>\n",
       "      <td>20.0</td>\n",
       "      <td>1.0</td>\n",
       "      <td>1.0</td>\n",
       "      <td>45.333333</td>\n",
       "      <td>2.0</td>\n",
       "      <td>1.0</td>\n",
       "      <td>5.0</td>\n",
       "      <td>64.0</td>\n",
       "      <td>14.0</td>\n",
       "    </tr>\n",
       "    <tr>\n",
       "      <th>0.0010</th>\n",
       "      <td>0.625224</td>\n",
       "      <td>0.512010</td>\n",
       "      <td>0.503576</td>\n",
       "      <td>0.525952</td>\n",
       "      <td>0.698780</td>\n",
       "      <td>0.608479</td>\n",
       "      <td>0.599997</td>\n",
       "      <td>0.619705</td>\n",
       "      <td>20.0</td>\n",
       "      <td>1.0</td>\n",
       "      <td>1.0</td>\n",
       "      <td>45.333333</td>\n",
       "      <td>2.0</td>\n",
       "      <td>1.0</td>\n",
       "      <td>5.0</td>\n",
       "      <td>64.0</td>\n",
       "      <td>12.0</td>\n",
       "    </tr>\n",
       "    <tr>\n",
       "      <th rowspan=\"6\" valign=\"top\">384</th>\n",
       "      <th rowspan=\"3\" valign=\"top\">0.1</th>\n",
       "      <th>0.0001</th>\n",
       "      <td>0.622350</td>\n",
       "      <td>0.494146</td>\n",
       "      <td>0.489557</td>\n",
       "      <td>0.501649</td>\n",
       "      <td>0.684275</td>\n",
       "      <td>0.591472</td>\n",
       "      <td>0.583769</td>\n",
       "      <td>0.602931</td>\n",
       "      <td>20.0</td>\n",
       "      <td>1.0</td>\n",
       "      <td>1.0</td>\n",
       "      <td>45.333333</td>\n",
       "      <td>2.0</td>\n",
       "      <td>1.0</td>\n",
       "      <td>5.0</td>\n",
       "      <td>64.0</td>\n",
       "      <td>22.0</td>\n",
       "    </tr>\n",
       "    <tr>\n",
       "      <th>0.0005</th>\n",
       "      <td>0.633014</td>\n",
       "      <td>0.510762</td>\n",
       "      <td>0.504912</td>\n",
       "      <td>0.520136</td>\n",
       "      <td>0.702205</td>\n",
       "      <td>0.607753</td>\n",
       "      <td>0.602958</td>\n",
       "      <td>0.614350</td>\n",
       "      <td>20.0</td>\n",
       "      <td>1.0</td>\n",
       "      <td>1.0</td>\n",
       "      <td>45.333333</td>\n",
       "      <td>2.0</td>\n",
       "      <td>1.0</td>\n",
       "      <td>5.0</td>\n",
       "      <td>64.0</td>\n",
       "      <td>23.0</td>\n",
       "    </tr>\n",
       "    <tr>\n",
       "      <th>0.0010</th>\n",
       "      <td>0.646169</td>\n",
       "      <td>0.522023</td>\n",
       "      <td>0.517331</td>\n",
       "      <td>0.529121</td>\n",
       "      <td>0.700974</td>\n",
       "      <td>0.600732</td>\n",
       "      <td>0.599764</td>\n",
       "      <td>0.602581</td>\n",
       "      <td>20.0</td>\n",
       "      <td>1.0</td>\n",
       "      <td>1.0</td>\n",
       "      <td>45.333333</td>\n",
       "      <td>2.0</td>\n",
       "      <td>1.0</td>\n",
       "      <td>5.0</td>\n",
       "      <td>64.0</td>\n",
       "      <td>21.0</td>\n",
       "    </tr>\n",
       "    <tr>\n",
       "      <th rowspan=\"3\" valign=\"top\">0.5</th>\n",
       "      <th>0.0001</th>\n",
       "      <td>0.613985</td>\n",
       "      <td>0.484029</td>\n",
       "      <td>0.479557</td>\n",
       "      <td>0.491847</td>\n",
       "      <td>0.681064</td>\n",
       "      <td>0.591318</td>\n",
       "      <td>0.582470</td>\n",
       "      <td>0.605083</td>\n",
       "      <td>20.0</td>\n",
       "      <td>1.0</td>\n",
       "      <td>1.0</td>\n",
       "      <td>45.333333</td>\n",
       "      <td>2.0</td>\n",
       "      <td>1.0</td>\n",
       "      <td>5.0</td>\n",
       "      <td>64.0</td>\n",
       "      <td>19.0</td>\n",
       "    </tr>\n",
       "    <tr>\n",
       "      <th>0.0005</th>\n",
       "      <td>0.630204</td>\n",
       "      <td>0.504145</td>\n",
       "      <td>0.499901</td>\n",
       "      <td>0.511043</td>\n",
       "      <td>0.702526</td>\n",
       "      <td>0.609248</td>\n",
       "      <td>0.603864</td>\n",
       "      <td>0.616813</td>\n",
       "      <td>20.0</td>\n",
       "      <td>1.0</td>\n",
       "      <td>1.0</td>\n",
       "      <td>45.333333</td>\n",
       "      <td>2.0</td>\n",
       "      <td>1.0</td>\n",
       "      <td>5.0</td>\n",
       "      <td>64.0</td>\n",
       "      <td>20.0</td>\n",
       "    </tr>\n",
       "    <tr>\n",
       "      <th>0.0010</th>\n",
       "      <td>0.642848</td>\n",
       "      <td>0.515857</td>\n",
       "      <td>0.512571</td>\n",
       "      <td>0.519944</td>\n",
       "      <td>0.704935</td>\n",
       "      <td>0.605968</td>\n",
       "      <td>0.606117</td>\n",
       "      <td>0.606056</td>\n",
       "      <td>20.0</td>\n",
       "      <td>1.0</td>\n",
       "      <td>1.0</td>\n",
       "      <td>45.333333</td>\n",
       "      <td>2.0</td>\n",
       "      <td>1.0</td>\n",
       "      <td>5.0</td>\n",
       "      <td>64.0</td>\n",
       "      <td>18.0</td>\n",
       "    </tr>\n",
       "  </tbody>\n",
       "</table>\n",
       "</div>"
      ],
      "text/plain": [
       "                                       accuracy        f1  precision  \\\n",
       "hidden_dim dropout_rate learning_rate                                  \n",
       "100        0.1          0.0001         0.623499  0.498372   0.492719   \n",
       "                        0.0005         0.624074  0.510865   0.502274   \n",
       "                        0.0010         0.632120  0.520844   0.512226   \n",
       "           0.5          0.0001         0.625990  0.500738   0.495681   \n",
       "                        0.0005         0.630651  0.510996   0.504654   \n",
       "                        0.0010         0.628608  0.511775   0.504322   \n",
       "200        0.1          0.0001         0.619029  0.497316   0.490970   \n",
       "                        0.0005         0.633269  0.513856   0.508516   \n",
       "                        0.0010         0.634227  0.518882   0.511307   \n",
       "           0.5          0.0001         0.621967  0.496306   0.491251   \n",
       "                        0.0005         0.634163  0.508090   0.504510   \n",
       "                        0.0010         0.627395  0.512362   0.505527   \n",
       "300        0.1          0.0001         0.616731  0.485105   0.481334   \n",
       "                        0.0005         0.632950  0.511090   0.505064   \n",
       "                        0.0010         0.638250  0.519328   0.512058   \n",
       "           0.5          0.0001         0.611622  0.482630   0.478692   \n",
       "                        0.0005         0.635057  0.512306   0.508137   \n",
       "                        0.0010         0.625224  0.512010   0.503576   \n",
       "384        0.1          0.0001         0.622350  0.494146   0.489557   \n",
       "                        0.0005         0.633014  0.510762   0.504912   \n",
       "                        0.0010         0.646169  0.522023   0.517331   \n",
       "           0.5          0.0001         0.613985  0.484029   0.479557   \n",
       "                        0.0005         0.630204  0.504145   0.499901   \n",
       "                        0.0010         0.642848  0.515857   0.512571   \n",
       "\n",
       "                                         recall  valid_accuracy  valid_f1  \\\n",
       "hidden_dim dropout_rate learning_rate                                       \n",
       "100        0.1          0.0001         0.507305        0.690484  0.597729   \n",
       "                        0.0005         0.525589        0.697977  0.612504   \n",
       "                        0.0010         0.536112        0.705095  0.617691   \n",
       "           0.5          0.0001         0.510106        0.690537  0.598539   \n",
       "                        0.0005         0.521998        0.697923  0.609338   \n",
       "                        0.0010         0.524911        0.705738  0.617899   \n",
       "200        0.1          0.0001         0.510467        0.683954  0.596391   \n",
       "                        0.0005         0.521770        0.703061  0.609532   \n",
       "                        0.0010         0.533320        0.699261  0.609502   \n",
       "           0.5          0.0001         0.507546        0.684168  0.594199   \n",
       "                        0.0005         0.513276        0.701616  0.605546   \n",
       "                        0.0010         0.525577        0.701295  0.610416   \n",
       "300        0.1          0.0001         0.492711        0.681760  0.586885   \n",
       "                        0.0005         0.522295        0.704025  0.612297   \n",
       "                        0.0010         0.530822        0.699368  0.604042   \n",
       "           0.5          0.0001         0.492761        0.678174  0.588629   \n",
       "                        0.0005         0.519012        0.702633  0.608073   \n",
       "                        0.0010         0.525952        0.698780  0.608479   \n",
       "384        0.1          0.0001         0.501649        0.684275  0.591472   \n",
       "                        0.0005         0.520136        0.702205  0.607753   \n",
       "                        0.0010         0.529121        0.700974  0.600732   \n",
       "           0.5          0.0001         0.491847        0.681064  0.591318   \n",
       "                        0.0005         0.511043        0.702526  0.609248   \n",
       "                        0.0010         0.519944        0.704935  0.605968   \n",
       "\n",
       "                                       valid_precision  valid_recall     k  \\\n",
       "hidden_dim dropout_rate learning_rate                                        \n",
       "100        0.1          0.0001                0.590598      0.608157  20.0   \n",
       "                        0.0005                0.601428      0.629671  20.0   \n",
       "                        0.0010                0.608909      0.630678  20.0   \n",
       "           0.5          0.0001                0.591833      0.609659  20.0   \n",
       "                        0.0005                0.600683      0.622852  20.0   \n",
       "                        0.0010                0.609360      0.631657  20.0   \n",
       "200        0.1          0.0001                0.586357      0.613731  20.0   \n",
       "                        0.0005                0.604679      0.616152  20.0   \n",
       "                        0.0010                0.601913      0.621359  20.0   \n",
       "           0.5          0.0001                0.585669      0.609403  20.0   \n",
       "                        0.0005                0.601120      0.611176  20.0   \n",
       "                        0.0010                0.603907      0.621321  20.0   \n",
       "300        0.1          0.0001                0.580250      0.598746  20.0   \n",
       "                        0.0005                0.605861      0.622183  20.0   \n",
       "                        0.0010                0.598358      0.612199  20.0   \n",
       "           0.5          0.0001                0.580701      0.605283  20.0   \n",
       "                        0.0005                0.603647      0.613553  20.0   \n",
       "                        0.0010                0.599997      0.619705  20.0   \n",
       "384        0.1          0.0001                0.583769      0.602931  20.0   \n",
       "                        0.0005                0.602958      0.614350  20.0   \n",
       "                        0.0010                0.599764      0.602581  20.0   \n",
       "           0.5          0.0001                0.582470      0.605083  20.0   \n",
       "                        0.0005                0.603864      0.616813  20.0   \n",
       "                        0.0010                0.606117      0.606056  20.0   \n",
       "\n",
       "                                       num_layers  bidirectional       seed  \\\n",
       "hidden_dim dropout_rate learning_rate                                         \n",
       "100        0.1          0.0001                1.0            1.0  45.333333   \n",
       "                        0.0005                1.0            1.0  45.333333   \n",
       "                        0.0010                1.0            1.0  45.333333   \n",
       "           0.5          0.0001                1.0            1.0  45.333333   \n",
       "                        0.0005                1.0            1.0  45.333333   \n",
       "                        0.0010                1.0            1.0  45.333333   \n",
       "200        0.1          0.0001                1.0            1.0  45.333333   \n",
       "                        0.0005                1.0            1.0  45.333333   \n",
       "                        0.0010                1.0            1.0  45.333333   \n",
       "           0.5          0.0001                1.0            1.0  45.333333   \n",
       "                        0.0005                1.0            1.0  45.333333   \n",
       "                        0.0010                1.0            1.0  45.333333   \n",
       "300        0.1          0.0001                1.0            1.0  45.333333   \n",
       "                        0.0005                1.0            1.0  45.333333   \n",
       "                        0.0010                1.0            1.0  45.333333   \n",
       "           0.5          0.0001                1.0            1.0  45.333333   \n",
       "                        0.0005                1.0            1.0  45.333333   \n",
       "                        0.0010                1.0            1.0  45.333333   \n",
       "384        0.1          0.0001                1.0            1.0  45.333333   \n",
       "                        0.0005                1.0            1.0  45.333333   \n",
       "                        0.0010                1.0            1.0  45.333333   \n",
       "           0.5          0.0001                1.0            1.0  45.333333   \n",
       "                        0.0005                1.0            1.0  45.333333   \n",
       "                        0.0010                1.0            1.0  45.333333   \n",
       "\n",
       "                                       gamma  k_fold  n_splits  batch_size  \\\n",
       "hidden_dim dropout_rate learning_rate                                        \n",
       "100        0.1          0.0001           2.0     1.0       5.0        64.0   \n",
       "                        0.0005           2.0     1.0       5.0        64.0   \n",
       "                        0.0010           2.0     1.0       5.0        64.0   \n",
       "           0.5          0.0001           2.0     1.0       5.0        64.0   \n",
       "                        0.0005           2.0     1.0       5.0        64.0   \n",
       "                        0.0010           2.0     1.0       5.0        64.0   \n",
       "200        0.1          0.0001           2.0     1.0       5.0        64.0   \n",
       "                        0.0005           2.0     1.0       5.0        64.0   \n",
       "                        0.0010           2.0     1.0       5.0        64.0   \n",
       "           0.5          0.0001           2.0     1.0       5.0        64.0   \n",
       "                        0.0005           2.0     1.0       5.0        64.0   \n",
       "                        0.0010           2.0     1.0       5.0        64.0   \n",
       "300        0.1          0.0001           2.0     1.0       5.0        64.0   \n",
       "                        0.0005           2.0     1.0       5.0        64.0   \n",
       "                        0.0010           2.0     1.0       5.0        64.0   \n",
       "           0.5          0.0001           2.0     1.0       5.0        64.0   \n",
       "                        0.0005           2.0     1.0       5.0        64.0   \n",
       "                        0.0010           2.0     1.0       5.0        64.0   \n",
       "384        0.1          0.0001           2.0     1.0       5.0        64.0   \n",
       "                        0.0005           2.0     1.0       5.0        64.0   \n",
       "                        0.0010           2.0     1.0       5.0        64.0   \n",
       "           0.5          0.0001           2.0     1.0       5.0        64.0   \n",
       "                        0.0005           2.0     1.0       5.0        64.0   \n",
       "                        0.0010           2.0     1.0       5.0        64.0   \n",
       "\n",
       "                                       model_id  \n",
       "hidden_dim dropout_rate learning_rate            \n",
       "100        0.1          0.0001              4.0  \n",
       "                        0.0005              5.0  \n",
       "                        0.0010              3.0  \n",
       "           0.5          0.0001              1.0  \n",
       "                        0.0005              2.0  \n",
       "                        0.0010              0.0  \n",
       "200        0.1          0.0001             10.0  \n",
       "                        0.0005             11.0  \n",
       "                        0.0010              9.0  \n",
       "           0.5          0.0001              7.0  \n",
       "                        0.0005              8.0  \n",
       "                        0.0010              6.0  \n",
       "300        0.1          0.0001             16.0  \n",
       "                        0.0005             17.0  \n",
       "                        0.0010             15.0  \n",
       "           0.5          0.0001             13.0  \n",
       "                        0.0005             14.0  \n",
       "                        0.0010             12.0  \n",
       "384        0.1          0.0001             22.0  \n",
       "                        0.0005             23.0  \n",
       "                        0.0010             21.0  \n",
       "           0.5          0.0001             19.0  \n",
       "                        0.0005             20.0  \n",
       "                        0.0010             18.0  "
      ]
     },
     "execution_count": 9,
     "metadata": {},
     "output_type": "execute_result"
    }
   ],
   "source": [
    "bilstm_history_20_kfold.groupby([\"hidden_dim\", \"dropout_rate\", \"learning_rate\"]).mean()"
   ]
  },
  {
   "cell_type": "code",
   "execution_count": 10,
   "id": "8c1e8d48",
   "metadata": {},
   "outputs": [
    {
     "data": {
      "text/html": [
       "<div>\n",
       "<style scoped>\n",
       "    .dataframe tbody tr th:only-of-type {\n",
       "        vertical-align: middle;\n",
       "    }\n",
       "\n",
       "    .dataframe tbody tr th {\n",
       "        vertical-align: top;\n",
       "    }\n",
       "\n",
       "    .dataframe thead th {\n",
       "        text-align: right;\n",
       "    }\n",
       "</style>\n",
       "<table border=\"1\" class=\"dataframe\">\n",
       "  <thead>\n",
       "    <tr style=\"text-align: right;\">\n",
       "      <th></th>\n",
       "      <th>loss</th>\n",
       "      <th>accuracy</th>\n",
       "      <th>f1</th>\n",
       "      <th>f1_scores</th>\n",
       "      <th>precision</th>\n",
       "      <th>precision_scores</th>\n",
       "      <th>recall</th>\n",
       "      <th>recall_scores</th>\n",
       "      <th>valid_loss</th>\n",
       "      <th>valid_accuracy</th>\n",
       "      <th>...</th>\n",
       "      <th>bidirectional</th>\n",
       "      <th>hidden_dim</th>\n",
       "      <th>dropout_rate</th>\n",
       "      <th>learning_rate</th>\n",
       "      <th>seed</th>\n",
       "      <th>loss_function</th>\n",
       "      <th>gamma</th>\n",
       "      <th>k_fold</th>\n",
       "      <th>n_splits</th>\n",
       "      <th>batch_size</th>\n",
       "    </tr>\n",
       "  </thead>\n",
       "  <tbody>\n",
       "    <tr>\n",
       "      <th>0</th>\n",
       "      <td>None</td>\n",
       "      <td>0.617433</td>\n",
       "      <td>0.502614</td>\n",
       "      <td>[0.7439190210001512, 0.43656866693515906, 0.32...</td>\n",
       "      <td>0.494407</td>\n",
       "      <td>[0.7788674470104398, 0.42643587726199844, 0.27...</td>\n",
       "      <td>0.519116</td>\n",
       "      <td>[0.7119722382880278, 0.4471947194719472, 0.398...</td>\n",
       "      <td>None</td>\n",
       "      <td>0.701509</td>\n",
       "      <td>...</td>\n",
       "      <td>True</td>\n",
       "      <td>100</td>\n",
       "      <td>0.5</td>\n",
       "      <td>0.001</td>\n",
       "      <td>1</td>\n",
       "      <td>focal</td>\n",
       "      <td>2</td>\n",
       "      <td>True</td>\n",
       "      <td>5</td>\n",
       "      <td>64</td>\n",
       "    </tr>\n",
       "    <tr>\n",
       "      <th>0</th>\n",
       "      <td>None</td>\n",
       "      <td>0.641762</td>\n",
       "      <td>0.524595</td>\n",
       "      <td>[0.7620607504466945, 0.46864686468646866, 0.34...</td>\n",
       "      <td>0.517144</td>\n",
       "      <td>[0.785451197053407, 0.46864686468646866, 0.297...</td>\n",
       "      <td>0.538042</td>\n",
       "      <td>[0.7400231347599768, 0.46864686468646866, 0.40...</td>\n",
       "      <td>None</td>\n",
       "      <td>0.704078</td>\n",
       "      <td>...</td>\n",
       "      <td>True</td>\n",
       "      <td>100</td>\n",
       "      <td>0.5</td>\n",
       "      <td>0.001</td>\n",
       "      <td>12</td>\n",
       "      <td>focal</td>\n",
       "      <td>2</td>\n",
       "      <td>True</td>\n",
       "      <td>5</td>\n",
       "      <td>64</td>\n",
       "    </tr>\n",
       "    <tr>\n",
       "      <th>0</th>\n",
       "      <td>None</td>\n",
       "      <td>0.626628</td>\n",
       "      <td>0.508117</td>\n",
       "      <td>[0.7493325422723228, 0.4329563812600969, 0.342...</td>\n",
       "      <td>0.501415</td>\n",
       "      <td>[0.769183922046285, 0.4240506329113924, 0.3110...</td>\n",
       "      <td>0.517575</td>\n",
       "      <td>[0.7304800462695199, 0.44224422442244227, 0.38]</td>\n",
       "      <td>None</td>\n",
       "      <td>0.711625</td>\n",
       "      <td>...</td>\n",
       "      <td>True</td>\n",
       "      <td>100</td>\n",
       "      <td>0.5</td>\n",
       "      <td>0.001</td>\n",
       "      <td>123</td>\n",
       "      <td>focal</td>\n",
       "      <td>2</td>\n",
       "      <td>True</td>\n",
       "      <td>5</td>\n",
       "      <td>64</td>\n",
       "    </tr>\n",
       "  </tbody>\n",
       "</table>\n",
       "<p>3 rows × 27 columns</p>\n",
       "</div>"
      ],
      "text/plain": [
       "   loss  accuracy        f1  \\\n",
       "0  None  0.617433  0.502614   \n",
       "0  None  0.641762  0.524595   \n",
       "0  None  0.626628  0.508117   \n",
       "\n",
       "                                           f1_scores  precision  \\\n",
       "0  [0.7439190210001512, 0.43656866693515906, 0.32...   0.494407   \n",
       "0  [0.7620607504466945, 0.46864686468646866, 0.34...   0.517144   \n",
       "0  [0.7493325422723228, 0.4329563812600969, 0.342...   0.501415   \n",
       "\n",
       "                                    precision_scores    recall  \\\n",
       "0  [0.7788674470104398, 0.42643587726199844, 0.27...  0.519116   \n",
       "0  [0.785451197053407, 0.46864686468646866, 0.297...  0.538042   \n",
       "0  [0.769183922046285, 0.4240506329113924, 0.3110...  0.517575   \n",
       "\n",
       "                                       recall_scores valid_loss  \\\n",
       "0  [0.7119722382880278, 0.4471947194719472, 0.398...       None   \n",
       "0  [0.7400231347599768, 0.46864686468646866, 0.40...       None   \n",
       "0    [0.7304800462695199, 0.44224422442244227, 0.38]       None   \n",
       "\n",
       "   valid_accuracy  ...  bidirectional hidden_dim  dropout_rate learning_rate  \\\n",
       "0        0.701509  ...           True        100           0.5         0.001   \n",
       "0        0.704078  ...           True        100           0.5         0.001   \n",
       "0        0.711625  ...           True        100           0.5         0.001   \n",
       "\n",
       "   seed loss_function  gamma  k_fold  n_splits  batch_size  \n",
       "0     1         focal      2    True         5          64  \n",
       "0    12         focal      2    True         5          64  \n",
       "0   123         focal      2    True         5          64  \n",
       "\n",
       "[3 rows x 27 columns]"
      ]
     },
     "execution_count": 10,
     "metadata": {},
     "output_type": "execute_result"
    }
   ],
   "source": [
    "best_bilstm_history_20_kfold"
   ]
  },
  {
   "cell_type": "code",
   "execution_count": 11,
   "id": "45262587",
   "metadata": {},
   "outputs": [
    {
     "data": {
      "text/plain": [
       "0.5117752892103917"
      ]
     },
     "execution_count": 11,
     "metadata": {},
     "output_type": "execute_result"
    }
   ],
   "source": [
    "best_bilstm_history_20_kfold[\"f1\"].mean()"
   ]
  },
  {
   "cell_type": "code",
   "execution_count": 12,
   "id": "14eb79a3",
   "metadata": {},
   "outputs": [
    {
     "data": {
      "text/plain": [
       "0.5043222178656798"
      ]
     },
     "execution_count": 12,
     "metadata": {},
     "output_type": "execute_result"
    }
   ],
   "source": [
    "best_bilstm_history_20_kfold[\"precision\"].mean()"
   ]
  },
  {
   "cell_type": "code",
   "execution_count": 13,
   "id": "c79cae56",
   "metadata": {},
   "outputs": [
    {
     "data": {
      "text/plain": [
       "0.5249108435038607"
      ]
     },
     "execution_count": 13,
     "metadata": {},
     "output_type": "execute_result"
    }
   ],
   "source": [
    "best_bilstm_history_20_kfold[\"recall\"].mean()"
   ]
  },
  {
   "cell_type": "code",
   "execution_count": 14,
   "id": "50b12a82",
   "metadata": {
    "scrolled": true
   },
   "outputs": [
    {
     "data": {
      "text/plain": [
       "array([0.75177077, 0.4460573 , 0.33749779])"
      ]
     },
     "execution_count": 14,
     "metadata": {},
     "output_type": "execute_result"
    }
   ],
   "source": [
    "np.stack(best_bilstm_history_20_kfold[\"f1_scores\"]).mean(axis=0)"
   ]
  },
  {
   "cell_type": "code",
   "execution_count": 15,
   "id": "0ab08d48",
   "metadata": {},
   "outputs": [
    {
     "data": {
      "text/plain": [
       "array([0.77783419, 0.43971112, 0.29542134])"
      ]
     },
     "execution_count": 15,
     "metadata": {},
     "output_type": "execute_result"
    }
   ],
   "source": [
    "np.stack(best_bilstm_history_20_kfold[\"precision_scores\"]).mean(axis=0)"
   ]
  },
  {
   "cell_type": "code",
   "execution_count": 16,
   "id": "cdae8626",
   "metadata": {},
   "outputs": [
    {
     "data": {
      "text/plain": [
       "array([0.72749181, 0.45269527, 0.39454545])"
      ]
     },
     "execution_count": 16,
     "metadata": {},
     "output_type": "execute_result"
    }
   ],
   "source": [
    "np.stack(best_bilstm_history_20_kfold[\"recall_scores\"]).mean(axis=0)"
   ]
  },
  {
   "cell_type": "markdown",
   "id": "f1c3d414",
   "metadata": {},
   "source": [
    "## `history_length=50`"
   ]
  },
  {
   "cell_type": "code",
   "execution_count": null,
   "id": "4d4c5c9b",
   "metadata": {},
   "outputs": [
    {
     "data": {
      "application/vnd.jupyter.widget-view+json": {
       "model_id": "b80befc98d1041b19965533e29100a19",
       "version_major": 2,
       "version_minor": 0
      },
      "text/plain": [
       "  0%|          | 0/1 [00:00<?, ?it/s]"
      ]
     },
     "metadata": {},
     "output_type": "display_data"
    },
    {
     "name": "stdout",
     "output_type": "stream",
     "text": [
      "[INFO] Concatenating the embeddings to the dataframe...\n",
      "[INFO] - columns beginning with 'e' denote the full embddings.\n",
      "[INFO] Adding time feature columns into dataframe in `.df`.\n",
      "[INFO] Adding 'time_encoding' feature...\n",
      "[INFO] Adding 'time_diff' feature...\n",
      "[INFO] Adding 'timeline_index' feature...\n",
      "[INFO] Padding ids and storing in `.df_padded` and `.array_padded` attributes.\n"
     ]
    },
    {
     "data": {
      "application/vnd.jupyter.widget-view+json": {
       "model_id": "a930d85dbbe245b6abaa9fe14f7f25fb",
       "version_major": 2,
       "version_minor": 0
      },
      "text/plain": [
       "  0%|          | 0/9699 [00:00<?, ?it/s]"
      ]
     },
     "metadata": {},
     "output_type": "display_data"
    },
    {
     "data": {
      "application/vnd.jupyter.widget-view+json": {
       "model_id": "bccec3caf7264fa7bfe9708ae28b2a99",
       "version_major": 2,
       "version_minor": 0
      },
      "text/plain": [
       "  0%|          | 0/4 [00:00<?, ?it/s]"
      ]
     },
     "metadata": {},
     "output_type": "display_data"
    },
    {
     "data": {
      "application/vnd.jupyter.widget-view+json": {
       "model_id": "66b8d01a54f043a4906568aaef4ca95f",
       "version_major": 2,
       "version_minor": 0
      },
      "text/plain": [
       "  0%|          | 0/2 [00:00<?, ?it/s]"
      ]
     },
     "metadata": {},
     "output_type": "display_data"
    },
    {
     "data": {
      "application/vnd.jupyter.widget-view+json": {
       "model_id": "1656899af8894b188f94fb70a850a0bc",
       "version_major": 2,
       "version_minor": 0
      },
      "text/plain": [
       "  0%|          | 0/3 [00:00<?, ?it/s]"
      ]
     },
     "metadata": {},
     "output_type": "display_data"
    },
    {
     "data": {
      "application/vnd.jupyter.widget-view+json": {
       "model_id": "4abf455e90c84c9e896774d44f3a1c1f",
       "version_major": 2,
       "version_minor": 0
      },
      "text/plain": [
       "  0%|          | 0/3 [00:00<?, ?it/s]"
      ]
     },
     "metadata": {},
     "output_type": "display_data"
    }
   ],
   "source": [
    "size = 50\n",
    "(\n",
    "    bilstm_history_50_kfold,\n",
    "    best_bilstm_history_50_kfold,\n",
    "    _,\n",
    "    __,\n",
    ") = lstm_hyperparameter_search(\n",
    "    num_epochs=num_epochs,\n",
    "    df=anno_mi,\n",
    "    id_column=\"transcript_id\",\n",
    "    label_column=\"client_talk_type\",\n",
    "    embeddings=sbert_embeddings,\n",
    "    y_data=y_data_client,\n",
    "    output_dim=output_dim_client,\n",
    "    history_lengths=[size],\n",
    "    hidden_dim_sizes=hidden_dim_sizes,\n",
    "    num_layers=num_layers,\n",
    "    bidirectional=bidirectional,\n",
    "    dropout_rates=dropout_rates,\n",
    "    learning_rates=learning_rates,\n",
    "    seeds=seeds,\n",
    "    loss=loss,\n",
    "    gamma=gamma,\n",
    "    path_indices=client_index,\n",
    "    split_ids=client_transcript_id,\n",
    "    k_fold=True,\n",
    "    validation_metric=validation_metric,\n",
    "    results_output=f\"{output_dir}/lstm_history_{size}_focal_{gamma}_kfold.csv\",\n",
    "    verbose=False,\n",
    ")"
   ]
  },
  {
   "cell_type": "code",
   "execution_count": null,
   "id": "dac6c4f4",
   "metadata": {},
   "outputs": [],
   "source": [
    "bilstm_history_50_kfold.groupby([\"hidden_dim\", \"dropout_rate\", \"learning_rate\"]).mean()"
   ]
  },
  {
   "cell_type": "code",
   "execution_count": null,
   "id": "86b9a028",
   "metadata": {},
   "outputs": [],
   "source": [
    "best_bilstm_history_50_kfold"
   ]
  },
  {
   "cell_type": "code",
   "execution_count": null,
   "id": "d97ec1c8",
   "metadata": {},
   "outputs": [],
   "source": [
    "best_bilstm_history_50_kfold[\"f1\"].mean()"
   ]
  },
  {
   "cell_type": "code",
   "execution_count": null,
   "id": "6a574666",
   "metadata": {},
   "outputs": [],
   "source": [
    "best_bilstm_history_50_kfold[\"precision\"].mean()"
   ]
  },
  {
   "cell_type": "code",
   "execution_count": null,
   "id": "0fc99397",
   "metadata": {},
   "outputs": [],
   "source": [
    "best_bilstm_history_50_kfold[\"recall\"].mean()"
   ]
  },
  {
   "cell_type": "code",
   "execution_count": null,
   "id": "e64ad310",
   "metadata": {
    "scrolled": true
   },
   "outputs": [],
   "source": [
    "np.stack(best_bilstm_history_50_kfold[\"f1_scores\"]).mean(axis=0)"
   ]
  },
  {
   "cell_type": "code",
   "execution_count": null,
   "id": "4daab8de",
   "metadata": {},
   "outputs": [],
   "source": [
    "np.stack(best_bilstm_history_50_kfold[\"precision_scores\"]).mean(axis=0)"
   ]
  },
  {
   "cell_type": "code",
   "execution_count": null,
   "id": "d0f31438",
   "metadata": {},
   "outputs": [],
   "source": [
    "np.stack(best_bilstm_history_50_kfold[\"recall_scores\"]).mean(axis=0)"
   ]
  }
 ],
 "metadata": {
  "kernelspec": {
   "display_name": "nlpsig-networks (Conda)",
   "language": "python",
   "name": "sys_nlpsig-networks"
  },
  "language_info": {
   "codemirror_mode": {
    "name": "ipython",
    "version": 3
   },
   "file_extension": ".py",
   "mimetype": "text/x-python",
   "name": "python",
   "nbconvert_exporter": "python",
   "pygments_lexer": "ipython3",
   "version": "3.8.17"
  }
 },
 "nbformat": 4,
 "nbformat_minor": 5
}
