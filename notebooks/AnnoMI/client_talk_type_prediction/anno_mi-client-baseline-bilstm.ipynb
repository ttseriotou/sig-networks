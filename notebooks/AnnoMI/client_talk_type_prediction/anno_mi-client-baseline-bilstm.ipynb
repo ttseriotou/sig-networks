{
 "cells": [
  {
   "cell_type": "code",
   "execution_count": null,
   "id": "a983a5e8",
   "metadata": {},
   "outputs": [],
   "source": [
    "import numpy as np\n",
    "import pickle\n",
    "import os\n",
    "\n",
    "seed = 2023"
   ]
  },
  {
   "cell_type": "code",
   "execution_count": null,
   "id": "6034028a-d84a-4eb3-9411-bb1ce319a7fc",
   "metadata": {},
   "outputs": [],
   "source": [
    "import torch\n",
    "\n",
    "# set device\n",
    "device = torch.device(\"cuda\" if torch.cuda.is_available() else \"cpu\")\n",
    "device"
   ]
  },
  {
   "cell_type": "code",
   "execution_count": null,
   "id": "e4e666cc",
   "metadata": {},
   "outputs": [],
   "source": [
    "from nlpsig_networks.scripts.lstm_baseline_functions import (\n",
    "    lstm_hyperparameter_search,\n",
    "    obtain_path,\n",
    ")"
   ]
  },
  {
   "cell_type": "code",
   "execution_count": null,
   "id": "6e918dde",
   "metadata": {},
   "outputs": [],
   "source": [
    "output_dir = \"client_talk_type_output\"\n",
    "if not os.path.isdir(output_dir):\n",
    "    os.makedirs(output_dir)"
   ]
  },
  {
   "cell_type": "markdown",
   "id": "f7409a03",
   "metadata": {},
   "source": [
    "## AnnoMI"
   ]
  },
  {
   "cell_type": "code",
   "execution_count": null,
   "id": "f00bb922",
   "metadata": {},
   "outputs": [],
   "source": [
    "%run ../load_anno_mi.py"
   ]
  },
  {
   "cell_type": "code",
   "execution_count": null,
   "id": "720d820f",
   "metadata": {},
   "outputs": [],
   "source": [
    "anno_mi.head()"
   ]
  },
  {
   "cell_type": "code",
   "execution_count": null,
   "id": "84d5594d",
   "metadata": {},
   "outputs": [],
   "source": [
    "with open(\"../anno_mi_sbert.pkl\", \"rb\") as f:\n",
    "    sbert_embeddings = pickle.load(f)\n",
    "\n",
    "sbert_embeddings.shape"
   ]
  },
  {
   "cell_type": "markdown",
   "id": "3a710eb3",
   "metadata": {},
   "source": [
    "# Baseline: LSTM classification"
   ]
  },
  {
   "cell_type": "code",
   "execution_count": null,
   "id": "38d81c7c",
   "metadata": {},
   "outputs": [],
   "source": [
    "num_epochs = 100\n",
    "hidden_dim_sizes = [200, 300, 400]\n",
    "num_layers = 1\n",
    "bidirectional = True\n",
    "dropout_rates = [0.1]\n",
    "learning_rates = [1e-3, 5e-4, 1e-4]\n",
    "seeds = [1, 12, 123]\n",
    "loss = \"focal\"\n",
    "gamma = 2\n",
    "validation_metric = \"f1\"\n",
    "patience = 3"
   ]
  },
  {
   "cell_type": "code",
   "execution_count": null,
   "id": "a9f82325-3816-46c0-a473-5a6757c7dfc0",
   "metadata": {},
   "outputs": [],
   "source": [
    "kwargs = {\n",
    "    \"num_epochs\": num_epochs,\n",
    "    \"df\": anno_mi,\n",
    "    \"id_column\": \"transcript_id\",\n",
    "    \"label_column\": \"client_talk_type\",\n",
    "    \"embeddings\": sbert_embeddings,\n",
    "    \"y_data\": y_data_client,\n",
    "    \"output_dim\": output_dim_client,\n",
    "    \"hidden_dim_sizes\": hidden_dim_sizes,\n",
    "    \"num_layers\": num_layers,\n",
    "    \"bidirectional\": bidirectional,\n",
    "    \"dropout_rates\": dropout_rates,\n",
    "    \"learning_rates\": learning_rates,\n",
    "    \"seeds\": seeds,\n",
    "    \"loss\": loss,\n",
    "    \"gamma\": gamma,\n",
    "    \"device\": device,\n",
    "    \"path_indices\": client_index,\n",
    "    \"split_ids\": client_transcript_id,\n",
    "    \"k_fold\": True,\n",
    "    \"patience\": patience,\n",
    "    \"validation_metric\": validation_metric,\n",
    "    \"verbose\": False,\n",
    "}"
   ]
  },
  {
   "cell_type": "markdown",
   "id": "3ed43d57",
   "metadata": {
    "tags": []
   },
   "source": [
    "## history_length=5"
   ]
  },
  {
   "cell_type": "code",
   "execution_count": null,
   "id": "fe7a6ea2-d3b6-4ba2-8868-7ac245114050",
   "metadata": {},
   "outputs": [],
   "source": [
    "size = 5"
   ]
  },
  {
   "cell_type": "code",
   "execution_count": null,
   "id": "b1fed6b4",
   "metadata": {},
   "outputs": [],
   "source": [
    "(\n",
    "    bilstm_history_5_kfold,\n",
    "    best_bilstm_history_5_kfold,\n",
    "    _,\n",
    "    __,\n",
    ") = lstm_hyperparameter_search(\n",
    "    history_lengths=[size],\n",
    "    results_output=f\"{output_dir}/lstm_history_{size}_focal_{gamma}_kfold.csv\",\n",
    "    **kwargs,\n",
    ")"
   ]
  },
  {
   "cell_type": "code",
   "execution_count": null,
   "id": "9ffb417f",
   "metadata": {},
   "outputs": [],
   "source": [
    "bilstm_history_5_kfold.groupby([\"hidden_dim\", \"dropout_rate\", \"learning_rate\"]).mean()"
   ]
  },
  {
   "cell_type": "code",
   "execution_count": null,
   "id": "8c1e8d48",
   "metadata": {},
   "outputs": [],
   "source": [
    "best_bilstm_history_5_kfold"
   ]
  },
  {
   "cell_type": "code",
   "execution_count": null,
   "id": "45262587",
   "metadata": {},
   "outputs": [],
   "source": [
    "best_bilstm_history_5_kfold[\"f1\"].mean()"
   ]
  },
  {
   "cell_type": "code",
   "execution_count": null,
   "id": "14eb79a3",
   "metadata": {},
   "outputs": [],
   "source": [
    "best_bilstm_history_5_kfold[\"precision\"].mean()"
   ]
  },
  {
   "cell_type": "code",
   "execution_count": null,
   "id": "c79cae56",
   "metadata": {},
   "outputs": [],
   "source": [
    "best_bilstm_history_5_kfold[\"recall\"].mean()"
   ]
  },
  {
   "cell_type": "code",
   "execution_count": null,
   "id": "50b12a82",
   "metadata": {
    "scrolled": true
   },
   "outputs": [],
   "source": [
    "np.stack(best_bilstm_history_5_kfold[\"f1_scores\"]).mean(axis=0)"
   ]
  },
  {
   "cell_type": "code",
   "execution_count": null,
   "id": "0ab08d48",
   "metadata": {},
   "outputs": [],
   "source": [
    "np.stack(best_bilstm_history_5_kfold[\"precision_scores\"]).mean(axis=0)"
   ]
  },
  {
   "cell_type": "code",
   "execution_count": null,
   "id": "cdae8626",
   "metadata": {},
   "outputs": [],
   "source": [
    "np.stack(best_bilstm_history_5_kfold[\"recall_scores\"]).mean(axis=0)"
   ]
  },
  {
   "cell_type": "markdown",
   "id": "f1c3d414",
   "metadata": {},
   "source": [
    "## history_length=11"
   ]
  },
  {
   "cell_type": "code",
   "execution_count": null,
   "id": "e42defb1-3385-4403-a959-6988ff56f5de",
   "metadata": {},
   "outputs": [],
   "source": [
    "size = 11"
   ]
  },
  {
   "cell_type": "code",
   "execution_count": null,
   "id": "4d4c5c9b",
   "metadata": {},
   "outputs": [],
   "source": [
    "(\n",
    "    bilstm_history_11_kfold,\n",
    "    best_bilstm_history_11_kfold,\n",
    "    _,\n",
    "    __,\n",
    ") = lstm_hyperparameter_search(\n",
    "    history_lengths=[size],\n",
    "    results_output=f\"{output_dir}/lstm_history_{size}_focal_{gamma}_kfold.csv\",\n",
    "    **kwargs,\n",
    ")"
   ]
  },
  {
   "cell_type": "code",
   "execution_count": null,
   "id": "dac6c4f4",
   "metadata": {},
   "outputs": [],
   "source": [
    "bilstm_history_11_kfold.groupby([\"hidden_dim\", \"dropout_rate\", \"learning_rate\"]).mean()"
   ]
  },
  {
   "cell_type": "code",
   "execution_count": null,
   "id": "86b9a028",
   "metadata": {},
   "outputs": [],
   "source": [
    "best_bilstm_history_11_kfold"
   ]
  },
  {
   "cell_type": "code",
   "execution_count": null,
   "id": "d97ec1c8",
   "metadata": {},
   "outputs": [],
   "source": [
    "best_bilstm_history_11_kfold[\"f1\"].mean()"
   ]
  },
  {
   "cell_type": "code",
   "execution_count": null,
   "id": "6a574666",
   "metadata": {},
   "outputs": [],
   "source": [
    "best_bilstm_history_11_kfold[\"precision\"].mean()"
   ]
  },
  {
   "cell_type": "code",
   "execution_count": null,
   "id": "0fc99397",
   "metadata": {},
   "outputs": [],
   "source": [
    "best_bilstm_history_11_kfold[\"recall\"].mean()"
   ]
  },
  {
   "cell_type": "code",
   "execution_count": null,
   "id": "e64ad310",
   "metadata": {
    "scrolled": true
   },
   "outputs": [],
   "source": [
    "np.stack(best_bilstm_history_11_kfold[\"f1_scores\"]).mean(axis=0)"
   ]
  },
  {
   "cell_type": "code",
   "execution_count": null,
   "id": "4daab8de",
   "metadata": {},
   "outputs": [],
   "source": [
    "np.stack(best_bilstm_history_11_kfold[\"precision_scores\"]).mean(axis=0)"
   ]
  },
  {
   "cell_type": "code",
   "execution_count": null,
   "id": "d0f31438",
   "metadata": {},
   "outputs": [],
   "source": [
    "np.stack(best_bilstm_history_11_kfold[\"recall_scores\"]).mean(axis=0)"
   ]
  },
  {
   "cell_type": "markdown",
   "id": "39766900-d308-4286-8122-3fa39f3116c8",
   "metadata": {
    "tags": []
   },
   "source": [
    "## history_length=20"
   ]
  },
  {
   "cell_type": "code",
   "execution_count": null,
   "id": "b224f5bf-d7cb-41af-917a-7ddb45d7517a",
   "metadata": {},
   "outputs": [],
   "source": [
    "size = 20"
   ]
  },
  {
   "cell_type": "code",
   "execution_count": null,
   "id": "b109dc82-12ba-447a-9398-1b085c34d9d8",
   "metadata": {},
   "outputs": [],
   "source": [
    "(\n",
    "    bilstm_history_20_kfold,\n",
    "    best_bilstm_history_20_kfold,\n",
    "    _,\n",
    "    __,\n",
    ") = lstm_hyperparameter_search(\n",
    "    history_lengths=[size],\n",
    "    results_output=f\"{output_dir}/lstm_history_{size}_focal_{gamma}_kfold.csv\",\n",
    "    **kwargs,\n",
    ")"
   ]
  },
  {
   "cell_type": "code",
   "execution_count": null,
   "id": "70080fb6-a828-45fd-800c-21d2e6a936f5",
   "metadata": {},
   "outputs": [],
   "source": [
    "bilstm_history_20_kfold.groupby([\"hidden_dim\", \"dropout_rate\", \"learning_rate\"]).mean()"
   ]
  },
  {
   "cell_type": "code",
   "execution_count": null,
   "id": "764c7e29-7ee5-4d07-b0ab-85619498fcad",
   "metadata": {},
   "outputs": [],
   "source": [
    "best_bilstm_history_20_kfold"
   ]
  },
  {
   "cell_type": "code",
   "execution_count": null,
   "id": "508edfeb-375e-4c89-917c-77f76ca9102e",
   "metadata": {},
   "outputs": [],
   "source": [
    "best_bilstm_history_20_kfold[\"f1\"].mean()"
   ]
  },
  {
   "cell_type": "code",
   "execution_count": null,
   "id": "ea0f5905-0a51-4aa4-a631-9e8c69803ddd",
   "metadata": {},
   "outputs": [],
   "source": [
    "best_bilstm_history_20_kfold[\"precision\"].mean()"
   ]
  },
  {
   "cell_type": "code",
   "execution_count": null,
   "id": "9f3c7415-1020-4508-9a15-3a71a3bde078",
   "metadata": {},
   "outputs": [],
   "source": [
    "best_bilstm_history_20_kfold[\"recall\"].mean()"
   ]
  },
  {
   "cell_type": "code",
   "execution_count": null,
   "id": "180807e1-2c41-41de-80b9-7b3d9e75b871",
   "metadata": {
    "scrolled": true
   },
   "outputs": [],
   "source": [
    "np.stack(best_bilstm_history_20_kfold[\"f1_scores\"]).mean(axis=0)"
   ]
  },
  {
   "cell_type": "code",
   "execution_count": null,
   "id": "4606f3de-e1a5-4945-8eef-f17b8abc63c5",
   "metadata": {},
   "outputs": [],
   "source": [
    "np.stack(best_bilstm_history_20_kfold[\"precision_scores\"]).mean(axis=0)"
   ]
  },
  {
   "cell_type": "code",
   "execution_count": null,
   "id": "b105112c-83fb-464a-8c3a-dfbda3cadd1b",
   "metadata": {},
   "outputs": [],
   "source": [
    "np.stack(best_bilstm_history_20_kfold[\"recall_scores\"]).mean(axis=0)"
   ]
  },
  {
   "cell_type": "markdown",
   "id": "6b0b6d53-a1cb-4fc7-811a-76cc590045d6",
   "metadata": {},
   "source": [
    "## history_length=35"
   ]
  },
  {
   "cell_type": "code",
   "execution_count": null,
   "id": "f4487954-a5fe-4da6-ac33-315051ad62f7",
   "metadata": {},
   "outputs": [],
   "source": [
    "size = 35"
   ]
  },
  {
   "cell_type": "code",
   "execution_count": null,
   "id": "1ff2e1b4-b966-4a35-82b6-b7bf99a19e90",
   "metadata": {},
   "outputs": [],
   "source": [
    "(\n",
    "    bilstm_history_35_kfold,\n",
    "    best_bilstm_history_35_kfold,\n",
    "    _,\n",
    "    __,\n",
    ") = lstm_hyperparameter_search(\n",
    "    history_lengths=[size],\n",
    "    results_output=f\"{output_dir}/lstm_history_{size}_focal_{gamma}_kfold.csv\",\n",
    "    **kwargs,\n",
    ")"
   ]
  },
  {
   "cell_type": "code",
   "execution_count": null,
   "id": "199bae92-3be4-44e7-9fe4-22071baef7ac",
   "metadata": {},
   "outputs": [],
   "source": [
    "bilstm_history_35_kfold.groupby([\"hidden_dim\", \"dropout_rate\", \"learning_rate\"]).mean()"
   ]
  },
  {
   "cell_type": "code",
   "execution_count": null,
   "id": "b56e3ae4-0521-4f08-85fc-14f403855fc3",
   "metadata": {},
   "outputs": [],
   "source": [
    "best_bilstm_history_35_kfold"
   ]
  },
  {
   "cell_type": "code",
   "execution_count": null,
   "id": "53b13893-07ce-4029-9135-4c87a8f73365",
   "metadata": {},
   "outputs": [],
   "source": [
    "best_bilstm_history_35_kfold[\"f1\"].mean()"
   ]
  },
  {
   "cell_type": "code",
   "execution_count": null,
   "id": "8ae1d30b-cdd3-4749-813e-f828e1f149f6",
   "metadata": {},
   "outputs": [],
   "source": [
    "best_bilstm_history_35_kfold[\"precision\"].mean()"
   ]
  },
  {
   "cell_type": "code",
   "execution_count": null,
   "id": "a5c8ab29-6836-4275-89e0-574adee08bad",
   "metadata": {},
   "outputs": [],
   "source": [
    "best_bilstm_history_35_kfold[\"recall\"].mean()"
   ]
  },
  {
   "cell_type": "code",
   "execution_count": null,
   "id": "74920682-2a59-4c43-b27f-98cb83f76d4a",
   "metadata": {
    "scrolled": true
   },
   "outputs": [],
   "source": [
    "np.stack(best_bilstm_history_35_kfold[\"f1_scores\"]).mean(axis=0)"
   ]
  },
  {
   "cell_type": "code",
   "execution_count": null,
   "id": "41d1b5fe-9c37-48f1-a02a-55dba9c54630",
   "metadata": {},
   "outputs": [],
   "source": [
    "np.stack(best_bilstm_history_35_kfold[\"precision_scores\"]).mean(axis=0)"
   ]
  },
  {
   "cell_type": "code",
   "execution_count": null,
   "id": "e3213232-3798-402f-b3d5-a1f9ba56ec06",
   "metadata": {},
   "outputs": [],
   "source": [
    "np.stack(best_bilstm_history_35_kfold[\"recall_scores\"]).mean(axis=0)"
   ]
  },
  {
   "cell_type": "markdown",
   "id": "038eaa34-7636-47a0-ae2a-9317cb0218e9",
   "metadata": {},
   "source": [
    "## history_length=80"
   ]
  },
  {
   "cell_type": "code",
   "execution_count": null,
   "id": "d4068002-0ca3-4d16-b6a2-3af9f580295b",
   "metadata": {},
   "outputs": [],
   "source": [
    "size = 80"
   ]
  },
  {
   "cell_type": "code",
   "execution_count": null,
   "id": "f5721883-46fb-4447-a411-02c95cb638ac",
   "metadata": {},
   "outputs": [],
   "source": [
    "(\n",
    "    bilstm_history_80_kfold,\n",
    "    best_bilstm_history_80_kfold,\n",
    "    _,\n",
    "    __,\n",
    ") = lstm_hyperparameter_search(\n",
    "    history_lengths=[size],\n",
    "    results_output=f\"{output_dir}/lstm_history_{size}_focal_{gamma}_kfold.csv\",\n",
    "    **kwargs,\n",
    ")"
   ]
  },
  {
   "cell_type": "code",
   "execution_count": null,
   "id": "85bb1d09-7602-42c6-af05-55023d93ab37",
   "metadata": {},
   "outputs": [],
   "source": [
    "bilstm_history_80_kfold.groupby([\"hidden_dim\", \"dropout_rate\", \"learning_rate\"]).mean()"
   ]
  },
  {
   "cell_type": "code",
   "execution_count": null,
   "id": "46509ae8-5d0c-4fb3-ac4b-010fc8a8e5ac",
   "metadata": {},
   "outputs": [],
   "source": [
    "best_bilstm_history_80_kfold"
   ]
  },
  {
   "cell_type": "code",
   "execution_count": null,
   "id": "18ec43f8-f64b-4df1-a7cf-4dd1148aa65e",
   "metadata": {},
   "outputs": [],
   "source": [
    "best_bilstm_history_80_kfold[\"f1\"].mean()"
   ]
  },
  {
   "cell_type": "code",
   "execution_count": null,
   "id": "20cff30e-2c90-49e1-b764-c04476491d2c",
   "metadata": {},
   "outputs": [],
   "source": [
    "best_bilstm_history_80_kfold[\"precision\"].mean()"
   ]
  },
  {
   "cell_type": "code",
   "execution_count": null,
   "id": "32232398-c881-4b08-9b22-6dbcead594d5",
   "metadata": {},
   "outputs": [],
   "source": [
    "best_bilstm_history_80_kfold[\"recall\"].mean()"
   ]
  },
  {
   "cell_type": "code",
   "execution_count": null,
   "id": "62d2547d-c5df-49f4-b9f4-885b72e39e79",
   "metadata": {
    "scrolled": true
   },
   "outputs": [],
   "source": [
    "np.stack(best_bilstm_history_80_kfold[\"f1_scores\"]).mean(axis=0)"
   ]
  },
  {
   "cell_type": "code",
   "execution_count": null,
   "id": "2e2f35a3-37a9-4009-b63b-a1fc3f02b152",
   "metadata": {},
   "outputs": [],
   "source": [
    "np.stack(best_bilstm_history_80_kfold[\"precision_scores\"]).mean(axis=0)"
   ]
  },
  {
   "cell_type": "code",
   "execution_count": null,
   "id": "b6ee16a6-a91c-4b9c-a4b1-caa9eda26553",
   "metadata": {},
   "outputs": [],
   "source": [
    "np.stack(best_bilstm_history_80_kfold[\"recall_scores\"]).mean(axis=0)"
   ]
  },
  {
   "cell_type": "markdown",
   "id": "a13c7d0e-4f10-4bb8-8ef1-8d0c03871eb7",
   "metadata": {},
   "source": [
    "## history_length=110"
   ]
  },
  {
   "cell_type": "code",
   "execution_count": null,
   "id": "10a396a5-9e8e-48f7-9c9a-bba774fa1695",
   "metadata": {},
   "outputs": [],
   "source": [
    "size = 110"
   ]
  },
  {
   "cell_type": "code",
   "execution_count": null,
   "id": "913b9bd9-56ef-48dc-bc0a-649c9f37edd6",
   "metadata": {},
   "outputs": [],
   "source": [
    "(\n",
    "    bilstm_history_110_kfold,\n",
    "    best_bilstm_history_110_kfold,\n",
    "    _,\n",
    "    __,\n",
    ") = lstm_hyperparameter_search(\n",
    "    history_lengths=[size],\n",
    "    results_output=f\"{output_dir}/lstm_history_{size}_focal_{gamma}_kfold.csv\",\n",
    "    **kwargs,\n",
    ")"
   ]
  },
  {
   "cell_type": "code",
   "execution_count": null,
   "id": "6cdd178f-ab2e-4d89-88e9-c73af9d613a6",
   "metadata": {},
   "outputs": [],
   "source": [
    "bilstm_history_110_kfold.groupby([\"hidden_dim\", \"dropout_rate\", \"learning_rate\"]).mean()"
   ]
  },
  {
   "cell_type": "code",
   "execution_count": null,
   "id": "5c69ac00-a12d-4e97-b034-d7dcbc06865d",
   "metadata": {},
   "outputs": [],
   "source": [
    "best_bilstm_history_110_kfold"
   ]
  },
  {
   "cell_type": "code",
   "execution_count": null,
   "id": "30f75adb-0d7c-400d-a45b-e00808bf770d",
   "metadata": {},
   "outputs": [],
   "source": [
    "best_bilstm_history_110_kfold[\"f1\"].mean()"
   ]
  },
  {
   "cell_type": "code",
   "execution_count": null,
   "id": "0207bd76-6823-49b8-938f-63514cf695d5",
   "metadata": {},
   "outputs": [],
   "source": [
    "best_bilstm_history_110_kfold[\"precision\"].mean()"
   ]
  },
  {
   "cell_type": "code",
   "execution_count": null,
   "id": "1ac50c2b-c9cc-4ed8-9eef-4891c34b6fae",
   "metadata": {},
   "outputs": [],
   "source": [
    "best_bilstm_history_110_kfold[\"recall\"].mean()"
   ]
  },
  {
   "cell_type": "code",
   "execution_count": null,
   "id": "c3028a78-515c-47f3-8329-5284182e7048",
   "metadata": {
    "scrolled": true
   },
   "outputs": [],
   "source": [
    "np.stack(best_bilstm_history_110_kfold[\"f1_scores\"]).mean(axis=0)"
   ]
  },
  {
   "cell_type": "code",
   "execution_count": null,
   "id": "87aed13d-6e26-49b8-8d47-8cb0d642a2a5",
   "metadata": {},
   "outputs": [],
   "source": [
    "np.stack(best_bilstm_history_110_kfold[\"precision_scores\"]).mean(axis=0)"
   ]
  },
  {
   "cell_type": "code",
   "execution_count": null,
   "id": "93eca57f-58ab-457a-aa7d-947b4e79b651",
   "metadata": {},
   "outputs": [],
   "source": [
    "np.stack(best_bilstm_history_110_kfold[\"recall_scores\"]).mean(axis=0)"
   ]
  }
 ],
 "metadata": {
  "kernelspec": {
   "display_name": "nlpsig-networks (Conda)",
   "language": "python",
   "name": "sys_nlpsig-networks"
  },
  "language_info": {
   "codemirror_mode": {
    "name": "ipython",
    "version": 3
   },
   "file_extension": ".py",
   "mimetype": "text/x-python",
   "name": "python",
   "nbconvert_exporter": "python",
   "pygments_lexer": "ipython3",
   "version": "3.8.17"
  }
 },
 "nbformat": 4,
 "nbformat_minor": 5
}
