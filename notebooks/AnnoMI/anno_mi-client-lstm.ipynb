{
 "cells": [
  {
   "cell_type": "code",
   "execution_count": 1,
   "id": "a983a5e8",
   "metadata": {},
   "outputs": [],
   "source": [
    "import pandas as pd\n",
    "import numpy as np\n",
    "import torch\n",
    "import os\n",
    "\n",
    "import nlpsig\n",
    "from nlpsig_networks.scripts.lstm_baseline_functions import (\n",
    "    lstm_hyperparameter_search\n",
    ")\n",
    "\n",
    "seed = 2023"
   ]
  },
  {
   "cell_type": "code",
   "execution_count": 2,
   "id": "6e918dde",
   "metadata": {},
   "outputs": [],
   "source": [
    "output_dir = \"client_talk_type\"\n",
    "if not os.path.isdir(output_dir):\n",
    "    os.makedirs(output_dir)"
   ]
  },
  {
   "attachments": {},
   "cell_type": "markdown",
   "id": "f7409a03",
   "metadata": {},
   "source": [
    "## AnnoMI"
   ]
  },
  {
   "cell_type": "code",
   "execution_count": 3,
   "id": "f00bb922",
   "metadata": {},
   "outputs": [
    {
     "data": {
      "text/html": [
       "<div>\n",
       "<style scoped>\n",
       "    .dataframe tbody tr th:only-of-type {\n",
       "        vertical-align: middle;\n",
       "    }\n",
       "\n",
       "    .dataframe tbody tr th {\n",
       "        vertical-align: top;\n",
       "    }\n",
       "\n",
       "    .dataframe thead th {\n",
       "        text-align: right;\n",
       "    }\n",
       "</style>\n",
       "<table border=\"1\" class=\"dataframe\">\n",
       "  <thead>\n",
       "    <tr style=\"text-align: right;\">\n",
       "      <th></th>\n",
       "      <th>mi_quality</th>\n",
       "      <th>transcript_id</th>\n",
       "      <th>topic</th>\n",
       "      <th>utterance_id</th>\n",
       "      <th>interlocutor</th>\n",
       "      <th>timestamp</th>\n",
       "      <th>utterance_text</th>\n",
       "      <th>annotator_id</th>\n",
       "      <th>therapist_input_exists</th>\n",
       "      <th>therapist_input_subtype</th>\n",
       "      <th>reflection_exists</th>\n",
       "      <th>reflection_subtype</th>\n",
       "      <th>question_exists</th>\n",
       "      <th>question_subtype</th>\n",
       "      <th>main_therapist_behaviour</th>\n",
       "      <th>client_talk_type</th>\n",
       "      <th>datetime</th>\n",
       "    </tr>\n",
       "  </thead>\n",
       "  <tbody>\n",
       "    <tr>\n",
       "      <th>0</th>\n",
       "      <td>high</td>\n",
       "      <td>0</td>\n",
       "      <td>reducing alcohol consumption</td>\n",
       "      <td>0</td>\n",
       "      <td>therapist</td>\n",
       "      <td>00:00:13</td>\n",
       "      <td>Thanks for filling it out. We give this form t...</td>\n",
       "      <td>3</td>\n",
       "      <td>False</td>\n",
       "      <td>NaN</td>\n",
       "      <td>False</td>\n",
       "      <td>NaN</td>\n",
       "      <td>True</td>\n",
       "      <td>open</td>\n",
       "      <td>question</td>\n",
       "      <td>NaN</td>\n",
       "      <td>2023-06-23 00:00:13</td>\n",
       "    </tr>\n",
       "    <tr>\n",
       "      <th>1</th>\n",
       "      <td>high</td>\n",
       "      <td>0</td>\n",
       "      <td>reducing alcohol consumption</td>\n",
       "      <td>1</td>\n",
       "      <td>client</td>\n",
       "      <td>00:00:24</td>\n",
       "      <td>Sure.</td>\n",
       "      <td>3</td>\n",
       "      <td>NaN</td>\n",
       "      <td>NaN</td>\n",
       "      <td>NaN</td>\n",
       "      <td>NaN</td>\n",
       "      <td>NaN</td>\n",
       "      <td>NaN</td>\n",
       "      <td>NaN</td>\n",
       "      <td>neutral</td>\n",
       "      <td>2023-06-23 00:00:24</td>\n",
       "    </tr>\n",
       "    <tr>\n",
       "      <th>2</th>\n",
       "      <td>high</td>\n",
       "      <td>0</td>\n",
       "      <td>reducing alcohol consumption</td>\n",
       "      <td>2</td>\n",
       "      <td>therapist</td>\n",
       "      <td>00:00:25</td>\n",
       "      <td>So, let's see. It looks that you put-- You dri...</td>\n",
       "      <td>3</td>\n",
       "      <td>True</td>\n",
       "      <td>information</td>\n",
       "      <td>False</td>\n",
       "      <td>NaN</td>\n",
       "      <td>False</td>\n",
       "      <td>NaN</td>\n",
       "      <td>therapist_input</td>\n",
       "      <td>NaN</td>\n",
       "      <td>2023-06-23 00:00:25</td>\n",
       "    </tr>\n",
       "    <tr>\n",
       "      <th>3</th>\n",
       "      <td>high</td>\n",
       "      <td>0</td>\n",
       "      <td>reducing alcohol consumption</td>\n",
       "      <td>3</td>\n",
       "      <td>client</td>\n",
       "      <td>00:00:34</td>\n",
       "      <td>Mm-hmm.</td>\n",
       "      <td>3</td>\n",
       "      <td>NaN</td>\n",
       "      <td>NaN</td>\n",
       "      <td>NaN</td>\n",
       "      <td>NaN</td>\n",
       "      <td>NaN</td>\n",
       "      <td>NaN</td>\n",
       "      <td>NaN</td>\n",
       "      <td>neutral</td>\n",
       "      <td>2023-06-23 00:00:34</td>\n",
       "    </tr>\n",
       "    <tr>\n",
       "      <th>4</th>\n",
       "      <td>high</td>\n",
       "      <td>0</td>\n",
       "      <td>reducing alcohol consumption</td>\n",
       "      <td>4</td>\n",
       "      <td>therapist</td>\n",
       "      <td>00:00:34</td>\n",
       "      <td>-and you usually have three to four drinks whe...</td>\n",
       "      <td>3</td>\n",
       "      <td>True</td>\n",
       "      <td>information</td>\n",
       "      <td>False</td>\n",
       "      <td>NaN</td>\n",
       "      <td>False</td>\n",
       "      <td>NaN</td>\n",
       "      <td>therapist_input</td>\n",
       "      <td>NaN</td>\n",
       "      <td>2023-06-23 00:00:34</td>\n",
       "    </tr>\n",
       "  </tbody>\n",
       "</table>\n",
       "</div>"
      ],
      "text/plain": [
       "  mi_quality  transcript_id                         topic  utterance_id  \\\n",
       "0       high              0  reducing alcohol consumption             0   \n",
       "1       high              0  reducing alcohol consumption             1   \n",
       "2       high              0  reducing alcohol consumption             2   \n",
       "3       high              0  reducing alcohol consumption             3   \n",
       "4       high              0  reducing alcohol consumption             4   \n",
       "\n",
       "  interlocutor timestamp                                     utterance_text  \\\n",
       "0    therapist  00:00:13  Thanks for filling it out. We give this form t...   \n",
       "1       client  00:00:24                                              Sure.   \n",
       "2    therapist  00:00:25  So, let's see. It looks that you put-- You dri...   \n",
       "3       client  00:00:34                                            Mm-hmm.   \n",
       "4    therapist  00:00:34  -and you usually have three to four drinks whe...   \n",
       "\n",
       "   annotator_id therapist_input_exists therapist_input_subtype  \\\n",
       "0             3                  False                     NaN   \n",
       "1             3                    NaN                     NaN   \n",
       "2             3                   True             information   \n",
       "3             3                    NaN                     NaN   \n",
       "4             3                   True             information   \n",
       "\n",
       "  reflection_exists reflection_subtype question_exists question_subtype  \\\n",
       "0             False                NaN            True             open   \n",
       "1               NaN                NaN             NaN              NaN   \n",
       "2             False                NaN           False              NaN   \n",
       "3               NaN                NaN             NaN              NaN   \n",
       "4             False                NaN           False              NaN   \n",
       "\n",
       "  main_therapist_behaviour client_talk_type            datetime  \n",
       "0                 question              NaN 2023-06-23 00:00:13  \n",
       "1                      NaN          neutral 2023-06-23 00:00:24  \n",
       "2          therapist_input              NaN 2023-06-23 00:00:25  \n",
       "3                      NaN          neutral 2023-06-23 00:00:34  \n",
       "4          therapist_input              NaN 2023-06-23 00:00:34  "
      ]
     },
     "execution_count": 3,
     "metadata": {},
     "output_type": "execute_result"
    }
   ],
   "source": [
    "anno_mi = pd.read_csv(\"AnnoMI-full.csv\")\n",
    "anno_mi[\"datetime\"] = pd.to_datetime(anno_mi[\"timestamp\"])\n",
    "anno_mi = anno_mi.drop(columns=[\"video_title\", \"video_url\"])\n",
    "anno_mi.head()"
   ]
  },
  {
   "cell_type": "code",
   "execution_count": 4,
   "id": "720d820f",
   "metadata": {},
   "outputs": [
    {
     "data": {
      "text/plain": [
       "therapist    6826\n",
       "client       6725\n",
       "Name: interlocutor, dtype: int64"
      ]
     },
     "execution_count": 4,
     "metadata": {},
     "output_type": "execute_result"
    }
   ],
   "source": [
    "anno_mi[\"interlocutor\"].value_counts()"
   ]
  },
  {
   "cell_type": "code",
   "execution_count": 5,
   "id": "84d5594d",
   "metadata": {},
   "outputs": [
    {
     "data": {
      "text/plain": [
       "other              0.313947\n",
       "question           0.286258\n",
       "reflection         0.251538\n",
       "therapist_input    0.148257\n",
       "Name: main_therapist_behaviour, dtype: float64"
      ]
     },
     "execution_count": 5,
     "metadata": {},
     "output_type": "execute_result"
    }
   ],
   "source": [
    "anno_mi[\"main_therapist_behaviour\"].value_counts() / anno_mi[\"interlocutor\"].value_counts()[\"therapist\"]"
   ]
  },
  {
   "cell_type": "code",
   "execution_count": 6,
   "id": "44217a68",
   "metadata": {},
   "outputs": [
    {
     "data": {
      "text/plain": [
       "neutral    0.627063\n",
       "change     0.248030\n",
       "sustain    0.124907\n",
       "Name: client_talk_type, dtype: float64"
      ]
     },
     "execution_count": 6,
     "metadata": {},
     "output_type": "execute_result"
    }
   ],
   "source": [
    "anno_mi[\"client_talk_type\"].value_counts() / anno_mi[\"interlocutor\"].value_counts()[\"client\"]"
   ]
  },
  {
   "cell_type": "code",
   "execution_count": 7,
   "id": "367137a3",
   "metadata": {},
   "outputs": [
    {
     "data": {
      "text/plain": [
       "therapist    6826\n",
       "client       6725\n",
       "Name: interlocutor, dtype: int64"
      ]
     },
     "execution_count": 7,
     "metadata": {},
     "output_type": "execute_result"
    }
   ],
   "source": [
    "anno_mi[\"interlocutor\"].value_counts()"
   ]
  },
  {
   "cell_type": "code",
   "execution_count": 8,
   "id": "9a5a319f",
   "metadata": {
    "scrolled": false
   },
   "outputs": [
    {
     "data": {
      "text/plain": [
       "reducing alcohol consumption                                                          2326\n",
       "more exercise / increasing activity                                                   2034\n",
       "reducing recidivism                                                                   1303\n",
       "reducing drug use                                                                     1104\n",
       "diabetes management                                                                    948\n",
       "smoking cessation                                                                      923\n",
       "smoking cessation                                                                      541\n",
       "taking medicine / following medical procedure                                          448\n",
       "asthma management                                                                      431\n",
       "avoiding DOI                                                                           394\n",
       "changing approach to disease                                                           315\n",
       "reducing gambling                                                                      297\n",
       "weight loss                                                                            294\n",
       "unidentifiable                                                                         287\n",
       "smoking cessation; reducing alcohol consumption                                        254\n",
       "overcoming issues at school                                                            167\n",
       "compliance with rules                                                                  146\n",
       "supporting client to live in more alignment with her values                            133\n",
       "increasing activity; taking medicine / following medical procedure                     126\n",
       "better oral health                                                                      97\n",
       "managing life                                                                           86\n",
       "anxiety management                                                                      79\n",
       "more exercise / increasing activity; weight loss                                        66\n",
       "Being assertive with flatmate about moving out                                          62\n",
       "reducing drug use; following medical procedure                                          59\n",
       "taking steps towards getting help with day-care                                         57\n",
       "reducing alcohol consumption; safe sex                                                  55\n",
       "reducing self-harm                                                                      54\n",
       "reducing coffee consumption                                                             51\n",
       "increasing self-confidence                                                              50\n",
       "completion of community service                                                         46\n",
       "reducing violence                                                                       41\n",
       "diet; reducing alcohol consumption; diabetes management                                 40\n",
       "weight loss; diet                                                                       36\n",
       "birth control                                                                           36\n",
       "reducing alcohol consumption; compliance with rules                                     31\n",
       "charging battery                                                                        29\n",
       "diagnosis                                                                               21\n",
       "providing information on medicines                                                      19\n",
       "engaging in community activities                                                        17\n",
       "problem recognition                                                                     16\n",
       "opening up                                                                              15\n",
       "recognising success                                                                     11\n",
       "not getting into a car with someone who is under the influence of drugs or alcohol       6\n",
       "Name: topic, dtype: int64"
      ]
     },
     "execution_count": 8,
     "metadata": {},
     "output_type": "execute_result"
    }
   ],
   "source": [
    "anno_mi[\"topic\"].value_counts()"
   ]
  },
  {
   "cell_type": "code",
   "execution_count": 9,
   "id": "507f8a50",
   "metadata": {},
   "outputs": [
    {
     "data": {
      "text/plain": [
       "133"
      ]
     },
     "execution_count": 9,
     "metadata": {},
     "output_type": "execute_result"
    }
   ],
   "source": [
    "len(anno_mi[\"transcript_id\"].unique())"
   ]
  },
  {
   "attachments": {},
   "cell_type": "markdown",
   "id": "d31003be",
   "metadata": {},
   "source": [
    "## Only considering client for now..."
   ]
  },
  {
   "cell_type": "code",
   "execution_count": 10,
   "id": "a5a752a9",
   "metadata": {},
   "outputs": [
    {
     "data": {
      "text/plain": [
       "6725"
      ]
     },
     "execution_count": 10,
     "metadata": {},
     "output_type": "execute_result"
    }
   ],
   "source": [
    "client_index = [isinstance(x, str) for x in anno_mi[\"client_talk_type\"]]\n",
    "sum(client_index)"
   ]
  },
  {
   "cell_type": "code",
   "execution_count": 11,
   "id": "1a84179e",
   "metadata": {},
   "outputs": [
    {
     "data": {
      "text/plain": [
       "(6725,)"
      ]
     },
     "execution_count": 11,
     "metadata": {},
     "output_type": "execute_result"
    }
   ],
   "source": [
    "y_data = anno_mi[\"client_talk_type\"][client_index]\n",
    "y_data.shape"
   ]
  },
  {
   "cell_type": "code",
   "execution_count": 12,
   "id": "7b8bd903",
   "metadata": {},
   "outputs": [],
   "source": [
    "label_to_id = {y_data.unique()[i]: i for i in range(len(y_data.unique()))}\n",
    "id_to_label = {v: k for k, v in label_to_id.items()}"
   ]
  },
  {
   "cell_type": "code",
   "execution_count": 13,
   "id": "e46018b4",
   "metadata": {},
   "outputs": [],
   "source": [
    "y_data = [label_to_id[x] for x in y_data]"
   ]
  },
  {
   "cell_type": "code",
   "execution_count": 14,
   "id": "30c4b24d",
   "metadata": {},
   "outputs": [
    {
     "data": {
      "text/plain": [
       "3"
      ]
     },
     "execution_count": 14,
     "metadata": {},
     "output_type": "execute_result"
    }
   ],
   "source": [
    "output_dim = len(label_to_id.values())\n",
    "output_dim"
   ]
  },
  {
   "attachments": {},
   "cell_type": "markdown",
   "id": "07a35e43",
   "metadata": {},
   "source": [
    "## Obtaining SBERT Embeddings\n",
    "\n",
    "We can use the `SentenceEncoder` class within `nlpsig` to obtain sentence embeddings from a model. This class uses the [`sentence-transformer`](https://www.sbert.net/docs/package_reference/SentenceTransformer.html) package and here, we have use the pre-trained `all-MiniLM-L12-v2` model by passing this name as a string to the class - alternative models can be found [here](https://www.sbert.net/docs/pretrained_models.html).\n",
    "\n",
    "We can pass our dataframe and the column name which stores the sentences that we wish to encode along with the model name into the constructor of the class to initialise our sentence encoder as follows:"
   ]
  },
  {
   "cell_type": "code",
   "execution_count": 15,
   "id": "1c672e12",
   "metadata": {},
   "outputs": [],
   "source": [
    "sbert_embeddings = np.load(f\"{output_dir}/anno_mi_client_sentence_embeddings_384.npy\")"
   ]
  },
  {
   "attachments": {},
   "cell_type": "markdown",
   "id": "c2abe298",
   "metadata": {},
   "source": [
    "## LSTM baseline"
   ]
  },
  {
   "cell_type": "code",
   "execution_count": 16,
   "id": "64e2f8d8",
   "metadata": {},
   "outputs": [],
   "source": [
    "num_epochs = 100\n",
    "hidden_dim_sizes = [200, 300]\n",
    "num_layers = 1\n",
    "bidirectional = True\n",
    "dropout_rates = [0.5, 0.2, 0.1]\n",
    "learning_rates = [1e-3, 1e-4, 5e-4]\n",
    "seeds = [0, 1, 12, 123, 1234]\n",
    "loss = \"focal\"\n",
    "gamma = 2\n",
    "validation_metric = \"f1\""
   ]
  },
  {
   "cell_type": "code",
   "execution_count": 17,
   "id": "d69d5995",
   "metadata": {},
   "outputs": [
    {
     "data": {
      "application/vnd.jupyter.widget-view+json": {
       "model_id": "765ea0f945374ad48a277fd78fab08ee",
       "version_major": 2,
       "version_minor": 0
      },
      "text/plain": [
       "  0%|          | 0/1 [00:00<?, ?it/s]"
      ]
     },
     "metadata": {},
     "output_type": "display_data"
    },
    {
     "name": "stdout",
     "output_type": "stream",
     "text": [
      "[INFO] Concatenating the embeddings to the dataframe...\n",
      "[INFO] - columns beginning with 'e' denote the full embddings.\n",
      "[INFO] Adding time feature columns into dataframe in `.df`.\n",
      "[INFO] Adding 'time_encoding' and feature...\n",
      "[INFO] Adding 'time_diff' and feature...\n",
      "[INFO] Adding 'timeline_index' feature...\n",
      "[INFO] Padding ids and storing in `.df_padded` and `.array_padded` attributes.\n"
     ]
    },
    {
     "data": {
      "application/vnd.jupyter.widget-view+json": {
       "model_id": "7c4558c3eae74d59956e19e85e536d50",
       "version_major": 2,
       "version_minor": 0
      },
      "text/plain": [
       "  0%|          | 0/13551 [00:00<?, ?it/s]"
      ]
     },
     "metadata": {},
     "output_type": "display_data"
    },
    {
     "data": {
      "application/vnd.jupyter.widget-view+json": {
       "model_id": "02519f7176ab41c1b2f48b8f9ecef9a7",
       "version_major": 2,
       "version_minor": 0
      },
      "text/plain": [
       "  0%|          | 0/2 [00:00<?, ?it/s]"
      ]
     },
     "metadata": {},
     "output_type": "display_data"
    },
    {
     "data": {
      "application/vnd.jupyter.widget-view+json": {
       "model_id": "0fc2638f1a074b69b4cdc503414972d7",
       "version_major": 2,
       "version_minor": 0
      },
      "text/plain": [
       "  0%|          | 0/3 [00:00<?, ?it/s]"
      ]
     },
     "metadata": {},
     "output_type": "display_data"
    },
    {
     "data": {
      "application/vnd.jupyter.widget-view+json": {
       "model_id": "9f806ea52814461198ae9a2bea45f98e",
       "version_major": 2,
       "version_minor": 0
      },
      "text/plain": [
       "  0%|          | 0/3 [00:00<?, ?it/s]"
      ]
     },
     "metadata": {},
     "output_type": "display_data"
    },
    {
     "data": {
      "application/vnd.jupyter.widget-view+json": {
       "model_id": "91dc8614629f487ca35230b04d270692",
       "version_major": 2,
       "version_minor": 0
      },
      "text/plain": [
       "  0%|          | 0/3 [00:00<?, ?it/s]"
      ]
     },
     "metadata": {},
     "output_type": "display_data"
    },
    {
     "data": {
      "application/vnd.jupyter.widget-view+json": {
       "model_id": "b7b5e0ed1b8f441daa1acfce31078258",
       "version_major": 2,
       "version_minor": 0
      },
      "text/plain": [
       "  0%|          | 0/3 [00:00<?, ?it/s]"
      ]
     },
     "metadata": {},
     "output_type": "display_data"
    },
    {
     "data": {
      "application/vnd.jupyter.widget-view+json": {
       "model_id": "597484649324475890067968b459703e",
       "version_major": 2,
       "version_minor": 0
      },
      "text/plain": [
       "  0%|          | 0/3 [00:00<?, ?it/s]"
      ]
     },
     "metadata": {},
     "output_type": "display_data"
    },
    {
     "data": {
      "application/vnd.jupyter.widget-view+json": {
       "model_id": "d6ad75ac74244664bf36ff2dc90427c6",
       "version_major": 2,
       "version_minor": 0
      },
      "text/plain": [
       "  0%|          | 0/3 [00:00<?, ?it/s]"
      ]
     },
     "metadata": {},
     "output_type": "display_data"
    },
    {
     "data": {
      "application/vnd.jupyter.widget-view+json": {
       "model_id": "a6a0e54fc19c4977aa093dd04e0bcea8",
       "version_major": 2,
       "version_minor": 0
      },
      "text/plain": [
       "  0%|          | 0/3 [00:00<?, ?it/s]"
      ]
     },
     "metadata": {},
     "output_type": "display_data"
    },
    {
     "data": {
      "application/vnd.jupyter.widget-view+json": {
       "model_id": "e2238d2806c7461b8c1fc03d903b2eff",
       "version_major": 2,
       "version_minor": 0
      },
      "text/plain": [
       "  0%|          | 0/3 [00:00<?, ?it/s]"
      ]
     },
     "metadata": {},
     "output_type": "display_data"
    },
    {
     "name": "stdout",
     "output_type": "stream",
     "text": [
      "saving results dataframe to CSV for this hyperparameter search in client_talk_type/lstm_history_20_focal_2.csv\n",
      "saving the best model results dataframe to CSV for this hyperparameter search in client_talk_type/lstm_history_20_focal_2_best_model.csv\n"
     ]
    }
   ],
   "source": [
    "size = 20\n",
    "lstm_history, best_lstm_history, _, __ = lstm_hyperparameter_search(\n",
    "    num_epochs=num_epochs,\n",
    "    df=anno_mi,\n",
    "    id_column=\"transcript_id\",\n",
    "    label_column=\"client_talk_type\",\n",
    "    embeddings=sbert_embeddings,\n",
    "    y_data=y_data,\n",
    "    window_sizes=[size],\n",
    "    hidden_dim_sizes=hidden_dim_sizes,\n",
    "    num_layers=num_layers,\n",
    "    bidirectional=bidirectional,\n",
    "    output_dim=output_dim,\n",
    "    dropout_rates=dropout_rates,\n",
    "    learning_rates=learning_rates,\n",
    "    seeds=seeds,\n",
    "    loss=loss,\n",
    "    gamma=gamma,\n",
    "    path_indices=client_index,\n",
    "    k_fold=True,\n",
    "    validation_metric=validation_metric,\n",
    "    results_output=f\"{output_dir}/lstm_history_{size}_focal_{gamma}.csv\",\n",
    "    verbose=False\n",
    ")"
   ]
  },
  {
   "cell_type": "code",
   "execution_count": 26,
   "id": "dac3ab97",
   "metadata": {},
   "outputs": [
    {
     "data": {
      "text/html": [
       "<div>\n",
       "<style scoped>\n",
       "    .dataframe tbody tr th:only-of-type {\n",
       "        vertical-align: middle;\n",
       "    }\n",
       "\n",
       "    .dataframe tbody tr th {\n",
       "        vertical-align: top;\n",
       "    }\n",
       "\n",
       "    .dataframe thead th {\n",
       "        text-align: right;\n",
       "    }\n",
       "</style>\n",
       "<table border=\"1\" class=\"dataframe\">\n",
       "  <thead>\n",
       "    <tr style=\"text-align: right;\">\n",
       "      <th></th>\n",
       "      <th>loss</th>\n",
       "      <th>accuracy</th>\n",
       "      <th>f1</th>\n",
       "      <th>f1_scores</th>\n",
       "      <th>valid_loss</th>\n",
       "      <th>valid_accuracy</th>\n",
       "      <th>valid_f1</th>\n",
       "      <th>valid_f1_scores</th>\n",
       "      <th>k</th>\n",
       "      <th>num_layers</th>\n",
       "      <th>bidirectional</th>\n",
       "      <th>hidden_dim</th>\n",
       "      <th>dropout_rate</th>\n",
       "      <th>learning_rate</th>\n",
       "      <th>seed</th>\n",
       "      <th>gamma</th>\n",
       "      <th>k_fold</th>\n",
       "      <th>model_id</th>\n",
       "    </tr>\n",
       "  </thead>\n",
       "  <tbody>\n",
       "    <tr>\n",
       "      <th>0</th>\n",
       "      <td>focal</td>\n",
       "      <td>0.595390</td>\n",
       "      <td>0.469591</td>\n",
       "      <td>[0.7165205813824476, 0.35767195767195764, 0.33...</td>\n",
       "      <td>None</td>\n",
       "      <td>0.595390</td>\n",
       "      <td>0.469591</td>\n",
       "      <td>[0.7165205813824476, 0.35767195767195764, 0.33...</td>\n",
       "      <td>20</td>\n",
       "      <td>1</td>\n",
       "      <td>True</td>\n",
       "      <td>200</td>\n",
       "      <td>0.5</td>\n",
       "      <td>0.0010</td>\n",
       "      <td>0</td>\n",
       "      <td>2</td>\n",
       "      <td>True</td>\n",
       "      <td>0</td>\n",
       "    </tr>\n",
       "    <tr>\n",
       "      <th>0</th>\n",
       "      <td>focal</td>\n",
       "      <td>0.602677</td>\n",
       "      <td>0.483219</td>\n",
       "      <td>[0.7221850613154961, 0.3624113475177305, 0.365...</td>\n",
       "      <td>None</td>\n",
       "      <td>0.602677</td>\n",
       "      <td>0.483219</td>\n",
       "      <td>[0.7221850613154961, 0.3624113475177305, 0.365...</td>\n",
       "      <td>20</td>\n",
       "      <td>1</td>\n",
       "      <td>True</td>\n",
       "      <td>200</td>\n",
       "      <td>0.5</td>\n",
       "      <td>0.0010</td>\n",
       "      <td>1</td>\n",
       "      <td>2</td>\n",
       "      <td>True</td>\n",
       "      <td>0</td>\n",
       "    </tr>\n",
       "    <tr>\n",
       "      <th>0</th>\n",
       "      <td>focal</td>\n",
       "      <td>0.598662</td>\n",
       "      <td>0.464955</td>\n",
       "      <td>[0.7225395430579965, 0.3476990504017531, 0.324...</td>\n",
       "      <td>None</td>\n",
       "      <td>0.598662</td>\n",
       "      <td>0.464955</td>\n",
       "      <td>[0.7225395430579965, 0.3476990504017531, 0.324...</td>\n",
       "      <td>20</td>\n",
       "      <td>1</td>\n",
       "      <td>True</td>\n",
       "      <td>200</td>\n",
       "      <td>0.5</td>\n",
       "      <td>0.0010</td>\n",
       "      <td>12</td>\n",
       "      <td>2</td>\n",
       "      <td>True</td>\n",
       "      <td>0</td>\n",
       "    </tr>\n",
       "    <tr>\n",
       "      <th>0</th>\n",
       "      <td>focal</td>\n",
       "      <td>0.604907</td>\n",
       "      <td>0.493479</td>\n",
       "      <td>[0.7198280737473136, 0.3936486933509758, 0.366...</td>\n",
       "      <td>None</td>\n",
       "      <td>0.604907</td>\n",
       "      <td>0.493479</td>\n",
       "      <td>[0.7198280737473136, 0.3936486933509758, 0.366...</td>\n",
       "      <td>20</td>\n",
       "      <td>1</td>\n",
       "      <td>True</td>\n",
       "      <td>200</td>\n",
       "      <td>0.5</td>\n",
       "      <td>0.0010</td>\n",
       "      <td>123</td>\n",
       "      <td>2</td>\n",
       "      <td>True</td>\n",
       "      <td>0</td>\n",
       "    </tr>\n",
       "    <tr>\n",
       "      <th>0</th>\n",
       "      <td>focal</td>\n",
       "      <td>0.607732</td>\n",
       "      <td>0.474183</td>\n",
       "      <td>[0.7274320771253286, 0.3717630365377793, 0.323...</td>\n",
       "      <td>None</td>\n",
       "      <td>0.607732</td>\n",
       "      <td>0.474183</td>\n",
       "      <td>[0.7274320771253286, 0.3717630365377793, 0.323...</td>\n",
       "      <td>20</td>\n",
       "      <td>1</td>\n",
       "      <td>True</td>\n",
       "      <td>200</td>\n",
       "      <td>0.5</td>\n",
       "      <td>0.0010</td>\n",
       "      <td>1234</td>\n",
       "      <td>2</td>\n",
       "      <td>True</td>\n",
       "      <td>0</td>\n",
       "    </tr>\n",
       "    <tr>\n",
       "      <th>...</th>\n",
       "      <td>...</td>\n",
       "      <td>...</td>\n",
       "      <td>...</td>\n",
       "      <td>...</td>\n",
       "      <td>...</td>\n",
       "      <td>...</td>\n",
       "      <td>...</td>\n",
       "      <td>...</td>\n",
       "      <td>...</td>\n",
       "      <td>...</td>\n",
       "      <td>...</td>\n",
       "      <td>...</td>\n",
       "      <td>...</td>\n",
       "      <td>...</td>\n",
       "      <td>...</td>\n",
       "      <td>...</td>\n",
       "      <td>...</td>\n",
       "      <td>...</td>\n",
       "    </tr>\n",
       "    <tr>\n",
       "      <th>0</th>\n",
       "      <td>focal</td>\n",
       "      <td>0.591078</td>\n",
       "      <td>0.466776</td>\n",
       "      <td>[0.7131175086815279, 0.36548913043478265, 0.32...</td>\n",
       "      <td>None</td>\n",
       "      <td>0.591078</td>\n",
       "      <td>0.466776</td>\n",
       "      <td>[0.7131175086815279, 0.36548913043478265, 0.32...</td>\n",
       "      <td>20</td>\n",
       "      <td>1</td>\n",
       "      <td>True</td>\n",
       "      <td>300</td>\n",
       "      <td>0.1</td>\n",
       "      <td>0.0005</td>\n",
       "      <td>0</td>\n",
       "      <td>2</td>\n",
       "      <td>True</td>\n",
       "      <td>17</td>\n",
       "    </tr>\n",
       "    <tr>\n",
       "      <th>0</th>\n",
       "      <td>focal</td>\n",
       "      <td>0.586468</td>\n",
       "      <td>0.465507</td>\n",
       "      <td>[0.7077026572485704, 0.3559033684926846, 0.332...</td>\n",
       "      <td>None</td>\n",
       "      <td>0.586468</td>\n",
       "      <td>0.465507</td>\n",
       "      <td>[0.7077026572485704, 0.3559033684926846, 0.332...</td>\n",
       "      <td>20</td>\n",
       "      <td>1</td>\n",
       "      <td>True</td>\n",
       "      <td>300</td>\n",
       "      <td>0.1</td>\n",
       "      <td>0.0005</td>\n",
       "      <td>1</td>\n",
       "      <td>2</td>\n",
       "      <td>True</td>\n",
       "      <td>17</td>\n",
       "    </tr>\n",
       "    <tr>\n",
       "      <th>0</th>\n",
       "      <td>focal</td>\n",
       "      <td>0.591078</td>\n",
       "      <td>0.473001</td>\n",
       "      <td>[0.7128802442609974, 0.36794048021643555, 0.33...</td>\n",
       "      <td>None</td>\n",
       "      <td>0.591078</td>\n",
       "      <td>0.473001</td>\n",
       "      <td>[0.7128802442609974, 0.36794048021643555, 0.33...</td>\n",
       "      <td>20</td>\n",
       "      <td>1</td>\n",
       "      <td>True</td>\n",
       "      <td>300</td>\n",
       "      <td>0.1</td>\n",
       "      <td>0.0005</td>\n",
       "      <td>12</td>\n",
       "      <td>2</td>\n",
       "      <td>True</td>\n",
       "      <td>17</td>\n",
       "    </tr>\n",
       "    <tr>\n",
       "      <th>0</th>\n",
       "      <td>focal</td>\n",
       "      <td>0.600149</td>\n",
       "      <td>0.473570</td>\n",
       "      <td>[0.7203455532174105, 0.36509040333796944, 0.33...</td>\n",
       "      <td>None</td>\n",
       "      <td>0.600149</td>\n",
       "      <td>0.473570</td>\n",
       "      <td>[0.7203455532174105, 0.36509040333796944, 0.33...</td>\n",
       "      <td>20</td>\n",
       "      <td>1</td>\n",
       "      <td>True</td>\n",
       "      <td>300</td>\n",
       "      <td>0.1</td>\n",
       "      <td>0.0005</td>\n",
       "      <td>123</td>\n",
       "      <td>2</td>\n",
       "      <td>True</td>\n",
       "      <td>17</td>\n",
       "    </tr>\n",
       "    <tr>\n",
       "      <th>0</th>\n",
       "      <td>focal</td>\n",
       "      <td>0.589145</td>\n",
       "      <td>0.469512</td>\n",
       "      <td>[0.710158013544018, 0.3689064558629776, 0.3294...</td>\n",
       "      <td>None</td>\n",
       "      <td>0.589145</td>\n",
       "      <td>0.469512</td>\n",
       "      <td>[0.710158013544018, 0.3689064558629776, 0.3294...</td>\n",
       "      <td>20</td>\n",
       "      <td>1</td>\n",
       "      <td>True</td>\n",
       "      <td>300</td>\n",
       "      <td>0.1</td>\n",
       "      <td>0.0005</td>\n",
       "      <td>1234</td>\n",
       "      <td>2</td>\n",
       "      <td>True</td>\n",
       "      <td>17</td>\n",
       "    </tr>\n",
       "  </tbody>\n",
       "</table>\n",
       "<p>90 rows × 18 columns</p>\n",
       "</div>"
      ],
      "text/plain": [
       "     loss  accuracy        f1  \\\n",
       "0   focal  0.595390  0.469591   \n",
       "0   focal  0.602677  0.483219   \n",
       "0   focal  0.598662  0.464955   \n",
       "0   focal  0.604907  0.493479   \n",
       "0   focal  0.607732  0.474183   \n",
       "..    ...       ...       ...   \n",
       "0   focal  0.591078  0.466776   \n",
       "0   focal  0.586468  0.465507   \n",
       "0   focal  0.591078  0.473001   \n",
       "0   focal  0.600149  0.473570   \n",
       "0   focal  0.589145  0.469512   \n",
       "\n",
       "                                            f1_scores valid_loss  \\\n",
       "0   [0.7165205813824476, 0.35767195767195764, 0.33...       None   \n",
       "0   [0.7221850613154961, 0.3624113475177305, 0.365...       None   \n",
       "0   [0.7225395430579965, 0.3476990504017531, 0.324...       None   \n",
       "0   [0.7198280737473136, 0.3936486933509758, 0.366...       None   \n",
       "0   [0.7274320771253286, 0.3717630365377793, 0.323...       None   \n",
       "..                                                ...        ...   \n",
       "0   [0.7131175086815279, 0.36548913043478265, 0.32...       None   \n",
       "0   [0.7077026572485704, 0.3559033684926846, 0.332...       None   \n",
       "0   [0.7128802442609974, 0.36794048021643555, 0.33...       None   \n",
       "0   [0.7203455532174105, 0.36509040333796944, 0.33...       None   \n",
       "0   [0.710158013544018, 0.3689064558629776, 0.3294...       None   \n",
       "\n",
       "    valid_accuracy  valid_f1  \\\n",
       "0         0.595390  0.469591   \n",
       "0         0.602677  0.483219   \n",
       "0         0.598662  0.464955   \n",
       "0         0.604907  0.493479   \n",
       "0         0.607732  0.474183   \n",
       "..             ...       ...   \n",
       "0         0.591078  0.466776   \n",
       "0         0.586468  0.465507   \n",
       "0         0.591078  0.473001   \n",
       "0         0.600149  0.473570   \n",
       "0         0.589145  0.469512   \n",
       "\n",
       "                                      valid_f1_scores   k  num_layers  \\\n",
       "0   [0.7165205813824476, 0.35767195767195764, 0.33...  20           1   \n",
       "0   [0.7221850613154961, 0.3624113475177305, 0.365...  20           1   \n",
       "0   [0.7225395430579965, 0.3476990504017531, 0.324...  20           1   \n",
       "0   [0.7198280737473136, 0.3936486933509758, 0.366...  20           1   \n",
       "0   [0.7274320771253286, 0.3717630365377793, 0.323...  20           1   \n",
       "..                                                ...  ..         ...   \n",
       "0   [0.7131175086815279, 0.36548913043478265, 0.32...  20           1   \n",
       "0   [0.7077026572485704, 0.3559033684926846, 0.332...  20           1   \n",
       "0   [0.7128802442609974, 0.36794048021643555, 0.33...  20           1   \n",
       "0   [0.7203455532174105, 0.36509040333796944, 0.33...  20           1   \n",
       "0   [0.710158013544018, 0.3689064558629776, 0.3294...  20           1   \n",
       "\n",
       "    bidirectional  hidden_dim  dropout_rate  learning_rate  seed  gamma  \\\n",
       "0            True         200           0.5         0.0010     0      2   \n",
       "0            True         200           0.5         0.0010     1      2   \n",
       "0            True         200           0.5         0.0010    12      2   \n",
       "0            True         200           0.5         0.0010   123      2   \n",
       "0            True         200           0.5         0.0010  1234      2   \n",
       "..            ...         ...           ...            ...   ...    ...   \n",
       "0            True         300           0.1         0.0005     0      2   \n",
       "0            True         300           0.1         0.0005     1      2   \n",
       "0            True         300           0.1         0.0005    12      2   \n",
       "0            True         300           0.1         0.0005   123      2   \n",
       "0            True         300           0.1         0.0005  1234      2   \n",
       "\n",
       "    k_fold  model_id  \n",
       "0     True         0  \n",
       "0     True         0  \n",
       "0     True         0  \n",
       "0     True         0  \n",
       "0     True         0  \n",
       "..     ...       ...  \n",
       "0     True        17  \n",
       "0     True        17  \n",
       "0     True        17  \n",
       "0     True        17  \n",
       "0     True        17  \n",
       "\n",
       "[90 rows x 18 columns]"
      ]
     },
     "execution_count": 26,
     "metadata": {},
     "output_type": "execute_result"
    }
   ],
   "source": [
    "lstm_history"
   ]
  },
  {
   "cell_type": "code",
   "execution_count": 21,
   "id": "d9e2166d",
   "metadata": {},
   "outputs": [
    {
     "data": {
      "text/html": [
       "<div>\n",
       "<style scoped>\n",
       "    .dataframe tbody tr th:only-of-type {\n",
       "        vertical-align: middle;\n",
       "    }\n",
       "\n",
       "    .dataframe tbody tr th {\n",
       "        vertical-align: top;\n",
       "    }\n",
       "\n",
       "    .dataframe thead th {\n",
       "        text-align: right;\n",
       "    }\n",
       "</style>\n",
       "<table border=\"1\" class=\"dataframe\">\n",
       "  <thead>\n",
       "    <tr style=\"text-align: right;\">\n",
       "      <th></th>\n",
       "      <th>loss</th>\n",
       "      <th>accuracy</th>\n",
       "      <th>f1</th>\n",
       "      <th>f1_scores</th>\n",
       "      <th>valid_loss</th>\n",
       "      <th>valid_accuracy</th>\n",
       "      <th>valid_f1</th>\n",
       "      <th>valid_f1_scores</th>\n",
       "      <th>num_layers</th>\n",
       "      <th>bidirectional</th>\n",
       "      <th>hidden_dim</th>\n",
       "      <th>dropout_rate</th>\n",
       "      <th>learning_rate</th>\n",
       "      <th>seed</th>\n",
       "      <th>gamma</th>\n",
       "      <th>k_fold</th>\n",
       "    </tr>\n",
       "  </thead>\n",
       "  <tbody>\n",
       "    <tr>\n",
       "      <th>0</th>\n",
       "      <td>focal</td>\n",
       "      <td>0.584833</td>\n",
       "      <td>0.493681</td>\n",
       "      <td>[0.6924899312959015, 0.42083333333333334, 0.36...</td>\n",
       "      <td>None</td>\n",
       "      <td>0.584833</td>\n",
       "      <td>0.493681</td>\n",
       "      <td>[0.6924899312959015, 0.42083333333333334, 0.36...</td>\n",
       "      <td>1</td>\n",
       "      <td>True</td>\n",
       "      <td>200</td>\n",
       "      <td>0.5</td>\n",
       "      <td>0.0005</td>\n",
       "      <td>0</td>\n",
       "      <td>2</td>\n",
       "      <td>True</td>\n",
       "    </tr>\n",
       "    <tr>\n",
       "      <th>0</th>\n",
       "      <td>focal</td>\n",
       "      <td>0.590929</td>\n",
       "      <td>0.481947</td>\n",
       "      <td>[0.7059092467710596, 0.39210611452604344, 0.34...</td>\n",
       "      <td>None</td>\n",
       "      <td>0.590929</td>\n",
       "      <td>0.481947</td>\n",
       "      <td>[0.7059092467710596, 0.39210611452604344, 0.34...</td>\n",
       "      <td>1</td>\n",
       "      <td>True</td>\n",
       "      <td>200</td>\n",
       "      <td>0.5</td>\n",
       "      <td>0.0005</td>\n",
       "      <td>1</td>\n",
       "      <td>2</td>\n",
       "      <td>True</td>\n",
       "    </tr>\n",
       "    <tr>\n",
       "      <th>0</th>\n",
       "      <td>focal</td>\n",
       "      <td>0.593309</td>\n",
       "      <td>0.486329</td>\n",
       "      <td>[0.7081604426002767, 0.40250391236306726, 0.34...</td>\n",
       "      <td>None</td>\n",
       "      <td>0.593309</td>\n",
       "      <td>0.486329</td>\n",
       "      <td>[0.7081604426002767, 0.40250391236306726, 0.34...</td>\n",
       "      <td>1</td>\n",
       "      <td>True</td>\n",
       "      <td>200</td>\n",
       "      <td>0.5</td>\n",
       "      <td>0.0005</td>\n",
       "      <td>12</td>\n",
       "      <td>2</td>\n",
       "      <td>True</td>\n",
       "    </tr>\n",
       "    <tr>\n",
       "      <th>0</th>\n",
       "      <td>focal</td>\n",
       "      <td>0.597323</td>\n",
       "      <td>0.477945</td>\n",
       "      <td>[0.7161434977578475, 0.3735224586288416, 0.344...</td>\n",
       "      <td>None</td>\n",
       "      <td>0.597323</td>\n",
       "      <td>0.477945</td>\n",
       "      <td>[0.7161434977578475, 0.3735224586288416, 0.344...</td>\n",
       "      <td>1</td>\n",
       "      <td>True</td>\n",
       "      <td>200</td>\n",
       "      <td>0.5</td>\n",
       "      <td>0.0005</td>\n",
       "      <td>123</td>\n",
       "      <td>2</td>\n",
       "      <td>True</td>\n",
       "    </tr>\n",
       "    <tr>\n",
       "      <th>0</th>\n",
       "      <td>focal</td>\n",
       "      <td>0.607138</td>\n",
       "      <td>0.487799</td>\n",
       "      <td>[0.7231095722104321, 0.3880597014925373, 0.352...</td>\n",
       "      <td>None</td>\n",
       "      <td>0.607138</td>\n",
       "      <td>0.487799</td>\n",
       "      <td>[0.7231095722104321, 0.3880597014925373, 0.352...</td>\n",
       "      <td>1</td>\n",
       "      <td>True</td>\n",
       "      <td>200</td>\n",
       "      <td>0.5</td>\n",
       "      <td>0.0005</td>\n",
       "      <td>1234</td>\n",
       "      <td>2</td>\n",
       "      <td>True</td>\n",
       "    </tr>\n",
       "  </tbody>\n",
       "</table>\n",
       "</div>"
      ],
      "text/plain": [
       "    loss  accuracy        f1  \\\n",
       "0  focal  0.584833  0.493681   \n",
       "0  focal  0.590929  0.481947   \n",
       "0  focal  0.593309  0.486329   \n",
       "0  focal  0.597323  0.477945   \n",
       "0  focal  0.607138  0.487799   \n",
       "\n",
       "                                           f1_scores valid_loss  \\\n",
       "0  [0.6924899312959015, 0.42083333333333334, 0.36...       None   \n",
       "0  [0.7059092467710596, 0.39210611452604344, 0.34...       None   \n",
       "0  [0.7081604426002767, 0.40250391236306726, 0.34...       None   \n",
       "0  [0.7161434977578475, 0.3735224586288416, 0.344...       None   \n",
       "0  [0.7231095722104321, 0.3880597014925373, 0.352...       None   \n",
       "\n",
       "   valid_accuracy  valid_f1  \\\n",
       "0        0.584833  0.493681   \n",
       "0        0.590929  0.481947   \n",
       "0        0.593309  0.486329   \n",
       "0        0.597323  0.477945   \n",
       "0        0.607138  0.487799   \n",
       "\n",
       "                                     valid_f1_scores  num_layers  \\\n",
       "0  [0.6924899312959015, 0.42083333333333334, 0.36...           1   \n",
       "0  [0.7059092467710596, 0.39210611452604344, 0.34...           1   \n",
       "0  [0.7081604426002767, 0.40250391236306726, 0.34...           1   \n",
       "0  [0.7161434977578475, 0.3735224586288416, 0.344...           1   \n",
       "0  [0.7231095722104321, 0.3880597014925373, 0.352...           1   \n",
       "\n",
       "   bidirectional  hidden_dim  dropout_rate  learning_rate  seed  gamma  k_fold  \n",
       "0           True         200           0.5         0.0005     0      2    True  \n",
       "0           True         200           0.5         0.0005     1      2    True  \n",
       "0           True         200           0.5         0.0005    12      2    True  \n",
       "0           True         200           0.5         0.0005   123      2    True  \n",
       "0           True         200           0.5         0.0005  1234      2    True  "
      ]
     },
     "execution_count": 21,
     "metadata": {},
     "output_type": "execute_result"
    }
   ],
   "source": [
    "best_lstm_history"
   ]
  },
  {
   "cell_type": "code",
   "execution_count": 18,
   "id": "45f86869",
   "metadata": {},
   "outputs": [
    {
     "data": {
      "text/plain": [
       "0.48553996318887094"
      ]
     },
     "execution_count": 18,
     "metadata": {},
     "output_type": "execute_result"
    }
   ],
   "source": [
    "best_lstm_history[\"f1\"].mean()"
   ]
  },
  {
   "cell_type": "code",
   "execution_count": 19,
   "id": "a4e81fc8",
   "metadata": {},
   "outputs": [
    {
     "data": {
      "text/plain": [
       "array([0.70916254, 0.3954051 , 0.35205225])"
      ]
     },
     "execution_count": 19,
     "metadata": {},
     "output_type": "execute_result"
    }
   ],
   "source": [
    "np.stack(best_lstm_history[\"f1_scores\"]).mean(axis=0)"
   ]
  },
  {
   "cell_type": "code",
   "execution_count": 27,
   "id": "53a3dcb8",
   "metadata": {},
   "outputs": [
    {
     "data": {
      "application/vnd.jupyter.widget-view+json": {
       "model_id": "5e733fbbfab943928b8de789f9dd2c8b",
       "version_major": 2,
       "version_minor": 0
      },
      "text/plain": [
       "  0%|          | 0/1 [00:00<?, ?it/s]"
      ]
     },
     "metadata": {},
     "output_type": "display_data"
    },
    {
     "name": "stdout",
     "output_type": "stream",
     "text": [
      "[INFO] Concatenating the embeddings to the dataframe...\n",
      "[INFO] - columns beginning with 'e' denote the full embddings.\n",
      "[INFO] Adding time feature columns into dataframe in `.df`.\n",
      "[INFO] Adding 'time_encoding' and feature...\n",
      "[INFO] Adding 'time_diff' and feature...\n",
      "[INFO] Adding 'timeline_index' feature...\n",
      "[INFO] Padding ids and storing in `.df_padded` and `.array_padded` attributes.\n"
     ]
    },
    {
     "data": {
      "application/vnd.jupyter.widget-view+json": {
       "model_id": "ccd4d1d816564758a64cc68943c60aef",
       "version_major": 2,
       "version_minor": 0
      },
      "text/plain": [
       "  0%|          | 0/13551 [00:00<?, ?it/s]"
      ]
     },
     "metadata": {},
     "output_type": "display_data"
    },
    {
     "data": {
      "application/vnd.jupyter.widget-view+json": {
       "model_id": "ac44ceafe0c648cb9d0a869e8dacaa98",
       "version_major": 2,
       "version_minor": 0
      },
      "text/plain": [
       "  0%|          | 0/2 [00:00<?, ?it/s]"
      ]
     },
     "metadata": {},
     "output_type": "display_data"
    },
    {
     "data": {
      "application/vnd.jupyter.widget-view+json": {
       "model_id": "4e884df76cb34f43b7ef36471f80f44f",
       "version_major": 2,
       "version_minor": 0
      },
      "text/plain": [
       "  0%|          | 0/3 [00:00<?, ?it/s]"
      ]
     },
     "metadata": {},
     "output_type": "display_data"
    },
    {
     "data": {
      "application/vnd.jupyter.widget-view+json": {
       "model_id": "cdc1f3dfde154802bff1caa30de6edd5",
       "version_major": 2,
       "version_minor": 0
      },
      "text/plain": [
       "  0%|          | 0/3 [00:00<?, ?it/s]"
      ]
     },
     "metadata": {},
     "output_type": "display_data"
    },
    {
     "data": {
      "application/vnd.jupyter.widget-view+json": {
       "model_id": "582c43e02b2d4df7ae97b9e783abc74d",
       "version_major": 2,
       "version_minor": 0
      },
      "text/plain": [
       "  0%|          | 0/3 [00:00<?, ?it/s]"
      ]
     },
     "metadata": {},
     "output_type": "display_data"
    },
    {
     "data": {
      "application/vnd.jupyter.widget-view+json": {
       "model_id": "12276ed176424685807e82aa78573281",
       "version_major": 2,
       "version_minor": 0
      },
      "text/plain": [
       "  0%|          | 0/3 [00:00<?, ?it/s]"
      ]
     },
     "metadata": {},
     "output_type": "display_data"
    },
    {
     "data": {
      "application/vnd.jupyter.widget-view+json": {
       "model_id": "1a79de43441d43cfad03e49839c43f35",
       "version_major": 2,
       "version_minor": 0
      },
      "text/plain": [
       "  0%|          | 0/3 [00:00<?, ?it/s]"
      ]
     },
     "metadata": {},
     "output_type": "display_data"
    },
    {
     "data": {
      "application/vnd.jupyter.widget-view+json": {
       "model_id": "612aa01fae3d418092de30faa1538bbd",
       "version_major": 2,
       "version_minor": 0
      },
      "text/plain": [
       "  0%|          | 0/3 [00:00<?, ?it/s]"
      ]
     },
     "metadata": {},
     "output_type": "display_data"
    },
    {
     "data": {
      "application/vnd.jupyter.widget-view+json": {
       "model_id": "6e1c836e22754b10a6b1d28a06aa5e82",
       "version_major": 2,
       "version_minor": 0
      },
      "text/plain": [
       "  0%|          | 0/3 [00:00<?, ?it/s]"
      ]
     },
     "metadata": {},
     "output_type": "display_data"
    },
    {
     "data": {
      "application/vnd.jupyter.widget-view+json": {
       "model_id": "a91303aa03f54693be9c90805b5d89e0",
       "version_major": 2,
       "version_minor": 0
      },
      "text/plain": [
       "  0%|          | 0/3 [00:00<?, ?it/s]"
      ]
     },
     "metadata": {},
     "output_type": "display_data"
    },
    {
     "name": "stdout",
     "output_type": "stream",
     "text": [
      "saving results dataframe to CSV for this hyperparameter search in client_talk_type/lstm_history_10_focal_2.csv\n",
      "saving the best model results dataframe to CSV for this hyperparameter search in client_talk_type/lstm_history_10_focal_2_best_model.csv\n"
     ]
    }
   ],
   "source": [
    "size = 10\n",
    "lstm_history, best_lstm_history, _, __ = lstm_hyperparameter_search(\n",
    "    num_epochs=num_epochs,\n",
    "    df=anno_mi,\n",
    "    id_column=\"transcript_id\",\n",
    "    label_column=\"client_talk_type\",\n",
    "    embeddings=sbert_embeddings,\n",
    "    y_data=y_data,\n",
    "    window_sizes=[size],\n",
    "    hidden_dim_sizes=hidden_dim_sizes,\n",
    "    num_layers=num_layers,\n",
    "    bidirectional=bidirectional,\n",
    "    output_dim=output_dim,\n",
    "    dropout_rates=dropout_rates,\n",
    "    learning_rates=learning_rates,\n",
    "    seeds=seeds,\n",
    "    loss=loss,\n",
    "    gamma=gamma,\n",
    "    path_indices=client_index,\n",
    "    k_fold=True,\n",
    "    validation_metric=validation_metric,\n",
    "    results_output=f\"{output_dir}/lstm_history_{size}_focal_{gamma}.csv\",\n",
    "    verbose=False\n",
    ")"
   ]
  },
  {
   "cell_type": "code",
   "execution_count": 28,
   "id": "d7f9d781",
   "metadata": {},
   "outputs": [
    {
     "data": {
      "text/html": [
       "<div>\n",
       "<style scoped>\n",
       "    .dataframe tbody tr th:only-of-type {\n",
       "        vertical-align: middle;\n",
       "    }\n",
       "\n",
       "    .dataframe tbody tr th {\n",
       "        vertical-align: top;\n",
       "    }\n",
       "\n",
       "    .dataframe thead th {\n",
       "        text-align: right;\n",
       "    }\n",
       "</style>\n",
       "<table border=\"1\" class=\"dataframe\">\n",
       "  <thead>\n",
       "    <tr style=\"text-align: right;\">\n",
       "      <th></th>\n",
       "      <th>loss</th>\n",
       "      <th>accuracy</th>\n",
       "      <th>f1</th>\n",
       "      <th>f1_scores</th>\n",
       "      <th>valid_loss</th>\n",
       "      <th>valid_accuracy</th>\n",
       "      <th>valid_f1</th>\n",
       "      <th>valid_f1_scores</th>\n",
       "      <th>k</th>\n",
       "      <th>num_layers</th>\n",
       "      <th>bidirectional</th>\n",
       "      <th>hidden_dim</th>\n",
       "      <th>dropout_rate</th>\n",
       "      <th>learning_rate</th>\n",
       "      <th>seed</th>\n",
       "      <th>gamma</th>\n",
       "      <th>k_fold</th>\n",
       "      <th>model_id</th>\n",
       "    </tr>\n",
       "  </thead>\n",
       "  <tbody>\n",
       "    <tr>\n",
       "      <th>0</th>\n",
       "      <td>focal</td>\n",
       "      <td>0.565353</td>\n",
       "      <td>0.438263</td>\n",
       "      <td>[0.6937485894831866, 0.33299899699097285, 0.28...</td>\n",
       "      <td>None</td>\n",
       "      <td>0.565353</td>\n",
       "      <td>0.438263</td>\n",
       "      <td>[0.6937485894831866, 0.33299899699097285, 0.28...</td>\n",
       "      <td>10</td>\n",
       "      <td>1</td>\n",
       "      <td>True</td>\n",
       "      <td>200</td>\n",
       "      <td>0.5</td>\n",
       "      <td>0.0010</td>\n",
       "      <td>0</td>\n",
       "      <td>2</td>\n",
       "      <td>True</td>\n",
       "      <td>0</td>\n",
       "    </tr>\n",
       "    <tr>\n",
       "      <th>0</th>\n",
       "      <td>focal</td>\n",
       "      <td>0.579033</td>\n",
       "      <td>0.447113</td>\n",
       "      <td>[0.7034544638851504, 0.3638752052545156, 0.274...</td>\n",
       "      <td>None</td>\n",
       "      <td>0.579033</td>\n",
       "      <td>0.447113</td>\n",
       "      <td>[0.7034544638851504, 0.3638752052545156, 0.274...</td>\n",
       "      <td>10</td>\n",
       "      <td>1</td>\n",
       "      <td>True</td>\n",
       "      <td>200</td>\n",
       "      <td>0.5</td>\n",
       "      <td>0.0010</td>\n",
       "      <td>1</td>\n",
       "      <td>2</td>\n",
       "      <td>True</td>\n",
       "      <td>0</td>\n",
       "    </tr>\n",
       "    <tr>\n",
       "      <th>0</th>\n",
       "      <td>focal</td>\n",
       "      <td>0.605799</td>\n",
       "      <td>0.413250</td>\n",
       "      <td>[0.7378940861322892, 0.2838309422256689, 0.218...</td>\n",
       "      <td>None</td>\n",
       "      <td>0.605799</td>\n",
       "      <td>0.413250</td>\n",
       "      <td>[0.7378940861322892, 0.2838309422256689, 0.218...</td>\n",
       "      <td>10</td>\n",
       "      <td>1</td>\n",
       "      <td>True</td>\n",
       "      <td>200</td>\n",
       "      <td>0.5</td>\n",
       "      <td>0.0010</td>\n",
       "      <td>12</td>\n",
       "      <td>2</td>\n",
       "      <td>True</td>\n",
       "      <td>0</td>\n",
       "    </tr>\n",
       "    <tr>\n",
       "      <th>0</th>\n",
       "      <td>focal</td>\n",
       "      <td>0.574424</td>\n",
       "      <td>0.438938</td>\n",
       "      <td>[0.7007874015748031, 0.35734331150608045, 0.25...</td>\n",
       "      <td>None</td>\n",
       "      <td>0.574424</td>\n",
       "      <td>0.438938</td>\n",
       "      <td>[0.7007874015748031, 0.35734331150608045, 0.25...</td>\n",
       "      <td>10</td>\n",
       "      <td>1</td>\n",
       "      <td>True</td>\n",
       "      <td>200</td>\n",
       "      <td>0.5</td>\n",
       "      <td>0.0010</td>\n",
       "      <td>123</td>\n",
       "      <td>2</td>\n",
       "      <td>True</td>\n",
       "      <td>0</td>\n",
       "    </tr>\n",
       "    <tr>\n",
       "      <th>0</th>\n",
       "      <td>focal</td>\n",
       "      <td>0.584535</td>\n",
       "      <td>0.427958</td>\n",
       "      <td>[0.7167316861725184, 0.32014260249554366, 0.24...</td>\n",
       "      <td>None</td>\n",
       "      <td>0.584535</td>\n",
       "      <td>0.427958</td>\n",
       "      <td>[0.7167316861725184, 0.32014260249554366, 0.24...</td>\n",
       "      <td>10</td>\n",
       "      <td>1</td>\n",
       "      <td>True</td>\n",
       "      <td>200</td>\n",
       "      <td>0.5</td>\n",
       "      <td>0.0010</td>\n",
       "      <td>1234</td>\n",
       "      <td>2</td>\n",
       "      <td>True</td>\n",
       "      <td>0</td>\n",
       "    </tr>\n",
       "    <tr>\n",
       "      <th>...</th>\n",
       "      <td>...</td>\n",
       "      <td>...</td>\n",
       "      <td>...</td>\n",
       "      <td>...</td>\n",
       "      <td>...</td>\n",
       "      <td>...</td>\n",
       "      <td>...</td>\n",
       "      <td>...</td>\n",
       "      <td>...</td>\n",
       "      <td>...</td>\n",
       "      <td>...</td>\n",
       "      <td>...</td>\n",
       "      <td>...</td>\n",
       "      <td>...</td>\n",
       "      <td>...</td>\n",
       "      <td>...</td>\n",
       "      <td>...</td>\n",
       "      <td>...</td>\n",
       "    </tr>\n",
       "    <tr>\n",
       "      <th>0</th>\n",
       "      <td>focal</td>\n",
       "      <td>0.580223</td>\n",
       "      <td>0.427867</td>\n",
       "      <td>[0.7106986899563319, 0.32700135685210313, 0.24...</td>\n",
       "      <td>None</td>\n",
       "      <td>0.580223</td>\n",
       "      <td>0.427867</td>\n",
       "      <td>[0.7106986899563319, 0.32700135685210313, 0.24...</td>\n",
       "      <td>10</td>\n",
       "      <td>1</td>\n",
       "      <td>True</td>\n",
       "      <td>300</td>\n",
       "      <td>0.1</td>\n",
       "      <td>0.0005</td>\n",
       "      <td>0</td>\n",
       "      <td>2</td>\n",
       "      <td>True</td>\n",
       "      <td>17</td>\n",
       "    </tr>\n",
       "    <tr>\n",
       "      <th>0</th>\n",
       "      <td>focal</td>\n",
       "      <td>0.590781</td>\n",
       "      <td>0.432105</td>\n",
       "      <td>[0.718297688485634, 0.33935264054514475, 0.238...</td>\n",
       "      <td>None</td>\n",
       "      <td>0.590781</td>\n",
       "      <td>0.432105</td>\n",
       "      <td>[0.718297688485634, 0.33935264054514475, 0.238...</td>\n",
       "      <td>10</td>\n",
       "      <td>1</td>\n",
       "      <td>True</td>\n",
       "      <td>300</td>\n",
       "      <td>0.1</td>\n",
       "      <td>0.0005</td>\n",
       "      <td>1</td>\n",
       "      <td>2</td>\n",
       "      <td>True</td>\n",
       "      <td>17</td>\n",
       "    </tr>\n",
       "    <tr>\n",
       "      <th>0</th>\n",
       "      <td>focal</td>\n",
       "      <td>0.583643</td>\n",
       "      <td>0.445401</td>\n",
       "      <td>[0.7104418115380357, 0.3488372093023256, 0.276...</td>\n",
       "      <td>None</td>\n",
       "      <td>0.583643</td>\n",
       "      <td>0.445401</td>\n",
       "      <td>[0.7104418115380357, 0.3488372093023256, 0.276...</td>\n",
       "      <td>10</td>\n",
       "      <td>1</td>\n",
       "      <td>True</td>\n",
       "      <td>300</td>\n",
       "      <td>0.1</td>\n",
       "      <td>0.0005</td>\n",
       "      <td>12</td>\n",
       "      <td>2</td>\n",
       "      <td>True</td>\n",
       "      <td>17</td>\n",
       "    </tr>\n",
       "    <tr>\n",
       "      <th>0</th>\n",
       "      <td>focal</td>\n",
       "      <td>0.581710</td>\n",
       "      <td>0.436894</td>\n",
       "      <td>[0.7077771649200222, 0.35120994113799875, 0.25...</td>\n",
       "      <td>None</td>\n",
       "      <td>0.581710</td>\n",
       "      <td>0.436894</td>\n",
       "      <td>[0.7077771649200222, 0.35120994113799875, 0.25...</td>\n",
       "      <td>10</td>\n",
       "      <td>1</td>\n",
       "      <td>True</td>\n",
       "      <td>300</td>\n",
       "      <td>0.1</td>\n",
       "      <td>0.0005</td>\n",
       "      <td>123</td>\n",
       "      <td>2</td>\n",
       "      <td>True</td>\n",
       "      <td>17</td>\n",
       "    </tr>\n",
       "    <tr>\n",
       "      <th>0</th>\n",
       "      <td>focal</td>\n",
       "      <td>0.551822</td>\n",
       "      <td>0.442839</td>\n",
       "      <td>[0.6769875451053428, 0.34374999999999994, 0.30...</td>\n",
       "      <td>None</td>\n",
       "      <td>0.551822</td>\n",
       "      <td>0.442839</td>\n",
       "      <td>[0.6769875451053428, 0.34374999999999994, 0.30...</td>\n",
       "      <td>10</td>\n",
       "      <td>1</td>\n",
       "      <td>True</td>\n",
       "      <td>300</td>\n",
       "      <td>0.1</td>\n",
       "      <td>0.0005</td>\n",
       "      <td>1234</td>\n",
       "      <td>2</td>\n",
       "      <td>True</td>\n",
       "      <td>17</td>\n",
       "    </tr>\n",
       "  </tbody>\n",
       "</table>\n",
       "<p>90 rows × 18 columns</p>\n",
       "</div>"
      ],
      "text/plain": [
       "     loss  accuracy        f1  \\\n",
       "0   focal  0.565353  0.438263   \n",
       "0   focal  0.579033  0.447113   \n",
       "0   focal  0.605799  0.413250   \n",
       "0   focal  0.574424  0.438938   \n",
       "0   focal  0.584535  0.427958   \n",
       "..    ...       ...       ...   \n",
       "0   focal  0.580223  0.427867   \n",
       "0   focal  0.590781  0.432105   \n",
       "0   focal  0.583643  0.445401   \n",
       "0   focal  0.581710  0.436894   \n",
       "0   focal  0.551822  0.442839   \n",
       "\n",
       "                                            f1_scores valid_loss  \\\n",
       "0   [0.6937485894831866, 0.33299899699097285, 0.28...       None   \n",
       "0   [0.7034544638851504, 0.3638752052545156, 0.274...       None   \n",
       "0   [0.7378940861322892, 0.2838309422256689, 0.218...       None   \n",
       "0   [0.7007874015748031, 0.35734331150608045, 0.25...       None   \n",
       "0   [0.7167316861725184, 0.32014260249554366, 0.24...       None   \n",
       "..                                                ...        ...   \n",
       "0   [0.7106986899563319, 0.32700135685210313, 0.24...       None   \n",
       "0   [0.718297688485634, 0.33935264054514475, 0.238...       None   \n",
       "0   [0.7104418115380357, 0.3488372093023256, 0.276...       None   \n",
       "0   [0.7077771649200222, 0.35120994113799875, 0.25...       None   \n",
       "0   [0.6769875451053428, 0.34374999999999994, 0.30...       None   \n",
       "\n",
       "    valid_accuracy  valid_f1  \\\n",
       "0         0.565353  0.438263   \n",
       "0         0.579033  0.447113   \n",
       "0         0.605799  0.413250   \n",
       "0         0.574424  0.438938   \n",
       "0         0.584535  0.427958   \n",
       "..             ...       ...   \n",
       "0         0.580223  0.427867   \n",
       "0         0.590781  0.432105   \n",
       "0         0.583643  0.445401   \n",
       "0         0.581710  0.436894   \n",
       "0         0.551822  0.442839   \n",
       "\n",
       "                                      valid_f1_scores   k  num_layers  \\\n",
       "0   [0.6937485894831866, 0.33299899699097285, 0.28...  10           1   \n",
       "0   [0.7034544638851504, 0.3638752052545156, 0.274...  10           1   \n",
       "0   [0.7378940861322892, 0.2838309422256689, 0.218...  10           1   \n",
       "0   [0.7007874015748031, 0.35734331150608045, 0.25...  10           1   \n",
       "0   [0.7167316861725184, 0.32014260249554366, 0.24...  10           1   \n",
       "..                                                ...  ..         ...   \n",
       "0   [0.7106986899563319, 0.32700135685210313, 0.24...  10           1   \n",
       "0   [0.718297688485634, 0.33935264054514475, 0.238...  10           1   \n",
       "0   [0.7104418115380357, 0.3488372093023256, 0.276...  10           1   \n",
       "0   [0.7077771649200222, 0.35120994113799875, 0.25...  10           1   \n",
       "0   [0.6769875451053428, 0.34374999999999994, 0.30...  10           1   \n",
       "\n",
       "    bidirectional  hidden_dim  dropout_rate  learning_rate  seed  gamma  \\\n",
       "0            True         200           0.5         0.0010     0      2   \n",
       "0            True         200           0.5         0.0010     1      2   \n",
       "0            True         200           0.5         0.0010    12      2   \n",
       "0            True         200           0.5         0.0010   123      2   \n",
       "0            True         200           0.5         0.0010  1234      2   \n",
       "..            ...         ...           ...            ...   ...    ...   \n",
       "0            True         300           0.1         0.0005     0      2   \n",
       "0            True         300           0.1         0.0005     1      2   \n",
       "0            True         300           0.1         0.0005    12      2   \n",
       "0            True         300           0.1         0.0005   123      2   \n",
       "0            True         300           0.1         0.0005  1234      2   \n",
       "\n",
       "    k_fold  model_id  \n",
       "0     True         0  \n",
       "0     True         0  \n",
       "0     True         0  \n",
       "0     True         0  \n",
       "0     True         0  \n",
       "..     ...       ...  \n",
       "0     True        17  \n",
       "0     True        17  \n",
       "0     True        17  \n",
       "0     True        17  \n",
       "0     True        17  \n",
       "\n",
       "[90 rows x 18 columns]"
      ]
     },
     "execution_count": 28,
     "metadata": {},
     "output_type": "execute_result"
    }
   ],
   "source": [
    "lstm_history"
   ]
  },
  {
   "cell_type": "code",
   "execution_count": 29,
   "id": "6f7cc7d6",
   "metadata": {},
   "outputs": [
    {
     "data": {
      "text/html": [
       "<div>\n",
       "<style scoped>\n",
       "    .dataframe tbody tr th:only-of-type {\n",
       "        vertical-align: middle;\n",
       "    }\n",
       "\n",
       "    .dataframe tbody tr th {\n",
       "        vertical-align: top;\n",
       "    }\n",
       "\n",
       "    .dataframe thead th {\n",
       "        text-align: right;\n",
       "    }\n",
       "</style>\n",
       "<table border=\"1\" class=\"dataframe\">\n",
       "  <thead>\n",
       "    <tr style=\"text-align: right;\">\n",
       "      <th></th>\n",
       "      <th>loss</th>\n",
       "      <th>accuracy</th>\n",
       "      <th>f1</th>\n",
       "      <th>f1_scores</th>\n",
       "      <th>valid_loss</th>\n",
       "      <th>valid_accuracy</th>\n",
       "      <th>valid_f1</th>\n",
       "      <th>valid_f1_scores</th>\n",
       "      <th>num_layers</th>\n",
       "      <th>bidirectional</th>\n",
       "      <th>hidden_dim</th>\n",
       "      <th>dropout_rate</th>\n",
       "      <th>learning_rate</th>\n",
       "      <th>seed</th>\n",
       "      <th>gamma</th>\n",
       "      <th>k_fold</th>\n",
       "    </tr>\n",
       "  </thead>\n",
       "  <tbody>\n",
       "    <tr>\n",
       "      <th>0</th>\n",
       "      <td>focal</td>\n",
       "      <td>0.582454</td>\n",
       "      <td>0.438405</td>\n",
       "      <td>[0.7108143607705779, 0.32909604519774016, 0.27...</td>\n",
       "      <td>None</td>\n",
       "      <td>0.582454</td>\n",
       "      <td>0.438405</td>\n",
       "      <td>[0.7108143607705779, 0.32909604519774016, 0.27...</td>\n",
       "      <td>1</td>\n",
       "      <td>True</td>\n",
       "      <td>300</td>\n",
       "      <td>0.5</td>\n",
       "      <td>0.0005</td>\n",
       "      <td>0</td>\n",
       "      <td>2</td>\n",
       "      <td>True</td>\n",
       "    </tr>\n",
       "    <tr>\n",
       "      <th>0</th>\n",
       "      <td>focal</td>\n",
       "      <td>0.577993</td>\n",
       "      <td>0.452522</td>\n",
       "      <td>[0.6995912806539509, 0.3770287141073658, 0.280...</td>\n",
       "      <td>None</td>\n",
       "      <td>0.577993</td>\n",
       "      <td>0.452522</td>\n",
       "      <td>[0.6995912806539509, 0.3770287141073658, 0.280...</td>\n",
       "      <td>1</td>\n",
       "      <td>True</td>\n",
       "      <td>300</td>\n",
       "      <td>0.5</td>\n",
       "      <td>0.0005</td>\n",
       "      <td>1</td>\n",
       "      <td>2</td>\n",
       "      <td>True</td>\n",
       "    </tr>\n",
       "    <tr>\n",
       "      <th>0</th>\n",
       "      <td>focal</td>\n",
       "      <td>0.585428</td>\n",
       "      <td>0.446715</td>\n",
       "      <td>[0.7168648172611184, 0.31303698169592825, 0.31...</td>\n",
       "      <td>None</td>\n",
       "      <td>0.585428</td>\n",
       "      <td>0.446715</td>\n",
       "      <td>[0.7168648172611184, 0.31303698169592825, 0.31...</td>\n",
       "      <td>1</td>\n",
       "      <td>True</td>\n",
       "      <td>300</td>\n",
       "      <td>0.5</td>\n",
       "      <td>0.0005</td>\n",
       "      <td>12</td>\n",
       "      <td>2</td>\n",
       "      <td>True</td>\n",
       "    </tr>\n",
       "    <tr>\n",
       "      <th>0</th>\n",
       "      <td>focal</td>\n",
       "      <td>0.608625</td>\n",
       "      <td>0.431839</td>\n",
       "      <td>[0.7368969469625924, 0.3072196620583717, 0.251...</td>\n",
       "      <td>None</td>\n",
       "      <td>0.608625</td>\n",
       "      <td>0.431839</td>\n",
       "      <td>[0.7368969469625924, 0.3072196620583717, 0.251...</td>\n",
       "      <td>1</td>\n",
       "      <td>True</td>\n",
       "      <td>300</td>\n",
       "      <td>0.5</td>\n",
       "      <td>0.0005</td>\n",
       "      <td>123</td>\n",
       "      <td>2</td>\n",
       "      <td>True</td>\n",
       "    </tr>\n",
       "    <tr>\n",
       "      <th>0</th>\n",
       "      <td>focal</td>\n",
       "      <td>0.567584</td>\n",
       "      <td>0.442752</td>\n",
       "      <td>[0.6938498131158681, 0.3469049983449189, 0.2875]</td>\n",
       "      <td>None</td>\n",
       "      <td>0.567584</td>\n",
       "      <td>0.442752</td>\n",
       "      <td>[0.6938498131158681, 0.3469049983449189, 0.2875]</td>\n",
       "      <td>1</td>\n",
       "      <td>True</td>\n",
       "      <td>300</td>\n",
       "      <td>0.5</td>\n",
       "      <td>0.0005</td>\n",
       "      <td>1234</td>\n",
       "      <td>2</td>\n",
       "      <td>True</td>\n",
       "    </tr>\n",
       "  </tbody>\n",
       "</table>\n",
       "</div>"
      ],
      "text/plain": [
       "    loss  accuracy        f1  \\\n",
       "0  focal  0.582454  0.438405   \n",
       "0  focal  0.577993  0.452522   \n",
       "0  focal  0.585428  0.446715   \n",
       "0  focal  0.608625  0.431839   \n",
       "0  focal  0.567584  0.442752   \n",
       "\n",
       "                                           f1_scores valid_loss  \\\n",
       "0  [0.7108143607705779, 0.32909604519774016, 0.27...       None   \n",
       "0  [0.6995912806539509, 0.3770287141073658, 0.280...       None   \n",
       "0  [0.7168648172611184, 0.31303698169592825, 0.31...       None   \n",
       "0  [0.7368969469625924, 0.3072196620583717, 0.251...       None   \n",
       "0   [0.6938498131158681, 0.3469049983449189, 0.2875]       None   \n",
       "\n",
       "   valid_accuracy  valid_f1  \\\n",
       "0        0.582454  0.438405   \n",
       "0        0.577993  0.452522   \n",
       "0        0.585428  0.446715   \n",
       "0        0.608625  0.431839   \n",
       "0        0.567584  0.442752   \n",
       "\n",
       "                                     valid_f1_scores  num_layers  \\\n",
       "0  [0.7108143607705779, 0.32909604519774016, 0.27...           1   \n",
       "0  [0.6995912806539509, 0.3770287141073658, 0.280...           1   \n",
       "0  [0.7168648172611184, 0.31303698169592825, 0.31...           1   \n",
       "0  [0.7368969469625924, 0.3072196620583717, 0.251...           1   \n",
       "0   [0.6938498131158681, 0.3469049983449189, 0.2875]           1   \n",
       "\n",
       "   bidirectional  hidden_dim  dropout_rate  learning_rate  seed  gamma  k_fold  \n",
       "0           True         300           0.5         0.0005     0      2    True  \n",
       "0           True         300           0.5         0.0005     1      2    True  \n",
       "0           True         300           0.5         0.0005    12      2    True  \n",
       "0           True         300           0.5         0.0005   123      2    True  \n",
       "0           True         300           0.5         0.0005  1234      2    True  "
      ]
     },
     "execution_count": 29,
     "metadata": {},
     "output_type": "execute_result"
    }
   ],
   "source": [
    "best_lstm_history"
   ]
  },
  {
   "cell_type": "code",
   "execution_count": 30,
   "id": "a1b6571b",
   "metadata": {},
   "outputs": [
    {
     "data": {
      "text/plain": [
       "0.44244645933164994"
      ]
     },
     "execution_count": 30,
     "metadata": {},
     "output_type": "execute_result"
    }
   ],
   "source": [
    "best_lstm_history[\"f1\"].mean()"
   ]
  },
  {
   "cell_type": "code",
   "execution_count": 31,
   "id": "10d014f5",
   "metadata": {},
   "outputs": [
    {
     "data": {
      "text/plain": [
       "array([0.71160344, 0.33465728, 0.28107865])"
      ]
     },
     "execution_count": 31,
     "metadata": {},
     "output_type": "execute_result"
    }
   ],
   "source": [
    "np.stack(best_lstm_history[\"f1_scores\"]).mean(axis=0)"
   ]
  },
  {
   "cell_type": "code",
   "execution_count": 32,
   "id": "5f8f0608",
   "metadata": {},
   "outputs": [
    {
     "data": {
      "application/vnd.jupyter.widget-view+json": {
       "model_id": "63988b45617e4cd5aade7e0e9225507c",
       "version_major": 2,
       "version_minor": 0
      },
      "text/plain": [
       "  0%|          | 0/1 [00:00<?, ?it/s]"
      ]
     },
     "metadata": {},
     "output_type": "display_data"
    },
    {
     "name": "stdout",
     "output_type": "stream",
     "text": [
      "[INFO] Concatenating the embeddings to the dataframe...\n",
      "[INFO] - columns beginning with 'e' denote the full embddings.\n",
      "[INFO] Adding time feature columns into dataframe in `.df`.\n",
      "[INFO] Adding 'time_encoding' and feature...\n",
      "[INFO] Adding 'time_diff' and feature...\n",
      "[INFO] Adding 'timeline_index' feature...\n",
      "[INFO] Padding ids and storing in `.df_padded` and `.array_padded` attributes.\n"
     ]
    },
    {
     "data": {
      "application/vnd.jupyter.widget-view+json": {
       "model_id": "b2ccc3fa5fc54fc3b383985fc83cd38b",
       "version_major": 2,
       "version_minor": 0
      },
      "text/plain": [
       "  0%|          | 0/13551 [00:00<?, ?it/s]"
      ]
     },
     "metadata": {},
     "output_type": "display_data"
    },
    {
     "data": {
      "application/vnd.jupyter.widget-view+json": {
       "model_id": "5111529e737f4f8ab975a11db131f64b",
       "version_major": 2,
       "version_minor": 0
      },
      "text/plain": [
       "  0%|          | 0/2 [00:00<?, ?it/s]"
      ]
     },
     "metadata": {},
     "output_type": "display_data"
    },
    {
     "data": {
      "application/vnd.jupyter.widget-view+json": {
       "model_id": "50a7be2d137e406fbb38a2497dd024d4",
       "version_major": 2,
       "version_minor": 0
      },
      "text/plain": [
       "  0%|          | 0/3 [00:00<?, ?it/s]"
      ]
     },
     "metadata": {},
     "output_type": "display_data"
    },
    {
     "data": {
      "application/vnd.jupyter.widget-view+json": {
       "model_id": "d7324808ec8e4988a32afaa7bb0a7ff9",
       "version_major": 2,
       "version_minor": 0
      },
      "text/plain": [
       "  0%|          | 0/3 [00:00<?, ?it/s]"
      ]
     },
     "metadata": {},
     "output_type": "display_data"
    },
    {
     "data": {
      "application/vnd.jupyter.widget-view+json": {
       "model_id": "aa66f91a4b1a41398c44fcdbc28a0b1c",
       "version_major": 2,
       "version_minor": 0
      },
      "text/plain": [
       "  0%|          | 0/3 [00:00<?, ?it/s]"
      ]
     },
     "metadata": {},
     "output_type": "display_data"
    },
    {
     "data": {
      "application/vnd.jupyter.widget-view+json": {
       "model_id": "551a751ebc904eea8b3239ba2321279b",
       "version_major": 2,
       "version_minor": 0
      },
      "text/plain": [
       "  0%|          | 0/3 [00:00<?, ?it/s]"
      ]
     },
     "metadata": {},
     "output_type": "display_data"
    },
    {
     "ename": "KeyboardInterrupt",
     "evalue": "",
     "output_type": "error",
     "traceback": [
      "\u001b[0;31m---------------------------------------------------------------------------\u001b[0m",
      "\u001b[0;31mKeyboardInterrupt\u001b[0m                         Traceback (most recent call last)",
      "Cell \u001b[0;32mIn[32], line 2\u001b[0m\n\u001b[1;32m      1\u001b[0m size \u001b[39m=\u001b[39m \u001b[39m50\u001b[39m\n\u001b[0;32m----> 2\u001b[0m lstm_history, best_lstm_history, _, __ \u001b[39m=\u001b[39m lstm_hyperparameter_search(\n\u001b[1;32m      3\u001b[0m     num_epochs\u001b[39m=\u001b[39;49mnum_epochs,\n\u001b[1;32m      4\u001b[0m     df\u001b[39m=\u001b[39;49manno_mi,\n\u001b[1;32m      5\u001b[0m     id_column\u001b[39m=\u001b[39;49m\u001b[39m\"\u001b[39;49m\u001b[39mtranscript_id\u001b[39;49m\u001b[39m\"\u001b[39;49m,\n\u001b[1;32m      6\u001b[0m     label_column\u001b[39m=\u001b[39;49m\u001b[39m\"\u001b[39;49m\u001b[39mclient_talk_type\u001b[39;49m\u001b[39m\"\u001b[39;49m,\n\u001b[1;32m      7\u001b[0m     embeddings\u001b[39m=\u001b[39;49msbert_embeddings,\n\u001b[1;32m      8\u001b[0m     y_data\u001b[39m=\u001b[39;49my_data,\n\u001b[1;32m      9\u001b[0m     window_sizes\u001b[39m=\u001b[39;49m[size],\n\u001b[1;32m     10\u001b[0m     hidden_dim_sizes\u001b[39m=\u001b[39;49mhidden_dim_sizes,\n\u001b[1;32m     11\u001b[0m     num_layers\u001b[39m=\u001b[39;49mnum_layers,\n\u001b[1;32m     12\u001b[0m     bidirectional\u001b[39m=\u001b[39;49mbidirectional,\n\u001b[1;32m     13\u001b[0m     output_dim\u001b[39m=\u001b[39;49moutput_dim,\n\u001b[1;32m     14\u001b[0m     dropout_rates\u001b[39m=\u001b[39;49mdropout_rates,\n\u001b[1;32m     15\u001b[0m     learning_rates\u001b[39m=\u001b[39;49mlearning_rates,\n\u001b[1;32m     16\u001b[0m     seeds\u001b[39m=\u001b[39;49mseeds,\n\u001b[1;32m     17\u001b[0m     loss\u001b[39m=\u001b[39;49mloss,\n\u001b[1;32m     18\u001b[0m     gamma\u001b[39m=\u001b[39;49mgamma,\n\u001b[1;32m     19\u001b[0m     path_indices\u001b[39m=\u001b[39;49mclient_index,\n\u001b[1;32m     20\u001b[0m     k_fold\u001b[39m=\u001b[39;49m\u001b[39mTrue\u001b[39;49;00m,\n\u001b[1;32m     21\u001b[0m     validation_metric\u001b[39m=\u001b[39;49mvalidation_metric,\n\u001b[1;32m     22\u001b[0m     results_output\u001b[39m=\u001b[39;49m\u001b[39mf\u001b[39;49m\u001b[39m\"\u001b[39;49m\u001b[39m{\u001b[39;49;00moutput_dir\u001b[39m}\u001b[39;49;00m\u001b[39m/lstm_history_\u001b[39;49m\u001b[39m{\u001b[39;49;00msize\u001b[39m}\u001b[39;49;00m\u001b[39m_focal_\u001b[39;49m\u001b[39m{\u001b[39;49;00mgamma\u001b[39m}\u001b[39;49;00m\u001b[39m.csv\u001b[39;49m\u001b[39m\"\u001b[39;49m,\n\u001b[1;32m     23\u001b[0m     verbose\u001b[39m=\u001b[39;49m\u001b[39mFalse\u001b[39;49;00m\n\u001b[1;32m     24\u001b[0m )\n",
      "File \u001b[0;32m~/Library/CloudStorage/OneDrive-TheAlanTuringInstitute/rough_paths/nlpsig-networks/nlpsig_networks/scripts/lstm_baseline_functions.py:370\u001b[0m, in \u001b[0;36mlstm_hyperparameter_search\u001b[0;34m(num_epochs, df, id_column, label_column, embeddings, y_data, output_dim, window_sizes, hidden_dim_sizes, num_layers, bidirectional, dropout_rates, learning_rates, seeds, loss, gamma, path_indices, data_split_seed, k_fold, n_splits, validation_metric, results_output, verbose)\u001b[0m\n\u001b[1;32m    368\u001b[0m verbose_model \u001b[39m=\u001b[39m verbose\n\u001b[1;32m    369\u001b[0m \u001b[39mfor\u001b[39;00m seed \u001b[39min\u001b[39;00m seeds:\n\u001b[0;32m--> 370\u001b[0m     _, results \u001b[39m=\u001b[39m implement_lstm(num_epochs\u001b[39m=\u001b[39mnum_epochs,\n\u001b[1;32m    371\u001b[0m                                 x_data\u001b[39m=\u001b[39mx_data,\n\u001b[1;32m    372\u001b[0m                                 y_data\u001b[39m=\u001b[39my_data,\n\u001b[1;32m    373\u001b[0m                                 hidden_dim\u001b[39m=\u001b[39mhidden_dim,\n\u001b[1;32m    374\u001b[0m                                 num_layers\u001b[39m=\u001b[39mnum_layers,\n\u001b[1;32m    375\u001b[0m                                 bidirectional\u001b[39m=\u001b[39mbidirectional,\n\u001b[1;32m    376\u001b[0m                                 output_dim\u001b[39m=\u001b[39moutput_dim,\n\u001b[1;32m    377\u001b[0m                                 dropout_rate\u001b[39m=\u001b[39mdropout,\n\u001b[1;32m    378\u001b[0m                                 learning_rate\u001b[39m=\u001b[39mlr,\n\u001b[1;32m    379\u001b[0m                                 seed\u001b[39m=\u001b[39mseed,\n\u001b[1;32m    380\u001b[0m                                 loss\u001b[39m=\u001b[39mloss,\n\u001b[1;32m    381\u001b[0m                                 gamma\u001b[39m=\u001b[39mgamma,\n\u001b[1;32m    382\u001b[0m                                 data_split_seed\u001b[39m=\u001b[39mdata_split_seed,\n\u001b[1;32m    383\u001b[0m                                 k_fold\u001b[39m=\u001b[39mk_fold,\n\u001b[1;32m    384\u001b[0m                                 n_splits\u001b[39m=\u001b[39mn_splits,\n\u001b[1;32m    385\u001b[0m                                 verbose_training\u001b[39m=\u001b[39m\u001b[39mFalse\u001b[39;00m,\n\u001b[1;32m    386\u001b[0m                                 verbose_results\u001b[39m=\u001b[39mverbose,\n\u001b[1;32m    387\u001b[0m                                 verbose_model\u001b[39m=\u001b[39mverbose_model)\n\u001b[1;32m    389\u001b[0m     \u001b[39m# save metric that we want to validate on\u001b[39;00m\n\u001b[1;32m    390\u001b[0m     \u001b[39m# taking the mean over the performance on the folds for the seed\u001b[39;00m\n\u001b[1;32m    391\u001b[0m     \u001b[39m# if k_fold=False, .mean() just returns the performance for the seed\u001b[39;00m\n\u001b[1;32m    392\u001b[0m     scores\u001b[39m.\u001b[39mappend(results[\u001b[39mf\u001b[39m\u001b[39m\"\u001b[39m\u001b[39mvalid_\u001b[39m\u001b[39m{\u001b[39;00mvalidation_metric\u001b[39m}\u001b[39;00m\u001b[39m\"\u001b[39m]\u001b[39m.\u001b[39mmean())\n",
      "File \u001b[0;32m~/Library/CloudStorage/OneDrive-TheAlanTuringInstitute/rough_paths/nlpsig-networks/nlpsig_networks/scripts/lstm_baseline_functions.py:146\u001b[0m, in \u001b[0;36mimplement_lstm\u001b[0;34m(num_epochs, x_data, y_data, hidden_dim, num_layers, bidirectional, output_dim, dropout_rate, learning_rate, seed, loss, gamma, data_split_seed, k_fold, n_splits, verbose_training, verbose_results, verbose_model)\u001b[0m\n\u001b[1;32m    141\u001b[0m     optimizer \u001b[39m=\u001b[39m torch\u001b[39m.\u001b[39moptim\u001b[39m.\u001b[39mAdam(lstm_model\u001b[39m.\u001b[39mparameters(), lr\u001b[39m=\u001b[39mlearning_rate)\n\u001b[1;32m    143\u001b[0m     \u001b[39m# perform k-fold evaluation which returns a dataframe with columns for the\u001b[39;00m\n\u001b[1;32m    144\u001b[0m     \u001b[39m# loss, accuracy, f1 (macro) and individual f1-scores for each fold\u001b[39;00m\n\u001b[1;32m    145\u001b[0m     \u001b[39m# (for both validation and test set)\u001b[39;00m\n\u001b[0;32m--> 146\u001b[0m     results \u001b[39m=\u001b[39m KFold_pytorch(folds\u001b[39m=\u001b[39;49mfolds,\n\u001b[1;32m    147\u001b[0m                             model\u001b[39m=\u001b[39;49mlstm_model,\n\u001b[1;32m    148\u001b[0m                             criterion\u001b[39m=\u001b[39;49mcriterion,\n\u001b[1;32m    149\u001b[0m                             optimizer\u001b[39m=\u001b[39;49moptimizer,\n\u001b[1;32m    150\u001b[0m                             num_epochs\u001b[39m=\u001b[39;49mnum_epochs,\n\u001b[1;32m    151\u001b[0m                             seed\u001b[39m=\u001b[39;49mseed,\n\u001b[1;32m    152\u001b[0m                             save_best\u001b[39m=\u001b[39;49msave_best,\n\u001b[1;32m    153\u001b[0m                             early_stopping\u001b[39m=\u001b[39;49mearly_stopping,\n\u001b[1;32m    154\u001b[0m                             patience\u001b[39m=\u001b[39;49mpatience,\n\u001b[1;32m    155\u001b[0m                             verbose\u001b[39m=\u001b[39;49mverbose_training)\n\u001b[1;32m    156\u001b[0m \u001b[39melse\u001b[39;00m:\n\u001b[1;32m    157\u001b[0m     \u001b[39m# split dataset\u001b[39;00m\n\u001b[1;32m    158\u001b[0m     split_data \u001b[39m=\u001b[39m DataSplits(x_data\u001b[39m=\u001b[39mx_data,\n\u001b[1;32m    159\u001b[0m                             y_data\u001b[39m=\u001b[39my_data,\n\u001b[1;32m    160\u001b[0m                             train_size\u001b[39m=\u001b[39m\u001b[39m0.8\u001b[39m,\n\u001b[1;32m    161\u001b[0m                             valid_size\u001b[39m=\u001b[39m\u001b[39m0.2\u001b[39m,\n\u001b[1;32m    162\u001b[0m                             shuffle\u001b[39m=\u001b[39m\u001b[39mTrue\u001b[39;00m,\n\u001b[1;32m    163\u001b[0m                             random_state\u001b[39m=\u001b[39mdata_split_seed)\n",
      "File \u001b[0;32m~/Library/CloudStorage/OneDrive-TheAlanTuringInstitute/rough_paths/nlpsig-networks/nlpsig_networks/pytorch_utils.py:636\u001b[0m, in \u001b[0;36mKFold_pytorch\u001b[0;34m(folds, model, criterion, optimizer, num_epochs, return_metric_for_each_fold, seed, save_best, early_stopping, patience, verbose, verbose_epoch)\u001b[0m\n\u001b[1;32m    633\u001b[0m train, valid, test \u001b[39m=\u001b[39m folds\u001b[39m.\u001b[39mget_splits(fold_index\u001b[39m=\u001b[39mfold, as_DataLoader\u001b[39m=\u001b[39m\u001b[39mTrue\u001b[39;00m)\n\u001b[1;32m    635\u001b[0m \u001b[39m# train pytorch model\u001b[39;00m\n\u001b[0;32m--> 636\u001b[0m model \u001b[39m=\u001b[39m training_pytorch(\n\u001b[1;32m    637\u001b[0m     model\u001b[39m=\u001b[39;49mmodel,\n\u001b[1;32m    638\u001b[0m     train_loader\u001b[39m=\u001b[39;49mtrain,\n\u001b[1;32m    639\u001b[0m     valid_loader\u001b[39m=\u001b[39;49mvalid,\n\u001b[1;32m    640\u001b[0m     criterion\u001b[39m=\u001b[39;49mcriterion,\n\u001b[1;32m    641\u001b[0m     optimizer\u001b[39m=\u001b[39;49moptimizer,\n\u001b[1;32m    642\u001b[0m     num_epochs\u001b[39m=\u001b[39;49mnum_epochs,\n\u001b[1;32m    643\u001b[0m     seed\u001b[39m=\u001b[39;49mseed,\n\u001b[1;32m    644\u001b[0m     save_best\u001b[39m=\u001b[39;49msave_best,\n\u001b[1;32m    645\u001b[0m     early_stopping\u001b[39m=\u001b[39;49mearly_stopping,\n\u001b[1;32m    646\u001b[0m     patience\u001b[39m=\u001b[39;49mpatience,\n\u001b[1;32m    647\u001b[0m     verbose\u001b[39m=\u001b[39;49mverbose,\n\u001b[1;32m    648\u001b[0m     verbose_epoch\u001b[39m=\u001b[39;49mverbose_epoch,\n\u001b[1;32m    649\u001b[0m )\n\u001b[1;32m    651\u001b[0m \u001b[39m# test model\u001b[39;00m\n\u001b[1;32m    652\u001b[0m test_results \u001b[39m=\u001b[39m testing_pytorch(model\u001b[39m=\u001b[39mmodel,\n\u001b[1;32m    653\u001b[0m                                test_loader\u001b[39m=\u001b[39mtest,\n\u001b[1;32m    654\u001b[0m                                criterion\u001b[39m=\u001b[39mcriterion,\n\u001b[1;32m    655\u001b[0m                                verbose\u001b[39m=\u001b[39mverbose)\n",
      "File \u001b[0;32m~/Library/CloudStorage/OneDrive-TheAlanTuringInstitute/rough_paths/nlpsig-networks/nlpsig_networks/pytorch_utils.py:392\u001b[0m, in \u001b[0;36mtraining_pytorch\u001b[0;34m(model, train_loader, criterion, optimizer, num_epochs, scheduler, valid_loader, seed, save_best, output, early_stopping, validation_metric, patience, verbose, verbose_epoch)\u001b[0m\n\u001b[1;32m    390\u001b[0m     outputs \u001b[39m=\u001b[39m model(emb)\n\u001b[1;32m    391\u001b[0m     loss \u001b[39m=\u001b[39m criterion(outputs, labels)\n\u001b[0;32m--> 392\u001b[0m     loss\u001b[39m.\u001b[39;49mbackward()\n\u001b[1;32m    393\u001b[0m     optimizer\u001b[39m.\u001b[39mstep()\n\u001b[1;32m    395\u001b[0m \u001b[39m# show training progress\u001b[39;00m\n",
      "File \u001b[0;32m~/opt/miniconda3/envs/nlpsig-networks/lib/python3.8/site-packages/torch/_tensor.py:255\u001b[0m, in \u001b[0;36mTensor.backward\u001b[0;34m(self, gradient, retain_graph, create_graph, inputs)\u001b[0m\n\u001b[1;32m    246\u001b[0m \u001b[39mif\u001b[39;00m has_torch_function_unary(\u001b[39mself\u001b[39m):\n\u001b[1;32m    247\u001b[0m     \u001b[39mreturn\u001b[39;00m handle_torch_function(\n\u001b[1;32m    248\u001b[0m         Tensor\u001b[39m.\u001b[39mbackward,\n\u001b[1;32m    249\u001b[0m         (\u001b[39mself\u001b[39m,),\n\u001b[0;32m   (...)\u001b[0m\n\u001b[1;32m    253\u001b[0m         create_graph\u001b[39m=\u001b[39mcreate_graph,\n\u001b[1;32m    254\u001b[0m         inputs\u001b[39m=\u001b[39minputs)\n\u001b[0;32m--> 255\u001b[0m torch\u001b[39m.\u001b[39;49mautograd\u001b[39m.\u001b[39;49mbackward(\u001b[39mself\u001b[39;49m, gradient, retain_graph, create_graph, inputs\u001b[39m=\u001b[39;49minputs)\n",
      "File \u001b[0;32m~/opt/miniconda3/envs/nlpsig-networks/lib/python3.8/site-packages/torch/autograd/__init__.py:147\u001b[0m, in \u001b[0;36mbackward\u001b[0;34m(tensors, grad_tensors, retain_graph, create_graph, grad_variables, inputs)\u001b[0m\n\u001b[1;32m    144\u001b[0m \u001b[39mif\u001b[39;00m retain_graph \u001b[39mis\u001b[39;00m \u001b[39mNone\u001b[39;00m:\n\u001b[1;32m    145\u001b[0m     retain_graph \u001b[39m=\u001b[39m create_graph\n\u001b[0;32m--> 147\u001b[0m Variable\u001b[39m.\u001b[39;49m_execution_engine\u001b[39m.\u001b[39;49mrun_backward(\n\u001b[1;32m    148\u001b[0m     tensors, grad_tensors_, retain_graph, create_graph, inputs,\n\u001b[1;32m    149\u001b[0m     allow_unreachable\u001b[39m=\u001b[39;49m\u001b[39mTrue\u001b[39;49;00m, accumulate_grad\u001b[39m=\u001b[39;49m\u001b[39mTrue\u001b[39;49;00m)\n",
      "\u001b[0;31mKeyboardInterrupt\u001b[0m: "
     ]
    }
   ],
   "source": [
    "size = 50\n",
    "lstm_history, best_lstm_history, _, __ = lstm_hyperparameter_search(\n",
    "    num_epochs=num_epochs,\n",
    "    df=anno_mi,\n",
    "    id_column=\"transcript_id\",\n",
    "    label_column=\"client_talk_type\",\n",
    "    embeddings=sbert_embeddings,\n",
    "    y_data=y_data,\n",
    "    window_sizes=[size],\n",
    "    hidden_dim_sizes=hidden_dim_sizes,\n",
    "    num_layers=num_layers,\n",
    "    bidirectional=bidirectional,\n",
    "    output_dim=output_dim,\n",
    "    dropout_rates=dropout_rates,\n",
    "    learning_rates=learning_rates,\n",
    "    seeds=seeds,\n",
    "    loss=loss,\n",
    "    gamma=gamma,\n",
    "    path_indices=client_index,\n",
    "    k_fold=True,\n",
    "    validation_metric=validation_metric,\n",
    "    results_output=f\"{output_dir}/lstm_history_{size}_focal_{gamma}.csv\",\n",
    "    verbose=False\n",
    ")"
   ]
  },
  {
   "cell_type": "code",
   "execution_count": null,
   "id": "2384cb72",
   "metadata": {},
   "outputs": [],
   "source": []
  }
 ],
 "metadata": {
  "kernelspec": {
   "display_name": "nlpsig-networks",
   "language": "python",
   "name": "python3"
  },
  "language_info": {
   "codemirror_mode": {
    "name": "ipython",
    "version": 3
   },
   "file_extension": ".py",
   "mimetype": "text/x-python",
   "name": "python",
   "nbconvert_exporter": "python",
   "pygments_lexer": "ipython3",
   "version": "3.8.16"
  }
 },
 "nbformat": 4,
 "nbformat_minor": 5
}
