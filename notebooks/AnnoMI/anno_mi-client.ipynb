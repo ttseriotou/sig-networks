{
 "cells": [
  {
   "cell_type": "code",
   "execution_count": 1,
   "id": "a983a5e8",
   "metadata": {},
   "outputs": [],
   "source": [
    "import pandas as pd\n",
    "import numpy as np\n",
    "import torch\n",
    "import transformers\n",
    "import pickle\n",
    "import os\n",
    "\n",
    "import nlpsig\n",
    "import nlpsig_networks\n",
    "\n",
    "from torch.optim.lr_scheduler import ReduceLROnPlateau, StepLR\n",
    "from nlpsig.classification_utils import DataSplits, Folds\n",
    "from nlpsig_networks.pytorch_utils import SaveBestModel, training_pytorch, testing_pytorch, set_seed, KFold_pytorch\n",
    "from nlpsig_networks.focal_loss import FocalLoss\n",
    "from nlpsig_networks.ffn import FeedforwardNeuralNetModel\n",
    "from nlpsig_networks.deepsignet import StackedDeepSigNet\n",
    "\n",
    "from tqdm.notebook import tqdm\n",
    "\n",
    "seed = 2023"
   ]
  },
  {
   "cell_type": "code",
   "execution_count": 2,
   "id": "e4e666cc",
   "metadata": {},
   "outputs": [],
   "source": [
    "from nlpsig_networks.scripts.ffn_baseline_functions import (\n",
    "    implement_ffn,\n",
    "    ffn_hyperparameter_search,\n",
    "    obtain_mean_history,\n",
    "    obtain_signatures_history,\n",
    "    histories_baseline_hyperparameter_search\n",
    ")\n",
    "from nlpsig_networks.scripts.sdsn_functions import (\n",
    "    obtain_SDSN_input,\n",
    "    sdsn_hyperparameter_search\n",
    ")"
   ]
  },
  {
   "cell_type": "code",
   "execution_count": 3,
   "id": "193d632e",
   "metadata": {},
   "outputs": [],
   "source": [
    "import signatory"
   ]
  },
  {
   "cell_type": "code",
   "execution_count": 4,
   "id": "ef360d44",
   "metadata": {},
   "outputs": [
    {
     "data": {
      "text/plain": [
       "69904"
      ]
     },
     "execution_count": 4,
     "metadata": {},
     "output_type": "execute_result"
    }
   ],
   "source": [
    "signatory.signature_channels(channels=16, depth=4)"
   ]
  },
  {
   "cell_type": "code",
   "execution_count": 5,
   "id": "b4796284",
   "metadata": {},
   "outputs": [
    {
     "data": {
      "text/plain": [
       "17816"
      ]
     },
     "execution_count": 5,
     "metadata": {},
     "output_type": "execute_result"
    }
   ],
   "source": [
    "signatory.logsignature_channels(in_channels=16, depth=4)"
   ]
  },
  {
   "cell_type": "code",
   "execution_count": 6,
   "id": "6e918dde",
   "metadata": {},
   "outputs": [],
   "source": [
    "output_dir = \"client_talk_type\"\n",
    "if not os.path.isdir(output_dir):\n",
    "    os.makedirs(output_dir)"
   ]
  },
  {
   "cell_type": "markdown",
   "id": "f7409a03",
   "metadata": {},
   "source": [
    "## AnnoMI"
   ]
  },
  {
   "cell_type": "code",
   "execution_count": 7,
   "id": "f00bb922",
   "metadata": {},
   "outputs": [
    {
     "data": {
      "text/html": [
       "<div>\n",
       "<style scoped>\n",
       "    .dataframe tbody tr th:only-of-type {\n",
       "        vertical-align: middle;\n",
       "    }\n",
       "\n",
       "    .dataframe tbody tr th {\n",
       "        vertical-align: top;\n",
       "    }\n",
       "\n",
       "    .dataframe thead th {\n",
       "        text-align: right;\n",
       "    }\n",
       "</style>\n",
       "<table border=\"1\" class=\"dataframe\">\n",
       "  <thead>\n",
       "    <tr style=\"text-align: right;\">\n",
       "      <th></th>\n",
       "      <th>mi_quality</th>\n",
       "      <th>transcript_id</th>\n",
       "      <th>topic</th>\n",
       "      <th>utterance_id</th>\n",
       "      <th>interlocutor</th>\n",
       "      <th>timestamp</th>\n",
       "      <th>utterance_text</th>\n",
       "      <th>annotator_id</th>\n",
       "      <th>therapist_input_exists</th>\n",
       "      <th>therapist_input_subtype</th>\n",
       "      <th>reflection_exists</th>\n",
       "      <th>reflection_subtype</th>\n",
       "      <th>question_exists</th>\n",
       "      <th>question_subtype</th>\n",
       "      <th>main_therapist_behaviour</th>\n",
       "      <th>client_talk_type</th>\n",
       "      <th>datetime</th>\n",
       "    </tr>\n",
       "  </thead>\n",
       "  <tbody>\n",
       "    <tr>\n",
       "      <th>0</th>\n",
       "      <td>high</td>\n",
       "      <td>0</td>\n",
       "      <td>reducing alcohol consumption</td>\n",
       "      <td>0</td>\n",
       "      <td>therapist</td>\n",
       "      <td>00:00:13</td>\n",
       "      <td>Thanks for filling it out. We give this form t...</td>\n",
       "      <td>3</td>\n",
       "      <td>False</td>\n",
       "      <td>NaN</td>\n",
       "      <td>False</td>\n",
       "      <td>NaN</td>\n",
       "      <td>True</td>\n",
       "      <td>open</td>\n",
       "      <td>question</td>\n",
       "      <td>NaN</td>\n",
       "      <td>2023-06-07 00:00:13</td>\n",
       "    </tr>\n",
       "    <tr>\n",
       "      <th>1</th>\n",
       "      <td>high</td>\n",
       "      <td>0</td>\n",
       "      <td>reducing alcohol consumption</td>\n",
       "      <td>1</td>\n",
       "      <td>client</td>\n",
       "      <td>00:00:24</td>\n",
       "      <td>Sure.</td>\n",
       "      <td>3</td>\n",
       "      <td>NaN</td>\n",
       "      <td>NaN</td>\n",
       "      <td>NaN</td>\n",
       "      <td>NaN</td>\n",
       "      <td>NaN</td>\n",
       "      <td>NaN</td>\n",
       "      <td>NaN</td>\n",
       "      <td>neutral</td>\n",
       "      <td>2023-06-07 00:00:24</td>\n",
       "    </tr>\n",
       "    <tr>\n",
       "      <th>2</th>\n",
       "      <td>high</td>\n",
       "      <td>0</td>\n",
       "      <td>reducing alcohol consumption</td>\n",
       "      <td>2</td>\n",
       "      <td>therapist</td>\n",
       "      <td>00:00:25</td>\n",
       "      <td>So, let's see. It looks that you put-- You dri...</td>\n",
       "      <td>3</td>\n",
       "      <td>True</td>\n",
       "      <td>information</td>\n",
       "      <td>False</td>\n",
       "      <td>NaN</td>\n",
       "      <td>False</td>\n",
       "      <td>NaN</td>\n",
       "      <td>therapist_input</td>\n",
       "      <td>NaN</td>\n",
       "      <td>2023-06-07 00:00:25</td>\n",
       "    </tr>\n",
       "    <tr>\n",
       "      <th>3</th>\n",
       "      <td>high</td>\n",
       "      <td>0</td>\n",
       "      <td>reducing alcohol consumption</td>\n",
       "      <td>3</td>\n",
       "      <td>client</td>\n",
       "      <td>00:00:34</td>\n",
       "      <td>Mm-hmm.</td>\n",
       "      <td>3</td>\n",
       "      <td>NaN</td>\n",
       "      <td>NaN</td>\n",
       "      <td>NaN</td>\n",
       "      <td>NaN</td>\n",
       "      <td>NaN</td>\n",
       "      <td>NaN</td>\n",
       "      <td>NaN</td>\n",
       "      <td>neutral</td>\n",
       "      <td>2023-06-07 00:00:34</td>\n",
       "    </tr>\n",
       "    <tr>\n",
       "      <th>4</th>\n",
       "      <td>high</td>\n",
       "      <td>0</td>\n",
       "      <td>reducing alcohol consumption</td>\n",
       "      <td>4</td>\n",
       "      <td>therapist</td>\n",
       "      <td>00:00:34</td>\n",
       "      <td>-and you usually have three to four drinks whe...</td>\n",
       "      <td>3</td>\n",
       "      <td>True</td>\n",
       "      <td>information</td>\n",
       "      <td>False</td>\n",
       "      <td>NaN</td>\n",
       "      <td>False</td>\n",
       "      <td>NaN</td>\n",
       "      <td>therapist_input</td>\n",
       "      <td>NaN</td>\n",
       "      <td>2023-06-07 00:00:34</td>\n",
       "    </tr>\n",
       "  </tbody>\n",
       "</table>\n",
       "</div>"
      ],
      "text/plain": [
       "  mi_quality  transcript_id                         topic  utterance_id  \\\n",
       "0       high              0  reducing alcohol consumption             0   \n",
       "1       high              0  reducing alcohol consumption             1   \n",
       "2       high              0  reducing alcohol consumption             2   \n",
       "3       high              0  reducing alcohol consumption             3   \n",
       "4       high              0  reducing alcohol consumption             4   \n",
       "\n",
       "  interlocutor timestamp                                     utterance_text  \\\n",
       "0    therapist  00:00:13  Thanks for filling it out. We give this form t...   \n",
       "1       client  00:00:24                                              Sure.   \n",
       "2    therapist  00:00:25  So, let's see. It looks that you put-- You dri...   \n",
       "3       client  00:00:34                                            Mm-hmm.   \n",
       "4    therapist  00:00:34  -and you usually have three to four drinks whe...   \n",
       "\n",
       "   annotator_id therapist_input_exists therapist_input_subtype  \\\n",
       "0             3                  False                     NaN   \n",
       "1             3                    NaN                     NaN   \n",
       "2             3                   True             information   \n",
       "3             3                    NaN                     NaN   \n",
       "4             3                   True             information   \n",
       "\n",
       "  reflection_exists reflection_subtype question_exists question_subtype  \\\n",
       "0             False                NaN            True             open   \n",
       "1               NaN                NaN             NaN              NaN   \n",
       "2             False                NaN           False              NaN   \n",
       "3               NaN                NaN             NaN              NaN   \n",
       "4             False                NaN           False              NaN   \n",
       "\n",
       "  main_therapist_behaviour client_talk_type            datetime  \n",
       "0                 question              NaN 2023-06-07 00:00:13  \n",
       "1                      NaN          neutral 2023-06-07 00:00:24  \n",
       "2          therapist_input              NaN 2023-06-07 00:00:25  \n",
       "3                      NaN          neutral 2023-06-07 00:00:34  \n",
       "4          therapist_input              NaN 2023-06-07 00:00:34  "
      ]
     },
     "execution_count": 7,
     "metadata": {},
     "output_type": "execute_result"
    }
   ],
   "source": [
    "anno_mi = pd.read_csv(\"AnnoMI-full.csv\")\n",
    "anno_mi[\"datetime\"] = pd.to_datetime(anno_mi[\"timestamp\"])\n",
    "anno_mi = anno_mi.drop(columns=[\"video_title\", \"video_url\"])\n",
    "anno_mi.head()"
   ]
  },
  {
   "cell_type": "code",
   "execution_count": 8,
   "id": "720d820f",
   "metadata": {},
   "outputs": [
    {
     "data": {
      "text/plain": [
       "therapist    6826\n",
       "client       6725\n",
       "Name: interlocutor, dtype: int64"
      ]
     },
     "execution_count": 8,
     "metadata": {},
     "output_type": "execute_result"
    }
   ],
   "source": [
    "anno_mi[\"interlocutor\"].value_counts()"
   ]
  },
  {
   "cell_type": "code",
   "execution_count": 9,
   "id": "84d5594d",
   "metadata": {},
   "outputs": [
    {
     "data": {
      "text/plain": [
       "other              0.313947\n",
       "question           0.286258\n",
       "reflection         0.251538\n",
       "therapist_input    0.148257\n",
       "Name: main_therapist_behaviour, dtype: float64"
      ]
     },
     "execution_count": 9,
     "metadata": {},
     "output_type": "execute_result"
    }
   ],
   "source": [
    "anno_mi[\"main_therapist_behaviour\"].value_counts() / anno_mi[\"interlocutor\"].value_counts()[\"therapist\"]"
   ]
  },
  {
   "cell_type": "code",
   "execution_count": 10,
   "id": "44217a68",
   "metadata": {},
   "outputs": [
    {
     "data": {
      "text/plain": [
       "neutral    0.627063\n",
       "change     0.248030\n",
       "sustain    0.124907\n",
       "Name: client_talk_type, dtype: float64"
      ]
     },
     "execution_count": 10,
     "metadata": {},
     "output_type": "execute_result"
    }
   ],
   "source": [
    "anno_mi[\"client_talk_type\"].value_counts() / anno_mi[\"interlocutor\"].value_counts()[\"client\"]"
   ]
  },
  {
   "cell_type": "code",
   "execution_count": 11,
   "id": "367137a3",
   "metadata": {},
   "outputs": [
    {
     "data": {
      "text/plain": [
       "therapist    6826\n",
       "client       6725\n",
       "Name: interlocutor, dtype: int64"
      ]
     },
     "execution_count": 11,
     "metadata": {},
     "output_type": "execute_result"
    }
   ],
   "source": [
    "anno_mi[\"interlocutor\"].value_counts()"
   ]
  },
  {
   "cell_type": "code",
   "execution_count": 12,
   "id": "9a5a319f",
   "metadata": {
    "scrolled": false
   },
   "outputs": [
    {
     "data": {
      "text/plain": [
       "reducing alcohol consumption                                                          2326\n",
       "more exercise / increasing activity                                                   2034\n",
       "reducing recidivism                                                                   1303\n",
       "reducing drug use                                                                     1104\n",
       "diabetes management                                                                    948\n",
       "smoking cessation                                                                      923\n",
       "smoking cessation                                                                      541\n",
       "taking medicine / following medical procedure                                          448\n",
       "asthma management                                                                      431\n",
       "avoiding DOI                                                                           394\n",
       "changing approach to disease                                                           315\n",
       "reducing gambling                                                                      297\n",
       "weight loss                                                                            294\n",
       "unidentifiable                                                                         287\n",
       "smoking cessation; reducing alcohol consumption                                        254\n",
       "overcoming issues at school                                                            167\n",
       "compliance with rules                                                                  146\n",
       "supporting client to live in more alignment with her values                            133\n",
       "increasing activity; taking medicine / following medical procedure                     126\n",
       "better oral health                                                                      97\n",
       "managing life                                                                           86\n",
       "anxiety management                                                                      79\n",
       "more exercise / increasing activity; weight loss                                        66\n",
       "Being assertive with flatmate about moving out                                          62\n",
       "reducing drug use; following medical procedure                                          59\n",
       "taking steps towards getting help with day-care                                         57\n",
       "reducing alcohol consumption; safe sex                                                  55\n",
       "reducing self-harm                                                                      54\n",
       "reducing coffee consumption                                                             51\n",
       "increasing self-confidence                                                              50\n",
       "completion of community service                                                         46\n",
       "reducing violence                                                                       41\n",
       "diet; reducing alcohol consumption; diabetes management                                 40\n",
       "weight loss; diet                                                                       36\n",
       "birth control                                                                           36\n",
       "reducing alcohol consumption; compliance with rules                                     31\n",
       "charging battery                                                                        29\n",
       "diagnosis                                                                               21\n",
       "providing information on medicines                                                      19\n",
       "engaging in community activities                                                        17\n",
       "problem recognition                                                                     16\n",
       "opening up                                                                              15\n",
       "recognising success                                                                     11\n",
       "not getting into a car with someone who is under the influence of drugs or alcohol       6\n",
       "Name: topic, dtype: int64"
      ]
     },
     "execution_count": 12,
     "metadata": {},
     "output_type": "execute_result"
    }
   ],
   "source": [
    "anno_mi[\"topic\"].value_counts()"
   ]
  },
  {
   "cell_type": "code",
   "execution_count": 13,
   "id": "507f8a50",
   "metadata": {},
   "outputs": [
    {
     "data": {
      "text/plain": [
       "133"
      ]
     },
     "execution_count": 13,
     "metadata": {},
     "output_type": "execute_result"
    }
   ],
   "source": [
    "len(anno_mi[\"transcript_id\"].unique())"
   ]
  },
  {
   "cell_type": "markdown",
   "id": "d31003be",
   "metadata": {},
   "source": [
    "## Only considering client for now..."
   ]
  },
  {
   "cell_type": "code",
   "execution_count": 14,
   "id": "a5a752a9",
   "metadata": {},
   "outputs": [
    {
     "data": {
      "text/plain": [
       "6725"
      ]
     },
     "execution_count": 14,
     "metadata": {},
     "output_type": "execute_result"
    }
   ],
   "source": [
    "client_index = [isinstance(x, str) for x in anno_mi[\"client_talk_type\"]]\n",
    "sum(client_index)"
   ]
  },
  {
   "cell_type": "code",
   "execution_count": 15,
   "id": "1a84179e",
   "metadata": {},
   "outputs": [
    {
     "data": {
      "text/plain": [
       "(6725,)"
      ]
     },
     "execution_count": 15,
     "metadata": {},
     "output_type": "execute_result"
    }
   ],
   "source": [
    "y_data = anno_mi[\"client_talk_type\"][client_index]\n",
    "y_data.shape"
   ]
  },
  {
   "cell_type": "code",
   "execution_count": 16,
   "id": "7272095b",
   "metadata": {},
   "outputs": [
    {
     "data": {
      "text/plain": [
       "1     neutral\n",
       "3     neutral\n",
       "5     neutral\n",
       "7     neutral\n",
       "9     neutral\n",
       "11    neutral\n",
       "13    neutral\n",
       "15    neutral\n",
       "17    neutral\n",
       "19    neutral\n",
       "21    neutral\n",
       "23    neutral\n",
       "25    neutral\n",
       "27    neutral\n",
       "29    neutral\n",
       "31    neutral\n",
       "33    neutral\n",
       "35     change\n",
       "37     change\n",
       "39     change\n",
       "Name: client_talk_type, dtype: object"
      ]
     },
     "execution_count": 16,
     "metadata": {},
     "output_type": "execute_result"
    }
   ],
   "source": [
    "y_data[0:20]"
   ]
  },
  {
   "cell_type": "code",
   "execution_count": 17,
   "id": "7b8bd903",
   "metadata": {},
   "outputs": [],
   "source": [
    "label_to_id = {y_data.unique()[i]: i for i in range(len(y_data.unique()))}\n",
    "id_to_label = {v: k for k, v in label_to_id.items()}"
   ]
  },
  {
   "cell_type": "code",
   "execution_count": 18,
   "id": "e478c216",
   "metadata": {},
   "outputs": [
    {
     "data": {
      "text/plain": [
       "{'neutral': 0, 'change': 1, 'sustain': 2}"
      ]
     },
     "execution_count": 18,
     "metadata": {},
     "output_type": "execute_result"
    }
   ],
   "source": [
    "label_to_id"
   ]
  },
  {
   "cell_type": "code",
   "execution_count": 19,
   "id": "4f716f8e",
   "metadata": {},
   "outputs": [
    {
     "data": {
      "text/plain": [
       "{0: 'neutral', 1: 'change', 2: 'sustain'}"
      ]
     },
     "execution_count": 19,
     "metadata": {},
     "output_type": "execute_result"
    }
   ],
   "source": [
    "id_to_label"
   ]
  },
  {
   "cell_type": "code",
   "execution_count": 20,
   "id": "e46018b4",
   "metadata": {},
   "outputs": [
    {
     "data": {
      "text/plain": [
       "[0, 0, 0, 0, 0, 0, 0, 0, 0, 0, 0, 0, 0, 0, 0, 0, 0, 1, 1, 1]"
      ]
     },
     "execution_count": 20,
     "metadata": {},
     "output_type": "execute_result"
    }
   ],
   "source": [
    "y_data = [label_to_id[x] for x in y_data]\n",
    "y_data[0:20]"
   ]
  },
  {
   "cell_type": "code",
   "execution_count": 21,
   "id": "30c4b24d",
   "metadata": {},
   "outputs": [
    {
     "data": {
      "text/plain": [
       "3"
      ]
     },
     "execution_count": 21,
     "metadata": {},
     "output_type": "execute_result"
    }
   ],
   "source": [
    "output_dim = len(label_to_id.values())\n",
    "output_dim"
   ]
  },
  {
   "cell_type": "markdown",
   "id": "07a35e43",
   "metadata": {},
   "source": [
    "## Obtaining SBERT Embeddings\n",
    "\n",
    "We can use the `SentenceEncoder` class within `nlpsig` to obtain sentence embeddings from a model. This class uses the [`sentence-transformer`](https://www.sbert.net/docs/package_reference/SentenceTransformer.html) package and here, we have use the pre-trained `all-MiniLM-L12-v2` model by passing this name as a string to the class - alternative models can be found [here](https://www.sbert.net/docs/pretrained_models.html).\n",
    "\n",
    "We can pass our dataframe and the column name which stores the sentences that we wish to encode along with the model name into the constructor of the class to initialise our sentence encoder as follows:"
   ]
  },
  {
   "cell_type": "code",
   "execution_count": 22,
   "id": "87e3568e",
   "metadata": {},
   "outputs": [],
   "source": [
    "# initialise the Text Encoder\n",
    "sentence_encoder = nlpsig.SentenceEncoder(df=anno_mi,\n",
    "                                          feature_name=\"utterance_text\",\n",
    "                                          model_name=\"all-MiniLM-L12-v2\")"
   ]
  },
  {
   "cell_type": "markdown",
   "id": "7b680def",
   "metadata": {},
   "source": [
    "We used the `.load_pretrained_model()` method to load in the pre-trained model - this may require you to download the model if this is the first time running the notebook."
   ]
  },
  {
   "cell_type": "code",
   "execution_count": 23,
   "id": "d2179853",
   "metadata": {},
   "outputs": [],
   "source": [
    "sentence_encoder.load_pretrained_model()"
   ]
  },
  {
   "cell_type": "markdown",
   "id": "93a0668d",
   "metadata": {},
   "source": [
    "We can then obtain embeddings via the `.obtain_embeddings()` method."
   ]
  },
  {
   "cell_type": "code",
   "execution_count": 24,
   "id": "7e03af88",
   "metadata": {},
   "outputs": [
    {
     "name": "stdout",
     "output_type": "stream",
     "text": [
      "[INFO] number of sentences to encode: 13551\n"
     ]
    },
    {
     "data": {
      "application/vnd.jupyter.widget-view+json": {
       "model_id": "d7183e19e7a740608ced9bc411918013",
       "version_major": 2,
       "version_minor": 0
      },
      "text/plain": [
       "Batches:   0%|          | 0/212 [00:00<?, ?it/s]"
      ]
     },
     "metadata": {},
     "output_type": "display_data"
    }
   ],
   "source": [
    "sbert_embeddings = sentence_encoder.obtain_embeddings()"
   ]
  },
  {
   "cell_type": "code",
   "execution_count": 25,
   "id": "64d868d9",
   "metadata": {},
   "outputs": [
    {
     "data": {
      "text/plain": [
       "(13551, 384)"
      ]
     },
     "execution_count": 25,
     "metadata": {},
     "output_type": "execute_result"
    }
   ],
   "source": [
    "sbert_embeddings.shape"
   ]
  },
  {
   "cell_type": "markdown",
   "id": "65921a6d",
   "metadata": {},
   "source": [
    "We can save our embeddings for use later:"
   ]
  },
  {
   "cell_type": "code",
   "execution_count": 26,
   "id": "84b34862",
   "metadata": {},
   "outputs": [],
   "source": [
    "np.save(f\"{output_dir}/anno_mi_client_sentence_embeddings_384\",\n",
    "        sbert_embeddings)"
   ]
  },
  {
   "cell_type": "code",
   "execution_count": 22,
   "id": "1c672e12",
   "metadata": {},
   "outputs": [],
   "source": [
    "sbert_embeddings = np.load(f\"{output_dir}/anno_mi_client_sentence_embeddings_384.npy\")"
   ]
  },
  {
   "cell_type": "markdown",
   "id": "21be231a",
   "metadata": {},
   "source": [
    "# Baseline: FFN baseline\n",
    "\n",
    "Using the embeddings for the sentences directly in a FFN to predict the client talk type."
   ]
  },
  {
   "cell_type": "markdown",
   "id": "0697e221",
   "metadata": {},
   "source": [
    "Going to try out some variations (1 hidden layer, 2 hidden layers and 3 hidden layers - all of size 100)"
   ]
  },
  {
   "cell_type": "code",
   "execution_count": 36,
   "id": "bcf70846",
   "metadata": {},
   "outputs": [],
   "source": [
    "num_epochs = 100\n",
    "hidden_dim_sizes = [[100]*i for i in range(1, 4)]\n",
    "dropout_rates = [0.5, 0.2, 0.1]\n",
    "learning_rates = [5e-3, 1e-3, 5e-4, 1e-4, 1e-5]\n",
    "seeds = [0, 1, 12, 123, 1234]\n",
    "loss = \"focal\"\n",
    "gamma = 2\n",
    "validation_metric = \"f1\""
   ]
  },
  {
   "cell_type": "code",
   "execution_count": 37,
   "id": "cb066ccc",
   "metadata": {},
   "outputs": [
    {
     "data": {
      "text/plain": [
       "[[100], [100, 100], [100, 100, 100]]"
      ]
     },
     "execution_count": 37,
     "metadata": {},
     "output_type": "execute_result"
    }
   ],
   "source": [
    "hidden_dim_sizes"
   ]
  },
  {
   "cell_type": "code",
   "execution_count": 38,
   "id": "808b1de7",
   "metadata": {},
   "outputs": [
    {
     "data": {
      "text/plain": [
       "[0.005, 0.001, 0.0005, 0.0001, 1e-05]"
      ]
     },
     "execution_count": 38,
     "metadata": {},
     "output_type": "execute_result"
    }
   ],
   "source": [
    "learning_rates"
   ]
  },
  {
   "cell_type": "code",
   "execution_count": 39,
   "id": "03228aca",
   "metadata": {
    "scrolled": false
   },
   "outputs": [
    {
     "data": {
      "application/vnd.jupyter.widget-view+json": {
       "model_id": "f44327037c094b2fb757ac519d66f2b8",
       "version_major": 2,
       "version_minor": 0
      },
      "text/plain": [
       "  0%|          | 0/3 [00:00<?, ?it/s]"
      ]
     },
     "metadata": {},
     "output_type": "display_data"
    },
    {
     "data": {
      "application/vnd.jupyter.widget-view+json": {
       "model_id": "2dadf9d0856c411cbe58322d6fd6dc7d",
       "version_major": 2,
       "version_minor": 0
      },
      "text/plain": [
       "  0%|          | 0/3 [00:00<?, ?it/s]"
      ]
     },
     "metadata": {},
     "output_type": "display_data"
    },
    {
     "data": {
      "application/vnd.jupyter.widget-view+json": {
       "model_id": "10bdd4413bf34ea79564f3837a41dbac",
       "version_major": 2,
       "version_minor": 0
      },
      "text/plain": [
       "  0%|          | 0/5 [00:00<?, ?it/s]"
      ]
     },
     "metadata": {},
     "output_type": "display_data"
    },
    {
     "data": {
      "application/vnd.jupyter.widget-view+json": {
       "model_id": "10affe8ad4914bbfb9bf600a8a2d1048",
       "version_major": 2,
       "version_minor": 0
      },
      "text/plain": [
       "  0%|          | 0/5 [00:00<?, ?it/s]"
      ]
     },
     "metadata": {},
     "output_type": "display_data"
    },
    {
     "data": {
      "application/vnd.jupyter.widget-view+json": {
       "model_id": "f258492939514160a74372bb764d4750",
       "version_major": 2,
       "version_minor": 0
      },
      "text/plain": [
       "  0%|          | 0/5 [00:00<?, ?it/s]"
      ]
     },
     "metadata": {},
     "output_type": "display_data"
    },
    {
     "data": {
      "application/vnd.jupyter.widget-view+json": {
       "model_id": "1812fd3fb91342d589921c16eb74c199",
       "version_major": 2,
       "version_minor": 0
      },
      "text/plain": [
       "  0%|          | 0/3 [00:00<?, ?it/s]"
      ]
     },
     "metadata": {},
     "output_type": "display_data"
    },
    {
     "data": {
      "application/vnd.jupyter.widget-view+json": {
       "model_id": "aed93f6e7d0643ad971d747748c932fb",
       "version_major": 2,
       "version_minor": 0
      },
      "text/plain": [
       "  0%|          | 0/5 [00:00<?, ?it/s]"
      ]
     },
     "metadata": {},
     "output_type": "display_data"
    },
    {
     "data": {
      "application/vnd.jupyter.widget-view+json": {
       "model_id": "3216b9bccd5d45d18b4f9d7cd1745a85",
       "version_major": 2,
       "version_minor": 0
      },
      "text/plain": [
       "  0%|          | 0/5 [00:00<?, ?it/s]"
      ]
     },
     "metadata": {},
     "output_type": "display_data"
    },
    {
     "data": {
      "application/vnd.jupyter.widget-view+json": {
       "model_id": "9b2c8189fe6947b789446de8e6d472b2",
       "version_major": 2,
       "version_minor": 0
      },
      "text/plain": [
       "  0%|          | 0/5 [00:00<?, ?it/s]"
      ]
     },
     "metadata": {},
     "output_type": "display_data"
    },
    {
     "data": {
      "application/vnd.jupyter.widget-view+json": {
       "model_id": "33afb0e2ed2b4822a252cfedce2abde6",
       "version_major": 2,
       "version_minor": 0
      },
      "text/plain": [
       "  0%|          | 0/3 [00:00<?, ?it/s]"
      ]
     },
     "metadata": {},
     "output_type": "display_data"
    },
    {
     "data": {
      "application/vnd.jupyter.widget-view+json": {
       "model_id": "dd073570eb444165a0c262e9fadc2cf8",
       "version_major": 2,
       "version_minor": 0
      },
      "text/plain": [
       "  0%|          | 0/5 [00:00<?, ?it/s]"
      ]
     },
     "metadata": {},
     "output_type": "display_data"
    },
    {
     "data": {
      "application/vnd.jupyter.widget-view+json": {
       "model_id": "2cd7e7373df247cda5a035d0341968f7",
       "version_major": 2,
       "version_minor": 0
      },
      "text/plain": [
       "  0%|          | 0/5 [00:00<?, ?it/s]"
      ]
     },
     "metadata": {},
     "output_type": "display_data"
    },
    {
     "data": {
      "application/vnd.jupyter.widget-view+json": {
       "model_id": "7dd2fd8bcbc64d52b5c76bdb27b04e24",
       "version_major": 2,
       "version_minor": 0
      },
      "text/plain": [
       "  0%|          | 0/5 [00:00<?, ?it/s]"
      ]
     },
     "metadata": {},
     "output_type": "display_data"
    },
    {
     "name": "stdout",
     "output_type": "stream",
     "text": [
      "saving results dataframe to CSV for this hyperparameter search in ffn_current_focal_2.csv\n",
      "saving the best model results dataframe to CSV for this hyperparameter search in ffn_current_focal_2_best_model.csv\n"
     ]
    }
   ],
   "source": [
    "ffn_current, best_ffn_current, _, __ = ffn_hyperparameter_search(\n",
    "    num_epochs=num_epochs,\n",
    "    x_data=sbert_embeddings[client_index],\n",
    "    y_data=y_data,\n",
    "    hidden_dim_sizes=hidden_dim_sizes,\n",
    "    output_dim=output_dim,\n",
    "    dropout_rates=dropout_rates,\n",
    "    learning_rates=learning_rates,\n",
    "    seeds=seeds,\n",
    "    loss=loss,\n",
    "    gamma=gamma,\n",
    "    k_fold=False,\n",
    "    validation_metric=validation_metric,\n",
    "    results_output=f\"{output_dir}/ffn_current_focal_{gamma}.csv\",\n",
    "    verbose=False\n",
    ")"
   ]
  },
  {
   "cell_type": "code",
   "execution_count": 40,
   "id": "6e3c1c45",
   "metadata": {},
   "outputs": [
    {
     "data": {
      "text/html": [
       "<div>\n",
       "<style scoped>\n",
       "    .dataframe tbody tr th:only-of-type {\n",
       "        vertical-align: middle;\n",
       "    }\n",
       "\n",
       "    .dataframe tbody tr th {\n",
       "        vertical-align: top;\n",
       "    }\n",
       "\n",
       "    .dataframe thead th {\n",
       "        text-align: right;\n",
       "    }\n",
       "</style>\n",
       "<table border=\"1\" class=\"dataframe\">\n",
       "  <thead>\n",
       "    <tr style=\"text-align: right;\">\n",
       "      <th></th>\n",
       "      <th>loss</th>\n",
       "      <th>accuracy</th>\n",
       "      <th>f1</th>\n",
       "      <th>f1_scores</th>\n",
       "      <th>valid_loss</th>\n",
       "      <th>valid_accuracy</th>\n",
       "      <th>valid_f1</th>\n",
       "      <th>valid_f1_scores</th>\n",
       "      <th>hidden_dim</th>\n",
       "      <th>dropout_rate</th>\n",
       "      <th>learning_rate</th>\n",
       "      <th>seed</th>\n",
       "      <th>gamma</th>\n",
       "      <th>k_fold</th>\n",
       "      <th>model_id</th>\n",
       "    </tr>\n",
       "  </thead>\n",
       "  <tbody>\n",
       "    <tr>\n",
       "      <th>0</th>\n",
       "      <td>focal</td>\n",
       "      <td>0.684015</td>\n",
       "      <td>0.618947</td>\n",
       "      <td>[0.7808471454880296, 0.5281899109792284, 0.547...</td>\n",
       "      <td>0.564228</td>\n",
       "      <td>0.694238</td>\n",
       "      <td>0.607537</td>\n",
       "      <td>[0.7920646583394563, 0.5475285171102662, 0.483...</td>\n",
       "      <td>[100]</td>\n",
       "      <td>0.5</td>\n",
       "      <td>0.00500</td>\n",
       "      <td>0</td>\n",
       "      <td>2</td>\n",
       "      <td>False</td>\n",
       "      <td>0</td>\n",
       "    </tr>\n",
       "    <tr>\n",
       "      <th>0</th>\n",
       "      <td>focal</td>\n",
       "      <td>0.692937</td>\n",
       "      <td>0.605870</td>\n",
       "      <td>[0.7964912280701756, 0.5169628432956381, 0.504...</td>\n",
       "      <td>0.574431</td>\n",
       "      <td>0.726766</td>\n",
       "      <td>0.623467</td>\n",
       "      <td>[0.821629213483146, 0.5737704918032787, 0.475]</td>\n",
       "      <td>[100]</td>\n",
       "      <td>0.5</td>\n",
       "      <td>0.00500</td>\n",
       "      <td>1</td>\n",
       "      <td>2</td>\n",
       "      <td>False</td>\n",
       "      <td>0</td>\n",
       "    </tr>\n",
       "    <tr>\n",
       "      <th>0</th>\n",
       "      <td>focal</td>\n",
       "      <td>0.695911</td>\n",
       "      <td>0.619387</td>\n",
       "      <td>[0.7940652818991099, 0.529032258064516, 0.5350...</td>\n",
       "      <td>0.668241</td>\n",
       "      <td>0.706320</td>\n",
       "      <td>0.613244</td>\n",
       "      <td>[0.804332129963899, 0.5559999999999999, 0.4794...</td>\n",
       "      <td>[100]</td>\n",
       "      <td>0.5</td>\n",
       "      <td>0.00500</td>\n",
       "      <td>12</td>\n",
       "      <td>2</td>\n",
       "      <td>False</td>\n",
       "      <td>0</td>\n",
       "    </tr>\n",
       "    <tr>\n",
       "      <th>0</th>\n",
       "      <td>focal</td>\n",
       "      <td>0.698141</td>\n",
       "      <td>0.611627</td>\n",
       "      <td>[0.79976717112922, 0.5218855218855218, 0.51322...</td>\n",
       "      <td>0.542071</td>\n",
       "      <td>0.713755</td>\n",
       "      <td>0.611268</td>\n",
       "      <td>[0.8147622427253371, 0.5546218487394958, 0.464...</td>\n",
       "      <td>[100]</td>\n",
       "      <td>0.5</td>\n",
       "      <td>0.00500</td>\n",
       "      <td>123</td>\n",
       "      <td>2</td>\n",
       "      <td>False</td>\n",
       "      <td>0</td>\n",
       "    </tr>\n",
       "    <tr>\n",
       "      <th>0</th>\n",
       "      <td>focal</td>\n",
       "      <td>0.696654</td>\n",
       "      <td>0.618950</td>\n",
       "      <td>[0.793575252825699, 0.5481239804241436, 0.5151...</td>\n",
       "      <td>0.681275</td>\n",
       "      <td>0.716543</td>\n",
       "      <td>0.625144</td>\n",
       "      <td>[0.8127259580621836, 0.5720000000000001, 0.490...</td>\n",
       "      <td>[100]</td>\n",
       "      <td>0.5</td>\n",
       "      <td>0.00500</td>\n",
       "      <td>1234</td>\n",
       "      <td>2</td>\n",
       "      <td>False</td>\n",
       "      <td>0</td>\n",
       "    </tr>\n",
       "    <tr>\n",
       "      <th>...</th>\n",
       "      <td>...</td>\n",
       "      <td>...</td>\n",
       "      <td>...</td>\n",
       "      <td>...</td>\n",
       "      <td>...</td>\n",
       "      <td>...</td>\n",
       "      <td>...</td>\n",
       "      <td>...</td>\n",
       "      <td>...</td>\n",
       "      <td>...</td>\n",
       "      <td>...</td>\n",
       "      <td>...</td>\n",
       "      <td>...</td>\n",
       "      <td>...</td>\n",
       "      <td>...</td>\n",
       "    </tr>\n",
       "    <tr>\n",
       "      <th>0</th>\n",
       "      <td>focal</td>\n",
       "      <td>0.645353</td>\n",
       "      <td>0.531895</td>\n",
       "      <td>[0.7853403141361256, 0.3394833948339484, 0.470...</td>\n",
       "      <td>0.592595</td>\n",
       "      <td>0.650558</td>\n",
       "      <td>0.522043</td>\n",
       "      <td>[0.7971530249110321, 0.3333333333333333, 0.435...</td>\n",
       "      <td>[100, 100, 100]</td>\n",
       "      <td>0.1</td>\n",
       "      <td>0.00001</td>\n",
       "      <td>0</td>\n",
       "      <td>2</td>\n",
       "      <td>False</td>\n",
       "      <td>44</td>\n",
       "    </tr>\n",
       "    <tr>\n",
       "      <th>0</th>\n",
       "      <td>focal</td>\n",
       "      <td>0.596283</td>\n",
       "      <td>0.387553</td>\n",
       "      <td>[0.7388016288539849, 0.42385786802030456, 0.0]</td>\n",
       "      <td>0.758998</td>\n",
       "      <td>0.602230</td>\n",
       "      <td>0.386229</td>\n",
       "      <td>[0.7382840663302092, 0.4204018547140649, 0.0]</td>\n",
       "      <td>[100, 100, 100]</td>\n",
       "      <td>0.1</td>\n",
       "      <td>0.00001</td>\n",
       "      <td>1</td>\n",
       "      <td>2</td>\n",
       "      <td>False</td>\n",
       "      <td>44</td>\n",
       "    </tr>\n",
       "    <tr>\n",
       "      <th>0</th>\n",
       "      <td>focal</td>\n",
       "      <td>0.647584</td>\n",
       "      <td>0.418361</td>\n",
       "      <td>[0.7968036529680366, 0.45827814569536424, 0.0]</td>\n",
       "      <td>0.643662</td>\n",
       "      <td>0.671933</td>\n",
       "      <td>0.431289</td>\n",
       "      <td>[0.8022284122562674, 0.4916387959866221, 0.0]</td>\n",
       "      <td>[100, 100, 100]</td>\n",
       "      <td>0.1</td>\n",
       "      <td>0.00001</td>\n",
       "      <td>12</td>\n",
       "      <td>2</td>\n",
       "      <td>False</td>\n",
       "      <td>44</td>\n",
       "    </tr>\n",
       "    <tr>\n",
       "      <th>0</th>\n",
       "      <td>focal</td>\n",
       "      <td>0.645353</td>\n",
       "      <td>0.413831</td>\n",
       "      <td>[0.796149490373726, 0.44534412955465585, 0.0]</td>\n",
       "      <td>0.639678</td>\n",
       "      <td>0.675651</td>\n",
       "      <td>0.429970</td>\n",
       "      <td>[0.8079834824501033, 0.48192771084337344, 0.0]</td>\n",
       "      <td>[100, 100, 100]</td>\n",
       "      <td>0.1</td>\n",
       "      <td>0.00001</td>\n",
       "      <td>123</td>\n",
       "      <td>2</td>\n",
       "      <td>False</td>\n",
       "      <td>44</td>\n",
       "    </tr>\n",
       "    <tr>\n",
       "      <th>0</th>\n",
       "      <td>focal</td>\n",
       "      <td>0.657249</td>\n",
       "      <td>0.557803</td>\n",
       "      <td>[0.7898465171192444, 0.3835616438356165, 0.5]</td>\n",
       "      <td>0.584770</td>\n",
       "      <td>0.656134</td>\n",
       "      <td>0.537666</td>\n",
       "      <td>[0.7974044700793078, 0.37656903765690375, 0.43...</td>\n",
       "      <td>[100, 100, 100]</td>\n",
       "      <td>0.1</td>\n",
       "      <td>0.00001</td>\n",
       "      <td>1234</td>\n",
       "      <td>2</td>\n",
       "      <td>False</td>\n",
       "      <td>44</td>\n",
       "    </tr>\n",
       "  </tbody>\n",
       "</table>\n",
       "<p>225 rows × 15 columns</p>\n",
       "</div>"
      ],
      "text/plain": [
       "     loss  accuracy        f1  \\\n",
       "0   focal  0.684015  0.618947   \n",
       "0   focal  0.692937  0.605870   \n",
       "0   focal  0.695911  0.619387   \n",
       "0   focal  0.698141  0.611627   \n",
       "0   focal  0.696654  0.618950   \n",
       "..    ...       ...       ...   \n",
       "0   focal  0.645353  0.531895   \n",
       "0   focal  0.596283  0.387553   \n",
       "0   focal  0.647584  0.418361   \n",
       "0   focal  0.645353  0.413831   \n",
       "0   focal  0.657249  0.557803   \n",
       "\n",
       "                                            f1_scores  valid_loss  \\\n",
       "0   [0.7808471454880296, 0.5281899109792284, 0.547...    0.564228   \n",
       "0   [0.7964912280701756, 0.5169628432956381, 0.504...    0.574431   \n",
       "0   [0.7940652818991099, 0.529032258064516, 0.5350...    0.668241   \n",
       "0   [0.79976717112922, 0.5218855218855218, 0.51322...    0.542071   \n",
       "0   [0.793575252825699, 0.5481239804241436, 0.5151...    0.681275   \n",
       "..                                                ...         ...   \n",
       "0   [0.7853403141361256, 0.3394833948339484, 0.470...    0.592595   \n",
       "0      [0.7388016288539849, 0.42385786802030456, 0.0]    0.758998   \n",
       "0      [0.7968036529680366, 0.45827814569536424, 0.0]    0.643662   \n",
       "0       [0.796149490373726, 0.44534412955465585, 0.0]    0.639678   \n",
       "0       [0.7898465171192444, 0.3835616438356165, 0.5]    0.584770   \n",
       "\n",
       "    valid_accuracy  valid_f1  \\\n",
       "0         0.694238  0.607537   \n",
       "0         0.726766  0.623467   \n",
       "0         0.706320  0.613244   \n",
       "0         0.713755  0.611268   \n",
       "0         0.716543  0.625144   \n",
       "..             ...       ...   \n",
       "0         0.650558  0.522043   \n",
       "0         0.602230  0.386229   \n",
       "0         0.671933  0.431289   \n",
       "0         0.675651  0.429970   \n",
       "0         0.656134  0.537666   \n",
       "\n",
       "                                      valid_f1_scores       hidden_dim  \\\n",
       "0   [0.7920646583394563, 0.5475285171102662, 0.483...            [100]   \n",
       "0      [0.821629213483146, 0.5737704918032787, 0.475]            [100]   \n",
       "0   [0.804332129963899, 0.5559999999999999, 0.4794...            [100]   \n",
       "0   [0.8147622427253371, 0.5546218487394958, 0.464...            [100]   \n",
       "0   [0.8127259580621836, 0.5720000000000001, 0.490...            [100]   \n",
       "..                                                ...              ...   \n",
       "0   [0.7971530249110321, 0.3333333333333333, 0.435...  [100, 100, 100]   \n",
       "0       [0.7382840663302092, 0.4204018547140649, 0.0]  [100, 100, 100]   \n",
       "0       [0.8022284122562674, 0.4916387959866221, 0.0]  [100, 100, 100]   \n",
       "0      [0.8079834824501033, 0.48192771084337344, 0.0]  [100, 100, 100]   \n",
       "0   [0.7974044700793078, 0.37656903765690375, 0.43...  [100, 100, 100]   \n",
       "\n",
       "    dropout_rate  learning_rate  seed  gamma  k_fold  model_id  \n",
       "0            0.5        0.00500     0      2   False         0  \n",
       "0            0.5        0.00500     1      2   False         0  \n",
       "0            0.5        0.00500    12      2   False         0  \n",
       "0            0.5        0.00500   123      2   False         0  \n",
       "0            0.5        0.00500  1234      2   False         0  \n",
       "..           ...            ...   ...    ...     ...       ...  \n",
       "0            0.1        0.00001     0      2   False        44  \n",
       "0            0.1        0.00001     1      2   False        44  \n",
       "0            0.1        0.00001    12      2   False        44  \n",
       "0            0.1        0.00001   123      2   False        44  \n",
       "0            0.1        0.00001  1234      2   False        44  \n",
       "\n",
       "[225 rows x 15 columns]"
      ]
     },
     "execution_count": 40,
     "metadata": {},
     "output_type": "execute_result"
    }
   ],
   "source": [
    "ffn_current"
   ]
  },
  {
   "cell_type": "code",
   "execution_count": 41,
   "id": "32e429b4",
   "metadata": {},
   "outputs": [
    {
     "data": {
      "text/html": [
       "<div>\n",
       "<style scoped>\n",
       "    .dataframe tbody tr th:only-of-type {\n",
       "        vertical-align: middle;\n",
       "    }\n",
       "\n",
       "    .dataframe tbody tr th {\n",
       "        vertical-align: top;\n",
       "    }\n",
       "\n",
       "    .dataframe thead th {\n",
       "        text-align: right;\n",
       "    }\n",
       "</style>\n",
       "<table border=\"1\" class=\"dataframe\">\n",
       "  <thead>\n",
       "    <tr style=\"text-align: right;\">\n",
       "      <th></th>\n",
       "      <th>loss</th>\n",
       "      <th>accuracy</th>\n",
       "      <th>f1</th>\n",
       "      <th>f1_scores</th>\n",
       "      <th>valid_loss</th>\n",
       "      <th>valid_accuracy</th>\n",
       "      <th>valid_f1</th>\n",
       "      <th>valid_f1_scores</th>\n",
       "      <th>hidden_dim</th>\n",
       "      <th>dropout_rate</th>\n",
       "      <th>learning_rate</th>\n",
       "      <th>seed</th>\n",
       "      <th>gamma</th>\n",
       "      <th>k_fold</th>\n",
       "    </tr>\n",
       "  </thead>\n",
       "  <tbody>\n",
       "    <tr>\n",
       "      <th>0</th>\n",
       "      <td>focal</td>\n",
       "      <td>0.699628</td>\n",
       "      <td>0.616654</td>\n",
       "      <td>[0.7990654205607477, 0.525963149078727, 0.5249...</td>\n",
       "      <td>0.632668</td>\n",
       "      <td>0.722119</td>\n",
       "      <td>0.627415</td>\n",
       "      <td>[0.8181174805378627, 0.5546218487394958, 0.509...</td>\n",
       "      <td>[100]</td>\n",
       "      <td>0.5</td>\n",
       "      <td>0.001</td>\n",
       "      <td>0</td>\n",
       "      <td>2</td>\n",
       "      <td>False</td>\n",
       "    </tr>\n",
       "    <tr>\n",
       "      <th>0</th>\n",
       "      <td>focal</td>\n",
       "      <td>0.704833</td>\n",
       "      <td>0.627111</td>\n",
       "      <td>[0.7983490566037734, 0.5552050473186121, 0.527...</td>\n",
       "      <td>0.681163</td>\n",
       "      <td>0.714684</td>\n",
       "      <td>0.622294</td>\n",
       "      <td>[0.8117394416607016, 0.5490196078431373, 0.506...</td>\n",
       "      <td>[100]</td>\n",
       "      <td>0.5</td>\n",
       "      <td>0.001</td>\n",
       "      <td>1</td>\n",
       "      <td>2</td>\n",
       "      <td>False</td>\n",
       "    </tr>\n",
       "    <tr>\n",
       "      <th>0</th>\n",
       "      <td>focal</td>\n",
       "      <td>0.704089</td>\n",
       "      <td>0.625025</td>\n",
       "      <td>[0.8009395184967704, 0.5366666666666666, 0.537...</td>\n",
       "      <td>0.568209</td>\n",
       "      <td>0.726766</td>\n",
       "      <td>0.635061</td>\n",
       "      <td>[0.8222698072805139, 0.5684210526315789, 0.514...</td>\n",
       "      <td>[100]</td>\n",
       "      <td>0.5</td>\n",
       "      <td>0.001</td>\n",
       "      <td>12</td>\n",
       "      <td>2</td>\n",
       "      <td>False</td>\n",
       "    </tr>\n",
       "    <tr>\n",
       "      <th>0</th>\n",
       "      <td>focal</td>\n",
       "      <td>0.694424</td>\n",
       "      <td>0.618451</td>\n",
       "      <td>[0.7903130537507383, 0.5288461538461539, 0.536...</td>\n",
       "      <td>0.608452</td>\n",
       "      <td>0.724907</td>\n",
       "      <td>0.633952</td>\n",
       "      <td>[0.8160919540229885, 0.5896414342629483, 0.496...</td>\n",
       "      <td>[100]</td>\n",
       "      <td>0.5</td>\n",
       "      <td>0.001</td>\n",
       "      <td>123</td>\n",
       "      <td>2</td>\n",
       "      <td>False</td>\n",
       "    </tr>\n",
       "    <tr>\n",
       "      <th>0</th>\n",
       "      <td>focal</td>\n",
       "      <td>0.698885</td>\n",
       "      <td>0.624533</td>\n",
       "      <td>[0.7961859356376638, 0.5333333333333333, 0.544...</td>\n",
       "      <td>0.541399</td>\n",
       "      <td>0.716543</td>\n",
       "      <td>0.627569</td>\n",
       "      <td>[0.8112798264642083, 0.5714285714285714, 0.5]</td>\n",
       "      <td>[100]</td>\n",
       "      <td>0.5</td>\n",
       "      <td>0.001</td>\n",
       "      <td>1234</td>\n",
       "      <td>2</td>\n",
       "      <td>False</td>\n",
       "    </tr>\n",
       "  </tbody>\n",
       "</table>\n",
       "</div>"
      ],
      "text/plain": [
       "    loss  accuracy        f1  \\\n",
       "0  focal  0.699628  0.616654   \n",
       "0  focal  0.704833  0.627111   \n",
       "0  focal  0.704089  0.625025   \n",
       "0  focal  0.694424  0.618451   \n",
       "0  focal  0.698885  0.624533   \n",
       "\n",
       "                                           f1_scores  valid_loss  \\\n",
       "0  [0.7990654205607477, 0.525963149078727, 0.5249...    0.632668   \n",
       "0  [0.7983490566037734, 0.5552050473186121, 0.527...    0.681163   \n",
       "0  [0.8009395184967704, 0.5366666666666666, 0.537...    0.568209   \n",
       "0  [0.7903130537507383, 0.5288461538461539, 0.536...    0.608452   \n",
       "0  [0.7961859356376638, 0.5333333333333333, 0.544...    0.541399   \n",
       "\n",
       "   valid_accuracy  valid_f1  \\\n",
       "0        0.722119  0.627415   \n",
       "0        0.714684  0.622294   \n",
       "0        0.726766  0.635061   \n",
       "0        0.724907  0.633952   \n",
       "0        0.716543  0.627569   \n",
       "\n",
       "                                     valid_f1_scores hidden_dim  dropout_rate  \\\n",
       "0  [0.8181174805378627, 0.5546218487394958, 0.509...      [100]           0.5   \n",
       "0  [0.8117394416607016, 0.5490196078431373, 0.506...      [100]           0.5   \n",
       "0  [0.8222698072805139, 0.5684210526315789, 0.514...      [100]           0.5   \n",
       "0  [0.8160919540229885, 0.5896414342629483, 0.496...      [100]           0.5   \n",
       "0      [0.8112798264642083, 0.5714285714285714, 0.5]      [100]           0.5   \n",
       "\n",
       "   learning_rate  seed  gamma  k_fold  \n",
       "0          0.001     0      2   False  \n",
       "0          0.001     1      2   False  \n",
       "0          0.001    12      2   False  \n",
       "0          0.001   123      2   False  \n",
       "0          0.001  1234      2   False  "
      ]
     },
     "execution_count": 41,
     "metadata": {},
     "output_type": "execute_result"
    }
   ],
   "source": [
    "best_ffn_current"
   ]
  },
  {
   "cell_type": "code",
   "execution_count": 42,
   "id": "c1cd3480",
   "metadata": {},
   "outputs": [
    {
     "data": {
      "text/plain": [
       "0.6223547220370722"
      ]
     },
     "execution_count": 42,
     "metadata": {},
     "output_type": "execute_result"
    }
   ],
   "source": [
    "best_ffn_current[\"f1\"].mean()"
   ]
  },
  {
   "cell_type": "code",
   "execution_count": 68,
   "id": "8b6236ca",
   "metadata": {},
   "outputs": [
    {
     "data": {
      "text/plain": [
       "array([0.7969706 , 0.53600287, 0.5340907 ])"
      ]
     },
     "execution_count": 68,
     "metadata": {},
     "output_type": "execute_result"
    }
   ],
   "source": [
    "np.stack(best_ffn_current[\"f1_scores\"]).mean(axis=0)"
   ]
  },
  {
   "cell_type": "code",
   "execution_count": 43,
   "id": "171c2dab",
   "metadata": {
    "scrolled": false
   },
   "outputs": [
    {
     "data": {
      "application/vnd.jupyter.widget-view+json": {
       "model_id": "ab4fc91892034fcd9f93f309f35bdbd2",
       "version_major": 2,
       "version_minor": 0
      },
      "text/plain": [
       "  0%|          | 0/3 [00:00<?, ?it/s]"
      ]
     },
     "metadata": {},
     "output_type": "display_data"
    },
    {
     "data": {
      "application/vnd.jupyter.widget-view+json": {
       "model_id": "704f45173b6d40d98e6b4779556cb677",
       "version_major": 2,
       "version_minor": 0
      },
      "text/plain": [
       "  0%|          | 0/3 [00:00<?, ?it/s]"
      ]
     },
     "metadata": {},
     "output_type": "display_data"
    },
    {
     "data": {
      "application/vnd.jupyter.widget-view+json": {
       "model_id": "5d76b816786545f99e49a58e4585c1f3",
       "version_major": 2,
       "version_minor": 0
      },
      "text/plain": [
       "  0%|          | 0/5 [00:00<?, ?it/s]"
      ]
     },
     "metadata": {},
     "output_type": "display_data"
    },
    {
     "data": {
      "application/vnd.jupyter.widget-view+json": {
       "model_id": "17e8207362b64de7b879b210a5105ea7",
       "version_major": 2,
       "version_minor": 0
      },
      "text/plain": [
       "  0%|          | 0/5 [00:00<?, ?it/s]"
      ]
     },
     "metadata": {},
     "output_type": "display_data"
    },
    {
     "data": {
      "application/vnd.jupyter.widget-view+json": {
       "model_id": "521f3ee553c14db095397d93c9b1aa7b",
       "version_major": 2,
       "version_minor": 0
      },
      "text/plain": [
       "  0%|          | 0/5 [00:00<?, ?it/s]"
      ]
     },
     "metadata": {},
     "output_type": "display_data"
    },
    {
     "data": {
      "application/vnd.jupyter.widget-view+json": {
       "model_id": "0381bea73fab4022a7a2f104a1928cf3",
       "version_major": 2,
       "version_minor": 0
      },
      "text/plain": [
       "  0%|          | 0/3 [00:00<?, ?it/s]"
      ]
     },
     "metadata": {},
     "output_type": "display_data"
    },
    {
     "data": {
      "application/vnd.jupyter.widget-view+json": {
       "model_id": "11033981a39a4616995966afdfd6e030",
       "version_major": 2,
       "version_minor": 0
      },
      "text/plain": [
       "  0%|          | 0/5 [00:00<?, ?it/s]"
      ]
     },
     "metadata": {},
     "output_type": "display_data"
    },
    {
     "data": {
      "application/vnd.jupyter.widget-view+json": {
       "model_id": "80f6861ffa5c4d9a91aa8d1988f75e5f",
       "version_major": 2,
       "version_minor": 0
      },
      "text/plain": [
       "  0%|          | 0/5 [00:00<?, ?it/s]"
      ]
     },
     "metadata": {},
     "output_type": "display_data"
    },
    {
     "data": {
      "application/vnd.jupyter.widget-view+json": {
       "model_id": "a415bc68bdea4f0fa05e337d18489cbe",
       "version_major": 2,
       "version_minor": 0
      },
      "text/plain": [
       "  0%|          | 0/5 [00:00<?, ?it/s]"
      ]
     },
     "metadata": {},
     "output_type": "display_data"
    },
    {
     "data": {
      "application/vnd.jupyter.widget-view+json": {
       "model_id": "b417e073eafc44aeb7641afcd7ec5f7d",
       "version_major": 2,
       "version_minor": 0
      },
      "text/plain": [
       "  0%|          | 0/3 [00:00<?, ?it/s]"
      ]
     },
     "metadata": {},
     "output_type": "display_data"
    },
    {
     "data": {
      "application/vnd.jupyter.widget-view+json": {
       "model_id": "14f86d3ac6d4422f9ddead9f4785b9ac",
       "version_major": 2,
       "version_minor": 0
      },
      "text/plain": [
       "  0%|          | 0/5 [00:00<?, ?it/s]"
      ]
     },
     "metadata": {},
     "output_type": "display_data"
    },
    {
     "data": {
      "application/vnd.jupyter.widget-view+json": {
       "model_id": "e6f9401465864c75be65cc4c7647ba85",
       "version_major": 2,
       "version_minor": 0
      },
      "text/plain": [
       "  0%|          | 0/5 [00:00<?, ?it/s]"
      ]
     },
     "metadata": {},
     "output_type": "display_data"
    },
    {
     "data": {
      "application/vnd.jupyter.widget-view+json": {
       "model_id": "65e4cc4d467f424681ef459a4e14505a",
       "version_major": 2,
       "version_minor": 0
      },
      "text/plain": [
       "  0%|          | 0/5 [00:00<?, ?it/s]"
      ]
     },
     "metadata": {},
     "output_type": "display_data"
    },
    {
     "name": "stdout",
     "output_type": "stream",
     "text": [
      "saving results dataframe to CSV for this hyperparameter search in ffn_current_focal_2_kfold.csv\n",
      "saving the best model results dataframe to CSV for this hyperparameter search in ffn_current_focal_2_kfold_best_model.csv\n"
     ]
    }
   ],
   "source": [
    "ffn_current_kfold, best_ffn_current_kfold, _, __ = ffn_hyperparameter_search(\n",
    "    num_epochs=num_epochs,\n",
    "    x_data=sbert_embeddings[client_index],\n",
    "    y_data=y_data,\n",
    "    hidden_dim_sizes=hidden_dim_sizes,\n",
    "    output_dim=output_dim,\n",
    "    dropout_rates=dropout_rates,\n",
    "    learning_rates=learning_rates,\n",
    "    seeds=seeds,\n",
    "    loss=loss,\n",
    "    gamma=gamma,\n",
    "    k_fold=True,\n",
    "    validation_metric=validation_metric,\n",
    "    results_output=f\"{output_dir}/ffn_current_focal_{gamma}_kfold.csv\",\n",
    "    verbose=False\n",
    ")"
   ]
  },
  {
   "cell_type": "code",
   "execution_count": 44,
   "id": "6f8f21d9",
   "metadata": {},
   "outputs": [
    {
     "data": {
      "text/html": [
       "<div>\n",
       "<style scoped>\n",
       "    .dataframe tbody tr th:only-of-type {\n",
       "        vertical-align: middle;\n",
       "    }\n",
       "\n",
       "    .dataframe tbody tr th {\n",
       "        vertical-align: top;\n",
       "    }\n",
       "\n",
       "    .dataframe thead th {\n",
       "        text-align: right;\n",
       "    }\n",
       "</style>\n",
       "<table border=\"1\" class=\"dataframe\">\n",
       "  <thead>\n",
       "    <tr style=\"text-align: right;\">\n",
       "      <th></th>\n",
       "      <th>loss</th>\n",
       "      <th>accuracy</th>\n",
       "      <th>f1</th>\n",
       "      <th>f1_scores</th>\n",
       "      <th>valid_loss</th>\n",
       "      <th>valid_accuracy</th>\n",
       "      <th>valid_f1</th>\n",
       "      <th>valid_f1_scores</th>\n",
       "      <th>hidden_dim</th>\n",
       "      <th>dropout_rate</th>\n",
       "      <th>learning_rate</th>\n",
       "      <th>seed</th>\n",
       "      <th>gamma</th>\n",
       "      <th>k_fold</th>\n",
       "      <th>model_id</th>\n",
       "    </tr>\n",
       "  </thead>\n",
       "  <tbody>\n",
       "    <tr>\n",
       "      <th>0</th>\n",
       "      <td>focal</td>\n",
       "      <td>0.681784</td>\n",
       "      <td>0.594099</td>\n",
       "      <td>[0.7857559836544076, 0.505226480836237, 0.4913...</td>\n",
       "      <td>0.545414</td>\n",
       "      <td>0.686374</td>\n",
       "      <td>0.583469</td>\n",
       "      <td>[0.7960155911650064, 0.5026455026455026, 0.451...</td>\n",
       "      <td>[100]</td>\n",
       "      <td>0.5</td>\n",
       "      <td>0.00500</td>\n",
       "      <td>0</td>\n",
       "      <td>2</td>\n",
       "      <td>True</td>\n",
       "      <td>0</td>\n",
       "    </tr>\n",
       "    <tr>\n",
       "      <th>1</th>\n",
       "      <td>focal</td>\n",
       "      <td>0.686989</td>\n",
       "      <td>0.582050</td>\n",
       "      <td>[0.7977272727272727, 0.4909747292418772, 0.457...</td>\n",
       "      <td>0.534665</td>\n",
       "      <td>0.692005</td>\n",
       "      <td>0.589859</td>\n",
       "      <td>[0.7959183673469388, 0.49382716049382713, 0.47...</td>\n",
       "      <td>[100]</td>\n",
       "      <td>0.5</td>\n",
       "      <td>0.00500</td>\n",
       "      <td>0</td>\n",
       "      <td>2</td>\n",
       "      <td>True</td>\n",
       "      <td>0</td>\n",
       "    </tr>\n",
       "    <tr>\n",
       "      <th>2</th>\n",
       "      <td>focal</td>\n",
       "      <td>0.682528</td>\n",
       "      <td>0.575796</td>\n",
       "      <td>[0.788538681948424, 0.5342237061769616, 0.4046...</td>\n",
       "      <td>0.552925</td>\n",
       "      <td>0.700450</td>\n",
       "      <td>0.604532</td>\n",
       "      <td>[0.7991323210412147, 0.5532467532467532, 0.461...</td>\n",
       "      <td>[100]</td>\n",
       "      <td>0.5</td>\n",
       "      <td>0.00500</td>\n",
       "      <td>0</td>\n",
       "      <td>2</td>\n",
       "      <td>True</td>\n",
       "      <td>0</td>\n",
       "    </tr>\n",
       "    <tr>\n",
       "      <th>3</th>\n",
       "      <td>focal</td>\n",
       "      <td>0.706320</td>\n",
       "      <td>0.613436</td>\n",
       "      <td>[0.805491990846682, 0.5451263537906137, 0.4896...</td>\n",
       "      <td>0.577055</td>\n",
       "      <td>0.701014</td>\n",
       "      <td>0.605842</td>\n",
       "      <td>[0.800520381613183, 0.5459317585301838, 0.4710...</td>\n",
       "      <td>[100]</td>\n",
       "      <td>0.5</td>\n",
       "      <td>0.00500</td>\n",
       "      <td>0</td>\n",
       "      <td>2</td>\n",
       "      <td>True</td>\n",
       "      <td>0</td>\n",
       "    </tr>\n",
       "    <tr>\n",
       "      <th>4</th>\n",
       "      <td>focal</td>\n",
       "      <td>0.672862</td>\n",
       "      <td>0.596099</td>\n",
       "      <td>[0.7738814993954052, 0.5225225225225226, 0.491...</td>\n",
       "      <td>0.548656</td>\n",
       "      <td>0.679617</td>\n",
       "      <td>0.605924</td>\n",
       "      <td>[0.775735294117647, 0.5420353982300885, 0.5]</td>\n",
       "      <td>[100]</td>\n",
       "      <td>0.5</td>\n",
       "      <td>0.00500</td>\n",
       "      <td>0</td>\n",
       "      <td>2</td>\n",
       "      <td>True</td>\n",
       "      <td>0</td>\n",
       "    </tr>\n",
       "    <tr>\n",
       "      <th>...</th>\n",
       "      <td>...</td>\n",
       "      <td>...</td>\n",
       "      <td>...</td>\n",
       "      <td>...</td>\n",
       "      <td>...</td>\n",
       "      <td>...</td>\n",
       "      <td>...</td>\n",
       "      <td>...</td>\n",
       "      <td>...</td>\n",
       "      <td>...</td>\n",
       "      <td>...</td>\n",
       "      <td>...</td>\n",
       "      <td>...</td>\n",
       "      <td>...</td>\n",
       "      <td>...</td>\n",
       "    </tr>\n",
       "    <tr>\n",
       "      <th>0</th>\n",
       "      <td>focal</td>\n",
       "      <td>0.653532</td>\n",
       "      <td>0.552813</td>\n",
       "      <td>[0.7872340425531915, 0.3870967741935484, 0.484...</td>\n",
       "      <td>0.625054</td>\n",
       "      <td>0.626126</td>\n",
       "      <td>0.505284</td>\n",
       "      <td>[0.7734855136084283, 0.3289817232375979, 0.413...</td>\n",
       "      <td>[100, 100, 100]</td>\n",
       "      <td>0.1</td>\n",
       "      <td>0.00001</td>\n",
       "      <td>1234</td>\n",
       "      <td>2</td>\n",
       "      <td>True</td>\n",
       "      <td>44</td>\n",
       "    </tr>\n",
       "    <tr>\n",
       "      <th>1</th>\n",
       "      <td>focal</td>\n",
       "      <td>0.640149</td>\n",
       "      <td>0.521224</td>\n",
       "      <td>[0.7870370370370371, 0.3321917808219178, 0.444...</td>\n",
       "      <td>0.619201</td>\n",
       "      <td>0.636824</td>\n",
       "      <td>0.524574</td>\n",
       "      <td>[0.7733450241122314, 0.37055214723926383, 0.42...</td>\n",
       "      <td>[100, 100, 100]</td>\n",
       "      <td>0.1</td>\n",
       "      <td>0.00001</td>\n",
       "      <td>1234</td>\n",
       "      <td>2</td>\n",
       "      <td>True</td>\n",
       "      <td>44</td>\n",
       "    </tr>\n",
       "    <tr>\n",
       "      <th>2</th>\n",
       "      <td>focal</td>\n",
       "      <td>0.626766</td>\n",
       "      <td>0.499733</td>\n",
       "      <td>[0.7731188971855256, 0.34596375617792424, 0.38...</td>\n",
       "      <td>0.617926</td>\n",
       "      <td>0.627815</td>\n",
       "      <td>0.508627</td>\n",
       "      <td>[0.771168041684759, 0.31865284974093266, 0.436...</td>\n",
       "      <td>[100, 100, 100]</td>\n",
       "      <td>0.1</td>\n",
       "      <td>0.00001</td>\n",
       "      <td>1234</td>\n",
       "      <td>2</td>\n",
       "      <td>True</td>\n",
       "      <td>44</td>\n",
       "    </tr>\n",
       "    <tr>\n",
       "      <th>3</th>\n",
       "      <td>focal</td>\n",
       "      <td>0.610409</td>\n",
       "      <td>0.487177</td>\n",
       "      <td>[0.7679719462302746, 0.2956810631229236, 0.397...</td>\n",
       "      <td>0.638740</td>\n",
       "      <td>0.630068</td>\n",
       "      <td>0.509474</td>\n",
       "      <td>[0.7740511915269197, 0.3742405832320777, 0.380...</td>\n",
       "      <td>[100, 100, 100]</td>\n",
       "      <td>0.1</td>\n",
       "      <td>0.00001</td>\n",
       "      <td>1234</td>\n",
       "      <td>2</td>\n",
       "      <td>True</td>\n",
       "      <td>44</td>\n",
       "    </tr>\n",
       "    <tr>\n",
       "      <th>4</th>\n",
       "      <td>focal</td>\n",
       "      <td>0.616357</td>\n",
       "      <td>0.501398</td>\n",
       "      <td>[0.7639132981839485, 0.32558139534883723, 0.41...</td>\n",
       "      <td>0.627865</td>\n",
       "      <td>0.627252</td>\n",
       "      <td>0.506051</td>\n",
       "      <td>[0.7765118317265557, 0.32323232323232326, 0.41...</td>\n",
       "      <td>[100, 100, 100]</td>\n",
       "      <td>0.1</td>\n",
       "      <td>0.00001</td>\n",
       "      <td>1234</td>\n",
       "      <td>2</td>\n",
       "      <td>True</td>\n",
       "      <td>44</td>\n",
       "    </tr>\n",
       "  </tbody>\n",
       "</table>\n",
       "<p>1125 rows × 15 columns</p>\n",
       "</div>"
      ],
      "text/plain": [
       "     loss  accuracy        f1  \\\n",
       "0   focal  0.681784  0.594099   \n",
       "1   focal  0.686989  0.582050   \n",
       "2   focal  0.682528  0.575796   \n",
       "3   focal  0.706320  0.613436   \n",
       "4   focal  0.672862  0.596099   \n",
       "..    ...       ...       ...   \n",
       "0   focal  0.653532  0.552813   \n",
       "1   focal  0.640149  0.521224   \n",
       "2   focal  0.626766  0.499733   \n",
       "3   focal  0.610409  0.487177   \n",
       "4   focal  0.616357  0.501398   \n",
       "\n",
       "                                            f1_scores  valid_loss  \\\n",
       "0   [0.7857559836544076, 0.505226480836237, 0.4913...    0.545414   \n",
       "1   [0.7977272727272727, 0.4909747292418772, 0.457...    0.534665   \n",
       "2   [0.788538681948424, 0.5342237061769616, 0.4046...    0.552925   \n",
       "3   [0.805491990846682, 0.5451263537906137, 0.4896...    0.577055   \n",
       "4   [0.7738814993954052, 0.5225225225225226, 0.491...    0.548656   \n",
       "..                                                ...         ...   \n",
       "0   [0.7872340425531915, 0.3870967741935484, 0.484...    0.625054   \n",
       "1   [0.7870370370370371, 0.3321917808219178, 0.444...    0.619201   \n",
       "2   [0.7731188971855256, 0.34596375617792424, 0.38...    0.617926   \n",
       "3   [0.7679719462302746, 0.2956810631229236, 0.397...    0.638740   \n",
       "4   [0.7639132981839485, 0.32558139534883723, 0.41...    0.627865   \n",
       "\n",
       "    valid_accuracy  valid_f1  \\\n",
       "0         0.686374  0.583469   \n",
       "1         0.692005  0.589859   \n",
       "2         0.700450  0.604532   \n",
       "3         0.701014  0.605842   \n",
       "4         0.679617  0.605924   \n",
       "..             ...       ...   \n",
       "0         0.626126  0.505284   \n",
       "1         0.636824  0.524574   \n",
       "2         0.627815  0.508627   \n",
       "3         0.630068  0.509474   \n",
       "4         0.627252  0.506051   \n",
       "\n",
       "                                      valid_f1_scores       hidden_dim  \\\n",
       "0   [0.7960155911650064, 0.5026455026455026, 0.451...            [100]   \n",
       "1   [0.7959183673469388, 0.49382716049382713, 0.47...            [100]   \n",
       "2   [0.7991323210412147, 0.5532467532467532, 0.461...            [100]   \n",
       "3   [0.800520381613183, 0.5459317585301838, 0.4710...            [100]   \n",
       "4        [0.775735294117647, 0.5420353982300885, 0.5]            [100]   \n",
       "..                                                ...              ...   \n",
       "0   [0.7734855136084283, 0.3289817232375979, 0.413...  [100, 100, 100]   \n",
       "1   [0.7733450241122314, 0.37055214723926383, 0.42...  [100, 100, 100]   \n",
       "2   [0.771168041684759, 0.31865284974093266, 0.436...  [100, 100, 100]   \n",
       "3   [0.7740511915269197, 0.3742405832320777, 0.380...  [100, 100, 100]   \n",
       "4   [0.7765118317265557, 0.32323232323232326, 0.41...  [100, 100, 100]   \n",
       "\n",
       "    dropout_rate  learning_rate  seed  gamma  k_fold  model_id  \n",
       "0            0.5        0.00500     0      2    True         0  \n",
       "1            0.5        0.00500     0      2    True         0  \n",
       "2            0.5        0.00500     0      2    True         0  \n",
       "3            0.5        0.00500     0      2    True         0  \n",
       "4            0.5        0.00500     0      2    True         0  \n",
       "..           ...            ...   ...    ...     ...       ...  \n",
       "0            0.1        0.00001  1234      2    True        44  \n",
       "1            0.1        0.00001  1234      2    True        44  \n",
       "2            0.1        0.00001  1234      2    True        44  \n",
       "3            0.1        0.00001  1234      2    True        44  \n",
       "4            0.1        0.00001  1234      2    True        44  \n",
       "\n",
       "[1125 rows x 15 columns]"
      ]
     },
     "execution_count": 44,
     "metadata": {},
     "output_type": "execute_result"
    }
   ],
   "source": [
    "ffn_current_kfold"
   ]
  },
  {
   "cell_type": "code",
   "execution_count": 45,
   "id": "6af81e06",
   "metadata": {},
   "outputs": [
    {
     "data": {
      "text/html": [
       "<div>\n",
       "<style scoped>\n",
       "    .dataframe tbody tr th:only-of-type {\n",
       "        vertical-align: middle;\n",
       "    }\n",
       "\n",
       "    .dataframe tbody tr th {\n",
       "        vertical-align: top;\n",
       "    }\n",
       "\n",
       "    .dataframe thead th {\n",
       "        text-align: right;\n",
       "    }\n",
       "</style>\n",
       "<table border=\"1\" class=\"dataframe\">\n",
       "  <thead>\n",
       "    <tr style=\"text-align: right;\">\n",
       "      <th></th>\n",
       "      <th>loss</th>\n",
       "      <th>accuracy</th>\n",
       "      <th>f1</th>\n",
       "      <th>f1_scores</th>\n",
       "      <th>valid_loss</th>\n",
       "      <th>valid_accuracy</th>\n",
       "      <th>valid_f1</th>\n",
       "      <th>valid_f1_scores</th>\n",
       "      <th>hidden_dim</th>\n",
       "      <th>dropout_rate</th>\n",
       "      <th>learning_rate</th>\n",
       "      <th>seed</th>\n",
       "      <th>gamma</th>\n",
       "      <th>k_fold</th>\n",
       "    </tr>\n",
       "  </thead>\n",
       "  <tbody>\n",
       "    <tr>\n",
       "      <th>0</th>\n",
       "      <td>focal</td>\n",
       "      <td>0.684758</td>\n",
       "      <td>0.607160</td>\n",
       "      <td>[0.7886815171583383, 0.5196078431372549, 0.513...</td>\n",
       "      <td>0.553060</td>\n",
       "      <td>0.680180</td>\n",
       "      <td>0.593967</td>\n",
       "      <td>[0.7824529991047449, 0.5286236297198538, 0.470...</td>\n",
       "      <td>[100]</td>\n",
       "      <td>0.5</td>\n",
       "      <td>0.0001</td>\n",
       "      <td>0</td>\n",
       "      <td>2</td>\n",
       "      <td>True</td>\n",
       "    </tr>\n",
       "    <tr>\n",
       "      <th>1</th>\n",
       "      <td>focal</td>\n",
       "      <td>0.677323</td>\n",
       "      <td>0.586921</td>\n",
       "      <td>[0.7866108786610878, 0.5255023183925811, 0.448...</td>\n",
       "      <td>0.531541</td>\n",
       "      <td>0.688626</td>\n",
       "      <td>0.606592</td>\n",
       "      <td>[0.7841726618705036, 0.5529953917050692, 0.482...</td>\n",
       "      <td>[100]</td>\n",
       "      <td>0.5</td>\n",
       "      <td>0.0001</td>\n",
       "      <td>0</td>\n",
       "      <td>2</td>\n",
       "      <td>True</td>\n",
       "    </tr>\n",
       "    <tr>\n",
       "      <th>2</th>\n",
       "      <td>focal</td>\n",
       "      <td>0.685502</td>\n",
       "      <td>0.579362</td>\n",
       "      <td>[0.79133409350057, 0.5272108843537414, 0.41954...</td>\n",
       "      <td>0.550432</td>\n",
       "      <td>0.690315</td>\n",
       "      <td>0.598250</td>\n",
       "      <td>[0.791083916083916, 0.530718954248366, 0.47294...</td>\n",
       "      <td>[100]</td>\n",
       "      <td>0.5</td>\n",
       "      <td>0.0001</td>\n",
       "      <td>0</td>\n",
       "      <td>2</td>\n",
       "      <td>True</td>\n",
       "    </tr>\n",
       "    <tr>\n",
       "      <th>3</th>\n",
       "      <td>focal</td>\n",
       "      <td>0.692193</td>\n",
       "      <td>0.602759</td>\n",
       "      <td>[0.7938931297709922, 0.5475409836065575, 0.466...</td>\n",
       "      <td>0.582319</td>\n",
       "      <td>0.683559</td>\n",
       "      <td>0.591700</td>\n",
       "      <td>[0.7836153161175423, 0.5513126491646777, 0.440...</td>\n",
       "      <td>[100]</td>\n",
       "      <td>0.5</td>\n",
       "      <td>0.0001</td>\n",
       "      <td>0</td>\n",
       "      <td>2</td>\n",
       "      <td>True</td>\n",
       "    </tr>\n",
       "    <tr>\n",
       "      <th>4</th>\n",
       "      <td>focal</td>\n",
       "      <td>0.665428</td>\n",
       "      <td>0.588839</td>\n",
       "      <td>[0.7696019300361883, 0.4969135802469136, 0.5]</td>\n",
       "      <td>0.547304</td>\n",
       "      <td>0.675113</td>\n",
       "      <td>0.592574</td>\n",
       "      <td>[0.7785356980445657, 0.5266821345707655, 0.472...</td>\n",
       "      <td>[100]</td>\n",
       "      <td>0.5</td>\n",
       "      <td>0.0001</td>\n",
       "      <td>0</td>\n",
       "      <td>2</td>\n",
       "      <td>True</td>\n",
       "    </tr>\n",
       "    <tr>\n",
       "      <th>0</th>\n",
       "      <td>focal</td>\n",
       "      <td>0.681784</td>\n",
       "      <td>0.600001</td>\n",
       "      <td>[0.7883124627310675, 0.5033783783783784, 0.508...</td>\n",
       "      <td>0.560043</td>\n",
       "      <td>0.674550</td>\n",
       "      <td>0.580560</td>\n",
       "      <td>[0.7842786958463601, 0.5160493827160494, 0.441...</td>\n",
       "      <td>[100]</td>\n",
       "      <td>0.5</td>\n",
       "      <td>0.0001</td>\n",
       "      <td>1</td>\n",
       "      <td>2</td>\n",
       "      <td>True</td>\n",
       "    </tr>\n",
       "    <tr>\n",
       "      <th>1</th>\n",
       "      <td>focal</td>\n",
       "      <td>0.686989</td>\n",
       "      <td>0.596568</td>\n",
       "      <td>[0.7936132465996452, 0.5281250000000001, 0.467...</td>\n",
       "      <td>0.535979</td>\n",
       "      <td>0.694820</td>\n",
       "      <td>0.612573</td>\n",
       "      <td>[0.7891699955614737, 0.5463071512309496, 0.502...</td>\n",
       "      <td>[100]</td>\n",
       "      <td>0.5</td>\n",
       "      <td>0.0001</td>\n",
       "      <td>1</td>\n",
       "      <td>2</td>\n",
       "      <td>True</td>\n",
       "    </tr>\n",
       "    <tr>\n",
       "      <th>2</th>\n",
       "      <td>focal</td>\n",
       "      <td>0.680297</td>\n",
       "      <td>0.573057</td>\n",
       "      <td>[0.7853042479908152, 0.5385878489326765, 0.395...</td>\n",
       "      <td>0.552261</td>\n",
       "      <td>0.693131</td>\n",
       "      <td>0.605103</td>\n",
       "      <td>[0.7892888498683055, 0.548469387755102, 0.4775...</td>\n",
       "      <td>[100]</td>\n",
       "      <td>0.5</td>\n",
       "      <td>0.0001</td>\n",
       "      <td>1</td>\n",
       "      <td>2</td>\n",
       "      <td>True</td>\n",
       "    </tr>\n",
       "    <tr>\n",
       "      <th>3</th>\n",
       "      <td>focal</td>\n",
       "      <td>0.689963</td>\n",
       "      <td>0.602343</td>\n",
       "      <td>[0.7903699354081034, 0.5454545454545455, 0.471...</td>\n",
       "      <td>0.581351</td>\n",
       "      <td>0.682432</td>\n",
       "      <td>0.587900</td>\n",
       "      <td>[0.7850799289520426, 0.5445783132530121, 0.434...</td>\n",
       "      <td>[100]</td>\n",
       "      <td>0.5</td>\n",
       "      <td>0.0001</td>\n",
       "      <td>1</td>\n",
       "      <td>2</td>\n",
       "      <td>True</td>\n",
       "    </tr>\n",
       "    <tr>\n",
       "      <th>4</th>\n",
       "      <td>focal</td>\n",
       "      <td>0.664684</td>\n",
       "      <td>0.587020</td>\n",
       "      <td>[0.7681246255242661, 0.4929356357927786, 0.5]</td>\n",
       "      <td>0.547436</td>\n",
       "      <td>0.685248</td>\n",
       "      <td>0.604926</td>\n",
       "      <td>[0.7860696517412936, 0.5317647058823529, 0.496...</td>\n",
       "      <td>[100]</td>\n",
       "      <td>0.5</td>\n",
       "      <td>0.0001</td>\n",
       "      <td>1</td>\n",
       "      <td>2</td>\n",
       "      <td>True</td>\n",
       "    </tr>\n",
       "    <tr>\n",
       "      <th>0</th>\n",
       "      <td>focal</td>\n",
       "      <td>0.688476</td>\n",
       "      <td>0.612616</td>\n",
       "      <td>[0.7875523638539798, 0.5294117647058824, 0.520...</td>\n",
       "      <td>0.554222</td>\n",
       "      <td>0.678491</td>\n",
       "      <td>0.592235</td>\n",
       "      <td>[0.7805096110862763, 0.5263157894736842, 0.469...</td>\n",
       "      <td>[100]</td>\n",
       "      <td>0.5</td>\n",
       "      <td>0.0001</td>\n",
       "      <td>12</td>\n",
       "      <td>2</td>\n",
       "      <td>True</td>\n",
       "    </tr>\n",
       "    <tr>\n",
       "      <th>1</th>\n",
       "      <td>focal</td>\n",
       "      <td>0.679554</td>\n",
       "      <td>0.591718</td>\n",
       "      <td>[0.7861822513400835, 0.5232198142414862, 0.465...</td>\n",
       "      <td>0.530573</td>\n",
       "      <td>0.695946</td>\n",
       "      <td>0.617304</td>\n",
       "      <td>[0.787987449574182, 0.5595375722543353, 0.5043...</td>\n",
       "      <td>[100]</td>\n",
       "      <td>0.5</td>\n",
       "      <td>0.0001</td>\n",
       "      <td>12</td>\n",
       "      <td>2</td>\n",
       "      <td>True</td>\n",
       "    </tr>\n",
       "    <tr>\n",
       "      <th>2</th>\n",
       "      <td>focal</td>\n",
       "      <td>0.680297</td>\n",
       "      <td>0.576148</td>\n",
       "      <td>[0.7877739331026529, 0.5282392026578072, 0.412...</td>\n",
       "      <td>0.545660</td>\n",
       "      <td>0.684685</td>\n",
       "      <td>0.596718</td>\n",
       "      <td>[0.7852112676056338, 0.5215123859191656, 0.483...</td>\n",
       "      <td>[100]</td>\n",
       "      <td>0.5</td>\n",
       "      <td>0.0001</td>\n",
       "      <td>12</td>\n",
       "      <td>2</td>\n",
       "      <td>True</td>\n",
       "    </tr>\n",
       "    <tr>\n",
       "      <th>3</th>\n",
       "      <td>focal</td>\n",
       "      <td>0.679554</td>\n",
       "      <td>0.589501</td>\n",
       "      <td>[0.7852112676056339, 0.5186440677966102, 0.464...</td>\n",
       "      <td>0.578692</td>\n",
       "      <td>0.677928</td>\n",
       "      <td>0.580750</td>\n",
       "      <td>[0.7844178840194777, 0.5295566502463055, 0.428...</td>\n",
       "      <td>[100]</td>\n",
       "      <td>0.5</td>\n",
       "      <td>0.0001</td>\n",
       "      <td>12</td>\n",
       "      <td>2</td>\n",
       "      <td>True</td>\n",
       "    </tr>\n",
       "    <tr>\n",
       "      <th>4</th>\n",
       "      <td>focal</td>\n",
       "      <td>0.671375</td>\n",
       "      <td>0.592588</td>\n",
       "      <td>[0.7736526946107785, 0.509375, 0.4947368421052...</td>\n",
       "      <td>0.547014</td>\n",
       "      <td>0.681869</td>\n",
       "      <td>0.600246</td>\n",
       "      <td>[0.7839422643211545, 0.5229681978798587, 0.493...</td>\n",
       "      <td>[100]</td>\n",
       "      <td>0.5</td>\n",
       "      <td>0.0001</td>\n",
       "      <td>12</td>\n",
       "      <td>2</td>\n",
       "      <td>True</td>\n",
       "    </tr>\n",
       "    <tr>\n",
       "      <th>0</th>\n",
       "      <td>focal</td>\n",
       "      <td>0.683271</td>\n",
       "      <td>0.604997</td>\n",
       "      <td>[0.7866108786610878, 0.5084745762711864, 0.519...</td>\n",
       "      <td>0.555328</td>\n",
       "      <td>0.678491</td>\n",
       "      <td>0.588698</td>\n",
       "      <td>[0.7846291331546024, 0.5217391304347826, 0.459...</td>\n",
       "      <td>[100]</td>\n",
       "      <td>0.5</td>\n",
       "      <td>0.0001</td>\n",
       "      <td>123</td>\n",
       "      <td>2</td>\n",
       "      <td>True</td>\n",
       "    </tr>\n",
       "    <tr>\n",
       "      <th>1</th>\n",
       "      <td>focal</td>\n",
       "      <td>0.684015</td>\n",
       "      <td>0.594493</td>\n",
       "      <td>[0.7909738717339667, 0.5271317829457365, 0.465...</td>\n",
       "      <td>0.536739</td>\n",
       "      <td>0.695946</td>\n",
       "      <td>0.616334</td>\n",
       "      <td>[0.7903657448706513, 0.5452436194895592, 0.513...</td>\n",
       "      <td>[100]</td>\n",
       "      <td>0.5</td>\n",
       "      <td>0.0001</td>\n",
       "      <td>123</td>\n",
       "      <td>2</td>\n",
       "      <td>True</td>\n",
       "    </tr>\n",
       "    <tr>\n",
       "      <th>2</th>\n",
       "      <td>focal</td>\n",
       "      <td>0.677323</td>\n",
       "      <td>0.575159</td>\n",
       "      <td>[0.783256880733945, 0.5152542372881356, 0.4269...</td>\n",
       "      <td>0.551897</td>\n",
       "      <td>0.684122</td>\n",
       "      <td>0.593241</td>\n",
       "      <td>[0.7868131868131868, 0.5225464190981433, 0.470...</td>\n",
       "      <td>[100]</td>\n",
       "      <td>0.5</td>\n",
       "      <td>0.0001</td>\n",
       "      <td>123</td>\n",
       "      <td>2</td>\n",
       "      <td>True</td>\n",
       "    </tr>\n",
       "    <tr>\n",
       "      <th>3</th>\n",
       "      <td>focal</td>\n",
       "      <td>0.684758</td>\n",
       "      <td>0.595713</td>\n",
       "      <td>[0.7878077373974207, 0.5271828665568369, 0.472...</td>\n",
       "      <td>0.581338</td>\n",
       "      <td>0.684122</td>\n",
       "      <td>0.589917</td>\n",
       "      <td>[0.7856191744340878, 0.5478468899521529, 0.436...</td>\n",
       "      <td>[100]</td>\n",
       "      <td>0.5</td>\n",
       "      <td>0.0001</td>\n",
       "      <td>123</td>\n",
       "      <td>2</td>\n",
       "      <td>True</td>\n",
       "    </tr>\n",
       "    <tr>\n",
       "      <th>4</th>\n",
       "      <td>focal</td>\n",
       "      <td>0.667658</td>\n",
       "      <td>0.589309</td>\n",
       "      <td>[0.771531100478469, 0.49374999999999997, 0.502...</td>\n",
       "      <td>0.546651</td>\n",
       "      <td>0.689752</td>\n",
       "      <td>0.610380</td>\n",
       "      <td>[0.7879061371841155, 0.5411764705882353, 0.502...</td>\n",
       "      <td>[100]</td>\n",
       "      <td>0.5</td>\n",
       "      <td>0.0001</td>\n",
       "      <td>123</td>\n",
       "      <td>2</td>\n",
       "      <td>True</td>\n",
       "    </tr>\n",
       "    <tr>\n",
       "      <th>0</th>\n",
       "      <td>focal</td>\n",
       "      <td>0.686989</td>\n",
       "      <td>0.611538</td>\n",
       "      <td>[0.7872212176009644, 0.5342019543973942, 0.513...</td>\n",
       "      <td>0.549992</td>\n",
       "      <td>0.681306</td>\n",
       "      <td>0.596595</td>\n",
       "      <td>[0.7828828828828828, 0.5386473429951691, 0.468...</td>\n",
       "      <td>[100]</td>\n",
       "      <td>0.5</td>\n",
       "      <td>0.0001</td>\n",
       "      <td>1234</td>\n",
       "      <td>2</td>\n",
       "      <td>True</td>\n",
       "    </tr>\n",
       "    <tr>\n",
       "      <th>1</th>\n",
       "      <td>focal</td>\n",
       "      <td>0.686989</td>\n",
       "      <td>0.596283</td>\n",
       "      <td>[0.7926322043969102, 0.5398773006134969, 0.456...</td>\n",
       "      <td>0.529428</td>\n",
       "      <td>0.697072</td>\n",
       "      <td>0.613762</td>\n",
       "      <td>[0.7924865831842576, 0.5567010309278351, 0.492...</td>\n",
       "      <td>[100]</td>\n",
       "      <td>0.5</td>\n",
       "      <td>0.0001</td>\n",
       "      <td>1234</td>\n",
       "      <td>2</td>\n",
       "      <td>True</td>\n",
       "    </tr>\n",
       "    <tr>\n",
       "      <th>2</th>\n",
       "      <td>focal</td>\n",
       "      <td>0.678067</td>\n",
       "      <td>0.569431</td>\n",
       "      <td>[0.7856328392246295, 0.5167785234899329, 0.405...</td>\n",
       "      <td>0.551127</td>\n",
       "      <td>0.690315</td>\n",
       "      <td>0.597966</td>\n",
       "      <td>[0.791083916083916, 0.5295629820051414, 0.4732...</td>\n",
       "      <td>[100]</td>\n",
       "      <td>0.5</td>\n",
       "      <td>0.0001</td>\n",
       "      <td>1234</td>\n",
       "      <td>2</td>\n",
       "      <td>True</td>\n",
       "    </tr>\n",
       "    <tr>\n",
       "      <th>3</th>\n",
       "      <td>focal</td>\n",
       "      <td>0.686989</td>\n",
       "      <td>0.598666</td>\n",
       "      <td>[0.7896287566293458, 0.5412541254125413, 0.465...</td>\n",
       "      <td>0.578891</td>\n",
       "      <td>0.685248</td>\n",
       "      <td>0.594553</td>\n",
       "      <td>[0.7845057880676759, 0.5532934131736528, 0.445...</td>\n",
       "      <td>[100]</td>\n",
       "      <td>0.5</td>\n",
       "      <td>0.0001</td>\n",
       "      <td>1234</td>\n",
       "      <td>2</td>\n",
       "      <td>True</td>\n",
       "    </tr>\n",
       "    <tr>\n",
       "      <th>4</th>\n",
       "      <td>focal</td>\n",
       "      <td>0.667658</td>\n",
       "      <td>0.587934</td>\n",
       "      <td>[0.7730282962071041, 0.5038639876352395, 0.486...</td>\n",
       "      <td>0.547873</td>\n",
       "      <td>0.678491</td>\n",
       "      <td>0.599874</td>\n",
       "      <td>[0.7814207650273224, 0.519208381839348, 0.4989...</td>\n",
       "      <td>[100]</td>\n",
       "      <td>0.5</td>\n",
       "      <td>0.0001</td>\n",
       "      <td>1234</td>\n",
       "      <td>2</td>\n",
       "      <td>True</td>\n",
       "    </tr>\n",
       "  </tbody>\n",
       "</table>\n",
       "</div>"
      ],
      "text/plain": [
       "    loss  accuracy        f1  \\\n",
       "0  focal  0.684758  0.607160   \n",
       "1  focal  0.677323  0.586921   \n",
       "2  focal  0.685502  0.579362   \n",
       "3  focal  0.692193  0.602759   \n",
       "4  focal  0.665428  0.588839   \n",
       "0  focal  0.681784  0.600001   \n",
       "1  focal  0.686989  0.596568   \n",
       "2  focal  0.680297  0.573057   \n",
       "3  focal  0.689963  0.602343   \n",
       "4  focal  0.664684  0.587020   \n",
       "0  focal  0.688476  0.612616   \n",
       "1  focal  0.679554  0.591718   \n",
       "2  focal  0.680297  0.576148   \n",
       "3  focal  0.679554  0.589501   \n",
       "4  focal  0.671375  0.592588   \n",
       "0  focal  0.683271  0.604997   \n",
       "1  focal  0.684015  0.594493   \n",
       "2  focal  0.677323  0.575159   \n",
       "3  focal  0.684758  0.595713   \n",
       "4  focal  0.667658  0.589309   \n",
       "0  focal  0.686989  0.611538   \n",
       "1  focal  0.686989  0.596283   \n",
       "2  focal  0.678067  0.569431   \n",
       "3  focal  0.686989  0.598666   \n",
       "4  focal  0.667658  0.587934   \n",
       "\n",
       "                                           f1_scores  valid_loss  \\\n",
       "0  [0.7886815171583383, 0.5196078431372549, 0.513...    0.553060   \n",
       "1  [0.7866108786610878, 0.5255023183925811, 0.448...    0.531541   \n",
       "2  [0.79133409350057, 0.5272108843537414, 0.41954...    0.550432   \n",
       "3  [0.7938931297709922, 0.5475409836065575, 0.466...    0.582319   \n",
       "4      [0.7696019300361883, 0.4969135802469136, 0.5]    0.547304   \n",
       "0  [0.7883124627310675, 0.5033783783783784, 0.508...    0.560043   \n",
       "1  [0.7936132465996452, 0.5281250000000001, 0.467...    0.535979   \n",
       "2  [0.7853042479908152, 0.5385878489326765, 0.395...    0.552261   \n",
       "3  [0.7903699354081034, 0.5454545454545455, 0.471...    0.581351   \n",
       "4      [0.7681246255242661, 0.4929356357927786, 0.5]    0.547436   \n",
       "0  [0.7875523638539798, 0.5294117647058824, 0.520...    0.554222   \n",
       "1  [0.7861822513400835, 0.5232198142414862, 0.465...    0.530573   \n",
       "2  [0.7877739331026529, 0.5282392026578072, 0.412...    0.545660   \n",
       "3  [0.7852112676056339, 0.5186440677966102, 0.464...    0.578692   \n",
       "4  [0.7736526946107785, 0.509375, 0.4947368421052...    0.547014   \n",
       "0  [0.7866108786610878, 0.5084745762711864, 0.519...    0.555328   \n",
       "1  [0.7909738717339667, 0.5271317829457365, 0.465...    0.536739   \n",
       "2  [0.783256880733945, 0.5152542372881356, 0.4269...    0.551897   \n",
       "3  [0.7878077373974207, 0.5271828665568369, 0.472...    0.581338   \n",
       "4  [0.771531100478469, 0.49374999999999997, 0.502...    0.546651   \n",
       "0  [0.7872212176009644, 0.5342019543973942, 0.513...    0.549992   \n",
       "1  [0.7926322043969102, 0.5398773006134969, 0.456...    0.529428   \n",
       "2  [0.7856328392246295, 0.5167785234899329, 0.405...    0.551127   \n",
       "3  [0.7896287566293458, 0.5412541254125413, 0.465...    0.578891   \n",
       "4  [0.7730282962071041, 0.5038639876352395, 0.486...    0.547873   \n",
       "\n",
       "   valid_accuracy  valid_f1  \\\n",
       "0        0.680180  0.593967   \n",
       "1        0.688626  0.606592   \n",
       "2        0.690315  0.598250   \n",
       "3        0.683559  0.591700   \n",
       "4        0.675113  0.592574   \n",
       "0        0.674550  0.580560   \n",
       "1        0.694820  0.612573   \n",
       "2        0.693131  0.605103   \n",
       "3        0.682432  0.587900   \n",
       "4        0.685248  0.604926   \n",
       "0        0.678491  0.592235   \n",
       "1        0.695946  0.617304   \n",
       "2        0.684685  0.596718   \n",
       "3        0.677928  0.580750   \n",
       "4        0.681869  0.600246   \n",
       "0        0.678491  0.588698   \n",
       "1        0.695946  0.616334   \n",
       "2        0.684122  0.593241   \n",
       "3        0.684122  0.589917   \n",
       "4        0.689752  0.610380   \n",
       "0        0.681306  0.596595   \n",
       "1        0.697072  0.613762   \n",
       "2        0.690315  0.597966   \n",
       "3        0.685248  0.594553   \n",
       "4        0.678491  0.599874   \n",
       "\n",
       "                                     valid_f1_scores hidden_dim  dropout_rate  \\\n",
       "0  [0.7824529991047449, 0.5286236297198538, 0.470...      [100]           0.5   \n",
       "1  [0.7841726618705036, 0.5529953917050692, 0.482...      [100]           0.5   \n",
       "2  [0.791083916083916, 0.530718954248366, 0.47294...      [100]           0.5   \n",
       "3  [0.7836153161175423, 0.5513126491646777, 0.440...      [100]           0.5   \n",
       "4  [0.7785356980445657, 0.5266821345707655, 0.472...      [100]           0.5   \n",
       "0  [0.7842786958463601, 0.5160493827160494, 0.441...      [100]           0.5   \n",
       "1  [0.7891699955614737, 0.5463071512309496, 0.502...      [100]           0.5   \n",
       "2  [0.7892888498683055, 0.548469387755102, 0.4775...      [100]           0.5   \n",
       "3  [0.7850799289520426, 0.5445783132530121, 0.434...      [100]           0.5   \n",
       "4  [0.7860696517412936, 0.5317647058823529, 0.496...      [100]           0.5   \n",
       "0  [0.7805096110862763, 0.5263157894736842, 0.469...      [100]           0.5   \n",
       "1  [0.787987449574182, 0.5595375722543353, 0.5043...      [100]           0.5   \n",
       "2  [0.7852112676056338, 0.5215123859191656, 0.483...      [100]           0.5   \n",
       "3  [0.7844178840194777, 0.5295566502463055, 0.428...      [100]           0.5   \n",
       "4  [0.7839422643211545, 0.5229681978798587, 0.493...      [100]           0.5   \n",
       "0  [0.7846291331546024, 0.5217391304347826, 0.459...      [100]           0.5   \n",
       "1  [0.7903657448706513, 0.5452436194895592, 0.513...      [100]           0.5   \n",
       "2  [0.7868131868131868, 0.5225464190981433, 0.470...      [100]           0.5   \n",
       "3  [0.7856191744340878, 0.5478468899521529, 0.436...      [100]           0.5   \n",
       "4  [0.7879061371841155, 0.5411764705882353, 0.502...      [100]           0.5   \n",
       "0  [0.7828828828828828, 0.5386473429951691, 0.468...      [100]           0.5   \n",
       "1  [0.7924865831842576, 0.5567010309278351, 0.492...      [100]           0.5   \n",
       "2  [0.791083916083916, 0.5295629820051414, 0.4732...      [100]           0.5   \n",
       "3  [0.7845057880676759, 0.5532934131736528, 0.445...      [100]           0.5   \n",
       "4  [0.7814207650273224, 0.519208381839348, 0.4989...      [100]           0.5   \n",
       "\n",
       "   learning_rate  seed  gamma  k_fold  \n",
       "0         0.0001     0      2    True  \n",
       "1         0.0001     0      2    True  \n",
       "2         0.0001     0      2    True  \n",
       "3         0.0001     0      2    True  \n",
       "4         0.0001     0      2    True  \n",
       "0         0.0001     1      2    True  \n",
       "1         0.0001     1      2    True  \n",
       "2         0.0001     1      2    True  \n",
       "3         0.0001     1      2    True  \n",
       "4         0.0001     1      2    True  \n",
       "0         0.0001    12      2    True  \n",
       "1         0.0001    12      2    True  \n",
       "2         0.0001    12      2    True  \n",
       "3         0.0001    12      2    True  \n",
       "4         0.0001    12      2    True  \n",
       "0         0.0001   123      2    True  \n",
       "1         0.0001   123      2    True  \n",
       "2         0.0001   123      2    True  \n",
       "3         0.0001   123      2    True  \n",
       "4         0.0001   123      2    True  \n",
       "0         0.0001  1234      2    True  \n",
       "1         0.0001  1234      2    True  \n",
       "2         0.0001  1234      2    True  \n",
       "3         0.0001  1234      2    True  \n",
       "4         0.0001  1234      2    True  "
      ]
     },
     "execution_count": 45,
     "metadata": {},
     "output_type": "execute_result"
    }
   ],
   "source": [
    "best_ffn_current_kfold"
   ]
  },
  {
   "cell_type": "code",
   "execution_count": 46,
   "id": "55b152d0",
   "metadata": {},
   "outputs": [
    {
     "data": {
      "text/plain": [
       "0.5924049773807214"
      ]
     },
     "execution_count": 46,
     "metadata": {},
     "output_type": "execute_result"
    }
   ],
   "source": [
    "best_ffn_current_kfold[\"f1\"].mean()"
   ]
  },
  {
   "cell_type": "code",
   "execution_count": 67,
   "id": "98e1e34e",
   "metadata": {},
   "outputs": [
    {
     "data": {
      "text/plain": [
       "array([0.78498169, 0.52167665, 0.47055659])"
      ]
     },
     "execution_count": 67,
     "metadata": {},
     "output_type": "execute_result"
    }
   ],
   "source": [
    "np.stack(best_ffn_current_kfold[\"f1_scores\"]).mean(axis=0)"
   ]
  },
  {
   "cell_type": "markdown",
   "id": "8ad7a7e7",
   "metadata": {},
   "source": [
    "# Baseline: Averaging history and use FFN\n",
    "\n",
    "Here, we will use `nlpsig` to construct some paths of embeddings for the last $k$ utterances which we will average and use those in a FFN. We will also concatenate the current utterance embedding to the FFN input - all of this is done in the `obtain_mean_history` function in `nlpsig-networks.scripts.ffn_baseline_functions` which we imported earlier on.\n",
    "\n",
    "Here, we will run the hyperparameter search to implement the FFN with the same parameters as above. For this baseline, we can also see how well the model performance is affected by the size of the history window $k$."
   ]
  },
  {
   "cell_type": "code",
   "execution_count": 26,
   "id": "a335acd9",
   "metadata": {},
   "outputs": [],
   "source": [
    "window_sizes = [5, 10, 20, 50]"
   ]
  },
  {
   "cell_type": "code",
   "execution_count": 28,
   "id": "beab5369",
   "metadata": {
    "scrolled": false
   },
   "outputs": [
    {
     "data": {
      "application/vnd.jupyter.widget-view+json": {
       "model_id": "93572fe3a848478d9cce757a230c0a57",
       "version_major": 2,
       "version_minor": 0
      },
      "text/plain": [
       "  0%|          | 0/4 [00:00<?, ?it/s]"
      ]
     },
     "metadata": {},
     "output_type": "display_data"
    },
    {
     "name": "stdout",
     "output_type": "stream",
     "text": [
      "[INFO] Concatenating the embeddings to the dataframe...\n",
      "[INFO] - columns beginning with 'e' denote the full embddings.\n",
      "[INFO] Adding time feature columns into dataframe in `.df`.\n",
      "[INFO] Adding 'time_encoding' and feature...\n",
      "[INFO] Adding 'time_diff' and feature...\n",
      "[INFO] Adding 'timeline_index' feature...\n",
      "[INFO] Padding ids and storing in `.df_padded` and `.array_padded` attributes.\n"
     ]
    },
    {
     "data": {
      "application/vnd.jupyter.widget-view+json": {
       "model_id": "d026bbddd3d24deda5dccd416bd9d16c",
       "version_major": 2,
       "version_minor": 0
      },
      "text/plain": [
       "  0%|          | 0/13551 [00:00<?, ?it/s]"
      ]
     },
     "metadata": {},
     "output_type": "display_data"
    },
    {
     "data": {
      "application/vnd.jupyter.widget-view+json": {
       "model_id": "c1642556fdb740c5812020dd42eb0c5c",
       "version_major": 2,
       "version_minor": 0
      },
      "text/plain": [
       "  0%|          | 0/3 [00:00<?, ?it/s]"
      ]
     },
     "metadata": {},
     "output_type": "display_data"
    },
    {
     "data": {
      "application/vnd.jupyter.widget-view+json": {
       "model_id": "90ebe58ea3714be0be30ea7f0f91cc05",
       "version_major": 2,
       "version_minor": 0
      },
      "text/plain": [
       "  0%|          | 0/3 [00:00<?, ?it/s]"
      ]
     },
     "metadata": {},
     "output_type": "display_data"
    },
    {
     "data": {
      "application/vnd.jupyter.widget-view+json": {
       "model_id": "20b566b08d59492eafda90a83532d2eb",
       "version_major": 2,
       "version_minor": 0
      },
      "text/plain": [
       "  0%|          | 0/5 [00:00<?, ?it/s]"
      ]
     },
     "metadata": {},
     "output_type": "display_data"
    },
    {
     "data": {
      "application/vnd.jupyter.widget-view+json": {
       "model_id": "d31b795984644907b5129341e2a5dba5",
       "version_major": 2,
       "version_minor": 0
      },
      "text/plain": [
       "  0%|          | 0/5 [00:00<?, ?it/s]"
      ]
     },
     "metadata": {},
     "output_type": "display_data"
    },
    {
     "data": {
      "application/vnd.jupyter.widget-view+json": {
       "model_id": "4bb34c3e751a4dcb9495ca5f1e94e169",
       "version_major": 2,
       "version_minor": 0
      },
      "text/plain": [
       "  0%|          | 0/5 [00:00<?, ?it/s]"
      ]
     },
     "metadata": {},
     "output_type": "display_data"
    },
    {
     "data": {
      "application/vnd.jupyter.widget-view+json": {
       "model_id": "13d1adbafb5c4c31bef56ae2a9fb85e7",
       "version_major": 2,
       "version_minor": 0
      },
      "text/plain": [
       "  0%|          | 0/3 [00:00<?, ?it/s]"
      ]
     },
     "metadata": {},
     "output_type": "display_data"
    },
    {
     "data": {
      "application/vnd.jupyter.widget-view+json": {
       "model_id": "293d9aa2846b471cb84fe5b4ab918e39",
       "version_major": 2,
       "version_minor": 0
      },
      "text/plain": [
       "  0%|          | 0/5 [00:00<?, ?it/s]"
      ]
     },
     "metadata": {},
     "output_type": "display_data"
    },
    {
     "data": {
      "application/vnd.jupyter.widget-view+json": {
       "model_id": "51b82618655d457591a4f1b8dfea7eec",
       "version_major": 2,
       "version_minor": 0
      },
      "text/plain": [
       "  0%|          | 0/5 [00:00<?, ?it/s]"
      ]
     },
     "metadata": {},
     "output_type": "display_data"
    },
    {
     "data": {
      "application/vnd.jupyter.widget-view+json": {
       "model_id": "becae07aba4d4b03bfc70b7b03f79076",
       "version_major": 2,
       "version_minor": 0
      },
      "text/plain": [
       "  0%|          | 0/5 [00:00<?, ?it/s]"
      ]
     },
     "metadata": {},
     "output_type": "display_data"
    },
    {
     "data": {
      "application/vnd.jupyter.widget-view+json": {
       "model_id": "eb9fbab62e65406093f3bfbe2dc9e0d1",
       "version_major": 2,
       "version_minor": 0
      },
      "text/plain": [
       "  0%|          | 0/3 [00:00<?, ?it/s]"
      ]
     },
     "metadata": {},
     "output_type": "display_data"
    },
    {
     "data": {
      "application/vnd.jupyter.widget-view+json": {
       "model_id": "0229334b5a1641ec8d3c21f705d784ef",
       "version_major": 2,
       "version_minor": 0
      },
      "text/plain": [
       "  0%|          | 0/5 [00:00<?, ?it/s]"
      ]
     },
     "metadata": {},
     "output_type": "display_data"
    },
    {
     "data": {
      "application/vnd.jupyter.widget-view+json": {
       "model_id": "6f3e49a19ec34af7b4e02dc7cfeb0028",
       "version_major": 2,
       "version_minor": 0
      },
      "text/plain": [
       "  0%|          | 0/5 [00:00<?, ?it/s]"
      ]
     },
     "metadata": {},
     "output_type": "display_data"
    },
    {
     "data": {
      "application/vnd.jupyter.widget-view+json": {
       "model_id": "370e4497ebb940b786723984e95b1610",
       "version_major": 2,
       "version_minor": 0
      },
      "text/plain": [
       "  0%|          | 0/5 [00:00<?, ?it/s]"
      ]
     },
     "metadata": {},
     "output_type": "display_data"
    },
    {
     "name": "stdout",
     "output_type": "stream",
     "text": [
      "[INFO] Concatenating the embeddings to the dataframe...\n",
      "[INFO] - columns beginning with 'e' denote the full embddings.\n",
      "[INFO] Adding time feature columns into dataframe in `.df`.\n",
      "[INFO] Adding 'time_encoding' and feature...\n",
      "[INFO] Adding 'time_diff' and feature...\n",
      "[INFO] Adding 'timeline_index' feature...\n",
      "[INFO] Padding ids and storing in `.df_padded` and `.array_padded` attributes.\n"
     ]
    },
    {
     "data": {
      "application/vnd.jupyter.widget-view+json": {
       "model_id": "7a0f98222ffe42c1b245b2f5e69b0f4a",
       "version_major": 2,
       "version_minor": 0
      },
      "text/plain": [
       "  0%|          | 0/13551 [00:00<?, ?it/s]"
      ]
     },
     "metadata": {},
     "output_type": "display_data"
    },
    {
     "data": {
      "application/vnd.jupyter.widget-view+json": {
       "model_id": "ce719df9f6e84ae2aa2f32cec2fef5ad",
       "version_major": 2,
       "version_minor": 0
      },
      "text/plain": [
       "  0%|          | 0/3 [00:00<?, ?it/s]"
      ]
     },
     "metadata": {},
     "output_type": "display_data"
    },
    {
     "data": {
      "application/vnd.jupyter.widget-view+json": {
       "model_id": "e353d4a0c5ad4929af9b1c6476fea859",
       "version_major": 2,
       "version_minor": 0
      },
      "text/plain": [
       "  0%|          | 0/3 [00:00<?, ?it/s]"
      ]
     },
     "metadata": {},
     "output_type": "display_data"
    },
    {
     "data": {
      "application/vnd.jupyter.widget-view+json": {
       "model_id": "49a1684e817e4b119e0c8c381d1b474f",
       "version_major": 2,
       "version_minor": 0
      },
      "text/plain": [
       "  0%|          | 0/5 [00:00<?, ?it/s]"
      ]
     },
     "metadata": {},
     "output_type": "display_data"
    },
    {
     "data": {
      "application/vnd.jupyter.widget-view+json": {
       "model_id": "a48647eda8a4487dbcbc7c86d02a1a6b",
       "version_major": 2,
       "version_minor": 0
      },
      "text/plain": [
       "  0%|          | 0/5 [00:00<?, ?it/s]"
      ]
     },
     "metadata": {},
     "output_type": "display_data"
    },
    {
     "data": {
      "application/vnd.jupyter.widget-view+json": {
       "model_id": "759d3c6f84564bb58f2796a25e98a3da",
       "version_major": 2,
       "version_minor": 0
      },
      "text/plain": [
       "  0%|          | 0/5 [00:00<?, ?it/s]"
      ]
     },
     "metadata": {},
     "output_type": "display_data"
    },
    {
     "data": {
      "application/vnd.jupyter.widget-view+json": {
       "model_id": "e76d5862cc204f2b9d6d47fc6da6cc2a",
       "version_major": 2,
       "version_minor": 0
      },
      "text/plain": [
       "  0%|          | 0/3 [00:00<?, ?it/s]"
      ]
     },
     "metadata": {},
     "output_type": "display_data"
    },
    {
     "data": {
      "application/vnd.jupyter.widget-view+json": {
       "model_id": "8574c01f17664fe4b233ddf6d8216f49",
       "version_major": 2,
       "version_minor": 0
      },
      "text/plain": [
       "  0%|          | 0/5 [00:00<?, ?it/s]"
      ]
     },
     "metadata": {},
     "output_type": "display_data"
    },
    {
     "data": {
      "application/vnd.jupyter.widget-view+json": {
       "model_id": "a73b8c7cc1a24edeb36799b9561afa35",
       "version_major": 2,
       "version_minor": 0
      },
      "text/plain": [
       "  0%|          | 0/5 [00:00<?, ?it/s]"
      ]
     },
     "metadata": {},
     "output_type": "display_data"
    },
    {
     "data": {
      "application/vnd.jupyter.widget-view+json": {
       "model_id": "c2c7125ab8364e20bc8a1045b647b999",
       "version_major": 2,
       "version_minor": 0
      },
      "text/plain": [
       "  0%|          | 0/5 [00:00<?, ?it/s]"
      ]
     },
     "metadata": {},
     "output_type": "display_data"
    },
    {
     "data": {
      "application/vnd.jupyter.widget-view+json": {
       "model_id": "19fa2361868f423f85571abd6775f7cc",
       "version_major": 2,
       "version_minor": 0
      },
      "text/plain": [
       "  0%|          | 0/3 [00:00<?, ?it/s]"
      ]
     },
     "metadata": {},
     "output_type": "display_data"
    },
    {
     "data": {
      "application/vnd.jupyter.widget-view+json": {
       "model_id": "676714fdcdb240ba9bc3f56955c4e8ac",
       "version_major": 2,
       "version_minor": 0
      },
      "text/plain": [
       "  0%|          | 0/5 [00:00<?, ?it/s]"
      ]
     },
     "metadata": {},
     "output_type": "display_data"
    },
    {
     "data": {
      "application/vnd.jupyter.widget-view+json": {
       "model_id": "4d49f67747ee41418f091534e4303fb3",
       "version_major": 2,
       "version_minor": 0
      },
      "text/plain": [
       "  0%|          | 0/5 [00:00<?, ?it/s]"
      ]
     },
     "metadata": {},
     "output_type": "display_data"
    },
    {
     "data": {
      "application/vnd.jupyter.widget-view+json": {
       "model_id": "bcc2c3f7d5944e4997022b3c1dd1a0fb",
       "version_major": 2,
       "version_minor": 0
      },
      "text/plain": [
       "  0%|          | 0/5 [00:00<?, ?it/s]"
      ]
     },
     "metadata": {},
     "output_type": "display_data"
    },
    {
     "name": "stdout",
     "output_type": "stream",
     "text": [
      "[INFO] Concatenating the embeddings to the dataframe...\n",
      "[INFO] - columns beginning with 'e' denote the full embddings.\n",
      "[INFO] Adding time feature columns into dataframe in `.df`.\n",
      "[INFO] Adding 'time_encoding' and feature...\n",
      "[INFO] Adding 'time_diff' and feature...\n",
      "[INFO] Adding 'timeline_index' feature...\n",
      "[INFO] Padding ids and storing in `.df_padded` and `.array_padded` attributes.\n"
     ]
    },
    {
     "data": {
      "application/vnd.jupyter.widget-view+json": {
       "model_id": "5ca832fbe68c4be7a5c01a82c14a1fb1",
       "version_major": 2,
       "version_minor": 0
      },
      "text/plain": [
       "  0%|          | 0/13551 [00:00<?, ?it/s]"
      ]
     },
     "metadata": {},
     "output_type": "display_data"
    },
    {
     "data": {
      "application/vnd.jupyter.widget-view+json": {
       "model_id": "952fbdd7dede4fdf96d55abebf5c6ee9",
       "version_major": 2,
       "version_minor": 0
      },
      "text/plain": [
       "  0%|          | 0/3 [00:00<?, ?it/s]"
      ]
     },
     "metadata": {},
     "output_type": "display_data"
    },
    {
     "data": {
      "application/vnd.jupyter.widget-view+json": {
       "model_id": "266984e99338467d81ab4bb2a3f40169",
       "version_major": 2,
       "version_minor": 0
      },
      "text/plain": [
       "  0%|          | 0/3 [00:00<?, ?it/s]"
      ]
     },
     "metadata": {},
     "output_type": "display_data"
    },
    {
     "data": {
      "application/vnd.jupyter.widget-view+json": {
       "model_id": "bfdd76fa69ec4d779fe4f711fe6441df",
       "version_major": 2,
       "version_minor": 0
      },
      "text/plain": [
       "  0%|          | 0/5 [00:00<?, ?it/s]"
      ]
     },
     "metadata": {},
     "output_type": "display_data"
    },
    {
     "data": {
      "application/vnd.jupyter.widget-view+json": {
       "model_id": "6bb6d399739b42ee8cbfe6e971eb6355",
       "version_major": 2,
       "version_minor": 0
      },
      "text/plain": [
       "  0%|          | 0/5 [00:00<?, ?it/s]"
      ]
     },
     "metadata": {},
     "output_type": "display_data"
    },
    {
     "data": {
      "application/vnd.jupyter.widget-view+json": {
       "model_id": "bd68c90a4ad3484c9a2165b5de9ed290",
       "version_major": 2,
       "version_minor": 0
      },
      "text/plain": [
       "  0%|          | 0/5 [00:00<?, ?it/s]"
      ]
     },
     "metadata": {},
     "output_type": "display_data"
    },
    {
     "data": {
      "application/vnd.jupyter.widget-view+json": {
       "model_id": "501737e657cd4685a6621e2bad5b306b",
       "version_major": 2,
       "version_minor": 0
      },
      "text/plain": [
       "  0%|          | 0/3 [00:00<?, ?it/s]"
      ]
     },
     "metadata": {},
     "output_type": "display_data"
    },
    {
     "data": {
      "application/vnd.jupyter.widget-view+json": {
       "model_id": "52f8d623061f494e84a8ceafb061a7d9",
       "version_major": 2,
       "version_minor": 0
      },
      "text/plain": [
       "  0%|          | 0/5 [00:00<?, ?it/s]"
      ]
     },
     "metadata": {},
     "output_type": "display_data"
    },
    {
     "data": {
      "application/vnd.jupyter.widget-view+json": {
       "model_id": "edb0ca584b3143cba2bde6947668a9d4",
       "version_major": 2,
       "version_minor": 0
      },
      "text/plain": [
       "  0%|          | 0/5 [00:00<?, ?it/s]"
      ]
     },
     "metadata": {},
     "output_type": "display_data"
    },
    {
     "data": {
      "application/vnd.jupyter.widget-view+json": {
       "model_id": "2d506197c34446539a74b05e2d5e8716",
       "version_major": 2,
       "version_minor": 0
      },
      "text/plain": [
       "  0%|          | 0/5 [00:00<?, ?it/s]"
      ]
     },
     "metadata": {},
     "output_type": "display_data"
    },
    {
     "data": {
      "application/vnd.jupyter.widget-view+json": {
       "model_id": "44b28f3091a149afa8f5e57004cbceed",
       "version_major": 2,
       "version_minor": 0
      },
      "text/plain": [
       "  0%|          | 0/3 [00:00<?, ?it/s]"
      ]
     },
     "metadata": {},
     "output_type": "display_data"
    },
    {
     "data": {
      "application/vnd.jupyter.widget-view+json": {
       "model_id": "77732b822149466daa1a1e8b600407e5",
       "version_major": 2,
       "version_minor": 0
      },
      "text/plain": [
       "  0%|          | 0/5 [00:00<?, ?it/s]"
      ]
     },
     "metadata": {},
     "output_type": "display_data"
    },
    {
     "data": {
      "application/vnd.jupyter.widget-view+json": {
       "model_id": "6b9438ab26fa458e83fcd0d078c522c2",
       "version_major": 2,
       "version_minor": 0
      },
      "text/plain": [
       "  0%|          | 0/5 [00:00<?, ?it/s]"
      ]
     },
     "metadata": {},
     "output_type": "display_data"
    },
    {
     "data": {
      "application/vnd.jupyter.widget-view+json": {
       "model_id": "711277db3a0844f6a374e36382129ac4",
       "version_major": 2,
       "version_minor": 0
      },
      "text/plain": [
       "  0%|          | 0/5 [00:00<?, ?it/s]"
      ]
     },
     "metadata": {},
     "output_type": "display_data"
    },
    {
     "name": "stdout",
     "output_type": "stream",
     "text": [
      "[INFO] Concatenating the embeddings to the dataframe...\n",
      "[INFO] - columns beginning with 'e' denote the full embddings.\n",
      "[INFO] Adding time feature columns into dataframe in `.df`.\n",
      "[INFO] Adding 'time_encoding' and feature...\n",
      "[INFO] Adding 'time_diff' and feature...\n",
      "[INFO] Adding 'timeline_index' feature...\n",
      "[INFO] Padding ids and storing in `.df_padded` and `.array_padded` attributes.\n"
     ]
    },
    {
     "data": {
      "application/vnd.jupyter.widget-view+json": {
       "model_id": "59d7177d23d54c19afffcf0cf75cd672",
       "version_major": 2,
       "version_minor": 0
      },
      "text/plain": [
       "  0%|          | 0/13551 [00:00<?, ?it/s]"
      ]
     },
     "metadata": {},
     "output_type": "display_data"
    },
    {
     "data": {
      "application/vnd.jupyter.widget-view+json": {
       "model_id": "2bb3c7ac3f29425c9874054eae7cc3fe",
       "version_major": 2,
       "version_minor": 0
      },
      "text/plain": [
       "  0%|          | 0/3 [00:00<?, ?it/s]"
      ]
     },
     "metadata": {},
     "output_type": "display_data"
    },
    {
     "data": {
      "application/vnd.jupyter.widget-view+json": {
       "model_id": "02b488d98df94fa5a6c07ef04f89f731",
       "version_major": 2,
       "version_minor": 0
      },
      "text/plain": [
       "  0%|          | 0/3 [00:00<?, ?it/s]"
      ]
     },
     "metadata": {},
     "output_type": "display_data"
    },
    {
     "data": {
      "application/vnd.jupyter.widget-view+json": {
       "model_id": "e5305a28806040c49b82c9f7e7b6497e",
       "version_major": 2,
       "version_minor": 0
      },
      "text/plain": [
       "  0%|          | 0/5 [00:00<?, ?it/s]"
      ]
     },
     "metadata": {},
     "output_type": "display_data"
    },
    {
     "data": {
      "application/vnd.jupyter.widget-view+json": {
       "model_id": "8e26c0489e70437cb3772d83cd8f6401",
       "version_major": 2,
       "version_minor": 0
      },
      "text/plain": [
       "  0%|          | 0/5 [00:00<?, ?it/s]"
      ]
     },
     "metadata": {},
     "output_type": "display_data"
    },
    {
     "data": {
      "application/vnd.jupyter.widget-view+json": {
       "model_id": "b029e6019cc143b091cf56d6ae4dc00d",
       "version_major": 2,
       "version_minor": 0
      },
      "text/plain": [
       "  0%|          | 0/5 [00:00<?, ?it/s]"
      ]
     },
     "metadata": {},
     "output_type": "display_data"
    },
    {
     "data": {
      "application/vnd.jupyter.widget-view+json": {
       "model_id": "c9655d298ba347a9940809531f82d0b6",
       "version_major": 2,
       "version_minor": 0
      },
      "text/plain": [
       "  0%|          | 0/3 [00:00<?, ?it/s]"
      ]
     },
     "metadata": {},
     "output_type": "display_data"
    },
    {
     "data": {
      "application/vnd.jupyter.widget-view+json": {
       "model_id": "571e629e495d4153932c71e534c1e87f",
       "version_major": 2,
       "version_minor": 0
      },
      "text/plain": [
       "  0%|          | 0/5 [00:00<?, ?it/s]"
      ]
     },
     "metadata": {},
     "output_type": "display_data"
    },
    {
     "data": {
      "application/vnd.jupyter.widget-view+json": {
       "model_id": "c47571c819ec4438ad4be95442e00b79",
       "version_major": 2,
       "version_minor": 0
      },
      "text/plain": [
       "  0%|          | 0/5 [00:00<?, ?it/s]"
      ]
     },
     "metadata": {},
     "output_type": "display_data"
    },
    {
     "data": {
      "application/vnd.jupyter.widget-view+json": {
       "model_id": "e550110b08084e318e58e22d175470d5",
       "version_major": 2,
       "version_minor": 0
      },
      "text/plain": [
       "  0%|          | 0/5 [00:00<?, ?it/s]"
      ]
     },
     "metadata": {},
     "output_type": "display_data"
    },
    {
     "data": {
      "application/vnd.jupyter.widget-view+json": {
       "model_id": "cef864b45e164908a1e55020e66a8be1",
       "version_major": 2,
       "version_minor": 0
      },
      "text/plain": [
       "  0%|          | 0/3 [00:00<?, ?it/s]"
      ]
     },
     "metadata": {},
     "output_type": "display_data"
    },
    {
     "data": {
      "application/vnd.jupyter.widget-view+json": {
       "model_id": "74d9eee741c64039a9d5a41affd72dc1",
       "version_major": 2,
       "version_minor": 0
      },
      "text/plain": [
       "  0%|          | 0/5 [00:00<?, ?it/s]"
      ]
     },
     "metadata": {},
     "output_type": "display_data"
    },
    {
     "data": {
      "application/vnd.jupyter.widget-view+json": {
       "model_id": "6f8d6ee1a40048e2870a23418afaa102",
       "version_major": 2,
       "version_minor": 0
      },
      "text/plain": [
       "  0%|          | 0/5 [00:00<?, ?it/s]"
      ]
     },
     "metadata": {},
     "output_type": "display_data"
    },
    {
     "data": {
      "application/vnd.jupyter.widget-view+json": {
       "model_id": "71d2f14a3b15426d87330d2eed17bd22",
       "version_major": 2,
       "version_minor": 0
      },
      "text/plain": [
       "  0%|          | 0/5 [00:00<?, ?it/s]"
      ]
     },
     "metadata": {},
     "output_type": "display_data"
    },
    {
     "name": "stdout",
     "output_type": "stream",
     "text": [
      "[INFO] Concatenating the embeddings to the dataframe...\n",
      "[INFO] - columns beginning with 'e' denote the full embddings.\n",
      "[INFO] Adding time feature columns into dataframe in `.df`.\n",
      "[INFO] Adding 'time_encoding' and feature...\n",
      "[INFO] Adding 'time_diff' and feature...\n",
      "[INFO] Adding 'timeline_index' feature...\n",
      "[INFO] Padding ids and storing in `.df_padded` and `.array_padded` attributes.\n"
     ]
    },
    {
     "data": {
      "application/vnd.jupyter.widget-view+json": {
       "model_id": "3a51858ba88849c4b158c87e5014a1bd",
       "version_major": 2,
       "version_minor": 0
      },
      "text/plain": [
       "  0%|          | 0/13551 [00:00<?, ?it/s]"
      ]
     },
     "metadata": {},
     "output_type": "display_data"
    },
    {
     "name": "stdout",
     "output_type": "stream",
     "text": [
      "saving results dataframe to CSV for this hyperparameter search in client_talk_type/ffn_mean_history_focal_2.csv\n",
      "saving the best model results dataframe to CSV for this hyperparameter search in client_talk_type/ffn_mean_history_focal_2_best_model.csv\n"
     ]
    }
   ],
   "source": [
    "ffn_mean_history, best_ffn_mean_history, _, __ = histories_baseline_hyperparameter_search(\n",
    "    num_epochs=num_epochs,\n",
    "    df=anno_mi,\n",
    "    id_column=\"transcript_id\",\n",
    "    label_column=\"client_talk_type\",\n",
    "    embeddings=sbert_embeddings,\n",
    "    y_data=y_data,\n",
    "    output_dim=output_dim,\n",
    "    window_sizes=window_sizes,\n",
    "    hidden_dim_sizes=hidden_dim_sizes,\n",
    "    dropout_rates=dropout_rates,\n",
    "    learning_rates=learning_rates,\n",
    "    use_signatures=False,\n",
    "    seeds=seeds,\n",
    "    loss=loss,\n",
    "    gamma=gamma,\n",
    "    path_indices=client_index,\n",
    "    k_fold=False,\n",
    "    validation_metric=validation_metric,\n",
    "    results_output=f\"{output_dir}/ffn_mean_history_focal_{gamma}.csv\",\n",
    "    verbose=False\n",
    ")"
   ]
  },
  {
   "cell_type": "code",
   "execution_count": 29,
   "id": "47345579",
   "metadata": {},
   "outputs": [
    {
     "data": {
      "text/html": [
       "<div>\n",
       "<style scoped>\n",
       "    .dataframe tbody tr th:only-of-type {\n",
       "        vertical-align: middle;\n",
       "    }\n",
       "\n",
       "    .dataframe tbody tr th {\n",
       "        vertical-align: top;\n",
       "    }\n",
       "\n",
       "    .dataframe thead th {\n",
       "        text-align: right;\n",
       "    }\n",
       "</style>\n",
       "<table border=\"1\" class=\"dataframe\">\n",
       "  <thead>\n",
       "    <tr style=\"text-align: right;\">\n",
       "      <th></th>\n",
       "      <th>loss</th>\n",
       "      <th>accuracy</th>\n",
       "      <th>f1</th>\n",
       "      <th>f1_scores</th>\n",
       "      <th>valid_loss</th>\n",
       "      <th>valid_accuracy</th>\n",
       "      <th>valid_f1</th>\n",
       "      <th>valid_f1_scores</th>\n",
       "      <th>hidden_dim</th>\n",
       "      <th>dropout_rate</th>\n",
       "      <th>learning_rate</th>\n",
       "      <th>seed</th>\n",
       "      <th>gamma</th>\n",
       "      <th>k_fold</th>\n",
       "      <th>model_id</th>\n",
       "      <th>k</th>\n",
       "      <th>input_dim</th>\n",
       "    </tr>\n",
       "  </thead>\n",
       "  <tbody>\n",
       "    <tr>\n",
       "      <th>0</th>\n",
       "      <td>focal</td>\n",
       "      <td>0.713011</td>\n",
       "      <td>0.614313</td>\n",
       "      <td>[0.8114157806379407, 0.5272727272727272, 0.504...</td>\n",
       "      <td>0.697381</td>\n",
       "      <td>0.725836</td>\n",
       "      <td>0.625205</td>\n",
       "      <td>[0.818368745716244, 0.5365853658536585, 0.5206...</td>\n",
       "      <td>[100]</td>\n",
       "      <td>0.5</td>\n",
       "      <td>0.00500</td>\n",
       "      <td>0</td>\n",
       "      <td>2</td>\n",
       "      <td>False</td>\n",
       "      <td>0.00</td>\n",
       "      <td>5</td>\n",
       "      <td>766</td>\n",
       "    </tr>\n",
       "    <tr>\n",
       "      <th>0</th>\n",
       "      <td>focal</td>\n",
       "      <td>0.710037</td>\n",
       "      <td>0.620470</td>\n",
       "      <td>[0.8068181818181818, 0.5251798561151079, 0.529...</td>\n",
       "      <td>0.502735</td>\n",
       "      <td>0.717472</td>\n",
       "      <td>0.611772</td>\n",
       "      <td>[0.8177408177408177, 0.5253863134657837, 0.492...</td>\n",
       "      <td>[100]</td>\n",
       "      <td>0.5</td>\n",
       "      <td>0.00500</td>\n",
       "      <td>1</td>\n",
       "      <td>2</td>\n",
       "      <td>False</td>\n",
       "      <td>0.00</td>\n",
       "      <td>5</td>\n",
       "      <td>766</td>\n",
       "    </tr>\n",
       "    <tr>\n",
       "      <th>0</th>\n",
       "      <td>focal</td>\n",
       "      <td>0.667658</td>\n",
       "      <td>0.595767</td>\n",
       "      <td>[0.7693259121830551, 0.5345622119815667, 0.483...</td>\n",
       "      <td>0.602109</td>\n",
       "      <td>0.700743</td>\n",
       "      <td>0.621087</td>\n",
       "      <td>[0.7975921745673438, 0.5708955223880597, 0.494...</td>\n",
       "      <td>[100]</td>\n",
       "      <td>0.5</td>\n",
       "      <td>0.00500</td>\n",
       "      <td>12</td>\n",
       "      <td>2</td>\n",
       "      <td>False</td>\n",
       "      <td>0.00</td>\n",
       "      <td>5</td>\n",
       "      <td>766</td>\n",
       "    </tr>\n",
       "    <tr>\n",
       "      <th>0</th>\n",
       "      <td>focal</td>\n",
       "      <td>0.697398</td>\n",
       "      <td>0.627495</td>\n",
       "      <td>[0.7888161808447353, 0.538961038961039, 0.5547...</td>\n",
       "      <td>0.534903</td>\n",
       "      <td>0.716543</td>\n",
       "      <td>0.626636</td>\n",
       "      <td>[0.812545587162655, 0.5786407766990291, 0.4887...</td>\n",
       "      <td>[100]</td>\n",
       "      <td>0.5</td>\n",
       "      <td>0.00500</td>\n",
       "      <td>123</td>\n",
       "      <td>2</td>\n",
       "      <td>False</td>\n",
       "      <td>0.00</td>\n",
       "      <td>5</td>\n",
       "      <td>766</td>\n",
       "    </tr>\n",
       "    <tr>\n",
       "      <th>0</th>\n",
       "      <td>focal</td>\n",
       "      <td>0.709294</td>\n",
       "      <td>0.610480</td>\n",
       "      <td>[0.8129251700680273, 0.5212765957446809, 0.497...</td>\n",
       "      <td>0.517703</td>\n",
       "      <td>0.731413</td>\n",
       "      <td>0.629395</td>\n",
       "      <td>[0.8272033310201249, 0.552915766738661, 0.5080...</td>\n",
       "      <td>[100]</td>\n",
       "      <td>0.5</td>\n",
       "      <td>0.00500</td>\n",
       "      <td>1234</td>\n",
       "      <td>2</td>\n",
       "      <td>False</td>\n",
       "      <td>0.00</td>\n",
       "      <td>5</td>\n",
       "      <td>766</td>\n",
       "    </tr>\n",
       "    <tr>\n",
       "      <th>...</th>\n",
       "      <td>...</td>\n",
       "      <td>...</td>\n",
       "      <td>...</td>\n",
       "      <td>...</td>\n",
       "      <td>...</td>\n",
       "      <td>...</td>\n",
       "      <td>...</td>\n",
       "      <td>...</td>\n",
       "      <td>...</td>\n",
       "      <td>...</td>\n",
       "      <td>...</td>\n",
       "      <td>...</td>\n",
       "      <td>...</td>\n",
       "      <td>...</td>\n",
       "      <td>...</td>\n",
       "      <td>...</td>\n",
       "      <td>...</td>\n",
       "    </tr>\n",
       "    <tr>\n",
       "      <th>0</th>\n",
       "      <td>focal</td>\n",
       "      <td>0.617100</td>\n",
       "      <td>0.265933</td>\n",
       "      <td>[0.7633163501621121, 0.03448275862068966, 0.0]</td>\n",
       "      <td>0.756498</td>\n",
       "      <td>0.640335</td>\n",
       "      <td>0.267512</td>\n",
       "      <td>[0.7808764940239044, 0.021660649819494584, 0.0]</td>\n",
       "      <td>[100, 100, 100]</td>\n",
       "      <td>0.1</td>\n",
       "      <td>0.00001</td>\n",
       "      <td>0</td>\n",
       "      <td>2</td>\n",
       "      <td>False</td>\n",
       "      <td>3.44</td>\n",
       "      <td>50</td>\n",
       "      <td>766</td>\n",
       "    </tr>\n",
       "    <tr>\n",
       "      <th>0</th>\n",
       "      <td>focal</td>\n",
       "      <td>0.667658</td>\n",
       "      <td>0.566020</td>\n",
       "      <td>[0.7959905660377359, 0.43717728055077454, 0.46...</td>\n",
       "      <td>0.560264</td>\n",
       "      <td>0.693309</td>\n",
       "      <td>0.585954</td>\n",
       "      <td>[0.8141720896601591, 0.48945147679324896, 0.45...</td>\n",
       "      <td>[100, 100, 100]</td>\n",
       "      <td>0.1</td>\n",
       "      <td>0.00001</td>\n",
       "      <td>1</td>\n",
       "      <td>2</td>\n",
       "      <td>False</td>\n",
       "      <td>3.44</td>\n",
       "      <td>50</td>\n",
       "      <td>766</td>\n",
       "    </tr>\n",
       "    <tr>\n",
       "      <th>0</th>\n",
       "      <td>focal</td>\n",
       "      <td>0.617100</td>\n",
       "      <td>0.254406</td>\n",
       "      <td>[0.7632183908045977, 0.0, 0.0]</td>\n",
       "      <td>0.788310</td>\n",
       "      <td>0.639405</td>\n",
       "      <td>0.260163</td>\n",
       "      <td>[0.7804878048780487, 0.0, 0.0]</td>\n",
       "      <td>[100, 100, 100]</td>\n",
       "      <td>0.1</td>\n",
       "      <td>0.00001</td>\n",
       "      <td>12</td>\n",
       "      <td>2</td>\n",
       "      <td>False</td>\n",
       "      <td>3.44</td>\n",
       "      <td>50</td>\n",
       "      <td>766</td>\n",
       "    </tr>\n",
       "    <tr>\n",
       "      <th>0</th>\n",
       "      <td>focal</td>\n",
       "      <td>0.683271</td>\n",
       "      <td>0.577781</td>\n",
       "      <td>[0.801648028251913, 0.5021645021645021, 0.4295...</td>\n",
       "      <td>0.594105</td>\n",
       "      <td>0.697955</td>\n",
       "      <td>0.576923</td>\n",
       "      <td>[0.8155619596541788, 0.51520572450805, 0.4]</td>\n",
       "      <td>[100, 100, 100]</td>\n",
       "      <td>0.1</td>\n",
       "      <td>0.00001</td>\n",
       "      <td>123</td>\n",
       "      <td>2</td>\n",
       "      <td>False</td>\n",
       "      <td>3.44</td>\n",
       "      <td>50</td>\n",
       "      <td>766</td>\n",
       "    </tr>\n",
       "    <tr>\n",
       "      <th>0</th>\n",
       "      <td>focal</td>\n",
       "      <td>0.679554</td>\n",
       "      <td>0.576449</td>\n",
       "      <td>[0.8037383177570093, 0.4600000000000001, 0.465...</td>\n",
       "      <td>0.567068</td>\n",
       "      <td>0.705390</td>\n",
       "      <td>0.593548</td>\n",
       "      <td>[0.8220946915351506, 0.5149700598802396, 0.443...</td>\n",
       "      <td>[100, 100, 100]</td>\n",
       "      <td>0.1</td>\n",
       "      <td>0.00001</td>\n",
       "      <td>1234</td>\n",
       "      <td>2</td>\n",
       "      <td>False</td>\n",
       "      <td>3.44</td>\n",
       "      <td>50</td>\n",
       "      <td>766</td>\n",
       "    </tr>\n",
       "  </tbody>\n",
       "</table>\n",
       "<p>900 rows × 17 columns</p>\n",
       "</div>"
      ],
      "text/plain": [
       "     loss  accuracy        f1  \\\n",
       "0   focal  0.713011  0.614313   \n",
       "0   focal  0.710037  0.620470   \n",
       "0   focal  0.667658  0.595767   \n",
       "0   focal  0.697398  0.627495   \n",
       "0   focal  0.709294  0.610480   \n",
       "..    ...       ...       ...   \n",
       "0   focal  0.617100  0.265933   \n",
       "0   focal  0.667658  0.566020   \n",
       "0   focal  0.617100  0.254406   \n",
       "0   focal  0.683271  0.577781   \n",
       "0   focal  0.679554  0.576449   \n",
       "\n",
       "                                            f1_scores  valid_loss  \\\n",
       "0   [0.8114157806379407, 0.5272727272727272, 0.504...    0.697381   \n",
       "0   [0.8068181818181818, 0.5251798561151079, 0.529...    0.502735   \n",
       "0   [0.7693259121830551, 0.5345622119815667, 0.483...    0.602109   \n",
       "0   [0.7888161808447353, 0.538961038961039, 0.5547...    0.534903   \n",
       "0   [0.8129251700680273, 0.5212765957446809, 0.497...    0.517703   \n",
       "..                                                ...         ...   \n",
       "0      [0.7633163501621121, 0.03448275862068966, 0.0]    0.756498   \n",
       "0   [0.7959905660377359, 0.43717728055077454, 0.46...    0.560264   \n",
       "0                      [0.7632183908045977, 0.0, 0.0]    0.788310   \n",
       "0   [0.801648028251913, 0.5021645021645021, 0.4295...    0.594105   \n",
       "0   [0.8037383177570093, 0.4600000000000001, 0.465...    0.567068   \n",
       "\n",
       "    valid_accuracy  valid_f1  \\\n",
       "0         0.725836  0.625205   \n",
       "0         0.717472  0.611772   \n",
       "0         0.700743  0.621087   \n",
       "0         0.716543  0.626636   \n",
       "0         0.731413  0.629395   \n",
       "..             ...       ...   \n",
       "0         0.640335  0.267512   \n",
       "0         0.693309  0.585954   \n",
       "0         0.639405  0.260163   \n",
       "0         0.697955  0.576923   \n",
       "0         0.705390  0.593548   \n",
       "\n",
       "                                      valid_f1_scores       hidden_dim  \\\n",
       "0   [0.818368745716244, 0.5365853658536585, 0.5206...            [100]   \n",
       "0   [0.8177408177408177, 0.5253863134657837, 0.492...            [100]   \n",
       "0   [0.7975921745673438, 0.5708955223880597, 0.494...            [100]   \n",
       "0   [0.812545587162655, 0.5786407766990291, 0.4887...            [100]   \n",
       "0   [0.8272033310201249, 0.552915766738661, 0.5080...            [100]   \n",
       "..                                                ...              ...   \n",
       "0     [0.7808764940239044, 0.021660649819494584, 0.0]  [100, 100, 100]   \n",
       "0   [0.8141720896601591, 0.48945147679324896, 0.45...  [100, 100, 100]   \n",
       "0                      [0.7804878048780487, 0.0, 0.0]  [100, 100, 100]   \n",
       "0         [0.8155619596541788, 0.51520572450805, 0.4]  [100, 100, 100]   \n",
       "0   [0.8220946915351506, 0.5149700598802396, 0.443...  [100, 100, 100]   \n",
       "\n",
       "    dropout_rate  learning_rate  seed  gamma  k_fold  model_id   k  input_dim  \n",
       "0            0.5        0.00500     0      2   False      0.00   5        766  \n",
       "0            0.5        0.00500     1      2   False      0.00   5        766  \n",
       "0            0.5        0.00500    12      2   False      0.00   5        766  \n",
       "0            0.5        0.00500   123      2   False      0.00   5        766  \n",
       "0            0.5        0.00500  1234      2   False      0.00   5        766  \n",
       "..           ...            ...   ...    ...     ...       ...  ..        ...  \n",
       "0            0.1        0.00001     0      2   False      3.44  50        766  \n",
       "0            0.1        0.00001     1      2   False      3.44  50        766  \n",
       "0            0.1        0.00001    12      2   False      3.44  50        766  \n",
       "0            0.1        0.00001   123      2   False      3.44  50        766  \n",
       "0            0.1        0.00001  1234      2   False      3.44  50        766  \n",
       "\n",
       "[900 rows x 17 columns]"
      ]
     },
     "execution_count": 29,
     "metadata": {},
     "output_type": "execute_result"
    }
   ],
   "source": [
    "ffn_mean_history"
   ]
  },
  {
   "cell_type": "code",
   "execution_count": 30,
   "id": "238f9f59",
   "metadata": {},
   "outputs": [
    {
     "data": {
      "text/html": [
       "<div>\n",
       "<style scoped>\n",
       "    .dataframe tbody tr th:only-of-type {\n",
       "        vertical-align: middle;\n",
       "    }\n",
       "\n",
       "    .dataframe tbody tr th {\n",
       "        vertical-align: top;\n",
       "    }\n",
       "\n",
       "    .dataframe thead th {\n",
       "        text-align: right;\n",
       "    }\n",
       "</style>\n",
       "<table border=\"1\" class=\"dataframe\">\n",
       "  <thead>\n",
       "    <tr style=\"text-align: right;\">\n",
       "      <th></th>\n",
       "      <th>loss</th>\n",
       "      <th>accuracy</th>\n",
       "      <th>f1</th>\n",
       "      <th>f1_scores</th>\n",
       "      <th>valid_loss</th>\n",
       "      <th>valid_accuracy</th>\n",
       "      <th>valid_f1</th>\n",
       "      <th>valid_f1_scores</th>\n",
       "      <th>hidden_dim</th>\n",
       "      <th>dropout_rate</th>\n",
       "      <th>learning_rate</th>\n",
       "      <th>seed</th>\n",
       "      <th>gamma</th>\n",
       "      <th>k_fold</th>\n",
       "      <th>k</th>\n",
       "      <th>input_dim</th>\n",
       "    </tr>\n",
       "  </thead>\n",
       "  <tbody>\n",
       "    <tr>\n",
       "      <th>0</th>\n",
       "      <td>focal</td>\n",
       "      <td>0.707807</td>\n",
       "      <td>0.631739</td>\n",
       "      <td>[0.798329355608592, 0.5847589424572317, 0.5121...</td>\n",
       "      <td>0.718380</td>\n",
       "      <td>0.736989</td>\n",
       "      <td>0.648432</td>\n",
       "      <td>[0.8244719592134013, 0.6247619047619047, 0.496...</td>\n",
       "      <td>[100]</td>\n",
       "      <td>0.5</td>\n",
       "      <td>0.001</td>\n",
       "      <td>0</td>\n",
       "      <td>2</td>\n",
       "      <td>False</td>\n",
       "      <td>50</td>\n",
       "      <td>766</td>\n",
       "    </tr>\n",
       "    <tr>\n",
       "      <th>0</th>\n",
       "      <td>focal</td>\n",
       "      <td>0.708550</td>\n",
       "      <td>0.635621</td>\n",
       "      <td>[0.8004807692307692, 0.5795275590551181, 0.526...</td>\n",
       "      <td>0.549926</td>\n",
       "      <td>0.732342</td>\n",
       "      <td>0.639982</td>\n",
       "      <td>[0.8253968253968255, 0.5984251968503937, 0.496...</td>\n",
       "      <td>[100]</td>\n",
       "      <td>0.5</td>\n",
       "      <td>0.001</td>\n",
       "      <td>1</td>\n",
       "      <td>2</td>\n",
       "      <td>False</td>\n",
       "      <td>50</td>\n",
       "      <td>766</td>\n",
       "    </tr>\n",
       "    <tr>\n",
       "      <th>0</th>\n",
       "      <td>focal</td>\n",
       "      <td>0.709294</td>\n",
       "      <td>0.633258</td>\n",
       "      <td>[0.7988269794721409, 0.5654281098546042, 0.535...</td>\n",
       "      <td>0.615128</td>\n",
       "      <td>0.732342</td>\n",
       "      <td>0.644632</td>\n",
       "      <td>[0.8202166064981948, 0.6078431372549019, 0.505...</td>\n",
       "      <td>[100]</td>\n",
       "      <td>0.5</td>\n",
       "      <td>0.001</td>\n",
       "      <td>12</td>\n",
       "      <td>2</td>\n",
       "      <td>False</td>\n",
       "      <td>50</td>\n",
       "      <td>766</td>\n",
       "    </tr>\n",
       "    <tr>\n",
       "      <th>0</th>\n",
       "      <td>focal</td>\n",
       "      <td>0.710037</td>\n",
       "      <td>0.632813</td>\n",
       "      <td>[0.8046783625730994, 0.5382059800664452, 0.555...</td>\n",
       "      <td>0.541037</td>\n",
       "      <td>0.736989</td>\n",
       "      <td>0.641692</td>\n",
       "      <td>[0.8297567954220315, 0.6012024048096193, 0.494...</td>\n",
       "      <td>[100]</td>\n",
       "      <td>0.5</td>\n",
       "      <td>0.001</td>\n",
       "      <td>123</td>\n",
       "      <td>2</td>\n",
       "      <td>False</td>\n",
       "      <td>50</td>\n",
       "      <td>766</td>\n",
       "    </tr>\n",
       "    <tr>\n",
       "      <th>0</th>\n",
       "      <td>focal</td>\n",
       "      <td>0.699628</td>\n",
       "      <td>0.631056</td>\n",
       "      <td>[0.7921760391198045, 0.5714285714285714, 0.529...</td>\n",
       "      <td>0.556330</td>\n",
       "      <td>0.719331</td>\n",
       "      <td>0.640200</td>\n",
       "      <td>[0.8095952023988006, 0.6074074074074074, 0.503...</td>\n",
       "      <td>[100]</td>\n",
       "      <td>0.5</td>\n",
       "      <td>0.001</td>\n",
       "      <td>1234</td>\n",
       "      <td>2</td>\n",
       "      <td>False</td>\n",
       "      <td>50</td>\n",
       "      <td>766</td>\n",
       "    </tr>\n",
       "  </tbody>\n",
       "</table>\n",
       "</div>"
      ],
      "text/plain": [
       "    loss  accuracy        f1  \\\n",
       "0  focal  0.707807  0.631739   \n",
       "0  focal  0.708550  0.635621   \n",
       "0  focal  0.709294  0.633258   \n",
       "0  focal  0.710037  0.632813   \n",
       "0  focal  0.699628  0.631056   \n",
       "\n",
       "                                           f1_scores  valid_loss  \\\n",
       "0  [0.798329355608592, 0.5847589424572317, 0.5121...    0.718380   \n",
       "0  [0.8004807692307692, 0.5795275590551181, 0.526...    0.549926   \n",
       "0  [0.7988269794721409, 0.5654281098546042, 0.535...    0.615128   \n",
       "0  [0.8046783625730994, 0.5382059800664452, 0.555...    0.541037   \n",
       "0  [0.7921760391198045, 0.5714285714285714, 0.529...    0.556330   \n",
       "\n",
       "   valid_accuracy  valid_f1  \\\n",
       "0        0.736989  0.648432   \n",
       "0        0.732342  0.639982   \n",
       "0        0.732342  0.644632   \n",
       "0        0.736989  0.641692   \n",
       "0        0.719331  0.640200   \n",
       "\n",
       "                                     valid_f1_scores hidden_dim  dropout_rate  \\\n",
       "0  [0.8244719592134013, 0.6247619047619047, 0.496...      [100]           0.5   \n",
       "0  [0.8253968253968255, 0.5984251968503937, 0.496...      [100]           0.5   \n",
       "0  [0.8202166064981948, 0.6078431372549019, 0.505...      [100]           0.5   \n",
       "0  [0.8297567954220315, 0.6012024048096193, 0.494...      [100]           0.5   \n",
       "0  [0.8095952023988006, 0.6074074074074074, 0.503...      [100]           0.5   \n",
       "\n",
       "   learning_rate  seed  gamma  k_fold   k  input_dim  \n",
       "0          0.001     0      2   False  50        766  \n",
       "0          0.001     1      2   False  50        766  \n",
       "0          0.001    12      2   False  50        766  \n",
       "0          0.001   123      2   False  50        766  \n",
       "0          0.001  1234      2   False  50        766  "
      ]
     },
     "execution_count": 30,
     "metadata": {},
     "output_type": "execute_result"
    }
   ],
   "source": [
    "best_ffn_mean_history"
   ]
  },
  {
   "cell_type": "code",
   "execution_count": 31,
   "id": "b858f4e0",
   "metadata": {},
   "outputs": [
    {
     "data": {
      "text/plain": [
       "0.6328974621408594"
      ]
     },
     "execution_count": 31,
     "metadata": {},
     "output_type": "execute_result"
    }
   ],
   "source": [
    "best_ffn_mean_history[\"f1\"].mean()"
   ]
  },
  {
   "cell_type": "code",
   "execution_count": 69,
   "id": "c03b8c4c",
   "metadata": {},
   "outputs": [
    {
     "data": {
      "text/plain": [
       "array([0.7988983 , 0.56786983, 0.53192425])"
      ]
     },
     "execution_count": 69,
     "metadata": {},
     "output_type": "execute_result"
    }
   ],
   "source": [
    "np.stack(best_ffn_mean_history[\"f1_scores\"]).mean(axis=0)"
   ]
  },
  {
   "cell_type": "code",
   "execution_count": 32,
   "id": "e6e53879",
   "metadata": {
    "scrolled": false
   },
   "outputs": [
    {
     "data": {
      "application/vnd.jupyter.widget-view+json": {
       "model_id": "dd1f09d62b7243299a474000a8fabc48",
       "version_major": 2,
       "version_minor": 0
      },
      "text/plain": [
       "  0%|          | 0/4 [00:00<?, ?it/s]"
      ]
     },
     "metadata": {},
     "output_type": "display_data"
    },
    {
     "name": "stdout",
     "output_type": "stream",
     "text": [
      "[INFO] Concatenating the embeddings to the dataframe...\n",
      "[INFO] - columns beginning with 'e' denote the full embddings.\n",
      "[INFO] Adding time feature columns into dataframe in `.df`.\n",
      "[INFO] Adding 'time_encoding' and feature...\n",
      "[INFO] Adding 'time_diff' and feature...\n",
      "[INFO] Adding 'timeline_index' feature...\n",
      "[INFO] Padding ids and storing in `.df_padded` and `.array_padded` attributes.\n"
     ]
    },
    {
     "data": {
      "application/vnd.jupyter.widget-view+json": {
       "model_id": "b10cac71e3b64b42b1657d31ec0edeb4",
       "version_major": 2,
       "version_minor": 0
      },
      "text/plain": [
       "  0%|          | 0/13551 [00:00<?, ?it/s]"
      ]
     },
     "metadata": {},
     "output_type": "display_data"
    },
    {
     "data": {
      "application/vnd.jupyter.widget-view+json": {
       "model_id": "e77e756ad70442d5bb9903cf3161b98a",
       "version_major": 2,
       "version_minor": 0
      },
      "text/plain": [
       "  0%|          | 0/3 [00:00<?, ?it/s]"
      ]
     },
     "metadata": {},
     "output_type": "display_data"
    },
    {
     "data": {
      "application/vnd.jupyter.widget-view+json": {
       "model_id": "da36ee431e8743f3b9cac122d050f7ea",
       "version_major": 2,
       "version_minor": 0
      },
      "text/plain": [
       "  0%|          | 0/3 [00:00<?, ?it/s]"
      ]
     },
     "metadata": {},
     "output_type": "display_data"
    },
    {
     "data": {
      "application/vnd.jupyter.widget-view+json": {
       "model_id": "5ea889817efc47aba8f620c6cbe8fb06",
       "version_major": 2,
       "version_minor": 0
      },
      "text/plain": [
       "  0%|          | 0/5 [00:00<?, ?it/s]"
      ]
     },
     "metadata": {},
     "output_type": "display_data"
    },
    {
     "data": {
      "application/vnd.jupyter.widget-view+json": {
       "model_id": "c198838dcb2e4495b0068bb834889f16",
       "version_major": 2,
       "version_minor": 0
      },
      "text/plain": [
       "  0%|          | 0/5 [00:00<?, ?it/s]"
      ]
     },
     "metadata": {},
     "output_type": "display_data"
    },
    {
     "data": {
      "application/vnd.jupyter.widget-view+json": {
       "model_id": "2c11d0161f454bca9eb441c59d9e6ffc",
       "version_major": 2,
       "version_minor": 0
      },
      "text/plain": [
       "  0%|          | 0/5 [00:00<?, ?it/s]"
      ]
     },
     "metadata": {},
     "output_type": "display_data"
    },
    {
     "data": {
      "application/vnd.jupyter.widget-view+json": {
       "model_id": "c8ffa086f1a14c69856367fe06b73243",
       "version_major": 2,
       "version_minor": 0
      },
      "text/plain": [
       "  0%|          | 0/3 [00:00<?, ?it/s]"
      ]
     },
     "metadata": {},
     "output_type": "display_data"
    },
    {
     "data": {
      "application/vnd.jupyter.widget-view+json": {
       "model_id": "7b86dbec2c64466281a39d9f235e6cbd",
       "version_major": 2,
       "version_minor": 0
      },
      "text/plain": [
       "  0%|          | 0/5 [00:00<?, ?it/s]"
      ]
     },
     "metadata": {},
     "output_type": "display_data"
    },
    {
     "data": {
      "application/vnd.jupyter.widget-view+json": {
       "model_id": "d75ed1ac76634ea9a16f0cd3aa120021",
       "version_major": 2,
       "version_minor": 0
      },
      "text/plain": [
       "  0%|          | 0/5 [00:00<?, ?it/s]"
      ]
     },
     "metadata": {},
     "output_type": "display_data"
    },
    {
     "data": {
      "application/vnd.jupyter.widget-view+json": {
       "model_id": "7f850e4559b64cb88cfb315e4ebc5de5",
       "version_major": 2,
       "version_minor": 0
      },
      "text/plain": [
       "  0%|          | 0/5 [00:00<?, ?it/s]"
      ]
     },
     "metadata": {},
     "output_type": "display_data"
    },
    {
     "data": {
      "application/vnd.jupyter.widget-view+json": {
       "model_id": "b200b90e3b2f40738dd92c412aed0259",
       "version_major": 2,
       "version_minor": 0
      },
      "text/plain": [
       "  0%|          | 0/3 [00:00<?, ?it/s]"
      ]
     },
     "metadata": {},
     "output_type": "display_data"
    },
    {
     "data": {
      "application/vnd.jupyter.widget-view+json": {
       "model_id": "ee6e1832a545472c8dd80f71f73a1741",
       "version_major": 2,
       "version_minor": 0
      },
      "text/plain": [
       "  0%|          | 0/5 [00:00<?, ?it/s]"
      ]
     },
     "metadata": {},
     "output_type": "display_data"
    },
    {
     "data": {
      "application/vnd.jupyter.widget-view+json": {
       "model_id": "62394ea6bc0c4ad7af86dcf695e97f69",
       "version_major": 2,
       "version_minor": 0
      },
      "text/plain": [
       "  0%|          | 0/5 [00:00<?, ?it/s]"
      ]
     },
     "metadata": {},
     "output_type": "display_data"
    },
    {
     "data": {
      "application/vnd.jupyter.widget-view+json": {
       "model_id": "e2d62c2233e941fcaa4e20c2472e8049",
       "version_major": 2,
       "version_minor": 0
      },
      "text/plain": [
       "  0%|          | 0/5 [00:00<?, ?it/s]"
      ]
     },
     "metadata": {},
     "output_type": "display_data"
    },
    {
     "name": "stdout",
     "output_type": "stream",
     "text": [
      "[INFO] Concatenating the embeddings to the dataframe...\n",
      "[INFO] - columns beginning with 'e' denote the full embddings.\n",
      "[INFO] Adding time feature columns into dataframe in `.df`.\n",
      "[INFO] Adding 'time_encoding' and feature...\n",
      "[INFO] Adding 'time_diff' and feature...\n",
      "[INFO] Adding 'timeline_index' feature...\n",
      "[INFO] Padding ids and storing in `.df_padded` and `.array_padded` attributes.\n"
     ]
    },
    {
     "data": {
      "application/vnd.jupyter.widget-view+json": {
       "model_id": "adfb80fec79f4e4abf9def4e11ea5e08",
       "version_major": 2,
       "version_minor": 0
      },
      "text/plain": [
       "  0%|          | 0/13551 [00:00<?, ?it/s]"
      ]
     },
     "metadata": {},
     "output_type": "display_data"
    },
    {
     "data": {
      "application/vnd.jupyter.widget-view+json": {
       "model_id": "9adc016c4d164881950f5c2514c69554",
       "version_major": 2,
       "version_minor": 0
      },
      "text/plain": [
       "  0%|          | 0/3 [00:00<?, ?it/s]"
      ]
     },
     "metadata": {},
     "output_type": "display_data"
    },
    {
     "data": {
      "application/vnd.jupyter.widget-view+json": {
       "model_id": "36ab184c9b0243e489af3ed905958cc6",
       "version_major": 2,
       "version_minor": 0
      },
      "text/plain": [
       "  0%|          | 0/3 [00:00<?, ?it/s]"
      ]
     },
     "metadata": {},
     "output_type": "display_data"
    },
    {
     "data": {
      "application/vnd.jupyter.widget-view+json": {
       "model_id": "68493a40d6264c1cbaa7391739936c2f",
       "version_major": 2,
       "version_minor": 0
      },
      "text/plain": [
       "  0%|          | 0/5 [00:00<?, ?it/s]"
      ]
     },
     "metadata": {},
     "output_type": "display_data"
    },
    {
     "data": {
      "application/vnd.jupyter.widget-view+json": {
       "model_id": "7263f9488f894bae86526f94737b23a1",
       "version_major": 2,
       "version_minor": 0
      },
      "text/plain": [
       "  0%|          | 0/5 [00:00<?, ?it/s]"
      ]
     },
     "metadata": {},
     "output_type": "display_data"
    },
    {
     "data": {
      "application/vnd.jupyter.widget-view+json": {
       "model_id": "97e65b7d240d4c169a72f168ec5cb351",
       "version_major": 2,
       "version_minor": 0
      },
      "text/plain": [
       "  0%|          | 0/5 [00:00<?, ?it/s]"
      ]
     },
     "metadata": {},
     "output_type": "display_data"
    },
    {
     "data": {
      "application/vnd.jupyter.widget-view+json": {
       "model_id": "42cae6782b6d4c41b400a4734f289260",
       "version_major": 2,
       "version_minor": 0
      },
      "text/plain": [
       "  0%|          | 0/3 [00:00<?, ?it/s]"
      ]
     },
     "metadata": {},
     "output_type": "display_data"
    },
    {
     "data": {
      "application/vnd.jupyter.widget-view+json": {
       "model_id": "eca0cee7fdf143ecb43ecd4eb228b46b",
       "version_major": 2,
       "version_minor": 0
      },
      "text/plain": [
       "  0%|          | 0/5 [00:00<?, ?it/s]"
      ]
     },
     "metadata": {},
     "output_type": "display_data"
    },
    {
     "data": {
      "application/vnd.jupyter.widget-view+json": {
       "model_id": "11c18f52d1504a16b134206e7cef41b6",
       "version_major": 2,
       "version_minor": 0
      },
      "text/plain": [
       "  0%|          | 0/5 [00:00<?, ?it/s]"
      ]
     },
     "metadata": {},
     "output_type": "display_data"
    },
    {
     "data": {
      "application/vnd.jupyter.widget-view+json": {
       "model_id": "9fd74f583eac42d09f5ba95cbf955fae",
       "version_major": 2,
       "version_minor": 0
      },
      "text/plain": [
       "  0%|          | 0/5 [00:00<?, ?it/s]"
      ]
     },
     "metadata": {},
     "output_type": "display_data"
    },
    {
     "data": {
      "application/vnd.jupyter.widget-view+json": {
       "model_id": "5ad16068acf8439497aee438ff598ae1",
       "version_major": 2,
       "version_minor": 0
      },
      "text/plain": [
       "  0%|          | 0/3 [00:00<?, ?it/s]"
      ]
     },
     "metadata": {},
     "output_type": "display_data"
    },
    {
     "data": {
      "application/vnd.jupyter.widget-view+json": {
       "model_id": "4ebbfbbc2bb04b2380664cf27f111e90",
       "version_major": 2,
       "version_minor": 0
      },
      "text/plain": [
       "  0%|          | 0/5 [00:00<?, ?it/s]"
      ]
     },
     "metadata": {},
     "output_type": "display_data"
    },
    {
     "data": {
      "application/vnd.jupyter.widget-view+json": {
       "model_id": "2dfe82a5a33f4be0ab496aff118acddb",
       "version_major": 2,
       "version_minor": 0
      },
      "text/plain": [
       "  0%|          | 0/5 [00:00<?, ?it/s]"
      ]
     },
     "metadata": {},
     "output_type": "display_data"
    },
    {
     "data": {
      "application/vnd.jupyter.widget-view+json": {
       "model_id": "d37956762a9c426c830574ade2f7e3dc",
       "version_major": 2,
       "version_minor": 0
      },
      "text/plain": [
       "  0%|          | 0/5 [00:00<?, ?it/s]"
      ]
     },
     "metadata": {},
     "output_type": "display_data"
    },
    {
     "name": "stdout",
     "output_type": "stream",
     "text": [
      "[INFO] Concatenating the embeddings to the dataframe...\n",
      "[INFO] - columns beginning with 'e' denote the full embddings.\n",
      "[INFO] Adding time feature columns into dataframe in `.df`.\n",
      "[INFO] Adding 'time_encoding' and feature...\n",
      "[INFO] Adding 'time_diff' and feature...\n",
      "[INFO] Adding 'timeline_index' feature...\n",
      "[INFO] Padding ids and storing in `.df_padded` and `.array_padded` attributes.\n"
     ]
    },
    {
     "data": {
      "application/vnd.jupyter.widget-view+json": {
       "model_id": "ce92125130fe479e8408aa881f33563e",
       "version_major": 2,
       "version_minor": 0
      },
      "text/plain": [
       "  0%|          | 0/13551 [00:00<?, ?it/s]"
      ]
     },
     "metadata": {},
     "output_type": "display_data"
    },
    {
     "data": {
      "application/vnd.jupyter.widget-view+json": {
       "model_id": "9caabad4ba884ae78aa6661bb4ad6b7d",
       "version_major": 2,
       "version_minor": 0
      },
      "text/plain": [
       "  0%|          | 0/3 [00:00<?, ?it/s]"
      ]
     },
     "metadata": {},
     "output_type": "display_data"
    },
    {
     "data": {
      "application/vnd.jupyter.widget-view+json": {
       "model_id": "fefe7ae77bb549449c372373b5a35ad8",
       "version_major": 2,
       "version_minor": 0
      },
      "text/plain": [
       "  0%|          | 0/3 [00:00<?, ?it/s]"
      ]
     },
     "metadata": {},
     "output_type": "display_data"
    },
    {
     "data": {
      "application/vnd.jupyter.widget-view+json": {
       "model_id": "708a702469624f78af795eab637dd378",
       "version_major": 2,
       "version_minor": 0
      },
      "text/plain": [
       "  0%|          | 0/5 [00:00<?, ?it/s]"
      ]
     },
     "metadata": {},
     "output_type": "display_data"
    },
    {
     "data": {
      "application/vnd.jupyter.widget-view+json": {
       "model_id": "019cf8e3a1fc458e95cf515b4eda1af7",
       "version_major": 2,
       "version_minor": 0
      },
      "text/plain": [
       "  0%|          | 0/5 [00:00<?, ?it/s]"
      ]
     },
     "metadata": {},
     "output_type": "display_data"
    },
    {
     "data": {
      "application/vnd.jupyter.widget-view+json": {
       "model_id": "09872f0ba8544e3f9314048b7defc67f",
       "version_major": 2,
       "version_minor": 0
      },
      "text/plain": [
       "  0%|          | 0/5 [00:00<?, ?it/s]"
      ]
     },
     "metadata": {},
     "output_type": "display_data"
    },
    {
     "data": {
      "application/vnd.jupyter.widget-view+json": {
       "model_id": "e19b486573b340f5b4a7b817749ec9e5",
       "version_major": 2,
       "version_minor": 0
      },
      "text/plain": [
       "  0%|          | 0/3 [00:00<?, ?it/s]"
      ]
     },
     "metadata": {},
     "output_type": "display_data"
    },
    {
     "data": {
      "application/vnd.jupyter.widget-view+json": {
       "model_id": "03e61f9d4b0c40b6bf0d77963436216a",
       "version_major": 2,
       "version_minor": 0
      },
      "text/plain": [
       "  0%|          | 0/5 [00:00<?, ?it/s]"
      ]
     },
     "metadata": {},
     "output_type": "display_data"
    },
    {
     "data": {
      "application/vnd.jupyter.widget-view+json": {
       "model_id": "83b50278ddb948848f8aaec4ff68ab7e",
       "version_major": 2,
       "version_minor": 0
      },
      "text/plain": [
       "  0%|          | 0/5 [00:00<?, ?it/s]"
      ]
     },
     "metadata": {},
     "output_type": "display_data"
    },
    {
     "data": {
      "application/vnd.jupyter.widget-view+json": {
       "model_id": "98b4ff8860264d1b8b346e10700f1a64",
       "version_major": 2,
       "version_minor": 0
      },
      "text/plain": [
       "  0%|          | 0/5 [00:00<?, ?it/s]"
      ]
     },
     "metadata": {},
     "output_type": "display_data"
    },
    {
     "data": {
      "application/vnd.jupyter.widget-view+json": {
       "model_id": "79092dbd4fc647bbaae1d02b9a33c62d",
       "version_major": 2,
       "version_minor": 0
      },
      "text/plain": [
       "  0%|          | 0/3 [00:00<?, ?it/s]"
      ]
     },
     "metadata": {},
     "output_type": "display_data"
    },
    {
     "data": {
      "application/vnd.jupyter.widget-view+json": {
       "model_id": "b65ceef6b0b8487da027733c4bbd1ea6",
       "version_major": 2,
       "version_minor": 0
      },
      "text/plain": [
       "  0%|          | 0/5 [00:00<?, ?it/s]"
      ]
     },
     "metadata": {},
     "output_type": "display_data"
    },
    {
     "data": {
      "application/vnd.jupyter.widget-view+json": {
       "model_id": "b5dd2904147b40889b5a87cecc8d88a7",
       "version_major": 2,
       "version_minor": 0
      },
      "text/plain": [
       "  0%|          | 0/5 [00:00<?, ?it/s]"
      ]
     },
     "metadata": {},
     "output_type": "display_data"
    },
    {
     "data": {
      "application/vnd.jupyter.widget-view+json": {
       "model_id": "2063552c9e52445990097e7fbb0a636c",
       "version_major": 2,
       "version_minor": 0
      },
      "text/plain": [
       "  0%|          | 0/5 [00:00<?, ?it/s]"
      ]
     },
     "metadata": {},
     "output_type": "display_data"
    },
    {
     "name": "stdout",
     "output_type": "stream",
     "text": [
      "[INFO] Concatenating the embeddings to the dataframe...\n",
      "[INFO] - columns beginning with 'e' denote the full embddings.\n",
      "[INFO] Adding time feature columns into dataframe in `.df`.\n",
      "[INFO] Adding 'time_encoding' and feature...\n",
      "[INFO] Adding 'time_diff' and feature...\n",
      "[INFO] Adding 'timeline_index' feature...\n",
      "[INFO] Padding ids and storing in `.df_padded` and `.array_padded` attributes.\n"
     ]
    },
    {
     "data": {
      "application/vnd.jupyter.widget-view+json": {
       "model_id": "13f98d347f6341539fd3153d1703086d",
       "version_major": 2,
       "version_minor": 0
      },
      "text/plain": [
       "  0%|          | 0/13551 [00:00<?, ?it/s]"
      ]
     },
     "metadata": {},
     "output_type": "display_data"
    },
    {
     "data": {
      "application/vnd.jupyter.widget-view+json": {
       "model_id": "9b19cae407de49648634fb0630a9d85e",
       "version_major": 2,
       "version_minor": 0
      },
      "text/plain": [
       "  0%|          | 0/3 [00:00<?, ?it/s]"
      ]
     },
     "metadata": {},
     "output_type": "display_data"
    },
    {
     "data": {
      "application/vnd.jupyter.widget-view+json": {
       "model_id": "b1a9e2b14a744b298e9aeff5758846ef",
       "version_major": 2,
       "version_minor": 0
      },
      "text/plain": [
       "  0%|          | 0/3 [00:00<?, ?it/s]"
      ]
     },
     "metadata": {},
     "output_type": "display_data"
    },
    {
     "data": {
      "application/vnd.jupyter.widget-view+json": {
       "model_id": "32c156520a9341d4bb08f6491dabd4f7",
       "version_major": 2,
       "version_minor": 0
      },
      "text/plain": [
       "  0%|          | 0/5 [00:00<?, ?it/s]"
      ]
     },
     "metadata": {},
     "output_type": "display_data"
    },
    {
     "data": {
      "application/vnd.jupyter.widget-view+json": {
       "model_id": "763840f5f327486198054fe7542ad51e",
       "version_major": 2,
       "version_minor": 0
      },
      "text/plain": [
       "  0%|          | 0/5 [00:00<?, ?it/s]"
      ]
     },
     "metadata": {},
     "output_type": "display_data"
    },
    {
     "data": {
      "application/vnd.jupyter.widget-view+json": {
       "model_id": "c1294fb3de154aab89eb16c490ac953d",
       "version_major": 2,
       "version_minor": 0
      },
      "text/plain": [
       "  0%|          | 0/5 [00:00<?, ?it/s]"
      ]
     },
     "metadata": {},
     "output_type": "display_data"
    },
    {
     "data": {
      "application/vnd.jupyter.widget-view+json": {
       "model_id": "ad1bcfe6f6b9400dae380cdca9027826",
       "version_major": 2,
       "version_minor": 0
      },
      "text/plain": [
       "  0%|          | 0/3 [00:00<?, ?it/s]"
      ]
     },
     "metadata": {},
     "output_type": "display_data"
    },
    {
     "data": {
      "application/vnd.jupyter.widget-view+json": {
       "model_id": "223efccd473e4610a896917ca8b6ae8f",
       "version_major": 2,
       "version_minor": 0
      },
      "text/plain": [
       "  0%|          | 0/5 [00:00<?, ?it/s]"
      ]
     },
     "metadata": {},
     "output_type": "display_data"
    },
    {
     "data": {
      "application/vnd.jupyter.widget-view+json": {
       "model_id": "4f941667110544f486661b7f1427bead",
       "version_major": 2,
       "version_minor": 0
      },
      "text/plain": [
       "  0%|          | 0/5 [00:00<?, ?it/s]"
      ]
     },
     "metadata": {},
     "output_type": "display_data"
    },
    {
     "data": {
      "application/vnd.jupyter.widget-view+json": {
       "model_id": "4d191cdb720f4bb7a7d4b987652b9267",
       "version_major": 2,
       "version_minor": 0
      },
      "text/plain": [
       "  0%|          | 0/5 [00:00<?, ?it/s]"
      ]
     },
     "metadata": {},
     "output_type": "display_data"
    },
    {
     "data": {
      "application/vnd.jupyter.widget-view+json": {
       "model_id": "d8cd7d0b9de84bb3af5ef6e08beb0661",
       "version_major": 2,
       "version_minor": 0
      },
      "text/plain": [
       "  0%|          | 0/3 [00:00<?, ?it/s]"
      ]
     },
     "metadata": {},
     "output_type": "display_data"
    },
    {
     "data": {
      "application/vnd.jupyter.widget-view+json": {
       "model_id": "37c122d6ef5d4b308775207ad3ede193",
       "version_major": 2,
       "version_minor": 0
      },
      "text/plain": [
       "  0%|          | 0/5 [00:00<?, ?it/s]"
      ]
     },
     "metadata": {},
     "output_type": "display_data"
    },
    {
     "data": {
      "application/vnd.jupyter.widget-view+json": {
       "model_id": "827d7c1b3bd4461bb87ff10df3004e05",
       "version_major": 2,
       "version_minor": 0
      },
      "text/plain": [
       "  0%|          | 0/5 [00:00<?, ?it/s]"
      ]
     },
     "metadata": {},
     "output_type": "display_data"
    },
    {
     "data": {
      "application/vnd.jupyter.widget-view+json": {
       "model_id": "890c89411f474fff813d6afff941a37c",
       "version_major": 2,
       "version_minor": 0
      },
      "text/plain": [
       "  0%|          | 0/5 [00:00<?, ?it/s]"
      ]
     },
     "metadata": {},
     "output_type": "display_data"
    },
    {
     "name": "stdout",
     "output_type": "stream",
     "text": [
      "[INFO] Concatenating the embeddings to the dataframe...\n",
      "[INFO] - columns beginning with 'e' denote the full embddings.\n",
      "[INFO] Adding time feature columns into dataframe in `.df`.\n",
      "[INFO] Adding 'time_encoding' and feature...\n",
      "[INFO] Adding 'time_diff' and feature...\n",
      "[INFO] Adding 'timeline_index' feature...\n",
      "[INFO] Padding ids and storing in `.df_padded` and `.array_padded` attributes.\n"
     ]
    },
    {
     "data": {
      "application/vnd.jupyter.widget-view+json": {
       "model_id": "6fcf6c67ad6d497faf9dfc183cb3d801",
       "version_major": 2,
       "version_minor": 0
      },
      "text/plain": [
       "  0%|          | 0/13551 [00:00<?, ?it/s]"
      ]
     },
     "metadata": {},
     "output_type": "display_data"
    },
    {
     "name": "stdout",
     "output_type": "stream",
     "text": [
      "saving results dataframe to CSV for this hyperparameter search in client_talk_type/ffn_mean_history_focal_2_kfold.csv\n",
      "saving the best model results dataframe to CSV for this hyperparameter search in client_talk_type/ffn_mean_history_focal_2_kfold_best_model.csv\n"
     ]
    }
   ],
   "source": [
    "ffn_mean_history_kfold, best_ffn_mean_history_kfold, _, __ = histories_baseline_hyperparameter_search(\n",
    "    num_epochs=num_epochs,\n",
    "    df=anno_mi,\n",
    "    id_column=\"transcript_id\",\n",
    "    label_column=\"client_talk_type\",\n",
    "    embeddings=sbert_embeddings,\n",
    "    y_data=y_data,\n",
    "    output_dim=output_dim,\n",
    "    window_sizes=window_sizes,\n",
    "    hidden_dim_sizes=hidden_dim_sizes,\n",
    "    dropout_rates=dropout_rates,\n",
    "    learning_rates=learning_rates,\n",
    "    use_signatures=False,\n",
    "    seeds=seeds,\n",
    "    loss=loss,\n",
    "    gamma=gamma,\n",
    "    path_indices=client_index,\n",
    "    k_fold=True,\n",
    "    validation_metric=validation_metric,\n",
    "    results_output=f\"{output_dir}/ffn_mean_history_focal_{gamma}_kfold.csv\",\n",
    "    verbose=False\n",
    ")"
   ]
  },
  {
   "cell_type": "code",
   "execution_count": 33,
   "id": "191556f6",
   "metadata": {},
   "outputs": [
    {
     "data": {
      "text/html": [
       "<div>\n",
       "<style scoped>\n",
       "    .dataframe tbody tr th:only-of-type {\n",
       "        vertical-align: middle;\n",
       "    }\n",
       "\n",
       "    .dataframe tbody tr th {\n",
       "        vertical-align: top;\n",
       "    }\n",
       "\n",
       "    .dataframe thead th {\n",
       "        text-align: right;\n",
       "    }\n",
       "</style>\n",
       "<table border=\"1\" class=\"dataframe\">\n",
       "  <thead>\n",
       "    <tr style=\"text-align: right;\">\n",
       "      <th></th>\n",
       "      <th>loss</th>\n",
       "      <th>accuracy</th>\n",
       "      <th>f1</th>\n",
       "      <th>f1_scores</th>\n",
       "      <th>valid_loss</th>\n",
       "      <th>valid_accuracy</th>\n",
       "      <th>valid_f1</th>\n",
       "      <th>valid_f1_scores</th>\n",
       "      <th>hidden_dim</th>\n",
       "      <th>dropout_rate</th>\n",
       "      <th>learning_rate</th>\n",
       "      <th>seed</th>\n",
       "      <th>gamma</th>\n",
       "      <th>k_fold</th>\n",
       "      <th>model_id</th>\n",
       "      <th>k</th>\n",
       "      <th>input_dim</th>\n",
       "    </tr>\n",
       "  </thead>\n",
       "  <tbody>\n",
       "    <tr>\n",
       "      <th>0</th>\n",
       "      <td>focal</td>\n",
       "      <td>0.672862</td>\n",
       "      <td>0.601383</td>\n",
       "      <td>[0.7743119266055046, 0.5278276481149013, 0.502...</td>\n",
       "      <td>0.536458</td>\n",
       "      <td>0.664977</td>\n",
       "      <td>0.581384</td>\n",
       "      <td>[0.772706732941708, 0.4993141289437586, 0.4721...</td>\n",
       "      <td>[100]</td>\n",
       "      <td>0.5</td>\n",
       "      <td>0.00500</td>\n",
       "      <td>0</td>\n",
       "      <td>2</td>\n",
       "      <td>True</td>\n",
       "      <td>0.00</td>\n",
       "      <td>5</td>\n",
       "      <td>766</td>\n",
       "    </tr>\n",
       "    <tr>\n",
       "      <th>1</th>\n",
       "      <td>focal</td>\n",
       "      <td>0.689219</td>\n",
       "      <td>0.590228</td>\n",
       "      <td>[0.7997678467788741, 0.5151515151515151, 0.455...</td>\n",
       "      <td>0.528168</td>\n",
       "      <td>0.699887</td>\n",
       "      <td>0.612343</td>\n",
       "      <td>[0.7982456140350876, 0.5367088607594938, 0.502...</td>\n",
       "      <td>[100]</td>\n",
       "      <td>0.5</td>\n",
       "      <td>0.00500</td>\n",
       "      <td>0</td>\n",
       "      <td>2</td>\n",
       "      <td>True</td>\n",
       "      <td>0.00</td>\n",
       "      <td>5</td>\n",
       "      <td>766</td>\n",
       "    </tr>\n",
       "    <tr>\n",
       "      <th>2</th>\n",
       "      <td>focal</td>\n",
       "      <td>0.687732</td>\n",
       "      <td>0.565361</td>\n",
       "      <td>[0.791759465478842, 0.5346869712351945, 0.3696...</td>\n",
       "      <td>0.533283</td>\n",
       "      <td>0.695946</td>\n",
       "      <td>0.592782</td>\n",
       "      <td>[0.7955706984667802, 0.5286458333333333, 0.454...</td>\n",
       "      <td>[100]</td>\n",
       "      <td>0.5</td>\n",
       "      <td>0.00500</td>\n",
       "      <td>0</td>\n",
       "      <td>2</td>\n",
       "      <td>True</td>\n",
       "      <td>0.00</td>\n",
       "      <td>5</td>\n",
       "      <td>766</td>\n",
       "    </tr>\n",
       "    <tr>\n",
       "      <th>3</th>\n",
       "      <td>focal</td>\n",
       "      <td>0.687732</td>\n",
       "      <td>0.585681</td>\n",
       "      <td>[0.7934537246049661, 0.4970873786407767, 0.466...</td>\n",
       "      <td>0.567295</td>\n",
       "      <td>0.701577</td>\n",
       "      <td>0.594639</td>\n",
       "      <td>[0.8050739957716702, 0.5205091937765206, 0.458...</td>\n",
       "      <td>[100]</td>\n",
       "      <td>0.5</td>\n",
       "      <td>0.00500</td>\n",
       "      <td>0</td>\n",
       "      <td>2</td>\n",
       "      <td>True</td>\n",
       "      <td>0.00</td>\n",
       "      <td>5</td>\n",
       "      <td>766</td>\n",
       "    </tr>\n",
       "    <tr>\n",
       "      <th>4</th>\n",
       "      <td>focal</td>\n",
       "      <td>0.661710</td>\n",
       "      <td>0.585731</td>\n",
       "      <td>[0.7608173076923077, 0.5103011093502379, 0.486...</td>\n",
       "      <td>0.545385</td>\n",
       "      <td>0.689752</td>\n",
       "      <td>0.612503</td>\n",
       "      <td>[0.7840858292355833, 0.5374233128834355, 0.516]</td>\n",
       "      <td>[100]</td>\n",
       "      <td>0.5</td>\n",
       "      <td>0.00500</td>\n",
       "      <td>0</td>\n",
       "      <td>2</td>\n",
       "      <td>True</td>\n",
       "      <td>0.00</td>\n",
       "      <td>5</td>\n",
       "      <td>766</td>\n",
       "    </tr>\n",
       "    <tr>\n",
       "      <th>...</th>\n",
       "      <td>...</td>\n",
       "      <td>...</td>\n",
       "      <td>...</td>\n",
       "      <td>...</td>\n",
       "      <td>...</td>\n",
       "      <td>...</td>\n",
       "      <td>...</td>\n",
       "      <td>...</td>\n",
       "      <td>...</td>\n",
       "      <td>...</td>\n",
       "      <td>...</td>\n",
       "      <td>...</td>\n",
       "      <td>...</td>\n",
       "      <td>...</td>\n",
       "      <td>...</td>\n",
       "      <td>...</td>\n",
       "      <td>...</td>\n",
       "    </tr>\n",
       "    <tr>\n",
       "      <th>0</th>\n",
       "      <td>focal</td>\n",
       "      <td>0.678067</td>\n",
       "      <td>0.581589</td>\n",
       "      <td>[0.7988165680473372, 0.47694753577106525, 0.46...</td>\n",
       "      <td>0.603217</td>\n",
       "      <td>0.668919</td>\n",
       "      <td>0.557512</td>\n",
       "      <td>[0.7909854175872735, 0.48687350835322196, 0.39...</td>\n",
       "      <td>[100, 100, 100]</td>\n",
       "      <td>0.1</td>\n",
       "      <td>0.00001</td>\n",
       "      <td>1234</td>\n",
       "      <td>2</td>\n",
       "      <td>True</td>\n",
       "      <td>3.44</td>\n",
       "      <td>50</td>\n",
       "      <td>766</td>\n",
       "    </tr>\n",
       "    <tr>\n",
       "      <th>1</th>\n",
       "      <td>focal</td>\n",
       "      <td>0.673606</td>\n",
       "      <td>0.563899</td>\n",
       "      <td>[0.8027923211169284, 0.4462809917355372, 0.442...</td>\n",
       "      <td>0.598215</td>\n",
       "      <td>0.673423</td>\n",
       "      <td>0.574711</td>\n",
       "      <td>[0.7879592740150508, 0.4847058823529411, 0.451...</td>\n",
       "      <td>[100, 100, 100]</td>\n",
       "      <td>0.1</td>\n",
       "      <td>0.00001</td>\n",
       "      <td>1234</td>\n",
       "      <td>2</td>\n",
       "      <td>True</td>\n",
       "      <td>3.44</td>\n",
       "      <td>50</td>\n",
       "      <td>766</td>\n",
       "    </tr>\n",
       "    <tr>\n",
       "      <th>2</th>\n",
       "      <td>focal</td>\n",
       "      <td>0.642379</td>\n",
       "      <td>0.518177</td>\n",
       "      <td>[0.7772020725388602, 0.4147909967845659, 0.362...</td>\n",
       "      <td>0.603113</td>\n",
       "      <td>0.662162</td>\n",
       "      <td>0.542741</td>\n",
       "      <td>[0.7956427015250545, 0.42493638676844786, 0.40...</td>\n",
       "      <td>[100, 100, 100]</td>\n",
       "      <td>0.1</td>\n",
       "      <td>0.00001</td>\n",
       "      <td>1234</td>\n",
       "      <td>2</td>\n",
       "      <td>True</td>\n",
       "      <td>3.44</td>\n",
       "      <td>50</td>\n",
       "      <td>766</td>\n",
       "    </tr>\n",
       "    <tr>\n",
       "      <th>3</th>\n",
       "      <td>focal</td>\n",
       "      <td>0.640149</td>\n",
       "      <td>0.538257</td>\n",
       "      <td>[0.7726190476190476, 0.41627543035993736, 0.42...</td>\n",
       "      <td>0.621480</td>\n",
       "      <td>0.650338</td>\n",
       "      <td>0.533928</td>\n",
       "      <td>[0.7822222222222224, 0.4493597206053551, 0.370...</td>\n",
       "      <td>[100, 100, 100]</td>\n",
       "      <td>0.1</td>\n",
       "      <td>0.00001</td>\n",
       "      <td>1234</td>\n",
       "      <td>2</td>\n",
       "      <td>True</td>\n",
       "      <td>3.44</td>\n",
       "      <td>50</td>\n",
       "      <td>766</td>\n",
       "    </tr>\n",
       "    <tr>\n",
       "      <th>4</th>\n",
       "      <td>focal</td>\n",
       "      <td>0.659480</td>\n",
       "      <td>0.557107</td>\n",
       "      <td>[0.7857988165680473, 0.4554140127388535, 0.430...</td>\n",
       "      <td>0.610611</td>\n",
       "      <td>0.651464</td>\n",
       "      <td>0.545470</td>\n",
       "      <td>[0.7815684536996013, 0.41816009557945044, 0.43...</td>\n",
       "      <td>[100, 100, 100]</td>\n",
       "      <td>0.1</td>\n",
       "      <td>0.00001</td>\n",
       "      <td>1234</td>\n",
       "      <td>2</td>\n",
       "      <td>True</td>\n",
       "      <td>3.44</td>\n",
       "      <td>50</td>\n",
       "      <td>766</td>\n",
       "    </tr>\n",
       "  </tbody>\n",
       "</table>\n",
       "<p>4500 rows × 17 columns</p>\n",
       "</div>"
      ],
      "text/plain": [
       "     loss  accuracy        f1  \\\n",
       "0   focal  0.672862  0.601383   \n",
       "1   focal  0.689219  0.590228   \n",
       "2   focal  0.687732  0.565361   \n",
       "3   focal  0.687732  0.585681   \n",
       "4   focal  0.661710  0.585731   \n",
       "..    ...       ...       ...   \n",
       "0   focal  0.678067  0.581589   \n",
       "1   focal  0.673606  0.563899   \n",
       "2   focal  0.642379  0.518177   \n",
       "3   focal  0.640149  0.538257   \n",
       "4   focal  0.659480  0.557107   \n",
       "\n",
       "                                            f1_scores  valid_loss  \\\n",
       "0   [0.7743119266055046, 0.5278276481149013, 0.502...    0.536458   \n",
       "1   [0.7997678467788741, 0.5151515151515151, 0.455...    0.528168   \n",
       "2   [0.791759465478842, 0.5346869712351945, 0.3696...    0.533283   \n",
       "3   [0.7934537246049661, 0.4970873786407767, 0.466...    0.567295   \n",
       "4   [0.7608173076923077, 0.5103011093502379, 0.486...    0.545385   \n",
       "..                                                ...         ...   \n",
       "0   [0.7988165680473372, 0.47694753577106525, 0.46...    0.603217   \n",
       "1   [0.8027923211169284, 0.4462809917355372, 0.442...    0.598215   \n",
       "2   [0.7772020725388602, 0.4147909967845659, 0.362...    0.603113   \n",
       "3   [0.7726190476190476, 0.41627543035993736, 0.42...    0.621480   \n",
       "4   [0.7857988165680473, 0.4554140127388535, 0.430...    0.610611   \n",
       "\n",
       "    valid_accuracy  valid_f1  \\\n",
       "0         0.664977  0.581384   \n",
       "1         0.699887  0.612343   \n",
       "2         0.695946  0.592782   \n",
       "3         0.701577  0.594639   \n",
       "4         0.689752  0.612503   \n",
       "..             ...       ...   \n",
       "0         0.668919  0.557512   \n",
       "1         0.673423  0.574711   \n",
       "2         0.662162  0.542741   \n",
       "3         0.650338  0.533928   \n",
       "4         0.651464  0.545470   \n",
       "\n",
       "                                      valid_f1_scores       hidden_dim  \\\n",
       "0   [0.772706732941708, 0.4993141289437586, 0.4721...            [100]   \n",
       "1   [0.7982456140350876, 0.5367088607594938, 0.502...            [100]   \n",
       "2   [0.7955706984667802, 0.5286458333333333, 0.454...            [100]   \n",
       "3   [0.8050739957716702, 0.5205091937765206, 0.458...            [100]   \n",
       "4     [0.7840858292355833, 0.5374233128834355, 0.516]            [100]   \n",
       "..                                                ...              ...   \n",
       "0   [0.7909854175872735, 0.48687350835322196, 0.39...  [100, 100, 100]   \n",
       "1   [0.7879592740150508, 0.4847058823529411, 0.451...  [100, 100, 100]   \n",
       "2   [0.7956427015250545, 0.42493638676844786, 0.40...  [100, 100, 100]   \n",
       "3   [0.7822222222222224, 0.4493597206053551, 0.370...  [100, 100, 100]   \n",
       "4   [0.7815684536996013, 0.41816009557945044, 0.43...  [100, 100, 100]   \n",
       "\n",
       "    dropout_rate  learning_rate  seed  gamma  k_fold  model_id   k  input_dim  \n",
       "0            0.5        0.00500     0      2    True      0.00   5        766  \n",
       "1            0.5        0.00500     0      2    True      0.00   5        766  \n",
       "2            0.5        0.00500     0      2    True      0.00   5        766  \n",
       "3            0.5        0.00500     0      2    True      0.00   5        766  \n",
       "4            0.5        0.00500     0      2    True      0.00   5        766  \n",
       "..           ...            ...   ...    ...     ...       ...  ..        ...  \n",
       "0            0.1        0.00001  1234      2    True      3.44  50        766  \n",
       "1            0.1        0.00001  1234      2    True      3.44  50        766  \n",
       "2            0.1        0.00001  1234      2    True      3.44  50        766  \n",
       "3            0.1        0.00001  1234      2    True      3.44  50        766  \n",
       "4            0.1        0.00001  1234      2    True      3.44  50        766  \n",
       "\n",
       "[4500 rows x 17 columns]"
      ]
     },
     "execution_count": 33,
     "metadata": {},
     "output_type": "execute_result"
    }
   ],
   "source": [
    "ffn_mean_history_kfold"
   ]
  },
  {
   "cell_type": "code",
   "execution_count": 34,
   "id": "58d0fd35",
   "metadata": {},
   "outputs": [
    {
     "data": {
      "text/html": [
       "<div>\n",
       "<style scoped>\n",
       "    .dataframe tbody tr th:only-of-type {\n",
       "        vertical-align: middle;\n",
       "    }\n",
       "\n",
       "    .dataframe tbody tr th {\n",
       "        vertical-align: top;\n",
       "    }\n",
       "\n",
       "    .dataframe thead th {\n",
       "        text-align: right;\n",
       "    }\n",
       "</style>\n",
       "<table border=\"1\" class=\"dataframe\">\n",
       "  <thead>\n",
       "    <tr style=\"text-align: right;\">\n",
       "      <th></th>\n",
       "      <th>loss</th>\n",
       "      <th>accuracy</th>\n",
       "      <th>f1</th>\n",
       "      <th>f1_scores</th>\n",
       "      <th>valid_loss</th>\n",
       "      <th>valid_accuracy</th>\n",
       "      <th>valid_f1</th>\n",
       "      <th>valid_f1_scores</th>\n",
       "      <th>hidden_dim</th>\n",
       "      <th>dropout_rate</th>\n",
       "      <th>learning_rate</th>\n",
       "      <th>seed</th>\n",
       "      <th>gamma</th>\n",
       "      <th>k_fold</th>\n",
       "      <th>k</th>\n",
       "      <th>input_dim</th>\n",
       "    </tr>\n",
       "  </thead>\n",
       "  <tbody>\n",
       "    <tr>\n",
       "      <th>0</th>\n",
       "      <td>focal</td>\n",
       "      <td>0.699628</td>\n",
       "      <td>0.629848</td>\n",
       "      <td>[0.7965998785670917, 0.5466034755134281, 0.546...</td>\n",
       "      <td>0.535128</td>\n",
       "      <td>0.685811</td>\n",
       "      <td>0.601814</td>\n",
       "      <td>[0.7854578096947935, 0.543030303030303, 0.4769...</td>\n",
       "      <td>[100]</td>\n",
       "      <td>0.5</td>\n",
       "      <td>0.0001</td>\n",
       "      <td>0</td>\n",
       "      <td>2</td>\n",
       "      <td>True</td>\n",
       "      <td>20</td>\n",
       "      <td>766</td>\n",
       "    </tr>\n",
       "    <tr>\n",
       "      <th>1</th>\n",
       "      <td>focal</td>\n",
       "      <td>0.681041</td>\n",
       "      <td>0.596610</td>\n",
       "      <td>[0.7869249394673123, 0.5405405405405405, 0.462...</td>\n",
       "      <td>0.507187</td>\n",
       "      <td>0.696509</td>\n",
       "      <td>0.624477</td>\n",
       "      <td>[0.7877401646843549, 0.5691609977324262, 0.516...</td>\n",
       "      <td>[100]</td>\n",
       "      <td>0.5</td>\n",
       "      <td>0.0001</td>\n",
       "      <td>0</td>\n",
       "      <td>2</td>\n",
       "      <td>True</td>\n",
       "      <td>20</td>\n",
       "      <td>766</td>\n",
       "    </tr>\n",
       "    <tr>\n",
       "      <th>2</th>\n",
       "      <td>focal</td>\n",
       "      <td>0.689219</td>\n",
       "      <td>0.591243</td>\n",
       "      <td>[0.789838337182448, 0.5564924114671164, 0.4273...</td>\n",
       "      <td>0.534393</td>\n",
       "      <td>0.692005</td>\n",
       "      <td>0.600451</td>\n",
       "      <td>[0.7948831054256728, 0.537966537966538, 0.4685...</td>\n",
       "      <td>[100]</td>\n",
       "      <td>0.5</td>\n",
       "      <td>0.0001</td>\n",
       "      <td>0</td>\n",
       "      <td>2</td>\n",
       "      <td>True</td>\n",
       "      <td>20</td>\n",
       "      <td>766</td>\n",
       "    </tr>\n",
       "    <tr>\n",
       "      <th>3</th>\n",
       "      <td>focal</td>\n",
       "      <td>0.680297</td>\n",
       "      <td>0.601317</td>\n",
       "      <td>[0.7790487658037327, 0.5457364341085271, 0.479...</td>\n",
       "      <td>0.557449</td>\n",
       "      <td>0.685248</td>\n",
       "      <td>0.597495</td>\n",
       "      <td>[0.7831541218637994, 0.5563380281690141, 0.452...</td>\n",
       "      <td>[100]</td>\n",
       "      <td>0.5</td>\n",
       "      <td>0.0001</td>\n",
       "      <td>0</td>\n",
       "      <td>2</td>\n",
       "      <td>True</td>\n",
       "      <td>20</td>\n",
       "      <td>766</td>\n",
       "    </tr>\n",
       "    <tr>\n",
       "      <th>4</th>\n",
       "      <td>focal</td>\n",
       "      <td>0.667658</td>\n",
       "      <td>0.600250</td>\n",
       "      <td>[0.7642770352369381, 0.5081723625557206, 0.528...</td>\n",
       "      <td>0.528262</td>\n",
       "      <td>0.681869</td>\n",
       "      <td>0.606892</td>\n",
       "      <td>[0.77910174152154, 0.5415730337078652, 0.5]</td>\n",
       "      <td>[100]</td>\n",
       "      <td>0.5</td>\n",
       "      <td>0.0001</td>\n",
       "      <td>0</td>\n",
       "      <td>2</td>\n",
       "      <td>True</td>\n",
       "      <td>20</td>\n",
       "      <td>766</td>\n",
       "    </tr>\n",
       "    <tr>\n",
       "      <th>0</th>\n",
       "      <td>focal</td>\n",
       "      <td>0.689219</td>\n",
       "      <td>0.615304</td>\n",
       "      <td>[0.7893462469733656, 0.5358851674641149, 0.520...</td>\n",
       "      <td>0.531559</td>\n",
       "      <td>0.680743</td>\n",
       "      <td>0.594290</td>\n",
       "      <td>[0.7827260458839406, 0.5410628019323671, 0.459...</td>\n",
       "      <td>[100]</td>\n",
       "      <td>0.5</td>\n",
       "      <td>0.0001</td>\n",
       "      <td>1</td>\n",
       "      <td>2</td>\n",
       "      <td>True</td>\n",
       "      <td>20</td>\n",
       "      <td>766</td>\n",
       "    </tr>\n",
       "    <tr>\n",
       "      <th>1</th>\n",
       "      <td>focal</td>\n",
       "      <td>0.680297</td>\n",
       "      <td>0.597075</td>\n",
       "      <td>[0.7845503922751961, 0.5407066052227342, 0.465...</td>\n",
       "      <td>0.509566</td>\n",
       "      <td>0.685811</td>\n",
       "      <td>0.613716</td>\n",
       "      <td>[0.7775239835541344, 0.5565819861431871, 0.507...</td>\n",
       "      <td>[100]</td>\n",
       "      <td>0.5</td>\n",
       "      <td>0.0001</td>\n",
       "      <td>1</td>\n",
       "      <td>2</td>\n",
       "      <td>True</td>\n",
       "      <td>20</td>\n",
       "      <td>766</td>\n",
       "    </tr>\n",
       "    <tr>\n",
       "      <th>2</th>\n",
       "      <td>focal</td>\n",
       "      <td>0.675836</td>\n",
       "      <td>0.578892</td>\n",
       "      <td>[0.7780373831775701, 0.5499181669394436, 0.408...</td>\n",
       "      <td>0.530567</td>\n",
       "      <td>0.685811</td>\n",
       "      <td>0.598425</td>\n",
       "      <td>[0.7876344086021505, 0.5445665445665446, 0.463...</td>\n",
       "      <td>[100]</td>\n",
       "      <td>0.5</td>\n",
       "      <td>0.0001</td>\n",
       "      <td>1</td>\n",
       "      <td>2</td>\n",
       "      <td>True</td>\n",
       "      <td>20</td>\n",
       "      <td>766</td>\n",
       "    </tr>\n",
       "    <tr>\n",
       "      <th>3</th>\n",
       "      <td>focal</td>\n",
       "      <td>0.684758</td>\n",
       "      <td>0.604041</td>\n",
       "      <td>[0.7838651414810355, 0.5588697017268446, 0.469...</td>\n",
       "      <td>0.553035</td>\n",
       "      <td>0.681306</td>\n",
       "      <td>0.594199</td>\n",
       "      <td>[0.7785778577857785, 0.5623529411764706, 0.441...</td>\n",
       "      <td>[100]</td>\n",
       "      <td>0.5</td>\n",
       "      <td>0.0001</td>\n",
       "      <td>1</td>\n",
       "      <td>2</td>\n",
       "      <td>True</td>\n",
       "      <td>20</td>\n",
       "      <td>766</td>\n",
       "    </tr>\n",
       "    <tr>\n",
       "      <th>4</th>\n",
       "      <td>focal</td>\n",
       "      <td>0.667658</td>\n",
       "      <td>0.601386</td>\n",
       "      <td>[0.7639060568603213, 0.5289747399702823, 0.511...</td>\n",
       "      <td>0.529611</td>\n",
       "      <td>0.674550</td>\n",
       "      <td>0.603511</td>\n",
       "      <td>[0.7723880597014926, 0.5430167597765363, 0.495...</td>\n",
       "      <td>[100]</td>\n",
       "      <td>0.5</td>\n",
       "      <td>0.0001</td>\n",
       "      <td>1</td>\n",
       "      <td>2</td>\n",
       "      <td>True</td>\n",
       "      <td>20</td>\n",
       "      <td>766</td>\n",
       "    </tr>\n",
       "    <tr>\n",
       "      <th>0</th>\n",
       "      <td>focal</td>\n",
       "      <td>0.692193</td>\n",
       "      <td>0.623333</td>\n",
       "      <td>[0.7906691221608348, 0.5463108320251177, 0.533...</td>\n",
       "      <td>0.539443</td>\n",
       "      <td>0.677365</td>\n",
       "      <td>0.596191</td>\n",
       "      <td>[0.7767166894042746, 0.5454545454545455, 0.466...</td>\n",
       "      <td>[100]</td>\n",
       "      <td>0.5</td>\n",
       "      <td>0.0001</td>\n",
       "      <td>12</td>\n",
       "      <td>2</td>\n",
       "      <td>True</td>\n",
       "      <td>20</td>\n",
       "      <td>766</td>\n",
       "    </tr>\n",
       "    <tr>\n",
       "      <th>1</th>\n",
       "      <td>focal</td>\n",
       "      <td>0.681041</td>\n",
       "      <td>0.591809</td>\n",
       "      <td>[0.7891891891891891, 0.541213063763608, 0.4450...</td>\n",
       "      <td>0.513420</td>\n",
       "      <td>0.690878</td>\n",
       "      <td>0.614730</td>\n",
       "      <td>[0.7868852459016394, 0.5532407407407407, 0.504...</td>\n",
       "      <td>[100]</td>\n",
       "      <td>0.5</td>\n",
       "      <td>0.0001</td>\n",
       "      <td>12</td>\n",
       "      <td>2</td>\n",
       "      <td>True</td>\n",
       "      <td>20</td>\n",
       "      <td>766</td>\n",
       "    </tr>\n",
       "    <tr>\n",
       "      <th>2</th>\n",
       "      <td>focal</td>\n",
       "      <td>0.689219</td>\n",
       "      <td>0.589982</td>\n",
       "      <td>[0.7906976744186046, 0.5635179153094464, 0.415...</td>\n",
       "      <td>0.536695</td>\n",
       "      <td>0.688063</td>\n",
       "      <td>0.598472</td>\n",
       "      <td>[0.7893569844789357, 0.5404732254047322, 0.465...</td>\n",
       "      <td>[100]</td>\n",
       "      <td>0.5</td>\n",
       "      <td>0.0001</td>\n",
       "      <td>12</td>\n",
       "      <td>2</td>\n",
       "      <td>True</td>\n",
       "      <td>20</td>\n",
       "      <td>766</td>\n",
       "    </tr>\n",
       "    <tr>\n",
       "      <th>3</th>\n",
       "      <td>focal</td>\n",
       "      <td>0.686245</td>\n",
       "      <td>0.607651</td>\n",
       "      <td>[0.7825044937088076, 0.558213716108453, 0.4822...</td>\n",
       "      <td>0.556622</td>\n",
       "      <td>0.683559</td>\n",
       "      <td>0.595503</td>\n",
       "      <td>[0.7824529991047449, 0.5569007263922517, 0.447...</td>\n",
       "      <td>[100]</td>\n",
       "      <td>0.5</td>\n",
       "      <td>0.0001</td>\n",
       "      <td>12</td>\n",
       "      <td>2</td>\n",
       "      <td>True</td>\n",
       "      <td>20</td>\n",
       "      <td>766</td>\n",
       "    </tr>\n",
       "    <tr>\n",
       "      <th>4</th>\n",
       "      <td>focal</td>\n",
       "      <td>0.663941</td>\n",
       "      <td>0.598446</td>\n",
       "      <td>[0.7590881084411583, 0.5222551928783382, 0.513...</td>\n",
       "      <td>0.530625</td>\n",
       "      <td>0.677928</td>\n",
       "      <td>0.604811</td>\n",
       "      <td>[0.7754158964879853, 0.5429864253393665, 0.496...</td>\n",
       "      <td>[100]</td>\n",
       "      <td>0.5</td>\n",
       "      <td>0.0001</td>\n",
       "      <td>12</td>\n",
       "      <td>2</td>\n",
       "      <td>True</td>\n",
       "      <td>20</td>\n",
       "      <td>766</td>\n",
       "    </tr>\n",
       "    <tr>\n",
       "      <th>0</th>\n",
       "      <td>focal</td>\n",
       "      <td>0.695167</td>\n",
       "      <td>0.626583</td>\n",
       "      <td>[0.7919463087248322, 0.5457463884430177, 0.542...</td>\n",
       "      <td>0.535143</td>\n",
       "      <td>0.681306</td>\n",
       "      <td>0.594024</td>\n",
       "      <td>[0.7854578096947935, 0.5326757090012331, 0.463...</td>\n",
       "      <td>[100]</td>\n",
       "      <td>0.5</td>\n",
       "      <td>0.0001</td>\n",
       "      <td>123</td>\n",
       "      <td>2</td>\n",
       "      <td>True</td>\n",
       "      <td>20</td>\n",
       "      <td>766</td>\n",
       "    </tr>\n",
       "    <tr>\n",
       "      <th>1</th>\n",
       "      <td>focal</td>\n",
       "      <td>0.684015</td>\n",
       "      <td>0.597483</td>\n",
       "      <td>[0.7903903903903905, 0.5392912172573191, 0.462...</td>\n",
       "      <td>0.506780</td>\n",
       "      <td>0.697635</td>\n",
       "      <td>0.623647</td>\n",
       "      <td>[0.7898320472083522, 0.5635103926096998, 0.517...</td>\n",
       "      <td>[100]</td>\n",
       "      <td>0.5</td>\n",
       "      <td>0.0001</td>\n",
       "      <td>123</td>\n",
       "      <td>2</td>\n",
       "      <td>True</td>\n",
       "      <td>20</td>\n",
       "      <td>766</td>\n",
       "    </tr>\n",
       "    <tr>\n",
       "      <th>2</th>\n",
       "      <td>focal</td>\n",
       "      <td>0.696654</td>\n",
       "      <td>0.601403</td>\n",
       "      <td>[0.794901506373117, 0.5709515859766277, 0.4383...</td>\n",
       "      <td>0.533215</td>\n",
       "      <td>0.695946</td>\n",
       "      <td>0.603888</td>\n",
       "      <td>[0.7985865724381626, 0.5494223363286265, 0.463...</td>\n",
       "      <td>[100]</td>\n",
       "      <td>0.5</td>\n",
       "      <td>0.0001</td>\n",
       "      <td>123</td>\n",
       "      <td>2</td>\n",
       "      <td>True</td>\n",
       "      <td>20</td>\n",
       "      <td>766</td>\n",
       "    </tr>\n",
       "    <tr>\n",
       "      <th>3</th>\n",
       "      <td>focal</td>\n",
       "      <td>0.683271</td>\n",
       "      <td>0.602752</td>\n",
       "      <td>[0.7829224293445579, 0.5520504731861199, 0.473...</td>\n",
       "      <td>0.551709</td>\n",
       "      <td>0.688063</td>\n",
       "      <td>0.599302</td>\n",
       "      <td>[0.7870619946091646, 0.5650118203309693, 0.445...</td>\n",
       "      <td>[100]</td>\n",
       "      <td>0.5</td>\n",
       "      <td>0.0001</td>\n",
       "      <td>123</td>\n",
       "      <td>2</td>\n",
       "      <td>True</td>\n",
       "      <td>20</td>\n",
       "      <td>766</td>\n",
       "    </tr>\n",
       "    <tr>\n",
       "      <th>4</th>\n",
       "      <td>focal</td>\n",
       "      <td>0.664684</td>\n",
       "      <td>0.596425</td>\n",
       "      <td>[0.7611484422724496, 0.5166163141993957, 0.511...</td>\n",
       "      <td>0.528710</td>\n",
       "      <td>0.688626</td>\n",
       "      <td>0.616118</td>\n",
       "      <td>[0.7842056932966024, 0.5513264129181084, 0.512...</td>\n",
       "      <td>[100]</td>\n",
       "      <td>0.5</td>\n",
       "      <td>0.0001</td>\n",
       "      <td>123</td>\n",
       "      <td>2</td>\n",
       "      <td>True</td>\n",
       "      <td>20</td>\n",
       "      <td>766</td>\n",
       "    </tr>\n",
       "    <tr>\n",
       "      <th>0</th>\n",
       "      <td>focal</td>\n",
       "      <td>0.692193</td>\n",
       "      <td>0.623270</td>\n",
       "      <td>[0.7897310513447432, 0.5442834138486312, 0.535...</td>\n",
       "      <td>0.530419</td>\n",
       "      <td>0.677928</td>\n",
       "      <td>0.596133</td>\n",
       "      <td>[0.7777274784970576, 0.5432399512789282, 0.467...</td>\n",
       "      <td>[100]</td>\n",
       "      <td>0.5</td>\n",
       "      <td>0.0001</td>\n",
       "      <td>1234</td>\n",
       "      <td>2</td>\n",
       "      <td>True</td>\n",
       "      <td>20</td>\n",
       "      <td>766</td>\n",
       "    </tr>\n",
       "    <tr>\n",
       "      <th>1</th>\n",
       "      <td>focal</td>\n",
       "      <td>0.682528</td>\n",
       "      <td>0.597103</td>\n",
       "      <td>[0.7872212176009645, 0.5446293494704992, 0.459...</td>\n",
       "      <td>0.505024</td>\n",
       "      <td>0.690315</td>\n",
       "      <td>0.614962</td>\n",
       "      <td>[0.783363802559415, 0.5646794150731158, 0.4968...</td>\n",
       "      <td>[100]</td>\n",
       "      <td>0.5</td>\n",
       "      <td>0.0001</td>\n",
       "      <td>1234</td>\n",
       "      <td>2</td>\n",
       "      <td>True</td>\n",
       "      <td>20</td>\n",
       "      <td>766</td>\n",
       "    </tr>\n",
       "    <tr>\n",
       "      <th>2</th>\n",
       "      <td>focal</td>\n",
       "      <td>0.692193</td>\n",
       "      <td>0.592600</td>\n",
       "      <td>[0.7926054303870596, 0.5638474295190713, 0.421...</td>\n",
       "      <td>0.531270</td>\n",
       "      <td>0.695946</td>\n",
       "      <td>0.604361</td>\n",
       "      <td>[0.7954245490541135, 0.5532994923857869, 0.464...</td>\n",
       "      <td>[100]</td>\n",
       "      <td>0.5</td>\n",
       "      <td>0.0001</td>\n",
       "      <td>1234</td>\n",
       "      <td>2</td>\n",
       "      <td>True</td>\n",
       "      <td>20</td>\n",
       "      <td>766</td>\n",
       "    </tr>\n",
       "    <tr>\n",
       "      <th>3</th>\n",
       "      <td>focal</td>\n",
       "      <td>0.674349</td>\n",
       "      <td>0.601641</td>\n",
       "      <td>[0.7705521472392639, 0.558641975308642, 0.4757...</td>\n",
       "      <td>0.550257</td>\n",
       "      <td>0.681869</td>\n",
       "      <td>0.600462</td>\n",
       "      <td>[0.7775752051048314, 0.5714285714285715, 0.452...</td>\n",
       "      <td>[100]</td>\n",
       "      <td>0.5</td>\n",
       "      <td>0.0001</td>\n",
       "      <td>1234</td>\n",
       "      <td>2</td>\n",
       "      <td>True</td>\n",
       "      <td>20</td>\n",
       "      <td>766</td>\n",
       "    </tr>\n",
       "    <tr>\n",
       "      <th>4</th>\n",
       "      <td>focal</td>\n",
       "      <td>0.663197</td>\n",
       "      <td>0.594774</td>\n",
       "      <td>[0.7611484422724496, 0.5090361445783133, 0.514...</td>\n",
       "      <td>0.526768</td>\n",
       "      <td>0.685811</td>\n",
       "      <td>0.614584</td>\n",
       "      <td>[0.7800829875518671, 0.5547945205479452, 0.508...</td>\n",
       "      <td>[100]</td>\n",
       "      <td>0.5</td>\n",
       "      <td>0.0001</td>\n",
       "      <td>1234</td>\n",
       "      <td>2</td>\n",
       "      <td>True</td>\n",
       "      <td>20</td>\n",
       "      <td>766</td>\n",
       "    </tr>\n",
       "  </tbody>\n",
       "</table>\n",
       "</div>"
      ],
      "text/plain": [
       "    loss  accuracy        f1  \\\n",
       "0  focal  0.699628  0.629848   \n",
       "1  focal  0.681041  0.596610   \n",
       "2  focal  0.689219  0.591243   \n",
       "3  focal  0.680297  0.601317   \n",
       "4  focal  0.667658  0.600250   \n",
       "0  focal  0.689219  0.615304   \n",
       "1  focal  0.680297  0.597075   \n",
       "2  focal  0.675836  0.578892   \n",
       "3  focal  0.684758  0.604041   \n",
       "4  focal  0.667658  0.601386   \n",
       "0  focal  0.692193  0.623333   \n",
       "1  focal  0.681041  0.591809   \n",
       "2  focal  0.689219  0.589982   \n",
       "3  focal  0.686245  0.607651   \n",
       "4  focal  0.663941  0.598446   \n",
       "0  focal  0.695167  0.626583   \n",
       "1  focal  0.684015  0.597483   \n",
       "2  focal  0.696654  0.601403   \n",
       "3  focal  0.683271  0.602752   \n",
       "4  focal  0.664684  0.596425   \n",
       "0  focal  0.692193  0.623270   \n",
       "1  focal  0.682528  0.597103   \n",
       "2  focal  0.692193  0.592600   \n",
       "3  focal  0.674349  0.601641   \n",
       "4  focal  0.663197  0.594774   \n",
       "\n",
       "                                           f1_scores  valid_loss  \\\n",
       "0  [0.7965998785670917, 0.5466034755134281, 0.546...    0.535128   \n",
       "1  [0.7869249394673123, 0.5405405405405405, 0.462...    0.507187   \n",
       "2  [0.789838337182448, 0.5564924114671164, 0.4273...    0.534393   \n",
       "3  [0.7790487658037327, 0.5457364341085271, 0.479...    0.557449   \n",
       "4  [0.7642770352369381, 0.5081723625557206, 0.528...    0.528262   \n",
       "0  [0.7893462469733656, 0.5358851674641149, 0.520...    0.531559   \n",
       "1  [0.7845503922751961, 0.5407066052227342, 0.465...    0.509566   \n",
       "2  [0.7780373831775701, 0.5499181669394436, 0.408...    0.530567   \n",
       "3  [0.7838651414810355, 0.5588697017268446, 0.469...    0.553035   \n",
       "4  [0.7639060568603213, 0.5289747399702823, 0.511...    0.529611   \n",
       "0  [0.7906691221608348, 0.5463108320251177, 0.533...    0.539443   \n",
       "1  [0.7891891891891891, 0.541213063763608, 0.4450...    0.513420   \n",
       "2  [0.7906976744186046, 0.5635179153094464, 0.415...    0.536695   \n",
       "3  [0.7825044937088076, 0.558213716108453, 0.4822...    0.556622   \n",
       "4  [0.7590881084411583, 0.5222551928783382, 0.513...    0.530625   \n",
       "0  [0.7919463087248322, 0.5457463884430177, 0.542...    0.535143   \n",
       "1  [0.7903903903903905, 0.5392912172573191, 0.462...    0.506780   \n",
       "2  [0.794901506373117, 0.5709515859766277, 0.4383...    0.533215   \n",
       "3  [0.7829224293445579, 0.5520504731861199, 0.473...    0.551709   \n",
       "4  [0.7611484422724496, 0.5166163141993957, 0.511...    0.528710   \n",
       "0  [0.7897310513447432, 0.5442834138486312, 0.535...    0.530419   \n",
       "1  [0.7872212176009645, 0.5446293494704992, 0.459...    0.505024   \n",
       "2  [0.7926054303870596, 0.5638474295190713, 0.421...    0.531270   \n",
       "3  [0.7705521472392639, 0.558641975308642, 0.4757...    0.550257   \n",
       "4  [0.7611484422724496, 0.5090361445783133, 0.514...    0.526768   \n",
       "\n",
       "   valid_accuracy  valid_f1  \\\n",
       "0        0.685811  0.601814   \n",
       "1        0.696509  0.624477   \n",
       "2        0.692005  0.600451   \n",
       "3        0.685248  0.597495   \n",
       "4        0.681869  0.606892   \n",
       "0        0.680743  0.594290   \n",
       "1        0.685811  0.613716   \n",
       "2        0.685811  0.598425   \n",
       "3        0.681306  0.594199   \n",
       "4        0.674550  0.603511   \n",
       "0        0.677365  0.596191   \n",
       "1        0.690878  0.614730   \n",
       "2        0.688063  0.598472   \n",
       "3        0.683559  0.595503   \n",
       "4        0.677928  0.604811   \n",
       "0        0.681306  0.594024   \n",
       "1        0.697635  0.623647   \n",
       "2        0.695946  0.603888   \n",
       "3        0.688063  0.599302   \n",
       "4        0.688626  0.616118   \n",
       "0        0.677928  0.596133   \n",
       "1        0.690315  0.614962   \n",
       "2        0.695946  0.604361   \n",
       "3        0.681869  0.600462   \n",
       "4        0.685811  0.614584   \n",
       "\n",
       "                                     valid_f1_scores hidden_dim  dropout_rate  \\\n",
       "0  [0.7854578096947935, 0.543030303030303, 0.4769...      [100]           0.5   \n",
       "1  [0.7877401646843549, 0.5691609977324262, 0.516...      [100]           0.5   \n",
       "2  [0.7948831054256728, 0.537966537966538, 0.4685...      [100]           0.5   \n",
       "3  [0.7831541218637994, 0.5563380281690141, 0.452...      [100]           0.5   \n",
       "4        [0.77910174152154, 0.5415730337078652, 0.5]      [100]           0.5   \n",
       "0  [0.7827260458839406, 0.5410628019323671, 0.459...      [100]           0.5   \n",
       "1  [0.7775239835541344, 0.5565819861431871, 0.507...      [100]           0.5   \n",
       "2  [0.7876344086021505, 0.5445665445665446, 0.463...      [100]           0.5   \n",
       "3  [0.7785778577857785, 0.5623529411764706, 0.441...      [100]           0.5   \n",
       "4  [0.7723880597014926, 0.5430167597765363, 0.495...      [100]           0.5   \n",
       "0  [0.7767166894042746, 0.5454545454545455, 0.466...      [100]           0.5   \n",
       "1  [0.7868852459016394, 0.5532407407407407, 0.504...      [100]           0.5   \n",
       "2  [0.7893569844789357, 0.5404732254047322, 0.465...      [100]           0.5   \n",
       "3  [0.7824529991047449, 0.5569007263922517, 0.447...      [100]           0.5   \n",
       "4  [0.7754158964879853, 0.5429864253393665, 0.496...      [100]           0.5   \n",
       "0  [0.7854578096947935, 0.5326757090012331, 0.463...      [100]           0.5   \n",
       "1  [0.7898320472083522, 0.5635103926096998, 0.517...      [100]           0.5   \n",
       "2  [0.7985865724381626, 0.5494223363286265, 0.463...      [100]           0.5   \n",
       "3  [0.7870619946091646, 0.5650118203309693, 0.445...      [100]           0.5   \n",
       "4  [0.7842056932966024, 0.5513264129181084, 0.512...      [100]           0.5   \n",
       "0  [0.7777274784970576, 0.5432399512789282, 0.467...      [100]           0.5   \n",
       "1  [0.783363802559415, 0.5646794150731158, 0.4968...      [100]           0.5   \n",
       "2  [0.7954245490541135, 0.5532994923857869, 0.464...      [100]           0.5   \n",
       "3  [0.7775752051048314, 0.5714285714285715, 0.452...      [100]           0.5   \n",
       "4  [0.7800829875518671, 0.5547945205479452, 0.508...      [100]           0.5   \n",
       "\n",
       "   learning_rate  seed  gamma  k_fold   k  input_dim  \n",
       "0         0.0001     0      2    True  20        766  \n",
       "1         0.0001     0      2    True  20        766  \n",
       "2         0.0001     0      2    True  20        766  \n",
       "3         0.0001     0      2    True  20        766  \n",
       "4         0.0001     0      2    True  20        766  \n",
       "0         0.0001     1      2    True  20        766  \n",
       "1         0.0001     1      2    True  20        766  \n",
       "2         0.0001     1      2    True  20        766  \n",
       "3         0.0001     1      2    True  20        766  \n",
       "4         0.0001     1      2    True  20        766  \n",
       "0         0.0001    12      2    True  20        766  \n",
       "1         0.0001    12      2    True  20        766  \n",
       "2         0.0001    12      2    True  20        766  \n",
       "3         0.0001    12      2    True  20        766  \n",
       "4         0.0001    12      2    True  20        766  \n",
       "0         0.0001   123      2    True  20        766  \n",
       "1         0.0001   123      2    True  20        766  \n",
       "2         0.0001   123      2    True  20        766  \n",
       "3         0.0001   123      2    True  20        766  \n",
       "4         0.0001   123      2    True  20        766  \n",
       "0         0.0001  1234      2    True  20        766  \n",
       "1         0.0001  1234      2    True  20        766  \n",
       "2         0.0001  1234      2    True  20        766  \n",
       "3         0.0001  1234      2    True  20        766  \n",
       "4         0.0001  1234      2    True  20        766  "
      ]
     },
     "execution_count": 34,
     "metadata": {},
     "output_type": "execute_result"
    }
   ],
   "source": [
    "best_ffn_mean_history_kfold"
   ]
  },
  {
   "cell_type": "code",
   "execution_count": 35,
   "id": "a2e47c41",
   "metadata": {},
   "outputs": [
    {
     "data": {
      "text/plain": [
       "0.6024489022123928"
      ]
     },
     "execution_count": 35,
     "metadata": {},
     "output_type": "execute_result"
    }
   ],
   "source": [
    "best_ffn_mean_history_kfold[\"f1\"].mean()"
   ]
  },
  {
   "cell_type": "code",
   "execution_count": 70,
   "id": "fb720493",
   "metadata": {},
   "outputs": [
    {
     "data": {
      "text/plain": [
       "array([0.78204441, 0.54354018, 0.48176212])"
      ]
     },
     "execution_count": 70,
     "metadata": {},
     "output_type": "execute_result"
    }
   ],
   "source": [
    "np.stack(best_ffn_mean_history_kfold[\"f1_scores\"]).mean(axis=0)"
   ]
  },
  {
   "cell_type": "markdown",
   "id": "0cf51402",
   "metadata": {},
   "source": [
    "# Baseline: FFN using signatures\n",
    "\n",
    "First, we dimension reduce these and then take signatures. We use the path signature as input to the FFN for classification.\n",
    "\n",
    "We want to choose a dimension and signature depth such that the number of terms in the signature is _roughly_ 384 so that it is comparable to the number of features that we used for the previous baseline where we computed the mean of the history. Again, we are concatenating the features we obtain with the current utterance embedding."
   ]
  },
  {
   "cell_type": "code",
   "execution_count": 71,
   "id": "aa98763b",
   "metadata": {},
   "outputs": [],
   "source": [
    "dim_reduce_methods = [\"gaussian_random_projection\", \"umap\"]"
   ]
  },
  {
   "cell_type": "markdown",
   "id": "529a6d91",
   "metadata": {},
   "source": [
    "## Using signature"
   ]
  },
  {
   "cell_type": "code",
   "execution_count": 100,
   "id": "c893cdc6",
   "metadata": {
    "scrolled": true
   },
   "outputs": [
    {
     "data": {
      "text/plain": [
       "[380, 399, 340, 363]"
      ]
     },
     "execution_count": 100,
     "metadata": {},
     "output_type": "execute_result"
    }
   ],
   "source": [
    "signature_dimensions_and_sig_depths = [(19, 2), (7, 3), (4, 4), (3, 5)]\n",
    "[signatory.signature_channels(channels, depth)\n",
    " for (channels, depth) in signature_dimensions_and_sig_depths]"
   ]
  },
  {
   "cell_type": "markdown",
   "id": "d46c3642",
   "metadata": {},
   "source": [
    "### Using UMAP"
   ]
  },
  {
   "cell_type": "code",
   "execution_count": null,
   "id": "d22685a6",
   "metadata": {},
   "outputs": [],
   "source": [
    "ffn_signature_umap, best_ffn_signature_umap, _, __ = histories_baseline_hyperparameter_search(\n",
    "    num_epochs=num_epochs,\n",
    "    df=anno_mi,\n",
    "    id_column=\"transcript_id\",\n",
    "    label_column=\"client_talk_type\",\n",
    "    embeddings=sbert_embeddings,\n",
    "    y_data=y_data,\n",
    "    output_dim=output_dim,\n",
    "    window_sizes=window_sizes,\n",
    "    hidden_dim_sizes=hidden_dim_sizes,\n",
    "    dropout_rates=dropout_rates,\n",
    "    learning_rates=learning_rates,\n",
    "    use_signatures=True,\n",
    "    log_signature=False,\n",
    "    dim_reduce_methods=[\"umap\"],\n",
    "    dimension_and_sig_depths=signature_dimensions_and_sig_depths,\n",
    "    seeds=seeds,\n",
    "    loss=loss,\n",
    "    gamma=gamma,\n",
    "    path_indices=client_index,\n",
    "    k_fold=False,\n",
    "    validation_metric=validation_metric,\n",
    "    results_output=f\"{output_dir}/ffn_signature_umap_focal_{gamma}.csv\",\n",
    "    verbose=False\n",
    ")"
   ]
  },
  {
   "cell_type": "code",
   "execution_count": null,
   "id": "6298be45",
   "metadata": {},
   "outputs": [],
   "source": [
    "best_ffn_signature_umap[\"f1\"].mean()"
   ]
  },
  {
   "cell_type": "code",
   "execution_count": null,
   "id": "6afeb078",
   "metadata": {},
   "outputs": [],
   "source": [
    "np.stack(best_ffn_signature_umap[\"f1_scores\"]).mean(axis=0)"
   ]
  },
  {
   "cell_type": "code",
   "execution_count": null,
   "id": "3349268c",
   "metadata": {},
   "outputs": [],
   "source": [
    "ffn_signature_umap_kfold, best_ffn_signature_umap_kfold, _, __ = histories_baseline_hyperparameter_search(\n",
    "    num_epochs=num_epochs,\n",
    "    df=anno_mi,\n",
    "    id_column=\"transcript_id\",\n",
    "    label_column=\"client_talk_type\",\n",
    "    embeddings=sbert_embeddings,\n",
    "    y_data=y_data,\n",
    "    output_dim=output_dim,\n",
    "    window_sizes=window_sizes,\n",
    "    hidden_dim_sizes=hidden_dim_sizes,\n",
    "    dropout_rates=dropout_rates,\n",
    "    learning_rates=learning_rates,\n",
    "    use_signatures=True,\n",
    "    log_signature=False,\n",
    "    dim_reduce_methods=[\"umap\"],\n",
    "    dimension_and_sig_depths=signature_dimensions_and_sig_depths,\n",
    "    seeds=seeds,\n",
    "    loss=loss,\n",
    "    gamma=gamma,\n",
    "    path_indices=client_index,\n",
    "    k_fold=True,\n",
    "    validation_metric=validation_metric,\n",
    "    results_output=f\"{output_dir}/ffn_signature_umap_focal_{gamma}_kfold.csv\",\n",
    "    verbose=False\n",
    ")"
   ]
  },
  {
   "cell_type": "code",
   "execution_count": null,
   "id": "65b75d10",
   "metadata": {},
   "outputs": [],
   "source": [
    "best_ffn_signature_umap_kfold[\"f1\"].mean()"
   ]
  },
  {
   "cell_type": "code",
   "execution_count": null,
   "id": "967d7a7a",
   "metadata": {},
   "outputs": [],
   "source": [
    "np.stack(best_ffn_signature_umap_kfold[\"f1_scores\"]).mean(axis=0)"
   ]
  },
  {
   "cell_type": "markdown",
   "id": "dd7048ef",
   "metadata": {},
   "source": [
    "### Using random projections"
   ]
  },
  {
   "cell_type": "code",
   "execution_count": null,
   "id": "3c4a11a7",
   "metadata": {},
   "outputs": [],
   "source": [
    "ffn_signature_grp, best_ffn_signature_grp, _, __ = histories_baseline_hyperparameter_search(\n",
    "    num_epochs=num_epochs,\n",
    "    df=anno_mi,\n",
    "    id_column=\"transcript_id\",\n",
    "    label_column=\"client_talk_type\",\n",
    "    embeddings=sbert_embeddings,\n",
    "    y_data=y_data,\n",
    "    output_dim=output_dim,\n",
    "    window_sizes=window_sizes,\n",
    "    hidden_dim_sizes=hidden_dim_sizes,\n",
    "    dropout_rates=dropout_rates,\n",
    "    learning_rates=learning_rates,\n",
    "    use_signatures=True,\n",
    "    log_signature=False,\n",
    "    dim_reduce_methods=[\"gaussian_random_projection\"],\n",
    "    dimension_and_sig_depths=signature_dimensions_and_sig_depths,\n",
    "    seeds=seeds,\n",
    "    loss=loss,\n",
    "    gamma=gamma,\n",
    "    path_indices=client_index,\n",
    "    k_fold=False,\n",
    "    validation_metric=validation_metric,\n",
    "    results_output=f\"{output_dir}/ffn_signature_grp_focal_{gamma}.csv\",\n",
    "    verbose=False\n",
    ")"
   ]
  },
  {
   "cell_type": "code",
   "execution_count": null,
   "id": "d8844263",
   "metadata": {},
   "outputs": [],
   "source": [
    "best_ffn_signature_grp[\"f1\"].mean()"
   ]
  },
  {
   "cell_type": "code",
   "execution_count": null,
   "id": "5bf94dc0",
   "metadata": {},
   "outputs": [],
   "source": [
    "np.stack(best_ffn_signature_grp[\"f1_scores\"]).mean(axis=0)"
   ]
  },
  {
   "cell_type": "code",
   "execution_count": null,
   "id": "c484e3fb",
   "metadata": {},
   "outputs": [],
   "source": [
    "ffn_signature_grp_kfold, best_ffn_signature_grp_kfold, _, __ = histories_baseline_hyperparameter_search(\n",
    "    num_epochs=num_epochs,\n",
    "    df=anno_mi,\n",
    "    id_column=\"transcript_id\",\n",
    "    label_column=\"client_talk_type\",\n",
    "    embeddings=sbert_embeddings,\n",
    "    y_data=y_data,\n",
    "    output_dim=output_dim,\n",
    "    window_sizes=window_sizes,\n",
    "    hidden_dim_sizes=hidden_dim_sizes,\n",
    "    dropout_rates=dropout_rates,\n",
    "    learning_rates=learning_rates,\n",
    "    use_signatures=True,\n",
    "    log_signature=False,\n",
    "    dim_reduce_methods=[\"gaussian_random_projection\"],\n",
    "    dimension_and_sig_depths=signature_dimensions_and_sig_depths,\n",
    "    seeds=seeds,\n",
    "    loss=loss,\n",
    "    gamma=gamma,\n",
    "    path_indices=client_index,\n",
    "    k_fold=True,\n",
    "    validation_metric=validation_metric,\n",
    "    results_output=f\"{output_dir}/ffn_signature_grp_focal_{gamma}_kfold.csv\",\n",
    "    verbose=False\n",
    ")"
   ]
  },
  {
   "cell_type": "code",
   "execution_count": null,
   "id": "20b76225",
   "metadata": {},
   "outputs": [],
   "source": [
    "best_ffn_signature_grp_kfold[\"f1\"].mean()"
   ]
  },
  {
   "cell_type": "code",
   "execution_count": null,
   "id": "0f01e259",
   "metadata": {},
   "outputs": [],
   "source": [
    "np.stack(best_ffn_signature_grp_kfold[\"f1_scores\"]).mean(axis=0)"
   ]
  },
  {
   "cell_type": "markdown",
   "id": "c2b384a1",
   "metadata": {},
   "source": [
    "## Using log signature"
   ]
  },
  {
   "cell_type": "code",
   "execution_count": 111,
   "id": "08de59af",
   "metadata": {},
   "outputs": [
    {
     "data": {
      "text/plain": [
       "[378, 385, 406, 294]"
      ]
     },
     "execution_count": 111,
     "metadata": {},
     "output_type": "execute_result"
    }
   ],
   "source": [
    "log_signature_dimensions_and_sig_depths = [(27, 2), (10, 3), (6, 4), (4, 5)]\n",
    "[signatory.logsignature_channels(channels, depth)\n",
    " for (channels, depth) in log_signature_dimensions_and_sig_depths]"
   ]
  },
  {
   "cell_type": "markdown",
   "id": "af4a8e7d",
   "metadata": {},
   "source": [
    "### Using UMAP"
   ]
  },
  {
   "cell_type": "code",
   "execution_count": null,
   "id": "6ee24bca",
   "metadata": {},
   "outputs": [],
   "source": [
    "ffn_logsignature_umap, best_ffn_logsignature_umap, _, __ = histories_baseline_hyperparameter_search(\n",
    "    num_epochs=num_epochs,\n",
    "    df=anno_mi,\n",
    "    id_column=\"transcript_id\",\n",
    "    label_column=\"client_talk_type\",\n",
    "    embeddings=sbert_embeddings,\n",
    "    y_data=y_data,\n",
    "    output_dim=output_dim,\n",
    "    window_sizes=window_sizes,\n",
    "    hidden_dim_sizes=hidden_dim_sizes,\n",
    "    dropout_rates=dropout_rates,\n",
    "    learning_rates=learning_rates,\n",
    "    use_signatures=True,\n",
    "    log_signature=True,\n",
    "    dim_reduce_methods=[\"umap\"],\n",
    "    dimension_and_sig_depths=signature_dimensions_and_sig_depths,\n",
    "    seeds=seeds,\n",
    "    loss=loss,\n",
    "    gamma=gamma,\n",
    "    path_indices=client_index,\n",
    "    k_fold=False,\n",
    "    validation_metric=validation_metric,\n",
    "    results_output=f\"{output_dir}/ffn_logsignature_umap_focal_{gamma}.csv\",\n",
    "    verbose=False\n",
    ")"
   ]
  },
  {
   "cell_type": "code",
   "execution_count": null,
   "id": "d429b871",
   "metadata": {},
   "outputs": [],
   "source": [
    "best_ffn_logsignature_umap[\"f1\"].mean()"
   ]
  },
  {
   "cell_type": "code",
   "execution_count": null,
   "id": "cedd5e31",
   "metadata": {},
   "outputs": [],
   "source": [
    "np.stack(best_ffn_logsignature_umap[\"f1_scores\"]).mean(axis=0)"
   ]
  },
  {
   "cell_type": "code",
   "execution_count": null,
   "id": "5ddbebb0",
   "metadata": {},
   "outputs": [],
   "source": [
    "ffn_logsignature_umap_kfold, best_ffn_logsignature_umap_kfold, _, __ = histories_baseline_hyperparameter_search(\n",
    "    num_epochs=num_epochs,\n",
    "    df=anno_mi,\n",
    "    id_column=\"transcript_id\",\n",
    "    label_column=\"client_talk_type\",\n",
    "    embeddings=sbert_embeddings,\n",
    "    y_data=y_data,\n",
    "    output_dim=output_dim,\n",
    "    window_sizes=window_sizes,\n",
    "    hidden_dim_sizes=hidden_dim_sizes,\n",
    "    dropout_rates=dropout_rates,\n",
    "    learning_rates=learning_rates,\n",
    "    use_signatures=True,\n",
    "    log_signature=True,\n",
    "    dim_reduce_methods=[\"umap\"],\n",
    "    dimension_and_sig_depths=signature_dimensions_and_sig_depths,\n",
    "    seeds=seeds,\n",
    "    loss=loss,\n",
    "    gamma=gamma,\n",
    "    path_indices=client_index,\n",
    "    k_fold=True,\n",
    "    validation_metric=validation_metric,\n",
    "    results_output=f\"{output_dir}/ffn_logsignature_umap_focal_{gamma}_kfold.csv\",\n",
    "    verbose=False\n",
    ")"
   ]
  },
  {
   "cell_type": "code",
   "execution_count": null,
   "id": "08f378b9",
   "metadata": {},
   "outputs": [],
   "source": [
    "best_ffn_logsignature_umap_kfold[\"f1\"].mean()"
   ]
  },
  {
   "cell_type": "code",
   "execution_count": null,
   "id": "2dc102cf",
   "metadata": {},
   "outputs": [],
   "source": [
    "np.stack(best_ffn_logsignature_umap_kfold[\"f1_scores\"]).mean(axis=0)"
   ]
  },
  {
   "cell_type": "markdown",
   "id": "e0771377",
   "metadata": {},
   "source": [
    "### Using random projections"
   ]
  },
  {
   "cell_type": "code",
   "execution_count": null,
   "id": "a9d9bafe",
   "metadata": {},
   "outputs": [],
   "source": [
    "ffn_logsignature_grp, best_ffn_logsignature_grp, _, __ = histories_baseline_hyperparameter_search(\n",
    "    num_epochs=num_epochs,\n",
    "    df=anno_mi,\n",
    "    id_column=\"transcript_id\",\n",
    "    label_column=\"client_talk_type\",\n",
    "    embeddings=sbert_embeddings,\n",
    "    y_data=y_data,\n",
    "    output_dim=output_dim,\n",
    "    window_sizes=window_sizes,\n",
    "    hidden_dim_sizes=hidden_dim_sizes,\n",
    "    dropout_rates=dropout_rates,\n",
    "    learning_rates=learning_rates,\n",
    "    use_signatures=True,\n",
    "    log_signature=True,\n",
    "    dim_reduce_methods=[\"gaussian_random_projection\"],\n",
    "    dimension_and_sig_depths=signature_dimensions_and_sig_depths,\n",
    "    seeds=seeds,\n",
    "    loss=loss,\n",
    "    gamma=gamma,\n",
    "    path_indices=client_index,\n",
    "    k_fold=False,\n",
    "    validation_metric=validation_metric,\n",
    "    results_output=f\"{output_dir}/ffn_logsignature_grp_focal_{gamma}.csv\",\n",
    "    verbose=False\n",
    ")"
   ]
  },
  {
   "cell_type": "code",
   "execution_count": null,
   "id": "b1a6ac67",
   "metadata": {},
   "outputs": [],
   "source": [
    "best_ffn_logsignature_grp[\"f1\"].mean()"
   ]
  },
  {
   "cell_type": "code",
   "execution_count": null,
   "id": "50c0164e",
   "metadata": {},
   "outputs": [],
   "source": [
    "np.stack(best_ffn_logsignature_grp[\"f1_scores\"]).mean(axis=0)"
   ]
  },
  {
   "cell_type": "code",
   "execution_count": null,
   "id": "7e1f469d",
   "metadata": {},
   "outputs": [],
   "source": [
    "ffn_logsignature_grp_kfold, best_ffn_logsignature_grp_kfold, _, __ = histories_baseline_hyperparameter_search(\n",
    "    num_epochs=num_epochs,\n",
    "    df=anno_mi,\n",
    "    id_column=\"transcript_id\",\n",
    "    label_column=\"client_talk_type\",\n",
    "    embeddings=sbert_embeddings,\n",
    "    y_data=y_data,\n",
    "    output_dim=output_dim,\n",
    "    window_sizes=window_sizes,\n",
    "    hidden_dim_sizes=hidden_dim_sizes,\n",
    "    dropout_rates=dropout_rates,\n",
    "    learning_rates=learning_rates,\n",
    "    use_signatures=True,\n",
    "    log_signature=True,\n",
    "    dim_reduce_methods=[\"gaussian_random_projection\"],\n",
    "    dimension_and_sig_depths=signature_dimensions_and_sig_depths,\n",
    "    seeds=seeds,\n",
    "    loss=loss,\n",
    "    gamma=gamma,\n",
    "    path_indices=client_index,\n",
    "    k_fold=True,\n",
    "    validation_metric=validation_metric,\n",
    "    results_output=f\"{output_dir}/ffn_logsignature_grp_focal_{gamma}_kfold.csv\",\n",
    "    verbose=False\n",
    ")"
   ]
  },
  {
   "cell_type": "code",
   "execution_count": null,
   "id": "f8b35772",
   "metadata": {},
   "outputs": [],
   "source": [
    "best_ffn_logsignature_grp_kfold[\"f1\"].mean()"
   ]
  },
  {
   "cell_type": "code",
   "execution_count": null,
   "id": "7bf26ca1",
   "metadata": {},
   "outputs": [],
   "source": [
    "np.stack(best_ffn_logsignature_grp_kfold[\"f1_scores\"]).mean(axis=0)"
   ]
  },
  {
   "cell_type": "markdown",
   "id": "3a710eb3",
   "metadata": {},
   "source": [
    "# Baseline: LSTM classification"
   ]
  },
  {
   "cell_type": "code",
   "execution_count": null,
   "id": "38d81c7c",
   "metadata": {},
   "outputs": [],
   "source": []
  },
  {
   "cell_type": "code",
   "execution_count": null,
   "id": "3ed43d57",
   "metadata": {},
   "outputs": [],
   "source": []
  },
  {
   "cell_type": "markdown",
   "id": "5910ca89",
   "metadata": {},
   "source": [
    "# Baseline: Fine-tune BERT for classification"
   ]
  },
  {
   "cell_type": "code",
   "execution_count": null,
   "id": "a59ec481",
   "metadata": {},
   "outputs": [],
   "source": []
  },
  {
   "cell_type": "code",
   "execution_count": null,
   "id": "8cf96317",
   "metadata": {},
   "outputs": [],
   "source": []
  },
  {
   "cell_type": "markdown",
   "id": "da4ff92d",
   "metadata": {},
   "source": [
    "# StackedDeepSigNet"
   ]
  },
  {
   "cell_type": "markdown",
   "id": "32ae1a72",
   "metadata": {},
   "source": [
    "## Obtaining path by looking at post history\n",
    "\n",
    "We can obtain a path by looking at the history of each post. Here we look at the last 10 posts (and pad with vectors of zeros if there are less than 10 posts) including the current post.\n",
    "\n",
    "We only want to consider paths that correspond to a client's utterance as we want to model a change in mood at that time. Their history will still contain the therapist's utterances too."
   ]
  },
  {
   "cell_type": "code",
   "execution_count": 244,
   "id": "90bfd87c",
   "metadata": {},
   "outputs": [],
   "source": [
    "time_features = [\"time_encoding\", \"timeline_index\"]\n",
    "path_specifics = {\"pad_by\": \"history\",\n",
    "                  \"zero_padding\": True,\n",
    "                  \"method\": \"k_last\",\n",
    "                  \"k\": 10,\n",
    "                  \"time_feature\": time_features,\n",
    "                  \"standardise_method\": [\"minmax\", None],\n",
    "                  \"embeddings\": \"dim_reduced\",\n",
    "                  \"include_current_embedding\": True,\n",
    "                  \"pad_from_below\": False}"
   ]
  },
  {
   "cell_type": "code",
   "execution_count": 298,
   "id": "9cf4e16c",
   "metadata": {},
   "outputs": [],
   "source": [
    "sig_depths = [2,3]\n",
    "dim_reduce_methods = [\"gaussian_random_projection\", \"umap\"]"
   ]
  },
  {
   "cell_type": "code",
   "execution_count": 297,
   "id": "43dbc33f",
   "metadata": {},
   "outputs": [],
   "source": [
    "output_dim = len(label_to_id)\n",
    "lstm_hidden_dims = [[8,8], [12,12,8]]\n",
    "num_time_features = len(time_features)\n",
    "conv_output_channels = [20, 10, 5]\n",
    "learning_rate = 1e-4"
   ]
  },
  {
   "cell_type": "code",
   "execution_count": 300,
   "id": "9a9b2b2c",
   "metadata": {},
   "outputs": [],
   "source": [
    "embedding_dim = 384\n",
    "dimensions = [embedding_dim, 100, 50, 30]"
   ]
  },
  {
   "cell_type": "code",
   "execution_count": null,
   "id": "902bca70",
   "metadata": {},
   "outputs": [],
   "source": []
  },
  {
   "cell_type": "code",
   "execution_count": null,
   "id": "c60459fb",
   "metadata": {},
   "outputs": [],
   "source": []
  },
  {
   "cell_type": "code",
   "execution_count": null,
   "id": "7b5652fc",
   "metadata": {},
   "outputs": [],
   "source": []
  },
  {
   "cell_type": "code",
   "execution_count": null,
   "id": "37f1fc01",
   "metadata": {},
   "outputs": [],
   "source": []
  },
  {
   "cell_type": "code",
   "execution_count": null,
   "id": "deef95e4",
   "metadata": {},
   "outputs": [],
   "source": []
  },
  {
   "cell_type": "code",
   "execution_count": null,
   "id": "13a67a66",
   "metadata": {},
   "outputs": [],
   "source": []
  },
  {
   "cell_type": "code",
   "execution_count": null,
   "id": "d6d7bd37",
   "metadata": {},
   "outputs": [],
   "source": []
  },
  {
   "cell_type": "code",
   "execution_count": null,
   "id": "4daab8de",
   "metadata": {},
   "outputs": [],
   "source": []
  }
 ],
 "metadata": {
  "kernelspec": {
   "display_name": "nlpsig-networks",
   "language": "python",
   "name": "nlpsig-networks"
  },
  "language_info": {
   "codemirror_mode": {
    "name": "ipython",
    "version": 3
   },
   "file_extension": ".py",
   "mimetype": "text/x-python",
   "name": "python",
   "nbconvert_exporter": "python",
   "pygments_lexer": "ipython3",
   "version": "3.8.16"
  }
 },
 "nbformat": 4,
 "nbformat_minor": 5
}
