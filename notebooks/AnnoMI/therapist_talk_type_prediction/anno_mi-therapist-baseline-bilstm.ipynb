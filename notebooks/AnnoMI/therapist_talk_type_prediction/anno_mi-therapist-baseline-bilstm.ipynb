{
 "cells": [
  {
   "cell_type": "code",
   "execution_count": 1,
   "id": "a983a5e8",
   "metadata": {},
   "outputs": [],
   "source": [
    "import numpy as np\n",
    "import pickle\n",
    "import os\n",
    "\n",
    "seed = 2023"
   ]
  },
  {
   "cell_type": "code",
   "execution_count": 2,
   "id": "e4e666cc",
   "metadata": {},
   "outputs": [],
   "source": [
    "from nlpsig_networks.scripts.lstm_baseline_functions import (\n",
    "    lstm_hyperparameter_search,\n",
    "    obtain_path,\n",
    ")"
   ]
  },
  {
   "cell_type": "code",
   "execution_count": 3,
   "id": "6e918dde",
   "metadata": {},
   "outputs": [],
   "source": [
    "output_dir = \"therapist_talk_type_output\"\n",
    "if not os.path.isdir(output_dir):\n",
    "    os.makedirs(output_dir)"
   ]
  },
  {
   "cell_type": "markdown",
   "id": "f7409a03",
   "metadata": {},
   "source": [
    "## AnnoMI"
   ]
  },
  {
   "cell_type": "code",
   "execution_count": 4,
   "id": "f00bb922",
   "metadata": {},
   "outputs": [],
   "source": [
    "%run ../load_anno_mi.py"
   ]
  },
  {
   "cell_type": "code",
   "execution_count": 5,
   "id": "720d820f",
   "metadata": {},
   "outputs": [
    {
     "data": {
      "text/html": [
       "<div>\n",
       "<style scoped>\n",
       "    .dataframe tbody tr th:only-of-type {\n",
       "        vertical-align: middle;\n",
       "    }\n",
       "\n",
       "    .dataframe tbody tr th {\n",
       "        vertical-align: top;\n",
       "    }\n",
       "\n",
       "    .dataframe thead th {\n",
       "        text-align: right;\n",
       "    }\n",
       "</style>\n",
       "<table border=\"1\" class=\"dataframe\">\n",
       "  <thead>\n",
       "    <tr style=\"text-align: right;\">\n",
       "      <th></th>\n",
       "      <th>mi_quality</th>\n",
       "      <th>transcript_id</th>\n",
       "      <th>topic</th>\n",
       "      <th>utterance_id</th>\n",
       "      <th>interlocutor</th>\n",
       "      <th>timestamp</th>\n",
       "      <th>utterance_text</th>\n",
       "      <th>annotator_id</th>\n",
       "      <th>therapist_input_exists</th>\n",
       "      <th>therapist_input_subtype</th>\n",
       "      <th>reflection_exists</th>\n",
       "      <th>reflection_subtype</th>\n",
       "      <th>question_exists</th>\n",
       "      <th>question_subtype</th>\n",
       "      <th>main_therapist_behaviour</th>\n",
       "      <th>client_talk_type</th>\n",
       "      <th>datetime</th>\n",
       "    </tr>\n",
       "  </thead>\n",
       "  <tbody>\n",
       "    <tr>\n",
       "      <th>0</th>\n",
       "      <td>high</td>\n",
       "      <td>0</td>\n",
       "      <td>reducing alcohol consumption</td>\n",
       "      <td>0</td>\n",
       "      <td>therapist</td>\n",
       "      <td>00:00:13</td>\n",
       "      <td>Thanks for filling it out. We give this form t...</td>\n",
       "      <td>3</td>\n",
       "      <td>False</td>\n",
       "      <td>NaN</td>\n",
       "      <td>False</td>\n",
       "      <td>NaN</td>\n",
       "      <td>True</td>\n",
       "      <td>open</td>\n",
       "      <td>question</td>\n",
       "      <td>NaN</td>\n",
       "      <td>2023-08-22 00:00:13</td>\n",
       "    </tr>\n",
       "    <tr>\n",
       "      <th>1</th>\n",
       "      <td>high</td>\n",
       "      <td>0</td>\n",
       "      <td>reducing alcohol consumption</td>\n",
       "      <td>1</td>\n",
       "      <td>client</td>\n",
       "      <td>00:00:24</td>\n",
       "      <td>Sure.</td>\n",
       "      <td>3</td>\n",
       "      <td>NaN</td>\n",
       "      <td>NaN</td>\n",
       "      <td>NaN</td>\n",
       "      <td>NaN</td>\n",
       "      <td>NaN</td>\n",
       "      <td>NaN</td>\n",
       "      <td>NaN</td>\n",
       "      <td>neutral</td>\n",
       "      <td>2023-08-22 00:00:24</td>\n",
       "    </tr>\n",
       "    <tr>\n",
       "      <th>2</th>\n",
       "      <td>high</td>\n",
       "      <td>0</td>\n",
       "      <td>reducing alcohol consumption</td>\n",
       "      <td>2</td>\n",
       "      <td>therapist</td>\n",
       "      <td>00:00:25</td>\n",
       "      <td>So, let's see. It looks that you put-- You dri...</td>\n",
       "      <td>3</td>\n",
       "      <td>True</td>\n",
       "      <td>information</td>\n",
       "      <td>False</td>\n",
       "      <td>NaN</td>\n",
       "      <td>False</td>\n",
       "      <td>NaN</td>\n",
       "      <td>therapist_input</td>\n",
       "      <td>NaN</td>\n",
       "      <td>2023-08-22 00:00:25</td>\n",
       "    </tr>\n",
       "    <tr>\n",
       "      <th>3</th>\n",
       "      <td>high</td>\n",
       "      <td>0</td>\n",
       "      <td>reducing alcohol consumption</td>\n",
       "      <td>3</td>\n",
       "      <td>client</td>\n",
       "      <td>00:00:34</td>\n",
       "      <td>Mm-hmm.</td>\n",
       "      <td>3</td>\n",
       "      <td>NaN</td>\n",
       "      <td>NaN</td>\n",
       "      <td>NaN</td>\n",
       "      <td>NaN</td>\n",
       "      <td>NaN</td>\n",
       "      <td>NaN</td>\n",
       "      <td>NaN</td>\n",
       "      <td>neutral</td>\n",
       "      <td>2023-08-22 00:00:34</td>\n",
       "    </tr>\n",
       "    <tr>\n",
       "      <th>4</th>\n",
       "      <td>high</td>\n",
       "      <td>0</td>\n",
       "      <td>reducing alcohol consumption</td>\n",
       "      <td>4</td>\n",
       "      <td>therapist</td>\n",
       "      <td>00:00:34</td>\n",
       "      <td>-and you usually have three to four drinks whe...</td>\n",
       "      <td>3</td>\n",
       "      <td>True</td>\n",
       "      <td>information</td>\n",
       "      <td>False</td>\n",
       "      <td>NaN</td>\n",
       "      <td>False</td>\n",
       "      <td>NaN</td>\n",
       "      <td>therapist_input</td>\n",
       "      <td>NaN</td>\n",
       "      <td>2023-08-22 00:00:34</td>\n",
       "    </tr>\n",
       "  </tbody>\n",
       "</table>\n",
       "</div>"
      ],
      "text/plain": [
       "  mi_quality  transcript_id                         topic  utterance_id  \\\n",
       "0       high              0  reducing alcohol consumption             0   \n",
       "1       high              0  reducing alcohol consumption             1   \n",
       "2       high              0  reducing alcohol consumption             2   \n",
       "3       high              0  reducing alcohol consumption             3   \n",
       "4       high              0  reducing alcohol consumption             4   \n",
       "\n",
       "  interlocutor timestamp                                     utterance_text  \\\n",
       "0    therapist  00:00:13  Thanks for filling it out. We give this form t...   \n",
       "1       client  00:00:24                                              Sure.   \n",
       "2    therapist  00:00:25  So, let's see. It looks that you put-- You dri...   \n",
       "3       client  00:00:34                                            Mm-hmm.   \n",
       "4    therapist  00:00:34  -and you usually have three to four drinks whe...   \n",
       "\n",
       "   annotator_id therapist_input_exists therapist_input_subtype  \\\n",
       "0             3                  False                     NaN   \n",
       "1             3                    NaN                     NaN   \n",
       "2             3                   True             information   \n",
       "3             3                    NaN                     NaN   \n",
       "4             3                   True             information   \n",
       "\n",
       "  reflection_exists reflection_subtype question_exists question_subtype  \\\n",
       "0             False                NaN            True             open   \n",
       "1               NaN                NaN             NaN              NaN   \n",
       "2             False                NaN           False              NaN   \n",
       "3               NaN                NaN             NaN              NaN   \n",
       "4             False                NaN           False              NaN   \n",
       "\n",
       "  main_therapist_behaviour client_talk_type            datetime  \n",
       "0                 question              NaN 2023-08-22 00:00:13  \n",
       "1                      NaN          neutral 2023-08-22 00:00:24  \n",
       "2          therapist_input              NaN 2023-08-22 00:00:25  \n",
       "3                      NaN          neutral 2023-08-22 00:00:34  \n",
       "4          therapist_input              NaN 2023-08-22 00:00:34  "
      ]
     },
     "execution_count": 5,
     "metadata": {},
     "output_type": "execute_result"
    }
   ],
   "source": [
    "anno_mi.head()"
   ]
  },
  {
   "cell_type": "code",
   "execution_count": 6,
   "id": "84d5594d",
   "metadata": {},
   "outputs": [
    {
     "data": {
      "text/plain": [
       "(9699, 384)"
      ]
     },
     "execution_count": 6,
     "metadata": {},
     "output_type": "execute_result"
    }
   ],
   "source": [
    "with open(\"../anno_mi_sbert.pkl\", \"rb\") as f:\n",
    "    sbert_embeddings = pickle.load(f)\n",
    "\n",
    "sbert_embeddings.shape"
   ]
  },
  {
   "cell_type": "markdown",
   "id": "3a710eb3",
   "metadata": {},
   "source": [
    "# Baseline: LSTM classification"
   ]
  },
  {
   "cell_type": "code",
   "execution_count": 7,
   "id": "38d81c7c",
   "metadata": {},
   "outputs": [],
   "source": [
    "num_epochs = 100\n",
    "hidden_dim_sizes = [100, 200, 300, 384]\n",
    "num_layers = 1\n",
    "bidirectional = True\n",
    "dropout_rates = [0.5, 0.1]\n",
    "learning_rates = [1e-3, 1e-4, 5e-4]\n",
    "seeds = [1, 12, 123]\n",
    "loss = \"focal\"\n",
    "gamma = 2\n",
    "validation_metric = \"f1\""
   ]
  },
  {
   "cell_type": "markdown",
   "id": "3ed43d57",
   "metadata": {},
   "source": [
    "## `history_length=20`"
   ]
  },
  {
   "cell_type": "code",
   "execution_count": 8,
   "id": "b1fed6b4",
   "metadata": {},
   "outputs": [
    {
     "data": {
      "application/vnd.jupyter.widget-view+json": {
       "model_id": "ecfc97514fbb413daf34ac1700a1b09a",
       "version_major": 2,
       "version_minor": 0
      },
      "text/plain": [
       "  0%|          | 0/1 [00:00<?, ?it/s]"
      ]
     },
     "metadata": {},
     "output_type": "display_data"
    },
    {
     "name": "stdout",
     "output_type": "stream",
     "text": [
      "[INFO] Concatenating the embeddings to the dataframe...\n",
      "[INFO] - columns beginning with 'e' denote the full embddings.\n",
      "[INFO] Adding time feature columns into dataframe in `.df`.\n",
      "[INFO] Adding 'time_encoding' feature...\n",
      "[INFO] Adding 'time_diff' feature...\n",
      "[INFO] Adding 'timeline_index' feature...\n",
      "[INFO] Padding ids and storing in `.df_padded` and `.array_padded` attributes.\n"
     ]
    },
    {
     "data": {
      "application/vnd.jupyter.widget-view+json": {
       "model_id": "d2be43ccddd34bcc8e56e6b3653f89d7",
       "version_major": 2,
       "version_minor": 0
      },
      "text/plain": [
       "  0%|          | 0/9699 [00:00<?, ?it/s]"
      ]
     },
     "metadata": {},
     "output_type": "display_data"
    },
    {
     "data": {
      "application/vnd.jupyter.widget-view+json": {
       "model_id": "edfb83d65afb4ec380695afcd1276d48",
       "version_major": 2,
       "version_minor": 0
      },
      "text/plain": [
       "  0%|          | 0/4 [00:00<?, ?it/s]"
      ]
     },
     "metadata": {},
     "output_type": "display_data"
    },
    {
     "data": {
      "application/vnd.jupyter.widget-view+json": {
       "model_id": "89d572d562b2402eb20b96068f3edb9b",
       "version_major": 2,
       "version_minor": 0
      },
      "text/plain": [
       "  0%|          | 0/2 [00:00<?, ?it/s]"
      ]
     },
     "metadata": {},
     "output_type": "display_data"
    },
    {
     "data": {
      "application/vnd.jupyter.widget-view+json": {
       "model_id": "949ce389bcb5487790f320721fdc9bda",
       "version_major": 2,
       "version_minor": 0
      },
      "text/plain": [
       "  0%|          | 0/3 [00:00<?, ?it/s]"
      ]
     },
     "metadata": {},
     "output_type": "display_data"
    },
    {
     "data": {
      "application/vnd.jupyter.widget-view+json": {
       "model_id": "5ea6d8d85a144c77bd9d5d1c8746bb80",
       "version_major": 2,
       "version_minor": 0
      },
      "text/plain": [
       "  0%|          | 0/3 [00:00<?, ?it/s]"
      ]
     },
     "metadata": {},
     "output_type": "display_data"
    },
    {
     "data": {
      "application/vnd.jupyter.widget-view+json": {
       "model_id": "133cb095d61143819c051b69039653f0",
       "version_major": 2,
       "version_minor": 0
      },
      "text/plain": [
       "  0%|          | 0/2 [00:00<?, ?it/s]"
      ]
     },
     "metadata": {},
     "output_type": "display_data"
    },
    {
     "data": {
      "application/vnd.jupyter.widget-view+json": {
       "model_id": "4cf5443c310b4dcf925e8c09ffe779cf",
       "version_major": 2,
       "version_minor": 0
      },
      "text/plain": [
       "  0%|          | 0/3 [00:00<?, ?it/s]"
      ]
     },
     "metadata": {},
     "output_type": "display_data"
    },
    {
     "data": {
      "application/vnd.jupyter.widget-view+json": {
       "model_id": "ea2b3ec2ef104117883c48abb6a712e3",
       "version_major": 2,
       "version_minor": 0
      },
      "text/plain": [
       "  0%|          | 0/3 [00:00<?, ?it/s]"
      ]
     },
     "metadata": {},
     "output_type": "display_data"
    },
    {
     "data": {
      "application/vnd.jupyter.widget-view+json": {
       "model_id": "73962e0132494644b5ca29a7823d9676",
       "version_major": 2,
       "version_minor": 0
      },
      "text/plain": [
       "  0%|          | 0/2 [00:00<?, ?it/s]"
      ]
     },
     "metadata": {},
     "output_type": "display_data"
    },
    {
     "data": {
      "application/vnd.jupyter.widget-view+json": {
       "model_id": "05417dfd3e3f43899aa62aeb55e630f5",
       "version_major": 2,
       "version_minor": 0
      },
      "text/plain": [
       "  0%|          | 0/3 [00:00<?, ?it/s]"
      ]
     },
     "metadata": {},
     "output_type": "display_data"
    },
    {
     "data": {
      "application/vnd.jupyter.widget-view+json": {
       "model_id": "4356055fa9dc4cdfa061495f2d1f68a6",
       "version_major": 2,
       "version_minor": 0
      },
      "text/plain": [
       "  0%|          | 0/3 [00:00<?, ?it/s]"
      ]
     },
     "metadata": {},
     "output_type": "display_data"
    },
    {
     "data": {
      "application/vnd.jupyter.widget-view+json": {
       "model_id": "75f20df6642d47a8b2626a9fa626f4d6",
       "version_major": 2,
       "version_minor": 0
      },
      "text/plain": [
       "  0%|          | 0/2 [00:00<?, ?it/s]"
      ]
     },
     "metadata": {},
     "output_type": "display_data"
    },
    {
     "data": {
      "application/vnd.jupyter.widget-view+json": {
       "model_id": "290c281aae614d009de308a51b10a0a1",
       "version_major": 2,
       "version_minor": 0
      },
      "text/plain": [
       "  0%|          | 0/3 [00:00<?, ?it/s]"
      ]
     },
     "metadata": {},
     "output_type": "display_data"
    },
    {
     "data": {
      "application/vnd.jupyter.widget-view+json": {
       "model_id": "fb3a621a01ed48749abb3b68ba2fe35b",
       "version_major": 2,
       "version_minor": 0
      },
      "text/plain": [
       "  0%|          | 0/3 [00:00<?, ?it/s]"
      ]
     },
     "metadata": {},
     "output_type": "display_data"
    },
    {
     "name": "stdout",
     "output_type": "stream",
     "text": [
      "saving results dataframe to CSV for this hyperparameter search in therapist_talk_type_output/lstm_history_20_focal_2_kfold.csv\n",
      "saving the best model results dataframe to CSV for this hyperparameter search in therapist_talk_type_output/lstm_history_20_focal_2_kfold_best_model.csv\n"
     ]
    }
   ],
   "source": [
    "size = 20\n",
    "(\n",
    "    bilstm_history_20_kfold,\n",
    "    best_bilstm_history_20_kfold,\n",
    "    _,\n",
    "    __,\n",
    ") = lstm_hyperparameter_search(\n",
    "    num_epochs=num_epochs,\n",
    "    df=anno_mi,\n",
    "    id_column=\"transcript_id\",\n",
    "    label_column=\"main_therapist_behaviour\",\n",
    "    embeddings=sbert_embeddings,\n",
    "    y_data=y_data_therapist,\n",
    "    output_dim=output_dim_therapist,\n",
    "    history_lengths=[size],\n",
    "    hidden_dim_sizes=hidden_dim_sizes,\n",
    "    num_layers=num_layers,\n",
    "    bidirectional=bidirectional,\n",
    "    dropout_rates=dropout_rates,\n",
    "    learning_rates=learning_rates,\n",
    "    seeds=seeds,\n",
    "    loss=loss,\n",
    "    gamma=gamma,\n",
    "    path_indices=therapist_index,\n",
    "    split_ids=therapist_transcript_id,\n",
    "    k_fold=True,\n",
    "    validation_metric=validation_metric,\n",
    "    results_output=f\"{output_dir}/lstm_history_{size}_focal_{gamma}_kfold.csv\",\n",
    "    verbose=False,\n",
    ")"
   ]
  },
  {
   "cell_type": "code",
   "execution_count": 9,
   "id": "9ffb417f",
   "metadata": {},
   "outputs": [
    {
     "name": "stderr",
     "output_type": "stream",
     "text": [
      "/tmp/ipykernel_1948104/3632055421.py:1: FutureWarning: The default value of numeric_only in DataFrameGroupBy.mean is deprecated. In a future version, numeric_only will default to False. Either specify numeric_only or select only columns which should be valid for the function.\n",
      "  bilstm_history_20_kfold.groupby([\"hidden_dim\", \"dropout_rate\", \"learning_rate\"]).mean()\n"
     ]
    },
    {
     "data": {
      "text/html": [
       "<div>\n",
       "<style scoped>\n",
       "    .dataframe tbody tr th:only-of-type {\n",
       "        vertical-align: middle;\n",
       "    }\n",
       "\n",
       "    .dataframe tbody tr th {\n",
       "        vertical-align: top;\n",
       "    }\n",
       "\n",
       "    .dataframe thead th {\n",
       "        text-align: right;\n",
       "    }\n",
       "</style>\n",
       "<table border=\"1\" class=\"dataframe\">\n",
       "  <thead>\n",
       "    <tr style=\"text-align: right;\">\n",
       "      <th></th>\n",
       "      <th></th>\n",
       "      <th></th>\n",
       "      <th>accuracy</th>\n",
       "      <th>f1</th>\n",
       "      <th>precision</th>\n",
       "      <th>recall</th>\n",
       "      <th>valid_accuracy</th>\n",
       "      <th>valid_f1</th>\n",
       "      <th>valid_precision</th>\n",
       "      <th>valid_recall</th>\n",
       "      <th>k</th>\n",
       "      <th>num_layers</th>\n",
       "      <th>bidirectional</th>\n",
       "      <th>seed</th>\n",
       "      <th>gamma</th>\n",
       "      <th>k_fold</th>\n",
       "      <th>n_splits</th>\n",
       "      <th>batch_size</th>\n",
       "      <th>model_id</th>\n",
       "    </tr>\n",
       "    <tr>\n",
       "      <th>hidden_dim</th>\n",
       "      <th>dropout_rate</th>\n",
       "      <th>learning_rate</th>\n",
       "      <th></th>\n",
       "      <th></th>\n",
       "      <th></th>\n",
       "      <th></th>\n",
       "      <th></th>\n",
       "      <th></th>\n",
       "      <th></th>\n",
       "      <th></th>\n",
       "      <th></th>\n",
       "      <th></th>\n",
       "      <th></th>\n",
       "      <th></th>\n",
       "      <th></th>\n",
       "      <th></th>\n",
       "      <th></th>\n",
       "      <th></th>\n",
       "      <th></th>\n",
       "    </tr>\n",
       "  </thead>\n",
       "  <tbody>\n",
       "    <tr>\n",
       "      <th rowspan=\"6\" valign=\"top\">100</th>\n",
       "      <th rowspan=\"3\" valign=\"top\">0.1</th>\n",
       "      <th>0.0001</th>\n",
       "      <td>0.637318</td>\n",
       "      <td>0.597015</td>\n",
       "      <td>0.599630</td>\n",
       "      <td>0.596691</td>\n",
       "      <td>0.682911</td>\n",
       "      <td>0.651049</td>\n",
       "      <td>0.650485</td>\n",
       "      <td>0.653225</td>\n",
       "      <td>20.0</td>\n",
       "      <td>1.0</td>\n",
       "      <td>1.0</td>\n",
       "      <td>45.333333</td>\n",
       "      <td>2.0</td>\n",
       "      <td>1.0</td>\n",
       "      <td>5.0</td>\n",
       "      <td>64.0</td>\n",
       "      <td>4.0</td>\n",
       "    </tr>\n",
       "    <tr>\n",
       "      <th>0.0005</th>\n",
       "      <td>0.688425</td>\n",
       "      <td>0.650007</td>\n",
       "      <td>0.650828</td>\n",
       "      <td>0.650461</td>\n",
       "      <td>0.724473</td>\n",
       "      <td>0.693701</td>\n",
       "      <td>0.692281</td>\n",
       "      <td>0.696601</td>\n",
       "      <td>20.0</td>\n",
       "      <td>1.0</td>\n",
       "      <td>1.0</td>\n",
       "      <td>45.333333</td>\n",
       "      <td>2.0</td>\n",
       "      <td>1.0</td>\n",
       "      <td>5.0</td>\n",
       "      <td>64.0</td>\n",
       "      <td>5.0</td>\n",
       "    </tr>\n",
       "    <tr>\n",
       "      <th>0.0010</th>\n",
       "      <td>0.701139</td>\n",
       "      <td>0.665687</td>\n",
       "      <td>0.667653</td>\n",
       "      <td>0.666581</td>\n",
       "      <td>0.732331</td>\n",
       "      <td>0.704217</td>\n",
       "      <td>0.703232</td>\n",
       "      <td>0.708813</td>\n",
       "      <td>20.0</td>\n",
       "      <td>1.0</td>\n",
       "      <td>1.0</td>\n",
       "      <td>45.333333</td>\n",
       "      <td>2.0</td>\n",
       "      <td>1.0</td>\n",
       "      <td>5.0</td>\n",
       "      <td>64.0</td>\n",
       "      <td>3.0</td>\n",
       "    </tr>\n",
       "    <tr>\n",
       "      <th rowspan=\"3\" valign=\"top\">0.5</th>\n",
       "      <th>0.0001</th>\n",
       "      <td>0.636939</td>\n",
       "      <td>0.597718</td>\n",
       "      <td>0.600033</td>\n",
       "      <td>0.598455</td>\n",
       "      <td>0.687922</td>\n",
       "      <td>0.657178</td>\n",
       "      <td>0.656719</td>\n",
       "      <td>0.660430</td>\n",
       "      <td>20.0</td>\n",
       "      <td>1.0</td>\n",
       "      <td>1.0</td>\n",
       "      <td>45.333333</td>\n",
       "      <td>2.0</td>\n",
       "      <td>1.0</td>\n",
       "      <td>5.0</td>\n",
       "      <td>64.0</td>\n",
       "      <td>1.0</td>\n",
       "    </tr>\n",
       "    <tr>\n",
       "      <th>0.0005</th>\n",
       "      <td>0.684124</td>\n",
       "      <td>0.644626</td>\n",
       "      <td>0.647388</td>\n",
       "      <td>0.643834</td>\n",
       "      <td>0.725158</td>\n",
       "      <td>0.694015</td>\n",
       "      <td>0.693945</td>\n",
       "      <td>0.695655</td>\n",
       "      <td>20.0</td>\n",
       "      <td>1.0</td>\n",
       "      <td>1.0</td>\n",
       "      <td>45.333333</td>\n",
       "      <td>2.0</td>\n",
       "      <td>1.0</td>\n",
       "      <td>5.0</td>\n",
       "      <td>64.0</td>\n",
       "      <td>2.0</td>\n",
       "    </tr>\n",
       "    <tr>\n",
       "      <th>0.0010</th>\n",
       "      <td>0.696711</td>\n",
       "      <td>0.659085</td>\n",
       "      <td>0.660946</td>\n",
       "      <td>0.659065</td>\n",
       "      <td>0.733175</td>\n",
       "      <td>0.703367</td>\n",
       "      <td>0.702404</td>\n",
       "      <td>0.706243</td>\n",
       "      <td>20.0</td>\n",
       "      <td>1.0</td>\n",
       "      <td>1.0</td>\n",
       "      <td>45.333333</td>\n",
       "      <td>2.0</td>\n",
       "      <td>1.0</td>\n",
       "      <td>5.0</td>\n",
       "      <td>64.0</td>\n",
       "      <td>0.0</td>\n",
       "    </tr>\n",
       "    <tr>\n",
       "      <th rowspan=\"6\" valign=\"top\">200</th>\n",
       "      <th rowspan=\"3\" valign=\"top\">0.1</th>\n",
       "      <th>0.0001</th>\n",
       "      <td>0.644845</td>\n",
       "      <td>0.607110</td>\n",
       "      <td>0.607992</td>\n",
       "      <td>0.608809</td>\n",
       "      <td>0.687025</td>\n",
       "      <td>0.654888</td>\n",
       "      <td>0.653751</td>\n",
       "      <td>0.657396</td>\n",
       "      <td>20.0</td>\n",
       "      <td>1.0</td>\n",
       "      <td>1.0</td>\n",
       "      <td>45.333333</td>\n",
       "      <td>2.0</td>\n",
       "      <td>1.0</td>\n",
       "      <td>5.0</td>\n",
       "      <td>64.0</td>\n",
       "      <td>10.0</td>\n",
       "    </tr>\n",
       "    <tr>\n",
       "      <th>0.0005</th>\n",
       "      <td>0.696015</td>\n",
       "      <td>0.657824</td>\n",
       "      <td>0.658825</td>\n",
       "      <td>0.658162</td>\n",
       "      <td>0.728903</td>\n",
       "      <td>0.698673</td>\n",
       "      <td>0.697825</td>\n",
       "      <td>0.701502</td>\n",
       "      <td>20.0</td>\n",
       "      <td>1.0</td>\n",
       "      <td>1.0</td>\n",
       "      <td>45.333333</td>\n",
       "      <td>2.0</td>\n",
       "      <td>1.0</td>\n",
       "      <td>5.0</td>\n",
       "      <td>64.0</td>\n",
       "      <td>11.0</td>\n",
       "    </tr>\n",
       "    <tr>\n",
       "      <th>0.0010</th>\n",
       "      <td>0.694687</td>\n",
       "      <td>0.657890</td>\n",
       "      <td>0.659592</td>\n",
       "      <td>0.658517</td>\n",
       "      <td>0.733650</td>\n",
       "      <td>0.704730</td>\n",
       "      <td>0.704284</td>\n",
       "      <td>0.708196</td>\n",
       "      <td>20.0</td>\n",
       "      <td>1.0</td>\n",
       "      <td>1.0</td>\n",
       "      <td>45.333333</td>\n",
       "      <td>2.0</td>\n",
       "      <td>1.0</td>\n",
       "      <td>5.0</td>\n",
       "      <td>64.0</td>\n",
       "      <td>9.0</td>\n",
       "    </tr>\n",
       "    <tr>\n",
       "      <th rowspan=\"3\" valign=\"top\">0.5</th>\n",
       "      <th>0.0001</th>\n",
       "      <td>0.644023</td>\n",
       "      <td>0.603433</td>\n",
       "      <td>0.605458</td>\n",
       "      <td>0.603947</td>\n",
       "      <td>0.684705</td>\n",
       "      <td>0.651817</td>\n",
       "      <td>0.652259</td>\n",
       "      <td>0.653091</td>\n",
       "      <td>20.0</td>\n",
       "      <td>1.0</td>\n",
       "      <td>1.0</td>\n",
       "      <td>45.333333</td>\n",
       "      <td>2.0</td>\n",
       "      <td>1.0</td>\n",
       "      <td>5.0</td>\n",
       "      <td>64.0</td>\n",
       "      <td>7.0</td>\n",
       "    </tr>\n",
       "    <tr>\n",
       "      <th>0.0005</th>\n",
       "      <td>0.696458</td>\n",
       "      <td>0.657344</td>\n",
       "      <td>0.658687</td>\n",
       "      <td>0.656986</td>\n",
       "      <td>0.727532</td>\n",
       "      <td>0.696161</td>\n",
       "      <td>0.695024</td>\n",
       "      <td>0.698455</td>\n",
       "      <td>20.0</td>\n",
       "      <td>1.0</td>\n",
       "      <td>1.0</td>\n",
       "      <td>45.333333</td>\n",
       "      <td>2.0</td>\n",
       "      <td>1.0</td>\n",
       "      <td>5.0</td>\n",
       "      <td>64.0</td>\n",
       "      <td>8.0</td>\n",
       "    </tr>\n",
       "    <tr>\n",
       "      <th>0.0010</th>\n",
       "      <td>0.699178</td>\n",
       "      <td>0.662338</td>\n",
       "      <td>0.664193</td>\n",
       "      <td>0.662200</td>\n",
       "      <td>0.733122</td>\n",
       "      <td>0.703364</td>\n",
       "      <td>0.702578</td>\n",
       "      <td>0.706235</td>\n",
       "      <td>20.0</td>\n",
       "      <td>1.0</td>\n",
       "      <td>1.0</td>\n",
       "      <td>45.333333</td>\n",
       "      <td>2.0</td>\n",
       "      <td>1.0</td>\n",
       "      <td>5.0</td>\n",
       "      <td>64.0</td>\n",
       "      <td>6.0</td>\n",
       "    </tr>\n",
       "    <tr>\n",
       "      <th rowspan=\"6\" valign=\"top\">300</th>\n",
       "      <th rowspan=\"3\" valign=\"top\">0.1</th>\n",
       "      <th>0.0001</th>\n",
       "      <td>0.649146</td>\n",
       "      <td>0.609655</td>\n",
       "      <td>0.613280</td>\n",
       "      <td>0.608639</td>\n",
       "      <td>0.693882</td>\n",
       "      <td>0.662074</td>\n",
       "      <td>0.664114</td>\n",
       "      <td>0.661748</td>\n",
       "      <td>20.0</td>\n",
       "      <td>1.0</td>\n",
       "      <td>1.0</td>\n",
       "      <td>45.333333</td>\n",
       "      <td>2.0</td>\n",
       "      <td>1.0</td>\n",
       "      <td>5.0</td>\n",
       "      <td>64.0</td>\n",
       "      <td>16.0</td>\n",
       "    </tr>\n",
       "    <tr>\n",
       "      <th>0.0005</th>\n",
       "      <td>0.696078</td>\n",
       "      <td>0.659120</td>\n",
       "      <td>0.660770</td>\n",
       "      <td>0.659050</td>\n",
       "      <td>0.729378</td>\n",
       "      <td>0.698251</td>\n",
       "      <td>0.697672</td>\n",
       "      <td>0.700357</td>\n",
       "      <td>20.0</td>\n",
       "      <td>1.0</td>\n",
       "      <td>1.0</td>\n",
       "      <td>45.333333</td>\n",
       "      <td>2.0</td>\n",
       "      <td>1.0</td>\n",
       "      <td>5.0</td>\n",
       "      <td>64.0</td>\n",
       "      <td>17.0</td>\n",
       "    </tr>\n",
       "    <tr>\n",
       "      <th>0.0010</th>\n",
       "      <td>0.698102</td>\n",
       "      <td>0.659558</td>\n",
       "      <td>0.663088</td>\n",
       "      <td>0.658252</td>\n",
       "      <td>0.731382</td>\n",
       "      <td>0.699679</td>\n",
       "      <td>0.701189</td>\n",
       "      <td>0.700124</td>\n",
       "      <td>20.0</td>\n",
       "      <td>1.0</td>\n",
       "      <td>1.0</td>\n",
       "      <td>45.333333</td>\n",
       "      <td>2.0</td>\n",
       "      <td>1.0</td>\n",
       "      <td>5.0</td>\n",
       "      <td>64.0</td>\n",
       "      <td>15.0</td>\n",
       "    </tr>\n",
       "    <tr>\n",
       "      <th rowspan=\"3\" valign=\"top\">0.5</th>\n",
       "      <th>0.0001</th>\n",
       "      <td>0.644845</td>\n",
       "      <td>0.604865</td>\n",
       "      <td>0.607585</td>\n",
       "      <td>0.604659</td>\n",
       "      <td>0.690823</td>\n",
       "      <td>0.659145</td>\n",
       "      <td>0.659900</td>\n",
       "      <td>0.660350</td>\n",
       "      <td>20.0</td>\n",
       "      <td>1.0</td>\n",
       "      <td>1.0</td>\n",
       "      <td>45.333333</td>\n",
       "      <td>2.0</td>\n",
       "      <td>1.0</td>\n",
       "      <td>5.0</td>\n",
       "      <td>64.0</td>\n",
       "      <td>13.0</td>\n",
       "    </tr>\n",
       "    <tr>\n",
       "      <th>0.0005</th>\n",
       "      <td>0.692347</td>\n",
       "      <td>0.652740</td>\n",
       "      <td>0.656084</td>\n",
       "      <td>0.651792</td>\n",
       "      <td>0.728534</td>\n",
       "      <td>0.697096</td>\n",
       "      <td>0.697229</td>\n",
       "      <td>0.698711</td>\n",
       "      <td>20.0</td>\n",
       "      <td>1.0</td>\n",
       "      <td>1.0</td>\n",
       "      <td>45.333333</td>\n",
       "      <td>2.0</td>\n",
       "      <td>1.0</td>\n",
       "      <td>5.0</td>\n",
       "      <td>64.0</td>\n",
       "      <td>14.0</td>\n",
       "    </tr>\n",
       "    <tr>\n",
       "      <th>0.0010</th>\n",
       "      <td>0.698039</td>\n",
       "      <td>0.659016</td>\n",
       "      <td>0.661033</td>\n",
       "      <td>0.658549</td>\n",
       "      <td>0.731065</td>\n",
       "      <td>0.700652</td>\n",
       "      <td>0.700489</td>\n",
       "      <td>0.702572</td>\n",
       "      <td>20.0</td>\n",
       "      <td>1.0</td>\n",
       "      <td>1.0</td>\n",
       "      <td>45.333333</td>\n",
       "      <td>2.0</td>\n",
       "      <td>1.0</td>\n",
       "      <td>5.0</td>\n",
       "      <td>64.0</td>\n",
       "      <td>12.0</td>\n",
       "    </tr>\n",
       "    <tr>\n",
       "      <th rowspan=\"6\" valign=\"top\">384</th>\n",
       "      <th rowspan=\"3\" valign=\"top\">0.1</th>\n",
       "      <th>0.0001</th>\n",
       "      <td>0.658950</td>\n",
       "      <td>0.620304</td>\n",
       "      <td>0.621108</td>\n",
       "      <td>0.620924</td>\n",
       "      <td>0.695464</td>\n",
       "      <td>0.662189</td>\n",
       "      <td>0.662692</td>\n",
       "      <td>0.663014</td>\n",
       "      <td>20.0</td>\n",
       "      <td>1.0</td>\n",
       "      <td>1.0</td>\n",
       "      <td>45.333333</td>\n",
       "      <td>2.0</td>\n",
       "      <td>1.0</td>\n",
       "      <td>5.0</td>\n",
       "      <td>64.0</td>\n",
       "      <td>22.0</td>\n",
       "    </tr>\n",
       "    <tr>\n",
       "      <th>0.0005</th>\n",
       "      <td>0.693675</td>\n",
       "      <td>0.654710</td>\n",
       "      <td>0.655742</td>\n",
       "      <td>0.655269</td>\n",
       "      <td>0.728217</td>\n",
       "      <td>0.697178</td>\n",
       "      <td>0.696305</td>\n",
       "      <td>0.699665</td>\n",
       "      <td>20.0</td>\n",
       "      <td>1.0</td>\n",
       "      <td>1.0</td>\n",
       "      <td>45.333333</td>\n",
       "      <td>2.0</td>\n",
       "      <td>1.0</td>\n",
       "      <td>5.0</td>\n",
       "      <td>64.0</td>\n",
       "      <td>23.0</td>\n",
       "    </tr>\n",
       "    <tr>\n",
       "      <th>0.0010</th>\n",
       "      <td>0.698355</td>\n",
       "      <td>0.659487</td>\n",
       "      <td>0.662186</td>\n",
       "      <td>0.658211</td>\n",
       "      <td>0.735812</td>\n",
       "      <td>0.705756</td>\n",
       "      <td>0.705042</td>\n",
       "      <td>0.707679</td>\n",
       "      <td>20.0</td>\n",
       "      <td>1.0</td>\n",
       "      <td>1.0</td>\n",
       "      <td>45.333333</td>\n",
       "      <td>2.0</td>\n",
       "      <td>1.0</td>\n",
       "      <td>5.0</td>\n",
       "      <td>64.0</td>\n",
       "      <td>21.0</td>\n",
       "    </tr>\n",
       "    <tr>\n",
       "      <th rowspan=\"3\" valign=\"top\">0.5</th>\n",
       "      <th>0.0001</th>\n",
       "      <td>0.644972</td>\n",
       "      <td>0.607331</td>\n",
       "      <td>0.609884</td>\n",
       "      <td>0.609272</td>\n",
       "      <td>0.688186</td>\n",
       "      <td>0.656183</td>\n",
       "      <td>0.657009</td>\n",
       "      <td>0.659237</td>\n",
       "      <td>20.0</td>\n",
       "      <td>1.0</td>\n",
       "      <td>1.0</td>\n",
       "      <td>45.333333</td>\n",
       "      <td>2.0</td>\n",
       "      <td>1.0</td>\n",
       "      <td>5.0</td>\n",
       "      <td>64.0</td>\n",
       "      <td>19.0</td>\n",
       "    </tr>\n",
       "    <tr>\n",
       "      <th>0.0005</th>\n",
       "      <td>0.693548</td>\n",
       "      <td>0.655443</td>\n",
       "      <td>0.657774</td>\n",
       "      <td>0.654771</td>\n",
       "      <td>0.727057</td>\n",
       "      <td>0.695405</td>\n",
       "      <td>0.695556</td>\n",
       "      <td>0.696761</td>\n",
       "      <td>20.0</td>\n",
       "      <td>1.0</td>\n",
       "      <td>1.0</td>\n",
       "      <td>45.333333</td>\n",
       "      <td>2.0</td>\n",
       "      <td>1.0</td>\n",
       "      <td>5.0</td>\n",
       "      <td>64.0</td>\n",
       "      <td>20.0</td>\n",
       "    </tr>\n",
       "    <tr>\n",
       "      <th>0.0010</th>\n",
       "      <td>0.695003</td>\n",
       "      <td>0.656405</td>\n",
       "      <td>0.659890</td>\n",
       "      <td>0.655687</td>\n",
       "      <td>0.731118</td>\n",
       "      <td>0.700776</td>\n",
       "      <td>0.700505</td>\n",
       "      <td>0.702856</td>\n",
       "      <td>20.0</td>\n",
       "      <td>1.0</td>\n",
       "      <td>1.0</td>\n",
       "      <td>45.333333</td>\n",
       "      <td>2.0</td>\n",
       "      <td>1.0</td>\n",
       "      <td>5.0</td>\n",
       "      <td>64.0</td>\n",
       "      <td>18.0</td>\n",
       "    </tr>\n",
       "  </tbody>\n",
       "</table>\n",
       "</div>"
      ],
      "text/plain": [
       "                                       accuracy        f1  precision  \\\n",
       "hidden_dim dropout_rate learning_rate                                  \n",
       "100        0.1          0.0001         0.637318  0.597015   0.599630   \n",
       "                        0.0005         0.688425  0.650007   0.650828   \n",
       "                        0.0010         0.701139  0.665687   0.667653   \n",
       "           0.5          0.0001         0.636939  0.597718   0.600033   \n",
       "                        0.0005         0.684124  0.644626   0.647388   \n",
       "                        0.0010         0.696711  0.659085   0.660946   \n",
       "200        0.1          0.0001         0.644845  0.607110   0.607992   \n",
       "                        0.0005         0.696015  0.657824   0.658825   \n",
       "                        0.0010         0.694687  0.657890   0.659592   \n",
       "           0.5          0.0001         0.644023  0.603433   0.605458   \n",
       "                        0.0005         0.696458  0.657344   0.658687   \n",
       "                        0.0010         0.699178  0.662338   0.664193   \n",
       "300        0.1          0.0001         0.649146  0.609655   0.613280   \n",
       "                        0.0005         0.696078  0.659120   0.660770   \n",
       "                        0.0010         0.698102  0.659558   0.663088   \n",
       "           0.5          0.0001         0.644845  0.604865   0.607585   \n",
       "                        0.0005         0.692347  0.652740   0.656084   \n",
       "                        0.0010         0.698039  0.659016   0.661033   \n",
       "384        0.1          0.0001         0.658950  0.620304   0.621108   \n",
       "                        0.0005         0.693675  0.654710   0.655742   \n",
       "                        0.0010         0.698355  0.659487   0.662186   \n",
       "           0.5          0.0001         0.644972  0.607331   0.609884   \n",
       "                        0.0005         0.693548  0.655443   0.657774   \n",
       "                        0.0010         0.695003  0.656405   0.659890   \n",
       "\n",
       "                                         recall  valid_accuracy  valid_f1  \\\n",
       "hidden_dim dropout_rate learning_rate                                       \n",
       "100        0.1          0.0001         0.596691        0.682911  0.651049   \n",
       "                        0.0005         0.650461        0.724473  0.693701   \n",
       "                        0.0010         0.666581        0.732331  0.704217   \n",
       "           0.5          0.0001         0.598455        0.687922  0.657178   \n",
       "                        0.0005         0.643834        0.725158  0.694015   \n",
       "                        0.0010         0.659065        0.733175  0.703367   \n",
       "200        0.1          0.0001         0.608809        0.687025  0.654888   \n",
       "                        0.0005         0.658162        0.728903  0.698673   \n",
       "                        0.0010         0.658517        0.733650  0.704730   \n",
       "           0.5          0.0001         0.603947        0.684705  0.651817   \n",
       "                        0.0005         0.656986        0.727532  0.696161   \n",
       "                        0.0010         0.662200        0.733122  0.703364   \n",
       "300        0.1          0.0001         0.608639        0.693882  0.662074   \n",
       "                        0.0005         0.659050        0.729378  0.698251   \n",
       "                        0.0010         0.658252        0.731382  0.699679   \n",
       "           0.5          0.0001         0.604659        0.690823  0.659145   \n",
       "                        0.0005         0.651792        0.728534  0.697096   \n",
       "                        0.0010         0.658549        0.731065  0.700652   \n",
       "384        0.1          0.0001         0.620924        0.695464  0.662189   \n",
       "                        0.0005         0.655269        0.728217  0.697178   \n",
       "                        0.0010         0.658211        0.735812  0.705756   \n",
       "           0.5          0.0001         0.609272        0.688186  0.656183   \n",
       "                        0.0005         0.654771        0.727057  0.695405   \n",
       "                        0.0010         0.655687        0.731118  0.700776   \n",
       "\n",
       "                                       valid_precision  valid_recall     k  \\\n",
       "hidden_dim dropout_rate learning_rate                                        \n",
       "100        0.1          0.0001                0.650485      0.653225  20.0   \n",
       "                        0.0005                0.692281      0.696601  20.0   \n",
       "                        0.0010                0.703232      0.708813  20.0   \n",
       "           0.5          0.0001                0.656719      0.660430  20.0   \n",
       "                        0.0005                0.693945      0.695655  20.0   \n",
       "                        0.0010                0.702404      0.706243  20.0   \n",
       "200        0.1          0.0001                0.653751      0.657396  20.0   \n",
       "                        0.0005                0.697825      0.701502  20.0   \n",
       "                        0.0010                0.704284      0.708196  20.0   \n",
       "           0.5          0.0001                0.652259      0.653091  20.0   \n",
       "                        0.0005                0.695024      0.698455  20.0   \n",
       "                        0.0010                0.702578      0.706235  20.0   \n",
       "300        0.1          0.0001                0.664114      0.661748  20.0   \n",
       "                        0.0005                0.697672      0.700357  20.0   \n",
       "                        0.0010                0.701189      0.700124  20.0   \n",
       "           0.5          0.0001                0.659900      0.660350  20.0   \n",
       "                        0.0005                0.697229      0.698711  20.0   \n",
       "                        0.0010                0.700489      0.702572  20.0   \n",
       "384        0.1          0.0001                0.662692      0.663014  20.0   \n",
       "                        0.0005                0.696305      0.699665  20.0   \n",
       "                        0.0010                0.705042      0.707679  20.0   \n",
       "           0.5          0.0001                0.657009      0.659237  20.0   \n",
       "                        0.0005                0.695556      0.696761  20.0   \n",
       "                        0.0010                0.700505      0.702856  20.0   \n",
       "\n",
       "                                       num_layers  bidirectional       seed  \\\n",
       "hidden_dim dropout_rate learning_rate                                         \n",
       "100        0.1          0.0001                1.0            1.0  45.333333   \n",
       "                        0.0005                1.0            1.0  45.333333   \n",
       "                        0.0010                1.0            1.0  45.333333   \n",
       "           0.5          0.0001                1.0            1.0  45.333333   \n",
       "                        0.0005                1.0            1.0  45.333333   \n",
       "                        0.0010                1.0            1.0  45.333333   \n",
       "200        0.1          0.0001                1.0            1.0  45.333333   \n",
       "                        0.0005                1.0            1.0  45.333333   \n",
       "                        0.0010                1.0            1.0  45.333333   \n",
       "           0.5          0.0001                1.0            1.0  45.333333   \n",
       "                        0.0005                1.0            1.0  45.333333   \n",
       "                        0.0010                1.0            1.0  45.333333   \n",
       "300        0.1          0.0001                1.0            1.0  45.333333   \n",
       "                        0.0005                1.0            1.0  45.333333   \n",
       "                        0.0010                1.0            1.0  45.333333   \n",
       "           0.5          0.0001                1.0            1.0  45.333333   \n",
       "                        0.0005                1.0            1.0  45.333333   \n",
       "                        0.0010                1.0            1.0  45.333333   \n",
       "384        0.1          0.0001                1.0            1.0  45.333333   \n",
       "                        0.0005                1.0            1.0  45.333333   \n",
       "                        0.0010                1.0            1.0  45.333333   \n",
       "           0.5          0.0001                1.0            1.0  45.333333   \n",
       "                        0.0005                1.0            1.0  45.333333   \n",
       "                        0.0010                1.0            1.0  45.333333   \n",
       "\n",
       "                                       gamma  k_fold  n_splits  batch_size  \\\n",
       "hidden_dim dropout_rate learning_rate                                        \n",
       "100        0.1          0.0001           2.0     1.0       5.0        64.0   \n",
       "                        0.0005           2.0     1.0       5.0        64.0   \n",
       "                        0.0010           2.0     1.0       5.0        64.0   \n",
       "           0.5          0.0001           2.0     1.0       5.0        64.0   \n",
       "                        0.0005           2.0     1.0       5.0        64.0   \n",
       "                        0.0010           2.0     1.0       5.0        64.0   \n",
       "200        0.1          0.0001           2.0     1.0       5.0        64.0   \n",
       "                        0.0005           2.0     1.0       5.0        64.0   \n",
       "                        0.0010           2.0     1.0       5.0        64.0   \n",
       "           0.5          0.0001           2.0     1.0       5.0        64.0   \n",
       "                        0.0005           2.0     1.0       5.0        64.0   \n",
       "                        0.0010           2.0     1.0       5.0        64.0   \n",
       "300        0.1          0.0001           2.0     1.0       5.0        64.0   \n",
       "                        0.0005           2.0     1.0       5.0        64.0   \n",
       "                        0.0010           2.0     1.0       5.0        64.0   \n",
       "           0.5          0.0001           2.0     1.0       5.0        64.0   \n",
       "                        0.0005           2.0     1.0       5.0        64.0   \n",
       "                        0.0010           2.0     1.0       5.0        64.0   \n",
       "384        0.1          0.0001           2.0     1.0       5.0        64.0   \n",
       "                        0.0005           2.0     1.0       5.0        64.0   \n",
       "                        0.0010           2.0     1.0       5.0        64.0   \n",
       "           0.5          0.0001           2.0     1.0       5.0        64.0   \n",
       "                        0.0005           2.0     1.0       5.0        64.0   \n",
       "                        0.0010           2.0     1.0       5.0        64.0   \n",
       "\n",
       "                                       model_id  \n",
       "hidden_dim dropout_rate learning_rate            \n",
       "100        0.1          0.0001              4.0  \n",
       "                        0.0005              5.0  \n",
       "                        0.0010              3.0  \n",
       "           0.5          0.0001              1.0  \n",
       "                        0.0005              2.0  \n",
       "                        0.0010              0.0  \n",
       "200        0.1          0.0001             10.0  \n",
       "                        0.0005             11.0  \n",
       "                        0.0010              9.0  \n",
       "           0.5          0.0001              7.0  \n",
       "                        0.0005              8.0  \n",
       "                        0.0010              6.0  \n",
       "300        0.1          0.0001             16.0  \n",
       "                        0.0005             17.0  \n",
       "                        0.0010             15.0  \n",
       "           0.5          0.0001             13.0  \n",
       "                        0.0005             14.0  \n",
       "                        0.0010             12.0  \n",
       "384        0.1          0.0001             22.0  \n",
       "                        0.0005             23.0  \n",
       "                        0.0010             21.0  \n",
       "           0.5          0.0001             19.0  \n",
       "                        0.0005             20.0  \n",
       "                        0.0010             18.0  "
      ]
     },
     "execution_count": 9,
     "metadata": {},
     "output_type": "execute_result"
    }
   ],
   "source": [
    "bilstm_history_20_kfold.groupby([\"hidden_dim\", \"dropout_rate\", \"learning_rate\"]).mean()"
   ]
  },
  {
   "cell_type": "code",
   "execution_count": 10,
   "id": "8c1e8d48",
   "metadata": {},
   "outputs": [
    {
     "data": {
      "text/html": [
       "<div>\n",
       "<style scoped>\n",
       "    .dataframe tbody tr th:only-of-type {\n",
       "        vertical-align: middle;\n",
       "    }\n",
       "\n",
       "    .dataframe tbody tr th {\n",
       "        vertical-align: top;\n",
       "    }\n",
       "\n",
       "    .dataframe thead th {\n",
       "        text-align: right;\n",
       "    }\n",
       "</style>\n",
       "<table border=\"1\" class=\"dataframe\">\n",
       "  <thead>\n",
       "    <tr style=\"text-align: right;\">\n",
       "      <th></th>\n",
       "      <th>loss</th>\n",
       "      <th>accuracy</th>\n",
       "      <th>f1</th>\n",
       "      <th>f1_scores</th>\n",
       "      <th>precision</th>\n",
       "      <th>precision_scores</th>\n",
       "      <th>recall</th>\n",
       "      <th>recall_scores</th>\n",
       "      <th>valid_loss</th>\n",
       "      <th>valid_accuracy</th>\n",
       "      <th>...</th>\n",
       "      <th>bidirectional</th>\n",
       "      <th>hidden_dim</th>\n",
       "      <th>dropout_rate</th>\n",
       "      <th>learning_rate</th>\n",
       "      <th>seed</th>\n",
       "      <th>loss_function</th>\n",
       "      <th>gamma</th>\n",
       "      <th>k_fold</th>\n",
       "      <th>n_splits</th>\n",
       "      <th>batch_size</th>\n",
       "    </tr>\n",
       "  </thead>\n",
       "  <tbody>\n",
       "    <tr>\n",
       "      <th>0</th>\n",
       "      <td>None</td>\n",
       "      <td>0.696395</td>\n",
       "      <td>0.657426</td>\n",
       "      <td>[0.7137521222410866, 0.44778362133734034, 0.62...</td>\n",
       "      <td>0.659346</td>\n",
       "      <td>[0.725828729281768, 0.4508320726172466, 0.5977...</td>\n",
       "      <td>0.656555</td>\n",
       "      <td>[0.7020708082832331, 0.44477611940298506, 0.65...</td>\n",
       "      <td>None</td>\n",
       "      <td>0.733070</td>\n",
       "      <td>...</td>\n",
       "      <td>True</td>\n",
       "      <td>384</td>\n",
       "      <td>0.1</td>\n",
       "      <td>0.001</td>\n",
       "      <td>1</td>\n",
       "      <td>focal</td>\n",
       "      <td>2</td>\n",
       "      <td>True</td>\n",
       "      <td>5</td>\n",
       "      <td>64</td>\n",
       "    </tr>\n",
       "    <tr>\n",
       "      <th>0</th>\n",
       "      <td>None</td>\n",
       "      <td>0.702657</td>\n",
       "      <td>0.662972</td>\n",
       "      <td>[0.7219578518014955, 0.45351473922902497, 0.62...</td>\n",
       "      <td>0.664699</td>\n",
       "      <td>[0.7349480968858132, 0.45941807044410415, 0.60...</td>\n",
       "      <td>0.662002</td>\n",
       "      <td>[0.7094188376753507, 0.44776119402985076, 0.65...</td>\n",
       "      <td>None</td>\n",
       "      <td>0.739241</td>\n",
       "      <td>...</td>\n",
       "      <td>True</td>\n",
       "      <td>384</td>\n",
       "      <td>0.1</td>\n",
       "      <td>0.001</td>\n",
       "      <td>12</td>\n",
       "      <td>focal</td>\n",
       "      <td>2</td>\n",
       "      <td>True</td>\n",
       "      <td>5</td>\n",
       "      <td>64</td>\n",
       "    </tr>\n",
       "    <tr>\n",
       "      <th>0</th>\n",
       "      <td>None</td>\n",
       "      <td>0.696015</td>\n",
       "      <td>0.658061</td>\n",
       "      <td>[0.704483695652174, 0.45349730976172176, 0.626...</td>\n",
       "      <td>0.662512</td>\n",
       "      <td>[0.7166551485832757, 0.4675118858954041, 0.585...</td>\n",
       "      <td>0.656077</td>\n",
       "      <td>[0.6927187708750835, 0.44029850746268656, 0.67...</td>\n",
       "      <td>None</td>\n",
       "      <td>0.735127</td>\n",
       "      <td>...</td>\n",
       "      <td>True</td>\n",
       "      <td>384</td>\n",
       "      <td>0.1</td>\n",
       "      <td>0.001</td>\n",
       "      <td>123</td>\n",
       "      <td>focal</td>\n",
       "      <td>2</td>\n",
       "      <td>True</td>\n",
       "      <td>5</td>\n",
       "      <td>64</td>\n",
       "    </tr>\n",
       "  </tbody>\n",
       "</table>\n",
       "<p>3 rows × 27 columns</p>\n",
       "</div>"
      ],
      "text/plain": [
       "   loss  accuracy        f1  \\\n",
       "0  None  0.696395  0.657426   \n",
       "0  None  0.702657  0.662972   \n",
       "0  None  0.696015  0.658061   \n",
       "\n",
       "                                           f1_scores  precision  \\\n",
       "0  [0.7137521222410866, 0.44778362133734034, 0.62...   0.659346   \n",
       "0  [0.7219578518014955, 0.45351473922902497, 0.62...   0.664699   \n",
       "0  [0.704483695652174, 0.45349730976172176, 0.626...   0.662512   \n",
       "\n",
       "                                    precision_scores    recall  \\\n",
       "0  [0.725828729281768, 0.4508320726172466, 0.5977...  0.656555   \n",
       "0  [0.7349480968858132, 0.45941807044410415, 0.60...  0.662002   \n",
       "0  [0.7166551485832757, 0.4675118858954041, 0.585...  0.656077   \n",
       "\n",
       "                                       recall_scores valid_loss  \\\n",
       "0  [0.7020708082832331, 0.44477611940298506, 0.65...       None   \n",
       "0  [0.7094188376753507, 0.44776119402985076, 0.65...       None   \n",
       "0  [0.6927187708750835, 0.44029850746268656, 0.67...       None   \n",
       "\n",
       "   valid_accuracy  ...  bidirectional hidden_dim  dropout_rate learning_rate  \\\n",
       "0        0.733070  ...           True        384           0.1         0.001   \n",
       "0        0.739241  ...           True        384           0.1         0.001   \n",
       "0        0.735127  ...           True        384           0.1         0.001   \n",
       "\n",
       "   seed loss_function  gamma  k_fold  n_splits  batch_size  \n",
       "0     1         focal      2    True         5          64  \n",
       "0    12         focal      2    True         5          64  \n",
       "0   123         focal      2    True         5          64  \n",
       "\n",
       "[3 rows x 27 columns]"
      ]
     },
     "execution_count": 10,
     "metadata": {},
     "output_type": "execute_result"
    }
   ],
   "source": [
    "best_bilstm_history_20_kfold"
   ]
  },
  {
   "cell_type": "code",
   "execution_count": 11,
   "id": "45262587",
   "metadata": {},
   "outputs": [
    {
     "data": {
      "text/plain": [
       "0.6594865308186346"
      ]
     },
     "execution_count": 11,
     "metadata": {},
     "output_type": "execute_result"
    }
   ],
   "source": [
    "best_bilstm_history_20_kfold[\"f1\"].mean()"
   ]
  },
  {
   "cell_type": "code",
   "execution_count": 12,
   "id": "14eb79a3",
   "metadata": {},
   "outputs": [
    {
     "data": {
      "text/plain": [
       "0.6621856676013539"
      ]
     },
     "execution_count": 12,
     "metadata": {},
     "output_type": "execute_result"
    }
   ],
   "source": [
    "best_bilstm_history_20_kfold[\"precision\"].mean()"
   ]
  },
  {
   "cell_type": "code",
   "execution_count": 13,
   "id": "c79cae56",
   "metadata": {},
   "outputs": [
    {
     "data": {
      "text/plain": [
       "0.6582113701318494"
      ]
     },
     "execution_count": 13,
     "metadata": {},
     "output_type": "execute_result"
    }
   ],
   "source": [
    "best_bilstm_history_20_kfold[\"recall\"].mean()"
   ]
  },
  {
   "cell_type": "code",
   "execution_count": 14,
   "id": "50b12a82",
   "metadata": {
    "scrolled": true
   },
   "outputs": [
    {
     "data": {
      "text/plain": [
       "array([0.71339789, 0.45159856, 0.62710085, 0.84584883])"
      ]
     },
     "execution_count": 14,
     "metadata": {},
     "output_type": "execute_result"
    }
   ],
   "source": [
    "np.stack(best_bilstm_history_20_kfold[\"f1_scores\"]).mean(axis=0)"
   ]
  },
  {
   "cell_type": "code",
   "execution_count": 15,
   "id": "0ab08d48",
   "metadata": {},
   "outputs": [
    {
     "data": {
      "text/plain": [
       "array([0.72581066, 0.45925401, 0.59578063, 0.86789737])"
      ]
     },
     "execution_count": 15,
     "metadata": {},
     "output_type": "execute_result"
    }
   ],
   "source": [
    "np.stack(best_bilstm_history_20_kfold[\"precision_scores\"]).mean(axis=0)"
   ]
  },
  {
   "cell_type": "code",
   "execution_count": 16,
   "id": "cdae8626",
   "metadata": {},
   "outputs": [
    {
     "data": {
      "text/plain": [
       "array([0.70140281, 0.44427861, 0.66212989, 0.82503417])"
      ]
     },
     "execution_count": 16,
     "metadata": {},
     "output_type": "execute_result"
    }
   ],
   "source": [
    "np.stack(best_bilstm_history_20_kfold[\"recall_scores\"]).mean(axis=0)"
   ]
  },
  {
   "cell_type": "markdown",
   "id": "f1c3d414",
   "metadata": {},
   "source": [
    "## `history_length=50`"
   ]
  },
  {
   "cell_type": "code",
   "execution_count": null,
   "id": "4d4c5c9b",
   "metadata": {},
   "outputs": [
    {
     "data": {
      "application/vnd.jupyter.widget-view+json": {
       "model_id": "745d2cf99ddd4a6ba60fa636dc7b051e",
       "version_major": 2,
       "version_minor": 0
      },
      "text/plain": [
       "  0%|          | 0/1 [00:00<?, ?it/s]"
      ]
     },
     "metadata": {},
     "output_type": "display_data"
    },
    {
     "name": "stdout",
     "output_type": "stream",
     "text": [
      "[INFO] Concatenating the embeddings to the dataframe...\n",
      "[INFO] - columns beginning with 'e' denote the full embddings.\n",
      "[INFO] Adding time feature columns into dataframe in `.df`.\n",
      "[INFO] Adding 'time_encoding' feature...\n",
      "[INFO] Adding 'time_diff' feature...\n",
      "[INFO] Adding 'timeline_index' feature...\n",
      "[INFO] Padding ids and storing in `.df_padded` and `.array_padded` attributes.\n"
     ]
    },
    {
     "data": {
      "application/vnd.jupyter.widget-view+json": {
       "model_id": "a6d9009ec7594f5387c82033665a5f57",
       "version_major": 2,
       "version_minor": 0
      },
      "text/plain": [
       "  0%|          | 0/9699 [00:00<?, ?it/s]"
      ]
     },
     "metadata": {},
     "output_type": "display_data"
    },
    {
     "data": {
      "application/vnd.jupyter.widget-view+json": {
       "model_id": "fd2e2865daed420d9ce3e291a4b4cdab",
       "version_major": 2,
       "version_minor": 0
      },
      "text/plain": [
       "  0%|          | 0/4 [00:00<?, ?it/s]"
      ]
     },
     "metadata": {},
     "output_type": "display_data"
    },
    {
     "data": {
      "application/vnd.jupyter.widget-view+json": {
       "model_id": "52e27dbc47784e9caadfa6898b3a7e21",
       "version_major": 2,
       "version_minor": 0
      },
      "text/plain": [
       "  0%|          | 0/2 [00:00<?, ?it/s]"
      ]
     },
     "metadata": {},
     "output_type": "display_data"
    },
    {
     "data": {
      "application/vnd.jupyter.widget-view+json": {
       "model_id": "696a497efe034cc0830b78cdc3836a64",
       "version_major": 2,
       "version_minor": 0
      },
      "text/plain": [
       "  0%|          | 0/3 [00:00<?, ?it/s]"
      ]
     },
     "metadata": {},
     "output_type": "display_data"
    },
    {
     "data": {
      "application/vnd.jupyter.widget-view+json": {
       "model_id": "16e1acf7bca9451784778a860148a615",
       "version_major": 2,
       "version_minor": 0
      },
      "text/plain": [
       "  0%|          | 0/3 [00:00<?, ?it/s]"
      ]
     },
     "metadata": {},
     "output_type": "display_data"
    }
   ],
   "source": [
    "size = 50\n",
    "(\n",
    "    bilstm_history_50_kfold,\n",
    "    best_bilstm_history_50_kfold,\n",
    "    _,\n",
    "    __,\n",
    ") = lstm_hyperparameter_search(\n",
    "    num_epochs=num_epochs,\n",
    "    df=anno_mi,\n",
    "    id_column=\"transcript_id\",\n",
    "    label_column=\"main_therapist_behaviour\",\n",
    "    embeddings=sbert_embeddings,\n",
    "    y_data=y_data_therapist,\n",
    "    output_dim=output_dim_therapist,\n",
    "    history_lengths=[size],\n",
    "    hidden_dim_sizes=hidden_dim_sizes,\n",
    "    num_layers=num_layers,\n",
    "    bidirectional=bidirectional,\n",
    "    dropout_rates=dropout_rates,\n",
    "    learning_rates=learning_rates,\n",
    "    seeds=seeds,\n",
    "    loss=loss,\n",
    "    gamma=gamma,\n",
    "    path_indices=therapist_index,\n",
    "    split_ids=therapist_transcript_id,\n",
    "    k_fold=True,\n",
    "    validation_metric=validation_metric,\n",
    "    results_output=f\"{output_dir}/lstm_history_{size}_focal_{gamma}_kfold.csv\",\n",
    "    verbose=False,\n",
    ")"
   ]
  },
  {
   "cell_type": "code",
   "execution_count": null,
   "id": "dac6c4f4",
   "metadata": {},
   "outputs": [],
   "source": [
    "bilstm_history_50_kfold.groupby([\"hidden_dim\", \"dropout_rate\", \"learning_rate\"]).mean()"
   ]
  },
  {
   "cell_type": "code",
   "execution_count": null,
   "id": "86b9a028",
   "metadata": {},
   "outputs": [],
   "source": [
    "best_bilstm_history_50_kfold"
   ]
  },
  {
   "cell_type": "code",
   "execution_count": null,
   "id": "d97ec1c8",
   "metadata": {},
   "outputs": [],
   "source": [
    "best_bilstm_history_50_kfold[\"f1\"].mean()"
   ]
  },
  {
   "cell_type": "code",
   "execution_count": null,
   "id": "6a574666",
   "metadata": {},
   "outputs": [],
   "source": [
    "best_bilstm_history_50_kfold[\"precision\"].mean()"
   ]
  },
  {
   "cell_type": "code",
   "execution_count": null,
   "id": "0fc99397",
   "metadata": {},
   "outputs": [],
   "source": [
    "best_bilstm_history_50_kfold[\"recall\"].mean()"
   ]
  },
  {
   "cell_type": "code",
   "execution_count": null,
   "id": "e64ad310",
   "metadata": {
    "scrolled": true
   },
   "outputs": [],
   "source": [
    "np.stack(best_bilstm_history_50_kfold[\"f1_scores\"]).mean(axis=0)"
   ]
  },
  {
   "cell_type": "code",
   "execution_count": null,
   "id": "4daab8de",
   "metadata": {},
   "outputs": [],
   "source": [
    "np.stack(best_bilstm_history_50_kfold[\"precision_scores\"]).mean(axis=0)"
   ]
  },
  {
   "cell_type": "code",
   "execution_count": null,
   "id": "d0f31438",
   "metadata": {},
   "outputs": [],
   "source": [
    "np.stack(best_bilstm_history_50_kfold[\"recall_scores\"]).mean(axis=0)"
   ]
  }
 ],
 "metadata": {
  "kernelspec": {
   "display_name": "nlpsig-networks (Conda)",
   "language": "python",
   "name": "sys_nlpsig-networks"
  },
  "language_info": {
   "codemirror_mode": {
    "name": "ipython",
    "version": 3
   },
   "file_extension": ".py",
   "mimetype": "text/x-python",
   "name": "python",
   "nbconvert_exporter": "python",
   "pygments_lexer": "ipython3",
   "version": "3.8.17"
  }
 },
 "nbformat": 4,
 "nbformat_minor": 5
}
