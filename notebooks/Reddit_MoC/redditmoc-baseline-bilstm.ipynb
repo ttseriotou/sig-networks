{
 "cells": [
  {
   "cell_type": "code",
   "execution_count": 1,
   "metadata": {},
   "outputs": [],
   "source": [
    "import pickle\n",
    "import numpy as np\n",
    "import pandas as pd\n",
    "import re\n",
    "\n",
    "seed = 2023"
   ]
  },
  {
   "cell_type": "code",
   "execution_count": 2,
   "metadata": {},
   "outputs": [
    {
     "data": {
      "text/plain": [
       "device(type='cuda')"
      ]
     },
     "execution_count": 2,
     "metadata": {},
     "output_type": "execute_result"
    }
   ],
   "source": [
    "import torch\n",
    "\n",
    "# set device\n",
    "device = torch.device(\"cuda\" if torch.cuda.is_available() else \"cpu\")\n",
    "device"
   ]
  },
  {
   "cell_type": "code",
   "execution_count": 3,
   "metadata": {},
   "outputs": [],
   "source": [
    "from nlpsig_networks.scripts.lstm_baseline_functions import lstm_hyperparameter_search"
   ]
  },
  {
   "cell_type": "code",
   "execution_count": 4,
   "metadata": {},
   "outputs": [],
   "source": [
    "output_dir = \"reddit_moc_output\"\n",
    "if not os.path.isdir(output_dir):\n",
    "    os.makedirs(output_dir)"
   ]
  },
  {
   "cell_type": "markdown",
   "metadata": {},
   "source": [
    "Reddit MoC"
   ]
  },
  {
   "cell_type": "code",
   "execution_count": 5,
   "metadata": {},
   "outputs": [],
   "source": [
    "%run load_redditmoc.py"
   ]
  },
  {
   "cell_type": "code",
   "execution_count": 6,
   "metadata": {},
   "outputs": [],
   "source": [
    "%run load_sbert-embeddings.py"
   ]
  },
  {
   "cell_type": "code",
   "execution_count": 7,
   "metadata": {},
   "outputs": [
    {
     "data": {
      "text/plain": [
       "torch.Size([6195, 384])"
      ]
     },
     "execution_count": 7,
     "metadata": {},
     "output_type": "execute_result"
    }
   ],
   "source": [
    "sbert_embeddings.shape"
   ]
  },
  {
   "cell_type": "markdown",
   "metadata": {},
   "source": [
    "Baseline: BiLSTM"
   ]
  },
  {
   "cell_type": "code",
   "execution_count": 8,
   "metadata": {},
   "outputs": [],
   "source": [
    "num_epochs = 100\n",
    "hidden_dim_sizes = [100, 200, 300, 384]\n",
    "num_layers = 1\n",
    "bidirectional = True\n",
    "dropout_rates = [0.5, 0.1]\n",
    "learning_rates = [1e-3, 1e-4, 5e-4]\n",
    "seeds = [1, 12, 123]\n",
    "loss = \"focal\"\n",
    "gamma = 2\n",
    "validation_metric = \"f1\"\n",
    "patience = 5\n",
    "split_indices = (\n",
    "    df[df[\"set\"] == \"train\"].index,\n",
    "    df[df[\"set\"] == \"dev\"].index,\n",
    "    df[df[\"set\"] == \"test\"].index,\n",
    ")"
   ]
  },
  {
   "cell_type": "code",
   "execution_count": 9,
   "metadata": {},
   "outputs": [
    {
     "data": {
      "application/vnd.jupyter.widget-view+json": {
       "model_id": "4ff21231b95f4fc4a5deafeaf10a2af8",
       "version_major": 2,
       "version_minor": 0
      },
      "text/plain": [
       "  0%|          | 0/1 [00:00<?, ?it/s]"
      ]
     },
     "metadata": {},
     "output_type": "display_data"
    },
    {
     "name": "stdout",
     "output_type": "stream",
     "text": [
      "[INFO] Concatenating the embeddings to the dataframe...\n",
      "[INFO] - columns beginning with 'e' denote the full embddings.\n",
      "[INFO] Adding time feature columns into dataframe in `.df`.\n",
      "[INFO] Adding 'time_encoding' feature...\n",
      "[INFO] Adding 'time_diff' feature...\n",
      "[INFO] Adding 'timeline_index' feature...\n",
      "[INFO] Padding ids and storing in `.df_padded` and `.array_padded` attributes.\n"
     ]
    },
    {
     "data": {
      "application/vnd.jupyter.widget-view+json": {
       "model_id": "dcdc6cffc5bc4fa8942d8f8500e3d40f",
       "version_major": 2,
       "version_minor": 0
      },
      "text/plain": [
       "  0%|          | 0/6195 [00:00<?, ?it/s]"
      ]
     },
     "metadata": {},
     "output_type": "display_data"
    },
    {
     "data": {
      "application/vnd.jupyter.widget-view+json": {
       "model_id": "ea1c123d256441e7a19061431a86c265",
       "version_major": 2,
       "version_minor": 0
      },
      "text/plain": [
       "  0%|          | 0/4 [00:00<?, ?it/s]"
      ]
     },
     "metadata": {},
     "output_type": "display_data"
    },
    {
     "data": {
      "application/vnd.jupyter.widget-view+json": {
       "model_id": "0ea692778bda479f9d3985df53d0f347",
       "version_major": 2,
       "version_minor": 0
      },
      "text/plain": [
       "  0%|          | 0/2 [00:00<?, ?it/s]"
      ]
     },
     "metadata": {},
     "output_type": "display_data"
    },
    {
     "data": {
      "application/vnd.jupyter.widget-view+json": {
       "model_id": "12fc53b055604669b452938141be0f0c",
       "version_major": 2,
       "version_minor": 0
      },
      "text/plain": [
       "  0%|          | 0/3 [00:00<?, ?it/s]"
      ]
     },
     "metadata": {},
     "output_type": "display_data"
    },
    {
     "data": {
      "application/vnd.jupyter.widget-view+json": {
       "model_id": "fa5dea83703645d3bd2666ab26a14124",
       "version_major": 2,
       "version_minor": 0
      },
      "text/plain": [
       "  0%|          | 0/3 [00:00<?, ?it/s]"
      ]
     },
     "metadata": {},
     "output_type": "display_data"
    },
    {
     "data": {
      "application/vnd.jupyter.widget-view+json": {
       "model_id": "a6329cc2587d454bb8e84f4b6cb741d0",
       "version_major": 2,
       "version_minor": 0
      },
      "text/plain": [
       "  0%|          | 0/2 [00:00<?, ?it/s]"
      ]
     },
     "metadata": {},
     "output_type": "display_data"
    },
    {
     "data": {
      "application/vnd.jupyter.widget-view+json": {
       "model_id": "6059bb00718e47a18a33067789a0a978",
       "version_major": 2,
       "version_minor": 0
      },
      "text/plain": [
       "  0%|          | 0/3 [00:00<?, ?it/s]"
      ]
     },
     "metadata": {},
     "output_type": "display_data"
    },
    {
     "data": {
      "application/vnd.jupyter.widget-view+json": {
       "model_id": "21e85617a7fe4c6d9106593d2d060f14",
       "version_major": 2,
       "version_minor": 0
      },
      "text/plain": [
       "  0%|          | 0/3 [00:00<?, ?it/s]"
      ]
     },
     "metadata": {},
     "output_type": "display_data"
    },
    {
     "data": {
      "application/vnd.jupyter.widget-view+json": {
       "model_id": "bc1c0b644df6480e8548eeedc98bcf18",
       "version_major": 2,
       "version_minor": 0
      },
      "text/plain": [
       "  0%|          | 0/2 [00:00<?, ?it/s]"
      ]
     },
     "metadata": {},
     "output_type": "display_data"
    },
    {
     "data": {
      "application/vnd.jupyter.widget-view+json": {
       "model_id": "1b63711a5f554608a4845d2befebf3cb",
       "version_major": 2,
       "version_minor": 0
      },
      "text/plain": [
       "  0%|          | 0/3 [00:00<?, ?it/s]"
      ]
     },
     "metadata": {},
     "output_type": "display_data"
    },
    {
     "data": {
      "application/vnd.jupyter.widget-view+json": {
       "model_id": "f1b38b1da3f74e54b3d16ab006ffa3d9",
       "version_major": 2,
       "version_minor": 0
      },
      "text/plain": [
       "  0%|          | 0/3 [00:00<?, ?it/s]"
      ]
     },
     "metadata": {},
     "output_type": "display_data"
    },
    {
     "data": {
      "application/vnd.jupyter.widget-view+json": {
       "model_id": "1e584f6fdd944e0ea6fe04c1be898571",
       "version_major": 2,
       "version_minor": 0
      },
      "text/plain": [
       "  0%|          | 0/2 [00:00<?, ?it/s]"
      ]
     },
     "metadata": {},
     "output_type": "display_data"
    },
    {
     "data": {
      "application/vnd.jupyter.widget-view+json": {
       "model_id": "8a50d87e2d424d6ab17180b8d8bb6aa8",
       "version_major": 2,
       "version_minor": 0
      },
      "text/plain": [
       "  0%|          | 0/3 [00:00<?, ?it/s]"
      ]
     },
     "metadata": {},
     "output_type": "display_data"
    },
    {
     "data": {
      "application/vnd.jupyter.widget-view+json": {
       "model_id": "7ba755c7394e4936b3376d0823adae8f",
       "version_major": 2,
       "version_minor": 0
      },
      "text/plain": [
       "  0%|          | 0/3 [00:00<?, ?it/s]"
      ]
     },
     "metadata": {},
     "output_type": "display_data"
    },
    {
     "name": "stdout",
     "output_type": "stream",
     "text": [
      "saving results dataframe to CSV for this hyperparameter search in reddit_moc_output/lstm_history_20_focal_2.csv\n",
      "saving the best model results dataframe to CSV for this hyperparameter search in reddit_moc_output/lstm_history_20_focal_2_best_model.csv\n"
     ]
    }
   ],
   "source": [
    "size = 20\n",
    "bilstm_history_20, best_bilstm_history_20, _, __ = lstm_hyperparameter_search(\n",
    "    num_epochs=num_epochs,\n",
    "    df=df,\n",
    "    id_column=\"timeline_id\",\n",
    "    label_column=\"label\",\n",
    "    embeddings=sbert_embeddings,\n",
    "    y_data=y_data,\n",
    "    history_lengths=[size],\n",
    "    hidden_dim_sizes=hidden_dim_sizes,\n",
    "    num_layers=num_layers,\n",
    "    bidirectional=bidirectional,\n",
    "    output_dim=output_dim,\n",
    "    dropout_rates=dropout_rates,\n",
    "    learning_rates=learning_rates,\n",
    "    seeds=seeds,\n",
    "    loss=loss,\n",
    "    gamma=gamma,\n",
    "    device=device,\n",
    "    path_indices=None,\n",
    "    split_ids=None,\n",
    "    split_indices=split_indices,\n",
    "    k_fold=False,\n",
    "    patience=patience,\n",
    "    validation_metric=validation_metric,\n",
    "    results_output=f\"{output_dir}/lstm_history_{size}_focal_{gamma}.csv\",\n",
    "    verbose=False,\n",
    ")"
   ]
  },
  {
   "cell_type": "code",
   "execution_count": 10,
   "metadata": {},
   "outputs": [
    {
     "data": {
      "text/html": [
       "<div>\n",
       "<style scoped>\n",
       "    .dataframe tbody tr th:only-of-type {\n",
       "        vertical-align: middle;\n",
       "    }\n",
       "\n",
       "    .dataframe tbody tr th {\n",
       "        vertical-align: top;\n",
       "    }\n",
       "\n",
       "    .dataframe thead th {\n",
       "        text-align: right;\n",
       "    }\n",
       "</style>\n",
       "<table border=\"1\" class=\"dataframe\">\n",
       "  <thead>\n",
       "    <tr style=\"text-align: right;\">\n",
       "      <th></th>\n",
       "      <th>loss</th>\n",
       "      <th>accuracy</th>\n",
       "      <th>f1</th>\n",
       "      <th>f1_scores</th>\n",
       "      <th>precision</th>\n",
       "      <th>precision_scores</th>\n",
       "      <th>recall</th>\n",
       "      <th>recall_scores</th>\n",
       "      <th>valid_loss</th>\n",
       "      <th>valid_accuracy</th>\n",
       "      <th>...</th>\n",
       "      <th>hidden_dim</th>\n",
       "      <th>dropout_rate</th>\n",
       "      <th>learning_rate</th>\n",
       "      <th>seed</th>\n",
       "      <th>loss_function</th>\n",
       "      <th>gamma</th>\n",
       "      <th>k_fold</th>\n",
       "      <th>n_splits</th>\n",
       "      <th>batch_size</th>\n",
       "      <th>model_id</th>\n",
       "    </tr>\n",
       "  </thead>\n",
       "  <tbody>\n",
       "    <tr>\n",
       "      <th>0</th>\n",
       "      <td>0.495664</td>\n",
       "      <td>0.796578</td>\n",
       "      <td>0.621688</td>\n",
       "      <td>[0.8935361216730039, 0.5403899721448469, 0.431...</td>\n",
       "      <td>0.643295</td>\n",
       "      <td>[0.8639705882352942, 0.6423841059602649, 0.423...</td>\n",
       "      <td>0.610189</td>\n",
       "      <td>[0.9251968503937008, 0.46634615384615385, 0.43...</td>\n",
       "      <td>0.285237</td>\n",
       "      <td>0.892601</td>\n",
       "      <td>...</td>\n",
       "      <td>100</td>\n",
       "      <td>0.5</td>\n",
       "      <td>0.0010</td>\n",
       "      <td>1</td>\n",
       "      <td>focal</td>\n",
       "      <td>2</td>\n",
       "      <td>False</td>\n",
       "      <td>None</td>\n",
       "      <td>64</td>\n",
       "      <td>0</td>\n",
       "    </tr>\n",
       "    <tr>\n",
       "      <th>0</th>\n",
       "      <td>0.444055</td>\n",
       "      <td>0.799430</td>\n",
       "      <td>0.613302</td>\n",
       "      <td>[0.8947024198822761, 0.6067415730337079, 0.338...</td>\n",
       "      <td>0.639913</td>\n",
       "      <td>[0.8917861799217731, 0.569620253164557, 0.4583...</td>\n",
       "      <td>0.604990</td>\n",
       "      <td>[0.8976377952755905, 0.6490384615384616, 0.268...</td>\n",
       "      <td>0.286182</td>\n",
       "      <td>0.873508</td>\n",
       "      <td>...</td>\n",
       "      <td>100</td>\n",
       "      <td>0.5</td>\n",
       "      <td>0.0010</td>\n",
       "      <td>12</td>\n",
       "      <td>focal</td>\n",
       "      <td>2</td>\n",
       "      <td>False</td>\n",
       "      <td>None</td>\n",
       "      <td>64</td>\n",
       "      <td>0</td>\n",
       "    </tr>\n",
       "    <tr>\n",
       "      <th>0</th>\n",
       "      <td>0.539311</td>\n",
       "      <td>0.797529</td>\n",
       "      <td>0.628515</td>\n",
       "      <td>[0.8928800513149455, 0.5684210526315789, 0.424...</td>\n",
       "      <td>0.640956</td>\n",
       "      <td>[0.8732747804265998, 0.627906976744186, 0.4216...</td>\n",
       "      <td>0.619815</td>\n",
       "      <td>[0.9133858267716536, 0.5192307692307693, 0.426...</td>\n",
       "      <td>0.294716</td>\n",
       "      <td>0.881464</td>\n",
       "      <td>...</td>\n",
       "      <td>100</td>\n",
       "      <td>0.5</td>\n",
       "      <td>0.0010</td>\n",
       "      <td>123</td>\n",
       "      <td>focal</td>\n",
       "      <td>2</td>\n",
       "      <td>False</td>\n",
       "      <td>None</td>\n",
       "      <td>64</td>\n",
       "      <td>0</td>\n",
       "    </tr>\n",
       "    <tr>\n",
       "      <th>0</th>\n",
       "      <td>0.537754</td>\n",
       "      <td>0.788023</td>\n",
       "      <td>0.596051</td>\n",
       "      <td>[0.8880407124681933, 0.5517241379310345, 0.348...</td>\n",
       "      <td>0.615659</td>\n",
       "      <td>[0.8617283950617284, 0.6153846153846154, 0.369...</td>\n",
       "      <td>0.581760</td>\n",
       "      <td>[0.916010498687664, 0.5, 0.32926829268292684]</td>\n",
       "      <td>0.291374</td>\n",
       "      <td>0.888624</td>\n",
       "      <td>...</td>\n",
       "      <td>100</td>\n",
       "      <td>0.5</td>\n",
       "      <td>0.0001</td>\n",
       "      <td>1</td>\n",
       "      <td>focal</td>\n",
       "      <td>2</td>\n",
       "      <td>False</td>\n",
       "      <td>None</td>\n",
       "      <td>64</td>\n",
       "      <td>1</td>\n",
       "    </tr>\n",
       "    <tr>\n",
       "      <th>0</th>\n",
       "      <td>0.525584</td>\n",
       "      <td>0.791825</td>\n",
       "      <td>0.611774</td>\n",
       "      <td>[0.8884615384615385, 0.5677749360613811, 0.379...</td>\n",
       "      <td>0.627810</td>\n",
       "      <td>[0.868421052631579, 0.6065573770491803, 0.4084...</td>\n",
       "      <td>0.598920</td>\n",
       "      <td>[0.9094488188976378, 0.5336538461538461, 0.353...</td>\n",
       "      <td>0.300413</td>\n",
       "      <td>0.889419</td>\n",
       "      <td>...</td>\n",
       "      <td>100</td>\n",
       "      <td>0.5</td>\n",
       "      <td>0.0001</td>\n",
       "      <td>12</td>\n",
       "      <td>focal</td>\n",
       "      <td>2</td>\n",
       "      <td>False</td>\n",
       "      <td>None</td>\n",
       "      <td>64</td>\n",
       "      <td>1</td>\n",
       "    </tr>\n",
       "    <tr>\n",
       "      <th>...</th>\n",
       "      <td>...</td>\n",
       "      <td>...</td>\n",
       "      <td>...</td>\n",
       "      <td>...</td>\n",
       "      <td>...</td>\n",
       "      <td>...</td>\n",
       "      <td>...</td>\n",
       "      <td>...</td>\n",
       "      <td>...</td>\n",
       "      <td>...</td>\n",
       "      <td>...</td>\n",
       "      <td>...</td>\n",
       "      <td>...</td>\n",
       "      <td>...</td>\n",
       "      <td>...</td>\n",
       "      <td>...</td>\n",
       "      <td>...</td>\n",
       "      <td>...</td>\n",
       "      <td>...</td>\n",
       "      <td>...</td>\n",
       "      <td>...</td>\n",
       "    </tr>\n",
       "    <tr>\n",
       "      <th>0</th>\n",
       "      <td>0.509773</td>\n",
       "      <td>0.788023</td>\n",
       "      <td>0.607569</td>\n",
       "      <td>[0.8813341885824246, 0.5837563451776651, 0.357...</td>\n",
       "      <td>0.623855</td>\n",
       "      <td>[0.8619824341279799, 0.6182795698924731, 0.391...</td>\n",
       "      <td>0.594576</td>\n",
       "      <td>[0.9015748031496063, 0.5528846153846154, 0.329...</td>\n",
       "      <td>0.308067</td>\n",
       "      <td>0.876691</td>\n",
       "      <td>...</td>\n",
       "      <td>384</td>\n",
       "      <td>0.1</td>\n",
       "      <td>0.0001</td>\n",
       "      <td>12</td>\n",
       "      <td>focal</td>\n",
       "      <td>2</td>\n",
       "      <td>False</td>\n",
       "      <td>None</td>\n",
       "      <td>64</td>\n",
       "      <td>22</td>\n",
       "    </tr>\n",
       "    <tr>\n",
       "      <th>0</th>\n",
       "      <td>0.577531</td>\n",
       "      <td>0.787072</td>\n",
       "      <td>0.611055</td>\n",
       "      <td>[0.8837508028259473, 0.5729442970822282, 0.376...</td>\n",
       "      <td>0.622699</td>\n",
       "      <td>[0.8654088050314466, 0.6390532544378699, 0.363...</td>\n",
       "      <td>0.604121</td>\n",
       "      <td>[0.9028871391076115, 0.5192307692307693, 0.390...</td>\n",
       "      <td>0.412106</td>\n",
       "      <td>0.873508</td>\n",
       "      <td>...</td>\n",
       "      <td>384</td>\n",
       "      <td>0.1</td>\n",
       "      <td>0.0001</td>\n",
       "      <td>123</td>\n",
       "      <td>focal</td>\n",
       "      <td>2</td>\n",
       "      <td>False</td>\n",
       "      <td>None</td>\n",
       "      <td>64</td>\n",
       "      <td>22</td>\n",
       "    </tr>\n",
       "    <tr>\n",
       "      <th>0</th>\n",
       "      <td>0.535387</td>\n",
       "      <td>0.799430</td>\n",
       "      <td>0.614936</td>\n",
       "      <td>[0.8991060025542784, 0.5653333333333334, 0.380...</td>\n",
       "      <td>0.631023</td>\n",
       "      <td>[0.8756218905472637, 0.6347305389221557, 0.382...</td>\n",
       "      <td>0.603850</td>\n",
       "      <td>[0.9238845144356955, 0.5096153846153846, 0.378...</td>\n",
       "      <td>0.308646</td>\n",
       "      <td>0.887033</td>\n",
       "      <td>...</td>\n",
       "      <td>384</td>\n",
       "      <td>0.1</td>\n",
       "      <td>0.0005</td>\n",
       "      <td>1</td>\n",
       "      <td>focal</td>\n",
       "      <td>2</td>\n",
       "      <td>False</td>\n",
       "      <td>None</td>\n",
       "      <td>64</td>\n",
       "      <td>23</td>\n",
       "    </tr>\n",
       "    <tr>\n",
       "      <th>0</th>\n",
       "      <td>0.489781</td>\n",
       "      <td>0.801331</td>\n",
       "      <td>0.616318</td>\n",
       "      <td>[0.8972081218274112, 0.5676392572944297, 0.384...</td>\n",
       "      <td>0.640659</td>\n",
       "      <td>[0.8685503685503686, 0.6331360946745562, 0.420...</td>\n",
       "      <td>0.598634</td>\n",
       "      <td>[0.9278215223097113, 0.5144230769230769, 0.353...</td>\n",
       "      <td>0.287183</td>\n",
       "      <td>0.891806</td>\n",
       "      <td>...</td>\n",
       "      <td>384</td>\n",
       "      <td>0.1</td>\n",
       "      <td>0.0005</td>\n",
       "      <td>12</td>\n",
       "      <td>focal</td>\n",
       "      <td>2</td>\n",
       "      <td>False</td>\n",
       "      <td>None</td>\n",
       "      <td>64</td>\n",
       "      <td>23</td>\n",
       "    </tr>\n",
       "    <tr>\n",
       "      <th>0</th>\n",
       "      <td>0.503300</td>\n",
       "      <td>0.787072</td>\n",
       "      <td>0.599566</td>\n",
       "      <td>[0.8903225806451612, 0.5583756345177665, 0.350...</td>\n",
       "      <td>0.608669</td>\n",
       "      <td>[0.8756345177664975, 0.5913978494623656, 0.358...</td>\n",
       "      <td>0.591940</td>\n",
       "      <td>[0.905511811023622, 0.5288461538461539, 0.3414...</td>\n",
       "      <td>0.295013</td>\n",
       "      <td>0.872713</td>\n",
       "      <td>...</td>\n",
       "      <td>384</td>\n",
       "      <td>0.1</td>\n",
       "      <td>0.0005</td>\n",
       "      <td>123</td>\n",
       "      <td>focal</td>\n",
       "      <td>2</td>\n",
       "      <td>False</td>\n",
       "      <td>None</td>\n",
       "      <td>64</td>\n",
       "      <td>23</td>\n",
       "    </tr>\n",
       "  </tbody>\n",
       "</table>\n",
       "<p>72 rows × 29 columns</p>\n",
       "</div>"
      ],
      "text/plain": [
       "        loss  accuracy        f1  \\\n",
       "0   0.495664  0.796578  0.621688   \n",
       "0   0.444055  0.799430  0.613302   \n",
       "0   0.539311  0.797529  0.628515   \n",
       "0   0.537754  0.788023  0.596051   \n",
       "0   0.525584  0.791825  0.611774   \n",
       "..       ...       ...       ...   \n",
       "0   0.509773  0.788023  0.607569   \n",
       "0   0.577531  0.787072  0.611055   \n",
       "0   0.535387  0.799430  0.614936   \n",
       "0   0.489781  0.801331  0.616318   \n",
       "0   0.503300  0.787072  0.599566   \n",
       "\n",
       "                                            f1_scores  precision  \\\n",
       "0   [0.8935361216730039, 0.5403899721448469, 0.431...   0.643295   \n",
       "0   [0.8947024198822761, 0.6067415730337079, 0.338...   0.639913   \n",
       "0   [0.8928800513149455, 0.5684210526315789, 0.424...   0.640956   \n",
       "0   [0.8880407124681933, 0.5517241379310345, 0.348...   0.615659   \n",
       "0   [0.8884615384615385, 0.5677749360613811, 0.379...   0.627810   \n",
       "..                                                ...        ...   \n",
       "0   [0.8813341885824246, 0.5837563451776651, 0.357...   0.623855   \n",
       "0   [0.8837508028259473, 0.5729442970822282, 0.376...   0.622699   \n",
       "0   [0.8991060025542784, 0.5653333333333334, 0.380...   0.631023   \n",
       "0   [0.8972081218274112, 0.5676392572944297, 0.384...   0.640659   \n",
       "0   [0.8903225806451612, 0.5583756345177665, 0.350...   0.608669   \n",
       "\n",
       "                                     precision_scores    recall  \\\n",
       "0   [0.8639705882352942, 0.6423841059602649, 0.423...  0.610189   \n",
       "0   [0.8917861799217731, 0.569620253164557, 0.4583...  0.604990   \n",
       "0   [0.8732747804265998, 0.627906976744186, 0.4216...  0.619815   \n",
       "0   [0.8617283950617284, 0.6153846153846154, 0.369...  0.581760   \n",
       "0   [0.868421052631579, 0.6065573770491803, 0.4084...  0.598920   \n",
       "..                                                ...       ...   \n",
       "0   [0.8619824341279799, 0.6182795698924731, 0.391...  0.594576   \n",
       "0   [0.8654088050314466, 0.6390532544378699, 0.363...  0.604121   \n",
       "0   [0.8756218905472637, 0.6347305389221557, 0.382...  0.603850   \n",
       "0   [0.8685503685503686, 0.6331360946745562, 0.420...  0.598634   \n",
       "0   [0.8756345177664975, 0.5913978494623656, 0.358...  0.591940   \n",
       "\n",
       "                                        recall_scores  valid_loss  \\\n",
       "0   [0.9251968503937008, 0.46634615384615385, 0.43...    0.285237   \n",
       "0   [0.8976377952755905, 0.6490384615384616, 0.268...    0.286182   \n",
       "0   [0.9133858267716536, 0.5192307692307693, 0.426...    0.294716   \n",
       "0       [0.916010498687664, 0.5, 0.32926829268292684]    0.291374   \n",
       "0   [0.9094488188976378, 0.5336538461538461, 0.353...    0.300413   \n",
       "..                                                ...         ...   \n",
       "0   [0.9015748031496063, 0.5528846153846154, 0.329...    0.308067   \n",
       "0   [0.9028871391076115, 0.5192307692307693, 0.390...    0.412106   \n",
       "0   [0.9238845144356955, 0.5096153846153846, 0.378...    0.308646   \n",
       "0   [0.9278215223097113, 0.5144230769230769, 0.353...    0.287183   \n",
       "0   [0.905511811023622, 0.5288461538461539, 0.3414...    0.295013   \n",
       "\n",
       "    valid_accuracy  ...  hidden_dim dropout_rate  learning_rate seed  \\\n",
       "0         0.892601  ...         100          0.5         0.0010    1   \n",
       "0         0.873508  ...         100          0.5         0.0010   12   \n",
       "0         0.881464  ...         100          0.5         0.0010  123   \n",
       "0         0.888624  ...         100          0.5         0.0001    1   \n",
       "0         0.889419  ...         100          0.5         0.0001   12   \n",
       "..             ...  ...         ...          ...            ...  ...   \n",
       "0         0.876691  ...         384          0.1         0.0001   12   \n",
       "0         0.873508  ...         384          0.1         0.0001  123   \n",
       "0         0.887033  ...         384          0.1         0.0005    1   \n",
       "0         0.891806  ...         384          0.1         0.0005   12   \n",
       "0         0.872713  ...         384          0.1         0.0005  123   \n",
       "\n",
       "    loss_function gamma  k_fold  n_splits  batch_size  model_id  \n",
       "0           focal     2   False      None          64         0  \n",
       "0           focal     2   False      None          64         0  \n",
       "0           focal     2   False      None          64         0  \n",
       "0           focal     2   False      None          64         1  \n",
       "0           focal     2   False      None          64         1  \n",
       "..            ...   ...     ...       ...         ...       ...  \n",
       "0           focal     2   False      None          64        22  \n",
       "0           focal     2   False      None          64        22  \n",
       "0           focal     2   False      None          64        23  \n",
       "0           focal     2   False      None          64        23  \n",
       "0           focal     2   False      None          64        23  \n",
       "\n",
       "[72 rows x 29 columns]"
      ]
     },
     "execution_count": 10,
     "metadata": {},
     "output_type": "execute_result"
    }
   ],
   "source": [
    "bilstm_history_20"
   ]
  },
  {
   "cell_type": "code",
   "execution_count": 11,
   "metadata": {},
   "outputs": [
    {
     "data": {
      "text/html": [
       "<div>\n",
       "<style scoped>\n",
       "    .dataframe tbody tr th:only-of-type {\n",
       "        vertical-align: middle;\n",
       "    }\n",
       "\n",
       "    .dataframe tbody tr th {\n",
       "        vertical-align: top;\n",
       "    }\n",
       "\n",
       "    .dataframe thead th {\n",
       "        text-align: right;\n",
       "    }\n",
       "</style>\n",
       "<table border=\"1\" class=\"dataframe\">\n",
       "  <thead>\n",
       "    <tr style=\"text-align: right;\">\n",
       "      <th></th>\n",
       "      <th>loss</th>\n",
       "      <th>accuracy</th>\n",
       "      <th>f1</th>\n",
       "      <th>f1_scores</th>\n",
       "      <th>precision</th>\n",
       "      <th>precision_scores</th>\n",
       "      <th>recall</th>\n",
       "      <th>recall_scores</th>\n",
       "      <th>valid_loss</th>\n",
       "      <th>valid_accuracy</th>\n",
       "      <th>...</th>\n",
       "      <th>bidirectional</th>\n",
       "      <th>hidden_dim</th>\n",
       "      <th>dropout_rate</th>\n",
       "      <th>learning_rate</th>\n",
       "      <th>seed</th>\n",
       "      <th>loss_function</th>\n",
       "      <th>gamma</th>\n",
       "      <th>k_fold</th>\n",
       "      <th>n_splits</th>\n",
       "      <th>batch_size</th>\n",
       "    </tr>\n",
       "  </thead>\n",
       "  <tbody>\n",
       "    <tr>\n",
       "      <th>0</th>\n",
       "      <td>0.537754</td>\n",
       "      <td>0.788023</td>\n",
       "      <td>0.596051</td>\n",
       "      <td>[0.8880407124681933, 0.5517241379310345, 0.348...</td>\n",
       "      <td>0.615659</td>\n",
       "      <td>[0.8617283950617284, 0.6153846153846154, 0.369...</td>\n",
       "      <td>0.581760</td>\n",
       "      <td>[0.916010498687664, 0.5, 0.32926829268292684]</td>\n",
       "      <td>0.291374</td>\n",
       "      <td>0.888624</td>\n",
       "      <td>...</td>\n",
       "      <td>True</td>\n",
       "      <td>100</td>\n",
       "      <td>0.5</td>\n",
       "      <td>0.0001</td>\n",
       "      <td>1</td>\n",
       "      <td>focal</td>\n",
       "      <td>2</td>\n",
       "      <td>False</td>\n",
       "      <td>None</td>\n",
       "      <td>64</td>\n",
       "    </tr>\n",
       "    <tr>\n",
       "      <th>0</th>\n",
       "      <td>0.525584</td>\n",
       "      <td>0.791825</td>\n",
       "      <td>0.611774</td>\n",
       "      <td>[0.8884615384615385, 0.5677749360613811, 0.379...</td>\n",
       "      <td>0.627810</td>\n",
       "      <td>[0.868421052631579, 0.6065573770491803, 0.4084...</td>\n",
       "      <td>0.598920</td>\n",
       "      <td>[0.9094488188976378, 0.5336538461538461, 0.353...</td>\n",
       "      <td>0.300413</td>\n",
       "      <td>0.889419</td>\n",
       "      <td>...</td>\n",
       "      <td>True</td>\n",
       "      <td>100</td>\n",
       "      <td>0.5</td>\n",
       "      <td>0.0001</td>\n",
       "      <td>12</td>\n",
       "      <td>focal</td>\n",
       "      <td>2</td>\n",
       "      <td>False</td>\n",
       "      <td>None</td>\n",
       "      <td>64</td>\n",
       "    </tr>\n",
       "    <tr>\n",
       "      <th>0</th>\n",
       "      <td>0.541034</td>\n",
       "      <td>0.788973</td>\n",
       "      <td>0.615309</td>\n",
       "      <td>[0.8864516129032258, 0.5692307692307692, 0.390...</td>\n",
       "      <td>0.623987</td>\n",
       "      <td>[0.8718274111675127, 0.6098901098901099, 0.390...</td>\n",
       "      <td>0.608491</td>\n",
       "      <td>[0.9015748031496063, 0.5336538461538461, 0.390...</td>\n",
       "      <td>0.294212</td>\n",
       "      <td>0.888624</td>\n",
       "      <td>...</td>\n",
       "      <td>True</td>\n",
       "      <td>100</td>\n",
       "      <td>0.5</td>\n",
       "      <td>0.0001</td>\n",
       "      <td>123</td>\n",
       "      <td>focal</td>\n",
       "      <td>2</td>\n",
       "      <td>False</td>\n",
       "      <td>None</td>\n",
       "      <td>64</td>\n",
       "    </tr>\n",
       "  </tbody>\n",
       "</table>\n",
       "<p>3 rows × 27 columns</p>\n",
       "</div>"
      ],
      "text/plain": [
       "       loss  accuracy        f1  \\\n",
       "0  0.537754  0.788023  0.596051   \n",
       "0  0.525584  0.791825  0.611774   \n",
       "0  0.541034  0.788973  0.615309   \n",
       "\n",
       "                                           f1_scores  precision  \\\n",
       "0  [0.8880407124681933, 0.5517241379310345, 0.348...   0.615659   \n",
       "0  [0.8884615384615385, 0.5677749360613811, 0.379...   0.627810   \n",
       "0  [0.8864516129032258, 0.5692307692307692, 0.390...   0.623987   \n",
       "\n",
       "                                    precision_scores    recall  \\\n",
       "0  [0.8617283950617284, 0.6153846153846154, 0.369...  0.581760   \n",
       "0  [0.868421052631579, 0.6065573770491803, 0.4084...  0.598920   \n",
       "0  [0.8718274111675127, 0.6098901098901099, 0.390...  0.608491   \n",
       "\n",
       "                                       recall_scores  valid_loss  \\\n",
       "0      [0.916010498687664, 0.5, 0.32926829268292684]    0.291374   \n",
       "0  [0.9094488188976378, 0.5336538461538461, 0.353...    0.300413   \n",
       "0  [0.9015748031496063, 0.5336538461538461, 0.390...    0.294212   \n",
       "\n",
       "   valid_accuracy  ...  bidirectional hidden_dim  dropout_rate learning_rate  \\\n",
       "0        0.888624  ...           True        100           0.5        0.0001   \n",
       "0        0.889419  ...           True        100           0.5        0.0001   \n",
       "0        0.888624  ...           True        100           0.5        0.0001   \n",
       "\n",
       "   seed loss_function  gamma  k_fold  n_splits  batch_size  \n",
       "0     1         focal      2   False      None          64  \n",
       "0    12         focal      2   False      None          64  \n",
       "0   123         focal      2   False      None          64  \n",
       "\n",
       "[3 rows x 27 columns]"
      ]
     },
     "execution_count": 11,
     "metadata": {},
     "output_type": "execute_result"
    }
   ],
   "source": [
    "best_bilstm_history_20"
   ]
  },
  {
   "cell_type": "code",
   "execution_count": 12,
   "metadata": {},
   "outputs": [
    {
     "data": {
      "text/plain": [
       "0.6077110748432913"
      ]
     },
     "execution_count": 12,
     "metadata": {},
     "output_type": "execute_result"
    }
   ],
   "source": [
    "best_bilstm_history_20[\"f1\"].mean()"
   ]
  },
  {
   "cell_type": "code",
   "execution_count": 14,
   "metadata": {},
   "outputs": [
    {
     "data": {
      "text/plain": [
       "array([0.88765129, 0.56290995, 0.37257199])"
      ]
     },
     "execution_count": 14,
     "metadata": {},
     "output_type": "execute_result"
    }
   ],
   "source": [
    "np.stack(best_bilstm_history_20[\"f1_scores\"]).mean(axis=0)"
   ]
  },
  {
   "cell_type": "code",
   "execution_count": null,
   "metadata": {},
   "outputs": [],
   "source": []
  }
 ],
 "metadata": {
  "interpreter": {
   "hash": "b2013b70f5165546ff531eadcfc35b64307c3717f205ea3ff61fa34bab89c803"
  },
  "kernelspec": {
   "display_name": "Python 3.8.17 ('nlpsig-networks')",
   "language": "python",
   "name": "python3"
  },
  "language_info": {
   "codemirror_mode": {
    "name": "ipython",
    "version": 3
   },
   "file_extension": ".py",
   "mimetype": "text/x-python",
   "name": "python",
   "nbconvert_exporter": "python",
   "pygments_lexer": "ipython3",
   "version": "3.8.17"
  },
  "orig_nbformat": 4
 },
 "nbformat": 4,
 "nbformat_minor": 2
}
