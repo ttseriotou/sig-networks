{
 "cells": [
  {
   "cell_type": "code",
   "execution_count": 1,
   "metadata": {},
   "outputs": [],
   "source": [
    "import pickle\n",
    "import numpy as np\n",
    "import pandas as pd\n",
    "import re\n",
    "\n",
    "seed = 2023"
   ]
  },
  {
   "cell_type": "code",
   "execution_count": 2,
   "metadata": {},
   "outputs": [
    {
     "data": {
      "text/plain": [
       "device(type='cuda')"
      ]
     },
     "execution_count": 2,
     "metadata": {},
     "output_type": "execute_result"
    }
   ],
   "source": [
    "import torch\n",
    "\n",
    "# set device\n",
    "device = torch.device(\"cuda\" if torch.cuda.is_available() else \"cpu\")\n",
    "device"
   ]
  },
  {
   "cell_type": "code",
   "execution_count": 3,
   "metadata": {},
   "outputs": [],
   "source": [
    "from nlpsig_networks.scripts.swmhau_network_functions import (\n",
    "    swmhau_network_hyperparameter_search,\n",
    ")"
   ]
  },
  {
   "cell_type": "code",
   "execution_count": 4,
   "metadata": {},
   "outputs": [],
   "source": [
    "output_dir = \"reddit_moc_output\"\n",
    "if not os.path.isdir(output_dir):\n",
    "    os.makedirs(output_dir)"
   ]
  },
  {
   "cell_type": "markdown",
   "metadata": {},
   "source": [
    "Reddit MoC"
   ]
  },
  {
   "cell_type": "code",
   "execution_count": 5,
   "metadata": {},
   "outputs": [],
   "source": [
    "%run load_redditmoc.py"
   ]
  },
  {
   "cell_type": "code",
   "execution_count": 6,
   "metadata": {},
   "outputs": [],
   "source": [
    "%run load_sbert-embeddings.py"
   ]
  },
  {
   "cell_type": "code",
   "execution_count": 7,
   "metadata": {},
   "outputs": [
    {
     "data": {
      "text/plain": [
       "torch.Size([6195, 384])"
      ]
     },
     "execution_count": 7,
     "metadata": {},
     "output_type": "execute_result"
    }
   ],
   "source": [
    "sbert_embeddings.shape"
   ]
  },
  {
   "cell_type": "markdown",
   "metadata": {},
   "source": [
    "swmhau Network"
   ]
  },
  {
   "cell_type": "code",
   "execution_count": 8,
   "metadata": {},
   "outputs": [],
   "source": [
    "features = [\"time_encoding\"]  # [\"time_encoding\", \"timeline_index\"]\n",
    "standardise_method = [\"z_score\"]  # [\"z_score\", None]\n",
    "num_features = len(features)\n",
    "add_time_in_path = False"
   ]
  },
  {
   "cell_type": "code",
   "execution_count": 9,
   "metadata": {},
   "outputs": [],
   "source": [
    "num_epochs = 100\n",
    "embedding_dim = 384\n",
    "dimensions = [15]  # [50, 15]\n",
    "# define swmhau parameters: (output_channels, sig_depth, num_heads)\n",
    "swmhau_parameters = [(12, 3, 10), (8, 4, 6), (8, 4, 12)]\n",
    "num_layers = [1]\n",
    "ffn_hidden_dim_sizes = [[256, 256], [512, 512]]\n",
    "dropout_rates = [0.5, 0.1]\n",
    "learning_rates = [1e-3, 1e-4, 5e-4]\n",
    "seeds = [1, 12, 123]\n",
    "loss = \"focal\"\n",
    "gamma = 2\n",
    "validation_metric = \"f1\"\n",
    "patience = 5\n",
    "split_indices = (\n",
    "    df[df[\"set\"] == \"train\"].index,\n",
    "    df[df[\"set\"] == \"dev\"].index,\n",
    "    df[df[\"set\"] == \"test\"].index,\n",
    ")"
   ]
  },
  {
   "cell_type": "code",
   "execution_count": 10,
   "metadata": {},
   "outputs": [
    {
     "data": {
      "application/vnd.jupyter.widget-view+json": {
       "model_id": "ae0cf8f38c7046db833c056ef16867e7",
       "version_major": 2,
       "version_minor": 0
      },
      "text/plain": [
       "  0%|          | 0/1 [00:00<?, ?it/s]"
      ]
     },
     "metadata": {},
     "output_type": "display_data"
    },
    {
     "data": {
      "application/vnd.jupyter.widget-view+json": {
       "model_id": "38ad0663c39c48e68820aef49a01bad3",
       "version_major": 2,
       "version_minor": 0
      },
      "text/plain": [
       "  0%|          | 0/1 [00:00<?, ?it/s]"
      ]
     },
     "metadata": {},
     "output_type": "display_data"
    },
    {
     "data": {
      "application/vnd.jupyter.widget-view+json": {
       "model_id": "32a48d37e8254a4584ee4e0a17be043f",
       "version_major": 2,
       "version_minor": 0
      },
      "text/plain": [
       "  0%|          | 0/1 [00:00<?, ?it/s]"
      ]
     },
     "metadata": {},
     "output_type": "display_data"
    },
    {
     "name": "stdout",
     "output_type": "stream",
     "text": [
      "\n",
      "##################################################\n",
      "dimension: 15 | method: umap\n",
      "[INFO] Concatenating the embeddings to the dataframe...\n",
      "[INFO] - columns beginning with 'e' denote the full embddings.\n",
      "[INFO] - columns beginning with 'd' denote the dimension reduced embeddings.\n",
      "[INFO] Adding time feature columns into dataframe in `.df`.\n",
      "[INFO] Adding 'time_encoding' feature...\n",
      "[INFO] Adding 'time_diff' feature...\n",
      "[INFO] Adding 'timeline_index' feature...\n",
      "[INFO] Padding ids and storing in `.df_padded` and `.array_padded` attributes.\n"
     ]
    },
    {
     "data": {
      "application/vnd.jupyter.widget-view+json": {
       "model_id": "d5ce06e1cd4d4a3d91e6f7b7c997df41",
       "version_major": 2,
       "version_minor": 0
      },
      "text/plain": [
       "  0%|          | 0/6195 [00:00<?, ?it/s]"
      ]
     },
     "metadata": {},
     "output_type": "display_data"
    },
    {
     "name": "stdout",
     "output_type": "stream",
     "text": [
      "[INFO] The path was created for each item in the dataframe, by looking at its history, so to include embeddings in the FFN input, we concatenate the embeddings for each sentence / text.\n"
     ]
    },
    {
     "data": {
      "application/vnd.jupyter.widget-view+json": {
       "model_id": "d29c2284862d40438a68dc5e968ebe74",
       "version_major": 2,
       "version_minor": 0
      },
      "text/plain": [
       "  0%|          | 0/3 [00:00<?, ?it/s]"
      ]
     },
     "metadata": {},
     "output_type": "display_data"
    },
    {
     "data": {
      "application/vnd.jupyter.widget-view+json": {
       "model_id": "0dee2f7c0d024d6d822dbf9363f75e54",
       "version_major": 2,
       "version_minor": 0
      },
      "text/plain": [
       "  0%|          | 0/1 [00:00<?, ?it/s]"
      ]
     },
     "metadata": {},
     "output_type": "display_data"
    },
    {
     "data": {
      "application/vnd.jupyter.widget-view+json": {
       "model_id": "24f93f8e016149bf8db4ceedde4efe8a",
       "version_major": 2,
       "version_minor": 0
      },
      "text/plain": [
       "  0%|          | 0/2 [00:00<?, ?it/s]"
      ]
     },
     "metadata": {},
     "output_type": "display_data"
    },
    {
     "data": {
      "application/vnd.jupyter.widget-view+json": {
       "model_id": "eac05884a1af477e949627bef1ec2dd4",
       "version_major": 2,
       "version_minor": 0
      },
      "text/plain": [
       "  0%|          | 0/2 [00:00<?, ?it/s]"
      ]
     },
     "metadata": {},
     "output_type": "display_data"
    },
    {
     "data": {
      "application/vnd.jupyter.widget-view+json": {
       "model_id": "9ac5632cfb3c4f2daa270ce99f338e69",
       "version_major": 2,
       "version_minor": 0
      },
      "text/plain": [
       "  0%|          | 0/3 [00:00<?, ?it/s]"
      ]
     },
     "metadata": {},
     "output_type": "display_data"
    },
    {
     "data": {
      "application/vnd.jupyter.widget-view+json": {
       "model_id": "82a8f7827eaf463e9f93b7cac2cd5dac",
       "version_major": 2,
       "version_minor": 0
      },
      "text/plain": [
       "  0%|          | 0/3 [00:00<?, ?it/s]"
      ]
     },
     "metadata": {},
     "output_type": "display_data"
    },
    {
     "data": {
      "application/vnd.jupyter.widget-view+json": {
       "model_id": "38caa6c8d22f4d4abbc953b51f574392",
       "version_major": 2,
       "version_minor": 0
      },
      "text/plain": [
       "  0%|          | 0/2 [00:00<?, ?it/s]"
      ]
     },
     "metadata": {},
     "output_type": "display_data"
    },
    {
     "data": {
      "application/vnd.jupyter.widget-view+json": {
       "model_id": "786e139c625c40d293af8c1cdcd656e8",
       "version_major": 2,
       "version_minor": 0
      },
      "text/plain": [
       "  0%|          | 0/3 [00:00<?, ?it/s]"
      ]
     },
     "metadata": {},
     "output_type": "display_data"
    },
    {
     "data": {
      "application/vnd.jupyter.widget-view+json": {
       "model_id": "40ddd47c9c2644f780f8041bceab2b82",
       "version_major": 2,
       "version_minor": 0
      },
      "text/plain": [
       "  0%|          | 0/3 [00:00<?, ?it/s]"
      ]
     },
     "metadata": {},
     "output_type": "display_data"
    },
    {
     "data": {
      "application/vnd.jupyter.widget-view+json": {
       "model_id": "86ca895b6c054d5db59333fd6950283e",
       "version_major": 2,
       "version_minor": 0
      },
      "text/plain": [
       "  0%|          | 0/1 [00:00<?, ?it/s]"
      ]
     },
     "metadata": {},
     "output_type": "display_data"
    },
    {
     "data": {
      "application/vnd.jupyter.widget-view+json": {
       "model_id": "989deee80ac548198e8ea24f3d7ceac1",
       "version_major": 2,
       "version_minor": 0
      },
      "text/plain": [
       "  0%|          | 0/2 [00:00<?, ?it/s]"
      ]
     },
     "metadata": {},
     "output_type": "display_data"
    },
    {
     "data": {
      "application/vnd.jupyter.widget-view+json": {
       "model_id": "a33efd8f00d143dab8b58142b88114c8",
       "version_major": 2,
       "version_minor": 0
      },
      "text/plain": [
       "  0%|          | 0/2 [00:00<?, ?it/s]"
      ]
     },
     "metadata": {},
     "output_type": "display_data"
    },
    {
     "data": {
      "application/vnd.jupyter.widget-view+json": {
       "model_id": "f27b42c8418d44dd8bfcceed6842d884",
       "version_major": 2,
       "version_minor": 0
      },
      "text/plain": [
       "  0%|          | 0/3 [00:00<?, ?it/s]"
      ]
     },
     "metadata": {},
     "output_type": "display_data"
    },
    {
     "data": {
      "application/vnd.jupyter.widget-view+json": {
       "model_id": "f2cbd46c55b24587b08b3ffbdc7b0903",
       "version_major": 2,
       "version_minor": 0
      },
      "text/plain": [
       "  0%|          | 0/3 [00:00<?, ?it/s]"
      ]
     },
     "metadata": {},
     "output_type": "display_data"
    },
    {
     "data": {
      "application/vnd.jupyter.widget-view+json": {
       "model_id": "926e097573b14f76924ec62a1d7b3864",
       "version_major": 2,
       "version_minor": 0
      },
      "text/plain": [
       "  0%|          | 0/2 [00:00<?, ?it/s]"
      ]
     },
     "metadata": {},
     "output_type": "display_data"
    },
    {
     "data": {
      "application/vnd.jupyter.widget-view+json": {
       "model_id": "41970248182d4df9b50df6d9f71b910f",
       "version_major": 2,
       "version_minor": 0
      },
      "text/plain": [
       "  0%|          | 0/3 [00:00<?, ?it/s]"
      ]
     },
     "metadata": {},
     "output_type": "display_data"
    },
    {
     "data": {
      "application/vnd.jupyter.widget-view+json": {
       "model_id": "def674d671774b66bb8659fe8fbbbc70",
       "version_major": 2,
       "version_minor": 0
      },
      "text/plain": [
       "  0%|          | 0/3 [00:00<?, ?it/s]"
      ]
     },
     "metadata": {},
     "output_type": "display_data"
    },
    {
     "data": {
      "application/vnd.jupyter.widget-view+json": {
       "model_id": "ef746039a8b74c5ba02156e0c6f4ef5f",
       "version_major": 2,
       "version_minor": 0
      },
      "text/plain": [
       "  0%|          | 0/1 [00:00<?, ?it/s]"
      ]
     },
     "metadata": {},
     "output_type": "display_data"
    },
    {
     "data": {
      "application/vnd.jupyter.widget-view+json": {
       "model_id": "a60769351d3f4879a8ad21d93bb9ae91",
       "version_major": 2,
       "version_minor": 0
      },
      "text/plain": [
       "  0%|          | 0/2 [00:00<?, ?it/s]"
      ]
     },
     "metadata": {},
     "output_type": "display_data"
    },
    {
     "data": {
      "application/vnd.jupyter.widget-view+json": {
       "model_id": "996af957737b41e297aea75cbb6bbb38",
       "version_major": 2,
       "version_minor": 0
      },
      "text/plain": [
       "  0%|          | 0/2 [00:00<?, ?it/s]"
      ]
     },
     "metadata": {},
     "output_type": "display_data"
    },
    {
     "data": {
      "application/vnd.jupyter.widget-view+json": {
       "model_id": "467d449b7c02446e99a15fe3ffe24e26",
       "version_major": 2,
       "version_minor": 0
      },
      "text/plain": [
       "  0%|          | 0/3 [00:00<?, ?it/s]"
      ]
     },
     "metadata": {},
     "output_type": "display_data"
    },
    {
     "data": {
      "application/vnd.jupyter.widget-view+json": {
       "model_id": "779df7168c554acab8dc7c384cf19a9e",
       "version_major": 2,
       "version_minor": 0
      },
      "text/plain": [
       "  0%|          | 0/3 [00:00<?, ?it/s]"
      ]
     },
     "metadata": {},
     "output_type": "display_data"
    },
    {
     "data": {
      "application/vnd.jupyter.widget-view+json": {
       "model_id": "aef33a5d26de417a9d473ef9fad39d06",
       "version_major": 2,
       "version_minor": 0
      },
      "text/plain": [
       "  0%|          | 0/2 [00:00<?, ?it/s]"
      ]
     },
     "metadata": {},
     "output_type": "display_data"
    },
    {
     "data": {
      "application/vnd.jupyter.widget-view+json": {
       "model_id": "e1b923508f1a4a4aae002734071a49e0",
       "version_major": 2,
       "version_minor": 0
      },
      "text/plain": [
       "  0%|          | 0/3 [00:00<?, ?it/s]"
      ]
     },
     "metadata": {},
     "output_type": "display_data"
    },
    {
     "data": {
      "application/vnd.jupyter.widget-view+json": {
       "model_id": "7d02068562cb4c47839f08257097f084",
       "version_major": 2,
       "version_minor": 0
      },
      "text/plain": [
       "  0%|          | 0/3 [00:00<?, ?it/s]"
      ]
     },
     "metadata": {},
     "output_type": "display_data"
    },
    {
     "name": "stdout",
     "output_type": "stream",
     "text": [
      "[INFO] Concatenating the embeddings to the dataframe...\n",
      "[INFO] - columns beginning with 'e' denote the full embddings.\n",
      "[INFO] - columns beginning with 'd' denote the dimension reduced embeddings.\n",
      "[INFO] Adding time feature columns into dataframe in `.df`.\n",
      "[INFO] Adding 'time_encoding' feature...\n",
      "[INFO] Adding 'time_diff' feature...\n",
      "[INFO] Adding 'timeline_index' feature...\n",
      "[INFO] Padding ids and storing in `.df_padded` and `.array_padded` attributes.\n"
     ]
    },
    {
     "data": {
      "application/vnd.jupyter.widget-view+json": {
       "model_id": "e1d217ae721e449ba0a94e03cbb353e0",
       "version_major": 2,
       "version_minor": 0
      },
      "text/plain": [
       "  0%|          | 0/6195 [00:00<?, ?it/s]"
      ]
     },
     "metadata": {},
     "output_type": "display_data"
    },
    {
     "name": "stdout",
     "output_type": "stream",
     "text": [
      "[INFO] The path was created for each item in the dataframe, by looking at its history, so to include embeddings in the FFN input, we concatenate the embeddings for each sentence / text.\n",
      "saving results dataframe to CSV for this hyperparameter search in reddit_moc_output/swmhau_network_umap_focal_2_20.csv\n",
      "saving the best model results dataframe to CSV for this hyperparameter search in reddit_moc_output/swmhau_network_umap_focal_2_20_best_model.csv\n"
     ]
    }
   ],
   "source": [
    "size = 20\n",
    "(\n",
    "    swmhau_network_umap,\n",
    "    best_swmhau_network_umap,\n",
    "    _,\n",
    "    __,\n",
    ") = swmhau_network_hyperparameter_search(\n",
    "    num_epochs=num_epochs,\n",
    "    df=df,\n",
    "    id_column=\"timeline_id\",\n",
    "    label_column=\"label\",\n",
    "    embeddings=sbert_embeddings.numpy(),\n",
    "    y_data=y_data,\n",
    "    embedding_dim=embedding_dim,\n",
    "    output_dim=output_dim,\n",
    "    history_lengths=[size],\n",
    "    dim_reduce_methods=[\"umap\"],\n",
    "    dimensions=dimensions,\n",
    "    log_signature=True,\n",
    "    swmhau_parameters=swmhau_parameters,\n",
    "    num_layers=num_layers,\n",
    "    ffn_hidden_dim_sizes=ffn_hidden_dim_sizes,\n",
    "    dropout_rates=dropout_rates,\n",
    "    learning_rates=learning_rates,\n",
    "    seeds=seeds,\n",
    "    loss=loss,\n",
    "    gamma=gamma,\n",
    "    device=device,\n",
    "    split_indices=split_indices,\n",
    "    k_fold=False,\n",
    "    features=features,\n",
    "    standardise_method=standardise_method,\n",
    "    include_features_in_path=add_time_in_path,\n",
    "    patience=patience,\n",
    "    validation_metric=validation_metric,\n",
    "    results_output=f\"{output_dir}/swmhau_network_umap_focal_{gamma}_{size}.csv\",\n",
    "    verbose=False,\n",
    ")"
   ]
  },
  {
   "cell_type": "code",
   "execution_count": 11,
   "metadata": {},
   "outputs": [
    {
     "data": {
      "text/html": [
       "<div>\n",
       "<style scoped>\n",
       "    .dataframe tbody tr th:only-of-type {\n",
       "        vertical-align: middle;\n",
       "    }\n",
       "\n",
       "    .dataframe tbody tr th {\n",
       "        vertical-align: top;\n",
       "    }\n",
       "\n",
       "    .dataframe thead th {\n",
       "        text-align: right;\n",
       "    }\n",
       "</style>\n",
       "<table border=\"1\" class=\"dataframe\">\n",
       "  <thead>\n",
       "    <tr style=\"text-align: right;\">\n",
       "      <th></th>\n",
       "      <th>loss</th>\n",
       "      <th>accuracy</th>\n",
       "      <th>f1</th>\n",
       "      <th>f1_scores</th>\n",
       "      <th>precision</th>\n",
       "      <th>precision_scores</th>\n",
       "      <th>recall</th>\n",
       "      <th>recall_scores</th>\n",
       "      <th>valid_loss</th>\n",
       "      <th>valid_accuracy</th>\n",
       "      <th>...</th>\n",
       "      <th>seed</th>\n",
       "      <th>loss_function</th>\n",
       "      <th>gamma</th>\n",
       "      <th>k_fold</th>\n",
       "      <th>n_splits</th>\n",
       "      <th>augmentation_type</th>\n",
       "      <th>hidden_dim_aug</th>\n",
       "      <th>comb_method</th>\n",
       "      <th>batch_size</th>\n",
       "      <th>model_id</th>\n",
       "    </tr>\n",
       "  </thead>\n",
       "  <tbody>\n",
       "    <tr>\n",
       "      <th>0</th>\n",
       "      <td>0.490804</td>\n",
       "      <td>0.790875</td>\n",
       "      <td>0.597089</td>\n",
       "      <td>[0.9028871391076115, 0.5707317073170731, 0.317...</td>\n",
       "      <td>0.596304</td>\n",
       "      <td>[0.9028871391076115, 0.5792079207920792, 0.306...</td>\n",
       "      <td>0.598218</td>\n",
       "      <td>[0.9028871391076115, 0.5625, 0.32926829268292684]</td>\n",
       "      <td>0.291540</td>\n",
       "      <td>0.887033</td>\n",
       "      <td>...</td>\n",
       "      <td>1</td>\n",
       "      <td>focal</td>\n",
       "      <td>2</td>\n",
       "      <td>False</td>\n",
       "      <td>None</td>\n",
       "      <td>Conv1d</td>\n",
       "      <td>None</td>\n",
       "      <td>concatenation</td>\n",
       "      <td>64</td>\n",
       "      <td>0</td>\n",
       "    </tr>\n",
       "    <tr>\n",
       "      <th>0</th>\n",
       "      <td>0.471263</td>\n",
       "      <td>0.799430</td>\n",
       "      <td>0.620780</td>\n",
       "      <td>[0.9081433224755701, 0.576086956521739, 0.3781...</td>\n",
       "      <td>0.627836</td>\n",
       "      <td>[0.9016817593790427, 0.6625, 0.31932773109243695]</td>\n",
       "      <td>0.629243</td>\n",
       "      <td>[0.9146981627296588, 0.5096153846153846, 0.463...</td>\n",
       "      <td>0.298658</td>\n",
       "      <td>0.879873</td>\n",
       "      <td>...</td>\n",
       "      <td>12</td>\n",
       "      <td>focal</td>\n",
       "      <td>2</td>\n",
       "      <td>False</td>\n",
       "      <td>None</td>\n",
       "      <td>Conv1d</td>\n",
       "      <td>None</td>\n",
       "      <td>concatenation</td>\n",
       "      <td>64</td>\n",
       "      <td>0</td>\n",
       "    </tr>\n",
       "    <tr>\n",
       "      <th>0</th>\n",
       "      <td>0.487448</td>\n",
       "      <td>0.795627</td>\n",
       "      <td>0.580725</td>\n",
       "      <td>[0.8978246539222148, 0.6029723991507431, 0.241...</td>\n",
       "      <td>0.617892</td>\n",
       "      <td>[0.9019867549668874, 0.5399239543726235, 0.411...</td>\n",
       "      <td>0.582375</td>\n",
       "      <td>[0.8937007874015748, 0.6826923076923077, 0.170...</td>\n",
       "      <td>0.304794</td>\n",
       "      <td>0.881464</td>\n",
       "      <td>...</td>\n",
       "      <td>123</td>\n",
       "      <td>focal</td>\n",
       "      <td>2</td>\n",
       "      <td>False</td>\n",
       "      <td>None</td>\n",
       "      <td>Conv1d</td>\n",
       "      <td>None</td>\n",
       "      <td>concatenation</td>\n",
       "      <td>64</td>\n",
       "      <td>0</td>\n",
       "    </tr>\n",
       "    <tr>\n",
       "      <th>0</th>\n",
       "      <td>0.579060</td>\n",
       "      <td>0.768061</td>\n",
       "      <td>0.556837</td>\n",
       "      <td>[0.8815533980582524, 0.5257985257985257, 0.263...</td>\n",
       "      <td>0.564378</td>\n",
       "      <td>[0.8697318007662835, 0.5376884422110553, 0.285...</td>\n",
       "      <td>0.550675</td>\n",
       "      <td>[0.8937007874015748, 0.5144230769230769, 0.243...</td>\n",
       "      <td>0.329063</td>\n",
       "      <td>0.863962</td>\n",
       "      <td>...</td>\n",
       "      <td>1</td>\n",
       "      <td>focal</td>\n",
       "      <td>2</td>\n",
       "      <td>False</td>\n",
       "      <td>None</td>\n",
       "      <td>Conv1d</td>\n",
       "      <td>None</td>\n",
       "      <td>concatenation</td>\n",
       "      <td>64</td>\n",
       "      <td>1</td>\n",
       "    </tr>\n",
       "    <tr>\n",
       "      <th>0</th>\n",
       "      <td>0.604418</td>\n",
       "      <td>0.787072</td>\n",
       "      <td>0.607118</td>\n",
       "      <td>[0.8859934853420196, 0.5896805896805896, 0.345...</td>\n",
       "      <td>0.610902</td>\n",
       "      <td>[0.8796895213454075, 0.6030150753768844, 0.35]</td>\n",
       "      <td>0.603592</td>\n",
       "      <td>[0.8923884514435696, 0.5769230769230769, 0.341...</td>\n",
       "      <td>0.378108</td>\n",
       "      <td>0.857597</td>\n",
       "      <td>...</td>\n",
       "      <td>12</td>\n",
       "      <td>focal</td>\n",
       "      <td>2</td>\n",
       "      <td>False</td>\n",
       "      <td>None</td>\n",
       "      <td>Conv1d</td>\n",
       "      <td>None</td>\n",
       "      <td>concatenation</td>\n",
       "      <td>64</td>\n",
       "      <td>1</td>\n",
       "    </tr>\n",
       "    <tr>\n",
       "      <th>...</th>\n",
       "      <td>...</td>\n",
       "      <td>...</td>\n",
       "      <td>...</td>\n",
       "      <td>...</td>\n",
       "      <td>...</td>\n",
       "      <td>...</td>\n",
       "      <td>...</td>\n",
       "      <td>...</td>\n",
       "      <td>...</td>\n",
       "      <td>...</td>\n",
       "      <td>...</td>\n",
       "      <td>...</td>\n",
       "      <td>...</td>\n",
       "      <td>...</td>\n",
       "      <td>...</td>\n",
       "      <td>...</td>\n",
       "      <td>...</td>\n",
       "      <td>...</td>\n",
       "      <td>...</td>\n",
       "      <td>...</td>\n",
       "      <td>...</td>\n",
       "    </tr>\n",
       "    <tr>\n",
       "      <th>0</th>\n",
       "      <td>0.536365</td>\n",
       "      <td>0.769962</td>\n",
       "      <td>0.604913</td>\n",
       "      <td>[0.873144399460189, 0.5813449023861172, 0.3602...</td>\n",
       "      <td>0.598448</td>\n",
       "      <td>[0.8986111111111111, 0.5296442687747036, 0.367...</td>\n",
       "      <td>0.615657</td>\n",
       "      <td>[0.8490813648293963, 0.6442307692307693, 0.353...</td>\n",
       "      <td>0.356749</td>\n",
       "      <td>0.863962</td>\n",
       "      <td>...</td>\n",
       "      <td>12</td>\n",
       "      <td>focal</td>\n",
       "      <td>2</td>\n",
       "      <td>False</td>\n",
       "      <td>None</td>\n",
       "      <td>Conv1d</td>\n",
       "      <td>None</td>\n",
       "      <td>concatenation</td>\n",
       "      <td>64</td>\n",
       "      <td>34</td>\n",
       "    </tr>\n",
       "    <tr>\n",
       "      <th>0</th>\n",
       "      <td>0.491411</td>\n",
       "      <td>0.798479</td>\n",
       "      <td>0.625574</td>\n",
       "      <td>[0.8937007874015748, 0.6027397260273972, 0.380...</td>\n",
       "      <td>0.639205</td>\n",
       "      <td>[0.8937007874015748, 0.5739130434782609, 0.45]</td>\n",
       "      <td>0.619195</td>\n",
       "      <td>[0.8937007874015748, 0.6346153846153846, 0.329...</td>\n",
       "      <td>0.301468</td>\n",
       "      <td>0.871122</td>\n",
       "      <td>...</td>\n",
       "      <td>123</td>\n",
       "      <td>focal</td>\n",
       "      <td>2</td>\n",
       "      <td>False</td>\n",
       "      <td>None</td>\n",
       "      <td>Conv1d</td>\n",
       "      <td>None</td>\n",
       "      <td>concatenation</td>\n",
       "      <td>64</td>\n",
       "      <td>34</td>\n",
       "    </tr>\n",
       "    <tr>\n",
       "      <th>0</th>\n",
       "      <td>0.466332</td>\n",
       "      <td>0.782319</td>\n",
       "      <td>0.547712</td>\n",
       "      <td>[0.9033977348434377, 0.5968819599109132, 0.142...</td>\n",
       "      <td>0.542083</td>\n",
       "      <td>[0.9174560216508796, 0.5560165975103735, 0.152...</td>\n",
       "      <td>0.556047</td>\n",
       "      <td>[0.889763779527559, 0.6442307692307693, 0.1341...</td>\n",
       "      <td>0.313288</td>\n",
       "      <td>0.870326</td>\n",
       "      <td>...</td>\n",
       "      <td>1</td>\n",
       "      <td>focal</td>\n",
       "      <td>2</td>\n",
       "      <td>False</td>\n",
       "      <td>None</td>\n",
       "      <td>Conv1d</td>\n",
       "      <td>None</td>\n",
       "      <td>concatenation</td>\n",
       "      <td>64</td>\n",
       "      <td>35</td>\n",
       "    </tr>\n",
       "    <tr>\n",
       "      <th>0</th>\n",
       "      <td>0.463273</td>\n",
       "      <td>0.783270</td>\n",
       "      <td>0.592786</td>\n",
       "      <td>[0.9020116807268007, 0.5244956772334294, 0.351...</td>\n",
       "      <td>0.610143</td>\n",
       "      <td>[0.8921694480102695, 0.6546762589928058, 0.283...</td>\n",
       "      <td>0.604329</td>\n",
       "      <td>[0.9120734908136483, 0.4375, 0.4634146341463415]</td>\n",
       "      <td>0.277096</td>\n",
       "      <td>0.898170</td>\n",
       "      <td>...</td>\n",
       "      <td>12</td>\n",
       "      <td>focal</td>\n",
       "      <td>2</td>\n",
       "      <td>False</td>\n",
       "      <td>None</td>\n",
       "      <td>Conv1d</td>\n",
       "      <td>None</td>\n",
       "      <td>concatenation</td>\n",
       "      <td>64</td>\n",
       "      <td>35</td>\n",
       "    </tr>\n",
       "    <tr>\n",
       "      <th>0</th>\n",
       "      <td>0.498509</td>\n",
       "      <td>0.788023</td>\n",
       "      <td>0.583588</td>\n",
       "      <td>[0.9092088197146564, 0.536986301369863, 0.3045...</td>\n",
       "      <td>0.594597</td>\n",
       "      <td>[0.8987179487179487, 0.6242038216560509, 0.260...</td>\n",
       "      <td>0.585652</td>\n",
       "      <td>[0.9199475065616798, 0.47115384615384615, 0.36...</td>\n",
       "      <td>0.294088</td>\n",
       "      <td>0.877486</td>\n",
       "      <td>...</td>\n",
       "      <td>123</td>\n",
       "      <td>focal</td>\n",
       "      <td>2</td>\n",
       "      <td>False</td>\n",
       "      <td>None</td>\n",
       "      <td>Conv1d</td>\n",
       "      <td>None</td>\n",
       "      <td>concatenation</td>\n",
       "      <td>64</td>\n",
       "      <td>35</td>\n",
       "    </tr>\n",
       "  </tbody>\n",
       "</table>\n",
       "<p>108 rows × 43 columns</p>\n",
       "</div>"
      ],
      "text/plain": [
       "        loss  accuracy        f1  \\\n",
       "0   0.490804  0.790875  0.597089   \n",
       "0   0.471263  0.799430  0.620780   \n",
       "0   0.487448  0.795627  0.580725   \n",
       "0   0.579060  0.768061  0.556837   \n",
       "0   0.604418  0.787072  0.607118   \n",
       "..       ...       ...       ...   \n",
       "0   0.536365  0.769962  0.604913   \n",
       "0   0.491411  0.798479  0.625574   \n",
       "0   0.466332  0.782319  0.547712   \n",
       "0   0.463273  0.783270  0.592786   \n",
       "0   0.498509  0.788023  0.583588   \n",
       "\n",
       "                                            f1_scores  precision  \\\n",
       "0   [0.9028871391076115, 0.5707317073170731, 0.317...   0.596304   \n",
       "0   [0.9081433224755701, 0.576086956521739, 0.3781...   0.627836   \n",
       "0   [0.8978246539222148, 0.6029723991507431, 0.241...   0.617892   \n",
       "0   [0.8815533980582524, 0.5257985257985257, 0.263...   0.564378   \n",
       "0   [0.8859934853420196, 0.5896805896805896, 0.345...   0.610902   \n",
       "..                                                ...        ...   \n",
       "0   [0.873144399460189, 0.5813449023861172, 0.3602...   0.598448   \n",
       "0   [0.8937007874015748, 0.6027397260273972, 0.380...   0.639205   \n",
       "0   [0.9033977348434377, 0.5968819599109132, 0.142...   0.542083   \n",
       "0   [0.9020116807268007, 0.5244956772334294, 0.351...   0.610143   \n",
       "0   [0.9092088197146564, 0.536986301369863, 0.3045...   0.594597   \n",
       "\n",
       "                                     precision_scores    recall  \\\n",
       "0   [0.9028871391076115, 0.5792079207920792, 0.306...  0.598218   \n",
       "0   [0.9016817593790427, 0.6625, 0.31932773109243695]  0.629243   \n",
       "0   [0.9019867549668874, 0.5399239543726235, 0.411...  0.582375   \n",
       "0   [0.8697318007662835, 0.5376884422110553, 0.285...  0.550675   \n",
       "0      [0.8796895213454075, 0.6030150753768844, 0.35]  0.603592   \n",
       "..                                                ...       ...   \n",
       "0   [0.8986111111111111, 0.5296442687747036, 0.367...  0.615657   \n",
       "0      [0.8937007874015748, 0.5739130434782609, 0.45]  0.619195   \n",
       "0   [0.9174560216508796, 0.5560165975103735, 0.152...  0.556047   \n",
       "0   [0.8921694480102695, 0.6546762589928058, 0.283...  0.604329   \n",
       "0   [0.8987179487179487, 0.6242038216560509, 0.260...  0.585652   \n",
       "\n",
       "                                        recall_scores  valid_loss  \\\n",
       "0   [0.9028871391076115, 0.5625, 0.32926829268292684]    0.291540   \n",
       "0   [0.9146981627296588, 0.5096153846153846, 0.463...    0.298658   \n",
       "0   [0.8937007874015748, 0.6826923076923077, 0.170...    0.304794   \n",
       "0   [0.8937007874015748, 0.5144230769230769, 0.243...    0.329063   \n",
       "0   [0.8923884514435696, 0.5769230769230769, 0.341...    0.378108   \n",
       "..                                                ...         ...   \n",
       "0   [0.8490813648293963, 0.6442307692307693, 0.353...    0.356749   \n",
       "0   [0.8937007874015748, 0.6346153846153846, 0.329...    0.301468   \n",
       "0   [0.889763779527559, 0.6442307692307693, 0.1341...    0.313288   \n",
       "0    [0.9120734908136483, 0.4375, 0.4634146341463415]    0.277096   \n",
       "0   [0.9199475065616798, 0.47115384615384615, 0.36...    0.294088   \n",
       "\n",
       "    valid_accuracy  ...  seed loss_function  gamma k_fold  n_splits  \\\n",
       "0         0.887033  ...     1         focal      2  False      None   \n",
       "0         0.879873  ...    12         focal      2  False      None   \n",
       "0         0.881464  ...   123         focal      2  False      None   \n",
       "0         0.863962  ...     1         focal      2  False      None   \n",
       "0         0.857597  ...    12         focal      2  False      None   \n",
       "..             ...  ...   ...           ...    ...    ...       ...   \n",
       "0         0.863962  ...    12         focal      2  False      None   \n",
       "0         0.871122  ...   123         focal      2  False      None   \n",
       "0         0.870326  ...     1         focal      2  False      None   \n",
       "0         0.898170  ...    12         focal      2  False      None   \n",
       "0         0.877486  ...   123         focal      2  False      None   \n",
       "\n",
       "   augmentation_type  hidden_dim_aug    comb_method  batch_size model_id  \n",
       "0             Conv1d            None  concatenation          64        0  \n",
       "0             Conv1d            None  concatenation          64        0  \n",
       "0             Conv1d            None  concatenation          64        0  \n",
       "0             Conv1d            None  concatenation          64        1  \n",
       "0             Conv1d            None  concatenation          64        1  \n",
       "..               ...             ...            ...         ...      ...  \n",
       "0             Conv1d            None  concatenation          64       34  \n",
       "0             Conv1d            None  concatenation          64       34  \n",
       "0             Conv1d            None  concatenation          64       35  \n",
       "0             Conv1d            None  concatenation          64       35  \n",
       "0             Conv1d            None  concatenation          64       35  \n",
       "\n",
       "[108 rows x 43 columns]"
      ]
     },
     "execution_count": 11,
     "metadata": {},
     "output_type": "execute_result"
    }
   ],
   "source": [
    "swmhau_network_umap"
   ]
  },
  {
   "cell_type": "code",
   "execution_count": 14,
   "metadata": {},
   "outputs": [
    {
     "data": {
      "text/html": [
       "<div>\n",
       "<style scoped>\n",
       "    .dataframe tbody tr th:only-of-type {\n",
       "        vertical-align: middle;\n",
       "    }\n",
       "\n",
       "    .dataframe tbody tr th {\n",
       "        vertical-align: top;\n",
       "    }\n",
       "\n",
       "    .dataframe thead th {\n",
       "        text-align: right;\n",
       "    }\n",
       "</style>\n",
       "<table border=\"1\" class=\"dataframe\">\n",
       "  <thead>\n",
       "    <tr style=\"text-align: right;\">\n",
       "      <th></th>\n",
       "      <th>loss</th>\n",
       "      <th>accuracy</th>\n",
       "      <th>f1</th>\n",
       "      <th>f1_scores</th>\n",
       "      <th>precision</th>\n",
       "      <th>precision_scores</th>\n",
       "      <th>recall</th>\n",
       "      <th>recall_scores</th>\n",
       "      <th>valid_loss</th>\n",
       "      <th>valid_accuracy</th>\n",
       "      <th>...</th>\n",
       "      <th>learning_rate</th>\n",
       "      <th>seed</th>\n",
       "      <th>loss_function</th>\n",
       "      <th>gamma</th>\n",
       "      <th>k_fold</th>\n",
       "      <th>n_splits</th>\n",
       "      <th>augmentation_type</th>\n",
       "      <th>hidden_dim_aug</th>\n",
       "      <th>comb_method</th>\n",
       "      <th>batch_size</th>\n",
       "    </tr>\n",
       "  </thead>\n",
       "  <tbody>\n",
       "    <tr>\n",
       "      <th>0</th>\n",
       "      <td>0.479101</td>\n",
       "      <td>0.792776</td>\n",
       "      <td>0.632396</td>\n",
       "      <td>[0.8902116402116402, 0.6000000000000001, 0.406...</td>\n",
       "      <td>0.626854</td>\n",
       "      <td>[0.8973333333333333, 0.5943396226415094, 0.388...</td>\n",
       "      <td>0.638600</td>\n",
       "      <td>[0.8832020997375328, 0.6057692307692307, 0.426...</td>\n",
       "      <td>0.307332</td>\n",
       "      <td>0.882259</td>\n",
       "      <td>...</td>\n",
       "      <td>0.0001</td>\n",
       "      <td>1</td>\n",
       "      <td>focal</td>\n",
       "      <td>2</td>\n",
       "      <td>False</td>\n",
       "      <td>None</td>\n",
       "      <td>Conv1d</td>\n",
       "      <td>None</td>\n",
       "      <td>concatenation</td>\n",
       "      <td>64</td>\n",
       "    </tr>\n",
       "    <tr>\n",
       "      <th>0</th>\n",
       "      <td>0.531378</td>\n",
       "      <td>0.784221</td>\n",
       "      <td>0.613496</td>\n",
       "      <td>[0.8858267716535433, 0.5714285714285715, 0.383...</td>\n",
       "      <td>0.612636</td>\n",
       "      <td>[0.8858267716535433, 0.5756097560975609, 0.376...</td>\n",
       "      <td>0.614459</td>\n",
       "      <td>[0.8858267716535433, 0.5673076923076923, 0.390...</td>\n",
       "      <td>0.327268</td>\n",
       "      <td>0.878282</td>\n",
       "      <td>...</td>\n",
       "      <td>0.0001</td>\n",
       "      <td>12</td>\n",
       "      <td>focal</td>\n",
       "      <td>2</td>\n",
       "      <td>False</td>\n",
       "      <td>None</td>\n",
       "      <td>Conv1d</td>\n",
       "      <td>None</td>\n",
       "      <td>concatenation</td>\n",
       "      <td>64</td>\n",
       "    </tr>\n",
       "    <tr>\n",
       "      <th>0</th>\n",
       "      <td>0.500984</td>\n",
       "      <td>0.797529</td>\n",
       "      <td>0.598491</td>\n",
       "      <td>[0.8955797565663036, 0.5856079404466501, 0.314...</td>\n",
       "      <td>0.619761</td>\n",
       "      <td>[0.8748435544430538, 0.6051282051282051, 0.379...</td>\n",
       "      <td>0.584308</td>\n",
       "      <td>[0.9173228346456693, 0.5673076923076923, 0.268...</td>\n",
       "      <td>0.296446</td>\n",
       "      <td>0.883055</td>\n",
       "      <td>...</td>\n",
       "      <td>0.0001</td>\n",
       "      <td>123</td>\n",
       "      <td>focal</td>\n",
       "      <td>2</td>\n",
       "      <td>False</td>\n",
       "      <td>None</td>\n",
       "      <td>Conv1d</td>\n",
       "      <td>None</td>\n",
       "      <td>concatenation</td>\n",
       "      <td>64</td>\n",
       "    </tr>\n",
       "  </tbody>\n",
       "</table>\n",
       "<p>3 rows × 42 columns</p>\n",
       "</div>"
      ],
      "text/plain": [
       "       loss  accuracy        f1  \\\n",
       "0  0.479101  0.792776  0.632396   \n",
       "0  0.531378  0.784221  0.613496   \n",
       "0  0.500984  0.797529  0.598491   \n",
       "\n",
       "                                           f1_scores  precision  \\\n",
       "0  [0.8902116402116402, 0.6000000000000001, 0.406...   0.626854   \n",
       "0  [0.8858267716535433, 0.5714285714285715, 0.383...   0.612636   \n",
       "0  [0.8955797565663036, 0.5856079404466501, 0.314...   0.619761   \n",
       "\n",
       "                                    precision_scores    recall  \\\n",
       "0  [0.8973333333333333, 0.5943396226415094, 0.388...  0.638600   \n",
       "0  [0.8858267716535433, 0.5756097560975609, 0.376...  0.614459   \n",
       "0  [0.8748435544430538, 0.6051282051282051, 0.379...  0.584308   \n",
       "\n",
       "                                       recall_scores  valid_loss  \\\n",
       "0  [0.8832020997375328, 0.6057692307692307, 0.426...    0.307332   \n",
       "0  [0.8858267716535433, 0.5673076923076923, 0.390...    0.327268   \n",
       "0  [0.9173228346456693, 0.5673076923076923, 0.268...    0.296446   \n",
       "\n",
       "   valid_accuracy  ...  learning_rate seed  loss_function gamma  k_fold  \\\n",
       "0        0.882259  ...         0.0001    1          focal     2   False   \n",
       "0        0.878282  ...         0.0001   12          focal     2   False   \n",
       "0        0.883055  ...         0.0001  123          focal     2   False   \n",
       "\n",
       "  n_splits  augmentation_type  hidden_dim_aug    comb_method batch_size  \n",
       "0     None             Conv1d            None  concatenation         64  \n",
       "0     None             Conv1d            None  concatenation         64  \n",
       "0     None             Conv1d            None  concatenation         64  \n",
       "\n",
       "[3 rows x 42 columns]"
      ]
     },
     "execution_count": 14,
     "metadata": {},
     "output_type": "execute_result"
    }
   ],
   "source": [
    "best_swmhau_network_umap"
   ]
  },
  {
   "cell_type": "code",
   "execution_count": 15,
   "metadata": {},
   "outputs": [
    {
     "data": {
      "text/plain": [
       "0.6147945190791779"
      ]
     },
     "execution_count": 15,
     "metadata": {},
     "output_type": "execute_result"
    }
   ],
   "source": [
    "best_swmhau_network_umap[\"f1\"].mean()"
   ]
  },
  {
   "cell_type": "code",
   "execution_count": 16,
   "metadata": {},
   "outputs": [
    {
     "data": {
      "text/plain": [
       "array([0.89053939, 0.58567884, 0.36816533])"
      ]
     },
     "execution_count": 16,
     "metadata": {},
     "output_type": "execute_result"
    }
   ],
   "source": [
    "np.stack(best_swmhau_network_umap[\"f1_scores\"]).mean(axis=0)"
   ]
  },
  {
   "cell_type": "code",
   "execution_count": null,
   "metadata": {},
   "outputs": [],
   "source": []
  }
 ],
 "metadata": {
  "interpreter": {
   "hash": "b2013b70f5165546ff531eadcfc35b64307c3717f205ea3ff61fa34bab89c803"
  },
  "kernelspec": {
   "display_name": "Python 3.8.17 ('nlpsig-networks')",
   "language": "python",
   "name": "python3"
  },
  "language_info": {
   "codemirror_mode": {
    "name": "ipython",
    "version": 3
   },
   "file_extension": ".py",
   "mimetype": "text/x-python",
   "name": "python",
   "nbconvert_exporter": "python",
   "pygments_lexer": "ipython3",
   "version": "3.8.17"
  },
  "orig_nbformat": 4
 },
 "nbformat": 4,
 "nbformat_minor": 2
}
