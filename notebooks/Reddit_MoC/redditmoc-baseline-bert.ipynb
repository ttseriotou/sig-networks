{
 "cells": [
  {
   "cell_type": "code",
   "execution_count": 1,
   "metadata": {},
   "outputs": [],
   "source": [
    "import pickle\n",
    "import numpy as np\n",
    "import pandas as pd\n",
    "import re\n",
    "\n",
    "seed = 2023"
   ]
  },
  {
   "cell_type": "code",
   "execution_count": 2,
   "metadata": {},
   "outputs": [
    {
     "data": {
      "text/plain": [
       "device(type='cuda')"
      ]
     },
     "execution_count": 2,
     "metadata": {},
     "output_type": "execute_result"
    }
   ],
   "source": [
    "import torch\n",
    "\n",
    "# set device\n",
    "device = torch.device(\"cuda\" if torch.cuda.is_available() else \"cpu\")\n",
    "device"
   ]
  },
  {
   "cell_type": "code",
   "execution_count": 3,
   "metadata": {},
   "outputs": [],
   "source": [
    "import transformers\n",
    "\n",
    "# set to only report critical errors to avoid excessing logging\n",
    "transformers.utils.logging.set_verbosity(50)"
   ]
  },
  {
   "cell_type": "code",
   "execution_count": 4,
   "metadata": {},
   "outputs": [],
   "source": [
    "from nlpsig_networks.scripts.fine_tune_bert_classification import (\n",
    "    fine_tune_transformer_average_seed,\n",
    ")"
   ]
  },
  {
   "cell_type": "code",
   "execution_count": 5,
   "metadata": {},
   "outputs": [],
   "source": [
    "output_dir = \"reddit_moc_output\"\n",
    "if not os.path.isdir(output_dir):\n",
    "    os.makedirs(output_dir)"
   ]
  },
  {
   "cell_type": "markdown",
   "metadata": {},
   "source": [
    "Reddit MoC"
   ]
  },
  {
   "cell_type": "code",
   "execution_count": 6,
   "metadata": {},
   "outputs": [],
   "source": [
    "%run load_redditmoc.py"
   ]
  },
  {
   "cell_type": "code",
   "execution_count": 7,
   "metadata": {},
   "outputs": [],
   "source": [
    "%run load_sbert-embeddings.py"
   ]
  },
  {
   "cell_type": "code",
   "execution_count": 8,
   "metadata": {},
   "outputs": [
    {
     "data": {
      "text/plain": [
       "torch.Size([6195, 384])"
      ]
     },
     "execution_count": 8,
     "metadata": {},
     "output_type": "execute_result"
    }
   ],
   "source": [
    "sbert_embeddings.shape"
   ]
  },
  {
   "cell_type": "markdown",
   "metadata": {},
   "source": [
    "Baseline: Fine-tune BERT for classification"
   ]
  },
  {
   "cell_type": "code",
   "execution_count": 10,
   "metadata": {},
   "outputs": [],
   "source": [
    "num_epochs = 10\n",
    "seeds = [12]  # [1, 12, 123]\n",
    "loss = \"focal\"\n",
    "gamma = 2\n",
    "validation_metric = \"f1\"\n",
    "split_indices = (\n",
    "    df[df[\"set\"] == \"train\"].index,\n",
    "    df[df[\"set\"] == \"dev\"].index,\n",
    "    df[df[\"set\"] == \"test\"].index,\n",
    ")"
   ]
  },
  {
   "cell_type": "code",
   "execution_count": 14,
   "metadata": {},
   "outputs": [
    {
     "ename": "AttributeError",
     "evalue": "module 'torch' has no attribute 'frombuffer'",
     "output_type": "error",
     "traceback": [
      "\u001b[0;31m---------------------------------------------------------------------------\u001b[0m",
      "\u001b[0;31mAttributeError\u001b[0m                            Traceback (most recent call last)",
      "Cell \u001b[0;32mIn[14], line 1\u001b[0m\n\u001b[0;32m----> 1\u001b[0m bert_classifier \u001b[38;5;241m=\u001b[39m \u001b[43mfine_tune_transformer_average_seed\u001b[49m\u001b[43m(\u001b[49m\n\u001b[1;32m      2\u001b[0m \u001b[43m    \u001b[49m\u001b[43mnum_epochs\u001b[49m\u001b[38;5;241;43m=\u001b[39;49m\u001b[43mnum_epochs\u001b[49m\u001b[43m,\u001b[49m\n\u001b[1;32m      3\u001b[0m \u001b[43m    \u001b[49m\u001b[43mpretrained_model_name\u001b[49m\u001b[38;5;241;43m=\u001b[39;49m\u001b[38;5;124;43m\"\u001b[39;49m\u001b[38;5;124;43mbert-base-uncased\u001b[39;49m\u001b[38;5;124;43m\"\u001b[39;49m\u001b[43m,\u001b[49m\n\u001b[1;32m      4\u001b[0m \u001b[43m    \u001b[49m\u001b[43mdf\u001b[49m\u001b[38;5;241;43m=\u001b[39;49m\u001b[43mdf\u001b[49m\u001b[43m,\u001b[49m\n\u001b[1;32m      5\u001b[0m \u001b[43m    \u001b[49m\u001b[43mfeature_name\u001b[49m\u001b[38;5;241;43m=\u001b[39;49m\u001b[38;5;124;43m\"\u001b[39;49m\u001b[38;5;124;43mcontent\u001b[39;49m\u001b[38;5;124;43m\"\u001b[39;49m\u001b[43m,\u001b[49m\n\u001b[1;32m      6\u001b[0m \u001b[43m    \u001b[49m\u001b[43mlabel_column\u001b[49m\u001b[38;5;241;43m=\u001b[39;49m\u001b[38;5;124;43m\"\u001b[39;49m\u001b[38;5;124;43mlabel\u001b[39;49m\u001b[38;5;124;43m\"\u001b[39;49m\u001b[43m,\u001b[49m\n\u001b[1;32m      7\u001b[0m \u001b[43m    \u001b[49m\u001b[43mseeds\u001b[49m\u001b[38;5;241;43m=\u001b[39;49m\u001b[43mseeds\u001b[49m\u001b[43m,\u001b[49m\n\u001b[1;32m      8\u001b[0m \u001b[43m    \u001b[49m\u001b[43mloss\u001b[49m\u001b[38;5;241;43m=\u001b[39;49m\u001b[43mloss\u001b[49m\u001b[43m,\u001b[49m\n\u001b[1;32m      9\u001b[0m \u001b[43m    \u001b[49m\u001b[43mgamma\u001b[49m\u001b[38;5;241;43m=\u001b[39;49m\u001b[43mgamma\u001b[49m\u001b[43m,\u001b[49m\n\u001b[1;32m     10\u001b[0m \u001b[43m    \u001b[49m\u001b[43msplit_indices\u001b[49m\u001b[38;5;241;43m=\u001b[39;49m\u001b[43msplit_indices\u001b[49m\u001b[43m,\u001b[49m\n\u001b[1;32m     11\u001b[0m \u001b[43m    \u001b[49m\u001b[43mk_fold\u001b[49m\u001b[38;5;241;43m=\u001b[39;49m\u001b[38;5;28;43;01mFalse\u001b[39;49;00m\u001b[43m,\u001b[49m\n\u001b[1;32m     12\u001b[0m \u001b[43m    \u001b[49m\u001b[43mvalidation_metric\u001b[49m\u001b[38;5;241;43m=\u001b[39;49m\u001b[43mvalidation_metric\u001b[49m\u001b[43m,\u001b[49m\n\u001b[1;32m     13\u001b[0m \u001b[43m    \u001b[49m\u001b[43mresults_output\u001b[49m\u001b[38;5;241;43m=\u001b[39;49m\u001b[38;5;28;43;01mNone\u001b[39;49;00m\u001b[43m,\u001b[49m\u001b[43m \u001b[49m\u001b[38;5;66;43;03m#f\"{output_dir}/bert_classifier.csv\",\u001b[39;49;00m\n\u001b[1;32m     14\u001b[0m \u001b[43m    \u001b[49m\u001b[43mdevice\u001b[49m\u001b[38;5;241;43m=\u001b[39;49m\u001b[43mdevice\u001b[49m\u001b[43m,\u001b[49m\n\u001b[1;32m     15\u001b[0m \u001b[43m    \u001b[49m\u001b[43mverbose\u001b[49m\u001b[38;5;241;43m=\u001b[39;49m\u001b[38;5;28;43;01mFalse\u001b[39;49;00m\n\u001b[1;32m     16\u001b[0m \u001b[43m)\u001b[49m\n",
      "File \u001b[0;32m~/nlpsig-networks/nlpsig_networks/scripts/fine_tune_bert_classification.py:414\u001b[0m, in \u001b[0;36mfine_tune_transformer_average_seed\u001b[0;34m(num_epochs, pretrained_model_name, df, feature_name, label_column, seeds, loss, gamma, path_indices, data_split_seed, split_ids, split_indices, k_fold, n_splits, validation_metric, return_metric_for_each_fold, results_output, device, verbose)\u001b[0m\n\u001b[1;32m    <a href='file:///homes/tt003/nlpsig-networks/nlpsig_networks/scripts/fine_tune_bert_classification.py?line=411'>412</a>\u001b[0m test_results_df \u001b[39m=\u001b[39m pd\u001b[39m.\u001b[39mDataFrame()\n\u001b[1;32m    <a href='file:///homes/tt003/nlpsig-networks/nlpsig_networks/scripts/fine_tune_bert_classification.py?line=412'>413</a>\u001b[0m \u001b[39mfor\u001b[39;00m seed \u001b[39min\u001b[39;00m seeds:\n\u001b[0;32m--> <a href='file:///homes/tt003/nlpsig-networks/nlpsig_networks/scripts/fine_tune_bert_classification.py?line=413'>414</a>\u001b[0m     test_results \u001b[39m=\u001b[39m fine_tune_transformer_for_classification(\n\u001b[1;32m    <a href='file:///homes/tt003/nlpsig-networks/nlpsig_networks/scripts/fine_tune_bert_classification.py?line=414'>415</a>\u001b[0m         num_epochs\u001b[39m=\u001b[39;49mnum_epochs,\n\u001b[1;32m    <a href='file:///homes/tt003/nlpsig-networks/nlpsig_networks/scripts/fine_tune_bert_classification.py?line=415'>416</a>\u001b[0m         pretrained_model_name\u001b[39m=\u001b[39;49mpretrained_model_name,\n\u001b[1;32m    <a href='file:///homes/tt003/nlpsig-networks/nlpsig_networks/scripts/fine_tune_bert_classification.py?line=416'>417</a>\u001b[0m         df\u001b[39m=\u001b[39;49mdf,\n\u001b[1;32m    <a href='file:///homes/tt003/nlpsig-networks/nlpsig_networks/scripts/fine_tune_bert_classification.py?line=417'>418</a>\u001b[0m         feature_name\u001b[39m=\u001b[39;49mfeature_name,\n\u001b[1;32m    <a href='file:///homes/tt003/nlpsig-networks/nlpsig_networks/scripts/fine_tune_bert_classification.py?line=418'>419</a>\u001b[0m         label_column\u001b[39m=\u001b[39;49mlabel_column,\n\u001b[1;32m    <a href='file:///homes/tt003/nlpsig-networks/nlpsig_networks/scripts/fine_tune_bert_classification.py?line=419'>420</a>\u001b[0m         seed\u001b[39m=\u001b[39;49mseed,\n\u001b[1;32m    <a href='file:///homes/tt003/nlpsig-networks/nlpsig_networks/scripts/fine_tune_bert_classification.py?line=420'>421</a>\u001b[0m         loss\u001b[39m=\u001b[39;49mloss,\n\u001b[1;32m    <a href='file:///homes/tt003/nlpsig-networks/nlpsig_networks/scripts/fine_tune_bert_classification.py?line=421'>422</a>\u001b[0m         gamma\u001b[39m=\u001b[39;49mgamma,\n\u001b[1;32m    <a href='file:///homes/tt003/nlpsig-networks/nlpsig_networks/scripts/fine_tune_bert_classification.py?line=422'>423</a>\u001b[0m         path_indices\u001b[39m=\u001b[39;49mpath_indices,\n\u001b[1;32m    <a href='file:///homes/tt003/nlpsig-networks/nlpsig_networks/scripts/fine_tune_bert_classification.py?line=423'>424</a>\u001b[0m         data_split_seed\u001b[39m=\u001b[39;49mdata_split_seed,\n\u001b[1;32m    <a href='file:///homes/tt003/nlpsig-networks/nlpsig_networks/scripts/fine_tune_bert_classification.py?line=424'>425</a>\u001b[0m         k_fold\u001b[39m=\u001b[39;49mk_fold,\n\u001b[1;32m    <a href='file:///homes/tt003/nlpsig-networks/nlpsig_networks/scripts/fine_tune_bert_classification.py?line=425'>426</a>\u001b[0m         n_splits\u001b[39m=\u001b[39;49mn_splits,\n\u001b[1;32m    <a href='file:///homes/tt003/nlpsig-networks/nlpsig_networks/scripts/fine_tune_bert_classification.py?line=426'>427</a>\u001b[0m         split_ids\u001b[39m=\u001b[39;49msplit_ids,\n\u001b[1;32m    <a href='file:///homes/tt003/nlpsig-networks/nlpsig_networks/scripts/fine_tune_bert_classification.py?line=427'>428</a>\u001b[0m         split_indices\u001b[39m=\u001b[39;49msplit_indices,\n\u001b[1;32m    <a href='file:///homes/tt003/nlpsig-networks/nlpsig_networks/scripts/fine_tune_bert_classification.py?line=428'>429</a>\u001b[0m         return_metric_for_each_fold\u001b[39m=\u001b[39;49mreturn_metric_for_each_fold,\n\u001b[1;32m    <a href='file:///homes/tt003/nlpsig-networks/nlpsig_networks/scripts/fine_tune_bert_classification.py?line=429'>430</a>\u001b[0m         device\u001b[39m=\u001b[39;49mdevice,\n\u001b[1;32m    <a href='file:///homes/tt003/nlpsig-networks/nlpsig_networks/scripts/fine_tune_bert_classification.py?line=430'>431</a>\u001b[0m         verbose\u001b[39m=\u001b[39;49mverbose,\n\u001b[1;32m    <a href='file:///homes/tt003/nlpsig-networks/nlpsig_networks/scripts/fine_tune_bert_classification.py?line=431'>432</a>\u001b[0m     )\n\u001b[1;32m    <a href='file:///homes/tt003/nlpsig-networks/nlpsig_networks/scripts/fine_tune_bert_classification.py?line=433'>434</a>\u001b[0m     test_results[\u001b[39m\"\u001b[39m\u001b[39mseed\u001b[39m\u001b[39m\"\u001b[39m] \u001b[39m=\u001b[39m seed\n\u001b[1;32m    <a href='file:///homes/tt003/nlpsig-networks/nlpsig_networks/scripts/fine_tune_bert_classification.py?line=434'>435</a>\u001b[0m     test_results[\u001b[39m\"\u001b[39m\u001b[39mloss\u001b[39m\u001b[39m\"\u001b[39m] \u001b[39m=\u001b[39m loss\n",
      "File \u001b[0;32m~/nlpsig-networks/nlpsig_networks/scripts/fine_tune_bert_classification.py:358\u001b[0m, in \u001b[0;36mfine_tune_transformer_for_classification\u001b[0;34m(num_epochs, pretrained_model_name, df, feature_name, label_column, seed, loss, gamma, path_indices, data_split_seed, split_ids, split_indices, k_fold, n_splits, return_metric_for_each_fold, device, verbose)\u001b[0m\n\u001b[1;32m    <a href='file:///homes/tt003/nlpsig-networks/nlpsig_networks/scripts/fine_tune_bert_classification.py?line=347'>348</a>\u001b[0m split_data \u001b[39m=\u001b[39m DataSplits(x_data\u001b[39m=\u001b[39mdummy_data,\n\u001b[1;32m    <a href='file:///homes/tt003/nlpsig-networks/nlpsig_networks/scripts/fine_tune_bert_classification.py?line=348'>349</a>\u001b[0m                         y_data\u001b[39m=\u001b[39mdummy_data,\n\u001b[1;32m    <a href='file:///homes/tt003/nlpsig-networks/nlpsig_networks/scripts/fine_tune_bert_classification.py?line=349'>350</a>\u001b[0m                         groups\u001b[39m=\u001b[39msplit_ids,\n\u001b[0;32m   (...)\u001b[0m\n\u001b[1;32m    <a href='file:///homes/tt003/nlpsig-networks/nlpsig_networks/scripts/fine_tune_bert_classification.py?line=353'>354</a>\u001b[0m                         shuffle\u001b[39m=\u001b[39m\u001b[39mTrue\u001b[39;00m,\n\u001b[1;32m    <a href='file:///homes/tt003/nlpsig-networks/nlpsig_networks/scripts/fine_tune_bert_classification.py?line=354'>355</a>\u001b[0m                         random_state\u001b[39m=\u001b[39mdata_split_seed)\n\u001b[1;32m    <a href='file:///homes/tt003/nlpsig-networks/nlpsig_networks/scripts/fine_tune_bert_classification.py?line=356'>357</a>\u001b[0m \u001b[39m# compute how well the model performs on this data split\u001b[39;00m\n\u001b[0;32m--> <a href='file:///homes/tt003/nlpsig-networks/nlpsig_networks/scripts/fine_tune_bert_classification.py?line=357'>358</a>\u001b[0m results \u001b[39m=\u001b[39m _fine_tune_transformer_for_data_split(\n\u001b[1;32m    <a href='file:///homes/tt003/nlpsig-networks/nlpsig_networks/scripts/fine_tune_bert_classification.py?line=358'>359</a>\u001b[0m     pretrained_model_name\u001b[39m=\u001b[39;49mpretrained_model_name,\n\u001b[1;32m    <a href='file:///homes/tt003/nlpsig-networks/nlpsig_networks/scripts/fine_tune_bert_classification.py?line=359'>360</a>\u001b[0m     df\u001b[39m=\u001b[39;49mdf,\n\u001b[1;32m    <a href='file:///homes/tt003/nlpsig-networks/nlpsig_networks/scripts/fine_tune_bert_classification.py?line=360'>361</a>\u001b[0m     feature_name\u001b[39m=\u001b[39;49mfeature_name,\n\u001b[1;32m    <a href='file:///homes/tt003/nlpsig-networks/nlpsig_networks/scripts/fine_tune_bert_classification.py?line=361'>362</a>\u001b[0m     label_column\u001b[39m=\u001b[39;49mlabel_column,\n\u001b[1;32m    <a href='file:///homes/tt003/nlpsig-networks/nlpsig_networks/scripts/fine_tune_bert_classification.py?line=362'>363</a>\u001b[0m     path_indices\u001b[39m=\u001b[39;49mpath_indices,\n\u001b[1;32m    <a href='file:///homes/tt003/nlpsig-networks/nlpsig_networks/scripts/fine_tune_bert_classification.py?line=363'>364</a>\u001b[0m     split_indices\u001b[39m=\u001b[39;49msplit_data\u001b[39m.\u001b[39;49mindices,\n\u001b[1;32m    <a href='file:///homes/tt003/nlpsig-networks/nlpsig_networks/scripts/fine_tune_bert_classification.py?line=364'>365</a>\u001b[0m     seed\u001b[39m=\u001b[39;49mseed,\n\u001b[1;32m    <a href='file:///homes/tt003/nlpsig-networks/nlpsig_networks/scripts/fine_tune_bert_classification.py?line=365'>366</a>\u001b[0m     loss\u001b[39m=\u001b[39;49mloss,\n\u001b[1;32m    <a href='file:///homes/tt003/nlpsig-networks/nlpsig_networks/scripts/fine_tune_bert_classification.py?line=366'>367</a>\u001b[0m     gamma\u001b[39m=\u001b[39;49mgamma,\n\u001b[1;32m    <a href='file:///homes/tt003/nlpsig-networks/nlpsig_networks/scripts/fine_tune_bert_classification.py?line=367'>368</a>\u001b[0m     num_epochs\u001b[39m=\u001b[39;49mnum_epochs,\n\u001b[1;32m    <a href='file:///homes/tt003/nlpsig-networks/nlpsig_networks/scripts/fine_tune_bert_classification.py?line=368'>369</a>\u001b[0m     save_model\u001b[39m=\u001b[39;49m\u001b[39mFalse\u001b[39;49;00m,\n\u001b[1;32m    <a href='file:///homes/tt003/nlpsig-networks/nlpsig_networks/scripts/fine_tune_bert_classification.py?line=369'>370</a>\u001b[0m     device\u001b[39m=\u001b[39;49mdevice,\n\u001b[1;32m    <a href='file:///homes/tt003/nlpsig-networks/nlpsig_networks/scripts/fine_tune_bert_classification.py?line=370'>371</a>\u001b[0m     verbose\u001b[39m=\u001b[39;49mverbose,\n\u001b[1;32m    <a href='file:///homes/tt003/nlpsig-networks/nlpsig_networks/scripts/fine_tune_bert_classification.py?line=371'>372</a>\u001b[0m )\n\u001b[1;32m    <a href='file:///homes/tt003/nlpsig-networks/nlpsig_networks/scripts/fine_tune_bert_classification.py?line=373'>374</a>\u001b[0m \u001b[39mreturn\u001b[39;00m pd\u001b[39m.\u001b[39mDataFrame({\u001b[39m\"\u001b[39m\u001b[39maccuracy\u001b[39m\u001b[39m\"\u001b[39m: results[\u001b[39m\"\u001b[39m\u001b[39maccuracy\u001b[39m\u001b[39m\"\u001b[39m],\n\u001b[1;32m    <a href='file:///homes/tt003/nlpsig-networks/nlpsig_networks/scripts/fine_tune_bert_classification.py?line=374'>375</a>\u001b[0m                      \u001b[39m\"\u001b[39m\u001b[39mf1\u001b[39m\u001b[39m\"\u001b[39m: results[\u001b[39m\"\u001b[39m\u001b[39mf1\u001b[39m\u001b[39m\"\u001b[39m],\n\u001b[1;32m    <a href='file:///homes/tt003/nlpsig-networks/nlpsig_networks/scripts/fine_tune_bert_classification.py?line=375'>376</a>\u001b[0m                      \u001b[39m\"\u001b[39m\u001b[39mf1_scores\u001b[39m\u001b[39m\"\u001b[39m: [results[\u001b[39m\"\u001b[39m\u001b[39mf1_scores\u001b[39m\u001b[39m\"\u001b[39m]],\n\u001b[0;32m   (...)\u001b[0m\n\u001b[1;32m    <a href='file:///homes/tt003/nlpsig-networks/nlpsig_networks/scripts/fine_tune_bert_classification.py?line=378'>379</a>\u001b[0m                      \u001b[39m\"\u001b[39m\u001b[39mrecall\u001b[39m\u001b[39m\"\u001b[39m: results[\u001b[39m\"\u001b[39m\u001b[39mrecall\u001b[39m\u001b[39m\"\u001b[39m],\n\u001b[1;32m    <a href='file:///homes/tt003/nlpsig-networks/nlpsig_networks/scripts/fine_tune_bert_classification.py?line=379'>380</a>\u001b[0m                      \u001b[39m\"\u001b[39m\u001b[39mrecall_scores\u001b[39m\u001b[39m\"\u001b[39m: [results[\u001b[39m\"\u001b[39m\u001b[39mrecall_scores\u001b[39m\u001b[39m\"\u001b[39m]]})\n",
      "File \u001b[0;32m~/nlpsig-networks/nlpsig_networks/scripts/fine_tune_bert_classification.py:156\u001b[0m, in \u001b[0;36m_fine_tune_transformer_for_data_split\u001b[0;34m(num_epochs, pretrained_model_name, df, feature_name, label_column, seed, loss, gamma, batch_size, path_indices, split_indices, save_model, output_dir, device, verbose)\u001b[0m\n\u001b[1;32m    <a href='file:///homes/tt003/nlpsig-networks/nlpsig_networks/scripts/fine_tune_bert_classification.py?line=152'>153</a>\u001b[0m df[\u001b[39m\"\u001b[39m\u001b[39mlabel_as_id\u001b[39m\u001b[39m\"\u001b[39m] \u001b[39m=\u001b[39m df[label_column]\u001b[39m.\u001b[39mapply(\u001b[39mlambda\u001b[39;00m x: label_to_id[\u001b[39mstr\u001b[39m(x)])\n\u001b[1;32m    <a href='file:///homes/tt003/nlpsig-networks/nlpsig_networks/scripts/fine_tune_bert_classification.py?line=154'>155</a>\u001b[0m \u001b[39m# initialise model, tokenizer and data_collator\u001b[39;00m\n\u001b[0;32m--> <a href='file:///homes/tt003/nlpsig-networks/nlpsig_networks/scripts/fine_tune_bert_classification.py?line=155'>156</a>\u001b[0m model \u001b[39m=\u001b[39m AutoModelForSequenceClassification\u001b[39m.\u001b[39;49mfrom_pretrained(\n\u001b[1;32m    <a href='file:///homes/tt003/nlpsig-networks/nlpsig_networks/scripts/fine_tune_bert_classification.py?line=156'>157</a>\u001b[0m     pretrained_model_name,\n\u001b[1;32m    <a href='file:///homes/tt003/nlpsig-networks/nlpsig_networks/scripts/fine_tune_bert_classification.py?line=157'>158</a>\u001b[0m     num_labels\u001b[39m=\u001b[39;49moutput_dim,\n\u001b[1;32m    <a href='file:///homes/tt003/nlpsig-networks/nlpsig_networks/scripts/fine_tune_bert_classification.py?line=158'>159</a>\u001b[0m     id2label\u001b[39m=\u001b[39;49mid_to_label,\n\u001b[1;32m    <a href='file:///homes/tt003/nlpsig-networks/nlpsig_networks/scripts/fine_tune_bert_classification.py?line=159'>160</a>\u001b[0m     label2id\u001b[39m=\u001b[39;49mlabel_to_id\n\u001b[1;32m    <a href='file:///homes/tt003/nlpsig-networks/nlpsig_networks/scripts/fine_tune_bert_classification.py?line=160'>161</a>\u001b[0m )\n\u001b[1;32m    <a href='file:///homes/tt003/nlpsig-networks/nlpsig_networks/scripts/fine_tune_bert_classification.py?line=162'>163</a>\u001b[0m \u001b[39m# set model to device is passed\u001b[39;00m\n\u001b[1;32m    <a href='file:///homes/tt003/nlpsig-networks/nlpsig_networks/scripts/fine_tune_bert_classification.py?line=163'>164</a>\u001b[0m \u001b[39mif\u001b[39;00m \u001b[39misinstance\u001b[39m(device, \u001b[39mstr\u001b[39m):\n",
      "File \u001b[0;32m/import/nlp/tt003/envs/nlpsig-networks/lib/python3.8/site-packages/transformers/models/auto/auto_factory.py:493\u001b[0m, in \u001b[0;36m_BaseAutoModelClass.from_pretrained\u001b[0;34m(cls, pretrained_model_name_or_path, *model_args, **kwargs)\u001b[0m\n\u001b[1;32m    <a href='file:///import/nlp/tt003/envs/nlpsig-networks/lib/python3.8/site-packages/transformers/models/auto/auto_factory.py?line=490'>491</a>\u001b[0m \u001b[39melif\u001b[39;00m \u001b[39mtype\u001b[39m(config) \u001b[39min\u001b[39;00m \u001b[39mcls\u001b[39m\u001b[39m.\u001b[39m_model_mapping\u001b[39m.\u001b[39mkeys():\n\u001b[1;32m    <a href='file:///import/nlp/tt003/envs/nlpsig-networks/lib/python3.8/site-packages/transformers/models/auto/auto_factory.py?line=491'>492</a>\u001b[0m     model_class \u001b[39m=\u001b[39m _get_model_class(config, \u001b[39mcls\u001b[39m\u001b[39m.\u001b[39m_model_mapping)\n\u001b[0;32m--> <a href='file:///import/nlp/tt003/envs/nlpsig-networks/lib/python3.8/site-packages/transformers/models/auto/auto_factory.py?line=492'>493</a>\u001b[0m     \u001b[39mreturn\u001b[39;00m model_class\u001b[39m.\u001b[39;49mfrom_pretrained(\n\u001b[1;32m    <a href='file:///import/nlp/tt003/envs/nlpsig-networks/lib/python3.8/site-packages/transformers/models/auto/auto_factory.py?line=493'>494</a>\u001b[0m         pretrained_model_name_or_path, \u001b[39m*\u001b[39;49mmodel_args, config\u001b[39m=\u001b[39;49mconfig, \u001b[39m*\u001b[39;49m\u001b[39m*\u001b[39;49mhub_kwargs, \u001b[39m*\u001b[39;49m\u001b[39m*\u001b[39;49mkwargs\n\u001b[1;32m    <a href='file:///import/nlp/tt003/envs/nlpsig-networks/lib/python3.8/site-packages/transformers/models/auto/auto_factory.py?line=494'>495</a>\u001b[0m     )\n\u001b[1;32m    <a href='file:///import/nlp/tt003/envs/nlpsig-networks/lib/python3.8/site-packages/transformers/models/auto/auto_factory.py?line=495'>496</a>\u001b[0m \u001b[39mraise\u001b[39;00m \u001b[39mValueError\u001b[39;00m(\n\u001b[1;32m    <a href='file:///import/nlp/tt003/envs/nlpsig-networks/lib/python3.8/site-packages/transformers/models/auto/auto_factory.py?line=496'>497</a>\u001b[0m     \u001b[39mf\u001b[39m\u001b[39m\"\u001b[39m\u001b[39mUnrecognized configuration class \u001b[39m\u001b[39m{\u001b[39;00mconfig\u001b[39m.\u001b[39m\u001b[39m__class__\u001b[39m\u001b[39m}\u001b[39;00m\u001b[39m for this kind of AutoModel: \u001b[39m\u001b[39m{\u001b[39;00m\u001b[39mcls\u001b[39m\u001b[39m.\u001b[39m\u001b[39m__name__\u001b[39m\u001b[39m}\u001b[39;00m\u001b[39m.\u001b[39m\u001b[39m\\n\u001b[39;00m\u001b[39m\"\u001b[39m\n\u001b[1;32m    <a href='file:///import/nlp/tt003/envs/nlpsig-networks/lib/python3.8/site-packages/transformers/models/auto/auto_factory.py?line=497'>498</a>\u001b[0m     \u001b[39mf\u001b[39m\u001b[39m\"\u001b[39m\u001b[39mModel type should be one of \u001b[39m\u001b[39m{\u001b[39;00m\u001b[39m'\u001b[39m\u001b[39m, \u001b[39m\u001b[39m'\u001b[39m\u001b[39m.\u001b[39mjoin(c\u001b[39m.\u001b[39m\u001b[39m__name__\u001b[39m\u001b[39m \u001b[39m\u001b[39mfor\u001b[39;00m\u001b[39m \u001b[39mc\u001b[39m \u001b[39m\u001b[39min\u001b[39;00m\u001b[39m \u001b[39m\u001b[39mcls\u001b[39m\u001b[39m.\u001b[39m_model_mapping\u001b[39m.\u001b[39mkeys())\u001b[39m}\u001b[39;00m\u001b[39m.\u001b[39m\u001b[39m\"\u001b[39m\n\u001b[1;32m    <a href='file:///import/nlp/tt003/envs/nlpsig-networks/lib/python3.8/site-packages/transformers/models/auto/auto_factory.py?line=498'>499</a>\u001b[0m )\n",
      "File \u001b[0;32m/import/nlp/tt003/envs/nlpsig-networks/lib/python3.8/site-packages/transformers/modeling_utils.py:2629\u001b[0m, in \u001b[0;36mPreTrainedModel.from_pretrained\u001b[0;34m(cls, pretrained_model_name_or_path, config, cache_dir, ignore_mismatched_sizes, force_download, local_files_only, token, revision, use_safetensors, *model_args, **kwargs)\u001b[0m\n\u001b[1;32m   <a href='file:///import/nlp/tt003/envs/nlpsig-networks/lib/python3.8/site-packages/transformers/modeling_utils.py?line=2625'>2626</a>\u001b[0m \u001b[39mif\u001b[39;00m from_pt:\n\u001b[1;32m   <a href='file:///import/nlp/tt003/envs/nlpsig-networks/lib/python3.8/site-packages/transformers/modeling_utils.py?line=2626'>2627</a>\u001b[0m     \u001b[39mif\u001b[39;00m \u001b[39mnot\u001b[39;00m is_sharded \u001b[39mand\u001b[39;00m state_dict \u001b[39mis\u001b[39;00m \u001b[39mNone\u001b[39;00m:\n\u001b[1;32m   <a href='file:///import/nlp/tt003/envs/nlpsig-networks/lib/python3.8/site-packages/transformers/modeling_utils.py?line=2627'>2628</a>\u001b[0m         \u001b[39m# Time to load the checkpoint\u001b[39;00m\n\u001b[0;32m-> <a href='file:///import/nlp/tt003/envs/nlpsig-networks/lib/python3.8/site-packages/transformers/modeling_utils.py?line=2628'>2629</a>\u001b[0m         state_dict \u001b[39m=\u001b[39m load_state_dict(resolved_archive_file)\n\u001b[1;32m   <a href='file:///import/nlp/tt003/envs/nlpsig-networks/lib/python3.8/site-packages/transformers/modeling_utils.py?line=2630'>2631</a>\u001b[0m     \u001b[39m# set dtype to instantiate the model under:\u001b[39;00m\n\u001b[1;32m   <a href='file:///import/nlp/tt003/envs/nlpsig-networks/lib/python3.8/site-packages/transformers/modeling_utils.py?line=2631'>2632</a>\u001b[0m     \u001b[39m# 1. If torch_dtype is not None, we use that dtype\u001b[39;00m\n\u001b[1;32m   <a href='file:///import/nlp/tt003/envs/nlpsig-networks/lib/python3.8/site-packages/transformers/modeling_utils.py?line=2632'>2633</a>\u001b[0m     \u001b[39m# 2. If torch_dtype is \"auto\", we auto-detect dtype from the loaded state_dict, by checking its first\u001b[39;00m\n\u001b[1;32m   <a href='file:///import/nlp/tt003/envs/nlpsig-networks/lib/python3.8/site-packages/transformers/modeling_utils.py?line=2633'>2634</a>\u001b[0m     \u001b[39m#    weights entry that is of a floating type - we assume all floating dtype weights are of the same dtype\u001b[39;00m\n\u001b[1;32m   <a href='file:///import/nlp/tt003/envs/nlpsig-networks/lib/python3.8/site-packages/transformers/modeling_utils.py?line=2634'>2635</a>\u001b[0m     \u001b[39m# we also may have config.torch_dtype available, but we won't rely on it till v5\u001b[39;00m\n\u001b[1;32m   <a href='file:///import/nlp/tt003/envs/nlpsig-networks/lib/python3.8/site-packages/transformers/modeling_utils.py?line=2635'>2636</a>\u001b[0m     dtype_orig \u001b[39m=\u001b[39m \u001b[39mNone\u001b[39;00m\n",
      "File \u001b[0;32m/import/nlp/tt003/envs/nlpsig-networks/lib/python3.8/site-packages/transformers/modeling_utils.py:458\u001b[0m, in \u001b[0;36mload_state_dict\u001b[0;34m(checkpoint_file)\u001b[0m\n\u001b[1;32m    <a href='file:///import/nlp/tt003/envs/nlpsig-networks/lib/python3.8/site-packages/transformers/modeling_utils.py?line=453'>454</a>\u001b[0m     \u001b[39melif\u001b[39;00m metadata[\u001b[39m\"\u001b[39m\u001b[39mformat\u001b[39m\u001b[39m\"\u001b[39m] \u001b[39m!=\u001b[39m \u001b[39m\"\u001b[39m\u001b[39mpt\u001b[39m\u001b[39m\"\u001b[39m:\n\u001b[1;32m    <a href='file:///import/nlp/tt003/envs/nlpsig-networks/lib/python3.8/site-packages/transformers/modeling_utils.py?line=454'>455</a>\u001b[0m         \u001b[39mraise\u001b[39;00m \u001b[39mNotImplementedError\u001b[39;00m(\n\u001b[1;32m    <a href='file:///import/nlp/tt003/envs/nlpsig-networks/lib/python3.8/site-packages/transformers/modeling_utils.py?line=455'>456</a>\u001b[0m             \u001b[39mf\u001b[39m\u001b[39m\"\u001b[39m\u001b[39mConversion from a \u001b[39m\u001b[39m{\u001b[39;00mmetadata[\u001b[39m'\u001b[39m\u001b[39mformat\u001b[39m\u001b[39m'\u001b[39m]\u001b[39m}\u001b[39;00m\u001b[39m safetensors archive to PyTorch is not implemented yet.\u001b[39m\u001b[39m\"\u001b[39m\n\u001b[1;32m    <a href='file:///import/nlp/tt003/envs/nlpsig-networks/lib/python3.8/site-packages/transformers/modeling_utils.py?line=456'>457</a>\u001b[0m         )\n\u001b[0;32m--> <a href='file:///import/nlp/tt003/envs/nlpsig-networks/lib/python3.8/site-packages/transformers/modeling_utils.py?line=457'>458</a>\u001b[0m     \u001b[39mreturn\u001b[39;00m safe_load_file(checkpoint_file)\n\u001b[1;32m    <a href='file:///import/nlp/tt003/envs/nlpsig-networks/lib/python3.8/site-packages/transformers/modeling_utils.py?line=458'>459</a>\u001b[0m \u001b[39mtry\u001b[39;00m:\n\u001b[1;32m    <a href='file:///import/nlp/tt003/envs/nlpsig-networks/lib/python3.8/site-packages/transformers/modeling_utils.py?line=459'>460</a>\u001b[0m     \u001b[39mreturn\u001b[39;00m torch\u001b[39m.\u001b[39mload(checkpoint_file, map_location\u001b[39m=\u001b[39m\u001b[39m\"\u001b[39m\u001b[39mcpu\u001b[39m\u001b[39m\"\u001b[39m)\n",
      "File \u001b[0;32m/import/nlp/tt003/envs/nlpsig-networks/lib/python3.8/site-packages/safetensors/torch.py:311\u001b[0m, in \u001b[0;36mload_file\u001b[0;34m(filename, device)\u001b[0m\n\u001b[1;32m    <a href='file:///import/nlp/tt003/envs/nlpsig-networks/lib/python3.8/site-packages/safetensors/torch.py?line=308'>309</a>\u001b[0m \u001b[39mwith\u001b[39;00m safe_open(filename, framework\u001b[39m=\u001b[39m\u001b[39m\"\u001b[39m\u001b[39mpt\u001b[39m\u001b[39m\"\u001b[39m, device\u001b[39m=\u001b[39mdevice) \u001b[39mas\u001b[39;00m f:\n\u001b[1;32m    <a href='file:///import/nlp/tt003/envs/nlpsig-networks/lib/python3.8/site-packages/safetensors/torch.py?line=309'>310</a>\u001b[0m     \u001b[39mfor\u001b[39;00m k \u001b[39min\u001b[39;00m f\u001b[39m.\u001b[39mkeys():\n\u001b[0;32m--> <a href='file:///import/nlp/tt003/envs/nlpsig-networks/lib/python3.8/site-packages/safetensors/torch.py?line=310'>311</a>\u001b[0m         result[k] \u001b[39m=\u001b[39m f\u001b[39m.\u001b[39;49mget_tensor(k)\n\u001b[1;32m    <a href='file:///import/nlp/tt003/envs/nlpsig-networks/lib/python3.8/site-packages/safetensors/torch.py?line=311'>312</a>\u001b[0m \u001b[39mreturn\u001b[39;00m result\n",
      "\u001b[0;31mAttributeError\u001b[0m: module 'torch' has no attribute 'frombuffer'"
     ]
    }
   ],
   "source": [
    "bert_classifier = fine_tune_transformer_average_seed(\n",
    "    num_epochs=num_epochs,\n",
    "    pretrained_model_name=\"bert-base-uncased\",\n",
    "    df=df,\n",
    "    feature_name=\"content\",\n",
    "    label_column=\"label\",\n",
    "    seeds=seeds,\n",
    "    loss=loss,\n",
    "    gamma=gamma,\n",
    "    split_indices=split_indices,\n",
    "    k_fold=False,\n",
    "    validation_metric=validation_metric,\n",
    "    results_output=None,  # f\"{output_dir}/bert_classifier.csv\",\n",
    "    device=device,\n",
    "    verbose=False,\n",
    ")"
   ]
  },
  {
   "cell_type": "code",
   "execution_count": null,
   "metadata": {},
   "outputs": [],
   "source": []
  }
 ],
 "metadata": {
  "interpreter": {
   "hash": "b2013b70f5165546ff531eadcfc35b64307c3717f205ea3ff61fa34bab89c803"
  },
  "kernelspec": {
   "display_name": "Python 3.8.17 ('nlpsig-networks')",
   "language": "python",
   "name": "python3"
  },
  "language_info": {
   "codemirror_mode": {
    "name": "ipython",
    "version": 3
   },
   "file_extension": ".py",
   "mimetype": "text/x-python",
   "name": "python",
   "nbconvert_exporter": "python",
   "pygments_lexer": "ipython3",
   "version": "3.8.17"
  },
  "orig_nbformat": 4
 },
 "nbformat": 4,
 "nbformat_minor": 2
}
