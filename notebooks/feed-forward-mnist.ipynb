{
 "cells": [
  {
   "cell_type": "code",
   "execution_count": 9,
   "id": "852d93ea",
   "metadata": {},
   "outputs": [],
   "source": [
    "import torch\n",
    "import torch.nn as nn\n",
    "import torchvision\n",
    "import torchvision.transforms as transforms\n",
    "import matplotlib.pyplot as plt\n",
    "from torch.optim.lr_scheduler import ReduceLROnPlateau, StepLR\n",
    "\n",
    "import sig_networks\n",
    "from sig_networks.ffn import FeedforwardNeuralNetModel\n",
    "from sig_networks.focal_loss import FocalLoss\n",
    "from sig_networkstorch_utils import training_pytorch, testing_pytorch\n",
    "\n",
    "seed = 2023"
   ]
  },
  {
   "cell_type": "code",
   "execution_count": 10,
   "id": "358bdd08",
   "metadata": {},
   "outputs": [
    {
     "name": "stdout",
     "output_type": "stream",
     "text": [
      "Downloading http://yann.lecun.com/exdb/mnist/train-images-idx3-ubyte.gz\n",
      "Downloading http://yann.lecun.com/exdb/mnist/train-images-idx3-ubyte.gz to ./data/MNIST/raw/train-images-idx3-ubyte.gz\n"
     ]
    },
    {
     "data": {
      "application/vnd.jupyter.widget-view+json": {
       "model_id": "7b57fc80764f4cc5955b9105845bba3d",
       "version_major": 2,
       "version_minor": 0
      },
      "text/plain": [
       "  0%|          | 0/9912422 [00:00<?, ?it/s]"
      ]
     },
     "metadata": {},
     "output_type": "display_data"
    },
    {
     "name": "stdout",
     "output_type": "stream",
     "text": [
      "Extracting ./data/MNIST/raw/train-images-idx3-ubyte.gz to ./data/MNIST/raw\n",
      "\n",
      "Downloading http://yann.lecun.com/exdb/mnist/train-labels-idx1-ubyte.gz\n",
      "Downloading http://yann.lecun.com/exdb/mnist/train-labels-idx1-ubyte.gz to ./data/MNIST/raw/train-labels-idx1-ubyte.gz\n"
     ]
    },
    {
     "data": {
      "application/vnd.jupyter.widget-view+json": {
       "model_id": "5bca36ff077b4e739ef78e4a8f72fb21",
       "version_major": 2,
       "version_minor": 0
      },
      "text/plain": [
       "  0%|          | 0/28881 [00:00<?, ?it/s]"
      ]
     },
     "metadata": {},
     "output_type": "display_data"
    },
    {
     "name": "stdout",
     "output_type": "stream",
     "text": [
      "Extracting ./data/MNIST/raw/train-labels-idx1-ubyte.gz to ./data/MNIST/raw\n",
      "\n",
      "Downloading http://yann.lecun.com/exdb/mnist/t10k-images-idx3-ubyte.gz\n",
      "Downloading http://yann.lecun.com/exdb/mnist/t10k-images-idx3-ubyte.gz to ./data/MNIST/raw/t10k-images-idx3-ubyte.gz\n"
     ]
    },
    {
     "data": {
      "application/vnd.jupyter.widget-view+json": {
       "model_id": "c40260c809ae4399b7b43fd5f2d45b26",
       "version_major": 2,
       "version_minor": 0
      },
      "text/plain": [
       "  0%|          | 0/1648877 [00:00<?, ?it/s]"
      ]
     },
     "metadata": {},
     "output_type": "display_data"
    },
    {
     "name": "stdout",
     "output_type": "stream",
     "text": [
      "Extracting ./data/MNIST/raw/t10k-images-idx3-ubyte.gz to ./data/MNIST/raw\n",
      "\n",
      "Downloading http://yann.lecun.com/exdb/mnist/t10k-labels-idx1-ubyte.gz\n",
      "Downloading http://yann.lecun.com/exdb/mnist/t10k-labels-idx1-ubyte.gz to ./data/MNIST/raw/t10k-labels-idx1-ubyte.gz\n"
     ]
    },
    {
     "data": {
      "application/vnd.jupyter.widget-view+json": {
       "model_id": "7642f6d81c9042fb98a44fc3fdc858d5",
       "version_major": 2,
       "version_minor": 0
      },
      "text/plain": [
       "  0%|          | 0/4542 [00:00<?, ?it/s]"
      ]
     },
     "metadata": {},
     "output_type": "display_data"
    },
    {
     "name": "stdout",
     "output_type": "stream",
     "text": [
      "Extracting ./data/MNIST/raw/t10k-labels-idx1-ubyte.gz to ./data/MNIST/raw\n",
      "\n"
     ]
    }
   ],
   "source": [
    "batch_size = 100\n",
    "\n",
    "# MNIST\n",
    "train_dataset = torchvision.datasets.MNIST(\n",
    "    root=\"./data\",\n",
    "    train=True,\n",
    "    transform=transforms.Compose(\n",
    "        [transforms.ToTensor(), transforms.Lambda(lambda x: torch.flatten(x))]\n",
    "    ),\n",
    "    download=True,\n",
    ")\n",
    "test_dataset = torchvision.datasets.MNIST(\n",
    "    root=\"./data\",\n",
    "    train=False,\n",
    "    transform=transforms.Compose(\n",
    "        [transforms.ToTensor(), transforms.Lambda(lambda x: torch.flatten(x))]\n",
    "    ),\n",
    "    download=True,\n",
    ")\n",
    "train_loader = torch.utils.data.DataLoader(\n",
    "    dataset=train_dataset,\n",
    "    batch_size=batch_size,\n",
    "    shuffle=True,\n",
    ")\n",
    "test_loader = torch.utils.data.DataLoader(\n",
    "    dataset=test_dataset, batch_size=batch_size, shuffle=False\n",
    ")"
   ]
  },
  {
   "cell_type": "code",
   "execution_count": 11,
   "id": "c8be0e36",
   "metadata": {},
   "outputs": [
    {
     "name": "stdout",
     "output_type": "stream",
     "text": [
      "torch.Size([100, 784]) torch.Size([100])\n"
     ]
    }
   ],
   "source": [
    "examples = iter(train_loader)\n",
    "samples, label = examples.next()\n",
    "print(samples.shape, label.shape)"
   ]
  },
  {
   "cell_type": "code",
   "execution_count": 17,
   "id": "76d615ee",
   "metadata": {},
   "outputs": [],
   "source": [
    "# hyperparameters\n",
    "input_size = 784  # 28X28\n",
    "hidden_size = [100, 100, 100]\n",
    "num_classes = 10\n",
    "num_epochs = 1\n",
    "learning_rate = 0.001\n",
    "gamma = 1"
   ]
  },
  {
   "cell_type": "code",
   "execution_count": 18,
   "id": "5fb81c08",
   "metadata": {},
   "outputs": [],
   "source": [
    "ffn_model = FeedforwardNeuralNetModel(\n",
    "    input_dim=input_size,\n",
    "    hidden_dim=hidden_size,\n",
    "    output_dim=num_classes,\n",
    "    dropout_rate=0.5,\n",
    ")\n",
    "\n",
    "# define loss\n",
    "criterion = FocalLoss(gamma=gamma)\n",
    "# criterion = torch.nn.CrossEntropyLoss()\n",
    "\n",
    "# define optimizer\n",
    "optimizer = torch.optim.Adam(ffn_model.parameters(), lr=learning_rate)\n",
    "\n",
    "# define scheduler for adjusting the learning rate\n",
    "scheduler = ReduceLROnPlateau(optimizer, \"min\")\n",
    "# scheduler = StepLR(optimizer, step_size = 4, gamma = 0.5)\n",
    "# scheduler = None"
   ]
  },
  {
   "cell_type": "code",
   "execution_count": 19,
   "id": "89ca1856",
   "metadata": {},
   "outputs": [
    {
     "name": "stdout",
     "output_type": "stream",
     "text": [
      "Accuracy on dataset of size 10000: 10.3100004196167 %.\n",
      "Average loss: 2.073407211303711\n"
     ]
    },
    {
     "data": {
      "text/plain": [
       "tensor(0.1031)"
      ]
     },
     "execution_count": 19,
     "metadata": {},
     "output_type": "execute_result"
    }
   ],
   "source": [
    "# accuracy before training\n",
    "pred, label = testing_pytorch(ffn_model, test_loader, criterion)\n",
    "sum(pred == label) / len(pred)"
   ]
  },
  {
   "cell_type": "code",
   "execution_count": 20,
   "id": "2c3c2fc6",
   "metadata": {},
   "outputs": [
    {
     "data": {
      "application/vnd.jupyter.widget-view+json": {
       "model_id": "37cfcda176354c8aabe785ab17543d59",
       "version_major": 2,
       "version_minor": 0
      },
      "text/plain": [
       "  0%|          | 0/10 [00:00<?, ?it/s]"
      ]
     },
     "metadata": {},
     "output_type": "display_data"
    },
    {
     "name": "stdout",
     "output_type": "stream",
     "text": [
      "Epoch: 1/10 || Item: 0/600 || Loss: 2.064084529876709\n",
      "--------------------------------------------------\n",
      "##### Epoch: 1/10 || Loss: 0.4937691390514374\n",
      "--------------------------------------------------\n",
      "Epoch: 2/10 || Item: 0/600 || Loss: 0.4600626826286316\n",
      "--------------------------------------------------\n",
      "##### Epoch: 2/10 || Loss: 0.39700111746788025\n",
      "--------------------------------------------------\n",
      "Epoch: 3/10 || Item: 0/600 || Loss: 0.2833329439163208\n",
      "--------------------------------------------------\n",
      "##### Epoch: 3/10 || Loss: 0.3118630349636078\n",
      "--------------------------------------------------\n",
      "Epoch: 4/10 || Item: 0/600 || Loss: 0.25615835189819336\n",
      "--------------------------------------------------\n",
      "##### Epoch: 4/10 || Loss: 0.292373925447464\n",
      "--------------------------------------------------\n",
      "Epoch: 5/10 || Item: 0/600 || Loss: 0.16734611988067627\n",
      "--------------------------------------------------\n",
      "##### Epoch: 5/10 || Loss: 0.3590061068534851\n",
      "--------------------------------------------------\n",
      "Epoch: 6/10 || Item: 0/600 || Loss: 0.3411065340042114\n",
      "--------------------------------------------------\n",
      "##### Epoch: 6/10 || Loss: 0.09877844899892807\n",
      "--------------------------------------------------\n",
      "Epoch: 7/10 || Item: 0/600 || Loss: 0.23334497213363647\n",
      "--------------------------------------------------\n",
      "##### Epoch: 7/10 || Loss: 0.1596839427947998\n",
      "--------------------------------------------------\n",
      "Epoch: 8/10 || Item: 0/600 || Loss: 0.16419297456741333\n",
      "--------------------------------------------------\n",
      "##### Epoch: 8/10 || Loss: 0.1445007026195526\n",
      "--------------------------------------------------\n",
      "Epoch: 9/10 || Item: 0/600 || Loss: 0.22491927444934845\n",
      "--------------------------------------------------\n",
      "##### Epoch: 9/10 || Loss: 0.15838634967803955\n",
      "--------------------------------------------------\n",
      "Epoch: 10/10 || Item: 0/600 || Loss: 0.2223557084798813\n",
      "--------------------------------------------------\n",
      "##### Epoch: 10/10 || Loss: 0.16602878272533417\n",
      "--------------------------------------------------\n"
     ]
    }
   ],
   "source": [
    "ffn_model = training_pytorch(\n",
    "    model=ffn_model,\n",
    "    train_loader=train_loader,\n",
    "    criterion=criterion,\n",
    "    optimizer=optimizer,\n",
    "    num_epochs=10,\n",
    "    scheduler=scheduler,\n",
    "    seed=seed,\n",
    "    verbose=True,\n",
    "    verbose_epoch=1,\n",
    ")"
   ]
  },
  {
   "cell_type": "code",
   "execution_count": 21,
   "id": "173903de",
   "metadata": {},
   "outputs": [
    {
     "name": "stdout",
     "output_type": "stream",
     "text": [
      "Accuracy on dataset of size 10000: 95.98999786376953 %.\n",
      "Average loss: 0.09848488617921249\n"
     ]
    },
    {
     "data": {
      "text/plain": [
       "tensor(0.9599)"
      ]
     },
     "execution_count": 21,
     "metadata": {},
     "output_type": "execute_result"
    }
   ],
   "source": [
    "# accuracy after training\n",
    "pred, label = testing_pytorch(ffn_model, test_loader, criterion)\n",
    "sum(pred == label) / len(pred)"
   ]
  }
 ],
 "metadata": {
  "kernelspec": {
   "display_name": "nlpsig-networks",
   "language": "python",
   "name": "nlpsig-networks"
  },
  "language_info": {
   "codemirror_mode": {
    "name": "ipython",
    "version": 3
   },
   "file_extension": ".py",
   "mimetype": "text/x-python",
   "name": "python",
   "nbconvert_exporter": "python",
   "pygments_lexer": "ipython3",
   "version": "3.8.16"
  }
 },
 "nbformat": 4,
 "nbformat_minor": 5
}
