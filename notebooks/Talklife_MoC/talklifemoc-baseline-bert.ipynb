{
 "cells": [
  {
   "cell_type": "code",
   "execution_count": 1,
   "metadata": {},
   "outputs": [],
   "source": [
    "import pickle\n",
    "import numpy as np\n",
    "import re\n",
    "import os\n",
    "\n",
    "seed = 2023"
   ]
  },
  {
   "cell_type": "code",
   "execution_count": 2,
   "metadata": {},
   "outputs": [],
   "source": [
    "import torch\n",
    "\n",
    "# set device\n",
    "device = \"cuda\" if torch.cuda.is_available() else \"cpu\""
   ]
  },
  {
   "cell_type": "code",
   "execution_count": 3,
   "metadata": {},
   "outputs": [],
   "source": [
    "import transformers\n",
    "\n",
    "# set to only report critical errors to avoid excessing logging\n",
    "transformers.utils.logging.set_verbosity(50)"
   ]
  },
  {
   "cell_type": "code",
   "execution_count": 4,
   "metadata": {},
   "outputs": [],
   "source": [
    "from nlpsig_networks.scripts.fine_tune_bert_classification import (\n",
    "    fine_tune_transformer_average_seed,\n",
    ")"
   ]
  },
  {
   "cell_type": "code",
   "execution_count": 5,
   "metadata": {},
   "outputs": [],
   "source": [
    "output_dir = \"talklife_moc_output\"\n",
    "if not os.path.isdir(output_dir):\n",
    "    os.makedirs(output_dir)"
   ]
  },
  {
   "cell_type": "markdown",
   "metadata": {},
   "source": [
    "TalkLife MoC"
   ]
  },
  {
   "cell_type": "code",
   "execution_count": 6,
   "metadata": {},
   "outputs": [],
   "source": [
    "%run load_talklifemoc.py"
   ]
  },
  {
   "cell_type": "code",
   "execution_count": 7,
   "metadata": {},
   "outputs": [],
   "source": [
    "%run load_sbert-embeddings.py"
   ]
  },
  {
   "cell_type": "code",
   "execution_count": 8,
   "metadata": {},
   "outputs": [
    {
     "data": {
      "text/plain": [
       "torch.Size([18604, 384])"
      ]
     },
     "execution_count": 8,
     "metadata": {},
     "output_type": "execute_result"
    }
   ],
   "source": [
    "sbert_embeddings.shape"
   ]
  },
  {
   "cell_type": "markdown",
   "metadata": {},
   "source": [
    "Baseline: Fine-tune BERT for classification"
   ]
  },
  {
   "cell_type": "code",
   "execution_count": 9,
   "metadata": {},
   "outputs": [],
   "source": [
    "num_epochs = 10\n",
    "seeds = [1, 12, 123]\n",
    "loss = \"focal\"\n",
    "gamma = 2\n",
    "validation_metric = \"f1\""
   ]
  },
  {
   "cell_type": "code",
   "execution_count": 10,
   "metadata": {},
   "outputs": [],
   "source": [
    "# create indices for kfold\n",
    "fold_col_names = [c for c in df.columns if \"fold\" in c]\n",
    "fold_list = []\n",
    "for foldc in fold_col_names:\n",
    "    fold_list.append(\n",
    "        (\n",
    "            df[df[foldc] == \"train\"].index,\n",
    "            df[df[foldc] == \"dev\"].index,\n",
    "            df[df[foldc] == \"test\"].index,\n",
    "        )\n",
    "    )\n",
    "fold_list = tuple(fold_list)"
   ]
  },
  {
   "cell_type": "code",
   "execution_count": 11,
   "metadata": {},
   "outputs": [
    {
     "data": {
      "application/vnd.jupyter.widget-view+json": {
       "model_id": "29e2b59f2fcc42a2b191bf0df7db88ff",
       "version_major": 2,
       "version_minor": 0
      },
      "text/plain": [
       "Map:   0%|          | 0/18604 [00:00<?, ? examples/s]"
      ]
     },
     "metadata": {},
     "output_type": "display_data"
    },
    {
     "data": {
      "application/vnd.jupyter.widget-view+json": {
       "model_id": "9635ea149e2640279c7eb6c22005de9a",
       "version_major": 2,
       "version_minor": 0
      },
      "text/plain": [
       "Map:   0%|          | 0/18604 [00:00<?, ? examples/s]"
      ]
     },
     "metadata": {},
     "output_type": "display_data"
    },
    {
     "name": "stderr",
     "output_type": "stream",
     "text": [
      "/import/nlp/tt003/envs/nlpsig-networks/lib/python3.8/site-packages/transformers/optimization.py:411: FutureWarning: This implementation of AdamW is deprecated and will be removed in a future version. Use the PyTorch implementation torch.optim.AdamW instead, or set `no_deprecation_warning=True` to disable this warning\n",
      "  warnings.warn(\n"
     ]
    },
    {
     "ename": "ValueError",
     "evalue": "Unable to create tensor, you should probably activate truncation and/or padding with 'padding=True' 'truncation=True' to have batched tensors with the same length. Perhaps your features (`label` in this case) have excessive nesting (inputs type `list` where type `int` is expected).",
     "output_type": "error",
     "traceback": [
      "\u001b[0;31m---------------------------------------------------------------------------\u001b[0m",
      "\u001b[0;31mValueError\u001b[0m                                Traceback (most recent call last)",
      "File \u001b[0;32m/import/nlp/tt003/envs/nlpsig-networks/lib/python3.8/site-packages/transformers/tokenization_utils_base.py:731\u001b[0m, in \u001b[0;36mBatchEncoding.convert_to_tensors\u001b[0;34m(self, tensor_type, prepend_batch_axis)\u001b[0m\n\u001b[1;32m    <a href='file:///import/nlp/tt003/envs/nlpsig-networks/lib/python3.8/site-packages/transformers/tokenization_utils_base.py?line=729'>730</a>\u001b[0m \u001b[39mif\u001b[39;00m \u001b[39mnot\u001b[39;00m is_tensor(value):\n\u001b[0;32m--> <a href='file:///import/nlp/tt003/envs/nlpsig-networks/lib/python3.8/site-packages/transformers/tokenization_utils_base.py?line=730'>731</a>\u001b[0m     tensor \u001b[39m=\u001b[39m as_tensor(value)\n\u001b[1;32m    <a href='file:///import/nlp/tt003/envs/nlpsig-networks/lib/python3.8/site-packages/transformers/tokenization_utils_base.py?line=732'>733</a>\u001b[0m     \u001b[39m# Removing this for now in favor of controlling the shape with `prepend_batch_axis`\u001b[39;00m\n\u001b[1;32m    <a href='file:///import/nlp/tt003/envs/nlpsig-networks/lib/python3.8/site-packages/transformers/tokenization_utils_base.py?line=733'>734</a>\u001b[0m     \u001b[39m# # at-least2d\u001b[39;00m\n\u001b[1;32m    <a href='file:///import/nlp/tt003/envs/nlpsig-networks/lib/python3.8/site-packages/transformers/tokenization_utils_base.py?line=734'>735</a>\u001b[0m     \u001b[39m# if tensor.ndim > 2:\u001b[39;00m\n\u001b[1;32m    <a href='file:///import/nlp/tt003/envs/nlpsig-networks/lib/python3.8/site-packages/transformers/tokenization_utils_base.py?line=735'>736</a>\u001b[0m     \u001b[39m#     tensor = tensor.squeeze(0)\u001b[39;00m\n\u001b[1;32m    <a href='file:///import/nlp/tt003/envs/nlpsig-networks/lib/python3.8/site-packages/transformers/tokenization_utils_base.py?line=736'>737</a>\u001b[0m     \u001b[39m# elif tensor.ndim < 2:\u001b[39;00m\n\u001b[1;32m    <a href='file:///import/nlp/tt003/envs/nlpsig-networks/lib/python3.8/site-packages/transformers/tokenization_utils_base.py?line=737'>738</a>\u001b[0m     \u001b[39m#     tensor = tensor[None, :]\u001b[39;00m\n",
      "\u001b[0;31mValueError\u001b[0m: too many dimensions 'str'",
      "\nThe above exception was the direct cause of the following exception:\n",
      "\u001b[0;31mValueError\u001b[0m                                Traceback (most recent call last)",
      "Cell \u001b[0;32mIn[11], line 1\u001b[0m\n\u001b[0;32m----> 1\u001b[0m bert_classifier \u001b[38;5;241m=\u001b[39m \u001b[43mfine_tune_transformer_average_seed\u001b[49m\u001b[43m(\u001b[49m\n\u001b[1;32m      2\u001b[0m \u001b[43m    \u001b[49m\u001b[43mnum_epochs\u001b[49m\u001b[38;5;241;43m=\u001b[39;49m\u001b[43mnum_epochs\u001b[49m\u001b[43m,\u001b[49m\n\u001b[1;32m      3\u001b[0m \u001b[43m    \u001b[49m\u001b[43mpretrained_model_name\u001b[49m\u001b[38;5;241;43m=\u001b[39;49m\u001b[38;5;124;43m\"\u001b[39;49m\u001b[38;5;124;43mbert-base-uncased\u001b[39;49m\u001b[38;5;124;43m\"\u001b[39;49m\u001b[43m,\u001b[49m\n\u001b[1;32m      4\u001b[0m \u001b[43m    \u001b[49m\u001b[43mdf\u001b[49m\u001b[38;5;241;43m=\u001b[39;49m\u001b[43mdf\u001b[49m\u001b[43m,\u001b[49m\n\u001b[1;32m      5\u001b[0m \u001b[43m    \u001b[49m\u001b[43mfeature_name\u001b[49m\u001b[38;5;241;43m=\u001b[39;49m\u001b[38;5;124;43m\"\u001b[39;49m\u001b[38;5;124;43mcontent\u001b[39;49m\u001b[38;5;124;43m\"\u001b[39;49m\u001b[43m,\u001b[49m\n\u001b[1;32m      6\u001b[0m \u001b[43m    \u001b[49m\u001b[43mlabel_column\u001b[49m\u001b[38;5;241;43m=\u001b[39;49m\u001b[38;5;124;43m\"\u001b[39;49m\u001b[38;5;124;43mlabel\u001b[39;49m\u001b[38;5;124;43m\"\u001b[39;49m\u001b[43m,\u001b[49m\n\u001b[1;32m      7\u001b[0m \u001b[43m    \u001b[49m\u001b[43mseeds\u001b[49m\u001b[38;5;241;43m=\u001b[39;49m\u001b[43mseeds\u001b[49m\u001b[43m,\u001b[49m\n\u001b[1;32m      8\u001b[0m \u001b[43m    \u001b[49m\u001b[43mloss\u001b[49m\u001b[38;5;241;43m=\u001b[39;49m\u001b[43mloss\u001b[49m\u001b[43m,\u001b[49m\n\u001b[1;32m      9\u001b[0m \u001b[43m    \u001b[49m\u001b[43mgamma\u001b[49m\u001b[38;5;241;43m=\u001b[39;49m\u001b[43mgamma\u001b[49m\u001b[43m,\u001b[49m\n\u001b[1;32m     10\u001b[0m \u001b[43m    \u001b[49m\u001b[43msplit_ids\u001b[49m\u001b[38;5;241;43m=\u001b[39;49m\u001b[38;5;28;43;01mNone\u001b[39;49;00m\u001b[43m,\u001b[49m\u001b[43m \u001b[49m\n\u001b[1;32m     11\u001b[0m \u001b[43m    \u001b[49m\u001b[43msplit_indices\u001b[49m\u001b[38;5;241;43m=\u001b[39;49m\u001b[43mfold_list\u001b[49m\u001b[43m,\u001b[49m\n\u001b[1;32m     12\u001b[0m \u001b[43m    \u001b[49m\u001b[43mk_fold\u001b[49m\u001b[38;5;241;43m=\u001b[39;49m\u001b[38;5;28;43;01mTrue\u001b[39;49;00m\u001b[43m,\u001b[49m\n\u001b[1;32m     13\u001b[0m \u001b[43m    \u001b[49m\u001b[43mvalidation_metric\u001b[49m\u001b[38;5;241;43m=\u001b[39;49m\u001b[43mvalidation_metric\u001b[49m\u001b[43m,\u001b[49m\n\u001b[1;32m     14\u001b[0m \u001b[43m    \u001b[49m\u001b[43mresults_output\u001b[49m\u001b[38;5;241;43m=\u001b[39;49m\u001b[38;5;124;43mf\u001b[39;49m\u001b[38;5;124;43m\"\u001b[39;49m\u001b[38;5;132;43;01m{\u001b[39;49;00m\u001b[43moutput_dir\u001b[49m\u001b[38;5;132;43;01m}\u001b[39;49;00m\u001b[38;5;124;43m/bert_classifier.csv\u001b[39;49m\u001b[38;5;124;43m\"\u001b[39;49m\u001b[43m,\u001b[49m\n\u001b[1;32m     15\u001b[0m \u001b[43m    \u001b[49m\u001b[43mdevice\u001b[49m\u001b[38;5;241;43m=\u001b[39;49m\u001b[43mdevice\u001b[49m\u001b[43m,\u001b[49m\n\u001b[1;32m     16\u001b[0m \u001b[43m    \u001b[49m\u001b[43mverbose\u001b[49m\u001b[38;5;241;43m=\u001b[39;49m\u001b[38;5;28;43;01mFalse\u001b[39;49;00m\u001b[43m,\u001b[49m\n\u001b[1;32m     17\u001b[0m \u001b[43m)\u001b[49m\n",
      "File \u001b[0;32m~/nlpsig-networks/nlpsig_networks/scripts/fine_tune_bert_classification.py:451\u001b[0m, in \u001b[0;36mfine_tune_transformer_average_seed\u001b[0;34m(num_epochs, pretrained_model_name, df, feature_name, label_column, seeds, loss, gamma, path_indices, data_split_seed, split_ids, split_indices, k_fold, n_splits, validation_metric, return_metric_for_each_fold, results_output, device, verbose)\u001b[0m\n\u001b[1;32m    <a href='file:///homes/tt003/nlpsig-networks/nlpsig_networks/scripts/fine_tune_bert_classification.py?line=448'>449</a>\u001b[0m test_results_df \u001b[39m=\u001b[39m pd\u001b[39m.\u001b[39mDataFrame()\n\u001b[1;32m    <a href='file:///homes/tt003/nlpsig-networks/nlpsig_networks/scripts/fine_tune_bert_classification.py?line=449'>450</a>\u001b[0m \u001b[39mfor\u001b[39;00m seed \u001b[39min\u001b[39;00m seeds:\n\u001b[0;32m--> <a href='file:///homes/tt003/nlpsig-networks/nlpsig_networks/scripts/fine_tune_bert_classification.py?line=450'>451</a>\u001b[0m     test_results \u001b[39m=\u001b[39m fine_tune_transformer_for_classification(\n\u001b[1;32m    <a href='file:///homes/tt003/nlpsig-networks/nlpsig_networks/scripts/fine_tune_bert_classification.py?line=451'>452</a>\u001b[0m         num_epochs\u001b[39m=\u001b[39;49mnum_epochs,\n\u001b[1;32m    <a href='file:///homes/tt003/nlpsig-networks/nlpsig_networks/scripts/fine_tune_bert_classification.py?line=452'>453</a>\u001b[0m         pretrained_model_name\u001b[39m=\u001b[39;49mpretrained_model_name,\n\u001b[1;32m    <a href='file:///homes/tt003/nlpsig-networks/nlpsig_networks/scripts/fine_tune_bert_classification.py?line=453'>454</a>\u001b[0m         df\u001b[39m=\u001b[39;49mdf,\n\u001b[1;32m    <a href='file:///homes/tt003/nlpsig-networks/nlpsig_networks/scripts/fine_tune_bert_classification.py?line=454'>455</a>\u001b[0m         feature_name\u001b[39m=\u001b[39;49mfeature_name,\n\u001b[1;32m    <a href='file:///homes/tt003/nlpsig-networks/nlpsig_networks/scripts/fine_tune_bert_classification.py?line=455'>456</a>\u001b[0m         label_column\u001b[39m=\u001b[39;49mlabel_column,\n\u001b[1;32m    <a href='file:///homes/tt003/nlpsig-networks/nlpsig_networks/scripts/fine_tune_bert_classification.py?line=456'>457</a>\u001b[0m         seed\u001b[39m=\u001b[39;49mseed,\n\u001b[1;32m    <a href='file:///homes/tt003/nlpsig-networks/nlpsig_networks/scripts/fine_tune_bert_classification.py?line=457'>458</a>\u001b[0m         loss\u001b[39m=\u001b[39;49mloss,\n\u001b[1;32m    <a href='file:///homes/tt003/nlpsig-networks/nlpsig_networks/scripts/fine_tune_bert_classification.py?line=458'>459</a>\u001b[0m         gamma\u001b[39m=\u001b[39;49mgamma,\n\u001b[1;32m    <a href='file:///homes/tt003/nlpsig-networks/nlpsig_networks/scripts/fine_tune_bert_classification.py?line=459'>460</a>\u001b[0m         path_indices\u001b[39m=\u001b[39;49mpath_indices,\n\u001b[1;32m    <a href='file:///homes/tt003/nlpsig-networks/nlpsig_networks/scripts/fine_tune_bert_classification.py?line=460'>461</a>\u001b[0m         data_split_seed\u001b[39m=\u001b[39;49mdata_split_seed,\n\u001b[1;32m    <a href='file:///homes/tt003/nlpsig-networks/nlpsig_networks/scripts/fine_tune_bert_classification.py?line=461'>462</a>\u001b[0m         k_fold\u001b[39m=\u001b[39;49mk_fold,\n\u001b[1;32m    <a href='file:///homes/tt003/nlpsig-networks/nlpsig_networks/scripts/fine_tune_bert_classification.py?line=462'>463</a>\u001b[0m         n_splits\u001b[39m=\u001b[39;49mn_splits,\n\u001b[1;32m    <a href='file:///homes/tt003/nlpsig-networks/nlpsig_networks/scripts/fine_tune_bert_classification.py?line=463'>464</a>\u001b[0m         split_ids\u001b[39m=\u001b[39;49msplit_ids,\n\u001b[1;32m    <a href='file:///homes/tt003/nlpsig-networks/nlpsig_networks/scripts/fine_tune_bert_classification.py?line=464'>465</a>\u001b[0m         split_indices\u001b[39m=\u001b[39;49msplit_indices,\n\u001b[1;32m    <a href='file:///homes/tt003/nlpsig-networks/nlpsig_networks/scripts/fine_tune_bert_classification.py?line=465'>466</a>\u001b[0m         return_metric_for_each_fold\u001b[39m=\u001b[39;49mreturn_metric_for_each_fold,\n\u001b[1;32m    <a href='file:///homes/tt003/nlpsig-networks/nlpsig_networks/scripts/fine_tune_bert_classification.py?line=466'>467</a>\u001b[0m         device\u001b[39m=\u001b[39;49mdevice,\n\u001b[1;32m    <a href='file:///homes/tt003/nlpsig-networks/nlpsig_networks/scripts/fine_tune_bert_classification.py?line=467'>468</a>\u001b[0m         verbose\u001b[39m=\u001b[39;49mverbose,\n\u001b[1;32m    <a href='file:///homes/tt003/nlpsig-networks/nlpsig_networks/scripts/fine_tune_bert_classification.py?line=468'>469</a>\u001b[0m     )\n\u001b[1;32m    <a href='file:///homes/tt003/nlpsig-networks/nlpsig_networks/scripts/fine_tune_bert_classification.py?line=470'>471</a>\u001b[0m     test_results[\u001b[39m\"\u001b[39m\u001b[39mseed\u001b[39m\u001b[39m\"\u001b[39m] \u001b[39m=\u001b[39m seed\n\u001b[1;32m    <a href='file:///homes/tt003/nlpsig-networks/nlpsig_networks/scripts/fine_tune_bert_classification.py?line=471'>472</a>\u001b[0m     test_results[\u001b[39m\"\u001b[39m\u001b[39mloss\u001b[39m\u001b[39m\"\u001b[39m] \u001b[39m=\u001b[39m loss\n",
      "File \u001b[0;32m~/nlpsig-networks/nlpsig_networks/scripts/fine_tune_bert_classification.py:309\u001b[0m, in \u001b[0;36mfine_tune_transformer_for_classification\u001b[0;34m(num_epochs, pretrained_model_name, df, feature_name, label_column, seed, loss, gamma, path_indices, data_split_seed, split_ids, split_indices, k_fold, n_splits, return_metric_for_each_fold, device, verbose)\u001b[0m\n\u001b[1;32m    <a href='file:///homes/tt003/nlpsig-networks/nlpsig_networks/scripts/fine_tune_bert_classification.py?line=305'>306</a>\u001b[0m predicted \u001b[39m=\u001b[39m torch\u001b[39m.\u001b[39mempty((\u001b[39m0\u001b[39m))\n\u001b[1;32m    <a href='file:///homes/tt003/nlpsig-networks/nlpsig_networks/scripts/fine_tune_bert_classification.py?line=306'>307</a>\u001b[0m \u001b[39mfor\u001b[39;00m k \u001b[39min\u001b[39;00m \u001b[39mrange\u001b[39m(n_splits):\n\u001b[1;32m    <a href='file:///homes/tt003/nlpsig-networks/nlpsig_networks/scripts/fine_tune_bert_classification.py?line=307'>308</a>\u001b[0m     \u001b[39m# compute how well the model performs on this fold\u001b[39;00m\n\u001b[0;32m--> <a href='file:///homes/tt003/nlpsig-networks/nlpsig_networks/scripts/fine_tune_bert_classification.py?line=308'>309</a>\u001b[0m     results_for_fold \u001b[39m=\u001b[39m _fine_tune_transformer_for_data_split(\n\u001b[1;32m    <a href='file:///homes/tt003/nlpsig-networks/nlpsig_networks/scripts/fine_tune_bert_classification.py?line=309'>310</a>\u001b[0m         num_epochs\u001b[39m=\u001b[39;49mnum_epochs,\n\u001b[1;32m    <a href='file:///homes/tt003/nlpsig-networks/nlpsig_networks/scripts/fine_tune_bert_classification.py?line=310'>311</a>\u001b[0m         pretrained_model_name\u001b[39m=\u001b[39;49mpretrained_model_name,\n\u001b[1;32m    <a href='file:///homes/tt003/nlpsig-networks/nlpsig_networks/scripts/fine_tune_bert_classification.py?line=311'>312</a>\u001b[0m         df\u001b[39m=\u001b[39;49mdf,\n\u001b[1;32m    <a href='file:///homes/tt003/nlpsig-networks/nlpsig_networks/scripts/fine_tune_bert_classification.py?line=312'>313</a>\u001b[0m         feature_name\u001b[39m=\u001b[39;49mfeature_name,\n\u001b[1;32m    <a href='file:///homes/tt003/nlpsig-networks/nlpsig_networks/scripts/fine_tune_bert_classification.py?line=313'>314</a>\u001b[0m         label_column\u001b[39m=\u001b[39;49mlabel_column,\n\u001b[1;32m    <a href='file:///homes/tt003/nlpsig-networks/nlpsig_networks/scripts/fine_tune_bert_classification.py?line=314'>315</a>\u001b[0m         path_indices\u001b[39m=\u001b[39;49mpath_indices,\n\u001b[1;32m    <a href='file:///homes/tt003/nlpsig-networks/nlpsig_networks/scripts/fine_tune_bert_classification.py?line=315'>316</a>\u001b[0m         split_indices\u001b[39m=\u001b[39;49mfolds\u001b[39m.\u001b[39;49mfold_indices[k],\n\u001b[1;32m    <a href='file:///homes/tt003/nlpsig-networks/nlpsig_networks/scripts/fine_tune_bert_classification.py?line=316'>317</a>\u001b[0m         seed\u001b[39m=\u001b[39;49mseed,\n\u001b[1;32m    <a href='file:///homes/tt003/nlpsig-networks/nlpsig_networks/scripts/fine_tune_bert_classification.py?line=317'>318</a>\u001b[0m         loss\u001b[39m=\u001b[39;49mloss,\n\u001b[1;32m    <a href='file:///homes/tt003/nlpsig-networks/nlpsig_networks/scripts/fine_tune_bert_classification.py?line=318'>319</a>\u001b[0m         gamma\u001b[39m=\u001b[39;49mgamma,\n\u001b[1;32m    <a href='file:///homes/tt003/nlpsig-networks/nlpsig_networks/scripts/fine_tune_bert_classification.py?line=319'>320</a>\u001b[0m         save_model\u001b[39m=\u001b[39;49m\u001b[39mFalse\u001b[39;49;00m,\n\u001b[1;32m    <a href='file:///homes/tt003/nlpsig-networks/nlpsig_networks/scripts/fine_tune_bert_classification.py?line=320'>321</a>\u001b[0m         device\u001b[39m=\u001b[39;49mdevice,\n\u001b[1;32m    <a href='file:///homes/tt003/nlpsig-networks/nlpsig_networks/scripts/fine_tune_bert_classification.py?line=321'>322</a>\u001b[0m         verbose\u001b[39m=\u001b[39;49mverbose,\n\u001b[1;32m    <a href='file:///homes/tt003/nlpsig-networks/nlpsig_networks/scripts/fine_tune_bert_classification.py?line=322'>323</a>\u001b[0m     )\n\u001b[1;32m    <a href='file:///homes/tt003/nlpsig-networks/nlpsig_networks/scripts/fine_tune_bert_classification.py?line=324'>325</a>\u001b[0m     \u001b[39m# store the true labels and predicted labels for this fold\u001b[39;00m\n\u001b[1;32m    <a href='file:///homes/tt003/nlpsig-networks/nlpsig_networks/scripts/fine_tune_bert_classification.py?line=325'>326</a>\u001b[0m     labels \u001b[39m=\u001b[39m torch\u001b[39m.\u001b[39mcat([labels, results_for_fold[\u001b[39m\"\u001b[39m\u001b[39mlabels\u001b[39m\u001b[39m\"\u001b[39m]])\n",
      "File \u001b[0;32m~/nlpsig-networks/nlpsig_networks/scripts/fine_tune_bert_classification.py:224\u001b[0m, in \u001b[0;36m_fine_tune_transformer_for_data_split\u001b[0;34m(num_epochs, pretrained_model_name, df, feature_name, label_column, seed, loss, gamma, batch_size, path_indices, split_indices, save_model, output_dir, device, verbose)\u001b[0m\n\u001b[1;32m    <a href='file:///homes/tt003/nlpsig-networks/nlpsig_networks/scripts/fine_tune_bert_classification.py?line=216'>217</a>\u001b[0m text_encoder\u001b[39m.\u001b[39mset_up_trainer(\n\u001b[1;32m    <a href='file:///homes/tt003/nlpsig-networks/nlpsig_networks/scripts/fine_tune_bert_classification.py?line=217'>218</a>\u001b[0m     data_collator\u001b[39m=\u001b[39mdata_collator,\n\u001b[1;32m    <a href='file:///homes/tt003/nlpsig-networks/nlpsig_networks/scripts/fine_tune_bert_classification.py?line=218'>219</a>\u001b[0m     compute_metrics\u001b[39m=\u001b[39m_compute_metrics,\n\u001b[1;32m    <a href='file:///homes/tt003/nlpsig-networks/nlpsig_networks/scripts/fine_tune_bert_classification.py?line=219'>220</a>\u001b[0m     custom_loss\u001b[39m=\u001b[39mcriterion\u001b[39m.\u001b[39mforward,\n\u001b[1;32m    <a href='file:///homes/tt003/nlpsig-networks/nlpsig_networks/scripts/fine_tune_bert_classification.py?line=220'>221</a>\u001b[0m )\n\u001b[1;32m    <a href='file:///homes/tt003/nlpsig-networks/nlpsig_networks/scripts/fine_tune_bert_classification.py?line=222'>223</a>\u001b[0m \u001b[39m# train model\u001b[39;00m\n\u001b[0;32m--> <a href='file:///homes/tt003/nlpsig-networks/nlpsig_networks/scripts/fine_tune_bert_classification.py?line=223'>224</a>\u001b[0m text_encoder\u001b[39m.\u001b[39;49mfit_transformer_with_trainer_api()\n\u001b[1;32m    <a href='file:///homes/tt003/nlpsig-networks/nlpsig_networks/scripts/fine_tune_bert_classification.py?line=225'>226</a>\u001b[0m \u001b[39m# evaluate\u001b[39;00m\n\u001b[1;32m    <a href='file:///homes/tt003/nlpsig-networks/nlpsig_networks/scripts/fine_tune_bert_classification.py?line=226'>227</a>\u001b[0m test_performance \u001b[39m=\u001b[39m testing_transformer(\n\u001b[1;32m    <a href='file:///homes/tt003/nlpsig-networks/nlpsig_networks/scripts/fine_tune_bert_classification.py?line=227'>228</a>\u001b[0m     model\u001b[39m=\u001b[39mtext_encoder\u001b[39m.\u001b[39mmodel,\n\u001b[1;32m    <a href='file:///homes/tt003/nlpsig-networks/nlpsig_networks/scripts/fine_tune_bert_classification.py?line=228'>229</a>\u001b[0m     tokenizer\u001b[39m=\u001b[39mtext_encoder\u001b[39m.\u001b[39mtokenizer,\n\u001b[0;32m   (...)\u001b[0m\n\u001b[1;32m    <a href='file:///homes/tt003/nlpsig-networks/nlpsig_networks/scripts/fine_tune_bert_classification.py?line=232'>233</a>\u001b[0m     verbose\u001b[39m=\u001b[39mverbose,\n\u001b[1;32m    <a href='file:///homes/tt003/nlpsig-networks/nlpsig_networks/scripts/fine_tune_bert_classification.py?line=233'>234</a>\u001b[0m )\n",
      "File \u001b[0;32m~/nlpsig/src/nlpsig/encode_text.py:1363\u001b[0m, in \u001b[0;36mTextEncoder.fit_transformer_with_trainer_api\u001b[0;34m(self, output_dir, data_collator, compute_metrics, training_args, trainer_args)\u001b[0m\n\u001b[1;32m   <a href='file:///homes/tt003/nlpsig/src/nlpsig/encode_text.py?line=1357'>1358</a>\u001b[0m     \u001b[39mprint\u001b[39m(\n\u001b[1;32m   <a href='file:///homes/tt003/nlpsig/src/nlpsig/encode_text.py?line=1358'>1359</a>\u001b[0m         \u001b[39mf\u001b[39m\u001b[39m\"\u001b[39m\u001b[39m[INFO] Training model with \u001b[39m\u001b[39m{\u001b[39;00m\u001b[39mself\u001b[39m\u001b[39m.\u001b[39mmodel\u001b[39m.\u001b[39mnum_parameters()\u001b[39m}\u001b[39;00m\u001b[39m parameters...\u001b[39m\u001b[39m\"\u001b[39m\n\u001b[1;32m   <a href='file:///homes/tt003/nlpsig/src/nlpsig/encode_text.py?line=1359'>1360</a>\u001b[0m     )\n\u001b[1;32m   <a href='file:///homes/tt003/nlpsig/src/nlpsig/encode_text.py?line=1361'>1362</a>\u001b[0m \u001b[39m# train model\u001b[39;00m\n\u001b[0;32m-> <a href='file:///homes/tt003/nlpsig/src/nlpsig/encode_text.py?line=1362'>1363</a>\u001b[0m \u001b[39mself\u001b[39;49m\u001b[39m.\u001b[39;49mtrainer\u001b[39m.\u001b[39;49mtrain()\n\u001b[1;32m   <a href='file:///homes/tt003/nlpsig/src/nlpsig/encode_text.py?line=1364'>1365</a>\u001b[0m \u001b[39mif\u001b[39;00m \u001b[39mself\u001b[39m\u001b[39m.\u001b[39mverbose:\n\u001b[1;32m   <a href='file:///homes/tt003/nlpsig/src/nlpsig/encode_text.py?line=1365'>1366</a>\u001b[0m     \u001b[39mprint\u001b[39m(\u001b[39m\"\u001b[39m\u001b[39m[INFO] Training completed!\u001b[39m\u001b[39m\"\u001b[39m)\n",
      "File \u001b[0;32m/import/nlp/tt003/envs/nlpsig-networks/lib/python3.8/site-packages/transformers/trainer.py:1645\u001b[0m, in \u001b[0;36mTrainer.train\u001b[0;34m(self, resume_from_checkpoint, trial, ignore_keys_for_eval, **kwargs)\u001b[0m\n\u001b[1;32m   <a href='file:///import/nlp/tt003/envs/nlpsig-networks/lib/python3.8/site-packages/transformers/trainer.py?line=1639'>1640</a>\u001b[0m     \u001b[39mself\u001b[39m\u001b[39m.\u001b[39mmodel_wrapped \u001b[39m=\u001b[39m \u001b[39mself\u001b[39m\u001b[39m.\u001b[39mmodel\n\u001b[1;32m   <a href='file:///import/nlp/tt003/envs/nlpsig-networks/lib/python3.8/site-packages/transformers/trainer.py?line=1641'>1642</a>\u001b[0m inner_training_loop \u001b[39m=\u001b[39m find_executable_batch_size(\n\u001b[1;32m   <a href='file:///import/nlp/tt003/envs/nlpsig-networks/lib/python3.8/site-packages/transformers/trainer.py?line=1642'>1643</a>\u001b[0m     \u001b[39mself\u001b[39m\u001b[39m.\u001b[39m_inner_training_loop, \u001b[39mself\u001b[39m\u001b[39m.\u001b[39m_train_batch_size, args\u001b[39m.\u001b[39mauto_find_batch_size\n\u001b[1;32m   <a href='file:///import/nlp/tt003/envs/nlpsig-networks/lib/python3.8/site-packages/transformers/trainer.py?line=1643'>1644</a>\u001b[0m )\n\u001b[0;32m-> <a href='file:///import/nlp/tt003/envs/nlpsig-networks/lib/python3.8/site-packages/transformers/trainer.py?line=1644'>1645</a>\u001b[0m \u001b[39mreturn\u001b[39;00m inner_training_loop(\n\u001b[1;32m   <a href='file:///import/nlp/tt003/envs/nlpsig-networks/lib/python3.8/site-packages/transformers/trainer.py?line=1645'>1646</a>\u001b[0m     args\u001b[39m=\u001b[39;49margs,\n\u001b[1;32m   <a href='file:///import/nlp/tt003/envs/nlpsig-networks/lib/python3.8/site-packages/transformers/trainer.py?line=1646'>1647</a>\u001b[0m     resume_from_checkpoint\u001b[39m=\u001b[39;49mresume_from_checkpoint,\n\u001b[1;32m   <a href='file:///import/nlp/tt003/envs/nlpsig-networks/lib/python3.8/site-packages/transformers/trainer.py?line=1647'>1648</a>\u001b[0m     trial\u001b[39m=\u001b[39;49mtrial,\n\u001b[1;32m   <a href='file:///import/nlp/tt003/envs/nlpsig-networks/lib/python3.8/site-packages/transformers/trainer.py?line=1648'>1649</a>\u001b[0m     ignore_keys_for_eval\u001b[39m=\u001b[39;49mignore_keys_for_eval,\n\u001b[1;32m   <a href='file:///import/nlp/tt003/envs/nlpsig-networks/lib/python3.8/site-packages/transformers/trainer.py?line=1649'>1650</a>\u001b[0m )\n",
      "File \u001b[0;32m/import/nlp/tt003/envs/nlpsig-networks/lib/python3.8/site-packages/transformers/trainer.py:1916\u001b[0m, in \u001b[0;36mTrainer._inner_training_loop\u001b[0;34m(self, batch_size, args, resume_from_checkpoint, trial, ignore_keys_for_eval)\u001b[0m\n\u001b[1;32m   <a href='file:///import/nlp/tt003/envs/nlpsig-networks/lib/python3.8/site-packages/transformers/trainer.py?line=1912'>1913</a>\u001b[0m     rng_to_sync \u001b[39m=\u001b[39m \u001b[39mTrue\u001b[39;00m\n\u001b[1;32m   <a href='file:///import/nlp/tt003/envs/nlpsig-networks/lib/python3.8/site-packages/transformers/trainer.py?line=1914'>1915</a>\u001b[0m step \u001b[39m=\u001b[39m \u001b[39m-\u001b[39m\u001b[39m1\u001b[39m\n\u001b[0;32m-> <a href='file:///import/nlp/tt003/envs/nlpsig-networks/lib/python3.8/site-packages/transformers/trainer.py?line=1915'>1916</a>\u001b[0m \u001b[39mfor\u001b[39;00m step, inputs \u001b[39min\u001b[39;00m \u001b[39menumerate\u001b[39m(epoch_iterator):\n\u001b[1;32m   <a href='file:///import/nlp/tt003/envs/nlpsig-networks/lib/python3.8/site-packages/transformers/trainer.py?line=1916'>1917</a>\u001b[0m     total_batched_samples \u001b[39m+\u001b[39m\u001b[39m=\u001b[39m \u001b[39m1\u001b[39m\n\u001b[1;32m   <a href='file:///import/nlp/tt003/envs/nlpsig-networks/lib/python3.8/site-packages/transformers/trainer.py?line=1917'>1918</a>\u001b[0m     \u001b[39mif\u001b[39;00m rng_to_sync:\n",
      "File \u001b[0;32m/import/nlp/tt003/envs/nlpsig-networks/lib/python3.8/site-packages/torch/utils/data/dataloader.py:521\u001b[0m, in \u001b[0;36m_BaseDataLoaderIter.__next__\u001b[0;34m(self)\u001b[0m\n\u001b[1;32m    <a href='file:///import/nlp/tt003/envs/nlpsig-networks/lib/python3.8/site-packages/torch/utils/data/dataloader.py?line=518'>519</a>\u001b[0m \u001b[39mif\u001b[39;00m \u001b[39mself\u001b[39m\u001b[39m.\u001b[39m_sampler_iter \u001b[39mis\u001b[39;00m \u001b[39mNone\u001b[39;00m:\n\u001b[1;32m    <a href='file:///import/nlp/tt003/envs/nlpsig-networks/lib/python3.8/site-packages/torch/utils/data/dataloader.py?line=519'>520</a>\u001b[0m     \u001b[39mself\u001b[39m\u001b[39m.\u001b[39m_reset()\n\u001b[0;32m--> <a href='file:///import/nlp/tt003/envs/nlpsig-networks/lib/python3.8/site-packages/torch/utils/data/dataloader.py?line=520'>521</a>\u001b[0m data \u001b[39m=\u001b[39m \u001b[39mself\u001b[39;49m\u001b[39m.\u001b[39;49m_next_data()\n\u001b[1;32m    <a href='file:///import/nlp/tt003/envs/nlpsig-networks/lib/python3.8/site-packages/torch/utils/data/dataloader.py?line=521'>522</a>\u001b[0m \u001b[39mself\u001b[39m\u001b[39m.\u001b[39m_num_yielded \u001b[39m+\u001b[39m\u001b[39m=\u001b[39m \u001b[39m1\u001b[39m\n\u001b[1;32m    <a href='file:///import/nlp/tt003/envs/nlpsig-networks/lib/python3.8/site-packages/torch/utils/data/dataloader.py?line=522'>523</a>\u001b[0m \u001b[39mif\u001b[39;00m \u001b[39mself\u001b[39m\u001b[39m.\u001b[39m_dataset_kind \u001b[39m==\u001b[39m _DatasetKind\u001b[39m.\u001b[39mIterable \u001b[39mand\u001b[39;00m \\\n\u001b[1;32m    <a href='file:///import/nlp/tt003/envs/nlpsig-networks/lib/python3.8/site-packages/torch/utils/data/dataloader.py?line=523'>524</a>\u001b[0m         \u001b[39mself\u001b[39m\u001b[39m.\u001b[39m_IterableDataset_len_called \u001b[39mis\u001b[39;00m \u001b[39mnot\u001b[39;00m \u001b[39mNone\u001b[39;00m \u001b[39mand\u001b[39;00m \\\n\u001b[1;32m    <a href='file:///import/nlp/tt003/envs/nlpsig-networks/lib/python3.8/site-packages/torch/utils/data/dataloader.py?line=524'>525</a>\u001b[0m         \u001b[39mself\u001b[39m\u001b[39m.\u001b[39m_num_yielded \u001b[39m>\u001b[39m \u001b[39mself\u001b[39m\u001b[39m.\u001b[39m_IterableDataset_len_called:\n",
      "File \u001b[0;32m/import/nlp/tt003/envs/nlpsig-networks/lib/python3.8/site-packages/torch/utils/data/dataloader.py:561\u001b[0m, in \u001b[0;36m_SingleProcessDataLoaderIter._next_data\u001b[0;34m(self)\u001b[0m\n\u001b[1;32m    <a href='file:///import/nlp/tt003/envs/nlpsig-networks/lib/python3.8/site-packages/torch/utils/data/dataloader.py?line=558'>559</a>\u001b[0m \u001b[39mdef\u001b[39;00m \u001b[39m_next_data\u001b[39m(\u001b[39mself\u001b[39m):\n\u001b[1;32m    <a href='file:///import/nlp/tt003/envs/nlpsig-networks/lib/python3.8/site-packages/torch/utils/data/dataloader.py?line=559'>560</a>\u001b[0m     index \u001b[39m=\u001b[39m \u001b[39mself\u001b[39m\u001b[39m.\u001b[39m_next_index()  \u001b[39m# may raise StopIteration\u001b[39;00m\n\u001b[0;32m--> <a href='file:///import/nlp/tt003/envs/nlpsig-networks/lib/python3.8/site-packages/torch/utils/data/dataloader.py?line=560'>561</a>\u001b[0m     data \u001b[39m=\u001b[39m \u001b[39mself\u001b[39;49m\u001b[39m.\u001b[39;49m_dataset_fetcher\u001b[39m.\u001b[39;49mfetch(index)  \u001b[39m# may raise StopIteration\u001b[39;00m\n\u001b[1;32m    <a href='file:///import/nlp/tt003/envs/nlpsig-networks/lib/python3.8/site-packages/torch/utils/data/dataloader.py?line=561'>562</a>\u001b[0m     \u001b[39mif\u001b[39;00m \u001b[39mself\u001b[39m\u001b[39m.\u001b[39m_pin_memory:\n\u001b[1;32m    <a href='file:///import/nlp/tt003/envs/nlpsig-networks/lib/python3.8/site-packages/torch/utils/data/dataloader.py?line=562'>563</a>\u001b[0m         data \u001b[39m=\u001b[39m _utils\u001b[39m.\u001b[39mpin_memory\u001b[39m.\u001b[39mpin_memory(data)\n",
      "File \u001b[0;32m/import/nlp/tt003/envs/nlpsig-networks/lib/python3.8/site-packages/torch/utils/data/_utils/fetch.py:47\u001b[0m, in \u001b[0;36m_MapDatasetFetcher.fetch\u001b[0;34m(self, possibly_batched_index)\u001b[0m\n\u001b[1;32m     <a href='file:///import/nlp/tt003/envs/nlpsig-networks/lib/python3.8/site-packages/torch/utils/data/_utils/fetch.py?line=44'>45</a>\u001b[0m \u001b[39melse\u001b[39;00m:\n\u001b[1;32m     <a href='file:///import/nlp/tt003/envs/nlpsig-networks/lib/python3.8/site-packages/torch/utils/data/_utils/fetch.py?line=45'>46</a>\u001b[0m     data \u001b[39m=\u001b[39m \u001b[39mself\u001b[39m\u001b[39m.\u001b[39mdataset[possibly_batched_index]\n\u001b[0;32m---> <a href='file:///import/nlp/tt003/envs/nlpsig-networks/lib/python3.8/site-packages/torch/utils/data/_utils/fetch.py?line=46'>47</a>\u001b[0m \u001b[39mreturn\u001b[39;00m \u001b[39mself\u001b[39;49m\u001b[39m.\u001b[39;49mcollate_fn(data)\n",
      "File \u001b[0;32m/import/nlp/tt003/envs/nlpsig-networks/lib/python3.8/site-packages/transformers/data/data_collator.py:249\u001b[0m, in \u001b[0;36mDataCollatorWithPadding.__call__\u001b[0;34m(self, features)\u001b[0m\n\u001b[1;32m    <a href='file:///import/nlp/tt003/envs/nlpsig-networks/lib/python3.8/site-packages/transformers/data/data_collator.py?line=247'>248</a>\u001b[0m \u001b[39mdef\u001b[39;00m \u001b[39m__call__\u001b[39m(\u001b[39mself\u001b[39m, features: List[Dict[\u001b[39mstr\u001b[39m, Any]]) \u001b[39m-\u001b[39m\u001b[39m>\u001b[39m Dict[\u001b[39mstr\u001b[39m, Any]:\n\u001b[0;32m--> <a href='file:///import/nlp/tt003/envs/nlpsig-networks/lib/python3.8/site-packages/transformers/data/data_collator.py?line=248'>249</a>\u001b[0m     batch \u001b[39m=\u001b[39m \u001b[39mself\u001b[39;49m\u001b[39m.\u001b[39;49mtokenizer\u001b[39m.\u001b[39;49mpad(\n\u001b[1;32m    <a href='file:///import/nlp/tt003/envs/nlpsig-networks/lib/python3.8/site-packages/transformers/data/data_collator.py?line=249'>250</a>\u001b[0m         features,\n\u001b[1;32m    <a href='file:///import/nlp/tt003/envs/nlpsig-networks/lib/python3.8/site-packages/transformers/data/data_collator.py?line=250'>251</a>\u001b[0m         padding\u001b[39m=\u001b[39;49m\u001b[39mself\u001b[39;49m\u001b[39m.\u001b[39;49mpadding,\n\u001b[1;32m    <a href='file:///import/nlp/tt003/envs/nlpsig-networks/lib/python3.8/site-packages/transformers/data/data_collator.py?line=251'>252</a>\u001b[0m         max_length\u001b[39m=\u001b[39;49m\u001b[39mself\u001b[39;49m\u001b[39m.\u001b[39;49mmax_length,\n\u001b[1;32m    <a href='file:///import/nlp/tt003/envs/nlpsig-networks/lib/python3.8/site-packages/transformers/data/data_collator.py?line=252'>253</a>\u001b[0m         pad_to_multiple_of\u001b[39m=\u001b[39;49m\u001b[39mself\u001b[39;49m\u001b[39m.\u001b[39;49mpad_to_multiple_of,\n\u001b[1;32m    <a href='file:///import/nlp/tt003/envs/nlpsig-networks/lib/python3.8/site-packages/transformers/data/data_collator.py?line=253'>254</a>\u001b[0m         return_tensors\u001b[39m=\u001b[39;49m\u001b[39mself\u001b[39;49m\u001b[39m.\u001b[39;49mreturn_tensors,\n\u001b[1;32m    <a href='file:///import/nlp/tt003/envs/nlpsig-networks/lib/python3.8/site-packages/transformers/data/data_collator.py?line=254'>255</a>\u001b[0m     )\n\u001b[1;32m    <a href='file:///import/nlp/tt003/envs/nlpsig-networks/lib/python3.8/site-packages/transformers/data/data_collator.py?line=255'>256</a>\u001b[0m     \u001b[39mif\u001b[39;00m \u001b[39m\"\u001b[39m\u001b[39mlabel\u001b[39m\u001b[39m\"\u001b[39m \u001b[39min\u001b[39;00m batch:\n\u001b[1;32m    <a href='file:///import/nlp/tt003/envs/nlpsig-networks/lib/python3.8/site-packages/transformers/data/data_collator.py?line=256'>257</a>\u001b[0m         batch[\u001b[39m\"\u001b[39m\u001b[39mlabels\u001b[39m\u001b[39m\"\u001b[39m] \u001b[39m=\u001b[39m batch[\u001b[39m\"\u001b[39m\u001b[39mlabel\u001b[39m\u001b[39m\"\u001b[39m]\n",
      "File \u001b[0;32m/import/nlp/tt003/envs/nlpsig-networks/lib/python3.8/site-packages/transformers/tokenization_utils_base.py:3058\u001b[0m, in \u001b[0;36mPreTrainedTokenizerBase.pad\u001b[0;34m(self, encoded_inputs, padding, max_length, pad_to_multiple_of, return_attention_mask, return_tensors, verbose)\u001b[0m\n\u001b[1;32m   <a href='file:///import/nlp/tt003/envs/nlpsig-networks/lib/python3.8/site-packages/transformers/tokenization_utils_base.py?line=3054'>3055</a>\u001b[0m             batch_outputs[key] \u001b[39m=\u001b[39m []\n\u001b[1;32m   <a href='file:///import/nlp/tt003/envs/nlpsig-networks/lib/python3.8/site-packages/transformers/tokenization_utils_base.py?line=3055'>3056</a>\u001b[0m         batch_outputs[key]\u001b[39m.\u001b[39mappend(value)\n\u001b[0;32m-> <a href='file:///import/nlp/tt003/envs/nlpsig-networks/lib/python3.8/site-packages/transformers/tokenization_utils_base.py?line=3057'>3058</a>\u001b[0m \u001b[39mreturn\u001b[39;00m BatchEncoding(batch_outputs, tensor_type\u001b[39m=\u001b[39;49mreturn_tensors)\n",
      "File \u001b[0;32m/import/nlp/tt003/envs/nlpsig-networks/lib/python3.8/site-packages/transformers/tokenization_utils_base.py:211\u001b[0m, in \u001b[0;36mBatchEncoding.__init__\u001b[0;34m(self, data, encoding, tensor_type, prepend_batch_axis, n_sequences)\u001b[0m\n\u001b[1;32m    <a href='file:///import/nlp/tt003/envs/nlpsig-networks/lib/python3.8/site-packages/transformers/tokenization_utils_base.py?line=206'>207</a>\u001b[0m     n_sequences \u001b[39m=\u001b[39m encoding[\u001b[39m0\u001b[39m]\u001b[39m.\u001b[39mn_sequences\n\u001b[1;32m    <a href='file:///import/nlp/tt003/envs/nlpsig-networks/lib/python3.8/site-packages/transformers/tokenization_utils_base.py?line=208'>209</a>\u001b[0m \u001b[39mself\u001b[39m\u001b[39m.\u001b[39m_n_sequences \u001b[39m=\u001b[39m n_sequences\n\u001b[0;32m--> <a href='file:///import/nlp/tt003/envs/nlpsig-networks/lib/python3.8/site-packages/transformers/tokenization_utils_base.py?line=210'>211</a>\u001b[0m \u001b[39mself\u001b[39;49m\u001b[39m.\u001b[39;49mconvert_to_tensors(tensor_type\u001b[39m=\u001b[39;49mtensor_type, prepend_batch_axis\u001b[39m=\u001b[39;49mprepend_batch_axis)\n",
      "File \u001b[0;32m/import/nlp/tt003/envs/nlpsig-networks/lib/python3.8/site-packages/transformers/tokenization_utils_base.py:747\u001b[0m, in \u001b[0;36mBatchEncoding.convert_to_tensors\u001b[0;34m(self, tensor_type, prepend_batch_axis)\u001b[0m\n\u001b[1;32m    <a href='file:///import/nlp/tt003/envs/nlpsig-networks/lib/python3.8/site-packages/transformers/tokenization_utils_base.py?line=741'>742</a>\u001b[0m         \u001b[39mif\u001b[39;00m key \u001b[39m==\u001b[39m \u001b[39m\"\u001b[39m\u001b[39moverflowing_tokens\u001b[39m\u001b[39m\"\u001b[39m:\n\u001b[1;32m    <a href='file:///import/nlp/tt003/envs/nlpsig-networks/lib/python3.8/site-packages/transformers/tokenization_utils_base.py?line=742'>743</a>\u001b[0m             \u001b[39mraise\u001b[39;00m \u001b[39mValueError\u001b[39;00m(\n\u001b[1;32m    <a href='file:///import/nlp/tt003/envs/nlpsig-networks/lib/python3.8/site-packages/transformers/tokenization_utils_base.py?line=743'>744</a>\u001b[0m                 \u001b[39m\"\u001b[39m\u001b[39mUnable to create tensor returning overflowing tokens of different lengths. \u001b[39m\u001b[39m\"\u001b[39m\n\u001b[1;32m    <a href='file:///import/nlp/tt003/envs/nlpsig-networks/lib/python3.8/site-packages/transformers/tokenization_utils_base.py?line=744'>745</a>\u001b[0m                 \u001b[39m\"\u001b[39m\u001b[39mPlease see if a fast version of this tokenizer is available to have this feature available.\u001b[39m\u001b[39m\"\u001b[39m\n\u001b[1;32m    <a href='file:///import/nlp/tt003/envs/nlpsig-networks/lib/python3.8/site-packages/transformers/tokenization_utils_base.py?line=745'>746</a>\u001b[0m             ) \u001b[39mfrom\u001b[39;00m \u001b[39me\u001b[39;00m\n\u001b[0;32m--> <a href='file:///import/nlp/tt003/envs/nlpsig-networks/lib/python3.8/site-packages/transformers/tokenization_utils_base.py?line=746'>747</a>\u001b[0m         \u001b[39mraise\u001b[39;00m \u001b[39mValueError\u001b[39;00m(\n\u001b[1;32m    <a href='file:///import/nlp/tt003/envs/nlpsig-networks/lib/python3.8/site-packages/transformers/tokenization_utils_base.py?line=747'>748</a>\u001b[0m             \u001b[39m\"\u001b[39m\u001b[39mUnable to create tensor, you should probably activate truncation and/or padding with\u001b[39m\u001b[39m\"\u001b[39m\n\u001b[1;32m    <a href='file:///import/nlp/tt003/envs/nlpsig-networks/lib/python3.8/site-packages/transformers/tokenization_utils_base.py?line=748'>749</a>\u001b[0m             \u001b[39m\"\u001b[39m\u001b[39m \u001b[39m\u001b[39m'\u001b[39m\u001b[39mpadding=True\u001b[39m\u001b[39m'\u001b[39m\u001b[39m \u001b[39m\u001b[39m'\u001b[39m\u001b[39mtruncation=True\u001b[39m\u001b[39m'\u001b[39m\u001b[39m to have batched tensors with the same length. Perhaps your\u001b[39m\u001b[39m\"\u001b[39m\n\u001b[1;32m    <a href='file:///import/nlp/tt003/envs/nlpsig-networks/lib/python3.8/site-packages/transformers/tokenization_utils_base.py?line=749'>750</a>\u001b[0m             \u001b[39mf\u001b[39m\u001b[39m\"\u001b[39m\u001b[39m features (`\u001b[39m\u001b[39m{\u001b[39;00mkey\u001b[39m}\u001b[39;00m\u001b[39m` in this case) have excessive nesting (inputs type `list` where type `int` is\u001b[39m\u001b[39m\"\u001b[39m\n\u001b[1;32m    <a href='file:///import/nlp/tt003/envs/nlpsig-networks/lib/python3.8/site-packages/transformers/tokenization_utils_base.py?line=750'>751</a>\u001b[0m             \u001b[39m\"\u001b[39m\u001b[39m expected).\u001b[39m\u001b[39m\"\u001b[39m\n\u001b[1;32m    <a href='file:///import/nlp/tt003/envs/nlpsig-networks/lib/python3.8/site-packages/transformers/tokenization_utils_base.py?line=751'>752</a>\u001b[0m         ) \u001b[39mfrom\u001b[39;00m \u001b[39me\u001b[39;00m\n\u001b[1;32m    <a href='file:///import/nlp/tt003/envs/nlpsig-networks/lib/python3.8/site-packages/transformers/tokenization_utils_base.py?line=753'>754</a>\u001b[0m \u001b[39mreturn\u001b[39;00m \u001b[39mself\u001b[39m\n",
      "\u001b[0;31mValueError\u001b[0m: Unable to create tensor, you should probably activate truncation and/or padding with 'padding=True' 'truncation=True' to have batched tensors with the same length. Perhaps your features (`label` in this case) have excessive nesting (inputs type `list` where type `int` is expected)."
     ]
    }
   ],
   "source": [
    "bert_classifier = fine_tune_transformer_average_seed(\n",
    "    num_epochs=num_epochs,\n",
    "    pretrained_model_name=\"bert-base-uncased\",\n",
    "    df=df,\n",
    "    feature_name=\"content\",\n",
    "    label_column=\"label\",\n",
    "    seeds=seeds,\n",
    "    loss=loss,\n",
    "    gamma=gamma,\n",
    "    split_ids=None,\n",
    "    split_indices=fold_list,\n",
    "    k_fold=True,\n",
    "    validation_metric=validation_metric,\n",
    "    results_output=f\"{output_dir}/bert_classifier.csv\",\n",
    "    device=device,\n",
    "    verbose=False,\n",
    ")"
   ]
  },
  {
   "cell_type": "code",
   "execution_count": null,
   "metadata": {},
   "outputs": [],
   "source": [
    "bert_classifier"
   ]
  },
  {
   "cell_type": "code",
   "execution_count": null,
   "metadata": {},
   "outputs": [],
   "source": [
    "bert_classifier[\"f1\"].mean()"
   ]
  },
  {
   "cell_type": "code",
   "execution_count": null,
   "metadata": {},
   "outputs": [],
   "source": [
    "bert_classifier[\"precision\"].mean()"
   ]
  },
  {
   "cell_type": "code",
   "execution_count": null,
   "metadata": {},
   "outputs": [],
   "source": [
    "bert_classifier[\"recall\"].mean()"
   ]
  },
  {
   "cell_type": "code",
   "execution_count": null,
   "metadata": {},
   "outputs": [],
   "source": [
    "np.stack(bert_classifier[\"f1_scores\"]).mean(axis=0)"
   ]
  },
  {
   "cell_type": "code",
   "execution_count": null,
   "metadata": {},
   "outputs": [
    {
     "ename": "NameError",
     "evalue": "name 'bert_classifier' is not defined",
     "output_type": "error",
     "traceback": [
      "\u001b[0;31m---------------------------------------------------------------------------\u001b[0m",
      "\u001b[0;31mNameError\u001b[0m                                 Traceback (most recent call last)",
      "Cell \u001b[0;32mIn[10], line 1\u001b[0m\n\u001b[0;32m----> 1\u001b[0m np\u001b[38;5;241m.\u001b[39mstack(\u001b[43mbert_classifier\u001b[49m[\u001b[38;5;124m\"\u001b[39m\u001b[38;5;124mprecision_scores\u001b[39m\u001b[38;5;124m\"\u001b[39m])\u001b[38;5;241m.\u001b[39mmean(axis\u001b[38;5;241m=\u001b[39m\u001b[38;5;241m0\u001b[39m)\n",
      "\u001b[0;31mNameError\u001b[0m: name 'bert_classifier' is not defined"
     ]
    }
   ],
   "source": [
    "np.stack(bert_classifier[\"precision_scores\"]).mean(axis=0)"
   ]
  },
  {
   "cell_type": "code",
   "execution_count": null,
   "metadata": {},
   "outputs": [],
   "source": [
    "np.stack(bert_classifier[\"recall_scores\"]).mean(axis=0)"
   ]
  }
 ],
 "metadata": {
  "interpreter": {
   "hash": "b2013b70f5165546ff531eadcfc35b64307c3717f205ea3ff61fa34bab89c803"
  },
  "kernelspec": {
   "display_name": "Python 3.8.17 ('nlpsig-networks')",
   "language": "python",
   "name": "python3"
  },
  "language_info": {
   "codemirror_mode": {
    "name": "ipython",
    "version": 3
   },
   "file_extension": ".py",
   "mimetype": "text/x-python",
   "name": "python",
   "nbconvert_exporter": "python",
   "pygments_lexer": "ipython3",
   "version": "3.8.17"
  },
  "orig_nbformat": 4
 },
 "nbformat": 4,
 "nbformat_minor": 2
}
