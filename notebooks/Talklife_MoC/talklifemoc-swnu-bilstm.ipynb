{
 "cells": [
  {
   "cell_type": "code",
   "execution_count": 13,
   "metadata": {},
   "outputs": [],
   "source": [
    "import pickle\n",
    "import numpy as np\n",
    "import pandas as pd\n",
    "import re\n",
    "\n",
    "seed = 2023"
   ]
  },
  {
   "cell_type": "code",
   "execution_count": 14,
   "metadata": {},
   "outputs": [],
   "source": [
    "import torch\n",
    "\n",
    "# set device\n",
    "device = torch.device(\"cuda\" if torch.cuda.is_available() else \"cpu\")\n",
    "device = \"cuda:1\""
   ]
  },
  {
   "cell_type": "code",
   "execution_count": 15,
   "metadata": {},
   "outputs": [],
   "source": [
    "from nlpsig_networks.scripts.seqsignet_functions import seqsignet_hyperparameter_search"
   ]
  },
  {
   "cell_type": "code",
   "execution_count": 16,
   "metadata": {},
   "outputs": [],
   "source": [
    "output_dir = \"talklife_moc_output\"\n",
    "if not os.path.isdir(output_dir):\n",
    "    os.makedirs(output_dir)"
   ]
  },
  {
   "cell_type": "markdown",
   "metadata": {},
   "source": [
    "Talklife MoC"
   ]
  },
  {
   "cell_type": "code",
   "execution_count": 17,
   "metadata": {},
   "outputs": [],
   "source": [
    "%run load_talklifemoc.py"
   ]
  },
  {
   "cell_type": "code",
   "execution_count": 18,
   "metadata": {},
   "outputs": [],
   "source": [
    "%run load_sbert-embeddings.py"
   ]
  },
  {
   "cell_type": "code",
   "execution_count": 19,
   "metadata": {},
   "outputs": [
    {
     "data": {
      "text/plain": [
       "torch.Size([18604, 384])"
      ]
     },
     "execution_count": 19,
     "metadata": {},
     "output_type": "execute_result"
    }
   ],
   "source": [
    "sbert_embeddings.shape"
   ]
  },
  {
   "cell_type": "markdown",
   "metadata": {},
   "source": [
    "SWNU-BiLSTM"
   ]
  },
  {
   "cell_type": "code",
   "execution_count": 20,
   "metadata": {},
   "outputs": [],
   "source": [
    "features = [\"time_encoding\", \"timeline_index\"]\n",
    "standardise_method = [\"z_score\", None]\n",
    "include_features_in_path = True\n",
    "include_features_in_input = False"
   ]
  },
  {
   "cell_type": "code",
   "execution_count": 21,
   "metadata": {},
   "outputs": [],
   "source": [
    "# create indices for kfold\n",
    "fold_col_names = [c for c in df.columns if \"fold\" in c]\n",
    "fold_list = []\n",
    "for foldc in fold_col_names:\n",
    "    fold_list.append(\n",
    "        (\n",
    "            df[df[foldc] == \"train\"].index,\n",
    "            df[df[foldc] == \"dev\"].index,\n",
    "            df[df[foldc] == \"test\"].index,\n",
    "        )\n",
    "    )\n",
    "fold_list = tuple(fold_list)"
   ]
  },
  {
   "cell_type": "code",
   "execution_count": 22,
   "metadata": {},
   "outputs": [],
   "source": [
    "num_epochs = 100\n",
    "embedding_dim = 384\n",
    "dimensions = [15]\n",
    "dimreduction_method = [\"umap\"]\n",
    "swnu_hidden_dim_sizes_and_sig_depths = [([12], 3), ([10], 4)]\n",
    "lstm_hidden_dim_sizes = [384]\n",
    "ffn_hidden_dim_sizes = [[256, 256], [512, 512]]\n",
    "dropout_rates = [0.1, 0.2]\n",
    "learning_rates = [1e-3, 1e-4, 5e-4]\n",
    "seeds = [1, 12, 123]\n",
    "loss = \"focal\"\n",
    "gamma = 2\n",
    "validation_metric = \"f1\"\n",
    "patience = 5"
   ]
  },
  {
   "cell_type": "code",
   "execution_count": 23,
   "metadata": {},
   "outputs": [],
   "source": [
    "shift = 3\n",
    "window_size = 5\n",
    "n = 6"
   ]
  },
  {
   "cell_type": "code",
   "execution_count": 24,
   "metadata": {},
   "outputs": [
    {
     "data": {
      "application/vnd.jupyter.widget-view+json": {
       "model_id": "0868bc7894c1440592213261998cdfac",
       "version_major": 2,
       "version_minor": 0
      },
      "text/plain": [
       "  0%|          | 0/1 [00:00<?, ?it/s]"
      ]
     },
     "metadata": {},
     "output_type": "display_data"
    },
    {
     "data": {
      "application/vnd.jupyter.widget-view+json": {
       "model_id": "a7c24a737cc743838341819cfedf99aa",
       "version_major": 2,
       "version_minor": 0
      },
      "text/plain": [
       "  0%|          | 0/1 [00:00<?, ?it/s]"
      ]
     },
     "metadata": {},
     "output_type": "display_data"
    },
    {
     "name": "stdout",
     "output_type": "stream",
     "text": [
      "\n",
      "##################################################\n",
      "dimension: 15 | method: umap\n",
      "given shift 3, window size 5 and n 6: history length = 20\n",
      "[INFO] Concatenating the embeddings to the dataframe...\n",
      "[INFO] - columns beginning with 'e' denote the full embddings.\n",
      "[INFO] - columns beginning with 'd' denote the dimension reduced embeddings.\n",
      "[INFO] Adding time feature columns into dataframe in `.df`.\n",
      "[INFO] Adding 'time_encoding' feature...\n",
      "[INFO] Adding 'time_diff' feature...\n",
      "[INFO] Adding 'timeline_index' feature...\n",
      "[INFO] Padding ids and storing in `.df_padded` and `.array_padded` attributes.\n"
     ]
    },
    {
     "data": {
      "application/vnd.jupyter.widget-view+json": {
       "model_id": "cab9e44521864a4097a04bbaaf48b10b",
       "version_major": 2,
       "version_minor": 0
      },
      "text/plain": [
       "  0%|          | 0/18604 [00:00<?, ?it/s]"
      ]
     },
     "metadata": {},
     "output_type": "display_data"
    },
    {
     "name": "stdout",
     "output_type": "stream",
     "text": [
      "[INFO] The path was created for each item in the dataframe, by looking at its history, so to include embeddings in the FFN input, we concatenate the embeddings for each sentence / text.\n"
     ]
    },
    {
     "data": {
      "application/vnd.jupyter.widget-view+json": {
       "model_id": "d0c34a6bb8c0464eb040bbd9481db707",
       "version_major": 2,
       "version_minor": 0
      },
      "text/plain": [
       "  0%|          | 0/2 [00:00<?, ?it/s]"
      ]
     },
     "metadata": {},
     "output_type": "display_data"
    },
    {
     "data": {
      "application/vnd.jupyter.widget-view+json": {
       "model_id": "95a3bb783af54ca7bca681a240cfb951",
       "version_major": 2,
       "version_minor": 0
      },
      "text/plain": [
       "  0%|          | 0/1 [00:00<?, ?it/s]"
      ]
     },
     "metadata": {},
     "output_type": "display_data"
    },
    {
     "data": {
      "application/vnd.jupyter.widget-view+json": {
       "model_id": "c78718a680ec4e75a07c7cdc143747f9",
       "version_major": 2,
       "version_minor": 0
      },
      "text/plain": [
       "  0%|          | 0/2 [00:00<?, ?it/s]"
      ]
     },
     "metadata": {},
     "output_type": "display_data"
    },
    {
     "data": {
      "application/vnd.jupyter.widget-view+json": {
       "model_id": "d6b97c268d4c4cbea78a64826f32a3e0",
       "version_major": 2,
       "version_minor": 0
      },
      "text/plain": [
       "  0%|          | 0/1 [00:00<?, ?it/s]"
      ]
     },
     "metadata": {},
     "output_type": "display_data"
    },
    {
     "data": {
      "application/vnd.jupyter.widget-view+json": {
       "model_id": "132e457dff884b17b3eb2ceebc4737c3",
       "version_major": 2,
       "version_minor": 0
      },
      "text/plain": [
       "  0%|          | 0/2 [00:00<?, ?it/s]"
      ]
     },
     "metadata": {},
     "output_type": "display_data"
    },
    {
     "data": {
      "application/vnd.jupyter.widget-view+json": {
       "model_id": "c5ce1ddee05d4ae1b79ae7eac2a8fa41",
       "version_major": 2,
       "version_minor": 0
      },
      "text/plain": [
       "  0%|          | 0/3 [00:00<?, ?it/s]"
      ]
     },
     "metadata": {},
     "output_type": "display_data"
    },
    {
     "data": {
      "application/vnd.jupyter.widget-view+json": {
       "model_id": "25983f5be602466880dc6e53a66b4518",
       "version_major": 2,
       "version_minor": 0
      },
      "text/plain": [
       "  0%|          | 0/3 [00:00<?, ?it/s]"
      ]
     },
     "metadata": {},
     "output_type": "display_data"
    },
    {
     "data": {
      "application/vnd.jupyter.widget-view+json": {
       "model_id": "59fbe238a076419f9f3981f0d9a6b365",
       "version_major": 2,
       "version_minor": 0
      },
      "text/plain": [
       "  0%|          | 0/1 [00:00<?, ?it/s]"
      ]
     },
     "metadata": {},
     "output_type": "display_data"
    },
    {
     "data": {
      "application/vnd.jupyter.widget-view+json": {
       "model_id": "d0946058e59e482f8863067a836f90ba",
       "version_major": 2,
       "version_minor": 0
      },
      "text/plain": [
       "  0%|          | 0/2 [00:00<?, ?it/s]"
      ]
     },
     "metadata": {},
     "output_type": "display_data"
    },
    {
     "data": {
      "application/vnd.jupyter.widget-view+json": {
       "model_id": "5486d5e2a16f4f078b5a566a7463c57a",
       "version_major": 2,
       "version_minor": 0
      },
      "text/plain": [
       "  0%|          | 0/3 [00:00<?, ?it/s]"
      ]
     },
     "metadata": {},
     "output_type": "display_data"
    },
    {
     "data": {
      "application/vnd.jupyter.widget-view+json": {
       "model_id": "79677e89c454484aae38d8efc3191d61",
       "version_major": 2,
       "version_minor": 0
      },
      "text/plain": [
       "  0%|          | 0/3 [00:00<?, ?it/s]"
      ]
     },
     "metadata": {},
     "output_type": "display_data"
    },
    {
     "data": {
      "application/vnd.jupyter.widget-view+json": {
       "model_id": "bf7868c34e794926bb8d592ed1555e71",
       "version_major": 2,
       "version_minor": 0
      },
      "text/plain": [
       "  0%|          | 0/1 [00:00<?, ?it/s]"
      ]
     },
     "metadata": {},
     "output_type": "display_data"
    },
    {
     "data": {
      "application/vnd.jupyter.widget-view+json": {
       "model_id": "4d4973566c9c4ba680c079a0219a9c4f",
       "version_major": 2,
       "version_minor": 0
      },
      "text/plain": [
       "  0%|          | 0/2 [00:00<?, ?it/s]"
      ]
     },
     "metadata": {},
     "output_type": "display_data"
    },
    {
     "data": {
      "application/vnd.jupyter.widget-view+json": {
       "model_id": "6c18f41045034e2f8aeca4bac104f6b0",
       "version_major": 2,
       "version_minor": 0
      },
      "text/plain": [
       "  0%|          | 0/1 [00:00<?, ?it/s]"
      ]
     },
     "metadata": {},
     "output_type": "display_data"
    },
    {
     "data": {
      "application/vnd.jupyter.widget-view+json": {
       "model_id": "78cbb5deedc14fbc8034fb2609672521",
       "version_major": 2,
       "version_minor": 0
      },
      "text/plain": [
       "  0%|          | 0/2 [00:00<?, ?it/s]"
      ]
     },
     "metadata": {},
     "output_type": "display_data"
    },
    {
     "data": {
      "application/vnd.jupyter.widget-view+json": {
       "model_id": "7e1aa6b22da04158ab4ff7c3565de88e",
       "version_major": 2,
       "version_minor": 0
      },
      "text/plain": [
       "  0%|          | 0/3 [00:00<?, ?it/s]"
      ]
     },
     "metadata": {},
     "output_type": "display_data"
    },
    {
     "data": {
      "application/vnd.jupyter.widget-view+json": {
       "model_id": "1d9133e3ac9c4b19a126c68c0f75b9fd",
       "version_major": 2,
       "version_minor": 0
      },
      "text/plain": [
       "  0%|          | 0/3 [00:00<?, ?it/s]"
      ]
     },
     "metadata": {},
     "output_type": "display_data"
    },
    {
     "data": {
      "application/vnd.jupyter.widget-view+json": {
       "model_id": "9673cdba829c4157bf17d3854b18d249",
       "version_major": 2,
       "version_minor": 0
      },
      "text/plain": [
       "  0%|          | 0/1 [00:00<?, ?it/s]"
      ]
     },
     "metadata": {},
     "output_type": "display_data"
    },
    {
     "data": {
      "application/vnd.jupyter.widget-view+json": {
       "model_id": "d02e110a959f484b905bd711c3888883",
       "version_major": 2,
       "version_minor": 0
      },
      "text/plain": [
       "  0%|          | 0/2 [00:00<?, ?it/s]"
      ]
     },
     "metadata": {},
     "output_type": "display_data"
    },
    {
     "data": {
      "application/vnd.jupyter.widget-view+json": {
       "model_id": "d0bf5225bf1d4a098dccfc9923ac7d93",
       "version_major": 2,
       "version_minor": 0
      },
      "text/plain": [
       "  0%|          | 0/3 [00:00<?, ?it/s]"
      ]
     },
     "metadata": {},
     "output_type": "display_data"
    },
    {
     "data": {
      "application/vnd.jupyter.widget-view+json": {
       "model_id": "0690d0cf9083409bab4e22d2f53e2545",
       "version_major": 2,
       "version_minor": 0
      },
      "text/plain": [
       "  0%|          | 0/3 [00:00<?, ?it/s]"
      ]
     },
     "metadata": {},
     "output_type": "display_data"
    },
    {
     "name": "stdout",
     "output_type": "stream",
     "text": [
      "given shift 3, window size 5 and n 6: history length = 20\n",
      "[INFO] Concatenating the embeddings to the dataframe...\n",
      "[INFO] - columns beginning with 'e' denote the full embddings.\n",
      "[INFO] - columns beginning with 'd' denote the dimension reduced embeddings.\n",
      "[INFO] Adding time feature columns into dataframe in `.df`.\n",
      "[INFO] Adding 'time_encoding' feature...\n",
      "[INFO] Adding 'time_diff' feature...\n",
      "[INFO] Adding 'timeline_index' feature...\n",
      "[INFO] Padding ids and storing in `.df_padded` and `.array_padded` attributes.\n"
     ]
    },
    {
     "data": {
      "application/vnd.jupyter.widget-view+json": {
       "model_id": "56a1b22562e5432e87ac877ee2d023f1",
       "version_major": 2,
       "version_minor": 0
      },
      "text/plain": [
       "  0%|          | 0/18604 [00:00<?, ?it/s]"
      ]
     },
     "metadata": {},
     "output_type": "display_data"
    },
    {
     "name": "stdout",
     "output_type": "stream",
     "text": [
      "[INFO] The path was created for each item in the dataframe, by looking at its history, so to include embeddings in the FFN input, we concatenate the embeddings for each sentence / text.\n",
      "saving results dataframe to CSV for this hyperparameter search in talklife_moc_output/seqsignet_umap_focal_2_20_kfold.csv\n",
      "saving the best model results dataframe to CSV for this hyperparameter search in talklife_moc_output/seqsignet_umap_focal_2_20_kfold_best_model.csv\n"
     ]
    }
   ],
   "source": [
    "size = 20\n",
    "(\n",
    "    seqsignet_network_umap_20,\n",
    "    best_seqsignet_network_umap_20,\n",
    "    _,\n",
    "    __,\n",
    ") = seqsignet_hyperparameter_search(\n",
    "    num_epochs=num_epochs,\n",
    "    df=df,\n",
    "    id_column=\"timeline_id\",\n",
    "    label_column=\"label\",\n",
    "    embeddings=sbert_embeddings.numpy(),\n",
    "    y_data=y_data,\n",
    "    output_dim=output_dim,\n",
    "    shift=shift,\n",
    "    window_size=window_size,\n",
    "    n=n,\n",
    "    dim_reduce_methods=dimreduction_method,\n",
    "    dimensions=dimensions,\n",
    "    log_signature=True,\n",
    "    swnu_hidden_dim_sizes_and_sig_depths=swnu_hidden_dim_sizes_and_sig_depths,\n",
    "    lstm_hidden_dim_sizes=lstm_hidden_dim_sizes,\n",
    "    ffn_hidden_dim_sizes=ffn_hidden_dim_sizes,\n",
    "    dropout_rates=dropout_rates,\n",
    "    learning_rates=learning_rates,\n",
    "    BiLSTM=True,\n",
    "    seeds=seeds,\n",
    "    loss=loss,\n",
    "    gamma=gamma,\n",
    "    device=device,\n",
    "    features=features,\n",
    "    standardise_method=standardise_method,\n",
    "    include_features_in_path=include_features_in_path,\n",
    "    include_features_in_input=include_features_in_input,\n",
    "    split_ids=None,\n",
    "    split_indices=fold_list,\n",
    "    k_fold=True,\n",
    "    patience=patience,\n",
    "    validation_metric=validation_metric,\n",
    "    results_output=f\"{output_dir}/seqsignet_umap_focal_{gamma}_{size}_kfold.csv\",\n",
    "    verbose=False,\n",
    ")"
   ]
  },
  {
   "cell_type": "code",
   "execution_count": 25,
   "metadata": {},
   "outputs": [
    {
     "data": {
      "text/html": [
       "<div>\n",
       "<style scoped>\n",
       "    .dataframe tbody tr th:only-of-type {\n",
       "        vertical-align: middle;\n",
       "    }\n",
       "\n",
       "    .dataframe tbody tr th {\n",
       "        vertical-align: top;\n",
       "    }\n",
       "\n",
       "    .dataframe thead th {\n",
       "        text-align: right;\n",
       "    }\n",
       "</style>\n",
       "<table border=\"1\" class=\"dataframe\">\n",
       "  <thead>\n",
       "    <tr style=\"text-align: right;\">\n",
       "      <th></th>\n",
       "      <th>loss</th>\n",
       "      <th>accuracy</th>\n",
       "      <th>f1</th>\n",
       "      <th>f1_scores</th>\n",
       "      <th>precision</th>\n",
       "      <th>precision_scores</th>\n",
       "      <th>recall</th>\n",
       "      <th>recall_scores</th>\n",
       "      <th>valid_loss</th>\n",
       "      <th>valid_accuracy</th>\n",
       "      <th>...</th>\n",
       "      <th>BiLSTM</th>\n",
       "      <th>loss_function</th>\n",
       "      <th>gamma</th>\n",
       "      <th>k_fold</th>\n",
       "      <th>n_splits</th>\n",
       "      <th>augmentation_type</th>\n",
       "      <th>hidden_dim_aug</th>\n",
       "      <th>comb_method</th>\n",
       "      <th>batch_size</th>\n",
       "      <th>model_id</th>\n",
       "    </tr>\n",
       "  </thead>\n",
       "  <tbody>\n",
       "    <tr>\n",
       "      <th>0</th>\n",
       "      <td>None</td>\n",
       "      <td>0.805311</td>\n",
       "      <td>0.546908</td>\n",
       "      <td>[0.8863430420711974, 0.45438121047877145, 0.30...</td>\n",
       "      <td>0.533791</td>\n",
       "      <td>[0.9011581995261911, 0.41708126036484244, 0.28...</td>\n",
       "      <td>0.563340</td>\n",
       "      <td>[0.8720071319409067, 0.4990079365079365, 0.319...</td>\n",
       "      <td>None</td>\n",
       "      <td>0.800050</td>\n",
       "      <td>...</td>\n",
       "      <td>True</td>\n",
       "      <td>focal</td>\n",
       "      <td>2</td>\n",
       "      <td>True</td>\n",
       "      <td>5</td>\n",
       "      <td>Conv1d</td>\n",
       "      <td>None</td>\n",
       "      <td>concatenation</td>\n",
       "      <td>64</td>\n",
       "      <td>0</td>\n",
       "    </tr>\n",
       "    <tr>\n",
       "      <th>0</th>\n",
       "      <td>None</td>\n",
       "      <td>0.795904</td>\n",
       "      <td>0.549493</td>\n",
       "      <td>[0.8795832104590583, 0.4568398727465536, 0.312...</td>\n",
       "      <td>0.529193</td>\n",
       "      <td>[0.9059736753290584, 0.39903668025194516, 0.28...</td>\n",
       "      <td>0.579110</td>\n",
       "      <td>[0.8546867040244523, 0.5342261904761905, 0.348...</td>\n",
       "      <td>None</td>\n",
       "      <td>0.790963</td>\n",
       "      <td>...</td>\n",
       "      <td>True</td>\n",
       "      <td>focal</td>\n",
       "      <td>2</td>\n",
       "      <td>True</td>\n",
       "      <td>5</td>\n",
       "      <td>Conv1d</td>\n",
       "      <td>None</td>\n",
       "      <td>concatenation</td>\n",
       "      <td>64</td>\n",
       "      <td>0</td>\n",
       "    </tr>\n",
       "    <tr>\n",
       "      <th>0</th>\n",
       "      <td>None</td>\n",
       "      <td>0.803591</td>\n",
       "      <td>0.546365</td>\n",
       "      <td>[0.8854193715917944, 0.4562334217506631, 0.297...</td>\n",
       "      <td>0.531913</td>\n",
       "      <td>[0.9030058262711864, 0.41148325358851673, 0.28...</td>\n",
       "      <td>0.565340</td>\n",
       "      <td>[0.8685048395313296, 0.5119047619047619, 0.315...</td>\n",
       "      <td>None</td>\n",
       "      <td>0.798091</td>\n",
       "      <td>...</td>\n",
       "      <td>True</td>\n",
       "      <td>focal</td>\n",
       "      <td>2</td>\n",
       "      <td>True</td>\n",
       "      <td>5</td>\n",
       "      <td>Conv1d</td>\n",
       "      <td>None</td>\n",
       "      <td>concatenation</td>\n",
       "      <td>64</td>\n",
       "      <td>0</td>\n",
       "    </tr>\n",
       "    <tr>\n",
       "      <th>0</th>\n",
       "      <td>None</td>\n",
       "      <td>0.801602</td>\n",
       "      <td>0.542702</td>\n",
       "      <td>[0.8837784211039912, 0.4571550074420582, 0.287...</td>\n",
       "      <td>0.530516</td>\n",
       "      <td>[0.9033180397632822, 0.4000744324525493, 0.288...</td>\n",
       "      <td>0.561500</td>\n",
       "      <td>[0.8650662251655629, 0.533234126984127, 0.2861...</td>\n",
       "      <td>None</td>\n",
       "      <td>0.796590</td>\n",
       "      <td>...</td>\n",
       "      <td>True</td>\n",
       "      <td>focal</td>\n",
       "      <td>2</td>\n",
       "      <td>True</td>\n",
       "      <td>5</td>\n",
       "      <td>Conv1d</td>\n",
       "      <td>None</td>\n",
       "      <td>concatenation</td>\n",
       "      <td>64</td>\n",
       "      <td>1</td>\n",
       "    </tr>\n",
       "    <tr>\n",
       "      <th>0</th>\n",
       "      <td>None</td>\n",
       "      <td>0.808428</td>\n",
       "      <td>0.555198</td>\n",
       "      <td>[0.8884568021258669, 0.4657226342998427, 0.311...</td>\n",
       "      <td>0.540481</td>\n",
       "      <td>[0.9045796489375743, 0.4258117550349363, 0.291...</td>\n",
       "      <td>0.573876</td>\n",
       "      <td>[0.8728986245542537, 0.5138888888888888, 0.334...</td>\n",
       "      <td>None</td>\n",
       "      <td>0.803176</td>\n",
       "      <td>...</td>\n",
       "      <td>True</td>\n",
       "      <td>focal</td>\n",
       "      <td>2</td>\n",
       "      <td>True</td>\n",
       "      <td>5</td>\n",
       "      <td>Conv1d</td>\n",
       "      <td>None</td>\n",
       "      <td>concatenation</td>\n",
       "      <td>64</td>\n",
       "      <td>1</td>\n",
       "    </tr>\n",
       "    <tr>\n",
       "      <th>...</th>\n",
       "      <td>...</td>\n",
       "      <td>...</td>\n",
       "      <td>...</td>\n",
       "      <td>...</td>\n",
       "      <td>...</td>\n",
       "      <td>...</td>\n",
       "      <td>...</td>\n",
       "      <td>...</td>\n",
       "      <td>...</td>\n",
       "      <td>...</td>\n",
       "      <td>...</td>\n",
       "      <td>...</td>\n",
       "      <td>...</td>\n",
       "      <td>...</td>\n",
       "      <td>...</td>\n",
       "      <td>...</td>\n",
       "      <td>...</td>\n",
       "      <td>...</td>\n",
       "      <td>...</td>\n",
       "      <td>...</td>\n",
       "      <td>...</td>\n",
       "    </tr>\n",
       "    <tr>\n",
       "      <th>0</th>\n",
       "      <td>None</td>\n",
       "      <td>0.817190</td>\n",
       "      <td>0.547721</td>\n",
       "      <td>[0.8951329973847036, 0.4416934884872493, 0.306...</td>\n",
       "      <td>0.545403</td>\n",
       "      <td>[0.8966773162939297, 0.44092931290163123, 0.29...</td>\n",
       "      <td>0.550178</td>\n",
       "      <td>[0.8935939887926643, 0.44246031746031744, 0.31...</td>\n",
       "      <td>None</td>\n",
       "      <td>0.809762</td>\n",
       "      <td>...</td>\n",
       "      <td>True</td>\n",
       "      <td>focal</td>\n",
       "      <td>2</td>\n",
       "      <td>True</td>\n",
       "      <td>5</td>\n",
       "      <td>Conv1d</td>\n",
       "      <td>None</td>\n",
       "      <td>concatenation</td>\n",
       "      <td>64</td>\n",
       "      <td>22</td>\n",
       "    </tr>\n",
       "    <tr>\n",
       "      <th>0</th>\n",
       "      <td>None</td>\n",
       "      <td>0.808643</td>\n",
       "      <td>0.548544</td>\n",
       "      <td>[0.8888386805241754, 0.45961002785515315, 0.29...</td>\n",
       "      <td>0.536265</td>\n",
       "      <td>[0.9012305275559628, 0.4319371727748691, 0.275...</td>\n",
       "      <td>0.563418</td>\n",
       "      <td>[0.8767829852266938, 0.49107142857142855, 0.32...</td>\n",
       "      <td>None</td>\n",
       "      <td>0.804635</td>\n",
       "      <td>...</td>\n",
       "      <td>True</td>\n",
       "      <td>focal</td>\n",
       "      <td>2</td>\n",
       "      <td>True</td>\n",
       "      <td>5</td>\n",
       "      <td>Conv1d</td>\n",
       "      <td>None</td>\n",
       "      <td>concatenation</td>\n",
       "      <td>64</td>\n",
       "      <td>22</td>\n",
       "    </tr>\n",
       "    <tr>\n",
       "      <th>0</th>\n",
       "      <td>None</td>\n",
       "      <td>0.802677</td>\n",
       "      <td>0.541848</td>\n",
       "      <td>[0.8848147188390775, 0.45081227436823107, 0.28...</td>\n",
       "      <td>0.528177</td>\n",
       "      <td>[0.900448312236287, 0.4134933774834437, 0.2705...</td>\n",
       "      <td>0.559156</td>\n",
       "      <td>[0.8697147223637289, 0.4955357142857143, 0.312...</td>\n",
       "      <td>None</td>\n",
       "      <td>0.800300</td>\n",
       "      <td>...</td>\n",
       "      <td>True</td>\n",
       "      <td>focal</td>\n",
       "      <td>2</td>\n",
       "      <td>True</td>\n",
       "      <td>5</td>\n",
       "      <td>Conv1d</td>\n",
       "      <td>None</td>\n",
       "      <td>concatenation</td>\n",
       "      <td>64</td>\n",
       "      <td>23</td>\n",
       "    </tr>\n",
       "    <tr>\n",
       "      <th>0</th>\n",
       "      <td>None</td>\n",
       "      <td>0.801064</td>\n",
       "      <td>0.548387</td>\n",
       "      <td>[0.8834232243810514, 0.4506914531852188, 0.311...</td>\n",
       "      <td>0.531189</td>\n",
       "      <td>[0.9018840387422051, 0.4150313152400835, 0.276...</td>\n",
       "      <td>0.571321</td>\n",
       "      <td>[0.8657030056036679, 0.4930555555555556, 0.355...</td>\n",
       "      <td>None</td>\n",
       "      <td>0.799967</td>\n",
       "      <td>...</td>\n",
       "      <td>True</td>\n",
       "      <td>focal</td>\n",
       "      <td>2</td>\n",
       "      <td>True</td>\n",
       "      <td>5</td>\n",
       "      <td>Conv1d</td>\n",
       "      <td>None</td>\n",
       "      <td>concatenation</td>\n",
       "      <td>64</td>\n",
       "      <td>23</td>\n",
       "    </tr>\n",
       "    <tr>\n",
       "      <th>0</th>\n",
       "      <td>None</td>\n",
       "      <td>0.805687</td>\n",
       "      <td>0.542989</td>\n",
       "      <td>[0.8866565457540618, 0.4525646845211076, 0.289...</td>\n",
       "      <td>0.531758</td>\n",
       "      <td>[0.8997050147492626, 0.4171548117154812, 0.278...</td>\n",
       "      <td>0.556854</td>\n",
       "      <td>[0.8739811512990321, 0.4945436507936508, 0.302...</td>\n",
       "      <td>None</td>\n",
       "      <td>0.802343</td>\n",
       "      <td>...</td>\n",
       "      <td>True</td>\n",
       "      <td>focal</td>\n",
       "      <td>2</td>\n",
       "      <td>True</td>\n",
       "      <td>5</td>\n",
       "      <td>Conv1d</td>\n",
       "      <td>None</td>\n",
       "      <td>concatenation</td>\n",
       "      <td>64</td>\n",
       "      <td>23</td>\n",
       "    </tr>\n",
       "  </tbody>\n",
       "</table>\n",
       "<p>72 rows × 48 columns</p>\n",
       "</div>"
      ],
      "text/plain": [
       "    loss  accuracy        f1  \\\n",
       "0   None  0.805311  0.546908   \n",
       "0   None  0.795904  0.549493   \n",
       "0   None  0.803591  0.546365   \n",
       "0   None  0.801602  0.542702   \n",
       "0   None  0.808428  0.555198   \n",
       "..   ...       ...       ...   \n",
       "0   None  0.817190  0.547721   \n",
       "0   None  0.808643  0.548544   \n",
       "0   None  0.802677  0.541848   \n",
       "0   None  0.801064  0.548387   \n",
       "0   None  0.805687  0.542989   \n",
       "\n",
       "                                            f1_scores  precision  \\\n",
       "0   [0.8863430420711974, 0.45438121047877145, 0.30...   0.533791   \n",
       "0   [0.8795832104590583, 0.4568398727465536, 0.312...   0.529193   \n",
       "0   [0.8854193715917944, 0.4562334217506631, 0.297...   0.531913   \n",
       "0   [0.8837784211039912, 0.4571550074420582, 0.287...   0.530516   \n",
       "0   [0.8884568021258669, 0.4657226342998427, 0.311...   0.540481   \n",
       "..                                                ...        ...   \n",
       "0   [0.8951329973847036, 0.4416934884872493, 0.306...   0.545403   \n",
       "0   [0.8888386805241754, 0.45961002785515315, 0.29...   0.536265   \n",
       "0   [0.8848147188390775, 0.45081227436823107, 0.28...   0.528177   \n",
       "0   [0.8834232243810514, 0.4506914531852188, 0.311...   0.531189   \n",
       "0   [0.8866565457540618, 0.4525646845211076, 0.289...   0.531758   \n",
       "\n",
       "                                     precision_scores    recall  \\\n",
       "0   [0.9011581995261911, 0.41708126036484244, 0.28...  0.563340   \n",
       "0   [0.9059736753290584, 0.39903668025194516, 0.28...  0.579110   \n",
       "0   [0.9030058262711864, 0.41148325358851673, 0.28...  0.565340   \n",
       "0   [0.9033180397632822, 0.4000744324525493, 0.288...  0.561500   \n",
       "0   [0.9045796489375743, 0.4258117550349363, 0.291...  0.573876   \n",
       "..                                                ...       ...   \n",
       "0   [0.8966773162939297, 0.44092931290163123, 0.29...  0.550178   \n",
       "0   [0.9012305275559628, 0.4319371727748691, 0.275...  0.563418   \n",
       "0   [0.900448312236287, 0.4134933774834437, 0.2705...  0.559156   \n",
       "0   [0.9018840387422051, 0.4150313152400835, 0.276...  0.571321   \n",
       "0   [0.8997050147492626, 0.4171548117154812, 0.278...  0.556854   \n",
       "\n",
       "                                        recall_scores valid_loss  \\\n",
       "0   [0.8720071319409067, 0.4990079365079365, 0.319...       None   \n",
       "0   [0.8546867040244523, 0.5342261904761905, 0.348...       None   \n",
       "0   [0.8685048395313296, 0.5119047619047619, 0.315...       None   \n",
       "0   [0.8650662251655629, 0.533234126984127, 0.2861...       None   \n",
       "0   [0.8728986245542537, 0.5138888888888888, 0.334...       None   \n",
       "..                                                ...        ...   \n",
       "0   [0.8935939887926643, 0.44246031746031744, 0.31...       None   \n",
       "0   [0.8767829852266938, 0.49107142857142855, 0.32...       None   \n",
       "0   [0.8697147223637289, 0.4955357142857143, 0.312...       None   \n",
       "0   [0.8657030056036679, 0.4930555555555556, 0.355...       None   \n",
       "0   [0.8739811512990321, 0.4945436507936508, 0.302...       None   \n",
       "\n",
       "    valid_accuracy  ...  BiLSTM loss_function  gamma k_fold  n_splits  \\\n",
       "0         0.800050  ...    True         focal      2   True         5   \n",
       "0         0.790963  ...    True         focal      2   True         5   \n",
       "0         0.798091  ...    True         focal      2   True         5   \n",
       "0         0.796590  ...    True         focal      2   True         5   \n",
       "0         0.803176  ...    True         focal      2   True         5   \n",
       "..             ...  ...     ...           ...    ...    ...       ...   \n",
       "0         0.809762  ...    True         focal      2   True         5   \n",
       "0         0.804635  ...    True         focal      2   True         5   \n",
       "0         0.800300  ...    True         focal      2   True         5   \n",
       "0         0.799967  ...    True         focal      2   True         5   \n",
       "0         0.802343  ...    True         focal      2   True         5   \n",
       "\n",
       "   augmentation_type  hidden_dim_aug    comb_method  batch_size  model_id  \n",
       "0             Conv1d            None  concatenation          64         0  \n",
       "0             Conv1d            None  concatenation          64         0  \n",
       "0             Conv1d            None  concatenation          64         0  \n",
       "0             Conv1d            None  concatenation          64         1  \n",
       "0             Conv1d            None  concatenation          64         1  \n",
       "..               ...             ...            ...         ...       ...  \n",
       "0             Conv1d            None  concatenation          64        22  \n",
       "0             Conv1d            None  concatenation          64        22  \n",
       "0             Conv1d            None  concatenation          64        23  \n",
       "0             Conv1d            None  concatenation          64        23  \n",
       "0             Conv1d            None  concatenation          64        23  \n",
       "\n",
       "[72 rows x 48 columns]"
      ]
     },
     "execution_count": 25,
     "metadata": {},
     "output_type": "execute_result"
    }
   ],
   "source": [
    "seqsignet_network_umap_20"
   ]
  },
  {
   "cell_type": "code",
   "execution_count": 38,
   "metadata": {},
   "outputs": [
    {
     "data": {
      "text/html": [
       "<div>\n",
       "<style scoped>\n",
       "    .dataframe tbody tr th:only-of-type {\n",
       "        vertical-align: middle;\n",
       "    }\n",
       "\n",
       "    .dataframe tbody tr th {\n",
       "        vertical-align: top;\n",
       "    }\n",
       "\n",
       "    .dataframe thead th {\n",
       "        text-align: right;\n",
       "    }\n",
       "</style>\n",
       "<table border=\"1\" class=\"dataframe\">\n",
       "  <thead>\n",
       "    <tr style=\"text-align: right;\">\n",
       "      <th></th>\n",
       "      <th>f1</th>\n",
       "      <th>f1_scores</th>\n",
       "      <th>precision</th>\n",
       "      <th>recall</th>\n",
       "      <th>valid_f1</th>\n",
       "      <th>valid_f1_scores</th>\n",
       "      <th>valid_precision</th>\n",
       "      <th>valid_recall</th>\n",
       "      <th>features</th>\n",
       "      <th>standardise_method</th>\n",
       "      <th>output_channels</th>\n",
       "      <th>lstm_hidden_dim</th>\n",
       "      <th>dimensions</th>\n",
       "      <th>swnu_hidden_dim</th>\n",
       "      <th>sig_depth</th>\n",
       "      <th>ffn_hidden_dim</th>\n",
       "      <th>dropout_rate</th>\n",
       "      <th>learning_rate</th>\n",
       "      <th>seed</th>\n",
       "      <th>batch_size</th>\n",
       "    </tr>\n",
       "  </thead>\n",
       "  <tbody>\n",
       "    <tr>\n",
       "      <th>0</th>\n",
       "      <td>0.551877</td>\n",
       "      <td>[0.8943844700003203, 0.4632024453327063, 0.298...</td>\n",
       "      <td>0.547830</td>\n",
       "      <td>0.556841</td>\n",
       "      <td>0.545873</td>\n",
       "      <td>[0.8895001375309445, 0.4688270517787954, 0.279...</td>\n",
       "      <td>0.540209</td>\n",
       "      <td>0.553929</td>\n",
       "      <td>[time_encoding, timeline_index]</td>\n",
       "      <td>[z_score, None]</td>\n",
       "      <td>None</td>\n",
       "      <td>384</td>\n",
       "      <td>15</td>\n",
       "      <td>(12,)</td>\n",
       "      <td>3</td>\n",
       "      <td>(512, 512)</td>\n",
       "      <td>0.2</td>\n",
       "      <td>0.0001</td>\n",
       "      <td>1</td>\n",
       "      <td>64</td>\n",
       "    </tr>\n",
       "    <tr>\n",
       "      <th>0</th>\n",
       "      <td>0.550928</td>\n",
       "      <td>[0.8878825127773824, 0.45651214128035317, 0.30...</td>\n",
       "      <td>0.540896</td>\n",
       "      <td>0.564836</td>\n",
       "      <td>0.548343</td>\n",
       "      <td>[0.8839387419314012, 0.4716057441253263, 0.289...</td>\n",
       "      <td>0.536358</td>\n",
       "      <td>0.567866</td>\n",
       "      <td>[time_encoding, timeline_index]</td>\n",
       "      <td>[z_score, None]</td>\n",
       "      <td>None</td>\n",
       "      <td>384</td>\n",
       "      <td>15</td>\n",
       "      <td>(12,)</td>\n",
       "      <td>3</td>\n",
       "      <td>(512, 512)</td>\n",
       "      <td>0.2</td>\n",
       "      <td>0.0001</td>\n",
       "      <td>12</td>\n",
       "      <td>64</td>\n",
       "    </tr>\n",
       "    <tr>\n",
       "      <th>0</th>\n",
       "      <td>0.551350</td>\n",
       "      <td>[0.8851722903719129, 0.4672077209914455, 0.301...</td>\n",
       "      <td>0.534629</td>\n",
       "      <td>0.573782</td>\n",
       "      <td>0.545722</td>\n",
       "      <td>[0.879700968800061, 0.4737448559670782, 0.2837...</td>\n",
       "      <td>0.527708</td>\n",
       "      <td>0.571670</td>\n",
       "      <td>[time_encoding, timeline_index]</td>\n",
       "      <td>[z_score, None]</td>\n",
       "      <td>None</td>\n",
       "      <td>384</td>\n",
       "      <td>15</td>\n",
       "      <td>(12,)</td>\n",
       "      <td>3</td>\n",
       "      <td>(512, 512)</td>\n",
       "      <td>0.2</td>\n",
       "      <td>0.0001</td>\n",
       "      <td>123</td>\n",
       "      <td>64</td>\n",
       "    </tr>\n",
       "  </tbody>\n",
       "</table>\n",
       "</div>"
      ],
      "text/plain": [
       "         f1                                          f1_scores  precision  \\\n",
       "0  0.551877  [0.8943844700003203, 0.4632024453327063, 0.298...   0.547830   \n",
       "0  0.550928  [0.8878825127773824, 0.45651214128035317, 0.30...   0.540896   \n",
       "0  0.551350  [0.8851722903719129, 0.4672077209914455, 0.301...   0.534629   \n",
       "\n",
       "     recall  valid_f1                                    valid_f1_scores  \\\n",
       "0  0.556841  0.545873  [0.8895001375309445, 0.4688270517787954, 0.279...   \n",
       "0  0.564836  0.548343  [0.8839387419314012, 0.4716057441253263, 0.289...   \n",
       "0  0.573782  0.545722  [0.879700968800061, 0.4737448559670782, 0.2837...   \n",
       "\n",
       "   valid_precision  valid_recall                         features  \\\n",
       "0         0.540209      0.553929  [time_encoding, timeline_index]   \n",
       "0         0.536358      0.567866  [time_encoding, timeline_index]   \n",
       "0         0.527708      0.571670  [time_encoding, timeline_index]   \n",
       "\n",
       "  standardise_method output_channels  lstm_hidden_dim  dimensions  \\\n",
       "0    [z_score, None]            None              384          15   \n",
       "0    [z_score, None]            None              384          15   \n",
       "0    [z_score, None]            None              384          15   \n",
       "\n",
       "  swnu_hidden_dim  sig_depth ffn_hidden_dim  dropout_rate  learning_rate  \\\n",
       "0           (12,)          3     (512, 512)           0.2         0.0001   \n",
       "0           (12,)          3     (512, 512)           0.2         0.0001   \n",
       "0           (12,)          3     (512, 512)           0.2         0.0001   \n",
       "\n",
       "   seed  batch_size  \n",
       "0     1          64  \n",
       "0    12          64  \n",
       "0   123          64  "
      ]
     },
     "execution_count": 38,
     "metadata": {},
     "output_type": "execute_result"
    }
   ],
   "source": [
    "best_seqsignet_network_umap_20[\n",
    "    [\n",
    "        \"f1\",\n",
    "        \"f1_scores\",\n",
    "        \"precision\",\n",
    "        \"recall\",\n",
    "        \"valid_f1\",\n",
    "        \"valid_f1_scores\",\n",
    "        \"valid_precision\",\n",
    "        \"valid_recall\",\n",
    "        \"features\",\n",
    "        \"standardise_method\",\n",
    "        \"output_channels\",\n",
    "        \"lstm_hidden_dim\",\n",
    "        \"dimensions\",\n",
    "        \"swnu_hidden_dim\",\n",
    "        \"sig_depth\",\n",
    "        \"ffn_hidden_dim\",\n",
    "        \"dropout_rate\",\n",
    "        \"learning_rate\",\n",
    "        \"seed\",\n",
    "        \"batch_size\",\n",
    "    ]\n",
    "]"
   ]
  },
  {
   "cell_type": "code",
   "execution_count": 26,
   "metadata": {},
   "outputs": [
    {
     "data": {
      "text/plain": [
       "0.5513850531101244"
      ]
     },
     "execution_count": 26,
     "metadata": {},
     "output_type": "execute_result"
    }
   ],
   "source": [
    "best_seqsignet_network_umap_20[\"f1\"].mean()"
   ]
  },
  {
   "cell_type": "code",
   "execution_count": 27,
   "metadata": {},
   "outputs": [
    {
     "data": {
      "text/plain": [
       "0.5411183800451284"
      ]
     },
     "execution_count": 27,
     "metadata": {},
     "output_type": "execute_result"
    }
   ],
   "source": [
    "best_seqsignet_network_umap_20[\"precision\"].mean()"
   ]
  },
  {
   "cell_type": "code",
   "execution_count": 28,
   "metadata": {},
   "outputs": [
    {
     "data": {
      "text/plain": [
       "0.5651528257196352"
      ]
     },
     "execution_count": 28,
     "metadata": {},
     "output_type": "execute_result"
    }
   ],
   "source": [
    "best_seqsignet_network_umap_20[\"recall\"].mean()"
   ]
  },
  {
   "cell_type": "code",
   "execution_count": 29,
   "metadata": {},
   "outputs": [
    {
     "data": {
      "text/plain": [
       "array([0.88914642, 0.46230744, 0.3027013 ])"
      ]
     },
     "execution_count": 29,
     "metadata": {},
     "output_type": "execute_result"
    }
   ],
   "source": [
    "np.stack(best_seqsignet_network_umap_20[\"f1_scores\"]).mean(axis=0)"
   ]
  },
  {
   "cell_type": "code",
   "execution_count": 30,
   "metadata": {},
   "outputs": [
    {
     "data": {
      "text/plain": [
       "array([0.90241392, 0.42347176, 0.29746945])"
      ]
     },
     "execution_count": 30,
     "metadata": {},
     "output_type": "execute_result"
    }
   ],
   "source": [
    "np.stack(best_seqsignet_network_umap_20[\"precision_scores\"]).mean(axis=0)"
   ]
  },
  {
   "cell_type": "code",
   "execution_count": 31,
   "metadata": {},
   "outputs": [
    {
     "data": {
      "text/plain": [
       "array([0.87633724, 0.50992063, 0.3092006 ])"
      ]
     },
     "execution_count": 31,
     "metadata": {},
     "output_type": "execute_result"
    }
   ],
   "source": [
    "np.stack(best_seqsignet_network_umap_20[\"recall_scores\"]).mean(axis=0)"
   ]
  }
 ],
 "metadata": {
  "interpreter": {
   "hash": "b2013b70f5165546ff531eadcfc35b64307c3717f205ea3ff61fa34bab89c803"
  },
  "kernelspec": {
   "display_name": "Python 3.8.17 ('nlpsig-networks')",
   "language": "python",
   "name": "python3"
  },
  "language_info": {
   "codemirror_mode": {
    "name": "ipython",
    "version": 3
   },
   "file_extension": ".py",
   "mimetype": "text/x-python",
   "name": "python",
   "nbconvert_exporter": "python",
   "pygments_lexer": "ipython3",
   "version": "3.8.17"
  },
  "orig_nbformat": 4
 },
 "nbformat": 4,
 "nbformat_minor": 2
}
