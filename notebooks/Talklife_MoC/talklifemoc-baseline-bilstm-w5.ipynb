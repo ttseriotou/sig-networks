{
 "cells": [
  {
   "cell_type": "code",
   "execution_count": 1,
   "metadata": {},
   "outputs": [],
   "source": [
    "import numpy as np\n",
    "import pickle\n",
    "import os\n",
    "\n",
    "seed = 2023"
   ]
  },
  {
   "cell_type": "code",
   "execution_count": 2,
   "metadata": {},
   "outputs": [
    {
     "data": {
      "text/plain": [
       "device(type='cuda')"
      ]
     },
     "execution_count": 2,
     "metadata": {},
     "output_type": "execute_result"
    }
   ],
   "source": [
    "import torch\n",
    "\n",
    "# set device\n",
    "device = torch.device(\"cuda\" if torch.cuda.is_available() else \"cpu\")\n",
    "device"
   ]
  },
  {
   "cell_type": "code",
   "execution_count": 3,
   "metadata": {},
   "outputs": [],
   "source": [
    "from nlpsig_networks.scripts.lstm_baseline_functions import (\n",
    "    lstm_hyperparameter_search,\n",
    "    obtain_path,\n",
    ")"
   ]
  },
  {
   "cell_type": "code",
   "execution_count": 4,
   "metadata": {},
   "outputs": [],
   "source": [
    "output_dir = \"talklife_moc_output\"\n",
    "if not os.path.isdir(output_dir):\n",
    "    os.makedirs(output_dir)"
   ]
  },
  {
   "cell_type": "markdown",
   "metadata": {},
   "source": [
    "Talklife MoC"
   ]
  },
  {
   "cell_type": "code",
   "execution_count": 5,
   "metadata": {},
   "outputs": [],
   "source": [
    "%run load_talklifemoc.py"
   ]
  },
  {
   "cell_type": "code",
   "execution_count": 6,
   "metadata": {},
   "outputs": [],
   "source": [
    "%run load_sbert-embeddings.py"
   ]
  },
  {
   "cell_type": "code",
   "execution_count": 7,
   "metadata": {},
   "outputs": [
    {
     "data": {
      "text/plain": [
       "torch.Size([18604, 384])"
      ]
     },
     "execution_count": 7,
     "metadata": {},
     "output_type": "execute_result"
    }
   ],
   "source": [
    "sbert_embeddings.shape"
   ]
  },
  {
   "cell_type": "markdown",
   "metadata": {},
   "source": [
    "Baseline: LSTM classification (window=5)"
   ]
  },
  {
   "cell_type": "code",
   "execution_count": 8,
   "metadata": {},
   "outputs": [],
   "source": [
    "num_epochs = 100\n",
    "hidden_dim_sizes = [100, 200, 300, 384]\n",
    "num_layers = 1\n",
    "bidirectional = True\n",
    "dropout_rates = [0.1, 0.2]\n",
    "learning_rates = [1e-3, 1e-4, 5e-4]\n",
    "seeds = [1, 12, 123]\n",
    "loss = \"focal\"\n",
    "gamma = 2\n",
    "validation_metric = \"f1\""
   ]
  },
  {
   "cell_type": "code",
   "execution_count": 9,
   "metadata": {},
   "outputs": [],
   "source": [
    "# create indices for kfold\n",
    "fold_col_names = [c for c in df.columns if \"fold\" in c]\n",
    "fold_list = []\n",
    "for foldc in fold_col_names:\n",
    "    fold_list.append(\n",
    "        (\n",
    "            df[df[foldc] == \"train\"].index,\n",
    "            df[df[foldc] == \"dev\"].index,\n",
    "            df[df[foldc] == \"test\"].index,\n",
    "        )\n",
    "    )\n",
    "fold_list = tuple(fold_list)"
   ]
  },
  {
   "cell_type": "code",
   "execution_count": 10,
   "metadata": {},
   "outputs": [
    {
     "data": {
      "application/vnd.jupyter.widget-view+json": {
       "model_id": "fec935bc403844429ae72d6a7cb21334",
       "version_major": 2,
       "version_minor": 0
      },
      "text/plain": [
       "  0%|          | 0/1 [00:00<?, ?it/s]"
      ]
     },
     "metadata": {},
     "output_type": "display_data"
    },
    {
     "name": "stdout",
     "output_type": "stream",
     "text": [
      "[INFO] Concatenating the embeddings to the dataframe...\n",
      "[INFO] - columns beginning with 'e' denote the full embddings.\n",
      "[INFO] Adding time feature columns into dataframe in `.df`.\n",
      "[INFO] Adding 'time_encoding' feature...\n",
      "[INFO] Adding 'time_diff' feature...\n",
      "[INFO] Adding 'timeline_index' feature...\n",
      "[INFO] Padding ids and storing in `.df_padded` and `.array_padded` attributes.\n"
     ]
    },
    {
     "data": {
      "application/vnd.jupyter.widget-view+json": {
       "model_id": "b2892c9659ad461180a46ed9e954159b",
       "version_major": 2,
       "version_minor": 0
      },
      "text/plain": [
       "  0%|          | 0/18604 [00:00<?, ?it/s]"
      ]
     },
     "metadata": {},
     "output_type": "display_data"
    },
    {
     "data": {
      "application/vnd.jupyter.widget-view+json": {
       "model_id": "63bdaf75c877433abb2b2458189d2895",
       "version_major": 2,
       "version_minor": 0
      },
      "text/plain": [
       "  0%|          | 0/4 [00:00<?, ?it/s]"
      ]
     },
     "metadata": {},
     "output_type": "display_data"
    },
    {
     "data": {
      "application/vnd.jupyter.widget-view+json": {
       "model_id": "bcbf77bb9f23490e9aa47fe72b79201b",
       "version_major": 2,
       "version_minor": 0
      },
      "text/plain": [
       "  0%|          | 0/2 [00:00<?, ?it/s]"
      ]
     },
     "metadata": {},
     "output_type": "display_data"
    },
    {
     "data": {
      "application/vnd.jupyter.widget-view+json": {
       "model_id": "5cf6159b5c6943f29ec08234e550692c",
       "version_major": 2,
       "version_minor": 0
      },
      "text/plain": [
       "  0%|          | 0/3 [00:00<?, ?it/s]"
      ]
     },
     "metadata": {},
     "output_type": "display_data"
    },
    {
     "data": {
      "application/vnd.jupyter.widget-view+json": {
       "model_id": "b6429aea2ac6485a9eef0e4b41064353",
       "version_major": 2,
       "version_minor": 0
      },
      "text/plain": [
       "  0%|          | 0/3 [00:00<?, ?it/s]"
      ]
     },
     "metadata": {},
     "output_type": "display_data"
    },
    {
     "data": {
      "application/vnd.jupyter.widget-view+json": {
       "model_id": "a00d4ba81ef74880b32ff2710577c130",
       "version_major": 2,
       "version_minor": 0
      },
      "text/plain": [
       "  0%|          | 0/2 [00:00<?, ?it/s]"
      ]
     },
     "metadata": {},
     "output_type": "display_data"
    },
    {
     "data": {
      "application/vnd.jupyter.widget-view+json": {
       "model_id": "429d847136ed43d49cafbf39df43fbed",
       "version_major": 2,
       "version_minor": 0
      },
      "text/plain": [
       "  0%|          | 0/3 [00:00<?, ?it/s]"
      ]
     },
     "metadata": {},
     "output_type": "display_data"
    },
    {
     "data": {
      "application/vnd.jupyter.widget-view+json": {
       "model_id": "ed88ed0fc70a49fcb8715f62e2d72e97",
       "version_major": 2,
       "version_minor": 0
      },
      "text/plain": [
       "  0%|          | 0/3 [00:00<?, ?it/s]"
      ]
     },
     "metadata": {},
     "output_type": "display_data"
    },
    {
     "data": {
      "application/vnd.jupyter.widget-view+json": {
       "model_id": "27af0a6dab35413694e18deb506776a0",
       "version_major": 2,
       "version_minor": 0
      },
      "text/plain": [
       "  0%|          | 0/2 [00:00<?, ?it/s]"
      ]
     },
     "metadata": {},
     "output_type": "display_data"
    },
    {
     "data": {
      "application/vnd.jupyter.widget-view+json": {
       "model_id": "6a46cbd452ca46f8b20f33fc5d7a106e",
       "version_major": 2,
       "version_minor": 0
      },
      "text/plain": [
       "  0%|          | 0/3 [00:00<?, ?it/s]"
      ]
     },
     "metadata": {},
     "output_type": "display_data"
    },
    {
     "data": {
      "application/vnd.jupyter.widget-view+json": {
       "model_id": "2a8833c71a154c19970bb2ccafb91299",
       "version_major": 2,
       "version_minor": 0
      },
      "text/plain": [
       "  0%|          | 0/3 [00:00<?, ?it/s]"
      ]
     },
     "metadata": {},
     "output_type": "display_data"
    },
    {
     "data": {
      "application/vnd.jupyter.widget-view+json": {
       "model_id": "de2d7b2b5ed74787bc65a3248ff47654",
       "version_major": 2,
       "version_minor": 0
      },
      "text/plain": [
       "  0%|          | 0/2 [00:00<?, ?it/s]"
      ]
     },
     "metadata": {},
     "output_type": "display_data"
    },
    {
     "data": {
      "application/vnd.jupyter.widget-view+json": {
       "model_id": "b1fa247602bb4ca88a540cab0a5e40be",
       "version_major": 2,
       "version_minor": 0
      },
      "text/plain": [
       "  0%|          | 0/3 [00:00<?, ?it/s]"
      ]
     },
     "metadata": {},
     "output_type": "display_data"
    },
    {
     "data": {
      "application/vnd.jupyter.widget-view+json": {
       "model_id": "72abe8b79a7f4b4eb7ab3e089fcb59f6",
       "version_major": 2,
       "version_minor": 0
      },
      "text/plain": [
       "  0%|          | 0/3 [00:00<?, ?it/s]"
      ]
     },
     "metadata": {},
     "output_type": "display_data"
    },
    {
     "name": "stdout",
     "output_type": "stream",
     "text": [
      "saving results dataframe to CSV for this hyperparameter search in talklife_moc_output/lstm_history_5_focal_2_kfold.csv\n",
      "saving the best model results dataframe to CSV for this hyperparameter search in talklife_moc_output/lstm_history_5_focal_2_kfold_best_model.csv\n"
     ]
    }
   ],
   "source": [
    "size = 5\n",
    "(\n",
    "    bilstm_history_5,\n",
    "    best_bilstm_history_5,\n",
    "    _,\n",
    "    __,\n",
    ") = lstm_hyperparameter_search(\n",
    "    num_epochs=num_epochs,\n",
    "    df=df,\n",
    "    id_column=\"timeline_id\",\n",
    "    label_column=\"label\",\n",
    "    embeddings=sbert_embeddings.numpy(),\n",
    "    y_data=y_data,\n",
    "    output_dim=output_dim,\n",
    "    history_lengths=[size],\n",
    "    hidden_dim_sizes=hidden_dim_sizes,\n",
    "    num_layers=num_layers,\n",
    "    bidirectional=bidirectional,\n",
    "    dropout_rates=dropout_rates,\n",
    "    learning_rates=learning_rates,\n",
    "    seeds=seeds,\n",
    "    loss=loss,\n",
    "    gamma=gamma,\n",
    "    device=device,\n",
    "    split_ids=None,\n",
    "    split_indices=fold_list,\n",
    "    k_fold=True,\n",
    "    validation_metric=validation_metric,\n",
    "    results_output=f\"{output_dir}/lstm_history_{size}_focal_{gamma}_kfold.csv\",\n",
    "    verbose=False,\n",
    ")"
   ]
  },
  {
   "cell_type": "code",
   "execution_count": 11,
   "metadata": {},
   "outputs": [
    {
     "name": "stderr",
     "output_type": "stream",
     "text": [
      "/tmp/ipykernel_118584/1806291284.py:1: FutureWarning: The default value of numeric_only in DataFrameGroupBy.mean is deprecated. In a future version, numeric_only will default to False. Either specify numeric_only or select only columns which should be valid for the function.\n",
      "  bilstm_history_5.groupby([\"hidden_dim\", \"dropout_rate\", \"learning_rate\"]).mean()\n"
     ]
    },
    {
     "data": {
      "text/html": [
       "<div>\n",
       "<style scoped>\n",
       "    .dataframe tbody tr th:only-of-type {\n",
       "        vertical-align: middle;\n",
       "    }\n",
       "\n",
       "    .dataframe tbody tr th {\n",
       "        vertical-align: top;\n",
       "    }\n",
       "\n",
       "    .dataframe thead th {\n",
       "        text-align: right;\n",
       "    }\n",
       "</style>\n",
       "<table border=\"1\" class=\"dataframe\">\n",
       "  <thead>\n",
       "    <tr style=\"text-align: right;\">\n",
       "      <th></th>\n",
       "      <th></th>\n",
       "      <th></th>\n",
       "      <th>accuracy</th>\n",
       "      <th>f1</th>\n",
       "      <th>precision</th>\n",
       "      <th>recall</th>\n",
       "      <th>valid_accuracy</th>\n",
       "      <th>valid_f1</th>\n",
       "      <th>valid_precision</th>\n",
       "      <th>valid_recall</th>\n",
       "      <th>k</th>\n",
       "      <th>num_layers</th>\n",
       "      <th>bidirectional</th>\n",
       "      <th>seed</th>\n",
       "      <th>gamma</th>\n",
       "      <th>k_fold</th>\n",
       "      <th>n_splits</th>\n",
       "      <th>batch_size</th>\n",
       "      <th>model_id</th>\n",
       "    </tr>\n",
       "    <tr>\n",
       "      <th>hidden_dim</th>\n",
       "      <th>dropout_rate</th>\n",
       "      <th>learning_rate</th>\n",
       "      <th></th>\n",
       "      <th></th>\n",
       "      <th></th>\n",
       "      <th></th>\n",
       "      <th></th>\n",
       "      <th></th>\n",
       "      <th></th>\n",
       "      <th></th>\n",
       "      <th></th>\n",
       "      <th></th>\n",
       "      <th></th>\n",
       "      <th></th>\n",
       "      <th></th>\n",
       "      <th></th>\n",
       "      <th></th>\n",
       "      <th></th>\n",
       "      <th></th>\n",
       "    </tr>\n",
       "  </thead>\n",
       "  <tbody>\n",
       "    <tr>\n",
       "      <th rowspan=\"6\" valign=\"top\">100</th>\n",
       "      <th rowspan=\"3\" valign=\"top\">0.1</th>\n",
       "      <th>0.0001</th>\n",
       "      <td>0.810614</td>\n",
       "      <td>0.538552</td>\n",
       "      <td>0.531588</td>\n",
       "      <td>0.549650</td>\n",
       "      <td>0.805747</td>\n",
       "      <td>0.542128</td>\n",
       "      <td>0.535826</td>\n",
       "      <td>0.558397</td>\n",
       "      <td>5.0</td>\n",
       "      <td>1.0</td>\n",
       "      <td>1.0</td>\n",
       "      <td>45.333333</td>\n",
       "      <td>2.0</td>\n",
       "      <td>1.0</td>\n",
       "      <td>5.0</td>\n",
       "      <td>64.0</td>\n",
       "      <td>1.0</td>\n",
       "    </tr>\n",
       "    <tr>\n",
       "      <th>0.0005</th>\n",
       "      <td>0.813481</td>\n",
       "      <td>0.542101</td>\n",
       "      <td>0.536854</td>\n",
       "      <td>0.550499</td>\n",
       "      <td>0.808164</td>\n",
       "      <td>0.545448</td>\n",
       "      <td>0.538749</td>\n",
       "      <td>0.559148</td>\n",
       "      <td>5.0</td>\n",
       "      <td>1.0</td>\n",
       "      <td>1.0</td>\n",
       "      <td>45.333333</td>\n",
       "      <td>2.0</td>\n",
       "      <td>1.0</td>\n",
       "      <td>5.0</td>\n",
       "      <td>64.0</td>\n",
       "      <td>2.0</td>\n",
       "    </tr>\n",
       "    <tr>\n",
       "      <th>0.0010</th>\n",
       "      <td>0.807891</td>\n",
       "      <td>0.543174</td>\n",
       "      <td>0.531517</td>\n",
       "      <td>0.559762</td>\n",
       "      <td>0.803551</td>\n",
       "      <td>0.547516</td>\n",
       "      <td>0.537205</td>\n",
       "      <td>0.567231</td>\n",
       "      <td>5.0</td>\n",
       "      <td>1.0</td>\n",
       "      <td>1.0</td>\n",
       "      <td>45.333333</td>\n",
       "      <td>2.0</td>\n",
       "      <td>1.0</td>\n",
       "      <td>5.0</td>\n",
       "      <td>64.0</td>\n",
       "      <td>0.0</td>\n",
       "    </tr>\n",
       "    <tr>\n",
       "      <th rowspan=\"3\" valign=\"top\">0.2</th>\n",
       "      <th>0.0001</th>\n",
       "      <td>0.811815</td>\n",
       "      <td>0.538035</td>\n",
       "      <td>0.532444</td>\n",
       "      <td>0.547523</td>\n",
       "      <td>0.806955</td>\n",
       "      <td>0.540005</td>\n",
       "      <td>0.535505</td>\n",
       "      <td>0.554175</td>\n",
       "      <td>5.0</td>\n",
       "      <td>1.0</td>\n",
       "      <td>1.0</td>\n",
       "      <td>45.333333</td>\n",
       "      <td>2.0</td>\n",
       "      <td>1.0</td>\n",
       "      <td>5.0</td>\n",
       "      <td>64.0</td>\n",
       "      <td>4.0</td>\n",
       "    </tr>\n",
       "    <tr>\n",
       "      <th>0.0005</th>\n",
       "      <td>0.813212</td>\n",
       "      <td>0.541283</td>\n",
       "      <td>0.536448</td>\n",
       "      <td>0.549930</td>\n",
       "      <td>0.808678</td>\n",
       "      <td>0.545193</td>\n",
       "      <td>0.539431</td>\n",
       "      <td>0.558502</td>\n",
       "      <td>5.0</td>\n",
       "      <td>1.0</td>\n",
       "      <td>1.0</td>\n",
       "      <td>45.333333</td>\n",
       "      <td>2.0</td>\n",
       "      <td>1.0</td>\n",
       "      <td>5.0</td>\n",
       "      <td>64.0</td>\n",
       "      <td>5.0</td>\n",
       "    </tr>\n",
       "    <tr>\n",
       "      <th>0.0010</th>\n",
       "      <td>0.813158</td>\n",
       "      <td>0.544141</td>\n",
       "      <td>0.538121</td>\n",
       "      <td>0.554781</td>\n",
       "      <td>0.807150</td>\n",
       "      <td>0.547550</td>\n",
       "      <td>0.542087</td>\n",
       "      <td>0.563518</td>\n",
       "      <td>5.0</td>\n",
       "      <td>1.0</td>\n",
       "      <td>1.0</td>\n",
       "      <td>45.333333</td>\n",
       "      <td>2.0</td>\n",
       "      <td>1.0</td>\n",
       "      <td>5.0</td>\n",
       "      <td>64.0</td>\n",
       "      <td>3.0</td>\n",
       "    </tr>\n",
       "    <tr>\n",
       "      <th rowspan=\"6\" valign=\"top\">200</th>\n",
       "      <th rowspan=\"3\" valign=\"top\">0.1</th>\n",
       "      <th>0.0001</th>\n",
       "      <td>0.815183</td>\n",
       "      <td>0.537930</td>\n",
       "      <td>0.536342</td>\n",
       "      <td>0.542911</td>\n",
       "      <td>0.811929</td>\n",
       "      <td>0.542261</td>\n",
       "      <td>0.539972</td>\n",
       "      <td>0.552826</td>\n",
       "      <td>5.0</td>\n",
       "      <td>1.0</td>\n",
       "      <td>1.0</td>\n",
       "      <td>45.333333</td>\n",
       "      <td>2.0</td>\n",
       "      <td>1.0</td>\n",
       "      <td>5.0</td>\n",
       "      <td>64.0</td>\n",
       "      <td>7.0</td>\n",
       "    </tr>\n",
       "    <tr>\n",
       "      <th>0.0005</th>\n",
       "      <td>0.812012</td>\n",
       "      <td>0.543288</td>\n",
       "      <td>0.536430</td>\n",
       "      <td>0.554524</td>\n",
       "      <td>0.806886</td>\n",
       "      <td>0.545536</td>\n",
       "      <td>0.538762</td>\n",
       "      <td>0.561205</td>\n",
       "      <td>5.0</td>\n",
       "      <td>1.0</td>\n",
       "      <td>1.0</td>\n",
       "      <td>45.333333</td>\n",
       "      <td>2.0</td>\n",
       "      <td>1.0</td>\n",
       "      <td>5.0</td>\n",
       "      <td>64.0</td>\n",
       "      <td>8.0</td>\n",
       "    </tr>\n",
       "    <tr>\n",
       "      <th>0.0010</th>\n",
       "      <td>0.818802</td>\n",
       "      <td>0.541824</td>\n",
       "      <td>0.543402</td>\n",
       "      <td>0.544737</td>\n",
       "      <td>0.813666</td>\n",
       "      <td>0.545326</td>\n",
       "      <td>0.547106</td>\n",
       "      <td>0.552457</td>\n",
       "      <td>5.0</td>\n",
       "      <td>1.0</td>\n",
       "      <td>1.0</td>\n",
       "      <td>45.333333</td>\n",
       "      <td>2.0</td>\n",
       "      <td>1.0</td>\n",
       "      <td>5.0</td>\n",
       "      <td>64.0</td>\n",
       "      <td>6.0</td>\n",
       "    </tr>\n",
       "    <tr>\n",
       "      <th rowspan=\"3\" valign=\"top\">0.2</th>\n",
       "      <th>0.0001</th>\n",
       "      <td>0.815201</td>\n",
       "      <td>0.537533</td>\n",
       "      <td>0.535322</td>\n",
       "      <td>0.542859</td>\n",
       "      <td>0.811596</td>\n",
       "      <td>0.541383</td>\n",
       "      <td>0.538759</td>\n",
       "      <td>0.552168</td>\n",
       "      <td>5.0</td>\n",
       "      <td>1.0</td>\n",
       "      <td>1.0</td>\n",
       "      <td>45.333333</td>\n",
       "      <td>2.0</td>\n",
       "      <td>1.0</td>\n",
       "      <td>5.0</td>\n",
       "      <td>64.0</td>\n",
       "      <td>10.0</td>\n",
       "    </tr>\n",
       "    <tr>\n",
       "      <th>0.0005</th>\n",
       "      <td>0.808930</td>\n",
       "      <td>0.542320</td>\n",
       "      <td>0.532143</td>\n",
       "      <td>0.556671</td>\n",
       "      <td>0.805344</td>\n",
       "      <td>0.547454</td>\n",
       "      <td>0.537517</td>\n",
       "      <td>0.565465</td>\n",
       "      <td>5.0</td>\n",
       "      <td>1.0</td>\n",
       "      <td>1.0</td>\n",
       "      <td>45.333333</td>\n",
       "      <td>2.0</td>\n",
       "      <td>1.0</td>\n",
       "      <td>5.0</td>\n",
       "      <td>64.0</td>\n",
       "      <td>11.0</td>\n",
       "    </tr>\n",
       "    <tr>\n",
       "      <th>0.0010</th>\n",
       "      <td>0.811743</td>\n",
       "      <td>0.541879</td>\n",
       "      <td>0.533810</td>\n",
       "      <td>0.553442</td>\n",
       "      <td>0.806678</td>\n",
       "      <td>0.546474</td>\n",
       "      <td>0.538711</td>\n",
       "      <td>0.561456</td>\n",
       "      <td>5.0</td>\n",
       "      <td>1.0</td>\n",
       "      <td>1.0</td>\n",
       "      <td>45.333333</td>\n",
       "      <td>2.0</td>\n",
       "      <td>1.0</td>\n",
       "      <td>5.0</td>\n",
       "      <td>64.0</td>\n",
       "      <td>9.0</td>\n",
       "    </tr>\n",
       "    <tr>\n",
       "      <th rowspan=\"6\" valign=\"top\">300</th>\n",
       "      <th rowspan=\"3\" valign=\"top\">0.1</th>\n",
       "      <th>0.0001</th>\n",
       "      <td>0.813427</td>\n",
       "      <td>0.542976</td>\n",
       "      <td>0.536994</td>\n",
       "      <td>0.551444</td>\n",
       "      <td>0.809581</td>\n",
       "      <td>0.544677</td>\n",
       "      <td>0.538426</td>\n",
       "      <td>0.557390</td>\n",
       "      <td>5.0</td>\n",
       "      <td>1.0</td>\n",
       "      <td>1.0</td>\n",
       "      <td>45.333333</td>\n",
       "      <td>2.0</td>\n",
       "      <td>1.0</td>\n",
       "      <td>5.0</td>\n",
       "      <td>64.0</td>\n",
       "      <td>13.0</td>\n",
       "    </tr>\n",
       "    <tr>\n",
       "      <th>0.0005</th>\n",
       "      <td>0.813678</td>\n",
       "      <td>0.543505</td>\n",
       "      <td>0.536316</td>\n",
       "      <td>0.552921</td>\n",
       "      <td>0.809581</td>\n",
       "      <td>0.547310</td>\n",
       "      <td>0.541604</td>\n",
       "      <td>0.559361</td>\n",
       "      <td>5.0</td>\n",
       "      <td>1.0</td>\n",
       "      <td>1.0</td>\n",
       "      <td>45.333333</td>\n",
       "      <td>2.0</td>\n",
       "      <td>1.0</td>\n",
       "      <td>5.0</td>\n",
       "      <td>64.0</td>\n",
       "      <td>14.0</td>\n",
       "    </tr>\n",
       "    <tr>\n",
       "      <th>0.0010</th>\n",
       "      <td>0.818390</td>\n",
       "      <td>0.544057</td>\n",
       "      <td>0.542887</td>\n",
       "      <td>0.548319</td>\n",
       "      <td>0.811665</td>\n",
       "      <td>0.543176</td>\n",
       "      <td>0.541880</td>\n",
       "      <td>0.551134</td>\n",
       "      <td>5.0</td>\n",
       "      <td>1.0</td>\n",
       "      <td>1.0</td>\n",
       "      <td>45.333333</td>\n",
       "      <td>2.0</td>\n",
       "      <td>1.0</td>\n",
       "      <td>5.0</td>\n",
       "      <td>64.0</td>\n",
       "      <td>12.0</td>\n",
       "    </tr>\n",
       "    <tr>\n",
       "      <th rowspan=\"3\" valign=\"top\">0.2</th>\n",
       "      <th>0.0001</th>\n",
       "      <td>0.813642</td>\n",
       "      <td>0.542126</td>\n",
       "      <td>0.536685</td>\n",
       "      <td>0.550083</td>\n",
       "      <td>0.809929</td>\n",
       "      <td>0.544852</td>\n",
       "      <td>0.538977</td>\n",
       "      <td>0.557387</td>\n",
       "      <td>5.0</td>\n",
       "      <td>1.0</td>\n",
       "      <td>1.0</td>\n",
       "      <td>45.333333</td>\n",
       "      <td>2.0</td>\n",
       "      <td>1.0</td>\n",
       "      <td>5.0</td>\n",
       "      <td>64.0</td>\n",
       "      <td>16.0</td>\n",
       "    </tr>\n",
       "    <tr>\n",
       "      <th>0.0005</th>\n",
       "      <td>0.813302</td>\n",
       "      <td>0.542647</td>\n",
       "      <td>0.535355</td>\n",
       "      <td>0.552502</td>\n",
       "      <td>0.808998</td>\n",
       "      <td>0.545807</td>\n",
       "      <td>0.540260</td>\n",
       "      <td>0.558079</td>\n",
       "      <td>5.0</td>\n",
       "      <td>1.0</td>\n",
       "      <td>1.0</td>\n",
       "      <td>45.333333</td>\n",
       "      <td>2.0</td>\n",
       "      <td>1.0</td>\n",
       "      <td>5.0</td>\n",
       "      <td>64.0</td>\n",
       "      <td>17.0</td>\n",
       "    </tr>\n",
       "    <tr>\n",
       "      <th>0.0010</th>\n",
       "      <td>0.819197</td>\n",
       "      <td>0.545296</td>\n",
       "      <td>0.543580</td>\n",
       "      <td>0.548576</td>\n",
       "      <td>0.812457</td>\n",
       "      <td>0.544858</td>\n",
       "      <td>0.542234</td>\n",
       "      <td>0.551859</td>\n",
       "      <td>5.0</td>\n",
       "      <td>1.0</td>\n",
       "      <td>1.0</td>\n",
       "      <td>45.333333</td>\n",
       "      <td>2.0</td>\n",
       "      <td>1.0</td>\n",
       "      <td>5.0</td>\n",
       "      <td>64.0</td>\n",
       "      <td>15.0</td>\n",
       "    </tr>\n",
       "    <tr>\n",
       "      <th rowspan=\"6\" valign=\"top\">384</th>\n",
       "      <th rowspan=\"3\" valign=\"top\">0.1</th>\n",
       "      <th>0.0001</th>\n",
       "      <td>0.813212</td>\n",
       "      <td>0.545360</td>\n",
       "      <td>0.537521</td>\n",
       "      <td>0.555056</td>\n",
       "      <td>0.809053</td>\n",
       "      <td>0.546414</td>\n",
       "      <td>0.538626</td>\n",
       "      <td>0.559855</td>\n",
       "      <td>5.0</td>\n",
       "      <td>1.0</td>\n",
       "      <td>1.0</td>\n",
       "      <td>45.333333</td>\n",
       "      <td>2.0</td>\n",
       "      <td>1.0</td>\n",
       "      <td>5.0</td>\n",
       "      <td>64.0</td>\n",
       "      <td>19.0</td>\n",
       "    </tr>\n",
       "    <tr>\n",
       "      <th>0.0005</th>\n",
       "      <td>0.812155</td>\n",
       "      <td>0.542764</td>\n",
       "      <td>0.534981</td>\n",
       "      <td>0.553487</td>\n",
       "      <td>0.807706</td>\n",
       "      <td>0.545620</td>\n",
       "      <td>0.539190</td>\n",
       "      <td>0.558894</td>\n",
       "      <td>5.0</td>\n",
       "      <td>1.0</td>\n",
       "      <td>1.0</td>\n",
       "      <td>45.333333</td>\n",
       "      <td>2.0</td>\n",
       "      <td>1.0</td>\n",
       "      <td>5.0</td>\n",
       "      <td>64.0</td>\n",
       "      <td>20.0</td>\n",
       "    </tr>\n",
       "    <tr>\n",
       "      <th>0.0010</th>\n",
       "      <td>0.817656</td>\n",
       "      <td>0.545453</td>\n",
       "      <td>0.541936</td>\n",
       "      <td>0.550493</td>\n",
       "      <td>0.810804</td>\n",
       "      <td>0.541956</td>\n",
       "      <td>0.538092</td>\n",
       "      <td>0.550433</td>\n",
       "      <td>5.0</td>\n",
       "      <td>1.0</td>\n",
       "      <td>1.0</td>\n",
       "      <td>45.333333</td>\n",
       "      <td>2.0</td>\n",
       "      <td>1.0</td>\n",
       "      <td>5.0</td>\n",
       "      <td>64.0</td>\n",
       "      <td>18.0</td>\n",
       "    </tr>\n",
       "    <tr>\n",
       "      <th rowspan=\"3\" valign=\"top\">0.2</th>\n",
       "      <th>0.0001</th>\n",
       "      <td>0.815362</td>\n",
       "      <td>0.545373</td>\n",
       "      <td>0.539998</td>\n",
       "      <td>0.552759</td>\n",
       "      <td>0.810887</td>\n",
       "      <td>0.545886</td>\n",
       "      <td>0.540472</td>\n",
       "      <td>0.557741</td>\n",
       "      <td>5.0</td>\n",
       "      <td>1.0</td>\n",
       "      <td>1.0</td>\n",
       "      <td>45.333333</td>\n",
       "      <td>2.0</td>\n",
       "      <td>1.0</td>\n",
       "      <td>5.0</td>\n",
       "      <td>64.0</td>\n",
       "      <td>22.0</td>\n",
       "    </tr>\n",
       "    <tr>\n",
       "      <th>0.0005</th>\n",
       "      <td>0.818659</td>\n",
       "      <td>0.541975</td>\n",
       "      <td>0.540694</td>\n",
       "      <td>0.544246</td>\n",
       "      <td>0.812819</td>\n",
       "      <td>0.544585</td>\n",
       "      <td>0.543935</td>\n",
       "      <td>0.551027</td>\n",
       "      <td>5.0</td>\n",
       "      <td>1.0</td>\n",
       "      <td>1.0</td>\n",
       "      <td>45.333333</td>\n",
       "      <td>2.0</td>\n",
       "      <td>1.0</td>\n",
       "      <td>5.0</td>\n",
       "      <td>64.0</td>\n",
       "      <td>23.0</td>\n",
       "    </tr>\n",
       "    <tr>\n",
       "      <th>0.0010</th>\n",
       "      <td>0.817244</td>\n",
       "      <td>0.544930</td>\n",
       "      <td>0.541771</td>\n",
       "      <td>0.549640</td>\n",
       "      <td>0.811471</td>\n",
       "      <td>0.543708</td>\n",
       "      <td>0.540107</td>\n",
       "      <td>0.552331</td>\n",
       "      <td>5.0</td>\n",
       "      <td>1.0</td>\n",
       "      <td>1.0</td>\n",
       "      <td>45.333333</td>\n",
       "      <td>2.0</td>\n",
       "      <td>1.0</td>\n",
       "      <td>5.0</td>\n",
       "      <td>64.0</td>\n",
       "      <td>21.0</td>\n",
       "    </tr>\n",
       "  </tbody>\n",
       "</table>\n",
       "</div>"
      ],
      "text/plain": [
       "                                       accuracy        f1  precision  \\\n",
       "hidden_dim dropout_rate learning_rate                                  \n",
       "100        0.1          0.0001         0.810614  0.538552   0.531588   \n",
       "                        0.0005         0.813481  0.542101   0.536854   \n",
       "                        0.0010         0.807891  0.543174   0.531517   \n",
       "           0.2          0.0001         0.811815  0.538035   0.532444   \n",
       "                        0.0005         0.813212  0.541283   0.536448   \n",
       "                        0.0010         0.813158  0.544141   0.538121   \n",
       "200        0.1          0.0001         0.815183  0.537930   0.536342   \n",
       "                        0.0005         0.812012  0.543288   0.536430   \n",
       "                        0.0010         0.818802  0.541824   0.543402   \n",
       "           0.2          0.0001         0.815201  0.537533   0.535322   \n",
       "                        0.0005         0.808930  0.542320   0.532143   \n",
       "                        0.0010         0.811743  0.541879   0.533810   \n",
       "300        0.1          0.0001         0.813427  0.542976   0.536994   \n",
       "                        0.0005         0.813678  0.543505   0.536316   \n",
       "                        0.0010         0.818390  0.544057   0.542887   \n",
       "           0.2          0.0001         0.813642  0.542126   0.536685   \n",
       "                        0.0005         0.813302  0.542647   0.535355   \n",
       "                        0.0010         0.819197  0.545296   0.543580   \n",
       "384        0.1          0.0001         0.813212  0.545360   0.537521   \n",
       "                        0.0005         0.812155  0.542764   0.534981   \n",
       "                        0.0010         0.817656  0.545453   0.541936   \n",
       "           0.2          0.0001         0.815362  0.545373   0.539998   \n",
       "                        0.0005         0.818659  0.541975   0.540694   \n",
       "                        0.0010         0.817244  0.544930   0.541771   \n",
       "\n",
       "                                         recall  valid_accuracy  valid_f1  \\\n",
       "hidden_dim dropout_rate learning_rate                                       \n",
       "100        0.1          0.0001         0.549650        0.805747  0.542128   \n",
       "                        0.0005         0.550499        0.808164  0.545448   \n",
       "                        0.0010         0.559762        0.803551  0.547516   \n",
       "           0.2          0.0001         0.547523        0.806955  0.540005   \n",
       "                        0.0005         0.549930        0.808678  0.545193   \n",
       "                        0.0010         0.554781        0.807150  0.547550   \n",
       "200        0.1          0.0001         0.542911        0.811929  0.542261   \n",
       "                        0.0005         0.554524        0.806886  0.545536   \n",
       "                        0.0010         0.544737        0.813666  0.545326   \n",
       "           0.2          0.0001         0.542859        0.811596  0.541383   \n",
       "                        0.0005         0.556671        0.805344  0.547454   \n",
       "                        0.0010         0.553442        0.806678  0.546474   \n",
       "300        0.1          0.0001         0.551444        0.809581  0.544677   \n",
       "                        0.0005         0.552921        0.809581  0.547310   \n",
       "                        0.0010         0.548319        0.811665  0.543176   \n",
       "           0.2          0.0001         0.550083        0.809929  0.544852   \n",
       "                        0.0005         0.552502        0.808998  0.545807   \n",
       "                        0.0010         0.548576        0.812457  0.544858   \n",
       "384        0.1          0.0001         0.555056        0.809053  0.546414   \n",
       "                        0.0005         0.553487        0.807706  0.545620   \n",
       "                        0.0010         0.550493        0.810804  0.541956   \n",
       "           0.2          0.0001         0.552759        0.810887  0.545886   \n",
       "                        0.0005         0.544246        0.812819  0.544585   \n",
       "                        0.0010         0.549640        0.811471  0.543708   \n",
       "\n",
       "                                       valid_precision  valid_recall    k  \\\n",
       "hidden_dim dropout_rate learning_rate                                       \n",
       "100        0.1          0.0001                0.535826      0.558397  5.0   \n",
       "                        0.0005                0.538749      0.559148  5.0   \n",
       "                        0.0010                0.537205      0.567231  5.0   \n",
       "           0.2          0.0001                0.535505      0.554175  5.0   \n",
       "                        0.0005                0.539431      0.558502  5.0   \n",
       "                        0.0010                0.542087      0.563518  5.0   \n",
       "200        0.1          0.0001                0.539972      0.552826  5.0   \n",
       "                        0.0005                0.538762      0.561205  5.0   \n",
       "                        0.0010                0.547106      0.552457  5.0   \n",
       "           0.2          0.0001                0.538759      0.552168  5.0   \n",
       "                        0.0005                0.537517      0.565465  5.0   \n",
       "                        0.0010                0.538711      0.561456  5.0   \n",
       "300        0.1          0.0001                0.538426      0.557390  5.0   \n",
       "                        0.0005                0.541604      0.559361  5.0   \n",
       "                        0.0010                0.541880      0.551134  5.0   \n",
       "           0.2          0.0001                0.538977      0.557387  5.0   \n",
       "                        0.0005                0.540260      0.558079  5.0   \n",
       "                        0.0010                0.542234      0.551859  5.0   \n",
       "384        0.1          0.0001                0.538626      0.559855  5.0   \n",
       "                        0.0005                0.539190      0.558894  5.0   \n",
       "                        0.0010                0.538092      0.550433  5.0   \n",
       "           0.2          0.0001                0.540472      0.557741  5.0   \n",
       "                        0.0005                0.543935      0.551027  5.0   \n",
       "                        0.0010                0.540107      0.552331  5.0   \n",
       "\n",
       "                                       num_layers  bidirectional       seed  \\\n",
       "hidden_dim dropout_rate learning_rate                                         \n",
       "100        0.1          0.0001                1.0            1.0  45.333333   \n",
       "                        0.0005                1.0            1.0  45.333333   \n",
       "                        0.0010                1.0            1.0  45.333333   \n",
       "           0.2          0.0001                1.0            1.0  45.333333   \n",
       "                        0.0005                1.0            1.0  45.333333   \n",
       "                        0.0010                1.0            1.0  45.333333   \n",
       "200        0.1          0.0001                1.0            1.0  45.333333   \n",
       "                        0.0005                1.0            1.0  45.333333   \n",
       "                        0.0010                1.0            1.0  45.333333   \n",
       "           0.2          0.0001                1.0            1.0  45.333333   \n",
       "                        0.0005                1.0            1.0  45.333333   \n",
       "                        0.0010                1.0            1.0  45.333333   \n",
       "300        0.1          0.0001                1.0            1.0  45.333333   \n",
       "                        0.0005                1.0            1.0  45.333333   \n",
       "                        0.0010                1.0            1.0  45.333333   \n",
       "           0.2          0.0001                1.0            1.0  45.333333   \n",
       "                        0.0005                1.0            1.0  45.333333   \n",
       "                        0.0010                1.0            1.0  45.333333   \n",
       "384        0.1          0.0001                1.0            1.0  45.333333   \n",
       "                        0.0005                1.0            1.0  45.333333   \n",
       "                        0.0010                1.0            1.0  45.333333   \n",
       "           0.2          0.0001                1.0            1.0  45.333333   \n",
       "                        0.0005                1.0            1.0  45.333333   \n",
       "                        0.0010                1.0            1.0  45.333333   \n",
       "\n",
       "                                       gamma  k_fold  n_splits  batch_size  \\\n",
       "hidden_dim dropout_rate learning_rate                                        \n",
       "100        0.1          0.0001           2.0     1.0       5.0        64.0   \n",
       "                        0.0005           2.0     1.0       5.0        64.0   \n",
       "                        0.0010           2.0     1.0       5.0        64.0   \n",
       "           0.2          0.0001           2.0     1.0       5.0        64.0   \n",
       "                        0.0005           2.0     1.0       5.0        64.0   \n",
       "                        0.0010           2.0     1.0       5.0        64.0   \n",
       "200        0.1          0.0001           2.0     1.0       5.0        64.0   \n",
       "                        0.0005           2.0     1.0       5.0        64.0   \n",
       "                        0.0010           2.0     1.0       5.0        64.0   \n",
       "           0.2          0.0001           2.0     1.0       5.0        64.0   \n",
       "                        0.0005           2.0     1.0       5.0        64.0   \n",
       "                        0.0010           2.0     1.0       5.0        64.0   \n",
       "300        0.1          0.0001           2.0     1.0       5.0        64.0   \n",
       "                        0.0005           2.0     1.0       5.0        64.0   \n",
       "                        0.0010           2.0     1.0       5.0        64.0   \n",
       "           0.2          0.0001           2.0     1.0       5.0        64.0   \n",
       "                        0.0005           2.0     1.0       5.0        64.0   \n",
       "                        0.0010           2.0     1.0       5.0        64.0   \n",
       "384        0.1          0.0001           2.0     1.0       5.0        64.0   \n",
       "                        0.0005           2.0     1.0       5.0        64.0   \n",
       "                        0.0010           2.0     1.0       5.0        64.0   \n",
       "           0.2          0.0001           2.0     1.0       5.0        64.0   \n",
       "                        0.0005           2.0     1.0       5.0        64.0   \n",
       "                        0.0010           2.0     1.0       5.0        64.0   \n",
       "\n",
       "                                       model_id  \n",
       "hidden_dim dropout_rate learning_rate            \n",
       "100        0.1          0.0001              1.0  \n",
       "                        0.0005              2.0  \n",
       "                        0.0010              0.0  \n",
       "           0.2          0.0001              4.0  \n",
       "                        0.0005              5.0  \n",
       "                        0.0010              3.0  \n",
       "200        0.1          0.0001              7.0  \n",
       "                        0.0005              8.0  \n",
       "                        0.0010              6.0  \n",
       "           0.2          0.0001             10.0  \n",
       "                        0.0005             11.0  \n",
       "                        0.0010              9.0  \n",
       "300        0.1          0.0001             13.0  \n",
       "                        0.0005             14.0  \n",
       "                        0.0010             12.0  \n",
       "           0.2          0.0001             16.0  \n",
       "                        0.0005             17.0  \n",
       "                        0.0010             15.0  \n",
       "384        0.1          0.0001             19.0  \n",
       "                        0.0005             20.0  \n",
       "                        0.0010             18.0  \n",
       "           0.2          0.0001             22.0  \n",
       "                        0.0005             23.0  \n",
       "                        0.0010             21.0  "
      ]
     },
     "execution_count": 11,
     "metadata": {},
     "output_type": "execute_result"
    }
   ],
   "source": [
    "bilstm_history_5.groupby([\"hidden_dim\", \"dropout_rate\", \"learning_rate\"]).mean()"
   ]
  },
  {
   "cell_type": "code",
   "execution_count": 12,
   "metadata": {},
   "outputs": [
    {
     "data": {
      "text/html": [
       "<div>\n",
       "<style scoped>\n",
       "    .dataframe tbody tr th:only-of-type {\n",
       "        vertical-align: middle;\n",
       "    }\n",
       "\n",
       "    .dataframe tbody tr th {\n",
       "        vertical-align: top;\n",
       "    }\n",
       "\n",
       "    .dataframe thead th {\n",
       "        text-align: right;\n",
       "    }\n",
       "</style>\n",
       "<table border=\"1\" class=\"dataframe\">\n",
       "  <thead>\n",
       "    <tr style=\"text-align: right;\">\n",
       "      <th></th>\n",
       "      <th>loss</th>\n",
       "      <th>accuracy</th>\n",
       "      <th>f1</th>\n",
       "      <th>f1_scores</th>\n",
       "      <th>precision</th>\n",
       "      <th>precision_scores</th>\n",
       "      <th>recall</th>\n",
       "      <th>recall_scores</th>\n",
       "      <th>valid_loss</th>\n",
       "      <th>valid_accuracy</th>\n",
       "      <th>...</th>\n",
       "      <th>bidirectional</th>\n",
       "      <th>hidden_dim</th>\n",
       "      <th>dropout_rate</th>\n",
       "      <th>learning_rate</th>\n",
       "      <th>seed</th>\n",
       "      <th>loss_function</th>\n",
       "      <th>gamma</th>\n",
       "      <th>k_fold</th>\n",
       "      <th>n_splits</th>\n",
       "      <th>batch_size</th>\n",
       "    </tr>\n",
       "  </thead>\n",
       "  <tbody>\n",
       "    <tr>\n",
       "      <th>0</th>\n",
       "      <td>None</td>\n",
       "      <td>0.809880</td>\n",
       "      <td>0.541505</td>\n",
       "      <td>[0.8893408225192071, 0.47470470247381324, 0.26...</td>\n",
       "      <td>0.532373</td>\n",
       "      <td>[0.9018593688621186, 0.4309995953055443, 0.264...</td>\n",
       "      <td>0.554075</td>\n",
       "      <td>[0.8771650534895568, 0.5282738095238095, 0.256...</td>\n",
       "      <td>None</td>\n",
       "      <td>0.806511</td>\n",
       "      <td>...</td>\n",
       "      <td>True</td>\n",
       "      <td>100</td>\n",
       "      <td>0.2</td>\n",
       "      <td>0.001</td>\n",
       "      <td>1</td>\n",
       "      <td>focal</td>\n",
       "      <td>2</td>\n",
       "      <td>True</td>\n",
       "      <td>5</td>\n",
       "      <td>64</td>\n",
       "    </tr>\n",
       "    <tr>\n",
       "      <th>0</th>\n",
       "      <td>None</td>\n",
       "      <td>0.814449</td>\n",
       "      <td>0.542913</td>\n",
       "      <td>[0.8925683729021036, 0.4840792696504119, 0.252...</td>\n",
       "      <td>0.536489</td>\n",
       "      <td>[0.9031879522785058, 0.4391919191919192, 0.267...</td>\n",
       "      <td>0.553357</td>\n",
       "      <td>[0.8821956189505858, 0.5391865079365079, 0.238...</td>\n",
       "      <td>None</td>\n",
       "      <td>0.806427</td>\n",
       "      <td>...</td>\n",
       "      <td>True</td>\n",
       "      <td>100</td>\n",
       "      <td>0.2</td>\n",
       "      <td>0.001</td>\n",
       "      <td>12</td>\n",
       "      <td>focal</td>\n",
       "      <td>2</td>\n",
       "      <td>True</td>\n",
       "      <td>5</td>\n",
       "      <td>64</td>\n",
       "    </tr>\n",
       "    <tr>\n",
       "      <th>0</th>\n",
       "      <td>None</td>\n",
       "      <td>0.815147</td>\n",
       "      <td>0.548004</td>\n",
       "      <td>[0.8926397165405057, 0.47796535847401883, 0.27...</td>\n",
       "      <td>0.545502</td>\n",
       "      <td>[0.9032005736262304, 0.42829076620825146, 0.30...</td>\n",
       "      <td>0.556912</td>\n",
       "      <td>[0.8823229750382068, 0.5406746031746031, 0.247...</td>\n",
       "      <td>None</td>\n",
       "      <td>0.808511</td>\n",
       "      <td>...</td>\n",
       "      <td>True</td>\n",
       "      <td>100</td>\n",
       "      <td>0.2</td>\n",
       "      <td>0.001</td>\n",
       "      <td>123</td>\n",
       "      <td>focal</td>\n",
       "      <td>2</td>\n",
       "      <td>True</td>\n",
       "      <td>5</td>\n",
       "      <td>64</td>\n",
       "    </tr>\n",
       "  </tbody>\n",
       "</table>\n",
       "<p>3 rows × 27 columns</p>\n",
       "</div>"
      ],
      "text/plain": [
       "   loss  accuracy        f1  \\\n",
       "0  None  0.809880  0.541505   \n",
       "0  None  0.814449  0.542913   \n",
       "0  None  0.815147  0.548004   \n",
       "\n",
       "                                           f1_scores  precision  \\\n",
       "0  [0.8893408225192071, 0.47470470247381324, 0.26...   0.532373   \n",
       "0  [0.8925683729021036, 0.4840792696504119, 0.252...   0.536489   \n",
       "0  [0.8926397165405057, 0.47796535847401883, 0.27...   0.545502   \n",
       "\n",
       "                                    precision_scores    recall  \\\n",
       "0  [0.9018593688621186, 0.4309995953055443, 0.264...  0.554075   \n",
       "0  [0.9031879522785058, 0.4391919191919192, 0.267...  0.553357   \n",
       "0  [0.9032005736262304, 0.42829076620825146, 0.30...  0.556912   \n",
       "\n",
       "                                       recall_scores valid_loss  \\\n",
       "0  [0.8771650534895568, 0.5282738095238095, 0.256...       None   \n",
       "0  [0.8821956189505858, 0.5391865079365079, 0.238...       None   \n",
       "0  [0.8823229750382068, 0.5406746031746031, 0.247...       None   \n",
       "\n",
       "   valid_accuracy  ...  bidirectional hidden_dim  dropout_rate learning_rate  \\\n",
       "0        0.806511  ...           True        100           0.2         0.001   \n",
       "0        0.806427  ...           True        100           0.2         0.001   \n",
       "0        0.808511  ...           True        100           0.2         0.001   \n",
       "\n",
       "   seed loss_function  gamma  k_fold  n_splits  batch_size  \n",
       "0     1         focal      2    True         5          64  \n",
       "0    12         focal      2    True         5          64  \n",
       "0   123         focal      2    True         5          64  \n",
       "\n",
       "[3 rows x 27 columns]"
      ]
     },
     "execution_count": 12,
     "metadata": {},
     "output_type": "execute_result"
    }
   ],
   "source": [
    "best_bilstm_history_5"
   ]
  },
  {
   "cell_type": "code",
   "execution_count": 19,
   "metadata": {},
   "outputs": [
    {
     "data": {
      "text/html": [
       "<div>\n",
       "<style scoped>\n",
       "    .dataframe tbody tr th:only-of-type {\n",
       "        vertical-align: middle;\n",
       "    }\n",
       "\n",
       "    .dataframe tbody tr th {\n",
       "        vertical-align: top;\n",
       "    }\n",
       "\n",
       "    .dataframe thead th {\n",
       "        text-align: right;\n",
       "    }\n",
       "</style>\n",
       "<table border=\"1\" class=\"dataframe\">\n",
       "  <thead>\n",
       "    <tr style=\"text-align: right;\">\n",
       "      <th></th>\n",
       "      <th>f1</th>\n",
       "      <th>f1_scores</th>\n",
       "      <th>precision</th>\n",
       "      <th>recall</th>\n",
       "      <th>valid_f1</th>\n",
       "      <th>valid_f1_scores</th>\n",
       "      <th>valid_precision</th>\n",
       "      <th>valid_recall</th>\n",
       "      <th>hidden_dim</th>\n",
       "      <th>dropout_rate</th>\n",
       "      <th>learning_rate</th>\n",
       "      <th>seed</th>\n",
       "      <th>loss_function</th>\n",
       "      <th>k_fold</th>\n",
       "      <th>batch_size</th>\n",
       "    </tr>\n",
       "  </thead>\n",
       "  <tbody>\n",
       "    <tr>\n",
       "      <th>0</th>\n",
       "      <td>0.541505</td>\n",
       "      <td>[0.8893408225192071, 0.47470470247381324, 0.26...</td>\n",
       "      <td>0.532373</td>\n",
       "      <td>0.554075</td>\n",
       "      <td>0.550613</td>\n",
       "      <td>[0.8861661277283751, 0.48752649600521775, 0.27...</td>\n",
       "      <td>0.540949</td>\n",
       "      <td>0.568598</td>\n",
       "      <td>100</td>\n",
       "      <td>0.2</td>\n",
       "      <td>0.001</td>\n",
       "      <td>1</td>\n",
       "      <td>focal</td>\n",
       "      <td>True</td>\n",
       "      <td>64</td>\n",
       "    </tr>\n",
       "    <tr>\n",
       "      <th>0</th>\n",
       "      <td>0.542913</td>\n",
       "      <td>[0.8925683729021036, 0.4840792696504119, 0.252...</td>\n",
       "      <td>0.536489</td>\n",
       "      <td>0.553357</td>\n",
       "      <td>0.548353</td>\n",
       "      <td>[0.8858396811784292, 0.4816974408811144, 0.277...</td>\n",
       "      <td>0.543274</td>\n",
       "      <td>0.563741</td>\n",
       "      <td>100</td>\n",
       "      <td>0.2</td>\n",
       "      <td>0.001</td>\n",
       "      <td>12</td>\n",
       "      <td>focal</td>\n",
       "      <td>True</td>\n",
       "      <td>64</td>\n",
       "    </tr>\n",
       "    <tr>\n",
       "      <th>0</th>\n",
       "      <td>0.548004</td>\n",
       "      <td>[0.8926397165405057, 0.47796535847401883, 0.27...</td>\n",
       "      <td>0.545502</td>\n",
       "      <td>0.556912</td>\n",
       "      <td>0.543686</td>\n",
       "      <td>[0.8875960206523108, 0.48670427074939565, 0.25...</td>\n",
       "      <td>0.542038</td>\n",
       "      <td>0.558214</td>\n",
       "      <td>100</td>\n",
       "      <td>0.2</td>\n",
       "      <td>0.001</td>\n",
       "      <td>123</td>\n",
       "      <td>focal</td>\n",
       "      <td>True</td>\n",
       "      <td>64</td>\n",
       "    </tr>\n",
       "  </tbody>\n",
       "</table>\n",
       "</div>"
      ],
      "text/plain": [
       "         f1                                          f1_scores  precision  \\\n",
       "0  0.541505  [0.8893408225192071, 0.47470470247381324, 0.26...   0.532373   \n",
       "0  0.542913  [0.8925683729021036, 0.4840792696504119, 0.252...   0.536489   \n",
       "0  0.548004  [0.8926397165405057, 0.47796535847401883, 0.27...   0.545502   \n",
       "\n",
       "     recall  valid_f1                                    valid_f1_scores  \\\n",
       "0  0.554075  0.550613  [0.8861661277283751, 0.48752649600521775, 0.27...   \n",
       "0  0.553357  0.548353  [0.8858396811784292, 0.4816974408811144, 0.277...   \n",
       "0  0.556912  0.543686  [0.8875960206523108, 0.48670427074939565, 0.25...   \n",
       "\n",
       "   valid_precision  valid_recall  hidden_dim  dropout_rate  learning_rate  \\\n",
       "0         0.540949      0.568598         100           0.2          0.001   \n",
       "0         0.543274      0.563741         100           0.2          0.001   \n",
       "0         0.542038      0.558214         100           0.2          0.001   \n",
       "\n",
       "   seed loss_function  k_fold  batch_size  \n",
       "0     1         focal    True          64  \n",
       "0    12         focal    True          64  \n",
       "0   123         focal    True          64  "
      ]
     },
     "execution_count": 19,
     "metadata": {},
     "output_type": "execute_result"
    }
   ],
   "source": [
    "best_bilstm_history_5[\n",
    "    [\n",
    "        \"f1\",\n",
    "        \"f1_scores\",\n",
    "        \"precision\",\n",
    "        \"recall\",\n",
    "        \"valid_f1\",\n",
    "        \"valid_f1_scores\",\n",
    "        \"valid_precision\",\n",
    "        \"valid_recall\",\n",
    "        \"hidden_dim\",\n",
    "        \"dropout_rate\",\n",
    "        \"learning_rate\",\n",
    "        \"seed\",\n",
    "        \"loss_function\",\n",
    "        \"k_fold\",\n",
    "        \"batch_size\",\n",
    "    ]\n",
    "]"
   ]
  },
  {
   "cell_type": "code",
   "execution_count": 13,
   "metadata": {},
   "outputs": [
    {
     "data": {
      "text/plain": [
       "0.5441408595533188"
      ]
     },
     "execution_count": 13,
     "metadata": {},
     "output_type": "execute_result"
    }
   ],
   "source": [
    "best_bilstm_history_5[\"f1\"].mean()"
   ]
  },
  {
   "cell_type": "code",
   "execution_count": 14,
   "metadata": {},
   "outputs": [
    {
     "data": {
      "text/plain": [
       "0.5381214976643758"
      ]
     },
     "execution_count": 14,
     "metadata": {},
     "output_type": "execute_result"
    }
   ],
   "source": [
    "best_bilstm_history_5[\"precision\"].mean()"
   ]
  },
  {
   "cell_type": "code",
   "execution_count": 15,
   "metadata": {},
   "outputs": [
    {
     "data": {
      "text/plain": [
       "0.5547812486440588"
      ]
     },
     "execution_count": 15,
     "metadata": {},
     "output_type": "execute_result"
    }
   ],
   "source": [
    "best_bilstm_history_5[\"recall\"].mean()"
   ]
  },
  {
   "cell_type": "code",
   "execution_count": 16,
   "metadata": {},
   "outputs": [
    {
     "data": {
      "text/plain": [
       "array([0.8915163 , 0.47891644, 0.26198983])"
      ]
     },
     "execution_count": 16,
     "metadata": {},
     "output_type": "execute_result"
    }
   ],
   "source": [
    "np.stack(best_bilstm_history_5[\"f1_scores\"]).mean(axis=0)"
   ]
  },
  {
   "cell_type": "code",
   "execution_count": 17,
   "metadata": {},
   "outputs": [
    {
     "data": {
      "text/plain": [
       "array([0.9027493 , 0.43282743, 0.27878777])"
      ]
     },
     "execution_count": 17,
     "metadata": {},
     "output_type": "execute_result"
    }
   ],
   "source": [
    "np.stack(best_bilstm_history_5[\"precision_scores\"]).mean(axis=0)"
   ]
  },
  {
   "cell_type": "code",
   "execution_count": 18,
   "metadata": {},
   "outputs": [
    {
     "data": {
      "text/plain": [
       "array([0.88056122, 0.53604497, 0.24773756])"
      ]
     },
     "execution_count": 18,
     "metadata": {},
     "output_type": "execute_result"
    }
   ],
   "source": [
    "np.stack(best_bilstm_history_5[\"recall_scores\"]).mean(axis=0)"
   ]
  },
  {
   "cell_type": "code",
   "execution_count": null,
   "metadata": {},
   "outputs": [],
   "source": []
  }
 ],
 "metadata": {
  "interpreter": {
   "hash": "b2013b70f5165546ff531eadcfc35b64307c3717f205ea3ff61fa34bab89c803"
  },
  "kernelspec": {
   "display_name": "Python 3.8.17 ('nlpsig-networks')",
   "language": "python",
   "name": "python3"
  },
  "language_info": {
   "codemirror_mode": {
    "name": "ipython",
    "version": 3
   },
   "file_extension": ".py",
   "mimetype": "text/x-python",
   "name": "python",
   "nbconvert_exporter": "python",
   "pygments_lexer": "ipython3",
   "version": "3.8.17"
  },
  "orig_nbformat": 4
 },
 "nbformat": 4,
 "nbformat_minor": 2
}
