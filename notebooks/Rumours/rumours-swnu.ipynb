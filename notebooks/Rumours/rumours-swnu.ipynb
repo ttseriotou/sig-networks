{
 "cells": [
  {
   "cell_type": "code",
   "execution_count": 1,
   "metadata": {},
   "outputs": [],
   "source": [
    "import pickle\n",
    "import numpy as np\n",
    "import pandas as pd\n",
    "import os\n",
    "from tqdm.notebook import tqdm\n",
    "import re\n",
    "\n",
    "seed = 2023"
   ]
  },
  {
   "cell_type": "code",
   "execution_count": 2,
   "metadata": {},
   "outputs": [
    {
     "data": {
      "text/plain": [
       "device(type='cuda')"
      ]
     },
     "execution_count": 2,
     "metadata": {},
     "output_type": "execute_result"
    }
   ],
   "source": [
    "import torch\n",
    "\n",
    "# set device\n",
    "device = torch.device(\"cuda\" if torch.cuda.is_available() else \"cpu\")\n",
    "device"
   ]
  },
  {
   "cell_type": "code",
   "execution_count": 3,
   "metadata": {},
   "outputs": [],
   "source": [
    "from nlpsig_networks.scripts.swnu_network_functions import (\n",
    "    swnu_network_hyperparameter_search,\n",
    "    obtain_SWNUNetwork_input,\n",
    ")"
   ]
  },
  {
   "cell_type": "code",
   "execution_count": 4,
   "metadata": {},
   "outputs": [],
   "source": [
    "output_dir = \"rumours_output\"\n",
    "if not os.path.isdir(output_dir):\n",
    "    os.makedirs(output_dir)"
   ]
  },
  {
   "cell_type": "markdown",
   "metadata": {},
   "source": [
    "## Rumours"
   ]
  },
  {
   "cell_type": "code",
   "execution_count": 5,
   "metadata": {},
   "outputs": [],
   "source": [
    "%run load_sbert-embeddings.py"
   ]
  },
  {
   "cell_type": "code",
   "execution_count": 6,
   "metadata": {},
   "outputs": [
    {
     "data": {
      "text/html": [
       "<div>\n",
       "<style scoped>\n",
       "    .dataframe tbody tr th:only-of-type {\n",
       "        vertical-align: middle;\n",
       "    }\n",
       "\n",
       "    .dataframe tbody tr th {\n",
       "        vertical-align: top;\n",
       "    }\n",
       "\n",
       "    .dataframe thead th {\n",
       "        text-align: right;\n",
       "    }\n",
       "</style>\n",
       "<table border=\"1\" class=\"dataframe\">\n",
       "  <thead>\n",
       "    <tr style=\"text-align: right;\">\n",
       "      <th></th>\n",
       "      <th>id</th>\n",
       "      <th>label</th>\n",
       "      <th>datetime</th>\n",
       "      <th>text</th>\n",
       "      <th>timeline_id</th>\n",
       "      <th>set</th>\n",
       "    </tr>\n",
       "  </thead>\n",
       "  <tbody>\n",
       "    <tr>\n",
       "      <th>0</th>\n",
       "      <td>5.249902e+17</td>\n",
       "      <td>0</td>\n",
       "      <td>2014-10-22 18:26:23</td>\n",
       "      <td>Police have clarified that there were two shoo...</td>\n",
       "      <td>0</td>\n",
       "      <td>train</td>\n",
       "    </tr>\n",
       "    <tr>\n",
       "      <th>1</th>\n",
       "      <td>5.249906e+17</td>\n",
       "      <td>0</td>\n",
       "      <td>2014-10-22 18:27:58</td>\n",
       "      <td>@CTVNews you guys \"confirmed\" there were 3 sho...</td>\n",
       "      <td>0</td>\n",
       "      <td>train</td>\n",
       "    </tr>\n",
       "    <tr>\n",
       "      <th>2</th>\n",
       "      <td>5.249908e+17</td>\n",
       "      <td>1</td>\n",
       "      <td>2014-10-22 18:28:46</td>\n",
       "      <td>@CTVNews get it right. http://t.co/GHYxMuzPG9</td>\n",
       "      <td>0</td>\n",
       "      <td>train</td>\n",
       "    </tr>\n",
       "    <tr>\n",
       "      <th>3</th>\n",
       "      <td>5.249927e+17</td>\n",
       "      <td>1</td>\n",
       "      <td>2014-10-22 18:36:29</td>\n",
       "      <td>RT @CTVNews Police have clarified that there w...</td>\n",
       "      <td>0</td>\n",
       "      <td>train</td>\n",
       "    </tr>\n",
       "    <tr>\n",
       "      <th>4</th>\n",
       "      <td>5.250038e+17</td>\n",
       "      <td>1</td>\n",
       "      <td>2014-10-22 19:20:41</td>\n",
       "      <td>@CTVNews @ctvsaskatoon so what happened at Rid...</td>\n",
       "      <td>0</td>\n",
       "      <td>train</td>\n",
       "    </tr>\n",
       "  </tbody>\n",
       "</table>\n",
       "</div>"
      ],
      "text/plain": [
       "             id label            datetime  \\\n",
       "0  5.249902e+17     0 2014-10-22 18:26:23   \n",
       "1  5.249906e+17     0 2014-10-22 18:27:58   \n",
       "2  5.249908e+17     1 2014-10-22 18:28:46   \n",
       "3  5.249927e+17     1 2014-10-22 18:36:29   \n",
       "4  5.250038e+17     1 2014-10-22 19:20:41   \n",
       "\n",
       "                                                text timeline_id    set  \n",
       "0  Police have clarified that there were two shoo...           0  train  \n",
       "1  @CTVNews you guys \"confirmed\" there were 3 sho...           0  train  \n",
       "2      @CTVNews get it right. http://t.co/GHYxMuzPG9           0  train  \n",
       "3  RT @CTVNews Police have clarified that there w...           0  train  \n",
       "4  @CTVNews @ctvsaskatoon so what happened at Rid...           0  train  "
      ]
     },
     "execution_count": 6,
     "metadata": {},
     "output_type": "execute_result"
    }
   ],
   "source": [
    "df_rumours.head()"
   ]
  },
  {
   "cell_type": "code",
   "execution_count": 7,
   "metadata": {},
   "outputs": [
    {
     "name": "stdout",
     "output_type": "stream",
     "text": [
      "[INFO] Concatenating the embeddings to the dataframe...\n",
      "[INFO] - columns beginning with 'e' denote the full embddings.\n",
      "[INFO] - columns beginning with 'd' denote the dimension reduced embeddings.\n",
      "[INFO] Adding time feature columns into dataframe in `.df`.\n",
      "[INFO] Adding 'time_encoding' feature...\n",
      "[INFO] Adding 'time_diff' feature...\n",
      "[INFO] Adding 'timeline_index' feature...\n",
      "[INFO] Padding ids and storing in `.df_padded` and `.array_padded` attributes.\n"
     ]
    },
    {
     "data": {
      "application/vnd.jupyter.widget-view+json": {
       "model_id": "cdc544b45a95402ca0ae7fd201e6ab12",
       "version_major": 2,
       "version_minor": 0
      },
      "text/plain": [
       "  0%|          | 0/5568 [00:00<?, ?it/s]"
      ]
     },
     "metadata": {},
     "output_type": "display_data"
    },
    {
     "name": "stdout",
     "output_type": "stream",
     "text": [
      "[INFO] The path was created for each item in the dataframe, by looking at its history, so to include embeddings in the FFN input, we concatenate the embeddings for each sentence / text.\n"
     ]
    },
    {
     "data": {
      "text/plain": [
       "torch.Size([5568, 5, 30])"
      ]
     },
     "execution_count": 7,
     "metadata": {},
     "output_type": "execute_result"
    }
   ],
   "source": [
    "x_data = obtain_SWNUNetwork_input(\n",
    "    method=\"umap\",\n",
    "    dimension=30,\n",
    "    df=df_rumours,\n",
    "    id_column=\"timeline_id\",\n",
    "    label_column=\"label\",\n",
    "    embeddings=sbert_embeddings,\n",
    "    k=5,\n",
    "    features=\"time_encoding\",\n",
    "    standardise_method=None,\n",
    "    include_features_in_path=False,\n",
    ")\n",
    "\n",
    "x_data[\"x_data\"][\"path\"].shape"
   ]
  },
  {
   "cell_type": "markdown",
   "metadata": {},
   "source": [
    "## SWNU Network"
   ]
  },
  {
   "cell_type": "code",
   "execution_count": 8,
   "metadata": {},
   "outputs": [],
   "source": [
    "features = [\"time_encoding\", \"timeline_index\"]\n",
    "standardise_method = [\"z_score\", None]\n",
    "include_features_in_path = True\n",
    "include_features_in_input = True"
   ]
  },
  {
   "cell_type": "code",
   "execution_count": 9,
   "metadata": {},
   "outputs": [],
   "source": [
    "num_epochs = 100\n",
    "dimensions = [15]\n",
    "swnu_hidden_dim_sizes_and_sig_depths = [([12], 3), ([10], 4)]\n",
    "ffn_hidden_dim_sizes = [[256, 256], [512, 512]]\n",
    "dropout_rates = [0.1, 0.2]\n",
    "learning_rates = [1e-3, 1e-4, 5e-4]\n",
    "seeds = [1, 12, 123]\n",
    "loss = \"focal\"\n",
    "gamma = 2\n",
    "validation_metric = \"f1\"\n",
    "patience = 5"
   ]
  },
  {
   "cell_type": "code",
   "execution_count": 10,
   "metadata": {},
   "outputs": [],
   "source": [
    "kwargs = {\n",
    "    \"num_epochs\": num_epochs,\n",
    "    \"df\": df_rumours,\n",
    "    \"id_column\": \"timeline_id\",\n",
    "    \"label_column\": \"label\",\n",
    "    \"embeddings\": sbert_embeddings,\n",
    "    \"y_data\": y_data,\n",
    "    \"output_dim\": output_dim,\n",
    "    \"dimensions\": dimensions,\n",
    "    \"log_signature\": True,\n",
    "    \"pooling\": \"signature\",\n",
    "    \"swnu_hidden_dim_sizes_and_sig_depths\": swnu_hidden_dim_sizes_and_sig_depths,\n",
    "    \"ffn_hidden_dim_sizes\": ffn_hidden_dim_sizes,\n",
    "    \"dropout_rates\": dropout_rates,\n",
    "    \"learning_rates\": learning_rates,\n",
    "    \"BiLSTM\": True,\n",
    "    \"seeds\": seeds,\n",
    "    \"loss\": loss,\n",
    "    \"gamma\": gamma,\n",
    "    \"device\": device,\n",
    "    \"features\": features,\n",
    "    \"standardise_method\": standardise_method,\n",
    "    \"include_features_in_path\": include_features_in_path,\n",
    "    \"include_features_in_input\": include_features_in_input,\n",
    "    \"split_ids\": split_ids,\n",
    "    \"k_fold\": True,\n",
    "    \"patience\": patience,\n",
    "    \"validation_metric\": validation_metric,\n",
    "    \"verbose\": False,\n",
    "}"
   ]
  },
  {
   "cell_type": "markdown",
   "metadata": {
    "tags": []
   },
   "source": [
    "# w=5"
   ]
  },
  {
   "cell_type": "code",
   "execution_count": 11,
   "metadata": {},
   "outputs": [],
   "source": [
    "size = 5"
   ]
  },
  {
   "cell_type": "markdown",
   "metadata": {},
   "source": [
    "## umap"
   ]
  },
  {
   "cell_type": "code",
   "execution_count": 12,
   "metadata": {},
   "outputs": [
    {
     "data": {
      "application/vnd.jupyter.widget-view+json": {
       "model_id": "550eefc420964d5ca16b3f42142d7887",
       "version_major": 2,
       "version_minor": 0
      },
      "text/plain": [
       "  0%|          | 0/1 [00:00<?, ?it/s]"
      ]
     },
     "metadata": {},
     "output_type": "display_data"
    },
    {
     "data": {
      "application/vnd.jupyter.widget-view+json": {
       "model_id": "1fb519034fc0448389be645451be2d71",
       "version_major": 2,
       "version_minor": 0
      },
      "text/plain": [
       "  0%|          | 0/1 [00:00<?, ?it/s]"
      ]
     },
     "metadata": {},
     "output_type": "display_data"
    },
    {
     "data": {
      "application/vnd.jupyter.widget-view+json": {
       "model_id": "c3a5a2fb74194962a8c9d20679b1b70a",
       "version_major": 2,
       "version_minor": 0
      },
      "text/plain": [
       "  0%|          | 0/1 [00:00<?, ?it/s]"
      ]
     },
     "metadata": {},
     "output_type": "display_data"
    },
    {
     "name": "stdout",
     "output_type": "stream",
     "text": [
      "\n",
      "##################################################\n",
      "dimension: 15 | method: umap\n",
      "[INFO] Concatenating the embeddings to the dataframe...\n",
      "[INFO] - columns beginning with 'e' denote the full embddings.\n",
      "[INFO] - columns beginning with 'd' denote the dimension reduced embeddings.\n",
      "[INFO] Adding time feature columns into dataframe in `.df`.\n",
      "[INFO] Adding 'time_encoding' feature...\n",
      "[INFO] Adding 'time_diff' feature...\n",
      "[INFO] Adding 'timeline_index' feature...\n",
      "[INFO] Padding ids and storing in `.df_padded` and `.array_padded` attributes.\n"
     ]
    },
    {
     "data": {
      "application/vnd.jupyter.widget-view+json": {
       "model_id": "d13c340fb5974c359d472dfbf9df55d2",
       "version_major": 2,
       "version_minor": 0
      },
      "text/plain": [
       "  0%|          | 0/5568 [00:00<?, ?it/s]"
      ]
     },
     "metadata": {},
     "output_type": "display_data"
    },
    {
     "name": "stdout",
     "output_type": "stream",
     "text": [
      "[INFO] The path was created for each item in the dataframe, by looking at its history, so to include embeddings in the FFN input, we concatenate the embeddings for each sentence / text.\n"
     ]
    },
    {
     "data": {
      "application/vnd.jupyter.widget-view+json": {
       "model_id": "c69f5c32ad3f4f3d85e9fa77c6a807ff",
       "version_major": 2,
       "version_minor": 0
      },
      "text/plain": [
       "  0%|          | 0/2 [00:00<?, ?it/s]"
      ]
     },
     "metadata": {},
     "output_type": "display_data"
    },
    {
     "data": {
      "application/vnd.jupyter.widget-view+json": {
       "model_id": "c5157cd8bdfa4f76be174de75db8a06a",
       "version_major": 2,
       "version_minor": 0
      },
      "text/plain": [
       "  0%|          | 0/2 [00:00<?, ?it/s]"
      ]
     },
     "metadata": {},
     "output_type": "display_data"
    },
    {
     "data": {
      "application/vnd.jupyter.widget-view+json": {
       "model_id": "0b2f85e07da344c480bb211ba8e82450",
       "version_major": 2,
       "version_minor": 0
      },
      "text/plain": [
       "  0%|          | 0/1 [00:00<?, ?it/s]"
      ]
     },
     "metadata": {},
     "output_type": "display_data"
    },
    {
     "data": {
      "application/vnd.jupyter.widget-view+json": {
       "model_id": "100c9bfc2e5540e697b68842ed277d67",
       "version_major": 2,
       "version_minor": 0
      },
      "text/plain": [
       "  0%|          | 0/2 [00:00<?, ?it/s]"
      ]
     },
     "metadata": {},
     "output_type": "display_data"
    },
    {
     "data": {
      "application/vnd.jupyter.widget-view+json": {
       "model_id": "28a8a6a9fcb247bbb1e9b73070fb08ed",
       "version_major": 2,
       "version_minor": 0
      },
      "text/plain": [
       "  0%|          | 0/3 [00:00<?, ?it/s]"
      ]
     },
     "metadata": {},
     "output_type": "display_data"
    },
    {
     "data": {
      "application/vnd.jupyter.widget-view+json": {
       "model_id": "d9366a6bb8cb481f96c75047ada713f3",
       "version_major": 2,
       "version_minor": 0
      },
      "text/plain": [
       "  0%|          | 0/3 [00:00<?, ?it/s]"
      ]
     },
     "metadata": {},
     "output_type": "display_data"
    },
    {
     "data": {
      "application/vnd.jupyter.widget-view+json": {
       "model_id": "6c2b12d849e94a389e3f5de9b2e5e876",
       "version_major": 2,
       "version_minor": 0
      },
      "text/plain": [
       "  0%|          | 0/1 [00:00<?, ?it/s]"
      ]
     },
     "metadata": {},
     "output_type": "display_data"
    },
    {
     "data": {
      "application/vnd.jupyter.widget-view+json": {
       "model_id": "2833398b1a3744bf82f73cec128cb44c",
       "version_major": 2,
       "version_minor": 0
      },
      "text/plain": [
       "  0%|          | 0/2 [00:00<?, ?it/s]"
      ]
     },
     "metadata": {},
     "output_type": "display_data"
    },
    {
     "data": {
      "application/vnd.jupyter.widget-view+json": {
       "model_id": "0e1ba13834ac439a930c4e999bc1be15",
       "version_major": 2,
       "version_minor": 0
      },
      "text/plain": [
       "  0%|          | 0/3 [00:00<?, ?it/s]"
      ]
     },
     "metadata": {},
     "output_type": "display_data"
    },
    {
     "data": {
      "application/vnd.jupyter.widget-view+json": {
       "model_id": "fc35020a3614466692c889d4e343dfe1",
       "version_major": 2,
       "version_minor": 0
      },
      "text/plain": [
       "  0%|          | 0/3 [00:00<?, ?it/s]"
      ]
     },
     "metadata": {},
     "output_type": "display_data"
    },
    {
     "data": {
      "application/vnd.jupyter.widget-view+json": {
       "model_id": "47fa03d8152545609a49e5a101b4d908",
       "version_major": 2,
       "version_minor": 0
      },
      "text/plain": [
       "  0%|          | 0/2 [00:00<?, ?it/s]"
      ]
     },
     "metadata": {},
     "output_type": "display_data"
    },
    {
     "data": {
      "application/vnd.jupyter.widget-view+json": {
       "model_id": "52044bd5655245d38244be9ace70a3b3",
       "version_major": 2,
       "version_minor": 0
      },
      "text/plain": [
       "  0%|          | 0/1 [00:00<?, ?it/s]"
      ]
     },
     "metadata": {},
     "output_type": "display_data"
    },
    {
     "data": {
      "application/vnd.jupyter.widget-view+json": {
       "model_id": "00f1bf6b71a14cc6977dafd3dc751e3d",
       "version_major": 2,
       "version_minor": 0
      },
      "text/plain": [
       "  0%|          | 0/2 [00:00<?, ?it/s]"
      ]
     },
     "metadata": {},
     "output_type": "display_data"
    },
    {
     "data": {
      "application/vnd.jupyter.widget-view+json": {
       "model_id": "8ee71dd2bb134d5492be61a56d3f70b5",
       "version_major": 2,
       "version_minor": 0
      },
      "text/plain": [
       "  0%|          | 0/3 [00:00<?, ?it/s]"
      ]
     },
     "metadata": {},
     "output_type": "display_data"
    },
    {
     "data": {
      "application/vnd.jupyter.widget-view+json": {
       "model_id": "99cc7d6de6294896adbce4c5f13525d6",
       "version_major": 2,
       "version_minor": 0
      },
      "text/plain": [
       "  0%|          | 0/3 [00:00<?, ?it/s]"
      ]
     },
     "metadata": {},
     "output_type": "display_data"
    },
    {
     "data": {
      "application/vnd.jupyter.widget-view+json": {
       "model_id": "61af4fb283734750b72a25e36a1e02a2",
       "version_major": 2,
       "version_minor": 0
      },
      "text/plain": [
       "  0%|          | 0/1 [00:00<?, ?it/s]"
      ]
     },
     "metadata": {},
     "output_type": "display_data"
    },
    {
     "data": {
      "application/vnd.jupyter.widget-view+json": {
       "model_id": "8e430b1d9ade494fa2e6626462a6a2a1",
       "version_major": 2,
       "version_minor": 0
      },
      "text/plain": [
       "  0%|          | 0/2 [00:00<?, ?it/s]"
      ]
     },
     "metadata": {},
     "output_type": "display_data"
    },
    {
     "data": {
      "application/vnd.jupyter.widget-view+json": {
       "model_id": "0aeae630d9914dedb00639634cae7af3",
       "version_major": 2,
       "version_minor": 0
      },
      "text/plain": [
       "  0%|          | 0/3 [00:00<?, ?it/s]"
      ]
     },
     "metadata": {},
     "output_type": "display_data"
    },
    {
     "data": {
      "application/vnd.jupyter.widget-view+json": {
       "model_id": "ed02b2bdca5747428563d0f2e1c24cdb",
       "version_major": 2,
       "version_minor": 0
      },
      "text/plain": [
       "  0%|          | 0/3 [00:00<?, ?it/s]"
      ]
     },
     "metadata": {},
     "output_type": "display_data"
    },
    {
     "name": "stdout",
     "output_type": "stream",
     "text": [
      "[INFO] Concatenating the embeddings to the dataframe...\n",
      "[INFO] - columns beginning with 'e' denote the full embddings.\n",
      "[INFO] - columns beginning with 'd' denote the dimension reduced embeddings.\n",
      "[INFO] Adding time feature columns into dataframe in `.df`.\n",
      "[INFO] Adding 'time_encoding' feature...\n",
      "[INFO] Adding 'time_diff' feature...\n",
      "[INFO] Adding 'timeline_index' feature...\n",
      "[INFO] Padding ids and storing in `.df_padded` and `.array_padded` attributes.\n"
     ]
    },
    {
     "data": {
      "application/vnd.jupyter.widget-view+json": {
       "model_id": "dc0381c59eb94506906e647b12d3f8ae",
       "version_major": 2,
       "version_minor": 0
      },
      "text/plain": [
       "  0%|          | 0/5568 [00:00<?, ?it/s]"
      ]
     },
     "metadata": {},
     "output_type": "display_data"
    },
    {
     "name": "stdout",
     "output_type": "stream",
     "text": [
      "[INFO] The path was created for each item in the dataframe, by looking at its history, so to include embeddings in the FFN input, we concatenate the embeddings for each sentence / text.\n",
      "saving results dataframe to CSV for this hyperparameter search in rumours_output/swnu_network_umap_focal_2_5_kfold.csv\n",
      "saving the best model results dataframe to CSV for this hyperparameter search in rumours_output/swnu_network_umap_focal_2_5_kfold_best_model.csv\n"
     ]
    }
   ],
   "source": [
    "(\n",
    "    swnu_network_umap_kfold_5,\n",
    "    best_swnu_network_umap_kfold_5,\n",
    "    _,\n",
    "    __,\n",
    ") = swnu_network_hyperparameter_search(\n",
    "    history_lengths=[size],\n",
    "    dim_reduce_methods=[\"umap\"],\n",
    "    results_output=f\"{output_dir}/swnu_network_umap_focal_{gamma}_{size}_kfold.csv\",\n",
    "    **kwargs,\n",
    ")"
   ]
  },
  {
   "cell_type": "code",
   "execution_count": 13,
   "metadata": {},
   "outputs": [
    {
     "name": "stderr",
     "output_type": "stream",
     "text": [
      "/tmp/ipykernel_2989159/1104105075.py:1: FutureWarning: The default value of numeric_only in DataFrameGroupBy.mean is deprecated. In a future version, numeric_only will default to False. Either specify numeric_only or select only columns which should be valid for the function.\n",
      "  swnu_network_umap_kfold_5.groupby(\n"
     ]
    },
    {
     "data": {
      "text/html": [
       "<div>\n",
       "<style scoped>\n",
       "    .dataframe tbody tr th:only-of-type {\n",
       "        vertical-align: middle;\n",
       "    }\n",
       "\n",
       "    .dataframe tbody tr th {\n",
       "        vertical-align: top;\n",
       "    }\n",
       "\n",
       "    .dataframe thead th {\n",
       "        text-align: right;\n",
       "    }\n",
       "</style>\n",
       "<table border=\"1\" class=\"dataframe\">\n",
       "  <thead>\n",
       "    <tr style=\"text-align: right;\">\n",
       "      <th></th>\n",
       "      <th></th>\n",
       "      <th></th>\n",
       "      <th></th>\n",
       "      <th></th>\n",
       "      <th>accuracy</th>\n",
       "      <th>f1</th>\n",
       "      <th>precision</th>\n",
       "      <th>recall</th>\n",
       "      <th>valid_accuracy</th>\n",
       "      <th>valid_f1</th>\n",
       "      <th>valid_precision</th>\n",
       "      <th>valid_recall</th>\n",
       "      <th>k</th>\n",
       "      <th>sig_depth</th>\n",
       "      <th>...</th>\n",
       "      <th>embedding_dim</th>\n",
       "      <th>num_features</th>\n",
       "      <th>log_signature</th>\n",
       "      <th>seed</th>\n",
       "      <th>BiLSTM</th>\n",
       "      <th>gamma</th>\n",
       "      <th>k_fold</th>\n",
       "      <th>n_splits</th>\n",
       "      <th>batch_size</th>\n",
       "      <th>model_id</th>\n",
       "    </tr>\n",
       "    <tr>\n",
       "      <th>dimensions</th>\n",
       "      <th>swnu_hidden_dim</th>\n",
       "      <th>ffn_hidden_dim</th>\n",
       "      <th>dropout_rate</th>\n",
       "      <th>learning_rate</th>\n",
       "      <th></th>\n",
       "      <th></th>\n",
       "      <th></th>\n",
       "      <th></th>\n",
       "      <th></th>\n",
       "      <th></th>\n",
       "      <th></th>\n",
       "      <th></th>\n",
       "      <th></th>\n",
       "      <th></th>\n",
       "      <th></th>\n",
       "      <th></th>\n",
       "      <th></th>\n",
       "      <th></th>\n",
       "      <th></th>\n",
       "      <th></th>\n",
       "      <th></th>\n",
       "      <th></th>\n",
       "      <th></th>\n",
       "      <th></th>\n",
       "      <th></th>\n",
       "    </tr>\n",
       "  </thead>\n",
       "  <tbody>\n",
       "    <tr>\n",
       "      <th rowspan=\"24\" valign=\"top\">15</th>\n",
       "      <th rowspan=\"12\" valign=\"top\">(10,)</th>\n",
       "      <th rowspan=\"6\" valign=\"top\">(256, 256)</th>\n",
       "      <th rowspan=\"3\" valign=\"top\">0.1</th>\n",
       "      <th>0.0001</th>\n",
       "      <td>0.692575</td>\n",
       "      <td>0.665617</td>\n",
       "      <td>0.664209</td>\n",
       "      <td>0.667522</td>\n",
       "      <td>0.735364</td>\n",
       "      <td>0.717352</td>\n",
       "      <td>0.719397</td>\n",
       "      <td>0.715814</td>\n",
       "      <td>5.0</td>\n",
       "      <td>4.0</td>\n",
       "      <td>...</td>\n",
       "      <td>384.0</td>\n",
       "      <td>2.0</td>\n",
       "      <td>1.0</td>\n",
       "      <td>45.333333</td>\n",
       "      <td>1.0</td>\n",
       "      <td>2.0</td>\n",
       "      <td>1.0</td>\n",
       "      <td>5.0</td>\n",
       "      <td>64.0</td>\n",
       "      <td>13.0</td>\n",
       "    </tr>\n",
       "    <tr>\n",
       "      <th>0.0005</th>\n",
       "      <td>0.692016</td>\n",
       "      <td>0.665610</td>\n",
       "      <td>0.664529</td>\n",
       "      <td>0.668199</td>\n",
       "      <td>0.732489</td>\n",
       "      <td>0.714652</td>\n",
       "      <td>0.716813</td>\n",
       "      <td>0.713559</td>\n",
       "      <td>5.0</td>\n",
       "      <td>4.0</td>\n",
       "      <td>...</td>\n",
       "      <td>384.0</td>\n",
       "      <td>2.0</td>\n",
       "      <td>1.0</td>\n",
       "      <td>45.333333</td>\n",
       "      <td>1.0</td>\n",
       "      <td>2.0</td>\n",
       "      <td>1.0</td>\n",
       "      <td>5.0</td>\n",
       "      <td>64.0</td>\n",
       "      <td>14.0</td>\n",
       "    </tr>\n",
       "    <tr>\n",
       "      <th>0.0010</th>\n",
       "      <td>0.686362</td>\n",
       "      <td>0.663096</td>\n",
       "      <td>0.661021</td>\n",
       "      <td>0.667911</td>\n",
       "      <td>0.728175</td>\n",
       "      <td>0.712817</td>\n",
       "      <td>0.712623</td>\n",
       "      <td>0.713695</td>\n",
       "      <td>5.0</td>\n",
       "      <td>4.0</td>\n",
       "      <td>...</td>\n",
       "      <td>384.0</td>\n",
       "      <td>2.0</td>\n",
       "      <td>1.0</td>\n",
       "      <td>45.333333</td>\n",
       "      <td>1.0</td>\n",
       "      <td>2.0</td>\n",
       "      <td>1.0</td>\n",
       "      <td>5.0</td>\n",
       "      <td>64.0</td>\n",
       "      <td>12.0</td>\n",
       "    </tr>\n",
       "    <tr>\n",
       "      <th rowspan=\"3\" valign=\"top\">0.2</th>\n",
       "      <th>0.0001</th>\n",
       "      <td>0.686984</td>\n",
       "      <td>0.663260</td>\n",
       "      <td>0.661238</td>\n",
       "      <td>0.667692</td>\n",
       "      <td>0.732534</td>\n",
       "      <td>0.716351</td>\n",
       "      <td>0.716841</td>\n",
       "      <td>0.716401</td>\n",
       "      <td>5.0</td>\n",
       "      <td>4.0</td>\n",
       "      <td>...</td>\n",
       "      <td>384.0</td>\n",
       "      <td>2.0</td>\n",
       "      <td>1.0</td>\n",
       "      <td>45.333333</td>\n",
       "      <td>1.0</td>\n",
       "      <td>2.0</td>\n",
       "      <td>1.0</td>\n",
       "      <td>5.0</td>\n",
       "      <td>64.0</td>\n",
       "      <td>16.0</td>\n",
       "    </tr>\n",
       "    <tr>\n",
       "      <th>0.0005</th>\n",
       "      <td>0.693569</td>\n",
       "      <td>0.667578</td>\n",
       "      <td>0.666444</td>\n",
       "      <td>0.670419</td>\n",
       "      <td>0.732983</td>\n",
       "      <td>0.715593</td>\n",
       "      <td>0.717359</td>\n",
       "      <td>0.714886</td>\n",
       "      <td>5.0</td>\n",
       "      <td>4.0</td>\n",
       "      <td>...</td>\n",
       "      <td>384.0</td>\n",
       "      <td>2.0</td>\n",
       "      <td>1.0</td>\n",
       "      <td>45.333333</td>\n",
       "      <td>1.0</td>\n",
       "      <td>2.0</td>\n",
       "      <td>1.0</td>\n",
       "      <td>5.0</td>\n",
       "      <td>64.0</td>\n",
       "      <td>17.0</td>\n",
       "    </tr>\n",
       "    <tr>\n",
       "      <th>0.0010</th>\n",
       "      <td>0.689282</td>\n",
       "      <td>0.665382</td>\n",
       "      <td>0.663104</td>\n",
       "      <td>0.669378</td>\n",
       "      <td>0.726378</td>\n",
       "      <td>0.710855</td>\n",
       "      <td>0.710375</td>\n",
       "      <td>0.711519</td>\n",
       "      <td>5.0</td>\n",
       "      <td>4.0</td>\n",
       "      <td>...</td>\n",
       "      <td>384.0</td>\n",
       "      <td>2.0</td>\n",
       "      <td>1.0</td>\n",
       "      <td>45.333333</td>\n",
       "      <td>1.0</td>\n",
       "      <td>2.0</td>\n",
       "      <td>1.0</td>\n",
       "      <td>5.0</td>\n",
       "      <td>64.0</td>\n",
       "      <td>15.0</td>\n",
       "    </tr>\n",
       "    <tr>\n",
       "      <th rowspan=\"6\" valign=\"top\">(512, 512)</th>\n",
       "      <th rowspan=\"3\" valign=\"top\">0.1</th>\n",
       "      <th>0.0001</th>\n",
       "      <td>0.688972</td>\n",
       "      <td>0.664952</td>\n",
       "      <td>0.662726</td>\n",
       "      <td>0.668893</td>\n",
       "      <td>0.731141</td>\n",
       "      <td>0.715097</td>\n",
       "      <td>0.715210</td>\n",
       "      <td>0.715163</td>\n",
       "      <td>5.0</td>\n",
       "      <td>4.0</td>\n",
       "      <td>...</td>\n",
       "      <td>384.0</td>\n",
       "      <td>2.0</td>\n",
       "      <td>1.0</td>\n",
       "      <td>45.333333</td>\n",
       "      <td>1.0</td>\n",
       "      <td>2.0</td>\n",
       "      <td>1.0</td>\n",
       "      <td>5.0</td>\n",
       "      <td>64.0</td>\n",
       "      <td>19.0</td>\n",
       "    </tr>\n",
       "    <tr>\n",
       "      <th>0.0005</th>\n",
       "      <td>0.689034</td>\n",
       "      <td>0.664354</td>\n",
       "      <td>0.662216</td>\n",
       "      <td>0.667833</td>\n",
       "      <td>0.732129</td>\n",
       "      <td>0.715747</td>\n",
       "      <td>0.716036</td>\n",
       "      <td>0.715486</td>\n",
       "      <td>5.0</td>\n",
       "      <td>4.0</td>\n",
       "      <td>...</td>\n",
       "      <td>384.0</td>\n",
       "      <td>2.0</td>\n",
       "      <td>1.0</td>\n",
       "      <td>45.333333</td>\n",
       "      <td>1.0</td>\n",
       "      <td>2.0</td>\n",
       "      <td>1.0</td>\n",
       "      <td>5.0</td>\n",
       "      <td>64.0</td>\n",
       "      <td>20.0</td>\n",
       "    </tr>\n",
       "    <tr>\n",
       "      <th>0.0010</th>\n",
       "      <td>0.692700</td>\n",
       "      <td>0.666706</td>\n",
       "      <td>0.665266</td>\n",
       "      <td>0.669422</td>\n",
       "      <td>0.726783</td>\n",
       "      <td>0.709633</td>\n",
       "      <td>0.710590</td>\n",
       "      <td>0.709175</td>\n",
       "      <td>5.0</td>\n",
       "      <td>4.0</td>\n",
       "      <td>...</td>\n",
       "      <td>384.0</td>\n",
       "      <td>2.0</td>\n",
       "      <td>1.0</td>\n",
       "      <td>45.333333</td>\n",
       "      <td>1.0</td>\n",
       "      <td>2.0</td>\n",
       "      <td>1.0</td>\n",
       "      <td>5.0</td>\n",
       "      <td>64.0</td>\n",
       "      <td>18.0</td>\n",
       "    </tr>\n",
       "    <tr>\n",
       "      <th rowspan=\"3\" valign=\"top\">0.2</th>\n",
       "      <th>0.0001</th>\n",
       "      <td>0.691457</td>\n",
       "      <td>0.666502</td>\n",
       "      <td>0.664523</td>\n",
       "      <td>0.669779</td>\n",
       "      <td>0.733881</td>\n",
       "      <td>0.717388</td>\n",
       "      <td>0.717881</td>\n",
       "      <td>0.716970</td>\n",
       "      <td>5.0</td>\n",
       "      <td>4.0</td>\n",
       "      <td>...</td>\n",
       "      <td>384.0</td>\n",
       "      <td>2.0</td>\n",
       "      <td>1.0</td>\n",
       "      <td>45.333333</td>\n",
       "      <td>1.0</td>\n",
       "      <td>2.0</td>\n",
       "      <td>1.0</td>\n",
       "      <td>5.0</td>\n",
       "      <td>64.0</td>\n",
       "      <td>22.0</td>\n",
       "    </tr>\n",
       "    <tr>\n",
       "      <th>0.0005</th>\n",
       "      <td>0.689655</td>\n",
       "      <td>0.666259</td>\n",
       "      <td>0.664160</td>\n",
       "      <td>0.670813</td>\n",
       "      <td>0.726513</td>\n",
       "      <td>0.711355</td>\n",
       "      <td>0.710909</td>\n",
       "      <td>0.712442</td>\n",
       "      <td>5.0</td>\n",
       "      <td>4.0</td>\n",
       "      <td>...</td>\n",
       "      <td>384.0</td>\n",
       "      <td>2.0</td>\n",
       "      <td>1.0</td>\n",
       "      <td>45.333333</td>\n",
       "      <td>1.0</td>\n",
       "      <td>2.0</td>\n",
       "      <td>1.0</td>\n",
       "      <td>5.0</td>\n",
       "      <td>64.0</td>\n",
       "      <td>23.0</td>\n",
       "    </tr>\n",
       "    <tr>\n",
       "      <th>0.0010</th>\n",
       "      <td>0.692203</td>\n",
       "      <td>0.665859</td>\n",
       "      <td>0.664551</td>\n",
       "      <td>0.668383</td>\n",
       "      <td>0.728849</td>\n",
       "      <td>0.710720</td>\n",
       "      <td>0.712679</td>\n",
       "      <td>0.709577</td>\n",
       "      <td>5.0</td>\n",
       "      <td>4.0</td>\n",
       "      <td>...</td>\n",
       "      <td>384.0</td>\n",
       "      <td>2.0</td>\n",
       "      <td>1.0</td>\n",
       "      <td>45.333333</td>\n",
       "      <td>1.0</td>\n",
       "      <td>2.0</td>\n",
       "      <td>1.0</td>\n",
       "      <td>5.0</td>\n",
       "      <td>64.0</td>\n",
       "      <td>21.0</td>\n",
       "    </tr>\n",
       "    <tr>\n",
       "      <th rowspan=\"12\" valign=\"top\">(12,)</th>\n",
       "      <th rowspan=\"6\" valign=\"top\">(256, 256)</th>\n",
       "      <th rowspan=\"3\" valign=\"top\">0.1</th>\n",
       "      <th>0.0001</th>\n",
       "      <td>0.695371</td>\n",
       "      <td>0.668192</td>\n",
       "      <td>0.666912</td>\n",
       "      <td>0.669836</td>\n",
       "      <td>0.732713</td>\n",
       "      <td>0.714716</td>\n",
       "      <td>0.716429</td>\n",
       "      <td>0.713310</td>\n",
       "      <td>5.0</td>\n",
       "      <td>3.0</td>\n",
       "      <td>...</td>\n",
       "      <td>384.0</td>\n",
       "      <td>2.0</td>\n",
       "      <td>1.0</td>\n",
       "      <td>45.333333</td>\n",
       "      <td>1.0</td>\n",
       "      <td>2.0</td>\n",
       "      <td>1.0</td>\n",
       "      <td>5.0</td>\n",
       "      <td>64.0</td>\n",
       "      <td>1.0</td>\n",
       "    </tr>\n",
       "    <tr>\n",
       "      <th>0.0005</th>\n",
       "      <td>0.693010</td>\n",
       "      <td>0.670532</td>\n",
       "      <td>0.668096</td>\n",
       "      <td>0.675566</td>\n",
       "      <td>0.731096</td>\n",
       "      <td>0.715796</td>\n",
       "      <td>0.715281</td>\n",
       "      <td>0.716439</td>\n",
       "      <td>5.0</td>\n",
       "      <td>3.0</td>\n",
       "      <td>...</td>\n",
       "      <td>384.0</td>\n",
       "      <td>2.0</td>\n",
       "      <td>1.0</td>\n",
       "      <td>45.333333</td>\n",
       "      <td>1.0</td>\n",
       "      <td>2.0</td>\n",
       "      <td>1.0</td>\n",
       "      <td>5.0</td>\n",
       "      <td>64.0</td>\n",
       "      <td>2.0</td>\n",
       "    </tr>\n",
       "    <tr>\n",
       "      <th>0.0010</th>\n",
       "      <td>0.684436</td>\n",
       "      <td>0.663251</td>\n",
       "      <td>0.660852</td>\n",
       "      <td>0.669506</td>\n",
       "      <td>0.726019</td>\n",
       "      <td>0.712412</td>\n",
       "      <td>0.710875</td>\n",
       "      <td>0.714736</td>\n",
       "      <td>5.0</td>\n",
       "      <td>3.0</td>\n",
       "      <td>...</td>\n",
       "      <td>384.0</td>\n",
       "      <td>2.0</td>\n",
       "      <td>1.0</td>\n",
       "      <td>45.333333</td>\n",
       "      <td>1.0</td>\n",
       "      <td>2.0</td>\n",
       "      <td>1.0</td>\n",
       "      <td>5.0</td>\n",
       "      <td>64.0</td>\n",
       "      <td>0.0</td>\n",
       "    </tr>\n",
       "    <tr>\n",
       "      <th rowspan=\"3\" valign=\"top\">0.2</th>\n",
       "      <th>0.0001</th>\n",
       "      <td>0.693818</td>\n",
       "      <td>0.669444</td>\n",
       "      <td>0.667399</td>\n",
       "      <td>0.672989</td>\n",
       "      <td>0.729928</td>\n",
       "      <td>0.713382</td>\n",
       "      <td>0.713822</td>\n",
       "      <td>0.713119</td>\n",
       "      <td>5.0</td>\n",
       "      <td>3.0</td>\n",
       "      <td>...</td>\n",
       "      <td>384.0</td>\n",
       "      <td>2.0</td>\n",
       "      <td>1.0</td>\n",
       "      <td>45.333333</td>\n",
       "      <td>1.0</td>\n",
       "      <td>2.0</td>\n",
       "      <td>1.0</td>\n",
       "      <td>5.0</td>\n",
       "      <td>64.0</td>\n",
       "      <td>4.0</td>\n",
       "    </tr>\n",
       "    <tr>\n",
       "      <th>0.0005</th>\n",
       "      <td>0.693507</td>\n",
       "      <td>0.668718</td>\n",
       "      <td>0.667127</td>\n",
       "      <td>0.672135</td>\n",
       "      <td>0.731994</td>\n",
       "      <td>0.715047</td>\n",
       "      <td>0.716108</td>\n",
       "      <td>0.714517</td>\n",
       "      <td>5.0</td>\n",
       "      <td>3.0</td>\n",
       "      <td>...</td>\n",
       "      <td>384.0</td>\n",
       "      <td>2.0</td>\n",
       "      <td>1.0</td>\n",
       "      <td>45.333333</td>\n",
       "      <td>1.0</td>\n",
       "      <td>2.0</td>\n",
       "      <td>1.0</td>\n",
       "      <td>5.0</td>\n",
       "      <td>64.0</td>\n",
       "      <td>5.0</td>\n",
       "    </tr>\n",
       "    <tr>\n",
       "      <th>0.0010</th>\n",
       "      <td>0.685430</td>\n",
       "      <td>0.665569</td>\n",
       "      <td>0.663216</td>\n",
       "      <td>0.673018</td>\n",
       "      <td>0.721077</td>\n",
       "      <td>0.708104</td>\n",
       "      <td>0.706375</td>\n",
       "      <td>0.711241</td>\n",
       "      <td>5.0</td>\n",
       "      <td>3.0</td>\n",
       "      <td>...</td>\n",
       "      <td>384.0</td>\n",
       "      <td>2.0</td>\n",
       "      <td>1.0</td>\n",
       "      <td>45.333333</td>\n",
       "      <td>1.0</td>\n",
       "      <td>2.0</td>\n",
       "      <td>1.0</td>\n",
       "      <td>5.0</td>\n",
       "      <td>64.0</td>\n",
       "      <td>3.0</td>\n",
       "    </tr>\n",
       "    <tr>\n",
       "      <th rowspan=\"6\" valign=\"top\">(512, 512)</th>\n",
       "      <th rowspan=\"3\" valign=\"top\">0.1</th>\n",
       "      <th>0.0001</th>\n",
       "      <td>0.690587</td>\n",
       "      <td>0.665440</td>\n",
       "      <td>0.663446</td>\n",
       "      <td>0.668577</td>\n",
       "      <td>0.734555</td>\n",
       "      <td>0.718307</td>\n",
       "      <td>0.718609</td>\n",
       "      <td>0.718058</td>\n",
       "      <td>5.0</td>\n",
       "      <td>3.0</td>\n",
       "      <td>...</td>\n",
       "      <td>384.0</td>\n",
       "      <td>2.0</td>\n",
       "      <td>1.0</td>\n",
       "      <td>45.333333</td>\n",
       "      <td>1.0</td>\n",
       "      <td>2.0</td>\n",
       "      <td>1.0</td>\n",
       "      <td>5.0</td>\n",
       "      <td>64.0</td>\n",
       "      <td>7.0</td>\n",
       "    </tr>\n",
       "    <tr>\n",
       "      <th>0.0005</th>\n",
       "      <td>0.684623</td>\n",
       "      <td>0.663222</td>\n",
       "      <td>0.661046</td>\n",
       "      <td>0.669485</td>\n",
       "      <td>0.727546</td>\n",
       "      <td>0.713711</td>\n",
       "      <td>0.712559</td>\n",
       "      <td>0.715857</td>\n",
       "      <td>5.0</td>\n",
       "      <td>3.0</td>\n",
       "      <td>...</td>\n",
       "      <td>384.0</td>\n",
       "      <td>2.0</td>\n",
       "      <td>1.0</td>\n",
       "      <td>45.333333</td>\n",
       "      <td>1.0</td>\n",
       "      <td>2.0</td>\n",
       "      <td>1.0</td>\n",
       "      <td>5.0</td>\n",
       "      <td>64.0</td>\n",
       "      <td>8.0</td>\n",
       "    </tr>\n",
       "    <tr>\n",
       "      <th>0.0010</th>\n",
       "      <td>0.698602</td>\n",
       "      <td>0.670245</td>\n",
       "      <td>0.670246</td>\n",
       "      <td>0.671501</td>\n",
       "      <td>0.730422</td>\n",
       "      <td>0.711246</td>\n",
       "      <td>0.714956</td>\n",
       "      <td>0.709581</td>\n",
       "      <td>5.0</td>\n",
       "      <td>3.0</td>\n",
       "      <td>...</td>\n",
       "      <td>384.0</td>\n",
       "      <td>2.0</td>\n",
       "      <td>1.0</td>\n",
       "      <td>45.333333</td>\n",
       "      <td>1.0</td>\n",
       "      <td>2.0</td>\n",
       "      <td>1.0</td>\n",
       "      <td>5.0</td>\n",
       "      <td>64.0</td>\n",
       "      <td>6.0</td>\n",
       "    </tr>\n",
       "    <tr>\n",
       "      <th rowspan=\"3\" valign=\"top\">0.2</th>\n",
       "      <th>0.0001</th>\n",
       "      <td>0.693880</td>\n",
       "      <td>0.666425</td>\n",
       "      <td>0.665293</td>\n",
       "      <td>0.668033</td>\n",
       "      <td>0.735409</td>\n",
       "      <td>0.717244</td>\n",
       "      <td>0.719496</td>\n",
       "      <td>0.715647</td>\n",
       "      <td>5.0</td>\n",
       "      <td>3.0</td>\n",
       "      <td>...</td>\n",
       "      <td>384.0</td>\n",
       "      <td>2.0</td>\n",
       "      <td>1.0</td>\n",
       "      <td>45.333333</td>\n",
       "      <td>1.0</td>\n",
       "      <td>2.0</td>\n",
       "      <td>1.0</td>\n",
       "      <td>5.0</td>\n",
       "      <td>64.0</td>\n",
       "      <td>10.0</td>\n",
       "    </tr>\n",
       "    <tr>\n",
       "      <th>0.0005</th>\n",
       "      <td>0.688910</td>\n",
       "      <td>0.663291</td>\n",
       "      <td>0.661433</td>\n",
       "      <td>0.666179</td>\n",
       "      <td>0.732938</td>\n",
       "      <td>0.715468</td>\n",
       "      <td>0.716726</td>\n",
       "      <td>0.714397</td>\n",
       "      <td>5.0</td>\n",
       "      <td>3.0</td>\n",
       "      <td>...</td>\n",
       "      <td>384.0</td>\n",
       "      <td>2.0</td>\n",
       "      <td>1.0</td>\n",
       "      <td>45.333333</td>\n",
       "      <td>1.0</td>\n",
       "      <td>2.0</td>\n",
       "      <td>1.0</td>\n",
       "      <td>5.0</td>\n",
       "      <td>64.0</td>\n",
       "      <td>11.0</td>\n",
       "    </tr>\n",
       "    <tr>\n",
       "      <th>0.0010</th>\n",
       "      <td>0.690649</td>\n",
       "      <td>0.666195</td>\n",
       "      <td>0.664237</td>\n",
       "      <td>0.669937</td>\n",
       "      <td>0.725704</td>\n",
       "      <td>0.709305</td>\n",
       "      <td>0.709854</td>\n",
       "      <td>0.709571</td>\n",
       "      <td>5.0</td>\n",
       "      <td>3.0</td>\n",
       "      <td>...</td>\n",
       "      <td>384.0</td>\n",
       "      <td>2.0</td>\n",
       "      <td>1.0</td>\n",
       "      <td>45.333333</td>\n",
       "      <td>1.0</td>\n",
       "      <td>2.0</td>\n",
       "      <td>1.0</td>\n",
       "      <td>5.0</td>\n",
       "      <td>64.0</td>\n",
       "      <td>9.0</td>\n",
       "    </tr>\n",
       "  </tbody>\n",
       "</table>\n",
       "<p>24 rows × 23 columns</p>\n",
       "</div>"
      ],
      "text/plain": [
       "                                                                      accuracy  \\\n",
       "dimensions swnu_hidden_dim ffn_hidden_dim dropout_rate learning_rate             \n",
       "15         (10,)           (256, 256)     0.1          0.0001         0.692575   \n",
       "                                                       0.0005         0.692016   \n",
       "                                                       0.0010         0.686362   \n",
       "                                          0.2          0.0001         0.686984   \n",
       "                                                       0.0005         0.693569   \n",
       "                                                       0.0010         0.689282   \n",
       "                           (512, 512)     0.1          0.0001         0.688972   \n",
       "                                                       0.0005         0.689034   \n",
       "                                                       0.0010         0.692700   \n",
       "                                          0.2          0.0001         0.691457   \n",
       "                                                       0.0005         0.689655   \n",
       "                                                       0.0010         0.692203   \n",
       "           (12,)           (256, 256)     0.1          0.0001         0.695371   \n",
       "                                                       0.0005         0.693010   \n",
       "                                                       0.0010         0.684436   \n",
       "                                          0.2          0.0001         0.693818   \n",
       "                                                       0.0005         0.693507   \n",
       "                                                       0.0010         0.685430   \n",
       "                           (512, 512)     0.1          0.0001         0.690587   \n",
       "                                                       0.0005         0.684623   \n",
       "                                                       0.0010         0.698602   \n",
       "                                          0.2          0.0001         0.693880   \n",
       "                                                       0.0005         0.688910   \n",
       "                                                       0.0010         0.690649   \n",
       "\n",
       "                                                                            f1  \\\n",
       "dimensions swnu_hidden_dim ffn_hidden_dim dropout_rate learning_rate             \n",
       "15         (10,)           (256, 256)     0.1          0.0001         0.665617   \n",
       "                                                       0.0005         0.665610   \n",
       "                                                       0.0010         0.663096   \n",
       "                                          0.2          0.0001         0.663260   \n",
       "                                                       0.0005         0.667578   \n",
       "                                                       0.0010         0.665382   \n",
       "                           (512, 512)     0.1          0.0001         0.664952   \n",
       "                                                       0.0005         0.664354   \n",
       "                                                       0.0010         0.666706   \n",
       "                                          0.2          0.0001         0.666502   \n",
       "                                                       0.0005         0.666259   \n",
       "                                                       0.0010         0.665859   \n",
       "           (12,)           (256, 256)     0.1          0.0001         0.668192   \n",
       "                                                       0.0005         0.670532   \n",
       "                                                       0.0010         0.663251   \n",
       "                                          0.2          0.0001         0.669444   \n",
       "                                                       0.0005         0.668718   \n",
       "                                                       0.0010         0.665569   \n",
       "                           (512, 512)     0.1          0.0001         0.665440   \n",
       "                                                       0.0005         0.663222   \n",
       "                                                       0.0010         0.670245   \n",
       "                                          0.2          0.0001         0.666425   \n",
       "                                                       0.0005         0.663291   \n",
       "                                                       0.0010         0.666195   \n",
       "\n",
       "                                                                      precision  \\\n",
       "dimensions swnu_hidden_dim ffn_hidden_dim dropout_rate learning_rate              \n",
       "15         (10,)           (256, 256)     0.1          0.0001          0.664209   \n",
       "                                                       0.0005          0.664529   \n",
       "                                                       0.0010          0.661021   \n",
       "                                          0.2          0.0001          0.661238   \n",
       "                                                       0.0005          0.666444   \n",
       "                                                       0.0010          0.663104   \n",
       "                           (512, 512)     0.1          0.0001          0.662726   \n",
       "                                                       0.0005          0.662216   \n",
       "                                                       0.0010          0.665266   \n",
       "                                          0.2          0.0001          0.664523   \n",
       "                                                       0.0005          0.664160   \n",
       "                                                       0.0010          0.664551   \n",
       "           (12,)           (256, 256)     0.1          0.0001          0.666912   \n",
       "                                                       0.0005          0.668096   \n",
       "                                                       0.0010          0.660852   \n",
       "                                          0.2          0.0001          0.667399   \n",
       "                                                       0.0005          0.667127   \n",
       "                                                       0.0010          0.663216   \n",
       "                           (512, 512)     0.1          0.0001          0.663446   \n",
       "                                                       0.0005          0.661046   \n",
       "                                                       0.0010          0.670246   \n",
       "                                          0.2          0.0001          0.665293   \n",
       "                                                       0.0005          0.661433   \n",
       "                                                       0.0010          0.664237   \n",
       "\n",
       "                                                                        recall  \\\n",
       "dimensions swnu_hidden_dim ffn_hidden_dim dropout_rate learning_rate             \n",
       "15         (10,)           (256, 256)     0.1          0.0001         0.667522   \n",
       "                                                       0.0005         0.668199   \n",
       "                                                       0.0010         0.667911   \n",
       "                                          0.2          0.0001         0.667692   \n",
       "                                                       0.0005         0.670419   \n",
       "                                                       0.0010         0.669378   \n",
       "                           (512, 512)     0.1          0.0001         0.668893   \n",
       "                                                       0.0005         0.667833   \n",
       "                                                       0.0010         0.669422   \n",
       "                                          0.2          0.0001         0.669779   \n",
       "                                                       0.0005         0.670813   \n",
       "                                                       0.0010         0.668383   \n",
       "           (12,)           (256, 256)     0.1          0.0001         0.669836   \n",
       "                                                       0.0005         0.675566   \n",
       "                                                       0.0010         0.669506   \n",
       "                                          0.2          0.0001         0.672989   \n",
       "                                                       0.0005         0.672135   \n",
       "                                                       0.0010         0.673018   \n",
       "                           (512, 512)     0.1          0.0001         0.668577   \n",
       "                                                       0.0005         0.669485   \n",
       "                                                       0.0010         0.671501   \n",
       "                                          0.2          0.0001         0.668033   \n",
       "                                                       0.0005         0.666179   \n",
       "                                                       0.0010         0.669937   \n",
       "\n",
       "                                                                      valid_accuracy  \\\n",
       "dimensions swnu_hidden_dim ffn_hidden_dim dropout_rate learning_rate                   \n",
       "15         (10,)           (256, 256)     0.1          0.0001               0.735364   \n",
       "                                                       0.0005               0.732489   \n",
       "                                                       0.0010               0.728175   \n",
       "                                          0.2          0.0001               0.732534   \n",
       "                                                       0.0005               0.732983   \n",
       "                                                       0.0010               0.726378   \n",
       "                           (512, 512)     0.1          0.0001               0.731141   \n",
       "                                                       0.0005               0.732129   \n",
       "                                                       0.0010               0.726783   \n",
       "                                          0.2          0.0001               0.733881   \n",
       "                                                       0.0005               0.726513   \n",
       "                                                       0.0010               0.728849   \n",
       "           (12,)           (256, 256)     0.1          0.0001               0.732713   \n",
       "                                                       0.0005               0.731096   \n",
       "                                                       0.0010               0.726019   \n",
       "                                          0.2          0.0001               0.729928   \n",
       "                                                       0.0005               0.731994   \n",
       "                                                       0.0010               0.721077   \n",
       "                           (512, 512)     0.1          0.0001               0.734555   \n",
       "                                                       0.0005               0.727546   \n",
       "                                                       0.0010               0.730422   \n",
       "                                          0.2          0.0001               0.735409   \n",
       "                                                       0.0005               0.732938   \n",
       "                                                       0.0010               0.725704   \n",
       "\n",
       "                                                                      valid_f1  \\\n",
       "dimensions swnu_hidden_dim ffn_hidden_dim dropout_rate learning_rate             \n",
       "15         (10,)           (256, 256)     0.1          0.0001         0.717352   \n",
       "                                                       0.0005         0.714652   \n",
       "                                                       0.0010         0.712817   \n",
       "                                          0.2          0.0001         0.716351   \n",
       "                                                       0.0005         0.715593   \n",
       "                                                       0.0010         0.710855   \n",
       "                           (512, 512)     0.1          0.0001         0.715097   \n",
       "                                                       0.0005         0.715747   \n",
       "                                                       0.0010         0.709633   \n",
       "                                          0.2          0.0001         0.717388   \n",
       "                                                       0.0005         0.711355   \n",
       "                                                       0.0010         0.710720   \n",
       "           (12,)           (256, 256)     0.1          0.0001         0.714716   \n",
       "                                                       0.0005         0.715796   \n",
       "                                                       0.0010         0.712412   \n",
       "                                          0.2          0.0001         0.713382   \n",
       "                                                       0.0005         0.715047   \n",
       "                                                       0.0010         0.708104   \n",
       "                           (512, 512)     0.1          0.0001         0.718307   \n",
       "                                                       0.0005         0.713711   \n",
       "                                                       0.0010         0.711246   \n",
       "                                          0.2          0.0001         0.717244   \n",
       "                                                       0.0005         0.715468   \n",
       "                                                       0.0010         0.709305   \n",
       "\n",
       "                                                                      valid_precision  \\\n",
       "dimensions swnu_hidden_dim ffn_hidden_dim dropout_rate learning_rate                    \n",
       "15         (10,)           (256, 256)     0.1          0.0001                0.719397   \n",
       "                                                       0.0005                0.716813   \n",
       "                                                       0.0010                0.712623   \n",
       "                                          0.2          0.0001                0.716841   \n",
       "                                                       0.0005                0.717359   \n",
       "                                                       0.0010                0.710375   \n",
       "                           (512, 512)     0.1          0.0001                0.715210   \n",
       "                                                       0.0005                0.716036   \n",
       "                                                       0.0010                0.710590   \n",
       "                                          0.2          0.0001                0.717881   \n",
       "                                                       0.0005                0.710909   \n",
       "                                                       0.0010                0.712679   \n",
       "           (12,)           (256, 256)     0.1          0.0001                0.716429   \n",
       "                                                       0.0005                0.715281   \n",
       "                                                       0.0010                0.710875   \n",
       "                                          0.2          0.0001                0.713822   \n",
       "                                                       0.0005                0.716108   \n",
       "                                                       0.0010                0.706375   \n",
       "                           (512, 512)     0.1          0.0001                0.718609   \n",
       "                                                       0.0005                0.712559   \n",
       "                                                       0.0010                0.714956   \n",
       "                                          0.2          0.0001                0.719496   \n",
       "                                                       0.0005                0.716726   \n",
       "                                                       0.0010                0.709854   \n",
       "\n",
       "                                                                      valid_recall  \\\n",
       "dimensions swnu_hidden_dim ffn_hidden_dim dropout_rate learning_rate                 \n",
       "15         (10,)           (256, 256)     0.1          0.0001             0.715814   \n",
       "                                                       0.0005             0.713559   \n",
       "                                                       0.0010             0.713695   \n",
       "                                          0.2          0.0001             0.716401   \n",
       "                                                       0.0005             0.714886   \n",
       "                                                       0.0010             0.711519   \n",
       "                           (512, 512)     0.1          0.0001             0.715163   \n",
       "                                                       0.0005             0.715486   \n",
       "                                                       0.0010             0.709175   \n",
       "                                          0.2          0.0001             0.716970   \n",
       "                                                       0.0005             0.712442   \n",
       "                                                       0.0010             0.709577   \n",
       "           (12,)           (256, 256)     0.1          0.0001             0.713310   \n",
       "                                                       0.0005             0.716439   \n",
       "                                                       0.0010             0.714736   \n",
       "                                          0.2          0.0001             0.713119   \n",
       "                                                       0.0005             0.714517   \n",
       "                                                       0.0010             0.711241   \n",
       "                           (512, 512)     0.1          0.0001             0.718058   \n",
       "                                                       0.0005             0.715857   \n",
       "                                                       0.0010             0.709581   \n",
       "                                          0.2          0.0001             0.715647   \n",
       "                                                       0.0005             0.714397   \n",
       "                                                       0.0010             0.709571   \n",
       "\n",
       "                                                                        k  \\\n",
       "dimensions swnu_hidden_dim ffn_hidden_dim dropout_rate learning_rate        \n",
       "15         (10,)           (256, 256)     0.1          0.0001         5.0   \n",
       "                                                       0.0005         5.0   \n",
       "                                                       0.0010         5.0   \n",
       "                                          0.2          0.0001         5.0   \n",
       "                                                       0.0005         5.0   \n",
       "                                                       0.0010         5.0   \n",
       "                           (512, 512)     0.1          0.0001         5.0   \n",
       "                                                       0.0005         5.0   \n",
       "                                                       0.0010         5.0   \n",
       "                                          0.2          0.0001         5.0   \n",
       "                                                       0.0005         5.0   \n",
       "                                                       0.0010         5.0   \n",
       "           (12,)           (256, 256)     0.1          0.0001         5.0   \n",
       "                                                       0.0005         5.0   \n",
       "                                                       0.0010         5.0   \n",
       "                                          0.2          0.0001         5.0   \n",
       "                                                       0.0005         5.0   \n",
       "                                                       0.0010         5.0   \n",
       "                           (512, 512)     0.1          0.0001         5.0   \n",
       "                                                       0.0005         5.0   \n",
       "                                                       0.0010         5.0   \n",
       "                                          0.2          0.0001         5.0   \n",
       "                                                       0.0005         5.0   \n",
       "                                                       0.0010         5.0   \n",
       "\n",
       "                                                                      sig_depth  \\\n",
       "dimensions swnu_hidden_dim ffn_hidden_dim dropout_rate learning_rate              \n",
       "15         (10,)           (256, 256)     0.1          0.0001               4.0   \n",
       "                                                       0.0005               4.0   \n",
       "                                                       0.0010               4.0   \n",
       "                                          0.2          0.0001               4.0   \n",
       "                                                       0.0005               4.0   \n",
       "                                                       0.0010               4.0   \n",
       "                           (512, 512)     0.1          0.0001               4.0   \n",
       "                                                       0.0005               4.0   \n",
       "                                                       0.0010               4.0   \n",
       "                                          0.2          0.0001               4.0   \n",
       "                                                       0.0005               4.0   \n",
       "                                                       0.0010               4.0   \n",
       "           (12,)           (256, 256)     0.1          0.0001               3.0   \n",
       "                                                       0.0005               3.0   \n",
       "                                                       0.0010               3.0   \n",
       "                                          0.2          0.0001               3.0   \n",
       "                                                       0.0005               3.0   \n",
       "                                                       0.0010               3.0   \n",
       "                           (512, 512)     0.1          0.0001               3.0   \n",
       "                                                       0.0005               3.0   \n",
       "                                                       0.0010               3.0   \n",
       "                                          0.2          0.0001               3.0   \n",
       "                                                       0.0005               3.0   \n",
       "                                                       0.0010               3.0   \n",
       "\n",
       "                                                                      ...  \\\n",
       "dimensions swnu_hidden_dim ffn_hidden_dim dropout_rate learning_rate  ...   \n",
       "15         (10,)           (256, 256)     0.1          0.0001         ...   \n",
       "                                                       0.0005         ...   \n",
       "                                                       0.0010         ...   \n",
       "                                          0.2          0.0001         ...   \n",
       "                                                       0.0005         ...   \n",
       "                                                       0.0010         ...   \n",
       "                           (512, 512)     0.1          0.0001         ...   \n",
       "                                                       0.0005         ...   \n",
       "                                                       0.0010         ...   \n",
       "                                          0.2          0.0001         ...   \n",
       "                                                       0.0005         ...   \n",
       "                                                       0.0010         ...   \n",
       "           (12,)           (256, 256)     0.1          0.0001         ...   \n",
       "                                                       0.0005         ...   \n",
       "                                                       0.0010         ...   \n",
       "                                          0.2          0.0001         ...   \n",
       "                                                       0.0005         ...   \n",
       "                                                       0.0010         ...   \n",
       "                           (512, 512)     0.1          0.0001         ...   \n",
       "                                                       0.0005         ...   \n",
       "                                                       0.0010         ...   \n",
       "                                          0.2          0.0001         ...   \n",
       "                                                       0.0005         ...   \n",
       "                                                       0.0010         ...   \n",
       "\n",
       "                                                                      embedding_dim  \\\n",
       "dimensions swnu_hidden_dim ffn_hidden_dim dropout_rate learning_rate                  \n",
       "15         (10,)           (256, 256)     0.1          0.0001                 384.0   \n",
       "                                                       0.0005                 384.0   \n",
       "                                                       0.0010                 384.0   \n",
       "                                          0.2          0.0001                 384.0   \n",
       "                                                       0.0005                 384.0   \n",
       "                                                       0.0010                 384.0   \n",
       "                           (512, 512)     0.1          0.0001                 384.0   \n",
       "                                                       0.0005                 384.0   \n",
       "                                                       0.0010                 384.0   \n",
       "                                          0.2          0.0001                 384.0   \n",
       "                                                       0.0005                 384.0   \n",
       "                                                       0.0010                 384.0   \n",
       "           (12,)           (256, 256)     0.1          0.0001                 384.0   \n",
       "                                                       0.0005                 384.0   \n",
       "                                                       0.0010                 384.0   \n",
       "                                          0.2          0.0001                 384.0   \n",
       "                                                       0.0005                 384.0   \n",
       "                                                       0.0010                 384.0   \n",
       "                           (512, 512)     0.1          0.0001                 384.0   \n",
       "                                                       0.0005                 384.0   \n",
       "                                                       0.0010                 384.0   \n",
       "                                          0.2          0.0001                 384.0   \n",
       "                                                       0.0005                 384.0   \n",
       "                                                       0.0010                 384.0   \n",
       "\n",
       "                                                                      num_features  \\\n",
       "dimensions swnu_hidden_dim ffn_hidden_dim dropout_rate learning_rate                 \n",
       "15         (10,)           (256, 256)     0.1          0.0001                  2.0   \n",
       "                                                       0.0005                  2.0   \n",
       "                                                       0.0010                  2.0   \n",
       "                                          0.2          0.0001                  2.0   \n",
       "                                                       0.0005                  2.0   \n",
       "                                                       0.0010                  2.0   \n",
       "                           (512, 512)     0.1          0.0001                  2.0   \n",
       "                                                       0.0005                  2.0   \n",
       "                                                       0.0010                  2.0   \n",
       "                                          0.2          0.0001                  2.0   \n",
       "                                                       0.0005                  2.0   \n",
       "                                                       0.0010                  2.0   \n",
       "           (12,)           (256, 256)     0.1          0.0001                  2.0   \n",
       "                                                       0.0005                  2.0   \n",
       "                                                       0.0010                  2.0   \n",
       "                                          0.2          0.0001                  2.0   \n",
       "                                                       0.0005                  2.0   \n",
       "                                                       0.0010                  2.0   \n",
       "                           (512, 512)     0.1          0.0001                  2.0   \n",
       "                                                       0.0005                  2.0   \n",
       "                                                       0.0010                  2.0   \n",
       "                                          0.2          0.0001                  2.0   \n",
       "                                                       0.0005                  2.0   \n",
       "                                                       0.0010                  2.0   \n",
       "\n",
       "                                                                      log_signature  \\\n",
       "dimensions swnu_hidden_dim ffn_hidden_dim dropout_rate learning_rate                  \n",
       "15         (10,)           (256, 256)     0.1          0.0001                   1.0   \n",
       "                                                       0.0005                   1.0   \n",
       "                                                       0.0010                   1.0   \n",
       "                                          0.2          0.0001                   1.0   \n",
       "                                                       0.0005                   1.0   \n",
       "                                                       0.0010                   1.0   \n",
       "                           (512, 512)     0.1          0.0001                   1.0   \n",
       "                                                       0.0005                   1.0   \n",
       "                                                       0.0010                   1.0   \n",
       "                                          0.2          0.0001                   1.0   \n",
       "                                                       0.0005                   1.0   \n",
       "                                                       0.0010                   1.0   \n",
       "           (12,)           (256, 256)     0.1          0.0001                   1.0   \n",
       "                                                       0.0005                   1.0   \n",
       "                                                       0.0010                   1.0   \n",
       "                                          0.2          0.0001                   1.0   \n",
       "                                                       0.0005                   1.0   \n",
       "                                                       0.0010                   1.0   \n",
       "                           (512, 512)     0.1          0.0001                   1.0   \n",
       "                                                       0.0005                   1.0   \n",
       "                                                       0.0010                   1.0   \n",
       "                                          0.2          0.0001                   1.0   \n",
       "                                                       0.0005                   1.0   \n",
       "                                                       0.0010                   1.0   \n",
       "\n",
       "                                                                           seed  \\\n",
       "dimensions swnu_hidden_dim ffn_hidden_dim dropout_rate learning_rate              \n",
       "15         (10,)           (256, 256)     0.1          0.0001         45.333333   \n",
       "                                                       0.0005         45.333333   \n",
       "                                                       0.0010         45.333333   \n",
       "                                          0.2          0.0001         45.333333   \n",
       "                                                       0.0005         45.333333   \n",
       "                                                       0.0010         45.333333   \n",
       "                           (512, 512)     0.1          0.0001         45.333333   \n",
       "                                                       0.0005         45.333333   \n",
       "                                                       0.0010         45.333333   \n",
       "                                          0.2          0.0001         45.333333   \n",
       "                                                       0.0005         45.333333   \n",
       "                                                       0.0010         45.333333   \n",
       "           (12,)           (256, 256)     0.1          0.0001         45.333333   \n",
       "                                                       0.0005         45.333333   \n",
       "                                                       0.0010         45.333333   \n",
       "                                          0.2          0.0001         45.333333   \n",
       "                                                       0.0005         45.333333   \n",
       "                                                       0.0010         45.333333   \n",
       "                           (512, 512)     0.1          0.0001         45.333333   \n",
       "                                                       0.0005         45.333333   \n",
       "                                                       0.0010         45.333333   \n",
       "                                          0.2          0.0001         45.333333   \n",
       "                                                       0.0005         45.333333   \n",
       "                                                       0.0010         45.333333   \n",
       "\n",
       "                                                                      BiLSTM  \\\n",
       "dimensions swnu_hidden_dim ffn_hidden_dim dropout_rate learning_rate           \n",
       "15         (10,)           (256, 256)     0.1          0.0001            1.0   \n",
       "                                                       0.0005            1.0   \n",
       "                                                       0.0010            1.0   \n",
       "                                          0.2          0.0001            1.0   \n",
       "                                                       0.0005            1.0   \n",
       "                                                       0.0010            1.0   \n",
       "                           (512, 512)     0.1          0.0001            1.0   \n",
       "                                                       0.0005            1.0   \n",
       "                                                       0.0010            1.0   \n",
       "                                          0.2          0.0001            1.0   \n",
       "                                                       0.0005            1.0   \n",
       "                                                       0.0010            1.0   \n",
       "           (12,)           (256, 256)     0.1          0.0001            1.0   \n",
       "                                                       0.0005            1.0   \n",
       "                                                       0.0010            1.0   \n",
       "                                          0.2          0.0001            1.0   \n",
       "                                                       0.0005            1.0   \n",
       "                                                       0.0010            1.0   \n",
       "                           (512, 512)     0.1          0.0001            1.0   \n",
       "                                                       0.0005            1.0   \n",
       "                                                       0.0010            1.0   \n",
       "                                          0.2          0.0001            1.0   \n",
       "                                                       0.0005            1.0   \n",
       "                                                       0.0010            1.0   \n",
       "\n",
       "                                                                      gamma  \\\n",
       "dimensions swnu_hidden_dim ffn_hidden_dim dropout_rate learning_rate          \n",
       "15         (10,)           (256, 256)     0.1          0.0001           2.0   \n",
       "                                                       0.0005           2.0   \n",
       "                                                       0.0010           2.0   \n",
       "                                          0.2          0.0001           2.0   \n",
       "                                                       0.0005           2.0   \n",
       "                                                       0.0010           2.0   \n",
       "                           (512, 512)     0.1          0.0001           2.0   \n",
       "                                                       0.0005           2.0   \n",
       "                                                       0.0010           2.0   \n",
       "                                          0.2          0.0001           2.0   \n",
       "                                                       0.0005           2.0   \n",
       "                                                       0.0010           2.0   \n",
       "           (12,)           (256, 256)     0.1          0.0001           2.0   \n",
       "                                                       0.0005           2.0   \n",
       "                                                       0.0010           2.0   \n",
       "                                          0.2          0.0001           2.0   \n",
       "                                                       0.0005           2.0   \n",
       "                                                       0.0010           2.0   \n",
       "                           (512, 512)     0.1          0.0001           2.0   \n",
       "                                                       0.0005           2.0   \n",
       "                                                       0.0010           2.0   \n",
       "                                          0.2          0.0001           2.0   \n",
       "                                                       0.0005           2.0   \n",
       "                                                       0.0010           2.0   \n",
       "\n",
       "                                                                      k_fold  \\\n",
       "dimensions swnu_hidden_dim ffn_hidden_dim dropout_rate learning_rate           \n",
       "15         (10,)           (256, 256)     0.1          0.0001            1.0   \n",
       "                                                       0.0005            1.0   \n",
       "                                                       0.0010            1.0   \n",
       "                                          0.2          0.0001            1.0   \n",
       "                                                       0.0005            1.0   \n",
       "                                                       0.0010            1.0   \n",
       "                           (512, 512)     0.1          0.0001            1.0   \n",
       "                                                       0.0005            1.0   \n",
       "                                                       0.0010            1.0   \n",
       "                                          0.2          0.0001            1.0   \n",
       "                                                       0.0005            1.0   \n",
       "                                                       0.0010            1.0   \n",
       "           (12,)           (256, 256)     0.1          0.0001            1.0   \n",
       "                                                       0.0005            1.0   \n",
       "                                                       0.0010            1.0   \n",
       "                                          0.2          0.0001            1.0   \n",
       "                                                       0.0005            1.0   \n",
       "                                                       0.0010            1.0   \n",
       "                           (512, 512)     0.1          0.0001            1.0   \n",
       "                                                       0.0005            1.0   \n",
       "                                                       0.0010            1.0   \n",
       "                                          0.2          0.0001            1.0   \n",
       "                                                       0.0005            1.0   \n",
       "                                                       0.0010            1.0   \n",
       "\n",
       "                                                                      n_splits  \\\n",
       "dimensions swnu_hidden_dim ffn_hidden_dim dropout_rate learning_rate             \n",
       "15         (10,)           (256, 256)     0.1          0.0001              5.0   \n",
       "                                                       0.0005              5.0   \n",
       "                                                       0.0010              5.0   \n",
       "                                          0.2          0.0001              5.0   \n",
       "                                                       0.0005              5.0   \n",
       "                                                       0.0010              5.0   \n",
       "                           (512, 512)     0.1          0.0001              5.0   \n",
       "                                                       0.0005              5.0   \n",
       "                                                       0.0010              5.0   \n",
       "                                          0.2          0.0001              5.0   \n",
       "                                                       0.0005              5.0   \n",
       "                                                       0.0010              5.0   \n",
       "           (12,)           (256, 256)     0.1          0.0001              5.0   \n",
       "                                                       0.0005              5.0   \n",
       "                                                       0.0010              5.0   \n",
       "                                          0.2          0.0001              5.0   \n",
       "                                                       0.0005              5.0   \n",
       "                                                       0.0010              5.0   \n",
       "                           (512, 512)     0.1          0.0001              5.0   \n",
       "                                                       0.0005              5.0   \n",
       "                                                       0.0010              5.0   \n",
       "                                          0.2          0.0001              5.0   \n",
       "                                                       0.0005              5.0   \n",
       "                                                       0.0010              5.0   \n",
       "\n",
       "                                                                      batch_size  \\\n",
       "dimensions swnu_hidden_dim ffn_hidden_dim dropout_rate learning_rate               \n",
       "15         (10,)           (256, 256)     0.1          0.0001               64.0   \n",
       "                                                       0.0005               64.0   \n",
       "                                                       0.0010               64.0   \n",
       "                                          0.2          0.0001               64.0   \n",
       "                                                       0.0005               64.0   \n",
       "                                                       0.0010               64.0   \n",
       "                           (512, 512)     0.1          0.0001               64.0   \n",
       "                                                       0.0005               64.0   \n",
       "                                                       0.0010               64.0   \n",
       "                                          0.2          0.0001               64.0   \n",
       "                                                       0.0005               64.0   \n",
       "                                                       0.0010               64.0   \n",
       "           (12,)           (256, 256)     0.1          0.0001               64.0   \n",
       "                                                       0.0005               64.0   \n",
       "                                                       0.0010               64.0   \n",
       "                                          0.2          0.0001               64.0   \n",
       "                                                       0.0005               64.0   \n",
       "                                                       0.0010               64.0   \n",
       "                           (512, 512)     0.1          0.0001               64.0   \n",
       "                                                       0.0005               64.0   \n",
       "                                                       0.0010               64.0   \n",
       "                                          0.2          0.0001               64.0   \n",
       "                                                       0.0005               64.0   \n",
       "                                                       0.0010               64.0   \n",
       "\n",
       "                                                                      model_id  \n",
       "dimensions swnu_hidden_dim ffn_hidden_dim dropout_rate learning_rate            \n",
       "15         (10,)           (256, 256)     0.1          0.0001             13.0  \n",
       "                                                       0.0005             14.0  \n",
       "                                                       0.0010             12.0  \n",
       "                                          0.2          0.0001             16.0  \n",
       "                                                       0.0005             17.0  \n",
       "                                                       0.0010             15.0  \n",
       "                           (512, 512)     0.1          0.0001             19.0  \n",
       "                                                       0.0005             20.0  \n",
       "                                                       0.0010             18.0  \n",
       "                                          0.2          0.0001             22.0  \n",
       "                                                       0.0005             23.0  \n",
       "                                                       0.0010             21.0  \n",
       "           (12,)           (256, 256)     0.1          0.0001              1.0  \n",
       "                                                       0.0005              2.0  \n",
       "                                                       0.0010              0.0  \n",
       "                                          0.2          0.0001              4.0  \n",
       "                                                       0.0005              5.0  \n",
       "                                                       0.0010              3.0  \n",
       "                           (512, 512)     0.1          0.0001              7.0  \n",
       "                                                       0.0005              8.0  \n",
       "                                                       0.0010              6.0  \n",
       "                                          0.2          0.0001             10.0  \n",
       "                                                       0.0005             11.0  \n",
       "                                                       0.0010              9.0  \n",
       "\n",
       "[24 rows x 23 columns]"
      ]
     },
     "execution_count": 13,
     "metadata": {},
     "output_type": "execute_result"
    }
   ],
   "source": [
    "swnu_network_umap_kfold_5.groupby(\n",
    "    [\"dimensions\", \"swnu_hidden_dim\", \"ffn_hidden_dim\", \"dropout_rate\", \"learning_rate\"]\n",
    ").mean()"
   ]
  },
  {
   "cell_type": "code",
   "execution_count": 14,
   "metadata": {},
   "outputs": [
    {
     "data": {
      "text/html": [
       "<div>\n",
       "<style scoped>\n",
       "    .dataframe tbody tr th:only-of-type {\n",
       "        vertical-align: middle;\n",
       "    }\n",
       "\n",
       "    .dataframe tbody tr th {\n",
       "        vertical-align: top;\n",
       "    }\n",
       "\n",
       "    .dataframe thead th {\n",
       "        text-align: right;\n",
       "    }\n",
       "</style>\n",
       "<table border=\"1\" class=\"dataframe\">\n",
       "  <thead>\n",
       "    <tr style=\"text-align: right;\">\n",
       "      <th></th>\n",
       "      <th>loss</th>\n",
       "      <th>accuracy</th>\n",
       "      <th>f1</th>\n",
       "      <th>f1_scores</th>\n",
       "      <th>precision</th>\n",
       "      <th>precision_scores</th>\n",
       "      <th>recall</th>\n",
       "      <th>recall_scores</th>\n",
       "      <th>valid_loss</th>\n",
       "      <th>valid_accuracy</th>\n",
       "      <th>...</th>\n",
       "      <th>seed</th>\n",
       "      <th>BiLSTM</th>\n",
       "      <th>loss_function</th>\n",
       "      <th>gamma</th>\n",
       "      <th>k_fold</th>\n",
       "      <th>n_splits</th>\n",
       "      <th>augmentation_type</th>\n",
       "      <th>hidden_dim_aug</th>\n",
       "      <th>comb_method</th>\n",
       "      <th>batch_size</th>\n",
       "    </tr>\n",
       "  </thead>\n",
       "  <tbody>\n",
       "    <tr>\n",
       "      <th>0</th>\n",
       "      <td>None</td>\n",
       "      <td>0.694501</td>\n",
       "      <td>0.670570</td>\n",
       "      <td>[0.7593598590515342, 0.581781066598622]</td>\n",
       "      <td>0.668244</td>\n",
       "      <td>[0.7782124586217274, 0.5582761998041136]</td>\n",
       "      <td>0.674376</td>\n",
       "      <td>[0.7413990825688074, 0.607352157698455]</td>\n",
       "      <td>None</td>\n",
       "      <td>0.736487</td>\n",
       "      <td>...</td>\n",
       "      <td>1</td>\n",
       "      <td>True</td>\n",
       "      <td>focal</td>\n",
       "      <td>2</td>\n",
       "      <td>True</td>\n",
       "      <td>5</td>\n",
       "      <td>Conv1d</td>\n",
       "      <td>None</td>\n",
       "      <td>concatenation</td>\n",
       "      <td>64</td>\n",
       "    </tr>\n",
       "    <tr>\n",
       "      <th>0</th>\n",
       "      <td>None</td>\n",
       "      <td>0.685927</td>\n",
       "      <td>0.661471</td>\n",
       "      <td>[0.7524607022183045, 0.5704817741524343]</td>\n",
       "      <td>0.659269</td>\n",
       "      <td>[0.7716179572160289, 0.5469208211143695]</td>\n",
       "      <td>0.665198</td>\n",
       "      <td>[0.7342316513761468, 0.5961640916355887]</td>\n",
       "      <td>None</td>\n",
       "      <td>0.735679</td>\n",
       "      <td>...</td>\n",
       "      <td>12</td>\n",
       "      <td>True</td>\n",
       "      <td>focal</td>\n",
       "      <td>2</td>\n",
       "      <td>True</td>\n",
       "      <td>5</td>\n",
       "      <td>Conv1d</td>\n",
       "      <td>None</td>\n",
       "      <td>concatenation</td>\n",
       "      <td>64</td>\n",
       "    </tr>\n",
       "    <tr>\n",
       "      <th>0</th>\n",
       "      <td>None</td>\n",
       "      <td>0.691333</td>\n",
       "      <td>0.664278</td>\n",
       "      <td>[0.7595818815331009, 0.5689744924518481]</td>\n",
       "      <td>0.662823</td>\n",
       "      <td>[0.7694117647058824, 0.556234096692112]</td>\n",
       "      <td>0.666156</td>\n",
       "      <td>[0.75, 0.582312200319659]</td>\n",
       "      <td>None</td>\n",
       "      <td>0.731500</td>\n",
       "      <td>...</td>\n",
       "      <td>123</td>\n",
       "      <td>True</td>\n",
       "      <td>focal</td>\n",
       "      <td>2</td>\n",
       "      <td>True</td>\n",
       "      <td>5</td>\n",
       "      <td>Conv1d</td>\n",
       "      <td>None</td>\n",
       "      <td>concatenation</td>\n",
       "      <td>64</td>\n",
       "    </tr>\n",
       "  </tbody>\n",
       "</table>\n",
       "<p>3 rows × 44 columns</p>\n",
       "</div>"
      ],
      "text/plain": [
       "   loss  accuracy        f1                                 f1_scores  \\\n",
       "0  None  0.694501  0.670570   [0.7593598590515342, 0.581781066598622]   \n",
       "0  None  0.685927  0.661471  [0.7524607022183045, 0.5704817741524343]   \n",
       "0  None  0.691333  0.664278  [0.7595818815331009, 0.5689744924518481]   \n",
       "\n",
       "   precision                          precision_scores    recall  \\\n",
       "0   0.668244  [0.7782124586217274, 0.5582761998041136]  0.674376   \n",
       "0   0.659269  [0.7716179572160289, 0.5469208211143695]  0.665198   \n",
       "0   0.662823   [0.7694117647058824, 0.556234096692112]  0.666156   \n",
       "\n",
       "                              recall_scores valid_loss  valid_accuracy  ...  \\\n",
       "0   [0.7413990825688074, 0.607352157698455]       None        0.736487  ...   \n",
       "0  [0.7342316513761468, 0.5961640916355887]       None        0.735679  ...   \n",
       "0                 [0.75, 0.582312200319659]       None        0.731500  ...   \n",
       "\n",
       "   seed BiLSTM  loss_function gamma  k_fold n_splits  augmentation_type  \\\n",
       "0     1   True          focal     2    True        5             Conv1d   \n",
       "0    12   True          focal     2    True        5             Conv1d   \n",
       "0   123   True          focal     2    True        5             Conv1d   \n",
       "\n",
       "   hidden_dim_aug    comb_method batch_size  \n",
       "0            None  concatenation         64  \n",
       "0            None  concatenation         64  \n",
       "0            None  concatenation         64  \n",
       "\n",
       "[3 rows x 44 columns]"
      ]
     },
     "execution_count": 14,
     "metadata": {},
     "output_type": "execute_result"
    }
   ],
   "source": [
    "best_swnu_network_umap_kfold_5"
   ]
  },
  {
   "cell_type": "code",
   "execution_count": 15,
   "metadata": {},
   "outputs": [
    {
     "data": {
      "text/plain": [
       "0.6654399626676407"
      ]
     },
     "execution_count": 15,
     "metadata": {},
     "output_type": "execute_result"
    }
   ],
   "source": [
    "best_swnu_network_umap_kfold_5[\"f1\"].mean()"
   ]
  },
  {
   "cell_type": "code",
   "execution_count": 16,
   "metadata": {},
   "outputs": [
    {
     "data": {
      "text/plain": [
       "0.6634455496923723"
      ]
     },
     "execution_count": 16,
     "metadata": {},
     "output_type": "execute_result"
    }
   ],
   "source": [
    "best_swnu_network_umap_kfold_5[\"precision\"].mean()"
   ]
  },
  {
   "cell_type": "code",
   "execution_count": 17,
   "metadata": {},
   "outputs": [
    {
     "data": {
      "text/plain": [
       "0.6685765305997761"
      ]
     },
     "execution_count": 17,
     "metadata": {},
     "output_type": "execute_result"
    }
   ],
   "source": [
    "best_swnu_network_umap_kfold_5[\"recall\"].mean()"
   ]
  },
  {
   "cell_type": "code",
   "execution_count": 18,
   "metadata": {},
   "outputs": [
    {
     "data": {
      "text/plain": [
       "array([0.75713415, 0.57374578])"
      ]
     },
     "execution_count": 18,
     "metadata": {},
     "output_type": "execute_result"
    }
   ],
   "source": [
    "np.stack(best_swnu_network_umap_kfold_5[\"f1_scores\"]).mean(axis=0)"
   ]
  },
  {
   "cell_type": "code",
   "execution_count": 19,
   "metadata": {},
   "outputs": [
    {
     "data": {
      "text/plain": [
       "array([0.77308073, 0.55381037])"
      ]
     },
     "execution_count": 19,
     "metadata": {},
     "output_type": "execute_result"
    }
   ],
   "source": [
    "np.stack(best_swnu_network_umap_kfold_5[\"precision_scores\"]).mean(axis=0)"
   ]
  },
  {
   "cell_type": "code",
   "execution_count": 20,
   "metadata": {},
   "outputs": [
    {
     "data": {
      "text/plain": [
       "array([0.74187691, 0.59527615])"
      ]
     },
     "execution_count": 20,
     "metadata": {},
     "output_type": "execute_result"
    }
   ],
   "source": [
    "np.stack(best_swnu_network_umap_kfold_5[\"recall_scores\"]).mean(axis=0)"
   ]
  },
  {
   "cell_type": "markdown",
   "metadata": {
    "tags": []
   },
   "source": [
    "# w=11"
   ]
  },
  {
   "cell_type": "code",
   "execution_count": 21,
   "metadata": {},
   "outputs": [],
   "source": [
    "size = 11"
   ]
  },
  {
   "cell_type": "markdown",
   "metadata": {},
   "source": [
    "## umap"
   ]
  },
  {
   "cell_type": "code",
   "execution_count": 22,
   "metadata": {},
   "outputs": [
    {
     "data": {
      "application/vnd.jupyter.widget-view+json": {
       "model_id": "1498d0b7b45d48d08344d7fa4ccbef36",
       "version_major": 2,
       "version_minor": 0
      },
      "text/plain": [
       "  0%|          | 0/1 [00:00<?, ?it/s]"
      ]
     },
     "metadata": {},
     "output_type": "display_data"
    },
    {
     "data": {
      "application/vnd.jupyter.widget-view+json": {
       "model_id": "fd3342c471934c0297f9ba10e48516a5",
       "version_major": 2,
       "version_minor": 0
      },
      "text/plain": [
       "  0%|          | 0/1 [00:00<?, ?it/s]"
      ]
     },
     "metadata": {},
     "output_type": "display_data"
    },
    {
     "data": {
      "application/vnd.jupyter.widget-view+json": {
       "model_id": "f336c2cc55024d06a2512c93429657c2",
       "version_major": 2,
       "version_minor": 0
      },
      "text/plain": [
       "  0%|          | 0/1 [00:00<?, ?it/s]"
      ]
     },
     "metadata": {},
     "output_type": "display_data"
    },
    {
     "name": "stdout",
     "output_type": "stream",
     "text": [
      "\n",
      "##################################################\n",
      "dimension: 15 | method: umap\n",
      "[INFO] Concatenating the embeddings to the dataframe...\n",
      "[INFO] - columns beginning with 'e' denote the full embddings.\n",
      "[INFO] - columns beginning with 'd' denote the dimension reduced embeddings.\n",
      "[INFO] Adding time feature columns into dataframe in `.df`.\n",
      "[INFO] Adding 'time_encoding' feature...\n",
      "[INFO] Adding 'time_diff' feature...\n",
      "[INFO] Adding 'timeline_index' feature...\n",
      "[INFO] Padding ids and storing in `.df_padded` and `.array_padded` attributes.\n"
     ]
    },
    {
     "data": {
      "application/vnd.jupyter.widget-view+json": {
       "model_id": "d839942e579641f7ab850b7bd379b178",
       "version_major": 2,
       "version_minor": 0
      },
      "text/plain": [
       "  0%|          | 0/5568 [00:00<?, ?it/s]"
      ]
     },
     "metadata": {},
     "output_type": "display_data"
    },
    {
     "name": "stdout",
     "output_type": "stream",
     "text": [
      "[INFO] The path was created for each item in the dataframe, by looking at its history, so to include embeddings in the FFN input, we concatenate the embeddings for each sentence / text.\n"
     ]
    },
    {
     "data": {
      "application/vnd.jupyter.widget-view+json": {
       "model_id": "29b70c264f0843b4993cbe723a82531d",
       "version_major": 2,
       "version_minor": 0
      },
      "text/plain": [
       "  0%|          | 0/2 [00:00<?, ?it/s]"
      ]
     },
     "metadata": {},
     "output_type": "display_data"
    },
    {
     "data": {
      "application/vnd.jupyter.widget-view+json": {
       "model_id": "b812da29077f4ec79d8b0f5ac1171c6e",
       "version_major": 2,
       "version_minor": 0
      },
      "text/plain": [
       "  0%|          | 0/2 [00:00<?, ?it/s]"
      ]
     },
     "metadata": {},
     "output_type": "display_data"
    },
    {
     "data": {
      "application/vnd.jupyter.widget-view+json": {
       "model_id": "e43b4bf6a131478791410b9af4865780",
       "version_major": 2,
       "version_minor": 0
      },
      "text/plain": [
       "  0%|          | 0/1 [00:00<?, ?it/s]"
      ]
     },
     "metadata": {},
     "output_type": "display_data"
    },
    {
     "data": {
      "application/vnd.jupyter.widget-view+json": {
       "model_id": "e776b2d7d24142c297f950b108a007a1",
       "version_major": 2,
       "version_minor": 0
      },
      "text/plain": [
       "  0%|          | 0/2 [00:00<?, ?it/s]"
      ]
     },
     "metadata": {},
     "output_type": "display_data"
    },
    {
     "data": {
      "application/vnd.jupyter.widget-view+json": {
       "model_id": "9290879f345d496a99af399f9d1bc58b",
       "version_major": 2,
       "version_minor": 0
      },
      "text/plain": [
       "  0%|          | 0/3 [00:00<?, ?it/s]"
      ]
     },
     "metadata": {},
     "output_type": "display_data"
    },
    {
     "data": {
      "application/vnd.jupyter.widget-view+json": {
       "model_id": "2f101897e976434b8c1d0ac6eec2aaef",
       "version_major": 2,
       "version_minor": 0
      },
      "text/plain": [
       "  0%|          | 0/3 [00:00<?, ?it/s]"
      ]
     },
     "metadata": {},
     "output_type": "display_data"
    },
    {
     "data": {
      "application/vnd.jupyter.widget-view+json": {
       "model_id": "c2ab20b9d7cc4650adbdf75c2972364c",
       "version_major": 2,
       "version_minor": 0
      },
      "text/plain": [
       "  0%|          | 0/1 [00:00<?, ?it/s]"
      ]
     },
     "metadata": {},
     "output_type": "display_data"
    },
    {
     "data": {
      "application/vnd.jupyter.widget-view+json": {
       "model_id": "ae841f34b39a43d5ad705ff071bf75bd",
       "version_major": 2,
       "version_minor": 0
      },
      "text/plain": [
       "  0%|          | 0/2 [00:00<?, ?it/s]"
      ]
     },
     "metadata": {},
     "output_type": "display_data"
    },
    {
     "data": {
      "application/vnd.jupyter.widget-view+json": {
       "model_id": "efdc0bcf62524eedb92e329ca3ffde21",
       "version_major": 2,
       "version_minor": 0
      },
      "text/plain": [
       "  0%|          | 0/3 [00:00<?, ?it/s]"
      ]
     },
     "metadata": {},
     "output_type": "display_data"
    },
    {
     "data": {
      "application/vnd.jupyter.widget-view+json": {
       "model_id": "a8ec38b9d20e45aa84e6cfd93f668d91",
       "version_major": 2,
       "version_minor": 0
      },
      "text/plain": [
       "  0%|          | 0/3 [00:00<?, ?it/s]"
      ]
     },
     "metadata": {},
     "output_type": "display_data"
    },
    {
     "data": {
      "application/vnd.jupyter.widget-view+json": {
       "model_id": "f2f20edf69d9419581b57e93d3667dd5",
       "version_major": 2,
       "version_minor": 0
      },
      "text/plain": [
       "  0%|          | 0/2 [00:00<?, ?it/s]"
      ]
     },
     "metadata": {},
     "output_type": "display_data"
    },
    {
     "data": {
      "application/vnd.jupyter.widget-view+json": {
       "model_id": "9bcb0c6d54b94deba488c995aee0bca4",
       "version_major": 2,
       "version_minor": 0
      },
      "text/plain": [
       "  0%|          | 0/1 [00:00<?, ?it/s]"
      ]
     },
     "metadata": {},
     "output_type": "display_data"
    },
    {
     "data": {
      "application/vnd.jupyter.widget-view+json": {
       "model_id": "f568fb96c9cd404491340f7b99b72209",
       "version_major": 2,
       "version_minor": 0
      },
      "text/plain": [
       "  0%|          | 0/2 [00:00<?, ?it/s]"
      ]
     },
     "metadata": {},
     "output_type": "display_data"
    },
    {
     "data": {
      "application/vnd.jupyter.widget-view+json": {
       "model_id": "4838b5878dfe424d95801e3ed525686b",
       "version_major": 2,
       "version_minor": 0
      },
      "text/plain": [
       "  0%|          | 0/3 [00:00<?, ?it/s]"
      ]
     },
     "metadata": {},
     "output_type": "display_data"
    },
    {
     "data": {
      "application/vnd.jupyter.widget-view+json": {
       "model_id": "12b5d4a65bbd4e75801d1ce98467372f",
       "version_major": 2,
       "version_minor": 0
      },
      "text/plain": [
       "  0%|          | 0/3 [00:00<?, ?it/s]"
      ]
     },
     "metadata": {},
     "output_type": "display_data"
    },
    {
     "data": {
      "application/vnd.jupyter.widget-view+json": {
       "model_id": "cbf760b900154be1a006608b014a4dc2",
       "version_major": 2,
       "version_minor": 0
      },
      "text/plain": [
       "  0%|          | 0/1 [00:00<?, ?it/s]"
      ]
     },
     "metadata": {},
     "output_type": "display_data"
    },
    {
     "data": {
      "application/vnd.jupyter.widget-view+json": {
       "model_id": "10751004fc9f41f38b9395a1b05587df",
       "version_major": 2,
       "version_minor": 0
      },
      "text/plain": [
       "  0%|          | 0/2 [00:00<?, ?it/s]"
      ]
     },
     "metadata": {},
     "output_type": "display_data"
    },
    {
     "data": {
      "application/vnd.jupyter.widget-view+json": {
       "model_id": "e258c0342af44c4ea68701ce05a6a0d3",
       "version_major": 2,
       "version_minor": 0
      },
      "text/plain": [
       "  0%|          | 0/3 [00:00<?, ?it/s]"
      ]
     },
     "metadata": {},
     "output_type": "display_data"
    },
    {
     "data": {
      "application/vnd.jupyter.widget-view+json": {
       "model_id": "bb824a75c7df4d84979853080d3ea018",
       "version_major": 2,
       "version_minor": 0
      },
      "text/plain": [
       "  0%|          | 0/3 [00:00<?, ?it/s]"
      ]
     },
     "metadata": {},
     "output_type": "display_data"
    },
    {
     "name": "stdout",
     "output_type": "stream",
     "text": [
      "[INFO] Concatenating the embeddings to the dataframe...\n",
      "[INFO] - columns beginning with 'e' denote the full embddings.\n",
      "[INFO] - columns beginning with 'd' denote the dimension reduced embeddings.\n",
      "[INFO] Adding time feature columns into dataframe in `.df`.\n",
      "[INFO] Adding 'time_encoding' feature...\n",
      "[INFO] Adding 'time_diff' feature...\n",
      "[INFO] Adding 'timeline_index' feature...\n",
      "[INFO] Padding ids and storing in `.df_padded` and `.array_padded` attributes.\n"
     ]
    },
    {
     "data": {
      "application/vnd.jupyter.widget-view+json": {
       "model_id": "f36e471d62404c2f9d3551b5e4ac2392",
       "version_major": 2,
       "version_minor": 0
      },
      "text/plain": [
       "  0%|          | 0/5568 [00:00<?, ?it/s]"
      ]
     },
     "metadata": {},
     "output_type": "display_data"
    },
    {
     "name": "stdout",
     "output_type": "stream",
     "text": [
      "[INFO] The path was created for each item in the dataframe, by looking at its history, so to include embeddings in the FFN input, we concatenate the embeddings for each sentence / text.\n",
      "saving results dataframe to CSV for this hyperparameter search in rumours_output/swnu_network_umap_focal_2_11_kfold.csv\n",
      "saving the best model results dataframe to CSV for this hyperparameter search in rumours_output/swnu_network_umap_focal_2_11_kfold_best_model.csv\n"
     ]
    }
   ],
   "source": [
    "(\n",
    "    swnu_network_umap_kfold_11,\n",
    "    best_swnu_network_umap_kfold_11,\n",
    "    _,\n",
    "    __,\n",
    ") = swnu_network_hyperparameter_search(\n",
    "    history_lengths=[size],\n",
    "    dim_reduce_methods=[\"umap\"],\n",
    "    results_output=f\"{output_dir}/swnu_network_umap_focal_{gamma}_{size}_kfold.csv\",\n",
    "    **kwargs,\n",
    ")"
   ]
  },
  {
   "cell_type": "code",
   "execution_count": 23,
   "metadata": {},
   "outputs": [
    {
     "name": "stderr",
     "output_type": "stream",
     "text": [
      "/tmp/ipykernel_2989159/2463364505.py:1: FutureWarning: The default value of numeric_only in DataFrameGroupBy.mean is deprecated. In a future version, numeric_only will default to False. Either specify numeric_only or select only columns which should be valid for the function.\n",
      "  swnu_network_umap_kfold_11.groupby(\n"
     ]
    },
    {
     "data": {
      "text/html": [
       "<div>\n",
       "<style scoped>\n",
       "    .dataframe tbody tr th:only-of-type {\n",
       "        vertical-align: middle;\n",
       "    }\n",
       "\n",
       "    .dataframe tbody tr th {\n",
       "        vertical-align: top;\n",
       "    }\n",
       "\n",
       "    .dataframe thead th {\n",
       "        text-align: right;\n",
       "    }\n",
       "</style>\n",
       "<table border=\"1\" class=\"dataframe\">\n",
       "  <thead>\n",
       "    <tr style=\"text-align: right;\">\n",
       "      <th></th>\n",
       "      <th></th>\n",
       "      <th></th>\n",
       "      <th></th>\n",
       "      <th></th>\n",
       "      <th>accuracy</th>\n",
       "      <th>f1</th>\n",
       "      <th>precision</th>\n",
       "      <th>recall</th>\n",
       "      <th>valid_accuracy</th>\n",
       "      <th>valid_f1</th>\n",
       "      <th>valid_precision</th>\n",
       "      <th>valid_recall</th>\n",
       "      <th>k</th>\n",
       "      <th>sig_depth</th>\n",
       "      <th>...</th>\n",
       "      <th>embedding_dim</th>\n",
       "      <th>num_features</th>\n",
       "      <th>log_signature</th>\n",
       "      <th>seed</th>\n",
       "      <th>BiLSTM</th>\n",
       "      <th>gamma</th>\n",
       "      <th>k_fold</th>\n",
       "      <th>n_splits</th>\n",
       "      <th>batch_size</th>\n",
       "      <th>model_id</th>\n",
       "    </tr>\n",
       "    <tr>\n",
       "      <th>dimensions</th>\n",
       "      <th>swnu_hidden_dim</th>\n",
       "      <th>ffn_hidden_dim</th>\n",
       "      <th>dropout_rate</th>\n",
       "      <th>learning_rate</th>\n",
       "      <th></th>\n",
       "      <th></th>\n",
       "      <th></th>\n",
       "      <th></th>\n",
       "      <th></th>\n",
       "      <th></th>\n",
       "      <th></th>\n",
       "      <th></th>\n",
       "      <th></th>\n",
       "      <th></th>\n",
       "      <th></th>\n",
       "      <th></th>\n",
       "      <th></th>\n",
       "      <th></th>\n",
       "      <th></th>\n",
       "      <th></th>\n",
       "      <th></th>\n",
       "      <th></th>\n",
       "      <th></th>\n",
       "      <th></th>\n",
       "      <th></th>\n",
       "    </tr>\n",
       "  </thead>\n",
       "  <tbody>\n",
       "    <tr>\n",
       "      <th rowspan=\"24\" valign=\"top\">15</th>\n",
       "      <th rowspan=\"12\" valign=\"top\">(10,)</th>\n",
       "      <th rowspan=\"6\" valign=\"top\">(256, 256)</th>\n",
       "      <th rowspan=\"3\" valign=\"top\">0.1</th>\n",
       "      <th>0.0001</th>\n",
       "      <td>0.685306</td>\n",
       "      <td>0.664227</td>\n",
       "      <td>0.661929</td>\n",
       "      <td>0.670708</td>\n",
       "      <td>0.731320</td>\n",
       "      <td>0.718312</td>\n",
       "      <td>0.716586</td>\n",
       "      <td>0.721057</td>\n",
       "      <td>11.0</td>\n",
       "      <td>4.0</td>\n",
       "      <td>...</td>\n",
       "      <td>384.0</td>\n",
       "      <td>2.0</td>\n",
       "      <td>1.0</td>\n",
       "      <td>45.333333</td>\n",
       "      <td>1.0</td>\n",
       "      <td>2.0</td>\n",
       "      <td>1.0</td>\n",
       "      <td>5.0</td>\n",
       "      <td>64.0</td>\n",
       "      <td>13.0</td>\n",
       "    </tr>\n",
       "    <tr>\n",
       "      <th>0.0005</th>\n",
       "      <td>0.685430</td>\n",
       "      <td>0.664020</td>\n",
       "      <td>0.661489</td>\n",
       "      <td>0.670065</td>\n",
       "      <td>0.737701</td>\n",
       "      <td>0.722783</td>\n",
       "      <td>0.722210</td>\n",
       "      <td>0.723451</td>\n",
       "      <td>11.0</td>\n",
       "      <td>4.0</td>\n",
       "      <td>...</td>\n",
       "      <td>384.0</td>\n",
       "      <td>2.0</td>\n",
       "      <td>1.0</td>\n",
       "      <td>45.333333</td>\n",
       "      <td>1.0</td>\n",
       "      <td>2.0</td>\n",
       "      <td>1.0</td>\n",
       "      <td>5.0</td>\n",
       "      <td>64.0</td>\n",
       "      <td>14.0</td>\n",
       "    </tr>\n",
       "    <tr>\n",
       "      <th>0.0010</th>\n",
       "      <td>0.693135</td>\n",
       "      <td>0.668533</td>\n",
       "      <td>0.666470</td>\n",
       "      <td>0.671971</td>\n",
       "      <td>0.731096</td>\n",
       "      <td>0.714090</td>\n",
       "      <td>0.714856</td>\n",
       "      <td>0.713429</td>\n",
       "      <td>11.0</td>\n",
       "      <td>4.0</td>\n",
       "      <td>...</td>\n",
       "      <td>384.0</td>\n",
       "      <td>2.0</td>\n",
       "      <td>1.0</td>\n",
       "      <td>45.333333</td>\n",
       "      <td>1.0</td>\n",
       "      <td>2.0</td>\n",
       "      <td>1.0</td>\n",
       "      <td>5.0</td>\n",
       "      <td>64.0</td>\n",
       "      <td>12.0</td>\n",
       "    </tr>\n",
       "    <tr>\n",
       "      <th rowspan=\"3\" valign=\"top\">0.2</th>\n",
       "      <th>0.0001</th>\n",
       "      <td>0.683939</td>\n",
       "      <td>0.663859</td>\n",
       "      <td>0.661496</td>\n",
       "      <td>0.671174</td>\n",
       "      <td>0.731186</td>\n",
       "      <td>0.719012</td>\n",
       "      <td>0.716925</td>\n",
       "      <td>0.722577</td>\n",
       "      <td>11.0</td>\n",
       "      <td>4.0</td>\n",
       "      <td>...</td>\n",
       "      <td>384.0</td>\n",
       "      <td>2.0</td>\n",
       "      <td>1.0</td>\n",
       "      <td>45.333333</td>\n",
       "      <td>1.0</td>\n",
       "      <td>2.0</td>\n",
       "      <td>1.0</td>\n",
       "      <td>5.0</td>\n",
       "      <td>64.0</td>\n",
       "      <td>16.0</td>\n",
       "    </tr>\n",
       "    <tr>\n",
       "      <th>0.0005</th>\n",
       "      <td>0.686424</td>\n",
       "      <td>0.666887</td>\n",
       "      <td>0.664441</td>\n",
       "      <td>0.674562</td>\n",
       "      <td>0.733073</td>\n",
       "      <td>0.719720</td>\n",
       "      <td>0.718118</td>\n",
       "      <td>0.722065</td>\n",
       "      <td>11.0</td>\n",
       "      <td>4.0</td>\n",
       "      <td>...</td>\n",
       "      <td>384.0</td>\n",
       "      <td>2.0</td>\n",
       "      <td>1.0</td>\n",
       "      <td>45.333333</td>\n",
       "      <td>1.0</td>\n",
       "      <td>2.0</td>\n",
       "      <td>1.0</td>\n",
       "      <td>5.0</td>\n",
       "      <td>64.0</td>\n",
       "      <td>17.0</td>\n",
       "    </tr>\n",
       "    <tr>\n",
       "      <th>0.0010</th>\n",
       "      <td>0.690960</td>\n",
       "      <td>0.667018</td>\n",
       "      <td>0.664841</td>\n",
       "      <td>0.670996</td>\n",
       "      <td>0.727457</td>\n",
       "      <td>0.711792</td>\n",
       "      <td>0.711596</td>\n",
       "      <td>0.712412</td>\n",
       "      <td>11.0</td>\n",
       "      <td>4.0</td>\n",
       "      <td>...</td>\n",
       "      <td>384.0</td>\n",
       "      <td>2.0</td>\n",
       "      <td>1.0</td>\n",
       "      <td>45.333333</td>\n",
       "      <td>1.0</td>\n",
       "      <td>2.0</td>\n",
       "      <td>1.0</td>\n",
       "      <td>5.0</td>\n",
       "      <td>64.0</td>\n",
       "      <td>15.0</td>\n",
       "    </tr>\n",
       "    <tr>\n",
       "      <th rowspan=\"6\" valign=\"top\">(512, 512)</th>\n",
       "      <th rowspan=\"3\" valign=\"top\">0.1</th>\n",
       "      <th>0.0001</th>\n",
       "      <td>0.691519</td>\n",
       "      <td>0.669747</td>\n",
       "      <td>0.667651</td>\n",
       "      <td>0.675609</td>\n",
       "      <td>0.733881</td>\n",
       "      <td>0.719295</td>\n",
       "      <td>0.718906</td>\n",
       "      <td>0.720750</td>\n",
       "      <td>11.0</td>\n",
       "      <td>4.0</td>\n",
       "      <td>...</td>\n",
       "      <td>384.0</td>\n",
       "      <td>2.0</td>\n",
       "      <td>1.0</td>\n",
       "      <td>45.333333</td>\n",
       "      <td>1.0</td>\n",
       "      <td>2.0</td>\n",
       "      <td>1.0</td>\n",
       "      <td>5.0</td>\n",
       "      <td>64.0</td>\n",
       "      <td>19.0</td>\n",
       "    </tr>\n",
       "    <tr>\n",
       "      <th>0.0005</th>\n",
       "      <td>0.679404</td>\n",
       "      <td>0.663382</td>\n",
       "      <td>0.662076</td>\n",
       "      <td>0.674781</td>\n",
       "      <td>0.731276</td>\n",
       "      <td>0.720950</td>\n",
       "      <td>0.718690</td>\n",
       "      <td>0.726656</td>\n",
       "      <td>11.0</td>\n",
       "      <td>4.0</td>\n",
       "      <td>...</td>\n",
       "      <td>384.0</td>\n",
       "      <td>2.0</td>\n",
       "      <td>1.0</td>\n",
       "      <td>45.333333</td>\n",
       "      <td>1.0</td>\n",
       "      <td>2.0</td>\n",
       "      <td>1.0</td>\n",
       "      <td>5.0</td>\n",
       "      <td>64.0</td>\n",
       "      <td>20.0</td>\n",
       "    </tr>\n",
       "    <tr>\n",
       "      <th>0.0010</th>\n",
       "      <td>0.690774</td>\n",
       "      <td>0.664446</td>\n",
       "      <td>0.663095</td>\n",
       "      <td>0.666915</td>\n",
       "      <td>0.732399</td>\n",
       "      <td>0.714410</td>\n",
       "      <td>0.716568</td>\n",
       "      <td>0.713169</td>\n",
       "      <td>11.0</td>\n",
       "      <td>4.0</td>\n",
       "      <td>...</td>\n",
       "      <td>384.0</td>\n",
       "      <td>2.0</td>\n",
       "      <td>1.0</td>\n",
       "      <td>45.333333</td>\n",
       "      <td>1.0</td>\n",
       "      <td>2.0</td>\n",
       "      <td>1.0</td>\n",
       "      <td>5.0</td>\n",
       "      <td>64.0</td>\n",
       "      <td>18.0</td>\n",
       "    </tr>\n",
       "    <tr>\n",
       "      <th rowspan=\"3\" valign=\"top\">0.2</th>\n",
       "      <th>0.0001</th>\n",
       "      <td>0.694936</td>\n",
       "      <td>0.671949</td>\n",
       "      <td>0.669727</td>\n",
       "      <td>0.676638</td>\n",
       "      <td>0.735454</td>\n",
       "      <td>0.720730</td>\n",
       "      <td>0.720192</td>\n",
       "      <td>0.721839</td>\n",
       "      <td>11.0</td>\n",
       "      <td>4.0</td>\n",
       "      <td>...</td>\n",
       "      <td>384.0</td>\n",
       "      <td>2.0</td>\n",
       "      <td>1.0</td>\n",
       "      <td>45.333333</td>\n",
       "      <td>1.0</td>\n",
       "      <td>2.0</td>\n",
       "      <td>1.0</td>\n",
       "      <td>5.0</td>\n",
       "      <td>64.0</td>\n",
       "      <td>22.0</td>\n",
       "    </tr>\n",
       "    <tr>\n",
       "      <th>0.0005</th>\n",
       "      <td>0.683380</td>\n",
       "      <td>0.664385</td>\n",
       "      <td>0.662099</td>\n",
       "      <td>0.672671</td>\n",
       "      <td>0.733567</td>\n",
       "      <td>0.720558</td>\n",
       "      <td>0.719019</td>\n",
       "      <td>0.723234</td>\n",
       "      <td>11.0</td>\n",
       "      <td>4.0</td>\n",
       "      <td>...</td>\n",
       "      <td>384.0</td>\n",
       "      <td>2.0</td>\n",
       "      <td>1.0</td>\n",
       "      <td>45.333333</td>\n",
       "      <td>1.0</td>\n",
       "      <td>2.0</td>\n",
       "      <td>1.0</td>\n",
       "      <td>5.0</td>\n",
       "      <td>64.0</td>\n",
       "      <td>23.0</td>\n",
       "    </tr>\n",
       "    <tr>\n",
       "      <th>0.0010</th>\n",
       "      <td>0.685120</td>\n",
       "      <td>0.665520</td>\n",
       "      <td>0.663539</td>\n",
       "      <td>0.673435</td>\n",
       "      <td>0.723862</td>\n",
       "      <td>0.710536</td>\n",
       "      <td>0.709442</td>\n",
       "      <td>0.713537</td>\n",
       "      <td>11.0</td>\n",
       "      <td>4.0</td>\n",
       "      <td>...</td>\n",
       "      <td>384.0</td>\n",
       "      <td>2.0</td>\n",
       "      <td>1.0</td>\n",
       "      <td>45.333333</td>\n",
       "      <td>1.0</td>\n",
       "      <td>2.0</td>\n",
       "      <td>1.0</td>\n",
       "      <td>5.0</td>\n",
       "      <td>64.0</td>\n",
       "      <td>21.0</td>\n",
       "    </tr>\n",
       "    <tr>\n",
       "      <th rowspan=\"12\" valign=\"top\">(12,)</th>\n",
       "      <th rowspan=\"6\" valign=\"top\">(256, 256)</th>\n",
       "      <th rowspan=\"3\" valign=\"top\">0.1</th>\n",
       "      <th>0.0001</th>\n",
       "      <td>0.694936</td>\n",
       "      <td>0.672894</td>\n",
       "      <td>0.670553</td>\n",
       "      <td>0.678319</td>\n",
       "      <td>0.745968</td>\n",
       "      <td>0.731696</td>\n",
       "      <td>0.731422</td>\n",
       "      <td>0.732710</td>\n",
       "      <td>11.0</td>\n",
       "      <td>3.0</td>\n",
       "      <td>...</td>\n",
       "      <td>384.0</td>\n",
       "      <td>2.0</td>\n",
       "      <td>1.0</td>\n",
       "      <td>45.333333</td>\n",
       "      <td>1.0</td>\n",
       "      <td>2.0</td>\n",
       "      <td>1.0</td>\n",
       "      <td>5.0</td>\n",
       "      <td>64.0</td>\n",
       "      <td>1.0</td>\n",
       "    </tr>\n",
       "    <tr>\n",
       "      <th>0.0005</th>\n",
       "      <td>0.701149</td>\n",
       "      <td>0.677857</td>\n",
       "      <td>0.675621</td>\n",
       "      <td>0.682072</td>\n",
       "      <td>0.746102</td>\n",
       "      <td>0.731168</td>\n",
       "      <td>0.731147</td>\n",
       "      <td>0.731529</td>\n",
       "      <td>11.0</td>\n",
       "      <td>3.0</td>\n",
       "      <td>...</td>\n",
       "      <td>384.0</td>\n",
       "      <td>2.0</td>\n",
       "      <td>1.0</td>\n",
       "      <td>45.333333</td>\n",
       "      <td>1.0</td>\n",
       "      <td>2.0</td>\n",
       "      <td>1.0</td>\n",
       "      <td>5.0</td>\n",
       "      <td>64.0</td>\n",
       "      <td>2.0</td>\n",
       "    </tr>\n",
       "    <tr>\n",
       "      <th>0.0010</th>\n",
       "      <td>0.687418</td>\n",
       "      <td>0.666203</td>\n",
       "      <td>0.663690</td>\n",
       "      <td>0.672414</td>\n",
       "      <td>0.729703</td>\n",
       "      <td>0.715929</td>\n",
       "      <td>0.714553</td>\n",
       "      <td>0.717962</td>\n",
       "      <td>11.0</td>\n",
       "      <td>3.0</td>\n",
       "      <td>...</td>\n",
       "      <td>384.0</td>\n",
       "      <td>2.0</td>\n",
       "      <td>1.0</td>\n",
       "      <td>45.333333</td>\n",
       "      <td>1.0</td>\n",
       "      <td>2.0</td>\n",
       "      <td>1.0</td>\n",
       "      <td>5.0</td>\n",
       "      <td>64.0</td>\n",
       "      <td>0.0</td>\n",
       "    </tr>\n",
       "    <tr>\n",
       "      <th rowspan=\"3\" valign=\"top\">0.2</th>\n",
       "      <th>0.0001</th>\n",
       "      <td>0.695993</td>\n",
       "      <td>0.674500</td>\n",
       "      <td>0.671984</td>\n",
       "      <td>0.680198</td>\n",
       "      <td>0.747720</td>\n",
       "      <td>0.733652</td>\n",
       "      <td>0.733162</td>\n",
       "      <td>0.734782</td>\n",
       "      <td>11.0</td>\n",
       "      <td>3.0</td>\n",
       "      <td>...</td>\n",
       "      <td>384.0</td>\n",
       "      <td>2.0</td>\n",
       "      <td>1.0</td>\n",
       "      <td>45.333333</td>\n",
       "      <td>1.0</td>\n",
       "      <td>2.0</td>\n",
       "      <td>1.0</td>\n",
       "      <td>5.0</td>\n",
       "      <td>64.0</td>\n",
       "      <td>4.0</td>\n",
       "    </tr>\n",
       "    <tr>\n",
       "      <th>0.0005</th>\n",
       "      <td>0.689779</td>\n",
       "      <td>0.670456</td>\n",
       "      <td>0.668105</td>\n",
       "      <td>0.678413</td>\n",
       "      <td>0.742059</td>\n",
       "      <td>0.729623</td>\n",
       "      <td>0.727795</td>\n",
       "      <td>0.732562</td>\n",
       "      <td>11.0</td>\n",
       "      <td>3.0</td>\n",
       "      <td>...</td>\n",
       "      <td>384.0</td>\n",
       "      <td>2.0</td>\n",
       "      <td>1.0</td>\n",
       "      <td>45.333333</td>\n",
       "      <td>1.0</td>\n",
       "      <td>2.0</td>\n",
       "      <td>1.0</td>\n",
       "      <td>5.0</td>\n",
       "      <td>64.0</td>\n",
       "      <td>5.0</td>\n",
       "    </tr>\n",
       "    <tr>\n",
       "      <th>0.0010</th>\n",
       "      <td>0.691022</td>\n",
       "      <td>0.669228</td>\n",
       "      <td>0.666819</td>\n",
       "      <td>0.674858</td>\n",
       "      <td>0.731096</td>\n",
       "      <td>0.716620</td>\n",
       "      <td>0.715808</td>\n",
       "      <td>0.718001</td>\n",
       "      <td>11.0</td>\n",
       "      <td>3.0</td>\n",
       "      <td>...</td>\n",
       "      <td>384.0</td>\n",
       "      <td>2.0</td>\n",
       "      <td>1.0</td>\n",
       "      <td>45.333333</td>\n",
       "      <td>1.0</td>\n",
       "      <td>2.0</td>\n",
       "      <td>1.0</td>\n",
       "      <td>5.0</td>\n",
       "      <td>64.0</td>\n",
       "      <td>3.0</td>\n",
       "    </tr>\n",
       "    <tr>\n",
       "      <th rowspan=\"6\" valign=\"top\">(512, 512)</th>\n",
       "      <th rowspan=\"3\" valign=\"top\">0.1</th>\n",
       "      <th>0.0001</th>\n",
       "      <td>0.696365</td>\n",
       "      <td>0.676612</td>\n",
       "      <td>0.673844</td>\n",
       "      <td>0.683847</td>\n",
       "      <td>0.743182</td>\n",
       "      <td>0.729665</td>\n",
       "      <td>0.728332</td>\n",
       "      <td>0.731342</td>\n",
       "      <td>11.0</td>\n",
       "      <td>3.0</td>\n",
       "      <td>...</td>\n",
       "      <td>384.0</td>\n",
       "      <td>2.0</td>\n",
       "      <td>1.0</td>\n",
       "      <td>45.333333</td>\n",
       "      <td>1.0</td>\n",
       "      <td>2.0</td>\n",
       "      <td>1.0</td>\n",
       "      <td>5.0</td>\n",
       "      <td>64.0</td>\n",
       "      <td>7.0</td>\n",
       "    </tr>\n",
       "    <tr>\n",
       "      <th>0.0005</th>\n",
       "      <td>0.691954</td>\n",
       "      <td>0.671072</td>\n",
       "      <td>0.668366</td>\n",
       "      <td>0.677379</td>\n",
       "      <td>0.738779</td>\n",
       "      <td>0.724427</td>\n",
       "      <td>0.723520</td>\n",
       "      <td>0.725499</td>\n",
       "      <td>11.0</td>\n",
       "      <td>3.0</td>\n",
       "      <td>...</td>\n",
       "      <td>384.0</td>\n",
       "      <td>2.0</td>\n",
       "      <td>1.0</td>\n",
       "      <td>45.333333</td>\n",
       "      <td>1.0</td>\n",
       "      <td>2.0</td>\n",
       "      <td>1.0</td>\n",
       "      <td>5.0</td>\n",
       "      <td>64.0</td>\n",
       "      <td>8.0</td>\n",
       "    </tr>\n",
       "    <tr>\n",
       "      <th>0.0010</th>\n",
       "      <td>0.686176</td>\n",
       "      <td>0.664224</td>\n",
       "      <td>0.663064</td>\n",
       "      <td>0.670802</td>\n",
       "      <td>0.730018</td>\n",
       "      <td>0.715372</td>\n",
       "      <td>0.716015</td>\n",
       "      <td>0.717424</td>\n",
       "      <td>11.0</td>\n",
       "      <td>3.0</td>\n",
       "      <td>...</td>\n",
       "      <td>384.0</td>\n",
       "      <td>2.0</td>\n",
       "      <td>1.0</td>\n",
       "      <td>45.333333</td>\n",
       "      <td>1.0</td>\n",
       "      <td>2.0</td>\n",
       "      <td>1.0</td>\n",
       "      <td>5.0</td>\n",
       "      <td>64.0</td>\n",
       "      <td>6.0</td>\n",
       "    </tr>\n",
       "    <tr>\n",
       "      <th rowspan=\"3\" valign=\"top\">0.2</th>\n",
       "      <th>0.0001</th>\n",
       "      <td>0.697111</td>\n",
       "      <td>0.675819</td>\n",
       "      <td>0.673177</td>\n",
       "      <td>0.681632</td>\n",
       "      <td>0.745159</td>\n",
       "      <td>0.730820</td>\n",
       "      <td>0.730137</td>\n",
       "      <td>0.731649</td>\n",
       "      <td>11.0</td>\n",
       "      <td>3.0</td>\n",
       "      <td>...</td>\n",
       "      <td>384.0</td>\n",
       "      <td>2.0</td>\n",
       "      <td>1.0</td>\n",
       "      <td>45.333333</td>\n",
       "      <td>1.0</td>\n",
       "      <td>2.0</td>\n",
       "      <td>1.0</td>\n",
       "      <td>5.0</td>\n",
       "      <td>64.0</td>\n",
       "      <td>10.0</td>\n",
       "    </tr>\n",
       "    <tr>\n",
       "      <th>0.0005</th>\n",
       "      <td>0.696800</td>\n",
       "      <td>0.674552</td>\n",
       "      <td>0.672493</td>\n",
       "      <td>0.679958</td>\n",
       "      <td>0.742643</td>\n",
       "      <td>0.727096</td>\n",
       "      <td>0.727713</td>\n",
       "      <td>0.727308</td>\n",
       "      <td>11.0</td>\n",
       "      <td>3.0</td>\n",
       "      <td>...</td>\n",
       "      <td>384.0</td>\n",
       "      <td>2.0</td>\n",
       "      <td>1.0</td>\n",
       "      <td>45.333333</td>\n",
       "      <td>1.0</td>\n",
       "      <td>2.0</td>\n",
       "      <td>1.0</td>\n",
       "      <td>5.0</td>\n",
       "      <td>64.0</td>\n",
       "      <td>11.0</td>\n",
       "    </tr>\n",
       "    <tr>\n",
       "      <th>0.0010</th>\n",
       "      <td>0.682510</td>\n",
       "      <td>0.663531</td>\n",
       "      <td>0.661313</td>\n",
       "      <td>0.671838</td>\n",
       "      <td>0.723907</td>\n",
       "      <td>0.711901</td>\n",
       "      <td>0.709877</td>\n",
       "      <td>0.715859</td>\n",
       "      <td>11.0</td>\n",
       "      <td>3.0</td>\n",
       "      <td>...</td>\n",
       "      <td>384.0</td>\n",
       "      <td>2.0</td>\n",
       "      <td>1.0</td>\n",
       "      <td>45.333333</td>\n",
       "      <td>1.0</td>\n",
       "      <td>2.0</td>\n",
       "      <td>1.0</td>\n",
       "      <td>5.0</td>\n",
       "      <td>64.0</td>\n",
       "      <td>9.0</td>\n",
       "    </tr>\n",
       "  </tbody>\n",
       "</table>\n",
       "<p>24 rows × 23 columns</p>\n",
       "</div>"
      ],
      "text/plain": [
       "                                                                      accuracy  \\\n",
       "dimensions swnu_hidden_dim ffn_hidden_dim dropout_rate learning_rate             \n",
       "15         (10,)           (256, 256)     0.1          0.0001         0.685306   \n",
       "                                                       0.0005         0.685430   \n",
       "                                                       0.0010         0.693135   \n",
       "                                          0.2          0.0001         0.683939   \n",
       "                                                       0.0005         0.686424   \n",
       "                                                       0.0010         0.690960   \n",
       "                           (512, 512)     0.1          0.0001         0.691519   \n",
       "                                                       0.0005         0.679404   \n",
       "                                                       0.0010         0.690774   \n",
       "                                          0.2          0.0001         0.694936   \n",
       "                                                       0.0005         0.683380   \n",
       "                                                       0.0010         0.685120   \n",
       "           (12,)           (256, 256)     0.1          0.0001         0.694936   \n",
       "                                                       0.0005         0.701149   \n",
       "                                                       0.0010         0.687418   \n",
       "                                          0.2          0.0001         0.695993   \n",
       "                                                       0.0005         0.689779   \n",
       "                                                       0.0010         0.691022   \n",
       "                           (512, 512)     0.1          0.0001         0.696365   \n",
       "                                                       0.0005         0.691954   \n",
       "                                                       0.0010         0.686176   \n",
       "                                          0.2          0.0001         0.697111   \n",
       "                                                       0.0005         0.696800   \n",
       "                                                       0.0010         0.682510   \n",
       "\n",
       "                                                                            f1  \\\n",
       "dimensions swnu_hidden_dim ffn_hidden_dim dropout_rate learning_rate             \n",
       "15         (10,)           (256, 256)     0.1          0.0001         0.664227   \n",
       "                                                       0.0005         0.664020   \n",
       "                                                       0.0010         0.668533   \n",
       "                                          0.2          0.0001         0.663859   \n",
       "                                                       0.0005         0.666887   \n",
       "                                                       0.0010         0.667018   \n",
       "                           (512, 512)     0.1          0.0001         0.669747   \n",
       "                                                       0.0005         0.663382   \n",
       "                                                       0.0010         0.664446   \n",
       "                                          0.2          0.0001         0.671949   \n",
       "                                                       0.0005         0.664385   \n",
       "                                                       0.0010         0.665520   \n",
       "           (12,)           (256, 256)     0.1          0.0001         0.672894   \n",
       "                                                       0.0005         0.677857   \n",
       "                                                       0.0010         0.666203   \n",
       "                                          0.2          0.0001         0.674500   \n",
       "                                                       0.0005         0.670456   \n",
       "                                                       0.0010         0.669228   \n",
       "                           (512, 512)     0.1          0.0001         0.676612   \n",
       "                                                       0.0005         0.671072   \n",
       "                                                       0.0010         0.664224   \n",
       "                                          0.2          0.0001         0.675819   \n",
       "                                                       0.0005         0.674552   \n",
       "                                                       0.0010         0.663531   \n",
       "\n",
       "                                                                      precision  \\\n",
       "dimensions swnu_hidden_dim ffn_hidden_dim dropout_rate learning_rate              \n",
       "15         (10,)           (256, 256)     0.1          0.0001          0.661929   \n",
       "                                                       0.0005          0.661489   \n",
       "                                                       0.0010          0.666470   \n",
       "                                          0.2          0.0001          0.661496   \n",
       "                                                       0.0005          0.664441   \n",
       "                                                       0.0010          0.664841   \n",
       "                           (512, 512)     0.1          0.0001          0.667651   \n",
       "                                                       0.0005          0.662076   \n",
       "                                                       0.0010          0.663095   \n",
       "                                          0.2          0.0001          0.669727   \n",
       "                                                       0.0005          0.662099   \n",
       "                                                       0.0010          0.663539   \n",
       "           (12,)           (256, 256)     0.1          0.0001          0.670553   \n",
       "                                                       0.0005          0.675621   \n",
       "                                                       0.0010          0.663690   \n",
       "                                          0.2          0.0001          0.671984   \n",
       "                                                       0.0005          0.668105   \n",
       "                                                       0.0010          0.666819   \n",
       "                           (512, 512)     0.1          0.0001          0.673844   \n",
       "                                                       0.0005          0.668366   \n",
       "                                                       0.0010          0.663064   \n",
       "                                          0.2          0.0001          0.673177   \n",
       "                                                       0.0005          0.672493   \n",
       "                                                       0.0010          0.661313   \n",
       "\n",
       "                                                                        recall  \\\n",
       "dimensions swnu_hidden_dim ffn_hidden_dim dropout_rate learning_rate             \n",
       "15         (10,)           (256, 256)     0.1          0.0001         0.670708   \n",
       "                                                       0.0005         0.670065   \n",
       "                                                       0.0010         0.671971   \n",
       "                                          0.2          0.0001         0.671174   \n",
       "                                                       0.0005         0.674562   \n",
       "                                                       0.0010         0.670996   \n",
       "                           (512, 512)     0.1          0.0001         0.675609   \n",
       "                                                       0.0005         0.674781   \n",
       "                                                       0.0010         0.666915   \n",
       "                                          0.2          0.0001         0.676638   \n",
       "                                                       0.0005         0.672671   \n",
       "                                                       0.0010         0.673435   \n",
       "           (12,)           (256, 256)     0.1          0.0001         0.678319   \n",
       "                                                       0.0005         0.682072   \n",
       "                                                       0.0010         0.672414   \n",
       "                                          0.2          0.0001         0.680198   \n",
       "                                                       0.0005         0.678413   \n",
       "                                                       0.0010         0.674858   \n",
       "                           (512, 512)     0.1          0.0001         0.683847   \n",
       "                                                       0.0005         0.677379   \n",
       "                                                       0.0010         0.670802   \n",
       "                                          0.2          0.0001         0.681632   \n",
       "                                                       0.0005         0.679958   \n",
       "                                                       0.0010         0.671838   \n",
       "\n",
       "                                                                      valid_accuracy  \\\n",
       "dimensions swnu_hidden_dim ffn_hidden_dim dropout_rate learning_rate                   \n",
       "15         (10,)           (256, 256)     0.1          0.0001               0.731320   \n",
       "                                                       0.0005               0.737701   \n",
       "                                                       0.0010               0.731096   \n",
       "                                          0.2          0.0001               0.731186   \n",
       "                                                       0.0005               0.733073   \n",
       "                                                       0.0010               0.727457   \n",
       "                           (512, 512)     0.1          0.0001               0.733881   \n",
       "                                                       0.0005               0.731276   \n",
       "                                                       0.0010               0.732399   \n",
       "                                          0.2          0.0001               0.735454   \n",
       "                                                       0.0005               0.733567   \n",
       "                                                       0.0010               0.723862   \n",
       "           (12,)           (256, 256)     0.1          0.0001               0.745968   \n",
       "                                                       0.0005               0.746102   \n",
       "                                                       0.0010               0.729703   \n",
       "                                          0.2          0.0001               0.747720   \n",
       "                                                       0.0005               0.742059   \n",
       "                                                       0.0010               0.731096   \n",
       "                           (512, 512)     0.1          0.0001               0.743182   \n",
       "                                                       0.0005               0.738779   \n",
       "                                                       0.0010               0.730018   \n",
       "                                          0.2          0.0001               0.745159   \n",
       "                                                       0.0005               0.742643   \n",
       "                                                       0.0010               0.723907   \n",
       "\n",
       "                                                                      valid_f1  \\\n",
       "dimensions swnu_hidden_dim ffn_hidden_dim dropout_rate learning_rate             \n",
       "15         (10,)           (256, 256)     0.1          0.0001         0.718312   \n",
       "                                                       0.0005         0.722783   \n",
       "                                                       0.0010         0.714090   \n",
       "                                          0.2          0.0001         0.719012   \n",
       "                                                       0.0005         0.719720   \n",
       "                                                       0.0010         0.711792   \n",
       "                           (512, 512)     0.1          0.0001         0.719295   \n",
       "                                                       0.0005         0.720950   \n",
       "                                                       0.0010         0.714410   \n",
       "                                          0.2          0.0001         0.720730   \n",
       "                                                       0.0005         0.720558   \n",
       "                                                       0.0010         0.710536   \n",
       "           (12,)           (256, 256)     0.1          0.0001         0.731696   \n",
       "                                                       0.0005         0.731168   \n",
       "                                                       0.0010         0.715929   \n",
       "                                          0.2          0.0001         0.733652   \n",
       "                                                       0.0005         0.729623   \n",
       "                                                       0.0010         0.716620   \n",
       "                           (512, 512)     0.1          0.0001         0.729665   \n",
       "                                                       0.0005         0.724427   \n",
       "                                                       0.0010         0.715372   \n",
       "                                          0.2          0.0001         0.730820   \n",
       "                                                       0.0005         0.727096   \n",
       "                                                       0.0010         0.711901   \n",
       "\n",
       "                                                                      valid_precision  \\\n",
       "dimensions swnu_hidden_dim ffn_hidden_dim dropout_rate learning_rate                    \n",
       "15         (10,)           (256, 256)     0.1          0.0001                0.716586   \n",
       "                                                       0.0005                0.722210   \n",
       "                                                       0.0010                0.714856   \n",
       "                                          0.2          0.0001                0.716925   \n",
       "                                                       0.0005                0.718118   \n",
       "                                                       0.0010                0.711596   \n",
       "                           (512, 512)     0.1          0.0001                0.718906   \n",
       "                                                       0.0005                0.718690   \n",
       "                                                       0.0010                0.716568   \n",
       "                                          0.2          0.0001                0.720192   \n",
       "                                                       0.0005                0.719019   \n",
       "                                                       0.0010                0.709442   \n",
       "           (12,)           (256, 256)     0.1          0.0001                0.731422   \n",
       "                                                       0.0005                0.731147   \n",
       "                                                       0.0010                0.714553   \n",
       "                                          0.2          0.0001                0.733162   \n",
       "                                                       0.0005                0.727795   \n",
       "                                                       0.0010                0.715808   \n",
       "                           (512, 512)     0.1          0.0001                0.728332   \n",
       "                                                       0.0005                0.723520   \n",
       "                                                       0.0010                0.716015   \n",
       "                                          0.2          0.0001                0.730137   \n",
       "                                                       0.0005                0.727713   \n",
       "                                                       0.0010                0.709877   \n",
       "\n",
       "                                                                      valid_recall  \\\n",
       "dimensions swnu_hidden_dim ffn_hidden_dim dropout_rate learning_rate                 \n",
       "15         (10,)           (256, 256)     0.1          0.0001             0.721057   \n",
       "                                                       0.0005             0.723451   \n",
       "                                                       0.0010             0.713429   \n",
       "                                          0.2          0.0001             0.722577   \n",
       "                                                       0.0005             0.722065   \n",
       "                                                       0.0010             0.712412   \n",
       "                           (512, 512)     0.1          0.0001             0.720750   \n",
       "                                                       0.0005             0.726656   \n",
       "                                                       0.0010             0.713169   \n",
       "                                          0.2          0.0001             0.721839   \n",
       "                                                       0.0005             0.723234   \n",
       "                                                       0.0010             0.713537   \n",
       "           (12,)           (256, 256)     0.1          0.0001             0.732710   \n",
       "                                                       0.0005             0.731529   \n",
       "                                                       0.0010             0.717962   \n",
       "                                          0.2          0.0001             0.734782   \n",
       "                                                       0.0005             0.732562   \n",
       "                                                       0.0010             0.718001   \n",
       "                           (512, 512)     0.1          0.0001             0.731342   \n",
       "                                                       0.0005             0.725499   \n",
       "                                                       0.0010             0.717424   \n",
       "                                          0.2          0.0001             0.731649   \n",
       "                                                       0.0005             0.727308   \n",
       "                                                       0.0010             0.715859   \n",
       "\n",
       "                                                                         k  \\\n",
       "dimensions swnu_hidden_dim ffn_hidden_dim dropout_rate learning_rate         \n",
       "15         (10,)           (256, 256)     0.1          0.0001         11.0   \n",
       "                                                       0.0005         11.0   \n",
       "                                                       0.0010         11.0   \n",
       "                                          0.2          0.0001         11.0   \n",
       "                                                       0.0005         11.0   \n",
       "                                                       0.0010         11.0   \n",
       "                           (512, 512)     0.1          0.0001         11.0   \n",
       "                                                       0.0005         11.0   \n",
       "                                                       0.0010         11.0   \n",
       "                                          0.2          0.0001         11.0   \n",
       "                                                       0.0005         11.0   \n",
       "                                                       0.0010         11.0   \n",
       "           (12,)           (256, 256)     0.1          0.0001         11.0   \n",
       "                                                       0.0005         11.0   \n",
       "                                                       0.0010         11.0   \n",
       "                                          0.2          0.0001         11.0   \n",
       "                                                       0.0005         11.0   \n",
       "                                                       0.0010         11.0   \n",
       "                           (512, 512)     0.1          0.0001         11.0   \n",
       "                                                       0.0005         11.0   \n",
       "                                                       0.0010         11.0   \n",
       "                                          0.2          0.0001         11.0   \n",
       "                                                       0.0005         11.0   \n",
       "                                                       0.0010         11.0   \n",
       "\n",
       "                                                                      sig_depth  \\\n",
       "dimensions swnu_hidden_dim ffn_hidden_dim dropout_rate learning_rate              \n",
       "15         (10,)           (256, 256)     0.1          0.0001               4.0   \n",
       "                                                       0.0005               4.0   \n",
       "                                                       0.0010               4.0   \n",
       "                                          0.2          0.0001               4.0   \n",
       "                                                       0.0005               4.0   \n",
       "                                                       0.0010               4.0   \n",
       "                           (512, 512)     0.1          0.0001               4.0   \n",
       "                                                       0.0005               4.0   \n",
       "                                                       0.0010               4.0   \n",
       "                                          0.2          0.0001               4.0   \n",
       "                                                       0.0005               4.0   \n",
       "                                                       0.0010               4.0   \n",
       "           (12,)           (256, 256)     0.1          0.0001               3.0   \n",
       "                                                       0.0005               3.0   \n",
       "                                                       0.0010               3.0   \n",
       "                                          0.2          0.0001               3.0   \n",
       "                                                       0.0005               3.0   \n",
       "                                                       0.0010               3.0   \n",
       "                           (512, 512)     0.1          0.0001               3.0   \n",
       "                                                       0.0005               3.0   \n",
       "                                                       0.0010               3.0   \n",
       "                                          0.2          0.0001               3.0   \n",
       "                                                       0.0005               3.0   \n",
       "                                                       0.0010               3.0   \n",
       "\n",
       "                                                                      ...  \\\n",
       "dimensions swnu_hidden_dim ffn_hidden_dim dropout_rate learning_rate  ...   \n",
       "15         (10,)           (256, 256)     0.1          0.0001         ...   \n",
       "                                                       0.0005         ...   \n",
       "                                                       0.0010         ...   \n",
       "                                          0.2          0.0001         ...   \n",
       "                                                       0.0005         ...   \n",
       "                                                       0.0010         ...   \n",
       "                           (512, 512)     0.1          0.0001         ...   \n",
       "                                                       0.0005         ...   \n",
       "                                                       0.0010         ...   \n",
       "                                          0.2          0.0001         ...   \n",
       "                                                       0.0005         ...   \n",
       "                                                       0.0010         ...   \n",
       "           (12,)           (256, 256)     0.1          0.0001         ...   \n",
       "                                                       0.0005         ...   \n",
       "                                                       0.0010         ...   \n",
       "                                          0.2          0.0001         ...   \n",
       "                                                       0.0005         ...   \n",
       "                                                       0.0010         ...   \n",
       "                           (512, 512)     0.1          0.0001         ...   \n",
       "                                                       0.0005         ...   \n",
       "                                                       0.0010         ...   \n",
       "                                          0.2          0.0001         ...   \n",
       "                                                       0.0005         ...   \n",
       "                                                       0.0010         ...   \n",
       "\n",
       "                                                                      embedding_dim  \\\n",
       "dimensions swnu_hidden_dim ffn_hidden_dim dropout_rate learning_rate                  \n",
       "15         (10,)           (256, 256)     0.1          0.0001                 384.0   \n",
       "                                                       0.0005                 384.0   \n",
       "                                                       0.0010                 384.0   \n",
       "                                          0.2          0.0001                 384.0   \n",
       "                                                       0.0005                 384.0   \n",
       "                                                       0.0010                 384.0   \n",
       "                           (512, 512)     0.1          0.0001                 384.0   \n",
       "                                                       0.0005                 384.0   \n",
       "                                                       0.0010                 384.0   \n",
       "                                          0.2          0.0001                 384.0   \n",
       "                                                       0.0005                 384.0   \n",
       "                                                       0.0010                 384.0   \n",
       "           (12,)           (256, 256)     0.1          0.0001                 384.0   \n",
       "                                                       0.0005                 384.0   \n",
       "                                                       0.0010                 384.0   \n",
       "                                          0.2          0.0001                 384.0   \n",
       "                                                       0.0005                 384.0   \n",
       "                                                       0.0010                 384.0   \n",
       "                           (512, 512)     0.1          0.0001                 384.0   \n",
       "                                                       0.0005                 384.0   \n",
       "                                                       0.0010                 384.0   \n",
       "                                          0.2          0.0001                 384.0   \n",
       "                                                       0.0005                 384.0   \n",
       "                                                       0.0010                 384.0   \n",
       "\n",
       "                                                                      num_features  \\\n",
       "dimensions swnu_hidden_dim ffn_hidden_dim dropout_rate learning_rate                 \n",
       "15         (10,)           (256, 256)     0.1          0.0001                  2.0   \n",
       "                                                       0.0005                  2.0   \n",
       "                                                       0.0010                  2.0   \n",
       "                                          0.2          0.0001                  2.0   \n",
       "                                                       0.0005                  2.0   \n",
       "                                                       0.0010                  2.0   \n",
       "                           (512, 512)     0.1          0.0001                  2.0   \n",
       "                                                       0.0005                  2.0   \n",
       "                                                       0.0010                  2.0   \n",
       "                                          0.2          0.0001                  2.0   \n",
       "                                                       0.0005                  2.0   \n",
       "                                                       0.0010                  2.0   \n",
       "           (12,)           (256, 256)     0.1          0.0001                  2.0   \n",
       "                                                       0.0005                  2.0   \n",
       "                                                       0.0010                  2.0   \n",
       "                                          0.2          0.0001                  2.0   \n",
       "                                                       0.0005                  2.0   \n",
       "                                                       0.0010                  2.0   \n",
       "                           (512, 512)     0.1          0.0001                  2.0   \n",
       "                                                       0.0005                  2.0   \n",
       "                                                       0.0010                  2.0   \n",
       "                                          0.2          0.0001                  2.0   \n",
       "                                                       0.0005                  2.0   \n",
       "                                                       0.0010                  2.0   \n",
       "\n",
       "                                                                      log_signature  \\\n",
       "dimensions swnu_hidden_dim ffn_hidden_dim dropout_rate learning_rate                  \n",
       "15         (10,)           (256, 256)     0.1          0.0001                   1.0   \n",
       "                                                       0.0005                   1.0   \n",
       "                                                       0.0010                   1.0   \n",
       "                                          0.2          0.0001                   1.0   \n",
       "                                                       0.0005                   1.0   \n",
       "                                                       0.0010                   1.0   \n",
       "                           (512, 512)     0.1          0.0001                   1.0   \n",
       "                                                       0.0005                   1.0   \n",
       "                                                       0.0010                   1.0   \n",
       "                                          0.2          0.0001                   1.0   \n",
       "                                                       0.0005                   1.0   \n",
       "                                                       0.0010                   1.0   \n",
       "           (12,)           (256, 256)     0.1          0.0001                   1.0   \n",
       "                                                       0.0005                   1.0   \n",
       "                                                       0.0010                   1.0   \n",
       "                                          0.2          0.0001                   1.0   \n",
       "                                                       0.0005                   1.0   \n",
       "                                                       0.0010                   1.0   \n",
       "                           (512, 512)     0.1          0.0001                   1.0   \n",
       "                                                       0.0005                   1.0   \n",
       "                                                       0.0010                   1.0   \n",
       "                                          0.2          0.0001                   1.0   \n",
       "                                                       0.0005                   1.0   \n",
       "                                                       0.0010                   1.0   \n",
       "\n",
       "                                                                           seed  \\\n",
       "dimensions swnu_hidden_dim ffn_hidden_dim dropout_rate learning_rate              \n",
       "15         (10,)           (256, 256)     0.1          0.0001         45.333333   \n",
       "                                                       0.0005         45.333333   \n",
       "                                                       0.0010         45.333333   \n",
       "                                          0.2          0.0001         45.333333   \n",
       "                                                       0.0005         45.333333   \n",
       "                                                       0.0010         45.333333   \n",
       "                           (512, 512)     0.1          0.0001         45.333333   \n",
       "                                                       0.0005         45.333333   \n",
       "                                                       0.0010         45.333333   \n",
       "                                          0.2          0.0001         45.333333   \n",
       "                                                       0.0005         45.333333   \n",
       "                                                       0.0010         45.333333   \n",
       "           (12,)           (256, 256)     0.1          0.0001         45.333333   \n",
       "                                                       0.0005         45.333333   \n",
       "                                                       0.0010         45.333333   \n",
       "                                          0.2          0.0001         45.333333   \n",
       "                                                       0.0005         45.333333   \n",
       "                                                       0.0010         45.333333   \n",
       "                           (512, 512)     0.1          0.0001         45.333333   \n",
       "                                                       0.0005         45.333333   \n",
       "                                                       0.0010         45.333333   \n",
       "                                          0.2          0.0001         45.333333   \n",
       "                                                       0.0005         45.333333   \n",
       "                                                       0.0010         45.333333   \n",
       "\n",
       "                                                                      BiLSTM  \\\n",
       "dimensions swnu_hidden_dim ffn_hidden_dim dropout_rate learning_rate           \n",
       "15         (10,)           (256, 256)     0.1          0.0001            1.0   \n",
       "                                                       0.0005            1.0   \n",
       "                                                       0.0010            1.0   \n",
       "                                          0.2          0.0001            1.0   \n",
       "                                                       0.0005            1.0   \n",
       "                                                       0.0010            1.0   \n",
       "                           (512, 512)     0.1          0.0001            1.0   \n",
       "                                                       0.0005            1.0   \n",
       "                                                       0.0010            1.0   \n",
       "                                          0.2          0.0001            1.0   \n",
       "                                                       0.0005            1.0   \n",
       "                                                       0.0010            1.0   \n",
       "           (12,)           (256, 256)     0.1          0.0001            1.0   \n",
       "                                                       0.0005            1.0   \n",
       "                                                       0.0010            1.0   \n",
       "                                          0.2          0.0001            1.0   \n",
       "                                                       0.0005            1.0   \n",
       "                                                       0.0010            1.0   \n",
       "                           (512, 512)     0.1          0.0001            1.0   \n",
       "                                                       0.0005            1.0   \n",
       "                                                       0.0010            1.0   \n",
       "                                          0.2          0.0001            1.0   \n",
       "                                                       0.0005            1.0   \n",
       "                                                       0.0010            1.0   \n",
       "\n",
       "                                                                      gamma  \\\n",
       "dimensions swnu_hidden_dim ffn_hidden_dim dropout_rate learning_rate          \n",
       "15         (10,)           (256, 256)     0.1          0.0001           2.0   \n",
       "                                                       0.0005           2.0   \n",
       "                                                       0.0010           2.0   \n",
       "                                          0.2          0.0001           2.0   \n",
       "                                                       0.0005           2.0   \n",
       "                                                       0.0010           2.0   \n",
       "                           (512, 512)     0.1          0.0001           2.0   \n",
       "                                                       0.0005           2.0   \n",
       "                                                       0.0010           2.0   \n",
       "                                          0.2          0.0001           2.0   \n",
       "                                                       0.0005           2.0   \n",
       "                                                       0.0010           2.0   \n",
       "           (12,)           (256, 256)     0.1          0.0001           2.0   \n",
       "                                                       0.0005           2.0   \n",
       "                                                       0.0010           2.0   \n",
       "                                          0.2          0.0001           2.0   \n",
       "                                                       0.0005           2.0   \n",
       "                                                       0.0010           2.0   \n",
       "                           (512, 512)     0.1          0.0001           2.0   \n",
       "                                                       0.0005           2.0   \n",
       "                                                       0.0010           2.0   \n",
       "                                          0.2          0.0001           2.0   \n",
       "                                                       0.0005           2.0   \n",
       "                                                       0.0010           2.0   \n",
       "\n",
       "                                                                      k_fold  \\\n",
       "dimensions swnu_hidden_dim ffn_hidden_dim dropout_rate learning_rate           \n",
       "15         (10,)           (256, 256)     0.1          0.0001            1.0   \n",
       "                                                       0.0005            1.0   \n",
       "                                                       0.0010            1.0   \n",
       "                                          0.2          0.0001            1.0   \n",
       "                                                       0.0005            1.0   \n",
       "                                                       0.0010            1.0   \n",
       "                           (512, 512)     0.1          0.0001            1.0   \n",
       "                                                       0.0005            1.0   \n",
       "                                                       0.0010            1.0   \n",
       "                                          0.2          0.0001            1.0   \n",
       "                                                       0.0005            1.0   \n",
       "                                                       0.0010            1.0   \n",
       "           (12,)           (256, 256)     0.1          0.0001            1.0   \n",
       "                                                       0.0005            1.0   \n",
       "                                                       0.0010            1.0   \n",
       "                                          0.2          0.0001            1.0   \n",
       "                                                       0.0005            1.0   \n",
       "                                                       0.0010            1.0   \n",
       "                           (512, 512)     0.1          0.0001            1.0   \n",
       "                                                       0.0005            1.0   \n",
       "                                                       0.0010            1.0   \n",
       "                                          0.2          0.0001            1.0   \n",
       "                                                       0.0005            1.0   \n",
       "                                                       0.0010            1.0   \n",
       "\n",
       "                                                                      n_splits  \\\n",
       "dimensions swnu_hidden_dim ffn_hidden_dim dropout_rate learning_rate             \n",
       "15         (10,)           (256, 256)     0.1          0.0001              5.0   \n",
       "                                                       0.0005              5.0   \n",
       "                                                       0.0010              5.0   \n",
       "                                          0.2          0.0001              5.0   \n",
       "                                                       0.0005              5.0   \n",
       "                                                       0.0010              5.0   \n",
       "                           (512, 512)     0.1          0.0001              5.0   \n",
       "                                                       0.0005              5.0   \n",
       "                                                       0.0010              5.0   \n",
       "                                          0.2          0.0001              5.0   \n",
       "                                                       0.0005              5.0   \n",
       "                                                       0.0010              5.0   \n",
       "           (12,)           (256, 256)     0.1          0.0001              5.0   \n",
       "                                                       0.0005              5.0   \n",
       "                                                       0.0010              5.0   \n",
       "                                          0.2          0.0001              5.0   \n",
       "                                                       0.0005              5.0   \n",
       "                                                       0.0010              5.0   \n",
       "                           (512, 512)     0.1          0.0001              5.0   \n",
       "                                                       0.0005              5.0   \n",
       "                                                       0.0010              5.0   \n",
       "                                          0.2          0.0001              5.0   \n",
       "                                                       0.0005              5.0   \n",
       "                                                       0.0010              5.0   \n",
       "\n",
       "                                                                      batch_size  \\\n",
       "dimensions swnu_hidden_dim ffn_hidden_dim dropout_rate learning_rate               \n",
       "15         (10,)           (256, 256)     0.1          0.0001               64.0   \n",
       "                                                       0.0005               64.0   \n",
       "                                                       0.0010               64.0   \n",
       "                                          0.2          0.0001               64.0   \n",
       "                                                       0.0005               64.0   \n",
       "                                                       0.0010               64.0   \n",
       "                           (512, 512)     0.1          0.0001               64.0   \n",
       "                                                       0.0005               64.0   \n",
       "                                                       0.0010               64.0   \n",
       "                                          0.2          0.0001               64.0   \n",
       "                                                       0.0005               64.0   \n",
       "                                                       0.0010               64.0   \n",
       "           (12,)           (256, 256)     0.1          0.0001               64.0   \n",
       "                                                       0.0005               64.0   \n",
       "                                                       0.0010               64.0   \n",
       "                                          0.2          0.0001               64.0   \n",
       "                                                       0.0005               64.0   \n",
       "                                                       0.0010               64.0   \n",
       "                           (512, 512)     0.1          0.0001               64.0   \n",
       "                                                       0.0005               64.0   \n",
       "                                                       0.0010               64.0   \n",
       "                                          0.2          0.0001               64.0   \n",
       "                                                       0.0005               64.0   \n",
       "                                                       0.0010               64.0   \n",
       "\n",
       "                                                                      model_id  \n",
       "dimensions swnu_hidden_dim ffn_hidden_dim dropout_rate learning_rate            \n",
       "15         (10,)           (256, 256)     0.1          0.0001             13.0  \n",
       "                                                       0.0005             14.0  \n",
       "                                                       0.0010             12.0  \n",
       "                                          0.2          0.0001             16.0  \n",
       "                                                       0.0005             17.0  \n",
       "                                                       0.0010             15.0  \n",
       "                           (512, 512)     0.1          0.0001             19.0  \n",
       "                                                       0.0005             20.0  \n",
       "                                                       0.0010             18.0  \n",
       "                                          0.2          0.0001             22.0  \n",
       "                                                       0.0005             23.0  \n",
       "                                                       0.0010             21.0  \n",
       "           (12,)           (256, 256)     0.1          0.0001              1.0  \n",
       "                                                       0.0005              2.0  \n",
       "                                                       0.0010              0.0  \n",
       "                                          0.2          0.0001              4.0  \n",
       "                                                       0.0005              5.0  \n",
       "                                                       0.0010              3.0  \n",
       "                           (512, 512)     0.1          0.0001              7.0  \n",
       "                                                       0.0005              8.0  \n",
       "                                                       0.0010              6.0  \n",
       "                                          0.2          0.0001             10.0  \n",
       "                                                       0.0005             11.0  \n",
       "                                                       0.0010              9.0  \n",
       "\n",
       "[24 rows x 23 columns]"
      ]
     },
     "execution_count": 23,
     "metadata": {},
     "output_type": "execute_result"
    }
   ],
   "source": [
    "swnu_network_umap_kfold_11.groupby(\n",
    "    [\"dimensions\", \"swnu_hidden_dim\", \"ffn_hidden_dim\", \"dropout_rate\", \"learning_rate\"]\n",
    ").mean()"
   ]
  },
  {
   "cell_type": "code",
   "execution_count": 24,
   "metadata": {},
   "outputs": [
    {
     "data": {
      "text/html": [
       "<div>\n",
       "<style scoped>\n",
       "    .dataframe tbody tr th:only-of-type {\n",
       "        vertical-align: middle;\n",
       "    }\n",
       "\n",
       "    .dataframe tbody tr th {\n",
       "        vertical-align: top;\n",
       "    }\n",
       "\n",
       "    .dataframe thead th {\n",
       "        text-align: right;\n",
       "    }\n",
       "</style>\n",
       "<table border=\"1\" class=\"dataframe\">\n",
       "  <thead>\n",
       "    <tr style=\"text-align: right;\">\n",
       "      <th></th>\n",
       "      <th>loss</th>\n",
       "      <th>accuracy</th>\n",
       "      <th>f1</th>\n",
       "      <th>f1_scores</th>\n",
       "      <th>precision</th>\n",
       "      <th>precision_scores</th>\n",
       "      <th>recall</th>\n",
       "      <th>recall_scores</th>\n",
       "      <th>valid_loss</th>\n",
       "      <th>valid_accuracy</th>\n",
       "      <th>...</th>\n",
       "      <th>seed</th>\n",
       "      <th>BiLSTM</th>\n",
       "      <th>loss_function</th>\n",
       "      <th>gamma</th>\n",
       "      <th>k_fold</th>\n",
       "      <th>n_splits</th>\n",
       "      <th>augmentation_type</th>\n",
       "      <th>hidden_dim_aug</th>\n",
       "      <th>comb_method</th>\n",
       "      <th>batch_size</th>\n",
       "    </tr>\n",
       "  </thead>\n",
       "  <tbody>\n",
       "    <tr>\n",
       "      <th>0</th>\n",
       "      <td>None</td>\n",
       "      <td>0.707176</td>\n",
       "      <td>0.685383</td>\n",
       "      <td>[0.7681865132064335, 0.6025803187452567]</td>\n",
       "      <td>0.682563</td>\n",
       "      <td>[0.7914259653390088, 0.5736994219653179]</td>\n",
       "      <td>0.690398</td>\n",
       "      <td>[0.7462729357798165, 0.6345231752797017]</td>\n",
       "      <td>None</td>\n",
       "      <td>0.747540</td>\n",
       "      <td>...</td>\n",
       "      <td>1</td>\n",
       "      <td>True</td>\n",
       "      <td>focal</td>\n",
       "      <td>2</td>\n",
       "      <td>True</td>\n",
       "      <td>5</td>\n",
       "      <td>Conv1d</td>\n",
       "      <td>None</td>\n",
       "      <td>concatenation</td>\n",
       "      <td>64</td>\n",
       "    </tr>\n",
       "    <tr>\n",
       "      <th>0</th>\n",
       "      <td>None</td>\n",
       "      <td>0.683131</td>\n",
       "      <td>0.664164</td>\n",
       "      <td>[0.7439759036144579, 0.5843520782396089]</td>\n",
       "      <td>0.661810</td>\n",
       "      <td>[0.7836294416243654, 0.5399909624943515]</td>\n",
       "      <td>0.672398</td>\n",
       "      <td>[0.7081422018348624, 0.6366542354821524]</td>\n",
       "      <td>None</td>\n",
       "      <td>0.746192</td>\n",
       "      <td>...</td>\n",
       "      <td>12</td>\n",
       "      <td>True</td>\n",
       "      <td>focal</td>\n",
       "      <td>2</td>\n",
       "      <td>True</td>\n",
       "      <td>5</td>\n",
       "      <td>Conv1d</td>\n",
       "      <td>None</td>\n",
       "      <td>concatenation</td>\n",
       "      <td>64</td>\n",
       "    </tr>\n",
       "    <tr>\n",
       "      <th>0</th>\n",
       "      <td>None</td>\n",
       "      <td>0.697670</td>\n",
       "      <td>0.673952</td>\n",
       "      <td>[0.7618907809747505, 0.5860132720775907]</td>\n",
       "      <td>0.671578</td>\n",
       "      <td>[0.7806859205776173, 0.5624693777560019]</td>\n",
       "      <td>0.677797</td>\n",
       "      <td>[0.7439793577981652, 0.6116142781033564]</td>\n",
       "      <td>None</td>\n",
       "      <td>0.749427</td>\n",
       "      <td>...</td>\n",
       "      <td>123</td>\n",
       "      <td>True</td>\n",
       "      <td>focal</td>\n",
       "      <td>2</td>\n",
       "      <td>True</td>\n",
       "      <td>5</td>\n",
       "      <td>Conv1d</td>\n",
       "      <td>None</td>\n",
       "      <td>concatenation</td>\n",
       "      <td>64</td>\n",
       "    </tr>\n",
       "  </tbody>\n",
       "</table>\n",
       "<p>3 rows × 44 columns</p>\n",
       "</div>"
      ],
      "text/plain": [
       "   loss  accuracy        f1                                 f1_scores  \\\n",
       "0  None  0.707176  0.685383  [0.7681865132064335, 0.6025803187452567]   \n",
       "0  None  0.683131  0.664164  [0.7439759036144579, 0.5843520782396089]   \n",
       "0  None  0.697670  0.673952  [0.7618907809747505, 0.5860132720775907]   \n",
       "\n",
       "   precision                          precision_scores    recall  \\\n",
       "0   0.682563  [0.7914259653390088, 0.5736994219653179]  0.690398   \n",
       "0   0.661810  [0.7836294416243654, 0.5399909624943515]  0.672398   \n",
       "0   0.671578  [0.7806859205776173, 0.5624693777560019]  0.677797   \n",
       "\n",
       "                              recall_scores valid_loss  valid_accuracy  ...  \\\n",
       "0  [0.7462729357798165, 0.6345231752797017]       None        0.747540  ...   \n",
       "0  [0.7081422018348624, 0.6366542354821524]       None        0.746192  ...   \n",
       "0  [0.7439793577981652, 0.6116142781033564]       None        0.749427  ...   \n",
       "\n",
       "   seed BiLSTM  loss_function gamma  k_fold n_splits  augmentation_type  \\\n",
       "0     1   True          focal     2    True        5             Conv1d   \n",
       "0    12   True          focal     2    True        5             Conv1d   \n",
       "0   123   True          focal     2    True        5             Conv1d   \n",
       "\n",
       "   hidden_dim_aug    comb_method batch_size  \n",
       "0            None  concatenation         64  \n",
       "0            None  concatenation         64  \n",
       "0            None  concatenation         64  \n",
       "\n",
       "[3 rows x 44 columns]"
      ]
     },
     "execution_count": 24,
     "metadata": {},
     "output_type": "execute_result"
    }
   ],
   "source": [
    "best_swnu_network_umap_kfold_11"
   ]
  },
  {
   "cell_type": "code",
   "execution_count": 25,
   "metadata": {},
   "outputs": [
    {
     "data": {
      "text/plain": [
       "0.6744998111430164"
      ]
     },
     "execution_count": 25,
     "metadata": {},
     "output_type": "execute_result"
    }
   ],
   "source": [
    "best_swnu_network_umap_kfold_11[\"f1\"].mean()"
   ]
  },
  {
   "cell_type": "code",
   "execution_count": 26,
   "metadata": {},
   "outputs": [
    {
     "data": {
      "text/plain": [
       "0.6719835149594439"
      ]
     },
     "execution_count": 26,
     "metadata": {},
     "output_type": "execute_result"
    }
   ],
   "source": [
    "best_swnu_network_umap_kfold_11[\"precision\"].mean()"
   ]
  },
  {
   "cell_type": "code",
   "execution_count": 27,
   "metadata": {},
   "outputs": [
    {
     "data": {
      "text/plain": [
       "0.6801976973796758"
      ]
     },
     "execution_count": 27,
     "metadata": {},
     "output_type": "execute_result"
    }
   ],
   "source": [
    "best_swnu_network_umap_kfold_11[\"recall\"].mean()"
   ]
  },
  {
   "cell_type": "code",
   "execution_count": 28,
   "metadata": {},
   "outputs": [
    {
     "data": {
      "text/plain": [
       "array([0.75801773, 0.59098189])"
      ]
     },
     "execution_count": 28,
     "metadata": {},
     "output_type": "execute_result"
    }
   ],
   "source": [
    "np.stack(best_swnu_network_umap_kfold_11[\"f1_scores\"]).mean(axis=0)"
   ]
  },
  {
   "cell_type": "code",
   "execution_count": 29,
   "metadata": {},
   "outputs": [
    {
     "data": {
      "text/plain": [
       "array([0.78524711, 0.55871992])"
      ]
     },
     "execution_count": 29,
     "metadata": {},
     "output_type": "execute_result"
    }
   ],
   "source": [
    "np.stack(best_swnu_network_umap_kfold_11[\"precision_scores\"]).mean(axis=0)"
   ]
  },
  {
   "cell_type": "code",
   "execution_count": 30,
   "metadata": {},
   "outputs": [
    {
     "data": {
      "text/plain": [
       "array([0.73279817, 0.62759723])"
      ]
     },
     "execution_count": 30,
     "metadata": {},
     "output_type": "execute_result"
    }
   ],
   "source": [
    "np.stack(best_swnu_network_umap_kfold_11[\"recall_scores\"]).mean(axis=0)"
   ]
  },
  {
   "cell_type": "markdown",
   "metadata": {
    "tags": []
   },
   "source": [
    "# w=20"
   ]
  },
  {
   "cell_type": "code",
   "execution_count": 11,
   "metadata": {},
   "outputs": [],
   "source": [
    "size = 20"
   ]
  },
  {
   "cell_type": "markdown",
   "metadata": {},
   "source": [
    "## umap"
   ]
  },
  {
   "cell_type": "code",
   "execution_count": 12,
   "metadata": {},
   "outputs": [
    {
     "data": {
      "application/vnd.jupyter.widget-view+json": {
       "model_id": "d87cf673e7fb474f893e5502ccc19abb",
       "version_major": 2,
       "version_minor": 0
      },
      "text/plain": [
       "  0%|          | 0/1 [00:00<?, ?it/s]"
      ]
     },
     "metadata": {},
     "output_type": "display_data"
    },
    {
     "data": {
      "application/vnd.jupyter.widget-view+json": {
       "model_id": "b00da5a143f2497697594afc81c39673",
       "version_major": 2,
       "version_minor": 0
      },
      "text/plain": [
       "  0%|          | 0/1 [00:00<?, ?it/s]"
      ]
     },
     "metadata": {},
     "output_type": "display_data"
    },
    {
     "data": {
      "application/vnd.jupyter.widget-view+json": {
       "model_id": "a4cc9dea1e9a498c9e5ace701c3c20b4",
       "version_major": 2,
       "version_minor": 0
      },
      "text/plain": [
       "  0%|          | 0/1 [00:00<?, ?it/s]"
      ]
     },
     "metadata": {},
     "output_type": "display_data"
    },
    {
     "name": "stdout",
     "output_type": "stream",
     "text": [
      "\n",
      "##################################################\n",
      "dimension: 15 | method: umap\n",
      "[INFO] Concatenating the embeddings to the dataframe...\n",
      "[INFO] - columns beginning with 'e' denote the full embddings.\n",
      "[INFO] - columns beginning with 'd' denote the dimension reduced embeddings.\n",
      "[INFO] Adding time feature columns into dataframe in `.df`.\n",
      "[INFO] Adding 'time_encoding' feature...\n",
      "[INFO] Adding 'time_diff' feature...\n",
      "[INFO] Adding 'timeline_index' feature...\n",
      "[INFO] Padding ids and storing in `.df_padded` and `.array_padded` attributes.\n"
     ]
    },
    {
     "data": {
      "application/vnd.jupyter.widget-view+json": {
       "model_id": "93034abcd78f4270adbe52aa7479978c",
       "version_major": 2,
       "version_minor": 0
      },
      "text/plain": [
       "  0%|          | 0/5568 [00:00<?, ?it/s]"
      ]
     },
     "metadata": {},
     "output_type": "display_data"
    },
    {
     "name": "stdout",
     "output_type": "stream",
     "text": [
      "[INFO] The path was created for each item in the dataframe, by looking at its history, so to include embeddings in the FFN input, we concatenate the embeddings for each sentence / text.\n"
     ]
    },
    {
     "data": {
      "application/vnd.jupyter.widget-view+json": {
       "model_id": "c3422ebf4a8a4e808defe1c052b92ec3",
       "version_major": 2,
       "version_minor": 0
      },
      "text/plain": [
       "  0%|          | 0/2 [00:00<?, ?it/s]"
      ]
     },
     "metadata": {},
     "output_type": "display_data"
    },
    {
     "data": {
      "application/vnd.jupyter.widget-view+json": {
       "model_id": "8d0b42fb3c9a4a9b83e8af6c825b9107",
       "version_major": 2,
       "version_minor": 0
      },
      "text/plain": [
       "  0%|          | 0/2 [00:00<?, ?it/s]"
      ]
     },
     "metadata": {},
     "output_type": "display_data"
    },
    {
     "data": {
      "application/vnd.jupyter.widget-view+json": {
       "model_id": "efa49097d30c4b989a762dcbebf300b1",
       "version_major": 2,
       "version_minor": 0
      },
      "text/plain": [
       "  0%|          | 0/1 [00:00<?, ?it/s]"
      ]
     },
     "metadata": {},
     "output_type": "display_data"
    },
    {
     "data": {
      "application/vnd.jupyter.widget-view+json": {
       "model_id": "e3aa83a819e6465586461ab0eb5790cf",
       "version_major": 2,
       "version_minor": 0
      },
      "text/plain": [
       "  0%|          | 0/2 [00:00<?, ?it/s]"
      ]
     },
     "metadata": {},
     "output_type": "display_data"
    },
    {
     "data": {
      "application/vnd.jupyter.widget-view+json": {
       "model_id": "396757ab1880406ca1b70c0e7bdff1f0",
       "version_major": 2,
       "version_minor": 0
      },
      "text/plain": [
       "  0%|          | 0/3 [00:00<?, ?it/s]"
      ]
     },
     "metadata": {},
     "output_type": "display_data"
    },
    {
     "data": {
      "application/vnd.jupyter.widget-view+json": {
       "model_id": "543fc65f80af4e18bca0f83b885162aa",
       "version_major": 2,
       "version_minor": 0
      },
      "text/plain": [
       "  0%|          | 0/3 [00:00<?, ?it/s]"
      ]
     },
     "metadata": {},
     "output_type": "display_data"
    },
    {
     "data": {
      "application/vnd.jupyter.widget-view+json": {
       "model_id": "0b7dfe6eb5d84a51ace0455f4619c86e",
       "version_major": 2,
       "version_minor": 0
      },
      "text/plain": [
       "  0%|          | 0/1 [00:00<?, ?it/s]"
      ]
     },
     "metadata": {},
     "output_type": "display_data"
    },
    {
     "data": {
      "application/vnd.jupyter.widget-view+json": {
       "model_id": "8a9a9f39f3ff43afab1df911a264acec",
       "version_major": 2,
       "version_minor": 0
      },
      "text/plain": [
       "  0%|          | 0/2 [00:00<?, ?it/s]"
      ]
     },
     "metadata": {},
     "output_type": "display_data"
    },
    {
     "data": {
      "application/vnd.jupyter.widget-view+json": {
       "model_id": "8ad203abf7db481e9537059fadd24521",
       "version_major": 2,
       "version_minor": 0
      },
      "text/plain": [
       "  0%|          | 0/3 [00:00<?, ?it/s]"
      ]
     },
     "metadata": {},
     "output_type": "display_data"
    },
    {
     "data": {
      "application/vnd.jupyter.widget-view+json": {
       "model_id": "637d0d76b70a4f6f90f20c701c2ee61a",
       "version_major": 2,
       "version_minor": 0
      },
      "text/plain": [
       "  0%|          | 0/3 [00:00<?, ?it/s]"
      ]
     },
     "metadata": {},
     "output_type": "display_data"
    },
    {
     "data": {
      "application/vnd.jupyter.widget-view+json": {
       "model_id": "8ff7b825fd084621a104218328b0a191",
       "version_major": 2,
       "version_minor": 0
      },
      "text/plain": [
       "  0%|          | 0/2 [00:00<?, ?it/s]"
      ]
     },
     "metadata": {},
     "output_type": "display_data"
    },
    {
     "data": {
      "application/vnd.jupyter.widget-view+json": {
       "model_id": "c91633f73f974e648e8ce6febca618aa",
       "version_major": 2,
       "version_minor": 0
      },
      "text/plain": [
       "  0%|          | 0/1 [00:00<?, ?it/s]"
      ]
     },
     "metadata": {},
     "output_type": "display_data"
    },
    {
     "data": {
      "application/vnd.jupyter.widget-view+json": {
       "model_id": "3707107d94474f429d33f5799f14b6c0",
       "version_major": 2,
       "version_minor": 0
      },
      "text/plain": [
       "  0%|          | 0/2 [00:00<?, ?it/s]"
      ]
     },
     "metadata": {},
     "output_type": "display_data"
    },
    {
     "data": {
      "application/vnd.jupyter.widget-view+json": {
       "model_id": "5182e05026cc43e2b20dedea650c1e3c",
       "version_major": 2,
       "version_minor": 0
      },
      "text/plain": [
       "  0%|          | 0/3 [00:00<?, ?it/s]"
      ]
     },
     "metadata": {},
     "output_type": "display_data"
    },
    {
     "data": {
      "application/vnd.jupyter.widget-view+json": {
       "model_id": "970cc4f414604cf4be371b3e6a5d2a29",
       "version_major": 2,
       "version_minor": 0
      },
      "text/plain": [
       "  0%|          | 0/3 [00:00<?, ?it/s]"
      ]
     },
     "metadata": {},
     "output_type": "display_data"
    },
    {
     "data": {
      "application/vnd.jupyter.widget-view+json": {
       "model_id": "d6729ace32024f19b1a38be51595f8e3",
       "version_major": 2,
       "version_minor": 0
      },
      "text/plain": [
       "  0%|          | 0/1 [00:00<?, ?it/s]"
      ]
     },
     "metadata": {},
     "output_type": "display_data"
    },
    {
     "data": {
      "application/vnd.jupyter.widget-view+json": {
       "model_id": "5a3119b3a95a4b4796ec44d35286e553",
       "version_major": 2,
       "version_minor": 0
      },
      "text/plain": [
       "  0%|          | 0/2 [00:00<?, ?it/s]"
      ]
     },
     "metadata": {},
     "output_type": "display_data"
    },
    {
     "data": {
      "application/vnd.jupyter.widget-view+json": {
       "model_id": "48c408f3bda04189ac27c152316521f3",
       "version_major": 2,
       "version_minor": 0
      },
      "text/plain": [
       "  0%|          | 0/3 [00:00<?, ?it/s]"
      ]
     },
     "metadata": {},
     "output_type": "display_data"
    },
    {
     "data": {
      "application/vnd.jupyter.widget-view+json": {
       "model_id": "63c3cc73d4c440b5850c7fb949684a72",
       "version_major": 2,
       "version_minor": 0
      },
      "text/plain": [
       "  0%|          | 0/3 [00:00<?, ?it/s]"
      ]
     },
     "metadata": {},
     "output_type": "display_data"
    },
    {
     "name": "stdout",
     "output_type": "stream",
     "text": [
      "[INFO] Concatenating the embeddings to the dataframe...\n",
      "[INFO] - columns beginning with 'e' denote the full embddings.\n",
      "[INFO] - columns beginning with 'd' denote the dimension reduced embeddings.\n",
      "[INFO] Adding time feature columns into dataframe in `.df`.\n",
      "[INFO] Adding 'time_encoding' feature...\n",
      "[INFO] Adding 'time_diff' feature...\n",
      "[INFO] Adding 'timeline_index' feature...\n",
      "[INFO] Padding ids and storing in `.df_padded` and `.array_padded` attributes.\n"
     ]
    },
    {
     "data": {
      "application/vnd.jupyter.widget-view+json": {
       "model_id": "347ebbe0f5284a9a8495b5d6edd1309a",
       "version_major": 2,
       "version_minor": 0
      },
      "text/plain": [
       "  0%|          | 0/5568 [00:00<?, ?it/s]"
      ]
     },
     "metadata": {},
     "output_type": "display_data"
    },
    {
     "name": "stdout",
     "output_type": "stream",
     "text": [
      "[INFO] The path was created for each item in the dataframe, by looking at its history, so to include embeddings in the FFN input, we concatenate the embeddings for each sentence / text.\n",
      "saving results dataframe to CSV for this hyperparameter search in rumours_output/swnu_network_umap_focal_2_20_kfold.csv\n",
      "saving the best model results dataframe to CSV for this hyperparameter search in rumours_output/swnu_network_umap_focal_2_20_kfold_best_model.csv\n"
     ]
    }
   ],
   "source": [
    "(\n",
    "    swnu_network_umap_kfold_20,\n",
    "    best_swnu_network_umap_kfold_20,\n",
    "    _,\n",
    "    __,\n",
    ") = swnu_network_hyperparameter_search(\n",
    "    history_lengths=[size],\n",
    "    dim_reduce_methods=[\"umap\"],\n",
    "    results_output=f\"{output_dir}/swnu_network_umap_focal_{gamma}_{size}_kfold.csv\",\n",
    "    **kwargs,\n",
    ")"
   ]
  },
  {
   "cell_type": "code",
   "execution_count": 13,
   "metadata": {},
   "outputs": [
    {
     "name": "stderr",
     "output_type": "stream",
     "text": [
      "/tmp/ipykernel_3569902/29893126.py:1: FutureWarning: The default value of numeric_only in DataFrameGroupBy.mean is deprecated. In a future version, numeric_only will default to False. Either specify numeric_only or select only columns which should be valid for the function.\n",
      "  swnu_network_umap_kfold_20.groupby(\n"
     ]
    },
    {
     "data": {
      "text/html": [
       "<div>\n",
       "<style scoped>\n",
       "    .dataframe tbody tr th:only-of-type {\n",
       "        vertical-align: middle;\n",
       "    }\n",
       "\n",
       "    .dataframe tbody tr th {\n",
       "        vertical-align: top;\n",
       "    }\n",
       "\n",
       "    .dataframe thead th {\n",
       "        text-align: right;\n",
       "    }\n",
       "</style>\n",
       "<table border=\"1\" class=\"dataframe\">\n",
       "  <thead>\n",
       "    <tr style=\"text-align: right;\">\n",
       "      <th></th>\n",
       "      <th></th>\n",
       "      <th></th>\n",
       "      <th></th>\n",
       "      <th></th>\n",
       "      <th>accuracy</th>\n",
       "      <th>f1</th>\n",
       "      <th>precision</th>\n",
       "      <th>recall</th>\n",
       "      <th>valid_accuracy</th>\n",
       "      <th>valid_f1</th>\n",
       "      <th>valid_precision</th>\n",
       "      <th>valid_recall</th>\n",
       "      <th>k</th>\n",
       "      <th>sig_depth</th>\n",
       "      <th>...</th>\n",
       "      <th>embedding_dim</th>\n",
       "      <th>num_features</th>\n",
       "      <th>log_signature</th>\n",
       "      <th>seed</th>\n",
       "      <th>BiLSTM</th>\n",
       "      <th>gamma</th>\n",
       "      <th>k_fold</th>\n",
       "      <th>n_splits</th>\n",
       "      <th>batch_size</th>\n",
       "      <th>model_id</th>\n",
       "    </tr>\n",
       "    <tr>\n",
       "      <th>dimensions</th>\n",
       "      <th>swnu_hidden_dim</th>\n",
       "      <th>ffn_hidden_dim</th>\n",
       "      <th>dropout_rate</th>\n",
       "      <th>learning_rate</th>\n",
       "      <th></th>\n",
       "      <th></th>\n",
       "      <th></th>\n",
       "      <th></th>\n",
       "      <th></th>\n",
       "      <th></th>\n",
       "      <th></th>\n",
       "      <th></th>\n",
       "      <th></th>\n",
       "      <th></th>\n",
       "      <th></th>\n",
       "      <th></th>\n",
       "      <th></th>\n",
       "      <th></th>\n",
       "      <th></th>\n",
       "      <th></th>\n",
       "      <th></th>\n",
       "      <th></th>\n",
       "      <th></th>\n",
       "      <th></th>\n",
       "      <th></th>\n",
       "    </tr>\n",
       "  </thead>\n",
       "  <tbody>\n",
       "    <tr>\n",
       "      <th rowspan=\"24\" valign=\"top\">15</th>\n",
       "      <th rowspan=\"12\" valign=\"top\">(10,)</th>\n",
       "      <th rowspan=\"6\" valign=\"top\">(256, 256)</th>\n",
       "      <th rowspan=\"3\" valign=\"top\">0.1</th>\n",
       "      <th>0.0001</th>\n",
       "      <td>0.684809</td>\n",
       "      <td>0.665335</td>\n",
       "      <td>0.663373</td>\n",
       "      <td>0.673360</td>\n",
       "      <td>0.773465</td>\n",
       "      <td>0.762911</td>\n",
       "      <td>0.760921</td>\n",
       "      <td>0.766968</td>\n",
       "      <td>20.0</td>\n",
       "      <td>4.0</td>\n",
       "      <td>...</td>\n",
       "      <td>384.0</td>\n",
       "      <td>2.0</td>\n",
       "      <td>1.0</td>\n",
       "      <td>45.333333</td>\n",
       "      <td>1.0</td>\n",
       "      <td>2.0</td>\n",
       "      <td>1.0</td>\n",
       "      <td>5.0</td>\n",
       "      <td>64.0</td>\n",
       "      <td>13.0</td>\n",
       "    </tr>\n",
       "    <tr>\n",
       "      <th>0.0005</th>\n",
       "      <td>0.689034</td>\n",
       "      <td>0.668113</td>\n",
       "      <td>0.667514</td>\n",
       "      <td>0.675625</td>\n",
       "      <td>0.787887</td>\n",
       "      <td>0.777396</td>\n",
       "      <td>0.777358</td>\n",
       "      <td>0.780001</td>\n",
       "      <td>20.0</td>\n",
       "      <td>4.0</td>\n",
       "      <td>...</td>\n",
       "      <td>384.0</td>\n",
       "      <td>2.0</td>\n",
       "      <td>1.0</td>\n",
       "      <td>45.333333</td>\n",
       "      <td>1.0</td>\n",
       "      <td>2.0</td>\n",
       "      <td>1.0</td>\n",
       "      <td>5.0</td>\n",
       "      <td>64.0</td>\n",
       "      <td>14.0</td>\n",
       "    </tr>\n",
       "    <tr>\n",
       "      <th>0.0010</th>\n",
       "      <td>0.679528</td>\n",
       "      <td>0.665703</td>\n",
       "      <td>0.666131</td>\n",
       "      <td>0.680167</td>\n",
       "      <td>0.768298</td>\n",
       "      <td>0.759593</td>\n",
       "      <td>0.757948</td>\n",
       "      <td>0.766323</td>\n",
       "      <td>20.0</td>\n",
       "      <td>4.0</td>\n",
       "      <td>...</td>\n",
       "      <td>384.0</td>\n",
       "      <td>2.0</td>\n",
       "      <td>1.0</td>\n",
       "      <td>45.333333</td>\n",
       "      <td>1.0</td>\n",
       "      <td>2.0</td>\n",
       "      <td>1.0</td>\n",
       "      <td>5.0</td>\n",
       "      <td>64.0</td>\n",
       "      <td>12.0</td>\n",
       "    </tr>\n",
       "    <tr>\n",
       "      <th rowspan=\"3\" valign=\"top\">0.2</th>\n",
       "      <th>0.0001</th>\n",
       "      <td>0.677043</td>\n",
       "      <td>0.657585</td>\n",
       "      <td>0.655781</td>\n",
       "      <td>0.665706</td>\n",
       "      <td>0.774183</td>\n",
       "      <td>0.764130</td>\n",
       "      <td>0.761997</td>\n",
       "      <td>0.768952</td>\n",
       "      <td>20.0</td>\n",
       "      <td>4.0</td>\n",
       "      <td>...</td>\n",
       "      <td>384.0</td>\n",
       "      <td>2.0</td>\n",
       "      <td>1.0</td>\n",
       "      <td>45.333333</td>\n",
       "      <td>1.0</td>\n",
       "      <td>2.0</td>\n",
       "      <td>1.0</td>\n",
       "      <td>5.0</td>\n",
       "      <td>64.0</td>\n",
       "      <td>16.0</td>\n",
       "    </tr>\n",
       "    <tr>\n",
       "      <th>0.0005</th>\n",
       "      <td>0.685492</td>\n",
       "      <td>0.665343</td>\n",
       "      <td>0.663017</td>\n",
       "      <td>0.672491</td>\n",
       "      <td>0.793728</td>\n",
       "      <td>0.782790</td>\n",
       "      <td>0.781838</td>\n",
       "      <td>0.784427</td>\n",
       "      <td>20.0</td>\n",
       "      <td>4.0</td>\n",
       "      <td>...</td>\n",
       "      <td>384.0</td>\n",
       "      <td>2.0</td>\n",
       "      <td>1.0</td>\n",
       "      <td>45.333333</td>\n",
       "      <td>1.0</td>\n",
       "      <td>2.0</td>\n",
       "      <td>1.0</td>\n",
       "      <td>5.0</td>\n",
       "      <td>64.0</td>\n",
       "      <td>17.0</td>\n",
       "    </tr>\n",
       "    <tr>\n",
       "      <th>0.0010</th>\n",
       "      <td>0.679279</td>\n",
       "      <td>0.664253</td>\n",
       "      <td>0.664032</td>\n",
       "      <td>0.677146</td>\n",
       "      <td>0.754369</td>\n",
       "      <td>0.745807</td>\n",
       "      <td>0.744130</td>\n",
       "      <td>0.753282</td>\n",
       "      <td>20.0</td>\n",
       "      <td>4.0</td>\n",
       "      <td>...</td>\n",
       "      <td>384.0</td>\n",
       "      <td>2.0</td>\n",
       "      <td>1.0</td>\n",
       "      <td>45.333333</td>\n",
       "      <td>1.0</td>\n",
       "      <td>2.0</td>\n",
       "      <td>1.0</td>\n",
       "      <td>5.0</td>\n",
       "      <td>64.0</td>\n",
       "      <td>15.0</td>\n",
       "    </tr>\n",
       "    <tr>\n",
       "      <th rowspan=\"6\" valign=\"top\">(512, 512)</th>\n",
       "      <th rowspan=\"3\" valign=\"top\">0.1</th>\n",
       "      <th>0.0001</th>\n",
       "      <td>0.686362</td>\n",
       "      <td>0.666271</td>\n",
       "      <td>0.663943</td>\n",
       "      <td>0.673571</td>\n",
       "      <td>0.770364</td>\n",
       "      <td>0.759596</td>\n",
       "      <td>0.757475</td>\n",
       "      <td>0.763331</td>\n",
       "      <td>20.0</td>\n",
       "      <td>4.0</td>\n",
       "      <td>...</td>\n",
       "      <td>384.0</td>\n",
       "      <td>2.0</td>\n",
       "      <td>1.0</td>\n",
       "      <td>45.333333</td>\n",
       "      <td>1.0</td>\n",
       "      <td>2.0</td>\n",
       "      <td>1.0</td>\n",
       "      <td>5.0</td>\n",
       "      <td>64.0</td>\n",
       "      <td>19.0</td>\n",
       "    </tr>\n",
       "    <tr>\n",
       "      <th>0.0005</th>\n",
       "      <td>0.678037</td>\n",
       "      <td>0.661279</td>\n",
       "      <td>0.659719</td>\n",
       "      <td>0.671843</td>\n",
       "      <td>0.782630</td>\n",
       "      <td>0.773430</td>\n",
       "      <td>0.770393</td>\n",
       "      <td>0.778719</td>\n",
       "      <td>20.0</td>\n",
       "      <td>4.0</td>\n",
       "      <td>...</td>\n",
       "      <td>384.0</td>\n",
       "      <td>2.0</td>\n",
       "      <td>1.0</td>\n",
       "      <td>45.333333</td>\n",
       "      <td>1.0</td>\n",
       "      <td>2.0</td>\n",
       "      <td>1.0</td>\n",
       "      <td>5.0</td>\n",
       "      <td>64.0</td>\n",
       "      <td>20.0</td>\n",
       "    </tr>\n",
       "    <tr>\n",
       "      <th>0.0010</th>\n",
       "      <td>0.677664</td>\n",
       "      <td>0.663799</td>\n",
       "      <td>0.664309</td>\n",
       "      <td>0.678241</td>\n",
       "      <td>0.750595</td>\n",
       "      <td>0.742706</td>\n",
       "      <td>0.741218</td>\n",
       "      <td>0.751522</td>\n",
       "      <td>20.0</td>\n",
       "      <td>4.0</td>\n",
       "      <td>...</td>\n",
       "      <td>384.0</td>\n",
       "      <td>2.0</td>\n",
       "      <td>1.0</td>\n",
       "      <td>45.333333</td>\n",
       "      <td>1.0</td>\n",
       "      <td>2.0</td>\n",
       "      <td>1.0</td>\n",
       "      <td>5.0</td>\n",
       "      <td>64.0</td>\n",
       "      <td>18.0</td>\n",
       "    </tr>\n",
       "    <tr>\n",
       "      <th rowspan=\"3\" valign=\"top\">0.2</th>\n",
       "      <th>0.0001</th>\n",
       "      <td>0.684747</td>\n",
       "      <td>0.665427</td>\n",
       "      <td>0.663190</td>\n",
       "      <td>0.673436</td>\n",
       "      <td>0.768837</td>\n",
       "      <td>0.759164</td>\n",
       "      <td>0.756471</td>\n",
       "      <td>0.764496</td>\n",
       "      <td>20.0</td>\n",
       "      <td>4.0</td>\n",
       "      <td>...</td>\n",
       "      <td>384.0</td>\n",
       "      <td>2.0</td>\n",
       "      <td>1.0</td>\n",
       "      <td>45.333333</td>\n",
       "      <td>1.0</td>\n",
       "      <td>2.0</td>\n",
       "      <td>1.0</td>\n",
       "      <td>5.0</td>\n",
       "      <td>64.0</td>\n",
       "      <td>22.0</td>\n",
       "    </tr>\n",
       "    <tr>\n",
       "      <th>0.0005</th>\n",
       "      <td>0.671202</td>\n",
       "      <td>0.654849</td>\n",
       "      <td>0.653883</td>\n",
       "      <td>0.665972</td>\n",
       "      <td>0.790718</td>\n",
       "      <td>0.782063</td>\n",
       "      <td>0.778899</td>\n",
       "      <td>0.787856</td>\n",
       "      <td>20.0</td>\n",
       "      <td>4.0</td>\n",
       "      <td>...</td>\n",
       "      <td>384.0</td>\n",
       "      <td>2.0</td>\n",
       "      <td>1.0</td>\n",
       "      <td>45.333333</td>\n",
       "      <td>1.0</td>\n",
       "      <td>2.0</td>\n",
       "      <td>1.0</td>\n",
       "      <td>5.0</td>\n",
       "      <td>64.0</td>\n",
       "      <td>23.0</td>\n",
       "    </tr>\n",
       "    <tr>\n",
       "      <th>0.0010</th>\n",
       "      <td>0.682510</td>\n",
       "      <td>0.667948</td>\n",
       "      <td>0.667147</td>\n",
       "      <td>0.681107</td>\n",
       "      <td>0.758683</td>\n",
       "      <td>0.749446</td>\n",
       "      <td>0.746656</td>\n",
       "      <td>0.755907</td>\n",
       "      <td>20.0</td>\n",
       "      <td>4.0</td>\n",
       "      <td>...</td>\n",
       "      <td>384.0</td>\n",
       "      <td>2.0</td>\n",
       "      <td>1.0</td>\n",
       "      <td>45.333333</td>\n",
       "      <td>1.0</td>\n",
       "      <td>2.0</td>\n",
       "      <td>1.0</td>\n",
       "      <td>5.0</td>\n",
       "      <td>64.0</td>\n",
       "      <td>21.0</td>\n",
       "    </tr>\n",
       "    <tr>\n",
       "      <th rowspan=\"12\" valign=\"top\">(12,)</th>\n",
       "      <th rowspan=\"6\" valign=\"top\">(256, 256)</th>\n",
       "      <th rowspan=\"3\" valign=\"top\">0.1</th>\n",
       "      <th>0.0001</th>\n",
       "      <td>0.693135</td>\n",
       "      <td>0.673808</td>\n",
       "      <td>0.671088</td>\n",
       "      <td>0.681486</td>\n",
       "      <td>0.789235</td>\n",
       "      <td>0.777905</td>\n",
       "      <td>0.776459</td>\n",
       "      <td>0.779755</td>\n",
       "      <td>20.0</td>\n",
       "      <td>3.0</td>\n",
       "      <td>...</td>\n",
       "      <td>384.0</td>\n",
       "      <td>2.0</td>\n",
       "      <td>1.0</td>\n",
       "      <td>45.333333</td>\n",
       "      <td>1.0</td>\n",
       "      <td>2.0</td>\n",
       "      <td>1.0</td>\n",
       "      <td>5.0</td>\n",
       "      <td>64.0</td>\n",
       "      <td>1.0</td>\n",
       "    </tr>\n",
       "    <tr>\n",
       "      <th>0.0005</th>\n",
       "      <td>0.695433</td>\n",
       "      <td>0.676220</td>\n",
       "      <td>0.673814</td>\n",
       "      <td>0.684074</td>\n",
       "      <td>0.796469</td>\n",
       "      <td>0.786314</td>\n",
       "      <td>0.784384</td>\n",
       "      <td>0.789719</td>\n",
       "      <td>20.0</td>\n",
       "      <td>3.0</td>\n",
       "      <td>...</td>\n",
       "      <td>384.0</td>\n",
       "      <td>2.0</td>\n",
       "      <td>1.0</td>\n",
       "      <td>45.333333</td>\n",
       "      <td>1.0</td>\n",
       "      <td>2.0</td>\n",
       "      <td>1.0</td>\n",
       "      <td>5.0</td>\n",
       "      <td>64.0</td>\n",
       "      <td>2.0</td>\n",
       "    </tr>\n",
       "    <tr>\n",
       "      <th>0.0010</th>\n",
       "      <td>0.681143</td>\n",
       "      <td>0.663267</td>\n",
       "      <td>0.661436</td>\n",
       "      <td>0.672797</td>\n",
       "      <td>0.775576</td>\n",
       "      <td>0.765172</td>\n",
       "      <td>0.762918</td>\n",
       "      <td>0.769013</td>\n",
       "      <td>20.0</td>\n",
       "      <td>3.0</td>\n",
       "      <td>...</td>\n",
       "      <td>384.0</td>\n",
       "      <td>2.0</td>\n",
       "      <td>1.0</td>\n",
       "      <td>45.333333</td>\n",
       "      <td>1.0</td>\n",
       "      <td>2.0</td>\n",
       "      <td>1.0</td>\n",
       "      <td>5.0</td>\n",
       "      <td>64.0</td>\n",
       "      <td>0.0</td>\n",
       "    </tr>\n",
       "    <tr>\n",
       "      <th rowspan=\"3\" valign=\"top\">0.2</th>\n",
       "      <th>0.0001</th>\n",
       "      <td>0.692824</td>\n",
       "      <td>0.674928</td>\n",
       "      <td>0.672660</td>\n",
       "      <td>0.684241</td>\n",
       "      <td>0.796738</td>\n",
       "      <td>0.786554</td>\n",
       "      <td>0.784438</td>\n",
       "      <td>0.789643</td>\n",
       "      <td>20.0</td>\n",
       "      <td>3.0</td>\n",
       "      <td>...</td>\n",
       "      <td>384.0</td>\n",
       "      <td>2.0</td>\n",
       "      <td>1.0</td>\n",
       "      <td>45.333333</td>\n",
       "      <td>1.0</td>\n",
       "      <td>2.0</td>\n",
       "      <td>1.0</td>\n",
       "      <td>5.0</td>\n",
       "      <td>64.0</td>\n",
       "      <td>4.0</td>\n",
       "    </tr>\n",
       "    <tr>\n",
       "      <th>0.0005</th>\n",
       "      <td>0.684436</td>\n",
       "      <td>0.669849</td>\n",
       "      <td>0.668886</td>\n",
       "      <td>0.682916</td>\n",
       "      <td>0.790987</td>\n",
       "      <td>0.782892</td>\n",
       "      <td>0.779670</td>\n",
       "      <td>0.789680</td>\n",
       "      <td>20.0</td>\n",
       "      <td>3.0</td>\n",
       "      <td>...</td>\n",
       "      <td>384.0</td>\n",
       "      <td>2.0</td>\n",
       "      <td>1.0</td>\n",
       "      <td>45.333333</td>\n",
       "      <td>1.0</td>\n",
       "      <td>2.0</td>\n",
       "      <td>1.0</td>\n",
       "      <td>5.0</td>\n",
       "      <td>64.0</td>\n",
       "      <td>5.0</td>\n",
       "    </tr>\n",
       "    <tr>\n",
       "      <th>0.0010</th>\n",
       "      <td>0.684995</td>\n",
       "      <td>0.667831</td>\n",
       "      <td>0.666114</td>\n",
       "      <td>0.678138</td>\n",
       "      <td>0.788830</td>\n",
       "      <td>0.778684</td>\n",
       "      <td>0.776262</td>\n",
       "      <td>0.782099</td>\n",
       "      <td>20.0</td>\n",
       "      <td>3.0</td>\n",
       "      <td>...</td>\n",
       "      <td>384.0</td>\n",
       "      <td>2.0</td>\n",
       "      <td>1.0</td>\n",
       "      <td>45.333333</td>\n",
       "      <td>1.0</td>\n",
       "      <td>2.0</td>\n",
       "      <td>1.0</td>\n",
       "      <td>5.0</td>\n",
       "      <td>64.0</td>\n",
       "      <td>3.0</td>\n",
       "    </tr>\n",
       "    <tr>\n",
       "      <th rowspan=\"6\" valign=\"top\">(512, 512)</th>\n",
       "      <th rowspan=\"3\" valign=\"top\">0.1</th>\n",
       "      <th>0.0001</th>\n",
       "      <td>0.685182</td>\n",
       "      <td>0.669580</td>\n",
       "      <td>0.668208</td>\n",
       "      <td>0.681480</td>\n",
       "      <td>0.775981</td>\n",
       "      <td>0.766592</td>\n",
       "      <td>0.763798</td>\n",
       "      <td>0.772078</td>\n",
       "      <td>20.0</td>\n",
       "      <td>3.0</td>\n",
       "      <td>...</td>\n",
       "      <td>384.0</td>\n",
       "      <td>2.0</td>\n",
       "      <td>1.0</td>\n",
       "      <td>45.333333</td>\n",
       "      <td>1.0</td>\n",
       "      <td>2.0</td>\n",
       "      <td>1.0</td>\n",
       "      <td>5.0</td>\n",
       "      <td>64.0</td>\n",
       "      <td>7.0</td>\n",
       "    </tr>\n",
       "    <tr>\n",
       "      <th>0.0005</th>\n",
       "      <td>0.691768</td>\n",
       "      <td>0.674058</td>\n",
       "      <td>0.672103</td>\n",
       "      <td>0.683592</td>\n",
       "      <td>0.795525</td>\n",
       "      <td>0.785713</td>\n",
       "      <td>0.783787</td>\n",
       "      <td>0.789658</td>\n",
       "      <td>20.0</td>\n",
       "      <td>3.0</td>\n",
       "      <td>...</td>\n",
       "      <td>384.0</td>\n",
       "      <td>2.0</td>\n",
       "      <td>1.0</td>\n",
       "      <td>45.333333</td>\n",
       "      <td>1.0</td>\n",
       "      <td>2.0</td>\n",
       "      <td>1.0</td>\n",
       "      <td>5.0</td>\n",
       "      <td>64.0</td>\n",
       "      <td>8.0</td>\n",
       "    </tr>\n",
       "    <tr>\n",
       "      <th>0.0010</th>\n",
       "      <td>0.679155</td>\n",
       "      <td>0.664650</td>\n",
       "      <td>0.664057</td>\n",
       "      <td>0.677829</td>\n",
       "      <td>0.791706</td>\n",
       "      <td>0.784708</td>\n",
       "      <td>0.781488</td>\n",
       "      <td>0.793498</td>\n",
       "      <td>20.0</td>\n",
       "      <td>3.0</td>\n",
       "      <td>...</td>\n",
       "      <td>384.0</td>\n",
       "      <td>2.0</td>\n",
       "      <td>1.0</td>\n",
       "      <td>45.333333</td>\n",
       "      <td>1.0</td>\n",
       "      <td>2.0</td>\n",
       "      <td>1.0</td>\n",
       "      <td>5.0</td>\n",
       "      <td>64.0</td>\n",
       "      <td>6.0</td>\n",
       "    </tr>\n",
       "    <tr>\n",
       "      <th rowspan=\"3\" valign=\"top\">0.2</th>\n",
       "      <th>0.0001</th>\n",
       "      <td>0.688226</td>\n",
       "      <td>0.672194</td>\n",
       "      <td>0.670379</td>\n",
       "      <td>0.683493</td>\n",
       "      <td>0.779710</td>\n",
       "      <td>0.770221</td>\n",
       "      <td>0.767364</td>\n",
       "      <td>0.775227</td>\n",
       "      <td>20.0</td>\n",
       "      <td>3.0</td>\n",
       "      <td>...</td>\n",
       "      <td>384.0</td>\n",
       "      <td>2.0</td>\n",
       "      <td>1.0</td>\n",
       "      <td>45.333333</td>\n",
       "      <td>1.0</td>\n",
       "      <td>2.0</td>\n",
       "      <td>1.0</td>\n",
       "      <td>5.0</td>\n",
       "      <td>64.0</td>\n",
       "      <td>10.0</td>\n",
       "    </tr>\n",
       "    <tr>\n",
       "      <th>0.0005</th>\n",
       "      <td>0.695993</td>\n",
       "      <td>0.678209</td>\n",
       "      <td>0.675944</td>\n",
       "      <td>0.687580</td>\n",
       "      <td>0.801411</td>\n",
       "      <td>0.791351</td>\n",
       "      <td>0.789676</td>\n",
       "      <td>0.794165</td>\n",
       "      <td>20.0</td>\n",
       "      <td>3.0</td>\n",
       "      <td>...</td>\n",
       "      <td>384.0</td>\n",
       "      <td>2.0</td>\n",
       "      <td>1.0</td>\n",
       "      <td>45.333333</td>\n",
       "      <td>1.0</td>\n",
       "      <td>2.0</td>\n",
       "      <td>1.0</td>\n",
       "      <td>5.0</td>\n",
       "      <td>64.0</td>\n",
       "      <td>11.0</td>\n",
       "    </tr>\n",
       "    <tr>\n",
       "      <th>0.0010</th>\n",
       "      <td>0.684685</td>\n",
       "      <td>0.667198</td>\n",
       "      <td>0.665623</td>\n",
       "      <td>0.677038</td>\n",
       "      <td>0.770724</td>\n",
       "      <td>0.761012</td>\n",
       "      <td>0.758968</td>\n",
       "      <td>0.765862</td>\n",
       "      <td>20.0</td>\n",
       "      <td>3.0</td>\n",
       "      <td>...</td>\n",
       "      <td>384.0</td>\n",
       "      <td>2.0</td>\n",
       "      <td>1.0</td>\n",
       "      <td>45.333333</td>\n",
       "      <td>1.0</td>\n",
       "      <td>2.0</td>\n",
       "      <td>1.0</td>\n",
       "      <td>5.0</td>\n",
       "      <td>64.0</td>\n",
       "      <td>9.0</td>\n",
       "    </tr>\n",
       "  </tbody>\n",
       "</table>\n",
       "<p>24 rows × 23 columns</p>\n",
       "</div>"
      ],
      "text/plain": [
       "                                                                      accuracy  \\\n",
       "dimensions swnu_hidden_dim ffn_hidden_dim dropout_rate learning_rate             \n",
       "15         (10,)           (256, 256)     0.1          0.0001         0.684809   \n",
       "                                                       0.0005         0.689034   \n",
       "                                                       0.0010         0.679528   \n",
       "                                          0.2          0.0001         0.677043   \n",
       "                                                       0.0005         0.685492   \n",
       "                                                       0.0010         0.679279   \n",
       "                           (512, 512)     0.1          0.0001         0.686362   \n",
       "                                                       0.0005         0.678037   \n",
       "                                                       0.0010         0.677664   \n",
       "                                          0.2          0.0001         0.684747   \n",
       "                                                       0.0005         0.671202   \n",
       "                                                       0.0010         0.682510   \n",
       "           (12,)           (256, 256)     0.1          0.0001         0.693135   \n",
       "                                                       0.0005         0.695433   \n",
       "                                                       0.0010         0.681143   \n",
       "                                          0.2          0.0001         0.692824   \n",
       "                                                       0.0005         0.684436   \n",
       "                                                       0.0010         0.684995   \n",
       "                           (512, 512)     0.1          0.0001         0.685182   \n",
       "                                                       0.0005         0.691768   \n",
       "                                                       0.0010         0.679155   \n",
       "                                          0.2          0.0001         0.688226   \n",
       "                                                       0.0005         0.695993   \n",
       "                                                       0.0010         0.684685   \n",
       "\n",
       "                                                                            f1  \\\n",
       "dimensions swnu_hidden_dim ffn_hidden_dim dropout_rate learning_rate             \n",
       "15         (10,)           (256, 256)     0.1          0.0001         0.665335   \n",
       "                                                       0.0005         0.668113   \n",
       "                                                       0.0010         0.665703   \n",
       "                                          0.2          0.0001         0.657585   \n",
       "                                                       0.0005         0.665343   \n",
       "                                                       0.0010         0.664253   \n",
       "                           (512, 512)     0.1          0.0001         0.666271   \n",
       "                                                       0.0005         0.661279   \n",
       "                                                       0.0010         0.663799   \n",
       "                                          0.2          0.0001         0.665427   \n",
       "                                                       0.0005         0.654849   \n",
       "                                                       0.0010         0.667948   \n",
       "           (12,)           (256, 256)     0.1          0.0001         0.673808   \n",
       "                                                       0.0005         0.676220   \n",
       "                                                       0.0010         0.663267   \n",
       "                                          0.2          0.0001         0.674928   \n",
       "                                                       0.0005         0.669849   \n",
       "                                                       0.0010         0.667831   \n",
       "                           (512, 512)     0.1          0.0001         0.669580   \n",
       "                                                       0.0005         0.674058   \n",
       "                                                       0.0010         0.664650   \n",
       "                                          0.2          0.0001         0.672194   \n",
       "                                                       0.0005         0.678209   \n",
       "                                                       0.0010         0.667198   \n",
       "\n",
       "                                                                      precision  \\\n",
       "dimensions swnu_hidden_dim ffn_hidden_dim dropout_rate learning_rate              \n",
       "15         (10,)           (256, 256)     0.1          0.0001          0.663373   \n",
       "                                                       0.0005          0.667514   \n",
       "                                                       0.0010          0.666131   \n",
       "                                          0.2          0.0001          0.655781   \n",
       "                                                       0.0005          0.663017   \n",
       "                                                       0.0010          0.664032   \n",
       "                           (512, 512)     0.1          0.0001          0.663943   \n",
       "                                                       0.0005          0.659719   \n",
       "                                                       0.0010          0.664309   \n",
       "                                          0.2          0.0001          0.663190   \n",
       "                                                       0.0005          0.653883   \n",
       "                                                       0.0010          0.667147   \n",
       "           (12,)           (256, 256)     0.1          0.0001          0.671088   \n",
       "                                                       0.0005          0.673814   \n",
       "                                                       0.0010          0.661436   \n",
       "                                          0.2          0.0001          0.672660   \n",
       "                                                       0.0005          0.668886   \n",
       "                                                       0.0010          0.666114   \n",
       "                           (512, 512)     0.1          0.0001          0.668208   \n",
       "                                                       0.0005          0.672103   \n",
       "                                                       0.0010          0.664057   \n",
       "                                          0.2          0.0001          0.670379   \n",
       "                                                       0.0005          0.675944   \n",
       "                                                       0.0010          0.665623   \n",
       "\n",
       "                                                                        recall  \\\n",
       "dimensions swnu_hidden_dim ffn_hidden_dim dropout_rate learning_rate             \n",
       "15         (10,)           (256, 256)     0.1          0.0001         0.673360   \n",
       "                                                       0.0005         0.675625   \n",
       "                                                       0.0010         0.680167   \n",
       "                                          0.2          0.0001         0.665706   \n",
       "                                                       0.0005         0.672491   \n",
       "                                                       0.0010         0.677146   \n",
       "                           (512, 512)     0.1          0.0001         0.673571   \n",
       "                                                       0.0005         0.671843   \n",
       "                                                       0.0010         0.678241   \n",
       "                                          0.2          0.0001         0.673436   \n",
       "                                                       0.0005         0.665972   \n",
       "                                                       0.0010         0.681107   \n",
       "           (12,)           (256, 256)     0.1          0.0001         0.681486   \n",
       "                                                       0.0005         0.684074   \n",
       "                                                       0.0010         0.672797   \n",
       "                                          0.2          0.0001         0.684241   \n",
       "                                                       0.0005         0.682916   \n",
       "                                                       0.0010         0.678138   \n",
       "                           (512, 512)     0.1          0.0001         0.681480   \n",
       "                                                       0.0005         0.683592   \n",
       "                                                       0.0010         0.677829   \n",
       "                                          0.2          0.0001         0.683493   \n",
       "                                                       0.0005         0.687580   \n",
       "                                                       0.0010         0.677038   \n",
       "\n",
       "                                                                      valid_accuracy  \\\n",
       "dimensions swnu_hidden_dim ffn_hidden_dim dropout_rate learning_rate                   \n",
       "15         (10,)           (256, 256)     0.1          0.0001               0.773465   \n",
       "                                                       0.0005               0.787887   \n",
       "                                                       0.0010               0.768298   \n",
       "                                          0.2          0.0001               0.774183   \n",
       "                                                       0.0005               0.793728   \n",
       "                                                       0.0010               0.754369   \n",
       "                           (512, 512)     0.1          0.0001               0.770364   \n",
       "                                                       0.0005               0.782630   \n",
       "                                                       0.0010               0.750595   \n",
       "                                          0.2          0.0001               0.768837   \n",
       "                                                       0.0005               0.790718   \n",
       "                                                       0.0010               0.758683   \n",
       "           (12,)           (256, 256)     0.1          0.0001               0.789235   \n",
       "                                                       0.0005               0.796469   \n",
       "                                                       0.0010               0.775576   \n",
       "                                          0.2          0.0001               0.796738   \n",
       "                                                       0.0005               0.790987   \n",
       "                                                       0.0010               0.788830   \n",
       "                           (512, 512)     0.1          0.0001               0.775981   \n",
       "                                                       0.0005               0.795525   \n",
       "                                                       0.0010               0.791706   \n",
       "                                          0.2          0.0001               0.779710   \n",
       "                                                       0.0005               0.801411   \n",
       "                                                       0.0010               0.770724   \n",
       "\n",
       "                                                                      valid_f1  \\\n",
       "dimensions swnu_hidden_dim ffn_hidden_dim dropout_rate learning_rate             \n",
       "15         (10,)           (256, 256)     0.1          0.0001         0.762911   \n",
       "                                                       0.0005         0.777396   \n",
       "                                                       0.0010         0.759593   \n",
       "                                          0.2          0.0001         0.764130   \n",
       "                                                       0.0005         0.782790   \n",
       "                                                       0.0010         0.745807   \n",
       "                           (512, 512)     0.1          0.0001         0.759596   \n",
       "                                                       0.0005         0.773430   \n",
       "                                                       0.0010         0.742706   \n",
       "                                          0.2          0.0001         0.759164   \n",
       "                                                       0.0005         0.782063   \n",
       "                                                       0.0010         0.749446   \n",
       "           (12,)           (256, 256)     0.1          0.0001         0.777905   \n",
       "                                                       0.0005         0.786314   \n",
       "                                                       0.0010         0.765172   \n",
       "                                          0.2          0.0001         0.786554   \n",
       "                                                       0.0005         0.782892   \n",
       "                                                       0.0010         0.778684   \n",
       "                           (512, 512)     0.1          0.0001         0.766592   \n",
       "                                                       0.0005         0.785713   \n",
       "                                                       0.0010         0.784708   \n",
       "                                          0.2          0.0001         0.770221   \n",
       "                                                       0.0005         0.791351   \n",
       "                                                       0.0010         0.761012   \n",
       "\n",
       "                                                                      valid_precision  \\\n",
       "dimensions swnu_hidden_dim ffn_hidden_dim dropout_rate learning_rate                    \n",
       "15         (10,)           (256, 256)     0.1          0.0001                0.760921   \n",
       "                                                       0.0005                0.777358   \n",
       "                                                       0.0010                0.757948   \n",
       "                                          0.2          0.0001                0.761997   \n",
       "                                                       0.0005                0.781838   \n",
       "                                                       0.0010                0.744130   \n",
       "                           (512, 512)     0.1          0.0001                0.757475   \n",
       "                                                       0.0005                0.770393   \n",
       "                                                       0.0010                0.741218   \n",
       "                                          0.2          0.0001                0.756471   \n",
       "                                                       0.0005                0.778899   \n",
       "                                                       0.0010                0.746656   \n",
       "           (12,)           (256, 256)     0.1          0.0001                0.776459   \n",
       "                                                       0.0005                0.784384   \n",
       "                                                       0.0010                0.762918   \n",
       "                                          0.2          0.0001                0.784438   \n",
       "                                                       0.0005                0.779670   \n",
       "                                                       0.0010                0.776262   \n",
       "                           (512, 512)     0.1          0.0001                0.763798   \n",
       "                                                       0.0005                0.783787   \n",
       "                                                       0.0010                0.781488   \n",
       "                                          0.2          0.0001                0.767364   \n",
       "                                                       0.0005                0.789676   \n",
       "                                                       0.0010                0.758968   \n",
       "\n",
       "                                                                      valid_recall  \\\n",
       "dimensions swnu_hidden_dim ffn_hidden_dim dropout_rate learning_rate                 \n",
       "15         (10,)           (256, 256)     0.1          0.0001             0.766968   \n",
       "                                                       0.0005             0.780001   \n",
       "                                                       0.0010             0.766323   \n",
       "                                          0.2          0.0001             0.768952   \n",
       "                                                       0.0005             0.784427   \n",
       "                                                       0.0010             0.753282   \n",
       "                           (512, 512)     0.1          0.0001             0.763331   \n",
       "                                                       0.0005             0.778719   \n",
       "                                                       0.0010             0.751522   \n",
       "                                          0.2          0.0001             0.764496   \n",
       "                                                       0.0005             0.787856   \n",
       "                                                       0.0010             0.755907   \n",
       "           (12,)           (256, 256)     0.1          0.0001             0.779755   \n",
       "                                                       0.0005             0.789719   \n",
       "                                                       0.0010             0.769013   \n",
       "                                          0.2          0.0001             0.789643   \n",
       "                                                       0.0005             0.789680   \n",
       "                                                       0.0010             0.782099   \n",
       "                           (512, 512)     0.1          0.0001             0.772078   \n",
       "                                                       0.0005             0.789658   \n",
       "                                                       0.0010             0.793498   \n",
       "                                          0.2          0.0001             0.775227   \n",
       "                                                       0.0005             0.794165   \n",
       "                                                       0.0010             0.765862   \n",
       "\n",
       "                                                                         k  \\\n",
       "dimensions swnu_hidden_dim ffn_hidden_dim dropout_rate learning_rate         \n",
       "15         (10,)           (256, 256)     0.1          0.0001         20.0   \n",
       "                                                       0.0005         20.0   \n",
       "                                                       0.0010         20.0   \n",
       "                                          0.2          0.0001         20.0   \n",
       "                                                       0.0005         20.0   \n",
       "                                                       0.0010         20.0   \n",
       "                           (512, 512)     0.1          0.0001         20.0   \n",
       "                                                       0.0005         20.0   \n",
       "                                                       0.0010         20.0   \n",
       "                                          0.2          0.0001         20.0   \n",
       "                                                       0.0005         20.0   \n",
       "                                                       0.0010         20.0   \n",
       "           (12,)           (256, 256)     0.1          0.0001         20.0   \n",
       "                                                       0.0005         20.0   \n",
       "                                                       0.0010         20.0   \n",
       "                                          0.2          0.0001         20.0   \n",
       "                                                       0.0005         20.0   \n",
       "                                                       0.0010         20.0   \n",
       "                           (512, 512)     0.1          0.0001         20.0   \n",
       "                                                       0.0005         20.0   \n",
       "                                                       0.0010         20.0   \n",
       "                                          0.2          0.0001         20.0   \n",
       "                                                       0.0005         20.0   \n",
       "                                                       0.0010         20.0   \n",
       "\n",
       "                                                                      sig_depth  \\\n",
       "dimensions swnu_hidden_dim ffn_hidden_dim dropout_rate learning_rate              \n",
       "15         (10,)           (256, 256)     0.1          0.0001               4.0   \n",
       "                                                       0.0005               4.0   \n",
       "                                                       0.0010               4.0   \n",
       "                                          0.2          0.0001               4.0   \n",
       "                                                       0.0005               4.0   \n",
       "                                                       0.0010               4.0   \n",
       "                           (512, 512)     0.1          0.0001               4.0   \n",
       "                                                       0.0005               4.0   \n",
       "                                                       0.0010               4.0   \n",
       "                                          0.2          0.0001               4.0   \n",
       "                                                       0.0005               4.0   \n",
       "                                                       0.0010               4.0   \n",
       "           (12,)           (256, 256)     0.1          0.0001               3.0   \n",
       "                                                       0.0005               3.0   \n",
       "                                                       0.0010               3.0   \n",
       "                                          0.2          0.0001               3.0   \n",
       "                                                       0.0005               3.0   \n",
       "                                                       0.0010               3.0   \n",
       "                           (512, 512)     0.1          0.0001               3.0   \n",
       "                                                       0.0005               3.0   \n",
       "                                                       0.0010               3.0   \n",
       "                                          0.2          0.0001               3.0   \n",
       "                                                       0.0005               3.0   \n",
       "                                                       0.0010               3.0   \n",
       "\n",
       "                                                                      ...  \\\n",
       "dimensions swnu_hidden_dim ffn_hidden_dim dropout_rate learning_rate  ...   \n",
       "15         (10,)           (256, 256)     0.1          0.0001         ...   \n",
       "                                                       0.0005         ...   \n",
       "                                                       0.0010         ...   \n",
       "                                          0.2          0.0001         ...   \n",
       "                                                       0.0005         ...   \n",
       "                                                       0.0010         ...   \n",
       "                           (512, 512)     0.1          0.0001         ...   \n",
       "                                                       0.0005         ...   \n",
       "                                                       0.0010         ...   \n",
       "                                          0.2          0.0001         ...   \n",
       "                                                       0.0005         ...   \n",
       "                                                       0.0010         ...   \n",
       "           (12,)           (256, 256)     0.1          0.0001         ...   \n",
       "                                                       0.0005         ...   \n",
       "                                                       0.0010         ...   \n",
       "                                          0.2          0.0001         ...   \n",
       "                                                       0.0005         ...   \n",
       "                                                       0.0010         ...   \n",
       "                           (512, 512)     0.1          0.0001         ...   \n",
       "                                                       0.0005         ...   \n",
       "                                                       0.0010         ...   \n",
       "                                          0.2          0.0001         ...   \n",
       "                                                       0.0005         ...   \n",
       "                                                       0.0010         ...   \n",
       "\n",
       "                                                                      embedding_dim  \\\n",
       "dimensions swnu_hidden_dim ffn_hidden_dim dropout_rate learning_rate                  \n",
       "15         (10,)           (256, 256)     0.1          0.0001                 384.0   \n",
       "                                                       0.0005                 384.0   \n",
       "                                                       0.0010                 384.0   \n",
       "                                          0.2          0.0001                 384.0   \n",
       "                                                       0.0005                 384.0   \n",
       "                                                       0.0010                 384.0   \n",
       "                           (512, 512)     0.1          0.0001                 384.0   \n",
       "                                                       0.0005                 384.0   \n",
       "                                                       0.0010                 384.0   \n",
       "                                          0.2          0.0001                 384.0   \n",
       "                                                       0.0005                 384.0   \n",
       "                                                       0.0010                 384.0   \n",
       "           (12,)           (256, 256)     0.1          0.0001                 384.0   \n",
       "                                                       0.0005                 384.0   \n",
       "                                                       0.0010                 384.0   \n",
       "                                          0.2          0.0001                 384.0   \n",
       "                                                       0.0005                 384.0   \n",
       "                                                       0.0010                 384.0   \n",
       "                           (512, 512)     0.1          0.0001                 384.0   \n",
       "                                                       0.0005                 384.0   \n",
       "                                                       0.0010                 384.0   \n",
       "                                          0.2          0.0001                 384.0   \n",
       "                                                       0.0005                 384.0   \n",
       "                                                       0.0010                 384.0   \n",
       "\n",
       "                                                                      num_features  \\\n",
       "dimensions swnu_hidden_dim ffn_hidden_dim dropout_rate learning_rate                 \n",
       "15         (10,)           (256, 256)     0.1          0.0001                  2.0   \n",
       "                                                       0.0005                  2.0   \n",
       "                                                       0.0010                  2.0   \n",
       "                                          0.2          0.0001                  2.0   \n",
       "                                                       0.0005                  2.0   \n",
       "                                                       0.0010                  2.0   \n",
       "                           (512, 512)     0.1          0.0001                  2.0   \n",
       "                                                       0.0005                  2.0   \n",
       "                                                       0.0010                  2.0   \n",
       "                                          0.2          0.0001                  2.0   \n",
       "                                                       0.0005                  2.0   \n",
       "                                                       0.0010                  2.0   \n",
       "           (12,)           (256, 256)     0.1          0.0001                  2.0   \n",
       "                                                       0.0005                  2.0   \n",
       "                                                       0.0010                  2.0   \n",
       "                                          0.2          0.0001                  2.0   \n",
       "                                                       0.0005                  2.0   \n",
       "                                                       0.0010                  2.0   \n",
       "                           (512, 512)     0.1          0.0001                  2.0   \n",
       "                                                       0.0005                  2.0   \n",
       "                                                       0.0010                  2.0   \n",
       "                                          0.2          0.0001                  2.0   \n",
       "                                                       0.0005                  2.0   \n",
       "                                                       0.0010                  2.0   \n",
       "\n",
       "                                                                      log_signature  \\\n",
       "dimensions swnu_hidden_dim ffn_hidden_dim dropout_rate learning_rate                  \n",
       "15         (10,)           (256, 256)     0.1          0.0001                   1.0   \n",
       "                                                       0.0005                   1.0   \n",
       "                                                       0.0010                   1.0   \n",
       "                                          0.2          0.0001                   1.0   \n",
       "                                                       0.0005                   1.0   \n",
       "                                                       0.0010                   1.0   \n",
       "                           (512, 512)     0.1          0.0001                   1.0   \n",
       "                                                       0.0005                   1.0   \n",
       "                                                       0.0010                   1.0   \n",
       "                                          0.2          0.0001                   1.0   \n",
       "                                                       0.0005                   1.0   \n",
       "                                                       0.0010                   1.0   \n",
       "           (12,)           (256, 256)     0.1          0.0001                   1.0   \n",
       "                                                       0.0005                   1.0   \n",
       "                                                       0.0010                   1.0   \n",
       "                                          0.2          0.0001                   1.0   \n",
       "                                                       0.0005                   1.0   \n",
       "                                                       0.0010                   1.0   \n",
       "                           (512, 512)     0.1          0.0001                   1.0   \n",
       "                                                       0.0005                   1.0   \n",
       "                                                       0.0010                   1.0   \n",
       "                                          0.2          0.0001                   1.0   \n",
       "                                                       0.0005                   1.0   \n",
       "                                                       0.0010                   1.0   \n",
       "\n",
       "                                                                           seed  \\\n",
       "dimensions swnu_hidden_dim ffn_hidden_dim dropout_rate learning_rate              \n",
       "15         (10,)           (256, 256)     0.1          0.0001         45.333333   \n",
       "                                                       0.0005         45.333333   \n",
       "                                                       0.0010         45.333333   \n",
       "                                          0.2          0.0001         45.333333   \n",
       "                                                       0.0005         45.333333   \n",
       "                                                       0.0010         45.333333   \n",
       "                           (512, 512)     0.1          0.0001         45.333333   \n",
       "                                                       0.0005         45.333333   \n",
       "                                                       0.0010         45.333333   \n",
       "                                          0.2          0.0001         45.333333   \n",
       "                                                       0.0005         45.333333   \n",
       "                                                       0.0010         45.333333   \n",
       "           (12,)           (256, 256)     0.1          0.0001         45.333333   \n",
       "                                                       0.0005         45.333333   \n",
       "                                                       0.0010         45.333333   \n",
       "                                          0.2          0.0001         45.333333   \n",
       "                                                       0.0005         45.333333   \n",
       "                                                       0.0010         45.333333   \n",
       "                           (512, 512)     0.1          0.0001         45.333333   \n",
       "                                                       0.0005         45.333333   \n",
       "                                                       0.0010         45.333333   \n",
       "                                          0.2          0.0001         45.333333   \n",
       "                                                       0.0005         45.333333   \n",
       "                                                       0.0010         45.333333   \n",
       "\n",
       "                                                                      BiLSTM  \\\n",
       "dimensions swnu_hidden_dim ffn_hidden_dim dropout_rate learning_rate           \n",
       "15         (10,)           (256, 256)     0.1          0.0001            1.0   \n",
       "                                                       0.0005            1.0   \n",
       "                                                       0.0010            1.0   \n",
       "                                          0.2          0.0001            1.0   \n",
       "                                                       0.0005            1.0   \n",
       "                                                       0.0010            1.0   \n",
       "                           (512, 512)     0.1          0.0001            1.0   \n",
       "                                                       0.0005            1.0   \n",
       "                                                       0.0010            1.0   \n",
       "                                          0.2          0.0001            1.0   \n",
       "                                                       0.0005            1.0   \n",
       "                                                       0.0010            1.0   \n",
       "           (12,)           (256, 256)     0.1          0.0001            1.0   \n",
       "                                                       0.0005            1.0   \n",
       "                                                       0.0010            1.0   \n",
       "                                          0.2          0.0001            1.0   \n",
       "                                                       0.0005            1.0   \n",
       "                                                       0.0010            1.0   \n",
       "                           (512, 512)     0.1          0.0001            1.0   \n",
       "                                                       0.0005            1.0   \n",
       "                                                       0.0010            1.0   \n",
       "                                          0.2          0.0001            1.0   \n",
       "                                                       0.0005            1.0   \n",
       "                                                       0.0010            1.0   \n",
       "\n",
       "                                                                      gamma  \\\n",
       "dimensions swnu_hidden_dim ffn_hidden_dim dropout_rate learning_rate          \n",
       "15         (10,)           (256, 256)     0.1          0.0001           2.0   \n",
       "                                                       0.0005           2.0   \n",
       "                                                       0.0010           2.0   \n",
       "                                          0.2          0.0001           2.0   \n",
       "                                                       0.0005           2.0   \n",
       "                                                       0.0010           2.0   \n",
       "                           (512, 512)     0.1          0.0001           2.0   \n",
       "                                                       0.0005           2.0   \n",
       "                                                       0.0010           2.0   \n",
       "                                          0.2          0.0001           2.0   \n",
       "                                                       0.0005           2.0   \n",
       "                                                       0.0010           2.0   \n",
       "           (12,)           (256, 256)     0.1          0.0001           2.0   \n",
       "                                                       0.0005           2.0   \n",
       "                                                       0.0010           2.0   \n",
       "                                          0.2          0.0001           2.0   \n",
       "                                                       0.0005           2.0   \n",
       "                                                       0.0010           2.0   \n",
       "                           (512, 512)     0.1          0.0001           2.0   \n",
       "                                                       0.0005           2.0   \n",
       "                                                       0.0010           2.0   \n",
       "                                          0.2          0.0001           2.0   \n",
       "                                                       0.0005           2.0   \n",
       "                                                       0.0010           2.0   \n",
       "\n",
       "                                                                      k_fold  \\\n",
       "dimensions swnu_hidden_dim ffn_hidden_dim dropout_rate learning_rate           \n",
       "15         (10,)           (256, 256)     0.1          0.0001            1.0   \n",
       "                                                       0.0005            1.0   \n",
       "                                                       0.0010            1.0   \n",
       "                                          0.2          0.0001            1.0   \n",
       "                                                       0.0005            1.0   \n",
       "                                                       0.0010            1.0   \n",
       "                           (512, 512)     0.1          0.0001            1.0   \n",
       "                                                       0.0005            1.0   \n",
       "                                                       0.0010            1.0   \n",
       "                                          0.2          0.0001            1.0   \n",
       "                                                       0.0005            1.0   \n",
       "                                                       0.0010            1.0   \n",
       "           (12,)           (256, 256)     0.1          0.0001            1.0   \n",
       "                                                       0.0005            1.0   \n",
       "                                                       0.0010            1.0   \n",
       "                                          0.2          0.0001            1.0   \n",
       "                                                       0.0005            1.0   \n",
       "                                                       0.0010            1.0   \n",
       "                           (512, 512)     0.1          0.0001            1.0   \n",
       "                                                       0.0005            1.0   \n",
       "                                                       0.0010            1.0   \n",
       "                                          0.2          0.0001            1.0   \n",
       "                                                       0.0005            1.0   \n",
       "                                                       0.0010            1.0   \n",
       "\n",
       "                                                                      n_splits  \\\n",
       "dimensions swnu_hidden_dim ffn_hidden_dim dropout_rate learning_rate             \n",
       "15         (10,)           (256, 256)     0.1          0.0001              5.0   \n",
       "                                                       0.0005              5.0   \n",
       "                                                       0.0010              5.0   \n",
       "                                          0.2          0.0001              5.0   \n",
       "                                                       0.0005              5.0   \n",
       "                                                       0.0010              5.0   \n",
       "                           (512, 512)     0.1          0.0001              5.0   \n",
       "                                                       0.0005              5.0   \n",
       "                                                       0.0010              5.0   \n",
       "                                          0.2          0.0001              5.0   \n",
       "                                                       0.0005              5.0   \n",
       "                                                       0.0010              5.0   \n",
       "           (12,)           (256, 256)     0.1          0.0001              5.0   \n",
       "                                                       0.0005              5.0   \n",
       "                                                       0.0010              5.0   \n",
       "                                          0.2          0.0001              5.0   \n",
       "                                                       0.0005              5.0   \n",
       "                                                       0.0010              5.0   \n",
       "                           (512, 512)     0.1          0.0001              5.0   \n",
       "                                                       0.0005              5.0   \n",
       "                                                       0.0010              5.0   \n",
       "                                          0.2          0.0001              5.0   \n",
       "                                                       0.0005              5.0   \n",
       "                                                       0.0010              5.0   \n",
       "\n",
       "                                                                      batch_size  \\\n",
       "dimensions swnu_hidden_dim ffn_hidden_dim dropout_rate learning_rate               \n",
       "15         (10,)           (256, 256)     0.1          0.0001               64.0   \n",
       "                                                       0.0005               64.0   \n",
       "                                                       0.0010               64.0   \n",
       "                                          0.2          0.0001               64.0   \n",
       "                                                       0.0005               64.0   \n",
       "                                                       0.0010               64.0   \n",
       "                           (512, 512)     0.1          0.0001               64.0   \n",
       "                                                       0.0005               64.0   \n",
       "                                                       0.0010               64.0   \n",
       "                                          0.2          0.0001               64.0   \n",
       "                                                       0.0005               64.0   \n",
       "                                                       0.0010               64.0   \n",
       "           (12,)           (256, 256)     0.1          0.0001               64.0   \n",
       "                                                       0.0005               64.0   \n",
       "                                                       0.0010               64.0   \n",
       "                                          0.2          0.0001               64.0   \n",
       "                                                       0.0005               64.0   \n",
       "                                                       0.0010               64.0   \n",
       "                           (512, 512)     0.1          0.0001               64.0   \n",
       "                                                       0.0005               64.0   \n",
       "                                                       0.0010               64.0   \n",
       "                                          0.2          0.0001               64.0   \n",
       "                                                       0.0005               64.0   \n",
       "                                                       0.0010               64.0   \n",
       "\n",
       "                                                                      model_id  \n",
       "dimensions swnu_hidden_dim ffn_hidden_dim dropout_rate learning_rate            \n",
       "15         (10,)           (256, 256)     0.1          0.0001             13.0  \n",
       "                                                       0.0005             14.0  \n",
       "                                                       0.0010             12.0  \n",
       "                                          0.2          0.0001             16.0  \n",
       "                                                       0.0005             17.0  \n",
       "                                                       0.0010             15.0  \n",
       "                           (512, 512)     0.1          0.0001             19.0  \n",
       "                                                       0.0005             20.0  \n",
       "                                                       0.0010             18.0  \n",
       "                                          0.2          0.0001             22.0  \n",
       "                                                       0.0005             23.0  \n",
       "                                                       0.0010             21.0  \n",
       "           (12,)           (256, 256)     0.1          0.0001              1.0  \n",
       "                                                       0.0005              2.0  \n",
       "                                                       0.0010              0.0  \n",
       "                                          0.2          0.0001              4.0  \n",
       "                                                       0.0005              5.0  \n",
       "                                                       0.0010              3.0  \n",
       "                           (512, 512)     0.1          0.0001              7.0  \n",
       "                                                       0.0005              8.0  \n",
       "                                                       0.0010              6.0  \n",
       "                                          0.2          0.0001             10.0  \n",
       "                                                       0.0005             11.0  \n",
       "                                                       0.0010              9.0  \n",
       "\n",
       "[24 rows x 23 columns]"
      ]
     },
     "execution_count": 13,
     "metadata": {},
     "output_type": "execute_result"
    }
   ],
   "source": [
    "swnu_network_umap_kfold_20.groupby(\n",
    "    [\"dimensions\", \"swnu_hidden_dim\", \"ffn_hidden_dim\", \"dropout_rate\", \"learning_rate\"]\n",
    ").mean()"
   ]
  },
  {
   "cell_type": "code",
   "execution_count": 14,
   "metadata": {},
   "outputs": [
    {
     "data": {
      "text/html": [
       "<div>\n",
       "<style scoped>\n",
       "    .dataframe tbody tr th:only-of-type {\n",
       "        vertical-align: middle;\n",
       "    }\n",
       "\n",
       "    .dataframe tbody tr th {\n",
       "        vertical-align: top;\n",
       "    }\n",
       "\n",
       "    .dataframe thead th {\n",
       "        text-align: right;\n",
       "    }\n",
       "</style>\n",
       "<table border=\"1\" class=\"dataframe\">\n",
       "  <thead>\n",
       "    <tr style=\"text-align: right;\">\n",
       "      <th></th>\n",
       "      <th>loss</th>\n",
       "      <th>accuracy</th>\n",
       "      <th>f1</th>\n",
       "      <th>f1_scores</th>\n",
       "      <th>precision</th>\n",
       "      <th>precision_scores</th>\n",
       "      <th>recall</th>\n",
       "      <th>recall_scores</th>\n",
       "      <th>valid_loss</th>\n",
       "      <th>valid_accuracy</th>\n",
       "      <th>...</th>\n",
       "      <th>seed</th>\n",
       "      <th>BiLSTM</th>\n",
       "      <th>loss_function</th>\n",
       "      <th>gamma</th>\n",
       "      <th>k_fold</th>\n",
       "      <th>n_splits</th>\n",
       "      <th>augmentation_type</th>\n",
       "      <th>hidden_dim_aug</th>\n",
       "      <th>comb_method</th>\n",
       "      <th>batch_size</th>\n",
       "    </tr>\n",
       "  </thead>\n",
       "  <tbody>\n",
       "    <tr>\n",
       "      <th>0</th>\n",
       "      <td>None</td>\n",
       "      <td>0.690028</td>\n",
       "      <td>0.675956</td>\n",
       "      <td>[0.7434829554218726, 0.6084294796326819]</td>\n",
       "      <td>0.674911</td>\n",
       "      <td>[0.8046744574290484, 0.5451476793248945]</td>\n",
       "      <td>0.689636</td>\n",
       "      <td>[0.6909403669724771, 0.6883324453915823]</td>\n",
       "      <td>None</td>\n",
       "      <td>0.784472</td>\n",
       "      <td>...</td>\n",
       "      <td>1</td>\n",
       "      <td>True</td>\n",
       "      <td>focal</td>\n",
       "      <td>2</td>\n",
       "      <td>True</td>\n",
       "      <td>5</td>\n",
       "      <td>Conv1d</td>\n",
       "      <td>None</td>\n",
       "      <td>concatenation</td>\n",
       "      <td>64</td>\n",
       "    </tr>\n",
       "    <tr>\n",
       "      <th>0</th>\n",
       "      <td>None</td>\n",
       "      <td>0.692078</td>\n",
       "      <td>0.672714</td>\n",
       "      <td>[0.7523238380809595, 0.5931034482758619]</td>\n",
       "      <td>0.670016</td>\n",
       "      <td>[0.7884978001257071, 0.5515345854328905]</td>\n",
       "      <td>0.680386</td>\n",
       "      <td>[0.7193233944954128, 0.6414491209376665]</td>\n",
       "      <td>None</td>\n",
       "      <td>0.824639</td>\n",
       "      <td>...</td>\n",
       "      <td>12</td>\n",
       "      <td>True</td>\n",
       "      <td>focal</td>\n",
       "      <td>2</td>\n",
       "      <td>True</td>\n",
       "      <td>5</td>\n",
       "      <td>Conv1d</td>\n",
       "      <td>None</td>\n",
       "      <td>concatenation</td>\n",
       "      <td>64</td>\n",
       "    </tr>\n",
       "    <tr>\n",
       "      <th>0</th>\n",
       "      <td>None</td>\n",
       "      <td>0.705871</td>\n",
       "      <td>0.685957</td>\n",
       "      <td>[0.7650387135199523, 0.6068759342301944]</td>\n",
       "      <td>0.682903</td>\n",
       "      <td>[0.7958488228004956, 0.5699578848853533]</td>\n",
       "      <td>0.692717</td>\n",
       "      <td>[0.7365252293577982, 0.648907831646244]</td>\n",
       "      <td>None</td>\n",
       "      <td>0.795121</td>\n",
       "      <td>...</td>\n",
       "      <td>123</td>\n",
       "      <td>True</td>\n",
       "      <td>focal</td>\n",
       "      <td>2</td>\n",
       "      <td>True</td>\n",
       "      <td>5</td>\n",
       "      <td>Conv1d</td>\n",
       "      <td>None</td>\n",
       "      <td>concatenation</td>\n",
       "      <td>64</td>\n",
       "    </tr>\n",
       "  </tbody>\n",
       "</table>\n",
       "<p>3 rows × 44 columns</p>\n",
       "</div>"
      ],
      "text/plain": [
       "   loss  accuracy        f1                                 f1_scores  \\\n",
       "0  None  0.690028  0.675956  [0.7434829554218726, 0.6084294796326819]   \n",
       "0  None  0.692078  0.672714  [0.7523238380809595, 0.5931034482758619]   \n",
       "0  None  0.705871  0.685957  [0.7650387135199523, 0.6068759342301944]   \n",
       "\n",
       "   precision                          precision_scores    recall  \\\n",
       "0   0.674911  [0.8046744574290484, 0.5451476793248945]  0.689636   \n",
       "0   0.670016  [0.7884978001257071, 0.5515345854328905]  0.680386   \n",
       "0   0.682903  [0.7958488228004956, 0.5699578848853533]  0.692717   \n",
       "\n",
       "                              recall_scores valid_loss  valid_accuracy  ...  \\\n",
       "0  [0.6909403669724771, 0.6883324453915823]       None        0.784472  ...   \n",
       "0  [0.7193233944954128, 0.6414491209376665]       None        0.824639  ...   \n",
       "0   [0.7365252293577982, 0.648907831646244]       None        0.795121  ...   \n",
       "\n",
       "   seed BiLSTM  loss_function gamma  k_fold n_splits  augmentation_type  \\\n",
       "0     1   True          focal     2    True        5             Conv1d   \n",
       "0    12   True          focal     2    True        5             Conv1d   \n",
       "0   123   True          focal     2    True        5             Conv1d   \n",
       "\n",
       "   hidden_dim_aug    comb_method batch_size  \n",
       "0            None  concatenation         64  \n",
       "0            None  concatenation         64  \n",
       "0            None  concatenation         64  \n",
       "\n",
       "[3 rows x 44 columns]"
      ]
     },
     "execution_count": 14,
     "metadata": {},
     "output_type": "execute_result"
    }
   ],
   "source": [
    "best_swnu_network_umap_kfold_20"
   ]
  },
  {
   "cell_type": "code",
   "execution_count": 15,
   "metadata": {},
   "outputs": [
    {
     "data": {
      "text/plain": [
       "0.6782090615269204"
      ]
     },
     "execution_count": 15,
     "metadata": {},
     "output_type": "execute_result"
    }
   ],
   "source": [
    "best_swnu_network_umap_kfold_20[\"f1\"].mean()"
   ]
  },
  {
   "cell_type": "code",
   "execution_count": 16,
   "metadata": {},
   "outputs": [
    {
     "data": {
      "text/plain": [
       "0.6759435383330649"
      ]
     },
     "execution_count": 16,
     "metadata": {},
     "output_type": "execute_result"
    }
   ],
   "source": [
    "best_swnu_network_umap_kfold_20[\"precision\"].mean()"
   ]
  },
  {
   "cell_type": "code",
   "execution_count": 17,
   "metadata": {},
   "outputs": [
    {
     "data": {
      "text/plain": [
       "0.6875797314668635"
      ]
     },
     "execution_count": 17,
     "metadata": {},
     "output_type": "execute_result"
    }
   ],
   "source": [
    "best_swnu_network_umap_kfold_20[\"recall\"].mean()"
   ]
  },
  {
   "cell_type": "code",
   "execution_count": 18,
   "metadata": {},
   "outputs": [
    {
     "data": {
      "text/plain": [
       "array([0.75361517, 0.60280295])"
      ]
     },
     "execution_count": 18,
     "metadata": {},
     "output_type": "execute_result"
    }
   ],
   "source": [
    "np.stack(best_swnu_network_umap_kfold_20[\"f1_scores\"]).mean(axis=0)"
   ]
  },
  {
   "cell_type": "code",
   "execution_count": 19,
   "metadata": {},
   "outputs": [
    {
     "data": {
      "text/plain": [
       "array([0.79634036, 0.55554672])"
      ]
     },
     "execution_count": 19,
     "metadata": {},
     "output_type": "execute_result"
    }
   ],
   "source": [
    "np.stack(best_swnu_network_umap_kfold_20[\"precision_scores\"]).mean(axis=0)"
   ]
  },
  {
   "cell_type": "code",
   "execution_count": 20,
   "metadata": {},
   "outputs": [
    {
     "data": {
      "text/plain": [
       "array([0.71559633, 0.65956313])"
      ]
     },
     "execution_count": 20,
     "metadata": {},
     "output_type": "execute_result"
    }
   ],
   "source": [
    "np.stack(best_swnu_network_umap_kfold_20[\"recall_scores\"]).mean(axis=0)"
   ]
  },
  {
   "cell_type": "markdown",
   "metadata": {
    "tags": []
   },
   "source": [
    "# w=35"
   ]
  },
  {
   "cell_type": "code",
   "execution_count": 21,
   "metadata": {},
   "outputs": [],
   "source": [
    "size = 35"
   ]
  },
  {
   "cell_type": "markdown",
   "metadata": {},
   "source": [
    "## umap"
   ]
  },
  {
   "cell_type": "code",
   "execution_count": null,
   "metadata": {},
   "outputs": [
    {
     "data": {
      "application/vnd.jupyter.widget-view+json": {
       "model_id": "335c7ef6041043a5ab8eaf2069684053",
       "version_major": 2,
       "version_minor": 0
      },
      "text/plain": [
       "  0%|          | 0/1 [00:00<?, ?it/s]"
      ]
     },
     "metadata": {},
     "output_type": "display_data"
    },
    {
     "data": {
      "application/vnd.jupyter.widget-view+json": {
       "model_id": "f795f76842ae44cba68dac6b5ab8f32a",
       "version_major": 2,
       "version_minor": 0
      },
      "text/plain": [
       "  0%|          | 0/1 [00:00<?, ?it/s]"
      ]
     },
     "metadata": {},
     "output_type": "display_data"
    },
    {
     "data": {
      "application/vnd.jupyter.widget-view+json": {
       "model_id": "0722a2eebad04151b10b69e53d7d5af6",
       "version_major": 2,
       "version_minor": 0
      },
      "text/plain": [
       "  0%|          | 0/1 [00:00<?, ?it/s]"
      ]
     },
     "metadata": {},
     "output_type": "display_data"
    },
    {
     "name": "stdout",
     "output_type": "stream",
     "text": [
      "\n",
      "##################################################\n",
      "dimension: 15 | method: umap\n",
      "[INFO] Concatenating the embeddings to the dataframe...\n",
      "[INFO] - columns beginning with 'e' denote the full embddings.\n",
      "[INFO] - columns beginning with 'd' denote the dimension reduced embeddings.\n",
      "[INFO] Adding time feature columns into dataframe in `.df`.\n",
      "[INFO] Adding 'time_encoding' feature...\n",
      "[INFO] Adding 'time_diff' feature...\n",
      "[INFO] Adding 'timeline_index' feature...\n",
      "[INFO] Padding ids and storing in `.df_padded` and `.array_padded` attributes.\n"
     ]
    },
    {
     "data": {
      "application/vnd.jupyter.widget-view+json": {
       "model_id": "c99319dcdfb0426f8035eb98703dedf1",
       "version_major": 2,
       "version_minor": 0
      },
      "text/plain": [
       "  0%|          | 0/5568 [00:00<?, ?it/s]"
      ]
     },
     "metadata": {},
     "output_type": "display_data"
    },
    {
     "name": "stdout",
     "output_type": "stream",
     "text": [
      "[INFO] The path was created for each item in the dataframe, by looking at its history, so to include embeddings in the FFN input, we concatenate the embeddings for each sentence / text.\n"
     ]
    },
    {
     "data": {
      "application/vnd.jupyter.widget-view+json": {
       "model_id": "4e6095909fa24f718ccbf4872a8baa32",
       "version_major": 2,
       "version_minor": 0
      },
      "text/plain": [
       "  0%|          | 0/2 [00:00<?, ?it/s]"
      ]
     },
     "metadata": {},
     "output_type": "display_data"
    },
    {
     "data": {
      "application/vnd.jupyter.widget-view+json": {
       "model_id": "d3124073e5554bbca888aee9543a7540",
       "version_major": 2,
       "version_minor": 0
      },
      "text/plain": [
       "  0%|          | 0/2 [00:00<?, ?it/s]"
      ]
     },
     "metadata": {},
     "output_type": "display_data"
    },
    {
     "data": {
      "application/vnd.jupyter.widget-view+json": {
       "model_id": "c3c9a7bcbaf44deab97d3bd514580690",
       "version_major": 2,
       "version_minor": 0
      },
      "text/plain": [
       "  0%|          | 0/1 [00:00<?, ?it/s]"
      ]
     },
     "metadata": {},
     "output_type": "display_data"
    },
    {
     "data": {
      "application/vnd.jupyter.widget-view+json": {
       "model_id": "9b0a4def4d9c4a84af2c489cc57081cd",
       "version_major": 2,
       "version_minor": 0
      },
      "text/plain": [
       "  0%|          | 0/2 [00:00<?, ?it/s]"
      ]
     },
     "metadata": {},
     "output_type": "display_data"
    },
    {
     "data": {
      "application/vnd.jupyter.widget-view+json": {
       "model_id": "6cf3ad11be9a45939fd92dd24dbd438e",
       "version_major": 2,
       "version_minor": 0
      },
      "text/plain": [
       "  0%|          | 0/3 [00:00<?, ?it/s]"
      ]
     },
     "metadata": {},
     "output_type": "display_data"
    },
    {
     "data": {
      "application/vnd.jupyter.widget-view+json": {
       "model_id": "67c23b0166a1434386147c5ee2a8998d",
       "version_major": 2,
       "version_minor": 0
      },
      "text/plain": [
       "  0%|          | 0/3 [00:00<?, ?it/s]"
      ]
     },
     "metadata": {},
     "output_type": "display_data"
    },
    {
     "data": {
      "application/vnd.jupyter.widget-view+json": {
       "model_id": "67cff23139f14b719c40e36dab359b20",
       "version_major": 2,
       "version_minor": 0
      },
      "text/plain": [
       "  0%|          | 0/1 [00:00<?, ?it/s]"
      ]
     },
     "metadata": {},
     "output_type": "display_data"
    },
    {
     "data": {
      "application/vnd.jupyter.widget-view+json": {
       "model_id": "162dde98fcf542da8315993e1f825ae2",
       "version_major": 2,
       "version_minor": 0
      },
      "text/plain": [
       "  0%|          | 0/2 [00:00<?, ?it/s]"
      ]
     },
     "metadata": {},
     "output_type": "display_data"
    },
    {
     "data": {
      "application/vnd.jupyter.widget-view+json": {
       "model_id": "b44a16b24d9343b0b3c563068522bac9",
       "version_major": 2,
       "version_minor": 0
      },
      "text/plain": [
       "  0%|          | 0/3 [00:00<?, ?it/s]"
      ]
     },
     "metadata": {},
     "output_type": "display_data"
    },
    {
     "data": {
      "application/vnd.jupyter.widget-view+json": {
       "model_id": "26b3c1d055114a31a50e22a4133d81a8",
       "version_major": 2,
       "version_minor": 0
      },
      "text/plain": [
       "  0%|          | 0/3 [00:00<?, ?it/s]"
      ]
     },
     "metadata": {},
     "output_type": "display_data"
    },
    {
     "data": {
      "application/vnd.jupyter.widget-view+json": {
       "model_id": "0144c2730b91471296d8dc2eb100ec3f",
       "version_major": 2,
       "version_minor": 0
      },
      "text/plain": [
       "  0%|          | 0/2 [00:00<?, ?it/s]"
      ]
     },
     "metadata": {},
     "output_type": "display_data"
    },
    {
     "data": {
      "application/vnd.jupyter.widget-view+json": {
       "model_id": "fe41288f442f45ecbe938c52ecd38300",
       "version_major": 2,
       "version_minor": 0
      },
      "text/plain": [
       "  0%|          | 0/1 [00:00<?, ?it/s]"
      ]
     },
     "metadata": {},
     "output_type": "display_data"
    },
    {
     "data": {
      "application/vnd.jupyter.widget-view+json": {
       "model_id": "7625e7db68d94f969bb048403349c1ef",
       "version_major": 2,
       "version_minor": 0
      },
      "text/plain": [
       "  0%|          | 0/2 [00:00<?, ?it/s]"
      ]
     },
     "metadata": {},
     "output_type": "display_data"
    },
    {
     "data": {
      "application/vnd.jupyter.widget-view+json": {
       "model_id": "3090728794004dd7b4a214e38c459a69",
       "version_major": 2,
       "version_minor": 0
      },
      "text/plain": [
       "  0%|          | 0/3 [00:00<?, ?it/s]"
      ]
     },
     "metadata": {},
     "output_type": "display_data"
    },
    {
     "data": {
      "application/vnd.jupyter.widget-view+json": {
       "model_id": "a7dda7e3f2204ec8b3b2adebeb79ccea",
       "version_major": 2,
       "version_minor": 0
      },
      "text/plain": [
       "  0%|          | 0/1 [00:00<?, ?it/s]"
      ]
     },
     "metadata": {},
     "output_type": "display_data"
    },
    {
     "data": {
      "application/vnd.jupyter.widget-view+json": {
       "model_id": "822da496926042038bbb21243644c2b5",
       "version_major": 2,
       "version_minor": 0
      },
      "text/plain": [
       "  0%|          | 0/2 [00:00<?, ?it/s]"
      ]
     },
     "metadata": {},
     "output_type": "display_data"
    },
    {
     "data": {
      "application/vnd.jupyter.widget-view+json": {
       "model_id": "4103671f1f27451a8f0a489ebb096334",
       "version_major": 2,
       "version_minor": 0
      },
      "text/plain": [
       "  0%|          | 0/3 [00:00<?, ?it/s]"
      ]
     },
     "metadata": {},
     "output_type": "display_data"
    }
   ],
   "source": [
    "(\n",
    "    swnu_network_umap_kfold_35,\n",
    "    best_swnu_network_umap_kfold_35,\n",
    "    _,\n",
    "    __,\n",
    ") = swnu_network_hyperparameter_search(\n",
    "    history_lengths=[size],\n",
    "    dim_reduce_methods=[\"umap\"],\n",
    "    results_output=f\"{output_dir}/swnu_network_umap_focal_{gamma}_{size}_kfold.csv\",\n",
    "    **kwargs,\n",
    ")"
   ]
  },
  {
   "cell_type": "code",
   "execution_count": null,
   "metadata": {},
   "outputs": [],
   "source": [
    "swnu_network_umap_kfold_35.groupby(\n",
    "    [\"dimensions\", \"swnu_hidden_dim\", \"ffn_hidden_dim\", \"dropout_rate\", \"learning_rate\"]\n",
    ").mean()"
   ]
  },
  {
   "cell_type": "code",
   "execution_count": null,
   "metadata": {},
   "outputs": [],
   "source": [
    "best_swnu_network_umap_kfold_35"
   ]
  },
  {
   "cell_type": "code",
   "execution_count": null,
   "metadata": {},
   "outputs": [],
   "source": [
    "best_swnu_network_umap_kfold_35[\"f1\"].mean()"
   ]
  },
  {
   "cell_type": "code",
   "execution_count": null,
   "metadata": {},
   "outputs": [],
   "source": [
    "best_swnu_network_umap_kfold_35[\"precision\"].mean()"
   ]
  },
  {
   "cell_type": "code",
   "execution_count": null,
   "metadata": {},
   "outputs": [],
   "source": [
    "best_swnu_network_umap_kfold_35[\"recall\"].mean()"
   ]
  },
  {
   "cell_type": "code",
   "execution_count": null,
   "metadata": {},
   "outputs": [],
   "source": [
    "np.stack(best_swnu_network_umap_kfold_35[\"f1_scores\"]).mean(axis=0)"
   ]
  },
  {
   "cell_type": "code",
   "execution_count": null,
   "metadata": {},
   "outputs": [],
   "source": [
    "np.stack(best_swnu_network_umap_kfold_35[\"precision_scores\"]).mean(axis=0)"
   ]
  },
  {
   "cell_type": "code",
   "execution_count": null,
   "metadata": {},
   "outputs": [],
   "source": [
    "np.stack(best_swnu_network_umap_kfold_35[\"recall_scores\"]).mean(axis=0)"
   ]
  },
  {
   "cell_type": "markdown",
   "metadata": {},
   "source": [
    "# w=80"
   ]
  },
  {
   "cell_type": "code",
   "execution_count": null,
   "metadata": {},
   "outputs": [],
   "source": [
    "size = 80"
   ]
  },
  {
   "cell_type": "markdown",
   "metadata": {},
   "source": [
    "## umap"
   ]
  },
  {
   "cell_type": "code",
   "execution_count": null,
   "metadata": {},
   "outputs": [],
   "source": [
    "(\n",
    "    swnu_network_umap_kfold_80,\n",
    "    best_swnu_network_umap_kfold_80,\n",
    "    _,\n",
    "    __,\n",
    ") = swnu_network_hyperparameter_search(\n",
    "    history_lengths=[size],\n",
    "    dim_reduce_methods=[\"umap\"],\n",
    "    results_output=f\"{output_dir}/swnu_network_umap_focal_{gamma}_{size}_kfold.csv\",\n",
    "    **kwargs,\n",
    ")"
   ]
  },
  {
   "cell_type": "code",
   "execution_count": null,
   "metadata": {},
   "outputs": [],
   "source": [
    "swnu_network_umap_kfold_80.groupby(\n",
    "    [\"dimensions\", \"swnu_hidden_dim\", \"ffn_hidden_dim\", \"dropout_rate\", \"learning_rate\"]\n",
    ").mean()"
   ]
  },
  {
   "cell_type": "code",
   "execution_count": null,
   "metadata": {},
   "outputs": [],
   "source": [
    "best_swnu_network_umap_kfold_80"
   ]
  },
  {
   "cell_type": "code",
   "execution_count": null,
   "metadata": {},
   "outputs": [],
   "source": [
    "best_swnu_network_umap_kfold_80[\"f1\"].mean()"
   ]
  },
  {
   "cell_type": "code",
   "execution_count": null,
   "metadata": {},
   "outputs": [],
   "source": [
    "best_swnu_network_umap_kfold_80[\"precision\"].mean()"
   ]
  },
  {
   "cell_type": "code",
   "execution_count": null,
   "metadata": {},
   "outputs": [],
   "source": [
    "best_swnu_network_umap_kfold_80[\"recall\"].mean()"
   ]
  },
  {
   "cell_type": "code",
   "execution_count": null,
   "metadata": {},
   "outputs": [],
   "source": [
    "np.stack(best_swnu_network_umap_kfold_80[\"f1_scores\"]).mean(axis=0)"
   ]
  },
  {
   "cell_type": "code",
   "execution_count": null,
   "metadata": {},
   "outputs": [],
   "source": [
    "np.stack(best_swnu_network_umap_kfold_80[\"precision_scores\"]).mean(axis=0)"
   ]
  },
  {
   "cell_type": "code",
   "execution_count": null,
   "metadata": {},
   "outputs": [],
   "source": [
    "np.stack(best_swnu_network_umap_kfold_80[\"recall_scores\"]).mean(axis=0)"
   ]
  }
 ],
 "metadata": {
  "kernelspec": {
   "display_name": "nlpsig-networks (Conda)",
   "language": "python",
   "name": "sys_nlpsig-networks"
  },
  "language_info": {
   "codemirror_mode": {
    "name": "ipython",
    "version": 3
   },
   "file_extension": ".py",
   "mimetype": "text/x-python",
   "name": "python",
   "nbconvert_exporter": "python",
   "pygments_lexer": "ipython3",
   "version": "3.8.17"
  }
 },
 "nbformat": 4,
 "nbformat_minor": 4
}
