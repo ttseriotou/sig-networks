{
 "cells": [
  {
   "cell_type": "code",
   "execution_count": 1,
   "metadata": {},
   "outputs": [],
   "source": [
    "import pickle\n",
    "import numpy as np\n",
    "import pandas as pd\n",
    "import re\n",
    "\n",
    "seed = 2023"
   ]
  },
  {
   "cell_type": "code",
   "execution_count": 2,
   "metadata": {},
   "outputs": [],
   "source": [
    "from nlpsig_networks.pytorch_utils import SaveBestModel, training_pytorch, testing_pytorch, set_seed, KFold_pytorch"
   ]
  },
  {
   "cell_type": "code",
   "execution_count": 3,
   "metadata": {},
   "outputs": [],
   "source": [
    "import os\n",
    "os.chdir(\"../../\")"
   ]
  },
  {
   "cell_type": "code",
   "execution_count": 4,
   "metadata": {},
   "outputs": [],
   "source": [
    "from nlpsig_networks.scripts.swnu_network_functions import (\n",
    "    swnu_network_hyperparameter_search, obtain_SWNUNetwork_input\n",
    ")"
   ]
  },
  {
   "cell_type": "markdown",
   "metadata": {},
   "source": [
    "Rumours"
   ]
  },
  {
   "cell_type": "code",
   "execution_count": 5,
   "metadata": {},
   "outputs": [],
   "source": [
    "%run notebooks/Rumours/load_sbert-embeddings.py"
   ]
  },
  {
   "cell_type": "code",
   "execution_count": 6,
   "metadata": {},
   "outputs": [
    {
     "data": {
      "text/html": [
       "<div>\n",
       "<style scoped>\n",
       "    .dataframe tbody tr th:only-of-type {\n",
       "        vertical-align: middle;\n",
       "    }\n",
       "\n",
       "    .dataframe tbody tr th {\n",
       "        vertical-align: top;\n",
       "    }\n",
       "\n",
       "    .dataframe thead th {\n",
       "        text-align: right;\n",
       "    }\n",
       "</style>\n",
       "<table border=\"1\" class=\"dataframe\">\n",
       "  <thead>\n",
       "    <tr style=\"text-align: right;\">\n",
       "      <th></th>\n",
       "      <th>id</th>\n",
       "      <th>label</th>\n",
       "      <th>datetime</th>\n",
       "      <th>text</th>\n",
       "      <th>timeline_id</th>\n",
       "      <th>set</th>\n",
       "    </tr>\n",
       "  </thead>\n",
       "  <tbody>\n",
       "    <tr>\n",
       "      <th>0</th>\n",
       "      <td>5.249902e+17</td>\n",
       "      <td>0</td>\n",
       "      <td>2014-10-22 18:26:23</td>\n",
       "      <td>Police have clarified that there were two shoo...</td>\n",
       "      <td>0</td>\n",
       "      <td>train</td>\n",
       "    </tr>\n",
       "    <tr>\n",
       "      <th>1</th>\n",
       "      <td>5.249906e+17</td>\n",
       "      <td>0</td>\n",
       "      <td>2014-10-22 18:27:58</td>\n",
       "      <td>@CTVNews you guys \"confirmed\" there were 3 sho...</td>\n",
       "      <td>0</td>\n",
       "      <td>train</td>\n",
       "    </tr>\n",
       "    <tr>\n",
       "      <th>2</th>\n",
       "      <td>5.249908e+17</td>\n",
       "      <td>1</td>\n",
       "      <td>2014-10-22 18:28:46</td>\n",
       "      <td>@CTVNews get it right. http://t.co/GHYxMuzPG9</td>\n",
       "      <td>0</td>\n",
       "      <td>train</td>\n",
       "    </tr>\n",
       "    <tr>\n",
       "      <th>3</th>\n",
       "      <td>5.249927e+17</td>\n",
       "      <td>1</td>\n",
       "      <td>2014-10-22 18:36:29</td>\n",
       "      <td>RT @CTVNews Police have clarified that there w...</td>\n",
       "      <td>0</td>\n",
       "      <td>train</td>\n",
       "    </tr>\n",
       "    <tr>\n",
       "      <th>4</th>\n",
       "      <td>5.250038e+17</td>\n",
       "      <td>1</td>\n",
       "      <td>2014-10-22 19:20:41</td>\n",
       "      <td>@CTVNews @ctvsaskatoon so what happened at Rid...</td>\n",
       "      <td>0</td>\n",
       "      <td>train</td>\n",
       "    </tr>\n",
       "  </tbody>\n",
       "</table>\n",
       "</div>"
      ],
      "text/plain": [
       "             id label            datetime  \\\n",
       "0  5.249902e+17     0 2014-10-22 18:26:23   \n",
       "1  5.249906e+17     0 2014-10-22 18:27:58   \n",
       "2  5.249908e+17     1 2014-10-22 18:28:46   \n",
       "3  5.249927e+17     1 2014-10-22 18:36:29   \n",
       "4  5.250038e+17     1 2014-10-22 19:20:41   \n",
       "\n",
       "                                                text timeline_id    set  \n",
       "0  Police have clarified that there were two shoo...           0  train  \n",
       "1  @CTVNews you guys \"confirmed\" there were 3 sho...           0  train  \n",
       "2      @CTVNews get it right. http://t.co/GHYxMuzPG9           0  train  \n",
       "3  RT @CTVNews Police have clarified that there w...           0  train  \n",
       "4  @CTVNews @ctvsaskatoon so what happened at Rid...           0  train  "
      ]
     },
     "execution_count": 6,
     "metadata": {},
     "output_type": "execute_result"
    }
   ],
   "source": [
    "df_rumours.head()"
   ]
  },
  {
   "cell_type": "code",
   "execution_count": 7,
   "metadata": {},
   "outputs": [
    {
     "data": {
      "text/plain": [
       "torch.Size([5568, 384])"
      ]
     },
     "execution_count": 7,
     "metadata": {},
     "output_type": "execute_result"
    }
   ],
   "source": [
    "sbert_embeddings.shape"
   ]
  },
  {
   "cell_type": "code",
   "execution_count": 8,
   "metadata": {},
   "outputs": [
    {
     "name": "stdout",
     "output_type": "stream",
     "text": [
      "[INFO] Concatenating the embeddings to the dataframe...\n",
      "[INFO] - columns beginning with 'e' denote the full embddings.\n",
      "[INFO] - columns beginning with 'd' denote the dimension reduced embeddings.\n",
      "[INFO] Adding time feature columns into dataframe in `.df`.\n",
      "[INFO] Adding 'time_encoding' and feature...\n",
      "[INFO] Adding 'time_diff' and feature...\n",
      "[INFO] Adding 'timeline_index' feature...\n",
      "[INFO] Padding ids and storing in `.df_padded` and `.array_padded` attributes.\n"
     ]
    },
    {
     "data": {
      "application/vnd.jupyter.widget-view+json": {
       "model_id": "ece3360673fa43d29f31addd6ba4a63a",
       "version_major": 2,
       "version_minor": 0
      },
      "text/plain": [
       "  0%|          | 0/5568 [00:00<?, ?it/s]"
      ]
     },
     "metadata": {},
     "output_type": "display_data"
    },
    {
     "name": "stdout",
     "output_type": "stream",
     "text": [
      "[INFO] The path was created for each item in the dataframe, by looking at its history, so to include embeddings in the FFN input, we concatenate the embeddings for each sentence / text.\n"
     ]
    },
    {
     "data": {
      "text/plain": [
       "torch.Size([5568, 5, 415])"
      ]
     },
     "execution_count": 8,
     "metadata": {},
     "output_type": "execute_result"
    }
   ],
   "source": [
    "x_data = obtain_SWNUNetwork_input(\n",
    "    method = \"umap\",\n",
    "    dimension= 30,\n",
    "    df= df_rumours,\n",
    "    id_column='timeline_id',\n",
    "    label_column='label',\n",
    "    embeddings= sbert_embeddings.numpy(),\n",
    "    k=5,\n",
    "    time_feature='time_encoding',\n",
    "    standardise_method=None,\n",
    "    add_time_in_path=False)\n",
    "\n",
    "x_data[0].shape"
   ]
  },
  {
   "cell_type": "markdown",
   "metadata": {},
   "source": [
    "SWNU Network"
   ]
  },
  {
   "cell_type": "markdown",
   "metadata": {},
   "source": [
    "Obtaining path by looking at post history\n",
    "We can obtain a path by looking at the history of each post. Here we look at the last 20 posts (and pad with vectors of zeros if there are less than 20 posts) including the current post.\n",
    "\n",
    "We only want to consider paths that correspond to a client's utterance as we want to model a change in mood at that time. Their history will still contain the therapist's utterances too."
   ]
  },
  {
   "cell_type": "code",
   "execution_count": 9,
   "metadata": {},
   "outputs": [],
   "source": [
    "#dimensionality reduction\n",
    "embedding_dim = sbert_embeddings.shape[1]\n",
    "dim_reduce_method = [\"umap\"] #[\"gaussian_random_projection\", \"umap\"]\n",
    "dimensions = [30]#[50,30,15]\n",
    "#time features\n",
    "time_features = \"time_encoding\"\n",
    "standardise_method = \"standardise\"\n",
    "add_time_in_path = False\n",
    "#SWNU block\n",
    "augmentation_tp = \"Conv1d\"\n",
    "hidden_dim_aug = None\n",
    "comb_m = \"concatenation\"\n",
    "log_sig = True\n",
    "conv_output_channels = [10] #[20, 10, 5]\n",
    "log_signature_dimensions_and_sig_depths = [(8, 3)]#[(30, 2), (10, 3), (6, 4)]\n",
    "bidirectional = False\n",
    "#ffn\n",
    "hidden_dim_sizes = [64]#[32,64]\n",
    "dropout_rates = [0.2]#[0.5, 0.2, 0.1]\n",
    "#overall training\n",
    "num_epochs = 100\n",
    "batch=64\n",
    "patience = 4\n",
    "learning_rates = [1e-4] #[1e-3, 1e-4, 5e-4]\n",
    "seeds = [0, 1, 12, 123, 1234]\n",
    "loss = \"focal\"\n",
    "gamma = 2\n",
    "validation_metric = \"f1\""
   ]
  },
  {
   "cell_type": "code",
   "execution_count": 10,
   "metadata": {
    "scrolled": false
   },
   "outputs": [
    {
     "data": {
      "application/vnd.jupyter.widget-view+json": {
       "model_id": "38229ce3d9f54d1c813310ac1142abc9",
       "version_major": 2,
       "version_minor": 0
      },
      "text/plain": [
       "  0%|          | 0/1 [00:00<?, ?it/s]"
      ]
     },
     "metadata": {},
     "output_type": "display_data"
    },
    {
     "data": {
      "application/vnd.jupyter.widget-view+json": {
       "model_id": "42adbc4aa2ac497ca585154d43b19e5b",
       "version_major": 2,
       "version_minor": 0
      },
      "text/plain": [
       "  0%|          | 0/1 [00:00<?, ?it/s]"
      ]
     },
     "metadata": {},
     "output_type": "display_data"
    },
    {
     "data": {
      "application/vnd.jupyter.widget-view+json": {
       "model_id": "bf732f6d3eab442a9d14fb2e397d18e3",
       "version_major": 2,
       "version_minor": 0
      },
      "text/plain": [
       "  0%|          | 0/1 [00:00<?, ?it/s]"
      ]
     },
     "metadata": {},
     "output_type": "display_data"
    },
    {
     "name": "stdout",
     "output_type": "stream",
     "text": [
      "\n",
      "##################################################\n",
      "dimension: 30 | method: umap\n",
      "[INFO] Concatenating the embeddings to the dataframe...\n",
      "[INFO] - columns beginning with 'e' denote the full embddings.\n",
      "[INFO] - columns beginning with 'd' denote the dimension reduced embeddings.\n",
      "[INFO] Adding time feature columns into dataframe in `.df`.\n",
      "[INFO] Adding 'time_encoding' and feature...\n",
      "[INFO] Adding 'time_diff' and feature...\n",
      "[INFO] Adding 'timeline_index' feature...\n",
      "[INFO] Padding ids and storing in `.df_padded` and `.array_padded` attributes.\n"
     ]
    },
    {
     "data": {
      "application/vnd.jupyter.widget-view+json": {
       "model_id": "6688342641b14d96ae0882e52f73672d",
       "version_major": 2,
       "version_minor": 0
      },
      "text/plain": [
       "  0%|          | 0/5568 [00:00<?, ?it/s]"
      ]
     },
     "metadata": {},
     "output_type": "display_data"
    },
    {
     "name": "stdout",
     "output_type": "stream",
     "text": [
      "[INFO] The path was created for each item in the dataframe, by looking at its history, so to include embeddings in the FFN input, we concatenate the embeddings for each sentence / text.\n"
     ]
    },
    {
     "data": {
      "application/vnd.jupyter.widget-view+json": {
       "model_id": "264d4206756644dbbff354900ef80da5",
       "version_major": 2,
       "version_minor": 0
      },
      "text/plain": [
       "  0%|          | 0/1 [00:00<?, ?it/s]"
      ]
     },
     "metadata": {},
     "output_type": "display_data"
    },
    {
     "data": {
      "application/vnd.jupyter.widget-view+json": {
       "model_id": "942edc4f3db8469c8db8a2ef1f856144",
       "version_major": 2,
       "version_minor": 0
      },
      "text/plain": [
       "  0%|          | 0/1 [00:00<?, ?it/s]"
      ]
     },
     "metadata": {},
     "output_type": "display_data"
    },
    {
     "data": {
      "application/vnd.jupyter.widget-view+json": {
       "model_id": "405b00d7cbc24ffcb6ee8f740250ba1a",
       "version_major": 2,
       "version_minor": 0
      },
      "text/plain": [
       "  0%|          | 0/1 [00:00<?, ?it/s]"
      ]
     },
     "metadata": {},
     "output_type": "display_data"
    },
    {
     "data": {
      "application/vnd.jupyter.widget-view+json": {
       "model_id": "734a752761d441eb9e020f61454a2a30",
       "version_major": 2,
       "version_minor": 0
      },
      "text/plain": [
       "  0%|          | 0/1 [00:00<?, ?it/s]"
      ]
     },
     "metadata": {},
     "output_type": "display_data"
    },
    {
     "data": {
      "application/vnd.jupyter.widget-view+json": {
       "model_id": "eb154f96682f4a1a846bb46cbe35e4cf",
       "version_major": 2,
       "version_minor": 0
      },
      "text/plain": [
       "  0%|          | 0/1 [00:00<?, ?it/s]"
      ]
     },
     "metadata": {},
     "output_type": "display_data"
    },
    {
     "data": {
      "application/vnd.jupyter.widget-view+json": {
       "model_id": "b5120aa0b00040cbb736cabb092f36d9",
       "version_major": 2,
       "version_minor": 0
      },
      "text/plain": [
       "  0%|          | 0/1 [00:00<?, ?it/s]"
      ]
     },
     "metadata": {},
     "output_type": "display_data"
    },
    {
     "name": "stdout",
     "output_type": "stream",
     "text": [
      "- average (validation) metric score: 0.591780816450916\n",
      "scores for the different seeds: [0.626982463494725, 0.584666795193111, 0.5117702231037717, 0.6024335031126202, 0.6330510973503517]\n",
      "[INFO] Concatenating the embeddings to the dataframe...\n",
      "[INFO] - columns beginning with 'e' denote the full embddings.\n",
      "[INFO] - columns beginning with 'd' denote the dimension reduced embeddings.\n",
      "[INFO] Adding time feature columns into dataframe in `.df`.\n",
      "[INFO] Adding 'time_encoding' and feature...\n",
      "[INFO] Adding 'time_diff' and feature...\n",
      "[INFO] Adding 'timeline_index' feature...\n",
      "[INFO] Padding ids and storing in `.df_padded` and `.array_padded` attributes.\n"
     ]
    },
    {
     "data": {
      "application/vnd.jupyter.widget-view+json": {
       "model_id": "3962193ada8d4e109a19fd7509510c0d",
       "version_major": 2,
       "version_minor": 0
      },
      "text/plain": [
       "  0%|          | 0/5568 [00:00<?, ?it/s]"
      ]
     },
     "metadata": {},
     "output_type": "display_data"
    },
    {
     "name": "stdout",
     "output_type": "stream",
     "text": [
      "[INFO] The path was created for each item in the dataframe, by looking at its history, so to include embeddings in the FFN input, we concatenate the embeddings for each sentence / text.\n"
     ]
    }
   ],
   "source": [
    "size=20\n",
    "swnu_network_log_signature, best_swnu_network_log_signature, _, __ = swnu_network_hyperparameter_search(\n",
    "    num_epochs=num_epochs,\n",
    "    df=df_rumours,\n",
    "    id_column=\"timeline_id\",\n",
    "    label_column=\"label\",\n",
    "    embeddings=sbert_embeddings.numpy(),\n",
    "    y_data=y_data,\n",
    "    embedding_dim=embedding_dim,\n",
    "    output_dim=output_dim,\n",
    "    history_lengths=[size],\n",
    "    dim_reduce_methods=dim_reduce_method,\n",
    "    dimensions=dimensions, \n",
    "    sig_depths=[x[1] for x in log_signature_dimensions_and_sig_depths], \n",
    "    log_signature=log_sig,\n",
    "    conv_output_channels=conv_output_channels,\n",
    "    swnu_hidden_dim_sizes=[x[0] for x in log_signature_dimensions_and_sig_depths],\n",
    "    ffn_hidden_dim_sizes=hidden_dim_sizes,\n",
    "    dropout_rates=dropout_rates,\n",
    "    learning_rates=learning_rates,\n",
    "    BiLSTM=bidirectional,\n",
    "    seeds=seeds,\n",
    "    loss=loss,\n",
    "    gamma=gamma,\n",
    "    batch_size=batch,\n",
    "    time_feature=time_features, \n",
    "    standardise_method=standardise_method,\n",
    "    add_time_in_path = add_time_in_path,\n",
    "    augmentation_type = augmentation_tp,\n",
    "    hidden_dim_aug = hidden_dim_aug,\n",
    "    comb_method = comb_m,\n",
    "    path_indices=None,\n",
    "    data_split_seed=123,\n",
    "    split_ids= None, #torch.tensor(df_rumours['timeline_id'].astype(int)),\n",
    "    split_indices = (df_rumours[df_rumours['set']=='train'].index, df_rumours[df_rumours['set']=='dev'].index, df_rumours[df_rumours['set']=='test'].index),\n",
    "    k_fold=False,\n",
    "    patience=patience,\n",
    "    validation_metric=validation_metric,\n",
    "    results_output=None,\n",
    "    verbose=False\n",
    ")"
   ]
  },
  {
   "cell_type": "code",
   "execution_count": 11,
   "metadata": {},
   "outputs": [
    {
     "data": {
      "text/html": [
       "<div>\n",
       "<style scoped>\n",
       "    .dataframe tbody tr th:only-of-type {\n",
       "        vertical-align: middle;\n",
       "    }\n",
       "\n",
       "    .dataframe tbody tr th {\n",
       "        vertical-align: top;\n",
       "    }\n",
       "\n",
       "    .dataframe thead th {\n",
       "        text-align: right;\n",
       "    }\n",
       "</style>\n",
       "<table border=\"1\" class=\"dataframe\">\n",
       "  <thead>\n",
       "    <tr style=\"text-align: right;\">\n",
       "      <th></th>\n",
       "      <th>loss</th>\n",
       "      <th>accuracy</th>\n",
       "      <th>f1</th>\n",
       "      <th>f1_scores</th>\n",
       "      <th>valid_loss</th>\n",
       "      <th>valid_accuracy</th>\n",
       "      <th>valid_f1</th>\n",
       "      <th>valid_f1_scores</th>\n",
       "      <th>k</th>\n",
       "      <th>dimensions</th>\n",
       "      <th>...</th>\n",
       "      <th>dropout_rate</th>\n",
       "      <th>learning_rate</th>\n",
       "      <th>seed</th>\n",
       "      <th>BiLSTM</th>\n",
       "      <th>gamma</th>\n",
       "      <th>k_fold</th>\n",
       "      <th>augmentation_type</th>\n",
       "      <th>hidden_dim_aug</th>\n",
       "      <th>comb_method</th>\n",
       "      <th>model_id</th>\n",
       "    </tr>\n",
       "  </thead>\n",
       "  <tbody>\n",
       "    <tr>\n",
       "      <th>0</th>\n",
       "      <td>focal</td>\n",
       "      <td>0.553861</td>\n",
       "      <td>0.525842</td>\n",
       "      <td>[0.6411042944785276, 0.41057934508816124]</td>\n",
       "      <td>0.207095</td>\n",
       "      <td>0.661922</td>\n",
       "      <td>0.626982</td>\n",
       "      <td>[0.7411444141689373, 0.5128205128205128]</td>\n",
       "      <td>20</td>\n",
       "      <td>30</td>\n",
       "      <td>...</td>\n",
       "      <td>0.2</td>\n",
       "      <td>0.0001</td>\n",
       "      <td>0</td>\n",
       "      <td>False</td>\n",
       "      <td>2</td>\n",
       "      <td>False</td>\n",
       "      <td>Conv1d</td>\n",
       "      <td>None</td>\n",
       "      <td>concatenation</td>\n",
       "      <td>0</td>\n",
       "    </tr>\n",
       "    <tr>\n",
       "      <th>0</th>\n",
       "      <td>focal</td>\n",
       "      <td>0.585319</td>\n",
       "      <td>0.553508</td>\n",
       "      <td>[0.672686230248307, 0.4343302990897269]</td>\n",
       "      <td>0.216002</td>\n",
       "      <td>0.590747</td>\n",
       "      <td>0.584667</td>\n",
       "      <td>[0.6349206349206349, 0.5344129554655871]</td>\n",
       "      <td>20</td>\n",
       "      <td>30</td>\n",
       "      <td>...</td>\n",
       "      <td>0.2</td>\n",
       "      <td>0.0001</td>\n",
       "      <td>1</td>\n",
       "      <td>False</td>\n",
       "      <td>2</td>\n",
       "      <td>False</td>\n",
       "      <td>Conv1d</td>\n",
       "      <td>None</td>\n",
       "      <td>concatenation</td>\n",
       "      <td>0</td>\n",
       "    </tr>\n",
       "    <tr>\n",
       "      <th>0</th>\n",
       "      <td>focal</td>\n",
       "      <td>0.626311</td>\n",
       "      <td>0.623477</td>\n",
       "      <td>[0.656140350877193, 0.5908141962421711]</td>\n",
       "      <td>0.234876</td>\n",
       "      <td>0.597865</td>\n",
       "      <td>0.511770</td>\n",
       "      <td>[0.7167919799498748, 0.3067484662576687]</td>\n",
       "      <td>20</td>\n",
       "      <td>30</td>\n",
       "      <td>...</td>\n",
       "      <td>0.2</td>\n",
       "      <td>0.0001</td>\n",
       "      <td>12</td>\n",
       "      <td>False</td>\n",
       "      <td>2</td>\n",
       "      <td>False</td>\n",
       "      <td>Conv1d</td>\n",
       "      <td>None</td>\n",
       "      <td>concatenation</td>\n",
       "      <td>0</td>\n",
       "    </tr>\n",
       "    <tr>\n",
       "      <th>0</th>\n",
       "      <td>focal</td>\n",
       "      <td>0.568160</td>\n",
       "      <td>0.531348</td>\n",
       "      <td>[0.6626954579300074, 0.4]</td>\n",
       "      <td>0.219130</td>\n",
       "      <td>0.644128</td>\n",
       "      <td>0.602434</td>\n",
       "      <td>[0.7311827956989247, 0.47368421052631576]</td>\n",
       "      <td>20</td>\n",
       "      <td>30</td>\n",
       "      <td>...</td>\n",
       "      <td>0.2</td>\n",
       "      <td>0.0001</td>\n",
       "      <td>123</td>\n",
       "      <td>False</td>\n",
       "      <td>2</td>\n",
       "      <td>False</td>\n",
       "      <td>Conv1d</td>\n",
       "      <td>None</td>\n",
       "      <td>concatenation</td>\n",
       "      <td>0</td>\n",
       "    </tr>\n",
       "    <tr>\n",
       "      <th>0</th>\n",
       "      <td>focal</td>\n",
       "      <td>0.588179</td>\n",
       "      <td>0.552814</td>\n",
       "      <td>[0.6785714285714286, 0.4270557029177719]</td>\n",
       "      <td>0.216144</td>\n",
       "      <td>0.669039</td>\n",
       "      <td>0.633051</td>\n",
       "      <td>[0.7479674796747967, 0.5181347150259067]</td>\n",
       "      <td>20</td>\n",
       "      <td>30</td>\n",
       "      <td>...</td>\n",
       "      <td>0.2</td>\n",
       "      <td>0.0001</td>\n",
       "      <td>1234</td>\n",
       "      <td>False</td>\n",
       "      <td>2</td>\n",
       "      <td>False</td>\n",
       "      <td>Conv1d</td>\n",
       "      <td>None</td>\n",
       "      <td>concatenation</td>\n",
       "      <td>0</td>\n",
       "    </tr>\n",
       "  </tbody>\n",
       "</table>\n",
       "<p>5 rows × 32 columns</p>\n",
       "</div>"
      ],
      "text/plain": [
       "    loss  accuracy        f1                                  f1_scores  \\\n",
       "0  focal  0.553861  0.525842  [0.6411042944785276, 0.41057934508816124]   \n",
       "0  focal  0.585319  0.553508    [0.672686230248307, 0.4343302990897269]   \n",
       "0  focal  0.626311  0.623477    [0.656140350877193, 0.5908141962421711]   \n",
       "0  focal  0.568160  0.531348                  [0.6626954579300074, 0.4]   \n",
       "0  focal  0.588179  0.552814   [0.6785714285714286, 0.4270557029177719]   \n",
       "\n",
       "   valid_loss  valid_accuracy  valid_f1  \\\n",
       "0    0.207095        0.661922  0.626982   \n",
       "0    0.216002        0.590747  0.584667   \n",
       "0    0.234876        0.597865  0.511770   \n",
       "0    0.219130        0.644128  0.602434   \n",
       "0    0.216144        0.669039  0.633051   \n",
       "\n",
       "                             valid_f1_scores   k  dimensions  ...  \\\n",
       "0   [0.7411444141689373, 0.5128205128205128]  20          30  ...   \n",
       "0   [0.6349206349206349, 0.5344129554655871]  20          30  ...   \n",
       "0   [0.7167919799498748, 0.3067484662576687]  20          30  ...   \n",
       "0  [0.7311827956989247, 0.47368421052631576]  20          30  ...   \n",
       "0   [0.7479674796747967, 0.5181347150259067]  20          30  ...   \n",
       "\n",
       "   dropout_rate learning_rate  seed  BiLSTM gamma k_fold  augmentation_type  \\\n",
       "0           0.2        0.0001     0   False     2  False             Conv1d   \n",
       "0           0.2        0.0001     1   False     2  False             Conv1d   \n",
       "0           0.2        0.0001    12   False     2  False             Conv1d   \n",
       "0           0.2        0.0001   123   False     2  False             Conv1d   \n",
       "0           0.2        0.0001  1234   False     2  False             Conv1d   \n",
       "\n",
       "   hidden_dim_aug    comb_method  model_id  \n",
       "0            None  concatenation         0  \n",
       "0            None  concatenation         0  \n",
       "0            None  concatenation         0  \n",
       "0            None  concatenation         0  \n",
       "0            None  concatenation         0  \n",
       "\n",
       "[5 rows x 32 columns]"
      ]
     },
     "execution_count": 11,
     "metadata": {},
     "output_type": "execute_result"
    }
   ],
   "source": [
    "swnu_network_log_signature"
   ]
  },
  {
   "cell_type": "code",
   "execution_count": 12,
   "metadata": {},
   "outputs": [
    {
     "name": "stderr",
     "output_type": "stream",
     "text": [
      "/var/folders/l7/bnn1j6bs3bqfskq2jlq55yh80000gr/T/ipykernel_39300/2753258485.py:1: FutureWarning: The default value of numeric_only in DataFrameGroupBy.mean is deprecated. In a future version, numeric_only will default to False. Either specify numeric_only or select only columns which should be valid for the function.\n",
      "  swnu_network_log_signature.groupby([\"k\",\n"
     ]
    },
    {
     "data": {
      "text/html": [
       "<div>\n",
       "<style scoped>\n",
       "    .dataframe tbody tr th:only-of-type {\n",
       "        vertical-align: middle;\n",
       "    }\n",
       "\n",
       "    .dataframe tbody tr th {\n",
       "        vertical-align: top;\n",
       "    }\n",
       "\n",
       "    .dataframe thead th {\n",
       "        text-align: right;\n",
       "    }\n",
       "</style>\n",
       "<table border=\"1\" class=\"dataframe\">\n",
       "  <thead>\n",
       "    <tr style=\"text-align: right;\">\n",
       "      <th></th>\n",
       "      <th></th>\n",
       "      <th></th>\n",
       "      <th></th>\n",
       "      <th></th>\n",
       "      <th></th>\n",
       "      <th></th>\n",
       "      <th></th>\n",
       "      <th>accuracy</th>\n",
       "      <th>f1</th>\n",
       "      <th>valid_loss</th>\n",
       "      <th>valid_accuracy</th>\n",
       "      <th>valid_f1</th>\n",
       "      <th>input_channels</th>\n",
       "      <th>output_channels</th>\n",
       "      <th>add_time_in_path</th>\n",
       "      <th>num_time_features</th>\n",
       "      <th>embedding_dim</th>\n",
       "      <th>log_signature</th>\n",
       "      <th>seed</th>\n",
       "      <th>BiLSTM</th>\n",
       "      <th>gamma</th>\n",
       "      <th>k_fold</th>\n",
       "      <th>model_id</th>\n",
       "    </tr>\n",
       "    <tr>\n",
       "      <th>k</th>\n",
       "      <th>dimensions</th>\n",
       "      <th>sig_depth</th>\n",
       "      <th>method</th>\n",
       "      <th>lstm_hidden_dim</th>\n",
       "      <th>ffn_hidden_dim</th>\n",
       "      <th>dropout_rate</th>\n",
       "      <th>learning_rate</th>\n",
       "      <th></th>\n",
       "      <th></th>\n",
       "      <th></th>\n",
       "      <th></th>\n",
       "      <th></th>\n",
       "      <th></th>\n",
       "      <th></th>\n",
       "      <th></th>\n",
       "      <th></th>\n",
       "      <th></th>\n",
       "      <th></th>\n",
       "      <th></th>\n",
       "      <th></th>\n",
       "      <th></th>\n",
       "      <th></th>\n",
       "      <th></th>\n",
       "    </tr>\n",
       "  </thead>\n",
       "  <tbody>\n",
       "    <tr>\n",
       "      <th>20</th>\n",
       "      <th>30</th>\n",
       "      <th>3</th>\n",
       "      <th>umap</th>\n",
       "      <th>8</th>\n",
       "      <th>64</th>\n",
       "      <th>0.2</th>\n",
       "      <th>0.0001</th>\n",
       "      <td>0.584366</td>\n",
       "      <td>0.557398</td>\n",
       "      <td>0.218649</td>\n",
       "      <td>0.63274</td>\n",
       "      <td>0.591781</td>\n",
       "      <td>30.0</td>\n",
       "      <td>10.0</td>\n",
       "      <td>0.0</td>\n",
       "      <td>1.0</td>\n",
       "      <td>384.0</td>\n",
       "      <td>1.0</td>\n",
       "      <td>274.0</td>\n",
       "      <td>0.0</td>\n",
       "      <td>2.0</td>\n",
       "      <td>0.0</td>\n",
       "      <td>0.0</td>\n",
       "    </tr>\n",
       "  </tbody>\n",
       "</table>\n",
       "</div>"
      ],
      "text/plain": [
       "                                                                                          accuracy  \\\n",
       "k  dimensions sig_depth method lstm_hidden_dim ffn_hidden_dim dropout_rate learning_rate             \n",
       "20 30         3         umap   8               64             0.2          0.0001         0.584366   \n",
       "\n",
       "                                                                                                f1  \\\n",
       "k  dimensions sig_depth method lstm_hidden_dim ffn_hidden_dim dropout_rate learning_rate             \n",
       "20 30         3         umap   8               64             0.2          0.0001         0.557398   \n",
       "\n",
       "                                                                                          valid_loss  \\\n",
       "k  dimensions sig_depth method lstm_hidden_dim ffn_hidden_dim dropout_rate learning_rate               \n",
       "20 30         3         umap   8               64             0.2          0.0001           0.218649   \n",
       "\n",
       "                                                                                          valid_accuracy  \\\n",
       "k  dimensions sig_depth method lstm_hidden_dim ffn_hidden_dim dropout_rate learning_rate                   \n",
       "20 30         3         umap   8               64             0.2          0.0001                0.63274   \n",
       "\n",
       "                                                                                          valid_f1  \\\n",
       "k  dimensions sig_depth method lstm_hidden_dim ffn_hidden_dim dropout_rate learning_rate             \n",
       "20 30         3         umap   8               64             0.2          0.0001         0.591781   \n",
       "\n",
       "                                                                                          input_channels  \\\n",
       "k  dimensions sig_depth method lstm_hidden_dim ffn_hidden_dim dropout_rate learning_rate                   \n",
       "20 30         3         umap   8               64             0.2          0.0001                   30.0   \n",
       "\n",
       "                                                                                          output_channels  \\\n",
       "k  dimensions sig_depth method lstm_hidden_dim ffn_hidden_dim dropout_rate learning_rate                    \n",
       "20 30         3         umap   8               64             0.2          0.0001                    10.0   \n",
       "\n",
       "                                                                                          add_time_in_path  \\\n",
       "k  dimensions sig_depth method lstm_hidden_dim ffn_hidden_dim dropout_rate learning_rate                     \n",
       "20 30         3         umap   8               64             0.2          0.0001                      0.0   \n",
       "\n",
       "                                                                                          num_time_features  \\\n",
       "k  dimensions sig_depth method lstm_hidden_dim ffn_hidden_dim dropout_rate learning_rate                      \n",
       "20 30         3         umap   8               64             0.2          0.0001                       1.0   \n",
       "\n",
       "                                                                                          embedding_dim  \\\n",
       "k  dimensions sig_depth method lstm_hidden_dim ffn_hidden_dim dropout_rate learning_rate                  \n",
       "20 30         3         umap   8               64             0.2          0.0001                 384.0   \n",
       "\n",
       "                                                                                          log_signature  \\\n",
       "k  dimensions sig_depth method lstm_hidden_dim ffn_hidden_dim dropout_rate learning_rate                  \n",
       "20 30         3         umap   8               64             0.2          0.0001                   1.0   \n",
       "\n",
       "                                                                                           seed  \\\n",
       "k  dimensions sig_depth method lstm_hidden_dim ffn_hidden_dim dropout_rate learning_rate          \n",
       "20 30         3         umap   8               64             0.2          0.0001         274.0   \n",
       "\n",
       "                                                                                          BiLSTM  \\\n",
       "k  dimensions sig_depth method lstm_hidden_dim ffn_hidden_dim dropout_rate learning_rate           \n",
       "20 30         3         umap   8               64             0.2          0.0001            0.0   \n",
       "\n",
       "                                                                                          gamma  \\\n",
       "k  dimensions sig_depth method lstm_hidden_dim ffn_hidden_dim dropout_rate learning_rate          \n",
       "20 30         3         umap   8               64             0.2          0.0001           2.0   \n",
       "\n",
       "                                                                                          k_fold  \\\n",
       "k  dimensions sig_depth method lstm_hidden_dim ffn_hidden_dim dropout_rate learning_rate           \n",
       "20 30         3         umap   8               64             0.2          0.0001            0.0   \n",
       "\n",
       "                                                                                          model_id  \n",
       "k  dimensions sig_depth method lstm_hidden_dim ffn_hidden_dim dropout_rate learning_rate            \n",
       "20 30         3         umap   8               64             0.2          0.0001              0.0  "
      ]
     },
     "execution_count": 12,
     "metadata": {},
     "output_type": "execute_result"
    }
   ],
   "source": [
    "swnu_network_log_signature.groupby([\"k\",\n",
    "                                    \"dimensions\",\n",
    "                                    \"sig_depth\",\n",
    "                                    \"method\",\n",
    "                                    \"lstm_hidden_dim\",\n",
    "                                    \"ffn_hidden_dim\",\n",
    "                                    \"dropout_rate\",\n",
    "                                    \"learning_rate\"]).mean()"
   ]
  },
  {
   "cell_type": "code",
   "execution_count": 13,
   "metadata": {},
   "outputs": [
    {
     "data": {
      "text/html": [
       "<div>\n",
       "<style scoped>\n",
       "    .dataframe tbody tr th:only-of-type {\n",
       "        vertical-align: middle;\n",
       "    }\n",
       "\n",
       "    .dataframe tbody tr th {\n",
       "        vertical-align: top;\n",
       "    }\n",
       "\n",
       "    .dataframe thead th {\n",
       "        text-align: right;\n",
       "    }\n",
       "</style>\n",
       "<table border=\"1\" class=\"dataframe\">\n",
       "  <thead>\n",
       "    <tr style=\"text-align: right;\">\n",
       "      <th></th>\n",
       "      <th>loss</th>\n",
       "      <th>accuracy</th>\n",
       "      <th>f1</th>\n",
       "      <th>f1_scores</th>\n",
       "      <th>valid_loss</th>\n",
       "      <th>valid_accuracy</th>\n",
       "      <th>valid_f1</th>\n",
       "      <th>valid_f1_scores</th>\n",
       "      <th>k</th>\n",
       "      <th>dimensions</th>\n",
       "      <th>...</th>\n",
       "      <th>ffn_hidden_dim</th>\n",
       "      <th>dropout_rate</th>\n",
       "      <th>learning_rate</th>\n",
       "      <th>seed</th>\n",
       "      <th>BiLSTM</th>\n",
       "      <th>gamma</th>\n",
       "      <th>k_fold</th>\n",
       "      <th>augmentation_type</th>\n",
       "      <th>hidden_dim_aug</th>\n",
       "      <th>comb_method</th>\n",
       "    </tr>\n",
       "  </thead>\n",
       "  <tbody>\n",
       "    <tr>\n",
       "      <th>0</th>\n",
       "      <td>focal</td>\n",
       "      <td>0.553861</td>\n",
       "      <td>0.525842</td>\n",
       "      <td>[0.6411042944785276, 0.41057934508816124]</td>\n",
       "      <td>0.207095</td>\n",
       "      <td>0.661922</td>\n",
       "      <td>0.626982</td>\n",
       "      <td>[0.7411444141689373, 0.5128205128205128]</td>\n",
       "      <td>20</td>\n",
       "      <td>30</td>\n",
       "      <td>...</td>\n",
       "      <td>64</td>\n",
       "      <td>0.2</td>\n",
       "      <td>0.0001</td>\n",
       "      <td>0</td>\n",
       "      <td>False</td>\n",
       "      <td>2</td>\n",
       "      <td>False</td>\n",
       "      <td>Conv1d</td>\n",
       "      <td>None</td>\n",
       "      <td>concatenation</td>\n",
       "    </tr>\n",
       "    <tr>\n",
       "      <th>0</th>\n",
       "      <td>focal</td>\n",
       "      <td>0.585319</td>\n",
       "      <td>0.553508</td>\n",
       "      <td>[0.672686230248307, 0.4343302990897269]</td>\n",
       "      <td>0.216002</td>\n",
       "      <td>0.590747</td>\n",
       "      <td>0.584667</td>\n",
       "      <td>[0.6349206349206349, 0.5344129554655871]</td>\n",
       "      <td>20</td>\n",
       "      <td>30</td>\n",
       "      <td>...</td>\n",
       "      <td>64</td>\n",
       "      <td>0.2</td>\n",
       "      <td>0.0001</td>\n",
       "      <td>1</td>\n",
       "      <td>False</td>\n",
       "      <td>2</td>\n",
       "      <td>False</td>\n",
       "      <td>Conv1d</td>\n",
       "      <td>None</td>\n",
       "      <td>concatenation</td>\n",
       "    </tr>\n",
       "    <tr>\n",
       "      <th>0</th>\n",
       "      <td>focal</td>\n",
       "      <td>0.626311</td>\n",
       "      <td>0.623477</td>\n",
       "      <td>[0.656140350877193, 0.5908141962421711]</td>\n",
       "      <td>0.234876</td>\n",
       "      <td>0.597865</td>\n",
       "      <td>0.511770</td>\n",
       "      <td>[0.7167919799498748, 0.3067484662576687]</td>\n",
       "      <td>20</td>\n",
       "      <td>30</td>\n",
       "      <td>...</td>\n",
       "      <td>64</td>\n",
       "      <td>0.2</td>\n",
       "      <td>0.0001</td>\n",
       "      <td>12</td>\n",
       "      <td>False</td>\n",
       "      <td>2</td>\n",
       "      <td>False</td>\n",
       "      <td>Conv1d</td>\n",
       "      <td>None</td>\n",
       "      <td>concatenation</td>\n",
       "    </tr>\n",
       "    <tr>\n",
       "      <th>0</th>\n",
       "      <td>focal</td>\n",
       "      <td>0.568160</td>\n",
       "      <td>0.531348</td>\n",
       "      <td>[0.6626954579300074, 0.4]</td>\n",
       "      <td>0.219130</td>\n",
       "      <td>0.644128</td>\n",
       "      <td>0.602434</td>\n",
       "      <td>[0.7311827956989247, 0.47368421052631576]</td>\n",
       "      <td>20</td>\n",
       "      <td>30</td>\n",
       "      <td>...</td>\n",
       "      <td>64</td>\n",
       "      <td>0.2</td>\n",
       "      <td>0.0001</td>\n",
       "      <td>123</td>\n",
       "      <td>False</td>\n",
       "      <td>2</td>\n",
       "      <td>False</td>\n",
       "      <td>Conv1d</td>\n",
       "      <td>None</td>\n",
       "      <td>concatenation</td>\n",
       "    </tr>\n",
       "    <tr>\n",
       "      <th>0</th>\n",
       "      <td>focal</td>\n",
       "      <td>0.588179</td>\n",
       "      <td>0.552814</td>\n",
       "      <td>[0.6785714285714286, 0.4270557029177719]</td>\n",
       "      <td>0.216144</td>\n",
       "      <td>0.669039</td>\n",
       "      <td>0.633051</td>\n",
       "      <td>[0.7479674796747967, 0.5181347150259067]</td>\n",
       "      <td>20</td>\n",
       "      <td>30</td>\n",
       "      <td>...</td>\n",
       "      <td>64</td>\n",
       "      <td>0.2</td>\n",
       "      <td>0.0001</td>\n",
       "      <td>1234</td>\n",
       "      <td>False</td>\n",
       "      <td>2</td>\n",
       "      <td>False</td>\n",
       "      <td>Conv1d</td>\n",
       "      <td>None</td>\n",
       "      <td>concatenation</td>\n",
       "    </tr>\n",
       "  </tbody>\n",
       "</table>\n",
       "<p>5 rows × 28 columns</p>\n",
       "</div>"
      ],
      "text/plain": [
       "    loss  accuracy        f1                                  f1_scores  \\\n",
       "0  focal  0.553861  0.525842  [0.6411042944785276, 0.41057934508816124]   \n",
       "0  focal  0.585319  0.553508    [0.672686230248307, 0.4343302990897269]   \n",
       "0  focal  0.626311  0.623477    [0.656140350877193, 0.5908141962421711]   \n",
       "0  focal  0.568160  0.531348                  [0.6626954579300074, 0.4]   \n",
       "0  focal  0.588179  0.552814   [0.6785714285714286, 0.4270557029177719]   \n",
       "\n",
       "   valid_loss  valid_accuracy  valid_f1  \\\n",
       "0    0.207095        0.661922  0.626982   \n",
       "0    0.216002        0.590747  0.584667   \n",
       "0    0.234876        0.597865  0.511770   \n",
       "0    0.219130        0.644128  0.602434   \n",
       "0    0.216144        0.669039  0.633051   \n",
       "\n",
       "                             valid_f1_scores   k  dimensions  ...  \\\n",
       "0   [0.7411444141689373, 0.5128205128205128]  20          30  ...   \n",
       "0   [0.6349206349206349, 0.5344129554655871]  20          30  ...   \n",
       "0   [0.7167919799498748, 0.3067484662576687]  20          30  ...   \n",
       "0  [0.7311827956989247, 0.47368421052631576]  20          30  ...   \n",
       "0   [0.7479674796747967, 0.5181347150259067]  20          30  ...   \n",
       "\n",
       "   ffn_hidden_dim dropout_rate  learning_rate  seed  BiLSTM  gamma  k_fold  \\\n",
       "0              64          0.2         0.0001     0   False      2   False   \n",
       "0              64          0.2         0.0001     1   False      2   False   \n",
       "0              64          0.2         0.0001    12   False      2   False   \n",
       "0              64          0.2         0.0001   123   False      2   False   \n",
       "0              64          0.2         0.0001  1234   False      2   False   \n",
       "\n",
       "   augmentation_type  hidden_dim_aug    comb_method  \n",
       "0             Conv1d            None  concatenation  \n",
       "0             Conv1d            None  concatenation  \n",
       "0             Conv1d            None  concatenation  \n",
       "0             Conv1d            None  concatenation  \n",
       "0             Conv1d            None  concatenation  \n",
       "\n",
       "[5 rows x 28 columns]"
      ]
     },
     "execution_count": 13,
     "metadata": {},
     "output_type": "execute_result"
    }
   ],
   "source": [
    "best_swnu_network_log_signature"
   ]
  },
  {
   "cell_type": "code",
   "execution_count": null,
   "metadata": {},
   "outputs": [],
   "source": []
  }
 ],
 "metadata": {
  "kernelspec": {
   "display_name": "nlpsig-networks",
   "language": "python",
   "name": "nlpsig-networks"
  },
  "language_info": {
   "codemirror_mode": {
    "name": "ipython",
    "version": 3
   },
   "file_extension": ".py",
   "mimetype": "text/x-python",
   "name": "python",
   "nbconvert_exporter": "python",
   "pygments_lexer": "ipython3",
   "version": "3.8.16"
  }
 },
 "nbformat": 4,
 "nbformat_minor": 2
}
