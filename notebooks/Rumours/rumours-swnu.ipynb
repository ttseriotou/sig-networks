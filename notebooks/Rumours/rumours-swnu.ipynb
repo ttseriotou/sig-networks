{
 "cells": [
  {
   "cell_type": "code",
   "execution_count": 1,
   "metadata": {},
   "outputs": [],
   "source": [
    "import pickle\n",
    "import numpy as np\n",
    "import pandas as pd\n",
    "import os\n",
    "from tqdm.notebook import tqdm\n",
    "import re\n",
    "\n",
    "seed = 2023"
   ]
  },
  {
   "cell_type": "code",
   "execution_count": 2,
   "metadata": {},
   "outputs": [
    {
     "data": {
      "text/plain": [
       "device(type='cuda')"
      ]
     },
     "execution_count": 2,
     "metadata": {},
     "output_type": "execute_result"
    }
   ],
   "source": [
    "import torch\n",
    "\n",
    "# set device\n",
    "device = torch.device(\"cuda\" if torch.cuda.is_available() else \"cpu\")\n",
    "device"
   ]
  },
  {
   "cell_type": "code",
   "execution_count": 3,
   "metadata": {},
   "outputs": [],
   "source": [
    "from nlpsig_networks.scripts.swnu_network_functions import (\n",
    "    swnu_network_hyperparameter_search,\n",
    "    obtain_SWNUNetwork_input,\n",
    ")"
   ]
  },
  {
   "cell_type": "code",
   "execution_count": 4,
   "metadata": {},
   "outputs": [],
   "source": [
    "output_dir = \"rumours_output\"\n",
    "if not os.path.isdir(output_dir):\n",
    "    os.makedirs(output_dir)"
   ]
  },
  {
   "cell_type": "markdown",
   "metadata": {},
   "source": [
    "## Rumours"
   ]
  },
  {
   "cell_type": "code",
   "execution_count": 5,
   "metadata": {},
   "outputs": [],
   "source": [
    "%run load_sbert-embeddings.py"
   ]
  },
  {
   "cell_type": "code",
   "execution_count": 6,
   "metadata": {},
   "outputs": [
    {
     "data": {
      "text/html": [
       "<div>\n",
       "<style scoped>\n",
       "    .dataframe tbody tr th:only-of-type {\n",
       "        vertical-align: middle;\n",
       "    }\n",
       "\n",
       "    .dataframe tbody tr th {\n",
       "        vertical-align: top;\n",
       "    }\n",
       "\n",
       "    .dataframe thead th {\n",
       "        text-align: right;\n",
       "    }\n",
       "</style>\n",
       "<table border=\"1\" class=\"dataframe\">\n",
       "  <thead>\n",
       "    <tr style=\"text-align: right;\">\n",
       "      <th></th>\n",
       "      <th>id</th>\n",
       "      <th>label</th>\n",
       "      <th>datetime</th>\n",
       "      <th>text</th>\n",
       "      <th>timeline_id</th>\n",
       "      <th>set</th>\n",
       "    </tr>\n",
       "  </thead>\n",
       "  <tbody>\n",
       "    <tr>\n",
       "      <th>0</th>\n",
       "      <td>5.249902e+17</td>\n",
       "      <td>0</td>\n",
       "      <td>2014-10-22 18:26:23</td>\n",
       "      <td>Police have clarified that there were two shoo...</td>\n",
       "      <td>0</td>\n",
       "      <td>train</td>\n",
       "    </tr>\n",
       "    <tr>\n",
       "      <th>1</th>\n",
       "      <td>5.249906e+17</td>\n",
       "      <td>0</td>\n",
       "      <td>2014-10-22 18:27:58</td>\n",
       "      <td>@CTVNews you guys \"confirmed\" there were 3 sho...</td>\n",
       "      <td>0</td>\n",
       "      <td>train</td>\n",
       "    </tr>\n",
       "    <tr>\n",
       "      <th>2</th>\n",
       "      <td>5.249908e+17</td>\n",
       "      <td>1</td>\n",
       "      <td>2014-10-22 18:28:46</td>\n",
       "      <td>@CTVNews get it right. http://t.co/GHYxMuzPG9</td>\n",
       "      <td>0</td>\n",
       "      <td>train</td>\n",
       "    </tr>\n",
       "    <tr>\n",
       "      <th>3</th>\n",
       "      <td>5.249927e+17</td>\n",
       "      <td>1</td>\n",
       "      <td>2014-10-22 18:36:29</td>\n",
       "      <td>RT @CTVNews Police have clarified that there w...</td>\n",
       "      <td>0</td>\n",
       "      <td>train</td>\n",
       "    </tr>\n",
       "    <tr>\n",
       "      <th>4</th>\n",
       "      <td>5.250038e+17</td>\n",
       "      <td>1</td>\n",
       "      <td>2014-10-22 19:20:41</td>\n",
       "      <td>@CTVNews @ctvsaskatoon so what happened at Rid...</td>\n",
       "      <td>0</td>\n",
       "      <td>train</td>\n",
       "    </tr>\n",
       "  </tbody>\n",
       "</table>\n",
       "</div>"
      ],
      "text/plain": [
       "             id label            datetime  \\\n",
       "0  5.249902e+17     0 2014-10-22 18:26:23   \n",
       "1  5.249906e+17     0 2014-10-22 18:27:58   \n",
       "2  5.249908e+17     1 2014-10-22 18:28:46   \n",
       "3  5.249927e+17     1 2014-10-22 18:36:29   \n",
       "4  5.250038e+17     1 2014-10-22 19:20:41   \n",
       "\n",
       "                                                text timeline_id    set  \n",
       "0  Police have clarified that there were two shoo...           0  train  \n",
       "1  @CTVNews you guys \"confirmed\" there were 3 sho...           0  train  \n",
       "2      @CTVNews get it right. http://t.co/GHYxMuzPG9           0  train  \n",
       "3  RT @CTVNews Police have clarified that there w...           0  train  \n",
       "4  @CTVNews @ctvsaskatoon so what happened at Rid...           0  train  "
      ]
     },
     "execution_count": 6,
     "metadata": {},
     "output_type": "execute_result"
    }
   ],
   "source": [
    "df_rumours.head()"
   ]
  },
  {
   "cell_type": "markdown",
   "metadata": {},
   "source": [
    "## SWNU Network"
   ]
  },
  {
   "cell_type": "code",
   "execution_count": 7,
   "metadata": {},
   "outputs": [],
   "source": [
    "features = [\"time_encoding\", \"timeline_index\"]\n",
    "standardise_method = [\"z_score\", None]\n",
    "include_features_in_path = True\n",
    "include_features_in_input = True"
   ]
  },
  {
   "cell_type": "code",
   "execution_count": 8,
   "metadata": {},
   "outputs": [],
   "source": [
    "num_epochs = 100\n",
    "dimensions = [15]\n",
    "swnu_hidden_dim_sizes_and_sig_depths = [([12], 3), ([10], 3)]\n",
    "ffn_hidden_dim_sizes = [[32,32], [128,128], [512,512]]\n",
    "dropout_rates = [0.1]\n",
    "learning_rates = [5e-4, 3e-4, 1e-4]\n",
    "seeds = [1, 12, 123]\n",
    "loss = \"focal\"\n",
    "gamma = 2\n",
    "validation_metric = \"f1\"\n",
    "patience = 3"
   ]
  },
  {
   "cell_type": "code",
   "execution_count": 9,
   "metadata": {},
   "outputs": [],
   "source": [
    "kwargs = {\n",
    "    \"num_epochs\": num_epochs,\n",
    "    \"df\": df_rumours,\n",
    "    \"id_column\": \"timeline_id\",\n",
    "    \"label_column\": \"label\",\n",
    "    \"embeddings\": sbert_embeddings,\n",
    "    \"y_data\": y_data,\n",
    "    \"output_dim\": output_dim,\n",
    "    \"dimensions\": dimensions,\n",
    "    \"log_signature\": True,\n",
    "    \"pooling\": \"signature\",\n",
    "    \"swnu_hidden_dim_sizes_and_sig_depths\": swnu_hidden_dim_sizes_and_sig_depths,\n",
    "    \"ffn_hidden_dim_sizes\": ffn_hidden_dim_sizes,\n",
    "    \"dropout_rates\": dropout_rates,\n",
    "    \"learning_rates\": learning_rates,\n",
    "    \"BiLSTM\": True,\n",
    "    \"seeds\": seeds,\n",
    "    \"loss\": loss,\n",
    "    \"gamma\": gamma,\n",
    "    \"device\": device,\n",
    "    \"features\": features,\n",
    "    \"standardise_method\": standardise_method,\n",
    "    \"include_features_in_path\": include_features_in_path,\n",
    "    \"include_features_in_input\": include_features_in_input,\n",
    "    \"split_ids\": split_ids,\n",
    "    \"k_fold\": True,\n",
    "    \"patience\": patience,\n",
    "    \"validation_metric\": validation_metric,\n",
    "    \"verbose\": False,\n",
    "}"
   ]
  },
  {
   "cell_type": "markdown",
   "metadata": {
    "tags": []
   },
   "source": [
    "# w=5"
   ]
  },
  {
   "cell_type": "code",
   "execution_count": 10,
   "metadata": {},
   "outputs": [],
   "source": [
    "size = 5"
   ]
  },
  {
   "cell_type": "markdown",
   "metadata": {},
   "source": [
    "## umap"
   ]
  },
  {
   "cell_type": "code",
   "execution_count": 11,
   "metadata": {},
   "outputs": [
    {
     "data": {
      "application/vnd.jupyter.widget-view+json": {
       "model_id": "9cd3e969c87742a494795c09ad3be72f",
       "version_major": 2,
       "version_minor": 0
      },
      "text/plain": [
       "  0%|          | 0/1 [00:00<?, ?it/s]"
      ]
     },
     "metadata": {},
     "output_type": "display_data"
    },
    {
     "data": {
      "application/vnd.jupyter.widget-view+json": {
       "model_id": "9aab10195102443dad6181dded6c51de",
       "version_major": 2,
       "version_minor": 0
      },
      "text/plain": [
       "  0%|          | 0/1 [00:00<?, ?it/s]"
      ]
     },
     "metadata": {},
     "output_type": "display_data"
    },
    {
     "data": {
      "application/vnd.jupyter.widget-view+json": {
       "model_id": "0b74bdc64a6f4fb591c3330bd2fe6414",
       "version_major": 2,
       "version_minor": 0
      },
      "text/plain": [
       "  0%|          | 0/1 [00:00<?, ?it/s]"
      ]
     },
     "metadata": {},
     "output_type": "display_data"
    },
    {
     "name": "stdout",
     "output_type": "stream",
     "text": [
      "\n",
      "##################################################\n",
      "dimension: 15 | method: umap\n",
      "[INFO] Concatenating the embeddings to the dataframe...\n",
      "[INFO] - columns beginning with 'e' denote the full embddings.\n",
      "[INFO] - columns beginning with 'd' denote the dimension reduced embeddings.\n",
      "[INFO] Adding time feature columns into dataframe in `.df`.\n",
      "[INFO] Adding 'time_encoding' feature...\n",
      "[INFO] Adding 'time_diff' feature...\n",
      "[INFO] Adding 'timeline_index' feature...\n",
      "[INFO] Padding ids and storing in `.df_padded` and `.array_padded` attributes.\n"
     ]
    },
    {
     "data": {
      "application/vnd.jupyter.widget-view+json": {
       "model_id": "48f580e6a3c0476aa2d0172fadd4314f",
       "version_major": 2,
       "version_minor": 0
      },
      "text/plain": [
       "  0%|          | 0/5568 [00:00<?, ?it/s]"
      ]
     },
     "metadata": {},
     "output_type": "display_data"
    },
    {
     "name": "stdout",
     "output_type": "stream",
     "text": [
      "[INFO] The path was created for each item in the dataframe, by looking at its history, so to include embeddings in the FFN input, we concatenate the embeddings for each sentence / text.\n"
     ]
    },
    {
     "data": {
      "application/vnd.jupyter.widget-view+json": {
       "model_id": "676047c34e4b46e89ec1603c58477673",
       "version_major": 2,
       "version_minor": 0
      },
      "text/plain": [
       "  0%|          | 0/2 [00:00<?, ?it/s]"
      ]
     },
     "metadata": {},
     "output_type": "display_data"
    },
    {
     "data": {
      "application/vnd.jupyter.widget-view+json": {
       "model_id": "9d2516e9427b4e459170f840c66048a5",
       "version_major": 2,
       "version_minor": 0
      },
      "text/plain": [
       "  0%|          | 0/3 [00:00<?, ?it/s]"
      ]
     },
     "metadata": {},
     "output_type": "display_data"
    },
    {
     "data": {
      "application/vnd.jupyter.widget-view+json": {
       "model_id": "c0c2b9d94a524f16b2b7634419088602",
       "version_major": 2,
       "version_minor": 0
      },
      "text/plain": [
       "  0%|          | 0/1 [00:00<?, ?it/s]"
      ]
     },
     "metadata": {},
     "output_type": "display_data"
    },
    {
     "data": {
      "application/vnd.jupyter.widget-view+json": {
       "model_id": "19126975429743ebb1c191981295e347",
       "version_major": 2,
       "version_minor": 0
      },
      "text/plain": [
       "  0%|          | 0/1 [00:00<?, ?it/s]"
      ]
     },
     "metadata": {},
     "output_type": "display_data"
    },
    {
     "data": {
      "application/vnd.jupyter.widget-view+json": {
       "model_id": "593a7a65664b40f49fe1bc077e23b3d0",
       "version_major": 2,
       "version_minor": 0
      },
      "text/plain": [
       "  0%|          | 0/3 [00:00<?, ?it/s]"
      ]
     },
     "metadata": {},
     "output_type": "display_data"
    },
    {
     "data": {
      "application/vnd.jupyter.widget-view+json": {
       "model_id": "1b63c9e701ce41ebb202dd17c0d399ee",
       "version_major": 2,
       "version_minor": 0
      },
      "text/plain": [
       "  0%|          | 0/1 [00:00<?, ?it/s]"
      ]
     },
     "metadata": {},
     "output_type": "display_data"
    },
    {
     "data": {
      "application/vnd.jupyter.widget-view+json": {
       "model_id": "2e6353bb94f4473fa00990d04dbc5972",
       "version_major": 2,
       "version_minor": 0
      },
      "text/plain": [
       "  0%|          | 0/1 [00:00<?, ?it/s]"
      ]
     },
     "metadata": {},
     "output_type": "display_data"
    },
    {
     "data": {
      "application/vnd.jupyter.widget-view+json": {
       "model_id": "63670d859f7441ad8fa001706ec9201f",
       "version_major": 2,
       "version_minor": 0
      },
      "text/plain": [
       "  0%|          | 0/3 [00:00<?, ?it/s]"
      ]
     },
     "metadata": {},
     "output_type": "display_data"
    },
    {
     "data": {
      "application/vnd.jupyter.widget-view+json": {
       "model_id": "1fa918fd82e64aa6b29539f7a98b7cf6",
       "version_major": 2,
       "version_minor": 0
      },
      "text/plain": [
       "  0%|          | 0/1 [00:00<?, ?it/s]"
      ]
     },
     "metadata": {},
     "output_type": "display_data"
    },
    {
     "data": {
      "application/vnd.jupyter.widget-view+json": {
       "model_id": "bf8786b5eb9e4721b46829447d32c536",
       "version_major": 2,
       "version_minor": 0
      },
      "text/plain": [
       "  0%|          | 0/1 [00:00<?, ?it/s]"
      ]
     },
     "metadata": {},
     "output_type": "display_data"
    },
    {
     "data": {
      "application/vnd.jupyter.widget-view+json": {
       "model_id": "7ec7d0f317ab4743854826fb814d40cf",
       "version_major": 2,
       "version_minor": 0
      },
      "text/plain": [
       "  0%|          | 0/3 [00:00<?, ?it/s]"
      ]
     },
     "metadata": {},
     "output_type": "display_data"
    },
    {
     "data": {
      "application/vnd.jupyter.widget-view+json": {
       "model_id": "7a71db58f0404b1ebc3ba6da1daf1a1c",
       "version_major": 2,
       "version_minor": 0
      },
      "text/plain": [
       "  0%|          | 0/3 [00:00<?, ?it/s]"
      ]
     },
     "metadata": {},
     "output_type": "display_data"
    },
    {
     "data": {
      "application/vnd.jupyter.widget-view+json": {
       "model_id": "1a0807d11e9f40b0b3b6d72159a81fae",
       "version_major": 2,
       "version_minor": 0
      },
      "text/plain": [
       "  0%|          | 0/1 [00:00<?, ?it/s]"
      ]
     },
     "metadata": {},
     "output_type": "display_data"
    },
    {
     "data": {
      "application/vnd.jupyter.widget-view+json": {
       "model_id": "428fcc7cfefb4911b32f1921ca5d07b3",
       "version_major": 2,
       "version_minor": 0
      },
      "text/plain": [
       "  0%|          | 0/1 [00:00<?, ?it/s]"
      ]
     },
     "metadata": {},
     "output_type": "display_data"
    },
    {
     "data": {
      "application/vnd.jupyter.widget-view+json": {
       "model_id": "ae15e175ab4c4ee2a895161294316b69",
       "version_major": 2,
       "version_minor": 0
      },
      "text/plain": [
       "  0%|          | 0/3 [00:00<?, ?it/s]"
      ]
     },
     "metadata": {},
     "output_type": "display_data"
    },
    {
     "data": {
      "application/vnd.jupyter.widget-view+json": {
       "model_id": "f00f1662602d488f97c837bb25899398",
       "version_major": 2,
       "version_minor": 0
      },
      "text/plain": [
       "  0%|          | 0/1 [00:00<?, ?it/s]"
      ]
     },
     "metadata": {},
     "output_type": "display_data"
    },
    {
     "data": {
      "application/vnd.jupyter.widget-view+json": {
       "model_id": "780b4a07e39d4203891db7197382739a",
       "version_major": 2,
       "version_minor": 0
      },
      "text/plain": [
       "  0%|          | 0/1 [00:00<?, ?it/s]"
      ]
     },
     "metadata": {},
     "output_type": "display_data"
    },
    {
     "data": {
      "application/vnd.jupyter.widget-view+json": {
       "model_id": "731df597dbd84c258042364be8e57188",
       "version_major": 2,
       "version_minor": 0
      },
      "text/plain": [
       "  0%|          | 0/3 [00:00<?, ?it/s]"
      ]
     },
     "metadata": {},
     "output_type": "display_data"
    },
    {
     "data": {
      "application/vnd.jupyter.widget-view+json": {
       "model_id": "40e73bf0073742a399c34b095158ebf3",
       "version_major": 2,
       "version_minor": 0
      },
      "text/plain": [
       "  0%|          | 0/1 [00:00<?, ?it/s]"
      ]
     },
     "metadata": {},
     "output_type": "display_data"
    },
    {
     "data": {
      "application/vnd.jupyter.widget-view+json": {
       "model_id": "53b06ff67e3448ed8fa5be9043b89882",
       "version_major": 2,
       "version_minor": 0
      },
      "text/plain": [
       "  0%|          | 0/1 [00:00<?, ?it/s]"
      ]
     },
     "metadata": {},
     "output_type": "display_data"
    },
    {
     "data": {
      "application/vnd.jupyter.widget-view+json": {
       "model_id": "2b22469be02047b09b23ce8e0520d620",
       "version_major": 2,
       "version_minor": 0
      },
      "text/plain": [
       "  0%|          | 0/3 [00:00<?, ?it/s]"
      ]
     },
     "metadata": {},
     "output_type": "display_data"
    },
    {
     "name": "stdout",
     "output_type": "stream",
     "text": [
      "[INFO] Concatenating the embeddings to the dataframe...\n",
      "[INFO] - columns beginning with 'e' denote the full embddings.\n",
      "[INFO] - columns beginning with 'd' denote the dimension reduced embeddings.\n",
      "[INFO] Adding time feature columns into dataframe in `.df`.\n",
      "[INFO] Adding 'time_encoding' feature...\n",
      "[INFO] Adding 'time_diff' feature...\n",
      "[INFO] Adding 'timeline_index' feature...\n",
      "[INFO] Padding ids and storing in `.df_padded` and `.array_padded` attributes.\n"
     ]
    },
    {
     "data": {
      "application/vnd.jupyter.widget-view+json": {
       "model_id": "9d22a43dcffb4641b95885bdb24cfc62",
       "version_major": 2,
       "version_minor": 0
      },
      "text/plain": [
       "  0%|          | 0/5568 [00:00<?, ?it/s]"
      ]
     },
     "metadata": {},
     "output_type": "display_data"
    },
    {
     "name": "stdout",
     "output_type": "stream",
     "text": [
      "[INFO] The path was created for each item in the dataframe, by looking at its history, so to include embeddings in the FFN input, we concatenate the embeddings for each sentence / text.\n",
      "saving results dataframe to CSV for this hyperparameter search in rumours_output/swnu_network_umap_focal_2_5_kfold.csv\n",
      "saving the best model results dataframe to CSV for this hyperparameter search in rumours_output/swnu_network_umap_focal_2_5_kfold_best_model.csv\n"
     ]
    }
   ],
   "source": [
    "(\n",
    "    swnu_network_umap_kfold_5,\n",
    "    best_swnu_network_umap_kfold_5,\n",
    "    _,\n",
    "    __,\n",
    ") = swnu_network_hyperparameter_search(\n",
    "    history_lengths=[size],\n",
    "    dim_reduce_methods=[\"umap\"],\n",
    "    results_output=f\"{output_dir}/swnu_network_umap_focal_{gamma}_{size}_kfold.csv\",\n",
    "    **kwargs,\n",
    ")"
   ]
  },
  {
   "cell_type": "code",
   "execution_count": 12,
   "metadata": {},
   "outputs": [
    {
     "name": "stderr",
     "output_type": "stream",
     "text": [
      "/tmp/ipykernel_2296062/1104105075.py:1: FutureWarning: The default value of numeric_only in DataFrameGroupBy.mean is deprecated. In a future version, numeric_only will default to False. Either specify numeric_only or select only columns which should be valid for the function.\n",
      "  swnu_network_umap_kfold_5.groupby(\n"
     ]
    },
    {
     "data": {
      "text/html": [
       "<div>\n",
       "<style scoped>\n",
       "    .dataframe tbody tr th:only-of-type {\n",
       "        vertical-align: middle;\n",
       "    }\n",
       "\n",
       "    .dataframe tbody tr th {\n",
       "        vertical-align: top;\n",
       "    }\n",
       "\n",
       "    .dataframe thead th {\n",
       "        text-align: right;\n",
       "    }\n",
       "</style>\n",
       "<table border=\"1\" class=\"dataframe\">\n",
       "  <thead>\n",
       "    <tr style=\"text-align: right;\">\n",
       "      <th></th>\n",
       "      <th></th>\n",
       "      <th></th>\n",
       "      <th></th>\n",
       "      <th></th>\n",
       "      <th>accuracy</th>\n",
       "      <th>f1</th>\n",
       "      <th>precision</th>\n",
       "      <th>recall</th>\n",
       "      <th>valid_accuracy</th>\n",
       "      <th>valid_f1</th>\n",
       "      <th>valid_precision</th>\n",
       "      <th>valid_recall</th>\n",
       "      <th>k</th>\n",
       "      <th>sig_depth</th>\n",
       "      <th>...</th>\n",
       "      <th>embedding_dim</th>\n",
       "      <th>num_features</th>\n",
       "      <th>log_signature</th>\n",
       "      <th>seed</th>\n",
       "      <th>BiLSTM</th>\n",
       "      <th>gamma</th>\n",
       "      <th>k_fold</th>\n",
       "      <th>n_splits</th>\n",
       "      <th>batch_size</th>\n",
       "      <th>model_id</th>\n",
       "    </tr>\n",
       "    <tr>\n",
       "      <th>dimensions</th>\n",
       "      <th>swnu_hidden_dim</th>\n",
       "      <th>ffn_hidden_dim</th>\n",
       "      <th>dropout_rate</th>\n",
       "      <th>learning_rate</th>\n",
       "      <th></th>\n",
       "      <th></th>\n",
       "      <th></th>\n",
       "      <th></th>\n",
       "      <th></th>\n",
       "      <th></th>\n",
       "      <th></th>\n",
       "      <th></th>\n",
       "      <th></th>\n",
       "      <th></th>\n",
       "      <th></th>\n",
       "      <th></th>\n",
       "      <th></th>\n",
       "      <th></th>\n",
       "      <th></th>\n",
       "      <th></th>\n",
       "      <th></th>\n",
       "      <th></th>\n",
       "      <th></th>\n",
       "      <th></th>\n",
       "      <th></th>\n",
       "    </tr>\n",
       "  </thead>\n",
       "  <tbody>\n",
       "    <tr>\n",
       "      <th rowspan=\"18\" valign=\"top\">15</th>\n",
       "      <th rowspan=\"9\" valign=\"top\">(10,)</th>\n",
       "      <th rowspan=\"3\" valign=\"top\">(32, 32)</th>\n",
       "      <th rowspan=\"3\" valign=\"top\">0.1</th>\n",
       "      <th>0.0001</th>\n",
       "      <td>0.695993</td>\n",
       "      <td>0.665693</td>\n",
       "      <td>0.666005</td>\n",
       "      <td>0.665721</td>\n",
       "      <td>0.731006</td>\n",
       "      <td>0.710582</td>\n",
       "      <td>0.714625</td>\n",
       "      <td>0.707925</td>\n",
       "      <td>5.0</td>\n",
       "      <td>3.0</td>\n",
       "      <td>...</td>\n",
       "      <td>384.0</td>\n",
       "      <td>2.0</td>\n",
       "      <td>1.0</td>\n",
       "      <td>45.333333</td>\n",
       "      <td>1.0</td>\n",
       "      <td>2.0</td>\n",
       "      <td>1.0</td>\n",
       "      <td>5.0</td>\n",
       "      <td>64.0</td>\n",
       "      <td>11.0</td>\n",
       "    </tr>\n",
       "    <tr>\n",
       "      <th>0.0003</th>\n",
       "      <td>0.693569</td>\n",
       "      <td>0.664857</td>\n",
       "      <td>0.664295</td>\n",
       "      <td>0.665867</td>\n",
       "      <td>0.735095</td>\n",
       "      <td>0.715443</td>\n",
       "      <td>0.719349</td>\n",
       "      <td>0.713017</td>\n",
       "      <td>5.0</td>\n",
       "      <td>3.0</td>\n",
       "      <td>...</td>\n",
       "      <td>384.0</td>\n",
       "      <td>2.0</td>\n",
       "      <td>1.0</td>\n",
       "      <td>45.333333</td>\n",
       "      <td>1.0</td>\n",
       "      <td>2.0</td>\n",
       "      <td>1.0</td>\n",
       "      <td>5.0</td>\n",
       "      <td>64.0</td>\n",
       "      <td>10.0</td>\n",
       "    </tr>\n",
       "    <tr>\n",
       "      <th>0.0005</th>\n",
       "      <td>0.688785</td>\n",
       "      <td>0.664661</td>\n",
       "      <td>0.662588</td>\n",
       "      <td>0.668667</td>\n",
       "      <td>0.732983</td>\n",
       "      <td>0.716705</td>\n",
       "      <td>0.717054</td>\n",
       "      <td>0.716583</td>\n",
       "      <td>5.0</td>\n",
       "      <td>3.0</td>\n",
       "      <td>...</td>\n",
       "      <td>384.0</td>\n",
       "      <td>2.0</td>\n",
       "      <td>1.0</td>\n",
       "      <td>45.333333</td>\n",
       "      <td>1.0</td>\n",
       "      <td>2.0</td>\n",
       "      <td>1.0</td>\n",
       "      <td>5.0</td>\n",
       "      <td>64.0</td>\n",
       "      <td>9.0</td>\n",
       "    </tr>\n",
       "    <tr>\n",
       "      <th rowspan=\"3\" valign=\"top\">(128, 128)</th>\n",
       "      <th rowspan=\"3\" valign=\"top\">0.1</th>\n",
       "      <th>0.0001</th>\n",
       "      <td>0.689779</td>\n",
       "      <td>0.664521</td>\n",
       "      <td>0.662508</td>\n",
       "      <td>0.667586</td>\n",
       "      <td>0.728625</td>\n",
       "      <td>0.712176</td>\n",
       "      <td>0.712362</td>\n",
       "      <td>0.712021</td>\n",
       "      <td>5.0</td>\n",
       "      <td>3.0</td>\n",
       "      <td>...</td>\n",
       "      <td>384.0</td>\n",
       "      <td>2.0</td>\n",
       "      <td>1.0</td>\n",
       "      <td>45.333333</td>\n",
       "      <td>1.0</td>\n",
       "      <td>2.0</td>\n",
       "      <td>1.0</td>\n",
       "      <td>5.0</td>\n",
       "      <td>64.0</td>\n",
       "      <td>14.0</td>\n",
       "    </tr>\n",
       "    <tr>\n",
       "      <th>0.0003</th>\n",
       "      <td>0.685741</td>\n",
       "      <td>0.665745</td>\n",
       "      <td>0.663270</td>\n",
       "      <td>0.673011</td>\n",
       "      <td>0.727232</td>\n",
       "      <td>0.713879</td>\n",
       "      <td>0.712352</td>\n",
       "      <td>0.716418</td>\n",
       "      <td>5.0</td>\n",
       "      <td>3.0</td>\n",
       "      <td>...</td>\n",
       "      <td>384.0</td>\n",
       "      <td>2.0</td>\n",
       "      <td>1.0</td>\n",
       "      <td>45.333333</td>\n",
       "      <td>1.0</td>\n",
       "      <td>2.0</td>\n",
       "      <td>1.0</td>\n",
       "      <td>5.0</td>\n",
       "      <td>64.0</td>\n",
       "      <td>13.0</td>\n",
       "    </tr>\n",
       "    <tr>\n",
       "      <th>0.0005</th>\n",
       "      <td>0.690401</td>\n",
       "      <td>0.665239</td>\n",
       "      <td>0.663548</td>\n",
       "      <td>0.668474</td>\n",
       "      <td>0.732579</td>\n",
       "      <td>0.715797</td>\n",
       "      <td>0.716724</td>\n",
       "      <td>0.715351</td>\n",
       "      <td>5.0</td>\n",
       "      <td>3.0</td>\n",
       "      <td>...</td>\n",
       "      <td>384.0</td>\n",
       "      <td>2.0</td>\n",
       "      <td>1.0</td>\n",
       "      <td>45.333333</td>\n",
       "      <td>1.0</td>\n",
       "      <td>2.0</td>\n",
       "      <td>1.0</td>\n",
       "      <td>5.0</td>\n",
       "      <td>64.0</td>\n",
       "      <td>12.0</td>\n",
       "    </tr>\n",
       "    <tr>\n",
       "      <th rowspan=\"3\" valign=\"top\">(512, 512)</th>\n",
       "      <th rowspan=\"3\" valign=\"top\">0.1</th>\n",
       "      <th>0.0001</th>\n",
       "      <td>0.695806</td>\n",
       "      <td>0.669261</td>\n",
       "      <td>0.667747</td>\n",
       "      <td>0.671278</td>\n",
       "      <td>0.730512</td>\n",
       "      <td>0.713012</td>\n",
       "      <td>0.714163</td>\n",
       "      <td>0.712029</td>\n",
       "      <td>5.0</td>\n",
       "      <td>3.0</td>\n",
       "      <td>...</td>\n",
       "      <td>384.0</td>\n",
       "      <td>2.0</td>\n",
       "      <td>1.0</td>\n",
       "      <td>45.333333</td>\n",
       "      <td>1.0</td>\n",
       "      <td>2.0</td>\n",
       "      <td>1.0</td>\n",
       "      <td>5.0</td>\n",
       "      <td>64.0</td>\n",
       "      <td>17.0</td>\n",
       "    </tr>\n",
       "    <tr>\n",
       "      <th>0.0003</th>\n",
       "      <td>0.695868</td>\n",
       "      <td>0.670727</td>\n",
       "      <td>0.668809</td>\n",
       "      <td>0.673663</td>\n",
       "      <td>0.730332</td>\n",
       "      <td>0.713928</td>\n",
       "      <td>0.714156</td>\n",
       "      <td>0.713740</td>\n",
       "      <td>5.0</td>\n",
       "      <td>3.0</td>\n",
       "      <td>...</td>\n",
       "      <td>384.0</td>\n",
       "      <td>2.0</td>\n",
       "      <td>1.0</td>\n",
       "      <td>45.333333</td>\n",
       "      <td>1.0</td>\n",
       "      <td>2.0</td>\n",
       "      <td>1.0</td>\n",
       "      <td>5.0</td>\n",
       "      <td>64.0</td>\n",
       "      <td>16.0</td>\n",
       "    </tr>\n",
       "    <tr>\n",
       "      <th>0.0005</th>\n",
       "      <td>0.695868</td>\n",
       "      <td>0.670215</td>\n",
       "      <td>0.668393</td>\n",
       "      <td>0.672802</td>\n",
       "      <td>0.729209</td>\n",
       "      <td>0.712029</td>\n",
       "      <td>0.712872</td>\n",
       "      <td>0.711339</td>\n",
       "      <td>5.0</td>\n",
       "      <td>3.0</td>\n",
       "      <td>...</td>\n",
       "      <td>384.0</td>\n",
       "      <td>2.0</td>\n",
       "      <td>1.0</td>\n",
       "      <td>45.333333</td>\n",
       "      <td>1.0</td>\n",
       "      <td>2.0</td>\n",
       "      <td>1.0</td>\n",
       "      <td>5.0</td>\n",
       "      <td>64.0</td>\n",
       "      <td>15.0</td>\n",
       "    </tr>\n",
       "    <tr>\n",
       "      <th rowspan=\"9\" valign=\"top\">(12,)</th>\n",
       "      <th rowspan=\"3\" valign=\"top\">(32, 32)</th>\n",
       "      <th rowspan=\"3\" valign=\"top\">0.1</th>\n",
       "      <th>0.0001</th>\n",
       "      <td>0.695371</td>\n",
       "      <td>0.665128</td>\n",
       "      <td>0.666001</td>\n",
       "      <td>0.665530</td>\n",
       "      <td>0.732938</td>\n",
       "      <td>0.712095</td>\n",
       "      <td>0.717320</td>\n",
       "      <td>0.709305</td>\n",
       "      <td>5.0</td>\n",
       "      <td>3.0</td>\n",
       "      <td>...</td>\n",
       "      <td>384.0</td>\n",
       "      <td>2.0</td>\n",
       "      <td>1.0</td>\n",
       "      <td>45.333333</td>\n",
       "      <td>1.0</td>\n",
       "      <td>2.0</td>\n",
       "      <td>1.0</td>\n",
       "      <td>5.0</td>\n",
       "      <td>64.0</td>\n",
       "      <td>2.0</td>\n",
       "    </tr>\n",
       "    <tr>\n",
       "      <th>0.0003</th>\n",
       "      <td>0.689593</td>\n",
       "      <td>0.662335</td>\n",
       "      <td>0.661127</td>\n",
       "      <td>0.664326</td>\n",
       "      <td>0.734825</td>\n",
       "      <td>0.716179</td>\n",
       "      <td>0.719007</td>\n",
       "      <td>0.714428</td>\n",
       "      <td>5.0</td>\n",
       "      <td>3.0</td>\n",
       "      <td>...</td>\n",
       "      <td>384.0</td>\n",
       "      <td>2.0</td>\n",
       "      <td>1.0</td>\n",
       "      <td>45.333333</td>\n",
       "      <td>1.0</td>\n",
       "      <td>2.0</td>\n",
       "      <td>1.0</td>\n",
       "      <td>5.0</td>\n",
       "      <td>64.0</td>\n",
       "      <td>1.0</td>\n",
       "    </tr>\n",
       "    <tr>\n",
       "      <th>0.0005</th>\n",
       "      <td>0.690339</td>\n",
       "      <td>0.662134</td>\n",
       "      <td>0.661396</td>\n",
       "      <td>0.663546</td>\n",
       "      <td>0.734286</td>\n",
       "      <td>0.714827</td>\n",
       "      <td>0.718445</td>\n",
       "      <td>0.712544</td>\n",
       "      <td>5.0</td>\n",
       "      <td>3.0</td>\n",
       "      <td>...</td>\n",
       "      <td>384.0</td>\n",
       "      <td>2.0</td>\n",
       "      <td>1.0</td>\n",
       "      <td>45.333333</td>\n",
       "      <td>1.0</td>\n",
       "      <td>2.0</td>\n",
       "      <td>1.0</td>\n",
       "      <td>5.0</td>\n",
       "      <td>64.0</td>\n",
       "      <td>0.0</td>\n",
       "    </tr>\n",
       "    <tr>\n",
       "      <th rowspan=\"3\" valign=\"top\">(128, 128)</th>\n",
       "      <th rowspan=\"3\" valign=\"top\">0.1</th>\n",
       "      <th>0.0001</th>\n",
       "      <td>0.695558</td>\n",
       "      <td>0.668163</td>\n",
       "      <td>0.667136</td>\n",
       "      <td>0.669774</td>\n",
       "      <td>0.732668</td>\n",
       "      <td>0.714034</td>\n",
       "      <td>0.716467</td>\n",
       "      <td>0.712324</td>\n",
       "      <td>5.0</td>\n",
       "      <td>3.0</td>\n",
       "      <td>...</td>\n",
       "      <td>384.0</td>\n",
       "      <td>2.0</td>\n",
       "      <td>1.0</td>\n",
       "      <td>45.333333</td>\n",
       "      <td>1.0</td>\n",
       "      <td>2.0</td>\n",
       "      <td>1.0</td>\n",
       "      <td>5.0</td>\n",
       "      <td>64.0</td>\n",
       "      <td>5.0</td>\n",
       "    </tr>\n",
       "    <tr>\n",
       "      <th>0.0003</th>\n",
       "      <td>0.686673</td>\n",
       "      <td>0.665071</td>\n",
       "      <td>0.662547</td>\n",
       "      <td>0.670939</td>\n",
       "      <td>0.726109</td>\n",
       "      <td>0.711357</td>\n",
       "      <td>0.710297</td>\n",
       "      <td>0.712636</td>\n",
       "      <td>5.0</td>\n",
       "      <td>3.0</td>\n",
       "      <td>...</td>\n",
       "      <td>384.0</td>\n",
       "      <td>2.0</td>\n",
       "      <td>1.0</td>\n",
       "      <td>45.333333</td>\n",
       "      <td>1.0</td>\n",
       "      <td>2.0</td>\n",
       "      <td>1.0</td>\n",
       "      <td>5.0</td>\n",
       "      <td>64.0</td>\n",
       "      <td>4.0</td>\n",
       "    </tr>\n",
       "    <tr>\n",
       "      <th>0.0005</th>\n",
       "      <td>0.695620</td>\n",
       "      <td>0.665048</td>\n",
       "      <td>0.665876</td>\n",
       "      <td>0.665147</td>\n",
       "      <td>0.735409</td>\n",
       "      <td>0.714670</td>\n",
       "      <td>0.720329</td>\n",
       "      <td>0.711890</td>\n",
       "      <td>5.0</td>\n",
       "      <td>3.0</td>\n",
       "      <td>...</td>\n",
       "      <td>384.0</td>\n",
       "      <td>2.0</td>\n",
       "      <td>1.0</td>\n",
       "      <td>45.333333</td>\n",
       "      <td>1.0</td>\n",
       "      <td>2.0</td>\n",
       "      <td>1.0</td>\n",
       "      <td>5.0</td>\n",
       "      <td>64.0</td>\n",
       "      <td>3.0</td>\n",
       "    </tr>\n",
       "    <tr>\n",
       "      <th rowspan=\"3\" valign=\"top\">(512, 512)</th>\n",
       "      <th rowspan=\"3\" valign=\"top\">0.1</th>\n",
       "      <th>0.0001</th>\n",
       "      <td>0.689904</td>\n",
       "      <td>0.665188</td>\n",
       "      <td>0.663281</td>\n",
       "      <td>0.668789</td>\n",
       "      <td>0.730152</td>\n",
       "      <td>0.713993</td>\n",
       "      <td>0.714103</td>\n",
       "      <td>0.714093</td>\n",
       "      <td>5.0</td>\n",
       "      <td>3.0</td>\n",
       "      <td>...</td>\n",
       "      <td>384.0</td>\n",
       "      <td>2.0</td>\n",
       "      <td>1.0</td>\n",
       "      <td>45.333333</td>\n",
       "      <td>1.0</td>\n",
       "      <td>2.0</td>\n",
       "      <td>1.0</td>\n",
       "      <td>5.0</td>\n",
       "      <td>64.0</td>\n",
       "      <td>8.0</td>\n",
       "    </tr>\n",
       "    <tr>\n",
       "      <th>0.0003</th>\n",
       "      <td>0.693507</td>\n",
       "      <td>0.665786</td>\n",
       "      <td>0.664660</td>\n",
       "      <td>0.667213</td>\n",
       "      <td>0.735634</td>\n",
       "      <td>0.717531</td>\n",
       "      <td>0.719656</td>\n",
       "      <td>0.715919</td>\n",
       "      <td>5.0</td>\n",
       "      <td>3.0</td>\n",
       "      <td>...</td>\n",
       "      <td>384.0</td>\n",
       "      <td>2.0</td>\n",
       "      <td>1.0</td>\n",
       "      <td>45.333333</td>\n",
       "      <td>1.0</td>\n",
       "      <td>2.0</td>\n",
       "      <td>1.0</td>\n",
       "      <td>5.0</td>\n",
       "      <td>64.0</td>\n",
       "      <td>7.0</td>\n",
       "    </tr>\n",
       "    <tr>\n",
       "      <th>0.0005</th>\n",
       "      <td>0.686362</td>\n",
       "      <td>0.664142</td>\n",
       "      <td>0.661773</td>\n",
       "      <td>0.669592</td>\n",
       "      <td>0.727636</td>\n",
       "      <td>0.713233</td>\n",
       "      <td>0.712168</td>\n",
       "      <td>0.714776</td>\n",
       "      <td>5.0</td>\n",
       "      <td>3.0</td>\n",
       "      <td>...</td>\n",
       "      <td>384.0</td>\n",
       "      <td>2.0</td>\n",
       "      <td>1.0</td>\n",
       "      <td>45.333333</td>\n",
       "      <td>1.0</td>\n",
       "      <td>2.0</td>\n",
       "      <td>1.0</td>\n",
       "      <td>5.0</td>\n",
       "      <td>64.0</td>\n",
       "      <td>6.0</td>\n",
       "    </tr>\n",
       "  </tbody>\n",
       "</table>\n",
       "<p>18 rows × 23 columns</p>\n",
       "</div>"
      ],
      "text/plain": [
       "                                                                      accuracy  \\\n",
       "dimensions swnu_hidden_dim ffn_hidden_dim dropout_rate learning_rate             \n",
       "15         (10,)           (32, 32)       0.1          0.0001         0.695993   \n",
       "                                                       0.0003         0.693569   \n",
       "                                                       0.0005         0.688785   \n",
       "                           (128, 128)     0.1          0.0001         0.689779   \n",
       "                                                       0.0003         0.685741   \n",
       "                                                       0.0005         0.690401   \n",
       "                           (512, 512)     0.1          0.0001         0.695806   \n",
       "                                                       0.0003         0.695868   \n",
       "                                                       0.0005         0.695868   \n",
       "           (12,)           (32, 32)       0.1          0.0001         0.695371   \n",
       "                                                       0.0003         0.689593   \n",
       "                                                       0.0005         0.690339   \n",
       "                           (128, 128)     0.1          0.0001         0.695558   \n",
       "                                                       0.0003         0.686673   \n",
       "                                                       0.0005         0.695620   \n",
       "                           (512, 512)     0.1          0.0001         0.689904   \n",
       "                                                       0.0003         0.693507   \n",
       "                                                       0.0005         0.686362   \n",
       "\n",
       "                                                                            f1  \\\n",
       "dimensions swnu_hidden_dim ffn_hidden_dim dropout_rate learning_rate             \n",
       "15         (10,)           (32, 32)       0.1          0.0001         0.665693   \n",
       "                                                       0.0003         0.664857   \n",
       "                                                       0.0005         0.664661   \n",
       "                           (128, 128)     0.1          0.0001         0.664521   \n",
       "                                                       0.0003         0.665745   \n",
       "                                                       0.0005         0.665239   \n",
       "                           (512, 512)     0.1          0.0001         0.669261   \n",
       "                                                       0.0003         0.670727   \n",
       "                                                       0.0005         0.670215   \n",
       "           (12,)           (32, 32)       0.1          0.0001         0.665128   \n",
       "                                                       0.0003         0.662335   \n",
       "                                                       0.0005         0.662134   \n",
       "                           (128, 128)     0.1          0.0001         0.668163   \n",
       "                                                       0.0003         0.665071   \n",
       "                                                       0.0005         0.665048   \n",
       "                           (512, 512)     0.1          0.0001         0.665188   \n",
       "                                                       0.0003         0.665786   \n",
       "                                                       0.0005         0.664142   \n",
       "\n",
       "                                                                      precision  \\\n",
       "dimensions swnu_hidden_dim ffn_hidden_dim dropout_rate learning_rate              \n",
       "15         (10,)           (32, 32)       0.1          0.0001          0.666005   \n",
       "                                                       0.0003          0.664295   \n",
       "                                                       0.0005          0.662588   \n",
       "                           (128, 128)     0.1          0.0001          0.662508   \n",
       "                                                       0.0003          0.663270   \n",
       "                                                       0.0005          0.663548   \n",
       "                           (512, 512)     0.1          0.0001          0.667747   \n",
       "                                                       0.0003          0.668809   \n",
       "                                                       0.0005          0.668393   \n",
       "           (12,)           (32, 32)       0.1          0.0001          0.666001   \n",
       "                                                       0.0003          0.661127   \n",
       "                                                       0.0005          0.661396   \n",
       "                           (128, 128)     0.1          0.0001          0.667136   \n",
       "                                                       0.0003          0.662547   \n",
       "                                                       0.0005          0.665876   \n",
       "                           (512, 512)     0.1          0.0001          0.663281   \n",
       "                                                       0.0003          0.664660   \n",
       "                                                       0.0005          0.661773   \n",
       "\n",
       "                                                                        recall  \\\n",
       "dimensions swnu_hidden_dim ffn_hidden_dim dropout_rate learning_rate             \n",
       "15         (10,)           (32, 32)       0.1          0.0001         0.665721   \n",
       "                                                       0.0003         0.665867   \n",
       "                                                       0.0005         0.668667   \n",
       "                           (128, 128)     0.1          0.0001         0.667586   \n",
       "                                                       0.0003         0.673011   \n",
       "                                                       0.0005         0.668474   \n",
       "                           (512, 512)     0.1          0.0001         0.671278   \n",
       "                                                       0.0003         0.673663   \n",
       "                                                       0.0005         0.672802   \n",
       "           (12,)           (32, 32)       0.1          0.0001         0.665530   \n",
       "                                                       0.0003         0.664326   \n",
       "                                                       0.0005         0.663546   \n",
       "                           (128, 128)     0.1          0.0001         0.669774   \n",
       "                                                       0.0003         0.670939   \n",
       "                                                       0.0005         0.665147   \n",
       "                           (512, 512)     0.1          0.0001         0.668789   \n",
       "                                                       0.0003         0.667213   \n",
       "                                                       0.0005         0.669592   \n",
       "\n",
       "                                                                      valid_accuracy  \\\n",
       "dimensions swnu_hidden_dim ffn_hidden_dim dropout_rate learning_rate                   \n",
       "15         (10,)           (32, 32)       0.1          0.0001               0.731006   \n",
       "                                                       0.0003               0.735095   \n",
       "                                                       0.0005               0.732983   \n",
       "                           (128, 128)     0.1          0.0001               0.728625   \n",
       "                                                       0.0003               0.727232   \n",
       "                                                       0.0005               0.732579   \n",
       "                           (512, 512)     0.1          0.0001               0.730512   \n",
       "                                                       0.0003               0.730332   \n",
       "                                                       0.0005               0.729209   \n",
       "           (12,)           (32, 32)       0.1          0.0001               0.732938   \n",
       "                                                       0.0003               0.734825   \n",
       "                                                       0.0005               0.734286   \n",
       "                           (128, 128)     0.1          0.0001               0.732668   \n",
       "                                                       0.0003               0.726109   \n",
       "                                                       0.0005               0.735409   \n",
       "                           (512, 512)     0.1          0.0001               0.730152   \n",
       "                                                       0.0003               0.735634   \n",
       "                                                       0.0005               0.727636   \n",
       "\n",
       "                                                                      valid_f1  \\\n",
       "dimensions swnu_hidden_dim ffn_hidden_dim dropout_rate learning_rate             \n",
       "15         (10,)           (32, 32)       0.1          0.0001         0.710582   \n",
       "                                                       0.0003         0.715443   \n",
       "                                                       0.0005         0.716705   \n",
       "                           (128, 128)     0.1          0.0001         0.712176   \n",
       "                                                       0.0003         0.713879   \n",
       "                                                       0.0005         0.715797   \n",
       "                           (512, 512)     0.1          0.0001         0.713012   \n",
       "                                                       0.0003         0.713928   \n",
       "                                                       0.0005         0.712029   \n",
       "           (12,)           (32, 32)       0.1          0.0001         0.712095   \n",
       "                                                       0.0003         0.716179   \n",
       "                                                       0.0005         0.714827   \n",
       "                           (128, 128)     0.1          0.0001         0.714034   \n",
       "                                                       0.0003         0.711357   \n",
       "                                                       0.0005         0.714670   \n",
       "                           (512, 512)     0.1          0.0001         0.713993   \n",
       "                                                       0.0003         0.717531   \n",
       "                                                       0.0005         0.713233   \n",
       "\n",
       "                                                                      valid_precision  \\\n",
       "dimensions swnu_hidden_dim ffn_hidden_dim dropout_rate learning_rate                    \n",
       "15         (10,)           (32, 32)       0.1          0.0001                0.714625   \n",
       "                                                       0.0003                0.719349   \n",
       "                                                       0.0005                0.717054   \n",
       "                           (128, 128)     0.1          0.0001                0.712362   \n",
       "                                                       0.0003                0.712352   \n",
       "                                                       0.0005                0.716724   \n",
       "                           (512, 512)     0.1          0.0001                0.714163   \n",
       "                                                       0.0003                0.714156   \n",
       "                                                       0.0005                0.712872   \n",
       "           (12,)           (32, 32)       0.1          0.0001                0.717320   \n",
       "                                                       0.0003                0.719007   \n",
       "                                                       0.0005                0.718445   \n",
       "                           (128, 128)     0.1          0.0001                0.716467   \n",
       "                                                       0.0003                0.710297   \n",
       "                                                       0.0005                0.720329   \n",
       "                           (512, 512)     0.1          0.0001                0.714103   \n",
       "                                                       0.0003                0.719656   \n",
       "                                                       0.0005                0.712168   \n",
       "\n",
       "                                                                      valid_recall  \\\n",
       "dimensions swnu_hidden_dim ffn_hidden_dim dropout_rate learning_rate                 \n",
       "15         (10,)           (32, 32)       0.1          0.0001             0.707925   \n",
       "                                                       0.0003             0.713017   \n",
       "                                                       0.0005             0.716583   \n",
       "                           (128, 128)     0.1          0.0001             0.712021   \n",
       "                                                       0.0003             0.716418   \n",
       "                                                       0.0005             0.715351   \n",
       "                           (512, 512)     0.1          0.0001             0.712029   \n",
       "                                                       0.0003             0.713740   \n",
       "                                                       0.0005             0.711339   \n",
       "           (12,)           (32, 32)       0.1          0.0001             0.709305   \n",
       "                                                       0.0003             0.714428   \n",
       "                                                       0.0005             0.712544   \n",
       "                           (128, 128)     0.1          0.0001             0.712324   \n",
       "                                                       0.0003             0.712636   \n",
       "                                                       0.0005             0.711890   \n",
       "                           (512, 512)     0.1          0.0001             0.714093   \n",
       "                                                       0.0003             0.715919   \n",
       "                                                       0.0005             0.714776   \n",
       "\n",
       "                                                                        k  \\\n",
       "dimensions swnu_hidden_dim ffn_hidden_dim dropout_rate learning_rate        \n",
       "15         (10,)           (32, 32)       0.1          0.0001         5.0   \n",
       "                                                       0.0003         5.0   \n",
       "                                                       0.0005         5.0   \n",
       "                           (128, 128)     0.1          0.0001         5.0   \n",
       "                                                       0.0003         5.0   \n",
       "                                                       0.0005         5.0   \n",
       "                           (512, 512)     0.1          0.0001         5.0   \n",
       "                                                       0.0003         5.0   \n",
       "                                                       0.0005         5.0   \n",
       "           (12,)           (32, 32)       0.1          0.0001         5.0   \n",
       "                                                       0.0003         5.0   \n",
       "                                                       0.0005         5.0   \n",
       "                           (128, 128)     0.1          0.0001         5.0   \n",
       "                                                       0.0003         5.0   \n",
       "                                                       0.0005         5.0   \n",
       "                           (512, 512)     0.1          0.0001         5.0   \n",
       "                                                       0.0003         5.0   \n",
       "                                                       0.0005         5.0   \n",
       "\n",
       "                                                                      sig_depth  \\\n",
       "dimensions swnu_hidden_dim ffn_hidden_dim dropout_rate learning_rate              \n",
       "15         (10,)           (32, 32)       0.1          0.0001               3.0   \n",
       "                                                       0.0003               3.0   \n",
       "                                                       0.0005               3.0   \n",
       "                           (128, 128)     0.1          0.0001               3.0   \n",
       "                                                       0.0003               3.0   \n",
       "                                                       0.0005               3.0   \n",
       "                           (512, 512)     0.1          0.0001               3.0   \n",
       "                                                       0.0003               3.0   \n",
       "                                                       0.0005               3.0   \n",
       "           (12,)           (32, 32)       0.1          0.0001               3.0   \n",
       "                                                       0.0003               3.0   \n",
       "                                                       0.0005               3.0   \n",
       "                           (128, 128)     0.1          0.0001               3.0   \n",
       "                                                       0.0003               3.0   \n",
       "                                                       0.0005               3.0   \n",
       "                           (512, 512)     0.1          0.0001               3.0   \n",
       "                                                       0.0003               3.0   \n",
       "                                                       0.0005               3.0   \n",
       "\n",
       "                                                                      ...  \\\n",
       "dimensions swnu_hidden_dim ffn_hidden_dim dropout_rate learning_rate  ...   \n",
       "15         (10,)           (32, 32)       0.1          0.0001         ...   \n",
       "                                                       0.0003         ...   \n",
       "                                                       0.0005         ...   \n",
       "                           (128, 128)     0.1          0.0001         ...   \n",
       "                                                       0.0003         ...   \n",
       "                                                       0.0005         ...   \n",
       "                           (512, 512)     0.1          0.0001         ...   \n",
       "                                                       0.0003         ...   \n",
       "                                                       0.0005         ...   \n",
       "           (12,)           (32, 32)       0.1          0.0001         ...   \n",
       "                                                       0.0003         ...   \n",
       "                                                       0.0005         ...   \n",
       "                           (128, 128)     0.1          0.0001         ...   \n",
       "                                                       0.0003         ...   \n",
       "                                                       0.0005         ...   \n",
       "                           (512, 512)     0.1          0.0001         ...   \n",
       "                                                       0.0003         ...   \n",
       "                                                       0.0005         ...   \n",
       "\n",
       "                                                                      embedding_dim  \\\n",
       "dimensions swnu_hidden_dim ffn_hidden_dim dropout_rate learning_rate                  \n",
       "15         (10,)           (32, 32)       0.1          0.0001                 384.0   \n",
       "                                                       0.0003                 384.0   \n",
       "                                                       0.0005                 384.0   \n",
       "                           (128, 128)     0.1          0.0001                 384.0   \n",
       "                                                       0.0003                 384.0   \n",
       "                                                       0.0005                 384.0   \n",
       "                           (512, 512)     0.1          0.0001                 384.0   \n",
       "                                                       0.0003                 384.0   \n",
       "                                                       0.0005                 384.0   \n",
       "           (12,)           (32, 32)       0.1          0.0001                 384.0   \n",
       "                                                       0.0003                 384.0   \n",
       "                                                       0.0005                 384.0   \n",
       "                           (128, 128)     0.1          0.0001                 384.0   \n",
       "                                                       0.0003                 384.0   \n",
       "                                                       0.0005                 384.0   \n",
       "                           (512, 512)     0.1          0.0001                 384.0   \n",
       "                                                       0.0003                 384.0   \n",
       "                                                       0.0005                 384.0   \n",
       "\n",
       "                                                                      num_features  \\\n",
       "dimensions swnu_hidden_dim ffn_hidden_dim dropout_rate learning_rate                 \n",
       "15         (10,)           (32, 32)       0.1          0.0001                  2.0   \n",
       "                                                       0.0003                  2.0   \n",
       "                                                       0.0005                  2.0   \n",
       "                           (128, 128)     0.1          0.0001                  2.0   \n",
       "                                                       0.0003                  2.0   \n",
       "                                                       0.0005                  2.0   \n",
       "                           (512, 512)     0.1          0.0001                  2.0   \n",
       "                                                       0.0003                  2.0   \n",
       "                                                       0.0005                  2.0   \n",
       "           (12,)           (32, 32)       0.1          0.0001                  2.0   \n",
       "                                                       0.0003                  2.0   \n",
       "                                                       0.0005                  2.0   \n",
       "                           (128, 128)     0.1          0.0001                  2.0   \n",
       "                                                       0.0003                  2.0   \n",
       "                                                       0.0005                  2.0   \n",
       "                           (512, 512)     0.1          0.0001                  2.0   \n",
       "                                                       0.0003                  2.0   \n",
       "                                                       0.0005                  2.0   \n",
       "\n",
       "                                                                      log_signature  \\\n",
       "dimensions swnu_hidden_dim ffn_hidden_dim dropout_rate learning_rate                  \n",
       "15         (10,)           (32, 32)       0.1          0.0001                   1.0   \n",
       "                                                       0.0003                   1.0   \n",
       "                                                       0.0005                   1.0   \n",
       "                           (128, 128)     0.1          0.0001                   1.0   \n",
       "                                                       0.0003                   1.0   \n",
       "                                                       0.0005                   1.0   \n",
       "                           (512, 512)     0.1          0.0001                   1.0   \n",
       "                                                       0.0003                   1.0   \n",
       "                                                       0.0005                   1.0   \n",
       "           (12,)           (32, 32)       0.1          0.0001                   1.0   \n",
       "                                                       0.0003                   1.0   \n",
       "                                                       0.0005                   1.0   \n",
       "                           (128, 128)     0.1          0.0001                   1.0   \n",
       "                                                       0.0003                   1.0   \n",
       "                                                       0.0005                   1.0   \n",
       "                           (512, 512)     0.1          0.0001                   1.0   \n",
       "                                                       0.0003                   1.0   \n",
       "                                                       0.0005                   1.0   \n",
       "\n",
       "                                                                           seed  \\\n",
       "dimensions swnu_hidden_dim ffn_hidden_dim dropout_rate learning_rate              \n",
       "15         (10,)           (32, 32)       0.1          0.0001         45.333333   \n",
       "                                                       0.0003         45.333333   \n",
       "                                                       0.0005         45.333333   \n",
       "                           (128, 128)     0.1          0.0001         45.333333   \n",
       "                                                       0.0003         45.333333   \n",
       "                                                       0.0005         45.333333   \n",
       "                           (512, 512)     0.1          0.0001         45.333333   \n",
       "                                                       0.0003         45.333333   \n",
       "                                                       0.0005         45.333333   \n",
       "           (12,)           (32, 32)       0.1          0.0001         45.333333   \n",
       "                                                       0.0003         45.333333   \n",
       "                                                       0.0005         45.333333   \n",
       "                           (128, 128)     0.1          0.0001         45.333333   \n",
       "                                                       0.0003         45.333333   \n",
       "                                                       0.0005         45.333333   \n",
       "                           (512, 512)     0.1          0.0001         45.333333   \n",
       "                                                       0.0003         45.333333   \n",
       "                                                       0.0005         45.333333   \n",
       "\n",
       "                                                                      BiLSTM  \\\n",
       "dimensions swnu_hidden_dim ffn_hidden_dim dropout_rate learning_rate           \n",
       "15         (10,)           (32, 32)       0.1          0.0001            1.0   \n",
       "                                                       0.0003            1.0   \n",
       "                                                       0.0005            1.0   \n",
       "                           (128, 128)     0.1          0.0001            1.0   \n",
       "                                                       0.0003            1.0   \n",
       "                                                       0.0005            1.0   \n",
       "                           (512, 512)     0.1          0.0001            1.0   \n",
       "                                                       0.0003            1.0   \n",
       "                                                       0.0005            1.0   \n",
       "           (12,)           (32, 32)       0.1          0.0001            1.0   \n",
       "                                                       0.0003            1.0   \n",
       "                                                       0.0005            1.0   \n",
       "                           (128, 128)     0.1          0.0001            1.0   \n",
       "                                                       0.0003            1.0   \n",
       "                                                       0.0005            1.0   \n",
       "                           (512, 512)     0.1          0.0001            1.0   \n",
       "                                                       0.0003            1.0   \n",
       "                                                       0.0005            1.0   \n",
       "\n",
       "                                                                      gamma  \\\n",
       "dimensions swnu_hidden_dim ffn_hidden_dim dropout_rate learning_rate          \n",
       "15         (10,)           (32, 32)       0.1          0.0001           2.0   \n",
       "                                                       0.0003           2.0   \n",
       "                                                       0.0005           2.0   \n",
       "                           (128, 128)     0.1          0.0001           2.0   \n",
       "                                                       0.0003           2.0   \n",
       "                                                       0.0005           2.0   \n",
       "                           (512, 512)     0.1          0.0001           2.0   \n",
       "                                                       0.0003           2.0   \n",
       "                                                       0.0005           2.0   \n",
       "           (12,)           (32, 32)       0.1          0.0001           2.0   \n",
       "                                                       0.0003           2.0   \n",
       "                                                       0.0005           2.0   \n",
       "                           (128, 128)     0.1          0.0001           2.0   \n",
       "                                                       0.0003           2.0   \n",
       "                                                       0.0005           2.0   \n",
       "                           (512, 512)     0.1          0.0001           2.0   \n",
       "                                                       0.0003           2.0   \n",
       "                                                       0.0005           2.0   \n",
       "\n",
       "                                                                      k_fold  \\\n",
       "dimensions swnu_hidden_dim ffn_hidden_dim dropout_rate learning_rate           \n",
       "15         (10,)           (32, 32)       0.1          0.0001            1.0   \n",
       "                                                       0.0003            1.0   \n",
       "                                                       0.0005            1.0   \n",
       "                           (128, 128)     0.1          0.0001            1.0   \n",
       "                                                       0.0003            1.0   \n",
       "                                                       0.0005            1.0   \n",
       "                           (512, 512)     0.1          0.0001            1.0   \n",
       "                                                       0.0003            1.0   \n",
       "                                                       0.0005            1.0   \n",
       "           (12,)           (32, 32)       0.1          0.0001            1.0   \n",
       "                                                       0.0003            1.0   \n",
       "                                                       0.0005            1.0   \n",
       "                           (128, 128)     0.1          0.0001            1.0   \n",
       "                                                       0.0003            1.0   \n",
       "                                                       0.0005            1.0   \n",
       "                           (512, 512)     0.1          0.0001            1.0   \n",
       "                                                       0.0003            1.0   \n",
       "                                                       0.0005            1.0   \n",
       "\n",
       "                                                                      n_splits  \\\n",
       "dimensions swnu_hidden_dim ffn_hidden_dim dropout_rate learning_rate             \n",
       "15         (10,)           (32, 32)       0.1          0.0001              5.0   \n",
       "                                                       0.0003              5.0   \n",
       "                                                       0.0005              5.0   \n",
       "                           (128, 128)     0.1          0.0001              5.0   \n",
       "                                                       0.0003              5.0   \n",
       "                                                       0.0005              5.0   \n",
       "                           (512, 512)     0.1          0.0001              5.0   \n",
       "                                                       0.0003              5.0   \n",
       "                                                       0.0005              5.0   \n",
       "           (12,)           (32, 32)       0.1          0.0001              5.0   \n",
       "                                                       0.0003              5.0   \n",
       "                                                       0.0005              5.0   \n",
       "                           (128, 128)     0.1          0.0001              5.0   \n",
       "                                                       0.0003              5.0   \n",
       "                                                       0.0005              5.0   \n",
       "                           (512, 512)     0.1          0.0001              5.0   \n",
       "                                                       0.0003              5.0   \n",
       "                                                       0.0005              5.0   \n",
       "\n",
       "                                                                      batch_size  \\\n",
       "dimensions swnu_hidden_dim ffn_hidden_dim dropout_rate learning_rate               \n",
       "15         (10,)           (32, 32)       0.1          0.0001               64.0   \n",
       "                                                       0.0003               64.0   \n",
       "                                                       0.0005               64.0   \n",
       "                           (128, 128)     0.1          0.0001               64.0   \n",
       "                                                       0.0003               64.0   \n",
       "                                                       0.0005               64.0   \n",
       "                           (512, 512)     0.1          0.0001               64.0   \n",
       "                                                       0.0003               64.0   \n",
       "                                                       0.0005               64.0   \n",
       "           (12,)           (32, 32)       0.1          0.0001               64.0   \n",
       "                                                       0.0003               64.0   \n",
       "                                                       0.0005               64.0   \n",
       "                           (128, 128)     0.1          0.0001               64.0   \n",
       "                                                       0.0003               64.0   \n",
       "                                                       0.0005               64.0   \n",
       "                           (512, 512)     0.1          0.0001               64.0   \n",
       "                                                       0.0003               64.0   \n",
       "                                                       0.0005               64.0   \n",
       "\n",
       "                                                                      model_id  \n",
       "dimensions swnu_hidden_dim ffn_hidden_dim dropout_rate learning_rate            \n",
       "15         (10,)           (32, 32)       0.1          0.0001             11.0  \n",
       "                                                       0.0003             10.0  \n",
       "                                                       0.0005              9.0  \n",
       "                           (128, 128)     0.1          0.0001             14.0  \n",
       "                                                       0.0003             13.0  \n",
       "                                                       0.0005             12.0  \n",
       "                           (512, 512)     0.1          0.0001             17.0  \n",
       "                                                       0.0003             16.0  \n",
       "                                                       0.0005             15.0  \n",
       "           (12,)           (32, 32)       0.1          0.0001              2.0  \n",
       "                                                       0.0003              1.0  \n",
       "                                                       0.0005              0.0  \n",
       "                           (128, 128)     0.1          0.0001              5.0  \n",
       "                                                       0.0003              4.0  \n",
       "                                                       0.0005              3.0  \n",
       "                           (512, 512)     0.1          0.0001              8.0  \n",
       "                                                       0.0003              7.0  \n",
       "                                                       0.0005              6.0  \n",
       "\n",
       "[18 rows x 23 columns]"
      ]
     },
     "execution_count": 12,
     "metadata": {},
     "output_type": "execute_result"
    }
   ],
   "source": [
    "swnu_network_umap_kfold_5.groupby(\n",
    "    [\"dimensions\", \"swnu_hidden_dim\", \"ffn_hidden_dim\", \"dropout_rate\", \"learning_rate\"]\n",
    ").mean()"
   ]
  },
  {
   "cell_type": "code",
   "execution_count": 13,
   "metadata": {},
   "outputs": [
    {
     "data": {
      "text/html": [
       "<div>\n",
       "<style scoped>\n",
       "    .dataframe tbody tr th:only-of-type {\n",
       "        vertical-align: middle;\n",
       "    }\n",
       "\n",
       "    .dataframe tbody tr th {\n",
       "        vertical-align: top;\n",
       "    }\n",
       "\n",
       "    .dataframe thead th {\n",
       "        text-align: right;\n",
       "    }\n",
       "</style>\n",
       "<table border=\"1\" class=\"dataframe\">\n",
       "  <thead>\n",
       "    <tr style=\"text-align: right;\">\n",
       "      <th></th>\n",
       "      <th>loss</th>\n",
       "      <th>accuracy</th>\n",
       "      <th>f1</th>\n",
       "      <th>f1_scores</th>\n",
       "      <th>precision</th>\n",
       "      <th>precision_scores</th>\n",
       "      <th>recall</th>\n",
       "      <th>recall_scores</th>\n",
       "      <th>valid_loss</th>\n",
       "      <th>valid_accuracy</th>\n",
       "      <th>...</th>\n",
       "      <th>seed</th>\n",
       "      <th>BiLSTM</th>\n",
       "      <th>loss_function</th>\n",
       "      <th>gamma</th>\n",
       "      <th>k_fold</th>\n",
       "      <th>n_splits</th>\n",
       "      <th>augmentation_type</th>\n",
       "      <th>hidden_dim_aug</th>\n",
       "      <th>comb_method</th>\n",
       "      <th>batch_size</th>\n",
       "    </tr>\n",
       "  </thead>\n",
       "  <tbody>\n",
       "    <tr>\n",
       "      <th>0</th>\n",
       "      <td>None</td>\n",
       "      <td>0.694129</td>\n",
       "      <td>0.667738</td>\n",
       "      <td>[0.7613785080703795, 0.5740981053724371]</td>\n",
       "      <td>0.666108</td>\n",
       "      <td>[0.7724992623192682, 0.5597165991902834]</td>\n",
       "      <td>0.669906</td>\n",
       "      <td>[0.7505733944954128, 0.5892381459776239]</td>\n",
       "      <td>None</td>\n",
       "      <td>0.730961</td>\n",
       "      <td>...</td>\n",
       "      <td>1</td>\n",
       "      <td>True</td>\n",
       "      <td>focal</td>\n",
       "      <td>2</td>\n",
       "      <td>True</td>\n",
       "      <td>5</td>\n",
       "      <td>Conv1d</td>\n",
       "      <td>None</td>\n",
       "      <td>concatenation</td>\n",
       "      <td>64</td>\n",
       "    </tr>\n",
       "    <tr>\n",
       "      <th>0</th>\n",
       "      <td>None</td>\n",
       "      <td>0.694129</td>\n",
       "      <td>0.664676</td>\n",
       "      <td>[0.7640546369518333, 0.5652980132450331]</td>\n",
       "      <td>0.664270</td>\n",
       "      <td>[0.7663686184020767, 0.5621707060063225]</td>\n",
       "      <td>0.665107</td>\n",
       "      <td>[0.7617545871559633, 0.5684603090037293]</td>\n",
       "      <td>None</td>\n",
       "      <td>0.737431</td>\n",
       "      <td>...</td>\n",
       "      <td>12</td>\n",
       "      <td>True</td>\n",
       "      <td>focal</td>\n",
       "      <td>2</td>\n",
       "      <td>True</td>\n",
       "      <td>5</td>\n",
       "      <td>Conv1d</td>\n",
       "      <td>None</td>\n",
       "      <td>concatenation</td>\n",
       "      <td>64</td>\n",
       "    </tr>\n",
       "    <tr>\n",
       "      <th>0</th>\n",
       "      <td>None</td>\n",
       "      <td>0.692265</td>\n",
       "      <td>0.664944</td>\n",
       "      <td>[0.7606205596636219, 0.5692668927732847]</td>\n",
       "      <td>0.663602</td>\n",
       "      <td>[0.7694338515693752, 0.5577709611451943]</td>\n",
       "      <td>0.666627</td>\n",
       "      <td>[0.752006880733945, 0.5812466702184337]</td>\n",
       "      <td>None</td>\n",
       "      <td>0.738509</td>\n",
       "      <td>...</td>\n",
       "      <td>123</td>\n",
       "      <td>True</td>\n",
       "      <td>focal</td>\n",
       "      <td>2</td>\n",
       "      <td>True</td>\n",
       "      <td>5</td>\n",
       "      <td>Conv1d</td>\n",
       "      <td>None</td>\n",
       "      <td>concatenation</td>\n",
       "      <td>64</td>\n",
       "    </tr>\n",
       "  </tbody>\n",
       "</table>\n",
       "<p>3 rows × 44 columns</p>\n",
       "</div>"
      ],
      "text/plain": [
       "   loss  accuracy        f1                                 f1_scores  \\\n",
       "0  None  0.694129  0.667738  [0.7613785080703795, 0.5740981053724371]   \n",
       "0  None  0.694129  0.664676  [0.7640546369518333, 0.5652980132450331]   \n",
       "0  None  0.692265  0.664944  [0.7606205596636219, 0.5692668927732847]   \n",
       "\n",
       "   precision                          precision_scores    recall  \\\n",
       "0   0.666108  [0.7724992623192682, 0.5597165991902834]  0.669906   \n",
       "0   0.664270  [0.7663686184020767, 0.5621707060063225]  0.665107   \n",
       "0   0.663602  [0.7694338515693752, 0.5577709611451943]  0.666627   \n",
       "\n",
       "                              recall_scores valid_loss  valid_accuracy  ...  \\\n",
       "0  [0.7505733944954128, 0.5892381459776239]       None        0.730961  ...   \n",
       "0  [0.7617545871559633, 0.5684603090037293]       None        0.737431  ...   \n",
       "0   [0.752006880733945, 0.5812466702184337]       None        0.738509  ...   \n",
       "\n",
       "   seed BiLSTM  loss_function gamma  k_fold n_splits  augmentation_type  \\\n",
       "0     1   True          focal     2    True        5             Conv1d   \n",
       "0    12   True          focal     2    True        5             Conv1d   \n",
       "0   123   True          focal     2    True        5             Conv1d   \n",
       "\n",
       "   hidden_dim_aug    comb_method batch_size  \n",
       "0            None  concatenation         64  \n",
       "0            None  concatenation         64  \n",
       "0            None  concatenation         64  \n",
       "\n",
       "[3 rows x 44 columns]"
      ]
     },
     "execution_count": 13,
     "metadata": {},
     "output_type": "execute_result"
    }
   ],
   "source": [
    "best_swnu_network_umap_kfold_5"
   ]
  },
  {
   "cell_type": "code",
   "execution_count": 14,
   "metadata": {},
   "outputs": [
    {
     "data": {
      "text/plain": [
       "0.6657861193460982"
      ]
     },
     "execution_count": 14,
     "metadata": {},
     "output_type": "execute_result"
    }
   ],
   "source": [
    "best_swnu_network_umap_kfold_5[\"f1\"].mean()"
   ]
  },
  {
   "cell_type": "code",
   "execution_count": 15,
   "metadata": {},
   "outputs": [
    {
     "data": {
      "text/plain": [
       "0.6646599997720867"
      ]
     },
     "execution_count": 15,
     "metadata": {},
     "output_type": "execute_result"
    }
   ],
   "source": [
    "best_swnu_network_umap_kfold_5[\"precision\"].mean()"
   ]
  },
  {
   "cell_type": "code",
   "execution_count": 16,
   "metadata": {},
   "outputs": [
    {
     "data": {
      "text/plain": [
       "0.6672133312641847"
      ]
     },
     "execution_count": 16,
     "metadata": {},
     "output_type": "execute_result"
    }
   ],
   "source": [
    "best_swnu_network_umap_kfold_5[\"recall\"].mean()"
   ]
  },
  {
   "cell_type": "code",
   "execution_count": 17,
   "metadata": {},
   "outputs": [
    {
     "data": {
      "text/plain": [
       "array([0.7620179 , 0.56955434])"
      ]
     },
     "execution_count": 17,
     "metadata": {},
     "output_type": "execute_result"
    }
   ],
   "source": [
    "np.stack(best_swnu_network_umap_kfold_5[\"f1_scores\"]).mean(axis=0)"
   ]
  },
  {
   "cell_type": "code",
   "execution_count": 18,
   "metadata": {},
   "outputs": [
    {
     "data": {
      "text/plain": [
       "array([0.76943391, 0.55988609])"
      ]
     },
     "execution_count": 18,
     "metadata": {},
     "output_type": "execute_result"
    }
   ],
   "source": [
    "np.stack(best_swnu_network_umap_kfold_5[\"precision_scores\"]).mean(axis=0)"
   ]
  },
  {
   "cell_type": "code",
   "execution_count": 19,
   "metadata": {},
   "outputs": [
    {
     "data": {
      "text/plain": [
       "array([0.75477829, 0.57964838])"
      ]
     },
     "execution_count": 19,
     "metadata": {},
     "output_type": "execute_result"
    }
   ],
   "source": [
    "np.stack(best_swnu_network_umap_kfold_5[\"recall_scores\"]).mean(axis=0)"
   ]
  },
  {
   "cell_type": "markdown",
   "metadata": {
    "tags": []
   },
   "source": [
    "# w=11"
   ]
  },
  {
   "cell_type": "code",
   "execution_count": 20,
   "metadata": {},
   "outputs": [],
   "source": [
    "size = 11"
   ]
  },
  {
   "cell_type": "markdown",
   "metadata": {},
   "source": [
    "## umap"
   ]
  },
  {
   "cell_type": "code",
   "execution_count": 21,
   "metadata": {},
   "outputs": [
    {
     "data": {
      "application/vnd.jupyter.widget-view+json": {
       "model_id": "ff787cef3eec4cfeb5f3ebe9ef5ab40a",
       "version_major": 2,
       "version_minor": 0
      },
      "text/plain": [
       "  0%|          | 0/1 [00:00<?, ?it/s]"
      ]
     },
     "metadata": {},
     "output_type": "display_data"
    },
    {
     "data": {
      "application/vnd.jupyter.widget-view+json": {
       "model_id": "7b1755e194934a039e687434a30dfb98",
       "version_major": 2,
       "version_minor": 0
      },
      "text/plain": [
       "  0%|          | 0/1 [00:00<?, ?it/s]"
      ]
     },
     "metadata": {},
     "output_type": "display_data"
    },
    {
     "data": {
      "application/vnd.jupyter.widget-view+json": {
       "model_id": "67f2ca5952c0408c90ebe7a1be0485d7",
       "version_major": 2,
       "version_minor": 0
      },
      "text/plain": [
       "  0%|          | 0/1 [00:00<?, ?it/s]"
      ]
     },
     "metadata": {},
     "output_type": "display_data"
    },
    {
     "name": "stdout",
     "output_type": "stream",
     "text": [
      "\n",
      "##################################################\n",
      "dimension: 15 | method: umap\n",
      "[INFO] Concatenating the embeddings to the dataframe...\n",
      "[INFO] - columns beginning with 'e' denote the full embddings.\n",
      "[INFO] - columns beginning with 'd' denote the dimension reduced embeddings.\n",
      "[INFO] Adding time feature columns into dataframe in `.df`.\n",
      "[INFO] Adding 'time_encoding' feature...\n",
      "[INFO] Adding 'time_diff' feature...\n",
      "[INFO] Adding 'timeline_index' feature...\n",
      "[INFO] Padding ids and storing in `.df_padded` and `.array_padded` attributes.\n"
     ]
    },
    {
     "data": {
      "application/vnd.jupyter.widget-view+json": {
       "model_id": "c3e460c774634381bd7d59a2caa7446e",
       "version_major": 2,
       "version_minor": 0
      },
      "text/plain": [
       "  0%|          | 0/5568 [00:00<?, ?it/s]"
      ]
     },
     "metadata": {},
     "output_type": "display_data"
    },
    {
     "name": "stdout",
     "output_type": "stream",
     "text": [
      "[INFO] The path was created for each item in the dataframe, by looking at its history, so to include embeddings in the FFN input, we concatenate the embeddings for each sentence / text.\n"
     ]
    },
    {
     "data": {
      "application/vnd.jupyter.widget-view+json": {
       "model_id": "085ad8bd1f17477da73015f8376207f1",
       "version_major": 2,
       "version_minor": 0
      },
      "text/plain": [
       "  0%|          | 0/2 [00:00<?, ?it/s]"
      ]
     },
     "metadata": {},
     "output_type": "display_data"
    },
    {
     "data": {
      "application/vnd.jupyter.widget-view+json": {
       "model_id": "8f5b20c2939c42a29072a4ba7302c666",
       "version_major": 2,
       "version_minor": 0
      },
      "text/plain": [
       "  0%|          | 0/3 [00:00<?, ?it/s]"
      ]
     },
     "metadata": {},
     "output_type": "display_data"
    },
    {
     "data": {
      "application/vnd.jupyter.widget-view+json": {
       "model_id": "a0b995f9b95f4ef382db58698e7f2f57",
       "version_major": 2,
       "version_minor": 0
      },
      "text/plain": [
       "  0%|          | 0/1 [00:00<?, ?it/s]"
      ]
     },
     "metadata": {},
     "output_type": "display_data"
    },
    {
     "data": {
      "application/vnd.jupyter.widget-view+json": {
       "model_id": "c23e6a80f770426f975c528da6ec48e8",
       "version_major": 2,
       "version_minor": 0
      },
      "text/plain": [
       "  0%|          | 0/1 [00:00<?, ?it/s]"
      ]
     },
     "metadata": {},
     "output_type": "display_data"
    },
    {
     "data": {
      "application/vnd.jupyter.widget-view+json": {
       "model_id": "3358fdf5c34a4845b91af3cd4b224228",
       "version_major": 2,
       "version_minor": 0
      },
      "text/plain": [
       "  0%|          | 0/3 [00:00<?, ?it/s]"
      ]
     },
     "metadata": {},
     "output_type": "display_data"
    },
    {
     "data": {
      "application/vnd.jupyter.widget-view+json": {
       "model_id": "24629d7e5760437eae5363f6fc16e0bb",
       "version_major": 2,
       "version_minor": 0
      },
      "text/plain": [
       "  0%|          | 0/1 [00:00<?, ?it/s]"
      ]
     },
     "metadata": {},
     "output_type": "display_data"
    },
    {
     "data": {
      "application/vnd.jupyter.widget-view+json": {
       "model_id": "244f808c1ad0427f9d7cf103ba196e8c",
       "version_major": 2,
       "version_minor": 0
      },
      "text/plain": [
       "  0%|          | 0/1 [00:00<?, ?it/s]"
      ]
     },
     "metadata": {},
     "output_type": "display_data"
    },
    {
     "data": {
      "application/vnd.jupyter.widget-view+json": {
       "model_id": "c8d6cd5528574871a200d43c9c2ece40",
       "version_major": 2,
       "version_minor": 0
      },
      "text/plain": [
       "  0%|          | 0/3 [00:00<?, ?it/s]"
      ]
     },
     "metadata": {},
     "output_type": "display_data"
    },
    {
     "data": {
      "application/vnd.jupyter.widget-view+json": {
       "model_id": "f22437342ad84e40aed440409e4d4c9c",
       "version_major": 2,
       "version_minor": 0
      },
      "text/plain": [
       "  0%|          | 0/1 [00:00<?, ?it/s]"
      ]
     },
     "metadata": {},
     "output_type": "display_data"
    },
    {
     "data": {
      "application/vnd.jupyter.widget-view+json": {
       "model_id": "71b7b7f487fa40cd900cb42f1ad317db",
       "version_major": 2,
       "version_minor": 0
      },
      "text/plain": [
       "  0%|          | 0/1 [00:00<?, ?it/s]"
      ]
     },
     "metadata": {},
     "output_type": "display_data"
    },
    {
     "data": {
      "application/vnd.jupyter.widget-view+json": {
       "model_id": "8a46add7b0dd45398df49f4f9ef3b8a2",
       "version_major": 2,
       "version_minor": 0
      },
      "text/plain": [
       "  0%|          | 0/3 [00:00<?, ?it/s]"
      ]
     },
     "metadata": {},
     "output_type": "display_data"
    },
    {
     "data": {
      "application/vnd.jupyter.widget-view+json": {
       "model_id": "3ac4e6f7e6f34d018c38795e98730b2f",
       "version_major": 2,
       "version_minor": 0
      },
      "text/plain": [
       "  0%|          | 0/3 [00:00<?, ?it/s]"
      ]
     },
     "metadata": {},
     "output_type": "display_data"
    },
    {
     "data": {
      "application/vnd.jupyter.widget-view+json": {
       "model_id": "2d816cde858943cd873b5a734281a62c",
       "version_major": 2,
       "version_minor": 0
      },
      "text/plain": [
       "  0%|          | 0/1 [00:00<?, ?it/s]"
      ]
     },
     "metadata": {},
     "output_type": "display_data"
    },
    {
     "data": {
      "application/vnd.jupyter.widget-view+json": {
       "model_id": "ea56319970aa48cfb2bd50054fb67c0e",
       "version_major": 2,
       "version_minor": 0
      },
      "text/plain": [
       "  0%|          | 0/1 [00:00<?, ?it/s]"
      ]
     },
     "metadata": {},
     "output_type": "display_data"
    },
    {
     "data": {
      "application/vnd.jupyter.widget-view+json": {
       "model_id": "224c7cd42b064d78b7af3ff989a1a47e",
       "version_major": 2,
       "version_minor": 0
      },
      "text/plain": [
       "  0%|          | 0/3 [00:00<?, ?it/s]"
      ]
     },
     "metadata": {},
     "output_type": "display_data"
    },
    {
     "data": {
      "application/vnd.jupyter.widget-view+json": {
       "model_id": "293777a46ea649509e90c3c49daa518f",
       "version_major": 2,
       "version_minor": 0
      },
      "text/plain": [
       "  0%|          | 0/1 [00:00<?, ?it/s]"
      ]
     },
     "metadata": {},
     "output_type": "display_data"
    },
    {
     "data": {
      "application/vnd.jupyter.widget-view+json": {
       "model_id": "b90361d5c1d44363a8814ab97b9f1b47",
       "version_major": 2,
       "version_minor": 0
      },
      "text/plain": [
       "  0%|          | 0/1 [00:00<?, ?it/s]"
      ]
     },
     "metadata": {},
     "output_type": "display_data"
    },
    {
     "data": {
      "application/vnd.jupyter.widget-view+json": {
       "model_id": "03cc176a813d4bf6805bfd63d5d8359d",
       "version_major": 2,
       "version_minor": 0
      },
      "text/plain": [
       "  0%|          | 0/3 [00:00<?, ?it/s]"
      ]
     },
     "metadata": {},
     "output_type": "display_data"
    },
    {
     "data": {
      "application/vnd.jupyter.widget-view+json": {
       "model_id": "ddf61d2bae0f40b8859e81edc4bc8093",
       "version_major": 2,
       "version_minor": 0
      },
      "text/plain": [
       "  0%|          | 0/1 [00:00<?, ?it/s]"
      ]
     },
     "metadata": {},
     "output_type": "display_data"
    },
    {
     "data": {
      "application/vnd.jupyter.widget-view+json": {
       "model_id": "154e06f572cb4722a88022e4b8e972e2",
       "version_major": 2,
       "version_minor": 0
      },
      "text/plain": [
       "  0%|          | 0/1 [00:00<?, ?it/s]"
      ]
     },
     "metadata": {},
     "output_type": "display_data"
    },
    {
     "data": {
      "application/vnd.jupyter.widget-view+json": {
       "model_id": "c22fcd8bfed7450394376a42a6f382ab",
       "version_major": 2,
       "version_minor": 0
      },
      "text/plain": [
       "  0%|          | 0/3 [00:00<?, ?it/s]"
      ]
     },
     "metadata": {},
     "output_type": "display_data"
    },
    {
     "name": "stdout",
     "output_type": "stream",
     "text": [
      "[INFO] Concatenating the embeddings to the dataframe...\n",
      "[INFO] - columns beginning with 'e' denote the full embddings.\n",
      "[INFO] - columns beginning with 'd' denote the dimension reduced embeddings.\n",
      "[INFO] Adding time feature columns into dataframe in `.df`.\n",
      "[INFO] Adding 'time_encoding' feature...\n",
      "[INFO] Adding 'time_diff' feature...\n",
      "[INFO] Adding 'timeline_index' feature...\n",
      "[INFO] Padding ids and storing in `.df_padded` and `.array_padded` attributes.\n"
     ]
    },
    {
     "data": {
      "application/vnd.jupyter.widget-view+json": {
       "model_id": "b40faea78c70412bae4306c30b1b466e",
       "version_major": 2,
       "version_minor": 0
      },
      "text/plain": [
       "  0%|          | 0/5568 [00:00<?, ?it/s]"
      ]
     },
     "metadata": {},
     "output_type": "display_data"
    },
    {
     "name": "stdout",
     "output_type": "stream",
     "text": [
      "[INFO] The path was created for each item in the dataframe, by looking at its history, so to include embeddings in the FFN input, we concatenate the embeddings for each sentence / text.\n",
      "saving results dataframe to CSV for this hyperparameter search in rumours_output/swnu_network_umap_focal_2_11_kfold.csv\n",
      "saving the best model results dataframe to CSV for this hyperparameter search in rumours_output/swnu_network_umap_focal_2_11_kfold_best_model.csv\n"
     ]
    }
   ],
   "source": [
    "(\n",
    "    swnu_network_umap_kfold_11,\n",
    "    best_swnu_network_umap_kfold_11,\n",
    "    _,\n",
    "    __,\n",
    ") = swnu_network_hyperparameter_search(\n",
    "    history_lengths=[size],\n",
    "    dim_reduce_methods=[\"umap\"],\n",
    "    results_output=f\"{output_dir}/swnu_network_umap_focal_{gamma}_{size}_kfold.csv\",\n",
    "    **kwargs,\n",
    ")"
   ]
  },
  {
   "cell_type": "code",
   "execution_count": 22,
   "metadata": {},
   "outputs": [
    {
     "name": "stderr",
     "output_type": "stream",
     "text": [
      "/tmp/ipykernel_2296062/2463364505.py:1: FutureWarning: The default value of numeric_only in DataFrameGroupBy.mean is deprecated. In a future version, numeric_only will default to False. Either specify numeric_only or select only columns which should be valid for the function.\n",
      "  swnu_network_umap_kfold_11.groupby(\n"
     ]
    },
    {
     "data": {
      "text/html": [
       "<div>\n",
       "<style scoped>\n",
       "    .dataframe tbody tr th:only-of-type {\n",
       "        vertical-align: middle;\n",
       "    }\n",
       "\n",
       "    .dataframe tbody tr th {\n",
       "        vertical-align: top;\n",
       "    }\n",
       "\n",
       "    .dataframe thead th {\n",
       "        text-align: right;\n",
       "    }\n",
       "</style>\n",
       "<table border=\"1\" class=\"dataframe\">\n",
       "  <thead>\n",
       "    <tr style=\"text-align: right;\">\n",
       "      <th></th>\n",
       "      <th></th>\n",
       "      <th></th>\n",
       "      <th></th>\n",
       "      <th></th>\n",
       "      <th>accuracy</th>\n",
       "      <th>f1</th>\n",
       "      <th>precision</th>\n",
       "      <th>recall</th>\n",
       "      <th>valid_accuracy</th>\n",
       "      <th>valid_f1</th>\n",
       "      <th>valid_precision</th>\n",
       "      <th>valid_recall</th>\n",
       "      <th>k</th>\n",
       "      <th>sig_depth</th>\n",
       "      <th>...</th>\n",
       "      <th>embedding_dim</th>\n",
       "      <th>num_features</th>\n",
       "      <th>log_signature</th>\n",
       "      <th>seed</th>\n",
       "      <th>BiLSTM</th>\n",
       "      <th>gamma</th>\n",
       "      <th>k_fold</th>\n",
       "      <th>n_splits</th>\n",
       "      <th>batch_size</th>\n",
       "      <th>model_id</th>\n",
       "    </tr>\n",
       "    <tr>\n",
       "      <th>dimensions</th>\n",
       "      <th>swnu_hidden_dim</th>\n",
       "      <th>ffn_hidden_dim</th>\n",
       "      <th>dropout_rate</th>\n",
       "      <th>learning_rate</th>\n",
       "      <th></th>\n",
       "      <th></th>\n",
       "      <th></th>\n",
       "      <th></th>\n",
       "      <th></th>\n",
       "      <th></th>\n",
       "      <th></th>\n",
       "      <th></th>\n",
       "      <th></th>\n",
       "      <th></th>\n",
       "      <th></th>\n",
       "      <th></th>\n",
       "      <th></th>\n",
       "      <th></th>\n",
       "      <th></th>\n",
       "      <th></th>\n",
       "      <th></th>\n",
       "      <th></th>\n",
       "      <th></th>\n",
       "      <th></th>\n",
       "      <th></th>\n",
       "    </tr>\n",
       "  </thead>\n",
       "  <tbody>\n",
       "    <tr>\n",
       "      <th rowspan=\"18\" valign=\"top\">15</th>\n",
       "      <th rowspan=\"9\" valign=\"top\">(10,)</th>\n",
       "      <th rowspan=\"3\" valign=\"top\">(32, 32)</th>\n",
       "      <th rowspan=\"3\" valign=\"top\">0.1</th>\n",
       "      <th>0.0001</th>\n",
       "      <td>0.694626</td>\n",
       "      <td>0.671392</td>\n",
       "      <td>0.669043</td>\n",
       "      <td>0.675743</td>\n",
       "      <td>0.732758</td>\n",
       "      <td>0.716955</td>\n",
       "      <td>0.717220</td>\n",
       "      <td>0.717126</td>\n",
       "      <td>11.0</td>\n",
       "      <td>3.0</td>\n",
       "      <td>...</td>\n",
       "      <td>384.0</td>\n",
       "      <td>2.0</td>\n",
       "      <td>1.0</td>\n",
       "      <td>45.333333</td>\n",
       "      <td>1.0</td>\n",
       "      <td>2.0</td>\n",
       "      <td>1.0</td>\n",
       "      <td>5.0</td>\n",
       "      <td>64.0</td>\n",
       "      <td>11.0</td>\n",
       "    </tr>\n",
       "    <tr>\n",
       "      <th>0.0003</th>\n",
       "      <td>0.690836</td>\n",
       "      <td>0.670285</td>\n",
       "      <td>0.667651</td>\n",
       "      <td>0.676970</td>\n",
       "      <td>0.741430</td>\n",
       "      <td>0.727156</td>\n",
       "      <td>0.726415</td>\n",
       "      <td>0.728365</td>\n",
       "      <td>11.0</td>\n",
       "      <td>3.0</td>\n",
       "      <td>...</td>\n",
       "      <td>384.0</td>\n",
       "      <td>2.0</td>\n",
       "      <td>1.0</td>\n",
       "      <td>45.333333</td>\n",
       "      <td>1.0</td>\n",
       "      <td>2.0</td>\n",
       "      <td>1.0</td>\n",
       "      <td>5.0</td>\n",
       "      <td>64.0</td>\n",
       "      <td>10.0</td>\n",
       "    </tr>\n",
       "    <tr>\n",
       "      <th>0.0005</th>\n",
       "      <td>0.690090</td>\n",
       "      <td>0.667941</td>\n",
       "      <td>0.665372</td>\n",
       "      <td>0.673239</td>\n",
       "      <td>0.744081</td>\n",
       "      <td>0.729957</td>\n",
       "      <td>0.729107</td>\n",
       "      <td>0.731004</td>\n",
       "      <td>11.0</td>\n",
       "      <td>3.0</td>\n",
       "      <td>...</td>\n",
       "      <td>384.0</td>\n",
       "      <td>2.0</td>\n",
       "      <td>1.0</td>\n",
       "      <td>45.333333</td>\n",
       "      <td>1.0</td>\n",
       "      <td>2.0</td>\n",
       "      <td>1.0</td>\n",
       "      <td>5.0</td>\n",
       "      <td>64.0</td>\n",
       "      <td>9.0</td>\n",
       "    </tr>\n",
       "    <tr>\n",
       "      <th rowspan=\"3\" valign=\"top\">(128, 128)</th>\n",
       "      <th rowspan=\"3\" valign=\"top\">0.1</th>\n",
       "      <th>0.0001</th>\n",
       "      <td>0.695247</td>\n",
       "      <td>0.672524</td>\n",
       "      <td>0.670132</td>\n",
       "      <td>0.677287</td>\n",
       "      <td>0.737027</td>\n",
       "      <td>0.722093</td>\n",
       "      <td>0.721609</td>\n",
       "      <td>0.722861</td>\n",
       "      <td>11.0</td>\n",
       "      <td>3.0</td>\n",
       "      <td>...</td>\n",
       "      <td>384.0</td>\n",
       "      <td>2.0</td>\n",
       "      <td>1.0</td>\n",
       "      <td>45.333333</td>\n",
       "      <td>1.0</td>\n",
       "      <td>2.0</td>\n",
       "      <td>1.0</td>\n",
       "      <td>5.0</td>\n",
       "      <td>64.0</td>\n",
       "      <td>14.0</td>\n",
       "    </tr>\n",
       "    <tr>\n",
       "      <th>0.0003</th>\n",
       "      <td>0.692016</td>\n",
       "      <td>0.671189</td>\n",
       "      <td>0.668682</td>\n",
       "      <td>0.677632</td>\n",
       "      <td>0.736802</td>\n",
       "      <td>0.723299</td>\n",
       "      <td>0.722313</td>\n",
       "      <td>0.725508</td>\n",
       "      <td>11.0</td>\n",
       "      <td>3.0</td>\n",
       "      <td>...</td>\n",
       "      <td>384.0</td>\n",
       "      <td>2.0</td>\n",
       "      <td>1.0</td>\n",
       "      <td>45.333333</td>\n",
       "      <td>1.0</td>\n",
       "      <td>2.0</td>\n",
       "      <td>1.0</td>\n",
       "      <td>5.0</td>\n",
       "      <td>64.0</td>\n",
       "      <td>13.0</td>\n",
       "    </tr>\n",
       "    <tr>\n",
       "      <th>0.0005</th>\n",
       "      <td>0.691208</td>\n",
       "      <td>0.669131</td>\n",
       "      <td>0.667737</td>\n",
       "      <td>0.675083</td>\n",
       "      <td>0.733163</td>\n",
       "      <td>0.718939</td>\n",
       "      <td>0.719446</td>\n",
       "      <td>0.721504</td>\n",
       "      <td>11.0</td>\n",
       "      <td>3.0</td>\n",
       "      <td>...</td>\n",
       "      <td>384.0</td>\n",
       "      <td>2.0</td>\n",
       "      <td>1.0</td>\n",
       "      <td>45.333333</td>\n",
       "      <td>1.0</td>\n",
       "      <td>2.0</td>\n",
       "      <td>1.0</td>\n",
       "      <td>5.0</td>\n",
       "      <td>64.0</td>\n",
       "      <td>12.0</td>\n",
       "    </tr>\n",
       "    <tr>\n",
       "      <th rowspan=\"3\" valign=\"top\">(512, 512)</th>\n",
       "      <th rowspan=\"3\" valign=\"top\">0.1</th>\n",
       "      <th>0.0001</th>\n",
       "      <td>0.693942</td>\n",
       "      <td>0.673833</td>\n",
       "      <td>0.671177</td>\n",
       "      <td>0.680794</td>\n",
       "      <td>0.728759</td>\n",
       "      <td>0.715452</td>\n",
       "      <td>0.713857</td>\n",
       "      <td>0.717946</td>\n",
       "      <td>11.0</td>\n",
       "      <td>3.0</td>\n",
       "      <td>...</td>\n",
       "      <td>384.0</td>\n",
       "      <td>2.0</td>\n",
       "      <td>1.0</td>\n",
       "      <td>45.333333</td>\n",
       "      <td>1.0</td>\n",
       "      <td>2.0</td>\n",
       "      <td>1.0</td>\n",
       "      <td>5.0</td>\n",
       "      <td>64.0</td>\n",
       "      <td>17.0</td>\n",
       "    </tr>\n",
       "    <tr>\n",
       "      <th>0.0003</th>\n",
       "      <td>0.700093</td>\n",
       "      <td>0.677384</td>\n",
       "      <td>0.674833</td>\n",
       "      <td>0.681957</td>\n",
       "      <td>0.735858</td>\n",
       "      <td>0.720196</td>\n",
       "      <td>0.720171</td>\n",
       "      <td>0.720333</td>\n",
       "      <td>11.0</td>\n",
       "      <td>3.0</td>\n",
       "      <td>...</td>\n",
       "      <td>384.0</td>\n",
       "      <td>2.0</td>\n",
       "      <td>1.0</td>\n",
       "      <td>45.333333</td>\n",
       "      <td>1.0</td>\n",
       "      <td>2.0</td>\n",
       "      <td>1.0</td>\n",
       "      <td>5.0</td>\n",
       "      <td>64.0</td>\n",
       "      <td>16.0</td>\n",
       "    </tr>\n",
       "    <tr>\n",
       "      <th>0.0005</th>\n",
       "      <td>0.688413</td>\n",
       "      <td>0.668002</td>\n",
       "      <td>0.665407</td>\n",
       "      <td>0.674819</td>\n",
       "      <td>0.727726</td>\n",
       "      <td>0.714613</td>\n",
       "      <td>0.712831</td>\n",
       "      <td>0.717315</td>\n",
       "      <td>11.0</td>\n",
       "      <td>3.0</td>\n",
       "      <td>...</td>\n",
       "      <td>384.0</td>\n",
       "      <td>2.0</td>\n",
       "      <td>1.0</td>\n",
       "      <td>45.333333</td>\n",
       "      <td>1.0</td>\n",
       "      <td>2.0</td>\n",
       "      <td>1.0</td>\n",
       "      <td>5.0</td>\n",
       "      <td>64.0</td>\n",
       "      <td>15.0</td>\n",
       "    </tr>\n",
       "    <tr>\n",
       "      <th rowspan=\"9\" valign=\"top\">(12,)</th>\n",
       "      <th rowspan=\"3\" valign=\"top\">(32, 32)</th>\n",
       "      <th rowspan=\"3\" valign=\"top\">0.1</th>\n",
       "      <th>0.0001</th>\n",
       "      <td>0.699845</td>\n",
       "      <td>0.675856</td>\n",
       "      <td>0.673574</td>\n",
       "      <td>0.679428</td>\n",
       "      <td>0.733881</td>\n",
       "      <td>0.718018</td>\n",
       "      <td>0.717977</td>\n",
       "      <td>0.718079</td>\n",
       "      <td>11.0</td>\n",
       "      <td>3.0</td>\n",
       "      <td>...</td>\n",
       "      <td>384.0</td>\n",
       "      <td>2.0</td>\n",
       "      <td>1.0</td>\n",
       "      <td>45.333333</td>\n",
       "      <td>1.0</td>\n",
       "      <td>2.0</td>\n",
       "      <td>1.0</td>\n",
       "      <td>5.0</td>\n",
       "      <td>64.0</td>\n",
       "      <td>2.0</td>\n",
       "    </tr>\n",
       "    <tr>\n",
       "      <th>0.0003</th>\n",
       "      <td>0.694564</td>\n",
       "      <td>0.671188</td>\n",
       "      <td>0.668756</td>\n",
       "      <td>0.675408</td>\n",
       "      <td>0.753066</td>\n",
       "      <td>0.737999</td>\n",
       "      <td>0.738268</td>\n",
       "      <td>0.737790</td>\n",
       "      <td>11.0</td>\n",
       "      <td>3.0</td>\n",
       "      <td>...</td>\n",
       "      <td>384.0</td>\n",
       "      <td>2.0</td>\n",
       "      <td>1.0</td>\n",
       "      <td>45.333333</td>\n",
       "      <td>1.0</td>\n",
       "      <td>2.0</td>\n",
       "      <td>1.0</td>\n",
       "      <td>5.0</td>\n",
       "      <td>64.0</td>\n",
       "      <td>1.0</td>\n",
       "    </tr>\n",
       "    <tr>\n",
       "      <th>0.0005</th>\n",
       "      <td>0.696303</td>\n",
       "      <td>0.675129</td>\n",
       "      <td>0.672936</td>\n",
       "      <td>0.681380</td>\n",
       "      <td>0.752303</td>\n",
       "      <td>0.737492</td>\n",
       "      <td>0.738027</td>\n",
       "      <td>0.738033</td>\n",
       "      <td>11.0</td>\n",
       "      <td>3.0</td>\n",
       "      <td>...</td>\n",
       "      <td>384.0</td>\n",
       "      <td>2.0</td>\n",
       "      <td>1.0</td>\n",
       "      <td>45.333333</td>\n",
       "      <td>1.0</td>\n",
       "      <td>2.0</td>\n",
       "      <td>1.0</td>\n",
       "      <td>5.0</td>\n",
       "      <td>64.0</td>\n",
       "      <td>0.0</td>\n",
       "    </tr>\n",
       "    <tr>\n",
       "      <th rowspan=\"3\" valign=\"top\">(128, 128)</th>\n",
       "      <th rowspan=\"3\" valign=\"top\">0.1</th>\n",
       "      <th>0.0001</th>\n",
       "      <td>0.696987</td>\n",
       "      <td>0.676062</td>\n",
       "      <td>0.673347</td>\n",
       "      <td>0.682234</td>\n",
       "      <td>0.738824</td>\n",
       "      <td>0.725043</td>\n",
       "      <td>0.724110</td>\n",
       "      <td>0.726802</td>\n",
       "      <td>11.0</td>\n",
       "      <td>3.0</td>\n",
       "      <td>...</td>\n",
       "      <td>384.0</td>\n",
       "      <td>2.0</td>\n",
       "      <td>1.0</td>\n",
       "      <td>45.333333</td>\n",
       "      <td>1.0</td>\n",
       "      <td>2.0</td>\n",
       "      <td>1.0</td>\n",
       "      <td>5.0</td>\n",
       "      <td>64.0</td>\n",
       "      <td>5.0</td>\n",
       "    </tr>\n",
       "    <tr>\n",
       "      <th>0.0003</th>\n",
       "      <td>0.698105</td>\n",
       "      <td>0.676449</td>\n",
       "      <td>0.673802</td>\n",
       "      <td>0.681986</td>\n",
       "      <td>0.741430</td>\n",
       "      <td>0.727091</td>\n",
       "      <td>0.726569</td>\n",
       "      <td>0.728274</td>\n",
       "      <td>11.0</td>\n",
       "      <td>3.0</td>\n",
       "      <td>...</td>\n",
       "      <td>384.0</td>\n",
       "      <td>2.0</td>\n",
       "      <td>1.0</td>\n",
       "      <td>45.333333</td>\n",
       "      <td>1.0</td>\n",
       "      <td>2.0</td>\n",
       "      <td>1.0</td>\n",
       "      <td>5.0</td>\n",
       "      <td>64.0</td>\n",
       "      <td>4.0</td>\n",
       "    </tr>\n",
       "    <tr>\n",
       "      <th>0.0005</th>\n",
       "      <td>0.698291</td>\n",
       "      <td>0.675017</td>\n",
       "      <td>0.672831</td>\n",
       "      <td>0.679423</td>\n",
       "      <td>0.745968</td>\n",
       "      <td>0.730178</td>\n",
       "      <td>0.730964</td>\n",
       "      <td>0.729813</td>\n",
       "      <td>11.0</td>\n",
       "      <td>3.0</td>\n",
       "      <td>...</td>\n",
       "      <td>384.0</td>\n",
       "      <td>2.0</td>\n",
       "      <td>1.0</td>\n",
       "      <td>45.333333</td>\n",
       "      <td>1.0</td>\n",
       "      <td>2.0</td>\n",
       "      <td>1.0</td>\n",
       "      <td>5.0</td>\n",
       "      <td>64.0</td>\n",
       "      <td>3.0</td>\n",
       "    </tr>\n",
       "    <tr>\n",
       "      <th rowspan=\"3\" valign=\"top\">(512, 512)</th>\n",
       "      <th rowspan=\"3\" valign=\"top\">0.1</th>\n",
       "      <th>0.0001</th>\n",
       "      <td>0.697297</td>\n",
       "      <td>0.676418</td>\n",
       "      <td>0.673721</td>\n",
       "      <td>0.682596</td>\n",
       "      <td>0.740756</td>\n",
       "      <td>0.726840</td>\n",
       "      <td>0.725719</td>\n",
       "      <td>0.728250</td>\n",
       "      <td>11.0</td>\n",
       "      <td>3.0</td>\n",
       "      <td>...</td>\n",
       "      <td>384.0</td>\n",
       "      <td>2.0</td>\n",
       "      <td>1.0</td>\n",
       "      <td>45.333333</td>\n",
       "      <td>1.0</td>\n",
       "      <td>2.0</td>\n",
       "      <td>1.0</td>\n",
       "      <td>5.0</td>\n",
       "      <td>64.0</td>\n",
       "      <td>8.0</td>\n",
       "    </tr>\n",
       "    <tr>\n",
       "      <th>0.0003</th>\n",
       "      <td>0.701212</td>\n",
       "      <td>0.675468</td>\n",
       "      <td>0.674001</td>\n",
       "      <td>0.677937</td>\n",
       "      <td>0.748214</td>\n",
       "      <td>0.729864</td>\n",
       "      <td>0.733429</td>\n",
       "      <td>0.727442</td>\n",
       "      <td>11.0</td>\n",
       "      <td>3.0</td>\n",
       "      <td>...</td>\n",
       "      <td>384.0</td>\n",
       "      <td>2.0</td>\n",
       "      <td>1.0</td>\n",
       "      <td>45.333333</td>\n",
       "      <td>1.0</td>\n",
       "      <td>2.0</td>\n",
       "      <td>1.0</td>\n",
       "      <td>5.0</td>\n",
       "      <td>64.0</td>\n",
       "      <td>7.0</td>\n",
       "    </tr>\n",
       "    <tr>\n",
       "      <th>0.0005</th>\n",
       "      <td>0.690463</td>\n",
       "      <td>0.670286</td>\n",
       "      <td>0.667629</td>\n",
       "      <td>0.677257</td>\n",
       "      <td>0.737206</td>\n",
       "      <td>0.723777</td>\n",
       "      <td>0.722374</td>\n",
       "      <td>0.725767</td>\n",
       "      <td>11.0</td>\n",
       "      <td>3.0</td>\n",
       "      <td>...</td>\n",
       "      <td>384.0</td>\n",
       "      <td>2.0</td>\n",
       "      <td>1.0</td>\n",
       "      <td>45.333333</td>\n",
       "      <td>1.0</td>\n",
       "      <td>2.0</td>\n",
       "      <td>1.0</td>\n",
       "      <td>5.0</td>\n",
       "      <td>64.0</td>\n",
       "      <td>6.0</td>\n",
       "    </tr>\n",
       "  </tbody>\n",
       "</table>\n",
       "<p>18 rows × 23 columns</p>\n",
       "</div>"
      ],
      "text/plain": [
       "                                                                      accuracy  \\\n",
       "dimensions swnu_hidden_dim ffn_hidden_dim dropout_rate learning_rate             \n",
       "15         (10,)           (32, 32)       0.1          0.0001         0.694626   \n",
       "                                                       0.0003         0.690836   \n",
       "                                                       0.0005         0.690090   \n",
       "                           (128, 128)     0.1          0.0001         0.695247   \n",
       "                                                       0.0003         0.692016   \n",
       "                                                       0.0005         0.691208   \n",
       "                           (512, 512)     0.1          0.0001         0.693942   \n",
       "                                                       0.0003         0.700093   \n",
       "                                                       0.0005         0.688413   \n",
       "           (12,)           (32, 32)       0.1          0.0001         0.699845   \n",
       "                                                       0.0003         0.694564   \n",
       "                                                       0.0005         0.696303   \n",
       "                           (128, 128)     0.1          0.0001         0.696987   \n",
       "                                                       0.0003         0.698105   \n",
       "                                                       0.0005         0.698291   \n",
       "                           (512, 512)     0.1          0.0001         0.697297   \n",
       "                                                       0.0003         0.701212   \n",
       "                                                       0.0005         0.690463   \n",
       "\n",
       "                                                                            f1  \\\n",
       "dimensions swnu_hidden_dim ffn_hidden_dim dropout_rate learning_rate             \n",
       "15         (10,)           (32, 32)       0.1          0.0001         0.671392   \n",
       "                                                       0.0003         0.670285   \n",
       "                                                       0.0005         0.667941   \n",
       "                           (128, 128)     0.1          0.0001         0.672524   \n",
       "                                                       0.0003         0.671189   \n",
       "                                                       0.0005         0.669131   \n",
       "                           (512, 512)     0.1          0.0001         0.673833   \n",
       "                                                       0.0003         0.677384   \n",
       "                                                       0.0005         0.668002   \n",
       "           (12,)           (32, 32)       0.1          0.0001         0.675856   \n",
       "                                                       0.0003         0.671188   \n",
       "                                                       0.0005         0.675129   \n",
       "                           (128, 128)     0.1          0.0001         0.676062   \n",
       "                                                       0.0003         0.676449   \n",
       "                                                       0.0005         0.675017   \n",
       "                           (512, 512)     0.1          0.0001         0.676418   \n",
       "                                                       0.0003         0.675468   \n",
       "                                                       0.0005         0.670286   \n",
       "\n",
       "                                                                      precision  \\\n",
       "dimensions swnu_hidden_dim ffn_hidden_dim dropout_rate learning_rate              \n",
       "15         (10,)           (32, 32)       0.1          0.0001          0.669043   \n",
       "                                                       0.0003          0.667651   \n",
       "                                                       0.0005          0.665372   \n",
       "                           (128, 128)     0.1          0.0001          0.670132   \n",
       "                                                       0.0003          0.668682   \n",
       "                                                       0.0005          0.667737   \n",
       "                           (512, 512)     0.1          0.0001          0.671177   \n",
       "                                                       0.0003          0.674833   \n",
       "                                                       0.0005          0.665407   \n",
       "           (12,)           (32, 32)       0.1          0.0001          0.673574   \n",
       "                                                       0.0003          0.668756   \n",
       "                                                       0.0005          0.672936   \n",
       "                           (128, 128)     0.1          0.0001          0.673347   \n",
       "                                                       0.0003          0.673802   \n",
       "                                                       0.0005          0.672831   \n",
       "                           (512, 512)     0.1          0.0001          0.673721   \n",
       "                                                       0.0003          0.674001   \n",
       "                                                       0.0005          0.667629   \n",
       "\n",
       "                                                                        recall  \\\n",
       "dimensions swnu_hidden_dim ffn_hidden_dim dropout_rate learning_rate             \n",
       "15         (10,)           (32, 32)       0.1          0.0001         0.675743   \n",
       "                                                       0.0003         0.676970   \n",
       "                                                       0.0005         0.673239   \n",
       "                           (128, 128)     0.1          0.0001         0.677287   \n",
       "                                                       0.0003         0.677632   \n",
       "                                                       0.0005         0.675083   \n",
       "                           (512, 512)     0.1          0.0001         0.680794   \n",
       "                                                       0.0003         0.681957   \n",
       "                                                       0.0005         0.674819   \n",
       "           (12,)           (32, 32)       0.1          0.0001         0.679428   \n",
       "                                                       0.0003         0.675408   \n",
       "                                                       0.0005         0.681380   \n",
       "                           (128, 128)     0.1          0.0001         0.682234   \n",
       "                                                       0.0003         0.681986   \n",
       "                                                       0.0005         0.679423   \n",
       "                           (512, 512)     0.1          0.0001         0.682596   \n",
       "                                                       0.0003         0.677937   \n",
       "                                                       0.0005         0.677257   \n",
       "\n",
       "                                                                      valid_accuracy  \\\n",
       "dimensions swnu_hidden_dim ffn_hidden_dim dropout_rate learning_rate                   \n",
       "15         (10,)           (32, 32)       0.1          0.0001               0.732758   \n",
       "                                                       0.0003               0.741430   \n",
       "                                                       0.0005               0.744081   \n",
       "                           (128, 128)     0.1          0.0001               0.737027   \n",
       "                                                       0.0003               0.736802   \n",
       "                                                       0.0005               0.733163   \n",
       "                           (512, 512)     0.1          0.0001               0.728759   \n",
       "                                                       0.0003               0.735858   \n",
       "                                                       0.0005               0.727726   \n",
       "           (12,)           (32, 32)       0.1          0.0001               0.733881   \n",
       "                                                       0.0003               0.753066   \n",
       "                                                       0.0005               0.752303   \n",
       "                           (128, 128)     0.1          0.0001               0.738824   \n",
       "                                                       0.0003               0.741430   \n",
       "                                                       0.0005               0.745968   \n",
       "                           (512, 512)     0.1          0.0001               0.740756   \n",
       "                                                       0.0003               0.748214   \n",
       "                                                       0.0005               0.737206   \n",
       "\n",
       "                                                                      valid_f1  \\\n",
       "dimensions swnu_hidden_dim ffn_hidden_dim dropout_rate learning_rate             \n",
       "15         (10,)           (32, 32)       0.1          0.0001         0.716955   \n",
       "                                                       0.0003         0.727156   \n",
       "                                                       0.0005         0.729957   \n",
       "                           (128, 128)     0.1          0.0001         0.722093   \n",
       "                                                       0.0003         0.723299   \n",
       "                                                       0.0005         0.718939   \n",
       "                           (512, 512)     0.1          0.0001         0.715452   \n",
       "                                                       0.0003         0.720196   \n",
       "                                                       0.0005         0.714613   \n",
       "           (12,)           (32, 32)       0.1          0.0001         0.718018   \n",
       "                                                       0.0003         0.737999   \n",
       "                                                       0.0005         0.737492   \n",
       "                           (128, 128)     0.1          0.0001         0.725043   \n",
       "                                                       0.0003         0.727091   \n",
       "                                                       0.0005         0.730178   \n",
       "                           (512, 512)     0.1          0.0001         0.726840   \n",
       "                                                       0.0003         0.729864   \n",
       "                                                       0.0005         0.723777   \n",
       "\n",
       "                                                                      valid_precision  \\\n",
       "dimensions swnu_hidden_dim ffn_hidden_dim dropout_rate learning_rate                    \n",
       "15         (10,)           (32, 32)       0.1          0.0001                0.717220   \n",
       "                                                       0.0003                0.726415   \n",
       "                                                       0.0005                0.729107   \n",
       "                           (128, 128)     0.1          0.0001                0.721609   \n",
       "                                                       0.0003                0.722313   \n",
       "                                                       0.0005                0.719446   \n",
       "                           (512, 512)     0.1          0.0001                0.713857   \n",
       "                                                       0.0003                0.720171   \n",
       "                                                       0.0005                0.712831   \n",
       "           (12,)           (32, 32)       0.1          0.0001                0.717977   \n",
       "                                                       0.0003                0.738268   \n",
       "                                                       0.0005                0.738027   \n",
       "                           (128, 128)     0.1          0.0001                0.724110   \n",
       "                                                       0.0003                0.726569   \n",
       "                                                       0.0005                0.730964   \n",
       "                           (512, 512)     0.1          0.0001                0.725719   \n",
       "                                                       0.0003                0.733429   \n",
       "                                                       0.0005                0.722374   \n",
       "\n",
       "                                                                      valid_recall  \\\n",
       "dimensions swnu_hidden_dim ffn_hidden_dim dropout_rate learning_rate                 \n",
       "15         (10,)           (32, 32)       0.1          0.0001             0.717126   \n",
       "                                                       0.0003             0.728365   \n",
       "                                                       0.0005             0.731004   \n",
       "                           (128, 128)     0.1          0.0001             0.722861   \n",
       "                                                       0.0003             0.725508   \n",
       "                                                       0.0005             0.721504   \n",
       "                           (512, 512)     0.1          0.0001             0.717946   \n",
       "                                                       0.0003             0.720333   \n",
       "                                                       0.0005             0.717315   \n",
       "           (12,)           (32, 32)       0.1          0.0001             0.718079   \n",
       "                                                       0.0003             0.737790   \n",
       "                                                       0.0005             0.738033   \n",
       "                           (128, 128)     0.1          0.0001             0.726802   \n",
       "                                                       0.0003             0.728274   \n",
       "                                                       0.0005             0.729813   \n",
       "                           (512, 512)     0.1          0.0001             0.728250   \n",
       "                                                       0.0003             0.727442   \n",
       "                                                       0.0005             0.725767   \n",
       "\n",
       "                                                                         k  \\\n",
       "dimensions swnu_hidden_dim ffn_hidden_dim dropout_rate learning_rate         \n",
       "15         (10,)           (32, 32)       0.1          0.0001         11.0   \n",
       "                                                       0.0003         11.0   \n",
       "                                                       0.0005         11.0   \n",
       "                           (128, 128)     0.1          0.0001         11.0   \n",
       "                                                       0.0003         11.0   \n",
       "                                                       0.0005         11.0   \n",
       "                           (512, 512)     0.1          0.0001         11.0   \n",
       "                                                       0.0003         11.0   \n",
       "                                                       0.0005         11.0   \n",
       "           (12,)           (32, 32)       0.1          0.0001         11.0   \n",
       "                                                       0.0003         11.0   \n",
       "                                                       0.0005         11.0   \n",
       "                           (128, 128)     0.1          0.0001         11.0   \n",
       "                                                       0.0003         11.0   \n",
       "                                                       0.0005         11.0   \n",
       "                           (512, 512)     0.1          0.0001         11.0   \n",
       "                                                       0.0003         11.0   \n",
       "                                                       0.0005         11.0   \n",
       "\n",
       "                                                                      sig_depth  \\\n",
       "dimensions swnu_hidden_dim ffn_hidden_dim dropout_rate learning_rate              \n",
       "15         (10,)           (32, 32)       0.1          0.0001               3.0   \n",
       "                                                       0.0003               3.0   \n",
       "                                                       0.0005               3.0   \n",
       "                           (128, 128)     0.1          0.0001               3.0   \n",
       "                                                       0.0003               3.0   \n",
       "                                                       0.0005               3.0   \n",
       "                           (512, 512)     0.1          0.0001               3.0   \n",
       "                                                       0.0003               3.0   \n",
       "                                                       0.0005               3.0   \n",
       "           (12,)           (32, 32)       0.1          0.0001               3.0   \n",
       "                                                       0.0003               3.0   \n",
       "                                                       0.0005               3.0   \n",
       "                           (128, 128)     0.1          0.0001               3.0   \n",
       "                                                       0.0003               3.0   \n",
       "                                                       0.0005               3.0   \n",
       "                           (512, 512)     0.1          0.0001               3.0   \n",
       "                                                       0.0003               3.0   \n",
       "                                                       0.0005               3.0   \n",
       "\n",
       "                                                                      ...  \\\n",
       "dimensions swnu_hidden_dim ffn_hidden_dim dropout_rate learning_rate  ...   \n",
       "15         (10,)           (32, 32)       0.1          0.0001         ...   \n",
       "                                                       0.0003         ...   \n",
       "                                                       0.0005         ...   \n",
       "                           (128, 128)     0.1          0.0001         ...   \n",
       "                                                       0.0003         ...   \n",
       "                                                       0.0005         ...   \n",
       "                           (512, 512)     0.1          0.0001         ...   \n",
       "                                                       0.0003         ...   \n",
       "                                                       0.0005         ...   \n",
       "           (12,)           (32, 32)       0.1          0.0001         ...   \n",
       "                                                       0.0003         ...   \n",
       "                                                       0.0005         ...   \n",
       "                           (128, 128)     0.1          0.0001         ...   \n",
       "                                                       0.0003         ...   \n",
       "                                                       0.0005         ...   \n",
       "                           (512, 512)     0.1          0.0001         ...   \n",
       "                                                       0.0003         ...   \n",
       "                                                       0.0005         ...   \n",
       "\n",
       "                                                                      embedding_dim  \\\n",
       "dimensions swnu_hidden_dim ffn_hidden_dim dropout_rate learning_rate                  \n",
       "15         (10,)           (32, 32)       0.1          0.0001                 384.0   \n",
       "                                                       0.0003                 384.0   \n",
       "                                                       0.0005                 384.0   \n",
       "                           (128, 128)     0.1          0.0001                 384.0   \n",
       "                                                       0.0003                 384.0   \n",
       "                                                       0.0005                 384.0   \n",
       "                           (512, 512)     0.1          0.0001                 384.0   \n",
       "                                                       0.0003                 384.0   \n",
       "                                                       0.0005                 384.0   \n",
       "           (12,)           (32, 32)       0.1          0.0001                 384.0   \n",
       "                                                       0.0003                 384.0   \n",
       "                                                       0.0005                 384.0   \n",
       "                           (128, 128)     0.1          0.0001                 384.0   \n",
       "                                                       0.0003                 384.0   \n",
       "                                                       0.0005                 384.0   \n",
       "                           (512, 512)     0.1          0.0001                 384.0   \n",
       "                                                       0.0003                 384.0   \n",
       "                                                       0.0005                 384.0   \n",
       "\n",
       "                                                                      num_features  \\\n",
       "dimensions swnu_hidden_dim ffn_hidden_dim dropout_rate learning_rate                 \n",
       "15         (10,)           (32, 32)       0.1          0.0001                  2.0   \n",
       "                                                       0.0003                  2.0   \n",
       "                                                       0.0005                  2.0   \n",
       "                           (128, 128)     0.1          0.0001                  2.0   \n",
       "                                                       0.0003                  2.0   \n",
       "                                                       0.0005                  2.0   \n",
       "                           (512, 512)     0.1          0.0001                  2.0   \n",
       "                                                       0.0003                  2.0   \n",
       "                                                       0.0005                  2.0   \n",
       "           (12,)           (32, 32)       0.1          0.0001                  2.0   \n",
       "                                                       0.0003                  2.0   \n",
       "                                                       0.0005                  2.0   \n",
       "                           (128, 128)     0.1          0.0001                  2.0   \n",
       "                                                       0.0003                  2.0   \n",
       "                                                       0.0005                  2.0   \n",
       "                           (512, 512)     0.1          0.0001                  2.0   \n",
       "                                                       0.0003                  2.0   \n",
       "                                                       0.0005                  2.0   \n",
       "\n",
       "                                                                      log_signature  \\\n",
       "dimensions swnu_hidden_dim ffn_hidden_dim dropout_rate learning_rate                  \n",
       "15         (10,)           (32, 32)       0.1          0.0001                   1.0   \n",
       "                                                       0.0003                   1.0   \n",
       "                                                       0.0005                   1.0   \n",
       "                           (128, 128)     0.1          0.0001                   1.0   \n",
       "                                                       0.0003                   1.0   \n",
       "                                                       0.0005                   1.0   \n",
       "                           (512, 512)     0.1          0.0001                   1.0   \n",
       "                                                       0.0003                   1.0   \n",
       "                                                       0.0005                   1.0   \n",
       "           (12,)           (32, 32)       0.1          0.0001                   1.0   \n",
       "                                                       0.0003                   1.0   \n",
       "                                                       0.0005                   1.0   \n",
       "                           (128, 128)     0.1          0.0001                   1.0   \n",
       "                                                       0.0003                   1.0   \n",
       "                                                       0.0005                   1.0   \n",
       "                           (512, 512)     0.1          0.0001                   1.0   \n",
       "                                                       0.0003                   1.0   \n",
       "                                                       0.0005                   1.0   \n",
       "\n",
       "                                                                           seed  \\\n",
       "dimensions swnu_hidden_dim ffn_hidden_dim dropout_rate learning_rate              \n",
       "15         (10,)           (32, 32)       0.1          0.0001         45.333333   \n",
       "                                                       0.0003         45.333333   \n",
       "                                                       0.0005         45.333333   \n",
       "                           (128, 128)     0.1          0.0001         45.333333   \n",
       "                                                       0.0003         45.333333   \n",
       "                                                       0.0005         45.333333   \n",
       "                           (512, 512)     0.1          0.0001         45.333333   \n",
       "                                                       0.0003         45.333333   \n",
       "                                                       0.0005         45.333333   \n",
       "           (12,)           (32, 32)       0.1          0.0001         45.333333   \n",
       "                                                       0.0003         45.333333   \n",
       "                                                       0.0005         45.333333   \n",
       "                           (128, 128)     0.1          0.0001         45.333333   \n",
       "                                                       0.0003         45.333333   \n",
       "                                                       0.0005         45.333333   \n",
       "                           (512, 512)     0.1          0.0001         45.333333   \n",
       "                                                       0.0003         45.333333   \n",
       "                                                       0.0005         45.333333   \n",
       "\n",
       "                                                                      BiLSTM  \\\n",
       "dimensions swnu_hidden_dim ffn_hidden_dim dropout_rate learning_rate           \n",
       "15         (10,)           (32, 32)       0.1          0.0001            1.0   \n",
       "                                                       0.0003            1.0   \n",
       "                                                       0.0005            1.0   \n",
       "                           (128, 128)     0.1          0.0001            1.0   \n",
       "                                                       0.0003            1.0   \n",
       "                                                       0.0005            1.0   \n",
       "                           (512, 512)     0.1          0.0001            1.0   \n",
       "                                                       0.0003            1.0   \n",
       "                                                       0.0005            1.0   \n",
       "           (12,)           (32, 32)       0.1          0.0001            1.0   \n",
       "                                                       0.0003            1.0   \n",
       "                                                       0.0005            1.0   \n",
       "                           (128, 128)     0.1          0.0001            1.0   \n",
       "                                                       0.0003            1.0   \n",
       "                                                       0.0005            1.0   \n",
       "                           (512, 512)     0.1          0.0001            1.0   \n",
       "                                                       0.0003            1.0   \n",
       "                                                       0.0005            1.0   \n",
       "\n",
       "                                                                      gamma  \\\n",
       "dimensions swnu_hidden_dim ffn_hidden_dim dropout_rate learning_rate          \n",
       "15         (10,)           (32, 32)       0.1          0.0001           2.0   \n",
       "                                                       0.0003           2.0   \n",
       "                                                       0.0005           2.0   \n",
       "                           (128, 128)     0.1          0.0001           2.0   \n",
       "                                                       0.0003           2.0   \n",
       "                                                       0.0005           2.0   \n",
       "                           (512, 512)     0.1          0.0001           2.0   \n",
       "                                                       0.0003           2.0   \n",
       "                                                       0.0005           2.0   \n",
       "           (12,)           (32, 32)       0.1          0.0001           2.0   \n",
       "                                                       0.0003           2.0   \n",
       "                                                       0.0005           2.0   \n",
       "                           (128, 128)     0.1          0.0001           2.0   \n",
       "                                                       0.0003           2.0   \n",
       "                                                       0.0005           2.0   \n",
       "                           (512, 512)     0.1          0.0001           2.0   \n",
       "                                                       0.0003           2.0   \n",
       "                                                       0.0005           2.0   \n",
       "\n",
       "                                                                      k_fold  \\\n",
       "dimensions swnu_hidden_dim ffn_hidden_dim dropout_rate learning_rate           \n",
       "15         (10,)           (32, 32)       0.1          0.0001            1.0   \n",
       "                                                       0.0003            1.0   \n",
       "                                                       0.0005            1.0   \n",
       "                           (128, 128)     0.1          0.0001            1.0   \n",
       "                                                       0.0003            1.0   \n",
       "                                                       0.0005            1.0   \n",
       "                           (512, 512)     0.1          0.0001            1.0   \n",
       "                                                       0.0003            1.0   \n",
       "                                                       0.0005            1.0   \n",
       "           (12,)           (32, 32)       0.1          0.0001            1.0   \n",
       "                                                       0.0003            1.0   \n",
       "                                                       0.0005            1.0   \n",
       "                           (128, 128)     0.1          0.0001            1.0   \n",
       "                                                       0.0003            1.0   \n",
       "                                                       0.0005            1.0   \n",
       "                           (512, 512)     0.1          0.0001            1.0   \n",
       "                                                       0.0003            1.0   \n",
       "                                                       0.0005            1.0   \n",
       "\n",
       "                                                                      n_splits  \\\n",
       "dimensions swnu_hidden_dim ffn_hidden_dim dropout_rate learning_rate             \n",
       "15         (10,)           (32, 32)       0.1          0.0001              5.0   \n",
       "                                                       0.0003              5.0   \n",
       "                                                       0.0005              5.0   \n",
       "                           (128, 128)     0.1          0.0001              5.0   \n",
       "                                                       0.0003              5.0   \n",
       "                                                       0.0005              5.0   \n",
       "                           (512, 512)     0.1          0.0001              5.0   \n",
       "                                                       0.0003              5.0   \n",
       "                                                       0.0005              5.0   \n",
       "           (12,)           (32, 32)       0.1          0.0001              5.0   \n",
       "                                                       0.0003              5.0   \n",
       "                                                       0.0005              5.0   \n",
       "                           (128, 128)     0.1          0.0001              5.0   \n",
       "                                                       0.0003              5.0   \n",
       "                                                       0.0005              5.0   \n",
       "                           (512, 512)     0.1          0.0001              5.0   \n",
       "                                                       0.0003              5.0   \n",
       "                                                       0.0005              5.0   \n",
       "\n",
       "                                                                      batch_size  \\\n",
       "dimensions swnu_hidden_dim ffn_hidden_dim dropout_rate learning_rate               \n",
       "15         (10,)           (32, 32)       0.1          0.0001               64.0   \n",
       "                                                       0.0003               64.0   \n",
       "                                                       0.0005               64.0   \n",
       "                           (128, 128)     0.1          0.0001               64.0   \n",
       "                                                       0.0003               64.0   \n",
       "                                                       0.0005               64.0   \n",
       "                           (512, 512)     0.1          0.0001               64.0   \n",
       "                                                       0.0003               64.0   \n",
       "                                                       0.0005               64.0   \n",
       "           (12,)           (32, 32)       0.1          0.0001               64.0   \n",
       "                                                       0.0003               64.0   \n",
       "                                                       0.0005               64.0   \n",
       "                           (128, 128)     0.1          0.0001               64.0   \n",
       "                                                       0.0003               64.0   \n",
       "                                                       0.0005               64.0   \n",
       "                           (512, 512)     0.1          0.0001               64.0   \n",
       "                                                       0.0003               64.0   \n",
       "                                                       0.0005               64.0   \n",
       "\n",
       "                                                                      model_id  \n",
       "dimensions swnu_hidden_dim ffn_hidden_dim dropout_rate learning_rate            \n",
       "15         (10,)           (32, 32)       0.1          0.0001             11.0  \n",
       "                                                       0.0003             10.0  \n",
       "                                                       0.0005              9.0  \n",
       "                           (128, 128)     0.1          0.0001             14.0  \n",
       "                                                       0.0003             13.0  \n",
       "                                                       0.0005             12.0  \n",
       "                           (512, 512)     0.1          0.0001             17.0  \n",
       "                                                       0.0003             16.0  \n",
       "                                                       0.0005             15.0  \n",
       "           (12,)           (32, 32)       0.1          0.0001              2.0  \n",
       "                                                       0.0003              1.0  \n",
       "                                                       0.0005              0.0  \n",
       "                           (128, 128)     0.1          0.0001              5.0  \n",
       "                                                       0.0003              4.0  \n",
       "                                                       0.0005              3.0  \n",
       "                           (512, 512)     0.1          0.0001              8.0  \n",
       "                                                       0.0003              7.0  \n",
       "                                                       0.0005              6.0  \n",
       "\n",
       "[18 rows x 23 columns]"
      ]
     },
     "execution_count": 22,
     "metadata": {},
     "output_type": "execute_result"
    }
   ],
   "source": [
    "swnu_network_umap_kfold_11.groupby(\n",
    "    [\"dimensions\", \"swnu_hidden_dim\", \"ffn_hidden_dim\", \"dropout_rate\", \"learning_rate\"]\n",
    ").mean()"
   ]
  },
  {
   "cell_type": "code",
   "execution_count": 23,
   "metadata": {},
   "outputs": [
    {
     "data": {
      "text/html": [
       "<div>\n",
       "<style scoped>\n",
       "    .dataframe tbody tr th:only-of-type {\n",
       "        vertical-align: middle;\n",
       "    }\n",
       "\n",
       "    .dataframe tbody tr th {\n",
       "        vertical-align: top;\n",
       "    }\n",
       "\n",
       "    .dataframe thead th {\n",
       "        text-align: right;\n",
       "    }\n",
       "</style>\n",
       "<table border=\"1\" class=\"dataframe\">\n",
       "  <thead>\n",
       "    <tr style=\"text-align: right;\">\n",
       "      <th></th>\n",
       "      <th>loss</th>\n",
       "      <th>accuracy</th>\n",
       "      <th>f1</th>\n",
       "      <th>f1_scores</th>\n",
       "      <th>precision</th>\n",
       "      <th>precision_scores</th>\n",
       "      <th>recall</th>\n",
       "      <th>recall_scores</th>\n",
       "      <th>valid_loss</th>\n",
       "      <th>valid_accuracy</th>\n",
       "      <th>...</th>\n",
       "      <th>seed</th>\n",
       "      <th>BiLSTM</th>\n",
       "      <th>loss_function</th>\n",
       "      <th>gamma</th>\n",
       "      <th>k_fold</th>\n",
       "      <th>n_splits</th>\n",
       "      <th>augmentation_type</th>\n",
       "      <th>hidden_dim_aug</th>\n",
       "      <th>comb_method</th>\n",
       "      <th>batch_size</th>\n",
       "    </tr>\n",
       "  </thead>\n",
       "  <tbody>\n",
       "    <tr>\n",
       "      <th>0</th>\n",
       "      <td>None</td>\n",
       "      <td>0.689469</td>\n",
       "      <td>0.665035</td>\n",
       "      <td>[0.7555033754035808, 0.5745658835546477]</td>\n",
       "      <td>0.662822</td>\n",
       "      <td>[0.7739025856885148, 0.5517410495340853]</td>\n",
       "      <td>0.668660</td>\n",
       "      <td>[0.7379587155963303, 0.5993606819392648]</td>\n",
       "      <td>None</td>\n",
       "      <td>0.749966</td>\n",
       "      <td>...</td>\n",
       "      <td>1</td>\n",
       "      <td>True</td>\n",
       "      <td>focal</td>\n",
       "      <td>2</td>\n",
       "      <td>True</td>\n",
       "      <td>5</td>\n",
       "      <td>Conv1d</td>\n",
       "      <td>None</td>\n",
       "      <td>concatenation</td>\n",
       "      <td>64</td>\n",
       "    </tr>\n",
       "    <tr>\n",
       "      <th>0</th>\n",
       "      <td>None</td>\n",
       "      <td>0.691706</td>\n",
       "      <td>0.669005</td>\n",
       "      <td>[0.7556868537666174, 0.5823232323232324]</td>\n",
       "      <td>0.666466</td>\n",
       "      <td>[0.7794028031687995, 0.5535285645703313]</td>\n",
       "      <td>0.673825</td>\n",
       "      <td>[0.7333715596330275, 0.6142781033564199]</td>\n",
       "      <td>None</td>\n",
       "      <td>0.761019</td>\n",
       "      <td>...</td>\n",
       "      <td>12</td>\n",
       "      <td>True</td>\n",
       "      <td>focal</td>\n",
       "      <td>2</td>\n",
       "      <td>True</td>\n",
       "      <td>5</td>\n",
       "      <td>Conv1d</td>\n",
       "      <td>None</td>\n",
       "      <td>concatenation</td>\n",
       "      <td>64</td>\n",
       "    </tr>\n",
       "    <tr>\n",
       "      <th>0</th>\n",
       "      <td>None</td>\n",
       "      <td>0.702516</td>\n",
       "      <td>0.679525</td>\n",
       "      <td>[0.76536312849162, 0.5936863543788188]</td>\n",
       "      <td>0.676979</td>\n",
       "      <td>[0.7854556427278213, 0.568503169185763]</td>\n",
       "      <td>0.683738</td>\n",
       "      <td>[0.7462729357798165, 0.6212040490143846]</td>\n",
       "      <td>None</td>\n",
       "      <td>0.748214</td>\n",
       "      <td>...</td>\n",
       "      <td>123</td>\n",
       "      <td>True</td>\n",
       "      <td>focal</td>\n",
       "      <td>2</td>\n",
       "      <td>True</td>\n",
       "      <td>5</td>\n",
       "      <td>Conv1d</td>\n",
       "      <td>None</td>\n",
       "      <td>concatenation</td>\n",
       "      <td>64</td>\n",
       "    </tr>\n",
       "  </tbody>\n",
       "</table>\n",
       "<p>3 rows × 44 columns</p>\n",
       "</div>"
      ],
      "text/plain": [
       "   loss  accuracy        f1                                 f1_scores  \\\n",
       "0  None  0.689469  0.665035  [0.7555033754035808, 0.5745658835546477]   \n",
       "0  None  0.691706  0.669005  [0.7556868537666174, 0.5823232323232324]   \n",
       "0  None  0.702516  0.679525    [0.76536312849162, 0.5936863543788188]   \n",
       "\n",
       "   precision                          precision_scores    recall  \\\n",
       "0   0.662822  [0.7739025856885148, 0.5517410495340853]  0.668660   \n",
       "0   0.666466  [0.7794028031687995, 0.5535285645703313]  0.673825   \n",
       "0   0.676979   [0.7854556427278213, 0.568503169185763]  0.683738   \n",
       "\n",
       "                              recall_scores valid_loss  valid_accuracy  ...  \\\n",
       "0  [0.7379587155963303, 0.5993606819392648]       None        0.749966  ...   \n",
       "0  [0.7333715596330275, 0.6142781033564199]       None        0.761019  ...   \n",
       "0  [0.7462729357798165, 0.6212040490143846]       None        0.748214  ...   \n",
       "\n",
       "   seed BiLSTM  loss_function gamma  k_fold n_splits  augmentation_type  \\\n",
       "0     1   True          focal     2    True        5             Conv1d   \n",
       "0    12   True          focal     2    True        5             Conv1d   \n",
       "0   123   True          focal     2    True        5             Conv1d   \n",
       "\n",
       "   hidden_dim_aug    comb_method batch_size  \n",
       "0            None  concatenation         64  \n",
       "0            None  concatenation         64  \n",
       "0            None  concatenation         64  \n",
       "\n",
       "[3 rows x 44 columns]"
      ]
     },
     "execution_count": 23,
     "metadata": {},
     "output_type": "execute_result"
    }
   ],
   "source": [
    "best_swnu_network_umap_kfold_11"
   ]
  },
  {
   "cell_type": "code",
   "execution_count": 24,
   "metadata": {},
   "outputs": [
    {
     "data": {
      "text/plain": [
       "0.6711881379864195"
      ]
     },
     "execution_count": 24,
     "metadata": {},
     "output_type": "execute_result"
    }
   ],
   "source": [
    "best_swnu_network_umap_kfold_11[\"f1\"].mean()"
   ]
  },
  {
   "cell_type": "code",
   "execution_count": 25,
   "metadata": {},
   "outputs": [
    {
     "data": {
      "text/plain": [
       "0.6687556358125525"
      ]
     },
     "execution_count": 25,
     "metadata": {},
     "output_type": "execute_result"
    }
   ],
   "source": [
    "best_swnu_network_umap_kfold_11[\"precision\"].mean()"
   ]
  },
  {
   "cell_type": "code",
   "execution_count": 26,
   "metadata": {},
   "outputs": [
    {
     "data": {
      "text/plain": [
       "0.6754076742198739"
      ]
     },
     "execution_count": 26,
     "metadata": {},
     "output_type": "execute_result"
    }
   ],
   "source": [
    "best_swnu_network_umap_kfold_11[\"recall\"].mean()"
   ]
  },
  {
   "cell_type": "code",
   "execution_count": 27,
   "metadata": {},
   "outputs": [
    {
     "data": {
      "text/plain": [
       "array([0.75885112, 0.58352516])"
      ]
     },
     "execution_count": 27,
     "metadata": {},
     "output_type": "execute_result"
    }
   ],
   "source": [
    "np.stack(best_swnu_network_umap_kfold_11[\"f1_scores\"]).mean(axis=0)"
   ]
  },
  {
   "cell_type": "code",
   "execution_count": 28,
   "metadata": {},
   "outputs": [
    {
     "data": {
      "text/plain": [
       "array([0.77958701, 0.55792426])"
      ]
     },
     "execution_count": 28,
     "metadata": {},
     "output_type": "execute_result"
    }
   ],
   "source": [
    "np.stack(best_swnu_network_umap_kfold_11[\"precision_scores\"]).mean(axis=0)"
   ]
  },
  {
   "cell_type": "code",
   "execution_count": 29,
   "metadata": {},
   "outputs": [
    {
     "data": {
      "text/plain": [
       "array([0.73920107, 0.61161428])"
      ]
     },
     "execution_count": 29,
     "metadata": {},
     "output_type": "execute_result"
    }
   ],
   "source": [
    "np.stack(best_swnu_network_umap_kfold_11[\"recall_scores\"]).mean(axis=0)"
   ]
  },
  {
   "cell_type": "markdown",
   "metadata": {
    "tags": []
   },
   "source": [
    "# w=20"
   ]
  },
  {
   "cell_type": "code",
   "execution_count": 30,
   "metadata": {},
   "outputs": [],
   "source": [
    "size = 20"
   ]
  },
  {
   "cell_type": "markdown",
   "metadata": {},
   "source": [
    "## umap"
   ]
  },
  {
   "cell_type": "code",
   "execution_count": 31,
   "metadata": {},
   "outputs": [
    {
     "data": {
      "application/vnd.jupyter.widget-view+json": {
       "model_id": "00c394eb17b54f46a15958f1eb2f07c9",
       "version_major": 2,
       "version_minor": 0
      },
      "text/plain": [
       "  0%|          | 0/1 [00:00<?, ?it/s]"
      ]
     },
     "metadata": {},
     "output_type": "display_data"
    },
    {
     "data": {
      "application/vnd.jupyter.widget-view+json": {
       "model_id": "14d21f91360e403e8aa7850672795145",
       "version_major": 2,
       "version_minor": 0
      },
      "text/plain": [
       "  0%|          | 0/1 [00:00<?, ?it/s]"
      ]
     },
     "metadata": {},
     "output_type": "display_data"
    },
    {
     "data": {
      "application/vnd.jupyter.widget-view+json": {
       "model_id": "2ee901e333834efc8ee49914f4e8c756",
       "version_major": 2,
       "version_minor": 0
      },
      "text/plain": [
       "  0%|          | 0/1 [00:00<?, ?it/s]"
      ]
     },
     "metadata": {},
     "output_type": "display_data"
    },
    {
     "name": "stdout",
     "output_type": "stream",
     "text": [
      "\n",
      "##################################################\n",
      "dimension: 15 | method: umap\n",
      "[INFO] Concatenating the embeddings to the dataframe...\n",
      "[INFO] - columns beginning with 'e' denote the full embddings.\n",
      "[INFO] - columns beginning with 'd' denote the dimension reduced embeddings.\n",
      "[INFO] Adding time feature columns into dataframe in `.df`.\n",
      "[INFO] Adding 'time_encoding' feature...\n",
      "[INFO] Adding 'time_diff' feature...\n",
      "[INFO] Adding 'timeline_index' feature...\n",
      "[INFO] Padding ids and storing in `.df_padded` and `.array_padded` attributes.\n"
     ]
    },
    {
     "data": {
      "application/vnd.jupyter.widget-view+json": {
       "model_id": "ba43a88c17994b3d8225d01920e0e9b2",
       "version_major": 2,
       "version_minor": 0
      },
      "text/plain": [
       "  0%|          | 0/5568 [00:00<?, ?it/s]"
      ]
     },
     "metadata": {},
     "output_type": "display_data"
    },
    {
     "name": "stdout",
     "output_type": "stream",
     "text": [
      "[INFO] The path was created for each item in the dataframe, by looking at its history, so to include embeddings in the FFN input, we concatenate the embeddings for each sentence / text.\n"
     ]
    },
    {
     "data": {
      "application/vnd.jupyter.widget-view+json": {
       "model_id": "04cb56f0c600447da9242e1aeb3031fb",
       "version_major": 2,
       "version_minor": 0
      },
      "text/plain": [
       "  0%|          | 0/2 [00:00<?, ?it/s]"
      ]
     },
     "metadata": {},
     "output_type": "display_data"
    },
    {
     "data": {
      "application/vnd.jupyter.widget-view+json": {
       "model_id": "2b2e85106d484c8a966901ee1b60158d",
       "version_major": 2,
       "version_minor": 0
      },
      "text/plain": [
       "  0%|          | 0/3 [00:00<?, ?it/s]"
      ]
     },
     "metadata": {},
     "output_type": "display_data"
    },
    {
     "data": {
      "application/vnd.jupyter.widget-view+json": {
       "model_id": "9bbfc6a39fa14943902f0725e4932661",
       "version_major": 2,
       "version_minor": 0
      },
      "text/plain": [
       "  0%|          | 0/1 [00:00<?, ?it/s]"
      ]
     },
     "metadata": {},
     "output_type": "display_data"
    },
    {
     "data": {
      "application/vnd.jupyter.widget-view+json": {
       "model_id": "8fd6e492c7b445bc9e68bdfd28d4b5dd",
       "version_major": 2,
       "version_minor": 0
      },
      "text/plain": [
       "  0%|          | 0/1 [00:00<?, ?it/s]"
      ]
     },
     "metadata": {},
     "output_type": "display_data"
    },
    {
     "data": {
      "application/vnd.jupyter.widget-view+json": {
       "model_id": "66b7b0555f7b4670b0cfda5088514122",
       "version_major": 2,
       "version_minor": 0
      },
      "text/plain": [
       "  0%|          | 0/3 [00:00<?, ?it/s]"
      ]
     },
     "metadata": {},
     "output_type": "display_data"
    },
    {
     "data": {
      "application/vnd.jupyter.widget-view+json": {
       "model_id": "4e9aceb7a0f941dfb3c9c80d4c3e37c5",
       "version_major": 2,
       "version_minor": 0
      },
      "text/plain": [
       "  0%|          | 0/1 [00:00<?, ?it/s]"
      ]
     },
     "metadata": {},
     "output_type": "display_data"
    },
    {
     "data": {
      "application/vnd.jupyter.widget-view+json": {
       "model_id": "3f74d7fcd47349cc953014b2e0e36351",
       "version_major": 2,
       "version_minor": 0
      },
      "text/plain": [
       "  0%|          | 0/1 [00:00<?, ?it/s]"
      ]
     },
     "metadata": {},
     "output_type": "display_data"
    },
    {
     "data": {
      "application/vnd.jupyter.widget-view+json": {
       "model_id": "c252a9fa9a0b404580300b76a92e8aa6",
       "version_major": 2,
       "version_minor": 0
      },
      "text/plain": [
       "  0%|          | 0/3 [00:00<?, ?it/s]"
      ]
     },
     "metadata": {},
     "output_type": "display_data"
    },
    {
     "data": {
      "application/vnd.jupyter.widget-view+json": {
       "model_id": "959e0ed9b7584f3596f3692a90de6f88",
       "version_major": 2,
       "version_minor": 0
      },
      "text/plain": [
       "  0%|          | 0/1 [00:00<?, ?it/s]"
      ]
     },
     "metadata": {},
     "output_type": "display_data"
    },
    {
     "data": {
      "application/vnd.jupyter.widget-view+json": {
       "model_id": "b180bdfe76ad4815ae69124651317fe4",
       "version_major": 2,
       "version_minor": 0
      },
      "text/plain": [
       "  0%|          | 0/1 [00:00<?, ?it/s]"
      ]
     },
     "metadata": {},
     "output_type": "display_data"
    },
    {
     "data": {
      "application/vnd.jupyter.widget-view+json": {
       "model_id": "792b95aed8d9443f9d0cc6dd9fd0751b",
       "version_major": 2,
       "version_minor": 0
      },
      "text/plain": [
       "  0%|          | 0/3 [00:00<?, ?it/s]"
      ]
     },
     "metadata": {},
     "output_type": "display_data"
    },
    {
     "data": {
      "application/vnd.jupyter.widget-view+json": {
       "model_id": "6d9cb5ae43d843f7a1d08d2d1be91d69",
       "version_major": 2,
       "version_minor": 0
      },
      "text/plain": [
       "  0%|          | 0/3 [00:00<?, ?it/s]"
      ]
     },
     "metadata": {},
     "output_type": "display_data"
    },
    {
     "data": {
      "application/vnd.jupyter.widget-view+json": {
       "model_id": "a35ba1e352674a3eb6ed15b61d2fb38e",
       "version_major": 2,
       "version_minor": 0
      },
      "text/plain": [
       "  0%|          | 0/1 [00:00<?, ?it/s]"
      ]
     },
     "metadata": {},
     "output_type": "display_data"
    },
    {
     "data": {
      "application/vnd.jupyter.widget-view+json": {
       "model_id": "46f80c0abd80444999f1a73715e3ada8",
       "version_major": 2,
       "version_minor": 0
      },
      "text/plain": [
       "  0%|          | 0/1 [00:00<?, ?it/s]"
      ]
     },
     "metadata": {},
     "output_type": "display_data"
    },
    {
     "data": {
      "application/vnd.jupyter.widget-view+json": {
       "model_id": "100c624266844203a02eb4b4accf7236",
       "version_major": 2,
       "version_minor": 0
      },
      "text/plain": [
       "  0%|          | 0/3 [00:00<?, ?it/s]"
      ]
     },
     "metadata": {},
     "output_type": "display_data"
    },
    {
     "data": {
      "application/vnd.jupyter.widget-view+json": {
       "model_id": "425e94e709eb4fc1814fed49d029b66b",
       "version_major": 2,
       "version_minor": 0
      },
      "text/plain": [
       "  0%|          | 0/1 [00:00<?, ?it/s]"
      ]
     },
     "metadata": {},
     "output_type": "display_data"
    },
    {
     "data": {
      "application/vnd.jupyter.widget-view+json": {
       "model_id": "5479d75971f24ba491536b227350ef2b",
       "version_major": 2,
       "version_minor": 0
      },
      "text/plain": [
       "  0%|          | 0/1 [00:00<?, ?it/s]"
      ]
     },
     "metadata": {},
     "output_type": "display_data"
    },
    {
     "data": {
      "application/vnd.jupyter.widget-view+json": {
       "model_id": "e9c10dd5464341dd9ede37728efc9104",
       "version_major": 2,
       "version_minor": 0
      },
      "text/plain": [
       "  0%|          | 0/3 [00:00<?, ?it/s]"
      ]
     },
     "metadata": {},
     "output_type": "display_data"
    },
    {
     "data": {
      "application/vnd.jupyter.widget-view+json": {
       "model_id": "370ea71d14c74f8b80cf599bc19f5dbc",
       "version_major": 2,
       "version_minor": 0
      },
      "text/plain": [
       "  0%|          | 0/1 [00:00<?, ?it/s]"
      ]
     },
     "metadata": {},
     "output_type": "display_data"
    },
    {
     "data": {
      "application/vnd.jupyter.widget-view+json": {
       "model_id": "1cb4b1fe0aba4ce1a447414b3e2e38eb",
       "version_major": 2,
       "version_minor": 0
      },
      "text/plain": [
       "  0%|          | 0/1 [00:00<?, ?it/s]"
      ]
     },
     "metadata": {},
     "output_type": "display_data"
    },
    {
     "data": {
      "application/vnd.jupyter.widget-view+json": {
       "model_id": "fde041241a3846058f59efe02a57348c",
       "version_major": 2,
       "version_minor": 0
      },
      "text/plain": [
       "  0%|          | 0/3 [00:00<?, ?it/s]"
      ]
     },
     "metadata": {},
     "output_type": "display_data"
    },
    {
     "name": "stdout",
     "output_type": "stream",
     "text": [
      "[INFO] Concatenating the embeddings to the dataframe...\n",
      "[INFO] - columns beginning with 'e' denote the full embddings.\n",
      "[INFO] - columns beginning with 'd' denote the dimension reduced embeddings.\n",
      "[INFO] Adding time feature columns into dataframe in `.df`.\n",
      "[INFO] Adding 'time_encoding' feature...\n",
      "[INFO] Adding 'time_diff' feature...\n",
      "[INFO] Adding 'timeline_index' feature...\n",
      "[INFO] Padding ids and storing in `.df_padded` and `.array_padded` attributes.\n"
     ]
    },
    {
     "data": {
      "application/vnd.jupyter.widget-view+json": {
       "model_id": "2af40da7876747b885b1db55c8553d97",
       "version_major": 2,
       "version_minor": 0
      },
      "text/plain": [
       "  0%|          | 0/5568 [00:00<?, ?it/s]"
      ]
     },
     "metadata": {},
     "output_type": "display_data"
    },
    {
     "name": "stdout",
     "output_type": "stream",
     "text": [
      "[INFO] The path was created for each item in the dataframe, by looking at its history, so to include embeddings in the FFN input, we concatenate the embeddings for each sentence / text.\n",
      "saving results dataframe to CSV for this hyperparameter search in rumours_output/swnu_network_umap_focal_2_20_kfold.csv\n",
      "saving the best model results dataframe to CSV for this hyperparameter search in rumours_output/swnu_network_umap_focal_2_20_kfold_best_model.csv\n"
     ]
    }
   ],
   "source": [
    "(\n",
    "    swnu_network_umap_kfold_20,\n",
    "    best_swnu_network_umap_kfold_20,\n",
    "    _,\n",
    "    __,\n",
    ") = swnu_network_hyperparameter_search(\n",
    "    history_lengths=[size],\n",
    "    dim_reduce_methods=[\"umap\"],\n",
    "    results_output=f\"{output_dir}/swnu_network_umap_focal_{gamma}_{size}_kfold.csv\",\n",
    "    **kwargs,\n",
    ")"
   ]
  },
  {
   "cell_type": "code",
   "execution_count": 32,
   "metadata": {},
   "outputs": [
    {
     "name": "stderr",
     "output_type": "stream",
     "text": [
      "/tmp/ipykernel_2296062/29893126.py:1: FutureWarning: The default value of numeric_only in DataFrameGroupBy.mean is deprecated. In a future version, numeric_only will default to False. Either specify numeric_only or select only columns which should be valid for the function.\n",
      "  swnu_network_umap_kfold_20.groupby(\n"
     ]
    },
    {
     "data": {
      "text/html": [
       "<div>\n",
       "<style scoped>\n",
       "    .dataframe tbody tr th:only-of-type {\n",
       "        vertical-align: middle;\n",
       "    }\n",
       "\n",
       "    .dataframe tbody tr th {\n",
       "        vertical-align: top;\n",
       "    }\n",
       "\n",
       "    .dataframe thead th {\n",
       "        text-align: right;\n",
       "    }\n",
       "</style>\n",
       "<table border=\"1\" class=\"dataframe\">\n",
       "  <thead>\n",
       "    <tr style=\"text-align: right;\">\n",
       "      <th></th>\n",
       "      <th></th>\n",
       "      <th></th>\n",
       "      <th></th>\n",
       "      <th></th>\n",
       "      <th>accuracy</th>\n",
       "      <th>f1</th>\n",
       "      <th>precision</th>\n",
       "      <th>recall</th>\n",
       "      <th>valid_accuracy</th>\n",
       "      <th>valid_f1</th>\n",
       "      <th>valid_precision</th>\n",
       "      <th>valid_recall</th>\n",
       "      <th>k</th>\n",
       "      <th>sig_depth</th>\n",
       "      <th>...</th>\n",
       "      <th>embedding_dim</th>\n",
       "      <th>num_features</th>\n",
       "      <th>log_signature</th>\n",
       "      <th>seed</th>\n",
       "      <th>BiLSTM</th>\n",
       "      <th>gamma</th>\n",
       "      <th>k_fold</th>\n",
       "      <th>n_splits</th>\n",
       "      <th>batch_size</th>\n",
       "      <th>model_id</th>\n",
       "    </tr>\n",
       "    <tr>\n",
       "      <th>dimensions</th>\n",
       "      <th>swnu_hidden_dim</th>\n",
       "      <th>ffn_hidden_dim</th>\n",
       "      <th>dropout_rate</th>\n",
       "      <th>learning_rate</th>\n",
       "      <th></th>\n",
       "      <th></th>\n",
       "      <th></th>\n",
       "      <th></th>\n",
       "      <th></th>\n",
       "      <th></th>\n",
       "      <th></th>\n",
       "      <th></th>\n",
       "      <th></th>\n",
       "      <th></th>\n",
       "      <th></th>\n",
       "      <th></th>\n",
       "      <th></th>\n",
       "      <th></th>\n",
       "      <th></th>\n",
       "      <th></th>\n",
       "      <th></th>\n",
       "      <th></th>\n",
       "      <th></th>\n",
       "      <th></th>\n",
       "      <th></th>\n",
       "    </tr>\n",
       "  </thead>\n",
       "  <tbody>\n",
       "    <tr>\n",
       "      <th rowspan=\"18\" valign=\"top\">15</th>\n",
       "      <th rowspan=\"9\" valign=\"top\">(10,)</th>\n",
       "      <th rowspan=\"3\" valign=\"top\">(32, 32)</th>\n",
       "      <th rowspan=\"3\" valign=\"top\">0.1</th>\n",
       "      <th>0.0001</th>\n",
       "      <td>0.685430</td>\n",
       "      <td>0.669056</td>\n",
       "      <td>0.667229</td>\n",
       "      <td>0.679949</td>\n",
       "      <td>0.787483</td>\n",
       "      <td>0.778720</td>\n",
       "      <td>0.775681</td>\n",
       "      <td>0.784563</td>\n",
       "      <td>20.0</td>\n",
       "      <td>3.0</td>\n",
       "      <td>...</td>\n",
       "      <td>384.0</td>\n",
       "      <td>2.0</td>\n",
       "      <td>1.0</td>\n",
       "      <td>45.333333</td>\n",
       "      <td>1.0</td>\n",
       "      <td>2.0</td>\n",
       "      <td>1.0</td>\n",
       "      <td>5.0</td>\n",
       "      <td>64.0</td>\n",
       "      <td>11.0</td>\n",
       "    </tr>\n",
       "    <tr>\n",
       "      <th>0.0003</th>\n",
       "      <td>0.693756</td>\n",
       "      <td>0.675167</td>\n",
       "      <td>0.672952</td>\n",
       "      <td>0.683891</td>\n",
       "      <td>0.802579</td>\n",
       "      <td>0.792578</td>\n",
       "      <td>0.790623</td>\n",
       "      <td>0.795584</td>\n",
       "      <td>20.0</td>\n",
       "      <td>3.0</td>\n",
       "      <td>...</td>\n",
       "      <td>384.0</td>\n",
       "      <td>2.0</td>\n",
       "      <td>1.0</td>\n",
       "      <td>45.333333</td>\n",
       "      <td>1.0</td>\n",
       "      <td>2.0</td>\n",
       "      <td>1.0</td>\n",
       "      <td>5.0</td>\n",
       "      <td>64.0</td>\n",
       "      <td>10.0</td>\n",
       "    </tr>\n",
       "    <tr>\n",
       "      <th>0.0005</th>\n",
       "      <td>0.689966</td>\n",
       "      <td>0.671905</td>\n",
       "      <td>0.669647</td>\n",
       "      <td>0.681017</td>\n",
       "      <td>0.804466</td>\n",
       "      <td>0.794915</td>\n",
       "      <td>0.792424</td>\n",
       "      <td>0.798376</td>\n",
       "      <td>20.0</td>\n",
       "      <td>3.0</td>\n",
       "      <td>...</td>\n",
       "      <td>384.0</td>\n",
       "      <td>2.0</td>\n",
       "      <td>1.0</td>\n",
       "      <td>45.333333</td>\n",
       "      <td>1.0</td>\n",
       "      <td>2.0</td>\n",
       "      <td>1.0</td>\n",
       "      <td>5.0</td>\n",
       "      <td>64.0</td>\n",
       "      <td>9.0</td>\n",
       "    </tr>\n",
       "    <tr>\n",
       "      <th rowspan=\"3\" valign=\"top\">(128, 128)</th>\n",
       "      <th rowspan=\"3\" valign=\"top\">0.1</th>\n",
       "      <th>0.0001</th>\n",
       "      <td>0.693321</td>\n",
       "      <td>0.675734</td>\n",
       "      <td>0.673590</td>\n",
       "      <td>0.685402</td>\n",
       "      <td>0.775082</td>\n",
       "      <td>0.764842</td>\n",
       "      <td>0.762550</td>\n",
       "      <td>0.769565</td>\n",
       "      <td>20.0</td>\n",
       "      <td>3.0</td>\n",
       "      <td>...</td>\n",
       "      <td>384.0</td>\n",
       "      <td>2.0</td>\n",
       "      <td>1.0</td>\n",
       "      <td>45.333333</td>\n",
       "      <td>1.0</td>\n",
       "      <td>2.0</td>\n",
       "      <td>1.0</td>\n",
       "      <td>5.0</td>\n",
       "      <td>64.0</td>\n",
       "      <td>14.0</td>\n",
       "    </tr>\n",
       "    <tr>\n",
       "      <th>0.0003</th>\n",
       "      <td>0.694688</td>\n",
       "      <td>0.677597</td>\n",
       "      <td>0.675277</td>\n",
       "      <td>0.687643</td>\n",
       "      <td>0.773105</td>\n",
       "      <td>0.763204</td>\n",
       "      <td>0.760405</td>\n",
       "      <td>0.767899</td>\n",
       "      <td>20.0</td>\n",
       "      <td>3.0</td>\n",
       "      <td>...</td>\n",
       "      <td>384.0</td>\n",
       "      <td>2.0</td>\n",
       "      <td>1.0</td>\n",
       "      <td>45.333333</td>\n",
       "      <td>1.0</td>\n",
       "      <td>2.0</td>\n",
       "      <td>1.0</td>\n",
       "      <td>5.0</td>\n",
       "      <td>64.0</td>\n",
       "      <td>13.0</td>\n",
       "    </tr>\n",
       "    <tr>\n",
       "      <th>0.0005</th>\n",
       "      <td>0.693383</td>\n",
       "      <td>0.676329</td>\n",
       "      <td>0.673936</td>\n",
       "      <td>0.686352</td>\n",
       "      <td>0.782271</td>\n",
       "      <td>0.772493</td>\n",
       "      <td>0.769698</td>\n",
       "      <td>0.777070</td>\n",
       "      <td>20.0</td>\n",
       "      <td>3.0</td>\n",
       "      <td>...</td>\n",
       "      <td>384.0</td>\n",
       "      <td>2.0</td>\n",
       "      <td>1.0</td>\n",
       "      <td>45.333333</td>\n",
       "      <td>1.0</td>\n",
       "      <td>2.0</td>\n",
       "      <td>1.0</td>\n",
       "      <td>5.0</td>\n",
       "      <td>64.0</td>\n",
       "      <td>12.0</td>\n",
       "    </tr>\n",
       "    <tr>\n",
       "      <th rowspan=\"3\" valign=\"top\">(512, 512)</th>\n",
       "      <th rowspan=\"3\" valign=\"top\">0.1</th>\n",
       "      <th>0.0001</th>\n",
       "      <td>0.689966</td>\n",
       "      <td>0.673155</td>\n",
       "      <td>0.671090</td>\n",
       "      <td>0.683560</td>\n",
       "      <td>0.758728</td>\n",
       "      <td>0.748299</td>\n",
       "      <td>0.745702</td>\n",
       "      <td>0.752956</td>\n",
       "      <td>20.0</td>\n",
       "      <td>3.0</td>\n",
       "      <td>...</td>\n",
       "      <td>384.0</td>\n",
       "      <td>2.0</td>\n",
       "      <td>1.0</td>\n",
       "      <td>45.333333</td>\n",
       "      <td>1.0</td>\n",
       "      <td>2.0</td>\n",
       "      <td>1.0</td>\n",
       "      <td>5.0</td>\n",
       "      <td>64.0</td>\n",
       "      <td>17.0</td>\n",
       "    </tr>\n",
       "    <tr>\n",
       "      <th>0.0003</th>\n",
       "      <td>0.688661</td>\n",
       "      <td>0.670589</td>\n",
       "      <td>0.668510</td>\n",
       "      <td>0.679768</td>\n",
       "      <td>0.763490</td>\n",
       "      <td>0.752919</td>\n",
       "      <td>0.750540</td>\n",
       "      <td>0.757618</td>\n",
       "      <td>20.0</td>\n",
       "      <td>3.0</td>\n",
       "      <td>...</td>\n",
       "      <td>384.0</td>\n",
       "      <td>2.0</td>\n",
       "      <td>1.0</td>\n",
       "      <td>45.333333</td>\n",
       "      <td>1.0</td>\n",
       "      <td>2.0</td>\n",
       "      <td>1.0</td>\n",
       "      <td>5.0</td>\n",
       "      <td>64.0</td>\n",
       "      <td>16.0</td>\n",
       "    </tr>\n",
       "    <tr>\n",
       "      <th>0.0005</th>\n",
       "      <td>0.689717</td>\n",
       "      <td>0.671713</td>\n",
       "      <td>0.670349</td>\n",
       "      <td>0.681523</td>\n",
       "      <td>0.763400</td>\n",
       "      <td>0.751668</td>\n",
       "      <td>0.750595</td>\n",
       "      <td>0.755418</td>\n",
       "      <td>20.0</td>\n",
       "      <td>3.0</td>\n",
       "      <td>...</td>\n",
       "      <td>384.0</td>\n",
       "      <td>2.0</td>\n",
       "      <td>1.0</td>\n",
       "      <td>45.333333</td>\n",
       "      <td>1.0</td>\n",
       "      <td>2.0</td>\n",
       "      <td>1.0</td>\n",
       "      <td>5.0</td>\n",
       "      <td>64.0</td>\n",
       "      <td>15.0</td>\n",
       "    </tr>\n",
       "    <tr>\n",
       "      <th rowspan=\"9\" valign=\"top\">(12,)</th>\n",
       "      <th rowspan=\"3\" valign=\"top\">(32, 32)</th>\n",
       "      <th rowspan=\"3\" valign=\"top\">0.1</th>\n",
       "      <th>0.0001</th>\n",
       "      <td>0.683380</td>\n",
       "      <td>0.665099</td>\n",
       "      <td>0.662874</td>\n",
       "      <td>0.673984</td>\n",
       "      <td>0.786449</td>\n",
       "      <td>0.776599</td>\n",
       "      <td>0.773885</td>\n",
       "      <td>0.780650</td>\n",
       "      <td>20.0</td>\n",
       "      <td>3.0</td>\n",
       "      <td>...</td>\n",
       "      <td>384.0</td>\n",
       "      <td>2.0</td>\n",
       "      <td>1.0</td>\n",
       "      <td>45.333333</td>\n",
       "      <td>1.0</td>\n",
       "      <td>2.0</td>\n",
       "      <td>1.0</td>\n",
       "      <td>5.0</td>\n",
       "      <td>64.0</td>\n",
       "      <td>2.0</td>\n",
       "    </tr>\n",
       "    <tr>\n",
       "      <th>0.0003</th>\n",
       "      <td>0.683628</td>\n",
       "      <td>0.661770</td>\n",
       "      <td>0.659354</td>\n",
       "      <td>0.667490</td>\n",
       "      <td>0.815878</td>\n",
       "      <td>0.805521</td>\n",
       "      <td>0.804697</td>\n",
       "      <td>0.806488</td>\n",
       "      <td>20.0</td>\n",
       "      <td>3.0</td>\n",
       "      <td>...</td>\n",
       "      <td>384.0</td>\n",
       "      <td>2.0</td>\n",
       "      <td>1.0</td>\n",
       "      <td>45.333333</td>\n",
       "      <td>1.0</td>\n",
       "      <td>2.0</td>\n",
       "      <td>1.0</td>\n",
       "      <td>5.0</td>\n",
       "      <td>64.0</td>\n",
       "      <td>1.0</td>\n",
       "    </tr>\n",
       "    <tr>\n",
       "      <th>0.0005</th>\n",
       "      <td>0.682759</td>\n",
       "      <td>0.664498</td>\n",
       "      <td>0.662489</td>\n",
       "      <td>0.673383</td>\n",
       "      <td>0.829312</td>\n",
       "      <td>0.820996</td>\n",
       "      <td>0.818531</td>\n",
       "      <td>0.824517</td>\n",
       "      <td>20.0</td>\n",
       "      <td>3.0</td>\n",
       "      <td>...</td>\n",
       "      <td>384.0</td>\n",
       "      <td>2.0</td>\n",
       "      <td>1.0</td>\n",
       "      <td>45.333333</td>\n",
       "      <td>1.0</td>\n",
       "      <td>2.0</td>\n",
       "      <td>1.0</td>\n",
       "      <td>5.0</td>\n",
       "      <td>64.0</td>\n",
       "      <td>0.0</td>\n",
       "    </tr>\n",
       "    <tr>\n",
       "      <th rowspan=\"3\" valign=\"top\">(128, 128)</th>\n",
       "      <th rowspan=\"3\" valign=\"top\">0.1</th>\n",
       "      <th>0.0001</th>\n",
       "      <td>0.689655</td>\n",
       "      <td>0.672412</td>\n",
       "      <td>0.670253</td>\n",
       "      <td>0.682296</td>\n",
       "      <td>0.780384</td>\n",
       "      <td>0.770887</td>\n",
       "      <td>0.767925</td>\n",
       "      <td>0.775930</td>\n",
       "      <td>20.0</td>\n",
       "      <td>3.0</td>\n",
       "      <td>...</td>\n",
       "      <td>384.0</td>\n",
       "      <td>2.0</td>\n",
       "      <td>1.0</td>\n",
       "      <td>45.333333</td>\n",
       "      <td>1.0</td>\n",
       "      <td>2.0</td>\n",
       "      <td>1.0</td>\n",
       "      <td>5.0</td>\n",
       "      <td>64.0</td>\n",
       "      <td>5.0</td>\n",
       "    </tr>\n",
       "    <tr>\n",
       "      <th>0.0003</th>\n",
       "      <td>0.694377</td>\n",
       "      <td>0.678492</td>\n",
       "      <td>0.676703</td>\n",
       "      <td>0.689905</td>\n",
       "      <td>0.801770</td>\n",
       "      <td>0.792280</td>\n",
       "      <td>0.789676</td>\n",
       "      <td>0.796017</td>\n",
       "      <td>20.0</td>\n",
       "      <td>3.0</td>\n",
       "      <td>...</td>\n",
       "      <td>384.0</td>\n",
       "      <td>2.0</td>\n",
       "      <td>1.0</td>\n",
       "      <td>45.333333</td>\n",
       "      <td>1.0</td>\n",
       "      <td>2.0</td>\n",
       "      <td>1.0</td>\n",
       "      <td>5.0</td>\n",
       "      <td>64.0</td>\n",
       "      <td>4.0</td>\n",
       "    </tr>\n",
       "    <tr>\n",
       "      <th>0.0005</th>\n",
       "      <td>0.688661</td>\n",
       "      <td>0.669339</td>\n",
       "      <td>0.667207</td>\n",
       "      <td>0.677266</td>\n",
       "      <td>0.800827</td>\n",
       "      <td>0.790439</td>\n",
       "      <td>0.788683</td>\n",
       "      <td>0.792810</td>\n",
       "      <td>20.0</td>\n",
       "      <td>3.0</td>\n",
       "      <td>...</td>\n",
       "      <td>384.0</td>\n",
       "      <td>2.0</td>\n",
       "      <td>1.0</td>\n",
       "      <td>45.333333</td>\n",
       "      <td>1.0</td>\n",
       "      <td>2.0</td>\n",
       "      <td>1.0</td>\n",
       "      <td>5.0</td>\n",
       "      <td>64.0</td>\n",
       "      <td>3.0</td>\n",
       "    </tr>\n",
       "    <tr>\n",
       "      <th rowspan=\"3\" valign=\"top\">(512, 512)</th>\n",
       "      <th rowspan=\"3\" valign=\"top\">0.1</th>\n",
       "      <th>0.0001</th>\n",
       "      <td>0.690090</td>\n",
       "      <td>0.673955</td>\n",
       "      <td>0.671984</td>\n",
       "      <td>0.685050</td>\n",
       "      <td>0.768073</td>\n",
       "      <td>0.757913</td>\n",
       "      <td>0.755199</td>\n",
       "      <td>0.762498</td>\n",
       "      <td>20.0</td>\n",
       "      <td>3.0</td>\n",
       "      <td>...</td>\n",
       "      <td>384.0</td>\n",
       "      <td>2.0</td>\n",
       "      <td>1.0</td>\n",
       "      <td>45.333333</td>\n",
       "      <td>1.0</td>\n",
       "      <td>2.0</td>\n",
       "      <td>1.0</td>\n",
       "      <td>5.0</td>\n",
       "      <td>64.0</td>\n",
       "      <td>8.0</td>\n",
       "    </tr>\n",
       "    <tr>\n",
       "      <th>0.0003</th>\n",
       "      <td>0.690401</td>\n",
       "      <td>0.672435</td>\n",
       "      <td>0.670247</td>\n",
       "      <td>0.681557</td>\n",
       "      <td>0.787797</td>\n",
       "      <td>0.777159</td>\n",
       "      <td>0.775089</td>\n",
       "      <td>0.780336</td>\n",
       "      <td>20.0</td>\n",
       "      <td>3.0</td>\n",
       "      <td>...</td>\n",
       "      <td>384.0</td>\n",
       "      <td>2.0</td>\n",
       "      <td>1.0</td>\n",
       "      <td>45.333333</td>\n",
       "      <td>1.0</td>\n",
       "      <td>2.0</td>\n",
       "      <td>1.0</td>\n",
       "      <td>5.0</td>\n",
       "      <td>64.0</td>\n",
       "      <td>7.0</td>\n",
       "    </tr>\n",
       "    <tr>\n",
       "      <th>0.0005</th>\n",
       "      <td>0.692016</td>\n",
       "      <td>0.673556</td>\n",
       "      <td>0.671520</td>\n",
       "      <td>0.682348</td>\n",
       "      <td>0.785236</td>\n",
       "      <td>0.774764</td>\n",
       "      <td>0.772727</td>\n",
       "      <td>0.778538</td>\n",
       "      <td>20.0</td>\n",
       "      <td>3.0</td>\n",
       "      <td>...</td>\n",
       "      <td>384.0</td>\n",
       "      <td>2.0</td>\n",
       "      <td>1.0</td>\n",
       "      <td>45.333333</td>\n",
       "      <td>1.0</td>\n",
       "      <td>2.0</td>\n",
       "      <td>1.0</td>\n",
       "      <td>5.0</td>\n",
       "      <td>64.0</td>\n",
       "      <td>6.0</td>\n",
       "    </tr>\n",
       "  </tbody>\n",
       "</table>\n",
       "<p>18 rows × 23 columns</p>\n",
       "</div>"
      ],
      "text/plain": [
       "                                                                      accuracy  \\\n",
       "dimensions swnu_hidden_dim ffn_hidden_dim dropout_rate learning_rate             \n",
       "15         (10,)           (32, 32)       0.1          0.0001         0.685430   \n",
       "                                                       0.0003         0.693756   \n",
       "                                                       0.0005         0.689966   \n",
       "                           (128, 128)     0.1          0.0001         0.693321   \n",
       "                                                       0.0003         0.694688   \n",
       "                                                       0.0005         0.693383   \n",
       "                           (512, 512)     0.1          0.0001         0.689966   \n",
       "                                                       0.0003         0.688661   \n",
       "                                                       0.0005         0.689717   \n",
       "           (12,)           (32, 32)       0.1          0.0001         0.683380   \n",
       "                                                       0.0003         0.683628   \n",
       "                                                       0.0005         0.682759   \n",
       "                           (128, 128)     0.1          0.0001         0.689655   \n",
       "                                                       0.0003         0.694377   \n",
       "                                                       0.0005         0.688661   \n",
       "                           (512, 512)     0.1          0.0001         0.690090   \n",
       "                                                       0.0003         0.690401   \n",
       "                                                       0.0005         0.692016   \n",
       "\n",
       "                                                                            f1  \\\n",
       "dimensions swnu_hidden_dim ffn_hidden_dim dropout_rate learning_rate             \n",
       "15         (10,)           (32, 32)       0.1          0.0001         0.669056   \n",
       "                                                       0.0003         0.675167   \n",
       "                                                       0.0005         0.671905   \n",
       "                           (128, 128)     0.1          0.0001         0.675734   \n",
       "                                                       0.0003         0.677597   \n",
       "                                                       0.0005         0.676329   \n",
       "                           (512, 512)     0.1          0.0001         0.673155   \n",
       "                                                       0.0003         0.670589   \n",
       "                                                       0.0005         0.671713   \n",
       "           (12,)           (32, 32)       0.1          0.0001         0.665099   \n",
       "                                                       0.0003         0.661770   \n",
       "                                                       0.0005         0.664498   \n",
       "                           (128, 128)     0.1          0.0001         0.672412   \n",
       "                                                       0.0003         0.678492   \n",
       "                                                       0.0005         0.669339   \n",
       "                           (512, 512)     0.1          0.0001         0.673955   \n",
       "                                                       0.0003         0.672435   \n",
       "                                                       0.0005         0.673556   \n",
       "\n",
       "                                                                      precision  \\\n",
       "dimensions swnu_hidden_dim ffn_hidden_dim dropout_rate learning_rate              \n",
       "15         (10,)           (32, 32)       0.1          0.0001          0.667229   \n",
       "                                                       0.0003          0.672952   \n",
       "                                                       0.0005          0.669647   \n",
       "                           (128, 128)     0.1          0.0001          0.673590   \n",
       "                                                       0.0003          0.675277   \n",
       "                                                       0.0005          0.673936   \n",
       "                           (512, 512)     0.1          0.0001          0.671090   \n",
       "                                                       0.0003          0.668510   \n",
       "                                                       0.0005          0.670349   \n",
       "           (12,)           (32, 32)       0.1          0.0001          0.662874   \n",
       "                                                       0.0003          0.659354   \n",
       "                                                       0.0005          0.662489   \n",
       "                           (128, 128)     0.1          0.0001          0.670253   \n",
       "                                                       0.0003          0.676703   \n",
       "                                                       0.0005          0.667207   \n",
       "                           (512, 512)     0.1          0.0001          0.671984   \n",
       "                                                       0.0003          0.670247   \n",
       "                                                       0.0005          0.671520   \n",
       "\n",
       "                                                                        recall  \\\n",
       "dimensions swnu_hidden_dim ffn_hidden_dim dropout_rate learning_rate             \n",
       "15         (10,)           (32, 32)       0.1          0.0001         0.679949   \n",
       "                                                       0.0003         0.683891   \n",
       "                                                       0.0005         0.681017   \n",
       "                           (128, 128)     0.1          0.0001         0.685402   \n",
       "                                                       0.0003         0.687643   \n",
       "                                                       0.0005         0.686352   \n",
       "                           (512, 512)     0.1          0.0001         0.683560   \n",
       "                                                       0.0003         0.679768   \n",
       "                                                       0.0005         0.681523   \n",
       "           (12,)           (32, 32)       0.1          0.0001         0.673984   \n",
       "                                                       0.0003         0.667490   \n",
       "                                                       0.0005         0.673383   \n",
       "                           (128, 128)     0.1          0.0001         0.682296   \n",
       "                                                       0.0003         0.689905   \n",
       "                                                       0.0005         0.677266   \n",
       "                           (512, 512)     0.1          0.0001         0.685050   \n",
       "                                                       0.0003         0.681557   \n",
       "                                                       0.0005         0.682348   \n",
       "\n",
       "                                                                      valid_accuracy  \\\n",
       "dimensions swnu_hidden_dim ffn_hidden_dim dropout_rate learning_rate                   \n",
       "15         (10,)           (32, 32)       0.1          0.0001               0.787483   \n",
       "                                                       0.0003               0.802579   \n",
       "                                                       0.0005               0.804466   \n",
       "                           (128, 128)     0.1          0.0001               0.775082   \n",
       "                                                       0.0003               0.773105   \n",
       "                                                       0.0005               0.782271   \n",
       "                           (512, 512)     0.1          0.0001               0.758728   \n",
       "                                                       0.0003               0.763490   \n",
       "                                                       0.0005               0.763400   \n",
       "           (12,)           (32, 32)       0.1          0.0001               0.786449   \n",
       "                                                       0.0003               0.815878   \n",
       "                                                       0.0005               0.829312   \n",
       "                           (128, 128)     0.1          0.0001               0.780384   \n",
       "                                                       0.0003               0.801770   \n",
       "                                                       0.0005               0.800827   \n",
       "                           (512, 512)     0.1          0.0001               0.768073   \n",
       "                                                       0.0003               0.787797   \n",
       "                                                       0.0005               0.785236   \n",
       "\n",
       "                                                                      valid_f1  \\\n",
       "dimensions swnu_hidden_dim ffn_hidden_dim dropout_rate learning_rate             \n",
       "15         (10,)           (32, 32)       0.1          0.0001         0.778720   \n",
       "                                                       0.0003         0.792578   \n",
       "                                                       0.0005         0.794915   \n",
       "                           (128, 128)     0.1          0.0001         0.764842   \n",
       "                                                       0.0003         0.763204   \n",
       "                                                       0.0005         0.772493   \n",
       "                           (512, 512)     0.1          0.0001         0.748299   \n",
       "                                                       0.0003         0.752919   \n",
       "                                                       0.0005         0.751668   \n",
       "           (12,)           (32, 32)       0.1          0.0001         0.776599   \n",
       "                                                       0.0003         0.805521   \n",
       "                                                       0.0005         0.820996   \n",
       "                           (128, 128)     0.1          0.0001         0.770887   \n",
       "                                                       0.0003         0.792280   \n",
       "                                                       0.0005         0.790439   \n",
       "                           (512, 512)     0.1          0.0001         0.757913   \n",
       "                                                       0.0003         0.777159   \n",
       "                                                       0.0005         0.774764   \n",
       "\n",
       "                                                                      valid_precision  \\\n",
       "dimensions swnu_hidden_dim ffn_hidden_dim dropout_rate learning_rate                    \n",
       "15         (10,)           (32, 32)       0.1          0.0001                0.775681   \n",
       "                                                       0.0003                0.790623   \n",
       "                                                       0.0005                0.792424   \n",
       "                           (128, 128)     0.1          0.0001                0.762550   \n",
       "                                                       0.0003                0.760405   \n",
       "                                                       0.0005                0.769698   \n",
       "                           (512, 512)     0.1          0.0001                0.745702   \n",
       "                                                       0.0003                0.750540   \n",
       "                                                       0.0005                0.750595   \n",
       "           (12,)           (32, 32)       0.1          0.0001                0.773885   \n",
       "                                                       0.0003                0.804697   \n",
       "                                                       0.0005                0.818531   \n",
       "                           (128, 128)     0.1          0.0001                0.767925   \n",
       "                                                       0.0003                0.789676   \n",
       "                                                       0.0005                0.788683   \n",
       "                           (512, 512)     0.1          0.0001                0.755199   \n",
       "                                                       0.0003                0.775089   \n",
       "                                                       0.0005                0.772727   \n",
       "\n",
       "                                                                      valid_recall  \\\n",
       "dimensions swnu_hidden_dim ffn_hidden_dim dropout_rate learning_rate                 \n",
       "15         (10,)           (32, 32)       0.1          0.0001             0.784563   \n",
       "                                                       0.0003             0.795584   \n",
       "                                                       0.0005             0.798376   \n",
       "                           (128, 128)     0.1          0.0001             0.769565   \n",
       "                                                       0.0003             0.767899   \n",
       "                                                       0.0005             0.777070   \n",
       "                           (512, 512)     0.1          0.0001             0.752956   \n",
       "                                                       0.0003             0.757618   \n",
       "                                                       0.0005             0.755418   \n",
       "           (12,)           (32, 32)       0.1          0.0001             0.780650   \n",
       "                                                       0.0003             0.806488   \n",
       "                                                       0.0005             0.824517   \n",
       "                           (128, 128)     0.1          0.0001             0.775930   \n",
       "                                                       0.0003             0.796017   \n",
       "                                                       0.0005             0.792810   \n",
       "                           (512, 512)     0.1          0.0001             0.762498   \n",
       "                                                       0.0003             0.780336   \n",
       "                                                       0.0005             0.778538   \n",
       "\n",
       "                                                                         k  \\\n",
       "dimensions swnu_hidden_dim ffn_hidden_dim dropout_rate learning_rate         \n",
       "15         (10,)           (32, 32)       0.1          0.0001         20.0   \n",
       "                                                       0.0003         20.0   \n",
       "                                                       0.0005         20.0   \n",
       "                           (128, 128)     0.1          0.0001         20.0   \n",
       "                                                       0.0003         20.0   \n",
       "                                                       0.0005         20.0   \n",
       "                           (512, 512)     0.1          0.0001         20.0   \n",
       "                                                       0.0003         20.0   \n",
       "                                                       0.0005         20.0   \n",
       "           (12,)           (32, 32)       0.1          0.0001         20.0   \n",
       "                                                       0.0003         20.0   \n",
       "                                                       0.0005         20.0   \n",
       "                           (128, 128)     0.1          0.0001         20.0   \n",
       "                                                       0.0003         20.0   \n",
       "                                                       0.0005         20.0   \n",
       "                           (512, 512)     0.1          0.0001         20.0   \n",
       "                                                       0.0003         20.0   \n",
       "                                                       0.0005         20.0   \n",
       "\n",
       "                                                                      sig_depth  \\\n",
       "dimensions swnu_hidden_dim ffn_hidden_dim dropout_rate learning_rate              \n",
       "15         (10,)           (32, 32)       0.1          0.0001               3.0   \n",
       "                                                       0.0003               3.0   \n",
       "                                                       0.0005               3.0   \n",
       "                           (128, 128)     0.1          0.0001               3.0   \n",
       "                                                       0.0003               3.0   \n",
       "                                                       0.0005               3.0   \n",
       "                           (512, 512)     0.1          0.0001               3.0   \n",
       "                                                       0.0003               3.0   \n",
       "                                                       0.0005               3.0   \n",
       "           (12,)           (32, 32)       0.1          0.0001               3.0   \n",
       "                                                       0.0003               3.0   \n",
       "                                                       0.0005               3.0   \n",
       "                           (128, 128)     0.1          0.0001               3.0   \n",
       "                                                       0.0003               3.0   \n",
       "                                                       0.0005               3.0   \n",
       "                           (512, 512)     0.1          0.0001               3.0   \n",
       "                                                       0.0003               3.0   \n",
       "                                                       0.0005               3.0   \n",
       "\n",
       "                                                                      ...  \\\n",
       "dimensions swnu_hidden_dim ffn_hidden_dim dropout_rate learning_rate  ...   \n",
       "15         (10,)           (32, 32)       0.1          0.0001         ...   \n",
       "                                                       0.0003         ...   \n",
       "                                                       0.0005         ...   \n",
       "                           (128, 128)     0.1          0.0001         ...   \n",
       "                                                       0.0003         ...   \n",
       "                                                       0.0005         ...   \n",
       "                           (512, 512)     0.1          0.0001         ...   \n",
       "                                                       0.0003         ...   \n",
       "                                                       0.0005         ...   \n",
       "           (12,)           (32, 32)       0.1          0.0001         ...   \n",
       "                                                       0.0003         ...   \n",
       "                                                       0.0005         ...   \n",
       "                           (128, 128)     0.1          0.0001         ...   \n",
       "                                                       0.0003         ...   \n",
       "                                                       0.0005         ...   \n",
       "                           (512, 512)     0.1          0.0001         ...   \n",
       "                                                       0.0003         ...   \n",
       "                                                       0.0005         ...   \n",
       "\n",
       "                                                                      embedding_dim  \\\n",
       "dimensions swnu_hidden_dim ffn_hidden_dim dropout_rate learning_rate                  \n",
       "15         (10,)           (32, 32)       0.1          0.0001                 384.0   \n",
       "                                                       0.0003                 384.0   \n",
       "                                                       0.0005                 384.0   \n",
       "                           (128, 128)     0.1          0.0001                 384.0   \n",
       "                                                       0.0003                 384.0   \n",
       "                                                       0.0005                 384.0   \n",
       "                           (512, 512)     0.1          0.0001                 384.0   \n",
       "                                                       0.0003                 384.0   \n",
       "                                                       0.0005                 384.0   \n",
       "           (12,)           (32, 32)       0.1          0.0001                 384.0   \n",
       "                                                       0.0003                 384.0   \n",
       "                                                       0.0005                 384.0   \n",
       "                           (128, 128)     0.1          0.0001                 384.0   \n",
       "                                                       0.0003                 384.0   \n",
       "                                                       0.0005                 384.0   \n",
       "                           (512, 512)     0.1          0.0001                 384.0   \n",
       "                                                       0.0003                 384.0   \n",
       "                                                       0.0005                 384.0   \n",
       "\n",
       "                                                                      num_features  \\\n",
       "dimensions swnu_hidden_dim ffn_hidden_dim dropout_rate learning_rate                 \n",
       "15         (10,)           (32, 32)       0.1          0.0001                  2.0   \n",
       "                                                       0.0003                  2.0   \n",
       "                                                       0.0005                  2.0   \n",
       "                           (128, 128)     0.1          0.0001                  2.0   \n",
       "                                                       0.0003                  2.0   \n",
       "                                                       0.0005                  2.0   \n",
       "                           (512, 512)     0.1          0.0001                  2.0   \n",
       "                                                       0.0003                  2.0   \n",
       "                                                       0.0005                  2.0   \n",
       "           (12,)           (32, 32)       0.1          0.0001                  2.0   \n",
       "                                                       0.0003                  2.0   \n",
       "                                                       0.0005                  2.0   \n",
       "                           (128, 128)     0.1          0.0001                  2.0   \n",
       "                                                       0.0003                  2.0   \n",
       "                                                       0.0005                  2.0   \n",
       "                           (512, 512)     0.1          0.0001                  2.0   \n",
       "                                                       0.0003                  2.0   \n",
       "                                                       0.0005                  2.0   \n",
       "\n",
       "                                                                      log_signature  \\\n",
       "dimensions swnu_hidden_dim ffn_hidden_dim dropout_rate learning_rate                  \n",
       "15         (10,)           (32, 32)       0.1          0.0001                   1.0   \n",
       "                                                       0.0003                   1.0   \n",
       "                                                       0.0005                   1.0   \n",
       "                           (128, 128)     0.1          0.0001                   1.0   \n",
       "                                                       0.0003                   1.0   \n",
       "                                                       0.0005                   1.0   \n",
       "                           (512, 512)     0.1          0.0001                   1.0   \n",
       "                                                       0.0003                   1.0   \n",
       "                                                       0.0005                   1.0   \n",
       "           (12,)           (32, 32)       0.1          0.0001                   1.0   \n",
       "                                                       0.0003                   1.0   \n",
       "                                                       0.0005                   1.0   \n",
       "                           (128, 128)     0.1          0.0001                   1.0   \n",
       "                                                       0.0003                   1.0   \n",
       "                                                       0.0005                   1.0   \n",
       "                           (512, 512)     0.1          0.0001                   1.0   \n",
       "                                                       0.0003                   1.0   \n",
       "                                                       0.0005                   1.0   \n",
       "\n",
       "                                                                           seed  \\\n",
       "dimensions swnu_hidden_dim ffn_hidden_dim dropout_rate learning_rate              \n",
       "15         (10,)           (32, 32)       0.1          0.0001         45.333333   \n",
       "                                                       0.0003         45.333333   \n",
       "                                                       0.0005         45.333333   \n",
       "                           (128, 128)     0.1          0.0001         45.333333   \n",
       "                                                       0.0003         45.333333   \n",
       "                                                       0.0005         45.333333   \n",
       "                           (512, 512)     0.1          0.0001         45.333333   \n",
       "                                                       0.0003         45.333333   \n",
       "                                                       0.0005         45.333333   \n",
       "           (12,)           (32, 32)       0.1          0.0001         45.333333   \n",
       "                                                       0.0003         45.333333   \n",
       "                                                       0.0005         45.333333   \n",
       "                           (128, 128)     0.1          0.0001         45.333333   \n",
       "                                                       0.0003         45.333333   \n",
       "                                                       0.0005         45.333333   \n",
       "                           (512, 512)     0.1          0.0001         45.333333   \n",
       "                                                       0.0003         45.333333   \n",
       "                                                       0.0005         45.333333   \n",
       "\n",
       "                                                                      BiLSTM  \\\n",
       "dimensions swnu_hidden_dim ffn_hidden_dim dropout_rate learning_rate           \n",
       "15         (10,)           (32, 32)       0.1          0.0001            1.0   \n",
       "                                                       0.0003            1.0   \n",
       "                                                       0.0005            1.0   \n",
       "                           (128, 128)     0.1          0.0001            1.0   \n",
       "                                                       0.0003            1.0   \n",
       "                                                       0.0005            1.0   \n",
       "                           (512, 512)     0.1          0.0001            1.0   \n",
       "                                                       0.0003            1.0   \n",
       "                                                       0.0005            1.0   \n",
       "           (12,)           (32, 32)       0.1          0.0001            1.0   \n",
       "                                                       0.0003            1.0   \n",
       "                                                       0.0005            1.0   \n",
       "                           (128, 128)     0.1          0.0001            1.0   \n",
       "                                                       0.0003            1.0   \n",
       "                                                       0.0005            1.0   \n",
       "                           (512, 512)     0.1          0.0001            1.0   \n",
       "                                                       0.0003            1.0   \n",
       "                                                       0.0005            1.0   \n",
       "\n",
       "                                                                      gamma  \\\n",
       "dimensions swnu_hidden_dim ffn_hidden_dim dropout_rate learning_rate          \n",
       "15         (10,)           (32, 32)       0.1          0.0001           2.0   \n",
       "                                                       0.0003           2.0   \n",
       "                                                       0.0005           2.0   \n",
       "                           (128, 128)     0.1          0.0001           2.0   \n",
       "                                                       0.0003           2.0   \n",
       "                                                       0.0005           2.0   \n",
       "                           (512, 512)     0.1          0.0001           2.0   \n",
       "                                                       0.0003           2.0   \n",
       "                                                       0.0005           2.0   \n",
       "           (12,)           (32, 32)       0.1          0.0001           2.0   \n",
       "                                                       0.0003           2.0   \n",
       "                                                       0.0005           2.0   \n",
       "                           (128, 128)     0.1          0.0001           2.0   \n",
       "                                                       0.0003           2.0   \n",
       "                                                       0.0005           2.0   \n",
       "                           (512, 512)     0.1          0.0001           2.0   \n",
       "                                                       0.0003           2.0   \n",
       "                                                       0.0005           2.0   \n",
       "\n",
       "                                                                      k_fold  \\\n",
       "dimensions swnu_hidden_dim ffn_hidden_dim dropout_rate learning_rate           \n",
       "15         (10,)           (32, 32)       0.1          0.0001            1.0   \n",
       "                                                       0.0003            1.0   \n",
       "                                                       0.0005            1.0   \n",
       "                           (128, 128)     0.1          0.0001            1.0   \n",
       "                                                       0.0003            1.0   \n",
       "                                                       0.0005            1.0   \n",
       "                           (512, 512)     0.1          0.0001            1.0   \n",
       "                                                       0.0003            1.0   \n",
       "                                                       0.0005            1.0   \n",
       "           (12,)           (32, 32)       0.1          0.0001            1.0   \n",
       "                                                       0.0003            1.0   \n",
       "                                                       0.0005            1.0   \n",
       "                           (128, 128)     0.1          0.0001            1.0   \n",
       "                                                       0.0003            1.0   \n",
       "                                                       0.0005            1.0   \n",
       "                           (512, 512)     0.1          0.0001            1.0   \n",
       "                                                       0.0003            1.0   \n",
       "                                                       0.0005            1.0   \n",
       "\n",
       "                                                                      n_splits  \\\n",
       "dimensions swnu_hidden_dim ffn_hidden_dim dropout_rate learning_rate             \n",
       "15         (10,)           (32, 32)       0.1          0.0001              5.0   \n",
       "                                                       0.0003              5.0   \n",
       "                                                       0.0005              5.0   \n",
       "                           (128, 128)     0.1          0.0001              5.0   \n",
       "                                                       0.0003              5.0   \n",
       "                                                       0.0005              5.0   \n",
       "                           (512, 512)     0.1          0.0001              5.0   \n",
       "                                                       0.0003              5.0   \n",
       "                                                       0.0005              5.0   \n",
       "           (12,)           (32, 32)       0.1          0.0001              5.0   \n",
       "                                                       0.0003              5.0   \n",
       "                                                       0.0005              5.0   \n",
       "                           (128, 128)     0.1          0.0001              5.0   \n",
       "                                                       0.0003              5.0   \n",
       "                                                       0.0005              5.0   \n",
       "                           (512, 512)     0.1          0.0001              5.0   \n",
       "                                                       0.0003              5.0   \n",
       "                                                       0.0005              5.0   \n",
       "\n",
       "                                                                      batch_size  \\\n",
       "dimensions swnu_hidden_dim ffn_hidden_dim dropout_rate learning_rate               \n",
       "15         (10,)           (32, 32)       0.1          0.0001               64.0   \n",
       "                                                       0.0003               64.0   \n",
       "                                                       0.0005               64.0   \n",
       "                           (128, 128)     0.1          0.0001               64.0   \n",
       "                                                       0.0003               64.0   \n",
       "                                                       0.0005               64.0   \n",
       "                           (512, 512)     0.1          0.0001               64.0   \n",
       "                                                       0.0003               64.0   \n",
       "                                                       0.0005               64.0   \n",
       "           (12,)           (32, 32)       0.1          0.0001               64.0   \n",
       "                                                       0.0003               64.0   \n",
       "                                                       0.0005               64.0   \n",
       "                           (128, 128)     0.1          0.0001               64.0   \n",
       "                                                       0.0003               64.0   \n",
       "                                                       0.0005               64.0   \n",
       "                           (512, 512)     0.1          0.0001               64.0   \n",
       "                                                       0.0003               64.0   \n",
       "                                                       0.0005               64.0   \n",
       "\n",
       "                                                                      model_id  \n",
       "dimensions swnu_hidden_dim ffn_hidden_dim dropout_rate learning_rate            \n",
       "15         (10,)           (32, 32)       0.1          0.0001             11.0  \n",
       "                                                       0.0003             10.0  \n",
       "                                                       0.0005              9.0  \n",
       "                           (128, 128)     0.1          0.0001             14.0  \n",
       "                                                       0.0003             13.0  \n",
       "                                                       0.0005             12.0  \n",
       "                           (512, 512)     0.1          0.0001             17.0  \n",
       "                                                       0.0003             16.0  \n",
       "                                                       0.0005             15.0  \n",
       "           (12,)           (32, 32)       0.1          0.0001              2.0  \n",
       "                                                       0.0003              1.0  \n",
       "                                                       0.0005              0.0  \n",
       "                           (128, 128)     0.1          0.0001              5.0  \n",
       "                                                       0.0003              4.0  \n",
       "                                                       0.0005              3.0  \n",
       "                           (512, 512)     0.1          0.0001              8.0  \n",
       "                                                       0.0003              7.0  \n",
       "                                                       0.0005              6.0  \n",
       "\n",
       "[18 rows x 23 columns]"
      ]
     },
     "execution_count": 32,
     "metadata": {},
     "output_type": "execute_result"
    }
   ],
   "source": [
    "swnu_network_umap_kfold_20.groupby(\n",
    "    [\"dimensions\", \"swnu_hidden_dim\", \"ffn_hidden_dim\", \"dropout_rate\", \"learning_rate\"]\n",
    ").mean()"
   ]
  },
  {
   "cell_type": "code",
   "execution_count": 33,
   "metadata": {},
   "outputs": [
    {
     "data": {
      "text/html": [
       "<div>\n",
       "<style scoped>\n",
       "    .dataframe tbody tr th:only-of-type {\n",
       "        vertical-align: middle;\n",
       "    }\n",
       "\n",
       "    .dataframe tbody tr th {\n",
       "        vertical-align: top;\n",
       "    }\n",
       "\n",
       "    .dataframe thead th {\n",
       "        text-align: right;\n",
       "    }\n",
       "</style>\n",
       "<table border=\"1\" class=\"dataframe\">\n",
       "  <thead>\n",
       "    <tr style=\"text-align: right;\">\n",
       "      <th></th>\n",
       "      <th>loss</th>\n",
       "      <th>accuracy</th>\n",
       "      <th>f1</th>\n",
       "      <th>f1_scores</th>\n",
       "      <th>precision</th>\n",
       "      <th>precision_scores</th>\n",
       "      <th>recall</th>\n",
       "      <th>recall_scores</th>\n",
       "      <th>valid_loss</th>\n",
       "      <th>valid_accuracy</th>\n",
       "      <th>...</th>\n",
       "      <th>seed</th>\n",
       "      <th>BiLSTM</th>\n",
       "      <th>loss_function</th>\n",
       "      <th>gamma</th>\n",
       "      <th>k_fold</th>\n",
       "      <th>n_splits</th>\n",
       "      <th>augmentation_type</th>\n",
       "      <th>hidden_dim_aug</th>\n",
       "      <th>comb_method</th>\n",
       "      <th>batch_size</th>\n",
       "    </tr>\n",
       "  </thead>\n",
       "  <tbody>\n",
       "    <tr>\n",
       "      <th>0</th>\n",
       "      <td>None</td>\n",
       "      <td>0.676608</td>\n",
       "      <td>0.656369</td>\n",
       "      <td>[0.7397630118494075, 0.5729756337681516]</td>\n",
       "      <td>0.654098</td>\n",
       "      <td>[0.7757156338471217, 0.5324794144556267]</td>\n",
       "      <td>0.663567</td>\n",
       "      <td>[0.7069954128440367, 0.6201385189131593]</td>\n",
       "      <td>None</td>\n",
       "      <td>0.815204</td>\n",
       "      <td>...</td>\n",
       "      <td>1</td>\n",
       "      <td>True</td>\n",
       "      <td>focal</td>\n",
       "      <td>2</td>\n",
       "      <td>True</td>\n",
       "      <td>5</td>\n",
       "      <td>Conv1d</td>\n",
       "      <td>None</td>\n",
       "      <td>concatenation</td>\n",
       "      <td>64</td>\n",
       "    </tr>\n",
       "    <tr>\n",
       "      <th>0</th>\n",
       "      <td>None</td>\n",
       "      <td>0.688164</td>\n",
       "      <td>0.665587</td>\n",
       "      <td>[0.7524781772451546, 0.5786955426844623]</td>\n",
       "      <td>0.663074</td>\n",
       "      <td>[0.7774380923265056, 0.5487106017191977]</td>\n",
       "      <td>0.670609</td>\n",
       "      <td>[0.7290711009174312, 0.6121470431539691]</td>\n",
       "      <td>None</td>\n",
       "      <td>0.834075</td>\n",
       "      <td>...</td>\n",
       "      <td>12</td>\n",
       "      <td>True</td>\n",
       "      <td>focal</td>\n",
       "      <td>2</td>\n",
       "      <td>True</td>\n",
       "      <td>5</td>\n",
       "      <td>Conv1d</td>\n",
       "      <td>None</td>\n",
       "      <td>concatenation</td>\n",
       "      <td>64</td>\n",
       "    </tr>\n",
       "    <tr>\n",
       "      <th>0</th>\n",
       "      <td>None</td>\n",
       "      <td>0.686114</td>\n",
       "      <td>0.663353</td>\n",
       "      <td>[0.7508875739644971, 0.5758186397984887]</td>\n",
       "      <td>0.660889</td>\n",
       "      <td>[0.7756723716381418, 0.5461060678451983]</td>\n",
       "      <td>0.668294</td>\n",
       "      <td>[0.7276376146788991, 0.608950452850293]</td>\n",
       "      <td>None</td>\n",
       "      <td>0.798356</td>\n",
       "      <td>...</td>\n",
       "      <td>123</td>\n",
       "      <td>True</td>\n",
       "      <td>focal</td>\n",
       "      <td>2</td>\n",
       "      <td>True</td>\n",
       "      <td>5</td>\n",
       "      <td>Conv1d</td>\n",
       "      <td>None</td>\n",
       "      <td>concatenation</td>\n",
       "      <td>64</td>\n",
       "    </tr>\n",
       "  </tbody>\n",
       "</table>\n",
       "<p>3 rows × 44 columns</p>\n",
       "</div>"
      ],
      "text/plain": [
       "   loss  accuracy        f1                                 f1_scores  \\\n",
       "0  None  0.676608  0.656369  [0.7397630118494075, 0.5729756337681516]   \n",
       "0  None  0.688164  0.665587  [0.7524781772451546, 0.5786955426844623]   \n",
       "0  None  0.686114  0.663353  [0.7508875739644971, 0.5758186397984887]   \n",
       "\n",
       "   precision                          precision_scores    recall  \\\n",
       "0   0.654098  [0.7757156338471217, 0.5324794144556267]  0.663567   \n",
       "0   0.663074  [0.7774380923265056, 0.5487106017191977]  0.670609   \n",
       "0   0.660889  [0.7756723716381418, 0.5461060678451983]  0.668294   \n",
       "\n",
       "                              recall_scores valid_loss  valid_accuracy  ...  \\\n",
       "0  [0.7069954128440367, 0.6201385189131593]       None        0.815204  ...   \n",
       "0  [0.7290711009174312, 0.6121470431539691]       None        0.834075  ...   \n",
       "0   [0.7276376146788991, 0.608950452850293]       None        0.798356  ...   \n",
       "\n",
       "   seed BiLSTM  loss_function gamma  k_fold n_splits  augmentation_type  \\\n",
       "0     1   True          focal     2    True        5             Conv1d   \n",
       "0    12   True          focal     2    True        5             Conv1d   \n",
       "0   123   True          focal     2    True        5             Conv1d   \n",
       "\n",
       "   hidden_dim_aug    comb_method batch_size  \n",
       "0            None  concatenation         64  \n",
       "0            None  concatenation         64  \n",
       "0            None  concatenation         64  \n",
       "\n",
       "[3 rows x 44 columns]"
      ]
     },
     "execution_count": 33,
     "metadata": {},
     "output_type": "execute_result"
    }
   ],
   "source": [
    "best_swnu_network_umap_kfold_20"
   ]
  },
  {
   "cell_type": "code",
   "execution_count": 34,
   "metadata": {},
   "outputs": [
    {
     "data": {
      "text/plain": [
       "0.6617697632183602"
      ]
     },
     "execution_count": 34,
     "metadata": {},
     "output_type": "execute_result"
    }
   ],
   "source": [
    "best_swnu_network_umap_kfold_20[\"f1\"].mean()"
   ]
  },
  {
   "cell_type": "code",
   "execution_count": 35,
   "metadata": {},
   "outputs": [
    {
     "data": {
      "text/plain": [
       "0.6593536969719653"
      ]
     },
     "execution_count": 35,
     "metadata": {},
     "output_type": "execute_result"
    }
   ],
   "source": [
    "best_swnu_network_umap_kfold_20[\"precision\"].mean()"
   ]
  },
  {
   "cell_type": "code",
   "execution_count": 36,
   "metadata": {},
   "outputs": [
    {
     "data": {
      "text/plain": [
       "0.6674900238929647"
      ]
     },
     "execution_count": 36,
     "metadata": {},
     "output_type": "execute_result"
    }
   ],
   "source": [
    "best_swnu_network_umap_kfold_20[\"recall\"].mean()"
   ]
  },
  {
   "cell_type": "code",
   "execution_count": 37,
   "metadata": {},
   "outputs": [
    {
     "data": {
      "text/plain": [
       "array([0.74770959, 0.57582994])"
      ]
     },
     "execution_count": 37,
     "metadata": {},
     "output_type": "execute_result"
    }
   ],
   "source": [
    "np.stack(best_swnu_network_umap_kfold_20[\"f1_scores\"]).mean(axis=0)"
   ]
  },
  {
   "cell_type": "code",
   "execution_count": 38,
   "metadata": {},
   "outputs": [
    {
     "data": {
      "text/plain": [
       "array([0.77627537, 0.54243203])"
      ]
     },
     "execution_count": 38,
     "metadata": {},
     "output_type": "execute_result"
    }
   ],
   "source": [
    "np.stack(best_swnu_network_umap_kfold_20[\"precision_scores\"]).mean(axis=0)"
   ]
  },
  {
   "cell_type": "code",
   "execution_count": 39,
   "metadata": {},
   "outputs": [
    {
     "data": {
      "text/plain": [
       "array([0.72123471, 0.61374534])"
      ]
     },
     "execution_count": 39,
     "metadata": {},
     "output_type": "execute_result"
    }
   ],
   "source": [
    "np.stack(best_swnu_network_umap_kfold_20[\"recall_scores\"]).mean(axis=0)"
   ]
  },
  {
   "cell_type": "markdown",
   "metadata": {
    "tags": []
   },
   "source": [
    "# w=35"
   ]
  },
  {
   "cell_type": "code",
   "execution_count": 40,
   "metadata": {},
   "outputs": [],
   "source": [
    "size = 35"
   ]
  },
  {
   "cell_type": "markdown",
   "metadata": {},
   "source": [
    "## umap"
   ]
  },
  {
   "cell_type": "code",
   "execution_count": null,
   "metadata": {},
   "outputs": [],
   "source": [
    "(\n",
    "    swnu_network_umap_kfold_35,\n",
    "    best_swnu_network_umap_kfold_35,\n",
    "    _,\n",
    "    __,\n",
    ") = swnu_network_hyperparameter_search(\n",
    "    history_lengths=[size],\n",
    "    dim_reduce_methods=[\"umap\"],\n",
    "    results_output=f\"{output_dir}/swnu_network_umap_focal_{gamma}_{size}_kfold.csv\",\n",
    "    **kwargs,\n",
    ")"
   ]
  },
  {
   "cell_type": "code",
   "execution_count": null,
   "metadata": {},
   "outputs": [],
   "source": [
    "swnu_network_umap_kfold_35.groupby(\n",
    "    [\"dimensions\", \"swnu_hidden_dim\", \"ffn_hidden_dim\", \"dropout_rate\", \"learning_rate\"]\n",
    ").mean()"
   ]
  },
  {
   "cell_type": "code",
   "execution_count": null,
   "metadata": {},
   "outputs": [],
   "source": [
    "best_swnu_network_umap_kfold_35"
   ]
  },
  {
   "cell_type": "code",
   "execution_count": null,
   "metadata": {},
   "outputs": [],
   "source": [
    "best_swnu_network_umap_kfold_35[\"f1\"].mean()"
   ]
  },
  {
   "cell_type": "code",
   "execution_count": null,
   "metadata": {},
   "outputs": [],
   "source": [
    "best_swnu_network_umap_kfold_35[\"precision\"].mean()"
   ]
  },
  {
   "cell_type": "code",
   "execution_count": null,
   "metadata": {},
   "outputs": [],
   "source": [
    "best_swnu_network_umap_kfold_35[\"recall\"].mean()"
   ]
  },
  {
   "cell_type": "code",
   "execution_count": null,
   "metadata": {},
   "outputs": [],
   "source": [
    "np.stack(best_swnu_network_umap_kfold_35[\"f1_scores\"]).mean(axis=0)"
   ]
  },
  {
   "cell_type": "code",
   "execution_count": null,
   "metadata": {},
   "outputs": [],
   "source": [
    "np.stack(best_swnu_network_umap_kfold_35[\"precision_scores\"]).mean(axis=0)"
   ]
  },
  {
   "cell_type": "code",
   "execution_count": null,
   "metadata": {},
   "outputs": [],
   "source": [
    "np.stack(best_swnu_network_umap_kfold_35[\"recall_scores\"]).mean(axis=0)"
   ]
  },
  {
   "cell_type": "markdown",
   "metadata": {},
   "source": [
    "# w=80"
   ]
  },
  {
   "cell_type": "code",
   "execution_count": null,
   "metadata": {},
   "outputs": [],
   "source": [
    "size = 80"
   ]
  },
  {
   "cell_type": "markdown",
   "metadata": {},
   "source": [
    "## umap"
   ]
  },
  {
   "cell_type": "code",
   "execution_count": null,
   "metadata": {},
   "outputs": [],
   "source": [
    "(\n",
    "    swnu_network_umap_kfold_80,\n",
    "    best_swnu_network_umap_kfold_80,\n",
    "    _,\n",
    "    __,\n",
    ") = swnu_network_hyperparameter_search(\n",
    "    history_lengths=[size],\n",
    "    dim_reduce_methods=[\"umap\"],\n",
    "    results_output=f\"{output_dir}/swnu_network_umap_focal_{gamma}_{size}_kfold.csv\",\n",
    "    **kwargs,\n",
    ")"
   ]
  },
  {
   "cell_type": "code",
   "execution_count": null,
   "metadata": {},
   "outputs": [],
   "source": [
    "swnu_network_umap_kfold_80.groupby(\n",
    "    [\"dimensions\", \"swnu_hidden_dim\", \"ffn_hidden_dim\", \"dropout_rate\", \"learning_rate\"]\n",
    ").mean()"
   ]
  },
  {
   "cell_type": "code",
   "execution_count": null,
   "metadata": {},
   "outputs": [],
   "source": [
    "best_swnu_network_umap_kfold_80"
   ]
  },
  {
   "cell_type": "code",
   "execution_count": null,
   "metadata": {},
   "outputs": [],
   "source": [
    "best_swnu_network_umap_kfold_80[\"f1\"].mean()"
   ]
  },
  {
   "cell_type": "code",
   "execution_count": null,
   "metadata": {},
   "outputs": [],
   "source": [
    "best_swnu_network_umap_kfold_80[\"precision\"].mean()"
   ]
  },
  {
   "cell_type": "code",
   "execution_count": null,
   "metadata": {},
   "outputs": [],
   "source": [
    "best_swnu_network_umap_kfold_80[\"recall\"].mean()"
   ]
  },
  {
   "cell_type": "code",
   "execution_count": null,
   "metadata": {},
   "outputs": [],
   "source": [
    "np.stack(best_swnu_network_umap_kfold_80[\"f1_scores\"]).mean(axis=0)"
   ]
  },
  {
   "cell_type": "code",
   "execution_count": null,
   "metadata": {},
   "outputs": [],
   "source": [
    "np.stack(best_swnu_network_umap_kfold_80[\"precision_scores\"]).mean(axis=0)"
   ]
  },
  {
   "cell_type": "code",
   "execution_count": null,
   "metadata": {},
   "outputs": [],
   "source": [
    "np.stack(best_swnu_network_umap_kfold_80[\"recall_scores\"]).mean(axis=0)"
   ]
  }
 ],
 "metadata": {
  "kernelspec": {
   "display_name": "nlpsig-networks (Conda)",
   "language": "python",
   "name": "sys_nlpsig-networks"
  },
  "language_info": {
   "codemirror_mode": {
    "name": "ipython",
    "version": 3
   },
   "file_extension": ".py",
   "mimetype": "text/x-python",
   "name": "python",
   "nbconvert_exporter": "python",
   "pygments_lexer": "ipython3",
   "version": "3.8.17"
  }
 },
 "nbformat": 4,
 "nbformat_minor": 4
}
