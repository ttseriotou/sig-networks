{
 "cells": [
  {
   "cell_type": "code",
   "execution_count": 1,
   "metadata": {},
   "outputs": [],
   "source": [
    "import pickle\n",
    "import numpy as np\n",
    "import pandas as pd\n",
    "import re\n",
    "\n",
    "seed = 2023"
   ]
  },
  {
   "cell_type": "code",
   "execution_count": 2,
   "metadata": {},
   "outputs": [],
   "source": [
    "import os\n",
    "os.chdir(\"../../\")"
   ]
  },
  {
   "cell_type": "code",
   "execution_count": 3,
   "metadata": {},
   "outputs": [
    {
     "name": "stderr",
     "output_type": "stream",
     "text": [
      "/storage/ttseriotou/nlpsig-networks-env/lib/python3.8/site-packages/tqdm/auto.py:21: TqdmWarning: IProgress not found. Please update jupyter and ipywidgets. See https://ipywidgets.readthedocs.io/en/stable/user_install.html\n",
      "  from .autonotebook import tqdm as notebook_tqdm\n"
     ]
    }
   ],
   "source": [
    "from nlpsig_networks.scripts.swnu_network_functions import (\n",
    "    swnu_network_hyperparameter_search, obtain_SWNUNetwork_input\n",
    ")"
   ]
  },
  {
   "cell_type": "markdown",
   "metadata": {},
   "source": [
    "Rumours"
   ]
  },
  {
   "cell_type": "code",
   "execution_count": 4,
   "metadata": {},
   "outputs": [],
   "source": [
    "%run notebooks/Rumours/load_rumours.py"
   ]
  },
  {
   "cell_type": "code",
   "execution_count": 5,
   "metadata": {},
   "outputs": [
    {
     "data": {
      "text/html": [
       "<div>\n",
       "<style scoped>\n",
       "    .dataframe tbody tr th:only-of-type {\n",
       "        vertical-align: middle;\n",
       "    }\n",
       "\n",
       "    .dataframe tbody tr th {\n",
       "        vertical-align: top;\n",
       "    }\n",
       "\n",
       "    .dataframe thead th {\n",
       "        text-align: right;\n",
       "    }\n",
       "</style>\n",
       "<table border=\"1\" class=\"dataframe\">\n",
       "  <thead>\n",
       "    <tr style=\"text-align: right;\">\n",
       "      <th></th>\n",
       "      <th>id</th>\n",
       "      <th>label</th>\n",
       "      <th>datetime</th>\n",
       "      <th>text</th>\n",
       "      <th>timeline_id</th>\n",
       "    </tr>\n",
       "  </thead>\n",
       "  <tbody>\n",
       "    <tr>\n",
       "      <th>0</th>\n",
       "      <td>5.249902e+17</td>\n",
       "      <td>0</td>\n",
       "      <td>2014-10-22 18:26:23</td>\n",
       "      <td>Police have clarified that there were two shoo...</td>\n",
       "      <td>0</td>\n",
       "    </tr>\n",
       "    <tr>\n",
       "      <th>1</th>\n",
       "      <td>5.249906e+17</td>\n",
       "      <td>0</td>\n",
       "      <td>2014-10-22 18:27:58</td>\n",
       "      <td>@CTVNews you guys \"confirmed\" there were 3 sho...</td>\n",
       "      <td>0</td>\n",
       "    </tr>\n",
       "    <tr>\n",
       "      <th>2</th>\n",
       "      <td>5.249908e+17</td>\n",
       "      <td>1</td>\n",
       "      <td>2014-10-22 18:28:46</td>\n",
       "      <td>@CTVNews get it right. http://t.co/GHYxMuzPG9</td>\n",
       "      <td>0</td>\n",
       "    </tr>\n",
       "    <tr>\n",
       "      <th>3</th>\n",
       "      <td>5.249927e+17</td>\n",
       "      <td>1</td>\n",
       "      <td>2014-10-22 18:36:29</td>\n",
       "      <td>RT @CTVNews Police have clarified that there w...</td>\n",
       "      <td>0</td>\n",
       "    </tr>\n",
       "    <tr>\n",
       "      <th>4</th>\n",
       "      <td>5.250038e+17</td>\n",
       "      <td>1</td>\n",
       "      <td>2014-10-22 19:20:41</td>\n",
       "      <td>@CTVNews @ctvsaskatoon so what happened at Rid...</td>\n",
       "      <td>0</td>\n",
       "    </tr>\n",
       "  </tbody>\n",
       "</table>\n",
       "</div>"
      ],
      "text/plain": [
       "             id label            datetime  \\\n",
       "0  5.249902e+17     0 2014-10-22 18:26:23   \n",
       "1  5.249906e+17     0 2014-10-22 18:27:58   \n",
       "2  5.249908e+17     1 2014-10-22 18:28:46   \n",
       "3  5.249927e+17     1 2014-10-22 18:36:29   \n",
       "4  5.250038e+17     1 2014-10-22 19:20:41   \n",
       "\n",
       "                                                text timeline_id  \n",
       "0  Police have clarified that there were two shoo...           0  \n",
       "1  @CTVNews you guys \"confirmed\" there were 3 sho...           0  \n",
       "2      @CTVNews get it right. http://t.co/GHYxMuzPG9           0  \n",
       "3  RT @CTVNews Police have clarified that there w...           0  \n",
       "4  @CTVNews @ctvsaskatoon so what happened at Rid...           0  "
      ]
     },
     "execution_count": 5,
     "metadata": {},
     "output_type": "execute_result"
    }
   ],
   "source": [
    "df_rumours.head()"
   ]
  },
  {
   "cell_type": "code",
   "execution_count": 6,
   "metadata": {},
   "outputs": [],
   "source": [
    "%run notebooks/Rumours/load_sbert-embeddings.py"
   ]
  },
  {
   "cell_type": "code",
   "execution_count": 7,
   "metadata": {},
   "outputs": [
    {
     "data": {
      "text/plain": [
       "torch.Size([5568, 384])"
      ]
     },
     "execution_count": 7,
     "metadata": {},
     "output_type": "execute_result"
    }
   ],
   "source": [
    "sbert_embeddings.shape"
   ]
  },
  {
   "cell_type": "code",
   "execution_count": 8,
   "metadata": {},
   "outputs": [
    {
     "name": "stdout",
     "output_type": "stream",
     "text": [
      "[INFO] Concatenating the embeddings to the dataframe...\n",
      "[INFO] - columns beginning with 'e' denote the full embddings.\n",
      "[INFO] - columns beginning with 'd' denote the dimension reduced embeddings.\n",
      "[INFO] Adding time feature columns into dataframe in `.df`.\n",
      "[INFO] Adding 'time_encoding' and feature...\n",
      "[INFO] Adding 'time_diff' and feature...\n",
      "[INFO] Adding 'timeline_index' feature...\n",
      "[INFO] Padding ids and storing in `.df_padded` and `.array_padded` attributes.\n"
     ]
    },
    {
     "name": "stderr",
     "output_type": "stream",
     "text": [
      "100%|██████████| 5568/5568 [00:12<00:00, 462.87it/s]\n"
     ]
    },
    {
     "name": "stdout",
     "output_type": "stream",
     "text": [
      "[INFO] The path was created for each item in the dataframe, by looking at its history, so to include embeddings in the FFN input, we concatenate the embeddings for each sentence / text.\n"
     ]
    },
    {
     "data": {
      "text/plain": [
       "torch.Size([5568, 5, 416])"
      ]
     },
     "execution_count": 8,
     "metadata": {},
     "output_type": "execute_result"
    }
   ],
   "source": [
    "x_data = obtain_SWNUNetwork_input(\n",
    "    method = \"umap\",\n",
    "    dimension= 30,\n",
    "    df= df_rumours,\n",
    "    id_column='timeline_id',\n",
    "    label_column='label',\n",
    "    embeddings= sbert_embeddings.numpy(),\n",
    "    k=5,\n",
    "    time_feature='time_encoding',\n",
    "    standardise_method=None)\n",
    "\n",
    "x_data[0].shape"
   ]
  },
  {
   "cell_type": "code",
   "execution_count": 25,
   "metadata": {},
   "outputs": [
    {
     "data": {
      "text/html": [
       "<div>\n",
       "<style scoped>\n",
       "    .dataframe tbody tr th:only-of-type {\n",
       "        vertical-align: middle;\n",
       "    }\n",
       "\n",
       "    .dataframe tbody tr th {\n",
       "        vertical-align: top;\n",
       "    }\n",
       "\n",
       "    .dataframe thead th {\n",
       "        text-align: right;\n",
       "    }\n",
       "</style>\n",
       "<table border=\"1\" class=\"dataframe\">\n",
       "  <thead>\n",
       "    <tr style=\"text-align: right;\">\n",
       "      <th></th>\n",
       "      <th>id</th>\n",
       "      <th>label</th>\n",
       "      <th>datetime</th>\n",
       "      <th>text</th>\n",
       "      <th>timeline_id</th>\n",
       "      <th>timestamp</th>\n",
       "    </tr>\n",
       "  </thead>\n",
       "  <tbody>\n",
       "    <tr>\n",
       "      <th>50</th>\n",
       "      <td>5.250724e+17</td>\n",
       "      <td>0</td>\n",
       "      <td>2014-10-22 23:53:11</td>\n",
       "      <td>@evening_grace @Telegraph  Yes it is.</td>\n",
       "      <td>4</td>\n",
       "      <td>2014.808206</td>\n",
       "    </tr>\n",
       "    <tr>\n",
       "      <th>51</th>\n",
       "      <td>5.249251e+17</td>\n",
       "      <td>0</td>\n",
       "      <td>2014-10-22 14:07:39</td>\n",
       "      <td>BREAKING NEWS: Soldier shot at National War Me...</td>\n",
       "      <td>5</td>\n",
       "      <td>2014.807092</td>\n",
       "    </tr>\n",
       "    <tr>\n",
       "      <th>52</th>\n",
       "      <td>5.249253e+17</td>\n",
       "      <td>0</td>\n",
       "      <td>2014-10-22 14:08:48</td>\n",
       "      <td>@CBCNews 😱 why!!!</td>\n",
       "      <td>5</td>\n",
       "      <td>2014.807094</td>\n",
       "    </tr>\n",
       "    <tr>\n",
       "      <th>53</th>\n",
       "      <td>5.249256e+17</td>\n",
       "      <td>0</td>\n",
       "      <td>2014-10-22 14:09:39</td>\n",
       "      <td>@CBCNews</td>\n",
       "      <td>5</td>\n",
       "      <td>2014.807096</td>\n",
       "    </tr>\n",
       "  </tbody>\n",
       "</table>\n",
       "</div>"
      ],
      "text/plain": [
       "              id label            datetime  \\\n",
       "50  5.250724e+17     0 2014-10-22 23:53:11   \n",
       "51  5.249251e+17     0 2014-10-22 14:07:39   \n",
       "52  5.249253e+17     0 2014-10-22 14:08:48   \n",
       "53  5.249256e+17     0 2014-10-22 14:09:39   \n",
       "\n",
       "                                                 text timeline_id    timestamp  \n",
       "50              @evening_grace @Telegraph  Yes it is.           4  2014.808206  \n",
       "51  BREAKING NEWS: Soldier shot at National War Me...           5  2014.807092  \n",
       "52                                  @CBCNews 😱 why!!!           5  2014.807094  \n",
       "53                                           @CBCNews           5  2014.807096  "
      ]
     },
     "execution_count": 25,
     "metadata": {},
     "output_type": "execute_result"
    }
   ],
   "source": [
    "df_rumours.iloc[50:54]"
   ]
  },
  {
   "cell_type": "code",
   "execution_count": 26,
   "metadata": {},
   "outputs": [
    {
     "data": {
      "text/plain": [
       "tensor([[2014.8073,    9.6880,    8.9186],\n",
       "        [2014.8073,    9.9096,    8.7540],\n",
       "        [2014.8073,    9.7161,    9.6193],\n",
       "        [2014.8073,    9.6007,    9.5653],\n",
       "        [2014.8073,    9.8437,    9.1731]])"
      ]
     },
     "execution_count": 26,
     "metadata": {},
     "output_type": "execute_result"
    }
   ],
   "source": [
    "x_data[0][51,:,:3]"
   ]
  },
  {
   "cell_type": "code",
   "execution_count": 24,
   "metadata": {},
   "outputs": [
    {
     "data": {
      "text/plain": [
       "tensor([[2015.0178,   10.0727,    9.1088,    4.1221],\n",
       "        [2015.0178,    9.8144,    9.1319,    2.3864],\n",
       "        [2015.0182,    9.8470,    9.1567,    2.7652],\n",
       "        [2015.2263,   10.0102,    8.7004,    2.7885],\n",
       "        [2015.2263,   10.0250,    8.7571,    2.8546]])"
      ]
     },
     "execution_count": 24,
     "metadata": {},
     "output_type": "execute_result"
    }
   ],
   "source": [
    "x_data[0][3,:,:4]"
   ]
  },
  {
   "cell_type": "code",
   "execution_count": 35,
   "metadata": {},
   "outputs": [
    {
     "data": {
      "text/plain": [
       "tensor([[2014.8076],\n",
       "        [   0.0000],\n",
       "        [   0.0000],\n",
       "        [   0.0000],\n",
       "        [   0.0000]])"
      ]
     },
     "execution_count": 35,
     "metadata": {},
     "output_type": "execute_result"
    }
   ],
   "source": [
    "x_data[0][0,:,:1]"
   ]
  },
  {
   "cell_type": "markdown",
   "metadata": {},
   "source": [
    "SWNU Network"
   ]
  },
  {
   "cell_type": "markdown",
   "metadata": {},
   "source": [
    "Obtaining path by looking at post history\n",
    "We can obtain a path by looking at the history of each post. Here we look at the last 20 posts (and pad with vectors of zeros if there are less than 20 posts) including the current post.\n",
    "\n",
    "We only want to consider paths that correspond to a client's utterance as we want to model a change in mood at that time. Their history will still contain the therapist's utterances too."
   ]
  },
  {
   "cell_type": "code",
   "execution_count": 9,
   "metadata": {},
   "outputs": [],
   "source": [
    "#dimensionality reduction\n",
    "embedding_dim = sbert_embeddings.shape[1]\n",
    "dim_reduce_method = [\"umap\"] #[\"gaussian_random_projection\", \"umap\"]\n",
    "dimensions = [30]#[50,30,15]\n",
    "#time features\n",
    "time_features = \"time_encoding\"\n",
    "standardise_method = \"standardise\"\n",
    "#SWNU block\n",
    "log_sig = True\n",
    "conv_output_channels = [10] #[20, 10, 5]\n",
    "log_signature_dimensions_and_sig_depths = [(8, 3)]#[(30, 2), (10, 3), (6, 4)]\n",
    "bidirectional = False\n",
    "#ffn\n",
    "hidden_dim_sizes = [54]#[32,64]\n",
    "dropout_rates = [0.2]#[0.5, 0.2, 0.1]\n",
    "#overall training\n",
    "num_epochs = 100\n",
    "learning_rates = [1e-3, 1e-4, 5e-4]\n",
    "seeds = [0, 1, 12, 123, 1234]\n",
    "loss = \"focal\"\n",
    "gamma = 2\n",
    "validation_metric = \"f1\""
   ]
  },
  {
   "cell_type": "code",
   "execution_count": 10,
   "metadata": {},
   "outputs": [
    {
     "name": "stderr",
     "output_type": "stream",
     "text": [
      "  0%|          | 0/1 [00:00<?, ?it/s]\n",
      "\u001b[A"
     ]
    },
    {
     "name": "stdout",
     "output_type": "stream",
     "text": [
      "\n",
      "##################################################\n",
      "dimension: 30 | method: umap\n",
      "[INFO] Concatenating the embeddings to the dataframe...\n",
      "[INFO] - columns beginning with 'e' denote the full embddings.\n",
      "[INFO] - columns beginning with 'd' denote the dimension reduced embeddings.\n",
      "[INFO] Adding time feature columns into dataframe in `.df`.\n",
      "[INFO] Adding 'time_encoding' and feature...\n",
      "[INFO] Adding 'time_diff' and feature...\n",
      "[INFO] Adding 'timeline_index' feature...\n",
      "[INFO] Padding ids and storing in `.df_padded` and `.array_padded` attributes.\n"
     ]
    },
    {
     "name": "stderr",
     "output_type": "stream",
     "text": [
      "\n",
      "\n",
      "\u001b[A\u001b[A\n",
      "\n",
      "\u001b[A\u001b[A\n",
      "\n",
      "\u001b[A\u001b[A\n",
      "\n",
      "\u001b[A\u001b[A\n",
      "\n",
      "\u001b[A\u001b[A\n",
      "\n",
      "\u001b[A\u001b[A\n",
      "\n",
      "\u001b[A\u001b[A\n",
      "\n",
      "\u001b[A\u001b[A\n",
      "\n",
      "\u001b[A\u001b[A\n",
      "\n",
      "\u001b[A\u001b[A\n",
      "\n",
      "\u001b[A\u001b[A\n",
      "\n",
      "\u001b[A\u001b[A\n",
      "\n",
      "\u001b[A\u001b[A\n",
      "\n",
      "\u001b[A\u001b[A\n",
      "\n",
      "\u001b[A\u001b[A\n",
      "\n",
      "\u001b[A\u001b[A\n",
      "\n",
      "\u001b[A\u001b[A\n",
      "\n",
      "\u001b[A\u001b[A\n",
      "\n",
      "\u001b[A\u001b[A\n",
      "\n",
      "\u001b[A\u001b[A\n",
      "\n",
      "\u001b[A\u001b[A\n",
      "\n",
      "\u001b[A\u001b[A\n",
      "\n",
      "\u001b[A\u001b[A\n",
      "\n",
      "\u001b[A\u001b[A\n",
      "\n",
      "\u001b[A\u001b[A\n",
      "\n",
      "\u001b[A\u001b[A\n",
      "\n",
      "\u001b[A\u001b[A\n",
      "\n",
      "\u001b[A\u001b[A\n",
      "\n",
      "\u001b[A\u001b[A\n",
      "\n",
      "\u001b[A\u001b[A\n",
      "\n",
      "\u001b[A\u001b[A\n",
      "\n",
      "\u001b[A\u001b[A\n",
      "\n",
      "\u001b[A\u001b[A\n",
      "\n",
      "\u001b[A\u001b[A\n",
      "\n",
      "\u001b[A\u001b[A\n",
      "\n",
      "\u001b[A\u001b[A\n",
      "\n",
      "\u001b[A\u001b[A\n",
      "\n",
      "\u001b[A\u001b[A\n",
      "\n",
      "\u001b[A\u001b[A\n",
      "\n",
      "\u001b[A\u001b[A\n",
      "\n",
      "\u001b[A\u001b[A\n",
      "\n",
      "\u001b[A\u001b[A\n",
      "\n",
      "\u001b[A\u001b[A\n",
      "\n",
      "\u001b[A\u001b[A\n",
      "\n",
      "\u001b[A\u001b[A\n",
      "\n",
      "\u001b[A\u001b[A\n",
      "\n",
      "\u001b[A\u001b[A\n",
      "\n",
      "\u001b[A\u001b[A\n",
      "\n",
      "\u001b[A\u001b[A\n",
      "\n",
      "\u001b[A\u001b[A\n",
      "\n",
      "\u001b[A\u001b[A\n",
      "\n",
      "\u001b[A\u001b[A\n",
      "\n",
      "\u001b[A\u001b[A\n",
      "\n",
      "\u001b[A\u001b[A\n",
      "\n",
      "\u001b[A\u001b[A\n",
      "\n",
      "\u001b[A\u001b[A\n",
      "\n",
      "\u001b[A\u001b[A\n",
      "\n",
      "\u001b[A\u001b[A\n",
      "\n",
      "\u001b[A\u001b[A\n",
      "\n",
      "\u001b[A\u001b[A\n",
      "\n",
      "\u001b[A\u001b[A\n",
      "\n",
      "\u001b[A\u001b[A\n",
      "\n",
      "\u001b[A\u001b[A\n",
      "\n",
      "\u001b[A\u001b[A\n",
      "\n",
      "\u001b[A\u001b[A\n",
      "\n",
      "\u001b[A\u001b[A\n",
      "\n",
      "\u001b[A\u001b[A\n",
      "\n",
      "\u001b[A\u001b[A\n",
      "\n",
      "\u001b[A\u001b[A\n",
      "\n",
      "\u001b[A\u001b[A\n",
      "\n",
      "\u001b[A\u001b[A\n",
      "\n",
      "\u001b[A\u001b[A\n",
      "\n",
      "\u001b[A\u001b[A\n",
      "\n",
      "\u001b[A\u001b[A\n",
      "\n",
      "\u001b[A\u001b[A\n",
      "\n",
      "\u001b[A\u001b[A\n",
      "\n",
      "\u001b[A\u001b[A\n",
      "\n",
      "\u001b[A\u001b[A\n",
      "\n",
      "\u001b[A\u001b[A\n",
      "\n",
      "\u001b[A\u001b[A\n",
      "\n",
      "\u001b[A\u001b[A\n",
      "\n",
      "\u001b[A\u001b[A\n",
      "\n",
      "\u001b[A\u001b[A\n",
      "\n",
      "\u001b[A\u001b[A\n",
      "\n",
      "\u001b[A\u001b[A\n",
      "\n",
      "\u001b[A\u001b[A\n",
      "\n",
      "\u001b[A\u001b[A\n",
      "\n",
      "\u001b[A\u001b[A\n",
      "\n",
      "\u001b[A\u001b[A\n",
      "\n",
      "\u001b[A\u001b[A\n",
      "\n",
      "\u001b[A\u001b[A\n",
      "\n",
      "\u001b[A\u001b[A\n",
      "\n",
      "\u001b[A\u001b[A\n",
      "\n",
      "\u001b[A\u001b[A\n",
      "\n",
      "\u001b[A\u001b[A\n",
      "\n",
      "\u001b[A\u001b[A\n",
      "\n",
      "\u001b[A\u001b[A\n",
      "\n",
      "\u001b[A\u001b[A\n",
      "\n",
      "\u001b[A\u001b[A\n",
      "\n",
      "\u001b[A\u001b[A\n",
      "\n",
      "\u001b[A\u001b[A\n",
      "\n",
      "\u001b[A\u001b[A\n",
      "\n",
      "\u001b[A\u001b[A\n",
      "\n",
      "\u001b[A\u001b[A\n",
      "\n",
      "\u001b[A\u001b[A\n",
      "\n",
      "\u001b[A\u001b[A\n",
      "\n",
      "\u001b[A\u001b[A\n",
      "\n",
      "\u001b[A\u001b[A\n",
      "\n",
      "\u001b[A\u001b[A\n",
      "\n",
      "\u001b[A\u001b[A\n",
      "\n",
      "\u001b[A\u001b[A\n",
      "\n",
      "\u001b[A\u001b[A\n",
      "\n",
      "\u001b[A\u001b[A\n",
      "\n",
      "\u001b[A\u001b[A\n",
      "\n",
      "\u001b[A\u001b[A\n",
      "\n",
      "\u001b[A\u001b[A\n",
      "\n",
      "\u001b[A\u001b[A\n",
      "\n",
      "\u001b[A\u001b[A\n",
      "\n",
      "\u001b[A\u001b[A\n",
      "\n",
      "\u001b[A\u001b[A\n",
      "\n",
      "\u001b[A\u001b[A\n",
      "\n",
      "\u001b[A\u001b[A\n",
      "\n",
      "\u001b[A\u001b[A\n",
      "\n",
      "\u001b[A\u001b[A\n",
      "\n",
      "\u001b[A\u001b[A\n",
      "\n",
      "\u001b[A\u001b[A\n",
      "\n",
      "\u001b[A\u001b[A\n",
      "\n",
      "\u001b[A\u001b[A\n",
      "\n",
      "\u001b[A\u001b[A\n",
      "\n",
      "\u001b[A\u001b[A\n",
      "\n",
      "\u001b[A\u001b[A\n",
      "\n",
      "\u001b[A\u001b[A\n",
      "\n",
      "\u001b[A\u001b[A\n",
      "\n",
      "\u001b[A\u001b[A\n",
      "\n",
      "\u001b[A\u001b[A\n",
      "\n",
      "\u001b[A\u001b[A\n",
      "\n",
      "\u001b[A\u001b[A\n",
      "\n",
      "\u001b[A\u001b[A\n",
      "\n",
      "\u001b[A\u001b[A\n",
      "\n",
      "\u001b[A\u001b[A\n",
      "\n",
      "\u001b[A\u001b[A\n",
      "\n",
      "\u001b[A\u001b[A\n",
      "\n",
      "\u001b[A\u001b[A\n",
      "\n",
      "\u001b[A\u001b[A\n",
      "\n",
      "\u001b[A\u001b[A\n",
      "\n",
      "\u001b[A\u001b[A\n",
      "\n",
      "\u001b[A\u001b[A\n",
      "\n",
      "\u001b[A\u001b[A\n",
      "\n",
      "\u001b[A\u001b[A\n",
      "\n",
      "\u001b[A\u001b[A\n",
      "\n",
      "\u001b[A\u001b[A\n",
      "\n",
      "\u001b[A\u001b[A\n",
      "\n",
      "\u001b[A\u001b[A\n",
      "\n",
      "\u001b[A\u001b[A\n",
      "\n",
      "\u001b[A\u001b[A\n",
      "\n",
      "100%|██████████| 5568/5568 [00:18<00:00, 308.11it/s]\n"
     ]
    },
    {
     "name": "stdout",
     "output_type": "stream",
     "text": [
      "[INFO] The path was created for each item in the dataframe, by looking at its history, so to include embeddings in the FFN input, we concatenate the embeddings for each sentence / text.\n"
     ]
    },
    {
     "name": "stderr",
     "output_type": "stream",
     "text": [
      "\n",
      "\n",
      "\u001b[A\u001b[A\n",
      "\n",
      "\n",
      "\u001b[A\u001b[A\u001b[A\n",
      "\n",
      "\n",
      "\n",
      "\u001b[A\u001b[A\u001b[A\u001b[A\n",
      "\n",
      "\n",
      "\n",
      "\n",
      "\u001b[A\u001b[A\u001b[A\u001b[A\u001b[A\n",
      "\n",
      "\n",
      "\n",
      "\n",
      "\n",
      "\u001b[A\u001b[A\u001b[A\u001b[A\u001b[A\u001b[A"
     ]
    },
    {
     "name": "stdout",
     "output_type": "stream",
     "text": [
      "Accuracy on dataset of size 891: 65.0954008102417 %.\n",
      "Average loss: 0.22366737255028316\n",
      "- f1: [0.70239234 0.578019  ]\n",
      "- f1 (macro): 0.6402056702135257\n"
     ]
    },
    {
     "name": "stderr",
     "output_type": "stream",
     "text": [
      "  0%|          | 0/3 [01:45<?, ?it/s]\n",
      "  0%|          | 0/1 [01:46<?, ?it/s]\n",
      "  0%|          | 0/1 [01:46<?, ?it/s]\n",
      "  0%|          | 0/1 [01:46<?, ?it/s]\n",
      "  0%|          | 0/1 [01:46<?, ?it/s]\n",
      "  0%|          | 0/1 [02:34<?, ?it/s]\n",
      "  0%|          | 0/1 [02:34<?, ?it/s]\n",
      "  0%|          | 0/1 [02:34<?, ?it/s]\n"
     ]
    },
    {
     "ename": "KeyboardInterrupt",
     "evalue": "",
     "output_type": "error",
     "traceback": [
      "\u001b[0;31m---------------------------------------------------------------------------\u001b[0m",
      "\u001b[0;31mKeyboardInterrupt\u001b[0m                         Traceback (most recent call last)",
      "Cell \u001b[0;32mIn[10], line 2\u001b[0m\n\u001b[1;32m      1\u001b[0m size\u001b[38;5;241m=\u001b[39m\u001b[38;5;241m20\u001b[39m\n\u001b[0;32m----> 2\u001b[0m swnu_network_log_signature, best_swnu_network_log_signature, _, __ \u001b[38;5;241m=\u001b[39m \u001b[43mswnu_network_hyperparameter_search\u001b[49m\u001b[43m(\u001b[49m\n\u001b[1;32m      3\u001b[0m \u001b[43m    \u001b[49m\u001b[43mnum_epochs\u001b[49m\u001b[38;5;241;43m=\u001b[39;49m\u001b[43mnum_epochs\u001b[49m\u001b[43m,\u001b[49m\n\u001b[1;32m      4\u001b[0m \u001b[43m    \u001b[49m\u001b[43mdf\u001b[49m\u001b[38;5;241;43m=\u001b[39;49m\u001b[43mdf_rumours\u001b[49m\u001b[43m,\u001b[49m\n\u001b[1;32m      5\u001b[0m \u001b[43m    \u001b[49m\u001b[43mid_column\u001b[49m\u001b[38;5;241;43m=\u001b[39;49m\u001b[38;5;124;43m\"\u001b[39;49m\u001b[38;5;124;43mtimeline_id\u001b[39;49m\u001b[38;5;124;43m\"\u001b[39;49m\u001b[43m,\u001b[49m\n\u001b[1;32m      6\u001b[0m \u001b[43m    \u001b[49m\u001b[43mlabel_column\u001b[49m\u001b[38;5;241;43m=\u001b[39;49m\u001b[38;5;124;43m\"\u001b[39;49m\u001b[38;5;124;43mlabel\u001b[39;49m\u001b[38;5;124;43m\"\u001b[39;49m\u001b[43m,\u001b[49m\n\u001b[1;32m      7\u001b[0m \u001b[43m    \u001b[49m\u001b[43membeddings\u001b[49m\u001b[38;5;241;43m=\u001b[39;49m\u001b[43msbert_embeddings\u001b[49m\u001b[38;5;241;43m.\u001b[39;49m\u001b[43mnumpy\u001b[49m\u001b[43m(\u001b[49m\u001b[43m)\u001b[49m\u001b[43m,\u001b[49m\n\u001b[1;32m      8\u001b[0m \u001b[43m    \u001b[49m\u001b[43my_data\u001b[49m\u001b[38;5;241;43m=\u001b[39;49m\u001b[43my_data\u001b[49m\u001b[43m,\u001b[49m\n\u001b[1;32m      9\u001b[0m \u001b[43m    \u001b[49m\u001b[43membedding_dim\u001b[49m\u001b[38;5;241;43m=\u001b[39;49m\u001b[43membedding_dim\u001b[49m\u001b[43m,\u001b[49m\n\u001b[1;32m     10\u001b[0m \u001b[43m    \u001b[49m\u001b[43moutput_dim\u001b[49m\u001b[38;5;241;43m=\u001b[39;49m\u001b[43moutput_dim\u001b[49m\u001b[43m,\u001b[49m\n\u001b[1;32m     11\u001b[0m \u001b[43m    \u001b[49m\u001b[43mhistory_lengths\u001b[49m\u001b[38;5;241;43m=\u001b[39;49m\u001b[43m[\u001b[49m\u001b[43msize\u001b[49m\u001b[43m]\u001b[49m\u001b[43m,\u001b[49m\n\u001b[1;32m     12\u001b[0m \u001b[43m    \u001b[49m\u001b[43mdim_reduce_methods\u001b[49m\u001b[38;5;241;43m=\u001b[39;49m\u001b[43mdim_reduce_method\u001b[49m\u001b[43m,\u001b[49m\n\u001b[1;32m     13\u001b[0m \u001b[43m    \u001b[49m\u001b[43mdimensions\u001b[49m\u001b[38;5;241;43m=\u001b[39;49m\u001b[43mdimensions\u001b[49m\u001b[43m,\u001b[49m\u001b[43m \u001b[49m\n\u001b[1;32m     14\u001b[0m \u001b[43m    \u001b[49m\u001b[43msig_depths\u001b[49m\u001b[38;5;241;43m=\u001b[39;49m\u001b[43m[\u001b[49m\u001b[43mx\u001b[49m\u001b[43m[\u001b[49m\u001b[38;5;241;43m1\u001b[39;49m\u001b[43m]\u001b[49m\u001b[43m \u001b[49m\u001b[38;5;28;43;01mfor\u001b[39;49;00m\u001b[43m \u001b[49m\u001b[43mx\u001b[49m\u001b[43m \u001b[49m\u001b[38;5;129;43;01min\u001b[39;49;00m\u001b[43m \u001b[49m\u001b[43mlog_signature_dimensions_and_sig_depths\u001b[49m\u001b[43m]\u001b[49m\u001b[43m,\u001b[49m\u001b[43m \u001b[49m\n\u001b[1;32m     15\u001b[0m \u001b[43m    \u001b[49m\u001b[43mlog_signature\u001b[49m\u001b[38;5;241;43m=\u001b[39;49m\u001b[43mlog_sig\u001b[49m\u001b[43m,\u001b[49m\n\u001b[1;32m     16\u001b[0m \u001b[43m    \u001b[49m\u001b[43mconv_output_channels\u001b[49m\u001b[38;5;241;43m=\u001b[39;49m\u001b[43mconv_output_channels\u001b[49m\u001b[43m,\u001b[49m\n\u001b[1;32m     17\u001b[0m \u001b[43m    \u001b[49m\u001b[43mswnu_hidden_dim_sizes\u001b[49m\u001b[38;5;241;43m=\u001b[39;49m\u001b[43m[\u001b[49m\u001b[43mx\u001b[49m\u001b[43m[\u001b[49m\u001b[38;5;241;43m0\u001b[39;49m\u001b[43m]\u001b[49m\u001b[43m \u001b[49m\u001b[38;5;28;43;01mfor\u001b[39;49;00m\u001b[43m \u001b[49m\u001b[43mx\u001b[49m\u001b[43m \u001b[49m\u001b[38;5;129;43;01min\u001b[39;49;00m\u001b[43m \u001b[49m\u001b[43mlog_signature_dimensions_and_sig_depths\u001b[49m\u001b[43m]\u001b[49m\u001b[43m,\u001b[49m\n\u001b[1;32m     18\u001b[0m \u001b[43m    \u001b[49m\u001b[43mffn_hidden_dim_sizes\u001b[49m\u001b[38;5;241;43m=\u001b[39;49m\u001b[43mhidden_dim_sizes\u001b[49m\u001b[43m,\u001b[49m\n\u001b[1;32m     19\u001b[0m \u001b[43m    \u001b[49m\u001b[43mdropout_rates\u001b[49m\u001b[38;5;241;43m=\u001b[39;49m\u001b[43mdropout_rates\u001b[49m\u001b[43m,\u001b[49m\n\u001b[1;32m     20\u001b[0m \u001b[43m    \u001b[49m\u001b[43mlearning_rates\u001b[49m\u001b[38;5;241;43m=\u001b[39;49m\u001b[43mlearning_rates\u001b[49m\u001b[43m,\u001b[49m\n\u001b[1;32m     21\u001b[0m \u001b[43m    \u001b[49m\u001b[43mBiLSTM\u001b[49m\u001b[38;5;241;43m=\u001b[39;49m\u001b[43mbidirectional\u001b[49m\u001b[43m,\u001b[49m\n\u001b[1;32m     22\u001b[0m \u001b[43m    \u001b[49m\u001b[43mseeds\u001b[49m\u001b[38;5;241;43m=\u001b[39;49m\u001b[43mseeds\u001b[49m\u001b[43m,\u001b[49m\n\u001b[1;32m     23\u001b[0m \u001b[43m    \u001b[49m\u001b[43mloss\u001b[49m\u001b[38;5;241;43m=\u001b[39;49m\u001b[43mloss\u001b[49m\u001b[43m,\u001b[49m\n\u001b[1;32m     24\u001b[0m \u001b[43m    \u001b[49m\u001b[43mgamma\u001b[49m\u001b[38;5;241;43m=\u001b[39;49m\u001b[43mgamma\u001b[49m\u001b[43m,\u001b[49m\n\u001b[1;32m     25\u001b[0m \u001b[43m    \u001b[49m\u001b[43mtime_feature\u001b[49m\u001b[38;5;241;43m=\u001b[39;49m\u001b[43mtime_features\u001b[49m\u001b[43m,\u001b[49m\u001b[43m \u001b[49m\n\u001b[1;32m     26\u001b[0m \u001b[43m    \u001b[49m\u001b[43mstandardise_method\u001b[49m\u001b[38;5;241;43m=\u001b[39;49m\u001b[43mstandardise_method\u001b[49m\u001b[43m,\u001b[49m\n\u001b[1;32m     27\u001b[0m \u001b[43m    \u001b[49m\u001b[43mpath_indices\u001b[49m\u001b[38;5;241;43m=\u001b[39;49m\u001b[38;5;28;43;01mNone\u001b[39;49;00m\u001b[43m,\u001b[49m\n\u001b[1;32m     28\u001b[0m \u001b[43m    \u001b[49m\u001b[43mdata_split_seed\u001b[49m\u001b[38;5;241;43m=\u001b[39;49m\u001b[38;5;241;43m123\u001b[39;49m\u001b[43m,\u001b[49m\n\u001b[1;32m     29\u001b[0m \u001b[43m    \u001b[49m\u001b[43mk_fold\u001b[49m\u001b[38;5;241;43m=\u001b[39;49m\u001b[38;5;28;43;01mFalse\u001b[39;49;00m\u001b[43m,\u001b[49m\n\u001b[1;32m     30\u001b[0m \u001b[43m    \u001b[49m\u001b[43mvalidation_metric\u001b[49m\u001b[38;5;241;43m=\u001b[39;49m\u001b[43mvalidation_metric\u001b[49m\u001b[43m,\u001b[49m\n\u001b[1;32m     31\u001b[0m \u001b[43m    \u001b[49m\u001b[43mresults_output\u001b[49m\u001b[38;5;241;43m=\u001b[39;49m\u001b[38;5;28;43;01mNone\u001b[39;49;00m\u001b[43m,\u001b[49m\n\u001b[1;32m     32\u001b[0m \u001b[43m    \u001b[49m\u001b[43mverbose\u001b[49m\u001b[38;5;241;43m=\u001b[39;49m\u001b[38;5;28;43;01mFalse\u001b[39;49;00m\n\u001b[1;32m     33\u001b[0m \u001b[43m)\u001b[49m\n",
      "File \u001b[0;32m~/nlpsig-networks/nlpsig_networks/scripts/swnu_network_functions.py:328\u001b[0m, in \u001b[0;36mswnu_network_hyperparameter_search\u001b[0;34m(num_epochs, df, id_column, label_column, embeddings, y_data, embedding_dim, output_dim, history_lengths, dim_reduce_methods, dimensions, sig_depths, log_signature, conv_output_channels, swnu_hidden_dim_sizes, ffn_hidden_dim_sizes, dropout_rates, learning_rates, BiLSTM, seeds, loss, gamma, time_feature, standardise_method, augmentation_type, comb_method, path_indices, data_split_seed, k_fold, n_splits, validation_metric, results_output, verbose)\u001b[0m\n\u001b[1;32m    <a href='file:///home/ttseriotou/nlpsig-networks/nlpsig_networks/scripts/swnu_network_functions.py?line=325'>326</a>\u001b[0m verbose_model \u001b[39m=\u001b[39m verbose\n\u001b[1;32m    <a href='file:///home/ttseriotou/nlpsig-networks/nlpsig_networks/scripts/swnu_network_functions.py?line=326'>327</a>\u001b[0m \u001b[39mfor\u001b[39;00m seed \u001b[39min\u001b[39;00m seeds:\n\u001b[0;32m--> <a href='file:///home/ttseriotou/nlpsig-networks/nlpsig_networks/scripts/swnu_network_functions.py?line=327'>328</a>\u001b[0m     _, results \u001b[39m=\u001b[39m implement_swnu_network(\n\u001b[1;32m    <a href='file:///home/ttseriotou/nlpsig-networks/nlpsig_networks/scripts/swnu_network_functions.py?line=328'>329</a>\u001b[0m         num_epochs\u001b[39m=\u001b[39;49mnum_epochs,\n\u001b[1;32m    <a href='file:///home/ttseriotou/nlpsig-networks/nlpsig_networks/scripts/swnu_network_functions.py?line=329'>330</a>\u001b[0m         x_data\u001b[39m=\u001b[39;49mx_data,\n\u001b[1;32m    <a href='file:///home/ttseriotou/nlpsig-networks/nlpsig_networks/scripts/swnu_network_functions.py?line=330'>331</a>\u001b[0m         y_data\u001b[39m=\u001b[39;49my_data,\n\u001b[1;32m    <a href='file:///home/ttseriotou/nlpsig-networks/nlpsig_networks/scripts/swnu_network_functions.py?line=331'>332</a>\u001b[0m         input_channels\u001b[39m=\u001b[39;49minput_channels,\n\u001b[1;32m    <a href='file:///home/ttseriotou/nlpsig-networks/nlpsig_networks/scripts/swnu_network_functions.py?line=332'>333</a>\u001b[0m         output_channels\u001b[39m=\u001b[39;49moutput_channels,\n\u001b[1;32m    <a href='file:///home/ttseriotou/nlpsig-networks/nlpsig_networks/scripts/swnu_network_functions.py?line=333'>334</a>\u001b[0m         num_time_features\u001b[39m=\u001b[39;49m\u001b[39mlen\u001b[39;49m(time_feature),\n\u001b[1;32m    <a href='file:///home/ttseriotou/nlpsig-networks/nlpsig_networks/scripts/swnu_network_functions.py?line=334'>335</a>\u001b[0m         embedding_dim\u001b[39m=\u001b[39;49membedding_dim,\n\u001b[1;32m    <a href='file:///home/ttseriotou/nlpsig-networks/nlpsig_networks/scripts/swnu_network_functions.py?line=335'>336</a>\u001b[0m         log_signature\u001b[39m=\u001b[39;49mlog_signature,\n\u001b[1;32m    <a href='file:///home/ttseriotou/nlpsig-networks/nlpsig_networks/scripts/swnu_network_functions.py?line=336'>337</a>\u001b[0m         sig_depth\u001b[39m=\u001b[39;49msig_depth,\n\u001b[1;32m    <a href='file:///home/ttseriotou/nlpsig-networks/nlpsig_networks/scripts/swnu_network_functions.py?line=337'>338</a>\u001b[0m         lstm_hidden_dim\u001b[39m=\u001b[39;49mlstm_hidden_dim,\n\u001b[1;32m    <a href='file:///home/ttseriotou/nlpsig-networks/nlpsig_networks/scripts/swnu_network_functions.py?line=338'>339</a>\u001b[0m         ffn_hidden_dim\u001b[39m=\u001b[39;49mffn_hidden_dim,\n\u001b[1;32m    <a href='file:///home/ttseriotou/nlpsig-networks/nlpsig_networks/scripts/swnu_network_functions.py?line=339'>340</a>\u001b[0m         output_dim\u001b[39m=\u001b[39;49moutput_dim,\n\u001b[1;32m    <a href='file:///home/ttseriotou/nlpsig-networks/nlpsig_networks/scripts/swnu_network_functions.py?line=340'>341</a>\u001b[0m         BiLSTM\u001b[39m=\u001b[39;49mBiLSTM,\n\u001b[1;32m    <a href='file:///home/ttseriotou/nlpsig-networks/nlpsig_networks/scripts/swnu_network_functions.py?line=341'>342</a>\u001b[0m         dropout_rate\u001b[39m=\u001b[39;49mdropout,\n\u001b[1;32m    <a href='file:///home/ttseriotou/nlpsig-networks/nlpsig_networks/scripts/swnu_network_functions.py?line=342'>343</a>\u001b[0m         learning_rate\u001b[39m=\u001b[39;49mlr,\n\u001b[1;32m    <a href='file:///home/ttseriotou/nlpsig-networks/nlpsig_networks/scripts/swnu_network_functions.py?line=343'>344</a>\u001b[0m         seed\u001b[39m=\u001b[39;49mseed,\n\u001b[1;32m    <a href='file:///home/ttseriotou/nlpsig-networks/nlpsig_networks/scripts/swnu_network_functions.py?line=344'>345</a>\u001b[0m         loss\u001b[39m=\u001b[39;49mloss,\n\u001b[1;32m    <a href='file:///home/ttseriotou/nlpsig-networks/nlpsig_networks/scripts/swnu_network_functions.py?line=345'>346</a>\u001b[0m         gamma\u001b[39m=\u001b[39;49mgamma,\n\u001b[1;32m    <a href='file:///home/ttseriotou/nlpsig-networks/nlpsig_networks/scripts/swnu_network_functions.py?line=346'>347</a>\u001b[0m         augmentation_type\u001b[39m=\u001b[39;49maugmentation_type,\n\u001b[1;32m    <a href='file:///home/ttseriotou/nlpsig-networks/nlpsig_networks/scripts/swnu_network_functions.py?line=347'>348</a>\u001b[0m         comb_method\u001b[39m=\u001b[39;49mcomb_method,\n\u001b[1;32m    <a href='file:///home/ttseriotou/nlpsig-networks/nlpsig_networks/scripts/swnu_network_functions.py?line=348'>349</a>\u001b[0m         data_split_seed\u001b[39m=\u001b[39;49mdata_split_seed,\n\u001b[1;32m    <a href='file:///home/ttseriotou/nlpsig-networks/nlpsig_networks/scripts/swnu_network_functions.py?line=349'>350</a>\u001b[0m         k_fold\u001b[39m=\u001b[39;49mk_fold,\n\u001b[1;32m    <a href='file:///home/ttseriotou/nlpsig-networks/nlpsig_networks/scripts/swnu_network_functions.py?line=350'>351</a>\u001b[0m         n_splits\u001b[39m=\u001b[39;49mn_splits,\n\u001b[1;32m    <a href='file:///home/ttseriotou/nlpsig-networks/nlpsig_networks/scripts/swnu_network_functions.py?line=351'>352</a>\u001b[0m         verbose_training\u001b[39m=\u001b[39;49m\u001b[39mFalse\u001b[39;49;00m,\n\u001b[1;32m    <a href='file:///home/ttseriotou/nlpsig-networks/nlpsig_networks/scripts/swnu_network_functions.py?line=352'>353</a>\u001b[0m         verbose_results\u001b[39m=\u001b[39;49mverbose,\n\u001b[1;32m    <a href='file:///home/ttseriotou/nlpsig-networks/nlpsig_networks/scripts/swnu_network_functions.py?line=353'>354</a>\u001b[0m         verbose_model\u001b[39m=\u001b[39;49mverbose_model\n\u001b[1;32m    <a href='file:///home/ttseriotou/nlpsig-networks/nlpsig_networks/scripts/swnu_network_functions.py?line=354'>355</a>\u001b[0m     )\n\u001b[1;32m    <a href='file:///home/ttseriotou/nlpsig-networks/nlpsig_networks/scripts/swnu_network_functions.py?line=355'>356</a>\u001b[0m     \u001b[39m# save metric that we want to validate on\u001b[39;00m\n\u001b[1;32m    <a href='file:///home/ttseriotou/nlpsig-networks/nlpsig_networks/scripts/swnu_network_functions.py?line=356'>357</a>\u001b[0m     \u001b[39m# taking the mean over the performance on the folds for the seed\u001b[39;00m\n\u001b[1;32m    <a href='file:///home/ttseriotou/nlpsig-networks/nlpsig_networks/scripts/swnu_network_functions.py?line=357'>358</a>\u001b[0m     \u001b[39m# if k_fold=False, .mean() just returns the performance for the seed\u001b[39;00m\n\u001b[1;32m    <a href='file:///home/ttseriotou/nlpsig-networks/nlpsig_networks/scripts/swnu_network_functions.py?line=358'>359</a>\u001b[0m     scores\u001b[39m.\u001b[39mappend(results[\u001b[39mf\u001b[39m\u001b[39m\"\u001b[39m\u001b[39mvalid_\u001b[39m\u001b[39m{\u001b[39;00mvalidation_metric\u001b[39m}\u001b[39;00m\u001b[39m\"\u001b[39m]\u001b[39m.\u001b[39mmean())\n",
      "File \u001b[0;32m~/nlpsig-networks/nlpsig_networks/scripts/swnu_network_functions.py:194\u001b[0m, in \u001b[0;36mimplement_swnu_network\u001b[0;34m(num_epochs, x_data, y_data, input_channels, output_channels, num_time_features, embedding_dim, log_signature, sig_depth, lstm_hidden_dim, ffn_hidden_dim, output_dim, BiLSTM, dropout_rate, learning_rate, seed, loss, gamma, augmentation_type, comb_method, data_split_seed, k_fold, n_splits, verbose_training, verbose_results, verbose_model)\u001b[0m\n\u001b[1;32m    <a href='file:///home/ttseriotou/nlpsig-networks/nlpsig_networks/scripts/swnu_network_functions.py?line=190'>191</a>\u001b[0m optimizer \u001b[39m=\u001b[39m torch\u001b[39m.\u001b[39moptim\u001b[39m.\u001b[39mAdam(swnu_network_model\u001b[39m.\u001b[39mparameters(), lr\u001b[39m=\u001b[39mlearning_rate)\n\u001b[1;32m    <a href='file:///home/ttseriotou/nlpsig-networks/nlpsig_networks/scripts/swnu_network_functions.py?line=192'>193</a>\u001b[0m \u001b[39m# train FFN\u001b[39;00m\n\u001b[0;32m--> <a href='file:///home/ttseriotou/nlpsig-networks/nlpsig_networks/scripts/swnu_network_functions.py?line=193'>194</a>\u001b[0m swnu_network_model \u001b[39m=\u001b[39m training_pytorch(model\u001b[39m=\u001b[39;49mswnu_network_model,\n\u001b[1;32m    <a href='file:///home/ttseriotou/nlpsig-networks/nlpsig_networks/scripts/swnu_network_functions.py?line=194'>195</a>\u001b[0m                               train_loader\u001b[39m=\u001b[39;49mtrain,\n\u001b[1;32m    <a href='file:///home/ttseriotou/nlpsig-networks/nlpsig_networks/scripts/swnu_network_functions.py?line=195'>196</a>\u001b[0m                               criterion\u001b[39m=\u001b[39;49mcriterion,\n\u001b[1;32m    <a href='file:///home/ttseriotou/nlpsig-networks/nlpsig_networks/scripts/swnu_network_functions.py?line=196'>197</a>\u001b[0m                               optimizer\u001b[39m=\u001b[39;49moptimizer,\n\u001b[1;32m    <a href='file:///home/ttseriotou/nlpsig-networks/nlpsig_networks/scripts/swnu_network_functions.py?line=197'>198</a>\u001b[0m                               num_epochs\u001b[39m=\u001b[39;49mnum_epochs,\n\u001b[1;32m    <a href='file:///home/ttseriotou/nlpsig-networks/nlpsig_networks/scripts/swnu_network_functions.py?line=198'>199</a>\u001b[0m                               valid_loader\u001b[39m=\u001b[39;49mvalid,\n\u001b[1;32m    <a href='file:///home/ttseriotou/nlpsig-networks/nlpsig_networks/scripts/swnu_network_functions.py?line=199'>200</a>\u001b[0m                               seed\u001b[39m=\u001b[39;49mseed,\n\u001b[1;32m    <a href='file:///home/ttseriotou/nlpsig-networks/nlpsig_networks/scripts/swnu_network_functions.py?line=200'>201</a>\u001b[0m                               save_best\u001b[39m=\u001b[39;49msave_best,\n\u001b[1;32m    <a href='file:///home/ttseriotou/nlpsig-networks/nlpsig_networks/scripts/swnu_network_functions.py?line=201'>202</a>\u001b[0m                               output\u001b[39m=\u001b[39;49mmodel_output,\n\u001b[1;32m    <a href='file:///home/ttseriotou/nlpsig-networks/nlpsig_networks/scripts/swnu_network_functions.py?line=202'>203</a>\u001b[0m                               early_stopping\u001b[39m=\u001b[39;49mearly_stopping,\n\u001b[1;32m    <a href='file:///home/ttseriotou/nlpsig-networks/nlpsig_networks/scripts/swnu_network_functions.py?line=203'>204</a>\u001b[0m                               validation_metric\u001b[39m=\u001b[39;49mvalidation_metric,\n\u001b[1;32m    <a href='file:///home/ttseriotou/nlpsig-networks/nlpsig_networks/scripts/swnu_network_functions.py?line=204'>205</a>\u001b[0m                               patience\u001b[39m=\u001b[39;49mpatience,\n\u001b[1;32m    <a href='file:///home/ttseriotou/nlpsig-networks/nlpsig_networks/scripts/swnu_network_functions.py?line=205'>206</a>\u001b[0m                               verbose\u001b[39m=\u001b[39;49mverbose_training)\n\u001b[1;32m    <a href='file:///home/ttseriotou/nlpsig-networks/nlpsig_networks/scripts/swnu_network_functions.py?line=207'>208</a>\u001b[0m \u001b[39m# evaluate on validation\u001b[39;00m\n\u001b[1;32m    <a href='file:///home/ttseriotou/nlpsig-networks/nlpsig_networks/scripts/swnu_network_functions.py?line=208'>209</a>\u001b[0m test_results \u001b[39m=\u001b[39m testing_pytorch(model\u001b[39m=\u001b[39mswnu_network_model,\n\u001b[1;32m    <a href='file:///home/ttseriotou/nlpsig-networks/nlpsig_networks/scripts/swnu_network_functions.py?line=209'>210</a>\u001b[0m                                test_loader\u001b[39m=\u001b[39mtest,\n\u001b[1;32m    <a href='file:///home/ttseriotou/nlpsig-networks/nlpsig_networks/scripts/swnu_network_functions.py?line=210'>211</a>\u001b[0m                                criterion\u001b[39m=\u001b[39mcriterion,\n\u001b[1;32m    <a href='file:///home/ttseriotou/nlpsig-networks/nlpsig_networks/scripts/swnu_network_functions.py?line=211'>212</a>\u001b[0m                                verbose\u001b[39m=\u001b[39m\u001b[39mFalse\u001b[39;00m)\n",
      "File \u001b[0;32m~/nlpsig-networks/nlpsig_networks/pytorch_utils.py:429\u001b[0m, in \u001b[0;36mtraining_pytorch\u001b[0;34m(model, train_loader, criterion, optimizer, num_epochs, scheduler, valid_loader, seed, return_best, save_best, output, early_stopping, validation_metric, patience, verbose, verbose_epoch)\u001b[0m\n\u001b[1;32m    <a href='file:///home/ttseriotou/nlpsig-networks/nlpsig_networks/pytorch_utils.py?line=422'>423</a>\u001b[0m metric_v \u001b[39m=\u001b[39m validation_results[validation_metric]\n\u001b[1;32m    <a href='file:///home/ttseriotou/nlpsig-networks/nlpsig_networks/pytorch_utils.py?line=424'>425</a>\u001b[0m \u001b[39mif\u001b[39;00m save_best \u001b[39m|\u001b[39m return_best:\n\u001b[1;32m    <a href='file:///home/ttseriotou/nlpsig-networks/nlpsig_networks/pytorch_utils.py?line=425'>426</a>\u001b[0m     \u001b[39m# compute loss, accuracy and F1 on training set as well\u001b[39;00m\n\u001b[1;32m    <a href='file:///home/ttseriotou/nlpsig-networks/nlpsig_networks/pytorch_utils.py?line=426'>427</a>\u001b[0m     \u001b[39m# this is to determine how well we're doing on the training set\u001b[39;00m\n\u001b[1;32m    <a href='file:///home/ttseriotou/nlpsig-networks/nlpsig_networks/pytorch_utils.py?line=427'>428</a>\u001b[0m     \u001b[39m# allows us to choose between models that have the same validation\u001b[39;00m\n\u001b[0;32m--> <a href='file:///home/ttseriotou/nlpsig-networks/nlpsig_networks/pytorch_utils.py?line=428'>429</a>\u001b[0m     validation_results \u001b[39m=\u001b[39m validation_pytorch(\n\u001b[1;32m    <a href='file:///home/ttseriotou/nlpsig-networks/nlpsig_networks/pytorch_utils.py?line=429'>430</a>\u001b[0m         model\u001b[39m=\u001b[39;49mmodel,\n\u001b[1;32m    <a href='file:///home/ttseriotou/nlpsig-networks/nlpsig_networks/pytorch_utils.py?line=430'>431</a>\u001b[0m         valid_loader\u001b[39m=\u001b[39;49mtrain_loader,\n\u001b[1;32m    <a href='file:///home/ttseriotou/nlpsig-networks/nlpsig_networks/pytorch_utils.py?line=431'>432</a>\u001b[0m         criterion\u001b[39m=\u001b[39;49mcriterion,\n\u001b[1;32m    <a href='file:///home/ttseriotou/nlpsig-networks/nlpsig_networks/pytorch_utils.py?line=432'>433</a>\u001b[0m         epoch\u001b[39m=\u001b[39;49mepoch,\n\u001b[1;32m    <a href='file:///home/ttseriotou/nlpsig-networks/nlpsig_networks/pytorch_utils.py?line=433'>434</a>\u001b[0m         verbose\u001b[39m=\u001b[39;49m\u001b[39mFalse\u001b[39;49;00m,\n\u001b[1;32m    <a href='file:///home/ttseriotou/nlpsig-networks/nlpsig_networks/pytorch_utils.py?line=434'>435</a>\u001b[0m     )\n\u001b[1;32m    <a href='file:///home/ttseriotou/nlpsig-networks/nlpsig_networks/pytorch_utils.py?line=435'>436</a>\u001b[0m     \u001b[39m# save metric that we want to validate on\u001b[39;00m\n\u001b[1;32m    <a href='file:///home/ttseriotou/nlpsig-networks/nlpsig_networks/pytorch_utils.py?line=436'>437</a>\u001b[0m     metric_train \u001b[39m=\u001b[39m validation_results[validation_metric]\n",
      "File \u001b[0;32m~/nlpsig-networks/nlpsig_networks/pytorch_utils.py:287\u001b[0m, in \u001b[0;36mvalidation_pytorch\u001b[0;34m(model, valid_loader, criterion, epoch, verbose, verbose_epoch)\u001b[0m\n\u001b[1;32m    <a href='file:///home/ttseriotou/nlpsig-networks/nlpsig_networks/pytorch_utils.py?line=283'>284</a>\u001b[0m \u001b[39mwith\u001b[39;00m torch\u001b[39m.\u001b[39mno_grad():\n\u001b[1;32m    <a href='file:///home/ttseriotou/nlpsig-networks/nlpsig_networks/pytorch_utils.py?line=284'>285</a>\u001b[0m     \u001b[39mfor\u001b[39;00m emb_v, labels_v \u001b[39min\u001b[39;00m valid_loader:\n\u001b[1;32m    <a href='file:///home/ttseriotou/nlpsig-networks/nlpsig_networks/pytorch_utils.py?line=285'>286</a>\u001b[0m         \u001b[39m# make prediction\u001b[39;00m\n\u001b[0;32m--> <a href='file:///home/ttseriotou/nlpsig-networks/nlpsig_networks/pytorch_utils.py?line=286'>287</a>\u001b[0m         outputs \u001b[39m=\u001b[39m model(emb_v)\n\u001b[1;32m    <a href='file:///home/ttseriotou/nlpsig-networks/nlpsig_networks/pytorch_utils.py?line=287'>288</a>\u001b[0m         _, predicted_v \u001b[39m=\u001b[39m torch\u001b[39m.\u001b[39mmax(outputs\u001b[39m.\u001b[39mdata, \u001b[39m1\u001b[39m)\n\u001b[1;32m    <a href='file:///home/ttseriotou/nlpsig-networks/nlpsig_networks/pytorch_utils.py?line=288'>289</a>\u001b[0m         \u001b[39m# compute loss\u001b[39;00m\n",
      "File \u001b[0;32m/storage/ttseriotou/nlpsig-networks-env/lib/python3.8/site-packages/torch/nn/modules/module.py:1051\u001b[0m, in \u001b[0;36mModule._call_impl\u001b[0;34m(self, *input, **kwargs)\u001b[0m\n\u001b[1;32m   <a href='file:///storage/ttseriotou/nlpsig-networks-env/lib/python3.8/site-packages/torch/nn/modules/module.py?line=1046'>1047</a>\u001b[0m \u001b[39m# If we don't have any hooks, we want to skip the rest of the logic in\u001b[39;00m\n\u001b[1;32m   <a href='file:///storage/ttseriotou/nlpsig-networks-env/lib/python3.8/site-packages/torch/nn/modules/module.py?line=1047'>1048</a>\u001b[0m \u001b[39m# this function, and just call forward.\u001b[39;00m\n\u001b[1;32m   <a href='file:///storage/ttseriotou/nlpsig-networks-env/lib/python3.8/site-packages/torch/nn/modules/module.py?line=1048'>1049</a>\u001b[0m \u001b[39mif\u001b[39;00m \u001b[39mnot\u001b[39;00m (\u001b[39mself\u001b[39m\u001b[39m.\u001b[39m_backward_hooks \u001b[39mor\u001b[39;00m \u001b[39mself\u001b[39m\u001b[39m.\u001b[39m_forward_hooks \u001b[39mor\u001b[39;00m \u001b[39mself\u001b[39m\u001b[39m.\u001b[39m_forward_pre_hooks \u001b[39mor\u001b[39;00m _global_backward_hooks\n\u001b[1;32m   <a href='file:///storage/ttseriotou/nlpsig-networks-env/lib/python3.8/site-packages/torch/nn/modules/module.py?line=1049'>1050</a>\u001b[0m         \u001b[39mor\u001b[39;00m _global_forward_hooks \u001b[39mor\u001b[39;00m _global_forward_pre_hooks):\n\u001b[0;32m-> <a href='file:///storage/ttseriotou/nlpsig-networks-env/lib/python3.8/site-packages/torch/nn/modules/module.py?line=1050'>1051</a>\u001b[0m     \u001b[39mreturn\u001b[39;00m forward_call(\u001b[39m*\u001b[39;49m\u001b[39minput\u001b[39;49m, \u001b[39m*\u001b[39;49m\u001b[39m*\u001b[39;49mkwargs)\n\u001b[1;32m   <a href='file:///storage/ttseriotou/nlpsig-networks-env/lib/python3.8/site-packages/torch/nn/modules/module.py?line=1051'>1052</a>\u001b[0m \u001b[39m# Do not call functions when jit is used\u001b[39;00m\n\u001b[1;32m   <a href='file:///storage/ttseriotou/nlpsig-networks-env/lib/python3.8/site-packages/torch/nn/modules/module.py?line=1052'>1053</a>\u001b[0m full_backward_hooks, non_full_backward_hooks \u001b[39m=\u001b[39m [], []\n",
      "File \u001b[0;32m~/nlpsig-networks/nlpsig_networks/swnu_network.py:166\u001b[0m, in \u001b[0;36mSWNUNetwork.forward\u001b[0;34m(self, x)\u001b[0m\n\u001b[1;32m    <a href='file:///home/ttseriotou/nlpsig-networks/nlpsig_networks/swnu_network.py?line=162'>163</a>\u001b[0m \u001b[39mdef\u001b[39;00m \u001b[39mforward\u001b[39m(\u001b[39mself\u001b[39m, x: torch\u001b[39m.\u001b[39mTensor):\n\u001b[1;32m    <a href='file:///home/ttseriotou/nlpsig-networks/nlpsig_networks/swnu_network.py?line=163'>164</a>\u001b[0m     \u001b[39m# x has dimensions [batch, length of signal, channels]\u001b[39;00m\n\u001b[1;32m    <a href='file:///home/ttseriotou/nlpsig-networks/nlpsig_networks/swnu_network.py?line=164'>165</a>\u001b[0m     \u001b[39m# use SWNU to obtain feature set\u001b[39;00m\n\u001b[0;32m--> <a href='file:///home/ttseriotou/nlpsig-networks/nlpsig_networks/swnu_network.py?line=165'>166</a>\u001b[0m     out \u001b[39m=\u001b[39m \u001b[39mself\u001b[39;49m\u001b[39m.\u001b[39;49mswnu(x)\n\u001b[1;32m    <a href='file:///home/ttseriotou/nlpsig-networks/nlpsig_networks/swnu_network.py?line=167'>168</a>\u001b[0m     \u001b[39m# combine last post embedding\u001b[39;00m\n\u001b[1;32m    <a href='file:///home/ttseriotou/nlpsig-networks/nlpsig_networks/swnu_network.py?line=168'>169</a>\u001b[0m     \u001b[39mif\u001b[39;00m x\u001b[39m.\u001b[39mshape[\u001b[39m2\u001b[39m] \u001b[39m>\u001b[39m \u001b[39mself\u001b[39m\u001b[39m.\u001b[39minput_channels:\n\u001b[1;32m    <a href='file:///home/ttseriotou/nlpsig-networks/nlpsig_networks/swnu_network.py?line=169'>170</a>\u001b[0m         \u001b[39m# we have things to concatenate to the path\u001b[39;00m\n",
      "File \u001b[0;32m/storage/ttseriotou/nlpsig-networks-env/lib/python3.8/site-packages/torch/nn/modules/module.py:1051\u001b[0m, in \u001b[0;36mModule._call_impl\u001b[0;34m(self, *input, **kwargs)\u001b[0m\n\u001b[1;32m   <a href='file:///storage/ttseriotou/nlpsig-networks-env/lib/python3.8/site-packages/torch/nn/modules/module.py?line=1046'>1047</a>\u001b[0m \u001b[39m# If we don't have any hooks, we want to skip the rest of the logic in\u001b[39;00m\n\u001b[1;32m   <a href='file:///storage/ttseriotou/nlpsig-networks-env/lib/python3.8/site-packages/torch/nn/modules/module.py?line=1047'>1048</a>\u001b[0m \u001b[39m# this function, and just call forward.\u001b[39;00m\n\u001b[1;32m   <a href='file:///storage/ttseriotou/nlpsig-networks-env/lib/python3.8/site-packages/torch/nn/modules/module.py?line=1048'>1049</a>\u001b[0m \u001b[39mif\u001b[39;00m \u001b[39mnot\u001b[39;00m (\u001b[39mself\u001b[39m\u001b[39m.\u001b[39m_backward_hooks \u001b[39mor\u001b[39;00m \u001b[39mself\u001b[39m\u001b[39m.\u001b[39m_forward_hooks \u001b[39mor\u001b[39;00m \u001b[39mself\u001b[39m\u001b[39m.\u001b[39m_forward_pre_hooks \u001b[39mor\u001b[39;00m _global_backward_hooks\n\u001b[1;32m   <a href='file:///storage/ttseriotou/nlpsig-networks-env/lib/python3.8/site-packages/torch/nn/modules/module.py?line=1049'>1050</a>\u001b[0m         \u001b[39mor\u001b[39;00m _global_forward_hooks \u001b[39mor\u001b[39;00m _global_forward_pre_hooks):\n\u001b[0;32m-> <a href='file:///storage/ttseriotou/nlpsig-networks-env/lib/python3.8/site-packages/torch/nn/modules/module.py?line=1050'>1051</a>\u001b[0m     \u001b[39mreturn\u001b[39;00m forward_call(\u001b[39m*\u001b[39;49m\u001b[39minput\u001b[39;49m, \u001b[39m*\u001b[39;49m\u001b[39m*\u001b[39;49mkwargs)\n\u001b[1;32m   <a href='file:///storage/ttseriotou/nlpsig-networks-env/lib/python3.8/site-packages/torch/nn/modules/module.py?line=1051'>1052</a>\u001b[0m \u001b[39m# Do not call functions when jit is used\u001b[39;00m\n\u001b[1;32m   <a href='file:///storage/ttseriotou/nlpsig-networks-env/lib/python3.8/site-packages/torch/nn/modules/module.py?line=1052'>1053</a>\u001b[0m full_backward_hooks, non_full_backward_hooks \u001b[39m=\u001b[39m [], []\n",
      "File \u001b[0;32m~/nlpsig-networks/nlpsig_networks/swnu.py:246\u001b[0m, in \u001b[0;36mSWNU.forward\u001b[0;34m(self, x)\u001b[0m\n\u001b[1;32m    <a href='file:///home/ttseriotou/nlpsig-networks/nlpsig_networks/swnu.py?line=238'>239</a>\u001b[0m \u001b[39melif\u001b[39;00m \u001b[39mself\u001b[39m\u001b[39m.\u001b[39maugmentation_type \u001b[39m==\u001b[39m \u001b[39m\"\u001b[39m\u001b[39msignatory\u001b[39m\u001b[39m\"\u001b[39m:\n\u001b[1;32m    <a href='file:///home/ttseriotou/nlpsig-networks/nlpsig_networks/swnu.py?line=239'>240</a>\u001b[0m     \u001b[39m# input has dimensions [batch, length of signal, channels]\u001b[39;00m\n\u001b[1;32m    <a href='file:///home/ttseriotou/nlpsig-networks/nlpsig_networks/swnu.py?line=240'>241</a>\u001b[0m     \u001b[39m# (signatory.Augment expects this)\u001b[39;00m\n\u001b[1;32m    <a href='file:///home/ttseriotou/nlpsig-networks/nlpsig_networks/swnu.py?line=241'>242</a>\u001b[0m     \u001b[39m# and get only the path information\u001b[39;00m\n\u001b[1;32m    <a href='file:///home/ttseriotou/nlpsig-networks/nlpsig_networks/swnu.py?line=242'>243</a>\u001b[0m     \u001b[39m# output has dimensions [batch, length of signal, channels]\u001b[39;00m\n\u001b[1;32m    <a href='file:///home/ttseriotou/nlpsig-networks/nlpsig_networks/swnu.py?line=243'>244</a>\u001b[0m     out \u001b[39m=\u001b[39m \u001b[39mself\u001b[39m\u001b[39m.\u001b[39maugment(x[:, :, : \u001b[39mself\u001b[39m\u001b[39m.\u001b[39minput_channels])\n\u001b[0;32m--> <a href='file:///home/ttseriotou/nlpsig-networks/nlpsig_networks/swnu.py?line=245'>246</a>\u001b[0m out \u001b[39m=\u001b[39m \u001b[39mself\u001b[39;49m\u001b[39m.\u001b[39;49mswlstm(out)\n\u001b[1;32m    <a href='file:///home/ttseriotou/nlpsig-networks/nlpsig_networks/swnu.py?line=247'>248</a>\u001b[0m \u001b[39mreturn\u001b[39;00m out\n",
      "File \u001b[0;32m/storage/ttseriotou/nlpsig-networks-env/lib/python3.8/site-packages/torch/nn/modules/module.py:1051\u001b[0m, in \u001b[0;36mModule._call_impl\u001b[0;34m(self, *input, **kwargs)\u001b[0m\n\u001b[1;32m   <a href='file:///storage/ttseriotou/nlpsig-networks-env/lib/python3.8/site-packages/torch/nn/modules/module.py?line=1046'>1047</a>\u001b[0m \u001b[39m# If we don't have any hooks, we want to skip the rest of the logic in\u001b[39;00m\n\u001b[1;32m   <a href='file:///storage/ttseriotou/nlpsig-networks-env/lib/python3.8/site-packages/torch/nn/modules/module.py?line=1047'>1048</a>\u001b[0m \u001b[39m# this function, and just call forward.\u001b[39;00m\n\u001b[1;32m   <a href='file:///storage/ttseriotou/nlpsig-networks-env/lib/python3.8/site-packages/torch/nn/modules/module.py?line=1048'>1049</a>\u001b[0m \u001b[39mif\u001b[39;00m \u001b[39mnot\u001b[39;00m (\u001b[39mself\u001b[39m\u001b[39m.\u001b[39m_backward_hooks \u001b[39mor\u001b[39;00m \u001b[39mself\u001b[39m\u001b[39m.\u001b[39m_forward_hooks \u001b[39mor\u001b[39;00m \u001b[39mself\u001b[39m\u001b[39m.\u001b[39m_forward_pre_hooks \u001b[39mor\u001b[39;00m _global_backward_hooks\n\u001b[1;32m   <a href='file:///storage/ttseriotou/nlpsig-networks-env/lib/python3.8/site-packages/torch/nn/modules/module.py?line=1049'>1050</a>\u001b[0m         \u001b[39mor\u001b[39;00m _global_forward_hooks \u001b[39mor\u001b[39;00m _global_forward_pre_hooks):\n\u001b[0;32m-> <a href='file:///storage/ttseriotou/nlpsig-networks-env/lib/python3.8/site-packages/torch/nn/modules/module.py?line=1050'>1051</a>\u001b[0m     \u001b[39mreturn\u001b[39;00m forward_call(\u001b[39m*\u001b[39;49m\u001b[39minput\u001b[39;49m, \u001b[39m*\u001b[39;49m\u001b[39m*\u001b[39;49mkwargs)\n\u001b[1;32m   <a href='file:///storage/ttseriotou/nlpsig-networks-env/lib/python3.8/site-packages/torch/nn/modules/module.py?line=1051'>1052</a>\u001b[0m \u001b[39m# Do not call functions when jit is used\u001b[39;00m\n\u001b[1;32m   <a href='file:///storage/ttseriotou/nlpsig-networks-env/lib/python3.8/site-packages/torch/nn/modules/module.py?line=1052'>1053</a>\u001b[0m full_backward_hooks, non_full_backward_hooks \u001b[39m=\u001b[39m [], []\n",
      "File \u001b[0;32m~/nlpsig-networks/nlpsig_networks/swnu.py:124\u001b[0m, in \u001b[0;36mSWLSTM.forward\u001b[0;34m(self, x)\u001b[0m\n\u001b[1;32m    <a href='file:///home/ttseriotou/nlpsig-networks/nlpsig_networks/swnu.py?line=120'>121</a>\u001b[0m         x \u001b[39m=\u001b[39m x\u001b[39m.\u001b[39mrepeat(\u001b[39m1\u001b[39m,stream_dim,\u001b[39m1\u001b[39m)\n\u001b[1;32m    <a href='file:///home/ttseriotou/nlpsig-networks/nlpsig_networks/swnu.py?line=122'>123</a>\u001b[0m \u001b[39m# take final signature\u001b[39;00m\n\u001b[0;32m--> <a href='file:///home/ttseriotou/nlpsig-networks/nlpsig_networks/swnu.py?line=123'>124</a>\u001b[0m out \u001b[39m=\u001b[39m \u001b[39mself\u001b[39;49m\u001b[39m.\u001b[39;49msignature2(x)\n\u001b[1;32m    <a href='file:///home/ttseriotou/nlpsig-networks/nlpsig_networks/swnu.py?line=125'>126</a>\u001b[0m \u001b[39mreturn\u001b[39;00m out\n",
      "File \u001b[0;32m/storage/ttseriotou/nlpsig-networks-env/lib/python3.8/site-packages/torch/nn/modules/module.py:1051\u001b[0m, in \u001b[0;36mModule._call_impl\u001b[0;34m(self, *input, **kwargs)\u001b[0m\n\u001b[1;32m   <a href='file:///storage/ttseriotou/nlpsig-networks-env/lib/python3.8/site-packages/torch/nn/modules/module.py?line=1046'>1047</a>\u001b[0m \u001b[39m# If we don't have any hooks, we want to skip the rest of the logic in\u001b[39;00m\n\u001b[1;32m   <a href='file:///storage/ttseriotou/nlpsig-networks-env/lib/python3.8/site-packages/torch/nn/modules/module.py?line=1047'>1048</a>\u001b[0m \u001b[39m# this function, and just call forward.\u001b[39;00m\n\u001b[1;32m   <a href='file:///storage/ttseriotou/nlpsig-networks-env/lib/python3.8/site-packages/torch/nn/modules/module.py?line=1048'>1049</a>\u001b[0m \u001b[39mif\u001b[39;00m \u001b[39mnot\u001b[39;00m (\u001b[39mself\u001b[39m\u001b[39m.\u001b[39m_backward_hooks \u001b[39mor\u001b[39;00m \u001b[39mself\u001b[39m\u001b[39m.\u001b[39m_forward_hooks \u001b[39mor\u001b[39;00m \u001b[39mself\u001b[39m\u001b[39m.\u001b[39m_forward_pre_hooks \u001b[39mor\u001b[39;00m _global_backward_hooks\n\u001b[1;32m   <a href='file:///storage/ttseriotou/nlpsig-networks-env/lib/python3.8/site-packages/torch/nn/modules/module.py?line=1049'>1050</a>\u001b[0m         \u001b[39mor\u001b[39;00m _global_forward_hooks \u001b[39mor\u001b[39;00m _global_forward_pre_hooks):\n\u001b[0;32m-> <a href='file:///storage/ttseriotou/nlpsig-networks-env/lib/python3.8/site-packages/torch/nn/modules/module.py?line=1050'>1051</a>\u001b[0m     \u001b[39mreturn\u001b[39;00m forward_call(\u001b[39m*\u001b[39;49m\u001b[39minput\u001b[39;49m, \u001b[39m*\u001b[39;49m\u001b[39m*\u001b[39;49mkwargs)\n\u001b[1;32m   <a href='file:///storage/ttseriotou/nlpsig-networks-env/lib/python3.8/site-packages/torch/nn/modules/module.py?line=1051'>1052</a>\u001b[0m \u001b[39m# Do not call functions when jit is used\u001b[39;00m\n\u001b[1;32m   <a href='file:///storage/ttseriotou/nlpsig-networks-env/lib/python3.8/site-packages/torch/nn/modules/module.py?line=1052'>1053</a>\u001b[0m full_backward_hooks, non_full_backward_hooks \u001b[39m=\u001b[39m [], []\n",
      "File \u001b[0;32m/storage/ttseriotou/nlpsig-networks-env/lib/python3.8/site-packages/signatory/logsignature_module.py:332\u001b[0m, in \u001b[0;36mLogSignature.forward\u001b[0;34m(self, path, basepoint)\u001b[0m\n\u001b[1;32m    <a href='file:///storage/ttseriotou/nlpsig-networks-env/lib/python3.8/site-packages/signatory/logsignature_module.py?line=319'>320</a>\u001b[0m \u001b[39mdef\u001b[39;00m \u001b[39mforward\u001b[39m(\u001b[39mself\u001b[39m, path: torch\u001b[39m.\u001b[39mTensor, basepoint: Union[\u001b[39mbool\u001b[39m, torch\u001b[39m.\u001b[39mTensor] \u001b[39m=\u001b[39m \u001b[39mFalse\u001b[39;00m) \u001b[39m-\u001b[39m\u001b[39m>\u001b[39m torch\u001b[39m.\u001b[39mTensor:\n\u001b[1;32m    <a href='file:///storage/ttseriotou/nlpsig-networks-env/lib/python3.8/site-packages/signatory/logsignature_module.py?line=320'>321</a>\u001b[0m \u001b[39m    \u001b[39m\u001b[39m\"\"\"The forward operation.\u001b[39;00m\n\u001b[1;32m    <a href='file:///storage/ttseriotou/nlpsig-networks-env/lib/python3.8/site-packages/signatory/logsignature_module.py?line=321'>322</a>\u001b[0m \n\u001b[1;32m    <a href='file:///storage/ttseriotou/nlpsig-networks-env/lib/python3.8/site-packages/signatory/logsignature_module.py?line=322'>323</a>\u001b[0m \u001b[39m    Arguments:\u001b[39;00m\n\u001b[0;32m   (...)\u001b[0m\n\u001b[1;32m    <a href='file:///storage/ttseriotou/nlpsig-networks-env/lib/python3.8/site-packages/signatory/logsignature_module.py?line=328'>329</a>\u001b[0m \u001b[39m        As :func:`signatory.logsignature`.\u001b[39;00m\n\u001b[1;32m    <a href='file:///storage/ttseriotou/nlpsig-networks-env/lib/python3.8/site-packages/signatory/logsignature_module.py?line=329'>330</a>\u001b[0m \u001b[39m    \"\"\"\u001b[39;00m\n\u001b[0;32m--> <a href='file:///storage/ttseriotou/nlpsig-networks-env/lib/python3.8/site-packages/signatory/logsignature_module.py?line=331'>332</a>\u001b[0m     signature \u001b[39m=\u001b[39m smodule\u001b[39m.\u001b[39;49msignature(path, \u001b[39mself\u001b[39;49m\u001b[39m.\u001b[39;49m_depth, stream\u001b[39m=\u001b[39;49m\u001b[39mself\u001b[39;49m\u001b[39m.\u001b[39;49m_stream, basepoint\u001b[39m=\u001b[39;49mbasepoint,\n\u001b[1;32m    <a href='file:///storage/ttseriotou/nlpsig-networks-env/lib/python3.8/site-packages/signatory/logsignature_module.py?line=332'>333</a>\u001b[0m                                   inverse\u001b[39m=\u001b[39;49m\u001b[39mself\u001b[39;49m\u001b[39m.\u001b[39;49m_inverse, initial\u001b[39m=\u001b[39;49m\u001b[39mNone\u001b[39;49;00m)\n\u001b[1;32m    <a href='file:///storage/ttseriotou/nlpsig-networks-env/lib/python3.8/site-packages/signatory/logsignature_module.py?line=333'>334</a>\u001b[0m     \u001b[39mreturn\u001b[39;00m \u001b[39mself\u001b[39m\u001b[39m.\u001b[39m_get_signature_to_logsignature_instance(path\u001b[39m.\u001b[39msize(\u001b[39m-\u001b[39m\u001b[39m1\u001b[39m))(signature)\n",
      "File \u001b[0;32m/storage/ttseriotou/nlpsig-networks-env/lib/python3.8/site-packages/signatory/signature_module.py:252\u001b[0m, in \u001b[0;36msignature\u001b[0;34m(path, depth, stream, basepoint, inverse, initial, scalar_term)\u001b[0m\n\u001b[1;32m    <a href='file:///storage/ttseriotou/nlpsig-networks-env/lib/python3.8/site-packages/signatory/signature_module.py?line=249'>250</a>\u001b[0m result \u001b[39m=\u001b[39m _signature_batch_trick(path, depth, stream, basepoint, inverse, initial, scalar_term)\n\u001b[1;32m    <a href='file:///storage/ttseriotou/nlpsig-networks-env/lib/python3.8/site-packages/signatory/signature_module.py?line=250'>251</a>\u001b[0m \u001b[39mif\u001b[39;00m result \u001b[39mis\u001b[39;00m \u001b[39mNone\u001b[39;00m:  \u001b[39m# Either because we disabled use of the batch trick, or because the batch trick doesn't apply\u001b[39;00m\n\u001b[0;32m--> <a href='file:///storage/ttseriotou/nlpsig-networks-env/lib/python3.8/site-packages/signatory/signature_module.py?line=251'>252</a>\u001b[0m     result \u001b[39m=\u001b[39m _SignatureFunction\u001b[39m.\u001b[39;49mapply(path\u001b[39m.\u001b[39;49mtranspose(\u001b[39m0\u001b[39;49m, \u001b[39m1\u001b[39;49m), depth, stream, basepoint, inverse, initial, scalar_term)\n\u001b[1;32m    <a href='file:///storage/ttseriotou/nlpsig-networks-env/lib/python3.8/site-packages/signatory/signature_module.py?line=253'>254</a>\u001b[0m \u001b[39m# We have to do the transpose outside of autograd.Function.apply to avoid PyTorch bug 24413\u001b[39;00m\n\u001b[1;32m    <a href='file:///storage/ttseriotou/nlpsig-networks-env/lib/python3.8/site-packages/signatory/signature_module.py?line=254'>255</a>\u001b[0m \u001b[39mif\u001b[39;00m stream:\n\u001b[1;32m    <a href='file:///storage/ttseriotou/nlpsig-networks-env/lib/python3.8/site-packages/signatory/signature_module.py?line=255'>256</a>\u001b[0m     \u001b[39m# NOT .transpose_ - the underlying TensorImpl (in C++) is used elsewhere and we don't want to change it.\u001b[39;00m\n",
      "File \u001b[0;32m/storage/ttseriotou/nlpsig-networks-env/lib/python3.8/site-packages/signatory/signature_module.py:61\u001b[0m, in \u001b[0;36m_SignatureFunction.forward\u001b[0;34m(ctx, path, depth, stream, basepoint, inverse, initial, scalar_term)\u001b[0m\n\u001b[1;32m     <a href='file:///storage/ttseriotou/nlpsig-networks-env/lib/python3.8/site-packages/signatory/signature_module.py?line=56'>57</a>\u001b[0m basepoint, basepoint_value \u001b[39m=\u001b[39m interpret_basepoint(basepoint, path\u001b[39m.\u001b[39msize(\u001b[39m-\u001b[39m\u001b[39m2\u001b[39m), path\u001b[39m.\u001b[39msize(\u001b[39m-\u001b[39m\u001b[39m1\u001b[39m), path\u001b[39m.\u001b[39mdtype,\n\u001b[1;32m     <a href='file:///storage/ttseriotou/nlpsig-networks-env/lib/python3.8/site-packages/signatory/signature_module.py?line=57'>58</a>\u001b[0m                                                  path\u001b[39m.\u001b[39mdevice)\n\u001b[1;32m     <a href='file:///storage/ttseriotou/nlpsig-networks-env/lib/python3.8/site-packages/signatory/signature_module.py?line=58'>59</a>\u001b[0m initial, initial_value \u001b[39m=\u001b[39m interpret_initial(initial)\n\u001b[0;32m---> <a href='file:///storage/ttseriotou/nlpsig-networks-env/lib/python3.8/site-packages/signatory/signature_module.py?line=60'>61</a>\u001b[0m signature_, path_increments \u001b[39m=\u001b[39m impl\u001b[39m.\u001b[39;49msignature_forward(path, depth, stream, basepoint, basepoint_value, inverse,\n\u001b[1;32m     <a href='file:///storage/ttseriotou/nlpsig-networks-env/lib/python3.8/site-packages/signatory/signature_module.py?line=61'>62</a>\u001b[0m                                                      initial, initial_value, scalar_term)\n\u001b[1;32m     <a href='file:///storage/ttseriotou/nlpsig-networks-env/lib/python3.8/site-packages/signatory/signature_module.py?line=62'>63</a>\u001b[0m ctx\u001b[39m.\u001b[39msave_for_backward(signature_, path_increments)\n\u001b[1;32m     <a href='file:///storage/ttseriotou/nlpsig-networks-env/lib/python3.8/site-packages/signatory/signature_module.py?line=63'>64</a>\u001b[0m ctx\u001b[39m.\u001b[39mdepth \u001b[39m=\u001b[39m depth\n",
      "File \u001b[0;32m/storage/ttseriotou/nlpsig-networks-env/lib/python3.8/site-packages/signatory/impl.py:36\u001b[0m, in \u001b[0;36m_wrap.<locals>.wrapped\u001b[0;34m(*args, **kwargs)\u001b[0m\n\u001b[1;32m     <a href='file:///storage/ttseriotou/nlpsig-networks-env/lib/python3.8/site-packages/signatory/impl.py?line=33'>34</a>\u001b[0m \u001b[39mdef\u001b[39;00m \u001b[39mwrapped\u001b[39m(\u001b[39m*\u001b[39margs, \u001b[39m*\u001b[39m\u001b[39m*\u001b[39mkwargs):\n\u001b[1;32m     <a href='file:///storage/ttseriotou/nlpsig-networks-env/lib/python3.8/site-packages/signatory/impl.py?line=34'>35</a>\u001b[0m     \u001b[39mtry\u001b[39;00m:\n\u001b[0;32m---> <a href='file:///storage/ttseriotou/nlpsig-networks-env/lib/python3.8/site-packages/signatory/impl.py?line=35'>36</a>\u001b[0m         \u001b[39mreturn\u001b[39;00m fn(\u001b[39m*\u001b[39;49margs, \u001b[39m*\u001b[39;49m\u001b[39m*\u001b[39;49mkwargs)\n\u001b[1;32m     <a href='file:///storage/ttseriotou/nlpsig-networks-env/lib/python3.8/site-packages/signatory/impl.py?line=36'>37</a>\u001b[0m     \u001b[39mexcept\u001b[39;00m \u001b[39mRuntimeError\u001b[39;00m \u001b[39mas\u001b[39;00m e:\n\u001b[1;32m     <a href='file:///storage/ttseriotou/nlpsig-networks-env/lib/python3.8/site-packages/signatory/impl.py?line=37'>38</a>\u001b[0m         \u001b[39mraise\u001b[39;00m \u001b[39mValueError\u001b[39;00m(\u001b[39mstr\u001b[39m(e))\n",
      "\u001b[0;31mKeyboardInterrupt\u001b[0m: "
     ]
    }
   ],
   "source": [
    "size=20\n",
    "swnu_network_log_signature, best_swnu_network_log_signature, _, __ = swnu_network_hyperparameter_search(\n",
    "    num_epochs=num_epochs,\n",
    "    df=df_rumours,\n",
    "    id_column=\"timeline_id\",\n",
    "    label_column=\"label\",\n",
    "    embeddings=sbert_embeddings.numpy(),\n",
    "    y_data=y_data,\n",
    "    embedding_dim=embedding_dim,\n",
    "    output_dim=output_dim,\n",
    "    history_lengths=[size],\n",
    "    dim_reduce_methods=dim_reduce_method,\n",
    "    dimensions=dimensions, \n",
    "    sig_depths=[x[1] for x in log_signature_dimensions_and_sig_depths], \n",
    "    log_signature=log_sig,\n",
    "    conv_output_channels=conv_output_channels,\n",
    "    swnu_hidden_dim_sizes=[x[0] for x in log_signature_dimensions_and_sig_depths],\n",
    "    ffn_hidden_dim_sizes=hidden_dim_sizes,\n",
    "    dropout_rates=dropout_rates,\n",
    "    learning_rates=learning_rates,\n",
    "    BiLSTM=bidirectional,\n",
    "    seeds=seeds,\n",
    "    loss=loss,\n",
    "    gamma=gamma,\n",
    "    time_feature=time_features, \n",
    "    standardise_method=standardise_method,\n",
    "    path_indices=None,\n",
    "    data_split_seed=123,\n",
    "    k_fold=False,\n",
    "    validation_metric=validation_metric,\n",
    "    results_output=None,\n",
    "    verbose=False\n",
    ")"
   ]
  },
  {
   "cell_type": "code",
   "execution_count": null,
   "metadata": {},
   "outputs": [],
   "source": []
  }
 ],
 "metadata": {
  "kernelspec": {
   "display_name": "nlpsig_kernel",
   "language": "python",
   "name": "nlpsig_kernel"
  },
  "language_info": {
   "codemirror_mode": {
    "name": "ipython",
    "version": 3
   },
   "file_extension": ".py",
   "mimetype": "text/x-python",
   "name": "python",
   "nbconvert_exporter": "python",
   "pygments_lexer": "ipython3",
   "version": "3.8.16"
  },
  "orig_nbformat": 4
 },
 "nbformat": 4,
 "nbformat_minor": 2
}
