{
 "cells": [
  {
   "cell_type": "code",
   "execution_count": 1,
   "metadata": {},
   "outputs": [],
   "source": [
    "import pickle\n",
    "import numpy as np\n",
    "import pandas as pd\n",
    "import os\n",
    "from tqdm.notebook import tqdm\n",
    "import re\n",
    "\n",
    "seed = 2023"
   ]
  },
  {
   "cell_type": "code",
   "execution_count": 2,
   "metadata": {},
   "outputs": [],
   "source": [
    "from nlpsig_networks.scripts.swnu_network_functions import (\n",
    "    swnu_network_hyperparameter_search, obtain_SWNUNetwork_input\n",
    ")"
   ]
  },
  {
   "cell_type": "code",
   "execution_count": 3,
   "metadata": {},
   "outputs": [],
   "source": [
    "output_dir = \"rumours_output\"\n",
    "if not os.path.isdir(output_dir):\n",
    "    os.makedirs(output_dir)"
   ]
  },
  {
   "cell_type": "markdown",
   "metadata": {},
   "source": [
    "## Rumours"
   ]
  },
  {
   "cell_type": "code",
   "execution_count": 4,
   "metadata": {},
   "outputs": [],
   "source": [
    "%run load_sbert-embeddings.py"
   ]
  },
  {
   "cell_type": "code",
   "execution_count": 5,
   "metadata": {},
   "outputs": [
    {
     "data": {
      "text/html": [
       "<div>\n",
       "<style scoped>\n",
       "    .dataframe tbody tr th:only-of-type {\n",
       "        vertical-align: middle;\n",
       "    }\n",
       "\n",
       "    .dataframe tbody tr th {\n",
       "        vertical-align: top;\n",
       "    }\n",
       "\n",
       "    .dataframe thead th {\n",
       "        text-align: right;\n",
       "    }\n",
       "</style>\n",
       "<table border=\"1\" class=\"dataframe\">\n",
       "  <thead>\n",
       "    <tr style=\"text-align: right;\">\n",
       "      <th></th>\n",
       "      <th>id</th>\n",
       "      <th>label</th>\n",
       "      <th>datetime</th>\n",
       "      <th>text</th>\n",
       "      <th>timeline_id</th>\n",
       "      <th>set</th>\n",
       "    </tr>\n",
       "  </thead>\n",
       "  <tbody>\n",
       "    <tr>\n",
       "      <th>0</th>\n",
       "      <td>5.249902e+17</td>\n",
       "      <td>0</td>\n",
       "      <td>2014-10-22 18:26:23</td>\n",
       "      <td>Police have clarified that there were two shoo...</td>\n",
       "      <td>0</td>\n",
       "      <td>train</td>\n",
       "    </tr>\n",
       "    <tr>\n",
       "      <th>1</th>\n",
       "      <td>5.249906e+17</td>\n",
       "      <td>0</td>\n",
       "      <td>2014-10-22 18:27:58</td>\n",
       "      <td>@CTVNews you guys \"confirmed\" there were 3 sho...</td>\n",
       "      <td>0</td>\n",
       "      <td>train</td>\n",
       "    </tr>\n",
       "    <tr>\n",
       "      <th>2</th>\n",
       "      <td>5.249908e+17</td>\n",
       "      <td>1</td>\n",
       "      <td>2014-10-22 18:28:46</td>\n",
       "      <td>@CTVNews get it right. http://t.co/GHYxMuzPG9</td>\n",
       "      <td>0</td>\n",
       "      <td>train</td>\n",
       "    </tr>\n",
       "    <tr>\n",
       "      <th>3</th>\n",
       "      <td>5.249927e+17</td>\n",
       "      <td>1</td>\n",
       "      <td>2014-10-22 18:36:29</td>\n",
       "      <td>RT @CTVNews Police have clarified that there w...</td>\n",
       "      <td>0</td>\n",
       "      <td>train</td>\n",
       "    </tr>\n",
       "    <tr>\n",
       "      <th>4</th>\n",
       "      <td>5.250038e+17</td>\n",
       "      <td>1</td>\n",
       "      <td>2014-10-22 19:20:41</td>\n",
       "      <td>@CTVNews @ctvsaskatoon so what happened at Rid...</td>\n",
       "      <td>0</td>\n",
       "      <td>train</td>\n",
       "    </tr>\n",
       "  </tbody>\n",
       "</table>\n",
       "</div>"
      ],
      "text/plain": [
       "             id label            datetime  \\\n",
       "0  5.249902e+17     0 2014-10-22 18:26:23   \n",
       "1  5.249906e+17     0 2014-10-22 18:27:58   \n",
       "2  5.249908e+17     1 2014-10-22 18:28:46   \n",
       "3  5.249927e+17     1 2014-10-22 18:36:29   \n",
       "4  5.250038e+17     1 2014-10-22 19:20:41   \n",
       "\n",
       "                                                text timeline_id    set  \n",
       "0  Police have clarified that there were two shoo...           0  train  \n",
       "1  @CTVNews you guys \"confirmed\" there were 3 sho...           0  train  \n",
       "2      @CTVNews get it right. http://t.co/GHYxMuzPG9           0  train  \n",
       "3  RT @CTVNews Police have clarified that there w...           0  train  \n",
       "4  @CTVNews @ctvsaskatoon so what happened at Rid...           0  train  "
      ]
     },
     "execution_count": 5,
     "metadata": {},
     "output_type": "execute_result"
    }
   ],
   "source": [
    "df_rumours.head()"
   ]
  },
  {
   "cell_type": "code",
   "execution_count": 6,
   "metadata": {},
   "outputs": [
    {
     "name": "stdout",
     "output_type": "stream",
     "text": [
      "[INFO] Concatenating the embeddings to the dataframe...\n",
      "[INFO] - columns beginning with 'e' denote the full embddings.\n",
      "[INFO] - columns beginning with 'd' denote the dimension reduced embeddings.\n",
      "[INFO] Adding time feature columns into dataframe in `.df`.\n",
      "[INFO] Adding 'time_encoding' feature...\n",
      "[INFO] Adding 'time_diff' feature...\n",
      "[INFO] Adding 'timeline_index' feature...\n",
      "[INFO] Padding ids and storing in `.df_padded` and `.array_padded` attributes.\n"
     ]
    },
    {
     "data": {
      "application/vnd.jupyter.widget-view+json": {
       "model_id": "83d09728f5d14a34b8bb087612bfd8e9",
       "version_major": 2,
       "version_minor": 0
      },
      "text/plain": [
       "  0%|          | 0/5568 [00:00<?, ?it/s]"
      ]
     },
     "metadata": {},
     "output_type": "display_data"
    },
    {
     "name": "stdout",
     "output_type": "stream",
     "text": [
      "[INFO] The path was created for each item in the dataframe, by looking at its history, so to include embeddings in the FFN input, we concatenate the embeddings for each sentence / text.\n"
     ]
    },
    {
     "data": {
      "text/plain": [
       "torch.Size([5568, 5, 415])"
      ]
     },
     "execution_count": 6,
     "metadata": {},
     "output_type": "execute_result"
    }
   ],
   "source": [
    "x_data = obtain_SWNUNetwork_input(\n",
    "    method = \"gaussian_random_projection\",\n",
    "    dimension= 30,\n",
    "    df= df_rumours,\n",
    "    id_column='timeline_id',\n",
    "    label_column='label',\n",
    "    embeddings= sbert_embeddings,\n",
    "    k=5,\n",
    "    features='time_encoding',\n",
    "    standardise_method=None,\n",
    "    add_time_in_path=False,\n",
    ")\n",
    "\n",
    "x_data[0].shape"
   ]
  },
  {
   "cell_type": "markdown",
   "metadata": {},
   "source": [
    "## SWNU Network"
   ]
  },
  {
   "cell_type": "code",
   "execution_count": 7,
   "metadata": {},
   "outputs": [],
   "source": [
    "features = [\"time_encoding\", \"timeline_index\"]\n",
    "standardise_method = [\"z_score\", None]\n",
    "num_features = len(features)\n",
    "add_time_in_path = True"
   ]
  },
  {
   "cell_type": "code",
   "execution_count": 8,
   "metadata": {},
   "outputs": [],
   "source": [
    "num_epochs = 100\n",
    "embedding_dim = 384\n",
    "dimensions = [15]\n",
    "swnu_hidden_dim_sizes_and_sig_depths = [([12], 3), ([10], 4)]\n",
    "ffn_hidden_dim_sizes = [[64,64],[128,128],[256,256],[512,512]]\n",
    "dropout_rates = [0.5, 0.1]\n",
    "learning_rates = [1e-3, 1e-4, 5e-4]\n",
    "seeds = [1, 12, 123]\n",
    "bidirectional = True\n",
    "loss = \"focal\"\n",
    "gamma = 2\n",
    "validation_metric = \"f1\"\n",
    "patience = 5\n",
    "split_indices = (df_rumours[df_rumours['set']=='train'].index,\n",
    "                 df_rumours[df_rumours['set']=='dev'].index,\n",
    "                 df_rumours[df_rumours['set']=='test'].index)"
   ]
  },
  {
   "cell_type": "code",
   "execution_count": 9,
   "metadata": {},
   "outputs": [],
   "source": [
    "# #dimensionality reduction\n",
    "# embedding_dim = sbert_embeddings.shape[1]\n",
    "# dim_reduce_method = [\"umap\"] #[\"gaussian_random_projection\", \"umap\"]\n",
    "# dimensions = [20]#[50,30,15]\n",
    "# #time features\n",
    "# features = \"time_encoding\"\n",
    "# standardise_method = \"standardise\"\n",
    "# add_time_in_path = False\n",
    "# #SWNU block\n",
    "# augmentation_tp = \"Conv1d\"\n",
    "# hidden_dim_aug = None\n",
    "# comb_m = \"concatenation\"\n",
    "# log_sig = True\n",
    "# conv_output_channels = [10] #[20, 10, 5]\n",
    "# log_signature_dimensions_and_sig_depths = [(8, 3)]#[(30, 2), (10, 3), (6, 4)]\n",
    "# bidirectional = False\n",
    "# #ffn\n",
    "# hidden_dim_sizes = [64]#[32,64]\n",
    "# dropout_rates = [0.2]#[0.5, 0.2, 0.1]\n",
    "# #overall training\n",
    "# num_epochs = 100\n",
    "# batch=64\n",
    "# patience = 4\n",
    "# learning_rates = [1e-4] #[1e-3, 1e-4, 5e-4]\n",
    "# seeds = [0, 1, 12, 123, 1234]\n",
    "# loss = \"focal\"\n",
    "# gamma = 2\n",
    "# validation_metric = \"f1\"\n",
    "# split_indices = (df_rumours[df_rumours['set']=='train'].index,\n",
    "#                  df_rumours[df_rumours['set']=='dev'].index,\n",
    "#                  df_rumours[df_rumours['set']=='test'].index)"
   ]
  },
  {
   "cell_type": "code",
   "execution_count": 10,
   "metadata": {},
   "outputs": [],
   "source": [
    "size=35"
   ]
  },
  {
   "cell_type": "markdown",
   "metadata": {},
   "source": [
    "## UMAP"
   ]
  },
  {
   "cell_type": "code",
   "execution_count": 11,
   "metadata": {},
   "outputs": [
    {
     "data": {
      "application/vnd.jupyter.widget-view+json": {
       "model_id": "b7cc277d0bd3469d95b3335c537b828c",
       "version_major": 2,
       "version_minor": 0
      },
      "text/plain": [
       "  0%|          | 0/1 [00:00<?, ?it/s]"
      ]
     },
     "metadata": {},
     "output_type": "display_data"
    },
    {
     "data": {
      "application/vnd.jupyter.widget-view+json": {
       "model_id": "663768c8181e40ec9f378b5c70dc1b7e",
       "version_major": 2,
       "version_minor": 0
      },
      "text/plain": [
       "  0%|          | 0/1 [00:00<?, ?it/s]"
      ]
     },
     "metadata": {},
     "output_type": "display_data"
    },
    {
     "data": {
      "application/vnd.jupyter.widget-view+json": {
       "model_id": "7b8d582c9ec04def95ae09ac6b4c6bb6",
       "version_major": 2,
       "version_minor": 0
      },
      "text/plain": [
       "  0%|          | 0/1 [00:00<?, ?it/s]"
      ]
     },
     "metadata": {},
     "output_type": "display_data"
    },
    {
     "name": "stdout",
     "output_type": "stream",
     "text": [
      "\n",
      "##################################################\n",
      "dimension: 15 | method: umap\n",
      "[INFO] Concatenating the embeddings to the dataframe...\n",
      "[INFO] - columns beginning with 'e' denote the full embddings.\n",
      "[INFO] - columns beginning with 'd' denote the dimension reduced embeddings.\n",
      "[INFO] Adding time feature columns into dataframe in `.df`.\n",
      "[INFO] Adding 'time_encoding' feature...\n",
      "[INFO] Adding 'time_diff' feature...\n",
      "[INFO] Adding 'timeline_index' feature...\n",
      "[INFO] Padding ids and storing in `.df_padded` and `.array_padded` attributes.\n"
     ]
    },
    {
     "data": {
      "application/vnd.jupyter.widget-view+json": {
       "model_id": "e36be7661f304c3e8393923282a75725",
       "version_major": 2,
       "version_minor": 0
      },
      "text/plain": [
       "  0%|          | 0/5568 [00:00<?, ?it/s]"
      ]
     },
     "metadata": {},
     "output_type": "display_data"
    },
    {
     "name": "stdout",
     "output_type": "stream",
     "text": [
      "[INFO] The path was created for each item in the dataframe, by looking at its history, so to include embeddings in the FFN input, we concatenate the embeddings for each sentence / text.\n"
     ]
    },
    {
     "data": {
      "application/vnd.jupyter.widget-view+json": {
       "model_id": "529faab4faa940eb9355f586fbc85dd3",
       "version_major": 2,
       "version_minor": 0
      },
      "text/plain": [
       "  0%|          | 0/2 [00:00<?, ?it/s]"
      ]
     },
     "metadata": {},
     "output_type": "display_data"
    },
    {
     "data": {
      "application/vnd.jupyter.widget-view+json": {
       "model_id": "d253f53063ca4c42a75dfa2da0768efd",
       "version_major": 2,
       "version_minor": 0
      },
      "text/plain": [
       "  0%|          | 0/4 [00:00<?, ?it/s]"
      ]
     },
     "metadata": {},
     "output_type": "display_data"
    },
    {
     "data": {
      "application/vnd.jupyter.widget-view+json": {
       "model_id": "3365268704044ef5a186f6dfbb427502",
       "version_major": 2,
       "version_minor": 0
      },
      "text/plain": [
       "  0%|          | 0/1 [00:00<?, ?it/s]"
      ]
     },
     "metadata": {},
     "output_type": "display_data"
    },
    {
     "data": {
      "application/vnd.jupyter.widget-view+json": {
       "model_id": "812880f9b6a645c38b88ba33d28a6336",
       "version_major": 2,
       "version_minor": 0
      },
      "text/plain": [
       "  0%|          | 0/2 [00:00<?, ?it/s]"
      ]
     },
     "metadata": {},
     "output_type": "display_data"
    },
    {
     "data": {
      "application/vnd.jupyter.widget-view+json": {
       "model_id": "47b9d40f987247599078be8a8f7062ae",
       "version_major": 2,
       "version_minor": 0
      },
      "text/plain": [
       "  0%|          | 0/3 [00:00<?, ?it/s]"
      ]
     },
     "metadata": {},
     "output_type": "display_data"
    },
    {
     "data": {
      "application/vnd.jupyter.widget-view+json": {
       "model_id": "2cfe4dd1124041f9a57db2bbe7d66f64",
       "version_major": 2,
       "version_minor": 0
      },
      "text/plain": [
       "  0%|          | 0/3 [00:00<?, ?it/s]"
      ]
     },
     "metadata": {},
     "output_type": "display_data"
    },
    {
     "data": {
      "application/vnd.jupyter.widget-view+json": {
       "model_id": "724631f7a6d1416aa4988f5c4c4a7463",
       "version_major": 2,
       "version_minor": 0
      },
      "text/plain": [
       "  0%|          | 0/1 [00:00<?, ?it/s]"
      ]
     },
     "metadata": {},
     "output_type": "display_data"
    },
    {
     "data": {
      "application/vnd.jupyter.widget-view+json": {
       "model_id": "4b3ed330d3094080acbe4b077e9f097f",
       "version_major": 2,
       "version_minor": 0
      },
      "text/plain": [
       "  0%|          | 0/2 [00:00<?, ?it/s]"
      ]
     },
     "metadata": {},
     "output_type": "display_data"
    },
    {
     "data": {
      "application/vnd.jupyter.widget-view+json": {
       "model_id": "36e68e4a7c8942e4a71598e10a34007f",
       "version_major": 2,
       "version_minor": 0
      },
      "text/plain": [
       "  0%|          | 0/3 [00:00<?, ?it/s]"
      ]
     },
     "metadata": {},
     "output_type": "display_data"
    },
    {
     "data": {
      "application/vnd.jupyter.widget-view+json": {
       "model_id": "10e5c1c0b87d46c7a8727f0af98c1a21",
       "version_major": 2,
       "version_minor": 0
      },
      "text/plain": [
       "  0%|          | 0/3 [00:00<?, ?it/s]"
      ]
     },
     "metadata": {},
     "output_type": "display_data"
    },
    {
     "data": {
      "application/vnd.jupyter.widget-view+json": {
       "model_id": "84312be00ba544f5ad925e3b7adcab53",
       "version_major": 2,
       "version_minor": 0
      },
      "text/plain": [
       "  0%|          | 0/1 [00:00<?, ?it/s]"
      ]
     },
     "metadata": {},
     "output_type": "display_data"
    },
    {
     "data": {
      "application/vnd.jupyter.widget-view+json": {
       "model_id": "d9baabf3706d487e938359cfe154fd34",
       "version_major": 2,
       "version_minor": 0
      },
      "text/plain": [
       "  0%|          | 0/2 [00:00<?, ?it/s]"
      ]
     },
     "metadata": {},
     "output_type": "display_data"
    },
    {
     "data": {
      "application/vnd.jupyter.widget-view+json": {
       "model_id": "b4244716a2ec42ae893ab30c7504c621",
       "version_major": 2,
       "version_minor": 0
      },
      "text/plain": [
       "  0%|          | 0/3 [00:00<?, ?it/s]"
      ]
     },
     "metadata": {},
     "output_type": "display_data"
    },
    {
     "data": {
      "application/vnd.jupyter.widget-view+json": {
       "model_id": "a76e09852cf241c39bd0122b7a9954ea",
       "version_major": 2,
       "version_minor": 0
      },
      "text/plain": [
       "  0%|          | 0/3 [00:00<?, ?it/s]"
      ]
     },
     "metadata": {},
     "output_type": "display_data"
    },
    {
     "data": {
      "application/vnd.jupyter.widget-view+json": {
       "model_id": "b9f66cbe37eb4e21b0f6b94f5d100282",
       "version_major": 2,
       "version_minor": 0
      },
      "text/plain": [
       "  0%|          | 0/1 [00:00<?, ?it/s]"
      ]
     },
     "metadata": {},
     "output_type": "display_data"
    },
    {
     "data": {
      "application/vnd.jupyter.widget-view+json": {
       "model_id": "3f10890e34824bf0a42a7ca714851596",
       "version_major": 2,
       "version_minor": 0
      },
      "text/plain": [
       "  0%|          | 0/2 [00:00<?, ?it/s]"
      ]
     },
     "metadata": {},
     "output_type": "display_data"
    },
    {
     "data": {
      "application/vnd.jupyter.widget-view+json": {
       "model_id": "50615f3ac25a43fb91363d24f59a7a67",
       "version_major": 2,
       "version_minor": 0
      },
      "text/plain": [
       "  0%|          | 0/3 [00:00<?, ?it/s]"
      ]
     },
     "metadata": {},
     "output_type": "display_data"
    },
    {
     "data": {
      "application/vnd.jupyter.widget-view+json": {
       "model_id": "21dc43dff4bd4f62b122e4714e1d4412",
       "version_major": 2,
       "version_minor": 0
      },
      "text/plain": [
       "  0%|          | 0/3 [00:00<?, ?it/s]"
      ]
     },
     "metadata": {},
     "output_type": "display_data"
    },
    {
     "data": {
      "application/vnd.jupyter.widget-view+json": {
       "model_id": "6e30c91321004dd08c452003d700bf7c",
       "version_major": 2,
       "version_minor": 0
      },
      "text/plain": [
       "  0%|          | 0/4 [00:00<?, ?it/s]"
      ]
     },
     "metadata": {},
     "output_type": "display_data"
    },
    {
     "data": {
      "application/vnd.jupyter.widget-view+json": {
       "model_id": "6db5ba68876048b4bf596e8b1a1f62a3",
       "version_major": 2,
       "version_minor": 0
      },
      "text/plain": [
       "  0%|          | 0/1 [00:00<?, ?it/s]"
      ]
     },
     "metadata": {},
     "output_type": "display_data"
    },
    {
     "data": {
      "application/vnd.jupyter.widget-view+json": {
       "model_id": "12ab041a1ad4444b85168157b4db87b5",
       "version_major": 2,
       "version_minor": 0
      },
      "text/plain": [
       "  0%|          | 0/2 [00:00<?, ?it/s]"
      ]
     },
     "metadata": {},
     "output_type": "display_data"
    },
    {
     "data": {
      "application/vnd.jupyter.widget-view+json": {
       "model_id": "e278dc7b3b624ec28db346496d811cff",
       "version_major": 2,
       "version_minor": 0
      },
      "text/plain": [
       "  0%|          | 0/3 [00:00<?, ?it/s]"
      ]
     },
     "metadata": {},
     "output_type": "display_data"
    },
    {
     "data": {
      "application/vnd.jupyter.widget-view+json": {
       "model_id": "da8366bfbafc4924b18b3ef1164458c9",
       "version_major": 2,
       "version_minor": 0
      },
      "text/plain": [
       "  0%|          | 0/3 [00:00<?, ?it/s]"
      ]
     },
     "metadata": {},
     "output_type": "display_data"
    },
    {
     "data": {
      "application/vnd.jupyter.widget-view+json": {
       "model_id": "84bb696b84f64f9cb167b84a3508494f",
       "version_major": 2,
       "version_minor": 0
      },
      "text/plain": [
       "  0%|          | 0/1 [00:00<?, ?it/s]"
      ]
     },
     "metadata": {},
     "output_type": "display_data"
    },
    {
     "data": {
      "application/vnd.jupyter.widget-view+json": {
       "model_id": "05e261abf2da482c9c2631308b07ac19",
       "version_major": 2,
       "version_minor": 0
      },
      "text/plain": [
       "  0%|          | 0/2 [00:00<?, ?it/s]"
      ]
     },
     "metadata": {},
     "output_type": "display_data"
    },
    {
     "data": {
      "application/vnd.jupyter.widget-view+json": {
       "model_id": "b2581b74eb8a433c92a2b6e2122d6e9c",
       "version_major": 2,
       "version_minor": 0
      },
      "text/plain": [
       "  0%|          | 0/3 [00:00<?, ?it/s]"
      ]
     },
     "metadata": {},
     "output_type": "display_data"
    },
    {
     "data": {
      "application/vnd.jupyter.widget-view+json": {
       "model_id": "b3955bb4b62f4d6f8f6ce5e2e0462392",
       "version_major": 2,
       "version_minor": 0
      },
      "text/plain": [
       "  0%|          | 0/3 [00:00<?, ?it/s]"
      ]
     },
     "metadata": {},
     "output_type": "display_data"
    },
    {
     "data": {
      "application/vnd.jupyter.widget-view+json": {
       "model_id": "623478f51afe4e0ab8440383e4155859",
       "version_major": 2,
       "version_minor": 0
      },
      "text/plain": [
       "  0%|          | 0/1 [00:00<?, ?it/s]"
      ]
     },
     "metadata": {},
     "output_type": "display_data"
    },
    {
     "data": {
      "application/vnd.jupyter.widget-view+json": {
       "model_id": "5094078ebfe34e88a4e97906d485a7d0",
       "version_major": 2,
       "version_minor": 0
      },
      "text/plain": [
       "  0%|          | 0/2 [00:00<?, ?it/s]"
      ]
     },
     "metadata": {},
     "output_type": "display_data"
    },
    {
     "data": {
      "application/vnd.jupyter.widget-view+json": {
       "model_id": "df94798fd16f43cf9430c6f3bc558682",
       "version_major": 2,
       "version_minor": 0
      },
      "text/plain": [
       "  0%|          | 0/3 [00:00<?, ?it/s]"
      ]
     },
     "metadata": {},
     "output_type": "display_data"
    },
    {
     "data": {
      "application/vnd.jupyter.widget-view+json": {
       "model_id": "c7f99e3b93a44bd6b55fe016ee7670e8",
       "version_major": 2,
       "version_minor": 0
      },
      "text/plain": [
       "  0%|          | 0/3 [00:00<?, ?it/s]"
      ]
     },
     "metadata": {},
     "output_type": "display_data"
    },
    {
     "data": {
      "application/vnd.jupyter.widget-view+json": {
       "model_id": "1ef34c8ed68f436ba44d1b3b9ba448c7",
       "version_major": 2,
       "version_minor": 0
      },
      "text/plain": [
       "  0%|          | 0/1 [00:00<?, ?it/s]"
      ]
     },
     "metadata": {},
     "output_type": "display_data"
    },
    {
     "data": {
      "application/vnd.jupyter.widget-view+json": {
       "model_id": "89c53f26b76e4b85b2ec60fb8de8b03c",
       "version_major": 2,
       "version_minor": 0
      },
      "text/plain": [
       "  0%|          | 0/2 [00:00<?, ?it/s]"
      ]
     },
     "metadata": {},
     "output_type": "display_data"
    },
    {
     "data": {
      "application/vnd.jupyter.widget-view+json": {
       "model_id": "5b31f2108c674ca79cbecf2b2679f825",
       "version_major": 2,
       "version_minor": 0
      },
      "text/plain": [
       "  0%|          | 0/3 [00:00<?, ?it/s]"
      ]
     },
     "metadata": {},
     "output_type": "display_data"
    },
    {
     "data": {
      "application/vnd.jupyter.widget-view+json": {
       "model_id": "2125c66f21584778a4be4ca0883bcb49",
       "version_major": 2,
       "version_minor": 0
      },
      "text/plain": [
       "  0%|          | 0/3 [00:00<?, ?it/s]"
      ]
     },
     "metadata": {},
     "output_type": "display_data"
    },
    {
     "name": "stdout",
     "output_type": "stream",
     "text": [
      "[INFO] Concatenating the embeddings to the dataframe...\n",
      "[INFO] - columns beginning with 'e' denote the full embddings.\n",
      "[INFO] - columns beginning with 'd' denote the dimension reduced embeddings.\n",
      "[INFO] Adding time feature columns into dataframe in `.df`.\n",
      "[INFO] Adding 'time_encoding' feature...\n",
      "[INFO] Adding 'time_diff' feature...\n",
      "[INFO] Adding 'timeline_index' feature...\n",
      "[INFO] Padding ids and storing in `.df_padded` and `.array_padded` attributes.\n"
     ]
    },
    {
     "data": {
      "application/vnd.jupyter.widget-view+json": {
       "model_id": "18834148deef404b9d14a1f627a7503a",
       "version_major": 2,
       "version_minor": 0
      },
      "text/plain": [
       "  0%|          | 0/5568 [00:00<?, ?it/s]"
      ]
     },
     "metadata": {},
     "output_type": "display_data"
    },
    {
     "name": "stdout",
     "output_type": "stream",
     "text": [
      "[INFO] The path was created for each item in the dataframe, by looking at its history, so to include embeddings in the FFN input, we concatenate the embeddings for each sentence / text.\n",
      "saving results dataframe to CSV for this hyperparameter search in rumours_output/swnu_network_umap_focal_2_35.csv\n",
      "saving the best model results dataframe to CSV for this hyperparameter search in rumours_output/swnu_network_umap_focal_2_35_best_model.csv\n"
     ]
    }
   ],
   "source": [
    "swnu_network_umap, best_swnu_network_umap, _, __ = swnu_network_hyperparameter_search(\n",
    "    num_epochs=num_epochs,\n",
    "    df=df_rumours,\n",
    "    id_column=\"timeline_id\",\n",
    "    label_column=\"label\",\n",
    "    embeddings=sbert_embeddings,\n",
    "    y_data=y_data,\n",
    "    embedding_dim=embedding_dim,\n",
    "    output_dim=output_dim,\n",
    "    history_lengths=[size],\n",
    "    dim_reduce_methods=[\"umap\"],\n",
    "    dimensions=dimensions,\n",
    "    log_signature=True,\n",
    "    swnu_hidden_dim_sizes_and_sig_depths=swnu_hidden_dim_sizes_and_sig_depths,\n",
    "    ffn_hidden_dim_sizes=ffn_hidden_dim_sizes,\n",
    "    dropout_rates=dropout_rates,\n",
    "    learning_rates=learning_rates,\n",
    "    BiLSTM=bidirectional,\n",
    "    seeds=seeds,\n",
    "    loss=loss,\n",
    "    gamma=gamma,\n",
    "    features=features, \n",
    "    standardise_method=standardise_method,\n",
    "    add_time_in_path=add_time_in_path,\n",
    "    split_ids=None, #torch.tensor(df_rumours['timeline_id'].astype(int)),\n",
    "    split_indices=split_indices,\n",
    "    k_fold=False,\n",
    "    patience=patience,\n",
    "    validation_metric=validation_metric,\n",
    "    results_output=f\"{output_dir}/swnu_network_umap_focal_{gamma}_{size}.csv\",\n",
    "    verbose=False\n",
    ")"
   ]
  },
  {
   "cell_type": "code",
   "execution_count": 12,
   "metadata": {},
   "outputs": [
    {
     "name": "stderr",
     "output_type": "stream",
     "text": [
      "/tmp/ipykernel_1937203/2289302539.py:1: FutureWarning: The default value of numeric_only in DataFrameGroupBy.mean is deprecated. In a future version, numeric_only will default to False. Either specify numeric_only or select only columns which should be valid for the function.\n",
      "  swnu_network_umap.groupby([\"dimensions\",\n"
     ]
    },
    {
     "data": {
      "text/html": [
       "<div>\n",
       "<style scoped>\n",
       "    .dataframe tbody tr th:only-of-type {\n",
       "        vertical-align: middle;\n",
       "    }\n",
       "\n",
       "    .dataframe tbody tr th {\n",
       "        vertical-align: top;\n",
       "    }\n",
       "\n",
       "    .dataframe thead th {\n",
       "        text-align: right;\n",
       "    }\n",
       "</style>\n",
       "<table border=\"1\" class=\"dataframe\">\n",
       "  <thead>\n",
       "    <tr style=\"text-align: right;\">\n",
       "      <th></th>\n",
       "      <th></th>\n",
       "      <th></th>\n",
       "      <th></th>\n",
       "      <th></th>\n",
       "      <th>loss</th>\n",
       "      <th>accuracy</th>\n",
       "      <th>f1</th>\n",
       "      <th>precision</th>\n",
       "      <th>recall</th>\n",
       "      <th>valid_loss</th>\n",
       "      <th>valid_accuracy</th>\n",
       "      <th>valid_f1</th>\n",
       "      <th>valid_precision</th>\n",
       "      <th>valid_recall</th>\n",
       "      <th>...</th>\n",
       "      <th>add_time_in_path</th>\n",
       "      <th>num_features</th>\n",
       "      <th>embedding_dim</th>\n",
       "      <th>log_signature</th>\n",
       "      <th>seed</th>\n",
       "      <th>BiLSTM</th>\n",
       "      <th>gamma</th>\n",
       "      <th>k_fold</th>\n",
       "      <th>batch_size</th>\n",
       "      <th>model_id</th>\n",
       "    </tr>\n",
       "    <tr>\n",
       "      <th>dimensions</th>\n",
       "      <th>swnu_hidden_dim</th>\n",
       "      <th>ffn_hidden_dim</th>\n",
       "      <th>dropout_rate</th>\n",
       "      <th>learning_rate</th>\n",
       "      <th></th>\n",
       "      <th></th>\n",
       "      <th></th>\n",
       "      <th></th>\n",
       "      <th></th>\n",
       "      <th></th>\n",
       "      <th></th>\n",
       "      <th></th>\n",
       "      <th></th>\n",
       "      <th></th>\n",
       "      <th></th>\n",
       "      <th></th>\n",
       "      <th></th>\n",
       "      <th></th>\n",
       "      <th></th>\n",
       "      <th></th>\n",
       "      <th></th>\n",
       "      <th></th>\n",
       "      <th></th>\n",
       "      <th></th>\n",
       "      <th></th>\n",
       "    </tr>\n",
       "  </thead>\n",
       "  <tbody>\n",
       "    <tr>\n",
       "      <th rowspan=\"48\" valign=\"top\">15</th>\n",
       "      <th rowspan=\"24\" valign=\"top\">(10,)</th>\n",
       "      <th rowspan=\"6\" valign=\"top\">(64, 64)</th>\n",
       "      <th rowspan=\"3\" valign=\"top\">0.1</th>\n",
       "      <th>0.0001</th>\n",
       "      <td>0.371781</td>\n",
       "      <td>0.608516</td>\n",
       "      <td>0.606821</td>\n",
       "      <td>0.613873</td>\n",
       "      <td>0.610784</td>\n",
       "      <td>0.212273</td>\n",
       "      <td>0.684460</td>\n",
       "      <td>0.629291</td>\n",
       "      <td>0.654533</td>\n",
       "      <td>0.625808</td>\n",
       "      <td>...</td>\n",
       "      <td>1.0</td>\n",
       "      <td>2.0</td>\n",
       "      <td>384.0</td>\n",
       "      <td>1.0</td>\n",
       "      <td>45.333333</td>\n",
       "      <td>1.0</td>\n",
       "      <td>2.0</td>\n",
       "      <td>0.0</td>\n",
       "      <td>64.0</td>\n",
       "      <td>28.0</td>\n",
       "    </tr>\n",
       "    <tr>\n",
       "      <th>0.0005</th>\n",
       "      <td>0.440356</td>\n",
       "      <td>0.626946</td>\n",
       "      <td>0.623590</td>\n",
       "      <td>0.639873</td>\n",
       "      <td>0.632587</td>\n",
       "      <td>0.350511</td>\n",
       "      <td>0.706999</td>\n",
       "      <td>0.687440</td>\n",
       "      <td>0.689508</td>\n",
       "      <td>0.691998</td>\n",
       "      <td>...</td>\n",
       "      <td>1.0</td>\n",
       "      <td>2.0</td>\n",
       "      <td>384.0</td>\n",
       "      <td>1.0</td>\n",
       "      <td>45.333333</td>\n",
       "      <td>1.0</td>\n",
       "      <td>2.0</td>\n",
       "      <td>0.0</td>\n",
       "      <td>64.0</td>\n",
       "      <td>29.0</td>\n",
       "    </tr>\n",
       "    <tr>\n",
       "      <th>0.0010</th>\n",
       "      <td>0.360259</td>\n",
       "      <td>0.629806</td>\n",
       "      <td>0.626672</td>\n",
       "      <td>0.640971</td>\n",
       "      <td>0.633712</td>\n",
       "      <td>0.219001</td>\n",
       "      <td>0.685647</td>\n",
       "      <td>0.646080</td>\n",
       "      <td>0.666545</td>\n",
       "      <td>0.643608</td>\n",
       "      <td>...</td>\n",
       "      <td>1.0</td>\n",
       "      <td>2.0</td>\n",
       "      <td>384.0</td>\n",
       "      <td>1.0</td>\n",
       "      <td>45.333333</td>\n",
       "      <td>1.0</td>\n",
       "      <td>2.0</td>\n",
       "      <td>0.0</td>\n",
       "      <td>64.0</td>\n",
       "      <td>27.0</td>\n",
       "    </tr>\n",
       "    <tr>\n",
       "      <th rowspan=\"3\" valign=\"top\">0.5</th>\n",
       "      <th>0.0001</th>\n",
       "      <td>0.377169</td>\n",
       "      <td>0.611694</td>\n",
       "      <td>0.610257</td>\n",
       "      <td>0.618365</td>\n",
       "      <td>0.615605</td>\n",
       "      <td>0.234290</td>\n",
       "      <td>0.650059</td>\n",
       "      <td>0.582203</td>\n",
       "      <td>0.606927</td>\n",
       "      <td>0.584045</td>\n",
       "      <td>...</td>\n",
       "      <td>1.0</td>\n",
       "      <td>2.0</td>\n",
       "      <td>384.0</td>\n",
       "      <td>1.0</td>\n",
       "      <td>45.333333</td>\n",
       "      <td>1.0</td>\n",
       "      <td>2.0</td>\n",
       "      <td>0.0</td>\n",
       "      <td>64.0</td>\n",
       "      <td>25.0</td>\n",
       "    </tr>\n",
       "    <tr>\n",
       "      <th>0.0005</th>\n",
       "      <td>0.455574</td>\n",
       "      <td>0.613600</td>\n",
       "      <td>0.612364</td>\n",
       "      <td>0.616119</td>\n",
       "      <td>0.614481</td>\n",
       "      <td>0.248443</td>\n",
       "      <td>0.674970</td>\n",
       "      <td>0.624064</td>\n",
       "      <td>0.640483</td>\n",
       "      <td>0.628200</td>\n",
       "      <td>...</td>\n",
       "      <td>1.0</td>\n",
       "      <td>2.0</td>\n",
       "      <td>384.0</td>\n",
       "      <td>1.0</td>\n",
       "      <td>45.333333</td>\n",
       "      <td>1.0</td>\n",
       "      <td>2.0</td>\n",
       "      <td>0.0</td>\n",
       "      <td>64.0</td>\n",
       "      <td>26.0</td>\n",
       "    </tr>\n",
       "    <tr>\n",
       "      <th>0.0010</th>\n",
       "      <td>0.348458</td>\n",
       "      <td>0.625993</td>\n",
       "      <td>0.622142</td>\n",
       "      <td>0.638752</td>\n",
       "      <td>0.630248</td>\n",
       "      <td>0.212792</td>\n",
       "      <td>0.652432</td>\n",
       "      <td>0.611429</td>\n",
       "      <td>0.623530</td>\n",
       "      <td>0.613320</td>\n",
       "      <td>...</td>\n",
       "      <td>1.0</td>\n",
       "      <td>2.0</td>\n",
       "      <td>384.0</td>\n",
       "      <td>1.0</td>\n",
       "      <td>45.333333</td>\n",
       "      <td>1.0</td>\n",
       "      <td>2.0</td>\n",
       "      <td>0.0</td>\n",
       "      <td>64.0</td>\n",
       "      <td>24.0</td>\n",
       "    </tr>\n",
       "    <tr>\n",
       "      <th rowspan=\"6\" valign=\"top\">(128, 128)</th>\n",
       "      <th rowspan=\"3\" valign=\"top\">0.1</th>\n",
       "      <th>0.0001</th>\n",
       "      <td>0.524425</td>\n",
       "      <td>0.606927</td>\n",
       "      <td>0.603127</td>\n",
       "      <td>0.616656</td>\n",
       "      <td>0.611319</td>\n",
       "      <td>0.246678</td>\n",
       "      <td>0.692764</td>\n",
       "      <td>0.645281</td>\n",
       "      <td>0.665068</td>\n",
       "      <td>0.647086</td>\n",
       "      <td>...</td>\n",
       "      <td>1.0</td>\n",
       "      <td>2.0</td>\n",
       "      <td>384.0</td>\n",
       "      <td>1.0</td>\n",
       "      <td>45.333333</td>\n",
       "      <td>1.0</td>\n",
       "      <td>2.0</td>\n",
       "      <td>0.0</td>\n",
       "      <td>64.0</td>\n",
       "      <td>34.0</td>\n",
       "    </tr>\n",
       "    <tr>\n",
       "      <th>0.0005</th>\n",
       "      <td>0.412525</td>\n",
       "      <td>0.625675</td>\n",
       "      <td>0.620927</td>\n",
       "      <td>0.643257</td>\n",
       "      <td>0.632205</td>\n",
       "      <td>0.229952</td>\n",
       "      <td>0.657177</td>\n",
       "      <td>0.615096</td>\n",
       "      <td>0.622536</td>\n",
       "      <td>0.612827</td>\n",
       "      <td>...</td>\n",
       "      <td>1.0</td>\n",
       "      <td>2.0</td>\n",
       "      <td>384.0</td>\n",
       "      <td>1.0</td>\n",
       "      <td>45.333333</td>\n",
       "      <td>1.0</td>\n",
       "      <td>2.0</td>\n",
       "      <td>0.0</td>\n",
       "      <td>64.0</td>\n",
       "      <td>35.0</td>\n",
       "    </tr>\n",
       "    <tr>\n",
       "      <th>0.0010</th>\n",
       "      <td>0.473316</td>\n",
       "      <td>0.609469</td>\n",
       "      <td>0.602916</td>\n",
       "      <td>0.626648</td>\n",
       "      <td>0.614759</td>\n",
       "      <td>0.257411</td>\n",
       "      <td>0.657177</td>\n",
       "      <td>0.630455</td>\n",
       "      <td>0.632084</td>\n",
       "      <td>0.632508</td>\n",
       "      <td>...</td>\n",
       "      <td>1.0</td>\n",
       "      <td>2.0</td>\n",
       "      <td>384.0</td>\n",
       "      <td>1.0</td>\n",
       "      <td>45.333333</td>\n",
       "      <td>1.0</td>\n",
       "      <td>2.0</td>\n",
       "      <td>0.0</td>\n",
       "      <td>64.0</td>\n",
       "      <td>33.0</td>\n",
       "    </tr>\n",
       "    <tr>\n",
       "      <th rowspan=\"3\" valign=\"top\">0.5</th>\n",
       "      <th>0.0001</th>\n",
       "      <td>0.350557</td>\n",
       "      <td>0.614871</td>\n",
       "      <td>0.613603</td>\n",
       "      <td>0.619133</td>\n",
       "      <td>0.617272</td>\n",
       "      <td>0.246207</td>\n",
       "      <td>0.664294</td>\n",
       "      <td>0.580373</td>\n",
       "      <td>0.626681</td>\n",
       "      <td>0.588893</td>\n",
       "      <td>...</td>\n",
       "      <td>1.0</td>\n",
       "      <td>2.0</td>\n",
       "      <td>384.0</td>\n",
       "      <td>1.0</td>\n",
       "      <td>45.333333</td>\n",
       "      <td>1.0</td>\n",
       "      <td>2.0</td>\n",
       "      <td>0.0</td>\n",
       "      <td>64.0</td>\n",
       "      <td>31.0</td>\n",
       "    </tr>\n",
       "    <tr>\n",
       "      <th>0.0005</th>\n",
       "      <td>0.427026</td>\n",
       "      <td>0.621544</td>\n",
       "      <td>0.616124</td>\n",
       "      <td>0.638860</td>\n",
       "      <td>0.627693</td>\n",
       "      <td>0.234200</td>\n",
       "      <td>0.676157</td>\n",
       "      <td>0.616597</td>\n",
       "      <td>0.643530</td>\n",
       "      <td>0.631942</td>\n",
       "      <td>...</td>\n",
       "      <td>1.0</td>\n",
       "      <td>2.0</td>\n",
       "      <td>384.0</td>\n",
       "      <td>1.0</td>\n",
       "      <td>45.333333</td>\n",
       "      <td>1.0</td>\n",
       "      <td>2.0</td>\n",
       "      <td>0.0</td>\n",
       "      <td>64.0</td>\n",
       "      <td>32.0</td>\n",
       "    </tr>\n",
       "    <tr>\n",
       "      <th>0.0010</th>\n",
       "      <td>0.327612</td>\n",
       "      <td>0.638386</td>\n",
       "      <td>0.633841</td>\n",
       "      <td>0.654809</td>\n",
       "      <td>0.644200</td>\n",
       "      <td>0.223921</td>\n",
       "      <td>0.689205</td>\n",
       "      <td>0.651170</td>\n",
       "      <td>0.663268</td>\n",
       "      <td>0.651322</td>\n",
       "      <td>...</td>\n",
       "      <td>1.0</td>\n",
       "      <td>2.0</td>\n",
       "      <td>384.0</td>\n",
       "      <td>1.0</td>\n",
       "      <td>45.333333</td>\n",
       "      <td>1.0</td>\n",
       "      <td>2.0</td>\n",
       "      <td>0.0</td>\n",
       "      <td>64.0</td>\n",
       "      <td>30.0</td>\n",
       "    </tr>\n",
       "    <tr>\n",
       "      <th rowspan=\"6\" valign=\"top\">(256, 256)</th>\n",
       "      <th rowspan=\"3\" valign=\"top\">0.1</th>\n",
       "      <th>0.0001</th>\n",
       "      <td>0.455113</td>\n",
       "      <td>0.618049</td>\n",
       "      <td>0.615059</td>\n",
       "      <td>0.626827</td>\n",
       "      <td>0.622390</td>\n",
       "      <td>0.255169</td>\n",
       "      <td>0.686833</td>\n",
       "      <td>0.650113</td>\n",
       "      <td>0.661860</td>\n",
       "      <td>0.647351</td>\n",
       "      <td>...</td>\n",
       "      <td>1.0</td>\n",
       "      <td>2.0</td>\n",
       "      <td>384.0</td>\n",
       "      <td>1.0</td>\n",
       "      <td>45.333333</td>\n",
       "      <td>1.0</td>\n",
       "      <td>2.0</td>\n",
       "      <td>0.0</td>\n",
       "      <td>64.0</td>\n",
       "      <td>40.0</td>\n",
       "    </tr>\n",
       "    <tr>\n",
       "      <th>0.0005</th>\n",
       "      <td>0.383629</td>\n",
       "      <td>0.628217</td>\n",
       "      <td>0.621881</td>\n",
       "      <td>0.649477</td>\n",
       "      <td>0.635229</td>\n",
       "      <td>0.225523</td>\n",
       "      <td>0.631079</td>\n",
       "      <td>0.599931</td>\n",
       "      <td>0.600538</td>\n",
       "      <td>0.600075</td>\n",
       "      <td>...</td>\n",
       "      <td>1.0</td>\n",
       "      <td>2.0</td>\n",
       "      <td>384.0</td>\n",
       "      <td>1.0</td>\n",
       "      <td>45.333333</td>\n",
       "      <td>1.0</td>\n",
       "      <td>2.0</td>\n",
       "      <td>0.0</td>\n",
       "      <td>64.0</td>\n",
       "      <td>41.0</td>\n",
       "    </tr>\n",
       "    <tr>\n",
       "      <th>0.0010</th>\n",
       "      <td>0.402671</td>\n",
       "      <td>0.626946</td>\n",
       "      <td>0.626363</td>\n",
       "      <td>0.631221</td>\n",
       "      <td>0.629790</td>\n",
       "      <td>0.217397</td>\n",
       "      <td>0.691578</td>\n",
       "      <td>0.642148</td>\n",
       "      <td>0.666822</td>\n",
       "      <td>0.637720</td>\n",
       "      <td>...</td>\n",
       "      <td>1.0</td>\n",
       "      <td>2.0</td>\n",
       "      <td>384.0</td>\n",
       "      <td>1.0</td>\n",
       "      <td>45.333333</td>\n",
       "      <td>1.0</td>\n",
       "      <td>2.0</td>\n",
       "      <td>0.0</td>\n",
       "      <td>64.0</td>\n",
       "      <td>39.0</td>\n",
       "    </tr>\n",
       "    <tr>\n",
       "      <th rowspan=\"3\" valign=\"top\">0.5</th>\n",
       "      <th>0.0001</th>\n",
       "      <td>0.414512</td>\n",
       "      <td>0.614871</td>\n",
       "      <td>0.613220</td>\n",
       "      <td>0.622208</td>\n",
       "      <td>0.618641</td>\n",
       "      <td>0.237805</td>\n",
       "      <td>0.672598</td>\n",
       "      <td>0.624381</td>\n",
       "      <td>0.642208</td>\n",
       "      <td>0.622823</td>\n",
       "      <td>...</td>\n",
       "      <td>1.0</td>\n",
       "      <td>2.0</td>\n",
       "      <td>384.0</td>\n",
       "      <td>1.0</td>\n",
       "      <td>45.333333</td>\n",
       "      <td>1.0</td>\n",
       "      <td>2.0</td>\n",
       "      <td>0.0</td>\n",
       "      <td>64.0</td>\n",
       "      <td>37.0</td>\n",
       "    </tr>\n",
       "    <tr>\n",
       "      <th>0.0005</th>\n",
       "      <td>0.390813</td>\n",
       "      <td>0.634890</td>\n",
       "      <td>0.629773</td>\n",
       "      <td>0.652981</td>\n",
       "      <td>0.641069</td>\n",
       "      <td>0.244355</td>\n",
       "      <td>0.642942</td>\n",
       "      <td>0.600339</td>\n",
       "      <td>0.611145</td>\n",
       "      <td>0.603763</td>\n",
       "      <td>...</td>\n",
       "      <td>1.0</td>\n",
       "      <td>2.0</td>\n",
       "      <td>384.0</td>\n",
       "      <td>1.0</td>\n",
       "      <td>45.333333</td>\n",
       "      <td>1.0</td>\n",
       "      <td>2.0</td>\n",
       "      <td>0.0</td>\n",
       "      <td>64.0</td>\n",
       "      <td>38.0</td>\n",
       "    </tr>\n",
       "    <tr>\n",
       "      <th>0.0010</th>\n",
       "      <td>0.432883</td>\n",
       "      <td>0.599619</td>\n",
       "      <td>0.588383</td>\n",
       "      <td>0.625806</td>\n",
       "      <td>0.608115</td>\n",
       "      <td>0.225937</td>\n",
       "      <td>0.672598</td>\n",
       "      <td>0.638489</td>\n",
       "      <td>0.647838</td>\n",
       "      <td>0.636881</td>\n",
       "      <td>...</td>\n",
       "      <td>1.0</td>\n",
       "      <td>2.0</td>\n",
       "      <td>384.0</td>\n",
       "      <td>1.0</td>\n",
       "      <td>45.333333</td>\n",
       "      <td>1.0</td>\n",
       "      <td>2.0</td>\n",
       "      <td>0.0</td>\n",
       "      <td>64.0</td>\n",
       "      <td>36.0</td>\n",
       "    </tr>\n",
       "    <tr>\n",
       "      <th rowspan=\"6\" valign=\"top\">(512, 512)</th>\n",
       "      <th rowspan=\"3\" valign=\"top\">0.1</th>\n",
       "      <th>0.0001</th>\n",
       "      <td>0.559197</td>\n",
       "      <td>0.620909</td>\n",
       "      <td>0.617628</td>\n",
       "      <td>0.632004</td>\n",
       "      <td>0.625866</td>\n",
       "      <td>0.247225</td>\n",
       "      <td>0.697509</td>\n",
       "      <td>0.662556</td>\n",
       "      <td>0.668316</td>\n",
       "      <td>0.662760</td>\n",
       "      <td>...</td>\n",
       "      <td>1.0</td>\n",
       "      <td>2.0</td>\n",
       "      <td>384.0</td>\n",
       "      <td>1.0</td>\n",
       "      <td>45.333333</td>\n",
       "      <td>1.0</td>\n",
       "      <td>2.0</td>\n",
       "      <td>0.0</td>\n",
       "      <td>64.0</td>\n",
       "      <td>46.0</td>\n",
       "    </tr>\n",
       "    <tr>\n",
       "      <th>0.0005</th>\n",
       "      <td>0.489585</td>\n",
       "      <td>0.623451</td>\n",
       "      <td>0.610208</td>\n",
       "      <td>0.655354</td>\n",
       "      <td>0.632222</td>\n",
       "      <td>0.237396</td>\n",
       "      <td>0.672598</td>\n",
       "      <td>0.655294</td>\n",
       "      <td>0.657865</td>\n",
       "      <td>0.663590</td>\n",
       "      <td>...</td>\n",
       "      <td>1.0</td>\n",
       "      <td>2.0</td>\n",
       "      <td>384.0</td>\n",
       "      <td>1.0</td>\n",
       "      <td>45.333333</td>\n",
       "      <td>1.0</td>\n",
       "      <td>2.0</td>\n",
       "      <td>0.0</td>\n",
       "      <td>64.0</td>\n",
       "      <td>47.0</td>\n",
       "    </tr>\n",
       "    <tr>\n",
       "      <th>0.0010</th>\n",
       "      <td>0.482960</td>\n",
       "      <td>0.610423</td>\n",
       "      <td>0.597907</td>\n",
       "      <td>0.640340</td>\n",
       "      <td>0.619775</td>\n",
       "      <td>0.322130</td>\n",
       "      <td>0.654804</td>\n",
       "      <td>0.639094</td>\n",
       "      <td>0.650657</td>\n",
       "      <td>0.655950</td>\n",
       "      <td>...</td>\n",
       "      <td>1.0</td>\n",
       "      <td>2.0</td>\n",
       "      <td>384.0</td>\n",
       "      <td>1.0</td>\n",
       "      <td>45.333333</td>\n",
       "      <td>1.0</td>\n",
       "      <td>2.0</td>\n",
       "      <td>0.0</td>\n",
       "      <td>64.0</td>\n",
       "      <td>45.0</td>\n",
       "    </tr>\n",
       "    <tr>\n",
       "      <th rowspan=\"3\" valign=\"top\">0.5</th>\n",
       "      <th>0.0001</th>\n",
       "      <td>0.438350</td>\n",
       "      <td>0.625040</td>\n",
       "      <td>0.621921</td>\n",
       "      <td>0.634268</td>\n",
       "      <td>0.629039</td>\n",
       "      <td>0.259093</td>\n",
       "      <td>0.665480</td>\n",
       "      <td>0.614913</td>\n",
       "      <td>0.633860</td>\n",
       "      <td>0.619345</td>\n",
       "      <td>...</td>\n",
       "      <td>1.0</td>\n",
       "      <td>2.0</td>\n",
       "      <td>384.0</td>\n",
       "      <td>1.0</td>\n",
       "      <td>45.333333</td>\n",
       "      <td>1.0</td>\n",
       "      <td>2.0</td>\n",
       "      <td>0.0</td>\n",
       "      <td>64.0</td>\n",
       "      <td>43.0</td>\n",
       "    </tr>\n",
       "    <tr>\n",
       "      <th>0.0005</th>\n",
       "      <td>0.347589</td>\n",
       "      <td>0.631395</td>\n",
       "      <td>0.626265</td>\n",
       "      <td>0.650479</td>\n",
       "      <td>0.637640</td>\n",
       "      <td>0.216436</td>\n",
       "      <td>0.650059</td>\n",
       "      <td>0.614857</td>\n",
       "      <td>0.618070</td>\n",
       "      <td>0.613567</td>\n",
       "      <td>...</td>\n",
       "      <td>1.0</td>\n",
       "      <td>2.0</td>\n",
       "      <td>384.0</td>\n",
       "      <td>1.0</td>\n",
       "      <td>45.333333</td>\n",
       "      <td>1.0</td>\n",
       "      <td>2.0</td>\n",
       "      <td>0.0</td>\n",
       "      <td>64.0</td>\n",
       "      <td>44.0</td>\n",
       "    </tr>\n",
       "    <tr>\n",
       "      <th>0.0010</th>\n",
       "      <td>0.419916</td>\n",
       "      <td>0.621862</td>\n",
       "      <td>0.615111</td>\n",
       "      <td>0.643818</td>\n",
       "      <td>0.629128</td>\n",
       "      <td>0.233944</td>\n",
       "      <td>0.640569</td>\n",
       "      <td>0.624250</td>\n",
       "      <td>0.627532</td>\n",
       "      <td>0.634233</td>\n",
       "      <td>...</td>\n",
       "      <td>1.0</td>\n",
       "      <td>2.0</td>\n",
       "      <td>384.0</td>\n",
       "      <td>1.0</td>\n",
       "      <td>45.333333</td>\n",
       "      <td>1.0</td>\n",
       "      <td>2.0</td>\n",
       "      <td>0.0</td>\n",
       "      <td>64.0</td>\n",
       "      <td>42.0</td>\n",
       "    </tr>\n",
       "    <tr>\n",
       "      <th rowspan=\"24\" valign=\"top\">(12,)</th>\n",
       "      <th rowspan=\"6\" valign=\"top\">(64, 64)</th>\n",
       "      <th rowspan=\"3\" valign=\"top\">0.1</th>\n",
       "      <th>0.0001</th>\n",
       "      <td>0.285349</td>\n",
       "      <td>0.601207</td>\n",
       "      <td>0.594840</td>\n",
       "      <td>0.615824</td>\n",
       "      <td>0.606390</td>\n",
       "      <td>0.230106</td>\n",
       "      <td>0.645314</td>\n",
       "      <td>0.591107</td>\n",
       "      <td>0.612736</td>\n",
       "      <td>0.589459</td>\n",
       "      <td>...</td>\n",
       "      <td>1.0</td>\n",
       "      <td>2.0</td>\n",
       "      <td>384.0</td>\n",
       "      <td>1.0</td>\n",
       "      <td>45.333333</td>\n",
       "      <td>1.0</td>\n",
       "      <td>2.0</td>\n",
       "      <td>0.0</td>\n",
       "      <td>64.0</td>\n",
       "      <td>4.0</td>\n",
       "    </tr>\n",
       "    <tr>\n",
       "      <th>0.0005</th>\n",
       "      <td>0.446762</td>\n",
       "      <td>0.642517</td>\n",
       "      <td>0.636840</td>\n",
       "      <td>0.663657</td>\n",
       "      <td>0.649336</td>\n",
       "      <td>0.256800</td>\n",
       "      <td>0.652432</td>\n",
       "      <td>0.621684</td>\n",
       "      <td>0.626322</td>\n",
       "      <td>0.622458</td>\n",
       "      <td>...</td>\n",
       "      <td>1.0</td>\n",
       "      <td>2.0</td>\n",
       "      <td>384.0</td>\n",
       "      <td>1.0</td>\n",
       "      <td>45.333333</td>\n",
       "      <td>1.0</td>\n",
       "      <td>2.0</td>\n",
       "      <td>0.0</td>\n",
       "      <td>64.0</td>\n",
       "      <td>5.0</td>\n",
       "    </tr>\n",
       "    <tr>\n",
       "      <th>0.0010</th>\n",
       "      <td>0.343697</td>\n",
       "      <td>0.636161</td>\n",
       "      <td>0.626863</td>\n",
       "      <td>0.665182</td>\n",
       "      <td>0.644574</td>\n",
       "      <td>0.226580</td>\n",
       "      <td>0.655991</td>\n",
       "      <td>0.627933</td>\n",
       "      <td>0.634725</td>\n",
       "      <td>0.633686</td>\n",
       "      <td>...</td>\n",
       "      <td>1.0</td>\n",
       "      <td>2.0</td>\n",
       "      <td>384.0</td>\n",
       "      <td>1.0</td>\n",
       "      <td>45.333333</td>\n",
       "      <td>1.0</td>\n",
       "      <td>2.0</td>\n",
       "      <td>0.0</td>\n",
       "      <td>64.0</td>\n",
       "      <td>3.0</td>\n",
       "    </tr>\n",
       "    <tr>\n",
       "      <th rowspan=\"3\" valign=\"top\">0.5</th>\n",
       "      <th>0.0001</th>\n",
       "      <td>0.273866</td>\n",
       "      <td>0.589768</td>\n",
       "      <td>0.584065</td>\n",
       "      <td>0.602641</td>\n",
       "      <td>0.594509</td>\n",
       "      <td>0.226849</td>\n",
       "      <td>0.635824</td>\n",
       "      <td>0.576418</td>\n",
       "      <td>0.599389</td>\n",
       "      <td>0.576387</td>\n",
       "      <td>...</td>\n",
       "      <td>1.0</td>\n",
       "      <td>2.0</td>\n",
       "      <td>384.0</td>\n",
       "      <td>1.0</td>\n",
       "      <td>45.333333</td>\n",
       "      <td>1.0</td>\n",
       "      <td>2.0</td>\n",
       "      <td>0.0</td>\n",
       "      <td>64.0</td>\n",
       "      <td>1.0</td>\n",
       "    </tr>\n",
       "    <tr>\n",
       "      <th>0.0005</th>\n",
       "      <td>0.426052</td>\n",
       "      <td>0.653003</td>\n",
       "      <td>0.651987</td>\n",
       "      <td>0.659455</td>\n",
       "      <td>0.656112</td>\n",
       "      <td>0.233010</td>\n",
       "      <td>0.679715</td>\n",
       "      <td>0.636058</td>\n",
       "      <td>0.649555</td>\n",
       "      <td>0.636141</td>\n",
       "      <td>...</td>\n",
       "      <td>1.0</td>\n",
       "      <td>2.0</td>\n",
       "      <td>384.0</td>\n",
       "      <td>1.0</td>\n",
       "      <td>45.333333</td>\n",
       "      <td>1.0</td>\n",
       "      <td>2.0</td>\n",
       "      <td>0.0</td>\n",
       "      <td>64.0</td>\n",
       "      <td>2.0</td>\n",
       "    </tr>\n",
       "    <tr>\n",
       "      <th>0.0010</th>\n",
       "      <td>0.480820</td>\n",
       "      <td>0.637432</td>\n",
       "      <td>0.631224</td>\n",
       "      <td>0.659271</td>\n",
       "      <td>0.644092</td>\n",
       "      <td>0.243517</td>\n",
       "      <td>0.692764</td>\n",
       "      <td>0.661979</td>\n",
       "      <td>0.665142</td>\n",
       "      <td>0.660441</td>\n",
       "      <td>...</td>\n",
       "      <td>1.0</td>\n",
       "      <td>2.0</td>\n",
       "      <td>384.0</td>\n",
       "      <td>1.0</td>\n",
       "      <td>45.333333</td>\n",
       "      <td>1.0</td>\n",
       "      <td>2.0</td>\n",
       "      <td>0.0</td>\n",
       "      <td>64.0</td>\n",
       "      <td>0.0</td>\n",
       "    </tr>\n",
       "    <tr>\n",
       "      <th rowspan=\"6\" valign=\"top\">(128, 128)</th>\n",
       "      <th rowspan=\"3\" valign=\"top\">0.1</th>\n",
       "      <th>0.0001</th>\n",
       "      <td>0.319503</td>\n",
       "      <td>0.600572</td>\n",
       "      <td>0.593713</td>\n",
       "      <td>0.615440</td>\n",
       "      <td>0.605307</td>\n",
       "      <td>0.229951</td>\n",
       "      <td>0.652432</td>\n",
       "      <td>0.609131</td>\n",
       "      <td>0.615769</td>\n",
       "      <td>0.607697</td>\n",
       "      <td>...</td>\n",
       "      <td>1.0</td>\n",
       "      <td>2.0</td>\n",
       "      <td>384.0</td>\n",
       "      <td>1.0</td>\n",
       "      <td>45.333333</td>\n",
       "      <td>1.0</td>\n",
       "      <td>2.0</td>\n",
       "      <td>0.0</td>\n",
       "      <td>64.0</td>\n",
       "      <td>10.0</td>\n",
       "    </tr>\n",
       "    <tr>\n",
       "      <th>0.0005</th>\n",
       "      <td>0.450899</td>\n",
       "      <td>0.627264</td>\n",
       "      <td>0.623303</td>\n",
       "      <td>0.640772</td>\n",
       "      <td>0.631700</td>\n",
       "      <td>0.244226</td>\n",
       "      <td>0.701068</td>\n",
       "      <td>0.672348</td>\n",
       "      <td>0.676775</td>\n",
       "      <td>0.670473</td>\n",
       "      <td>...</td>\n",
       "      <td>1.0</td>\n",
       "      <td>2.0</td>\n",
       "      <td>384.0</td>\n",
       "      <td>1.0</td>\n",
       "      <td>45.333333</td>\n",
       "      <td>1.0</td>\n",
       "      <td>2.0</td>\n",
       "      <td>0.0</td>\n",
       "      <td>64.0</td>\n",
       "      <td>11.0</td>\n",
       "    </tr>\n",
       "    <tr>\n",
       "      <th>0.0010</th>\n",
       "      <td>0.539012</td>\n",
       "      <td>0.599301</td>\n",
       "      <td>0.588865</td>\n",
       "      <td>0.623598</td>\n",
       "      <td>0.607811</td>\n",
       "      <td>0.249625</td>\n",
       "      <td>0.695136</td>\n",
       "      <td>0.682212</td>\n",
       "      <td>0.681072</td>\n",
       "      <td>0.692527</td>\n",
       "      <td>...</td>\n",
       "      <td>1.0</td>\n",
       "      <td>2.0</td>\n",
       "      <td>384.0</td>\n",
       "      <td>1.0</td>\n",
       "      <td>45.333333</td>\n",
       "      <td>1.0</td>\n",
       "      <td>2.0</td>\n",
       "      <td>0.0</td>\n",
       "      <td>64.0</td>\n",
       "      <td>9.0</td>\n",
       "    </tr>\n",
       "    <tr>\n",
       "      <th rowspan=\"3\" valign=\"top\">0.5</th>\n",
       "      <th>0.0001</th>\n",
       "      <td>0.307972</td>\n",
       "      <td>0.598983</td>\n",
       "      <td>0.590465</td>\n",
       "      <td>0.616082</td>\n",
       "      <td>0.603729</td>\n",
       "      <td>0.225612</td>\n",
       "      <td>0.651246</td>\n",
       "      <td>0.604393</td>\n",
       "      <td>0.615082</td>\n",
       "      <td>0.603252</td>\n",
       "      <td>...</td>\n",
       "      <td>1.0</td>\n",
       "      <td>2.0</td>\n",
       "      <td>384.0</td>\n",
       "      <td>1.0</td>\n",
       "      <td>45.333333</td>\n",
       "      <td>1.0</td>\n",
       "      <td>2.0</td>\n",
       "      <td>0.0</td>\n",
       "      <td>64.0</td>\n",
       "      <td>7.0</td>\n",
       "    </tr>\n",
       "    <tr>\n",
       "      <th>0.0005</th>\n",
       "      <td>0.440530</td>\n",
       "      <td>0.633619</td>\n",
       "      <td>0.628627</td>\n",
       "      <td>0.648443</td>\n",
       "      <td>0.638069</td>\n",
       "      <td>0.278748</td>\n",
       "      <td>0.663108</td>\n",
       "      <td>0.639337</td>\n",
       "      <td>0.654379</td>\n",
       "      <td>0.645598</td>\n",
       "      <td>...</td>\n",
       "      <td>1.0</td>\n",
       "      <td>2.0</td>\n",
       "      <td>384.0</td>\n",
       "      <td>1.0</td>\n",
       "      <td>45.333333</td>\n",
       "      <td>1.0</td>\n",
       "      <td>2.0</td>\n",
       "      <td>0.0</td>\n",
       "      <td>64.0</td>\n",
       "      <td>8.0</td>\n",
       "    </tr>\n",
       "    <tr>\n",
       "      <th>0.0010</th>\n",
       "      <td>0.367332</td>\n",
       "      <td>0.627582</td>\n",
       "      <td>0.620663</td>\n",
       "      <td>0.649354</td>\n",
       "      <td>0.634711</td>\n",
       "      <td>0.232030</td>\n",
       "      <td>0.664294</td>\n",
       "      <td>0.638931</td>\n",
       "      <td>0.650167</td>\n",
       "      <td>0.645826</td>\n",
       "      <td>...</td>\n",
       "      <td>1.0</td>\n",
       "      <td>2.0</td>\n",
       "      <td>384.0</td>\n",
       "      <td>1.0</td>\n",
       "      <td>45.333333</td>\n",
       "      <td>1.0</td>\n",
       "      <td>2.0</td>\n",
       "      <td>0.0</td>\n",
       "      <td>64.0</td>\n",
       "      <td>6.0</td>\n",
       "    </tr>\n",
       "    <tr>\n",
       "      <th rowspan=\"6\" valign=\"top\">(256, 256)</th>\n",
       "      <th rowspan=\"3\" valign=\"top\">0.1</th>\n",
       "      <th>0.0001</th>\n",
       "      <td>0.466642</td>\n",
       "      <td>0.632348</td>\n",
       "      <td>0.630249</td>\n",
       "      <td>0.636770</td>\n",
       "      <td>0.633523</td>\n",
       "      <td>0.286543</td>\n",
       "      <td>0.689205</td>\n",
       "      <td>0.635921</td>\n",
       "      <td>0.677620</td>\n",
       "      <td>0.642887</td>\n",
       "      <td>...</td>\n",
       "      <td>1.0</td>\n",
       "      <td>2.0</td>\n",
       "      <td>384.0</td>\n",
       "      <td>1.0</td>\n",
       "      <td>45.333333</td>\n",
       "      <td>1.0</td>\n",
       "      <td>2.0</td>\n",
       "      <td>0.0</td>\n",
       "      <td>64.0</td>\n",
       "      <td>16.0</td>\n",
       "    </tr>\n",
       "    <tr>\n",
       "      <th>0.0005</th>\n",
       "      <td>0.569630</td>\n",
       "      <td>0.631713</td>\n",
       "      <td>0.625118</td>\n",
       "      <td>0.653897</td>\n",
       "      <td>0.638687</td>\n",
       "      <td>0.266810</td>\n",
       "      <td>0.695136</td>\n",
       "      <td>0.677604</td>\n",
       "      <td>0.675582</td>\n",
       "      <td>0.683390</td>\n",
       "      <td>...</td>\n",
       "      <td>1.0</td>\n",
       "      <td>2.0</td>\n",
       "      <td>384.0</td>\n",
       "      <td>1.0</td>\n",
       "      <td>45.333333</td>\n",
       "      <td>1.0</td>\n",
       "      <td>2.0</td>\n",
       "      <td>0.0</td>\n",
       "      <td>64.0</td>\n",
       "      <td>17.0</td>\n",
       "    </tr>\n",
       "    <tr>\n",
       "      <th>0.0010</th>\n",
       "      <td>0.601132</td>\n",
       "      <td>0.636479</td>\n",
       "      <td>0.629533</td>\n",
       "      <td>0.660634</td>\n",
       "      <td>0.644015</td>\n",
       "      <td>0.266478</td>\n",
       "      <td>0.693950</td>\n",
       "      <td>0.668993</td>\n",
       "      <td>0.669748</td>\n",
       "      <td>0.669104</td>\n",
       "      <td>...</td>\n",
       "      <td>1.0</td>\n",
       "      <td>2.0</td>\n",
       "      <td>384.0</td>\n",
       "      <td>1.0</td>\n",
       "      <td>45.333333</td>\n",
       "      <td>1.0</td>\n",
       "      <td>2.0</td>\n",
       "      <td>0.0</td>\n",
       "      <td>64.0</td>\n",
       "      <td>15.0</td>\n",
       "    </tr>\n",
       "    <tr>\n",
       "      <th rowspan=\"3\" valign=\"top\">0.5</th>\n",
       "      <th>0.0001</th>\n",
       "      <td>0.481612</td>\n",
       "      <td>0.610423</td>\n",
       "      <td>0.605714</td>\n",
       "      <td>0.619790</td>\n",
       "      <td>0.613171</td>\n",
       "      <td>0.232198</td>\n",
       "      <td>0.660735</td>\n",
       "      <td>0.616295</td>\n",
       "      <td>0.624210</td>\n",
       "      <td>0.614918</td>\n",
       "      <td>...</td>\n",
       "      <td>1.0</td>\n",
       "      <td>2.0</td>\n",
       "      <td>384.0</td>\n",
       "      <td>1.0</td>\n",
       "      <td>45.333333</td>\n",
       "      <td>1.0</td>\n",
       "      <td>2.0</td>\n",
       "      <td>0.0</td>\n",
       "      <td>64.0</td>\n",
       "      <td>13.0</td>\n",
       "    </tr>\n",
       "    <tr>\n",
       "      <th>0.0005</th>\n",
       "      <td>0.461614</td>\n",
       "      <td>0.648554</td>\n",
       "      <td>0.644597</td>\n",
       "      <td>0.665516</td>\n",
       "      <td>0.653468</td>\n",
       "      <td>0.284182</td>\n",
       "      <td>0.689205</td>\n",
       "      <td>0.656695</td>\n",
       "      <td>0.672986</td>\n",
       "      <td>0.662568</td>\n",
       "      <td>...</td>\n",
       "      <td>1.0</td>\n",
       "      <td>2.0</td>\n",
       "      <td>384.0</td>\n",
       "      <td>1.0</td>\n",
       "      <td>45.333333</td>\n",
       "      <td>1.0</td>\n",
       "      <td>2.0</td>\n",
       "      <td>0.0</td>\n",
       "      <td>64.0</td>\n",
       "      <td>14.0</td>\n",
       "    </tr>\n",
       "    <tr>\n",
       "      <th>0.0010</th>\n",
       "      <td>0.497822</td>\n",
       "      <td>0.609787</td>\n",
       "      <td>0.599363</td>\n",
       "      <td>0.634513</td>\n",
       "      <td>0.616223</td>\n",
       "      <td>0.245222</td>\n",
       "      <td>0.690391</td>\n",
       "      <td>0.667609</td>\n",
       "      <td>0.675299</td>\n",
       "      <td>0.672637</td>\n",
       "      <td>...</td>\n",
       "      <td>1.0</td>\n",
       "      <td>2.0</td>\n",
       "      <td>384.0</td>\n",
       "      <td>1.0</td>\n",
       "      <td>45.333333</td>\n",
       "      <td>1.0</td>\n",
       "      <td>2.0</td>\n",
       "      <td>0.0</td>\n",
       "      <td>64.0</td>\n",
       "      <td>12.0</td>\n",
       "    </tr>\n",
       "    <tr>\n",
       "      <th rowspan=\"6\" valign=\"top\">(512, 512)</th>\n",
       "      <th rowspan=\"3\" valign=\"top\">0.1</th>\n",
       "      <th>0.0001</th>\n",
       "      <td>0.385423</td>\n",
       "      <td>0.607245</td>\n",
       "      <td>0.603607</td>\n",
       "      <td>0.618173</td>\n",
       "      <td>0.611860</td>\n",
       "      <td>0.226266</td>\n",
       "      <td>0.653618</td>\n",
       "      <td>0.610058</td>\n",
       "      <td>0.616492</td>\n",
       "      <td>0.609331</td>\n",
       "      <td>...</td>\n",
       "      <td>1.0</td>\n",
       "      <td>2.0</td>\n",
       "      <td>384.0</td>\n",
       "      <td>1.0</td>\n",
       "      <td>45.333333</td>\n",
       "      <td>1.0</td>\n",
       "      <td>2.0</td>\n",
       "      <td>0.0</td>\n",
       "      <td>64.0</td>\n",
       "      <td>22.0</td>\n",
       "    </tr>\n",
       "    <tr>\n",
       "      <th>0.0005</th>\n",
       "      <td>0.541610</td>\n",
       "      <td>0.601525</td>\n",
       "      <td>0.590962</td>\n",
       "      <td>0.627558</td>\n",
       "      <td>0.609044</td>\n",
       "      <td>0.286676</td>\n",
       "      <td>0.665480</td>\n",
       "      <td>0.650900</td>\n",
       "      <td>0.651802</td>\n",
       "      <td>0.660815</td>\n",
       "      <td>...</td>\n",
       "      <td>1.0</td>\n",
       "      <td>2.0</td>\n",
       "      <td>384.0</td>\n",
       "      <td>1.0</td>\n",
       "      <td>45.333333</td>\n",
       "      <td>1.0</td>\n",
       "      <td>2.0</td>\n",
       "      <td>0.0</td>\n",
       "      <td>64.0</td>\n",
       "      <td>23.0</td>\n",
       "    </tr>\n",
       "    <tr>\n",
       "      <th>0.0010</th>\n",
       "      <td>0.509491</td>\n",
       "      <td>0.612647</td>\n",
       "      <td>0.608678</td>\n",
       "      <td>0.627453</td>\n",
       "      <td>0.618390</td>\n",
       "      <td>0.238057</td>\n",
       "      <td>0.637011</td>\n",
       "      <td>0.618224</td>\n",
       "      <td>0.624502</td>\n",
       "      <td>0.628629</td>\n",
       "      <td>...</td>\n",
       "      <td>1.0</td>\n",
       "      <td>2.0</td>\n",
       "      <td>384.0</td>\n",
       "      <td>1.0</td>\n",
       "      <td>45.333333</td>\n",
       "      <td>1.0</td>\n",
       "      <td>2.0</td>\n",
       "      <td>0.0</td>\n",
       "      <td>64.0</td>\n",
       "      <td>21.0</td>\n",
       "    </tr>\n",
       "    <tr>\n",
       "      <th rowspan=\"3\" valign=\"top\">0.5</th>\n",
       "      <th>0.0001</th>\n",
       "      <td>0.379065</td>\n",
       "      <td>0.602479</td>\n",
       "      <td>0.591888</td>\n",
       "      <td>0.623348</td>\n",
       "      <td>0.607872</td>\n",
       "      <td>0.241866</td>\n",
       "      <td>0.652432</td>\n",
       "      <td>0.613845</td>\n",
       "      <td>0.621089</td>\n",
       "      <td>0.611914</td>\n",
       "      <td>...</td>\n",
       "      <td>1.0</td>\n",
       "      <td>2.0</td>\n",
       "      <td>384.0</td>\n",
       "      <td>1.0</td>\n",
       "      <td>45.333333</td>\n",
       "      <td>1.0</td>\n",
       "      <td>2.0</td>\n",
       "      <td>0.0</td>\n",
       "      <td>64.0</td>\n",
       "      <td>19.0</td>\n",
       "    </tr>\n",
       "    <tr>\n",
       "      <th>0.0005</th>\n",
       "      <td>0.504722</td>\n",
       "      <td>0.604385</td>\n",
       "      <td>0.594029</td>\n",
       "      <td>0.627738</td>\n",
       "      <td>0.611211</td>\n",
       "      <td>0.255273</td>\n",
       "      <td>0.683274</td>\n",
       "      <td>0.665759</td>\n",
       "      <td>0.665124</td>\n",
       "      <td>0.672673</td>\n",
       "      <td>...</td>\n",
       "      <td>1.0</td>\n",
       "      <td>2.0</td>\n",
       "      <td>384.0</td>\n",
       "      <td>1.0</td>\n",
       "      <td>45.333333</td>\n",
       "      <td>1.0</td>\n",
       "      <td>2.0</td>\n",
       "      <td>0.0</td>\n",
       "      <td>64.0</td>\n",
       "      <td>20.0</td>\n",
       "    </tr>\n",
       "    <tr>\n",
       "      <th>0.0010</th>\n",
       "      <td>0.523649</td>\n",
       "      <td>0.625357</td>\n",
       "      <td>0.616229</td>\n",
       "      <td>0.653128</td>\n",
       "      <td>0.633419</td>\n",
       "      <td>0.251871</td>\n",
       "      <td>0.689205</td>\n",
       "      <td>0.662766</td>\n",
       "      <td>0.668837</td>\n",
       "      <td>0.666082</td>\n",
       "      <td>...</td>\n",
       "      <td>1.0</td>\n",
       "      <td>2.0</td>\n",
       "      <td>384.0</td>\n",
       "      <td>1.0</td>\n",
       "      <td>45.333333</td>\n",
       "      <td>1.0</td>\n",
       "      <td>2.0</td>\n",
       "      <td>0.0</td>\n",
       "      <td>64.0</td>\n",
       "      <td>18.0</td>\n",
       "    </tr>\n",
       "  </tbody>\n",
       "</table>\n",
       "<p>48 rows × 23 columns</p>\n",
       "</div>"
      ],
      "text/plain": [
       "                                                                          loss  \\\n",
       "dimensions swnu_hidden_dim ffn_hidden_dim dropout_rate learning_rate             \n",
       "15         (10,)           (64, 64)       0.1          0.0001         0.371781   \n",
       "                                                       0.0005         0.440356   \n",
       "                                                       0.0010         0.360259   \n",
       "                                          0.5          0.0001         0.377169   \n",
       "                                                       0.0005         0.455574   \n",
       "                                                       0.0010         0.348458   \n",
       "                           (128, 128)     0.1          0.0001         0.524425   \n",
       "                                                       0.0005         0.412525   \n",
       "                                                       0.0010         0.473316   \n",
       "                                          0.5          0.0001         0.350557   \n",
       "                                                       0.0005         0.427026   \n",
       "                                                       0.0010         0.327612   \n",
       "                           (256, 256)     0.1          0.0001         0.455113   \n",
       "                                                       0.0005         0.383629   \n",
       "                                                       0.0010         0.402671   \n",
       "                                          0.5          0.0001         0.414512   \n",
       "                                                       0.0005         0.390813   \n",
       "                                                       0.0010         0.432883   \n",
       "                           (512, 512)     0.1          0.0001         0.559197   \n",
       "                                                       0.0005         0.489585   \n",
       "                                                       0.0010         0.482960   \n",
       "                                          0.5          0.0001         0.438350   \n",
       "                                                       0.0005         0.347589   \n",
       "                                                       0.0010         0.419916   \n",
       "           (12,)           (64, 64)       0.1          0.0001         0.285349   \n",
       "                                                       0.0005         0.446762   \n",
       "                                                       0.0010         0.343697   \n",
       "                                          0.5          0.0001         0.273866   \n",
       "                                                       0.0005         0.426052   \n",
       "                                                       0.0010         0.480820   \n",
       "                           (128, 128)     0.1          0.0001         0.319503   \n",
       "                                                       0.0005         0.450899   \n",
       "                                                       0.0010         0.539012   \n",
       "                                          0.5          0.0001         0.307972   \n",
       "                                                       0.0005         0.440530   \n",
       "                                                       0.0010         0.367332   \n",
       "                           (256, 256)     0.1          0.0001         0.466642   \n",
       "                                                       0.0005         0.569630   \n",
       "                                                       0.0010         0.601132   \n",
       "                                          0.5          0.0001         0.481612   \n",
       "                                                       0.0005         0.461614   \n",
       "                                                       0.0010         0.497822   \n",
       "                           (512, 512)     0.1          0.0001         0.385423   \n",
       "                                                       0.0005         0.541610   \n",
       "                                                       0.0010         0.509491   \n",
       "                                          0.5          0.0001         0.379065   \n",
       "                                                       0.0005         0.504722   \n",
       "                                                       0.0010         0.523649   \n",
       "\n",
       "                                                                      accuracy  \\\n",
       "dimensions swnu_hidden_dim ffn_hidden_dim dropout_rate learning_rate             \n",
       "15         (10,)           (64, 64)       0.1          0.0001         0.608516   \n",
       "                                                       0.0005         0.626946   \n",
       "                                                       0.0010         0.629806   \n",
       "                                          0.5          0.0001         0.611694   \n",
       "                                                       0.0005         0.613600   \n",
       "                                                       0.0010         0.625993   \n",
       "                           (128, 128)     0.1          0.0001         0.606927   \n",
       "                                                       0.0005         0.625675   \n",
       "                                                       0.0010         0.609469   \n",
       "                                          0.5          0.0001         0.614871   \n",
       "                                                       0.0005         0.621544   \n",
       "                                                       0.0010         0.638386   \n",
       "                           (256, 256)     0.1          0.0001         0.618049   \n",
       "                                                       0.0005         0.628217   \n",
       "                                                       0.0010         0.626946   \n",
       "                                          0.5          0.0001         0.614871   \n",
       "                                                       0.0005         0.634890   \n",
       "                                                       0.0010         0.599619   \n",
       "                           (512, 512)     0.1          0.0001         0.620909   \n",
       "                                                       0.0005         0.623451   \n",
       "                                                       0.0010         0.610423   \n",
       "                                          0.5          0.0001         0.625040   \n",
       "                                                       0.0005         0.631395   \n",
       "                                                       0.0010         0.621862   \n",
       "           (12,)           (64, 64)       0.1          0.0001         0.601207   \n",
       "                                                       0.0005         0.642517   \n",
       "                                                       0.0010         0.636161   \n",
       "                                          0.5          0.0001         0.589768   \n",
       "                                                       0.0005         0.653003   \n",
       "                                                       0.0010         0.637432   \n",
       "                           (128, 128)     0.1          0.0001         0.600572   \n",
       "                                                       0.0005         0.627264   \n",
       "                                                       0.0010         0.599301   \n",
       "                                          0.5          0.0001         0.598983   \n",
       "                                                       0.0005         0.633619   \n",
       "                                                       0.0010         0.627582   \n",
       "                           (256, 256)     0.1          0.0001         0.632348   \n",
       "                                                       0.0005         0.631713   \n",
       "                                                       0.0010         0.636479   \n",
       "                                          0.5          0.0001         0.610423   \n",
       "                                                       0.0005         0.648554   \n",
       "                                                       0.0010         0.609787   \n",
       "                           (512, 512)     0.1          0.0001         0.607245   \n",
       "                                                       0.0005         0.601525   \n",
       "                                                       0.0010         0.612647   \n",
       "                                          0.5          0.0001         0.602479   \n",
       "                                                       0.0005         0.604385   \n",
       "                                                       0.0010         0.625357   \n",
       "\n",
       "                                                                            f1  \\\n",
       "dimensions swnu_hidden_dim ffn_hidden_dim dropout_rate learning_rate             \n",
       "15         (10,)           (64, 64)       0.1          0.0001         0.606821   \n",
       "                                                       0.0005         0.623590   \n",
       "                                                       0.0010         0.626672   \n",
       "                                          0.5          0.0001         0.610257   \n",
       "                                                       0.0005         0.612364   \n",
       "                                                       0.0010         0.622142   \n",
       "                           (128, 128)     0.1          0.0001         0.603127   \n",
       "                                                       0.0005         0.620927   \n",
       "                                                       0.0010         0.602916   \n",
       "                                          0.5          0.0001         0.613603   \n",
       "                                                       0.0005         0.616124   \n",
       "                                                       0.0010         0.633841   \n",
       "                           (256, 256)     0.1          0.0001         0.615059   \n",
       "                                                       0.0005         0.621881   \n",
       "                                                       0.0010         0.626363   \n",
       "                                          0.5          0.0001         0.613220   \n",
       "                                                       0.0005         0.629773   \n",
       "                                                       0.0010         0.588383   \n",
       "                           (512, 512)     0.1          0.0001         0.617628   \n",
       "                                                       0.0005         0.610208   \n",
       "                                                       0.0010         0.597907   \n",
       "                                          0.5          0.0001         0.621921   \n",
       "                                                       0.0005         0.626265   \n",
       "                                                       0.0010         0.615111   \n",
       "           (12,)           (64, 64)       0.1          0.0001         0.594840   \n",
       "                                                       0.0005         0.636840   \n",
       "                                                       0.0010         0.626863   \n",
       "                                          0.5          0.0001         0.584065   \n",
       "                                                       0.0005         0.651987   \n",
       "                                                       0.0010         0.631224   \n",
       "                           (128, 128)     0.1          0.0001         0.593713   \n",
       "                                                       0.0005         0.623303   \n",
       "                                                       0.0010         0.588865   \n",
       "                                          0.5          0.0001         0.590465   \n",
       "                                                       0.0005         0.628627   \n",
       "                                                       0.0010         0.620663   \n",
       "                           (256, 256)     0.1          0.0001         0.630249   \n",
       "                                                       0.0005         0.625118   \n",
       "                                                       0.0010         0.629533   \n",
       "                                          0.5          0.0001         0.605714   \n",
       "                                                       0.0005         0.644597   \n",
       "                                                       0.0010         0.599363   \n",
       "                           (512, 512)     0.1          0.0001         0.603607   \n",
       "                                                       0.0005         0.590962   \n",
       "                                                       0.0010         0.608678   \n",
       "                                          0.5          0.0001         0.591888   \n",
       "                                                       0.0005         0.594029   \n",
       "                                                       0.0010         0.616229   \n",
       "\n",
       "                                                                      precision  \\\n",
       "dimensions swnu_hidden_dim ffn_hidden_dim dropout_rate learning_rate              \n",
       "15         (10,)           (64, 64)       0.1          0.0001          0.613873   \n",
       "                                                       0.0005          0.639873   \n",
       "                                                       0.0010          0.640971   \n",
       "                                          0.5          0.0001          0.618365   \n",
       "                                                       0.0005          0.616119   \n",
       "                                                       0.0010          0.638752   \n",
       "                           (128, 128)     0.1          0.0001          0.616656   \n",
       "                                                       0.0005          0.643257   \n",
       "                                                       0.0010          0.626648   \n",
       "                                          0.5          0.0001          0.619133   \n",
       "                                                       0.0005          0.638860   \n",
       "                                                       0.0010          0.654809   \n",
       "                           (256, 256)     0.1          0.0001          0.626827   \n",
       "                                                       0.0005          0.649477   \n",
       "                                                       0.0010          0.631221   \n",
       "                                          0.5          0.0001          0.622208   \n",
       "                                                       0.0005          0.652981   \n",
       "                                                       0.0010          0.625806   \n",
       "                           (512, 512)     0.1          0.0001          0.632004   \n",
       "                                                       0.0005          0.655354   \n",
       "                                                       0.0010          0.640340   \n",
       "                                          0.5          0.0001          0.634268   \n",
       "                                                       0.0005          0.650479   \n",
       "                                                       0.0010          0.643818   \n",
       "           (12,)           (64, 64)       0.1          0.0001          0.615824   \n",
       "                                                       0.0005          0.663657   \n",
       "                                                       0.0010          0.665182   \n",
       "                                          0.5          0.0001          0.602641   \n",
       "                                                       0.0005          0.659455   \n",
       "                                                       0.0010          0.659271   \n",
       "                           (128, 128)     0.1          0.0001          0.615440   \n",
       "                                                       0.0005          0.640772   \n",
       "                                                       0.0010          0.623598   \n",
       "                                          0.5          0.0001          0.616082   \n",
       "                                                       0.0005          0.648443   \n",
       "                                                       0.0010          0.649354   \n",
       "                           (256, 256)     0.1          0.0001          0.636770   \n",
       "                                                       0.0005          0.653897   \n",
       "                                                       0.0010          0.660634   \n",
       "                                          0.5          0.0001          0.619790   \n",
       "                                                       0.0005          0.665516   \n",
       "                                                       0.0010          0.634513   \n",
       "                           (512, 512)     0.1          0.0001          0.618173   \n",
       "                                                       0.0005          0.627558   \n",
       "                                                       0.0010          0.627453   \n",
       "                                          0.5          0.0001          0.623348   \n",
       "                                                       0.0005          0.627738   \n",
       "                                                       0.0010          0.653128   \n",
       "\n",
       "                                                                        recall  \\\n",
       "dimensions swnu_hidden_dim ffn_hidden_dim dropout_rate learning_rate             \n",
       "15         (10,)           (64, 64)       0.1          0.0001         0.610784   \n",
       "                                                       0.0005         0.632587   \n",
       "                                                       0.0010         0.633712   \n",
       "                                          0.5          0.0001         0.615605   \n",
       "                                                       0.0005         0.614481   \n",
       "                                                       0.0010         0.630248   \n",
       "                           (128, 128)     0.1          0.0001         0.611319   \n",
       "                                                       0.0005         0.632205   \n",
       "                                                       0.0010         0.614759   \n",
       "                                          0.5          0.0001         0.617272   \n",
       "                                                       0.0005         0.627693   \n",
       "                                                       0.0010         0.644200   \n",
       "                           (256, 256)     0.1          0.0001         0.622390   \n",
       "                                                       0.0005         0.635229   \n",
       "                                                       0.0010         0.629790   \n",
       "                                          0.5          0.0001         0.618641   \n",
       "                                                       0.0005         0.641069   \n",
       "                                                       0.0010         0.608115   \n",
       "                           (512, 512)     0.1          0.0001         0.625866   \n",
       "                                                       0.0005         0.632222   \n",
       "                                                       0.0010         0.619775   \n",
       "                                          0.5          0.0001         0.629039   \n",
       "                                                       0.0005         0.637640   \n",
       "                                                       0.0010         0.629128   \n",
       "           (12,)           (64, 64)       0.1          0.0001         0.606390   \n",
       "                                                       0.0005         0.649336   \n",
       "                                                       0.0010         0.644574   \n",
       "                                          0.5          0.0001         0.594509   \n",
       "                                                       0.0005         0.656112   \n",
       "                                                       0.0010         0.644092   \n",
       "                           (128, 128)     0.1          0.0001         0.605307   \n",
       "                                                       0.0005         0.631700   \n",
       "                                                       0.0010         0.607811   \n",
       "                                          0.5          0.0001         0.603729   \n",
       "                                                       0.0005         0.638069   \n",
       "                                                       0.0010         0.634711   \n",
       "                           (256, 256)     0.1          0.0001         0.633523   \n",
       "                                                       0.0005         0.638687   \n",
       "                                                       0.0010         0.644015   \n",
       "                                          0.5          0.0001         0.613171   \n",
       "                                                       0.0005         0.653468   \n",
       "                                                       0.0010         0.616223   \n",
       "                           (512, 512)     0.1          0.0001         0.611860   \n",
       "                                                       0.0005         0.609044   \n",
       "                                                       0.0010         0.618390   \n",
       "                                          0.5          0.0001         0.607872   \n",
       "                                                       0.0005         0.611211   \n",
       "                                                       0.0010         0.633419   \n",
       "\n",
       "                                                                      valid_loss  \\\n",
       "dimensions swnu_hidden_dim ffn_hidden_dim dropout_rate learning_rate               \n",
       "15         (10,)           (64, 64)       0.1          0.0001           0.212273   \n",
       "                                                       0.0005           0.350511   \n",
       "                                                       0.0010           0.219001   \n",
       "                                          0.5          0.0001           0.234290   \n",
       "                                                       0.0005           0.248443   \n",
       "                                                       0.0010           0.212792   \n",
       "                           (128, 128)     0.1          0.0001           0.246678   \n",
       "                                                       0.0005           0.229952   \n",
       "                                                       0.0010           0.257411   \n",
       "                                          0.5          0.0001           0.246207   \n",
       "                                                       0.0005           0.234200   \n",
       "                                                       0.0010           0.223921   \n",
       "                           (256, 256)     0.1          0.0001           0.255169   \n",
       "                                                       0.0005           0.225523   \n",
       "                                                       0.0010           0.217397   \n",
       "                                          0.5          0.0001           0.237805   \n",
       "                                                       0.0005           0.244355   \n",
       "                                                       0.0010           0.225937   \n",
       "                           (512, 512)     0.1          0.0001           0.247225   \n",
       "                                                       0.0005           0.237396   \n",
       "                                                       0.0010           0.322130   \n",
       "                                          0.5          0.0001           0.259093   \n",
       "                                                       0.0005           0.216436   \n",
       "                                                       0.0010           0.233944   \n",
       "           (12,)           (64, 64)       0.1          0.0001           0.230106   \n",
       "                                                       0.0005           0.256800   \n",
       "                                                       0.0010           0.226580   \n",
       "                                          0.5          0.0001           0.226849   \n",
       "                                                       0.0005           0.233010   \n",
       "                                                       0.0010           0.243517   \n",
       "                           (128, 128)     0.1          0.0001           0.229951   \n",
       "                                                       0.0005           0.244226   \n",
       "                                                       0.0010           0.249625   \n",
       "                                          0.5          0.0001           0.225612   \n",
       "                                                       0.0005           0.278748   \n",
       "                                                       0.0010           0.232030   \n",
       "                           (256, 256)     0.1          0.0001           0.286543   \n",
       "                                                       0.0005           0.266810   \n",
       "                                                       0.0010           0.266478   \n",
       "                                          0.5          0.0001           0.232198   \n",
       "                                                       0.0005           0.284182   \n",
       "                                                       0.0010           0.245222   \n",
       "                           (512, 512)     0.1          0.0001           0.226266   \n",
       "                                                       0.0005           0.286676   \n",
       "                                                       0.0010           0.238057   \n",
       "                                          0.5          0.0001           0.241866   \n",
       "                                                       0.0005           0.255273   \n",
       "                                                       0.0010           0.251871   \n",
       "\n",
       "                                                                      valid_accuracy  \\\n",
       "dimensions swnu_hidden_dim ffn_hidden_dim dropout_rate learning_rate                   \n",
       "15         (10,)           (64, 64)       0.1          0.0001               0.684460   \n",
       "                                                       0.0005               0.706999   \n",
       "                                                       0.0010               0.685647   \n",
       "                                          0.5          0.0001               0.650059   \n",
       "                                                       0.0005               0.674970   \n",
       "                                                       0.0010               0.652432   \n",
       "                           (128, 128)     0.1          0.0001               0.692764   \n",
       "                                                       0.0005               0.657177   \n",
       "                                                       0.0010               0.657177   \n",
       "                                          0.5          0.0001               0.664294   \n",
       "                                                       0.0005               0.676157   \n",
       "                                                       0.0010               0.689205   \n",
       "                           (256, 256)     0.1          0.0001               0.686833   \n",
       "                                                       0.0005               0.631079   \n",
       "                                                       0.0010               0.691578   \n",
       "                                          0.5          0.0001               0.672598   \n",
       "                                                       0.0005               0.642942   \n",
       "                                                       0.0010               0.672598   \n",
       "                           (512, 512)     0.1          0.0001               0.697509   \n",
       "                                                       0.0005               0.672598   \n",
       "                                                       0.0010               0.654804   \n",
       "                                          0.5          0.0001               0.665480   \n",
       "                                                       0.0005               0.650059   \n",
       "                                                       0.0010               0.640569   \n",
       "           (12,)           (64, 64)       0.1          0.0001               0.645314   \n",
       "                                                       0.0005               0.652432   \n",
       "                                                       0.0010               0.655991   \n",
       "                                          0.5          0.0001               0.635824   \n",
       "                                                       0.0005               0.679715   \n",
       "                                                       0.0010               0.692764   \n",
       "                           (128, 128)     0.1          0.0001               0.652432   \n",
       "                                                       0.0005               0.701068   \n",
       "                                                       0.0010               0.695136   \n",
       "                                          0.5          0.0001               0.651246   \n",
       "                                                       0.0005               0.663108   \n",
       "                                                       0.0010               0.664294   \n",
       "                           (256, 256)     0.1          0.0001               0.689205   \n",
       "                                                       0.0005               0.695136   \n",
       "                                                       0.0010               0.693950   \n",
       "                                          0.5          0.0001               0.660735   \n",
       "                                                       0.0005               0.689205   \n",
       "                                                       0.0010               0.690391   \n",
       "                           (512, 512)     0.1          0.0001               0.653618   \n",
       "                                                       0.0005               0.665480   \n",
       "                                                       0.0010               0.637011   \n",
       "                                          0.5          0.0001               0.652432   \n",
       "                                                       0.0005               0.683274   \n",
       "                                                       0.0010               0.689205   \n",
       "\n",
       "                                                                      valid_f1  \\\n",
       "dimensions swnu_hidden_dim ffn_hidden_dim dropout_rate learning_rate             \n",
       "15         (10,)           (64, 64)       0.1          0.0001         0.629291   \n",
       "                                                       0.0005         0.687440   \n",
       "                                                       0.0010         0.646080   \n",
       "                                          0.5          0.0001         0.582203   \n",
       "                                                       0.0005         0.624064   \n",
       "                                                       0.0010         0.611429   \n",
       "                           (128, 128)     0.1          0.0001         0.645281   \n",
       "                                                       0.0005         0.615096   \n",
       "                                                       0.0010         0.630455   \n",
       "                                          0.5          0.0001         0.580373   \n",
       "                                                       0.0005         0.616597   \n",
       "                                                       0.0010         0.651170   \n",
       "                           (256, 256)     0.1          0.0001         0.650113   \n",
       "                                                       0.0005         0.599931   \n",
       "                                                       0.0010         0.642148   \n",
       "                                          0.5          0.0001         0.624381   \n",
       "                                                       0.0005         0.600339   \n",
       "                                                       0.0010         0.638489   \n",
       "                           (512, 512)     0.1          0.0001         0.662556   \n",
       "                                                       0.0005         0.655294   \n",
       "                                                       0.0010         0.639094   \n",
       "                                          0.5          0.0001         0.614913   \n",
       "                                                       0.0005         0.614857   \n",
       "                                                       0.0010         0.624250   \n",
       "           (12,)           (64, 64)       0.1          0.0001         0.591107   \n",
       "                                                       0.0005         0.621684   \n",
       "                                                       0.0010         0.627933   \n",
       "                                          0.5          0.0001         0.576418   \n",
       "                                                       0.0005         0.636058   \n",
       "                                                       0.0010         0.661979   \n",
       "                           (128, 128)     0.1          0.0001         0.609131   \n",
       "                                                       0.0005         0.672348   \n",
       "                                                       0.0010         0.682212   \n",
       "                                          0.5          0.0001         0.604393   \n",
       "                                                       0.0005         0.639337   \n",
       "                                                       0.0010         0.638931   \n",
       "                           (256, 256)     0.1          0.0001         0.635921   \n",
       "                                                       0.0005         0.677604   \n",
       "                                                       0.0010         0.668993   \n",
       "                                          0.5          0.0001         0.616295   \n",
       "                                                       0.0005         0.656695   \n",
       "                                                       0.0010         0.667609   \n",
       "                           (512, 512)     0.1          0.0001         0.610058   \n",
       "                                                       0.0005         0.650900   \n",
       "                                                       0.0010         0.618224   \n",
       "                                          0.5          0.0001         0.613845   \n",
       "                                                       0.0005         0.665759   \n",
       "                                                       0.0010         0.662766   \n",
       "\n",
       "                                                                      valid_precision  \\\n",
       "dimensions swnu_hidden_dim ffn_hidden_dim dropout_rate learning_rate                    \n",
       "15         (10,)           (64, 64)       0.1          0.0001                0.654533   \n",
       "                                                       0.0005                0.689508   \n",
       "                                                       0.0010                0.666545   \n",
       "                                          0.5          0.0001                0.606927   \n",
       "                                                       0.0005                0.640483   \n",
       "                                                       0.0010                0.623530   \n",
       "                           (128, 128)     0.1          0.0001                0.665068   \n",
       "                                                       0.0005                0.622536   \n",
       "                                                       0.0010                0.632084   \n",
       "                                          0.5          0.0001                0.626681   \n",
       "                                                       0.0005                0.643530   \n",
       "                                                       0.0010                0.663268   \n",
       "                           (256, 256)     0.1          0.0001                0.661860   \n",
       "                                                       0.0005                0.600538   \n",
       "                                                       0.0010                0.666822   \n",
       "                                          0.5          0.0001                0.642208   \n",
       "                                                       0.0005                0.611145   \n",
       "                                                       0.0010                0.647838   \n",
       "                           (512, 512)     0.1          0.0001                0.668316   \n",
       "                                                       0.0005                0.657865   \n",
       "                                                       0.0010                0.650657   \n",
       "                                          0.5          0.0001                0.633860   \n",
       "                                                       0.0005                0.618070   \n",
       "                                                       0.0010                0.627532   \n",
       "           (12,)           (64, 64)       0.1          0.0001                0.612736   \n",
       "                                                       0.0005                0.626322   \n",
       "                                                       0.0010                0.634725   \n",
       "                                          0.5          0.0001                0.599389   \n",
       "                                                       0.0005                0.649555   \n",
       "                                                       0.0010                0.665142   \n",
       "                           (128, 128)     0.1          0.0001                0.615769   \n",
       "                                                       0.0005                0.676775   \n",
       "                                                       0.0010                0.681072   \n",
       "                                          0.5          0.0001                0.615082   \n",
       "                                                       0.0005                0.654379   \n",
       "                                                       0.0010                0.650167   \n",
       "                           (256, 256)     0.1          0.0001                0.677620   \n",
       "                                                       0.0005                0.675582   \n",
       "                                                       0.0010                0.669748   \n",
       "                                          0.5          0.0001                0.624210   \n",
       "                                                       0.0005                0.672986   \n",
       "                                                       0.0010                0.675299   \n",
       "                           (512, 512)     0.1          0.0001                0.616492   \n",
       "                                                       0.0005                0.651802   \n",
       "                                                       0.0010                0.624502   \n",
       "                                          0.5          0.0001                0.621089   \n",
       "                                                       0.0005                0.665124   \n",
       "                                                       0.0010                0.668837   \n",
       "\n",
       "                                                                      valid_recall  \\\n",
       "dimensions swnu_hidden_dim ffn_hidden_dim dropout_rate learning_rate                 \n",
       "15         (10,)           (64, 64)       0.1          0.0001             0.625808   \n",
       "                                                       0.0005             0.691998   \n",
       "                                                       0.0010             0.643608   \n",
       "                                          0.5          0.0001             0.584045   \n",
       "                                                       0.0005             0.628200   \n",
       "                                                       0.0010             0.613320   \n",
       "                           (128, 128)     0.1          0.0001             0.647086   \n",
       "                                                       0.0005             0.612827   \n",
       "                                                       0.0010             0.632508   \n",
       "                                          0.5          0.0001             0.588893   \n",
       "                                                       0.0005             0.631942   \n",
       "                                                       0.0010             0.651322   \n",
       "                           (256, 256)     0.1          0.0001             0.647351   \n",
       "                                                       0.0005             0.600075   \n",
       "                                                       0.0010             0.637720   \n",
       "                                          0.5          0.0001             0.622823   \n",
       "                                                       0.0005             0.603763   \n",
       "                                                       0.0010             0.636881   \n",
       "                           (512, 512)     0.1          0.0001             0.662760   \n",
       "                                                       0.0005             0.663590   \n",
       "                                                       0.0010             0.655950   \n",
       "                                          0.5          0.0001             0.619345   \n",
       "                                                       0.0005             0.613567   \n",
       "                                                       0.0010             0.634233   \n",
       "           (12,)           (64, 64)       0.1          0.0001             0.589459   \n",
       "                                                       0.0005             0.622458   \n",
       "                                                       0.0010             0.633686   \n",
       "                                          0.5          0.0001             0.576387   \n",
       "                                                       0.0005             0.636141   \n",
       "                                                       0.0010             0.660441   \n",
       "                           (128, 128)     0.1          0.0001             0.607697   \n",
       "                                                       0.0005             0.670473   \n",
       "                                                       0.0010             0.692527   \n",
       "                                          0.5          0.0001             0.603252   \n",
       "                                                       0.0005             0.645598   \n",
       "                                                       0.0010             0.645826   \n",
       "                           (256, 256)     0.1          0.0001             0.642887   \n",
       "                                                       0.0005             0.683390   \n",
       "                                                       0.0010             0.669104   \n",
       "                                          0.5          0.0001             0.614918   \n",
       "                                                       0.0005             0.662568   \n",
       "                                                       0.0010             0.672637   \n",
       "                           (512, 512)     0.1          0.0001             0.609331   \n",
       "                                                       0.0005             0.660815   \n",
       "                                                       0.0010             0.628629   \n",
       "                                          0.5          0.0001             0.611914   \n",
       "                                                       0.0005             0.672673   \n",
       "                                                       0.0010             0.666082   \n",
       "\n",
       "                                                                      ...  \\\n",
       "dimensions swnu_hidden_dim ffn_hidden_dim dropout_rate learning_rate  ...   \n",
       "15         (10,)           (64, 64)       0.1          0.0001         ...   \n",
       "                                                       0.0005         ...   \n",
       "                                                       0.0010         ...   \n",
       "                                          0.5          0.0001         ...   \n",
       "                                                       0.0005         ...   \n",
       "                                                       0.0010         ...   \n",
       "                           (128, 128)     0.1          0.0001         ...   \n",
       "                                                       0.0005         ...   \n",
       "                                                       0.0010         ...   \n",
       "                                          0.5          0.0001         ...   \n",
       "                                                       0.0005         ...   \n",
       "                                                       0.0010         ...   \n",
       "                           (256, 256)     0.1          0.0001         ...   \n",
       "                                                       0.0005         ...   \n",
       "                                                       0.0010         ...   \n",
       "                                          0.5          0.0001         ...   \n",
       "                                                       0.0005         ...   \n",
       "                                                       0.0010         ...   \n",
       "                           (512, 512)     0.1          0.0001         ...   \n",
       "                                                       0.0005         ...   \n",
       "                                                       0.0010         ...   \n",
       "                                          0.5          0.0001         ...   \n",
       "                                                       0.0005         ...   \n",
       "                                                       0.0010         ...   \n",
       "           (12,)           (64, 64)       0.1          0.0001         ...   \n",
       "                                                       0.0005         ...   \n",
       "                                                       0.0010         ...   \n",
       "                                          0.5          0.0001         ...   \n",
       "                                                       0.0005         ...   \n",
       "                                                       0.0010         ...   \n",
       "                           (128, 128)     0.1          0.0001         ...   \n",
       "                                                       0.0005         ...   \n",
       "                                                       0.0010         ...   \n",
       "                                          0.5          0.0001         ...   \n",
       "                                                       0.0005         ...   \n",
       "                                                       0.0010         ...   \n",
       "                           (256, 256)     0.1          0.0001         ...   \n",
       "                                                       0.0005         ...   \n",
       "                                                       0.0010         ...   \n",
       "                                          0.5          0.0001         ...   \n",
       "                                                       0.0005         ...   \n",
       "                                                       0.0010         ...   \n",
       "                           (512, 512)     0.1          0.0001         ...   \n",
       "                                                       0.0005         ...   \n",
       "                                                       0.0010         ...   \n",
       "                                          0.5          0.0001         ...   \n",
       "                                                       0.0005         ...   \n",
       "                                                       0.0010         ...   \n",
       "\n",
       "                                                                      add_time_in_path  \\\n",
       "dimensions swnu_hidden_dim ffn_hidden_dim dropout_rate learning_rate                     \n",
       "15         (10,)           (64, 64)       0.1          0.0001                      1.0   \n",
       "                                                       0.0005                      1.0   \n",
       "                                                       0.0010                      1.0   \n",
       "                                          0.5          0.0001                      1.0   \n",
       "                                                       0.0005                      1.0   \n",
       "                                                       0.0010                      1.0   \n",
       "                           (128, 128)     0.1          0.0001                      1.0   \n",
       "                                                       0.0005                      1.0   \n",
       "                                                       0.0010                      1.0   \n",
       "                                          0.5          0.0001                      1.0   \n",
       "                                                       0.0005                      1.0   \n",
       "                                                       0.0010                      1.0   \n",
       "                           (256, 256)     0.1          0.0001                      1.0   \n",
       "                                                       0.0005                      1.0   \n",
       "                                                       0.0010                      1.0   \n",
       "                                          0.5          0.0001                      1.0   \n",
       "                                                       0.0005                      1.0   \n",
       "                                                       0.0010                      1.0   \n",
       "                           (512, 512)     0.1          0.0001                      1.0   \n",
       "                                                       0.0005                      1.0   \n",
       "                                                       0.0010                      1.0   \n",
       "                                          0.5          0.0001                      1.0   \n",
       "                                                       0.0005                      1.0   \n",
       "                                                       0.0010                      1.0   \n",
       "           (12,)           (64, 64)       0.1          0.0001                      1.0   \n",
       "                                                       0.0005                      1.0   \n",
       "                                                       0.0010                      1.0   \n",
       "                                          0.5          0.0001                      1.0   \n",
       "                                                       0.0005                      1.0   \n",
       "                                                       0.0010                      1.0   \n",
       "                           (128, 128)     0.1          0.0001                      1.0   \n",
       "                                                       0.0005                      1.0   \n",
       "                                                       0.0010                      1.0   \n",
       "                                          0.5          0.0001                      1.0   \n",
       "                                                       0.0005                      1.0   \n",
       "                                                       0.0010                      1.0   \n",
       "                           (256, 256)     0.1          0.0001                      1.0   \n",
       "                                                       0.0005                      1.0   \n",
       "                                                       0.0010                      1.0   \n",
       "                                          0.5          0.0001                      1.0   \n",
       "                                                       0.0005                      1.0   \n",
       "                                                       0.0010                      1.0   \n",
       "                           (512, 512)     0.1          0.0001                      1.0   \n",
       "                                                       0.0005                      1.0   \n",
       "                                                       0.0010                      1.0   \n",
       "                                          0.5          0.0001                      1.0   \n",
       "                                                       0.0005                      1.0   \n",
       "                                                       0.0010                      1.0   \n",
       "\n",
       "                                                                      num_features  \\\n",
       "dimensions swnu_hidden_dim ffn_hidden_dim dropout_rate learning_rate                 \n",
       "15         (10,)           (64, 64)       0.1          0.0001                  2.0   \n",
       "                                                       0.0005                  2.0   \n",
       "                                                       0.0010                  2.0   \n",
       "                                          0.5          0.0001                  2.0   \n",
       "                                                       0.0005                  2.0   \n",
       "                                                       0.0010                  2.0   \n",
       "                           (128, 128)     0.1          0.0001                  2.0   \n",
       "                                                       0.0005                  2.0   \n",
       "                                                       0.0010                  2.0   \n",
       "                                          0.5          0.0001                  2.0   \n",
       "                                                       0.0005                  2.0   \n",
       "                                                       0.0010                  2.0   \n",
       "                           (256, 256)     0.1          0.0001                  2.0   \n",
       "                                                       0.0005                  2.0   \n",
       "                                                       0.0010                  2.0   \n",
       "                                          0.5          0.0001                  2.0   \n",
       "                                                       0.0005                  2.0   \n",
       "                                                       0.0010                  2.0   \n",
       "                           (512, 512)     0.1          0.0001                  2.0   \n",
       "                                                       0.0005                  2.0   \n",
       "                                                       0.0010                  2.0   \n",
       "                                          0.5          0.0001                  2.0   \n",
       "                                                       0.0005                  2.0   \n",
       "                                                       0.0010                  2.0   \n",
       "           (12,)           (64, 64)       0.1          0.0001                  2.0   \n",
       "                                                       0.0005                  2.0   \n",
       "                                                       0.0010                  2.0   \n",
       "                                          0.5          0.0001                  2.0   \n",
       "                                                       0.0005                  2.0   \n",
       "                                                       0.0010                  2.0   \n",
       "                           (128, 128)     0.1          0.0001                  2.0   \n",
       "                                                       0.0005                  2.0   \n",
       "                                                       0.0010                  2.0   \n",
       "                                          0.5          0.0001                  2.0   \n",
       "                                                       0.0005                  2.0   \n",
       "                                                       0.0010                  2.0   \n",
       "                           (256, 256)     0.1          0.0001                  2.0   \n",
       "                                                       0.0005                  2.0   \n",
       "                                                       0.0010                  2.0   \n",
       "                                          0.5          0.0001                  2.0   \n",
       "                                                       0.0005                  2.0   \n",
       "                                                       0.0010                  2.0   \n",
       "                           (512, 512)     0.1          0.0001                  2.0   \n",
       "                                                       0.0005                  2.0   \n",
       "                                                       0.0010                  2.0   \n",
       "                                          0.5          0.0001                  2.0   \n",
       "                                                       0.0005                  2.0   \n",
       "                                                       0.0010                  2.0   \n",
       "\n",
       "                                                                      embedding_dim  \\\n",
       "dimensions swnu_hidden_dim ffn_hidden_dim dropout_rate learning_rate                  \n",
       "15         (10,)           (64, 64)       0.1          0.0001                 384.0   \n",
       "                                                       0.0005                 384.0   \n",
       "                                                       0.0010                 384.0   \n",
       "                                          0.5          0.0001                 384.0   \n",
       "                                                       0.0005                 384.0   \n",
       "                                                       0.0010                 384.0   \n",
       "                           (128, 128)     0.1          0.0001                 384.0   \n",
       "                                                       0.0005                 384.0   \n",
       "                                                       0.0010                 384.0   \n",
       "                                          0.5          0.0001                 384.0   \n",
       "                                                       0.0005                 384.0   \n",
       "                                                       0.0010                 384.0   \n",
       "                           (256, 256)     0.1          0.0001                 384.0   \n",
       "                                                       0.0005                 384.0   \n",
       "                                                       0.0010                 384.0   \n",
       "                                          0.5          0.0001                 384.0   \n",
       "                                                       0.0005                 384.0   \n",
       "                                                       0.0010                 384.0   \n",
       "                           (512, 512)     0.1          0.0001                 384.0   \n",
       "                                                       0.0005                 384.0   \n",
       "                                                       0.0010                 384.0   \n",
       "                                          0.5          0.0001                 384.0   \n",
       "                                                       0.0005                 384.0   \n",
       "                                                       0.0010                 384.0   \n",
       "           (12,)           (64, 64)       0.1          0.0001                 384.0   \n",
       "                                                       0.0005                 384.0   \n",
       "                                                       0.0010                 384.0   \n",
       "                                          0.5          0.0001                 384.0   \n",
       "                                                       0.0005                 384.0   \n",
       "                                                       0.0010                 384.0   \n",
       "                           (128, 128)     0.1          0.0001                 384.0   \n",
       "                                                       0.0005                 384.0   \n",
       "                                                       0.0010                 384.0   \n",
       "                                          0.5          0.0001                 384.0   \n",
       "                                                       0.0005                 384.0   \n",
       "                                                       0.0010                 384.0   \n",
       "                           (256, 256)     0.1          0.0001                 384.0   \n",
       "                                                       0.0005                 384.0   \n",
       "                                                       0.0010                 384.0   \n",
       "                                          0.5          0.0001                 384.0   \n",
       "                                                       0.0005                 384.0   \n",
       "                                                       0.0010                 384.0   \n",
       "                           (512, 512)     0.1          0.0001                 384.0   \n",
       "                                                       0.0005                 384.0   \n",
       "                                                       0.0010                 384.0   \n",
       "                                          0.5          0.0001                 384.0   \n",
       "                                                       0.0005                 384.0   \n",
       "                                                       0.0010                 384.0   \n",
       "\n",
       "                                                                      log_signature  \\\n",
       "dimensions swnu_hidden_dim ffn_hidden_dim dropout_rate learning_rate                  \n",
       "15         (10,)           (64, 64)       0.1          0.0001                   1.0   \n",
       "                                                       0.0005                   1.0   \n",
       "                                                       0.0010                   1.0   \n",
       "                                          0.5          0.0001                   1.0   \n",
       "                                                       0.0005                   1.0   \n",
       "                                                       0.0010                   1.0   \n",
       "                           (128, 128)     0.1          0.0001                   1.0   \n",
       "                                                       0.0005                   1.0   \n",
       "                                                       0.0010                   1.0   \n",
       "                                          0.5          0.0001                   1.0   \n",
       "                                                       0.0005                   1.0   \n",
       "                                                       0.0010                   1.0   \n",
       "                           (256, 256)     0.1          0.0001                   1.0   \n",
       "                                                       0.0005                   1.0   \n",
       "                                                       0.0010                   1.0   \n",
       "                                          0.5          0.0001                   1.0   \n",
       "                                                       0.0005                   1.0   \n",
       "                                                       0.0010                   1.0   \n",
       "                           (512, 512)     0.1          0.0001                   1.0   \n",
       "                                                       0.0005                   1.0   \n",
       "                                                       0.0010                   1.0   \n",
       "                                          0.5          0.0001                   1.0   \n",
       "                                                       0.0005                   1.0   \n",
       "                                                       0.0010                   1.0   \n",
       "           (12,)           (64, 64)       0.1          0.0001                   1.0   \n",
       "                                                       0.0005                   1.0   \n",
       "                                                       0.0010                   1.0   \n",
       "                                          0.5          0.0001                   1.0   \n",
       "                                                       0.0005                   1.0   \n",
       "                                                       0.0010                   1.0   \n",
       "                           (128, 128)     0.1          0.0001                   1.0   \n",
       "                                                       0.0005                   1.0   \n",
       "                                                       0.0010                   1.0   \n",
       "                                          0.5          0.0001                   1.0   \n",
       "                                                       0.0005                   1.0   \n",
       "                                                       0.0010                   1.0   \n",
       "                           (256, 256)     0.1          0.0001                   1.0   \n",
       "                                                       0.0005                   1.0   \n",
       "                                                       0.0010                   1.0   \n",
       "                                          0.5          0.0001                   1.0   \n",
       "                                                       0.0005                   1.0   \n",
       "                                                       0.0010                   1.0   \n",
       "                           (512, 512)     0.1          0.0001                   1.0   \n",
       "                                                       0.0005                   1.0   \n",
       "                                                       0.0010                   1.0   \n",
       "                                          0.5          0.0001                   1.0   \n",
       "                                                       0.0005                   1.0   \n",
       "                                                       0.0010                   1.0   \n",
       "\n",
       "                                                                           seed  \\\n",
       "dimensions swnu_hidden_dim ffn_hidden_dim dropout_rate learning_rate              \n",
       "15         (10,)           (64, 64)       0.1          0.0001         45.333333   \n",
       "                                                       0.0005         45.333333   \n",
       "                                                       0.0010         45.333333   \n",
       "                                          0.5          0.0001         45.333333   \n",
       "                                                       0.0005         45.333333   \n",
       "                                                       0.0010         45.333333   \n",
       "                           (128, 128)     0.1          0.0001         45.333333   \n",
       "                                                       0.0005         45.333333   \n",
       "                                                       0.0010         45.333333   \n",
       "                                          0.5          0.0001         45.333333   \n",
       "                                                       0.0005         45.333333   \n",
       "                                                       0.0010         45.333333   \n",
       "                           (256, 256)     0.1          0.0001         45.333333   \n",
       "                                                       0.0005         45.333333   \n",
       "                                                       0.0010         45.333333   \n",
       "                                          0.5          0.0001         45.333333   \n",
       "                                                       0.0005         45.333333   \n",
       "                                                       0.0010         45.333333   \n",
       "                           (512, 512)     0.1          0.0001         45.333333   \n",
       "                                                       0.0005         45.333333   \n",
       "                                                       0.0010         45.333333   \n",
       "                                          0.5          0.0001         45.333333   \n",
       "                                                       0.0005         45.333333   \n",
       "                                                       0.0010         45.333333   \n",
       "           (12,)           (64, 64)       0.1          0.0001         45.333333   \n",
       "                                                       0.0005         45.333333   \n",
       "                                                       0.0010         45.333333   \n",
       "                                          0.5          0.0001         45.333333   \n",
       "                                                       0.0005         45.333333   \n",
       "                                                       0.0010         45.333333   \n",
       "                           (128, 128)     0.1          0.0001         45.333333   \n",
       "                                                       0.0005         45.333333   \n",
       "                                                       0.0010         45.333333   \n",
       "                                          0.5          0.0001         45.333333   \n",
       "                                                       0.0005         45.333333   \n",
       "                                                       0.0010         45.333333   \n",
       "                           (256, 256)     0.1          0.0001         45.333333   \n",
       "                                                       0.0005         45.333333   \n",
       "                                                       0.0010         45.333333   \n",
       "                                          0.5          0.0001         45.333333   \n",
       "                                                       0.0005         45.333333   \n",
       "                                                       0.0010         45.333333   \n",
       "                           (512, 512)     0.1          0.0001         45.333333   \n",
       "                                                       0.0005         45.333333   \n",
       "                                                       0.0010         45.333333   \n",
       "                                          0.5          0.0001         45.333333   \n",
       "                                                       0.0005         45.333333   \n",
       "                                                       0.0010         45.333333   \n",
       "\n",
       "                                                                      BiLSTM  \\\n",
       "dimensions swnu_hidden_dim ffn_hidden_dim dropout_rate learning_rate           \n",
       "15         (10,)           (64, 64)       0.1          0.0001            1.0   \n",
       "                                                       0.0005            1.0   \n",
       "                                                       0.0010            1.0   \n",
       "                                          0.5          0.0001            1.0   \n",
       "                                                       0.0005            1.0   \n",
       "                                                       0.0010            1.0   \n",
       "                           (128, 128)     0.1          0.0001            1.0   \n",
       "                                                       0.0005            1.0   \n",
       "                                                       0.0010            1.0   \n",
       "                                          0.5          0.0001            1.0   \n",
       "                                                       0.0005            1.0   \n",
       "                                                       0.0010            1.0   \n",
       "                           (256, 256)     0.1          0.0001            1.0   \n",
       "                                                       0.0005            1.0   \n",
       "                                                       0.0010            1.0   \n",
       "                                          0.5          0.0001            1.0   \n",
       "                                                       0.0005            1.0   \n",
       "                                                       0.0010            1.0   \n",
       "                           (512, 512)     0.1          0.0001            1.0   \n",
       "                                                       0.0005            1.0   \n",
       "                                                       0.0010            1.0   \n",
       "                                          0.5          0.0001            1.0   \n",
       "                                                       0.0005            1.0   \n",
       "                                                       0.0010            1.0   \n",
       "           (12,)           (64, 64)       0.1          0.0001            1.0   \n",
       "                                                       0.0005            1.0   \n",
       "                                                       0.0010            1.0   \n",
       "                                          0.5          0.0001            1.0   \n",
       "                                                       0.0005            1.0   \n",
       "                                                       0.0010            1.0   \n",
       "                           (128, 128)     0.1          0.0001            1.0   \n",
       "                                                       0.0005            1.0   \n",
       "                                                       0.0010            1.0   \n",
       "                                          0.5          0.0001            1.0   \n",
       "                                                       0.0005            1.0   \n",
       "                                                       0.0010            1.0   \n",
       "                           (256, 256)     0.1          0.0001            1.0   \n",
       "                                                       0.0005            1.0   \n",
       "                                                       0.0010            1.0   \n",
       "                                          0.5          0.0001            1.0   \n",
       "                                                       0.0005            1.0   \n",
       "                                                       0.0010            1.0   \n",
       "                           (512, 512)     0.1          0.0001            1.0   \n",
       "                                                       0.0005            1.0   \n",
       "                                                       0.0010            1.0   \n",
       "                                          0.5          0.0001            1.0   \n",
       "                                                       0.0005            1.0   \n",
       "                                                       0.0010            1.0   \n",
       "\n",
       "                                                                      gamma  \\\n",
       "dimensions swnu_hidden_dim ffn_hidden_dim dropout_rate learning_rate          \n",
       "15         (10,)           (64, 64)       0.1          0.0001           2.0   \n",
       "                                                       0.0005           2.0   \n",
       "                                                       0.0010           2.0   \n",
       "                                          0.5          0.0001           2.0   \n",
       "                                                       0.0005           2.0   \n",
       "                                                       0.0010           2.0   \n",
       "                           (128, 128)     0.1          0.0001           2.0   \n",
       "                                                       0.0005           2.0   \n",
       "                                                       0.0010           2.0   \n",
       "                                          0.5          0.0001           2.0   \n",
       "                                                       0.0005           2.0   \n",
       "                                                       0.0010           2.0   \n",
       "                           (256, 256)     0.1          0.0001           2.0   \n",
       "                                                       0.0005           2.0   \n",
       "                                                       0.0010           2.0   \n",
       "                                          0.5          0.0001           2.0   \n",
       "                                                       0.0005           2.0   \n",
       "                                                       0.0010           2.0   \n",
       "                           (512, 512)     0.1          0.0001           2.0   \n",
       "                                                       0.0005           2.0   \n",
       "                                                       0.0010           2.0   \n",
       "                                          0.5          0.0001           2.0   \n",
       "                                                       0.0005           2.0   \n",
       "                                                       0.0010           2.0   \n",
       "           (12,)           (64, 64)       0.1          0.0001           2.0   \n",
       "                                                       0.0005           2.0   \n",
       "                                                       0.0010           2.0   \n",
       "                                          0.5          0.0001           2.0   \n",
       "                                                       0.0005           2.0   \n",
       "                                                       0.0010           2.0   \n",
       "                           (128, 128)     0.1          0.0001           2.0   \n",
       "                                                       0.0005           2.0   \n",
       "                                                       0.0010           2.0   \n",
       "                                          0.5          0.0001           2.0   \n",
       "                                                       0.0005           2.0   \n",
       "                                                       0.0010           2.0   \n",
       "                           (256, 256)     0.1          0.0001           2.0   \n",
       "                                                       0.0005           2.0   \n",
       "                                                       0.0010           2.0   \n",
       "                                          0.5          0.0001           2.0   \n",
       "                                                       0.0005           2.0   \n",
       "                                                       0.0010           2.0   \n",
       "                           (512, 512)     0.1          0.0001           2.0   \n",
       "                                                       0.0005           2.0   \n",
       "                                                       0.0010           2.0   \n",
       "                                          0.5          0.0001           2.0   \n",
       "                                                       0.0005           2.0   \n",
       "                                                       0.0010           2.0   \n",
       "\n",
       "                                                                      k_fold  \\\n",
       "dimensions swnu_hidden_dim ffn_hidden_dim dropout_rate learning_rate           \n",
       "15         (10,)           (64, 64)       0.1          0.0001            0.0   \n",
       "                                                       0.0005            0.0   \n",
       "                                                       0.0010            0.0   \n",
       "                                          0.5          0.0001            0.0   \n",
       "                                                       0.0005            0.0   \n",
       "                                                       0.0010            0.0   \n",
       "                           (128, 128)     0.1          0.0001            0.0   \n",
       "                                                       0.0005            0.0   \n",
       "                                                       0.0010            0.0   \n",
       "                                          0.5          0.0001            0.0   \n",
       "                                                       0.0005            0.0   \n",
       "                                                       0.0010            0.0   \n",
       "                           (256, 256)     0.1          0.0001            0.0   \n",
       "                                                       0.0005            0.0   \n",
       "                                                       0.0010            0.0   \n",
       "                                          0.5          0.0001            0.0   \n",
       "                                                       0.0005            0.0   \n",
       "                                                       0.0010            0.0   \n",
       "                           (512, 512)     0.1          0.0001            0.0   \n",
       "                                                       0.0005            0.0   \n",
       "                                                       0.0010            0.0   \n",
       "                                          0.5          0.0001            0.0   \n",
       "                                                       0.0005            0.0   \n",
       "                                                       0.0010            0.0   \n",
       "           (12,)           (64, 64)       0.1          0.0001            0.0   \n",
       "                                                       0.0005            0.0   \n",
       "                                                       0.0010            0.0   \n",
       "                                          0.5          0.0001            0.0   \n",
       "                                                       0.0005            0.0   \n",
       "                                                       0.0010            0.0   \n",
       "                           (128, 128)     0.1          0.0001            0.0   \n",
       "                                                       0.0005            0.0   \n",
       "                                                       0.0010            0.0   \n",
       "                                          0.5          0.0001            0.0   \n",
       "                                                       0.0005            0.0   \n",
       "                                                       0.0010            0.0   \n",
       "                           (256, 256)     0.1          0.0001            0.0   \n",
       "                                                       0.0005            0.0   \n",
       "                                                       0.0010            0.0   \n",
       "                                          0.5          0.0001            0.0   \n",
       "                                                       0.0005            0.0   \n",
       "                                                       0.0010            0.0   \n",
       "                           (512, 512)     0.1          0.0001            0.0   \n",
       "                                                       0.0005            0.0   \n",
       "                                                       0.0010            0.0   \n",
       "                                          0.5          0.0001            0.0   \n",
       "                                                       0.0005            0.0   \n",
       "                                                       0.0010            0.0   \n",
       "\n",
       "                                                                      batch_size  \\\n",
       "dimensions swnu_hidden_dim ffn_hidden_dim dropout_rate learning_rate               \n",
       "15         (10,)           (64, 64)       0.1          0.0001               64.0   \n",
       "                                                       0.0005               64.0   \n",
       "                                                       0.0010               64.0   \n",
       "                                          0.5          0.0001               64.0   \n",
       "                                                       0.0005               64.0   \n",
       "                                                       0.0010               64.0   \n",
       "                           (128, 128)     0.1          0.0001               64.0   \n",
       "                                                       0.0005               64.0   \n",
       "                                                       0.0010               64.0   \n",
       "                                          0.5          0.0001               64.0   \n",
       "                                                       0.0005               64.0   \n",
       "                                                       0.0010               64.0   \n",
       "                           (256, 256)     0.1          0.0001               64.0   \n",
       "                                                       0.0005               64.0   \n",
       "                                                       0.0010               64.0   \n",
       "                                          0.5          0.0001               64.0   \n",
       "                                                       0.0005               64.0   \n",
       "                                                       0.0010               64.0   \n",
       "                           (512, 512)     0.1          0.0001               64.0   \n",
       "                                                       0.0005               64.0   \n",
       "                                                       0.0010               64.0   \n",
       "                                          0.5          0.0001               64.0   \n",
       "                                                       0.0005               64.0   \n",
       "                                                       0.0010               64.0   \n",
       "           (12,)           (64, 64)       0.1          0.0001               64.0   \n",
       "                                                       0.0005               64.0   \n",
       "                                                       0.0010               64.0   \n",
       "                                          0.5          0.0001               64.0   \n",
       "                                                       0.0005               64.0   \n",
       "                                                       0.0010               64.0   \n",
       "                           (128, 128)     0.1          0.0001               64.0   \n",
       "                                                       0.0005               64.0   \n",
       "                                                       0.0010               64.0   \n",
       "                                          0.5          0.0001               64.0   \n",
       "                                                       0.0005               64.0   \n",
       "                                                       0.0010               64.0   \n",
       "                           (256, 256)     0.1          0.0001               64.0   \n",
       "                                                       0.0005               64.0   \n",
       "                                                       0.0010               64.0   \n",
       "                                          0.5          0.0001               64.0   \n",
       "                                                       0.0005               64.0   \n",
       "                                                       0.0010               64.0   \n",
       "                           (512, 512)     0.1          0.0001               64.0   \n",
       "                                                       0.0005               64.0   \n",
       "                                                       0.0010               64.0   \n",
       "                                          0.5          0.0001               64.0   \n",
       "                                                       0.0005               64.0   \n",
       "                                                       0.0010               64.0   \n",
       "\n",
       "                                                                      model_id  \n",
       "dimensions swnu_hidden_dim ffn_hidden_dim dropout_rate learning_rate            \n",
       "15         (10,)           (64, 64)       0.1          0.0001             28.0  \n",
       "                                                       0.0005             29.0  \n",
       "                                                       0.0010             27.0  \n",
       "                                          0.5          0.0001             25.0  \n",
       "                                                       0.0005             26.0  \n",
       "                                                       0.0010             24.0  \n",
       "                           (128, 128)     0.1          0.0001             34.0  \n",
       "                                                       0.0005             35.0  \n",
       "                                                       0.0010             33.0  \n",
       "                                          0.5          0.0001             31.0  \n",
       "                                                       0.0005             32.0  \n",
       "                                                       0.0010             30.0  \n",
       "                           (256, 256)     0.1          0.0001             40.0  \n",
       "                                                       0.0005             41.0  \n",
       "                                                       0.0010             39.0  \n",
       "                                          0.5          0.0001             37.0  \n",
       "                                                       0.0005             38.0  \n",
       "                                                       0.0010             36.0  \n",
       "                           (512, 512)     0.1          0.0001             46.0  \n",
       "                                                       0.0005             47.0  \n",
       "                                                       0.0010             45.0  \n",
       "                                          0.5          0.0001             43.0  \n",
       "                                                       0.0005             44.0  \n",
       "                                                       0.0010             42.0  \n",
       "           (12,)           (64, 64)       0.1          0.0001              4.0  \n",
       "                                                       0.0005              5.0  \n",
       "                                                       0.0010              3.0  \n",
       "                                          0.5          0.0001              1.0  \n",
       "                                                       0.0005              2.0  \n",
       "                                                       0.0010              0.0  \n",
       "                           (128, 128)     0.1          0.0001             10.0  \n",
       "                                                       0.0005             11.0  \n",
       "                                                       0.0010              9.0  \n",
       "                                          0.5          0.0001              7.0  \n",
       "                                                       0.0005              8.0  \n",
       "                                                       0.0010              6.0  \n",
       "                           (256, 256)     0.1          0.0001             16.0  \n",
       "                                                       0.0005             17.0  \n",
       "                                                       0.0010             15.0  \n",
       "                                          0.5          0.0001             13.0  \n",
       "                                                       0.0005             14.0  \n",
       "                                                       0.0010             12.0  \n",
       "                           (512, 512)     0.1          0.0001             22.0  \n",
       "                                                       0.0005             23.0  \n",
       "                                                       0.0010             21.0  \n",
       "                                          0.5          0.0001             19.0  \n",
       "                                                       0.0005             20.0  \n",
       "                                                       0.0010             18.0  \n",
       "\n",
       "[48 rows x 23 columns]"
      ]
     },
     "execution_count": 12,
     "metadata": {},
     "output_type": "execute_result"
    }
   ],
   "source": [
    "swnu_network_umap.groupby([\"dimensions\",\n",
    "                           \"swnu_hidden_dim\",\n",
    "                           \"ffn_hidden_dim\",\n",
    "                           \"dropout_rate\",\n",
    "                           \"learning_rate\"]).mean()"
   ]
  },
  {
   "cell_type": "code",
   "execution_count": 13,
   "metadata": {},
   "outputs": [
    {
     "data": {
      "text/html": [
       "<div>\n",
       "<style scoped>\n",
       "    .dataframe tbody tr th:only-of-type {\n",
       "        vertical-align: middle;\n",
       "    }\n",
       "\n",
       "    .dataframe tbody tr th {\n",
       "        vertical-align: top;\n",
       "    }\n",
       "\n",
       "    .dataframe thead th {\n",
       "        text-align: right;\n",
       "    }\n",
       "</style>\n",
       "<table border=\"1\" class=\"dataframe\">\n",
       "  <thead>\n",
       "    <tr style=\"text-align: right;\">\n",
       "      <th></th>\n",
       "      <th>loss</th>\n",
       "      <th>accuracy</th>\n",
       "      <th>f1</th>\n",
       "      <th>f1_scores</th>\n",
       "      <th>precision</th>\n",
       "      <th>precision_scores</th>\n",
       "      <th>recall</th>\n",
       "      <th>recall_scores</th>\n",
       "      <th>valid_loss</th>\n",
       "      <th>valid_accuracy</th>\n",
       "      <th>...</th>\n",
       "      <th>seed</th>\n",
       "      <th>BiLSTM</th>\n",
       "      <th>loss_function</th>\n",
       "      <th>gamma</th>\n",
       "      <th>k_fold</th>\n",
       "      <th>n_splits</th>\n",
       "      <th>augmentation_type</th>\n",
       "      <th>hidden_dim_aug</th>\n",
       "      <th>comb_method</th>\n",
       "      <th>batch_size</th>\n",
       "    </tr>\n",
       "  </thead>\n",
       "  <tbody>\n",
       "    <tr>\n",
       "      <th>0</th>\n",
       "      <td>0.389666</td>\n",
       "      <td>0.609152</td>\n",
       "      <td>0.605639</td>\n",
       "      <td>[0.5684210526315788, 0.6428571428571428]</td>\n",
       "      <td>0.621381</td>\n",
       "      <td>[0.6733167082294265, 0.5694444444444444]</td>\n",
       "      <td>0.614902</td>\n",
       "      <td>[0.4918032786885246, 0.738]</td>\n",
       "      <td>0.210545</td>\n",
       "      <td>0.715302</td>\n",
       "      <td>...</td>\n",
       "      <td>1</td>\n",
       "      <td>True</td>\n",
       "      <td>focal</td>\n",
       "      <td>2</td>\n",
       "      <td>False</td>\n",
       "      <td>None</td>\n",
       "      <td>Conv1d</td>\n",
       "      <td>None</td>\n",
       "      <td>concatenation</td>\n",
       "      <td>64</td>\n",
       "    </tr>\n",
       "    <tr>\n",
       "      <th>0</th>\n",
       "      <td>0.549847</td>\n",
       "      <td>0.628217</td>\n",
       "      <td>0.623035</td>\n",
       "      <td>[0.5788336933045356, 0.6672354948805461]</td>\n",
       "      <td>0.646360</td>\n",
       "      <td>[0.7108753315649867, 0.5818452380952381]</td>\n",
       "      <td>0.635080</td>\n",
       "      <td>[0.48816029143898, 0.782]</td>\n",
       "      <td>0.391679</td>\n",
       "      <td>0.676157</td>\n",
       "      <td>...</td>\n",
       "      <td>12</td>\n",
       "      <td>True</td>\n",
       "      <td>focal</td>\n",
       "      <td>2</td>\n",
       "      <td>False</td>\n",
       "      <td>None</td>\n",
       "      <td>Conv1d</td>\n",
       "      <td>None</td>\n",
       "      <td>concatenation</td>\n",
       "      <td>64</td>\n",
       "    </tr>\n",
       "    <tr>\n",
       "      <th>0</th>\n",
       "      <td>0.381554</td>\n",
       "      <td>0.643470</td>\n",
       "      <td>0.642096</td>\n",
       "      <td>[0.6199186991869919, 0.6642728904847397]</td>\n",
       "      <td>0.651878</td>\n",
       "      <td>[0.7011494252873564, 0.6026058631921825]</td>\n",
       "      <td>0.647778</td>\n",
       "      <td>[0.5555555555555556, 0.74]</td>\n",
       "      <td>0.449311</td>\n",
       "      <td>0.729537</td>\n",
       "      <td>...</td>\n",
       "      <td>123</td>\n",
       "      <td>True</td>\n",
       "      <td>focal</td>\n",
       "      <td>2</td>\n",
       "      <td>False</td>\n",
       "      <td>None</td>\n",
       "      <td>Conv1d</td>\n",
       "      <td>None</td>\n",
       "      <td>concatenation</td>\n",
       "      <td>64</td>\n",
       "    </tr>\n",
       "  </tbody>\n",
       "</table>\n",
       "<p>3 rows × 42 columns</p>\n",
       "</div>"
      ],
      "text/plain": [
       "       loss  accuracy        f1                                 f1_scores  \\\n",
       "0  0.389666  0.609152  0.605639  [0.5684210526315788, 0.6428571428571428]   \n",
       "0  0.549847  0.628217  0.623035  [0.5788336933045356, 0.6672354948805461]   \n",
       "0  0.381554  0.643470  0.642096  [0.6199186991869919, 0.6642728904847397]   \n",
       "\n",
       "   precision                          precision_scores    recall  \\\n",
       "0   0.621381  [0.6733167082294265, 0.5694444444444444]  0.614902   \n",
       "0   0.646360  [0.7108753315649867, 0.5818452380952381]  0.635080   \n",
       "0   0.651878  [0.7011494252873564, 0.6026058631921825]  0.647778   \n",
       "\n",
       "                 recall_scores  valid_loss  valid_accuracy  ...  seed BiLSTM  \\\n",
       "0  [0.4918032786885246, 0.738]    0.210545        0.715302  ...     1   True   \n",
       "0    [0.48816029143898, 0.782]    0.391679        0.676157  ...    12   True   \n",
       "0   [0.5555555555555556, 0.74]    0.449311        0.729537  ...   123   True   \n",
       "\n",
       "   loss_function gamma  k_fold n_splits  augmentation_type  hidden_dim_aug  \\\n",
       "0          focal     2   False     None             Conv1d            None   \n",
       "0          focal     2   False     None             Conv1d            None   \n",
       "0          focal     2   False     None             Conv1d            None   \n",
       "\n",
       "     comb_method batch_size  \n",
       "0  concatenation         64  \n",
       "0  concatenation         64  \n",
       "0  concatenation         64  \n",
       "\n",
       "[3 rows x 42 columns]"
      ]
     },
     "execution_count": 13,
     "metadata": {},
     "output_type": "execute_result"
    }
   ],
   "source": [
    "best_swnu_network_umap"
   ]
  },
  {
   "cell_type": "code",
   "execution_count": 14,
   "metadata": {},
   "outputs": [
    {
     "data": {
      "text/plain": [
       "0.6235898288909225"
      ]
     },
     "execution_count": 14,
     "metadata": {},
     "output_type": "execute_result"
    }
   ],
   "source": [
    "best_swnu_network_umap[\"f1\"].mean()"
   ]
  },
  {
   "cell_type": "code",
   "execution_count": 15,
   "metadata": {},
   "outputs": [
    {
     "data": {
      "text/plain": [
       "0.6398728351356057"
      ]
     },
     "execution_count": 15,
     "metadata": {},
     "output_type": "execute_result"
    }
   ],
   "source": [
    "best_swnu_network_umap[\"precision\"].mean()"
   ]
  },
  {
   "cell_type": "code",
   "execution_count": 16,
   "metadata": {},
   "outputs": [
    {
     "data": {
      "text/plain": [
       "0.6325865209471767"
      ]
     },
     "execution_count": 16,
     "metadata": {},
     "output_type": "execute_result"
    }
   ],
   "source": [
    "best_swnu_network_umap[\"recall\"].mean()"
   ]
  },
  {
   "cell_type": "code",
   "execution_count": 17,
   "metadata": {},
   "outputs": [
    {
     "data": {
      "text/plain": [
       "array([0.58905782, 0.65812184])"
      ]
     },
     "execution_count": 17,
     "metadata": {},
     "output_type": "execute_result"
    }
   ],
   "source": [
    "np.stack(best_swnu_network_umap[\"f1_scores\"]).mean(axis=0)"
   ]
  },
  {
   "cell_type": "code",
   "execution_count": 18,
   "metadata": {},
   "outputs": [
    {
     "data": {
      "text/plain": [
       "array([0.69511382, 0.58463185])"
      ]
     },
     "execution_count": 18,
     "metadata": {},
     "output_type": "execute_result"
    }
   ],
   "source": [
    "np.stack(best_swnu_network_umap[\"precision_scores\"]).mean(axis=0)"
   ]
  },
  {
   "cell_type": "code",
   "execution_count": 19,
   "metadata": {},
   "outputs": [
    {
     "data": {
      "text/plain": [
       "array([0.51183971, 0.75333333])"
      ]
     },
     "execution_count": 19,
     "metadata": {},
     "output_type": "execute_result"
    }
   ],
   "source": [
    "np.stack(best_swnu_network_umap[\"recall_scores\"]).mean(axis=0)"
   ]
  },
  {
   "cell_type": "markdown",
   "metadata": {},
   "source": [
    "## Unidirectional LSTM"
   ]
  },
  {
   "cell_type": "code",
   "execution_count": null,
   "metadata": {},
   "outputs": [],
   "source": [
    "swnu_network_umap_uni, best_swnu_network_umap_uni, _, __ = swnu_network_hyperparameter_search(\n",
    "    num_epochs=num_epochs,\n",
    "    df=df_rumours,\n",
    "    id_column=\"timeline_id\",\n",
    "    label_column=\"label\",\n",
    "    embeddings=sbert_embeddings,\n",
    "    y_data=y_data,\n",
    "    embedding_dim=embedding_dim,\n",
    "    output_dim=output_dim,\n",
    "    history_lengths=[size],\n",
    "    dim_reduce_methods=[\"umap\"],\n",
    "    dimensions=dimensions,\n",
    "    log_signature=True,\n",
    "    swnu_hidden_dim_sizes_and_sig_depths=swnu_hidden_dim_sizes_and_sig_depths,\n",
    "    ffn_hidden_dim_sizes=ffn_hidden_dim_sizes,\n",
    "    dropout_rates=dropout_rates,\n",
    "    learning_rates=learning_rates,\n",
    "    BiLSTM=False,\n",
    "    seeds=seeds,\n",
    "    loss=loss,\n",
    "    gamma=gamma,\n",
    "    features=features, \n",
    "    standardise_method=standardise_method,\n",
    "    add_time_in_path=add_time_in_path,\n",
    "    split_ids=None, #torch.tensor(df_rumours['timeline_id'].astype(int)),\n",
    "    split_indices=split_indices,\n",
    "    k_fold=False,\n",
    "    patience=patience,\n",
    "    validation_metric=validation_metric,\n",
    "    results_output=f\"{output_dir}/swnu_network_umap_focal_{gamma}_{size}_uni.csv\",\n",
    "    verbose=False\n",
    ")"
   ]
  },
  {
   "cell_type": "code",
   "execution_count": null,
   "metadata": {},
   "outputs": [],
   "source": [
    "swnu_network_umap_uni.groupby([\"dimensions\",\n",
    "                               \"swnu_hidden_dim\",\n",
    "                               \"ffn_hidden_dim\",\n",
    "                               \"dropout_rate\",\n",
    "                               \"learning_rate\"]).mean()"
   ]
  },
  {
   "cell_type": "code",
   "execution_count": null,
   "metadata": {},
   "outputs": [],
   "source": [
    "best_swnu_network_umap_uni"
   ]
  },
  {
   "cell_type": "code",
   "execution_count": null,
   "metadata": {},
   "outputs": [],
   "source": [
    "best_swnu_network_umap_uni[\"f1\"].mean()"
   ]
  },
  {
   "cell_type": "code",
   "execution_count": null,
   "metadata": {},
   "outputs": [],
   "source": [
    "best_swnu_network_umap_uni[\"precision\"].mean()"
   ]
  },
  {
   "cell_type": "code",
   "execution_count": null,
   "metadata": {},
   "outputs": [],
   "source": [
    "best_swnu_network_umap_uni[\"recall\"].mean()"
   ]
  },
  {
   "cell_type": "code",
   "execution_count": null,
   "metadata": {},
   "outputs": [],
   "source": [
    "np.stack(best_swnu_network_umap_uni[\"f1_scores\"]).mean(axis=0)"
   ]
  },
  {
   "cell_type": "code",
   "execution_count": null,
   "metadata": {},
   "outputs": [],
   "source": [
    "np.stack(best_swnu_network_umap_uni[\"precision_scores\"]).mean(axis=0)"
   ]
  },
  {
   "cell_type": "code",
   "execution_count": null,
   "metadata": {},
   "outputs": [],
   "source": [
    "np.stack(best_swnu_network_umap_uni[\"recall_scores\"]).mean(axis=0)"
   ]
  },
  {
   "cell_type": "markdown",
   "metadata": {},
   "source": [
    "## GRP"
   ]
  },
  {
   "cell_type": "code",
   "execution_count": null,
   "metadata": {},
   "outputs": [
    {
     "data": {
      "application/vnd.jupyter.widget-view+json": {
       "model_id": "493893d5e52b455c9b323b1446bfcd3e",
       "version_major": 2,
       "version_minor": 0
      },
      "text/plain": [
       "  0%|          | 0/1 [00:00<?, ?it/s]"
      ]
     },
     "metadata": {},
     "output_type": "display_data"
    },
    {
     "data": {
      "application/vnd.jupyter.widget-view+json": {
       "model_id": "598ce38e480e414da749257a12f7bffa",
       "version_major": 2,
       "version_minor": 0
      },
      "text/plain": [
       "  0%|          | 0/1 [00:00<?, ?it/s]"
      ]
     },
     "metadata": {},
     "output_type": "display_data"
    },
    {
     "data": {
      "application/vnd.jupyter.widget-view+json": {
       "model_id": "f3f5fc1aef264d57adc131e858007020",
       "version_major": 2,
       "version_minor": 0
      },
      "text/plain": [
       "  0%|          | 0/1 [00:00<?, ?it/s]"
      ]
     },
     "metadata": {},
     "output_type": "display_data"
    },
    {
     "name": "stdout",
     "output_type": "stream",
     "text": [
      "\n",
      "##################################################\n",
      "dimension: 15 | method: gaussian_random_projection\n",
      "[INFO] Concatenating the embeddings to the dataframe...\n",
      "[INFO] - columns beginning with 'e' denote the full embddings.\n",
      "[INFO] - columns beginning with 'd' denote the dimension reduced embeddings.\n",
      "[INFO] Adding time feature columns into dataframe in `.df`.\n",
      "[INFO] Adding 'time_encoding' feature...\n",
      "[INFO] Adding 'time_diff' feature...\n",
      "[INFO] Adding 'timeline_index' feature...\n",
      "[INFO] Padding ids and storing in `.df_padded` and `.array_padded` attributes.\n"
     ]
    },
    {
     "data": {
      "application/vnd.jupyter.widget-view+json": {
       "model_id": "43119ec6ea334f79936ec1eb081b1eda",
       "version_major": 2,
       "version_minor": 0
      },
      "text/plain": [
       "  0%|          | 0/5568 [00:00<?, ?it/s]"
      ]
     },
     "metadata": {},
     "output_type": "display_data"
    },
    {
     "name": "stdout",
     "output_type": "stream",
     "text": [
      "[INFO] The path was created for each item in the dataframe, by looking at its history, so to include embeddings in the FFN input, we concatenate the embeddings for each sentence / text.\n"
     ]
    },
    {
     "data": {
      "application/vnd.jupyter.widget-view+json": {
       "model_id": "961fa599e4654efba262ffa521053525",
       "version_major": 2,
       "version_minor": 0
      },
      "text/plain": [
       "  0%|          | 0/2 [00:00<?, ?it/s]"
      ]
     },
     "metadata": {},
     "output_type": "display_data"
    },
    {
     "data": {
      "application/vnd.jupyter.widget-view+json": {
       "model_id": "470e3c66217c41629a4e0a0493968318",
       "version_major": 2,
       "version_minor": 0
      },
      "text/plain": [
       "  0%|          | 0/4 [00:00<?, ?it/s]"
      ]
     },
     "metadata": {},
     "output_type": "display_data"
    },
    {
     "data": {
      "application/vnd.jupyter.widget-view+json": {
       "model_id": "fc543549c38c409ead7880e89bec8149",
       "version_major": 2,
       "version_minor": 0
      },
      "text/plain": [
       "  0%|          | 0/1 [00:00<?, ?it/s]"
      ]
     },
     "metadata": {},
     "output_type": "display_data"
    },
    {
     "data": {
      "application/vnd.jupyter.widget-view+json": {
       "model_id": "c0ac6c0a603a49e8a8d2154096056a0c",
       "version_major": 2,
       "version_minor": 0
      },
      "text/plain": [
       "  0%|          | 0/2 [00:00<?, ?it/s]"
      ]
     },
     "metadata": {},
     "output_type": "display_data"
    },
    {
     "data": {
      "application/vnd.jupyter.widget-view+json": {
       "model_id": "bad7efad9d7249728e78908b6dff5e80",
       "version_major": 2,
       "version_minor": 0
      },
      "text/plain": [
       "  0%|          | 0/3 [00:00<?, ?it/s]"
      ]
     },
     "metadata": {},
     "output_type": "display_data"
    },
    {
     "data": {
      "application/vnd.jupyter.widget-view+json": {
       "model_id": "d93c0d2683bd4f8d84f8907ffa93debf",
       "version_major": 2,
       "version_minor": 0
      },
      "text/plain": [
       "  0%|          | 0/3 [00:00<?, ?it/s]"
      ]
     },
     "metadata": {},
     "output_type": "display_data"
    },
    {
     "data": {
      "application/vnd.jupyter.widget-view+json": {
       "model_id": "fca0bf9d2628470482cee6a54cadc4b0",
       "version_major": 2,
       "version_minor": 0
      },
      "text/plain": [
       "  0%|          | 0/1 [00:00<?, ?it/s]"
      ]
     },
     "metadata": {},
     "output_type": "display_data"
    },
    {
     "data": {
      "application/vnd.jupyter.widget-view+json": {
       "model_id": "3b2ba2205f9e44bcbf6da31791b62d84",
       "version_major": 2,
       "version_minor": 0
      },
      "text/plain": [
       "  0%|          | 0/2 [00:00<?, ?it/s]"
      ]
     },
     "metadata": {},
     "output_type": "display_data"
    },
    {
     "data": {
      "application/vnd.jupyter.widget-view+json": {
       "model_id": "5989bdc697e440b1bd405e720386d6fd",
       "version_major": 2,
       "version_minor": 0
      },
      "text/plain": [
       "  0%|          | 0/3 [00:00<?, ?it/s]"
      ]
     },
     "metadata": {},
     "output_type": "display_data"
    },
    {
     "data": {
      "application/vnd.jupyter.widget-view+json": {
       "model_id": "9f48c1ba0bd8415ea2488a74fd5f3aae",
       "version_major": 2,
       "version_minor": 0
      },
      "text/plain": [
       "  0%|          | 0/3 [00:00<?, ?it/s]"
      ]
     },
     "metadata": {},
     "output_type": "display_data"
    },
    {
     "data": {
      "application/vnd.jupyter.widget-view+json": {
       "model_id": "484b187d296d427286764cad234d1e6e",
       "version_major": 2,
       "version_minor": 0
      },
      "text/plain": [
       "  0%|          | 0/1 [00:00<?, ?it/s]"
      ]
     },
     "metadata": {},
     "output_type": "display_data"
    },
    {
     "data": {
      "application/vnd.jupyter.widget-view+json": {
       "model_id": "3b80f54d825b48daa7452e4385491473",
       "version_major": 2,
       "version_minor": 0
      },
      "text/plain": [
       "  0%|          | 0/2 [00:00<?, ?it/s]"
      ]
     },
     "metadata": {},
     "output_type": "display_data"
    },
    {
     "data": {
      "application/vnd.jupyter.widget-view+json": {
       "model_id": "090a3f7bdf394d638bb0d3512673f95e",
       "version_major": 2,
       "version_minor": 0
      },
      "text/plain": [
       "  0%|          | 0/3 [00:00<?, ?it/s]"
      ]
     },
     "metadata": {},
     "output_type": "display_data"
    },
    {
     "data": {
      "application/vnd.jupyter.widget-view+json": {
       "model_id": "2a602739cc4c4c6ca3d24d80c93d8f05",
       "version_major": 2,
       "version_minor": 0
      },
      "text/plain": [
       "  0%|          | 0/3 [00:00<?, ?it/s]"
      ]
     },
     "metadata": {},
     "output_type": "display_data"
    },
    {
     "data": {
      "application/vnd.jupyter.widget-view+json": {
       "model_id": "88befab6129f42c187fd68ec9e2b38c7",
       "version_major": 2,
       "version_minor": 0
      },
      "text/plain": [
       "  0%|          | 0/1 [00:00<?, ?it/s]"
      ]
     },
     "metadata": {},
     "output_type": "display_data"
    },
    {
     "data": {
      "application/vnd.jupyter.widget-view+json": {
       "model_id": "6ab5f7bfea944f089431b28131d95927",
       "version_major": 2,
       "version_minor": 0
      },
      "text/plain": [
       "  0%|          | 0/2 [00:00<?, ?it/s]"
      ]
     },
     "metadata": {},
     "output_type": "display_data"
    },
    {
     "data": {
      "application/vnd.jupyter.widget-view+json": {
       "model_id": "34e8a3bae66a492a9eb21ac18d9f36fd",
       "version_major": 2,
       "version_minor": 0
      },
      "text/plain": [
       "  0%|          | 0/3 [00:00<?, ?it/s]"
      ]
     },
     "metadata": {},
     "output_type": "display_data"
    },
    {
     "data": {
      "application/vnd.jupyter.widget-view+json": {
       "model_id": "a302d8e5f23e4448a75031cb495f9833",
       "version_major": 2,
       "version_minor": 0
      },
      "text/plain": [
       "  0%|          | 0/3 [00:00<?, ?it/s]"
      ]
     },
     "metadata": {},
     "output_type": "display_data"
    },
    {
     "data": {
      "application/vnd.jupyter.widget-view+json": {
       "model_id": "2d398c137adf472ea711ac57f18ec3be",
       "version_major": 2,
       "version_minor": 0
      },
      "text/plain": [
       "  0%|          | 0/4 [00:00<?, ?it/s]"
      ]
     },
     "metadata": {},
     "output_type": "display_data"
    },
    {
     "data": {
      "application/vnd.jupyter.widget-view+json": {
       "model_id": "5e8997f516ee427bbd9a4afe5825a160",
       "version_major": 2,
       "version_minor": 0
      },
      "text/plain": [
       "  0%|          | 0/1 [00:00<?, ?it/s]"
      ]
     },
     "metadata": {},
     "output_type": "display_data"
    },
    {
     "data": {
      "application/vnd.jupyter.widget-view+json": {
       "model_id": "93e6cd4b6b3c47d5934f4efc15f20dcd",
       "version_major": 2,
       "version_minor": 0
      },
      "text/plain": [
       "  0%|          | 0/2 [00:00<?, ?it/s]"
      ]
     },
     "metadata": {},
     "output_type": "display_data"
    },
    {
     "data": {
      "application/vnd.jupyter.widget-view+json": {
       "model_id": "ae90a770d00d44c8ad8dfba47110350e",
       "version_major": 2,
       "version_minor": 0
      },
      "text/plain": [
       "  0%|          | 0/3 [00:00<?, ?it/s]"
      ]
     },
     "metadata": {},
     "output_type": "display_data"
    },
    {
     "data": {
      "application/vnd.jupyter.widget-view+json": {
       "model_id": "008717a68c8f42f3957bf3ec73d9036e",
       "version_major": 2,
       "version_minor": 0
      },
      "text/plain": [
       "  0%|          | 0/3 [00:00<?, ?it/s]"
      ]
     },
     "metadata": {},
     "output_type": "display_data"
    },
    {
     "data": {
      "application/vnd.jupyter.widget-view+json": {
       "model_id": "3055767c500f4ef8b9843339fad99678",
       "version_major": 2,
       "version_minor": 0
      },
      "text/plain": [
       "  0%|          | 0/1 [00:00<?, ?it/s]"
      ]
     },
     "metadata": {},
     "output_type": "display_data"
    },
    {
     "data": {
      "application/vnd.jupyter.widget-view+json": {
       "model_id": "964f93a1f7794e44a16b6a224213be68",
       "version_major": 2,
       "version_minor": 0
      },
      "text/plain": [
       "  0%|          | 0/2 [00:00<?, ?it/s]"
      ]
     },
     "metadata": {},
     "output_type": "display_data"
    },
    {
     "data": {
      "application/vnd.jupyter.widget-view+json": {
       "model_id": "611ac44b66624528ac3f2c9e12d4b00d",
       "version_major": 2,
       "version_minor": 0
      },
      "text/plain": [
       "  0%|          | 0/3 [00:00<?, ?it/s]"
      ]
     },
     "metadata": {},
     "output_type": "display_data"
    },
    {
     "data": {
      "application/vnd.jupyter.widget-view+json": {
       "model_id": "cd7b2b3c3fa54f5199c1a215ef872656",
       "version_major": 2,
       "version_minor": 0
      },
      "text/plain": [
       "  0%|          | 0/3 [00:00<?, ?it/s]"
      ]
     },
     "metadata": {},
     "output_type": "display_data"
    },
    {
     "data": {
      "application/vnd.jupyter.widget-view+json": {
       "model_id": "32b00e6258ff4ef188a49c3181d8480f",
       "version_major": 2,
       "version_minor": 0
      },
      "text/plain": [
       "  0%|          | 0/1 [00:00<?, ?it/s]"
      ]
     },
     "metadata": {},
     "output_type": "display_data"
    },
    {
     "data": {
      "application/vnd.jupyter.widget-view+json": {
       "model_id": "7ee48c4b3a7d44c4abeec4743aff3ba0",
       "version_major": 2,
       "version_minor": 0
      },
      "text/plain": [
       "  0%|          | 0/2 [00:00<?, ?it/s]"
      ]
     },
     "metadata": {},
     "output_type": "display_data"
    },
    {
     "data": {
      "application/vnd.jupyter.widget-view+json": {
       "model_id": "cfc237a1c80046cfb87b08269012da4c",
       "version_major": 2,
       "version_minor": 0
      },
      "text/plain": [
       "  0%|          | 0/3 [00:00<?, ?it/s]"
      ]
     },
     "metadata": {},
     "output_type": "display_data"
    }
   ],
   "source": [
    "swnu_network_grp, best_swnu_network_grp, _, __ = swnu_network_hyperparameter_search(\n",
    "    num_epochs=num_epochs,\n",
    "    df=df_rumours,\n",
    "    id_column=\"timeline_id\",\n",
    "    label_column=\"label\",\n",
    "    embeddings=sbert_embeddings,\n",
    "    y_data=y_data,\n",
    "    embedding_dim=embedding_dim,\n",
    "    output_dim=output_dim,\n",
    "    history_lengths=[size],\n",
    "    dim_reduce_methods=[\"gaussian_random_projection\"],\n",
    "    dimensions=dimensions,\n",
    "    log_signature=True,\n",
    "    swnu_hidden_dim_sizes_and_sig_depths=swnu_hidden_dim_sizes_and_sig_depths,\n",
    "    ffn_hidden_dim_sizes=ffn_hidden_dim_sizes,\n",
    "    dropout_rates=dropout_rates,\n",
    "    learning_rates=learning_rates,\n",
    "    BiLSTM=bidirectional,\n",
    "    seeds=seeds,\n",
    "    loss=loss,\n",
    "    gamma=gamma,\n",
    "    features=features, \n",
    "    standardise_method=standardise_method,\n",
    "    add_time_in_path=add_time_in_path,\n",
    "    split_ids=None, #torch.tensor(df_rumours['timeline_id'].astype(int)),\n",
    "    split_indices=split_indices,\n",
    "    k_fold=False,\n",
    "    patience=patience,\n",
    "    validation_metric=validation_metric,\n",
    "    results_output=f\"{output_dir}/swnu_network_grp_focal_{gamma}_{size}.csv\",\n",
    "    verbose=False\n",
    ")"
   ]
  },
  {
   "cell_type": "code",
   "execution_count": null,
   "metadata": {},
   "outputs": [],
   "source": [
    "swnu_network_grp.groupby([\"dimensions\",\n",
    "                           \"swnu_hidden_dim\",\n",
    "                           \"ffn_hidden_dim\",\n",
    "                           \"dropout_rate\",\n",
    "                           \"learning_rate\"]).mean()"
   ]
  },
  {
   "cell_type": "code",
   "execution_count": null,
   "metadata": {},
   "outputs": [],
   "source": [
    "best_swnu_network_grp"
   ]
  },
  {
   "cell_type": "code",
   "execution_count": null,
   "metadata": {},
   "outputs": [],
   "source": [
    "best_swnu_network_grp[\"f1\"].mean()"
   ]
  },
  {
   "cell_type": "code",
   "execution_count": null,
   "metadata": {},
   "outputs": [],
   "source": [
    "best_swnu_network_grp[\"precision\"].mean()"
   ]
  },
  {
   "cell_type": "code",
   "execution_count": null,
   "metadata": {},
   "outputs": [],
   "source": [
    "best_swnu_network_grp[\"recall\"].mean()"
   ]
  },
  {
   "cell_type": "code",
   "execution_count": null,
   "metadata": {},
   "outputs": [],
   "source": [
    "np.stack(best_swnu_network_grp[\"f1_scores\"]).mean(axis=0)"
   ]
  },
  {
   "cell_type": "code",
   "execution_count": null,
   "metadata": {},
   "outputs": [],
   "source": [
    "np.stack(best_swnu_network_grp[\"precision_scores\"]).mean(axis=0)"
   ]
  },
  {
   "cell_type": "code",
   "execution_count": null,
   "metadata": {},
   "outputs": [],
   "source": [
    "np.stack(best_swnu_network_grp[\"recall_scores\"]).mean(axis=0)"
   ]
  },
  {
   "cell_type": "markdown",
   "metadata": {},
   "source": [
    "## Unidirectional LSTM"
   ]
  },
  {
   "cell_type": "code",
   "execution_count": null,
   "metadata": {},
   "outputs": [],
   "source": [
    "swnu_network_grp_uni, best_swnu_network_grp_uni, _, __ = swnu_network_hyperparameter_search(\n",
    "    num_epochs=num_epochs,\n",
    "    df=df_rumours,\n",
    "    id_column=\"timeline_id\",\n",
    "    label_column=\"label\",\n",
    "    embeddings=sbert_embeddings,\n",
    "    y_data=y_data,\n",
    "    embedding_dim=embedding_dim,\n",
    "    output_dim=output_dim,\n",
    "    history_lengths=[size],\n",
    "    dim_reduce_methods=[\"gaussian_random_projection\"],\n",
    "    dimensions=dimensions,\n",
    "    log_signature=True,\n",
    "    swnu_hidden_dim_sizes_and_sig_depths=swnu_hidden_dim_sizes_and_sig_depths,\n",
    "    ffn_hidden_dim_sizes=ffn_hidden_dim_sizes,\n",
    "    dropout_rates=dropout_rates,\n",
    "    learning_rates=learning_rates,\n",
    "    BiLSTM=False,\n",
    "    seeds=seeds,\n",
    "    loss=loss,\n",
    "    gamma=gamma,\n",
    "    features=features, \n",
    "    standardise_method=standardise_method,\n",
    "    add_time_in_path=add_time_in_path,\n",
    "    split_ids=None, #torch.tensor(df_rumours['timeline_id'].astype(int)),\n",
    "    split_indices=split_indices,\n",
    "    k_fold=False,\n",
    "    patience=patience,\n",
    "    validation_metric=validation_metric,\n",
    "    results_output=f\"{output_dir}/swnu_network_grp_focal_{gamma}_{size}_uni.csv\",\n",
    "    verbose=False\n",
    ")"
   ]
  },
  {
   "cell_type": "code",
   "execution_count": null,
   "metadata": {},
   "outputs": [],
   "source": [
    "swnu_network_grp_uni.groupby([\"dimensions\",\n",
    "                              \"swnu_hidden_dim\",\n",
    "                              \"ffn_hidden_dim\",\n",
    "                              \"dropout_rate\",\n",
    "                              \"learning_rate\"]).mean()"
   ]
  },
  {
   "cell_type": "code",
   "execution_count": null,
   "metadata": {},
   "outputs": [],
   "source": [
    "best_swnu_network_grp_uni"
   ]
  },
  {
   "cell_type": "code",
   "execution_count": null,
   "metadata": {},
   "outputs": [],
   "source": [
    "best_swnu_network_grp_uni[\"f1\"].mean()"
   ]
  },
  {
   "cell_type": "code",
   "execution_count": null,
   "metadata": {},
   "outputs": [],
   "source": [
    "best_swnu_network_grp_uni[\"precision\"].mean()"
   ]
  },
  {
   "cell_type": "code",
   "execution_count": null,
   "metadata": {},
   "outputs": [],
   "source": [
    "best_swnu_network_grp_uni[\"recall\"].mean()"
   ]
  },
  {
   "cell_type": "code",
   "execution_count": null,
   "metadata": {},
   "outputs": [],
   "source": [
    "np.stack(best_swnu_network_grp_uni[\"f1_scores\"]).mean(axis=0)"
   ]
  },
  {
   "cell_type": "code",
   "execution_count": null,
   "metadata": {},
   "outputs": [],
   "source": [
    "np.stack(best_swnu_network_grp_uni[\"precision_scores\"]).mean(axis=0)"
   ]
  },
  {
   "cell_type": "code",
   "execution_count": null,
   "metadata": {},
   "outputs": [],
   "source": [
    "np.stack(best_swnu_network_grp_uni[\"recall_scores\"]).mean(axis=0)"
   ]
  }
 ],
 "metadata": {
  "kernelspec": {
   "display_name": "nlpsig-networks (Conda)",
   "language": "python",
   "name": "sys_nlpsig-networks"
  },
  "language_info": {
   "codemirror_mode": {
    "name": "ipython",
    "version": 3
   },
   "file_extension": ".py",
   "mimetype": "text/x-python",
   "name": "python",
   "nbconvert_exporter": "python",
   "pygments_lexer": "ipython3",
   "version": "3.8.17"
  }
 },
 "nbformat": 4,
 "nbformat_minor": 4
}
