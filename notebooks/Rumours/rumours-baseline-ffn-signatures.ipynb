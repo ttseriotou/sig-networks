{
 "cells": [
  {
   "cell_type": "code",
   "execution_count": 1,
   "metadata": {},
   "outputs": [],
   "source": [
    "import pickle\n",
    "import numpy as np\n",
    "import pandas as pd\n",
    "import re\n",
    "import os\n",
    "\n",
    "seed = 2023"
   ]
  },
  {
   "cell_type": "code",
   "execution_count": 2,
   "metadata": {},
   "outputs": [],
   "source": [
    "from nlpsig_networks.scripts.ffn_baseline_functions import (\n",
    "    histories_baseline_hyperparameter_search\n",
    ")"
   ]
  },
  {
   "cell_type": "code",
   "execution_count": 3,
   "metadata": {},
   "outputs": [],
   "source": [
    "output_dir = \"rumours_output\"\n",
    "if not os.path.isdir(output_dir):\n",
    "    os.makedirs(output_dir)"
   ]
  },
  {
   "cell_type": "markdown",
   "metadata": {},
   "source": [
    "## Rumours"
   ]
  },
  {
   "cell_type": "code",
   "execution_count": 4,
   "metadata": {},
   "outputs": [],
   "source": [
    "%run load_sbert-embeddings.py"
   ]
  },
  {
   "cell_type": "code",
   "execution_count": 5,
   "metadata": {},
   "outputs": [
    {
     "data": {
      "text/html": [
       "<div>\n",
       "<style scoped>\n",
       "    .dataframe tbody tr th:only-of-type {\n",
       "        vertical-align: middle;\n",
       "    }\n",
       "\n",
       "    .dataframe tbody tr th {\n",
       "        vertical-align: top;\n",
       "    }\n",
       "\n",
       "    .dataframe thead th {\n",
       "        text-align: right;\n",
       "    }\n",
       "</style>\n",
       "<table border=\"1\" class=\"dataframe\">\n",
       "  <thead>\n",
       "    <tr style=\"text-align: right;\">\n",
       "      <th></th>\n",
       "      <th>id</th>\n",
       "      <th>label</th>\n",
       "      <th>datetime</th>\n",
       "      <th>text</th>\n",
       "      <th>timeline_id</th>\n",
       "      <th>set</th>\n",
       "    </tr>\n",
       "  </thead>\n",
       "  <tbody>\n",
       "    <tr>\n",
       "      <th>0</th>\n",
       "      <td>5.249902e+17</td>\n",
       "      <td>0</td>\n",
       "      <td>2014-10-22 18:26:23</td>\n",
       "      <td>Police have clarified that there were two shoo...</td>\n",
       "      <td>0</td>\n",
       "      <td>train</td>\n",
       "    </tr>\n",
       "    <tr>\n",
       "      <th>1</th>\n",
       "      <td>5.249906e+17</td>\n",
       "      <td>0</td>\n",
       "      <td>2014-10-22 18:27:58</td>\n",
       "      <td>@CTVNews you guys \"confirmed\" there were 3 sho...</td>\n",
       "      <td>0</td>\n",
       "      <td>train</td>\n",
       "    </tr>\n",
       "    <tr>\n",
       "      <th>2</th>\n",
       "      <td>5.249908e+17</td>\n",
       "      <td>1</td>\n",
       "      <td>2014-10-22 18:28:46</td>\n",
       "      <td>@CTVNews get it right. http://t.co/GHYxMuzPG9</td>\n",
       "      <td>0</td>\n",
       "      <td>train</td>\n",
       "    </tr>\n",
       "    <tr>\n",
       "      <th>3</th>\n",
       "      <td>5.249927e+17</td>\n",
       "      <td>1</td>\n",
       "      <td>2014-10-22 18:36:29</td>\n",
       "      <td>RT @CTVNews Police have clarified that there w...</td>\n",
       "      <td>0</td>\n",
       "      <td>train</td>\n",
       "    </tr>\n",
       "    <tr>\n",
       "      <th>4</th>\n",
       "      <td>5.250038e+17</td>\n",
       "      <td>1</td>\n",
       "      <td>2014-10-22 19:20:41</td>\n",
       "      <td>@CTVNews @ctvsaskatoon so what happened at Rid...</td>\n",
       "      <td>0</td>\n",
       "      <td>train</td>\n",
       "    </tr>\n",
       "  </tbody>\n",
       "</table>\n",
       "</div>"
      ],
      "text/plain": [
       "             id label            datetime  \\\n",
       "0  5.249902e+17     0 2014-10-22 18:26:23   \n",
       "1  5.249906e+17     0 2014-10-22 18:27:58   \n",
       "2  5.249908e+17     1 2014-10-22 18:28:46   \n",
       "3  5.249927e+17     1 2014-10-22 18:36:29   \n",
       "4  5.250038e+17     1 2014-10-22 19:20:41   \n",
       "\n",
       "                                                text timeline_id    set  \n",
       "0  Police have clarified that there were two shoo...           0  train  \n",
       "1  @CTVNews you guys \"confirmed\" there were 3 sho...           0  train  \n",
       "2      @CTVNews get it right. http://t.co/GHYxMuzPG9           0  train  \n",
       "3  RT @CTVNews Police have clarified that there w...           0  train  \n",
       "4  @CTVNews @ctvsaskatoon so what happened at Rid...           0  train  "
      ]
     },
     "execution_count": 5,
     "metadata": {},
     "output_type": "execute_result"
    }
   ],
   "source": [
    "df_rumours.head()"
   ]
  },
  {
   "cell_type": "code",
   "execution_count": 6,
   "metadata": {},
   "outputs": [
    {
     "data": {
      "text/plain": [
       "(5568, 384)"
      ]
     },
     "execution_count": 6,
     "metadata": {},
     "output_type": "execute_result"
    }
   ],
   "source": [
    "sbert_embeddings.shape"
   ]
  },
  {
   "cell_type": "code",
   "execution_count": 7,
   "metadata": {},
   "outputs": [
    {
     "name": "stdout",
     "output_type": "stream",
     "text": [
      "[INFO] Concatenating the embeddings to the dataframe...\n",
      "[INFO] - columns beginning with 'e' denote the full embddings.\n",
      "[INFO] - columns beginning with 'd' denote the dimension reduced embeddings.\n",
      "[INFO] Adding time feature columns into dataframe in `.df`.\n",
      "[INFO] Adding 'time_encoding' feature...\n",
      "[INFO] Adding 'time_diff' feature...\n",
      "[INFO] Adding 'timeline_index' feature...\n",
      "[INFO] Padding ids and storing in `.df_padded` and `.array_padded` attributes.\n"
     ]
    },
    {
     "data": {
      "application/vnd.jupyter.widget-view+json": {
       "model_id": "f7dd6aafb8bd42e8a948ba47ad7fd506",
       "version_major": 2,
       "version_minor": 0
      },
      "text/plain": [
       "  0%|          | 0/5568 [00:00<?, ?it/s]"
      ]
     },
     "metadata": {},
     "output_type": "display_data"
    }
   ],
   "source": [
    "from nlpsig_networks.scripts.ffn_baseline_functions import obtain_signatures_history\n",
    "\n",
    "x_data = obtain_signatures_history(\n",
    "    method=\"gaussian_random_projection\",\n",
    "    dimension=10,\n",
    "    sig_depth=3,\n",
    "    log_signature=True,\n",
    "    df=df_rumours,\n",
    "    id_column=\"timeline_id\",\n",
    "    label_column=\"label\",\n",
    "    embeddings=sbert_embeddings,\n",
    "    seed=seed,\n",
    "    path_indices=None,\n",
    "    concatenate_current=False\n",
    ")"
   ]
  },
  {
   "cell_type": "code",
   "execution_count": 8,
   "metadata": {},
   "outputs": [
    {
     "data": {
      "text/plain": [
       "torch.Size([5568, 385])"
      ]
     },
     "execution_count": 8,
     "metadata": {},
     "output_type": "execute_result"
    }
   ],
   "source": [
    "x_data.shape"
   ]
  },
  {
   "cell_type": "markdown",
   "metadata": {},
   "source": [
    "# Baseline: FFN using signatures"
   ]
  },
  {
   "cell_type": "code",
   "execution_count": 9,
   "metadata": {},
   "outputs": [],
   "source": [
    "num_epochs = 100\n",
    "hidden_dim_sizes = [[64,64],[128,128],[256,256],[512,512]]\n",
    "dropout_rates = [0.5, 0.1]\n",
    "learning_rates = [1e-3, 1e-4, 5e-4]\n",
    "seeds = [1, 12, 123]\n",
    "loss = \"focal\"\n",
    "gamma = 2\n",
    "validation_metric = \"f1\"\n",
    "patience = 5\n",
    "split_indices = (df_rumours[df_rumours['set']=='train'].index,\n",
    "                 df_rumours[df_rumours['set']=='dev'].index,\n",
    "                 df_rumours[df_rumours['set']=='test'].index)"
   ]
  },
  {
   "cell_type": "code",
   "execution_count": 10,
   "metadata": {},
   "outputs": [],
   "source": [
    "log_signature_dimensions_and_sig_depths = [(28, 2), (10, 3), (6, 4)]"
   ]
  },
  {
   "cell_type": "code",
   "execution_count": 11,
   "metadata": {},
   "outputs": [
    {
     "data": {
      "text/plain": [
       "[406, 385, 406]"
      ]
     },
     "execution_count": 11,
     "metadata": {},
     "output_type": "execute_result"
    }
   ],
   "source": [
    "import signatory\n",
    "\n",
    "[signatory.logsignature_channels(channels, depth)\n",
    " for (channels, depth) in log_signature_dimensions_and_sig_depths]"
   ]
  },
  {
   "cell_type": "code",
   "execution_count": 12,
   "metadata": {},
   "outputs": [],
   "source": [
    "# dim_reduce_methods = [\"umap\", \"gaussian_random_projection\"]\n",
    "# num_epochs = 100\n",
    "# batch=64\n",
    "# log_sig = True\n",
    "# log_signature_dimensions_and_sig_depths = [(28, 2), (10, 3)]#[(28, 2), (10, 3), (6, 4)]\n",
    "# hidden_dim_sizes = [[64,64],[128,128], [256,256]]#[[64,64], [128,128], [256,256]]\n",
    "# dropout_rates =  [0.2, 0.1]\n",
    "# learning_rates = [1e-3, 1e-4, 5e-4]\n",
    "# seeds = [0, 1, 12, 123, 1234]\n",
    "# loss = \"focal\"\n",
    "# gamma = 2\n",
    "# patience=5\n",
    "# validation_metric = \"f1\"\n",
    "# split_indices = (df_rumours[df_rumours['set']=='train'].index,\n",
    "#                  df_rumours[df_rumours['set']=='dev'].index,\n",
    "#                  df_rumours[df_rumours['set']=='test'].index)"
   ]
  },
  {
   "cell_type": "markdown",
   "metadata": {},
   "source": [
    "## UMAP"
   ]
  },
  {
   "cell_type": "code",
   "execution_count": 13,
   "metadata": {},
   "outputs": [
    {
     "data": {
      "application/vnd.jupyter.widget-view+json": {
       "model_id": "17996dda96da4d29956efbc4f19a910f",
       "version_major": 2,
       "version_minor": 0
      },
      "text/plain": [
       "  0%|          | 0/3 [00:00<?, ?it/s]"
      ]
     },
     "metadata": {},
     "output_type": "display_data"
    },
    {
     "data": {
      "application/vnd.jupyter.widget-view+json": {
       "model_id": "b4b2703822d94daea3d6803dcd679020",
       "version_major": 2,
       "version_minor": 0
      },
      "text/plain": [
       "  0%|          | 0/1 [00:00<?, ?it/s]"
      ]
     },
     "metadata": {},
     "output_type": "display_data"
    },
    {
     "name": "stdout",
     "output_type": "stream",
     "text": [
      "[INFO] Concatenating the embeddings to the dataframe...\n",
      "[INFO] - columns beginning with 'e' denote the full embddings.\n",
      "[INFO] - columns beginning with 'd' denote the dimension reduced embeddings.\n",
      "[INFO] Adding time feature columns into dataframe in `.df`.\n",
      "[INFO] Adding 'time_encoding' feature...\n",
      "[INFO] Adding 'time_diff' feature...\n",
      "[INFO] Adding 'timeline_index' feature...\n",
      "[INFO] Padding ids and storing in `.df_padded` and `.array_padded` attributes.\n"
     ]
    },
    {
     "data": {
      "application/vnd.jupyter.widget-view+json": {
       "model_id": "3cf06bdb1fdd4321a81ff2ffaa78685d",
       "version_major": 2,
       "version_minor": 0
      },
      "text/plain": [
       "  0%|          | 0/5568 [00:00<?, ?it/s]"
      ]
     },
     "metadata": {},
     "output_type": "display_data"
    },
    {
     "data": {
      "application/vnd.jupyter.widget-view+json": {
       "model_id": "12d68fb883f840488fff57c33ef182b0",
       "version_major": 2,
       "version_minor": 0
      },
      "text/plain": [
       "  0%|          | 0/4 [00:00<?, ?it/s]"
      ]
     },
     "metadata": {},
     "output_type": "display_data"
    },
    {
     "data": {
      "application/vnd.jupyter.widget-view+json": {
       "model_id": "4e7e432d02d24839b69c000e5ce95fc9",
       "version_major": 2,
       "version_minor": 0
      },
      "text/plain": [
       "  0%|          | 0/2 [00:00<?, ?it/s]"
      ]
     },
     "metadata": {},
     "output_type": "display_data"
    },
    {
     "data": {
      "application/vnd.jupyter.widget-view+json": {
       "model_id": "61b6ecc9bdc44e579d82c781d3b50b1a",
       "version_major": 2,
       "version_minor": 0
      },
      "text/plain": [
       "  0%|          | 0/3 [00:00<?, ?it/s]"
      ]
     },
     "metadata": {},
     "output_type": "display_data"
    },
    {
     "data": {
      "application/vnd.jupyter.widget-view+json": {
       "model_id": "98cabbeac7d641d5a5f81c0b23fd1616",
       "version_major": 2,
       "version_minor": 0
      },
      "text/plain": [
       "  0%|          | 0/3 [00:00<?, ?it/s]"
      ]
     },
     "metadata": {},
     "output_type": "display_data"
    },
    {
     "data": {
      "application/vnd.jupyter.widget-view+json": {
       "model_id": "5596f84aea7343049cd775e96eee1133",
       "version_major": 2,
       "version_minor": 0
      },
      "text/plain": [
       "  0%|          | 0/2 [00:00<?, ?it/s]"
      ]
     },
     "metadata": {},
     "output_type": "display_data"
    },
    {
     "data": {
      "application/vnd.jupyter.widget-view+json": {
       "model_id": "a256baa6f2c24ddaa22cd57a30c6dec7",
       "version_major": 2,
       "version_minor": 0
      },
      "text/plain": [
       "  0%|          | 0/3 [00:00<?, ?it/s]"
      ]
     },
     "metadata": {},
     "output_type": "display_data"
    },
    {
     "data": {
      "application/vnd.jupyter.widget-view+json": {
       "model_id": "1d3be5e69a0c4280a0402b7070825c9c",
       "version_major": 2,
       "version_minor": 0
      },
      "text/plain": [
       "  0%|          | 0/3 [00:00<?, ?it/s]"
      ]
     },
     "metadata": {},
     "output_type": "display_data"
    },
    {
     "data": {
      "application/vnd.jupyter.widget-view+json": {
       "model_id": "a9b66540aaad432ca40d1a5ad8cc127b",
       "version_major": 2,
       "version_minor": 0
      },
      "text/plain": [
       "  0%|          | 0/2 [00:00<?, ?it/s]"
      ]
     },
     "metadata": {},
     "output_type": "display_data"
    },
    {
     "data": {
      "application/vnd.jupyter.widget-view+json": {
       "model_id": "5666e74966e647eabe6889ffeb928dba",
       "version_major": 2,
       "version_minor": 0
      },
      "text/plain": [
       "  0%|          | 0/3 [00:00<?, ?it/s]"
      ]
     },
     "metadata": {},
     "output_type": "display_data"
    },
    {
     "data": {
      "application/vnd.jupyter.widget-view+json": {
       "model_id": "309f09ac67974e1d9377fb0454c58ffd",
       "version_major": 2,
       "version_minor": 0
      },
      "text/plain": [
       "  0%|          | 0/3 [00:00<?, ?it/s]"
      ]
     },
     "metadata": {},
     "output_type": "display_data"
    },
    {
     "data": {
      "application/vnd.jupyter.widget-view+json": {
       "model_id": "12f6113ee89a4c5783da98e061228944",
       "version_major": 2,
       "version_minor": 0
      },
      "text/plain": [
       "  0%|          | 0/2 [00:00<?, ?it/s]"
      ]
     },
     "metadata": {},
     "output_type": "display_data"
    },
    {
     "data": {
      "application/vnd.jupyter.widget-view+json": {
       "model_id": "d2fa8b0e244f422c8afd9658904253ef",
       "version_major": 2,
       "version_minor": 0
      },
      "text/plain": [
       "  0%|          | 0/3 [00:00<?, ?it/s]"
      ]
     },
     "metadata": {},
     "output_type": "display_data"
    },
    {
     "data": {
      "application/vnd.jupyter.widget-view+json": {
       "model_id": "9759868ec3994d0a820bb38685b5f124",
       "version_major": 2,
       "version_minor": 0
      },
      "text/plain": [
       "  0%|          | 0/3 [00:00<?, ?it/s]"
      ]
     },
     "metadata": {},
     "output_type": "display_data"
    },
    {
     "data": {
      "application/vnd.jupyter.widget-view+json": {
       "model_id": "bfec0d6504914e898d7a202cb24cf746",
       "version_major": 2,
       "version_minor": 0
      },
      "text/plain": [
       "  0%|          | 0/1 [00:00<?, ?it/s]"
      ]
     },
     "metadata": {},
     "output_type": "display_data"
    },
    {
     "name": "stdout",
     "output_type": "stream",
     "text": [
      "[INFO] Concatenating the embeddings to the dataframe...\n",
      "[INFO] - columns beginning with 'e' denote the full embddings.\n",
      "[INFO] - columns beginning with 'd' denote the dimension reduced embeddings.\n",
      "[INFO] Adding time feature columns into dataframe in `.df`.\n",
      "[INFO] Adding 'time_encoding' feature...\n",
      "[INFO] Adding 'time_diff' feature...\n",
      "[INFO] Adding 'timeline_index' feature...\n",
      "[INFO] Padding ids and storing in `.df_padded` and `.array_padded` attributes.\n"
     ]
    },
    {
     "data": {
      "application/vnd.jupyter.widget-view+json": {
       "model_id": "a89bf4480a7043638412bee9e7190d0e",
       "version_major": 2,
       "version_minor": 0
      },
      "text/plain": [
       "  0%|          | 0/5568 [00:00<?, ?it/s]"
      ]
     },
     "metadata": {},
     "output_type": "display_data"
    },
    {
     "data": {
      "application/vnd.jupyter.widget-view+json": {
       "model_id": "56b17493ea524671909ba1838d380553",
       "version_major": 2,
       "version_minor": 0
      },
      "text/plain": [
       "  0%|          | 0/4 [00:00<?, ?it/s]"
      ]
     },
     "metadata": {},
     "output_type": "display_data"
    },
    {
     "data": {
      "application/vnd.jupyter.widget-view+json": {
       "model_id": "fc2ad5f54292432784baeb06c61bf529",
       "version_major": 2,
       "version_minor": 0
      },
      "text/plain": [
       "  0%|          | 0/2 [00:00<?, ?it/s]"
      ]
     },
     "metadata": {},
     "output_type": "display_data"
    },
    {
     "data": {
      "application/vnd.jupyter.widget-view+json": {
       "model_id": "ef205a4c6f434e11936e3178aac2bad3",
       "version_major": 2,
       "version_minor": 0
      },
      "text/plain": [
       "  0%|          | 0/3 [00:00<?, ?it/s]"
      ]
     },
     "metadata": {},
     "output_type": "display_data"
    },
    {
     "data": {
      "application/vnd.jupyter.widget-view+json": {
       "model_id": "d8f940011c7b472db14b72cc9b28f134",
       "version_major": 2,
       "version_minor": 0
      },
      "text/plain": [
       "  0%|          | 0/3 [00:00<?, ?it/s]"
      ]
     },
     "metadata": {},
     "output_type": "display_data"
    },
    {
     "data": {
      "application/vnd.jupyter.widget-view+json": {
       "model_id": "18c48e78d31941a48ada10583ffd2c96",
       "version_major": 2,
       "version_minor": 0
      },
      "text/plain": [
       "  0%|          | 0/2 [00:00<?, ?it/s]"
      ]
     },
     "metadata": {},
     "output_type": "display_data"
    },
    {
     "data": {
      "application/vnd.jupyter.widget-view+json": {
       "model_id": "6f35def61cdd4ba39e7318f457ef48b4",
       "version_major": 2,
       "version_minor": 0
      },
      "text/plain": [
       "  0%|          | 0/3 [00:00<?, ?it/s]"
      ]
     },
     "metadata": {},
     "output_type": "display_data"
    },
    {
     "data": {
      "application/vnd.jupyter.widget-view+json": {
       "model_id": "e1a1168fef0e4a3c84123ab7010ec383",
       "version_major": 2,
       "version_minor": 0
      },
      "text/plain": [
       "  0%|          | 0/3 [00:00<?, ?it/s]"
      ]
     },
     "metadata": {},
     "output_type": "display_data"
    },
    {
     "data": {
      "application/vnd.jupyter.widget-view+json": {
       "model_id": "fc445ab9b77346f4aabe8e90f51b1888",
       "version_major": 2,
       "version_minor": 0
      },
      "text/plain": [
       "  0%|          | 0/2 [00:00<?, ?it/s]"
      ]
     },
     "metadata": {},
     "output_type": "display_data"
    },
    {
     "data": {
      "application/vnd.jupyter.widget-view+json": {
       "model_id": "d4ca8709d8794d068fe8adead1c11fcb",
       "version_major": 2,
       "version_minor": 0
      },
      "text/plain": [
       "  0%|          | 0/3 [00:00<?, ?it/s]"
      ]
     },
     "metadata": {},
     "output_type": "display_data"
    },
    {
     "data": {
      "application/vnd.jupyter.widget-view+json": {
       "model_id": "3bb845d213cc46f89529d0f2034ce41d",
       "version_major": 2,
       "version_minor": 0
      },
      "text/plain": [
       "  0%|          | 0/3 [00:00<?, ?it/s]"
      ]
     },
     "metadata": {},
     "output_type": "display_data"
    },
    {
     "data": {
      "application/vnd.jupyter.widget-view+json": {
       "model_id": "f639f8c448974fa3b9f3377011f57f53",
       "version_major": 2,
       "version_minor": 0
      },
      "text/plain": [
       "  0%|          | 0/2 [00:00<?, ?it/s]"
      ]
     },
     "metadata": {},
     "output_type": "display_data"
    },
    {
     "data": {
      "application/vnd.jupyter.widget-view+json": {
       "model_id": "3ed013f7c7314a63832275cf9a60a099",
       "version_major": 2,
       "version_minor": 0
      },
      "text/plain": [
       "  0%|          | 0/3 [00:00<?, ?it/s]"
      ]
     },
     "metadata": {},
     "output_type": "display_data"
    },
    {
     "data": {
      "application/vnd.jupyter.widget-view+json": {
       "model_id": "ad5f0d8c439b454f933ce461b278e071",
       "version_major": 2,
       "version_minor": 0
      },
      "text/plain": [
       "  0%|          | 0/3 [00:00<?, ?it/s]"
      ]
     },
     "metadata": {},
     "output_type": "display_data"
    },
    {
     "data": {
      "application/vnd.jupyter.widget-view+json": {
       "model_id": "d79f54cd074f49b08526e7c74c9611a5",
       "version_major": 2,
       "version_minor": 0
      },
      "text/plain": [
       "  0%|          | 0/1 [00:00<?, ?it/s]"
      ]
     },
     "metadata": {},
     "output_type": "display_data"
    },
    {
     "name": "stdout",
     "output_type": "stream",
     "text": [
      "[INFO] Concatenating the embeddings to the dataframe...\n",
      "[INFO] - columns beginning with 'e' denote the full embddings.\n",
      "[INFO] - columns beginning with 'd' denote the dimension reduced embeddings.\n",
      "[INFO] Adding time feature columns into dataframe in `.df`.\n",
      "[INFO] Adding 'time_encoding' feature...\n",
      "[INFO] Adding 'time_diff' feature...\n",
      "[INFO] Adding 'timeline_index' feature...\n",
      "[INFO] Padding ids and storing in `.df_padded` and `.array_padded` attributes.\n"
     ]
    },
    {
     "data": {
      "application/vnd.jupyter.widget-view+json": {
       "model_id": "96c4e7b31ba145c6b2e8d4c154d7f35c",
       "version_major": 2,
       "version_minor": 0
      },
      "text/plain": [
       "  0%|          | 0/5568 [00:00<?, ?it/s]"
      ]
     },
     "metadata": {},
     "output_type": "display_data"
    },
    {
     "data": {
      "application/vnd.jupyter.widget-view+json": {
       "model_id": "b06d39f73f0e4785a49b1a4ca9e5208a",
       "version_major": 2,
       "version_minor": 0
      },
      "text/plain": [
       "  0%|          | 0/4 [00:00<?, ?it/s]"
      ]
     },
     "metadata": {},
     "output_type": "display_data"
    },
    {
     "data": {
      "application/vnd.jupyter.widget-view+json": {
       "model_id": "ed5aa1499165464d927085fd6e3283e6",
       "version_major": 2,
       "version_minor": 0
      },
      "text/plain": [
       "  0%|          | 0/2 [00:00<?, ?it/s]"
      ]
     },
     "metadata": {},
     "output_type": "display_data"
    },
    {
     "data": {
      "application/vnd.jupyter.widget-view+json": {
       "model_id": "7b148611e8c64b7887643a8222d51b75",
       "version_major": 2,
       "version_minor": 0
      },
      "text/plain": [
       "  0%|          | 0/3 [00:00<?, ?it/s]"
      ]
     },
     "metadata": {},
     "output_type": "display_data"
    },
    {
     "data": {
      "application/vnd.jupyter.widget-view+json": {
       "model_id": "db1f8a2b60934b2d84e70de7bd41ae7a",
       "version_major": 2,
       "version_minor": 0
      },
      "text/plain": [
       "  0%|          | 0/3 [00:00<?, ?it/s]"
      ]
     },
     "metadata": {},
     "output_type": "display_data"
    },
    {
     "data": {
      "application/vnd.jupyter.widget-view+json": {
       "model_id": "d768d7b7c1a94540a06444cb2e0da4fd",
       "version_major": 2,
       "version_minor": 0
      },
      "text/plain": [
       "  0%|          | 0/2 [00:00<?, ?it/s]"
      ]
     },
     "metadata": {},
     "output_type": "display_data"
    },
    {
     "data": {
      "application/vnd.jupyter.widget-view+json": {
       "model_id": "7e036df515f44ef0a35fc670a42995fb",
       "version_major": 2,
       "version_minor": 0
      },
      "text/plain": [
       "  0%|          | 0/3 [00:00<?, ?it/s]"
      ]
     },
     "metadata": {},
     "output_type": "display_data"
    },
    {
     "data": {
      "application/vnd.jupyter.widget-view+json": {
       "model_id": "01c8e739d0b64d1f9aa8dd896eac2c00",
       "version_major": 2,
       "version_minor": 0
      },
      "text/plain": [
       "  0%|          | 0/3 [00:00<?, ?it/s]"
      ]
     },
     "metadata": {},
     "output_type": "display_data"
    },
    {
     "data": {
      "application/vnd.jupyter.widget-view+json": {
       "model_id": "ecbde18847ee48a8afcc0c5bb69f15ff",
       "version_major": 2,
       "version_minor": 0
      },
      "text/plain": [
       "  0%|          | 0/2 [00:00<?, ?it/s]"
      ]
     },
     "metadata": {},
     "output_type": "display_data"
    },
    {
     "data": {
      "application/vnd.jupyter.widget-view+json": {
       "model_id": "bc375715ec524ad48639cdab8cb1814d",
       "version_major": 2,
       "version_minor": 0
      },
      "text/plain": [
       "  0%|          | 0/3 [00:00<?, ?it/s]"
      ]
     },
     "metadata": {},
     "output_type": "display_data"
    },
    {
     "data": {
      "application/vnd.jupyter.widget-view+json": {
       "model_id": "abb34061d38e4837afac15ef8300a49d",
       "version_major": 2,
       "version_minor": 0
      },
      "text/plain": [
       "  0%|          | 0/3 [00:00<?, ?it/s]"
      ]
     },
     "metadata": {},
     "output_type": "display_data"
    },
    {
     "data": {
      "application/vnd.jupyter.widget-view+json": {
       "model_id": "b16e8a5b00b34f0cb5faebd3bdb06816",
       "version_major": 2,
       "version_minor": 0
      },
      "text/plain": [
       "  0%|          | 0/2 [00:00<?, ?it/s]"
      ]
     },
     "metadata": {},
     "output_type": "display_data"
    },
    {
     "data": {
      "application/vnd.jupyter.widget-view+json": {
       "model_id": "abb565317c2845d6aa7d40f0c9c3458a",
       "version_major": 2,
       "version_minor": 0
      },
      "text/plain": [
       "  0%|          | 0/3 [00:00<?, ?it/s]"
      ]
     },
     "metadata": {},
     "output_type": "display_data"
    },
    {
     "data": {
      "application/vnd.jupyter.widget-view+json": {
       "model_id": "5786322e427f44cb9ae15e3e09fdc921",
       "version_major": 2,
       "version_minor": 0
      },
      "text/plain": [
       "  0%|          | 0/3 [00:00<?, ?it/s]"
      ]
     },
     "metadata": {},
     "output_type": "display_data"
    },
    {
     "name": "stdout",
     "output_type": "stream",
     "text": [
      "[INFO] Concatenating the embeddings to the dataframe...\n",
      "[INFO] - columns beginning with 'e' denote the full embddings.\n",
      "[INFO] - columns beginning with 'd' denote the dimension reduced embeddings.\n",
      "[INFO] Adding time feature columns into dataframe in `.df`.\n",
      "[INFO] Adding 'time_encoding' feature...\n",
      "[INFO] Adding 'time_diff' feature...\n",
      "[INFO] Adding 'timeline_index' feature...\n",
      "[INFO] Padding ids and storing in `.df_padded` and `.array_padded` attributes.\n"
     ]
    },
    {
     "data": {
      "application/vnd.jupyter.widget-view+json": {
       "model_id": "80da5c025e2c4555a6870ee859613ee8",
       "version_major": 2,
       "version_minor": 0
      },
      "text/plain": [
       "  0%|          | 0/5568 [00:00<?, ?it/s]"
      ]
     },
     "metadata": {},
     "output_type": "display_data"
    },
    {
     "name": "stdout",
     "output_type": "stream",
     "text": [
      "saving results dataframe to CSV for this hyperparameter search in rumours_output/ffn_logsignature_umap_focal_2_kfold.csv\n",
      "saving the best model results dataframe to CSV for this hyperparameter search in rumours_output/ffn_logsignature_umap_focal_2_kfold_best_model.csv\n"
     ]
    }
   ],
   "source": [
    "ffn_logsignature_umap, best_ffn_logsignature_umap, _, __ = histories_baseline_hyperparameter_search(\n",
    "    num_epochs=num_epochs,\n",
    "    df=df_rumours,\n",
    "    id_column=\"timeline_id\",\n",
    "    label_column=\"label\",\n",
    "    embeddings=sbert_embeddings,\n",
    "    y_data=y_data,\n",
    "    output_dim=output_dim,\n",
    "    hidden_dim_sizes=hidden_dim_sizes,\n",
    "    dropout_rates=dropout_rates,\n",
    "    learning_rates=learning_rates,\n",
    "    use_signatures=True,\n",
    "    seeds=seeds,\n",
    "    loss=loss,\n",
    "    gamma=gamma,\n",
    "    log_signature=True,\n",
    "    dim_reduce_methods=[\"umap\"],\n",
    "    dimension_and_sig_depths=log_signature_dimensions_and_sig_depths,\n",
    "    split_ids=None, #torch.tensor(df_rumours['timeline_id'].astype(int)),\n",
    "    split_indices=split_indices,\n",
    "    k_fold=False,\n",
    "    patience=patience,\n",
    "    validation_metric=validation_metric,\n",
    "    results_output=f\"{output_dir}/ffn_logsignature_umap_focal_{gamma}_kfold.csv\",\n",
    "    verbose=False\n",
    ")"
   ]
  },
  {
   "cell_type": "code",
   "execution_count": 14,
   "metadata": {},
   "outputs": [
    {
     "data": {
      "text/html": [
       "<div>\n",
       "<style scoped>\n",
       "    .dataframe tbody tr th:only-of-type {\n",
       "        vertical-align: middle;\n",
       "    }\n",
       "\n",
       "    .dataframe tbody tr th {\n",
       "        vertical-align: top;\n",
       "    }\n",
       "\n",
       "    .dataframe thead th {\n",
       "        text-align: right;\n",
       "    }\n",
       "</style>\n",
       "<table border=\"1\" class=\"dataframe\">\n",
       "  <thead>\n",
       "    <tr style=\"text-align: right;\">\n",
       "      <th></th>\n",
       "      <th>loss</th>\n",
       "      <th>accuracy</th>\n",
       "      <th>f1</th>\n",
       "      <th>f1_scores</th>\n",
       "      <th>precision</th>\n",
       "      <th>precision_scores</th>\n",
       "      <th>recall</th>\n",
       "      <th>recall_scores</th>\n",
       "      <th>valid_loss</th>\n",
       "      <th>valid_accuracy</th>\n",
       "      <th>...</th>\n",
       "      <th>gamma</th>\n",
       "      <th>k_fold</th>\n",
       "      <th>n_splits</th>\n",
       "      <th>batch_size</th>\n",
       "      <th>model_id</th>\n",
       "      <th>input_dim</th>\n",
       "      <th>dimension</th>\n",
       "      <th>sig_depth</th>\n",
       "      <th>method</th>\n",
       "      <th>log_signature</th>\n",
       "    </tr>\n",
       "  </thead>\n",
       "  <tbody>\n",
       "    <tr>\n",
       "      <th>0</th>\n",
       "      <td>0.285992</td>\n",
       "      <td>0.471878</td>\n",
       "      <td>0.460399</td>\n",
       "      <td>[0.5391014975041597, 0.3816964285714286]</td>\n",
       "      <td>0.463995</td>\n",
       "      <td>[0.49617151607963245, 0.4318181818181818]</td>\n",
       "      <td>0.466082</td>\n",
       "      <td>[0.5901639344262295, 0.342]</td>\n",
       "      <td>0.242133</td>\n",
       "      <td>0.647687</td>\n",
       "      <td>...</td>\n",
       "      <td>2</td>\n",
       "      <td>False</td>\n",
       "      <td>None</td>\n",
       "      <td>64</td>\n",
       "      <td>0.00</td>\n",
       "      <td>790</td>\n",
       "      <td>28</td>\n",
       "      <td>2</td>\n",
       "      <td>umap</td>\n",
       "      <td>True</td>\n",
       "    </tr>\n",
       "    <tr>\n",
       "      <th>0</th>\n",
       "      <td>0.276866</td>\n",
       "      <td>0.457579</td>\n",
       "      <td>0.441867</td>\n",
       "      <td>[0.5355102040816326, 0.34822451317296677]</td>\n",
       "      <td>0.446357</td>\n",
       "      <td>[0.48520710059171596, 0.4075067024128686]</td>\n",
       "      <td>0.450725</td>\n",
       "      <td>[0.5974499089253188, 0.304]</td>\n",
       "      <td>0.256959</td>\n",
       "      <td>0.612100</td>\n",
       "      <td>...</td>\n",
       "      <td>2</td>\n",
       "      <td>False</td>\n",
       "      <td>None</td>\n",
       "      <td>64</td>\n",
       "      <td>0.00</td>\n",
       "      <td>790</td>\n",
       "      <td>28</td>\n",
       "      <td>2</td>\n",
       "      <td>umap</td>\n",
       "      <td>True</td>\n",
       "    </tr>\n",
       "    <tr>\n",
       "      <th>0</th>\n",
       "      <td>0.286557</td>\n",
       "      <td>0.450906</td>\n",
       "      <td>0.441658</td>\n",
       "      <td>[0.5135135135135134, 0.3698030634573304]</td>\n",
       "      <td>0.443476</td>\n",
       "      <td>[0.47874015748031495, 0.4082125603864734]</td>\n",
       "      <td>0.445867</td>\n",
       "      <td>[0.5537340619307832, 0.338]</td>\n",
       "      <td>0.247360</td>\n",
       "      <td>0.594306</td>\n",
       "      <td>...</td>\n",
       "      <td>2</td>\n",
       "      <td>False</td>\n",
       "      <td>None</td>\n",
       "      <td>64</td>\n",
       "      <td>0.00</td>\n",
       "      <td>790</td>\n",
       "      <td>28</td>\n",
       "      <td>2</td>\n",
       "      <td>umap</td>\n",
       "      <td>True</td>\n",
       "    </tr>\n",
       "    <tr>\n",
       "      <th>0</th>\n",
       "      <td>0.277643</td>\n",
       "      <td>0.505243</td>\n",
       "      <td>0.499943</td>\n",
       "      <td>[0.5514261019878999, 0.44845908607863977]</td>\n",
       "      <td>0.501565</td>\n",
       "      <td>[0.524671052631579, 0.47845804988662133]</td>\n",
       "      <td>0.501528</td>\n",
       "      <td>[0.581056466302368, 0.422]</td>\n",
       "      <td>0.247274</td>\n",
       "      <td>0.576512</td>\n",
       "      <td>...</td>\n",
       "      <td>2</td>\n",
       "      <td>False</td>\n",
       "      <td>None</td>\n",
       "      <td>64</td>\n",
       "      <td>0.10</td>\n",
       "      <td>790</td>\n",
       "      <td>28</td>\n",
       "      <td>2</td>\n",
       "      <td>umap</td>\n",
       "      <td>True</td>\n",
       "    </tr>\n",
       "    <tr>\n",
       "      <th>0</th>\n",
       "      <td>0.260591</td>\n",
       "      <td>0.494757</td>\n",
       "      <td>0.477055</td>\n",
       "      <td>[0.573268921095008, 0.3808411214953271]</td>\n",
       "      <td>0.485787</td>\n",
       "      <td>[0.5137085137085137, 0.45786516853932585]</td>\n",
       "      <td>0.487226</td>\n",
       "      <td>[0.6484517304189436, 0.326]</td>\n",
       "      <td>0.241095</td>\n",
       "      <td>0.622776</td>\n",
       "      <td>...</td>\n",
       "      <td>2</td>\n",
       "      <td>False</td>\n",
       "      <td>None</td>\n",
       "      <td>64</td>\n",
       "      <td>0.10</td>\n",
       "      <td>790</td>\n",
       "      <td>28</td>\n",
       "      <td>2</td>\n",
       "      <td>umap</td>\n",
       "      <td>True</td>\n",
       "    </tr>\n",
       "    <tr>\n",
       "      <th>...</th>\n",
       "      <td>...</td>\n",
       "      <td>...</td>\n",
       "      <td>...</td>\n",
       "      <td>...</td>\n",
       "      <td>...</td>\n",
       "      <td>...</td>\n",
       "      <td>...</td>\n",
       "      <td>...</td>\n",
       "      <td>...</td>\n",
       "      <td>...</td>\n",
       "      <td>...</td>\n",
       "      <td>...</td>\n",
       "      <td>...</td>\n",
       "      <td>...</td>\n",
       "      <td>...</td>\n",
       "      <td>...</td>\n",
       "      <td>...</td>\n",
       "      <td>...</td>\n",
       "      <td>...</td>\n",
       "      <td>...</td>\n",
       "      <td>...</td>\n",
       "    </tr>\n",
       "    <tr>\n",
       "      <th>0</th>\n",
       "      <td>0.852361</td>\n",
       "      <td>0.576740</td>\n",
       "      <td>0.576320</td>\n",
       "      <td>[0.589648798521257, 0.562992125984252]</td>\n",
       "      <td>0.576381</td>\n",
       "      <td>[0.5984990619136961, 0.5542635658914729]</td>\n",
       "      <td>0.576528</td>\n",
       "      <td>[0.581056466302368, 0.572]</td>\n",
       "      <td>0.361143</td>\n",
       "      <td>0.537367</td>\n",
       "      <td>...</td>\n",
       "      <td>2</td>\n",
       "      <td>False</td>\n",
       "      <td>None</td>\n",
       "      <td>64</td>\n",
       "      <td>2.22</td>\n",
       "      <td>790</td>\n",
       "      <td>6</td>\n",
       "      <td>4</td>\n",
       "      <td>umap</td>\n",
       "      <td>True</td>\n",
       "    </tr>\n",
       "    <tr>\n",
       "      <th>0</th>\n",
       "      <td>0.504039</td>\n",
       "      <td>0.585319</td>\n",
       "      <td>0.580363</td>\n",
       "      <td>[0.6259673258813414, 0.5347593582887701]</td>\n",
       "      <td>0.583773</td>\n",
       "      <td>[0.5928338762214984, 0.5747126436781609]</td>\n",
       "      <td>0.581512</td>\n",
       "      <td>[0.663023679417122, 0.5]</td>\n",
       "      <td>0.521041</td>\n",
       "      <td>0.530249</td>\n",
       "      <td>...</td>\n",
       "      <td>2</td>\n",
       "      <td>False</td>\n",
       "      <td>None</td>\n",
       "      <td>64</td>\n",
       "      <td>2.22</td>\n",
       "      <td>790</td>\n",
       "      <td>6</td>\n",
       "      <td>4</td>\n",
       "      <td>umap</td>\n",
       "      <td>True</td>\n",
       "    </tr>\n",
       "    <tr>\n",
       "      <th>0</th>\n",
       "      <td>0.390058</td>\n",
       "      <td>0.612011</td>\n",
       "      <td>0.587847</td>\n",
       "      <td>[0.6876438986953185, 0.4880503144654088]</td>\n",
       "      <td>0.625896</td>\n",
       "      <td>[0.5941644562334217, 0.6576271186440678]</td>\n",
       "      <td>0.602015</td>\n",
       "      <td>[0.8160291438979964, 0.388]</td>\n",
       "      <td>0.386084</td>\n",
       "      <td>0.633452</td>\n",
       "      <td>...</td>\n",
       "      <td>2</td>\n",
       "      <td>False</td>\n",
       "      <td>None</td>\n",
       "      <td>64</td>\n",
       "      <td>2.23</td>\n",
       "      <td>790</td>\n",
       "      <td>6</td>\n",
       "      <td>4</td>\n",
       "      <td>umap</td>\n",
       "      <td>True</td>\n",
       "    </tr>\n",
       "    <tr>\n",
       "      <th>0</th>\n",
       "      <td>0.457021</td>\n",
       "      <td>0.609152</td>\n",
       "      <td>0.603881</td>\n",
       "      <td>[0.6495726495726496, 0.5581896551724138]</td>\n",
       "      <td>0.608528</td>\n",
       "      <td>[0.6119162640901772, 0.6051401869158879]</td>\n",
       "      <td>0.605084</td>\n",
       "      <td>[0.692167577413479, 0.518]</td>\n",
       "      <td>0.442493</td>\n",
       "      <td>0.644128</td>\n",
       "      <td>...</td>\n",
       "      <td>2</td>\n",
       "      <td>False</td>\n",
       "      <td>None</td>\n",
       "      <td>64</td>\n",
       "      <td>2.23</td>\n",
       "      <td>790</td>\n",
       "      <td>6</td>\n",
       "      <td>4</td>\n",
       "      <td>umap</td>\n",
       "      <td>True</td>\n",
       "    </tr>\n",
       "    <tr>\n",
       "      <th>0</th>\n",
       "      <td>0.345487</td>\n",
       "      <td>0.653956</td>\n",
       "      <td>0.653709</td>\n",
       "      <td>[0.6444662095984329, 0.6629526462395543]</td>\n",
       "      <td>0.657876</td>\n",
       "      <td>[0.6970338983050848, 0.6187175043327556]</td>\n",
       "      <td>0.656636</td>\n",
       "      <td>[0.599271402550091, 0.714]</td>\n",
       "      <td>0.494448</td>\n",
       "      <td>0.608541</td>\n",
       "      <td>...</td>\n",
       "      <td>2</td>\n",
       "      <td>False</td>\n",
       "      <td>None</td>\n",
       "      <td>64</td>\n",
       "      <td>2.23</td>\n",
       "      <td>790</td>\n",
       "      <td>6</td>\n",
       "      <td>4</td>\n",
       "      <td>umap</td>\n",
       "      <td>True</td>\n",
       "    </tr>\n",
       "  </tbody>\n",
       "</table>\n",
       "<p>216 rows × 31 columns</p>\n",
       "</div>"
      ],
      "text/plain": [
       "        loss  accuracy        f1                                  f1_scores  \\\n",
       "0   0.285992  0.471878  0.460399   [0.5391014975041597, 0.3816964285714286]   \n",
       "0   0.276866  0.457579  0.441867  [0.5355102040816326, 0.34822451317296677]   \n",
       "0   0.286557  0.450906  0.441658   [0.5135135135135134, 0.3698030634573304]   \n",
       "0   0.277643  0.505243  0.499943  [0.5514261019878999, 0.44845908607863977]   \n",
       "0   0.260591  0.494757  0.477055    [0.573268921095008, 0.3808411214953271]   \n",
       "..       ...       ...       ...                                        ...   \n",
       "0   0.852361  0.576740  0.576320     [0.589648798521257, 0.562992125984252]   \n",
       "0   0.504039  0.585319  0.580363   [0.6259673258813414, 0.5347593582887701]   \n",
       "0   0.390058  0.612011  0.587847   [0.6876438986953185, 0.4880503144654088]   \n",
       "0   0.457021  0.609152  0.603881   [0.6495726495726496, 0.5581896551724138]   \n",
       "0   0.345487  0.653956  0.653709   [0.6444662095984329, 0.6629526462395543]   \n",
       "\n",
       "    precision                           precision_scores    recall  \\\n",
       "0    0.463995  [0.49617151607963245, 0.4318181818181818]  0.466082   \n",
       "0    0.446357  [0.48520710059171596, 0.4075067024128686]  0.450725   \n",
       "0    0.443476  [0.47874015748031495, 0.4082125603864734]  0.445867   \n",
       "0    0.501565   [0.524671052631579, 0.47845804988662133]  0.501528   \n",
       "0    0.485787  [0.5137085137085137, 0.45786516853932585]  0.487226   \n",
       "..        ...                                        ...       ...   \n",
       "0    0.576381   [0.5984990619136961, 0.5542635658914729]  0.576528   \n",
       "0    0.583773   [0.5928338762214984, 0.5747126436781609]  0.581512   \n",
       "0    0.625896   [0.5941644562334217, 0.6576271186440678]  0.602015   \n",
       "0    0.608528   [0.6119162640901772, 0.6051401869158879]  0.605084   \n",
       "0    0.657876   [0.6970338983050848, 0.6187175043327556]  0.656636   \n",
       "\n",
       "                  recall_scores  valid_loss  valid_accuracy  ...  gamma  \\\n",
       "0   [0.5901639344262295, 0.342]    0.242133        0.647687  ...      2   \n",
       "0   [0.5974499089253188, 0.304]    0.256959        0.612100  ...      2   \n",
       "0   [0.5537340619307832, 0.338]    0.247360        0.594306  ...      2   \n",
       "0    [0.581056466302368, 0.422]    0.247274        0.576512  ...      2   \n",
       "0   [0.6484517304189436, 0.326]    0.241095        0.622776  ...      2   \n",
       "..                          ...         ...             ...  ...    ...   \n",
       "0    [0.581056466302368, 0.572]    0.361143        0.537367  ...      2   \n",
       "0      [0.663023679417122, 0.5]    0.521041        0.530249  ...      2   \n",
       "0   [0.8160291438979964, 0.388]    0.386084        0.633452  ...      2   \n",
       "0    [0.692167577413479, 0.518]    0.442493        0.644128  ...      2   \n",
       "0    [0.599271402550091, 0.714]    0.494448        0.608541  ...      2   \n",
       "\n",
       "   k_fold  n_splits batch_size  model_id input_dim dimension  sig_depth  \\\n",
       "0   False      None         64      0.00       790        28          2   \n",
       "0   False      None         64      0.00       790        28          2   \n",
       "0   False      None         64      0.00       790        28          2   \n",
       "0   False      None         64      0.10       790        28          2   \n",
       "0   False      None         64      0.10       790        28          2   \n",
       "..    ...       ...        ...       ...       ...       ...        ...   \n",
       "0   False      None         64      2.22       790         6          4   \n",
       "0   False      None         64      2.22       790         6          4   \n",
       "0   False      None         64      2.23       790         6          4   \n",
       "0   False      None         64      2.23       790         6          4   \n",
       "0   False      None         64      2.23       790         6          4   \n",
       "\n",
       "    method  log_signature  \n",
       "0     umap           True  \n",
       "0     umap           True  \n",
       "0     umap           True  \n",
       "0     umap           True  \n",
       "0     umap           True  \n",
       "..     ...            ...  \n",
       "0     umap           True  \n",
       "0     umap           True  \n",
       "0     umap           True  \n",
       "0     umap           True  \n",
       "0     umap           True  \n",
       "\n",
       "[216 rows x 31 columns]"
      ]
     },
     "execution_count": 14,
     "metadata": {},
     "output_type": "execute_result"
    }
   ],
   "source": [
    "ffn_logsignature_umap"
   ]
  },
  {
   "cell_type": "code",
   "execution_count": 15,
   "metadata": {},
   "outputs": [
    {
     "data": {
      "text/html": [
       "<div>\n",
       "<style scoped>\n",
       "    .dataframe tbody tr th:only-of-type {\n",
       "        vertical-align: middle;\n",
       "    }\n",
       "\n",
       "    .dataframe tbody tr th {\n",
       "        vertical-align: top;\n",
       "    }\n",
       "\n",
       "    .dataframe thead th {\n",
       "        text-align: right;\n",
       "    }\n",
       "</style>\n",
       "<table border=\"1\" class=\"dataframe\">\n",
       "  <thead>\n",
       "    <tr style=\"text-align: right;\">\n",
       "      <th></th>\n",
       "      <th>loss</th>\n",
       "      <th>accuracy</th>\n",
       "      <th>f1</th>\n",
       "      <th>f1_scores</th>\n",
       "      <th>precision</th>\n",
       "      <th>precision_scores</th>\n",
       "      <th>recall</th>\n",
       "      <th>recall_scores</th>\n",
       "      <th>valid_loss</th>\n",
       "      <th>valid_accuracy</th>\n",
       "      <th>...</th>\n",
       "      <th>loss_function</th>\n",
       "      <th>gamma</th>\n",
       "      <th>k_fold</th>\n",
       "      <th>n_splits</th>\n",
       "      <th>batch_size</th>\n",
       "      <th>input_dim</th>\n",
       "      <th>dimension</th>\n",
       "      <th>sig_depth</th>\n",
       "      <th>method</th>\n",
       "      <th>log_signature</th>\n",
       "    </tr>\n",
       "  </thead>\n",
       "  <tbody>\n",
       "    <tr>\n",
       "      <th>0</th>\n",
       "      <td>0.289668</td>\n",
       "      <td>0.529075</td>\n",
       "      <td>0.525181</td>\n",
       "      <td>[0.4821802935010482, 0.5681818181818182]</td>\n",
       "      <td>0.536280</td>\n",
       "      <td>[0.5679012345679012, 0.5046583850931677]</td>\n",
       "      <td>0.534472</td>\n",
       "      <td>[0.41894353369763204, 0.65]</td>\n",
       "      <td>0.258047</td>\n",
       "      <td>0.604982</td>\n",
       "      <td>...</td>\n",
       "      <td>focal</td>\n",
       "      <td>2</td>\n",
       "      <td>False</td>\n",
       "      <td>None</td>\n",
       "      <td>64</td>\n",
       "      <td>769</td>\n",
       "      <td>10</td>\n",
       "      <td>3</td>\n",
       "      <td>umap</td>\n",
       "      <td>True</td>\n",
       "    </tr>\n",
       "    <tr>\n",
       "      <th>0</th>\n",
       "      <td>0.337377</td>\n",
       "      <td>0.551954</td>\n",
       "      <td>0.551700</td>\n",
       "      <td>[0.5623836126629422, 0.541015625]</td>\n",
       "      <td>0.551932</td>\n",
       "      <td>[0.5752380952380952, 0.5286259541984732]</td>\n",
       "      <td>0.552046</td>\n",
       "      <td>[0.5500910746812386, 0.554]</td>\n",
       "      <td>0.241171</td>\n",
       "      <td>0.672598</td>\n",
       "      <td>...</td>\n",
       "      <td>focal</td>\n",
       "      <td>2</td>\n",
       "      <td>False</td>\n",
       "      <td>None</td>\n",
       "      <td>64</td>\n",
       "      <td>769</td>\n",
       "      <td>10</td>\n",
       "      <td>3</td>\n",
       "      <td>umap</td>\n",
       "      <td>True</td>\n",
       "    </tr>\n",
       "    <tr>\n",
       "      <th>0</th>\n",
       "      <td>0.340627</td>\n",
       "      <td>0.558627</td>\n",
       "      <td>0.551956</td>\n",
       "      <td>[0.6066270178419712, 0.49728555917481004]</td>\n",
       "      <td>0.556207</td>\n",
       "      <td>[0.5684713375796179, 0.5439429928741093]</td>\n",
       "      <td>0.554137</td>\n",
       "      <td>[0.6502732240437158, 0.458]</td>\n",
       "      <td>0.359628</td>\n",
       "      <td>0.594306</td>\n",
       "      <td>...</td>\n",
       "      <td>focal</td>\n",
       "      <td>2</td>\n",
       "      <td>False</td>\n",
       "      <td>None</td>\n",
       "      <td>64</td>\n",
       "      <td>769</td>\n",
       "      <td>10</td>\n",
       "      <td>3</td>\n",
       "      <td>umap</td>\n",
       "      <td>True</td>\n",
       "    </tr>\n",
       "  </tbody>\n",
       "</table>\n",
       "<p>3 rows × 30 columns</p>\n",
       "</div>"
      ],
      "text/plain": [
       "       loss  accuracy        f1                                  f1_scores  \\\n",
       "0  0.289668  0.529075  0.525181   [0.4821802935010482, 0.5681818181818182]   \n",
       "0  0.337377  0.551954  0.551700          [0.5623836126629422, 0.541015625]   \n",
       "0  0.340627  0.558627  0.551956  [0.6066270178419712, 0.49728555917481004]   \n",
       "\n",
       "   precision                          precision_scores    recall  \\\n",
       "0   0.536280  [0.5679012345679012, 0.5046583850931677]  0.534472   \n",
       "0   0.551932  [0.5752380952380952, 0.5286259541984732]  0.552046   \n",
       "0   0.556207  [0.5684713375796179, 0.5439429928741093]  0.554137   \n",
       "\n",
       "                 recall_scores  valid_loss  valid_accuracy  ...  \\\n",
       "0  [0.41894353369763204, 0.65]    0.258047        0.604982  ...   \n",
       "0  [0.5500910746812386, 0.554]    0.241171        0.672598  ...   \n",
       "0  [0.6502732240437158, 0.458]    0.359628        0.594306  ...   \n",
       "\n",
       "   loss_function gamma  k_fold n_splits  batch_size input_dim dimension  \\\n",
       "0          focal     2   False     None          64       769        10   \n",
       "0          focal     2   False     None          64       769        10   \n",
       "0          focal     2   False     None          64       769        10   \n",
       "\n",
       "   sig_depth  method  log_signature  \n",
       "0          3    umap           True  \n",
       "0          3    umap           True  \n",
       "0          3    umap           True  \n",
       "\n",
       "[3 rows x 30 columns]"
      ]
     },
     "execution_count": 15,
     "metadata": {},
     "output_type": "execute_result"
    }
   ],
   "source": [
    "best_ffn_logsignature_umap"
   ]
  },
  {
   "cell_type": "code",
   "execution_count": 17,
   "metadata": {},
   "outputs": [
    {
     "data": {
      "text/plain": [
       "0.542945654393765"
      ]
     },
     "execution_count": 17,
     "metadata": {},
     "output_type": "execute_result"
    }
   ],
   "source": [
    "best_ffn_logsignature_umap[\"f1\"].mean()"
   ]
  },
  {
   "cell_type": "code",
   "execution_count": 18,
   "metadata": {},
   "outputs": [
    {
     "data": {
      "text/plain": [
       "0.5481396665918942"
      ]
     },
     "execution_count": 18,
     "metadata": {},
     "output_type": "execute_result"
    }
   ],
   "source": [
    "best_ffn_logsignature_umap[\"precision\"].mean()"
   ]
  },
  {
   "cell_type": "code",
   "execution_count": 19,
   "metadata": {},
   "outputs": [
    {
     "data": {
      "text/plain": [
       "0.5468846387370978"
      ]
     },
     "execution_count": 19,
     "metadata": {},
     "output_type": "execute_result"
    }
   ],
   "source": [
    "best_ffn_logsignature_umap[\"recall\"].mean()"
   ]
  },
  {
   "cell_type": "code",
   "execution_count": 20,
   "metadata": {},
   "outputs": [
    {
     "data": {
      "text/plain": [
       "array([0.55039697, 0.53549433])"
      ]
     },
     "execution_count": 20,
     "metadata": {},
     "output_type": "execute_result"
    }
   ],
   "source": [
    "np.stack(best_ffn_logsignature_umap[\"f1_scores\"]).mean(axis=0)"
   ]
  },
  {
   "cell_type": "code",
   "execution_count": 21,
   "metadata": {},
   "outputs": [
    {
     "data": {
      "text/plain": [
       "array([0.57053689, 0.52574244])"
      ]
     },
     "execution_count": 21,
     "metadata": {},
     "output_type": "execute_result"
    }
   ],
   "source": [
    "np.stack(best_ffn_logsignature_umap[\"precision_scores\"]).mean(axis=0)"
   ]
  },
  {
   "cell_type": "code",
   "execution_count": 22,
   "metadata": {},
   "outputs": [
    {
     "data": {
      "text/plain": [
       "array([0.53976928, 0.554     ])"
      ]
     },
     "execution_count": 22,
     "metadata": {},
     "output_type": "execute_result"
    }
   ],
   "source": [
    "np.stack(best_ffn_logsignature_umap[\"recall_scores\"]).mean(axis=0)"
   ]
  },
  {
   "cell_type": "markdown",
   "metadata": {},
   "source": [
    "## GRP"
   ]
  },
  {
   "cell_type": "code",
   "execution_count": 23,
   "metadata": {},
   "outputs": [
    {
     "data": {
      "application/vnd.jupyter.widget-view+json": {
       "model_id": "6e318408dc9a4ec1b2186b83693f702a",
       "version_major": 2,
       "version_minor": 0
      },
      "text/plain": [
       "  0%|          | 0/3 [00:00<?, ?it/s]"
      ]
     },
     "metadata": {},
     "output_type": "display_data"
    },
    {
     "data": {
      "application/vnd.jupyter.widget-view+json": {
       "model_id": "9e13c10774ef4bccb42eebbae21c9388",
       "version_major": 2,
       "version_minor": 0
      },
      "text/plain": [
       "  0%|          | 0/1 [00:00<?, ?it/s]"
      ]
     },
     "metadata": {},
     "output_type": "display_data"
    },
    {
     "name": "stdout",
     "output_type": "stream",
     "text": [
      "[INFO] Concatenating the embeddings to the dataframe...\n",
      "[INFO] - columns beginning with 'e' denote the full embddings.\n",
      "[INFO] - columns beginning with 'd' denote the dimension reduced embeddings.\n",
      "[INFO] Adding time feature columns into dataframe in `.df`.\n",
      "[INFO] Adding 'time_encoding' feature...\n",
      "[INFO] Adding 'time_diff' feature...\n",
      "[INFO] Adding 'timeline_index' feature...\n",
      "[INFO] Padding ids and storing in `.df_padded` and `.array_padded` attributes.\n"
     ]
    },
    {
     "data": {
      "application/vnd.jupyter.widget-view+json": {
       "model_id": "d3a3a6aaf7ef42a4adaf08c0497fefc9",
       "version_major": 2,
       "version_minor": 0
      },
      "text/plain": [
       "  0%|          | 0/5568 [00:00<?, ?it/s]"
      ]
     },
     "metadata": {},
     "output_type": "display_data"
    },
    {
     "data": {
      "application/vnd.jupyter.widget-view+json": {
       "model_id": "7ced3867e1434c00b5734e8371ccf763",
       "version_major": 2,
       "version_minor": 0
      },
      "text/plain": [
       "  0%|          | 0/4 [00:00<?, ?it/s]"
      ]
     },
     "metadata": {},
     "output_type": "display_data"
    },
    {
     "data": {
      "application/vnd.jupyter.widget-view+json": {
       "model_id": "9f8d36d9c4d04dd3ad5a459121176c07",
       "version_major": 2,
       "version_minor": 0
      },
      "text/plain": [
       "  0%|          | 0/2 [00:00<?, ?it/s]"
      ]
     },
     "metadata": {},
     "output_type": "display_data"
    },
    {
     "data": {
      "application/vnd.jupyter.widget-view+json": {
       "model_id": "23c5a03405984000a525076f802df7d8",
       "version_major": 2,
       "version_minor": 0
      },
      "text/plain": [
       "  0%|          | 0/3 [00:00<?, ?it/s]"
      ]
     },
     "metadata": {},
     "output_type": "display_data"
    },
    {
     "data": {
      "application/vnd.jupyter.widget-view+json": {
       "model_id": "25bb2e303ee9456594dd8856f2df007a",
       "version_major": 2,
       "version_minor": 0
      },
      "text/plain": [
       "  0%|          | 0/3 [00:00<?, ?it/s]"
      ]
     },
     "metadata": {},
     "output_type": "display_data"
    },
    {
     "data": {
      "application/vnd.jupyter.widget-view+json": {
       "model_id": "443c6f3fc8ac482b9a94b0f28ea14739",
       "version_major": 2,
       "version_minor": 0
      },
      "text/plain": [
       "  0%|          | 0/2 [00:00<?, ?it/s]"
      ]
     },
     "metadata": {},
     "output_type": "display_data"
    },
    {
     "data": {
      "application/vnd.jupyter.widget-view+json": {
       "model_id": "ff15fa26411642ffaf2331463037a390",
       "version_major": 2,
       "version_minor": 0
      },
      "text/plain": [
       "  0%|          | 0/3 [00:00<?, ?it/s]"
      ]
     },
     "metadata": {},
     "output_type": "display_data"
    },
    {
     "data": {
      "application/vnd.jupyter.widget-view+json": {
       "model_id": "e945e7d2d2a346fa8b8f2ca3a6706ed7",
       "version_major": 2,
       "version_minor": 0
      },
      "text/plain": [
       "  0%|          | 0/3 [00:00<?, ?it/s]"
      ]
     },
     "metadata": {},
     "output_type": "display_data"
    },
    {
     "data": {
      "application/vnd.jupyter.widget-view+json": {
       "model_id": "393ac5f02b0e4c1e89db20f959f9cb1a",
       "version_major": 2,
       "version_minor": 0
      },
      "text/plain": [
       "  0%|          | 0/2 [00:00<?, ?it/s]"
      ]
     },
     "metadata": {},
     "output_type": "display_data"
    },
    {
     "data": {
      "application/vnd.jupyter.widget-view+json": {
       "model_id": "75ec70c85509477f9bc7ec7ed43f25f1",
       "version_major": 2,
       "version_minor": 0
      },
      "text/plain": [
       "  0%|          | 0/3 [00:00<?, ?it/s]"
      ]
     },
     "metadata": {},
     "output_type": "display_data"
    },
    {
     "data": {
      "application/vnd.jupyter.widget-view+json": {
       "model_id": "6c0d6f0db2994b8caac40cc1b0ece7a6",
       "version_major": 2,
       "version_minor": 0
      },
      "text/plain": [
       "  0%|          | 0/3 [00:00<?, ?it/s]"
      ]
     },
     "metadata": {},
     "output_type": "display_data"
    },
    {
     "data": {
      "application/vnd.jupyter.widget-view+json": {
       "model_id": "89959590518342b19b1f489d99c90c6c",
       "version_major": 2,
       "version_minor": 0
      },
      "text/plain": [
       "  0%|          | 0/2 [00:00<?, ?it/s]"
      ]
     },
     "metadata": {},
     "output_type": "display_data"
    },
    {
     "data": {
      "application/vnd.jupyter.widget-view+json": {
       "model_id": "1ebf2fcc7f8c4703bd6188ae7d473c8e",
       "version_major": 2,
       "version_minor": 0
      },
      "text/plain": [
       "  0%|          | 0/3 [00:00<?, ?it/s]"
      ]
     },
     "metadata": {},
     "output_type": "display_data"
    },
    {
     "data": {
      "application/vnd.jupyter.widget-view+json": {
       "model_id": "1afaeca17cb044b298c820b4464811a0",
       "version_major": 2,
       "version_minor": 0
      },
      "text/plain": [
       "  0%|          | 0/3 [00:00<?, ?it/s]"
      ]
     },
     "metadata": {},
     "output_type": "display_data"
    },
    {
     "data": {
      "application/vnd.jupyter.widget-view+json": {
       "model_id": "2c1bf2fb029148ceabda8246ab699b59",
       "version_major": 2,
       "version_minor": 0
      },
      "text/plain": [
       "  0%|          | 0/1 [00:00<?, ?it/s]"
      ]
     },
     "metadata": {},
     "output_type": "display_data"
    },
    {
     "name": "stdout",
     "output_type": "stream",
     "text": [
      "[INFO] Concatenating the embeddings to the dataframe...\n",
      "[INFO] - columns beginning with 'e' denote the full embddings.\n",
      "[INFO] - columns beginning with 'd' denote the dimension reduced embeddings.\n",
      "[INFO] Adding time feature columns into dataframe in `.df`.\n",
      "[INFO] Adding 'time_encoding' feature...\n",
      "[INFO] Adding 'time_diff' feature...\n",
      "[INFO] Adding 'timeline_index' feature...\n",
      "[INFO] Padding ids and storing in `.df_padded` and `.array_padded` attributes.\n"
     ]
    },
    {
     "data": {
      "application/vnd.jupyter.widget-view+json": {
       "model_id": "a26ef9c8dff340808e66dbfb5204cbb9",
       "version_major": 2,
       "version_minor": 0
      },
      "text/plain": [
       "  0%|          | 0/5568 [00:00<?, ?it/s]"
      ]
     },
     "metadata": {},
     "output_type": "display_data"
    },
    {
     "data": {
      "application/vnd.jupyter.widget-view+json": {
       "model_id": "456d5dc459f94a038b20b8037e49117e",
       "version_major": 2,
       "version_minor": 0
      },
      "text/plain": [
       "  0%|          | 0/4 [00:00<?, ?it/s]"
      ]
     },
     "metadata": {},
     "output_type": "display_data"
    },
    {
     "data": {
      "application/vnd.jupyter.widget-view+json": {
       "model_id": "0ee604630ad44039829285fdd7c887e9",
       "version_major": 2,
       "version_minor": 0
      },
      "text/plain": [
       "  0%|          | 0/2 [00:00<?, ?it/s]"
      ]
     },
     "metadata": {},
     "output_type": "display_data"
    },
    {
     "data": {
      "application/vnd.jupyter.widget-view+json": {
       "model_id": "5593f032c9394d109dc12e656ed92846",
       "version_major": 2,
       "version_minor": 0
      },
      "text/plain": [
       "  0%|          | 0/3 [00:00<?, ?it/s]"
      ]
     },
     "metadata": {},
     "output_type": "display_data"
    },
    {
     "data": {
      "application/vnd.jupyter.widget-view+json": {
       "model_id": "c362de56363b4c8a927b3ac8d68a8998",
       "version_major": 2,
       "version_minor": 0
      },
      "text/plain": [
       "  0%|          | 0/3 [00:00<?, ?it/s]"
      ]
     },
     "metadata": {},
     "output_type": "display_data"
    },
    {
     "data": {
      "application/vnd.jupyter.widget-view+json": {
       "model_id": "4af8f0f8283d4467ba5b7586be3ab8e4",
       "version_major": 2,
       "version_minor": 0
      },
      "text/plain": [
       "  0%|          | 0/2 [00:00<?, ?it/s]"
      ]
     },
     "metadata": {},
     "output_type": "display_data"
    },
    {
     "data": {
      "application/vnd.jupyter.widget-view+json": {
       "model_id": "6a041f780cbb4b27a7191e21388c558d",
       "version_major": 2,
       "version_minor": 0
      },
      "text/plain": [
       "  0%|          | 0/3 [00:00<?, ?it/s]"
      ]
     },
     "metadata": {},
     "output_type": "display_data"
    },
    {
     "data": {
      "application/vnd.jupyter.widget-view+json": {
       "model_id": "cf84e38127724884863ca117c955e54f",
       "version_major": 2,
       "version_minor": 0
      },
      "text/plain": [
       "  0%|          | 0/3 [00:00<?, ?it/s]"
      ]
     },
     "metadata": {},
     "output_type": "display_data"
    },
    {
     "data": {
      "application/vnd.jupyter.widget-view+json": {
       "model_id": "1dc91a5088af4be5ba7669da57a9c3bf",
       "version_major": 2,
       "version_minor": 0
      },
      "text/plain": [
       "  0%|          | 0/2 [00:00<?, ?it/s]"
      ]
     },
     "metadata": {},
     "output_type": "display_data"
    },
    {
     "data": {
      "application/vnd.jupyter.widget-view+json": {
       "model_id": "8616e95c7e9c45078f59860884bc7d83",
       "version_major": 2,
       "version_minor": 0
      },
      "text/plain": [
       "  0%|          | 0/3 [00:00<?, ?it/s]"
      ]
     },
     "metadata": {},
     "output_type": "display_data"
    },
    {
     "data": {
      "application/vnd.jupyter.widget-view+json": {
       "model_id": "75c24b8a2cb642cc87b53d934790bdf5",
       "version_major": 2,
       "version_minor": 0
      },
      "text/plain": [
       "  0%|          | 0/3 [00:00<?, ?it/s]"
      ]
     },
     "metadata": {},
     "output_type": "display_data"
    },
    {
     "data": {
      "application/vnd.jupyter.widget-view+json": {
       "model_id": "c5121d57117b4336a945eeaed9605450",
       "version_major": 2,
       "version_minor": 0
      },
      "text/plain": [
       "  0%|          | 0/2 [00:00<?, ?it/s]"
      ]
     },
     "metadata": {},
     "output_type": "display_data"
    },
    {
     "data": {
      "application/vnd.jupyter.widget-view+json": {
       "model_id": "31a740426f4b4c36b38edb2af9237180",
       "version_major": 2,
       "version_minor": 0
      },
      "text/plain": [
       "  0%|          | 0/3 [00:00<?, ?it/s]"
      ]
     },
     "metadata": {},
     "output_type": "display_data"
    },
    {
     "data": {
      "application/vnd.jupyter.widget-view+json": {
       "model_id": "1ab9ce9e2e864d1ca783fe475715eafb",
       "version_major": 2,
       "version_minor": 0
      },
      "text/plain": [
       "  0%|          | 0/3 [00:00<?, ?it/s]"
      ]
     },
     "metadata": {},
     "output_type": "display_data"
    },
    {
     "data": {
      "application/vnd.jupyter.widget-view+json": {
       "model_id": "eecf980556604f6b8b44a67d92fcbcd5",
       "version_major": 2,
       "version_minor": 0
      },
      "text/plain": [
       "  0%|          | 0/1 [00:00<?, ?it/s]"
      ]
     },
     "metadata": {},
     "output_type": "display_data"
    },
    {
     "name": "stdout",
     "output_type": "stream",
     "text": [
      "[INFO] Concatenating the embeddings to the dataframe...\n",
      "[INFO] - columns beginning with 'e' denote the full embddings.\n",
      "[INFO] - columns beginning with 'd' denote the dimension reduced embeddings.\n",
      "[INFO] Adding time feature columns into dataframe in `.df`.\n",
      "[INFO] Adding 'time_encoding' feature...\n",
      "[INFO] Adding 'time_diff' feature...\n",
      "[INFO] Adding 'timeline_index' feature...\n",
      "[INFO] Padding ids and storing in `.df_padded` and `.array_padded` attributes.\n"
     ]
    },
    {
     "data": {
      "application/vnd.jupyter.widget-view+json": {
       "model_id": "7508405433104fbda3a3912ad77cbfa7",
       "version_major": 2,
       "version_minor": 0
      },
      "text/plain": [
       "  0%|          | 0/5568 [00:00<?, ?it/s]"
      ]
     },
     "metadata": {},
     "output_type": "display_data"
    },
    {
     "data": {
      "application/vnd.jupyter.widget-view+json": {
       "model_id": "fa18230da36d4384a01430a7c4f42e80",
       "version_major": 2,
       "version_minor": 0
      },
      "text/plain": [
       "  0%|          | 0/4 [00:00<?, ?it/s]"
      ]
     },
     "metadata": {},
     "output_type": "display_data"
    },
    {
     "data": {
      "application/vnd.jupyter.widget-view+json": {
       "model_id": "a2bf43c5b63a4a5f8ad3e49bb2692442",
       "version_major": 2,
       "version_minor": 0
      },
      "text/plain": [
       "  0%|          | 0/2 [00:00<?, ?it/s]"
      ]
     },
     "metadata": {},
     "output_type": "display_data"
    },
    {
     "data": {
      "application/vnd.jupyter.widget-view+json": {
       "model_id": "8eafb965ca2c4655b54bbde6f50c3bfd",
       "version_major": 2,
       "version_minor": 0
      },
      "text/plain": [
       "  0%|          | 0/3 [00:00<?, ?it/s]"
      ]
     },
     "metadata": {},
     "output_type": "display_data"
    },
    {
     "data": {
      "application/vnd.jupyter.widget-view+json": {
       "model_id": "ccf2671f144c4c7f987154e948ed413a",
       "version_major": 2,
       "version_minor": 0
      },
      "text/plain": [
       "  0%|          | 0/3 [00:00<?, ?it/s]"
      ]
     },
     "metadata": {},
     "output_type": "display_data"
    },
    {
     "data": {
      "application/vnd.jupyter.widget-view+json": {
       "model_id": "7533f51def934ac1a01a0c0eea021604",
       "version_major": 2,
       "version_minor": 0
      },
      "text/plain": [
       "  0%|          | 0/2 [00:00<?, ?it/s]"
      ]
     },
     "metadata": {},
     "output_type": "display_data"
    },
    {
     "data": {
      "application/vnd.jupyter.widget-view+json": {
       "model_id": "e1f3a73b1d9d4f0eb18fcb10810bbf25",
       "version_major": 2,
       "version_minor": 0
      },
      "text/plain": [
       "  0%|          | 0/3 [00:00<?, ?it/s]"
      ]
     },
     "metadata": {},
     "output_type": "display_data"
    },
    {
     "data": {
      "application/vnd.jupyter.widget-view+json": {
       "model_id": "ac4d4adb916647b19f431f99e3128a5f",
       "version_major": 2,
       "version_minor": 0
      },
      "text/plain": [
       "  0%|          | 0/3 [00:00<?, ?it/s]"
      ]
     },
     "metadata": {},
     "output_type": "display_data"
    },
    {
     "data": {
      "application/vnd.jupyter.widget-view+json": {
       "model_id": "97b488189bff4586812996e9807a69c3",
       "version_major": 2,
       "version_minor": 0
      },
      "text/plain": [
       "  0%|          | 0/2 [00:00<?, ?it/s]"
      ]
     },
     "metadata": {},
     "output_type": "display_data"
    },
    {
     "data": {
      "application/vnd.jupyter.widget-view+json": {
       "model_id": "4e84e8e372f8466fac8f319b9553a6aa",
       "version_major": 2,
       "version_minor": 0
      },
      "text/plain": [
       "  0%|          | 0/3 [00:00<?, ?it/s]"
      ]
     },
     "metadata": {},
     "output_type": "display_data"
    },
    {
     "data": {
      "application/vnd.jupyter.widget-view+json": {
       "model_id": "51cf1069d59848c79c7ae7b9d5d18ecd",
       "version_major": 2,
       "version_minor": 0
      },
      "text/plain": [
       "  0%|          | 0/3 [00:00<?, ?it/s]"
      ]
     },
     "metadata": {},
     "output_type": "display_data"
    },
    {
     "data": {
      "application/vnd.jupyter.widget-view+json": {
       "model_id": "2bd20d0e770944409a6c045a0f6cb66c",
       "version_major": 2,
       "version_minor": 0
      },
      "text/plain": [
       "  0%|          | 0/2 [00:00<?, ?it/s]"
      ]
     },
     "metadata": {},
     "output_type": "display_data"
    },
    {
     "data": {
      "application/vnd.jupyter.widget-view+json": {
       "model_id": "f353fab082f4466eb0ff6a7f1b32d37b",
       "version_major": 2,
       "version_minor": 0
      },
      "text/plain": [
       "  0%|          | 0/3 [00:00<?, ?it/s]"
      ]
     },
     "metadata": {},
     "output_type": "display_data"
    },
    {
     "data": {
      "application/vnd.jupyter.widget-view+json": {
       "model_id": "a820a397bff646ef92dc05c5c6d62b21",
       "version_major": 2,
       "version_minor": 0
      },
      "text/plain": [
       "  0%|          | 0/3 [00:00<?, ?it/s]"
      ]
     },
     "metadata": {},
     "output_type": "display_data"
    },
    {
     "name": "stdout",
     "output_type": "stream",
     "text": [
      "[INFO] Concatenating the embeddings to the dataframe...\n",
      "[INFO] - columns beginning with 'e' denote the full embddings.\n",
      "[INFO] - columns beginning with 'd' denote the dimension reduced embeddings.\n",
      "[INFO] Adding time feature columns into dataframe in `.df`.\n",
      "[INFO] Adding 'time_encoding' feature...\n",
      "[INFO] Adding 'time_diff' feature...\n",
      "[INFO] Adding 'timeline_index' feature...\n",
      "[INFO] Padding ids and storing in `.df_padded` and `.array_padded` attributes.\n"
     ]
    },
    {
     "data": {
      "application/vnd.jupyter.widget-view+json": {
       "model_id": "f98b0f6acbbe49b7b7d2155353a05726",
       "version_major": 2,
       "version_minor": 0
      },
      "text/plain": [
       "  0%|          | 0/5568 [00:00<?, ?it/s]"
      ]
     },
     "metadata": {},
     "output_type": "display_data"
    },
    {
     "name": "stdout",
     "output_type": "stream",
     "text": [
      "saving results dataframe to CSV for this hyperparameter search in rumours_output/ffn_logsignature_grp_focal_2_kfold.csv\n",
      "saving the best model results dataframe to CSV for this hyperparameter search in rumours_output/ffn_logsignature_grp_focal_2_kfold_best_model.csv\n"
     ]
    }
   ],
   "source": [
    "ffn_logsignature_grp, best_ffn_logsignature_grp, _, __ = histories_baseline_hyperparameter_search(\n",
    "    num_epochs=num_epochs,\n",
    "    df=df_rumours,\n",
    "    id_column=\"timeline_id\",\n",
    "    label_column=\"label\",\n",
    "    embeddings=sbert_embeddings,\n",
    "    y_data=y_data,\n",
    "    output_dim=output_dim,\n",
    "    hidden_dim_sizes=hidden_dim_sizes,\n",
    "    dropout_rates=dropout_rates,\n",
    "    learning_rates=learning_rates,\n",
    "    use_signatures=True,\n",
    "    seeds=seeds,\n",
    "    loss=loss,\n",
    "    gamma=gamma,\n",
    "    log_signature=True,\n",
    "    dim_reduce_methods=[\"gaussian_random_projection\"],\n",
    "    dimension_and_sig_depths=log_signature_dimensions_and_sig_depths,\n",
    "    split_ids=None, #torch.tensor(df_rumours['timeline_id'].astype(int)),\n",
    "    split_indices=split_indices,\n",
    "    k_fold=False,\n",
    "    patience=patience,\n",
    "    validation_metric=validation_metric,\n",
    "    results_output=f\"{output_dir}/ffn_logsignature_grp_focal_{gamma}_kfold.csv\",\n",
    "    verbose=False\n",
    ")"
   ]
  },
  {
   "cell_type": "code",
   "execution_count": 24,
   "metadata": {},
   "outputs": [
    {
     "data": {
      "text/html": [
       "<div>\n",
       "<style scoped>\n",
       "    .dataframe tbody tr th:only-of-type {\n",
       "        vertical-align: middle;\n",
       "    }\n",
       "\n",
       "    .dataframe tbody tr th {\n",
       "        vertical-align: top;\n",
       "    }\n",
       "\n",
       "    .dataframe thead th {\n",
       "        text-align: right;\n",
       "    }\n",
       "</style>\n",
       "<table border=\"1\" class=\"dataframe\">\n",
       "  <thead>\n",
       "    <tr style=\"text-align: right;\">\n",
       "      <th></th>\n",
       "      <th>loss</th>\n",
       "      <th>accuracy</th>\n",
       "      <th>f1</th>\n",
       "      <th>f1_scores</th>\n",
       "      <th>precision</th>\n",
       "      <th>precision_scores</th>\n",
       "      <th>recall</th>\n",
       "      <th>recall_scores</th>\n",
       "      <th>valid_loss</th>\n",
       "      <th>valid_accuracy</th>\n",
       "      <th>...</th>\n",
       "      <th>gamma</th>\n",
       "      <th>k_fold</th>\n",
       "      <th>n_splits</th>\n",
       "      <th>batch_size</th>\n",
       "      <th>model_id</th>\n",
       "      <th>input_dim</th>\n",
       "      <th>dimension</th>\n",
       "      <th>sig_depth</th>\n",
       "      <th>method</th>\n",
       "      <th>log_signature</th>\n",
       "    </tr>\n",
       "  </thead>\n",
       "  <tbody>\n",
       "    <tr>\n",
       "      <th>0</th>\n",
       "      <td>0.950020</td>\n",
       "      <td>0.597712</td>\n",
       "      <td>0.595964</td>\n",
       "      <td>[0.6225402504472273, 0.5693877551020409]</td>\n",
       "      <td>0.596425</td>\n",
       "      <td>[0.6115992970123023, 0.58125]</td>\n",
       "      <td>0.595940</td>\n",
       "      <td>[0.6338797814207651, 0.558]</td>\n",
       "      <td>0.473022</td>\n",
       "      <td>0.608541</td>\n",
       "      <td>...</td>\n",
       "      <td>2</td>\n",
       "      <td>False</td>\n",
       "      <td>None</td>\n",
       "      <td>64</td>\n",
       "      <td>0.00</td>\n",
       "      <td>790</td>\n",
       "      <td>28</td>\n",
       "      <td>2</td>\n",
       "      <td>gaussian_random_projection</td>\n",
       "      <td>True</td>\n",
       "    </tr>\n",
       "    <tr>\n",
       "      <th>0</th>\n",
       "      <td>0.429582</td>\n",
       "      <td>0.587226</td>\n",
       "      <td>0.583128</td>\n",
       "      <td>[0.6244579358196011, 0.5417989417989418]</td>\n",
       "      <td>0.585654</td>\n",
       "      <td>[0.5960264900662252, 0.5752808988764045]</td>\n",
       "      <td>0.583869</td>\n",
       "      <td>[0.6557377049180327, 0.512]</td>\n",
       "      <td>0.297929</td>\n",
       "      <td>0.572954</td>\n",
       "      <td>...</td>\n",
       "      <td>2</td>\n",
       "      <td>False</td>\n",
       "      <td>None</td>\n",
       "      <td>64</td>\n",
       "      <td>0.00</td>\n",
       "      <td>790</td>\n",
       "      <td>28</td>\n",
       "      <td>2</td>\n",
       "      <td>gaussian_random_projection</td>\n",
       "      <td>True</td>\n",
       "    </tr>\n",
       "    <tr>\n",
       "      <th>0</th>\n",
       "      <td>0.336393</td>\n",
       "      <td>0.581506</td>\n",
       "      <td>0.577668</td>\n",
       "      <td>[0.6179286335944301, 0.5374077976817704]</td>\n",
       "      <td>0.579798</td>\n",
       "      <td>[0.5916666666666667, 0.5679287305122495]</td>\n",
       "      <td>0.578315</td>\n",
       "      <td>[0.6466302367941712, 0.51]</td>\n",
       "      <td>0.276014</td>\n",
       "      <td>0.569395</td>\n",
       "      <td>...</td>\n",
       "      <td>2</td>\n",
       "      <td>False</td>\n",
       "      <td>None</td>\n",
       "      <td>64</td>\n",
       "      <td>0.00</td>\n",
       "      <td>790</td>\n",
       "      <td>28</td>\n",
       "      <td>2</td>\n",
       "      <td>gaussian_random_projection</td>\n",
       "      <td>True</td>\n",
       "    </tr>\n",
       "    <tr>\n",
       "      <th>0</th>\n",
       "      <td>0.318603</td>\n",
       "      <td>0.571973</td>\n",
       "      <td>0.562293</td>\n",
       "      <td>[0.6273858921161826, 0.49720044792833157]</td>\n",
       "      <td>0.570553</td>\n",
       "      <td>[0.5762195121951219, 0.5648854961832062]</td>\n",
       "      <td>0.566262</td>\n",
       "      <td>[0.6885245901639344, 0.444]</td>\n",
       "      <td>0.263374</td>\n",
       "      <td>0.572954</td>\n",
       "      <td>...</td>\n",
       "      <td>2</td>\n",
       "      <td>False</td>\n",
       "      <td>None</td>\n",
       "      <td>64</td>\n",
       "      <td>0.10</td>\n",
       "      <td>790</td>\n",
       "      <td>28</td>\n",
       "      <td>2</td>\n",
       "      <td>gaussian_random_projection</td>\n",
       "      <td>True</td>\n",
       "    </tr>\n",
       "    <tr>\n",
       "      <th>0</th>\n",
       "      <td>0.319115</td>\n",
       "      <td>0.560534</td>\n",
       "      <td>0.548392</td>\n",
       "      <td>[0.6224406224406224, 0.47434435575826683]</td>\n",
       "      <td>0.558600</td>\n",
       "      <td>[0.5654761904761905, 0.5517241379310345]</td>\n",
       "      <td>0.554084</td>\n",
       "      <td>[0.692167577413479, 0.416]</td>\n",
       "      <td>0.260728</td>\n",
       "      <td>0.572954</td>\n",
       "      <td>...</td>\n",
       "      <td>2</td>\n",
       "      <td>False</td>\n",
       "      <td>None</td>\n",
       "      <td>64</td>\n",
       "      <td>0.10</td>\n",
       "      <td>790</td>\n",
       "      <td>28</td>\n",
       "      <td>2</td>\n",
       "      <td>gaussian_random_projection</td>\n",
       "      <td>True</td>\n",
       "    </tr>\n",
       "    <tr>\n",
       "      <th>...</th>\n",
       "      <td>...</td>\n",
       "      <td>...</td>\n",
       "      <td>...</td>\n",
       "      <td>...</td>\n",
       "      <td>...</td>\n",
       "      <td>...</td>\n",
       "      <td>...</td>\n",
       "      <td>...</td>\n",
       "      <td>...</td>\n",
       "      <td>...</td>\n",
       "      <td>...</td>\n",
       "      <td>...</td>\n",
       "      <td>...</td>\n",
       "      <td>...</td>\n",
       "      <td>...</td>\n",
       "      <td>...</td>\n",
       "      <td>...</td>\n",
       "      <td>...</td>\n",
       "      <td>...</td>\n",
       "      <td>...</td>\n",
       "      <td>...</td>\n",
       "    </tr>\n",
       "    <tr>\n",
       "      <th>0</th>\n",
       "      <td>0.368884</td>\n",
       "      <td>0.597712</td>\n",
       "      <td>0.596603</td>\n",
       "      <td>[0.5754527162977867, 0.6177536231884059]</td>\n",
       "      <td>0.603633</td>\n",
       "      <td>[0.6426966292134831, 0.5645695364238411]</td>\n",
       "      <td>0.601474</td>\n",
       "      <td>[0.5209471766848816, 0.682]</td>\n",
       "      <td>0.248410</td>\n",
       "      <td>0.661922</td>\n",
       "      <td>...</td>\n",
       "      <td>2</td>\n",
       "      <td>False</td>\n",
       "      <td>None</td>\n",
       "      <td>64</td>\n",
       "      <td>2.22</td>\n",
       "      <td>790</td>\n",
       "      <td>6</td>\n",
       "      <td>4</td>\n",
       "      <td>gaussian_random_projection</td>\n",
       "      <td>True</td>\n",
       "    </tr>\n",
       "    <tr>\n",
       "      <th>0</th>\n",
       "      <td>0.291343</td>\n",
       "      <td>0.597712</td>\n",
       "      <td>0.595178</td>\n",
       "      <td>[0.6272084805653709, 0.5631469979296067]</td>\n",
       "      <td>0.596305</td>\n",
       "      <td>[0.6089193825042881, 0.5836909871244635]</td>\n",
       "      <td>0.595315</td>\n",
       "      <td>[0.6466302367941712, 0.544]</td>\n",
       "      <td>0.227605</td>\n",
       "      <td>0.683274</td>\n",
       "      <td>...</td>\n",
       "      <td>2</td>\n",
       "      <td>False</td>\n",
       "      <td>None</td>\n",
       "      <td>64</td>\n",
       "      <td>2.22</td>\n",
       "      <td>790</td>\n",
       "      <td>6</td>\n",
       "      <td>4</td>\n",
       "      <td>gaussian_random_projection</td>\n",
       "      <td>True</td>\n",
       "    </tr>\n",
       "    <tr>\n",
       "      <th>0</th>\n",
       "      <td>0.280386</td>\n",
       "      <td>0.626311</td>\n",
       "      <td>0.624780</td>\n",
       "      <td>[0.6008146639511203, 0.6487455197132616]</td>\n",
       "      <td>0.634478</td>\n",
       "      <td>[0.6812933025404158, 0.5876623376623377]</td>\n",
       "      <td>0.630670</td>\n",
       "      <td>[0.5373406193078324, 0.724]</td>\n",
       "      <td>0.248542</td>\n",
       "      <td>0.654804</td>\n",
       "      <td>...</td>\n",
       "      <td>2</td>\n",
       "      <td>False</td>\n",
       "      <td>None</td>\n",
       "      <td>64</td>\n",
       "      <td>2.23</td>\n",
       "      <td>790</td>\n",
       "      <td>6</td>\n",
       "      <td>4</td>\n",
       "      <td>gaussian_random_projection</td>\n",
       "      <td>True</td>\n",
       "    </tr>\n",
       "    <tr>\n",
       "      <th>0</th>\n",
       "      <td>0.418444</td>\n",
       "      <td>0.579600</td>\n",
       "      <td>0.578564</td>\n",
       "      <td>[0.5576730190571715, 0.5994550408719346]</td>\n",
       "      <td>0.584810</td>\n",
       "      <td>[0.6205357142857143, 0.5490848585690515]</td>\n",
       "      <td>0.583188</td>\n",
       "      <td>[0.5063752276867031, 0.66]</td>\n",
       "      <td>0.267180</td>\n",
       "      <td>0.629893</td>\n",
       "      <td>...</td>\n",
       "      <td>2</td>\n",
       "      <td>False</td>\n",
       "      <td>None</td>\n",
       "      <td>64</td>\n",
       "      <td>2.23</td>\n",
       "      <td>790</td>\n",
       "      <td>6</td>\n",
       "      <td>4</td>\n",
       "      <td>gaussian_random_projection</td>\n",
       "      <td>True</td>\n",
       "    </tr>\n",
       "    <tr>\n",
       "      <th>0</th>\n",
       "      <td>0.307412</td>\n",
       "      <td>0.592946</td>\n",
       "      <td>0.591697</td>\n",
       "      <td>[0.56912209889001, 0.6142728093947607]</td>\n",
       "      <td>0.599070</td>\n",
       "      <td>[0.6380090497737556, 0.5601317957166392]</td>\n",
       "      <td>0.596831</td>\n",
       "      <td>[0.5136612021857924, 0.68]</td>\n",
       "      <td>0.234631</td>\n",
       "      <td>0.683274</td>\n",
       "      <td>...</td>\n",
       "      <td>2</td>\n",
       "      <td>False</td>\n",
       "      <td>None</td>\n",
       "      <td>64</td>\n",
       "      <td>2.23</td>\n",
       "      <td>790</td>\n",
       "      <td>6</td>\n",
       "      <td>4</td>\n",
       "      <td>gaussian_random_projection</td>\n",
       "      <td>True</td>\n",
       "    </tr>\n",
       "  </tbody>\n",
       "</table>\n",
       "<p>216 rows × 31 columns</p>\n",
       "</div>"
      ],
      "text/plain": [
       "        loss  accuracy        f1                                  f1_scores  \\\n",
       "0   0.950020  0.597712  0.595964   [0.6225402504472273, 0.5693877551020409]   \n",
       "0   0.429582  0.587226  0.583128   [0.6244579358196011, 0.5417989417989418]   \n",
       "0   0.336393  0.581506  0.577668   [0.6179286335944301, 0.5374077976817704]   \n",
       "0   0.318603  0.571973  0.562293  [0.6273858921161826, 0.49720044792833157]   \n",
       "0   0.319115  0.560534  0.548392  [0.6224406224406224, 0.47434435575826683]   \n",
       "..       ...       ...       ...                                        ...   \n",
       "0   0.368884  0.597712  0.596603   [0.5754527162977867, 0.6177536231884059]   \n",
       "0   0.291343  0.597712  0.595178   [0.6272084805653709, 0.5631469979296067]   \n",
       "0   0.280386  0.626311  0.624780   [0.6008146639511203, 0.6487455197132616]   \n",
       "0   0.418444  0.579600  0.578564   [0.5576730190571715, 0.5994550408719346]   \n",
       "0   0.307412  0.592946  0.591697     [0.56912209889001, 0.6142728093947607]   \n",
       "\n",
       "    precision                          precision_scores    recall  \\\n",
       "0    0.596425             [0.6115992970123023, 0.58125]  0.595940   \n",
       "0    0.585654  [0.5960264900662252, 0.5752808988764045]  0.583869   \n",
       "0    0.579798  [0.5916666666666667, 0.5679287305122495]  0.578315   \n",
       "0    0.570553  [0.5762195121951219, 0.5648854961832062]  0.566262   \n",
       "0    0.558600  [0.5654761904761905, 0.5517241379310345]  0.554084   \n",
       "..        ...                                       ...       ...   \n",
       "0    0.603633  [0.6426966292134831, 0.5645695364238411]  0.601474   \n",
       "0    0.596305  [0.6089193825042881, 0.5836909871244635]  0.595315   \n",
       "0    0.634478  [0.6812933025404158, 0.5876623376623377]  0.630670   \n",
       "0    0.584810  [0.6205357142857143, 0.5490848585690515]  0.583188   \n",
       "0    0.599070  [0.6380090497737556, 0.5601317957166392]  0.596831   \n",
       "\n",
       "                  recall_scores  valid_loss  valid_accuracy  ...  gamma  \\\n",
       "0   [0.6338797814207651, 0.558]    0.473022        0.608541  ...      2   \n",
       "0   [0.6557377049180327, 0.512]    0.297929        0.572954  ...      2   \n",
       "0    [0.6466302367941712, 0.51]    0.276014        0.569395  ...      2   \n",
       "0   [0.6885245901639344, 0.444]    0.263374        0.572954  ...      2   \n",
       "0    [0.692167577413479, 0.416]    0.260728        0.572954  ...      2   \n",
       "..                          ...         ...             ...  ...    ...   \n",
       "0   [0.5209471766848816, 0.682]    0.248410        0.661922  ...      2   \n",
       "0   [0.6466302367941712, 0.544]    0.227605        0.683274  ...      2   \n",
       "0   [0.5373406193078324, 0.724]    0.248542        0.654804  ...      2   \n",
       "0    [0.5063752276867031, 0.66]    0.267180        0.629893  ...      2   \n",
       "0    [0.5136612021857924, 0.68]    0.234631        0.683274  ...      2   \n",
       "\n",
       "   k_fold  n_splits batch_size  model_id input_dim dimension  sig_depth  \\\n",
       "0   False      None         64      0.00       790        28          2   \n",
       "0   False      None         64      0.00       790        28          2   \n",
       "0   False      None         64      0.00       790        28          2   \n",
       "0   False      None         64      0.10       790        28          2   \n",
       "0   False      None         64      0.10       790        28          2   \n",
       "..    ...       ...        ...       ...       ...       ...        ...   \n",
       "0   False      None         64      2.22       790         6          4   \n",
       "0   False      None         64      2.22       790         6          4   \n",
       "0   False      None         64      2.23       790         6          4   \n",
       "0   False      None         64      2.23       790         6          4   \n",
       "0   False      None         64      2.23       790         6          4   \n",
       "\n",
       "                        method  log_signature  \n",
       "0   gaussian_random_projection           True  \n",
       "0   gaussian_random_projection           True  \n",
       "0   gaussian_random_projection           True  \n",
       "0   gaussian_random_projection           True  \n",
       "0   gaussian_random_projection           True  \n",
       "..                         ...            ...  \n",
       "0   gaussian_random_projection           True  \n",
       "0   gaussian_random_projection           True  \n",
       "0   gaussian_random_projection           True  \n",
       "0   gaussian_random_projection           True  \n",
       "0   gaussian_random_projection           True  \n",
       "\n",
       "[216 rows x 31 columns]"
      ]
     },
     "execution_count": 24,
     "metadata": {},
     "output_type": "execute_result"
    }
   ],
   "source": [
    "ffn_logsignature_grp"
   ]
  },
  {
   "cell_type": "code",
   "execution_count": 25,
   "metadata": {},
   "outputs": [
    {
     "data": {
      "text/html": [
       "<div>\n",
       "<style scoped>\n",
       "    .dataframe tbody tr th:only-of-type {\n",
       "        vertical-align: middle;\n",
       "    }\n",
       "\n",
       "    .dataframe tbody tr th {\n",
       "        vertical-align: top;\n",
       "    }\n",
       "\n",
       "    .dataframe thead th {\n",
       "        text-align: right;\n",
       "    }\n",
       "</style>\n",
       "<table border=\"1\" class=\"dataframe\">\n",
       "  <thead>\n",
       "    <tr style=\"text-align: right;\">\n",
       "      <th></th>\n",
       "      <th>loss</th>\n",
       "      <th>accuracy</th>\n",
       "      <th>f1</th>\n",
       "      <th>f1_scores</th>\n",
       "      <th>precision</th>\n",
       "      <th>precision_scores</th>\n",
       "      <th>recall</th>\n",
       "      <th>recall_scores</th>\n",
       "      <th>valid_loss</th>\n",
       "      <th>valid_accuracy</th>\n",
       "      <th>...</th>\n",
       "      <th>loss_function</th>\n",
       "      <th>gamma</th>\n",
       "      <th>k_fold</th>\n",
       "      <th>n_splits</th>\n",
       "      <th>batch_size</th>\n",
       "      <th>input_dim</th>\n",
       "      <th>dimension</th>\n",
       "      <th>sig_depth</th>\n",
       "      <th>method</th>\n",
       "      <th>log_signature</th>\n",
       "    </tr>\n",
       "  </thead>\n",
       "  <tbody>\n",
       "    <tr>\n",
       "      <th>0</th>\n",
       "      <td>0.262463</td>\n",
       "      <td>0.621544</td>\n",
       "      <td>0.621407</td>\n",
       "      <td>[0.6286248830682881, 0.6141885325558796]</td>\n",
       "      <td>0.621754</td>\n",
       "      <td>[0.6461538461538462, 0.5973534971644613]</td>\n",
       "      <td>0.622011</td>\n",
       "      <td>[0.6120218579234973, 0.632]</td>\n",
       "      <td>0.230735</td>\n",
       "      <td>0.708185</td>\n",
       "      <td>...</td>\n",
       "      <td>focal</td>\n",
       "      <td>2</td>\n",
       "      <td>False</td>\n",
       "      <td>None</td>\n",
       "      <td>64</td>\n",
       "      <td>790</td>\n",
       "      <td>6</td>\n",
       "      <td>4</td>\n",
       "      <td>gaussian_random_projection</td>\n",
       "      <td>True</td>\n",
       "    </tr>\n",
       "    <tr>\n",
       "      <th>0</th>\n",
       "      <td>1.173876</td>\n",
       "      <td>0.565300</td>\n",
       "      <td>0.564920</td>\n",
       "      <td>[0.5520628683693517, 0.5777777777777778]</td>\n",
       "      <td>0.568539</td>\n",
       "      <td>[0.5991471215351812, 0.5379310344827586]</td>\n",
       "      <td>0.567920</td>\n",
       "      <td>[0.51183970856102, 0.624]</td>\n",
       "      <td>0.630850</td>\n",
       "      <td>0.658363</td>\n",
       "      <td>...</td>\n",
       "      <td>focal</td>\n",
       "      <td>2</td>\n",
       "      <td>False</td>\n",
       "      <td>None</td>\n",
       "      <td>64</td>\n",
       "      <td>790</td>\n",
       "      <td>6</td>\n",
       "      <td>4</td>\n",
       "      <td>gaussian_random_projection</td>\n",
       "      <td>True</td>\n",
       "    </tr>\n",
       "    <tr>\n",
       "      <th>0</th>\n",
       "      <td>0.273432</td>\n",
       "      <td>0.612965</td>\n",
       "      <td>0.612313</td>\n",
       "      <td>[0.6282051282051282, 0.5964214711729622]</td>\n",
       "      <td>0.612281</td>\n",
       "      <td>[0.6316758747697975, 0.5928853754940712]</td>\n",
       "      <td>0.612386</td>\n",
       "      <td>[0.6247723132969034, 0.6]</td>\n",
       "      <td>0.228428</td>\n",
       "      <td>0.676157</td>\n",
       "      <td>...</td>\n",
       "      <td>focal</td>\n",
       "      <td>2</td>\n",
       "      <td>False</td>\n",
       "      <td>None</td>\n",
       "      <td>64</td>\n",
       "      <td>790</td>\n",
       "      <td>6</td>\n",
       "      <td>4</td>\n",
       "      <td>gaussian_random_projection</td>\n",
       "      <td>True</td>\n",
       "    </tr>\n",
       "  </tbody>\n",
       "</table>\n",
       "<p>3 rows × 30 columns</p>\n",
       "</div>"
      ],
      "text/plain": [
       "       loss  accuracy        f1                                 f1_scores  \\\n",
       "0  0.262463  0.621544  0.621407  [0.6286248830682881, 0.6141885325558796]   \n",
       "0  1.173876  0.565300  0.564920  [0.5520628683693517, 0.5777777777777778]   \n",
       "0  0.273432  0.612965  0.612313  [0.6282051282051282, 0.5964214711729622]   \n",
       "\n",
       "   precision                          precision_scores    recall  \\\n",
       "0   0.621754  [0.6461538461538462, 0.5973534971644613]  0.622011   \n",
       "0   0.568539  [0.5991471215351812, 0.5379310344827586]  0.567920   \n",
       "0   0.612281  [0.6316758747697975, 0.5928853754940712]  0.612386   \n",
       "\n",
       "                 recall_scores  valid_loss  valid_accuracy  ...  \\\n",
       "0  [0.6120218579234973, 0.632]    0.230735        0.708185  ...   \n",
       "0    [0.51183970856102, 0.624]    0.630850        0.658363  ...   \n",
       "0    [0.6247723132969034, 0.6]    0.228428        0.676157  ...   \n",
       "\n",
       "   loss_function gamma  k_fold n_splits  batch_size input_dim dimension  \\\n",
       "0          focal     2   False     None          64       790         6   \n",
       "0          focal     2   False     None          64       790         6   \n",
       "0          focal     2   False     None          64       790         6   \n",
       "\n",
       "   sig_depth                      method  log_signature  \n",
       "0          4  gaussian_random_projection           True  \n",
       "0          4  gaussian_random_projection           True  \n",
       "0          4  gaussian_random_projection           True  \n",
       "\n",
       "[3 rows x 30 columns]"
      ]
     },
     "execution_count": 25,
     "metadata": {},
     "output_type": "execute_result"
    }
   ],
   "source": [
    "best_ffn_logsignature_grp"
   ]
  },
  {
   "cell_type": "code",
   "execution_count": 27,
   "metadata": {},
   "outputs": [
    {
     "data": {
      "text/plain": [
       "0.5995467768582313"
      ]
     },
     "execution_count": 27,
     "metadata": {},
     "output_type": "execute_result"
    }
   ],
   "source": [
    "best_ffn_logsignature_grp[\"f1\"].mean()"
   ]
  },
  {
   "cell_type": "code",
   "execution_count": 28,
   "metadata": {},
   "outputs": [
    {
     "data": {
      "text/plain": [
       "0.6008577916000193"
      ]
     },
     "execution_count": 28,
     "metadata": {},
     "output_type": "execute_result"
    }
   ],
   "source": [
    "best_ffn_logsignature_grp[\"precision\"].mean()"
   ]
  },
  {
   "cell_type": "code",
   "execution_count": 29,
   "metadata": {},
   "outputs": [
    {
     "data": {
      "text/plain": [
       "0.6007723132969034"
      ]
     },
     "execution_count": 29,
     "metadata": {},
     "output_type": "execute_result"
    }
   ],
   "source": [
    "best_ffn_logsignature_grp[\"recall\"].mean()"
   ]
  },
  {
   "cell_type": "code",
   "execution_count": 30,
   "metadata": {},
   "outputs": [
    {
     "data": {
      "text/plain": [
       "array([0.60296429, 0.59612926])"
      ]
     },
     "execution_count": 30,
     "metadata": {},
     "output_type": "execute_result"
    }
   ],
   "source": [
    "np.stack(best_ffn_logsignature_grp[\"f1_scores\"]).mean(axis=0)"
   ]
  },
  {
   "cell_type": "code",
   "execution_count": 31,
   "metadata": {},
   "outputs": [
    {
     "data": {
      "text/plain": [
       "array([0.62565895, 0.57605664])"
      ]
     },
     "execution_count": 31,
     "metadata": {},
     "output_type": "execute_result"
    }
   ],
   "source": [
    "np.stack(best_ffn_logsignature_grp[\"precision_scores\"]).mean(axis=0)"
   ]
  },
  {
   "cell_type": "code",
   "execution_count": 32,
   "metadata": {},
   "outputs": [
    {
     "data": {
      "text/plain": [
       "array([0.58287796, 0.61866667])"
      ]
     },
     "execution_count": 32,
     "metadata": {},
     "output_type": "execute_result"
    }
   ],
   "source": [
    "np.stack(best_ffn_logsignature_grp[\"recall_scores\"]).mean(axis=0)"
   ]
  }
 ],
 "metadata": {
  "kernelspec": {
   "display_name": "nlpsig-networks (Conda)",
   "language": "python",
   "name": "sys_nlpsig-networks"
  },
  "language_info": {
   "codemirror_mode": {
    "name": "ipython",
    "version": 3
   },
   "file_extension": ".py",
   "mimetype": "text/x-python",
   "name": "python",
   "nbconvert_exporter": "python",
   "pygments_lexer": "ipython3",
   "version": "3.8.17"
  }
 },
 "nbformat": 4,
 "nbformat_minor": 4
}
