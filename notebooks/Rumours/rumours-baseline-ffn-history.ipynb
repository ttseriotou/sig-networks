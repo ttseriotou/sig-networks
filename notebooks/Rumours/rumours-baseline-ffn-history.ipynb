{
 "cells": [
  {
   "cell_type": "code",
   "execution_count": 1,
   "metadata": {},
   "outputs": [],
   "source": [
    "import pickle\n",
    "import numpy as np\n",
    "import pandas as pd\n",
    "import re\n",
    "\n",
    "seed = 2023"
   ]
  },
  {
   "cell_type": "code",
   "execution_count": 2,
   "metadata": {},
   "outputs": [],
   "source": [
    "import os\n",
    "os.chdir(\"../../\")"
   ]
  },
  {
   "cell_type": "code",
   "execution_count": 3,
   "metadata": {},
   "outputs": [
    {
     "name": "stderr",
     "output_type": "stream",
     "text": [
      "/storage/ttseriotou/nlpsig-networks-env/lib/python3.8/site-packages/tqdm/auto.py:21: TqdmWarning: IProgress not found. Please update jupyter and ipywidgets. See https://ipywidgets.readthedocs.io/en/stable/user_install.html\n",
      "  from .autonotebook import tqdm as notebook_tqdm\n"
     ]
    }
   ],
   "source": [
    "from nlpsig_networks.scripts.ffn_baseline_functions import (\n",
    "    histories_baseline_hyperparameter_search\n",
    ")"
   ]
  },
  {
   "cell_type": "markdown",
   "metadata": {},
   "source": [
    "Rumours"
   ]
  },
  {
   "cell_type": "code",
   "execution_count": 4,
   "metadata": {},
   "outputs": [],
   "source": [
    "%run notebooks/Rumours/load_sbert-embeddings.py"
   ]
  },
  {
   "cell_type": "code",
   "execution_count": 5,
   "metadata": {},
   "outputs": [
    {
     "data": {
      "text/html": [
       "<div>\n",
       "<style scoped>\n",
       "    .dataframe tbody tr th:only-of-type {\n",
       "        vertical-align: middle;\n",
       "    }\n",
       "\n",
       "    .dataframe tbody tr th {\n",
       "        vertical-align: top;\n",
       "    }\n",
       "\n",
       "    .dataframe thead th {\n",
       "        text-align: right;\n",
       "    }\n",
       "</style>\n",
       "<table border=\"1\" class=\"dataframe\">\n",
       "  <thead>\n",
       "    <tr style=\"text-align: right;\">\n",
       "      <th></th>\n",
       "      <th>id</th>\n",
       "      <th>label</th>\n",
       "      <th>datetime</th>\n",
       "      <th>text</th>\n",
       "      <th>timeline_id</th>\n",
       "      <th>set</th>\n",
       "    </tr>\n",
       "  </thead>\n",
       "  <tbody>\n",
       "    <tr>\n",
       "      <th>0</th>\n",
       "      <td>5.249902e+17</td>\n",
       "      <td>0</td>\n",
       "      <td>2014-10-22 18:26:23</td>\n",
       "      <td>Police have clarified that there were two shoo...</td>\n",
       "      <td>0</td>\n",
       "      <td>train</td>\n",
       "    </tr>\n",
       "    <tr>\n",
       "      <th>1</th>\n",
       "      <td>5.249906e+17</td>\n",
       "      <td>0</td>\n",
       "      <td>2014-10-22 18:27:58</td>\n",
       "      <td>@CTVNews you guys \"confirmed\" there were 3 sho...</td>\n",
       "      <td>0</td>\n",
       "      <td>train</td>\n",
       "    </tr>\n",
       "    <tr>\n",
       "      <th>2</th>\n",
       "      <td>5.249908e+17</td>\n",
       "      <td>1</td>\n",
       "      <td>2014-10-22 18:28:46</td>\n",
       "      <td>@CTVNews get it right. http://t.co/GHYxMuzPG9</td>\n",
       "      <td>0</td>\n",
       "      <td>train</td>\n",
       "    </tr>\n",
       "    <tr>\n",
       "      <th>3</th>\n",
       "      <td>5.249927e+17</td>\n",
       "      <td>1</td>\n",
       "      <td>2014-10-22 18:36:29</td>\n",
       "      <td>RT @CTVNews Police have clarified that there w...</td>\n",
       "      <td>0</td>\n",
       "      <td>train</td>\n",
       "    </tr>\n",
       "    <tr>\n",
       "      <th>4</th>\n",
       "      <td>5.250038e+17</td>\n",
       "      <td>1</td>\n",
       "      <td>2014-10-22 19:20:41</td>\n",
       "      <td>@CTVNews @ctvsaskatoon so what happened at Rid...</td>\n",
       "      <td>0</td>\n",
       "      <td>train</td>\n",
       "    </tr>\n",
       "  </tbody>\n",
       "</table>\n",
       "</div>"
      ],
      "text/plain": [
       "             id label            datetime  \\\n",
       "0  5.249902e+17     0 2014-10-22 18:26:23   \n",
       "1  5.249906e+17     0 2014-10-22 18:27:58   \n",
       "2  5.249908e+17     1 2014-10-22 18:28:46   \n",
       "3  5.249927e+17     1 2014-10-22 18:36:29   \n",
       "4  5.250038e+17     1 2014-10-22 19:20:41   \n",
       "\n",
       "                                                text timeline_id    set  \n",
       "0  Police have clarified that there were two shoo...           0  train  \n",
       "1  @CTVNews you guys \"confirmed\" there were 3 sho...           0  train  \n",
       "2      @CTVNews get it right. http://t.co/GHYxMuzPG9           0  train  \n",
       "3  RT @CTVNews Police have clarified that there w...           0  train  \n",
       "4  @CTVNews @ctvsaskatoon so what happened at Rid...           0  train  "
      ]
     },
     "execution_count": 5,
     "metadata": {},
     "output_type": "execute_result"
    }
   ],
   "source": [
    "df_rumours.head()"
   ]
  },
  {
   "cell_type": "code",
   "execution_count": 6,
   "metadata": {},
   "outputs": [
    {
     "data": {
      "text/plain": [
       "torch.Size([5568, 384])"
      ]
     },
     "execution_count": 6,
     "metadata": {},
     "output_type": "execute_result"
    }
   ],
   "source": [
    "sbert_embeddings.shape"
   ]
  },
  {
   "cell_type": "markdown",
   "metadata": {},
   "source": [
    "# Baseline: Averaging history and use FFN"
   ]
  },
  {
   "cell_type": "markdown",
   "metadata": {},
   "source": [
    "Here, we average the full history of a path and concatenate it to the current embedding (the total number of features that are passed into the FFN is 2 * sbert_embeddings.shape[0]).\n",
    "\n",
    "Here, we will run the hyperparameter search to implement the FFN with the same parameters as the standard FFN baseline on the sentence embeddings."
   ]
  },
  {
   "cell_type": "code",
   "execution_count": 7,
   "metadata": {},
   "outputs": [],
   "source": [
    "num_epochs = 100\n",
    "hidden_dim_sizes = [[32,32]]#[[32,32], [64,64], [128,128], [256,256]]\n",
    "dropout_rates = [0.2]#[0.5, 0.2, 0.1]\n",
    "learning_rates = [1e-4] #[1e-3, 1e-4, 5e-4]\n",
    "seeds = [0, 1, 12, 123, 1234]\n",
    "loss = \"focal\"\n",
    "gamma = 2\n",
    "validation_metric = \"f1\""
   ]
  },
  {
   "cell_type": "code",
   "execution_count": 8,
   "metadata": {},
   "outputs": [
    {
     "name": "stdout",
     "output_type": "stream",
     "text": [
      "[INFO] Concatenating the embeddings to the dataframe...\n",
      "[INFO] - columns beginning with 'e' denote the full embddings.\n",
      "[INFO] Adding time feature columns into dataframe in `.df`.\n",
      "[INFO] Adding 'time_encoding' and feature...\n",
      "[INFO] Adding 'time_diff' and feature...\n",
      "[INFO] Adding 'timeline_index' feature...\n",
      "Computing the mean history for each item in the dataframe\n"
     ]
    },
    {
     "name": "stderr",
     "output_type": "stream",
     "text": [
      "100%|██████████| 5568/5568 [00:09<00:00, 563.14it/s]\n",
      "  0%|          | 0/1 [00:00<?, ?it/s]\n",
      "\u001b[A\n",
      "100%|██████████| 1/1 [00:31<00:00, 31.97s/it]\n",
      "100%|██████████| 1/1 [00:31<00:00, 31.98s/it]\n",
      "100%|██████████| 1/1 [00:31<00:00, 31.98s/it]\n"
     ]
    },
    {
     "name": "stdout",
     "output_type": "stream",
     "text": [
      "[INFO] Concatenating the embeddings to the dataframe...\n",
      "[INFO] - columns beginning with 'e' denote the full embddings.\n",
      "[INFO] Adding time feature columns into dataframe in `.df`.\n",
      "[INFO] Adding 'time_encoding' and feature...\n",
      "[INFO] Adding 'time_diff' and feature...\n",
      "[INFO] Adding 'timeline_index' feature...\n",
      "Computing the mean history for each item in the dataframe\n"
     ]
    },
    {
     "name": "stderr",
     "output_type": "stream",
     "text": [
      "100%|██████████| 5568/5568 [00:09<00:00, 558.80it/s]\n"
     ]
    }
   ],
   "source": [
    "ffn_mean_history, best_ffn_mean_history, _, __ = histories_baseline_hyperparameter_search(\n",
    "    num_epochs=num_epochs,\n",
    "    df=df_rumours,\n",
    "    id_column=\"timeline_id\",\n",
    "    label_column=\"label\",\n",
    "    embeddings=sbert_embeddings.numpy(),\n",
    "    y_data=y_data,\n",
    "    output_dim=output_dim,\n",
    "    hidden_dim_sizes=hidden_dim_sizes,\n",
    "    dropout_rates=dropout_rates,\n",
    "    learning_rates=learning_rates,\n",
    "    use_signatures=False,\n",
    "    seeds=seeds,\n",
    "    loss=loss,\n",
    "    gamma=gamma,\n",
    "    path_indices=None,\n",
    "    data_split_seed=123,\n",
    "    split_ids= None, #torch.tensor(df_rumours['timeline_id'].astype(int)),\n",
    "    split_indices = (df_rumours[df_rumours['set']=='train'].index, df_rumours[df_rumours['set']=='dev'].index, df_rumours[df_rumours['set']=='test'].index),\n",
    "    k_fold=False,\n",
    "    validation_metric=validation_metric,\n",
    "    results_output=None,\n",
    "    verbose=False\n",
    ")"
   ]
  },
  {
   "cell_type": "code",
   "execution_count": 9,
   "metadata": {},
   "outputs": [
    {
     "data": {
      "text/html": [
       "<div>\n",
       "<style scoped>\n",
       "    .dataframe tbody tr th:only-of-type {\n",
       "        vertical-align: middle;\n",
       "    }\n",
       "\n",
       "    .dataframe tbody tr th {\n",
       "        vertical-align: top;\n",
       "    }\n",
       "\n",
       "    .dataframe thead th {\n",
       "        text-align: right;\n",
       "    }\n",
       "</style>\n",
       "<table border=\"1\" class=\"dataframe\">\n",
       "  <thead>\n",
       "    <tr style=\"text-align: right;\">\n",
       "      <th></th>\n",
       "      <th>loss</th>\n",
       "      <th>accuracy</th>\n",
       "      <th>f1</th>\n",
       "      <th>f1_scores</th>\n",
       "      <th>valid_loss</th>\n",
       "      <th>valid_accuracy</th>\n",
       "      <th>valid_f1</th>\n",
       "      <th>valid_f1_scores</th>\n",
       "      <th>hidden_dim</th>\n",
       "      <th>dropout_rate</th>\n",
       "      <th>learning_rate</th>\n",
       "      <th>seed</th>\n",
       "      <th>gamma</th>\n",
       "      <th>k_fold</th>\n",
       "      <th>model_id</th>\n",
       "      <th>input_dim</th>\n",
       "    </tr>\n",
       "  </thead>\n",
       "  <tbody>\n",
       "    <tr>\n",
       "      <th>0</th>\n",
       "      <td>focal</td>\n",
       "      <td>0.515729</td>\n",
       "      <td>0.515359</td>\n",
       "      <td>[0.5019607843137254, 0.5287569573283859]</td>\n",
       "      <td>0.246686</td>\n",
       "      <td>0.686833</td>\n",
       "      <td>0.656899</td>\n",
       "      <td>[0.7582417582417582, 0.5555555555555555]</td>\n",
       "      <td>[32, 32]</td>\n",
       "      <td>0.2</td>\n",
       "      <td>0.0001</td>\n",
       "      <td>0</td>\n",
       "      <td>2</td>\n",
       "      <td>False</td>\n",
       "      <td>0.0</td>\n",
       "      <td>768</td>\n",
       "    </tr>\n",
       "    <tr>\n",
       "      <th>0</th>\n",
       "      <td>focal</td>\n",
       "      <td>0.529075</td>\n",
       "      <td>0.529075</td>\n",
       "      <td>[0.5286259541984732, 0.5295238095238096]</td>\n",
       "      <td>0.238527</td>\n",
       "      <td>0.672598</td>\n",
       "      <td>0.642928</td>\n",
       "      <td>[0.7458563535911602, 0.54]</td>\n",
       "      <td>[32, 32]</td>\n",
       "      <td>0.2</td>\n",
       "      <td>0.0001</td>\n",
       "      <td>1</td>\n",
       "      <td>2</td>\n",
       "      <td>False</td>\n",
       "      <td>0.0</td>\n",
       "      <td>768</td>\n",
       "    </tr>\n",
       "    <tr>\n",
       "      <th>0</th>\n",
       "      <td>focal</td>\n",
       "      <td>0.526215</td>\n",
       "      <td>0.525657</td>\n",
       "      <td>[0.5419354838709677, 0.5093780848963475]</td>\n",
       "      <td>0.250377</td>\n",
       "      <td>0.661922</td>\n",
       "      <td>0.635239</td>\n",
       "      <td>[0.7338935574229692, 0.5365853658536585]</td>\n",
       "      <td>[32, 32]</td>\n",
       "      <td>0.2</td>\n",
       "      <td>0.0001</td>\n",
       "      <td>12</td>\n",
       "      <td>2</td>\n",
       "      <td>False</td>\n",
       "      <td>0.0</td>\n",
       "      <td>768</td>\n",
       "    </tr>\n",
       "    <tr>\n",
       "      <th>0</th>\n",
       "      <td>focal</td>\n",
       "      <td>0.507150</td>\n",
       "      <td>0.506970</td>\n",
       "      <td>[0.5163704396632367, 0.49757045675413025]</td>\n",
       "      <td>0.248288</td>\n",
       "      <td>0.686833</td>\n",
       "      <td>0.651914</td>\n",
       "      <td>[0.7621621621621621, 0.5416666666666666]</td>\n",
       "      <td>[32, 32]</td>\n",
       "      <td>0.2</td>\n",
       "      <td>0.0001</td>\n",
       "      <td>123</td>\n",
       "      <td>2</td>\n",
       "      <td>False</td>\n",
       "      <td>0.0</td>\n",
       "      <td>768</td>\n",
       "    </tr>\n",
       "    <tr>\n",
       "      <th>0</th>\n",
       "      <td>focal</td>\n",
       "      <td>0.513823</td>\n",
       "      <td>0.513628</td>\n",
       "      <td>[0.5038910505836576, 0.5233644859813084]</td>\n",
       "      <td>0.247281</td>\n",
       "      <td>0.676157</td>\n",
       "      <td>0.650598</td>\n",
       "      <td>[0.7450980392156863, 0.5560975609756097]</td>\n",
       "      <td>[32, 32]</td>\n",
       "      <td>0.2</td>\n",
       "      <td>0.0001</td>\n",
       "      <td>1234</td>\n",
       "      <td>2</td>\n",
       "      <td>False</td>\n",
       "      <td>0.0</td>\n",
       "      <td>768</td>\n",
       "    </tr>\n",
       "  </tbody>\n",
       "</table>\n",
       "</div>"
      ],
      "text/plain": [
       "    loss  accuracy        f1                                  f1_scores  \\\n",
       "0  focal  0.515729  0.515359   [0.5019607843137254, 0.5287569573283859]   \n",
       "0  focal  0.529075  0.529075   [0.5286259541984732, 0.5295238095238096]   \n",
       "0  focal  0.526215  0.525657   [0.5419354838709677, 0.5093780848963475]   \n",
       "0  focal  0.507150  0.506970  [0.5163704396632367, 0.49757045675413025]   \n",
       "0  focal  0.513823  0.513628   [0.5038910505836576, 0.5233644859813084]   \n",
       "\n",
       "   valid_loss  valid_accuracy  valid_f1  \\\n",
       "0    0.246686        0.686833  0.656899   \n",
       "0    0.238527        0.672598  0.642928   \n",
       "0    0.250377        0.661922  0.635239   \n",
       "0    0.248288        0.686833  0.651914   \n",
       "0    0.247281        0.676157  0.650598   \n",
       "\n",
       "                            valid_f1_scores hidden_dim  dropout_rate  \\\n",
       "0  [0.7582417582417582, 0.5555555555555555]   [32, 32]           0.2   \n",
       "0                [0.7458563535911602, 0.54]   [32, 32]           0.2   \n",
       "0  [0.7338935574229692, 0.5365853658536585]   [32, 32]           0.2   \n",
       "0  [0.7621621621621621, 0.5416666666666666]   [32, 32]           0.2   \n",
       "0  [0.7450980392156863, 0.5560975609756097]   [32, 32]           0.2   \n",
       "\n",
       "   learning_rate  seed  gamma  k_fold  model_id  input_dim  \n",
       "0         0.0001     0      2   False       0.0        768  \n",
       "0         0.0001     1      2   False       0.0        768  \n",
       "0         0.0001    12      2   False       0.0        768  \n",
       "0         0.0001   123      2   False       0.0        768  \n",
       "0         0.0001  1234      2   False       0.0        768  "
      ]
     },
     "execution_count": 9,
     "metadata": {},
     "output_type": "execute_result"
    }
   ],
   "source": [
    "ffn_mean_history"
   ]
  },
  {
   "cell_type": "code",
   "execution_count": 13,
   "metadata": {},
   "outputs": [
    {
     "data": {
      "text/html": [
       "<div>\n",
       "<style scoped>\n",
       "    .dataframe tbody tr th:only-of-type {\n",
       "        vertical-align: middle;\n",
       "    }\n",
       "\n",
       "    .dataframe tbody tr th {\n",
       "        vertical-align: top;\n",
       "    }\n",
       "\n",
       "    .dataframe thead th {\n",
       "        text-align: right;\n",
       "    }\n",
       "</style>\n",
       "<table border=\"1\" class=\"dataframe\">\n",
       "  <thead>\n",
       "    <tr style=\"text-align: right;\">\n",
       "      <th></th>\n",
       "      <th>loss</th>\n",
       "      <th>accuracy</th>\n",
       "      <th>f1</th>\n",
       "      <th>f1_scores</th>\n",
       "      <th>valid_loss</th>\n",
       "      <th>valid_accuracy</th>\n",
       "      <th>valid_f1</th>\n",
       "      <th>valid_f1_scores</th>\n",
       "      <th>hidden_dim</th>\n",
       "      <th>dropout_rate</th>\n",
       "      <th>learning_rate</th>\n",
       "      <th>seed</th>\n",
       "      <th>gamma</th>\n",
       "      <th>k_fold</th>\n",
       "      <th>input_dim</th>\n",
       "    </tr>\n",
       "  </thead>\n",
       "  <tbody>\n",
       "    <tr>\n",
       "      <th>0</th>\n",
       "      <td>focal</td>\n",
       "      <td>0.515729</td>\n",
       "      <td>0.515359</td>\n",
       "      <td>[0.5019607843137254, 0.5287569573283859]</td>\n",
       "      <td>0.246686</td>\n",
       "      <td>0.686833</td>\n",
       "      <td>0.656899</td>\n",
       "      <td>[0.7582417582417582, 0.5555555555555555]</td>\n",
       "      <td>[32, 32]</td>\n",
       "      <td>0.2</td>\n",
       "      <td>0.0001</td>\n",
       "      <td>0</td>\n",
       "      <td>2</td>\n",
       "      <td>False</td>\n",
       "      <td>768</td>\n",
       "    </tr>\n",
       "    <tr>\n",
       "      <th>0</th>\n",
       "      <td>focal</td>\n",
       "      <td>0.529075</td>\n",
       "      <td>0.529075</td>\n",
       "      <td>[0.5286259541984732, 0.5295238095238096]</td>\n",
       "      <td>0.238527</td>\n",
       "      <td>0.672598</td>\n",
       "      <td>0.642928</td>\n",
       "      <td>[0.7458563535911602, 0.54]</td>\n",
       "      <td>[32, 32]</td>\n",
       "      <td>0.2</td>\n",
       "      <td>0.0001</td>\n",
       "      <td>1</td>\n",
       "      <td>2</td>\n",
       "      <td>False</td>\n",
       "      <td>768</td>\n",
       "    </tr>\n",
       "    <tr>\n",
       "      <th>0</th>\n",
       "      <td>focal</td>\n",
       "      <td>0.526215</td>\n",
       "      <td>0.525657</td>\n",
       "      <td>[0.5419354838709677, 0.5093780848963475]</td>\n",
       "      <td>0.250377</td>\n",
       "      <td>0.661922</td>\n",
       "      <td>0.635239</td>\n",
       "      <td>[0.7338935574229692, 0.5365853658536585]</td>\n",
       "      <td>[32, 32]</td>\n",
       "      <td>0.2</td>\n",
       "      <td>0.0001</td>\n",
       "      <td>12</td>\n",
       "      <td>2</td>\n",
       "      <td>False</td>\n",
       "      <td>768</td>\n",
       "    </tr>\n",
       "    <tr>\n",
       "      <th>0</th>\n",
       "      <td>focal</td>\n",
       "      <td>0.507150</td>\n",
       "      <td>0.506970</td>\n",
       "      <td>[0.5163704396632367, 0.49757045675413025]</td>\n",
       "      <td>0.248288</td>\n",
       "      <td>0.686833</td>\n",
       "      <td>0.651914</td>\n",
       "      <td>[0.7621621621621621, 0.5416666666666666]</td>\n",
       "      <td>[32, 32]</td>\n",
       "      <td>0.2</td>\n",
       "      <td>0.0001</td>\n",
       "      <td>123</td>\n",
       "      <td>2</td>\n",
       "      <td>False</td>\n",
       "      <td>768</td>\n",
       "    </tr>\n",
       "    <tr>\n",
       "      <th>0</th>\n",
       "      <td>focal</td>\n",
       "      <td>0.513823</td>\n",
       "      <td>0.513628</td>\n",
       "      <td>[0.5038910505836576, 0.5233644859813084]</td>\n",
       "      <td>0.247281</td>\n",
       "      <td>0.676157</td>\n",
       "      <td>0.650598</td>\n",
       "      <td>[0.7450980392156863, 0.5560975609756097]</td>\n",
       "      <td>[32, 32]</td>\n",
       "      <td>0.2</td>\n",
       "      <td>0.0001</td>\n",
       "      <td>1234</td>\n",
       "      <td>2</td>\n",
       "      <td>False</td>\n",
       "      <td>768</td>\n",
       "    </tr>\n",
       "  </tbody>\n",
       "</table>\n",
       "</div>"
      ],
      "text/plain": [
       "    loss  accuracy        f1                                  f1_scores  \\\n",
       "0  focal  0.515729  0.515359   [0.5019607843137254, 0.5287569573283859]   \n",
       "0  focal  0.529075  0.529075   [0.5286259541984732, 0.5295238095238096]   \n",
       "0  focal  0.526215  0.525657   [0.5419354838709677, 0.5093780848963475]   \n",
       "0  focal  0.507150  0.506970  [0.5163704396632367, 0.49757045675413025]   \n",
       "0  focal  0.513823  0.513628   [0.5038910505836576, 0.5233644859813084]   \n",
       "\n",
       "   valid_loss  valid_accuracy  valid_f1  \\\n",
       "0    0.246686        0.686833  0.656899   \n",
       "0    0.238527        0.672598  0.642928   \n",
       "0    0.250377        0.661922  0.635239   \n",
       "0    0.248288        0.686833  0.651914   \n",
       "0    0.247281        0.676157  0.650598   \n",
       "\n",
       "                            valid_f1_scores hidden_dim  dropout_rate  \\\n",
       "0  [0.7582417582417582, 0.5555555555555555]   [32, 32]           0.2   \n",
       "0                [0.7458563535911602, 0.54]   [32, 32]           0.2   \n",
       "0  [0.7338935574229692, 0.5365853658536585]   [32, 32]           0.2   \n",
       "0  [0.7621621621621621, 0.5416666666666666]   [32, 32]           0.2   \n",
       "0  [0.7450980392156863, 0.5560975609756097]   [32, 32]           0.2   \n",
       "\n",
       "   learning_rate  seed  gamma  k_fold  input_dim  \n",
       "0         0.0001     0      2   False        768  \n",
       "0         0.0001     1      2   False        768  \n",
       "0         0.0001    12      2   False        768  \n",
       "0         0.0001   123      2   False        768  \n",
       "0         0.0001  1234      2   False        768  "
      ]
     },
     "execution_count": 13,
     "metadata": {},
     "output_type": "execute_result"
    }
   ],
   "source": [
    "best_ffn_mean_history"
   ]
  },
  {
   "cell_type": "code",
   "execution_count": 12,
   "metadata": {},
   "outputs": [
    {
     "data": {
      "text/plain": [
       "0.5181377507114042"
      ]
     },
     "execution_count": 12,
     "metadata": {},
     "output_type": "execute_result"
    }
   ],
   "source": [
    "best_ffn_mean_history[\"f1\"].mean()"
   ]
  },
  {
   "cell_type": "code",
   "execution_count": 11,
   "metadata": {},
   "outputs": [
    {
     "data": {
      "text/plain": [
       "array([0.51855674, 0.51771876])"
      ]
     },
     "execution_count": 11,
     "metadata": {},
     "output_type": "execute_result"
    }
   ],
   "source": [
    "np.stack(best_ffn_mean_history[\"f1_scores\"]).mean(axis=0)"
   ]
  },
  {
   "cell_type": "code",
   "execution_count": null,
   "metadata": {},
   "outputs": [],
   "source": []
  }
 ],
 "metadata": {
  "kernelspec": {
   "display_name": "nlpsig_kernel",
   "language": "python",
   "name": "nlpsig_kernel"
  },
  "language_info": {
   "codemirror_mode": {
    "name": "ipython",
    "version": 3
   },
   "file_extension": ".py",
   "mimetype": "text/x-python",
   "name": "python",
   "nbconvert_exporter": "python",
   "pygments_lexer": "ipython3",
   "version": "3.8.16"
  },
  "orig_nbformat": 4
 },
 "nbformat": 4,
 "nbformat_minor": 2
}
