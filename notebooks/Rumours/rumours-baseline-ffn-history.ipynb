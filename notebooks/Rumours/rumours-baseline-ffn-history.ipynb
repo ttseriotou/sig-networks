{
 "cells": [
  {
   "cell_type": "code",
   "execution_count": 1,
   "metadata": {},
   "outputs": [],
   "source": [
    "import pickle\n",
    "import numpy as np\n",
    "import pandas as pd\n",
    "import re\n",
    "import os\n",
    "\n",
    "seed = 2023"
   ]
  },
  {
   "cell_type": "code",
   "execution_count": 2,
   "metadata": {},
   "outputs": [
    {
     "data": {
      "text/plain": [
       "device(type='cuda')"
      ]
     },
     "execution_count": 2,
     "metadata": {},
     "output_type": "execute_result"
    }
   ],
   "source": [
    "import torch\n",
    "\n",
    "# set device\n",
    "device = torch.device(\"cuda\" if torch.cuda.is_available() else \"cpu\")\n",
    "device"
   ]
  },
  {
   "cell_type": "code",
   "execution_count": 3,
   "metadata": {},
   "outputs": [],
   "source": [
    "from nlpsig_networks.scripts.ffn_baseline_functions import (\n",
    "    histories_baseline_hyperparameter_search,\n",
    ")"
   ]
  },
  {
   "cell_type": "code",
   "execution_count": 4,
   "metadata": {},
   "outputs": [],
   "source": [
    "output_dir = \"rumours_output\"\n",
    "if not os.path.isdir(output_dir):\n",
    "    os.makedirs(output_dir)"
   ]
  },
  {
   "cell_type": "markdown",
   "metadata": {},
   "source": [
    "## Rumours"
   ]
  },
  {
   "cell_type": "code",
   "execution_count": 5,
   "metadata": {},
   "outputs": [],
   "source": [
    "%run load_sbert-embeddings.py"
   ]
  },
  {
   "cell_type": "code",
   "execution_count": 6,
   "metadata": {},
   "outputs": [
    {
     "data": {
      "text/html": [
       "<div>\n",
       "<style scoped>\n",
       "    .dataframe tbody tr th:only-of-type {\n",
       "        vertical-align: middle;\n",
       "    }\n",
       "\n",
       "    .dataframe tbody tr th {\n",
       "        vertical-align: top;\n",
       "    }\n",
       "\n",
       "    .dataframe thead th {\n",
       "        text-align: right;\n",
       "    }\n",
       "</style>\n",
       "<table border=\"1\" class=\"dataframe\">\n",
       "  <thead>\n",
       "    <tr style=\"text-align: right;\">\n",
       "      <th></th>\n",
       "      <th>id</th>\n",
       "      <th>label</th>\n",
       "      <th>datetime</th>\n",
       "      <th>text</th>\n",
       "      <th>timeline_id</th>\n",
       "      <th>set</th>\n",
       "    </tr>\n",
       "  </thead>\n",
       "  <tbody>\n",
       "    <tr>\n",
       "      <th>0</th>\n",
       "      <td>5.249902e+17</td>\n",
       "      <td>0</td>\n",
       "      <td>2014-10-22 18:26:23</td>\n",
       "      <td>Police have clarified that there were two shoo...</td>\n",
       "      <td>0</td>\n",
       "      <td>train</td>\n",
       "    </tr>\n",
       "    <tr>\n",
       "      <th>1</th>\n",
       "      <td>5.249906e+17</td>\n",
       "      <td>0</td>\n",
       "      <td>2014-10-22 18:27:58</td>\n",
       "      <td>@CTVNews you guys \"confirmed\" there were 3 sho...</td>\n",
       "      <td>0</td>\n",
       "      <td>train</td>\n",
       "    </tr>\n",
       "    <tr>\n",
       "      <th>2</th>\n",
       "      <td>5.249908e+17</td>\n",
       "      <td>1</td>\n",
       "      <td>2014-10-22 18:28:46</td>\n",
       "      <td>@CTVNews get it right. http://t.co/GHYxMuzPG9</td>\n",
       "      <td>0</td>\n",
       "      <td>train</td>\n",
       "    </tr>\n",
       "    <tr>\n",
       "      <th>3</th>\n",
       "      <td>5.249927e+17</td>\n",
       "      <td>1</td>\n",
       "      <td>2014-10-22 18:36:29</td>\n",
       "      <td>RT @CTVNews Police have clarified that there w...</td>\n",
       "      <td>0</td>\n",
       "      <td>train</td>\n",
       "    </tr>\n",
       "    <tr>\n",
       "      <th>4</th>\n",
       "      <td>5.250038e+17</td>\n",
       "      <td>1</td>\n",
       "      <td>2014-10-22 19:20:41</td>\n",
       "      <td>@CTVNews @ctvsaskatoon so what happened at Rid...</td>\n",
       "      <td>0</td>\n",
       "      <td>train</td>\n",
       "    </tr>\n",
       "  </tbody>\n",
       "</table>\n",
       "</div>"
      ],
      "text/plain": [
       "             id label            datetime  \\\n",
       "0  5.249902e+17     0 2014-10-22 18:26:23   \n",
       "1  5.249906e+17     0 2014-10-22 18:27:58   \n",
       "2  5.249908e+17     1 2014-10-22 18:28:46   \n",
       "3  5.249927e+17     1 2014-10-22 18:36:29   \n",
       "4  5.250038e+17     1 2014-10-22 19:20:41   \n",
       "\n",
       "                                                text timeline_id    set  \n",
       "0  Police have clarified that there were two shoo...           0  train  \n",
       "1  @CTVNews you guys \"confirmed\" there were 3 sho...           0  train  \n",
       "2      @CTVNews get it right. http://t.co/GHYxMuzPG9           0  train  \n",
       "3  RT @CTVNews Police have clarified that there w...           0  train  \n",
       "4  @CTVNews @ctvsaskatoon so what happened at Rid...           0  train  "
      ]
     },
     "execution_count": 6,
     "metadata": {},
     "output_type": "execute_result"
    }
   ],
   "source": [
    "df_rumours.head()"
   ]
  },
  {
   "cell_type": "code",
   "execution_count": 7,
   "metadata": {},
   "outputs": [
    {
     "data": {
      "text/plain": [
       "(5568, 384)"
      ]
     },
     "execution_count": 7,
     "metadata": {},
     "output_type": "execute_result"
    }
   ],
   "source": [
    "sbert_embeddings.shape"
   ]
  },
  {
   "cell_type": "markdown",
   "metadata": {},
   "source": [
    "# Baseline: Averaging history and use FFN"
   ]
  },
  {
   "cell_type": "markdown",
   "metadata": {},
   "source": [
    "Here, we average the full history of a path and concatenate it to the current embedding (the total number of features that are passed into the FFN is 2 * sbert_embeddings.shape[0]).\n",
    "\n",
    "Here, we will run the hyperparameter search to implement the FFN with the same parameters as the standard FFN baseline on the sentence embeddings."
   ]
  },
  {
   "cell_type": "code",
   "execution_count": 8,
   "metadata": {},
   "outputs": [],
   "source": [
    "num_epochs = 100\n",
    "hidden_dim_sizes = [[64, 64], [128, 128], [256, 256], [512, 512]]\n",
    "dropout_rates = [0.5, 0.1]\n",
    "learning_rates = [1e-3, 1e-4, 5e-4]\n",
    "seeds = [1, 12, 123]\n",
    "loss = \"focal\"\n",
    "gamma = 2\n",
    "validation_metric = \"f1\"\n",
    "patience = 5"
   ]
  },
  {
   "cell_type": "code",
   "execution_count": null,
   "metadata": {},
   "outputs": [],
   "source": [
    "kwargs = {\n",
    "    \"num_epochs\": num_epochs,\n",
    "    \"df\": df_rumours,\n",
    "    \"id_column\": \"timeline_id\",\n",
    "    \"label_column\": \"label\",\n",
    "    \"embeddings\": sbert_embeddings,\n",
    "    \"y_data\": y_data,\n",
    "    \"output_dim\": output_dim,\n",
    "    \"hidden_dim_sizes\": hidden_dim_sizes,\n",
    "    \"dropout_rates\": dropout_rates,\n",
    "    \"learning_rates\": learning_rates,\n",
    "    \"seeds\": seeds,\n",
    "    \"loss\": loss,\n",
    "    \"gamma\": gamma,\n",
    "    \"device\": device,\n",
    "    \"split_ids\": split_ids,\n",
    "    \"k_fold\": True,\n",
    "    \"patience\": patience,\n",
    "    \"validation_metric\": validation_metric,\n",
    "    \"verbose\": False,\n",
    "}"
   ]
  },
  {
   "cell_type": "code",
   "execution_count": 9,
   "metadata": {},
   "outputs": [
    {
     "name": "stdout",
     "output_type": "stream",
     "text": [
      "[INFO] Concatenating the embeddings to the dataframe...\n",
      "[INFO] - columns beginning with 'e' denote the full embddings.\n",
      "[INFO] Adding time feature columns into dataframe in `.df`.\n",
      "[INFO] Adding 'time_encoding' feature...\n",
      "[INFO] Adding 'time_diff' feature...\n",
      "[INFO] Adding 'timeline_index' feature...\n",
      "Computing the mean history for each item in the dataframe\n"
     ]
    },
    {
     "data": {
      "application/vnd.jupyter.widget-view+json": {
       "model_id": "1294c49f33084342830218d3d66cc11b",
       "version_major": 2,
       "version_minor": 0
      },
      "text/plain": [
       "  0%|          | 0/5568 [00:00<?, ?it/s]"
      ]
     },
     "metadata": {},
     "output_type": "display_data"
    },
    {
     "data": {
      "application/vnd.jupyter.widget-view+json": {
       "model_id": "93fbb6041af840f7a0518dcf78974591",
       "version_major": 2,
       "version_minor": 0
      },
      "text/plain": [
       "  0%|          | 0/4 [00:00<?, ?it/s]"
      ]
     },
     "metadata": {},
     "output_type": "display_data"
    },
    {
     "data": {
      "application/vnd.jupyter.widget-view+json": {
       "model_id": "65f190fef6544254a2ff268c84e4ba66",
       "version_major": 2,
       "version_minor": 0
      },
      "text/plain": [
       "  0%|          | 0/2 [00:00<?, ?it/s]"
      ]
     },
     "metadata": {},
     "output_type": "display_data"
    },
    {
     "data": {
      "application/vnd.jupyter.widget-view+json": {
       "model_id": "9dc7c8bd9d73449e8ff56f27ad10ba2b",
       "version_major": 2,
       "version_minor": 0
      },
      "text/plain": [
       "  0%|          | 0/3 [00:00<?, ?it/s]"
      ]
     },
     "metadata": {},
     "output_type": "display_data"
    },
    {
     "data": {
      "application/vnd.jupyter.widget-view+json": {
       "model_id": "e1e2e4cb814649eca99f019626b3f3f9",
       "version_major": 2,
       "version_minor": 0
      },
      "text/plain": [
       "  0%|          | 0/3 [00:00<?, ?it/s]"
      ]
     },
     "metadata": {},
     "output_type": "display_data"
    },
    {
     "data": {
      "application/vnd.jupyter.widget-view+json": {
       "model_id": "0cb90fe8863443efbdef79d1e1c6317e",
       "version_major": 2,
       "version_minor": 0
      },
      "text/plain": [
       "  0%|          | 0/2 [00:00<?, ?it/s]"
      ]
     },
     "metadata": {},
     "output_type": "display_data"
    },
    {
     "data": {
      "application/vnd.jupyter.widget-view+json": {
       "model_id": "61d74bc9c2e941e9a4a47ababf302dad",
       "version_major": 2,
       "version_minor": 0
      },
      "text/plain": [
       "  0%|          | 0/3 [00:00<?, ?it/s]"
      ]
     },
     "metadata": {},
     "output_type": "display_data"
    },
    {
     "data": {
      "application/vnd.jupyter.widget-view+json": {
       "model_id": "58efd4d113894f54bf3e21df186503db",
       "version_major": 2,
       "version_minor": 0
      },
      "text/plain": [
       "  0%|          | 0/3 [00:00<?, ?it/s]"
      ]
     },
     "metadata": {},
     "output_type": "display_data"
    },
    {
     "data": {
      "application/vnd.jupyter.widget-view+json": {
       "model_id": "70b2299599874215b7a0004b35d91008",
       "version_major": 2,
       "version_minor": 0
      },
      "text/plain": [
       "  0%|          | 0/2 [00:00<?, ?it/s]"
      ]
     },
     "metadata": {},
     "output_type": "display_data"
    },
    {
     "data": {
      "application/vnd.jupyter.widget-view+json": {
       "model_id": "71f716238d0148dfb06d2957e66af3be",
       "version_major": 2,
       "version_minor": 0
      },
      "text/plain": [
       "  0%|          | 0/3 [00:00<?, ?it/s]"
      ]
     },
     "metadata": {},
     "output_type": "display_data"
    },
    {
     "data": {
      "application/vnd.jupyter.widget-view+json": {
       "model_id": "e976e141789c46a0b071b7f152dba095",
       "version_major": 2,
       "version_minor": 0
      },
      "text/plain": [
       "  0%|          | 0/3 [00:00<?, ?it/s]"
      ]
     },
     "metadata": {},
     "output_type": "display_data"
    },
    {
     "data": {
      "application/vnd.jupyter.widget-view+json": {
       "model_id": "59bfb5d1c3344d89be9d347e167a095d",
       "version_major": 2,
       "version_minor": 0
      },
      "text/plain": [
       "  0%|          | 0/2 [00:00<?, ?it/s]"
      ]
     },
     "metadata": {},
     "output_type": "display_data"
    },
    {
     "data": {
      "application/vnd.jupyter.widget-view+json": {
       "model_id": "22e0931cb5894c449eb7b706e237158d",
       "version_major": 2,
       "version_minor": 0
      },
      "text/plain": [
       "  0%|          | 0/3 [00:00<?, ?it/s]"
      ]
     },
     "metadata": {},
     "output_type": "display_data"
    },
    {
     "data": {
      "application/vnd.jupyter.widget-view+json": {
       "model_id": "168a65e659b44bad8cb5009d67fe1d81",
       "version_major": 2,
       "version_minor": 0
      },
      "text/plain": [
       "  0%|          | 0/3 [00:00<?, ?it/s]"
      ]
     },
     "metadata": {},
     "output_type": "display_data"
    },
    {
     "name": "stdout",
     "output_type": "stream",
     "text": [
      "[INFO] Concatenating the embeddings to the dataframe...\n",
      "[INFO] - columns beginning with 'e' denote the full embddings.\n",
      "[INFO] Adding time feature columns into dataframe in `.df`.\n",
      "[INFO] Adding 'time_encoding' feature...\n",
      "[INFO] Adding 'time_diff' feature...\n",
      "[INFO] Adding 'timeline_index' feature...\n",
      "Computing the mean history for each item in the dataframe\n"
     ]
    },
    {
     "data": {
      "application/vnd.jupyter.widget-view+json": {
       "model_id": "37694ffaa31042dcbfaec312adc15991",
       "version_major": 2,
       "version_minor": 0
      },
      "text/plain": [
       "  0%|          | 0/5568 [00:00<?, ?it/s]"
      ]
     },
     "metadata": {},
     "output_type": "display_data"
    },
    {
     "name": "stdout",
     "output_type": "stream",
     "text": [
      "saving results dataframe to CSV for this hyperparameter search in rumours_output/ffn_mean_history_focal_2.csv\n",
      "saving the best model results dataframe to CSV for this hyperparameter search in rumours_output/ffn_mean_history_focal_2_best_model.csv\n"
     ]
    }
   ],
   "source": [
    "(\n",
    "    ffn_mean_history,\n",
    "    best_ffn_mean_history,\n",
    "    _,\n",
    "    __,\n",
    ") = histories_baseline_hyperparameter_search(\n",
    "    use_signatures=False,\n",
    "    results_output=f\"{output_dir}/ffn_mean_history_focal_{gamma}_kfold.csv\",\n",
    "    **kwargs,\n",
    ")"
   ]
  },
  {
   "cell_type": "code",
   "execution_count": 10,
   "metadata": {},
   "outputs": [
    {
     "data": {
      "text/html": [
       "<div>\n",
       "<style scoped>\n",
       "    .dataframe tbody tr th:only-of-type {\n",
       "        vertical-align: middle;\n",
       "    }\n",
       "\n",
       "    .dataframe tbody tr th {\n",
       "        vertical-align: top;\n",
       "    }\n",
       "\n",
       "    .dataframe thead th {\n",
       "        text-align: right;\n",
       "    }\n",
       "</style>\n",
       "<table border=\"1\" class=\"dataframe\">\n",
       "  <thead>\n",
       "    <tr style=\"text-align: right;\">\n",
       "      <th></th>\n",
       "      <th>loss</th>\n",
       "      <th>accuracy</th>\n",
       "      <th>f1</th>\n",
       "      <th>f1_scores</th>\n",
       "      <th>precision</th>\n",
       "      <th>precision_scores</th>\n",
       "      <th>recall</th>\n",
       "      <th>recall_scores</th>\n",
       "      <th>valid_loss</th>\n",
       "      <th>valid_accuracy</th>\n",
       "      <th>...</th>\n",
       "      <th>dropout_rate</th>\n",
       "      <th>learning_rate</th>\n",
       "      <th>seed</th>\n",
       "      <th>loss_function</th>\n",
       "      <th>gamma</th>\n",
       "      <th>k_fold</th>\n",
       "      <th>n_splits</th>\n",
       "      <th>batch_size</th>\n",
       "      <th>model_id</th>\n",
       "      <th>input_dim</th>\n",
       "    </tr>\n",
       "  </thead>\n",
       "  <tbody>\n",
       "    <tr>\n",
       "      <th>0</th>\n",
       "      <td>None</td>\n",
       "      <td>0.643430</td>\n",
       "      <td>0.620156</td>\n",
       "      <td>[0.7141789929777379, 0.5261332672776814]</td>\n",
       "      <td>0.618688</td>\n",
       "      <td>[0.7457098283931357, 0.49166666666666664]</td>\n",
       "      <td>0.625501</td>\n",
       "      <td>[0.6852064220183486, 0.5657964837506659]</td>\n",
       "      <td>None</td>\n",
       "      <td>0.786090</td>\n",
       "      <td>...</td>\n",
       "      <td>0.5</td>\n",
       "      <td>0.0010</td>\n",
       "      <td>1</td>\n",
       "      <td>focal</td>\n",
       "      <td>2</td>\n",
       "      <td>True</td>\n",
       "      <td>5</td>\n",
       "      <td>64</td>\n",
       "      <td>0.00</td>\n",
       "      <td>768</td>\n",
       "    </tr>\n",
       "    <tr>\n",
       "      <th>0</th>\n",
       "      <td>None</td>\n",
       "      <td>0.639515</td>\n",
       "      <td>0.614721</td>\n",
       "      <td>[0.7124591138864108, 0.516983016983017]</td>\n",
       "      <td>0.613282</td>\n",
       "      <td>[0.7399629400864731, 0.48660084626234135]</td>\n",
       "      <td>0.619169</td>\n",
       "      <td>[0.6869266055045872, 0.5514118273841236]</td>\n",
       "      <td>None</td>\n",
       "      <td>0.797547</td>\n",
       "      <td>...</td>\n",
       "      <td>0.5</td>\n",
       "      <td>0.0010</td>\n",
       "      <td>12</td>\n",
       "      <td>focal</td>\n",
       "      <td>2</td>\n",
       "      <td>True</td>\n",
       "      <td>5</td>\n",
       "      <td>64</td>\n",
       "      <td>0.00</td>\n",
       "      <td>768</td>\n",
       "    </tr>\n",
       "    <tr>\n",
       "      <th>0</th>\n",
       "      <td>None</td>\n",
       "      <td>0.641752</td>\n",
       "      <td>0.619149</td>\n",
       "      <td>[0.7119304556354917, 0.5263676688023657]</td>\n",
       "      <td>0.617800</td>\n",
       "      <td>[0.7459170854271356, 0.4896836313617607]</td>\n",
       "      <td>0.624950</td>\n",
       "      <td>[0.6809059633027523, 0.5689930740543421]</td>\n",
       "      <td>None</td>\n",
       "      <td>0.779620</td>\n",
       "      <td>...</td>\n",
       "      <td>0.5</td>\n",
       "      <td>0.0010</td>\n",
       "      <td>123</td>\n",
       "      <td>focal</td>\n",
       "      <td>2</td>\n",
       "      <td>True</td>\n",
       "      <td>5</td>\n",
       "      <td>64</td>\n",
       "      <td>0.00</td>\n",
       "      <td>768</td>\n",
       "    </tr>\n",
       "    <tr>\n",
       "      <th>0</th>\n",
       "      <td>None</td>\n",
       "      <td>0.641379</td>\n",
       "      <td>0.616167</td>\n",
       "      <td>[0.714540059347181, 0.5177944862155388]</td>\n",
       "      <td>0.614673</td>\n",
       "      <td>[0.7404674046740467, 0.48887837198296263]</td>\n",
       "      <td>0.620357</td>\n",
       "      <td>[0.6903669724770642, 0.5503462972828982]</td>\n",
       "      <td>None</td>\n",
       "      <td>0.774363</td>\n",
       "      <td>...</td>\n",
       "      <td>0.5</td>\n",
       "      <td>0.0001</td>\n",
       "      <td>1</td>\n",
       "      <td>focal</td>\n",
       "      <td>2</td>\n",
       "      <td>True</td>\n",
       "      <td>5</td>\n",
       "      <td>64</td>\n",
       "      <td>0.10</td>\n",
       "      <td>768</td>\n",
       "    </tr>\n",
       "    <tr>\n",
       "      <th>0</th>\n",
       "      <td>None</td>\n",
       "      <td>0.639143</td>\n",
       "      <td>0.612653</td>\n",
       "      <td>[0.7139479905437353, 0.5113579000504795]</td>\n",
       "      <td>0.611218</td>\n",
       "      <td>[0.7365853658536585, 0.4858513189448441]</td>\n",
       "      <td>0.616176</td>\n",
       "      <td>[0.6926605504587156, 0.5396909962706447]</td>\n",
       "      <td>None</td>\n",
       "      <td>0.779081</td>\n",
       "      <td>...</td>\n",
       "      <td>0.5</td>\n",
       "      <td>0.0001</td>\n",
       "      <td>12</td>\n",
       "      <td>focal</td>\n",
       "      <td>2</td>\n",
       "      <td>True</td>\n",
       "      <td>5</td>\n",
       "      <td>64</td>\n",
       "      <td>0.10</td>\n",
       "      <td>768</td>\n",
       "    </tr>\n",
       "    <tr>\n",
       "      <th>...</th>\n",
       "      <td>...</td>\n",
       "      <td>...</td>\n",
       "      <td>...</td>\n",
       "      <td>...</td>\n",
       "      <td>...</td>\n",
       "      <td>...</td>\n",
       "      <td>...</td>\n",
       "      <td>...</td>\n",
       "      <td>...</td>\n",
       "      <td>...</td>\n",
       "      <td>...</td>\n",
       "      <td>...</td>\n",
       "      <td>...</td>\n",
       "      <td>...</td>\n",
       "      <td>...</td>\n",
       "      <td>...</td>\n",
       "      <td>...</td>\n",
       "      <td>...</td>\n",
       "      <td>...</td>\n",
       "      <td>...</td>\n",
       "      <td>...</td>\n",
       "    </tr>\n",
       "    <tr>\n",
       "      <th>0</th>\n",
       "      <td>None</td>\n",
       "      <td>0.643989</td>\n",
       "      <td>0.619961</td>\n",
       "      <td>[0.7155198093535896, 0.524402390438247]</td>\n",
       "      <td>0.618431</td>\n",
       "      <td>[0.7445753254804711, 0.49228611500701264]</td>\n",
       "      <td>0.624824</td>\n",
       "      <td>[0.6886467889908257, 0.5610015982951518]</td>\n",
       "      <td>None</td>\n",
       "      <td>0.788920</td>\n",
       "      <td>...</td>\n",
       "      <td>0.1</td>\n",
       "      <td>0.0001</td>\n",
       "      <td>12</td>\n",
       "      <td>focal</td>\n",
       "      <td>2</td>\n",
       "      <td>True</td>\n",
       "      <td>5</td>\n",
       "      <td>64</td>\n",
       "      <td>0.22</td>\n",
       "      <td>768</td>\n",
       "    </tr>\n",
       "    <tr>\n",
       "      <th>0</th>\n",
       "      <td>None</td>\n",
       "      <td>0.653122</td>\n",
       "      <td>0.622151</td>\n",
       "      <td>[0.7303289378350964, 0.5139723165317314]</td>\n",
       "      <td>0.621226</td>\n",
       "      <td>[0.7383533548198066, 0.5040983606557377]</td>\n",
       "      <td>0.623359</td>\n",
       "      <td>[0.7224770642201835, 0.5242408098028769]</td>\n",
       "      <td>None</td>\n",
       "      <td>0.791616</td>\n",
       "      <td>...</td>\n",
       "      <td>0.1</td>\n",
       "      <td>0.0001</td>\n",
       "      <td>123</td>\n",
       "      <td>focal</td>\n",
       "      <td>2</td>\n",
       "      <td>True</td>\n",
       "      <td>5</td>\n",
       "      <td>64</td>\n",
       "      <td>0.22</td>\n",
       "      <td>768</td>\n",
       "    </tr>\n",
       "    <tr>\n",
       "      <th>0</th>\n",
       "      <td>None</td>\n",
       "      <td>0.652936</td>\n",
       "      <td>0.630680</td>\n",
       "      <td>[0.721340915893445, 0.5400197628458497]</td>\n",
       "      <td>0.628997</td>\n",
       "      <td>[0.754539762053851, 0.5034546292031322]</td>\n",
       "      <td>0.636626</td>\n",
       "      <td>[0.6909403669724771, 0.582312200319659]</td>\n",
       "      <td>None</td>\n",
       "      <td>0.790538</td>\n",
       "      <td>...</td>\n",
       "      <td>0.1</td>\n",
       "      <td>0.0005</td>\n",
       "      <td>1</td>\n",
       "      <td>focal</td>\n",
       "      <td>2</td>\n",
       "      <td>True</td>\n",
       "      <td>5</td>\n",
       "      <td>64</td>\n",
       "      <td>0.23</td>\n",
       "      <td>768</td>\n",
       "    </tr>\n",
       "    <tr>\n",
       "      <th>0</th>\n",
       "      <td>None</td>\n",
       "      <td>0.651258</td>\n",
       "      <td>0.621082</td>\n",
       "      <td>[0.7280127925570578, 0.5141521682679823]</td>\n",
       "      <td>0.619973</td>\n",
       "      <td>[0.7384252432910646, 0.5015197568389058]</td>\n",
       "      <td>0.622664</td>\n",
       "      <td>[0.7178899082568807, 0.527437400106553]</td>\n",
       "      <td>None</td>\n",
       "      <td>0.792829</td>\n",
       "      <td>...</td>\n",
       "      <td>0.1</td>\n",
       "      <td>0.0005</td>\n",
       "      <td>12</td>\n",
       "      <td>focal</td>\n",
       "      <td>2</td>\n",
       "      <td>True</td>\n",
       "      <td>5</td>\n",
       "      <td>64</td>\n",
       "      <td>0.23</td>\n",
       "      <td>768</td>\n",
       "    </tr>\n",
       "    <tr>\n",
       "      <th>0</th>\n",
       "      <td>None</td>\n",
       "      <td>0.653681</td>\n",
       "      <td>0.622979</td>\n",
       "      <td>[0.7305684454756382, 0.5153886280646844]</td>\n",
       "      <td>0.621999</td>\n",
       "      <td>[0.7391431924882629, 0.5048543689320388]</td>\n",
       "      <td>0.624281</td>\n",
       "      <td>[0.7221903669724771, 0.5263718700053277]</td>\n",
       "      <td>None</td>\n",
       "      <td>0.788651</td>\n",
       "      <td>...</td>\n",
       "      <td>0.1</td>\n",
       "      <td>0.0005</td>\n",
       "      <td>123</td>\n",
       "      <td>focal</td>\n",
       "      <td>2</td>\n",
       "      <td>True</td>\n",
       "      <td>5</td>\n",
       "      <td>64</td>\n",
       "      <td>0.23</td>\n",
       "      <td>768</td>\n",
       "    </tr>\n",
       "  </tbody>\n",
       "</table>\n",
       "<p>72 rows × 27 columns</p>\n",
       "</div>"
      ],
      "text/plain": [
       "    loss  accuracy        f1                                 f1_scores  \\\n",
       "0   None  0.643430  0.620156  [0.7141789929777379, 0.5261332672776814]   \n",
       "0   None  0.639515  0.614721   [0.7124591138864108, 0.516983016983017]   \n",
       "0   None  0.641752  0.619149  [0.7119304556354917, 0.5263676688023657]   \n",
       "0   None  0.641379  0.616167   [0.714540059347181, 0.5177944862155388]   \n",
       "0   None  0.639143  0.612653  [0.7139479905437353, 0.5113579000504795]   \n",
       "..   ...       ...       ...                                       ...   \n",
       "0   None  0.643989  0.619961   [0.7155198093535896, 0.524402390438247]   \n",
       "0   None  0.653122  0.622151  [0.7303289378350964, 0.5139723165317314]   \n",
       "0   None  0.652936  0.630680   [0.721340915893445, 0.5400197628458497]   \n",
       "0   None  0.651258  0.621082  [0.7280127925570578, 0.5141521682679823]   \n",
       "0   None  0.653681  0.622979  [0.7305684454756382, 0.5153886280646844]   \n",
       "\n",
       "    precision                           precision_scores    recall  \\\n",
       "0    0.618688  [0.7457098283931357, 0.49166666666666664]  0.625501   \n",
       "0    0.613282  [0.7399629400864731, 0.48660084626234135]  0.619169   \n",
       "0    0.617800   [0.7459170854271356, 0.4896836313617607]  0.624950   \n",
       "0    0.614673  [0.7404674046740467, 0.48887837198296263]  0.620357   \n",
       "0    0.611218   [0.7365853658536585, 0.4858513189448441]  0.616176   \n",
       "..        ...                                        ...       ...   \n",
       "0    0.618431  [0.7445753254804711, 0.49228611500701264]  0.624824   \n",
       "0    0.621226   [0.7383533548198066, 0.5040983606557377]  0.623359   \n",
       "0    0.628997    [0.754539762053851, 0.5034546292031322]  0.636626   \n",
       "0    0.619973   [0.7384252432910646, 0.5015197568389058]  0.622664   \n",
       "0    0.621999   [0.7391431924882629, 0.5048543689320388]  0.624281   \n",
       "\n",
       "                               recall_scores valid_loss  valid_accuracy  ...  \\\n",
       "0   [0.6852064220183486, 0.5657964837506659]       None        0.786090  ...   \n",
       "0   [0.6869266055045872, 0.5514118273841236]       None        0.797547  ...   \n",
       "0   [0.6809059633027523, 0.5689930740543421]       None        0.779620  ...   \n",
       "0   [0.6903669724770642, 0.5503462972828982]       None        0.774363  ...   \n",
       "0   [0.6926605504587156, 0.5396909962706447]       None        0.779081  ...   \n",
       "..                                       ...        ...             ...  ...   \n",
       "0   [0.6886467889908257, 0.5610015982951518]       None        0.788920  ...   \n",
       "0   [0.7224770642201835, 0.5242408098028769]       None        0.791616  ...   \n",
       "0    [0.6909403669724771, 0.582312200319659]       None        0.790538  ...   \n",
       "0    [0.7178899082568807, 0.527437400106553]       None        0.792829  ...   \n",
       "0   [0.7221903669724771, 0.5263718700053277]       None        0.788651  ...   \n",
       "\n",
       "    dropout_rate learning_rate  seed loss_function  gamma k_fold n_splits  \\\n",
       "0            0.5        0.0010     1         focal      2   True        5   \n",
       "0            0.5        0.0010    12         focal      2   True        5   \n",
       "0            0.5        0.0010   123         focal      2   True        5   \n",
       "0            0.5        0.0001     1         focal      2   True        5   \n",
       "0            0.5        0.0001    12         focal      2   True        5   \n",
       "..           ...           ...   ...           ...    ...    ...      ...   \n",
       "0            0.1        0.0001    12         focal      2   True        5   \n",
       "0            0.1        0.0001   123         focal      2   True        5   \n",
       "0            0.1        0.0005     1         focal      2   True        5   \n",
       "0            0.1        0.0005    12         focal      2   True        5   \n",
       "0            0.1        0.0005   123         focal      2   True        5   \n",
       "\n",
       "    batch_size  model_id  input_dim  \n",
       "0           64      0.00        768  \n",
       "0           64      0.00        768  \n",
       "0           64      0.00        768  \n",
       "0           64      0.10        768  \n",
       "0           64      0.10        768  \n",
       "..         ...       ...        ...  \n",
       "0           64      0.22        768  \n",
       "0           64      0.22        768  \n",
       "0           64      0.23        768  \n",
       "0           64      0.23        768  \n",
       "0           64      0.23        768  \n",
       "\n",
       "[72 rows x 27 columns]"
      ]
     },
     "execution_count": 10,
     "metadata": {},
     "output_type": "execute_result"
    }
   ],
   "source": [
    "ffn_mean_history"
   ]
  },
  {
   "cell_type": "code",
   "execution_count": 11,
   "metadata": {},
   "outputs": [
    {
     "data": {
      "text/html": [
       "<div>\n",
       "<style scoped>\n",
       "    .dataframe tbody tr th:only-of-type {\n",
       "        vertical-align: middle;\n",
       "    }\n",
       "\n",
       "    .dataframe tbody tr th {\n",
       "        vertical-align: top;\n",
       "    }\n",
       "\n",
       "    .dataframe thead th {\n",
       "        text-align: right;\n",
       "    }\n",
       "</style>\n",
       "<table border=\"1\" class=\"dataframe\">\n",
       "  <thead>\n",
       "    <tr style=\"text-align: right;\">\n",
       "      <th></th>\n",
       "      <th>loss</th>\n",
       "      <th>accuracy</th>\n",
       "      <th>f1</th>\n",
       "      <th>f1_scores</th>\n",
       "      <th>precision</th>\n",
       "      <th>precision_scores</th>\n",
       "      <th>recall</th>\n",
       "      <th>recall_scores</th>\n",
       "      <th>valid_loss</th>\n",
       "      <th>valid_accuracy</th>\n",
       "      <th>...</th>\n",
       "      <th>hidden_dim</th>\n",
       "      <th>dropout_rate</th>\n",
       "      <th>learning_rate</th>\n",
       "      <th>seed</th>\n",
       "      <th>loss_function</th>\n",
       "      <th>gamma</th>\n",
       "      <th>k_fold</th>\n",
       "      <th>n_splits</th>\n",
       "      <th>batch_size</th>\n",
       "      <th>input_dim</th>\n",
       "    </tr>\n",
       "  </thead>\n",
       "  <tbody>\n",
       "    <tr>\n",
       "      <th>0</th>\n",
       "      <td>None</td>\n",
       "      <td>0.634110</td>\n",
       "      <td>0.601902</td>\n",
       "      <td>[0.7151356842258019, 0.48866892419901015]</td>\n",
       "      <td>0.601075</td>\n",
       "      <td>[0.7240669997061416, 0.4780835881753313]</td>\n",
       "      <td>0.603078</td>\n",
       "      <td>[0.7064220183486238, 0.49973361747469364]</td>\n",
       "      <td>None</td>\n",
       "      <td>0.800647</td>\n",
       "      <td>...</td>\n",
       "      <td>(128, 128)</td>\n",
       "      <td>0.5</td>\n",
       "      <td>0.001</td>\n",
       "      <td>1</td>\n",
       "      <td>focal</td>\n",
       "      <td>2</td>\n",
       "      <td>True</td>\n",
       "      <td>5</td>\n",
       "      <td>64</td>\n",
       "      <td>768</td>\n",
       "    </tr>\n",
       "    <tr>\n",
       "      <th>0</th>\n",
       "      <td>None</td>\n",
       "      <td>0.631128</td>\n",
       "      <td>0.604174</td>\n",
       "      <td>[0.7074648928307465, 0.5008827238335434]</td>\n",
       "      <td>0.602908</td>\n",
       "      <td>[0.7302410741531888, 0.4755747126436782]</td>\n",
       "      <td>0.607551</td>\n",
       "      <td>[0.6860665137614679, 0.529035695258391]</td>\n",
       "      <td>None</td>\n",
       "      <td>0.798221</td>\n",
       "      <td>...</td>\n",
       "      <td>(128, 128)</td>\n",
       "      <td>0.5</td>\n",
       "      <td>0.001</td>\n",
       "      <td>12</td>\n",
       "      <td>focal</td>\n",
       "      <td>2</td>\n",
       "      <td>True</td>\n",
       "      <td>5</td>\n",
       "      <td>64</td>\n",
       "      <td>768</td>\n",
       "    </tr>\n",
       "    <tr>\n",
       "      <th>0</th>\n",
       "      <td>None</td>\n",
       "      <td>0.635787</td>\n",
       "      <td>0.608723</td>\n",
       "      <td>[0.711629279811098, 0.505816894284269]</td>\n",
       "      <td>0.607368</td>\n",
       "      <td>[0.7332725060827251, 0.4814636494944632]</td>\n",
       "      <td>0.611996</td>\n",
       "      <td>[0.6912270642201835, 0.5327650506126798]</td>\n",
       "      <td>None</td>\n",
       "      <td>0.791077</td>\n",
       "      <td>...</td>\n",
       "      <td>(128, 128)</td>\n",
       "      <td>0.5</td>\n",
       "      <td>0.001</td>\n",
       "      <td>123</td>\n",
       "      <td>focal</td>\n",
       "      <td>2</td>\n",
       "      <td>True</td>\n",
       "      <td>5</td>\n",
       "      <td>64</td>\n",
       "      <td>768</td>\n",
       "    </tr>\n",
       "  </tbody>\n",
       "</table>\n",
       "<p>3 rows × 26 columns</p>\n",
       "</div>"
      ],
      "text/plain": [
       "   loss  accuracy        f1                                  f1_scores  \\\n",
       "0  None  0.634110  0.601902  [0.7151356842258019, 0.48866892419901015]   \n",
       "0  None  0.631128  0.604174   [0.7074648928307465, 0.5008827238335434]   \n",
       "0  None  0.635787  0.608723     [0.711629279811098, 0.505816894284269]   \n",
       "\n",
       "   precision                          precision_scores    recall  \\\n",
       "0   0.601075  [0.7240669997061416, 0.4780835881753313]  0.603078   \n",
       "0   0.602908  [0.7302410741531888, 0.4755747126436782]  0.607551   \n",
       "0   0.607368  [0.7332725060827251, 0.4814636494944632]  0.611996   \n",
       "\n",
       "                               recall_scores valid_loss  valid_accuracy  ...  \\\n",
       "0  [0.7064220183486238, 0.49973361747469364]       None        0.800647  ...   \n",
       "0    [0.6860665137614679, 0.529035695258391]       None        0.798221  ...   \n",
       "0   [0.6912270642201835, 0.5327650506126798]       None        0.791077  ...   \n",
       "\n",
       "   hidden_dim dropout_rate  learning_rate seed  loss_function gamma k_fold  \\\n",
       "0  (128, 128)          0.5          0.001    1          focal     2   True   \n",
       "0  (128, 128)          0.5          0.001   12          focal     2   True   \n",
       "0  (128, 128)          0.5          0.001  123          focal     2   True   \n",
       "\n",
       "   n_splits  batch_size  input_dim  \n",
       "0         5          64        768  \n",
       "0         5          64        768  \n",
       "0         5          64        768  \n",
       "\n",
       "[3 rows x 26 columns]"
      ]
     },
     "execution_count": 11,
     "metadata": {},
     "output_type": "execute_result"
    }
   ],
   "source": [
    "best_ffn_mean_history"
   ]
  },
  {
   "cell_type": "code",
   "execution_count": 12,
   "metadata": {},
   "outputs": [
    {
     "data": {
      "text/plain": [
       "0.6049330665307449"
      ]
     },
     "execution_count": 12,
     "metadata": {},
     "output_type": "execute_result"
    }
   ],
   "source": [
    "best_ffn_mean_history[\"f1\"].mean()"
   ]
  },
  {
   "cell_type": "code",
   "execution_count": 13,
   "metadata": {},
   "outputs": [
    {
     "data": {
      "text/plain": [
       "0.6037837550425881"
      ]
     },
     "execution_count": 13,
     "metadata": {},
     "output_type": "execute_result"
    }
   ],
   "source": [
    "best_ffn_mean_history[\"precision\"].mean()"
   ]
  },
  {
   "cell_type": "code",
   "execution_count": 14,
   "metadata": {},
   "outputs": [
    {
     "data": {
      "text/plain": [
       "0.6075416599460066"
      ]
     },
     "execution_count": 14,
     "metadata": {},
     "output_type": "execute_result"
    }
   ],
   "source": [
    "best_ffn_mean_history[\"recall\"].mean()"
   ]
  },
  {
   "cell_type": "code",
   "execution_count": 15,
   "metadata": {},
   "outputs": [
    {
     "data": {
      "text/plain": [
       "array([0.71140995, 0.49845618])"
      ]
     },
     "execution_count": 15,
     "metadata": {},
     "output_type": "execute_result"
    }
   ],
   "source": [
    "np.stack(best_ffn_mean_history[\"f1_scores\"]).mean(axis=0)"
   ]
  },
  {
   "cell_type": "code",
   "execution_count": 16,
   "metadata": {},
   "outputs": [
    {
     "data": {
      "text/plain": [
       "array([0.72919353, 0.47837398])"
      ]
     },
     "execution_count": 16,
     "metadata": {},
     "output_type": "execute_result"
    }
   ],
   "source": [
    "np.stack(best_ffn_mean_history[\"precision_scores\"]).mean(axis=0)"
   ]
  },
  {
   "cell_type": "code",
   "execution_count": 17,
   "metadata": {},
   "outputs": [
    {
     "data": {
      "text/plain": [
       "array([0.69457187, 0.52051145])"
      ]
     },
     "execution_count": 17,
     "metadata": {},
     "output_type": "execute_result"
    }
   ],
   "source": [
    "np.stack(best_ffn_mean_history[\"recall_scores\"]).mean(axis=0)"
   ]
  }
 ],
 "metadata": {
  "kernelspec": {
   "display_name": "nlpsig-networks (Conda)",
   "language": "python",
   "name": "sys_nlpsig-networks"
  },
  "language_info": {
   "codemirror_mode": {
    "name": "ipython",
    "version": 3
   },
   "file_extension": ".py",
   "mimetype": "text/x-python",
   "name": "python",
   "nbconvert_exporter": "python",
   "pygments_lexer": "ipython3",
   "version": "3.8.17"
  }
 },
 "nbformat": 4,
 "nbformat_minor": 4
}
