{
 "cells": [
  {
   "cell_type": "code",
   "execution_count": 1,
   "metadata": {},
   "outputs": [],
   "source": [
    "import pickle\n",
    "import numpy as np\n",
    "import pandas as pd\n",
    "import re\n",
    "import os\n",
    "\n",
    "seed = 2023"
   ]
  },
  {
   "cell_type": "code",
   "execution_count": 2,
   "metadata": {},
   "outputs": [],
   "source": [
    "from nlpsig_networks.scripts.ffn_baseline_functions import (\n",
    "    histories_baseline_hyperparameter_search\n",
    ")"
   ]
  },
  {
   "cell_type": "code",
   "execution_count": 3,
   "metadata": {},
   "outputs": [],
   "source": [
    "output_dir = \"rumours_output\"\n",
    "if not os.path.isdir(output_dir):\n",
    "    os.makedirs(output_dir)"
   ]
  },
  {
   "cell_type": "markdown",
   "metadata": {},
   "source": [
    "## Rumours"
   ]
  },
  {
   "cell_type": "code",
   "execution_count": 4,
   "metadata": {},
   "outputs": [],
   "source": [
    "%run load_sbert-embeddings.py"
   ]
  },
  {
   "cell_type": "code",
   "execution_count": 5,
   "metadata": {},
   "outputs": [
    {
     "data": {
      "text/html": [
       "<div>\n",
       "<style scoped>\n",
       "    .dataframe tbody tr th:only-of-type {\n",
       "        vertical-align: middle;\n",
       "    }\n",
       "\n",
       "    .dataframe tbody tr th {\n",
       "        vertical-align: top;\n",
       "    }\n",
       "\n",
       "    .dataframe thead th {\n",
       "        text-align: right;\n",
       "    }\n",
       "</style>\n",
       "<table border=\"1\" class=\"dataframe\">\n",
       "  <thead>\n",
       "    <tr style=\"text-align: right;\">\n",
       "      <th></th>\n",
       "      <th>id</th>\n",
       "      <th>label</th>\n",
       "      <th>datetime</th>\n",
       "      <th>text</th>\n",
       "      <th>timeline_id</th>\n",
       "      <th>set</th>\n",
       "    </tr>\n",
       "  </thead>\n",
       "  <tbody>\n",
       "    <tr>\n",
       "      <th>0</th>\n",
       "      <td>5.249902e+17</td>\n",
       "      <td>0</td>\n",
       "      <td>2014-10-22 18:26:23</td>\n",
       "      <td>Police have clarified that there were two shoo...</td>\n",
       "      <td>0</td>\n",
       "      <td>train</td>\n",
       "    </tr>\n",
       "    <tr>\n",
       "      <th>1</th>\n",
       "      <td>5.249906e+17</td>\n",
       "      <td>0</td>\n",
       "      <td>2014-10-22 18:27:58</td>\n",
       "      <td>@CTVNews you guys \"confirmed\" there were 3 sho...</td>\n",
       "      <td>0</td>\n",
       "      <td>train</td>\n",
       "    </tr>\n",
       "    <tr>\n",
       "      <th>2</th>\n",
       "      <td>5.249908e+17</td>\n",
       "      <td>1</td>\n",
       "      <td>2014-10-22 18:28:46</td>\n",
       "      <td>@CTVNews get it right. http://t.co/GHYxMuzPG9</td>\n",
       "      <td>0</td>\n",
       "      <td>train</td>\n",
       "    </tr>\n",
       "    <tr>\n",
       "      <th>3</th>\n",
       "      <td>5.249927e+17</td>\n",
       "      <td>1</td>\n",
       "      <td>2014-10-22 18:36:29</td>\n",
       "      <td>RT @CTVNews Police have clarified that there w...</td>\n",
       "      <td>0</td>\n",
       "      <td>train</td>\n",
       "    </tr>\n",
       "    <tr>\n",
       "      <th>4</th>\n",
       "      <td>5.250038e+17</td>\n",
       "      <td>1</td>\n",
       "      <td>2014-10-22 19:20:41</td>\n",
       "      <td>@CTVNews @ctvsaskatoon so what happened at Rid...</td>\n",
       "      <td>0</td>\n",
       "      <td>train</td>\n",
       "    </tr>\n",
       "  </tbody>\n",
       "</table>\n",
       "</div>"
      ],
      "text/plain": [
       "             id label            datetime  \\\n",
       "0  5.249902e+17     0 2014-10-22 18:26:23   \n",
       "1  5.249906e+17     0 2014-10-22 18:27:58   \n",
       "2  5.249908e+17     1 2014-10-22 18:28:46   \n",
       "3  5.249927e+17     1 2014-10-22 18:36:29   \n",
       "4  5.250038e+17     1 2014-10-22 19:20:41   \n",
       "\n",
       "                                                text timeline_id    set  \n",
       "0  Police have clarified that there were two shoo...           0  train  \n",
       "1  @CTVNews you guys \"confirmed\" there were 3 sho...           0  train  \n",
       "2      @CTVNews get it right. http://t.co/GHYxMuzPG9           0  train  \n",
       "3  RT @CTVNews Police have clarified that there w...           0  train  \n",
       "4  @CTVNews @ctvsaskatoon so what happened at Rid...           0  train  "
      ]
     },
     "execution_count": 5,
     "metadata": {},
     "output_type": "execute_result"
    }
   ],
   "source": [
    "df_rumours.head()"
   ]
  },
  {
   "cell_type": "code",
   "execution_count": 6,
   "metadata": {},
   "outputs": [
    {
     "data": {
      "text/plain": [
       "(5568, 384)"
      ]
     },
     "execution_count": 6,
     "metadata": {},
     "output_type": "execute_result"
    }
   ],
   "source": [
    "sbert_embeddings.shape"
   ]
  },
  {
   "cell_type": "markdown",
   "metadata": {},
   "source": [
    "# Baseline: Averaging history and use FFN"
   ]
  },
  {
   "cell_type": "markdown",
   "metadata": {},
   "source": [
    "Here, we average the full history of a path and concatenate it to the current embedding (the total number of features that are passed into the FFN is 2 * sbert_embeddings.shape[0]).\n",
    "\n",
    "Here, we will run the hyperparameter search to implement the FFN with the same parameters as the standard FFN baseline on the sentence embeddings."
   ]
  },
  {
   "cell_type": "code",
   "execution_count": 7,
   "metadata": {},
   "outputs": [],
   "source": [
    "num_epochs = 100\n",
    "hidden_dim_sizes = [[64,64],[128,128],[256,256],[512,512]]\n",
    "dropout_rates = [0.5, 0.1]\n",
    "learning_rates = [1e-3, 1e-4, 5e-4]\n",
    "seeds = [1, 12, 123]\n",
    "loss = \"focal\"\n",
    "gamma = 2\n",
    "validation_metric = \"f1\"\n",
    "patience = 5\n",
    "split_indices = (df_rumours[df_rumours['set']=='train'].index,\n",
    "                 df_rumours[df_rumours['set']=='dev'].index,\n",
    "                 df_rumours[df_rumours['set']=='test'].index)"
   ]
  },
  {
   "cell_type": "code",
   "execution_count": 8,
   "metadata": {},
   "outputs": [
    {
     "name": "stdout",
     "output_type": "stream",
     "text": [
      "[INFO] Concatenating the embeddings to the dataframe...\n",
      "[INFO] - columns beginning with 'e' denote the full embddings.\n",
      "[INFO] Adding time feature columns into dataframe in `.df`.\n",
      "[INFO] Adding 'time_encoding' feature...\n",
      "[INFO] Adding 'time_diff' feature...\n",
      "[INFO] Adding 'timeline_index' feature...\n",
      "Computing the mean history for each item in the dataframe\n"
     ]
    },
    {
     "data": {
      "application/vnd.jupyter.widget-view+json": {
       "model_id": "075e76009eef4a3aaf7a071afd69d997",
       "version_major": 2,
       "version_minor": 0
      },
      "text/plain": [
       "  0%|          | 0/5568 [00:00<?, ?it/s]"
      ]
     },
     "metadata": {},
     "output_type": "display_data"
    },
    {
     "data": {
      "application/vnd.jupyter.widget-view+json": {
       "model_id": "4c889703900d4f77a8be2974801689bd",
       "version_major": 2,
       "version_minor": 0
      },
      "text/plain": [
       "  0%|          | 0/4 [00:00<?, ?it/s]"
      ]
     },
     "metadata": {},
     "output_type": "display_data"
    },
    {
     "data": {
      "application/vnd.jupyter.widget-view+json": {
       "model_id": "bf0ea4ecbe0546869b05314ebdf6bacc",
       "version_major": 2,
       "version_minor": 0
      },
      "text/plain": [
       "  0%|          | 0/2 [00:00<?, ?it/s]"
      ]
     },
     "metadata": {},
     "output_type": "display_data"
    },
    {
     "data": {
      "application/vnd.jupyter.widget-view+json": {
       "model_id": "3c802cd63a804df49a8af4b2e3cddc23",
       "version_major": 2,
       "version_minor": 0
      },
      "text/plain": [
       "  0%|          | 0/3 [00:00<?, ?it/s]"
      ]
     },
     "metadata": {},
     "output_type": "display_data"
    },
    {
     "data": {
      "application/vnd.jupyter.widget-view+json": {
       "model_id": "6f4f866638fa4d959882d4be3216fbb3",
       "version_major": 2,
       "version_minor": 0
      },
      "text/plain": [
       "  0%|          | 0/3 [00:00<?, ?it/s]"
      ]
     },
     "metadata": {},
     "output_type": "display_data"
    },
    {
     "data": {
      "application/vnd.jupyter.widget-view+json": {
       "model_id": "a0efed85b21c4d4297df8cda77aa4ceb",
       "version_major": 2,
       "version_minor": 0
      },
      "text/plain": [
       "  0%|          | 0/2 [00:00<?, ?it/s]"
      ]
     },
     "metadata": {},
     "output_type": "display_data"
    },
    {
     "data": {
      "application/vnd.jupyter.widget-view+json": {
       "model_id": "66e5baf8c6b340ee9cdc69669e8e1b04",
       "version_major": 2,
       "version_minor": 0
      },
      "text/plain": [
       "  0%|          | 0/3 [00:00<?, ?it/s]"
      ]
     },
     "metadata": {},
     "output_type": "display_data"
    },
    {
     "data": {
      "application/vnd.jupyter.widget-view+json": {
       "model_id": "161a0a14071d4a39a3a3d898fdb98cd1",
       "version_major": 2,
       "version_minor": 0
      },
      "text/plain": [
       "  0%|          | 0/3 [00:00<?, ?it/s]"
      ]
     },
     "metadata": {},
     "output_type": "display_data"
    },
    {
     "data": {
      "application/vnd.jupyter.widget-view+json": {
       "model_id": "526c0876101d49c4bca6a419860c0c04",
       "version_major": 2,
       "version_minor": 0
      },
      "text/plain": [
       "  0%|          | 0/2 [00:00<?, ?it/s]"
      ]
     },
     "metadata": {},
     "output_type": "display_data"
    },
    {
     "data": {
      "application/vnd.jupyter.widget-view+json": {
       "model_id": "fc62af8640e54fc99bcd0b57bfcbcc99",
       "version_major": 2,
       "version_minor": 0
      },
      "text/plain": [
       "  0%|          | 0/3 [00:00<?, ?it/s]"
      ]
     },
     "metadata": {},
     "output_type": "display_data"
    },
    {
     "data": {
      "application/vnd.jupyter.widget-view+json": {
       "model_id": "79fc02161cc144c5bdb8f5b78ec372cf",
       "version_major": 2,
       "version_minor": 0
      },
      "text/plain": [
       "  0%|          | 0/3 [00:00<?, ?it/s]"
      ]
     },
     "metadata": {},
     "output_type": "display_data"
    },
    {
     "data": {
      "application/vnd.jupyter.widget-view+json": {
       "model_id": "d3aaf63a970f4967aa1b6408eec2735c",
       "version_major": 2,
       "version_minor": 0
      },
      "text/plain": [
       "  0%|          | 0/2 [00:00<?, ?it/s]"
      ]
     },
     "metadata": {},
     "output_type": "display_data"
    },
    {
     "data": {
      "application/vnd.jupyter.widget-view+json": {
       "model_id": "357d34f1ba8a4f69a0a3d10d2e1863d0",
       "version_major": 2,
       "version_minor": 0
      },
      "text/plain": [
       "  0%|          | 0/3 [00:00<?, ?it/s]"
      ]
     },
     "metadata": {},
     "output_type": "display_data"
    },
    {
     "data": {
      "application/vnd.jupyter.widget-view+json": {
       "model_id": "ed991a0c49ab4077bb285f1978683b8e",
       "version_major": 2,
       "version_minor": 0
      },
      "text/plain": [
       "  0%|          | 0/3 [00:00<?, ?it/s]"
      ]
     },
     "metadata": {},
     "output_type": "display_data"
    },
    {
     "name": "stdout",
     "output_type": "stream",
     "text": [
      "[INFO] Concatenating the embeddings to the dataframe...\n",
      "[INFO] - columns beginning with 'e' denote the full embddings.\n",
      "[INFO] Adding time feature columns into dataframe in `.df`.\n",
      "[INFO] Adding 'time_encoding' feature...\n",
      "[INFO] Adding 'time_diff' feature...\n",
      "[INFO] Adding 'timeline_index' feature...\n",
      "Computing the mean history for each item in the dataframe\n"
     ]
    },
    {
     "data": {
      "application/vnd.jupyter.widget-view+json": {
       "model_id": "09634552aed5467180ad9b444e5e6855",
       "version_major": 2,
       "version_minor": 0
      },
      "text/plain": [
       "  0%|          | 0/5568 [00:00<?, ?it/s]"
      ]
     },
     "metadata": {},
     "output_type": "display_data"
    },
    {
     "name": "stdout",
     "output_type": "stream",
     "text": [
      "saving results dataframe to CSV for this hyperparameter search in rumours_output/ffn_mean_history_focal_2.csv\n",
      "saving the best model results dataframe to CSV for this hyperparameter search in rumours_output/ffn_mean_history_focal_2_best_model.csv\n"
     ]
    }
   ],
   "source": [
    "ffn_mean_history, best_ffn_mean_history, _, __ = histories_baseline_hyperparameter_search(\n",
    "    num_epochs=num_epochs,\n",
    "    df=df_rumours,\n",
    "    id_column=\"timeline_id\",\n",
    "    label_column=\"label\",\n",
    "    embeddings=sbert_embeddings,\n",
    "    y_data=y_data,\n",
    "    output_dim=output_dim,\n",
    "    hidden_dim_sizes=hidden_dim_sizes,\n",
    "    dropout_rates=dropout_rates,\n",
    "    learning_rates=learning_rates,\n",
    "    use_signatures=False,\n",
    "    seeds=seeds,\n",
    "    loss=loss,\n",
    "    gamma=gamma,\n",
    "    split_ids= None, #torch.tensor(df_rumours['timeline_id'].astype(int)),\n",
    "    split_indices=split_indices,\n",
    "    k_fold=False,\n",
    "    patience=patience,\n",
    "    validation_metric=validation_metric,\n",
    "    results_output=f\"{output_dir}/ffn_mean_history_focal_{gamma}.csv\",\n",
    "    verbose=False\n",
    ")"
   ]
  },
  {
   "cell_type": "code",
   "execution_count": 9,
   "metadata": {},
   "outputs": [
    {
     "data": {
      "text/html": [
       "<div>\n",
       "<style scoped>\n",
       "    .dataframe tbody tr th:only-of-type {\n",
       "        vertical-align: middle;\n",
       "    }\n",
       "\n",
       "    .dataframe tbody tr th {\n",
       "        vertical-align: top;\n",
       "    }\n",
       "\n",
       "    .dataframe thead th {\n",
       "        text-align: right;\n",
       "    }\n",
       "</style>\n",
       "<table border=\"1\" class=\"dataframe\">\n",
       "  <thead>\n",
       "    <tr style=\"text-align: right;\">\n",
       "      <th></th>\n",
       "      <th>loss</th>\n",
       "      <th>accuracy</th>\n",
       "      <th>f1</th>\n",
       "      <th>f1_scores</th>\n",
       "      <th>precision</th>\n",
       "      <th>precision_scores</th>\n",
       "      <th>recall</th>\n",
       "      <th>recall_scores</th>\n",
       "      <th>valid_loss</th>\n",
       "      <th>valid_accuracy</th>\n",
       "      <th>...</th>\n",
       "      <th>dropout_rate</th>\n",
       "      <th>learning_rate</th>\n",
       "      <th>seed</th>\n",
       "      <th>loss_function</th>\n",
       "      <th>gamma</th>\n",
       "      <th>k_fold</th>\n",
       "      <th>n_splits</th>\n",
       "      <th>batch_size</th>\n",
       "      <th>model_id</th>\n",
       "      <th>input_dim</th>\n",
       "    </tr>\n",
       "  </thead>\n",
       "  <tbody>\n",
       "    <tr>\n",
       "      <th>0</th>\n",
       "      <td>0.338222</td>\n",
       "      <td>0.510963</td>\n",
       "      <td>0.510707</td>\n",
       "      <td>[0.49951219512195116, 0.521901211556384]</td>\n",
       "      <td>0.513236</td>\n",
       "      <td>[0.5378151260504201, 0.4886561954624782]</td>\n",
       "      <td>0.513151</td>\n",
       "      <td>[0.4663023679417122, 0.56]</td>\n",
       "      <td>0.258686</td>\n",
       "      <td>0.665480</td>\n",
       "      <td>...</td>\n",
       "      <td>0.5</td>\n",
       "      <td>0.0010</td>\n",
       "      <td>1</td>\n",
       "      <td>focal</td>\n",
       "      <td>2</td>\n",
       "      <td>False</td>\n",
       "      <td>None</td>\n",
       "      <td>64</td>\n",
       "      <td>0.00</td>\n",
       "      <td>768</td>\n",
       "    </tr>\n",
       "    <tr>\n",
       "      <th>0</th>\n",
       "      <td>0.300500</td>\n",
       "      <td>0.532888</td>\n",
       "      <td>0.530859</td>\n",
       "      <td>[0.5000000000000001, 0.5617173524150268]</td>\n",
       "      <td>0.538268</td>\n",
       "      <td>[0.568445475638051, 0.5080906148867314]</td>\n",
       "      <td>0.537133</td>\n",
       "      <td>[0.44626593806921677, 0.628]</td>\n",
       "      <td>0.250418</td>\n",
       "      <td>0.665480</td>\n",
       "      <td>...</td>\n",
       "      <td>0.5</td>\n",
       "      <td>0.0010</td>\n",
       "      <td>12</td>\n",
       "      <td>focal</td>\n",
       "      <td>2</td>\n",
       "      <td>False</td>\n",
       "      <td>None</td>\n",
       "      <td>64</td>\n",
       "      <td>0.00</td>\n",
       "      <td>768</td>\n",
       "    </tr>\n",
       "    <tr>\n",
       "      <th>0</th>\n",
       "      <td>0.321668</td>\n",
       "      <td>0.530982</td>\n",
       "      <td>0.530671</td>\n",
       "      <td>[0.5427509293680297, 0.518590998043053]</td>\n",
       "      <td>0.530871</td>\n",
       "      <td>[0.5540796963946869, 0.5076628352490421]</td>\n",
       "      <td>0.530938</td>\n",
       "      <td>[0.5318761384335154, 0.53]</td>\n",
       "      <td>0.248420</td>\n",
       "      <td>0.672598</td>\n",
       "      <td>...</td>\n",
       "      <td>0.5</td>\n",
       "      <td>0.0010</td>\n",
       "      <td>123</td>\n",
       "      <td>focal</td>\n",
       "      <td>2</td>\n",
       "      <td>False</td>\n",
       "      <td>None</td>\n",
       "      <td>64</td>\n",
       "      <td>0.00</td>\n",
       "      <td>768</td>\n",
       "    </tr>\n",
       "    <tr>\n",
       "      <th>0</th>\n",
       "      <td>0.308341</td>\n",
       "      <td>0.517636</td>\n",
       "      <td>0.517632</td>\n",
       "      <td>[0.5162523900573613, 0.5190114068441064]</td>\n",
       "      <td>0.518912</td>\n",
       "      <td>[0.5432595573440644, 0.4945652173913043]</td>\n",
       "      <td>0.518902</td>\n",
       "      <td>[0.4918032786885246, 0.546]</td>\n",
       "      <td>0.244130</td>\n",
       "      <td>0.672598</td>\n",
       "      <td>...</td>\n",
       "      <td>0.5</td>\n",
       "      <td>0.0001</td>\n",
       "      <td>1</td>\n",
       "      <td>focal</td>\n",
       "      <td>2</td>\n",
       "      <td>False</td>\n",
       "      <td>None</td>\n",
       "      <td>64</td>\n",
       "      <td>0.10</td>\n",
       "      <td>768</td>\n",
       "    </tr>\n",
       "    <tr>\n",
       "      <th>0</th>\n",
       "      <td>0.315495</td>\n",
       "      <td>0.511916</td>\n",
       "      <td>0.511916</td>\n",
       "      <td>[0.5114503816793894, 0.5123809523809524]</td>\n",
       "      <td>0.513083</td>\n",
       "      <td>[0.5370741482965932, 0.4890909090909091]</td>\n",
       "      <td>0.513080</td>\n",
       "      <td>[0.48816029143898, 0.538]</td>\n",
       "      <td>0.256388</td>\n",
       "      <td>0.679715</td>\n",
       "      <td>...</td>\n",
       "      <td>0.5</td>\n",
       "      <td>0.0001</td>\n",
       "      <td>12</td>\n",
       "      <td>focal</td>\n",
       "      <td>2</td>\n",
       "      <td>False</td>\n",
       "      <td>None</td>\n",
       "      <td>64</td>\n",
       "      <td>0.10</td>\n",
       "      <td>768</td>\n",
       "    </tr>\n",
       "    <tr>\n",
       "      <th>...</th>\n",
       "      <td>...</td>\n",
       "      <td>...</td>\n",
       "      <td>...</td>\n",
       "      <td>...</td>\n",
       "      <td>...</td>\n",
       "      <td>...</td>\n",
       "      <td>...</td>\n",
       "      <td>...</td>\n",
       "      <td>...</td>\n",
       "      <td>...</td>\n",
       "      <td>...</td>\n",
       "      <td>...</td>\n",
       "      <td>...</td>\n",
       "      <td>...</td>\n",
       "      <td>...</td>\n",
       "      <td>...</td>\n",
       "      <td>...</td>\n",
       "      <td>...</td>\n",
       "      <td>...</td>\n",
       "      <td>...</td>\n",
       "      <td>...</td>\n",
       "    </tr>\n",
       "    <tr>\n",
       "      <th>0</th>\n",
       "      <td>0.285014</td>\n",
       "      <td>0.530982</td>\n",
       "      <td>0.528169</td>\n",
       "      <td>[0.5646017699115043, 0.49173553719008267]</td>\n",
       "      <td>0.528800</td>\n",
       "      <td>[0.5490533562822719, 0.5085470085470085]</td>\n",
       "      <td>0.528528</td>\n",
       "      <td>[0.581056466302368, 0.476]</td>\n",
       "      <td>0.238764</td>\n",
       "      <td>0.665480</td>\n",
       "      <td>...</td>\n",
       "      <td>0.1</td>\n",
       "      <td>0.0001</td>\n",
       "      <td>12</td>\n",
       "      <td>focal</td>\n",
       "      <td>2</td>\n",
       "      <td>False</td>\n",
       "      <td>None</td>\n",
       "      <td>64</td>\n",
       "      <td>0.22</td>\n",
       "      <td>768</td>\n",
       "    </tr>\n",
       "    <tr>\n",
       "      <th>0</th>\n",
       "      <td>0.295988</td>\n",
       "      <td>0.513823</td>\n",
       "      <td>0.513812</td>\n",
       "      <td>[0.5114942528735632, 0.5161290322580646]</td>\n",
       "      <td>0.515184</td>\n",
       "      <td>[0.5393939393939394, 0.49097472924187724]</td>\n",
       "      <td>0.515169</td>\n",
       "      <td>[0.48633879781420764, 0.544]</td>\n",
       "      <td>0.240908</td>\n",
       "      <td>0.661922</td>\n",
       "      <td>...</td>\n",
       "      <td>0.1</td>\n",
       "      <td>0.0001</td>\n",
       "      <td>123</td>\n",
       "      <td>focal</td>\n",
       "      <td>2</td>\n",
       "      <td>False</td>\n",
       "      <td>None</td>\n",
       "      <td>64</td>\n",
       "      <td>0.22</td>\n",
       "      <td>768</td>\n",
       "    </tr>\n",
       "    <tr>\n",
       "      <th>0</th>\n",
       "      <td>0.340347</td>\n",
       "      <td>0.517636</td>\n",
       "      <td>0.511131</td>\n",
       "      <td>[0.4547413793103448, 0.5675213675213675]</td>\n",
       "      <td>0.526125</td>\n",
       "      <td>[0.5567282321899736, 0.4955223880597015]</td>\n",
       "      <td>0.524168</td>\n",
       "      <td>[0.3843351548269581, 0.664]</td>\n",
       "      <td>0.267414</td>\n",
       "      <td>0.644128</td>\n",
       "      <td>...</td>\n",
       "      <td>0.1</td>\n",
       "      <td>0.0005</td>\n",
       "      <td>1</td>\n",
       "      <td>focal</td>\n",
       "      <td>2</td>\n",
       "      <td>False</td>\n",
       "      <td>None</td>\n",
       "      <td>64</td>\n",
       "      <td>0.23</td>\n",
       "      <td>768</td>\n",
       "    </tr>\n",
       "    <tr>\n",
       "      <th>0</th>\n",
       "      <td>0.318954</td>\n",
       "      <td>0.485224</td>\n",
       "      <td>0.478048</td>\n",
       "      <td>[0.5392491467576791, 0.4168466522678186]</td>\n",
       "      <td>0.480137</td>\n",
       "      <td>[0.507223113964687, 0.45305164319248825]</td>\n",
       "      <td>0.480796</td>\n",
       "      <td>[0.575591985428051, 0.386]</td>\n",
       "      <td>0.254116</td>\n",
       "      <td>0.661922</td>\n",
       "      <td>...</td>\n",
       "      <td>0.1</td>\n",
       "      <td>0.0005</td>\n",
       "      <td>12</td>\n",
       "      <td>focal</td>\n",
       "      <td>2</td>\n",
       "      <td>False</td>\n",
       "      <td>None</td>\n",
       "      <td>64</td>\n",
       "      <td>0.23</td>\n",
       "      <td>768</td>\n",
       "    </tr>\n",
       "    <tr>\n",
       "      <th>0</th>\n",
       "      <td>0.299112</td>\n",
       "      <td>0.488084</td>\n",
       "      <td>0.471467</td>\n",
       "      <td>[0.5651821862348178, 0.3777520278099652]</td>\n",
       "      <td>0.478891</td>\n",
       "      <td>[0.5087463556851312, 0.4490358126721763]</td>\n",
       "      <td>0.480851</td>\n",
       "      <td>[0.6357012750455373, 0.326]</td>\n",
       "      <td>0.232679</td>\n",
       "      <td>0.686833</td>\n",
       "      <td>...</td>\n",
       "      <td>0.1</td>\n",
       "      <td>0.0005</td>\n",
       "      <td>123</td>\n",
       "      <td>focal</td>\n",
       "      <td>2</td>\n",
       "      <td>False</td>\n",
       "      <td>None</td>\n",
       "      <td>64</td>\n",
       "      <td>0.23</td>\n",
       "      <td>768</td>\n",
       "    </tr>\n",
       "  </tbody>\n",
       "</table>\n",
       "<p>72 rows × 27 columns</p>\n",
       "</div>"
      ],
      "text/plain": [
       "        loss  accuracy        f1                                  f1_scores  \\\n",
       "0   0.338222  0.510963  0.510707   [0.49951219512195116, 0.521901211556384]   \n",
       "0   0.300500  0.532888  0.530859   [0.5000000000000001, 0.5617173524150268]   \n",
       "0   0.321668  0.530982  0.530671    [0.5427509293680297, 0.518590998043053]   \n",
       "0   0.308341  0.517636  0.517632   [0.5162523900573613, 0.5190114068441064]   \n",
       "0   0.315495  0.511916  0.511916   [0.5114503816793894, 0.5123809523809524]   \n",
       "..       ...       ...       ...                                        ...   \n",
       "0   0.285014  0.530982  0.528169  [0.5646017699115043, 0.49173553719008267]   \n",
       "0   0.295988  0.513823  0.513812   [0.5114942528735632, 0.5161290322580646]   \n",
       "0   0.340347  0.517636  0.511131   [0.4547413793103448, 0.5675213675213675]   \n",
       "0   0.318954  0.485224  0.478048   [0.5392491467576791, 0.4168466522678186]   \n",
       "0   0.299112  0.488084  0.471467   [0.5651821862348178, 0.3777520278099652]   \n",
       "\n",
       "    precision                           precision_scores    recall  \\\n",
       "0    0.513236   [0.5378151260504201, 0.4886561954624782]  0.513151   \n",
       "0    0.538268    [0.568445475638051, 0.5080906148867314]  0.537133   \n",
       "0    0.530871   [0.5540796963946869, 0.5076628352490421]  0.530938   \n",
       "0    0.518912   [0.5432595573440644, 0.4945652173913043]  0.518902   \n",
       "0    0.513083   [0.5370741482965932, 0.4890909090909091]  0.513080   \n",
       "..        ...                                        ...       ...   \n",
       "0    0.528800   [0.5490533562822719, 0.5085470085470085]  0.528528   \n",
       "0    0.515184  [0.5393939393939394, 0.49097472924187724]  0.515169   \n",
       "0    0.526125   [0.5567282321899736, 0.4955223880597015]  0.524168   \n",
       "0    0.480137   [0.507223113964687, 0.45305164319248825]  0.480796   \n",
       "0    0.478891   [0.5087463556851312, 0.4490358126721763]  0.480851   \n",
       "\n",
       "                   recall_scores  valid_loss  valid_accuracy  ...  \\\n",
       "0     [0.4663023679417122, 0.56]    0.258686        0.665480  ...   \n",
       "0   [0.44626593806921677, 0.628]    0.250418        0.665480  ...   \n",
       "0     [0.5318761384335154, 0.53]    0.248420        0.672598  ...   \n",
       "0    [0.4918032786885246, 0.546]    0.244130        0.672598  ...   \n",
       "0      [0.48816029143898, 0.538]    0.256388        0.679715  ...   \n",
       "..                           ...         ...             ...  ...   \n",
       "0     [0.581056466302368, 0.476]    0.238764        0.665480  ...   \n",
       "0   [0.48633879781420764, 0.544]    0.240908        0.661922  ...   \n",
       "0    [0.3843351548269581, 0.664]    0.267414        0.644128  ...   \n",
       "0     [0.575591985428051, 0.386]    0.254116        0.661922  ...   \n",
       "0    [0.6357012750455373, 0.326]    0.232679        0.686833  ...   \n",
       "\n",
       "    dropout_rate learning_rate  seed loss_function  gamma k_fold n_splits  \\\n",
       "0            0.5        0.0010     1         focal      2  False     None   \n",
       "0            0.5        0.0010    12         focal      2  False     None   \n",
       "0            0.5        0.0010   123         focal      2  False     None   \n",
       "0            0.5        0.0001     1         focal      2  False     None   \n",
       "0            0.5        0.0001    12         focal      2  False     None   \n",
       "..           ...           ...   ...           ...    ...    ...      ...   \n",
       "0            0.1        0.0001    12         focal      2  False     None   \n",
       "0            0.1        0.0001   123         focal      2  False     None   \n",
       "0            0.1        0.0005     1         focal      2  False     None   \n",
       "0            0.1        0.0005    12         focal      2  False     None   \n",
       "0            0.1        0.0005   123         focal      2  False     None   \n",
       "\n",
       "    batch_size  model_id  input_dim  \n",
       "0           64      0.00        768  \n",
       "0           64      0.00        768  \n",
       "0           64      0.00        768  \n",
       "0           64      0.10        768  \n",
       "0           64      0.10        768  \n",
       "..         ...       ...        ...  \n",
       "0           64      0.22        768  \n",
       "0           64      0.22        768  \n",
       "0           64      0.23        768  \n",
       "0           64      0.23        768  \n",
       "0           64      0.23        768  \n",
       "\n",
       "[72 rows x 27 columns]"
      ]
     },
     "execution_count": 9,
     "metadata": {},
     "output_type": "execute_result"
    }
   ],
   "source": [
    "ffn_mean_history"
   ]
  },
  {
   "cell_type": "code",
   "execution_count": 10,
   "metadata": {},
   "outputs": [
    {
     "data": {
      "text/html": [
       "<div>\n",
       "<style scoped>\n",
       "    .dataframe tbody tr th:only-of-type {\n",
       "        vertical-align: middle;\n",
       "    }\n",
       "\n",
       "    .dataframe tbody tr th {\n",
       "        vertical-align: top;\n",
       "    }\n",
       "\n",
       "    .dataframe thead th {\n",
       "        text-align: right;\n",
       "    }\n",
       "</style>\n",
       "<table border=\"1\" class=\"dataframe\">\n",
       "  <thead>\n",
       "    <tr style=\"text-align: right;\">\n",
       "      <th></th>\n",
       "      <th>loss</th>\n",
       "      <th>accuracy</th>\n",
       "      <th>f1</th>\n",
       "      <th>f1_scores</th>\n",
       "      <th>precision</th>\n",
       "      <th>precision_scores</th>\n",
       "      <th>recall</th>\n",
       "      <th>recall_scores</th>\n",
       "      <th>valid_loss</th>\n",
       "      <th>valid_accuracy</th>\n",
       "      <th>...</th>\n",
       "      <th>hidden_dim</th>\n",
       "      <th>dropout_rate</th>\n",
       "      <th>learning_rate</th>\n",
       "      <th>seed</th>\n",
       "      <th>loss_function</th>\n",
       "      <th>gamma</th>\n",
       "      <th>k_fold</th>\n",
       "      <th>n_splits</th>\n",
       "      <th>batch_size</th>\n",
       "      <th>input_dim</th>\n",
       "    </tr>\n",
       "  </thead>\n",
       "  <tbody>\n",
       "    <tr>\n",
       "      <th>0</th>\n",
       "      <td>0.322381</td>\n",
       "      <td>0.503336</td>\n",
       "      <td>0.502751</td>\n",
       "      <td>[0.4856860809476801, 0.519815668202765]</td>\n",
       "      <td>0.506112</td>\n",
       "      <td>[0.5301724137931034, 0.48205128205128206]</td>\n",
       "      <td>0.506044</td>\n",
       "      <td>[0.44808743169398907, 0.564]</td>\n",
       "      <td>0.259724</td>\n",
       "      <td>0.661922</td>\n",
       "      <td>...</td>\n",
       "      <td>(256, 256)</td>\n",
       "      <td>0.1</td>\n",
       "      <td>0.0005</td>\n",
       "      <td>1</td>\n",
       "      <td>focal</td>\n",
       "      <td>2</td>\n",
       "      <td>False</td>\n",
       "      <td>None</td>\n",
       "      <td>64</td>\n",
       "      <td>768</td>\n",
       "    </tr>\n",
       "    <tr>\n",
       "      <th>0</th>\n",
       "      <td>0.286459</td>\n",
       "      <td>0.528122</td>\n",
       "      <td>0.527875</td>\n",
       "      <td>[0.5386766076421249, 0.5170731707317073]</td>\n",
       "      <td>0.528144</td>\n",
       "      <td>[0.5515267175572519, 0.5047619047619047]</td>\n",
       "      <td>0.528206</td>\n",
       "      <td>[0.5264116575591985, 0.53]</td>\n",
       "      <td>0.240372</td>\n",
       "      <td>0.679715</td>\n",
       "      <td>...</td>\n",
       "      <td>(256, 256)</td>\n",
       "      <td>0.1</td>\n",
       "      <td>0.0005</td>\n",
       "      <td>12</td>\n",
       "      <td>focal</td>\n",
       "      <td>2</td>\n",
       "      <td>False</td>\n",
       "      <td>None</td>\n",
       "      <td>64</td>\n",
       "      <td>768</td>\n",
       "    </tr>\n",
       "    <tr>\n",
       "      <th>0</th>\n",
       "      <td>0.285234</td>\n",
       "      <td>0.523356</td>\n",
       "      <td>0.511264</td>\n",
       "      <td>[0.5881383855024711, 0.4343891402714932]</td>\n",
       "      <td>0.518421</td>\n",
       "      <td>[0.5368421052631579, 0.5]</td>\n",
       "      <td>0.517137</td>\n",
       "      <td>[0.6502732240437158, 0.384]</td>\n",
       "      <td>0.233040</td>\n",
       "      <td>0.701068</td>\n",
       "      <td>...</td>\n",
       "      <td>(256, 256)</td>\n",
       "      <td>0.1</td>\n",
       "      <td>0.0005</td>\n",
       "      <td>123</td>\n",
       "      <td>focal</td>\n",
       "      <td>2</td>\n",
       "      <td>False</td>\n",
       "      <td>None</td>\n",
       "      <td>64</td>\n",
       "      <td>768</td>\n",
       "    </tr>\n",
       "  </tbody>\n",
       "</table>\n",
       "<p>3 rows × 26 columns</p>\n",
       "</div>"
      ],
      "text/plain": [
       "       loss  accuracy        f1                                 f1_scores  \\\n",
       "0  0.322381  0.503336  0.502751   [0.4856860809476801, 0.519815668202765]   \n",
       "0  0.286459  0.528122  0.527875  [0.5386766076421249, 0.5170731707317073]   \n",
       "0  0.285234  0.523356  0.511264  [0.5881383855024711, 0.4343891402714932]   \n",
       "\n",
       "   precision                           precision_scores    recall  \\\n",
       "0   0.506112  [0.5301724137931034, 0.48205128205128206]  0.506044   \n",
       "0   0.528144   [0.5515267175572519, 0.5047619047619047]  0.528206   \n",
       "0   0.518421                  [0.5368421052631579, 0.5]  0.517137   \n",
       "\n",
       "                  recall_scores  valid_loss  valid_accuracy  ...  hidden_dim  \\\n",
       "0  [0.44808743169398907, 0.564]    0.259724        0.661922  ...  (256, 256)   \n",
       "0    [0.5264116575591985, 0.53]    0.240372        0.679715  ...  (256, 256)   \n",
       "0   [0.6502732240437158, 0.384]    0.233040        0.701068  ...  (256, 256)   \n",
       "\n",
       "  dropout_rate  learning_rate seed  loss_function gamma k_fold  n_splits  \\\n",
       "0          0.1         0.0005    1          focal     2  False      None   \n",
       "0          0.1         0.0005   12          focal     2  False      None   \n",
       "0          0.1         0.0005  123          focal     2  False      None   \n",
       "\n",
       "   batch_size  input_dim  \n",
       "0          64        768  \n",
       "0          64        768  \n",
       "0          64        768  \n",
       "\n",
       "[3 rows x 26 columns]"
      ]
     },
     "execution_count": 10,
     "metadata": {},
     "output_type": "execute_result"
    }
   ],
   "source": [
    "best_ffn_mean_history"
   ]
  },
  {
   "cell_type": "code",
   "execution_count": 11,
   "metadata": {},
   "outputs": [
    {
     "data": {
      "text/plain": [
       "0.5139631755497068"
      ]
     },
     "execution_count": 11,
     "metadata": {},
     "output_type": "execute_result"
    }
   ],
   "source": [
    "best_ffn_mean_history[\"f1\"].mean()"
   ]
  },
  {
   "cell_type": "code",
   "execution_count": 12,
   "metadata": {},
   "outputs": [
    {
     "data": {
      "text/plain": [
       "0.5175590705711166"
      ]
     },
     "execution_count": 12,
     "metadata": {},
     "output_type": "execute_result"
    }
   ],
   "source": [
    "best_ffn_mean_history[\"precision\"].mean()"
   ]
  },
  {
   "cell_type": "code",
   "execution_count": 13,
   "metadata": {},
   "outputs": [
    {
     "data": {
      "text/plain": [
       "0.5171287188828172"
      ]
     },
     "execution_count": 13,
     "metadata": {},
     "output_type": "execute_result"
    }
   ],
   "source": [
    "best_ffn_mean_history[\"recall\"].mean()"
   ]
  },
  {
   "cell_type": "code",
   "execution_count": 14,
   "metadata": {},
   "outputs": [
    {
     "data": {
      "text/plain": [
       "array([0.53750036, 0.49042599])"
      ]
     },
     "execution_count": 14,
     "metadata": {},
     "output_type": "execute_result"
    }
   ],
   "source": [
    "np.stack(best_ffn_mean_history[\"f1_scores\"]).mean(axis=0)"
   ]
  },
  {
   "cell_type": "code",
   "execution_count": 15,
   "metadata": {},
   "outputs": [
    {
     "data": {
      "text/plain": [
       "array([0.53951375, 0.4956044 ])"
      ]
     },
     "execution_count": 15,
     "metadata": {},
     "output_type": "execute_result"
    }
   ],
   "source": [
    "np.stack(best_ffn_mean_history[\"precision_scores\"]).mean(axis=0)"
   ]
  },
  {
   "cell_type": "code",
   "execution_count": 16,
   "metadata": {},
   "outputs": [
    {
     "data": {
      "text/plain": [
       "array([0.54159077, 0.49266667])"
      ]
     },
     "execution_count": 16,
     "metadata": {},
     "output_type": "execute_result"
    }
   ],
   "source": [
    "np.stack(best_ffn_mean_history[\"recall_scores\"]).mean(axis=0)"
   ]
  }
 ],
 "metadata": {
  "kernelspec": {
   "display_name": "nlpsig-networks (Conda)",
   "language": "python",
   "name": "sys_nlpsig-networks"
  },
  "language_info": {
   "codemirror_mode": {
    "name": "ipython",
    "version": 3
   },
   "file_extension": ".py",
   "mimetype": "text/x-python",
   "name": "python",
   "nbconvert_exporter": "python",
   "pygments_lexer": "ipython3",
   "version": "3.8.17"
  }
 },
 "nbformat": 4,
 "nbformat_minor": 4
}
