{
 "cells": [
  {
   "cell_type": "code",
   "execution_count": 1,
   "id": "a983a5e8",
   "metadata": {},
   "outputs": [],
   "source": [
    "import numpy as np\n",
    "import pickle\n",
    "import os\n",
    "\n",
    "seed = 2023"
   ]
  },
  {
   "cell_type": "code",
   "execution_count": 2,
   "id": "a4b2805b-1454-407d-9a0a-740341ebfd3c",
   "metadata": {},
   "outputs": [
    {
     "data": {
      "text/plain": [
       "device(type='cuda')"
      ]
     },
     "execution_count": 2,
     "metadata": {},
     "output_type": "execute_result"
    }
   ],
   "source": [
    "import torch\n",
    "\n",
    "# set device\n",
    "device = torch.device(\"cuda\" if torch.cuda.is_available() else \"cpu\")\n",
    "device"
   ]
  },
  {
   "cell_type": "code",
   "execution_count": 3,
   "id": "e4e666cc",
   "metadata": {},
   "outputs": [],
   "source": [
    "from nlpsig_networks.scripts.seqsignet_full_attention_functions import (\n",
    "    seqsignet_full_attention_hyperparameter_search,\n",
    ")"
   ]
  },
  {
   "cell_type": "code",
   "execution_count": 4,
   "id": "6e918dde",
   "metadata": {},
   "outputs": [],
   "source": [
    "output_dir = \"rumours_output\"\n",
    "if not os.path.isdir(output_dir):\n",
    "    os.makedirs(output_dir)"
   ]
  },
  {
   "cell_type": "markdown",
   "id": "f7409a03",
   "metadata": {},
   "source": [
    "## Rumours"
   ]
  },
  {
   "cell_type": "code",
   "execution_count": 5,
   "id": "f00bb922",
   "metadata": {},
   "outputs": [],
   "source": [
    "%run load_sbert-embeddings.py"
   ]
  },
  {
   "cell_type": "code",
   "execution_count": 6,
   "id": "720d820f",
   "metadata": {},
   "outputs": [
    {
     "data": {
      "text/html": [
       "<div>\n",
       "<style scoped>\n",
       "    .dataframe tbody tr th:only-of-type {\n",
       "        vertical-align: middle;\n",
       "    }\n",
       "\n",
       "    .dataframe tbody tr th {\n",
       "        vertical-align: top;\n",
       "    }\n",
       "\n",
       "    .dataframe thead th {\n",
       "        text-align: right;\n",
       "    }\n",
       "</style>\n",
       "<table border=\"1\" class=\"dataframe\">\n",
       "  <thead>\n",
       "    <tr style=\"text-align: right;\">\n",
       "      <th></th>\n",
       "      <th>id</th>\n",
       "      <th>label</th>\n",
       "      <th>datetime</th>\n",
       "      <th>text</th>\n",
       "      <th>timeline_id</th>\n",
       "      <th>set</th>\n",
       "    </tr>\n",
       "  </thead>\n",
       "  <tbody>\n",
       "    <tr>\n",
       "      <th>0</th>\n",
       "      <td>5.249902e+17</td>\n",
       "      <td>0</td>\n",
       "      <td>2014-10-22 18:26:23</td>\n",
       "      <td>Police have clarified that there were two shoo...</td>\n",
       "      <td>0</td>\n",
       "      <td>train</td>\n",
       "    </tr>\n",
       "    <tr>\n",
       "      <th>1</th>\n",
       "      <td>5.249906e+17</td>\n",
       "      <td>0</td>\n",
       "      <td>2014-10-22 18:27:58</td>\n",
       "      <td>@CTVNews you guys \"confirmed\" there were 3 sho...</td>\n",
       "      <td>0</td>\n",
       "      <td>train</td>\n",
       "    </tr>\n",
       "    <tr>\n",
       "      <th>2</th>\n",
       "      <td>5.249908e+17</td>\n",
       "      <td>1</td>\n",
       "      <td>2014-10-22 18:28:46</td>\n",
       "      <td>@CTVNews get it right. http://t.co/GHYxMuzPG9</td>\n",
       "      <td>0</td>\n",
       "      <td>train</td>\n",
       "    </tr>\n",
       "    <tr>\n",
       "      <th>3</th>\n",
       "      <td>5.249927e+17</td>\n",
       "      <td>1</td>\n",
       "      <td>2014-10-22 18:36:29</td>\n",
       "      <td>RT @CTVNews Police have clarified that there w...</td>\n",
       "      <td>0</td>\n",
       "      <td>train</td>\n",
       "    </tr>\n",
       "    <tr>\n",
       "      <th>4</th>\n",
       "      <td>5.250038e+17</td>\n",
       "      <td>1</td>\n",
       "      <td>2014-10-22 19:20:41</td>\n",
       "      <td>@CTVNews @ctvsaskatoon so what happened at Rid...</td>\n",
       "      <td>0</td>\n",
       "      <td>train</td>\n",
       "    </tr>\n",
       "  </tbody>\n",
       "</table>\n",
       "</div>"
      ],
      "text/plain": [
       "             id label            datetime  \\\n",
       "0  5.249902e+17     0 2014-10-22 18:26:23   \n",
       "1  5.249906e+17     0 2014-10-22 18:27:58   \n",
       "2  5.249908e+17     1 2014-10-22 18:28:46   \n",
       "3  5.249927e+17     1 2014-10-22 18:36:29   \n",
       "4  5.250038e+17     1 2014-10-22 19:20:41   \n",
       "\n",
       "                                                text timeline_id    set  \n",
       "0  Police have clarified that there were two shoo...           0  train  \n",
       "1  @CTVNews you guys \"confirmed\" there were 3 sho...           0  train  \n",
       "2      @CTVNews get it right. http://t.co/GHYxMuzPG9           0  train  \n",
       "3  RT @CTVNews Police have clarified that there w...           0  train  \n",
       "4  @CTVNews @ctvsaskatoon so what happened at Rid...           0  train  "
      ]
     },
     "execution_count": 6,
     "metadata": {},
     "output_type": "execute_result"
    }
   ],
   "source": [
    "df_rumours.head()"
   ]
  },
  {
   "cell_type": "markdown",
   "id": "da4ff92d",
   "metadata": {},
   "source": [
    "# SeqSigNet with Attention Network"
   ]
  },
  {
   "cell_type": "code",
   "execution_count": 7,
   "id": "90bfd87c",
   "metadata": {},
   "outputs": [],
   "source": [
    "features = [\"time_encoding\", \"timeline_index\"]\n",
    "standardise_method = [\"z_score\", None]\n",
    "include_features_in_path = True\n",
    "include_features_in_input = False"
   ]
  },
  {
   "cell_type": "code",
   "execution_count": 8,
   "id": "2a6b9a8c-ded5-44da-a451-77f363d394ee",
   "metadata": {},
   "outputs": [],
   "source": [
    "split_ids = torch.tensor(df_rumours[\"timeline_id\"].astype(int))"
   ]
  },
  {
   "cell_type": "code",
   "execution_count": 9,
   "id": "9e9bee3b",
   "metadata": {},
   "outputs": [],
   "source": [
    "num_epochs = 100\n",
    "dimensions = [15]\n",
    "# define swmhau parameters: (output_channels, sig_depth, num_heads)\n",
    "swmhau_parameters = [(12, 3, 10), (8, 4, 6)]\n",
    "num_layers = [1]\n",
    "ffn_hidden_dim_sizes = [[256, 256], [512, 512]]\n",
    "dropout_rates = [0.1, 0.2]\n",
    "learning_rates = [1e-3, 1e-4, 5e-4]\n",
    "seeds = [1, 12, 123]\n",
    "loss = \"focal\"\n",
    "gamma = 2\n",
    "validation_metric = \"f1\"\n",
    "patience = 5"
   ]
  },
  {
   "cell_type": "code",
   "execution_count": 10,
   "id": "e6f156d3-800b-4913-89f8-916323d311a7",
   "metadata": {},
   "outputs": [],
   "source": [
    "kwargs = {\n",
    "    \"num_epochs\": num_epochs,\n",
    "    \"df\": df_rumours,\n",
    "    \"id_column\": \"timeline_id\",\n",
    "    \"label_column\": \"label\",\n",
    "    \"embeddings\": sbert_embeddings,\n",
    "    \"y_data\": y_data,\n",
    "    \"output_dim\": output_dim,\n",
    "    \"dimensions\": dimensions,\n",
    "    \"log_signature\": True,\n",
    "    \"swmhau_parameters\": swmhau_parameters,\n",
    "    \"num_layers\": num_layers,\n",
    "    \"ffn_hidden_dim_sizes\": ffn_hidden_dim_sizes,\n",
    "    \"dropout_rates\": dropout_rates,\n",
    "    \"learning_rates\": learning_rates,\n",
    "    \"seeds\": seeds,\n",
    "    \"loss\": loss,\n",
    "    \"gamma\": gamma,\n",
    "    \"device\": device,\n",
    "    \"features\": features,\n",
    "    \"standardise_method\": standardise_method,\n",
    "    \"include_features_in_path\": include_features_in_path,\n",
    "    \"include_features_in_input\": include_features_in_input,\n",
    "    \"split_ids\": split_ids,\n",
    "    \"k_fold\": True,\n",
    "    \"patience\": patience,\n",
    "    \"validation_metric\": validation_metric,\n",
    "    \"verbose\": False,\n",
    "}"
   ]
  },
  {
   "cell_type": "markdown",
   "id": "c065cd69-a3c1-4fbc-b72a-9555601c58de",
   "metadata": {
    "tags": []
   },
   "source": [
    "# history_length=11"
   ]
  },
  {
   "cell_type": "code",
   "execution_count": 11,
   "id": "9bbec9ab-4add-477f-8950-8123ce70766b",
   "metadata": {},
   "outputs": [],
   "source": [
    "shift = 3\n",
    "window_size = 5\n",
    "n = 3"
   ]
  },
  {
   "cell_type": "markdown",
   "id": "89a4bcc6-f9e4-4763-9bdf-b21003d5d257",
   "metadata": {},
   "source": [
    "## UMAP"
   ]
  },
  {
   "cell_type": "code",
   "execution_count": 12,
   "id": "3739e09a",
   "metadata": {
    "tags": []
   },
   "outputs": [
    {
     "data": {
      "application/vnd.jupyter.widget-view+json": {
       "model_id": "9cbcd7b14c53459c894bceb5380c268c",
       "version_major": 2,
       "version_minor": 0
      },
      "text/plain": [
       "  0%|          | 0/1 [00:00<?, ?it/s]"
      ]
     },
     "metadata": {},
     "output_type": "display_data"
    },
    {
     "data": {
      "application/vnd.jupyter.widget-view+json": {
       "model_id": "e1cdafbad4d642df9c3515c08048ab30",
       "version_major": 2,
       "version_minor": 0
      },
      "text/plain": [
       "  0%|          | 0/1 [00:00<?, ?it/s]"
      ]
     },
     "metadata": {},
     "output_type": "display_data"
    },
    {
     "name": "stdout",
     "output_type": "stream",
     "text": [
      "\n",
      "##################################################\n",
      "dimension: 15 | method: umap\n",
      "given shift 3, window size 5 and n 3: history length = 11\n",
      "[INFO] Concatenating the embeddings to the dataframe...\n",
      "[INFO] - columns beginning with 'e' denote the full embddings.\n",
      "[INFO] - columns beginning with 'd' denote the dimension reduced embeddings.\n",
      "[INFO] Adding time feature columns into dataframe in `.df`.\n",
      "[INFO] Adding 'time_encoding' feature...\n",
      "[INFO] Adding 'time_diff' feature...\n",
      "[INFO] Adding 'timeline_index' feature...\n",
      "[INFO] Padding ids and storing in `.df_padded` and `.array_padded` attributes.\n"
     ]
    },
    {
     "data": {
      "application/vnd.jupyter.widget-view+json": {
       "model_id": "07515b0d0a234cd78026449383042539",
       "version_major": 2,
       "version_minor": 0
      },
      "text/plain": [
       "  0%|          | 0/5568 [00:00<?, ?it/s]"
      ]
     },
     "metadata": {},
     "output_type": "display_data"
    },
    {
     "name": "stdout",
     "output_type": "stream",
     "text": [
      "[INFO] The path was created for each item in the dataframe, by looking at its history, so to include embeddings in the FFN input, we concatenate the embeddings for each sentence / text.\n"
     ]
    },
    {
     "data": {
      "application/vnd.jupyter.widget-view+json": {
       "model_id": "f3367077c094408380990744642722e5",
       "version_major": 2,
       "version_minor": 0
      },
      "text/plain": [
       "  0%|          | 0/2 [00:00<?, ?it/s]"
      ]
     },
     "metadata": {},
     "output_type": "display_data"
    },
    {
     "data": {
      "application/vnd.jupyter.widget-view+json": {
       "model_id": "dc71784bee154502aa1164a75d6f487c",
       "version_major": 2,
       "version_minor": 0
      },
      "text/plain": [
       "  0%|          | 0/1 [00:00<?, ?it/s]"
      ]
     },
     "metadata": {},
     "output_type": "display_data"
    },
    {
     "data": {
      "application/vnd.jupyter.widget-view+json": {
       "model_id": "4e8a6bf557d04db7af6cf94b61eaa280",
       "version_major": 2,
       "version_minor": 0
      },
      "text/plain": [
       "  0%|          | 0/2 [00:00<?, ?it/s]"
      ]
     },
     "metadata": {},
     "output_type": "display_data"
    },
    {
     "data": {
      "application/vnd.jupyter.widget-view+json": {
       "model_id": "1ea71c2f88a344cbbd0ada60b103aacb",
       "version_major": 2,
       "version_minor": 0
      },
      "text/plain": [
       "  0%|          | 0/2 [00:00<?, ?it/s]"
      ]
     },
     "metadata": {},
     "output_type": "display_data"
    },
    {
     "data": {
      "application/vnd.jupyter.widget-view+json": {
       "model_id": "87031a6cf6c84e9e8ffa293dae98da6c",
       "version_major": 2,
       "version_minor": 0
      },
      "text/plain": [
       "  0%|          | 0/3 [00:00<?, ?it/s]"
      ]
     },
     "metadata": {},
     "output_type": "display_data"
    },
    {
     "data": {
      "application/vnd.jupyter.widget-view+json": {
       "model_id": "56d8592ed35348d48dcaafbf6022adf9",
       "version_major": 2,
       "version_minor": 0
      },
      "text/plain": [
       "  0%|          | 0/3 [00:00<?, ?it/s]"
      ]
     },
     "metadata": {},
     "output_type": "display_data"
    },
    {
     "data": {
      "application/vnd.jupyter.widget-view+json": {
       "model_id": "d9d00fc51c01471f9cb7c913e0e2e1db",
       "version_major": 2,
       "version_minor": 0
      },
      "text/plain": [
       "  0%|          | 0/2 [00:00<?, ?it/s]"
      ]
     },
     "metadata": {},
     "output_type": "display_data"
    },
    {
     "data": {
      "application/vnd.jupyter.widget-view+json": {
       "model_id": "8406db560d994260ab3b2fa9f25d552d",
       "version_major": 2,
       "version_minor": 0
      },
      "text/plain": [
       "  0%|          | 0/3 [00:00<?, ?it/s]"
      ]
     },
     "metadata": {},
     "output_type": "display_data"
    },
    {
     "data": {
      "application/vnd.jupyter.widget-view+json": {
       "model_id": "e5ce1177eac84fe19fb8dd7a3efa65a7",
       "version_major": 2,
       "version_minor": 0
      },
      "text/plain": [
       "  0%|          | 0/3 [00:00<?, ?it/s]"
      ]
     },
     "metadata": {},
     "output_type": "display_data"
    },
    {
     "data": {
      "application/vnd.jupyter.widget-view+json": {
       "model_id": "28bc0367028b473689828ad1519b202e",
       "version_major": 2,
       "version_minor": 0
      },
      "text/plain": [
       "  0%|          | 0/1 [00:00<?, ?it/s]"
      ]
     },
     "metadata": {},
     "output_type": "display_data"
    },
    {
     "data": {
      "application/vnd.jupyter.widget-view+json": {
       "model_id": "2f1d72d245e1496795d6794320fc9597",
       "version_major": 2,
       "version_minor": 0
      },
      "text/plain": [
       "  0%|          | 0/2 [00:00<?, ?it/s]"
      ]
     },
     "metadata": {},
     "output_type": "display_data"
    },
    {
     "data": {
      "application/vnd.jupyter.widget-view+json": {
       "model_id": "116797f7573b4a709be0bde7f8e99463",
       "version_major": 2,
       "version_minor": 0
      },
      "text/plain": [
       "  0%|          | 0/2 [00:00<?, ?it/s]"
      ]
     },
     "metadata": {},
     "output_type": "display_data"
    },
    {
     "data": {
      "application/vnd.jupyter.widget-view+json": {
       "model_id": "7ea6903f37e54eb4b7a2b252727d83a5",
       "version_major": 2,
       "version_minor": 0
      },
      "text/plain": [
       "  0%|          | 0/3 [00:00<?, ?it/s]"
      ]
     },
     "metadata": {},
     "output_type": "display_data"
    },
    {
     "data": {
      "application/vnd.jupyter.widget-view+json": {
       "model_id": "d4fe53fd217d4795b4803724ab4ed8ed",
       "version_major": 2,
       "version_minor": 0
      },
      "text/plain": [
       "  0%|          | 0/3 [00:00<?, ?it/s]"
      ]
     },
     "metadata": {},
     "output_type": "display_data"
    },
    {
     "data": {
      "application/vnd.jupyter.widget-view+json": {
       "model_id": "59fdb2a4721b45888c39ebaa092bcefb",
       "version_major": 2,
       "version_minor": 0
      },
      "text/plain": [
       "  0%|          | 0/2 [00:00<?, ?it/s]"
      ]
     },
     "metadata": {},
     "output_type": "display_data"
    },
    {
     "data": {
      "application/vnd.jupyter.widget-view+json": {
       "model_id": "2abff9a182bc433994f8c0a9710a6d4f",
       "version_major": 2,
       "version_minor": 0
      },
      "text/plain": [
       "  0%|          | 0/3 [00:00<?, ?it/s]"
      ]
     },
     "metadata": {},
     "output_type": "display_data"
    },
    {
     "data": {
      "application/vnd.jupyter.widget-view+json": {
       "model_id": "112569f939c74ecaa888f4b0c44e4dd8",
       "version_major": 2,
       "version_minor": 0
      },
      "text/plain": [
       "  0%|          | 0/3 [00:00<?, ?it/s]"
      ]
     },
     "metadata": {},
     "output_type": "display_data"
    },
    {
     "name": "stdout",
     "output_type": "stream",
     "text": [
      "given shift 3, window size 5 and n 3: history length = 11\n",
      "[INFO] Concatenating the embeddings to the dataframe...\n",
      "[INFO] - columns beginning with 'e' denote the full embddings.\n",
      "[INFO] - columns beginning with 'd' denote the dimension reduced embeddings.\n",
      "[INFO] Adding time feature columns into dataframe in `.df`.\n",
      "[INFO] Adding 'time_encoding' feature...\n",
      "[INFO] Adding 'time_diff' feature...\n",
      "[INFO] Adding 'timeline_index' feature...\n",
      "[INFO] Padding ids and storing in `.df_padded` and `.array_padded` attributes.\n"
     ]
    },
    {
     "data": {
      "application/vnd.jupyter.widget-view+json": {
       "model_id": "7029bdf37b6e436291510fe52bb57cce",
       "version_major": 2,
       "version_minor": 0
      },
      "text/plain": [
       "  0%|          | 0/5568 [00:00<?, ?it/s]"
      ]
     },
     "metadata": {},
     "output_type": "display_data"
    },
    {
     "name": "stdout",
     "output_type": "stream",
     "text": [
      "[INFO] The path was created for each item in the dataframe, by looking at its history, so to include embeddings in the FFN input, we concatenate the embeddings for each sentence / text.\n",
      "saving results dataframe to CSV for this hyperparameter search in rumours_output/seqsignet_attention_mha_umap_focal_2_3_5_3_kfold.csv\n",
      "saving the best model results dataframe to CSV for this hyperparameter search in rumours_output/seqsignet_attention_mha_umap_focal_2_3_5_3_kfold_best_model.csv\n"
     ]
    }
   ],
   "source": [
    "(\n",
    "    seqsignet_attention_mha_umap_11,\n",
    "    best_seqsignet_attention_mha_umap_11,\n",
    "    _,\n",
    "    __,\n",
    ") = seqsignet_full_attention_hyperparameter_search(\n",
    "    shift=shift,\n",
    "    window_size=window_size,\n",
    "    n=n,\n",
    "    dim_reduce_methods=[\"umap\"],\n",
    "    results_output=f\"{output_dir}/seqsignet_attention_mha_umap_focal_{gamma}_{shift}_{window_size}_{n}_kfold.csv\",\n",
    "    **kwargs,\n",
    ")"
   ]
  },
  {
   "cell_type": "code",
   "execution_count": 13,
   "id": "db912cd7-e74a-4893-987b-037b69c1fec8",
   "metadata": {},
   "outputs": [
    {
     "name": "stderr",
     "output_type": "stream",
     "text": [
      "/tmp/ipykernel_2887417/32783327.py:1: FutureWarning: The default value of numeric_only in DataFrameGroupBy.mean is deprecated. In a future version, numeric_only will default to False. Either specify numeric_only or select only columns which should be valid for the function.\n",
      "  seqsignet_attention_mha_umap_11.groupby(\n"
     ]
    },
    {
     "data": {
      "text/html": [
       "<div>\n",
       "<style scoped>\n",
       "    .dataframe tbody tr th:only-of-type {\n",
       "        vertical-align: middle;\n",
       "    }\n",
       "\n",
       "    .dataframe tbody tr th {\n",
       "        vertical-align: top;\n",
       "    }\n",
       "\n",
       "    .dataframe thead th {\n",
       "        text-align: right;\n",
       "    }\n",
       "</style>\n",
       "<table border=\"1\" class=\"dataframe\">\n",
       "  <thead>\n",
       "    <tr style=\"text-align: right;\">\n",
       "      <th></th>\n",
       "      <th></th>\n",
       "      <th></th>\n",
       "      <th></th>\n",
       "      <th></th>\n",
       "      <th></th>\n",
       "      <th></th>\n",
       "      <th>accuracy</th>\n",
       "      <th>f1</th>\n",
       "      <th>precision</th>\n",
       "      <th>recall</th>\n",
       "      <th>valid_accuracy</th>\n",
       "      <th>valid_f1</th>\n",
       "      <th>valid_precision</th>\n",
       "      <th>valid_recall</th>\n",
       "      <th>k</th>\n",
       "      <th>shift</th>\n",
       "      <th>...</th>\n",
       "      <th>embedding_dim</th>\n",
       "      <th>num_features</th>\n",
       "      <th>log_signature</th>\n",
       "      <th>dropout_rate</th>\n",
       "      <th>seed</th>\n",
       "      <th>gamma</th>\n",
       "      <th>k_fold</th>\n",
       "      <th>n_splits</th>\n",
       "      <th>batch_size</th>\n",
       "      <th>model_id</th>\n",
       "    </tr>\n",
       "    <tr>\n",
       "      <th>dimensions</th>\n",
       "      <th>output_channels</th>\n",
       "      <th>sig_depth</th>\n",
       "      <th>num_heads</th>\n",
       "      <th>num_layers</th>\n",
       "      <th>ffn_hidden_dim</th>\n",
       "      <th>learning_rate</th>\n",
       "      <th></th>\n",
       "      <th></th>\n",
       "      <th></th>\n",
       "      <th></th>\n",
       "      <th></th>\n",
       "      <th></th>\n",
       "      <th></th>\n",
       "      <th></th>\n",
       "      <th></th>\n",
       "      <th></th>\n",
       "      <th></th>\n",
       "      <th></th>\n",
       "      <th></th>\n",
       "      <th></th>\n",
       "      <th></th>\n",
       "      <th></th>\n",
       "      <th></th>\n",
       "      <th></th>\n",
       "      <th></th>\n",
       "      <th></th>\n",
       "      <th></th>\n",
       "    </tr>\n",
       "  </thead>\n",
       "  <tbody>\n",
       "    <tr>\n",
       "      <th rowspan=\"12\" valign=\"top\">15</th>\n",
       "      <th rowspan=\"6\" valign=\"top\">8</th>\n",
       "      <th rowspan=\"6\" valign=\"top\">4</th>\n",
       "      <th rowspan=\"6\" valign=\"top\">6</th>\n",
       "      <th rowspan=\"6\" valign=\"top\">1</th>\n",
       "      <th rowspan=\"3\" valign=\"top\">(256, 256)</th>\n",
       "      <th>0.0001</th>\n",
       "      <td>0.684623</td>\n",
       "      <td>0.656063</td>\n",
       "      <td>0.655285</td>\n",
       "      <td>0.657510</td>\n",
       "      <td>0.738397</td>\n",
       "      <td>0.719552</td>\n",
       "      <td>0.723018</td>\n",
       "      <td>0.717575</td>\n",
       "      <td>11.0</td>\n",
       "      <td>3.0</td>\n",
       "      <td>...</td>\n",
       "      <td>384.0</td>\n",
       "      <td>0.0</td>\n",
       "      <td>1.0</td>\n",
       "      <td>0.15</td>\n",
       "      <td>45.333333</td>\n",
       "      <td>2.0</td>\n",
       "      <td>1.0</td>\n",
       "      <td>5.0</td>\n",
       "      <td>64.0</td>\n",
       "      <td>14.5</td>\n",
       "    </tr>\n",
       "    <tr>\n",
       "      <th>0.0005</th>\n",
       "      <td>0.691146</td>\n",
       "      <td>0.662895</td>\n",
       "      <td>0.662172</td>\n",
       "      <td>0.664270</td>\n",
       "      <td>0.738105</td>\n",
       "      <td>0.718912</td>\n",
       "      <td>0.722526</td>\n",
       "      <td>0.716592</td>\n",
       "      <td>11.0</td>\n",
       "      <td>3.0</td>\n",
       "      <td>...</td>\n",
       "      <td>384.0</td>\n",
       "      <td>0.0</td>\n",
       "      <td>1.0</td>\n",
       "      <td>0.15</td>\n",
       "      <td>45.333333</td>\n",
       "      <td>2.0</td>\n",
       "      <td>1.0</td>\n",
       "      <td>5.0</td>\n",
       "      <td>64.0</td>\n",
       "      <td>15.5</td>\n",
       "    </tr>\n",
       "    <tr>\n",
       "      <th>0.0010</th>\n",
       "      <td>0.692637</td>\n",
       "      <td>0.656209</td>\n",
       "      <td>0.662061</td>\n",
       "      <td>0.655287</td>\n",
       "      <td>0.717168</td>\n",
       "      <td>0.691307</td>\n",
       "      <td>0.702352</td>\n",
       "      <td>0.688246</td>\n",
       "      <td>11.0</td>\n",
       "      <td>3.0</td>\n",
       "      <td>...</td>\n",
       "      <td>384.0</td>\n",
       "      <td>0.0</td>\n",
       "      <td>1.0</td>\n",
       "      <td>0.15</td>\n",
       "      <td>45.333333</td>\n",
       "      <td>2.0</td>\n",
       "      <td>1.0</td>\n",
       "      <td>5.0</td>\n",
       "      <td>64.0</td>\n",
       "      <td>13.5</td>\n",
       "    </tr>\n",
       "    <tr>\n",
       "      <th rowspan=\"3\" valign=\"top\">(512, 512)</th>\n",
       "      <th>0.0001</th>\n",
       "      <td>0.687294</td>\n",
       "      <td>0.661293</td>\n",
       "      <td>0.659669</td>\n",
       "      <td>0.664096</td>\n",
       "      <td>0.738217</td>\n",
       "      <td>0.721092</td>\n",
       "      <td>0.722630</td>\n",
       "      <td>0.720145</td>\n",
       "      <td>11.0</td>\n",
       "      <td>3.0</td>\n",
       "      <td>...</td>\n",
       "      <td>384.0</td>\n",
       "      <td>0.0</td>\n",
       "      <td>1.0</td>\n",
       "      <td>0.15</td>\n",
       "      <td>45.333333</td>\n",
       "      <td>2.0</td>\n",
       "      <td>1.0</td>\n",
       "      <td>5.0</td>\n",
       "      <td>64.0</td>\n",
       "      <td>20.5</td>\n",
       "    </tr>\n",
       "    <tr>\n",
       "      <th>0.0005</th>\n",
       "      <td>0.690152</td>\n",
       "      <td>0.661427</td>\n",
       "      <td>0.660913</td>\n",
       "      <td>0.662500</td>\n",
       "      <td>0.733118</td>\n",
       "      <td>0.714033</td>\n",
       "      <td>0.717182</td>\n",
       "      <td>0.712042</td>\n",
       "      <td>11.0</td>\n",
       "      <td>3.0</td>\n",
       "      <td>...</td>\n",
       "      <td>384.0</td>\n",
       "      <td>0.0</td>\n",
       "      <td>1.0</td>\n",
       "      <td>0.15</td>\n",
       "      <td>45.333333</td>\n",
       "      <td>2.0</td>\n",
       "      <td>1.0</td>\n",
       "      <td>5.0</td>\n",
       "      <td>64.0</td>\n",
       "      <td>21.5</td>\n",
       "    </tr>\n",
       "    <tr>\n",
       "      <th>0.0010</th>\n",
       "      <td>0.685306</td>\n",
       "      <td>0.659054</td>\n",
       "      <td>0.659184</td>\n",
       "      <td>0.663059</td>\n",
       "      <td>0.715168</td>\n",
       "      <td>0.698256</td>\n",
       "      <td>0.700037</td>\n",
       "      <td>0.699225</td>\n",
       "      <td>11.0</td>\n",
       "      <td>3.0</td>\n",
       "      <td>...</td>\n",
       "      <td>384.0</td>\n",
       "      <td>0.0</td>\n",
       "      <td>1.0</td>\n",
       "      <td>0.15</td>\n",
       "      <td>45.333333</td>\n",
       "      <td>2.0</td>\n",
       "      <td>1.0</td>\n",
       "      <td>5.0</td>\n",
       "      <td>64.0</td>\n",
       "      <td>19.5</td>\n",
       "    </tr>\n",
       "    <tr>\n",
       "      <th rowspan=\"6\" valign=\"top\">12</th>\n",
       "      <th rowspan=\"6\" valign=\"top\">3</th>\n",
       "      <th rowspan=\"6\" valign=\"top\">10</th>\n",
       "      <th rowspan=\"6\" valign=\"top\">1</th>\n",
       "      <th rowspan=\"3\" valign=\"top\">(256, 256)</th>\n",
       "      <th>0.0001</th>\n",
       "      <td>0.679714</td>\n",
       "      <td>0.654310</td>\n",
       "      <td>0.653180</td>\n",
       "      <td>0.658143</td>\n",
       "      <td>0.751629</td>\n",
       "      <td>0.733535</td>\n",
       "      <td>0.737701</td>\n",
       "      <td>0.731638</td>\n",
       "      <td>11.0</td>\n",
       "      <td>3.0</td>\n",
       "      <td>...</td>\n",
       "      <td>384.0</td>\n",
       "      <td>0.0</td>\n",
       "      <td>1.0</td>\n",
       "      <td>0.15</td>\n",
       "      <td>45.333333</td>\n",
       "      <td>2.0</td>\n",
       "      <td>1.0</td>\n",
       "      <td>5.0</td>\n",
       "      <td>64.0</td>\n",
       "      <td>2.5</td>\n",
       "    </tr>\n",
       "    <tr>\n",
       "      <th>0.0005</th>\n",
       "      <td>0.684902</td>\n",
       "      <td>0.662467</td>\n",
       "      <td>0.660111</td>\n",
       "      <td>0.667772</td>\n",
       "      <td>0.749090</td>\n",
       "      <td>0.734132</td>\n",
       "      <td>0.734408</td>\n",
       "      <td>0.734305</td>\n",
       "      <td>11.0</td>\n",
       "      <td>3.0</td>\n",
       "      <td>...</td>\n",
       "      <td>384.0</td>\n",
       "      <td>0.0</td>\n",
       "      <td>1.0</td>\n",
       "      <td>0.15</td>\n",
       "      <td>45.333333</td>\n",
       "      <td>2.0</td>\n",
       "      <td>1.0</td>\n",
       "      <td>5.0</td>\n",
       "      <td>64.0</td>\n",
       "      <td>3.5</td>\n",
       "    </tr>\n",
       "    <tr>\n",
       "      <th>0.0010</th>\n",
       "      <td>0.690183</td>\n",
       "      <td>0.663477</td>\n",
       "      <td>0.662355</td>\n",
       "      <td>0.665949</td>\n",
       "      <td>0.737094</td>\n",
       "      <td>0.719083</td>\n",
       "      <td>0.721799</td>\n",
       "      <td>0.717733</td>\n",
       "      <td>11.0</td>\n",
       "      <td>3.0</td>\n",
       "      <td>...</td>\n",
       "      <td>384.0</td>\n",
       "      <td>0.0</td>\n",
       "      <td>1.0</td>\n",
       "      <td>0.15</td>\n",
       "      <td>45.333333</td>\n",
       "      <td>2.0</td>\n",
       "      <td>1.0</td>\n",
       "      <td>5.0</td>\n",
       "      <td>64.0</td>\n",
       "      <td>1.5</td>\n",
       "    </tr>\n",
       "    <tr>\n",
       "      <th rowspan=\"3\" valign=\"top\">(512, 512)</th>\n",
       "      <th>0.0001</th>\n",
       "      <td>0.680584</td>\n",
       "      <td>0.654509</td>\n",
       "      <td>0.652981</td>\n",
       "      <td>0.657541</td>\n",
       "      <td>0.751651</td>\n",
       "      <td>0.734224</td>\n",
       "      <td>0.737179</td>\n",
       "      <td>0.732459</td>\n",
       "      <td>11.0</td>\n",
       "      <td>3.0</td>\n",
       "      <td>...</td>\n",
       "      <td>384.0</td>\n",
       "      <td>0.0</td>\n",
       "      <td>1.0</td>\n",
       "      <td>0.15</td>\n",
       "      <td>45.333333</td>\n",
       "      <td>2.0</td>\n",
       "      <td>1.0</td>\n",
       "      <td>5.0</td>\n",
       "      <td>64.0</td>\n",
       "      <td>8.5</td>\n",
       "    </tr>\n",
       "    <tr>\n",
       "      <th>0.0005</th>\n",
       "      <td>0.690276</td>\n",
       "      <td>0.663058</td>\n",
       "      <td>0.662578</td>\n",
       "      <td>0.665446</td>\n",
       "      <td>0.742778</td>\n",
       "      <td>0.723579</td>\n",
       "      <td>0.728816</td>\n",
       "      <td>0.721567</td>\n",
       "      <td>11.0</td>\n",
       "      <td>3.0</td>\n",
       "      <td>...</td>\n",
       "      <td>384.0</td>\n",
       "      <td>0.0</td>\n",
       "      <td>1.0</td>\n",
       "      <td>0.15</td>\n",
       "      <td>45.333333</td>\n",
       "      <td>2.0</td>\n",
       "      <td>1.0</td>\n",
       "      <td>5.0</td>\n",
       "      <td>64.0</td>\n",
       "      <td>9.5</td>\n",
       "    </tr>\n",
       "    <tr>\n",
       "      <th>0.0010</th>\n",
       "      <td>0.687108</td>\n",
       "      <td>0.657701</td>\n",
       "      <td>0.659204</td>\n",
       "      <td>0.659667</td>\n",
       "      <td>0.733387</td>\n",
       "      <td>0.713528</td>\n",
       "      <td>0.719437</td>\n",
       "      <td>0.711965</td>\n",
       "      <td>11.0</td>\n",
       "      <td>3.0</td>\n",
       "      <td>...</td>\n",
       "      <td>384.0</td>\n",
       "      <td>0.0</td>\n",
       "      <td>1.0</td>\n",
       "      <td>0.15</td>\n",
       "      <td>45.333333</td>\n",
       "      <td>2.0</td>\n",
       "      <td>1.0</td>\n",
       "      <td>5.0</td>\n",
       "      <td>64.0</td>\n",
       "      <td>7.5</td>\n",
       "    </tr>\n",
       "  </tbody>\n",
       "</table>\n",
       "<p>12 rows × 25 columns</p>\n",
       "</div>"
      ],
      "text/plain": [
       "                                                                                        accuracy  \\\n",
       "dimensions output_channels sig_depth num_heads num_layers ffn_hidden_dim learning_rate             \n",
       "15         8               4         6         1          (256, 256)     0.0001         0.684623   \n",
       "                                                                         0.0005         0.691146   \n",
       "                                                                         0.0010         0.692637   \n",
       "                                                          (512, 512)     0.0001         0.687294   \n",
       "                                                                         0.0005         0.690152   \n",
       "                                                                         0.0010         0.685306   \n",
       "           12              3         10        1          (256, 256)     0.0001         0.679714   \n",
       "                                                                         0.0005         0.684902   \n",
       "                                                                         0.0010         0.690183   \n",
       "                                                          (512, 512)     0.0001         0.680584   \n",
       "                                                                         0.0005         0.690276   \n",
       "                                                                         0.0010         0.687108   \n",
       "\n",
       "                                                                                              f1  \\\n",
       "dimensions output_channels sig_depth num_heads num_layers ffn_hidden_dim learning_rate             \n",
       "15         8               4         6         1          (256, 256)     0.0001         0.656063   \n",
       "                                                                         0.0005         0.662895   \n",
       "                                                                         0.0010         0.656209   \n",
       "                                                          (512, 512)     0.0001         0.661293   \n",
       "                                                                         0.0005         0.661427   \n",
       "                                                                         0.0010         0.659054   \n",
       "           12              3         10        1          (256, 256)     0.0001         0.654310   \n",
       "                                                                         0.0005         0.662467   \n",
       "                                                                         0.0010         0.663477   \n",
       "                                                          (512, 512)     0.0001         0.654509   \n",
       "                                                                         0.0005         0.663058   \n",
       "                                                                         0.0010         0.657701   \n",
       "\n",
       "                                                                                        precision  \\\n",
       "dimensions output_channels sig_depth num_heads num_layers ffn_hidden_dim learning_rate              \n",
       "15         8               4         6         1          (256, 256)     0.0001          0.655285   \n",
       "                                                                         0.0005          0.662172   \n",
       "                                                                         0.0010          0.662061   \n",
       "                                                          (512, 512)     0.0001          0.659669   \n",
       "                                                                         0.0005          0.660913   \n",
       "                                                                         0.0010          0.659184   \n",
       "           12              3         10        1          (256, 256)     0.0001          0.653180   \n",
       "                                                                         0.0005          0.660111   \n",
       "                                                                         0.0010          0.662355   \n",
       "                                                          (512, 512)     0.0001          0.652981   \n",
       "                                                                         0.0005          0.662578   \n",
       "                                                                         0.0010          0.659204   \n",
       "\n",
       "                                                                                          recall  \\\n",
       "dimensions output_channels sig_depth num_heads num_layers ffn_hidden_dim learning_rate             \n",
       "15         8               4         6         1          (256, 256)     0.0001         0.657510   \n",
       "                                                                         0.0005         0.664270   \n",
       "                                                                         0.0010         0.655287   \n",
       "                                                          (512, 512)     0.0001         0.664096   \n",
       "                                                                         0.0005         0.662500   \n",
       "                                                                         0.0010         0.663059   \n",
       "           12              3         10        1          (256, 256)     0.0001         0.658143   \n",
       "                                                                         0.0005         0.667772   \n",
       "                                                                         0.0010         0.665949   \n",
       "                                                          (512, 512)     0.0001         0.657541   \n",
       "                                                                         0.0005         0.665446   \n",
       "                                                                         0.0010         0.659667   \n",
       "\n",
       "                                                                                        valid_accuracy  \\\n",
       "dimensions output_channels sig_depth num_heads num_layers ffn_hidden_dim learning_rate                   \n",
       "15         8               4         6         1          (256, 256)     0.0001               0.738397   \n",
       "                                                                         0.0005               0.738105   \n",
       "                                                                         0.0010               0.717168   \n",
       "                                                          (512, 512)     0.0001               0.738217   \n",
       "                                                                         0.0005               0.733118   \n",
       "                                                                         0.0010               0.715168   \n",
       "           12              3         10        1          (256, 256)     0.0001               0.751629   \n",
       "                                                                         0.0005               0.749090   \n",
       "                                                                         0.0010               0.737094   \n",
       "                                                          (512, 512)     0.0001               0.751651   \n",
       "                                                                         0.0005               0.742778   \n",
       "                                                                         0.0010               0.733387   \n",
       "\n",
       "                                                                                        valid_f1  \\\n",
       "dimensions output_channels sig_depth num_heads num_layers ffn_hidden_dim learning_rate             \n",
       "15         8               4         6         1          (256, 256)     0.0001         0.719552   \n",
       "                                                                         0.0005         0.718912   \n",
       "                                                                         0.0010         0.691307   \n",
       "                                                          (512, 512)     0.0001         0.721092   \n",
       "                                                                         0.0005         0.714033   \n",
       "                                                                         0.0010         0.698256   \n",
       "           12              3         10        1          (256, 256)     0.0001         0.733535   \n",
       "                                                                         0.0005         0.734132   \n",
       "                                                                         0.0010         0.719083   \n",
       "                                                          (512, 512)     0.0001         0.734224   \n",
       "                                                                         0.0005         0.723579   \n",
       "                                                                         0.0010         0.713528   \n",
       "\n",
       "                                                                                        valid_precision  \\\n",
       "dimensions output_channels sig_depth num_heads num_layers ffn_hidden_dim learning_rate                    \n",
       "15         8               4         6         1          (256, 256)     0.0001                0.723018   \n",
       "                                                                         0.0005                0.722526   \n",
       "                                                                         0.0010                0.702352   \n",
       "                                                          (512, 512)     0.0001                0.722630   \n",
       "                                                                         0.0005                0.717182   \n",
       "                                                                         0.0010                0.700037   \n",
       "           12              3         10        1          (256, 256)     0.0001                0.737701   \n",
       "                                                                         0.0005                0.734408   \n",
       "                                                                         0.0010                0.721799   \n",
       "                                                          (512, 512)     0.0001                0.737179   \n",
       "                                                                         0.0005                0.728816   \n",
       "                                                                         0.0010                0.719437   \n",
       "\n",
       "                                                                                        valid_recall  \\\n",
       "dimensions output_channels sig_depth num_heads num_layers ffn_hidden_dim learning_rate                 \n",
       "15         8               4         6         1          (256, 256)     0.0001             0.717575   \n",
       "                                                                         0.0005             0.716592   \n",
       "                                                                         0.0010             0.688246   \n",
       "                                                          (512, 512)     0.0001             0.720145   \n",
       "                                                                         0.0005             0.712042   \n",
       "                                                                         0.0010             0.699225   \n",
       "           12              3         10        1          (256, 256)     0.0001             0.731638   \n",
       "                                                                         0.0005             0.734305   \n",
       "                                                                         0.0010             0.717733   \n",
       "                                                          (512, 512)     0.0001             0.732459   \n",
       "                                                                         0.0005             0.721567   \n",
       "                                                                         0.0010             0.711965   \n",
       "\n",
       "                                                                                           k  \\\n",
       "dimensions output_channels sig_depth num_heads num_layers ffn_hidden_dim learning_rate         \n",
       "15         8               4         6         1          (256, 256)     0.0001         11.0   \n",
       "                                                                         0.0005         11.0   \n",
       "                                                                         0.0010         11.0   \n",
       "                                                          (512, 512)     0.0001         11.0   \n",
       "                                                                         0.0005         11.0   \n",
       "                                                                         0.0010         11.0   \n",
       "           12              3         10        1          (256, 256)     0.0001         11.0   \n",
       "                                                                         0.0005         11.0   \n",
       "                                                                         0.0010         11.0   \n",
       "                                                          (512, 512)     0.0001         11.0   \n",
       "                                                                         0.0005         11.0   \n",
       "                                                                         0.0010         11.0   \n",
       "\n",
       "                                                                                        shift  \\\n",
       "dimensions output_channels sig_depth num_heads num_layers ffn_hidden_dim learning_rate          \n",
       "15         8               4         6         1          (256, 256)     0.0001           3.0   \n",
       "                                                                         0.0005           3.0   \n",
       "                                                                         0.0010           3.0   \n",
       "                                                          (512, 512)     0.0001           3.0   \n",
       "                                                                         0.0005           3.0   \n",
       "                                                                         0.0010           3.0   \n",
       "           12              3         10        1          (256, 256)     0.0001           3.0   \n",
       "                                                                         0.0005           3.0   \n",
       "                                                                         0.0010           3.0   \n",
       "                                                          (512, 512)     0.0001           3.0   \n",
       "                                                                         0.0005           3.0   \n",
       "                                                                         0.0010           3.0   \n",
       "\n",
       "                                                                                        ...  \\\n",
       "dimensions output_channels sig_depth num_heads num_layers ffn_hidden_dim learning_rate  ...   \n",
       "15         8               4         6         1          (256, 256)     0.0001         ...   \n",
       "                                                                         0.0005         ...   \n",
       "                                                                         0.0010         ...   \n",
       "                                                          (512, 512)     0.0001         ...   \n",
       "                                                                         0.0005         ...   \n",
       "                                                                         0.0010         ...   \n",
       "           12              3         10        1          (256, 256)     0.0001         ...   \n",
       "                                                                         0.0005         ...   \n",
       "                                                                         0.0010         ...   \n",
       "                                                          (512, 512)     0.0001         ...   \n",
       "                                                                         0.0005         ...   \n",
       "                                                                         0.0010         ...   \n",
       "\n",
       "                                                                                        embedding_dim  \\\n",
       "dimensions output_channels sig_depth num_heads num_layers ffn_hidden_dim learning_rate                  \n",
       "15         8               4         6         1          (256, 256)     0.0001                 384.0   \n",
       "                                                                         0.0005                 384.0   \n",
       "                                                                         0.0010                 384.0   \n",
       "                                                          (512, 512)     0.0001                 384.0   \n",
       "                                                                         0.0005                 384.0   \n",
       "                                                                         0.0010                 384.0   \n",
       "           12              3         10        1          (256, 256)     0.0001                 384.0   \n",
       "                                                                         0.0005                 384.0   \n",
       "                                                                         0.0010                 384.0   \n",
       "                                                          (512, 512)     0.0001                 384.0   \n",
       "                                                                         0.0005                 384.0   \n",
       "                                                                         0.0010                 384.0   \n",
       "\n",
       "                                                                                        num_features  \\\n",
       "dimensions output_channels sig_depth num_heads num_layers ffn_hidden_dim learning_rate                 \n",
       "15         8               4         6         1          (256, 256)     0.0001                  0.0   \n",
       "                                                                         0.0005                  0.0   \n",
       "                                                                         0.0010                  0.0   \n",
       "                                                          (512, 512)     0.0001                  0.0   \n",
       "                                                                         0.0005                  0.0   \n",
       "                                                                         0.0010                  0.0   \n",
       "           12              3         10        1          (256, 256)     0.0001                  0.0   \n",
       "                                                                         0.0005                  0.0   \n",
       "                                                                         0.0010                  0.0   \n",
       "                                                          (512, 512)     0.0001                  0.0   \n",
       "                                                                         0.0005                  0.0   \n",
       "                                                                         0.0010                  0.0   \n",
       "\n",
       "                                                                                        log_signature  \\\n",
       "dimensions output_channels sig_depth num_heads num_layers ffn_hidden_dim learning_rate                  \n",
       "15         8               4         6         1          (256, 256)     0.0001                   1.0   \n",
       "                                                                         0.0005                   1.0   \n",
       "                                                                         0.0010                   1.0   \n",
       "                                                          (512, 512)     0.0001                   1.0   \n",
       "                                                                         0.0005                   1.0   \n",
       "                                                                         0.0010                   1.0   \n",
       "           12              3         10        1          (256, 256)     0.0001                   1.0   \n",
       "                                                                         0.0005                   1.0   \n",
       "                                                                         0.0010                   1.0   \n",
       "                                                          (512, 512)     0.0001                   1.0   \n",
       "                                                                         0.0005                   1.0   \n",
       "                                                                         0.0010                   1.0   \n",
       "\n",
       "                                                                                        dropout_rate  \\\n",
       "dimensions output_channels sig_depth num_heads num_layers ffn_hidden_dim learning_rate                 \n",
       "15         8               4         6         1          (256, 256)     0.0001                 0.15   \n",
       "                                                                         0.0005                 0.15   \n",
       "                                                                         0.0010                 0.15   \n",
       "                                                          (512, 512)     0.0001                 0.15   \n",
       "                                                                         0.0005                 0.15   \n",
       "                                                                         0.0010                 0.15   \n",
       "           12              3         10        1          (256, 256)     0.0001                 0.15   \n",
       "                                                                         0.0005                 0.15   \n",
       "                                                                         0.0010                 0.15   \n",
       "                                                          (512, 512)     0.0001                 0.15   \n",
       "                                                                         0.0005                 0.15   \n",
       "                                                                         0.0010                 0.15   \n",
       "\n",
       "                                                                                             seed  \\\n",
       "dimensions output_channels sig_depth num_heads num_layers ffn_hidden_dim learning_rate              \n",
       "15         8               4         6         1          (256, 256)     0.0001         45.333333   \n",
       "                                                                         0.0005         45.333333   \n",
       "                                                                         0.0010         45.333333   \n",
       "                                                          (512, 512)     0.0001         45.333333   \n",
       "                                                                         0.0005         45.333333   \n",
       "                                                                         0.0010         45.333333   \n",
       "           12              3         10        1          (256, 256)     0.0001         45.333333   \n",
       "                                                                         0.0005         45.333333   \n",
       "                                                                         0.0010         45.333333   \n",
       "                                                          (512, 512)     0.0001         45.333333   \n",
       "                                                                         0.0005         45.333333   \n",
       "                                                                         0.0010         45.333333   \n",
       "\n",
       "                                                                                        gamma  \\\n",
       "dimensions output_channels sig_depth num_heads num_layers ffn_hidden_dim learning_rate          \n",
       "15         8               4         6         1          (256, 256)     0.0001           2.0   \n",
       "                                                                         0.0005           2.0   \n",
       "                                                                         0.0010           2.0   \n",
       "                                                          (512, 512)     0.0001           2.0   \n",
       "                                                                         0.0005           2.0   \n",
       "                                                                         0.0010           2.0   \n",
       "           12              3         10        1          (256, 256)     0.0001           2.0   \n",
       "                                                                         0.0005           2.0   \n",
       "                                                                         0.0010           2.0   \n",
       "                                                          (512, 512)     0.0001           2.0   \n",
       "                                                                         0.0005           2.0   \n",
       "                                                                         0.0010           2.0   \n",
       "\n",
       "                                                                                        k_fold  \\\n",
       "dimensions output_channels sig_depth num_heads num_layers ffn_hidden_dim learning_rate           \n",
       "15         8               4         6         1          (256, 256)     0.0001            1.0   \n",
       "                                                                         0.0005            1.0   \n",
       "                                                                         0.0010            1.0   \n",
       "                                                          (512, 512)     0.0001            1.0   \n",
       "                                                                         0.0005            1.0   \n",
       "                                                                         0.0010            1.0   \n",
       "           12              3         10        1          (256, 256)     0.0001            1.0   \n",
       "                                                                         0.0005            1.0   \n",
       "                                                                         0.0010            1.0   \n",
       "                                                          (512, 512)     0.0001            1.0   \n",
       "                                                                         0.0005            1.0   \n",
       "                                                                         0.0010            1.0   \n",
       "\n",
       "                                                                                        n_splits  \\\n",
       "dimensions output_channels sig_depth num_heads num_layers ffn_hidden_dim learning_rate             \n",
       "15         8               4         6         1          (256, 256)     0.0001              5.0   \n",
       "                                                                         0.0005              5.0   \n",
       "                                                                         0.0010              5.0   \n",
       "                                                          (512, 512)     0.0001              5.0   \n",
       "                                                                         0.0005              5.0   \n",
       "                                                                         0.0010              5.0   \n",
       "           12              3         10        1          (256, 256)     0.0001              5.0   \n",
       "                                                                         0.0005              5.0   \n",
       "                                                                         0.0010              5.0   \n",
       "                                                          (512, 512)     0.0001              5.0   \n",
       "                                                                         0.0005              5.0   \n",
       "                                                                         0.0010              5.0   \n",
       "\n",
       "                                                                                        batch_size  \\\n",
       "dimensions output_channels sig_depth num_heads num_layers ffn_hidden_dim learning_rate               \n",
       "15         8               4         6         1          (256, 256)     0.0001               64.0   \n",
       "                                                                         0.0005               64.0   \n",
       "                                                                         0.0010               64.0   \n",
       "                                                          (512, 512)     0.0001               64.0   \n",
       "                                                                         0.0005               64.0   \n",
       "                                                                         0.0010               64.0   \n",
       "           12              3         10        1          (256, 256)     0.0001               64.0   \n",
       "                                                                         0.0005               64.0   \n",
       "                                                                         0.0010               64.0   \n",
       "                                                          (512, 512)     0.0001               64.0   \n",
       "                                                                         0.0005               64.0   \n",
       "                                                                         0.0010               64.0   \n",
       "\n",
       "                                                                                        model_id  \n",
       "dimensions output_channels sig_depth num_heads num_layers ffn_hidden_dim learning_rate            \n",
       "15         8               4         6         1          (256, 256)     0.0001             14.5  \n",
       "                                                                         0.0005             15.5  \n",
       "                                                                         0.0010             13.5  \n",
       "                                                          (512, 512)     0.0001             20.5  \n",
       "                                                                         0.0005             21.5  \n",
       "                                                                         0.0010             19.5  \n",
       "           12              3         10        1          (256, 256)     0.0001              2.5  \n",
       "                                                                         0.0005              3.5  \n",
       "                                                                         0.0010              1.5  \n",
       "                                                          (512, 512)     0.0001              8.5  \n",
       "                                                                         0.0005              9.5  \n",
       "                                                                         0.0010              7.5  \n",
       "\n",
       "[12 rows x 25 columns]"
      ]
     },
     "execution_count": 13,
     "metadata": {},
     "output_type": "execute_result"
    }
   ],
   "source": [
    "seqsignet_attention_mha_umap_11.groupby(\n",
    "    [\n",
    "        \"dimensions\",\n",
    "        \"output_channels\",\n",
    "        \"sig_depth\",\n",
    "        \"num_heads\",\n",
    "        \"num_layers\",\n",
    "        \"ffn_hidden_dim\",\n",
    "        \"learning_rate\",\n",
    "    ]\n",
    ").mean()"
   ]
  },
  {
   "cell_type": "code",
   "execution_count": 14,
   "id": "089e89fa-e2bc-4bd2-a063-d9c7d35ba390",
   "metadata": {},
   "outputs": [
    {
     "data": {
      "text/html": [
       "<div>\n",
       "<style scoped>\n",
       "    .dataframe tbody tr th:only-of-type {\n",
       "        vertical-align: middle;\n",
       "    }\n",
       "\n",
       "    .dataframe tbody tr th {\n",
       "        vertical-align: top;\n",
       "    }\n",
       "\n",
       "    .dataframe thead th {\n",
       "        text-align: right;\n",
       "    }\n",
       "</style>\n",
       "<table border=\"1\" class=\"dataframe\">\n",
       "  <thead>\n",
       "    <tr style=\"text-align: right;\">\n",
       "      <th></th>\n",
       "      <th>loss</th>\n",
       "      <th>accuracy</th>\n",
       "      <th>f1</th>\n",
       "      <th>f1_scores</th>\n",
       "      <th>precision</th>\n",
       "      <th>precision_scores</th>\n",
       "      <th>recall</th>\n",
       "      <th>recall_scores</th>\n",
       "      <th>valid_loss</th>\n",
       "      <th>valid_accuracy</th>\n",
       "      <th>...</th>\n",
       "      <th>learning_rate</th>\n",
       "      <th>seed</th>\n",
       "      <th>loss_function</th>\n",
       "      <th>gamma</th>\n",
       "      <th>k_fold</th>\n",
       "      <th>n_splits</th>\n",
       "      <th>augmentation_type</th>\n",
       "      <th>hidden_dim_aug</th>\n",
       "      <th>comb_method</th>\n",
       "      <th>batch_size</th>\n",
       "    </tr>\n",
       "  </thead>\n",
       "  <tbody>\n",
       "    <tr>\n",
       "      <th>0</th>\n",
       "      <td>None</td>\n",
       "      <td>0.678658</td>\n",
       "      <td>0.655069</td>\n",
       "      <td>[0.745271867612293, 0.5648662291771832]</td>\n",
       "      <td>0.652797</td>\n",
       "      <td>[0.7689024390243903, 0.5366906474820143]</td>\n",
       "      <td>0.659607</td>\n",
       "      <td>[0.7230504587155964, 0.5961640916355887]</td>\n",
       "      <td>None</td>\n",
       "      <td>0.748753</td>\n",
       "      <td>...</td>\n",
       "      <td>0.0001</td>\n",
       "      <td>1</td>\n",
       "      <td>focal</td>\n",
       "      <td>2</td>\n",
       "      <td>True</td>\n",
       "      <td>5</td>\n",
       "      <td>Conv1d</td>\n",
       "      <td>None</td>\n",
       "      <td>concatenation</td>\n",
       "      <td>64</td>\n",
       "    </tr>\n",
       "    <tr>\n",
       "      <th>0</th>\n",
       "      <td>None</td>\n",
       "      <td>0.679963</td>\n",
       "      <td>0.658260</td>\n",
       "      <td>[0.7443799315170462, 0.5721405432344879]</td>\n",
       "      <td>0.655843</td>\n",
       "      <td>[0.774233508826262, 0.5374531835205992]</td>\n",
       "      <td>0.664179</td>\n",
       "      <td>[0.716743119266055, 0.6116142781033564]</td>\n",
       "      <td>None</td>\n",
       "      <td>0.747540</td>\n",
       "      <td>...</td>\n",
       "      <td>0.0001</td>\n",
       "      <td>12</td>\n",
       "      <td>focal</td>\n",
       "      <td>2</td>\n",
       "      <td>True</td>\n",
       "      <td>5</td>\n",
       "      <td>Conv1d</td>\n",
       "      <td>None</td>\n",
       "      <td>concatenation</td>\n",
       "      <td>64</td>\n",
       "    </tr>\n",
       "    <tr>\n",
       "      <th>0</th>\n",
       "      <td>None</td>\n",
       "      <td>0.674371</td>\n",
       "      <td>0.649766</td>\n",
       "      <td>[0.7425961396787979, 0.5569363428861273]</td>\n",
       "      <td>0.647665</td>\n",
       "      <td>[0.7638678387390119, 0.5314617618586641]</td>\n",
       "      <td>0.653727</td>\n",
       "      <td>[0.7224770642201835, 0.5849760255727224]</td>\n",
       "      <td>None</td>\n",
       "      <td>0.745923</td>\n",
       "      <td>...</td>\n",
       "      <td>0.0001</td>\n",
       "      <td>123</td>\n",
       "      <td>focal</td>\n",
       "      <td>2</td>\n",
       "      <td>True</td>\n",
       "      <td>5</td>\n",
       "      <td>Conv1d</td>\n",
       "      <td>None</td>\n",
       "      <td>concatenation</td>\n",
       "      <td>64</td>\n",
       "    </tr>\n",
       "  </tbody>\n",
       "</table>\n",
       "<p>3 rows × 46 columns</p>\n",
       "</div>"
      ],
      "text/plain": [
       "   loss  accuracy        f1                                 f1_scores  \\\n",
       "0  None  0.678658  0.655069   [0.745271867612293, 0.5648662291771832]   \n",
       "0  None  0.679963  0.658260  [0.7443799315170462, 0.5721405432344879]   \n",
       "0  None  0.674371  0.649766  [0.7425961396787979, 0.5569363428861273]   \n",
       "\n",
       "   precision                          precision_scores    recall  \\\n",
       "0   0.652797  [0.7689024390243903, 0.5366906474820143]  0.659607   \n",
       "0   0.655843   [0.774233508826262, 0.5374531835205992]  0.664179   \n",
       "0   0.647665  [0.7638678387390119, 0.5314617618586641]  0.653727   \n",
       "\n",
       "                              recall_scores valid_loss  valid_accuracy  ...  \\\n",
       "0  [0.7230504587155964, 0.5961640916355887]       None        0.748753  ...   \n",
       "0   [0.716743119266055, 0.6116142781033564]       None        0.747540  ...   \n",
       "0  [0.7224770642201835, 0.5849760255727224]       None        0.745923  ...   \n",
       "\n",
       "   learning_rate seed  loss_function gamma  k_fold n_splits  \\\n",
       "0         0.0001    1          focal     2    True        5   \n",
       "0         0.0001   12          focal     2    True        5   \n",
       "0         0.0001  123          focal     2    True        5   \n",
       "\n",
       "   augmentation_type  hidden_dim_aug    comb_method  batch_size  \n",
       "0             Conv1d            None  concatenation          64  \n",
       "0             Conv1d            None  concatenation          64  \n",
       "0             Conv1d            None  concatenation          64  \n",
       "\n",
       "[3 rows x 46 columns]"
      ]
     },
     "execution_count": 14,
     "metadata": {},
     "output_type": "execute_result"
    }
   ],
   "source": [
    "best_seqsignet_attention_mha_umap_11"
   ]
  },
  {
   "cell_type": "code",
   "execution_count": 15,
   "id": "978d2bdc-9e44-49ac-a88c-71540aa34777",
   "metadata": {},
   "outputs": [
    {
     "data": {
      "text/html": [
       "<div>\n",
       "<style scoped>\n",
       "    .dataframe tbody tr th:only-of-type {\n",
       "        vertical-align: middle;\n",
       "    }\n",
       "\n",
       "    .dataframe tbody tr th {\n",
       "        vertical-align: top;\n",
       "    }\n",
       "\n",
       "    .dataframe thead th {\n",
       "        text-align: right;\n",
       "    }\n",
       "</style>\n",
       "<table border=\"1\" class=\"dataframe\">\n",
       "  <thead>\n",
       "    <tr style=\"text-align: right;\">\n",
       "      <th></th>\n",
       "      <th>dimensions</th>\n",
       "      <th>output_channels</th>\n",
       "      <th>sig_depth</th>\n",
       "      <th>num_heads</th>\n",
       "      <th>num_layers</th>\n",
       "      <th>ffn_hidden_dim</th>\n",
       "      <th>dropout_rate</th>\n",
       "      <th>learning_rate</th>\n",
       "    </tr>\n",
       "  </thead>\n",
       "  <tbody>\n",
       "    <tr>\n",
       "      <th>0</th>\n",
       "      <td>15</td>\n",
       "      <td>12</td>\n",
       "      <td>3</td>\n",
       "      <td>10</td>\n",
       "      <td>1</td>\n",
       "      <td>(512, 512)</td>\n",
       "      <td>0.1</td>\n",
       "      <td>0.0001</td>\n",
       "    </tr>\n",
       "    <tr>\n",
       "      <th>0</th>\n",
       "      <td>15</td>\n",
       "      <td>12</td>\n",
       "      <td>3</td>\n",
       "      <td>10</td>\n",
       "      <td>1</td>\n",
       "      <td>(512, 512)</td>\n",
       "      <td>0.1</td>\n",
       "      <td>0.0001</td>\n",
       "    </tr>\n",
       "    <tr>\n",
       "      <th>0</th>\n",
       "      <td>15</td>\n",
       "      <td>12</td>\n",
       "      <td>3</td>\n",
       "      <td>10</td>\n",
       "      <td>1</td>\n",
       "      <td>(512, 512)</td>\n",
       "      <td>0.1</td>\n",
       "      <td>0.0001</td>\n",
       "    </tr>\n",
       "  </tbody>\n",
       "</table>\n",
       "</div>"
      ],
      "text/plain": [
       "   dimensions  output_channels  sig_depth  num_heads  num_layers  \\\n",
       "0          15               12          3         10           1   \n",
       "0          15               12          3         10           1   \n",
       "0          15               12          3         10           1   \n",
       "\n",
       "  ffn_hidden_dim  dropout_rate  learning_rate  \n",
       "0     (512, 512)           0.1         0.0001  \n",
       "0     (512, 512)           0.1         0.0001  \n",
       "0     (512, 512)           0.1         0.0001  "
      ]
     },
     "execution_count": 15,
     "metadata": {},
     "output_type": "execute_result"
    }
   ],
   "source": [
    "best_seqsignet_attention_mha_umap_11[\n",
    "    [\n",
    "        \"dimensions\",\n",
    "        \"output_channels\",\n",
    "        \"sig_depth\",\n",
    "        \"num_heads\",\n",
    "        \"num_layers\",\n",
    "        \"ffn_hidden_dim\",\n",
    "        \"dropout_rate\",\n",
    "        \"learning_rate\",\n",
    "    ]\n",
    "]"
   ]
  },
  {
   "cell_type": "code",
   "execution_count": 16,
   "id": "78b1127f-0371-40b9-a521-14f6f38f150f",
   "metadata": {},
   "outputs": [
    {
     "data": {
      "text/plain": [
       "0.6543651756843226"
      ]
     },
     "execution_count": 16,
     "metadata": {},
     "output_type": "execute_result"
    }
   ],
   "source": [
    "best_seqsignet_attention_mha_umap_11[\"f1\"].mean()"
   ]
  },
  {
   "cell_type": "code",
   "execution_count": 17,
   "id": "500a7f96-d4df-44c0-93dc-60e3f38b5e7e",
   "metadata": {},
   "outputs": [
    {
     "data": {
      "text/plain": [
       "0.6521015632418236"
      ]
     },
     "execution_count": 17,
     "metadata": {},
     "output_type": "execute_result"
    }
   ],
   "source": [
    "best_seqsignet_attention_mha_umap_11[\"precision\"].mean()"
   ]
  },
  {
   "cell_type": "code",
   "execution_count": 18,
   "id": "eb46a36b-60fd-4ff8-9c44-301db7b1c806",
   "metadata": {},
   "outputs": [
    {
     "data": {
      "text/plain": [
       "0.6591708395855838"
      ]
     },
     "execution_count": 18,
     "metadata": {},
     "output_type": "execute_result"
    }
   ],
   "source": [
    "best_seqsignet_attention_mha_umap_11[\"recall\"].mean()"
   ]
  },
  {
   "cell_type": "code",
   "execution_count": 19,
   "id": "088a2cba-e1ee-45f3-9ebf-950d6828c9b6",
   "metadata": {},
   "outputs": [
    {
     "data": {
      "text/plain": [
       "array([0.74408265, 0.56464771])"
      ]
     },
     "execution_count": 19,
     "metadata": {},
     "output_type": "execute_result"
    }
   ],
   "source": [
    "np.stack(best_seqsignet_attention_mha_umap_11[\"f1_scores\"]).mean(axis=0)"
   ]
  },
  {
   "cell_type": "code",
   "execution_count": 20,
   "id": "7fe395fe-9dfe-441c-bda8-e2304f3710db",
   "metadata": {},
   "outputs": [
    {
     "data": {
      "text/plain": [
       "array([0.76900126, 0.53520186])"
      ]
     },
     "execution_count": 20,
     "metadata": {},
     "output_type": "execute_result"
    }
   ],
   "source": [
    "np.stack(best_seqsignet_attention_mha_umap_11[\"precision_scores\"]).mean(axis=0)"
   ]
  },
  {
   "cell_type": "code",
   "execution_count": 21,
   "id": "6a62f0f1-1ba4-432e-a9c5-537150ea3a59",
   "metadata": {},
   "outputs": [
    {
     "data": {
      "text/plain": [
       "array([0.72075688, 0.5975848 ])"
      ]
     },
     "execution_count": 21,
     "metadata": {},
     "output_type": "execute_result"
    }
   ],
   "source": [
    "np.stack(best_seqsignet_attention_mha_umap_11[\"recall_scores\"]).mean(axis=0)"
   ]
  },
  {
   "cell_type": "markdown",
   "id": "f0787150-8266-48ee-97f5-5f711ce899c7",
   "metadata": {},
   "source": [
    "## Random Projections"
   ]
  },
  {
   "cell_type": "code",
   "execution_count": 22,
   "id": "13a67a66",
   "metadata": {},
   "outputs": [
    {
     "data": {
      "application/vnd.jupyter.widget-view+json": {
       "model_id": "80798d0f171e460491adaee11d63d294",
       "version_major": 2,
       "version_minor": 0
      },
      "text/plain": [
       "  0%|          | 0/1 [00:00<?, ?it/s]"
      ]
     },
     "metadata": {},
     "output_type": "display_data"
    },
    {
     "data": {
      "application/vnd.jupyter.widget-view+json": {
       "model_id": "32c6952398fe4ede8ce13bcb827c90ca",
       "version_major": 2,
       "version_minor": 0
      },
      "text/plain": [
       "  0%|          | 0/1 [00:00<?, ?it/s]"
      ]
     },
     "metadata": {},
     "output_type": "display_data"
    },
    {
     "name": "stdout",
     "output_type": "stream",
     "text": [
      "\n",
      "##################################################\n",
      "dimension: 15 | method: gaussian_random_projection\n",
      "given shift 3, window size 5 and n 3: history length = 11\n",
      "[INFO] Concatenating the embeddings to the dataframe...\n",
      "[INFO] - columns beginning with 'e' denote the full embddings.\n",
      "[INFO] - columns beginning with 'd' denote the dimension reduced embeddings.\n",
      "[INFO] Adding time feature columns into dataframe in `.df`.\n",
      "[INFO] Adding 'time_encoding' feature...\n",
      "[INFO] Adding 'time_diff' feature...\n",
      "[INFO] Adding 'timeline_index' feature...\n",
      "[INFO] Padding ids and storing in `.df_padded` and `.array_padded` attributes.\n"
     ]
    },
    {
     "data": {
      "application/vnd.jupyter.widget-view+json": {
       "model_id": "61abda050e5a48a299247c29f4fb5ef4",
       "version_major": 2,
       "version_minor": 0
      },
      "text/plain": [
       "  0%|          | 0/5568 [00:00<?, ?it/s]"
      ]
     },
     "metadata": {},
     "output_type": "display_data"
    },
    {
     "name": "stdout",
     "output_type": "stream",
     "text": [
      "[INFO] The path was created for each item in the dataframe, by looking at its history, so to include embeddings in the FFN input, we concatenate the embeddings for each sentence / text.\n"
     ]
    },
    {
     "data": {
      "application/vnd.jupyter.widget-view+json": {
       "model_id": "4ba320eab9cb4a55a00925aac159ca1e",
       "version_major": 2,
       "version_minor": 0
      },
      "text/plain": [
       "  0%|          | 0/2 [00:00<?, ?it/s]"
      ]
     },
     "metadata": {},
     "output_type": "display_data"
    },
    {
     "data": {
      "application/vnd.jupyter.widget-view+json": {
       "model_id": "be83049d2e7f4c6790c4d27efdffcbe7",
       "version_major": 2,
       "version_minor": 0
      },
      "text/plain": [
       "  0%|          | 0/1 [00:00<?, ?it/s]"
      ]
     },
     "metadata": {},
     "output_type": "display_data"
    },
    {
     "data": {
      "application/vnd.jupyter.widget-view+json": {
       "model_id": "b465fc7e915149fd80269f45f9455849",
       "version_major": 2,
       "version_minor": 0
      },
      "text/plain": [
       "  0%|          | 0/2 [00:00<?, ?it/s]"
      ]
     },
     "metadata": {},
     "output_type": "display_data"
    },
    {
     "data": {
      "application/vnd.jupyter.widget-view+json": {
       "model_id": "f1d18d0f2e734005ba22e130adf151a8",
       "version_major": 2,
       "version_minor": 0
      },
      "text/plain": [
       "  0%|          | 0/2 [00:00<?, ?it/s]"
      ]
     },
     "metadata": {},
     "output_type": "display_data"
    },
    {
     "data": {
      "application/vnd.jupyter.widget-view+json": {
       "model_id": "1360cb03123b4d718acaa2780fd1970f",
       "version_major": 2,
       "version_minor": 0
      },
      "text/plain": [
       "  0%|          | 0/3 [00:00<?, ?it/s]"
      ]
     },
     "metadata": {},
     "output_type": "display_data"
    },
    {
     "data": {
      "application/vnd.jupyter.widget-view+json": {
       "model_id": "5907df30025e4277879f0a963b36bc53",
       "version_major": 2,
       "version_minor": 0
      },
      "text/plain": [
       "  0%|          | 0/3 [00:00<?, ?it/s]"
      ]
     },
     "metadata": {},
     "output_type": "display_data"
    },
    {
     "data": {
      "application/vnd.jupyter.widget-view+json": {
       "model_id": "cb064b0f41c3414d95c16ba780921891",
       "version_major": 2,
       "version_minor": 0
      },
      "text/plain": [
       "  0%|          | 0/2 [00:00<?, ?it/s]"
      ]
     },
     "metadata": {},
     "output_type": "display_data"
    },
    {
     "data": {
      "application/vnd.jupyter.widget-view+json": {
       "model_id": "876df56dc9c84fb29579007980b7c952",
       "version_major": 2,
       "version_minor": 0
      },
      "text/plain": [
       "  0%|          | 0/3 [00:00<?, ?it/s]"
      ]
     },
     "metadata": {},
     "output_type": "display_data"
    },
    {
     "data": {
      "application/vnd.jupyter.widget-view+json": {
       "model_id": "b5d991e45dc34b79b190fcc8dfb638d1",
       "version_major": 2,
       "version_minor": 0
      },
      "text/plain": [
       "  0%|          | 0/3 [00:00<?, ?it/s]"
      ]
     },
     "metadata": {},
     "output_type": "display_data"
    },
    {
     "data": {
      "application/vnd.jupyter.widget-view+json": {
       "model_id": "b5ca09f8eaec4d3988fb92c154fd9d0c",
       "version_major": 2,
       "version_minor": 0
      },
      "text/plain": [
       "  0%|          | 0/1 [00:00<?, ?it/s]"
      ]
     },
     "metadata": {},
     "output_type": "display_data"
    },
    {
     "data": {
      "application/vnd.jupyter.widget-view+json": {
       "model_id": "900c3e61fb444d9dad603c174b2632f5",
       "version_major": 2,
       "version_minor": 0
      },
      "text/plain": [
       "  0%|          | 0/2 [00:00<?, ?it/s]"
      ]
     },
     "metadata": {},
     "output_type": "display_data"
    },
    {
     "data": {
      "application/vnd.jupyter.widget-view+json": {
       "model_id": "c42df632947448889b5a6e3f783f1dcd",
       "version_major": 2,
       "version_minor": 0
      },
      "text/plain": [
       "  0%|          | 0/2 [00:00<?, ?it/s]"
      ]
     },
     "metadata": {},
     "output_type": "display_data"
    },
    {
     "data": {
      "application/vnd.jupyter.widget-view+json": {
       "model_id": "5b1ebf8a187e49ab81b111de6bf24f09",
       "version_major": 2,
       "version_minor": 0
      },
      "text/plain": [
       "  0%|          | 0/3 [00:00<?, ?it/s]"
      ]
     },
     "metadata": {},
     "output_type": "display_data"
    },
    {
     "data": {
      "application/vnd.jupyter.widget-view+json": {
       "model_id": "6de01da2ef494fe8bd0f282e288df912",
       "version_major": 2,
       "version_minor": 0
      },
      "text/plain": [
       "  0%|          | 0/3 [00:00<?, ?it/s]"
      ]
     },
     "metadata": {},
     "output_type": "display_data"
    },
    {
     "data": {
      "application/vnd.jupyter.widget-view+json": {
       "model_id": "33bee9bab0c346cbb738c242b096eba4",
       "version_major": 2,
       "version_minor": 0
      },
      "text/plain": [
       "  0%|          | 0/2 [00:00<?, ?it/s]"
      ]
     },
     "metadata": {},
     "output_type": "display_data"
    },
    {
     "data": {
      "application/vnd.jupyter.widget-view+json": {
       "model_id": "719974b06e2443adabb63be7a428cea5",
       "version_major": 2,
       "version_minor": 0
      },
      "text/plain": [
       "  0%|          | 0/3 [00:00<?, ?it/s]"
      ]
     },
     "metadata": {},
     "output_type": "display_data"
    },
    {
     "data": {
      "application/vnd.jupyter.widget-view+json": {
       "model_id": "5c64a77342dd4e409168acce4c10d76f",
       "version_major": 2,
       "version_minor": 0
      },
      "text/plain": [
       "  0%|          | 0/3 [00:00<?, ?it/s]"
      ]
     },
     "metadata": {},
     "output_type": "display_data"
    },
    {
     "name": "stdout",
     "output_type": "stream",
     "text": [
      "given shift 3, window size 5 and n 3: history length = 11\n",
      "[INFO] Concatenating the embeddings to the dataframe...\n",
      "[INFO] - columns beginning with 'e' denote the full embddings.\n",
      "[INFO] - columns beginning with 'd' denote the dimension reduced embeddings.\n",
      "[INFO] Adding time feature columns into dataframe in `.df`.\n",
      "[INFO] Adding 'time_encoding' feature...\n",
      "[INFO] Adding 'time_diff' feature...\n",
      "[INFO] Adding 'timeline_index' feature...\n",
      "[INFO] Padding ids and storing in `.df_padded` and `.array_padded` attributes.\n"
     ]
    },
    {
     "data": {
      "application/vnd.jupyter.widget-view+json": {
       "model_id": "564ff3b39d2c42cfab461f6c9bf3dea5",
       "version_major": 2,
       "version_minor": 0
      },
      "text/plain": [
       "  0%|          | 0/5568 [00:00<?, ?it/s]"
      ]
     },
     "metadata": {},
     "output_type": "display_data"
    },
    {
     "name": "stdout",
     "output_type": "stream",
     "text": [
      "[INFO] The path was created for each item in the dataframe, by looking at its history, so to include embeddings in the FFN input, we concatenate the embeddings for each sentence / text.\n",
      "saving results dataframe to CSV for this hyperparameter search in rumours_output/seqsignet_attention_mha_grp_focal_2_3_5_3_kfold.csv\n",
      "saving the best model results dataframe to CSV for this hyperparameter search in rumours_output/seqsignet_attention_mha_grp_focal_2_3_5_3_kfold_best_model.csv\n"
     ]
    }
   ],
   "source": [
    "(\n",
    "    seqsignet_attention_mha_grp_11,\n",
    "    best_seqsignet_attention_mha_grp_11,\n",
    "    _,\n",
    "    __,\n",
    ") = seqsignet_full_attention_hyperparameter_search(\n",
    "    shift=shift,\n",
    "    window_size=window_size,\n",
    "    n=n,\n",
    "    dim_reduce_methods=[\"gaussian_random_projection\"],\n",
    "    results_output=f\"{output_dir}/seqsignet_attention_mha_grp_focal_{gamma}_{shift}_{window_size}_{n}_kfold.csv\",\n",
    "    **kwargs,\n",
    ")"
   ]
  },
  {
   "cell_type": "code",
   "execution_count": 23,
   "id": "0ec7c660",
   "metadata": {},
   "outputs": [
    {
     "name": "stderr",
     "output_type": "stream",
     "text": [
      "/tmp/ipykernel_2887417/2541425521.py:1: FutureWarning: The default value of numeric_only in DataFrameGroupBy.mean is deprecated. In a future version, numeric_only will default to False. Either specify numeric_only or select only columns which should be valid for the function.\n",
      "  seqsignet_attention_mha_grp_11.groupby(\n"
     ]
    },
    {
     "data": {
      "text/html": [
       "<div>\n",
       "<style scoped>\n",
       "    .dataframe tbody tr th:only-of-type {\n",
       "        vertical-align: middle;\n",
       "    }\n",
       "\n",
       "    .dataframe tbody tr th {\n",
       "        vertical-align: top;\n",
       "    }\n",
       "\n",
       "    .dataframe thead th {\n",
       "        text-align: right;\n",
       "    }\n",
       "</style>\n",
       "<table border=\"1\" class=\"dataframe\">\n",
       "  <thead>\n",
       "    <tr style=\"text-align: right;\">\n",
       "      <th></th>\n",
       "      <th></th>\n",
       "      <th></th>\n",
       "      <th></th>\n",
       "      <th></th>\n",
       "      <th></th>\n",
       "      <th></th>\n",
       "      <th></th>\n",
       "      <th>accuracy</th>\n",
       "      <th>f1</th>\n",
       "      <th>precision</th>\n",
       "      <th>recall</th>\n",
       "      <th>valid_accuracy</th>\n",
       "      <th>valid_f1</th>\n",
       "      <th>valid_precision</th>\n",
       "      <th>valid_recall</th>\n",
       "      <th>k</th>\n",
       "      <th>shift</th>\n",
       "      <th>...</th>\n",
       "      <th>include_features_in_input</th>\n",
       "      <th>embedding_dim</th>\n",
       "      <th>num_features</th>\n",
       "      <th>log_signature</th>\n",
       "      <th>seed</th>\n",
       "      <th>gamma</th>\n",
       "      <th>k_fold</th>\n",
       "      <th>n_splits</th>\n",
       "      <th>batch_size</th>\n",
       "      <th>model_id</th>\n",
       "    </tr>\n",
       "    <tr>\n",
       "      <th>dimensions</th>\n",
       "      <th>output_channels</th>\n",
       "      <th>sig_depth</th>\n",
       "      <th>num_heads</th>\n",
       "      <th>num_layers</th>\n",
       "      <th>ffn_hidden_dim</th>\n",
       "      <th>dropout_rate</th>\n",
       "      <th>learning_rate</th>\n",
       "      <th></th>\n",
       "      <th></th>\n",
       "      <th></th>\n",
       "      <th></th>\n",
       "      <th></th>\n",
       "      <th></th>\n",
       "      <th></th>\n",
       "      <th></th>\n",
       "      <th></th>\n",
       "      <th></th>\n",
       "      <th></th>\n",
       "      <th></th>\n",
       "      <th></th>\n",
       "      <th></th>\n",
       "      <th></th>\n",
       "      <th></th>\n",
       "      <th></th>\n",
       "      <th></th>\n",
       "      <th></th>\n",
       "      <th></th>\n",
       "      <th></th>\n",
       "    </tr>\n",
       "  </thead>\n",
       "  <tbody>\n",
       "    <tr>\n",
       "      <th rowspan=\"24\" valign=\"top\">15</th>\n",
       "      <th rowspan=\"12\" valign=\"top\">8</th>\n",
       "      <th rowspan=\"12\" valign=\"top\">4</th>\n",
       "      <th rowspan=\"12\" valign=\"top\">6</th>\n",
       "      <th rowspan=\"12\" valign=\"top\">1</th>\n",
       "      <th rowspan=\"6\" valign=\"top\">(256, 256)</th>\n",
       "      <th rowspan=\"3\" valign=\"top\">0.1</th>\n",
       "      <th>0.0001</th>\n",
       "      <td>0.684809</td>\n",
       "      <td>0.662651</td>\n",
       "      <td>0.661275</td>\n",
       "      <td>0.668808</td>\n",
       "      <td>0.745204</td>\n",
       "      <td>0.733734</td>\n",
       "      <td>0.732650</td>\n",
       "      <td>0.738294</td>\n",
       "      <td>11.0</td>\n",
       "      <td>3.0</td>\n",
       "      <td>...</td>\n",
       "      <td>0.0</td>\n",
       "      <td>384.0</td>\n",
       "      <td>0.0</td>\n",
       "      <td>1.0</td>\n",
       "      <td>45.333333</td>\n",
       "      <td>2.0</td>\n",
       "      <td>1.0</td>\n",
       "      <td>5.0</td>\n",
       "      <td>64.0</td>\n",
       "      <td>13.0</td>\n",
       "    </tr>\n",
       "    <tr>\n",
       "      <th>0.0005</th>\n",
       "      <td>0.690214</td>\n",
       "      <td>0.663641</td>\n",
       "      <td>0.662532</td>\n",
       "      <td>0.666075</td>\n",
       "      <td>0.754100</td>\n",
       "      <td>0.737094</td>\n",
       "      <td>0.740051</td>\n",
       "      <td>0.735615</td>\n",
       "      <td>11.0</td>\n",
       "      <td>3.0</td>\n",
       "      <td>...</td>\n",
       "      <td>0.0</td>\n",
       "      <td>384.0</td>\n",
       "      <td>0.0</td>\n",
       "      <td>1.0</td>\n",
       "      <td>45.333333</td>\n",
       "      <td>2.0</td>\n",
       "      <td>1.0</td>\n",
       "      <td>5.0</td>\n",
       "      <td>64.0</td>\n",
       "      <td>14.0</td>\n",
       "    </tr>\n",
       "    <tr>\n",
       "      <th>0.0010</th>\n",
       "      <td>0.674309</td>\n",
       "      <td>0.636675</td>\n",
       "      <td>0.645067</td>\n",
       "      <td>0.642606</td>\n",
       "      <td>0.718740</td>\n",
       "      <td>0.699016</td>\n",
       "      <td>0.705609</td>\n",
       "      <td>0.700436</td>\n",
       "      <td>11.0</td>\n",
       "      <td>3.0</td>\n",
       "      <td>...</td>\n",
       "      <td>0.0</td>\n",
       "      <td>384.0</td>\n",
       "      <td>0.0</td>\n",
       "      <td>1.0</td>\n",
       "      <td>45.333333</td>\n",
       "      <td>2.0</td>\n",
       "      <td>1.0</td>\n",
       "      <td>5.0</td>\n",
       "      <td>64.0</td>\n",
       "      <td>12.0</td>\n",
       "    </tr>\n",
       "    <tr>\n",
       "      <th rowspan=\"3\" valign=\"top\">0.2</th>\n",
       "      <th>0.0001</th>\n",
       "      <td>0.681454</td>\n",
       "      <td>0.662406</td>\n",
       "      <td>0.660644</td>\n",
       "      <td>0.670821</td>\n",
       "      <td>0.746147</td>\n",
       "      <td>0.735865</td>\n",
       "      <td>0.733492</td>\n",
       "      <td>0.741161</td>\n",
       "      <td>11.0</td>\n",
       "      <td>3.0</td>\n",
       "      <td>...</td>\n",
       "      <td>0.0</td>\n",
       "      <td>384.0</td>\n",
       "      <td>0.0</td>\n",
       "      <td>1.0</td>\n",
       "      <td>45.333333</td>\n",
       "      <td>2.0</td>\n",
       "      <td>1.0</td>\n",
       "      <td>5.0</td>\n",
       "      <td>64.0</td>\n",
       "      <td>16.0</td>\n",
       "    </tr>\n",
       "    <tr>\n",
       "      <th>0.0005</th>\n",
       "      <td>0.695061</td>\n",
       "      <td>0.671529</td>\n",
       "      <td>0.669142</td>\n",
       "      <td>0.675626</td>\n",
       "      <td>0.748933</td>\n",
       "      <td>0.733442</td>\n",
       "      <td>0.733910</td>\n",
       "      <td>0.733024</td>\n",
       "      <td>11.0</td>\n",
       "      <td>3.0</td>\n",
       "      <td>...</td>\n",
       "      <td>0.0</td>\n",
       "      <td>384.0</td>\n",
       "      <td>0.0</td>\n",
       "      <td>1.0</td>\n",
       "      <td>45.333333</td>\n",
       "      <td>2.0</td>\n",
       "      <td>1.0</td>\n",
       "      <td>5.0</td>\n",
       "      <td>64.0</td>\n",
       "      <td>17.0</td>\n",
       "    </tr>\n",
       "    <tr>\n",
       "      <th>0.0010</th>\n",
       "      <td>0.701522</td>\n",
       "      <td>0.670616</td>\n",
       "      <td>0.673246</td>\n",
       "      <td>0.671368</td>\n",
       "      <td>0.733522</td>\n",
       "      <td>0.714116</td>\n",
       "      <td>0.718430</td>\n",
       "      <td>0.713172</td>\n",
       "      <td>11.0</td>\n",
       "      <td>3.0</td>\n",
       "      <td>...</td>\n",
       "      <td>0.0</td>\n",
       "      <td>384.0</td>\n",
       "      <td>0.0</td>\n",
       "      <td>1.0</td>\n",
       "      <td>45.333333</td>\n",
       "      <td>2.0</td>\n",
       "      <td>1.0</td>\n",
       "      <td>5.0</td>\n",
       "      <td>64.0</td>\n",
       "      <td>15.0</td>\n",
       "    </tr>\n",
       "    <tr>\n",
       "      <th rowspan=\"6\" valign=\"top\">(512, 512)</th>\n",
       "      <th rowspan=\"3\" valign=\"top\">0.1</th>\n",
       "      <th>0.0001</th>\n",
       "      <td>0.683504</td>\n",
       "      <td>0.667214</td>\n",
       "      <td>0.665631</td>\n",
       "      <td>0.678303</td>\n",
       "      <td>0.749247</td>\n",
       "      <td>0.740032</td>\n",
       "      <td>0.737661</td>\n",
       "      <td>0.746721</td>\n",
       "      <td>11.0</td>\n",
       "      <td>3.0</td>\n",
       "      <td>...</td>\n",
       "      <td>0.0</td>\n",
       "      <td>384.0</td>\n",
       "      <td>0.0</td>\n",
       "      <td>1.0</td>\n",
       "      <td>45.333333</td>\n",
       "      <td>2.0</td>\n",
       "      <td>1.0</td>\n",
       "      <td>5.0</td>\n",
       "      <td>64.0</td>\n",
       "      <td>19.0</td>\n",
       "    </tr>\n",
       "    <tr>\n",
       "      <th>0.0005</th>\n",
       "      <td>0.688164</td>\n",
       "      <td>0.666976</td>\n",
       "      <td>0.665616</td>\n",
       "      <td>0.674177</td>\n",
       "      <td>0.738015</td>\n",
       "      <td>0.725474</td>\n",
       "      <td>0.724618</td>\n",
       "      <td>0.728661</td>\n",
       "      <td>11.0</td>\n",
       "      <td>3.0</td>\n",
       "      <td>...</td>\n",
       "      <td>0.0</td>\n",
       "      <td>384.0</td>\n",
       "      <td>0.0</td>\n",
       "      <td>1.0</td>\n",
       "      <td>45.333333</td>\n",
       "      <td>2.0</td>\n",
       "      <td>1.0</td>\n",
       "      <td>5.0</td>\n",
       "      <td>64.0</td>\n",
       "      <td>20.0</td>\n",
       "    </tr>\n",
       "    <tr>\n",
       "      <th>0.0010</th>\n",
       "      <td>0.689034</td>\n",
       "      <td>0.661309</td>\n",
       "      <td>0.663375</td>\n",
       "      <td>0.664347</td>\n",
       "      <td>0.717707</td>\n",
       "      <td>0.700953</td>\n",
       "      <td>0.702669</td>\n",
       "      <td>0.701955</td>\n",
       "      <td>11.0</td>\n",
       "      <td>3.0</td>\n",
       "      <td>...</td>\n",
       "      <td>0.0</td>\n",
       "      <td>384.0</td>\n",
       "      <td>0.0</td>\n",
       "      <td>1.0</td>\n",
       "      <td>45.333333</td>\n",
       "      <td>2.0</td>\n",
       "      <td>1.0</td>\n",
       "      <td>5.0</td>\n",
       "      <td>64.0</td>\n",
       "      <td>18.0</td>\n",
       "    </tr>\n",
       "    <tr>\n",
       "      <th rowspan=\"3\" valign=\"top\">0.2</th>\n",
       "      <th>0.0001</th>\n",
       "      <td>0.684560</td>\n",
       "      <td>0.663264</td>\n",
       "      <td>0.661497</td>\n",
       "      <td>0.669847</td>\n",
       "      <td>0.752437</td>\n",
       "      <td>0.740771</td>\n",
       "      <td>0.738974</td>\n",
       "      <td>0.744410</td>\n",
       "      <td>11.0</td>\n",
       "      <td>3.0</td>\n",
       "      <td>...</td>\n",
       "      <td>0.0</td>\n",
       "      <td>384.0</td>\n",
       "      <td>0.0</td>\n",
       "      <td>1.0</td>\n",
       "      <td>45.333333</td>\n",
       "      <td>2.0</td>\n",
       "      <td>1.0</td>\n",
       "      <td>5.0</td>\n",
       "      <td>64.0</td>\n",
       "      <td>22.0</td>\n",
       "    </tr>\n",
       "    <tr>\n",
       "      <th>0.0005</th>\n",
       "      <td>0.691643</td>\n",
       "      <td>0.668377</td>\n",
       "      <td>0.668051</td>\n",
       "      <td>0.674228</td>\n",
       "      <td>0.742328</td>\n",
       "      <td>0.728118</td>\n",
       "      <td>0.728381</td>\n",
       "      <td>0.730245</td>\n",
       "      <td>11.0</td>\n",
       "      <td>3.0</td>\n",
       "      <td>...</td>\n",
       "      <td>0.0</td>\n",
       "      <td>384.0</td>\n",
       "      <td>0.0</td>\n",
       "      <td>1.0</td>\n",
       "      <td>45.333333</td>\n",
       "      <td>2.0</td>\n",
       "      <td>1.0</td>\n",
       "      <td>5.0</td>\n",
       "      <td>64.0</td>\n",
       "      <td>23.0</td>\n",
       "    </tr>\n",
       "    <tr>\n",
       "      <th>0.0010</th>\n",
       "      <td>0.691022</td>\n",
       "      <td>0.657735</td>\n",
       "      <td>0.659553</td>\n",
       "      <td>0.656813</td>\n",
       "      <td>0.707822</td>\n",
       "      <td>0.682044</td>\n",
       "      <td>0.689311</td>\n",
       "      <td>0.678692</td>\n",
       "      <td>11.0</td>\n",
       "      <td>3.0</td>\n",
       "      <td>...</td>\n",
       "      <td>0.0</td>\n",
       "      <td>384.0</td>\n",
       "      <td>0.0</td>\n",
       "      <td>1.0</td>\n",
       "      <td>45.333333</td>\n",
       "      <td>2.0</td>\n",
       "      <td>1.0</td>\n",
       "      <td>5.0</td>\n",
       "      <td>64.0</td>\n",
       "      <td>21.0</td>\n",
       "    </tr>\n",
       "    <tr>\n",
       "      <th rowspan=\"12\" valign=\"top\">12</th>\n",
       "      <th rowspan=\"12\" valign=\"top\">3</th>\n",
       "      <th rowspan=\"12\" valign=\"top\">10</th>\n",
       "      <th rowspan=\"12\" valign=\"top\">1</th>\n",
       "      <th rowspan=\"6\" valign=\"top\">(256, 256)</th>\n",
       "      <th rowspan=\"3\" valign=\"top\">0.1</th>\n",
       "      <th>0.0001</th>\n",
       "      <td>0.669897</td>\n",
       "      <td>0.651894</td>\n",
       "      <td>0.651326</td>\n",
       "      <td>0.662220</td>\n",
       "      <td>0.763715</td>\n",
       "      <td>0.755817</td>\n",
       "      <td>0.754068</td>\n",
       "      <td>0.764521</td>\n",
       "      <td>11.0</td>\n",
       "      <td>3.0</td>\n",
       "      <td>...</td>\n",
       "      <td>0.0</td>\n",
       "      <td>384.0</td>\n",
       "      <td>0.0</td>\n",
       "      <td>1.0</td>\n",
       "      <td>45.333333</td>\n",
       "      <td>2.0</td>\n",
       "      <td>1.0</td>\n",
       "      <td>5.0</td>\n",
       "      <td>64.0</td>\n",
       "      <td>1.0</td>\n",
       "    </tr>\n",
       "    <tr>\n",
       "      <th>0.0005</th>\n",
       "      <td>0.682510</td>\n",
       "      <td>0.664157</td>\n",
       "      <td>0.662515</td>\n",
       "      <td>0.673397</td>\n",
       "      <td>0.763086</td>\n",
       "      <td>0.753122</td>\n",
       "      <td>0.751199</td>\n",
       "      <td>0.758423</td>\n",
       "      <td>11.0</td>\n",
       "      <td>3.0</td>\n",
       "      <td>...</td>\n",
       "      <td>0.0</td>\n",
       "      <td>384.0</td>\n",
       "      <td>0.0</td>\n",
       "      <td>1.0</td>\n",
       "      <td>45.333333</td>\n",
       "      <td>2.0</td>\n",
       "      <td>1.0</td>\n",
       "      <td>5.0</td>\n",
       "      <td>64.0</td>\n",
       "      <td>2.0</td>\n",
       "    </tr>\n",
       "    <tr>\n",
       "      <th>0.0010</th>\n",
       "      <td>0.685865</td>\n",
       "      <td>0.665128</td>\n",
       "      <td>0.663750</td>\n",
       "      <td>0.672450</td>\n",
       "      <td>0.764164</td>\n",
       "      <td>0.752489</td>\n",
       "      <td>0.751199</td>\n",
       "      <td>0.755741</td>\n",
       "      <td>11.0</td>\n",
       "      <td>3.0</td>\n",
       "      <td>...</td>\n",
       "      <td>0.0</td>\n",
       "      <td>384.0</td>\n",
       "      <td>0.0</td>\n",
       "      <td>1.0</td>\n",
       "      <td>45.333333</td>\n",
       "      <td>2.0</td>\n",
       "      <td>1.0</td>\n",
       "      <td>5.0</td>\n",
       "      <td>64.0</td>\n",
       "      <td>0.0</td>\n",
       "    </tr>\n",
       "    <tr>\n",
       "      <th rowspan=\"3\" valign=\"top\">0.2</th>\n",
       "      <th>0.0001</th>\n",
       "      <td>0.671761</td>\n",
       "      <td>0.656050</td>\n",
       "      <td>0.655828</td>\n",
       "      <td>0.668411</td>\n",
       "      <td>0.756975</td>\n",
       "      <td>0.750242</td>\n",
       "      <td>0.749008</td>\n",
       "      <td>0.761271</td>\n",
       "      <td>11.0</td>\n",
       "      <td>3.0</td>\n",
       "      <td>...</td>\n",
       "      <td>0.0</td>\n",
       "      <td>384.0</td>\n",
       "      <td>0.0</td>\n",
       "      <td>1.0</td>\n",
       "      <td>45.333333</td>\n",
       "      <td>2.0</td>\n",
       "      <td>1.0</td>\n",
       "      <td>5.0</td>\n",
       "      <td>64.0</td>\n",
       "      <td>4.0</td>\n",
       "    </tr>\n",
       "    <tr>\n",
       "      <th>0.0005</th>\n",
       "      <td>0.687543</td>\n",
       "      <td>0.664984</td>\n",
       "      <td>0.662925</td>\n",
       "      <td>0.670254</td>\n",
       "      <td>0.763131</td>\n",
       "      <td>0.749536</td>\n",
       "      <td>0.749233</td>\n",
       "      <td>0.750787</td>\n",
       "      <td>11.0</td>\n",
       "      <td>3.0</td>\n",
       "      <td>...</td>\n",
       "      <td>0.0</td>\n",
       "      <td>384.0</td>\n",
       "      <td>0.0</td>\n",
       "      <td>1.0</td>\n",
       "      <td>45.333333</td>\n",
       "      <td>2.0</td>\n",
       "      <td>1.0</td>\n",
       "      <td>5.0</td>\n",
       "      <td>64.0</td>\n",
       "      <td>5.0</td>\n",
       "    </tr>\n",
       "    <tr>\n",
       "      <th>0.0010</th>\n",
       "      <td>0.693942</td>\n",
       "      <td>0.669654</td>\n",
       "      <td>0.668765</td>\n",
       "      <td>0.674315</td>\n",
       "      <td>0.751629</td>\n",
       "      <td>0.736732</td>\n",
       "      <td>0.738232</td>\n",
       "      <td>0.737873</td>\n",
       "      <td>11.0</td>\n",
       "      <td>3.0</td>\n",
       "      <td>...</td>\n",
       "      <td>0.0</td>\n",
       "      <td>384.0</td>\n",
       "      <td>0.0</td>\n",
       "      <td>1.0</td>\n",
       "      <td>45.333333</td>\n",
       "      <td>2.0</td>\n",
       "      <td>1.0</td>\n",
       "      <td>5.0</td>\n",
       "      <td>64.0</td>\n",
       "      <td>3.0</td>\n",
       "    </tr>\n",
       "    <tr>\n",
       "      <th rowspan=\"6\" valign=\"top\">(512, 512)</th>\n",
       "      <th rowspan=\"3\" valign=\"top\">0.1</th>\n",
       "      <th>0.0001</th>\n",
       "      <td>0.677664</td>\n",
       "      <td>0.660090</td>\n",
       "      <td>0.658317</td>\n",
       "      <td>0.669875</td>\n",
       "      <td>0.766006</td>\n",
       "      <td>0.757369</td>\n",
       "      <td>0.754427</td>\n",
       "      <td>0.764313</td>\n",
       "      <td>11.0</td>\n",
       "      <td>3.0</td>\n",
       "      <td>...</td>\n",
       "      <td>0.0</td>\n",
       "      <td>384.0</td>\n",
       "      <td>0.0</td>\n",
       "      <td>1.0</td>\n",
       "      <td>45.333333</td>\n",
       "      <td>2.0</td>\n",
       "      <td>1.0</td>\n",
       "      <td>5.0</td>\n",
       "      <td>64.0</td>\n",
       "      <td>7.0</td>\n",
       "    </tr>\n",
       "    <tr>\n",
       "      <th>0.0005</th>\n",
       "      <td>0.680646</td>\n",
       "      <td>0.664660</td>\n",
       "      <td>0.663368</td>\n",
       "      <td>0.676146</td>\n",
       "      <td>0.750326</td>\n",
       "      <td>0.741620</td>\n",
       "      <td>0.739183</td>\n",
       "      <td>0.749086</td>\n",
       "      <td>11.0</td>\n",
       "      <td>3.0</td>\n",
       "      <td>...</td>\n",
       "      <td>0.0</td>\n",
       "      <td>384.0</td>\n",
       "      <td>0.0</td>\n",
       "      <td>1.0</td>\n",
       "      <td>45.333333</td>\n",
       "      <td>2.0</td>\n",
       "      <td>1.0</td>\n",
       "      <td>5.0</td>\n",
       "      <td>64.0</td>\n",
       "      <td>8.0</td>\n",
       "    </tr>\n",
       "    <tr>\n",
       "      <th>0.0010</th>\n",
       "      <td>0.678037</td>\n",
       "      <td>0.656665</td>\n",
       "      <td>0.655353</td>\n",
       "      <td>0.663559</td>\n",
       "      <td>0.757964</td>\n",
       "      <td>0.746253</td>\n",
       "      <td>0.744930</td>\n",
       "      <td>0.749985</td>\n",
       "      <td>11.0</td>\n",
       "      <td>3.0</td>\n",
       "      <td>...</td>\n",
       "      <td>0.0</td>\n",
       "      <td>384.0</td>\n",
       "      <td>0.0</td>\n",
       "      <td>1.0</td>\n",
       "      <td>45.333333</td>\n",
       "      <td>2.0</td>\n",
       "      <td>1.0</td>\n",
       "      <td>5.0</td>\n",
       "      <td>64.0</td>\n",
       "      <td>6.0</td>\n",
       "    </tr>\n",
       "    <tr>\n",
       "      <th rowspan=\"3\" valign=\"top\">0.2</th>\n",
       "      <th>0.0001</th>\n",
       "      <td>0.675116</td>\n",
       "      <td>0.657601</td>\n",
       "      <td>0.656019</td>\n",
       "      <td>0.667506</td>\n",
       "      <td>0.766096</td>\n",
       "      <td>0.757918</td>\n",
       "      <td>0.755101</td>\n",
       "      <td>0.765767</td>\n",
       "      <td>11.0</td>\n",
       "      <td>3.0</td>\n",
       "      <td>...</td>\n",
       "      <td>0.0</td>\n",
       "      <td>384.0</td>\n",
       "      <td>0.0</td>\n",
       "      <td>1.0</td>\n",
       "      <td>45.333333</td>\n",
       "      <td>2.0</td>\n",
       "      <td>1.0</td>\n",
       "      <td>5.0</td>\n",
       "      <td>64.0</td>\n",
       "      <td>10.0</td>\n",
       "    </tr>\n",
       "    <tr>\n",
       "      <th>0.0005</th>\n",
       "      <td>0.685617</td>\n",
       "      <td>0.666018</td>\n",
       "      <td>0.664257</td>\n",
       "      <td>0.674063</td>\n",
       "      <td>0.752213</td>\n",
       "      <td>0.741271</td>\n",
       "      <td>0.739389</td>\n",
       "      <td>0.745881</td>\n",
       "      <td>11.0</td>\n",
       "      <td>3.0</td>\n",
       "      <td>...</td>\n",
       "      <td>0.0</td>\n",
       "      <td>384.0</td>\n",
       "      <td>0.0</td>\n",
       "      <td>1.0</td>\n",
       "      <td>45.333333</td>\n",
       "      <td>2.0</td>\n",
       "      <td>1.0</td>\n",
       "      <td>5.0</td>\n",
       "      <td>64.0</td>\n",
       "      <td>11.0</td>\n",
       "    </tr>\n",
       "    <tr>\n",
       "      <th>0.0010</th>\n",
       "      <td>0.683815</td>\n",
       "      <td>0.660654</td>\n",
       "      <td>0.659028</td>\n",
       "      <td>0.665665</td>\n",
       "      <td>0.749427</td>\n",
       "      <td>0.735668</td>\n",
       "      <td>0.734964</td>\n",
       "      <td>0.737248</td>\n",
       "      <td>11.0</td>\n",
       "      <td>3.0</td>\n",
       "      <td>...</td>\n",
       "      <td>0.0</td>\n",
       "      <td>384.0</td>\n",
       "      <td>0.0</td>\n",
       "      <td>1.0</td>\n",
       "      <td>45.333333</td>\n",
       "      <td>2.0</td>\n",
       "      <td>1.0</td>\n",
       "      <td>5.0</td>\n",
       "      <td>64.0</td>\n",
       "      <td>9.0</td>\n",
       "    </tr>\n",
       "  </tbody>\n",
       "</table>\n",
       "<p>24 rows × 24 columns</p>\n",
       "</div>"
      ],
      "text/plain": [
       "                                                                                                     accuracy  \\\n",
       "dimensions output_channels sig_depth num_heads num_layers ffn_hidden_dim dropout_rate learning_rate             \n",
       "15         8               4         6         1          (256, 256)     0.1          0.0001         0.684809   \n",
       "                                                                                      0.0005         0.690214   \n",
       "                                                                                      0.0010         0.674309   \n",
       "                                                                         0.2          0.0001         0.681454   \n",
       "                                                                                      0.0005         0.695061   \n",
       "                                                                                      0.0010         0.701522   \n",
       "                                                          (512, 512)     0.1          0.0001         0.683504   \n",
       "                                                                                      0.0005         0.688164   \n",
       "                                                                                      0.0010         0.689034   \n",
       "                                                                         0.2          0.0001         0.684560   \n",
       "                                                                                      0.0005         0.691643   \n",
       "                                                                                      0.0010         0.691022   \n",
       "           12              3         10        1          (256, 256)     0.1          0.0001         0.669897   \n",
       "                                                                                      0.0005         0.682510   \n",
       "                                                                                      0.0010         0.685865   \n",
       "                                                                         0.2          0.0001         0.671761   \n",
       "                                                                                      0.0005         0.687543   \n",
       "                                                                                      0.0010         0.693942   \n",
       "                                                          (512, 512)     0.1          0.0001         0.677664   \n",
       "                                                                                      0.0005         0.680646   \n",
       "                                                                                      0.0010         0.678037   \n",
       "                                                                         0.2          0.0001         0.675116   \n",
       "                                                                                      0.0005         0.685617   \n",
       "                                                                                      0.0010         0.683815   \n",
       "\n",
       "                                                                                                           f1  \\\n",
       "dimensions output_channels sig_depth num_heads num_layers ffn_hidden_dim dropout_rate learning_rate             \n",
       "15         8               4         6         1          (256, 256)     0.1          0.0001         0.662651   \n",
       "                                                                                      0.0005         0.663641   \n",
       "                                                                                      0.0010         0.636675   \n",
       "                                                                         0.2          0.0001         0.662406   \n",
       "                                                                                      0.0005         0.671529   \n",
       "                                                                                      0.0010         0.670616   \n",
       "                                                          (512, 512)     0.1          0.0001         0.667214   \n",
       "                                                                                      0.0005         0.666976   \n",
       "                                                                                      0.0010         0.661309   \n",
       "                                                                         0.2          0.0001         0.663264   \n",
       "                                                                                      0.0005         0.668377   \n",
       "                                                                                      0.0010         0.657735   \n",
       "           12              3         10        1          (256, 256)     0.1          0.0001         0.651894   \n",
       "                                                                                      0.0005         0.664157   \n",
       "                                                                                      0.0010         0.665128   \n",
       "                                                                         0.2          0.0001         0.656050   \n",
       "                                                                                      0.0005         0.664984   \n",
       "                                                                                      0.0010         0.669654   \n",
       "                                                          (512, 512)     0.1          0.0001         0.660090   \n",
       "                                                                                      0.0005         0.664660   \n",
       "                                                                                      0.0010         0.656665   \n",
       "                                                                         0.2          0.0001         0.657601   \n",
       "                                                                                      0.0005         0.666018   \n",
       "                                                                                      0.0010         0.660654   \n",
       "\n",
       "                                                                                                     precision  \\\n",
       "dimensions output_channels sig_depth num_heads num_layers ffn_hidden_dim dropout_rate learning_rate              \n",
       "15         8               4         6         1          (256, 256)     0.1          0.0001          0.661275   \n",
       "                                                                                      0.0005          0.662532   \n",
       "                                                                                      0.0010          0.645067   \n",
       "                                                                         0.2          0.0001          0.660644   \n",
       "                                                                                      0.0005          0.669142   \n",
       "                                                                                      0.0010          0.673246   \n",
       "                                                          (512, 512)     0.1          0.0001          0.665631   \n",
       "                                                                                      0.0005          0.665616   \n",
       "                                                                                      0.0010          0.663375   \n",
       "                                                                         0.2          0.0001          0.661497   \n",
       "                                                                                      0.0005          0.668051   \n",
       "                                                                                      0.0010          0.659553   \n",
       "           12              3         10        1          (256, 256)     0.1          0.0001          0.651326   \n",
       "                                                                                      0.0005          0.662515   \n",
       "                                                                                      0.0010          0.663750   \n",
       "                                                                         0.2          0.0001          0.655828   \n",
       "                                                                                      0.0005          0.662925   \n",
       "                                                                                      0.0010          0.668765   \n",
       "                                                          (512, 512)     0.1          0.0001          0.658317   \n",
       "                                                                                      0.0005          0.663368   \n",
       "                                                                                      0.0010          0.655353   \n",
       "                                                                         0.2          0.0001          0.656019   \n",
       "                                                                                      0.0005          0.664257   \n",
       "                                                                                      0.0010          0.659028   \n",
       "\n",
       "                                                                                                       recall  \\\n",
       "dimensions output_channels sig_depth num_heads num_layers ffn_hidden_dim dropout_rate learning_rate             \n",
       "15         8               4         6         1          (256, 256)     0.1          0.0001         0.668808   \n",
       "                                                                                      0.0005         0.666075   \n",
       "                                                                                      0.0010         0.642606   \n",
       "                                                                         0.2          0.0001         0.670821   \n",
       "                                                                                      0.0005         0.675626   \n",
       "                                                                                      0.0010         0.671368   \n",
       "                                                          (512, 512)     0.1          0.0001         0.678303   \n",
       "                                                                                      0.0005         0.674177   \n",
       "                                                                                      0.0010         0.664347   \n",
       "                                                                         0.2          0.0001         0.669847   \n",
       "                                                                                      0.0005         0.674228   \n",
       "                                                                                      0.0010         0.656813   \n",
       "           12              3         10        1          (256, 256)     0.1          0.0001         0.662220   \n",
       "                                                                                      0.0005         0.673397   \n",
       "                                                                                      0.0010         0.672450   \n",
       "                                                                         0.2          0.0001         0.668411   \n",
       "                                                                                      0.0005         0.670254   \n",
       "                                                                                      0.0010         0.674315   \n",
       "                                                          (512, 512)     0.1          0.0001         0.669875   \n",
       "                                                                                      0.0005         0.676146   \n",
       "                                                                                      0.0010         0.663559   \n",
       "                                                                         0.2          0.0001         0.667506   \n",
       "                                                                                      0.0005         0.674063   \n",
       "                                                                                      0.0010         0.665665   \n",
       "\n",
       "                                                                                                     valid_accuracy  \\\n",
       "dimensions output_channels sig_depth num_heads num_layers ffn_hidden_dim dropout_rate learning_rate                   \n",
       "15         8               4         6         1          (256, 256)     0.1          0.0001               0.745204   \n",
       "                                                                                      0.0005               0.754100   \n",
       "                                                                                      0.0010               0.718740   \n",
       "                                                                         0.2          0.0001               0.746147   \n",
       "                                                                                      0.0005               0.748933   \n",
       "                                                                                      0.0010               0.733522   \n",
       "                                                          (512, 512)     0.1          0.0001               0.749247   \n",
       "                                                                                      0.0005               0.738015   \n",
       "                                                                                      0.0010               0.717707   \n",
       "                                                                         0.2          0.0001               0.752437   \n",
       "                                                                                      0.0005               0.742328   \n",
       "                                                                                      0.0010               0.707822   \n",
       "           12              3         10        1          (256, 256)     0.1          0.0001               0.763715   \n",
       "                                                                                      0.0005               0.763086   \n",
       "                                                                                      0.0010               0.764164   \n",
       "                                                                         0.2          0.0001               0.756975   \n",
       "                                                                                      0.0005               0.763131   \n",
       "                                                                                      0.0010               0.751629   \n",
       "                                                          (512, 512)     0.1          0.0001               0.766006   \n",
       "                                                                                      0.0005               0.750326   \n",
       "                                                                                      0.0010               0.757964   \n",
       "                                                                         0.2          0.0001               0.766096   \n",
       "                                                                                      0.0005               0.752213   \n",
       "                                                                                      0.0010               0.749427   \n",
       "\n",
       "                                                                                                     valid_f1  \\\n",
       "dimensions output_channels sig_depth num_heads num_layers ffn_hidden_dim dropout_rate learning_rate             \n",
       "15         8               4         6         1          (256, 256)     0.1          0.0001         0.733734   \n",
       "                                                                                      0.0005         0.737094   \n",
       "                                                                                      0.0010         0.699016   \n",
       "                                                                         0.2          0.0001         0.735865   \n",
       "                                                                                      0.0005         0.733442   \n",
       "                                                                                      0.0010         0.714116   \n",
       "                                                          (512, 512)     0.1          0.0001         0.740032   \n",
       "                                                                                      0.0005         0.725474   \n",
       "                                                                                      0.0010         0.700953   \n",
       "                                                                         0.2          0.0001         0.740771   \n",
       "                                                                                      0.0005         0.728118   \n",
       "                                                                                      0.0010         0.682044   \n",
       "           12              3         10        1          (256, 256)     0.1          0.0001         0.755817   \n",
       "                                                                                      0.0005         0.753122   \n",
       "                                                                                      0.0010         0.752489   \n",
       "                                                                         0.2          0.0001         0.750242   \n",
       "                                                                                      0.0005         0.749536   \n",
       "                                                                                      0.0010         0.736732   \n",
       "                                                          (512, 512)     0.1          0.0001         0.757369   \n",
       "                                                                                      0.0005         0.741620   \n",
       "                                                                                      0.0010         0.746253   \n",
       "                                                                         0.2          0.0001         0.757918   \n",
       "                                                                                      0.0005         0.741271   \n",
       "                                                                                      0.0010         0.735668   \n",
       "\n",
       "                                                                                                     valid_precision  \\\n",
       "dimensions output_channels sig_depth num_heads num_layers ffn_hidden_dim dropout_rate learning_rate                    \n",
       "15         8               4         6         1          (256, 256)     0.1          0.0001                0.732650   \n",
       "                                                                                      0.0005                0.740051   \n",
       "                                                                                      0.0010                0.705609   \n",
       "                                                                         0.2          0.0001                0.733492   \n",
       "                                                                                      0.0005                0.733910   \n",
       "                                                                                      0.0010                0.718430   \n",
       "                                                          (512, 512)     0.1          0.0001                0.737661   \n",
       "                                                                                      0.0005                0.724618   \n",
       "                                                                                      0.0010                0.702669   \n",
       "                                                                         0.2          0.0001                0.738974   \n",
       "                                                                                      0.0005                0.728381   \n",
       "                                                                                      0.0010                0.689311   \n",
       "           12              3         10        1          (256, 256)     0.1          0.0001                0.754068   \n",
       "                                                                                      0.0005                0.751199   \n",
       "                                                                                      0.0010                0.751199   \n",
       "                                                                         0.2          0.0001                0.749008   \n",
       "                                                                                      0.0005                0.749233   \n",
       "                                                                                      0.0010                0.738232   \n",
       "                                                          (512, 512)     0.1          0.0001                0.754427   \n",
       "                                                                                      0.0005                0.739183   \n",
       "                                                                                      0.0010                0.744930   \n",
       "                                                                         0.2          0.0001                0.755101   \n",
       "                                                                                      0.0005                0.739389   \n",
       "                                                                                      0.0010                0.734964   \n",
       "\n",
       "                                                                                                     valid_recall  \\\n",
       "dimensions output_channels sig_depth num_heads num_layers ffn_hidden_dim dropout_rate learning_rate                 \n",
       "15         8               4         6         1          (256, 256)     0.1          0.0001             0.738294   \n",
       "                                                                                      0.0005             0.735615   \n",
       "                                                                                      0.0010             0.700436   \n",
       "                                                                         0.2          0.0001             0.741161   \n",
       "                                                                                      0.0005             0.733024   \n",
       "                                                                                      0.0010             0.713172   \n",
       "                                                          (512, 512)     0.1          0.0001             0.746721   \n",
       "                                                                                      0.0005             0.728661   \n",
       "                                                                                      0.0010             0.701955   \n",
       "                                                                         0.2          0.0001             0.744410   \n",
       "                                                                                      0.0005             0.730245   \n",
       "                                                                                      0.0010             0.678692   \n",
       "           12              3         10        1          (256, 256)     0.1          0.0001             0.764521   \n",
       "                                                                                      0.0005             0.758423   \n",
       "                                                                                      0.0010             0.755741   \n",
       "                                                                         0.2          0.0001             0.761271   \n",
       "                                                                                      0.0005             0.750787   \n",
       "                                                                                      0.0010             0.737873   \n",
       "                                                          (512, 512)     0.1          0.0001             0.764313   \n",
       "                                                                                      0.0005             0.749086   \n",
       "                                                                                      0.0010             0.749985   \n",
       "                                                                         0.2          0.0001             0.765767   \n",
       "                                                                                      0.0005             0.745881   \n",
       "                                                                                      0.0010             0.737248   \n",
       "\n",
       "                                                                                                        k  \\\n",
       "dimensions output_channels sig_depth num_heads num_layers ffn_hidden_dim dropout_rate learning_rate         \n",
       "15         8               4         6         1          (256, 256)     0.1          0.0001         11.0   \n",
       "                                                                                      0.0005         11.0   \n",
       "                                                                                      0.0010         11.0   \n",
       "                                                                         0.2          0.0001         11.0   \n",
       "                                                                                      0.0005         11.0   \n",
       "                                                                                      0.0010         11.0   \n",
       "                                                          (512, 512)     0.1          0.0001         11.0   \n",
       "                                                                                      0.0005         11.0   \n",
       "                                                                                      0.0010         11.0   \n",
       "                                                                         0.2          0.0001         11.0   \n",
       "                                                                                      0.0005         11.0   \n",
       "                                                                                      0.0010         11.0   \n",
       "           12              3         10        1          (256, 256)     0.1          0.0001         11.0   \n",
       "                                                                                      0.0005         11.0   \n",
       "                                                                                      0.0010         11.0   \n",
       "                                                                         0.2          0.0001         11.0   \n",
       "                                                                                      0.0005         11.0   \n",
       "                                                                                      0.0010         11.0   \n",
       "                                                          (512, 512)     0.1          0.0001         11.0   \n",
       "                                                                                      0.0005         11.0   \n",
       "                                                                                      0.0010         11.0   \n",
       "                                                                         0.2          0.0001         11.0   \n",
       "                                                                                      0.0005         11.0   \n",
       "                                                                                      0.0010         11.0   \n",
       "\n",
       "                                                                                                     shift  \\\n",
       "dimensions output_channels sig_depth num_heads num_layers ffn_hidden_dim dropout_rate learning_rate          \n",
       "15         8               4         6         1          (256, 256)     0.1          0.0001           3.0   \n",
       "                                                                                      0.0005           3.0   \n",
       "                                                                                      0.0010           3.0   \n",
       "                                                                         0.2          0.0001           3.0   \n",
       "                                                                                      0.0005           3.0   \n",
       "                                                                                      0.0010           3.0   \n",
       "                                                          (512, 512)     0.1          0.0001           3.0   \n",
       "                                                                                      0.0005           3.0   \n",
       "                                                                                      0.0010           3.0   \n",
       "                                                                         0.2          0.0001           3.0   \n",
       "                                                                                      0.0005           3.0   \n",
       "                                                                                      0.0010           3.0   \n",
       "           12              3         10        1          (256, 256)     0.1          0.0001           3.0   \n",
       "                                                                                      0.0005           3.0   \n",
       "                                                                                      0.0010           3.0   \n",
       "                                                                         0.2          0.0001           3.0   \n",
       "                                                                                      0.0005           3.0   \n",
       "                                                                                      0.0010           3.0   \n",
       "                                                          (512, 512)     0.1          0.0001           3.0   \n",
       "                                                                                      0.0005           3.0   \n",
       "                                                                                      0.0010           3.0   \n",
       "                                                                         0.2          0.0001           3.0   \n",
       "                                                                                      0.0005           3.0   \n",
       "                                                                                      0.0010           3.0   \n",
       "\n",
       "                                                                                                     ...  \\\n",
       "dimensions output_channels sig_depth num_heads num_layers ffn_hidden_dim dropout_rate learning_rate  ...   \n",
       "15         8               4         6         1          (256, 256)     0.1          0.0001         ...   \n",
       "                                                                                      0.0005         ...   \n",
       "                                                                                      0.0010         ...   \n",
       "                                                                         0.2          0.0001         ...   \n",
       "                                                                                      0.0005         ...   \n",
       "                                                                                      0.0010         ...   \n",
       "                                                          (512, 512)     0.1          0.0001         ...   \n",
       "                                                                                      0.0005         ...   \n",
       "                                                                                      0.0010         ...   \n",
       "                                                                         0.2          0.0001         ...   \n",
       "                                                                                      0.0005         ...   \n",
       "                                                                                      0.0010         ...   \n",
       "           12              3         10        1          (256, 256)     0.1          0.0001         ...   \n",
       "                                                                                      0.0005         ...   \n",
       "                                                                                      0.0010         ...   \n",
       "                                                                         0.2          0.0001         ...   \n",
       "                                                                                      0.0005         ...   \n",
       "                                                                                      0.0010         ...   \n",
       "                                                          (512, 512)     0.1          0.0001         ...   \n",
       "                                                                                      0.0005         ...   \n",
       "                                                                                      0.0010         ...   \n",
       "                                                                         0.2          0.0001         ...   \n",
       "                                                                                      0.0005         ...   \n",
       "                                                                                      0.0010         ...   \n",
       "\n",
       "                                                                                                     include_features_in_input  \\\n",
       "dimensions output_channels sig_depth num_heads num_layers ffn_hidden_dim dropout_rate learning_rate                              \n",
       "15         8               4         6         1          (256, 256)     0.1          0.0001                               0.0   \n",
       "                                                                                      0.0005                               0.0   \n",
       "                                                                                      0.0010                               0.0   \n",
       "                                                                         0.2          0.0001                               0.0   \n",
       "                                                                                      0.0005                               0.0   \n",
       "                                                                                      0.0010                               0.0   \n",
       "                                                          (512, 512)     0.1          0.0001                               0.0   \n",
       "                                                                                      0.0005                               0.0   \n",
       "                                                                                      0.0010                               0.0   \n",
       "                                                                         0.2          0.0001                               0.0   \n",
       "                                                                                      0.0005                               0.0   \n",
       "                                                                                      0.0010                               0.0   \n",
       "           12              3         10        1          (256, 256)     0.1          0.0001                               0.0   \n",
       "                                                                                      0.0005                               0.0   \n",
       "                                                                                      0.0010                               0.0   \n",
       "                                                                         0.2          0.0001                               0.0   \n",
       "                                                                                      0.0005                               0.0   \n",
       "                                                                                      0.0010                               0.0   \n",
       "                                                          (512, 512)     0.1          0.0001                               0.0   \n",
       "                                                                                      0.0005                               0.0   \n",
       "                                                                                      0.0010                               0.0   \n",
       "                                                                         0.2          0.0001                               0.0   \n",
       "                                                                                      0.0005                               0.0   \n",
       "                                                                                      0.0010                               0.0   \n",
       "\n",
       "                                                                                                     embedding_dim  \\\n",
       "dimensions output_channels sig_depth num_heads num_layers ffn_hidden_dim dropout_rate learning_rate                  \n",
       "15         8               4         6         1          (256, 256)     0.1          0.0001                 384.0   \n",
       "                                                                                      0.0005                 384.0   \n",
       "                                                                                      0.0010                 384.0   \n",
       "                                                                         0.2          0.0001                 384.0   \n",
       "                                                                                      0.0005                 384.0   \n",
       "                                                                                      0.0010                 384.0   \n",
       "                                                          (512, 512)     0.1          0.0001                 384.0   \n",
       "                                                                                      0.0005                 384.0   \n",
       "                                                                                      0.0010                 384.0   \n",
       "                                                                         0.2          0.0001                 384.0   \n",
       "                                                                                      0.0005                 384.0   \n",
       "                                                                                      0.0010                 384.0   \n",
       "           12              3         10        1          (256, 256)     0.1          0.0001                 384.0   \n",
       "                                                                                      0.0005                 384.0   \n",
       "                                                                                      0.0010                 384.0   \n",
       "                                                                         0.2          0.0001                 384.0   \n",
       "                                                                                      0.0005                 384.0   \n",
       "                                                                                      0.0010                 384.0   \n",
       "                                                          (512, 512)     0.1          0.0001                 384.0   \n",
       "                                                                                      0.0005                 384.0   \n",
       "                                                                                      0.0010                 384.0   \n",
       "                                                                         0.2          0.0001                 384.0   \n",
       "                                                                                      0.0005                 384.0   \n",
       "                                                                                      0.0010                 384.0   \n",
       "\n",
       "                                                                                                     num_features  \\\n",
       "dimensions output_channels sig_depth num_heads num_layers ffn_hidden_dim dropout_rate learning_rate                 \n",
       "15         8               4         6         1          (256, 256)     0.1          0.0001                  0.0   \n",
       "                                                                                      0.0005                  0.0   \n",
       "                                                                                      0.0010                  0.0   \n",
       "                                                                         0.2          0.0001                  0.0   \n",
       "                                                                                      0.0005                  0.0   \n",
       "                                                                                      0.0010                  0.0   \n",
       "                                                          (512, 512)     0.1          0.0001                  0.0   \n",
       "                                                                                      0.0005                  0.0   \n",
       "                                                                                      0.0010                  0.0   \n",
       "                                                                         0.2          0.0001                  0.0   \n",
       "                                                                                      0.0005                  0.0   \n",
       "                                                                                      0.0010                  0.0   \n",
       "           12              3         10        1          (256, 256)     0.1          0.0001                  0.0   \n",
       "                                                                                      0.0005                  0.0   \n",
       "                                                                                      0.0010                  0.0   \n",
       "                                                                         0.2          0.0001                  0.0   \n",
       "                                                                                      0.0005                  0.0   \n",
       "                                                                                      0.0010                  0.0   \n",
       "                                                          (512, 512)     0.1          0.0001                  0.0   \n",
       "                                                                                      0.0005                  0.0   \n",
       "                                                                                      0.0010                  0.0   \n",
       "                                                                         0.2          0.0001                  0.0   \n",
       "                                                                                      0.0005                  0.0   \n",
       "                                                                                      0.0010                  0.0   \n",
       "\n",
       "                                                                                                     log_signature  \\\n",
       "dimensions output_channels sig_depth num_heads num_layers ffn_hidden_dim dropout_rate learning_rate                  \n",
       "15         8               4         6         1          (256, 256)     0.1          0.0001                   1.0   \n",
       "                                                                                      0.0005                   1.0   \n",
       "                                                                                      0.0010                   1.0   \n",
       "                                                                         0.2          0.0001                   1.0   \n",
       "                                                                                      0.0005                   1.0   \n",
       "                                                                                      0.0010                   1.0   \n",
       "                                                          (512, 512)     0.1          0.0001                   1.0   \n",
       "                                                                                      0.0005                   1.0   \n",
       "                                                                                      0.0010                   1.0   \n",
       "                                                                         0.2          0.0001                   1.0   \n",
       "                                                                                      0.0005                   1.0   \n",
       "                                                                                      0.0010                   1.0   \n",
       "           12              3         10        1          (256, 256)     0.1          0.0001                   1.0   \n",
       "                                                                                      0.0005                   1.0   \n",
       "                                                                                      0.0010                   1.0   \n",
       "                                                                         0.2          0.0001                   1.0   \n",
       "                                                                                      0.0005                   1.0   \n",
       "                                                                                      0.0010                   1.0   \n",
       "                                                          (512, 512)     0.1          0.0001                   1.0   \n",
       "                                                                                      0.0005                   1.0   \n",
       "                                                                                      0.0010                   1.0   \n",
       "                                                                         0.2          0.0001                   1.0   \n",
       "                                                                                      0.0005                   1.0   \n",
       "                                                                                      0.0010                   1.0   \n",
       "\n",
       "                                                                                                          seed  \\\n",
       "dimensions output_channels sig_depth num_heads num_layers ffn_hidden_dim dropout_rate learning_rate              \n",
       "15         8               4         6         1          (256, 256)     0.1          0.0001         45.333333   \n",
       "                                                                                      0.0005         45.333333   \n",
       "                                                                                      0.0010         45.333333   \n",
       "                                                                         0.2          0.0001         45.333333   \n",
       "                                                                                      0.0005         45.333333   \n",
       "                                                                                      0.0010         45.333333   \n",
       "                                                          (512, 512)     0.1          0.0001         45.333333   \n",
       "                                                                                      0.0005         45.333333   \n",
       "                                                                                      0.0010         45.333333   \n",
       "                                                                         0.2          0.0001         45.333333   \n",
       "                                                                                      0.0005         45.333333   \n",
       "                                                                                      0.0010         45.333333   \n",
       "           12              3         10        1          (256, 256)     0.1          0.0001         45.333333   \n",
       "                                                                                      0.0005         45.333333   \n",
       "                                                                                      0.0010         45.333333   \n",
       "                                                                         0.2          0.0001         45.333333   \n",
       "                                                                                      0.0005         45.333333   \n",
       "                                                                                      0.0010         45.333333   \n",
       "                                                          (512, 512)     0.1          0.0001         45.333333   \n",
       "                                                                                      0.0005         45.333333   \n",
       "                                                                                      0.0010         45.333333   \n",
       "                                                                         0.2          0.0001         45.333333   \n",
       "                                                                                      0.0005         45.333333   \n",
       "                                                                                      0.0010         45.333333   \n",
       "\n",
       "                                                                                                     gamma  \\\n",
       "dimensions output_channels sig_depth num_heads num_layers ffn_hidden_dim dropout_rate learning_rate          \n",
       "15         8               4         6         1          (256, 256)     0.1          0.0001           2.0   \n",
       "                                                                                      0.0005           2.0   \n",
       "                                                                                      0.0010           2.0   \n",
       "                                                                         0.2          0.0001           2.0   \n",
       "                                                                                      0.0005           2.0   \n",
       "                                                                                      0.0010           2.0   \n",
       "                                                          (512, 512)     0.1          0.0001           2.0   \n",
       "                                                                                      0.0005           2.0   \n",
       "                                                                                      0.0010           2.0   \n",
       "                                                                         0.2          0.0001           2.0   \n",
       "                                                                                      0.0005           2.0   \n",
       "                                                                                      0.0010           2.0   \n",
       "           12              3         10        1          (256, 256)     0.1          0.0001           2.0   \n",
       "                                                                                      0.0005           2.0   \n",
       "                                                                                      0.0010           2.0   \n",
       "                                                                         0.2          0.0001           2.0   \n",
       "                                                                                      0.0005           2.0   \n",
       "                                                                                      0.0010           2.0   \n",
       "                                                          (512, 512)     0.1          0.0001           2.0   \n",
       "                                                                                      0.0005           2.0   \n",
       "                                                                                      0.0010           2.0   \n",
       "                                                                         0.2          0.0001           2.0   \n",
       "                                                                                      0.0005           2.0   \n",
       "                                                                                      0.0010           2.0   \n",
       "\n",
       "                                                                                                     k_fold  \\\n",
       "dimensions output_channels sig_depth num_heads num_layers ffn_hidden_dim dropout_rate learning_rate           \n",
       "15         8               4         6         1          (256, 256)     0.1          0.0001            1.0   \n",
       "                                                                                      0.0005            1.0   \n",
       "                                                                                      0.0010            1.0   \n",
       "                                                                         0.2          0.0001            1.0   \n",
       "                                                                                      0.0005            1.0   \n",
       "                                                                                      0.0010            1.0   \n",
       "                                                          (512, 512)     0.1          0.0001            1.0   \n",
       "                                                                                      0.0005            1.0   \n",
       "                                                                                      0.0010            1.0   \n",
       "                                                                         0.2          0.0001            1.0   \n",
       "                                                                                      0.0005            1.0   \n",
       "                                                                                      0.0010            1.0   \n",
       "           12              3         10        1          (256, 256)     0.1          0.0001            1.0   \n",
       "                                                                                      0.0005            1.0   \n",
       "                                                                                      0.0010            1.0   \n",
       "                                                                         0.2          0.0001            1.0   \n",
       "                                                                                      0.0005            1.0   \n",
       "                                                                                      0.0010            1.0   \n",
       "                                                          (512, 512)     0.1          0.0001            1.0   \n",
       "                                                                                      0.0005            1.0   \n",
       "                                                                                      0.0010            1.0   \n",
       "                                                                         0.2          0.0001            1.0   \n",
       "                                                                                      0.0005            1.0   \n",
       "                                                                                      0.0010            1.0   \n",
       "\n",
       "                                                                                                     n_splits  \\\n",
       "dimensions output_channels sig_depth num_heads num_layers ffn_hidden_dim dropout_rate learning_rate             \n",
       "15         8               4         6         1          (256, 256)     0.1          0.0001              5.0   \n",
       "                                                                                      0.0005              5.0   \n",
       "                                                                                      0.0010              5.0   \n",
       "                                                                         0.2          0.0001              5.0   \n",
       "                                                                                      0.0005              5.0   \n",
       "                                                                                      0.0010              5.0   \n",
       "                                                          (512, 512)     0.1          0.0001              5.0   \n",
       "                                                                                      0.0005              5.0   \n",
       "                                                                                      0.0010              5.0   \n",
       "                                                                         0.2          0.0001              5.0   \n",
       "                                                                                      0.0005              5.0   \n",
       "                                                                                      0.0010              5.0   \n",
       "           12              3         10        1          (256, 256)     0.1          0.0001              5.0   \n",
       "                                                                                      0.0005              5.0   \n",
       "                                                                                      0.0010              5.0   \n",
       "                                                                         0.2          0.0001              5.0   \n",
       "                                                                                      0.0005              5.0   \n",
       "                                                                                      0.0010              5.0   \n",
       "                                                          (512, 512)     0.1          0.0001              5.0   \n",
       "                                                                                      0.0005              5.0   \n",
       "                                                                                      0.0010              5.0   \n",
       "                                                                         0.2          0.0001              5.0   \n",
       "                                                                                      0.0005              5.0   \n",
       "                                                                                      0.0010              5.0   \n",
       "\n",
       "                                                                                                     batch_size  \\\n",
       "dimensions output_channels sig_depth num_heads num_layers ffn_hidden_dim dropout_rate learning_rate               \n",
       "15         8               4         6         1          (256, 256)     0.1          0.0001               64.0   \n",
       "                                                                                      0.0005               64.0   \n",
       "                                                                                      0.0010               64.0   \n",
       "                                                                         0.2          0.0001               64.0   \n",
       "                                                                                      0.0005               64.0   \n",
       "                                                                                      0.0010               64.0   \n",
       "                                                          (512, 512)     0.1          0.0001               64.0   \n",
       "                                                                                      0.0005               64.0   \n",
       "                                                                                      0.0010               64.0   \n",
       "                                                                         0.2          0.0001               64.0   \n",
       "                                                                                      0.0005               64.0   \n",
       "                                                                                      0.0010               64.0   \n",
       "           12              3         10        1          (256, 256)     0.1          0.0001               64.0   \n",
       "                                                                                      0.0005               64.0   \n",
       "                                                                                      0.0010               64.0   \n",
       "                                                                         0.2          0.0001               64.0   \n",
       "                                                                                      0.0005               64.0   \n",
       "                                                                                      0.0010               64.0   \n",
       "                                                          (512, 512)     0.1          0.0001               64.0   \n",
       "                                                                                      0.0005               64.0   \n",
       "                                                                                      0.0010               64.0   \n",
       "                                                                         0.2          0.0001               64.0   \n",
       "                                                                                      0.0005               64.0   \n",
       "                                                                                      0.0010               64.0   \n",
       "\n",
       "                                                                                                     model_id  \n",
       "dimensions output_channels sig_depth num_heads num_layers ffn_hidden_dim dropout_rate learning_rate            \n",
       "15         8               4         6         1          (256, 256)     0.1          0.0001             13.0  \n",
       "                                                                                      0.0005             14.0  \n",
       "                                                                                      0.0010             12.0  \n",
       "                                                                         0.2          0.0001             16.0  \n",
       "                                                                                      0.0005             17.0  \n",
       "                                                                                      0.0010             15.0  \n",
       "                                                          (512, 512)     0.1          0.0001             19.0  \n",
       "                                                                                      0.0005             20.0  \n",
       "                                                                                      0.0010             18.0  \n",
       "                                                                         0.2          0.0001             22.0  \n",
       "                                                                                      0.0005             23.0  \n",
       "                                                                                      0.0010             21.0  \n",
       "           12              3         10        1          (256, 256)     0.1          0.0001              1.0  \n",
       "                                                                                      0.0005              2.0  \n",
       "                                                                                      0.0010              0.0  \n",
       "                                                                         0.2          0.0001              4.0  \n",
       "                                                                                      0.0005              5.0  \n",
       "                                                                                      0.0010              3.0  \n",
       "                                                          (512, 512)     0.1          0.0001              7.0  \n",
       "                                                                                      0.0005              8.0  \n",
       "                                                                                      0.0010              6.0  \n",
       "                                                                         0.2          0.0001             10.0  \n",
       "                                                                                      0.0005             11.0  \n",
       "                                                                                      0.0010              9.0  \n",
       "\n",
       "[24 rows x 24 columns]"
      ]
     },
     "execution_count": 23,
     "metadata": {},
     "output_type": "execute_result"
    }
   ],
   "source": [
    "seqsignet_attention_mha_grp_11.groupby(\n",
    "    [\n",
    "        \"dimensions\",\n",
    "        \"output_channels\",\n",
    "        \"sig_depth\",\n",
    "        \"num_heads\",\n",
    "        \"num_layers\",\n",
    "        \"ffn_hidden_dim\",\n",
    "        \"dropout_rate\",\n",
    "        \"learning_rate\",\n",
    "    ]\n",
    ").mean()"
   ]
  },
  {
   "cell_type": "code",
   "execution_count": 24,
   "id": "603dee18",
   "metadata": {},
   "outputs": [
    {
     "data": {
      "text/html": [
       "<div>\n",
       "<style scoped>\n",
       "    .dataframe tbody tr th:only-of-type {\n",
       "        vertical-align: middle;\n",
       "    }\n",
       "\n",
       "    .dataframe tbody tr th {\n",
       "        vertical-align: top;\n",
       "    }\n",
       "\n",
       "    .dataframe thead th {\n",
       "        text-align: right;\n",
       "    }\n",
       "</style>\n",
       "<table border=\"1\" class=\"dataframe\">\n",
       "  <thead>\n",
       "    <tr style=\"text-align: right;\">\n",
       "      <th></th>\n",
       "      <th>loss</th>\n",
       "      <th>accuracy</th>\n",
       "      <th>f1</th>\n",
       "      <th>f1_scores</th>\n",
       "      <th>precision</th>\n",
       "      <th>precision_scores</th>\n",
       "      <th>recall</th>\n",
       "      <th>recall_scores</th>\n",
       "      <th>valid_loss</th>\n",
       "      <th>valid_accuracy</th>\n",
       "      <th>...</th>\n",
       "      <th>learning_rate</th>\n",
       "      <th>seed</th>\n",
       "      <th>loss_function</th>\n",
       "      <th>gamma</th>\n",
       "      <th>k_fold</th>\n",
       "      <th>n_splits</th>\n",
       "      <th>augmentation_type</th>\n",
       "      <th>hidden_dim_aug</th>\n",
       "      <th>comb_method</th>\n",
       "      <th>batch_size</th>\n",
       "    </tr>\n",
       "  </thead>\n",
       "  <tbody>\n",
       "    <tr>\n",
       "      <th>0</th>\n",
       "      <td>None</td>\n",
       "      <td>0.674930</td>\n",
       "      <td>0.659360</td>\n",
       "      <td>[0.7321867321867321, 0.586533902323376]</td>\n",
       "      <td>0.658383</td>\n",
       "      <td>[0.7883597883597884, 0.5284066638188808]</td>\n",
       "      <td>0.671258</td>\n",
       "      <td>[0.6834862385321101, 0.6590303676078849]</td>\n",
       "      <td>None</td>\n",
       "      <td>0.767893</td>\n",
       "      <td>...</td>\n",
       "      <td>0.0001</td>\n",
       "      <td>1</td>\n",
       "      <td>focal</td>\n",
       "      <td>2</td>\n",
       "      <td>True</td>\n",
       "      <td>5</td>\n",
       "      <td>Conv1d</td>\n",
       "      <td>None</td>\n",
       "      <td>concatenation</td>\n",
       "      <td>64</td>\n",
       "    </tr>\n",
       "    <tr>\n",
       "      <th>0</th>\n",
       "      <td>None</td>\n",
       "      <td>0.681640</td>\n",
       "      <td>0.662647</td>\n",
       "      <td>[0.7426935824043387, 0.5826001955034213]</td>\n",
       "      <td>0.660344</td>\n",
       "      <td>[0.7825396825396825, 0.5381489841986457]</td>\n",
       "      <td>0.670882</td>\n",
       "      <td>[0.7067087155963303, 0.6350559403303143]</td>\n",
       "      <td>None</td>\n",
       "      <td>0.773150</td>\n",
       "      <td>...</td>\n",
       "      <td>0.0001</td>\n",
       "      <td>12</td>\n",
       "      <td>focal</td>\n",
       "      <td>2</td>\n",
       "      <td>True</td>\n",
       "      <td>5</td>\n",
       "      <td>Conv1d</td>\n",
       "      <td>None</td>\n",
       "      <td>concatenation</td>\n",
       "      <td>64</td>\n",
       "    </tr>\n",
       "    <tr>\n",
       "      <th>0</th>\n",
       "      <td>None</td>\n",
       "      <td>0.673439</td>\n",
       "      <td>0.658363</td>\n",
       "      <td>[0.7301293900184842, 0.5865974516281266]</td>\n",
       "      <td>0.657710</td>\n",
       "      <td>[0.788948069241012, 0.5264718339686574]</td>\n",
       "      <td>0.670850</td>\n",
       "      <td>[0.6794724770642202, 0.662226957911561]</td>\n",
       "      <td>None</td>\n",
       "      <td>0.759806</td>\n",
       "      <td>...</td>\n",
       "      <td>0.0001</td>\n",
       "      <td>123</td>\n",
       "      <td>focal</td>\n",
       "      <td>2</td>\n",
       "      <td>True</td>\n",
       "      <td>5</td>\n",
       "      <td>Conv1d</td>\n",
       "      <td>None</td>\n",
       "      <td>concatenation</td>\n",
       "      <td>64</td>\n",
       "    </tr>\n",
       "  </tbody>\n",
       "</table>\n",
       "<p>3 rows × 46 columns</p>\n",
       "</div>"
      ],
      "text/plain": [
       "   loss  accuracy        f1                                 f1_scores  \\\n",
       "0  None  0.674930  0.659360   [0.7321867321867321, 0.586533902323376]   \n",
       "0  None  0.681640  0.662647  [0.7426935824043387, 0.5826001955034213]   \n",
       "0  None  0.673439  0.658363  [0.7301293900184842, 0.5865974516281266]   \n",
       "\n",
       "   precision                          precision_scores    recall  \\\n",
       "0   0.658383  [0.7883597883597884, 0.5284066638188808]  0.671258   \n",
       "0   0.660344  [0.7825396825396825, 0.5381489841986457]  0.670882   \n",
       "0   0.657710   [0.788948069241012, 0.5264718339686574]  0.670850   \n",
       "\n",
       "                              recall_scores valid_loss  valid_accuracy  ...  \\\n",
       "0  [0.6834862385321101, 0.6590303676078849]       None        0.767893  ...   \n",
       "0  [0.7067087155963303, 0.6350559403303143]       None        0.773150  ...   \n",
       "0   [0.6794724770642202, 0.662226957911561]       None        0.759806  ...   \n",
       "\n",
       "   learning_rate seed  loss_function gamma  k_fold n_splits  \\\n",
       "0         0.0001    1          focal     2    True        5   \n",
       "0         0.0001   12          focal     2    True        5   \n",
       "0         0.0001  123          focal     2    True        5   \n",
       "\n",
       "   augmentation_type  hidden_dim_aug    comb_method  batch_size  \n",
       "0             Conv1d            None  concatenation          64  \n",
       "0             Conv1d            None  concatenation          64  \n",
       "0             Conv1d            None  concatenation          64  \n",
       "\n",
       "[3 rows x 46 columns]"
      ]
     },
     "execution_count": 24,
     "metadata": {},
     "output_type": "execute_result"
    }
   ],
   "source": [
    "best_seqsignet_attention_mha_grp_11"
   ]
  },
  {
   "cell_type": "code",
   "execution_count": 26,
   "id": "e706aad7-e55f-4402-9df8-4e2cb0a0eb82",
   "metadata": {},
   "outputs": [
    {
     "data": {
      "text/html": [
       "<div>\n",
       "<style scoped>\n",
       "    .dataframe tbody tr th:only-of-type {\n",
       "        vertical-align: middle;\n",
       "    }\n",
       "\n",
       "    .dataframe tbody tr th {\n",
       "        vertical-align: top;\n",
       "    }\n",
       "\n",
       "    .dataframe thead th {\n",
       "        text-align: right;\n",
       "    }\n",
       "</style>\n",
       "<table border=\"1\" class=\"dataframe\">\n",
       "  <thead>\n",
       "    <tr style=\"text-align: right;\">\n",
       "      <th></th>\n",
       "      <th>dimensions</th>\n",
       "      <th>output_channels</th>\n",
       "      <th>sig_depth</th>\n",
       "      <th>num_heads</th>\n",
       "      <th>num_layers</th>\n",
       "      <th>ffn_hidden_dim</th>\n",
       "      <th>dropout_rate</th>\n",
       "      <th>learning_rate</th>\n",
       "    </tr>\n",
       "  </thead>\n",
       "  <tbody>\n",
       "    <tr>\n",
       "      <th>0</th>\n",
       "      <td>15</td>\n",
       "      <td>12</td>\n",
       "      <td>3</td>\n",
       "      <td>10</td>\n",
       "      <td>1</td>\n",
       "      <td>(512, 512)</td>\n",
       "      <td>0.2</td>\n",
       "      <td>0.0001</td>\n",
       "    </tr>\n",
       "    <tr>\n",
       "      <th>0</th>\n",
       "      <td>15</td>\n",
       "      <td>12</td>\n",
       "      <td>3</td>\n",
       "      <td>10</td>\n",
       "      <td>1</td>\n",
       "      <td>(512, 512)</td>\n",
       "      <td>0.2</td>\n",
       "      <td>0.0001</td>\n",
       "    </tr>\n",
       "    <tr>\n",
       "      <th>0</th>\n",
       "      <td>15</td>\n",
       "      <td>12</td>\n",
       "      <td>3</td>\n",
       "      <td>10</td>\n",
       "      <td>1</td>\n",
       "      <td>(512, 512)</td>\n",
       "      <td>0.2</td>\n",
       "      <td>0.0001</td>\n",
       "    </tr>\n",
       "  </tbody>\n",
       "</table>\n",
       "</div>"
      ],
      "text/plain": [
       "   dimensions  output_channels  sig_depth  num_heads  num_layers  \\\n",
       "0          15               12          3         10           1   \n",
       "0          15               12          3         10           1   \n",
       "0          15               12          3         10           1   \n",
       "\n",
       "  ffn_hidden_dim  dropout_rate  learning_rate  \n",
       "0     (512, 512)           0.2         0.0001  \n",
       "0     (512, 512)           0.2         0.0001  \n",
       "0     (512, 512)           0.2         0.0001  "
      ]
     },
     "execution_count": 26,
     "metadata": {},
     "output_type": "execute_result"
    }
   ],
   "source": [
    "best_seqsignet_attention_mha_grp_11[\n",
    "    [\n",
    "        \"dimensions\",\n",
    "        \"output_channels\",\n",
    "        \"sig_depth\",\n",
    "        \"num_heads\",\n",
    "        \"num_layers\",\n",
    "        \"ffn_hidden_dim\",\n",
    "        \"dropout_rate\",\n",
    "        \"learning_rate\",\n",
    "    ]\n",
    "]"
   ]
  },
  {
   "cell_type": "code",
   "execution_count": 27,
   "id": "e9d503c3",
   "metadata": {},
   "outputs": [
    {
     "data": {
      "text/plain": [
       "0.6601235423440798"
      ]
     },
     "execution_count": 27,
     "metadata": {},
     "output_type": "execute_result"
    }
   ],
   "source": [
    "best_seqsignet_attention_mha_grp_11[\"f1\"].mean()"
   ]
  },
  {
   "cell_type": "code",
   "execution_count": 28,
   "id": "f3079077",
   "metadata": {},
   "outputs": [
    {
     "data": {
      "text/plain": [
       "0.6588125036877778"
      ]
     },
     "execution_count": 28,
     "metadata": {},
     "output_type": "execute_result"
    }
   ],
   "source": [
    "best_seqsignet_attention_mha_grp_11[\"precision\"].mean()"
   ]
  },
  {
   "cell_type": "code",
   "execution_count": 29,
   "id": "eb2894ed",
   "metadata": {},
   "outputs": [
    {
     "data": {
      "text/plain": [
       "0.6709967828404034"
      ]
     },
     "execution_count": 29,
     "metadata": {},
     "output_type": "execute_result"
    }
   ],
   "source": [
    "best_seqsignet_attention_mha_grp_11[\"recall\"].mean()"
   ]
  },
  {
   "cell_type": "code",
   "execution_count": 30,
   "id": "a3e8bbc5",
   "metadata": {},
   "outputs": [
    {
     "data": {
      "text/plain": [
       "array([0.73500323, 0.58524385])"
      ]
     },
     "execution_count": 30,
     "metadata": {},
     "output_type": "execute_result"
    }
   ],
   "source": [
    "np.stack(best_seqsignet_attention_mha_grp_11[\"f1_scores\"]).mean(axis=0)"
   ]
  },
  {
   "cell_type": "code",
   "execution_count": 31,
   "id": "4601b7f2",
   "metadata": {},
   "outputs": [
    {
     "data": {
      "text/plain": [
       "array([0.78661585, 0.53100916])"
      ]
     },
     "execution_count": 31,
     "metadata": {},
     "output_type": "execute_result"
    }
   ],
   "source": [
    "np.stack(best_seqsignet_attention_mha_grp_11[\"precision_scores\"]).mean(axis=0)"
   ]
  },
  {
   "cell_type": "code",
   "execution_count": 32,
   "id": "a3201dd5",
   "metadata": {},
   "outputs": [
    {
     "data": {
      "text/plain": [
       "array([0.68988914, 0.65210442])"
      ]
     },
     "execution_count": 32,
     "metadata": {},
     "output_type": "execute_result"
    }
   ],
   "source": [
    "np.stack(best_seqsignet_attention_mha_grp_11[\"recall_scores\"]).mean(axis=0)"
   ]
  },
  {
   "cell_type": "markdown",
   "id": "c81803c8-98e4-4c83-bd10-20aa615443d4",
   "metadata": {
    "tags": []
   },
   "source": [
    "# history_length=20"
   ]
  },
  {
   "cell_type": "code",
   "execution_count": 33,
   "id": "965d96c4-206b-4842-b54e-164ab1e62ba0",
   "metadata": {},
   "outputs": [],
   "source": [
    "shift = 3\n",
    "window_size = 5\n",
    "n = 6"
   ]
  },
  {
   "cell_type": "markdown",
   "id": "cf521bdb-e66a-44f1-ab0e-e75cec3b6688",
   "metadata": {},
   "source": [
    "## UMAP"
   ]
  },
  {
   "cell_type": "code",
   "execution_count": 34,
   "id": "cbad258f-49e3-48c0-8018-d79157089662",
   "metadata": {
    "tags": []
   },
   "outputs": [
    {
     "data": {
      "application/vnd.jupyter.widget-view+json": {
       "model_id": "c8255d67d821497db50fabc3ea908d5b",
       "version_major": 2,
       "version_minor": 0
      },
      "text/plain": [
       "  0%|          | 0/1 [00:00<?, ?it/s]"
      ]
     },
     "metadata": {},
     "output_type": "display_data"
    },
    {
     "data": {
      "application/vnd.jupyter.widget-view+json": {
       "model_id": "6da77007fb8d4f22849204af4ef47928",
       "version_major": 2,
       "version_minor": 0
      },
      "text/plain": [
       "  0%|          | 0/1 [00:00<?, ?it/s]"
      ]
     },
     "metadata": {},
     "output_type": "display_data"
    },
    {
     "name": "stdout",
     "output_type": "stream",
     "text": [
      "\n",
      "##################################################\n",
      "dimension: 15 | method: umap\n",
      "given shift 3, window size 5 and n 6: history length = 20\n",
      "[INFO] Concatenating the embeddings to the dataframe...\n",
      "[INFO] - columns beginning with 'e' denote the full embddings.\n",
      "[INFO] - columns beginning with 'd' denote the dimension reduced embeddings.\n",
      "[INFO] Adding time feature columns into dataframe in `.df`.\n",
      "[INFO] Adding 'time_encoding' feature...\n",
      "[INFO] Adding 'time_diff' feature...\n",
      "[INFO] Adding 'timeline_index' feature...\n",
      "[INFO] Padding ids and storing in `.df_padded` and `.array_padded` attributes.\n"
     ]
    },
    {
     "data": {
      "application/vnd.jupyter.widget-view+json": {
       "model_id": "152d6592b80a42f5a4c66921192a12e4",
       "version_major": 2,
       "version_minor": 0
      },
      "text/plain": [
       "  0%|          | 0/5568 [00:00<?, ?it/s]"
      ]
     },
     "metadata": {},
     "output_type": "display_data"
    },
    {
     "name": "stdout",
     "output_type": "stream",
     "text": [
      "[INFO] The path was created for each item in the dataframe, by looking at its history, so to include embeddings in the FFN input, we concatenate the embeddings for each sentence / text.\n"
     ]
    },
    {
     "data": {
      "application/vnd.jupyter.widget-view+json": {
       "model_id": "4bac0402b6024ac78119a52ee5dfc3f3",
       "version_major": 2,
       "version_minor": 0
      },
      "text/plain": [
       "  0%|          | 0/2 [00:00<?, ?it/s]"
      ]
     },
     "metadata": {},
     "output_type": "display_data"
    },
    {
     "data": {
      "application/vnd.jupyter.widget-view+json": {
       "model_id": "41a41656f7d14cc0ad06af2759c87a63",
       "version_major": 2,
       "version_minor": 0
      },
      "text/plain": [
       "  0%|          | 0/1 [00:00<?, ?it/s]"
      ]
     },
     "metadata": {},
     "output_type": "display_data"
    },
    {
     "data": {
      "application/vnd.jupyter.widget-view+json": {
       "model_id": "3b30ed5421f9497cacd5b333e9c4ec3b",
       "version_major": 2,
       "version_minor": 0
      },
      "text/plain": [
       "  0%|          | 0/2 [00:00<?, ?it/s]"
      ]
     },
     "metadata": {},
     "output_type": "display_data"
    },
    {
     "data": {
      "application/vnd.jupyter.widget-view+json": {
       "model_id": "7b53abf9908d449f8ad62d839c047195",
       "version_major": 2,
       "version_minor": 0
      },
      "text/plain": [
       "  0%|          | 0/2 [00:00<?, ?it/s]"
      ]
     },
     "metadata": {},
     "output_type": "display_data"
    },
    {
     "data": {
      "application/vnd.jupyter.widget-view+json": {
       "model_id": "def7a81f678440b2bf487101e069d67a",
       "version_major": 2,
       "version_minor": 0
      },
      "text/plain": [
       "  0%|          | 0/3 [00:00<?, ?it/s]"
      ]
     },
     "metadata": {},
     "output_type": "display_data"
    },
    {
     "data": {
      "application/vnd.jupyter.widget-view+json": {
       "model_id": "6f0568cebc2c467b885f0ce4aaa70098",
       "version_major": 2,
       "version_minor": 0
      },
      "text/plain": [
       "  0%|          | 0/3 [00:00<?, ?it/s]"
      ]
     },
     "metadata": {},
     "output_type": "display_data"
    },
    {
     "data": {
      "application/vnd.jupyter.widget-view+json": {
       "model_id": "9ad6ed84a17c411e946ee7bc9eba1119",
       "version_major": 2,
       "version_minor": 0
      },
      "text/plain": [
       "  0%|          | 0/2 [00:00<?, ?it/s]"
      ]
     },
     "metadata": {},
     "output_type": "display_data"
    },
    {
     "data": {
      "application/vnd.jupyter.widget-view+json": {
       "model_id": "275d469df0434c3fb673290029fdcdac",
       "version_major": 2,
       "version_minor": 0
      },
      "text/plain": [
       "  0%|          | 0/3 [00:00<?, ?it/s]"
      ]
     },
     "metadata": {},
     "output_type": "display_data"
    },
    {
     "data": {
      "application/vnd.jupyter.widget-view+json": {
       "model_id": "3524cdb2a2bf4e8084c85ec796f7f1b7",
       "version_major": 2,
       "version_minor": 0
      },
      "text/plain": [
       "  0%|          | 0/3 [00:00<?, ?it/s]"
      ]
     },
     "metadata": {},
     "output_type": "display_data"
    },
    {
     "data": {
      "application/vnd.jupyter.widget-view+json": {
       "model_id": "384226ca253f489e8cdc0e7215ddedcd",
       "version_major": 2,
       "version_minor": 0
      },
      "text/plain": [
       "  0%|          | 0/1 [00:00<?, ?it/s]"
      ]
     },
     "metadata": {},
     "output_type": "display_data"
    },
    {
     "data": {
      "application/vnd.jupyter.widget-view+json": {
       "model_id": "b6ff63e42cc3467ebce75e0c88da2dd6",
       "version_major": 2,
       "version_minor": 0
      },
      "text/plain": [
       "  0%|          | 0/2 [00:00<?, ?it/s]"
      ]
     },
     "metadata": {},
     "output_type": "display_data"
    },
    {
     "data": {
      "application/vnd.jupyter.widget-view+json": {
       "model_id": "c2252384cd0d448aa7ce78af4f353b5f",
       "version_major": 2,
       "version_minor": 0
      },
      "text/plain": [
       "  0%|          | 0/2 [00:00<?, ?it/s]"
      ]
     },
     "metadata": {},
     "output_type": "display_data"
    },
    {
     "data": {
      "application/vnd.jupyter.widget-view+json": {
       "model_id": "ba43357b93f648238df7405cce27230a",
       "version_major": 2,
       "version_minor": 0
      },
      "text/plain": [
       "  0%|          | 0/3 [00:00<?, ?it/s]"
      ]
     },
     "metadata": {},
     "output_type": "display_data"
    },
    {
     "data": {
      "application/vnd.jupyter.widget-view+json": {
       "model_id": "cdfd816a5f7a480d8c76e23e3e17d60b",
       "version_major": 2,
       "version_minor": 0
      },
      "text/plain": [
       "  0%|          | 0/3 [00:00<?, ?it/s]"
      ]
     },
     "metadata": {},
     "output_type": "display_data"
    },
    {
     "data": {
      "application/vnd.jupyter.widget-view+json": {
       "model_id": "039ea68f1d4a4e01b1a787f01cb97b0c",
       "version_major": 2,
       "version_minor": 0
      },
      "text/plain": [
       "  0%|          | 0/2 [00:00<?, ?it/s]"
      ]
     },
     "metadata": {},
     "output_type": "display_data"
    },
    {
     "data": {
      "application/vnd.jupyter.widget-view+json": {
       "model_id": "820af6a92f9544b28eab020bbb8b92aa",
       "version_major": 2,
       "version_minor": 0
      },
      "text/plain": [
       "  0%|          | 0/3 [00:00<?, ?it/s]"
      ]
     },
     "metadata": {},
     "output_type": "display_data"
    },
    {
     "data": {
      "application/vnd.jupyter.widget-view+json": {
       "model_id": "662779c3f3e34d54b872ae8e79488c29",
       "version_major": 2,
       "version_minor": 0
      },
      "text/plain": [
       "  0%|          | 0/3 [00:00<?, ?it/s]"
      ]
     },
     "metadata": {},
     "output_type": "display_data"
    },
    {
     "name": "stdout",
     "output_type": "stream",
     "text": [
      "given shift 3, window size 5 and n 6: history length = 20\n",
      "[INFO] Concatenating the embeddings to the dataframe...\n",
      "[INFO] - columns beginning with 'e' denote the full embddings.\n",
      "[INFO] - columns beginning with 'd' denote the dimension reduced embeddings.\n",
      "[INFO] Adding time feature columns into dataframe in `.df`.\n",
      "[INFO] Adding 'time_encoding' feature...\n",
      "[INFO] Adding 'time_diff' feature...\n",
      "[INFO] Adding 'timeline_index' feature...\n",
      "[INFO] Padding ids and storing in `.df_padded` and `.array_padded` attributes.\n"
     ]
    },
    {
     "data": {
      "application/vnd.jupyter.widget-view+json": {
       "model_id": "f7d328a439e14db29f040d49061465bd",
       "version_major": 2,
       "version_minor": 0
      },
      "text/plain": [
       "  0%|          | 0/5568 [00:00<?, ?it/s]"
      ]
     },
     "metadata": {},
     "output_type": "display_data"
    },
    {
     "name": "stdout",
     "output_type": "stream",
     "text": [
      "[INFO] The path was created for each item in the dataframe, by looking at its history, so to include embeddings in the FFN input, we concatenate the embeddings for each sentence / text.\n",
      "saving results dataframe to CSV for this hyperparameter search in rumours_output/seqsignet_attention_mha_umap_focal_2_3_5_6_kfold.csv\n",
      "saving the best model results dataframe to CSV for this hyperparameter search in rumours_output/seqsignet_attention_mha_umap_focal_2_3_5_6_kfold_best_model.csv\n"
     ]
    }
   ],
   "source": [
    "(\n",
    "    seqsignet_attention_mha_umap_20,\n",
    "    best_seqsignet_attention_mha_umap_20,\n",
    "    _,\n",
    "    __,\n",
    ") = seqsignet_full_attention_hyperparameter_search(\n",
    "    shift=shift,\n",
    "    window_size=window_size,\n",
    "    n=n,\n",
    "    dim_reduce_methods=[\"umap\"],\n",
    "    results_output=f\"{output_dir}/seqsignet_attention_mha_umap_focal_{gamma}_{shift}_{window_size}_{n}_kfold.csv\",\n",
    "    **kwargs,\n",
    ")"
   ]
  },
  {
   "cell_type": "code",
   "execution_count": 35,
   "id": "0e4d99bd-a91d-4d35-9037-3105029b79c2",
   "metadata": {},
   "outputs": [
    {
     "name": "stderr",
     "output_type": "stream",
     "text": [
      "/tmp/ipykernel_2887417/1243729295.py:1: FutureWarning: The default value of numeric_only in DataFrameGroupBy.mean is deprecated. In a future version, numeric_only will default to False. Either specify numeric_only or select only columns which should be valid for the function.\n",
      "  seqsignet_attention_mha_umap_20.groupby(\n"
     ]
    },
    {
     "data": {
      "text/html": [
       "<div>\n",
       "<style scoped>\n",
       "    .dataframe tbody tr th:only-of-type {\n",
       "        vertical-align: middle;\n",
       "    }\n",
       "\n",
       "    .dataframe tbody tr th {\n",
       "        vertical-align: top;\n",
       "    }\n",
       "\n",
       "    .dataframe thead th {\n",
       "        text-align: right;\n",
       "    }\n",
       "</style>\n",
       "<table border=\"1\" class=\"dataframe\">\n",
       "  <thead>\n",
       "    <tr style=\"text-align: right;\">\n",
       "      <th></th>\n",
       "      <th></th>\n",
       "      <th></th>\n",
       "      <th></th>\n",
       "      <th></th>\n",
       "      <th></th>\n",
       "      <th></th>\n",
       "      <th>accuracy</th>\n",
       "      <th>f1</th>\n",
       "      <th>precision</th>\n",
       "      <th>recall</th>\n",
       "      <th>valid_accuracy</th>\n",
       "      <th>valid_f1</th>\n",
       "      <th>valid_precision</th>\n",
       "      <th>valid_recall</th>\n",
       "      <th>k</th>\n",
       "      <th>shift</th>\n",
       "      <th>...</th>\n",
       "      <th>embedding_dim</th>\n",
       "      <th>num_features</th>\n",
       "      <th>log_signature</th>\n",
       "      <th>dropout_rate</th>\n",
       "      <th>seed</th>\n",
       "      <th>gamma</th>\n",
       "      <th>k_fold</th>\n",
       "      <th>n_splits</th>\n",
       "      <th>batch_size</th>\n",
       "      <th>model_id</th>\n",
       "    </tr>\n",
       "    <tr>\n",
       "      <th>dimensions</th>\n",
       "      <th>output_channels</th>\n",
       "      <th>sig_depth</th>\n",
       "      <th>num_heads</th>\n",
       "      <th>num_layers</th>\n",
       "      <th>ffn_hidden_dim</th>\n",
       "      <th>learning_rate</th>\n",
       "      <th></th>\n",
       "      <th></th>\n",
       "      <th></th>\n",
       "      <th></th>\n",
       "      <th></th>\n",
       "      <th></th>\n",
       "      <th></th>\n",
       "      <th></th>\n",
       "      <th></th>\n",
       "      <th></th>\n",
       "      <th></th>\n",
       "      <th></th>\n",
       "      <th></th>\n",
       "      <th></th>\n",
       "      <th></th>\n",
       "      <th></th>\n",
       "      <th></th>\n",
       "      <th></th>\n",
       "      <th></th>\n",
       "      <th></th>\n",
       "      <th></th>\n",
       "    </tr>\n",
       "  </thead>\n",
       "  <tbody>\n",
       "    <tr>\n",
       "      <th rowspan=\"12\" valign=\"top\">15</th>\n",
       "      <th rowspan=\"6\" valign=\"top\">8</th>\n",
       "      <th rowspan=\"6\" valign=\"top\">4</th>\n",
       "      <th rowspan=\"6\" valign=\"top\">6</th>\n",
       "      <th rowspan=\"6\" valign=\"top\">1</th>\n",
       "      <th rowspan=\"3\" valign=\"top\">(256, 256)</th>\n",
       "      <th>0.0001</th>\n",
       "      <td>0.678503</td>\n",
       "      <td>0.654680</td>\n",
       "      <td>0.652657</td>\n",
       "      <td>0.659221</td>\n",
       "      <td>0.805657</td>\n",
       "      <td>0.794526</td>\n",
       "      <td>0.794084</td>\n",
       "      <td>0.795253</td>\n",
       "      <td>20.0</td>\n",
       "      <td>3.0</td>\n",
       "      <td>...</td>\n",
       "      <td>384.0</td>\n",
       "      <td>0.0</td>\n",
       "      <td>1.0</td>\n",
       "      <td>0.15</td>\n",
       "      <td>45.333333</td>\n",
       "      <td>2.0</td>\n",
       "      <td>1.0</td>\n",
       "      <td>5.0</td>\n",
       "      <td>64.0</td>\n",
       "      <td>14.5</td>\n",
       "    </tr>\n",
       "    <tr>\n",
       "      <th>0.0005</th>\n",
       "      <td>0.690898</td>\n",
       "      <td>0.663172</td>\n",
       "      <td>0.662529</td>\n",
       "      <td>0.665186</td>\n",
       "      <td>0.754257</td>\n",
       "      <td>0.737715</td>\n",
       "      <td>0.739935</td>\n",
       "      <td>0.736624</td>\n",
       "      <td>20.0</td>\n",
       "      <td>3.0</td>\n",
       "      <td>...</td>\n",
       "      <td>384.0</td>\n",
       "      <td>0.0</td>\n",
       "      <td>1.0</td>\n",
       "      <td>0.15</td>\n",
       "      <td>45.333333</td>\n",
       "      <td>2.0</td>\n",
       "      <td>1.0</td>\n",
       "      <td>5.0</td>\n",
       "      <td>64.0</td>\n",
       "      <td>15.5</td>\n",
       "    </tr>\n",
       "    <tr>\n",
       "      <th>0.0010</th>\n",
       "      <td>0.688288</td>\n",
       "      <td>0.656955</td>\n",
       "      <td>0.660503</td>\n",
       "      <td>0.658606</td>\n",
       "      <td>0.726985</td>\n",
       "      <td>0.705874</td>\n",
       "      <td>0.713026</td>\n",
       "      <td>0.704382</td>\n",
       "      <td>20.0</td>\n",
       "      <td>3.0</td>\n",
       "      <td>...</td>\n",
       "      <td>384.0</td>\n",
       "      <td>0.0</td>\n",
       "      <td>1.0</td>\n",
       "      <td>0.15</td>\n",
       "      <td>45.333333</td>\n",
       "      <td>2.0</td>\n",
       "      <td>1.0</td>\n",
       "      <td>5.0</td>\n",
       "      <td>64.0</td>\n",
       "      <td>13.5</td>\n",
       "    </tr>\n",
       "    <tr>\n",
       "      <th rowspan=\"3\" valign=\"top\">(512, 512)</th>\n",
       "      <th>0.0001</th>\n",
       "      <td>0.679279</td>\n",
       "      <td>0.654502</td>\n",
       "      <td>0.652607</td>\n",
       "      <td>0.658363</td>\n",
       "      <td>0.782563</td>\n",
       "      <td>0.769555</td>\n",
       "      <td>0.769852</td>\n",
       "      <td>0.769815</td>\n",
       "      <td>20.0</td>\n",
       "      <td>3.0</td>\n",
       "      <td>...</td>\n",
       "      <td>384.0</td>\n",
       "      <td>0.0</td>\n",
       "      <td>1.0</td>\n",
       "      <td>0.15</td>\n",
       "      <td>45.333333</td>\n",
       "      <td>2.0</td>\n",
       "      <td>1.0</td>\n",
       "      <td>5.0</td>\n",
       "      <td>64.0</td>\n",
       "      <td>20.5</td>\n",
       "    </tr>\n",
       "    <tr>\n",
       "      <th>0.0005</th>\n",
       "      <td>0.691612</td>\n",
       "      <td>0.670636</td>\n",
       "      <td>0.668751</td>\n",
       "      <td>0.677280</td>\n",
       "      <td>0.745765</td>\n",
       "      <td>0.732246</td>\n",
       "      <td>0.731703</td>\n",
       "      <td>0.734244</td>\n",
       "      <td>20.0</td>\n",
       "      <td>3.0</td>\n",
       "      <td>...</td>\n",
       "      <td>384.0</td>\n",
       "      <td>0.0</td>\n",
       "      <td>1.0</td>\n",
       "      <td>0.15</td>\n",
       "      <td>45.333333</td>\n",
       "      <td>2.0</td>\n",
       "      <td>1.0</td>\n",
       "      <td>5.0</td>\n",
       "      <td>64.0</td>\n",
       "      <td>21.5</td>\n",
       "    </tr>\n",
       "    <tr>\n",
       "      <th>0.0010</th>\n",
       "      <td>0.691674</td>\n",
       "      <td>0.655905</td>\n",
       "      <td>0.661443</td>\n",
       "      <td>0.656023</td>\n",
       "      <td>0.727187</td>\n",
       "      <td>0.701628</td>\n",
       "      <td>0.712473</td>\n",
       "      <td>0.700087</td>\n",
       "      <td>20.0</td>\n",
       "      <td>3.0</td>\n",
       "      <td>...</td>\n",
       "      <td>384.0</td>\n",
       "      <td>0.0</td>\n",
       "      <td>1.0</td>\n",
       "      <td>0.15</td>\n",
       "      <td>45.333333</td>\n",
       "      <td>2.0</td>\n",
       "      <td>1.0</td>\n",
       "      <td>5.0</td>\n",
       "      <td>64.0</td>\n",
       "      <td>19.5</td>\n",
       "    </tr>\n",
       "    <tr>\n",
       "      <th rowspan=\"6\" valign=\"top\">12</th>\n",
       "      <th rowspan=\"6\" valign=\"top\">3</th>\n",
       "      <th rowspan=\"6\" valign=\"top\">10</th>\n",
       "      <th rowspan=\"6\" valign=\"top\">1</th>\n",
       "      <th rowspan=\"3\" valign=\"top\">(256, 256)</th>\n",
       "      <th>0.0001</th>\n",
       "      <td>0.677074</td>\n",
       "      <td>0.653874</td>\n",
       "      <td>0.652168</td>\n",
       "      <td>0.659127</td>\n",
       "      <td>0.830413</td>\n",
       "      <td>0.820037</td>\n",
       "      <td>0.821135</td>\n",
       "      <td>0.819850</td>\n",
       "      <td>20.0</td>\n",
       "      <td>3.0</td>\n",
       "      <td>...</td>\n",
       "      <td>384.0</td>\n",
       "      <td>0.0</td>\n",
       "      <td>1.0</td>\n",
       "      <td>0.15</td>\n",
       "      <td>45.333333</td>\n",
       "      <td>2.0</td>\n",
       "      <td>1.0</td>\n",
       "      <td>5.0</td>\n",
       "      <td>64.0</td>\n",
       "      <td>2.5</td>\n",
       "    </tr>\n",
       "    <tr>\n",
       "      <th>0.0005</th>\n",
       "      <td>0.671575</td>\n",
       "      <td>0.649593</td>\n",
       "      <td>0.648876</td>\n",
       "      <td>0.656354</td>\n",
       "      <td>0.817675</td>\n",
       "      <td>0.807868</td>\n",
       "      <td>0.806401</td>\n",
       "      <td>0.810034</td>\n",
       "      <td>20.0</td>\n",
       "      <td>3.0</td>\n",
       "      <td>...</td>\n",
       "      <td>384.0</td>\n",
       "      <td>0.0</td>\n",
       "      <td>1.0</td>\n",
       "      <td>0.15</td>\n",
       "      <td>45.333333</td>\n",
       "      <td>2.0</td>\n",
       "      <td>1.0</td>\n",
       "      <td>5.0</td>\n",
       "      <td>64.0</td>\n",
       "      <td>3.5</td>\n",
       "    </tr>\n",
       "    <tr>\n",
       "      <th>0.0010</th>\n",
       "      <td>0.679186</td>\n",
       "      <td>0.657913</td>\n",
       "      <td>0.655794</td>\n",
       "      <td>0.664586</td>\n",
       "      <td>0.782698</td>\n",
       "      <td>0.772374</td>\n",
       "      <td>0.769970</td>\n",
       "      <td>0.775910</td>\n",
       "      <td>20.0</td>\n",
       "      <td>3.0</td>\n",
       "      <td>...</td>\n",
       "      <td>384.0</td>\n",
       "      <td>0.0</td>\n",
       "      <td>1.0</td>\n",
       "      <td>0.15</td>\n",
       "      <td>45.333333</td>\n",
       "      <td>2.0</td>\n",
       "      <td>1.0</td>\n",
       "      <td>5.0</td>\n",
       "      <td>64.0</td>\n",
       "      <td>1.5</td>\n",
       "    </tr>\n",
       "    <tr>\n",
       "      <th rowspan=\"3\" valign=\"top\">(512, 512)</th>\n",
       "      <th>0.0001</th>\n",
       "      <td>0.668903</td>\n",
       "      <td>0.647047</td>\n",
       "      <td>0.645120</td>\n",
       "      <td>0.653110</td>\n",
       "      <td>0.830390</td>\n",
       "      <td>0.820648</td>\n",
       "      <td>0.820048</td>\n",
       "      <td>0.821371</td>\n",
       "      <td>20.0</td>\n",
       "      <td>3.0</td>\n",
       "      <td>...</td>\n",
       "      <td>384.0</td>\n",
       "      <td>0.0</td>\n",
       "      <td>1.0</td>\n",
       "      <td>0.15</td>\n",
       "      <td>45.333333</td>\n",
       "      <td>2.0</td>\n",
       "      <td>1.0</td>\n",
       "      <td>5.0</td>\n",
       "      <td>64.0</td>\n",
       "      <td>8.5</td>\n",
       "    </tr>\n",
       "    <tr>\n",
       "      <th>0.0005</th>\n",
       "      <td>0.685337</td>\n",
       "      <td>0.667042</td>\n",
       "      <td>0.665330</td>\n",
       "      <td>0.676289</td>\n",
       "      <td>0.779710</td>\n",
       "      <td>0.768971</td>\n",
       "      <td>0.767451</td>\n",
       "      <td>0.772512</td>\n",
       "      <td>20.0</td>\n",
       "      <td>3.0</td>\n",
       "      <td>...</td>\n",
       "      <td>384.0</td>\n",
       "      <td>0.0</td>\n",
       "      <td>1.0</td>\n",
       "      <td>0.15</td>\n",
       "      <td>45.333333</td>\n",
       "      <td>2.0</td>\n",
       "      <td>1.0</td>\n",
       "      <td>5.0</td>\n",
       "      <td>64.0</td>\n",
       "      <td>9.5</td>\n",
       "    </tr>\n",
       "    <tr>\n",
       "      <th>0.0010</th>\n",
       "      <td>0.684809</td>\n",
       "      <td>0.658539</td>\n",
       "      <td>0.658096</td>\n",
       "      <td>0.661693</td>\n",
       "      <td>0.767556</td>\n",
       "      <td>0.752149</td>\n",
       "      <td>0.754390</td>\n",
       "      <td>0.751976</td>\n",
       "      <td>20.0</td>\n",
       "      <td>3.0</td>\n",
       "      <td>...</td>\n",
       "      <td>384.0</td>\n",
       "      <td>0.0</td>\n",
       "      <td>1.0</td>\n",
       "      <td>0.15</td>\n",
       "      <td>45.333333</td>\n",
       "      <td>2.0</td>\n",
       "      <td>1.0</td>\n",
       "      <td>5.0</td>\n",
       "      <td>64.0</td>\n",
       "      <td>7.5</td>\n",
       "    </tr>\n",
       "  </tbody>\n",
       "</table>\n",
       "<p>12 rows × 25 columns</p>\n",
       "</div>"
      ],
      "text/plain": [
       "                                                                                        accuracy  \\\n",
       "dimensions output_channels sig_depth num_heads num_layers ffn_hidden_dim learning_rate             \n",
       "15         8               4         6         1          (256, 256)     0.0001         0.678503   \n",
       "                                                                         0.0005         0.690898   \n",
       "                                                                         0.0010         0.688288   \n",
       "                                                          (512, 512)     0.0001         0.679279   \n",
       "                                                                         0.0005         0.691612   \n",
       "                                                                         0.0010         0.691674   \n",
       "           12              3         10        1          (256, 256)     0.0001         0.677074   \n",
       "                                                                         0.0005         0.671575   \n",
       "                                                                         0.0010         0.679186   \n",
       "                                                          (512, 512)     0.0001         0.668903   \n",
       "                                                                         0.0005         0.685337   \n",
       "                                                                         0.0010         0.684809   \n",
       "\n",
       "                                                                                              f1  \\\n",
       "dimensions output_channels sig_depth num_heads num_layers ffn_hidden_dim learning_rate             \n",
       "15         8               4         6         1          (256, 256)     0.0001         0.654680   \n",
       "                                                                         0.0005         0.663172   \n",
       "                                                                         0.0010         0.656955   \n",
       "                                                          (512, 512)     0.0001         0.654502   \n",
       "                                                                         0.0005         0.670636   \n",
       "                                                                         0.0010         0.655905   \n",
       "           12              3         10        1          (256, 256)     0.0001         0.653874   \n",
       "                                                                         0.0005         0.649593   \n",
       "                                                                         0.0010         0.657913   \n",
       "                                                          (512, 512)     0.0001         0.647047   \n",
       "                                                                         0.0005         0.667042   \n",
       "                                                                         0.0010         0.658539   \n",
       "\n",
       "                                                                                        precision  \\\n",
       "dimensions output_channels sig_depth num_heads num_layers ffn_hidden_dim learning_rate              \n",
       "15         8               4         6         1          (256, 256)     0.0001          0.652657   \n",
       "                                                                         0.0005          0.662529   \n",
       "                                                                         0.0010          0.660503   \n",
       "                                                          (512, 512)     0.0001          0.652607   \n",
       "                                                                         0.0005          0.668751   \n",
       "                                                                         0.0010          0.661443   \n",
       "           12              3         10        1          (256, 256)     0.0001          0.652168   \n",
       "                                                                         0.0005          0.648876   \n",
       "                                                                         0.0010          0.655794   \n",
       "                                                          (512, 512)     0.0001          0.645120   \n",
       "                                                                         0.0005          0.665330   \n",
       "                                                                         0.0010          0.658096   \n",
       "\n",
       "                                                                                          recall  \\\n",
       "dimensions output_channels sig_depth num_heads num_layers ffn_hidden_dim learning_rate             \n",
       "15         8               4         6         1          (256, 256)     0.0001         0.659221   \n",
       "                                                                         0.0005         0.665186   \n",
       "                                                                         0.0010         0.658606   \n",
       "                                                          (512, 512)     0.0001         0.658363   \n",
       "                                                                         0.0005         0.677280   \n",
       "                                                                         0.0010         0.656023   \n",
       "           12              3         10        1          (256, 256)     0.0001         0.659127   \n",
       "                                                                         0.0005         0.656354   \n",
       "                                                                         0.0010         0.664586   \n",
       "                                                          (512, 512)     0.0001         0.653110   \n",
       "                                                                         0.0005         0.676289   \n",
       "                                                                         0.0010         0.661693   \n",
       "\n",
       "                                                                                        valid_accuracy  \\\n",
       "dimensions output_channels sig_depth num_heads num_layers ffn_hidden_dim learning_rate                   \n",
       "15         8               4         6         1          (256, 256)     0.0001               0.805657   \n",
       "                                                                         0.0005               0.754257   \n",
       "                                                                         0.0010               0.726985   \n",
       "                                                          (512, 512)     0.0001               0.782563   \n",
       "                                                                         0.0005               0.745765   \n",
       "                                                                         0.0010               0.727187   \n",
       "           12              3         10        1          (256, 256)     0.0001               0.830413   \n",
       "                                                                         0.0005               0.817675   \n",
       "                                                                         0.0010               0.782698   \n",
       "                                                          (512, 512)     0.0001               0.830390   \n",
       "                                                                         0.0005               0.779710   \n",
       "                                                                         0.0010               0.767556   \n",
       "\n",
       "                                                                                        valid_f1  \\\n",
       "dimensions output_channels sig_depth num_heads num_layers ffn_hidden_dim learning_rate             \n",
       "15         8               4         6         1          (256, 256)     0.0001         0.794526   \n",
       "                                                                         0.0005         0.737715   \n",
       "                                                                         0.0010         0.705874   \n",
       "                                                          (512, 512)     0.0001         0.769555   \n",
       "                                                                         0.0005         0.732246   \n",
       "                                                                         0.0010         0.701628   \n",
       "           12              3         10        1          (256, 256)     0.0001         0.820037   \n",
       "                                                                         0.0005         0.807868   \n",
       "                                                                         0.0010         0.772374   \n",
       "                                                          (512, 512)     0.0001         0.820648   \n",
       "                                                                         0.0005         0.768971   \n",
       "                                                                         0.0010         0.752149   \n",
       "\n",
       "                                                                                        valid_precision  \\\n",
       "dimensions output_channels sig_depth num_heads num_layers ffn_hidden_dim learning_rate                    \n",
       "15         8               4         6         1          (256, 256)     0.0001                0.794084   \n",
       "                                                                         0.0005                0.739935   \n",
       "                                                                         0.0010                0.713026   \n",
       "                                                          (512, 512)     0.0001                0.769852   \n",
       "                                                                         0.0005                0.731703   \n",
       "                                                                         0.0010                0.712473   \n",
       "           12              3         10        1          (256, 256)     0.0001                0.821135   \n",
       "                                                                         0.0005                0.806401   \n",
       "                                                                         0.0010                0.769970   \n",
       "                                                          (512, 512)     0.0001                0.820048   \n",
       "                                                                         0.0005                0.767451   \n",
       "                                                                         0.0010                0.754390   \n",
       "\n",
       "                                                                                        valid_recall  \\\n",
       "dimensions output_channels sig_depth num_heads num_layers ffn_hidden_dim learning_rate                 \n",
       "15         8               4         6         1          (256, 256)     0.0001             0.795253   \n",
       "                                                                         0.0005             0.736624   \n",
       "                                                                         0.0010             0.704382   \n",
       "                                                          (512, 512)     0.0001             0.769815   \n",
       "                                                                         0.0005             0.734244   \n",
       "                                                                         0.0010             0.700087   \n",
       "           12              3         10        1          (256, 256)     0.0001             0.819850   \n",
       "                                                                         0.0005             0.810034   \n",
       "                                                                         0.0010             0.775910   \n",
       "                                                          (512, 512)     0.0001             0.821371   \n",
       "                                                                         0.0005             0.772512   \n",
       "                                                                         0.0010             0.751976   \n",
       "\n",
       "                                                                                           k  \\\n",
       "dimensions output_channels sig_depth num_heads num_layers ffn_hidden_dim learning_rate         \n",
       "15         8               4         6         1          (256, 256)     0.0001         20.0   \n",
       "                                                                         0.0005         20.0   \n",
       "                                                                         0.0010         20.0   \n",
       "                                                          (512, 512)     0.0001         20.0   \n",
       "                                                                         0.0005         20.0   \n",
       "                                                                         0.0010         20.0   \n",
       "           12              3         10        1          (256, 256)     0.0001         20.0   \n",
       "                                                                         0.0005         20.0   \n",
       "                                                                         0.0010         20.0   \n",
       "                                                          (512, 512)     0.0001         20.0   \n",
       "                                                                         0.0005         20.0   \n",
       "                                                                         0.0010         20.0   \n",
       "\n",
       "                                                                                        shift  \\\n",
       "dimensions output_channels sig_depth num_heads num_layers ffn_hidden_dim learning_rate          \n",
       "15         8               4         6         1          (256, 256)     0.0001           3.0   \n",
       "                                                                         0.0005           3.0   \n",
       "                                                                         0.0010           3.0   \n",
       "                                                          (512, 512)     0.0001           3.0   \n",
       "                                                                         0.0005           3.0   \n",
       "                                                                         0.0010           3.0   \n",
       "           12              3         10        1          (256, 256)     0.0001           3.0   \n",
       "                                                                         0.0005           3.0   \n",
       "                                                                         0.0010           3.0   \n",
       "                                                          (512, 512)     0.0001           3.0   \n",
       "                                                                         0.0005           3.0   \n",
       "                                                                         0.0010           3.0   \n",
       "\n",
       "                                                                                        ...  \\\n",
       "dimensions output_channels sig_depth num_heads num_layers ffn_hidden_dim learning_rate  ...   \n",
       "15         8               4         6         1          (256, 256)     0.0001         ...   \n",
       "                                                                         0.0005         ...   \n",
       "                                                                         0.0010         ...   \n",
       "                                                          (512, 512)     0.0001         ...   \n",
       "                                                                         0.0005         ...   \n",
       "                                                                         0.0010         ...   \n",
       "           12              3         10        1          (256, 256)     0.0001         ...   \n",
       "                                                                         0.0005         ...   \n",
       "                                                                         0.0010         ...   \n",
       "                                                          (512, 512)     0.0001         ...   \n",
       "                                                                         0.0005         ...   \n",
       "                                                                         0.0010         ...   \n",
       "\n",
       "                                                                                        embedding_dim  \\\n",
       "dimensions output_channels sig_depth num_heads num_layers ffn_hidden_dim learning_rate                  \n",
       "15         8               4         6         1          (256, 256)     0.0001                 384.0   \n",
       "                                                                         0.0005                 384.0   \n",
       "                                                                         0.0010                 384.0   \n",
       "                                                          (512, 512)     0.0001                 384.0   \n",
       "                                                                         0.0005                 384.0   \n",
       "                                                                         0.0010                 384.0   \n",
       "           12              3         10        1          (256, 256)     0.0001                 384.0   \n",
       "                                                                         0.0005                 384.0   \n",
       "                                                                         0.0010                 384.0   \n",
       "                                                          (512, 512)     0.0001                 384.0   \n",
       "                                                                         0.0005                 384.0   \n",
       "                                                                         0.0010                 384.0   \n",
       "\n",
       "                                                                                        num_features  \\\n",
       "dimensions output_channels sig_depth num_heads num_layers ffn_hidden_dim learning_rate                 \n",
       "15         8               4         6         1          (256, 256)     0.0001                  0.0   \n",
       "                                                                         0.0005                  0.0   \n",
       "                                                                         0.0010                  0.0   \n",
       "                                                          (512, 512)     0.0001                  0.0   \n",
       "                                                                         0.0005                  0.0   \n",
       "                                                                         0.0010                  0.0   \n",
       "           12              3         10        1          (256, 256)     0.0001                  0.0   \n",
       "                                                                         0.0005                  0.0   \n",
       "                                                                         0.0010                  0.0   \n",
       "                                                          (512, 512)     0.0001                  0.0   \n",
       "                                                                         0.0005                  0.0   \n",
       "                                                                         0.0010                  0.0   \n",
       "\n",
       "                                                                                        log_signature  \\\n",
       "dimensions output_channels sig_depth num_heads num_layers ffn_hidden_dim learning_rate                  \n",
       "15         8               4         6         1          (256, 256)     0.0001                   1.0   \n",
       "                                                                         0.0005                   1.0   \n",
       "                                                                         0.0010                   1.0   \n",
       "                                                          (512, 512)     0.0001                   1.0   \n",
       "                                                                         0.0005                   1.0   \n",
       "                                                                         0.0010                   1.0   \n",
       "           12              3         10        1          (256, 256)     0.0001                   1.0   \n",
       "                                                                         0.0005                   1.0   \n",
       "                                                                         0.0010                   1.0   \n",
       "                                                          (512, 512)     0.0001                   1.0   \n",
       "                                                                         0.0005                   1.0   \n",
       "                                                                         0.0010                   1.0   \n",
       "\n",
       "                                                                                        dropout_rate  \\\n",
       "dimensions output_channels sig_depth num_heads num_layers ffn_hidden_dim learning_rate                 \n",
       "15         8               4         6         1          (256, 256)     0.0001                 0.15   \n",
       "                                                                         0.0005                 0.15   \n",
       "                                                                         0.0010                 0.15   \n",
       "                                                          (512, 512)     0.0001                 0.15   \n",
       "                                                                         0.0005                 0.15   \n",
       "                                                                         0.0010                 0.15   \n",
       "           12              3         10        1          (256, 256)     0.0001                 0.15   \n",
       "                                                                         0.0005                 0.15   \n",
       "                                                                         0.0010                 0.15   \n",
       "                                                          (512, 512)     0.0001                 0.15   \n",
       "                                                                         0.0005                 0.15   \n",
       "                                                                         0.0010                 0.15   \n",
       "\n",
       "                                                                                             seed  \\\n",
       "dimensions output_channels sig_depth num_heads num_layers ffn_hidden_dim learning_rate              \n",
       "15         8               4         6         1          (256, 256)     0.0001         45.333333   \n",
       "                                                                         0.0005         45.333333   \n",
       "                                                                         0.0010         45.333333   \n",
       "                                                          (512, 512)     0.0001         45.333333   \n",
       "                                                                         0.0005         45.333333   \n",
       "                                                                         0.0010         45.333333   \n",
       "           12              3         10        1          (256, 256)     0.0001         45.333333   \n",
       "                                                                         0.0005         45.333333   \n",
       "                                                                         0.0010         45.333333   \n",
       "                                                          (512, 512)     0.0001         45.333333   \n",
       "                                                                         0.0005         45.333333   \n",
       "                                                                         0.0010         45.333333   \n",
       "\n",
       "                                                                                        gamma  \\\n",
       "dimensions output_channels sig_depth num_heads num_layers ffn_hidden_dim learning_rate          \n",
       "15         8               4         6         1          (256, 256)     0.0001           2.0   \n",
       "                                                                         0.0005           2.0   \n",
       "                                                                         0.0010           2.0   \n",
       "                                                          (512, 512)     0.0001           2.0   \n",
       "                                                                         0.0005           2.0   \n",
       "                                                                         0.0010           2.0   \n",
       "           12              3         10        1          (256, 256)     0.0001           2.0   \n",
       "                                                                         0.0005           2.0   \n",
       "                                                                         0.0010           2.0   \n",
       "                                                          (512, 512)     0.0001           2.0   \n",
       "                                                                         0.0005           2.0   \n",
       "                                                                         0.0010           2.0   \n",
       "\n",
       "                                                                                        k_fold  \\\n",
       "dimensions output_channels sig_depth num_heads num_layers ffn_hidden_dim learning_rate           \n",
       "15         8               4         6         1          (256, 256)     0.0001            1.0   \n",
       "                                                                         0.0005            1.0   \n",
       "                                                                         0.0010            1.0   \n",
       "                                                          (512, 512)     0.0001            1.0   \n",
       "                                                                         0.0005            1.0   \n",
       "                                                                         0.0010            1.0   \n",
       "           12              3         10        1          (256, 256)     0.0001            1.0   \n",
       "                                                                         0.0005            1.0   \n",
       "                                                                         0.0010            1.0   \n",
       "                                                          (512, 512)     0.0001            1.0   \n",
       "                                                                         0.0005            1.0   \n",
       "                                                                         0.0010            1.0   \n",
       "\n",
       "                                                                                        n_splits  \\\n",
       "dimensions output_channels sig_depth num_heads num_layers ffn_hidden_dim learning_rate             \n",
       "15         8               4         6         1          (256, 256)     0.0001              5.0   \n",
       "                                                                         0.0005              5.0   \n",
       "                                                                         0.0010              5.0   \n",
       "                                                          (512, 512)     0.0001              5.0   \n",
       "                                                                         0.0005              5.0   \n",
       "                                                                         0.0010              5.0   \n",
       "           12              3         10        1          (256, 256)     0.0001              5.0   \n",
       "                                                                         0.0005              5.0   \n",
       "                                                                         0.0010              5.0   \n",
       "                                                          (512, 512)     0.0001              5.0   \n",
       "                                                                         0.0005              5.0   \n",
       "                                                                         0.0010              5.0   \n",
       "\n",
       "                                                                                        batch_size  \\\n",
       "dimensions output_channels sig_depth num_heads num_layers ffn_hidden_dim learning_rate               \n",
       "15         8               4         6         1          (256, 256)     0.0001               64.0   \n",
       "                                                                         0.0005               64.0   \n",
       "                                                                         0.0010               64.0   \n",
       "                                                          (512, 512)     0.0001               64.0   \n",
       "                                                                         0.0005               64.0   \n",
       "                                                                         0.0010               64.0   \n",
       "           12              3         10        1          (256, 256)     0.0001               64.0   \n",
       "                                                                         0.0005               64.0   \n",
       "                                                                         0.0010               64.0   \n",
       "                                                          (512, 512)     0.0001               64.0   \n",
       "                                                                         0.0005               64.0   \n",
       "                                                                         0.0010               64.0   \n",
       "\n",
       "                                                                                        model_id  \n",
       "dimensions output_channels sig_depth num_heads num_layers ffn_hidden_dim learning_rate            \n",
       "15         8               4         6         1          (256, 256)     0.0001             14.5  \n",
       "                                                                         0.0005             15.5  \n",
       "                                                                         0.0010             13.5  \n",
       "                                                          (512, 512)     0.0001             20.5  \n",
       "                                                                         0.0005             21.5  \n",
       "                                                                         0.0010             19.5  \n",
       "           12              3         10        1          (256, 256)     0.0001              2.5  \n",
       "                                                                         0.0005              3.5  \n",
       "                                                                         0.0010              1.5  \n",
       "                                                          (512, 512)     0.0001              8.5  \n",
       "                                                                         0.0005              9.5  \n",
       "                                                                         0.0010              7.5  \n",
       "\n",
       "[12 rows x 25 columns]"
      ]
     },
     "execution_count": 35,
     "metadata": {},
     "output_type": "execute_result"
    }
   ],
   "source": [
    "seqsignet_attention_mha_umap_20.groupby(\n",
    "    [\n",
    "        \"dimensions\",\n",
    "        \"output_channels\",\n",
    "        \"sig_depth\",\n",
    "        \"num_heads\",\n",
    "        \"num_layers\",\n",
    "        \"ffn_hidden_dim\",\n",
    "        \"learning_rate\",\n",
    "    ]\n",
    ").mean()"
   ]
  },
  {
   "cell_type": "code",
   "execution_count": 36,
   "id": "b12e1066-9535-41e2-920c-a4abc6e81c45",
   "metadata": {},
   "outputs": [
    {
     "data": {
      "text/html": [
       "<div>\n",
       "<style scoped>\n",
       "    .dataframe tbody tr th:only-of-type {\n",
       "        vertical-align: middle;\n",
       "    }\n",
       "\n",
       "    .dataframe tbody tr th {\n",
       "        vertical-align: top;\n",
       "    }\n",
       "\n",
       "    .dataframe thead th {\n",
       "        text-align: right;\n",
       "    }\n",
       "</style>\n",
       "<table border=\"1\" class=\"dataframe\">\n",
       "  <thead>\n",
       "    <tr style=\"text-align: right;\">\n",
       "      <th></th>\n",
       "      <th>loss</th>\n",
       "      <th>accuracy</th>\n",
       "      <th>f1</th>\n",
       "      <th>f1_scores</th>\n",
       "      <th>precision</th>\n",
       "      <th>precision_scores</th>\n",
       "      <th>recall</th>\n",
       "      <th>recall_scores</th>\n",
       "      <th>valid_loss</th>\n",
       "      <th>valid_accuracy</th>\n",
       "      <th>...</th>\n",
       "      <th>learning_rate</th>\n",
       "      <th>seed</th>\n",
       "      <th>loss_function</th>\n",
       "      <th>gamma</th>\n",
       "      <th>k_fold</th>\n",
       "      <th>n_splits</th>\n",
       "      <th>augmentation_type</th>\n",
       "      <th>hidden_dim_aug</th>\n",
       "      <th>comb_method</th>\n",
       "      <th>batch_size</th>\n",
       "    </tr>\n",
       "  </thead>\n",
       "  <tbody>\n",
       "    <tr>\n",
       "      <th>0</th>\n",
       "      <td>None</td>\n",
       "      <td>0.668034</td>\n",
       "      <td>0.638056</td>\n",
       "      <td>[0.742220292372268, 0.5338916514001569]</td>\n",
       "      <td>0.637090</td>\n",
       "      <td>[0.749488453668518, 0.5246913580246914]</td>\n",
       "      <td>0.639256</td>\n",
       "      <td>[0.7350917431192661, 0.5434203516249334]</td>\n",
       "      <td>None</td>\n",
       "      <td>0.831783</td>\n",
       "      <td>...</td>\n",
       "      <td>0.0001</td>\n",
       "      <td>1</td>\n",
       "      <td>focal</td>\n",
       "      <td>2</td>\n",
       "      <td>True</td>\n",
       "      <td>5</td>\n",
       "      <td>Conv1d</td>\n",
       "      <td>None</td>\n",
       "      <td>concatenation</td>\n",
       "      <td>64</td>\n",
       "    </tr>\n",
       "    <tr>\n",
       "      <th>0</th>\n",
       "      <td>None</td>\n",
       "      <td>0.675862</td>\n",
       "      <td>0.652538</td>\n",
       "      <td>[0.7425610658771281, 0.5625157232704403]</td>\n",
       "      <td>0.650283</td>\n",
       "      <td>[0.7676767676767676, 0.5328884652049571]</td>\n",
       "      <td>0.657334</td>\n",
       "      <td>[0.7190366972477065, 0.595631326584976]</td>\n",
       "      <td>None</td>\n",
       "      <td>0.837984</td>\n",
       "      <td>...</td>\n",
       "      <td>0.0001</td>\n",
       "      <td>12</td>\n",
       "      <td>focal</td>\n",
       "      <td>2</td>\n",
       "      <td>True</td>\n",
       "      <td>5</td>\n",
       "      <td>Conv1d</td>\n",
       "      <td>None</td>\n",
       "      <td>concatenation</td>\n",
       "      <td>64</td>\n",
       "    </tr>\n",
       "    <tr>\n",
       "      <th>0</th>\n",
       "      <td>None</td>\n",
       "      <td>0.663374</td>\n",
       "      <td>0.629647</td>\n",
       "      <td>[0.7414089347079037, 0.5178857447944474]</td>\n",
       "      <td>0.629777</td>\n",
       "      <td>[0.7405606407322655, 0.5189941144997324]</td>\n",
       "      <td>0.629521</td>\n",
       "      <td>[0.7422591743119266, 0.5167820990942994]</td>\n",
       "      <td>None</td>\n",
       "      <td>0.825044</td>\n",
       "      <td>...</td>\n",
       "      <td>0.0001</td>\n",
       "      <td>123</td>\n",
       "      <td>focal</td>\n",
       "      <td>2</td>\n",
       "      <td>True</td>\n",
       "      <td>5</td>\n",
       "      <td>Conv1d</td>\n",
       "      <td>None</td>\n",
       "      <td>concatenation</td>\n",
       "      <td>64</td>\n",
       "    </tr>\n",
       "  </tbody>\n",
       "</table>\n",
       "<p>3 rows × 46 columns</p>\n",
       "</div>"
      ],
      "text/plain": [
       "   loss  accuracy        f1                                 f1_scores  \\\n",
       "0  None  0.668034  0.638056   [0.742220292372268, 0.5338916514001569]   \n",
       "0  None  0.675862  0.652538  [0.7425610658771281, 0.5625157232704403]   \n",
       "0  None  0.663374  0.629647  [0.7414089347079037, 0.5178857447944474]   \n",
       "\n",
       "   precision                          precision_scores    recall  \\\n",
       "0   0.637090   [0.749488453668518, 0.5246913580246914]  0.639256   \n",
       "0   0.650283  [0.7676767676767676, 0.5328884652049571]  0.657334   \n",
       "0   0.629777  [0.7405606407322655, 0.5189941144997324]  0.629521   \n",
       "\n",
       "                              recall_scores valid_loss  valid_accuracy  ...  \\\n",
       "0  [0.7350917431192661, 0.5434203516249334]       None        0.831783  ...   \n",
       "0   [0.7190366972477065, 0.595631326584976]       None        0.837984  ...   \n",
       "0  [0.7422591743119266, 0.5167820990942994]       None        0.825044  ...   \n",
       "\n",
       "   learning_rate seed  loss_function gamma  k_fold n_splits  \\\n",
       "0         0.0001    1          focal     2    True        5   \n",
       "0         0.0001   12          focal     2    True        5   \n",
       "0         0.0001  123          focal     2    True        5   \n",
       "\n",
       "   augmentation_type  hidden_dim_aug    comb_method  batch_size  \n",
       "0             Conv1d            None  concatenation          64  \n",
       "0             Conv1d            None  concatenation          64  \n",
       "0             Conv1d            None  concatenation          64  \n",
       "\n",
       "[3 rows x 46 columns]"
      ]
     },
     "execution_count": 36,
     "metadata": {},
     "output_type": "execute_result"
    }
   ],
   "source": [
    "best_seqsignet_attention_mha_umap_20"
   ]
  },
  {
   "cell_type": "code",
   "execution_count": 37,
   "id": "7c9b5b77-ffa2-43e3-8779-9d09f82d66f0",
   "metadata": {},
   "outputs": [
    {
     "data": {
      "text/html": [
       "<div>\n",
       "<style scoped>\n",
       "    .dataframe tbody tr th:only-of-type {\n",
       "        vertical-align: middle;\n",
       "    }\n",
       "\n",
       "    .dataframe tbody tr th {\n",
       "        vertical-align: top;\n",
       "    }\n",
       "\n",
       "    .dataframe thead th {\n",
       "        text-align: right;\n",
       "    }\n",
       "</style>\n",
       "<table border=\"1\" class=\"dataframe\">\n",
       "  <thead>\n",
       "    <tr style=\"text-align: right;\">\n",
       "      <th></th>\n",
       "      <th>dimensions</th>\n",
       "      <th>output_channels</th>\n",
       "      <th>sig_depth</th>\n",
       "      <th>num_heads</th>\n",
       "      <th>num_layers</th>\n",
       "      <th>ffn_hidden_dim</th>\n",
       "      <th>dropout_rate</th>\n",
       "      <th>learning_rate</th>\n",
       "    </tr>\n",
       "  </thead>\n",
       "  <tbody>\n",
       "    <tr>\n",
       "      <th>0</th>\n",
       "      <td>15</td>\n",
       "      <td>12</td>\n",
       "      <td>3</td>\n",
       "      <td>10</td>\n",
       "      <td>1</td>\n",
       "      <td>(256, 256)</td>\n",
       "      <td>0.1</td>\n",
       "      <td>0.0001</td>\n",
       "    </tr>\n",
       "    <tr>\n",
       "      <th>0</th>\n",
       "      <td>15</td>\n",
       "      <td>12</td>\n",
       "      <td>3</td>\n",
       "      <td>10</td>\n",
       "      <td>1</td>\n",
       "      <td>(256, 256)</td>\n",
       "      <td>0.1</td>\n",
       "      <td>0.0001</td>\n",
       "    </tr>\n",
       "    <tr>\n",
       "      <th>0</th>\n",
       "      <td>15</td>\n",
       "      <td>12</td>\n",
       "      <td>3</td>\n",
       "      <td>10</td>\n",
       "      <td>1</td>\n",
       "      <td>(256, 256)</td>\n",
       "      <td>0.1</td>\n",
       "      <td>0.0001</td>\n",
       "    </tr>\n",
       "  </tbody>\n",
       "</table>\n",
       "</div>"
      ],
      "text/plain": [
       "   dimensions  output_channels  sig_depth  num_heads  num_layers  \\\n",
       "0          15               12          3         10           1   \n",
       "0          15               12          3         10           1   \n",
       "0          15               12          3         10           1   \n",
       "\n",
       "  ffn_hidden_dim  dropout_rate  learning_rate  \n",
       "0     (256, 256)           0.1         0.0001  \n",
       "0     (256, 256)           0.1         0.0001  \n",
       "0     (256, 256)           0.1         0.0001  "
      ]
     },
     "execution_count": 37,
     "metadata": {},
     "output_type": "execute_result"
    }
   ],
   "source": [
    "best_seqsignet_attention_mha_umap_20[\n",
    "    [\n",
    "        \"dimensions\",\n",
    "        \"output_channels\",\n",
    "        \"sig_depth\",\n",
    "        \"num_heads\",\n",
    "        \"num_layers\",\n",
    "        \"ffn_hidden_dim\",\n",
    "        \"dropout_rate\",\n",
    "        \"learning_rate\",\n",
    "    ]\n",
    "]"
   ]
  },
  {
   "cell_type": "code",
   "execution_count": 38,
   "id": "3dc123cb-a317-4465-bc8d-bc4f39e0fac0",
   "metadata": {},
   "outputs": [
    {
     "data": {
      "text/plain": [
       "0.6400805687370573"
      ]
     },
     "execution_count": 38,
     "metadata": {},
     "output_type": "execute_result"
    }
   ],
   "source": [
    "best_seqsignet_attention_mha_umap_20[\"f1\"].mean()"
   ]
  },
  {
   "cell_type": "code",
   "execution_count": 39,
   "id": "9800c8d3-7916-4599-899a-80c6e3c82922",
   "metadata": {},
   "outputs": [
    {
     "data": {
      "text/plain": [
       "0.6390499666344887"
      ]
     },
     "execution_count": 39,
     "metadata": {},
     "output_type": "execute_result"
    }
   ],
   "source": [
    "best_seqsignet_attention_mha_umap_20[\"precision\"].mean()"
   ]
  },
  {
   "cell_type": "code",
   "execution_count": 40,
   "id": "993b65a2-ffbc-42dc-80a3-3cae72f6f048",
   "metadata": {},
   "outputs": [
    {
     "data": {
      "text/plain": [
       "0.6420368986638513"
      ]
     },
     "execution_count": 40,
     "metadata": {},
     "output_type": "execute_result"
    }
   ],
   "source": [
    "best_seqsignet_attention_mha_umap_20[\"recall\"].mean()"
   ]
  },
  {
   "cell_type": "code",
   "execution_count": 41,
   "id": "518378e7-c54b-4a62-9311-b72c4048a46b",
   "metadata": {},
   "outputs": [
    {
     "data": {
      "text/plain": [
       "array([0.74206343, 0.53809771])"
      ]
     },
     "execution_count": 41,
     "metadata": {},
     "output_type": "execute_result"
    }
   ],
   "source": [
    "np.stack(best_seqsignet_attention_mha_umap_20[\"f1_scores\"]).mean(axis=0)"
   ]
  },
  {
   "cell_type": "code",
   "execution_count": 42,
   "id": "072e1e50-94f6-45f7-a42d-5dfcc600811b",
   "metadata": {},
   "outputs": [
    {
     "data": {
      "text/plain": [
       "array([0.75257529, 0.52552465])"
      ]
     },
     "execution_count": 42,
     "metadata": {},
     "output_type": "execute_result"
    }
   ],
   "source": [
    "np.stack(best_seqsignet_attention_mha_umap_20[\"precision_scores\"]).mean(axis=0)"
   ]
  },
  {
   "cell_type": "code",
   "execution_count": 43,
   "id": "f0f37b83-22c7-4d02-bced-f8619d594716",
   "metadata": {},
   "outputs": [
    {
     "data": {
      "text/plain": [
       "array([0.7321292 , 0.55194459])"
      ]
     },
     "execution_count": 43,
     "metadata": {},
     "output_type": "execute_result"
    }
   ],
   "source": [
    "np.stack(best_seqsignet_attention_mha_umap_20[\"recall_scores\"]).mean(axis=0)"
   ]
  },
  {
   "cell_type": "markdown",
   "id": "dbd41486-2ef0-4663-9eb9-fae32edab339",
   "metadata": {},
   "source": [
    "## Random Projections"
   ]
  },
  {
   "cell_type": "code",
   "execution_count": 44,
   "id": "a632f791-38ff-49f2-bce1-1b3453d67c15",
   "metadata": {},
   "outputs": [
    {
     "data": {
      "application/vnd.jupyter.widget-view+json": {
       "model_id": "f8800b7d4b5b41eab2f5bcff7e5300c7",
       "version_major": 2,
       "version_minor": 0
      },
      "text/plain": [
       "  0%|          | 0/1 [00:00<?, ?it/s]"
      ]
     },
     "metadata": {},
     "output_type": "display_data"
    },
    {
     "data": {
      "application/vnd.jupyter.widget-view+json": {
       "model_id": "e04eb52c93fb47539c4516d33d60f71c",
       "version_major": 2,
       "version_minor": 0
      },
      "text/plain": [
       "  0%|          | 0/1 [00:00<?, ?it/s]"
      ]
     },
     "metadata": {},
     "output_type": "display_data"
    },
    {
     "name": "stdout",
     "output_type": "stream",
     "text": [
      "\n",
      "##################################################\n",
      "dimension: 15 | method: gaussian_random_projection\n",
      "given shift 3, window size 5 and n 6: history length = 20\n",
      "[INFO] Concatenating the embeddings to the dataframe...\n",
      "[INFO] - columns beginning with 'e' denote the full embddings.\n",
      "[INFO] - columns beginning with 'd' denote the dimension reduced embeddings.\n",
      "[INFO] Adding time feature columns into dataframe in `.df`.\n",
      "[INFO] Adding 'time_encoding' feature...\n",
      "[INFO] Adding 'time_diff' feature...\n",
      "[INFO] Adding 'timeline_index' feature...\n",
      "[INFO] Padding ids and storing in `.df_padded` and `.array_padded` attributes.\n"
     ]
    },
    {
     "data": {
      "application/vnd.jupyter.widget-view+json": {
       "model_id": "75cffd022590455a98fb17564122d8ea",
       "version_major": 2,
       "version_minor": 0
      },
      "text/plain": [
       "  0%|          | 0/5568 [00:00<?, ?it/s]"
      ]
     },
     "metadata": {},
     "output_type": "display_data"
    },
    {
     "name": "stdout",
     "output_type": "stream",
     "text": [
      "[INFO] The path was created for each item in the dataframe, by looking at its history, so to include embeddings in the FFN input, we concatenate the embeddings for each sentence / text.\n"
     ]
    },
    {
     "data": {
      "application/vnd.jupyter.widget-view+json": {
       "model_id": "7a3dfae14a44447ca7d3d3f3fa66d9db",
       "version_major": 2,
       "version_minor": 0
      },
      "text/plain": [
       "  0%|          | 0/2 [00:00<?, ?it/s]"
      ]
     },
     "metadata": {},
     "output_type": "display_data"
    },
    {
     "data": {
      "application/vnd.jupyter.widget-view+json": {
       "model_id": "85b761856fce46739c8a9e163ff155d2",
       "version_major": 2,
       "version_minor": 0
      },
      "text/plain": [
       "  0%|          | 0/1 [00:00<?, ?it/s]"
      ]
     },
     "metadata": {},
     "output_type": "display_data"
    },
    {
     "data": {
      "application/vnd.jupyter.widget-view+json": {
       "model_id": "c46798e47cd746fdbb309c8b43e3a07c",
       "version_major": 2,
       "version_minor": 0
      },
      "text/plain": [
       "  0%|          | 0/2 [00:00<?, ?it/s]"
      ]
     },
     "metadata": {},
     "output_type": "display_data"
    },
    {
     "data": {
      "application/vnd.jupyter.widget-view+json": {
       "model_id": "6f575796c36549509ebd92a92ab3cbbf",
       "version_major": 2,
       "version_minor": 0
      },
      "text/plain": [
       "  0%|          | 0/2 [00:00<?, ?it/s]"
      ]
     },
     "metadata": {},
     "output_type": "display_data"
    },
    {
     "data": {
      "application/vnd.jupyter.widget-view+json": {
       "model_id": "c4d7372dc621497a84afcfc4d9a3110a",
       "version_major": 2,
       "version_minor": 0
      },
      "text/plain": [
       "  0%|          | 0/3 [00:00<?, ?it/s]"
      ]
     },
     "metadata": {},
     "output_type": "display_data"
    },
    {
     "data": {
      "application/vnd.jupyter.widget-view+json": {
       "model_id": "e33b8b06cb644e139e8a16802b06e3f7",
       "version_major": 2,
       "version_minor": 0
      },
      "text/plain": [
       "  0%|          | 0/3 [00:00<?, ?it/s]"
      ]
     },
     "metadata": {},
     "output_type": "display_data"
    },
    {
     "data": {
      "application/vnd.jupyter.widget-view+json": {
       "model_id": "563fa4e7dd2d4870a14db47c8ab1a1e1",
       "version_major": 2,
       "version_minor": 0
      },
      "text/plain": [
       "  0%|          | 0/2 [00:00<?, ?it/s]"
      ]
     },
     "metadata": {},
     "output_type": "display_data"
    },
    {
     "data": {
      "application/vnd.jupyter.widget-view+json": {
       "model_id": "1ac8a20ae63b496dbef42b2104c67aa6",
       "version_major": 2,
       "version_minor": 0
      },
      "text/plain": [
       "  0%|          | 0/3 [00:00<?, ?it/s]"
      ]
     },
     "metadata": {},
     "output_type": "display_data"
    },
    {
     "data": {
      "application/vnd.jupyter.widget-view+json": {
       "model_id": "ca11692a5fdb4a919525b4b2a8837b65",
       "version_major": 2,
       "version_minor": 0
      },
      "text/plain": [
       "  0%|          | 0/3 [00:00<?, ?it/s]"
      ]
     },
     "metadata": {},
     "output_type": "display_data"
    },
    {
     "data": {
      "application/vnd.jupyter.widget-view+json": {
       "model_id": "a4e48ece23b64d43a335c9d6fb25f234",
       "version_major": 2,
       "version_minor": 0
      },
      "text/plain": [
       "  0%|          | 0/1 [00:00<?, ?it/s]"
      ]
     },
     "metadata": {},
     "output_type": "display_data"
    },
    {
     "data": {
      "application/vnd.jupyter.widget-view+json": {
       "model_id": "b347c46d48b0445dbf08f05b758dccbd",
       "version_major": 2,
       "version_minor": 0
      },
      "text/plain": [
       "  0%|          | 0/2 [00:00<?, ?it/s]"
      ]
     },
     "metadata": {},
     "output_type": "display_data"
    },
    {
     "data": {
      "application/vnd.jupyter.widget-view+json": {
       "model_id": "a3d84fe84465447ebb3220c6551c8f6e",
       "version_major": 2,
       "version_minor": 0
      },
      "text/plain": [
       "  0%|          | 0/2 [00:00<?, ?it/s]"
      ]
     },
     "metadata": {},
     "output_type": "display_data"
    },
    {
     "data": {
      "application/vnd.jupyter.widget-view+json": {
       "model_id": "4368d6a2d606454287320a5a5e39e3f8",
       "version_major": 2,
       "version_minor": 0
      },
      "text/plain": [
       "  0%|          | 0/3 [00:00<?, ?it/s]"
      ]
     },
     "metadata": {},
     "output_type": "display_data"
    },
    {
     "data": {
      "application/vnd.jupyter.widget-view+json": {
       "model_id": "9b99281fa4444069b0ecde107a96deb8",
       "version_major": 2,
       "version_minor": 0
      },
      "text/plain": [
       "  0%|          | 0/3 [00:00<?, ?it/s]"
      ]
     },
     "metadata": {},
     "output_type": "display_data"
    },
    {
     "data": {
      "application/vnd.jupyter.widget-view+json": {
       "model_id": "d229e4df37b949b089c9dd590049973d",
       "version_major": 2,
       "version_minor": 0
      },
      "text/plain": [
       "  0%|          | 0/2 [00:00<?, ?it/s]"
      ]
     },
     "metadata": {},
     "output_type": "display_data"
    },
    {
     "data": {
      "application/vnd.jupyter.widget-view+json": {
       "model_id": "2f2e86b3006f42d5a6c0eda50091c6cb",
       "version_major": 2,
       "version_minor": 0
      },
      "text/plain": [
       "  0%|          | 0/3 [00:00<?, ?it/s]"
      ]
     },
     "metadata": {},
     "output_type": "display_data"
    },
    {
     "data": {
      "application/vnd.jupyter.widget-view+json": {
       "model_id": "14f4b9e93d494de39ca660c8377df632",
       "version_major": 2,
       "version_minor": 0
      },
      "text/plain": [
       "  0%|          | 0/3 [00:00<?, ?it/s]"
      ]
     },
     "metadata": {},
     "output_type": "display_data"
    },
    {
     "name": "stdout",
     "output_type": "stream",
     "text": [
      "given shift 3, window size 5 and n 6: history length = 20\n",
      "[INFO] Concatenating the embeddings to the dataframe...\n",
      "[INFO] - columns beginning with 'e' denote the full embddings.\n",
      "[INFO] - columns beginning with 'd' denote the dimension reduced embeddings.\n",
      "[INFO] Adding time feature columns into dataframe in `.df`.\n",
      "[INFO] Adding 'time_encoding' feature...\n",
      "[INFO] Adding 'time_diff' feature...\n",
      "[INFO] Adding 'timeline_index' feature...\n",
      "[INFO] Padding ids and storing in `.df_padded` and `.array_padded` attributes.\n"
     ]
    },
    {
     "data": {
      "application/vnd.jupyter.widget-view+json": {
       "model_id": "3461726e7de8416ea289e469e5711ff4",
       "version_major": 2,
       "version_minor": 0
      },
      "text/plain": [
       "  0%|          | 0/5568 [00:00<?, ?it/s]"
      ]
     },
     "metadata": {},
     "output_type": "display_data"
    },
    {
     "name": "stdout",
     "output_type": "stream",
     "text": [
      "[INFO] The path was created for each item in the dataframe, by looking at its history, so to include embeddings in the FFN input, we concatenate the embeddings for each sentence / text.\n",
      "saving results dataframe to CSV for this hyperparameter search in rumours_output/seqsignet_attention_mha_grp_focal_2_3_5_6_kfold.csv\n",
      "saving the best model results dataframe to CSV for this hyperparameter search in rumours_output/seqsignet_attention_mha_grp_focal_2_3_5_6_kfold_best_model.csv\n"
     ]
    }
   ],
   "source": [
    "(\n",
    "    seqsignet_attention_mha_grp_20,\n",
    "    best_seqsignet_attention_mha_grp_20,\n",
    "    _,\n",
    "    __,\n",
    ") = seqsignet_full_attention_hyperparameter_search(\n",
    "    shift=shift,\n",
    "    window_size=window_size,\n",
    "    n=n,\n",
    "    dim_reduce_methods=[\"gaussian_random_projection\"],\n",
    "    results_output=f\"{output_dir}/seqsignet_attention_mha_grp_focal_{gamma}_{shift}_{window_size}_{n}_kfold.csv\",\n",
    "    **kwargs,\n",
    ")"
   ]
  },
  {
   "cell_type": "code",
   "execution_count": 45,
   "id": "d1d73e6e-2903-454f-ad50-1be853de1898",
   "metadata": {},
   "outputs": [
    {
     "name": "stderr",
     "output_type": "stream",
     "text": [
      "/tmp/ipykernel_2887417/910681948.py:1: FutureWarning: The default value of numeric_only in DataFrameGroupBy.mean is deprecated. In a future version, numeric_only will default to False. Either specify numeric_only or select only columns which should be valid for the function.\n",
      "  seqsignet_attention_mha_grp_20.groupby(\n"
     ]
    },
    {
     "data": {
      "text/html": [
       "<div>\n",
       "<style scoped>\n",
       "    .dataframe tbody tr th:only-of-type {\n",
       "        vertical-align: middle;\n",
       "    }\n",
       "\n",
       "    .dataframe tbody tr th {\n",
       "        vertical-align: top;\n",
       "    }\n",
       "\n",
       "    .dataframe thead th {\n",
       "        text-align: right;\n",
       "    }\n",
       "</style>\n",
       "<table border=\"1\" class=\"dataframe\">\n",
       "  <thead>\n",
       "    <tr style=\"text-align: right;\">\n",
       "      <th></th>\n",
       "      <th></th>\n",
       "      <th></th>\n",
       "      <th></th>\n",
       "      <th></th>\n",
       "      <th></th>\n",
       "      <th></th>\n",
       "      <th></th>\n",
       "      <th>accuracy</th>\n",
       "      <th>f1</th>\n",
       "      <th>precision</th>\n",
       "      <th>recall</th>\n",
       "      <th>valid_accuracy</th>\n",
       "      <th>valid_f1</th>\n",
       "      <th>valid_precision</th>\n",
       "      <th>valid_recall</th>\n",
       "      <th>k</th>\n",
       "      <th>shift</th>\n",
       "      <th>...</th>\n",
       "      <th>include_features_in_input</th>\n",
       "      <th>embedding_dim</th>\n",
       "      <th>num_features</th>\n",
       "      <th>log_signature</th>\n",
       "      <th>seed</th>\n",
       "      <th>gamma</th>\n",
       "      <th>k_fold</th>\n",
       "      <th>n_splits</th>\n",
       "      <th>batch_size</th>\n",
       "      <th>model_id</th>\n",
       "    </tr>\n",
       "    <tr>\n",
       "      <th>dimensions</th>\n",
       "      <th>output_channels</th>\n",
       "      <th>sig_depth</th>\n",
       "      <th>num_heads</th>\n",
       "      <th>num_layers</th>\n",
       "      <th>ffn_hidden_dim</th>\n",
       "      <th>dropout_rate</th>\n",
       "      <th>learning_rate</th>\n",
       "      <th></th>\n",
       "      <th></th>\n",
       "      <th></th>\n",
       "      <th></th>\n",
       "      <th></th>\n",
       "      <th></th>\n",
       "      <th></th>\n",
       "      <th></th>\n",
       "      <th></th>\n",
       "      <th></th>\n",
       "      <th></th>\n",
       "      <th></th>\n",
       "      <th></th>\n",
       "      <th></th>\n",
       "      <th></th>\n",
       "      <th></th>\n",
       "      <th></th>\n",
       "      <th></th>\n",
       "      <th></th>\n",
       "      <th></th>\n",
       "      <th></th>\n",
       "    </tr>\n",
       "  </thead>\n",
       "  <tbody>\n",
       "    <tr>\n",
       "      <th rowspan=\"24\" valign=\"top\">15</th>\n",
       "      <th rowspan=\"12\" valign=\"top\">8</th>\n",
       "      <th rowspan=\"12\" valign=\"top\">4</th>\n",
       "      <th rowspan=\"12\" valign=\"top\">6</th>\n",
       "      <th rowspan=\"12\" valign=\"top\">1</th>\n",
       "      <th rowspan=\"6\" valign=\"top\">(256, 256)</th>\n",
       "      <th rowspan=\"3\" valign=\"top\">0.1</th>\n",
       "      <th>0.0001</th>\n",
       "      <td>0.681019</td>\n",
       "      <td>0.658516</td>\n",
       "      <td>0.656480</td>\n",
       "      <td>0.663761</td>\n",
       "      <td>0.827829</td>\n",
       "      <td>0.819903</td>\n",
       "      <td>0.816753</td>\n",
       "      <td>0.824631</td>\n",
       "      <td>20.0</td>\n",
       "      <td>3.0</td>\n",
       "      <td>...</td>\n",
       "      <td>0.0</td>\n",
       "      <td>384.0</td>\n",
       "      <td>0.0</td>\n",
       "      <td>1.0</td>\n",
       "      <td>45.333333</td>\n",
       "      <td>2.0</td>\n",
       "      <td>1.0</td>\n",
       "      <td>5.0</td>\n",
       "      <td>64.0</td>\n",
       "      <td>13.0</td>\n",
       "    </tr>\n",
       "    <tr>\n",
       "      <th>0.0005</th>\n",
       "      <td>0.685492</td>\n",
       "      <td>0.666930</td>\n",
       "      <td>0.664670</td>\n",
       "      <td>0.675526</td>\n",
       "      <td>0.816642</td>\n",
       "      <td>0.809321</td>\n",
       "      <td>0.805647</td>\n",
       "      <td>0.816339</td>\n",
       "      <td>20.0</td>\n",
       "      <td>3.0</td>\n",
       "      <td>...</td>\n",
       "      <td>0.0</td>\n",
       "      <td>384.0</td>\n",
       "      <td>0.0</td>\n",
       "      <td>1.0</td>\n",
       "      <td>45.333333</td>\n",
       "      <td>2.0</td>\n",
       "      <td>1.0</td>\n",
       "      <td>5.0</td>\n",
       "      <td>64.0</td>\n",
       "      <td>14.0</td>\n",
       "    </tr>\n",
       "    <tr>\n",
       "      <th>0.0010</th>\n",
       "      <td>0.683815</td>\n",
       "      <td>0.660708</td>\n",
       "      <td>0.659106</td>\n",
       "      <td>0.666034</td>\n",
       "      <td>0.765242</td>\n",
       "      <td>0.752629</td>\n",
       "      <td>0.751938</td>\n",
       "      <td>0.754191</td>\n",
       "      <td>20.0</td>\n",
       "      <td>3.0</td>\n",
       "      <td>...</td>\n",
       "      <td>0.0</td>\n",
       "      <td>384.0</td>\n",
       "      <td>0.0</td>\n",
       "      <td>1.0</td>\n",
       "      <td>45.333333</td>\n",
       "      <td>2.0</td>\n",
       "      <td>1.0</td>\n",
       "      <td>5.0</td>\n",
       "      <td>64.0</td>\n",
       "      <td>12.0</td>\n",
       "    </tr>\n",
       "    <tr>\n",
       "      <th rowspan=\"3\" valign=\"top\">0.2</th>\n",
       "      <th>0.0001</th>\n",
       "      <td>0.678161</td>\n",
       "      <td>0.659291</td>\n",
       "      <td>0.657514</td>\n",
       "      <td>0.667632</td>\n",
       "      <td>0.817271</td>\n",
       "      <td>0.810426</td>\n",
       "      <td>0.806668</td>\n",
       "      <td>0.818182</td>\n",
       "      <td>20.0</td>\n",
       "      <td>3.0</td>\n",
       "      <td>...</td>\n",
       "      <td>0.0</td>\n",
       "      <td>384.0</td>\n",
       "      <td>0.0</td>\n",
       "      <td>1.0</td>\n",
       "      <td>45.333333</td>\n",
       "      <td>2.0</td>\n",
       "      <td>1.0</td>\n",
       "      <td>5.0</td>\n",
       "      <td>64.0</td>\n",
       "      <td>16.0</td>\n",
       "    </tr>\n",
       "    <tr>\n",
       "      <th>0.0005</th>\n",
       "      <td>0.675241</td>\n",
       "      <td>0.656236</td>\n",
       "      <td>0.654217</td>\n",
       "      <td>0.664525</td>\n",
       "      <td>0.819787</td>\n",
       "      <td>0.812754</td>\n",
       "      <td>0.808989</td>\n",
       "      <td>0.820012</td>\n",
       "      <td>20.0</td>\n",
       "      <td>3.0</td>\n",
       "      <td>...</td>\n",
       "      <td>0.0</td>\n",
       "      <td>384.0</td>\n",
       "      <td>0.0</td>\n",
       "      <td>1.0</td>\n",
       "      <td>45.333333</td>\n",
       "      <td>2.0</td>\n",
       "      <td>1.0</td>\n",
       "      <td>5.0</td>\n",
       "      <td>64.0</td>\n",
       "      <td>17.0</td>\n",
       "    </tr>\n",
       "    <tr>\n",
       "      <th>0.0010</th>\n",
       "      <td>0.689469</td>\n",
       "      <td>0.655266</td>\n",
       "      <td>0.657892</td>\n",
       "      <td>0.654675</td>\n",
       "      <td>0.750056</td>\n",
       "      <td>0.730394</td>\n",
       "      <td>0.736232</td>\n",
       "      <td>0.728206</td>\n",
       "      <td>20.0</td>\n",
       "      <td>3.0</td>\n",
       "      <td>...</td>\n",
       "      <td>0.0</td>\n",
       "      <td>384.0</td>\n",
       "      <td>0.0</td>\n",
       "      <td>1.0</td>\n",
       "      <td>45.333333</td>\n",
       "      <td>2.0</td>\n",
       "      <td>1.0</td>\n",
       "      <td>5.0</td>\n",
       "      <td>64.0</td>\n",
       "      <td>15.0</td>\n",
       "    </tr>\n",
       "    <tr>\n",
       "      <th rowspan=\"6\" valign=\"top\">(512, 512)</th>\n",
       "      <th rowspan=\"3\" valign=\"top\">0.1</th>\n",
       "      <th>0.0001</th>\n",
       "      <td>0.677788</td>\n",
       "      <td>0.655299</td>\n",
       "      <td>0.654083</td>\n",
       "      <td>0.661194</td>\n",
       "      <td>0.826032</td>\n",
       "      <td>0.818115</td>\n",
       "      <td>0.815106</td>\n",
       "      <td>0.823179</td>\n",
       "      <td>20.0</td>\n",
       "      <td>3.0</td>\n",
       "      <td>...</td>\n",
       "      <td>0.0</td>\n",
       "      <td>384.0</td>\n",
       "      <td>0.0</td>\n",
       "      <td>1.0</td>\n",
       "      <td>45.333333</td>\n",
       "      <td>2.0</td>\n",
       "      <td>1.0</td>\n",
       "      <td>5.0</td>\n",
       "      <td>64.0</td>\n",
       "      <td>19.0</td>\n",
       "    </tr>\n",
       "    <tr>\n",
       "      <th>0.0005</th>\n",
       "      <td>0.680708</td>\n",
       "      <td>0.661752</td>\n",
       "      <td>0.661049</td>\n",
       "      <td>0.671027</td>\n",
       "      <td>0.787707</td>\n",
       "      <td>0.778290</td>\n",
       "      <td>0.776344</td>\n",
       "      <td>0.784382</td>\n",
       "      <td>20.0</td>\n",
       "      <td>3.0</td>\n",
       "      <td>...</td>\n",
       "      <td>0.0</td>\n",
       "      <td>384.0</td>\n",
       "      <td>0.0</td>\n",
       "      <td>1.0</td>\n",
       "      <td>45.333333</td>\n",
       "      <td>2.0</td>\n",
       "      <td>1.0</td>\n",
       "      <td>5.0</td>\n",
       "      <td>64.0</td>\n",
       "      <td>20.0</td>\n",
       "    </tr>\n",
       "    <tr>\n",
       "      <th>0.0010</th>\n",
       "      <td>0.686114</td>\n",
       "      <td>0.662967</td>\n",
       "      <td>0.663829</td>\n",
       "      <td>0.669319</td>\n",
       "      <td>0.754145</td>\n",
       "      <td>0.738791</td>\n",
       "      <td>0.745490</td>\n",
       "      <td>0.741037</td>\n",
       "      <td>20.0</td>\n",
       "      <td>3.0</td>\n",
       "      <td>...</td>\n",
       "      <td>0.0</td>\n",
       "      <td>384.0</td>\n",
       "      <td>0.0</td>\n",
       "      <td>1.0</td>\n",
       "      <td>45.333333</td>\n",
       "      <td>2.0</td>\n",
       "      <td>1.0</td>\n",
       "      <td>5.0</td>\n",
       "      <td>64.0</td>\n",
       "      <td>18.0</td>\n",
       "    </tr>\n",
       "    <tr>\n",
       "      <th rowspan=\"3\" valign=\"top\">0.2</th>\n",
       "      <th>0.0001</th>\n",
       "      <td>0.686176</td>\n",
       "      <td>0.660934</td>\n",
       "      <td>0.659285</td>\n",
       "      <td>0.664815</td>\n",
       "      <td>0.826931</td>\n",
       "      <td>0.817522</td>\n",
       "      <td>0.816106</td>\n",
       "      <td>0.819673</td>\n",
       "      <td>20.0</td>\n",
       "      <td>3.0</td>\n",
       "      <td>...</td>\n",
       "      <td>0.0</td>\n",
       "      <td>384.0</td>\n",
       "      <td>0.0</td>\n",
       "      <td>1.0</td>\n",
       "      <td>45.333333</td>\n",
       "      <td>2.0</td>\n",
       "      <td>1.0</td>\n",
       "      <td>5.0</td>\n",
       "      <td>64.0</td>\n",
       "      <td>22.0</td>\n",
       "    </tr>\n",
       "    <tr>\n",
       "      <th>0.0005</th>\n",
       "      <td>0.672010</td>\n",
       "      <td>0.652836</td>\n",
       "      <td>0.651562</td>\n",
       "      <td>0.661097</td>\n",
       "      <td>0.791167</td>\n",
       "      <td>0.783901</td>\n",
       "      <td>0.781854</td>\n",
       "      <td>0.793401</td>\n",
       "      <td>20.0</td>\n",
       "      <td>3.0</td>\n",
       "      <td>...</td>\n",
       "      <td>0.0</td>\n",
       "      <td>384.0</td>\n",
       "      <td>0.0</td>\n",
       "      <td>1.0</td>\n",
       "      <td>45.333333</td>\n",
       "      <td>2.0</td>\n",
       "      <td>1.0</td>\n",
       "      <td>5.0</td>\n",
       "      <td>64.0</td>\n",
       "      <td>23.0</td>\n",
       "    </tr>\n",
       "    <tr>\n",
       "      <th>0.0010</th>\n",
       "      <td>0.692948</td>\n",
       "      <td>0.650664</td>\n",
       "      <td>0.659888</td>\n",
       "      <td>0.649230</td>\n",
       "      <td>0.756975</td>\n",
       "      <td>0.726752</td>\n",
       "      <td>0.748580</td>\n",
       "      <td>0.724472</td>\n",
       "      <td>20.0</td>\n",
       "      <td>3.0</td>\n",
       "      <td>...</td>\n",
       "      <td>0.0</td>\n",
       "      <td>384.0</td>\n",
       "      <td>0.0</td>\n",
       "      <td>1.0</td>\n",
       "      <td>45.333333</td>\n",
       "      <td>2.0</td>\n",
       "      <td>1.0</td>\n",
       "      <td>5.0</td>\n",
       "      <td>64.0</td>\n",
       "      <td>21.0</td>\n",
       "    </tr>\n",
       "    <tr>\n",
       "      <th rowspan=\"12\" valign=\"top\">12</th>\n",
       "      <th rowspan=\"12\" valign=\"top\">3</th>\n",
       "      <th rowspan=\"12\" valign=\"top\">10</th>\n",
       "      <th rowspan=\"12\" valign=\"top\">1</th>\n",
       "      <th rowspan=\"6\" valign=\"top\">(256, 256)</th>\n",
       "      <th rowspan=\"3\" valign=\"top\">0.1</th>\n",
       "      <th>0.0001</th>\n",
       "      <td>0.665610</td>\n",
       "      <td>0.645138</td>\n",
       "      <td>0.643561</td>\n",
       "      <td>0.652649</td>\n",
       "      <td>0.841668</td>\n",
       "      <td>0.835152</td>\n",
       "      <td>0.831368</td>\n",
       "      <td>0.842059</td>\n",
       "      <td>20.0</td>\n",
       "      <td>3.0</td>\n",
       "      <td>...</td>\n",
       "      <td>0.0</td>\n",
       "      <td>384.0</td>\n",
       "      <td>0.0</td>\n",
       "      <td>1.0</td>\n",
       "      <td>45.333333</td>\n",
       "      <td>2.0</td>\n",
       "      <td>1.0</td>\n",
       "      <td>5.0</td>\n",
       "      <td>64.0</td>\n",
       "      <td>1.0</td>\n",
       "    </tr>\n",
       "    <tr>\n",
       "      <th>0.0005</th>\n",
       "      <td>0.679963</td>\n",
       "      <td>0.657812</td>\n",
       "      <td>0.655481</td>\n",
       "      <td>0.663482</td>\n",
       "      <td>0.836141</td>\n",
       "      <td>0.829183</td>\n",
       "      <td>0.825417</td>\n",
       "      <td>0.835399</td>\n",
       "      <td>20.0</td>\n",
       "      <td>3.0</td>\n",
       "      <td>...</td>\n",
       "      <td>0.0</td>\n",
       "      <td>384.0</td>\n",
       "      <td>0.0</td>\n",
       "      <td>1.0</td>\n",
       "      <td>45.333333</td>\n",
       "      <td>2.0</td>\n",
       "      <td>1.0</td>\n",
       "      <td>5.0</td>\n",
       "      <td>64.0</td>\n",
       "      <td>2.0</td>\n",
       "    </tr>\n",
       "    <tr>\n",
       "      <th>0.0010</th>\n",
       "      <td>0.677664</td>\n",
       "      <td>0.657583</td>\n",
       "      <td>0.655943</td>\n",
       "      <td>0.665158</td>\n",
       "      <td>0.825493</td>\n",
       "      <td>0.818922</td>\n",
       "      <td>0.815471</td>\n",
       "      <td>0.827021</td>\n",
       "      <td>20.0</td>\n",
       "      <td>3.0</td>\n",
       "      <td>...</td>\n",
       "      <td>0.0</td>\n",
       "      <td>384.0</td>\n",
       "      <td>0.0</td>\n",
       "      <td>1.0</td>\n",
       "      <td>45.333333</td>\n",
       "      <td>2.0</td>\n",
       "      <td>1.0</td>\n",
       "      <td>5.0</td>\n",
       "      <td>64.0</td>\n",
       "      <td>0.0</td>\n",
       "    </tr>\n",
       "    <tr>\n",
       "      <th rowspan=\"3\" valign=\"top\">0.2</th>\n",
       "      <th>0.0001</th>\n",
       "      <td>0.666418</td>\n",
       "      <td>0.645538</td>\n",
       "      <td>0.644078</td>\n",
       "      <td>0.652819</td>\n",
       "      <td>0.844948</td>\n",
       "      <td>0.838764</td>\n",
       "      <td>0.834996</td>\n",
       "      <td>0.846316</td>\n",
       "      <td>20.0</td>\n",
       "      <td>3.0</td>\n",
       "      <td>...</td>\n",
       "      <td>0.0</td>\n",
       "      <td>384.0</td>\n",
       "      <td>0.0</td>\n",
       "      <td>1.0</td>\n",
       "      <td>45.333333</td>\n",
       "      <td>2.0</td>\n",
       "      <td>1.0</td>\n",
       "      <td>5.0</td>\n",
       "      <td>64.0</td>\n",
       "      <td>4.0</td>\n",
       "    </tr>\n",
       "    <tr>\n",
       "      <th>0.0005</th>\n",
       "      <td>0.682945</td>\n",
       "      <td>0.659526</td>\n",
       "      <td>0.657560</td>\n",
       "      <td>0.664176</td>\n",
       "      <td>0.833131</td>\n",
       "      <td>0.826414</td>\n",
       "      <td>0.822539</td>\n",
       "      <td>0.833419</td>\n",
       "      <td>20.0</td>\n",
       "      <td>3.0</td>\n",
       "      <td>...</td>\n",
       "      <td>0.0</td>\n",
       "      <td>384.0</td>\n",
       "      <td>0.0</td>\n",
       "      <td>1.0</td>\n",
       "      <td>45.333333</td>\n",
       "      <td>2.0</td>\n",
       "      <td>1.0</td>\n",
       "      <td>5.0</td>\n",
       "      <td>64.0</td>\n",
       "      <td>5.0</td>\n",
       "    </tr>\n",
       "    <tr>\n",
       "      <th>0.0010</th>\n",
       "      <td>0.681454</td>\n",
       "      <td>0.659685</td>\n",
       "      <td>0.657517</td>\n",
       "      <td>0.665736</td>\n",
       "      <td>0.810666</td>\n",
       "      <td>0.802614</td>\n",
       "      <td>0.799264</td>\n",
       "      <td>0.808297</td>\n",
       "      <td>20.0</td>\n",
       "      <td>3.0</td>\n",
       "      <td>...</td>\n",
       "      <td>0.0</td>\n",
       "      <td>384.0</td>\n",
       "      <td>0.0</td>\n",
       "      <td>1.0</td>\n",
       "      <td>45.333333</td>\n",
       "      <td>2.0</td>\n",
       "      <td>1.0</td>\n",
       "      <td>5.0</td>\n",
       "      <td>64.0</td>\n",
       "      <td>3.0</td>\n",
       "    </tr>\n",
       "    <tr>\n",
       "      <th rowspan=\"6\" valign=\"top\">(512, 512)</th>\n",
       "      <th rowspan=\"3\" valign=\"top\">0.1</th>\n",
       "      <th>0.0001</th>\n",
       "      <td>0.678596</td>\n",
       "      <td>0.658588</td>\n",
       "      <td>0.656516</td>\n",
       "      <td>0.666080</td>\n",
       "      <td>0.843195</td>\n",
       "      <td>0.836928</td>\n",
       "      <td>0.832894</td>\n",
       "      <td>0.844267</td>\n",
       "      <td>20.0</td>\n",
       "      <td>3.0</td>\n",
       "      <td>...</td>\n",
       "      <td>0.0</td>\n",
       "      <td>384.0</td>\n",
       "      <td>0.0</td>\n",
       "      <td>1.0</td>\n",
       "      <td>45.333333</td>\n",
       "      <td>2.0</td>\n",
       "      <td>1.0</td>\n",
       "      <td>5.0</td>\n",
       "      <td>64.0</td>\n",
       "      <td>7.0</td>\n",
       "    </tr>\n",
       "    <tr>\n",
       "      <th>0.0005</th>\n",
       "      <td>0.676235</td>\n",
       "      <td>0.656827</td>\n",
       "      <td>0.654750</td>\n",
       "      <td>0.664839</td>\n",
       "      <td>0.829672</td>\n",
       "      <td>0.821686</td>\n",
       "      <td>0.818610</td>\n",
       "      <td>0.826097</td>\n",
       "      <td>20.0</td>\n",
       "      <td>3.0</td>\n",
       "      <td>...</td>\n",
       "      <td>0.0</td>\n",
       "      <td>384.0</td>\n",
       "      <td>0.0</td>\n",
       "      <td>1.0</td>\n",
       "      <td>45.333333</td>\n",
       "      <td>2.0</td>\n",
       "      <td>1.0</td>\n",
       "      <td>5.0</td>\n",
       "      <td>64.0</td>\n",
       "      <td>8.0</td>\n",
       "    </tr>\n",
       "    <tr>\n",
       "      <th>0.0010</th>\n",
       "      <td>0.674433</td>\n",
       "      <td>0.655504</td>\n",
       "      <td>0.653574</td>\n",
       "      <td>0.663986</td>\n",
       "      <td>0.824055</td>\n",
       "      <td>0.816436</td>\n",
       "      <td>0.813087</td>\n",
       "      <td>0.822193</td>\n",
       "      <td>20.0</td>\n",
       "      <td>3.0</td>\n",
       "      <td>...</td>\n",
       "      <td>0.0</td>\n",
       "      <td>384.0</td>\n",
       "      <td>0.0</td>\n",
       "      <td>1.0</td>\n",
       "      <td>45.333333</td>\n",
       "      <td>2.0</td>\n",
       "      <td>1.0</td>\n",
       "      <td>5.0</td>\n",
       "      <td>64.0</td>\n",
       "      <td>6.0</td>\n",
       "    </tr>\n",
       "    <tr>\n",
       "      <th rowspan=\"3\" valign=\"top\">0.2</th>\n",
       "      <th>0.0001</th>\n",
       "      <td>0.681454</td>\n",
       "      <td>0.662873</td>\n",
       "      <td>0.660695</td>\n",
       "      <td>0.671518</td>\n",
       "      <td>0.838702</td>\n",
       "      <td>0.832400</td>\n",
       "      <td>0.828330</td>\n",
       "      <td>0.840025</td>\n",
       "      <td>20.0</td>\n",
       "      <td>3.0</td>\n",
       "      <td>...</td>\n",
       "      <td>0.0</td>\n",
       "      <td>384.0</td>\n",
       "      <td>0.0</td>\n",
       "      <td>1.0</td>\n",
       "      <td>45.333333</td>\n",
       "      <td>2.0</td>\n",
       "      <td>1.0</td>\n",
       "      <td>5.0</td>\n",
       "      <td>64.0</td>\n",
       "      <td>10.0</td>\n",
       "    </tr>\n",
       "    <tr>\n",
       "      <th>0.0005</th>\n",
       "      <td>0.670581</td>\n",
       "      <td>0.654537</td>\n",
       "      <td>0.653924</td>\n",
       "      <td>0.666314</td>\n",
       "      <td>0.831424</td>\n",
       "      <td>0.825154</td>\n",
       "      <td>0.821499</td>\n",
       "      <td>0.833805</td>\n",
       "      <td>20.0</td>\n",
       "      <td>3.0</td>\n",
       "      <td>...</td>\n",
       "      <td>0.0</td>\n",
       "      <td>384.0</td>\n",
       "      <td>0.0</td>\n",
       "      <td>1.0</td>\n",
       "      <td>45.333333</td>\n",
       "      <td>2.0</td>\n",
       "      <td>1.0</td>\n",
       "      <td>5.0</td>\n",
       "      <td>64.0</td>\n",
       "      <td>11.0</td>\n",
       "    </tr>\n",
       "    <tr>\n",
       "      <th>0.0010</th>\n",
       "      <td>0.672321</td>\n",
       "      <td>0.653954</td>\n",
       "      <td>0.653283</td>\n",
       "      <td>0.663715</td>\n",
       "      <td>0.798805</td>\n",
       "      <td>0.790683</td>\n",
       "      <td>0.787802</td>\n",
       "      <td>0.797581</td>\n",
       "      <td>20.0</td>\n",
       "      <td>3.0</td>\n",
       "      <td>...</td>\n",
       "      <td>0.0</td>\n",
       "      <td>384.0</td>\n",
       "      <td>0.0</td>\n",
       "      <td>1.0</td>\n",
       "      <td>45.333333</td>\n",
       "      <td>2.0</td>\n",
       "      <td>1.0</td>\n",
       "      <td>5.0</td>\n",
       "      <td>64.0</td>\n",
       "      <td>9.0</td>\n",
       "    </tr>\n",
       "  </tbody>\n",
       "</table>\n",
       "<p>24 rows × 24 columns</p>\n",
       "</div>"
      ],
      "text/plain": [
       "                                                                                                     accuracy  \\\n",
       "dimensions output_channels sig_depth num_heads num_layers ffn_hidden_dim dropout_rate learning_rate             \n",
       "15         8               4         6         1          (256, 256)     0.1          0.0001         0.681019   \n",
       "                                                                                      0.0005         0.685492   \n",
       "                                                                                      0.0010         0.683815   \n",
       "                                                                         0.2          0.0001         0.678161   \n",
       "                                                                                      0.0005         0.675241   \n",
       "                                                                                      0.0010         0.689469   \n",
       "                                                          (512, 512)     0.1          0.0001         0.677788   \n",
       "                                                                                      0.0005         0.680708   \n",
       "                                                                                      0.0010         0.686114   \n",
       "                                                                         0.2          0.0001         0.686176   \n",
       "                                                                                      0.0005         0.672010   \n",
       "                                                                                      0.0010         0.692948   \n",
       "           12              3         10        1          (256, 256)     0.1          0.0001         0.665610   \n",
       "                                                                                      0.0005         0.679963   \n",
       "                                                                                      0.0010         0.677664   \n",
       "                                                                         0.2          0.0001         0.666418   \n",
       "                                                                                      0.0005         0.682945   \n",
       "                                                                                      0.0010         0.681454   \n",
       "                                                          (512, 512)     0.1          0.0001         0.678596   \n",
       "                                                                                      0.0005         0.676235   \n",
       "                                                                                      0.0010         0.674433   \n",
       "                                                                         0.2          0.0001         0.681454   \n",
       "                                                                                      0.0005         0.670581   \n",
       "                                                                                      0.0010         0.672321   \n",
       "\n",
       "                                                                                                           f1  \\\n",
       "dimensions output_channels sig_depth num_heads num_layers ffn_hidden_dim dropout_rate learning_rate             \n",
       "15         8               4         6         1          (256, 256)     0.1          0.0001         0.658516   \n",
       "                                                                                      0.0005         0.666930   \n",
       "                                                                                      0.0010         0.660708   \n",
       "                                                                         0.2          0.0001         0.659291   \n",
       "                                                                                      0.0005         0.656236   \n",
       "                                                                                      0.0010         0.655266   \n",
       "                                                          (512, 512)     0.1          0.0001         0.655299   \n",
       "                                                                                      0.0005         0.661752   \n",
       "                                                                                      0.0010         0.662967   \n",
       "                                                                         0.2          0.0001         0.660934   \n",
       "                                                                                      0.0005         0.652836   \n",
       "                                                                                      0.0010         0.650664   \n",
       "           12              3         10        1          (256, 256)     0.1          0.0001         0.645138   \n",
       "                                                                                      0.0005         0.657812   \n",
       "                                                                                      0.0010         0.657583   \n",
       "                                                                         0.2          0.0001         0.645538   \n",
       "                                                                                      0.0005         0.659526   \n",
       "                                                                                      0.0010         0.659685   \n",
       "                                                          (512, 512)     0.1          0.0001         0.658588   \n",
       "                                                                                      0.0005         0.656827   \n",
       "                                                                                      0.0010         0.655504   \n",
       "                                                                         0.2          0.0001         0.662873   \n",
       "                                                                                      0.0005         0.654537   \n",
       "                                                                                      0.0010         0.653954   \n",
       "\n",
       "                                                                                                     precision  \\\n",
       "dimensions output_channels sig_depth num_heads num_layers ffn_hidden_dim dropout_rate learning_rate              \n",
       "15         8               4         6         1          (256, 256)     0.1          0.0001          0.656480   \n",
       "                                                                                      0.0005          0.664670   \n",
       "                                                                                      0.0010          0.659106   \n",
       "                                                                         0.2          0.0001          0.657514   \n",
       "                                                                                      0.0005          0.654217   \n",
       "                                                                                      0.0010          0.657892   \n",
       "                                                          (512, 512)     0.1          0.0001          0.654083   \n",
       "                                                                                      0.0005          0.661049   \n",
       "                                                                                      0.0010          0.663829   \n",
       "                                                                         0.2          0.0001          0.659285   \n",
       "                                                                                      0.0005          0.651562   \n",
       "                                                                                      0.0010          0.659888   \n",
       "           12              3         10        1          (256, 256)     0.1          0.0001          0.643561   \n",
       "                                                                                      0.0005          0.655481   \n",
       "                                                                                      0.0010          0.655943   \n",
       "                                                                         0.2          0.0001          0.644078   \n",
       "                                                                                      0.0005          0.657560   \n",
       "                                                                                      0.0010          0.657517   \n",
       "                                                          (512, 512)     0.1          0.0001          0.656516   \n",
       "                                                                                      0.0005          0.654750   \n",
       "                                                                                      0.0010          0.653574   \n",
       "                                                                         0.2          0.0001          0.660695   \n",
       "                                                                                      0.0005          0.653924   \n",
       "                                                                                      0.0010          0.653283   \n",
       "\n",
       "                                                                                                       recall  \\\n",
       "dimensions output_channels sig_depth num_heads num_layers ffn_hidden_dim dropout_rate learning_rate             \n",
       "15         8               4         6         1          (256, 256)     0.1          0.0001         0.663761   \n",
       "                                                                                      0.0005         0.675526   \n",
       "                                                                                      0.0010         0.666034   \n",
       "                                                                         0.2          0.0001         0.667632   \n",
       "                                                                                      0.0005         0.664525   \n",
       "                                                                                      0.0010         0.654675   \n",
       "                                                          (512, 512)     0.1          0.0001         0.661194   \n",
       "                                                                                      0.0005         0.671027   \n",
       "                                                                                      0.0010         0.669319   \n",
       "                                                                         0.2          0.0001         0.664815   \n",
       "                                                                                      0.0005         0.661097   \n",
       "                                                                                      0.0010         0.649230   \n",
       "           12              3         10        1          (256, 256)     0.1          0.0001         0.652649   \n",
       "                                                                                      0.0005         0.663482   \n",
       "                                                                                      0.0010         0.665158   \n",
       "                                                                         0.2          0.0001         0.652819   \n",
       "                                                                                      0.0005         0.664176   \n",
       "                                                                                      0.0010         0.665736   \n",
       "                                                          (512, 512)     0.1          0.0001         0.666080   \n",
       "                                                                                      0.0005         0.664839   \n",
       "                                                                                      0.0010         0.663986   \n",
       "                                                                         0.2          0.0001         0.671518   \n",
       "                                                                                      0.0005         0.666314   \n",
       "                                                                                      0.0010         0.663715   \n",
       "\n",
       "                                                                                                     valid_accuracy  \\\n",
       "dimensions output_channels sig_depth num_heads num_layers ffn_hidden_dim dropout_rate learning_rate                   \n",
       "15         8               4         6         1          (256, 256)     0.1          0.0001               0.827829   \n",
       "                                                                                      0.0005               0.816642   \n",
       "                                                                                      0.0010               0.765242   \n",
       "                                                                         0.2          0.0001               0.817271   \n",
       "                                                                                      0.0005               0.819787   \n",
       "                                                                                      0.0010               0.750056   \n",
       "                                                          (512, 512)     0.1          0.0001               0.826032   \n",
       "                                                                                      0.0005               0.787707   \n",
       "                                                                                      0.0010               0.754145   \n",
       "                                                                         0.2          0.0001               0.826931   \n",
       "                                                                                      0.0005               0.791167   \n",
       "                                                                                      0.0010               0.756975   \n",
       "           12              3         10        1          (256, 256)     0.1          0.0001               0.841668   \n",
       "                                                                                      0.0005               0.836141   \n",
       "                                                                                      0.0010               0.825493   \n",
       "                                                                         0.2          0.0001               0.844948   \n",
       "                                                                                      0.0005               0.833131   \n",
       "                                                                                      0.0010               0.810666   \n",
       "                                                          (512, 512)     0.1          0.0001               0.843195   \n",
       "                                                                                      0.0005               0.829672   \n",
       "                                                                                      0.0010               0.824055   \n",
       "                                                                         0.2          0.0001               0.838702   \n",
       "                                                                                      0.0005               0.831424   \n",
       "                                                                                      0.0010               0.798805   \n",
       "\n",
       "                                                                                                     valid_f1  \\\n",
       "dimensions output_channels sig_depth num_heads num_layers ffn_hidden_dim dropout_rate learning_rate             \n",
       "15         8               4         6         1          (256, 256)     0.1          0.0001         0.819903   \n",
       "                                                                                      0.0005         0.809321   \n",
       "                                                                                      0.0010         0.752629   \n",
       "                                                                         0.2          0.0001         0.810426   \n",
       "                                                                                      0.0005         0.812754   \n",
       "                                                                                      0.0010         0.730394   \n",
       "                                                          (512, 512)     0.1          0.0001         0.818115   \n",
       "                                                                                      0.0005         0.778290   \n",
       "                                                                                      0.0010         0.738791   \n",
       "                                                                         0.2          0.0001         0.817522   \n",
       "                                                                                      0.0005         0.783901   \n",
       "                                                                                      0.0010         0.726752   \n",
       "           12              3         10        1          (256, 256)     0.1          0.0001         0.835152   \n",
       "                                                                                      0.0005         0.829183   \n",
       "                                                                                      0.0010         0.818922   \n",
       "                                                                         0.2          0.0001         0.838764   \n",
       "                                                                                      0.0005         0.826414   \n",
       "                                                                                      0.0010         0.802614   \n",
       "                                                          (512, 512)     0.1          0.0001         0.836928   \n",
       "                                                                                      0.0005         0.821686   \n",
       "                                                                                      0.0010         0.816436   \n",
       "                                                                         0.2          0.0001         0.832400   \n",
       "                                                                                      0.0005         0.825154   \n",
       "                                                                                      0.0010         0.790683   \n",
       "\n",
       "                                                                                                     valid_precision  \\\n",
       "dimensions output_channels sig_depth num_heads num_layers ffn_hidden_dim dropout_rate learning_rate                    \n",
       "15         8               4         6         1          (256, 256)     0.1          0.0001                0.816753   \n",
       "                                                                                      0.0005                0.805647   \n",
       "                                                                                      0.0010                0.751938   \n",
       "                                                                         0.2          0.0001                0.806668   \n",
       "                                                                                      0.0005                0.808989   \n",
       "                                                                                      0.0010                0.736232   \n",
       "                                                          (512, 512)     0.1          0.0001                0.815106   \n",
       "                                                                                      0.0005                0.776344   \n",
       "                                                                                      0.0010                0.745490   \n",
       "                                                                         0.2          0.0001                0.816106   \n",
       "                                                                                      0.0005                0.781854   \n",
       "                                                                                      0.0010                0.748580   \n",
       "           12              3         10        1          (256, 256)     0.1          0.0001                0.831368   \n",
       "                                                                                      0.0005                0.825417   \n",
       "                                                                                      0.0010                0.815471   \n",
       "                                                                         0.2          0.0001                0.834996   \n",
       "                                                                                      0.0005                0.822539   \n",
       "                                                                                      0.0010                0.799264   \n",
       "                                                          (512, 512)     0.1          0.0001                0.832894   \n",
       "                                                                                      0.0005                0.818610   \n",
       "                                                                                      0.0010                0.813087   \n",
       "                                                                         0.2          0.0001                0.828330   \n",
       "                                                                                      0.0005                0.821499   \n",
       "                                                                                      0.0010                0.787802   \n",
       "\n",
       "                                                                                                     valid_recall  \\\n",
       "dimensions output_channels sig_depth num_heads num_layers ffn_hidden_dim dropout_rate learning_rate                 \n",
       "15         8               4         6         1          (256, 256)     0.1          0.0001             0.824631   \n",
       "                                                                                      0.0005             0.816339   \n",
       "                                                                                      0.0010             0.754191   \n",
       "                                                                         0.2          0.0001             0.818182   \n",
       "                                                                                      0.0005             0.820012   \n",
       "                                                                                      0.0010             0.728206   \n",
       "                                                          (512, 512)     0.1          0.0001             0.823179   \n",
       "                                                                                      0.0005             0.784382   \n",
       "                                                                                      0.0010             0.741037   \n",
       "                                                                         0.2          0.0001             0.819673   \n",
       "                                                                                      0.0005             0.793401   \n",
       "                                                                                      0.0010             0.724472   \n",
       "           12              3         10        1          (256, 256)     0.1          0.0001             0.842059   \n",
       "                                                                                      0.0005             0.835399   \n",
       "                                                                                      0.0010             0.827021   \n",
       "                                                                         0.2          0.0001             0.846316   \n",
       "                                                                                      0.0005             0.833419   \n",
       "                                                                                      0.0010             0.808297   \n",
       "                                                          (512, 512)     0.1          0.0001             0.844267   \n",
       "                                                                                      0.0005             0.826097   \n",
       "                                                                                      0.0010             0.822193   \n",
       "                                                                         0.2          0.0001             0.840025   \n",
       "                                                                                      0.0005             0.833805   \n",
       "                                                                                      0.0010             0.797581   \n",
       "\n",
       "                                                                                                        k  \\\n",
       "dimensions output_channels sig_depth num_heads num_layers ffn_hidden_dim dropout_rate learning_rate         \n",
       "15         8               4         6         1          (256, 256)     0.1          0.0001         20.0   \n",
       "                                                                                      0.0005         20.0   \n",
       "                                                                                      0.0010         20.0   \n",
       "                                                                         0.2          0.0001         20.0   \n",
       "                                                                                      0.0005         20.0   \n",
       "                                                                                      0.0010         20.0   \n",
       "                                                          (512, 512)     0.1          0.0001         20.0   \n",
       "                                                                                      0.0005         20.0   \n",
       "                                                                                      0.0010         20.0   \n",
       "                                                                         0.2          0.0001         20.0   \n",
       "                                                                                      0.0005         20.0   \n",
       "                                                                                      0.0010         20.0   \n",
       "           12              3         10        1          (256, 256)     0.1          0.0001         20.0   \n",
       "                                                                                      0.0005         20.0   \n",
       "                                                                                      0.0010         20.0   \n",
       "                                                                         0.2          0.0001         20.0   \n",
       "                                                                                      0.0005         20.0   \n",
       "                                                                                      0.0010         20.0   \n",
       "                                                          (512, 512)     0.1          0.0001         20.0   \n",
       "                                                                                      0.0005         20.0   \n",
       "                                                                                      0.0010         20.0   \n",
       "                                                                         0.2          0.0001         20.0   \n",
       "                                                                                      0.0005         20.0   \n",
       "                                                                                      0.0010         20.0   \n",
       "\n",
       "                                                                                                     shift  \\\n",
       "dimensions output_channels sig_depth num_heads num_layers ffn_hidden_dim dropout_rate learning_rate          \n",
       "15         8               4         6         1          (256, 256)     0.1          0.0001           3.0   \n",
       "                                                                                      0.0005           3.0   \n",
       "                                                                                      0.0010           3.0   \n",
       "                                                                         0.2          0.0001           3.0   \n",
       "                                                                                      0.0005           3.0   \n",
       "                                                                                      0.0010           3.0   \n",
       "                                                          (512, 512)     0.1          0.0001           3.0   \n",
       "                                                                                      0.0005           3.0   \n",
       "                                                                                      0.0010           3.0   \n",
       "                                                                         0.2          0.0001           3.0   \n",
       "                                                                                      0.0005           3.0   \n",
       "                                                                                      0.0010           3.0   \n",
       "           12              3         10        1          (256, 256)     0.1          0.0001           3.0   \n",
       "                                                                                      0.0005           3.0   \n",
       "                                                                                      0.0010           3.0   \n",
       "                                                                         0.2          0.0001           3.0   \n",
       "                                                                                      0.0005           3.0   \n",
       "                                                                                      0.0010           3.0   \n",
       "                                                          (512, 512)     0.1          0.0001           3.0   \n",
       "                                                                                      0.0005           3.0   \n",
       "                                                                                      0.0010           3.0   \n",
       "                                                                         0.2          0.0001           3.0   \n",
       "                                                                                      0.0005           3.0   \n",
       "                                                                                      0.0010           3.0   \n",
       "\n",
       "                                                                                                     ...  \\\n",
       "dimensions output_channels sig_depth num_heads num_layers ffn_hidden_dim dropout_rate learning_rate  ...   \n",
       "15         8               4         6         1          (256, 256)     0.1          0.0001         ...   \n",
       "                                                                                      0.0005         ...   \n",
       "                                                                                      0.0010         ...   \n",
       "                                                                         0.2          0.0001         ...   \n",
       "                                                                                      0.0005         ...   \n",
       "                                                                                      0.0010         ...   \n",
       "                                                          (512, 512)     0.1          0.0001         ...   \n",
       "                                                                                      0.0005         ...   \n",
       "                                                                                      0.0010         ...   \n",
       "                                                                         0.2          0.0001         ...   \n",
       "                                                                                      0.0005         ...   \n",
       "                                                                                      0.0010         ...   \n",
       "           12              3         10        1          (256, 256)     0.1          0.0001         ...   \n",
       "                                                                                      0.0005         ...   \n",
       "                                                                                      0.0010         ...   \n",
       "                                                                         0.2          0.0001         ...   \n",
       "                                                                                      0.0005         ...   \n",
       "                                                                                      0.0010         ...   \n",
       "                                                          (512, 512)     0.1          0.0001         ...   \n",
       "                                                                                      0.0005         ...   \n",
       "                                                                                      0.0010         ...   \n",
       "                                                                         0.2          0.0001         ...   \n",
       "                                                                                      0.0005         ...   \n",
       "                                                                                      0.0010         ...   \n",
       "\n",
       "                                                                                                     include_features_in_input  \\\n",
       "dimensions output_channels sig_depth num_heads num_layers ffn_hidden_dim dropout_rate learning_rate                              \n",
       "15         8               4         6         1          (256, 256)     0.1          0.0001                               0.0   \n",
       "                                                                                      0.0005                               0.0   \n",
       "                                                                                      0.0010                               0.0   \n",
       "                                                                         0.2          0.0001                               0.0   \n",
       "                                                                                      0.0005                               0.0   \n",
       "                                                                                      0.0010                               0.0   \n",
       "                                                          (512, 512)     0.1          0.0001                               0.0   \n",
       "                                                                                      0.0005                               0.0   \n",
       "                                                                                      0.0010                               0.0   \n",
       "                                                                         0.2          0.0001                               0.0   \n",
       "                                                                                      0.0005                               0.0   \n",
       "                                                                                      0.0010                               0.0   \n",
       "           12              3         10        1          (256, 256)     0.1          0.0001                               0.0   \n",
       "                                                                                      0.0005                               0.0   \n",
       "                                                                                      0.0010                               0.0   \n",
       "                                                                         0.2          0.0001                               0.0   \n",
       "                                                                                      0.0005                               0.0   \n",
       "                                                                                      0.0010                               0.0   \n",
       "                                                          (512, 512)     0.1          0.0001                               0.0   \n",
       "                                                                                      0.0005                               0.0   \n",
       "                                                                                      0.0010                               0.0   \n",
       "                                                                         0.2          0.0001                               0.0   \n",
       "                                                                                      0.0005                               0.0   \n",
       "                                                                                      0.0010                               0.0   \n",
       "\n",
       "                                                                                                     embedding_dim  \\\n",
       "dimensions output_channels sig_depth num_heads num_layers ffn_hidden_dim dropout_rate learning_rate                  \n",
       "15         8               4         6         1          (256, 256)     0.1          0.0001                 384.0   \n",
       "                                                                                      0.0005                 384.0   \n",
       "                                                                                      0.0010                 384.0   \n",
       "                                                                         0.2          0.0001                 384.0   \n",
       "                                                                                      0.0005                 384.0   \n",
       "                                                                                      0.0010                 384.0   \n",
       "                                                          (512, 512)     0.1          0.0001                 384.0   \n",
       "                                                                                      0.0005                 384.0   \n",
       "                                                                                      0.0010                 384.0   \n",
       "                                                                         0.2          0.0001                 384.0   \n",
       "                                                                                      0.0005                 384.0   \n",
       "                                                                                      0.0010                 384.0   \n",
       "           12              3         10        1          (256, 256)     0.1          0.0001                 384.0   \n",
       "                                                                                      0.0005                 384.0   \n",
       "                                                                                      0.0010                 384.0   \n",
       "                                                                         0.2          0.0001                 384.0   \n",
       "                                                                                      0.0005                 384.0   \n",
       "                                                                                      0.0010                 384.0   \n",
       "                                                          (512, 512)     0.1          0.0001                 384.0   \n",
       "                                                                                      0.0005                 384.0   \n",
       "                                                                                      0.0010                 384.0   \n",
       "                                                                         0.2          0.0001                 384.0   \n",
       "                                                                                      0.0005                 384.0   \n",
       "                                                                                      0.0010                 384.0   \n",
       "\n",
       "                                                                                                     num_features  \\\n",
       "dimensions output_channels sig_depth num_heads num_layers ffn_hidden_dim dropout_rate learning_rate                 \n",
       "15         8               4         6         1          (256, 256)     0.1          0.0001                  0.0   \n",
       "                                                                                      0.0005                  0.0   \n",
       "                                                                                      0.0010                  0.0   \n",
       "                                                                         0.2          0.0001                  0.0   \n",
       "                                                                                      0.0005                  0.0   \n",
       "                                                                                      0.0010                  0.0   \n",
       "                                                          (512, 512)     0.1          0.0001                  0.0   \n",
       "                                                                                      0.0005                  0.0   \n",
       "                                                                                      0.0010                  0.0   \n",
       "                                                                         0.2          0.0001                  0.0   \n",
       "                                                                                      0.0005                  0.0   \n",
       "                                                                                      0.0010                  0.0   \n",
       "           12              3         10        1          (256, 256)     0.1          0.0001                  0.0   \n",
       "                                                                                      0.0005                  0.0   \n",
       "                                                                                      0.0010                  0.0   \n",
       "                                                                         0.2          0.0001                  0.0   \n",
       "                                                                                      0.0005                  0.0   \n",
       "                                                                                      0.0010                  0.0   \n",
       "                                                          (512, 512)     0.1          0.0001                  0.0   \n",
       "                                                                                      0.0005                  0.0   \n",
       "                                                                                      0.0010                  0.0   \n",
       "                                                                         0.2          0.0001                  0.0   \n",
       "                                                                                      0.0005                  0.0   \n",
       "                                                                                      0.0010                  0.0   \n",
       "\n",
       "                                                                                                     log_signature  \\\n",
       "dimensions output_channels sig_depth num_heads num_layers ffn_hidden_dim dropout_rate learning_rate                  \n",
       "15         8               4         6         1          (256, 256)     0.1          0.0001                   1.0   \n",
       "                                                                                      0.0005                   1.0   \n",
       "                                                                                      0.0010                   1.0   \n",
       "                                                                         0.2          0.0001                   1.0   \n",
       "                                                                                      0.0005                   1.0   \n",
       "                                                                                      0.0010                   1.0   \n",
       "                                                          (512, 512)     0.1          0.0001                   1.0   \n",
       "                                                                                      0.0005                   1.0   \n",
       "                                                                                      0.0010                   1.0   \n",
       "                                                                         0.2          0.0001                   1.0   \n",
       "                                                                                      0.0005                   1.0   \n",
       "                                                                                      0.0010                   1.0   \n",
       "           12              3         10        1          (256, 256)     0.1          0.0001                   1.0   \n",
       "                                                                                      0.0005                   1.0   \n",
       "                                                                                      0.0010                   1.0   \n",
       "                                                                         0.2          0.0001                   1.0   \n",
       "                                                                                      0.0005                   1.0   \n",
       "                                                                                      0.0010                   1.0   \n",
       "                                                          (512, 512)     0.1          0.0001                   1.0   \n",
       "                                                                                      0.0005                   1.0   \n",
       "                                                                                      0.0010                   1.0   \n",
       "                                                                         0.2          0.0001                   1.0   \n",
       "                                                                                      0.0005                   1.0   \n",
       "                                                                                      0.0010                   1.0   \n",
       "\n",
       "                                                                                                          seed  \\\n",
       "dimensions output_channels sig_depth num_heads num_layers ffn_hidden_dim dropout_rate learning_rate              \n",
       "15         8               4         6         1          (256, 256)     0.1          0.0001         45.333333   \n",
       "                                                                                      0.0005         45.333333   \n",
       "                                                                                      0.0010         45.333333   \n",
       "                                                                         0.2          0.0001         45.333333   \n",
       "                                                                                      0.0005         45.333333   \n",
       "                                                                                      0.0010         45.333333   \n",
       "                                                          (512, 512)     0.1          0.0001         45.333333   \n",
       "                                                                                      0.0005         45.333333   \n",
       "                                                                                      0.0010         45.333333   \n",
       "                                                                         0.2          0.0001         45.333333   \n",
       "                                                                                      0.0005         45.333333   \n",
       "                                                                                      0.0010         45.333333   \n",
       "           12              3         10        1          (256, 256)     0.1          0.0001         45.333333   \n",
       "                                                                                      0.0005         45.333333   \n",
       "                                                                                      0.0010         45.333333   \n",
       "                                                                         0.2          0.0001         45.333333   \n",
       "                                                                                      0.0005         45.333333   \n",
       "                                                                                      0.0010         45.333333   \n",
       "                                                          (512, 512)     0.1          0.0001         45.333333   \n",
       "                                                                                      0.0005         45.333333   \n",
       "                                                                                      0.0010         45.333333   \n",
       "                                                                         0.2          0.0001         45.333333   \n",
       "                                                                                      0.0005         45.333333   \n",
       "                                                                                      0.0010         45.333333   \n",
       "\n",
       "                                                                                                     gamma  \\\n",
       "dimensions output_channels sig_depth num_heads num_layers ffn_hidden_dim dropout_rate learning_rate          \n",
       "15         8               4         6         1          (256, 256)     0.1          0.0001           2.0   \n",
       "                                                                                      0.0005           2.0   \n",
       "                                                                                      0.0010           2.0   \n",
       "                                                                         0.2          0.0001           2.0   \n",
       "                                                                                      0.0005           2.0   \n",
       "                                                                                      0.0010           2.0   \n",
       "                                                          (512, 512)     0.1          0.0001           2.0   \n",
       "                                                                                      0.0005           2.0   \n",
       "                                                                                      0.0010           2.0   \n",
       "                                                                         0.2          0.0001           2.0   \n",
       "                                                                                      0.0005           2.0   \n",
       "                                                                                      0.0010           2.0   \n",
       "           12              3         10        1          (256, 256)     0.1          0.0001           2.0   \n",
       "                                                                                      0.0005           2.0   \n",
       "                                                                                      0.0010           2.0   \n",
       "                                                                         0.2          0.0001           2.0   \n",
       "                                                                                      0.0005           2.0   \n",
       "                                                                                      0.0010           2.0   \n",
       "                                                          (512, 512)     0.1          0.0001           2.0   \n",
       "                                                                                      0.0005           2.0   \n",
       "                                                                                      0.0010           2.0   \n",
       "                                                                         0.2          0.0001           2.0   \n",
       "                                                                                      0.0005           2.0   \n",
       "                                                                                      0.0010           2.0   \n",
       "\n",
       "                                                                                                     k_fold  \\\n",
       "dimensions output_channels sig_depth num_heads num_layers ffn_hidden_dim dropout_rate learning_rate           \n",
       "15         8               4         6         1          (256, 256)     0.1          0.0001            1.0   \n",
       "                                                                                      0.0005            1.0   \n",
       "                                                                                      0.0010            1.0   \n",
       "                                                                         0.2          0.0001            1.0   \n",
       "                                                                                      0.0005            1.0   \n",
       "                                                                                      0.0010            1.0   \n",
       "                                                          (512, 512)     0.1          0.0001            1.0   \n",
       "                                                                                      0.0005            1.0   \n",
       "                                                                                      0.0010            1.0   \n",
       "                                                                         0.2          0.0001            1.0   \n",
       "                                                                                      0.0005            1.0   \n",
       "                                                                                      0.0010            1.0   \n",
       "           12              3         10        1          (256, 256)     0.1          0.0001            1.0   \n",
       "                                                                                      0.0005            1.0   \n",
       "                                                                                      0.0010            1.0   \n",
       "                                                                         0.2          0.0001            1.0   \n",
       "                                                                                      0.0005            1.0   \n",
       "                                                                                      0.0010            1.0   \n",
       "                                                          (512, 512)     0.1          0.0001            1.0   \n",
       "                                                                                      0.0005            1.0   \n",
       "                                                                                      0.0010            1.0   \n",
       "                                                                         0.2          0.0001            1.0   \n",
       "                                                                                      0.0005            1.0   \n",
       "                                                                                      0.0010            1.0   \n",
       "\n",
       "                                                                                                     n_splits  \\\n",
       "dimensions output_channels sig_depth num_heads num_layers ffn_hidden_dim dropout_rate learning_rate             \n",
       "15         8               4         6         1          (256, 256)     0.1          0.0001              5.0   \n",
       "                                                                                      0.0005              5.0   \n",
       "                                                                                      0.0010              5.0   \n",
       "                                                                         0.2          0.0001              5.0   \n",
       "                                                                                      0.0005              5.0   \n",
       "                                                                                      0.0010              5.0   \n",
       "                                                          (512, 512)     0.1          0.0001              5.0   \n",
       "                                                                                      0.0005              5.0   \n",
       "                                                                                      0.0010              5.0   \n",
       "                                                                         0.2          0.0001              5.0   \n",
       "                                                                                      0.0005              5.0   \n",
       "                                                                                      0.0010              5.0   \n",
       "           12              3         10        1          (256, 256)     0.1          0.0001              5.0   \n",
       "                                                                                      0.0005              5.0   \n",
       "                                                                                      0.0010              5.0   \n",
       "                                                                         0.2          0.0001              5.0   \n",
       "                                                                                      0.0005              5.0   \n",
       "                                                                                      0.0010              5.0   \n",
       "                                                          (512, 512)     0.1          0.0001              5.0   \n",
       "                                                                                      0.0005              5.0   \n",
       "                                                                                      0.0010              5.0   \n",
       "                                                                         0.2          0.0001              5.0   \n",
       "                                                                                      0.0005              5.0   \n",
       "                                                                                      0.0010              5.0   \n",
       "\n",
       "                                                                                                     batch_size  \\\n",
       "dimensions output_channels sig_depth num_heads num_layers ffn_hidden_dim dropout_rate learning_rate               \n",
       "15         8               4         6         1          (256, 256)     0.1          0.0001               64.0   \n",
       "                                                                                      0.0005               64.0   \n",
       "                                                                                      0.0010               64.0   \n",
       "                                                                         0.2          0.0001               64.0   \n",
       "                                                                                      0.0005               64.0   \n",
       "                                                                                      0.0010               64.0   \n",
       "                                                          (512, 512)     0.1          0.0001               64.0   \n",
       "                                                                                      0.0005               64.0   \n",
       "                                                                                      0.0010               64.0   \n",
       "                                                                         0.2          0.0001               64.0   \n",
       "                                                                                      0.0005               64.0   \n",
       "                                                                                      0.0010               64.0   \n",
       "           12              3         10        1          (256, 256)     0.1          0.0001               64.0   \n",
       "                                                                                      0.0005               64.0   \n",
       "                                                                                      0.0010               64.0   \n",
       "                                                                         0.2          0.0001               64.0   \n",
       "                                                                                      0.0005               64.0   \n",
       "                                                                                      0.0010               64.0   \n",
       "                                                          (512, 512)     0.1          0.0001               64.0   \n",
       "                                                                                      0.0005               64.0   \n",
       "                                                                                      0.0010               64.0   \n",
       "                                                                         0.2          0.0001               64.0   \n",
       "                                                                                      0.0005               64.0   \n",
       "                                                                                      0.0010               64.0   \n",
       "\n",
       "                                                                                                     model_id  \n",
       "dimensions output_channels sig_depth num_heads num_layers ffn_hidden_dim dropout_rate learning_rate            \n",
       "15         8               4         6         1          (256, 256)     0.1          0.0001             13.0  \n",
       "                                                                                      0.0005             14.0  \n",
       "                                                                                      0.0010             12.0  \n",
       "                                                                         0.2          0.0001             16.0  \n",
       "                                                                                      0.0005             17.0  \n",
       "                                                                                      0.0010             15.0  \n",
       "                                                          (512, 512)     0.1          0.0001             19.0  \n",
       "                                                                                      0.0005             20.0  \n",
       "                                                                                      0.0010             18.0  \n",
       "                                                                         0.2          0.0001             22.0  \n",
       "                                                                                      0.0005             23.0  \n",
       "                                                                                      0.0010             21.0  \n",
       "           12              3         10        1          (256, 256)     0.1          0.0001              1.0  \n",
       "                                                                                      0.0005              2.0  \n",
       "                                                                                      0.0010              0.0  \n",
       "                                                                         0.2          0.0001              4.0  \n",
       "                                                                                      0.0005              5.0  \n",
       "                                                                                      0.0010              3.0  \n",
       "                                                          (512, 512)     0.1          0.0001              7.0  \n",
       "                                                                                      0.0005              8.0  \n",
       "                                                                                      0.0010              6.0  \n",
       "                                                                         0.2          0.0001             10.0  \n",
       "                                                                                      0.0005             11.0  \n",
       "                                                                                      0.0010              9.0  \n",
       "\n",
       "[24 rows x 24 columns]"
      ]
     },
     "execution_count": 45,
     "metadata": {},
     "output_type": "execute_result"
    }
   ],
   "source": [
    "seqsignet_attention_mha_grp_20.groupby(\n",
    "    [\n",
    "        \"dimensions\",\n",
    "        \"output_channels\",\n",
    "        \"sig_depth\",\n",
    "        \"num_heads\",\n",
    "        \"num_layers\",\n",
    "        \"ffn_hidden_dim\",\n",
    "        \"dropout_rate\",\n",
    "        \"learning_rate\",\n",
    "    ]\n",
    ").mean()"
   ]
  },
  {
   "cell_type": "code",
   "execution_count": 46,
   "id": "005101e0-df1f-4f29-82ba-4b18e04169a0",
   "metadata": {},
   "outputs": [
    {
     "data": {
      "text/html": [
       "<div>\n",
       "<style scoped>\n",
       "    .dataframe tbody tr th:only-of-type {\n",
       "        vertical-align: middle;\n",
       "    }\n",
       "\n",
       "    .dataframe tbody tr th {\n",
       "        vertical-align: top;\n",
       "    }\n",
       "\n",
       "    .dataframe thead th {\n",
       "        text-align: right;\n",
       "    }\n",
       "</style>\n",
       "<table border=\"1\" class=\"dataframe\">\n",
       "  <thead>\n",
       "    <tr style=\"text-align: right;\">\n",
       "      <th></th>\n",
       "      <th>loss</th>\n",
       "      <th>accuracy</th>\n",
       "      <th>f1</th>\n",
       "      <th>f1_scores</th>\n",
       "      <th>precision</th>\n",
       "      <th>precision_scores</th>\n",
       "      <th>recall</th>\n",
       "      <th>recall_scores</th>\n",
       "      <th>valid_loss</th>\n",
       "      <th>valid_accuracy</th>\n",
       "      <th>...</th>\n",
       "      <th>learning_rate</th>\n",
       "      <th>seed</th>\n",
       "      <th>loss_function</th>\n",
       "      <th>gamma</th>\n",
       "      <th>k_fold</th>\n",
       "      <th>n_splits</th>\n",
       "      <th>augmentation_type</th>\n",
       "      <th>hidden_dim_aug</th>\n",
       "      <th>comb_method</th>\n",
       "      <th>batch_size</th>\n",
       "    </tr>\n",
       "  </thead>\n",
       "  <tbody>\n",
       "    <tr>\n",
       "      <th>0</th>\n",
       "      <td>None</td>\n",
       "      <td>0.687978</td>\n",
       "      <td>0.664007</td>\n",
       "      <td>[0.7537511032656663, 0.574262461851475]</td>\n",
       "      <td>0.661705</td>\n",
       "      <td>[0.7740181268882175, 0.5493917274939173]</td>\n",
       "      <td>0.668005</td>\n",
       "      <td>[0.7345183486238532, 0.6014917421417155]</td>\n",
       "      <td>None</td>\n",
       "      <td>0.835018</td>\n",
       "      <td>...</td>\n",
       "      <td>0.0001</td>\n",
       "      <td>1</td>\n",
       "      <td>focal</td>\n",
       "      <td>2</td>\n",
       "      <td>True</td>\n",
       "      <td>5</td>\n",
       "      <td>Conv1d</td>\n",
       "      <td>None</td>\n",
       "      <td>concatenation</td>\n",
       "      <td>64</td>\n",
       "    </tr>\n",
       "    <tr>\n",
       "      <th>0</th>\n",
       "      <td>None</td>\n",
       "      <td>0.668220</td>\n",
       "      <td>0.643490</td>\n",
       "      <td>[0.7373856594865741, 0.5495951417004049]</td>\n",
       "      <td>0.641474</td>\n",
       "      <td>[0.7595744680851064, 0.5233734939759036]</td>\n",
       "      <td>0.647520</td>\n",
       "      <td>[0.7164564220183486, 0.5785828449653703]</td>\n",
       "      <td>None</td>\n",
       "      <td>0.836231</td>\n",
       "      <td>...</td>\n",
       "      <td>0.0001</td>\n",
       "      <td>12</td>\n",
       "      <td>focal</td>\n",
       "      <td>2</td>\n",
       "      <td>True</td>\n",
       "      <td>5</td>\n",
       "      <td>Conv1d</td>\n",
       "      <td>None</td>\n",
       "      <td>concatenation</td>\n",
       "      <td>64</td>\n",
       "    </tr>\n",
       "    <tr>\n",
       "      <th>0</th>\n",
       "      <td>None</td>\n",
       "      <td>0.674744</td>\n",
       "      <td>0.652826</td>\n",
       "      <td>[0.7400566065842394, 0.565596216081653]</td>\n",
       "      <td>0.650537</td>\n",
       "      <td>[0.7702325581395348, 0.5308411214953271]</td>\n",
       "      <td>0.658689</td>\n",
       "      <td>[0.7121559633027523, 0.6052210974960043]</td>\n",
       "      <td>None</td>\n",
       "      <td>0.839601</td>\n",
       "      <td>...</td>\n",
       "      <td>0.0001</td>\n",
       "      <td>123</td>\n",
       "      <td>focal</td>\n",
       "      <td>2</td>\n",
       "      <td>True</td>\n",
       "      <td>5</td>\n",
       "      <td>Conv1d</td>\n",
       "      <td>None</td>\n",
       "      <td>concatenation</td>\n",
       "      <td>64</td>\n",
       "    </tr>\n",
       "  </tbody>\n",
       "</table>\n",
       "<p>3 rows × 46 columns</p>\n",
       "</div>"
      ],
      "text/plain": [
       "   loss  accuracy        f1                                 f1_scores  \\\n",
       "0  None  0.687978  0.664007   [0.7537511032656663, 0.574262461851475]   \n",
       "0  None  0.668220  0.643490  [0.7373856594865741, 0.5495951417004049]   \n",
       "0  None  0.674744  0.652826   [0.7400566065842394, 0.565596216081653]   \n",
       "\n",
       "   precision                          precision_scores    recall  \\\n",
       "0   0.661705  [0.7740181268882175, 0.5493917274939173]  0.668005   \n",
       "0   0.641474  [0.7595744680851064, 0.5233734939759036]  0.647520   \n",
       "0   0.650537  [0.7702325581395348, 0.5308411214953271]  0.658689   \n",
       "\n",
       "                              recall_scores valid_loss  valid_accuracy  ...  \\\n",
       "0  [0.7345183486238532, 0.6014917421417155]       None        0.835018  ...   \n",
       "0  [0.7164564220183486, 0.5785828449653703]       None        0.836231  ...   \n",
       "0  [0.7121559633027523, 0.6052210974960043]       None        0.839601  ...   \n",
       "\n",
       "   learning_rate seed  loss_function gamma  k_fold n_splits  \\\n",
       "0         0.0001    1          focal     2    True        5   \n",
       "0         0.0001   12          focal     2    True        5   \n",
       "0         0.0001  123          focal     2    True        5   \n",
       "\n",
       "   augmentation_type  hidden_dim_aug    comb_method  batch_size  \n",
       "0             Conv1d            None  concatenation          64  \n",
       "0             Conv1d            None  concatenation          64  \n",
       "0             Conv1d            None  concatenation          64  \n",
       "\n",
       "[3 rows x 46 columns]"
      ]
     },
     "execution_count": 46,
     "metadata": {},
     "output_type": "execute_result"
    }
   ],
   "source": [
    "best_seqsignet_attention_mha_grp_20"
   ]
  },
  {
   "cell_type": "code",
   "execution_count": 48,
   "id": "479f5418-79e4-4c42-a72a-67253f34ef88",
   "metadata": {},
   "outputs": [
    {
     "data": {
      "text/html": [
       "<div>\n",
       "<style scoped>\n",
       "    .dataframe tbody tr th:only-of-type {\n",
       "        vertical-align: middle;\n",
       "    }\n",
       "\n",
       "    .dataframe tbody tr th {\n",
       "        vertical-align: top;\n",
       "    }\n",
       "\n",
       "    .dataframe thead th {\n",
       "        text-align: right;\n",
       "    }\n",
       "</style>\n",
       "<table border=\"1\" class=\"dataframe\">\n",
       "  <thead>\n",
       "    <tr style=\"text-align: right;\">\n",
       "      <th></th>\n",
       "      <th>dimensions</th>\n",
       "      <th>output_channels</th>\n",
       "      <th>sig_depth</th>\n",
       "      <th>num_heads</th>\n",
       "      <th>num_layers</th>\n",
       "      <th>ffn_hidden_dim</th>\n",
       "      <th>dropout_rate</th>\n",
       "      <th>learning_rate</th>\n",
       "    </tr>\n",
       "  </thead>\n",
       "  <tbody>\n",
       "    <tr>\n",
       "      <th>0</th>\n",
       "      <td>15</td>\n",
       "      <td>12</td>\n",
       "      <td>3</td>\n",
       "      <td>10</td>\n",
       "      <td>1</td>\n",
       "      <td>(256, 256)</td>\n",
       "      <td>0.2</td>\n",
       "      <td>0.0001</td>\n",
       "    </tr>\n",
       "    <tr>\n",
       "      <th>0</th>\n",
       "      <td>15</td>\n",
       "      <td>12</td>\n",
       "      <td>3</td>\n",
       "      <td>10</td>\n",
       "      <td>1</td>\n",
       "      <td>(256, 256)</td>\n",
       "      <td>0.2</td>\n",
       "      <td>0.0001</td>\n",
       "    </tr>\n",
       "    <tr>\n",
       "      <th>0</th>\n",
       "      <td>15</td>\n",
       "      <td>12</td>\n",
       "      <td>3</td>\n",
       "      <td>10</td>\n",
       "      <td>1</td>\n",
       "      <td>(256, 256)</td>\n",
       "      <td>0.2</td>\n",
       "      <td>0.0001</td>\n",
       "    </tr>\n",
       "  </tbody>\n",
       "</table>\n",
       "</div>"
      ],
      "text/plain": [
       "   dimensions  output_channels  sig_depth  num_heads  num_layers  \\\n",
       "0          15               12          3         10           1   \n",
       "0          15               12          3         10           1   \n",
       "0          15               12          3         10           1   \n",
       "\n",
       "  ffn_hidden_dim  dropout_rate  learning_rate  \n",
       "0     (256, 256)           0.2         0.0001  \n",
       "0     (256, 256)           0.2         0.0001  \n",
       "0     (256, 256)           0.2         0.0001  "
      ]
     },
     "execution_count": 48,
     "metadata": {},
     "output_type": "execute_result"
    }
   ],
   "source": [
    "best_seqsignet_attention_mha_grp_20[\n",
    "    [\n",
    "        \"dimensions\",\n",
    "        \"output_channels\",\n",
    "        \"sig_depth\",\n",
    "        \"num_heads\",\n",
    "        \"num_layers\",\n",
    "        \"ffn_hidden_dim\",\n",
    "        \"dropout_rate\",\n",
    "        \"learning_rate\",\n",
    "    ]\n",
    "]"
   ]
  },
  {
   "cell_type": "code",
   "execution_count": 49,
   "id": "05e0364c-531c-4548-b706-301d852e11ca",
   "metadata": {},
   "outputs": [
    {
     "data": {
      "text/plain": [
       "0.6534411981616689"
      ]
     },
     "execution_count": 49,
     "metadata": {},
     "output_type": "execute_result"
    }
   ],
   "source": [
    "best_seqsignet_attention_mha_grp_20[\"f1\"].mean()"
   ]
  },
  {
   "cell_type": "code",
   "execution_count": 50,
   "id": "5b5062e0-1005-456f-a78d-49a2d9c6dc60",
   "metadata": {},
   "outputs": [
    {
     "data": {
      "text/plain": [
       "0.6512385826796677"
      ]
     },
     "execution_count": 50,
     "metadata": {},
     "output_type": "execute_result"
    }
   ],
   "source": [
    "best_seqsignet_attention_mha_grp_20[\"precision\"].mean()"
   ]
  },
  {
   "cell_type": "code",
   "execution_count": 51,
   "id": "1e4f9590-2916-4b2d-966f-e224cbc7175e",
   "metadata": {},
   "outputs": [
    {
     "data": {
      "text/plain": [
       "0.6580710697580073"
      ]
     },
     "execution_count": 51,
     "metadata": {},
     "output_type": "execute_result"
    }
   ],
   "source": [
    "best_seqsignet_attention_mha_grp_20[\"recall\"].mean()"
   ]
  },
  {
   "cell_type": "code",
   "execution_count": 52,
   "id": "e2eec31c-c0b5-4a51-9277-973de3223f1c",
   "metadata": {},
   "outputs": [
    {
     "data": {
      "text/plain": [
       "array([0.74373112, 0.56315127])"
      ]
     },
     "execution_count": 52,
     "metadata": {},
     "output_type": "execute_result"
    }
   ],
   "source": [
    "np.stack(best_seqsignet_attention_mha_grp_20[\"f1_scores\"]).mean(axis=0)"
   ]
  },
  {
   "cell_type": "code",
   "execution_count": 53,
   "id": "fe7f5668-f54b-49ee-836d-2c016de127f1",
   "metadata": {},
   "outputs": [
    {
     "data": {
      "text/plain": [
       "array([0.76794172, 0.53453545])"
      ]
     },
     "execution_count": 53,
     "metadata": {},
     "output_type": "execute_result"
    }
   ],
   "source": [
    "np.stack(best_seqsignet_attention_mha_grp_20[\"precision_scores\"]).mean(axis=0)"
   ]
  },
  {
   "cell_type": "code",
   "execution_count": 54,
   "id": "b94b26ce-ff9b-4215-afc4-72b656a31eea",
   "metadata": {},
   "outputs": [
    {
     "data": {
      "text/plain": [
       "array([0.72104358, 0.59509856])"
      ]
     },
     "execution_count": 54,
     "metadata": {},
     "output_type": "execute_result"
    }
   ],
   "source": [
    "np.stack(best_seqsignet_attention_mha_grp_20[\"recall_scores\"]).mean(axis=0)"
   ]
  },
  {
   "cell_type": "markdown",
   "id": "e7ef749b-d4b3-4ade-9e94-0235d7580cfd",
   "metadata": {
    "tags": []
   },
   "source": [
    "# history_length=35"
   ]
  },
  {
   "cell_type": "code",
   "execution_count": 55,
   "id": "8d5cfef8-0d7b-4324-8cd7-29bb95e3c77a",
   "metadata": {},
   "outputs": [],
   "source": [
    "shift = 3\n",
    "window_size = 5\n",
    "n = 11"
   ]
  },
  {
   "cell_type": "markdown",
   "id": "b604e467-1c61-4037-bc7c-46bef7f3eb52",
   "metadata": {},
   "source": [
    "## UMAP"
   ]
  },
  {
   "cell_type": "code",
   "execution_count": null,
   "id": "164fceff-7055-41a4-9bad-f00224dc8457",
   "metadata": {
    "tags": []
   },
   "outputs": [
    {
     "data": {
      "application/vnd.jupyter.widget-view+json": {
       "model_id": "c53129c6704744bca344e0dda830fa76",
       "version_major": 2,
       "version_minor": 0
      },
      "text/plain": [
       "  0%|          | 0/1 [00:00<?, ?it/s]"
      ]
     },
     "metadata": {},
     "output_type": "display_data"
    },
    {
     "data": {
      "application/vnd.jupyter.widget-view+json": {
       "model_id": "2e850e550659463eae9388d00e4ae893",
       "version_major": 2,
       "version_minor": 0
      },
      "text/plain": [
       "  0%|          | 0/1 [00:00<?, ?it/s]"
      ]
     },
     "metadata": {},
     "output_type": "display_data"
    },
    {
     "name": "stdout",
     "output_type": "stream",
     "text": [
      "\n",
      "##################################################\n",
      "dimension: 15 | method: umap\n",
      "given shift 3, window size 5 and n 11: history length = 35\n",
      "[INFO] Concatenating the embeddings to the dataframe...\n",
      "[INFO] - columns beginning with 'e' denote the full embddings.\n",
      "[INFO] - columns beginning with 'd' denote the dimension reduced embeddings.\n",
      "[INFO] Adding time feature columns into dataframe in `.df`.\n",
      "[INFO] Adding 'time_encoding' feature...\n",
      "[INFO] Adding 'time_diff' feature...\n",
      "[INFO] Adding 'timeline_index' feature...\n",
      "[INFO] Padding ids and storing in `.df_padded` and `.array_padded` attributes.\n"
     ]
    },
    {
     "data": {
      "application/vnd.jupyter.widget-view+json": {
       "model_id": "a79cb7560f4f415cbd5cfee97710c2f2",
       "version_major": 2,
       "version_minor": 0
      },
      "text/plain": [
       "  0%|          | 0/5568 [00:00<?, ?it/s]"
      ]
     },
     "metadata": {},
     "output_type": "display_data"
    },
    {
     "name": "stdout",
     "output_type": "stream",
     "text": [
      "[INFO] The path was created for each item in the dataframe, by looking at its history, so to include embeddings in the FFN input, we concatenate the embeddings for each sentence / text.\n"
     ]
    },
    {
     "data": {
      "application/vnd.jupyter.widget-view+json": {
       "model_id": "53ffcc4a348b43289037a6e2707e4f3d",
       "version_major": 2,
       "version_minor": 0
      },
      "text/plain": [
       "  0%|          | 0/2 [00:00<?, ?it/s]"
      ]
     },
     "metadata": {},
     "output_type": "display_data"
    },
    {
     "data": {
      "application/vnd.jupyter.widget-view+json": {
       "model_id": "bcff208facf145ccb5e5db06b62da8da",
       "version_major": 2,
       "version_minor": 0
      },
      "text/plain": [
       "  0%|          | 0/1 [00:00<?, ?it/s]"
      ]
     },
     "metadata": {},
     "output_type": "display_data"
    },
    {
     "data": {
      "application/vnd.jupyter.widget-view+json": {
       "model_id": "a13fd3f73d6f433cad2e9ae5fc6f5c1b",
       "version_major": 2,
       "version_minor": 0
      },
      "text/plain": [
       "  0%|          | 0/2 [00:00<?, ?it/s]"
      ]
     },
     "metadata": {},
     "output_type": "display_data"
    },
    {
     "data": {
      "application/vnd.jupyter.widget-view+json": {
       "model_id": "f8a47eb125b44fb5a7d58e23fcb8b374",
       "version_major": 2,
       "version_minor": 0
      },
      "text/plain": [
       "  0%|          | 0/2 [00:00<?, ?it/s]"
      ]
     },
     "metadata": {},
     "output_type": "display_data"
    },
    {
     "data": {
      "application/vnd.jupyter.widget-view+json": {
       "model_id": "2c65bf1d0f614382b8d4bb0671664dfb",
       "version_major": 2,
       "version_minor": 0
      },
      "text/plain": [
       "  0%|          | 0/3 [00:00<?, ?it/s]"
      ]
     },
     "metadata": {},
     "output_type": "display_data"
    },
    {
     "data": {
      "application/vnd.jupyter.widget-view+json": {
       "model_id": "9dced4f2b9224015be440d8a5a3e76e3",
       "version_major": 2,
       "version_minor": 0
      },
      "text/plain": [
       "  0%|          | 0/3 [00:00<?, ?it/s]"
      ]
     },
     "metadata": {},
     "output_type": "display_data"
    },
    {
     "data": {
      "application/vnd.jupyter.widget-view+json": {
       "model_id": "23367e41b1ad47998a2b8f04ee9add76",
       "version_major": 2,
       "version_minor": 0
      },
      "text/plain": [
       "  0%|          | 0/2 [00:00<?, ?it/s]"
      ]
     },
     "metadata": {},
     "output_type": "display_data"
    },
    {
     "data": {
      "application/vnd.jupyter.widget-view+json": {
       "model_id": "b40360cd8beb4d9189bc53d3d52d23dd",
       "version_major": 2,
       "version_minor": 0
      },
      "text/plain": [
       "  0%|          | 0/3 [00:00<?, ?it/s]"
      ]
     },
     "metadata": {},
     "output_type": "display_data"
    },
    {
     "data": {
      "application/vnd.jupyter.widget-view+json": {
       "model_id": "920559e0d64d4f10aaea5e830540aa80",
       "version_major": 2,
       "version_minor": 0
      },
      "text/plain": [
       "  0%|          | 0/3 [00:00<?, ?it/s]"
      ]
     },
     "metadata": {},
     "output_type": "display_data"
    },
    {
     "data": {
      "application/vnd.jupyter.widget-view+json": {
       "model_id": "8d1bd425d84f473bbdf033708e7e180b",
       "version_major": 2,
       "version_minor": 0
      },
      "text/plain": [
       "  0%|          | 0/1 [00:00<?, ?it/s]"
      ]
     },
     "metadata": {},
     "output_type": "display_data"
    },
    {
     "data": {
      "application/vnd.jupyter.widget-view+json": {
       "model_id": "6d2f762a93064460a97fae79e9f7cb96",
       "version_major": 2,
       "version_minor": 0
      },
      "text/plain": [
       "  0%|          | 0/2 [00:00<?, ?it/s]"
      ]
     },
     "metadata": {},
     "output_type": "display_data"
    },
    {
     "data": {
      "application/vnd.jupyter.widget-view+json": {
       "model_id": "83fd981654cd464782b23c5da2113aa4",
       "version_major": 2,
       "version_minor": 0
      },
      "text/plain": [
       "  0%|          | 0/2 [00:00<?, ?it/s]"
      ]
     },
     "metadata": {},
     "output_type": "display_data"
    },
    {
     "data": {
      "application/vnd.jupyter.widget-view+json": {
       "model_id": "bd0b0dabd13049b19f485121244eb5bb",
       "version_major": 2,
       "version_minor": 0
      },
      "text/plain": [
       "  0%|          | 0/3 [00:00<?, ?it/s]"
      ]
     },
     "metadata": {},
     "output_type": "display_data"
    }
   ],
   "source": [
    "(\n",
    "    seqsignet_attention_mha_umap_35,\n",
    "    best_seqsignet_attention_mha_umap_35,\n",
    "    _,\n",
    "    __,\n",
    ") = seqsignet_full_attention_hyperparameter_search(\n",
    "    shift=shift,\n",
    "    window_size=window_size,\n",
    "    n=n,\n",
    "    dim_reduce_methods=[\"umap\"],\n",
    "    results_output=f\"{output_dir}/seqsignet_attention_mha_umap_focal_{gamma}_{shift}_{window_size}_{n}_kfold.csv\",\n",
    "    **kwargs,\n",
    ")"
   ]
  },
  {
   "cell_type": "code",
   "execution_count": null,
   "id": "b9cba4a4-da68-4185-b139-c137557be7d7",
   "metadata": {},
   "outputs": [],
   "source": [
    "seqsignet_attention_mha_umap_35.groupby(\n",
    "    [\n",
    "        \"dimensions\",\n",
    "        \"output_channels\",\n",
    "        \"sig_depth\",\n",
    "        \"num_heads\",\n",
    "        \"num_layers\",\n",
    "        \"ffn_hidden_dim\",\n",
    "        \"learning_rate\",\n",
    "    ]\n",
    ").mean()"
   ]
  },
  {
   "cell_type": "code",
   "execution_count": null,
   "id": "af0a3959-647d-4b9a-982b-ec369551c705",
   "metadata": {},
   "outputs": [],
   "source": [
    "best_seqsignet_attention_mha_umap_35"
   ]
  },
  {
   "cell_type": "code",
   "execution_count": null,
   "id": "36f776fa-778c-4407-83c5-f8d3f915ed8a",
   "metadata": {},
   "outputs": [],
   "source": [
    "best_seqsignet_attention_mha_umap_35[\n",
    "    [\n",
    "        \"dimensions\",\n",
    "        \"output_channels\",\n",
    "        \"sig_depth\",\n",
    "        \"num_heads\",\n",
    "        \"num_layers\",\n",
    "        \"ffn_hidden_dim\",\n",
    "        \"dropout_rate\",\n",
    "        \"learning_rate\",\n",
    "    ]\n",
    "]"
   ]
  },
  {
   "cell_type": "code",
   "execution_count": null,
   "id": "e34db780-67b5-41a1-be6d-777c5767e052",
   "metadata": {},
   "outputs": [],
   "source": [
    "best_seqsignet_attention_mha_umap_35[\"f1\"].mean()"
   ]
  },
  {
   "cell_type": "code",
   "execution_count": null,
   "id": "192cbd3a-2a7a-4794-9757-17529454787a",
   "metadata": {},
   "outputs": [],
   "source": [
    "best_seqsignet_attention_mha_umap_35[\"precision\"].mean()"
   ]
  },
  {
   "cell_type": "code",
   "execution_count": null,
   "id": "389d80c2-2d3c-434b-b27c-47806b952a4a",
   "metadata": {},
   "outputs": [],
   "source": [
    "best_seqsignet_attention_mha_umap_35[\"recall\"].mean()"
   ]
  },
  {
   "cell_type": "code",
   "execution_count": null,
   "id": "5fd9f864-1b9c-4d53-875c-457dc73bab6e",
   "metadata": {},
   "outputs": [],
   "source": [
    "np.stack(best_seqsignet_attention_mha_umap_35[\"f1_scores\"]).mean(axis=0)"
   ]
  },
  {
   "cell_type": "code",
   "execution_count": null,
   "id": "8d14fa50-74b3-4195-a530-c62487b65749",
   "metadata": {},
   "outputs": [],
   "source": [
    "np.stack(best_seqsignet_attention_mha_umap_35[\"precision_scores\"]).mean(axis=0)"
   ]
  },
  {
   "cell_type": "code",
   "execution_count": null,
   "id": "9514df33-20b7-49c2-a9f6-13abf8f7725a",
   "metadata": {},
   "outputs": [],
   "source": [
    "np.stack(best_seqsignet_attention_mha_umap_35[\"recall_scores\"]).mean(axis=0)"
   ]
  },
  {
   "cell_type": "markdown",
   "id": "c6d834fa-f3c7-4c78-9ce4-717f573e0af4",
   "metadata": {},
   "source": [
    "## Random Projections"
   ]
  },
  {
   "cell_type": "code",
   "execution_count": null,
   "id": "63265bf4-3fde-4328-b234-1b955dc0b2fb",
   "metadata": {},
   "outputs": [],
   "source": [
    "(\n",
    "    seqsignet_attention_mha_grp_35,\n",
    "    best_seqsignet_attention_mha_grp_35,\n",
    "    _,\n",
    "    __,\n",
    ") = seqsignet_full_attention_hyperparameter_search(\n",
    "    shift=shift,\n",
    "    window_size=window_size,\n",
    "    n=n,\n",
    "    dim_reduce_methods=[\"gaussian_random_projection\"],\n",
    "    results_output=f\"{output_dir}/seqsignet_attention_mha_grp_focal_{gamma}_{shift}_{window_size}_{n}_kfold.csv\",\n",
    "    **kwargs,\n",
    ")"
   ]
  },
  {
   "cell_type": "code",
   "execution_count": null,
   "id": "6359db47-ec12-4a44-9566-2b1dbefbe0f2",
   "metadata": {},
   "outputs": [],
   "source": [
    "seqsignet_attention_mha_grp_35.groupby(\n",
    "    [\n",
    "        \"dimensions\",\n",
    "        \"output_channels\",\n",
    "        \"sig_depth\",\n",
    "        \"num_heads\",\n",
    "        \"num_layers\",\n",
    "        \"ffn_hidden_dim\",\n",
    "        \"dropout_rate\",\n",
    "        \"learning_rate\",\n",
    "    ]\n",
    ").mean()"
   ]
  },
  {
   "cell_type": "code",
   "execution_count": null,
   "id": "080d2396-26c9-4de8-b527-01d065cb37ff",
   "metadata": {},
   "outputs": [],
   "source": [
    "best_seqsignet_attention_mha_grp_35"
   ]
  },
  {
   "cell_type": "code",
   "execution_count": null,
   "id": "dc373678-f928-445c-b257-d23883eb1be6",
   "metadata": {},
   "outputs": [],
   "source": [
    "best_seqsignet_attention_mha_grp_35[\n",
    "    [\n",
    "        \"dimensions\",\n",
    "        \"output_channels\",\n",
    "        \"sig_depth\",\n",
    "        \"num_heads\",\n",
    "        \"num_layers\",\n",
    "        \"ffn_hidden_dim\",\n",
    "        \"dropout_rate\",\n",
    "        \"learning_rate\",\n",
    "    ]\n",
    "]"
   ]
  },
  {
   "cell_type": "code",
   "execution_count": null,
   "id": "efb8e85b-e9f7-4640-a709-afc118c14e98",
   "metadata": {},
   "outputs": [],
   "source": [
    "best_seqsignet_attention_mha_grp_35[\"f1\"].mean()"
   ]
  },
  {
   "cell_type": "code",
   "execution_count": null,
   "id": "cacb1afc-22e1-4b2e-a209-d2e76954f0d9",
   "metadata": {},
   "outputs": [],
   "source": [
    "best_seqsignet_attention_mha_grp_35[\"precision\"].mean()"
   ]
  },
  {
   "cell_type": "code",
   "execution_count": null,
   "id": "7df27a7e-285f-4a53-ac59-74def9f4e49f",
   "metadata": {},
   "outputs": [],
   "source": [
    "best_seqsignet_attention_mha_grp_35[\"recall\"].mean()"
   ]
  },
  {
   "cell_type": "code",
   "execution_count": null,
   "id": "ebdf81d9-3301-4f3b-aa88-5c09d4b2490b",
   "metadata": {},
   "outputs": [],
   "source": [
    "np.stack(best_seqsignet_attention_mha_grp_35[\"f1_scores\"]).mean(axis=0)"
   ]
  },
  {
   "cell_type": "code",
   "execution_count": null,
   "id": "9b22b04c-ccd0-4fb7-9da4-bd3131ace666",
   "metadata": {},
   "outputs": [],
   "source": [
    "np.stack(best_seqsignet_attention_mha_grp_35[\"precision_scores\"]).mean(axis=0)"
   ]
  },
  {
   "cell_type": "code",
   "execution_count": null,
   "id": "eca96477-2f59-40eb-8732-8ad023be37f1",
   "metadata": {},
   "outputs": [],
   "source": [
    "np.stack(best_seqsignet_attention_mha_grp_35[\"recall_scores\"]).mean(axis=0)"
   ]
  },
  {
   "cell_type": "markdown",
   "id": "e224d684-9ff0-459a-ba03-8e8853fb50de",
   "metadata": {
    "tags": []
   },
   "source": [
    "# history_length=80"
   ]
  },
  {
   "cell_type": "code",
   "execution_count": null,
   "id": "f7802347-e3fd-4898-8a6c-ccbbe6120dfe",
   "metadata": {},
   "outputs": [],
   "source": [
    "shift = 3\n",
    "window_size = 5\n",
    "n = 26"
   ]
  },
  {
   "cell_type": "markdown",
   "id": "f48541cb-6ef2-47da-95ac-1156ca2b2195",
   "metadata": {},
   "source": [
    "## UMAP"
   ]
  },
  {
   "cell_type": "code",
   "execution_count": null,
   "id": "44da905a-8a16-419a-be32-000de8a57810",
   "metadata": {
    "tags": []
   },
   "outputs": [],
   "source": [
    "(\n",
    "    seqsignet_attention_mha_umap_80,\n",
    "    best_seqsignet_attention_mha_umap_80,\n",
    "    _,\n",
    "    __,\n",
    ") = seqsignet_full_attention_hyperparameter_search(\n",
    "    shift=shift,\n",
    "    window_size=window_size,\n",
    "    n=n,\n",
    "    dim_reduce_methods=[\"umap\"],\n",
    "    results_output=f\"{output_dir}/seqsignet_attention_mha_umap_focal_{gamma}_{shift}_{window_size}_{n}_kfold.csv\",\n",
    "    **kwargs,\n",
    ")"
   ]
  },
  {
   "cell_type": "code",
   "execution_count": null,
   "id": "54b5a51b-bafc-4fbe-a62d-b5b43fa55c1e",
   "metadata": {},
   "outputs": [],
   "source": [
    "seqsignet_attention_mha_umap_80.groupby(\n",
    "    [\n",
    "        \"dimensions\",\n",
    "        \"output_channels\",\n",
    "        \"sig_depth\",\n",
    "        \"num_heads\",\n",
    "        \"num_layers\",\n",
    "        \"ffn_hidden_dim\",\n",
    "        \"learning_rate\",\n",
    "    ]\n",
    ").mean()"
   ]
  },
  {
   "cell_type": "code",
   "execution_count": null,
   "id": "cb239104-e394-4fc4-8efe-e6c17ed97400",
   "metadata": {},
   "outputs": [],
   "source": [
    "best_seqsignet_attention_mha_umap_80"
   ]
  },
  {
   "cell_type": "code",
   "execution_count": null,
   "id": "0326ade1-36a6-48c8-926e-6f8a1f52f685",
   "metadata": {},
   "outputs": [],
   "source": [
    "best_seqsignet_attention_mha_umap_80[\n",
    "    [\n",
    "        \"dimensions\",\n",
    "        \"output_channels\",\n",
    "        \"sig_depth\",\n",
    "        \"num_heads\",\n",
    "        \"num_layers\",\n",
    "        \"ffn_hidden_dim\",\n",
    "        \"dropout_rate\",\n",
    "        \"learning_rate\",\n",
    "    ]\n",
    "]"
   ]
  },
  {
   "cell_type": "code",
   "execution_count": null,
   "id": "f51bb8d5-097b-4b30-affa-77e32293d6b0",
   "metadata": {},
   "outputs": [],
   "source": [
    "best_seqsignet_attention_mha_umap_80[\"f1\"].mean()"
   ]
  },
  {
   "cell_type": "code",
   "execution_count": null,
   "id": "c2e9dcf2-8a1e-4046-acaf-1766f2dfae04",
   "metadata": {},
   "outputs": [],
   "source": [
    "best_seqsignet_attention_mha_umap_80[\"precision\"].mean()"
   ]
  },
  {
   "cell_type": "code",
   "execution_count": null,
   "id": "f1dac213-232a-4089-8870-a5ecd329e57e",
   "metadata": {},
   "outputs": [],
   "source": [
    "best_seqsignet_attention_mha_umap_80[\"recall\"].mean()"
   ]
  },
  {
   "cell_type": "code",
   "execution_count": null,
   "id": "6aec6058-559e-4e6d-b8dc-71ed42fd8aff",
   "metadata": {},
   "outputs": [],
   "source": [
    "np.stack(best_seqsignet_attention_mha_umap_80[\"f1_scores\"]).mean(axis=0)"
   ]
  },
  {
   "cell_type": "code",
   "execution_count": null,
   "id": "b968437b-271e-4226-98f0-84aa0b05e12a",
   "metadata": {},
   "outputs": [],
   "source": [
    "np.stack(best_seqsignet_attention_mha_umap_80[\"precision_scores\"]).mean(axis=0)"
   ]
  },
  {
   "cell_type": "code",
   "execution_count": null,
   "id": "06390249-340e-4653-a9bd-475fa34fd8be",
   "metadata": {},
   "outputs": [],
   "source": [
    "np.stack(best_seqsignet_attention_mha_umap_80[\"recall_scores\"]).mean(axis=0)"
   ]
  },
  {
   "cell_type": "markdown",
   "id": "aebd5695-92e3-4190-a534-e63ecef6dfdf",
   "metadata": {},
   "source": [
    "## Random Projections"
   ]
  },
  {
   "cell_type": "code",
   "execution_count": null,
   "id": "4e98bb45-e549-47d5-86b1-c172f37927a3",
   "metadata": {},
   "outputs": [],
   "source": [
    "(\n",
    "    seqsignet_attention_mha_grp_80,\n",
    "    best_seqsignet_attention_mha_grp_80,\n",
    "    _,\n",
    "    __,\n",
    ") = seqsignet_full_attention_hyperparameter_search(\n",
    "    shift=shift,\n",
    "    window_size=window_size,\n",
    "    n=n,\n",
    "    dim_reduce_methods=[\"gaussian_random_projection\"],\n",
    "    results_output=f\"{output_dir}/seqsignet_attention_mha_grp_focal_{gamma}_{shift}_{window_size}_{n}_kfold.csv\",\n",
    "    **kwargs,\n",
    ")"
   ]
  },
  {
   "cell_type": "code",
   "execution_count": null,
   "id": "7a0108b3-42a8-4d43-bfb7-b7ee494cdecb",
   "metadata": {},
   "outputs": [],
   "source": [
    "seqsignet_attention_mha_grp_80.groupby(\n",
    "    [\n",
    "        \"dimensions\",\n",
    "        \"output_channels\",\n",
    "        \"sig_depth\",\n",
    "        \"num_heads\",\n",
    "        \"num_layers\",\n",
    "        \"ffn_hidden_dim\",\n",
    "        \"dropout_rate\",\n",
    "        \"learning_rate\",\n",
    "    ]\n",
    ").mean()"
   ]
  },
  {
   "cell_type": "code",
   "execution_count": null,
   "id": "c06eeff4-d239-4e57-a982-afebea14314e",
   "metadata": {},
   "outputs": [],
   "source": [
    "best_seqsignet_attention_mha_grp_80"
   ]
  },
  {
   "cell_type": "code",
   "execution_count": null,
   "id": "37ed0e9c-fe51-4700-8e85-716a79c1c636",
   "metadata": {},
   "outputs": [],
   "source": [
    "best_seqsignet_attention_mha_grp_80[\n",
    "    [\n",
    "        \"dimensions\",\n",
    "        \"output_channels\",\n",
    "        \"sig_depth\",\n",
    "        \"num_heads\",\n",
    "        \"num_layers\",\n",
    "        \"ffn_hidden_dim\",\n",
    "        \"dropout_rate\",\n",
    "        \"learning_rate\",\n",
    "    ]\n",
    "]"
   ]
  },
  {
   "cell_type": "code",
   "execution_count": null,
   "id": "cd7097c2-68fe-40f4-9b91-852eb4bc8a83",
   "metadata": {},
   "outputs": [],
   "source": [
    "best_seqsignet_attention_mha_grp_80[\"f1\"].mean()"
   ]
  },
  {
   "cell_type": "code",
   "execution_count": null,
   "id": "eb95f40f-9543-4655-ba3b-f8e4ce921a60",
   "metadata": {},
   "outputs": [],
   "source": [
    "best_seqsignet_attention_mha_grp_80[\"precision\"].mean()"
   ]
  },
  {
   "cell_type": "code",
   "execution_count": null,
   "id": "807e9a8c-8156-4650-89ed-21138c37f414",
   "metadata": {},
   "outputs": [],
   "source": [
    "best_seqsignet_attention_mha_grp_80[\"recall\"].mean()"
   ]
  },
  {
   "cell_type": "code",
   "execution_count": null,
   "id": "aef44d1b-e95b-4dea-97d6-f6ee5c0e9a37",
   "metadata": {},
   "outputs": [],
   "source": [
    "np.stack(best_seqsignet_attention_mha_grp_80[\"f1_scores\"]).mean(axis=0)"
   ]
  },
  {
   "cell_type": "code",
   "execution_count": null,
   "id": "d0e0195e-90b6-4318-a879-78f420ca2a54",
   "metadata": {},
   "outputs": [],
   "source": [
    "np.stack(best_seqsignet_attention_mha_grp_80[\"precision_scores\"]).mean(axis=0)"
   ]
  },
  {
   "cell_type": "code",
   "execution_count": null,
   "id": "d2594667-041e-4961-a2b8-96fb0d205b95",
   "metadata": {},
   "outputs": [],
   "source": [
    "np.stack(best_seqsignet_attention_mha_grp_80[\"recall_scores\"]).mean(axis=0)"
   ]
  }
 ],
 "metadata": {
  "kernelspec": {
   "display_name": "nlpsig-networks (Conda)",
   "language": "python",
   "name": "sys_nlpsig-networks"
  },
  "language_info": {
   "codemirror_mode": {
    "name": "ipython",
    "version": 3
   },
   "file_extension": ".py",
   "mimetype": "text/x-python",
   "name": "python",
   "nbconvert_exporter": "python",
   "pygments_lexer": "ipython3",
   "version": "3.8.17"
  }
 },
 "nbformat": 4,
 "nbformat_minor": 5
}
