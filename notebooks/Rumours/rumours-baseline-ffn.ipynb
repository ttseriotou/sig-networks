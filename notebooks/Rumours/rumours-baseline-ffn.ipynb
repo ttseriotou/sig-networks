{
 "cells": [
  {
   "cell_type": "code",
   "execution_count": 1,
   "metadata": {},
   "outputs": [],
   "source": [
    "import pickle\n",
    "import numpy as np\n",
    "import pandas as pd\n",
    "import re\n",
    "\n",
    "seed = 2023"
   ]
  },
  {
   "cell_type": "code",
   "execution_count": 2,
   "metadata": {},
   "outputs": [],
   "source": [
    "import os\n",
    "os.chdir(\"../../\")"
   ]
  },
  {
   "cell_type": "code",
   "execution_count": 3,
   "metadata": {},
   "outputs": [
    {
     "name": "stderr",
     "output_type": "stream",
     "text": [
      "/storage/ttseriotou/nlpsig-networks-env/lib/python3.8/site-packages/tqdm/auto.py:21: TqdmWarning: IProgress not found. Please update jupyter and ipywidgets. See https://ipywidgets.readthedocs.io/en/stable/user_install.html\n",
      "  from .autonotebook import tqdm as notebook_tqdm\n"
     ]
    }
   ],
   "source": [
    "from nlpsig_networks.scripts.ffn_baseline_functions import (\n",
    "    ffn_hyperparameter_search,\n",
    ")"
   ]
  },
  {
   "cell_type": "markdown",
   "metadata": {},
   "source": [
    "Rumours"
   ]
  },
  {
   "cell_type": "code",
   "execution_count": 4,
   "metadata": {},
   "outputs": [],
   "source": [
    "%run notebooks/Rumours/load_sbert-embeddings.py"
   ]
  },
  {
   "cell_type": "code",
   "execution_count": 5,
   "metadata": {},
   "outputs": [
    {
     "data": {
      "text/html": [
       "<div>\n",
       "<style scoped>\n",
       "    .dataframe tbody tr th:only-of-type {\n",
       "        vertical-align: middle;\n",
       "    }\n",
       "\n",
       "    .dataframe tbody tr th {\n",
       "        vertical-align: top;\n",
       "    }\n",
       "\n",
       "    .dataframe thead th {\n",
       "        text-align: right;\n",
       "    }\n",
       "</style>\n",
       "<table border=\"1\" class=\"dataframe\">\n",
       "  <thead>\n",
       "    <tr style=\"text-align: right;\">\n",
       "      <th></th>\n",
       "      <th>id</th>\n",
       "      <th>label</th>\n",
       "      <th>datetime</th>\n",
       "      <th>text</th>\n",
       "      <th>timeline_id</th>\n",
       "    </tr>\n",
       "  </thead>\n",
       "  <tbody>\n",
       "    <tr>\n",
       "      <th>0</th>\n",
       "      <td>5.249902e+17</td>\n",
       "      <td>0</td>\n",
       "      <td>2014-10-22 18:26:23</td>\n",
       "      <td>Police have clarified that there were two shoo...</td>\n",
       "      <td>0</td>\n",
       "    </tr>\n",
       "    <tr>\n",
       "      <th>1</th>\n",
       "      <td>5.249906e+17</td>\n",
       "      <td>0</td>\n",
       "      <td>2014-10-22 18:27:58</td>\n",
       "      <td>@CTVNews you guys \"confirmed\" there were 3 sho...</td>\n",
       "      <td>0</td>\n",
       "    </tr>\n",
       "    <tr>\n",
       "      <th>2</th>\n",
       "      <td>5.249908e+17</td>\n",
       "      <td>1</td>\n",
       "      <td>2014-10-22 18:28:46</td>\n",
       "      <td>@CTVNews get it right. http://t.co/GHYxMuzPG9</td>\n",
       "      <td>0</td>\n",
       "    </tr>\n",
       "    <tr>\n",
       "      <th>3</th>\n",
       "      <td>5.249927e+17</td>\n",
       "      <td>1</td>\n",
       "      <td>2014-10-22 18:36:29</td>\n",
       "      <td>RT @CTVNews Police have clarified that there w...</td>\n",
       "      <td>0</td>\n",
       "    </tr>\n",
       "    <tr>\n",
       "      <th>4</th>\n",
       "      <td>5.250038e+17</td>\n",
       "      <td>1</td>\n",
       "      <td>2014-10-22 19:20:41</td>\n",
       "      <td>@CTVNews @ctvsaskatoon so what happened at Rid...</td>\n",
       "      <td>0</td>\n",
       "    </tr>\n",
       "  </tbody>\n",
       "</table>\n",
       "</div>"
      ],
      "text/plain": [
       "             id label            datetime  \\\n",
       "0  5.249902e+17     0 2014-10-22 18:26:23   \n",
       "1  5.249906e+17     0 2014-10-22 18:27:58   \n",
       "2  5.249908e+17     1 2014-10-22 18:28:46   \n",
       "3  5.249927e+17     1 2014-10-22 18:36:29   \n",
       "4  5.250038e+17     1 2014-10-22 19:20:41   \n",
       "\n",
       "                                                text timeline_id  \n",
       "0  Police have clarified that there were two shoo...           0  \n",
       "1  @CTVNews you guys \"confirmed\" there were 3 sho...           0  \n",
       "2      @CTVNews get it right. http://t.co/GHYxMuzPG9           0  \n",
       "3  RT @CTVNews Police have clarified that there w...           0  \n",
       "4  @CTVNews @ctvsaskatoon so what happened at Rid...           0  "
      ]
     },
     "execution_count": 5,
     "metadata": {},
     "output_type": "execute_result"
    }
   ],
   "source": [
    "df_rumours.head()"
   ]
  },
  {
   "cell_type": "code",
   "execution_count": 6,
   "metadata": {},
   "outputs": [
    {
     "data": {
      "text/plain": [
       "torch.Size([5568, 384])"
      ]
     },
     "execution_count": 6,
     "metadata": {},
     "output_type": "execute_result"
    }
   ],
   "source": [
    "sbert_embeddings.shape"
   ]
  },
  {
   "cell_type": "markdown",
   "metadata": {},
   "source": [
    "Baseline: FFN"
   ]
  },
  {
   "cell_type": "code",
   "execution_count": 9,
   "metadata": {},
   "outputs": [],
   "source": [
    "num_epochs = 100\n",
    "hidden_dim_sizes = [[32,32]]#[[32,32], [64,64], [128,128], [256,256]]\n",
    "dropout_rates = [0.2] #[0.5, 0.2, 0.1]\n",
    "learning_rates = [1e-4]#[1e-3, 1e-4, 5e-4]\n",
    "seeds = [0, 1, 12, 123, 1234]\n",
    "loss = \"focal\"\n",
    "gamma = 2\n",
    "validation_metric = \"f1\""
   ]
  },
  {
   "cell_type": "markdown",
   "metadata": {},
   "source": [
    "We use the ffn_hyperparameter_search function which loops through the different hidden dimensions, dropout rates and learning rates to find the best model for the validation set. We evaluate the model on several seeds and average the performance over the seeds."
   ]
  },
  {
   "cell_type": "code",
   "execution_count": 11,
   "metadata": {},
   "outputs": [
    {
     "name": "stderr",
     "output_type": "stream",
     "text": [
      "  0%|          | 0/1 [00:00<?, ?it/s]\n",
      "\u001b[A"
     ]
    },
    {
     "name": "stdout",
     "output_type": "stream",
     "text": [
      "[INFO] Splitting data by provided groups\n",
      "[INFO] Splitting data by provided groups\n",
      "[INFO] Splitting data by provided groups\n",
      "[INFO] Splitting data by provided groups\n",
      "[INFO] Splitting data by provided groups\n"
     ]
    },
    {
     "name": "stderr",
     "output_type": "stream",
     "text": [
      "\n",
      "100%|██████████| 1/1 [00:27<00:00, 27.04s/it]\n",
      "100%|██████████| 1/1 [00:27<00:00, 27.04s/it]\n",
      "100%|██████████| 1/1 [00:27<00:00, 27.05s/it]\n"
     ]
    },
    {
     "name": "stdout",
     "output_type": "stream",
     "text": [
      "[INFO] Splitting data by provided groups\n",
      "[INFO] Splitting data by provided groups\n",
      "[INFO] Splitting data by provided groups\n",
      "[INFO] Splitting data by provided groups\n",
      "[INFO] Splitting data by provided groups\n"
     ]
    }
   ],
   "source": [
    "ffn_current, best_ffn_current, _, __ = ffn_hyperparameter_search( \n",
    "    num_epochs=num_epochs,\n",
    "    x_data=sbert_embeddings,\n",
    "    y_data=y_data,\n",
    "    hidden_dim_sizes=hidden_dim_sizes,\n",
    "    output_dim=output_dim,\n",
    "    dropout_rates=dropout_rates,\n",
    "    learning_rates=learning_rates,\n",
    "    seeds=seeds,\n",
    "    loss=loss,\n",
    "    gamma=gamma,\n",
    "    data_split_seed=123,\n",
    "    split_ids= torch.tensor(df_rumours['timeline_id'].astype(int)),\n",
    "    k_fold=False,\n",
    "    validation_metric=validation_metric,\n",
    "    results_output=None,\n",
    "    verbose=False\n",
    ")"
   ]
  },
  {
   "cell_type": "code",
   "execution_count": 12,
   "metadata": {},
   "outputs": [
    {
     "data": {
      "text/html": [
       "<div>\n",
       "<style scoped>\n",
       "    .dataframe tbody tr th:only-of-type {\n",
       "        vertical-align: middle;\n",
       "    }\n",
       "\n",
       "    .dataframe tbody tr th {\n",
       "        vertical-align: top;\n",
       "    }\n",
       "\n",
       "    .dataframe thead th {\n",
       "        text-align: right;\n",
       "    }\n",
       "</style>\n",
       "<table border=\"1\" class=\"dataframe\">\n",
       "  <thead>\n",
       "    <tr style=\"text-align: right;\">\n",
       "      <th></th>\n",
       "      <th>loss</th>\n",
       "      <th>accuracy</th>\n",
       "      <th>f1</th>\n",
       "      <th>f1_scores</th>\n",
       "      <th>valid_loss</th>\n",
       "      <th>valid_accuracy</th>\n",
       "      <th>valid_f1</th>\n",
       "      <th>valid_f1_scores</th>\n",
       "      <th>hidden_dim</th>\n",
       "      <th>dropout_rate</th>\n",
       "      <th>learning_rate</th>\n",
       "      <th>seed</th>\n",
       "      <th>gamma</th>\n",
       "      <th>k_fold</th>\n",
       "      <th>model_id</th>\n",
       "    </tr>\n",
       "  </thead>\n",
       "  <tbody>\n",
       "    <tr>\n",
       "      <th>0</th>\n",
       "      <td>focal</td>\n",
       "      <td>0.5784</td>\n",
       "      <td>0.514008</td>\n",
       "      <td>[0.6909090909090909, 0.3371069182389937]</td>\n",
       "      <td>0.237245</td>\n",
       "      <td>0.639383</td>\n",
       "      <td>0.625018</td>\n",
       "      <td>[0.6984126984126985, 0.551622418879056]</td>\n",
       "      <td>[32, 32]</td>\n",
       "      <td>0.2</td>\n",
       "      <td>0.0001</td>\n",
       "      <td>0</td>\n",
       "      <td>2</td>\n",
       "      <td>False</td>\n",
       "      <td>0</td>\n",
       "    </tr>\n",
       "    <tr>\n",
       "      <th>0</th>\n",
       "      <td>focal</td>\n",
       "      <td>0.5760</td>\n",
       "      <td>0.511569</td>\n",
       "      <td>[0.6889671361502347, 0.3341708542713568]</td>\n",
       "      <td>0.231630</td>\n",
       "      <td>0.637011</td>\n",
       "      <td>0.624646</td>\n",
       "      <td>[0.6927710843373495, 0.5565217391304348]</td>\n",
       "      <td>[32, 32]</td>\n",
       "      <td>0.2</td>\n",
       "      <td>0.0001</td>\n",
       "      <td>1</td>\n",
       "      <td>2</td>\n",
       "      <td>False</td>\n",
       "      <td>0</td>\n",
       "    </tr>\n",
       "    <tr>\n",
       "      <th>0</th>\n",
       "      <td>focal</td>\n",
       "      <td>0.5840</td>\n",
       "      <td>0.525166</td>\n",
       "      <td>[0.6923076923076923, 0.35802469135802467]</td>\n",
       "      <td>0.237621</td>\n",
       "      <td>0.640569</td>\n",
       "      <td>0.626431</td>\n",
       "      <td>[0.6991062562065542, 0.5537555228276877]</td>\n",
       "      <td>[32, 32]</td>\n",
       "      <td>0.2</td>\n",
       "      <td>0.0001</td>\n",
       "      <td>12</td>\n",
       "      <td>2</td>\n",
       "      <td>False</td>\n",
       "      <td>0</td>\n",
       "    </tr>\n",
       "    <tr>\n",
       "      <th>0</th>\n",
       "      <td>focal</td>\n",
       "      <td>0.5736</td>\n",
       "      <td>0.513608</td>\n",
       "      <td>[0.6844286560094731, 0.342786683107275]</td>\n",
       "      <td>0.241144</td>\n",
       "      <td>0.638197</td>\n",
       "      <td>0.625025</td>\n",
       "      <td>[0.6953046953046952, 0.5547445255474452]</td>\n",
       "      <td>[32, 32]</td>\n",
       "      <td>0.2</td>\n",
       "      <td>0.0001</td>\n",
       "      <td>123</td>\n",
       "      <td>2</td>\n",
       "      <td>False</td>\n",
       "      <td>0</td>\n",
       "    </tr>\n",
       "    <tr>\n",
       "      <th>0</th>\n",
       "      <td>focal</td>\n",
       "      <td>0.5736</td>\n",
       "      <td>0.514229</td>\n",
       "      <td>[0.6840545346769413, 0.34440344403444034]</td>\n",
       "      <td>0.234256</td>\n",
       "      <td>0.635824</td>\n",
       "      <td>0.623917</td>\n",
       "      <td>[0.6908358509566969, 0.556998556998557]</td>\n",
       "      <td>[32, 32]</td>\n",
       "      <td>0.2</td>\n",
       "      <td>0.0001</td>\n",
       "      <td>1234</td>\n",
       "      <td>2</td>\n",
       "      <td>False</td>\n",
       "      <td>0</td>\n",
       "    </tr>\n",
       "  </tbody>\n",
       "</table>\n",
       "</div>"
      ],
      "text/plain": [
       "    loss  accuracy        f1                                  f1_scores  \\\n",
       "0  focal    0.5784  0.514008   [0.6909090909090909, 0.3371069182389937]   \n",
       "0  focal    0.5760  0.511569   [0.6889671361502347, 0.3341708542713568]   \n",
       "0  focal    0.5840  0.525166  [0.6923076923076923, 0.35802469135802467]   \n",
       "0  focal    0.5736  0.513608    [0.6844286560094731, 0.342786683107275]   \n",
       "0  focal    0.5736  0.514229  [0.6840545346769413, 0.34440344403444034]   \n",
       "\n",
       "   valid_loss  valid_accuracy  valid_f1  \\\n",
       "0    0.237245        0.639383  0.625018   \n",
       "0    0.231630        0.637011  0.624646   \n",
       "0    0.237621        0.640569  0.626431   \n",
       "0    0.241144        0.638197  0.625025   \n",
       "0    0.234256        0.635824  0.623917   \n",
       "\n",
       "                            valid_f1_scores hidden_dim  dropout_rate  \\\n",
       "0   [0.6984126984126985, 0.551622418879056]   [32, 32]           0.2   \n",
       "0  [0.6927710843373495, 0.5565217391304348]   [32, 32]           0.2   \n",
       "0  [0.6991062562065542, 0.5537555228276877]   [32, 32]           0.2   \n",
       "0  [0.6953046953046952, 0.5547445255474452]   [32, 32]           0.2   \n",
       "0   [0.6908358509566969, 0.556998556998557]   [32, 32]           0.2   \n",
       "\n",
       "   learning_rate  seed  gamma  k_fold  model_id  \n",
       "0         0.0001     0      2   False         0  \n",
       "0         0.0001     1      2   False         0  \n",
       "0         0.0001    12      2   False         0  \n",
       "0         0.0001   123      2   False         0  \n",
       "0         0.0001  1234      2   False         0  "
      ]
     },
     "execution_count": 12,
     "metadata": {},
     "output_type": "execute_result"
    }
   ],
   "source": [
    "ffn_current"
   ]
  },
  {
   "cell_type": "code",
   "execution_count": 14,
   "metadata": {},
   "outputs": [
    {
     "data": {
      "text/html": [
       "<div>\n",
       "<style scoped>\n",
       "    .dataframe tbody tr th:only-of-type {\n",
       "        vertical-align: middle;\n",
       "    }\n",
       "\n",
       "    .dataframe tbody tr th {\n",
       "        vertical-align: top;\n",
       "    }\n",
       "\n",
       "    .dataframe thead th {\n",
       "        text-align: right;\n",
       "    }\n",
       "</style>\n",
       "<table border=\"1\" class=\"dataframe\">\n",
       "  <thead>\n",
       "    <tr style=\"text-align: right;\">\n",
       "      <th></th>\n",
       "      <th>loss</th>\n",
       "      <th>accuracy</th>\n",
       "      <th>f1</th>\n",
       "      <th>f1_scores</th>\n",
       "      <th>valid_loss</th>\n",
       "      <th>valid_accuracy</th>\n",
       "      <th>valid_f1</th>\n",
       "      <th>valid_f1_scores</th>\n",
       "      <th>hidden_dim</th>\n",
       "      <th>dropout_rate</th>\n",
       "      <th>learning_rate</th>\n",
       "      <th>seed</th>\n",
       "      <th>gamma</th>\n",
       "      <th>k_fold</th>\n",
       "    </tr>\n",
       "  </thead>\n",
       "  <tbody>\n",
       "    <tr>\n",
       "      <th>0</th>\n",
       "      <td>focal</td>\n",
       "      <td>0.5784</td>\n",
       "      <td>0.514008</td>\n",
       "      <td>[0.6909090909090909, 0.3371069182389937]</td>\n",
       "      <td>0.237245</td>\n",
       "      <td>0.639383</td>\n",
       "      <td>0.625018</td>\n",
       "      <td>[0.6984126984126985, 0.551622418879056]</td>\n",
       "      <td>[32, 32]</td>\n",
       "      <td>0.2</td>\n",
       "      <td>0.0001</td>\n",
       "      <td>0</td>\n",
       "      <td>2</td>\n",
       "      <td>False</td>\n",
       "    </tr>\n",
       "    <tr>\n",
       "      <th>0</th>\n",
       "      <td>focal</td>\n",
       "      <td>0.5760</td>\n",
       "      <td>0.511569</td>\n",
       "      <td>[0.6889671361502347, 0.3341708542713568]</td>\n",
       "      <td>0.231630</td>\n",
       "      <td>0.637011</td>\n",
       "      <td>0.624646</td>\n",
       "      <td>[0.6927710843373495, 0.5565217391304348]</td>\n",
       "      <td>[32, 32]</td>\n",
       "      <td>0.2</td>\n",
       "      <td>0.0001</td>\n",
       "      <td>1</td>\n",
       "      <td>2</td>\n",
       "      <td>False</td>\n",
       "    </tr>\n",
       "    <tr>\n",
       "      <th>0</th>\n",
       "      <td>focal</td>\n",
       "      <td>0.5840</td>\n",
       "      <td>0.525166</td>\n",
       "      <td>[0.6923076923076923, 0.35802469135802467]</td>\n",
       "      <td>0.237621</td>\n",
       "      <td>0.640569</td>\n",
       "      <td>0.626431</td>\n",
       "      <td>[0.6991062562065542, 0.5537555228276877]</td>\n",
       "      <td>[32, 32]</td>\n",
       "      <td>0.2</td>\n",
       "      <td>0.0001</td>\n",
       "      <td>12</td>\n",
       "      <td>2</td>\n",
       "      <td>False</td>\n",
       "    </tr>\n",
       "    <tr>\n",
       "      <th>0</th>\n",
       "      <td>focal</td>\n",
       "      <td>0.5736</td>\n",
       "      <td>0.513608</td>\n",
       "      <td>[0.6844286560094731, 0.342786683107275]</td>\n",
       "      <td>0.241144</td>\n",
       "      <td>0.638197</td>\n",
       "      <td>0.625025</td>\n",
       "      <td>[0.6953046953046952, 0.5547445255474452]</td>\n",
       "      <td>[32, 32]</td>\n",
       "      <td>0.2</td>\n",
       "      <td>0.0001</td>\n",
       "      <td>123</td>\n",
       "      <td>2</td>\n",
       "      <td>False</td>\n",
       "    </tr>\n",
       "    <tr>\n",
       "      <th>0</th>\n",
       "      <td>focal</td>\n",
       "      <td>0.5736</td>\n",
       "      <td>0.514229</td>\n",
       "      <td>[0.6840545346769413, 0.34440344403444034]</td>\n",
       "      <td>0.234256</td>\n",
       "      <td>0.635824</td>\n",
       "      <td>0.623917</td>\n",
       "      <td>[0.6908358509566969, 0.556998556998557]</td>\n",
       "      <td>[32, 32]</td>\n",
       "      <td>0.2</td>\n",
       "      <td>0.0001</td>\n",
       "      <td>1234</td>\n",
       "      <td>2</td>\n",
       "      <td>False</td>\n",
       "    </tr>\n",
       "  </tbody>\n",
       "</table>\n",
       "</div>"
      ],
      "text/plain": [
       "    loss  accuracy        f1                                  f1_scores  \\\n",
       "0  focal    0.5784  0.514008   [0.6909090909090909, 0.3371069182389937]   \n",
       "0  focal    0.5760  0.511569   [0.6889671361502347, 0.3341708542713568]   \n",
       "0  focal    0.5840  0.525166  [0.6923076923076923, 0.35802469135802467]   \n",
       "0  focal    0.5736  0.513608    [0.6844286560094731, 0.342786683107275]   \n",
       "0  focal    0.5736  0.514229  [0.6840545346769413, 0.34440344403444034]   \n",
       "\n",
       "   valid_loss  valid_accuracy  valid_f1  \\\n",
       "0    0.237245        0.639383  0.625018   \n",
       "0    0.231630        0.637011  0.624646   \n",
       "0    0.237621        0.640569  0.626431   \n",
       "0    0.241144        0.638197  0.625025   \n",
       "0    0.234256        0.635824  0.623917   \n",
       "\n",
       "                            valid_f1_scores hidden_dim  dropout_rate  \\\n",
       "0   [0.6984126984126985, 0.551622418879056]   [32, 32]           0.2   \n",
       "0  [0.6927710843373495, 0.5565217391304348]   [32, 32]           0.2   \n",
       "0  [0.6991062562065542, 0.5537555228276877]   [32, 32]           0.2   \n",
       "0  [0.6953046953046952, 0.5547445255474452]   [32, 32]           0.2   \n",
       "0   [0.6908358509566969, 0.556998556998557]   [32, 32]           0.2   \n",
       "\n",
       "   learning_rate  seed  gamma  k_fold  \n",
       "0         0.0001     0      2   False  \n",
       "0         0.0001     1      2   False  \n",
       "0         0.0001    12      2   False  \n",
       "0         0.0001   123      2   False  \n",
       "0         0.0001  1234      2   False  "
      ]
     },
     "execution_count": 14,
     "metadata": {},
     "output_type": "execute_result"
    }
   ],
   "source": [
    "best_ffn_current"
   ]
  },
  {
   "cell_type": "code",
   "execution_count": 15,
   "metadata": {},
   "outputs": [
    {
     "data": {
      "text/plain": [
       "0.5157159701063523"
      ]
     },
     "execution_count": 15,
     "metadata": {},
     "output_type": "execute_result"
    }
   ],
   "source": [
    "best_ffn_current[\"f1\"].mean()"
   ]
  },
  {
   "cell_type": "code",
   "execution_count": 16,
   "metadata": {},
   "outputs": [
    {
     "data": {
      "text/plain": [
       "array([0.68813342, 0.34329852])"
      ]
     },
     "execution_count": 16,
     "metadata": {},
     "output_type": "execute_result"
    }
   ],
   "source": [
    "np.stack(best_ffn_current[\"f1_scores\"]).mean(axis=0)"
   ]
  },
  {
   "cell_type": "code",
   "execution_count": null,
   "metadata": {},
   "outputs": [],
   "source": []
  }
 ],
 "metadata": {
  "kernelspec": {
   "display_name": "nlpsig_kernel",
   "language": "python",
   "name": "nlpsig_kernel"
  },
  "language_info": {
   "codemirror_mode": {
    "name": "ipython",
    "version": 3
   },
   "file_extension": ".py",
   "mimetype": "text/x-python",
   "name": "python",
   "nbconvert_exporter": "python",
   "pygments_lexer": "ipython3",
   "version": "3.8.16"
  },
  "orig_nbformat": 4
 },
 "nbformat": 4,
 "nbformat_minor": 2
}
