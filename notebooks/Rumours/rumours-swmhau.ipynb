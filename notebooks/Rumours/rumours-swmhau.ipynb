{
 "cells": [
  {
   "cell_type": "code",
   "execution_count": 1,
   "id": "a983a5e8",
   "metadata": {},
   "outputs": [],
   "source": [
    "import numpy as np\n",
    "import pickle\n",
    "import os\n",
    "\n",
    "seed = 2023"
   ]
  },
  {
   "cell_type": "code",
   "execution_count": 2,
   "id": "a4b2805b-1454-407d-9a0a-740341ebfd3c",
   "metadata": {},
   "outputs": [
    {
     "data": {
      "text/plain": [
       "device(type='cuda')"
      ]
     },
     "execution_count": 2,
     "metadata": {},
     "output_type": "execute_result"
    }
   ],
   "source": [
    "import torch\n",
    "\n",
    "# set device\n",
    "device = torch.device(\"cuda\" if torch.cuda.is_available() else \"cpu\")\n",
    "device"
   ]
  },
  {
   "cell_type": "code",
   "execution_count": 3,
   "id": "e4e666cc",
   "metadata": {},
   "outputs": [],
   "source": [
    "from nlpsig_networks.scripts.swmhau_network_functions import (\n",
    "    swmhau_network_hyperparameter_search,\n",
    ")"
   ]
  },
  {
   "cell_type": "code",
   "execution_count": 4,
   "id": "6e918dde",
   "metadata": {},
   "outputs": [],
   "source": [
    "output_dir = \"rumours_output\"\n",
    "if not os.path.isdir(output_dir):\n",
    "    os.makedirs(output_dir)"
   ]
  },
  {
   "cell_type": "markdown",
   "id": "f7409a03",
   "metadata": {},
   "source": [
    "## Rumours"
   ]
  },
  {
   "cell_type": "code",
   "execution_count": 5,
   "id": "f00bb922",
   "metadata": {},
   "outputs": [],
   "source": [
    "%run load_sbert-embeddings.py"
   ]
  },
  {
   "cell_type": "code",
   "execution_count": 6,
   "id": "720d820f",
   "metadata": {},
   "outputs": [
    {
     "data": {
      "text/html": [
       "<div>\n",
       "<style scoped>\n",
       "    .dataframe tbody tr th:only-of-type {\n",
       "        vertical-align: middle;\n",
       "    }\n",
       "\n",
       "    .dataframe tbody tr th {\n",
       "        vertical-align: top;\n",
       "    }\n",
       "\n",
       "    .dataframe thead th {\n",
       "        text-align: right;\n",
       "    }\n",
       "</style>\n",
       "<table border=\"1\" class=\"dataframe\">\n",
       "  <thead>\n",
       "    <tr style=\"text-align: right;\">\n",
       "      <th></th>\n",
       "      <th>id</th>\n",
       "      <th>label</th>\n",
       "      <th>datetime</th>\n",
       "      <th>text</th>\n",
       "      <th>timeline_id</th>\n",
       "      <th>set</th>\n",
       "    </tr>\n",
       "  </thead>\n",
       "  <tbody>\n",
       "    <tr>\n",
       "      <th>0</th>\n",
       "      <td>5.249902e+17</td>\n",
       "      <td>0</td>\n",
       "      <td>2014-10-22 18:26:23</td>\n",
       "      <td>Police have clarified that there were two shoo...</td>\n",
       "      <td>0</td>\n",
       "      <td>train</td>\n",
       "    </tr>\n",
       "    <tr>\n",
       "      <th>1</th>\n",
       "      <td>5.249906e+17</td>\n",
       "      <td>0</td>\n",
       "      <td>2014-10-22 18:27:58</td>\n",
       "      <td>@CTVNews you guys \"confirmed\" there were 3 sho...</td>\n",
       "      <td>0</td>\n",
       "      <td>train</td>\n",
       "    </tr>\n",
       "    <tr>\n",
       "      <th>2</th>\n",
       "      <td>5.249908e+17</td>\n",
       "      <td>1</td>\n",
       "      <td>2014-10-22 18:28:46</td>\n",
       "      <td>@CTVNews get it right. http://t.co/GHYxMuzPG9</td>\n",
       "      <td>0</td>\n",
       "      <td>train</td>\n",
       "    </tr>\n",
       "    <tr>\n",
       "      <th>3</th>\n",
       "      <td>5.249927e+17</td>\n",
       "      <td>1</td>\n",
       "      <td>2014-10-22 18:36:29</td>\n",
       "      <td>RT @CTVNews Police have clarified that there w...</td>\n",
       "      <td>0</td>\n",
       "      <td>train</td>\n",
       "    </tr>\n",
       "    <tr>\n",
       "      <th>4</th>\n",
       "      <td>5.250038e+17</td>\n",
       "      <td>1</td>\n",
       "      <td>2014-10-22 19:20:41</td>\n",
       "      <td>@CTVNews @ctvsaskatoon so what happened at Rid...</td>\n",
       "      <td>0</td>\n",
       "      <td>train</td>\n",
       "    </tr>\n",
       "  </tbody>\n",
       "</table>\n",
       "</div>"
      ],
      "text/plain": [
       "             id label            datetime  \\\n",
       "0  5.249902e+17     0 2014-10-22 18:26:23   \n",
       "1  5.249906e+17     0 2014-10-22 18:27:58   \n",
       "2  5.249908e+17     1 2014-10-22 18:28:46   \n",
       "3  5.249927e+17     1 2014-10-22 18:36:29   \n",
       "4  5.250038e+17     1 2014-10-22 19:20:41   \n",
       "\n",
       "                                                text timeline_id    set  \n",
       "0  Police have clarified that there were two shoo...           0  train  \n",
       "1  @CTVNews you guys \"confirmed\" there were 3 sho...           0  train  \n",
       "2      @CTVNews get it right. http://t.co/GHYxMuzPG9           0  train  \n",
       "3  RT @CTVNews Police have clarified that there w...           0  train  \n",
       "4  @CTVNews @ctvsaskatoon so what happened at Rid...           0  train  "
      ]
     },
     "execution_count": 6,
     "metadata": {},
     "output_type": "execute_result"
    }
   ],
   "source": [
    "df_rumours.head()"
   ]
  },
  {
   "cell_type": "markdown",
   "id": "da4ff92d",
   "metadata": {},
   "source": [
    "# swmhau Network"
   ]
  },
  {
   "cell_type": "code",
   "execution_count": 7,
   "id": "90bfd87c",
   "metadata": {},
   "outputs": [],
   "source": [
    "features = [\"time_encoding\", \"timeline_index\"]\n",
    "standardise_method = [\"z_score\", None]\n",
    "include_features_in_path = True\n",
    "include_features_in_input = True"
   ]
  },
  {
   "cell_type": "code",
   "execution_count": 8,
   "id": "9e9bee3b",
   "metadata": {},
   "outputs": [],
   "source": [
    "num_epochs = 100\n",
    "dimensions = [15]\n",
    "# define swmhau parameters: (output_channels, sig_depth, num_heads)\n",
    "swmhau_parameters = [(12, 3, 10), (10, 3, 5)]\n",
    "num_layers = [1]\n",
    "ffn_hidden_dim_sizes = [[32,32], [128,128], [512,512]]\n",
    "dropout_rates = [0.1]\n",
    "learning_rates = [5e-4, 3e-4, 1e-4]\n",
    "seeds = [1, 12, 123]\n",
    "loss = \"focal\"\n",
    "gamma = 2\n",
    "validation_metric = \"f1\"\n",
    "patience = 3"
   ]
  },
  {
   "cell_type": "code",
   "execution_count": 9,
   "id": "f3085d4a",
   "metadata": {},
   "outputs": [],
   "source": [
    "kwargs = {\n",
    "    \"num_epochs\": num_epochs,\n",
    "    \"df\": df_rumours,\n",
    "    \"id_column\": \"timeline_id\",\n",
    "    \"label_column\": \"label\",\n",
    "    \"embeddings\": sbert_embeddings,\n",
    "    \"y_data\": y_data,\n",
    "    \"output_dim\": output_dim,\n",
    "    \"dimensions\": dimensions,\n",
    "    \"log_signature\": True,\n",
    "    \"pooling\": \"signature\",\n",
    "    \"swmhau_parameters\": swmhau_parameters,\n",
    "    \"num_layers\": num_layers,\n",
    "    \"ffn_hidden_dim_sizes\": ffn_hidden_dim_sizes,\n",
    "    \"dropout_rates\": dropout_rates,\n",
    "    \"learning_rates\": learning_rates,\n",
    "    \"seeds\": seeds,\n",
    "    \"loss\": loss,\n",
    "    \"gamma\": gamma,\n",
    "    \"device\": device,\n",
    "    \"features\": features,\n",
    "    \"standardise_method\": standardise_method,\n",
    "    \"include_features_in_path\": include_features_in_path,\n",
    "    \"include_features_in_input\": include_features_in_input,\n",
    "    \"split_ids\": split_ids,\n",
    "    \"k_fold\": True,\n",
    "    \"patience\": patience,\n",
    "    \"validation_metric\": validation_metric,\n",
    "    \"verbose\": False,\n",
    "}"
   ]
  },
  {
   "cell_type": "markdown",
   "id": "f237ab7e-fd2f-48e7-87e5-ffb877dc9c8e",
   "metadata": {
    "tags": []
   },
   "source": [
    "# w=5"
   ]
  },
  {
   "cell_type": "code",
   "execution_count": 10,
   "id": "e0734996-d16e-4796-9ad4-6705104a7935",
   "metadata": {},
   "outputs": [],
   "source": [
    "size = 5"
   ]
  },
  {
   "cell_type": "markdown",
   "id": "f0787150-8266-48ee-97f5-5f711ce899c7",
   "metadata": {},
   "source": [
    "## umap"
   ]
  },
  {
   "cell_type": "code",
   "execution_count": 11,
   "id": "13a67a66",
   "metadata": {},
   "outputs": [
    {
     "data": {
      "application/vnd.jupyter.widget-view+json": {
       "model_id": "5717245ec49d457087b3dab120910b73",
       "version_major": 2,
       "version_minor": 0
      },
      "text/plain": [
       "  0%|          | 0/1 [00:00<?, ?it/s]"
      ]
     },
     "metadata": {},
     "output_type": "display_data"
    },
    {
     "data": {
      "application/vnd.jupyter.widget-view+json": {
       "model_id": "d07b6f84c66441b58f3e9efb63a562ea",
       "version_major": 2,
       "version_minor": 0
      },
      "text/plain": [
       "  0%|          | 0/1 [00:00<?, ?it/s]"
      ]
     },
     "metadata": {},
     "output_type": "display_data"
    },
    {
     "data": {
      "application/vnd.jupyter.widget-view+json": {
       "model_id": "1f1bbd4003164475897cf31b231ec37b",
       "version_major": 2,
       "version_minor": 0
      },
      "text/plain": [
       "  0%|          | 0/1 [00:00<?, ?it/s]"
      ]
     },
     "metadata": {},
     "output_type": "display_data"
    },
    {
     "name": "stdout",
     "output_type": "stream",
     "text": [
      "\n",
      "##################################################\n",
      "dimension: 15 | method: umap\n",
      "[INFO] Concatenating the embeddings to the dataframe...\n",
      "[INFO] - columns beginning with 'e' denote the full embddings.\n",
      "[INFO] - columns beginning with 'd' denote the dimension reduced embeddings.\n",
      "[INFO] Adding time feature columns into dataframe in `.df`.\n",
      "[INFO] Adding 'time_encoding' feature...\n",
      "[INFO] Adding 'time_diff' feature...\n",
      "[INFO] Adding 'timeline_index' feature...\n",
      "[INFO] Padding ids and storing in `.df_padded` and `.array_padded` attributes.\n"
     ]
    },
    {
     "data": {
      "application/vnd.jupyter.widget-view+json": {
       "model_id": "32d0a4c5016b4f6ba16f0b8cbd7346e0",
       "version_major": 2,
       "version_minor": 0
      },
      "text/plain": [
       "  0%|          | 0/5568 [00:00<?, ?it/s]"
      ]
     },
     "metadata": {},
     "output_type": "display_data"
    },
    {
     "name": "stdout",
     "output_type": "stream",
     "text": [
      "[INFO] The path was created for each item in the dataframe, by looking at its history, so to include embeddings in the FFN input, we concatenate the embeddings for each sentence / text.\n"
     ]
    },
    {
     "data": {
      "application/vnd.jupyter.widget-view+json": {
       "model_id": "b80a548ce63f48718bced2b4c6a7564a",
       "version_major": 2,
       "version_minor": 0
      },
      "text/plain": [
       "  0%|          | 0/2 [00:00<?, ?it/s]"
      ]
     },
     "metadata": {},
     "output_type": "display_data"
    },
    {
     "data": {
      "application/vnd.jupyter.widget-view+json": {
       "model_id": "3e3b3427159149a6a88780d4887ccb0a",
       "version_major": 2,
       "version_minor": 0
      },
      "text/plain": [
       "  0%|          | 0/1 [00:00<?, ?it/s]"
      ]
     },
     "metadata": {},
     "output_type": "display_data"
    },
    {
     "data": {
      "application/vnd.jupyter.widget-view+json": {
       "model_id": "22d0c1f4062b40958b4d81624fad19f4",
       "version_major": 2,
       "version_minor": 0
      },
      "text/plain": [
       "  0%|          | 0/3 [00:00<?, ?it/s]"
      ]
     },
     "metadata": {},
     "output_type": "display_data"
    },
    {
     "data": {
      "application/vnd.jupyter.widget-view+json": {
       "model_id": "72caac52207d4d2886b46139ab0fbdab",
       "version_major": 2,
       "version_minor": 0
      },
      "text/plain": [
       "  0%|          | 0/1 [00:00<?, ?it/s]"
      ]
     },
     "metadata": {},
     "output_type": "display_data"
    },
    {
     "data": {
      "application/vnd.jupyter.widget-view+json": {
       "model_id": "c5ac163a4acf4d26acdbfaf8a6d60ad5",
       "version_major": 2,
       "version_minor": 0
      },
      "text/plain": [
       "  0%|          | 0/3 [00:00<?, ?it/s]"
      ]
     },
     "metadata": {},
     "output_type": "display_data"
    },
    {
     "data": {
      "application/vnd.jupyter.widget-view+json": {
       "model_id": "81607f8a9c734cedb9a670fc60a0c2bb",
       "version_major": 2,
       "version_minor": 0
      },
      "text/plain": [
       "  0%|          | 0/1 [00:00<?, ?it/s]"
      ]
     },
     "metadata": {},
     "output_type": "display_data"
    },
    {
     "data": {
      "application/vnd.jupyter.widget-view+json": {
       "model_id": "e7a0a942c0c846c298f3079bda618e6a",
       "version_major": 2,
       "version_minor": 0
      },
      "text/plain": [
       "  0%|          | 0/3 [00:00<?, ?it/s]"
      ]
     },
     "metadata": {},
     "output_type": "display_data"
    },
    {
     "data": {
      "application/vnd.jupyter.widget-view+json": {
       "model_id": "278e1e8731d14fc0b4277c5aafcfcb3e",
       "version_major": 2,
       "version_minor": 0
      },
      "text/plain": [
       "  0%|          | 0/1 [00:00<?, ?it/s]"
      ]
     },
     "metadata": {},
     "output_type": "display_data"
    },
    {
     "data": {
      "application/vnd.jupyter.widget-view+json": {
       "model_id": "c5ff0d5bb7e9454f99f7185e604c3197",
       "version_major": 2,
       "version_minor": 0
      },
      "text/plain": [
       "  0%|          | 0/3 [00:00<?, ?it/s]"
      ]
     },
     "metadata": {},
     "output_type": "display_data"
    },
    {
     "data": {
      "application/vnd.jupyter.widget-view+json": {
       "model_id": "c477f67c0207496e988cd00e711cfa6b",
       "version_major": 2,
       "version_minor": 0
      },
      "text/plain": [
       "  0%|          | 0/1 [00:00<?, ?it/s]"
      ]
     },
     "metadata": {},
     "output_type": "display_data"
    },
    {
     "data": {
      "application/vnd.jupyter.widget-view+json": {
       "model_id": "9f2ea41c03fb4fa0944b6019479d2359",
       "version_major": 2,
       "version_minor": 0
      },
      "text/plain": [
       "  0%|          | 0/3 [00:00<?, ?it/s]"
      ]
     },
     "metadata": {},
     "output_type": "display_data"
    },
    {
     "data": {
      "application/vnd.jupyter.widget-view+json": {
       "model_id": "d38fa43a8b5e42d78a7b3a2a8c64d985",
       "version_major": 2,
       "version_minor": 0
      },
      "text/plain": [
       "  0%|          | 0/1 [00:00<?, ?it/s]"
      ]
     },
     "metadata": {},
     "output_type": "display_data"
    },
    {
     "data": {
      "application/vnd.jupyter.widget-view+json": {
       "model_id": "e2195ccd96e642f0bc0d6832fd67fac4",
       "version_major": 2,
       "version_minor": 0
      },
      "text/plain": [
       "  0%|          | 0/3 [00:00<?, ?it/s]"
      ]
     },
     "metadata": {},
     "output_type": "display_data"
    },
    {
     "data": {
      "application/vnd.jupyter.widget-view+json": {
       "model_id": "71c0573512444e928c93a25ece8dd4e4",
       "version_major": 2,
       "version_minor": 0
      },
      "text/plain": [
       "  0%|          | 0/1 [00:00<?, ?it/s]"
      ]
     },
     "metadata": {},
     "output_type": "display_data"
    },
    {
     "data": {
      "application/vnd.jupyter.widget-view+json": {
       "model_id": "baf6c3cbd3d94847a29645f08d91c606",
       "version_major": 2,
       "version_minor": 0
      },
      "text/plain": [
       "  0%|          | 0/3 [00:00<?, ?it/s]"
      ]
     },
     "metadata": {},
     "output_type": "display_data"
    },
    {
     "data": {
      "application/vnd.jupyter.widget-view+json": {
       "model_id": "bfcd7437ab4b421eb2bcc71587379ae2",
       "version_major": 2,
       "version_minor": 0
      },
      "text/plain": [
       "  0%|          | 0/1 [00:00<?, ?it/s]"
      ]
     },
     "metadata": {},
     "output_type": "display_data"
    },
    {
     "data": {
      "application/vnd.jupyter.widget-view+json": {
       "model_id": "862ace6cc14c4c3ead17f0f9654e9ec1",
       "version_major": 2,
       "version_minor": 0
      },
      "text/plain": [
       "  0%|          | 0/3 [00:00<?, ?it/s]"
      ]
     },
     "metadata": {},
     "output_type": "display_data"
    },
    {
     "name": "stdout",
     "output_type": "stream",
     "text": [
      "[INFO] Concatenating the embeddings to the dataframe...\n",
      "[INFO] - columns beginning with 'e' denote the full embddings.\n",
      "[INFO] - columns beginning with 'd' denote the dimension reduced embeddings.\n",
      "[INFO] Adding time feature columns into dataframe in `.df`.\n",
      "[INFO] Adding 'time_encoding' feature...\n",
      "[INFO] Adding 'time_diff' feature...\n",
      "[INFO] Adding 'timeline_index' feature...\n",
      "[INFO] Padding ids and storing in `.df_padded` and `.array_padded` attributes.\n"
     ]
    },
    {
     "data": {
      "application/vnd.jupyter.widget-view+json": {
       "model_id": "5f2a1c16fd1f4b27925e2f4e095d0b51",
       "version_major": 2,
       "version_minor": 0
      },
      "text/plain": [
       "  0%|          | 0/5568 [00:00<?, ?it/s]"
      ]
     },
     "metadata": {},
     "output_type": "display_data"
    },
    {
     "name": "stdout",
     "output_type": "stream",
     "text": [
      "[INFO] The path was created for each item in the dataframe, by looking at its history, so to include embeddings in the FFN input, we concatenate the embeddings for each sentence / text.\n",
      "saving results dataframe to CSV for this hyperparameter search in rumours_output/swmhau_network_umap_focal_2_5_kfold.csv\n",
      "saving the best model results dataframe to CSV for this hyperparameter search in rumours_output/swmhau_network_umap_focal_2_5_kfold_best_model.csv\n"
     ]
    }
   ],
   "source": [
    "(\n",
    "    swmhau_network_umap_kfold_5,\n",
    "    best_swmhau_network_umap_kfold_5,\n",
    "    _,\n",
    "    __,\n",
    ") = swmhau_network_hyperparameter_search(\n",
    "    history_lengths=[size],\n",
    "    dim_reduce_methods=[\"umap\"],\n",
    "    results_output=f\"{output_dir}/swmhau_network_umap_focal_{gamma}_{size}_kfold.csv\",\n",
    "    **kwargs,\n",
    ")"
   ]
  },
  {
   "cell_type": "code",
   "execution_count": 12,
   "id": "0ec7c660",
   "metadata": {},
   "outputs": [
    {
     "name": "stderr",
     "output_type": "stream",
     "text": [
      "/tmp/ipykernel_2583287/2619527520.py:1: FutureWarning: The default value of numeric_only in DataFrameGroupBy.mean is deprecated. In a future version, numeric_only will default to False. Either specify numeric_only or select only columns which should be valid for the function.\n",
      "  swmhau_network_umap_kfold_5.groupby(\n"
     ]
    },
    {
     "data": {
      "text/html": [
       "<div>\n",
       "<style scoped>\n",
       "    .dataframe tbody tr th:only-of-type {\n",
       "        vertical-align: middle;\n",
       "    }\n",
       "\n",
       "    .dataframe tbody tr th {\n",
       "        vertical-align: top;\n",
       "    }\n",
       "\n",
       "    .dataframe thead th {\n",
       "        text-align: right;\n",
       "    }\n",
       "</style>\n",
       "<table border=\"1\" class=\"dataframe\">\n",
       "  <thead>\n",
       "    <tr style=\"text-align: right;\">\n",
       "      <th></th>\n",
       "      <th></th>\n",
       "      <th></th>\n",
       "      <th></th>\n",
       "      <th></th>\n",
       "      <th></th>\n",
       "      <th></th>\n",
       "      <th></th>\n",
       "      <th>accuracy</th>\n",
       "      <th>f1</th>\n",
       "      <th>precision</th>\n",
       "      <th>recall</th>\n",
       "      <th>valid_accuracy</th>\n",
       "      <th>valid_f1</th>\n",
       "      <th>valid_precision</th>\n",
       "      <th>valid_recall</th>\n",
       "      <th>k</th>\n",
       "      <th>input_channels</th>\n",
       "      <th>...</th>\n",
       "      <th>include_features_in_input</th>\n",
       "      <th>embedding_dim</th>\n",
       "      <th>num_features</th>\n",
       "      <th>log_signature</th>\n",
       "      <th>seed</th>\n",
       "      <th>gamma</th>\n",
       "      <th>k_fold</th>\n",
       "      <th>n_splits</th>\n",
       "      <th>batch_size</th>\n",
       "      <th>model_id</th>\n",
       "    </tr>\n",
       "    <tr>\n",
       "      <th>dimensions</th>\n",
       "      <th>output_channels</th>\n",
       "      <th>sig_depth</th>\n",
       "      <th>num_heads</th>\n",
       "      <th>num_layers</th>\n",
       "      <th>ffn_hidden_dim</th>\n",
       "      <th>dropout_rate</th>\n",
       "      <th>learning_rate</th>\n",
       "      <th></th>\n",
       "      <th></th>\n",
       "      <th></th>\n",
       "      <th></th>\n",
       "      <th></th>\n",
       "      <th></th>\n",
       "      <th></th>\n",
       "      <th></th>\n",
       "      <th></th>\n",
       "      <th></th>\n",
       "      <th></th>\n",
       "      <th></th>\n",
       "      <th></th>\n",
       "      <th></th>\n",
       "      <th></th>\n",
       "      <th></th>\n",
       "      <th></th>\n",
       "      <th></th>\n",
       "      <th></th>\n",
       "      <th></th>\n",
       "      <th></th>\n",
       "    </tr>\n",
       "  </thead>\n",
       "  <tbody>\n",
       "    <tr>\n",
       "      <th rowspan=\"18\" valign=\"top\">15</th>\n",
       "      <th rowspan=\"9\" valign=\"top\">10</th>\n",
       "      <th rowspan=\"9\" valign=\"top\">3</th>\n",
       "      <th rowspan=\"9\" valign=\"top\">5</th>\n",
       "      <th rowspan=\"9\" valign=\"top\">1</th>\n",
       "      <th rowspan=\"3\" valign=\"top\">(32, 32)</th>\n",
       "      <th rowspan=\"3\" valign=\"top\">0.1</th>\n",
       "      <th>0.0001</th>\n",
       "      <td>0.687916</td>\n",
       "      <td>0.659405</td>\n",
       "      <td>0.658781</td>\n",
       "      <td>0.660903</td>\n",
       "      <td>0.725614</td>\n",
       "      <td>0.705836</td>\n",
       "      <td>0.709515</td>\n",
       "      <td>0.704089</td>\n",
       "      <td>5.0</td>\n",
       "      <td>17.0</td>\n",
       "      <td>...</td>\n",
       "      <td>1.0</td>\n",
       "      <td>384.0</td>\n",
       "      <td>2.0</td>\n",
       "      <td>1.0</td>\n",
       "      <td>45.333333</td>\n",
       "      <td>2.0</td>\n",
       "      <td>1.0</td>\n",
       "      <td>5.0</td>\n",
       "      <td>64.0</td>\n",
       "      <td>11.0</td>\n",
       "    </tr>\n",
       "    <tr>\n",
       "      <th>0.0003</th>\n",
       "      <td>0.686735</td>\n",
       "      <td>0.656664</td>\n",
       "      <td>0.656911</td>\n",
       "      <td>0.657330</td>\n",
       "      <td>0.732354</td>\n",
       "      <td>0.711662</td>\n",
       "      <td>0.716969</td>\n",
       "      <td>0.708969</td>\n",
       "      <td>5.0</td>\n",
       "      <td>17.0</td>\n",
       "      <td>...</td>\n",
       "      <td>1.0</td>\n",
       "      <td>384.0</td>\n",
       "      <td>2.0</td>\n",
       "      <td>1.0</td>\n",
       "      <td>45.333333</td>\n",
       "      <td>2.0</td>\n",
       "      <td>1.0</td>\n",
       "      <td>5.0</td>\n",
       "      <td>64.0</td>\n",
       "      <td>10.0</td>\n",
       "    </tr>\n",
       "    <tr>\n",
       "      <th>0.0005</th>\n",
       "      <td>0.691892</td>\n",
       "      <td>0.668137</td>\n",
       "      <td>0.665879</td>\n",
       "      <td>0.672287</td>\n",
       "      <td>0.729928</td>\n",
       "      <td>0.713978</td>\n",
       "      <td>0.714012</td>\n",
       "      <td>0.714160</td>\n",
       "      <td>5.0</td>\n",
       "      <td>17.0</td>\n",
       "      <td>...</td>\n",
       "      <td>1.0</td>\n",
       "      <td>384.0</td>\n",
       "      <td>2.0</td>\n",
       "      <td>1.0</td>\n",
       "      <td>45.333333</td>\n",
       "      <td>2.0</td>\n",
       "      <td>1.0</td>\n",
       "      <td>5.0</td>\n",
       "      <td>64.0</td>\n",
       "      <td>9.0</td>\n",
       "    </tr>\n",
       "    <tr>\n",
       "      <th rowspan=\"3\" valign=\"top\">(128, 128)</th>\n",
       "      <th rowspan=\"3\" valign=\"top\">0.1</th>\n",
       "      <th>0.0001</th>\n",
       "      <td>0.691705</td>\n",
       "      <td>0.664121</td>\n",
       "      <td>0.663242</td>\n",
       "      <td>0.665951</td>\n",
       "      <td>0.729433</td>\n",
       "      <td>0.709563</td>\n",
       "      <td>0.713315</td>\n",
       "      <td>0.707401</td>\n",
       "      <td>5.0</td>\n",
       "      <td>17.0</td>\n",
       "      <td>...</td>\n",
       "      <td>1.0</td>\n",
       "      <td>384.0</td>\n",
       "      <td>2.0</td>\n",
       "      <td>1.0</td>\n",
       "      <td>45.333333</td>\n",
       "      <td>2.0</td>\n",
       "      <td>1.0</td>\n",
       "      <td>5.0</td>\n",
       "      <td>64.0</td>\n",
       "      <td>14.0</td>\n",
       "    </tr>\n",
       "    <tr>\n",
       "      <th>0.0003</th>\n",
       "      <td>0.692824</td>\n",
       "      <td>0.662232</td>\n",
       "      <td>0.662743</td>\n",
       "      <td>0.662341</td>\n",
       "      <td>0.737880</td>\n",
       "      <td>0.717177</td>\n",
       "      <td>0.722423</td>\n",
       "      <td>0.714113</td>\n",
       "      <td>5.0</td>\n",
       "      <td>17.0</td>\n",
       "      <td>...</td>\n",
       "      <td>1.0</td>\n",
       "      <td>384.0</td>\n",
       "      <td>2.0</td>\n",
       "      <td>1.0</td>\n",
       "      <td>45.333333</td>\n",
       "      <td>2.0</td>\n",
       "      <td>1.0</td>\n",
       "      <td>5.0</td>\n",
       "      <td>64.0</td>\n",
       "      <td>13.0</td>\n",
       "    </tr>\n",
       "    <tr>\n",
       "      <th>0.0005</th>\n",
       "      <td>0.691084</td>\n",
       "      <td>0.665875</td>\n",
       "      <td>0.663910</td>\n",
       "      <td>0.668959</td>\n",
       "      <td>0.733432</td>\n",
       "      <td>0.716117</td>\n",
       "      <td>0.717276</td>\n",
       "      <td>0.715159</td>\n",
       "      <td>5.0</td>\n",
       "      <td>17.0</td>\n",
       "      <td>...</td>\n",
       "      <td>1.0</td>\n",
       "      <td>384.0</td>\n",
       "      <td>2.0</td>\n",
       "      <td>1.0</td>\n",
       "      <td>45.333333</td>\n",
       "      <td>2.0</td>\n",
       "      <td>1.0</td>\n",
       "      <td>5.0</td>\n",
       "      <td>64.0</td>\n",
       "      <td>12.0</td>\n",
       "    </tr>\n",
       "    <tr>\n",
       "      <th rowspan=\"3\" valign=\"top\">(512, 512)</th>\n",
       "      <th rowspan=\"3\" valign=\"top\">0.1</th>\n",
       "      <th>0.0001</th>\n",
       "      <td>0.690587</td>\n",
       "      <td>0.662732</td>\n",
       "      <td>0.662202</td>\n",
       "      <td>0.664639</td>\n",
       "      <td>0.731410</td>\n",
       "      <td>0.712597</td>\n",
       "      <td>0.715444</td>\n",
       "      <td>0.711149</td>\n",
       "      <td>5.0</td>\n",
       "      <td>17.0</td>\n",
       "      <td>...</td>\n",
       "      <td>1.0</td>\n",
       "      <td>384.0</td>\n",
       "      <td>2.0</td>\n",
       "      <td>1.0</td>\n",
       "      <td>45.333333</td>\n",
       "      <td>2.0</td>\n",
       "      <td>1.0</td>\n",
       "      <td>5.0</td>\n",
       "      <td>64.0</td>\n",
       "      <td>17.0</td>\n",
       "    </tr>\n",
       "    <tr>\n",
       "      <th>0.0003</th>\n",
       "      <td>0.696738</td>\n",
       "      <td>0.667673</td>\n",
       "      <td>0.667319</td>\n",
       "      <td>0.668181</td>\n",
       "      <td>0.736442</td>\n",
       "      <td>0.716560</td>\n",
       "      <td>0.720567</td>\n",
       "      <td>0.713811</td>\n",
       "      <td>5.0</td>\n",
       "      <td>17.0</td>\n",
       "      <td>...</td>\n",
       "      <td>1.0</td>\n",
       "      <td>384.0</td>\n",
       "      <td>2.0</td>\n",
       "      <td>1.0</td>\n",
       "      <td>45.333333</td>\n",
       "      <td>2.0</td>\n",
       "      <td>1.0</td>\n",
       "      <td>5.0</td>\n",
       "      <td>64.0</td>\n",
       "      <td>16.0</td>\n",
       "    </tr>\n",
       "    <tr>\n",
       "      <th>0.0005</th>\n",
       "      <td>0.694191</td>\n",
       "      <td>0.665958</td>\n",
       "      <td>0.665648</td>\n",
       "      <td>0.667452</td>\n",
       "      <td>0.731500</td>\n",
       "      <td>0.711717</td>\n",
       "      <td>0.715668</td>\n",
       "      <td>0.709501</td>\n",
       "      <td>5.0</td>\n",
       "      <td>17.0</td>\n",
       "      <td>...</td>\n",
       "      <td>1.0</td>\n",
       "      <td>384.0</td>\n",
       "      <td>2.0</td>\n",
       "      <td>1.0</td>\n",
       "      <td>45.333333</td>\n",
       "      <td>2.0</td>\n",
       "      <td>1.0</td>\n",
       "      <td>5.0</td>\n",
       "      <td>64.0</td>\n",
       "      <td>15.0</td>\n",
       "    </tr>\n",
       "    <tr>\n",
       "      <th rowspan=\"9\" valign=\"top\">12</th>\n",
       "      <th rowspan=\"9\" valign=\"top\">3</th>\n",
       "      <th rowspan=\"9\" valign=\"top\">10</th>\n",
       "      <th rowspan=\"9\" valign=\"top\">1</th>\n",
       "      <th rowspan=\"3\" valign=\"top\">(32, 32)</th>\n",
       "      <th rowspan=\"3\" valign=\"top\">0.1</th>\n",
       "      <th>0.0001</th>\n",
       "      <td>0.692078</td>\n",
       "      <td>0.659541</td>\n",
       "      <td>0.660651</td>\n",
       "      <td>0.658650</td>\n",
       "      <td>0.726558</td>\n",
       "      <td>0.702665</td>\n",
       "      <td>0.710230</td>\n",
       "      <td>0.698786</td>\n",
       "      <td>5.0</td>\n",
       "      <td>17.0</td>\n",
       "      <td>...</td>\n",
       "      <td>1.0</td>\n",
       "      <td>384.0</td>\n",
       "      <td>2.0</td>\n",
       "      <td>1.0</td>\n",
       "      <td>45.333333</td>\n",
       "      <td>2.0</td>\n",
       "      <td>1.0</td>\n",
       "      <td>5.0</td>\n",
       "      <td>64.0</td>\n",
       "      <td>2.0</td>\n",
       "    </tr>\n",
       "    <tr>\n",
       "      <th>0.0003</th>\n",
       "      <td>0.689593</td>\n",
       "      <td>0.662144</td>\n",
       "      <td>0.660855</td>\n",
       "      <td>0.663875</td>\n",
       "      <td>0.733118</td>\n",
       "      <td>0.712631</td>\n",
       "      <td>0.716966</td>\n",
       "      <td>0.709767</td>\n",
       "      <td>5.0</td>\n",
       "      <td>17.0</td>\n",
       "      <td>...</td>\n",
       "      <td>1.0</td>\n",
       "      <td>384.0</td>\n",
       "      <td>2.0</td>\n",
       "      <td>1.0</td>\n",
       "      <td>45.333333</td>\n",
       "      <td>2.0</td>\n",
       "      <td>1.0</td>\n",
       "      <td>5.0</td>\n",
       "      <td>64.0</td>\n",
       "      <td>1.0</td>\n",
       "    </tr>\n",
       "    <tr>\n",
       "      <th>0.0005</th>\n",
       "      <td>0.682759</td>\n",
       "      <td>0.657292</td>\n",
       "      <td>0.655507</td>\n",
       "      <td>0.660669</td>\n",
       "      <td>0.733028</td>\n",
       "      <td>0.714409</td>\n",
       "      <td>0.716923</td>\n",
       "      <td>0.712682</td>\n",
       "      <td>5.0</td>\n",
       "      <td>17.0</td>\n",
       "      <td>...</td>\n",
       "      <td>1.0</td>\n",
       "      <td>384.0</td>\n",
       "      <td>2.0</td>\n",
       "      <td>1.0</td>\n",
       "      <td>45.333333</td>\n",
       "      <td>2.0</td>\n",
       "      <td>1.0</td>\n",
       "      <td>5.0</td>\n",
       "      <td>64.0</td>\n",
       "      <td>0.0</td>\n",
       "    </tr>\n",
       "    <tr>\n",
       "      <th rowspan=\"3\" valign=\"top\">(128, 128)</th>\n",
       "      <th rowspan=\"3\" valign=\"top\">0.1</th>\n",
       "      <th>0.0001</th>\n",
       "      <td>0.681578</td>\n",
       "      <td>0.657485</td>\n",
       "      <td>0.655544</td>\n",
       "      <td>0.661771</td>\n",
       "      <td>0.728220</td>\n",
       "      <td>0.710630</td>\n",
       "      <td>0.711989</td>\n",
       "      <td>0.709884</td>\n",
       "      <td>5.0</td>\n",
       "      <td>17.0</td>\n",
       "      <td>...</td>\n",
       "      <td>1.0</td>\n",
       "      <td>384.0</td>\n",
       "      <td>2.0</td>\n",
       "      <td>1.0</td>\n",
       "      <td>45.333333</td>\n",
       "      <td>2.0</td>\n",
       "      <td>1.0</td>\n",
       "      <td>5.0</td>\n",
       "      <td>64.0</td>\n",
       "      <td>5.0</td>\n",
       "    </tr>\n",
       "    <tr>\n",
       "      <th>0.0003</th>\n",
       "      <td>0.693321</td>\n",
       "      <td>0.664921</td>\n",
       "      <td>0.664370</td>\n",
       "      <td>0.666086</td>\n",
       "      <td>0.735993</td>\n",
       "      <td>0.715506</td>\n",
       "      <td>0.720482</td>\n",
       "      <td>0.712588</td>\n",
       "      <td>5.0</td>\n",
       "      <td>17.0</td>\n",
       "      <td>...</td>\n",
       "      <td>1.0</td>\n",
       "      <td>384.0</td>\n",
       "      <td>2.0</td>\n",
       "      <td>1.0</td>\n",
       "      <td>45.333333</td>\n",
       "      <td>2.0</td>\n",
       "      <td>1.0</td>\n",
       "      <td>5.0</td>\n",
       "      <td>64.0</td>\n",
       "      <td>4.0</td>\n",
       "    </tr>\n",
       "    <tr>\n",
       "      <th>0.0005</th>\n",
       "      <td>0.695868</td>\n",
       "      <td>0.668682</td>\n",
       "      <td>0.667766</td>\n",
       "      <td>0.670464</td>\n",
       "      <td>0.732354</td>\n",
       "      <td>0.712849</td>\n",
       "      <td>0.716355</td>\n",
       "      <td>0.710779</td>\n",
       "      <td>5.0</td>\n",
       "      <td>17.0</td>\n",
       "      <td>...</td>\n",
       "      <td>1.0</td>\n",
       "      <td>384.0</td>\n",
       "      <td>2.0</td>\n",
       "      <td>1.0</td>\n",
       "      <td>45.333333</td>\n",
       "      <td>2.0</td>\n",
       "      <td>1.0</td>\n",
       "      <td>5.0</td>\n",
       "      <td>64.0</td>\n",
       "      <td>3.0</td>\n",
       "    </tr>\n",
       "    <tr>\n",
       "      <th rowspan=\"3\" valign=\"top\">(512, 512)</th>\n",
       "      <th rowspan=\"3\" valign=\"top\">0.1</th>\n",
       "      <th>0.0001</th>\n",
       "      <td>0.683939</td>\n",
       "      <td>0.657166</td>\n",
       "      <td>0.655531</td>\n",
       "      <td>0.659486</td>\n",
       "      <td>0.728894</td>\n",
       "      <td>0.709312</td>\n",
       "      <td>0.712359</td>\n",
       "      <td>0.707169</td>\n",
       "      <td>5.0</td>\n",
       "      <td>17.0</td>\n",
       "      <td>...</td>\n",
       "      <td>1.0</td>\n",
       "      <td>384.0</td>\n",
       "      <td>2.0</td>\n",
       "      <td>1.0</td>\n",
       "      <td>45.333333</td>\n",
       "      <td>2.0</td>\n",
       "      <td>1.0</td>\n",
       "      <td>5.0</td>\n",
       "      <td>64.0</td>\n",
       "      <td>8.0</td>\n",
       "    </tr>\n",
       "    <tr>\n",
       "      <th>0.0003</th>\n",
       "      <td>0.703200</td>\n",
       "      <td>0.671359</td>\n",
       "      <td>0.672820</td>\n",
       "      <td>0.670238</td>\n",
       "      <td>0.736308</td>\n",
       "      <td>0.712593</td>\n",
       "      <td>0.721575</td>\n",
       "      <td>0.708113</td>\n",
       "      <td>5.0</td>\n",
       "      <td>17.0</td>\n",
       "      <td>...</td>\n",
       "      <td>1.0</td>\n",
       "      <td>384.0</td>\n",
       "      <td>2.0</td>\n",
       "      <td>1.0</td>\n",
       "      <td>45.333333</td>\n",
       "      <td>2.0</td>\n",
       "      <td>1.0</td>\n",
       "      <td>5.0</td>\n",
       "      <td>64.0</td>\n",
       "      <td>7.0</td>\n",
       "    </tr>\n",
       "    <tr>\n",
       "      <th>0.0005</th>\n",
       "      <td>0.702268</td>\n",
       "      <td>0.670969</td>\n",
       "      <td>0.672412</td>\n",
       "      <td>0.670383</td>\n",
       "      <td>0.730422</td>\n",
       "      <td>0.707916</td>\n",
       "      <td>0.714664</td>\n",
       "      <td>0.704375</td>\n",
       "      <td>5.0</td>\n",
       "      <td>17.0</td>\n",
       "      <td>...</td>\n",
       "      <td>1.0</td>\n",
       "      <td>384.0</td>\n",
       "      <td>2.0</td>\n",
       "      <td>1.0</td>\n",
       "      <td>45.333333</td>\n",
       "      <td>2.0</td>\n",
       "      <td>1.0</td>\n",
       "      <td>5.0</td>\n",
       "      <td>64.0</td>\n",
       "      <td>6.0</td>\n",
       "    </tr>\n",
       "  </tbody>\n",
       "</table>\n",
       "<p>18 rows × 21 columns</p>\n",
       "</div>"
      ],
      "text/plain": [
       "                                                                                                     accuracy  \\\n",
       "dimensions output_channels sig_depth num_heads num_layers ffn_hidden_dim dropout_rate learning_rate             \n",
       "15         10              3         5         1          (32, 32)       0.1          0.0001         0.687916   \n",
       "                                                                                      0.0003         0.686735   \n",
       "                                                                                      0.0005         0.691892   \n",
       "                                                          (128, 128)     0.1          0.0001         0.691705   \n",
       "                                                                                      0.0003         0.692824   \n",
       "                                                                                      0.0005         0.691084   \n",
       "                                                          (512, 512)     0.1          0.0001         0.690587   \n",
       "                                                                                      0.0003         0.696738   \n",
       "                                                                                      0.0005         0.694191   \n",
       "           12              3         10        1          (32, 32)       0.1          0.0001         0.692078   \n",
       "                                                                                      0.0003         0.689593   \n",
       "                                                                                      0.0005         0.682759   \n",
       "                                                          (128, 128)     0.1          0.0001         0.681578   \n",
       "                                                                                      0.0003         0.693321   \n",
       "                                                                                      0.0005         0.695868   \n",
       "                                                          (512, 512)     0.1          0.0001         0.683939   \n",
       "                                                                                      0.0003         0.703200   \n",
       "                                                                                      0.0005         0.702268   \n",
       "\n",
       "                                                                                                           f1  \\\n",
       "dimensions output_channels sig_depth num_heads num_layers ffn_hidden_dim dropout_rate learning_rate             \n",
       "15         10              3         5         1          (32, 32)       0.1          0.0001         0.659405   \n",
       "                                                                                      0.0003         0.656664   \n",
       "                                                                                      0.0005         0.668137   \n",
       "                                                          (128, 128)     0.1          0.0001         0.664121   \n",
       "                                                                                      0.0003         0.662232   \n",
       "                                                                                      0.0005         0.665875   \n",
       "                                                          (512, 512)     0.1          0.0001         0.662732   \n",
       "                                                                                      0.0003         0.667673   \n",
       "                                                                                      0.0005         0.665958   \n",
       "           12              3         10        1          (32, 32)       0.1          0.0001         0.659541   \n",
       "                                                                                      0.0003         0.662144   \n",
       "                                                                                      0.0005         0.657292   \n",
       "                                                          (128, 128)     0.1          0.0001         0.657485   \n",
       "                                                                                      0.0003         0.664921   \n",
       "                                                                                      0.0005         0.668682   \n",
       "                                                          (512, 512)     0.1          0.0001         0.657166   \n",
       "                                                                                      0.0003         0.671359   \n",
       "                                                                                      0.0005         0.670969   \n",
       "\n",
       "                                                                                                     precision  \\\n",
       "dimensions output_channels sig_depth num_heads num_layers ffn_hidden_dim dropout_rate learning_rate              \n",
       "15         10              3         5         1          (32, 32)       0.1          0.0001          0.658781   \n",
       "                                                                                      0.0003          0.656911   \n",
       "                                                                                      0.0005          0.665879   \n",
       "                                                          (128, 128)     0.1          0.0001          0.663242   \n",
       "                                                                                      0.0003          0.662743   \n",
       "                                                                                      0.0005          0.663910   \n",
       "                                                          (512, 512)     0.1          0.0001          0.662202   \n",
       "                                                                                      0.0003          0.667319   \n",
       "                                                                                      0.0005          0.665648   \n",
       "           12              3         10        1          (32, 32)       0.1          0.0001          0.660651   \n",
       "                                                                                      0.0003          0.660855   \n",
       "                                                                                      0.0005          0.655507   \n",
       "                                                          (128, 128)     0.1          0.0001          0.655544   \n",
       "                                                                                      0.0003          0.664370   \n",
       "                                                                                      0.0005          0.667766   \n",
       "                                                          (512, 512)     0.1          0.0001          0.655531   \n",
       "                                                                                      0.0003          0.672820   \n",
       "                                                                                      0.0005          0.672412   \n",
       "\n",
       "                                                                                                       recall  \\\n",
       "dimensions output_channels sig_depth num_heads num_layers ffn_hidden_dim dropout_rate learning_rate             \n",
       "15         10              3         5         1          (32, 32)       0.1          0.0001         0.660903   \n",
       "                                                                                      0.0003         0.657330   \n",
       "                                                                                      0.0005         0.672287   \n",
       "                                                          (128, 128)     0.1          0.0001         0.665951   \n",
       "                                                                                      0.0003         0.662341   \n",
       "                                                                                      0.0005         0.668959   \n",
       "                                                          (512, 512)     0.1          0.0001         0.664639   \n",
       "                                                                                      0.0003         0.668181   \n",
       "                                                                                      0.0005         0.667452   \n",
       "           12              3         10        1          (32, 32)       0.1          0.0001         0.658650   \n",
       "                                                                                      0.0003         0.663875   \n",
       "                                                                                      0.0005         0.660669   \n",
       "                                                          (128, 128)     0.1          0.0001         0.661771   \n",
       "                                                                                      0.0003         0.666086   \n",
       "                                                                                      0.0005         0.670464   \n",
       "                                                          (512, 512)     0.1          0.0001         0.659486   \n",
       "                                                                                      0.0003         0.670238   \n",
       "                                                                                      0.0005         0.670383   \n",
       "\n",
       "                                                                                                     valid_accuracy  \\\n",
       "dimensions output_channels sig_depth num_heads num_layers ffn_hidden_dim dropout_rate learning_rate                   \n",
       "15         10              3         5         1          (32, 32)       0.1          0.0001               0.725614   \n",
       "                                                                                      0.0003               0.732354   \n",
       "                                                                                      0.0005               0.729928   \n",
       "                                                          (128, 128)     0.1          0.0001               0.729433   \n",
       "                                                                                      0.0003               0.737880   \n",
       "                                                                                      0.0005               0.733432   \n",
       "                                                          (512, 512)     0.1          0.0001               0.731410   \n",
       "                                                                                      0.0003               0.736442   \n",
       "                                                                                      0.0005               0.731500   \n",
       "           12              3         10        1          (32, 32)       0.1          0.0001               0.726558   \n",
       "                                                                                      0.0003               0.733118   \n",
       "                                                                                      0.0005               0.733028   \n",
       "                                                          (128, 128)     0.1          0.0001               0.728220   \n",
       "                                                                                      0.0003               0.735993   \n",
       "                                                                                      0.0005               0.732354   \n",
       "                                                          (512, 512)     0.1          0.0001               0.728894   \n",
       "                                                                                      0.0003               0.736308   \n",
       "                                                                                      0.0005               0.730422   \n",
       "\n",
       "                                                                                                     valid_f1  \\\n",
       "dimensions output_channels sig_depth num_heads num_layers ffn_hidden_dim dropout_rate learning_rate             \n",
       "15         10              3         5         1          (32, 32)       0.1          0.0001         0.705836   \n",
       "                                                                                      0.0003         0.711662   \n",
       "                                                                                      0.0005         0.713978   \n",
       "                                                          (128, 128)     0.1          0.0001         0.709563   \n",
       "                                                                                      0.0003         0.717177   \n",
       "                                                                                      0.0005         0.716117   \n",
       "                                                          (512, 512)     0.1          0.0001         0.712597   \n",
       "                                                                                      0.0003         0.716560   \n",
       "                                                                                      0.0005         0.711717   \n",
       "           12              3         10        1          (32, 32)       0.1          0.0001         0.702665   \n",
       "                                                                                      0.0003         0.712631   \n",
       "                                                                                      0.0005         0.714409   \n",
       "                                                          (128, 128)     0.1          0.0001         0.710630   \n",
       "                                                                                      0.0003         0.715506   \n",
       "                                                                                      0.0005         0.712849   \n",
       "                                                          (512, 512)     0.1          0.0001         0.709312   \n",
       "                                                                                      0.0003         0.712593   \n",
       "                                                                                      0.0005         0.707916   \n",
       "\n",
       "                                                                                                     valid_precision  \\\n",
       "dimensions output_channels sig_depth num_heads num_layers ffn_hidden_dim dropout_rate learning_rate                    \n",
       "15         10              3         5         1          (32, 32)       0.1          0.0001                0.709515   \n",
       "                                                                                      0.0003                0.716969   \n",
       "                                                                                      0.0005                0.714012   \n",
       "                                                          (128, 128)     0.1          0.0001                0.713315   \n",
       "                                                                                      0.0003                0.722423   \n",
       "                                                                                      0.0005                0.717276   \n",
       "                                                          (512, 512)     0.1          0.0001                0.715444   \n",
       "                                                                                      0.0003                0.720567   \n",
       "                                                                                      0.0005                0.715668   \n",
       "           12              3         10        1          (32, 32)       0.1          0.0001                0.710230   \n",
       "                                                                                      0.0003                0.716966   \n",
       "                                                                                      0.0005                0.716923   \n",
       "                                                          (128, 128)     0.1          0.0001                0.711989   \n",
       "                                                                                      0.0003                0.720482   \n",
       "                                                                                      0.0005                0.716355   \n",
       "                                                          (512, 512)     0.1          0.0001                0.712359   \n",
       "                                                                                      0.0003                0.721575   \n",
       "                                                                                      0.0005                0.714664   \n",
       "\n",
       "                                                                                                     valid_recall  \\\n",
       "dimensions output_channels sig_depth num_heads num_layers ffn_hidden_dim dropout_rate learning_rate                 \n",
       "15         10              3         5         1          (32, 32)       0.1          0.0001             0.704089   \n",
       "                                                                                      0.0003             0.708969   \n",
       "                                                                                      0.0005             0.714160   \n",
       "                                                          (128, 128)     0.1          0.0001             0.707401   \n",
       "                                                                                      0.0003             0.714113   \n",
       "                                                                                      0.0005             0.715159   \n",
       "                                                          (512, 512)     0.1          0.0001             0.711149   \n",
       "                                                                                      0.0003             0.713811   \n",
       "                                                                                      0.0005             0.709501   \n",
       "           12              3         10        1          (32, 32)       0.1          0.0001             0.698786   \n",
       "                                                                                      0.0003             0.709767   \n",
       "                                                                                      0.0005             0.712682   \n",
       "                                                          (128, 128)     0.1          0.0001             0.709884   \n",
       "                                                                                      0.0003             0.712588   \n",
       "                                                                                      0.0005             0.710779   \n",
       "                                                          (512, 512)     0.1          0.0001             0.707169   \n",
       "                                                                                      0.0003             0.708113   \n",
       "                                                                                      0.0005             0.704375   \n",
       "\n",
       "                                                                                                       k  \\\n",
       "dimensions output_channels sig_depth num_heads num_layers ffn_hidden_dim dropout_rate learning_rate        \n",
       "15         10              3         5         1          (32, 32)       0.1          0.0001         5.0   \n",
       "                                                                                      0.0003         5.0   \n",
       "                                                                                      0.0005         5.0   \n",
       "                                                          (128, 128)     0.1          0.0001         5.0   \n",
       "                                                                                      0.0003         5.0   \n",
       "                                                                                      0.0005         5.0   \n",
       "                                                          (512, 512)     0.1          0.0001         5.0   \n",
       "                                                                                      0.0003         5.0   \n",
       "                                                                                      0.0005         5.0   \n",
       "           12              3         10        1          (32, 32)       0.1          0.0001         5.0   \n",
       "                                                                                      0.0003         5.0   \n",
       "                                                                                      0.0005         5.0   \n",
       "                                                          (128, 128)     0.1          0.0001         5.0   \n",
       "                                                                                      0.0003         5.0   \n",
       "                                                                                      0.0005         5.0   \n",
       "                                                          (512, 512)     0.1          0.0001         5.0   \n",
       "                                                                                      0.0003         5.0   \n",
       "                                                                                      0.0005         5.0   \n",
       "\n",
       "                                                                                                     input_channels  \\\n",
       "dimensions output_channels sig_depth num_heads num_layers ffn_hidden_dim dropout_rate learning_rate                   \n",
       "15         10              3         5         1          (32, 32)       0.1          0.0001                   17.0   \n",
       "                                                                                      0.0003                   17.0   \n",
       "                                                                                      0.0005                   17.0   \n",
       "                                                          (128, 128)     0.1          0.0001                   17.0   \n",
       "                                                                                      0.0003                   17.0   \n",
       "                                                                                      0.0005                   17.0   \n",
       "                                                          (512, 512)     0.1          0.0001                   17.0   \n",
       "                                                                                      0.0003                   17.0   \n",
       "                                                                                      0.0005                   17.0   \n",
       "           12              3         10        1          (32, 32)       0.1          0.0001                   17.0   \n",
       "                                                                                      0.0003                   17.0   \n",
       "                                                                                      0.0005                   17.0   \n",
       "                                                          (128, 128)     0.1          0.0001                   17.0   \n",
       "                                                                                      0.0003                   17.0   \n",
       "                                                                                      0.0005                   17.0   \n",
       "                                                          (512, 512)     0.1          0.0001                   17.0   \n",
       "                                                                                      0.0003                   17.0   \n",
       "                                                                                      0.0005                   17.0   \n",
       "\n",
       "                                                                                                     ...  \\\n",
       "dimensions output_channels sig_depth num_heads num_layers ffn_hidden_dim dropout_rate learning_rate  ...   \n",
       "15         10              3         5         1          (32, 32)       0.1          0.0001         ...   \n",
       "                                                                                      0.0003         ...   \n",
       "                                                                                      0.0005         ...   \n",
       "                                                          (128, 128)     0.1          0.0001         ...   \n",
       "                                                                                      0.0003         ...   \n",
       "                                                                                      0.0005         ...   \n",
       "                                                          (512, 512)     0.1          0.0001         ...   \n",
       "                                                                                      0.0003         ...   \n",
       "                                                                                      0.0005         ...   \n",
       "           12              3         10        1          (32, 32)       0.1          0.0001         ...   \n",
       "                                                                                      0.0003         ...   \n",
       "                                                                                      0.0005         ...   \n",
       "                                                          (128, 128)     0.1          0.0001         ...   \n",
       "                                                                                      0.0003         ...   \n",
       "                                                                                      0.0005         ...   \n",
       "                                                          (512, 512)     0.1          0.0001         ...   \n",
       "                                                                                      0.0003         ...   \n",
       "                                                                                      0.0005         ...   \n",
       "\n",
       "                                                                                                     include_features_in_input  \\\n",
       "dimensions output_channels sig_depth num_heads num_layers ffn_hidden_dim dropout_rate learning_rate                              \n",
       "15         10              3         5         1          (32, 32)       0.1          0.0001                               1.0   \n",
       "                                                                                      0.0003                               1.0   \n",
       "                                                                                      0.0005                               1.0   \n",
       "                                                          (128, 128)     0.1          0.0001                               1.0   \n",
       "                                                                                      0.0003                               1.0   \n",
       "                                                                                      0.0005                               1.0   \n",
       "                                                          (512, 512)     0.1          0.0001                               1.0   \n",
       "                                                                                      0.0003                               1.0   \n",
       "                                                                                      0.0005                               1.0   \n",
       "           12              3         10        1          (32, 32)       0.1          0.0001                               1.0   \n",
       "                                                                                      0.0003                               1.0   \n",
       "                                                                                      0.0005                               1.0   \n",
       "                                                          (128, 128)     0.1          0.0001                               1.0   \n",
       "                                                                                      0.0003                               1.0   \n",
       "                                                                                      0.0005                               1.0   \n",
       "                                                          (512, 512)     0.1          0.0001                               1.0   \n",
       "                                                                                      0.0003                               1.0   \n",
       "                                                                                      0.0005                               1.0   \n",
       "\n",
       "                                                                                                     embedding_dim  \\\n",
       "dimensions output_channels sig_depth num_heads num_layers ffn_hidden_dim dropout_rate learning_rate                  \n",
       "15         10              3         5         1          (32, 32)       0.1          0.0001                 384.0   \n",
       "                                                                                      0.0003                 384.0   \n",
       "                                                                                      0.0005                 384.0   \n",
       "                                                          (128, 128)     0.1          0.0001                 384.0   \n",
       "                                                                                      0.0003                 384.0   \n",
       "                                                                                      0.0005                 384.0   \n",
       "                                                          (512, 512)     0.1          0.0001                 384.0   \n",
       "                                                                                      0.0003                 384.0   \n",
       "                                                                                      0.0005                 384.0   \n",
       "           12              3         10        1          (32, 32)       0.1          0.0001                 384.0   \n",
       "                                                                                      0.0003                 384.0   \n",
       "                                                                                      0.0005                 384.0   \n",
       "                                                          (128, 128)     0.1          0.0001                 384.0   \n",
       "                                                                                      0.0003                 384.0   \n",
       "                                                                                      0.0005                 384.0   \n",
       "                                                          (512, 512)     0.1          0.0001                 384.0   \n",
       "                                                                                      0.0003                 384.0   \n",
       "                                                                                      0.0005                 384.0   \n",
       "\n",
       "                                                                                                     num_features  \\\n",
       "dimensions output_channels sig_depth num_heads num_layers ffn_hidden_dim dropout_rate learning_rate                 \n",
       "15         10              3         5         1          (32, 32)       0.1          0.0001                  2.0   \n",
       "                                                                                      0.0003                  2.0   \n",
       "                                                                                      0.0005                  2.0   \n",
       "                                                          (128, 128)     0.1          0.0001                  2.0   \n",
       "                                                                                      0.0003                  2.0   \n",
       "                                                                                      0.0005                  2.0   \n",
       "                                                          (512, 512)     0.1          0.0001                  2.0   \n",
       "                                                                                      0.0003                  2.0   \n",
       "                                                                                      0.0005                  2.0   \n",
       "           12              3         10        1          (32, 32)       0.1          0.0001                  2.0   \n",
       "                                                                                      0.0003                  2.0   \n",
       "                                                                                      0.0005                  2.0   \n",
       "                                                          (128, 128)     0.1          0.0001                  2.0   \n",
       "                                                                                      0.0003                  2.0   \n",
       "                                                                                      0.0005                  2.0   \n",
       "                                                          (512, 512)     0.1          0.0001                  2.0   \n",
       "                                                                                      0.0003                  2.0   \n",
       "                                                                                      0.0005                  2.0   \n",
       "\n",
       "                                                                                                     log_signature  \\\n",
       "dimensions output_channels sig_depth num_heads num_layers ffn_hidden_dim dropout_rate learning_rate                  \n",
       "15         10              3         5         1          (32, 32)       0.1          0.0001                   1.0   \n",
       "                                                                                      0.0003                   1.0   \n",
       "                                                                                      0.0005                   1.0   \n",
       "                                                          (128, 128)     0.1          0.0001                   1.0   \n",
       "                                                                                      0.0003                   1.0   \n",
       "                                                                                      0.0005                   1.0   \n",
       "                                                          (512, 512)     0.1          0.0001                   1.0   \n",
       "                                                                                      0.0003                   1.0   \n",
       "                                                                                      0.0005                   1.0   \n",
       "           12              3         10        1          (32, 32)       0.1          0.0001                   1.0   \n",
       "                                                                                      0.0003                   1.0   \n",
       "                                                                                      0.0005                   1.0   \n",
       "                                                          (128, 128)     0.1          0.0001                   1.0   \n",
       "                                                                                      0.0003                   1.0   \n",
       "                                                                                      0.0005                   1.0   \n",
       "                                                          (512, 512)     0.1          0.0001                   1.0   \n",
       "                                                                                      0.0003                   1.0   \n",
       "                                                                                      0.0005                   1.0   \n",
       "\n",
       "                                                                                                          seed  \\\n",
       "dimensions output_channels sig_depth num_heads num_layers ffn_hidden_dim dropout_rate learning_rate              \n",
       "15         10              3         5         1          (32, 32)       0.1          0.0001         45.333333   \n",
       "                                                                                      0.0003         45.333333   \n",
       "                                                                                      0.0005         45.333333   \n",
       "                                                          (128, 128)     0.1          0.0001         45.333333   \n",
       "                                                                                      0.0003         45.333333   \n",
       "                                                                                      0.0005         45.333333   \n",
       "                                                          (512, 512)     0.1          0.0001         45.333333   \n",
       "                                                                                      0.0003         45.333333   \n",
       "                                                                                      0.0005         45.333333   \n",
       "           12              3         10        1          (32, 32)       0.1          0.0001         45.333333   \n",
       "                                                                                      0.0003         45.333333   \n",
       "                                                                                      0.0005         45.333333   \n",
       "                                                          (128, 128)     0.1          0.0001         45.333333   \n",
       "                                                                                      0.0003         45.333333   \n",
       "                                                                                      0.0005         45.333333   \n",
       "                                                          (512, 512)     0.1          0.0001         45.333333   \n",
       "                                                                                      0.0003         45.333333   \n",
       "                                                                                      0.0005         45.333333   \n",
       "\n",
       "                                                                                                     gamma  \\\n",
       "dimensions output_channels sig_depth num_heads num_layers ffn_hidden_dim dropout_rate learning_rate          \n",
       "15         10              3         5         1          (32, 32)       0.1          0.0001           2.0   \n",
       "                                                                                      0.0003           2.0   \n",
       "                                                                                      0.0005           2.0   \n",
       "                                                          (128, 128)     0.1          0.0001           2.0   \n",
       "                                                                                      0.0003           2.0   \n",
       "                                                                                      0.0005           2.0   \n",
       "                                                          (512, 512)     0.1          0.0001           2.0   \n",
       "                                                                                      0.0003           2.0   \n",
       "                                                                                      0.0005           2.0   \n",
       "           12              3         10        1          (32, 32)       0.1          0.0001           2.0   \n",
       "                                                                                      0.0003           2.0   \n",
       "                                                                                      0.0005           2.0   \n",
       "                                                          (128, 128)     0.1          0.0001           2.0   \n",
       "                                                                                      0.0003           2.0   \n",
       "                                                                                      0.0005           2.0   \n",
       "                                                          (512, 512)     0.1          0.0001           2.0   \n",
       "                                                                                      0.0003           2.0   \n",
       "                                                                                      0.0005           2.0   \n",
       "\n",
       "                                                                                                     k_fold  \\\n",
       "dimensions output_channels sig_depth num_heads num_layers ffn_hidden_dim dropout_rate learning_rate           \n",
       "15         10              3         5         1          (32, 32)       0.1          0.0001            1.0   \n",
       "                                                                                      0.0003            1.0   \n",
       "                                                                                      0.0005            1.0   \n",
       "                                                          (128, 128)     0.1          0.0001            1.0   \n",
       "                                                                                      0.0003            1.0   \n",
       "                                                                                      0.0005            1.0   \n",
       "                                                          (512, 512)     0.1          0.0001            1.0   \n",
       "                                                                                      0.0003            1.0   \n",
       "                                                                                      0.0005            1.0   \n",
       "           12              3         10        1          (32, 32)       0.1          0.0001            1.0   \n",
       "                                                                                      0.0003            1.0   \n",
       "                                                                                      0.0005            1.0   \n",
       "                                                          (128, 128)     0.1          0.0001            1.0   \n",
       "                                                                                      0.0003            1.0   \n",
       "                                                                                      0.0005            1.0   \n",
       "                                                          (512, 512)     0.1          0.0001            1.0   \n",
       "                                                                                      0.0003            1.0   \n",
       "                                                                                      0.0005            1.0   \n",
       "\n",
       "                                                                                                     n_splits  \\\n",
       "dimensions output_channels sig_depth num_heads num_layers ffn_hidden_dim dropout_rate learning_rate             \n",
       "15         10              3         5         1          (32, 32)       0.1          0.0001              5.0   \n",
       "                                                                                      0.0003              5.0   \n",
       "                                                                                      0.0005              5.0   \n",
       "                                                          (128, 128)     0.1          0.0001              5.0   \n",
       "                                                                                      0.0003              5.0   \n",
       "                                                                                      0.0005              5.0   \n",
       "                                                          (512, 512)     0.1          0.0001              5.0   \n",
       "                                                                                      0.0003              5.0   \n",
       "                                                                                      0.0005              5.0   \n",
       "           12              3         10        1          (32, 32)       0.1          0.0001              5.0   \n",
       "                                                                                      0.0003              5.0   \n",
       "                                                                                      0.0005              5.0   \n",
       "                                                          (128, 128)     0.1          0.0001              5.0   \n",
       "                                                                                      0.0003              5.0   \n",
       "                                                                                      0.0005              5.0   \n",
       "                                                          (512, 512)     0.1          0.0001              5.0   \n",
       "                                                                                      0.0003              5.0   \n",
       "                                                                                      0.0005              5.0   \n",
       "\n",
       "                                                                                                     batch_size  \\\n",
       "dimensions output_channels sig_depth num_heads num_layers ffn_hidden_dim dropout_rate learning_rate               \n",
       "15         10              3         5         1          (32, 32)       0.1          0.0001               64.0   \n",
       "                                                                                      0.0003               64.0   \n",
       "                                                                                      0.0005               64.0   \n",
       "                                                          (128, 128)     0.1          0.0001               64.0   \n",
       "                                                                                      0.0003               64.0   \n",
       "                                                                                      0.0005               64.0   \n",
       "                                                          (512, 512)     0.1          0.0001               64.0   \n",
       "                                                                                      0.0003               64.0   \n",
       "                                                                                      0.0005               64.0   \n",
       "           12              3         10        1          (32, 32)       0.1          0.0001               64.0   \n",
       "                                                                                      0.0003               64.0   \n",
       "                                                                                      0.0005               64.0   \n",
       "                                                          (128, 128)     0.1          0.0001               64.0   \n",
       "                                                                                      0.0003               64.0   \n",
       "                                                                                      0.0005               64.0   \n",
       "                                                          (512, 512)     0.1          0.0001               64.0   \n",
       "                                                                                      0.0003               64.0   \n",
       "                                                                                      0.0005               64.0   \n",
       "\n",
       "                                                                                                     model_id  \n",
       "dimensions output_channels sig_depth num_heads num_layers ffn_hidden_dim dropout_rate learning_rate            \n",
       "15         10              3         5         1          (32, 32)       0.1          0.0001             11.0  \n",
       "                                                                                      0.0003             10.0  \n",
       "                                                                                      0.0005              9.0  \n",
       "                                                          (128, 128)     0.1          0.0001             14.0  \n",
       "                                                                                      0.0003             13.0  \n",
       "                                                                                      0.0005             12.0  \n",
       "                                                          (512, 512)     0.1          0.0001             17.0  \n",
       "                                                                                      0.0003             16.0  \n",
       "                                                                                      0.0005             15.0  \n",
       "           12              3         10        1          (32, 32)       0.1          0.0001              2.0  \n",
       "                                                                                      0.0003              1.0  \n",
       "                                                                                      0.0005              0.0  \n",
       "                                                          (128, 128)     0.1          0.0001              5.0  \n",
       "                                                                                      0.0003              4.0  \n",
       "                                                                                      0.0005              3.0  \n",
       "                                                          (512, 512)     0.1          0.0001              8.0  \n",
       "                                                                                      0.0003              7.0  \n",
       "                                                                                      0.0005              6.0  \n",
       "\n",
       "[18 rows x 21 columns]"
      ]
     },
     "execution_count": 12,
     "metadata": {},
     "output_type": "execute_result"
    }
   ],
   "source": [
    "swmhau_network_umap_kfold_5.groupby(\n",
    "    [\n",
    "        \"dimensions\",\n",
    "        \"output_channels\",\n",
    "        \"sig_depth\",\n",
    "        \"num_heads\",\n",
    "        \"num_layers\",\n",
    "        \"ffn_hidden_dim\",\n",
    "        \"dropout_rate\",\n",
    "        \"learning_rate\",\n",
    "    ]\n",
    ").mean()"
   ]
  },
  {
   "cell_type": "code",
   "execution_count": 13,
   "id": "603dee18",
   "metadata": {},
   "outputs": [
    {
     "data": {
      "text/html": [
       "<div>\n",
       "<style scoped>\n",
       "    .dataframe tbody tr th:only-of-type {\n",
       "        vertical-align: middle;\n",
       "    }\n",
       "\n",
       "    .dataframe tbody tr th {\n",
       "        vertical-align: top;\n",
       "    }\n",
       "\n",
       "    .dataframe thead th {\n",
       "        text-align: right;\n",
       "    }\n",
       "</style>\n",
       "<table border=\"1\" class=\"dataframe\">\n",
       "  <thead>\n",
       "    <tr style=\"text-align: right;\">\n",
       "      <th></th>\n",
       "      <th>loss</th>\n",
       "      <th>accuracy</th>\n",
       "      <th>f1</th>\n",
       "      <th>f1_scores</th>\n",
       "      <th>precision</th>\n",
       "      <th>precision_scores</th>\n",
       "      <th>recall</th>\n",
       "      <th>recall_scores</th>\n",
       "      <th>valid_loss</th>\n",
       "      <th>valid_accuracy</th>\n",
       "      <th>...</th>\n",
       "      <th>learning_rate</th>\n",
       "      <th>seed</th>\n",
       "      <th>loss_function</th>\n",
       "      <th>gamma</th>\n",
       "      <th>k_fold</th>\n",
       "      <th>n_splits</th>\n",
       "      <th>augmentation_type</th>\n",
       "      <th>hidden_dim_aug</th>\n",
       "      <th>comb_method</th>\n",
       "      <th>batch_size</th>\n",
       "    </tr>\n",
       "  </thead>\n",
       "  <tbody>\n",
       "    <tr>\n",
       "      <th>0</th>\n",
       "      <td>None</td>\n",
       "      <td>0.684809</td>\n",
       "      <td>0.659525</td>\n",
       "      <td>[0.7523070162589716, 0.5667435306174737]</td>\n",
       "      <td>0.657498</td>\n",
       "      <td>[0.7690925426774483, 0.5459032576505429]</td>\n",
       "      <td>0.662738</td>\n",
       "      <td>[0.7362385321100917, 0.5892381459776239]</td>\n",
       "      <td>None</td>\n",
       "      <td>0.742418</td>\n",
       "      <td>...</td>\n",
       "      <td>0.0003</td>\n",
       "      <td>1</td>\n",
       "      <td>focal</td>\n",
       "      <td>2</td>\n",
       "      <td>True</td>\n",
       "      <td>5</td>\n",
       "      <td>Conv1d</td>\n",
       "      <td>None</td>\n",
       "      <td>concatenation</td>\n",
       "      <td>64</td>\n",
       "    </tr>\n",
       "    <tr>\n",
       "      <th>0</th>\n",
       "      <td>None</td>\n",
       "      <td>0.695993</td>\n",
       "      <td>0.663289</td>\n",
       "      <td>[0.7682250959215574, 0.5583536420254535]</td>\n",
       "      <td>0.664677</td>\n",
       "      <td>[0.7616229923922232, 0.5677312775330396]</td>\n",
       "      <td>0.662112</td>\n",
       "      <td>[0.7749426605504587, 0.5492807671816728]</td>\n",
       "      <td>None</td>\n",
       "      <td>0.740261</td>\n",
       "      <td>...</td>\n",
       "      <td>0.0003</td>\n",
       "      <td>12</td>\n",
       "      <td>focal</td>\n",
       "      <td>2</td>\n",
       "      <td>True</td>\n",
       "      <td>5</td>\n",
       "      <td>Conv1d</td>\n",
       "      <td>None</td>\n",
       "      <td>concatenation</td>\n",
       "      <td>64</td>\n",
       "    </tr>\n",
       "    <tr>\n",
       "      <th>0</th>\n",
       "      <td>None</td>\n",
       "      <td>0.697670</td>\n",
       "      <td>0.663882</td>\n",
       "      <td>[0.7704500424568356, 0.5573144104803494]</td>\n",
       "      <td>0.666054</td>\n",
       "      <td>[0.7607602012297373, 0.5713486289871292]</td>\n",
       "      <td>0.662172</td>\n",
       "      <td>[0.7803899082568807, 0.5439531166755461]</td>\n",
       "      <td>None</td>\n",
       "      <td>0.730961</td>\n",
       "      <td>...</td>\n",
       "      <td>0.0003</td>\n",
       "      <td>123</td>\n",
       "      <td>focal</td>\n",
       "      <td>2</td>\n",
       "      <td>True</td>\n",
       "      <td>5</td>\n",
       "      <td>Conv1d</td>\n",
       "      <td>None</td>\n",
       "      <td>concatenation</td>\n",
       "      <td>64</td>\n",
       "    </tr>\n",
       "  </tbody>\n",
       "</table>\n",
       "<p>3 rows × 44 columns</p>\n",
       "</div>"
      ],
      "text/plain": [
       "   loss  accuracy        f1                                 f1_scores  \\\n",
       "0  None  0.684809  0.659525  [0.7523070162589716, 0.5667435306174737]   \n",
       "0  None  0.695993  0.663289  [0.7682250959215574, 0.5583536420254535]   \n",
       "0  None  0.697670  0.663882  [0.7704500424568356, 0.5573144104803494]   \n",
       "\n",
       "   precision                          precision_scores    recall  \\\n",
       "0   0.657498  [0.7690925426774483, 0.5459032576505429]  0.662738   \n",
       "0   0.664677  [0.7616229923922232, 0.5677312775330396]  0.662112   \n",
       "0   0.666054  [0.7607602012297373, 0.5713486289871292]  0.662172   \n",
       "\n",
       "                              recall_scores valid_loss  valid_accuracy  ...  \\\n",
       "0  [0.7362385321100917, 0.5892381459776239]       None        0.742418  ...   \n",
       "0  [0.7749426605504587, 0.5492807671816728]       None        0.740261  ...   \n",
       "0  [0.7803899082568807, 0.5439531166755461]       None        0.730961  ...   \n",
       "\n",
       "   learning_rate seed  loss_function gamma  k_fold n_splits  \\\n",
       "0         0.0003    1          focal     2    True        5   \n",
       "0         0.0003   12          focal     2    True        5   \n",
       "0         0.0003  123          focal     2    True        5   \n",
       "\n",
       "   augmentation_type  hidden_dim_aug    comb_method batch_size  \n",
       "0             Conv1d            None  concatenation         64  \n",
       "0             Conv1d            None  concatenation         64  \n",
       "0             Conv1d            None  concatenation         64  \n",
       "\n",
       "[3 rows x 44 columns]"
      ]
     },
     "execution_count": 13,
     "metadata": {},
     "output_type": "execute_result"
    }
   ],
   "source": [
    "best_swmhau_network_umap_kfold_5"
   ]
  },
  {
   "cell_type": "code",
   "execution_count": 14,
   "id": "e706aad7-e55f-4402-9df8-4e2cb0a0eb82",
   "metadata": {},
   "outputs": [
    {
     "data": {
      "text/html": [
       "<div>\n",
       "<style scoped>\n",
       "    .dataframe tbody tr th:only-of-type {\n",
       "        vertical-align: middle;\n",
       "    }\n",
       "\n",
       "    .dataframe tbody tr th {\n",
       "        vertical-align: top;\n",
       "    }\n",
       "\n",
       "    .dataframe thead th {\n",
       "        text-align: right;\n",
       "    }\n",
       "</style>\n",
       "<table border=\"1\" class=\"dataframe\">\n",
       "  <thead>\n",
       "    <tr style=\"text-align: right;\">\n",
       "      <th></th>\n",
       "      <th>dimensions</th>\n",
       "      <th>output_channels</th>\n",
       "      <th>sig_depth</th>\n",
       "      <th>num_heads</th>\n",
       "      <th>num_layers</th>\n",
       "      <th>ffn_hidden_dim</th>\n",
       "      <th>dropout_rate</th>\n",
       "      <th>learning_rate</th>\n",
       "    </tr>\n",
       "  </thead>\n",
       "  <tbody>\n",
       "    <tr>\n",
       "      <th>0</th>\n",
       "      <td>15</td>\n",
       "      <td>10</td>\n",
       "      <td>3</td>\n",
       "      <td>5</td>\n",
       "      <td>1</td>\n",
       "      <td>(128, 128)</td>\n",
       "      <td>0.1</td>\n",
       "      <td>0.0003</td>\n",
       "    </tr>\n",
       "    <tr>\n",
       "      <th>0</th>\n",
       "      <td>15</td>\n",
       "      <td>10</td>\n",
       "      <td>3</td>\n",
       "      <td>5</td>\n",
       "      <td>1</td>\n",
       "      <td>(128, 128)</td>\n",
       "      <td>0.1</td>\n",
       "      <td>0.0003</td>\n",
       "    </tr>\n",
       "    <tr>\n",
       "      <th>0</th>\n",
       "      <td>15</td>\n",
       "      <td>10</td>\n",
       "      <td>3</td>\n",
       "      <td>5</td>\n",
       "      <td>1</td>\n",
       "      <td>(128, 128)</td>\n",
       "      <td>0.1</td>\n",
       "      <td>0.0003</td>\n",
       "    </tr>\n",
       "  </tbody>\n",
       "</table>\n",
       "</div>"
      ],
      "text/plain": [
       "   dimensions  output_channels  sig_depth  num_heads  num_layers  \\\n",
       "0          15               10          3          5           1   \n",
       "0          15               10          3          5           1   \n",
       "0          15               10          3          5           1   \n",
       "\n",
       "  ffn_hidden_dim  dropout_rate  learning_rate  \n",
       "0     (128, 128)           0.1         0.0003  \n",
       "0     (128, 128)           0.1         0.0003  \n",
       "0     (128, 128)           0.1         0.0003  "
      ]
     },
     "execution_count": 14,
     "metadata": {},
     "output_type": "execute_result"
    }
   ],
   "source": [
    "best_swmhau_network_umap_kfold_5[\n",
    "    [\n",
    "        \"dimensions\",\n",
    "        \"output_channels\",\n",
    "        \"sig_depth\",\n",
    "        \"num_heads\",\n",
    "        \"num_layers\",\n",
    "        \"ffn_hidden_dim\",\n",
    "        \"dropout_rate\",\n",
    "        \"learning_rate\",\n",
    "    ]\n",
    "]"
   ]
  },
  {
   "cell_type": "code",
   "execution_count": 15,
   "id": "e9d503c3",
   "metadata": {},
   "outputs": [
    {
     "data": {
      "text/plain": [
       "0.6622322896267735"
      ]
     },
     "execution_count": 15,
     "metadata": {},
     "output_type": "execute_result"
    }
   ],
   "source": [
    "best_swmhau_network_umap_kfold_5[\"f1\"].mean()"
   ]
  },
  {
   "cell_type": "code",
   "execution_count": 16,
   "id": "f3079077",
   "metadata": {},
   "outputs": [
    {
     "data": {
      "text/plain": [
       "0.6627431500783535"
      ]
     },
     "execution_count": 16,
     "metadata": {},
     "output_type": "execute_result"
    }
   ],
   "source": [
    "best_swmhau_network_umap_kfold_5[\"precision\"].mean()"
   ]
  },
  {
   "cell_type": "code",
   "execution_count": 17,
   "id": "eb2894ed",
   "metadata": {},
   "outputs": [
    {
     "data": {
      "text/plain": [
       "0.6623405217920456"
      ]
     },
     "execution_count": 17,
     "metadata": {},
     "output_type": "execute_result"
    }
   ],
   "source": [
    "best_swmhau_network_umap_kfold_5[\"recall\"].mean()"
   ]
  },
  {
   "cell_type": "code",
   "execution_count": 18,
   "id": "a3e8bbc5",
   "metadata": {},
   "outputs": [
    {
     "data": {
      "text/plain": [
       "array([0.76366072, 0.56080386])"
      ]
     },
     "execution_count": 18,
     "metadata": {},
     "output_type": "execute_result"
    }
   ],
   "source": [
    "np.stack(best_swmhau_network_umap_kfold_5[\"f1_scores\"]).mean(axis=0)"
   ]
  },
  {
   "cell_type": "code",
   "execution_count": 19,
   "id": "4601b7f2",
   "metadata": {},
   "outputs": [
    {
     "data": {
      "text/plain": [
       "array([0.76382525, 0.56166105])"
      ]
     },
     "execution_count": 19,
     "metadata": {},
     "output_type": "execute_result"
    }
   ],
   "source": [
    "np.stack(best_swmhau_network_umap_kfold_5[\"precision_scores\"]).mean(axis=0)"
   ]
  },
  {
   "cell_type": "code",
   "execution_count": 20,
   "id": "a3201dd5",
   "metadata": {},
   "outputs": [
    {
     "data": {
      "text/plain": [
       "array([0.76385703, 0.56082401])"
      ]
     },
     "execution_count": 20,
     "metadata": {},
     "output_type": "execute_result"
    }
   ],
   "source": [
    "np.stack(best_swmhau_network_umap_kfold_5[\"recall_scores\"]).mean(axis=0)"
   ]
  },
  {
   "cell_type": "markdown",
   "id": "4713673b-5dae-4522-afa4-53d64f2b78b2",
   "metadata": {
    "tags": []
   },
   "source": [
    "# w=11"
   ]
  },
  {
   "cell_type": "code",
   "execution_count": 21,
   "id": "e76d5c21-9452-472a-9f9b-60f03730272b",
   "metadata": {},
   "outputs": [],
   "source": [
    "size = 11"
   ]
  },
  {
   "cell_type": "markdown",
   "id": "e8901c03-bc80-4c5c-b3be-1006133bf88e",
   "metadata": {},
   "source": [
    "## umap"
   ]
  },
  {
   "cell_type": "code",
   "execution_count": 22,
   "id": "5e80fa35-3fdc-4c4a-ac53-506c6471ff99",
   "metadata": {},
   "outputs": [
    {
     "data": {
      "application/vnd.jupyter.widget-view+json": {
       "model_id": "04108ac4ab914a1baa4a70c82599a636",
       "version_major": 2,
       "version_minor": 0
      },
      "text/plain": [
       "  0%|          | 0/1 [00:00<?, ?it/s]"
      ]
     },
     "metadata": {},
     "output_type": "display_data"
    },
    {
     "data": {
      "application/vnd.jupyter.widget-view+json": {
       "model_id": "b18ef03611b04adeb914e21133b32e9d",
       "version_major": 2,
       "version_minor": 0
      },
      "text/plain": [
       "  0%|          | 0/1 [00:00<?, ?it/s]"
      ]
     },
     "metadata": {},
     "output_type": "display_data"
    },
    {
     "data": {
      "application/vnd.jupyter.widget-view+json": {
       "model_id": "af27f42f1e5f43a8936d546683ac9d52",
       "version_major": 2,
       "version_minor": 0
      },
      "text/plain": [
       "  0%|          | 0/1 [00:00<?, ?it/s]"
      ]
     },
     "metadata": {},
     "output_type": "display_data"
    },
    {
     "name": "stdout",
     "output_type": "stream",
     "text": [
      "\n",
      "##################################################\n",
      "dimension: 15 | method: umap\n",
      "[INFO] Concatenating the embeddings to the dataframe...\n",
      "[INFO] - columns beginning with 'e' denote the full embddings.\n",
      "[INFO] - columns beginning with 'd' denote the dimension reduced embeddings.\n",
      "[INFO] Adding time feature columns into dataframe in `.df`.\n",
      "[INFO] Adding 'time_encoding' feature...\n",
      "[INFO] Adding 'time_diff' feature...\n",
      "[INFO] Adding 'timeline_index' feature...\n",
      "[INFO] Padding ids and storing in `.df_padded` and `.array_padded` attributes.\n"
     ]
    },
    {
     "data": {
      "application/vnd.jupyter.widget-view+json": {
       "model_id": "4c6b59d5f5be43a2b5cbf149d9d33263",
       "version_major": 2,
       "version_minor": 0
      },
      "text/plain": [
       "  0%|          | 0/5568 [00:00<?, ?it/s]"
      ]
     },
     "metadata": {},
     "output_type": "display_data"
    },
    {
     "name": "stdout",
     "output_type": "stream",
     "text": [
      "[INFO] The path was created for each item in the dataframe, by looking at its history, so to include embeddings in the FFN input, we concatenate the embeddings for each sentence / text.\n"
     ]
    },
    {
     "data": {
      "application/vnd.jupyter.widget-view+json": {
       "model_id": "84d9aa6f9e9142abbfd014338b582589",
       "version_major": 2,
       "version_minor": 0
      },
      "text/plain": [
       "  0%|          | 0/2 [00:00<?, ?it/s]"
      ]
     },
     "metadata": {},
     "output_type": "display_data"
    },
    {
     "data": {
      "application/vnd.jupyter.widget-view+json": {
       "model_id": "d7d36ccddf024dd1aeec06335f1e451b",
       "version_major": 2,
       "version_minor": 0
      },
      "text/plain": [
       "  0%|          | 0/1 [00:00<?, ?it/s]"
      ]
     },
     "metadata": {},
     "output_type": "display_data"
    },
    {
     "data": {
      "application/vnd.jupyter.widget-view+json": {
       "model_id": "e26b509941de4f14971752f5dd81d4ee",
       "version_major": 2,
       "version_minor": 0
      },
      "text/plain": [
       "  0%|          | 0/3 [00:00<?, ?it/s]"
      ]
     },
     "metadata": {},
     "output_type": "display_data"
    },
    {
     "data": {
      "application/vnd.jupyter.widget-view+json": {
       "model_id": "f9260915104f494d8b682d189e897a47",
       "version_major": 2,
       "version_minor": 0
      },
      "text/plain": [
       "  0%|          | 0/1 [00:00<?, ?it/s]"
      ]
     },
     "metadata": {},
     "output_type": "display_data"
    },
    {
     "data": {
      "application/vnd.jupyter.widget-view+json": {
       "model_id": "3bc54c5d96fe455da3fd764574316e02",
       "version_major": 2,
       "version_minor": 0
      },
      "text/plain": [
       "  0%|          | 0/3 [00:00<?, ?it/s]"
      ]
     },
     "metadata": {},
     "output_type": "display_data"
    },
    {
     "data": {
      "application/vnd.jupyter.widget-view+json": {
       "model_id": "f714f061d1eb463eb3d8283226b1d027",
       "version_major": 2,
       "version_minor": 0
      },
      "text/plain": [
       "  0%|          | 0/1 [00:00<?, ?it/s]"
      ]
     },
     "metadata": {},
     "output_type": "display_data"
    },
    {
     "data": {
      "application/vnd.jupyter.widget-view+json": {
       "model_id": "7a4a6ad88fb248e3b3ead9ec693a259a",
       "version_major": 2,
       "version_minor": 0
      },
      "text/plain": [
       "  0%|          | 0/3 [00:00<?, ?it/s]"
      ]
     },
     "metadata": {},
     "output_type": "display_data"
    },
    {
     "data": {
      "application/vnd.jupyter.widget-view+json": {
       "model_id": "95635a044a3e4c05975ceaa64852e585",
       "version_major": 2,
       "version_minor": 0
      },
      "text/plain": [
       "  0%|          | 0/1 [00:00<?, ?it/s]"
      ]
     },
     "metadata": {},
     "output_type": "display_data"
    },
    {
     "data": {
      "application/vnd.jupyter.widget-view+json": {
       "model_id": "f5d381b4c8f34d1d97e3861a30009b51",
       "version_major": 2,
       "version_minor": 0
      },
      "text/plain": [
       "  0%|          | 0/3 [00:00<?, ?it/s]"
      ]
     },
     "metadata": {},
     "output_type": "display_data"
    },
    {
     "data": {
      "application/vnd.jupyter.widget-view+json": {
       "model_id": "2345001ad3d546548cb2b20c8e484611",
       "version_major": 2,
       "version_minor": 0
      },
      "text/plain": [
       "  0%|          | 0/1 [00:00<?, ?it/s]"
      ]
     },
     "metadata": {},
     "output_type": "display_data"
    },
    {
     "data": {
      "application/vnd.jupyter.widget-view+json": {
       "model_id": "1a7c91a1dda54807aaf8507210576e26",
       "version_major": 2,
       "version_minor": 0
      },
      "text/plain": [
       "  0%|          | 0/3 [00:00<?, ?it/s]"
      ]
     },
     "metadata": {},
     "output_type": "display_data"
    },
    {
     "data": {
      "application/vnd.jupyter.widget-view+json": {
       "model_id": "0eca6c310b2e4ccb950f25dd7c80c3ed",
       "version_major": 2,
       "version_minor": 0
      },
      "text/plain": [
       "  0%|          | 0/1 [00:00<?, ?it/s]"
      ]
     },
     "metadata": {},
     "output_type": "display_data"
    },
    {
     "data": {
      "application/vnd.jupyter.widget-view+json": {
       "model_id": "9aba1ae9af4845cda07b07c41072be70",
       "version_major": 2,
       "version_minor": 0
      },
      "text/plain": [
       "  0%|          | 0/3 [00:00<?, ?it/s]"
      ]
     },
     "metadata": {},
     "output_type": "display_data"
    },
    {
     "data": {
      "application/vnd.jupyter.widget-view+json": {
       "model_id": "44b56920e4da43e99a563ba86d5f1ac2",
       "version_major": 2,
       "version_minor": 0
      },
      "text/plain": [
       "  0%|          | 0/1 [00:00<?, ?it/s]"
      ]
     },
     "metadata": {},
     "output_type": "display_data"
    },
    {
     "data": {
      "application/vnd.jupyter.widget-view+json": {
       "model_id": "fd4bd5115ecb4717b45d09e939f1c7ec",
       "version_major": 2,
       "version_minor": 0
      },
      "text/plain": [
       "  0%|          | 0/3 [00:00<?, ?it/s]"
      ]
     },
     "metadata": {},
     "output_type": "display_data"
    },
    {
     "data": {
      "application/vnd.jupyter.widget-view+json": {
       "model_id": "98180b6af21846ac84b689e4c8ed1f3e",
       "version_major": 2,
       "version_minor": 0
      },
      "text/plain": [
       "  0%|          | 0/1 [00:00<?, ?it/s]"
      ]
     },
     "metadata": {},
     "output_type": "display_data"
    },
    {
     "data": {
      "application/vnd.jupyter.widget-view+json": {
       "model_id": "cdf21aeef0a242a7829e5b215b635aab",
       "version_major": 2,
       "version_minor": 0
      },
      "text/plain": [
       "  0%|          | 0/3 [00:00<?, ?it/s]"
      ]
     },
     "metadata": {},
     "output_type": "display_data"
    },
    {
     "name": "stdout",
     "output_type": "stream",
     "text": [
      "[INFO] Concatenating the embeddings to the dataframe...\n",
      "[INFO] - columns beginning with 'e' denote the full embddings.\n",
      "[INFO] - columns beginning with 'd' denote the dimension reduced embeddings.\n",
      "[INFO] Adding time feature columns into dataframe in `.df`.\n",
      "[INFO] Adding 'time_encoding' feature...\n",
      "[INFO] Adding 'time_diff' feature...\n",
      "[INFO] Adding 'timeline_index' feature...\n",
      "[INFO] Padding ids and storing in `.df_padded` and `.array_padded` attributes.\n"
     ]
    },
    {
     "data": {
      "application/vnd.jupyter.widget-view+json": {
       "model_id": "c9546cc9d80c4584a6da250198a1e04e",
       "version_major": 2,
       "version_minor": 0
      },
      "text/plain": [
       "  0%|          | 0/5568 [00:00<?, ?it/s]"
      ]
     },
     "metadata": {},
     "output_type": "display_data"
    },
    {
     "name": "stdout",
     "output_type": "stream",
     "text": [
      "[INFO] The path was created for each item in the dataframe, by looking at its history, so to include embeddings in the FFN input, we concatenate the embeddings for each sentence / text.\n",
      "saving results dataframe to CSV for this hyperparameter search in rumours_output/swmhau_network_umap_focal_2_11_kfold.csv\n",
      "saving the best model results dataframe to CSV for this hyperparameter search in rumours_output/swmhau_network_umap_focal_2_11_kfold_best_model.csv\n"
     ]
    }
   ],
   "source": [
    "(\n",
    "    swmhau_network_umap_kfold_11,\n",
    "    best_swmhau_network_umap_kfold_11,\n",
    "    _,\n",
    "    __,\n",
    ") = swmhau_network_hyperparameter_search(\n",
    "    history_lengths=[size],\n",
    "    dim_reduce_methods=[\"umap\"],\n",
    "    results_output=f\"{output_dir}/swmhau_network_umap_focal_{gamma}_{size}_kfold.csv\",\n",
    "    **kwargs,\n",
    ")"
   ]
  },
  {
   "cell_type": "code",
   "execution_count": 23,
   "id": "97b6b624-76ef-48fb-ad87-f4483d3a6921",
   "metadata": {},
   "outputs": [
    {
     "name": "stderr",
     "output_type": "stream",
     "text": [
      "/tmp/ipykernel_2583287/404807304.py:1: FutureWarning: The default value of numeric_only in DataFrameGroupBy.mean is deprecated. In a future version, numeric_only will default to False. Either specify numeric_only or select only columns which should be valid for the function.\n",
      "  swmhau_network_umap_kfold_11.groupby(\n"
     ]
    },
    {
     "data": {
      "text/html": [
       "<div>\n",
       "<style scoped>\n",
       "    .dataframe tbody tr th:only-of-type {\n",
       "        vertical-align: middle;\n",
       "    }\n",
       "\n",
       "    .dataframe tbody tr th {\n",
       "        vertical-align: top;\n",
       "    }\n",
       "\n",
       "    .dataframe thead th {\n",
       "        text-align: right;\n",
       "    }\n",
       "</style>\n",
       "<table border=\"1\" class=\"dataframe\">\n",
       "  <thead>\n",
       "    <tr style=\"text-align: right;\">\n",
       "      <th></th>\n",
       "      <th></th>\n",
       "      <th></th>\n",
       "      <th></th>\n",
       "      <th></th>\n",
       "      <th></th>\n",
       "      <th></th>\n",
       "      <th></th>\n",
       "      <th>accuracy</th>\n",
       "      <th>f1</th>\n",
       "      <th>precision</th>\n",
       "      <th>recall</th>\n",
       "      <th>valid_accuracy</th>\n",
       "      <th>valid_f1</th>\n",
       "      <th>valid_precision</th>\n",
       "      <th>valid_recall</th>\n",
       "      <th>k</th>\n",
       "      <th>input_channels</th>\n",
       "      <th>...</th>\n",
       "      <th>include_features_in_input</th>\n",
       "      <th>embedding_dim</th>\n",
       "      <th>num_features</th>\n",
       "      <th>log_signature</th>\n",
       "      <th>seed</th>\n",
       "      <th>gamma</th>\n",
       "      <th>k_fold</th>\n",
       "      <th>n_splits</th>\n",
       "      <th>batch_size</th>\n",
       "      <th>model_id</th>\n",
       "    </tr>\n",
       "    <tr>\n",
       "      <th>dimensions</th>\n",
       "      <th>output_channels</th>\n",
       "      <th>sig_depth</th>\n",
       "      <th>num_heads</th>\n",
       "      <th>num_layers</th>\n",
       "      <th>ffn_hidden_dim</th>\n",
       "      <th>dropout_rate</th>\n",
       "      <th>learning_rate</th>\n",
       "      <th></th>\n",
       "      <th></th>\n",
       "      <th></th>\n",
       "      <th></th>\n",
       "      <th></th>\n",
       "      <th></th>\n",
       "      <th></th>\n",
       "      <th></th>\n",
       "      <th></th>\n",
       "      <th></th>\n",
       "      <th></th>\n",
       "      <th></th>\n",
       "      <th></th>\n",
       "      <th></th>\n",
       "      <th></th>\n",
       "      <th></th>\n",
       "      <th></th>\n",
       "      <th></th>\n",
       "      <th></th>\n",
       "      <th></th>\n",
       "      <th></th>\n",
       "    </tr>\n",
       "  </thead>\n",
       "  <tbody>\n",
       "    <tr>\n",
       "      <th rowspan=\"18\" valign=\"top\">15</th>\n",
       "      <th rowspan=\"9\" valign=\"top\">10</th>\n",
       "      <th rowspan=\"9\" valign=\"top\">3</th>\n",
       "      <th rowspan=\"9\" valign=\"top\">5</th>\n",
       "      <th rowspan=\"9\" valign=\"top\">1</th>\n",
       "      <th rowspan=\"3\" valign=\"top\">(32, 32)</th>\n",
       "      <th rowspan=\"3\" valign=\"top\">0.1</th>\n",
       "      <th>0.0001</th>\n",
       "      <td>0.683318</td>\n",
       "      <td>0.661202</td>\n",
       "      <td>0.658850</td>\n",
       "      <td>0.666759</td>\n",
       "      <td>0.751988</td>\n",
       "      <td>0.737883</td>\n",
       "      <td>0.737369</td>\n",
       "      <td>0.738774</td>\n",
       "      <td>11.0</td>\n",
       "      <td>17.0</td>\n",
       "      <td>...</td>\n",
       "      <td>1.0</td>\n",
       "      <td>384.0</td>\n",
       "      <td>2.0</td>\n",
       "      <td>1.0</td>\n",
       "      <td>45.333333</td>\n",
       "      <td>2.0</td>\n",
       "      <td>1.0</td>\n",
       "      <td>5.0</td>\n",
       "      <td>64.0</td>\n",
       "      <td>11.0</td>\n",
       "    </tr>\n",
       "    <tr>\n",
       "      <th>0.0003</th>\n",
       "      <td>0.683442</td>\n",
       "      <td>0.659843</td>\n",
       "      <td>0.657614</td>\n",
       "      <td>0.664312</td>\n",
       "      <td>0.762322</td>\n",
       "      <td>0.747946</td>\n",
       "      <td>0.748068</td>\n",
       "      <td>0.747916</td>\n",
       "      <td>11.0</td>\n",
       "      <td>17.0</td>\n",
       "      <td>...</td>\n",
       "      <td>1.0</td>\n",
       "      <td>384.0</td>\n",
       "      <td>2.0</td>\n",
       "      <td>1.0</td>\n",
       "      <td>45.333333</td>\n",
       "      <td>2.0</td>\n",
       "      <td>1.0</td>\n",
       "      <td>5.0</td>\n",
       "      <td>64.0</td>\n",
       "      <td>10.0</td>\n",
       "    </tr>\n",
       "    <tr>\n",
       "      <th>0.0005</th>\n",
       "      <td>0.682883</td>\n",
       "      <td>0.659256</td>\n",
       "      <td>0.657039</td>\n",
       "      <td>0.663636</td>\n",
       "      <td>0.754235</td>\n",
       "      <td>0.739888</td>\n",
       "      <td>0.739647</td>\n",
       "      <td>0.740227</td>\n",
       "      <td>11.0</td>\n",
       "      <td>17.0</td>\n",
       "      <td>...</td>\n",
       "      <td>1.0</td>\n",
       "      <td>384.0</td>\n",
       "      <td>2.0</td>\n",
       "      <td>1.0</td>\n",
       "      <td>45.333333</td>\n",
       "      <td>2.0</td>\n",
       "      <td>1.0</td>\n",
       "      <td>5.0</td>\n",
       "      <td>64.0</td>\n",
       "      <td>9.0</td>\n",
       "    </tr>\n",
       "    <tr>\n",
       "      <th rowspan=\"3\" valign=\"top\">(128, 128)</th>\n",
       "      <th rowspan=\"3\" valign=\"top\">0.1</th>\n",
       "      <th>0.0001</th>\n",
       "      <td>0.678596</td>\n",
       "      <td>0.656791</td>\n",
       "      <td>0.654529</td>\n",
       "      <td>0.662799</td>\n",
       "      <td>0.768882</td>\n",
       "      <td>0.755652</td>\n",
       "      <td>0.755154</td>\n",
       "      <td>0.756498</td>\n",
       "      <td>11.0</td>\n",
       "      <td>17.0</td>\n",
       "      <td>...</td>\n",
       "      <td>1.0</td>\n",
       "      <td>384.0</td>\n",
       "      <td>2.0</td>\n",
       "      <td>1.0</td>\n",
       "      <td>45.333333</td>\n",
       "      <td>2.0</td>\n",
       "      <td>1.0</td>\n",
       "      <td>5.0</td>\n",
       "      <td>64.0</td>\n",
       "      <td>14.0</td>\n",
       "    </tr>\n",
       "    <tr>\n",
       "      <th>0.0003</th>\n",
       "      <td>0.689220</td>\n",
       "      <td>0.667767</td>\n",
       "      <td>0.665151</td>\n",
       "      <td>0.673677</td>\n",
       "      <td>0.769466</td>\n",
       "      <td>0.756965</td>\n",
       "      <td>0.755862</td>\n",
       "      <td>0.758599</td>\n",
       "      <td>11.0</td>\n",
       "      <td>17.0</td>\n",
       "      <td>...</td>\n",
       "      <td>1.0</td>\n",
       "      <td>384.0</td>\n",
       "      <td>2.0</td>\n",
       "      <td>1.0</td>\n",
       "      <td>45.333333</td>\n",
       "      <td>2.0</td>\n",
       "      <td>1.0</td>\n",
       "      <td>5.0</td>\n",
       "      <td>64.0</td>\n",
       "      <td>13.0</td>\n",
       "    </tr>\n",
       "    <tr>\n",
       "      <th>0.0005</th>\n",
       "      <td>0.684933</td>\n",
       "      <td>0.662831</td>\n",
       "      <td>0.660900</td>\n",
       "      <td>0.668740</td>\n",
       "      <td>0.755358</td>\n",
       "      <td>0.739742</td>\n",
       "      <td>0.741196</td>\n",
       "      <td>0.739392</td>\n",
       "      <td>11.0</td>\n",
       "      <td>17.0</td>\n",
       "      <td>...</td>\n",
       "      <td>1.0</td>\n",
       "      <td>384.0</td>\n",
       "      <td>2.0</td>\n",
       "      <td>1.0</td>\n",
       "      <td>45.333333</td>\n",
       "      <td>2.0</td>\n",
       "      <td>1.0</td>\n",
       "      <td>5.0</td>\n",
       "      <td>64.0</td>\n",
       "      <td>12.0</td>\n",
       "    </tr>\n",
       "    <tr>\n",
       "      <th rowspan=\"3\" valign=\"top\">(512, 512)</th>\n",
       "      <th rowspan=\"3\" valign=\"top\">0.1</th>\n",
       "      <th>0.0001</th>\n",
       "      <td>0.684809</td>\n",
       "      <td>0.665253</td>\n",
       "      <td>0.663265</td>\n",
       "      <td>0.673237</td>\n",
       "      <td>0.756077</td>\n",
       "      <td>0.743710</td>\n",
       "      <td>0.742331</td>\n",
       "      <td>0.746242</td>\n",
       "      <td>11.0</td>\n",
       "      <td>17.0</td>\n",
       "      <td>...</td>\n",
       "      <td>1.0</td>\n",
       "      <td>384.0</td>\n",
       "      <td>2.0</td>\n",
       "      <td>1.0</td>\n",
       "      <td>45.333333</td>\n",
       "      <td>2.0</td>\n",
       "      <td>1.0</td>\n",
       "      <td>5.0</td>\n",
       "      <td>64.0</td>\n",
       "      <td>17.0</td>\n",
       "    </tr>\n",
       "    <tr>\n",
       "      <th>0.0003</th>\n",
       "      <td>0.696738</td>\n",
       "      <td>0.669657</td>\n",
       "      <td>0.668676</td>\n",
       "      <td>0.671338</td>\n",
       "      <td>0.748529</td>\n",
       "      <td>0.730269</td>\n",
       "      <td>0.733838</td>\n",
       "      <td>0.727832</td>\n",
       "      <td>11.0</td>\n",
       "      <td>17.0</td>\n",
       "      <td>...</td>\n",
       "      <td>1.0</td>\n",
       "      <td>384.0</td>\n",
       "      <td>2.0</td>\n",
       "      <td>1.0</td>\n",
       "      <td>45.333333</td>\n",
       "      <td>2.0</td>\n",
       "      <td>1.0</td>\n",
       "      <td>5.0</td>\n",
       "      <td>64.0</td>\n",
       "      <td>16.0</td>\n",
       "    </tr>\n",
       "    <tr>\n",
       "      <th>0.0005</th>\n",
       "      <td>0.699534</td>\n",
       "      <td>0.670433</td>\n",
       "      <td>0.670581</td>\n",
       "      <td>0.670946</td>\n",
       "      <td>0.740217</td>\n",
       "      <td>0.719301</td>\n",
       "      <td>0.725085</td>\n",
       "      <td>0.715888</td>\n",
       "      <td>11.0</td>\n",
       "      <td>17.0</td>\n",
       "      <td>...</td>\n",
       "      <td>1.0</td>\n",
       "      <td>384.0</td>\n",
       "      <td>2.0</td>\n",
       "      <td>1.0</td>\n",
       "      <td>45.333333</td>\n",
       "      <td>2.0</td>\n",
       "      <td>1.0</td>\n",
       "      <td>5.0</td>\n",
       "      <td>64.0</td>\n",
       "      <td>15.0</td>\n",
       "    </tr>\n",
       "    <tr>\n",
       "      <th rowspan=\"9\" valign=\"top\">12</th>\n",
       "      <th rowspan=\"9\" valign=\"top\">3</th>\n",
       "      <th rowspan=\"9\" valign=\"top\">10</th>\n",
       "      <th rowspan=\"9\" valign=\"top\">1</th>\n",
       "      <th rowspan=\"3\" valign=\"top\">(32, 32)</th>\n",
       "      <th rowspan=\"3\" valign=\"top\">0.1</th>\n",
       "      <th>0.0001</th>\n",
       "      <td>0.684188</td>\n",
       "      <td>0.663879</td>\n",
       "      <td>0.661507</td>\n",
       "      <td>0.670996</td>\n",
       "      <td>0.762457</td>\n",
       "      <td>0.749068</td>\n",
       "      <td>0.748322</td>\n",
       "      <td>0.749926</td>\n",
       "      <td>11.0</td>\n",
       "      <td>17.0</td>\n",
       "      <td>...</td>\n",
       "      <td>1.0</td>\n",
       "      <td>384.0</td>\n",
       "      <td>2.0</td>\n",
       "      <td>1.0</td>\n",
       "      <td>45.333333</td>\n",
       "      <td>2.0</td>\n",
       "      <td>1.0</td>\n",
       "      <td>5.0</td>\n",
       "      <td>64.0</td>\n",
       "      <td>2.0</td>\n",
       "    </tr>\n",
       "    <tr>\n",
       "      <th>0.0003</th>\n",
       "      <td>0.686362</td>\n",
       "      <td>0.666376</td>\n",
       "      <td>0.664520</td>\n",
       "      <td>0.673899</td>\n",
       "      <td>0.752662</td>\n",
       "      <td>0.739431</td>\n",
       "      <td>0.738860</td>\n",
       "      <td>0.741310</td>\n",
       "      <td>11.0</td>\n",
       "      <td>17.0</td>\n",
       "      <td>...</td>\n",
       "      <td>1.0</td>\n",
       "      <td>384.0</td>\n",
       "      <td>2.0</td>\n",
       "      <td>1.0</td>\n",
       "      <td>45.333333</td>\n",
       "      <td>2.0</td>\n",
       "      <td>1.0</td>\n",
       "      <td>5.0</td>\n",
       "      <td>64.0</td>\n",
       "      <td>1.0</td>\n",
       "    </tr>\n",
       "    <tr>\n",
       "      <th>0.0005</th>\n",
       "      <td>0.691022</td>\n",
       "      <td>0.669058</td>\n",
       "      <td>0.666457</td>\n",
       "      <td>0.674489</td>\n",
       "      <td>0.752348</td>\n",
       "      <td>0.737365</td>\n",
       "      <td>0.737523</td>\n",
       "      <td>0.737254</td>\n",
       "      <td>11.0</td>\n",
       "      <td>17.0</td>\n",
       "      <td>...</td>\n",
       "      <td>1.0</td>\n",
       "      <td>384.0</td>\n",
       "      <td>2.0</td>\n",
       "      <td>1.0</td>\n",
       "      <td>45.333333</td>\n",
       "      <td>2.0</td>\n",
       "      <td>1.0</td>\n",
       "      <td>5.0</td>\n",
       "      <td>64.0</td>\n",
       "      <td>0.0</td>\n",
       "    </tr>\n",
       "    <tr>\n",
       "      <th rowspan=\"3\" valign=\"top\">(128, 128)</th>\n",
       "      <th rowspan=\"3\" valign=\"top\">0.1</th>\n",
       "      <th>0.0001</th>\n",
       "      <td>0.676111</td>\n",
       "      <td>0.653527</td>\n",
       "      <td>0.651711</td>\n",
       "      <td>0.659166</td>\n",
       "      <td>0.771533</td>\n",
       "      <td>0.757363</td>\n",
       "      <td>0.758238</td>\n",
       "      <td>0.757078</td>\n",
       "      <td>11.0</td>\n",
       "      <td>17.0</td>\n",
       "      <td>...</td>\n",
       "      <td>1.0</td>\n",
       "      <td>384.0</td>\n",
       "      <td>2.0</td>\n",
       "      <td>1.0</td>\n",
       "      <td>45.333333</td>\n",
       "      <td>2.0</td>\n",
       "      <td>1.0</td>\n",
       "      <td>5.0</td>\n",
       "      <td>64.0</td>\n",
       "      <td>5.0</td>\n",
       "    </tr>\n",
       "    <tr>\n",
       "      <th>0.0003</th>\n",
       "      <td>0.680708</td>\n",
       "      <td>0.658907</td>\n",
       "      <td>0.656596</td>\n",
       "      <td>0.664875</td>\n",
       "      <td>0.772521</td>\n",
       "      <td>0.759193</td>\n",
       "      <td>0.758960</td>\n",
       "      <td>0.759710</td>\n",
       "      <td>11.0</td>\n",
       "      <td>17.0</td>\n",
       "      <td>...</td>\n",
       "      <td>1.0</td>\n",
       "      <td>384.0</td>\n",
       "      <td>2.0</td>\n",
       "      <td>1.0</td>\n",
       "      <td>45.333333</td>\n",
       "      <td>2.0</td>\n",
       "      <td>1.0</td>\n",
       "      <td>5.0</td>\n",
       "      <td>64.0</td>\n",
       "      <td>4.0</td>\n",
       "    </tr>\n",
       "    <tr>\n",
       "      <th>0.0005</th>\n",
       "      <td>0.693756</td>\n",
       "      <td>0.667179</td>\n",
       "      <td>0.665981</td>\n",
       "      <td>0.669496</td>\n",
       "      <td>0.748888</td>\n",
       "      <td>0.731300</td>\n",
       "      <td>0.734117</td>\n",
       "      <td>0.729412</td>\n",
       "      <td>11.0</td>\n",
       "      <td>17.0</td>\n",
       "      <td>...</td>\n",
       "      <td>1.0</td>\n",
       "      <td>384.0</td>\n",
       "      <td>2.0</td>\n",
       "      <td>1.0</td>\n",
       "      <td>45.333333</td>\n",
       "      <td>2.0</td>\n",
       "      <td>1.0</td>\n",
       "      <td>5.0</td>\n",
       "      <td>64.0</td>\n",
       "      <td>3.0</td>\n",
       "    </tr>\n",
       "    <tr>\n",
       "      <th rowspan=\"3\" valign=\"top\">(512, 512)</th>\n",
       "      <th rowspan=\"3\" valign=\"top\">0.1</th>\n",
       "      <th>0.0001</th>\n",
       "      <td>0.684250</td>\n",
       "      <td>0.663061</td>\n",
       "      <td>0.660895</td>\n",
       "      <td>0.669567</td>\n",
       "      <td>0.766411</td>\n",
       "      <td>0.752331</td>\n",
       "      <td>0.752462</td>\n",
       "      <td>0.752464</td>\n",
       "      <td>11.0</td>\n",
       "      <td>17.0</td>\n",
       "      <td>...</td>\n",
       "      <td>1.0</td>\n",
       "      <td>384.0</td>\n",
       "      <td>2.0</td>\n",
       "      <td>1.0</td>\n",
       "      <td>45.333333</td>\n",
       "      <td>2.0</td>\n",
       "      <td>1.0</td>\n",
       "      <td>5.0</td>\n",
       "      <td>64.0</td>\n",
       "      <td>8.0</td>\n",
       "    </tr>\n",
       "    <tr>\n",
       "      <th>0.0003</th>\n",
       "      <td>0.699969</td>\n",
       "      <td>0.674337</td>\n",
       "      <td>0.672689</td>\n",
       "      <td>0.676817</td>\n",
       "      <td>0.757245</td>\n",
       "      <td>0.739928</td>\n",
       "      <td>0.743112</td>\n",
       "      <td>0.737545</td>\n",
       "      <td>11.0</td>\n",
       "      <td>17.0</td>\n",
       "      <td>...</td>\n",
       "      <td>1.0</td>\n",
       "      <td>384.0</td>\n",
       "      <td>2.0</td>\n",
       "      <td>1.0</td>\n",
       "      <td>45.333333</td>\n",
       "      <td>2.0</td>\n",
       "      <td>1.0</td>\n",
       "      <td>5.0</td>\n",
       "      <td>64.0</td>\n",
       "      <td>7.0</td>\n",
       "    </tr>\n",
       "    <tr>\n",
       "      <th>0.0005</th>\n",
       "      <td>0.696365</td>\n",
       "      <td>0.667295</td>\n",
       "      <td>0.667024</td>\n",
       "      <td>0.667894</td>\n",
       "      <td>0.738734</td>\n",
       "      <td>0.718067</td>\n",
       "      <td>0.723235</td>\n",
       "      <td>0.714803</td>\n",
       "      <td>11.0</td>\n",
       "      <td>17.0</td>\n",
       "      <td>...</td>\n",
       "      <td>1.0</td>\n",
       "      <td>384.0</td>\n",
       "      <td>2.0</td>\n",
       "      <td>1.0</td>\n",
       "      <td>45.333333</td>\n",
       "      <td>2.0</td>\n",
       "      <td>1.0</td>\n",
       "      <td>5.0</td>\n",
       "      <td>64.0</td>\n",
       "      <td>6.0</td>\n",
       "    </tr>\n",
       "  </tbody>\n",
       "</table>\n",
       "<p>18 rows × 21 columns</p>\n",
       "</div>"
      ],
      "text/plain": [
       "                                                                                                     accuracy  \\\n",
       "dimensions output_channels sig_depth num_heads num_layers ffn_hidden_dim dropout_rate learning_rate             \n",
       "15         10              3         5         1          (32, 32)       0.1          0.0001         0.683318   \n",
       "                                                                                      0.0003         0.683442   \n",
       "                                                                                      0.0005         0.682883   \n",
       "                                                          (128, 128)     0.1          0.0001         0.678596   \n",
       "                                                                                      0.0003         0.689220   \n",
       "                                                                                      0.0005         0.684933   \n",
       "                                                          (512, 512)     0.1          0.0001         0.684809   \n",
       "                                                                                      0.0003         0.696738   \n",
       "                                                                                      0.0005         0.699534   \n",
       "           12              3         10        1          (32, 32)       0.1          0.0001         0.684188   \n",
       "                                                                                      0.0003         0.686362   \n",
       "                                                                                      0.0005         0.691022   \n",
       "                                                          (128, 128)     0.1          0.0001         0.676111   \n",
       "                                                                                      0.0003         0.680708   \n",
       "                                                                                      0.0005         0.693756   \n",
       "                                                          (512, 512)     0.1          0.0001         0.684250   \n",
       "                                                                                      0.0003         0.699969   \n",
       "                                                                                      0.0005         0.696365   \n",
       "\n",
       "                                                                                                           f1  \\\n",
       "dimensions output_channels sig_depth num_heads num_layers ffn_hidden_dim dropout_rate learning_rate             \n",
       "15         10              3         5         1          (32, 32)       0.1          0.0001         0.661202   \n",
       "                                                                                      0.0003         0.659843   \n",
       "                                                                                      0.0005         0.659256   \n",
       "                                                          (128, 128)     0.1          0.0001         0.656791   \n",
       "                                                                                      0.0003         0.667767   \n",
       "                                                                                      0.0005         0.662831   \n",
       "                                                          (512, 512)     0.1          0.0001         0.665253   \n",
       "                                                                                      0.0003         0.669657   \n",
       "                                                                                      0.0005         0.670433   \n",
       "           12              3         10        1          (32, 32)       0.1          0.0001         0.663879   \n",
       "                                                                                      0.0003         0.666376   \n",
       "                                                                                      0.0005         0.669058   \n",
       "                                                          (128, 128)     0.1          0.0001         0.653527   \n",
       "                                                                                      0.0003         0.658907   \n",
       "                                                                                      0.0005         0.667179   \n",
       "                                                          (512, 512)     0.1          0.0001         0.663061   \n",
       "                                                                                      0.0003         0.674337   \n",
       "                                                                                      0.0005         0.667295   \n",
       "\n",
       "                                                                                                     precision  \\\n",
       "dimensions output_channels sig_depth num_heads num_layers ffn_hidden_dim dropout_rate learning_rate              \n",
       "15         10              3         5         1          (32, 32)       0.1          0.0001          0.658850   \n",
       "                                                                                      0.0003          0.657614   \n",
       "                                                                                      0.0005          0.657039   \n",
       "                                                          (128, 128)     0.1          0.0001          0.654529   \n",
       "                                                                                      0.0003          0.665151   \n",
       "                                                                                      0.0005          0.660900   \n",
       "                                                          (512, 512)     0.1          0.0001          0.663265   \n",
       "                                                                                      0.0003          0.668676   \n",
       "                                                                                      0.0005          0.670581   \n",
       "           12              3         10        1          (32, 32)       0.1          0.0001          0.661507   \n",
       "                                                                                      0.0003          0.664520   \n",
       "                                                                                      0.0005          0.666457   \n",
       "                                                          (128, 128)     0.1          0.0001          0.651711   \n",
       "                                                                                      0.0003          0.656596   \n",
       "                                                                                      0.0005          0.665981   \n",
       "                                                          (512, 512)     0.1          0.0001          0.660895   \n",
       "                                                                                      0.0003          0.672689   \n",
       "                                                                                      0.0005          0.667024   \n",
       "\n",
       "                                                                                                       recall  \\\n",
       "dimensions output_channels sig_depth num_heads num_layers ffn_hidden_dim dropout_rate learning_rate             \n",
       "15         10              3         5         1          (32, 32)       0.1          0.0001         0.666759   \n",
       "                                                                                      0.0003         0.664312   \n",
       "                                                                                      0.0005         0.663636   \n",
       "                                                          (128, 128)     0.1          0.0001         0.662799   \n",
       "                                                                                      0.0003         0.673677   \n",
       "                                                                                      0.0005         0.668740   \n",
       "                                                          (512, 512)     0.1          0.0001         0.673237   \n",
       "                                                                                      0.0003         0.671338   \n",
       "                                                                                      0.0005         0.670946   \n",
       "           12              3         10        1          (32, 32)       0.1          0.0001         0.670996   \n",
       "                                                                                      0.0003         0.673899   \n",
       "                                                                                      0.0005         0.674489   \n",
       "                                                          (128, 128)     0.1          0.0001         0.659166   \n",
       "                                                                                      0.0003         0.664875   \n",
       "                                                                                      0.0005         0.669496   \n",
       "                                                          (512, 512)     0.1          0.0001         0.669567   \n",
       "                                                                                      0.0003         0.676817   \n",
       "                                                                                      0.0005         0.667894   \n",
       "\n",
       "                                                                                                     valid_accuracy  \\\n",
       "dimensions output_channels sig_depth num_heads num_layers ffn_hidden_dim dropout_rate learning_rate                   \n",
       "15         10              3         5         1          (32, 32)       0.1          0.0001               0.751988   \n",
       "                                                                                      0.0003               0.762322   \n",
       "                                                                                      0.0005               0.754235   \n",
       "                                                          (128, 128)     0.1          0.0001               0.768882   \n",
       "                                                                                      0.0003               0.769466   \n",
       "                                                                                      0.0005               0.755358   \n",
       "                                                          (512, 512)     0.1          0.0001               0.756077   \n",
       "                                                                                      0.0003               0.748529   \n",
       "                                                                                      0.0005               0.740217   \n",
       "           12              3         10        1          (32, 32)       0.1          0.0001               0.762457   \n",
       "                                                                                      0.0003               0.752662   \n",
       "                                                                                      0.0005               0.752348   \n",
       "                                                          (128, 128)     0.1          0.0001               0.771533   \n",
       "                                                                                      0.0003               0.772521   \n",
       "                                                                                      0.0005               0.748888   \n",
       "                                                          (512, 512)     0.1          0.0001               0.766411   \n",
       "                                                                                      0.0003               0.757245   \n",
       "                                                                                      0.0005               0.738734   \n",
       "\n",
       "                                                                                                     valid_f1  \\\n",
       "dimensions output_channels sig_depth num_heads num_layers ffn_hidden_dim dropout_rate learning_rate             \n",
       "15         10              3         5         1          (32, 32)       0.1          0.0001         0.737883   \n",
       "                                                                                      0.0003         0.747946   \n",
       "                                                                                      0.0005         0.739888   \n",
       "                                                          (128, 128)     0.1          0.0001         0.755652   \n",
       "                                                                                      0.0003         0.756965   \n",
       "                                                                                      0.0005         0.739742   \n",
       "                                                          (512, 512)     0.1          0.0001         0.743710   \n",
       "                                                                                      0.0003         0.730269   \n",
       "                                                                                      0.0005         0.719301   \n",
       "           12              3         10        1          (32, 32)       0.1          0.0001         0.749068   \n",
       "                                                                                      0.0003         0.739431   \n",
       "                                                                                      0.0005         0.737365   \n",
       "                                                          (128, 128)     0.1          0.0001         0.757363   \n",
       "                                                                                      0.0003         0.759193   \n",
       "                                                                                      0.0005         0.731300   \n",
       "                                                          (512, 512)     0.1          0.0001         0.752331   \n",
       "                                                                                      0.0003         0.739928   \n",
       "                                                                                      0.0005         0.718067   \n",
       "\n",
       "                                                                                                     valid_precision  \\\n",
       "dimensions output_channels sig_depth num_heads num_layers ffn_hidden_dim dropout_rate learning_rate                    \n",
       "15         10              3         5         1          (32, 32)       0.1          0.0001                0.737369   \n",
       "                                                                                      0.0003                0.748068   \n",
       "                                                                                      0.0005                0.739647   \n",
       "                                                          (128, 128)     0.1          0.0001                0.755154   \n",
       "                                                                                      0.0003                0.755862   \n",
       "                                                                                      0.0005                0.741196   \n",
       "                                                          (512, 512)     0.1          0.0001                0.742331   \n",
       "                                                                                      0.0003                0.733838   \n",
       "                                                                                      0.0005                0.725085   \n",
       "           12              3         10        1          (32, 32)       0.1          0.0001                0.748322   \n",
       "                                                                                      0.0003                0.738860   \n",
       "                                                                                      0.0005                0.737523   \n",
       "                                                          (128, 128)     0.1          0.0001                0.758238   \n",
       "                                                                                      0.0003                0.758960   \n",
       "                                                                                      0.0005                0.734117   \n",
       "                                                          (512, 512)     0.1          0.0001                0.752462   \n",
       "                                                                                      0.0003                0.743112   \n",
       "                                                                                      0.0005                0.723235   \n",
       "\n",
       "                                                                                                     valid_recall  \\\n",
       "dimensions output_channels sig_depth num_heads num_layers ffn_hidden_dim dropout_rate learning_rate                 \n",
       "15         10              3         5         1          (32, 32)       0.1          0.0001             0.738774   \n",
       "                                                                                      0.0003             0.747916   \n",
       "                                                                                      0.0005             0.740227   \n",
       "                                                          (128, 128)     0.1          0.0001             0.756498   \n",
       "                                                                                      0.0003             0.758599   \n",
       "                                                                                      0.0005             0.739392   \n",
       "                                                          (512, 512)     0.1          0.0001             0.746242   \n",
       "                                                                                      0.0003             0.727832   \n",
       "                                                                                      0.0005             0.715888   \n",
       "           12              3         10        1          (32, 32)       0.1          0.0001             0.749926   \n",
       "                                                                                      0.0003             0.741310   \n",
       "                                                                                      0.0005             0.737254   \n",
       "                                                          (128, 128)     0.1          0.0001             0.757078   \n",
       "                                                                                      0.0003             0.759710   \n",
       "                                                                                      0.0005             0.729412   \n",
       "                                                          (512, 512)     0.1          0.0001             0.752464   \n",
       "                                                                                      0.0003             0.737545   \n",
       "                                                                                      0.0005             0.714803   \n",
       "\n",
       "                                                                                                        k  \\\n",
       "dimensions output_channels sig_depth num_heads num_layers ffn_hidden_dim dropout_rate learning_rate         \n",
       "15         10              3         5         1          (32, 32)       0.1          0.0001         11.0   \n",
       "                                                                                      0.0003         11.0   \n",
       "                                                                                      0.0005         11.0   \n",
       "                                                          (128, 128)     0.1          0.0001         11.0   \n",
       "                                                                                      0.0003         11.0   \n",
       "                                                                                      0.0005         11.0   \n",
       "                                                          (512, 512)     0.1          0.0001         11.0   \n",
       "                                                                                      0.0003         11.0   \n",
       "                                                                                      0.0005         11.0   \n",
       "           12              3         10        1          (32, 32)       0.1          0.0001         11.0   \n",
       "                                                                                      0.0003         11.0   \n",
       "                                                                                      0.0005         11.0   \n",
       "                                                          (128, 128)     0.1          0.0001         11.0   \n",
       "                                                                                      0.0003         11.0   \n",
       "                                                                                      0.0005         11.0   \n",
       "                                                          (512, 512)     0.1          0.0001         11.0   \n",
       "                                                                                      0.0003         11.0   \n",
       "                                                                                      0.0005         11.0   \n",
       "\n",
       "                                                                                                     input_channels  \\\n",
       "dimensions output_channels sig_depth num_heads num_layers ffn_hidden_dim dropout_rate learning_rate                   \n",
       "15         10              3         5         1          (32, 32)       0.1          0.0001                   17.0   \n",
       "                                                                                      0.0003                   17.0   \n",
       "                                                                                      0.0005                   17.0   \n",
       "                                                          (128, 128)     0.1          0.0001                   17.0   \n",
       "                                                                                      0.0003                   17.0   \n",
       "                                                                                      0.0005                   17.0   \n",
       "                                                          (512, 512)     0.1          0.0001                   17.0   \n",
       "                                                                                      0.0003                   17.0   \n",
       "                                                                                      0.0005                   17.0   \n",
       "           12              3         10        1          (32, 32)       0.1          0.0001                   17.0   \n",
       "                                                                                      0.0003                   17.0   \n",
       "                                                                                      0.0005                   17.0   \n",
       "                                                          (128, 128)     0.1          0.0001                   17.0   \n",
       "                                                                                      0.0003                   17.0   \n",
       "                                                                                      0.0005                   17.0   \n",
       "                                                          (512, 512)     0.1          0.0001                   17.0   \n",
       "                                                                                      0.0003                   17.0   \n",
       "                                                                                      0.0005                   17.0   \n",
       "\n",
       "                                                                                                     ...  \\\n",
       "dimensions output_channels sig_depth num_heads num_layers ffn_hidden_dim dropout_rate learning_rate  ...   \n",
       "15         10              3         5         1          (32, 32)       0.1          0.0001         ...   \n",
       "                                                                                      0.0003         ...   \n",
       "                                                                                      0.0005         ...   \n",
       "                                                          (128, 128)     0.1          0.0001         ...   \n",
       "                                                                                      0.0003         ...   \n",
       "                                                                                      0.0005         ...   \n",
       "                                                          (512, 512)     0.1          0.0001         ...   \n",
       "                                                                                      0.0003         ...   \n",
       "                                                                                      0.0005         ...   \n",
       "           12              3         10        1          (32, 32)       0.1          0.0001         ...   \n",
       "                                                                                      0.0003         ...   \n",
       "                                                                                      0.0005         ...   \n",
       "                                                          (128, 128)     0.1          0.0001         ...   \n",
       "                                                                                      0.0003         ...   \n",
       "                                                                                      0.0005         ...   \n",
       "                                                          (512, 512)     0.1          0.0001         ...   \n",
       "                                                                                      0.0003         ...   \n",
       "                                                                                      0.0005         ...   \n",
       "\n",
       "                                                                                                     include_features_in_input  \\\n",
       "dimensions output_channels sig_depth num_heads num_layers ffn_hidden_dim dropout_rate learning_rate                              \n",
       "15         10              3         5         1          (32, 32)       0.1          0.0001                               1.0   \n",
       "                                                                                      0.0003                               1.0   \n",
       "                                                                                      0.0005                               1.0   \n",
       "                                                          (128, 128)     0.1          0.0001                               1.0   \n",
       "                                                                                      0.0003                               1.0   \n",
       "                                                                                      0.0005                               1.0   \n",
       "                                                          (512, 512)     0.1          0.0001                               1.0   \n",
       "                                                                                      0.0003                               1.0   \n",
       "                                                                                      0.0005                               1.0   \n",
       "           12              3         10        1          (32, 32)       0.1          0.0001                               1.0   \n",
       "                                                                                      0.0003                               1.0   \n",
       "                                                                                      0.0005                               1.0   \n",
       "                                                          (128, 128)     0.1          0.0001                               1.0   \n",
       "                                                                                      0.0003                               1.0   \n",
       "                                                                                      0.0005                               1.0   \n",
       "                                                          (512, 512)     0.1          0.0001                               1.0   \n",
       "                                                                                      0.0003                               1.0   \n",
       "                                                                                      0.0005                               1.0   \n",
       "\n",
       "                                                                                                     embedding_dim  \\\n",
       "dimensions output_channels sig_depth num_heads num_layers ffn_hidden_dim dropout_rate learning_rate                  \n",
       "15         10              3         5         1          (32, 32)       0.1          0.0001                 384.0   \n",
       "                                                                                      0.0003                 384.0   \n",
       "                                                                                      0.0005                 384.0   \n",
       "                                                          (128, 128)     0.1          0.0001                 384.0   \n",
       "                                                                                      0.0003                 384.0   \n",
       "                                                                                      0.0005                 384.0   \n",
       "                                                          (512, 512)     0.1          0.0001                 384.0   \n",
       "                                                                                      0.0003                 384.0   \n",
       "                                                                                      0.0005                 384.0   \n",
       "           12              3         10        1          (32, 32)       0.1          0.0001                 384.0   \n",
       "                                                                                      0.0003                 384.0   \n",
       "                                                                                      0.0005                 384.0   \n",
       "                                                          (128, 128)     0.1          0.0001                 384.0   \n",
       "                                                                                      0.0003                 384.0   \n",
       "                                                                                      0.0005                 384.0   \n",
       "                                                          (512, 512)     0.1          0.0001                 384.0   \n",
       "                                                                                      0.0003                 384.0   \n",
       "                                                                                      0.0005                 384.0   \n",
       "\n",
       "                                                                                                     num_features  \\\n",
       "dimensions output_channels sig_depth num_heads num_layers ffn_hidden_dim dropout_rate learning_rate                 \n",
       "15         10              3         5         1          (32, 32)       0.1          0.0001                  2.0   \n",
       "                                                                                      0.0003                  2.0   \n",
       "                                                                                      0.0005                  2.0   \n",
       "                                                          (128, 128)     0.1          0.0001                  2.0   \n",
       "                                                                                      0.0003                  2.0   \n",
       "                                                                                      0.0005                  2.0   \n",
       "                                                          (512, 512)     0.1          0.0001                  2.0   \n",
       "                                                                                      0.0003                  2.0   \n",
       "                                                                                      0.0005                  2.0   \n",
       "           12              3         10        1          (32, 32)       0.1          0.0001                  2.0   \n",
       "                                                                                      0.0003                  2.0   \n",
       "                                                                                      0.0005                  2.0   \n",
       "                                                          (128, 128)     0.1          0.0001                  2.0   \n",
       "                                                                                      0.0003                  2.0   \n",
       "                                                                                      0.0005                  2.0   \n",
       "                                                          (512, 512)     0.1          0.0001                  2.0   \n",
       "                                                                                      0.0003                  2.0   \n",
       "                                                                                      0.0005                  2.0   \n",
       "\n",
       "                                                                                                     log_signature  \\\n",
       "dimensions output_channels sig_depth num_heads num_layers ffn_hidden_dim dropout_rate learning_rate                  \n",
       "15         10              3         5         1          (32, 32)       0.1          0.0001                   1.0   \n",
       "                                                                                      0.0003                   1.0   \n",
       "                                                                                      0.0005                   1.0   \n",
       "                                                          (128, 128)     0.1          0.0001                   1.0   \n",
       "                                                                                      0.0003                   1.0   \n",
       "                                                                                      0.0005                   1.0   \n",
       "                                                          (512, 512)     0.1          0.0001                   1.0   \n",
       "                                                                                      0.0003                   1.0   \n",
       "                                                                                      0.0005                   1.0   \n",
       "           12              3         10        1          (32, 32)       0.1          0.0001                   1.0   \n",
       "                                                                                      0.0003                   1.0   \n",
       "                                                                                      0.0005                   1.0   \n",
       "                                                          (128, 128)     0.1          0.0001                   1.0   \n",
       "                                                                                      0.0003                   1.0   \n",
       "                                                                                      0.0005                   1.0   \n",
       "                                                          (512, 512)     0.1          0.0001                   1.0   \n",
       "                                                                                      0.0003                   1.0   \n",
       "                                                                                      0.0005                   1.0   \n",
       "\n",
       "                                                                                                          seed  \\\n",
       "dimensions output_channels sig_depth num_heads num_layers ffn_hidden_dim dropout_rate learning_rate              \n",
       "15         10              3         5         1          (32, 32)       0.1          0.0001         45.333333   \n",
       "                                                                                      0.0003         45.333333   \n",
       "                                                                                      0.0005         45.333333   \n",
       "                                                          (128, 128)     0.1          0.0001         45.333333   \n",
       "                                                                                      0.0003         45.333333   \n",
       "                                                                                      0.0005         45.333333   \n",
       "                                                          (512, 512)     0.1          0.0001         45.333333   \n",
       "                                                                                      0.0003         45.333333   \n",
       "                                                                                      0.0005         45.333333   \n",
       "           12              3         10        1          (32, 32)       0.1          0.0001         45.333333   \n",
       "                                                                                      0.0003         45.333333   \n",
       "                                                                                      0.0005         45.333333   \n",
       "                                                          (128, 128)     0.1          0.0001         45.333333   \n",
       "                                                                                      0.0003         45.333333   \n",
       "                                                                                      0.0005         45.333333   \n",
       "                                                          (512, 512)     0.1          0.0001         45.333333   \n",
       "                                                                                      0.0003         45.333333   \n",
       "                                                                                      0.0005         45.333333   \n",
       "\n",
       "                                                                                                     gamma  \\\n",
       "dimensions output_channels sig_depth num_heads num_layers ffn_hidden_dim dropout_rate learning_rate          \n",
       "15         10              3         5         1          (32, 32)       0.1          0.0001           2.0   \n",
       "                                                                                      0.0003           2.0   \n",
       "                                                                                      0.0005           2.0   \n",
       "                                                          (128, 128)     0.1          0.0001           2.0   \n",
       "                                                                                      0.0003           2.0   \n",
       "                                                                                      0.0005           2.0   \n",
       "                                                          (512, 512)     0.1          0.0001           2.0   \n",
       "                                                                                      0.0003           2.0   \n",
       "                                                                                      0.0005           2.0   \n",
       "           12              3         10        1          (32, 32)       0.1          0.0001           2.0   \n",
       "                                                                                      0.0003           2.0   \n",
       "                                                                                      0.0005           2.0   \n",
       "                                                          (128, 128)     0.1          0.0001           2.0   \n",
       "                                                                                      0.0003           2.0   \n",
       "                                                                                      0.0005           2.0   \n",
       "                                                          (512, 512)     0.1          0.0001           2.0   \n",
       "                                                                                      0.0003           2.0   \n",
       "                                                                                      0.0005           2.0   \n",
       "\n",
       "                                                                                                     k_fold  \\\n",
       "dimensions output_channels sig_depth num_heads num_layers ffn_hidden_dim dropout_rate learning_rate           \n",
       "15         10              3         5         1          (32, 32)       0.1          0.0001            1.0   \n",
       "                                                                                      0.0003            1.0   \n",
       "                                                                                      0.0005            1.0   \n",
       "                                                          (128, 128)     0.1          0.0001            1.0   \n",
       "                                                                                      0.0003            1.0   \n",
       "                                                                                      0.0005            1.0   \n",
       "                                                          (512, 512)     0.1          0.0001            1.0   \n",
       "                                                                                      0.0003            1.0   \n",
       "                                                                                      0.0005            1.0   \n",
       "           12              3         10        1          (32, 32)       0.1          0.0001            1.0   \n",
       "                                                                                      0.0003            1.0   \n",
       "                                                                                      0.0005            1.0   \n",
       "                                                          (128, 128)     0.1          0.0001            1.0   \n",
       "                                                                                      0.0003            1.0   \n",
       "                                                                                      0.0005            1.0   \n",
       "                                                          (512, 512)     0.1          0.0001            1.0   \n",
       "                                                                                      0.0003            1.0   \n",
       "                                                                                      0.0005            1.0   \n",
       "\n",
       "                                                                                                     n_splits  \\\n",
       "dimensions output_channels sig_depth num_heads num_layers ffn_hidden_dim dropout_rate learning_rate             \n",
       "15         10              3         5         1          (32, 32)       0.1          0.0001              5.0   \n",
       "                                                                                      0.0003              5.0   \n",
       "                                                                                      0.0005              5.0   \n",
       "                                                          (128, 128)     0.1          0.0001              5.0   \n",
       "                                                                                      0.0003              5.0   \n",
       "                                                                                      0.0005              5.0   \n",
       "                                                          (512, 512)     0.1          0.0001              5.0   \n",
       "                                                                                      0.0003              5.0   \n",
       "                                                                                      0.0005              5.0   \n",
       "           12              3         10        1          (32, 32)       0.1          0.0001              5.0   \n",
       "                                                                                      0.0003              5.0   \n",
       "                                                                                      0.0005              5.0   \n",
       "                                                          (128, 128)     0.1          0.0001              5.0   \n",
       "                                                                                      0.0003              5.0   \n",
       "                                                                                      0.0005              5.0   \n",
       "                                                          (512, 512)     0.1          0.0001              5.0   \n",
       "                                                                                      0.0003              5.0   \n",
       "                                                                                      0.0005              5.0   \n",
       "\n",
       "                                                                                                     batch_size  \\\n",
       "dimensions output_channels sig_depth num_heads num_layers ffn_hidden_dim dropout_rate learning_rate               \n",
       "15         10              3         5         1          (32, 32)       0.1          0.0001               64.0   \n",
       "                                                                                      0.0003               64.0   \n",
       "                                                                                      0.0005               64.0   \n",
       "                                                          (128, 128)     0.1          0.0001               64.0   \n",
       "                                                                                      0.0003               64.0   \n",
       "                                                                                      0.0005               64.0   \n",
       "                                                          (512, 512)     0.1          0.0001               64.0   \n",
       "                                                                                      0.0003               64.0   \n",
       "                                                                                      0.0005               64.0   \n",
       "           12              3         10        1          (32, 32)       0.1          0.0001               64.0   \n",
       "                                                                                      0.0003               64.0   \n",
       "                                                                                      0.0005               64.0   \n",
       "                                                          (128, 128)     0.1          0.0001               64.0   \n",
       "                                                                                      0.0003               64.0   \n",
       "                                                                                      0.0005               64.0   \n",
       "                                                          (512, 512)     0.1          0.0001               64.0   \n",
       "                                                                                      0.0003               64.0   \n",
       "                                                                                      0.0005               64.0   \n",
       "\n",
       "                                                                                                     model_id  \n",
       "dimensions output_channels sig_depth num_heads num_layers ffn_hidden_dim dropout_rate learning_rate            \n",
       "15         10              3         5         1          (32, 32)       0.1          0.0001             11.0  \n",
       "                                                                                      0.0003             10.0  \n",
       "                                                                                      0.0005              9.0  \n",
       "                                                          (128, 128)     0.1          0.0001             14.0  \n",
       "                                                                                      0.0003             13.0  \n",
       "                                                                                      0.0005             12.0  \n",
       "                                                          (512, 512)     0.1          0.0001             17.0  \n",
       "                                                                                      0.0003             16.0  \n",
       "                                                                                      0.0005             15.0  \n",
       "           12              3         10        1          (32, 32)       0.1          0.0001              2.0  \n",
       "                                                                                      0.0003              1.0  \n",
       "                                                                                      0.0005              0.0  \n",
       "                                                          (128, 128)     0.1          0.0001              5.0  \n",
       "                                                                                      0.0003              4.0  \n",
       "                                                                                      0.0005              3.0  \n",
       "                                                          (512, 512)     0.1          0.0001              8.0  \n",
       "                                                                                      0.0003              7.0  \n",
       "                                                                                      0.0005              6.0  \n",
       "\n",
       "[18 rows x 21 columns]"
      ]
     },
     "execution_count": 23,
     "metadata": {},
     "output_type": "execute_result"
    }
   ],
   "source": [
    "swmhau_network_umap_kfold_11.groupby(\n",
    "    [\n",
    "        \"dimensions\",\n",
    "        \"output_channels\",\n",
    "        \"sig_depth\",\n",
    "        \"num_heads\",\n",
    "        \"num_layers\",\n",
    "        \"ffn_hidden_dim\",\n",
    "        \"dropout_rate\",\n",
    "        \"learning_rate\",\n",
    "    ]\n",
    ").mean()"
   ]
  },
  {
   "cell_type": "code",
   "execution_count": 24,
   "id": "b609c822-98db-442f-b7df-487591f3e485",
   "metadata": {},
   "outputs": [
    {
     "data": {
      "text/html": [
       "<div>\n",
       "<style scoped>\n",
       "    .dataframe tbody tr th:only-of-type {\n",
       "        vertical-align: middle;\n",
       "    }\n",
       "\n",
       "    .dataframe tbody tr th {\n",
       "        vertical-align: top;\n",
       "    }\n",
       "\n",
       "    .dataframe thead th {\n",
       "        text-align: right;\n",
       "    }\n",
       "</style>\n",
       "<table border=\"1\" class=\"dataframe\">\n",
       "  <thead>\n",
       "    <tr style=\"text-align: right;\">\n",
       "      <th></th>\n",
       "      <th>loss</th>\n",
       "      <th>accuracy</th>\n",
       "      <th>f1</th>\n",
       "      <th>f1_scores</th>\n",
       "      <th>precision</th>\n",
       "      <th>precision_scores</th>\n",
       "      <th>recall</th>\n",
       "      <th>recall_scores</th>\n",
       "      <th>valid_loss</th>\n",
       "      <th>valid_accuracy</th>\n",
       "      <th>...</th>\n",
       "      <th>learning_rate</th>\n",
       "      <th>seed</th>\n",
       "      <th>loss_function</th>\n",
       "      <th>gamma</th>\n",
       "      <th>k_fold</th>\n",
       "      <th>n_splits</th>\n",
       "      <th>augmentation_type</th>\n",
       "      <th>hidden_dim_aug</th>\n",
       "      <th>comb_method</th>\n",
       "      <th>batch_size</th>\n",
       "    </tr>\n",
       "  </thead>\n",
       "  <tbody>\n",
       "    <tr>\n",
       "      <th>0</th>\n",
       "      <td>None</td>\n",
       "      <td>0.682945</td>\n",
       "      <td>0.659349</td>\n",
       "      <td>[0.749003984063745, 0.5696939033645333]</td>\n",
       "      <td>0.657026</td>\n",
       "      <td>[0.7716631194892064, 0.5423892100192679]</td>\n",
       "      <td>0.663766</td>\n",
       "      <td>[0.7276376146788991, 0.5998934469898775]</td>\n",
       "      <td>None</td>\n",
       "      <td>0.770454</td>\n",
       "      <td>...</td>\n",
       "      <td>0.0003</td>\n",
       "      <td>1</td>\n",
       "      <td>focal</td>\n",
       "      <td>2</td>\n",
       "      <td>True</td>\n",
       "      <td>5</td>\n",
       "      <td>Conv1d</td>\n",
       "      <td>None</td>\n",
       "      <td>concatenation</td>\n",
       "      <td>64</td>\n",
       "    </tr>\n",
       "    <tr>\n",
       "      <th>0</th>\n",
       "      <td>None</td>\n",
       "      <td>0.685741</td>\n",
       "      <td>0.667179</td>\n",
       "      <td>[0.7457780458383594, 0.5885797950219619]</td>\n",
       "      <td>0.664788</td>\n",
       "      <td>[0.7865776081424937, 0.5429986492570914]</td>\n",
       "      <td>0.675758</td>\n",
       "      <td>[0.7090022935779816, 0.6425146510388918]</td>\n",
       "      <td>None</td>\n",
       "      <td>0.782855</td>\n",
       "      <td>...</td>\n",
       "      <td>0.0003</td>\n",
       "      <td>12</td>\n",
       "      <td>focal</td>\n",
       "      <td>2</td>\n",
       "      <td>True</td>\n",
       "      <td>5</td>\n",
       "      <td>Conv1d</td>\n",
       "      <td>None</td>\n",
       "      <td>concatenation</td>\n",
       "      <td>64</td>\n",
       "    </tr>\n",
       "    <tr>\n",
       "      <th>0</th>\n",
       "      <td>None</td>\n",
       "      <td>0.673439</td>\n",
       "      <td>0.650194</td>\n",
       "      <td>[0.7403675163011263, 0.5600200904068307]</td>\n",
       "      <td>0.647974</td>\n",
       "      <td>[0.7662576687116565, 0.5296912114014252]</td>\n",
       "      <td>0.655101</td>\n",
       "      <td>[0.7161697247706422, 0.594033031433138]</td>\n",
       "      <td>None</td>\n",
       "      <td>0.764254</td>\n",
       "      <td>...</td>\n",
       "      <td>0.0003</td>\n",
       "      <td>123</td>\n",
       "      <td>focal</td>\n",
       "      <td>2</td>\n",
       "      <td>True</td>\n",
       "      <td>5</td>\n",
       "      <td>Conv1d</td>\n",
       "      <td>None</td>\n",
       "      <td>concatenation</td>\n",
       "      <td>64</td>\n",
       "    </tr>\n",
       "  </tbody>\n",
       "</table>\n",
       "<p>3 rows × 44 columns</p>\n",
       "</div>"
      ],
      "text/plain": [
       "   loss  accuracy        f1                                 f1_scores  \\\n",
       "0  None  0.682945  0.659349   [0.749003984063745, 0.5696939033645333]   \n",
       "0  None  0.685741  0.667179  [0.7457780458383594, 0.5885797950219619]   \n",
       "0  None  0.673439  0.650194  [0.7403675163011263, 0.5600200904068307]   \n",
       "\n",
       "   precision                          precision_scores    recall  \\\n",
       "0   0.657026  [0.7716631194892064, 0.5423892100192679]  0.663766   \n",
       "0   0.664788  [0.7865776081424937, 0.5429986492570914]  0.675758   \n",
       "0   0.647974  [0.7662576687116565, 0.5296912114014252]  0.655101   \n",
       "\n",
       "                              recall_scores valid_loss  valid_accuracy  ...  \\\n",
       "0  [0.7276376146788991, 0.5998934469898775]       None        0.770454  ...   \n",
       "0  [0.7090022935779816, 0.6425146510388918]       None        0.782855  ...   \n",
       "0   [0.7161697247706422, 0.594033031433138]       None        0.764254  ...   \n",
       "\n",
       "   learning_rate seed  loss_function gamma  k_fold n_splits  \\\n",
       "0         0.0003    1          focal     2    True        5   \n",
       "0         0.0003   12          focal     2    True        5   \n",
       "0         0.0003  123          focal     2    True        5   \n",
       "\n",
       "   augmentation_type  hidden_dim_aug    comb_method batch_size  \n",
       "0             Conv1d            None  concatenation         64  \n",
       "0             Conv1d            None  concatenation         64  \n",
       "0             Conv1d            None  concatenation         64  \n",
       "\n",
       "[3 rows x 44 columns]"
      ]
     },
     "execution_count": 24,
     "metadata": {},
     "output_type": "execute_result"
    }
   ],
   "source": [
    "best_swmhau_network_umap_kfold_11"
   ]
  },
  {
   "cell_type": "code",
   "execution_count": 25,
   "id": "89ff93ce-3e14-4852-93a3-683b21a6c492",
   "metadata": {},
   "outputs": [
    {
     "data": {
      "text/html": [
       "<div>\n",
       "<style scoped>\n",
       "    .dataframe tbody tr th:only-of-type {\n",
       "        vertical-align: middle;\n",
       "    }\n",
       "\n",
       "    .dataframe tbody tr th {\n",
       "        vertical-align: top;\n",
       "    }\n",
       "\n",
       "    .dataframe thead th {\n",
       "        text-align: right;\n",
       "    }\n",
       "</style>\n",
       "<table border=\"1\" class=\"dataframe\">\n",
       "  <thead>\n",
       "    <tr style=\"text-align: right;\">\n",
       "      <th></th>\n",
       "      <th>dimensions</th>\n",
       "      <th>output_channels</th>\n",
       "      <th>sig_depth</th>\n",
       "      <th>num_heads</th>\n",
       "      <th>num_layers</th>\n",
       "      <th>ffn_hidden_dim</th>\n",
       "      <th>dropout_rate</th>\n",
       "      <th>learning_rate</th>\n",
       "    </tr>\n",
       "  </thead>\n",
       "  <tbody>\n",
       "    <tr>\n",
       "      <th>0</th>\n",
       "      <td>15</td>\n",
       "      <td>12</td>\n",
       "      <td>3</td>\n",
       "      <td>10</td>\n",
       "      <td>1</td>\n",
       "      <td>(128, 128)</td>\n",
       "      <td>0.1</td>\n",
       "      <td>0.0003</td>\n",
       "    </tr>\n",
       "    <tr>\n",
       "      <th>0</th>\n",
       "      <td>15</td>\n",
       "      <td>12</td>\n",
       "      <td>3</td>\n",
       "      <td>10</td>\n",
       "      <td>1</td>\n",
       "      <td>(128, 128)</td>\n",
       "      <td>0.1</td>\n",
       "      <td>0.0003</td>\n",
       "    </tr>\n",
       "    <tr>\n",
       "      <th>0</th>\n",
       "      <td>15</td>\n",
       "      <td>12</td>\n",
       "      <td>3</td>\n",
       "      <td>10</td>\n",
       "      <td>1</td>\n",
       "      <td>(128, 128)</td>\n",
       "      <td>0.1</td>\n",
       "      <td>0.0003</td>\n",
       "    </tr>\n",
       "  </tbody>\n",
       "</table>\n",
       "</div>"
      ],
      "text/plain": [
       "   dimensions  output_channels  sig_depth  num_heads  num_layers  \\\n",
       "0          15               12          3         10           1   \n",
       "0          15               12          3         10           1   \n",
       "0          15               12          3         10           1   \n",
       "\n",
       "  ffn_hidden_dim  dropout_rate  learning_rate  \n",
       "0     (128, 128)           0.1         0.0003  \n",
       "0     (128, 128)           0.1         0.0003  \n",
       "0     (128, 128)           0.1         0.0003  "
      ]
     },
     "execution_count": 25,
     "metadata": {},
     "output_type": "execute_result"
    }
   ],
   "source": [
    "best_swmhau_network_umap_kfold_11[\n",
    "    [\n",
    "        \"dimensions\",\n",
    "        \"output_channels\",\n",
    "        \"sig_depth\",\n",
    "        \"num_heads\",\n",
    "        \"num_layers\",\n",
    "        \"ffn_hidden_dim\",\n",
    "        \"dropout_rate\",\n",
    "        \"learning_rate\",\n",
    "    ]\n",
    "]"
   ]
  },
  {
   "cell_type": "code",
   "execution_count": 26,
   "id": "94dd7812-d483-49ae-b7c4-d4c1d3cd5a17",
   "metadata": {},
   "outputs": [
    {
     "data": {
      "text/plain": [
       "0.658907222499426"
      ]
     },
     "execution_count": 26,
     "metadata": {},
     "output_type": "execute_result"
    }
   ],
   "source": [
    "best_swmhau_network_umap_kfold_11[\"f1\"].mean()"
   ]
  },
  {
   "cell_type": "code",
   "execution_count": 27,
   "id": "afdfcc55-a1a5-49cc-936a-632b71b4b58b",
   "metadata": {},
   "outputs": [
    {
     "data": {
      "text/plain": [
       "0.6565962445035235"
      ]
     },
     "execution_count": 27,
     "metadata": {},
     "output_type": "execute_result"
    }
   ],
   "source": [
    "best_swmhau_network_umap_kfold_11[\"precision\"].mean()"
   ]
  },
  {
   "cell_type": "code",
   "execution_count": 28,
   "id": "2b06fcc6-9120-4d3d-872c-cd8a7e87a6c1",
   "metadata": {},
   "outputs": [
    {
     "data": {
      "text/plain": [
       "0.6648751270815717"
      ]
     },
     "execution_count": 28,
     "metadata": {},
     "output_type": "execute_result"
    }
   ],
   "source": [
    "best_swmhau_network_umap_kfold_11[\"recall\"].mean()"
   ]
  },
  {
   "cell_type": "code",
   "execution_count": 29,
   "id": "ef95267b-08b6-435e-b06f-7d6811b2e8e7",
   "metadata": {},
   "outputs": [
    {
     "data": {
      "text/plain": [
       "array([0.74504985, 0.5727646 ])"
      ]
     },
     "execution_count": 29,
     "metadata": {},
     "output_type": "execute_result"
    }
   ],
   "source": [
    "np.stack(best_swmhau_network_umap_kfold_11[\"f1_scores\"]).mean(axis=0)"
   ]
  },
  {
   "cell_type": "code",
   "execution_count": 30,
   "id": "01845f88-1ba2-4c2a-b712-efad96bcc283",
   "metadata": {},
   "outputs": [
    {
     "data": {
      "text/plain": [
       "array([0.7748328 , 0.53835969])"
      ]
     },
     "execution_count": 30,
     "metadata": {},
     "output_type": "execute_result"
    }
   ],
   "source": [
    "np.stack(best_swmhau_network_umap_kfold_11[\"precision_scores\"]).mean(axis=0)"
   ]
  },
  {
   "cell_type": "code",
   "execution_count": 31,
   "id": "127ac76c-20df-4e5a-9a04-5cfc775b5a84",
   "metadata": {},
   "outputs": [
    {
     "data": {
      "text/plain": [
       "array([0.71760321, 0.61214704])"
      ]
     },
     "execution_count": 31,
     "metadata": {},
     "output_type": "execute_result"
    }
   ],
   "source": [
    "np.stack(best_swmhau_network_umap_kfold_11[\"recall_scores\"]).mean(axis=0)"
   ]
  },
  {
   "cell_type": "markdown",
   "id": "f97be964-f0b3-4e7f-9ff7-d6dafc2f113d",
   "metadata": {
    "tags": []
   },
   "source": [
    "# w=20"
   ]
  },
  {
   "cell_type": "code",
   "execution_count": 32,
   "id": "195557e3-3d2d-410e-8eae-554fe84872a3",
   "metadata": {},
   "outputs": [],
   "source": [
    "size = 20"
   ]
  },
  {
   "cell_type": "markdown",
   "id": "ee3eca56-5737-401a-9b60-56c46407283b",
   "metadata": {},
   "source": [
    "## umap"
   ]
  },
  {
   "cell_type": "code",
   "execution_count": null,
   "id": "ab468221-704d-453e-b97f-68d52c5f72da",
   "metadata": {},
   "outputs": [
    {
     "data": {
      "application/vnd.jupyter.widget-view+json": {
       "model_id": "3492b2f8759c454c97da447f4b3ca1b2",
       "version_major": 2,
       "version_minor": 0
      },
      "text/plain": [
       "  0%|          | 0/1 [00:00<?, ?it/s]"
      ]
     },
     "metadata": {},
     "output_type": "display_data"
    },
    {
     "data": {
      "application/vnd.jupyter.widget-view+json": {
       "model_id": "3bfd58ff62724293950b4889cbdde0de",
       "version_major": 2,
       "version_minor": 0
      },
      "text/plain": [
       "  0%|          | 0/1 [00:00<?, ?it/s]"
      ]
     },
     "metadata": {},
     "output_type": "display_data"
    },
    {
     "data": {
      "application/vnd.jupyter.widget-view+json": {
       "model_id": "ecec1d7a877642579564a271843a8f71",
       "version_major": 2,
       "version_minor": 0
      },
      "text/plain": [
       "  0%|          | 0/1 [00:00<?, ?it/s]"
      ]
     },
     "metadata": {},
     "output_type": "display_data"
    },
    {
     "name": "stdout",
     "output_type": "stream",
     "text": [
      "\n",
      "##################################################\n",
      "dimension: 15 | method: umap\n",
      "[INFO] Concatenating the embeddings to the dataframe...\n",
      "[INFO] - columns beginning with 'e' denote the full embddings.\n",
      "[INFO] - columns beginning with 'd' denote the dimension reduced embeddings.\n",
      "[INFO] Adding time feature columns into dataframe in `.df`.\n",
      "[INFO] Adding 'time_encoding' feature...\n",
      "[INFO] Adding 'time_diff' feature...\n",
      "[INFO] Adding 'timeline_index' feature...\n",
      "[INFO] Padding ids and storing in `.df_padded` and `.array_padded` attributes.\n"
     ]
    },
    {
     "data": {
      "application/vnd.jupyter.widget-view+json": {
       "model_id": "659c8d7b26ea41b1ae2366f94095b65d",
       "version_major": 2,
       "version_minor": 0
      },
      "text/plain": [
       "  0%|          | 0/5568 [00:00<?, ?it/s]"
      ]
     },
     "metadata": {},
     "output_type": "display_data"
    },
    {
     "name": "stdout",
     "output_type": "stream",
     "text": [
      "[INFO] The path was created for each item in the dataframe, by looking at its history, so to include embeddings in the FFN input, we concatenate the embeddings for each sentence / text.\n"
     ]
    },
    {
     "data": {
      "application/vnd.jupyter.widget-view+json": {
       "model_id": "dc6428d581c14a55ac1d2507013719fb",
       "version_major": 2,
       "version_minor": 0
      },
      "text/plain": [
       "  0%|          | 0/2 [00:00<?, ?it/s]"
      ]
     },
     "metadata": {},
     "output_type": "display_data"
    },
    {
     "data": {
      "application/vnd.jupyter.widget-view+json": {
       "model_id": "bd9934e0873f4caf8b2c47f6eb355967",
       "version_major": 2,
       "version_minor": 0
      },
      "text/plain": [
       "  0%|          | 0/1 [00:00<?, ?it/s]"
      ]
     },
     "metadata": {},
     "output_type": "display_data"
    },
    {
     "data": {
      "application/vnd.jupyter.widget-view+json": {
       "model_id": "ab36384f68db43e09dc0d0bf8cd62f1d",
       "version_major": 2,
       "version_minor": 0
      },
      "text/plain": [
       "  0%|          | 0/3 [00:00<?, ?it/s]"
      ]
     },
     "metadata": {},
     "output_type": "display_data"
    },
    {
     "data": {
      "application/vnd.jupyter.widget-view+json": {
       "model_id": "73625833ab014ea8a1debee95d82eee8",
       "version_major": 2,
       "version_minor": 0
      },
      "text/plain": [
       "  0%|          | 0/1 [00:00<?, ?it/s]"
      ]
     },
     "metadata": {},
     "output_type": "display_data"
    },
    {
     "data": {
      "application/vnd.jupyter.widget-view+json": {
       "model_id": "e94bc3ca4c6d4035920a249e7ae707b1",
       "version_major": 2,
       "version_minor": 0
      },
      "text/plain": [
       "  0%|          | 0/3 [00:00<?, ?it/s]"
      ]
     },
     "metadata": {},
     "output_type": "display_data"
    },
    {
     "data": {
      "application/vnd.jupyter.widget-view+json": {
       "model_id": "f8739e99431e4b22a1d528001fff46bc",
       "version_major": 2,
       "version_minor": 0
      },
      "text/plain": [
       "  0%|          | 0/1 [00:00<?, ?it/s]"
      ]
     },
     "metadata": {},
     "output_type": "display_data"
    },
    {
     "data": {
      "application/vnd.jupyter.widget-view+json": {
       "model_id": "995d1da2bfb145b981a39ddb9596a3cc",
       "version_major": 2,
       "version_minor": 0
      },
      "text/plain": [
       "  0%|          | 0/3 [00:00<?, ?it/s]"
      ]
     },
     "metadata": {},
     "output_type": "display_data"
    },
    {
     "data": {
      "application/vnd.jupyter.widget-view+json": {
       "model_id": "7a9a310235094247911428bc3cbae861",
       "version_major": 2,
       "version_minor": 0
      },
      "text/plain": [
       "  0%|          | 0/1 [00:00<?, ?it/s]"
      ]
     },
     "metadata": {},
     "output_type": "display_data"
    },
    {
     "data": {
      "application/vnd.jupyter.widget-view+json": {
       "model_id": "254c751b00894264bed0ed5c6f097cef",
       "version_major": 2,
       "version_minor": 0
      },
      "text/plain": [
       "  0%|          | 0/3 [00:00<?, ?it/s]"
      ]
     },
     "metadata": {},
     "output_type": "display_data"
    }
   ],
   "source": [
    "(\n",
    "    swmhau_network_umap_kfold_20,\n",
    "    best_swmhau_network_umap_kfold_20,\n",
    "    _,\n",
    "    __,\n",
    ") = swmhau_network_hyperparameter_search(\n",
    "    history_lengths=[size],\n",
    "    dim_reduce_methods=[\"umap\"],\n",
    "    results_output=f\"{output_dir}/swmhau_network_umap_focal_{gamma}_{size}_kfold.csv\",\n",
    "    **kwargs,\n",
    ")"
   ]
  },
  {
   "cell_type": "code",
   "execution_count": null,
   "id": "341e9c63-23f2-4c2b-b025-7015995d27de",
   "metadata": {},
   "outputs": [],
   "source": [
    "swmhau_network_umap_kfold_20.groupby(\n",
    "    [\n",
    "        \"dimensions\",\n",
    "        \"output_channels\",\n",
    "        \"sig_depth\",\n",
    "        \"num_heads\",\n",
    "        \"num_layers\",\n",
    "        \"ffn_hidden_dim\",\n",
    "        \"dropout_rate\",\n",
    "        \"learning_rate\",\n",
    "    ]\n",
    ").mean()"
   ]
  },
  {
   "cell_type": "code",
   "execution_count": null,
   "id": "1178a61e-5200-45b3-a447-f55c0a425945",
   "metadata": {},
   "outputs": [],
   "source": [
    "best_swmhau_network_umap_kfold_20"
   ]
  },
  {
   "cell_type": "code",
   "execution_count": null,
   "id": "eef58309-72cd-4553-a452-d3401d98a9a2",
   "metadata": {},
   "outputs": [],
   "source": [
    "best_swmhau_network_umap_kfold_20[\n",
    "    [\n",
    "        \"dimensions\",\n",
    "        \"output_channels\",\n",
    "        \"sig_depth\",\n",
    "        \"num_heads\",\n",
    "        \"num_layers\",\n",
    "        \"ffn_hidden_dim\",\n",
    "        \"dropout_rate\",\n",
    "        \"learning_rate\",\n",
    "    ]\n",
    "]"
   ]
  },
  {
   "cell_type": "code",
   "execution_count": null,
   "id": "6509d71f-b244-4b06-b1d6-a1b78196a588",
   "metadata": {},
   "outputs": [],
   "source": [
    "best_swmhau_network_umap_kfold_20[\"f1\"].mean()"
   ]
  },
  {
   "cell_type": "code",
   "execution_count": null,
   "id": "834a5cde-6e65-44a8-adfe-31c4add4312d",
   "metadata": {},
   "outputs": [],
   "source": [
    "best_swmhau_network_umap_kfold_20[\"precision\"].mean()"
   ]
  },
  {
   "cell_type": "code",
   "execution_count": null,
   "id": "eb2a066f-a11b-43a9-a29b-959023397668",
   "metadata": {},
   "outputs": [],
   "source": [
    "best_swmhau_network_umap_kfold_20[\"recall\"].mean()"
   ]
  },
  {
   "cell_type": "code",
   "execution_count": null,
   "id": "17e9f143-46dd-4cbe-8340-d7deffbb7874",
   "metadata": {},
   "outputs": [],
   "source": [
    "np.stack(best_swmhau_network_umap_kfold_20[\"f1_scores\"]).mean(axis=0)"
   ]
  },
  {
   "cell_type": "code",
   "execution_count": null,
   "id": "0ede9e0d-fbba-4529-a0f6-c73b5c336fda",
   "metadata": {},
   "outputs": [],
   "source": [
    "np.stack(best_swmhau_network_umap_kfold_20[\"precision_scores\"]).mean(axis=0)"
   ]
  },
  {
   "cell_type": "code",
   "execution_count": null,
   "id": "bf769492-fb87-41d4-a519-658252155413",
   "metadata": {},
   "outputs": [],
   "source": [
    "np.stack(best_swmhau_network_umap_kfold_20[\"recall_scores\"]).mean(axis=0)"
   ]
  },
  {
   "cell_type": "markdown",
   "id": "5988d29d-d618-43a8-91c1-ea6a7a990c94",
   "metadata": {
    "tags": []
   },
   "source": [
    "# w=35"
   ]
  },
  {
   "cell_type": "code",
   "execution_count": null,
   "id": "5ec4c8eb-5c37-4470-925d-94031692f476",
   "metadata": {},
   "outputs": [],
   "source": [
    "size = 35"
   ]
  },
  {
   "cell_type": "markdown",
   "id": "63272fcf-cf63-4a4e-9b2c-f3d711fd7b40",
   "metadata": {},
   "source": [
    "## umap"
   ]
  },
  {
   "cell_type": "code",
   "execution_count": null,
   "id": "fab6262d-ef12-48c1-a0a2-35ac1aca2ba6",
   "metadata": {},
   "outputs": [],
   "source": [
    "(\n",
    "    swmhau_network_umap_kfold_35,\n",
    "    best_swmhau_network_umap_kfold_35,\n",
    "    _,\n",
    "    __,\n",
    ") = swmhau_network_hyperparameter_search(\n",
    "    history_lengths=[size],\n",
    "    dim_reduce_methods=[\"umap\"],\n",
    "    results_output=f\"{output_dir}/swmhau_network_umap_focal_{gamma}_{size}_kfold.csv\",\n",
    "    **kwargs,\n",
    ")"
   ]
  },
  {
   "cell_type": "code",
   "execution_count": null,
   "id": "f18e7dec-19db-468a-8807-46aa36e0ee7a",
   "metadata": {},
   "outputs": [],
   "source": [
    "swmhau_network_umap_kfold_35.groupby(\n",
    "    [\n",
    "        \"dimensions\",\n",
    "        \"output_channels\",\n",
    "        \"sig_depth\",\n",
    "        \"num_heads\",\n",
    "        \"num_layers\",\n",
    "        \"ffn_hidden_dim\",\n",
    "        \"dropout_rate\",\n",
    "        \"learning_rate\",\n",
    "    ]\n",
    ").mean()"
   ]
  },
  {
   "cell_type": "code",
   "execution_count": null,
   "id": "e1ecf4c2-6265-4bc7-bdfa-bc87fc064d53",
   "metadata": {},
   "outputs": [],
   "source": [
    "best_swmhau_network_umap_kfold_35"
   ]
  },
  {
   "cell_type": "code",
   "execution_count": null,
   "id": "aa174cad-d2b3-46a0-ba84-ab425c8c0828",
   "metadata": {},
   "outputs": [],
   "source": [
    "best_swmhau_network_umap_kfold_35[\n",
    "    [\n",
    "        \"dimensions\",\n",
    "        \"output_channels\",\n",
    "        \"sig_depth\",\n",
    "        \"num_heads\",\n",
    "        \"num_layers\",\n",
    "        \"ffn_hidden_dim\",\n",
    "        \"dropout_rate\",\n",
    "        \"learning_rate\",\n",
    "    ]\n",
    "]"
   ]
  },
  {
   "cell_type": "code",
   "execution_count": null,
   "id": "de2563e6-077f-4796-808e-bd6f6ab07a1e",
   "metadata": {},
   "outputs": [],
   "source": [
    "best_swmhau_network_umap_kfold_35[\"f1\"].mean()"
   ]
  },
  {
   "cell_type": "code",
   "execution_count": null,
   "id": "0c26032d-4abd-4ce6-8ba3-c08e6dee1aa5",
   "metadata": {},
   "outputs": [],
   "source": [
    "best_swmhau_network_umap_kfold_35[\"precision\"].mean()"
   ]
  },
  {
   "cell_type": "code",
   "execution_count": null,
   "id": "09e2140f-fcc5-40f8-bb0c-7cb126bac9cd",
   "metadata": {},
   "outputs": [],
   "source": [
    "best_swmhau_network_umap_kfold_35[\"recall\"].mean()"
   ]
  },
  {
   "cell_type": "code",
   "execution_count": null,
   "id": "b161a0fe-6e51-4acf-927f-6597192e6254",
   "metadata": {},
   "outputs": [],
   "source": [
    "np.stack(best_swmhau_network_umap_kfold_35[\"f1_scores\"]).mean(axis=0)"
   ]
  },
  {
   "cell_type": "code",
   "execution_count": null,
   "id": "d7546dab-3203-46da-b31c-afce2c9e5669",
   "metadata": {},
   "outputs": [],
   "source": [
    "np.stack(best_swmhau_network_umap_kfold_35[\"precision_scores\"]).mean(axis=0)"
   ]
  },
  {
   "cell_type": "code",
   "execution_count": null,
   "id": "deaac52e-6629-4742-a3eb-2030f3f579eb",
   "metadata": {},
   "outputs": [],
   "source": [
    "np.stack(best_swmhau_network_umap_kfold_35[\"recall_scores\"]).mean(axis=0)"
   ]
  },
  {
   "cell_type": "markdown",
   "id": "c3333a1a-2762-4c91-af59-a53e741e504e",
   "metadata": {
    "tags": []
   },
   "source": [
    "# w=80"
   ]
  },
  {
   "cell_type": "code",
   "execution_count": null,
   "id": "80835952-9c7a-4898-a351-2ea018526dca",
   "metadata": {},
   "outputs": [],
   "source": [
    "size = 80"
   ]
  },
  {
   "cell_type": "markdown",
   "id": "a3671de7-8514-4328-a29b-46cb2711d97d",
   "metadata": {},
   "source": [
    "## umap"
   ]
  },
  {
   "cell_type": "code",
   "execution_count": null,
   "id": "72dd822e-01ca-4f03-b473-da5c76593542",
   "metadata": {},
   "outputs": [],
   "source": [
    "(\n",
    "    swmhau_network_umap_kfold_80,\n",
    "    best_swmhau_network_umap_kfold_80,\n",
    "    _,\n",
    "    __,\n",
    ") = swmhau_network_hyperparameter_search(\n",
    "    history_lengths=[size],\n",
    "    dim_reduce_methods=[\"umap\"],\n",
    "    results_output=f\"{output_dir}/swmhau_network_umap_focal_{gamma}_{size}_kfold.csv\",\n",
    "    **kwargs,\n",
    ")"
   ]
  },
  {
   "cell_type": "code",
   "execution_count": null,
   "id": "f308563f-7fa5-472e-b926-d1fcf9190aed",
   "metadata": {},
   "outputs": [],
   "source": [
    "swmhau_network_umap_kfold_80.groupby(\n",
    "    [\n",
    "        \"dimensions\",\n",
    "        \"output_channels\",\n",
    "        \"sig_depth\",\n",
    "        \"num_heads\",\n",
    "        \"num_layers\",\n",
    "        \"ffn_hidden_dim\",\n",
    "        \"dropout_rate\",\n",
    "        \"learning_rate\",\n",
    "    ]\n",
    ").mean()"
   ]
  },
  {
   "cell_type": "code",
   "execution_count": null,
   "id": "4702d6a4-4aab-44cf-aab9-cca0706b7107",
   "metadata": {},
   "outputs": [],
   "source": [
    "best_swmhau_network_umap_kfold_80"
   ]
  },
  {
   "cell_type": "code",
   "execution_count": null,
   "id": "8c6c4216-5cae-4cf9-a888-a27e9d2de7fe",
   "metadata": {},
   "outputs": [],
   "source": [
    "best_swmhau_network_umap_kfold_80[\n",
    "    [\n",
    "        \"dimensions\",\n",
    "        \"output_channels\",\n",
    "        \"sig_depth\",\n",
    "        \"num_heads\",\n",
    "        \"num_layers\",\n",
    "        \"ffn_hidden_dim\",\n",
    "        \"dropout_rate\",\n",
    "        \"learning_rate\",\n",
    "    ]\n",
    "]"
   ]
  },
  {
   "cell_type": "code",
   "execution_count": null,
   "id": "46e633ac-c6bf-4661-b3cf-15c19af041e6",
   "metadata": {},
   "outputs": [],
   "source": [
    "best_swmhau_network_umap_kfold_80[\"f1\"].mean()"
   ]
  },
  {
   "cell_type": "code",
   "execution_count": null,
   "id": "a594df0b-6355-4a0a-b5b1-d6a760bbdf1b",
   "metadata": {},
   "outputs": [],
   "source": [
    "best_swmhau_network_umap_kfold_80[\"precision\"].mean()"
   ]
  },
  {
   "cell_type": "code",
   "execution_count": null,
   "id": "78e2b1ac-d600-4b63-9856-3529ff7676c3",
   "metadata": {},
   "outputs": [],
   "source": [
    "best_swmhau_network_umap_kfold_80[\"recall\"].mean()"
   ]
  },
  {
   "cell_type": "code",
   "execution_count": null,
   "id": "b03c50da-f902-4057-a7f2-d132dd4a2ecd",
   "metadata": {},
   "outputs": [],
   "source": [
    "np.stack(best_swmhau_network_umap_kfold_80[\"f1_scores\"]).mean(axis=0)"
   ]
  },
  {
   "cell_type": "code",
   "execution_count": null,
   "id": "278fe85b-8bc7-4cf7-8c50-299baa0ef8f0",
   "metadata": {},
   "outputs": [],
   "source": [
    "np.stack(best_swmhau_network_umap_kfold_80[\"precision_scores\"]).mean(axis=0)"
   ]
  },
  {
   "cell_type": "code",
   "execution_count": null,
   "id": "c1e28278-b184-4b28-9e07-4027d1187384",
   "metadata": {},
   "outputs": [],
   "source": [
    "np.stack(best_swmhau_network_umap_kfold_80[\"recall_scores\"]).mean(axis=0)"
   ]
  }
 ],
 "metadata": {
  "kernelspec": {
   "display_name": "nlpsig-networks (Conda)",
   "language": "python",
   "name": "sys_nlpsig-networks"
  },
  "language_info": {
   "codemirror_mode": {
    "name": "ipython",
    "version": 3
   },
   "file_extension": ".py",
   "mimetype": "text/x-python",
   "name": "python",
   "nbconvert_exporter": "python",
   "pygments_lexer": "ipython3",
   "version": "3.8.17"
  }
 },
 "nbformat": 4,
 "nbformat_minor": 5
}
