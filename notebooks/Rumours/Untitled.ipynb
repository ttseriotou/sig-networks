{
 "cells": [
  {
   "cell_type": "code",
   "execution_count": 1,
   "id": "ad37d612",
   "metadata": {},
   "outputs": [],
   "source": [
    "import numpy as np\n",
    "X = np.random.rand(10, 5)\n",
    "y = np.random.rand(10)\n",
    "groups = np.array([1,1,1,2,2,3,3,4,4,1])"
   ]
  },
  {
   "cell_type": "code",
   "execution_count": 2,
   "id": "11f40e49",
   "metadata": {},
   "outputs": [],
   "source": [
    "from sklearn.model_selection import (\n",
    "    GroupKFold,\n",
    "    GroupShuffleSplit,\n",
    "    KFold,\n",
    "    train_test_split,\n",
    ")"
   ]
  },
  {
   "cell_type": "code",
   "execution_count": 3,
   "id": "280b8730",
   "metadata": {},
   "outputs": [],
   "source": [
    "from nlpsig.classification_utils import DataSplits, Folds"
   ]
  },
  {
   "cell_type": "code",
   "execution_count": 4,
   "id": "1812c23d",
   "metadata": {},
   "outputs": [
    {
     "data": {
      "text/plain": [
       "array([1, 1, 1, 2, 2, 3, 3, 4, 4, 1])"
      ]
     },
     "execution_count": 4,
     "metadata": {},
     "output_type": "execute_result"
    }
   ],
   "source": [
    "groups"
   ]
  },
  {
   "cell_type": "code",
   "execution_count": 5,
   "id": "fdacd6f4",
   "metadata": {},
   "outputs": [
    {
     "data": {
      "text/plain": [
       "array([3, 4])"
      ]
     },
     "execution_count": 5,
     "metadata": {},
     "output_type": "execute_result"
    }
   ],
   "source": [
    "test = np.array([3, 4, 5, 6, 7, 8])\n",
    "test[[0,1]]"
   ]
  },
  {
   "cell_type": "code",
   "execution_count": 6,
   "id": "bd529138",
   "metadata": {},
   "outputs": [
    {
     "name": "stdout",
     "output_type": "stream",
     "text": [
      "[INFO] Splitting data by provided groups\n"
     ]
    }
   ],
   "source": [
    "test_datasplits = DataSplits(x_data = X,\n",
    "                             y_data = y,\n",
    "                             groups=groups,\n",
    "                             train_size=0.8,\n",
    "                             valid_size=0.1,\n",
    "                             shuffle=False,\n",
    "                             random_state=50)"
   ]
  },
  {
   "cell_type": "code",
   "execution_count": 9,
   "id": "4eebbdbd",
   "metadata": {},
   "outputs": [
    {
     "data": {
      "text/plain": [
       "([0, 1, 2, 7, 8, 9], [3, 4], [5, 6])"
      ]
     },
     "execution_count": 9,
     "metadata": {},
     "output_type": "execute_result"
    }
   ],
   "source": [
    "test_datasplits.indices"
   ]
  },
  {
   "cell_type": "code",
   "execution_count": 10,
   "id": "0ca90aa0",
   "metadata": {},
   "outputs": [
    {
     "data": {
      "text/plain": [
       "[array([1, 1, 1, 4, 4, 1]), array([2, 2]), array([3, 3])]"
      ]
     },
     "execution_count": 10,
     "metadata": {},
     "output_type": "execute_result"
    }
   ],
   "source": [
    "[groups[index] for index in test_datasplits.indices]"
   ]
  },
  {
   "cell_type": "code",
   "execution_count": 14,
   "id": "a91f4eb2",
   "metadata": {},
   "outputs": [],
   "source": [
    "indices = ([1,2,3,4,5], [6, 7, 8, 8,3], [9,0])\n",
    "test_datasplits = DataSplits(x_data = X,\n",
    "                             y_data = y,\n",
    "                             indices=indices,\n",
    "                             train_size=0.8,\n",
    "                             valid_size=0.1,\n",
    "                             shuffle=True,\n",
    "                             random_state=12)"
   ]
  },
  {
   "cell_type": "code",
   "execution_count": 15,
   "id": "fb9588d8",
   "metadata": {},
   "outputs": [
    {
     "data": {
      "text/plain": [
       "array([1, 1, 1, 2, 2, 3, 3, 4, 4, 1])"
      ]
     },
     "execution_count": 15,
     "metadata": {},
     "output_type": "execute_result"
    }
   ],
   "source": [
    "groups"
   ]
  },
  {
   "cell_type": "code",
   "execution_count": 16,
   "id": "9e5f9ae0",
   "metadata": {},
   "outputs": [
    {
     "data": {
      "text/plain": [
       "([1, 2, 3, 4, 5], [6, 7, 8, 8, 3], [9, 0])"
      ]
     },
     "execution_count": 16,
     "metadata": {},
     "output_type": "execute_result"
    }
   ],
   "source": [
    "test_datasplits.indices"
   ]
  },
  {
   "cell_type": "code",
   "execution_count": 14,
   "id": "90042f3b",
   "metadata": {},
   "outputs": [],
   "source": [
    "indices = (((1,2,3), (4,5,6), (5,6,3)),\n",
    "           ((1,2,3), (4,5,6), (5,6,3)),\n",
    "           ((1,2,3), (4,5,6), (5,6,3)),\n",
    "           ((1,2,3), (4,5,6), (5,6,3)))\n",
    "    \n",
    "test_folds = Folds(x_data = X,\n",
    "                   y_data = y,\n",
    "                   indices=indices,\n",
    "                   n_splits=4)"
   ]
  },
  {
   "cell_type": "code",
   "execution_count": 10,
   "id": "f968b1e6",
   "metadata": {},
   "outputs": [
    {
     "data": {
      "text/plain": [
       "(((1, 2, 3), (4, 5, 6), (5, 6, 3)),\n",
       " ((1, 2, 3), (4, 5, 6), (5, 6, 3)),\n",
       " ((1, 2, 3), (4, 5, 6), (5, 6, 3)),\n",
       " ((1, 2, 3), (4, 5, 6), (5, 6, 3)))"
      ]
     },
     "execution_count": 10,
     "metadata": {},
     "output_type": "execute_result"
    }
   ],
   "source": [
    "test_folds.fold_indices"
   ]
  },
  {
   "cell_type": "code",
   "execution_count": 73,
   "id": "407c5dcc",
   "metadata": {},
   "outputs": [],
   "source": [
    "train_inds, test_inds = \n",
    "X_train, X_test, y_train, y_test = X[train_inds], X[test_inds], y[train_inds], y[test_inds]"
   ]
  },
  {
   "cell_type": "code",
   "execution_count": 74,
   "id": "88dbfaa7",
   "metadata": {},
   "outputs": [
    {
     "data": {
      "text/plain": [
       "[5, 6]"
      ]
     },
     "execution_count": 74,
     "metadata": {},
     "output_type": "execute_result"
    }
   ],
   "source": [
    "train_inds.tolist()"
   ]
  },
  {
   "cell_type": "code",
   "execution_count": 75,
   "id": "bd13adb3",
   "metadata": {},
   "outputs": [
    {
     "data": {
      "text/plain": [
       "array([3, 3])"
      ]
     },
     "execution_count": 75,
     "metadata": {},
     "output_type": "execute_result"
    }
   ],
   "source": [
    "groups[train_inds]"
   ]
  },
  {
   "cell_type": "code",
   "execution_count": 76,
   "id": "e23c40bb",
   "metadata": {},
   "outputs": [
    {
     "data": {
      "text/plain": [
       "array([1, 1, 1, 2, 2, 4, 4, 1])"
      ]
     },
     "execution_count": 76,
     "metadata": {},
     "output_type": "execute_result"
    }
   ],
   "source": [
    "groups[test_inds]"
   ]
  },
  {
   "cell_type": "code",
   "execution_count": null,
   "id": "37edd8df",
   "metadata": {},
   "outputs": [],
   "source": []
  },
  {
   "cell_type": "code",
   "execution_count": null,
   "id": "00b6267a",
   "metadata": {},
   "outputs": [],
   "source": []
  },
  {
   "cell_type": "code",
   "execution_count": 42,
   "id": "888afc74",
   "metadata": {},
   "outputs": [],
   "source": [
    "test = GroupShuffleSplit(n_splits=1).split(X, y, groups)"
   ]
  },
  {
   "cell_type": "code",
   "execution_count": 43,
   "id": "d7bad3db",
   "metadata": {},
   "outputs": [],
   "source": [
    "t = list(test)"
   ]
  },
  {
   "cell_type": "code",
   "execution_count": 44,
   "id": "e97d5338",
   "metadata": {},
   "outputs": [
    {
     "data": {
      "text/plain": [
       "1"
      ]
     },
     "execution_count": 44,
     "metadata": {},
     "output_type": "execute_result"
    }
   ],
   "source": [
    "len(t)"
   ]
  },
  {
   "cell_type": "code",
   "execution_count": 50,
   "id": "6ab3ef5f",
   "metadata": {},
   "outputs": [
    {
     "data": {
      "text/plain": [
       "[[8, 1, 4, 0, 9, 5], [7, 3, 2, 6]]"
      ]
     },
     "execution_count": 50,
     "metadata": {},
     "output_type": "execute_result"
    }
   ],
   "source": [
    "train_test_split(\n",
    "                range(len(y)),\n",
    "                test_size=(0.4),\n",
    "                shuffle=True,\n",
    "                random_state=42,\n",
    "                stratify=groups,\n",
    "            )"
   ]
  },
  {
   "cell_type": "code",
   "execution_count": null,
   "id": "94b9bb4d",
   "metadata": {},
   "outputs": [],
   "source": []
  }
 ],
 "metadata": {
  "kernelspec": {
   "display_name": "nlpsig-networks",
   "language": "python",
   "name": "nlpsig-networks"
  },
  "language_info": {
   "codemirror_mode": {
    "name": "ipython",
    "version": 3
   },
   "file_extension": ".py",
   "mimetype": "text/x-python",
   "name": "python",
   "nbconvert_exporter": "python",
   "pygments_lexer": "ipython3",
   "version": "3.8.16"
  }
 },
 "nbformat": 4,
 "nbformat_minor": 5
}
