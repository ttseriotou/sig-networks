{
 "cells": [
  {
   "cell_type": "code",
   "execution_count": 1,
   "metadata": {},
   "outputs": [],
   "source": [
    "import pickle\n",
    "import numpy as np\n",
    "import pandas as pd\n",
    "import re\n",
    "import os\n",
    "\n",
    "seed = 2023"
   ]
  },
  {
   "cell_type": "code",
   "execution_count": 2,
   "metadata": {},
   "outputs": [
    {
     "data": {
      "text/plain": [
       "device(type='cuda')"
      ]
     },
     "execution_count": 2,
     "metadata": {},
     "output_type": "execute_result"
    }
   ],
   "source": [
    "import torch\n",
    "\n",
    "# set device\n",
    "device = torch.device(\"cuda\" if torch.cuda.is_available() else \"cpu\")\n",
    "device"
   ]
  },
  {
   "cell_type": "code",
   "execution_count": 3,
   "metadata": {},
   "outputs": [],
   "source": [
    "from nlpsig_networks.scripts.lstm_baseline_functions import (\n",
    "    lstm_hyperparameter_search,\n",
    "    obtain_path,\n",
    ")"
   ]
  },
  {
   "cell_type": "code",
   "execution_count": 4,
   "metadata": {},
   "outputs": [],
   "source": [
    "output_dir = \"rumours_output\"\n",
    "if not os.path.isdir(output_dir):\n",
    "    os.makedirs(output_dir)"
   ]
  },
  {
   "cell_type": "markdown",
   "metadata": {},
   "source": [
    "## Rumours"
   ]
  },
  {
   "cell_type": "code",
   "execution_count": 5,
   "metadata": {},
   "outputs": [],
   "source": [
    "%run load_sbert_embeddings.py"
   ]
  },
  {
   "cell_type": "code",
   "execution_count": 6,
   "metadata": {},
   "outputs": [
    {
     "data": {
      "text/html": [
       "<div>\n",
       "<style scoped>\n",
       "    .dataframe tbody tr th:only-of-type {\n",
       "        vertical-align: middle;\n",
       "    }\n",
       "\n",
       "    .dataframe tbody tr th {\n",
       "        vertical-align: top;\n",
       "    }\n",
       "\n",
       "    .dataframe thead th {\n",
       "        text-align: right;\n",
       "    }\n",
       "</style>\n",
       "<table border=\"1\" class=\"dataframe\">\n",
       "  <thead>\n",
       "    <tr style=\"text-align: right;\">\n",
       "      <th></th>\n",
       "      <th>id</th>\n",
       "      <th>label</th>\n",
       "      <th>datetime</th>\n",
       "      <th>text</th>\n",
       "      <th>timeline_id</th>\n",
       "      <th>set</th>\n",
       "    </tr>\n",
       "  </thead>\n",
       "  <tbody>\n",
       "    <tr>\n",
       "      <th>0</th>\n",
       "      <td>5.249902e+17</td>\n",
       "      <td>0</td>\n",
       "      <td>2014-10-22 18:26:23</td>\n",
       "      <td>Police have clarified that there were two shoo...</td>\n",
       "      <td>0</td>\n",
       "      <td>train</td>\n",
       "    </tr>\n",
       "    <tr>\n",
       "      <th>1</th>\n",
       "      <td>5.249906e+17</td>\n",
       "      <td>0</td>\n",
       "      <td>2014-10-22 18:27:58</td>\n",
       "      <td>@CTVNews you guys \"confirmed\" there were 3 sho...</td>\n",
       "      <td>0</td>\n",
       "      <td>train</td>\n",
       "    </tr>\n",
       "    <tr>\n",
       "      <th>2</th>\n",
       "      <td>5.249908e+17</td>\n",
       "      <td>1</td>\n",
       "      <td>2014-10-22 18:28:46</td>\n",
       "      <td>@CTVNews get it right. http://t.co/GHYxMuzPG9</td>\n",
       "      <td>0</td>\n",
       "      <td>train</td>\n",
       "    </tr>\n",
       "    <tr>\n",
       "      <th>3</th>\n",
       "      <td>5.249927e+17</td>\n",
       "      <td>1</td>\n",
       "      <td>2014-10-22 18:36:29</td>\n",
       "      <td>RT @CTVNews Police have clarified that there w...</td>\n",
       "      <td>0</td>\n",
       "      <td>train</td>\n",
       "    </tr>\n",
       "    <tr>\n",
       "      <th>4</th>\n",
       "      <td>5.250038e+17</td>\n",
       "      <td>1</td>\n",
       "      <td>2014-10-22 19:20:41</td>\n",
       "      <td>@CTVNews @ctvsaskatoon so what happened at Rid...</td>\n",
       "      <td>0</td>\n",
       "      <td>train</td>\n",
       "    </tr>\n",
       "  </tbody>\n",
       "</table>\n",
       "</div>"
      ],
      "text/plain": [
       "             id label            datetime  \\\n",
       "0  5.249902e+17     0 2014-10-22 18:26:23   \n",
       "1  5.249906e+17     0 2014-10-22 18:27:58   \n",
       "2  5.249908e+17     1 2014-10-22 18:28:46   \n",
       "3  5.249927e+17     1 2014-10-22 18:36:29   \n",
       "4  5.250038e+17     1 2014-10-22 19:20:41   \n",
       "\n",
       "                                                text timeline_id    set  \n",
       "0  Police have clarified that there were two shoo...           0  train  \n",
       "1  @CTVNews you guys \"confirmed\" there were 3 sho...           0  train  \n",
       "2      @CTVNews get it right. http://t.co/GHYxMuzPG9           0  train  \n",
       "3  RT @CTVNews Police have clarified that there w...           0  train  \n",
       "4  @CTVNews @ctvsaskatoon so what happened at Rid...           0  train  "
      ]
     },
     "execution_count": 6,
     "metadata": {},
     "output_type": "execute_result"
    }
   ],
   "source": [
    "df_rumours.head()"
   ]
  },
  {
   "cell_type": "code",
   "execution_count": 7,
   "metadata": {},
   "outputs": [
    {
     "data": {
      "text/plain": [
       "(5568, 384)"
      ]
     },
     "execution_count": 7,
     "metadata": {},
     "output_type": "execute_result"
    }
   ],
   "source": [
    "sbert_embeddings.shape"
   ]
  },
  {
   "cell_type": "markdown",
   "metadata": {},
   "source": [
    "## Baseline: BiLSTM"
   ]
  },
  {
   "cell_type": "code",
   "execution_count": 8,
   "metadata": {},
   "outputs": [],
   "source": [
    "num_epochs = 100\n",
    "hidden_dim_sizes = [200, 300, 400]\n",
    "num_layers = 1\n",
    "bidirectional = True\n",
    "dropout_rates = [0.1]\n",
    "learning_rates = [1e-3, 5e-4, 1e-4]\n",
    "seeds = [1, 12, 123]\n",
    "loss = \"focal\"\n",
    "gamma = 2\n",
    "validation_metric = \"f1\"\n",
    "patience = 3"
   ]
  },
  {
   "cell_type": "code",
   "execution_count": 9,
   "metadata": {},
   "outputs": [],
   "source": [
    "kwargs = {\n",
    "    \"num_epochs\": num_epochs,\n",
    "    \"df\": df_rumours,\n",
    "    \"id_column\": \"timeline_id\",\n",
    "    \"label_column\": \"label\",\n",
    "    \"embeddings\": sbert_embeddings,\n",
    "    \"y_data\": y_data,\n",
    "    \"output_dim\": output_dim,\n",
    "    \"hidden_dim_sizes\": hidden_dim_sizes,\n",
    "    \"num_layers\": num_layers,\n",
    "    \"bidirectional\": bidirectional,\n",
    "    \"dropout_rates\": dropout_rates,\n",
    "    \"learning_rates\": learning_rates,\n",
    "    \"seeds\": seeds,\n",
    "    \"loss\": loss,\n",
    "    \"gamma\": gamma,\n",
    "    \"device\": device,\n",
    "    \"split_ids\": split_ids,\n",
    "    \"k_fold\": True,\n",
    "    \"patience\": patience,\n",
    "    \"validation_metric\": validation_metric,\n",
    "    \"verbose\": False,\n",
    "}"
   ]
  },
  {
   "cell_type": "markdown",
   "metadata": {
    "tags": []
   },
   "source": [
    "## history_length=5"
   ]
  },
  {
   "cell_type": "code",
   "execution_count": 10,
   "metadata": {},
   "outputs": [],
   "source": [
    "size = 5"
   ]
  },
  {
   "cell_type": "code",
   "execution_count": 11,
   "metadata": {},
   "outputs": [
    {
     "data": {
      "application/vnd.jupyter.widget-view+json": {
       "model_id": "ae71fe6bcd46465cb79cf7dc748d607a",
       "version_major": 2,
       "version_minor": 0
      },
      "text/plain": [
       "  0%|          | 0/1 [00:00<?, ?it/s]"
      ]
     },
     "metadata": {},
     "output_type": "display_data"
    },
    {
     "name": "stdout",
     "output_type": "stream",
     "text": [
      "[INFO] Concatenating the embeddings to the dataframe...\n",
      "[INFO] - columns beginning with 'e' denote the full embddings.\n",
      "[INFO] Adding time feature columns into dataframe in `.df`.\n",
      "[INFO] Adding 'time_encoding' feature...\n",
      "[INFO] Adding 'time_diff' feature...\n",
      "[INFO] Adding 'timeline_index' feature...\n",
      "[INFO] Padding ids and storing in `.df_padded` and `.array_padded` attributes.\n"
     ]
    },
    {
     "data": {
      "application/vnd.jupyter.widget-view+json": {
       "model_id": "a0d3e3578f9d4d6d8893ce74ad7b2cec",
       "version_major": 2,
       "version_minor": 0
      },
      "text/plain": [
       "  0%|          | 0/5568 [00:00<?, ?it/s]"
      ]
     },
     "metadata": {},
     "output_type": "display_data"
    },
    {
     "data": {
      "application/vnd.jupyter.widget-view+json": {
       "model_id": "855233fcccaa4638a6be1b21a5dc4578",
       "version_major": 2,
       "version_minor": 0
      },
      "text/plain": [
       "  0%|          | 0/3 [00:00<?, ?it/s]"
      ]
     },
     "metadata": {},
     "output_type": "display_data"
    },
    {
     "data": {
      "application/vnd.jupyter.widget-view+json": {
       "model_id": "4f574df068174596a59dfbf95eb04455",
       "version_major": 2,
       "version_minor": 0
      },
      "text/plain": [
       "  0%|          | 0/1 [00:00<?, ?it/s]"
      ]
     },
     "metadata": {},
     "output_type": "display_data"
    },
    {
     "data": {
      "application/vnd.jupyter.widget-view+json": {
       "model_id": "a3633cb7cf8445a9baf812029f3c8f42",
       "version_major": 2,
       "version_minor": 0
      },
      "text/plain": [
       "  0%|          | 0/3 [00:00<?, ?it/s]"
      ]
     },
     "metadata": {},
     "output_type": "display_data"
    },
    {
     "data": {
      "application/vnd.jupyter.widget-view+json": {
       "model_id": "977d866c99e143c6b8b4c1d93ba56d38",
       "version_major": 2,
       "version_minor": 0
      },
      "text/plain": [
       "  0%|          | 0/1 [00:00<?, ?it/s]"
      ]
     },
     "metadata": {},
     "output_type": "display_data"
    },
    {
     "data": {
      "application/vnd.jupyter.widget-view+json": {
       "model_id": "2af8d17a77364a44a9c68df8f55fdf75",
       "version_major": 2,
       "version_minor": 0
      },
      "text/plain": [
       "  0%|          | 0/3 [00:00<?, ?it/s]"
      ]
     },
     "metadata": {},
     "output_type": "display_data"
    },
    {
     "data": {
      "application/vnd.jupyter.widget-view+json": {
       "model_id": "b9706c5e90b3460bbe6f1c10436372b0",
       "version_major": 2,
       "version_minor": 0
      },
      "text/plain": [
       "  0%|          | 0/1 [00:00<?, ?it/s]"
      ]
     },
     "metadata": {},
     "output_type": "display_data"
    },
    {
     "data": {
      "application/vnd.jupyter.widget-view+json": {
       "model_id": "1fc3f721feff4bd596f27d108a49dfae",
       "version_major": 2,
       "version_minor": 0
      },
      "text/plain": [
       "  0%|          | 0/3 [00:00<?, ?it/s]"
      ]
     },
     "metadata": {},
     "output_type": "display_data"
    },
    {
     "name": "stdout",
     "output_type": "stream",
     "text": [
      "saving results dataframe to CSV for this hyperparameter search in rumours_output/lstm_history_5_focal_2.csv\n",
      "saving the best model results dataframe to CSV for this hyperparameter search in rumours_output/lstm_history_5_focal_2_best_model.csv\n"
     ]
    }
   ],
   "source": [
    "bilstm_history_5, best_bilstm_history_5, _, __ = lstm_hyperparameter_search(\n",
    "    history_lengths=[size],\n",
    "    results_output=f\"{output_dir}/lstm_history_{size}_focal_{gamma}_kfold.csv\",\n",
    "    **kwargs,\n",
    ")"
   ]
  },
  {
   "cell_type": "code",
   "execution_count": 12,
   "metadata": {},
   "outputs": [
    {
     "name": "stderr",
     "output_type": "stream",
     "text": [
      "/tmp/ipykernel_1337404/1806291284.py:1: FutureWarning: The default value of numeric_only in DataFrameGroupBy.mean is deprecated. In a future version, numeric_only will default to False. Either specify numeric_only or select only columns which should be valid for the function.\n",
      "  bilstm_history_5.groupby([\"hidden_dim\", \"dropout_rate\", \"learning_rate\"]).mean()\n"
     ]
    },
    {
     "data": {
      "text/html": [
       "<div>\n",
       "<style scoped>\n",
       "    .dataframe tbody tr th:only-of-type {\n",
       "        vertical-align: middle;\n",
       "    }\n",
       "\n",
       "    .dataframe tbody tr th {\n",
       "        vertical-align: top;\n",
       "    }\n",
       "\n",
       "    .dataframe thead th {\n",
       "        text-align: right;\n",
       "    }\n",
       "</style>\n",
       "<table border=\"1\" class=\"dataframe\">\n",
       "  <thead>\n",
       "    <tr style=\"text-align: right;\">\n",
       "      <th></th>\n",
       "      <th></th>\n",
       "      <th></th>\n",
       "      <th>accuracy</th>\n",
       "      <th>f1</th>\n",
       "      <th>precision</th>\n",
       "      <th>recall</th>\n",
       "      <th>valid_accuracy</th>\n",
       "      <th>valid_f1</th>\n",
       "      <th>valid_precision</th>\n",
       "      <th>valid_recall</th>\n",
       "      <th>k</th>\n",
       "      <th>num_layers</th>\n",
       "      <th>bidirectional</th>\n",
       "      <th>seed</th>\n",
       "      <th>gamma</th>\n",
       "      <th>k_fold</th>\n",
       "      <th>n_splits</th>\n",
       "      <th>batch_size</th>\n",
       "      <th>model_id</th>\n",
       "    </tr>\n",
       "    <tr>\n",
       "      <th>hidden_dim</th>\n",
       "      <th>dropout_rate</th>\n",
       "      <th>learning_rate</th>\n",
       "      <th></th>\n",
       "      <th></th>\n",
       "      <th></th>\n",
       "      <th></th>\n",
       "      <th></th>\n",
       "      <th></th>\n",
       "      <th></th>\n",
       "      <th></th>\n",
       "      <th></th>\n",
       "      <th></th>\n",
       "      <th></th>\n",
       "      <th></th>\n",
       "      <th></th>\n",
       "      <th></th>\n",
       "      <th></th>\n",
       "      <th></th>\n",
       "      <th></th>\n",
       "    </tr>\n",
       "  </thead>\n",
       "  <tbody>\n",
       "    <tr>\n",
       "      <th rowspan=\"3\" valign=\"top\">200</th>\n",
       "      <th rowspan=\"3\" valign=\"top\">0.1</th>\n",
       "      <th>0.0001</th>\n",
       "      <td>0.663871</td>\n",
       "      <td>0.639677</td>\n",
       "      <td>0.637723</td>\n",
       "      <td>0.644175</td>\n",
       "      <td>0.772925</td>\n",
       "      <td>0.759925</td>\n",
       "      <td>0.759372</td>\n",
       "      <td>0.760603</td>\n",
       "      <td>5.0</td>\n",
       "      <td>1.0</td>\n",
       "      <td>1.0</td>\n",
       "      <td>45.333333</td>\n",
       "      <td>2.0</td>\n",
       "      <td>1.0</td>\n",
       "      <td>5.0</td>\n",
       "      <td>64.0</td>\n",
       "      <td>2.0</td>\n",
       "    </tr>\n",
       "    <tr>\n",
       "      <th>0.0005</th>\n",
       "      <td>0.657596</td>\n",
       "      <td>0.633611</td>\n",
       "      <td>0.631992</td>\n",
       "      <td>0.638406</td>\n",
       "      <td>0.769960</td>\n",
       "      <td>0.757667</td>\n",
       "      <td>0.756462</td>\n",
       "      <td>0.759383</td>\n",
       "      <td>5.0</td>\n",
       "      <td>1.0</td>\n",
       "      <td>1.0</td>\n",
       "      <td>45.333333</td>\n",
       "      <td>2.0</td>\n",
       "      <td>1.0</td>\n",
       "      <td>5.0</td>\n",
       "      <td>64.0</td>\n",
       "      <td>1.0</td>\n",
       "    </tr>\n",
       "    <tr>\n",
       "      <th>0.0010</th>\n",
       "      <td>0.658590</td>\n",
       "      <td>0.639234</td>\n",
       "      <td>0.638179</td>\n",
       "      <td>0.647782</td>\n",
       "      <td>0.760345</td>\n",
       "      <td>0.749728</td>\n",
       "      <td>0.747548</td>\n",
       "      <td>0.754149</td>\n",
       "      <td>5.0</td>\n",
       "      <td>1.0</td>\n",
       "      <td>1.0</td>\n",
       "      <td>45.333333</td>\n",
       "      <td>2.0</td>\n",
       "      <td>1.0</td>\n",
       "      <td>5.0</td>\n",
       "      <td>64.0</td>\n",
       "      <td>0.0</td>\n",
       "    </tr>\n",
       "    <tr>\n",
       "      <th rowspan=\"3\" valign=\"top\">300</th>\n",
       "      <th rowspan=\"3\" valign=\"top\">0.1</th>\n",
       "      <th>0.0001</th>\n",
       "      <td>0.661883</td>\n",
       "      <td>0.638822</td>\n",
       "      <td>0.636892</td>\n",
       "      <td>0.644122</td>\n",
       "      <td>0.770948</td>\n",
       "      <td>0.758588</td>\n",
       "      <td>0.757395</td>\n",
       "      <td>0.760137</td>\n",
       "      <td>5.0</td>\n",
       "      <td>1.0</td>\n",
       "      <td>1.0</td>\n",
       "      <td>45.333333</td>\n",
       "      <td>2.0</td>\n",
       "      <td>1.0</td>\n",
       "      <td>5.0</td>\n",
       "      <td>64.0</td>\n",
       "      <td>5.0</td>\n",
       "    </tr>\n",
       "    <tr>\n",
       "      <th>0.0005</th>\n",
       "      <td>0.657285</td>\n",
       "      <td>0.635318</td>\n",
       "      <td>0.633573</td>\n",
       "      <td>0.641447</td>\n",
       "      <td>0.769331</td>\n",
       "      <td>0.757834</td>\n",
       "      <td>0.755937</td>\n",
       "      <td>0.760550</td>\n",
       "      <td>5.0</td>\n",
       "      <td>1.0</td>\n",
       "      <td>1.0</td>\n",
       "      <td>45.333333</td>\n",
       "      <td>2.0</td>\n",
       "      <td>1.0</td>\n",
       "      <td>5.0</td>\n",
       "      <td>64.0</td>\n",
       "      <td>4.0</td>\n",
       "    </tr>\n",
       "    <tr>\n",
       "      <th>0.0010</th>\n",
       "      <td>0.657596</td>\n",
       "      <td>0.637059</td>\n",
       "      <td>0.635488</td>\n",
       "      <td>0.644352</td>\n",
       "      <td>0.759402</td>\n",
       "      <td>0.747804</td>\n",
       "      <td>0.745731</td>\n",
       "      <td>0.750852</td>\n",
       "      <td>5.0</td>\n",
       "      <td>1.0</td>\n",
       "      <td>1.0</td>\n",
       "      <td>45.333333</td>\n",
       "      <td>2.0</td>\n",
       "      <td>1.0</td>\n",
       "      <td>5.0</td>\n",
       "      <td>64.0</td>\n",
       "      <td>3.0</td>\n",
       "    </tr>\n",
       "    <tr>\n",
       "      <th rowspan=\"3\" valign=\"top\">400</th>\n",
       "      <th rowspan=\"3\" valign=\"top\">0.1</th>\n",
       "      <th>0.0001</th>\n",
       "      <td>0.660764</td>\n",
       "      <td>0.637127</td>\n",
       "      <td>0.635215</td>\n",
       "      <td>0.642073</td>\n",
       "      <td>0.773689</td>\n",
       "      <td>0.761266</td>\n",
       "      <td>0.760161</td>\n",
       "      <td>0.762555</td>\n",
       "      <td>5.0</td>\n",
       "      <td>1.0</td>\n",
       "      <td>1.0</td>\n",
       "      <td>45.333333</td>\n",
       "      <td>2.0</td>\n",
       "      <td>1.0</td>\n",
       "      <td>5.0</td>\n",
       "      <td>64.0</td>\n",
       "      <td>8.0</td>\n",
       "    </tr>\n",
       "    <tr>\n",
       "      <th>0.0005</th>\n",
       "      <td>0.655110</td>\n",
       "      <td>0.635511</td>\n",
       "      <td>0.634235</td>\n",
       "      <td>0.643589</td>\n",
       "      <td>0.761783</td>\n",
       "      <td>0.751216</td>\n",
       "      <td>0.748696</td>\n",
       "      <td>0.755515</td>\n",
       "      <td>5.0</td>\n",
       "      <td>1.0</td>\n",
       "      <td>1.0</td>\n",
       "      <td>45.333333</td>\n",
       "      <td>2.0</td>\n",
       "      <td>1.0</td>\n",
       "      <td>5.0</td>\n",
       "      <td>64.0</td>\n",
       "      <td>7.0</td>\n",
       "    </tr>\n",
       "    <tr>\n",
       "      <th>0.0010</th>\n",
       "      <td>0.659522</td>\n",
       "      <td>0.639710</td>\n",
       "      <td>0.638530</td>\n",
       "      <td>0.647802</td>\n",
       "      <td>0.759312</td>\n",
       "      <td>0.747776</td>\n",
       "      <td>0.746008</td>\n",
       "      <td>0.751051</td>\n",
       "      <td>5.0</td>\n",
       "      <td>1.0</td>\n",
       "      <td>1.0</td>\n",
       "      <td>45.333333</td>\n",
       "      <td>2.0</td>\n",
       "      <td>1.0</td>\n",
       "      <td>5.0</td>\n",
       "      <td>64.0</td>\n",
       "      <td>6.0</td>\n",
       "    </tr>\n",
       "  </tbody>\n",
       "</table>\n",
       "</div>"
      ],
      "text/plain": [
       "                                       accuracy        f1  precision  \\\n",
       "hidden_dim dropout_rate learning_rate                                  \n",
       "200        0.1          0.0001         0.663871  0.639677   0.637723   \n",
       "                        0.0005         0.657596  0.633611   0.631992   \n",
       "                        0.0010         0.658590  0.639234   0.638179   \n",
       "300        0.1          0.0001         0.661883  0.638822   0.636892   \n",
       "                        0.0005         0.657285  0.635318   0.633573   \n",
       "                        0.0010         0.657596  0.637059   0.635488   \n",
       "400        0.1          0.0001         0.660764  0.637127   0.635215   \n",
       "                        0.0005         0.655110  0.635511   0.634235   \n",
       "                        0.0010         0.659522  0.639710   0.638530   \n",
       "\n",
       "                                         recall  valid_accuracy  valid_f1  \\\n",
       "hidden_dim dropout_rate learning_rate                                       \n",
       "200        0.1          0.0001         0.644175        0.772925  0.759925   \n",
       "                        0.0005         0.638406        0.769960  0.757667   \n",
       "                        0.0010         0.647782        0.760345  0.749728   \n",
       "300        0.1          0.0001         0.644122        0.770948  0.758588   \n",
       "                        0.0005         0.641447        0.769331  0.757834   \n",
       "                        0.0010         0.644352        0.759402  0.747804   \n",
       "400        0.1          0.0001         0.642073        0.773689  0.761266   \n",
       "                        0.0005         0.643589        0.761783  0.751216   \n",
       "                        0.0010         0.647802        0.759312  0.747776   \n",
       "\n",
       "                                       valid_precision  valid_recall    k  \\\n",
       "hidden_dim dropout_rate learning_rate                                       \n",
       "200        0.1          0.0001                0.759372      0.760603  5.0   \n",
       "                        0.0005                0.756462      0.759383  5.0   \n",
       "                        0.0010                0.747548      0.754149  5.0   \n",
       "300        0.1          0.0001                0.757395      0.760137  5.0   \n",
       "                        0.0005                0.755937      0.760550  5.0   \n",
       "                        0.0010                0.745731      0.750852  5.0   \n",
       "400        0.1          0.0001                0.760161      0.762555  5.0   \n",
       "                        0.0005                0.748696      0.755515  5.0   \n",
       "                        0.0010                0.746008      0.751051  5.0   \n",
       "\n",
       "                                       num_layers  bidirectional       seed  \\\n",
       "hidden_dim dropout_rate learning_rate                                         \n",
       "200        0.1          0.0001                1.0            1.0  45.333333   \n",
       "                        0.0005                1.0            1.0  45.333333   \n",
       "                        0.0010                1.0            1.0  45.333333   \n",
       "300        0.1          0.0001                1.0            1.0  45.333333   \n",
       "                        0.0005                1.0            1.0  45.333333   \n",
       "                        0.0010                1.0            1.0  45.333333   \n",
       "400        0.1          0.0001                1.0            1.0  45.333333   \n",
       "                        0.0005                1.0            1.0  45.333333   \n",
       "                        0.0010                1.0            1.0  45.333333   \n",
       "\n",
       "                                       gamma  k_fold  n_splits  batch_size  \\\n",
       "hidden_dim dropout_rate learning_rate                                        \n",
       "200        0.1          0.0001           2.0     1.0       5.0        64.0   \n",
       "                        0.0005           2.0     1.0       5.0        64.0   \n",
       "                        0.0010           2.0     1.0       5.0        64.0   \n",
       "300        0.1          0.0001           2.0     1.0       5.0        64.0   \n",
       "                        0.0005           2.0     1.0       5.0        64.0   \n",
       "                        0.0010           2.0     1.0       5.0        64.0   \n",
       "400        0.1          0.0001           2.0     1.0       5.0        64.0   \n",
       "                        0.0005           2.0     1.0       5.0        64.0   \n",
       "                        0.0010           2.0     1.0       5.0        64.0   \n",
       "\n",
       "                                       model_id  \n",
       "hidden_dim dropout_rate learning_rate            \n",
       "200        0.1          0.0001              2.0  \n",
       "                        0.0005              1.0  \n",
       "                        0.0010              0.0  \n",
       "300        0.1          0.0001              5.0  \n",
       "                        0.0005              4.0  \n",
       "                        0.0010              3.0  \n",
       "400        0.1          0.0001              8.0  \n",
       "                        0.0005              7.0  \n",
       "                        0.0010              6.0  "
      ]
     },
     "execution_count": 12,
     "metadata": {},
     "output_type": "execute_result"
    }
   ],
   "source": [
    "bilstm_history_5.groupby([\"hidden_dim\", \"dropout_rate\", \"learning_rate\"]).mean()"
   ]
  },
  {
   "cell_type": "code",
   "execution_count": 13,
   "metadata": {},
   "outputs": [
    {
     "data": {
      "text/html": [
       "<div>\n",
       "<style scoped>\n",
       "    .dataframe tbody tr th:only-of-type {\n",
       "        vertical-align: middle;\n",
       "    }\n",
       "\n",
       "    .dataframe tbody tr th {\n",
       "        vertical-align: top;\n",
       "    }\n",
       "\n",
       "    .dataframe thead th {\n",
       "        text-align: right;\n",
       "    }\n",
       "</style>\n",
       "<table border=\"1\" class=\"dataframe\">\n",
       "  <thead>\n",
       "    <tr style=\"text-align: right;\">\n",
       "      <th></th>\n",
       "      <th>loss</th>\n",
       "      <th>accuracy</th>\n",
       "      <th>f1</th>\n",
       "      <th>f1_scores</th>\n",
       "      <th>precision</th>\n",
       "      <th>precision_scores</th>\n",
       "      <th>recall</th>\n",
       "      <th>recall_scores</th>\n",
       "      <th>valid_loss</th>\n",
       "      <th>valid_accuracy</th>\n",
       "      <th>...</th>\n",
       "      <th>bidirectional</th>\n",
       "      <th>hidden_dim</th>\n",
       "      <th>dropout_rate</th>\n",
       "      <th>learning_rate</th>\n",
       "      <th>seed</th>\n",
       "      <th>loss_function</th>\n",
       "      <th>gamma</th>\n",
       "      <th>k_fold</th>\n",
       "      <th>n_splits</th>\n",
       "      <th>batch_size</th>\n",
       "    </tr>\n",
       "  </thead>\n",
       "  <tbody>\n",
       "    <tr>\n",
       "      <th>0</th>\n",
       "      <td>None</td>\n",
       "      <td>0.661696</td>\n",
       "      <td>0.638900</td>\n",
       "      <td>[0.7296290779085357, 0.5481702763256161]</td>\n",
       "      <td>0.636933</td>\n",
       "      <td>[0.7593798449612403, 0.5144859813084112]</td>\n",
       "      <td>0.644348</td>\n",
       "      <td>[0.7021215596330275, 0.5865743207245605]</td>\n",
       "      <td>None</td>\n",
       "      <td>0.774902</td>\n",
       "      <td>...</td>\n",
       "      <td>True</td>\n",
       "      <td>400</td>\n",
       "      <td>0.1</td>\n",
       "      <td>0.0001</td>\n",
       "      <td>1</td>\n",
       "      <td>focal</td>\n",
       "      <td>2</td>\n",
       "      <td>True</td>\n",
       "      <td>5</td>\n",
       "      <td>64</td>\n",
       "    </tr>\n",
       "    <tr>\n",
       "      <th>0</th>\n",
       "      <td>None</td>\n",
       "      <td>0.656850</td>\n",
       "      <td>0.631000</td>\n",
       "      <td>[0.7286661753868829, 0.5333333333333332]</td>\n",
       "      <td>0.629238</td>\n",
       "      <td>[0.7497725204731575, 0.5087040618955513]</td>\n",
       "      <td>0.634592</td>\n",
       "      <td>[0.7087155963302753, 0.5604688332445391]</td>\n",
       "      <td>None</td>\n",
       "      <td>0.772476</td>\n",
       "      <td>...</td>\n",
       "      <td>True</td>\n",
       "      <td>400</td>\n",
       "      <td>0.1</td>\n",
       "      <td>0.0001</td>\n",
       "      <td>12</td>\n",
       "      <td>focal</td>\n",
       "      <td>2</td>\n",
       "      <td>True</td>\n",
       "      <td>5</td>\n",
       "      <td>64</td>\n",
       "    </tr>\n",
       "    <tr>\n",
       "      <th>0</th>\n",
       "      <td>None</td>\n",
       "      <td>0.663746</td>\n",
       "      <td>0.641481</td>\n",
       "      <td>[0.7308266189197254, 0.5521350546176763]</td>\n",
       "      <td>0.639474</td>\n",
       "      <td>[0.7619788425637835, 0.5169688516968852]</td>\n",
       "      <td>0.647278</td>\n",
       "      <td>[0.7021215596330275, 0.5924347362813]</td>\n",
       "      <td>None</td>\n",
       "      <td>0.773689</td>\n",
       "      <td>...</td>\n",
       "      <td>True</td>\n",
       "      <td>400</td>\n",
       "      <td>0.1</td>\n",
       "      <td>0.0001</td>\n",
       "      <td>123</td>\n",
       "      <td>focal</td>\n",
       "      <td>2</td>\n",
       "      <td>True</td>\n",
       "      <td>5</td>\n",
       "      <td>64</td>\n",
       "    </tr>\n",
       "  </tbody>\n",
       "</table>\n",
       "<p>3 rows × 27 columns</p>\n",
       "</div>"
      ],
      "text/plain": [
       "   loss  accuracy        f1                                 f1_scores  \\\n",
       "0  None  0.661696  0.638900  [0.7296290779085357, 0.5481702763256161]   \n",
       "0  None  0.656850  0.631000  [0.7286661753868829, 0.5333333333333332]   \n",
       "0  None  0.663746  0.641481  [0.7308266189197254, 0.5521350546176763]   \n",
       "\n",
       "   precision                          precision_scores    recall  \\\n",
       "0   0.636933  [0.7593798449612403, 0.5144859813084112]  0.644348   \n",
       "0   0.629238  [0.7497725204731575, 0.5087040618955513]  0.634592   \n",
       "0   0.639474  [0.7619788425637835, 0.5169688516968852]  0.647278   \n",
       "\n",
       "                              recall_scores valid_loss  valid_accuracy  ...  \\\n",
       "0  [0.7021215596330275, 0.5865743207245605]       None        0.774902  ...   \n",
       "0  [0.7087155963302753, 0.5604688332445391]       None        0.772476  ...   \n",
       "0     [0.7021215596330275, 0.5924347362813]       None        0.773689  ...   \n",
       "\n",
       "   bidirectional hidden_dim  dropout_rate learning_rate  seed loss_function  \\\n",
       "0           True        400           0.1        0.0001     1         focal   \n",
       "0           True        400           0.1        0.0001    12         focal   \n",
       "0           True        400           0.1        0.0001   123         focal   \n",
       "\n",
       "   gamma  k_fold  n_splits  batch_size  \n",
       "0      2    True         5          64  \n",
       "0      2    True         5          64  \n",
       "0      2    True         5          64  \n",
       "\n",
       "[3 rows x 27 columns]"
      ]
     },
     "execution_count": 13,
     "metadata": {},
     "output_type": "execute_result"
    }
   ],
   "source": [
    "best_bilstm_history_5"
   ]
  },
  {
   "cell_type": "code",
   "execution_count": 14,
   "metadata": {},
   "outputs": [
    {
     "data": {
      "text/plain": [
       "0.6371267560819616"
      ]
     },
     "execution_count": 14,
     "metadata": {},
     "output_type": "execute_result"
    }
   ],
   "source": [
    "best_bilstm_history_5[\"f1\"].mean()"
   ]
  },
  {
   "cell_type": "code",
   "execution_count": 15,
   "metadata": {},
   "outputs": [
    {
     "data": {
      "text/plain": [
       "0.6352150171498382"
      ]
     },
     "execution_count": 15,
     "metadata": {},
     "output_type": "execute_result"
    }
   ],
   "source": [
    "best_bilstm_history_5[\"precision\"].mean()"
   ]
  },
  {
   "cell_type": "code",
   "execution_count": 16,
   "metadata": {},
   "outputs": [
    {
     "data": {
      "text/plain": [
       "0.6420727676411216"
      ]
     },
     "execution_count": 16,
     "metadata": {},
     "output_type": "execute_result"
    }
   ],
   "source": [
    "best_bilstm_history_5[\"recall\"].mean()"
   ]
  },
  {
   "cell_type": "code",
   "execution_count": 17,
   "metadata": {
    "scrolled": true
   },
   "outputs": [
    {
     "data": {
      "text/plain": [
       "array([0.72970729, 0.54454622])"
      ]
     },
     "execution_count": 17,
     "metadata": {},
     "output_type": "execute_result"
    }
   ],
   "source": [
    "np.stack(best_bilstm_history_5[\"f1_scores\"]).mean(axis=0)"
   ]
  },
  {
   "cell_type": "code",
   "execution_count": 18,
   "metadata": {},
   "outputs": [
    {
     "data": {
      "text/plain": [
       "array([0.75704374, 0.5133863 ])"
      ]
     },
     "execution_count": 18,
     "metadata": {},
     "output_type": "execute_result"
    }
   ],
   "source": [
    "np.stack(best_bilstm_history_5[\"precision_scores\"]).mean(axis=0)"
   ]
  },
  {
   "cell_type": "code",
   "execution_count": 19,
   "metadata": {},
   "outputs": [
    {
     "data": {
      "text/plain": [
       "array([0.70431957, 0.57982596])"
      ]
     },
     "execution_count": 19,
     "metadata": {},
     "output_type": "execute_result"
    }
   ],
   "source": [
    "np.stack(best_bilstm_history_5[\"recall_scores\"]).mean(axis=0)"
   ]
  },
  {
   "cell_type": "markdown",
   "metadata": {
    "tags": []
   },
   "source": [
    "## history_length=11"
   ]
  },
  {
   "cell_type": "code",
   "execution_count": 20,
   "metadata": {},
   "outputs": [],
   "source": [
    "size = 11"
   ]
  },
  {
   "cell_type": "code",
   "execution_count": 21,
   "metadata": {},
   "outputs": [
    {
     "data": {
      "application/vnd.jupyter.widget-view+json": {
       "model_id": "e250ef15ce0741a7886a13f54a1f2865",
       "version_major": 2,
       "version_minor": 0
      },
      "text/plain": [
       "  0%|          | 0/1 [00:00<?, ?it/s]"
      ]
     },
     "metadata": {},
     "output_type": "display_data"
    },
    {
     "name": "stdout",
     "output_type": "stream",
     "text": [
      "[INFO] Concatenating the embeddings to the dataframe...\n",
      "[INFO] - columns beginning with 'e' denote the full embddings.\n",
      "[INFO] Adding time feature columns into dataframe in `.df`.\n",
      "[INFO] Adding 'time_encoding' feature...\n",
      "[INFO] Adding 'time_diff' feature...\n",
      "[INFO] Adding 'timeline_index' feature...\n",
      "[INFO] Padding ids and storing in `.df_padded` and `.array_padded` attributes.\n"
     ]
    },
    {
     "data": {
      "application/vnd.jupyter.widget-view+json": {
       "model_id": "9181cad2ae434321a43386639ca031ec",
       "version_major": 2,
       "version_minor": 0
      },
      "text/plain": [
       "  0%|          | 0/5568 [00:00<?, ?it/s]"
      ]
     },
     "metadata": {},
     "output_type": "display_data"
    },
    {
     "data": {
      "application/vnd.jupyter.widget-view+json": {
       "model_id": "a0cc2d89bd104ea7886fe9c976d9f21e",
       "version_major": 2,
       "version_minor": 0
      },
      "text/plain": [
       "  0%|          | 0/3 [00:00<?, ?it/s]"
      ]
     },
     "metadata": {},
     "output_type": "display_data"
    },
    {
     "data": {
      "application/vnd.jupyter.widget-view+json": {
       "model_id": "fcd6a8b3d7e6446ca45f6f4a6186fba0",
       "version_major": 2,
       "version_minor": 0
      },
      "text/plain": [
       "  0%|          | 0/1 [00:00<?, ?it/s]"
      ]
     },
     "metadata": {},
     "output_type": "display_data"
    },
    {
     "data": {
      "application/vnd.jupyter.widget-view+json": {
       "model_id": "2cb7c7b3d0cd42768eb1ff0cc3a2ab1f",
       "version_major": 2,
       "version_minor": 0
      },
      "text/plain": [
       "  0%|          | 0/3 [00:00<?, ?it/s]"
      ]
     },
     "metadata": {},
     "output_type": "display_data"
    },
    {
     "data": {
      "application/vnd.jupyter.widget-view+json": {
       "model_id": "c141be8dd70b4d1b816d301ee34367bc",
       "version_major": 2,
       "version_minor": 0
      },
      "text/plain": [
       "  0%|          | 0/1 [00:00<?, ?it/s]"
      ]
     },
     "metadata": {},
     "output_type": "display_data"
    },
    {
     "data": {
      "application/vnd.jupyter.widget-view+json": {
       "model_id": "e8adcc54b8eb43d6967ae2347df84a24",
       "version_major": 2,
       "version_minor": 0
      },
      "text/plain": [
       "  0%|          | 0/3 [00:00<?, ?it/s]"
      ]
     },
     "metadata": {},
     "output_type": "display_data"
    },
    {
     "data": {
      "application/vnd.jupyter.widget-view+json": {
       "model_id": "ca323836859745f3a6667d7ed68d6e14",
       "version_major": 2,
       "version_minor": 0
      },
      "text/plain": [
       "  0%|          | 0/1 [00:00<?, ?it/s]"
      ]
     },
     "metadata": {},
     "output_type": "display_data"
    },
    {
     "data": {
      "application/vnd.jupyter.widget-view+json": {
       "model_id": "a4e34e57e8c94767a3367554b3b5d8dc",
       "version_major": 2,
       "version_minor": 0
      },
      "text/plain": [
       "  0%|          | 0/3 [00:00<?, ?it/s]"
      ]
     },
     "metadata": {},
     "output_type": "display_data"
    },
    {
     "name": "stdout",
     "output_type": "stream",
     "text": [
      "saving results dataframe to CSV for this hyperparameter search in rumours_output/lstm_history_11_focal_2.csv\n",
      "saving the best model results dataframe to CSV for this hyperparameter search in rumours_output/lstm_history_11_focal_2_best_model.csv\n"
     ]
    }
   ],
   "source": [
    "bilstm_history_11, best_bilstm_history_11, _, __ = lstm_hyperparameter_search(\n",
    "    history_lengths=[size],\n",
    "    results_output=f\"{output_dir}/lstm_history_{size}_focal_{gamma}_kfold.csv\",\n",
    "    **kwargs,\n",
    ")"
   ]
  },
  {
   "cell_type": "code",
   "execution_count": 22,
   "metadata": {},
   "outputs": [
    {
     "name": "stderr",
     "output_type": "stream",
     "text": [
      "/tmp/ipykernel_1337404/2881938888.py:1: FutureWarning: The default value of numeric_only in DataFrameGroupBy.mean is deprecated. In a future version, numeric_only will default to False. Either specify numeric_only or select only columns which should be valid for the function.\n",
      "  bilstm_history_11.groupby([\"hidden_dim\", \"dropout_rate\", \"learning_rate\"]).mean()\n"
     ]
    },
    {
     "data": {
      "text/html": [
       "<div>\n",
       "<style scoped>\n",
       "    .dataframe tbody tr th:only-of-type {\n",
       "        vertical-align: middle;\n",
       "    }\n",
       "\n",
       "    .dataframe tbody tr th {\n",
       "        vertical-align: top;\n",
       "    }\n",
       "\n",
       "    .dataframe thead th {\n",
       "        text-align: right;\n",
       "    }\n",
       "</style>\n",
       "<table border=\"1\" class=\"dataframe\">\n",
       "  <thead>\n",
       "    <tr style=\"text-align: right;\">\n",
       "      <th></th>\n",
       "      <th></th>\n",
       "      <th></th>\n",
       "      <th>accuracy</th>\n",
       "      <th>f1</th>\n",
       "      <th>precision</th>\n",
       "      <th>recall</th>\n",
       "      <th>valid_accuracy</th>\n",
       "      <th>valid_f1</th>\n",
       "      <th>valid_precision</th>\n",
       "      <th>valid_recall</th>\n",
       "      <th>k</th>\n",
       "      <th>num_layers</th>\n",
       "      <th>bidirectional</th>\n",
       "      <th>seed</th>\n",
       "      <th>gamma</th>\n",
       "      <th>k_fold</th>\n",
       "      <th>n_splits</th>\n",
       "      <th>batch_size</th>\n",
       "      <th>model_id</th>\n",
       "    </tr>\n",
       "    <tr>\n",
       "      <th>hidden_dim</th>\n",
       "      <th>dropout_rate</th>\n",
       "      <th>learning_rate</th>\n",
       "      <th></th>\n",
       "      <th></th>\n",
       "      <th></th>\n",
       "      <th></th>\n",
       "      <th></th>\n",
       "      <th></th>\n",
       "      <th></th>\n",
       "      <th></th>\n",
       "      <th></th>\n",
       "      <th></th>\n",
       "      <th></th>\n",
       "      <th></th>\n",
       "      <th></th>\n",
       "      <th></th>\n",
       "      <th></th>\n",
       "      <th></th>\n",
       "      <th></th>\n",
       "    </tr>\n",
       "  </thead>\n",
       "  <tbody>\n",
       "    <tr>\n",
       "      <th rowspan=\"3\" valign=\"top\">200</th>\n",
       "      <th rowspan=\"3\" valign=\"top\">0.1</th>\n",
       "      <th>0.0001</th>\n",
       "      <td>0.676297</td>\n",
       "      <td>0.646803</td>\n",
       "      <td>0.645907</td>\n",
       "      <td>0.647990</td>\n",
       "      <td>0.860898</td>\n",
       "      <td>0.850802</td>\n",
       "      <td>0.855771</td>\n",
       "      <td>0.846960</td>\n",
       "      <td>11.0</td>\n",
       "      <td>1.0</td>\n",
       "      <td>1.0</td>\n",
       "      <td>45.333333</td>\n",
       "      <td>2.0</td>\n",
       "      <td>1.0</td>\n",
       "      <td>5.0</td>\n",
       "      <td>64.0</td>\n",
       "      <td>2.0</td>\n",
       "    </tr>\n",
       "    <tr>\n",
       "      <th>0.0005</th>\n",
       "      <td>0.682324</td>\n",
       "      <td>0.660518</td>\n",
       "      <td>0.658239</td>\n",
       "      <td>0.666487</td>\n",
       "      <td>0.877522</td>\n",
       "      <td>0.870385</td>\n",
       "      <td>0.870080</td>\n",
       "      <td>0.871051</td>\n",
       "      <td>11.0</td>\n",
       "      <td>1.0</td>\n",
       "      <td>1.0</td>\n",
       "      <td>45.333333</td>\n",
       "      <td>2.0</td>\n",
       "      <td>1.0</td>\n",
       "      <td>5.0</td>\n",
       "      <td>64.0</td>\n",
       "      <td>1.0</td>\n",
       "    </tr>\n",
       "    <tr>\n",
       "      <th>0.0010</th>\n",
       "      <td>0.683939</td>\n",
       "      <td>0.658687</td>\n",
       "      <td>0.656830</td>\n",
       "      <td>0.662151</td>\n",
       "      <td>0.873927</td>\n",
       "      <td>0.866031</td>\n",
       "      <td>0.867129</td>\n",
       "      <td>0.865182</td>\n",
       "      <td>11.0</td>\n",
       "      <td>1.0</td>\n",
       "      <td>1.0</td>\n",
       "      <td>45.333333</td>\n",
       "      <td>2.0</td>\n",
       "      <td>1.0</td>\n",
       "      <td>5.0</td>\n",
       "      <td>64.0</td>\n",
       "      <td>0.0</td>\n",
       "    </tr>\n",
       "    <tr>\n",
       "      <th rowspan=\"3\" valign=\"top\">300</th>\n",
       "      <th rowspan=\"3\" valign=\"top\">0.1</th>\n",
       "      <th>0.0001</th>\n",
       "      <td>0.678782</td>\n",
       "      <td>0.652502</td>\n",
       "      <td>0.650835</td>\n",
       "      <td>0.655397</td>\n",
       "      <td>0.862201</td>\n",
       "      <td>0.853113</td>\n",
       "      <td>0.855392</td>\n",
       "      <td>0.851158</td>\n",
       "      <td>11.0</td>\n",
       "      <td>1.0</td>\n",
       "      <td>1.0</td>\n",
       "      <td>45.333333</td>\n",
       "      <td>2.0</td>\n",
       "      <td>1.0</td>\n",
       "      <td>5.0</td>\n",
       "      <td>64.0</td>\n",
       "      <td>5.0</td>\n",
       "    </tr>\n",
       "    <tr>\n",
       "      <th>0.0005</th>\n",
       "      <td>0.681081</td>\n",
       "      <td>0.657065</td>\n",
       "      <td>0.655090</td>\n",
       "      <td>0.661348</td>\n",
       "      <td>0.878375</td>\n",
       "      <td>0.871002</td>\n",
       "      <td>0.871461</td>\n",
       "      <td>0.870836</td>\n",
       "      <td>11.0</td>\n",
       "      <td>1.0</td>\n",
       "      <td>1.0</td>\n",
       "      <td>45.333333</td>\n",
       "      <td>2.0</td>\n",
       "      <td>1.0</td>\n",
       "      <td>5.0</td>\n",
       "      <td>64.0</td>\n",
       "      <td>4.0</td>\n",
       "    </tr>\n",
       "    <tr>\n",
       "      <th>0.0010</th>\n",
       "      <td>0.682945</td>\n",
       "      <td>0.658893</td>\n",
       "      <td>0.656640</td>\n",
       "      <td>0.662986</td>\n",
       "      <td>0.874691</td>\n",
       "      <td>0.866548</td>\n",
       "      <td>0.868450</td>\n",
       "      <td>0.864826</td>\n",
       "      <td>11.0</td>\n",
       "      <td>1.0</td>\n",
       "      <td>1.0</td>\n",
       "      <td>45.333333</td>\n",
       "      <td>2.0</td>\n",
       "      <td>1.0</td>\n",
       "      <td>5.0</td>\n",
       "      <td>64.0</td>\n",
       "      <td>3.0</td>\n",
       "    </tr>\n",
       "    <tr>\n",
       "      <th rowspan=\"3\" valign=\"top\">400</th>\n",
       "      <th rowspan=\"3\" valign=\"top\">0.1</th>\n",
       "      <th>0.0001</th>\n",
       "      <td>0.676421</td>\n",
       "      <td>0.651461</td>\n",
       "      <td>0.649393</td>\n",
       "      <td>0.655139</td>\n",
       "      <td>0.862560</td>\n",
       "      <td>0.853964</td>\n",
       "      <td>0.854963</td>\n",
       "      <td>0.853078</td>\n",
       "      <td>11.0</td>\n",
       "      <td>1.0</td>\n",
       "      <td>1.0</td>\n",
       "      <td>45.333333</td>\n",
       "      <td>2.0</td>\n",
       "      <td>1.0</td>\n",
       "      <td>5.0</td>\n",
       "      <td>64.0</td>\n",
       "      <td>8.0</td>\n",
       "    </tr>\n",
       "    <tr>\n",
       "      <th>0.0005</th>\n",
       "      <td>0.682697</td>\n",
       "      <td>0.656262</td>\n",
       "      <td>0.654808</td>\n",
       "      <td>0.658981</td>\n",
       "      <td>0.874556</td>\n",
       "      <td>0.867073</td>\n",
       "      <td>0.867391</td>\n",
       "      <td>0.867298</td>\n",
       "      <td>11.0</td>\n",
       "      <td>1.0</td>\n",
       "      <td>1.0</td>\n",
       "      <td>45.333333</td>\n",
       "      <td>2.0</td>\n",
       "      <td>1.0</td>\n",
       "      <td>5.0</td>\n",
       "      <td>64.0</td>\n",
       "      <td>7.0</td>\n",
       "    </tr>\n",
       "    <tr>\n",
       "      <th>0.0010</th>\n",
       "      <td>0.685555</td>\n",
       "      <td>0.664469</td>\n",
       "      <td>0.662512</td>\n",
       "      <td>0.670858</td>\n",
       "      <td>0.860673</td>\n",
       "      <td>0.852425</td>\n",
       "      <td>0.852624</td>\n",
       "      <td>0.852708</td>\n",
       "      <td>11.0</td>\n",
       "      <td>1.0</td>\n",
       "      <td>1.0</td>\n",
       "      <td>45.333333</td>\n",
       "      <td>2.0</td>\n",
       "      <td>1.0</td>\n",
       "      <td>5.0</td>\n",
       "      <td>64.0</td>\n",
       "      <td>6.0</td>\n",
       "    </tr>\n",
       "  </tbody>\n",
       "</table>\n",
       "</div>"
      ],
      "text/plain": [
       "                                       accuracy        f1  precision  \\\n",
       "hidden_dim dropout_rate learning_rate                                  \n",
       "200        0.1          0.0001         0.676297  0.646803   0.645907   \n",
       "                        0.0005         0.682324  0.660518   0.658239   \n",
       "                        0.0010         0.683939  0.658687   0.656830   \n",
       "300        0.1          0.0001         0.678782  0.652502   0.650835   \n",
       "                        0.0005         0.681081  0.657065   0.655090   \n",
       "                        0.0010         0.682945  0.658893   0.656640   \n",
       "400        0.1          0.0001         0.676421  0.651461   0.649393   \n",
       "                        0.0005         0.682697  0.656262   0.654808   \n",
       "                        0.0010         0.685555  0.664469   0.662512   \n",
       "\n",
       "                                         recall  valid_accuracy  valid_f1  \\\n",
       "hidden_dim dropout_rate learning_rate                                       \n",
       "200        0.1          0.0001         0.647990        0.860898  0.850802   \n",
       "                        0.0005         0.666487        0.877522  0.870385   \n",
       "                        0.0010         0.662151        0.873927  0.866031   \n",
       "300        0.1          0.0001         0.655397        0.862201  0.853113   \n",
       "                        0.0005         0.661348        0.878375  0.871002   \n",
       "                        0.0010         0.662986        0.874691  0.866548   \n",
       "400        0.1          0.0001         0.655139        0.862560  0.853964   \n",
       "                        0.0005         0.658981        0.874556  0.867073   \n",
       "                        0.0010         0.670858        0.860673  0.852425   \n",
       "\n",
       "                                       valid_precision  valid_recall     k  \\\n",
       "hidden_dim dropout_rate learning_rate                                        \n",
       "200        0.1          0.0001                0.855771      0.846960  11.0   \n",
       "                        0.0005                0.870080      0.871051  11.0   \n",
       "                        0.0010                0.867129      0.865182  11.0   \n",
       "300        0.1          0.0001                0.855392      0.851158  11.0   \n",
       "                        0.0005                0.871461      0.870836  11.0   \n",
       "                        0.0010                0.868450      0.864826  11.0   \n",
       "400        0.1          0.0001                0.854963      0.853078  11.0   \n",
       "                        0.0005                0.867391      0.867298  11.0   \n",
       "                        0.0010                0.852624      0.852708  11.0   \n",
       "\n",
       "                                       num_layers  bidirectional       seed  \\\n",
       "hidden_dim dropout_rate learning_rate                                         \n",
       "200        0.1          0.0001                1.0            1.0  45.333333   \n",
       "                        0.0005                1.0            1.0  45.333333   \n",
       "                        0.0010                1.0            1.0  45.333333   \n",
       "300        0.1          0.0001                1.0            1.0  45.333333   \n",
       "                        0.0005                1.0            1.0  45.333333   \n",
       "                        0.0010                1.0            1.0  45.333333   \n",
       "400        0.1          0.0001                1.0            1.0  45.333333   \n",
       "                        0.0005                1.0            1.0  45.333333   \n",
       "                        0.0010                1.0            1.0  45.333333   \n",
       "\n",
       "                                       gamma  k_fold  n_splits  batch_size  \\\n",
       "hidden_dim dropout_rate learning_rate                                        \n",
       "200        0.1          0.0001           2.0     1.0       5.0        64.0   \n",
       "                        0.0005           2.0     1.0       5.0        64.0   \n",
       "                        0.0010           2.0     1.0       5.0        64.0   \n",
       "300        0.1          0.0001           2.0     1.0       5.0        64.0   \n",
       "                        0.0005           2.0     1.0       5.0        64.0   \n",
       "                        0.0010           2.0     1.0       5.0        64.0   \n",
       "400        0.1          0.0001           2.0     1.0       5.0        64.0   \n",
       "                        0.0005           2.0     1.0       5.0        64.0   \n",
       "                        0.0010           2.0     1.0       5.0        64.0   \n",
       "\n",
       "                                       model_id  \n",
       "hidden_dim dropout_rate learning_rate            \n",
       "200        0.1          0.0001              2.0  \n",
       "                        0.0005              1.0  \n",
       "                        0.0010              0.0  \n",
       "300        0.1          0.0001              5.0  \n",
       "                        0.0005              4.0  \n",
       "                        0.0010              3.0  \n",
       "400        0.1          0.0001              8.0  \n",
       "                        0.0005              7.0  \n",
       "                        0.0010              6.0  "
      ]
     },
     "execution_count": 22,
     "metadata": {},
     "output_type": "execute_result"
    }
   ],
   "source": [
    "bilstm_history_11.groupby([\"hidden_dim\", \"dropout_rate\", \"learning_rate\"]).mean()"
   ]
  },
  {
   "cell_type": "code",
   "execution_count": 23,
   "metadata": {},
   "outputs": [
    {
     "data": {
      "text/html": [
       "<div>\n",
       "<style scoped>\n",
       "    .dataframe tbody tr th:only-of-type {\n",
       "        vertical-align: middle;\n",
       "    }\n",
       "\n",
       "    .dataframe tbody tr th {\n",
       "        vertical-align: top;\n",
       "    }\n",
       "\n",
       "    .dataframe thead th {\n",
       "        text-align: right;\n",
       "    }\n",
       "</style>\n",
       "<table border=\"1\" class=\"dataframe\">\n",
       "  <thead>\n",
       "    <tr style=\"text-align: right;\">\n",
       "      <th></th>\n",
       "      <th>loss</th>\n",
       "      <th>accuracy</th>\n",
       "      <th>f1</th>\n",
       "      <th>f1_scores</th>\n",
       "      <th>precision</th>\n",
       "      <th>precision_scores</th>\n",
       "      <th>recall</th>\n",
       "      <th>recall_scores</th>\n",
       "      <th>valid_loss</th>\n",
       "      <th>valid_accuracy</th>\n",
       "      <th>...</th>\n",
       "      <th>bidirectional</th>\n",
       "      <th>hidden_dim</th>\n",
       "      <th>dropout_rate</th>\n",
       "      <th>learning_rate</th>\n",
       "      <th>seed</th>\n",
       "      <th>loss_function</th>\n",
       "      <th>gamma</th>\n",
       "      <th>k_fold</th>\n",
       "      <th>n_splits</th>\n",
       "      <th>batch_size</th>\n",
       "    </tr>\n",
       "  </thead>\n",
       "  <tbody>\n",
       "    <tr>\n",
       "      <th>0</th>\n",
       "      <td>None</td>\n",
       "      <td>0.689842</td>\n",
       "      <td>0.662501</td>\n",
       "      <td>[0.7585606500290191, 0.566440854611777]</td>\n",
       "      <td>0.661115</td>\n",
       "      <td>[0.7679200940070505, 0.5543090260071392]</td>\n",
       "      <td>0.664271</td>\n",
       "      <td>[0.7494266055045872, 0.579115610015983]</td>\n",
       "      <td>None</td>\n",
       "      <td>0.878690</td>\n",
       "      <td>...</td>\n",
       "      <td>True</td>\n",
       "      <td>300</td>\n",
       "      <td>0.1</td>\n",
       "      <td>0.0005</td>\n",
       "      <td>1</td>\n",
       "      <td>focal</td>\n",
       "      <td>2</td>\n",
       "      <td>True</td>\n",
       "      <td>5</td>\n",
       "      <td>64</td>\n",
       "    </tr>\n",
       "    <tr>\n",
       "      <th>0</th>\n",
       "      <td>None</td>\n",
       "      <td>0.676608</td>\n",
       "      <td>0.652759</td>\n",
       "      <td>[0.743760153596219, 0.5617580197019448]</td>\n",
       "      <td>0.650542</td>\n",
       "      <td>[0.766981419433445, 0.5341018251681076]</td>\n",
       "      <td>0.657169</td>\n",
       "      <td>[0.7219036697247706, 0.5924347362813]</td>\n",
       "      <td>None</td>\n",
       "      <td>0.877477</td>\n",
       "      <td>...</td>\n",
       "      <td>True</td>\n",
       "      <td>300</td>\n",
       "      <td>0.1</td>\n",
       "      <td>0.0005</td>\n",
       "      <td>12</td>\n",
       "      <td>focal</td>\n",
       "      <td>2</td>\n",
       "      <td>True</td>\n",
       "      <td>5</td>\n",
       "      <td>64</td>\n",
       "    </tr>\n",
       "    <tr>\n",
       "      <th>0</th>\n",
       "      <td>None</td>\n",
       "      <td>0.676794</td>\n",
       "      <td>0.655934</td>\n",
       "      <td>[0.7406521088842357, 0.5712166172106826]</td>\n",
       "      <td>0.653614</td>\n",
       "      <td>[0.7742338961851157, 0.5329949238578681]</td>\n",
       "      <td>0.662603</td>\n",
       "      <td>[0.7098623853211009, 0.6153436334576452]</td>\n",
       "      <td>None</td>\n",
       "      <td>0.878959</td>\n",
       "      <td>...</td>\n",
       "      <td>True</td>\n",
       "      <td>300</td>\n",
       "      <td>0.1</td>\n",
       "      <td>0.0005</td>\n",
       "      <td>123</td>\n",
       "      <td>focal</td>\n",
       "      <td>2</td>\n",
       "      <td>True</td>\n",
       "      <td>5</td>\n",
       "      <td>64</td>\n",
       "    </tr>\n",
       "  </tbody>\n",
       "</table>\n",
       "<p>3 rows × 27 columns</p>\n",
       "</div>"
      ],
      "text/plain": [
       "   loss  accuracy        f1                                 f1_scores  \\\n",
       "0  None  0.689842  0.662501   [0.7585606500290191, 0.566440854611777]   \n",
       "0  None  0.676608  0.652759   [0.743760153596219, 0.5617580197019448]   \n",
       "0  None  0.676794  0.655934  [0.7406521088842357, 0.5712166172106826]   \n",
       "\n",
       "   precision                          precision_scores    recall  \\\n",
       "0   0.661115  [0.7679200940070505, 0.5543090260071392]  0.664271   \n",
       "0   0.650542   [0.766981419433445, 0.5341018251681076]  0.657169   \n",
       "0   0.653614  [0.7742338961851157, 0.5329949238578681]  0.662603   \n",
       "\n",
       "                              recall_scores valid_loss  valid_accuracy  ...  \\\n",
       "0   [0.7494266055045872, 0.579115610015983]       None        0.878690  ...   \n",
       "0     [0.7219036697247706, 0.5924347362813]       None        0.877477  ...   \n",
       "0  [0.7098623853211009, 0.6153436334576452]       None        0.878959  ...   \n",
       "\n",
       "   bidirectional hidden_dim  dropout_rate learning_rate  seed loss_function  \\\n",
       "0           True        300           0.1        0.0005     1         focal   \n",
       "0           True        300           0.1        0.0005    12         focal   \n",
       "0           True        300           0.1        0.0005   123         focal   \n",
       "\n",
       "   gamma  k_fold  n_splits  batch_size  \n",
       "0      2    True         5          64  \n",
       "0      2    True         5          64  \n",
       "0      2    True         5          64  \n",
       "\n",
       "[3 rows x 27 columns]"
      ]
     },
     "execution_count": 23,
     "metadata": {},
     "output_type": "execute_result"
    }
   ],
   "source": [
    "best_bilstm_history_11"
   ]
  },
  {
   "cell_type": "code",
   "execution_count": 24,
   "metadata": {},
   "outputs": [
    {
     "data": {
      "text/plain": [
       "0.6570647340056465"
      ]
     },
     "execution_count": 24,
     "metadata": {},
     "output_type": "execute_result"
    }
   ],
   "source": [
    "best_bilstm_history_11[\"f1\"].mean()"
   ]
  },
  {
   "cell_type": "code",
   "execution_count": 25,
   "metadata": {},
   "outputs": [
    {
     "data": {
      "text/plain": [
       "0.655090197443121"
      ]
     },
     "execution_count": 25,
     "metadata": {},
     "output_type": "execute_result"
    }
   ],
   "source": [
    "best_bilstm_history_11[\"precision\"].mean()"
   ]
  },
  {
   "cell_type": "code",
   "execution_count": 26,
   "metadata": {},
   "outputs": [
    {
     "data": {
      "text/plain": [
       "0.6613477733842311"
      ]
     },
     "execution_count": 26,
     "metadata": {},
     "output_type": "execute_result"
    }
   ],
   "source": [
    "best_bilstm_history_11[\"recall\"].mean()"
   ]
  },
  {
   "cell_type": "code",
   "execution_count": 27,
   "metadata": {
    "scrolled": true
   },
   "outputs": [
    {
     "data": {
      "text/plain": [
       "array([0.74765764, 0.56647183])"
      ]
     },
     "execution_count": 27,
     "metadata": {},
     "output_type": "execute_result"
    }
   ],
   "source": [
    "np.stack(best_bilstm_history_11[\"f1_scores\"]).mean(axis=0)"
   ]
  },
  {
   "cell_type": "code",
   "execution_count": 28,
   "metadata": {},
   "outputs": [
    {
     "data": {
      "text/plain": [
       "array([0.7697118 , 0.54046859])"
      ]
     },
     "execution_count": 28,
     "metadata": {},
     "output_type": "execute_result"
    }
   ],
   "source": [
    "np.stack(best_bilstm_history_11[\"precision_scores\"]).mean(axis=0)"
   ]
  },
  {
   "cell_type": "code",
   "execution_count": 29,
   "metadata": {},
   "outputs": [
    {
     "data": {
      "text/plain": [
       "array([0.72706422, 0.59563133])"
      ]
     },
     "execution_count": 29,
     "metadata": {},
     "output_type": "execute_result"
    }
   ],
   "source": [
    "np.stack(best_bilstm_history_11[\"recall_scores\"]).mean(axis=0)"
   ]
  },
  {
   "cell_type": "markdown",
   "metadata": {
    "tags": []
   },
   "source": [
    "## history_length=20"
   ]
  },
  {
   "cell_type": "code",
   "execution_count": 30,
   "metadata": {},
   "outputs": [],
   "source": [
    "size = 20"
   ]
  },
  {
   "cell_type": "code",
   "execution_count": 31,
   "metadata": {},
   "outputs": [
    {
     "data": {
      "application/vnd.jupyter.widget-view+json": {
       "model_id": "7064fd520b594c5b932c2a98d199888d",
       "version_major": 2,
       "version_minor": 0
      },
      "text/plain": [
       "  0%|          | 0/1 [00:00<?, ?it/s]"
      ]
     },
     "metadata": {},
     "output_type": "display_data"
    },
    {
     "name": "stdout",
     "output_type": "stream",
     "text": [
      "[INFO] Concatenating the embeddings to the dataframe...\n",
      "[INFO] - columns beginning with 'e' denote the full embddings.\n",
      "[INFO] Adding time feature columns into dataframe in `.df`.\n",
      "[INFO] Adding 'time_encoding' feature...\n",
      "[INFO] Adding 'time_diff' feature...\n",
      "[INFO] Adding 'timeline_index' feature...\n",
      "[INFO] Padding ids and storing in `.df_padded` and `.array_padded` attributes.\n"
     ]
    },
    {
     "data": {
      "application/vnd.jupyter.widget-view+json": {
       "model_id": "5af39f5ae7a8495a8966d0b27c05465d",
       "version_major": 2,
       "version_minor": 0
      },
      "text/plain": [
       "  0%|          | 0/5568 [00:00<?, ?it/s]"
      ]
     },
     "metadata": {},
     "output_type": "display_data"
    },
    {
     "data": {
      "application/vnd.jupyter.widget-view+json": {
       "model_id": "da960e3063da4dd3b42a3e580649ac0c",
       "version_major": 2,
       "version_minor": 0
      },
      "text/plain": [
       "  0%|          | 0/3 [00:00<?, ?it/s]"
      ]
     },
     "metadata": {},
     "output_type": "display_data"
    },
    {
     "data": {
      "application/vnd.jupyter.widget-view+json": {
       "model_id": "852eb1b429f5464abd5d84fa89a49591",
       "version_major": 2,
       "version_minor": 0
      },
      "text/plain": [
       "  0%|          | 0/1 [00:00<?, ?it/s]"
      ]
     },
     "metadata": {},
     "output_type": "display_data"
    },
    {
     "data": {
      "application/vnd.jupyter.widget-view+json": {
       "model_id": "6d56baa7df8249008a10a9bdb8c09f32",
       "version_major": 2,
       "version_minor": 0
      },
      "text/plain": [
       "  0%|          | 0/3 [00:00<?, ?it/s]"
      ]
     },
     "metadata": {},
     "output_type": "display_data"
    },
    {
     "data": {
      "application/vnd.jupyter.widget-view+json": {
       "model_id": "ec10fafa02aa4998b69b8ff90b57d5db",
       "version_major": 2,
       "version_minor": 0
      },
      "text/plain": [
       "  0%|          | 0/1 [00:00<?, ?it/s]"
      ]
     },
     "metadata": {},
     "output_type": "display_data"
    },
    {
     "data": {
      "application/vnd.jupyter.widget-view+json": {
       "model_id": "670c86dc838c46d48e68e50ca8c00c75",
       "version_major": 2,
       "version_minor": 0
      },
      "text/plain": [
       "  0%|          | 0/3 [00:00<?, ?it/s]"
      ]
     },
     "metadata": {},
     "output_type": "display_data"
    },
    {
     "data": {
      "application/vnd.jupyter.widget-view+json": {
       "model_id": "e0aee03bb3fc42c4a6d61b80f04821f1",
       "version_major": 2,
       "version_minor": 0
      },
      "text/plain": [
       "  0%|          | 0/1 [00:00<?, ?it/s]"
      ]
     },
     "metadata": {},
     "output_type": "display_data"
    },
    {
     "data": {
      "application/vnd.jupyter.widget-view+json": {
       "model_id": "eb15eabb6bc14e9db4e85b2938c249b9",
       "version_major": 2,
       "version_minor": 0
      },
      "text/plain": [
       "  0%|          | 0/3 [00:00<?, ?it/s]"
      ]
     },
     "metadata": {},
     "output_type": "display_data"
    },
    {
     "name": "stdout",
     "output_type": "stream",
     "text": [
      "saving results dataframe to CSV for this hyperparameter search in rumours_output/lstm_history_20_focal_2.csv\n",
      "saving the best model results dataframe to CSV for this hyperparameter search in rumours_output/lstm_history_20_focal_2_best_model.csv\n"
     ]
    }
   ],
   "source": [
    "bilstm_history_20, best_bilstm_history_20, _, __ = lstm_hyperparameter_search(\n",
    "    history_lengths=[size],\n",
    "    results_output=f\"{output_dir}/lstm_history_{size}_focal_{gamma}_kfold.csv\",\n",
    "    **kwargs,\n",
    ")"
   ]
  },
  {
   "cell_type": "code",
   "execution_count": 32,
   "metadata": {},
   "outputs": [
    {
     "name": "stderr",
     "output_type": "stream",
     "text": [
      "/tmp/ipykernel_1337404/1802967379.py:1: FutureWarning: The default value of numeric_only in DataFrameGroupBy.mean is deprecated. In a future version, numeric_only will default to False. Either specify numeric_only or select only columns which should be valid for the function.\n",
      "  bilstm_history_20.groupby([\"hidden_dim\", \"dropout_rate\", \"learning_rate\"]).mean()\n"
     ]
    },
    {
     "data": {
      "text/html": [
       "<div>\n",
       "<style scoped>\n",
       "    .dataframe tbody tr th:only-of-type {\n",
       "        vertical-align: middle;\n",
       "    }\n",
       "\n",
       "    .dataframe tbody tr th {\n",
       "        vertical-align: top;\n",
       "    }\n",
       "\n",
       "    .dataframe thead th {\n",
       "        text-align: right;\n",
       "    }\n",
       "</style>\n",
       "<table border=\"1\" class=\"dataframe\">\n",
       "  <thead>\n",
       "    <tr style=\"text-align: right;\">\n",
       "      <th></th>\n",
       "      <th></th>\n",
       "      <th></th>\n",
       "      <th>accuracy</th>\n",
       "      <th>f1</th>\n",
       "      <th>precision</th>\n",
       "      <th>recall</th>\n",
       "      <th>valid_accuracy</th>\n",
       "      <th>valid_f1</th>\n",
       "      <th>valid_precision</th>\n",
       "      <th>valid_recall</th>\n",
       "      <th>k</th>\n",
       "      <th>num_layers</th>\n",
       "      <th>bidirectional</th>\n",
       "      <th>seed</th>\n",
       "      <th>gamma</th>\n",
       "      <th>k_fold</th>\n",
       "      <th>n_splits</th>\n",
       "      <th>batch_size</th>\n",
       "      <th>model_id</th>\n",
       "    </tr>\n",
       "    <tr>\n",
       "      <th>hidden_dim</th>\n",
       "      <th>dropout_rate</th>\n",
       "      <th>learning_rate</th>\n",
       "      <th></th>\n",
       "      <th></th>\n",
       "      <th></th>\n",
       "      <th></th>\n",
       "      <th></th>\n",
       "      <th></th>\n",
       "      <th></th>\n",
       "      <th></th>\n",
       "      <th></th>\n",
       "      <th></th>\n",
       "      <th></th>\n",
       "      <th></th>\n",
       "      <th></th>\n",
       "      <th></th>\n",
       "      <th></th>\n",
       "      <th></th>\n",
       "      <th></th>\n",
       "    </tr>\n",
       "  </thead>\n",
       "  <tbody>\n",
       "    <tr>\n",
       "      <th rowspan=\"3\" valign=\"top\">200</th>\n",
       "      <th rowspan=\"3\" valign=\"top\">0.1</th>\n",
       "      <th>0.0001</th>\n",
       "      <td>0.682759</td>\n",
       "      <td>0.654840</td>\n",
       "      <td>0.653512</td>\n",
       "      <td>0.656568</td>\n",
       "      <td>0.885924</td>\n",
       "      <td>0.878090</td>\n",
       "      <td>0.881594</td>\n",
       "      <td>0.875147</td>\n",
       "      <td>20.0</td>\n",
       "      <td>1.0</td>\n",
       "      <td>1.0</td>\n",
       "      <td>45.333333</td>\n",
       "      <td>2.0</td>\n",
       "      <td>1.0</td>\n",
       "      <td>5.0</td>\n",
       "      <td>64.0</td>\n",
       "      <td>2.0</td>\n",
       "    </tr>\n",
       "    <tr>\n",
       "      <th>0.0005</th>\n",
       "      <td>0.674806</td>\n",
       "      <td>0.648616</td>\n",
       "      <td>0.647187</td>\n",
       "      <td>0.652051</td>\n",
       "      <td>0.901874</td>\n",
       "      <td>0.896105</td>\n",
       "      <td>0.895872</td>\n",
       "      <td>0.896612</td>\n",
       "      <td>20.0</td>\n",
       "      <td>1.0</td>\n",
       "      <td>1.0</td>\n",
       "      <td>45.333333</td>\n",
       "      <td>2.0</td>\n",
       "      <td>1.0</td>\n",
       "      <td>5.0</td>\n",
       "      <td>64.0</td>\n",
       "      <td>1.0</td>\n",
       "    </tr>\n",
       "    <tr>\n",
       "      <th>0.0010</th>\n",
       "      <td>0.676235</td>\n",
       "      <td>0.652676</td>\n",
       "      <td>0.650892</td>\n",
       "      <td>0.657744</td>\n",
       "      <td>0.899133</td>\n",
       "      <td>0.893166</td>\n",
       "      <td>0.893084</td>\n",
       "      <td>0.893537</td>\n",
       "      <td>20.0</td>\n",
       "      <td>1.0</td>\n",
       "      <td>1.0</td>\n",
       "      <td>45.333333</td>\n",
       "      <td>2.0</td>\n",
       "      <td>1.0</td>\n",
       "      <td>5.0</td>\n",
       "      <td>64.0</td>\n",
       "      <td>0.0</td>\n",
       "    </tr>\n",
       "    <tr>\n",
       "      <th rowspan=\"3\" valign=\"top\">300</th>\n",
       "      <th rowspan=\"3\" valign=\"top\">0.1</th>\n",
       "      <th>0.0001</th>\n",
       "      <td>0.666418</td>\n",
       "      <td>0.639585</td>\n",
       "      <td>0.637908</td>\n",
       "      <td>0.642402</td>\n",
       "      <td>0.898863</td>\n",
       "      <td>0.892320</td>\n",
       "      <td>0.894238</td>\n",
       "      <td>0.890604</td>\n",
       "      <td>20.0</td>\n",
       "      <td>1.0</td>\n",
       "      <td>1.0</td>\n",
       "      <td>45.333333</td>\n",
       "      <td>2.0</td>\n",
       "      <td>1.0</td>\n",
       "      <td>5.0</td>\n",
       "      <td>64.0</td>\n",
       "      <td>5.0</td>\n",
       "    </tr>\n",
       "    <tr>\n",
       "      <th>0.0005</th>\n",
       "      <td>0.672010</td>\n",
       "      <td>0.647633</td>\n",
       "      <td>0.645636</td>\n",
       "      <td>0.651870</td>\n",
       "      <td>0.902772</td>\n",
       "      <td>0.897021</td>\n",
       "      <td>0.896757</td>\n",
       "      <td>0.897293</td>\n",
       "      <td>20.0</td>\n",
       "      <td>1.0</td>\n",
       "      <td>1.0</td>\n",
       "      <td>45.333333</td>\n",
       "      <td>2.0</td>\n",
       "      <td>1.0</td>\n",
       "      <td>5.0</td>\n",
       "      <td>64.0</td>\n",
       "      <td>4.0</td>\n",
       "    </tr>\n",
       "    <tr>\n",
       "      <th>0.0010</th>\n",
       "      <td>0.669525</td>\n",
       "      <td>0.647543</td>\n",
       "      <td>0.645832</td>\n",
       "      <td>0.653814</td>\n",
       "      <td>0.894954</td>\n",
       "      <td>0.888969</td>\n",
       "      <td>0.888064</td>\n",
       "      <td>0.890161</td>\n",
       "      <td>20.0</td>\n",
       "      <td>1.0</td>\n",
       "      <td>1.0</td>\n",
       "      <td>45.333333</td>\n",
       "      <td>2.0</td>\n",
       "      <td>1.0</td>\n",
       "      <td>5.0</td>\n",
       "      <td>64.0</td>\n",
       "      <td>3.0</td>\n",
       "    </tr>\n",
       "    <tr>\n",
       "      <th rowspan=\"3\" valign=\"top\">400</th>\n",
       "      <th rowspan=\"3\" valign=\"top\">0.1</th>\n",
       "      <th>0.0001</th>\n",
       "      <td>0.671513</td>\n",
       "      <td>0.643100</td>\n",
       "      <td>0.641838</td>\n",
       "      <td>0.645008</td>\n",
       "      <td>0.897875</td>\n",
       "      <td>0.891087</td>\n",
       "      <td>0.893757</td>\n",
       "      <td>0.888764</td>\n",
       "      <td>20.0</td>\n",
       "      <td>1.0</td>\n",
       "      <td>1.0</td>\n",
       "      <td>45.333333</td>\n",
       "      <td>2.0</td>\n",
       "      <td>1.0</td>\n",
       "      <td>5.0</td>\n",
       "      <td>64.0</td>\n",
       "      <td>8.0</td>\n",
       "    </tr>\n",
       "    <tr>\n",
       "      <th>0.0005</th>\n",
       "      <td>0.674930</td>\n",
       "      <td>0.650983</td>\n",
       "      <td>0.648890</td>\n",
       "      <td>0.655428</td>\n",
       "      <td>0.901963</td>\n",
       "      <td>0.896098</td>\n",
       "      <td>0.896105</td>\n",
       "      <td>0.896096</td>\n",
       "      <td>20.0</td>\n",
       "      <td>1.0</td>\n",
       "      <td>1.0</td>\n",
       "      <td>45.333333</td>\n",
       "      <td>2.0</td>\n",
       "      <td>1.0</td>\n",
       "      <td>5.0</td>\n",
       "      <td>64.0</td>\n",
       "      <td>7.0</td>\n",
       "    </tr>\n",
       "    <tr>\n",
       "      <th>0.0010</th>\n",
       "      <td>0.668468</td>\n",
       "      <td>0.644672</td>\n",
       "      <td>0.643012</td>\n",
       "      <td>0.649761</td>\n",
       "      <td>0.891360</td>\n",
       "      <td>0.884854</td>\n",
       "      <td>0.884857</td>\n",
       "      <td>0.884971</td>\n",
       "      <td>20.0</td>\n",
       "      <td>1.0</td>\n",
       "      <td>1.0</td>\n",
       "      <td>45.333333</td>\n",
       "      <td>2.0</td>\n",
       "      <td>1.0</td>\n",
       "      <td>5.0</td>\n",
       "      <td>64.0</td>\n",
       "      <td>6.0</td>\n",
       "    </tr>\n",
       "  </tbody>\n",
       "</table>\n",
       "</div>"
      ],
      "text/plain": [
       "                                       accuracy        f1  precision  \\\n",
       "hidden_dim dropout_rate learning_rate                                  \n",
       "200        0.1          0.0001         0.682759  0.654840   0.653512   \n",
       "                        0.0005         0.674806  0.648616   0.647187   \n",
       "                        0.0010         0.676235  0.652676   0.650892   \n",
       "300        0.1          0.0001         0.666418  0.639585   0.637908   \n",
       "                        0.0005         0.672010  0.647633   0.645636   \n",
       "                        0.0010         0.669525  0.647543   0.645832   \n",
       "400        0.1          0.0001         0.671513  0.643100   0.641838   \n",
       "                        0.0005         0.674930  0.650983   0.648890   \n",
       "                        0.0010         0.668468  0.644672   0.643012   \n",
       "\n",
       "                                         recall  valid_accuracy  valid_f1  \\\n",
       "hidden_dim dropout_rate learning_rate                                       \n",
       "200        0.1          0.0001         0.656568        0.885924  0.878090   \n",
       "                        0.0005         0.652051        0.901874  0.896105   \n",
       "                        0.0010         0.657744        0.899133  0.893166   \n",
       "300        0.1          0.0001         0.642402        0.898863  0.892320   \n",
       "                        0.0005         0.651870        0.902772  0.897021   \n",
       "                        0.0010         0.653814        0.894954  0.888969   \n",
       "400        0.1          0.0001         0.645008        0.897875  0.891087   \n",
       "                        0.0005         0.655428        0.901963  0.896098   \n",
       "                        0.0010         0.649761        0.891360  0.884854   \n",
       "\n",
       "                                       valid_precision  valid_recall     k  \\\n",
       "hidden_dim dropout_rate learning_rate                                        \n",
       "200        0.1          0.0001                0.881594      0.875147  20.0   \n",
       "                        0.0005                0.895872      0.896612  20.0   \n",
       "                        0.0010                0.893084      0.893537  20.0   \n",
       "300        0.1          0.0001                0.894238      0.890604  20.0   \n",
       "                        0.0005                0.896757      0.897293  20.0   \n",
       "                        0.0010                0.888064      0.890161  20.0   \n",
       "400        0.1          0.0001                0.893757      0.888764  20.0   \n",
       "                        0.0005                0.896105      0.896096  20.0   \n",
       "                        0.0010                0.884857      0.884971  20.0   \n",
       "\n",
       "                                       num_layers  bidirectional       seed  \\\n",
       "hidden_dim dropout_rate learning_rate                                         \n",
       "200        0.1          0.0001                1.0            1.0  45.333333   \n",
       "                        0.0005                1.0            1.0  45.333333   \n",
       "                        0.0010                1.0            1.0  45.333333   \n",
       "300        0.1          0.0001                1.0            1.0  45.333333   \n",
       "                        0.0005                1.0            1.0  45.333333   \n",
       "                        0.0010                1.0            1.0  45.333333   \n",
       "400        0.1          0.0001                1.0            1.0  45.333333   \n",
       "                        0.0005                1.0            1.0  45.333333   \n",
       "                        0.0010                1.0            1.0  45.333333   \n",
       "\n",
       "                                       gamma  k_fold  n_splits  batch_size  \\\n",
       "hidden_dim dropout_rate learning_rate                                        \n",
       "200        0.1          0.0001           2.0     1.0       5.0        64.0   \n",
       "                        0.0005           2.0     1.0       5.0        64.0   \n",
       "                        0.0010           2.0     1.0       5.0        64.0   \n",
       "300        0.1          0.0001           2.0     1.0       5.0        64.0   \n",
       "                        0.0005           2.0     1.0       5.0        64.0   \n",
       "                        0.0010           2.0     1.0       5.0        64.0   \n",
       "400        0.1          0.0001           2.0     1.0       5.0        64.0   \n",
       "                        0.0005           2.0     1.0       5.0        64.0   \n",
       "                        0.0010           2.0     1.0       5.0        64.0   \n",
       "\n",
       "                                       model_id  \n",
       "hidden_dim dropout_rate learning_rate            \n",
       "200        0.1          0.0001              2.0  \n",
       "                        0.0005              1.0  \n",
       "                        0.0010              0.0  \n",
       "300        0.1          0.0001              5.0  \n",
       "                        0.0005              4.0  \n",
       "                        0.0010              3.0  \n",
       "400        0.1          0.0001              8.0  \n",
       "                        0.0005              7.0  \n",
       "                        0.0010              6.0  "
      ]
     },
     "execution_count": 32,
     "metadata": {},
     "output_type": "execute_result"
    }
   ],
   "source": [
    "bilstm_history_20.groupby([\"hidden_dim\", \"dropout_rate\", \"learning_rate\"]).mean()"
   ]
  },
  {
   "cell_type": "code",
   "execution_count": 33,
   "metadata": {},
   "outputs": [
    {
     "data": {
      "text/html": [
       "<div>\n",
       "<style scoped>\n",
       "    .dataframe tbody tr th:only-of-type {\n",
       "        vertical-align: middle;\n",
       "    }\n",
       "\n",
       "    .dataframe tbody tr th {\n",
       "        vertical-align: top;\n",
       "    }\n",
       "\n",
       "    .dataframe thead th {\n",
       "        text-align: right;\n",
       "    }\n",
       "</style>\n",
       "<table border=\"1\" class=\"dataframe\">\n",
       "  <thead>\n",
       "    <tr style=\"text-align: right;\">\n",
       "      <th></th>\n",
       "      <th>loss</th>\n",
       "      <th>accuracy</th>\n",
       "      <th>f1</th>\n",
       "      <th>f1_scores</th>\n",
       "      <th>precision</th>\n",
       "      <th>precision_scores</th>\n",
       "      <th>recall</th>\n",
       "      <th>recall_scores</th>\n",
       "      <th>valid_loss</th>\n",
       "      <th>valid_accuracy</th>\n",
       "      <th>...</th>\n",
       "      <th>bidirectional</th>\n",
       "      <th>hidden_dim</th>\n",
       "      <th>dropout_rate</th>\n",
       "      <th>learning_rate</th>\n",
       "      <th>seed</th>\n",
       "      <th>loss_function</th>\n",
       "      <th>gamma</th>\n",
       "      <th>k_fold</th>\n",
       "      <th>n_splits</th>\n",
       "      <th>batch_size</th>\n",
       "    </tr>\n",
       "  </thead>\n",
       "  <tbody>\n",
       "    <tr>\n",
       "      <th>0</th>\n",
       "      <td>None</td>\n",
       "      <td>0.674744</td>\n",
       "      <td>0.649944</td>\n",
       "      <td>[0.7431179155012513, 0.556769113538227]</td>\n",
       "      <td>0.647865</td>\n",
       "      <td>[0.7636913767019667, 0.5320388349514563]</td>\n",
       "      <td>0.653767</td>\n",
       "      <td>[0.7236238532110092, 0.5839104954714971]</td>\n",
       "      <td>None</td>\n",
       "      <td>0.902278</td>\n",
       "      <td>...</td>\n",
       "      <td>True</td>\n",
       "      <td>300</td>\n",
       "      <td>0.1</td>\n",
       "      <td>0.0005</td>\n",
       "      <td>1</td>\n",
       "      <td>focal</td>\n",
       "      <td>2</td>\n",
       "      <td>True</td>\n",
       "      <td>5</td>\n",
       "      <td>64</td>\n",
       "    </tr>\n",
       "    <tr>\n",
       "      <th>0</th>\n",
       "      <td>None</td>\n",
       "      <td>0.672507</td>\n",
       "      <td>0.646003</td>\n",
       "      <td>[0.7428655056344211, 0.5491403643828586]</td>\n",
       "      <td>0.644224</td>\n",
       "      <td>[0.758744394618834, 0.5297029702970297]</td>\n",
       "      <td>0.648848</td>\n",
       "      <td>[0.7276376146788991, 0.5700586041555674]</td>\n",
       "      <td>None</td>\n",
       "      <td>0.899852</td>\n",
       "      <td>...</td>\n",
       "      <td>True</td>\n",
       "      <td>300</td>\n",
       "      <td>0.1</td>\n",
       "      <td>0.0005</td>\n",
       "      <td>12</td>\n",
       "      <td>focal</td>\n",
       "      <td>2</td>\n",
       "      <td>True</td>\n",
       "      <td>5</td>\n",
       "      <td>64</td>\n",
       "    </tr>\n",
       "    <tr>\n",
       "      <th>0</th>\n",
       "      <td>None</td>\n",
       "      <td>0.668593</td>\n",
       "      <td>0.646788</td>\n",
       "      <td>[0.7345476261570618, 0.5590277777777778]</td>\n",
       "      <td>0.644662</td>\n",
       "      <td>[0.7663551401869159, 0.522969837587007]</td>\n",
       "      <td>0.652851</td>\n",
       "      <td>[0.7052752293577982, 0.6004262120404902]</td>\n",
       "      <td>None</td>\n",
       "      <td>0.906187</td>\n",
       "      <td>...</td>\n",
       "      <td>True</td>\n",
       "      <td>300</td>\n",
       "      <td>0.1</td>\n",
       "      <td>0.0005</td>\n",
       "      <td>123</td>\n",
       "      <td>focal</td>\n",
       "      <td>2</td>\n",
       "      <td>True</td>\n",
       "      <td>5</td>\n",
       "      <td>64</td>\n",
       "    </tr>\n",
       "  </tbody>\n",
       "</table>\n",
       "<p>3 rows × 27 columns</p>\n",
       "</div>"
      ],
      "text/plain": [
       "   loss  accuracy        f1                                 f1_scores  \\\n",
       "0  None  0.674744  0.649944   [0.7431179155012513, 0.556769113538227]   \n",
       "0  None  0.672507  0.646003  [0.7428655056344211, 0.5491403643828586]   \n",
       "0  None  0.668593  0.646788  [0.7345476261570618, 0.5590277777777778]   \n",
       "\n",
       "   precision                          precision_scores    recall  \\\n",
       "0   0.647865  [0.7636913767019667, 0.5320388349514563]  0.653767   \n",
       "0   0.644224   [0.758744394618834, 0.5297029702970297]  0.648848   \n",
       "0   0.644662   [0.7663551401869159, 0.522969837587007]  0.652851   \n",
       "\n",
       "                              recall_scores valid_loss  valid_accuracy  ...  \\\n",
       "0  [0.7236238532110092, 0.5839104954714971]       None        0.902278  ...   \n",
       "0  [0.7276376146788991, 0.5700586041555674]       None        0.899852  ...   \n",
       "0  [0.7052752293577982, 0.6004262120404902]       None        0.906187  ...   \n",
       "\n",
       "   bidirectional hidden_dim  dropout_rate learning_rate  seed loss_function  \\\n",
       "0           True        300           0.1        0.0005     1         focal   \n",
       "0           True        300           0.1        0.0005    12         focal   \n",
       "0           True        300           0.1        0.0005   123         focal   \n",
       "\n",
       "   gamma  k_fold  n_splits  batch_size  \n",
       "0      2    True         5          64  \n",
       "0      2    True         5          64  \n",
       "0      2    True         5          64  \n",
       "\n",
       "[3 rows x 27 columns]"
      ]
     },
     "execution_count": 33,
     "metadata": {},
     "output_type": "execute_result"
    }
   ],
   "source": [
    "best_bilstm_history_20"
   ]
  },
  {
   "cell_type": "code",
   "execution_count": 34,
   "metadata": {},
   "outputs": [
    {
     "data": {
      "text/plain": [
       "0.6475780504985996"
      ]
     },
     "execution_count": 34,
     "metadata": {},
     "output_type": "execute_result"
    }
   ],
   "source": [
    "best_bilstm_history_20[\"f1\"].mean()"
   ]
  },
  {
   "cell_type": "code",
   "execution_count": 35,
   "metadata": {},
   "outputs": [
    {
     "data": {
      "text/plain": [
       "0.6455837590572017"
      ]
     },
     "execution_count": 35,
     "metadata": {},
     "output_type": "execute_result"
    }
   ],
   "source": [
    "best_bilstm_history_20[\"precision\"].mean()"
   ]
  },
  {
   "cell_type": "code",
   "execution_count": 36,
   "metadata": {},
   "outputs": [
    {
     "data": {
      "text/plain": [
       "0.6518220014858769"
      ]
     },
     "execution_count": 36,
     "metadata": {},
     "output_type": "execute_result"
    }
   ],
   "source": [
    "best_bilstm_history_20[\"recall\"].mean()"
   ]
  },
  {
   "cell_type": "code",
   "execution_count": 37,
   "metadata": {
    "scrolled": true
   },
   "outputs": [
    {
     "data": {
      "text/plain": [
       "array([0.74017702, 0.55497909])"
      ]
     },
     "execution_count": 37,
     "metadata": {},
     "output_type": "execute_result"
    }
   ],
   "source": [
    "np.stack(best_bilstm_history_20[\"f1_scores\"]).mean(axis=0)"
   ]
  },
  {
   "cell_type": "code",
   "execution_count": 38,
   "metadata": {},
   "outputs": [
    {
     "data": {
      "text/plain": [
       "array([0.7629303 , 0.52823721])"
      ]
     },
     "execution_count": 38,
     "metadata": {},
     "output_type": "execute_result"
    }
   ],
   "source": [
    "np.stack(best_bilstm_history_20[\"precision_scores\"]).mean(axis=0)"
   ]
  },
  {
   "cell_type": "code",
   "execution_count": 39,
   "metadata": {},
   "outputs": [
    {
     "data": {
      "text/plain": [
       "array([0.71884557, 0.58479844])"
      ]
     },
     "execution_count": 39,
     "metadata": {},
     "output_type": "execute_result"
    }
   ],
   "source": [
    "np.stack(best_bilstm_history_20[\"recall_scores\"]).mean(axis=0)"
   ]
  },
  {
   "cell_type": "markdown",
   "metadata": {
    "tags": []
   },
   "source": [
    "## history_length=35"
   ]
  },
  {
   "cell_type": "code",
   "execution_count": 40,
   "metadata": {},
   "outputs": [],
   "source": [
    "size = 35"
   ]
  },
  {
   "cell_type": "code",
   "execution_count": 41,
   "metadata": {},
   "outputs": [
    {
     "data": {
      "application/vnd.jupyter.widget-view+json": {
       "model_id": "f1c5cf55a22345008021f4e15cc4ae86",
       "version_major": 2,
       "version_minor": 0
      },
      "text/plain": [
       "  0%|          | 0/1 [00:00<?, ?it/s]"
      ]
     },
     "metadata": {},
     "output_type": "display_data"
    },
    {
     "name": "stdout",
     "output_type": "stream",
     "text": [
      "[INFO] Concatenating the embeddings to the dataframe...\n",
      "[INFO] - columns beginning with 'e' denote the full embddings.\n",
      "[INFO] Adding time feature columns into dataframe in `.df`.\n",
      "[INFO] Adding 'time_encoding' feature...\n",
      "[INFO] Adding 'time_diff' feature...\n",
      "[INFO] Adding 'timeline_index' feature...\n",
      "[INFO] Padding ids and storing in `.df_padded` and `.array_padded` attributes.\n"
     ]
    },
    {
     "data": {
      "application/vnd.jupyter.widget-view+json": {
       "model_id": "67ef4f4ab5b74138bcd77fe71f10c8d6",
       "version_major": 2,
       "version_minor": 0
      },
      "text/plain": [
       "  0%|          | 0/5568 [00:00<?, ?it/s]"
      ]
     },
     "metadata": {},
     "output_type": "display_data"
    },
    {
     "data": {
      "application/vnd.jupyter.widget-view+json": {
       "model_id": "1af61e7f5afa4f0a8a771a872242da23",
       "version_major": 2,
       "version_minor": 0
      },
      "text/plain": [
       "  0%|          | 0/3 [00:00<?, ?it/s]"
      ]
     },
     "metadata": {},
     "output_type": "display_data"
    },
    {
     "data": {
      "application/vnd.jupyter.widget-view+json": {
       "model_id": "ee36f50f86284b4b91773afa6509c8ca",
       "version_major": 2,
       "version_minor": 0
      },
      "text/plain": [
       "  0%|          | 0/1 [00:00<?, ?it/s]"
      ]
     },
     "metadata": {},
     "output_type": "display_data"
    },
    {
     "data": {
      "application/vnd.jupyter.widget-view+json": {
       "model_id": "472ed30a42914351ab1532d8b0d08bb0",
       "version_major": 2,
       "version_minor": 0
      },
      "text/plain": [
       "  0%|          | 0/3 [00:00<?, ?it/s]"
      ]
     },
     "metadata": {},
     "output_type": "display_data"
    },
    {
     "data": {
      "application/vnd.jupyter.widget-view+json": {
       "model_id": "bdce55af4f3840d6b75e59376d3faffd",
       "version_major": 2,
       "version_minor": 0
      },
      "text/plain": [
       "  0%|          | 0/1 [00:00<?, ?it/s]"
      ]
     },
     "metadata": {},
     "output_type": "display_data"
    },
    {
     "data": {
      "application/vnd.jupyter.widget-view+json": {
       "model_id": "56e9c1d12b914ffda6910cc402b31777",
       "version_major": 2,
       "version_minor": 0
      },
      "text/plain": [
       "  0%|          | 0/3 [00:00<?, ?it/s]"
      ]
     },
     "metadata": {},
     "output_type": "display_data"
    },
    {
     "data": {
      "application/vnd.jupyter.widget-view+json": {
       "model_id": "1e2637733f4f4d3991d20fa717813e25",
       "version_major": 2,
       "version_minor": 0
      },
      "text/plain": [
       "  0%|          | 0/1 [00:00<?, ?it/s]"
      ]
     },
     "metadata": {},
     "output_type": "display_data"
    },
    {
     "data": {
      "application/vnd.jupyter.widget-view+json": {
       "model_id": "68d32a757f984627bdaadae4beacaecf",
       "version_major": 2,
       "version_minor": 0
      },
      "text/plain": [
       "  0%|          | 0/3 [00:00<?, ?it/s]"
      ]
     },
     "metadata": {},
     "output_type": "display_data"
    },
    {
     "name": "stdout",
     "output_type": "stream",
     "text": [
      "saving results dataframe to CSV for this hyperparameter search in rumours_output/lstm_history_35_focal_2.csv\n",
      "saving the best model results dataframe to CSV for this hyperparameter search in rumours_output/lstm_history_35_focal_2_best_model.csv\n"
     ]
    }
   ],
   "source": [
    "bilstm_history_35, best_bilstm_history_35, _, __ = lstm_hyperparameter_search(\n",
    "    history_lengths=[size],\n",
    "    results_output=f\"{output_dir}/lstm_history_{size}_focal_{gamma}_kfold.csv\",\n",
    "    **kwargs,\n",
    ")"
   ]
  },
  {
   "cell_type": "code",
   "execution_count": 42,
   "metadata": {},
   "outputs": [
    {
     "name": "stderr",
     "output_type": "stream",
     "text": [
      "/tmp/ipykernel_1337404/1307650554.py:1: FutureWarning: The default value of numeric_only in DataFrameGroupBy.mean is deprecated. In a future version, numeric_only will default to False. Either specify numeric_only or select only columns which should be valid for the function.\n",
      "  bilstm_history_35.groupby([\"hidden_dim\", \"dropout_rate\", \"learning_rate\"]).mean()\n"
     ]
    },
    {
     "data": {
      "text/html": [
       "<div>\n",
       "<style scoped>\n",
       "    .dataframe tbody tr th:only-of-type {\n",
       "        vertical-align: middle;\n",
       "    }\n",
       "\n",
       "    .dataframe tbody tr th {\n",
       "        vertical-align: top;\n",
       "    }\n",
       "\n",
       "    .dataframe thead th {\n",
       "        text-align: right;\n",
       "    }\n",
       "</style>\n",
       "<table border=\"1\" class=\"dataframe\">\n",
       "  <thead>\n",
       "    <tr style=\"text-align: right;\">\n",
       "      <th></th>\n",
       "      <th></th>\n",
       "      <th></th>\n",
       "      <th>accuracy</th>\n",
       "      <th>f1</th>\n",
       "      <th>precision</th>\n",
       "      <th>recall</th>\n",
       "      <th>valid_accuracy</th>\n",
       "      <th>valid_f1</th>\n",
       "      <th>valid_precision</th>\n",
       "      <th>valid_recall</th>\n",
       "      <th>k</th>\n",
       "      <th>num_layers</th>\n",
       "      <th>bidirectional</th>\n",
       "      <th>seed</th>\n",
       "      <th>gamma</th>\n",
       "      <th>k_fold</th>\n",
       "      <th>n_splits</th>\n",
       "      <th>batch_size</th>\n",
       "      <th>model_id</th>\n",
       "    </tr>\n",
       "    <tr>\n",
       "      <th>hidden_dim</th>\n",
       "      <th>dropout_rate</th>\n",
       "      <th>learning_rate</th>\n",
       "      <th></th>\n",
       "      <th></th>\n",
       "      <th></th>\n",
       "      <th></th>\n",
       "      <th></th>\n",
       "      <th></th>\n",
       "      <th></th>\n",
       "      <th></th>\n",
       "      <th></th>\n",
       "      <th></th>\n",
       "      <th></th>\n",
       "      <th></th>\n",
       "      <th></th>\n",
       "      <th></th>\n",
       "      <th></th>\n",
       "      <th></th>\n",
       "      <th></th>\n",
       "    </tr>\n",
       "  </thead>\n",
       "  <tbody>\n",
       "    <tr>\n",
       "      <th rowspan=\"3\" valign=\"top\">200</th>\n",
       "      <th rowspan=\"3\" valign=\"top\">0.1</th>\n",
       "      <th>0.0001</th>\n",
       "      <td>0.687978</td>\n",
       "      <td>0.652521</td>\n",
       "      <td>0.654900</td>\n",
       "      <td>0.650739</td>\n",
       "      <td>0.891989</td>\n",
       "      <td>0.884642</td>\n",
       "      <td>0.887940</td>\n",
       "      <td>0.881881</td>\n",
       "      <td>35.0</td>\n",
       "      <td>1.0</td>\n",
       "      <td>1.0</td>\n",
       "      <td>45.333333</td>\n",
       "      <td>2.0</td>\n",
       "      <td>1.0</td>\n",
       "      <td>5.0</td>\n",
       "      <td>64.0</td>\n",
       "      <td>2.0</td>\n",
       "    </tr>\n",
       "    <tr>\n",
       "      <th>0.0005</th>\n",
       "      <td>0.681516</td>\n",
       "      <td>0.651005</td>\n",
       "      <td>0.650650</td>\n",
       "      <td>0.651511</td>\n",
       "      <td>0.908838</td>\n",
       "      <td>0.903415</td>\n",
       "      <td>0.903284</td>\n",
       "      <td>0.903551</td>\n",
       "      <td>35.0</td>\n",
       "      <td>1.0</td>\n",
       "      <td>1.0</td>\n",
       "      <td>45.333333</td>\n",
       "      <td>2.0</td>\n",
       "      <td>1.0</td>\n",
       "      <td>5.0</td>\n",
       "      <td>64.0</td>\n",
       "      <td>1.0</td>\n",
       "    </tr>\n",
       "    <tr>\n",
       "      <th>0.0010</th>\n",
       "      <td>0.675427</td>\n",
       "      <td>0.650450</td>\n",
       "      <td>0.648426</td>\n",
       "      <td>0.654211</td>\n",
       "      <td>0.905693</td>\n",
       "      <td>0.900196</td>\n",
       "      <td>0.899654</td>\n",
       "      <td>0.900807</td>\n",
       "      <td>35.0</td>\n",
       "      <td>1.0</td>\n",
       "      <td>1.0</td>\n",
       "      <td>45.333333</td>\n",
       "      <td>2.0</td>\n",
       "      <td>1.0</td>\n",
       "      <td>5.0</td>\n",
       "      <td>64.0</td>\n",
       "      <td>0.0</td>\n",
       "    </tr>\n",
       "    <tr>\n",
       "      <th rowspan=\"3\" valign=\"top\">300</th>\n",
       "      <th rowspan=\"3\" valign=\"top\">0.1</th>\n",
       "      <th>0.0001</th>\n",
       "      <td>0.681951</td>\n",
       "      <td>0.647335</td>\n",
       "      <td>0.648807</td>\n",
       "      <td>0.646145</td>\n",
       "      <td>0.897111</td>\n",
       "      <td>0.890393</td>\n",
       "      <td>0.892564</td>\n",
       "      <td>0.888509</td>\n",
       "      <td>35.0</td>\n",
       "      <td>1.0</td>\n",
       "      <td>1.0</td>\n",
       "      <td>45.333333</td>\n",
       "      <td>2.0</td>\n",
       "      <td>1.0</td>\n",
       "      <td>5.0</td>\n",
       "      <td>64.0</td>\n",
       "      <td>5.0</td>\n",
       "    </tr>\n",
       "    <tr>\n",
       "      <th>0.0005</th>\n",
       "      <td>0.677415</td>\n",
       "      <td>0.648544</td>\n",
       "      <td>0.647419</td>\n",
       "      <td>0.649957</td>\n",
       "      <td>0.910006</td>\n",
       "      <td>0.904686</td>\n",
       "      <td>0.904412</td>\n",
       "      <td>0.904971</td>\n",
       "      <td>35.0</td>\n",
       "      <td>1.0</td>\n",
       "      <td>1.0</td>\n",
       "      <td>45.333333</td>\n",
       "      <td>2.0</td>\n",
       "      <td>1.0</td>\n",
       "      <td>5.0</td>\n",
       "      <td>64.0</td>\n",
       "      <td>4.0</td>\n",
       "    </tr>\n",
       "    <tr>\n",
       "      <th>0.0010</th>\n",
       "      <td>0.677167</td>\n",
       "      <td>0.652458</td>\n",
       "      <td>0.650826</td>\n",
       "      <td>0.656328</td>\n",
       "      <td>0.902458</td>\n",
       "      <td>0.896900</td>\n",
       "      <td>0.895851</td>\n",
       "      <td>0.898034</td>\n",
       "      <td>35.0</td>\n",
       "      <td>1.0</td>\n",
       "      <td>1.0</td>\n",
       "      <td>45.333333</td>\n",
       "      <td>2.0</td>\n",
       "      <td>1.0</td>\n",
       "      <td>5.0</td>\n",
       "      <td>64.0</td>\n",
       "      <td>3.0</td>\n",
       "    </tr>\n",
       "    <tr>\n",
       "      <th rowspan=\"3\" valign=\"top\">400</th>\n",
       "      <th rowspan=\"3\" valign=\"top\">0.1</th>\n",
       "      <th>0.0001</th>\n",
       "      <td>0.682262</td>\n",
       "      <td>0.644244</td>\n",
       "      <td>0.647752</td>\n",
       "      <td>0.642037</td>\n",
       "      <td>0.900930</td>\n",
       "      <td>0.894142</td>\n",
       "      <td>0.897789</td>\n",
       "      <td>0.891142</td>\n",
       "      <td>35.0</td>\n",
       "      <td>1.0</td>\n",
       "      <td>1.0</td>\n",
       "      <td>45.333333</td>\n",
       "      <td>2.0</td>\n",
       "      <td>1.0</td>\n",
       "      <td>5.0</td>\n",
       "      <td>64.0</td>\n",
       "      <td>8.0</td>\n",
       "    </tr>\n",
       "    <tr>\n",
       "      <th>0.0005</th>\n",
       "      <td>0.676173</td>\n",
       "      <td>0.648847</td>\n",
       "      <td>0.647489</td>\n",
       "      <td>0.651257</td>\n",
       "      <td>0.907220</td>\n",
       "      <td>0.901652</td>\n",
       "      <td>0.901737</td>\n",
       "      <td>0.901611</td>\n",
       "      <td>35.0</td>\n",
       "      <td>1.0</td>\n",
       "      <td>1.0</td>\n",
       "      <td>45.333333</td>\n",
       "      <td>2.0</td>\n",
       "      <td>1.0</td>\n",
       "      <td>5.0</td>\n",
       "      <td>64.0</td>\n",
       "      <td>7.0</td>\n",
       "    </tr>\n",
       "    <tr>\n",
       "      <th>0.0010</th>\n",
       "      <td>0.674682</td>\n",
       "      <td>0.649920</td>\n",
       "      <td>0.648090</td>\n",
       "      <td>0.653965</td>\n",
       "      <td>0.901469</td>\n",
       "      <td>0.895855</td>\n",
       "      <td>0.894883</td>\n",
       "      <td>0.896919</td>\n",
       "      <td>35.0</td>\n",
       "      <td>1.0</td>\n",
       "      <td>1.0</td>\n",
       "      <td>45.333333</td>\n",
       "      <td>2.0</td>\n",
       "      <td>1.0</td>\n",
       "      <td>5.0</td>\n",
       "      <td>64.0</td>\n",
       "      <td>6.0</td>\n",
       "    </tr>\n",
       "  </tbody>\n",
       "</table>\n",
       "</div>"
      ],
      "text/plain": [
       "                                       accuracy        f1  precision  \\\n",
       "hidden_dim dropout_rate learning_rate                                  \n",
       "200        0.1          0.0001         0.687978  0.652521   0.654900   \n",
       "                        0.0005         0.681516  0.651005   0.650650   \n",
       "                        0.0010         0.675427  0.650450   0.648426   \n",
       "300        0.1          0.0001         0.681951  0.647335   0.648807   \n",
       "                        0.0005         0.677415  0.648544   0.647419   \n",
       "                        0.0010         0.677167  0.652458   0.650826   \n",
       "400        0.1          0.0001         0.682262  0.644244   0.647752   \n",
       "                        0.0005         0.676173  0.648847   0.647489   \n",
       "                        0.0010         0.674682  0.649920   0.648090   \n",
       "\n",
       "                                         recall  valid_accuracy  valid_f1  \\\n",
       "hidden_dim dropout_rate learning_rate                                       \n",
       "200        0.1          0.0001         0.650739        0.891989  0.884642   \n",
       "                        0.0005         0.651511        0.908838  0.903415   \n",
       "                        0.0010         0.654211        0.905693  0.900196   \n",
       "300        0.1          0.0001         0.646145        0.897111  0.890393   \n",
       "                        0.0005         0.649957        0.910006  0.904686   \n",
       "                        0.0010         0.656328        0.902458  0.896900   \n",
       "400        0.1          0.0001         0.642037        0.900930  0.894142   \n",
       "                        0.0005         0.651257        0.907220  0.901652   \n",
       "                        0.0010         0.653965        0.901469  0.895855   \n",
       "\n",
       "                                       valid_precision  valid_recall     k  \\\n",
       "hidden_dim dropout_rate learning_rate                                        \n",
       "200        0.1          0.0001                0.887940      0.881881  35.0   \n",
       "                        0.0005                0.903284      0.903551  35.0   \n",
       "                        0.0010                0.899654      0.900807  35.0   \n",
       "300        0.1          0.0001                0.892564      0.888509  35.0   \n",
       "                        0.0005                0.904412      0.904971  35.0   \n",
       "                        0.0010                0.895851      0.898034  35.0   \n",
       "400        0.1          0.0001                0.897789      0.891142  35.0   \n",
       "                        0.0005                0.901737      0.901611  35.0   \n",
       "                        0.0010                0.894883      0.896919  35.0   \n",
       "\n",
       "                                       num_layers  bidirectional       seed  \\\n",
       "hidden_dim dropout_rate learning_rate                                         \n",
       "200        0.1          0.0001                1.0            1.0  45.333333   \n",
       "                        0.0005                1.0            1.0  45.333333   \n",
       "                        0.0010                1.0            1.0  45.333333   \n",
       "300        0.1          0.0001                1.0            1.0  45.333333   \n",
       "                        0.0005                1.0            1.0  45.333333   \n",
       "                        0.0010                1.0            1.0  45.333333   \n",
       "400        0.1          0.0001                1.0            1.0  45.333333   \n",
       "                        0.0005                1.0            1.0  45.333333   \n",
       "                        0.0010                1.0            1.0  45.333333   \n",
       "\n",
       "                                       gamma  k_fold  n_splits  batch_size  \\\n",
       "hidden_dim dropout_rate learning_rate                                        \n",
       "200        0.1          0.0001           2.0     1.0       5.0        64.0   \n",
       "                        0.0005           2.0     1.0       5.0        64.0   \n",
       "                        0.0010           2.0     1.0       5.0        64.0   \n",
       "300        0.1          0.0001           2.0     1.0       5.0        64.0   \n",
       "                        0.0005           2.0     1.0       5.0        64.0   \n",
       "                        0.0010           2.0     1.0       5.0        64.0   \n",
       "400        0.1          0.0001           2.0     1.0       5.0        64.0   \n",
       "                        0.0005           2.0     1.0       5.0        64.0   \n",
       "                        0.0010           2.0     1.0       5.0        64.0   \n",
       "\n",
       "                                       model_id  \n",
       "hidden_dim dropout_rate learning_rate            \n",
       "200        0.1          0.0001              2.0  \n",
       "                        0.0005              1.0  \n",
       "                        0.0010              0.0  \n",
       "300        0.1          0.0001              5.0  \n",
       "                        0.0005              4.0  \n",
       "                        0.0010              3.0  \n",
       "400        0.1          0.0001              8.0  \n",
       "                        0.0005              7.0  \n",
       "                        0.0010              6.0  "
      ]
     },
     "execution_count": 42,
     "metadata": {},
     "output_type": "execute_result"
    }
   ],
   "source": [
    "bilstm_history_35.groupby([\"hidden_dim\", \"dropout_rate\", \"learning_rate\"]).mean()"
   ]
  },
  {
   "cell_type": "code",
   "execution_count": 43,
   "metadata": {},
   "outputs": [
    {
     "data": {
      "text/html": [
       "<div>\n",
       "<style scoped>\n",
       "    .dataframe tbody tr th:only-of-type {\n",
       "        vertical-align: middle;\n",
       "    }\n",
       "\n",
       "    .dataframe tbody tr th {\n",
       "        vertical-align: top;\n",
       "    }\n",
       "\n",
       "    .dataframe thead th {\n",
       "        text-align: right;\n",
       "    }\n",
       "</style>\n",
       "<table border=\"1\" class=\"dataframe\">\n",
       "  <thead>\n",
       "    <tr style=\"text-align: right;\">\n",
       "      <th></th>\n",
       "      <th>loss</th>\n",
       "      <th>accuracy</th>\n",
       "      <th>f1</th>\n",
       "      <th>f1_scores</th>\n",
       "      <th>precision</th>\n",
       "      <th>precision_scores</th>\n",
       "      <th>recall</th>\n",
       "      <th>recall_scores</th>\n",
       "      <th>valid_loss</th>\n",
       "      <th>valid_accuracy</th>\n",
       "      <th>...</th>\n",
       "      <th>bidirectional</th>\n",
       "      <th>hidden_dim</th>\n",
       "      <th>dropout_rate</th>\n",
       "      <th>learning_rate</th>\n",
       "      <th>seed</th>\n",
       "      <th>loss_function</th>\n",
       "      <th>gamma</th>\n",
       "      <th>k_fold</th>\n",
       "      <th>n_splits</th>\n",
       "      <th>batch_size</th>\n",
       "    </tr>\n",
       "  </thead>\n",
       "  <tbody>\n",
       "    <tr>\n",
       "      <th>0</th>\n",
       "      <td>None</td>\n",
       "      <td>0.675116</td>\n",
       "      <td>0.645944</td>\n",
       "      <td>[0.7475742215785662, 0.544313725490196]</td>\n",
       "      <td>0.644868</td>\n",
       "      <td>[0.755340942347088, 0.534394250513347]</td>\n",
       "      <td>0.647287</td>\n",
       "      <td>[0.7399655963302753, 0.5546084176877997]</td>\n",
       "      <td>None</td>\n",
       "      <td>0.909826</td>\n",
       "      <td>...</td>\n",
       "      <td>True</td>\n",
       "      <td>300</td>\n",
       "      <td>0.1</td>\n",
       "      <td>0.0005</td>\n",
       "      <td>1</td>\n",
       "      <td>focal</td>\n",
       "      <td>2</td>\n",
       "      <td>True</td>\n",
       "      <td>5</td>\n",
       "      <td>64</td>\n",
       "    </tr>\n",
       "    <tr>\n",
       "      <th>0</th>\n",
       "      <td>None</td>\n",
       "      <td>0.679404</td>\n",
       "      <td>0.650412</td>\n",
       "      <td>[0.7510853835021708, 0.5497382198952879]</td>\n",
       "      <td>0.649365</td>\n",
       "      <td>[0.7583284628872005, 0.5404014410705095]</td>\n",
       "      <td>0.651691</td>\n",
       "      <td>[0.7439793577981652, 0.5594033031433138]</td>\n",
       "      <td>None</td>\n",
       "      <td>0.913600</td>\n",
       "      <td>...</td>\n",
       "      <td>True</td>\n",
       "      <td>300</td>\n",
       "      <td>0.1</td>\n",
       "      <td>0.0005</td>\n",
       "      <td>12</td>\n",
       "      <td>focal</td>\n",
       "      <td>2</td>\n",
       "      <td>True</td>\n",
       "      <td>5</td>\n",
       "      <td>64</td>\n",
       "    </tr>\n",
       "    <tr>\n",
       "      <th>0</th>\n",
       "      <td>None</td>\n",
       "      <td>0.674930</td>\n",
       "      <td>0.647563</td>\n",
       "      <td>[0.7457725947521866, 0.5493540051679587]</td>\n",
       "      <td>0.645984</td>\n",
       "      <td>[0.758600237247924, 0.5333667837431009]</td>\n",
       "      <td>0.649850</td>\n",
       "      <td>[0.7333715596330275, 0.5663292488012787]</td>\n",
       "      <td>None</td>\n",
       "      <td>0.906322</td>\n",
       "      <td>...</td>\n",
       "      <td>True</td>\n",
       "      <td>300</td>\n",
       "      <td>0.1</td>\n",
       "      <td>0.0005</td>\n",
       "      <td>123</td>\n",
       "      <td>focal</td>\n",
       "      <td>2</td>\n",
       "      <td>True</td>\n",
       "      <td>5</td>\n",
       "      <td>64</td>\n",
       "    </tr>\n",
       "  </tbody>\n",
       "</table>\n",
       "<p>3 rows × 27 columns</p>\n",
       "</div>"
      ],
      "text/plain": [
       "   loss  accuracy        f1                                 f1_scores  \\\n",
       "0  None  0.675116  0.645944   [0.7475742215785662, 0.544313725490196]   \n",
       "0  None  0.679404  0.650412  [0.7510853835021708, 0.5497382198952879]   \n",
       "0  None  0.674930  0.647563  [0.7457725947521866, 0.5493540051679587]   \n",
       "\n",
       "   precision                          precision_scores    recall  \\\n",
       "0   0.644868    [0.755340942347088, 0.534394250513347]  0.647287   \n",
       "0   0.649365  [0.7583284628872005, 0.5404014410705095]  0.651691   \n",
       "0   0.645984   [0.758600237247924, 0.5333667837431009]  0.649850   \n",
       "\n",
       "                              recall_scores valid_loss  valid_accuracy  ...  \\\n",
       "0  [0.7399655963302753, 0.5546084176877997]       None        0.909826  ...   \n",
       "0  [0.7439793577981652, 0.5594033031433138]       None        0.913600  ...   \n",
       "0  [0.7333715596330275, 0.5663292488012787]       None        0.906322  ...   \n",
       "\n",
       "   bidirectional hidden_dim  dropout_rate learning_rate  seed loss_function  \\\n",
       "0           True        300           0.1        0.0005     1         focal   \n",
       "0           True        300           0.1        0.0005    12         focal   \n",
       "0           True        300           0.1        0.0005   123         focal   \n",
       "\n",
       "   gamma  k_fold  n_splits  batch_size  \n",
       "0      2    True         5          64  \n",
       "0      2    True         5          64  \n",
       "0      2    True         5          64  \n",
       "\n",
       "[3 rows x 27 columns]"
      ]
     },
     "execution_count": 43,
     "metadata": {},
     "output_type": "execute_result"
    }
   ],
   "source": [
    "best_bilstm_history_35"
   ]
  },
  {
   "cell_type": "code",
   "execution_count": 44,
   "metadata": {},
   "outputs": [
    {
     "data": {
      "text/plain": [
       "0.6479730250643944"
      ]
     },
     "execution_count": 44,
     "metadata": {},
     "output_type": "execute_result"
    }
   ],
   "source": [
    "best_bilstm_history_35[\"f1\"].mean()"
   ]
  },
  {
   "cell_type": "code",
   "execution_count": 45,
   "metadata": {},
   "outputs": [
    {
     "data": {
      "text/plain": [
       "0.6467386863015283"
      ]
     },
     "execution_count": 45,
     "metadata": {},
     "output_type": "execute_result"
    }
   ],
   "source": [
    "best_bilstm_history_35[\"precision\"].mean()"
   ]
  },
  {
   "cell_type": "code",
   "execution_count": 46,
   "metadata": {},
   "outputs": [
    {
     "data": {
      "text/plain": [
       "0.6496095805656433"
      ]
     },
     "execution_count": 46,
     "metadata": {},
     "output_type": "execute_result"
    }
   ],
   "source": [
    "best_bilstm_history_35[\"recall\"].mean()"
   ]
  },
  {
   "cell_type": "code",
   "execution_count": 47,
   "metadata": {
    "scrolled": true
   },
   "outputs": [
    {
     "data": {
      "text/plain": [
       "array([0.74814407, 0.54780198])"
      ]
     },
     "execution_count": 47,
     "metadata": {},
     "output_type": "execute_result"
    }
   ],
   "source": [
    "np.stack(best_bilstm_history_35[\"f1_scores\"]).mean(axis=0)"
   ]
  },
  {
   "cell_type": "code",
   "execution_count": 48,
   "metadata": {},
   "outputs": [
    {
     "data": {
      "text/plain": [
       "array([0.75742321, 0.53605416])"
      ]
     },
     "execution_count": 48,
     "metadata": {},
     "output_type": "execute_result"
    }
   ],
   "source": [
    "np.stack(best_bilstm_history_35[\"precision_scores\"]).mean(axis=0)"
   ]
  },
  {
   "cell_type": "code",
   "execution_count": 49,
   "metadata": {},
   "outputs": [
    {
     "data": {
      "text/plain": [
       "array([0.7391055 , 0.56011366])"
      ]
     },
     "execution_count": 49,
     "metadata": {},
     "output_type": "execute_result"
    }
   ],
   "source": [
    "np.stack(best_bilstm_history_35[\"recall_scores\"]).mean(axis=0)"
   ]
  },
  {
   "cell_type": "markdown",
   "metadata": {
    "tags": []
   },
   "source": [
    "## history_length=80"
   ]
  },
  {
   "cell_type": "code",
   "execution_count": 50,
   "metadata": {},
   "outputs": [],
   "source": [
    "size = 80"
   ]
  },
  {
   "cell_type": "code",
   "execution_count": 51,
   "metadata": {},
   "outputs": [
    {
     "data": {
      "application/vnd.jupyter.widget-view+json": {
       "model_id": "4ff68099f0d343f78b4919282e6996b2",
       "version_major": 2,
       "version_minor": 0
      },
      "text/plain": [
       "  0%|          | 0/1 [00:00<?, ?it/s]"
      ]
     },
     "metadata": {},
     "output_type": "display_data"
    },
    {
     "name": "stdout",
     "output_type": "stream",
     "text": [
      "[INFO] Concatenating the embeddings to the dataframe...\n",
      "[INFO] - columns beginning with 'e' denote the full embddings.\n",
      "[INFO] Adding time feature columns into dataframe in `.df`.\n",
      "[INFO] Adding 'time_encoding' feature...\n",
      "[INFO] Adding 'time_diff' feature...\n",
      "[INFO] Adding 'timeline_index' feature...\n",
      "[INFO] Padding ids and storing in `.df_padded` and `.array_padded` attributes.\n"
     ]
    },
    {
     "data": {
      "application/vnd.jupyter.widget-view+json": {
       "model_id": "9589a9195145434cb55f11076b4e6efb",
       "version_major": 2,
       "version_minor": 0
      },
      "text/plain": [
       "  0%|          | 0/5568 [00:00<?, ?it/s]"
      ]
     },
     "metadata": {},
     "output_type": "display_data"
    },
    {
     "data": {
      "application/vnd.jupyter.widget-view+json": {
       "model_id": "71ec438316334f67884372532cc9b7bf",
       "version_major": 2,
       "version_minor": 0
      },
      "text/plain": [
       "  0%|          | 0/3 [00:00<?, ?it/s]"
      ]
     },
     "metadata": {},
     "output_type": "display_data"
    },
    {
     "data": {
      "application/vnd.jupyter.widget-view+json": {
       "model_id": "61495339cf31437ab183cafa4ddd33e2",
       "version_major": 2,
       "version_minor": 0
      },
      "text/plain": [
       "  0%|          | 0/1 [00:00<?, ?it/s]"
      ]
     },
     "metadata": {},
     "output_type": "display_data"
    },
    {
     "data": {
      "application/vnd.jupyter.widget-view+json": {
       "model_id": "06fa9c5b20534ec4b9c75d611554866c",
       "version_major": 2,
       "version_minor": 0
      },
      "text/plain": [
       "  0%|          | 0/3 [00:00<?, ?it/s]"
      ]
     },
     "metadata": {},
     "output_type": "display_data"
    },
    {
     "data": {
      "application/vnd.jupyter.widget-view+json": {
       "model_id": "e72846f0f34448839a03f1a94446b474",
       "version_major": 2,
       "version_minor": 0
      },
      "text/plain": [
       "  0%|          | 0/1 [00:00<?, ?it/s]"
      ]
     },
     "metadata": {},
     "output_type": "display_data"
    },
    {
     "data": {
      "application/vnd.jupyter.widget-view+json": {
       "model_id": "6ff48640d9ae4230b6eb23775a82a493",
       "version_major": 2,
       "version_minor": 0
      },
      "text/plain": [
       "  0%|          | 0/3 [00:00<?, ?it/s]"
      ]
     },
     "metadata": {},
     "output_type": "display_data"
    },
    {
     "data": {
      "application/vnd.jupyter.widget-view+json": {
       "model_id": "e22d625511394cb4a8babc5d63820edf",
       "version_major": 2,
       "version_minor": 0
      },
      "text/plain": [
       "  0%|          | 0/1 [00:00<?, ?it/s]"
      ]
     },
     "metadata": {},
     "output_type": "display_data"
    },
    {
     "data": {
      "application/vnd.jupyter.widget-view+json": {
       "model_id": "3786303f5648417da31c1a056bac3578",
       "version_major": 2,
       "version_minor": 0
      },
      "text/plain": [
       "  0%|          | 0/3 [00:00<?, ?it/s]"
      ]
     },
     "metadata": {},
     "output_type": "display_data"
    },
    {
     "name": "stdout",
     "output_type": "stream",
     "text": [
      "saving results dataframe to CSV for this hyperparameter search in rumours_output/lstm_history_80_focal_2.csv\n",
      "saving the best model results dataframe to CSV for this hyperparameter search in rumours_output/lstm_history_80_focal_2_best_model.csv\n"
     ]
    }
   ],
   "source": [
    "bilstm_history_80, best_bilstm_history_80, _, __ = lstm_hyperparameter_search(\n",
    "    history_lengths=[size],\n",
    "    results_output=f\"{output_dir}/lstm_history_{size}_focal_{gamma}_kfold.csv\",\n",
    "    **kwargs,\n",
    ")"
   ]
  },
  {
   "cell_type": "code",
   "execution_count": 52,
   "metadata": {},
   "outputs": [
    {
     "name": "stderr",
     "output_type": "stream",
     "text": [
      "/tmp/ipykernel_1337404/773949101.py:1: FutureWarning: The default value of numeric_only in DataFrameGroupBy.mean is deprecated. In a future version, numeric_only will default to False. Either specify numeric_only or select only columns which should be valid for the function.\n",
      "  bilstm_history_80.groupby([\"hidden_dim\", \"dropout_rate\", \"learning_rate\"]).mean()\n"
     ]
    },
    {
     "data": {
      "text/html": [
       "<div>\n",
       "<style scoped>\n",
       "    .dataframe tbody tr th:only-of-type {\n",
       "        vertical-align: middle;\n",
       "    }\n",
       "\n",
       "    .dataframe tbody tr th {\n",
       "        vertical-align: top;\n",
       "    }\n",
       "\n",
       "    .dataframe thead th {\n",
       "        text-align: right;\n",
       "    }\n",
       "</style>\n",
       "<table border=\"1\" class=\"dataframe\">\n",
       "  <thead>\n",
       "    <tr style=\"text-align: right;\">\n",
       "      <th></th>\n",
       "      <th></th>\n",
       "      <th></th>\n",
       "      <th>accuracy</th>\n",
       "      <th>f1</th>\n",
       "      <th>precision</th>\n",
       "      <th>recall</th>\n",
       "      <th>valid_accuracy</th>\n",
       "      <th>valid_f1</th>\n",
       "      <th>valid_precision</th>\n",
       "      <th>valid_recall</th>\n",
       "      <th>k</th>\n",
       "      <th>num_layers</th>\n",
       "      <th>bidirectional</th>\n",
       "      <th>seed</th>\n",
       "      <th>gamma</th>\n",
       "      <th>k_fold</th>\n",
       "      <th>n_splits</th>\n",
       "      <th>batch_size</th>\n",
       "      <th>model_id</th>\n",
       "    </tr>\n",
       "    <tr>\n",
       "      <th>hidden_dim</th>\n",
       "      <th>dropout_rate</th>\n",
       "      <th>learning_rate</th>\n",
       "      <th></th>\n",
       "      <th></th>\n",
       "      <th></th>\n",
       "      <th></th>\n",
       "      <th></th>\n",
       "      <th></th>\n",
       "      <th></th>\n",
       "      <th></th>\n",
       "      <th></th>\n",
       "      <th></th>\n",
       "      <th></th>\n",
       "      <th></th>\n",
       "      <th></th>\n",
       "      <th></th>\n",
       "      <th></th>\n",
       "      <th></th>\n",
       "      <th></th>\n",
       "    </tr>\n",
       "  </thead>\n",
       "  <tbody>\n",
       "    <tr>\n",
       "      <th rowspan=\"3\" valign=\"top\">200</th>\n",
       "      <th rowspan=\"3\" valign=\"top\">0.1</th>\n",
       "      <th>0.0001</th>\n",
       "      <td>0.693569</td>\n",
       "      <td>0.660528</td>\n",
       "      <td>0.662085</td>\n",
       "      <td>0.659428</td>\n",
       "      <td>0.892214</td>\n",
       "      <td>0.884869</td>\n",
       "      <td>0.888217</td>\n",
       "      <td>0.882017</td>\n",
       "      <td>80.0</td>\n",
       "      <td>1.0</td>\n",
       "      <td>1.0</td>\n",
       "      <td>45.333333</td>\n",
       "      <td>2.0</td>\n",
       "      <td>1.0</td>\n",
       "      <td>5.0</td>\n",
       "      <td>64.0</td>\n",
       "      <td>2.0</td>\n",
       "    </tr>\n",
       "    <tr>\n",
       "      <th>0.0005</th>\n",
       "      <td>0.704629</td>\n",
       "      <td>0.673724</td>\n",
       "      <td>0.674925</td>\n",
       "      <td>0.673101</td>\n",
       "      <td>0.911713</td>\n",
       "      <td>0.906378</td>\n",
       "      <td>0.906656</td>\n",
       "      <td>0.906192</td>\n",
       "      <td>80.0</td>\n",
       "      <td>1.0</td>\n",
       "      <td>1.0</td>\n",
       "      <td>45.333333</td>\n",
       "      <td>2.0</td>\n",
       "      <td>1.0</td>\n",
       "      <td>5.0</td>\n",
       "      <td>64.0</td>\n",
       "      <td>1.0</td>\n",
       "    </tr>\n",
       "    <tr>\n",
       "      <th>0.0010</th>\n",
       "      <td>0.695185</td>\n",
       "      <td>0.665917</td>\n",
       "      <td>0.665942</td>\n",
       "      <td>0.666330</td>\n",
       "      <td>0.903536</td>\n",
       "      <td>0.898096</td>\n",
       "      <td>0.896930</td>\n",
       "      <td>0.899403</td>\n",
       "      <td>80.0</td>\n",
       "      <td>1.0</td>\n",
       "      <td>1.0</td>\n",
       "      <td>45.333333</td>\n",
       "      <td>2.0</td>\n",
       "      <td>1.0</td>\n",
       "      <td>5.0</td>\n",
       "      <td>64.0</td>\n",
       "      <td>0.0</td>\n",
       "    </tr>\n",
       "    <tr>\n",
       "      <th rowspan=\"3\" valign=\"top\">300</th>\n",
       "      <th rowspan=\"3\" valign=\"top\">0.1</th>\n",
       "      <th>0.0001</th>\n",
       "      <td>0.684685</td>\n",
       "      <td>0.650385</td>\n",
       "      <td>0.652157</td>\n",
       "      <td>0.649232</td>\n",
       "      <td>0.898055</td>\n",
       "      <td>0.891560</td>\n",
       "      <td>0.893183</td>\n",
       "      <td>0.890222</td>\n",
       "      <td>80.0</td>\n",
       "      <td>1.0</td>\n",
       "      <td>1.0</td>\n",
       "      <td>45.333333</td>\n",
       "      <td>2.0</td>\n",
       "      <td>1.0</td>\n",
       "      <td>5.0</td>\n",
       "      <td>64.0</td>\n",
       "      <td>5.0</td>\n",
       "    </tr>\n",
       "    <tr>\n",
       "      <th>0.0005</th>\n",
       "      <td>0.688847</td>\n",
       "      <td>0.661227</td>\n",
       "      <td>0.660065</td>\n",
       "      <td>0.663014</td>\n",
       "      <td>0.909646</td>\n",
       "      <td>0.904601</td>\n",
       "      <td>0.903168</td>\n",
       "      <td>0.906174</td>\n",
       "      <td>80.0</td>\n",
       "      <td>1.0</td>\n",
       "      <td>1.0</td>\n",
       "      <td>45.333333</td>\n",
       "      <td>2.0</td>\n",
       "      <td>1.0</td>\n",
       "      <td>5.0</td>\n",
       "      <td>64.0</td>\n",
       "      <td>4.0</td>\n",
       "    </tr>\n",
       "    <tr>\n",
       "      <th>0.0010</th>\n",
       "      <td>0.687232</td>\n",
       "      <td>0.658381</td>\n",
       "      <td>0.657813</td>\n",
       "      <td>0.659804</td>\n",
       "      <td>0.903940</td>\n",
       "      <td>0.898443</td>\n",
       "      <td>0.897572</td>\n",
       "      <td>0.899436</td>\n",
       "      <td>80.0</td>\n",
       "      <td>1.0</td>\n",
       "      <td>1.0</td>\n",
       "      <td>45.333333</td>\n",
       "      <td>2.0</td>\n",
       "      <td>1.0</td>\n",
       "      <td>5.0</td>\n",
       "      <td>64.0</td>\n",
       "      <td>3.0</td>\n",
       "    </tr>\n",
       "    <tr>\n",
       "      <th rowspan=\"3\" valign=\"top\">400</th>\n",
       "      <th rowspan=\"3\" valign=\"top\">0.1</th>\n",
       "      <th>0.0001</th>\n",
       "      <td>0.693756</td>\n",
       "      <td>0.657254</td>\n",
       "      <td>0.660922</td>\n",
       "      <td>0.654814</td>\n",
       "      <td>0.896257</td>\n",
       "      <td>0.889294</td>\n",
       "      <td>0.892238</td>\n",
       "      <td>0.886733</td>\n",
       "      <td>80.0</td>\n",
       "      <td>1.0</td>\n",
       "      <td>1.0</td>\n",
       "      <td>45.333333</td>\n",
       "      <td>2.0</td>\n",
       "      <td>1.0</td>\n",
       "      <td>5.0</td>\n",
       "      <td>64.0</td>\n",
       "      <td>8.0</td>\n",
       "    </tr>\n",
       "    <tr>\n",
       "      <th>0.0005</th>\n",
       "      <td>0.701895</td>\n",
       "      <td>0.674823</td>\n",
       "      <td>0.673713</td>\n",
       "      <td>0.676289</td>\n",
       "      <td>0.905648</td>\n",
       "      <td>0.899992</td>\n",
       "      <td>0.900140</td>\n",
       "      <td>0.899978</td>\n",
       "      <td>80.0</td>\n",
       "      <td>1.0</td>\n",
       "      <td>1.0</td>\n",
       "      <td>45.333333</td>\n",
       "      <td>2.0</td>\n",
       "      <td>1.0</td>\n",
       "      <td>5.0</td>\n",
       "      <td>64.0</td>\n",
       "      <td>7.0</td>\n",
       "    </tr>\n",
       "    <tr>\n",
       "      <th>0.0010</th>\n",
       "      <td>0.694564</td>\n",
       "      <td>0.664131</td>\n",
       "      <td>0.664480</td>\n",
       "      <td>0.664458</td>\n",
       "      <td>0.899987</td>\n",
       "      <td>0.894172</td>\n",
       "      <td>0.893563</td>\n",
       "      <td>0.894816</td>\n",
       "      <td>80.0</td>\n",
       "      <td>1.0</td>\n",
       "      <td>1.0</td>\n",
       "      <td>45.333333</td>\n",
       "      <td>2.0</td>\n",
       "      <td>1.0</td>\n",
       "      <td>5.0</td>\n",
       "      <td>64.0</td>\n",
       "      <td>6.0</td>\n",
       "    </tr>\n",
       "  </tbody>\n",
       "</table>\n",
       "</div>"
      ],
      "text/plain": [
       "                                       accuracy        f1  precision  \\\n",
       "hidden_dim dropout_rate learning_rate                                  \n",
       "200        0.1          0.0001         0.693569  0.660528   0.662085   \n",
       "                        0.0005         0.704629  0.673724   0.674925   \n",
       "                        0.0010         0.695185  0.665917   0.665942   \n",
       "300        0.1          0.0001         0.684685  0.650385   0.652157   \n",
       "                        0.0005         0.688847  0.661227   0.660065   \n",
       "                        0.0010         0.687232  0.658381   0.657813   \n",
       "400        0.1          0.0001         0.693756  0.657254   0.660922   \n",
       "                        0.0005         0.701895  0.674823   0.673713   \n",
       "                        0.0010         0.694564  0.664131   0.664480   \n",
       "\n",
       "                                         recall  valid_accuracy  valid_f1  \\\n",
       "hidden_dim dropout_rate learning_rate                                       \n",
       "200        0.1          0.0001         0.659428        0.892214  0.884869   \n",
       "                        0.0005         0.673101        0.911713  0.906378   \n",
       "                        0.0010         0.666330        0.903536  0.898096   \n",
       "300        0.1          0.0001         0.649232        0.898055  0.891560   \n",
       "                        0.0005         0.663014        0.909646  0.904601   \n",
       "                        0.0010         0.659804        0.903940  0.898443   \n",
       "400        0.1          0.0001         0.654814        0.896257  0.889294   \n",
       "                        0.0005         0.676289        0.905648  0.899992   \n",
       "                        0.0010         0.664458        0.899987  0.894172   \n",
       "\n",
       "                                       valid_precision  valid_recall     k  \\\n",
       "hidden_dim dropout_rate learning_rate                                        \n",
       "200        0.1          0.0001                0.888217      0.882017  80.0   \n",
       "                        0.0005                0.906656      0.906192  80.0   \n",
       "                        0.0010                0.896930      0.899403  80.0   \n",
       "300        0.1          0.0001                0.893183      0.890222  80.0   \n",
       "                        0.0005                0.903168      0.906174  80.0   \n",
       "                        0.0010                0.897572      0.899436  80.0   \n",
       "400        0.1          0.0001                0.892238      0.886733  80.0   \n",
       "                        0.0005                0.900140      0.899978  80.0   \n",
       "                        0.0010                0.893563      0.894816  80.0   \n",
       "\n",
       "                                       num_layers  bidirectional       seed  \\\n",
       "hidden_dim dropout_rate learning_rate                                         \n",
       "200        0.1          0.0001                1.0            1.0  45.333333   \n",
       "                        0.0005                1.0            1.0  45.333333   \n",
       "                        0.0010                1.0            1.0  45.333333   \n",
       "300        0.1          0.0001                1.0            1.0  45.333333   \n",
       "                        0.0005                1.0            1.0  45.333333   \n",
       "                        0.0010                1.0            1.0  45.333333   \n",
       "400        0.1          0.0001                1.0            1.0  45.333333   \n",
       "                        0.0005                1.0            1.0  45.333333   \n",
       "                        0.0010                1.0            1.0  45.333333   \n",
       "\n",
       "                                       gamma  k_fold  n_splits  batch_size  \\\n",
       "hidden_dim dropout_rate learning_rate                                        \n",
       "200        0.1          0.0001           2.0     1.0       5.0        64.0   \n",
       "                        0.0005           2.0     1.0       5.0        64.0   \n",
       "                        0.0010           2.0     1.0       5.0        64.0   \n",
       "300        0.1          0.0001           2.0     1.0       5.0        64.0   \n",
       "                        0.0005           2.0     1.0       5.0        64.0   \n",
       "                        0.0010           2.0     1.0       5.0        64.0   \n",
       "400        0.1          0.0001           2.0     1.0       5.0        64.0   \n",
       "                        0.0005           2.0     1.0       5.0        64.0   \n",
       "                        0.0010           2.0     1.0       5.0        64.0   \n",
       "\n",
       "                                       model_id  \n",
       "hidden_dim dropout_rate learning_rate            \n",
       "200        0.1          0.0001              2.0  \n",
       "                        0.0005              1.0  \n",
       "                        0.0010              0.0  \n",
       "300        0.1          0.0001              5.0  \n",
       "                        0.0005              4.0  \n",
       "                        0.0010              3.0  \n",
       "400        0.1          0.0001              8.0  \n",
       "                        0.0005              7.0  \n",
       "                        0.0010              6.0  "
      ]
     },
     "execution_count": 52,
     "metadata": {},
     "output_type": "execute_result"
    }
   ],
   "source": [
    "bilstm_history_80.groupby([\"hidden_dim\", \"dropout_rate\", \"learning_rate\"]).mean()"
   ]
  },
  {
   "cell_type": "code",
   "execution_count": 53,
   "metadata": {},
   "outputs": [
    {
     "data": {
      "text/html": [
       "<div>\n",
       "<style scoped>\n",
       "    .dataframe tbody tr th:only-of-type {\n",
       "        vertical-align: middle;\n",
       "    }\n",
       "\n",
       "    .dataframe tbody tr th {\n",
       "        vertical-align: top;\n",
       "    }\n",
       "\n",
       "    .dataframe thead th {\n",
       "        text-align: right;\n",
       "    }\n",
       "</style>\n",
       "<table border=\"1\" class=\"dataframe\">\n",
       "  <thead>\n",
       "    <tr style=\"text-align: right;\">\n",
       "      <th></th>\n",
       "      <th>loss</th>\n",
       "      <th>accuracy</th>\n",
       "      <th>f1</th>\n",
       "      <th>f1_scores</th>\n",
       "      <th>precision</th>\n",
       "      <th>precision_scores</th>\n",
       "      <th>recall</th>\n",
       "      <th>recall_scores</th>\n",
       "      <th>valid_loss</th>\n",
       "      <th>valid_accuracy</th>\n",
       "      <th>...</th>\n",
       "      <th>bidirectional</th>\n",
       "      <th>hidden_dim</th>\n",
       "      <th>dropout_rate</th>\n",
       "      <th>learning_rate</th>\n",
       "      <th>seed</th>\n",
       "      <th>loss_function</th>\n",
       "      <th>gamma</th>\n",
       "      <th>k_fold</th>\n",
       "      <th>n_splits</th>\n",
       "      <th>batch_size</th>\n",
       "    </tr>\n",
       "  </thead>\n",
       "  <tbody>\n",
       "    <tr>\n",
       "      <th>0</th>\n",
       "      <td>None</td>\n",
       "      <td>0.703635</td>\n",
       "      <td>0.668392</td>\n",
       "      <td>[0.7764970480742199, 0.560287610619469]</td>\n",
       "      <td>0.672120</td>\n",
       "      <td>[0.7617209045780474, 0.5825186889016676]</td>\n",
       "      <td>0.665774</td>\n",
       "      <td>[0.7918577981651376, 0.5396909962706447]</td>\n",
       "      <td>None</td>\n",
       "      <td>0.910096</td>\n",
       "      <td>...</td>\n",
       "      <td>True</td>\n",
       "      <td>200</td>\n",
       "      <td>0.1</td>\n",
       "      <td>0.0005</td>\n",
       "      <td>1</td>\n",
       "      <td>focal</td>\n",
       "      <td>2</td>\n",
       "      <td>True</td>\n",
       "      <td>5</td>\n",
       "      <td>64</td>\n",
       "    </tr>\n",
       "    <tr>\n",
       "      <th>0</th>\n",
       "      <td>None</td>\n",
       "      <td>0.707549</td>\n",
       "      <td>0.676172</td>\n",
       "      <td>[0.7769722814498934, 0.5753721244925575]</td>\n",
       "      <td>0.677609</td>\n",
       "      <td>[0.7705102903862419, 0.5847084708470847]</td>\n",
       "      <td>0.674936</td>\n",
       "      <td>[0.7835435779816514, 0.5663292488012787]</td>\n",
       "      <td>None</td>\n",
       "      <td>0.913600</td>\n",
       "      <td>...</td>\n",
       "      <td>True</td>\n",
       "      <td>200</td>\n",
       "      <td>0.1</td>\n",
       "      <td>0.0005</td>\n",
       "      <td>12</td>\n",
       "      <td>focal</td>\n",
       "      <td>2</td>\n",
       "      <td>True</td>\n",
       "      <td>5</td>\n",
       "      <td>64</td>\n",
       "    </tr>\n",
       "    <tr>\n",
       "      <th>0</th>\n",
       "      <td>None</td>\n",
       "      <td>0.702330</td>\n",
       "      <td>0.676202</td>\n",
       "      <td>[0.7681811583684135, 0.5842228586305649]</td>\n",
       "      <td>0.674645</td>\n",
       "      <td>[0.7780064686856807, 0.5712830957230143]</td>\n",
       "      <td>0.678182</td>\n",
       "      <td>[0.7586009174311926, 0.5977623867874268]</td>\n",
       "      <td>None</td>\n",
       "      <td>0.911444</td>\n",
       "      <td>...</td>\n",
       "      <td>True</td>\n",
       "      <td>200</td>\n",
       "      <td>0.1</td>\n",
       "      <td>0.0005</td>\n",
       "      <td>123</td>\n",
       "      <td>focal</td>\n",
       "      <td>2</td>\n",
       "      <td>True</td>\n",
       "      <td>5</td>\n",
       "      <td>64</td>\n",
       "    </tr>\n",
       "  </tbody>\n",
       "</table>\n",
       "<p>3 rows × 27 columns</p>\n",
       "</div>"
      ],
      "text/plain": [
       "   loss  accuracy        f1                                 f1_scores  \\\n",
       "0  None  0.703635  0.668392   [0.7764970480742199, 0.560287610619469]   \n",
       "0  None  0.707549  0.676172  [0.7769722814498934, 0.5753721244925575]   \n",
       "0  None  0.702330  0.676202  [0.7681811583684135, 0.5842228586305649]   \n",
       "\n",
       "   precision                          precision_scores    recall  \\\n",
       "0   0.672120  [0.7617209045780474, 0.5825186889016676]  0.665774   \n",
       "0   0.677609  [0.7705102903862419, 0.5847084708470847]  0.674936   \n",
       "0   0.674645  [0.7780064686856807, 0.5712830957230143]  0.678182   \n",
       "\n",
       "                              recall_scores valid_loss  valid_accuracy  ...  \\\n",
       "0  [0.7918577981651376, 0.5396909962706447]       None        0.910096  ...   \n",
       "0  [0.7835435779816514, 0.5663292488012787]       None        0.913600  ...   \n",
       "0  [0.7586009174311926, 0.5977623867874268]       None        0.911444  ...   \n",
       "\n",
       "   bidirectional hidden_dim  dropout_rate learning_rate  seed loss_function  \\\n",
       "0           True        200           0.1        0.0005     1         focal   \n",
       "0           True        200           0.1        0.0005    12         focal   \n",
       "0           True        200           0.1        0.0005   123         focal   \n",
       "\n",
       "   gamma  k_fold  n_splits  batch_size  \n",
       "0      2    True         5          64  \n",
       "0      2    True         5          64  \n",
       "0      2    True         5          64  \n",
       "\n",
       "[3 rows x 27 columns]"
      ]
     },
     "execution_count": 53,
     "metadata": {},
     "output_type": "execute_result"
    }
   ],
   "source": [
    "best_bilstm_history_80"
   ]
  },
  {
   "cell_type": "code",
   "execution_count": 54,
   "metadata": {},
   "outputs": [
    {
     "data": {
      "text/plain": [
       "0.6735888469391863"
      ]
     },
     "execution_count": 54,
     "metadata": {},
     "output_type": "execute_result"
    }
   ],
   "source": [
    "best_bilstm_history_80[\"f1\"].mean()"
   ]
  },
  {
   "cell_type": "code",
   "execution_count": 55,
   "metadata": {},
   "outputs": [
    {
     "data": {
      "text/plain": [
       "0.6747913198536227"
      ]
     },
     "execution_count": 55,
     "metadata": {},
     "output_type": "execute_result"
    }
   ],
   "source": [
    "best_bilstm_history_80[\"precision\"].mean()"
   ]
  },
  {
   "cell_type": "code",
   "execution_count": 56,
   "metadata": {},
   "outputs": [
    {
     "data": {
      "text/plain": [
       "0.6729641542395552"
      ]
     },
     "execution_count": 56,
     "metadata": {},
     "output_type": "execute_result"
    }
   ],
   "source": [
    "best_bilstm_history_80[\"recall\"].mean()"
   ]
  },
  {
   "cell_type": "code",
   "execution_count": 57,
   "metadata": {
    "scrolled": true
   },
   "outputs": [
    {
     "data": {
      "text/plain": [
       "array([0.7738835, 0.5732942])"
      ]
     },
     "execution_count": 57,
     "metadata": {},
     "output_type": "execute_result"
    }
   ],
   "source": [
    "np.stack(best_bilstm_history_80[\"f1_scores\"]).mean(axis=0)"
   ]
  },
  {
   "cell_type": "code",
   "execution_count": 58,
   "metadata": {},
   "outputs": [
    {
     "data": {
      "text/plain": [
       "array([0.77007922, 0.57950342])"
      ]
     },
     "execution_count": 58,
     "metadata": {},
     "output_type": "execute_result"
    }
   ],
   "source": [
    "np.stack(best_bilstm_history_80[\"precision_scores\"]).mean(axis=0)"
   ]
  },
  {
   "cell_type": "code",
   "execution_count": 59,
   "metadata": {},
   "outputs": [
    {
     "data": {
      "text/plain": [
       "array([0.77800076, 0.56792754])"
      ]
     },
     "execution_count": 59,
     "metadata": {},
     "output_type": "execute_result"
    }
   ],
   "source": [
    "np.stack(best_bilstm_history_80[\"recall_scores\"]).mean(axis=0)"
   ]
  }
 ],
 "metadata": {
  "kernelspec": {
   "display_name": "nlpsig-networks (Conda)",
   "language": "python",
   "name": "sys_nlpsig-networks"
  },
  "language_info": {
   "codemirror_mode": {
    "name": "ipython",
    "version": 3
   },
   "file_extension": ".py",
   "mimetype": "text/x-python",
   "name": "python",
   "nbconvert_exporter": "python",
   "pygments_lexer": "ipython3",
   "version": "3.8.17"
  }
 },
 "nbformat": 4,
 "nbformat_minor": 4
}
