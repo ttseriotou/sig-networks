{
 "cells": [
  {
   "cell_type": "code",
   "execution_count": 1,
   "metadata": {},
   "outputs": [],
   "source": [
    "import pickle\n",
    "import numpy as np\n",
    "import pandas as pd\n",
    "import re\n",
    "\n",
    "seed = 2023"
   ]
  },
  {
   "cell_type": "code",
   "execution_count": 2,
   "metadata": {},
   "outputs": [],
   "source": [
    "import os\n",
    "os.chdir(\"../../\")"
   ]
  },
  {
   "cell_type": "code",
   "execution_count": 3,
   "metadata": {},
   "outputs": [
    {
     "name": "stderr",
     "output_type": "stream",
     "text": [
      "/storage/ttseriotou/nlpsig-networks-env/lib/python3.8/site-packages/tqdm/auto.py:21: TqdmWarning: IProgress not found. Please update jupyter and ipywidgets. See https://ipywidgets.readthedocs.io/en/stable/user_install.html\n",
      "  from .autonotebook import tqdm as notebook_tqdm\n"
     ]
    }
   ],
   "source": [
    "from nlpsig_networks.scripts.lstm_baseline_functions import (\n",
    "    lstm_hyperparameter_search,\n",
    "    obtain_path\n",
    ")"
   ]
  },
  {
   "cell_type": "markdown",
   "metadata": {},
   "source": [
    "Rumours"
   ]
  },
  {
   "cell_type": "code",
   "execution_count": 4,
   "metadata": {},
   "outputs": [],
   "source": [
    "%run notebooks/Rumours/load_sbert-embeddings.py"
   ]
  },
  {
   "cell_type": "code",
   "execution_count": 5,
   "metadata": {},
   "outputs": [
    {
     "data": {
      "text/html": [
       "<div>\n",
       "<style scoped>\n",
       "    .dataframe tbody tr th:only-of-type {\n",
       "        vertical-align: middle;\n",
       "    }\n",
       "\n",
       "    .dataframe tbody tr th {\n",
       "        vertical-align: top;\n",
       "    }\n",
       "\n",
       "    .dataframe thead th {\n",
       "        text-align: right;\n",
       "    }\n",
       "</style>\n",
       "<table border=\"1\" class=\"dataframe\">\n",
       "  <thead>\n",
       "    <tr style=\"text-align: right;\">\n",
       "      <th></th>\n",
       "      <th>id</th>\n",
       "      <th>label</th>\n",
       "      <th>datetime</th>\n",
       "      <th>text</th>\n",
       "      <th>timeline_id</th>\n",
       "    </tr>\n",
       "  </thead>\n",
       "  <tbody>\n",
       "    <tr>\n",
       "      <th>0</th>\n",
       "      <td>5.249902e+17</td>\n",
       "      <td>0</td>\n",
       "      <td>2014-10-22 18:26:23</td>\n",
       "      <td>Police have clarified that there were two shoo...</td>\n",
       "      <td>0</td>\n",
       "    </tr>\n",
       "    <tr>\n",
       "      <th>1</th>\n",
       "      <td>5.249906e+17</td>\n",
       "      <td>0</td>\n",
       "      <td>2014-10-22 18:27:58</td>\n",
       "      <td>@CTVNews you guys \"confirmed\" there were 3 sho...</td>\n",
       "      <td>0</td>\n",
       "    </tr>\n",
       "    <tr>\n",
       "      <th>2</th>\n",
       "      <td>5.249908e+17</td>\n",
       "      <td>1</td>\n",
       "      <td>2014-10-22 18:28:46</td>\n",
       "      <td>@CTVNews get it right. http://t.co/GHYxMuzPG9</td>\n",
       "      <td>0</td>\n",
       "    </tr>\n",
       "    <tr>\n",
       "      <th>3</th>\n",
       "      <td>5.249927e+17</td>\n",
       "      <td>1</td>\n",
       "      <td>2014-10-22 18:36:29</td>\n",
       "      <td>RT @CTVNews Police have clarified that there w...</td>\n",
       "      <td>0</td>\n",
       "    </tr>\n",
       "    <tr>\n",
       "      <th>4</th>\n",
       "      <td>5.250038e+17</td>\n",
       "      <td>1</td>\n",
       "      <td>2014-10-22 19:20:41</td>\n",
       "      <td>@CTVNews @ctvsaskatoon so what happened at Rid...</td>\n",
       "      <td>0</td>\n",
       "    </tr>\n",
       "  </tbody>\n",
       "</table>\n",
       "</div>"
      ],
      "text/plain": [
       "             id label            datetime  \\\n",
       "0  5.249902e+17     0 2014-10-22 18:26:23   \n",
       "1  5.249906e+17     0 2014-10-22 18:27:58   \n",
       "2  5.249908e+17     1 2014-10-22 18:28:46   \n",
       "3  5.249927e+17     1 2014-10-22 18:36:29   \n",
       "4  5.250038e+17     1 2014-10-22 19:20:41   \n",
       "\n",
       "                                                text timeline_id  \n",
       "0  Police have clarified that there were two shoo...           0  \n",
       "1  @CTVNews you guys \"confirmed\" there were 3 sho...           0  \n",
       "2      @CTVNews get it right. http://t.co/GHYxMuzPG9           0  \n",
       "3  RT @CTVNews Police have clarified that there w...           0  \n",
       "4  @CTVNews @ctvsaskatoon so what happened at Rid...           0  "
      ]
     },
     "execution_count": 5,
     "metadata": {},
     "output_type": "execute_result"
    }
   ],
   "source": [
    "df_rumours.head()"
   ]
  },
  {
   "cell_type": "code",
   "execution_count": 6,
   "metadata": {},
   "outputs": [
    {
     "data": {
      "text/plain": [
       "torch.Size([5568, 384])"
      ]
     },
     "execution_count": 6,
     "metadata": {},
     "output_type": "execute_result"
    }
   ],
   "source": [
    "sbert_embeddings.shape"
   ]
  },
  {
   "cell_type": "code",
   "execution_count": 9,
   "metadata": {},
   "outputs": [
    {
     "name": "stdout",
     "output_type": "stream",
     "text": [
      "[INFO] Concatenating the embeddings to the dataframe...\n",
      "[INFO] - columns beginning with 'e' denote the full embddings.\n",
      "[INFO] Adding time feature columns into dataframe in `.df`.\n",
      "[INFO] Adding 'time_encoding' and feature...\n",
      "[INFO] Adding 'time_diff' and feature...\n",
      "[INFO] Adding 'timeline_index' feature...\n",
      "[INFO] Padding ids and storing in `.df_padded` and `.array_padded` attributes.\n"
     ]
    },
    {
     "name": "stderr",
     "output_type": "stream",
     "text": [
      "100%|██████████| 5568/5568 [00:37<00:00, 148.35it/s]\n"
     ]
    },
    {
     "data": {
      "text/plain": [
       "(5568, 20, 384)"
      ]
     },
     "execution_count": 9,
     "metadata": {},
     "output_type": "execute_result"
    }
   ],
   "source": [
    "x_data = obtain_path(\n",
    "    df=df_rumours, \n",
    "    id_column=\"timeline_id\",\n",
    "    label_column=\"label\",\n",
    "    embeddings=sbert_embeddings,\n",
    "    k=20\n",
    ")\n",
    "\n",
    "x_data.shape"
   ]
  },
  {
   "cell_type": "markdown",
   "metadata": {},
   "source": [
    "Baseline BiLSTM"
   ]
  },
  {
   "cell_type": "code",
   "execution_count": 19,
   "metadata": {},
   "outputs": [],
   "source": [
    "num_epochs = 100\n",
    "hidden_dim_sizes = [200]#[100, 200, 300]\n",
    "num_layers = 1\n",
    "bidirectional = True\n",
    "dropout_rates = [0.2]#[0.5, 0.2, 0.1]\n",
    "learning_rates = [1e-4]#[1e-3, 1e-4, 5e-4]\n",
    "seeds = [0, 1, 12, 123, 1234]\n",
    "loss = \"focal\"\n",
    "gamma = 2\n",
    "validation_metric = \"f1\"\n",
    "patience =4"
   ]
  },
  {
   "cell_type": "markdown",
   "metadata": {},
   "source": [
    "history length = 20"
   ]
  },
  {
   "cell_type": "code",
   "execution_count": 20,
   "metadata": {},
   "outputs": [
    {
     "name": "stderr",
     "output_type": "stream",
     "text": [
      "  0%|          | 0/1 [00:00<?, ?it/s]"
     ]
    },
    {
     "name": "stdout",
     "output_type": "stream",
     "text": [
      "[INFO] Concatenating the embeddings to the dataframe...\n",
      "[INFO] - columns beginning with 'e' denote the full embddings.\n",
      "[INFO] Adding time feature columns into dataframe in `.df`.\n",
      "[INFO] Adding 'time_encoding' and feature...\n",
      "[INFO] Adding 'time_diff' and feature...\n",
      "[INFO] Adding 'timeline_index' feature...\n",
      "[INFO] Padding ids and storing in `.df_padded` and `.array_padded` attributes.\n"
     ]
    },
    {
     "name": "stderr",
     "output_type": "stream",
     "text": [
      "100%|██████████| 5568/5568 [00:37<00:00, 150.43it/s]\n",
      "\n",
      "\u001b[A\n",
      "\n",
      "\u001b[A\u001b[A"
     ]
    },
    {
     "name": "stdout",
     "output_type": "stream",
     "text": [
      "[INFO] Splitting data by provided groups\n",
      "[INFO] Splitting data by provided groups\n",
      "[INFO] Splitting data by provided groups\n",
      "[INFO] Splitting data by provided groups\n",
      "[INFO] Splitting data by provided groups\n"
     ]
    },
    {
     "name": "stderr",
     "output_type": "stream",
     "text": [
      "\n",
      "\n",
      "100%|██████████| 1/1 [01:45<00:00, 105.11s/it]\n",
      "\n",
      "100%|██████████| 1/1 [01:45<00:00, 105.11s/it]\n",
      "100%|██████████| 1/1 [01:45<00:00, 105.11s/it]\n",
      "100%|██████████| 1/1 [02:26<00:00, 146.66s/it]\n"
     ]
    },
    {
     "name": "stdout",
     "output_type": "stream",
     "text": [
      "[INFO] Splitting data by provided groups\n",
      "[INFO] Splitting data by provided groups\n",
      "[INFO] Splitting data by provided groups\n",
      "[INFO] Splitting data by provided groups\n",
      "[INFO] Splitting data by provided groups\n"
     ]
    }
   ],
   "source": [
    "size = 20\n",
    "bilstm_history_20_kfold, best_bilstm_history_20_kfold, _, __ = lstm_hyperparameter_search(\n",
    "    num_epochs=num_epochs,\n",
    "    df=df_rumours,\n",
    "    id_column=\"timeline_id\",\n",
    "    label_column=\"label\",\n",
    "    embeddings=sbert_embeddings,\n",
    "    y_data=y_data,\n",
    "    history_lengths=[size],\n",
    "    hidden_dim_sizes=hidden_dim_sizes,\n",
    "    num_layers=num_layers,\n",
    "    bidirectional=bidirectional,\n",
    "    output_dim=output_dim,\n",
    "    dropout_rates=dropout_rates,\n",
    "    learning_rates=learning_rates,\n",
    "    seeds=seeds,\n",
    "    loss=loss,\n",
    "    gamma=gamma,\n",
    "    path_indices=None,\n",
    "    data_split_seed=123,\n",
    "    split_ids= torch.tensor(df_rumours['timeline_id'].astype(int)),\n",
    "    k_fold=False,\n",
    "    patience=patience,\n",
    "    validation_metric=validation_metric,\n",
    "    results_output=None,\n",
    "    verbose=False\n",
    ")"
   ]
  },
  {
   "cell_type": "code",
   "execution_count": 25,
   "metadata": {},
   "outputs": [
    {
     "data": {
      "text/html": [
       "<div>\n",
       "<style scoped>\n",
       "    .dataframe tbody tr th:only-of-type {\n",
       "        vertical-align: middle;\n",
       "    }\n",
       "\n",
       "    .dataframe tbody tr th {\n",
       "        vertical-align: top;\n",
       "    }\n",
       "\n",
       "    .dataframe thead th {\n",
       "        text-align: right;\n",
       "    }\n",
       "</style>\n",
       "<table border=\"1\" class=\"dataframe\">\n",
       "  <thead>\n",
       "    <tr style=\"text-align: right;\">\n",
       "      <th></th>\n",
       "      <th>loss</th>\n",
       "      <th>accuracy</th>\n",
       "      <th>f1</th>\n",
       "      <th>f1_scores</th>\n",
       "      <th>valid_loss</th>\n",
       "      <th>valid_accuracy</th>\n",
       "      <th>valid_f1</th>\n",
       "      <th>valid_f1_scores</th>\n",
       "      <th>k</th>\n",
       "      <th>num_layers</th>\n",
       "      <th>bidirectional</th>\n",
       "      <th>hidden_dim</th>\n",
       "      <th>dropout_rate</th>\n",
       "      <th>learning_rate</th>\n",
       "      <th>seed</th>\n",
       "      <th>gamma</th>\n",
       "      <th>k_fold</th>\n",
       "      <th>model_id</th>\n",
       "    </tr>\n",
       "  </thead>\n",
       "  <tbody>\n",
       "    <tr>\n",
       "      <th>0</th>\n",
       "      <td>focal</td>\n",
       "      <td>0.5976</td>\n",
       "      <td>0.580411</td>\n",
       "      <td>[0.6653359946773121, 0.4954864593781344]</td>\n",
       "      <td>0.208808</td>\n",
       "      <td>0.762752</td>\n",
       "      <td>0.756696</td>\n",
       "      <td>[0.7950819672131149, 0.7183098591549295]</td>\n",
       "      <td>20</td>\n",
       "      <td>1</td>\n",
       "      <td>True</td>\n",
       "      <td>200</td>\n",
       "      <td>0.2</td>\n",
       "      <td>0.0001</td>\n",
       "      <td>0</td>\n",
       "      <td>2</td>\n",
       "      <td>False</td>\n",
       "      <td>0</td>\n",
       "    </tr>\n",
       "    <tr>\n",
       "      <th>0</th>\n",
       "      <td>focal</td>\n",
       "      <td>0.5928</td>\n",
       "      <td>0.578402</td>\n",
       "      <td>[0.6563133018230924, 0.5004906771344455]</td>\n",
       "      <td>0.205242</td>\n",
       "      <td>0.766311</td>\n",
       "      <td>0.760437</td>\n",
       "      <td>[0.7979487179487179, 0.7229254571026723]</td>\n",
       "      <td>20</td>\n",
       "      <td>1</td>\n",
       "      <td>True</td>\n",
       "      <td>200</td>\n",
       "      <td>0.2</td>\n",
       "      <td>0.0001</td>\n",
       "      <td>1</td>\n",
       "      <td>2</td>\n",
       "      <td>False</td>\n",
       "      <td>0</td>\n",
       "    </tr>\n",
       "    <tr>\n",
       "      <th>0</th>\n",
       "      <td>focal</td>\n",
       "      <td>0.5952</td>\n",
       "      <td>0.581269</td>\n",
       "      <td>[0.6576454668470907, 0.5048923679060666]</td>\n",
       "      <td>0.195617</td>\n",
       "      <td>0.765125</td>\n",
       "      <td>0.759844</td>\n",
       "      <td>[0.7954545454545456, 0.7242339832869081]</td>\n",
       "      <td>20</td>\n",
       "      <td>1</td>\n",
       "      <td>True</td>\n",
       "      <td>200</td>\n",
       "      <td>0.2</td>\n",
       "      <td>0.0001</td>\n",
       "      <td>12</td>\n",
       "      <td>2</td>\n",
       "      <td>False</td>\n",
       "      <td>0</td>\n",
       "    </tr>\n",
       "    <tr>\n",
       "      <th>0</th>\n",
       "      <td>focal</td>\n",
       "      <td>0.5816</td>\n",
       "      <td>0.570036</td>\n",
       "      <td>[0.6405498281786942, 0.4995215311004785]</td>\n",
       "      <td>0.198716</td>\n",
       "      <td>0.765125</td>\n",
       "      <td>0.761279</td>\n",
       "      <td>[0.791578947368421, 0.7309782608695652]</td>\n",
       "      <td>20</td>\n",
       "      <td>1</td>\n",
       "      <td>True</td>\n",
       "      <td>200</td>\n",
       "      <td>0.2</td>\n",
       "      <td>0.0001</td>\n",
       "      <td>123</td>\n",
       "      <td>2</td>\n",
       "      <td>False</td>\n",
       "      <td>0</td>\n",
       "    </tr>\n",
       "    <tr>\n",
       "      <th>0</th>\n",
       "      <td>focal</td>\n",
       "      <td>0.5584</td>\n",
       "      <td>0.548401</td>\n",
       "      <td>[0.6155988857938719, 0.481203007518797]</td>\n",
       "      <td>0.214453</td>\n",
       "      <td>0.760380</td>\n",
       "      <td>0.757800</td>\n",
       "      <td>[0.7827956989247312, 0.7328042328042327]</td>\n",
       "      <td>20</td>\n",
       "      <td>1</td>\n",
       "      <td>True</td>\n",
       "      <td>200</td>\n",
       "      <td>0.2</td>\n",
       "      <td>0.0001</td>\n",
       "      <td>1234</td>\n",
       "      <td>2</td>\n",
       "      <td>False</td>\n",
       "      <td>0</td>\n",
       "    </tr>\n",
       "  </tbody>\n",
       "</table>\n",
       "</div>"
      ],
      "text/plain": [
       "    loss  accuracy        f1                                 f1_scores  \\\n",
       "0  focal    0.5976  0.580411  [0.6653359946773121, 0.4954864593781344]   \n",
       "0  focal    0.5928  0.578402  [0.6563133018230924, 0.5004906771344455]   \n",
       "0  focal    0.5952  0.581269  [0.6576454668470907, 0.5048923679060666]   \n",
       "0  focal    0.5816  0.570036  [0.6405498281786942, 0.4995215311004785]   \n",
       "0  focal    0.5584  0.548401   [0.6155988857938719, 0.481203007518797]   \n",
       "\n",
       "   valid_loss  valid_accuracy  valid_f1  \\\n",
       "0    0.208808        0.762752  0.756696   \n",
       "0    0.205242        0.766311  0.760437   \n",
       "0    0.195617        0.765125  0.759844   \n",
       "0    0.198716        0.765125  0.761279   \n",
       "0    0.214453        0.760380  0.757800   \n",
       "\n",
       "                            valid_f1_scores   k  num_layers  bidirectional  \\\n",
       "0  [0.7950819672131149, 0.7183098591549295]  20           1           True   \n",
       "0  [0.7979487179487179, 0.7229254571026723]  20           1           True   \n",
       "0  [0.7954545454545456, 0.7242339832869081]  20           1           True   \n",
       "0   [0.791578947368421, 0.7309782608695652]  20           1           True   \n",
       "0  [0.7827956989247312, 0.7328042328042327]  20           1           True   \n",
       "\n",
       "   hidden_dim  dropout_rate  learning_rate  seed  gamma  k_fold  model_id  \n",
       "0         200           0.2         0.0001     0      2   False         0  \n",
       "0         200           0.2         0.0001     1      2   False         0  \n",
       "0         200           0.2         0.0001    12      2   False         0  \n",
       "0         200           0.2         0.0001   123      2   False         0  \n",
       "0         200           0.2         0.0001  1234      2   False         0  "
      ]
     },
     "execution_count": 25,
     "metadata": {},
     "output_type": "execute_result"
    }
   ],
   "source": [
    "bilstm_history_20_kfold"
   ]
  },
  {
   "cell_type": "code",
   "execution_count": 26,
   "metadata": {},
   "outputs": [
    {
     "data": {
      "text/html": [
       "<div>\n",
       "<style scoped>\n",
       "    .dataframe tbody tr th:only-of-type {\n",
       "        vertical-align: middle;\n",
       "    }\n",
       "\n",
       "    .dataframe tbody tr th {\n",
       "        vertical-align: top;\n",
       "    }\n",
       "\n",
       "    .dataframe thead th {\n",
       "        text-align: right;\n",
       "    }\n",
       "</style>\n",
       "<table border=\"1\" class=\"dataframe\">\n",
       "  <thead>\n",
       "    <tr style=\"text-align: right;\">\n",
       "      <th></th>\n",
       "      <th>loss</th>\n",
       "      <th>accuracy</th>\n",
       "      <th>f1</th>\n",
       "      <th>f1_scores</th>\n",
       "      <th>valid_loss</th>\n",
       "      <th>valid_accuracy</th>\n",
       "      <th>valid_f1</th>\n",
       "      <th>valid_f1_scores</th>\n",
       "      <th>num_layers</th>\n",
       "      <th>bidirectional</th>\n",
       "      <th>hidden_dim</th>\n",
       "      <th>dropout_rate</th>\n",
       "      <th>learning_rate</th>\n",
       "      <th>seed</th>\n",
       "      <th>gamma</th>\n",
       "      <th>k_fold</th>\n",
       "    </tr>\n",
       "  </thead>\n",
       "  <tbody>\n",
       "    <tr>\n",
       "      <th>0</th>\n",
       "      <td>focal</td>\n",
       "      <td>0.5976</td>\n",
       "      <td>0.580411</td>\n",
       "      <td>[0.6653359946773121, 0.4954864593781344]</td>\n",
       "      <td>0.208808</td>\n",
       "      <td>0.762752</td>\n",
       "      <td>0.756696</td>\n",
       "      <td>[0.7950819672131149, 0.7183098591549295]</td>\n",
       "      <td>1</td>\n",
       "      <td>True</td>\n",
       "      <td>200</td>\n",
       "      <td>0.2</td>\n",
       "      <td>0.0001</td>\n",
       "      <td>0</td>\n",
       "      <td>2</td>\n",
       "      <td>False</td>\n",
       "    </tr>\n",
       "    <tr>\n",
       "      <th>0</th>\n",
       "      <td>focal</td>\n",
       "      <td>0.5928</td>\n",
       "      <td>0.578402</td>\n",
       "      <td>[0.6563133018230924, 0.5004906771344455]</td>\n",
       "      <td>0.205242</td>\n",
       "      <td>0.766311</td>\n",
       "      <td>0.760437</td>\n",
       "      <td>[0.7979487179487179, 0.7229254571026723]</td>\n",
       "      <td>1</td>\n",
       "      <td>True</td>\n",
       "      <td>200</td>\n",
       "      <td>0.2</td>\n",
       "      <td>0.0001</td>\n",
       "      <td>1</td>\n",
       "      <td>2</td>\n",
       "      <td>False</td>\n",
       "    </tr>\n",
       "    <tr>\n",
       "      <th>0</th>\n",
       "      <td>focal</td>\n",
       "      <td>0.5952</td>\n",
       "      <td>0.581269</td>\n",
       "      <td>[0.6576454668470907, 0.5048923679060666]</td>\n",
       "      <td>0.195617</td>\n",
       "      <td>0.765125</td>\n",
       "      <td>0.759844</td>\n",
       "      <td>[0.7954545454545456, 0.7242339832869081]</td>\n",
       "      <td>1</td>\n",
       "      <td>True</td>\n",
       "      <td>200</td>\n",
       "      <td>0.2</td>\n",
       "      <td>0.0001</td>\n",
       "      <td>12</td>\n",
       "      <td>2</td>\n",
       "      <td>False</td>\n",
       "    </tr>\n",
       "    <tr>\n",
       "      <th>0</th>\n",
       "      <td>focal</td>\n",
       "      <td>0.5816</td>\n",
       "      <td>0.570036</td>\n",
       "      <td>[0.6405498281786942, 0.4995215311004785]</td>\n",
       "      <td>0.198716</td>\n",
       "      <td>0.765125</td>\n",
       "      <td>0.761279</td>\n",
       "      <td>[0.791578947368421, 0.7309782608695652]</td>\n",
       "      <td>1</td>\n",
       "      <td>True</td>\n",
       "      <td>200</td>\n",
       "      <td>0.2</td>\n",
       "      <td>0.0001</td>\n",
       "      <td>123</td>\n",
       "      <td>2</td>\n",
       "      <td>False</td>\n",
       "    </tr>\n",
       "    <tr>\n",
       "      <th>0</th>\n",
       "      <td>focal</td>\n",
       "      <td>0.5584</td>\n",
       "      <td>0.548401</td>\n",
       "      <td>[0.6155988857938719, 0.481203007518797]</td>\n",
       "      <td>0.214453</td>\n",
       "      <td>0.760380</td>\n",
       "      <td>0.757800</td>\n",
       "      <td>[0.7827956989247312, 0.7328042328042327]</td>\n",
       "      <td>1</td>\n",
       "      <td>True</td>\n",
       "      <td>200</td>\n",
       "      <td>0.2</td>\n",
       "      <td>0.0001</td>\n",
       "      <td>1234</td>\n",
       "      <td>2</td>\n",
       "      <td>False</td>\n",
       "    </tr>\n",
       "  </tbody>\n",
       "</table>\n",
       "</div>"
      ],
      "text/plain": [
       "    loss  accuracy        f1                                 f1_scores  \\\n",
       "0  focal    0.5976  0.580411  [0.6653359946773121, 0.4954864593781344]   \n",
       "0  focal    0.5928  0.578402  [0.6563133018230924, 0.5004906771344455]   \n",
       "0  focal    0.5952  0.581269  [0.6576454668470907, 0.5048923679060666]   \n",
       "0  focal    0.5816  0.570036  [0.6405498281786942, 0.4995215311004785]   \n",
       "0  focal    0.5584  0.548401   [0.6155988857938719, 0.481203007518797]   \n",
       "\n",
       "   valid_loss  valid_accuracy  valid_f1  \\\n",
       "0    0.208808        0.762752  0.756696   \n",
       "0    0.205242        0.766311  0.760437   \n",
       "0    0.195617        0.765125  0.759844   \n",
       "0    0.198716        0.765125  0.761279   \n",
       "0    0.214453        0.760380  0.757800   \n",
       "\n",
       "                            valid_f1_scores  num_layers  bidirectional  \\\n",
       "0  [0.7950819672131149, 0.7183098591549295]           1           True   \n",
       "0  [0.7979487179487179, 0.7229254571026723]           1           True   \n",
       "0  [0.7954545454545456, 0.7242339832869081]           1           True   \n",
       "0   [0.791578947368421, 0.7309782608695652]           1           True   \n",
       "0  [0.7827956989247312, 0.7328042328042327]           1           True   \n",
       "\n",
       "   hidden_dim  dropout_rate  learning_rate  seed  gamma  k_fold  \n",
       "0         200           0.2         0.0001     0      2   False  \n",
       "0         200           0.2         0.0001     1      2   False  \n",
       "0         200           0.2         0.0001    12      2   False  \n",
       "0         200           0.2         0.0001   123      2   False  \n",
       "0         200           0.2         0.0001  1234      2   False  "
      ]
     },
     "execution_count": 26,
     "metadata": {},
     "output_type": "execute_result"
    }
   ],
   "source": [
    "best_bilstm_history_20_kfold"
   ]
  },
  {
   "cell_type": "code",
   "execution_count": 27,
   "metadata": {},
   "outputs": [
    {
     "data": {
      "text/plain": [
       "0.5717037520357984"
      ]
     },
     "execution_count": 27,
     "metadata": {},
     "output_type": "execute_result"
    }
   ],
   "source": [
    "best_bilstm_history_20_kfold[\"f1\"].mean()"
   ]
  },
  {
   "cell_type": "code",
   "execution_count": 28,
   "metadata": {},
   "outputs": [
    {
     "data": {
      "text/plain": [
       "array([0.6470887 , 0.49631881])"
      ]
     },
     "execution_count": 28,
     "metadata": {},
     "output_type": "execute_result"
    }
   ],
   "source": [
    "np.stack(best_bilstm_history_20_kfold[\"f1_scores\"]).mean(axis=0)"
   ]
  },
  {
   "cell_type": "code",
   "execution_count": null,
   "metadata": {},
   "outputs": [],
   "source": []
  }
 ],
 "metadata": {
  "kernelspec": {
   "display_name": "nlpsig_kernel",
   "language": "python",
   "name": "nlpsig_kernel"
  },
  "language_info": {
   "codemirror_mode": {
    "name": "ipython",
    "version": 3
   },
   "file_extension": ".py",
   "mimetype": "text/x-python",
   "name": "python",
   "nbconvert_exporter": "python",
   "pygments_lexer": "ipython3",
   "version": "3.8.16"
  },
  "orig_nbformat": 4
 },
 "nbformat": 4,
 "nbformat_minor": 2
}
