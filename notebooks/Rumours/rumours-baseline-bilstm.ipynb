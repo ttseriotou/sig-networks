{
 "cells": [
  {
   "cell_type": "code",
   "execution_count": 2,
   "metadata": {},
   "outputs": [],
   "source": [
    "import pickle\n",
    "import numpy as np\n",
    "import pandas as pd\n",
    "import re\n",
    "\n",
    "seed = 2023"
   ]
  },
  {
   "cell_type": "code",
   "execution_count": 3,
   "metadata": {},
   "outputs": [],
   "source": [
    "import os\n",
    "os.chdir(\"../../\")"
   ]
  },
  {
   "cell_type": "code",
   "execution_count": 4,
   "metadata": {},
   "outputs": [
    {
     "name": "stderr",
     "output_type": "stream",
     "text": [
      "/storage/ttseriotou/nlpsig-networks-env/lib/python3.8/site-packages/tqdm/auto.py:21: TqdmWarning: IProgress not found. Please update jupyter and ipywidgets. See https://ipywidgets.readthedocs.io/en/stable/user_install.html\n",
      "  from .autonotebook import tqdm as notebook_tqdm\n"
     ]
    }
   ],
   "source": [
    "from nlpsig_networks.scripts.lstm_baseline_functions import (\n",
    "    lstm_hyperparameter_search,\n",
    "    obtain_path\n",
    ")"
   ]
  },
  {
   "cell_type": "markdown",
   "metadata": {},
   "source": [
    "Rumours"
   ]
  },
  {
   "cell_type": "code",
   "execution_count": 7,
   "metadata": {},
   "outputs": [],
   "source": [
    "%run notebooks/Rumours/load_sbert-embeddings.py"
   ]
  },
  {
   "cell_type": "code",
   "execution_count": null,
   "metadata": {},
   "outputs": [],
   "source": [
    "df_rumours.head()"
   ]
  },
  {
   "cell_type": "code",
   "execution_count": 8,
   "metadata": {},
   "outputs": [
    {
     "data": {
      "text/plain": [
       "torch.Size([5568, 384])"
      ]
     },
     "execution_count": 8,
     "metadata": {},
     "output_type": "execute_result"
    }
   ],
   "source": [
    "sbert_embeddings.shape"
   ]
  },
  {
   "cell_type": "code",
   "execution_count": 9,
   "metadata": {},
   "outputs": [
    {
     "name": "stdout",
     "output_type": "stream",
     "text": [
      "[INFO] Concatenating the embeddings to the dataframe...\n",
      "[INFO] - columns beginning with 'e' denote the full embddings.\n",
      "[INFO] Adding time feature columns into dataframe in `.df`.\n",
      "[INFO] Adding 'time_encoding' and feature...\n",
      "[INFO] Adding 'time_diff' and feature...\n",
      "[INFO] Adding 'timeline_index' feature...\n",
      "[INFO] Padding ids and storing in `.df_padded` and `.array_padded` attributes.\n"
     ]
    },
    {
     "name": "stderr",
     "output_type": "stream",
     "text": [
      "100%|██████████| 5568/5568 [00:37<00:00, 148.35it/s]\n"
     ]
    },
    {
     "data": {
      "text/plain": [
       "(5568, 20, 384)"
      ]
     },
     "execution_count": 9,
     "metadata": {},
     "output_type": "execute_result"
    }
   ],
   "source": [
    "x_data = obtain_path(\n",
    "    df=df_rumours, \n",
    "    id_column=\"timeline_id\",\n",
    "    label_column=\"label\",\n",
    "    embeddings=sbert_embeddings,\n",
    "    k=20\n",
    ")\n",
    "\n",
    "x_data.shape"
   ]
  },
  {
   "cell_type": "code",
   "execution_count": 11,
   "metadata": {},
   "outputs": [
    {
     "data": {
      "text/html": [
       "<div>\n",
       "<style scoped>\n",
       "    .dataframe tbody tr th:only-of-type {\n",
       "        vertical-align: middle;\n",
       "    }\n",
       "\n",
       "    .dataframe tbody tr th {\n",
       "        vertical-align: top;\n",
       "    }\n",
       "\n",
       "    .dataframe thead th {\n",
       "        text-align: right;\n",
       "    }\n",
       "</style>\n",
       "<table border=\"1\" class=\"dataframe\">\n",
       "  <thead>\n",
       "    <tr style=\"text-align: right;\">\n",
       "      <th></th>\n",
       "      <th>id</th>\n",
       "      <th>label</th>\n",
       "      <th>datetime</th>\n",
       "      <th>text</th>\n",
       "      <th>timeline_id</th>\n",
       "    </tr>\n",
       "  </thead>\n",
       "  <tbody>\n",
       "    <tr>\n",
       "      <th>0</th>\n",
       "      <td>5.249902e+17</td>\n",
       "      <td>0</td>\n",
       "      <td>2014-10-22 18:26:23</td>\n",
       "      <td>Police have clarified that there were two shoo...</td>\n",
       "      <td>0</td>\n",
       "    </tr>\n",
       "    <tr>\n",
       "      <th>1</th>\n",
       "      <td>5.249906e+17</td>\n",
       "      <td>0</td>\n",
       "      <td>2014-10-22 18:27:58</td>\n",
       "      <td>@CTVNews you guys \"confirmed\" there were 3 sho...</td>\n",
       "      <td>0</td>\n",
       "    </tr>\n",
       "    <tr>\n",
       "      <th>2</th>\n",
       "      <td>5.249908e+17</td>\n",
       "      <td>1</td>\n",
       "      <td>2014-10-22 18:28:46</td>\n",
       "      <td>@CTVNews get it right. http://t.co/GHYxMuzPG9</td>\n",
       "      <td>0</td>\n",
       "    </tr>\n",
       "    <tr>\n",
       "      <th>3</th>\n",
       "      <td>5.249927e+17</td>\n",
       "      <td>1</td>\n",
       "      <td>2014-10-22 18:36:29</td>\n",
       "      <td>RT @CTVNews Police have clarified that there w...</td>\n",
       "      <td>0</td>\n",
       "    </tr>\n",
       "    <tr>\n",
       "      <th>4</th>\n",
       "      <td>5.250038e+17</td>\n",
       "      <td>1</td>\n",
       "      <td>2014-10-22 19:20:41</td>\n",
       "      <td>@CTVNews @ctvsaskatoon so what happened at Rid...</td>\n",
       "      <td>0</td>\n",
       "    </tr>\n",
       "    <tr>\n",
       "      <th>5</th>\n",
       "      <td>5.249425e+17</td>\n",
       "      <td>0</td>\n",
       "      <td>2014-10-22 15:16:52</td>\n",
       "      <td>The University of Ottawa, just a five minute w...</td>\n",
       "      <td>1</td>\n",
       "    </tr>\n",
       "    <tr>\n",
       "      <th>6</th>\n",
       "      <td>5.249432e+17</td>\n",
       "      <td>0</td>\n",
       "      <td>2014-10-22 15:19:36</td>\n",
       "      <td>@ldobsonhughes @HuffPostCanada God Bless Heath...</td>\n",
       "      <td>1</td>\n",
       "    </tr>\n",
       "    <tr>\n",
       "      <th>7</th>\n",
       "      <td>5.249434e+17</td>\n",
       "      <td>0</td>\n",
       "      <td>2014-10-22 15:20:36</td>\n",
       "      <td>My Alma Mater. God. RT @ldobsonhughes: The Uni...</td>\n",
       "      <td>1</td>\n",
       "    </tr>\n",
       "    <tr>\n",
       "      <th>8</th>\n",
       "      <td>5.249441e+17</td>\n",
       "      <td>0</td>\n",
       "      <td>2014-10-22 15:23:16</td>\n",
       "      <td>@ldobsonhughes @InklessPW is 2 km from nasty p...</td>\n",
       "      <td>1</td>\n",
       "    </tr>\n",
       "    <tr>\n",
       "      <th>9</th>\n",
       "      <td>5.250329e+17</td>\n",
       "      <td>0</td>\n",
       "      <td>2014-10-22 21:16:06</td>\n",
       "      <td>BREAKING: Michael Zehaf-Bebeau had been design...</td>\n",
       "      <td>2</td>\n",
       "    </tr>\n",
       "    <tr>\n",
       "      <th>10</th>\n",
       "      <td>5.250335e+17</td>\n",
       "      <td>0</td>\n",
       "      <td>2014-10-22 21:18:38</td>\n",
       "      <td>@20committee @BlogsofWar How come we have to p...</td>\n",
       "      <td>2</td>\n",
       "    </tr>\n",
       "    <tr>\n",
       "      <th>11</th>\n",
       "      <td>5.250335e+17</td>\n",
       "      <td>0</td>\n",
       "      <td>2014-10-22 21:18:40</td>\n",
       "      <td>@20committee Pathetic.</td>\n",
       "      <td>2</td>\n",
       "    </tr>\n",
       "    <tr>\n",
       "      <th>12</th>\n",
       "      <td>5.250336e+17</td>\n",
       "      <td>0</td>\n",
       "      <td>2014-10-22 21:19:09</td>\n",
       "      <td>@20committee @kshaidle maybe we should start r...</td>\n",
       "      <td>2</td>\n",
       "    </tr>\n",
       "    <tr>\n",
       "      <th>13</th>\n",
       "      <td>5.250344e+17</td>\n",
       "      <td>0</td>\n",
       "      <td>2014-10-22 21:22:20</td>\n",
       "      <td>If Michael Zehaf-Bebeau had his passport confi...</td>\n",
       "      <td>2</td>\n",
       "    </tr>\n",
       "    <tr>\n",
       "      <th>14</th>\n",
       "      <td>5.250345e+17</td>\n",
       "      <td>0</td>\n",
       "      <td>2014-10-22 21:22:45</td>\n",
       "      <td>@aenk963 @BlogsofWar yes, but CSIS can't watch...</td>\n",
       "      <td>2</td>\n",
       "    </tr>\n",
       "    <tr>\n",
       "      <th>15</th>\n",
       "      <td>5.250353e+17</td>\n",
       "      <td>0</td>\n",
       "      <td>2014-10-22 21:25:34</td>\n",
       "      <td>Yes:) except in Australia there's a discussion...</td>\n",
       "      <td>2</td>\n",
       "    </tr>\n",
       "    <tr>\n",
       "      <th>16</th>\n",
       "      <td>5.250353e+17</td>\n",
       "      <td>0</td>\n",
       "      <td>2014-10-22 21:25:36</td>\n",
       "      <td>@20committee @sqwerin and @BarackObama still r...</td>\n",
       "      <td>2</td>\n",
       "    </tr>\n",
       "    <tr>\n",
       "      <th>17</th>\n",
       "      <td>5.250357e+17</td>\n",
       "      <td>1</td>\n",
       "      <td>2014-10-22 21:27:28</td>\n",
       "      <td>micro chip them - Just an uncivil thought :) @...</td>\n",
       "      <td>2</td>\n",
       "    </tr>\n",
       "    <tr>\n",
       "      <th>18</th>\n",
       "      <td>5.250387e+17</td>\n",
       "      <td>1</td>\n",
       "      <td>2014-10-22 21:39:16</td>\n",
       "      <td>@20committee @AresXtra They must put high risk...</td>\n",
       "      <td>2</td>\n",
       "    </tr>\n",
       "    <tr>\n",
       "      <th>19</th>\n",
       "      <td>5.250403e+17</td>\n",
       "      <td>1</td>\n",
       "      <td>2014-10-22 21:45:39</td>\n",
       "      <td>@20committee @kshaidle It makes more sense to ...</td>\n",
       "      <td>2</td>\n",
       "    </tr>\n",
       "  </tbody>\n",
       "</table>\n",
       "</div>"
      ],
      "text/plain": [
       "              id label            datetime  \\\n",
       "0   5.249902e+17     0 2014-10-22 18:26:23   \n",
       "1   5.249906e+17     0 2014-10-22 18:27:58   \n",
       "2   5.249908e+17     1 2014-10-22 18:28:46   \n",
       "3   5.249927e+17     1 2014-10-22 18:36:29   \n",
       "4   5.250038e+17     1 2014-10-22 19:20:41   \n",
       "5   5.249425e+17     0 2014-10-22 15:16:52   \n",
       "6   5.249432e+17     0 2014-10-22 15:19:36   \n",
       "7   5.249434e+17     0 2014-10-22 15:20:36   \n",
       "8   5.249441e+17     0 2014-10-22 15:23:16   \n",
       "9   5.250329e+17     0 2014-10-22 21:16:06   \n",
       "10  5.250335e+17     0 2014-10-22 21:18:38   \n",
       "11  5.250335e+17     0 2014-10-22 21:18:40   \n",
       "12  5.250336e+17     0 2014-10-22 21:19:09   \n",
       "13  5.250344e+17     0 2014-10-22 21:22:20   \n",
       "14  5.250345e+17     0 2014-10-22 21:22:45   \n",
       "15  5.250353e+17     0 2014-10-22 21:25:34   \n",
       "16  5.250353e+17     0 2014-10-22 21:25:36   \n",
       "17  5.250357e+17     1 2014-10-22 21:27:28   \n",
       "18  5.250387e+17     1 2014-10-22 21:39:16   \n",
       "19  5.250403e+17     1 2014-10-22 21:45:39   \n",
       "\n",
       "                                                 text timeline_id  \n",
       "0   Police have clarified that there were two shoo...           0  \n",
       "1   @CTVNews you guys \"confirmed\" there were 3 sho...           0  \n",
       "2       @CTVNews get it right. http://t.co/GHYxMuzPG9           0  \n",
       "3   RT @CTVNews Police have clarified that there w...           0  \n",
       "4   @CTVNews @ctvsaskatoon so what happened at Rid...           0  \n",
       "5   The University of Ottawa, just a five minute w...           1  \n",
       "6   @ldobsonhughes @HuffPostCanada God Bless Heath...           1  \n",
       "7   My Alma Mater. God. RT @ldobsonhughes: The Uni...           1  \n",
       "8   @ldobsonhughes @InklessPW is 2 km from nasty p...           1  \n",
       "9   BREAKING: Michael Zehaf-Bebeau had been design...           2  \n",
       "10  @20committee @BlogsofWar How come we have to p...           2  \n",
       "11                             @20committee Pathetic.           2  \n",
       "12  @20committee @kshaidle maybe we should start r...           2  \n",
       "13  If Michael Zehaf-Bebeau had his passport confi...           2  \n",
       "14  @aenk963 @BlogsofWar yes, but CSIS can't watch...           2  \n",
       "15  Yes:) except in Australia there's a discussion...           2  \n",
       "16  @20committee @sqwerin and @BarackObama still r...           2  \n",
       "17  micro chip them - Just an uncivil thought :) @...           2  \n",
       "18  @20committee @AresXtra They must put high risk...           2  \n",
       "19  @20committee @kshaidle It makes more sense to ...           2  "
      ]
     },
     "execution_count": 11,
     "metadata": {},
     "output_type": "execute_result"
    }
   ],
   "source": [
    "df_rumours.head(20)"
   ]
  },
  {
   "cell_type": "code",
   "execution_count": 10,
   "metadata": {},
   "outputs": [
    {
     "data": {
      "text/plain": [
       "array([[ 0.06482322,  0.00937483, -0.03336447, -0.04028158,  0.08319011,\n",
       "         0.04379221],\n",
       "       [ 0.01823091,  0.07951746,  0.03213233,  0.02682796,  0.00788967,\n",
       "         0.04279753],\n",
       "       [ 0.05382157,  0.00949206, -0.00965423, -0.03210687,  0.09826252,\n",
       "         0.06938579],\n",
       "       [-0.03186332,  0.05506539, -0.02402808, -0.02035064, -0.03055616,\n",
       "        -0.03032097],\n",
       "       [-0.02926038, -0.05390481, -0.03986266,  0.02331615,  0.13350497,\n",
       "         0.00199842],\n",
       "       [ 0.        ,  0.        ,  0.        ,  0.        ,  0.        ,\n",
       "         0.        ],\n",
       "       [ 0.        ,  0.        ,  0.        ,  0.        ,  0.        ,\n",
       "         0.        ],\n",
       "       [ 0.        ,  0.        ,  0.        ,  0.        ,  0.        ,\n",
       "         0.        ],\n",
       "       [ 0.        ,  0.        ,  0.        ,  0.        ,  0.        ,\n",
       "         0.        ],\n",
       "       [ 0.        ,  0.        ,  0.        ,  0.        ,  0.        ,\n",
       "         0.        ],\n",
       "       [ 0.        ,  0.        ,  0.        ,  0.        ,  0.        ,\n",
       "         0.        ],\n",
       "       [ 0.        ,  0.        ,  0.        ,  0.        ,  0.        ,\n",
       "         0.        ],\n",
       "       [ 0.        ,  0.        ,  0.        ,  0.        ,  0.        ,\n",
       "         0.        ],\n",
       "       [ 0.        ,  0.        ,  0.        ,  0.        ,  0.        ,\n",
       "         0.        ],\n",
       "       [ 0.        ,  0.        ,  0.        ,  0.        ,  0.        ,\n",
       "         0.        ],\n",
       "       [ 0.        ,  0.        ,  0.        ,  0.        ,  0.        ,\n",
       "         0.        ],\n",
       "       [ 0.        ,  0.        ,  0.        ,  0.        ,  0.        ,\n",
       "         0.        ],\n",
       "       [ 0.        ,  0.        ,  0.        ,  0.        ,  0.        ,\n",
       "         0.        ],\n",
       "       [ 0.        ,  0.        ,  0.        ,  0.        ,  0.        ,\n",
       "         0.        ],\n",
       "       [ 0.        ,  0.        ,  0.        ,  0.        ,  0.        ,\n",
       "         0.        ]])"
      ]
     },
     "execution_count": 10,
     "metadata": {},
     "output_type": "execute_result"
    }
   ],
   "source": [
    "x_data[4,:,:6]"
   ]
  },
  {
   "cell_type": "code",
   "execution_count": 12,
   "metadata": {},
   "outputs": [
    {
     "data": {
      "text/plain": [
       "tensor([-0.0293, -0.0539, -0.0399,  0.0233,  0.1335,  0.0020],\n",
       "       dtype=torch.float64)"
      ]
     },
     "execution_count": 12,
     "metadata": {},
     "output_type": "execute_result"
    }
   ],
   "source": [
    "sbert_embeddings[4,:6]"
   ]
  },
  {
   "cell_type": "code",
   "execution_count": 14,
   "metadata": {},
   "outputs": [
    {
     "data": {
      "text/plain": [
       "array([[ 0.06482322,  0.00937483, -0.03336447, -0.04028158,  0.08319011,\n",
       "         0.04379221],\n",
       "       [ 0.01823091,  0.07951746,  0.03213233,  0.02682796,  0.00788967,\n",
       "         0.04279753],\n",
       "       [ 0.05382157,  0.00949206, -0.00965423, -0.03210687,  0.09826252,\n",
       "         0.06938579],\n",
       "       [-0.03186332,  0.05506539, -0.02402808, -0.02035064, -0.03055616,\n",
       "        -0.03032097],\n",
       "       [-0.02926038, -0.05390481, -0.03986266,  0.02331615,  0.13350497,\n",
       "         0.00199842],\n",
       "       [ 0.03925574, -0.02373564, -0.01778829,  0.02274922,  0.11227943,\n",
       "         0.12534747],\n",
       "       [ 0.        ,  0.        ,  0.        ,  0.        ,  0.        ,\n",
       "         0.        ],\n",
       "       [ 0.        ,  0.        ,  0.        ,  0.        ,  0.        ,\n",
       "         0.        ],\n",
       "       [ 0.        ,  0.        ,  0.        ,  0.        ,  0.        ,\n",
       "         0.        ],\n",
       "       [ 0.        ,  0.        ,  0.        ,  0.        ,  0.        ,\n",
       "         0.        ],\n",
       "       [ 0.        ,  0.        ,  0.        ,  0.        ,  0.        ,\n",
       "         0.        ],\n",
       "       [ 0.        ,  0.        ,  0.        ,  0.        ,  0.        ,\n",
       "         0.        ],\n",
       "       [ 0.        ,  0.        ,  0.        ,  0.        ,  0.        ,\n",
       "         0.        ],\n",
       "       [ 0.        ,  0.        ,  0.        ,  0.        ,  0.        ,\n",
       "         0.        ],\n",
       "       [ 0.        ,  0.        ,  0.        ,  0.        ,  0.        ,\n",
       "         0.        ],\n",
       "       [ 0.        ,  0.        ,  0.        ,  0.        ,  0.        ,\n",
       "         0.        ],\n",
       "       [ 0.        ,  0.        ,  0.        ,  0.        ,  0.        ,\n",
       "         0.        ],\n",
       "       [ 0.        ,  0.        ,  0.        ,  0.        ,  0.        ,\n",
       "         0.        ],\n",
       "       [ 0.        ,  0.        ,  0.        ,  0.        ,  0.        ,\n",
       "         0.        ],\n",
       "       [ 0.        ,  0.        ,  0.        ,  0.        ,  0.        ,\n",
       "         0.        ]])"
      ]
     },
     "execution_count": 14,
     "metadata": {},
     "output_type": "execute_result"
    }
   ],
   "source": [
    "x_data[5,:,:6]"
   ]
  },
  {
   "cell_type": "code",
   "execution_count": 13,
   "metadata": {},
   "outputs": [
    {
     "data": {
      "text/plain": [
       "tensor([-0.0553, -0.0195,  0.0161,  0.0007,  0.0900,  0.0530],\n",
       "       dtype=torch.float64)"
      ]
     },
     "execution_count": 13,
     "metadata": {},
     "output_type": "execute_result"
    }
   ],
   "source": [
    "sbert_embeddings[5,:6]"
   ]
  },
  {
   "cell_type": "markdown",
   "metadata": {},
   "source": [
    "Baseline BiLSTM"
   ]
  },
  {
   "cell_type": "code",
   "execution_count": 18,
   "metadata": {},
   "outputs": [],
   "source": [
    "num_epochs = 100\n",
    "hidden_dim_sizes = [100]#[100, 200, 300]\n",
    "num_layers = 1\n",
    "bidirectional = True\n",
    "dropout_rates = [0.2]#[0.5, 0.2, 0.1]\n",
    "learning_rates = [1e-3, 1e-4, 5e-4]\n",
    "seeds = [0, 1, 12, 123, 1234]\n",
    "loss = \"focal\"\n",
    "gamma = 2\n",
    "validation_metric = \"f1\""
   ]
  },
  {
   "cell_type": "markdown",
   "metadata": {},
   "source": [
    "history length = 20"
   ]
  },
  {
   "cell_type": "code",
   "execution_count": 19,
   "metadata": {},
   "outputs": [
    {
     "name": "stderr",
     "output_type": "stream",
     "text": [
      "  0%|          | 0/1 [00:00<?, ?it/s]"
     ]
    },
    {
     "name": "stdout",
     "output_type": "stream",
     "text": [
      "[INFO] Concatenating the embeddings to the dataframe...\n",
      "[INFO] - columns beginning with 'e' denote the full embddings.\n",
      "[INFO] Adding time feature columns into dataframe in `.df`.\n",
      "[INFO] Adding 'time_encoding' and feature...\n",
      "[INFO] Adding 'time_diff' and feature...\n",
      "[INFO] Adding 'timeline_index' feature...\n",
      "[INFO] Padding ids and storing in `.df_padded` and `.array_padded` attributes.\n"
     ]
    },
    {
     "name": "stderr",
     "output_type": "stream",
     "text": [
      "100%|██████████| 5568/5568 [00:34<00:00, 159.32it/s]\n",
      "\n",
      "\u001b[A\n",
      "\n",
      "\u001b[A\u001b[A\n",
      "\n",
      " 33%|███▎      | 1/3 [09:32<19:04, 572.13s/it]\n",
      "  0%|          | 0/1 [09:32<?, ?it/s]\n",
      "  0%|          | 0/1 [09:32<?, ?it/s]\n",
      "  0%|          | 0/1 [10:11<?, ?it/s]\n"
     ]
    },
    {
     "ename": "KeyboardInterrupt",
     "evalue": "",
     "output_type": "error",
     "traceback": [
      "\u001b[0;31m---------------------------------------------------------------------------\u001b[0m",
      "\u001b[0;31mKeyboardInterrupt\u001b[0m                         Traceback (most recent call last)",
      "Cell \u001b[0;32mIn[19], line 2\u001b[0m\n\u001b[1;32m      1\u001b[0m size \u001b[38;5;241m=\u001b[39m \u001b[38;5;241m20\u001b[39m\n\u001b[0;32m----> 2\u001b[0m bilstm_history_20_kfold, best_bilstm_history_20_kfold, _, __ \u001b[38;5;241m=\u001b[39m \u001b[43mlstm_hyperparameter_search\u001b[49m\u001b[43m(\u001b[49m\n\u001b[1;32m      3\u001b[0m \u001b[43m    \u001b[49m\u001b[43mnum_epochs\u001b[49m\u001b[38;5;241;43m=\u001b[39;49m\u001b[43mnum_epochs\u001b[49m\u001b[43m,\u001b[49m\n\u001b[1;32m      4\u001b[0m \u001b[43m    \u001b[49m\u001b[43mdf\u001b[49m\u001b[38;5;241;43m=\u001b[39;49m\u001b[43mdf_rumours\u001b[49m\u001b[43m,\u001b[49m\n\u001b[1;32m      5\u001b[0m \u001b[43m    \u001b[49m\u001b[43mid_column\u001b[49m\u001b[38;5;241;43m=\u001b[39;49m\u001b[38;5;124;43m\"\u001b[39;49m\u001b[38;5;124;43mtimeline_id\u001b[39;49m\u001b[38;5;124;43m\"\u001b[39;49m\u001b[43m,\u001b[49m\n\u001b[1;32m      6\u001b[0m \u001b[43m    \u001b[49m\u001b[43mlabel_column\u001b[49m\u001b[38;5;241;43m=\u001b[39;49m\u001b[38;5;124;43m\"\u001b[39;49m\u001b[38;5;124;43mlabel\u001b[39;49m\u001b[38;5;124;43m\"\u001b[39;49m\u001b[43m,\u001b[49m\n\u001b[1;32m      7\u001b[0m \u001b[43m    \u001b[49m\u001b[43membeddings\u001b[49m\u001b[38;5;241;43m=\u001b[39;49m\u001b[43msbert_embeddings\u001b[49m\u001b[43m,\u001b[49m\n\u001b[1;32m      8\u001b[0m \u001b[43m    \u001b[49m\u001b[43my_data\u001b[49m\u001b[38;5;241;43m=\u001b[39;49m\u001b[43my_data\u001b[49m\u001b[43m,\u001b[49m\n\u001b[1;32m      9\u001b[0m \u001b[43m    \u001b[49m\u001b[43mhistory_lengths\u001b[49m\u001b[38;5;241;43m=\u001b[39;49m\u001b[43m[\u001b[49m\u001b[43msize\u001b[49m\u001b[43m]\u001b[49m\u001b[43m,\u001b[49m\n\u001b[1;32m     10\u001b[0m \u001b[43m    \u001b[49m\u001b[43mhidden_dim_sizes\u001b[49m\u001b[38;5;241;43m=\u001b[39;49m\u001b[43mhidden_dim_sizes\u001b[49m\u001b[43m,\u001b[49m\n\u001b[1;32m     11\u001b[0m \u001b[43m    \u001b[49m\u001b[43mnum_layers\u001b[49m\u001b[38;5;241;43m=\u001b[39;49m\u001b[43mnum_layers\u001b[49m\u001b[43m,\u001b[49m\n\u001b[1;32m     12\u001b[0m \u001b[43m    \u001b[49m\u001b[43mbidirectional\u001b[49m\u001b[38;5;241;43m=\u001b[39;49m\u001b[43mbidirectional\u001b[49m\u001b[43m,\u001b[49m\n\u001b[1;32m     13\u001b[0m \u001b[43m    \u001b[49m\u001b[43moutput_dim\u001b[49m\u001b[38;5;241;43m=\u001b[39;49m\u001b[43moutput_dim\u001b[49m\u001b[43m,\u001b[49m\n\u001b[1;32m     14\u001b[0m \u001b[43m    \u001b[49m\u001b[43mdropout_rates\u001b[49m\u001b[38;5;241;43m=\u001b[39;49m\u001b[43mdropout_rates\u001b[49m\u001b[43m,\u001b[49m\n\u001b[1;32m     15\u001b[0m \u001b[43m    \u001b[49m\u001b[43mlearning_rates\u001b[49m\u001b[38;5;241;43m=\u001b[39;49m\u001b[43mlearning_rates\u001b[49m\u001b[43m,\u001b[49m\n\u001b[1;32m     16\u001b[0m \u001b[43m    \u001b[49m\u001b[43mseeds\u001b[49m\u001b[38;5;241;43m=\u001b[39;49m\u001b[43mseeds\u001b[49m\u001b[43m,\u001b[49m\n\u001b[1;32m     17\u001b[0m \u001b[43m    \u001b[49m\u001b[43mloss\u001b[49m\u001b[38;5;241;43m=\u001b[39;49m\u001b[43mloss\u001b[49m\u001b[43m,\u001b[49m\n\u001b[1;32m     18\u001b[0m \u001b[43m    \u001b[49m\u001b[43mgamma\u001b[49m\u001b[38;5;241;43m=\u001b[39;49m\u001b[43mgamma\u001b[49m\u001b[43m,\u001b[49m\n\u001b[1;32m     19\u001b[0m \u001b[43m    \u001b[49m\u001b[43mpath_indices\u001b[49m\u001b[38;5;241;43m=\u001b[39;49m\u001b[38;5;28;43;01mNone\u001b[39;49;00m\u001b[43m,\u001b[49m\n\u001b[1;32m     20\u001b[0m \u001b[43m    \u001b[49m\u001b[43mdata_split_seed\u001b[49m\u001b[38;5;241;43m=\u001b[39;49m\u001b[38;5;241;43m123\u001b[39;49m\u001b[43m,\u001b[49m\n\u001b[1;32m     21\u001b[0m \u001b[43m    \u001b[49m\u001b[43mk_fold\u001b[49m\u001b[38;5;241;43m=\u001b[39;49m\u001b[38;5;28;43;01mFalse\u001b[39;49;00m\u001b[43m,\u001b[49m\n\u001b[1;32m     22\u001b[0m \u001b[43m    \u001b[49m\u001b[43mvalidation_metric\u001b[49m\u001b[38;5;241;43m=\u001b[39;49m\u001b[43mvalidation_metric\u001b[49m\u001b[43m,\u001b[49m\n\u001b[1;32m     23\u001b[0m \u001b[43m    \u001b[49m\u001b[43mresults_output\u001b[49m\u001b[38;5;241;43m=\u001b[39;49m\u001b[38;5;28;43;01mNone\u001b[39;49;00m\u001b[43m,\u001b[49m\n\u001b[1;32m     24\u001b[0m \u001b[43m    \u001b[49m\u001b[43mverbose\u001b[49m\u001b[38;5;241;43m=\u001b[39;49m\u001b[38;5;28;43;01mFalse\u001b[39;49;00m\n\u001b[1;32m     25\u001b[0m \u001b[43m)\u001b[49m\n",
      "File \u001b[0;32m~/nlpsig-networks/nlpsig_networks/scripts/lstm_baseline_functions.py:370\u001b[0m, in \u001b[0;36mlstm_hyperparameter_search\u001b[0;34m(num_epochs, df, id_column, label_column, embeddings, y_data, output_dim, history_lengths, hidden_dim_sizes, num_layers, bidirectional, dropout_rates, learning_rates, seeds, loss, gamma, path_indices, data_split_seed, k_fold, n_splits, validation_metric, results_output, verbose)\u001b[0m\n\u001b[1;32m    <a href='file:///home/ttseriotou/nlpsig-networks/nlpsig_networks/scripts/lstm_baseline_functions.py?line=367'>368</a>\u001b[0m verbose_model \u001b[39m=\u001b[39m verbose\n\u001b[1;32m    <a href='file:///home/ttseriotou/nlpsig-networks/nlpsig_networks/scripts/lstm_baseline_functions.py?line=368'>369</a>\u001b[0m \u001b[39mfor\u001b[39;00m seed \u001b[39min\u001b[39;00m seeds:\n\u001b[0;32m--> <a href='file:///home/ttseriotou/nlpsig-networks/nlpsig_networks/scripts/lstm_baseline_functions.py?line=369'>370</a>\u001b[0m     _, results \u001b[39m=\u001b[39m implement_lstm(num_epochs\u001b[39m=\u001b[39;49mnum_epochs,\n\u001b[1;32m    <a href='file:///home/ttseriotou/nlpsig-networks/nlpsig_networks/scripts/lstm_baseline_functions.py?line=370'>371</a>\u001b[0m                                 x_data\u001b[39m=\u001b[39;49mx_data,\n\u001b[1;32m    <a href='file:///home/ttseriotou/nlpsig-networks/nlpsig_networks/scripts/lstm_baseline_functions.py?line=371'>372</a>\u001b[0m                                 y_data\u001b[39m=\u001b[39;49my_data,\n\u001b[1;32m    <a href='file:///home/ttseriotou/nlpsig-networks/nlpsig_networks/scripts/lstm_baseline_functions.py?line=372'>373</a>\u001b[0m                                 hidden_dim\u001b[39m=\u001b[39;49mhidden_dim,\n\u001b[1;32m    <a href='file:///home/ttseriotou/nlpsig-networks/nlpsig_networks/scripts/lstm_baseline_functions.py?line=373'>374</a>\u001b[0m                                 num_layers\u001b[39m=\u001b[39;49mnum_layers,\n\u001b[1;32m    <a href='file:///home/ttseriotou/nlpsig-networks/nlpsig_networks/scripts/lstm_baseline_functions.py?line=374'>375</a>\u001b[0m                                 bidirectional\u001b[39m=\u001b[39;49mbidirectional,\n\u001b[1;32m    <a href='file:///home/ttseriotou/nlpsig-networks/nlpsig_networks/scripts/lstm_baseline_functions.py?line=375'>376</a>\u001b[0m                                 output_dim\u001b[39m=\u001b[39;49moutput_dim,\n\u001b[1;32m    <a href='file:///home/ttseriotou/nlpsig-networks/nlpsig_networks/scripts/lstm_baseline_functions.py?line=376'>377</a>\u001b[0m                                 dropout_rate\u001b[39m=\u001b[39;49mdropout,\n\u001b[1;32m    <a href='file:///home/ttseriotou/nlpsig-networks/nlpsig_networks/scripts/lstm_baseline_functions.py?line=377'>378</a>\u001b[0m                                 learning_rate\u001b[39m=\u001b[39;49mlr,\n\u001b[1;32m    <a href='file:///home/ttseriotou/nlpsig-networks/nlpsig_networks/scripts/lstm_baseline_functions.py?line=378'>379</a>\u001b[0m                                 seed\u001b[39m=\u001b[39;49mseed,\n\u001b[1;32m    <a href='file:///home/ttseriotou/nlpsig-networks/nlpsig_networks/scripts/lstm_baseline_functions.py?line=379'>380</a>\u001b[0m                                 loss\u001b[39m=\u001b[39;49mloss,\n\u001b[1;32m    <a href='file:///home/ttseriotou/nlpsig-networks/nlpsig_networks/scripts/lstm_baseline_functions.py?line=380'>381</a>\u001b[0m                                 gamma\u001b[39m=\u001b[39;49mgamma,\n\u001b[1;32m    <a href='file:///home/ttseriotou/nlpsig-networks/nlpsig_networks/scripts/lstm_baseline_functions.py?line=381'>382</a>\u001b[0m                                 data_split_seed\u001b[39m=\u001b[39;49mdata_split_seed,\n\u001b[1;32m    <a href='file:///home/ttseriotou/nlpsig-networks/nlpsig_networks/scripts/lstm_baseline_functions.py?line=382'>383</a>\u001b[0m                                 k_fold\u001b[39m=\u001b[39;49mk_fold,\n\u001b[1;32m    <a href='file:///home/ttseriotou/nlpsig-networks/nlpsig_networks/scripts/lstm_baseline_functions.py?line=383'>384</a>\u001b[0m                                 n_splits\u001b[39m=\u001b[39;49mn_splits,\n\u001b[1;32m    <a href='file:///home/ttseriotou/nlpsig-networks/nlpsig_networks/scripts/lstm_baseline_functions.py?line=384'>385</a>\u001b[0m                                 verbose_training\u001b[39m=\u001b[39;49m\u001b[39mFalse\u001b[39;49;00m,\n\u001b[1;32m    <a href='file:///home/ttseriotou/nlpsig-networks/nlpsig_networks/scripts/lstm_baseline_functions.py?line=385'>386</a>\u001b[0m                                 verbose_results\u001b[39m=\u001b[39;49mverbose,\n\u001b[1;32m    <a href='file:///home/ttseriotou/nlpsig-networks/nlpsig_networks/scripts/lstm_baseline_functions.py?line=386'>387</a>\u001b[0m                                 verbose_model\u001b[39m=\u001b[39;49mverbose_model)\n\u001b[1;32m    <a href='file:///home/ttseriotou/nlpsig-networks/nlpsig_networks/scripts/lstm_baseline_functions.py?line=388'>389</a>\u001b[0m     \u001b[39m# save metric that we want to validate on\u001b[39;00m\n\u001b[1;32m    <a href='file:///home/ttseriotou/nlpsig-networks/nlpsig_networks/scripts/lstm_baseline_functions.py?line=389'>390</a>\u001b[0m     \u001b[39m# taking the mean over the performance on the folds for the seed\u001b[39;00m\n\u001b[1;32m    <a href='file:///home/ttseriotou/nlpsig-networks/nlpsig_networks/scripts/lstm_baseline_functions.py?line=390'>391</a>\u001b[0m     \u001b[39m# if k_fold=False, .mean() just returns the performance for the seed\u001b[39;00m\n\u001b[1;32m    <a href='file:///home/ttseriotou/nlpsig-networks/nlpsig_networks/scripts/lstm_baseline_functions.py?line=391'>392</a>\u001b[0m     scores\u001b[39m.\u001b[39mappend(results[\u001b[39mf\u001b[39m\u001b[39m\"\u001b[39m\u001b[39mvalid_\u001b[39m\u001b[39m{\u001b[39;00mvalidation_metric\u001b[39m}\u001b[39;00m\u001b[39m\"\u001b[39m]\u001b[39m.\u001b[39mmean())\n",
      "File \u001b[0;32m~/nlpsig-networks/nlpsig_networks/scripts/lstm_baseline_functions.py:180\u001b[0m, in \u001b[0;36mimplement_lstm\u001b[0;34m(num_epochs, x_data, y_data, hidden_dim, num_layers, bidirectional, output_dim, dropout_rate, learning_rate, seed, loss, gamma, data_split_seed, k_fold, n_splits, verbose_training, verbose_results, verbose_model)\u001b[0m\n\u001b[1;32m    <a href='file:///home/ttseriotou/nlpsig-networks/nlpsig_networks/scripts/lstm_baseline_functions.py?line=176'>177</a>\u001b[0m optimizer \u001b[39m=\u001b[39m torch\u001b[39m.\u001b[39moptim\u001b[39m.\u001b[39mAdam(lstm_model\u001b[39m.\u001b[39mparameters(), lr\u001b[39m=\u001b[39mlearning_rate)\n\u001b[1;32m    <a href='file:///home/ttseriotou/nlpsig-networks/nlpsig_networks/scripts/lstm_baseline_functions.py?line=178'>179</a>\u001b[0m \u001b[39m# train LSTM\u001b[39;00m\n\u001b[0;32m--> <a href='file:///home/ttseriotou/nlpsig-networks/nlpsig_networks/scripts/lstm_baseline_functions.py?line=179'>180</a>\u001b[0m lstm_model \u001b[39m=\u001b[39m training_pytorch(model\u001b[39m=\u001b[39;49mlstm_model,\n\u001b[1;32m    <a href='file:///home/ttseriotou/nlpsig-networks/nlpsig_networks/scripts/lstm_baseline_functions.py?line=180'>181</a>\u001b[0m                               train_loader\u001b[39m=\u001b[39;49mtrain,\n\u001b[1;32m    <a href='file:///home/ttseriotou/nlpsig-networks/nlpsig_networks/scripts/lstm_baseline_functions.py?line=181'>182</a>\u001b[0m                               criterion\u001b[39m=\u001b[39;49mcriterion,\n\u001b[1;32m    <a href='file:///home/ttseriotou/nlpsig-networks/nlpsig_networks/scripts/lstm_baseline_functions.py?line=182'>183</a>\u001b[0m                               optimizer\u001b[39m=\u001b[39;49moptimizer,\n\u001b[1;32m    <a href='file:///home/ttseriotou/nlpsig-networks/nlpsig_networks/scripts/lstm_baseline_functions.py?line=183'>184</a>\u001b[0m                               num_epochs\u001b[39m=\u001b[39;49mnum_epochs,\n\u001b[1;32m    <a href='file:///home/ttseriotou/nlpsig-networks/nlpsig_networks/scripts/lstm_baseline_functions.py?line=184'>185</a>\u001b[0m                               valid_loader\u001b[39m=\u001b[39;49mvalid,\n\u001b[1;32m    <a href='file:///home/ttseriotou/nlpsig-networks/nlpsig_networks/scripts/lstm_baseline_functions.py?line=185'>186</a>\u001b[0m                               seed\u001b[39m=\u001b[39;49mseed,\n\u001b[1;32m    <a href='file:///home/ttseriotou/nlpsig-networks/nlpsig_networks/scripts/lstm_baseline_functions.py?line=186'>187</a>\u001b[0m                               return_best\u001b[39m=\u001b[39;49mreturn_best,\n\u001b[1;32m    <a href='file:///home/ttseriotou/nlpsig-networks/nlpsig_networks/scripts/lstm_baseline_functions.py?line=187'>188</a>\u001b[0m                               output\u001b[39m=\u001b[39;49mmodel_output,\n\u001b[1;32m    <a href='file:///home/ttseriotou/nlpsig-networks/nlpsig_networks/scripts/lstm_baseline_functions.py?line=188'>189</a>\u001b[0m                               early_stopping\u001b[39m=\u001b[39;49mearly_stopping,\n\u001b[1;32m    <a href='file:///home/ttseriotou/nlpsig-networks/nlpsig_networks/scripts/lstm_baseline_functions.py?line=189'>190</a>\u001b[0m                               validation_metric\u001b[39m=\u001b[39;49mvalidation_metric,\n\u001b[1;32m    <a href='file:///home/ttseriotou/nlpsig-networks/nlpsig_networks/scripts/lstm_baseline_functions.py?line=190'>191</a>\u001b[0m                               patience\u001b[39m=\u001b[39;49mpatience,\n\u001b[1;32m    <a href='file:///home/ttseriotou/nlpsig-networks/nlpsig_networks/scripts/lstm_baseline_functions.py?line=191'>192</a>\u001b[0m                               verbose\u001b[39m=\u001b[39;49mverbose_training)\n\u001b[1;32m    <a href='file:///home/ttseriotou/nlpsig-networks/nlpsig_networks/scripts/lstm_baseline_functions.py?line=193'>194</a>\u001b[0m \u001b[39m# evaluate on validation\u001b[39;00m\n\u001b[1;32m    <a href='file:///home/ttseriotou/nlpsig-networks/nlpsig_networks/scripts/lstm_baseline_functions.py?line=194'>195</a>\u001b[0m valid_results \u001b[39m=\u001b[39m testing_pytorch(model\u001b[39m=\u001b[39mlstm_model,\n\u001b[1;32m    <a href='file:///home/ttseriotou/nlpsig-networks/nlpsig_networks/scripts/lstm_baseline_functions.py?line=195'>196</a>\u001b[0m                                 test_loader\u001b[39m=\u001b[39mvalid,\n\u001b[1;32m    <a href='file:///home/ttseriotou/nlpsig-networks/nlpsig_networks/scripts/lstm_baseline_functions.py?line=196'>197</a>\u001b[0m                                 criterion\u001b[39m=\u001b[39mcriterion,\n\u001b[1;32m    <a href='file:///home/ttseriotou/nlpsig-networks/nlpsig_networks/scripts/lstm_baseline_functions.py?line=197'>198</a>\u001b[0m                                 verbose\u001b[39m=\u001b[39m\u001b[39mFalse\u001b[39;00m)\n",
      "File \u001b[0;32m~/nlpsig-networks/nlpsig_networks/pytorch_utils.py:429\u001b[0m, in \u001b[0;36mtraining_pytorch\u001b[0;34m(model, train_loader, criterion, optimizer, num_epochs, scheduler, valid_loader, seed, return_best, save_best, output, early_stopping, validation_metric, patience, verbose, verbose_epoch)\u001b[0m\n\u001b[1;32m    <a href='file:///home/ttseriotou/nlpsig-networks/nlpsig_networks/pytorch_utils.py?line=422'>423</a>\u001b[0m metric_v \u001b[39m=\u001b[39m validation_results[validation_metric]\n\u001b[1;32m    <a href='file:///home/ttseriotou/nlpsig-networks/nlpsig_networks/pytorch_utils.py?line=424'>425</a>\u001b[0m \u001b[39mif\u001b[39;00m save_best \u001b[39m|\u001b[39m return_best:\n\u001b[1;32m    <a href='file:///home/ttseriotou/nlpsig-networks/nlpsig_networks/pytorch_utils.py?line=425'>426</a>\u001b[0m     \u001b[39m# compute loss, accuracy and F1 on training set as well\u001b[39;00m\n\u001b[1;32m    <a href='file:///home/ttseriotou/nlpsig-networks/nlpsig_networks/pytorch_utils.py?line=426'>427</a>\u001b[0m     \u001b[39m# this is to determine how well we're doing on the training set\u001b[39;00m\n\u001b[1;32m    <a href='file:///home/ttseriotou/nlpsig-networks/nlpsig_networks/pytorch_utils.py?line=427'>428</a>\u001b[0m     \u001b[39m# allows us to choose between models that have the same validation\u001b[39;00m\n\u001b[0;32m--> <a href='file:///home/ttseriotou/nlpsig-networks/nlpsig_networks/pytorch_utils.py?line=428'>429</a>\u001b[0m     validation_results \u001b[39m=\u001b[39m validation_pytorch(\n\u001b[1;32m    <a href='file:///home/ttseriotou/nlpsig-networks/nlpsig_networks/pytorch_utils.py?line=429'>430</a>\u001b[0m         model\u001b[39m=\u001b[39;49mmodel,\n\u001b[1;32m    <a href='file:///home/ttseriotou/nlpsig-networks/nlpsig_networks/pytorch_utils.py?line=430'>431</a>\u001b[0m         valid_loader\u001b[39m=\u001b[39;49mtrain_loader,\n\u001b[1;32m    <a href='file:///home/ttseriotou/nlpsig-networks/nlpsig_networks/pytorch_utils.py?line=431'>432</a>\u001b[0m         criterion\u001b[39m=\u001b[39;49mcriterion,\n\u001b[1;32m    <a href='file:///home/ttseriotou/nlpsig-networks/nlpsig_networks/pytorch_utils.py?line=432'>433</a>\u001b[0m         epoch\u001b[39m=\u001b[39;49mepoch,\n\u001b[1;32m    <a href='file:///home/ttseriotou/nlpsig-networks/nlpsig_networks/pytorch_utils.py?line=433'>434</a>\u001b[0m         verbose\u001b[39m=\u001b[39;49m\u001b[39mFalse\u001b[39;49;00m,\n\u001b[1;32m    <a href='file:///home/ttseriotou/nlpsig-networks/nlpsig_networks/pytorch_utils.py?line=434'>435</a>\u001b[0m     )\n\u001b[1;32m    <a href='file:///home/ttseriotou/nlpsig-networks/nlpsig_networks/pytorch_utils.py?line=435'>436</a>\u001b[0m     \u001b[39m# save metric that we want to validate on\u001b[39;00m\n\u001b[1;32m    <a href='file:///home/ttseriotou/nlpsig-networks/nlpsig_networks/pytorch_utils.py?line=436'>437</a>\u001b[0m     metric_train \u001b[39m=\u001b[39m validation_results[validation_metric]\n",
      "File \u001b[0;32m~/nlpsig-networks/nlpsig_networks/pytorch_utils.py:285\u001b[0m, in \u001b[0;36mvalidation_pytorch\u001b[0;34m(model, valid_loader, criterion, epoch, verbose, verbose_epoch)\u001b[0m\n\u001b[1;32m    <a href='file:///home/ttseriotou/nlpsig-networks/nlpsig_networks/pytorch_utils.py?line=282'>283</a>\u001b[0m predicted \u001b[39m=\u001b[39m torch\u001b[39m.\u001b[39mempty((\u001b[39m0\u001b[39m))\n\u001b[1;32m    <a href='file:///home/ttseriotou/nlpsig-networks/nlpsig_networks/pytorch_utils.py?line=283'>284</a>\u001b[0m \u001b[39mwith\u001b[39;00m torch\u001b[39m.\u001b[39mno_grad():\n\u001b[0;32m--> <a href='file:///home/ttseriotou/nlpsig-networks/nlpsig_networks/pytorch_utils.py?line=284'>285</a>\u001b[0m     \u001b[39mfor\u001b[39;00m emb_v, labels_v \u001b[39min\u001b[39;00m valid_loader:\n\u001b[1;32m    <a href='file:///home/ttseriotou/nlpsig-networks/nlpsig_networks/pytorch_utils.py?line=285'>286</a>\u001b[0m         \u001b[39m# make prediction\u001b[39;00m\n\u001b[1;32m    <a href='file:///home/ttseriotou/nlpsig-networks/nlpsig_networks/pytorch_utils.py?line=286'>287</a>\u001b[0m         outputs \u001b[39m=\u001b[39m model(emb_v)\n\u001b[1;32m    <a href='file:///home/ttseriotou/nlpsig-networks/nlpsig_networks/pytorch_utils.py?line=287'>288</a>\u001b[0m         _, predicted_v \u001b[39m=\u001b[39m torch\u001b[39m.\u001b[39mmax(outputs\u001b[39m.\u001b[39mdata, \u001b[39m1\u001b[39m)\n",
      "File \u001b[0;32m/storage/ttseriotou/nlpsig-networks-env/lib/python3.8/site-packages/torch/utils/data/dataloader.py:521\u001b[0m, in \u001b[0;36m_BaseDataLoaderIter.__next__\u001b[0;34m(self)\u001b[0m\n\u001b[1;32m    <a href='file:///storage/ttseriotou/nlpsig-networks-env/lib/python3.8/site-packages/torch/utils/data/dataloader.py?line=518'>519</a>\u001b[0m \u001b[39mif\u001b[39;00m \u001b[39mself\u001b[39m\u001b[39m.\u001b[39m_sampler_iter \u001b[39mis\u001b[39;00m \u001b[39mNone\u001b[39;00m:\n\u001b[1;32m    <a href='file:///storage/ttseriotou/nlpsig-networks-env/lib/python3.8/site-packages/torch/utils/data/dataloader.py?line=519'>520</a>\u001b[0m     \u001b[39mself\u001b[39m\u001b[39m.\u001b[39m_reset()\n\u001b[0;32m--> <a href='file:///storage/ttseriotou/nlpsig-networks-env/lib/python3.8/site-packages/torch/utils/data/dataloader.py?line=520'>521</a>\u001b[0m data \u001b[39m=\u001b[39m \u001b[39mself\u001b[39;49m\u001b[39m.\u001b[39;49m_next_data()\n\u001b[1;32m    <a href='file:///storage/ttseriotou/nlpsig-networks-env/lib/python3.8/site-packages/torch/utils/data/dataloader.py?line=521'>522</a>\u001b[0m \u001b[39mself\u001b[39m\u001b[39m.\u001b[39m_num_yielded \u001b[39m+\u001b[39m\u001b[39m=\u001b[39m \u001b[39m1\u001b[39m\n\u001b[1;32m    <a href='file:///storage/ttseriotou/nlpsig-networks-env/lib/python3.8/site-packages/torch/utils/data/dataloader.py?line=522'>523</a>\u001b[0m \u001b[39mif\u001b[39;00m \u001b[39mself\u001b[39m\u001b[39m.\u001b[39m_dataset_kind \u001b[39m==\u001b[39m _DatasetKind\u001b[39m.\u001b[39mIterable \u001b[39mand\u001b[39;00m \\\n\u001b[1;32m    <a href='file:///storage/ttseriotou/nlpsig-networks-env/lib/python3.8/site-packages/torch/utils/data/dataloader.py?line=523'>524</a>\u001b[0m         \u001b[39mself\u001b[39m\u001b[39m.\u001b[39m_IterableDataset_len_called \u001b[39mis\u001b[39;00m \u001b[39mnot\u001b[39;00m \u001b[39mNone\u001b[39;00m \u001b[39mand\u001b[39;00m \\\n\u001b[1;32m    <a href='file:///storage/ttseriotou/nlpsig-networks-env/lib/python3.8/site-packages/torch/utils/data/dataloader.py?line=524'>525</a>\u001b[0m         \u001b[39mself\u001b[39m\u001b[39m.\u001b[39m_num_yielded \u001b[39m>\u001b[39m \u001b[39mself\u001b[39m\u001b[39m.\u001b[39m_IterableDataset_len_called:\n",
      "File \u001b[0;32m/storage/ttseriotou/nlpsig-networks-env/lib/python3.8/site-packages/torch/utils/data/dataloader.py:561\u001b[0m, in \u001b[0;36m_SingleProcessDataLoaderIter._next_data\u001b[0;34m(self)\u001b[0m\n\u001b[1;32m    <a href='file:///storage/ttseriotou/nlpsig-networks-env/lib/python3.8/site-packages/torch/utils/data/dataloader.py?line=558'>559</a>\u001b[0m \u001b[39mdef\u001b[39;00m \u001b[39m_next_data\u001b[39m(\u001b[39mself\u001b[39m):\n\u001b[1;32m    <a href='file:///storage/ttseriotou/nlpsig-networks-env/lib/python3.8/site-packages/torch/utils/data/dataloader.py?line=559'>560</a>\u001b[0m     index \u001b[39m=\u001b[39m \u001b[39mself\u001b[39m\u001b[39m.\u001b[39m_next_index()  \u001b[39m# may raise StopIteration\u001b[39;00m\n\u001b[0;32m--> <a href='file:///storage/ttseriotou/nlpsig-networks-env/lib/python3.8/site-packages/torch/utils/data/dataloader.py?line=560'>561</a>\u001b[0m     data \u001b[39m=\u001b[39m \u001b[39mself\u001b[39;49m\u001b[39m.\u001b[39;49m_dataset_fetcher\u001b[39m.\u001b[39;49mfetch(index)  \u001b[39m# may raise StopIteration\u001b[39;00m\n\u001b[1;32m    <a href='file:///storage/ttseriotou/nlpsig-networks-env/lib/python3.8/site-packages/torch/utils/data/dataloader.py?line=561'>562</a>\u001b[0m     \u001b[39mif\u001b[39;00m \u001b[39mself\u001b[39m\u001b[39m.\u001b[39m_pin_memory:\n\u001b[1;32m    <a href='file:///storage/ttseriotou/nlpsig-networks-env/lib/python3.8/site-packages/torch/utils/data/dataloader.py?line=562'>563</a>\u001b[0m         data \u001b[39m=\u001b[39m _utils\u001b[39m.\u001b[39mpin_memory\u001b[39m.\u001b[39mpin_memory(data)\n",
      "File \u001b[0;32m/storage/ttseriotou/nlpsig-networks-env/lib/python3.8/site-packages/torch/utils/data/_utils/fetch.py:44\u001b[0m, in \u001b[0;36m_MapDatasetFetcher.fetch\u001b[0;34m(self, possibly_batched_index)\u001b[0m\n\u001b[1;32m     <a href='file:///storage/ttseriotou/nlpsig-networks-env/lib/python3.8/site-packages/torch/utils/data/_utils/fetch.py?line=41'>42</a>\u001b[0m \u001b[39mdef\u001b[39;00m \u001b[39mfetch\u001b[39m(\u001b[39mself\u001b[39m, possibly_batched_index):\n\u001b[1;32m     <a href='file:///storage/ttseriotou/nlpsig-networks-env/lib/python3.8/site-packages/torch/utils/data/_utils/fetch.py?line=42'>43</a>\u001b[0m     \u001b[39mif\u001b[39;00m \u001b[39mself\u001b[39m\u001b[39m.\u001b[39mauto_collation:\n\u001b[0;32m---> <a href='file:///storage/ttseriotou/nlpsig-networks-env/lib/python3.8/site-packages/torch/utils/data/_utils/fetch.py?line=43'>44</a>\u001b[0m         data \u001b[39m=\u001b[39m [\u001b[39mself\u001b[39m\u001b[39m.\u001b[39mdataset[idx] \u001b[39mfor\u001b[39;00m idx \u001b[39min\u001b[39;00m possibly_batched_index]\n\u001b[1;32m     <a href='file:///storage/ttseriotou/nlpsig-networks-env/lib/python3.8/site-packages/torch/utils/data/_utils/fetch.py?line=44'>45</a>\u001b[0m     \u001b[39melse\u001b[39;00m:\n\u001b[1;32m     <a href='file:///storage/ttseriotou/nlpsig-networks-env/lib/python3.8/site-packages/torch/utils/data/_utils/fetch.py?line=45'>46</a>\u001b[0m         data \u001b[39m=\u001b[39m \u001b[39mself\u001b[39m\u001b[39m.\u001b[39mdataset[possibly_batched_index]\n",
      "File \u001b[0;32m/storage/ttseriotou/nlpsig-networks-env/lib/python3.8/site-packages/torch/utils/data/_utils/fetch.py:44\u001b[0m, in \u001b[0;36m<listcomp>\u001b[0;34m(.0)\u001b[0m\n\u001b[1;32m     <a href='file:///storage/ttseriotou/nlpsig-networks-env/lib/python3.8/site-packages/torch/utils/data/_utils/fetch.py?line=41'>42</a>\u001b[0m \u001b[39mdef\u001b[39;00m \u001b[39mfetch\u001b[39m(\u001b[39mself\u001b[39m, possibly_batched_index):\n\u001b[1;32m     <a href='file:///storage/ttseriotou/nlpsig-networks-env/lib/python3.8/site-packages/torch/utils/data/_utils/fetch.py?line=42'>43</a>\u001b[0m     \u001b[39mif\u001b[39;00m \u001b[39mself\u001b[39m\u001b[39m.\u001b[39mauto_collation:\n\u001b[0;32m---> <a href='file:///storage/ttseriotou/nlpsig-networks-env/lib/python3.8/site-packages/torch/utils/data/_utils/fetch.py?line=43'>44</a>\u001b[0m         data \u001b[39m=\u001b[39m [\u001b[39mself\u001b[39;49m\u001b[39m.\u001b[39;49mdataset[idx] \u001b[39mfor\u001b[39;00m idx \u001b[39min\u001b[39;00m possibly_batched_index]\n\u001b[1;32m     <a href='file:///storage/ttseriotou/nlpsig-networks-env/lib/python3.8/site-packages/torch/utils/data/_utils/fetch.py?line=44'>45</a>\u001b[0m     \u001b[39melse\u001b[39;00m:\n\u001b[1;32m     <a href='file:///storage/ttseriotou/nlpsig-networks-env/lib/python3.8/site-packages/torch/utils/data/_utils/fetch.py?line=45'>46</a>\u001b[0m         data \u001b[39m=\u001b[39m \u001b[39mself\u001b[39m\u001b[39m.\u001b[39mdataset[possibly_batched_index]\n",
      "File \u001b[0;32m/storage/ttseriotou/nlpsig-networks-env/lib/python3.8/site-packages/torch/utils/data/dataset.py:209\u001b[0m, in \u001b[0;36mTensorDataset.__getitem__\u001b[0;34m(self, index)\u001b[0m\n\u001b[1;32m    <a href='file:///storage/ttseriotou/nlpsig-networks-env/lib/python3.8/site-packages/torch/utils/data/dataset.py?line=207'>208</a>\u001b[0m \u001b[39mdef\u001b[39;00m \u001b[39m__getitem__\u001b[39m(\u001b[39mself\u001b[39m, index):\n\u001b[0;32m--> <a href='file:///storage/ttseriotou/nlpsig-networks-env/lib/python3.8/site-packages/torch/utils/data/dataset.py?line=208'>209</a>\u001b[0m     \u001b[39mreturn\u001b[39;00m \u001b[39mtuple\u001b[39;49m(tensor[index] \u001b[39mfor\u001b[39;49;00m tensor \u001b[39min\u001b[39;49;00m \u001b[39mself\u001b[39;49m\u001b[39m.\u001b[39;49mtensors)\n",
      "File \u001b[0;32m/storage/ttseriotou/nlpsig-networks-env/lib/python3.8/site-packages/torch/utils/data/dataset.py:209\u001b[0m, in \u001b[0;36m<genexpr>\u001b[0;34m(.0)\u001b[0m\n\u001b[1;32m    <a href='file:///storage/ttseriotou/nlpsig-networks-env/lib/python3.8/site-packages/torch/utils/data/dataset.py?line=207'>208</a>\u001b[0m \u001b[39mdef\u001b[39;00m \u001b[39m__getitem__\u001b[39m(\u001b[39mself\u001b[39m, index):\n\u001b[0;32m--> <a href='file:///storage/ttseriotou/nlpsig-networks-env/lib/python3.8/site-packages/torch/utils/data/dataset.py?line=208'>209</a>\u001b[0m     \u001b[39mreturn\u001b[39;00m \u001b[39mtuple\u001b[39m(tensor[index] \u001b[39mfor\u001b[39;00m tensor \u001b[39min\u001b[39;00m \u001b[39mself\u001b[39m\u001b[39m.\u001b[39mtensors)\n",
      "\u001b[0;31mKeyboardInterrupt\u001b[0m: "
     ]
    }
   ],
   "source": [
    "size = 20\n",
    "bilstm_history_20_kfold, best_bilstm_history_20_kfold, _, __ = lstm_hyperparameter_search(\n",
    "    num_epochs=num_epochs,\n",
    "    df=df_rumours,\n",
    "    id_column=\"timeline_id\",\n",
    "    label_column=\"label\",\n",
    "    embeddings=sbert_embeddings,\n",
    "    y_data=y_data,\n",
    "    history_lengths=[size],\n",
    "    hidden_dim_sizes=hidden_dim_sizes,\n",
    "    num_layers=num_layers,\n",
    "    bidirectional=bidirectional,\n",
    "    output_dim=output_dim,\n",
    "    dropout_rates=dropout_rates,\n",
    "    learning_rates=learning_rates,\n",
    "    seeds=seeds,\n",
    "    loss=loss,\n",
    "    gamma=gamma,\n",
    "    path_indices=None,\n",
    "    data_split_seed=123,\n",
    "    k_fold=False,\n",
    "    validation_metric=validation_metric,\n",
    "    results_output=None,\n",
    "    verbose=False\n",
    ")"
   ]
  },
  {
   "cell_type": "code",
   "execution_count": null,
   "metadata": {},
   "outputs": [],
   "source": []
  }
 ],
 "metadata": {
  "kernelspec": {
   "display_name": "nlpsig_kernel",
   "language": "python",
   "name": "nlpsig_kernel"
  },
  "orig_nbformat": 4
 },
 "nbformat": 4,
 "nbformat_minor": 2
}
