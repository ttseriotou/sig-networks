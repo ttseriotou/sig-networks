{
 "cells": [
  {
   "cell_type": "code",
   "execution_count": 1,
   "metadata": {},
   "outputs": [],
   "source": [
    "import pickle\n",
    "import numpy as np\n",
    "import pandas as pd\n",
    "import re\n",
    "import os\n",
    "\n",
    "seed = 2023"
   ]
  },
  {
   "cell_type": "code",
   "execution_count": 2,
   "metadata": {},
   "outputs": [
    {
     "data": {
      "text/plain": [
       "device(type='cuda')"
      ]
     },
     "execution_count": 2,
     "metadata": {},
     "output_type": "execute_result"
    }
   ],
   "source": [
    "import torch\n",
    "\n",
    "# set device\n",
    "device = torch.device(\"cuda\" if torch.cuda.is_available() else \"cpu\")\n",
    "device"
   ]
  },
  {
   "cell_type": "code",
   "execution_count": 3,
   "metadata": {},
   "outputs": [],
   "source": [
    "from nlpsig_networks.scripts.lstm_baseline_functions import (\n",
    "    lstm_hyperparameter_search,\n",
    "    obtain_path,\n",
    ")"
   ]
  },
  {
   "cell_type": "code",
   "execution_count": 4,
   "metadata": {},
   "outputs": [],
   "source": [
    "output_dir = \"rumours_output\"\n",
    "if not os.path.isdir(output_dir):\n",
    "    os.makedirs(output_dir)"
   ]
  },
  {
   "cell_type": "markdown",
   "metadata": {},
   "source": [
    "## Rumours"
   ]
  },
  {
   "cell_type": "code",
   "execution_count": 5,
   "metadata": {},
   "outputs": [],
   "source": [
    "%run load_sbert-embeddings.py"
   ]
  },
  {
   "cell_type": "code",
   "execution_count": 6,
   "metadata": {},
   "outputs": [
    {
     "data": {
      "text/html": [
       "<div>\n",
       "<style scoped>\n",
       "    .dataframe tbody tr th:only-of-type {\n",
       "        vertical-align: middle;\n",
       "    }\n",
       "\n",
       "    .dataframe tbody tr th {\n",
       "        vertical-align: top;\n",
       "    }\n",
       "\n",
       "    .dataframe thead th {\n",
       "        text-align: right;\n",
       "    }\n",
       "</style>\n",
       "<table border=\"1\" class=\"dataframe\">\n",
       "  <thead>\n",
       "    <tr style=\"text-align: right;\">\n",
       "      <th></th>\n",
       "      <th>id</th>\n",
       "      <th>label</th>\n",
       "      <th>datetime</th>\n",
       "      <th>text</th>\n",
       "      <th>timeline_id</th>\n",
       "      <th>set</th>\n",
       "    </tr>\n",
       "  </thead>\n",
       "  <tbody>\n",
       "    <tr>\n",
       "      <th>0</th>\n",
       "      <td>5.249902e+17</td>\n",
       "      <td>0</td>\n",
       "      <td>2014-10-22 18:26:23</td>\n",
       "      <td>Police have clarified that there were two shoo...</td>\n",
       "      <td>0</td>\n",
       "      <td>train</td>\n",
       "    </tr>\n",
       "    <tr>\n",
       "      <th>1</th>\n",
       "      <td>5.249906e+17</td>\n",
       "      <td>0</td>\n",
       "      <td>2014-10-22 18:27:58</td>\n",
       "      <td>@CTVNews you guys \"confirmed\" there were 3 sho...</td>\n",
       "      <td>0</td>\n",
       "      <td>train</td>\n",
       "    </tr>\n",
       "    <tr>\n",
       "      <th>2</th>\n",
       "      <td>5.249908e+17</td>\n",
       "      <td>1</td>\n",
       "      <td>2014-10-22 18:28:46</td>\n",
       "      <td>@CTVNews get it right. http://t.co/GHYxMuzPG9</td>\n",
       "      <td>0</td>\n",
       "      <td>train</td>\n",
       "    </tr>\n",
       "    <tr>\n",
       "      <th>3</th>\n",
       "      <td>5.249927e+17</td>\n",
       "      <td>1</td>\n",
       "      <td>2014-10-22 18:36:29</td>\n",
       "      <td>RT @CTVNews Police have clarified that there w...</td>\n",
       "      <td>0</td>\n",
       "      <td>train</td>\n",
       "    </tr>\n",
       "    <tr>\n",
       "      <th>4</th>\n",
       "      <td>5.250038e+17</td>\n",
       "      <td>1</td>\n",
       "      <td>2014-10-22 19:20:41</td>\n",
       "      <td>@CTVNews @ctvsaskatoon so what happened at Rid...</td>\n",
       "      <td>0</td>\n",
       "      <td>train</td>\n",
       "    </tr>\n",
       "  </tbody>\n",
       "</table>\n",
       "</div>"
      ],
      "text/plain": [
       "             id label            datetime  \\\n",
       "0  5.249902e+17     0 2014-10-22 18:26:23   \n",
       "1  5.249906e+17     0 2014-10-22 18:27:58   \n",
       "2  5.249908e+17     1 2014-10-22 18:28:46   \n",
       "3  5.249927e+17     1 2014-10-22 18:36:29   \n",
       "4  5.250038e+17     1 2014-10-22 19:20:41   \n",
       "\n",
       "                                                text timeline_id    set  \n",
       "0  Police have clarified that there were two shoo...           0  train  \n",
       "1  @CTVNews you guys \"confirmed\" there were 3 sho...           0  train  \n",
       "2      @CTVNews get it right. http://t.co/GHYxMuzPG9           0  train  \n",
       "3  RT @CTVNews Police have clarified that there w...           0  train  \n",
       "4  @CTVNews @ctvsaskatoon so what happened at Rid...           0  train  "
      ]
     },
     "execution_count": 6,
     "metadata": {},
     "output_type": "execute_result"
    }
   ],
   "source": [
    "df_rumours.head()"
   ]
  },
  {
   "cell_type": "code",
   "execution_count": 7,
   "metadata": {},
   "outputs": [
    {
     "data": {
      "text/plain": [
       "(5568, 384)"
      ]
     },
     "execution_count": 7,
     "metadata": {},
     "output_type": "execute_result"
    }
   ],
   "source": [
    "sbert_embeddings.shape"
   ]
  },
  {
   "cell_type": "markdown",
   "metadata": {},
   "source": [
    "## Baseline: BiLSTM"
   ]
  },
  {
   "cell_type": "code",
   "execution_count": 8,
   "metadata": {},
   "outputs": [],
   "source": [
    "num_epochs = 100\n",
    "hidden_dim_sizes = [200, 300, 384]\n",
    "num_layers = 1\n",
    "bidirectional = True\n",
    "dropout_rates = [0.1, 0.2]\n",
    "learning_rates = [1e-3, 1e-4, 5e-4]\n",
    "seeds = [1, 12, 123]\n",
    "loss = \"focal\"\n",
    "gamma = 2\n",
    "validation_metric = \"f1\"\n",
    "patience = 5\n",
    "split_ids = torch.tensor(df_rumours[\"timeline_id\"].astype(int))"
   ]
  },
  {
   "cell_type": "code",
   "execution_count": 9,
   "metadata": {},
   "outputs": [],
   "source": [
    "kwargs = {\n",
    "    \"num_epochs\": num_epochs,\n",
    "    \"df\": df_rumours,\n",
    "    \"id_column\": \"timeline_id\",\n",
    "    \"label_column\": \"label\",\n",
    "    \"embeddings\": sbert_embeddings,\n",
    "    \"y_data\": y_data,\n",
    "    \"output_dim\": output_dim,\n",
    "    \"hidden_dim_sizes\": hidden_dim_sizes,\n",
    "    \"num_layers\": num_layers,\n",
    "    \"bidirectional\": bidirectional,\n",
    "    \"dropout_rates\": dropout_rates,\n",
    "    \"learning_rates\": learning_rates,\n",
    "    \"seeds\": seeds,\n",
    "    \"loss\": loss,\n",
    "    \"gamma\": gamma,\n",
    "    \"device\": device,\n",
    "    \"split_ids\": split_ids,\n",
    "    \"k_fold\": True,\n",
    "    \"patience\": patience,\n",
    "    \"validation_metric\": validation_metric,\n",
    "    \"verbose\": False,\n",
    "}"
   ]
  },
  {
   "cell_type": "markdown",
   "metadata": {
    "tags": []
   },
   "source": [
    "## history_length=5"
   ]
  },
  {
   "cell_type": "code",
   "execution_count": 10,
   "metadata": {},
   "outputs": [],
   "source": [
    "size = 5"
   ]
  },
  {
   "cell_type": "code",
   "execution_count": 11,
   "metadata": {},
   "outputs": [
    {
     "data": {
      "application/vnd.jupyter.widget-view+json": {
       "model_id": "8af9c5d3aa004865beee4071074c08f9",
       "version_major": 2,
       "version_minor": 0
      },
      "text/plain": [
       "  0%|          | 0/1 [00:00<?, ?it/s]"
      ]
     },
     "metadata": {},
     "output_type": "display_data"
    },
    {
     "name": "stdout",
     "output_type": "stream",
     "text": [
      "[INFO] Concatenating the embeddings to the dataframe...\n",
      "[INFO] - columns beginning with 'e' denote the full embddings.\n",
      "[INFO] Adding time feature columns into dataframe in `.df`.\n",
      "[INFO] Adding 'time_encoding' feature...\n",
      "[INFO] Adding 'time_diff' feature...\n",
      "[INFO] Adding 'timeline_index' feature...\n",
      "[INFO] Padding ids and storing in `.df_padded` and `.array_padded` attributes.\n"
     ]
    },
    {
     "data": {
      "application/vnd.jupyter.widget-view+json": {
       "model_id": "d04824dd40ac49ec8cf2480e6a1ab998",
       "version_major": 2,
       "version_minor": 0
      },
      "text/plain": [
       "  0%|          | 0/5568 [00:00<?, ?it/s]"
      ]
     },
     "metadata": {},
     "output_type": "display_data"
    },
    {
     "data": {
      "application/vnd.jupyter.widget-view+json": {
       "model_id": "a47fd76c32964e3c97499568382008c2",
       "version_major": 2,
       "version_minor": 0
      },
      "text/plain": [
       "  0%|          | 0/3 [00:00<?, ?it/s]"
      ]
     },
     "metadata": {},
     "output_type": "display_data"
    },
    {
     "data": {
      "application/vnd.jupyter.widget-view+json": {
       "model_id": "69f5559ff6fb48f29b22e311f3bc1852",
       "version_major": 2,
       "version_minor": 0
      },
      "text/plain": [
       "  0%|          | 0/2 [00:00<?, ?it/s]"
      ]
     },
     "metadata": {},
     "output_type": "display_data"
    },
    {
     "data": {
      "application/vnd.jupyter.widget-view+json": {
       "model_id": "5c92a80d83cb43c38a07f34528c01b2d",
       "version_major": 2,
       "version_minor": 0
      },
      "text/plain": [
       "  0%|          | 0/3 [00:00<?, ?it/s]"
      ]
     },
     "metadata": {},
     "output_type": "display_data"
    },
    {
     "data": {
      "application/vnd.jupyter.widget-view+json": {
       "model_id": "8a55f498816743c69448c71b3665937e",
       "version_major": 2,
       "version_minor": 0
      },
      "text/plain": [
       "  0%|          | 0/3 [00:00<?, ?it/s]"
      ]
     },
     "metadata": {},
     "output_type": "display_data"
    },
    {
     "data": {
      "application/vnd.jupyter.widget-view+json": {
       "model_id": "ecf1416ca25b4a90b8d3c0f1faa79ff3",
       "version_major": 2,
       "version_minor": 0
      },
      "text/plain": [
       "  0%|          | 0/2 [00:00<?, ?it/s]"
      ]
     },
     "metadata": {},
     "output_type": "display_data"
    },
    {
     "data": {
      "application/vnd.jupyter.widget-view+json": {
       "model_id": "7f9fd113d95d49168928cad940376828",
       "version_major": 2,
       "version_minor": 0
      },
      "text/plain": [
       "  0%|          | 0/3 [00:00<?, ?it/s]"
      ]
     },
     "metadata": {},
     "output_type": "display_data"
    },
    {
     "data": {
      "application/vnd.jupyter.widget-view+json": {
       "model_id": "699d343f34ea45f0a15d7b738f888419",
       "version_major": 2,
       "version_minor": 0
      },
      "text/plain": [
       "  0%|          | 0/3 [00:00<?, ?it/s]"
      ]
     },
     "metadata": {},
     "output_type": "display_data"
    },
    {
     "data": {
      "application/vnd.jupyter.widget-view+json": {
       "model_id": "ae1d8491a2654c12aee097d5a192781f",
       "version_major": 2,
       "version_minor": 0
      },
      "text/plain": [
       "  0%|          | 0/2 [00:00<?, ?it/s]"
      ]
     },
     "metadata": {},
     "output_type": "display_data"
    },
    {
     "data": {
      "application/vnd.jupyter.widget-view+json": {
       "model_id": "5a7d37397f6f447c99bc7524b28e2d29",
       "version_major": 2,
       "version_minor": 0
      },
      "text/plain": [
       "  0%|          | 0/3 [00:00<?, ?it/s]"
      ]
     },
     "metadata": {},
     "output_type": "display_data"
    },
    {
     "data": {
      "application/vnd.jupyter.widget-view+json": {
       "model_id": "07d929eea01b439bb9b142f516202920",
       "version_major": 2,
       "version_minor": 0
      },
      "text/plain": [
       "  0%|          | 0/3 [00:00<?, ?it/s]"
      ]
     },
     "metadata": {},
     "output_type": "display_data"
    },
    {
     "name": "stdout",
     "output_type": "stream",
     "text": [
      "saving results dataframe to CSV for this hyperparameter search in rumours_output/lstm_history_5_focal_2.csv\n",
      "saving the best model results dataframe to CSV for this hyperparameter search in rumours_output/lstm_history_5_focal_2_best_model.csv\n"
     ]
    }
   ],
   "source": [
    "bilstm_history_5, best_bilstm_history_5, _, __ = lstm_hyperparameter_search(\n",
    "    history_lengths=[size],\n",
    "    results_output=f\"{output_dir}/lstm_history_{size}_focal_{gamma}.csv\",\n",
    "    **kwargs,\n",
    ")"
   ]
  },
  {
   "cell_type": "code",
   "execution_count": 12,
   "metadata": {},
   "outputs": [
    {
     "name": "stderr",
     "output_type": "stream",
     "text": [
      "/tmp/ipykernel_1974987/1806291284.py:1: FutureWarning: The default value of numeric_only in DataFrameGroupBy.mean is deprecated. In a future version, numeric_only will default to False. Either specify numeric_only or select only columns which should be valid for the function.\n",
      "  bilstm_history_5.groupby([\"hidden_dim\", \"dropout_rate\", \"learning_rate\"]).mean()\n"
     ]
    },
    {
     "data": {
      "text/html": [
       "<div>\n",
       "<style scoped>\n",
       "    .dataframe tbody tr th:only-of-type {\n",
       "        vertical-align: middle;\n",
       "    }\n",
       "\n",
       "    .dataframe tbody tr th {\n",
       "        vertical-align: top;\n",
       "    }\n",
       "\n",
       "    .dataframe thead th {\n",
       "        text-align: right;\n",
       "    }\n",
       "</style>\n",
       "<table border=\"1\" class=\"dataframe\">\n",
       "  <thead>\n",
       "    <tr style=\"text-align: right;\">\n",
       "      <th></th>\n",
       "      <th></th>\n",
       "      <th></th>\n",
       "      <th>accuracy</th>\n",
       "      <th>f1</th>\n",
       "      <th>precision</th>\n",
       "      <th>recall</th>\n",
       "      <th>valid_accuracy</th>\n",
       "      <th>valid_f1</th>\n",
       "      <th>valid_precision</th>\n",
       "      <th>valid_recall</th>\n",
       "      <th>k</th>\n",
       "      <th>num_layers</th>\n",
       "      <th>bidirectional</th>\n",
       "      <th>seed</th>\n",
       "      <th>gamma</th>\n",
       "      <th>k_fold</th>\n",
       "      <th>n_splits</th>\n",
       "      <th>batch_size</th>\n",
       "      <th>model_id</th>\n",
       "    </tr>\n",
       "    <tr>\n",
       "      <th>hidden_dim</th>\n",
       "      <th>dropout_rate</th>\n",
       "      <th>learning_rate</th>\n",
       "      <th></th>\n",
       "      <th></th>\n",
       "      <th></th>\n",
       "      <th></th>\n",
       "      <th></th>\n",
       "      <th></th>\n",
       "      <th></th>\n",
       "      <th></th>\n",
       "      <th></th>\n",
       "      <th></th>\n",
       "      <th></th>\n",
       "      <th></th>\n",
       "      <th></th>\n",
       "      <th></th>\n",
       "      <th></th>\n",
       "      <th></th>\n",
       "      <th></th>\n",
       "    </tr>\n",
       "  </thead>\n",
       "  <tbody>\n",
       "    <tr>\n",
       "      <th rowspan=\"6\" valign=\"top\">200</th>\n",
       "      <th rowspan=\"3\" valign=\"top\">0.1</th>\n",
       "      <th>0.0001</th>\n",
       "      <td>0.658590</td>\n",
       "      <td>0.635418</td>\n",
       "      <td>0.633555</td>\n",
       "      <td>0.640687</td>\n",
       "      <td>0.775082</td>\n",
       "      <td>0.762978</td>\n",
       "      <td>0.761679</td>\n",
       "      <td>0.764563</td>\n",
       "      <td>5.0</td>\n",
       "      <td>1.0</td>\n",
       "      <td>1.0</td>\n",
       "      <td>45.333333</td>\n",
       "      <td>2.0</td>\n",
       "      <td>1.0</td>\n",
       "      <td>5.0</td>\n",
       "      <td>64.0</td>\n",
       "      <td>1.0</td>\n",
       "    </tr>\n",
       "    <tr>\n",
       "      <th>0.0005</th>\n",
       "      <td>0.656850</td>\n",
       "      <td>0.632736</td>\n",
       "      <td>0.631099</td>\n",
       "      <td>0.637504</td>\n",
       "      <td>0.771892</td>\n",
       "      <td>0.759672</td>\n",
       "      <td>0.758421</td>\n",
       "      <td>0.761352</td>\n",
       "      <td>5.0</td>\n",
       "      <td>1.0</td>\n",
       "      <td>1.0</td>\n",
       "      <td>45.333333</td>\n",
       "      <td>2.0</td>\n",
       "      <td>1.0</td>\n",
       "      <td>5.0</td>\n",
       "      <td>64.0</td>\n",
       "      <td>2.0</td>\n",
       "    </tr>\n",
       "    <tr>\n",
       "      <th>0.0010</th>\n",
       "      <td>0.654116</td>\n",
       "      <td>0.633482</td>\n",
       "      <td>0.632405</td>\n",
       "      <td>0.641020</td>\n",
       "      <td>0.761828</td>\n",
       "      <td>0.750673</td>\n",
       "      <td>0.748874</td>\n",
       "      <td>0.754419</td>\n",
       "      <td>5.0</td>\n",
       "      <td>1.0</td>\n",
       "      <td>1.0</td>\n",
       "      <td>45.333333</td>\n",
       "      <td>2.0</td>\n",
       "      <td>1.0</td>\n",
       "      <td>5.0</td>\n",
       "      <td>64.0</td>\n",
       "      <td>0.0</td>\n",
       "    </tr>\n",
       "    <tr>\n",
       "      <th rowspan=\"3\" valign=\"top\">0.2</th>\n",
       "      <th>0.0001</th>\n",
       "      <td>0.659087</td>\n",
       "      <td>0.636001</td>\n",
       "      <td>0.634118</td>\n",
       "      <td>0.641316</td>\n",
       "      <td>0.775531</td>\n",
       "      <td>0.763445</td>\n",
       "      <td>0.762140</td>\n",
       "      <td>0.765017</td>\n",
       "      <td>5.0</td>\n",
       "      <td>1.0</td>\n",
       "      <td>1.0</td>\n",
       "      <td>45.333333</td>\n",
       "      <td>2.0</td>\n",
       "      <td>1.0</td>\n",
       "      <td>5.0</td>\n",
       "      <td>64.0</td>\n",
       "      <td>4.0</td>\n",
       "    </tr>\n",
       "    <tr>\n",
       "      <th>0.0005</th>\n",
       "      <td>0.656664</td>\n",
       "      <td>0.632800</td>\n",
       "      <td>0.631099</td>\n",
       "      <td>0.637689</td>\n",
       "      <td>0.772611</td>\n",
       "      <td>0.760609</td>\n",
       "      <td>0.759201</td>\n",
       "      <td>0.762521</td>\n",
       "      <td>5.0</td>\n",
       "      <td>1.0</td>\n",
       "      <td>1.0</td>\n",
       "      <td>45.333333</td>\n",
       "      <td>2.0</td>\n",
       "      <td>1.0</td>\n",
       "      <td>5.0</td>\n",
       "      <td>64.0</td>\n",
       "      <td>5.0</td>\n",
       "    </tr>\n",
       "    <tr>\n",
       "      <th>0.0010</th>\n",
       "      <td>0.653806</td>\n",
       "      <td>0.631944</td>\n",
       "      <td>0.630419</td>\n",
       "      <td>0.638280</td>\n",
       "      <td>0.765108</td>\n",
       "      <td>0.753294</td>\n",
       "      <td>0.751505</td>\n",
       "      <td>0.755847</td>\n",
       "      <td>5.0</td>\n",
       "      <td>1.0</td>\n",
       "      <td>1.0</td>\n",
       "      <td>45.333333</td>\n",
       "      <td>2.0</td>\n",
       "      <td>1.0</td>\n",
       "      <td>5.0</td>\n",
       "      <td>64.0</td>\n",
       "      <td>3.0</td>\n",
       "    </tr>\n",
       "    <tr>\n",
       "      <th rowspan=\"6\" valign=\"top\">300</th>\n",
       "      <th rowspan=\"3\" valign=\"top\">0.1</th>\n",
       "      <th>0.0001</th>\n",
       "      <td>0.658590</td>\n",
       "      <td>0.635157</td>\n",
       "      <td>0.633296</td>\n",
       "      <td>0.640236</td>\n",
       "      <td>0.775307</td>\n",
       "      <td>0.763003</td>\n",
       "      <td>0.761905</td>\n",
       "      <td>0.764360</td>\n",
       "      <td>5.0</td>\n",
       "      <td>1.0</td>\n",
       "      <td>1.0</td>\n",
       "      <td>45.333333</td>\n",
       "      <td>2.0</td>\n",
       "      <td>1.0</td>\n",
       "      <td>5.0</td>\n",
       "      <td>64.0</td>\n",
       "      <td>7.0</td>\n",
       "    </tr>\n",
       "    <tr>\n",
       "      <th>0.0005</th>\n",
       "      <td>0.656104</td>\n",
       "      <td>0.633609</td>\n",
       "      <td>0.631882</td>\n",
       "      <td>0.639391</td>\n",
       "      <td>0.769735</td>\n",
       "      <td>0.758009</td>\n",
       "      <td>0.756309</td>\n",
       "      <td>0.760424</td>\n",
       "      <td>5.0</td>\n",
       "      <td>1.0</td>\n",
       "      <td>1.0</td>\n",
       "      <td>45.333333</td>\n",
       "      <td>2.0</td>\n",
       "      <td>1.0</td>\n",
       "      <td>5.0</td>\n",
       "      <td>64.0</td>\n",
       "      <td>8.0</td>\n",
       "    </tr>\n",
       "    <tr>\n",
       "      <th>0.0010</th>\n",
       "      <td>0.655918</td>\n",
       "      <td>0.635018</td>\n",
       "      <td>0.633391</td>\n",
       "      <td>0.641955</td>\n",
       "      <td>0.760435</td>\n",
       "      <td>0.748816</td>\n",
       "      <td>0.746712</td>\n",
       "      <td>0.751778</td>\n",
       "      <td>5.0</td>\n",
       "      <td>1.0</td>\n",
       "      <td>1.0</td>\n",
       "      <td>45.333333</td>\n",
       "      <td>2.0</td>\n",
       "      <td>1.0</td>\n",
       "      <td>5.0</td>\n",
       "      <td>64.0</td>\n",
       "      <td>6.0</td>\n",
       "    </tr>\n",
       "    <tr>\n",
       "      <th rowspan=\"3\" valign=\"top\">0.2</th>\n",
       "      <th>0.0001</th>\n",
       "      <td>0.658403</td>\n",
       "      <td>0.635238</td>\n",
       "      <td>0.633463</td>\n",
       "      <td>0.640544</td>\n",
       "      <td>0.775981</td>\n",
       "      <td>0.763793</td>\n",
       "      <td>0.762735</td>\n",
       "      <td>0.765289</td>\n",
       "      <td>5.0</td>\n",
       "      <td>1.0</td>\n",
       "      <td>1.0</td>\n",
       "      <td>45.333333</td>\n",
       "      <td>2.0</td>\n",
       "      <td>1.0</td>\n",
       "      <td>5.0</td>\n",
       "      <td>64.0</td>\n",
       "      <td>10.0</td>\n",
       "    </tr>\n",
       "    <tr>\n",
       "      <th>0.0005</th>\n",
       "      <td>0.656539</td>\n",
       "      <td>0.634503</td>\n",
       "      <td>0.632836</td>\n",
       "      <td>0.640628</td>\n",
       "      <td>0.770679</td>\n",
       "      <td>0.759225</td>\n",
       "      <td>0.757337</td>\n",
       "      <td>0.761933</td>\n",
       "      <td>5.0</td>\n",
       "      <td>1.0</td>\n",
       "      <td>1.0</td>\n",
       "      <td>45.333333</td>\n",
       "      <td>2.0</td>\n",
       "      <td>1.0</td>\n",
       "      <td>5.0</td>\n",
       "      <td>64.0</td>\n",
       "      <td>11.0</td>\n",
       "    </tr>\n",
       "    <tr>\n",
       "      <th>0.0010</th>\n",
       "      <td>0.654738</td>\n",
       "      <td>0.634074</td>\n",
       "      <td>0.632681</td>\n",
       "      <td>0.641293</td>\n",
       "      <td>0.762232</td>\n",
       "      <td>0.750683</td>\n",
       "      <td>0.748736</td>\n",
       "      <td>0.753750</td>\n",
       "      <td>5.0</td>\n",
       "      <td>1.0</td>\n",
       "      <td>1.0</td>\n",
       "      <td>45.333333</td>\n",
       "      <td>2.0</td>\n",
       "      <td>1.0</td>\n",
       "      <td>5.0</td>\n",
       "      <td>64.0</td>\n",
       "      <td>9.0</td>\n",
       "    </tr>\n",
       "    <tr>\n",
       "      <th rowspan=\"6\" valign=\"top\">384</th>\n",
       "      <th rowspan=\"3\" valign=\"top\">0.1</th>\n",
       "      <th>0.0001</th>\n",
       "      <td>0.656974</td>\n",
       "      <td>0.632455</td>\n",
       "      <td>0.630631</td>\n",
       "      <td>0.636861</td>\n",
       "      <td>0.776160</td>\n",
       "      <td>0.763668</td>\n",
       "      <td>0.762734</td>\n",
       "      <td>0.764710</td>\n",
       "      <td>5.0</td>\n",
       "      <td>1.0</td>\n",
       "      <td>1.0</td>\n",
       "      <td>45.333333</td>\n",
       "      <td>2.0</td>\n",
       "      <td>1.0</td>\n",
       "      <td>5.0</td>\n",
       "      <td>64.0</td>\n",
       "      <td>13.0</td>\n",
       "    </tr>\n",
       "    <tr>\n",
       "      <th>0.0005</th>\n",
       "      <td>0.654675</td>\n",
       "      <td>0.631705</td>\n",
       "      <td>0.629987</td>\n",
       "      <td>0.637185</td>\n",
       "      <td>0.766500</td>\n",
       "      <td>0.754108</td>\n",
       "      <td>0.752859</td>\n",
       "      <td>0.755886</td>\n",
       "      <td>5.0</td>\n",
       "      <td>1.0</td>\n",
       "      <td>1.0</td>\n",
       "      <td>45.333333</td>\n",
       "      <td>2.0</td>\n",
       "      <td>1.0</td>\n",
       "      <td>5.0</td>\n",
       "      <td>64.0</td>\n",
       "      <td>14.0</td>\n",
       "    </tr>\n",
       "    <tr>\n",
       "      <th>0.0010</th>\n",
       "      <td>0.659025</td>\n",
       "      <td>0.638396</td>\n",
       "      <td>0.636812</td>\n",
       "      <td>0.645615</td>\n",
       "      <td>0.761558</td>\n",
       "      <td>0.749748</td>\n",
       "      <td>0.748046</td>\n",
       "      <td>0.752527</td>\n",
       "      <td>5.0</td>\n",
       "      <td>1.0</td>\n",
       "      <td>1.0</td>\n",
       "      <td>45.333333</td>\n",
       "      <td>2.0</td>\n",
       "      <td>1.0</td>\n",
       "      <td>5.0</td>\n",
       "      <td>64.0</td>\n",
       "      <td>12.0</td>\n",
       "    </tr>\n",
       "    <tr>\n",
       "      <th rowspan=\"3\" valign=\"top\">0.2</th>\n",
       "      <th>0.0001</th>\n",
       "      <td>0.657098</td>\n",
       "      <td>0.632166</td>\n",
       "      <td>0.630385</td>\n",
       "      <td>0.636342</td>\n",
       "      <td>0.776205</td>\n",
       "      <td>0.763397</td>\n",
       "      <td>0.762810</td>\n",
       "      <td>0.764067</td>\n",
       "      <td>5.0</td>\n",
       "      <td>1.0</td>\n",
       "      <td>1.0</td>\n",
       "      <td>45.333333</td>\n",
       "      <td>2.0</td>\n",
       "      <td>1.0</td>\n",
       "      <td>5.0</td>\n",
       "      <td>64.0</td>\n",
       "      <td>16.0</td>\n",
       "    </tr>\n",
       "    <tr>\n",
       "      <th>0.0005</th>\n",
       "      <td>0.654365</td>\n",
       "      <td>0.632261</td>\n",
       "      <td>0.630877</td>\n",
       "      <td>0.638546</td>\n",
       "      <td>0.767534</td>\n",
       "      <td>0.755827</td>\n",
       "      <td>0.754334</td>\n",
       "      <td>0.758509</td>\n",
       "      <td>5.0</td>\n",
       "      <td>1.0</td>\n",
       "      <td>1.0</td>\n",
       "      <td>45.333333</td>\n",
       "      <td>2.0</td>\n",
       "      <td>1.0</td>\n",
       "      <td>5.0</td>\n",
       "      <td>64.0</td>\n",
       "      <td>17.0</td>\n",
       "    </tr>\n",
       "    <tr>\n",
       "      <th>0.0010</th>\n",
       "      <td>0.661261</td>\n",
       "      <td>0.640628</td>\n",
       "      <td>0.639137</td>\n",
       "      <td>0.647992</td>\n",
       "      <td>0.762861</td>\n",
       "      <td>0.750689</td>\n",
       "      <td>0.749290</td>\n",
       "      <td>0.752991</td>\n",
       "      <td>5.0</td>\n",
       "      <td>1.0</td>\n",
       "      <td>1.0</td>\n",
       "      <td>45.333333</td>\n",
       "      <td>2.0</td>\n",
       "      <td>1.0</td>\n",
       "      <td>5.0</td>\n",
       "      <td>64.0</td>\n",
       "      <td>15.0</td>\n",
       "    </tr>\n",
       "  </tbody>\n",
       "</table>\n",
       "</div>"
      ],
      "text/plain": [
       "                                       accuracy        f1  precision  \\\n",
       "hidden_dim dropout_rate learning_rate                                  \n",
       "200        0.1          0.0001         0.658590  0.635418   0.633555   \n",
       "                        0.0005         0.656850  0.632736   0.631099   \n",
       "                        0.0010         0.654116  0.633482   0.632405   \n",
       "           0.2          0.0001         0.659087  0.636001   0.634118   \n",
       "                        0.0005         0.656664  0.632800   0.631099   \n",
       "                        0.0010         0.653806  0.631944   0.630419   \n",
       "300        0.1          0.0001         0.658590  0.635157   0.633296   \n",
       "                        0.0005         0.656104  0.633609   0.631882   \n",
       "                        0.0010         0.655918  0.635018   0.633391   \n",
       "           0.2          0.0001         0.658403  0.635238   0.633463   \n",
       "                        0.0005         0.656539  0.634503   0.632836   \n",
       "                        0.0010         0.654738  0.634074   0.632681   \n",
       "384        0.1          0.0001         0.656974  0.632455   0.630631   \n",
       "                        0.0005         0.654675  0.631705   0.629987   \n",
       "                        0.0010         0.659025  0.638396   0.636812   \n",
       "           0.2          0.0001         0.657098  0.632166   0.630385   \n",
       "                        0.0005         0.654365  0.632261   0.630877   \n",
       "                        0.0010         0.661261  0.640628   0.639137   \n",
       "\n",
       "                                         recall  valid_accuracy  valid_f1  \\\n",
       "hidden_dim dropout_rate learning_rate                                       \n",
       "200        0.1          0.0001         0.640687        0.775082  0.762978   \n",
       "                        0.0005         0.637504        0.771892  0.759672   \n",
       "                        0.0010         0.641020        0.761828  0.750673   \n",
       "           0.2          0.0001         0.641316        0.775531  0.763445   \n",
       "                        0.0005         0.637689        0.772611  0.760609   \n",
       "                        0.0010         0.638280        0.765108  0.753294   \n",
       "300        0.1          0.0001         0.640236        0.775307  0.763003   \n",
       "                        0.0005         0.639391        0.769735  0.758009   \n",
       "                        0.0010         0.641955        0.760435  0.748816   \n",
       "           0.2          0.0001         0.640544        0.775981  0.763793   \n",
       "                        0.0005         0.640628        0.770679  0.759225   \n",
       "                        0.0010         0.641293        0.762232  0.750683   \n",
       "384        0.1          0.0001         0.636861        0.776160  0.763668   \n",
       "                        0.0005         0.637185        0.766500  0.754108   \n",
       "                        0.0010         0.645615        0.761558  0.749748   \n",
       "           0.2          0.0001         0.636342        0.776205  0.763397   \n",
       "                        0.0005         0.638546        0.767534  0.755827   \n",
       "                        0.0010         0.647992        0.762861  0.750689   \n",
       "\n",
       "                                       valid_precision  valid_recall    k  \\\n",
       "hidden_dim dropout_rate learning_rate                                       \n",
       "200        0.1          0.0001                0.761679      0.764563  5.0   \n",
       "                        0.0005                0.758421      0.761352  5.0   \n",
       "                        0.0010                0.748874      0.754419  5.0   \n",
       "           0.2          0.0001                0.762140      0.765017  5.0   \n",
       "                        0.0005                0.759201      0.762521  5.0   \n",
       "                        0.0010                0.751505      0.755847  5.0   \n",
       "300        0.1          0.0001                0.761905      0.764360  5.0   \n",
       "                        0.0005                0.756309      0.760424  5.0   \n",
       "                        0.0010                0.746712      0.751778  5.0   \n",
       "           0.2          0.0001                0.762735      0.765289  5.0   \n",
       "                        0.0005                0.757337      0.761933  5.0   \n",
       "                        0.0010                0.748736      0.753750  5.0   \n",
       "384        0.1          0.0001                0.762734      0.764710  5.0   \n",
       "                        0.0005                0.752859      0.755886  5.0   \n",
       "                        0.0010                0.748046      0.752527  5.0   \n",
       "           0.2          0.0001                0.762810      0.764067  5.0   \n",
       "                        0.0005                0.754334      0.758509  5.0   \n",
       "                        0.0010                0.749290      0.752991  5.0   \n",
       "\n",
       "                                       num_layers  bidirectional       seed  \\\n",
       "hidden_dim dropout_rate learning_rate                                         \n",
       "200        0.1          0.0001                1.0            1.0  45.333333   \n",
       "                        0.0005                1.0            1.0  45.333333   \n",
       "                        0.0010                1.0            1.0  45.333333   \n",
       "           0.2          0.0001                1.0            1.0  45.333333   \n",
       "                        0.0005                1.0            1.0  45.333333   \n",
       "                        0.0010                1.0            1.0  45.333333   \n",
       "300        0.1          0.0001                1.0            1.0  45.333333   \n",
       "                        0.0005                1.0            1.0  45.333333   \n",
       "                        0.0010                1.0            1.0  45.333333   \n",
       "           0.2          0.0001                1.0            1.0  45.333333   \n",
       "                        0.0005                1.0            1.0  45.333333   \n",
       "                        0.0010                1.0            1.0  45.333333   \n",
       "384        0.1          0.0001                1.0            1.0  45.333333   \n",
       "                        0.0005                1.0            1.0  45.333333   \n",
       "                        0.0010                1.0            1.0  45.333333   \n",
       "           0.2          0.0001                1.0            1.0  45.333333   \n",
       "                        0.0005                1.0            1.0  45.333333   \n",
       "                        0.0010                1.0            1.0  45.333333   \n",
       "\n",
       "                                       gamma  k_fold  n_splits  batch_size  \\\n",
       "hidden_dim dropout_rate learning_rate                                        \n",
       "200        0.1          0.0001           2.0     1.0       5.0        64.0   \n",
       "                        0.0005           2.0     1.0       5.0        64.0   \n",
       "                        0.0010           2.0     1.0       5.0        64.0   \n",
       "           0.2          0.0001           2.0     1.0       5.0        64.0   \n",
       "                        0.0005           2.0     1.0       5.0        64.0   \n",
       "                        0.0010           2.0     1.0       5.0        64.0   \n",
       "300        0.1          0.0001           2.0     1.0       5.0        64.0   \n",
       "                        0.0005           2.0     1.0       5.0        64.0   \n",
       "                        0.0010           2.0     1.0       5.0        64.0   \n",
       "           0.2          0.0001           2.0     1.0       5.0        64.0   \n",
       "                        0.0005           2.0     1.0       5.0        64.0   \n",
       "                        0.0010           2.0     1.0       5.0        64.0   \n",
       "384        0.1          0.0001           2.0     1.0       5.0        64.0   \n",
       "                        0.0005           2.0     1.0       5.0        64.0   \n",
       "                        0.0010           2.0     1.0       5.0        64.0   \n",
       "           0.2          0.0001           2.0     1.0       5.0        64.0   \n",
       "                        0.0005           2.0     1.0       5.0        64.0   \n",
       "                        0.0010           2.0     1.0       5.0        64.0   \n",
       "\n",
       "                                       model_id  \n",
       "hidden_dim dropout_rate learning_rate            \n",
       "200        0.1          0.0001              1.0  \n",
       "                        0.0005              2.0  \n",
       "                        0.0010              0.0  \n",
       "           0.2          0.0001              4.0  \n",
       "                        0.0005              5.0  \n",
       "                        0.0010              3.0  \n",
       "300        0.1          0.0001              7.0  \n",
       "                        0.0005              8.0  \n",
       "                        0.0010              6.0  \n",
       "           0.2          0.0001             10.0  \n",
       "                        0.0005             11.0  \n",
       "                        0.0010              9.0  \n",
       "384        0.1          0.0001             13.0  \n",
       "                        0.0005             14.0  \n",
       "                        0.0010             12.0  \n",
       "           0.2          0.0001             16.0  \n",
       "                        0.0005             17.0  \n",
       "                        0.0010             15.0  "
      ]
     },
     "execution_count": 12,
     "metadata": {},
     "output_type": "execute_result"
    }
   ],
   "source": [
    "bilstm_history_5.groupby([\"hidden_dim\", \"dropout_rate\", \"learning_rate\"]).mean()"
   ]
  },
  {
   "cell_type": "code",
   "execution_count": 13,
   "metadata": {},
   "outputs": [
    {
     "data": {
      "text/html": [
       "<div>\n",
       "<style scoped>\n",
       "    .dataframe tbody tr th:only-of-type {\n",
       "        vertical-align: middle;\n",
       "    }\n",
       "\n",
       "    .dataframe tbody tr th {\n",
       "        vertical-align: top;\n",
       "    }\n",
       "\n",
       "    .dataframe thead th {\n",
       "        text-align: right;\n",
       "    }\n",
       "</style>\n",
       "<table border=\"1\" class=\"dataframe\">\n",
       "  <thead>\n",
       "    <tr style=\"text-align: right;\">\n",
       "      <th></th>\n",
       "      <th>loss</th>\n",
       "      <th>accuracy</th>\n",
       "      <th>f1</th>\n",
       "      <th>f1_scores</th>\n",
       "      <th>precision</th>\n",
       "      <th>precision_scores</th>\n",
       "      <th>recall</th>\n",
       "      <th>recall_scores</th>\n",
       "      <th>valid_loss</th>\n",
       "      <th>valid_accuracy</th>\n",
       "      <th>...</th>\n",
       "      <th>bidirectional</th>\n",
       "      <th>hidden_dim</th>\n",
       "      <th>dropout_rate</th>\n",
       "      <th>learning_rate</th>\n",
       "      <th>seed</th>\n",
       "      <th>loss_function</th>\n",
       "      <th>gamma</th>\n",
       "      <th>k_fold</th>\n",
       "      <th>n_splits</th>\n",
       "      <th>batch_size</th>\n",
       "    </tr>\n",
       "  </thead>\n",
       "  <tbody>\n",
       "    <tr>\n",
       "      <th>0</th>\n",
       "      <td>None</td>\n",
       "      <td>0.663001</td>\n",
       "      <td>0.637499</td>\n",
       "      <td>[0.7336476134354744, 0.5413495687468289]</td>\n",
       "      <td>0.635626</td>\n",
       "      <td>[0.7545454545454545, 0.5167070217917675]</td>\n",
       "      <td>0.641168</td>\n",
       "      <td>[0.7138761467889908, 0.5684603090037293]</td>\n",
       "      <td>None</td>\n",
       "      <td>0.776924</td>\n",
       "      <td>...</td>\n",
       "      <td>True</td>\n",
       "      <td>300</td>\n",
       "      <td>0.2</td>\n",
       "      <td>0.0001</td>\n",
       "      <td>1</td>\n",
       "      <td>focal</td>\n",
       "      <td>2</td>\n",
       "      <td>True</td>\n",
       "      <td>5</td>\n",
       "      <td>64</td>\n",
       "    </tr>\n",
       "    <tr>\n",
       "      <th>0</th>\n",
       "      <td>None</td>\n",
       "      <td>0.655359</td>\n",
       "      <td>0.634488</td>\n",
       "      <td>[0.721829396720325, 0.5471467058535391]</td>\n",
       "      <td>0.632882</td>\n",
       "      <td>[0.759417537195315, 0.5063463281958296]</td>\n",
       "      <td>0.641443</td>\n",
       "      <td>[0.6877866972477065, 0.5950985615343634]</td>\n",
       "      <td>None</td>\n",
       "      <td>0.773285</td>\n",
       "      <td>...</td>\n",
       "      <td>True</td>\n",
       "      <td>300</td>\n",
       "      <td>0.2</td>\n",
       "      <td>0.0001</td>\n",
       "      <td>12</td>\n",
       "      <td>focal</td>\n",
       "      <td>2</td>\n",
       "      <td>True</td>\n",
       "      <td>5</td>\n",
       "      <td>64</td>\n",
       "    </tr>\n",
       "    <tr>\n",
       "      <th>0</th>\n",
       "      <td>None</td>\n",
       "      <td>0.656850</td>\n",
       "      <td>0.633727</td>\n",
       "      <td>[0.7257559958289885, 0.541697784416231]</td>\n",
       "      <td>0.631880</td>\n",
       "      <td>[0.7553488372093023, 0.508411214953271]</td>\n",
       "      <td>0.639021</td>\n",
       "      <td>[0.698394495412844, 0.5796483750665956]</td>\n",
       "      <td>None</td>\n",
       "      <td>0.777733</td>\n",
       "      <td>...</td>\n",
       "      <td>True</td>\n",
       "      <td>300</td>\n",
       "      <td>0.2</td>\n",
       "      <td>0.0001</td>\n",
       "      <td>123</td>\n",
       "      <td>focal</td>\n",
       "      <td>2</td>\n",
       "      <td>True</td>\n",
       "      <td>5</td>\n",
       "      <td>64</td>\n",
       "    </tr>\n",
       "  </tbody>\n",
       "</table>\n",
       "<p>3 rows × 27 columns</p>\n",
       "</div>"
      ],
      "text/plain": [
       "   loss  accuracy        f1                                 f1_scores  \\\n",
       "0  None  0.663001  0.637499  [0.7336476134354744, 0.5413495687468289]   \n",
       "0  None  0.655359  0.634488   [0.721829396720325, 0.5471467058535391]   \n",
       "0  None  0.656850  0.633727   [0.7257559958289885, 0.541697784416231]   \n",
       "\n",
       "   precision                          precision_scores    recall  \\\n",
       "0   0.635626  [0.7545454545454545, 0.5167070217917675]  0.641168   \n",
       "0   0.632882   [0.759417537195315, 0.5063463281958296]  0.641443   \n",
       "0   0.631880   [0.7553488372093023, 0.508411214953271]  0.639021   \n",
       "\n",
       "                              recall_scores valid_loss  valid_accuracy  ...  \\\n",
       "0  [0.7138761467889908, 0.5684603090037293]       None        0.776924  ...   \n",
       "0  [0.6877866972477065, 0.5950985615343634]       None        0.773285  ...   \n",
       "0   [0.698394495412844, 0.5796483750665956]       None        0.777733  ...   \n",
       "\n",
       "   bidirectional hidden_dim  dropout_rate learning_rate  seed loss_function  \\\n",
       "0           True        300           0.2        0.0001     1         focal   \n",
       "0           True        300           0.2        0.0001    12         focal   \n",
       "0           True        300           0.2        0.0001   123         focal   \n",
       "\n",
       "   gamma  k_fold  n_splits  batch_size  \n",
       "0      2    True         5          64  \n",
       "0      2    True         5          64  \n",
       "0      2    True         5          64  \n",
       "\n",
       "[3 rows x 27 columns]"
      ]
     },
     "execution_count": 13,
     "metadata": {},
     "output_type": "execute_result"
    }
   ],
   "source": [
    "best_bilstm_history_5"
   ]
  },
  {
   "cell_type": "code",
   "execution_count": 14,
   "metadata": {},
   "outputs": [
    {
     "data": {
      "text/plain": [
       "0.6352378441668978"
      ]
     },
     "execution_count": 14,
     "metadata": {},
     "output_type": "execute_result"
    }
   ],
   "source": [
    "best_bilstm_history_5[\"f1\"].mean()"
   ]
  },
  {
   "cell_type": "code",
   "execution_count": 15,
   "metadata": {},
   "outputs": [
    {
     "data": {
      "text/plain": [
       "0.6334627323151567"
      ]
     },
     "execution_count": 15,
     "metadata": {},
     "output_type": "execute_result"
    }
   ],
   "source": [
    "best_bilstm_history_5[\"precision\"].mean()"
   ]
  },
  {
   "cell_type": "code",
   "execution_count": 16,
   "metadata": {},
   "outputs": [
    {
     "data": {
      "text/plain": [
       "0.6405440975090383"
      ]
     },
     "execution_count": 16,
     "metadata": {},
     "output_type": "execute_result"
    }
   ],
   "source": [
    "best_bilstm_history_5[\"recall\"].mean()"
   ]
  },
  {
   "cell_type": "code",
   "execution_count": 17,
   "metadata": {
    "scrolled": true
   },
   "outputs": [
    {
     "data": {
      "text/plain": [
       "array([0.72707767, 0.54339802])"
      ]
     },
     "execution_count": 17,
     "metadata": {},
     "output_type": "execute_result"
    }
   ],
   "source": [
    "np.stack(best_bilstm_history_5[\"f1_scores\"]).mean(axis=0)"
   ]
  },
  {
   "cell_type": "code",
   "execution_count": 18,
   "metadata": {},
   "outputs": [
    {
     "data": {
      "text/plain": [
       "array([0.75643728, 0.51048819])"
      ]
     },
     "execution_count": 18,
     "metadata": {},
     "output_type": "execute_result"
    }
   ],
   "source": [
    "np.stack(best_bilstm_history_5[\"precision_scores\"]).mean(axis=0)"
   ]
  },
  {
   "cell_type": "code",
   "execution_count": 19,
   "metadata": {},
   "outputs": [
    {
     "data": {
      "text/plain": [
       "array([0.70001911, 0.58106908])"
      ]
     },
     "execution_count": 19,
     "metadata": {},
     "output_type": "execute_result"
    }
   ],
   "source": [
    "np.stack(best_bilstm_history_5[\"recall_scores\"]).mean(axis=0)"
   ]
  },
  {
   "cell_type": "markdown",
   "metadata": {
    "tags": []
   },
   "source": [
    "## history_length=11"
   ]
  },
  {
   "cell_type": "code",
   "execution_count": 20,
   "metadata": {},
   "outputs": [],
   "source": [
    "size = 11"
   ]
  },
  {
   "cell_type": "code",
   "execution_count": 21,
   "metadata": {},
   "outputs": [
    {
     "data": {
      "application/vnd.jupyter.widget-view+json": {
       "model_id": "5651601c4a4845d38fdac526e40c1136",
       "version_major": 2,
       "version_minor": 0
      },
      "text/plain": [
       "  0%|          | 0/1 [00:00<?, ?it/s]"
      ]
     },
     "metadata": {},
     "output_type": "display_data"
    },
    {
     "name": "stdout",
     "output_type": "stream",
     "text": [
      "[INFO] Concatenating the embeddings to the dataframe...\n",
      "[INFO] - columns beginning with 'e' denote the full embddings.\n",
      "[INFO] Adding time feature columns into dataframe in `.df`.\n",
      "[INFO] Adding 'time_encoding' feature...\n",
      "[INFO] Adding 'time_diff' feature...\n",
      "[INFO] Adding 'timeline_index' feature...\n",
      "[INFO] Padding ids and storing in `.df_padded` and `.array_padded` attributes.\n"
     ]
    },
    {
     "data": {
      "application/vnd.jupyter.widget-view+json": {
       "model_id": "d2f0b89193164b9ca5c7d862d4a82ab5",
       "version_major": 2,
       "version_minor": 0
      },
      "text/plain": [
       "  0%|          | 0/5568 [00:00<?, ?it/s]"
      ]
     },
     "metadata": {},
     "output_type": "display_data"
    },
    {
     "data": {
      "application/vnd.jupyter.widget-view+json": {
       "model_id": "f038f74e8ef14e7e824d4a5e48a28301",
       "version_major": 2,
       "version_minor": 0
      },
      "text/plain": [
       "  0%|          | 0/3 [00:00<?, ?it/s]"
      ]
     },
     "metadata": {},
     "output_type": "display_data"
    },
    {
     "data": {
      "application/vnd.jupyter.widget-view+json": {
       "model_id": "2f9d1f4c748246899ef5b74cc714cb14",
       "version_major": 2,
       "version_minor": 0
      },
      "text/plain": [
       "  0%|          | 0/2 [00:00<?, ?it/s]"
      ]
     },
     "metadata": {},
     "output_type": "display_data"
    },
    {
     "data": {
      "application/vnd.jupyter.widget-view+json": {
       "model_id": "a00e32d030744836be41f68689ef3a1f",
       "version_major": 2,
       "version_minor": 0
      },
      "text/plain": [
       "  0%|          | 0/3 [00:00<?, ?it/s]"
      ]
     },
     "metadata": {},
     "output_type": "display_data"
    },
    {
     "data": {
      "application/vnd.jupyter.widget-view+json": {
       "model_id": "a0d55ffc0f9e42c2b11db8371cda6f00",
       "version_major": 2,
       "version_minor": 0
      },
      "text/plain": [
       "  0%|          | 0/3 [00:00<?, ?it/s]"
      ]
     },
     "metadata": {},
     "output_type": "display_data"
    },
    {
     "data": {
      "application/vnd.jupyter.widget-view+json": {
       "model_id": "23e172b75c2046f29b46b524dcdc2302",
       "version_major": 2,
       "version_minor": 0
      },
      "text/plain": [
       "  0%|          | 0/2 [00:00<?, ?it/s]"
      ]
     },
     "metadata": {},
     "output_type": "display_data"
    },
    {
     "data": {
      "application/vnd.jupyter.widget-view+json": {
       "model_id": "873c5e3b6a6148b090d51556c417006d",
       "version_major": 2,
       "version_minor": 0
      },
      "text/plain": [
       "  0%|          | 0/3 [00:00<?, ?it/s]"
      ]
     },
     "metadata": {},
     "output_type": "display_data"
    },
    {
     "data": {
      "application/vnd.jupyter.widget-view+json": {
       "model_id": "b99ef485a044424ca4cc56090c860206",
       "version_major": 2,
       "version_minor": 0
      },
      "text/plain": [
       "  0%|          | 0/3 [00:00<?, ?it/s]"
      ]
     },
     "metadata": {},
     "output_type": "display_data"
    },
    {
     "data": {
      "application/vnd.jupyter.widget-view+json": {
       "model_id": "ea864329771c4f0b97b96b0d971d7e1d",
       "version_major": 2,
       "version_minor": 0
      },
      "text/plain": [
       "  0%|          | 0/2 [00:00<?, ?it/s]"
      ]
     },
     "metadata": {},
     "output_type": "display_data"
    },
    {
     "data": {
      "application/vnd.jupyter.widget-view+json": {
       "model_id": "5c5df083397b49e38f2b5c799aeeb601",
       "version_major": 2,
       "version_minor": 0
      },
      "text/plain": [
       "  0%|          | 0/3 [00:00<?, ?it/s]"
      ]
     },
     "metadata": {},
     "output_type": "display_data"
    },
    {
     "data": {
      "application/vnd.jupyter.widget-view+json": {
       "model_id": "bc396f0453634bad984299fee607e158",
       "version_major": 2,
       "version_minor": 0
      },
      "text/plain": [
       "  0%|          | 0/3 [00:00<?, ?it/s]"
      ]
     },
     "metadata": {},
     "output_type": "display_data"
    },
    {
     "name": "stdout",
     "output_type": "stream",
     "text": [
      "saving results dataframe to CSV for this hyperparameter search in rumours_output/lstm_history_11_focal_2.csv\n",
      "saving the best model results dataframe to CSV for this hyperparameter search in rumours_output/lstm_history_11_focal_2_best_model.csv\n"
     ]
    }
   ],
   "source": [
    "bilstm_history_11, best_bilstm_history_11, _, __ = lstm_hyperparameter_search(\n",
    "    history_lengths=[size],\n",
    "    results_output=f\"{output_dir}/lstm_history_{size}_focal_{gamma}.csv\",\n",
    "    **kwargs,\n",
    ")"
   ]
  },
  {
   "cell_type": "code",
   "execution_count": 22,
   "metadata": {},
   "outputs": [
    {
     "name": "stderr",
     "output_type": "stream",
     "text": [
      "/tmp/ipykernel_1974987/2881938888.py:1: FutureWarning: The default value of numeric_only in DataFrameGroupBy.mean is deprecated. In a future version, numeric_only will default to False. Either specify numeric_only or select only columns which should be valid for the function.\n",
      "  bilstm_history_11.groupby([\"hidden_dim\", \"dropout_rate\", \"learning_rate\"]).mean()\n"
     ]
    },
    {
     "data": {
      "text/html": [
       "<div>\n",
       "<style scoped>\n",
       "    .dataframe tbody tr th:only-of-type {\n",
       "        vertical-align: middle;\n",
       "    }\n",
       "\n",
       "    .dataframe tbody tr th {\n",
       "        vertical-align: top;\n",
       "    }\n",
       "\n",
       "    .dataframe thead th {\n",
       "        text-align: right;\n",
       "    }\n",
       "</style>\n",
       "<table border=\"1\" class=\"dataframe\">\n",
       "  <thead>\n",
       "    <tr style=\"text-align: right;\">\n",
       "      <th></th>\n",
       "      <th></th>\n",
       "      <th></th>\n",
       "      <th>accuracy</th>\n",
       "      <th>f1</th>\n",
       "      <th>precision</th>\n",
       "      <th>recall</th>\n",
       "      <th>valid_accuracy</th>\n",
       "      <th>valid_f1</th>\n",
       "      <th>valid_precision</th>\n",
       "      <th>valid_recall</th>\n",
       "      <th>k</th>\n",
       "      <th>num_layers</th>\n",
       "      <th>bidirectional</th>\n",
       "      <th>seed</th>\n",
       "      <th>gamma</th>\n",
       "      <th>k_fold</th>\n",
       "      <th>n_splits</th>\n",
       "      <th>batch_size</th>\n",
       "      <th>model_id</th>\n",
       "    </tr>\n",
       "    <tr>\n",
       "      <th>hidden_dim</th>\n",
       "      <th>dropout_rate</th>\n",
       "      <th>learning_rate</th>\n",
       "      <th></th>\n",
       "      <th></th>\n",
       "      <th></th>\n",
       "      <th></th>\n",
       "      <th></th>\n",
       "      <th></th>\n",
       "      <th></th>\n",
       "      <th></th>\n",
       "      <th></th>\n",
       "      <th></th>\n",
       "      <th></th>\n",
       "      <th></th>\n",
       "      <th></th>\n",
       "      <th></th>\n",
       "      <th></th>\n",
       "      <th></th>\n",
       "      <th></th>\n",
       "    </tr>\n",
       "  </thead>\n",
       "  <tbody>\n",
       "    <tr>\n",
       "      <th rowspan=\"6\" valign=\"top\">200</th>\n",
       "      <th rowspan=\"3\" valign=\"top\">0.1</th>\n",
       "      <th>0.0001</th>\n",
       "      <td>0.678409</td>\n",
       "      <td>0.650060</td>\n",
       "      <td>0.648832</td>\n",
       "      <td>0.651706</td>\n",
       "      <td>0.868266</td>\n",
       "      <td>0.858939</td>\n",
       "      <td>0.863191</td>\n",
       "      <td>0.855471</td>\n",
       "      <td>11.0</td>\n",
       "      <td>1.0</td>\n",
       "      <td>1.0</td>\n",
       "      <td>45.333333</td>\n",
       "      <td>2.0</td>\n",
       "      <td>1.0</td>\n",
       "      <td>5.0</td>\n",
       "      <td>64.0</td>\n",
       "      <td>1.0</td>\n",
       "    </tr>\n",
       "    <tr>\n",
       "      <th>0.0005</th>\n",
       "      <td>0.681578</td>\n",
       "      <td>0.657700</td>\n",
       "      <td>0.655792</td>\n",
       "      <td>0.662263</td>\n",
       "      <td>0.884396</td>\n",
       "      <td>0.877578</td>\n",
       "      <td>0.877421</td>\n",
       "      <td>0.877918</td>\n",
       "      <td>11.0</td>\n",
       "      <td>1.0</td>\n",
       "      <td>1.0</td>\n",
       "      <td>45.333333</td>\n",
       "      <td>2.0</td>\n",
       "      <td>1.0</td>\n",
       "      <td>5.0</td>\n",
       "      <td>64.0</td>\n",
       "      <td>2.0</td>\n",
       "    </tr>\n",
       "    <tr>\n",
       "      <th>0.0010</th>\n",
       "      <td>0.685803</td>\n",
       "      <td>0.662397</td>\n",
       "      <td>0.660021</td>\n",
       "      <td>0.666866</td>\n",
       "      <td>0.881565</td>\n",
       "      <td>0.874725</td>\n",
       "      <td>0.874010</td>\n",
       "      <td>0.875496</td>\n",
       "      <td>11.0</td>\n",
       "      <td>1.0</td>\n",
       "      <td>1.0</td>\n",
       "      <td>45.333333</td>\n",
       "      <td>2.0</td>\n",
       "      <td>1.0</td>\n",
       "      <td>5.0</td>\n",
       "      <td>64.0</td>\n",
       "      <td>0.0</td>\n",
       "    </tr>\n",
       "    <tr>\n",
       "      <th rowspan=\"3\" valign=\"top\">0.2</th>\n",
       "      <th>0.0001</th>\n",
       "      <td>0.677912</td>\n",
       "      <td>0.648955</td>\n",
       "      <td>0.647884</td>\n",
       "      <td>0.650298</td>\n",
       "      <td>0.868176</td>\n",
       "      <td>0.858590</td>\n",
       "      <td>0.863698</td>\n",
       "      <td>0.854561</td>\n",
       "      <td>11.0</td>\n",
       "      <td>1.0</td>\n",
       "      <td>1.0</td>\n",
       "      <td>45.333333</td>\n",
       "      <td>2.0</td>\n",
       "      <td>1.0</td>\n",
       "      <td>5.0</td>\n",
       "      <td>64.0</td>\n",
       "      <td>4.0</td>\n",
       "    </tr>\n",
       "    <tr>\n",
       "      <th>0.0005</th>\n",
       "      <td>0.683131</td>\n",
       "      <td>0.659945</td>\n",
       "      <td>0.658025</td>\n",
       "      <td>0.664893</td>\n",
       "      <td>0.882374</td>\n",
       "      <td>0.875270</td>\n",
       "      <td>0.875657</td>\n",
       "      <td>0.875266</td>\n",
       "      <td>11.0</td>\n",
       "      <td>1.0</td>\n",
       "      <td>1.0</td>\n",
       "      <td>45.333333</td>\n",
       "      <td>2.0</td>\n",
       "      <td>1.0</td>\n",
       "      <td>5.0</td>\n",
       "      <td>64.0</td>\n",
       "      <td>5.0</td>\n",
       "    </tr>\n",
       "    <tr>\n",
       "      <th>0.0010</th>\n",
       "      <td>0.685306</td>\n",
       "      <td>0.663310</td>\n",
       "      <td>0.660861</td>\n",
       "      <td>0.668903</td>\n",
       "      <td>0.878780</td>\n",
       "      <td>0.872002</td>\n",
       "      <td>0.870718</td>\n",
       "      <td>0.873471</td>\n",
       "      <td>11.0</td>\n",
       "      <td>1.0</td>\n",
       "      <td>1.0</td>\n",
       "      <td>45.333333</td>\n",
       "      <td>2.0</td>\n",
       "      <td>1.0</td>\n",
       "      <td>5.0</td>\n",
       "      <td>64.0</td>\n",
       "      <td>3.0</td>\n",
       "    </tr>\n",
       "    <tr>\n",
       "      <th rowspan=\"6\" valign=\"top\">300</th>\n",
       "      <th rowspan=\"3\" valign=\"top\">0.1</th>\n",
       "      <th>0.0001</th>\n",
       "      <td>0.675986</td>\n",
       "      <td>0.648125</td>\n",
       "      <td>0.646733</td>\n",
       "      <td>0.650171</td>\n",
       "      <td>0.876533</td>\n",
       "      <td>0.868121</td>\n",
       "      <td>0.871334</td>\n",
       "      <td>0.865455</td>\n",
       "      <td>11.0</td>\n",
       "      <td>1.0</td>\n",
       "      <td>1.0</td>\n",
       "      <td>45.333333</td>\n",
       "      <td>2.0</td>\n",
       "      <td>1.0</td>\n",
       "      <td>5.0</td>\n",
       "      <td>64.0</td>\n",
       "      <td>7.0</td>\n",
       "    </tr>\n",
       "    <tr>\n",
       "      <th>0.0005</th>\n",
       "      <td>0.676297</td>\n",
       "      <td>0.653972</td>\n",
       "      <td>0.651686</td>\n",
       "      <td>0.659514</td>\n",
       "      <td>0.880352</td>\n",
       "      <td>0.873577</td>\n",
       "      <td>0.872592</td>\n",
       "      <td>0.874787</td>\n",
       "      <td>11.0</td>\n",
       "      <td>1.0</td>\n",
       "      <td>1.0</td>\n",
       "      <td>45.333333</td>\n",
       "      <td>2.0</td>\n",
       "      <td>1.0</td>\n",
       "      <td>5.0</td>\n",
       "      <td>64.0</td>\n",
       "      <td>8.0</td>\n",
       "    </tr>\n",
       "    <tr>\n",
       "      <th>0.0010</th>\n",
       "      <td>0.684995</td>\n",
       "      <td>0.660156</td>\n",
       "      <td>0.658166</td>\n",
       "      <td>0.663743</td>\n",
       "      <td>0.877881</td>\n",
       "      <td>0.870092</td>\n",
       "      <td>0.871551</td>\n",
       "      <td>0.868807</td>\n",
       "      <td>11.0</td>\n",
       "      <td>1.0</td>\n",
       "      <td>1.0</td>\n",
       "      <td>45.333333</td>\n",
       "      <td>2.0</td>\n",
       "      <td>1.0</td>\n",
       "      <td>5.0</td>\n",
       "      <td>64.0</td>\n",
       "      <td>6.0</td>\n",
       "    </tr>\n",
       "    <tr>\n",
       "      <th rowspan=\"3\" valign=\"top\">0.2</th>\n",
       "      <th>0.0001</th>\n",
       "      <td>0.676856</td>\n",
       "      <td>0.649587</td>\n",
       "      <td>0.648106</td>\n",
       "      <td>0.651988</td>\n",
       "      <td>0.875006</td>\n",
       "      <td>0.866609</td>\n",
       "      <td>0.869432</td>\n",
       "      <td>0.864288</td>\n",
       "      <td>11.0</td>\n",
       "      <td>1.0</td>\n",
       "      <td>1.0</td>\n",
       "      <td>45.333333</td>\n",
       "      <td>2.0</td>\n",
       "      <td>1.0</td>\n",
       "      <td>5.0</td>\n",
       "      <td>64.0</td>\n",
       "      <td>10.0</td>\n",
       "    </tr>\n",
       "    <tr>\n",
       "      <th>0.0005</th>\n",
       "      <td>0.678223</td>\n",
       "      <td>0.654675</td>\n",
       "      <td>0.652448</td>\n",
       "      <td>0.659314</td>\n",
       "      <td>0.882419</td>\n",
       "      <td>0.875536</td>\n",
       "      <td>0.875141</td>\n",
       "      <td>0.876027</td>\n",
       "      <td>11.0</td>\n",
       "      <td>1.0</td>\n",
       "      <td>1.0</td>\n",
       "      <td>45.333333</td>\n",
       "      <td>2.0</td>\n",
       "      <td>1.0</td>\n",
       "      <td>5.0</td>\n",
       "      <td>64.0</td>\n",
       "      <td>11.0</td>\n",
       "    </tr>\n",
       "    <tr>\n",
       "      <th>0.0010</th>\n",
       "      <td>0.687729</td>\n",
       "      <td>0.661494</td>\n",
       "      <td>0.659916</td>\n",
       "      <td>0.664123</td>\n",
       "      <td>0.878151</td>\n",
       "      <td>0.870072</td>\n",
       "      <td>0.872716</td>\n",
       "      <td>0.867961</td>\n",
       "      <td>11.0</td>\n",
       "      <td>1.0</td>\n",
       "      <td>1.0</td>\n",
       "      <td>45.333333</td>\n",
       "      <td>2.0</td>\n",
       "      <td>1.0</td>\n",
       "      <td>5.0</td>\n",
       "      <td>64.0</td>\n",
       "      <td>9.0</td>\n",
       "    </tr>\n",
       "    <tr>\n",
       "      <th rowspan=\"6\" valign=\"top\">384</th>\n",
       "      <th rowspan=\"3\" valign=\"top\">0.1</th>\n",
       "      <th>0.0001</th>\n",
       "      <td>0.680211</td>\n",
       "      <td>0.653979</td>\n",
       "      <td>0.652201</td>\n",
       "      <td>0.656783</td>\n",
       "      <td>0.871546</td>\n",
       "      <td>0.862678</td>\n",
       "      <td>0.866199</td>\n",
       "      <td>0.859751</td>\n",
       "      <td>11.0</td>\n",
       "      <td>1.0</td>\n",
       "      <td>1.0</td>\n",
       "      <td>45.333333</td>\n",
       "      <td>2.0</td>\n",
       "      <td>1.0</td>\n",
       "      <td>5.0</td>\n",
       "      <td>64.0</td>\n",
       "      <td>13.0</td>\n",
       "    </tr>\n",
       "    <tr>\n",
       "      <th>0.0005</th>\n",
       "      <td>0.675179</td>\n",
       "      <td>0.651164</td>\n",
       "      <td>0.649146</td>\n",
       "      <td>0.655619</td>\n",
       "      <td>0.881925</td>\n",
       "      <td>0.875207</td>\n",
       "      <td>0.874206</td>\n",
       "      <td>0.876307</td>\n",
       "      <td>11.0</td>\n",
       "      <td>1.0</td>\n",
       "      <td>1.0</td>\n",
       "      <td>45.333333</td>\n",
       "      <td>2.0</td>\n",
       "      <td>1.0</td>\n",
       "      <td>5.0</td>\n",
       "      <td>64.0</td>\n",
       "      <td>14.0</td>\n",
       "    </tr>\n",
       "    <tr>\n",
       "      <th>0.0010</th>\n",
       "      <td>0.683939</td>\n",
       "      <td>0.661289</td>\n",
       "      <td>0.658927</td>\n",
       "      <td>0.666376</td>\n",
       "      <td>0.871546</td>\n",
       "      <td>0.864039</td>\n",
       "      <td>0.863594</td>\n",
       "      <td>0.864548</td>\n",
       "      <td>11.0</td>\n",
       "      <td>1.0</td>\n",
       "      <td>1.0</td>\n",
       "      <td>45.333333</td>\n",
       "      <td>2.0</td>\n",
       "      <td>1.0</td>\n",
       "      <td>5.0</td>\n",
       "      <td>64.0</td>\n",
       "      <td>12.0</td>\n",
       "    </tr>\n",
       "    <tr>\n",
       "      <th rowspan=\"3\" valign=\"top\">0.2</th>\n",
       "      <th>0.0001</th>\n",
       "      <td>0.679776</td>\n",
       "      <td>0.653993</td>\n",
       "      <td>0.652082</td>\n",
       "      <td>0.657063</td>\n",
       "      <td>0.871726</td>\n",
       "      <td>0.863080</td>\n",
       "      <td>0.865925</td>\n",
       "      <td>0.860620</td>\n",
       "      <td>11.0</td>\n",
       "      <td>1.0</td>\n",
       "      <td>1.0</td>\n",
       "      <td>45.333333</td>\n",
       "      <td>2.0</td>\n",
       "      <td>1.0</td>\n",
       "      <td>5.0</td>\n",
       "      <td>64.0</td>\n",
       "      <td>16.0</td>\n",
       "    </tr>\n",
       "    <tr>\n",
       "      <th>0.0005</th>\n",
       "      <td>0.675427</td>\n",
       "      <td>0.647197</td>\n",
       "      <td>0.646239</td>\n",
       "      <td>0.649289</td>\n",
       "      <td>0.885025</td>\n",
       "      <td>0.877726</td>\n",
       "      <td>0.879092</td>\n",
       "      <td>0.876526</td>\n",
       "      <td>11.0</td>\n",
       "      <td>1.0</td>\n",
       "      <td>1.0</td>\n",
       "      <td>45.333333</td>\n",
       "      <td>2.0</td>\n",
       "      <td>1.0</td>\n",
       "      <td>5.0</td>\n",
       "      <td>64.0</td>\n",
       "      <td>17.0</td>\n",
       "    </tr>\n",
       "    <tr>\n",
       "      <th>0.0010</th>\n",
       "      <td>0.685989</td>\n",
       "      <td>0.660229</td>\n",
       "      <td>0.658584</td>\n",
       "      <td>0.663195</td>\n",
       "      <td>0.870378</td>\n",
       "      <td>0.862057</td>\n",
       "      <td>0.863654</td>\n",
       "      <td>0.860662</td>\n",
       "      <td>11.0</td>\n",
       "      <td>1.0</td>\n",
       "      <td>1.0</td>\n",
       "      <td>45.333333</td>\n",
       "      <td>2.0</td>\n",
       "      <td>1.0</td>\n",
       "      <td>5.0</td>\n",
       "      <td>64.0</td>\n",
       "      <td>15.0</td>\n",
       "    </tr>\n",
       "  </tbody>\n",
       "</table>\n",
       "</div>"
      ],
      "text/plain": [
       "                                       accuracy        f1  precision  \\\n",
       "hidden_dim dropout_rate learning_rate                                  \n",
       "200        0.1          0.0001         0.678409  0.650060   0.648832   \n",
       "                        0.0005         0.681578  0.657700   0.655792   \n",
       "                        0.0010         0.685803  0.662397   0.660021   \n",
       "           0.2          0.0001         0.677912  0.648955   0.647884   \n",
       "                        0.0005         0.683131  0.659945   0.658025   \n",
       "                        0.0010         0.685306  0.663310   0.660861   \n",
       "300        0.1          0.0001         0.675986  0.648125   0.646733   \n",
       "                        0.0005         0.676297  0.653972   0.651686   \n",
       "                        0.0010         0.684995  0.660156   0.658166   \n",
       "           0.2          0.0001         0.676856  0.649587   0.648106   \n",
       "                        0.0005         0.678223  0.654675   0.652448   \n",
       "                        0.0010         0.687729  0.661494   0.659916   \n",
       "384        0.1          0.0001         0.680211  0.653979   0.652201   \n",
       "                        0.0005         0.675179  0.651164   0.649146   \n",
       "                        0.0010         0.683939  0.661289   0.658927   \n",
       "           0.2          0.0001         0.679776  0.653993   0.652082   \n",
       "                        0.0005         0.675427  0.647197   0.646239   \n",
       "                        0.0010         0.685989  0.660229   0.658584   \n",
       "\n",
       "                                         recall  valid_accuracy  valid_f1  \\\n",
       "hidden_dim dropout_rate learning_rate                                       \n",
       "200        0.1          0.0001         0.651706        0.868266  0.858939   \n",
       "                        0.0005         0.662263        0.884396  0.877578   \n",
       "                        0.0010         0.666866        0.881565  0.874725   \n",
       "           0.2          0.0001         0.650298        0.868176  0.858590   \n",
       "                        0.0005         0.664893        0.882374  0.875270   \n",
       "                        0.0010         0.668903        0.878780  0.872002   \n",
       "300        0.1          0.0001         0.650171        0.876533  0.868121   \n",
       "                        0.0005         0.659514        0.880352  0.873577   \n",
       "                        0.0010         0.663743        0.877881  0.870092   \n",
       "           0.2          0.0001         0.651988        0.875006  0.866609   \n",
       "                        0.0005         0.659314        0.882419  0.875536   \n",
       "                        0.0010         0.664123        0.878151  0.870072   \n",
       "384        0.1          0.0001         0.656783        0.871546  0.862678   \n",
       "                        0.0005         0.655619        0.881925  0.875207   \n",
       "                        0.0010         0.666376        0.871546  0.864039   \n",
       "           0.2          0.0001         0.657063        0.871726  0.863080   \n",
       "                        0.0005         0.649289        0.885025  0.877726   \n",
       "                        0.0010         0.663195        0.870378  0.862057   \n",
       "\n",
       "                                       valid_precision  valid_recall     k  \\\n",
       "hidden_dim dropout_rate learning_rate                                        \n",
       "200        0.1          0.0001                0.863191      0.855471  11.0   \n",
       "                        0.0005                0.877421      0.877918  11.0   \n",
       "                        0.0010                0.874010      0.875496  11.0   \n",
       "           0.2          0.0001                0.863698      0.854561  11.0   \n",
       "                        0.0005                0.875657      0.875266  11.0   \n",
       "                        0.0010                0.870718      0.873471  11.0   \n",
       "300        0.1          0.0001                0.871334      0.865455  11.0   \n",
       "                        0.0005                0.872592      0.874787  11.0   \n",
       "                        0.0010                0.871551      0.868807  11.0   \n",
       "           0.2          0.0001                0.869432      0.864288  11.0   \n",
       "                        0.0005                0.875141      0.876027  11.0   \n",
       "                        0.0010                0.872716      0.867961  11.0   \n",
       "384        0.1          0.0001                0.866199      0.859751  11.0   \n",
       "                        0.0005                0.874206      0.876307  11.0   \n",
       "                        0.0010                0.863594      0.864548  11.0   \n",
       "           0.2          0.0001                0.865925      0.860620  11.0   \n",
       "                        0.0005                0.879092      0.876526  11.0   \n",
       "                        0.0010                0.863654      0.860662  11.0   \n",
       "\n",
       "                                       num_layers  bidirectional       seed  \\\n",
       "hidden_dim dropout_rate learning_rate                                         \n",
       "200        0.1          0.0001                1.0            1.0  45.333333   \n",
       "                        0.0005                1.0            1.0  45.333333   \n",
       "                        0.0010                1.0            1.0  45.333333   \n",
       "           0.2          0.0001                1.0            1.0  45.333333   \n",
       "                        0.0005                1.0            1.0  45.333333   \n",
       "                        0.0010                1.0            1.0  45.333333   \n",
       "300        0.1          0.0001                1.0            1.0  45.333333   \n",
       "                        0.0005                1.0            1.0  45.333333   \n",
       "                        0.0010                1.0            1.0  45.333333   \n",
       "           0.2          0.0001                1.0            1.0  45.333333   \n",
       "                        0.0005                1.0            1.0  45.333333   \n",
       "                        0.0010                1.0            1.0  45.333333   \n",
       "384        0.1          0.0001                1.0            1.0  45.333333   \n",
       "                        0.0005                1.0            1.0  45.333333   \n",
       "                        0.0010                1.0            1.0  45.333333   \n",
       "           0.2          0.0001                1.0            1.0  45.333333   \n",
       "                        0.0005                1.0            1.0  45.333333   \n",
       "                        0.0010                1.0            1.0  45.333333   \n",
       "\n",
       "                                       gamma  k_fold  n_splits  batch_size  \\\n",
       "hidden_dim dropout_rate learning_rate                                        \n",
       "200        0.1          0.0001           2.0     1.0       5.0        64.0   \n",
       "                        0.0005           2.0     1.0       5.0        64.0   \n",
       "                        0.0010           2.0     1.0       5.0        64.0   \n",
       "           0.2          0.0001           2.0     1.0       5.0        64.0   \n",
       "                        0.0005           2.0     1.0       5.0        64.0   \n",
       "                        0.0010           2.0     1.0       5.0        64.0   \n",
       "300        0.1          0.0001           2.0     1.0       5.0        64.0   \n",
       "                        0.0005           2.0     1.0       5.0        64.0   \n",
       "                        0.0010           2.0     1.0       5.0        64.0   \n",
       "           0.2          0.0001           2.0     1.0       5.0        64.0   \n",
       "                        0.0005           2.0     1.0       5.0        64.0   \n",
       "                        0.0010           2.0     1.0       5.0        64.0   \n",
       "384        0.1          0.0001           2.0     1.0       5.0        64.0   \n",
       "                        0.0005           2.0     1.0       5.0        64.0   \n",
       "                        0.0010           2.0     1.0       5.0        64.0   \n",
       "           0.2          0.0001           2.0     1.0       5.0        64.0   \n",
       "                        0.0005           2.0     1.0       5.0        64.0   \n",
       "                        0.0010           2.0     1.0       5.0        64.0   \n",
       "\n",
       "                                       model_id  \n",
       "hidden_dim dropout_rate learning_rate            \n",
       "200        0.1          0.0001              1.0  \n",
       "                        0.0005              2.0  \n",
       "                        0.0010              0.0  \n",
       "           0.2          0.0001              4.0  \n",
       "                        0.0005              5.0  \n",
       "                        0.0010              3.0  \n",
       "300        0.1          0.0001              7.0  \n",
       "                        0.0005              8.0  \n",
       "                        0.0010              6.0  \n",
       "           0.2          0.0001             10.0  \n",
       "                        0.0005             11.0  \n",
       "                        0.0010              9.0  \n",
       "384        0.1          0.0001             13.0  \n",
       "                        0.0005             14.0  \n",
       "                        0.0010             12.0  \n",
       "           0.2          0.0001             16.0  \n",
       "                        0.0005             17.0  \n",
       "                        0.0010             15.0  "
      ]
     },
     "execution_count": 22,
     "metadata": {},
     "output_type": "execute_result"
    }
   ],
   "source": [
    "bilstm_history_11.groupby([\"hidden_dim\", \"dropout_rate\", \"learning_rate\"]).mean()"
   ]
  },
  {
   "cell_type": "code",
   "execution_count": 23,
   "metadata": {},
   "outputs": [
    {
     "data": {
      "text/html": [
       "<div>\n",
       "<style scoped>\n",
       "    .dataframe tbody tr th:only-of-type {\n",
       "        vertical-align: middle;\n",
       "    }\n",
       "\n",
       "    .dataframe tbody tr th {\n",
       "        vertical-align: top;\n",
       "    }\n",
       "\n",
       "    .dataframe thead th {\n",
       "        text-align: right;\n",
       "    }\n",
       "</style>\n",
       "<table border=\"1\" class=\"dataframe\">\n",
       "  <thead>\n",
       "    <tr style=\"text-align: right;\">\n",
       "      <th></th>\n",
       "      <th>loss</th>\n",
       "      <th>accuracy</th>\n",
       "      <th>f1</th>\n",
       "      <th>f1_scores</th>\n",
       "      <th>precision</th>\n",
       "      <th>precision_scores</th>\n",
       "      <th>recall</th>\n",
       "      <th>recall_scores</th>\n",
       "      <th>valid_loss</th>\n",
       "      <th>valid_accuracy</th>\n",
       "      <th>...</th>\n",
       "      <th>bidirectional</th>\n",
       "      <th>hidden_dim</th>\n",
       "      <th>dropout_rate</th>\n",
       "      <th>learning_rate</th>\n",
       "      <th>seed</th>\n",
       "      <th>loss_function</th>\n",
       "      <th>gamma</th>\n",
       "      <th>k_fold</th>\n",
       "      <th>n_splits</th>\n",
       "      <th>batch_size</th>\n",
       "    </tr>\n",
       "  </thead>\n",
       "  <tbody>\n",
       "    <tr>\n",
       "      <th>0</th>\n",
       "      <td>None</td>\n",
       "      <td>0.677726</td>\n",
       "      <td>0.643878</td>\n",
       "      <td>[0.7536686137626442, 0.5340878469415251]</td>\n",
       "      <td>0.644714</td>\n",
       "      <td>[0.7490795808552818, 0.5403489640130862]</td>\n",
       "      <td>0.643142</td>\n",
       "      <td>[0.7583142201834863, 0.5279701651571657]</td>\n",
       "      <td>None</td>\n",
       "      <td>0.880577</td>\n",
       "      <td>...</td>\n",
       "      <td>True</td>\n",
       "      <td>384</td>\n",
       "      <td>0.2</td>\n",
       "      <td>0.0005</td>\n",
       "      <td>1</td>\n",
       "      <td>focal</td>\n",
       "      <td>2</td>\n",
       "      <td>True</td>\n",
       "      <td>5</td>\n",
       "      <td>64</td>\n",
       "    </tr>\n",
       "    <tr>\n",
       "      <th>0</th>\n",
       "      <td>None</td>\n",
       "      <td>0.677353</td>\n",
       "      <td>0.649914</td>\n",
       "      <td>[0.747924858016601, 0.5519026663215119]</td>\n",
       "      <td>0.648373</td>\n",
       "      <td>[0.7599881621781592, 0.5367573011077543]</td>\n",
       "      <td>0.652083</td>\n",
       "      <td>[0.7362385321100917, 0.5679275439531166]</td>\n",
       "      <td>None</td>\n",
       "      <td>0.885429</td>\n",
       "      <td>...</td>\n",
       "      <td>True</td>\n",
       "      <td>384</td>\n",
       "      <td>0.2</td>\n",
       "      <td>0.0005</td>\n",
       "      <td>12</td>\n",
       "      <td>focal</td>\n",
       "      <td>2</td>\n",
       "      <td>True</td>\n",
       "      <td>5</td>\n",
       "      <td>64</td>\n",
       "    </tr>\n",
       "    <tr>\n",
       "      <th>0</th>\n",
       "      <td>None</td>\n",
       "      <td>0.671202</td>\n",
       "      <td>0.647798</td>\n",
       "      <td>[0.7385892116182573, 0.5570065293822201]</td>\n",
       "      <td>0.645629</td>\n",
       "      <td>[0.7644171779141105, 0.5268408551068884]</td>\n",
       "      <td>0.652643</td>\n",
       "      <td>[0.7144495412844036, 0.5908364411294619]</td>\n",
       "      <td>None</td>\n",
       "      <td>0.889069</td>\n",
       "      <td>...</td>\n",
       "      <td>True</td>\n",
       "      <td>384</td>\n",
       "      <td>0.2</td>\n",
       "      <td>0.0005</td>\n",
       "      <td>123</td>\n",
       "      <td>focal</td>\n",
       "      <td>2</td>\n",
       "      <td>True</td>\n",
       "      <td>5</td>\n",
       "      <td>64</td>\n",
       "    </tr>\n",
       "  </tbody>\n",
       "</table>\n",
       "<p>3 rows × 27 columns</p>\n",
       "</div>"
      ],
      "text/plain": [
       "   loss  accuracy        f1                                 f1_scores  \\\n",
       "0  None  0.677726  0.643878  [0.7536686137626442, 0.5340878469415251]   \n",
       "0  None  0.677353  0.649914   [0.747924858016601, 0.5519026663215119]   \n",
       "0  None  0.671202  0.647798  [0.7385892116182573, 0.5570065293822201]   \n",
       "\n",
       "   precision                          precision_scores    recall  \\\n",
       "0   0.644714  [0.7490795808552818, 0.5403489640130862]  0.643142   \n",
       "0   0.648373  [0.7599881621781592, 0.5367573011077543]  0.652083   \n",
       "0   0.645629  [0.7644171779141105, 0.5268408551068884]  0.652643   \n",
       "\n",
       "                              recall_scores valid_loss  valid_accuracy  ...  \\\n",
       "0  [0.7583142201834863, 0.5279701651571657]       None        0.880577  ...   \n",
       "0  [0.7362385321100917, 0.5679275439531166]       None        0.885429  ...   \n",
       "0  [0.7144495412844036, 0.5908364411294619]       None        0.889069  ...   \n",
       "\n",
       "   bidirectional hidden_dim  dropout_rate learning_rate  seed loss_function  \\\n",
       "0           True        384           0.2        0.0005     1         focal   \n",
       "0           True        384           0.2        0.0005    12         focal   \n",
       "0           True        384           0.2        0.0005   123         focal   \n",
       "\n",
       "   gamma  k_fold  n_splits  batch_size  \n",
       "0      2    True         5          64  \n",
       "0      2    True         5          64  \n",
       "0      2    True         5          64  \n",
       "\n",
       "[3 rows x 27 columns]"
      ]
     },
     "execution_count": 23,
     "metadata": {},
     "output_type": "execute_result"
    }
   ],
   "source": [
    "best_bilstm_history_11"
   ]
  },
  {
   "cell_type": "code",
   "execution_count": 24,
   "metadata": {},
   "outputs": [
    {
     "data": {
      "text/plain": [
       "0.6471966210071266"
      ]
     },
     "execution_count": 24,
     "metadata": {},
     "output_type": "execute_result"
    }
   ],
   "source": [
    "best_bilstm_history_11[\"f1\"].mean()"
   ]
  },
  {
   "cell_type": "code",
   "execution_count": 25,
   "metadata": {},
   "outputs": [
    {
     "data": {
      "text/plain": [
       "0.6462386735292134"
      ]
     },
     "execution_count": 25,
     "metadata": {},
     "output_type": "execute_result"
    }
   ],
   "source": [
    "best_bilstm_history_11[\"precision\"].mean()"
   ]
  },
  {
   "cell_type": "code",
   "execution_count": 26,
   "metadata": {},
   "outputs": [
    {
     "data": {
      "text/plain": [
       "0.6492894073029544"
      ]
     },
     "execution_count": 26,
     "metadata": {},
     "output_type": "execute_result"
    }
   ],
   "source": [
    "best_bilstm_history_11[\"recall\"].mean()"
   ]
  },
  {
   "cell_type": "code",
   "execution_count": 27,
   "metadata": {
    "scrolled": true
   },
   "outputs": [
    {
     "data": {
      "text/plain": [
       "array([0.74672756, 0.54766568])"
      ]
     },
     "execution_count": 27,
     "metadata": {},
     "output_type": "execute_result"
    }
   ],
   "source": [
    "np.stack(best_bilstm_history_11[\"f1_scores\"]).mean(axis=0)"
   ]
  },
  {
   "cell_type": "code",
   "execution_count": 28,
   "metadata": {},
   "outputs": [
    {
     "data": {
      "text/plain": [
       "array([0.75782831, 0.53464904])"
      ]
     },
     "execution_count": 28,
     "metadata": {},
     "output_type": "execute_result"
    }
   ],
   "source": [
    "np.stack(best_bilstm_history_11[\"precision_scores\"]).mean(axis=0)"
   ]
  },
  {
   "cell_type": "code",
   "execution_count": 29,
   "metadata": {},
   "outputs": [
    {
     "data": {
      "text/plain": [
       "array([0.7363341 , 0.56224472])"
      ]
     },
     "execution_count": 29,
     "metadata": {},
     "output_type": "execute_result"
    }
   ],
   "source": [
    "np.stack(best_bilstm_history_11[\"recall_scores\"]).mean(axis=0)"
   ]
  },
  {
   "cell_type": "markdown",
   "metadata": {
    "tags": []
   },
   "source": [
    "## history_length=20"
   ]
  },
  {
   "cell_type": "code",
   "execution_count": 30,
   "metadata": {},
   "outputs": [],
   "source": [
    "size = 20"
   ]
  },
  {
   "cell_type": "code",
   "execution_count": 31,
   "metadata": {},
   "outputs": [
    {
     "data": {
      "application/vnd.jupyter.widget-view+json": {
       "model_id": "830747705222449faa1346608a96d740",
       "version_major": 2,
       "version_minor": 0
      },
      "text/plain": [
       "  0%|          | 0/1 [00:00<?, ?it/s]"
      ]
     },
     "metadata": {},
     "output_type": "display_data"
    },
    {
     "name": "stdout",
     "output_type": "stream",
     "text": [
      "[INFO] Concatenating the embeddings to the dataframe...\n",
      "[INFO] - columns beginning with 'e' denote the full embddings.\n",
      "[INFO] Adding time feature columns into dataframe in `.df`.\n",
      "[INFO] Adding 'time_encoding' feature...\n",
      "[INFO] Adding 'time_diff' feature...\n",
      "[INFO] Adding 'timeline_index' feature...\n",
      "[INFO] Padding ids and storing in `.df_padded` and `.array_padded` attributes.\n"
     ]
    },
    {
     "data": {
      "application/vnd.jupyter.widget-view+json": {
       "model_id": "a8ad2f88e56f4b6f876d445277026e1d",
       "version_major": 2,
       "version_minor": 0
      },
      "text/plain": [
       "  0%|          | 0/5568 [00:00<?, ?it/s]"
      ]
     },
     "metadata": {},
     "output_type": "display_data"
    },
    {
     "data": {
      "application/vnd.jupyter.widget-view+json": {
       "model_id": "3a300e15ea3341218e45aa019eea1235",
       "version_major": 2,
       "version_minor": 0
      },
      "text/plain": [
       "  0%|          | 0/3 [00:00<?, ?it/s]"
      ]
     },
     "metadata": {},
     "output_type": "display_data"
    },
    {
     "data": {
      "application/vnd.jupyter.widget-view+json": {
       "model_id": "740f495966464438b951f762633550e8",
       "version_major": 2,
       "version_minor": 0
      },
      "text/plain": [
       "  0%|          | 0/2 [00:00<?, ?it/s]"
      ]
     },
     "metadata": {},
     "output_type": "display_data"
    },
    {
     "data": {
      "application/vnd.jupyter.widget-view+json": {
       "model_id": "2391cad5d10e44bbb4c5c2f8a8b8d30e",
       "version_major": 2,
       "version_minor": 0
      },
      "text/plain": [
       "  0%|          | 0/3 [00:00<?, ?it/s]"
      ]
     },
     "metadata": {},
     "output_type": "display_data"
    },
    {
     "data": {
      "application/vnd.jupyter.widget-view+json": {
       "model_id": "4fe92eced5354676b6c1e94edf7df7ad",
       "version_major": 2,
       "version_minor": 0
      },
      "text/plain": [
       "  0%|          | 0/3 [00:00<?, ?it/s]"
      ]
     },
     "metadata": {},
     "output_type": "display_data"
    },
    {
     "data": {
      "application/vnd.jupyter.widget-view+json": {
       "model_id": "e330316a90874d6190fbc2a3534f87aa",
       "version_major": 2,
       "version_minor": 0
      },
      "text/plain": [
       "  0%|          | 0/2 [00:00<?, ?it/s]"
      ]
     },
     "metadata": {},
     "output_type": "display_data"
    },
    {
     "data": {
      "application/vnd.jupyter.widget-view+json": {
       "model_id": "1039a104ebf749038b8d0a754d935111",
       "version_major": 2,
       "version_minor": 0
      },
      "text/plain": [
       "  0%|          | 0/3 [00:00<?, ?it/s]"
      ]
     },
     "metadata": {},
     "output_type": "display_data"
    },
    {
     "data": {
      "application/vnd.jupyter.widget-view+json": {
       "model_id": "98a9c2ed63e9480eb57fac0d945814dd",
       "version_major": 2,
       "version_minor": 0
      },
      "text/plain": [
       "  0%|          | 0/3 [00:00<?, ?it/s]"
      ]
     },
     "metadata": {},
     "output_type": "display_data"
    },
    {
     "data": {
      "application/vnd.jupyter.widget-view+json": {
       "model_id": "803e1efe65bd4e4798b950f74642778e",
       "version_major": 2,
       "version_minor": 0
      },
      "text/plain": [
       "  0%|          | 0/2 [00:00<?, ?it/s]"
      ]
     },
     "metadata": {},
     "output_type": "display_data"
    },
    {
     "data": {
      "application/vnd.jupyter.widget-view+json": {
       "model_id": "59607f3bc47942808a12b281ea2ff8db",
       "version_major": 2,
       "version_minor": 0
      },
      "text/plain": [
       "  0%|          | 0/3 [00:00<?, ?it/s]"
      ]
     },
     "metadata": {},
     "output_type": "display_data"
    },
    {
     "data": {
      "application/vnd.jupyter.widget-view+json": {
       "model_id": "457c6e47496545009f9d609b62765439",
       "version_major": 2,
       "version_minor": 0
      },
      "text/plain": [
       "  0%|          | 0/3 [00:00<?, ?it/s]"
      ]
     },
     "metadata": {},
     "output_type": "display_data"
    },
    {
     "name": "stdout",
     "output_type": "stream",
     "text": [
      "saving results dataframe to CSV for this hyperparameter search in rumours_output/lstm_history_20_focal_2.csv\n",
      "saving the best model results dataframe to CSV for this hyperparameter search in rumours_output/lstm_history_20_focal_2_best_model.csv\n"
     ]
    }
   ],
   "source": [
    "bilstm_history_20, best_bilstm_history_20, _, __ = lstm_hyperparameter_search(\n",
    "    history_lengths=[size],\n",
    "    results_output=f\"{output_dir}/lstm_history_{size}_focal_{gamma}.csv\",\n",
    "    **kwargs,\n",
    ")"
   ]
  },
  {
   "cell_type": "code",
   "execution_count": 32,
   "metadata": {},
   "outputs": [
    {
     "name": "stderr",
     "output_type": "stream",
     "text": [
      "/tmp/ipykernel_1974987/1802967379.py:1: FutureWarning: The default value of numeric_only in DataFrameGroupBy.mean is deprecated. In a future version, numeric_only will default to False. Either specify numeric_only or select only columns which should be valid for the function.\n",
      "  bilstm_history_20.groupby([\"hidden_dim\", \"dropout_rate\", \"learning_rate\"]).mean()\n"
     ]
    },
    {
     "data": {
      "text/html": [
       "<div>\n",
       "<style scoped>\n",
       "    .dataframe tbody tr th:only-of-type {\n",
       "        vertical-align: middle;\n",
       "    }\n",
       "\n",
       "    .dataframe tbody tr th {\n",
       "        vertical-align: top;\n",
       "    }\n",
       "\n",
       "    .dataframe thead th {\n",
       "        text-align: right;\n",
       "    }\n",
       "</style>\n",
       "<table border=\"1\" class=\"dataframe\">\n",
       "  <thead>\n",
       "    <tr style=\"text-align: right;\">\n",
       "      <th></th>\n",
       "      <th></th>\n",
       "      <th></th>\n",
       "      <th>accuracy</th>\n",
       "      <th>f1</th>\n",
       "      <th>precision</th>\n",
       "      <th>recall</th>\n",
       "      <th>valid_accuracy</th>\n",
       "      <th>valid_f1</th>\n",
       "      <th>valid_precision</th>\n",
       "      <th>valid_recall</th>\n",
       "      <th>k</th>\n",
       "      <th>num_layers</th>\n",
       "      <th>bidirectional</th>\n",
       "      <th>seed</th>\n",
       "      <th>gamma</th>\n",
       "      <th>k_fold</th>\n",
       "      <th>n_splits</th>\n",
       "      <th>batch_size</th>\n",
       "      <th>model_id</th>\n",
       "    </tr>\n",
       "    <tr>\n",
       "      <th>hidden_dim</th>\n",
       "      <th>dropout_rate</th>\n",
       "      <th>learning_rate</th>\n",
       "      <th></th>\n",
       "      <th></th>\n",
       "      <th></th>\n",
       "      <th></th>\n",
       "      <th></th>\n",
       "      <th></th>\n",
       "      <th></th>\n",
       "      <th></th>\n",
       "      <th></th>\n",
       "      <th></th>\n",
       "      <th></th>\n",
       "      <th></th>\n",
       "      <th></th>\n",
       "      <th></th>\n",
       "      <th></th>\n",
       "      <th></th>\n",
       "      <th></th>\n",
       "    </tr>\n",
       "  </thead>\n",
       "  <tbody>\n",
       "    <tr>\n",
       "      <th rowspan=\"6\" valign=\"top\">200</th>\n",
       "      <th rowspan=\"3\" valign=\"top\">0.1</th>\n",
       "      <th>0.0001</th>\n",
       "      <td>0.677105</td>\n",
       "      <td>0.650745</td>\n",
       "      <td>0.648948</td>\n",
       "      <td>0.653532</td>\n",
       "      <td>0.897426</td>\n",
       "      <td>0.890720</td>\n",
       "      <td>0.892928</td>\n",
       "      <td>0.888763</td>\n",
       "      <td>20.0</td>\n",
       "      <td>1.0</td>\n",
       "      <td>1.0</td>\n",
       "      <td>45.333333</td>\n",
       "      <td>2.0</td>\n",
       "      <td>1.0</td>\n",
       "      <td>5.0</td>\n",
       "      <td>64.0</td>\n",
       "      <td>1.0</td>\n",
       "    </tr>\n",
       "    <tr>\n",
       "      <th>0.0005</th>\n",
       "      <td>0.671016</td>\n",
       "      <td>0.647986</td>\n",
       "      <td>0.645911</td>\n",
       "      <td>0.653197</td>\n",
       "      <td>0.906277</td>\n",
       "      <td>0.901047</td>\n",
       "      <td>0.899652</td>\n",
       "      <td>0.902614</td>\n",
       "      <td>20.0</td>\n",
       "      <td>1.0</td>\n",
       "      <td>1.0</td>\n",
       "      <td>45.333333</td>\n",
       "      <td>2.0</td>\n",
       "      <td>1.0</td>\n",
       "      <td>5.0</td>\n",
       "      <td>64.0</td>\n",
       "      <td>2.0</td>\n",
       "    </tr>\n",
       "    <tr>\n",
       "      <th>0.0010</th>\n",
       "      <td>0.673377</td>\n",
       "      <td>0.652042</td>\n",
       "      <td>0.650006</td>\n",
       "      <td>0.658745</td>\n",
       "      <td>0.901829</td>\n",
       "      <td>0.896167</td>\n",
       "      <td>0.895501</td>\n",
       "      <td>0.897051</td>\n",
       "      <td>20.0</td>\n",
       "      <td>1.0</td>\n",
       "      <td>1.0</td>\n",
       "      <td>45.333333</td>\n",
       "      <td>2.0</td>\n",
       "      <td>1.0</td>\n",
       "      <td>5.0</td>\n",
       "      <td>64.0</td>\n",
       "      <td>0.0</td>\n",
       "    </tr>\n",
       "    <tr>\n",
       "      <th rowspan=\"3\" valign=\"top\">0.2</th>\n",
       "      <th>0.0001</th>\n",
       "      <td>0.677477</td>\n",
       "      <td>0.651283</td>\n",
       "      <td>0.649517</td>\n",
       "      <td>0.654147</td>\n",
       "      <td>0.897021</td>\n",
       "      <td>0.890259</td>\n",
       "      <td>0.892616</td>\n",
       "      <td>0.888233</td>\n",
       "      <td>20.0</td>\n",
       "      <td>1.0</td>\n",
       "      <td>1.0</td>\n",
       "      <td>45.333333</td>\n",
       "      <td>2.0</td>\n",
       "      <td>1.0</td>\n",
       "      <td>5.0</td>\n",
       "      <td>64.0</td>\n",
       "      <td>4.0</td>\n",
       "    </tr>\n",
       "    <tr>\n",
       "      <th>0.0005</th>\n",
       "      <td>0.671637</td>\n",
       "      <td>0.648241</td>\n",
       "      <td>0.646128</td>\n",
       "      <td>0.653183</td>\n",
       "      <td>0.907445</td>\n",
       "      <td>0.902202</td>\n",
       "      <td>0.901053</td>\n",
       "      <td>0.903444</td>\n",
       "      <td>20.0</td>\n",
       "      <td>1.0</td>\n",
       "      <td>1.0</td>\n",
       "      <td>45.333333</td>\n",
       "      <td>2.0</td>\n",
       "      <td>1.0</td>\n",
       "      <td>5.0</td>\n",
       "      <td>64.0</td>\n",
       "      <td>5.0</td>\n",
       "    </tr>\n",
       "    <tr>\n",
       "      <th>0.0010</th>\n",
       "      <td>0.672134</td>\n",
       "      <td>0.652710</td>\n",
       "      <td>0.650888</td>\n",
       "      <td>0.660865</td>\n",
       "      <td>0.902098</td>\n",
       "      <td>0.896745</td>\n",
       "      <td>0.895024</td>\n",
       "      <td>0.898785</td>\n",
       "      <td>20.0</td>\n",
       "      <td>1.0</td>\n",
       "      <td>1.0</td>\n",
       "      <td>45.333333</td>\n",
       "      <td>2.0</td>\n",
       "      <td>1.0</td>\n",
       "      <td>5.0</td>\n",
       "      <td>64.0</td>\n",
       "      <td>3.0</td>\n",
       "    </tr>\n",
       "    <tr>\n",
       "      <th rowspan=\"6\" valign=\"top\">300</th>\n",
       "      <th rowspan=\"3\" valign=\"top\">0.1</th>\n",
       "      <th>0.0001</th>\n",
       "      <td>0.664119</td>\n",
       "      <td>0.636858</td>\n",
       "      <td>0.635264</td>\n",
       "      <td>0.639527</td>\n",
       "      <td>0.901604</td>\n",
       "      <td>0.895242</td>\n",
       "      <td>0.897181</td>\n",
       "      <td>0.893520</td>\n",
       "      <td>20.0</td>\n",
       "      <td>1.0</td>\n",
       "      <td>1.0</td>\n",
       "      <td>45.333333</td>\n",
       "      <td>2.0</td>\n",
       "      <td>1.0</td>\n",
       "      <td>5.0</td>\n",
       "      <td>64.0</td>\n",
       "      <td>7.0</td>\n",
       "    </tr>\n",
       "    <tr>\n",
       "      <th>0.0005</th>\n",
       "      <td>0.669835</td>\n",
       "      <td>0.647801</td>\n",
       "      <td>0.645646</td>\n",
       "      <td>0.653683</td>\n",
       "      <td>0.906771</td>\n",
       "      <td>0.901563</td>\n",
       "      <td>0.900146</td>\n",
       "      <td>0.903126</td>\n",
       "      <td>20.0</td>\n",
       "      <td>1.0</td>\n",
       "      <td>1.0</td>\n",
       "      <td>45.333333</td>\n",
       "      <td>2.0</td>\n",
       "      <td>1.0</td>\n",
       "      <td>5.0</td>\n",
       "      <td>64.0</td>\n",
       "      <td>8.0</td>\n",
       "    </tr>\n",
       "    <tr>\n",
       "      <th>0.0010</th>\n",
       "      <td>0.667412</td>\n",
       "      <td>0.645366</td>\n",
       "      <td>0.643323</td>\n",
       "      <td>0.651287</td>\n",
       "      <td>0.902772</td>\n",
       "      <td>0.897040</td>\n",
       "      <td>0.896767</td>\n",
       "      <td>0.897383</td>\n",
       "      <td>20.0</td>\n",
       "      <td>1.0</td>\n",
       "      <td>1.0</td>\n",
       "      <td>45.333333</td>\n",
       "      <td>2.0</td>\n",
       "      <td>1.0</td>\n",
       "      <td>5.0</td>\n",
       "      <td>64.0</td>\n",
       "      <td>6.0</td>\n",
       "    </tr>\n",
       "    <tr>\n",
       "      <th rowspan=\"3\" valign=\"top\">0.2</th>\n",
       "      <th>0.0001</th>\n",
       "      <td>0.664492</td>\n",
       "      <td>0.636366</td>\n",
       "      <td>0.634934</td>\n",
       "      <td>0.638583</td>\n",
       "      <td>0.900885</td>\n",
       "      <td>0.894554</td>\n",
       "      <td>0.896143</td>\n",
       "      <td>0.893097</td>\n",
       "      <td>20.0</td>\n",
       "      <td>1.0</td>\n",
       "      <td>1.0</td>\n",
       "      <td>45.333333</td>\n",
       "      <td>2.0</td>\n",
       "      <td>1.0</td>\n",
       "      <td>5.0</td>\n",
       "      <td>64.0</td>\n",
       "      <td>10.0</td>\n",
       "    </tr>\n",
       "    <tr>\n",
       "      <th>0.0005</th>\n",
       "      <td>0.669338</td>\n",
       "      <td>0.645836</td>\n",
       "      <td>0.643718</td>\n",
       "      <td>0.650676</td>\n",
       "      <td>0.905693</td>\n",
       "      <td>0.900239</td>\n",
       "      <td>0.899500</td>\n",
       "      <td>0.901010</td>\n",
       "      <td>20.0</td>\n",
       "      <td>1.0</td>\n",
       "      <td>1.0</td>\n",
       "      <td>45.333333</td>\n",
       "      <td>2.0</td>\n",
       "      <td>1.0</td>\n",
       "      <td>5.0</td>\n",
       "      <td>64.0</td>\n",
       "      <td>11.0</td>\n",
       "    </tr>\n",
       "    <tr>\n",
       "      <th>0.0010</th>\n",
       "      <td>0.671761</td>\n",
       "      <td>0.651067</td>\n",
       "      <td>0.649010</td>\n",
       "      <td>0.658035</td>\n",
       "      <td>0.902772</td>\n",
       "      <td>0.897280</td>\n",
       "      <td>0.896220</td>\n",
       "      <td>0.898583</td>\n",
       "      <td>20.0</td>\n",
       "      <td>1.0</td>\n",
       "      <td>1.0</td>\n",
       "      <td>45.333333</td>\n",
       "      <td>2.0</td>\n",
       "      <td>1.0</td>\n",
       "      <td>5.0</td>\n",
       "      <td>64.0</td>\n",
       "      <td>9.0</td>\n",
       "    </tr>\n",
       "    <tr>\n",
       "      <th rowspan=\"6\" valign=\"top\">384</th>\n",
       "      <th rowspan=\"3\" valign=\"top\">0.1</th>\n",
       "      <th>0.0001</th>\n",
       "      <td>0.677788</td>\n",
       "      <td>0.649331</td>\n",
       "      <td>0.648105</td>\n",
       "      <td>0.650941</td>\n",
       "      <td>0.900616</td>\n",
       "      <td>0.894090</td>\n",
       "      <td>0.896409</td>\n",
       "      <td>0.892020</td>\n",
       "      <td>20.0</td>\n",
       "      <td>1.0</td>\n",
       "      <td>1.0</td>\n",
       "      <td>45.333333</td>\n",
       "      <td>2.0</td>\n",
       "      <td>1.0</td>\n",
       "      <td>5.0</td>\n",
       "      <td>64.0</td>\n",
       "      <td>13.0</td>\n",
       "    </tr>\n",
       "    <tr>\n",
       "      <th>0.0005</th>\n",
       "      <td>0.672010</td>\n",
       "      <td>0.651207</td>\n",
       "      <td>0.649180</td>\n",
       "      <td>0.658104</td>\n",
       "      <td>0.904974</td>\n",
       "      <td>0.899703</td>\n",
       "      <td>0.898179</td>\n",
       "      <td>0.901403</td>\n",
       "      <td>20.0</td>\n",
       "      <td>1.0</td>\n",
       "      <td>1.0</td>\n",
       "      <td>45.333333</td>\n",
       "      <td>2.0</td>\n",
       "      <td>1.0</td>\n",
       "      <td>5.0</td>\n",
       "      <td>64.0</td>\n",
       "      <td>14.0</td>\n",
       "    </tr>\n",
       "    <tr>\n",
       "      <th>0.0010</th>\n",
       "      <td>0.667971</td>\n",
       "      <td>0.645635</td>\n",
       "      <td>0.643529</td>\n",
       "      <td>0.651307</td>\n",
       "      <td>0.902682</td>\n",
       "      <td>0.897176</td>\n",
       "      <td>0.896035</td>\n",
       "      <td>0.898442</td>\n",
       "      <td>20.0</td>\n",
       "      <td>1.0</td>\n",
       "      <td>1.0</td>\n",
       "      <td>45.333333</td>\n",
       "      <td>2.0</td>\n",
       "      <td>1.0</td>\n",
       "      <td>5.0</td>\n",
       "      <td>64.0</td>\n",
       "      <td>12.0</td>\n",
       "    </tr>\n",
       "    <tr>\n",
       "      <th rowspan=\"3\" valign=\"top\">0.2</th>\n",
       "      <th>0.0001</th>\n",
       "      <td>0.676918</td>\n",
       "      <td>0.649042</td>\n",
       "      <td>0.647964</td>\n",
       "      <td>0.650969</td>\n",
       "      <td>0.899358</td>\n",
       "      <td>0.892809</td>\n",
       "      <td>0.894919</td>\n",
       "      <td>0.891026</td>\n",
       "      <td>20.0</td>\n",
       "      <td>1.0</td>\n",
       "      <td>1.0</td>\n",
       "      <td>45.333333</td>\n",
       "      <td>2.0</td>\n",
       "      <td>1.0</td>\n",
       "      <td>5.0</td>\n",
       "      <td>64.0</td>\n",
       "      <td>16.0</td>\n",
       "    </tr>\n",
       "    <tr>\n",
       "      <th>0.0005</th>\n",
       "      <td>0.670270</td>\n",
       "      <td>0.648079</td>\n",
       "      <td>0.645940</td>\n",
       "      <td>0.653895</td>\n",
       "      <td>0.904929</td>\n",
       "      <td>0.899520</td>\n",
       "      <td>0.898469</td>\n",
       "      <td>0.900642</td>\n",
       "      <td>20.0</td>\n",
       "      <td>1.0</td>\n",
       "      <td>1.0</td>\n",
       "      <td>45.333333</td>\n",
       "      <td>2.0</td>\n",
       "      <td>1.0</td>\n",
       "      <td>5.0</td>\n",
       "      <td>64.0</td>\n",
       "      <td>17.0</td>\n",
       "    </tr>\n",
       "    <tr>\n",
       "      <th>0.0010</th>\n",
       "      <td>0.673501</td>\n",
       "      <td>0.650811</td>\n",
       "      <td>0.648597</td>\n",
       "      <td>0.656133</td>\n",
       "      <td>0.900571</td>\n",
       "      <td>0.894834</td>\n",
       "      <td>0.894081</td>\n",
       "      <td>0.895650</td>\n",
       "      <td>20.0</td>\n",
       "      <td>1.0</td>\n",
       "      <td>1.0</td>\n",
       "      <td>45.333333</td>\n",
       "      <td>2.0</td>\n",
       "      <td>1.0</td>\n",
       "      <td>5.0</td>\n",
       "      <td>64.0</td>\n",
       "      <td>15.0</td>\n",
       "    </tr>\n",
       "  </tbody>\n",
       "</table>\n",
       "</div>"
      ],
      "text/plain": [
       "                                       accuracy        f1  precision  \\\n",
       "hidden_dim dropout_rate learning_rate                                  \n",
       "200        0.1          0.0001         0.677105  0.650745   0.648948   \n",
       "                        0.0005         0.671016  0.647986   0.645911   \n",
       "                        0.0010         0.673377  0.652042   0.650006   \n",
       "           0.2          0.0001         0.677477  0.651283   0.649517   \n",
       "                        0.0005         0.671637  0.648241   0.646128   \n",
       "                        0.0010         0.672134  0.652710   0.650888   \n",
       "300        0.1          0.0001         0.664119  0.636858   0.635264   \n",
       "                        0.0005         0.669835  0.647801   0.645646   \n",
       "                        0.0010         0.667412  0.645366   0.643323   \n",
       "           0.2          0.0001         0.664492  0.636366   0.634934   \n",
       "                        0.0005         0.669338  0.645836   0.643718   \n",
       "                        0.0010         0.671761  0.651067   0.649010   \n",
       "384        0.1          0.0001         0.677788  0.649331   0.648105   \n",
       "                        0.0005         0.672010  0.651207   0.649180   \n",
       "                        0.0010         0.667971  0.645635   0.643529   \n",
       "           0.2          0.0001         0.676918  0.649042   0.647964   \n",
       "                        0.0005         0.670270  0.648079   0.645940   \n",
       "                        0.0010         0.673501  0.650811   0.648597   \n",
       "\n",
       "                                         recall  valid_accuracy  valid_f1  \\\n",
       "hidden_dim dropout_rate learning_rate                                       \n",
       "200        0.1          0.0001         0.653532        0.897426  0.890720   \n",
       "                        0.0005         0.653197        0.906277  0.901047   \n",
       "                        0.0010         0.658745        0.901829  0.896167   \n",
       "           0.2          0.0001         0.654147        0.897021  0.890259   \n",
       "                        0.0005         0.653183        0.907445  0.902202   \n",
       "                        0.0010         0.660865        0.902098  0.896745   \n",
       "300        0.1          0.0001         0.639527        0.901604  0.895242   \n",
       "                        0.0005         0.653683        0.906771  0.901563   \n",
       "                        0.0010         0.651287        0.902772  0.897040   \n",
       "           0.2          0.0001         0.638583        0.900885  0.894554   \n",
       "                        0.0005         0.650676        0.905693  0.900239   \n",
       "                        0.0010         0.658035        0.902772  0.897280   \n",
       "384        0.1          0.0001         0.650941        0.900616  0.894090   \n",
       "                        0.0005         0.658104        0.904974  0.899703   \n",
       "                        0.0010         0.651307        0.902682  0.897176   \n",
       "           0.2          0.0001         0.650969        0.899358  0.892809   \n",
       "                        0.0005         0.653895        0.904929  0.899520   \n",
       "                        0.0010         0.656133        0.900571  0.894834   \n",
       "\n",
       "                                       valid_precision  valid_recall     k  \\\n",
       "hidden_dim dropout_rate learning_rate                                        \n",
       "200        0.1          0.0001                0.892928      0.888763  20.0   \n",
       "                        0.0005                0.899652      0.902614  20.0   \n",
       "                        0.0010                0.895501      0.897051  20.0   \n",
       "           0.2          0.0001                0.892616      0.888233  20.0   \n",
       "                        0.0005                0.901053      0.903444  20.0   \n",
       "                        0.0010                0.895024      0.898785  20.0   \n",
       "300        0.1          0.0001                0.897181      0.893520  20.0   \n",
       "                        0.0005                0.900146      0.903126  20.0   \n",
       "                        0.0010                0.896767      0.897383  20.0   \n",
       "           0.2          0.0001                0.896143      0.893097  20.0   \n",
       "                        0.0005                0.899500      0.901010  20.0   \n",
       "                        0.0010                0.896220      0.898583  20.0   \n",
       "384        0.1          0.0001                0.896409      0.892020  20.0   \n",
       "                        0.0005                0.898179      0.901403  20.0   \n",
       "                        0.0010                0.896035      0.898442  20.0   \n",
       "           0.2          0.0001                0.894919      0.891026  20.0   \n",
       "                        0.0005                0.898469      0.900642  20.0   \n",
       "                        0.0010                0.894081      0.895650  20.0   \n",
       "\n",
       "                                       num_layers  bidirectional       seed  \\\n",
       "hidden_dim dropout_rate learning_rate                                         \n",
       "200        0.1          0.0001                1.0            1.0  45.333333   \n",
       "                        0.0005                1.0            1.0  45.333333   \n",
       "                        0.0010                1.0            1.0  45.333333   \n",
       "           0.2          0.0001                1.0            1.0  45.333333   \n",
       "                        0.0005                1.0            1.0  45.333333   \n",
       "                        0.0010                1.0            1.0  45.333333   \n",
       "300        0.1          0.0001                1.0            1.0  45.333333   \n",
       "                        0.0005                1.0            1.0  45.333333   \n",
       "                        0.0010                1.0            1.0  45.333333   \n",
       "           0.2          0.0001                1.0            1.0  45.333333   \n",
       "                        0.0005                1.0            1.0  45.333333   \n",
       "                        0.0010                1.0            1.0  45.333333   \n",
       "384        0.1          0.0001                1.0            1.0  45.333333   \n",
       "                        0.0005                1.0            1.0  45.333333   \n",
       "                        0.0010                1.0            1.0  45.333333   \n",
       "           0.2          0.0001                1.0            1.0  45.333333   \n",
       "                        0.0005                1.0            1.0  45.333333   \n",
       "                        0.0010                1.0            1.0  45.333333   \n",
       "\n",
       "                                       gamma  k_fold  n_splits  batch_size  \\\n",
       "hidden_dim dropout_rate learning_rate                                        \n",
       "200        0.1          0.0001           2.0     1.0       5.0        64.0   \n",
       "                        0.0005           2.0     1.0       5.0        64.0   \n",
       "                        0.0010           2.0     1.0       5.0        64.0   \n",
       "           0.2          0.0001           2.0     1.0       5.0        64.0   \n",
       "                        0.0005           2.0     1.0       5.0        64.0   \n",
       "                        0.0010           2.0     1.0       5.0        64.0   \n",
       "300        0.1          0.0001           2.0     1.0       5.0        64.0   \n",
       "                        0.0005           2.0     1.0       5.0        64.0   \n",
       "                        0.0010           2.0     1.0       5.0        64.0   \n",
       "           0.2          0.0001           2.0     1.0       5.0        64.0   \n",
       "                        0.0005           2.0     1.0       5.0        64.0   \n",
       "                        0.0010           2.0     1.0       5.0        64.0   \n",
       "384        0.1          0.0001           2.0     1.0       5.0        64.0   \n",
       "                        0.0005           2.0     1.0       5.0        64.0   \n",
       "                        0.0010           2.0     1.0       5.0        64.0   \n",
       "           0.2          0.0001           2.0     1.0       5.0        64.0   \n",
       "                        0.0005           2.0     1.0       5.0        64.0   \n",
       "                        0.0010           2.0     1.0       5.0        64.0   \n",
       "\n",
       "                                       model_id  \n",
       "hidden_dim dropout_rate learning_rate            \n",
       "200        0.1          0.0001              1.0  \n",
       "                        0.0005              2.0  \n",
       "                        0.0010              0.0  \n",
       "           0.2          0.0001              4.0  \n",
       "                        0.0005              5.0  \n",
       "                        0.0010              3.0  \n",
       "300        0.1          0.0001              7.0  \n",
       "                        0.0005              8.0  \n",
       "                        0.0010              6.0  \n",
       "           0.2          0.0001             10.0  \n",
       "                        0.0005             11.0  \n",
       "                        0.0010              9.0  \n",
       "384        0.1          0.0001             13.0  \n",
       "                        0.0005             14.0  \n",
       "                        0.0010             12.0  \n",
       "           0.2          0.0001             16.0  \n",
       "                        0.0005             17.0  \n",
       "                        0.0010             15.0  "
      ]
     },
     "execution_count": 32,
     "metadata": {},
     "output_type": "execute_result"
    }
   ],
   "source": [
    "bilstm_history_20.groupby([\"hidden_dim\", \"dropout_rate\", \"learning_rate\"]).mean()"
   ]
  },
  {
   "cell_type": "code",
   "execution_count": 33,
   "metadata": {},
   "outputs": [
    {
     "data": {
      "text/html": [
       "<div>\n",
       "<style scoped>\n",
       "    .dataframe tbody tr th:only-of-type {\n",
       "        vertical-align: middle;\n",
       "    }\n",
       "\n",
       "    .dataframe tbody tr th {\n",
       "        vertical-align: top;\n",
       "    }\n",
       "\n",
       "    .dataframe thead th {\n",
       "        text-align: right;\n",
       "    }\n",
       "</style>\n",
       "<table border=\"1\" class=\"dataframe\">\n",
       "  <thead>\n",
       "    <tr style=\"text-align: right;\">\n",
       "      <th></th>\n",
       "      <th>loss</th>\n",
       "      <th>accuracy</th>\n",
       "      <th>f1</th>\n",
       "      <th>f1_scores</th>\n",
       "      <th>precision</th>\n",
       "      <th>precision_scores</th>\n",
       "      <th>recall</th>\n",
       "      <th>recall_scores</th>\n",
       "      <th>valid_loss</th>\n",
       "      <th>valid_accuracy</th>\n",
       "      <th>...</th>\n",
       "      <th>bidirectional</th>\n",
       "      <th>hidden_dim</th>\n",
       "      <th>dropout_rate</th>\n",
       "      <th>learning_rate</th>\n",
       "      <th>seed</th>\n",
       "      <th>loss_function</th>\n",
       "      <th>gamma</th>\n",
       "      <th>k_fold</th>\n",
       "      <th>n_splits</th>\n",
       "      <th>batch_size</th>\n",
       "    </tr>\n",
       "  </thead>\n",
       "  <tbody>\n",
       "    <tr>\n",
       "      <th>0</th>\n",
       "      <td>None</td>\n",
       "      <td>0.673998</td>\n",
       "      <td>0.652856</td>\n",
       "      <td>[0.7385259381073405, 0.5671863400148479]</td>\n",
       "      <td>0.650604</td>\n",
       "      <td>[0.7716338644173696, 0.5295748613678374]</td>\n",
       "      <td>0.659345</td>\n",
       "      <td>[0.7081422018348624, 0.6105487480021311]</td>\n",
       "      <td>None</td>\n",
       "      <td>0.907265</td>\n",
       "      <td>...</td>\n",
       "      <td>True</td>\n",
       "      <td>200</td>\n",
       "      <td>0.2</td>\n",
       "      <td>0.0005</td>\n",
       "      <td>1</td>\n",
       "      <td>focal</td>\n",
       "      <td>2</td>\n",
       "      <td>True</td>\n",
       "      <td>5</td>\n",
       "      <td>64</td>\n",
       "    </tr>\n",
       "    <tr>\n",
       "      <th>0</th>\n",
       "      <td>None</td>\n",
       "      <td>0.666356</td>\n",
       "      <td>0.640259</td>\n",
       "      <td>[0.7371512481644641, 0.5433673469387755]</td>\n",
       "      <td>0.638431</td>\n",
       "      <td>[0.7555689343768814, 0.5212922173274597]</td>\n",
       "      <td>0.643502</td>\n",
       "      <td>[0.7196100917431193, 0.567394778902504]</td>\n",
       "      <td>None</td>\n",
       "      <td>0.906996</td>\n",
       "      <td>...</td>\n",
       "      <td>True</td>\n",
       "      <td>200</td>\n",
       "      <td>0.2</td>\n",
       "      <td>0.0005</td>\n",
       "      <td>12</td>\n",
       "      <td>focal</td>\n",
       "      <td>2</td>\n",
       "      <td>True</td>\n",
       "      <td>5</td>\n",
       "      <td>64</td>\n",
       "    </tr>\n",
       "    <tr>\n",
       "      <th>0</th>\n",
       "      <td>None</td>\n",
       "      <td>0.674557</td>\n",
       "      <td>0.651606</td>\n",
       "      <td>[0.741026401661228, 0.5621865596790371]</td>\n",
       "      <td>0.649349</td>\n",
       "      <td>[0.7676705593116164, 0.5310279488394126]</td>\n",
       "      <td>0.656700</td>\n",
       "      <td>[0.7161697247706422, 0.597229621736814]</td>\n",
       "      <td>None</td>\n",
       "      <td>0.908074</td>\n",
       "      <td>...</td>\n",
       "      <td>True</td>\n",
       "      <td>200</td>\n",
       "      <td>0.2</td>\n",
       "      <td>0.0005</td>\n",
       "      <td>123</td>\n",
       "      <td>focal</td>\n",
       "      <td>2</td>\n",
       "      <td>True</td>\n",
       "      <td>5</td>\n",
       "      <td>64</td>\n",
       "    </tr>\n",
       "  </tbody>\n",
       "</table>\n",
       "<p>3 rows × 27 columns</p>\n",
       "</div>"
      ],
      "text/plain": [
       "   loss  accuracy        f1                                 f1_scores  \\\n",
       "0  None  0.673998  0.652856  [0.7385259381073405, 0.5671863400148479]   \n",
       "0  None  0.666356  0.640259  [0.7371512481644641, 0.5433673469387755]   \n",
       "0  None  0.674557  0.651606   [0.741026401661228, 0.5621865596790371]   \n",
       "\n",
       "   precision                          precision_scores    recall  \\\n",
       "0   0.650604  [0.7716338644173696, 0.5295748613678374]  0.659345   \n",
       "0   0.638431  [0.7555689343768814, 0.5212922173274597]  0.643502   \n",
       "0   0.649349  [0.7676705593116164, 0.5310279488394126]  0.656700   \n",
       "\n",
       "                              recall_scores valid_loss  valid_accuracy  ...  \\\n",
       "0  [0.7081422018348624, 0.6105487480021311]       None        0.907265  ...   \n",
       "0   [0.7196100917431193, 0.567394778902504]       None        0.906996  ...   \n",
       "0   [0.7161697247706422, 0.597229621736814]       None        0.908074  ...   \n",
       "\n",
       "   bidirectional hidden_dim  dropout_rate learning_rate  seed loss_function  \\\n",
       "0           True        200           0.2        0.0005     1         focal   \n",
       "0           True        200           0.2        0.0005    12         focal   \n",
       "0           True        200           0.2        0.0005   123         focal   \n",
       "\n",
       "   gamma  k_fold  n_splits  batch_size  \n",
       "0      2    True         5          64  \n",
       "0      2    True         5          64  \n",
       "0      2    True         5          64  \n",
       "\n",
       "[3 rows x 27 columns]"
      ]
     },
     "execution_count": 33,
     "metadata": {},
     "output_type": "execute_result"
    }
   ],
   "source": [
    "best_bilstm_history_20"
   ]
  },
  {
   "cell_type": "code",
   "execution_count": 34,
   "metadata": {},
   "outputs": [
    {
     "data": {
      "text/plain": [
       "0.6482406390942822"
      ]
     },
     "execution_count": 34,
     "metadata": {},
     "output_type": "execute_result"
    }
   ],
   "source": [
    "best_bilstm_history_20[\"f1\"].mean()"
   ]
  },
  {
   "cell_type": "code",
   "execution_count": 35,
   "metadata": {},
   "outputs": [
    {
     "data": {
      "text/plain": [
       "0.6461280642734295"
      ]
     },
     "execution_count": 35,
     "metadata": {},
     "output_type": "execute_result"
    }
   ],
   "source": [
    "best_bilstm_history_20[\"precision\"].mean()"
   ]
  },
  {
   "cell_type": "code",
   "execution_count": 36,
   "metadata": {},
   "outputs": [
    {
     "data": {
      "text/plain": [
       "0.6531825278316788"
      ]
     },
     "execution_count": 36,
     "metadata": {},
     "output_type": "execute_result"
    }
   ],
   "source": [
    "best_bilstm_history_20[\"recall\"].mean()"
   ]
  },
  {
   "cell_type": "code",
   "execution_count": 37,
   "metadata": {
    "scrolled": true
   },
   "outputs": [
    {
     "data": {
      "text/plain": [
       "array([0.7389012 , 0.55758008])"
      ]
     },
     "execution_count": 37,
     "metadata": {},
     "output_type": "execute_result"
    }
   ],
   "source": [
    "np.stack(best_bilstm_history_20[\"f1_scores\"]).mean(axis=0)"
   ]
  },
  {
   "cell_type": "code",
   "execution_count": 38,
   "metadata": {},
   "outputs": [
    {
     "data": {
      "text/plain": [
       "array([0.76495779, 0.52729834])"
      ]
     },
     "execution_count": 38,
     "metadata": {},
     "output_type": "execute_result"
    }
   ],
   "source": [
    "np.stack(best_bilstm_history_20[\"precision_scores\"]).mean(axis=0)"
   ]
  },
  {
   "cell_type": "code",
   "execution_count": 39,
   "metadata": {},
   "outputs": [
    {
     "data": {
      "text/plain": [
       "array([0.71464067, 0.59172438])"
      ]
     },
     "execution_count": 39,
     "metadata": {},
     "output_type": "execute_result"
    }
   ],
   "source": [
    "np.stack(best_bilstm_history_20[\"recall_scores\"]).mean(axis=0)"
   ]
  },
  {
   "cell_type": "markdown",
   "metadata": {
    "tags": []
   },
   "source": [
    "## history_length=35"
   ]
  },
  {
   "cell_type": "code",
   "execution_count": 40,
   "metadata": {},
   "outputs": [],
   "source": [
    "size = 35"
   ]
  },
  {
   "cell_type": "code",
   "execution_count": 41,
   "metadata": {},
   "outputs": [
    {
     "data": {
      "application/vnd.jupyter.widget-view+json": {
       "model_id": "5f915cc4118b4f2daa2bd09d0e1b6758",
       "version_major": 2,
       "version_minor": 0
      },
      "text/plain": [
       "  0%|          | 0/1 [00:00<?, ?it/s]"
      ]
     },
     "metadata": {},
     "output_type": "display_data"
    },
    {
     "name": "stdout",
     "output_type": "stream",
     "text": [
      "[INFO] Concatenating the embeddings to the dataframe...\n",
      "[INFO] - columns beginning with 'e' denote the full embddings.\n",
      "[INFO] Adding time feature columns into dataframe in `.df`.\n",
      "[INFO] Adding 'time_encoding' feature...\n",
      "[INFO] Adding 'time_diff' feature...\n",
      "[INFO] Adding 'timeline_index' feature...\n",
      "[INFO] Padding ids and storing in `.df_padded` and `.array_padded` attributes.\n"
     ]
    },
    {
     "data": {
      "application/vnd.jupyter.widget-view+json": {
       "model_id": "d2ce15036baf43f8acf395a60ccd568a",
       "version_major": 2,
       "version_minor": 0
      },
      "text/plain": [
       "  0%|          | 0/5568 [00:00<?, ?it/s]"
      ]
     },
     "metadata": {},
     "output_type": "display_data"
    },
    {
     "data": {
      "application/vnd.jupyter.widget-view+json": {
       "model_id": "bb42c1487a144367abe4357b3e9e4ad8",
       "version_major": 2,
       "version_minor": 0
      },
      "text/plain": [
       "  0%|          | 0/3 [00:00<?, ?it/s]"
      ]
     },
     "metadata": {},
     "output_type": "display_data"
    },
    {
     "data": {
      "application/vnd.jupyter.widget-view+json": {
       "model_id": "642e66349f7b46a79f7f321a0f38d371",
       "version_major": 2,
       "version_minor": 0
      },
      "text/plain": [
       "  0%|          | 0/2 [00:00<?, ?it/s]"
      ]
     },
     "metadata": {},
     "output_type": "display_data"
    },
    {
     "data": {
      "application/vnd.jupyter.widget-view+json": {
       "model_id": "a26663b45fca4f639f2acedd28adf81b",
       "version_major": 2,
       "version_minor": 0
      },
      "text/plain": [
       "  0%|          | 0/3 [00:00<?, ?it/s]"
      ]
     },
     "metadata": {},
     "output_type": "display_data"
    },
    {
     "data": {
      "application/vnd.jupyter.widget-view+json": {
       "model_id": "2c85c37f9dc745ecbd8d0471ae0b7437",
       "version_major": 2,
       "version_minor": 0
      },
      "text/plain": [
       "  0%|          | 0/3 [00:00<?, ?it/s]"
      ]
     },
     "metadata": {},
     "output_type": "display_data"
    },
    {
     "data": {
      "application/vnd.jupyter.widget-view+json": {
       "model_id": "00efc3d26f6e4053ad790f6b5e215f36",
       "version_major": 2,
       "version_minor": 0
      },
      "text/plain": [
       "  0%|          | 0/2 [00:00<?, ?it/s]"
      ]
     },
     "metadata": {},
     "output_type": "display_data"
    },
    {
     "data": {
      "application/vnd.jupyter.widget-view+json": {
       "model_id": "8a4869f9584e4f3b9085d6d66e88651b",
       "version_major": 2,
       "version_minor": 0
      },
      "text/plain": [
       "  0%|          | 0/3 [00:00<?, ?it/s]"
      ]
     },
     "metadata": {},
     "output_type": "display_data"
    },
    {
     "data": {
      "application/vnd.jupyter.widget-view+json": {
       "model_id": "b65aec2536a546889597ccf0fdbb17a1",
       "version_major": 2,
       "version_minor": 0
      },
      "text/plain": [
       "  0%|          | 0/3 [00:00<?, ?it/s]"
      ]
     },
     "metadata": {},
     "output_type": "display_data"
    },
    {
     "data": {
      "application/vnd.jupyter.widget-view+json": {
       "model_id": "5bdf8e1225054a21a9cdc4efa5e466b2",
       "version_major": 2,
       "version_minor": 0
      },
      "text/plain": [
       "  0%|          | 0/2 [00:00<?, ?it/s]"
      ]
     },
     "metadata": {},
     "output_type": "display_data"
    },
    {
     "data": {
      "application/vnd.jupyter.widget-view+json": {
       "model_id": "8b48ff62cfc7423db176ca4873efa9bb",
       "version_major": 2,
       "version_minor": 0
      },
      "text/plain": [
       "  0%|          | 0/3 [00:00<?, ?it/s]"
      ]
     },
     "metadata": {},
     "output_type": "display_data"
    },
    {
     "data": {
      "application/vnd.jupyter.widget-view+json": {
       "model_id": "6c120e7b59d641cc9a946f971a30a445",
       "version_major": 2,
       "version_minor": 0
      },
      "text/plain": [
       "  0%|          | 0/3 [00:00<?, ?it/s]"
      ]
     },
     "metadata": {},
     "output_type": "display_data"
    },
    {
     "name": "stdout",
     "output_type": "stream",
     "text": [
      "saving results dataframe to CSV for this hyperparameter search in rumours_output/lstm_history_35_focal_2.csv\n",
      "saving the best model results dataframe to CSV for this hyperparameter search in rumours_output/lstm_history_35_focal_2_best_model.csv\n"
     ]
    }
   ],
   "source": [
    "bilstm_history_35, best_bilstm_history_35, _, __ = lstm_hyperparameter_search(\n",
    "    history_lengths=[size],\n",
    "    results_output=f\"{output_dir}/lstm_history_{size}_focal_{gamma}.csv\",\n",
    "    **kwargs,\n",
    ")"
   ]
  },
  {
   "cell_type": "code",
   "execution_count": 42,
   "metadata": {},
   "outputs": [
    {
     "name": "stderr",
     "output_type": "stream",
     "text": [
      "/tmp/ipykernel_1974987/1307650554.py:1: FutureWarning: The default value of numeric_only in DataFrameGroupBy.mean is deprecated. In a future version, numeric_only will default to False. Either specify numeric_only or select only columns which should be valid for the function.\n",
      "  bilstm_history_35.groupby([\"hidden_dim\", \"dropout_rate\", \"learning_rate\"]).mean()\n"
     ]
    },
    {
     "data": {
      "text/html": [
       "<div>\n",
       "<style scoped>\n",
       "    .dataframe tbody tr th:only-of-type {\n",
       "        vertical-align: middle;\n",
       "    }\n",
       "\n",
       "    .dataframe tbody tr th {\n",
       "        vertical-align: top;\n",
       "    }\n",
       "\n",
       "    .dataframe thead th {\n",
       "        text-align: right;\n",
       "    }\n",
       "</style>\n",
       "<table border=\"1\" class=\"dataframe\">\n",
       "  <thead>\n",
       "    <tr style=\"text-align: right;\">\n",
       "      <th></th>\n",
       "      <th></th>\n",
       "      <th></th>\n",
       "      <th>accuracy</th>\n",
       "      <th>f1</th>\n",
       "      <th>precision</th>\n",
       "      <th>recall</th>\n",
       "      <th>valid_accuracy</th>\n",
       "      <th>valid_f1</th>\n",
       "      <th>valid_precision</th>\n",
       "      <th>valid_recall</th>\n",
       "      <th>k</th>\n",
       "      <th>num_layers</th>\n",
       "      <th>bidirectional</th>\n",
       "      <th>seed</th>\n",
       "      <th>gamma</th>\n",
       "      <th>k_fold</th>\n",
       "      <th>n_splits</th>\n",
       "      <th>batch_size</th>\n",
       "      <th>model_id</th>\n",
       "    </tr>\n",
       "    <tr>\n",
       "      <th>hidden_dim</th>\n",
       "      <th>dropout_rate</th>\n",
       "      <th>learning_rate</th>\n",
       "      <th></th>\n",
       "      <th></th>\n",
       "      <th></th>\n",
       "      <th></th>\n",
       "      <th></th>\n",
       "      <th></th>\n",
       "      <th></th>\n",
       "      <th></th>\n",
       "      <th></th>\n",
       "      <th></th>\n",
       "      <th></th>\n",
       "      <th></th>\n",
       "      <th></th>\n",
       "      <th></th>\n",
       "      <th></th>\n",
       "      <th></th>\n",
       "      <th></th>\n",
       "    </tr>\n",
       "  </thead>\n",
       "  <tbody>\n",
       "    <tr>\n",
       "      <th rowspan=\"6\" valign=\"top\">200</th>\n",
       "      <th rowspan=\"3\" valign=\"top\">0.1</th>\n",
       "      <th>0.0001</th>\n",
       "      <td>0.682634</td>\n",
       "      <td>0.646920</td>\n",
       "      <td>0.649229</td>\n",
       "      <td>0.645523</td>\n",
       "      <td>0.904165</td>\n",
       "      <td>0.897754</td>\n",
       "      <td>0.900700</td>\n",
       "      <td>0.895227</td>\n",
       "      <td>35.0</td>\n",
       "      <td>1.0</td>\n",
       "      <td>1.0</td>\n",
       "      <td>45.333333</td>\n",
       "      <td>2.0</td>\n",
       "      <td>1.0</td>\n",
       "      <td>5.0</td>\n",
       "      <td>64.0</td>\n",
       "      <td>1.0</td>\n",
       "    </tr>\n",
       "    <tr>\n",
       "      <th>0.0005</th>\n",
       "      <td>0.677167</td>\n",
       "      <td>0.646615</td>\n",
       "      <td>0.646126</td>\n",
       "      <td>0.647264</td>\n",
       "      <td>0.914499</td>\n",
       "      <td>0.909192</td>\n",
       "      <td>0.910104</td>\n",
       "      <td>0.908352</td>\n",
       "      <td>35.0</td>\n",
       "      <td>1.0</td>\n",
       "      <td>1.0</td>\n",
       "      <td>45.333333</td>\n",
       "      <td>2.0</td>\n",
       "      <td>1.0</td>\n",
       "      <td>5.0</td>\n",
       "      <td>64.0</td>\n",
       "      <td>2.0</td>\n",
       "    </tr>\n",
       "    <tr>\n",
       "      <th>0.0010</th>\n",
       "      <td>0.674060</td>\n",
       "      <td>0.648593</td>\n",
       "      <td>0.646627</td>\n",
       "      <td>0.652052</td>\n",
       "      <td>0.909916</td>\n",
       "      <td>0.904812</td>\n",
       "      <td>0.903654</td>\n",
       "      <td>0.906075</td>\n",
       "      <td>35.0</td>\n",
       "      <td>1.0</td>\n",
       "      <td>1.0</td>\n",
       "      <td>45.333333</td>\n",
       "      <td>2.0</td>\n",
       "      <td>1.0</td>\n",
       "      <td>5.0</td>\n",
       "      <td>64.0</td>\n",
       "      <td>0.0</td>\n",
       "    </tr>\n",
       "    <tr>\n",
       "      <th rowspan=\"3\" valign=\"top\">0.2</th>\n",
       "      <th>0.0001</th>\n",
       "      <td>0.682634</td>\n",
       "      <td>0.647981</td>\n",
       "      <td>0.649722</td>\n",
       "      <td>0.646835</td>\n",
       "      <td>0.903446</td>\n",
       "      <td>0.897043</td>\n",
       "      <td>0.899737</td>\n",
       "      <td>0.894737</td>\n",
       "      <td>35.0</td>\n",
       "      <td>1.0</td>\n",
       "      <td>1.0</td>\n",
       "      <td>45.333333</td>\n",
       "      <td>2.0</td>\n",
       "      <td>1.0</td>\n",
       "      <td>5.0</td>\n",
       "      <td>64.0</td>\n",
       "      <td>4.0</td>\n",
       "    </tr>\n",
       "    <tr>\n",
       "      <th>0.0005</th>\n",
       "      <td>0.679341</td>\n",
       "      <td>0.651501</td>\n",
       "      <td>0.650230</td>\n",
       "      <td>0.653489</td>\n",
       "      <td>0.914948</td>\n",
       "      <td>0.910045</td>\n",
       "      <td>0.909271</td>\n",
       "      <td>0.910888</td>\n",
       "      <td>35.0</td>\n",
       "      <td>1.0</td>\n",
       "      <td>1.0</td>\n",
       "      <td>45.333333</td>\n",
       "      <td>2.0</td>\n",
       "      <td>1.0</td>\n",
       "      <td>5.0</td>\n",
       "      <td>64.0</td>\n",
       "      <td>5.0</td>\n",
       "    </tr>\n",
       "    <tr>\n",
       "      <th>0.0010</th>\n",
       "      <td>0.676235</td>\n",
       "      <td>0.651370</td>\n",
       "      <td>0.649841</td>\n",
       "      <td>0.655406</td>\n",
       "      <td>0.912073</td>\n",
       "      <td>0.907025</td>\n",
       "      <td>0.906234</td>\n",
       "      <td>0.907976</td>\n",
       "      <td>35.0</td>\n",
       "      <td>1.0</td>\n",
       "      <td>1.0</td>\n",
       "      <td>45.333333</td>\n",
       "      <td>2.0</td>\n",
       "      <td>1.0</td>\n",
       "      <td>5.0</td>\n",
       "      <td>64.0</td>\n",
       "      <td>3.0</td>\n",
       "    </tr>\n",
       "    <tr>\n",
       "      <th rowspan=\"6\" valign=\"top\">300</th>\n",
       "      <th rowspan=\"3\" valign=\"top\">0.1</th>\n",
       "      <th>0.0001</th>\n",
       "      <td>0.680398</td>\n",
       "      <td>0.645231</td>\n",
       "      <td>0.646941</td>\n",
       "      <td>0.643967</td>\n",
       "      <td>0.902907</td>\n",
       "      <td>0.896721</td>\n",
       "      <td>0.898282</td>\n",
       "      <td>0.895297</td>\n",
       "      <td>35.0</td>\n",
       "      <td>1.0</td>\n",
       "      <td>1.0</td>\n",
       "      <td>45.333333</td>\n",
       "      <td>2.0</td>\n",
       "      <td>1.0</td>\n",
       "      <td>5.0</td>\n",
       "      <td>64.0</td>\n",
       "      <td>7.0</td>\n",
       "    </tr>\n",
       "    <tr>\n",
       "      <th>0.0005</th>\n",
       "      <td>0.676546</td>\n",
       "      <td>0.648278</td>\n",
       "      <td>0.647026</td>\n",
       "      <td>0.650026</td>\n",
       "      <td>0.914723</td>\n",
       "      <td>0.909631</td>\n",
       "      <td>0.909590</td>\n",
       "      <td>0.909688</td>\n",
       "      <td>35.0</td>\n",
       "      <td>1.0</td>\n",
       "      <td>1.0</td>\n",
       "      <td>45.333333</td>\n",
       "      <td>2.0</td>\n",
       "      <td>1.0</td>\n",
       "      <td>5.0</td>\n",
       "      <td>64.0</td>\n",
       "      <td>8.0</td>\n",
       "    </tr>\n",
       "    <tr>\n",
       "      <th>0.0010</th>\n",
       "      <td>0.676794</td>\n",
       "      <td>0.652131</td>\n",
       "      <td>0.650176</td>\n",
       "      <td>0.656205</td>\n",
       "      <td>0.908658</td>\n",
       "      <td>0.903348</td>\n",
       "      <td>0.902713</td>\n",
       "      <td>0.904017</td>\n",
       "      <td>35.0</td>\n",
       "      <td>1.0</td>\n",
       "      <td>1.0</td>\n",
       "      <td>45.333333</td>\n",
       "      <td>2.0</td>\n",
       "      <td>1.0</td>\n",
       "      <td>5.0</td>\n",
       "      <td>64.0</td>\n",
       "      <td>6.0</td>\n",
       "    </tr>\n",
       "    <tr>\n",
       "      <th rowspan=\"3\" valign=\"top\">0.2</th>\n",
       "      <th>0.0001</th>\n",
       "      <td>0.680398</td>\n",
       "      <td>0.644844</td>\n",
       "      <td>0.646736</td>\n",
       "      <td>0.643433</td>\n",
       "      <td>0.902548</td>\n",
       "      <td>0.896245</td>\n",
       "      <td>0.898197</td>\n",
       "      <td>0.894486</td>\n",
       "      <td>35.0</td>\n",
       "      <td>1.0</td>\n",
       "      <td>1.0</td>\n",
       "      <td>45.333333</td>\n",
       "      <td>2.0</td>\n",
       "      <td>1.0</td>\n",
       "      <td>5.0</td>\n",
       "      <td>64.0</td>\n",
       "      <td>10.0</td>\n",
       "    </tr>\n",
       "    <tr>\n",
       "      <th>0.0005</th>\n",
       "      <td>0.678472</td>\n",
       "      <td>0.648248</td>\n",
       "      <td>0.647678</td>\n",
       "      <td>0.649047</td>\n",
       "      <td>0.914184</td>\n",
       "      <td>0.908857</td>\n",
       "      <td>0.909809</td>\n",
       "      <td>0.908053</td>\n",
       "      <td>35.0</td>\n",
       "      <td>1.0</td>\n",
       "      <td>1.0</td>\n",
       "      <td>45.333333</td>\n",
       "      <td>2.0</td>\n",
       "      <td>1.0</td>\n",
       "      <td>5.0</td>\n",
       "      <td>64.0</td>\n",
       "      <td>11.0</td>\n",
       "    </tr>\n",
       "    <tr>\n",
       "      <th>0.0010</th>\n",
       "      <td>0.664057</td>\n",
       "      <td>0.642958</td>\n",
       "      <td>0.641035</td>\n",
       "      <td>0.649650</td>\n",
       "      <td>0.909287</td>\n",
       "      <td>0.904521</td>\n",
       "      <td>0.902028</td>\n",
       "      <td>0.907445</td>\n",
       "      <td>35.0</td>\n",
       "      <td>1.0</td>\n",
       "      <td>1.0</td>\n",
       "      <td>45.333333</td>\n",
       "      <td>2.0</td>\n",
       "      <td>1.0</td>\n",
       "      <td>5.0</td>\n",
       "      <td>64.0</td>\n",
       "      <td>9.0</td>\n",
       "    </tr>\n",
       "    <tr>\n",
       "      <th rowspan=\"6\" valign=\"top\">384</th>\n",
       "      <th rowspan=\"3\" valign=\"top\">0.1</th>\n",
       "      <th>0.0001</th>\n",
       "      <td>0.678596</td>\n",
       "      <td>0.647373</td>\n",
       "      <td>0.647139</td>\n",
       "      <td>0.647666</td>\n",
       "      <td>0.905288</td>\n",
       "      <td>0.899541</td>\n",
       "      <td>0.899874</td>\n",
       "      <td>0.899235</td>\n",
       "      <td>35.0</td>\n",
       "      <td>1.0</td>\n",
       "      <td>1.0</td>\n",
       "      <td>45.333333</td>\n",
       "      <td>2.0</td>\n",
       "      <td>1.0</td>\n",
       "      <td>5.0</td>\n",
       "      <td>64.0</td>\n",
       "      <td>13.0</td>\n",
       "    </tr>\n",
       "    <tr>\n",
       "      <th>0.0005</th>\n",
       "      <td>0.680273</td>\n",
       "      <td>0.650986</td>\n",
       "      <td>0.650090</td>\n",
       "      <td>0.652155</td>\n",
       "      <td>0.915397</td>\n",
       "      <td>0.910083</td>\n",
       "      <td>0.911283</td>\n",
       "      <td>0.908965</td>\n",
       "      <td>35.0</td>\n",
       "      <td>1.0</td>\n",
       "      <td>1.0</td>\n",
       "      <td>45.333333</td>\n",
       "      <td>2.0</td>\n",
       "      <td>1.0</td>\n",
       "      <td>5.0</td>\n",
       "      <td>64.0</td>\n",
       "      <td>14.0</td>\n",
       "    </tr>\n",
       "    <tr>\n",
       "      <th>0.0010</th>\n",
       "      <td>0.673874</td>\n",
       "      <td>0.650197</td>\n",
       "      <td>0.648008</td>\n",
       "      <td>0.654821</td>\n",
       "      <td>0.904435</td>\n",
       "      <td>0.899330</td>\n",
       "      <td>0.897134</td>\n",
       "      <td>0.901850</td>\n",
       "      <td>35.0</td>\n",
       "      <td>1.0</td>\n",
       "      <td>1.0</td>\n",
       "      <td>45.333333</td>\n",
       "      <td>2.0</td>\n",
       "      <td>1.0</td>\n",
       "      <td>5.0</td>\n",
       "      <td>64.0</td>\n",
       "      <td>12.0</td>\n",
       "    </tr>\n",
       "    <tr>\n",
       "      <th rowspan=\"3\" valign=\"top\">0.2</th>\n",
       "      <th>0.0001</th>\n",
       "      <td>0.679031</td>\n",
       "      <td>0.647518</td>\n",
       "      <td>0.647414</td>\n",
       "      <td>0.647673</td>\n",
       "      <td>0.905243</td>\n",
       "      <td>0.899436</td>\n",
       "      <td>0.900006</td>\n",
       "      <td>0.898905</td>\n",
       "      <td>35.0</td>\n",
       "      <td>1.0</td>\n",
       "      <td>1.0</td>\n",
       "      <td>45.333333</td>\n",
       "      <td>2.0</td>\n",
       "      <td>1.0</td>\n",
       "      <td>5.0</td>\n",
       "      <td>64.0</td>\n",
       "      <td>16.0</td>\n",
       "    </tr>\n",
       "    <tr>\n",
       "      <th>0.0005</th>\n",
       "      <td>0.673812</td>\n",
       "      <td>0.645943</td>\n",
       "      <td>0.644646</td>\n",
       "      <td>0.648129</td>\n",
       "      <td>0.912567</td>\n",
       "      <td>0.907434</td>\n",
       "      <td>0.907050</td>\n",
       "      <td>0.907855</td>\n",
       "      <td>35.0</td>\n",
       "      <td>1.0</td>\n",
       "      <td>1.0</td>\n",
       "      <td>45.333333</td>\n",
       "      <td>2.0</td>\n",
       "      <td>1.0</td>\n",
       "      <td>5.0</td>\n",
       "      <td>64.0</td>\n",
       "      <td>17.0</td>\n",
       "    </tr>\n",
       "    <tr>\n",
       "      <th>0.0010</th>\n",
       "      <td>0.673812</td>\n",
       "      <td>0.650420</td>\n",
       "      <td>0.648252</td>\n",
       "      <td>0.655265</td>\n",
       "      <td>0.907939</td>\n",
       "      <td>0.902834</td>\n",
       "      <td>0.901343</td>\n",
       "      <td>0.904545</td>\n",
       "      <td>35.0</td>\n",
       "      <td>1.0</td>\n",
       "      <td>1.0</td>\n",
       "      <td>45.333333</td>\n",
       "      <td>2.0</td>\n",
       "      <td>1.0</td>\n",
       "      <td>5.0</td>\n",
       "      <td>64.0</td>\n",
       "      <td>15.0</td>\n",
       "    </tr>\n",
       "  </tbody>\n",
       "</table>\n",
       "</div>"
      ],
      "text/plain": [
       "                                       accuracy        f1  precision  \\\n",
       "hidden_dim dropout_rate learning_rate                                  \n",
       "200        0.1          0.0001         0.682634  0.646920   0.649229   \n",
       "                        0.0005         0.677167  0.646615   0.646126   \n",
       "                        0.0010         0.674060  0.648593   0.646627   \n",
       "           0.2          0.0001         0.682634  0.647981   0.649722   \n",
       "                        0.0005         0.679341  0.651501   0.650230   \n",
       "                        0.0010         0.676235  0.651370   0.649841   \n",
       "300        0.1          0.0001         0.680398  0.645231   0.646941   \n",
       "                        0.0005         0.676546  0.648278   0.647026   \n",
       "                        0.0010         0.676794  0.652131   0.650176   \n",
       "           0.2          0.0001         0.680398  0.644844   0.646736   \n",
       "                        0.0005         0.678472  0.648248   0.647678   \n",
       "                        0.0010         0.664057  0.642958   0.641035   \n",
       "384        0.1          0.0001         0.678596  0.647373   0.647139   \n",
       "                        0.0005         0.680273  0.650986   0.650090   \n",
       "                        0.0010         0.673874  0.650197   0.648008   \n",
       "           0.2          0.0001         0.679031  0.647518   0.647414   \n",
       "                        0.0005         0.673812  0.645943   0.644646   \n",
       "                        0.0010         0.673812  0.650420   0.648252   \n",
       "\n",
       "                                         recall  valid_accuracy  valid_f1  \\\n",
       "hidden_dim dropout_rate learning_rate                                       \n",
       "200        0.1          0.0001         0.645523        0.904165  0.897754   \n",
       "                        0.0005         0.647264        0.914499  0.909192   \n",
       "                        0.0010         0.652052        0.909916  0.904812   \n",
       "           0.2          0.0001         0.646835        0.903446  0.897043   \n",
       "                        0.0005         0.653489        0.914948  0.910045   \n",
       "                        0.0010         0.655406        0.912073  0.907025   \n",
       "300        0.1          0.0001         0.643967        0.902907  0.896721   \n",
       "                        0.0005         0.650026        0.914723  0.909631   \n",
       "                        0.0010         0.656205        0.908658  0.903348   \n",
       "           0.2          0.0001         0.643433        0.902548  0.896245   \n",
       "                        0.0005         0.649047        0.914184  0.908857   \n",
       "                        0.0010         0.649650        0.909287  0.904521   \n",
       "384        0.1          0.0001         0.647666        0.905288  0.899541   \n",
       "                        0.0005         0.652155        0.915397  0.910083   \n",
       "                        0.0010         0.654821        0.904435  0.899330   \n",
       "           0.2          0.0001         0.647673        0.905243  0.899436   \n",
       "                        0.0005         0.648129        0.912567  0.907434   \n",
       "                        0.0010         0.655265        0.907939  0.902834   \n",
       "\n",
       "                                       valid_precision  valid_recall     k  \\\n",
       "hidden_dim dropout_rate learning_rate                                        \n",
       "200        0.1          0.0001                0.900700      0.895227  35.0   \n",
       "                        0.0005                0.910104      0.908352  35.0   \n",
       "                        0.0010                0.903654      0.906075  35.0   \n",
       "           0.2          0.0001                0.899737      0.894737  35.0   \n",
       "                        0.0005                0.909271      0.910888  35.0   \n",
       "                        0.0010                0.906234      0.907976  35.0   \n",
       "300        0.1          0.0001                0.898282      0.895297  35.0   \n",
       "                        0.0005                0.909590      0.909688  35.0   \n",
       "                        0.0010                0.902713      0.904017  35.0   \n",
       "           0.2          0.0001                0.898197      0.894486  35.0   \n",
       "                        0.0005                0.909809      0.908053  35.0   \n",
       "                        0.0010                0.902028      0.907445  35.0   \n",
       "384        0.1          0.0001                0.899874      0.899235  35.0   \n",
       "                        0.0005                0.911283      0.908965  35.0   \n",
       "                        0.0010                0.897134      0.901850  35.0   \n",
       "           0.2          0.0001                0.900006      0.898905  35.0   \n",
       "                        0.0005                0.907050      0.907855  35.0   \n",
       "                        0.0010                0.901343      0.904545  35.0   \n",
       "\n",
       "                                       num_layers  bidirectional       seed  \\\n",
       "hidden_dim dropout_rate learning_rate                                         \n",
       "200        0.1          0.0001                1.0            1.0  45.333333   \n",
       "                        0.0005                1.0            1.0  45.333333   \n",
       "                        0.0010                1.0            1.0  45.333333   \n",
       "           0.2          0.0001                1.0            1.0  45.333333   \n",
       "                        0.0005                1.0            1.0  45.333333   \n",
       "                        0.0010                1.0            1.0  45.333333   \n",
       "300        0.1          0.0001                1.0            1.0  45.333333   \n",
       "                        0.0005                1.0            1.0  45.333333   \n",
       "                        0.0010                1.0            1.0  45.333333   \n",
       "           0.2          0.0001                1.0            1.0  45.333333   \n",
       "                        0.0005                1.0            1.0  45.333333   \n",
       "                        0.0010                1.0            1.0  45.333333   \n",
       "384        0.1          0.0001                1.0            1.0  45.333333   \n",
       "                        0.0005                1.0            1.0  45.333333   \n",
       "                        0.0010                1.0            1.0  45.333333   \n",
       "           0.2          0.0001                1.0            1.0  45.333333   \n",
       "                        0.0005                1.0            1.0  45.333333   \n",
       "                        0.0010                1.0            1.0  45.333333   \n",
       "\n",
       "                                       gamma  k_fold  n_splits  batch_size  \\\n",
       "hidden_dim dropout_rate learning_rate                                        \n",
       "200        0.1          0.0001           2.0     1.0       5.0        64.0   \n",
       "                        0.0005           2.0     1.0       5.0        64.0   \n",
       "                        0.0010           2.0     1.0       5.0        64.0   \n",
       "           0.2          0.0001           2.0     1.0       5.0        64.0   \n",
       "                        0.0005           2.0     1.0       5.0        64.0   \n",
       "                        0.0010           2.0     1.0       5.0        64.0   \n",
       "300        0.1          0.0001           2.0     1.0       5.0        64.0   \n",
       "                        0.0005           2.0     1.0       5.0        64.0   \n",
       "                        0.0010           2.0     1.0       5.0        64.0   \n",
       "           0.2          0.0001           2.0     1.0       5.0        64.0   \n",
       "                        0.0005           2.0     1.0       5.0        64.0   \n",
       "                        0.0010           2.0     1.0       5.0        64.0   \n",
       "384        0.1          0.0001           2.0     1.0       5.0        64.0   \n",
       "                        0.0005           2.0     1.0       5.0        64.0   \n",
       "                        0.0010           2.0     1.0       5.0        64.0   \n",
       "           0.2          0.0001           2.0     1.0       5.0        64.0   \n",
       "                        0.0005           2.0     1.0       5.0        64.0   \n",
       "                        0.0010           2.0     1.0       5.0        64.0   \n",
       "\n",
       "                                       model_id  \n",
       "hidden_dim dropout_rate learning_rate            \n",
       "200        0.1          0.0001              1.0  \n",
       "                        0.0005              2.0  \n",
       "                        0.0010              0.0  \n",
       "           0.2          0.0001              4.0  \n",
       "                        0.0005              5.0  \n",
       "                        0.0010              3.0  \n",
       "300        0.1          0.0001              7.0  \n",
       "                        0.0005              8.0  \n",
       "                        0.0010              6.0  \n",
       "           0.2          0.0001             10.0  \n",
       "                        0.0005             11.0  \n",
       "                        0.0010              9.0  \n",
       "384        0.1          0.0001             13.0  \n",
       "                        0.0005             14.0  \n",
       "                        0.0010             12.0  \n",
       "           0.2          0.0001             16.0  \n",
       "                        0.0005             17.0  \n",
       "                        0.0010             15.0  "
      ]
     },
     "execution_count": 42,
     "metadata": {},
     "output_type": "execute_result"
    }
   ],
   "source": [
    "bilstm_history_35.groupby([\"hidden_dim\", \"dropout_rate\", \"learning_rate\"]).mean()"
   ]
  },
  {
   "cell_type": "code",
   "execution_count": 43,
   "metadata": {},
   "outputs": [
    {
     "data": {
      "text/html": [
       "<div>\n",
       "<style scoped>\n",
       "    .dataframe tbody tr th:only-of-type {\n",
       "        vertical-align: middle;\n",
       "    }\n",
       "\n",
       "    .dataframe tbody tr th {\n",
       "        vertical-align: top;\n",
       "    }\n",
       "\n",
       "    .dataframe thead th {\n",
       "        text-align: right;\n",
       "    }\n",
       "</style>\n",
       "<table border=\"1\" class=\"dataframe\">\n",
       "  <thead>\n",
       "    <tr style=\"text-align: right;\">\n",
       "      <th></th>\n",
       "      <th>loss</th>\n",
       "      <th>accuracy</th>\n",
       "      <th>f1</th>\n",
       "      <th>f1_scores</th>\n",
       "      <th>precision</th>\n",
       "      <th>precision_scores</th>\n",
       "      <th>recall</th>\n",
       "      <th>recall_scores</th>\n",
       "      <th>valid_loss</th>\n",
       "      <th>valid_accuracy</th>\n",
       "      <th>...</th>\n",
       "      <th>bidirectional</th>\n",
       "      <th>hidden_dim</th>\n",
       "      <th>dropout_rate</th>\n",
       "      <th>learning_rate</th>\n",
       "      <th>seed</th>\n",
       "      <th>loss_function</th>\n",
       "      <th>gamma</th>\n",
       "      <th>k_fold</th>\n",
       "      <th>n_splits</th>\n",
       "      <th>batch_size</th>\n",
       "    </tr>\n",
       "  </thead>\n",
       "  <tbody>\n",
       "    <tr>\n",
       "      <th>0</th>\n",
       "      <td>None</td>\n",
       "      <td>0.676608</td>\n",
       "      <td>0.644514</td>\n",
       "      <td>[0.7513257847212269, 0.537703170796696]</td>\n",
       "      <td>0.644532</td>\n",
       "      <td>[0.7512181140728003, 0.5378464818763327]</td>\n",
       "      <td>0.644497</td>\n",
       "      <td>[0.7514334862385321, 0.537559936068194]</td>\n",
       "      <td>None</td>\n",
       "      <td>0.915218</td>\n",
       "      <td>...</td>\n",
       "      <td>True</td>\n",
       "      <td>384</td>\n",
       "      <td>0.1</td>\n",
       "      <td>0.0005</td>\n",
       "      <td>1</td>\n",
       "      <td>focal</td>\n",
       "      <td>2</td>\n",
       "      <td>True</td>\n",
       "      <td>5</td>\n",
       "      <td>64</td>\n",
       "    </tr>\n",
       "    <tr>\n",
       "      <th>0</th>\n",
       "      <td>None</td>\n",
       "      <td>0.675862</td>\n",
       "      <td>0.647330</td>\n",
       "      <td>[0.747641851690611, 0.5470174524615785]</td>\n",
       "      <td>0.646074</td>\n",
       "      <td>[0.7569791360564208, 0.5351681957186545]</td>\n",
       "      <td>0.648968</td>\n",
       "      <td>[0.7385321100917431, 0.5594033031433138]</td>\n",
       "      <td>None</td>\n",
       "      <td>0.917509</td>\n",
       "      <td>...</td>\n",
       "      <td>True</td>\n",
       "      <td>384</td>\n",
       "      <td>0.1</td>\n",
       "      <td>0.0005</td>\n",
       "      <td>12</td>\n",
       "      <td>focal</td>\n",
       "      <td>2</td>\n",
       "      <td>True</td>\n",
       "      <td>5</td>\n",
       "      <td>64</td>\n",
       "    </tr>\n",
       "    <tr>\n",
       "      <th>0</th>\n",
       "      <td>None</td>\n",
       "      <td>0.688350</td>\n",
       "      <td>0.661112</td>\n",
       "      <td>[0.7571884984025558, 0.5650364203954213]</td>\n",
       "      <td>0.659663</td>\n",
       "      <td>[0.7672160094173043, 0.5521098118962887]</td>\n",
       "      <td>0.663001</td>\n",
       "      <td>[0.7474197247706422, 0.5785828449653703]</td>\n",
       "      <td>None</td>\n",
       "      <td>0.913465</td>\n",
       "      <td>...</td>\n",
       "      <td>True</td>\n",
       "      <td>384</td>\n",
       "      <td>0.1</td>\n",
       "      <td>0.0005</td>\n",
       "      <td>123</td>\n",
       "      <td>focal</td>\n",
       "      <td>2</td>\n",
       "      <td>True</td>\n",
       "      <td>5</td>\n",
       "      <td>64</td>\n",
       "    </tr>\n",
       "  </tbody>\n",
       "</table>\n",
       "<p>3 rows × 27 columns</p>\n",
       "</div>"
      ],
      "text/plain": [
       "   loss  accuracy        f1                                 f1_scores  \\\n",
       "0  None  0.676608  0.644514   [0.7513257847212269, 0.537703170796696]   \n",
       "0  None  0.675862  0.647330   [0.747641851690611, 0.5470174524615785]   \n",
       "0  None  0.688350  0.661112  [0.7571884984025558, 0.5650364203954213]   \n",
       "\n",
       "   precision                          precision_scores    recall  \\\n",
       "0   0.644532  [0.7512181140728003, 0.5378464818763327]  0.644497   \n",
       "0   0.646074  [0.7569791360564208, 0.5351681957186545]  0.648968   \n",
       "0   0.659663  [0.7672160094173043, 0.5521098118962887]  0.663001   \n",
       "\n",
       "                              recall_scores valid_loss  valid_accuracy  ...  \\\n",
       "0   [0.7514334862385321, 0.537559936068194]       None        0.915218  ...   \n",
       "0  [0.7385321100917431, 0.5594033031433138]       None        0.917509  ...   \n",
       "0  [0.7474197247706422, 0.5785828449653703]       None        0.913465  ...   \n",
       "\n",
       "   bidirectional hidden_dim  dropout_rate learning_rate  seed loss_function  \\\n",
       "0           True        384           0.1        0.0005     1         focal   \n",
       "0           True        384           0.1        0.0005    12         focal   \n",
       "0           True        384           0.1        0.0005   123         focal   \n",
       "\n",
       "   gamma  k_fold  n_splits  batch_size  \n",
       "0      2    True         5          64  \n",
       "0      2    True         5          64  \n",
       "0      2    True         5          64  \n",
       "\n",
       "[3 rows x 27 columns]"
      ]
     },
     "execution_count": 43,
     "metadata": {},
     "output_type": "execute_result"
    }
   ],
   "source": [
    "best_bilstm_history_35"
   ]
  },
  {
   "cell_type": "code",
   "execution_count": 44,
   "metadata": {},
   "outputs": [
    {
     "data": {
      "text/plain": [
       "0.6509855297446816"
      ]
     },
     "execution_count": 44,
     "metadata": {},
     "output_type": "execute_result"
    }
   ],
   "source": [
    "best_bilstm_history_35[\"f1\"].mean()"
   ]
  },
  {
   "cell_type": "code",
   "execution_count": 45,
   "metadata": {},
   "outputs": [
    {
     "data": {
      "text/plain": [
       "0.6500896248396336"
      ]
     },
     "execution_count": 45,
     "metadata": {},
     "output_type": "execute_result"
    }
   ],
   "source": [
    "best_bilstm_history_35[\"precision\"].mean()"
   ]
  },
  {
   "cell_type": "code",
   "execution_count": 46,
   "metadata": {},
   "outputs": [
    {
     "data": {
      "text/plain": [
       "0.6521552342129658"
      ]
     },
     "execution_count": 46,
     "metadata": {},
     "output_type": "execute_result"
    }
   ],
   "source": [
    "best_bilstm_history_35[\"recall\"].mean()"
   ]
  },
  {
   "cell_type": "code",
   "execution_count": 47,
   "metadata": {
    "scrolled": true
   },
   "outputs": [
    {
     "data": {
      "text/plain": [
       "array([0.75205204, 0.54991901])"
      ]
     },
     "execution_count": 47,
     "metadata": {},
     "output_type": "execute_result"
    }
   ],
   "source": [
    "np.stack(best_bilstm_history_35[\"f1_scores\"]).mean(axis=0)"
   ]
  },
  {
   "cell_type": "code",
   "execution_count": 48,
   "metadata": {},
   "outputs": [
    {
     "data": {
      "text/plain": [
       "array([0.75847109, 0.54170816])"
      ]
     },
     "execution_count": 48,
     "metadata": {},
     "output_type": "execute_result"
    }
   ],
   "source": [
    "np.stack(best_bilstm_history_35[\"precision_scores\"]).mean(axis=0)"
   ]
  },
  {
   "cell_type": "code",
   "execution_count": 49,
   "metadata": {},
   "outputs": [
    {
     "data": {
      "text/plain": [
       "array([0.74579511, 0.55851536])"
      ]
     },
     "execution_count": 49,
     "metadata": {},
     "output_type": "execute_result"
    }
   ],
   "source": [
    "np.stack(best_bilstm_history_35[\"recall_scores\"]).mean(axis=0)"
   ]
  },
  {
   "cell_type": "markdown",
   "metadata": {
    "tags": []
   },
   "source": [
    "## history_length=80"
   ]
  },
  {
   "cell_type": "code",
   "execution_count": 50,
   "metadata": {},
   "outputs": [],
   "source": [
    "size = 80"
   ]
  },
  {
   "cell_type": "code",
   "execution_count": 51,
   "metadata": {},
   "outputs": [
    {
     "data": {
      "application/vnd.jupyter.widget-view+json": {
       "model_id": "04bb6035ba104645bfe50d47df25717b",
       "version_major": 2,
       "version_minor": 0
      },
      "text/plain": [
       "  0%|          | 0/1 [00:00<?, ?it/s]"
      ]
     },
     "metadata": {},
     "output_type": "display_data"
    },
    {
     "name": "stdout",
     "output_type": "stream",
     "text": [
      "[INFO] Concatenating the embeddings to the dataframe...\n",
      "[INFO] - columns beginning with 'e' denote the full embddings.\n",
      "[INFO] Adding time feature columns into dataframe in `.df`.\n",
      "[INFO] Adding 'time_encoding' feature...\n",
      "[INFO] Adding 'time_diff' feature...\n",
      "[INFO] Adding 'timeline_index' feature...\n",
      "[INFO] Padding ids and storing in `.df_padded` and `.array_padded` attributes.\n"
     ]
    },
    {
     "data": {
      "application/vnd.jupyter.widget-view+json": {
       "model_id": "da7a85f73c3543349c418068bf0271b5",
       "version_major": 2,
       "version_minor": 0
      },
      "text/plain": [
       "  0%|          | 0/5568 [00:00<?, ?it/s]"
      ]
     },
     "metadata": {},
     "output_type": "display_data"
    },
    {
     "data": {
      "application/vnd.jupyter.widget-view+json": {
       "model_id": "b2c98706d1bb42aeb108a24fd3421eb2",
       "version_major": 2,
       "version_minor": 0
      },
      "text/plain": [
       "  0%|          | 0/3 [00:00<?, ?it/s]"
      ]
     },
     "metadata": {},
     "output_type": "display_data"
    },
    {
     "data": {
      "application/vnd.jupyter.widget-view+json": {
       "model_id": "da8244fa9de54643aa910c96666ea03a",
       "version_major": 2,
       "version_minor": 0
      },
      "text/plain": [
       "  0%|          | 0/2 [00:00<?, ?it/s]"
      ]
     },
     "metadata": {},
     "output_type": "display_data"
    },
    {
     "data": {
      "application/vnd.jupyter.widget-view+json": {
       "model_id": "659f33e86ca149b9b3939c6fc7182793",
       "version_major": 2,
       "version_minor": 0
      },
      "text/plain": [
       "  0%|          | 0/3 [00:00<?, ?it/s]"
      ]
     },
     "metadata": {},
     "output_type": "display_data"
    },
    {
     "data": {
      "application/vnd.jupyter.widget-view+json": {
       "model_id": "d2d2cdf7cf8f4d8796b5341eca84a4f6",
       "version_major": 2,
       "version_minor": 0
      },
      "text/plain": [
       "  0%|          | 0/3 [00:00<?, ?it/s]"
      ]
     },
     "metadata": {},
     "output_type": "display_data"
    },
    {
     "data": {
      "application/vnd.jupyter.widget-view+json": {
       "model_id": "c1b86ca22c4e4dc7af4b73fcfe277b23",
       "version_major": 2,
       "version_minor": 0
      },
      "text/plain": [
       "  0%|          | 0/2 [00:00<?, ?it/s]"
      ]
     },
     "metadata": {},
     "output_type": "display_data"
    },
    {
     "data": {
      "application/vnd.jupyter.widget-view+json": {
       "model_id": "20252b0bdb0546a1a7051e61477f52dc",
       "version_major": 2,
       "version_minor": 0
      },
      "text/plain": [
       "  0%|          | 0/3 [00:00<?, ?it/s]"
      ]
     },
     "metadata": {},
     "output_type": "display_data"
    },
    {
     "data": {
      "application/vnd.jupyter.widget-view+json": {
       "model_id": "8cb19c501ad9439f828222ee41220d91",
       "version_major": 2,
       "version_minor": 0
      },
      "text/plain": [
       "  0%|          | 0/3 [00:00<?, ?it/s]"
      ]
     },
     "metadata": {},
     "output_type": "display_data"
    },
    {
     "data": {
      "application/vnd.jupyter.widget-view+json": {
       "model_id": "c658f97904104ed6a7fdab53564d5c3a",
       "version_major": 2,
       "version_minor": 0
      },
      "text/plain": [
       "  0%|          | 0/2 [00:00<?, ?it/s]"
      ]
     },
     "metadata": {},
     "output_type": "display_data"
    },
    {
     "data": {
      "application/vnd.jupyter.widget-view+json": {
       "model_id": "4e736702d962488db059d38e0ae0ed27",
       "version_major": 2,
       "version_minor": 0
      },
      "text/plain": [
       "  0%|          | 0/3 [00:00<?, ?it/s]"
      ]
     },
     "metadata": {},
     "output_type": "display_data"
    },
    {
     "data": {
      "application/vnd.jupyter.widget-view+json": {
       "model_id": "5b79349e342e4ed5b9a2a71abce47799",
       "version_major": 2,
       "version_minor": 0
      },
      "text/plain": [
       "  0%|          | 0/3 [00:00<?, ?it/s]"
      ]
     },
     "metadata": {},
     "output_type": "display_data"
    },
    {
     "name": "stdout",
     "output_type": "stream",
     "text": [
      "saving results dataframe to CSV for this hyperparameter search in rumours_output/lstm_history_80_focal_2.csv\n",
      "saving the best model results dataframe to CSV for this hyperparameter search in rumours_output/lstm_history_80_focal_2_best_model.csv\n"
     ]
    }
   ],
   "source": [
    "bilstm_history_80, best_bilstm_history_80, _, __ = lstm_hyperparameter_search(\n",
    "    history_lengths=[size],\n",
    "    results_output=f\"{output_dir}/lstm_history_{size}_focal_{gamma}.csv\",\n",
    "    **kwargs,\n",
    ")"
   ]
  },
  {
   "cell_type": "code",
   "execution_count": 52,
   "metadata": {},
   "outputs": [
    {
     "name": "stderr",
     "output_type": "stream",
     "text": [
      "/tmp/ipykernel_1974987/773949101.py:1: FutureWarning: The default value of numeric_only in DataFrameGroupBy.mean is deprecated. In a future version, numeric_only will default to False. Either specify numeric_only or select only columns which should be valid for the function.\n",
      "  bilstm_history_80.groupby([\"hidden_dim\", \"dropout_rate\", \"learning_rate\"]).mean()\n"
     ]
    },
    {
     "data": {
      "text/html": [
       "<div>\n",
       "<style scoped>\n",
       "    .dataframe tbody tr th:only-of-type {\n",
       "        vertical-align: middle;\n",
       "    }\n",
       "\n",
       "    .dataframe tbody tr th {\n",
       "        vertical-align: top;\n",
       "    }\n",
       "\n",
       "    .dataframe thead th {\n",
       "        text-align: right;\n",
       "    }\n",
       "</style>\n",
       "<table border=\"1\" class=\"dataframe\">\n",
       "  <thead>\n",
       "    <tr style=\"text-align: right;\">\n",
       "      <th></th>\n",
       "      <th></th>\n",
       "      <th></th>\n",
       "      <th>accuracy</th>\n",
       "      <th>f1</th>\n",
       "      <th>precision</th>\n",
       "      <th>recall</th>\n",
       "      <th>valid_accuracy</th>\n",
       "      <th>valid_f1</th>\n",
       "      <th>valid_precision</th>\n",
       "      <th>valid_recall</th>\n",
       "      <th>k</th>\n",
       "      <th>num_layers</th>\n",
       "      <th>bidirectional</th>\n",
       "      <th>seed</th>\n",
       "      <th>gamma</th>\n",
       "      <th>k_fold</th>\n",
       "      <th>n_splits</th>\n",
       "      <th>batch_size</th>\n",
       "      <th>model_id</th>\n",
       "    </tr>\n",
       "    <tr>\n",
       "      <th>hidden_dim</th>\n",
       "      <th>dropout_rate</th>\n",
       "      <th>learning_rate</th>\n",
       "      <th></th>\n",
       "      <th></th>\n",
       "      <th></th>\n",
       "      <th></th>\n",
       "      <th></th>\n",
       "      <th></th>\n",
       "      <th></th>\n",
       "      <th></th>\n",
       "      <th></th>\n",
       "      <th></th>\n",
       "      <th></th>\n",
       "      <th></th>\n",
       "      <th></th>\n",
       "      <th></th>\n",
       "      <th></th>\n",
       "      <th></th>\n",
       "      <th></th>\n",
       "    </tr>\n",
       "  </thead>\n",
       "  <tbody>\n",
       "    <tr>\n",
       "      <th rowspan=\"6\" valign=\"top\">200</th>\n",
       "      <th rowspan=\"3\" valign=\"top\">0.1</th>\n",
       "      <th>0.0001</th>\n",
       "      <td>0.689158</td>\n",
       "      <td>0.653583</td>\n",
       "      <td>0.656255</td>\n",
       "      <td>0.652057</td>\n",
       "      <td>0.899897</td>\n",
       "      <td>0.893313</td>\n",
       "      <td>0.895749</td>\n",
       "      <td>0.891235</td>\n",
       "      <td>80.0</td>\n",
       "      <td>1.0</td>\n",
       "      <td>1.0</td>\n",
       "      <td>45.333333</td>\n",
       "      <td>2.0</td>\n",
       "      <td>1.0</td>\n",
       "      <td>5.0</td>\n",
       "      <td>64.0</td>\n",
       "      <td>1.0</td>\n",
       "    </tr>\n",
       "    <tr>\n",
       "      <th>0.0005</th>\n",
       "      <td>0.690587</td>\n",
       "      <td>0.660368</td>\n",
       "      <td>0.660381</td>\n",
       "      <td>0.660702</td>\n",
       "      <td>0.913106</td>\n",
       "      <td>0.907924</td>\n",
       "      <td>0.907854</td>\n",
       "      <td>0.908019</td>\n",
       "      <td>80.0</td>\n",
       "      <td>1.0</td>\n",
       "      <td>1.0</td>\n",
       "      <td>45.333333</td>\n",
       "      <td>2.0</td>\n",
       "      <td>1.0</td>\n",
       "      <td>5.0</td>\n",
       "      <td>64.0</td>\n",
       "      <td>2.0</td>\n",
       "    </tr>\n",
       "    <tr>\n",
       "      <th>0.0010</th>\n",
       "      <td>0.688599</td>\n",
       "      <td>0.659309</td>\n",
       "      <td>0.658625</td>\n",
       "      <td>0.660076</td>\n",
       "      <td>0.910096</td>\n",
       "      <td>0.905038</td>\n",
       "      <td>0.903746</td>\n",
       "      <td>0.906469</td>\n",
       "      <td>80.0</td>\n",
       "      <td>1.0</td>\n",
       "      <td>1.0</td>\n",
       "      <td>45.333333</td>\n",
       "      <td>2.0</td>\n",
       "      <td>1.0</td>\n",
       "      <td>5.0</td>\n",
       "      <td>64.0</td>\n",
       "      <td>0.0</td>\n",
       "    </tr>\n",
       "    <tr>\n",
       "      <th rowspan=\"3\" valign=\"top\">0.2</th>\n",
       "      <th>0.0001</th>\n",
       "      <td>0.685182</td>\n",
       "      <td>0.650908</td>\n",
       "      <td>0.652495</td>\n",
       "      <td>0.649778</td>\n",
       "      <td>0.902817</td>\n",
       "      <td>0.896432</td>\n",
       "      <td>0.898806</td>\n",
       "      <td>0.894364</td>\n",
       "      <td>80.0</td>\n",
       "      <td>1.0</td>\n",
       "      <td>1.0</td>\n",
       "      <td>45.333333</td>\n",
       "      <td>2.0</td>\n",
       "      <td>1.0</td>\n",
       "      <td>5.0</td>\n",
       "      <td>64.0</td>\n",
       "      <td>4.0</td>\n",
       "    </tr>\n",
       "    <tr>\n",
       "      <th>0.0005</th>\n",
       "      <td>0.692637</td>\n",
       "      <td>0.662399</td>\n",
       "      <td>0.662389</td>\n",
       "      <td>0.662607</td>\n",
       "      <td>0.914499</td>\n",
       "      <td>0.909312</td>\n",
       "      <td>0.909675</td>\n",
       "      <td>0.909008</td>\n",
       "      <td>80.0</td>\n",
       "      <td>1.0</td>\n",
       "      <td>1.0</td>\n",
       "      <td>45.333333</td>\n",
       "      <td>2.0</td>\n",
       "      <td>1.0</td>\n",
       "      <td>5.0</td>\n",
       "      <td>64.0</td>\n",
       "      <td>5.0</td>\n",
       "    </tr>\n",
       "    <tr>\n",
       "      <th>0.0010</th>\n",
       "      <td>0.677975</td>\n",
       "      <td>0.648109</td>\n",
       "      <td>0.647357</td>\n",
       "      <td>0.649116</td>\n",
       "      <td>0.908568</td>\n",
       "      <td>0.903501</td>\n",
       "      <td>0.901931</td>\n",
       "      <td>0.905235</td>\n",
       "      <td>80.0</td>\n",
       "      <td>1.0</td>\n",
       "      <td>1.0</td>\n",
       "      <td>45.333333</td>\n",
       "      <td>2.0</td>\n",
       "      <td>1.0</td>\n",
       "      <td>5.0</td>\n",
       "      <td>64.0</td>\n",
       "      <td>3.0</td>\n",
       "    </tr>\n",
       "    <tr>\n",
       "      <th rowspan=\"6\" valign=\"top\">300</th>\n",
       "      <th rowspan=\"3\" valign=\"top\">0.1</th>\n",
       "      <th>0.0001</th>\n",
       "      <td>0.686362</td>\n",
       "      <td>0.653336</td>\n",
       "      <td>0.654308</td>\n",
       "      <td>0.652532</td>\n",
       "      <td>0.905738</td>\n",
       "      <td>0.899798</td>\n",
       "      <td>0.901053</td>\n",
       "      <td>0.898715</td>\n",
       "      <td>80.0</td>\n",
       "      <td>1.0</td>\n",
       "      <td>1.0</td>\n",
       "      <td>45.333333</td>\n",
       "      <td>2.0</td>\n",
       "      <td>1.0</td>\n",
       "      <td>5.0</td>\n",
       "      <td>64.0</td>\n",
       "      <td>7.0</td>\n",
       "    </tr>\n",
       "    <tr>\n",
       "      <th>0.0005</th>\n",
       "      <td>0.692327</td>\n",
       "      <td>0.663965</td>\n",
       "      <td>0.663061</td>\n",
       "      <td>0.665116</td>\n",
       "      <td>0.910545</td>\n",
       "      <td>0.905459</td>\n",
       "      <td>0.904368</td>\n",
       "      <td>0.906628</td>\n",
       "      <td>80.0</td>\n",
       "      <td>1.0</td>\n",
       "      <td>1.0</td>\n",
       "      <td>45.333333</td>\n",
       "      <td>2.0</td>\n",
       "      <td>1.0</td>\n",
       "      <td>5.0</td>\n",
       "      <td>64.0</td>\n",
       "      <td>8.0</td>\n",
       "    </tr>\n",
       "    <tr>\n",
       "      <th>0.0010</th>\n",
       "      <td>0.682448</td>\n",
       "      <td>0.654032</td>\n",
       "      <td>0.653293</td>\n",
       "      <td>0.655960</td>\n",
       "      <td>0.908254</td>\n",
       "      <td>0.903072</td>\n",
       "      <td>0.902001</td>\n",
       "      <td>0.904392</td>\n",
       "      <td>80.0</td>\n",
       "      <td>1.0</td>\n",
       "      <td>1.0</td>\n",
       "      <td>45.333333</td>\n",
       "      <td>2.0</td>\n",
       "      <td>1.0</td>\n",
       "      <td>5.0</td>\n",
       "      <td>64.0</td>\n",
       "      <td>6.0</td>\n",
       "    </tr>\n",
       "    <tr>\n",
       "      <th rowspan=\"3\" valign=\"top\">0.2</th>\n",
       "      <th>0.0001</th>\n",
       "      <td>0.686673</td>\n",
       "      <td>0.653942</td>\n",
       "      <td>0.654760</td>\n",
       "      <td>0.653222</td>\n",
       "      <td>0.905917</td>\n",
       "      <td>0.900041</td>\n",
       "      <td>0.901098</td>\n",
       "      <td>0.899110</td>\n",
       "      <td>80.0</td>\n",
       "      <td>1.0</td>\n",
       "      <td>1.0</td>\n",
       "      <td>45.333333</td>\n",
       "      <td>2.0</td>\n",
       "      <td>1.0</td>\n",
       "      <td>5.0</td>\n",
       "      <td>64.0</td>\n",
       "      <td>10.0</td>\n",
       "    </tr>\n",
       "    <tr>\n",
       "      <th>0.0005</th>\n",
       "      <td>0.693135</td>\n",
       "      <td>0.663724</td>\n",
       "      <td>0.663304</td>\n",
       "      <td>0.664302</td>\n",
       "      <td>0.910949</td>\n",
       "      <td>0.905748</td>\n",
       "      <td>0.905232</td>\n",
       "      <td>0.906321</td>\n",
       "      <td>80.0</td>\n",
       "      <td>1.0</td>\n",
       "      <td>1.0</td>\n",
       "      <td>45.333333</td>\n",
       "      <td>2.0</td>\n",
       "      <td>1.0</td>\n",
       "      <td>5.0</td>\n",
       "      <td>64.0</td>\n",
       "      <td>11.0</td>\n",
       "    </tr>\n",
       "    <tr>\n",
       "      <th>0.0010</th>\n",
       "      <td>0.684933</td>\n",
       "      <td>0.652061</td>\n",
       "      <td>0.653011</td>\n",
       "      <td>0.651392</td>\n",
       "      <td>0.907535</td>\n",
       "      <td>0.902001</td>\n",
       "      <td>0.902110</td>\n",
       "      <td>0.901978</td>\n",
       "      <td>80.0</td>\n",
       "      <td>1.0</td>\n",
       "      <td>1.0</td>\n",
       "      <td>45.333333</td>\n",
       "      <td>2.0</td>\n",
       "      <td>1.0</td>\n",
       "      <td>5.0</td>\n",
       "      <td>64.0</td>\n",
       "      <td>9.0</td>\n",
       "    </tr>\n",
       "    <tr>\n",
       "      <th rowspan=\"6\" valign=\"top\">384</th>\n",
       "      <th rowspan=\"3\" valign=\"top\">0.1</th>\n",
       "      <th>0.0001</th>\n",
       "      <td>0.685120</td>\n",
       "      <td>0.652245</td>\n",
       "      <td>0.653034</td>\n",
       "      <td>0.651576</td>\n",
       "      <td>0.907984</td>\n",
       "      <td>0.902291</td>\n",
       "      <td>0.903084</td>\n",
       "      <td>0.901549</td>\n",
       "      <td>80.0</td>\n",
       "      <td>1.0</td>\n",
       "      <td>1.0</td>\n",
       "      <td>45.333333</td>\n",
       "      <td>2.0</td>\n",
       "      <td>1.0</td>\n",
       "      <td>5.0</td>\n",
       "      <td>64.0</td>\n",
       "      <td>13.0</td>\n",
       "    </tr>\n",
       "    <tr>\n",
       "      <th>0.0005</th>\n",
       "      <td>0.687294</td>\n",
       "      <td>0.661807</td>\n",
       "      <td>0.659857</td>\n",
       "      <td>0.664814</td>\n",
       "      <td>0.909916</td>\n",
       "      <td>0.904778</td>\n",
       "      <td>0.903747</td>\n",
       "      <td>0.905871</td>\n",
       "      <td>80.0</td>\n",
       "      <td>1.0</td>\n",
       "      <td>1.0</td>\n",
       "      <td>45.333333</td>\n",
       "      <td>2.0</td>\n",
       "      <td>1.0</td>\n",
       "      <td>5.0</td>\n",
       "      <td>64.0</td>\n",
       "      <td>14.0</td>\n",
       "    </tr>\n",
       "    <tr>\n",
       "      <th>0.0010</th>\n",
       "      <td>0.685368</td>\n",
       "      <td>0.656089</td>\n",
       "      <td>0.655408</td>\n",
       "      <td>0.657058</td>\n",
       "      <td>0.907625</td>\n",
       "      <td>0.902131</td>\n",
       "      <td>0.902050</td>\n",
       "      <td>0.902254</td>\n",
       "      <td>80.0</td>\n",
       "      <td>1.0</td>\n",
       "      <td>1.0</td>\n",
       "      <td>45.333333</td>\n",
       "      <td>2.0</td>\n",
       "      <td>1.0</td>\n",
       "      <td>5.0</td>\n",
       "      <td>64.0</td>\n",
       "      <td>12.0</td>\n",
       "    </tr>\n",
       "    <tr>\n",
       "      <th rowspan=\"3\" valign=\"top\">0.2</th>\n",
       "      <th>0.0001</th>\n",
       "      <td>0.682821</td>\n",
       "      <td>0.650641</td>\n",
       "      <td>0.651015</td>\n",
       "      <td>0.650300</td>\n",
       "      <td>0.906816</td>\n",
       "      <td>0.901056</td>\n",
       "      <td>0.901811</td>\n",
       "      <td>0.900334</td>\n",
       "      <td>80.0</td>\n",
       "      <td>1.0</td>\n",
       "      <td>1.0</td>\n",
       "      <td>45.333333</td>\n",
       "      <td>2.0</td>\n",
       "      <td>1.0</td>\n",
       "      <td>5.0</td>\n",
       "      <td>64.0</td>\n",
       "      <td>16.0</td>\n",
       "    </tr>\n",
       "    <tr>\n",
       "      <th>0.0005</th>\n",
       "      <td>0.693445</td>\n",
       "      <td>0.665603</td>\n",
       "      <td>0.664512</td>\n",
       "      <td>0.667002</td>\n",
       "      <td>0.908838</td>\n",
       "      <td>0.903315</td>\n",
       "      <td>0.903608</td>\n",
       "      <td>0.903054</td>\n",
       "      <td>80.0</td>\n",
       "      <td>1.0</td>\n",
       "      <td>1.0</td>\n",
       "      <td>45.333333</td>\n",
       "      <td>2.0</td>\n",
       "      <td>1.0</td>\n",
       "      <td>5.0</td>\n",
       "      <td>64.0</td>\n",
       "      <td>17.0</td>\n",
       "    </tr>\n",
       "    <tr>\n",
       "      <th>0.0010</th>\n",
       "      <td>0.686921</td>\n",
       "      <td>0.658232</td>\n",
       "      <td>0.657321</td>\n",
       "      <td>0.659401</td>\n",
       "      <td>0.907220</td>\n",
       "      <td>0.901708</td>\n",
       "      <td>0.901576</td>\n",
       "      <td>0.901928</td>\n",
       "      <td>80.0</td>\n",
       "      <td>1.0</td>\n",
       "      <td>1.0</td>\n",
       "      <td>45.333333</td>\n",
       "      <td>2.0</td>\n",
       "      <td>1.0</td>\n",
       "      <td>5.0</td>\n",
       "      <td>64.0</td>\n",
       "      <td>15.0</td>\n",
       "    </tr>\n",
       "  </tbody>\n",
       "</table>\n",
       "</div>"
      ],
      "text/plain": [
       "                                       accuracy        f1  precision  \\\n",
       "hidden_dim dropout_rate learning_rate                                  \n",
       "200        0.1          0.0001         0.689158  0.653583   0.656255   \n",
       "                        0.0005         0.690587  0.660368   0.660381   \n",
       "                        0.0010         0.688599  0.659309   0.658625   \n",
       "           0.2          0.0001         0.685182  0.650908   0.652495   \n",
       "                        0.0005         0.692637  0.662399   0.662389   \n",
       "                        0.0010         0.677975  0.648109   0.647357   \n",
       "300        0.1          0.0001         0.686362  0.653336   0.654308   \n",
       "                        0.0005         0.692327  0.663965   0.663061   \n",
       "                        0.0010         0.682448  0.654032   0.653293   \n",
       "           0.2          0.0001         0.686673  0.653942   0.654760   \n",
       "                        0.0005         0.693135  0.663724   0.663304   \n",
       "                        0.0010         0.684933  0.652061   0.653011   \n",
       "384        0.1          0.0001         0.685120  0.652245   0.653034   \n",
       "                        0.0005         0.687294  0.661807   0.659857   \n",
       "                        0.0010         0.685368  0.656089   0.655408   \n",
       "           0.2          0.0001         0.682821  0.650641   0.651015   \n",
       "                        0.0005         0.693445  0.665603   0.664512   \n",
       "                        0.0010         0.686921  0.658232   0.657321   \n",
       "\n",
       "                                         recall  valid_accuracy  valid_f1  \\\n",
       "hidden_dim dropout_rate learning_rate                                       \n",
       "200        0.1          0.0001         0.652057        0.899897  0.893313   \n",
       "                        0.0005         0.660702        0.913106  0.907924   \n",
       "                        0.0010         0.660076        0.910096  0.905038   \n",
       "           0.2          0.0001         0.649778        0.902817  0.896432   \n",
       "                        0.0005         0.662607        0.914499  0.909312   \n",
       "                        0.0010         0.649116        0.908568  0.903501   \n",
       "300        0.1          0.0001         0.652532        0.905738  0.899798   \n",
       "                        0.0005         0.665116        0.910545  0.905459   \n",
       "                        0.0010         0.655960        0.908254  0.903072   \n",
       "           0.2          0.0001         0.653222        0.905917  0.900041   \n",
       "                        0.0005         0.664302        0.910949  0.905748   \n",
       "                        0.0010         0.651392        0.907535  0.902001   \n",
       "384        0.1          0.0001         0.651576        0.907984  0.902291   \n",
       "                        0.0005         0.664814        0.909916  0.904778   \n",
       "                        0.0010         0.657058        0.907625  0.902131   \n",
       "           0.2          0.0001         0.650300        0.906816  0.901056   \n",
       "                        0.0005         0.667002        0.908838  0.903315   \n",
       "                        0.0010         0.659401        0.907220  0.901708   \n",
       "\n",
       "                                       valid_precision  valid_recall     k  \\\n",
       "hidden_dim dropout_rate learning_rate                                        \n",
       "200        0.1          0.0001                0.895749      0.891235  80.0   \n",
       "                        0.0005                0.907854      0.908019  80.0   \n",
       "                        0.0010                0.903746      0.906469  80.0   \n",
       "           0.2          0.0001                0.898806      0.894364  80.0   \n",
       "                        0.0005                0.909675      0.909008  80.0   \n",
       "                        0.0010                0.901931      0.905235  80.0   \n",
       "300        0.1          0.0001                0.901053      0.898715  80.0   \n",
       "                        0.0005                0.904368      0.906628  80.0   \n",
       "                        0.0010                0.902001      0.904392  80.0   \n",
       "           0.2          0.0001                0.901098      0.899110  80.0   \n",
       "                        0.0005                0.905232      0.906321  80.0   \n",
       "                        0.0010                0.902110      0.901978  80.0   \n",
       "384        0.1          0.0001                0.903084      0.901549  80.0   \n",
       "                        0.0005                0.903747      0.905871  80.0   \n",
       "                        0.0010                0.902050      0.902254  80.0   \n",
       "           0.2          0.0001                0.901811      0.900334  80.0   \n",
       "                        0.0005                0.903608      0.903054  80.0   \n",
       "                        0.0010                0.901576      0.901928  80.0   \n",
       "\n",
       "                                       num_layers  bidirectional       seed  \\\n",
       "hidden_dim dropout_rate learning_rate                                         \n",
       "200        0.1          0.0001                1.0            1.0  45.333333   \n",
       "                        0.0005                1.0            1.0  45.333333   \n",
       "                        0.0010                1.0            1.0  45.333333   \n",
       "           0.2          0.0001                1.0            1.0  45.333333   \n",
       "                        0.0005                1.0            1.0  45.333333   \n",
       "                        0.0010                1.0            1.0  45.333333   \n",
       "300        0.1          0.0001                1.0            1.0  45.333333   \n",
       "                        0.0005                1.0            1.0  45.333333   \n",
       "                        0.0010                1.0            1.0  45.333333   \n",
       "           0.2          0.0001                1.0            1.0  45.333333   \n",
       "                        0.0005                1.0            1.0  45.333333   \n",
       "                        0.0010                1.0            1.0  45.333333   \n",
       "384        0.1          0.0001                1.0            1.0  45.333333   \n",
       "                        0.0005                1.0            1.0  45.333333   \n",
       "                        0.0010                1.0            1.0  45.333333   \n",
       "           0.2          0.0001                1.0            1.0  45.333333   \n",
       "                        0.0005                1.0            1.0  45.333333   \n",
       "                        0.0010                1.0            1.0  45.333333   \n",
       "\n",
       "                                       gamma  k_fold  n_splits  batch_size  \\\n",
       "hidden_dim dropout_rate learning_rate                                        \n",
       "200        0.1          0.0001           2.0     1.0       5.0        64.0   \n",
       "                        0.0005           2.0     1.0       5.0        64.0   \n",
       "                        0.0010           2.0     1.0       5.0        64.0   \n",
       "           0.2          0.0001           2.0     1.0       5.0        64.0   \n",
       "                        0.0005           2.0     1.0       5.0        64.0   \n",
       "                        0.0010           2.0     1.0       5.0        64.0   \n",
       "300        0.1          0.0001           2.0     1.0       5.0        64.0   \n",
       "                        0.0005           2.0     1.0       5.0        64.0   \n",
       "                        0.0010           2.0     1.0       5.0        64.0   \n",
       "           0.2          0.0001           2.0     1.0       5.0        64.0   \n",
       "                        0.0005           2.0     1.0       5.0        64.0   \n",
       "                        0.0010           2.0     1.0       5.0        64.0   \n",
       "384        0.1          0.0001           2.0     1.0       5.0        64.0   \n",
       "                        0.0005           2.0     1.0       5.0        64.0   \n",
       "                        0.0010           2.0     1.0       5.0        64.0   \n",
       "           0.2          0.0001           2.0     1.0       5.0        64.0   \n",
       "                        0.0005           2.0     1.0       5.0        64.0   \n",
       "                        0.0010           2.0     1.0       5.0        64.0   \n",
       "\n",
       "                                       model_id  \n",
       "hidden_dim dropout_rate learning_rate            \n",
       "200        0.1          0.0001              1.0  \n",
       "                        0.0005              2.0  \n",
       "                        0.0010              0.0  \n",
       "           0.2          0.0001              4.0  \n",
       "                        0.0005              5.0  \n",
       "                        0.0010              3.0  \n",
       "300        0.1          0.0001              7.0  \n",
       "                        0.0005              8.0  \n",
       "                        0.0010              6.0  \n",
       "           0.2          0.0001             10.0  \n",
       "                        0.0005             11.0  \n",
       "                        0.0010              9.0  \n",
       "384        0.1          0.0001             13.0  \n",
       "                        0.0005             14.0  \n",
       "                        0.0010             12.0  \n",
       "           0.2          0.0001             16.0  \n",
       "                        0.0005             17.0  \n",
       "                        0.0010             15.0  "
      ]
     },
     "execution_count": 52,
     "metadata": {},
     "output_type": "execute_result"
    }
   ],
   "source": [
    "bilstm_history_80.groupby([\"hidden_dim\", \"dropout_rate\", \"learning_rate\"]).mean()"
   ]
  },
  {
   "cell_type": "code",
   "execution_count": 53,
   "metadata": {},
   "outputs": [
    {
     "data": {
      "text/html": [
       "<div>\n",
       "<style scoped>\n",
       "    .dataframe tbody tr th:only-of-type {\n",
       "        vertical-align: middle;\n",
       "    }\n",
       "\n",
       "    .dataframe tbody tr th {\n",
       "        vertical-align: top;\n",
       "    }\n",
       "\n",
       "    .dataframe thead th {\n",
       "        text-align: right;\n",
       "    }\n",
       "</style>\n",
       "<table border=\"1\" class=\"dataframe\">\n",
       "  <thead>\n",
       "    <tr style=\"text-align: right;\">\n",
       "      <th></th>\n",
       "      <th>loss</th>\n",
       "      <th>accuracy</th>\n",
       "      <th>f1</th>\n",
       "      <th>f1_scores</th>\n",
       "      <th>precision</th>\n",
       "      <th>precision_scores</th>\n",
       "      <th>recall</th>\n",
       "      <th>recall_scores</th>\n",
       "      <th>valid_loss</th>\n",
       "      <th>valid_accuracy</th>\n",
       "      <th>...</th>\n",
       "      <th>bidirectional</th>\n",
       "      <th>hidden_dim</th>\n",
       "      <th>dropout_rate</th>\n",
       "      <th>learning_rate</th>\n",
       "      <th>seed</th>\n",
       "      <th>loss_function</th>\n",
       "      <th>gamma</th>\n",
       "      <th>k_fold</th>\n",
       "      <th>n_splits</th>\n",
       "      <th>batch_size</th>\n",
       "    </tr>\n",
       "  </thead>\n",
       "  <tbody>\n",
       "    <tr>\n",
       "      <th>0</th>\n",
       "      <td>None</td>\n",
       "      <td>0.688910</td>\n",
       "      <td>0.655178</td>\n",
       "      <td>[0.7630271191253727, 0.5473284513154325]</td>\n",
       "      <td>0.656648</td>\n",
       "      <td>[0.7558368495077356, 0.5574585635359116]</td>\n",
       "      <td>0.653958</td>\n",
       "      <td>[0.770355504587156, 0.537559936068194]</td>\n",
       "      <td>None</td>\n",
       "      <td>0.915083</td>\n",
       "      <td>...</td>\n",
       "      <td>True</td>\n",
       "      <td>200</td>\n",
       "      <td>0.2</td>\n",
       "      <td>0.0005</td>\n",
       "      <td>1</td>\n",
       "      <td>focal</td>\n",
       "      <td>2</td>\n",
       "      <td>True</td>\n",
       "      <td>5</td>\n",
       "      <td>64</td>\n",
       "    </tr>\n",
       "    <tr>\n",
       "      <th>0</th>\n",
       "      <td>None</td>\n",
       "      <td>0.689655</td>\n",
       "      <td>0.662103</td>\n",
       "      <td>[0.7585906916050458, 0.5656144012522828]</td>\n",
       "      <td>0.660786</td>\n",
       "      <td>[0.7673804634790261, 0.5541922290388548]</td>\n",
       "      <td>0.663759</td>\n",
       "      <td>[0.75, 0.5775173148641449]</td>\n",
       "      <td>None</td>\n",
       "      <td>0.914409</td>\n",
       "      <td>...</td>\n",
       "      <td>True</td>\n",
       "      <td>200</td>\n",
       "      <td>0.2</td>\n",
       "      <td>0.0005</td>\n",
       "      <td>12</td>\n",
       "      <td>focal</td>\n",
       "      <td>2</td>\n",
       "      <td>True</td>\n",
       "      <td>5</td>\n",
       "      <td>64</td>\n",
       "    </tr>\n",
       "    <tr>\n",
       "      <th>0</th>\n",
       "      <td>None</td>\n",
       "      <td>0.699348</td>\n",
       "      <td>0.669916</td>\n",
       "      <td>[0.7684799770345916, 0.5713526441668881]</td>\n",
       "      <td>0.669732</td>\n",
       "      <td>[0.7694739867778098, 0.5699893955461294]</td>\n",
       "      <td>0.670105</td>\n",
       "      <td>[0.7674885321100917, 0.5727224294086308]</td>\n",
       "      <td>None</td>\n",
       "      <td>0.914005</td>\n",
       "      <td>...</td>\n",
       "      <td>True</td>\n",
       "      <td>200</td>\n",
       "      <td>0.2</td>\n",
       "      <td>0.0005</td>\n",
       "      <td>123</td>\n",
       "      <td>focal</td>\n",
       "      <td>2</td>\n",
       "      <td>True</td>\n",
       "      <td>5</td>\n",
       "      <td>64</td>\n",
       "    </tr>\n",
       "  </tbody>\n",
       "</table>\n",
       "<p>3 rows × 27 columns</p>\n",
       "</div>"
      ],
      "text/plain": [
       "   loss  accuracy        f1                                 f1_scores  \\\n",
       "0  None  0.688910  0.655178  [0.7630271191253727, 0.5473284513154325]   \n",
       "0  None  0.689655  0.662103  [0.7585906916050458, 0.5656144012522828]   \n",
       "0  None  0.699348  0.669916  [0.7684799770345916, 0.5713526441668881]   \n",
       "\n",
       "   precision                          precision_scores    recall  \\\n",
       "0   0.656648  [0.7558368495077356, 0.5574585635359116]  0.653958   \n",
       "0   0.660786  [0.7673804634790261, 0.5541922290388548]  0.663759   \n",
       "0   0.669732  [0.7694739867778098, 0.5699893955461294]  0.670105   \n",
       "\n",
       "                              recall_scores valid_loss  valid_accuracy  ...  \\\n",
       "0    [0.770355504587156, 0.537559936068194]       None        0.915083  ...   \n",
       "0                [0.75, 0.5775173148641449]       None        0.914409  ...   \n",
       "0  [0.7674885321100917, 0.5727224294086308]       None        0.914005  ...   \n",
       "\n",
       "   bidirectional hidden_dim  dropout_rate learning_rate  seed loss_function  \\\n",
       "0           True        200           0.2        0.0005     1         focal   \n",
       "0           True        200           0.2        0.0005    12         focal   \n",
       "0           True        200           0.2        0.0005   123         focal   \n",
       "\n",
       "   gamma  k_fold  n_splits  batch_size  \n",
       "0      2    True         5          64  \n",
       "0      2    True         5          64  \n",
       "0      2    True         5          64  \n",
       "\n",
       "[3 rows x 27 columns]"
      ]
     },
     "execution_count": 53,
     "metadata": {},
     "output_type": "execute_result"
    }
   ],
   "source": [
    "best_bilstm_history_80"
   ]
  },
  {
   "cell_type": "code",
   "execution_count": 54,
   "metadata": {},
   "outputs": [
    {
     "data": {
      "text/plain": [
       "0.6623988807499356"
      ]
     },
     "execution_count": 54,
     "metadata": {},
     "output_type": "execute_result"
    }
   ],
   "source": [
    "best_bilstm_history_80[\"f1\"].mean()"
   ]
  },
  {
   "cell_type": "code",
   "execution_count": 55,
   "metadata": {},
   "outputs": [
    {
     "data": {
      "text/plain": [
       "0.6623885813142446"
      ]
     },
     "execution_count": 55,
     "metadata": {},
     "output_type": "execute_result"
    }
   ],
   "source": [
    "best_bilstm_history_80[\"precision\"].mean()"
   ]
  },
  {
   "cell_type": "code",
   "execution_count": 56,
   "metadata": {},
   "outputs": [
    {
     "data": {
      "text/plain": [
       "0.6626072861730362"
      ]
     },
     "execution_count": 56,
     "metadata": {},
     "output_type": "execute_result"
    }
   ],
   "source": [
    "best_bilstm_history_80[\"recall\"].mean()"
   ]
  },
  {
   "cell_type": "code",
   "execution_count": 57,
   "metadata": {
    "scrolled": true
   },
   "outputs": [
    {
     "data": {
      "text/plain": [
       "array([0.76336593, 0.56143183])"
      ]
     },
     "execution_count": 57,
     "metadata": {},
     "output_type": "execute_result"
    }
   ],
   "source": [
    "np.stack(best_bilstm_history_80[\"f1_scores\"]).mean(axis=0)"
   ]
  },
  {
   "cell_type": "code",
   "execution_count": 58,
   "metadata": {},
   "outputs": [
    {
     "data": {
      "text/plain": [
       "array([0.76423043, 0.56054673])"
      ]
     },
     "execution_count": 58,
     "metadata": {},
     "output_type": "execute_result"
    }
   ],
   "source": [
    "np.stack(best_bilstm_history_80[\"precision_scores\"]).mean(axis=0)"
   ]
  },
  {
   "cell_type": "code",
   "execution_count": 59,
   "metadata": {},
   "outputs": [
    {
     "data": {
      "text/plain": [
       "array([0.76261468, 0.56259989])"
      ]
     },
     "execution_count": 59,
     "metadata": {},
     "output_type": "execute_result"
    }
   ],
   "source": [
    "np.stack(best_bilstm_history_80[\"recall_scores\"]).mean(axis=0)"
   ]
  }
 ],
 "metadata": {
  "kernelspec": {
   "display_name": "nlpsig-networks (Conda)",
   "language": "python",
   "name": "sys_nlpsig-networks"
  },
  "language_info": {
   "codemirror_mode": {
    "name": "ipython",
    "version": 3
   },
   "file_extension": ".py",
   "mimetype": "text/x-python",
   "name": "python",
   "nbconvert_exporter": "python",
   "pygments_lexer": "ipython3",
   "version": "3.8.17"
  }
 },
 "nbformat": 4,
 "nbformat_minor": 4
}
