{
 "cells": [
  {
   "cell_type": "code",
   "execution_count": 1,
   "id": "a983a5e8",
   "metadata": {},
   "outputs": [],
   "source": [
    "import numpy as np\n",
    "import pickle\n",
    "import os\n",
    "\n",
    "seed = 2023"
   ]
  },
  {
   "cell_type": "code",
   "execution_count": 2,
   "id": "a4b2805b-1454-407d-9a0a-740341ebfd3c",
   "metadata": {},
   "outputs": [
    {
     "data": {
      "text/plain": [
       "device(type='cuda')"
      ]
     },
     "execution_count": 2,
     "metadata": {},
     "output_type": "execute_result"
    }
   ],
   "source": [
    "import torch\n",
    "\n",
    "# set device\n",
    "device = torch.device(\"cuda\" if torch.cuda.is_available() else \"cpu\")\n",
    "device"
   ]
  },
  {
   "cell_type": "code",
   "execution_count": 3,
   "id": "e4e666cc",
   "metadata": {},
   "outputs": [],
   "source": [
    "from nlpsig_networks.scripts.swmhau_network_functions import (\n",
    "    swmhau_network_hyperparameter_search,\n",
    ")"
   ]
  },
  {
   "cell_type": "code",
   "execution_count": 4,
   "id": "6e918dde",
   "metadata": {},
   "outputs": [],
   "source": [
    "output_dir = \"rumours_output\"\n",
    "if not os.path.isdir(output_dir):\n",
    "    os.makedirs(output_dir)"
   ]
  },
  {
   "cell_type": "markdown",
   "id": "f7409a03",
   "metadata": {},
   "source": [
    "## Rumours"
   ]
  },
  {
   "cell_type": "code",
   "execution_count": 5,
   "id": "f00bb922",
   "metadata": {},
   "outputs": [],
   "source": [
    "%run load_sbert-embeddings.py"
   ]
  },
  {
   "cell_type": "code",
   "execution_count": 6,
   "id": "720d820f",
   "metadata": {},
   "outputs": [
    {
     "data": {
      "text/html": [
       "<div>\n",
       "<style scoped>\n",
       "    .dataframe tbody tr th:only-of-type {\n",
       "        vertical-align: middle;\n",
       "    }\n",
       "\n",
       "    .dataframe tbody tr th {\n",
       "        vertical-align: top;\n",
       "    }\n",
       "\n",
       "    .dataframe thead th {\n",
       "        text-align: right;\n",
       "    }\n",
       "</style>\n",
       "<table border=\"1\" class=\"dataframe\">\n",
       "  <thead>\n",
       "    <tr style=\"text-align: right;\">\n",
       "      <th></th>\n",
       "      <th>id</th>\n",
       "      <th>label</th>\n",
       "      <th>datetime</th>\n",
       "      <th>text</th>\n",
       "      <th>timeline_id</th>\n",
       "      <th>set</th>\n",
       "    </tr>\n",
       "  </thead>\n",
       "  <tbody>\n",
       "    <tr>\n",
       "      <th>0</th>\n",
       "      <td>5.249902e+17</td>\n",
       "      <td>0</td>\n",
       "      <td>2014-10-22 18:26:23</td>\n",
       "      <td>Police have clarified that there were two shoo...</td>\n",
       "      <td>0</td>\n",
       "      <td>train</td>\n",
       "    </tr>\n",
       "    <tr>\n",
       "      <th>1</th>\n",
       "      <td>5.249906e+17</td>\n",
       "      <td>0</td>\n",
       "      <td>2014-10-22 18:27:58</td>\n",
       "      <td>@CTVNews you guys \"confirmed\" there were 3 sho...</td>\n",
       "      <td>0</td>\n",
       "      <td>train</td>\n",
       "    </tr>\n",
       "    <tr>\n",
       "      <th>2</th>\n",
       "      <td>5.249908e+17</td>\n",
       "      <td>1</td>\n",
       "      <td>2014-10-22 18:28:46</td>\n",
       "      <td>@CTVNews get it right. http://t.co/GHYxMuzPG9</td>\n",
       "      <td>0</td>\n",
       "      <td>train</td>\n",
       "    </tr>\n",
       "    <tr>\n",
       "      <th>3</th>\n",
       "      <td>5.249927e+17</td>\n",
       "      <td>1</td>\n",
       "      <td>2014-10-22 18:36:29</td>\n",
       "      <td>RT @CTVNews Police have clarified that there w...</td>\n",
       "      <td>0</td>\n",
       "      <td>train</td>\n",
       "    </tr>\n",
       "    <tr>\n",
       "      <th>4</th>\n",
       "      <td>5.250038e+17</td>\n",
       "      <td>1</td>\n",
       "      <td>2014-10-22 19:20:41</td>\n",
       "      <td>@CTVNews @ctvsaskatoon so what happened at Rid...</td>\n",
       "      <td>0</td>\n",
       "      <td>train</td>\n",
       "    </tr>\n",
       "  </tbody>\n",
       "</table>\n",
       "</div>"
      ],
      "text/plain": [
       "             id label            datetime  \\\n",
       "0  5.249902e+17     0 2014-10-22 18:26:23   \n",
       "1  5.249906e+17     0 2014-10-22 18:27:58   \n",
       "2  5.249908e+17     1 2014-10-22 18:28:46   \n",
       "3  5.249927e+17     1 2014-10-22 18:36:29   \n",
       "4  5.250038e+17     1 2014-10-22 19:20:41   \n",
       "\n",
       "                                                text timeline_id    set  \n",
       "0  Police have clarified that there were two shoo...           0  train  \n",
       "1  @CTVNews you guys \"confirmed\" there were 3 sho...           0  train  \n",
       "2      @CTVNews get it right. http://t.co/GHYxMuzPG9           0  train  \n",
       "3  RT @CTVNews Police have clarified that there w...           0  train  \n",
       "4  @CTVNews @ctvsaskatoon so what happened at Rid...           0  train  "
      ]
     },
     "execution_count": 6,
     "metadata": {},
     "output_type": "execute_result"
    }
   ],
   "source": [
    "df_rumours.head()"
   ]
  },
  {
   "cell_type": "markdown",
   "id": "da4ff92d",
   "metadata": {},
   "source": [
    "# swmhau Network"
   ]
  },
  {
   "cell_type": "code",
   "execution_count": 7,
   "id": "90bfd87c",
   "metadata": {},
   "outputs": [],
   "source": [
    "features = [\"time_encoding\", \"timeline_index\"]\n",
    "standardise_method = [\"z_score\", None]\n",
    "include_features_in_path = True\n",
    "include_features_in_input = False"
   ]
  },
  {
   "cell_type": "code",
   "execution_count": 8,
   "id": "9e9bee3b",
   "metadata": {},
   "outputs": [],
   "source": [
    "num_epochs = 100\n",
    "dimensions = [15]\n",
    "# define swmhau parameters: (output_channels, sig_depth, num_heads)\n",
    "swmhau_parameters = [(12, 3, 10), (8, 4, 6)]\n",
    "num_layers = [1]\n",
    "ffn_hidden_dim_sizes = [[256, 256], [512, 512]]\n",
    "dropout_rates = [0.1, 0.2]\n",
    "learning_rates = [1e-3, 1e-4, 5e-4]\n",
    "seeds = [1, 12, 123]\n",
    "loss = \"focal\"\n",
    "gamma = 2\n",
    "validation_metric = \"f1\"\n",
    "patience = 5"
   ]
  },
  {
   "cell_type": "code",
   "execution_count": 9,
   "id": "f3085d4a",
   "metadata": {},
   "outputs": [],
   "source": [
    "kwargs = {\n",
    "    \"num_epochs\": num_epochs,\n",
    "    \"df\": df_rumours,\n",
    "    \"id_column\": \"timeline_id\",\n",
    "    \"label_column\": \"label\",\n",
    "    \"embeddings\": sbert_embeddings,\n",
    "    \"y_data\": y_data,\n",
    "    \"output_dim\": output_dim,\n",
    "    \"dimensions\": dimensions,\n",
    "    \"log_signature\": True,\n",
    "    \"pooling\": \"cls\",\n",
    "    \"swmhau_parameters\": swmhau_parameters,\n",
    "    \"num_layers\": num_layers,\n",
    "    \"ffn_hidden_dim_sizes\": ffn_hidden_dim_sizes,\n",
    "    \"dropout_rates\": dropout_rates,\n",
    "    \"learning_rates\": learning_rates,\n",
    "    \"seeds\": seeds,\n",
    "    \"loss\": loss,\n",
    "    \"gamma\": gamma,\n",
    "    \"device\": device,\n",
    "    \"features\": features,\n",
    "    \"standardise_method\": standardise_method,\n",
    "    \"include_features_in_path\": include_features_in_path,\n",
    "    \"include_features_in_input\": include_features_in_input,\n",
    "    \"split_ids\": split_ids,\n",
    "    \"k_fold\": True,\n",
    "    \"patience\": patience,\n",
    "    \"validation_metric\": validation_metric,\n",
    "    \"verbose\": False,\n",
    "}"
   ]
  },
  {
   "cell_type": "markdown",
   "id": "f237ab7e-fd2f-48e7-87e5-ffb877dc9c8e",
   "metadata": {
    "tags": []
   },
   "source": [
    "# w=5"
   ]
  },
  {
   "cell_type": "code",
   "execution_count": 10,
   "id": "e0734996-d16e-4796-9ad4-6705104a7935",
   "metadata": {},
   "outputs": [],
   "source": [
    "size = 5"
   ]
  },
  {
   "cell_type": "markdown",
   "id": "89a4bcc6-f9e4-4763-9bdf-b21003d5d257",
   "metadata": {},
   "source": [
    "## UMAP"
   ]
  },
  {
   "cell_type": "code",
   "execution_count": 11,
   "id": "3739e09a",
   "metadata": {
    "tags": []
   },
   "outputs": [
    {
     "data": {
      "application/vnd.jupyter.widget-view+json": {
       "model_id": "b0b4c85f83d947e7b3f0adec2901ec3f",
       "version_major": 2,
       "version_minor": 0
      },
      "text/plain": [
       "  0%|          | 0/1 [00:00<?, ?it/s]"
      ]
     },
     "metadata": {},
     "output_type": "display_data"
    },
    {
     "data": {
      "application/vnd.jupyter.widget-view+json": {
       "model_id": "f9153d2262914340914eae8d7db228f6",
       "version_major": 2,
       "version_minor": 0
      },
      "text/plain": [
       "  0%|          | 0/1 [00:00<?, ?it/s]"
      ]
     },
     "metadata": {},
     "output_type": "display_data"
    },
    {
     "data": {
      "application/vnd.jupyter.widget-view+json": {
       "model_id": "b295967f1ca04d248a9d0927e06ce297",
       "version_major": 2,
       "version_minor": 0
      },
      "text/plain": [
       "  0%|          | 0/1 [00:00<?, ?it/s]"
      ]
     },
     "metadata": {},
     "output_type": "display_data"
    },
    {
     "name": "stdout",
     "output_type": "stream",
     "text": [
      "\n",
      "##################################################\n",
      "dimension: 15 | method: umap\n",
      "[INFO] Concatenating the embeddings to the dataframe...\n",
      "[INFO] - columns beginning with 'e' denote the full embddings.\n",
      "[INFO] - columns beginning with 'd' denote the dimension reduced embeddings.\n",
      "[INFO] Adding time feature columns into dataframe in `.df`.\n",
      "[INFO] Adding 'time_encoding' feature...\n",
      "[INFO] Adding 'time_diff' feature...\n",
      "[INFO] Adding 'timeline_index' feature...\n",
      "[INFO] Padding ids and storing in `.df_padded` and `.array_padded` attributes.\n"
     ]
    },
    {
     "data": {
      "application/vnd.jupyter.widget-view+json": {
       "model_id": "84b4d2a927eb40e3b400ed5cf3ef3eab",
       "version_major": 2,
       "version_minor": 0
      },
      "text/plain": [
       "  0%|          | 0/5568 [00:00<?, ?it/s]"
      ]
     },
     "metadata": {},
     "output_type": "display_data"
    },
    {
     "name": "stdout",
     "output_type": "stream",
     "text": [
      "[INFO] The path was created for each item in the dataframe, by looking at its history, so to include embeddings in the FFN input, we concatenate the embeddings for each sentence / text.\n"
     ]
    },
    {
     "data": {
      "application/vnd.jupyter.widget-view+json": {
       "model_id": "2f432df2d1914e2ca7d3ec8f6d735332",
       "version_major": 2,
       "version_minor": 0
      },
      "text/plain": [
       "  0%|          | 0/2 [00:00<?, ?it/s]"
      ]
     },
     "metadata": {},
     "output_type": "display_data"
    },
    {
     "data": {
      "application/vnd.jupyter.widget-view+json": {
       "model_id": "233e3a8aae5344a0bb06dde91208eade",
       "version_major": 2,
       "version_minor": 0
      },
      "text/plain": [
       "  0%|          | 0/1 [00:00<?, ?it/s]"
      ]
     },
     "metadata": {},
     "output_type": "display_data"
    },
    {
     "data": {
      "application/vnd.jupyter.widget-view+json": {
       "model_id": "adffb443b23b4940b3ca64d8d26e3f0c",
       "version_major": 2,
       "version_minor": 0
      },
      "text/plain": [
       "  0%|          | 0/2 [00:00<?, ?it/s]"
      ]
     },
     "metadata": {},
     "output_type": "display_data"
    },
    {
     "data": {
      "application/vnd.jupyter.widget-view+json": {
       "model_id": "dd87ce8f484e45d89353fef33a9d156c",
       "version_major": 2,
       "version_minor": 0
      },
      "text/plain": [
       "  0%|          | 0/2 [00:00<?, ?it/s]"
      ]
     },
     "metadata": {},
     "output_type": "display_data"
    },
    {
     "data": {
      "application/vnd.jupyter.widget-view+json": {
       "model_id": "c84c2be8ddc04d7db93e900abe888df2",
       "version_major": 2,
       "version_minor": 0
      },
      "text/plain": [
       "  0%|          | 0/3 [00:00<?, ?it/s]"
      ]
     },
     "metadata": {},
     "output_type": "display_data"
    },
    {
     "data": {
      "application/vnd.jupyter.widget-view+json": {
       "model_id": "14db5e04db0f4ee4862d0d9d36854b6f",
       "version_major": 2,
       "version_minor": 0
      },
      "text/plain": [
       "  0%|          | 0/3 [00:00<?, ?it/s]"
      ]
     },
     "metadata": {},
     "output_type": "display_data"
    },
    {
     "data": {
      "application/vnd.jupyter.widget-view+json": {
       "model_id": "4975e2dbb0284b2cb68d6a6180d1a688",
       "version_major": 2,
       "version_minor": 0
      },
      "text/plain": [
       "  0%|          | 0/2 [00:00<?, ?it/s]"
      ]
     },
     "metadata": {},
     "output_type": "display_data"
    },
    {
     "data": {
      "application/vnd.jupyter.widget-view+json": {
       "model_id": "c5620de093ee47d5a7013d2c000f8aed",
       "version_major": 2,
       "version_minor": 0
      },
      "text/plain": [
       "  0%|          | 0/3 [00:00<?, ?it/s]"
      ]
     },
     "metadata": {},
     "output_type": "display_data"
    },
    {
     "data": {
      "application/vnd.jupyter.widget-view+json": {
       "model_id": "b00652de52f648249f0de3cdd7c81cad",
       "version_major": 2,
       "version_minor": 0
      },
      "text/plain": [
       "  0%|          | 0/3 [00:00<?, ?it/s]"
      ]
     },
     "metadata": {},
     "output_type": "display_data"
    },
    {
     "data": {
      "application/vnd.jupyter.widget-view+json": {
       "model_id": "9dc703d299e74020b0e621217eb49986",
       "version_major": 2,
       "version_minor": 0
      },
      "text/plain": [
       "  0%|          | 0/1 [00:00<?, ?it/s]"
      ]
     },
     "metadata": {},
     "output_type": "display_data"
    },
    {
     "data": {
      "application/vnd.jupyter.widget-view+json": {
       "model_id": "222ea6e1fc054747ae21ded03ece8b45",
       "version_major": 2,
       "version_minor": 0
      },
      "text/plain": [
       "  0%|          | 0/2 [00:00<?, ?it/s]"
      ]
     },
     "metadata": {},
     "output_type": "display_data"
    },
    {
     "data": {
      "application/vnd.jupyter.widget-view+json": {
       "model_id": "0185fef91e324a16a88a70c8e11f3475",
       "version_major": 2,
       "version_minor": 0
      },
      "text/plain": [
       "  0%|          | 0/2 [00:00<?, ?it/s]"
      ]
     },
     "metadata": {},
     "output_type": "display_data"
    },
    {
     "data": {
      "application/vnd.jupyter.widget-view+json": {
       "model_id": "bdecf41c48ca4733ac09afa27d3cc55f",
       "version_major": 2,
       "version_minor": 0
      },
      "text/plain": [
       "  0%|          | 0/3 [00:00<?, ?it/s]"
      ]
     },
     "metadata": {},
     "output_type": "display_data"
    },
    {
     "data": {
      "application/vnd.jupyter.widget-view+json": {
       "model_id": "13d5bb310f234e59af8ba6a6d996740e",
       "version_major": 2,
       "version_minor": 0
      },
      "text/plain": [
       "  0%|          | 0/3 [00:00<?, ?it/s]"
      ]
     },
     "metadata": {},
     "output_type": "display_data"
    },
    {
     "data": {
      "application/vnd.jupyter.widget-view+json": {
       "model_id": "b4edc28cc2ba401a8bff7740d91688ce",
       "version_major": 2,
       "version_minor": 0
      },
      "text/plain": [
       "  0%|          | 0/2 [00:00<?, ?it/s]"
      ]
     },
     "metadata": {},
     "output_type": "display_data"
    },
    {
     "data": {
      "application/vnd.jupyter.widget-view+json": {
       "model_id": "b01e3d4a1e8f496eabb543702af71b74",
       "version_major": 2,
       "version_minor": 0
      },
      "text/plain": [
       "  0%|          | 0/3 [00:00<?, ?it/s]"
      ]
     },
     "metadata": {},
     "output_type": "display_data"
    },
    {
     "data": {
      "application/vnd.jupyter.widget-view+json": {
       "model_id": "0263ae4f1b2f47b3bbf69288b3a2c45a",
       "version_major": 2,
       "version_minor": 0
      },
      "text/plain": [
       "  0%|          | 0/3 [00:00<?, ?it/s]"
      ]
     },
     "metadata": {},
     "output_type": "display_data"
    },
    {
     "name": "stdout",
     "output_type": "stream",
     "text": [
      "[INFO] Concatenating the embeddings to the dataframe...\n",
      "[INFO] - columns beginning with 'e' denote the full embddings.\n",
      "[INFO] - columns beginning with 'd' denote the dimension reduced embeddings.\n",
      "[INFO] Adding time feature columns into dataframe in `.df`.\n",
      "[INFO] Adding 'time_encoding' feature...\n",
      "[INFO] Adding 'time_diff' feature...\n",
      "[INFO] Adding 'timeline_index' feature...\n",
      "[INFO] Padding ids and storing in `.df_padded` and `.array_padded` attributes.\n"
     ]
    },
    {
     "data": {
      "application/vnd.jupyter.widget-view+json": {
       "model_id": "9e1d9578c5f049a6b0449b319075654a",
       "version_major": 2,
       "version_minor": 0
      },
      "text/plain": [
       "  0%|          | 0/5568 [00:00<?, ?it/s]"
      ]
     },
     "metadata": {},
     "output_type": "display_data"
    },
    {
     "name": "stdout",
     "output_type": "stream",
     "text": [
      "[INFO] The path was created for each item in the dataframe, by looking at its history, so to include embeddings in the FFN input, we concatenate the embeddings for each sentence / text.\n",
      "saving results dataframe to CSV for this hyperparameter search in rumours_output/swmhau_network_umap_focal_2_5_cls_kfold.csv\n",
      "saving the best model results dataframe to CSV for this hyperparameter search in rumours_output/swmhau_network_umap_focal_2_5_cls_kfold_best_model.csv\n"
     ]
    }
   ],
   "source": [
    "(\n",
    "    swmhau_network_umap_kfold_5,\n",
    "    best_swmhau_network_umap_kfold_5,\n",
    "    _,\n",
    "    __,\n",
    ") = swmhau_network_hyperparameter_search(\n",
    "    history_lengths=[size],\n",
    "    dim_reduce_methods=[\"umap\"],\n",
    "    results_output=f\"{output_dir}/swmhau_network_umap_focal_{gamma}_{size}_cls_kfold.csv\",\n",
    "    **kwargs,\n",
    ")"
   ]
  },
  {
   "cell_type": "code",
   "execution_count": 12,
   "id": "db912cd7-e74a-4893-987b-037b69c1fec8",
   "metadata": {},
   "outputs": [
    {
     "name": "stderr",
     "output_type": "stream",
     "text": [
      "/tmp/ipykernel_2017604/888675771.py:1: FutureWarning: The default value of numeric_only in DataFrameGroupBy.mean is deprecated. In a future version, numeric_only will default to False. Either specify numeric_only or select only columns which should be valid for the function.\n",
      "  swmhau_network_umap_kfold_5.groupby(\n"
     ]
    },
    {
     "data": {
      "text/html": [
       "<div>\n",
       "<style scoped>\n",
       "    .dataframe tbody tr th:only-of-type {\n",
       "        vertical-align: middle;\n",
       "    }\n",
       "\n",
       "    .dataframe tbody tr th {\n",
       "        vertical-align: top;\n",
       "    }\n",
       "\n",
       "    .dataframe thead th {\n",
       "        text-align: right;\n",
       "    }\n",
       "</style>\n",
       "<table border=\"1\" class=\"dataframe\">\n",
       "  <thead>\n",
       "    <tr style=\"text-align: right;\">\n",
       "      <th></th>\n",
       "      <th></th>\n",
       "      <th></th>\n",
       "      <th></th>\n",
       "      <th></th>\n",
       "      <th></th>\n",
       "      <th></th>\n",
       "      <th>accuracy</th>\n",
       "      <th>f1</th>\n",
       "      <th>precision</th>\n",
       "      <th>recall</th>\n",
       "      <th>valid_accuracy</th>\n",
       "      <th>valid_f1</th>\n",
       "      <th>valid_precision</th>\n",
       "      <th>valid_recall</th>\n",
       "      <th>k</th>\n",
       "      <th>input_channels</th>\n",
       "      <th>...</th>\n",
       "      <th>embedding_dim</th>\n",
       "      <th>num_features</th>\n",
       "      <th>log_signature</th>\n",
       "      <th>dropout_rate</th>\n",
       "      <th>seed</th>\n",
       "      <th>gamma</th>\n",
       "      <th>k_fold</th>\n",
       "      <th>n_splits</th>\n",
       "      <th>batch_size</th>\n",
       "      <th>model_id</th>\n",
       "    </tr>\n",
       "    <tr>\n",
       "      <th>dimensions</th>\n",
       "      <th>output_channels</th>\n",
       "      <th>sig_depth</th>\n",
       "      <th>num_heads</th>\n",
       "      <th>num_layers</th>\n",
       "      <th>ffn_hidden_dim</th>\n",
       "      <th>learning_rate</th>\n",
       "      <th></th>\n",
       "      <th></th>\n",
       "      <th></th>\n",
       "      <th></th>\n",
       "      <th></th>\n",
       "      <th></th>\n",
       "      <th></th>\n",
       "      <th></th>\n",
       "      <th></th>\n",
       "      <th></th>\n",
       "      <th></th>\n",
       "      <th></th>\n",
       "      <th></th>\n",
       "      <th></th>\n",
       "      <th></th>\n",
       "      <th></th>\n",
       "      <th></th>\n",
       "      <th></th>\n",
       "      <th></th>\n",
       "      <th></th>\n",
       "      <th></th>\n",
       "    </tr>\n",
       "  </thead>\n",
       "  <tbody>\n",
       "    <tr>\n",
       "      <th rowspan=\"12\" valign=\"top\">15</th>\n",
       "      <th rowspan=\"6\" valign=\"top\">8</th>\n",
       "      <th rowspan=\"6\" valign=\"top\">4</th>\n",
       "      <th rowspan=\"6\" valign=\"top\">6</th>\n",
       "      <th rowspan=\"6\" valign=\"top\">1</th>\n",
       "      <th rowspan=\"3\" valign=\"top\">(256, 256)</th>\n",
       "      <th>0.0001</th>\n",
       "      <td>0.691146</td>\n",
       "      <td>0.656245</td>\n",
       "      <td>0.659198</td>\n",
       "      <td>0.654837</td>\n",
       "      <td>0.724154</td>\n",
       "      <td>0.700011</td>\n",
       "      <td>0.708177</td>\n",
       "      <td>0.696369</td>\n",
       "      <td>5.0</td>\n",
       "      <td>17.0</td>\n",
       "      <td>...</td>\n",
       "      <td>384.0</td>\n",
       "      <td>0.0</td>\n",
       "      <td>1.0</td>\n",
       "      <td>0.15</td>\n",
       "      <td>45.333333</td>\n",
       "      <td>2.0</td>\n",
       "      <td>1.0</td>\n",
       "      <td>5.0</td>\n",
       "      <td>64.0</td>\n",
       "      <td>14.5</td>\n",
       "    </tr>\n",
       "    <tr>\n",
       "      <th>0.0005</th>\n",
       "      <td>0.688630</td>\n",
       "      <td>0.653339</td>\n",
       "      <td>0.656090</td>\n",
       "      <td>0.651856</td>\n",
       "      <td>0.719706</td>\n",
       "      <td>0.695403</td>\n",
       "      <td>0.703224</td>\n",
       "      <td>0.691983</td>\n",
       "      <td>5.0</td>\n",
       "      <td>17.0</td>\n",
       "      <td>...</td>\n",
       "      <td>384.0</td>\n",
       "      <td>0.0</td>\n",
       "      <td>1.0</td>\n",
       "      <td>0.15</td>\n",
       "      <td>45.333333</td>\n",
       "      <td>2.0</td>\n",
       "      <td>1.0</td>\n",
       "      <td>5.0</td>\n",
       "      <td>64.0</td>\n",
       "      <td>15.5</td>\n",
       "    </tr>\n",
       "    <tr>\n",
       "      <th>0.0010</th>\n",
       "      <td>0.660671</td>\n",
       "      <td>0.584118</td>\n",
       "      <td>0.616932</td>\n",
       "      <td>0.589958</td>\n",
       "      <td>0.685065</td>\n",
       "      <td>0.638683</td>\n",
       "      <td>0.671456</td>\n",
       "      <td>0.637978</td>\n",
       "      <td>5.0</td>\n",
       "      <td>17.0</td>\n",
       "      <td>...</td>\n",
       "      <td>384.0</td>\n",
       "      <td>0.0</td>\n",
       "      <td>1.0</td>\n",
       "      <td>0.15</td>\n",
       "      <td>45.333333</td>\n",
       "      <td>2.0</td>\n",
       "      <td>1.0</td>\n",
       "      <td>5.0</td>\n",
       "      <td>64.0</td>\n",
       "      <td>13.5</td>\n",
       "    </tr>\n",
       "    <tr>\n",
       "      <th rowspan=\"3\" valign=\"top\">(512, 512)</th>\n",
       "      <th>0.0001</th>\n",
       "      <td>0.694905</td>\n",
       "      <td>0.657751</td>\n",
       "      <td>0.662248</td>\n",
       "      <td>0.655247</td>\n",
       "      <td>0.723278</td>\n",
       "      <td>0.696985</td>\n",
       "      <td>0.707772</td>\n",
       "      <td>0.692662</td>\n",
       "      <td>5.0</td>\n",
       "      <td>17.0</td>\n",
       "      <td>...</td>\n",
       "      <td>384.0</td>\n",
       "      <td>0.0</td>\n",
       "      <td>1.0</td>\n",
       "      <td>0.15</td>\n",
       "      <td>45.333333</td>\n",
       "      <td>2.0</td>\n",
       "      <td>1.0</td>\n",
       "      <td>5.0</td>\n",
       "      <td>64.0</td>\n",
       "      <td>20.5</td>\n",
       "    </tr>\n",
       "    <tr>\n",
       "      <th>0.0005</th>\n",
       "      <td>0.700000</td>\n",
       "      <td>0.654031</td>\n",
       "      <td>0.668076</td>\n",
       "      <td>0.649712</td>\n",
       "      <td>0.723233</td>\n",
       "      <td>0.690476</td>\n",
       "      <td>0.711836</td>\n",
       "      <td>0.685305</td>\n",
       "      <td>5.0</td>\n",
       "      <td>17.0</td>\n",
       "      <td>...</td>\n",
       "      <td>384.0</td>\n",
       "      <td>0.0</td>\n",
       "      <td>1.0</td>\n",
       "      <td>0.15</td>\n",
       "      <td>45.333333</td>\n",
       "      <td>2.0</td>\n",
       "      <td>1.0</td>\n",
       "      <td>5.0</td>\n",
       "      <td>64.0</td>\n",
       "      <td>21.5</td>\n",
       "    </tr>\n",
       "    <tr>\n",
       "      <th>0.0010</th>\n",
       "      <td>0.677415</td>\n",
       "      <td>0.584004</td>\n",
       "      <td>0.641559</td>\n",
       "      <td>0.597750</td>\n",
       "      <td>0.679898</td>\n",
       "      <td>0.607341</td>\n",
       "      <td>0.677561</td>\n",
       "      <td>0.620903</td>\n",
       "      <td>5.0</td>\n",
       "      <td>17.0</td>\n",
       "      <td>...</td>\n",
       "      <td>384.0</td>\n",
       "      <td>0.0</td>\n",
       "      <td>1.0</td>\n",
       "      <td>0.15</td>\n",
       "      <td>45.333333</td>\n",
       "      <td>2.0</td>\n",
       "      <td>1.0</td>\n",
       "      <td>5.0</td>\n",
       "      <td>64.0</td>\n",
       "      <td>19.5</td>\n",
       "    </tr>\n",
       "    <tr>\n",
       "      <th rowspan=\"6\" valign=\"top\">12</th>\n",
       "      <th rowspan=\"6\" valign=\"top\">3</th>\n",
       "      <th rowspan=\"6\" valign=\"top\">10</th>\n",
       "      <th rowspan=\"6\" valign=\"top\">1</th>\n",
       "      <th rowspan=\"3\" valign=\"top\">(256, 256)</th>\n",
       "      <th>0.0001</th>\n",
       "      <td>0.695993</td>\n",
       "      <td>0.659557</td>\n",
       "      <td>0.663829</td>\n",
       "      <td>0.657416</td>\n",
       "      <td>0.726805</td>\n",
       "      <td>0.700466</td>\n",
       "      <td>0.711648</td>\n",
       "      <td>0.695965</td>\n",
       "      <td>5.0</td>\n",
       "      <td>17.0</td>\n",
       "      <td>...</td>\n",
       "      <td>384.0</td>\n",
       "      <td>0.0</td>\n",
       "      <td>1.0</td>\n",
       "      <td>0.15</td>\n",
       "      <td>45.333333</td>\n",
       "      <td>2.0</td>\n",
       "      <td>1.0</td>\n",
       "      <td>5.0</td>\n",
       "      <td>64.0</td>\n",
       "      <td>2.5</td>\n",
       "    </tr>\n",
       "    <tr>\n",
       "      <th>0.0005</th>\n",
       "      <td>0.694595</td>\n",
       "      <td>0.658158</td>\n",
       "      <td>0.662449</td>\n",
       "      <td>0.656320</td>\n",
       "      <td>0.725233</td>\n",
       "      <td>0.699238</td>\n",
       "      <td>0.710197</td>\n",
       "      <td>0.694932</td>\n",
       "      <td>5.0</td>\n",
       "      <td>17.0</td>\n",
       "      <td>...</td>\n",
       "      <td>384.0</td>\n",
       "      <td>0.0</td>\n",
       "      <td>1.0</td>\n",
       "      <td>0.15</td>\n",
       "      <td>45.333333</td>\n",
       "      <td>2.0</td>\n",
       "      <td>1.0</td>\n",
       "      <td>5.0</td>\n",
       "      <td>64.0</td>\n",
       "      <td>3.5</td>\n",
       "    </tr>\n",
       "    <tr>\n",
       "      <th>0.0010</th>\n",
       "      <td>0.695092</td>\n",
       "      <td>0.657005</td>\n",
       "      <td>0.661997</td>\n",
       "      <td>0.654242</td>\n",
       "      <td>0.723345</td>\n",
       "      <td>0.697615</td>\n",
       "      <td>0.707215</td>\n",
       "      <td>0.693271</td>\n",
       "      <td>5.0</td>\n",
       "      <td>17.0</td>\n",
       "      <td>...</td>\n",
       "      <td>384.0</td>\n",
       "      <td>0.0</td>\n",
       "      <td>1.0</td>\n",
       "      <td>0.15</td>\n",
       "      <td>45.333333</td>\n",
       "      <td>2.0</td>\n",
       "      <td>1.0</td>\n",
       "      <td>5.0</td>\n",
       "      <td>64.0</td>\n",
       "      <td>1.5</td>\n",
       "    </tr>\n",
       "    <tr>\n",
       "      <th rowspan=\"3\" valign=\"top\">(512, 512)</th>\n",
       "      <th>0.0001</th>\n",
       "      <td>0.693166</td>\n",
       "      <td>0.654349</td>\n",
       "      <td>0.659824</td>\n",
       "      <td>0.651510</td>\n",
       "      <td>0.729613</td>\n",
       "      <td>0.701661</td>\n",
       "      <td>0.715795</td>\n",
       "      <td>0.696468</td>\n",
       "      <td>5.0</td>\n",
       "      <td>17.0</td>\n",
       "      <td>...</td>\n",
       "      <td>384.0</td>\n",
       "      <td>0.0</td>\n",
       "      <td>1.0</td>\n",
       "      <td>0.15</td>\n",
       "      <td>45.333333</td>\n",
       "      <td>2.0</td>\n",
       "      <td>1.0</td>\n",
       "      <td>5.0</td>\n",
       "      <td>64.0</td>\n",
       "      <td>8.5</td>\n",
       "    </tr>\n",
       "    <tr>\n",
       "      <th>0.0005</th>\n",
       "      <td>0.692482</td>\n",
       "      <td>0.658667</td>\n",
       "      <td>0.660838</td>\n",
       "      <td>0.657505</td>\n",
       "      <td>0.722087</td>\n",
       "      <td>0.699080</td>\n",
       "      <td>0.705442</td>\n",
       "      <td>0.695932</td>\n",
       "      <td>5.0</td>\n",
       "      <td>17.0</td>\n",
       "      <td>...</td>\n",
       "      <td>384.0</td>\n",
       "      <td>0.0</td>\n",
       "      <td>1.0</td>\n",
       "      <td>0.15</td>\n",
       "      <td>45.333333</td>\n",
       "      <td>2.0</td>\n",
       "      <td>1.0</td>\n",
       "      <td>5.0</td>\n",
       "      <td>64.0</td>\n",
       "      <td>9.5</td>\n",
       "    </tr>\n",
       "    <tr>\n",
       "      <th>0.0010</th>\n",
       "      <td>0.703883</td>\n",
       "      <td>0.656664</td>\n",
       "      <td>0.672467</td>\n",
       "      <td>0.652042</td>\n",
       "      <td>0.723615</td>\n",
       "      <td>0.689777</td>\n",
       "      <td>0.712477</td>\n",
       "      <td>0.684470</td>\n",
       "      <td>5.0</td>\n",
       "      <td>17.0</td>\n",
       "      <td>...</td>\n",
       "      <td>384.0</td>\n",
       "      <td>0.0</td>\n",
       "      <td>1.0</td>\n",
       "      <td>0.15</td>\n",
       "      <td>45.333333</td>\n",
       "      <td>2.0</td>\n",
       "      <td>1.0</td>\n",
       "      <td>5.0</td>\n",
       "      <td>64.0</td>\n",
       "      <td>7.5</td>\n",
       "    </tr>\n",
       "  </tbody>\n",
       "</table>\n",
       "<p>12 rows × 22 columns</p>\n",
       "</div>"
      ],
      "text/plain": [
       "                                                                                        accuracy  \\\n",
       "dimensions output_channels sig_depth num_heads num_layers ffn_hidden_dim learning_rate             \n",
       "15         8               4         6         1          (256, 256)     0.0001         0.691146   \n",
       "                                                                         0.0005         0.688630   \n",
       "                                                                         0.0010         0.660671   \n",
       "                                                          (512, 512)     0.0001         0.694905   \n",
       "                                                                         0.0005         0.700000   \n",
       "                                                                         0.0010         0.677415   \n",
       "           12              3         10        1          (256, 256)     0.0001         0.695993   \n",
       "                                                                         0.0005         0.694595   \n",
       "                                                                         0.0010         0.695092   \n",
       "                                                          (512, 512)     0.0001         0.693166   \n",
       "                                                                         0.0005         0.692482   \n",
       "                                                                         0.0010         0.703883   \n",
       "\n",
       "                                                                                              f1  \\\n",
       "dimensions output_channels sig_depth num_heads num_layers ffn_hidden_dim learning_rate             \n",
       "15         8               4         6         1          (256, 256)     0.0001         0.656245   \n",
       "                                                                         0.0005         0.653339   \n",
       "                                                                         0.0010         0.584118   \n",
       "                                                          (512, 512)     0.0001         0.657751   \n",
       "                                                                         0.0005         0.654031   \n",
       "                                                                         0.0010         0.584004   \n",
       "           12              3         10        1          (256, 256)     0.0001         0.659557   \n",
       "                                                                         0.0005         0.658158   \n",
       "                                                                         0.0010         0.657005   \n",
       "                                                          (512, 512)     0.0001         0.654349   \n",
       "                                                                         0.0005         0.658667   \n",
       "                                                                         0.0010         0.656664   \n",
       "\n",
       "                                                                                        precision  \\\n",
       "dimensions output_channels sig_depth num_heads num_layers ffn_hidden_dim learning_rate              \n",
       "15         8               4         6         1          (256, 256)     0.0001          0.659198   \n",
       "                                                                         0.0005          0.656090   \n",
       "                                                                         0.0010          0.616932   \n",
       "                                                          (512, 512)     0.0001          0.662248   \n",
       "                                                                         0.0005          0.668076   \n",
       "                                                                         0.0010          0.641559   \n",
       "           12              3         10        1          (256, 256)     0.0001          0.663829   \n",
       "                                                                         0.0005          0.662449   \n",
       "                                                                         0.0010          0.661997   \n",
       "                                                          (512, 512)     0.0001          0.659824   \n",
       "                                                                         0.0005          0.660838   \n",
       "                                                                         0.0010          0.672467   \n",
       "\n",
       "                                                                                          recall  \\\n",
       "dimensions output_channels sig_depth num_heads num_layers ffn_hidden_dim learning_rate             \n",
       "15         8               4         6         1          (256, 256)     0.0001         0.654837   \n",
       "                                                                         0.0005         0.651856   \n",
       "                                                                         0.0010         0.589958   \n",
       "                                                          (512, 512)     0.0001         0.655247   \n",
       "                                                                         0.0005         0.649712   \n",
       "                                                                         0.0010         0.597750   \n",
       "           12              3         10        1          (256, 256)     0.0001         0.657416   \n",
       "                                                                         0.0005         0.656320   \n",
       "                                                                         0.0010         0.654242   \n",
       "                                                          (512, 512)     0.0001         0.651510   \n",
       "                                                                         0.0005         0.657505   \n",
       "                                                                         0.0010         0.652042   \n",
       "\n",
       "                                                                                        valid_accuracy  \\\n",
       "dimensions output_channels sig_depth num_heads num_layers ffn_hidden_dim learning_rate                   \n",
       "15         8               4         6         1          (256, 256)     0.0001               0.724154   \n",
       "                                                                         0.0005               0.719706   \n",
       "                                                                         0.0010               0.685065   \n",
       "                                                          (512, 512)     0.0001               0.723278   \n",
       "                                                                         0.0005               0.723233   \n",
       "                                                                         0.0010               0.679898   \n",
       "           12              3         10        1          (256, 256)     0.0001               0.726805   \n",
       "                                                                         0.0005               0.725233   \n",
       "                                                                         0.0010               0.723345   \n",
       "                                                          (512, 512)     0.0001               0.729613   \n",
       "                                                                         0.0005               0.722087   \n",
       "                                                                         0.0010               0.723615   \n",
       "\n",
       "                                                                                        valid_f1  \\\n",
       "dimensions output_channels sig_depth num_heads num_layers ffn_hidden_dim learning_rate             \n",
       "15         8               4         6         1          (256, 256)     0.0001         0.700011   \n",
       "                                                                         0.0005         0.695403   \n",
       "                                                                         0.0010         0.638683   \n",
       "                                                          (512, 512)     0.0001         0.696985   \n",
       "                                                                         0.0005         0.690476   \n",
       "                                                                         0.0010         0.607341   \n",
       "           12              3         10        1          (256, 256)     0.0001         0.700466   \n",
       "                                                                         0.0005         0.699238   \n",
       "                                                                         0.0010         0.697615   \n",
       "                                                          (512, 512)     0.0001         0.701661   \n",
       "                                                                         0.0005         0.699080   \n",
       "                                                                         0.0010         0.689777   \n",
       "\n",
       "                                                                                        valid_precision  \\\n",
       "dimensions output_channels sig_depth num_heads num_layers ffn_hidden_dim learning_rate                    \n",
       "15         8               4         6         1          (256, 256)     0.0001                0.708177   \n",
       "                                                                         0.0005                0.703224   \n",
       "                                                                         0.0010                0.671456   \n",
       "                                                          (512, 512)     0.0001                0.707772   \n",
       "                                                                         0.0005                0.711836   \n",
       "                                                                         0.0010                0.677561   \n",
       "           12              3         10        1          (256, 256)     0.0001                0.711648   \n",
       "                                                                         0.0005                0.710197   \n",
       "                                                                         0.0010                0.707215   \n",
       "                                                          (512, 512)     0.0001                0.715795   \n",
       "                                                                         0.0005                0.705442   \n",
       "                                                                         0.0010                0.712477   \n",
       "\n",
       "                                                                                        valid_recall  \\\n",
       "dimensions output_channels sig_depth num_heads num_layers ffn_hidden_dim learning_rate                 \n",
       "15         8               4         6         1          (256, 256)     0.0001             0.696369   \n",
       "                                                                         0.0005             0.691983   \n",
       "                                                                         0.0010             0.637978   \n",
       "                                                          (512, 512)     0.0001             0.692662   \n",
       "                                                                         0.0005             0.685305   \n",
       "                                                                         0.0010             0.620903   \n",
       "           12              3         10        1          (256, 256)     0.0001             0.695965   \n",
       "                                                                         0.0005             0.694932   \n",
       "                                                                         0.0010             0.693271   \n",
       "                                                          (512, 512)     0.0001             0.696468   \n",
       "                                                                         0.0005             0.695932   \n",
       "                                                                         0.0010             0.684470   \n",
       "\n",
       "                                                                                          k  \\\n",
       "dimensions output_channels sig_depth num_heads num_layers ffn_hidden_dim learning_rate        \n",
       "15         8               4         6         1          (256, 256)     0.0001         5.0   \n",
       "                                                                         0.0005         5.0   \n",
       "                                                                         0.0010         5.0   \n",
       "                                                          (512, 512)     0.0001         5.0   \n",
       "                                                                         0.0005         5.0   \n",
       "                                                                         0.0010         5.0   \n",
       "           12              3         10        1          (256, 256)     0.0001         5.0   \n",
       "                                                                         0.0005         5.0   \n",
       "                                                                         0.0010         5.0   \n",
       "                                                          (512, 512)     0.0001         5.0   \n",
       "                                                                         0.0005         5.0   \n",
       "                                                                         0.0010         5.0   \n",
       "\n",
       "                                                                                        input_channels  \\\n",
       "dimensions output_channels sig_depth num_heads num_layers ffn_hidden_dim learning_rate                   \n",
       "15         8               4         6         1          (256, 256)     0.0001                   17.0   \n",
       "                                                                         0.0005                   17.0   \n",
       "                                                                         0.0010                   17.0   \n",
       "                                                          (512, 512)     0.0001                   17.0   \n",
       "                                                                         0.0005                   17.0   \n",
       "                                                                         0.0010                   17.0   \n",
       "           12              3         10        1          (256, 256)     0.0001                   17.0   \n",
       "                                                                         0.0005                   17.0   \n",
       "                                                                         0.0010                   17.0   \n",
       "                                                          (512, 512)     0.0001                   17.0   \n",
       "                                                                         0.0005                   17.0   \n",
       "                                                                         0.0010                   17.0   \n",
       "\n",
       "                                                                                        ...  \\\n",
       "dimensions output_channels sig_depth num_heads num_layers ffn_hidden_dim learning_rate  ...   \n",
       "15         8               4         6         1          (256, 256)     0.0001         ...   \n",
       "                                                                         0.0005         ...   \n",
       "                                                                         0.0010         ...   \n",
       "                                                          (512, 512)     0.0001         ...   \n",
       "                                                                         0.0005         ...   \n",
       "                                                                         0.0010         ...   \n",
       "           12              3         10        1          (256, 256)     0.0001         ...   \n",
       "                                                                         0.0005         ...   \n",
       "                                                                         0.0010         ...   \n",
       "                                                          (512, 512)     0.0001         ...   \n",
       "                                                                         0.0005         ...   \n",
       "                                                                         0.0010         ...   \n",
       "\n",
       "                                                                                        embedding_dim  \\\n",
       "dimensions output_channels sig_depth num_heads num_layers ffn_hidden_dim learning_rate                  \n",
       "15         8               4         6         1          (256, 256)     0.0001                 384.0   \n",
       "                                                                         0.0005                 384.0   \n",
       "                                                                         0.0010                 384.0   \n",
       "                                                          (512, 512)     0.0001                 384.0   \n",
       "                                                                         0.0005                 384.0   \n",
       "                                                                         0.0010                 384.0   \n",
       "           12              3         10        1          (256, 256)     0.0001                 384.0   \n",
       "                                                                         0.0005                 384.0   \n",
       "                                                                         0.0010                 384.0   \n",
       "                                                          (512, 512)     0.0001                 384.0   \n",
       "                                                                         0.0005                 384.0   \n",
       "                                                                         0.0010                 384.0   \n",
       "\n",
       "                                                                                        num_features  \\\n",
       "dimensions output_channels sig_depth num_heads num_layers ffn_hidden_dim learning_rate                 \n",
       "15         8               4         6         1          (256, 256)     0.0001                  0.0   \n",
       "                                                                         0.0005                  0.0   \n",
       "                                                                         0.0010                  0.0   \n",
       "                                                          (512, 512)     0.0001                  0.0   \n",
       "                                                                         0.0005                  0.0   \n",
       "                                                                         0.0010                  0.0   \n",
       "           12              3         10        1          (256, 256)     0.0001                  0.0   \n",
       "                                                                         0.0005                  0.0   \n",
       "                                                                         0.0010                  0.0   \n",
       "                                                          (512, 512)     0.0001                  0.0   \n",
       "                                                                         0.0005                  0.0   \n",
       "                                                                         0.0010                  0.0   \n",
       "\n",
       "                                                                                        log_signature  \\\n",
       "dimensions output_channels sig_depth num_heads num_layers ffn_hidden_dim learning_rate                  \n",
       "15         8               4         6         1          (256, 256)     0.0001                   1.0   \n",
       "                                                                         0.0005                   1.0   \n",
       "                                                                         0.0010                   1.0   \n",
       "                                                          (512, 512)     0.0001                   1.0   \n",
       "                                                                         0.0005                   1.0   \n",
       "                                                                         0.0010                   1.0   \n",
       "           12              3         10        1          (256, 256)     0.0001                   1.0   \n",
       "                                                                         0.0005                   1.0   \n",
       "                                                                         0.0010                   1.0   \n",
       "                                                          (512, 512)     0.0001                   1.0   \n",
       "                                                                         0.0005                   1.0   \n",
       "                                                                         0.0010                   1.0   \n",
       "\n",
       "                                                                                        dropout_rate  \\\n",
       "dimensions output_channels sig_depth num_heads num_layers ffn_hidden_dim learning_rate                 \n",
       "15         8               4         6         1          (256, 256)     0.0001                 0.15   \n",
       "                                                                         0.0005                 0.15   \n",
       "                                                                         0.0010                 0.15   \n",
       "                                                          (512, 512)     0.0001                 0.15   \n",
       "                                                                         0.0005                 0.15   \n",
       "                                                                         0.0010                 0.15   \n",
       "           12              3         10        1          (256, 256)     0.0001                 0.15   \n",
       "                                                                         0.0005                 0.15   \n",
       "                                                                         0.0010                 0.15   \n",
       "                                                          (512, 512)     0.0001                 0.15   \n",
       "                                                                         0.0005                 0.15   \n",
       "                                                                         0.0010                 0.15   \n",
       "\n",
       "                                                                                             seed  \\\n",
       "dimensions output_channels sig_depth num_heads num_layers ffn_hidden_dim learning_rate              \n",
       "15         8               4         6         1          (256, 256)     0.0001         45.333333   \n",
       "                                                                         0.0005         45.333333   \n",
       "                                                                         0.0010         45.333333   \n",
       "                                                          (512, 512)     0.0001         45.333333   \n",
       "                                                                         0.0005         45.333333   \n",
       "                                                                         0.0010         45.333333   \n",
       "           12              3         10        1          (256, 256)     0.0001         45.333333   \n",
       "                                                                         0.0005         45.333333   \n",
       "                                                                         0.0010         45.333333   \n",
       "                                                          (512, 512)     0.0001         45.333333   \n",
       "                                                                         0.0005         45.333333   \n",
       "                                                                         0.0010         45.333333   \n",
       "\n",
       "                                                                                        gamma  \\\n",
       "dimensions output_channels sig_depth num_heads num_layers ffn_hidden_dim learning_rate          \n",
       "15         8               4         6         1          (256, 256)     0.0001           2.0   \n",
       "                                                                         0.0005           2.0   \n",
       "                                                                         0.0010           2.0   \n",
       "                                                          (512, 512)     0.0001           2.0   \n",
       "                                                                         0.0005           2.0   \n",
       "                                                                         0.0010           2.0   \n",
       "           12              3         10        1          (256, 256)     0.0001           2.0   \n",
       "                                                                         0.0005           2.0   \n",
       "                                                                         0.0010           2.0   \n",
       "                                                          (512, 512)     0.0001           2.0   \n",
       "                                                                         0.0005           2.0   \n",
       "                                                                         0.0010           2.0   \n",
       "\n",
       "                                                                                        k_fold  \\\n",
       "dimensions output_channels sig_depth num_heads num_layers ffn_hidden_dim learning_rate           \n",
       "15         8               4         6         1          (256, 256)     0.0001            1.0   \n",
       "                                                                         0.0005            1.0   \n",
       "                                                                         0.0010            1.0   \n",
       "                                                          (512, 512)     0.0001            1.0   \n",
       "                                                                         0.0005            1.0   \n",
       "                                                                         0.0010            1.0   \n",
       "           12              3         10        1          (256, 256)     0.0001            1.0   \n",
       "                                                                         0.0005            1.0   \n",
       "                                                                         0.0010            1.0   \n",
       "                                                          (512, 512)     0.0001            1.0   \n",
       "                                                                         0.0005            1.0   \n",
       "                                                                         0.0010            1.0   \n",
       "\n",
       "                                                                                        n_splits  \\\n",
       "dimensions output_channels sig_depth num_heads num_layers ffn_hidden_dim learning_rate             \n",
       "15         8               4         6         1          (256, 256)     0.0001              5.0   \n",
       "                                                                         0.0005              5.0   \n",
       "                                                                         0.0010              5.0   \n",
       "                                                          (512, 512)     0.0001              5.0   \n",
       "                                                                         0.0005              5.0   \n",
       "                                                                         0.0010              5.0   \n",
       "           12              3         10        1          (256, 256)     0.0001              5.0   \n",
       "                                                                         0.0005              5.0   \n",
       "                                                                         0.0010              5.0   \n",
       "                                                          (512, 512)     0.0001              5.0   \n",
       "                                                                         0.0005              5.0   \n",
       "                                                                         0.0010              5.0   \n",
       "\n",
       "                                                                                        batch_size  \\\n",
       "dimensions output_channels sig_depth num_heads num_layers ffn_hidden_dim learning_rate               \n",
       "15         8               4         6         1          (256, 256)     0.0001               64.0   \n",
       "                                                                         0.0005               64.0   \n",
       "                                                                         0.0010               64.0   \n",
       "                                                          (512, 512)     0.0001               64.0   \n",
       "                                                                         0.0005               64.0   \n",
       "                                                                         0.0010               64.0   \n",
       "           12              3         10        1          (256, 256)     0.0001               64.0   \n",
       "                                                                         0.0005               64.0   \n",
       "                                                                         0.0010               64.0   \n",
       "                                                          (512, 512)     0.0001               64.0   \n",
       "                                                                         0.0005               64.0   \n",
       "                                                                         0.0010               64.0   \n",
       "\n",
       "                                                                                        model_id  \n",
       "dimensions output_channels sig_depth num_heads num_layers ffn_hidden_dim learning_rate            \n",
       "15         8               4         6         1          (256, 256)     0.0001             14.5  \n",
       "                                                                         0.0005             15.5  \n",
       "                                                                         0.0010             13.5  \n",
       "                                                          (512, 512)     0.0001             20.5  \n",
       "                                                                         0.0005             21.5  \n",
       "                                                                         0.0010             19.5  \n",
       "           12              3         10        1          (256, 256)     0.0001              2.5  \n",
       "                                                                         0.0005              3.5  \n",
       "                                                                         0.0010              1.5  \n",
       "                                                          (512, 512)     0.0001              8.5  \n",
       "                                                                         0.0005              9.5  \n",
       "                                                                         0.0010              7.5  \n",
       "\n",
       "[12 rows x 22 columns]"
      ]
     },
     "execution_count": 12,
     "metadata": {},
     "output_type": "execute_result"
    }
   ],
   "source": [
    "swmhau_network_umap_kfold_5.groupby(\n",
    "    [\n",
    "        \"dimensions\",\n",
    "        \"output_channels\",\n",
    "        \"sig_depth\",\n",
    "        \"num_heads\",\n",
    "        \"num_layers\",\n",
    "        \"ffn_hidden_dim\",\n",
    "        \"learning_rate\",\n",
    "    ]\n",
    ").mean()"
   ]
  },
  {
   "cell_type": "code",
   "execution_count": 13,
   "id": "089e89fa-e2bc-4bd2-a063-d9c7d35ba390",
   "metadata": {},
   "outputs": [
    {
     "data": {
      "text/html": [
       "<div>\n",
       "<style scoped>\n",
       "    .dataframe tbody tr th:only-of-type {\n",
       "        vertical-align: middle;\n",
       "    }\n",
       "\n",
       "    .dataframe tbody tr th {\n",
       "        vertical-align: top;\n",
       "    }\n",
       "\n",
       "    .dataframe thead th {\n",
       "        text-align: right;\n",
       "    }\n",
       "</style>\n",
       "<table border=\"1\" class=\"dataframe\">\n",
       "  <thead>\n",
       "    <tr style=\"text-align: right;\">\n",
       "      <th></th>\n",
       "      <th>loss</th>\n",
       "      <th>accuracy</th>\n",
       "      <th>f1</th>\n",
       "      <th>f1_scores</th>\n",
       "      <th>precision</th>\n",
       "      <th>precision_scores</th>\n",
       "      <th>recall</th>\n",
       "      <th>recall_scores</th>\n",
       "      <th>valid_loss</th>\n",
       "      <th>valid_accuracy</th>\n",
       "      <th>...</th>\n",
       "      <th>learning_rate</th>\n",
       "      <th>seed</th>\n",
       "      <th>loss_function</th>\n",
       "      <th>gamma</th>\n",
       "      <th>k_fold</th>\n",
       "      <th>n_splits</th>\n",
       "      <th>augmentation_type</th>\n",
       "      <th>hidden_dim_aug</th>\n",
       "      <th>comb_method</th>\n",
       "      <th>batch_size</th>\n",
       "    </tr>\n",
       "  </thead>\n",
       "  <tbody>\n",
       "    <tr>\n",
       "      <th>0</th>\n",
       "      <td>None</td>\n",
       "      <td>0.697111</td>\n",
       "      <td>0.658691</td>\n",
       "      <td>[0.7732030704815073, 0.544179523141655]</td>\n",
       "      <td>0.663988</td>\n",
       "      <td>[0.7533315202610824, 0.5746445497630331]</td>\n",
       "      <td>0.655467</td>\n",
       "      <td>[0.794151376146789, 0.5167820990942994]</td>\n",
       "      <td>None</td>\n",
       "      <td>0.737027</td>\n",
       "      <td>...</td>\n",
       "      <td>0.0001</td>\n",
       "      <td>1</td>\n",
       "      <td>focal</td>\n",
       "      <td>2</td>\n",
       "      <td>True</td>\n",
       "      <td>5</td>\n",
       "      <td>Conv1d</td>\n",
       "      <td>None</td>\n",
       "      <td>concatenation</td>\n",
       "      <td>64</td>\n",
       "    </tr>\n",
       "    <tr>\n",
       "      <th>0</th>\n",
       "      <td>None</td>\n",
       "      <td>0.687605</td>\n",
       "      <td>0.657814</td>\n",
       "      <td>[0.7587795048934945, 0.5568482284505551]</td>\n",
       "      <td>0.657303</td>\n",
       "      <td>[0.761849710982659, 0.552755905511811]</td>\n",
       "      <td>0.658368</td>\n",
       "      <td>[0.7557339449541285, 0.5610015982951518]</td>\n",
       "      <td>None</td>\n",
       "      <td>0.733118</td>\n",
       "      <td>...</td>\n",
       "      <td>0.0001</td>\n",
       "      <td>12</td>\n",
       "      <td>focal</td>\n",
       "      <td>2</td>\n",
       "      <td>True</td>\n",
       "      <td>5</td>\n",
       "      <td>Conv1d</td>\n",
       "      <td>None</td>\n",
       "      <td>concatenation</td>\n",
       "      <td>64</td>\n",
       "    </tr>\n",
       "    <tr>\n",
       "      <th>0</th>\n",
       "      <td>None</td>\n",
       "      <td>0.693383</td>\n",
       "      <td>0.653409</td>\n",
       "      <td>[0.7711145123139, 0.5357042054755856]</td>\n",
       "      <td>0.659375</td>\n",
       "      <td>[0.7491213841578805, 0.5696278511404562]</td>\n",
       "      <td>0.650016</td>\n",
       "      <td>[0.7944380733944955, 0.5055940330314331]</td>\n",
       "      <td>None</td>\n",
       "      <td>0.718695</td>\n",
       "      <td>...</td>\n",
       "      <td>0.0001</td>\n",
       "      <td>123</td>\n",
       "      <td>focal</td>\n",
       "      <td>2</td>\n",
       "      <td>True</td>\n",
       "      <td>5</td>\n",
       "      <td>Conv1d</td>\n",
       "      <td>None</td>\n",
       "      <td>concatenation</td>\n",
       "      <td>64</td>\n",
       "    </tr>\n",
       "  </tbody>\n",
       "</table>\n",
       "<p>3 rows × 44 columns</p>\n",
       "</div>"
      ],
      "text/plain": [
       "   loss  accuracy        f1                                 f1_scores  \\\n",
       "0  None  0.697111  0.658691   [0.7732030704815073, 0.544179523141655]   \n",
       "0  None  0.687605  0.657814  [0.7587795048934945, 0.5568482284505551]   \n",
       "0  None  0.693383  0.653409     [0.7711145123139, 0.5357042054755856]   \n",
       "\n",
       "   precision                          precision_scores    recall  \\\n",
       "0   0.663988  [0.7533315202610824, 0.5746445497630331]  0.655467   \n",
       "0   0.657303    [0.761849710982659, 0.552755905511811]  0.658368   \n",
       "0   0.659375  [0.7491213841578805, 0.5696278511404562]  0.650016   \n",
       "\n",
       "                              recall_scores valid_loss  valid_accuracy  ...  \\\n",
       "0   [0.794151376146789, 0.5167820990942994]       None        0.737027  ...   \n",
       "0  [0.7557339449541285, 0.5610015982951518]       None        0.733118  ...   \n",
       "0  [0.7944380733944955, 0.5055940330314331]       None        0.718695  ...   \n",
       "\n",
       "   learning_rate seed  loss_function gamma  k_fold n_splits  \\\n",
       "0         0.0001    1          focal     2    True        5   \n",
       "0         0.0001   12          focal     2    True        5   \n",
       "0         0.0001  123          focal     2    True        5   \n",
       "\n",
       "   augmentation_type  hidden_dim_aug    comb_method batch_size  \n",
       "0             Conv1d            None  concatenation         64  \n",
       "0             Conv1d            None  concatenation         64  \n",
       "0             Conv1d            None  concatenation         64  \n",
       "\n",
       "[3 rows x 44 columns]"
      ]
     },
     "execution_count": 13,
     "metadata": {},
     "output_type": "execute_result"
    }
   ],
   "source": [
    "best_swmhau_network_umap_kfold_5"
   ]
  },
  {
   "cell_type": "code",
   "execution_count": 14,
   "id": "978d2bdc-9e44-49ac-a88c-71540aa34777",
   "metadata": {},
   "outputs": [
    {
     "data": {
      "text/html": [
       "<div>\n",
       "<style scoped>\n",
       "    .dataframe tbody tr th:only-of-type {\n",
       "        vertical-align: middle;\n",
       "    }\n",
       "\n",
       "    .dataframe tbody tr th {\n",
       "        vertical-align: top;\n",
       "    }\n",
       "\n",
       "    .dataframe thead th {\n",
       "        text-align: right;\n",
       "    }\n",
       "</style>\n",
       "<table border=\"1\" class=\"dataframe\">\n",
       "  <thead>\n",
       "    <tr style=\"text-align: right;\">\n",
       "      <th></th>\n",
       "      <th>dimensions</th>\n",
       "      <th>output_channels</th>\n",
       "      <th>sig_depth</th>\n",
       "      <th>num_heads</th>\n",
       "      <th>num_layers</th>\n",
       "      <th>ffn_hidden_dim</th>\n",
       "      <th>dropout_rate</th>\n",
       "      <th>learning_rate</th>\n",
       "    </tr>\n",
       "  </thead>\n",
       "  <tbody>\n",
       "    <tr>\n",
       "      <th>0</th>\n",
       "      <td>15</td>\n",
       "      <td>12</td>\n",
       "      <td>3</td>\n",
       "      <td>10</td>\n",
       "      <td>1</td>\n",
       "      <td>(512, 512)</td>\n",
       "      <td>0.1</td>\n",
       "      <td>0.0001</td>\n",
       "    </tr>\n",
       "    <tr>\n",
       "      <th>0</th>\n",
       "      <td>15</td>\n",
       "      <td>12</td>\n",
       "      <td>3</td>\n",
       "      <td>10</td>\n",
       "      <td>1</td>\n",
       "      <td>(512, 512)</td>\n",
       "      <td>0.1</td>\n",
       "      <td>0.0001</td>\n",
       "    </tr>\n",
       "    <tr>\n",
       "      <th>0</th>\n",
       "      <td>15</td>\n",
       "      <td>12</td>\n",
       "      <td>3</td>\n",
       "      <td>10</td>\n",
       "      <td>1</td>\n",
       "      <td>(512, 512)</td>\n",
       "      <td>0.1</td>\n",
       "      <td>0.0001</td>\n",
       "    </tr>\n",
       "  </tbody>\n",
       "</table>\n",
       "</div>"
      ],
      "text/plain": [
       "   dimensions  output_channels  sig_depth  num_heads  num_layers  \\\n",
       "0          15               12          3         10           1   \n",
       "0          15               12          3         10           1   \n",
       "0          15               12          3         10           1   \n",
       "\n",
       "  ffn_hidden_dim  dropout_rate  learning_rate  \n",
       "0     (512, 512)           0.1         0.0001  \n",
       "0     (512, 512)           0.1         0.0001  \n",
       "0     (512, 512)           0.1         0.0001  "
      ]
     },
     "execution_count": 14,
     "metadata": {},
     "output_type": "execute_result"
    }
   ],
   "source": [
    "best_swmhau_network_umap_kfold_5[\n",
    "    [\n",
    "        \"dimensions\",\n",
    "        \"output_channels\",\n",
    "        \"sig_depth\",\n",
    "        \"num_heads\",\n",
    "        \"num_layers\",\n",
    "        \"ffn_hidden_dim\",\n",
    "        \"dropout_rate\",\n",
    "        \"learning_rate\",\n",
    "    ]\n",
    "]"
   ]
  },
  {
   "cell_type": "code",
   "execution_count": 15,
   "id": "78b1127f-0371-40b9-a521-14f6f38f150f",
   "metadata": {},
   "outputs": [
    {
     "data": {
      "text/plain": [
       "0.6566381741261162"
      ]
     },
     "execution_count": 15,
     "metadata": {},
     "output_type": "execute_result"
    }
   ],
   "source": [
    "best_swmhau_network_umap_kfold_5[\"f1\"].mean()"
   ]
  },
  {
   "cell_type": "code",
   "execution_count": 16,
   "id": "500a7f96-d4df-44c0-93dc-60e3f38b5e7e",
   "metadata": {},
   "outputs": [
    {
     "data": {
      "text/plain": [
       "0.6602218203028204"
      ]
     },
     "execution_count": 16,
     "metadata": {},
     "output_type": "execute_result"
    }
   ],
   "source": [
    "best_swmhau_network_umap_kfold_5[\"precision\"].mean()"
   ]
  },
  {
   "cell_type": "code",
   "execution_count": 17,
   "id": "eb46a36b-60fd-4ff8-9c44-301db7b1c806",
   "metadata": {},
   "outputs": [
    {
     "data": {
      "text/plain": [
       "0.6546168541527161"
      ]
     },
     "execution_count": 17,
     "metadata": {},
     "output_type": "execute_result"
    }
   ],
   "source": [
    "best_swmhau_network_umap_kfold_5[\"recall\"].mean()"
   ]
  },
  {
   "cell_type": "code",
   "execution_count": 18,
   "id": "088a2cba-e1ee-45f3-9ebf-950d6828c9b6",
   "metadata": {},
   "outputs": [
    {
     "data": {
      "text/plain": [
       "array([0.76769903, 0.54557732])"
      ]
     },
     "execution_count": 18,
     "metadata": {},
     "output_type": "execute_result"
    }
   ],
   "source": [
    "np.stack(best_swmhau_network_umap_kfold_5[\"f1_scores\"]).mean(axis=0)"
   ]
  },
  {
   "cell_type": "code",
   "execution_count": 19,
   "id": "7fe395fe-9dfe-441c-bda8-e2304f3710db",
   "metadata": {},
   "outputs": [
    {
     "data": {
      "text/plain": [
       "array([0.75476754, 0.5656761 ])"
      ]
     },
     "execution_count": 19,
     "metadata": {},
     "output_type": "execute_result"
    }
   ],
   "source": [
    "np.stack(best_swmhau_network_umap_kfold_5[\"precision_scores\"]).mean(axis=0)"
   ]
  },
  {
   "cell_type": "code",
   "execution_count": 20,
   "id": "6a62f0f1-1ba4-432e-a9c5-537150ea3a59",
   "metadata": {},
   "outputs": [
    {
     "data": {
      "text/plain": [
       "array([0.78144113, 0.52779258])"
      ]
     },
     "execution_count": 20,
     "metadata": {},
     "output_type": "execute_result"
    }
   ],
   "source": [
    "np.stack(best_swmhau_network_umap_kfold_5[\"recall_scores\"]).mean(axis=0)"
   ]
  },
  {
   "cell_type": "markdown",
   "id": "f0787150-8266-48ee-97f5-5f711ce899c7",
   "metadata": {},
   "source": [
    "## Random Projections"
   ]
  },
  {
   "cell_type": "code",
   "execution_count": null,
   "id": "13a67a66",
   "metadata": {},
   "outputs": [
    {
     "data": {
      "application/vnd.jupyter.widget-view+json": {
       "model_id": "97ef9e3a17c443e8b524be07ff5a082e",
       "version_major": 2,
       "version_minor": 0
      },
      "text/plain": [
       "  0%|          | 0/1 [00:00<?, ?it/s]"
      ]
     },
     "metadata": {},
     "output_type": "display_data"
    },
    {
     "data": {
      "application/vnd.jupyter.widget-view+json": {
       "model_id": "a1120f1263e04da687fb01a17e59c0ce",
       "version_major": 2,
       "version_minor": 0
      },
      "text/plain": [
       "  0%|          | 0/1 [00:00<?, ?it/s]"
      ]
     },
     "metadata": {},
     "output_type": "display_data"
    },
    {
     "data": {
      "application/vnd.jupyter.widget-view+json": {
       "model_id": "e2a4152bca1c4e5cb368393e57de3b04",
       "version_major": 2,
       "version_minor": 0
      },
      "text/plain": [
       "  0%|          | 0/1 [00:00<?, ?it/s]"
      ]
     },
     "metadata": {},
     "output_type": "display_data"
    },
    {
     "name": "stdout",
     "output_type": "stream",
     "text": [
      "\n",
      "##################################################\n",
      "dimension: 15 | method: gaussian_random_projection\n",
      "[INFO] Concatenating the embeddings to the dataframe...\n",
      "[INFO] - columns beginning with 'e' denote the full embddings.\n",
      "[INFO] - columns beginning with 'd' denote the dimension reduced embeddings.\n",
      "[INFO] Adding time feature columns into dataframe in `.df`.\n",
      "[INFO] Adding 'time_encoding' feature...\n",
      "[INFO] Adding 'time_diff' feature...\n",
      "[INFO] Adding 'timeline_index' feature...\n",
      "[INFO] Padding ids and storing in `.df_padded` and `.array_padded` attributes.\n"
     ]
    },
    {
     "data": {
      "application/vnd.jupyter.widget-view+json": {
       "model_id": "607fb72eeff644e7b8b093878ef52ef8",
       "version_major": 2,
       "version_minor": 0
      },
      "text/plain": [
       "  0%|          | 0/5568 [00:00<?, ?it/s]"
      ]
     },
     "metadata": {},
     "output_type": "display_data"
    },
    {
     "name": "stdout",
     "output_type": "stream",
     "text": [
      "[INFO] The path was created for each item in the dataframe, by looking at its history, so to include embeddings in the FFN input, we concatenate the embeddings for each sentence / text.\n"
     ]
    },
    {
     "data": {
      "application/vnd.jupyter.widget-view+json": {
       "model_id": "45b1874be6ca403aa31cec88e14ef268",
       "version_major": 2,
       "version_minor": 0
      },
      "text/plain": [
       "  0%|          | 0/2 [00:00<?, ?it/s]"
      ]
     },
     "metadata": {},
     "output_type": "display_data"
    },
    {
     "data": {
      "application/vnd.jupyter.widget-view+json": {
       "model_id": "2c41b152b11a4cd38c443aed3dffc3b2",
       "version_major": 2,
       "version_minor": 0
      },
      "text/plain": [
       "  0%|          | 0/1 [00:00<?, ?it/s]"
      ]
     },
     "metadata": {},
     "output_type": "display_data"
    },
    {
     "data": {
      "application/vnd.jupyter.widget-view+json": {
       "model_id": "df607d9864aa4b86bddb276304bf9220",
       "version_major": 2,
       "version_minor": 0
      },
      "text/plain": [
       "  0%|          | 0/2 [00:00<?, ?it/s]"
      ]
     },
     "metadata": {},
     "output_type": "display_data"
    },
    {
     "data": {
      "application/vnd.jupyter.widget-view+json": {
       "model_id": "b919ab45ae9e4160a171bf29f0017234",
       "version_major": 2,
       "version_minor": 0
      },
      "text/plain": [
       "  0%|          | 0/2 [00:00<?, ?it/s]"
      ]
     },
     "metadata": {},
     "output_type": "display_data"
    },
    {
     "data": {
      "application/vnd.jupyter.widget-view+json": {
       "model_id": "95db376707144b21894f40dbf3bb2149",
       "version_major": 2,
       "version_minor": 0
      },
      "text/plain": [
       "  0%|          | 0/3 [00:00<?, ?it/s]"
      ]
     },
     "metadata": {},
     "output_type": "display_data"
    },
    {
     "data": {
      "application/vnd.jupyter.widget-view+json": {
       "model_id": "1ad333f14ba840efbfe3a5940f79417f",
       "version_major": 2,
       "version_minor": 0
      },
      "text/plain": [
       "  0%|          | 0/3 [00:00<?, ?it/s]"
      ]
     },
     "metadata": {},
     "output_type": "display_data"
    },
    {
     "data": {
      "application/vnd.jupyter.widget-view+json": {
       "model_id": "41ee5f26f84746268f1cb5821d802543",
       "version_major": 2,
       "version_minor": 0
      },
      "text/plain": [
       "  0%|          | 0/2 [00:00<?, ?it/s]"
      ]
     },
     "metadata": {},
     "output_type": "display_data"
    },
    {
     "data": {
      "application/vnd.jupyter.widget-view+json": {
       "model_id": "be3ab57edae0408194c7e59085bb6d83",
       "version_major": 2,
       "version_minor": 0
      },
      "text/plain": [
       "  0%|          | 0/3 [00:00<?, ?it/s]"
      ]
     },
     "metadata": {},
     "output_type": "display_data"
    },
    {
     "data": {
      "application/vnd.jupyter.widget-view+json": {
       "model_id": "2275297ebeae4cec8ed603e9ccb90f03",
       "version_major": 2,
       "version_minor": 0
      },
      "text/plain": [
       "  0%|          | 0/3 [00:00<?, ?it/s]"
      ]
     },
     "metadata": {},
     "output_type": "display_data"
    },
    {
     "data": {
      "application/vnd.jupyter.widget-view+json": {
       "model_id": "b92c81ed288043bcaaba55c06dde7ec1",
       "version_major": 2,
       "version_minor": 0
      },
      "text/plain": [
       "  0%|          | 0/1 [00:00<?, ?it/s]"
      ]
     },
     "metadata": {},
     "output_type": "display_data"
    },
    {
     "data": {
      "application/vnd.jupyter.widget-view+json": {
       "model_id": "d1bf50fe58ea447b9b3c8fe53bbbde61",
       "version_major": 2,
       "version_minor": 0
      },
      "text/plain": [
       "  0%|          | 0/2 [00:00<?, ?it/s]"
      ]
     },
     "metadata": {},
     "output_type": "display_data"
    },
    {
     "data": {
      "application/vnd.jupyter.widget-view+json": {
       "model_id": "e51f0626cb974673badaac4affb02cba",
       "version_major": 2,
       "version_minor": 0
      },
      "text/plain": [
       "  0%|          | 0/2 [00:00<?, ?it/s]"
      ]
     },
     "metadata": {},
     "output_type": "display_data"
    },
    {
     "data": {
      "application/vnd.jupyter.widget-view+json": {
       "model_id": "985537cc255942aeb8ea823aba40e830",
       "version_major": 2,
       "version_minor": 0
      },
      "text/plain": [
       "  0%|          | 0/3 [00:00<?, ?it/s]"
      ]
     },
     "metadata": {},
     "output_type": "display_data"
    }
   ],
   "source": [
    "(\n",
    "    swmhau_network_grp_kfold_5,\n",
    "    best_swmhau_network_grp_kfold_5,\n",
    "    _,\n",
    "    __,\n",
    ") = swmhau_network_hyperparameter_search(\n",
    "    history_lengths=[size],\n",
    "    dim_reduce_methods=[\"gaussian_random_projection\"],\n",
    "    results_output=f\"{output_dir}/swmhau_network_grp_focal_{gamma}_{size}_cls_kfold.csv\",\n",
    "    **kwargs,\n",
    ")"
   ]
  },
  {
   "cell_type": "code",
   "execution_count": null,
   "id": "0ec7c660",
   "metadata": {},
   "outputs": [],
   "source": [
    "swmhau_network_grp_kfold_5.groupby(\n",
    "    [\n",
    "        \"dimensions\",\n",
    "        \"output_channels\",\n",
    "        \"sig_depth\",\n",
    "        \"num_heads\",\n",
    "        \"num_layers\",\n",
    "        \"ffn_hidden_dim\",\n",
    "        \"dropout_rate\",\n",
    "        \"learning_rate\",\n",
    "    ]\n",
    ").mean()"
   ]
  },
  {
   "cell_type": "code",
   "execution_count": null,
   "id": "603dee18",
   "metadata": {},
   "outputs": [],
   "source": [
    "best_swmhau_network_grp_kfold_5"
   ]
  },
  {
   "cell_type": "code",
   "execution_count": null,
   "id": "e706aad7-e55f-4402-9df8-4e2cb0a0eb82",
   "metadata": {},
   "outputs": [],
   "source": [
    "best_swmhau_network_grp_kfold_5[\n",
    "    [\n",
    "        \"dimensions\",\n",
    "        \"output_channels\",\n",
    "        \"sig_depth\",\n",
    "        \"num_heads\",\n",
    "        \"num_layers\",\n",
    "        \"ffn_hidden_dim\",\n",
    "        \"dropout_rate\",\n",
    "        \"learning_rate\",\n",
    "    ]\n",
    "]"
   ]
  },
  {
   "cell_type": "code",
   "execution_count": null,
   "id": "e9d503c3",
   "metadata": {},
   "outputs": [],
   "source": [
    "best_swmhau_network_grp_kfold_5[\"f1\"].mean()"
   ]
  },
  {
   "cell_type": "code",
   "execution_count": null,
   "id": "f3079077",
   "metadata": {},
   "outputs": [],
   "source": [
    "best_swmhau_network_grp_kfold_5[\"precision\"].mean()"
   ]
  },
  {
   "cell_type": "code",
   "execution_count": null,
   "id": "eb2894ed",
   "metadata": {},
   "outputs": [],
   "source": [
    "best_swmhau_network_grp_kfold_5[\"recall\"].mean()"
   ]
  },
  {
   "cell_type": "code",
   "execution_count": null,
   "id": "a3e8bbc5",
   "metadata": {},
   "outputs": [],
   "source": [
    "np.stack(best_swmhau_network_grp_kfold_5[\"f1_scores\"]).mean(axis=0)"
   ]
  },
  {
   "cell_type": "code",
   "execution_count": null,
   "id": "4601b7f2",
   "metadata": {},
   "outputs": [],
   "source": [
    "np.stack(best_swmhau_network_grp_kfold_5[\"precision_scores\"]).mean(axis=0)"
   ]
  },
  {
   "cell_type": "code",
   "execution_count": null,
   "id": "a3201dd5",
   "metadata": {},
   "outputs": [],
   "source": [
    "np.stack(best_swmhau_network_grp_kfold_5[\"recall_scores\"]).mean(axis=0)"
   ]
  },
  {
   "cell_type": "markdown",
   "id": "4713673b-5dae-4522-afa4-53d64f2b78b2",
   "metadata": {
    "jp-MarkdownHeadingCollapsed": true,
    "tags": []
   },
   "source": [
    "# w=11"
   ]
  },
  {
   "cell_type": "code",
   "execution_count": null,
   "id": "e76d5c21-9452-472a-9f9b-60f03730272b",
   "metadata": {},
   "outputs": [],
   "source": [
    "size = 11"
   ]
  },
  {
   "cell_type": "markdown",
   "id": "75c1b580-345b-4939-ae15-f44bf127378b",
   "metadata": {},
   "source": [
    "## UMAP"
   ]
  },
  {
   "cell_type": "code",
   "execution_count": null,
   "id": "484eba2a-c57c-467d-9750-b9f19ef50e82",
   "metadata": {
    "tags": []
   },
   "outputs": [],
   "source": [
    "(\n",
    "    swmhau_network_umap_kfold_11,\n",
    "    best_swmhau_network_umap_kfold_11,\n",
    "    _,\n",
    "    __,\n",
    ") = swmhau_network_hyperparameter_search(\n",
    "    history_lengths=[size],\n",
    "    dim_reduce_methods=[\"umap\"],\n",
    "    results_output=f\"{output_dir}/swmhau_network_umap_focal_{gamma}_{size}_cls_kfold.csv\",\n",
    "    **kwargs,\n",
    ")"
   ]
  },
  {
   "cell_type": "code",
   "execution_count": null,
   "id": "6471b2fb-7357-4ef3-95ec-b0462acf09dd",
   "metadata": {},
   "outputs": [],
   "source": [
    "swmhau_network_umap_kfold_11.groupby(\n",
    "    [\n",
    "        \"dimensions\",\n",
    "        \"output_channels\",\n",
    "        \"sig_depth\",\n",
    "        \"num_heads\",\n",
    "        \"num_layers\",\n",
    "        \"ffn_hidden_dim\",\n",
    "        \"learning_rate\",\n",
    "    ]\n",
    ").mean()"
   ]
  },
  {
   "cell_type": "code",
   "execution_count": null,
   "id": "9bede0a4-d16c-4d87-bd33-7b5afe2932f2",
   "metadata": {},
   "outputs": [],
   "source": [
    "best_swmhau_network_umap_kfold_11"
   ]
  },
  {
   "cell_type": "code",
   "execution_count": null,
   "id": "d7101eea-fc4b-4d04-b56b-4d279b5b5d00",
   "metadata": {},
   "outputs": [],
   "source": [
    "best_swmhau_network_umap_kfold_11[\n",
    "    [\n",
    "        \"dimensions\",\n",
    "        \"output_channels\",\n",
    "        \"sig_depth\",\n",
    "        \"num_heads\",\n",
    "        \"num_layers\",\n",
    "        \"ffn_hidden_dim\",\n",
    "        \"dropout_rate\",\n",
    "        \"learning_rate\",\n",
    "    ]\n",
    "]"
   ]
  },
  {
   "cell_type": "code",
   "execution_count": null,
   "id": "5efb256f-8785-4c63-a321-b4e77066f7f2",
   "metadata": {},
   "outputs": [],
   "source": [
    "best_swmhau_network_umap_kfold_11[\"f1\"].mean()"
   ]
  },
  {
   "cell_type": "code",
   "execution_count": null,
   "id": "6e3edde5-d780-41cd-8331-2d07b208d391",
   "metadata": {},
   "outputs": [],
   "source": [
    "best_swmhau_network_umap_kfold_11[\"precision\"].mean()"
   ]
  },
  {
   "cell_type": "code",
   "execution_count": null,
   "id": "de450708-e550-4f59-9574-ea4a79b0af5a",
   "metadata": {},
   "outputs": [],
   "source": [
    "best_swmhau_network_umap_kfold_11[\"recall\"].mean()"
   ]
  },
  {
   "cell_type": "code",
   "execution_count": null,
   "id": "67054b75-d3cc-4d5f-b7e8-22b5ff832716",
   "metadata": {},
   "outputs": [],
   "source": [
    "np.stack(best_swmhau_network_umap_kfold_11[\"f1_scores\"]).mean(axis=0)"
   ]
  },
  {
   "cell_type": "code",
   "execution_count": null,
   "id": "b7139cd0-d954-449e-b2e1-e0e70f4fc555",
   "metadata": {},
   "outputs": [],
   "source": [
    "np.stack(best_swmhau_network_umap_kfold_11[\"precision_scores\"]).mean(axis=0)"
   ]
  },
  {
   "cell_type": "code",
   "execution_count": null,
   "id": "26b47434-2cb6-4c6b-9e3c-35391e265730",
   "metadata": {},
   "outputs": [],
   "source": [
    "np.stack(best_swmhau_network_umap_kfold_11[\"recall_scores\"]).mean(axis=0)"
   ]
  },
  {
   "cell_type": "markdown",
   "id": "e8901c03-bc80-4c5c-b3be-1006133bf88e",
   "metadata": {},
   "source": [
    "## Random Projections"
   ]
  },
  {
   "cell_type": "code",
   "execution_count": null,
   "id": "5e80fa35-3fdc-4c4a-ac53-506c6471ff99",
   "metadata": {},
   "outputs": [],
   "source": [
    "(\n",
    "    swmhau_network_grp_kfold_11,\n",
    "    best_swmhau_network_grp_kfold_11,\n",
    "    _,\n",
    "    __,\n",
    ") = swmhau_network_hyperparameter_search(\n",
    "    history_lengths=[size],\n",
    "    dim_reduce_methods=[\"gaussian_random_projection\"],\n",
    "    results_output=f\"{output_dir}/swmhau_network_grp_focal_{gamma}_{size}_cls_kfold.csv\",\n",
    "    **kwargs,\n",
    ")"
   ]
  },
  {
   "cell_type": "code",
   "execution_count": null,
   "id": "97b6b624-76ef-48fb-ad87-f4483d3a6921",
   "metadata": {},
   "outputs": [],
   "source": [
    "swmhau_network_grp_kfold_11.groupby(\n",
    "    [\n",
    "        \"dimensions\",\n",
    "        \"output_channels\",\n",
    "        \"sig_depth\",\n",
    "        \"num_heads\",\n",
    "        \"num_layers\",\n",
    "        \"ffn_hidden_dim\",\n",
    "        \"dropout_rate\",\n",
    "        \"learning_rate\",\n",
    "    ]\n",
    ").mean()"
   ]
  },
  {
   "cell_type": "code",
   "execution_count": null,
   "id": "b609c822-98db-442f-b7df-487591f3e485",
   "metadata": {},
   "outputs": [],
   "source": [
    "best_swmhau_network_grp_kfold_11"
   ]
  },
  {
   "cell_type": "code",
   "execution_count": null,
   "id": "89ff93ce-3e14-4852-93a3-683b21a6c492",
   "metadata": {},
   "outputs": [],
   "source": [
    "best_swmhau_network_grp_kfold_11[\n",
    "    [\n",
    "        \"dimensions\",\n",
    "        \"output_channels\",\n",
    "        \"sig_depth\",\n",
    "        \"num_heads\",\n",
    "        \"num_layers\",\n",
    "        \"ffn_hidden_dim\",\n",
    "        \"dropout_rate\",\n",
    "        \"learning_rate\",\n",
    "    ]\n",
    "]"
   ]
  },
  {
   "cell_type": "code",
   "execution_count": null,
   "id": "94dd7812-d483-49ae-b7c4-d4c1d3cd5a17",
   "metadata": {},
   "outputs": [],
   "source": [
    "best_swmhau_network_grp_kfold_11[\"f1\"].mean()"
   ]
  },
  {
   "cell_type": "code",
   "execution_count": null,
   "id": "afdfcc55-a1a5-49cc-936a-632b71b4b58b",
   "metadata": {},
   "outputs": [],
   "source": [
    "best_swmhau_network_grp_kfold_11[\"precision\"].mean()"
   ]
  },
  {
   "cell_type": "code",
   "execution_count": null,
   "id": "2b06fcc6-9120-4d3d-872c-cd8a7e87a6c1",
   "metadata": {},
   "outputs": [],
   "source": [
    "best_swmhau_network_grp_kfold_11[\"recall\"].mean()"
   ]
  },
  {
   "cell_type": "code",
   "execution_count": null,
   "id": "ef95267b-08b6-435e-b06f-7d6811b2e8e7",
   "metadata": {},
   "outputs": [],
   "source": [
    "np.stack(best_swmhau_network_grp_kfold_11[\"f1_scores\"]).mean(axis=0)"
   ]
  },
  {
   "cell_type": "code",
   "execution_count": null,
   "id": "01845f88-1ba2-4c2a-b712-efad96bcc283",
   "metadata": {},
   "outputs": [],
   "source": [
    "np.stack(best_swmhau_network_grp_kfold_11[\"precision_scores\"]).mean(axis=0)"
   ]
  },
  {
   "cell_type": "code",
   "execution_count": null,
   "id": "127ac76c-20df-4e5a-9a04-5cfc775b5a84",
   "metadata": {},
   "outputs": [],
   "source": [
    "np.stack(best_swmhau_network_grp_kfold_11[\"recall_scores\"]).mean(axis=0)"
   ]
  },
  {
   "cell_type": "markdown",
   "id": "f97be964-f0b3-4e7f-9ff7-d6dafc2f113d",
   "metadata": {
    "jp-MarkdownHeadingCollapsed": true,
    "tags": []
   },
   "source": [
    "# w=20"
   ]
  },
  {
   "cell_type": "code",
   "execution_count": null,
   "id": "195557e3-3d2d-410e-8eae-554fe84872a3",
   "metadata": {},
   "outputs": [],
   "source": [
    "size = 20"
   ]
  },
  {
   "cell_type": "markdown",
   "id": "a13cc701-b6fb-40d2-a4a5-4ca3ea9ce840",
   "metadata": {},
   "source": [
    "## UMAP"
   ]
  },
  {
   "cell_type": "code",
   "execution_count": null,
   "id": "27a208b0-8922-4be5-8c07-b9b9cc7a6e14",
   "metadata": {
    "tags": []
   },
   "outputs": [],
   "source": [
    "(\n",
    "    swmhau_network_umap_kfold_20,\n",
    "    best_swmhau_network_umap_kfold_20,\n",
    "    _,\n",
    "    __,\n",
    ") = swmhau_network_hyperparameter_search(\n",
    "    history_lengths=[size],\n",
    "    dim_reduce_methods=[\"umap\"],\n",
    "    results_output=f\"{output_dir}/swmhau_network_umap_focal_{gamma}_{size}_cls_kfold.csv\",\n",
    "    **kwargs,\n",
    ")"
   ]
  },
  {
   "cell_type": "code",
   "execution_count": null,
   "id": "9559afac-3f8f-46b4-a35e-d9eed08ede95",
   "metadata": {},
   "outputs": [],
   "source": [
    "swmhau_network_umap_kfold_20.groupby(\n",
    "    [\n",
    "        \"dimensions\",\n",
    "        \"output_channels\",\n",
    "        \"sig_depth\",\n",
    "        \"num_heads\",\n",
    "        \"num_layers\",\n",
    "        \"ffn_hidden_dim\",\n",
    "        \"learning_rate\",\n",
    "    ]\n",
    ").mean()"
   ]
  },
  {
   "cell_type": "code",
   "execution_count": null,
   "id": "341b119f-aca0-4f80-a22f-c2df01c23e49",
   "metadata": {},
   "outputs": [],
   "source": [
    "best_swmhau_network_umap_kfold_20"
   ]
  },
  {
   "cell_type": "code",
   "execution_count": null,
   "id": "01d1d7e7-71a8-4ebe-a066-3f71da0b47b2",
   "metadata": {},
   "outputs": [],
   "source": [
    "best_swmhau_network_umap_kfold_20[\n",
    "    [\n",
    "        \"dimensions\",\n",
    "        \"output_channels\",\n",
    "        \"sig_depth\",\n",
    "        \"num_heads\",\n",
    "        \"num_layers\",\n",
    "        \"ffn_hidden_dim\",\n",
    "        \"dropout_rate\",\n",
    "        \"learning_rate\",\n",
    "    ]\n",
    "]"
   ]
  },
  {
   "cell_type": "code",
   "execution_count": null,
   "id": "f77cdc40-6735-450f-b366-3fd2c398337c",
   "metadata": {},
   "outputs": [],
   "source": [
    "best_swmhau_network_umap_kfold_20[\"f1\"].mean()"
   ]
  },
  {
   "cell_type": "code",
   "execution_count": null,
   "id": "26762167-0665-4398-99f0-d9dbae353007",
   "metadata": {},
   "outputs": [],
   "source": [
    "best_swmhau_network_umap_kfold_20[\"precision\"].mean()"
   ]
  },
  {
   "cell_type": "code",
   "execution_count": null,
   "id": "b4e140df-dc4e-41dd-b89e-7a2fe2a3d0e7",
   "metadata": {},
   "outputs": [],
   "source": [
    "best_swmhau_network_umap_kfold_20[\"recall\"].mean()"
   ]
  },
  {
   "cell_type": "code",
   "execution_count": null,
   "id": "216c694d-e662-45ef-ab17-15bbe0b7a592",
   "metadata": {},
   "outputs": [],
   "source": [
    "np.stack(best_swmhau_network_umap_kfold_20[\"f1_scores\"]).mean(axis=0)"
   ]
  },
  {
   "cell_type": "code",
   "execution_count": null,
   "id": "3199bf85-9ad2-4247-a26e-7e1c90d96c80",
   "metadata": {},
   "outputs": [],
   "source": [
    "np.stack(best_swmhau_network_umap_kfold_20[\"precision_scores\"]).mean(axis=0)"
   ]
  },
  {
   "cell_type": "code",
   "execution_count": null,
   "id": "bac9216e-744e-4143-995f-ff1417111691",
   "metadata": {},
   "outputs": [],
   "source": [
    "np.stack(best_swmhau_network_umap_kfold_20[\"recall_scores\"]).mean(axis=0)"
   ]
  },
  {
   "cell_type": "markdown",
   "id": "ee3eca56-5737-401a-9b60-56c46407283b",
   "metadata": {},
   "source": [
    "## Random Projections"
   ]
  },
  {
   "cell_type": "code",
   "execution_count": null,
   "id": "ab468221-704d-453e-b97f-68d52c5f72da",
   "metadata": {},
   "outputs": [],
   "source": [
    "(\n",
    "    swmhau_network_grp_kfold_20,\n",
    "    best_swmhau_network_grp_kfold_20,\n",
    "    _,\n",
    "    __,\n",
    ") = swmhau_network_hyperparameter_search(\n",
    "    history_lengths=[size],\n",
    "    dim_reduce_methods=[\"gaussian_random_projection\"],\n",
    "    results_output=f\"{output_dir}/swmhau_network_grp_focal_{gamma}_{size}_cls_kfold.csv\",\n",
    "    **kwargs,\n",
    ")"
   ]
  },
  {
   "cell_type": "code",
   "execution_count": null,
   "id": "341e9c63-23f2-4c2b-b025-7015995d27de",
   "metadata": {},
   "outputs": [],
   "source": [
    "swmhau_network_grp_kfold_20.groupby(\n",
    "    [\n",
    "        \"dimensions\",\n",
    "        \"output_channels\",\n",
    "        \"sig_depth\",\n",
    "        \"num_heads\",\n",
    "        \"num_layers\",\n",
    "        \"ffn_hidden_dim\",\n",
    "        \"dropout_rate\",\n",
    "        \"learning_rate\",\n",
    "    ]\n",
    ").mean()"
   ]
  },
  {
   "cell_type": "code",
   "execution_count": null,
   "id": "1178a61e-5200-45b3-a447-f55c0a425945",
   "metadata": {},
   "outputs": [],
   "source": [
    "best_swmhau_network_grp_kfold_20"
   ]
  },
  {
   "cell_type": "code",
   "execution_count": null,
   "id": "eef58309-72cd-4553-a452-d3401d98a9a2",
   "metadata": {},
   "outputs": [],
   "source": [
    "best_swmhau_network_grp_kfold_20[\n",
    "    [\n",
    "        \"dimensions\",\n",
    "        \"output_channels\",\n",
    "        \"sig_depth\",\n",
    "        \"num_heads\",\n",
    "        \"num_layers\",\n",
    "        \"ffn_hidden_dim\",\n",
    "        \"dropout_rate\",\n",
    "        \"learning_rate\",\n",
    "    ]\n",
    "]"
   ]
  },
  {
   "cell_type": "code",
   "execution_count": null,
   "id": "6509d71f-b244-4b06-b1d6-a1b78196a588",
   "metadata": {},
   "outputs": [],
   "source": [
    "best_swmhau_network_grp_kfold_20[\"f1\"].mean()"
   ]
  },
  {
   "cell_type": "code",
   "execution_count": null,
   "id": "834a5cde-6e65-44a8-adfe-31c4add4312d",
   "metadata": {},
   "outputs": [],
   "source": [
    "best_swmhau_network_grp_kfold_20[\"precision\"].mean()"
   ]
  },
  {
   "cell_type": "code",
   "execution_count": null,
   "id": "eb2a066f-a11b-43a9-a29b-959023397668",
   "metadata": {},
   "outputs": [],
   "source": [
    "best_swmhau_network_grp_kfold_20[\"recall\"].mean()"
   ]
  },
  {
   "cell_type": "code",
   "execution_count": null,
   "id": "17e9f143-46dd-4cbe-8340-d7deffbb7874",
   "metadata": {},
   "outputs": [],
   "source": [
    "np.stack(best_swmhau_network_grp_kfold_20[\"f1_scores\"]).mean(axis=0)"
   ]
  },
  {
   "cell_type": "code",
   "execution_count": null,
   "id": "0ede9e0d-fbba-4529-a0f6-c73b5c336fda",
   "metadata": {},
   "outputs": [],
   "source": [
    "np.stack(best_swmhau_network_grp_kfold_20[\"precision_scores\"]).mean(axis=0)"
   ]
  },
  {
   "cell_type": "code",
   "execution_count": null,
   "id": "bf769492-fb87-41d4-a519-658252155413",
   "metadata": {},
   "outputs": [],
   "source": [
    "np.stack(best_swmhau_network_grp_kfold_20[\"recall_scores\"]).mean(axis=0)"
   ]
  },
  {
   "cell_type": "markdown",
   "id": "5988d29d-d618-43a8-91c1-ea6a7a990c94",
   "metadata": {
    "jp-MarkdownHeadingCollapsed": true,
    "tags": []
   },
   "source": [
    "# w=35"
   ]
  },
  {
   "cell_type": "code",
   "execution_count": null,
   "id": "5ec4c8eb-5c37-4470-925d-94031692f476",
   "metadata": {},
   "outputs": [],
   "source": [
    "size = 35"
   ]
  },
  {
   "cell_type": "markdown",
   "id": "19e64615-f277-474a-8925-239477209ab4",
   "metadata": {},
   "source": [
    "## UMAP"
   ]
  },
  {
   "cell_type": "code",
   "execution_count": null,
   "id": "42e24717-bc29-429d-b9df-16321cf11b7e",
   "metadata": {
    "tags": []
   },
   "outputs": [],
   "source": [
    "(\n",
    "    swmhau_network_umap_kfold_35,\n",
    "    best_swmhau_network_umap_kfold_35,\n",
    "    _,\n",
    "    __,\n",
    ") = swmhau_network_hyperparameter_search(\n",
    "    history_lengths=[size],\n",
    "    dim_reduce_methods=[\"umap\"],\n",
    "    results_output=f\"{output_dir}/swmhau_network_umap_focal_{gamma}_{size}_cls_kfold.csv\",\n",
    "    **kwargs,\n",
    ")"
   ]
  },
  {
   "cell_type": "code",
   "execution_count": null,
   "id": "3d841c07-8d74-4ff6-8584-f13e37bfe975",
   "metadata": {},
   "outputs": [],
   "source": [
    "swmhau_network_umap_kfold_35.groupby(\n",
    "    [\n",
    "        \"dimensions\",\n",
    "        \"output_channels\",\n",
    "        \"sig_depth\",\n",
    "        \"num_heads\",\n",
    "        \"num_layers\",\n",
    "        \"ffn_hidden_dim\",\n",
    "        \"learning_rate\",\n",
    "    ]\n",
    ").mean()"
   ]
  },
  {
   "cell_type": "code",
   "execution_count": null,
   "id": "1c867316-5358-4e1a-85d4-ab3fc9bdd3cf",
   "metadata": {},
   "outputs": [],
   "source": [
    "best_swmhau_network_umap_kfold_35"
   ]
  },
  {
   "cell_type": "code",
   "execution_count": null,
   "id": "f8c6dc02-6269-426f-9a34-5c030e642fc8",
   "metadata": {},
   "outputs": [],
   "source": [
    "best_swmhau_network_umap_kfold_35[\n",
    "    [\n",
    "        \"dimensions\",\n",
    "        \"output_channels\",\n",
    "        \"sig_depth\",\n",
    "        \"num_heads\",\n",
    "        \"num_layers\",\n",
    "        \"ffn_hidden_dim\",\n",
    "        \"dropout_rate\",\n",
    "        \"learning_rate\",\n",
    "    ]\n",
    "]"
   ]
  },
  {
   "cell_type": "code",
   "execution_count": null,
   "id": "ce86b597-1ca6-4917-9050-ad19dbc67844",
   "metadata": {},
   "outputs": [],
   "source": [
    "best_swmhau_network_umap_kfold_35[\"f1\"].mean()"
   ]
  },
  {
   "cell_type": "code",
   "execution_count": null,
   "id": "e6550e05-b8a6-43e0-b67e-b49e69e64712",
   "metadata": {},
   "outputs": [],
   "source": [
    "best_swmhau_network_umap_kfold_35[\"precision\"].mean()"
   ]
  },
  {
   "cell_type": "code",
   "execution_count": null,
   "id": "77045c3a-3359-4792-a14b-41eafbe419e8",
   "metadata": {},
   "outputs": [],
   "source": [
    "best_swmhau_network_umap_kfold_35[\"recall\"].mean()"
   ]
  },
  {
   "cell_type": "code",
   "execution_count": null,
   "id": "396b35d3-6d94-44a0-b5c7-be3bebe21a5c",
   "metadata": {},
   "outputs": [],
   "source": [
    "np.stack(best_swmhau_network_umap_kfold_35[\"f1_scores\"]).mean(axis=0)"
   ]
  },
  {
   "cell_type": "code",
   "execution_count": null,
   "id": "85fc2f41-d86f-4827-8b78-eb358fefbf87",
   "metadata": {},
   "outputs": [],
   "source": [
    "np.stack(best_swmhau_network_umap_kfold_35[\"precision_scores\"]).mean(axis=0)"
   ]
  },
  {
   "cell_type": "code",
   "execution_count": null,
   "id": "cf023a8a-a7a2-4f96-922e-a55fc552d3eb",
   "metadata": {},
   "outputs": [],
   "source": [
    "np.stack(best_swmhau_network_umap_kfold_35[\"recall_scores\"]).mean(axis=0)"
   ]
  },
  {
   "cell_type": "markdown",
   "id": "63272fcf-cf63-4a4e-9b2c-f3d711fd7b40",
   "metadata": {},
   "source": [
    "## Random Projections"
   ]
  },
  {
   "cell_type": "code",
   "execution_count": null,
   "id": "fab6262d-ef12-48c1-a0a2-35ac1aca2ba6",
   "metadata": {},
   "outputs": [],
   "source": [
    "(\n",
    "    swmhau_network_grp_kfold_35,\n",
    "    best_swmhau_network_grp_kfold_35,\n",
    "    _,\n",
    "    __,\n",
    ") = swmhau_network_hyperparameter_search(\n",
    "    history_lengths=[size],\n",
    "    dim_reduce_methods=[\"gaussian_random_projection\"],\n",
    "    results_output=f\"{output_dir}/swmhau_network_grp_focal_{gamma}_{size}_cls_kfold.csv\",\n",
    "    **kwargs,\n",
    ")"
   ]
  },
  {
   "cell_type": "code",
   "execution_count": null,
   "id": "f18e7dec-19db-468a-8807-46aa36e0ee7a",
   "metadata": {},
   "outputs": [],
   "source": [
    "swmhau_network_grp_kfold_35.groupby(\n",
    "    [\n",
    "        \"dimensions\",\n",
    "        \"output_channels\",\n",
    "        \"sig_depth\",\n",
    "        \"num_heads\",\n",
    "        \"num_layers\",\n",
    "        \"ffn_hidden_dim\",\n",
    "        \"dropout_rate\",\n",
    "        \"learning_rate\",\n",
    "    ]\n",
    ").mean()"
   ]
  },
  {
   "cell_type": "code",
   "execution_count": null,
   "id": "e1ecf4c2-6265-4bc7-bdfa-bc87fc064d53",
   "metadata": {},
   "outputs": [],
   "source": [
    "best_swmhau_network_grp_kfold_35"
   ]
  },
  {
   "cell_type": "code",
   "execution_count": null,
   "id": "aa174cad-d2b3-46a0-ba84-ab425c8c0828",
   "metadata": {},
   "outputs": [],
   "source": [
    "best_swmhau_network_grp_kfold_35[\n",
    "    [\n",
    "        \"dimensions\",\n",
    "        \"output_channels\",\n",
    "        \"sig_depth\",\n",
    "        \"num_heads\",\n",
    "        \"num_layers\",\n",
    "        \"ffn_hidden_dim\",\n",
    "        \"dropout_rate\",\n",
    "        \"learning_rate\",\n",
    "    ]\n",
    "]"
   ]
  },
  {
   "cell_type": "code",
   "execution_count": null,
   "id": "de2563e6-077f-4796-808e-bd6f6ab07a1e",
   "metadata": {},
   "outputs": [],
   "source": [
    "best_swmhau_network_grp_kfold_35[\"f1\"].mean()"
   ]
  },
  {
   "cell_type": "code",
   "execution_count": null,
   "id": "0c26032d-4abd-4ce6-8ba3-c08e6dee1aa5",
   "metadata": {},
   "outputs": [],
   "source": [
    "best_swmhau_network_grp_kfold_35[\"precision\"].mean()"
   ]
  },
  {
   "cell_type": "code",
   "execution_count": null,
   "id": "09e2140f-fcc5-40f8-bb0c-7cb126bac9cd",
   "metadata": {},
   "outputs": [],
   "source": [
    "best_swmhau_network_grp_kfold_35[\"recall\"].mean()"
   ]
  },
  {
   "cell_type": "code",
   "execution_count": null,
   "id": "b161a0fe-6e51-4acf-927f-6597192e6254",
   "metadata": {},
   "outputs": [],
   "source": [
    "np.stack(best_swmhau_network_grp_kfold_35[\"f1_scores\"]).mean(axis=0)"
   ]
  },
  {
   "cell_type": "code",
   "execution_count": null,
   "id": "d7546dab-3203-46da-b31c-afce2c9e5669",
   "metadata": {},
   "outputs": [],
   "source": [
    "np.stack(best_swmhau_network_grp_kfold_35[\"precision_scores\"]).mean(axis=0)"
   ]
  },
  {
   "cell_type": "code",
   "execution_count": null,
   "id": "deaac52e-6629-4742-a3eb-2030f3f579eb",
   "metadata": {},
   "outputs": [],
   "source": [
    "np.stack(best_swmhau_network_grp_kfold_35[\"recall_scores\"]).mean(axis=0)"
   ]
  },
  {
   "cell_type": "markdown",
   "id": "c3333a1a-2762-4c91-af59-a53e741e504e",
   "metadata": {},
   "source": [
    "# w=80"
   ]
  },
  {
   "cell_type": "code",
   "execution_count": null,
   "id": "80835952-9c7a-4898-a351-2ea018526dca",
   "metadata": {},
   "outputs": [],
   "source": [
    "size = 80"
   ]
  },
  {
   "cell_type": "markdown",
   "id": "fc6e8302-da63-40d4-8903-e4510fa31d11",
   "metadata": {},
   "source": [
    "## UMAP"
   ]
  },
  {
   "cell_type": "code",
   "execution_count": null,
   "id": "d1bceef7-f0cf-4837-922c-d1f28352bd48",
   "metadata": {
    "tags": []
   },
   "outputs": [],
   "source": [
    "(\n",
    "    swmhau_network_umap_kfold_80,\n",
    "    best_swmhau_network_umap_kfold_80,\n",
    "    _,\n",
    "    __,\n",
    ") = swmhau_network_hyperparameter_search(\n",
    "    history_lengths=[size],\n",
    "    dim_reduce_methods=[\"umap\"],\n",
    "    results_output=f\"{output_dir}/swmhau_network_umap_focal_{gamma}_{size}_cls_kfold.csv\",\n",
    "    **kwargs,\n",
    ")"
   ]
  },
  {
   "cell_type": "code",
   "execution_count": null,
   "id": "f11eae8a-c6ff-4633-839c-3b961ab7c4d9",
   "metadata": {},
   "outputs": [],
   "source": [
    "swmhau_network_umap_kfold_80.groupby(\n",
    "    [\n",
    "        \"dimensions\",\n",
    "        \"output_channels\",\n",
    "        \"sig_depth\",\n",
    "        \"num_heads\",\n",
    "        \"num_layers\",\n",
    "        \"ffn_hidden_dim\",\n",
    "        \"learning_rate\",\n",
    "    ]\n",
    ").mean()"
   ]
  },
  {
   "cell_type": "code",
   "execution_count": null,
   "id": "1f9d6655-0a5d-4416-9b98-a654cd0507ac",
   "metadata": {},
   "outputs": [],
   "source": [
    "best_swmhau_network_umap_kfold_80"
   ]
  },
  {
   "cell_type": "code",
   "execution_count": null,
   "id": "968eaa33-8a74-4de9-863e-adf125adfe56",
   "metadata": {},
   "outputs": [],
   "source": [
    "best_swmhau_network_umap_kfold_80[\n",
    "    [\n",
    "        \"dimensions\",\n",
    "        \"output_channels\",\n",
    "        \"sig_depth\",\n",
    "        \"num_heads\",\n",
    "        \"num_layers\",\n",
    "        \"ffn_hidden_dim\",\n",
    "        \"dropout_rate\",\n",
    "        \"learning_rate\",\n",
    "    ]\n",
    "]"
   ]
  },
  {
   "cell_type": "code",
   "execution_count": null,
   "id": "68eec3ff-1bfa-4054-89c8-e11e84b791c4",
   "metadata": {},
   "outputs": [],
   "source": [
    "best_swmhau_network_umap_kfold_80[\"f1\"].mean()"
   ]
  },
  {
   "cell_type": "code",
   "execution_count": null,
   "id": "4c0faa6e-7a6d-476a-881a-ec7b635e1c8c",
   "metadata": {},
   "outputs": [],
   "source": [
    "best_swmhau_network_umap_kfold_80[\"precision\"].mean()"
   ]
  },
  {
   "cell_type": "code",
   "execution_count": null,
   "id": "282fb2f5-e2b3-4a30-b237-b8f615cada6a",
   "metadata": {},
   "outputs": [],
   "source": [
    "best_swmhau_network_umap_kfold_80[\"recall\"].mean()"
   ]
  },
  {
   "cell_type": "code",
   "execution_count": null,
   "id": "8dd4725c-e99a-4c75-bf7c-2780f4b30377",
   "metadata": {},
   "outputs": [],
   "source": [
    "np.stack(best_swmhau_network_umap_kfold_80[\"f1_scores\"]).mean(axis=0)"
   ]
  },
  {
   "cell_type": "code",
   "execution_count": null,
   "id": "265ef381-4750-4982-87cc-ad2904f48637",
   "metadata": {},
   "outputs": [],
   "source": [
    "np.stack(best_swmhau_network_umap_kfold_80[\"precision_scores\"]).mean(axis=0)"
   ]
  },
  {
   "cell_type": "code",
   "execution_count": null,
   "id": "e06d1631-6d31-49fd-868e-64340d6d3f08",
   "metadata": {},
   "outputs": [],
   "source": [
    "np.stack(best_swmhau_network_umap_kfold_80[\"recall_scores\"]).mean(axis=0)"
   ]
  },
  {
   "cell_type": "markdown",
   "id": "a3671de7-8514-4328-a29b-46cb2711d97d",
   "metadata": {},
   "source": [
    "## Random Projections"
   ]
  },
  {
   "cell_type": "code",
   "execution_count": null,
   "id": "72dd822e-01ca-4f03-b473-da5c76593542",
   "metadata": {},
   "outputs": [],
   "source": [
    "(\n",
    "    swmhau_network_grp_kfold_80,\n",
    "    best_swmhau_network_grp_kfold_80,\n",
    "    _,\n",
    "    __,\n",
    ") = swmhau_network_hyperparameter_search(\n",
    "    history_lengths=[size],\n",
    "    dim_reduce_methods=[\"gaussian_random_projection\"],\n",
    "    results_output=f\"{output_dir}/swmhau_network_grp_focal_{gamma}_{size}_cls_kfold.csv\",\n",
    "    **kwargs,\n",
    ")"
   ]
  },
  {
   "cell_type": "code",
   "execution_count": null,
   "id": "f308563f-7fa5-472e-b926-d1fcf9190aed",
   "metadata": {},
   "outputs": [],
   "source": [
    "swmhau_network_grp_kfold_80.groupby(\n",
    "    [\n",
    "        \"dimensions\",\n",
    "        \"output_channels\",\n",
    "        \"sig_depth\",\n",
    "        \"num_heads\",\n",
    "        \"num_layers\",\n",
    "        \"ffn_hidden_dim\",\n",
    "        \"dropout_rate\",\n",
    "        \"learning_rate\",\n",
    "    ]\n",
    ").mean()"
   ]
  },
  {
   "cell_type": "code",
   "execution_count": null,
   "id": "4702d6a4-4aab-44cf-aab9-cca0706b7107",
   "metadata": {},
   "outputs": [],
   "source": [
    "best_swmhau_network_grp_kfold_80"
   ]
  },
  {
   "cell_type": "code",
   "execution_count": null,
   "id": "8c6c4216-5cae-4cf9-a888-a27e9d2de7fe",
   "metadata": {},
   "outputs": [],
   "source": [
    "best_swmhau_network_grp_kfold_80[\n",
    "    [\n",
    "        \"dimensions\",\n",
    "        \"output_channels\",\n",
    "        \"sig_depth\",\n",
    "        \"num_heads\",\n",
    "        \"num_layers\",\n",
    "        \"ffn_hidden_dim\",\n",
    "        \"dropout_rate\",\n",
    "        \"learning_rate\",\n",
    "    ]\n",
    "]"
   ]
  },
  {
   "cell_type": "code",
   "execution_count": null,
   "id": "46e633ac-c6bf-4661-b3cf-15c19af041e6",
   "metadata": {},
   "outputs": [],
   "source": [
    "best_swmhau_network_grp_kfold_80[\"f1\"].mean()"
   ]
  },
  {
   "cell_type": "code",
   "execution_count": null,
   "id": "a594df0b-6355-4a0a-b5b1-d6a760bbdf1b",
   "metadata": {},
   "outputs": [],
   "source": [
    "best_swmhau_network_grp_kfold_80[\"precision\"].mean()"
   ]
  },
  {
   "cell_type": "code",
   "execution_count": null,
   "id": "78e2b1ac-d600-4b63-9856-3529ff7676c3",
   "metadata": {},
   "outputs": [],
   "source": [
    "best_swmhau_network_grp_kfold_80[\"recall\"].mean()"
   ]
  },
  {
   "cell_type": "code",
   "execution_count": null,
   "id": "b03c50da-f902-4057-a7f2-d132dd4a2ecd",
   "metadata": {},
   "outputs": [],
   "source": [
    "np.stack(best_swmhau_network_grp_kfold_80[\"f1_scores\"]).mean(axis=0)"
   ]
  },
  {
   "cell_type": "code",
   "execution_count": null,
   "id": "278fe85b-8bc7-4cf7-8c50-299baa0ef8f0",
   "metadata": {},
   "outputs": [],
   "source": [
    "np.stack(best_swmhau_network_grp_kfold_80[\"precision_scores\"]).mean(axis=0)"
   ]
  },
  {
   "cell_type": "code",
   "execution_count": null,
   "id": "c1e28278-b184-4b28-9e07-4027d1187384",
   "metadata": {},
   "outputs": [],
   "source": [
    "np.stack(best_swmhau_network_grp_kfold_80[\"recall_scores\"]).mean(axis=0)"
   ]
  }
 ],
 "metadata": {
  "kernelspec": {
   "display_name": "nlpsig-networks (Conda)",
   "language": "python",
   "name": "sys_nlpsig-networks"
  },
  "language_info": {
   "codemirror_mode": {
    "name": "ipython",
    "version": 3
   },
   "file_extension": ".py",
   "mimetype": "text/x-python",
   "name": "python",
   "nbconvert_exporter": "python",
   "pygments_lexer": "ipython3",
   "version": "3.8.17"
  }
 },
 "nbformat": 4,
 "nbformat_minor": 5
}
