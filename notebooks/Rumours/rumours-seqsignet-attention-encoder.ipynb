{
 "cells": [
  {
   "cell_type": "code",
   "execution_count": 1,
   "id": "a983a5e8",
   "metadata": {},
   "outputs": [],
   "source": [
    "import numpy as np\n",
    "import pickle\n",
    "import os\n",
    "\n",
    "seed = 2023"
   ]
  },
  {
   "cell_type": "code",
   "execution_count": 2,
   "id": "a4b2805b-1454-407d-9a0a-740341ebfd3c",
   "metadata": {},
   "outputs": [
    {
     "data": {
      "text/plain": [
       "device(type='cuda')"
      ]
     },
     "execution_count": 2,
     "metadata": {},
     "output_type": "execute_result"
    }
   ],
   "source": [
    "import torch\n",
    "\n",
    "# set device\n",
    "device = torch.device(\"cuda\" if torch.cuda.is_available() else \"cpu\")\n",
    "device"
   ]
  },
  {
   "cell_type": "code",
   "execution_count": 3,
   "id": "e4e666cc",
   "metadata": {},
   "outputs": [],
   "source": [
    "from nlpsig_networks.scripts.seqsignet_attention_encoder_functions import (\n",
    "    seqsignet_attention_encoder_hyperparameter_search,\n",
    ")"
   ]
  },
  {
   "cell_type": "code",
   "execution_count": 4,
   "id": "6e918dde",
   "metadata": {},
   "outputs": [],
   "source": [
    "output_dir = \"rumours_output\"\n",
    "if not os.path.isdir(output_dir):\n",
    "    os.makedirs(output_dir)"
   ]
  },
  {
   "cell_type": "markdown",
   "id": "f7409a03",
   "metadata": {},
   "source": [
    "## Rumours"
   ]
  },
  {
   "cell_type": "code",
   "execution_count": 5,
   "id": "f00bb922",
   "metadata": {},
   "outputs": [],
   "source": [
    "%run load_sbert-embeddings.py"
   ]
  },
  {
   "cell_type": "code",
   "execution_count": 6,
   "id": "720d820f",
   "metadata": {},
   "outputs": [
    {
     "data": {
      "text/html": [
       "<div>\n",
       "<style scoped>\n",
       "    .dataframe tbody tr th:only-of-type {\n",
       "        vertical-align: middle;\n",
       "    }\n",
       "\n",
       "    .dataframe tbody tr th {\n",
       "        vertical-align: top;\n",
       "    }\n",
       "\n",
       "    .dataframe thead th {\n",
       "        text-align: right;\n",
       "    }\n",
       "</style>\n",
       "<table border=\"1\" class=\"dataframe\">\n",
       "  <thead>\n",
       "    <tr style=\"text-align: right;\">\n",
       "      <th></th>\n",
       "      <th>id</th>\n",
       "      <th>label</th>\n",
       "      <th>datetime</th>\n",
       "      <th>text</th>\n",
       "      <th>timeline_id</th>\n",
       "      <th>set</th>\n",
       "    </tr>\n",
       "  </thead>\n",
       "  <tbody>\n",
       "    <tr>\n",
       "      <th>0</th>\n",
       "      <td>5.249902e+17</td>\n",
       "      <td>0</td>\n",
       "      <td>2014-10-22 18:26:23</td>\n",
       "      <td>Police have clarified that there were two shoo...</td>\n",
       "      <td>0</td>\n",
       "      <td>train</td>\n",
       "    </tr>\n",
       "    <tr>\n",
       "      <th>1</th>\n",
       "      <td>5.249906e+17</td>\n",
       "      <td>0</td>\n",
       "      <td>2014-10-22 18:27:58</td>\n",
       "      <td>@CTVNews you guys \"confirmed\" there were 3 sho...</td>\n",
       "      <td>0</td>\n",
       "      <td>train</td>\n",
       "    </tr>\n",
       "    <tr>\n",
       "      <th>2</th>\n",
       "      <td>5.249908e+17</td>\n",
       "      <td>1</td>\n",
       "      <td>2014-10-22 18:28:46</td>\n",
       "      <td>@CTVNews get it right. http://t.co/GHYxMuzPG9</td>\n",
       "      <td>0</td>\n",
       "      <td>train</td>\n",
       "    </tr>\n",
       "    <tr>\n",
       "      <th>3</th>\n",
       "      <td>5.249927e+17</td>\n",
       "      <td>1</td>\n",
       "      <td>2014-10-22 18:36:29</td>\n",
       "      <td>RT @CTVNews Police have clarified that there w...</td>\n",
       "      <td>0</td>\n",
       "      <td>train</td>\n",
       "    </tr>\n",
       "    <tr>\n",
       "      <th>4</th>\n",
       "      <td>5.250038e+17</td>\n",
       "      <td>1</td>\n",
       "      <td>2014-10-22 19:20:41</td>\n",
       "      <td>@CTVNews @ctvsaskatoon so what happened at Rid...</td>\n",
       "      <td>0</td>\n",
       "      <td>train</td>\n",
       "    </tr>\n",
       "  </tbody>\n",
       "</table>\n",
       "</div>"
      ],
      "text/plain": [
       "             id label            datetime  \\\n",
       "0  5.249902e+17     0 2014-10-22 18:26:23   \n",
       "1  5.249906e+17     0 2014-10-22 18:27:58   \n",
       "2  5.249908e+17     1 2014-10-22 18:28:46   \n",
       "3  5.249927e+17     1 2014-10-22 18:36:29   \n",
       "4  5.250038e+17     1 2014-10-22 19:20:41   \n",
       "\n",
       "                                                text timeline_id    set  \n",
       "0  Police have clarified that there were two shoo...           0  train  \n",
       "1  @CTVNews you guys \"confirmed\" there were 3 sho...           0  train  \n",
       "2      @CTVNews get it right. http://t.co/GHYxMuzPG9           0  train  \n",
       "3  RT @CTVNews Police have clarified that there w...           0  train  \n",
       "4  @CTVNews @ctvsaskatoon so what happened at Rid...           0  train  "
      ]
     },
     "execution_count": 6,
     "metadata": {},
     "output_type": "execute_result"
    }
   ],
   "source": [
    "df_rumours.head()"
   ]
  },
  {
   "cell_type": "markdown",
   "id": "da4ff92d",
   "metadata": {},
   "source": [
    "# SeqSigNet with Attention Network"
   ]
  },
  {
   "cell_type": "code",
   "execution_count": 7,
   "id": "90bfd87c",
   "metadata": {},
   "outputs": [],
   "source": [
    "features = [\"time_encoding\", \"timeline_index\"]\n",
    "standardise_method = [\"z_score\", None]\n",
    "include_features_in_path = True\n",
    "include_features_in_input = True"
   ]
  },
  {
   "cell_type": "code",
   "execution_count": 8,
   "id": "2a6b9a8c-ded5-44da-a451-77f363d394ee",
   "metadata": {},
   "outputs": [],
   "source": [
    "split_ids = torch.tensor(df_rumours['timeline_id'].astype(int))"
   ]
  },
  {
   "cell_type": "code",
   "execution_count": 9,
   "id": "9e9bee3b",
   "metadata": {},
   "outputs": [],
   "source": [
    "num_epochs = 100\n",
    "dimensions = [15]\n",
    "# define swmhau parameters: (output_channels, sig_depth, num_heads)\n",
    "swmhau_parameters = [(12, 3, 10), (8, 4, 6)]\n",
    "num_layers = [1]\n",
    "ffn_hidden_dim_sizes = [[256,256],[512,512]]\n",
    "dropout_rates = [0.1, 0.2]\n",
    "learning_rates = [1e-3, 1e-4, 5e-4]\n",
    "seeds = [1, 12, 123]\n",
    "loss = \"focal\"\n",
    "gamma = 2\n",
    "validation_metric = \"f1\"\n",
    "patience = 5"
   ]
  },
  {
   "cell_type": "code",
   "execution_count": 10,
   "id": "e6f156d3-800b-4913-89f8-916323d311a7",
   "metadata": {},
   "outputs": [],
   "source": [
    "kwargs = {\n",
    "    \"num_epochs\": num_epochs,\n",
    "    \"df\": df_rumours,\n",
    "    \"id_column\": \"timeline_id\",\n",
    "    \"label_column\": \"label\",\n",
    "    \"embeddings\": sbert_embeddings,\n",
    "    \"y_data\": y_data,\n",
    "    \"output_dim\": output_dim,\n",
    "    \"dimensions\": dimensions,\n",
    "    \"log_signature\": True,\n",
    "    \"pooling\": \"signature\",\n",
    "    \"transformer_encoder_layers\": 2,\n",
    "    \"swmhau_parameters\": swmhau_parameters,\n",
    "    \"num_layers\": num_layers,\n",
    "    \"ffn_hidden_dim_sizes\": ffn_hidden_dim_sizes,\n",
    "    \"dropout_rates\": dropout_rates,\n",
    "    \"learning_rates\": learning_rates,\n",
    "    \"seeds\": seeds,\n",
    "    \"loss\": loss,\n",
    "    \"gamma\": gamma,\n",
    "    \"device\": device,\n",
    "    \"features\": features,\n",
    "    \"standardise_method\": standardise_method,\n",
    "    \"include_features_in_path\": include_features_in_path,\n",
    "    \"include_features_in_input\": include_features_in_input,\n",
    "    \"split_ids\": split_ids,\n",
    "    \"k_fold\": True,\n",
    "    \"patience\": patience,\n",
    "    \"validation_metric\": validation_metric,\n",
    "    \"verbose\": False,\n",
    "}"
   ]
  },
  {
   "cell_type": "markdown",
   "id": "c065cd69-a3c1-4fbc-b72a-9555601c58de",
   "metadata": {
    "tags": []
   },
   "source": [
    "# history_length=11"
   ]
  },
  {
   "cell_type": "code",
   "execution_count": 11,
   "id": "9bbec9ab-4add-477f-8950-8123ce70766b",
   "metadata": {},
   "outputs": [],
   "source": [
    "shift = 3\n",
    "window_size = 5\n",
    "n = 3"
   ]
  },
  {
   "cell_type": "markdown",
   "id": "f0787150-8266-48ee-97f5-5f711ce899c7",
   "metadata": {},
   "source": [
    "## Random Projections"
   ]
  },
  {
   "cell_type": "code",
   "execution_count": 12,
   "id": "13a67a66",
   "metadata": {},
   "outputs": [
    {
     "data": {
      "application/vnd.jupyter.widget-view+json": {
       "model_id": "0ba5120e8b8e4c07ba9d735718b0886e",
       "version_major": 2,
       "version_minor": 0
      },
      "text/plain": [
       "  0%|          | 0/1 [00:00<?, ?it/s]"
      ]
     },
     "metadata": {},
     "output_type": "display_data"
    },
    {
     "data": {
      "application/vnd.jupyter.widget-view+json": {
       "model_id": "fc854d7bd44d4ca29a1a9bde517666bb",
       "version_major": 2,
       "version_minor": 0
      },
      "text/plain": [
       "  0%|          | 0/1 [00:00<?, ?it/s]"
      ]
     },
     "metadata": {},
     "output_type": "display_data"
    },
    {
     "name": "stdout",
     "output_type": "stream",
     "text": [
      "\n",
      "##################################################\n",
      "dimension: 15 | method: umap\n",
      "given shift 3, window size 5 and n 3: history length = 11\n",
      "[INFO] Concatenating the embeddings to the dataframe...\n",
      "[INFO] - columns beginning with 'e' denote the full embddings.\n",
      "[INFO] - columns beginning with 'd' denote the dimension reduced embeddings.\n",
      "[INFO] Adding time feature columns into dataframe in `.df`.\n",
      "[INFO] Adding 'time_encoding' feature...\n",
      "[INFO] Adding 'time_diff' feature...\n",
      "[INFO] Adding 'timeline_index' feature...\n",
      "[INFO] Padding ids and storing in `.df_padded` and `.array_padded` attributes.\n"
     ]
    },
    {
     "data": {
      "application/vnd.jupyter.widget-view+json": {
       "model_id": "e66f75dce94b471287fad3873c0c53bb",
       "version_major": 2,
       "version_minor": 0
      },
      "text/plain": [
       "  0%|          | 0/5568 [00:00<?, ?it/s]"
      ]
     },
     "metadata": {},
     "output_type": "display_data"
    },
    {
     "name": "stdout",
     "output_type": "stream",
     "text": [
      "[INFO] The path was created for each item in the dataframe, by looking at its history, so to include embeddings in the FFN input, we concatenate the embeddings for each sentence / text.\n"
     ]
    },
    {
     "data": {
      "application/vnd.jupyter.widget-view+json": {
       "model_id": "c68034a7851447a39d79a046715029f8",
       "version_major": 2,
       "version_minor": 0
      },
      "text/plain": [
       "  0%|          | 0/2 [00:00<?, ?it/s]"
      ]
     },
     "metadata": {},
     "output_type": "display_data"
    },
    {
     "data": {
      "application/vnd.jupyter.widget-view+json": {
       "model_id": "a2e8b57ab3e040b8bb5f3247964a3eee",
       "version_major": 2,
       "version_minor": 0
      },
      "text/plain": [
       "  0%|          | 0/1 [00:00<?, ?it/s]"
      ]
     },
     "metadata": {},
     "output_type": "display_data"
    },
    {
     "data": {
      "application/vnd.jupyter.widget-view+json": {
       "model_id": "fe89f371621f4d559cf08a200451ffef",
       "version_major": 2,
       "version_minor": 0
      },
      "text/plain": [
       "  0%|          | 0/2 [00:00<?, ?it/s]"
      ]
     },
     "metadata": {},
     "output_type": "display_data"
    },
    {
     "data": {
      "application/vnd.jupyter.widget-view+json": {
       "model_id": "b91c490a0b1441be86b09fe57c4caf77",
       "version_major": 2,
       "version_minor": 0
      },
      "text/plain": [
       "  0%|          | 0/2 [00:00<?, ?it/s]"
      ]
     },
     "metadata": {},
     "output_type": "display_data"
    },
    {
     "data": {
      "application/vnd.jupyter.widget-view+json": {
       "model_id": "d591130b514348ee9e0895f542b427a7",
       "version_major": 2,
       "version_minor": 0
      },
      "text/plain": [
       "  0%|          | 0/3 [00:00<?, ?it/s]"
      ]
     },
     "metadata": {},
     "output_type": "display_data"
    },
    {
     "data": {
      "application/vnd.jupyter.widget-view+json": {
       "model_id": "6f0e112daea949e4964da7181bf21c60",
       "version_major": 2,
       "version_minor": 0
      },
      "text/plain": [
       "  0%|          | 0/3 [00:00<?, ?it/s]"
      ]
     },
     "metadata": {},
     "output_type": "display_data"
    },
    {
     "data": {
      "application/vnd.jupyter.widget-view+json": {
       "model_id": "a3579df33be941c8b5ad0e243a8b01e8",
       "version_major": 2,
       "version_minor": 0
      },
      "text/plain": [
       "  0%|          | 0/2 [00:00<?, ?it/s]"
      ]
     },
     "metadata": {},
     "output_type": "display_data"
    },
    {
     "data": {
      "application/vnd.jupyter.widget-view+json": {
       "model_id": "c9e54ec1d9bc434e8a24bdd4f4f367f9",
       "version_major": 2,
       "version_minor": 0
      },
      "text/plain": [
       "  0%|          | 0/3 [00:00<?, ?it/s]"
      ]
     },
     "metadata": {},
     "output_type": "display_data"
    },
    {
     "data": {
      "application/vnd.jupyter.widget-view+json": {
       "model_id": "08c9d8d045924a32ba3c333003f87ccd",
       "version_major": 2,
       "version_minor": 0
      },
      "text/plain": [
       "  0%|          | 0/3 [00:00<?, ?it/s]"
      ]
     },
     "metadata": {},
     "output_type": "display_data"
    },
    {
     "data": {
      "application/vnd.jupyter.widget-view+json": {
       "model_id": "2f2e26d59d634532958a2e59b1e53a19",
       "version_major": 2,
       "version_minor": 0
      },
      "text/plain": [
       "  0%|          | 0/1 [00:00<?, ?it/s]"
      ]
     },
     "metadata": {},
     "output_type": "display_data"
    },
    {
     "data": {
      "application/vnd.jupyter.widget-view+json": {
       "model_id": "70b0be6a9dfd463e8e8901716aaa082e",
       "version_major": 2,
       "version_minor": 0
      },
      "text/plain": [
       "  0%|          | 0/2 [00:00<?, ?it/s]"
      ]
     },
     "metadata": {},
     "output_type": "display_data"
    },
    {
     "data": {
      "application/vnd.jupyter.widget-view+json": {
       "model_id": "eceba47ebe83493db1965c078318d94d",
       "version_major": 2,
       "version_minor": 0
      },
      "text/plain": [
       "  0%|          | 0/2 [00:00<?, ?it/s]"
      ]
     },
     "metadata": {},
     "output_type": "display_data"
    },
    {
     "data": {
      "application/vnd.jupyter.widget-view+json": {
       "model_id": "e09f4b17fd1147d3ae6d861e5e37cb63",
       "version_major": 2,
       "version_minor": 0
      },
      "text/plain": [
       "  0%|          | 0/3 [00:00<?, ?it/s]"
      ]
     },
     "metadata": {},
     "output_type": "display_data"
    },
    {
     "data": {
      "application/vnd.jupyter.widget-view+json": {
       "model_id": "f0ea69df87404f93ac9e37598ff0e2cd",
       "version_major": 2,
       "version_minor": 0
      },
      "text/plain": [
       "  0%|          | 0/3 [00:00<?, ?it/s]"
      ]
     },
     "metadata": {},
     "output_type": "display_data"
    },
    {
     "data": {
      "application/vnd.jupyter.widget-view+json": {
       "model_id": "507bced877d74e61b33a5a82bcfaf4d4",
       "version_major": 2,
       "version_minor": 0
      },
      "text/plain": [
       "  0%|          | 0/2 [00:00<?, ?it/s]"
      ]
     },
     "metadata": {},
     "output_type": "display_data"
    },
    {
     "data": {
      "application/vnd.jupyter.widget-view+json": {
       "model_id": "dd2b4e5f69a34993a5a6fa6f9d2d3988",
       "version_major": 2,
       "version_minor": 0
      },
      "text/plain": [
       "  0%|          | 0/3 [00:00<?, ?it/s]"
      ]
     },
     "metadata": {},
     "output_type": "display_data"
    },
    {
     "data": {
      "application/vnd.jupyter.widget-view+json": {
       "model_id": "a37a29ef7da34964b309645cbab6ab52",
       "version_major": 2,
       "version_minor": 0
      },
      "text/plain": [
       "  0%|          | 0/3 [00:00<?, ?it/s]"
      ]
     },
     "metadata": {},
     "output_type": "display_data"
    },
    {
     "name": "stdout",
     "output_type": "stream",
     "text": [
      "given shift 3, window size 5 and n 3: history length = 11\n",
      "[INFO] Concatenating the embeddings to the dataframe...\n",
      "[INFO] - columns beginning with 'e' denote the full embddings.\n",
      "[INFO] - columns beginning with 'd' denote the dimension reduced embeddings.\n",
      "[INFO] Adding time feature columns into dataframe in `.df`.\n",
      "[INFO] Adding 'time_encoding' feature...\n",
      "[INFO] Adding 'time_diff' feature...\n",
      "[INFO] Adding 'timeline_index' feature...\n",
      "[INFO] Padding ids and storing in `.df_padded` and `.array_padded` attributes.\n"
     ]
    },
    {
     "data": {
      "application/vnd.jupyter.widget-view+json": {
       "model_id": "73acddfcbbe54dfebd941d89d5321aca",
       "version_major": 2,
       "version_minor": 0
      },
      "text/plain": [
       "  0%|          | 0/5568 [00:00<?, ?it/s]"
      ]
     },
     "metadata": {},
     "output_type": "display_data"
    },
    {
     "name": "stdout",
     "output_type": "stream",
     "text": [
      "[INFO] The path was created for each item in the dataframe, by looking at its history, so to include embeddings in the FFN input, we concatenate the embeddings for each sentence / text.\n",
      "saving results dataframe to CSV for this hyperparameter search in rumours_output/seqsignet_attention_encoder_umap_focal_2_3_5_3_kfold.csv\n",
      "saving the best model results dataframe to CSV for this hyperparameter search in rumours_output/seqsignet_attention_encoder_umap_focal_2_3_5_3_kfold_best_model.csv\n"
     ]
    }
   ],
   "source": [
    "(\n",
    "    seqsignet_attention_encoder_umap_11,\n",
    "    best_seqsignet_attention_encoder_umap_11,\n",
    "    _,\n",
    "    __,\n",
    ") = seqsignet_attention_encoder_hyperparameter_search(\n",
    "    shift=shift,\n",
    "    window_size=window_size,\n",
    "    n=n,\n",
    "    dim_reduce_methods=[\"umap\"],\n",
    "    results_output=f\"{output_dir}/seqsignet_attention_encoder_umap_focal_{gamma}_{shift}_{window_size}_{n}_kfold.csv\",\n",
    "    **kwargs,\n",
    ")"
   ]
  },
  {
   "cell_type": "code",
   "execution_count": 13,
   "id": "0ec7c660",
   "metadata": {},
   "outputs": [
    {
     "name": "stderr",
     "output_type": "stream",
     "text": [
      "/tmp/ipykernel_1358432/2250631359.py:1: FutureWarning: The default value of numeric_only in DataFrameGroupBy.mean is deprecated. In a future version, numeric_only will default to False. Either specify numeric_only or select only columns which should be valid for the function.\n",
      "  seqsignet_attention_encoder_umap_11.groupby(\n"
     ]
    },
    {
     "data": {
      "text/html": [
       "<div>\n",
       "<style scoped>\n",
       "    .dataframe tbody tr th:only-of-type {\n",
       "        vertical-align: middle;\n",
       "    }\n",
       "\n",
       "    .dataframe tbody tr th {\n",
       "        vertical-align: top;\n",
       "    }\n",
       "\n",
       "    .dataframe thead th {\n",
       "        text-align: right;\n",
       "    }\n",
       "</style>\n",
       "<table border=\"1\" class=\"dataframe\">\n",
       "  <thead>\n",
       "    <tr style=\"text-align: right;\">\n",
       "      <th></th>\n",
       "      <th></th>\n",
       "      <th></th>\n",
       "      <th></th>\n",
       "      <th></th>\n",
       "      <th></th>\n",
       "      <th></th>\n",
       "      <th></th>\n",
       "      <th>accuracy</th>\n",
       "      <th>f1</th>\n",
       "      <th>precision</th>\n",
       "      <th>recall</th>\n",
       "      <th>valid_accuracy</th>\n",
       "      <th>valid_f1</th>\n",
       "      <th>valid_precision</th>\n",
       "      <th>valid_recall</th>\n",
       "      <th>k</th>\n",
       "      <th>shift</th>\n",
       "      <th>...</th>\n",
       "      <th>embedding_dim</th>\n",
       "      <th>num_features</th>\n",
       "      <th>log_signature</th>\n",
       "      <th>transformer_encoder_layers</th>\n",
       "      <th>seed</th>\n",
       "      <th>gamma</th>\n",
       "      <th>k_fold</th>\n",
       "      <th>n_splits</th>\n",
       "      <th>batch_size</th>\n",
       "      <th>model_id</th>\n",
       "    </tr>\n",
       "    <tr>\n",
       "      <th>dimensions</th>\n",
       "      <th>output_channels</th>\n",
       "      <th>sig_depth</th>\n",
       "      <th>num_heads</th>\n",
       "      <th>num_layers</th>\n",
       "      <th>ffn_hidden_dim</th>\n",
       "      <th>dropout_rate</th>\n",
       "      <th>learning_rate</th>\n",
       "      <th></th>\n",
       "      <th></th>\n",
       "      <th></th>\n",
       "      <th></th>\n",
       "      <th></th>\n",
       "      <th></th>\n",
       "      <th></th>\n",
       "      <th></th>\n",
       "      <th></th>\n",
       "      <th></th>\n",
       "      <th></th>\n",
       "      <th></th>\n",
       "      <th></th>\n",
       "      <th></th>\n",
       "      <th></th>\n",
       "      <th></th>\n",
       "      <th></th>\n",
       "      <th></th>\n",
       "      <th></th>\n",
       "      <th></th>\n",
       "      <th></th>\n",
       "    </tr>\n",
       "  </thead>\n",
       "  <tbody>\n",
       "    <tr>\n",
       "      <th rowspan=\"24\" valign=\"top\">15</th>\n",
       "      <th rowspan=\"12\" valign=\"top\">8</th>\n",
       "      <th rowspan=\"12\" valign=\"top\">4</th>\n",
       "      <th rowspan=\"12\" valign=\"top\">6</th>\n",
       "      <th rowspan=\"12\" valign=\"top\">1</th>\n",
       "      <th rowspan=\"6\" valign=\"top\">(256, 256)</th>\n",
       "      <th rowspan=\"3\" valign=\"top\">0.1</th>\n",
       "      <th>0.0001</th>\n",
       "      <td>0.685617</td>\n",
       "      <td>0.655365</td>\n",
       "      <td>0.655356</td>\n",
       "      <td>0.656018</td>\n",
       "      <td>0.720088</td>\n",
       "      <td>0.699684</td>\n",
       "      <td>0.702986</td>\n",
       "      <td>0.697610</td>\n",
       "      <td>11.0</td>\n",
       "      <td>3.0</td>\n",
       "      <td>...</td>\n",
       "      <td>384.0</td>\n",
       "      <td>2.0</td>\n",
       "      <td>1.0</td>\n",
       "      <td>2.0</td>\n",
       "      <td>45.333333</td>\n",
       "      <td>2.0</td>\n",
       "      <td>1.0</td>\n",
       "      <td>5.0</td>\n",
       "      <td>64.0</td>\n",
       "      <td>13.0</td>\n",
       "    </tr>\n",
       "    <tr>\n",
       "      <th>0.0005</th>\n",
       "      <td>0.697794</td>\n",
       "      <td>0.668842</td>\n",
       "      <td>0.668613</td>\n",
       "      <td>0.669444</td>\n",
       "      <td>0.716584</td>\n",
       "      <td>0.696305</td>\n",
       "      <td>0.699299</td>\n",
       "      <td>0.694574</td>\n",
       "      <td>11.0</td>\n",
       "      <td>3.0</td>\n",
       "      <td>...</td>\n",
       "      <td>384.0</td>\n",
       "      <td>2.0</td>\n",
       "      <td>1.0</td>\n",
       "      <td>2.0</td>\n",
       "      <td>45.333333</td>\n",
       "      <td>2.0</td>\n",
       "      <td>1.0</td>\n",
       "      <td>5.0</td>\n",
       "      <td>64.0</td>\n",
       "      <td>14.0</td>\n",
       "    </tr>\n",
       "    <tr>\n",
       "      <th>0.0010</th>\n",
       "      <td>0.701522</td>\n",
       "      <td>0.670383</td>\n",
       "      <td>0.671244</td>\n",
       "      <td>0.669604</td>\n",
       "      <td>0.716449</td>\n",
       "      <td>0.693954</td>\n",
       "      <td>0.698716</td>\n",
       "      <td>0.691048</td>\n",
       "      <td>11.0</td>\n",
       "      <td>3.0</td>\n",
       "      <td>...</td>\n",
       "      <td>384.0</td>\n",
       "      <td>2.0</td>\n",
       "      <td>1.0</td>\n",
       "      <td>2.0</td>\n",
       "      <td>45.333333</td>\n",
       "      <td>2.0</td>\n",
       "      <td>1.0</td>\n",
       "      <td>5.0</td>\n",
       "      <td>64.0</td>\n",
       "      <td>12.0</td>\n",
       "    </tr>\n",
       "    <tr>\n",
       "      <th rowspan=\"3\" valign=\"top\">0.2</th>\n",
       "      <th>0.0001</th>\n",
       "      <td>0.696738</td>\n",
       "      <td>0.645966</td>\n",
       "      <td>0.662653</td>\n",
       "      <td>0.641277</td>\n",
       "      <td>0.704722</td>\n",
       "      <td>0.669521</td>\n",
       "      <td>0.688259</td>\n",
       "      <td>0.665052</td>\n",
       "      <td>11.0</td>\n",
       "      <td>3.0</td>\n",
       "      <td>...</td>\n",
       "      <td>384.0</td>\n",
       "      <td>2.0</td>\n",
       "      <td>1.0</td>\n",
       "      <td>2.0</td>\n",
       "      <td>45.333333</td>\n",
       "      <td>2.0</td>\n",
       "      <td>1.0</td>\n",
       "      <td>5.0</td>\n",
       "      <td>64.0</td>\n",
       "      <td>16.0</td>\n",
       "    </tr>\n",
       "    <tr>\n",
       "      <th>0.0005</th>\n",
       "      <td>0.697919</td>\n",
       "      <td>0.667709</td>\n",
       "      <td>0.668187</td>\n",
       "      <td>0.667776</td>\n",
       "      <td>0.711596</td>\n",
       "      <td>0.690918</td>\n",
       "      <td>0.693752</td>\n",
       "      <td>0.689187</td>\n",
       "      <td>11.0</td>\n",
       "      <td>3.0</td>\n",
       "      <td>...</td>\n",
       "      <td>384.0</td>\n",
       "      <td>2.0</td>\n",
       "      <td>1.0</td>\n",
       "      <td>2.0</td>\n",
       "      <td>45.333333</td>\n",
       "      <td>2.0</td>\n",
       "      <td>1.0</td>\n",
       "      <td>5.0</td>\n",
       "      <td>64.0</td>\n",
       "      <td>17.0</td>\n",
       "    </tr>\n",
       "    <tr>\n",
       "      <th>0.0010</th>\n",
       "      <td>0.700093</td>\n",
       "      <td>0.669096</td>\n",
       "      <td>0.669936</td>\n",
       "      <td>0.668505</td>\n",
       "      <td>0.711282</td>\n",
       "      <td>0.689013</td>\n",
       "      <td>0.693235</td>\n",
       "      <td>0.686557</td>\n",
       "      <td>11.0</td>\n",
       "      <td>3.0</td>\n",
       "      <td>...</td>\n",
       "      <td>384.0</td>\n",
       "      <td>2.0</td>\n",
       "      <td>1.0</td>\n",
       "      <td>2.0</td>\n",
       "      <td>45.333333</td>\n",
       "      <td>2.0</td>\n",
       "      <td>1.0</td>\n",
       "      <td>5.0</td>\n",
       "      <td>64.0</td>\n",
       "      <td>15.0</td>\n",
       "    </tr>\n",
       "    <tr>\n",
       "      <th rowspan=\"6\" valign=\"top\">(512, 512)</th>\n",
       "      <th rowspan=\"3\" valign=\"top\">0.1</th>\n",
       "      <th>0.0001</th>\n",
       "      <td>0.696117</td>\n",
       "      <td>0.658541</td>\n",
       "      <td>0.663112</td>\n",
       "      <td>0.655645</td>\n",
       "      <td>0.722469</td>\n",
       "      <td>0.695475</td>\n",
       "      <td>0.706634</td>\n",
       "      <td>0.690753</td>\n",
       "      <td>11.0</td>\n",
       "      <td>3.0</td>\n",
       "      <td>...</td>\n",
       "      <td>384.0</td>\n",
       "      <td>2.0</td>\n",
       "      <td>1.0</td>\n",
       "      <td>2.0</td>\n",
       "      <td>45.333333</td>\n",
       "      <td>2.0</td>\n",
       "      <td>1.0</td>\n",
       "      <td>5.0</td>\n",
       "      <td>64.0</td>\n",
       "      <td>19.0</td>\n",
       "    </tr>\n",
       "    <tr>\n",
       "      <th>0.0005</th>\n",
       "      <td>0.697049</td>\n",
       "      <td>0.669398</td>\n",
       "      <td>0.668443</td>\n",
       "      <td>0.670716</td>\n",
       "      <td>0.711237</td>\n",
       "      <td>0.691805</td>\n",
       "      <td>0.693399</td>\n",
       "      <td>0.690594</td>\n",
       "      <td>11.0</td>\n",
       "      <td>3.0</td>\n",
       "      <td>...</td>\n",
       "      <td>384.0</td>\n",
       "      <td>2.0</td>\n",
       "      <td>1.0</td>\n",
       "      <td>2.0</td>\n",
       "      <td>45.333333</td>\n",
       "      <td>2.0</td>\n",
       "      <td>1.0</td>\n",
       "      <td>5.0</td>\n",
       "      <td>64.0</td>\n",
       "      <td>20.0</td>\n",
       "    </tr>\n",
       "    <tr>\n",
       "      <th>0.0010</th>\n",
       "      <td>0.694812</td>\n",
       "      <td>0.666063</td>\n",
       "      <td>0.665588</td>\n",
       "      <td>0.666863</td>\n",
       "      <td>0.710428</td>\n",
       "      <td>0.691021</td>\n",
       "      <td>0.692719</td>\n",
       "      <td>0.689918</td>\n",
       "      <td>11.0</td>\n",
       "      <td>3.0</td>\n",
       "      <td>...</td>\n",
       "      <td>384.0</td>\n",
       "      <td>2.0</td>\n",
       "      <td>1.0</td>\n",
       "      <td>2.0</td>\n",
       "      <td>45.333333</td>\n",
       "      <td>2.0</td>\n",
       "      <td>1.0</td>\n",
       "      <td>5.0</td>\n",
       "      <td>64.0</td>\n",
       "      <td>18.0</td>\n",
       "    </tr>\n",
       "    <tr>\n",
       "      <th rowspan=\"3\" valign=\"top\">0.2</th>\n",
       "      <th>0.0001</th>\n",
       "      <td>0.697111</td>\n",
       "      <td>0.640948</td>\n",
       "      <td>0.664020</td>\n",
       "      <td>0.636561</td>\n",
       "      <td>0.699465</td>\n",
       "      <td>0.657007</td>\n",
       "      <td>0.685526</td>\n",
       "      <td>0.653879</td>\n",
       "      <td>11.0</td>\n",
       "      <td>3.0</td>\n",
       "      <td>...</td>\n",
       "      <td>384.0</td>\n",
       "      <td>2.0</td>\n",
       "      <td>1.0</td>\n",
       "      <td>2.0</td>\n",
       "      <td>45.333333</td>\n",
       "      <td>2.0</td>\n",
       "      <td>1.0</td>\n",
       "      <td>5.0</td>\n",
       "      <td>64.0</td>\n",
       "      <td>22.0</td>\n",
       "    </tr>\n",
       "    <tr>\n",
       "      <th>0.0005</th>\n",
       "      <td>0.701833</td>\n",
       "      <td>0.667698</td>\n",
       "      <td>0.670708</td>\n",
       "      <td>0.665701</td>\n",
       "      <td>0.714112</td>\n",
       "      <td>0.688339</td>\n",
       "      <td>0.696816</td>\n",
       "      <td>0.684679</td>\n",
       "      <td>11.0</td>\n",
       "      <td>3.0</td>\n",
       "      <td>...</td>\n",
       "      <td>384.0</td>\n",
       "      <td>2.0</td>\n",
       "      <td>1.0</td>\n",
       "      <td>2.0</td>\n",
       "      <td>45.333333</td>\n",
       "      <td>2.0</td>\n",
       "      <td>1.0</td>\n",
       "      <td>5.0</td>\n",
       "      <td>64.0</td>\n",
       "      <td>23.0</td>\n",
       "    </tr>\n",
       "    <tr>\n",
       "      <th>0.0010</th>\n",
       "      <td>0.694874</td>\n",
       "      <td>0.663923</td>\n",
       "      <td>0.664981</td>\n",
       "      <td>0.663835</td>\n",
       "      <td>0.711821</td>\n",
       "      <td>0.690318</td>\n",
       "      <td>0.694431</td>\n",
       "      <td>0.688463</td>\n",
       "      <td>11.0</td>\n",
       "      <td>3.0</td>\n",
       "      <td>...</td>\n",
       "      <td>384.0</td>\n",
       "      <td>2.0</td>\n",
       "      <td>1.0</td>\n",
       "      <td>2.0</td>\n",
       "      <td>45.333333</td>\n",
       "      <td>2.0</td>\n",
       "      <td>1.0</td>\n",
       "      <td>5.0</td>\n",
       "      <td>64.0</td>\n",
       "      <td>21.0</td>\n",
       "    </tr>\n",
       "    <tr>\n",
       "      <th rowspan=\"12\" valign=\"top\">12</th>\n",
       "      <th rowspan=\"12\" valign=\"top\">3</th>\n",
       "      <th rowspan=\"12\" valign=\"top\">10</th>\n",
       "      <th rowspan=\"12\" valign=\"top\">1</th>\n",
       "      <th rowspan=\"6\" valign=\"top\">(256, 256)</th>\n",
       "      <th rowspan=\"3\" valign=\"top\">0.1</th>\n",
       "      <th>0.0001</th>\n",
       "      <td>0.681267</td>\n",
       "      <td>0.662481</td>\n",
       "      <td>0.660408</td>\n",
       "      <td>0.671006</td>\n",
       "      <td>0.765153</td>\n",
       "      <td>0.754304</td>\n",
       "      <td>0.752010</td>\n",
       "      <td>0.758169</td>\n",
       "      <td>11.0</td>\n",
       "      <td>3.0</td>\n",
       "      <td>...</td>\n",
       "      <td>384.0</td>\n",
       "      <td>2.0</td>\n",
       "      <td>1.0</td>\n",
       "      <td>2.0</td>\n",
       "      <td>45.333333</td>\n",
       "      <td>2.0</td>\n",
       "      <td>1.0</td>\n",
       "      <td>5.0</td>\n",
       "      <td>64.0</td>\n",
       "      <td>1.0</td>\n",
       "    </tr>\n",
       "    <tr>\n",
       "      <th>0.0005</th>\n",
       "      <td>0.704629</td>\n",
       "      <td>0.675821</td>\n",
       "      <td>0.676078</td>\n",
       "      <td>0.676300</td>\n",
       "      <td>0.717931</td>\n",
       "      <td>0.696479</td>\n",
       "      <td>0.700729</td>\n",
       "      <td>0.694125</td>\n",
       "      <td>11.0</td>\n",
       "      <td>3.0</td>\n",
       "      <td>...</td>\n",
       "      <td>384.0</td>\n",
       "      <td>2.0</td>\n",
       "      <td>1.0</td>\n",
       "      <td>2.0</td>\n",
       "      <td>45.333333</td>\n",
       "      <td>2.0</td>\n",
       "      <td>1.0</td>\n",
       "      <td>5.0</td>\n",
       "      <td>64.0</td>\n",
       "      <td>2.0</td>\n",
       "    </tr>\n",
       "    <tr>\n",
       "      <th>0.0010</th>\n",
       "      <td>0.698913</td>\n",
       "      <td>0.667042</td>\n",
       "      <td>0.668148</td>\n",
       "      <td>0.666080</td>\n",
       "      <td>0.718291</td>\n",
       "      <td>0.695043</td>\n",
       "      <td>0.700889</td>\n",
       "      <td>0.691790</td>\n",
       "      <td>11.0</td>\n",
       "      <td>3.0</td>\n",
       "      <td>...</td>\n",
       "      <td>384.0</td>\n",
       "      <td>2.0</td>\n",
       "      <td>1.0</td>\n",
       "      <td>2.0</td>\n",
       "      <td>45.333333</td>\n",
       "      <td>2.0</td>\n",
       "      <td>1.0</td>\n",
       "      <td>5.0</td>\n",
       "      <td>64.0</td>\n",
       "      <td>0.0</td>\n",
       "    </tr>\n",
       "    <tr>\n",
       "      <th rowspan=\"3\" valign=\"top\">0.2</th>\n",
       "      <th>0.0001</th>\n",
       "      <td>0.688661</td>\n",
       "      <td>0.655964</td>\n",
       "      <td>0.657012</td>\n",
       "      <td>0.655284</td>\n",
       "      <td>0.735274</td>\n",
       "      <td>0.713161</td>\n",
       "      <td>0.719719</td>\n",
       "      <td>0.709360</td>\n",
       "      <td>11.0</td>\n",
       "      <td>3.0</td>\n",
       "      <td>...</td>\n",
       "      <td>384.0</td>\n",
       "      <td>2.0</td>\n",
       "      <td>1.0</td>\n",
       "      <td>2.0</td>\n",
       "      <td>45.333333</td>\n",
       "      <td>2.0</td>\n",
       "      <td>1.0</td>\n",
       "      <td>5.0</td>\n",
       "      <td>64.0</td>\n",
       "      <td>4.0</td>\n",
       "    </tr>\n",
       "    <tr>\n",
       "      <th>0.0005</th>\n",
       "      <td>0.695620</td>\n",
       "      <td>0.667765</td>\n",
       "      <td>0.667134</td>\n",
       "      <td>0.669248</td>\n",
       "      <td>0.713888</td>\n",
       "      <td>0.694441</td>\n",
       "      <td>0.696396</td>\n",
       "      <td>0.693166</td>\n",
       "      <td>11.0</td>\n",
       "      <td>3.0</td>\n",
       "      <td>...</td>\n",
       "      <td>384.0</td>\n",
       "      <td>2.0</td>\n",
       "      <td>1.0</td>\n",
       "      <td>2.0</td>\n",
       "      <td>45.333333</td>\n",
       "      <td>2.0</td>\n",
       "      <td>1.0</td>\n",
       "      <td>5.0</td>\n",
       "      <td>64.0</td>\n",
       "      <td>5.0</td>\n",
       "    </tr>\n",
       "    <tr>\n",
       "      <th>0.0010</th>\n",
       "      <td>0.705747</td>\n",
       "      <td>0.668873</td>\n",
       "      <td>0.674218</td>\n",
       "      <td>0.665677</td>\n",
       "      <td>0.721885</td>\n",
       "      <td>0.695372</td>\n",
       "      <td>0.705564</td>\n",
       "      <td>0.690801</td>\n",
       "      <td>11.0</td>\n",
       "      <td>3.0</td>\n",
       "      <td>...</td>\n",
       "      <td>384.0</td>\n",
       "      <td>2.0</td>\n",
       "      <td>1.0</td>\n",
       "      <td>2.0</td>\n",
       "      <td>45.333333</td>\n",
       "      <td>2.0</td>\n",
       "      <td>1.0</td>\n",
       "      <td>5.0</td>\n",
       "      <td>64.0</td>\n",
       "      <td>3.0</td>\n",
       "    </tr>\n",
       "    <tr>\n",
       "      <th rowspan=\"6\" valign=\"top\">(512, 512)</th>\n",
       "      <th rowspan=\"3\" valign=\"top\">0.1</th>\n",
       "      <th>0.0001</th>\n",
       "      <td>0.674060</td>\n",
       "      <td>0.659892</td>\n",
       "      <td>0.661187</td>\n",
       "      <td>0.674321</td>\n",
       "      <td>0.758323</td>\n",
       "      <td>0.749383</td>\n",
       "      <td>0.747664</td>\n",
       "      <td>0.756544</td>\n",
       "      <td>11.0</td>\n",
       "      <td>3.0</td>\n",
       "      <td>...</td>\n",
       "      <td>384.0</td>\n",
       "      <td>2.0</td>\n",
       "      <td>1.0</td>\n",
       "      <td>2.0</td>\n",
       "      <td>45.333333</td>\n",
       "      <td>2.0</td>\n",
       "      <td>1.0</td>\n",
       "      <td>5.0</td>\n",
       "      <td>64.0</td>\n",
       "      <td>7.0</td>\n",
       "    </tr>\n",
       "    <tr>\n",
       "      <th>0.0005</th>\n",
       "      <td>0.696552</td>\n",
       "      <td>0.669206</td>\n",
       "      <td>0.668211</td>\n",
       "      <td>0.670703</td>\n",
       "      <td>0.712854</td>\n",
       "      <td>0.692881</td>\n",
       "      <td>0.695100</td>\n",
       "      <td>0.691358</td>\n",
       "      <td>11.0</td>\n",
       "      <td>3.0</td>\n",
       "      <td>...</td>\n",
       "      <td>384.0</td>\n",
       "      <td>2.0</td>\n",
       "      <td>1.0</td>\n",
       "      <td>2.0</td>\n",
       "      <td>45.333333</td>\n",
       "      <td>2.0</td>\n",
       "      <td>1.0</td>\n",
       "      <td>5.0</td>\n",
       "      <td>64.0</td>\n",
       "      <td>8.0</td>\n",
       "    </tr>\n",
       "    <tr>\n",
       "      <th>0.0010</th>\n",
       "      <td>0.699658</td>\n",
       "      <td>0.669456</td>\n",
       "      <td>0.669906</td>\n",
       "      <td>0.669278</td>\n",
       "      <td>0.715820</td>\n",
       "      <td>0.693571</td>\n",
       "      <td>0.698258</td>\n",
       "      <td>0.690925</td>\n",
       "      <td>11.0</td>\n",
       "      <td>3.0</td>\n",
       "      <td>...</td>\n",
       "      <td>384.0</td>\n",
       "      <td>2.0</td>\n",
       "      <td>1.0</td>\n",
       "      <td>2.0</td>\n",
       "      <td>45.333333</td>\n",
       "      <td>2.0</td>\n",
       "      <td>1.0</td>\n",
       "      <td>5.0</td>\n",
       "      <td>64.0</td>\n",
       "      <td>6.0</td>\n",
       "    </tr>\n",
       "    <tr>\n",
       "      <th rowspan=\"3\" valign=\"top\">0.2</th>\n",
       "      <th>0.0001</th>\n",
       "      <td>0.692637</td>\n",
       "      <td>0.671415</td>\n",
       "      <td>0.669973</td>\n",
       "      <td>0.678110</td>\n",
       "      <td>0.737925</td>\n",
       "      <td>0.724968</td>\n",
       "      <td>0.724616</td>\n",
       "      <td>0.728453</td>\n",
       "      <td>11.0</td>\n",
       "      <td>3.0</td>\n",
       "      <td>...</td>\n",
       "      <td>384.0</td>\n",
       "      <td>2.0</td>\n",
       "      <td>1.0</td>\n",
       "      <td>2.0</td>\n",
       "      <td>45.333333</td>\n",
       "      <td>2.0</td>\n",
       "      <td>1.0</td>\n",
       "      <td>5.0</td>\n",
       "      <td>64.0</td>\n",
       "      <td>10.0</td>\n",
       "    </tr>\n",
       "    <tr>\n",
       "      <th>0.0005</th>\n",
       "      <td>0.694812</td>\n",
       "      <td>0.667495</td>\n",
       "      <td>0.666502</td>\n",
       "      <td>0.669160</td>\n",
       "      <td>0.713034</td>\n",
       "      <td>0.694712</td>\n",
       "      <td>0.695879</td>\n",
       "      <td>0.694151</td>\n",
       "      <td>11.0</td>\n",
       "      <td>3.0</td>\n",
       "      <td>...</td>\n",
       "      <td>384.0</td>\n",
       "      <td>2.0</td>\n",
       "      <td>1.0</td>\n",
       "      <td>2.0</td>\n",
       "      <td>45.333333</td>\n",
       "      <td>2.0</td>\n",
       "      <td>1.0</td>\n",
       "      <td>5.0</td>\n",
       "      <td>64.0</td>\n",
       "      <td>11.0</td>\n",
       "    </tr>\n",
       "    <tr>\n",
       "      <th>0.0010</th>\n",
       "      <td>0.699348</td>\n",
       "      <td>0.665876</td>\n",
       "      <td>0.668239</td>\n",
       "      <td>0.664323</td>\n",
       "      <td>0.714382</td>\n",
       "      <td>0.691108</td>\n",
       "      <td>0.697021</td>\n",
       "      <td>0.688201</td>\n",
       "      <td>11.0</td>\n",
       "      <td>3.0</td>\n",
       "      <td>...</td>\n",
       "      <td>384.0</td>\n",
       "      <td>2.0</td>\n",
       "      <td>1.0</td>\n",
       "      <td>2.0</td>\n",
       "      <td>45.333333</td>\n",
       "      <td>2.0</td>\n",
       "      <td>1.0</td>\n",
       "      <td>5.0</td>\n",
       "      <td>64.0</td>\n",
       "      <td>9.0</td>\n",
       "    </tr>\n",
       "  </tbody>\n",
       "</table>\n",
       "<p>24 rows × 25 columns</p>\n",
       "</div>"
      ],
      "text/plain": [
       "                                                                                                     accuracy  \\\n",
       "dimensions output_channels sig_depth num_heads num_layers ffn_hidden_dim dropout_rate learning_rate             \n",
       "15         8               4         6         1          (256, 256)     0.1          0.0001         0.685617   \n",
       "                                                                                      0.0005         0.697794   \n",
       "                                                                                      0.0010         0.701522   \n",
       "                                                                         0.2          0.0001         0.696738   \n",
       "                                                                                      0.0005         0.697919   \n",
       "                                                                                      0.0010         0.700093   \n",
       "                                                          (512, 512)     0.1          0.0001         0.696117   \n",
       "                                                                                      0.0005         0.697049   \n",
       "                                                                                      0.0010         0.694812   \n",
       "                                                                         0.2          0.0001         0.697111   \n",
       "                                                                                      0.0005         0.701833   \n",
       "                                                                                      0.0010         0.694874   \n",
       "           12              3         10        1          (256, 256)     0.1          0.0001         0.681267   \n",
       "                                                                                      0.0005         0.704629   \n",
       "                                                                                      0.0010         0.698913   \n",
       "                                                                         0.2          0.0001         0.688661   \n",
       "                                                                                      0.0005         0.695620   \n",
       "                                                                                      0.0010         0.705747   \n",
       "                                                          (512, 512)     0.1          0.0001         0.674060   \n",
       "                                                                                      0.0005         0.696552   \n",
       "                                                                                      0.0010         0.699658   \n",
       "                                                                         0.2          0.0001         0.692637   \n",
       "                                                                                      0.0005         0.694812   \n",
       "                                                                                      0.0010         0.699348   \n",
       "\n",
       "                                                                                                           f1  \\\n",
       "dimensions output_channels sig_depth num_heads num_layers ffn_hidden_dim dropout_rate learning_rate             \n",
       "15         8               4         6         1          (256, 256)     0.1          0.0001         0.655365   \n",
       "                                                                                      0.0005         0.668842   \n",
       "                                                                                      0.0010         0.670383   \n",
       "                                                                         0.2          0.0001         0.645966   \n",
       "                                                                                      0.0005         0.667709   \n",
       "                                                                                      0.0010         0.669096   \n",
       "                                                          (512, 512)     0.1          0.0001         0.658541   \n",
       "                                                                                      0.0005         0.669398   \n",
       "                                                                                      0.0010         0.666063   \n",
       "                                                                         0.2          0.0001         0.640948   \n",
       "                                                                                      0.0005         0.667698   \n",
       "                                                                                      0.0010         0.663923   \n",
       "           12              3         10        1          (256, 256)     0.1          0.0001         0.662481   \n",
       "                                                                                      0.0005         0.675821   \n",
       "                                                                                      0.0010         0.667042   \n",
       "                                                                         0.2          0.0001         0.655964   \n",
       "                                                                                      0.0005         0.667765   \n",
       "                                                                                      0.0010         0.668873   \n",
       "                                                          (512, 512)     0.1          0.0001         0.659892   \n",
       "                                                                                      0.0005         0.669206   \n",
       "                                                                                      0.0010         0.669456   \n",
       "                                                                         0.2          0.0001         0.671415   \n",
       "                                                                                      0.0005         0.667495   \n",
       "                                                                                      0.0010         0.665876   \n",
       "\n",
       "                                                                                                     precision  \\\n",
       "dimensions output_channels sig_depth num_heads num_layers ffn_hidden_dim dropout_rate learning_rate              \n",
       "15         8               4         6         1          (256, 256)     0.1          0.0001          0.655356   \n",
       "                                                                                      0.0005          0.668613   \n",
       "                                                                                      0.0010          0.671244   \n",
       "                                                                         0.2          0.0001          0.662653   \n",
       "                                                                                      0.0005          0.668187   \n",
       "                                                                                      0.0010          0.669936   \n",
       "                                                          (512, 512)     0.1          0.0001          0.663112   \n",
       "                                                                                      0.0005          0.668443   \n",
       "                                                                                      0.0010          0.665588   \n",
       "                                                                         0.2          0.0001          0.664020   \n",
       "                                                                                      0.0005          0.670708   \n",
       "                                                                                      0.0010          0.664981   \n",
       "           12              3         10        1          (256, 256)     0.1          0.0001          0.660408   \n",
       "                                                                                      0.0005          0.676078   \n",
       "                                                                                      0.0010          0.668148   \n",
       "                                                                         0.2          0.0001          0.657012   \n",
       "                                                                                      0.0005          0.667134   \n",
       "                                                                                      0.0010          0.674218   \n",
       "                                                          (512, 512)     0.1          0.0001          0.661187   \n",
       "                                                                                      0.0005          0.668211   \n",
       "                                                                                      0.0010          0.669906   \n",
       "                                                                         0.2          0.0001          0.669973   \n",
       "                                                                                      0.0005          0.666502   \n",
       "                                                                                      0.0010          0.668239   \n",
       "\n",
       "                                                                                                       recall  \\\n",
       "dimensions output_channels sig_depth num_heads num_layers ffn_hidden_dim dropout_rate learning_rate             \n",
       "15         8               4         6         1          (256, 256)     0.1          0.0001         0.656018   \n",
       "                                                                                      0.0005         0.669444   \n",
       "                                                                                      0.0010         0.669604   \n",
       "                                                                         0.2          0.0001         0.641277   \n",
       "                                                                                      0.0005         0.667776   \n",
       "                                                                                      0.0010         0.668505   \n",
       "                                                          (512, 512)     0.1          0.0001         0.655645   \n",
       "                                                                                      0.0005         0.670716   \n",
       "                                                                                      0.0010         0.666863   \n",
       "                                                                         0.2          0.0001         0.636561   \n",
       "                                                                                      0.0005         0.665701   \n",
       "                                                                                      0.0010         0.663835   \n",
       "           12              3         10        1          (256, 256)     0.1          0.0001         0.671006   \n",
       "                                                                                      0.0005         0.676300   \n",
       "                                                                                      0.0010         0.666080   \n",
       "                                                                         0.2          0.0001         0.655284   \n",
       "                                                                                      0.0005         0.669248   \n",
       "                                                                                      0.0010         0.665677   \n",
       "                                                          (512, 512)     0.1          0.0001         0.674321   \n",
       "                                                                                      0.0005         0.670703   \n",
       "                                                                                      0.0010         0.669278   \n",
       "                                                                         0.2          0.0001         0.678110   \n",
       "                                                                                      0.0005         0.669160   \n",
       "                                                                                      0.0010         0.664323   \n",
       "\n",
       "                                                                                                     valid_accuracy  \\\n",
       "dimensions output_channels sig_depth num_heads num_layers ffn_hidden_dim dropout_rate learning_rate                   \n",
       "15         8               4         6         1          (256, 256)     0.1          0.0001               0.720088   \n",
       "                                                                                      0.0005               0.716584   \n",
       "                                                                                      0.0010               0.716449   \n",
       "                                                                         0.2          0.0001               0.704722   \n",
       "                                                                                      0.0005               0.711596   \n",
       "                                                                                      0.0010               0.711282   \n",
       "                                                          (512, 512)     0.1          0.0001               0.722469   \n",
       "                                                                                      0.0005               0.711237   \n",
       "                                                                                      0.0010               0.710428   \n",
       "                                                                         0.2          0.0001               0.699465   \n",
       "                                                                                      0.0005               0.714112   \n",
       "                                                                                      0.0010               0.711821   \n",
       "           12              3         10        1          (256, 256)     0.1          0.0001               0.765153   \n",
       "                                                                                      0.0005               0.717931   \n",
       "                                                                                      0.0010               0.718291   \n",
       "                                                                         0.2          0.0001               0.735274   \n",
       "                                                                                      0.0005               0.713888   \n",
       "                                                                                      0.0010               0.721885   \n",
       "                                                          (512, 512)     0.1          0.0001               0.758323   \n",
       "                                                                                      0.0005               0.712854   \n",
       "                                                                                      0.0010               0.715820   \n",
       "                                                                         0.2          0.0001               0.737925   \n",
       "                                                                                      0.0005               0.713034   \n",
       "                                                                                      0.0010               0.714382   \n",
       "\n",
       "                                                                                                     valid_f1  \\\n",
       "dimensions output_channels sig_depth num_heads num_layers ffn_hidden_dim dropout_rate learning_rate             \n",
       "15         8               4         6         1          (256, 256)     0.1          0.0001         0.699684   \n",
       "                                                                                      0.0005         0.696305   \n",
       "                                                                                      0.0010         0.693954   \n",
       "                                                                         0.2          0.0001         0.669521   \n",
       "                                                                                      0.0005         0.690918   \n",
       "                                                                                      0.0010         0.689013   \n",
       "                                                          (512, 512)     0.1          0.0001         0.695475   \n",
       "                                                                                      0.0005         0.691805   \n",
       "                                                                                      0.0010         0.691021   \n",
       "                                                                         0.2          0.0001         0.657007   \n",
       "                                                                                      0.0005         0.688339   \n",
       "                                                                                      0.0010         0.690318   \n",
       "           12              3         10        1          (256, 256)     0.1          0.0001         0.754304   \n",
       "                                                                                      0.0005         0.696479   \n",
       "                                                                                      0.0010         0.695043   \n",
       "                                                                         0.2          0.0001         0.713161   \n",
       "                                                                                      0.0005         0.694441   \n",
       "                                                                                      0.0010         0.695372   \n",
       "                                                          (512, 512)     0.1          0.0001         0.749383   \n",
       "                                                                                      0.0005         0.692881   \n",
       "                                                                                      0.0010         0.693571   \n",
       "                                                                         0.2          0.0001         0.724968   \n",
       "                                                                                      0.0005         0.694712   \n",
       "                                                                                      0.0010         0.691108   \n",
       "\n",
       "                                                                                                     valid_precision  \\\n",
       "dimensions output_channels sig_depth num_heads num_layers ffn_hidden_dim dropout_rate learning_rate                    \n",
       "15         8               4         6         1          (256, 256)     0.1          0.0001                0.702986   \n",
       "                                                                                      0.0005                0.699299   \n",
       "                                                                                      0.0010                0.698716   \n",
       "                                                                         0.2          0.0001                0.688259   \n",
       "                                                                                      0.0005                0.693752   \n",
       "                                                                                      0.0010                0.693235   \n",
       "                                                          (512, 512)     0.1          0.0001                0.706634   \n",
       "                                                                                      0.0005                0.693399   \n",
       "                                                                                      0.0010                0.692719   \n",
       "                                                                         0.2          0.0001                0.685526   \n",
       "                                                                                      0.0005                0.696816   \n",
       "                                                                                      0.0010                0.694431   \n",
       "           12              3         10        1          (256, 256)     0.1          0.0001                0.752010   \n",
       "                                                                                      0.0005                0.700729   \n",
       "                                                                                      0.0010                0.700889   \n",
       "                                                                         0.2          0.0001                0.719719   \n",
       "                                                                                      0.0005                0.696396   \n",
       "                                                                                      0.0010                0.705564   \n",
       "                                                          (512, 512)     0.1          0.0001                0.747664   \n",
       "                                                                                      0.0005                0.695100   \n",
       "                                                                                      0.0010                0.698258   \n",
       "                                                                         0.2          0.0001                0.724616   \n",
       "                                                                                      0.0005                0.695879   \n",
       "                                                                                      0.0010                0.697021   \n",
       "\n",
       "                                                                                                     valid_recall  \\\n",
       "dimensions output_channels sig_depth num_heads num_layers ffn_hidden_dim dropout_rate learning_rate                 \n",
       "15         8               4         6         1          (256, 256)     0.1          0.0001             0.697610   \n",
       "                                                                                      0.0005             0.694574   \n",
       "                                                                                      0.0010             0.691048   \n",
       "                                                                         0.2          0.0001             0.665052   \n",
       "                                                                                      0.0005             0.689187   \n",
       "                                                                                      0.0010             0.686557   \n",
       "                                                          (512, 512)     0.1          0.0001             0.690753   \n",
       "                                                                                      0.0005             0.690594   \n",
       "                                                                                      0.0010             0.689918   \n",
       "                                                                         0.2          0.0001             0.653879   \n",
       "                                                                                      0.0005             0.684679   \n",
       "                                                                                      0.0010             0.688463   \n",
       "           12              3         10        1          (256, 256)     0.1          0.0001             0.758169   \n",
       "                                                                                      0.0005             0.694125   \n",
       "                                                                                      0.0010             0.691790   \n",
       "                                                                         0.2          0.0001             0.709360   \n",
       "                                                                                      0.0005             0.693166   \n",
       "                                                                                      0.0010             0.690801   \n",
       "                                                          (512, 512)     0.1          0.0001             0.756544   \n",
       "                                                                                      0.0005             0.691358   \n",
       "                                                                                      0.0010             0.690925   \n",
       "                                                                         0.2          0.0001             0.728453   \n",
       "                                                                                      0.0005             0.694151   \n",
       "                                                                                      0.0010             0.688201   \n",
       "\n",
       "                                                                                                        k  \\\n",
       "dimensions output_channels sig_depth num_heads num_layers ffn_hidden_dim dropout_rate learning_rate         \n",
       "15         8               4         6         1          (256, 256)     0.1          0.0001         11.0   \n",
       "                                                                                      0.0005         11.0   \n",
       "                                                                                      0.0010         11.0   \n",
       "                                                                         0.2          0.0001         11.0   \n",
       "                                                                                      0.0005         11.0   \n",
       "                                                                                      0.0010         11.0   \n",
       "                                                          (512, 512)     0.1          0.0001         11.0   \n",
       "                                                                                      0.0005         11.0   \n",
       "                                                                                      0.0010         11.0   \n",
       "                                                                         0.2          0.0001         11.0   \n",
       "                                                                                      0.0005         11.0   \n",
       "                                                                                      0.0010         11.0   \n",
       "           12              3         10        1          (256, 256)     0.1          0.0001         11.0   \n",
       "                                                                                      0.0005         11.0   \n",
       "                                                                                      0.0010         11.0   \n",
       "                                                                         0.2          0.0001         11.0   \n",
       "                                                                                      0.0005         11.0   \n",
       "                                                                                      0.0010         11.0   \n",
       "                                                          (512, 512)     0.1          0.0001         11.0   \n",
       "                                                                                      0.0005         11.0   \n",
       "                                                                                      0.0010         11.0   \n",
       "                                                                         0.2          0.0001         11.0   \n",
       "                                                                                      0.0005         11.0   \n",
       "                                                                                      0.0010         11.0   \n",
       "\n",
       "                                                                                                     shift  \\\n",
       "dimensions output_channels sig_depth num_heads num_layers ffn_hidden_dim dropout_rate learning_rate          \n",
       "15         8               4         6         1          (256, 256)     0.1          0.0001           3.0   \n",
       "                                                                                      0.0005           3.0   \n",
       "                                                                                      0.0010           3.0   \n",
       "                                                                         0.2          0.0001           3.0   \n",
       "                                                                                      0.0005           3.0   \n",
       "                                                                                      0.0010           3.0   \n",
       "                                                          (512, 512)     0.1          0.0001           3.0   \n",
       "                                                                                      0.0005           3.0   \n",
       "                                                                                      0.0010           3.0   \n",
       "                                                                         0.2          0.0001           3.0   \n",
       "                                                                                      0.0005           3.0   \n",
       "                                                                                      0.0010           3.0   \n",
       "           12              3         10        1          (256, 256)     0.1          0.0001           3.0   \n",
       "                                                                                      0.0005           3.0   \n",
       "                                                                                      0.0010           3.0   \n",
       "                                                                         0.2          0.0001           3.0   \n",
       "                                                                                      0.0005           3.0   \n",
       "                                                                                      0.0010           3.0   \n",
       "                                                          (512, 512)     0.1          0.0001           3.0   \n",
       "                                                                                      0.0005           3.0   \n",
       "                                                                                      0.0010           3.0   \n",
       "                                                                         0.2          0.0001           3.0   \n",
       "                                                                                      0.0005           3.0   \n",
       "                                                                                      0.0010           3.0   \n",
       "\n",
       "                                                                                                     ...  \\\n",
       "dimensions output_channels sig_depth num_heads num_layers ffn_hidden_dim dropout_rate learning_rate  ...   \n",
       "15         8               4         6         1          (256, 256)     0.1          0.0001         ...   \n",
       "                                                                                      0.0005         ...   \n",
       "                                                                                      0.0010         ...   \n",
       "                                                                         0.2          0.0001         ...   \n",
       "                                                                                      0.0005         ...   \n",
       "                                                                                      0.0010         ...   \n",
       "                                                          (512, 512)     0.1          0.0001         ...   \n",
       "                                                                                      0.0005         ...   \n",
       "                                                                                      0.0010         ...   \n",
       "                                                                         0.2          0.0001         ...   \n",
       "                                                                                      0.0005         ...   \n",
       "                                                                                      0.0010         ...   \n",
       "           12              3         10        1          (256, 256)     0.1          0.0001         ...   \n",
       "                                                                                      0.0005         ...   \n",
       "                                                                                      0.0010         ...   \n",
       "                                                                         0.2          0.0001         ...   \n",
       "                                                                                      0.0005         ...   \n",
       "                                                                                      0.0010         ...   \n",
       "                                                          (512, 512)     0.1          0.0001         ...   \n",
       "                                                                                      0.0005         ...   \n",
       "                                                                                      0.0010         ...   \n",
       "                                                                         0.2          0.0001         ...   \n",
       "                                                                                      0.0005         ...   \n",
       "                                                                                      0.0010         ...   \n",
       "\n",
       "                                                                                                     embedding_dim  \\\n",
       "dimensions output_channels sig_depth num_heads num_layers ffn_hidden_dim dropout_rate learning_rate                  \n",
       "15         8               4         6         1          (256, 256)     0.1          0.0001                 384.0   \n",
       "                                                                                      0.0005                 384.0   \n",
       "                                                                                      0.0010                 384.0   \n",
       "                                                                         0.2          0.0001                 384.0   \n",
       "                                                                                      0.0005                 384.0   \n",
       "                                                                                      0.0010                 384.0   \n",
       "                                                          (512, 512)     0.1          0.0001                 384.0   \n",
       "                                                                                      0.0005                 384.0   \n",
       "                                                                                      0.0010                 384.0   \n",
       "                                                                         0.2          0.0001                 384.0   \n",
       "                                                                                      0.0005                 384.0   \n",
       "                                                                                      0.0010                 384.0   \n",
       "           12              3         10        1          (256, 256)     0.1          0.0001                 384.0   \n",
       "                                                                                      0.0005                 384.0   \n",
       "                                                                                      0.0010                 384.0   \n",
       "                                                                         0.2          0.0001                 384.0   \n",
       "                                                                                      0.0005                 384.0   \n",
       "                                                                                      0.0010                 384.0   \n",
       "                                                          (512, 512)     0.1          0.0001                 384.0   \n",
       "                                                                                      0.0005                 384.0   \n",
       "                                                                                      0.0010                 384.0   \n",
       "                                                                         0.2          0.0001                 384.0   \n",
       "                                                                                      0.0005                 384.0   \n",
       "                                                                                      0.0010                 384.0   \n",
       "\n",
       "                                                                                                     num_features  \\\n",
       "dimensions output_channels sig_depth num_heads num_layers ffn_hidden_dim dropout_rate learning_rate                 \n",
       "15         8               4         6         1          (256, 256)     0.1          0.0001                  2.0   \n",
       "                                                                                      0.0005                  2.0   \n",
       "                                                                                      0.0010                  2.0   \n",
       "                                                                         0.2          0.0001                  2.0   \n",
       "                                                                                      0.0005                  2.0   \n",
       "                                                                                      0.0010                  2.0   \n",
       "                                                          (512, 512)     0.1          0.0001                  2.0   \n",
       "                                                                                      0.0005                  2.0   \n",
       "                                                                                      0.0010                  2.0   \n",
       "                                                                         0.2          0.0001                  2.0   \n",
       "                                                                                      0.0005                  2.0   \n",
       "                                                                                      0.0010                  2.0   \n",
       "           12              3         10        1          (256, 256)     0.1          0.0001                  2.0   \n",
       "                                                                                      0.0005                  2.0   \n",
       "                                                                                      0.0010                  2.0   \n",
       "                                                                         0.2          0.0001                  2.0   \n",
       "                                                                                      0.0005                  2.0   \n",
       "                                                                                      0.0010                  2.0   \n",
       "                                                          (512, 512)     0.1          0.0001                  2.0   \n",
       "                                                                                      0.0005                  2.0   \n",
       "                                                                                      0.0010                  2.0   \n",
       "                                                                         0.2          0.0001                  2.0   \n",
       "                                                                                      0.0005                  2.0   \n",
       "                                                                                      0.0010                  2.0   \n",
       "\n",
       "                                                                                                     log_signature  \\\n",
       "dimensions output_channels sig_depth num_heads num_layers ffn_hidden_dim dropout_rate learning_rate                  \n",
       "15         8               4         6         1          (256, 256)     0.1          0.0001                   1.0   \n",
       "                                                                                      0.0005                   1.0   \n",
       "                                                                                      0.0010                   1.0   \n",
       "                                                                         0.2          0.0001                   1.0   \n",
       "                                                                                      0.0005                   1.0   \n",
       "                                                                                      0.0010                   1.0   \n",
       "                                                          (512, 512)     0.1          0.0001                   1.0   \n",
       "                                                                                      0.0005                   1.0   \n",
       "                                                                                      0.0010                   1.0   \n",
       "                                                                         0.2          0.0001                   1.0   \n",
       "                                                                                      0.0005                   1.0   \n",
       "                                                                                      0.0010                   1.0   \n",
       "           12              3         10        1          (256, 256)     0.1          0.0001                   1.0   \n",
       "                                                                                      0.0005                   1.0   \n",
       "                                                                                      0.0010                   1.0   \n",
       "                                                                         0.2          0.0001                   1.0   \n",
       "                                                                                      0.0005                   1.0   \n",
       "                                                                                      0.0010                   1.0   \n",
       "                                                          (512, 512)     0.1          0.0001                   1.0   \n",
       "                                                                                      0.0005                   1.0   \n",
       "                                                                                      0.0010                   1.0   \n",
       "                                                                         0.2          0.0001                   1.0   \n",
       "                                                                                      0.0005                   1.0   \n",
       "                                                                                      0.0010                   1.0   \n",
       "\n",
       "                                                                                                     transformer_encoder_layers  \\\n",
       "dimensions output_channels sig_depth num_heads num_layers ffn_hidden_dim dropout_rate learning_rate                               \n",
       "15         8               4         6         1          (256, 256)     0.1          0.0001                                2.0   \n",
       "                                                                                      0.0005                                2.0   \n",
       "                                                                                      0.0010                                2.0   \n",
       "                                                                         0.2          0.0001                                2.0   \n",
       "                                                                                      0.0005                                2.0   \n",
       "                                                                                      0.0010                                2.0   \n",
       "                                                          (512, 512)     0.1          0.0001                                2.0   \n",
       "                                                                                      0.0005                                2.0   \n",
       "                                                                                      0.0010                                2.0   \n",
       "                                                                         0.2          0.0001                                2.0   \n",
       "                                                                                      0.0005                                2.0   \n",
       "                                                                                      0.0010                                2.0   \n",
       "           12              3         10        1          (256, 256)     0.1          0.0001                                2.0   \n",
       "                                                                                      0.0005                                2.0   \n",
       "                                                                                      0.0010                                2.0   \n",
       "                                                                         0.2          0.0001                                2.0   \n",
       "                                                                                      0.0005                                2.0   \n",
       "                                                                                      0.0010                                2.0   \n",
       "                                                          (512, 512)     0.1          0.0001                                2.0   \n",
       "                                                                                      0.0005                                2.0   \n",
       "                                                                                      0.0010                                2.0   \n",
       "                                                                         0.2          0.0001                                2.0   \n",
       "                                                                                      0.0005                                2.0   \n",
       "                                                                                      0.0010                                2.0   \n",
       "\n",
       "                                                                                                          seed  \\\n",
       "dimensions output_channels sig_depth num_heads num_layers ffn_hidden_dim dropout_rate learning_rate              \n",
       "15         8               4         6         1          (256, 256)     0.1          0.0001         45.333333   \n",
       "                                                                                      0.0005         45.333333   \n",
       "                                                                                      0.0010         45.333333   \n",
       "                                                                         0.2          0.0001         45.333333   \n",
       "                                                                                      0.0005         45.333333   \n",
       "                                                                                      0.0010         45.333333   \n",
       "                                                          (512, 512)     0.1          0.0001         45.333333   \n",
       "                                                                                      0.0005         45.333333   \n",
       "                                                                                      0.0010         45.333333   \n",
       "                                                                         0.2          0.0001         45.333333   \n",
       "                                                                                      0.0005         45.333333   \n",
       "                                                                                      0.0010         45.333333   \n",
       "           12              3         10        1          (256, 256)     0.1          0.0001         45.333333   \n",
       "                                                                                      0.0005         45.333333   \n",
       "                                                                                      0.0010         45.333333   \n",
       "                                                                         0.2          0.0001         45.333333   \n",
       "                                                                                      0.0005         45.333333   \n",
       "                                                                                      0.0010         45.333333   \n",
       "                                                          (512, 512)     0.1          0.0001         45.333333   \n",
       "                                                                                      0.0005         45.333333   \n",
       "                                                                                      0.0010         45.333333   \n",
       "                                                                         0.2          0.0001         45.333333   \n",
       "                                                                                      0.0005         45.333333   \n",
       "                                                                                      0.0010         45.333333   \n",
       "\n",
       "                                                                                                     gamma  \\\n",
       "dimensions output_channels sig_depth num_heads num_layers ffn_hidden_dim dropout_rate learning_rate          \n",
       "15         8               4         6         1          (256, 256)     0.1          0.0001           2.0   \n",
       "                                                                                      0.0005           2.0   \n",
       "                                                                                      0.0010           2.0   \n",
       "                                                                         0.2          0.0001           2.0   \n",
       "                                                                                      0.0005           2.0   \n",
       "                                                                                      0.0010           2.0   \n",
       "                                                          (512, 512)     0.1          0.0001           2.0   \n",
       "                                                                                      0.0005           2.0   \n",
       "                                                                                      0.0010           2.0   \n",
       "                                                                         0.2          0.0001           2.0   \n",
       "                                                                                      0.0005           2.0   \n",
       "                                                                                      0.0010           2.0   \n",
       "           12              3         10        1          (256, 256)     0.1          0.0001           2.0   \n",
       "                                                                                      0.0005           2.0   \n",
       "                                                                                      0.0010           2.0   \n",
       "                                                                         0.2          0.0001           2.0   \n",
       "                                                                                      0.0005           2.0   \n",
       "                                                                                      0.0010           2.0   \n",
       "                                                          (512, 512)     0.1          0.0001           2.0   \n",
       "                                                                                      0.0005           2.0   \n",
       "                                                                                      0.0010           2.0   \n",
       "                                                                         0.2          0.0001           2.0   \n",
       "                                                                                      0.0005           2.0   \n",
       "                                                                                      0.0010           2.0   \n",
       "\n",
       "                                                                                                     k_fold  \\\n",
       "dimensions output_channels sig_depth num_heads num_layers ffn_hidden_dim dropout_rate learning_rate           \n",
       "15         8               4         6         1          (256, 256)     0.1          0.0001            1.0   \n",
       "                                                                                      0.0005            1.0   \n",
       "                                                                                      0.0010            1.0   \n",
       "                                                                         0.2          0.0001            1.0   \n",
       "                                                                                      0.0005            1.0   \n",
       "                                                                                      0.0010            1.0   \n",
       "                                                          (512, 512)     0.1          0.0001            1.0   \n",
       "                                                                                      0.0005            1.0   \n",
       "                                                                                      0.0010            1.0   \n",
       "                                                                         0.2          0.0001            1.0   \n",
       "                                                                                      0.0005            1.0   \n",
       "                                                                                      0.0010            1.0   \n",
       "           12              3         10        1          (256, 256)     0.1          0.0001            1.0   \n",
       "                                                                                      0.0005            1.0   \n",
       "                                                                                      0.0010            1.0   \n",
       "                                                                         0.2          0.0001            1.0   \n",
       "                                                                                      0.0005            1.0   \n",
       "                                                                                      0.0010            1.0   \n",
       "                                                          (512, 512)     0.1          0.0001            1.0   \n",
       "                                                                                      0.0005            1.0   \n",
       "                                                                                      0.0010            1.0   \n",
       "                                                                         0.2          0.0001            1.0   \n",
       "                                                                                      0.0005            1.0   \n",
       "                                                                                      0.0010            1.0   \n",
       "\n",
       "                                                                                                     n_splits  \\\n",
       "dimensions output_channels sig_depth num_heads num_layers ffn_hidden_dim dropout_rate learning_rate             \n",
       "15         8               4         6         1          (256, 256)     0.1          0.0001              5.0   \n",
       "                                                                                      0.0005              5.0   \n",
       "                                                                                      0.0010              5.0   \n",
       "                                                                         0.2          0.0001              5.0   \n",
       "                                                                                      0.0005              5.0   \n",
       "                                                                                      0.0010              5.0   \n",
       "                                                          (512, 512)     0.1          0.0001              5.0   \n",
       "                                                                                      0.0005              5.0   \n",
       "                                                                                      0.0010              5.0   \n",
       "                                                                         0.2          0.0001              5.0   \n",
       "                                                                                      0.0005              5.0   \n",
       "                                                                                      0.0010              5.0   \n",
       "           12              3         10        1          (256, 256)     0.1          0.0001              5.0   \n",
       "                                                                                      0.0005              5.0   \n",
       "                                                                                      0.0010              5.0   \n",
       "                                                                         0.2          0.0001              5.0   \n",
       "                                                                                      0.0005              5.0   \n",
       "                                                                                      0.0010              5.0   \n",
       "                                                          (512, 512)     0.1          0.0001              5.0   \n",
       "                                                                                      0.0005              5.0   \n",
       "                                                                                      0.0010              5.0   \n",
       "                                                                         0.2          0.0001              5.0   \n",
       "                                                                                      0.0005              5.0   \n",
       "                                                                                      0.0010              5.0   \n",
       "\n",
       "                                                                                                     batch_size  \\\n",
       "dimensions output_channels sig_depth num_heads num_layers ffn_hidden_dim dropout_rate learning_rate               \n",
       "15         8               4         6         1          (256, 256)     0.1          0.0001               64.0   \n",
       "                                                                                      0.0005               64.0   \n",
       "                                                                                      0.0010               64.0   \n",
       "                                                                         0.2          0.0001               64.0   \n",
       "                                                                                      0.0005               64.0   \n",
       "                                                                                      0.0010               64.0   \n",
       "                                                          (512, 512)     0.1          0.0001               64.0   \n",
       "                                                                                      0.0005               64.0   \n",
       "                                                                                      0.0010               64.0   \n",
       "                                                                         0.2          0.0001               64.0   \n",
       "                                                                                      0.0005               64.0   \n",
       "                                                                                      0.0010               64.0   \n",
       "           12              3         10        1          (256, 256)     0.1          0.0001               64.0   \n",
       "                                                                                      0.0005               64.0   \n",
       "                                                                                      0.0010               64.0   \n",
       "                                                                         0.2          0.0001               64.0   \n",
       "                                                                                      0.0005               64.0   \n",
       "                                                                                      0.0010               64.0   \n",
       "                                                          (512, 512)     0.1          0.0001               64.0   \n",
       "                                                                                      0.0005               64.0   \n",
       "                                                                                      0.0010               64.0   \n",
       "                                                                         0.2          0.0001               64.0   \n",
       "                                                                                      0.0005               64.0   \n",
       "                                                                                      0.0010               64.0   \n",
       "\n",
       "                                                                                                     model_id  \n",
       "dimensions output_channels sig_depth num_heads num_layers ffn_hidden_dim dropout_rate learning_rate            \n",
       "15         8               4         6         1          (256, 256)     0.1          0.0001             13.0  \n",
       "                                                                                      0.0005             14.0  \n",
       "                                                                                      0.0010             12.0  \n",
       "                                                                         0.2          0.0001             16.0  \n",
       "                                                                                      0.0005             17.0  \n",
       "                                                                                      0.0010             15.0  \n",
       "                                                          (512, 512)     0.1          0.0001             19.0  \n",
       "                                                                                      0.0005             20.0  \n",
       "                                                                                      0.0010             18.0  \n",
       "                                                                         0.2          0.0001             22.0  \n",
       "                                                                                      0.0005             23.0  \n",
       "                                                                                      0.0010             21.0  \n",
       "           12              3         10        1          (256, 256)     0.1          0.0001              1.0  \n",
       "                                                                                      0.0005              2.0  \n",
       "                                                                                      0.0010              0.0  \n",
       "                                                                         0.2          0.0001              4.0  \n",
       "                                                                                      0.0005              5.0  \n",
       "                                                                                      0.0010              3.0  \n",
       "                                                          (512, 512)     0.1          0.0001              7.0  \n",
       "                                                                                      0.0005              8.0  \n",
       "                                                                                      0.0010              6.0  \n",
       "                                                                         0.2          0.0001             10.0  \n",
       "                                                                                      0.0005             11.0  \n",
       "                                                                                      0.0010              9.0  \n",
       "\n",
       "[24 rows x 25 columns]"
      ]
     },
     "execution_count": 13,
     "metadata": {},
     "output_type": "execute_result"
    }
   ],
   "source": [
    "seqsignet_attention_encoder_umap_11.groupby(\n",
    "    [\n",
    "        \"dimensions\",\n",
    "        \"output_channels\",\n",
    "        \"sig_depth\",\n",
    "        \"num_heads\",\n",
    "        \"num_layers\",\n",
    "        \"ffn_hidden_dim\",\n",
    "        \"dropout_rate\",\n",
    "        \"learning_rate\",\n",
    "    ]\n",
    ").mean()"
   ]
  },
  {
   "cell_type": "code",
   "execution_count": 14,
   "id": "603dee18",
   "metadata": {},
   "outputs": [
    {
     "data": {
      "text/html": [
       "<div>\n",
       "<style scoped>\n",
       "    .dataframe tbody tr th:only-of-type {\n",
       "        vertical-align: middle;\n",
       "    }\n",
       "\n",
       "    .dataframe tbody tr th {\n",
       "        vertical-align: top;\n",
       "    }\n",
       "\n",
       "    .dataframe thead th {\n",
       "        text-align: right;\n",
       "    }\n",
       "</style>\n",
       "<table border=\"1\" class=\"dataframe\">\n",
       "  <thead>\n",
       "    <tr style=\"text-align: right;\">\n",
       "      <th></th>\n",
       "      <th>loss</th>\n",
       "      <th>accuracy</th>\n",
       "      <th>f1</th>\n",
       "      <th>f1_scores</th>\n",
       "      <th>precision</th>\n",
       "      <th>precision_scores</th>\n",
       "      <th>recall</th>\n",
       "      <th>recall_scores</th>\n",
       "      <th>valid_loss</th>\n",
       "      <th>valid_accuracy</th>\n",
       "      <th>...</th>\n",
       "      <th>learning_rate</th>\n",
       "      <th>seed</th>\n",
       "      <th>loss_function</th>\n",
       "      <th>gamma</th>\n",
       "      <th>k_fold</th>\n",
       "      <th>n_splits</th>\n",
       "      <th>augmentation_type</th>\n",
       "      <th>hidden_dim_aug</th>\n",
       "      <th>comb_method</th>\n",
       "      <th>batch_size</th>\n",
       "    </tr>\n",
       "  </thead>\n",
       "  <tbody>\n",
       "    <tr>\n",
       "      <th>0</th>\n",
       "      <td>None</td>\n",
       "      <td>0.687232</td>\n",
       "      <td>0.665652</td>\n",
       "      <td>[0.7505945303210464, 0.5807096451774113]</td>\n",
       "      <td>0.663072</td>\n",
       "      <td>[0.779320987654321, 0.5468235294117647]</td>\n",
       "      <td>0.671492</td>\n",
       "      <td>[0.7239105504587156, 0.619072988811934]</td>\n",
       "      <td>None</td>\n",
       "      <td>0.760615</td>\n",
       "      <td>...</td>\n",
       "      <td>0.0001</td>\n",
       "      <td>1</td>\n",
       "      <td>focal</td>\n",
       "      <td>2</td>\n",
       "      <td>True</td>\n",
       "      <td>5</td>\n",
       "      <td>Conv1d</td>\n",
       "      <td>None</td>\n",
       "      <td>concatenation</td>\n",
       "      <td>64</td>\n",
       "    </tr>\n",
       "    <tr>\n",
       "      <th>0</th>\n",
       "      <td>None</td>\n",
       "      <td>0.683877</td>\n",
       "      <td>0.666668</td>\n",
       "      <td>[0.7424058323207777, 0.5909310178485286]</td>\n",
       "      <td>0.664646</td>\n",
       "      <td>[0.789405684754522, 0.5398854120758043]</td>\n",
       "      <td>0.676663</td>\n",
       "      <td>[0.7006880733944955, 0.6526371870005327]</td>\n",
       "      <td>None</td>\n",
       "      <td>0.766411</td>\n",
       "      <td>...</td>\n",
       "      <td>0.0001</td>\n",
       "      <td>12</td>\n",
       "      <td>focal</td>\n",
       "      <td>2</td>\n",
       "      <td>True</td>\n",
       "      <td>5</td>\n",
       "      <td>Conv1d</td>\n",
       "      <td>None</td>\n",
       "      <td>concatenation</td>\n",
       "      <td>64</td>\n",
       "    </tr>\n",
       "    <tr>\n",
       "      <th>0</th>\n",
       "      <td>None</td>\n",
       "      <td>0.672693</td>\n",
       "      <td>0.655122</td>\n",
       "      <td>[0.7329683698296836, 0.5772749157438614]</td>\n",
       "      <td>0.653505</td>\n",
       "      <td>[0.780440414507772, 0.5265700483091788]</td>\n",
       "      <td>0.664863</td>\n",
       "      <td>[0.6909403669724771, 0.6387852956846031]</td>\n",
       "      <td>None</td>\n",
       "      <td>0.768432</td>\n",
       "      <td>...</td>\n",
       "      <td>0.0001</td>\n",
       "      <td>123</td>\n",
       "      <td>focal</td>\n",
       "      <td>2</td>\n",
       "      <td>True</td>\n",
       "      <td>5</td>\n",
       "      <td>Conv1d</td>\n",
       "      <td>None</td>\n",
       "      <td>concatenation</td>\n",
       "      <td>64</td>\n",
       "    </tr>\n",
       "  </tbody>\n",
       "</table>\n",
       "<p>3 rows × 48 columns</p>\n",
       "</div>"
      ],
      "text/plain": [
       "   loss  accuracy        f1                                 f1_scores  \\\n",
       "0  None  0.687232  0.665652  [0.7505945303210464, 0.5807096451774113]   \n",
       "0  None  0.683877  0.666668  [0.7424058323207777, 0.5909310178485286]   \n",
       "0  None  0.672693  0.655122  [0.7329683698296836, 0.5772749157438614]   \n",
       "\n",
       "   precision                         precision_scores    recall  \\\n",
       "0   0.663072  [0.779320987654321, 0.5468235294117647]  0.671492   \n",
       "0   0.664646  [0.789405684754522, 0.5398854120758043]  0.676663   \n",
       "0   0.653505  [0.780440414507772, 0.5265700483091788]  0.664863   \n",
       "\n",
       "                              recall_scores valid_loss  valid_accuracy  ...  \\\n",
       "0   [0.7239105504587156, 0.619072988811934]       None        0.760615  ...   \n",
       "0  [0.7006880733944955, 0.6526371870005327]       None        0.766411  ...   \n",
       "0  [0.6909403669724771, 0.6387852956846031]       None        0.768432  ...   \n",
       "\n",
       "   learning_rate seed  loss_function gamma  k_fold n_splits  \\\n",
       "0         0.0001    1          focal     2    True        5   \n",
       "0         0.0001   12          focal     2    True        5   \n",
       "0         0.0001  123          focal     2    True        5   \n",
       "\n",
       "   augmentation_type  hidden_dim_aug    comb_method  batch_size  \n",
       "0             Conv1d            None  concatenation          64  \n",
       "0             Conv1d            None  concatenation          64  \n",
       "0             Conv1d            None  concatenation          64  \n",
       "\n",
       "[3 rows x 48 columns]"
      ]
     },
     "execution_count": 14,
     "metadata": {},
     "output_type": "execute_result"
    }
   ],
   "source": [
    "best_seqsignet_attention_encoder_umap_11"
   ]
  },
  {
   "cell_type": "code",
   "execution_count": 15,
   "id": "e706aad7-e55f-4402-9df8-4e2cb0a0eb82",
   "metadata": {},
   "outputs": [
    {
     "data": {
      "text/html": [
       "<div>\n",
       "<style scoped>\n",
       "    .dataframe tbody tr th:only-of-type {\n",
       "        vertical-align: middle;\n",
       "    }\n",
       "\n",
       "    .dataframe tbody tr th {\n",
       "        vertical-align: top;\n",
       "    }\n",
       "\n",
       "    .dataframe thead th {\n",
       "        text-align: right;\n",
       "    }\n",
       "</style>\n",
       "<table border=\"1\" class=\"dataframe\">\n",
       "  <thead>\n",
       "    <tr style=\"text-align: right;\">\n",
       "      <th></th>\n",
       "      <th>dimensions</th>\n",
       "      <th>output_channels</th>\n",
       "      <th>sig_depth</th>\n",
       "      <th>num_heads</th>\n",
       "      <th>num_layers</th>\n",
       "      <th>ffn_hidden_dim</th>\n",
       "      <th>dropout_rate</th>\n",
       "      <th>learning_rate</th>\n",
       "    </tr>\n",
       "  </thead>\n",
       "  <tbody>\n",
       "    <tr>\n",
       "      <th>0</th>\n",
       "      <td>15</td>\n",
       "      <td>12</td>\n",
       "      <td>3</td>\n",
       "      <td>10</td>\n",
       "      <td>1</td>\n",
       "      <td>(256, 256)</td>\n",
       "      <td>0.1</td>\n",
       "      <td>0.0001</td>\n",
       "    </tr>\n",
       "    <tr>\n",
       "      <th>0</th>\n",
       "      <td>15</td>\n",
       "      <td>12</td>\n",
       "      <td>3</td>\n",
       "      <td>10</td>\n",
       "      <td>1</td>\n",
       "      <td>(256, 256)</td>\n",
       "      <td>0.1</td>\n",
       "      <td>0.0001</td>\n",
       "    </tr>\n",
       "    <tr>\n",
       "      <th>0</th>\n",
       "      <td>15</td>\n",
       "      <td>12</td>\n",
       "      <td>3</td>\n",
       "      <td>10</td>\n",
       "      <td>1</td>\n",
       "      <td>(256, 256)</td>\n",
       "      <td>0.1</td>\n",
       "      <td>0.0001</td>\n",
       "    </tr>\n",
       "  </tbody>\n",
       "</table>\n",
       "</div>"
      ],
      "text/plain": [
       "   dimensions  output_channels  sig_depth  num_heads  num_layers  \\\n",
       "0          15               12          3         10           1   \n",
       "0          15               12          3         10           1   \n",
       "0          15               12          3         10           1   \n",
       "\n",
       "  ffn_hidden_dim  dropout_rate  learning_rate  \n",
       "0     (256, 256)           0.1         0.0001  \n",
       "0     (256, 256)           0.1         0.0001  \n",
       "0     (256, 256)           0.1         0.0001  "
      ]
     },
     "execution_count": 15,
     "metadata": {},
     "output_type": "execute_result"
    }
   ],
   "source": [
    "best_seqsignet_attention_encoder_umap_11[\n",
    "    [\n",
    "        \"dimensions\",\n",
    "        \"output_channels\",\n",
    "        \"sig_depth\",\n",
    "        \"num_heads\",\n",
    "        \"num_layers\",\n",
    "        \"ffn_hidden_dim\",\n",
    "        \"dropout_rate\",\n",
    "        \"learning_rate\",\n",
    "    ]\n",
    "]"
   ]
  },
  {
   "cell_type": "markdown",
   "id": "e1a48dc5-3c59-4dfb-a023-d99d052c5024",
   "metadata": {},
   "source": [
    "in path: 0.658\n",
    "\n",
    "in input: 0.6430702845314854\n",
    "\n",
    "both: 0.6596275491973381"
   ]
  },
  {
   "cell_type": "code",
   "execution_count": 16,
   "id": "e9d503c3",
   "metadata": {},
   "outputs": [
    {
     "data": {
      "text/plain": [
       "0.6624807185402183"
      ]
     },
     "execution_count": 16,
     "metadata": {},
     "output_type": "execute_result"
    }
   ],
   "source": [
    "best_seqsignet_attention_encoder_umap_11[\"f1\"].mean()"
   ]
  },
  {
   "cell_type": "code",
   "execution_count": 17,
   "id": "f3079077",
   "metadata": {},
   "outputs": [
    {
     "data": {
      "text/plain": [
       "0.6604076794522271"
      ]
     },
     "execution_count": 17,
     "metadata": {},
     "output_type": "execute_result"
    }
   ],
   "source": [
    "best_seqsignet_attention_encoder_umap_11[\"precision\"].mean()"
   ]
  },
  {
   "cell_type": "code",
   "execution_count": 18,
   "id": "eb2894ed",
   "metadata": {},
   "outputs": [
    {
     "data": {
      "text/plain": [
       "0.6710057437204596"
      ]
     },
     "execution_count": 18,
     "metadata": {},
     "output_type": "execute_result"
    }
   ],
   "source": [
    "best_seqsignet_attention_encoder_umap_11[\"recall\"].mean()"
   ]
  },
  {
   "cell_type": "code",
   "execution_count": 19,
   "id": "a3e8bbc5",
   "metadata": {},
   "outputs": [
    {
     "data": {
      "text/plain": [
       "array([0.74198958, 0.58297186])"
      ]
     },
     "execution_count": 19,
     "metadata": {},
     "output_type": "execute_result"
    }
   ],
   "source": [
    "np.stack(best_seqsignet_attention_encoder_umap_11[\"f1_scores\"]).mean(axis=0)"
   ]
  },
  {
   "cell_type": "code",
   "execution_count": 20,
   "id": "4601b7f2",
   "metadata": {},
   "outputs": [
    {
     "data": {
      "text/plain": [
       "array([0.7830557 , 0.53775966])"
      ]
     },
     "execution_count": 20,
     "metadata": {},
     "output_type": "execute_result"
    }
   ],
   "source": [
    "np.stack(best_seqsignet_attention_encoder_umap_11[\"precision_scores\"]).mean(axis=0)"
   ]
  },
  {
   "cell_type": "code",
   "execution_count": 21,
   "id": "a3201dd5",
   "metadata": {},
   "outputs": [
    {
     "data": {
      "text/plain": [
       "array([0.70517966, 0.63683182])"
      ]
     },
     "execution_count": 21,
     "metadata": {},
     "output_type": "execute_result"
    }
   ],
   "source": [
    "np.stack(best_seqsignet_attention_encoder_umap_11[\"recall_scores\"]).mean(axis=0)"
   ]
  },
  {
   "cell_type": "markdown",
   "id": "c81803c8-98e4-4c83-bd10-20aa615443d4",
   "metadata": {
    "tags": []
   },
   "source": [
    "# history_length=20"
   ]
  },
  {
   "cell_type": "code",
   "execution_count": 22,
   "id": "965d96c4-206b-4842-b54e-164ab1e62ba0",
   "metadata": {},
   "outputs": [],
   "source": [
    "shift = 3\n",
    "window_size = 5\n",
    "n = 6"
   ]
  },
  {
   "cell_type": "markdown",
   "id": "dbd41486-2ef0-4663-9eb9-fae32edab339",
   "metadata": {},
   "source": [
    "## Random Projections"
   ]
  },
  {
   "cell_type": "code",
   "execution_count": null,
   "id": "a632f791-38ff-49f2-bce1-1b3453d67c15",
   "metadata": {},
   "outputs": [
    {
     "data": {
      "application/vnd.jupyter.widget-view+json": {
       "model_id": "41901b051c784bffa72b95dcc2f4f9a0",
       "version_major": 2,
       "version_minor": 0
      },
      "text/plain": [
       "  0%|          | 0/1 [00:00<?, ?it/s]"
      ]
     },
     "metadata": {},
     "output_type": "display_data"
    },
    {
     "data": {
      "application/vnd.jupyter.widget-view+json": {
       "model_id": "6e1efc4ecf7f494d91cbb69b76555e21",
       "version_major": 2,
       "version_minor": 0
      },
      "text/plain": [
       "  0%|          | 0/1 [00:00<?, ?it/s]"
      ]
     },
     "metadata": {},
     "output_type": "display_data"
    },
    {
     "name": "stdout",
     "output_type": "stream",
     "text": [
      "\n",
      "##################################################\n",
      "dimension: 15 | method: umap\n",
      "given shift 3, window size 5 and n 6: history length = 20\n",
      "[INFO] Concatenating the embeddings to the dataframe...\n",
      "[INFO] - columns beginning with 'e' denote the full embddings.\n",
      "[INFO] - columns beginning with 'd' denote the dimension reduced embeddings.\n",
      "[INFO] Adding time feature columns into dataframe in `.df`.\n",
      "[INFO] Adding 'time_encoding' feature...\n",
      "[INFO] Adding 'time_diff' feature...\n",
      "[INFO] Adding 'timeline_index' feature...\n",
      "[INFO] Padding ids and storing in `.df_padded` and `.array_padded` attributes.\n"
     ]
    },
    {
     "data": {
      "application/vnd.jupyter.widget-view+json": {
       "model_id": "2c815a209ec04ee18fcde2dd227be019",
       "version_major": 2,
       "version_minor": 0
      },
      "text/plain": [
       "  0%|          | 0/5568 [00:00<?, ?it/s]"
      ]
     },
     "metadata": {},
     "output_type": "display_data"
    },
    {
     "name": "stdout",
     "output_type": "stream",
     "text": [
      "[INFO] The path was created for each item in the dataframe, by looking at its history, so to include embeddings in the FFN input, we concatenate the embeddings for each sentence / text.\n"
     ]
    },
    {
     "data": {
      "application/vnd.jupyter.widget-view+json": {
       "model_id": "78305c10a6244e52bcd123153b59c3de",
       "version_major": 2,
       "version_minor": 0
      },
      "text/plain": [
       "  0%|          | 0/2 [00:00<?, ?it/s]"
      ]
     },
     "metadata": {},
     "output_type": "display_data"
    },
    {
     "data": {
      "application/vnd.jupyter.widget-view+json": {
       "model_id": "be93cdadc439455c8fd7b9ec300aebfc",
       "version_major": 2,
       "version_minor": 0
      },
      "text/plain": [
       "  0%|          | 0/1 [00:00<?, ?it/s]"
      ]
     },
     "metadata": {},
     "output_type": "display_data"
    },
    {
     "data": {
      "application/vnd.jupyter.widget-view+json": {
       "model_id": "8505de1e719241db9b24f2dacbbfd564",
       "version_major": 2,
       "version_minor": 0
      },
      "text/plain": [
       "  0%|          | 0/2 [00:00<?, ?it/s]"
      ]
     },
     "metadata": {},
     "output_type": "display_data"
    },
    {
     "data": {
      "application/vnd.jupyter.widget-view+json": {
       "model_id": "ea2feca36a664dbbb7abedb51b711ff4",
       "version_major": 2,
       "version_minor": 0
      },
      "text/plain": [
       "  0%|          | 0/2 [00:00<?, ?it/s]"
      ]
     },
     "metadata": {},
     "output_type": "display_data"
    },
    {
     "data": {
      "application/vnd.jupyter.widget-view+json": {
       "model_id": "ac1cb8fa79d94bf9a11e469afed2c27e",
       "version_major": 2,
       "version_minor": 0
      },
      "text/plain": [
       "  0%|          | 0/3 [00:00<?, ?it/s]"
      ]
     },
     "metadata": {},
     "output_type": "display_data"
    },
    {
     "data": {
      "application/vnd.jupyter.widget-view+json": {
       "model_id": "949d8e46bb5a47a08d62d7fb516a3a16",
       "version_major": 2,
       "version_minor": 0
      },
      "text/plain": [
       "  0%|          | 0/3 [00:00<?, ?it/s]"
      ]
     },
     "metadata": {},
     "output_type": "display_data"
    },
    {
     "data": {
      "application/vnd.jupyter.widget-view+json": {
       "model_id": "2504bcb261914be8bbc2acdbbce078d8",
       "version_major": 2,
       "version_minor": 0
      },
      "text/plain": [
       "  0%|          | 0/2 [00:00<?, ?it/s]"
      ]
     },
     "metadata": {},
     "output_type": "display_data"
    },
    {
     "data": {
      "application/vnd.jupyter.widget-view+json": {
       "model_id": "3a23dd8c9a614e5581f9d6d00c24a308",
       "version_major": 2,
       "version_minor": 0
      },
      "text/plain": [
       "  0%|          | 0/3 [00:00<?, ?it/s]"
      ]
     },
     "metadata": {},
     "output_type": "display_data"
    }
   ],
   "source": [
    "(\n",
    "    seqsignet_attention_encoder_umap_20,\n",
    "    best_seqsignet_attention_encoder_umap_20,\n",
    "    _,\n",
    "    __,\n",
    ") = seqsignet_attention_encoder_hyperparameter_search(\n",
    "    shift=shift,\n",
    "    window_size=window_size,\n",
    "    n=n,\n",
    "    dim_reduce_methods=[\"umap\"],\n",
    "    results_output=f\"{output_dir}/seqsignet_attention_encoder_umap_focal_{gamma}_{shift}_{window_size}_{n}_kfold.csv\",\n",
    "    **kwargs,\n",
    ")"
   ]
  },
  {
   "cell_type": "code",
   "execution_count": null,
   "id": "d1d73e6e-2903-454f-ad50-1be853de1898",
   "metadata": {},
   "outputs": [],
   "source": [
    "seqsignet_attention_encoder_umap_20.groupby(\n",
    "    [\n",
    "        \"dimensions\",\n",
    "        \"output_channels\",\n",
    "        \"sig_depth\",\n",
    "        \"num_heads\",\n",
    "        \"num_layers\",\n",
    "        \"ffn_hidden_dim\",\n",
    "        \"dropout_rate\",\n",
    "        \"learning_rate\",\n",
    "    ]\n",
    ").mean()"
   ]
  },
  {
   "cell_type": "code",
   "execution_count": null,
   "id": "005101e0-df1f-4f29-82ba-4b18e04169a0",
   "metadata": {},
   "outputs": [],
   "source": [
    "best_seqsignet_attention_encoder_umap_20"
   ]
  },
  {
   "cell_type": "code",
   "execution_count": null,
   "id": "479f5418-79e4-4c42-a72a-67253f34ef88",
   "metadata": {},
   "outputs": [],
   "source": [
    "best_seqsignet_attention_encoder_umap_20[\n",
    "    [\n",
    "        \"dimensions\",\n",
    "        \"output_channels\",\n",
    "        \"sig_depth\",\n",
    "        \"num_heads\",\n",
    "        \"num_layers\",\n",
    "        \"ffn_hidden_dim\",\n",
    "        \"dropout_rate\",\n",
    "        \"learning_rate\",\n",
    "    ]\n",
    "]"
   ]
  },
  {
   "cell_type": "code",
   "execution_count": null,
   "id": "05e0364c-531c-4548-b706-301d852e11ca",
   "metadata": {},
   "outputs": [],
   "source": [
    "best_seqsignet_attention_encoder_umap_20[\"f1\"].mean()"
   ]
  },
  {
   "cell_type": "code",
   "execution_count": null,
   "id": "5b5062e0-1005-456f-a78d-49a2d9c6dc60",
   "metadata": {},
   "outputs": [],
   "source": [
    "best_seqsignet_attention_encoder_umap_20[\"precision\"].mean()"
   ]
  },
  {
   "cell_type": "code",
   "execution_count": null,
   "id": "1e4f9590-2916-4b2d-966f-e224cbc7175e",
   "metadata": {},
   "outputs": [],
   "source": [
    "best_seqsignet_attention_encoder_umap_20[\"recall\"].mean()"
   ]
  },
  {
   "cell_type": "code",
   "execution_count": null,
   "id": "e2eec31c-c0b5-4a51-9277-973de3223f1c",
   "metadata": {},
   "outputs": [],
   "source": [
    "np.stack(best_seqsignet_attention_encoder_umap_20[\"f1_scores\"]).mean(axis=0)"
   ]
  },
  {
   "cell_type": "code",
   "execution_count": null,
   "id": "fe7f5668-f54b-49ee-836d-2c016de127f1",
   "metadata": {},
   "outputs": [],
   "source": [
    "np.stack(best_seqsignet_attention_encoder_umap_20[\"precision_scores\"]).mean(axis=0)"
   ]
  },
  {
   "cell_type": "code",
   "execution_count": null,
   "id": "b94b26ce-ff9b-4215-afc4-72b656a31eea",
   "metadata": {},
   "outputs": [],
   "source": [
    "np.stack(best_seqsignet_attention_encoder_umap_20[\"recall_scores\"]).mean(axis=0)"
   ]
  },
  {
   "cell_type": "markdown",
   "id": "e7ef749b-d4b3-4ade-9e94-0235d7580cfd",
   "metadata": {
    "tags": []
   },
   "source": [
    "# history_length=35"
   ]
  },
  {
   "cell_type": "code",
   "execution_count": null,
   "id": "8d5cfef8-0d7b-4324-8cd7-29bb95e3c77a",
   "metadata": {},
   "outputs": [],
   "source": [
    "shift = 3\n",
    "window_size = 5\n",
    "n = 11"
   ]
  },
  {
   "cell_type": "markdown",
   "id": "c6d834fa-f3c7-4c78-9ce4-717f573e0af4",
   "metadata": {},
   "source": [
    "## Random Projections"
   ]
  },
  {
   "cell_type": "code",
   "execution_count": null,
   "id": "63265bf4-3fde-4328-b234-1b955dc0b2fb",
   "metadata": {},
   "outputs": [],
   "source": [
    "(\n",
    "    seqsignet_attention_encoder_umap_35,\n",
    "    best_seqsignet_attention_encoder_umap_35,\n",
    "    _,\n",
    "    __,\n",
    ") = seqsignet_attention_encoder_hyperparameter_search(\n",
    "    shift=shift,\n",
    "    window_size=window_size,\n",
    "    n=n,\n",
    "    dim_reduce_methods=[\"umap\"],\n",
    "    results_output=f\"{output_dir}/seqsignet_attention_encoder_umap_focal_{gamma}_{shift}_{window_size}_{n}_kfold.csv\",\n",
    "    **kwargs,\n",
    ")"
   ]
  },
  {
   "cell_type": "code",
   "execution_count": null,
   "id": "6359db47-ec12-4a44-9566-2b1dbefbe0f2",
   "metadata": {},
   "outputs": [],
   "source": [
    "seqsignet_attention_encoder_umap_35.groupby(\n",
    "    [\n",
    "        \"dimensions\",\n",
    "        \"output_channels\",\n",
    "        \"sig_depth\",\n",
    "        \"num_heads\",\n",
    "        \"num_layers\",\n",
    "        \"ffn_hidden_dim\",\n",
    "        \"dropout_rate\",\n",
    "        \"learning_rate\",\n",
    "    ]\n",
    ").mean()"
   ]
  },
  {
   "cell_type": "code",
   "execution_count": null,
   "id": "080d2396-26c9-4de8-b527-01d065cb37ff",
   "metadata": {},
   "outputs": [],
   "source": [
    "best_seqsignet_attention_encoder_umap_35"
   ]
  },
  {
   "cell_type": "code",
   "execution_count": null,
   "id": "dc373678-f928-445c-b257-d23883eb1be6",
   "metadata": {},
   "outputs": [],
   "source": [
    "best_seqsignet_attention_encoder_umap_35[\n",
    "    [\n",
    "        \"dimensions\",\n",
    "        \"output_channels\",\n",
    "        \"sig_depth\",\n",
    "        \"num_heads\",\n",
    "        \"num_layers\",\n",
    "        \"ffn_hidden_dim\",\n",
    "        \"dropout_rate\",\n",
    "        \"learning_rate\",\n",
    "    ]\n",
    "]"
   ]
  },
  {
   "cell_type": "code",
   "execution_count": null,
   "id": "efb8e85b-e9f7-4640-a709-afc118c14e98",
   "metadata": {},
   "outputs": [],
   "source": [
    "best_seqsignet_attention_encoder_umap_35[\"f1\"].mean()"
   ]
  },
  {
   "cell_type": "code",
   "execution_count": null,
   "id": "cacb1afc-22e1-4b2e-a209-d2e76954f0d9",
   "metadata": {},
   "outputs": [],
   "source": [
    "best_seqsignet_attention_encoder_umap_35[\"precision\"].mean()"
   ]
  },
  {
   "cell_type": "code",
   "execution_count": null,
   "id": "7df27a7e-285f-4a53-ac59-74def9f4e49f",
   "metadata": {},
   "outputs": [],
   "source": [
    "best_seqsignet_attention_encoder_umap_35[\"recall\"].mean()"
   ]
  },
  {
   "cell_type": "code",
   "execution_count": null,
   "id": "ebdf81d9-3301-4f3b-aa88-5c09d4b2490b",
   "metadata": {},
   "outputs": [],
   "source": [
    "np.stack(best_seqsignet_attention_encoder_umap_35[\"f1_scores\"]).mean(axis=0)"
   ]
  },
  {
   "cell_type": "code",
   "execution_count": null,
   "id": "9b22b04c-ccd0-4fb7-9da4-bd3131ace666",
   "metadata": {},
   "outputs": [],
   "source": [
    "np.stack(best_seqsignet_attention_encoder_umap_35[\"precision_scores\"]).mean(axis=0)"
   ]
  },
  {
   "cell_type": "code",
   "execution_count": null,
   "id": "eca96477-2f59-40eb-8732-8ad023be37f1",
   "metadata": {},
   "outputs": [],
   "source": [
    "np.stack(best_seqsignet_attention_encoder_umap_35[\"recall_scores\"]).mean(axis=0)"
   ]
  },
  {
   "cell_type": "markdown",
   "id": "e224d684-9ff0-459a-ba03-8e8853fb50de",
   "metadata": {
    "tags": []
   },
   "source": [
    "# history_length=80"
   ]
  },
  {
   "cell_type": "code",
   "execution_count": null,
   "id": "f7802347-e3fd-4898-8a6c-ccbbe6120dfe",
   "metadata": {},
   "outputs": [],
   "source": [
    "shift = 3\n",
    "window_size = 5\n",
    "n = 26"
   ]
  },
  {
   "cell_type": "markdown",
   "id": "f48541cb-6ef2-47da-95ac-1156ca2b2195",
   "metadata": {},
   "source": [
    "## UMAP"
   ]
  },
  {
   "cell_type": "markdown",
   "id": "aebd5695-92e3-4190-a534-e63ecef6dfdf",
   "metadata": {},
   "source": [
    "## Random Projections"
   ]
  },
  {
   "cell_type": "code",
   "execution_count": null,
   "id": "4e98bb45-e549-47d5-86b1-c172f37927a3",
   "metadata": {},
   "outputs": [],
   "source": [
    "(\n",
    "    seqsignet_attention_encoder_umap_80,\n",
    "    best_seqsignet_attention_encoder_umap_80,\n",
    "    _,\n",
    "    __,\n",
    ") = seqsignet_attention_encoder_hyperparameter_search(\n",
    "    shift=shift,\n",
    "    window_size=window_size,\n",
    "    n=n,\n",
    "    dim_reduce_methods=[\"umap\"],\n",
    "    results_output=f\"{output_dir}/seqsignet_attention_encoder_umap_focal_{gamma}_{shift}_{window_size}_{n}_kfold.csv\",\n",
    "    **kwargs,\n",
    ")"
   ]
  },
  {
   "cell_type": "code",
   "execution_count": null,
   "id": "7a0108b3-42a8-4d43-bfb7-b7ee494cdecb",
   "metadata": {},
   "outputs": [],
   "source": [
    "seqsignet_attention_encoder_umap_80.groupby(\n",
    "    [\n",
    "        \"dimensions\",\n",
    "        \"output_channels\",\n",
    "        \"sig_depth\",\n",
    "        \"num_heads\",\n",
    "        \"num_layers\",\n",
    "        \"ffn_hidden_dim\",\n",
    "        \"dropout_rate\",\n",
    "        \"learning_rate\",\n",
    "    ]\n",
    ").mean()"
   ]
  },
  {
   "cell_type": "code",
   "execution_count": null,
   "id": "c06eeff4-d239-4e57-a982-afebea14314e",
   "metadata": {},
   "outputs": [],
   "source": [
    "best_seqsignet_attention_encoder_umap_80"
   ]
  },
  {
   "cell_type": "code",
   "execution_count": null,
   "id": "37ed0e9c-fe51-4700-8e85-716a79c1c636",
   "metadata": {},
   "outputs": [],
   "source": [
    "best_seqsignet_attention_encoder_umap_80[\n",
    "    [\n",
    "        \"dimensions\",\n",
    "        \"output_channels\",\n",
    "        \"sig_depth\",\n",
    "        \"num_heads\",\n",
    "        \"num_layers\",\n",
    "        \"ffn_hidden_dim\",\n",
    "        \"dropout_rate\",\n",
    "        \"learning_rate\",\n",
    "    ]\n",
    "]"
   ]
  },
  {
   "cell_type": "code",
   "execution_count": null,
   "id": "cd7097c2-68fe-40f4-9b91-852eb4bc8a83",
   "metadata": {},
   "outputs": [],
   "source": [
    "best_seqsignet_attention_encoder_umap_80[\"f1\"].mean()"
   ]
  },
  {
   "cell_type": "code",
   "execution_count": null,
   "id": "eb95f40f-9543-4655-ba3b-f8e4ce921a60",
   "metadata": {},
   "outputs": [],
   "source": [
    "best_seqsignet_attention_encoder_umap_80[\"precision\"].mean()"
   ]
  },
  {
   "cell_type": "code",
   "execution_count": null,
   "id": "807e9a8c-8156-4650-89ed-21138c37f414",
   "metadata": {},
   "outputs": [],
   "source": [
    "best_seqsignet_attention_encoder_umap_80[\"recall\"].mean()"
   ]
  },
  {
   "cell_type": "code",
   "execution_count": null,
   "id": "aef44d1b-e95b-4dea-97d6-f6ee5c0e9a37",
   "metadata": {},
   "outputs": [],
   "source": [
    "np.stack(best_seqsignet_attention_encoder_umap_80[\"f1_scores\"]).mean(axis=0)"
   ]
  },
  {
   "cell_type": "code",
   "execution_count": null,
   "id": "d0e0195e-90b6-4318-a879-78f420ca2a54",
   "metadata": {},
   "outputs": [],
   "source": [
    "np.stack(best_seqsignet_attention_encoder_umap_80[\"precision_scores\"]).mean(axis=0)"
   ]
  },
  {
   "cell_type": "code",
   "execution_count": null,
   "id": "d2594667-041e-4961-a2b8-96fb0d205b95",
   "metadata": {},
   "outputs": [],
   "source": [
    "np.stack(best_seqsignet_attention_encoder_umap_80[\"recall_scores\"]).mean(axis=0)"
   ]
  }
 ],
 "metadata": {
  "kernelspec": {
   "display_name": "nlpsig-networks (Conda)",
   "language": "python",
   "name": "sys_nlpsig-networks"
  },
  "language_info": {
   "codemirror_mode": {
    "name": "ipython",
    "version": 3
   },
   "file_extension": ".py",
   "mimetype": "text/x-python",
   "name": "python",
   "nbconvert_exporter": "python",
   "pygments_lexer": "ipython3",
   "version": "3.8.17"
  }
 },
 "nbformat": 4,
 "nbformat_minor": 5
}
