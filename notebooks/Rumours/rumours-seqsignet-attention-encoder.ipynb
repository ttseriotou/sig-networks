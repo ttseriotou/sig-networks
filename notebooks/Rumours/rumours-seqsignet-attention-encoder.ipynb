{
 "cells": [
  {
   "cell_type": "code",
   "execution_count": 1,
   "id": "a983a5e8",
   "metadata": {},
   "outputs": [],
   "source": [
    "import numpy as np\n",
    "import pickle\n",
    "import os\n",
    "\n",
    "seed = 2023"
   ]
  },
  {
   "cell_type": "code",
   "execution_count": 2,
   "id": "a4b2805b-1454-407d-9a0a-740341ebfd3c",
   "metadata": {},
   "outputs": [
    {
     "data": {
      "text/plain": [
       "device(type='cuda')"
      ]
     },
     "execution_count": 2,
     "metadata": {},
     "output_type": "execute_result"
    }
   ],
   "source": [
    "import torch\n",
    "\n",
    "# set device\n",
    "device = torch.device(\"cuda\" if torch.cuda.is_available() else \"cpu\")\n",
    "device"
   ]
  },
  {
   "cell_type": "code",
   "execution_count": 3,
   "id": "e4e666cc",
   "metadata": {},
   "outputs": [],
   "source": [
    "from nlpsig_networks.scripts.seqsignet_attention_encoder_functions import (\n",
    "    seqsignet_attention_encoder_hyperparameter_search,\n",
    ")"
   ]
  },
  {
   "cell_type": "code",
   "execution_count": 4,
   "id": "6e918dde",
   "metadata": {},
   "outputs": [],
   "source": [
    "output_dir = \"rumours_output\"\n",
    "if not os.path.isdir(output_dir):\n",
    "    os.makedirs(output_dir)"
   ]
  },
  {
   "cell_type": "markdown",
   "id": "f7409a03",
   "metadata": {},
   "source": [
    "## Rumours"
   ]
  },
  {
   "cell_type": "code",
   "execution_count": 5,
   "id": "f00bb922",
   "metadata": {},
   "outputs": [],
   "source": [
    "%run load_sbert-embeddings.py"
   ]
  },
  {
   "cell_type": "code",
   "execution_count": 6,
   "id": "720d820f",
   "metadata": {},
   "outputs": [
    {
     "data": {
      "text/html": [
       "<div>\n",
       "<style scoped>\n",
       "    .dataframe tbody tr th:only-of-type {\n",
       "        vertical-align: middle;\n",
       "    }\n",
       "\n",
       "    .dataframe tbody tr th {\n",
       "        vertical-align: top;\n",
       "    }\n",
       "\n",
       "    .dataframe thead th {\n",
       "        text-align: right;\n",
       "    }\n",
       "</style>\n",
       "<table border=\"1\" class=\"dataframe\">\n",
       "  <thead>\n",
       "    <tr style=\"text-align: right;\">\n",
       "      <th></th>\n",
       "      <th>id</th>\n",
       "      <th>label</th>\n",
       "      <th>datetime</th>\n",
       "      <th>text</th>\n",
       "      <th>timeline_id</th>\n",
       "      <th>set</th>\n",
       "    </tr>\n",
       "  </thead>\n",
       "  <tbody>\n",
       "    <tr>\n",
       "      <th>0</th>\n",
       "      <td>5.249902e+17</td>\n",
       "      <td>0</td>\n",
       "      <td>2014-10-22 18:26:23</td>\n",
       "      <td>Police have clarified that there were two shoo...</td>\n",
       "      <td>0</td>\n",
       "      <td>train</td>\n",
       "    </tr>\n",
       "    <tr>\n",
       "      <th>1</th>\n",
       "      <td>5.249906e+17</td>\n",
       "      <td>0</td>\n",
       "      <td>2014-10-22 18:27:58</td>\n",
       "      <td>@CTVNews you guys \"confirmed\" there were 3 sho...</td>\n",
       "      <td>0</td>\n",
       "      <td>train</td>\n",
       "    </tr>\n",
       "    <tr>\n",
       "      <th>2</th>\n",
       "      <td>5.249908e+17</td>\n",
       "      <td>1</td>\n",
       "      <td>2014-10-22 18:28:46</td>\n",
       "      <td>@CTVNews get it right. http://t.co/GHYxMuzPG9</td>\n",
       "      <td>0</td>\n",
       "      <td>train</td>\n",
       "    </tr>\n",
       "    <tr>\n",
       "      <th>3</th>\n",
       "      <td>5.249927e+17</td>\n",
       "      <td>1</td>\n",
       "      <td>2014-10-22 18:36:29</td>\n",
       "      <td>RT @CTVNews Police have clarified that there w...</td>\n",
       "      <td>0</td>\n",
       "      <td>train</td>\n",
       "    </tr>\n",
       "    <tr>\n",
       "      <th>4</th>\n",
       "      <td>5.250038e+17</td>\n",
       "      <td>1</td>\n",
       "      <td>2014-10-22 19:20:41</td>\n",
       "      <td>@CTVNews @ctvsaskatoon so what happened at Rid...</td>\n",
       "      <td>0</td>\n",
       "      <td>train</td>\n",
       "    </tr>\n",
       "  </tbody>\n",
       "</table>\n",
       "</div>"
      ],
      "text/plain": [
       "             id label            datetime  \\\n",
       "0  5.249902e+17     0 2014-10-22 18:26:23   \n",
       "1  5.249906e+17     0 2014-10-22 18:27:58   \n",
       "2  5.249908e+17     1 2014-10-22 18:28:46   \n",
       "3  5.249927e+17     1 2014-10-22 18:36:29   \n",
       "4  5.250038e+17     1 2014-10-22 19:20:41   \n",
       "\n",
       "                                                text timeline_id    set  \n",
       "0  Police have clarified that there were two shoo...           0  train  \n",
       "1  @CTVNews you guys \"confirmed\" there were 3 sho...           0  train  \n",
       "2      @CTVNews get it right. http://t.co/GHYxMuzPG9           0  train  \n",
       "3  RT @CTVNews Police have clarified that there w...           0  train  \n",
       "4  @CTVNews @ctvsaskatoon so what happened at Rid...           0  train  "
      ]
     },
     "execution_count": 6,
     "metadata": {},
     "output_type": "execute_result"
    }
   ],
   "source": [
    "df_rumours.head()"
   ]
  },
  {
   "cell_type": "markdown",
   "id": "da4ff92d",
   "metadata": {},
   "source": [
    "# SeqSigNet with Attention Network"
   ]
  },
  {
   "cell_type": "code",
   "execution_count": 7,
   "id": "90bfd87c",
   "metadata": {},
   "outputs": [],
   "source": [
    "features = [\"time_encoding\", \"timeline_index\"]\n",
    "standardise_method = [\"z_score\", None]\n",
    "include_features_in_path = True\n",
    "include_features_in_input = True"
   ]
  },
  {
   "cell_type": "code",
   "execution_count": 8,
   "id": "9e9bee3b",
   "metadata": {},
   "outputs": [],
   "source": [
    "num_epochs = 100\n",
    "dimensions = [15]\n",
    "# define swmhau parameters: (output_channels, sig_depth, num_heads)\n",
    "swmhau_parameters = [(12, 3, 10), (10, 3, 5)]\n",
    "num_layers = [1]\n",
    "ffn_hidden_dim_sizes = [[32,32], [128,128], [512,512]]\n",
    "dropout_rates = [0.1]\n",
    "learning_rates = [5e-4, 3e-4, 1e-4]\n",
    "seeds = [1, 12, 123]\n",
    "loss = \"focal\"\n",
    "gamma = 2\n",
    "validation_metric = \"f1\"\n",
    "patience = 3"
   ]
  },
  {
   "cell_type": "code",
   "execution_count": 9,
   "id": "e6f156d3-800b-4913-89f8-916323d311a7",
   "metadata": {},
   "outputs": [],
   "source": [
    "kwargs = {\n",
    "    \"num_epochs\": num_epochs,\n",
    "    \"df\": df_rumours,\n",
    "    \"id_column\": \"timeline_id\",\n",
    "    \"label_column\": \"label\",\n",
    "    \"embeddings\": sbert_embeddings,\n",
    "    \"y_data\": y_data,\n",
    "    \"output_dim\": output_dim,\n",
    "    \"dimensions\": dimensions,\n",
    "    \"log_signature\": True,\n",
    "    \"pooling\": \"signature\",\n",
    "    \"transformer_encoder_layers\": 2,\n",
    "    \"swmhau_parameters\": swmhau_parameters,\n",
    "    \"num_layers\": num_layers,\n",
    "    \"ffn_hidden_dim_sizes\": ffn_hidden_dim_sizes,\n",
    "    \"dropout_rates\": dropout_rates,\n",
    "    \"learning_rates\": learning_rates,\n",
    "    \"seeds\": seeds,\n",
    "    \"loss\": loss,\n",
    "    \"gamma\": gamma,\n",
    "    \"device\": device,\n",
    "    \"features\": features,\n",
    "    \"standardise_method\": standardise_method,\n",
    "    \"include_features_in_path\": include_features_in_path,\n",
    "    \"include_features_in_input\": include_features_in_input,\n",
    "    \"split_ids\": split_ids,\n",
    "    \"k_fold\": True,\n",
    "    \"patience\": patience,\n",
    "    \"validation_metric\": validation_metric,\n",
    "    \"verbose\": False,\n",
    "}"
   ]
  },
  {
   "cell_type": "markdown",
   "id": "c065cd69-a3c1-4fbc-b72a-9555601c58de",
   "metadata": {
    "tags": []
   },
   "source": [
    "# history_length=11"
   ]
  },
  {
   "cell_type": "code",
   "execution_count": 10,
   "id": "9bbec9ab-4add-477f-8950-8123ce70766b",
   "metadata": {},
   "outputs": [],
   "source": [
    "shift = 3\n",
    "window_size = 5\n",
    "n = 3"
   ]
  },
  {
   "cell_type": "markdown",
   "id": "f0787150-8266-48ee-97f5-5f711ce899c7",
   "metadata": {},
   "source": [
    "## Random Projections"
   ]
  },
  {
   "cell_type": "code",
   "execution_count": 11,
   "id": "13a67a66",
   "metadata": {},
   "outputs": [
    {
     "data": {
      "application/vnd.jupyter.widget-view+json": {
       "model_id": "a36ab9f522e8473084e853a142bed5b4",
       "version_major": 2,
       "version_minor": 0
      },
      "text/plain": [
       "  0%|          | 0/1 [00:00<?, ?it/s]"
      ]
     },
     "metadata": {},
     "output_type": "display_data"
    },
    {
     "data": {
      "application/vnd.jupyter.widget-view+json": {
       "model_id": "62fdedd8466f487095b64d33a71c4a25",
       "version_major": 2,
       "version_minor": 0
      },
      "text/plain": [
       "  0%|          | 0/1 [00:00<?, ?it/s]"
      ]
     },
     "metadata": {},
     "output_type": "display_data"
    },
    {
     "name": "stdout",
     "output_type": "stream",
     "text": [
      "\n",
      "##################################################\n",
      "dimension: 15 | method: umap\n",
      "given shift 3, window size 5 and n 3: history length = 11\n",
      "[INFO] Concatenating the embeddings to the dataframe...\n",
      "[INFO] - columns beginning with 'e' denote the full embddings.\n",
      "[INFO] - columns beginning with 'd' denote the dimension reduced embeddings.\n",
      "[INFO] Adding time feature columns into dataframe in `.df`.\n",
      "[INFO] Adding 'time_encoding' feature...\n",
      "[INFO] Adding 'time_diff' feature...\n",
      "[INFO] Adding 'timeline_index' feature...\n",
      "[INFO] Padding ids and storing in `.df_padded` and `.array_padded` attributes.\n"
     ]
    },
    {
     "data": {
      "application/vnd.jupyter.widget-view+json": {
       "model_id": "f54958874f1947c69e107210f4430834",
       "version_major": 2,
       "version_minor": 0
      },
      "text/plain": [
       "  0%|          | 0/5568 [00:00<?, ?it/s]"
      ]
     },
     "metadata": {},
     "output_type": "display_data"
    },
    {
     "name": "stdout",
     "output_type": "stream",
     "text": [
      "[INFO] The path was created for each item in the dataframe, by looking at its history, so to include embeddings in the FFN input, we concatenate the embeddings for each sentence / text.\n"
     ]
    },
    {
     "data": {
      "application/vnd.jupyter.widget-view+json": {
       "model_id": "c221e3bc37b24ea7b531de48df27fd14",
       "version_major": 2,
       "version_minor": 0
      },
      "text/plain": [
       "  0%|          | 0/2 [00:00<?, ?it/s]"
      ]
     },
     "metadata": {},
     "output_type": "display_data"
    },
    {
     "data": {
      "application/vnd.jupyter.widget-view+json": {
       "model_id": "66f24cf8d75c41acbd085e31405092c3",
       "version_major": 2,
       "version_minor": 0
      },
      "text/plain": [
       "  0%|          | 0/1 [00:00<?, ?it/s]"
      ]
     },
     "metadata": {},
     "output_type": "display_data"
    },
    {
     "data": {
      "application/vnd.jupyter.widget-view+json": {
       "model_id": "991ba129477e45ca9cc6ea2267b33851",
       "version_major": 2,
       "version_minor": 0
      },
      "text/plain": [
       "  0%|          | 0/3 [00:00<?, ?it/s]"
      ]
     },
     "metadata": {},
     "output_type": "display_data"
    },
    {
     "data": {
      "application/vnd.jupyter.widget-view+json": {
       "model_id": "50205bf40b414212963d893ac48774ca",
       "version_major": 2,
       "version_minor": 0
      },
      "text/plain": [
       "  0%|          | 0/1 [00:00<?, ?it/s]"
      ]
     },
     "metadata": {},
     "output_type": "display_data"
    },
    {
     "data": {
      "application/vnd.jupyter.widget-view+json": {
       "model_id": "bf4f8de19c0f494f9189ce865a3c9303",
       "version_major": 2,
       "version_minor": 0
      },
      "text/plain": [
       "  0%|          | 0/3 [00:00<?, ?it/s]"
      ]
     },
     "metadata": {},
     "output_type": "display_data"
    },
    {
     "data": {
      "application/vnd.jupyter.widget-view+json": {
       "model_id": "044ecb0c15c44ec2bdfc9e4831766410",
       "version_major": 2,
       "version_minor": 0
      },
      "text/plain": [
       "  0%|          | 0/1 [00:00<?, ?it/s]"
      ]
     },
     "metadata": {},
     "output_type": "display_data"
    },
    {
     "data": {
      "application/vnd.jupyter.widget-view+json": {
       "model_id": "1561288ae2c941b9ac36ede600b62a98",
       "version_major": 2,
       "version_minor": 0
      },
      "text/plain": [
       "  0%|          | 0/3 [00:00<?, ?it/s]"
      ]
     },
     "metadata": {},
     "output_type": "display_data"
    },
    {
     "data": {
      "application/vnd.jupyter.widget-view+json": {
       "model_id": "6e2febc4500642b3b6ca14a63ccf0985",
       "version_major": 2,
       "version_minor": 0
      },
      "text/plain": [
       "  0%|          | 0/1 [00:00<?, ?it/s]"
      ]
     },
     "metadata": {},
     "output_type": "display_data"
    },
    {
     "data": {
      "application/vnd.jupyter.widget-view+json": {
       "model_id": "7dd5d8989aee47518ad58ee8e179e06a",
       "version_major": 2,
       "version_minor": 0
      },
      "text/plain": [
       "  0%|          | 0/3 [00:00<?, ?it/s]"
      ]
     },
     "metadata": {},
     "output_type": "display_data"
    },
    {
     "data": {
      "application/vnd.jupyter.widget-view+json": {
       "model_id": "a026ebf1ebb04a0f99194a734a24eeaf",
       "version_major": 2,
       "version_minor": 0
      },
      "text/plain": [
       "  0%|          | 0/1 [00:00<?, ?it/s]"
      ]
     },
     "metadata": {},
     "output_type": "display_data"
    },
    {
     "data": {
      "application/vnd.jupyter.widget-view+json": {
       "model_id": "5daa0745172444c48320f3b35a36d0e4",
       "version_major": 2,
       "version_minor": 0
      },
      "text/plain": [
       "  0%|          | 0/3 [00:00<?, ?it/s]"
      ]
     },
     "metadata": {},
     "output_type": "display_data"
    },
    {
     "data": {
      "application/vnd.jupyter.widget-view+json": {
       "model_id": "beab0ccf3f114f8c8bf07b2466b60b27",
       "version_major": 2,
       "version_minor": 0
      },
      "text/plain": [
       "  0%|          | 0/1 [00:00<?, ?it/s]"
      ]
     },
     "metadata": {},
     "output_type": "display_data"
    },
    {
     "data": {
      "application/vnd.jupyter.widget-view+json": {
       "model_id": "6402f7d6c744437dbbdefd7a213844a4",
       "version_major": 2,
       "version_minor": 0
      },
      "text/plain": [
       "  0%|          | 0/3 [00:00<?, ?it/s]"
      ]
     },
     "metadata": {},
     "output_type": "display_data"
    },
    {
     "data": {
      "application/vnd.jupyter.widget-view+json": {
       "model_id": "9b4edf025c534e1c9f6115883fecf8b7",
       "version_major": 2,
       "version_minor": 0
      },
      "text/plain": [
       "  0%|          | 0/1 [00:00<?, ?it/s]"
      ]
     },
     "metadata": {},
     "output_type": "display_data"
    },
    {
     "data": {
      "application/vnd.jupyter.widget-view+json": {
       "model_id": "acc8b465b8cc4b79b0781454db8c6a6a",
       "version_major": 2,
       "version_minor": 0
      },
      "text/plain": [
       "  0%|          | 0/3 [00:00<?, ?it/s]"
      ]
     },
     "metadata": {},
     "output_type": "display_data"
    },
    {
     "data": {
      "application/vnd.jupyter.widget-view+json": {
       "model_id": "219525fabf434409894fa09b00b5947e",
       "version_major": 2,
       "version_minor": 0
      },
      "text/plain": [
       "  0%|          | 0/1 [00:00<?, ?it/s]"
      ]
     },
     "metadata": {},
     "output_type": "display_data"
    },
    {
     "data": {
      "application/vnd.jupyter.widget-view+json": {
       "model_id": "25ce597e87c841dea4a659726ea5878b",
       "version_major": 2,
       "version_minor": 0
      },
      "text/plain": [
       "  0%|          | 0/3 [00:00<?, ?it/s]"
      ]
     },
     "metadata": {},
     "output_type": "display_data"
    },
    {
     "name": "stdout",
     "output_type": "stream",
     "text": [
      "given shift 3, window size 5 and n 3: history length = 11\n",
      "[INFO] Concatenating the embeddings to the dataframe...\n",
      "[INFO] - columns beginning with 'e' denote the full embddings.\n",
      "[INFO] - columns beginning with 'd' denote the dimension reduced embeddings.\n",
      "[INFO] Adding time feature columns into dataframe in `.df`.\n",
      "[INFO] Adding 'time_encoding' feature...\n",
      "[INFO] Adding 'time_diff' feature...\n",
      "[INFO] Adding 'timeline_index' feature...\n",
      "[INFO] Padding ids and storing in `.df_padded` and `.array_padded` attributes.\n"
     ]
    },
    {
     "data": {
      "application/vnd.jupyter.widget-view+json": {
       "model_id": "578f650d56a145e397b5426f2c8e289b",
       "version_major": 2,
       "version_minor": 0
      },
      "text/plain": [
       "  0%|          | 0/5568 [00:00<?, ?it/s]"
      ]
     },
     "metadata": {},
     "output_type": "display_data"
    },
    {
     "name": "stdout",
     "output_type": "stream",
     "text": [
      "[INFO] The path was created for each item in the dataframe, by looking at its history, so to include embeddings in the FFN input, we concatenate the embeddings for each sentence / text.\n",
      "saving results dataframe to CSV for this hyperparameter search in rumours_output/seqsignet_attention_encoder_umap_focal_2_3_5_3_kfold.csv\n",
      "saving the best model results dataframe to CSV for this hyperparameter search in rumours_output/seqsignet_attention_encoder_umap_focal_2_3_5_3_kfold_best_model.csv\n"
     ]
    }
   ],
   "source": [
    "(\n",
    "    seqsignet_attention_encoder_umap_11,\n",
    "    best_seqsignet_attention_encoder_umap_11,\n",
    "    _,\n",
    "    __,\n",
    ") = seqsignet_attention_encoder_hyperparameter_search(\n",
    "    shift=shift,\n",
    "    window_size=window_size,\n",
    "    n=n,\n",
    "    dim_reduce_methods=[\"umap\"],\n",
    "    results_output=f\"{output_dir}/seqsignet_attention_encoder_umap_focal_{gamma}_{shift}_{window_size}_{n}_kfold.csv\",\n",
    "    **kwargs,\n",
    ")"
   ]
  },
  {
   "cell_type": "code",
   "execution_count": 12,
   "id": "0ec7c660",
   "metadata": {},
   "outputs": [
    {
     "name": "stderr",
     "output_type": "stream",
     "text": [
      "/tmp/ipykernel_1817425/2250631359.py:1: FutureWarning: The default value of numeric_only in DataFrameGroupBy.mean is deprecated. In a future version, numeric_only will default to False. Either specify numeric_only or select only columns which should be valid for the function.\n",
      "  seqsignet_attention_encoder_umap_11.groupby(\n"
     ]
    },
    {
     "data": {
      "text/html": [
       "<div>\n",
       "<style scoped>\n",
       "    .dataframe tbody tr th:only-of-type {\n",
       "        vertical-align: middle;\n",
       "    }\n",
       "\n",
       "    .dataframe tbody tr th {\n",
       "        vertical-align: top;\n",
       "    }\n",
       "\n",
       "    .dataframe thead th {\n",
       "        text-align: right;\n",
       "    }\n",
       "</style>\n",
       "<table border=\"1\" class=\"dataframe\">\n",
       "  <thead>\n",
       "    <tr style=\"text-align: right;\">\n",
       "      <th></th>\n",
       "      <th></th>\n",
       "      <th></th>\n",
       "      <th></th>\n",
       "      <th></th>\n",
       "      <th></th>\n",
       "      <th></th>\n",
       "      <th></th>\n",
       "      <th>accuracy</th>\n",
       "      <th>f1</th>\n",
       "      <th>precision</th>\n",
       "      <th>recall</th>\n",
       "      <th>valid_accuracy</th>\n",
       "      <th>valid_f1</th>\n",
       "      <th>valid_precision</th>\n",
       "      <th>valid_recall</th>\n",
       "      <th>k</th>\n",
       "      <th>shift</th>\n",
       "      <th>...</th>\n",
       "      <th>embedding_dim</th>\n",
       "      <th>num_features</th>\n",
       "      <th>log_signature</th>\n",
       "      <th>transformer_encoder_layers</th>\n",
       "      <th>seed</th>\n",
       "      <th>gamma</th>\n",
       "      <th>k_fold</th>\n",
       "      <th>n_splits</th>\n",
       "      <th>batch_size</th>\n",
       "      <th>model_id</th>\n",
       "    </tr>\n",
       "    <tr>\n",
       "      <th>dimensions</th>\n",
       "      <th>output_channels</th>\n",
       "      <th>sig_depth</th>\n",
       "      <th>num_heads</th>\n",
       "      <th>num_layers</th>\n",
       "      <th>ffn_hidden_dim</th>\n",
       "      <th>dropout_rate</th>\n",
       "      <th>learning_rate</th>\n",
       "      <th></th>\n",
       "      <th></th>\n",
       "      <th></th>\n",
       "      <th></th>\n",
       "      <th></th>\n",
       "      <th></th>\n",
       "      <th></th>\n",
       "      <th></th>\n",
       "      <th></th>\n",
       "      <th></th>\n",
       "      <th></th>\n",
       "      <th></th>\n",
       "      <th></th>\n",
       "      <th></th>\n",
       "      <th></th>\n",
       "      <th></th>\n",
       "      <th></th>\n",
       "      <th></th>\n",
       "      <th></th>\n",
       "      <th></th>\n",
       "      <th></th>\n",
       "    </tr>\n",
       "  </thead>\n",
       "  <tbody>\n",
       "    <tr>\n",
       "      <th rowspan=\"18\" valign=\"top\">15</th>\n",
       "      <th rowspan=\"9\" valign=\"top\">10</th>\n",
       "      <th rowspan=\"9\" valign=\"top\">3</th>\n",
       "      <th rowspan=\"9\" valign=\"top\">5</th>\n",
       "      <th rowspan=\"9\" valign=\"top\">1</th>\n",
       "      <th rowspan=\"3\" valign=\"top\">(32, 32)</th>\n",
       "      <th rowspan=\"3\" valign=\"top\">0.1</th>\n",
       "      <th>0.0001</th>\n",
       "      <td>0.690525</td>\n",
       "      <td>0.659447</td>\n",
       "      <td>0.661522</td>\n",
       "      <td>0.660367</td>\n",
       "      <td>0.717257</td>\n",
       "      <td>0.695889</td>\n",
       "      <td>0.701566</td>\n",
       "      <td>0.694666</td>\n",
       "      <td>11.0</td>\n",
       "      <td>3.0</td>\n",
       "      <td>...</td>\n",
       "      <td>384.0</td>\n",
       "      <td>2.0</td>\n",
       "      <td>1.0</td>\n",
       "      <td>2.0</td>\n",
       "      <td>45.333333</td>\n",
       "      <td>2.0</td>\n",
       "      <td>1.0</td>\n",
       "      <td>5.0</td>\n",
       "      <td>64.0</td>\n",
       "      <td>11.0</td>\n",
       "    </tr>\n",
       "    <tr>\n",
       "      <th>0.0003</th>\n",
       "      <td>0.689966</td>\n",
       "      <td>0.658843</td>\n",
       "      <td>0.664167</td>\n",
       "      <td>0.662603</td>\n",
       "      <td>0.729883</td>\n",
       "      <td>0.708663</td>\n",
       "      <td>0.718838</td>\n",
       "      <td>0.709937</td>\n",
       "      <td>11.0</td>\n",
       "      <td>3.0</td>\n",
       "      <td>...</td>\n",
       "      <td>384.0</td>\n",
       "      <td>2.0</td>\n",
       "      <td>1.0</td>\n",
       "      <td>2.0</td>\n",
       "      <td>45.333333</td>\n",
       "      <td>2.0</td>\n",
       "      <td>1.0</td>\n",
       "      <td>5.0</td>\n",
       "      <td>64.0</td>\n",
       "      <td>10.0</td>\n",
       "    </tr>\n",
       "    <tr>\n",
       "      <th>0.0005</th>\n",
       "      <td>0.697856</td>\n",
       "      <td>0.667311</td>\n",
       "      <td>0.668246</td>\n",
       "      <td>0.667892</td>\n",
       "      <td>0.720672</td>\n",
       "      <td>0.699841</td>\n",
       "      <td>0.703823</td>\n",
       "      <td>0.698104</td>\n",
       "      <td>11.0</td>\n",
       "      <td>3.0</td>\n",
       "      <td>...</td>\n",
       "      <td>384.0</td>\n",
       "      <td>2.0</td>\n",
       "      <td>1.0</td>\n",
       "      <td>2.0</td>\n",
       "      <td>45.333333</td>\n",
       "      <td>2.0</td>\n",
       "      <td>1.0</td>\n",
       "      <td>5.0</td>\n",
       "      <td>64.0</td>\n",
       "      <td>9.0</td>\n",
       "    </tr>\n",
       "    <tr>\n",
       "      <th rowspan=\"3\" valign=\"top\">(128, 128)</th>\n",
       "      <th rowspan=\"3\" valign=\"top\">0.1</th>\n",
       "      <th>0.0001</th>\n",
       "      <td>0.689407</td>\n",
       "      <td>0.665119</td>\n",
       "      <td>0.663777</td>\n",
       "      <td>0.669514</td>\n",
       "      <td>0.729613</td>\n",
       "      <td>0.714507</td>\n",
       "      <td>0.715528</td>\n",
       "      <td>0.716260</td>\n",
       "      <td>11.0</td>\n",
       "      <td>3.0</td>\n",
       "      <td>...</td>\n",
       "      <td>384.0</td>\n",
       "      <td>2.0</td>\n",
       "      <td>1.0</td>\n",
       "      <td>2.0</td>\n",
       "      <td>45.333333</td>\n",
       "      <td>2.0</td>\n",
       "      <td>1.0</td>\n",
       "      <td>5.0</td>\n",
       "      <td>64.0</td>\n",
       "      <td>14.0</td>\n",
       "    </tr>\n",
       "    <tr>\n",
       "      <th>0.0003</th>\n",
       "      <td>0.683691</td>\n",
       "      <td>0.661897</td>\n",
       "      <td>0.659562</td>\n",
       "      <td>0.667825</td>\n",
       "      <td>0.722335</td>\n",
       "      <td>0.709739</td>\n",
       "      <td>0.707908</td>\n",
       "      <td>0.713275</td>\n",
       "      <td>11.0</td>\n",
       "      <td>3.0</td>\n",
       "      <td>...</td>\n",
       "      <td>384.0</td>\n",
       "      <td>2.0</td>\n",
       "      <td>1.0</td>\n",
       "      <td>2.0</td>\n",
       "      <td>45.333333</td>\n",
       "      <td>2.0</td>\n",
       "      <td>1.0</td>\n",
       "      <td>5.0</td>\n",
       "      <td>64.0</td>\n",
       "      <td>13.0</td>\n",
       "    </tr>\n",
       "    <tr>\n",
       "      <th>0.0005</th>\n",
       "      <td>0.688537</td>\n",
       "      <td>0.664256</td>\n",
       "      <td>0.662593</td>\n",
       "      <td>0.668394</td>\n",
       "      <td>0.716224</td>\n",
       "      <td>0.700737</td>\n",
       "      <td>0.700707</td>\n",
       "      <td>0.702499</td>\n",
       "      <td>11.0</td>\n",
       "      <td>3.0</td>\n",
       "      <td>...</td>\n",
       "      <td>384.0</td>\n",
       "      <td>2.0</td>\n",
       "      <td>1.0</td>\n",
       "      <td>2.0</td>\n",
       "      <td>45.333333</td>\n",
       "      <td>2.0</td>\n",
       "      <td>1.0</td>\n",
       "      <td>5.0</td>\n",
       "      <td>64.0</td>\n",
       "      <td>12.0</td>\n",
       "    </tr>\n",
       "    <tr>\n",
       "      <th rowspan=\"3\" valign=\"top\">(512, 512)</th>\n",
       "      <th rowspan=\"3\" valign=\"top\">0.1</th>\n",
       "      <th>0.0001</th>\n",
       "      <td>0.697608</td>\n",
       "      <td>0.666834</td>\n",
       "      <td>0.667548</td>\n",
       "      <td>0.666594</td>\n",
       "      <td>0.729568</td>\n",
       "      <td>0.707798</td>\n",
       "      <td>0.713316</td>\n",
       "      <td>0.704636</td>\n",
       "      <td>11.0</td>\n",
       "      <td>3.0</td>\n",
       "      <td>...</td>\n",
       "      <td>384.0</td>\n",
       "      <td>2.0</td>\n",
       "      <td>1.0</td>\n",
       "      <td>2.0</td>\n",
       "      <td>45.333333</td>\n",
       "      <td>2.0</td>\n",
       "      <td>1.0</td>\n",
       "      <td>5.0</td>\n",
       "      <td>64.0</td>\n",
       "      <td>17.0</td>\n",
       "    </tr>\n",
       "    <tr>\n",
       "      <th>0.0003</th>\n",
       "      <td>0.689904</td>\n",
       "      <td>0.662866</td>\n",
       "      <td>0.662862</td>\n",
       "      <td>0.665385</td>\n",
       "      <td>0.717662</td>\n",
       "      <td>0.700609</td>\n",
       "      <td>0.702124</td>\n",
       "      <td>0.701081</td>\n",
       "      <td>11.0</td>\n",
       "      <td>3.0</td>\n",
       "      <td>...</td>\n",
       "      <td>384.0</td>\n",
       "      <td>2.0</td>\n",
       "      <td>1.0</td>\n",
       "      <td>2.0</td>\n",
       "      <td>45.333333</td>\n",
       "      <td>2.0</td>\n",
       "      <td>1.0</td>\n",
       "      <td>5.0</td>\n",
       "      <td>64.0</td>\n",
       "      <td>16.0</td>\n",
       "    </tr>\n",
       "    <tr>\n",
       "      <th>0.0005</th>\n",
       "      <td>0.699534</td>\n",
       "      <td>0.667152</td>\n",
       "      <td>0.669368</td>\n",
       "      <td>0.666312</td>\n",
       "      <td>0.716179</td>\n",
       "      <td>0.693040</td>\n",
       "      <td>0.699774</td>\n",
       "      <td>0.690446</td>\n",
       "      <td>11.0</td>\n",
       "      <td>3.0</td>\n",
       "      <td>...</td>\n",
       "      <td>384.0</td>\n",
       "      <td>2.0</td>\n",
       "      <td>1.0</td>\n",
       "      <td>2.0</td>\n",
       "      <td>45.333333</td>\n",
       "      <td>2.0</td>\n",
       "      <td>1.0</td>\n",
       "      <td>5.0</td>\n",
       "      <td>64.0</td>\n",
       "      <td>15.0</td>\n",
       "    </tr>\n",
       "    <tr>\n",
       "      <th rowspan=\"9\" valign=\"top\">12</th>\n",
       "      <th rowspan=\"9\" valign=\"top\">3</th>\n",
       "      <th rowspan=\"9\" valign=\"top\">10</th>\n",
       "      <th rowspan=\"9\" valign=\"top\">1</th>\n",
       "      <th rowspan=\"3\" valign=\"top\">(32, 32)</th>\n",
       "      <th rowspan=\"3\" valign=\"top\">0.1</th>\n",
       "      <th>0.0001</th>\n",
       "      <td>0.688910</td>\n",
       "      <td>0.656936</td>\n",
       "      <td>0.657923</td>\n",
       "      <td>0.656500</td>\n",
       "      <td>0.730107</td>\n",
       "      <td>0.708908</td>\n",
       "      <td>0.713968</td>\n",
       "      <td>0.706158</td>\n",
       "      <td>11.0</td>\n",
       "      <td>3.0</td>\n",
       "      <td>...</td>\n",
       "      <td>384.0</td>\n",
       "      <td>2.0</td>\n",
       "      <td>1.0</td>\n",
       "      <td>2.0</td>\n",
       "      <td>45.333333</td>\n",
       "      <td>2.0</td>\n",
       "      <td>1.0</td>\n",
       "      <td>5.0</td>\n",
       "      <td>64.0</td>\n",
       "      <td>2.0</td>\n",
       "    </tr>\n",
       "    <tr>\n",
       "      <th>0.0003</th>\n",
       "      <td>0.683628</td>\n",
       "      <td>0.657657</td>\n",
       "      <td>0.657971</td>\n",
       "      <td>0.661584</td>\n",
       "      <td>0.721795</td>\n",
       "      <td>0.705721</td>\n",
       "      <td>0.707093</td>\n",
       "      <td>0.707272</td>\n",
       "      <td>11.0</td>\n",
       "      <td>3.0</td>\n",
       "      <td>...</td>\n",
       "      <td>384.0</td>\n",
       "      <td>2.0</td>\n",
       "      <td>1.0</td>\n",
       "      <td>2.0</td>\n",
       "      <td>45.333333</td>\n",
       "      <td>2.0</td>\n",
       "      <td>1.0</td>\n",
       "      <td>5.0</td>\n",
       "      <td>64.0</td>\n",
       "      <td>1.0</td>\n",
       "    </tr>\n",
       "    <tr>\n",
       "      <th>0.0005</th>\n",
       "      <td>0.695371</td>\n",
       "      <td>0.654197</td>\n",
       "      <td>0.662603</td>\n",
       "      <td>0.651217</td>\n",
       "      <td>0.706654</td>\n",
       "      <td>0.678108</td>\n",
       "      <td>0.689243</td>\n",
       "      <td>0.674557</td>\n",
       "      <td>11.0</td>\n",
       "      <td>3.0</td>\n",
       "      <td>...</td>\n",
       "      <td>384.0</td>\n",
       "      <td>2.0</td>\n",
       "      <td>1.0</td>\n",
       "      <td>2.0</td>\n",
       "      <td>45.333333</td>\n",
       "      <td>2.0</td>\n",
       "      <td>1.0</td>\n",
       "      <td>5.0</td>\n",
       "      <td>64.0</td>\n",
       "      <td>0.0</td>\n",
       "    </tr>\n",
       "    <tr>\n",
       "      <th rowspan=\"3\" valign=\"top\">(128, 128)</th>\n",
       "      <th rowspan=\"3\" valign=\"top\">0.1</th>\n",
       "      <th>0.0001</th>\n",
       "      <td>0.688599</td>\n",
       "      <td>0.663851</td>\n",
       "      <td>0.662645</td>\n",
       "      <td>0.667868</td>\n",
       "      <td>0.737161</td>\n",
       "      <td>0.720070</td>\n",
       "      <td>0.722260</td>\n",
       "      <td>0.719779</td>\n",
       "      <td>11.0</td>\n",
       "      <td>3.0</td>\n",
       "      <td>...</td>\n",
       "      <td>384.0</td>\n",
       "      <td>2.0</td>\n",
       "      <td>1.0</td>\n",
       "      <td>2.0</td>\n",
       "      <td>45.333333</td>\n",
       "      <td>2.0</td>\n",
       "      <td>1.0</td>\n",
       "      <td>5.0</td>\n",
       "      <td>64.0</td>\n",
       "      <td>5.0</td>\n",
       "    </tr>\n",
       "    <tr>\n",
       "      <th>0.0003</th>\n",
       "      <td>0.680149</td>\n",
       "      <td>0.663115</td>\n",
       "      <td>0.661840</td>\n",
       "      <td>0.673509</td>\n",
       "      <td>0.713708</td>\n",
       "      <td>0.702252</td>\n",
       "      <td>0.700541</td>\n",
       "      <td>0.707211</td>\n",
       "      <td>11.0</td>\n",
       "      <td>3.0</td>\n",
       "      <td>...</td>\n",
       "      <td>384.0</td>\n",
       "      <td>2.0</td>\n",
       "      <td>1.0</td>\n",
       "      <td>2.0</td>\n",
       "      <td>45.333333</td>\n",
       "      <td>2.0</td>\n",
       "      <td>1.0</td>\n",
       "      <td>5.0</td>\n",
       "      <td>64.0</td>\n",
       "      <td>4.0</td>\n",
       "    </tr>\n",
       "    <tr>\n",
       "      <th>0.0005</th>\n",
       "      <td>0.691333</td>\n",
       "      <td>0.661336</td>\n",
       "      <td>0.661592</td>\n",
       "      <td>0.661891</td>\n",
       "      <td>0.710967</td>\n",
       "      <td>0.690859</td>\n",
       "      <td>0.693437</td>\n",
       "      <td>0.689561</td>\n",
       "      <td>11.0</td>\n",
       "      <td>3.0</td>\n",
       "      <td>...</td>\n",
       "      <td>384.0</td>\n",
       "      <td>2.0</td>\n",
       "      <td>1.0</td>\n",
       "      <td>2.0</td>\n",
       "      <td>45.333333</td>\n",
       "      <td>2.0</td>\n",
       "      <td>1.0</td>\n",
       "      <td>5.0</td>\n",
       "      <td>64.0</td>\n",
       "      <td>3.0</td>\n",
       "    </tr>\n",
       "    <tr>\n",
       "      <th rowspan=\"3\" valign=\"top\">(512, 512)</th>\n",
       "      <th rowspan=\"3\" valign=\"top\">0.1</th>\n",
       "      <th>0.0001</th>\n",
       "      <td>0.680957</td>\n",
       "      <td>0.662670</td>\n",
       "      <td>0.660985</td>\n",
       "      <td>0.671751</td>\n",
       "      <td>0.735184</td>\n",
       "      <td>0.723706</td>\n",
       "      <td>0.721437</td>\n",
       "      <td>0.727981</td>\n",
       "      <td>11.0</td>\n",
       "      <td>3.0</td>\n",
       "      <td>...</td>\n",
       "      <td>384.0</td>\n",
       "      <td>2.0</td>\n",
       "      <td>1.0</td>\n",
       "      <td>2.0</td>\n",
       "      <td>45.333333</td>\n",
       "      <td>2.0</td>\n",
       "      <td>1.0</td>\n",
       "      <td>5.0</td>\n",
       "      <td>64.0</td>\n",
       "      <td>8.0</td>\n",
       "    </tr>\n",
       "    <tr>\n",
       "      <th>0.0003</th>\n",
       "      <td>0.689966</td>\n",
       "      <td>0.664717</td>\n",
       "      <td>0.663904</td>\n",
       "      <td>0.668509</td>\n",
       "      <td>0.710877</td>\n",
       "      <td>0.694892</td>\n",
       "      <td>0.695396</td>\n",
       "      <td>0.696482</td>\n",
       "      <td>11.0</td>\n",
       "      <td>3.0</td>\n",
       "      <td>...</td>\n",
       "      <td>384.0</td>\n",
       "      <td>2.0</td>\n",
       "      <td>1.0</td>\n",
       "      <td>2.0</td>\n",
       "      <td>45.333333</td>\n",
       "      <td>2.0</td>\n",
       "      <td>1.0</td>\n",
       "      <td>5.0</td>\n",
       "      <td>64.0</td>\n",
       "      <td>7.0</td>\n",
       "    </tr>\n",
       "    <tr>\n",
       "      <th>0.0005</th>\n",
       "      <td>0.697235</td>\n",
       "      <td>0.668595</td>\n",
       "      <td>0.668542</td>\n",
       "      <td>0.669547</td>\n",
       "      <td>0.708002</td>\n",
       "      <td>0.687252</td>\n",
       "      <td>0.690267</td>\n",
       "      <td>0.685830</td>\n",
       "      <td>11.0</td>\n",
       "      <td>3.0</td>\n",
       "      <td>...</td>\n",
       "      <td>384.0</td>\n",
       "      <td>2.0</td>\n",
       "      <td>1.0</td>\n",
       "      <td>2.0</td>\n",
       "      <td>45.333333</td>\n",
       "      <td>2.0</td>\n",
       "      <td>1.0</td>\n",
       "      <td>5.0</td>\n",
       "      <td>64.0</td>\n",
       "      <td>6.0</td>\n",
       "    </tr>\n",
       "  </tbody>\n",
       "</table>\n",
       "<p>18 rows × 25 columns</p>\n",
       "</div>"
      ],
      "text/plain": [
       "                                                                                                     accuracy  \\\n",
       "dimensions output_channels sig_depth num_heads num_layers ffn_hidden_dim dropout_rate learning_rate             \n",
       "15         10              3         5         1          (32, 32)       0.1          0.0001         0.690525   \n",
       "                                                                                      0.0003         0.689966   \n",
       "                                                                                      0.0005         0.697856   \n",
       "                                                          (128, 128)     0.1          0.0001         0.689407   \n",
       "                                                                                      0.0003         0.683691   \n",
       "                                                                                      0.0005         0.688537   \n",
       "                                                          (512, 512)     0.1          0.0001         0.697608   \n",
       "                                                                                      0.0003         0.689904   \n",
       "                                                                                      0.0005         0.699534   \n",
       "           12              3         10        1          (32, 32)       0.1          0.0001         0.688910   \n",
       "                                                                                      0.0003         0.683628   \n",
       "                                                                                      0.0005         0.695371   \n",
       "                                                          (128, 128)     0.1          0.0001         0.688599   \n",
       "                                                                                      0.0003         0.680149   \n",
       "                                                                                      0.0005         0.691333   \n",
       "                                                          (512, 512)     0.1          0.0001         0.680957   \n",
       "                                                                                      0.0003         0.689966   \n",
       "                                                                                      0.0005         0.697235   \n",
       "\n",
       "                                                                                                           f1  \\\n",
       "dimensions output_channels sig_depth num_heads num_layers ffn_hidden_dim dropout_rate learning_rate             \n",
       "15         10              3         5         1          (32, 32)       0.1          0.0001         0.659447   \n",
       "                                                                                      0.0003         0.658843   \n",
       "                                                                                      0.0005         0.667311   \n",
       "                                                          (128, 128)     0.1          0.0001         0.665119   \n",
       "                                                                                      0.0003         0.661897   \n",
       "                                                                                      0.0005         0.664256   \n",
       "                                                          (512, 512)     0.1          0.0001         0.666834   \n",
       "                                                                                      0.0003         0.662866   \n",
       "                                                                                      0.0005         0.667152   \n",
       "           12              3         10        1          (32, 32)       0.1          0.0001         0.656936   \n",
       "                                                                                      0.0003         0.657657   \n",
       "                                                                                      0.0005         0.654197   \n",
       "                                                          (128, 128)     0.1          0.0001         0.663851   \n",
       "                                                                                      0.0003         0.663115   \n",
       "                                                                                      0.0005         0.661336   \n",
       "                                                          (512, 512)     0.1          0.0001         0.662670   \n",
       "                                                                                      0.0003         0.664717   \n",
       "                                                                                      0.0005         0.668595   \n",
       "\n",
       "                                                                                                     precision  \\\n",
       "dimensions output_channels sig_depth num_heads num_layers ffn_hidden_dim dropout_rate learning_rate              \n",
       "15         10              3         5         1          (32, 32)       0.1          0.0001          0.661522   \n",
       "                                                                                      0.0003          0.664167   \n",
       "                                                                                      0.0005          0.668246   \n",
       "                                                          (128, 128)     0.1          0.0001          0.663777   \n",
       "                                                                                      0.0003          0.659562   \n",
       "                                                                                      0.0005          0.662593   \n",
       "                                                          (512, 512)     0.1          0.0001          0.667548   \n",
       "                                                                                      0.0003          0.662862   \n",
       "                                                                                      0.0005          0.669368   \n",
       "           12              3         10        1          (32, 32)       0.1          0.0001          0.657923   \n",
       "                                                                                      0.0003          0.657971   \n",
       "                                                                                      0.0005          0.662603   \n",
       "                                                          (128, 128)     0.1          0.0001          0.662645   \n",
       "                                                                                      0.0003          0.661840   \n",
       "                                                                                      0.0005          0.661592   \n",
       "                                                          (512, 512)     0.1          0.0001          0.660985   \n",
       "                                                                                      0.0003          0.663904   \n",
       "                                                                                      0.0005          0.668542   \n",
       "\n",
       "                                                                                                       recall  \\\n",
       "dimensions output_channels sig_depth num_heads num_layers ffn_hidden_dim dropout_rate learning_rate             \n",
       "15         10              3         5         1          (32, 32)       0.1          0.0001         0.660367   \n",
       "                                                                                      0.0003         0.662603   \n",
       "                                                                                      0.0005         0.667892   \n",
       "                                                          (128, 128)     0.1          0.0001         0.669514   \n",
       "                                                                                      0.0003         0.667825   \n",
       "                                                                                      0.0005         0.668394   \n",
       "                                                          (512, 512)     0.1          0.0001         0.666594   \n",
       "                                                                                      0.0003         0.665385   \n",
       "                                                                                      0.0005         0.666312   \n",
       "           12              3         10        1          (32, 32)       0.1          0.0001         0.656500   \n",
       "                                                                                      0.0003         0.661584   \n",
       "                                                                                      0.0005         0.651217   \n",
       "                                                          (128, 128)     0.1          0.0001         0.667868   \n",
       "                                                                                      0.0003         0.673509   \n",
       "                                                                                      0.0005         0.661891   \n",
       "                                                          (512, 512)     0.1          0.0001         0.671751   \n",
       "                                                                                      0.0003         0.668509   \n",
       "                                                                                      0.0005         0.669547   \n",
       "\n",
       "                                                                                                     valid_accuracy  \\\n",
       "dimensions output_channels sig_depth num_heads num_layers ffn_hidden_dim dropout_rate learning_rate                   \n",
       "15         10              3         5         1          (32, 32)       0.1          0.0001               0.717257   \n",
       "                                                                                      0.0003               0.729883   \n",
       "                                                                                      0.0005               0.720672   \n",
       "                                                          (128, 128)     0.1          0.0001               0.729613   \n",
       "                                                                                      0.0003               0.722335   \n",
       "                                                                                      0.0005               0.716224   \n",
       "                                                          (512, 512)     0.1          0.0001               0.729568   \n",
       "                                                                                      0.0003               0.717662   \n",
       "                                                                                      0.0005               0.716179   \n",
       "           12              3         10        1          (32, 32)       0.1          0.0001               0.730107   \n",
       "                                                                                      0.0003               0.721795   \n",
       "                                                                                      0.0005               0.706654   \n",
       "                                                          (128, 128)     0.1          0.0001               0.737161   \n",
       "                                                                                      0.0003               0.713708   \n",
       "                                                                                      0.0005               0.710967   \n",
       "                                                          (512, 512)     0.1          0.0001               0.735184   \n",
       "                                                                                      0.0003               0.710877   \n",
       "                                                                                      0.0005               0.708002   \n",
       "\n",
       "                                                                                                     valid_f1  \\\n",
       "dimensions output_channels sig_depth num_heads num_layers ffn_hidden_dim dropout_rate learning_rate             \n",
       "15         10              3         5         1          (32, 32)       0.1          0.0001         0.695889   \n",
       "                                                                                      0.0003         0.708663   \n",
       "                                                                                      0.0005         0.699841   \n",
       "                                                          (128, 128)     0.1          0.0001         0.714507   \n",
       "                                                                                      0.0003         0.709739   \n",
       "                                                                                      0.0005         0.700737   \n",
       "                                                          (512, 512)     0.1          0.0001         0.707798   \n",
       "                                                                                      0.0003         0.700609   \n",
       "                                                                                      0.0005         0.693040   \n",
       "           12              3         10        1          (32, 32)       0.1          0.0001         0.708908   \n",
       "                                                                                      0.0003         0.705721   \n",
       "                                                                                      0.0005         0.678108   \n",
       "                                                          (128, 128)     0.1          0.0001         0.720070   \n",
       "                                                                                      0.0003         0.702252   \n",
       "                                                                                      0.0005         0.690859   \n",
       "                                                          (512, 512)     0.1          0.0001         0.723706   \n",
       "                                                                                      0.0003         0.694892   \n",
       "                                                                                      0.0005         0.687252   \n",
       "\n",
       "                                                                                                     valid_precision  \\\n",
       "dimensions output_channels sig_depth num_heads num_layers ffn_hidden_dim dropout_rate learning_rate                    \n",
       "15         10              3         5         1          (32, 32)       0.1          0.0001                0.701566   \n",
       "                                                                                      0.0003                0.718838   \n",
       "                                                                                      0.0005                0.703823   \n",
       "                                                          (128, 128)     0.1          0.0001                0.715528   \n",
       "                                                                                      0.0003                0.707908   \n",
       "                                                                                      0.0005                0.700707   \n",
       "                                                          (512, 512)     0.1          0.0001                0.713316   \n",
       "                                                                                      0.0003                0.702124   \n",
       "                                                                                      0.0005                0.699774   \n",
       "           12              3         10        1          (32, 32)       0.1          0.0001                0.713968   \n",
       "                                                                                      0.0003                0.707093   \n",
       "                                                                                      0.0005                0.689243   \n",
       "                                                          (128, 128)     0.1          0.0001                0.722260   \n",
       "                                                                                      0.0003                0.700541   \n",
       "                                                                                      0.0005                0.693437   \n",
       "                                                          (512, 512)     0.1          0.0001                0.721437   \n",
       "                                                                                      0.0003                0.695396   \n",
       "                                                                                      0.0005                0.690267   \n",
       "\n",
       "                                                                                                     valid_recall  \\\n",
       "dimensions output_channels sig_depth num_heads num_layers ffn_hidden_dim dropout_rate learning_rate                 \n",
       "15         10              3         5         1          (32, 32)       0.1          0.0001             0.694666   \n",
       "                                                                                      0.0003             0.709937   \n",
       "                                                                                      0.0005             0.698104   \n",
       "                                                          (128, 128)     0.1          0.0001             0.716260   \n",
       "                                                                                      0.0003             0.713275   \n",
       "                                                                                      0.0005             0.702499   \n",
       "                                                          (512, 512)     0.1          0.0001             0.704636   \n",
       "                                                                                      0.0003             0.701081   \n",
       "                                                                                      0.0005             0.690446   \n",
       "           12              3         10        1          (32, 32)       0.1          0.0001             0.706158   \n",
       "                                                                                      0.0003             0.707272   \n",
       "                                                                                      0.0005             0.674557   \n",
       "                                                          (128, 128)     0.1          0.0001             0.719779   \n",
       "                                                                                      0.0003             0.707211   \n",
       "                                                                                      0.0005             0.689561   \n",
       "                                                          (512, 512)     0.1          0.0001             0.727981   \n",
       "                                                                                      0.0003             0.696482   \n",
       "                                                                                      0.0005             0.685830   \n",
       "\n",
       "                                                                                                        k  \\\n",
       "dimensions output_channels sig_depth num_heads num_layers ffn_hidden_dim dropout_rate learning_rate         \n",
       "15         10              3         5         1          (32, 32)       0.1          0.0001         11.0   \n",
       "                                                                                      0.0003         11.0   \n",
       "                                                                                      0.0005         11.0   \n",
       "                                                          (128, 128)     0.1          0.0001         11.0   \n",
       "                                                                                      0.0003         11.0   \n",
       "                                                                                      0.0005         11.0   \n",
       "                                                          (512, 512)     0.1          0.0001         11.0   \n",
       "                                                                                      0.0003         11.0   \n",
       "                                                                                      0.0005         11.0   \n",
       "           12              3         10        1          (32, 32)       0.1          0.0001         11.0   \n",
       "                                                                                      0.0003         11.0   \n",
       "                                                                                      0.0005         11.0   \n",
       "                                                          (128, 128)     0.1          0.0001         11.0   \n",
       "                                                                                      0.0003         11.0   \n",
       "                                                                                      0.0005         11.0   \n",
       "                                                          (512, 512)     0.1          0.0001         11.0   \n",
       "                                                                                      0.0003         11.0   \n",
       "                                                                                      0.0005         11.0   \n",
       "\n",
       "                                                                                                     shift  \\\n",
       "dimensions output_channels sig_depth num_heads num_layers ffn_hidden_dim dropout_rate learning_rate          \n",
       "15         10              3         5         1          (32, 32)       0.1          0.0001           3.0   \n",
       "                                                                                      0.0003           3.0   \n",
       "                                                                                      0.0005           3.0   \n",
       "                                                          (128, 128)     0.1          0.0001           3.0   \n",
       "                                                                                      0.0003           3.0   \n",
       "                                                                                      0.0005           3.0   \n",
       "                                                          (512, 512)     0.1          0.0001           3.0   \n",
       "                                                                                      0.0003           3.0   \n",
       "                                                                                      0.0005           3.0   \n",
       "           12              3         10        1          (32, 32)       0.1          0.0001           3.0   \n",
       "                                                                                      0.0003           3.0   \n",
       "                                                                                      0.0005           3.0   \n",
       "                                                          (128, 128)     0.1          0.0001           3.0   \n",
       "                                                                                      0.0003           3.0   \n",
       "                                                                                      0.0005           3.0   \n",
       "                                                          (512, 512)     0.1          0.0001           3.0   \n",
       "                                                                                      0.0003           3.0   \n",
       "                                                                                      0.0005           3.0   \n",
       "\n",
       "                                                                                                     ...  \\\n",
       "dimensions output_channels sig_depth num_heads num_layers ffn_hidden_dim dropout_rate learning_rate  ...   \n",
       "15         10              3         5         1          (32, 32)       0.1          0.0001         ...   \n",
       "                                                                                      0.0003         ...   \n",
       "                                                                                      0.0005         ...   \n",
       "                                                          (128, 128)     0.1          0.0001         ...   \n",
       "                                                                                      0.0003         ...   \n",
       "                                                                                      0.0005         ...   \n",
       "                                                          (512, 512)     0.1          0.0001         ...   \n",
       "                                                                                      0.0003         ...   \n",
       "                                                                                      0.0005         ...   \n",
       "           12              3         10        1          (32, 32)       0.1          0.0001         ...   \n",
       "                                                                                      0.0003         ...   \n",
       "                                                                                      0.0005         ...   \n",
       "                                                          (128, 128)     0.1          0.0001         ...   \n",
       "                                                                                      0.0003         ...   \n",
       "                                                                                      0.0005         ...   \n",
       "                                                          (512, 512)     0.1          0.0001         ...   \n",
       "                                                                                      0.0003         ...   \n",
       "                                                                                      0.0005         ...   \n",
       "\n",
       "                                                                                                     embedding_dim  \\\n",
       "dimensions output_channels sig_depth num_heads num_layers ffn_hidden_dim dropout_rate learning_rate                  \n",
       "15         10              3         5         1          (32, 32)       0.1          0.0001                 384.0   \n",
       "                                                                                      0.0003                 384.0   \n",
       "                                                                                      0.0005                 384.0   \n",
       "                                                          (128, 128)     0.1          0.0001                 384.0   \n",
       "                                                                                      0.0003                 384.0   \n",
       "                                                                                      0.0005                 384.0   \n",
       "                                                          (512, 512)     0.1          0.0001                 384.0   \n",
       "                                                                                      0.0003                 384.0   \n",
       "                                                                                      0.0005                 384.0   \n",
       "           12              3         10        1          (32, 32)       0.1          0.0001                 384.0   \n",
       "                                                                                      0.0003                 384.0   \n",
       "                                                                                      0.0005                 384.0   \n",
       "                                                          (128, 128)     0.1          0.0001                 384.0   \n",
       "                                                                                      0.0003                 384.0   \n",
       "                                                                                      0.0005                 384.0   \n",
       "                                                          (512, 512)     0.1          0.0001                 384.0   \n",
       "                                                                                      0.0003                 384.0   \n",
       "                                                                                      0.0005                 384.0   \n",
       "\n",
       "                                                                                                     num_features  \\\n",
       "dimensions output_channels sig_depth num_heads num_layers ffn_hidden_dim dropout_rate learning_rate                 \n",
       "15         10              3         5         1          (32, 32)       0.1          0.0001                  2.0   \n",
       "                                                                                      0.0003                  2.0   \n",
       "                                                                                      0.0005                  2.0   \n",
       "                                                          (128, 128)     0.1          0.0001                  2.0   \n",
       "                                                                                      0.0003                  2.0   \n",
       "                                                                                      0.0005                  2.0   \n",
       "                                                          (512, 512)     0.1          0.0001                  2.0   \n",
       "                                                                                      0.0003                  2.0   \n",
       "                                                                                      0.0005                  2.0   \n",
       "           12              3         10        1          (32, 32)       0.1          0.0001                  2.0   \n",
       "                                                                                      0.0003                  2.0   \n",
       "                                                                                      0.0005                  2.0   \n",
       "                                                          (128, 128)     0.1          0.0001                  2.0   \n",
       "                                                                                      0.0003                  2.0   \n",
       "                                                                                      0.0005                  2.0   \n",
       "                                                          (512, 512)     0.1          0.0001                  2.0   \n",
       "                                                                                      0.0003                  2.0   \n",
       "                                                                                      0.0005                  2.0   \n",
       "\n",
       "                                                                                                     log_signature  \\\n",
       "dimensions output_channels sig_depth num_heads num_layers ffn_hidden_dim dropout_rate learning_rate                  \n",
       "15         10              3         5         1          (32, 32)       0.1          0.0001                   1.0   \n",
       "                                                                                      0.0003                   1.0   \n",
       "                                                                                      0.0005                   1.0   \n",
       "                                                          (128, 128)     0.1          0.0001                   1.0   \n",
       "                                                                                      0.0003                   1.0   \n",
       "                                                                                      0.0005                   1.0   \n",
       "                                                          (512, 512)     0.1          0.0001                   1.0   \n",
       "                                                                                      0.0003                   1.0   \n",
       "                                                                                      0.0005                   1.0   \n",
       "           12              3         10        1          (32, 32)       0.1          0.0001                   1.0   \n",
       "                                                                                      0.0003                   1.0   \n",
       "                                                                                      0.0005                   1.0   \n",
       "                                                          (128, 128)     0.1          0.0001                   1.0   \n",
       "                                                                                      0.0003                   1.0   \n",
       "                                                                                      0.0005                   1.0   \n",
       "                                                          (512, 512)     0.1          0.0001                   1.0   \n",
       "                                                                                      0.0003                   1.0   \n",
       "                                                                                      0.0005                   1.0   \n",
       "\n",
       "                                                                                                     transformer_encoder_layers  \\\n",
       "dimensions output_channels sig_depth num_heads num_layers ffn_hidden_dim dropout_rate learning_rate                               \n",
       "15         10              3         5         1          (32, 32)       0.1          0.0001                                2.0   \n",
       "                                                                                      0.0003                                2.0   \n",
       "                                                                                      0.0005                                2.0   \n",
       "                                                          (128, 128)     0.1          0.0001                                2.0   \n",
       "                                                                                      0.0003                                2.0   \n",
       "                                                                                      0.0005                                2.0   \n",
       "                                                          (512, 512)     0.1          0.0001                                2.0   \n",
       "                                                                                      0.0003                                2.0   \n",
       "                                                                                      0.0005                                2.0   \n",
       "           12              3         10        1          (32, 32)       0.1          0.0001                                2.0   \n",
       "                                                                                      0.0003                                2.0   \n",
       "                                                                                      0.0005                                2.0   \n",
       "                                                          (128, 128)     0.1          0.0001                                2.0   \n",
       "                                                                                      0.0003                                2.0   \n",
       "                                                                                      0.0005                                2.0   \n",
       "                                                          (512, 512)     0.1          0.0001                                2.0   \n",
       "                                                                                      0.0003                                2.0   \n",
       "                                                                                      0.0005                                2.0   \n",
       "\n",
       "                                                                                                          seed  \\\n",
       "dimensions output_channels sig_depth num_heads num_layers ffn_hidden_dim dropout_rate learning_rate              \n",
       "15         10              3         5         1          (32, 32)       0.1          0.0001         45.333333   \n",
       "                                                                                      0.0003         45.333333   \n",
       "                                                                                      0.0005         45.333333   \n",
       "                                                          (128, 128)     0.1          0.0001         45.333333   \n",
       "                                                                                      0.0003         45.333333   \n",
       "                                                                                      0.0005         45.333333   \n",
       "                                                          (512, 512)     0.1          0.0001         45.333333   \n",
       "                                                                                      0.0003         45.333333   \n",
       "                                                                                      0.0005         45.333333   \n",
       "           12              3         10        1          (32, 32)       0.1          0.0001         45.333333   \n",
       "                                                                                      0.0003         45.333333   \n",
       "                                                                                      0.0005         45.333333   \n",
       "                                                          (128, 128)     0.1          0.0001         45.333333   \n",
       "                                                                                      0.0003         45.333333   \n",
       "                                                                                      0.0005         45.333333   \n",
       "                                                          (512, 512)     0.1          0.0001         45.333333   \n",
       "                                                                                      0.0003         45.333333   \n",
       "                                                                                      0.0005         45.333333   \n",
       "\n",
       "                                                                                                     gamma  \\\n",
       "dimensions output_channels sig_depth num_heads num_layers ffn_hidden_dim dropout_rate learning_rate          \n",
       "15         10              3         5         1          (32, 32)       0.1          0.0001           2.0   \n",
       "                                                                                      0.0003           2.0   \n",
       "                                                                                      0.0005           2.0   \n",
       "                                                          (128, 128)     0.1          0.0001           2.0   \n",
       "                                                                                      0.0003           2.0   \n",
       "                                                                                      0.0005           2.0   \n",
       "                                                          (512, 512)     0.1          0.0001           2.0   \n",
       "                                                                                      0.0003           2.0   \n",
       "                                                                                      0.0005           2.0   \n",
       "           12              3         10        1          (32, 32)       0.1          0.0001           2.0   \n",
       "                                                                                      0.0003           2.0   \n",
       "                                                                                      0.0005           2.0   \n",
       "                                                          (128, 128)     0.1          0.0001           2.0   \n",
       "                                                                                      0.0003           2.0   \n",
       "                                                                                      0.0005           2.0   \n",
       "                                                          (512, 512)     0.1          0.0001           2.0   \n",
       "                                                                                      0.0003           2.0   \n",
       "                                                                                      0.0005           2.0   \n",
       "\n",
       "                                                                                                     k_fold  \\\n",
       "dimensions output_channels sig_depth num_heads num_layers ffn_hidden_dim dropout_rate learning_rate           \n",
       "15         10              3         5         1          (32, 32)       0.1          0.0001            1.0   \n",
       "                                                                                      0.0003            1.0   \n",
       "                                                                                      0.0005            1.0   \n",
       "                                                          (128, 128)     0.1          0.0001            1.0   \n",
       "                                                                                      0.0003            1.0   \n",
       "                                                                                      0.0005            1.0   \n",
       "                                                          (512, 512)     0.1          0.0001            1.0   \n",
       "                                                                                      0.0003            1.0   \n",
       "                                                                                      0.0005            1.0   \n",
       "           12              3         10        1          (32, 32)       0.1          0.0001            1.0   \n",
       "                                                                                      0.0003            1.0   \n",
       "                                                                                      0.0005            1.0   \n",
       "                                                          (128, 128)     0.1          0.0001            1.0   \n",
       "                                                                                      0.0003            1.0   \n",
       "                                                                                      0.0005            1.0   \n",
       "                                                          (512, 512)     0.1          0.0001            1.0   \n",
       "                                                                                      0.0003            1.0   \n",
       "                                                                                      0.0005            1.0   \n",
       "\n",
       "                                                                                                     n_splits  \\\n",
       "dimensions output_channels sig_depth num_heads num_layers ffn_hidden_dim dropout_rate learning_rate             \n",
       "15         10              3         5         1          (32, 32)       0.1          0.0001              5.0   \n",
       "                                                                                      0.0003              5.0   \n",
       "                                                                                      0.0005              5.0   \n",
       "                                                          (128, 128)     0.1          0.0001              5.0   \n",
       "                                                                                      0.0003              5.0   \n",
       "                                                                                      0.0005              5.0   \n",
       "                                                          (512, 512)     0.1          0.0001              5.0   \n",
       "                                                                                      0.0003              5.0   \n",
       "                                                                                      0.0005              5.0   \n",
       "           12              3         10        1          (32, 32)       0.1          0.0001              5.0   \n",
       "                                                                                      0.0003              5.0   \n",
       "                                                                                      0.0005              5.0   \n",
       "                                                          (128, 128)     0.1          0.0001              5.0   \n",
       "                                                                                      0.0003              5.0   \n",
       "                                                                                      0.0005              5.0   \n",
       "                                                          (512, 512)     0.1          0.0001              5.0   \n",
       "                                                                                      0.0003              5.0   \n",
       "                                                                                      0.0005              5.0   \n",
       "\n",
       "                                                                                                     batch_size  \\\n",
       "dimensions output_channels sig_depth num_heads num_layers ffn_hidden_dim dropout_rate learning_rate               \n",
       "15         10              3         5         1          (32, 32)       0.1          0.0001               64.0   \n",
       "                                                                                      0.0003               64.0   \n",
       "                                                                                      0.0005               64.0   \n",
       "                                                          (128, 128)     0.1          0.0001               64.0   \n",
       "                                                                                      0.0003               64.0   \n",
       "                                                                                      0.0005               64.0   \n",
       "                                                          (512, 512)     0.1          0.0001               64.0   \n",
       "                                                                                      0.0003               64.0   \n",
       "                                                                                      0.0005               64.0   \n",
       "           12              3         10        1          (32, 32)       0.1          0.0001               64.0   \n",
       "                                                                                      0.0003               64.0   \n",
       "                                                                                      0.0005               64.0   \n",
       "                                                          (128, 128)     0.1          0.0001               64.0   \n",
       "                                                                                      0.0003               64.0   \n",
       "                                                                                      0.0005               64.0   \n",
       "                                                          (512, 512)     0.1          0.0001               64.0   \n",
       "                                                                                      0.0003               64.0   \n",
       "                                                                                      0.0005               64.0   \n",
       "\n",
       "                                                                                                     model_id  \n",
       "dimensions output_channels sig_depth num_heads num_layers ffn_hidden_dim dropout_rate learning_rate            \n",
       "15         10              3         5         1          (32, 32)       0.1          0.0001             11.0  \n",
       "                                                                                      0.0003             10.0  \n",
       "                                                                                      0.0005              9.0  \n",
       "                                                          (128, 128)     0.1          0.0001             14.0  \n",
       "                                                                                      0.0003             13.0  \n",
       "                                                                                      0.0005             12.0  \n",
       "                                                          (512, 512)     0.1          0.0001             17.0  \n",
       "                                                                                      0.0003             16.0  \n",
       "                                                                                      0.0005             15.0  \n",
       "           12              3         10        1          (32, 32)       0.1          0.0001              2.0  \n",
       "                                                                                      0.0003              1.0  \n",
       "                                                                                      0.0005              0.0  \n",
       "                                                          (128, 128)     0.1          0.0001              5.0  \n",
       "                                                                                      0.0003              4.0  \n",
       "                                                                                      0.0005              3.0  \n",
       "                                                          (512, 512)     0.1          0.0001              8.0  \n",
       "                                                                                      0.0003              7.0  \n",
       "                                                                                      0.0005              6.0  \n",
       "\n",
       "[18 rows x 25 columns]"
      ]
     },
     "execution_count": 12,
     "metadata": {},
     "output_type": "execute_result"
    }
   ],
   "source": [
    "seqsignet_attention_encoder_umap_11.groupby(\n",
    "    [\n",
    "        \"dimensions\",\n",
    "        \"output_channels\",\n",
    "        \"sig_depth\",\n",
    "        \"num_heads\",\n",
    "        \"num_layers\",\n",
    "        \"ffn_hidden_dim\",\n",
    "        \"dropout_rate\",\n",
    "        \"learning_rate\",\n",
    "    ]\n",
    ").mean()"
   ]
  },
  {
   "cell_type": "code",
   "execution_count": 13,
   "id": "603dee18",
   "metadata": {},
   "outputs": [
    {
     "data": {
      "text/html": [
       "<div>\n",
       "<style scoped>\n",
       "    .dataframe tbody tr th:only-of-type {\n",
       "        vertical-align: middle;\n",
       "    }\n",
       "\n",
       "    .dataframe tbody tr th {\n",
       "        vertical-align: top;\n",
       "    }\n",
       "\n",
       "    .dataframe thead th {\n",
       "        text-align: right;\n",
       "    }\n",
       "</style>\n",
       "<table border=\"1\" class=\"dataframe\">\n",
       "  <thead>\n",
       "    <tr style=\"text-align: right;\">\n",
       "      <th></th>\n",
       "      <th>loss</th>\n",
       "      <th>accuracy</th>\n",
       "      <th>f1</th>\n",
       "      <th>f1_scores</th>\n",
       "      <th>precision</th>\n",
       "      <th>precision_scores</th>\n",
       "      <th>recall</th>\n",
       "      <th>recall_scores</th>\n",
       "      <th>valid_loss</th>\n",
       "      <th>valid_accuracy</th>\n",
       "      <th>...</th>\n",
       "      <th>learning_rate</th>\n",
       "      <th>seed</th>\n",
       "      <th>loss_function</th>\n",
       "      <th>gamma</th>\n",
       "      <th>k_fold</th>\n",
       "      <th>n_splits</th>\n",
       "      <th>augmentation_type</th>\n",
       "      <th>hidden_dim_aug</th>\n",
       "      <th>comb_method</th>\n",
       "      <th>batch_size</th>\n",
       "    </tr>\n",
       "  </thead>\n",
       "  <tbody>\n",
       "    <tr>\n",
       "      <th>0</th>\n",
       "      <td>None</td>\n",
       "      <td>0.662815</td>\n",
       "      <td>0.648297</td>\n",
       "      <td>[0.7197521301316809, 0.5768421052631579]</td>\n",
       "      <td>0.648562</td>\n",
       "      <td>[0.7829457364341085, 0.5141784820683903]</td>\n",
       "      <td>0.661449</td>\n",
       "      <td>[0.6659977064220184, 0.6568993074054342]</td>\n",
       "      <td>None</td>\n",
       "      <td>0.747136</td>\n",
       "      <td>...</td>\n",
       "      <td>0.0001</td>\n",
       "      <td>1</td>\n",
       "      <td>focal</td>\n",
       "      <td>2</td>\n",
       "      <td>True</td>\n",
       "      <td>5</td>\n",
       "      <td>Conv1d</td>\n",
       "      <td>None</td>\n",
       "      <td>concatenation</td>\n",
       "      <td>64</td>\n",
       "    </tr>\n",
       "    <tr>\n",
       "      <th>0</th>\n",
       "      <td>None</td>\n",
       "      <td>0.699907</td>\n",
       "      <td>0.681218</td>\n",
       "      <td>[0.7584033613445377, 0.604033448106247]</td>\n",
       "      <td>0.678321</td>\n",
       "      <td>[0.7956549118387909, 0.5609867519415258]</td>\n",
       "      <td>0.689360</td>\n",
       "      <td>[0.7244839449541285, 0.6542354821523708]</td>\n",
       "      <td>None</td>\n",
       "      <td>0.734196</td>\n",
       "      <td>...</td>\n",
       "      <td>0.0001</td>\n",
       "      <td>12</td>\n",
       "      <td>focal</td>\n",
       "      <td>2</td>\n",
       "      <td>True</td>\n",
       "      <td>5</td>\n",
       "      <td>Conv1d</td>\n",
       "      <td>None</td>\n",
       "      <td>concatenation</td>\n",
       "      <td>64</td>\n",
       "    </tr>\n",
       "    <tr>\n",
       "      <th>0</th>\n",
       "      <td>None</td>\n",
       "      <td>0.680149</td>\n",
       "      <td>0.658494</td>\n",
       "      <td>[0.7444907683144729, 0.5724962630792227]</td>\n",
       "      <td>0.656071</td>\n",
       "      <td>[0.7744733581164808, 0.5376696303228825]</td>\n",
       "      <td>0.664445</td>\n",
       "      <td>[0.716743119266055, 0.6121470431539691]</td>\n",
       "      <td>None</td>\n",
       "      <td>0.724222</td>\n",
       "      <td>...</td>\n",
       "      <td>0.0001</td>\n",
       "      <td>123</td>\n",
       "      <td>focal</td>\n",
       "      <td>2</td>\n",
       "      <td>True</td>\n",
       "      <td>5</td>\n",
       "      <td>Conv1d</td>\n",
       "      <td>None</td>\n",
       "      <td>concatenation</td>\n",
       "      <td>64</td>\n",
       "    </tr>\n",
       "  </tbody>\n",
       "</table>\n",
       "<p>3 rows × 48 columns</p>\n",
       "</div>"
      ],
      "text/plain": [
       "   loss  accuracy        f1                                 f1_scores  \\\n",
       "0  None  0.662815  0.648297  [0.7197521301316809, 0.5768421052631579]   \n",
       "0  None  0.699907  0.681218   [0.7584033613445377, 0.604033448106247]   \n",
       "0  None  0.680149  0.658494  [0.7444907683144729, 0.5724962630792227]   \n",
       "\n",
       "   precision                          precision_scores    recall  \\\n",
       "0   0.648562  [0.7829457364341085, 0.5141784820683903]  0.661449   \n",
       "0   0.678321  [0.7956549118387909, 0.5609867519415258]  0.689360   \n",
       "0   0.656071  [0.7744733581164808, 0.5376696303228825]  0.664445   \n",
       "\n",
       "                              recall_scores valid_loss  valid_accuracy  ...  \\\n",
       "0  [0.6659977064220184, 0.6568993074054342]       None        0.747136  ...   \n",
       "0  [0.7244839449541285, 0.6542354821523708]       None        0.734196  ...   \n",
       "0   [0.716743119266055, 0.6121470431539691]       None        0.724222  ...   \n",
       "\n",
       "   learning_rate seed  loss_function gamma  k_fold n_splits  \\\n",
       "0         0.0001    1          focal     2    True        5   \n",
       "0         0.0001   12          focal     2    True        5   \n",
       "0         0.0001  123          focal     2    True        5   \n",
       "\n",
       "   augmentation_type  hidden_dim_aug    comb_method  batch_size  \n",
       "0             Conv1d            None  concatenation          64  \n",
       "0             Conv1d            None  concatenation          64  \n",
       "0             Conv1d            None  concatenation          64  \n",
       "\n",
       "[3 rows x 48 columns]"
      ]
     },
     "execution_count": 13,
     "metadata": {},
     "output_type": "execute_result"
    }
   ],
   "source": [
    "best_seqsignet_attention_encoder_umap_11"
   ]
  },
  {
   "cell_type": "code",
   "execution_count": 14,
   "id": "e706aad7-e55f-4402-9df8-4e2cb0a0eb82",
   "metadata": {},
   "outputs": [
    {
     "data": {
      "text/html": [
       "<div>\n",
       "<style scoped>\n",
       "    .dataframe tbody tr th:only-of-type {\n",
       "        vertical-align: middle;\n",
       "    }\n",
       "\n",
       "    .dataframe tbody tr th {\n",
       "        vertical-align: top;\n",
       "    }\n",
       "\n",
       "    .dataframe thead th {\n",
       "        text-align: right;\n",
       "    }\n",
       "</style>\n",
       "<table border=\"1\" class=\"dataframe\">\n",
       "  <thead>\n",
       "    <tr style=\"text-align: right;\">\n",
       "      <th></th>\n",
       "      <th>dimensions</th>\n",
       "      <th>output_channels</th>\n",
       "      <th>sig_depth</th>\n",
       "      <th>num_heads</th>\n",
       "      <th>num_layers</th>\n",
       "      <th>ffn_hidden_dim</th>\n",
       "      <th>dropout_rate</th>\n",
       "      <th>learning_rate</th>\n",
       "    </tr>\n",
       "  </thead>\n",
       "  <tbody>\n",
       "    <tr>\n",
       "      <th>0</th>\n",
       "      <td>15</td>\n",
       "      <td>12</td>\n",
       "      <td>3</td>\n",
       "      <td>10</td>\n",
       "      <td>1</td>\n",
       "      <td>(512, 512)</td>\n",
       "      <td>0.1</td>\n",
       "      <td>0.0001</td>\n",
       "    </tr>\n",
       "    <tr>\n",
       "      <th>0</th>\n",
       "      <td>15</td>\n",
       "      <td>12</td>\n",
       "      <td>3</td>\n",
       "      <td>10</td>\n",
       "      <td>1</td>\n",
       "      <td>(512, 512)</td>\n",
       "      <td>0.1</td>\n",
       "      <td>0.0001</td>\n",
       "    </tr>\n",
       "    <tr>\n",
       "      <th>0</th>\n",
       "      <td>15</td>\n",
       "      <td>12</td>\n",
       "      <td>3</td>\n",
       "      <td>10</td>\n",
       "      <td>1</td>\n",
       "      <td>(512, 512)</td>\n",
       "      <td>0.1</td>\n",
       "      <td>0.0001</td>\n",
       "    </tr>\n",
       "  </tbody>\n",
       "</table>\n",
       "</div>"
      ],
      "text/plain": [
       "   dimensions  output_channels  sig_depth  num_heads  num_layers  \\\n",
       "0          15               12          3         10           1   \n",
       "0          15               12          3         10           1   \n",
       "0          15               12          3         10           1   \n",
       "\n",
       "  ffn_hidden_dim  dropout_rate  learning_rate  \n",
       "0     (512, 512)           0.1         0.0001  \n",
       "0     (512, 512)           0.1         0.0001  \n",
       "0     (512, 512)           0.1         0.0001  "
      ]
     },
     "execution_count": 14,
     "metadata": {},
     "output_type": "execute_result"
    }
   ],
   "source": [
    "best_seqsignet_attention_encoder_umap_11[\n",
    "    [\n",
    "        \"dimensions\",\n",
    "        \"output_channels\",\n",
    "        \"sig_depth\",\n",
    "        \"num_heads\",\n",
    "        \"num_layers\",\n",
    "        \"ffn_hidden_dim\",\n",
    "        \"dropout_rate\",\n",
    "        \"learning_rate\",\n",
    "    ]\n",
    "]"
   ]
  },
  {
   "cell_type": "markdown",
   "id": "e1a48dc5-3c59-4dfb-a023-d99d052c5024",
   "metadata": {},
   "source": [
    "in path: 0.658\n",
    "\n",
    "in input: 0.6430702845314854\n",
    "\n",
    "both: 0.6596275491973381"
   ]
  },
  {
   "cell_type": "code",
   "execution_count": 15,
   "id": "e9d503c3",
   "metadata": {},
   "outputs": [
    {
     "data": {
      "text/plain": [
       "0.66266967937322"
      ]
     },
     "execution_count": 15,
     "metadata": {},
     "output_type": "execute_result"
    }
   ],
   "source": [
    "best_seqsignet_attention_encoder_umap_11[\"f1\"].mean()"
   ]
  },
  {
   "cell_type": "code",
   "execution_count": 16,
   "id": "f3079077",
   "metadata": {},
   "outputs": [
    {
     "data": {
      "text/plain": [
       "0.6609848117870298"
      ]
     },
     "execution_count": 16,
     "metadata": {},
     "output_type": "execute_result"
    }
   ],
   "source": [
    "best_seqsignet_attention_encoder_umap_11[\"precision\"].mean()"
   ]
  },
  {
   "cell_type": "code",
   "execution_count": 17,
   "id": "eb2894ed",
   "metadata": {},
   "outputs": [
    {
     "data": {
      "text/plain": [
       "0.6717511005589959"
      ]
     },
     "execution_count": 17,
     "metadata": {},
     "output_type": "execute_result"
    }
   ],
   "source": [
    "best_seqsignet_attention_encoder_umap_11[\"recall\"].mean()"
   ]
  },
  {
   "cell_type": "code",
   "execution_count": 18,
   "id": "a3e8bbc5",
   "metadata": {},
   "outputs": [
    {
     "data": {
      "text/plain": [
       "array([0.74088209, 0.58445727])"
      ]
     },
     "execution_count": 18,
     "metadata": {},
     "output_type": "execute_result"
    }
   ],
   "source": [
    "np.stack(best_seqsignet_attention_encoder_umap_11[\"f1_scores\"]).mean(axis=0)"
   ]
  },
  {
   "cell_type": "code",
   "execution_count": 19,
   "id": "4601b7f2",
   "metadata": {},
   "outputs": [
    {
     "data": {
      "text/plain": [
       "array([0.784358  , 0.53761162])"
      ]
     },
     "execution_count": 19,
     "metadata": {},
     "output_type": "execute_result"
    }
   ],
   "source": [
    "np.stack(best_seqsignet_attention_encoder_umap_11[\"precision_scores\"]).mean(axis=0)"
   ]
  },
  {
   "cell_type": "code",
   "execution_count": 20,
   "id": "a3201dd5",
   "metadata": {},
   "outputs": [
    {
     "data": {
      "text/plain": [
       "array([0.70240826, 0.64109394])"
      ]
     },
     "execution_count": 20,
     "metadata": {},
     "output_type": "execute_result"
    }
   ],
   "source": [
    "np.stack(best_seqsignet_attention_encoder_umap_11[\"recall_scores\"]).mean(axis=0)"
   ]
  },
  {
   "cell_type": "markdown",
   "id": "c81803c8-98e4-4c83-bd10-20aa615443d4",
   "metadata": {
    "tags": []
   },
   "source": [
    "# history_length=20"
   ]
  },
  {
   "cell_type": "code",
   "execution_count": 21,
   "id": "965d96c4-206b-4842-b54e-164ab1e62ba0",
   "metadata": {},
   "outputs": [],
   "source": [
    "shift = 3\n",
    "window_size = 5\n",
    "n = 6"
   ]
  },
  {
   "cell_type": "markdown",
   "id": "dbd41486-2ef0-4663-9eb9-fae32edab339",
   "metadata": {},
   "source": [
    "## Random Projections"
   ]
  },
  {
   "cell_type": "code",
   "execution_count": null,
   "id": "a632f791-38ff-49f2-bce1-1b3453d67c15",
   "metadata": {},
   "outputs": [
    {
     "data": {
      "application/vnd.jupyter.widget-view+json": {
       "model_id": "b430707d76bc44789b5a229dbdf8a21a",
       "version_major": 2,
       "version_minor": 0
      },
      "text/plain": [
       "  0%|          | 0/1 [00:00<?, ?it/s]"
      ]
     },
     "metadata": {},
     "output_type": "display_data"
    },
    {
     "data": {
      "application/vnd.jupyter.widget-view+json": {
       "model_id": "23580b2cf89c403793916ca9f54448f4",
       "version_major": 2,
       "version_minor": 0
      },
      "text/plain": [
       "  0%|          | 0/1 [00:00<?, ?it/s]"
      ]
     },
     "metadata": {},
     "output_type": "display_data"
    },
    {
     "name": "stdout",
     "output_type": "stream",
     "text": [
      "\n",
      "##################################################\n",
      "dimension: 15 | method: umap\n",
      "given shift 3, window size 5 and n 6: history length = 20\n",
      "[INFO] Concatenating the embeddings to the dataframe...\n",
      "[INFO] - columns beginning with 'e' denote the full embddings.\n",
      "[INFO] - columns beginning with 'd' denote the dimension reduced embeddings.\n",
      "[INFO] Adding time feature columns into dataframe in `.df`.\n",
      "[INFO] Adding 'time_encoding' feature...\n",
      "[INFO] Adding 'time_diff' feature...\n",
      "[INFO] Adding 'timeline_index' feature...\n",
      "[INFO] Padding ids and storing in `.df_padded` and `.array_padded` attributes.\n"
     ]
    },
    {
     "data": {
      "application/vnd.jupyter.widget-view+json": {
       "model_id": "8685b2a077a840219ee77ba732b870c8",
       "version_major": 2,
       "version_minor": 0
      },
      "text/plain": [
       "  0%|          | 0/5568 [00:00<?, ?it/s]"
      ]
     },
     "metadata": {},
     "output_type": "display_data"
    },
    {
     "name": "stdout",
     "output_type": "stream",
     "text": [
      "[INFO] The path was created for each item in the dataframe, by looking at its history, so to include embeddings in the FFN input, we concatenate the embeddings for each sentence / text.\n"
     ]
    },
    {
     "data": {
      "application/vnd.jupyter.widget-view+json": {
       "model_id": "923aa3fd91914c538689a47add7062f4",
       "version_major": 2,
       "version_minor": 0
      },
      "text/plain": [
       "  0%|          | 0/2 [00:00<?, ?it/s]"
      ]
     },
     "metadata": {},
     "output_type": "display_data"
    },
    {
     "data": {
      "application/vnd.jupyter.widget-view+json": {
       "model_id": "c62ece5516d34c0aadf0293da60fe52c",
       "version_major": 2,
       "version_minor": 0
      },
      "text/plain": [
       "  0%|          | 0/1 [00:00<?, ?it/s]"
      ]
     },
     "metadata": {},
     "output_type": "display_data"
    },
    {
     "data": {
      "application/vnd.jupyter.widget-view+json": {
       "model_id": "d798013ec3d846ff8d5a634e87d1aada",
       "version_major": 2,
       "version_minor": 0
      },
      "text/plain": [
       "  0%|          | 0/3 [00:00<?, ?it/s]"
      ]
     },
     "metadata": {},
     "output_type": "display_data"
    },
    {
     "data": {
      "application/vnd.jupyter.widget-view+json": {
       "model_id": "a2bcdfa6ab544fa481613a5d63408396",
       "version_major": 2,
       "version_minor": 0
      },
      "text/plain": [
       "  0%|          | 0/1 [00:00<?, ?it/s]"
      ]
     },
     "metadata": {},
     "output_type": "display_data"
    },
    {
     "data": {
      "application/vnd.jupyter.widget-view+json": {
       "model_id": "5e8ecee955c64eaaa1720e49edc23e12",
       "version_major": 2,
       "version_minor": 0
      },
      "text/plain": [
       "  0%|          | 0/3 [00:00<?, ?it/s]"
      ]
     },
     "metadata": {},
     "output_type": "display_data"
    },
    {
     "data": {
      "application/vnd.jupyter.widget-view+json": {
       "model_id": "0df5a30c073a4cde9bb83deaddc6bf13",
       "version_major": 2,
       "version_minor": 0
      },
      "text/plain": [
       "  0%|          | 0/1 [00:00<?, ?it/s]"
      ]
     },
     "metadata": {},
     "output_type": "display_data"
    },
    {
     "data": {
      "application/vnd.jupyter.widget-view+json": {
       "model_id": "d840a82fe71f49838f29805e7aaff8c6",
       "version_major": 2,
       "version_minor": 0
      },
      "text/plain": [
       "  0%|          | 0/3 [00:00<?, ?it/s]"
      ]
     },
     "metadata": {},
     "output_type": "display_data"
    },
    {
     "data": {
      "application/vnd.jupyter.widget-view+json": {
       "model_id": "c78f6eb6e4d54d7480948cbd82dd3105",
       "version_major": 2,
       "version_minor": 0
      },
      "text/plain": [
       "  0%|          | 0/1 [00:00<?, ?it/s]"
      ]
     },
     "metadata": {},
     "output_type": "display_data"
    },
    {
     "data": {
      "application/vnd.jupyter.widget-view+json": {
       "model_id": "590ba839f2cf4b9ea8eae7b09da24ba4",
       "version_major": 2,
       "version_minor": 0
      },
      "text/plain": [
       "  0%|          | 0/3 [00:00<?, ?it/s]"
      ]
     },
     "metadata": {},
     "output_type": "display_data"
    }
   ],
   "source": [
    "(\n",
    "    seqsignet_attention_encoder_umap_20,\n",
    "    best_seqsignet_attention_encoder_umap_20,\n",
    "    _,\n",
    "    __,\n",
    ") = seqsignet_attention_encoder_hyperparameter_search(\n",
    "    shift=shift,\n",
    "    window_size=window_size,\n",
    "    n=n,\n",
    "    dim_reduce_methods=[\"umap\"],\n",
    "    results_output=f\"{output_dir}/seqsignet_attention_encoder_umap_focal_{gamma}_{shift}_{window_size}_{n}_kfold.csv\",\n",
    "    **kwargs,\n",
    ")"
   ]
  },
  {
   "cell_type": "code",
   "execution_count": null,
   "id": "d1d73e6e-2903-454f-ad50-1be853de1898",
   "metadata": {},
   "outputs": [],
   "source": [
    "seqsignet_attention_encoder_umap_20.groupby(\n",
    "    [\n",
    "        \"dimensions\",\n",
    "        \"output_channels\",\n",
    "        \"sig_depth\",\n",
    "        \"num_heads\",\n",
    "        \"num_layers\",\n",
    "        \"ffn_hidden_dim\",\n",
    "        \"dropout_rate\",\n",
    "        \"learning_rate\",\n",
    "    ]\n",
    ").mean()"
   ]
  },
  {
   "cell_type": "code",
   "execution_count": null,
   "id": "005101e0-df1f-4f29-82ba-4b18e04169a0",
   "metadata": {},
   "outputs": [],
   "source": [
    "best_seqsignet_attention_encoder_umap_20"
   ]
  },
  {
   "cell_type": "code",
   "execution_count": null,
   "id": "479f5418-79e4-4c42-a72a-67253f34ef88",
   "metadata": {},
   "outputs": [],
   "source": [
    "best_seqsignet_attention_encoder_umap_20[\n",
    "    [\n",
    "        \"dimensions\",\n",
    "        \"output_channels\",\n",
    "        \"sig_depth\",\n",
    "        \"num_heads\",\n",
    "        \"num_layers\",\n",
    "        \"ffn_hidden_dim\",\n",
    "        \"dropout_rate\",\n",
    "        \"learning_rate\",\n",
    "    ]\n",
    "]"
   ]
  },
  {
   "cell_type": "code",
   "execution_count": null,
   "id": "05e0364c-531c-4548-b706-301d852e11ca",
   "metadata": {},
   "outputs": [],
   "source": [
    "best_seqsignet_attention_encoder_umap_20[\"f1\"].mean()"
   ]
  },
  {
   "cell_type": "code",
   "execution_count": null,
   "id": "5b5062e0-1005-456f-a78d-49a2d9c6dc60",
   "metadata": {},
   "outputs": [],
   "source": [
    "best_seqsignet_attention_encoder_umap_20[\"precision\"].mean()"
   ]
  },
  {
   "cell_type": "code",
   "execution_count": null,
   "id": "1e4f9590-2916-4b2d-966f-e224cbc7175e",
   "metadata": {},
   "outputs": [],
   "source": [
    "best_seqsignet_attention_encoder_umap_20[\"recall\"].mean()"
   ]
  },
  {
   "cell_type": "code",
   "execution_count": null,
   "id": "e2eec31c-c0b5-4a51-9277-973de3223f1c",
   "metadata": {},
   "outputs": [],
   "source": [
    "np.stack(best_seqsignet_attention_encoder_umap_20[\"f1_scores\"]).mean(axis=0)"
   ]
  },
  {
   "cell_type": "code",
   "execution_count": null,
   "id": "fe7f5668-f54b-49ee-836d-2c016de127f1",
   "metadata": {},
   "outputs": [],
   "source": [
    "np.stack(best_seqsignet_attention_encoder_umap_20[\"precision_scores\"]).mean(axis=0)"
   ]
  },
  {
   "cell_type": "code",
   "execution_count": null,
   "id": "b94b26ce-ff9b-4215-afc4-72b656a31eea",
   "metadata": {},
   "outputs": [],
   "source": [
    "np.stack(best_seqsignet_attention_encoder_umap_20[\"recall_scores\"]).mean(axis=0)"
   ]
  },
  {
   "cell_type": "markdown",
   "id": "e7ef749b-d4b3-4ade-9e94-0235d7580cfd",
   "metadata": {
    "tags": []
   },
   "source": [
    "# history_length=35"
   ]
  },
  {
   "cell_type": "code",
   "execution_count": null,
   "id": "8d5cfef8-0d7b-4324-8cd7-29bb95e3c77a",
   "metadata": {},
   "outputs": [],
   "source": [
    "shift = 3\n",
    "window_size = 5\n",
    "n = 11"
   ]
  },
  {
   "cell_type": "markdown",
   "id": "c6d834fa-f3c7-4c78-9ce4-717f573e0af4",
   "metadata": {},
   "source": [
    "## Random Projections"
   ]
  },
  {
   "cell_type": "code",
   "execution_count": null,
   "id": "63265bf4-3fde-4328-b234-1b955dc0b2fb",
   "metadata": {},
   "outputs": [],
   "source": [
    "(\n",
    "    seqsignet_attention_encoder_umap_35,\n",
    "    best_seqsignet_attention_encoder_umap_35,\n",
    "    _,\n",
    "    __,\n",
    ") = seqsignet_attention_encoder_hyperparameter_search(\n",
    "    shift=shift,\n",
    "    window_size=window_size,\n",
    "    n=n,\n",
    "    dim_reduce_methods=[\"umap\"],\n",
    "    results_output=f\"{output_dir}/seqsignet_attention_encoder_umap_focal_{gamma}_{shift}_{window_size}_{n}_kfold.csv\",\n",
    "    **kwargs,\n",
    ")"
   ]
  },
  {
   "cell_type": "code",
   "execution_count": null,
   "id": "6359db47-ec12-4a44-9566-2b1dbefbe0f2",
   "metadata": {},
   "outputs": [],
   "source": [
    "seqsignet_attention_encoder_umap_35.groupby(\n",
    "    [\n",
    "        \"dimensions\",\n",
    "        \"output_channels\",\n",
    "        \"sig_depth\",\n",
    "        \"num_heads\",\n",
    "        \"num_layers\",\n",
    "        \"ffn_hidden_dim\",\n",
    "        \"dropout_rate\",\n",
    "        \"learning_rate\",\n",
    "    ]\n",
    ").mean()"
   ]
  },
  {
   "cell_type": "code",
   "execution_count": null,
   "id": "080d2396-26c9-4de8-b527-01d065cb37ff",
   "metadata": {},
   "outputs": [],
   "source": [
    "best_seqsignet_attention_encoder_umap_35"
   ]
  },
  {
   "cell_type": "code",
   "execution_count": null,
   "id": "dc373678-f928-445c-b257-d23883eb1be6",
   "metadata": {},
   "outputs": [],
   "source": [
    "best_seqsignet_attention_encoder_umap_35[\n",
    "    [\n",
    "        \"dimensions\",\n",
    "        \"output_channels\",\n",
    "        \"sig_depth\",\n",
    "        \"num_heads\",\n",
    "        \"num_layers\",\n",
    "        \"ffn_hidden_dim\",\n",
    "        \"dropout_rate\",\n",
    "        \"learning_rate\",\n",
    "    ]\n",
    "]"
   ]
  },
  {
   "cell_type": "code",
   "execution_count": null,
   "id": "efb8e85b-e9f7-4640-a709-afc118c14e98",
   "metadata": {},
   "outputs": [],
   "source": [
    "best_seqsignet_attention_encoder_umap_35[\"f1\"].mean()"
   ]
  },
  {
   "cell_type": "code",
   "execution_count": null,
   "id": "cacb1afc-22e1-4b2e-a209-d2e76954f0d9",
   "metadata": {},
   "outputs": [],
   "source": [
    "best_seqsignet_attention_encoder_umap_35[\"precision\"].mean()"
   ]
  },
  {
   "cell_type": "code",
   "execution_count": null,
   "id": "7df27a7e-285f-4a53-ac59-74def9f4e49f",
   "metadata": {},
   "outputs": [],
   "source": [
    "best_seqsignet_attention_encoder_umap_35[\"recall\"].mean()"
   ]
  },
  {
   "cell_type": "code",
   "execution_count": null,
   "id": "ebdf81d9-3301-4f3b-aa88-5c09d4b2490b",
   "metadata": {},
   "outputs": [],
   "source": [
    "np.stack(best_seqsignet_attention_encoder_umap_35[\"f1_scores\"]).mean(axis=0)"
   ]
  },
  {
   "cell_type": "code",
   "execution_count": null,
   "id": "9b22b04c-ccd0-4fb7-9da4-bd3131ace666",
   "metadata": {},
   "outputs": [],
   "source": [
    "np.stack(best_seqsignet_attention_encoder_umap_35[\"precision_scores\"]).mean(axis=0)"
   ]
  },
  {
   "cell_type": "code",
   "execution_count": null,
   "id": "eca96477-2f59-40eb-8732-8ad023be37f1",
   "metadata": {},
   "outputs": [],
   "source": [
    "np.stack(best_seqsignet_attention_encoder_umap_35[\"recall_scores\"]).mean(axis=0)"
   ]
  },
  {
   "cell_type": "markdown",
   "id": "e224d684-9ff0-459a-ba03-8e8853fb50de",
   "metadata": {
    "tags": []
   },
   "source": [
    "# history_length=80"
   ]
  },
  {
   "cell_type": "code",
   "execution_count": null,
   "id": "f7802347-e3fd-4898-8a6c-ccbbe6120dfe",
   "metadata": {},
   "outputs": [],
   "source": [
    "shift = 3\n",
    "window_size = 5\n",
    "n = 26"
   ]
  },
  {
   "cell_type": "markdown",
   "id": "f48541cb-6ef2-47da-95ac-1156ca2b2195",
   "metadata": {},
   "source": [
    "## UMAP"
   ]
  },
  {
   "cell_type": "markdown",
   "id": "aebd5695-92e3-4190-a534-e63ecef6dfdf",
   "metadata": {},
   "source": [
    "## Random Projections"
   ]
  },
  {
   "cell_type": "code",
   "execution_count": null,
   "id": "4e98bb45-e549-47d5-86b1-c172f37927a3",
   "metadata": {},
   "outputs": [],
   "source": [
    "(\n",
    "    seqsignet_attention_encoder_umap_80,\n",
    "    best_seqsignet_attention_encoder_umap_80,\n",
    "    _,\n",
    "    __,\n",
    ") = seqsignet_attention_encoder_hyperparameter_search(\n",
    "    shift=shift,\n",
    "    window_size=window_size,\n",
    "    n=n,\n",
    "    dim_reduce_methods=[\"umap\"],\n",
    "    results_output=f\"{output_dir}/seqsignet_attention_encoder_umap_focal_{gamma}_{shift}_{window_size}_{n}_kfold.csv\",\n",
    "    **kwargs,\n",
    ")"
   ]
  },
  {
   "cell_type": "code",
   "execution_count": null,
   "id": "7a0108b3-42a8-4d43-bfb7-b7ee494cdecb",
   "metadata": {},
   "outputs": [],
   "source": [
    "seqsignet_attention_encoder_umap_80.groupby(\n",
    "    [\n",
    "        \"dimensions\",\n",
    "        \"output_channels\",\n",
    "        \"sig_depth\",\n",
    "        \"num_heads\",\n",
    "        \"num_layers\",\n",
    "        \"ffn_hidden_dim\",\n",
    "        \"dropout_rate\",\n",
    "        \"learning_rate\",\n",
    "    ]\n",
    ").mean()"
   ]
  },
  {
   "cell_type": "code",
   "execution_count": null,
   "id": "c06eeff4-d239-4e57-a982-afebea14314e",
   "metadata": {},
   "outputs": [],
   "source": [
    "best_seqsignet_attention_encoder_umap_80"
   ]
  },
  {
   "cell_type": "code",
   "execution_count": null,
   "id": "37ed0e9c-fe51-4700-8e85-716a79c1c636",
   "metadata": {},
   "outputs": [],
   "source": [
    "best_seqsignet_attention_encoder_umap_80[\n",
    "    [\n",
    "        \"dimensions\",\n",
    "        \"output_channels\",\n",
    "        \"sig_depth\",\n",
    "        \"num_heads\",\n",
    "        \"num_layers\",\n",
    "        \"ffn_hidden_dim\",\n",
    "        \"dropout_rate\",\n",
    "        \"learning_rate\",\n",
    "    ]\n",
    "]"
   ]
  },
  {
   "cell_type": "code",
   "execution_count": null,
   "id": "cd7097c2-68fe-40f4-9b91-852eb4bc8a83",
   "metadata": {},
   "outputs": [],
   "source": [
    "best_seqsignet_attention_encoder_umap_80[\"f1\"].mean()"
   ]
  },
  {
   "cell_type": "code",
   "execution_count": null,
   "id": "eb95f40f-9543-4655-ba3b-f8e4ce921a60",
   "metadata": {},
   "outputs": [],
   "source": [
    "best_seqsignet_attention_encoder_umap_80[\"precision\"].mean()"
   ]
  },
  {
   "cell_type": "code",
   "execution_count": null,
   "id": "807e9a8c-8156-4650-89ed-21138c37f414",
   "metadata": {},
   "outputs": [],
   "source": [
    "best_seqsignet_attention_encoder_umap_80[\"recall\"].mean()"
   ]
  },
  {
   "cell_type": "code",
   "execution_count": null,
   "id": "aef44d1b-e95b-4dea-97d6-f6ee5c0e9a37",
   "metadata": {},
   "outputs": [],
   "source": [
    "np.stack(best_seqsignet_attention_encoder_umap_80[\"f1_scores\"]).mean(axis=0)"
   ]
  },
  {
   "cell_type": "code",
   "execution_count": null,
   "id": "d0e0195e-90b6-4318-a879-78f420ca2a54",
   "metadata": {},
   "outputs": [],
   "source": [
    "np.stack(best_seqsignet_attention_encoder_umap_80[\"precision_scores\"]).mean(axis=0)"
   ]
  },
  {
   "cell_type": "code",
   "execution_count": null,
   "id": "d2594667-041e-4961-a2b8-96fb0d205b95",
   "metadata": {},
   "outputs": [],
   "source": [
    "np.stack(best_seqsignet_attention_encoder_umap_80[\"recall_scores\"]).mean(axis=0)"
   ]
  }
 ],
 "metadata": {
  "kernelspec": {
   "display_name": "nlpsig-networks (Conda)",
   "language": "python",
   "name": "sys_nlpsig-networks"
  },
  "language_info": {
   "codemirror_mode": {
    "name": "ipython",
    "version": 3
   },
   "file_extension": ".py",
   "mimetype": "text/x-python",
   "name": "python",
   "nbconvert_exporter": "python",
   "pygments_lexer": "ipython3",
   "version": "3.8.17"
  }
 },
 "nbformat": 4,
 "nbformat_minor": 5
}
