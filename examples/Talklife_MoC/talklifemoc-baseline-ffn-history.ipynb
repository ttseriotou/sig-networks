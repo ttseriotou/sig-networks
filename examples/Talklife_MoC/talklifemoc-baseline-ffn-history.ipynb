{
 "cells": [
  {
   "cell_type": "code",
   "execution_count": 1,
   "metadata": {},
   "outputs": [],
   "source": [
    "import pickle\n",
    "import numpy as np\n",
    "import pandas as pd\n",
    "import re\n",
    "import os\n",
    "\n",
    "seed = 2023"
   ]
  },
  {
   "cell_type": "code",
   "execution_count": 2,
   "metadata": {},
   "outputs": [],
   "source": [
    "import torch\n",
    "\n",
    "# set device\n",
    "device = torch.device(\"cuda\" if torch.cuda.is_available() else \"cpu\")\n",
    "device"
   ]
  },
  {
   "cell_type": "code",
   "execution_count": 3,
   "metadata": {},
   "outputs": [],
   "source": [
    "from nlpsig_networks.scripts.ffn_baseline_functions import (\n",
    "    histories_baseline_hyperparameter_search,\n",
    ")"
   ]
  },
  {
   "cell_type": "code",
   "execution_count": 4,
   "metadata": {},
   "outputs": [],
   "source": [
    "output_dir = \"talklife_moc_output\"\n",
    "if not os.path.isdir(output_dir):\n",
    "    os.makedirs(output_dir)"
   ]
  },
  {
   "cell_type": "markdown",
   "metadata": {},
   "source": [
    "Talklife MoC"
   ]
  },
  {
   "cell_type": "code",
   "execution_count": 5,
   "metadata": {},
   "outputs": [],
   "source": [
    "%run load_talklifemoc.py"
   ]
  },
  {
   "cell_type": "code",
   "execution_count": 6,
   "metadata": {},
   "outputs": [],
   "source": [
    "%run load_sbert-embeddings.py"
   ]
  },
  {
   "cell_type": "code",
   "execution_count": 7,
   "metadata": {},
   "outputs": [
    {
     "data": {
      "text/plain": [
       "torch.Size([18604, 384])"
      ]
     },
     "execution_count": 7,
     "metadata": {},
     "output_type": "execute_result"
    }
   ],
   "source": [
    "sbert_embeddings.shape"
   ]
  },
  {
   "cell_type": "markdown",
   "metadata": {},
   "source": [
    "Baseline: Averaging history and use FFN"
   ]
  },
  {
   "cell_type": "code",
   "execution_count": 8,
   "metadata": {},
   "outputs": [],
   "source": [
    "num_epochs = 100\n",
    "hidden_dim_sizes = [[64, 64], [128, 128], [256, 256], [512, 512]]\n",
    "dropout_rates = [0.1, 0.2]\n",
    "learning_rates = [1e-3, 1e-4, 5e-4]\n",
    "seeds = [1, 12, 123]\n",
    "loss = \"focal\"\n",
    "gamma = 2\n",
    "validation_metric = \"f1\"\n",
    "patience = 5"
   ]
  },
  {
   "cell_type": "code",
   "execution_count": 9,
   "metadata": {},
   "outputs": [],
   "source": [
    "# create indices for kfold\n",
    "fold_col_names = [c for c in df.columns if \"fold\" in c]\n",
    "fold_list = []\n",
    "for foldc in fold_col_names:\n",
    "    fold_list.append(\n",
    "        (\n",
    "            df[df[foldc] == \"train\"].index,\n",
    "            df[df[foldc] == \"dev\"].index,\n",
    "            df[df[foldc] == \"test\"].index,\n",
    "        )\n",
    "    )\n",
    "fold_list = tuple(fold_list)"
   ]
  },
  {
   "cell_type": "code",
   "execution_count": 11,
   "metadata": {},
   "outputs": [
    {
     "name": "stdout",
     "output_type": "stream",
     "text": [
      "[INFO] Concatenating the embeddings to the dataframe...\n",
      "[INFO] - columns beginning with 'e' denote the full embddings.\n",
      "[INFO] Adding time feature columns into dataframe in `.df`.\n",
      "[INFO] Adding 'time_encoding' feature...\n",
      "[INFO] Adding 'time_diff' feature...\n",
      "[INFO] Adding 'timeline_index' feature...\n",
      "Computing the mean history for each item in the dataframe\n"
     ]
    },
    {
     "data": {
      "application/vnd.jupyter.widget-view+json": {
       "model_id": "2f66a326ce7448f2b73a0c368636f1c6",
       "version_major": 2,
       "version_minor": 0
      },
      "text/plain": [
       "  0%|          | 0/18604 [00:00<?, ?it/s]"
      ]
     },
     "metadata": {},
     "output_type": "display_data"
    },
    {
     "data": {
      "application/vnd.jupyter.widget-view+json": {
       "model_id": "a0943a111a3e4b38974255e942cf3d7d",
       "version_major": 2,
       "version_minor": 0
      },
      "text/plain": [
       "  0%|          | 0/4 [00:00<?, ?it/s]"
      ]
     },
     "metadata": {},
     "output_type": "display_data"
    },
    {
     "data": {
      "application/vnd.jupyter.widget-view+json": {
       "model_id": "18b078499bf343a182bd657bfc4c5283",
       "version_major": 2,
       "version_minor": 0
      },
      "text/plain": [
       "  0%|          | 0/2 [00:00<?, ?it/s]"
      ]
     },
     "metadata": {},
     "output_type": "display_data"
    },
    {
     "data": {
      "application/vnd.jupyter.widget-view+json": {
       "model_id": "18091d0ab2744939acab7f81fd7185a8",
       "version_major": 2,
       "version_minor": 0
      },
      "text/plain": [
       "  0%|          | 0/3 [00:00<?, ?it/s]"
      ]
     },
     "metadata": {},
     "output_type": "display_data"
    },
    {
     "data": {
      "application/vnd.jupyter.widget-view+json": {
       "model_id": "580916986ad74229bac6fbbdfa029879",
       "version_major": 2,
       "version_minor": 0
      },
      "text/plain": [
       "  0%|          | 0/3 [00:00<?, ?it/s]"
      ]
     },
     "metadata": {},
     "output_type": "display_data"
    },
    {
     "data": {
      "application/vnd.jupyter.widget-view+json": {
       "model_id": "acacb5ce130f447dbe0549bd7010954e",
       "version_major": 2,
       "version_minor": 0
      },
      "text/plain": [
       "  0%|          | 0/2 [00:00<?, ?it/s]"
      ]
     },
     "metadata": {},
     "output_type": "display_data"
    },
    {
     "data": {
      "application/vnd.jupyter.widget-view+json": {
       "model_id": "cf865ec014704725969817b4085a4824",
       "version_major": 2,
       "version_minor": 0
      },
      "text/plain": [
       "  0%|          | 0/3 [00:00<?, ?it/s]"
      ]
     },
     "metadata": {},
     "output_type": "display_data"
    },
    {
     "data": {
      "application/vnd.jupyter.widget-view+json": {
       "model_id": "20b29387b85140bcb92e44f1cf609ba6",
       "version_major": 2,
       "version_minor": 0
      },
      "text/plain": [
       "  0%|          | 0/3 [00:00<?, ?it/s]"
      ]
     },
     "metadata": {},
     "output_type": "display_data"
    },
    {
     "data": {
      "application/vnd.jupyter.widget-view+json": {
       "model_id": "7b24ccdd49914e63936a93b8e98d255c",
       "version_major": 2,
       "version_minor": 0
      },
      "text/plain": [
       "  0%|          | 0/2 [00:00<?, ?it/s]"
      ]
     },
     "metadata": {},
     "output_type": "display_data"
    },
    {
     "data": {
      "application/vnd.jupyter.widget-view+json": {
       "model_id": "87cfe8d2e09e47ada474ccf6aad851f7",
       "version_major": 2,
       "version_minor": 0
      },
      "text/plain": [
       "  0%|          | 0/3 [00:00<?, ?it/s]"
      ]
     },
     "metadata": {},
     "output_type": "display_data"
    },
    {
     "data": {
      "application/vnd.jupyter.widget-view+json": {
       "model_id": "bbc9796636d64dd2abb21e0035563129",
       "version_major": 2,
       "version_minor": 0
      },
      "text/plain": [
       "  0%|          | 0/3 [00:00<?, ?it/s]"
      ]
     },
     "metadata": {},
     "output_type": "display_data"
    },
    {
     "data": {
      "application/vnd.jupyter.widget-view+json": {
       "model_id": "18bbd2421a6f4490b2bddf0e717e9541",
       "version_major": 2,
       "version_minor": 0
      },
      "text/plain": [
       "  0%|          | 0/2 [00:00<?, ?it/s]"
      ]
     },
     "metadata": {},
     "output_type": "display_data"
    },
    {
     "data": {
      "application/vnd.jupyter.widget-view+json": {
       "model_id": "da3583e238434ea1b73a67b2e21a1df7",
       "version_major": 2,
       "version_minor": 0
      },
      "text/plain": [
       "  0%|          | 0/3 [00:00<?, ?it/s]"
      ]
     },
     "metadata": {},
     "output_type": "display_data"
    },
    {
     "data": {
      "application/vnd.jupyter.widget-view+json": {
       "model_id": "a17a876efe8b4f679cbf569b789aebcc",
       "version_major": 2,
       "version_minor": 0
      },
      "text/plain": [
       "  0%|          | 0/3 [00:00<?, ?it/s]"
      ]
     },
     "metadata": {},
     "output_type": "display_data"
    },
    {
     "name": "stdout",
     "output_type": "stream",
     "text": [
      "[INFO] Concatenating the embeddings to the dataframe...\n",
      "[INFO] - columns beginning with 'e' denote the full embddings.\n",
      "[INFO] Adding time feature columns into dataframe in `.df`.\n",
      "[INFO] Adding 'time_encoding' feature...\n",
      "[INFO] Adding 'time_diff' feature...\n",
      "[INFO] Adding 'timeline_index' feature...\n",
      "Computing the mean history for each item in the dataframe\n"
     ]
    },
    {
     "data": {
      "application/vnd.jupyter.widget-view+json": {
       "model_id": "3786b5d5e4794ae5916ffb60a5ad9187",
       "version_major": 2,
       "version_minor": 0
      },
      "text/plain": [
       "  0%|          | 0/18604 [00:00<?, ?it/s]"
      ]
     },
     "metadata": {},
     "output_type": "display_data"
    },
    {
     "name": "stdout",
     "output_type": "stream",
     "text": [
      "saving results dataframe to CSV for this hyperparameter search in talklife_moc_output/ffn_mean_history_focal_2.csv\n",
      "saving the best model results dataframe to CSV for this hyperparameter search in talklife_moc_output/ffn_mean_history_focal_2_best_model.csv\n"
     ]
    }
   ],
   "source": [
    "(\n",
    "    ffn_mean_history,\n",
    "    best_ffn_mean_history,\n",
    "    _,\n",
    "    __,\n",
    ") = histories_baseline_hyperparameter_search(\n",
    "    num_epochs=num_epochs,\n",
    "    df=df,\n",
    "    id_column=\"timeline_id\",\n",
    "    label_column=\"label\",\n",
    "    embeddings=sbert_embeddings.numpy(),\n",
    "    y_data=y_data,\n",
    "    output_dim=output_dim,\n",
    "    hidden_dim_sizes=hidden_dim_sizes,\n",
    "    dropout_rates=dropout_rates,\n",
    "    learning_rates=learning_rates,\n",
    "    use_signatures=False,\n",
    "    seeds=seeds,\n",
    "    loss=loss,\n",
    "    gamma=gamma,\n",
    "    device=device,\n",
    "    split_ids=None,\n",
    "    split_indices=fold_list,\n",
    "    k_fold=True,\n",
    "    patience=patience,\n",
    "    validation_metric=validation_metric,\n",
    "    results_output=f\"{output_dir}/ffn_mean_history_focal_{gamma}.csv\",\n",
    "    verbose=False,\n",
    ")"
   ]
  },
  {
   "cell_type": "code",
   "execution_count": 12,
   "metadata": {},
   "outputs": [
    {
     "data": {
      "text/html": [
       "<div>\n",
       "<style scoped>\n",
       "    .dataframe tbody tr th:only-of-type {\n",
       "        vertical-align: middle;\n",
       "    }\n",
       "\n",
       "    .dataframe tbody tr th {\n",
       "        vertical-align: top;\n",
       "    }\n",
       "\n",
       "    .dataframe thead th {\n",
       "        text-align: right;\n",
       "    }\n",
       "</style>\n",
       "<table border=\"1\" class=\"dataframe\">\n",
       "  <thead>\n",
       "    <tr style=\"text-align: right;\">\n",
       "      <th></th>\n",
       "      <th>loss</th>\n",
       "      <th>accuracy</th>\n",
       "      <th>f1</th>\n",
       "      <th>f1_scores</th>\n",
       "      <th>precision</th>\n",
       "      <th>precision_scores</th>\n",
       "      <th>recall</th>\n",
       "      <th>recall_scores</th>\n",
       "      <th>valid_loss</th>\n",
       "      <th>valid_accuracy</th>\n",
       "      <th>...</th>\n",
       "      <th>dropout_rate</th>\n",
       "      <th>learning_rate</th>\n",
       "      <th>seed</th>\n",
       "      <th>loss_function</th>\n",
       "      <th>gamma</th>\n",
       "      <th>k_fold</th>\n",
       "      <th>n_splits</th>\n",
       "      <th>batch_size</th>\n",
       "      <th>model_id</th>\n",
       "      <th>input_dim</th>\n",
       "    </tr>\n",
       "  </thead>\n",
       "  <tbody>\n",
       "    <tr>\n",
       "      <th>0</th>\n",
       "      <td>None</td>\n",
       "      <td>0.797140</td>\n",
       "      <td>0.532641</td>\n",
       "      <td>[0.8804259601960975, 0.44210977701543736, 0.27...</td>\n",
       "      <td>0.522290</td>\n",
       "      <td>[0.8981254553884878, 0.38935045317220546, 0.27...</td>\n",
       "      <td>0.548771</td>\n",
       "      <td>[0.8634105960264901, 0.5114087301587301, 0.271...</td>\n",
       "      <td>None</td>\n",
       "      <td>0.792547</td>\n",
       "      <td>...</td>\n",
       "      <td>0.1</td>\n",
       "      <td>0.0010</td>\n",
       "      <td>1</td>\n",
       "      <td>focal</td>\n",
       "      <td>2</td>\n",
       "      <td>True</td>\n",
       "      <td>5</td>\n",
       "      <td>64</td>\n",
       "      <td>0.00</td>\n",
       "      <td>768</td>\n",
       "    </tr>\n",
       "    <tr>\n",
       "      <th>0</th>\n",
       "      <td>None</td>\n",
       "      <td>0.768921</td>\n",
       "      <td>0.531432</td>\n",
       "      <td>[0.8605556301167628, 0.45436741088915, 0.27937...</td>\n",
       "      <td>0.503975</td>\n",
       "      <td>[0.9095035460992907, 0.37540453074433655, 0.22...</td>\n",
       "      <td>0.585042</td>\n",
       "      <td>[0.8166072338257768, 0.5753968253968254, 0.363...</td>\n",
       "      <td>None</td>\n",
       "      <td>0.761160</td>\n",
       "      <td>...</td>\n",
       "      <td>0.1</td>\n",
       "      <td>0.0010</td>\n",
       "      <td>12</td>\n",
       "      <td>focal</td>\n",
       "      <td>2</td>\n",
       "      <td>True</td>\n",
       "      <td>5</td>\n",
       "      <td>64</td>\n",
       "      <td>0.00</td>\n",
       "      <td>768</td>\n",
       "    </tr>\n",
       "    <tr>\n",
       "      <th>0</th>\n",
       "      <td>None</td>\n",
       "      <td>0.792948</td>\n",
       "      <td>0.534831</td>\n",
       "      <td>[0.8771918367346939, 0.450148493848112, 0.2771...</td>\n",
       "      <td>0.518802</td>\n",
       "      <td>[0.9002077608739361, 0.3932542624166049, 0.262...</td>\n",
       "      <td>0.558200</td>\n",
       "      <td>[0.8553234844625573, 0.5262896825396826, 0.292...</td>\n",
       "      <td>None</td>\n",
       "      <td>0.786628</td>\n",
       "      <td>...</td>\n",
       "      <td>0.1</td>\n",
       "      <td>0.0010</td>\n",
       "      <td>123</td>\n",
       "      <td>focal</td>\n",
       "      <td>2</td>\n",
       "      <td>True</td>\n",
       "      <td>5</td>\n",
       "      <td>64</td>\n",
       "      <td>0.00</td>\n",
       "      <td>768</td>\n",
       "    </tr>\n",
       "    <tr>\n",
       "      <th>0</th>\n",
       "      <td>None</td>\n",
       "      <td>0.791980</td>\n",
       "      <td>0.534202</td>\n",
       "      <td>[0.8770084911822339, 0.4472829616800173, 0.278...</td>\n",
       "      <td>0.516520</td>\n",
       "      <td>[0.9001743094663449, 0.39684978870534, 0.25253...</td>\n",
       "      <td>0.559120</td>\n",
       "      <td>[0.8550050942435048, 0.5124007936507936, 0.309...</td>\n",
       "      <td>None</td>\n",
       "      <td>0.785420</td>\n",
       "      <td>...</td>\n",
       "      <td>0.1</td>\n",
       "      <td>0.0001</td>\n",
       "      <td>1</td>\n",
       "      <td>focal</td>\n",
       "      <td>2</td>\n",
       "      <td>True</td>\n",
       "      <td>5</td>\n",
       "      <td>64</td>\n",
       "      <td>0.10</td>\n",
       "      <td>768</td>\n",
       "    </tr>\n",
       "    <tr>\n",
       "      <th>0</th>\n",
       "      <td>None</td>\n",
       "      <td>0.791120</td>\n",
       "      <td>0.537177</td>\n",
       "      <td>[0.8764022894521668, 0.4498239436619718, 0.285...</td>\n",
       "      <td>0.517508</td>\n",
       "      <td>[0.9009481541254791, 0.40427215189873417, 0.24...</td>\n",
       "      <td>0.565736</td>\n",
       "      <td>[0.8531584309730005, 0.5069444444444444, 0.337...</td>\n",
       "      <td>None</td>\n",
       "      <td>0.783169</td>\n",
       "      <td>...</td>\n",
       "      <td>0.1</td>\n",
       "      <td>0.0001</td>\n",
       "      <td>12</td>\n",
       "      <td>focal</td>\n",
       "      <td>2</td>\n",
       "      <td>True</td>\n",
       "      <td>5</td>\n",
       "      <td>64</td>\n",
       "      <td>0.10</td>\n",
       "      <td>768</td>\n",
       "    </tr>\n",
       "    <tr>\n",
       "      <th>...</th>\n",
       "      <td>...</td>\n",
       "      <td>...</td>\n",
       "      <td>...</td>\n",
       "      <td>...</td>\n",
       "      <td>...</td>\n",
       "      <td>...</td>\n",
       "      <td>...</td>\n",
       "      <td>...</td>\n",
       "      <td>...</td>\n",
       "      <td>...</td>\n",
       "      <td>...</td>\n",
       "      <td>...</td>\n",
       "      <td>...</td>\n",
       "      <td>...</td>\n",
       "      <td>...</td>\n",
       "      <td>...</td>\n",
       "      <td>...</td>\n",
       "      <td>...</td>\n",
       "      <td>...</td>\n",
       "      <td>...</td>\n",
       "      <td>...</td>\n",
       "    </tr>\n",
       "    <tr>\n",
       "      <th>0</th>\n",
       "      <td>None</td>\n",
       "      <td>0.800849</td>\n",
       "      <td>0.541813</td>\n",
       "      <td>[0.8831328816416507, 0.4524081259986304, 0.289...</td>\n",
       "      <td>0.526793</td>\n",
       "      <td>[0.8994915142309978, 0.41902748414376323, 0.26...</td>\n",
       "      <td>0.561196</td>\n",
       "      <td>[0.8673586347427407, 0.4915674603174603, 0.324...</td>\n",
       "      <td>None</td>\n",
       "      <td>0.791047</td>\n",
       "      <td>...</td>\n",
       "      <td>0.2</td>\n",
       "      <td>0.0001</td>\n",
       "      <td>12</td>\n",
       "      <td>focal</td>\n",
       "      <td>2</td>\n",
       "      <td>True</td>\n",
       "      <td>5</td>\n",
       "      <td>64</td>\n",
       "      <td>0.22</td>\n",
       "      <td>768</td>\n",
       "    </tr>\n",
       "    <tr>\n",
       "      <th>0</th>\n",
       "      <td>None</td>\n",
       "      <td>0.788110</td>\n",
       "      <td>0.537351</td>\n",
       "      <td>[0.8738546421885776, 0.4515036001694197, 0.286...</td>\n",
       "      <td>0.516488</td>\n",
       "      <td>[0.9022719565954561, 0.3939393939393939, 0.253...</td>\n",
       "      <td>0.568753</td>\n",
       "      <td>[0.8471726948548141, 0.5287698412698413, 0.330...</td>\n",
       "      <td>None</td>\n",
       "      <td>0.783669</td>\n",
       "      <td>...</td>\n",
       "      <td>0.2</td>\n",
       "      <td>0.0001</td>\n",
       "      <td>123</td>\n",
       "      <td>focal</td>\n",
       "      <td>2</td>\n",
       "      <td>True</td>\n",
       "      <td>5</td>\n",
       "      <td>64</td>\n",
       "      <td>0.22</td>\n",
       "      <td>768</td>\n",
       "    </tr>\n",
       "    <tr>\n",
       "      <th>0</th>\n",
       "      <td>None</td>\n",
       "      <td>0.795635</td>\n",
       "      <td>0.538739</td>\n",
       "      <td>[0.8790175071857852, 0.45501766050280484, 0.28...</td>\n",
       "      <td>0.524766</td>\n",
       "      <td>[0.9023605150214592, 0.39149088308902397, 0.28...</td>\n",
       "      <td>0.561314</td>\n",
       "      <td>[0.8568517575140092, 0.5431547619047619, 0.283...</td>\n",
       "      <td>None</td>\n",
       "      <td>0.791088</td>\n",
       "      <td>...</td>\n",
       "      <td>0.2</td>\n",
       "      <td>0.0005</td>\n",
       "      <td>1</td>\n",
       "      <td>focal</td>\n",
       "      <td>2</td>\n",
       "      <td>True</td>\n",
       "      <td>5</td>\n",
       "      <td>64</td>\n",
       "      <td>0.23</td>\n",
       "      <td>768</td>\n",
       "    </tr>\n",
       "    <tr>\n",
       "      <th>0</th>\n",
       "      <td>None</td>\n",
       "      <td>0.769512</td>\n",
       "      <td>0.524960</td>\n",
       "      <td>[0.8610527018457328, 0.44475357710651825, 0.26...</td>\n",
       "      <td>0.499887</td>\n",
       "      <td>[0.904748544574595, 0.3710212201591512, 0.2238...</td>\n",
       "      <td>0.571182</td>\n",
       "      <td>[0.8213830871115639, 0.5550595238095238, 0.337...</td>\n",
       "      <td>None</td>\n",
       "      <td>0.770372</td>\n",
       "      <td>...</td>\n",
       "      <td>0.2</td>\n",
       "      <td>0.0005</td>\n",
       "      <td>12</td>\n",
       "      <td>focal</td>\n",
       "      <td>2</td>\n",
       "      <td>True</td>\n",
       "      <td>5</td>\n",
       "      <td>64</td>\n",
       "      <td>0.23</td>\n",
       "      <td>768</td>\n",
       "    </tr>\n",
       "    <tr>\n",
       "      <th>0</th>\n",
       "      <td>None</td>\n",
       "      <td>0.783702</td>\n",
       "      <td>0.537379</td>\n",
       "      <td>[0.8708118130049001, 0.45214327657075754, 0.28...</td>\n",
       "      <td>0.517136</td>\n",
       "      <td>[0.9069655172413793, 0.3734238603297769, 0.271...</td>\n",
       "      <td>0.573434</td>\n",
       "      <td>[0.8374299541518084, 0.5729166666666666, 0.309...</td>\n",
       "      <td>None</td>\n",
       "      <td>0.771748</td>\n",
       "      <td>...</td>\n",
       "      <td>0.2</td>\n",
       "      <td>0.0005</td>\n",
       "      <td>123</td>\n",
       "      <td>focal</td>\n",
       "      <td>2</td>\n",
       "      <td>True</td>\n",
       "      <td>5</td>\n",
       "      <td>64</td>\n",
       "      <td>0.23</td>\n",
       "      <td>768</td>\n",
       "    </tr>\n",
       "  </tbody>\n",
       "</table>\n",
       "<p>72 rows × 27 columns</p>\n",
       "</div>"
      ],
      "text/plain": [
       "    loss  accuracy        f1  \\\n",
       "0   None  0.797140  0.532641   \n",
       "0   None  0.768921  0.531432   \n",
       "0   None  0.792948  0.534831   \n",
       "0   None  0.791980  0.534202   \n",
       "0   None  0.791120  0.537177   \n",
       "..   ...       ...       ...   \n",
       "0   None  0.800849  0.541813   \n",
       "0   None  0.788110  0.537351   \n",
       "0   None  0.795635  0.538739   \n",
       "0   None  0.769512  0.524960   \n",
       "0   None  0.783702  0.537379   \n",
       "\n",
       "                                            f1_scores  precision  \\\n",
       "0   [0.8804259601960975, 0.44210977701543736, 0.27...   0.522290   \n",
       "0   [0.8605556301167628, 0.45436741088915, 0.27937...   0.503975   \n",
       "0   [0.8771918367346939, 0.450148493848112, 0.2771...   0.518802   \n",
       "0   [0.8770084911822339, 0.4472829616800173, 0.278...   0.516520   \n",
       "0   [0.8764022894521668, 0.4498239436619718, 0.285...   0.517508   \n",
       "..                                                ...        ...   \n",
       "0   [0.8831328816416507, 0.4524081259986304, 0.289...   0.526793   \n",
       "0   [0.8738546421885776, 0.4515036001694197, 0.286...   0.516488   \n",
       "0   [0.8790175071857852, 0.45501766050280484, 0.28...   0.524766   \n",
       "0   [0.8610527018457328, 0.44475357710651825, 0.26...   0.499887   \n",
       "0   [0.8708118130049001, 0.45214327657075754, 0.28...   0.517136   \n",
       "\n",
       "                                     precision_scores    recall  \\\n",
       "0   [0.8981254553884878, 0.38935045317220546, 0.27...  0.548771   \n",
       "0   [0.9095035460992907, 0.37540453074433655, 0.22...  0.585042   \n",
       "0   [0.9002077608739361, 0.3932542624166049, 0.262...  0.558200   \n",
       "0   [0.9001743094663449, 0.39684978870534, 0.25253...  0.559120   \n",
       "0   [0.9009481541254791, 0.40427215189873417, 0.24...  0.565736   \n",
       "..                                                ...       ...   \n",
       "0   [0.8994915142309978, 0.41902748414376323, 0.26...  0.561196   \n",
       "0   [0.9022719565954561, 0.3939393939393939, 0.253...  0.568753   \n",
       "0   [0.9023605150214592, 0.39149088308902397, 0.28...  0.561314   \n",
       "0   [0.904748544574595, 0.3710212201591512, 0.2238...  0.571182   \n",
       "0   [0.9069655172413793, 0.3734238603297769, 0.271...  0.573434   \n",
       "\n",
       "                                        recall_scores valid_loss  \\\n",
       "0   [0.8634105960264901, 0.5114087301587301, 0.271...       None   \n",
       "0   [0.8166072338257768, 0.5753968253968254, 0.363...       None   \n",
       "0   [0.8553234844625573, 0.5262896825396826, 0.292...       None   \n",
       "0   [0.8550050942435048, 0.5124007936507936, 0.309...       None   \n",
       "0   [0.8531584309730005, 0.5069444444444444, 0.337...       None   \n",
       "..                                                ...        ...   \n",
       "0   [0.8673586347427407, 0.4915674603174603, 0.324...       None   \n",
       "0   [0.8471726948548141, 0.5287698412698413, 0.330...       None   \n",
       "0   [0.8568517575140092, 0.5431547619047619, 0.283...       None   \n",
       "0   [0.8213830871115639, 0.5550595238095238, 0.337...       None   \n",
       "0   [0.8374299541518084, 0.5729166666666666, 0.309...       None   \n",
       "\n",
       "    valid_accuracy  ...  dropout_rate learning_rate  seed loss_function  \\\n",
       "0         0.792547  ...           0.1        0.0010     1         focal   \n",
       "0         0.761160  ...           0.1        0.0010    12         focal   \n",
       "0         0.786628  ...           0.1        0.0010   123         focal   \n",
       "0         0.785420  ...           0.1        0.0001     1         focal   \n",
       "0         0.783169  ...           0.1        0.0001    12         focal   \n",
       "..             ...  ...           ...           ...   ...           ...   \n",
       "0         0.791047  ...           0.2        0.0001    12         focal   \n",
       "0         0.783669  ...           0.2        0.0001   123         focal   \n",
       "0         0.791088  ...           0.2        0.0005     1         focal   \n",
       "0         0.770372  ...           0.2        0.0005    12         focal   \n",
       "0         0.771748  ...           0.2        0.0005   123         focal   \n",
       "\n",
       "    gamma k_fold n_splits  batch_size  model_id  input_dim  \n",
       "0       2   True        5          64      0.00        768  \n",
       "0       2   True        5          64      0.00        768  \n",
       "0       2   True        5          64      0.00        768  \n",
       "0       2   True        5          64      0.10        768  \n",
       "0       2   True        5          64      0.10        768  \n",
       "..    ...    ...      ...         ...       ...        ...  \n",
       "0       2   True        5          64      0.22        768  \n",
       "0       2   True        5          64      0.22        768  \n",
       "0       2   True        5          64      0.23        768  \n",
       "0       2   True        5          64      0.23        768  \n",
       "0       2   True        5          64      0.23        768  \n",
       "\n",
       "[72 rows x 27 columns]"
      ]
     },
     "execution_count": 12,
     "metadata": {},
     "output_type": "execute_result"
    }
   ],
   "source": [
    "ffn_mean_history"
   ]
  },
  {
   "cell_type": "code",
   "execution_count": 13,
   "metadata": {},
   "outputs": [
    {
     "data": {
      "text/html": [
       "<div>\n",
       "<style scoped>\n",
       "    .dataframe tbody tr th:only-of-type {\n",
       "        vertical-align: middle;\n",
       "    }\n",
       "\n",
       "    .dataframe tbody tr th {\n",
       "        vertical-align: top;\n",
       "    }\n",
       "\n",
       "    .dataframe thead th {\n",
       "        text-align: right;\n",
       "    }\n",
       "</style>\n",
       "<table border=\"1\" class=\"dataframe\">\n",
       "  <thead>\n",
       "    <tr style=\"text-align: right;\">\n",
       "      <th></th>\n",
       "      <th>loss</th>\n",
       "      <th>accuracy</th>\n",
       "      <th>f1</th>\n",
       "      <th>f1_scores</th>\n",
       "      <th>precision</th>\n",
       "      <th>precision_scores</th>\n",
       "      <th>recall</th>\n",
       "      <th>recall_scores</th>\n",
       "      <th>valid_loss</th>\n",
       "      <th>valid_accuracy</th>\n",
       "      <th>...</th>\n",
       "      <th>hidden_dim</th>\n",
       "      <th>dropout_rate</th>\n",
       "      <th>learning_rate</th>\n",
       "      <th>seed</th>\n",
       "      <th>loss_function</th>\n",
       "      <th>gamma</th>\n",
       "      <th>k_fold</th>\n",
       "      <th>n_splits</th>\n",
       "      <th>batch_size</th>\n",
       "      <th>input_dim</th>\n",
       "    </tr>\n",
       "  </thead>\n",
       "  <tbody>\n",
       "    <tr>\n",
       "      <th>0</th>\n",
       "      <td>None</td>\n",
       "      <td>0.793217</td>\n",
       "      <td>0.536909</td>\n",
       "      <td>[0.8778720626631855, 0.4479964966060871, 0.284...</td>\n",
       "      <td>0.518870</td>\n",
       "      <td>[0.9004418853776112, 0.4010192081536652, 0.255...</td>\n",
       "      <td>0.562082</td>\n",
       "      <td>[0.8564060112073357, 0.5074404761904762, 0.322...</td>\n",
       "      <td>None</td>\n",
       "      <td>0.787962</td>\n",
       "      <td>...</td>\n",
       "      <td>(256, 256)</td>\n",
       "      <td>0.2</td>\n",
       "      <td>0.0001</td>\n",
       "      <td>1</td>\n",
       "      <td>focal</td>\n",
       "      <td>2</td>\n",
       "      <td>True</td>\n",
       "      <td>5</td>\n",
       "      <td>64</td>\n",
       "      <td>768</td>\n",
       "    </tr>\n",
       "    <tr>\n",
       "      <th>0</th>\n",
       "      <td>None</td>\n",
       "      <td>0.791443</td>\n",
       "      <td>0.537304</td>\n",
       "      <td>[0.8763051945926483, 0.4541541110632802, 0.281...</td>\n",
       "      <td>0.517949</td>\n",
       "      <td>[0.9015962820771873, 0.4011406844106464, 0.251...</td>\n",
       "      <td>0.565281</td>\n",
       "      <td>[0.8523942944472745, 0.5233134920634921, 0.320...</td>\n",
       "      <td>None</td>\n",
       "      <td>0.783585</td>\n",
       "      <td>...</td>\n",
       "      <td>(256, 256)</td>\n",
       "      <td>0.2</td>\n",
       "      <td>0.0001</td>\n",
       "      <td>12</td>\n",
       "      <td>focal</td>\n",
       "      <td>2</td>\n",
       "      <td>True</td>\n",
       "      <td>5</td>\n",
       "      <td>64</td>\n",
       "      <td>768</td>\n",
       "    </tr>\n",
       "    <tr>\n",
       "      <th>0</th>\n",
       "      <td>None</td>\n",
       "      <td>0.794990</td>\n",
       "      <td>0.537401</td>\n",
       "      <td>[0.8788471570161711, 0.4517810599478715, 0.281...</td>\n",
       "      <td>0.520617</td>\n",
       "      <td>[0.9004543025120256, 0.401854714064915, 0.2595...</td>\n",
       "      <td>0.560606</td>\n",
       "      <td>[0.85825267447784, 0.5158730158730159, 0.30769...</td>\n",
       "      <td>None</td>\n",
       "      <td>0.788171</td>\n",
       "      <td>...</td>\n",
       "      <td>(256, 256)</td>\n",
       "      <td>0.2</td>\n",
       "      <td>0.0001</td>\n",
       "      <td>123</td>\n",
       "      <td>focal</td>\n",
       "      <td>2</td>\n",
       "      <td>True</td>\n",
       "      <td>5</td>\n",
       "      <td>64</td>\n",
       "      <td>768</td>\n",
       "    </tr>\n",
       "  </tbody>\n",
       "</table>\n",
       "<p>3 rows × 26 columns</p>\n",
       "</div>"
      ],
      "text/plain": [
       "   loss  accuracy        f1  \\\n",
       "0  None  0.793217  0.536909   \n",
       "0  None  0.791443  0.537304   \n",
       "0  None  0.794990  0.537401   \n",
       "\n",
       "                                           f1_scores  precision  \\\n",
       "0  [0.8778720626631855, 0.4479964966060871, 0.284...   0.518870   \n",
       "0  [0.8763051945926483, 0.4541541110632802, 0.281...   0.517949   \n",
       "0  [0.8788471570161711, 0.4517810599478715, 0.281...   0.520617   \n",
       "\n",
       "                                    precision_scores    recall  \\\n",
       "0  [0.9004418853776112, 0.4010192081536652, 0.255...  0.562082   \n",
       "0  [0.9015962820771873, 0.4011406844106464, 0.251...  0.565281   \n",
       "0  [0.9004543025120256, 0.401854714064915, 0.2595...  0.560606   \n",
       "\n",
       "                                       recall_scores valid_loss  \\\n",
       "0  [0.8564060112073357, 0.5074404761904762, 0.322...       None   \n",
       "0  [0.8523942944472745, 0.5233134920634921, 0.320...       None   \n",
       "0  [0.85825267447784, 0.5158730158730159, 0.30769...       None   \n",
       "\n",
       "   valid_accuracy  ...  hidden_dim dropout_rate  learning_rate seed  \\\n",
       "0        0.787962  ...  (256, 256)          0.2         0.0001    1   \n",
       "0        0.783585  ...  (256, 256)          0.2         0.0001   12   \n",
       "0        0.788171  ...  (256, 256)          0.2         0.0001  123   \n",
       "\n",
       "   loss_function gamma k_fold  n_splits  batch_size  input_dim  \n",
       "0          focal     2   True         5          64        768  \n",
       "0          focal     2   True         5          64        768  \n",
       "0          focal     2   True         5          64        768  \n",
       "\n",
       "[3 rows x 26 columns]"
      ]
     },
     "execution_count": 13,
     "metadata": {},
     "output_type": "execute_result"
    }
   ],
   "source": [
    "best_ffn_mean_history"
   ]
  },
  {
   "cell_type": "code",
   "execution_count": 20,
   "metadata": {},
   "outputs": [
    {
     "data": {
      "text/html": [
       "<div>\n",
       "<style scoped>\n",
       "    .dataframe tbody tr th:only-of-type {\n",
       "        vertical-align: middle;\n",
       "    }\n",
       "\n",
       "    .dataframe tbody tr th {\n",
       "        vertical-align: top;\n",
       "    }\n",
       "\n",
       "    .dataframe thead th {\n",
       "        text-align: right;\n",
       "    }\n",
       "</style>\n",
       "<table border=\"1\" class=\"dataframe\">\n",
       "  <thead>\n",
       "    <tr style=\"text-align: right;\">\n",
       "      <th></th>\n",
       "      <th>f1</th>\n",
       "      <th>f1_scores</th>\n",
       "      <th>precision</th>\n",
       "      <th>recall</th>\n",
       "      <th>valid_f1</th>\n",
       "      <th>valid_f1_scores</th>\n",
       "      <th>valid_precision</th>\n",
       "      <th>valid_recall</th>\n",
       "      <th>hidden_dim</th>\n",
       "      <th>dropout_rate</th>\n",
       "      <th>learning_rate</th>\n",
       "      <th>seed</th>\n",
       "      <th>loss_function</th>\n",
       "      <th>k_fold</th>\n",
       "      <th>batch_size</th>\n",
       "    </tr>\n",
       "  </thead>\n",
       "  <tbody>\n",
       "    <tr>\n",
       "      <th>0</th>\n",
       "      <td>0.536909</td>\n",
       "      <td>[0.8778720626631855, 0.4479964966060871, 0.284...</td>\n",
       "      <td>0.518870</td>\n",
       "      <td>0.562082</td>\n",
       "      <td>0.536031</td>\n",
       "      <td>[0.8731316635208896, 0.4655228229200389, 0.269...</td>\n",
       "      <td>0.517419</td>\n",
       "      <td>0.564078</td>\n",
       "      <td>(256, 256)</td>\n",
       "      <td>0.2</td>\n",
       "      <td>0.0001</td>\n",
       "      <td>1</td>\n",
       "      <td>focal</td>\n",
       "      <td>True</td>\n",
       "      <td>64</td>\n",
       "    </tr>\n",
       "    <tr>\n",
       "      <th>0</th>\n",
       "      <td>0.537304</td>\n",
       "      <td>[0.8763051945926483, 0.4541541110632802, 0.281...</td>\n",
       "      <td>0.517949</td>\n",
       "      <td>0.565281</td>\n",
       "      <td>0.535844</td>\n",
       "      <td>[0.8701867650449621, 0.46232602783554627, 0.27...</td>\n",
       "      <td>0.514893</td>\n",
       "      <td>0.568630</td>\n",
       "      <td>(256, 256)</td>\n",
       "      <td>0.2</td>\n",
       "      <td>0.0001</td>\n",
       "      <td>12</td>\n",
       "      <td>focal</td>\n",
       "      <td>True</td>\n",
       "      <td>64</td>\n",
       "    </tr>\n",
       "    <tr>\n",
       "      <th>0</th>\n",
       "      <td>0.537401</td>\n",
       "      <td>[0.8788471570161711, 0.4517810599478715, 0.281...</td>\n",
       "      <td>0.520617</td>\n",
       "      <td>0.560606</td>\n",
       "      <td>0.535158</td>\n",
       "      <td>[0.8733622227886821, 0.462729912875121, 0.2693...</td>\n",
       "      <td>0.517408</td>\n",
       "      <td>0.562142</td>\n",
       "      <td>(256, 256)</td>\n",
       "      <td>0.2</td>\n",
       "      <td>0.0001</td>\n",
       "      <td>123</td>\n",
       "      <td>focal</td>\n",
       "      <td>True</td>\n",
       "      <td>64</td>\n",
       "    </tr>\n",
       "  </tbody>\n",
       "</table>\n",
       "</div>"
      ],
      "text/plain": [
       "         f1                                          f1_scores  precision  \\\n",
       "0  0.536909  [0.8778720626631855, 0.4479964966060871, 0.284...   0.518870   \n",
       "0  0.537304  [0.8763051945926483, 0.4541541110632802, 0.281...   0.517949   \n",
       "0  0.537401  [0.8788471570161711, 0.4517810599478715, 0.281...   0.520617   \n",
       "\n",
       "     recall  valid_f1                                    valid_f1_scores  \\\n",
       "0  0.562082  0.536031  [0.8731316635208896, 0.4655228229200389, 0.269...   \n",
       "0  0.565281  0.535844  [0.8701867650449621, 0.46232602783554627, 0.27...   \n",
       "0  0.560606  0.535158  [0.8733622227886821, 0.462729912875121, 0.2693...   \n",
       "\n",
       "   valid_precision  valid_recall  hidden_dim  dropout_rate  learning_rate  \\\n",
       "0         0.517419      0.564078  (256, 256)           0.2         0.0001   \n",
       "0         0.514893      0.568630  (256, 256)           0.2         0.0001   \n",
       "0         0.517408      0.562142  (256, 256)           0.2         0.0001   \n",
       "\n",
       "   seed loss_function  k_fold  batch_size  \n",
       "0     1         focal    True          64  \n",
       "0    12         focal    True          64  \n",
       "0   123         focal    True          64  "
      ]
     },
     "execution_count": 20,
     "metadata": {},
     "output_type": "execute_result"
    }
   ],
   "source": [
    "best_ffn_mean_history[\n",
    "    [\n",
    "        \"f1\",\n",
    "        \"f1_scores\",\n",
    "        \"precision\",\n",
    "        \"recall\",\n",
    "        \"valid_f1\",\n",
    "        \"valid_f1_scores\",\n",
    "        \"valid_precision\",\n",
    "        \"valid_recall\",\n",
    "        \"hidden_dim\",\n",
    "        \"dropout_rate\",\n",
    "        \"learning_rate\",\n",
    "        \"seed\",\n",
    "        \"loss_function\",\n",
    "        \"k_fold\",\n",
    "        \"batch_size\",\n",
    "    ]\n",
    "]"
   ]
  },
  {
   "cell_type": "code",
   "execution_count": 14,
   "metadata": {},
   "outputs": [
    {
     "data": {
      "text/plain": [
       "0.5372043517768734"
      ]
     },
     "execution_count": 14,
     "metadata": {},
     "output_type": "execute_result"
    }
   ],
   "source": [
    "best_ffn_mean_history[\"f1\"].mean()"
   ]
  },
  {
   "cell_type": "code",
   "execution_count": 15,
   "metadata": {},
   "outputs": [
    {
     "data": {
      "text/plain": [
       "0.5191451019706829"
      ]
     },
     "execution_count": 15,
     "metadata": {},
     "output_type": "execute_result"
    }
   ],
   "source": [
    "best_ffn_mean_history[\"precision\"].mean()"
   ]
  },
  {
   "cell_type": "code",
   "execution_count": 16,
   "metadata": {},
   "outputs": [
    {
     "data": {
      "text/plain": [
       "0.5626562454003695"
      ]
     },
     "execution_count": 16,
     "metadata": {},
     "output_type": "execute_result"
    }
   ],
   "source": [
    "best_ffn_mean_history[\"recall\"].mean()"
   ]
  },
  {
   "cell_type": "code",
   "execution_count": 17,
   "metadata": {},
   "outputs": [
    {
     "data": {
      "text/plain": [
       "array([0.8776748 , 0.45131056, 0.28262769])"
      ]
     },
     "execution_count": 17,
     "metadata": {},
     "output_type": "execute_result"
    }
   ],
   "source": [
    "np.stack(best_ffn_mean_history[\"f1_scores\"]).mean(axis=0)"
   ]
  },
  {
   "cell_type": "code",
   "execution_count": 18,
   "metadata": {},
   "outputs": [
    {
     "data": {
      "text/plain": [
       "array([0.90083082, 0.4013382 , 0.25526628])"
      ]
     },
     "execution_count": 18,
     "metadata": {},
     "output_type": "execute_result"
    }
   ],
   "source": [
    "np.stack(best_ffn_mean_history[\"precision_scores\"]).mean(axis=0)"
   ]
  },
  {
   "cell_type": "code",
   "execution_count": 19,
   "metadata": {},
   "outputs": [
    {
     "data": {
      "text/plain": [
       "array([0.85568433, 0.51554233, 0.31674208])"
      ]
     },
     "execution_count": 19,
     "metadata": {},
     "output_type": "execute_result"
    }
   ],
   "source": [
    "np.stack(best_ffn_mean_history[\"recall_scores\"]).mean(axis=0)"
   ]
  },
  {
   "cell_type": "code",
   "execution_count": null,
   "metadata": {},
   "outputs": [],
   "source": []
  }
 ],
 "metadata": {
  "interpreter": {
   "hash": "b2013b70f5165546ff531eadcfc35b64307c3717f205ea3ff61fa34bab89c803"
  },
  "kernelspec": {
   "display_name": "Python 3.8.17 ('nlpsig-networks')",
   "language": "python",
   "name": "python3"
  },
  "language_info": {
   "codemirror_mode": {
    "name": "ipython",
    "version": 3
   },
   "file_extension": ".py",
   "mimetype": "text/x-python",
   "name": "python",
   "nbconvert_exporter": "python",
   "pygments_lexer": "ipython3",
   "version": "3.8.17"
  },
  "orig_nbformat": 4
 },
 "nbformat": 4,
 "nbformat_minor": 2
}
