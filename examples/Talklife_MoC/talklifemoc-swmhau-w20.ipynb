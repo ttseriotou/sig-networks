{
 "cells": [
  {
   "cell_type": "code",
   "execution_count": 1,
   "metadata": {},
   "outputs": [],
   "source": [
    "import pickle\n",
    "import numpy as np\n",
    "import pandas as pd\n",
    "import re\n",
    "\n",
    "seed = 2023"
   ]
  },
  {
   "cell_type": "code",
   "execution_count": 2,
   "metadata": {},
   "outputs": [],
   "source": [
    "import torch\n",
    "\n",
    "# set device\n",
    "device = torch.device(\"cuda\" if torch.cuda.is_available() else \"cpu\")"
   ]
  },
  {
   "cell_type": "code",
   "execution_count": 3,
   "metadata": {},
   "outputs": [],
   "source": [
    "from nlpsig_networks.scripts.swmhau_network_functions import (\n",
    "    swmhau_network_hyperparameter_search,\n",
    ")"
   ]
  },
  {
   "cell_type": "code",
   "execution_count": 4,
   "metadata": {},
   "outputs": [],
   "source": [
    "output_dir = \"talklife_moc_output\"\n",
    "if not os.path.isdir(output_dir):\n",
    "    os.makedirs(output_dir)"
   ]
  },
  {
   "cell_type": "markdown",
   "metadata": {},
   "source": [
    "Talklife MoC"
   ]
  },
  {
   "cell_type": "code",
   "execution_count": 5,
   "metadata": {},
   "outputs": [],
   "source": [
    "%run load_talklifemoc.py"
   ]
  },
  {
   "cell_type": "code",
   "execution_count": 6,
   "metadata": {},
   "outputs": [],
   "source": [
    "%run load_sbert-embeddings.py"
   ]
  },
  {
   "cell_type": "code",
   "execution_count": 7,
   "metadata": {},
   "outputs": [
    {
     "data": {
      "text/plain": [
       "torch.Size([18604, 384])"
      ]
     },
     "execution_count": 7,
     "metadata": {},
     "output_type": "execute_result"
    }
   ],
   "source": [
    "sbert_embeddings.shape"
   ]
  },
  {
   "cell_type": "markdown",
   "metadata": {},
   "source": [
    "swmhau Network"
   ]
  },
  {
   "cell_type": "code",
   "execution_count": 8,
   "metadata": {},
   "outputs": [],
   "source": [
    "features = [\"time_encoding\", \"timeline_index\"]\n",
    "standardise_method = [\"z_score\", None]\n",
    "include_features_in_path = True\n",
    "include_features_in_input = False"
   ]
  },
  {
   "cell_type": "code",
   "execution_count": 9,
   "metadata": {},
   "outputs": [],
   "source": [
    "# create indices for kfold\n",
    "fold_col_names = [c for c in df.columns if \"fold\" in c]\n",
    "fold_list = []\n",
    "for foldc in fold_col_names:\n",
    "    fold_list.append(\n",
    "        (\n",
    "            df[df[foldc] == \"train\"].index,\n",
    "            df[df[foldc] == \"dev\"].index,\n",
    "            df[df[foldc] == \"test\"].index,\n",
    "        )\n",
    "    )\n",
    "fold_list = tuple(fold_list)"
   ]
  },
  {
   "cell_type": "code",
   "execution_count": 10,
   "metadata": {},
   "outputs": [],
   "source": [
    "num_epochs = 100\n",
    "embedding_dim = 384\n",
    "dimensions = [15]\n",
    "dimreduction_method = [\"umap\"]\n",
    "# define swmhau parameters: (output_channels, sig_depth, num_heads)\n",
    "swmhau_parameters = [(12, 3, 10), (8, 4, 6)]\n",
    "num_layers = [1]\n",
    "ffn_hidden_dim_sizes = [[256, 256], [512, 512]]\n",
    "dropout_rates = [0.1, 0.2]\n",
    "learning_rates = [1e-3, 1e-4, 5e-4]\n",
    "seeds = [1, 12, 123]\n",
    "loss = \"focal\"\n",
    "gamma = 2\n",
    "validation_metric = \"f1\"\n",
    "patience = 5"
   ]
  },
  {
   "cell_type": "code",
   "execution_count": 11,
   "metadata": {},
   "outputs": [
    {
     "data": {
      "application/vnd.jupyter.widget-view+json": {
       "model_id": "95e5c60525bf4983997f5747c68f1bdf",
       "version_major": 2,
       "version_minor": 0
      },
      "text/plain": [
       "  0%|          | 0/1 [00:00<?, ?it/s]"
      ]
     },
     "metadata": {},
     "output_type": "display_data"
    },
    {
     "data": {
      "application/vnd.jupyter.widget-view+json": {
       "model_id": "dfc17c7863474b9a87cf698d4a0187cf",
       "version_major": 2,
       "version_minor": 0
      },
      "text/plain": [
       "  0%|          | 0/1 [00:00<?, ?it/s]"
      ]
     },
     "metadata": {},
     "output_type": "display_data"
    },
    {
     "data": {
      "application/vnd.jupyter.widget-view+json": {
       "model_id": "f80543accb514b6a8bd4a5c4536f3ca8",
       "version_major": 2,
       "version_minor": 0
      },
      "text/plain": [
       "  0%|          | 0/1 [00:00<?, ?it/s]"
      ]
     },
     "metadata": {},
     "output_type": "display_data"
    },
    {
     "name": "stdout",
     "output_type": "stream",
     "text": [
      "\n",
      "##################################################\n",
      "dimension: 15 | method: umap\n",
      "[INFO] Concatenating the embeddings to the dataframe...\n",
      "[INFO] - columns beginning with 'e' denote the full embddings.\n",
      "[INFO] - columns beginning with 'd' denote the dimension reduced embeddings.\n",
      "[INFO] Adding time feature columns into dataframe in `.df`.\n",
      "[INFO] Adding 'time_encoding' feature...\n",
      "[INFO] Adding 'time_diff' feature...\n",
      "[INFO] Adding 'timeline_index' feature...\n",
      "[INFO] Padding ids and storing in `.df_padded` and `.array_padded` attributes.\n"
     ]
    },
    {
     "data": {
      "application/vnd.jupyter.widget-view+json": {
       "model_id": "9fb6430e048447db884559ba3b32c487",
       "version_major": 2,
       "version_minor": 0
      },
      "text/plain": [
       "  0%|          | 0/18604 [00:00<?, ?it/s]"
      ]
     },
     "metadata": {},
     "output_type": "display_data"
    },
    {
     "name": "stdout",
     "output_type": "stream",
     "text": [
      "[INFO] The path was created for each item in the dataframe, by looking at its history, so to include embeddings in the FFN input, we concatenate the embeddings for each sentence / text.\n"
     ]
    },
    {
     "data": {
      "application/vnd.jupyter.widget-view+json": {
       "model_id": "9f5fc75fc87745d99648ba096f4a6481",
       "version_major": 2,
       "version_minor": 0
      },
      "text/plain": [
       "  0%|          | 0/2 [00:00<?, ?it/s]"
      ]
     },
     "metadata": {},
     "output_type": "display_data"
    },
    {
     "data": {
      "application/vnd.jupyter.widget-view+json": {
       "model_id": "0660ac6d2db147cd955c620ca4c65b78",
       "version_major": 2,
       "version_minor": 0
      },
      "text/plain": [
       "  0%|          | 0/1 [00:00<?, ?it/s]"
      ]
     },
     "metadata": {},
     "output_type": "display_data"
    },
    {
     "data": {
      "application/vnd.jupyter.widget-view+json": {
       "model_id": "3eda99d99df044de9b4bbb68011f476e",
       "version_major": 2,
       "version_minor": 0
      },
      "text/plain": [
       "  0%|          | 0/2 [00:00<?, ?it/s]"
      ]
     },
     "metadata": {},
     "output_type": "display_data"
    },
    {
     "data": {
      "application/vnd.jupyter.widget-view+json": {
       "model_id": "9633fd432a2742ff8644b1505334a37e",
       "version_major": 2,
       "version_minor": 0
      },
      "text/plain": [
       "  0%|          | 0/2 [00:00<?, ?it/s]"
      ]
     },
     "metadata": {},
     "output_type": "display_data"
    },
    {
     "data": {
      "application/vnd.jupyter.widget-view+json": {
       "model_id": "a96dbf65b8a04338a18705d489fb4b42",
       "version_major": 2,
       "version_minor": 0
      },
      "text/plain": [
       "  0%|          | 0/3 [00:00<?, ?it/s]"
      ]
     },
     "metadata": {},
     "output_type": "display_data"
    },
    {
     "data": {
      "application/vnd.jupyter.widget-view+json": {
       "model_id": "cc43d011b09540feb3b6e257205cff52",
       "version_major": 2,
       "version_minor": 0
      },
      "text/plain": [
       "  0%|          | 0/3 [00:00<?, ?it/s]"
      ]
     },
     "metadata": {},
     "output_type": "display_data"
    },
    {
     "data": {
      "application/vnd.jupyter.widget-view+json": {
       "model_id": "2c320f6a1a574589928e026f42a213a7",
       "version_major": 2,
       "version_minor": 0
      },
      "text/plain": [
       "  0%|          | 0/2 [00:00<?, ?it/s]"
      ]
     },
     "metadata": {},
     "output_type": "display_data"
    },
    {
     "data": {
      "application/vnd.jupyter.widget-view+json": {
       "model_id": "441a551b1aa643b5884dc2c40e1301ad",
       "version_major": 2,
       "version_minor": 0
      },
      "text/plain": [
       "  0%|          | 0/3 [00:00<?, ?it/s]"
      ]
     },
     "metadata": {},
     "output_type": "display_data"
    },
    {
     "data": {
      "application/vnd.jupyter.widget-view+json": {
       "model_id": "0ce29b4571964a8a91c50edad497a799",
       "version_major": 2,
       "version_minor": 0
      },
      "text/plain": [
       "  0%|          | 0/3 [00:00<?, ?it/s]"
      ]
     },
     "metadata": {},
     "output_type": "display_data"
    },
    {
     "data": {
      "application/vnd.jupyter.widget-view+json": {
       "model_id": "db8277bafc914d8096d51afa366b5054",
       "version_major": 2,
       "version_minor": 0
      },
      "text/plain": [
       "  0%|          | 0/1 [00:00<?, ?it/s]"
      ]
     },
     "metadata": {},
     "output_type": "display_data"
    },
    {
     "data": {
      "application/vnd.jupyter.widget-view+json": {
       "model_id": "40e20e478dba4517b02752c73ac5d58f",
       "version_major": 2,
       "version_minor": 0
      },
      "text/plain": [
       "  0%|          | 0/2 [00:00<?, ?it/s]"
      ]
     },
     "metadata": {},
     "output_type": "display_data"
    },
    {
     "data": {
      "application/vnd.jupyter.widget-view+json": {
       "model_id": "d319ba00d55f4cc5a73e853eb2be0b84",
       "version_major": 2,
       "version_minor": 0
      },
      "text/plain": [
       "  0%|          | 0/2 [00:00<?, ?it/s]"
      ]
     },
     "metadata": {},
     "output_type": "display_data"
    },
    {
     "data": {
      "application/vnd.jupyter.widget-view+json": {
       "model_id": "ce299e334a37486c85bdc79c629b20fd",
       "version_major": 2,
       "version_minor": 0
      },
      "text/plain": [
       "  0%|          | 0/3 [00:00<?, ?it/s]"
      ]
     },
     "metadata": {},
     "output_type": "display_data"
    },
    {
     "data": {
      "application/vnd.jupyter.widget-view+json": {
       "model_id": "a6d61ecc1a7e4e27879dbec847a61899",
       "version_major": 2,
       "version_minor": 0
      },
      "text/plain": [
       "  0%|          | 0/3 [00:00<?, ?it/s]"
      ]
     },
     "metadata": {},
     "output_type": "display_data"
    },
    {
     "data": {
      "application/vnd.jupyter.widget-view+json": {
       "model_id": "160505169a8f48a8a2542cc468d832dc",
       "version_major": 2,
       "version_minor": 0
      },
      "text/plain": [
       "  0%|          | 0/2 [00:00<?, ?it/s]"
      ]
     },
     "metadata": {},
     "output_type": "display_data"
    },
    {
     "data": {
      "application/vnd.jupyter.widget-view+json": {
       "model_id": "e796bbe76e68453197124fd85d197766",
       "version_major": 2,
       "version_minor": 0
      },
      "text/plain": [
       "  0%|          | 0/3 [00:00<?, ?it/s]"
      ]
     },
     "metadata": {},
     "output_type": "display_data"
    },
    {
     "data": {
      "application/vnd.jupyter.widget-view+json": {
       "model_id": "0704d50fd62d49dcbf8255650c83d31d",
       "version_major": 2,
       "version_minor": 0
      },
      "text/plain": [
       "  0%|          | 0/3 [00:00<?, ?it/s]"
      ]
     },
     "metadata": {},
     "output_type": "display_data"
    },
    {
     "name": "stdout",
     "output_type": "stream",
     "text": [
      "[INFO] Concatenating the embeddings to the dataframe...\n",
      "[INFO] - columns beginning with 'e' denote the full embddings.\n",
      "[INFO] - columns beginning with 'd' denote the dimension reduced embeddings.\n",
      "[INFO] Adding time feature columns into dataframe in `.df`.\n",
      "[INFO] Adding 'time_encoding' feature...\n",
      "[INFO] Adding 'time_diff' feature...\n",
      "[INFO] Adding 'timeline_index' feature...\n",
      "[INFO] Padding ids and storing in `.df_padded` and `.array_padded` attributes.\n"
     ]
    },
    {
     "data": {
      "application/vnd.jupyter.widget-view+json": {
       "model_id": "eb297304ebe143198523173455973692",
       "version_major": 2,
       "version_minor": 0
      },
      "text/plain": [
       "  0%|          | 0/18604 [00:00<?, ?it/s]"
      ]
     },
     "metadata": {},
     "output_type": "display_data"
    },
    {
     "name": "stdout",
     "output_type": "stream",
     "text": [
      "[INFO] The path was created for each item in the dataframe, by looking at its history, so to include embeddings in the FFN input, we concatenate the embeddings for each sentence / text.\n",
      "saving results dataframe to CSV for this hyperparameter search in talklife_moc_output/swmhau_network_umap_focal_2_20.csv\n",
      "saving the best model results dataframe to CSV for this hyperparameter search in talklife_moc_output/swmhau_network_umap_focal_2_20_best_model.csv\n"
     ]
    }
   ],
   "source": [
    "size = 20\n",
    "(\n",
    "    swmhau_network_umap_20,\n",
    "    best_swmhau_network_umap_20,\n",
    "    _,\n",
    "    __,\n",
    ") = swmhau_network_hyperparameter_search(\n",
    "    num_epochs=num_epochs,\n",
    "    df=df,\n",
    "    id_column=\"timeline_id\",\n",
    "    label_column=\"label\",\n",
    "    embeddings=sbert_embeddings.numpy(),\n",
    "    y_data=y_data,\n",
    "    output_dim=output_dim,\n",
    "    history_lengths=[size],\n",
    "    dim_reduce_methods=dimreduction_method,\n",
    "    dimensions=dimensions,\n",
    "    log_signature=True,\n",
    "    swmhau_parameters=swmhau_parameters,\n",
    "    num_layers=num_layers,\n",
    "    ffn_hidden_dim_sizes=ffn_hidden_dim_sizes,\n",
    "    dropout_rates=dropout_rates,\n",
    "    learning_rates=learning_rates,\n",
    "    seeds=seeds,\n",
    "    loss=loss,\n",
    "    gamma=gamma,\n",
    "    device=device,\n",
    "    features=features,\n",
    "    standardise_method=standardise_method,\n",
    "    include_features_in_path=include_features_in_path,\n",
    "    include_features_in_input=include_features_in_input,\n",
    "    split_ids=None,\n",
    "    split_indices=fold_list,\n",
    "    k_fold=True,\n",
    "    patience=patience,\n",
    "    validation_metric=validation_metric,\n",
    "    results_output=f\"{output_dir}/swmhau_network_umap_focal_{gamma}_{size}.csv\",\n",
    "    verbose=False,\n",
    ")"
   ]
  },
  {
   "cell_type": "code",
   "execution_count": 12,
   "metadata": {},
   "outputs": [
    {
     "data": {
      "text/html": [
       "<div>\n",
       "<style scoped>\n",
       "    .dataframe tbody tr th:only-of-type {\n",
       "        vertical-align: middle;\n",
       "    }\n",
       "\n",
       "    .dataframe tbody tr th {\n",
       "        vertical-align: top;\n",
       "    }\n",
       "\n",
       "    .dataframe thead th {\n",
       "        text-align: right;\n",
       "    }\n",
       "</style>\n",
       "<table border=\"1\" class=\"dataframe\">\n",
       "  <thead>\n",
       "    <tr style=\"text-align: right;\">\n",
       "      <th></th>\n",
       "      <th>f1</th>\n",
       "      <th>f1_scores</th>\n",
       "      <th>precision</th>\n",
       "      <th>recall</th>\n",
       "      <th>valid_f1</th>\n",
       "      <th>valid_f1_scores</th>\n",
       "      <th>valid_precision</th>\n",
       "      <th>valid_recall</th>\n",
       "      <th>sig_depth</th>\n",
       "      <th>num_heads</th>\n",
       "      <th>ffn_hidden_dim</th>\n",
       "      <th>dropout_rate</th>\n",
       "      <th>learning_rate</th>\n",
       "      <th>seed</th>\n",
       "      <th>loss_function</th>\n",
       "      <th>k_fold</th>\n",
       "      <th>augmentation_type</th>\n",
       "      <th>hidden_dim_aug</th>\n",
       "      <th>comb_method</th>\n",
       "      <th>batch_size</th>\n",
       "    </tr>\n",
       "  </thead>\n",
       "  <tbody>\n",
       "    <tr>\n",
       "      <th>0</th>\n",
       "      <td>0.546047</td>\n",
       "      <td>[0.8885513943193202, 0.4525178201885491, 0.297...</td>\n",
       "      <td>0.533342</td>\n",
       "      <td>0.561624</td>\n",
       "      <td>0.546671</td>\n",
       "      <td>[0.8858965630279648, 0.47508247959715233, 0.27...</td>\n",
       "      <td>0.532496</td>\n",
       "      <td>0.564784</td>\n",
       "      <td>3</td>\n",
       "      <td>10</td>\n",
       "      <td>(512, 512)</td>\n",
       "      <td>0.1</td>\n",
       "      <td>0.0005</td>\n",
       "      <td>1</td>\n",
       "      <td>focal</td>\n",
       "      <td>True</td>\n",
       "      <td>Conv1d</td>\n",
       "      <td>None</td>\n",
       "      <td>concatenation</td>\n",
       "      <td>64</td>\n",
       "    </tr>\n",
       "    <tr>\n",
       "      <th>0</th>\n",
       "      <td>0.544796</td>\n",
       "      <td>[0.8888030142015264, 0.4383880736081994, 0.307...</td>\n",
       "      <td>0.534926</td>\n",
       "      <td>0.556351</td>\n",
       "      <td>0.543392</td>\n",
       "      <td>[0.8860288572721332, 0.4652462451973455, 0.278...</td>\n",
       "      <td>0.532127</td>\n",
       "      <td>0.557513</td>\n",
       "      <td>3</td>\n",
       "      <td>10</td>\n",
       "      <td>(512, 512)</td>\n",
       "      <td>0.1</td>\n",
       "      <td>0.0005</td>\n",
       "      <td>12</td>\n",
       "      <td>focal</td>\n",
       "      <td>True</td>\n",
       "      <td>Conv1d</td>\n",
       "      <td>None</td>\n",
       "      <td>concatenation</td>\n",
       "      <td>64</td>\n",
       "    </tr>\n",
       "    <tr>\n",
       "      <th>0</th>\n",
       "      <td>0.533093</td>\n",
       "      <td>[0.8855252541552364, 0.43962432915921285, 0.27...</td>\n",
       "      <td>0.524947</td>\n",
       "      <td>0.544231</td>\n",
       "      <td>0.535730</td>\n",
       "      <td>[0.883419233186675, 0.44354293441514536, 0.280...</td>\n",
       "      <td>0.528848</td>\n",
       "      <td>0.547358</td>\n",
       "      <td>3</td>\n",
       "      <td>10</td>\n",
       "      <td>(512, 512)</td>\n",
       "      <td>0.1</td>\n",
       "      <td>0.0005</td>\n",
       "      <td>123</td>\n",
       "      <td>focal</td>\n",
       "      <td>True</td>\n",
       "      <td>Conv1d</td>\n",
       "      <td>None</td>\n",
       "      <td>concatenation</td>\n",
       "      <td>64</td>\n",
       "    </tr>\n",
       "  </tbody>\n",
       "</table>\n",
       "</div>"
      ],
      "text/plain": [
       "         f1                                          f1_scores  precision  \\\n",
       "0  0.546047  [0.8885513943193202, 0.4525178201885491, 0.297...   0.533342   \n",
       "0  0.544796  [0.8888030142015264, 0.4383880736081994, 0.307...   0.534926   \n",
       "0  0.533093  [0.8855252541552364, 0.43962432915921285, 0.27...   0.524947   \n",
       "\n",
       "     recall  valid_f1                                    valid_f1_scores  \\\n",
       "0  0.561624  0.546671  [0.8858965630279648, 0.47508247959715233, 0.27...   \n",
       "0  0.556351  0.543392  [0.8860288572721332, 0.4652462451973455, 0.278...   \n",
       "0  0.544231  0.535730  [0.883419233186675, 0.44354293441514536, 0.280...   \n",
       "\n",
       "   valid_precision  valid_recall  sig_depth  num_heads ffn_hidden_dim  \\\n",
       "0         0.532496      0.564784          3         10     (512, 512)   \n",
       "0         0.532127      0.557513          3         10     (512, 512)   \n",
       "0         0.528848      0.547358          3         10     (512, 512)   \n",
       "\n",
       "   dropout_rate  learning_rate  seed loss_function  k_fold augmentation_type  \\\n",
       "0           0.1         0.0005     1         focal    True            Conv1d   \n",
       "0           0.1         0.0005    12         focal    True            Conv1d   \n",
       "0           0.1         0.0005   123         focal    True            Conv1d   \n",
       "\n",
       "  hidden_dim_aug    comb_method  batch_size  \n",
       "0           None  concatenation          64  \n",
       "0           None  concatenation          64  \n",
       "0           None  concatenation          64  "
      ]
     },
     "execution_count": 12,
     "metadata": {},
     "output_type": "execute_result"
    }
   ],
   "source": [
    "best_swmhau_network_umap_20[\n",
    "    [\n",
    "        \"f1\",\n",
    "        \"f1_scores\",\n",
    "        \"precision\",\n",
    "        \"recall\",\n",
    "        \"valid_f1\",\n",
    "        \"valid_f1_scores\",\n",
    "        \"valid_precision\",\n",
    "        \"valid_recall\",\n",
    "        \"sig_depth\",\n",
    "        \"num_heads\",\n",
    "        \"ffn_hidden_dim\",\n",
    "        \"dropout_rate\",\n",
    "        \"learning_rate\",\n",
    "        \"seed\",\n",
    "        \"loss_function\",\n",
    "        \"k_fold\",\n",
    "        \"augmentation_type\",\n",
    "        \"hidden_dim_aug\",\n",
    "        \"comb_method\",\n",
    "        \"batch_size\",\n",
    "    ]\n",
    "]"
   ]
  },
  {
   "cell_type": "code",
   "execution_count": 13,
   "metadata": {},
   "outputs": [
    {
     "data": {
      "text/plain": [
       "0.5413118496975763"
      ]
     },
     "execution_count": 13,
     "metadata": {},
     "output_type": "execute_result"
    }
   ],
   "source": [
    "best_swmhau_network_umap_20[\"f1\"].mean()"
   ]
  },
  {
   "cell_type": "code",
   "execution_count": 14,
   "metadata": {},
   "outputs": [
    {
     "data": {
      "text/plain": [
       "0.5310719302727974"
      ]
     },
     "execution_count": 14,
     "metadata": {},
     "output_type": "execute_result"
    }
   ],
   "source": [
    "best_swmhau_network_umap_20[\"precision\"].mean()"
   ]
  },
  {
   "cell_type": "code",
   "execution_count": 15,
   "metadata": {},
   "outputs": [
    {
     "data": {
      "text/plain": [
       "0.5540683802435522"
      ]
     },
     "execution_count": 15,
     "metadata": {},
     "output_type": "execute_result"
    }
   ],
   "source": [
    "best_swmhau_network_umap_20[\"recall\"].mean()"
   ]
  },
  {
   "cell_type": "code",
   "execution_count": 16,
   "metadata": {},
   "outputs": [
    {
     "data": {
      "text/plain": [
       "array([0.88762655, 0.44351007, 0.29279892])"
      ]
     },
     "execution_count": 16,
     "metadata": {},
     "output_type": "execute_result"
    }
   ],
   "source": [
    "np.stack(best_swmhau_network_umap_20[\"f1_scores\"]).mean(axis=0)"
   ]
  },
  {
   "cell_type": "code",
   "execution_count": 17,
   "metadata": {},
   "outputs": [
    {
     "data": {
      "text/plain": [
       "array([0.89961691, 0.41176063, 0.28183825])"
      ]
     },
     "execution_count": 17,
     "metadata": {},
     "output_type": "execute_result"
    }
   ],
   "source": [
    "np.stack(best_swmhau_network_umap_20[\"precision_scores\"]).mean(axis=0)"
   ]
  },
  {
   "cell_type": "code",
   "execution_count": 18,
   "metadata": {},
   "outputs": [
    {
     "data": {
      "text/plain": [
       "array([0.87595517, 0.48082011, 0.30542986])"
      ]
     },
     "execution_count": 18,
     "metadata": {},
     "output_type": "execute_result"
    }
   ],
   "source": [
    "np.stack(best_swmhau_network_umap_20[\"recall_scores\"]).mean(axis=0)"
   ]
  }
 ],
 "metadata": {
  "interpreter": {
   "hash": "b2013b70f5165546ff531eadcfc35b64307c3717f205ea3ff61fa34bab89c803"
  },
  "kernelspec": {
   "display_name": "Python 3.8.17 ('nlpsig-networks')",
   "language": "python",
   "name": "python3"
  },
  "language_info": {
   "codemirror_mode": {
    "name": "ipython",
    "version": 3
   },
   "file_extension": ".py",
   "mimetype": "text/x-python",
   "name": "python",
   "nbconvert_exporter": "python",
   "pygments_lexer": "ipython3",
   "version": "3.8.17"
  },
  "orig_nbformat": 4
 },
 "nbformat": 4,
 "nbformat_minor": 2
}
