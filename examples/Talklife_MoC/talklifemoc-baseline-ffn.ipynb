{
 "cells": [
  {
   "cell_type": "code",
   "execution_count": 1,
   "metadata": {},
   "outputs": [],
   "source": [
    "import pickle\n",
    "import numpy as np\n",
    "import pandas as pd\n",
    "import re\n",
    "import os\n",
    "\n",
    "seed = 2023"
   ]
  },
  {
   "cell_type": "code",
   "execution_count": 2,
   "metadata": {},
   "outputs": [
    {
     "data": {
      "text/plain": [
       "device(type='cuda')"
      ]
     },
     "execution_count": 2,
     "metadata": {},
     "output_type": "execute_result"
    }
   ],
   "source": [
    "import torch\n",
    "\n",
    "# set device\n",
    "device = torch.device(\"cuda\" if torch.cuda.is_available() else \"cpu\")\n",
    "device"
   ]
  },
  {
   "cell_type": "code",
   "execution_count": 3,
   "metadata": {},
   "outputs": [],
   "source": [
    "from nlpsig_networks.scripts.ffn_baseline_functions import (\n",
    "    ffn_hyperparameter_search,\n",
    ")"
   ]
  },
  {
   "cell_type": "code",
   "execution_count": 4,
   "metadata": {},
   "outputs": [],
   "source": [
    "output_dir = \"talklife_moc_output\"\n",
    "if not os.path.isdir(output_dir):\n",
    "    os.makedirs(output_dir)"
   ]
  },
  {
   "cell_type": "markdown",
   "metadata": {},
   "source": [
    "Talklife MoC"
   ]
  },
  {
   "cell_type": "code",
   "execution_count": 5,
   "metadata": {},
   "outputs": [],
   "source": [
    "%run load_talklifemoc.py"
   ]
  },
  {
   "cell_type": "code",
   "execution_count": 6,
   "metadata": {},
   "outputs": [],
   "source": [
    "%run load_sbert-embeddings.py"
   ]
  },
  {
   "cell_type": "code",
   "execution_count": 7,
   "metadata": {},
   "outputs": [
    {
     "data": {
      "text/plain": [
       "torch.Size([18604, 384])"
      ]
     },
     "execution_count": 7,
     "metadata": {},
     "output_type": "execute_result"
    }
   ],
   "source": [
    "sbert_embeddings.shape"
   ]
  },
  {
   "cell_type": "markdown",
   "metadata": {},
   "source": [
    "Baseline: FFN"
   ]
  },
  {
   "cell_type": "code",
   "execution_count": 8,
   "metadata": {},
   "outputs": [],
   "source": [
    "num_epochs = 100\n",
    "hidden_dim_sizes = [[64, 64], [128, 128], [256, 256], [512, 512]]\n",
    "dropout_rates = [0.1, 0.2]\n",
    "learning_rates = [1e-3, 1e-4, 5e-4]\n",
    "seeds = [1, 12, 123]\n",
    "loss = \"focal\"\n",
    "gamma = 2\n",
    "validation_metric = \"f1\"\n",
    "patience = 5"
   ]
  },
  {
   "cell_type": "code",
   "execution_count": 9,
   "metadata": {},
   "outputs": [],
   "source": [
    "# create indices for kfold\n",
    "fold_col_names = [c for c in df.columns if \"fold\" in c]\n",
    "fold_list = []\n",
    "for foldc in fold_col_names:\n",
    "    fold_list.append(\n",
    "        (\n",
    "            df[df[foldc] == \"train\"].index,\n",
    "            df[df[foldc] == \"dev\"].index,\n",
    "            df[df[foldc] == \"test\"].index,\n",
    "        )\n",
    "    )\n",
    "fold_list = tuple(fold_list)"
   ]
  },
  {
   "cell_type": "code",
   "execution_count": 10,
   "metadata": {},
   "outputs": [
    {
     "data": {
      "application/vnd.jupyter.widget-view+json": {
       "model_id": "cc62c5cd357548cfaaf14cd7c3e369da",
       "version_major": 2,
       "version_minor": 0
      },
      "text/plain": [
       "  0%|          | 0/4 [00:00<?, ?it/s]"
      ]
     },
     "metadata": {},
     "output_type": "display_data"
    },
    {
     "data": {
      "application/vnd.jupyter.widget-view+json": {
       "model_id": "65514ef38f3441e2a3dabccb4ecf8647",
       "version_major": 2,
       "version_minor": 0
      },
      "text/plain": [
       "  0%|          | 0/2 [00:00<?, ?it/s]"
      ]
     },
     "metadata": {},
     "output_type": "display_data"
    },
    {
     "data": {
      "application/vnd.jupyter.widget-view+json": {
       "model_id": "764244f09cde4a73862453dc71fe4f59",
       "version_major": 2,
       "version_minor": 0
      },
      "text/plain": [
       "  0%|          | 0/3 [00:00<?, ?it/s]"
      ]
     },
     "metadata": {},
     "output_type": "display_data"
    },
    {
     "data": {
      "application/vnd.jupyter.widget-view+json": {
       "model_id": "f09696f72f9a4170809f99f2068d5a13",
       "version_major": 2,
       "version_minor": 0
      },
      "text/plain": [
       "  0%|          | 0/3 [00:00<?, ?it/s]"
      ]
     },
     "metadata": {},
     "output_type": "display_data"
    },
    {
     "data": {
      "application/vnd.jupyter.widget-view+json": {
       "model_id": "0b2ea35744b3463ea4c9802c157f1d9b",
       "version_major": 2,
       "version_minor": 0
      },
      "text/plain": [
       "  0%|          | 0/2 [00:00<?, ?it/s]"
      ]
     },
     "metadata": {},
     "output_type": "display_data"
    },
    {
     "data": {
      "application/vnd.jupyter.widget-view+json": {
       "model_id": "7ce7028f419541fe9419a448a814f6f9",
       "version_major": 2,
       "version_minor": 0
      },
      "text/plain": [
       "  0%|          | 0/3 [00:00<?, ?it/s]"
      ]
     },
     "metadata": {},
     "output_type": "display_data"
    },
    {
     "data": {
      "application/vnd.jupyter.widget-view+json": {
       "model_id": "05aedacd09e9434085473a95b1782c8f",
       "version_major": 2,
       "version_minor": 0
      },
      "text/plain": [
       "  0%|          | 0/3 [00:00<?, ?it/s]"
      ]
     },
     "metadata": {},
     "output_type": "display_data"
    },
    {
     "data": {
      "application/vnd.jupyter.widget-view+json": {
       "model_id": "21fe591f4af14209bd9e3abf8e6a7ed9",
       "version_major": 2,
       "version_minor": 0
      },
      "text/plain": [
       "  0%|          | 0/2 [00:00<?, ?it/s]"
      ]
     },
     "metadata": {},
     "output_type": "display_data"
    },
    {
     "data": {
      "application/vnd.jupyter.widget-view+json": {
       "model_id": "0ecc21a63830429b84228e079c52043b",
       "version_major": 2,
       "version_minor": 0
      },
      "text/plain": [
       "  0%|          | 0/3 [00:00<?, ?it/s]"
      ]
     },
     "metadata": {},
     "output_type": "display_data"
    },
    {
     "data": {
      "application/vnd.jupyter.widget-view+json": {
       "model_id": "ebd5adc3597f40b68ec2afb00af94d60",
       "version_major": 2,
       "version_minor": 0
      },
      "text/plain": [
       "  0%|          | 0/3 [00:00<?, ?it/s]"
      ]
     },
     "metadata": {},
     "output_type": "display_data"
    },
    {
     "data": {
      "application/vnd.jupyter.widget-view+json": {
       "model_id": "c11ce01ad04b4bd2884e573edf843f88",
       "version_major": 2,
       "version_minor": 0
      },
      "text/plain": [
       "  0%|          | 0/2 [00:00<?, ?it/s]"
      ]
     },
     "metadata": {},
     "output_type": "display_data"
    },
    {
     "data": {
      "application/vnd.jupyter.widget-view+json": {
       "model_id": "4af8ddde315f42c39427f16cbce45c8a",
       "version_major": 2,
       "version_minor": 0
      },
      "text/plain": [
       "  0%|          | 0/3 [00:00<?, ?it/s]"
      ]
     },
     "metadata": {},
     "output_type": "display_data"
    },
    {
     "data": {
      "application/vnd.jupyter.widget-view+json": {
       "model_id": "3cae519bf4ec48e998ad6444cc53bc78",
       "version_major": 2,
       "version_minor": 0
      },
      "text/plain": [
       "  0%|          | 0/3 [00:00<?, ?it/s]"
      ]
     },
     "metadata": {},
     "output_type": "display_data"
    },
    {
     "name": "stdout",
     "output_type": "stream",
     "text": [
      "saving results dataframe to CSV for this hyperparameter search in talklife_moc_output/ffn_current_focal_2.csv\n",
      "saving the best model results dataframe to CSV for this hyperparameter search in talklife_moc_output/ffn_current_focal_2_best_model.csv\n"
     ]
    }
   ],
   "source": [
    "ffn_current, best_ffn_current, _, __ = ffn_hyperparameter_search(\n",
    "    num_epochs=num_epochs,\n",
    "    x_data=sbert_embeddings,\n",
    "    y_data=y_data,\n",
    "    hidden_dim_sizes=hidden_dim_sizes,\n",
    "    output_dim=output_dim,\n",
    "    dropout_rates=dropout_rates,\n",
    "    learning_rates=learning_rates,\n",
    "    seeds=seeds,\n",
    "    loss=loss,\n",
    "    gamma=gamma,\n",
    "    device=device,\n",
    "    split_ids=None,\n",
    "    split_indices=fold_list,\n",
    "    k_fold=True,\n",
    "    patience=patience,\n",
    "    validation_metric=validation_metric,\n",
    "    results_output=f\"{output_dir}/ffn_current_focal_{gamma}.csv\",\n",
    "    verbose=False,\n",
    ")"
   ]
  },
  {
   "cell_type": "code",
   "execution_count": 11,
   "metadata": {},
   "outputs": [
    {
     "data": {
      "text/html": [
       "<div>\n",
       "<style scoped>\n",
       "    .dataframe tbody tr th:only-of-type {\n",
       "        vertical-align: middle;\n",
       "    }\n",
       "\n",
       "    .dataframe tbody tr th {\n",
       "        vertical-align: top;\n",
       "    }\n",
       "\n",
       "    .dataframe thead th {\n",
       "        text-align: right;\n",
       "    }\n",
       "</style>\n",
       "<table border=\"1\" class=\"dataframe\">\n",
       "  <thead>\n",
       "    <tr style=\"text-align: right;\">\n",
       "      <th></th>\n",
       "      <th>loss</th>\n",
       "      <th>accuracy</th>\n",
       "      <th>f1</th>\n",
       "      <th>f1_scores</th>\n",
       "      <th>precision</th>\n",
       "      <th>precision_scores</th>\n",
       "      <th>recall</th>\n",
       "      <th>recall_scores</th>\n",
       "      <th>valid_loss</th>\n",
       "      <th>valid_accuracy</th>\n",
       "      <th>...</th>\n",
       "      <th>valid_recall_scores</th>\n",
       "      <th>hidden_dim</th>\n",
       "      <th>dropout_rate</th>\n",
       "      <th>learning_rate</th>\n",
       "      <th>seed</th>\n",
       "      <th>loss_function</th>\n",
       "      <th>gamma</th>\n",
       "      <th>k_fold</th>\n",
       "      <th>n_splits</th>\n",
       "      <th>batch_size</th>\n",
       "    </tr>\n",
       "  </thead>\n",
       "  <tbody>\n",
       "    <tr>\n",
       "      <th>0</th>\n",
       "      <td>None</td>\n",
       "      <td>0.811976</td>\n",
       "      <td>0.534763</td>\n",
       "      <td>[0.8914839985960882, 0.4354008335376317, 0.277...</td>\n",
       "      <td>0.532724</td>\n",
       "      <td>[0.8933938735051481, 0.43044110518662143, 0.27...</td>\n",
       "      <td>0.536867</td>\n",
       "      <td>[0.8895822720326032, 0.44047619047619047, 0.28...</td>\n",
       "      <td>None</td>\n",
       "      <td>0.805552</td>\n",
       "      <td>...</td>\n",
       "      <td>[0.882609341720739, 0.454336147352264, 0.27006...</td>\n",
       "      <td>(256, 256)</td>\n",
       "      <td>0.2</td>\n",
       "      <td>0.0001</td>\n",
       "      <td>1</td>\n",
       "      <td>focal</td>\n",
       "      <td>2</td>\n",
       "      <td>True</td>\n",
       "      <td>5</td>\n",
       "      <td>64</td>\n",
       "    </tr>\n",
       "    <tr>\n",
       "      <th>0</th>\n",
       "      <td>None</td>\n",
       "      <td>0.809073</td>\n",
       "      <td>0.535849</td>\n",
       "      <td>[0.8894868345185469, 0.43799472295514513, 0.28...</td>\n",
       "      <td>0.530379</td>\n",
       "      <td>[0.894933608353745, 0.42405945192754296, 0.272...</td>\n",
       "      <td>0.541815</td>\n",
       "      <td>[0.8841059602649006, 0.45287698412698413, 0.28...</td>\n",
       "      <td>None</td>\n",
       "      <td>0.804927</td>\n",
       "      <td>...</td>\n",
       "      <td>[0.878101936698202, 0.47889485801995396, 0.280...</td>\n",
       "      <td>(256, 256)</td>\n",
       "      <td>0.2</td>\n",
       "      <td>0.0001</td>\n",
       "      <td>12</td>\n",
       "      <td>focal</td>\n",
       "      <td>2</td>\n",
       "      <td>True</td>\n",
       "      <td>5</td>\n",
       "      <td>64</td>\n",
       "    </tr>\n",
       "    <tr>\n",
       "      <th>0</th>\n",
       "      <td>None</td>\n",
       "      <td>0.806278</td>\n",
       "      <td>0.533401</td>\n",
       "      <td>[0.8875971481790738, 0.4386336866902238, 0.273...</td>\n",
       "      <td>0.526237</td>\n",
       "      <td>[0.8953608915381625, 0.417676087931808, 0.2656...</td>\n",
       "      <td>0.541526</td>\n",
       "      <td>[0.8799668874172185, 0.4618055555555556, 0.282...</td>\n",
       "      <td>None</td>\n",
       "      <td>0.799633</td>\n",
       "      <td>...</td>\n",
       "      <td>[0.8720590420526029, 0.4800460475825019, 0.273...</td>\n",
       "      <td>(256, 256)</td>\n",
       "      <td>0.2</td>\n",
       "      <td>0.0001</td>\n",
       "      <td>123</td>\n",
       "      <td>focal</td>\n",
       "      <td>2</td>\n",
       "      <td>True</td>\n",
       "      <td>5</td>\n",
       "      <td>64</td>\n",
       "    </tr>\n",
       "  </tbody>\n",
       "</table>\n",
       "<p>3 rows × 25 columns</p>\n",
       "</div>"
      ],
      "text/plain": [
       "   loss  accuracy        f1  \\\n",
       "0  None  0.811976  0.534763   \n",
       "0  None  0.809073  0.535849   \n",
       "0  None  0.806278  0.533401   \n",
       "\n",
       "                                           f1_scores  precision  \\\n",
       "0  [0.8914839985960882, 0.4354008335376317, 0.277...   0.532724   \n",
       "0  [0.8894868345185469, 0.43799472295514513, 0.28...   0.530379   \n",
       "0  [0.8875971481790738, 0.4386336866902238, 0.273...   0.526237   \n",
       "\n",
       "                                    precision_scores    recall  \\\n",
       "0  [0.8933938735051481, 0.43044110518662143, 0.27...  0.536867   \n",
       "0  [0.894933608353745, 0.42405945192754296, 0.272...  0.541815   \n",
       "0  [0.8953608915381625, 0.417676087931808, 0.2656...  0.541526   \n",
       "\n",
       "                                       recall_scores valid_loss  \\\n",
       "0  [0.8895822720326032, 0.44047619047619047, 0.28...       None   \n",
       "0  [0.8841059602649006, 0.45287698412698413, 0.28...       None   \n",
       "0  [0.8799668874172185, 0.4618055555555556, 0.282...       None   \n",
       "\n",
       "   valid_accuracy  ...                                valid_recall_scores  \\\n",
       "0        0.805552  ...  [0.882609341720739, 0.454336147352264, 0.27006...   \n",
       "0        0.804927  ...  [0.878101936698202, 0.47889485801995396, 0.280...   \n",
       "0        0.799633  ...  [0.8720590420526029, 0.4800460475825019, 0.273...   \n",
       "\n",
       "   hidden_dim  dropout_rate learning_rate  seed loss_function gamma  k_fold  \\\n",
       "0  (256, 256)           0.2        0.0001     1         focal     2    True   \n",
       "0  (256, 256)           0.2        0.0001    12         focal     2    True   \n",
       "0  (256, 256)           0.2        0.0001   123         focal     2    True   \n",
       "\n",
       "   n_splits  batch_size  \n",
       "0         5          64  \n",
       "0         5          64  \n",
       "0         5          64  \n",
       "\n",
       "[3 rows x 25 columns]"
      ]
     },
     "execution_count": 11,
     "metadata": {},
     "output_type": "execute_result"
    }
   ],
   "source": [
    "best_ffn_current"
   ]
  },
  {
   "cell_type": "code",
   "execution_count": 20,
   "metadata": {},
   "outputs": [
    {
     "data": {
      "text/html": [
       "<div>\n",
       "<style scoped>\n",
       "    .dataframe tbody tr th:only-of-type {\n",
       "        vertical-align: middle;\n",
       "    }\n",
       "\n",
       "    .dataframe tbody tr th {\n",
       "        vertical-align: top;\n",
       "    }\n",
       "\n",
       "    .dataframe thead th {\n",
       "        text-align: right;\n",
       "    }\n",
       "</style>\n",
       "<table border=\"1\" class=\"dataframe\">\n",
       "  <thead>\n",
       "    <tr style=\"text-align: right;\">\n",
       "      <th></th>\n",
       "      <th>f1</th>\n",
       "      <th>f1_scores</th>\n",
       "      <th>precision</th>\n",
       "      <th>recall</th>\n",
       "      <th>valid_f1</th>\n",
       "      <th>valid_f1_scores</th>\n",
       "      <th>valid_precision</th>\n",
       "      <th>valid_recall</th>\n",
       "      <th>hidden_dim</th>\n",
       "      <th>dropout_rate</th>\n",
       "      <th>learning_rate</th>\n",
       "      <th>seed</th>\n",
       "      <th>loss_function</th>\n",
       "      <th>k_fold</th>\n",
       "      <th>batch_size</th>\n",
       "    </tr>\n",
       "  </thead>\n",
       "  <tbody>\n",
       "    <tr>\n",
       "      <th>0</th>\n",
       "      <td>0.534763</td>\n",
       "      <td>[0.8914839985960882, 0.4354008335376317, 0.277...</td>\n",
       "      <td>0.532724</td>\n",
       "      <td>0.536867</td>\n",
       "      <td>0.531947</td>\n",
       "      <td>[0.8871353181320323, 0.4334614680578437, 0.275...</td>\n",
       "      <td>0.528918</td>\n",
       "      <td>0.535671</td>\n",
       "      <td>(256, 256)</td>\n",
       "      <td>0.2</td>\n",
       "      <td>0.0001</td>\n",
       "      <td>1</td>\n",
       "      <td>focal</td>\n",
       "      <td>True</td>\n",
       "      <td>64</td>\n",
       "    </tr>\n",
       "    <tr>\n",
       "      <th>0</th>\n",
       "      <td>0.535849</td>\n",
       "      <td>[0.8894868345185469, 0.43799472295514513, 0.28...</td>\n",
       "      <td>0.530379</td>\n",
       "      <td>0.541815</td>\n",
       "      <td>0.537895</td>\n",
       "      <td>[0.8861563070155707, 0.44731182795698926, 0.28...</td>\n",
       "      <td>0.531444</td>\n",
       "      <td>0.545699</td>\n",
       "      <td>(256, 256)</td>\n",
       "      <td>0.2</td>\n",
       "      <td>0.0001</td>\n",
       "      <td>12</td>\n",
       "      <td>focal</td>\n",
       "      <td>True</td>\n",
       "      <td>64</td>\n",
       "    </tr>\n",
       "    <tr>\n",
       "      <th>0</th>\n",
       "      <td>0.533401</td>\n",
       "      <td>[0.8875971481790738, 0.4386336866902238, 0.273...</td>\n",
       "      <td>0.526237</td>\n",
       "      <td>0.541526</td>\n",
       "      <td>0.531445</td>\n",
       "      <td>[0.8828381597091639, 0.4395643007730147, 0.271...</td>\n",
       "      <td>0.523246</td>\n",
       "      <td>0.541839</td>\n",
       "      <td>(256, 256)</td>\n",
       "      <td>0.2</td>\n",
       "      <td>0.0001</td>\n",
       "      <td>123</td>\n",
       "      <td>focal</td>\n",
       "      <td>True</td>\n",
       "      <td>64</td>\n",
       "    </tr>\n",
       "  </tbody>\n",
       "</table>\n",
       "</div>"
      ],
      "text/plain": [
       "         f1                                          f1_scores  precision  \\\n",
       "0  0.534763  [0.8914839985960882, 0.4354008335376317, 0.277...   0.532724   \n",
       "0  0.535849  [0.8894868345185469, 0.43799472295514513, 0.28...   0.530379   \n",
       "0  0.533401  [0.8875971481790738, 0.4386336866902238, 0.273...   0.526237   \n",
       "\n",
       "     recall  valid_f1                                    valid_f1_scores  \\\n",
       "0  0.536867  0.531947  [0.8871353181320323, 0.4334614680578437, 0.275...   \n",
       "0  0.541815  0.537895  [0.8861563070155707, 0.44731182795698926, 0.28...   \n",
       "0  0.541526  0.531445  [0.8828381597091639, 0.4395643007730147, 0.271...   \n",
       "\n",
       "   valid_precision  valid_recall  hidden_dim  dropout_rate  learning_rate  \\\n",
       "0         0.528918      0.535671  (256, 256)           0.2         0.0001   \n",
       "0         0.531444      0.545699  (256, 256)           0.2         0.0001   \n",
       "0         0.523246      0.541839  (256, 256)           0.2         0.0001   \n",
       "\n",
       "   seed loss_function  k_fold  batch_size  \n",
       "0     1         focal    True          64  \n",
       "0    12         focal    True          64  \n",
       "0   123         focal    True          64  "
      ]
     },
     "execution_count": 20,
     "metadata": {},
     "output_type": "execute_result"
    }
   ],
   "source": [
    "best_ffn_current[\n",
    "    [\n",
    "        \"f1\",\n",
    "        \"f1_scores\",\n",
    "        \"precision\",\n",
    "        \"recall\",\n",
    "        \"valid_f1\",\n",
    "        \"valid_f1_scores\",\n",
    "        \"valid_precision\",\n",
    "        \"valid_recall\",\n",
    "        \"hidden_dim\",\n",
    "        \"dropout_rate\",\n",
    "        \"learning_rate\",\n",
    "        \"seed\",\n",
    "        \"loss_function\",\n",
    "        \"k_fold\",\n",
    "        \"batch_size\",\n",
    "    ]\n",
    "]"
   ]
  },
  {
   "cell_type": "code",
   "execution_count": 12,
   "metadata": {},
   "outputs": [
    {
     "data": {
      "text/plain": [
       "0.5346711829749976"
      ]
     },
     "execution_count": 12,
     "metadata": {},
     "output_type": "execute_result"
    }
   ],
   "source": [
    "best_ffn_current[\"f1\"].mean()"
   ]
  },
  {
   "cell_type": "code",
   "execution_count": 13,
   "metadata": {},
   "outputs": [
    {
     "data": {
      "text/plain": [
       "0.5297801399703711"
      ]
     },
     "execution_count": 13,
     "metadata": {},
     "output_type": "execute_result"
    }
   ],
   "source": [
    "best_ffn_current[\"precision\"].mean()"
   ]
  },
  {
   "cell_type": "code",
   "execution_count": 14,
   "metadata": {},
   "outputs": [
    {
     "data": {
      "text/plain": [
       "0.5400693116249538"
      ]
     },
     "execution_count": 14,
     "metadata": {},
     "output_type": "execute_result"
    }
   ],
   "source": [
    "best_ffn_current[\"recall\"].mean()"
   ]
  },
  {
   "cell_type": "code",
   "execution_count": 15,
   "metadata": {},
   "outputs": [
    {
     "data": {
      "text/plain": [
       "array([0.88952266, 0.43734308, 0.27714781])"
      ]
     },
     "execution_count": 15,
     "metadata": {},
     "output_type": "execute_result"
    }
   ],
   "source": [
    "np.stack(best_ffn_current[\"f1_scores\"]).mean(axis=0)"
   ]
  },
  {
   "cell_type": "code",
   "execution_count": 16,
   "metadata": {},
   "outputs": [
    {
     "data": {
      "text/plain": [
       "array([0.89456279, 0.42405888, 0.27071875])"
      ]
     },
     "execution_count": 16,
     "metadata": {},
     "output_type": "execute_result"
    }
   ],
   "source": [
    "np.stack(best_ffn_current[\"precision_scores\"]).mean(axis=0)"
   ]
  },
  {
   "cell_type": "code",
   "execution_count": 17,
   "metadata": {},
   "outputs": [
    {
     "data": {
      "text/plain": [
       "array([0.88455171, 0.45171958, 0.28393665])"
      ]
     },
     "execution_count": 17,
     "metadata": {},
     "output_type": "execute_result"
    }
   ],
   "source": [
    "np.stack(best_ffn_current[\"recall_scores\"]).mean(axis=0)"
   ]
  },
  {
   "cell_type": "code",
   "execution_count": null,
   "metadata": {},
   "outputs": [],
   "source": []
  }
 ],
 "metadata": {
  "interpreter": {
   "hash": "b2013b70f5165546ff531eadcfc35b64307c3717f205ea3ff61fa34bab89c803"
  },
  "kernelspec": {
   "display_name": "Python 3.8.17 ('nlpsig-networks')",
   "language": "python",
   "name": "python3"
  },
  "language_info": {
   "codemirror_mode": {
    "name": "ipython",
    "version": 3
   },
   "file_extension": ".py",
   "mimetype": "text/x-python",
   "name": "python",
   "nbconvert_exporter": "python",
   "pygments_lexer": "ipython3",
   "version": "3.8.17"
  },
  "orig_nbformat": 4
 },
 "nbformat": 4,
 "nbformat_minor": 2
}
